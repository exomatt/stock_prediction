{
 "cells": [
  {
   "cell_type": "code",
   "execution_count": 2,
   "metadata": {
    "collapsed": true
   },
   "outputs": [],
   "source": [
    "import pandas as pd\n",
    "from datetime import datetime"
   ]
  },
  {
   "cell_type": "code",
   "execution_count": 3,
   "outputs": [],
   "source": [
    "#consts\n",
    "filename= 'amzn'\n",
    "important_columns = ['Open', 'High', 'Low', 'h_l_diff','o_c_diff']"
   ],
   "metadata": {
    "collapsed": false,
    "pycharm": {
     "name": "#%%\n"
    }
   }
  },
  {
   "cell_type": "code",
   "execution_count": 4,
   "outputs": [
    {
     "data": {
      "text/plain": "         Date      Time      Open      High      Low     Close  Volume  \\\n0  2017-05-16  16:00:00  961.0000  965.4800  960.910  964.6700  431465   \n1  2017-05-16  17:00:00  964.6800  968.2000  963.180  966.6400  547131   \n2  2017-05-16  18:00:00  966.5300  967.8500  965.120  967.2850  234450   \n3  2017-05-16  19:00:00  967.1100  970.0600  966.260  967.9845  273555   \n4  2017-05-16  20:00:00  968.0232  968.7400  965.740  965.7800  170741   \n5  2017-05-16  21:00:00  965.7650  967.9200  965.570  966.9400  138878   \n6  2017-05-16  22:00:00  966.9800  967.3100  965.550  966.0700  395476   \n7  2017-05-17  16:00:00  954.7000  960.3957  952.740  956.8800  614193   \n8  2017-05-17  17:00:00  957.4200  959.6400  952.065  952.7400  529877   \n9  2017-05-17  18:00:00  952.9300  956.8800  951.110  955.7400  431709   \n\n   OpenInt  \n0        0  \n1        0  \n2        0  \n3        0  \n4        0  \n5        0  \n6        0  \n7        0  \n8        0  \n9        0  ",
      "text/html": "<div>\n<style scoped>\n    .dataframe tbody tr th:only-of-type {\n        vertical-align: middle;\n    }\n\n    .dataframe tbody tr th {\n        vertical-align: top;\n    }\n\n    .dataframe thead th {\n        text-align: right;\n    }\n</style>\n<table border=\"1\" class=\"dataframe\">\n  <thead>\n    <tr style=\"text-align: right;\">\n      <th></th>\n      <th>Date</th>\n      <th>Time</th>\n      <th>Open</th>\n      <th>High</th>\n      <th>Low</th>\n      <th>Close</th>\n      <th>Volume</th>\n      <th>OpenInt</th>\n    </tr>\n  </thead>\n  <tbody>\n    <tr>\n      <th>0</th>\n      <td>2017-05-16</td>\n      <td>16:00:00</td>\n      <td>961.0000</td>\n      <td>965.4800</td>\n      <td>960.910</td>\n      <td>964.6700</td>\n      <td>431465</td>\n      <td>0</td>\n    </tr>\n    <tr>\n      <th>1</th>\n      <td>2017-05-16</td>\n      <td>17:00:00</td>\n      <td>964.6800</td>\n      <td>968.2000</td>\n      <td>963.180</td>\n      <td>966.6400</td>\n      <td>547131</td>\n      <td>0</td>\n    </tr>\n    <tr>\n      <th>2</th>\n      <td>2017-05-16</td>\n      <td>18:00:00</td>\n      <td>966.5300</td>\n      <td>967.8500</td>\n      <td>965.120</td>\n      <td>967.2850</td>\n      <td>234450</td>\n      <td>0</td>\n    </tr>\n    <tr>\n      <th>3</th>\n      <td>2017-05-16</td>\n      <td>19:00:00</td>\n      <td>967.1100</td>\n      <td>970.0600</td>\n      <td>966.260</td>\n      <td>967.9845</td>\n      <td>273555</td>\n      <td>0</td>\n    </tr>\n    <tr>\n      <th>4</th>\n      <td>2017-05-16</td>\n      <td>20:00:00</td>\n      <td>968.0232</td>\n      <td>968.7400</td>\n      <td>965.740</td>\n      <td>965.7800</td>\n      <td>170741</td>\n      <td>0</td>\n    </tr>\n    <tr>\n      <th>5</th>\n      <td>2017-05-16</td>\n      <td>21:00:00</td>\n      <td>965.7650</td>\n      <td>967.9200</td>\n      <td>965.570</td>\n      <td>966.9400</td>\n      <td>138878</td>\n      <td>0</td>\n    </tr>\n    <tr>\n      <th>6</th>\n      <td>2017-05-16</td>\n      <td>22:00:00</td>\n      <td>966.9800</td>\n      <td>967.3100</td>\n      <td>965.550</td>\n      <td>966.0700</td>\n      <td>395476</td>\n      <td>0</td>\n    </tr>\n    <tr>\n      <th>7</th>\n      <td>2017-05-17</td>\n      <td>16:00:00</td>\n      <td>954.7000</td>\n      <td>960.3957</td>\n      <td>952.740</td>\n      <td>956.8800</td>\n      <td>614193</td>\n      <td>0</td>\n    </tr>\n    <tr>\n      <th>8</th>\n      <td>2017-05-17</td>\n      <td>17:00:00</td>\n      <td>957.4200</td>\n      <td>959.6400</td>\n      <td>952.065</td>\n      <td>952.7400</td>\n      <td>529877</td>\n      <td>0</td>\n    </tr>\n    <tr>\n      <th>9</th>\n      <td>2017-05-17</td>\n      <td>18:00:00</td>\n      <td>952.9300</td>\n      <td>956.8800</td>\n      <td>951.110</td>\n      <td>955.7400</td>\n      <td>431709</td>\n      <td>0</td>\n    </tr>\n  </tbody>\n</table>\n</div>"
     },
     "execution_count": 4,
     "metadata": {},
     "output_type": "execute_result"
    }
   ],
   "source": [
    "df = pd.read_csv(f'../data/1 Hour/Stocks/{filename}.us.txt')\n",
    "\n",
    "df.head(10)"
   ],
   "metadata": {
    "collapsed": false,
    "pycharm": {
     "name": "#%%\n"
    }
   }
  },
  {
   "cell_type": "code",
   "execution_count": 5,
   "outputs": [
    {
     "name": "stdout",
     "output_type": "stream",
     "text": [
      "<class 'pandas.core.frame.DataFrame'>\n",
      "RangeIndex: 996 entries, 0 to 995\n",
      "Data columns (total 8 columns):\n",
      " #   Column   Non-Null Count  Dtype  \n",
      "---  ------   --------------  -----  \n",
      " 0   Date     996 non-null    object \n",
      " 1   Time     996 non-null    object \n",
      " 2   Open     996 non-null    float64\n",
      " 3   High     996 non-null    float64\n",
      " 4   Low      996 non-null    float64\n",
      " 5   Close    996 non-null    float64\n",
      " 6   Volume   996 non-null    int64  \n",
      " 7   OpenInt  996 non-null    int64  \n",
      "dtypes: float64(4), int64(2), object(2)\n",
      "memory usage: 62.4+ KB\n"
     ]
    }
   ],
   "source": [
    "df.info()"
   ],
   "metadata": {
    "collapsed": false,
    "pycharm": {
     "name": "#%%\n"
    }
   }
  },
  {
   "cell_type": "code",
   "execution_count": 6,
   "outputs": [
    {
     "data": {
      "text/plain": "              Open         High          Low        Close        Volume  \\\ncount   996.000000   996.000000   996.000000   996.000000  9.960000e+02   \nmean   1013.804472  1016.399947  1010.773325  1013.686946  3.639487e+05   \nstd      64.605894    65.068594    64.317439    64.768326  2.812579e+05   \nmin     934.720000   937.959000   927.000000   934.890000  7.527400e+04   \n25%     971.035000   973.662500   968.000000   970.497500  1.765002e+05   \n50%     991.451550   993.579350   988.300000   991.183100  2.999535e+05   \n75%    1019.440275  1022.537500  1015.265000  1020.852500  4.588695e+05   \nmax    1205.300000  1213.410000  1203.320000  1205.000000  2.832317e+06   \n\n       OpenInt  \ncount    996.0  \nmean       0.0  \nstd        0.0  \nmin        0.0  \n25%        0.0  \n50%        0.0  \n75%        0.0  \nmax        0.0  ",
      "text/html": "<div>\n<style scoped>\n    .dataframe tbody tr th:only-of-type {\n        vertical-align: middle;\n    }\n\n    .dataframe tbody tr th {\n        vertical-align: top;\n    }\n\n    .dataframe thead th {\n        text-align: right;\n    }\n</style>\n<table border=\"1\" class=\"dataframe\">\n  <thead>\n    <tr style=\"text-align: right;\">\n      <th></th>\n      <th>Open</th>\n      <th>High</th>\n      <th>Low</th>\n      <th>Close</th>\n      <th>Volume</th>\n      <th>OpenInt</th>\n    </tr>\n  </thead>\n  <tbody>\n    <tr>\n      <th>count</th>\n      <td>996.000000</td>\n      <td>996.000000</td>\n      <td>996.000000</td>\n      <td>996.000000</td>\n      <td>9.960000e+02</td>\n      <td>996.0</td>\n    </tr>\n    <tr>\n      <th>mean</th>\n      <td>1013.804472</td>\n      <td>1016.399947</td>\n      <td>1010.773325</td>\n      <td>1013.686946</td>\n      <td>3.639487e+05</td>\n      <td>0.0</td>\n    </tr>\n    <tr>\n      <th>std</th>\n      <td>64.605894</td>\n      <td>65.068594</td>\n      <td>64.317439</td>\n      <td>64.768326</td>\n      <td>2.812579e+05</td>\n      <td>0.0</td>\n    </tr>\n    <tr>\n      <th>min</th>\n      <td>934.720000</td>\n      <td>937.959000</td>\n      <td>927.000000</td>\n      <td>934.890000</td>\n      <td>7.527400e+04</td>\n      <td>0.0</td>\n    </tr>\n    <tr>\n      <th>25%</th>\n      <td>971.035000</td>\n      <td>973.662500</td>\n      <td>968.000000</td>\n      <td>970.497500</td>\n      <td>1.765002e+05</td>\n      <td>0.0</td>\n    </tr>\n    <tr>\n      <th>50%</th>\n      <td>991.451550</td>\n      <td>993.579350</td>\n      <td>988.300000</td>\n      <td>991.183100</td>\n      <td>2.999535e+05</td>\n      <td>0.0</td>\n    </tr>\n    <tr>\n      <th>75%</th>\n      <td>1019.440275</td>\n      <td>1022.537500</td>\n      <td>1015.265000</td>\n      <td>1020.852500</td>\n      <td>4.588695e+05</td>\n      <td>0.0</td>\n    </tr>\n    <tr>\n      <th>max</th>\n      <td>1205.300000</td>\n      <td>1213.410000</td>\n      <td>1203.320000</td>\n      <td>1205.000000</td>\n      <td>2.832317e+06</td>\n      <td>0.0</td>\n    </tr>\n  </tbody>\n</table>\n</div>"
     },
     "execution_count": 6,
     "metadata": {},
     "output_type": "execute_result"
    }
   ],
   "source": [
    "df.describe()"
   ],
   "metadata": {
    "collapsed": false,
    "pycharm": {
     "name": "#%%\n"
    }
   }
  },
  {
   "cell_type": "code",
   "execution_count": 7,
   "outputs": [],
   "source": [
    "df = df.drop('OpenInt',1)"
   ],
   "metadata": {
    "collapsed": false,
    "pycharm": {
     "name": "#%%\n"
    }
   }
  },
  {
   "cell_type": "code",
   "execution_count": 8,
   "outputs": [
    {
     "data": {
      "text/plain": "         Date      Time      Open      High      Low     Close  Volume\n0  2017-05-16  16:00:00  961.0000  965.4800  960.910  964.6700  431465\n1  2017-05-16  17:00:00  964.6800  968.2000  963.180  966.6400  547131\n2  2017-05-16  18:00:00  966.5300  967.8500  965.120  967.2850  234450\n3  2017-05-16  19:00:00  967.1100  970.0600  966.260  967.9845  273555\n4  2017-05-16  20:00:00  968.0232  968.7400  965.740  965.7800  170741\n5  2017-05-16  21:00:00  965.7650  967.9200  965.570  966.9400  138878\n6  2017-05-16  22:00:00  966.9800  967.3100  965.550  966.0700  395476\n7  2017-05-17  16:00:00  954.7000  960.3957  952.740  956.8800  614193\n8  2017-05-17  17:00:00  957.4200  959.6400  952.065  952.7400  529877\n9  2017-05-17  18:00:00  952.9300  956.8800  951.110  955.7400  431709",
      "text/html": "<div>\n<style scoped>\n    .dataframe tbody tr th:only-of-type {\n        vertical-align: middle;\n    }\n\n    .dataframe tbody tr th {\n        vertical-align: top;\n    }\n\n    .dataframe thead th {\n        text-align: right;\n    }\n</style>\n<table border=\"1\" class=\"dataframe\">\n  <thead>\n    <tr style=\"text-align: right;\">\n      <th></th>\n      <th>Date</th>\n      <th>Time</th>\n      <th>Open</th>\n      <th>High</th>\n      <th>Low</th>\n      <th>Close</th>\n      <th>Volume</th>\n    </tr>\n  </thead>\n  <tbody>\n    <tr>\n      <th>0</th>\n      <td>2017-05-16</td>\n      <td>16:00:00</td>\n      <td>961.0000</td>\n      <td>965.4800</td>\n      <td>960.910</td>\n      <td>964.6700</td>\n      <td>431465</td>\n    </tr>\n    <tr>\n      <th>1</th>\n      <td>2017-05-16</td>\n      <td>17:00:00</td>\n      <td>964.6800</td>\n      <td>968.2000</td>\n      <td>963.180</td>\n      <td>966.6400</td>\n      <td>547131</td>\n    </tr>\n    <tr>\n      <th>2</th>\n      <td>2017-05-16</td>\n      <td>18:00:00</td>\n      <td>966.5300</td>\n      <td>967.8500</td>\n      <td>965.120</td>\n      <td>967.2850</td>\n      <td>234450</td>\n    </tr>\n    <tr>\n      <th>3</th>\n      <td>2017-05-16</td>\n      <td>19:00:00</td>\n      <td>967.1100</td>\n      <td>970.0600</td>\n      <td>966.260</td>\n      <td>967.9845</td>\n      <td>273555</td>\n    </tr>\n    <tr>\n      <th>4</th>\n      <td>2017-05-16</td>\n      <td>20:00:00</td>\n      <td>968.0232</td>\n      <td>968.7400</td>\n      <td>965.740</td>\n      <td>965.7800</td>\n      <td>170741</td>\n    </tr>\n    <tr>\n      <th>5</th>\n      <td>2017-05-16</td>\n      <td>21:00:00</td>\n      <td>965.7650</td>\n      <td>967.9200</td>\n      <td>965.570</td>\n      <td>966.9400</td>\n      <td>138878</td>\n    </tr>\n    <tr>\n      <th>6</th>\n      <td>2017-05-16</td>\n      <td>22:00:00</td>\n      <td>966.9800</td>\n      <td>967.3100</td>\n      <td>965.550</td>\n      <td>966.0700</td>\n      <td>395476</td>\n    </tr>\n    <tr>\n      <th>7</th>\n      <td>2017-05-17</td>\n      <td>16:00:00</td>\n      <td>954.7000</td>\n      <td>960.3957</td>\n      <td>952.740</td>\n      <td>956.8800</td>\n      <td>614193</td>\n    </tr>\n    <tr>\n      <th>8</th>\n      <td>2017-05-17</td>\n      <td>17:00:00</td>\n      <td>957.4200</td>\n      <td>959.6400</td>\n      <td>952.065</td>\n      <td>952.7400</td>\n      <td>529877</td>\n    </tr>\n    <tr>\n      <th>9</th>\n      <td>2017-05-17</td>\n      <td>18:00:00</td>\n      <td>952.9300</td>\n      <td>956.8800</td>\n      <td>951.110</td>\n      <td>955.7400</td>\n      <td>431709</td>\n    </tr>\n  </tbody>\n</table>\n</div>"
     },
     "execution_count": 8,
     "metadata": {},
     "output_type": "execute_result"
    }
   ],
   "source": [
    "df.head(10)"
   ],
   "metadata": {
    "collapsed": false,
    "pycharm": {
     "name": "#%%\n"
    }
   }
  },
  {
   "cell_type": "code",
   "execution_count": 9,
   "outputs": [
    {
     "data": {
      "text/plain": "         Date      Time      Open      High      Low     Close  Volume  \\\n0  2017-05-16  16:00:00  961.0000  965.4800  960.910  964.6700  431465   \n1  2017-05-16  17:00:00  964.6800  968.2000  963.180  966.6400  547131   \n2  2017-05-16  18:00:00  966.5300  967.8500  965.120  967.2850  234450   \n3  2017-05-16  19:00:00  967.1100  970.0600  966.260  967.9845  273555   \n4  2017-05-16  20:00:00  968.0232  968.7400  965.740  965.7800  170741   \n5  2017-05-16  21:00:00  965.7650  967.9200  965.570  966.9400  138878   \n6  2017-05-16  22:00:00  966.9800  967.3100  965.550  966.0700  395476   \n7  2017-05-17  16:00:00  954.7000  960.3957  952.740  956.8800  614193   \n8  2017-05-17  17:00:00  957.4200  959.6400  952.065  952.7400  529877   \n9  2017-05-17  18:00:00  952.9300  956.8800  951.110  955.7400  431709   \n\n   Close_diff  \n0         NaN  \n1      1.9700  \n2      0.6450  \n3      0.6995  \n4     -2.2045  \n5      1.1600  \n6     -0.8700  \n7     -9.1900  \n8     -4.1400  \n9      3.0000  ",
      "text/html": "<div>\n<style scoped>\n    .dataframe tbody tr th:only-of-type {\n        vertical-align: middle;\n    }\n\n    .dataframe tbody tr th {\n        vertical-align: top;\n    }\n\n    .dataframe thead th {\n        text-align: right;\n    }\n</style>\n<table border=\"1\" class=\"dataframe\">\n  <thead>\n    <tr style=\"text-align: right;\">\n      <th></th>\n      <th>Date</th>\n      <th>Time</th>\n      <th>Open</th>\n      <th>High</th>\n      <th>Low</th>\n      <th>Close</th>\n      <th>Volume</th>\n      <th>Close_diff</th>\n    </tr>\n  </thead>\n  <tbody>\n    <tr>\n      <th>0</th>\n      <td>2017-05-16</td>\n      <td>16:00:00</td>\n      <td>961.0000</td>\n      <td>965.4800</td>\n      <td>960.910</td>\n      <td>964.6700</td>\n      <td>431465</td>\n      <td>NaN</td>\n    </tr>\n    <tr>\n      <th>1</th>\n      <td>2017-05-16</td>\n      <td>17:00:00</td>\n      <td>964.6800</td>\n      <td>968.2000</td>\n      <td>963.180</td>\n      <td>966.6400</td>\n      <td>547131</td>\n      <td>1.9700</td>\n    </tr>\n    <tr>\n      <th>2</th>\n      <td>2017-05-16</td>\n      <td>18:00:00</td>\n      <td>966.5300</td>\n      <td>967.8500</td>\n      <td>965.120</td>\n      <td>967.2850</td>\n      <td>234450</td>\n      <td>0.6450</td>\n    </tr>\n    <tr>\n      <th>3</th>\n      <td>2017-05-16</td>\n      <td>19:00:00</td>\n      <td>967.1100</td>\n      <td>970.0600</td>\n      <td>966.260</td>\n      <td>967.9845</td>\n      <td>273555</td>\n      <td>0.6995</td>\n    </tr>\n    <tr>\n      <th>4</th>\n      <td>2017-05-16</td>\n      <td>20:00:00</td>\n      <td>968.0232</td>\n      <td>968.7400</td>\n      <td>965.740</td>\n      <td>965.7800</td>\n      <td>170741</td>\n      <td>-2.2045</td>\n    </tr>\n    <tr>\n      <th>5</th>\n      <td>2017-05-16</td>\n      <td>21:00:00</td>\n      <td>965.7650</td>\n      <td>967.9200</td>\n      <td>965.570</td>\n      <td>966.9400</td>\n      <td>138878</td>\n      <td>1.1600</td>\n    </tr>\n    <tr>\n      <th>6</th>\n      <td>2017-05-16</td>\n      <td>22:00:00</td>\n      <td>966.9800</td>\n      <td>967.3100</td>\n      <td>965.550</td>\n      <td>966.0700</td>\n      <td>395476</td>\n      <td>-0.8700</td>\n    </tr>\n    <tr>\n      <th>7</th>\n      <td>2017-05-17</td>\n      <td>16:00:00</td>\n      <td>954.7000</td>\n      <td>960.3957</td>\n      <td>952.740</td>\n      <td>956.8800</td>\n      <td>614193</td>\n      <td>-9.1900</td>\n    </tr>\n    <tr>\n      <th>8</th>\n      <td>2017-05-17</td>\n      <td>17:00:00</td>\n      <td>957.4200</td>\n      <td>959.6400</td>\n      <td>952.065</td>\n      <td>952.7400</td>\n      <td>529877</td>\n      <td>-4.1400</td>\n    </tr>\n    <tr>\n      <th>9</th>\n      <td>2017-05-17</td>\n      <td>18:00:00</td>\n      <td>952.9300</td>\n      <td>956.8800</td>\n      <td>951.110</td>\n      <td>955.7400</td>\n      <td>431709</td>\n      <td>3.0000</td>\n    </tr>\n  </tbody>\n</table>\n</div>"
     },
     "execution_count": 9,
     "metadata": {},
     "output_type": "execute_result"
    }
   ],
   "source": [
    "df['Close_diff'] = df['Close'].diff()\n",
    "df.head(10)"
   ],
   "metadata": {
    "collapsed": false,
    "pycharm": {
     "name": "#%%\n"
    }
   }
  },
  {
   "cell_type": "code",
   "execution_count": 10,
   "outputs": [
    {
     "data": {
      "text/plain": "              Open         High          Low        Close        Volume  \\\ncount   996.000000   996.000000   996.000000   996.000000  9.960000e+02   \nmean   1013.804472  1016.399947  1010.773325  1013.686946  3.639487e+05   \nstd      64.605894    65.068594    64.317439    64.768326  2.812579e+05   \nmin     934.720000   937.959000   927.000000   934.890000  7.527400e+04   \n25%     971.035000   973.662500   968.000000   970.497500  1.765002e+05   \n50%     991.451550   993.579350   988.300000   991.183100  2.999535e+05   \n75%    1019.440275  1022.537500  1015.265000  1020.852500  4.588695e+05   \nmax    1205.300000  1213.410000  1203.320000  1205.000000  2.832317e+06   \n\n       Close_diff  \ncount  995.000000  \nmean     0.189217  \nstd      5.523665  \nmin    -37.128000  \n25%     -1.680000  \n50%      0.160000  \n75%      1.980000  \nmax     97.516400  ",
      "text/html": "<div>\n<style scoped>\n    .dataframe tbody tr th:only-of-type {\n        vertical-align: middle;\n    }\n\n    .dataframe tbody tr th {\n        vertical-align: top;\n    }\n\n    .dataframe thead th {\n        text-align: right;\n    }\n</style>\n<table border=\"1\" class=\"dataframe\">\n  <thead>\n    <tr style=\"text-align: right;\">\n      <th></th>\n      <th>Open</th>\n      <th>High</th>\n      <th>Low</th>\n      <th>Close</th>\n      <th>Volume</th>\n      <th>Close_diff</th>\n    </tr>\n  </thead>\n  <tbody>\n    <tr>\n      <th>count</th>\n      <td>996.000000</td>\n      <td>996.000000</td>\n      <td>996.000000</td>\n      <td>996.000000</td>\n      <td>9.960000e+02</td>\n      <td>995.000000</td>\n    </tr>\n    <tr>\n      <th>mean</th>\n      <td>1013.804472</td>\n      <td>1016.399947</td>\n      <td>1010.773325</td>\n      <td>1013.686946</td>\n      <td>3.639487e+05</td>\n      <td>0.189217</td>\n    </tr>\n    <tr>\n      <th>std</th>\n      <td>64.605894</td>\n      <td>65.068594</td>\n      <td>64.317439</td>\n      <td>64.768326</td>\n      <td>2.812579e+05</td>\n      <td>5.523665</td>\n    </tr>\n    <tr>\n      <th>min</th>\n      <td>934.720000</td>\n      <td>937.959000</td>\n      <td>927.000000</td>\n      <td>934.890000</td>\n      <td>7.527400e+04</td>\n      <td>-37.128000</td>\n    </tr>\n    <tr>\n      <th>25%</th>\n      <td>971.035000</td>\n      <td>973.662500</td>\n      <td>968.000000</td>\n      <td>970.497500</td>\n      <td>1.765002e+05</td>\n      <td>-1.680000</td>\n    </tr>\n    <tr>\n      <th>50%</th>\n      <td>991.451550</td>\n      <td>993.579350</td>\n      <td>988.300000</td>\n      <td>991.183100</td>\n      <td>2.999535e+05</td>\n      <td>0.160000</td>\n    </tr>\n    <tr>\n      <th>75%</th>\n      <td>1019.440275</td>\n      <td>1022.537500</td>\n      <td>1015.265000</td>\n      <td>1020.852500</td>\n      <td>4.588695e+05</td>\n      <td>1.980000</td>\n    </tr>\n    <tr>\n      <th>max</th>\n      <td>1205.300000</td>\n      <td>1213.410000</td>\n      <td>1203.320000</td>\n      <td>1205.000000</td>\n      <td>2.832317e+06</td>\n      <td>97.516400</td>\n    </tr>\n  </tbody>\n</table>\n</div>"
     },
     "execution_count": 10,
     "metadata": {},
     "output_type": "execute_result"
    }
   ],
   "source": [
    "df.describe()"
   ],
   "metadata": {
    "collapsed": false,
    "pycharm": {
     "name": "#%%\n"
    }
   }
  },
  {
   "cell_type": "code",
   "execution_count": 11,
   "outputs": [],
   "source": [
    "def create_class_column(row):\n",
    "    if row['Close_diff'] > 0.24:\n",
    "        return 1\n",
    "    if row['Close_diff'] < -0.14:\n",
    "        return -1\n",
    "    else:\n",
    "        return 0\n",
    "\n",
    "def create_daily_mean_column(row, groupData, col_name):\n",
    "    return float(groupData.loc[(dateGroups['Date'] == row['Date'])][col_name])\n",
    "\n",
    "def calculate_diffs(diff_number, col_name):\n",
    "    new_col_name = f'{col_name}_{diff_number}'\n",
    "    df[new_col_name] = df[col_name].diff(diff_number)"
   ],
   "metadata": {
    "collapsed": false,
    "pycharm": {
     "name": "#%%\n"
    }
   }
  },
  {
   "cell_type": "code",
   "execution_count": 12,
   "outputs": [
    {
     "data": {
      "text/plain": "         Date      Time      Open      High      Low     Close  Volume  \\\n0  2017-05-16  16:00:00  961.0000  965.4800  960.910  964.6700  431465   \n1  2017-05-16  17:00:00  964.6800  968.2000  963.180  966.6400  547131   \n2  2017-05-16  18:00:00  966.5300  967.8500  965.120  967.2850  234450   \n3  2017-05-16  19:00:00  967.1100  970.0600  966.260  967.9845  273555   \n4  2017-05-16  20:00:00  968.0232  968.7400  965.740  965.7800  170741   \n5  2017-05-16  21:00:00  965.7650  967.9200  965.570  966.9400  138878   \n6  2017-05-16  22:00:00  966.9800  967.3100  965.550  966.0700  395476   \n7  2017-05-17  16:00:00  954.7000  960.3957  952.740  956.8800  614193   \n8  2017-05-17  17:00:00  957.4200  959.6400  952.065  952.7400  529877   \n9  2017-05-17  18:00:00  952.9300  956.8800  951.110  955.7400  431709   \n\n   Close_diff  h_l_diff  o_c_diff  \n0         NaN    4.5700   -3.6700  \n1      1.9700    5.0200   -1.9600  \n2      0.6450    2.7300   -0.7550  \n3      0.6995    3.8000   -0.8745  \n4     -2.2045    3.0000    2.2432  \n5      1.1600    2.3500   -1.1750  \n6     -0.8700    1.7600    0.9100  \n7     -9.1900    7.6557   -2.1800  \n8     -4.1400    7.5750    4.6800  \n9      3.0000    5.7700   -2.8100  ",
      "text/html": "<div>\n<style scoped>\n    .dataframe tbody tr th:only-of-type {\n        vertical-align: middle;\n    }\n\n    .dataframe tbody tr th {\n        vertical-align: top;\n    }\n\n    .dataframe thead th {\n        text-align: right;\n    }\n</style>\n<table border=\"1\" class=\"dataframe\">\n  <thead>\n    <tr style=\"text-align: right;\">\n      <th></th>\n      <th>Date</th>\n      <th>Time</th>\n      <th>Open</th>\n      <th>High</th>\n      <th>Low</th>\n      <th>Close</th>\n      <th>Volume</th>\n      <th>Close_diff</th>\n      <th>h_l_diff</th>\n      <th>o_c_diff</th>\n    </tr>\n  </thead>\n  <tbody>\n    <tr>\n      <th>0</th>\n      <td>2017-05-16</td>\n      <td>16:00:00</td>\n      <td>961.0000</td>\n      <td>965.4800</td>\n      <td>960.910</td>\n      <td>964.6700</td>\n      <td>431465</td>\n      <td>NaN</td>\n      <td>4.5700</td>\n      <td>-3.6700</td>\n    </tr>\n    <tr>\n      <th>1</th>\n      <td>2017-05-16</td>\n      <td>17:00:00</td>\n      <td>964.6800</td>\n      <td>968.2000</td>\n      <td>963.180</td>\n      <td>966.6400</td>\n      <td>547131</td>\n      <td>1.9700</td>\n      <td>5.0200</td>\n      <td>-1.9600</td>\n    </tr>\n    <tr>\n      <th>2</th>\n      <td>2017-05-16</td>\n      <td>18:00:00</td>\n      <td>966.5300</td>\n      <td>967.8500</td>\n      <td>965.120</td>\n      <td>967.2850</td>\n      <td>234450</td>\n      <td>0.6450</td>\n      <td>2.7300</td>\n      <td>-0.7550</td>\n    </tr>\n    <tr>\n      <th>3</th>\n      <td>2017-05-16</td>\n      <td>19:00:00</td>\n      <td>967.1100</td>\n      <td>970.0600</td>\n      <td>966.260</td>\n      <td>967.9845</td>\n      <td>273555</td>\n      <td>0.6995</td>\n      <td>3.8000</td>\n      <td>-0.8745</td>\n    </tr>\n    <tr>\n      <th>4</th>\n      <td>2017-05-16</td>\n      <td>20:00:00</td>\n      <td>968.0232</td>\n      <td>968.7400</td>\n      <td>965.740</td>\n      <td>965.7800</td>\n      <td>170741</td>\n      <td>-2.2045</td>\n      <td>3.0000</td>\n      <td>2.2432</td>\n    </tr>\n    <tr>\n      <th>5</th>\n      <td>2017-05-16</td>\n      <td>21:00:00</td>\n      <td>965.7650</td>\n      <td>967.9200</td>\n      <td>965.570</td>\n      <td>966.9400</td>\n      <td>138878</td>\n      <td>1.1600</td>\n      <td>2.3500</td>\n      <td>-1.1750</td>\n    </tr>\n    <tr>\n      <th>6</th>\n      <td>2017-05-16</td>\n      <td>22:00:00</td>\n      <td>966.9800</td>\n      <td>967.3100</td>\n      <td>965.550</td>\n      <td>966.0700</td>\n      <td>395476</td>\n      <td>-0.8700</td>\n      <td>1.7600</td>\n      <td>0.9100</td>\n    </tr>\n    <tr>\n      <th>7</th>\n      <td>2017-05-17</td>\n      <td>16:00:00</td>\n      <td>954.7000</td>\n      <td>960.3957</td>\n      <td>952.740</td>\n      <td>956.8800</td>\n      <td>614193</td>\n      <td>-9.1900</td>\n      <td>7.6557</td>\n      <td>-2.1800</td>\n    </tr>\n    <tr>\n      <th>8</th>\n      <td>2017-05-17</td>\n      <td>17:00:00</td>\n      <td>957.4200</td>\n      <td>959.6400</td>\n      <td>952.065</td>\n      <td>952.7400</td>\n      <td>529877</td>\n      <td>-4.1400</td>\n      <td>7.5750</td>\n      <td>4.6800</td>\n    </tr>\n    <tr>\n      <th>9</th>\n      <td>2017-05-17</td>\n      <td>18:00:00</td>\n      <td>952.9300</td>\n      <td>956.8800</td>\n      <td>951.110</td>\n      <td>955.7400</td>\n      <td>431709</td>\n      <td>3.0000</td>\n      <td>5.7700</td>\n      <td>-2.8100</td>\n    </tr>\n  </tbody>\n</table>\n</div>"
     },
     "execution_count": 12,
     "metadata": {},
     "output_type": "execute_result"
    }
   ],
   "source": [
    "df['h_l_diff'] = df['High'] - df['Low']\n",
    "df['o_c_diff'] = df['Open'] - df['Close']\n",
    "df.head(10)\n"
   ],
   "metadata": {
    "collapsed": false,
    "pycharm": {
     "name": "#%%\n"
    }
   }
  },
  {
   "cell_type": "code",
   "execution_count": 13,
   "outputs": [
    {
     "data": {
      "text/plain": "         Date      Time      Open      High      Low     Close  Volume  \\\n0  2017-05-16  16:00:00  961.0000  965.4800  960.910  964.6700  431465   \n1  2017-05-16  17:00:00  964.6800  968.2000  963.180  966.6400  547131   \n2  2017-05-16  18:00:00  966.5300  967.8500  965.120  967.2850  234450   \n3  2017-05-16  19:00:00  967.1100  970.0600  966.260  967.9845  273555   \n4  2017-05-16  20:00:00  968.0232  968.7400  965.740  965.7800  170741   \n5  2017-05-16  21:00:00  965.7650  967.9200  965.570  966.9400  138878   \n6  2017-05-16  22:00:00  966.9800  967.3100  965.550  966.0700  395476   \n7  2017-05-17  16:00:00  954.7000  960.3957  952.740  956.8800  614193   \n8  2017-05-17  17:00:00  957.4200  959.6400  952.065  952.7400  529877   \n9  2017-05-17  18:00:00  952.9300  956.8800  951.110  955.7400  431709   \n\n   Close_diff  h_l_diff  o_c_diff  ...  o_c_diff_1  o_c_diff_2  o_c_diff_3  \\\n0         NaN    4.5700   -3.6700  ...         NaN         NaN         NaN   \n1      1.9700    5.0200   -1.9600  ...      1.7100         NaN         NaN   \n2      0.6450    2.7300   -0.7550  ...      1.2050      2.9150         NaN   \n3      0.6995    3.8000   -0.8745  ...     -0.1195      1.0855      2.7955   \n4     -2.2045    3.0000    2.2432  ...      3.1177      2.9982      4.2032   \n5      1.1600    2.3500   -1.1750  ...     -3.4182     -0.3005     -0.4200   \n6     -0.8700    1.7600    0.9100  ...      2.0850     -1.3332      1.7845   \n7     -9.1900    7.6557   -2.1800  ...     -3.0900     -1.0050     -4.4232   \n8     -4.1400    7.5750    4.6800  ...      6.8600      3.7700      5.8550   \n9      3.0000    5.7700   -2.8100  ...     -7.4900     -0.6300     -3.7200   \n\n   o_c_diff_4  o_c_diff_5  o_c_diff_6  o_c_diff_7  o_c_diff_8  o_c_diff_9  \\\n0         NaN         NaN         NaN         NaN         NaN         NaN   \n1         NaN         NaN         NaN         NaN         NaN         NaN   \n2         NaN         NaN         NaN         NaN         NaN         NaN   \n3         NaN         NaN         NaN         NaN         NaN         NaN   \n4      5.9132         NaN         NaN         NaN         NaN         NaN   \n5      0.7850      2.4950         NaN         NaN         NaN         NaN   \n6      1.6650      2.8700      4.5800         NaN         NaN         NaN   \n7     -1.3055     -1.4250     -0.2200       1.490         NaN         NaN   \n8      2.4368      5.5545      5.4350       6.640        8.35         NaN   \n9     -1.6350     -5.0532     -1.9355      -2.055       -0.85        0.86   \n\n   o_c_diff_10  \n0          NaN  \n1          NaN  \n2          NaN  \n3          NaN  \n4          NaN  \n5          NaN  \n6          NaN  \n7          NaN  \n8          NaN  \n9          NaN  \n\n[10 rows x 60 columns]",
      "text/html": "<div>\n<style scoped>\n    .dataframe tbody tr th:only-of-type {\n        vertical-align: middle;\n    }\n\n    .dataframe tbody tr th {\n        vertical-align: top;\n    }\n\n    .dataframe thead th {\n        text-align: right;\n    }\n</style>\n<table border=\"1\" class=\"dataframe\">\n  <thead>\n    <tr style=\"text-align: right;\">\n      <th></th>\n      <th>Date</th>\n      <th>Time</th>\n      <th>Open</th>\n      <th>High</th>\n      <th>Low</th>\n      <th>Close</th>\n      <th>Volume</th>\n      <th>Close_diff</th>\n      <th>h_l_diff</th>\n      <th>o_c_diff</th>\n      <th>...</th>\n      <th>o_c_diff_1</th>\n      <th>o_c_diff_2</th>\n      <th>o_c_diff_3</th>\n      <th>o_c_diff_4</th>\n      <th>o_c_diff_5</th>\n      <th>o_c_diff_6</th>\n      <th>o_c_diff_7</th>\n      <th>o_c_diff_8</th>\n      <th>o_c_diff_9</th>\n      <th>o_c_diff_10</th>\n    </tr>\n  </thead>\n  <tbody>\n    <tr>\n      <th>0</th>\n      <td>2017-05-16</td>\n      <td>16:00:00</td>\n      <td>961.0000</td>\n      <td>965.4800</td>\n      <td>960.910</td>\n      <td>964.6700</td>\n      <td>431465</td>\n      <td>NaN</td>\n      <td>4.5700</td>\n      <td>-3.6700</td>\n      <td>...</td>\n      <td>NaN</td>\n      <td>NaN</td>\n      <td>NaN</td>\n      <td>NaN</td>\n      <td>NaN</td>\n      <td>NaN</td>\n      <td>NaN</td>\n      <td>NaN</td>\n      <td>NaN</td>\n      <td>NaN</td>\n    </tr>\n    <tr>\n      <th>1</th>\n      <td>2017-05-16</td>\n      <td>17:00:00</td>\n      <td>964.6800</td>\n      <td>968.2000</td>\n      <td>963.180</td>\n      <td>966.6400</td>\n      <td>547131</td>\n      <td>1.9700</td>\n      <td>5.0200</td>\n      <td>-1.9600</td>\n      <td>...</td>\n      <td>1.7100</td>\n      <td>NaN</td>\n      <td>NaN</td>\n      <td>NaN</td>\n      <td>NaN</td>\n      <td>NaN</td>\n      <td>NaN</td>\n      <td>NaN</td>\n      <td>NaN</td>\n      <td>NaN</td>\n    </tr>\n    <tr>\n      <th>2</th>\n      <td>2017-05-16</td>\n      <td>18:00:00</td>\n      <td>966.5300</td>\n      <td>967.8500</td>\n      <td>965.120</td>\n      <td>967.2850</td>\n      <td>234450</td>\n      <td>0.6450</td>\n      <td>2.7300</td>\n      <td>-0.7550</td>\n      <td>...</td>\n      <td>1.2050</td>\n      <td>2.9150</td>\n      <td>NaN</td>\n      <td>NaN</td>\n      <td>NaN</td>\n      <td>NaN</td>\n      <td>NaN</td>\n      <td>NaN</td>\n      <td>NaN</td>\n      <td>NaN</td>\n    </tr>\n    <tr>\n      <th>3</th>\n      <td>2017-05-16</td>\n      <td>19:00:00</td>\n      <td>967.1100</td>\n      <td>970.0600</td>\n      <td>966.260</td>\n      <td>967.9845</td>\n      <td>273555</td>\n      <td>0.6995</td>\n      <td>3.8000</td>\n      <td>-0.8745</td>\n      <td>...</td>\n      <td>-0.1195</td>\n      <td>1.0855</td>\n      <td>2.7955</td>\n      <td>NaN</td>\n      <td>NaN</td>\n      <td>NaN</td>\n      <td>NaN</td>\n      <td>NaN</td>\n      <td>NaN</td>\n      <td>NaN</td>\n    </tr>\n    <tr>\n      <th>4</th>\n      <td>2017-05-16</td>\n      <td>20:00:00</td>\n      <td>968.0232</td>\n      <td>968.7400</td>\n      <td>965.740</td>\n      <td>965.7800</td>\n      <td>170741</td>\n      <td>-2.2045</td>\n      <td>3.0000</td>\n      <td>2.2432</td>\n      <td>...</td>\n      <td>3.1177</td>\n      <td>2.9982</td>\n      <td>4.2032</td>\n      <td>5.9132</td>\n      <td>NaN</td>\n      <td>NaN</td>\n      <td>NaN</td>\n      <td>NaN</td>\n      <td>NaN</td>\n      <td>NaN</td>\n    </tr>\n    <tr>\n      <th>5</th>\n      <td>2017-05-16</td>\n      <td>21:00:00</td>\n      <td>965.7650</td>\n      <td>967.9200</td>\n      <td>965.570</td>\n      <td>966.9400</td>\n      <td>138878</td>\n      <td>1.1600</td>\n      <td>2.3500</td>\n      <td>-1.1750</td>\n      <td>...</td>\n      <td>-3.4182</td>\n      <td>-0.3005</td>\n      <td>-0.4200</td>\n      <td>0.7850</td>\n      <td>2.4950</td>\n      <td>NaN</td>\n      <td>NaN</td>\n      <td>NaN</td>\n      <td>NaN</td>\n      <td>NaN</td>\n    </tr>\n    <tr>\n      <th>6</th>\n      <td>2017-05-16</td>\n      <td>22:00:00</td>\n      <td>966.9800</td>\n      <td>967.3100</td>\n      <td>965.550</td>\n      <td>966.0700</td>\n      <td>395476</td>\n      <td>-0.8700</td>\n      <td>1.7600</td>\n      <td>0.9100</td>\n      <td>...</td>\n      <td>2.0850</td>\n      <td>-1.3332</td>\n      <td>1.7845</td>\n      <td>1.6650</td>\n      <td>2.8700</td>\n      <td>4.5800</td>\n      <td>NaN</td>\n      <td>NaN</td>\n      <td>NaN</td>\n      <td>NaN</td>\n    </tr>\n    <tr>\n      <th>7</th>\n      <td>2017-05-17</td>\n      <td>16:00:00</td>\n      <td>954.7000</td>\n      <td>960.3957</td>\n      <td>952.740</td>\n      <td>956.8800</td>\n      <td>614193</td>\n      <td>-9.1900</td>\n      <td>7.6557</td>\n      <td>-2.1800</td>\n      <td>...</td>\n      <td>-3.0900</td>\n      <td>-1.0050</td>\n      <td>-4.4232</td>\n      <td>-1.3055</td>\n      <td>-1.4250</td>\n      <td>-0.2200</td>\n      <td>1.490</td>\n      <td>NaN</td>\n      <td>NaN</td>\n      <td>NaN</td>\n    </tr>\n    <tr>\n      <th>8</th>\n      <td>2017-05-17</td>\n      <td>17:00:00</td>\n      <td>957.4200</td>\n      <td>959.6400</td>\n      <td>952.065</td>\n      <td>952.7400</td>\n      <td>529877</td>\n      <td>-4.1400</td>\n      <td>7.5750</td>\n      <td>4.6800</td>\n      <td>...</td>\n      <td>6.8600</td>\n      <td>3.7700</td>\n      <td>5.8550</td>\n      <td>2.4368</td>\n      <td>5.5545</td>\n      <td>5.4350</td>\n      <td>6.640</td>\n      <td>8.35</td>\n      <td>NaN</td>\n      <td>NaN</td>\n    </tr>\n    <tr>\n      <th>9</th>\n      <td>2017-05-17</td>\n      <td>18:00:00</td>\n      <td>952.9300</td>\n      <td>956.8800</td>\n      <td>951.110</td>\n      <td>955.7400</td>\n      <td>431709</td>\n      <td>3.0000</td>\n      <td>5.7700</td>\n      <td>-2.8100</td>\n      <td>...</td>\n      <td>-7.4900</td>\n      <td>-0.6300</td>\n      <td>-3.7200</td>\n      <td>-1.6350</td>\n      <td>-5.0532</td>\n      <td>-1.9355</td>\n      <td>-2.055</td>\n      <td>-0.85</td>\n      <td>0.86</td>\n      <td>NaN</td>\n    </tr>\n  </tbody>\n</table>\n<p>10 rows × 60 columns</p>\n</div>"
     },
     "execution_count": 13,
     "metadata": {},
     "output_type": "execute_result"
    }
   ],
   "source": [
    "#diffs\n",
    "for name in important_columns:\n",
    "    for i in range(1,11):\n",
    "        calculate_diffs(i,name)\n",
    "\n",
    "df.head(10)"
   ],
   "metadata": {
    "collapsed": false,
    "pycharm": {
     "name": "#%%\n"
    }
   }
  },
  {
   "cell_type": "code",
   "execution_count": 14,
   "outputs": [
    {
     "data": {
      "text/plain": "          Date      Time      Open    High       Low     Close   Volume  \\\n10  2017-05-17  19:00:00  955.6816  958.88  953.5200  957.5690   260780   \n11  2017-05-17  20:00:00  957.6300  958.30  953.5200  953.7801   181523   \n12  2017-05-17  21:00:00  953.7100  955.55  948.1000  948.2900   467770   \n13  2017-05-17  22:00:00  948.6400  949.73  944.1200  944.7900  1090407   \n14  2017-05-18  16:00:00  944.8000  955.00  944.7600  951.8450   650889   \n15  2017-05-18  17:00:00  951.8700  959.66  951.7000  955.2100   543846   \n16  2017-05-18  18:00:00  955.3800  957.78  954.0200  954.3600   212850   \n17  2017-05-18  19:00:00  954.5245  956.00  951.2069  955.4300   295354   \n18  2017-05-18  20:00:00  955.4502  959.04  954.4600  957.7500   158194   \n19  2017-05-18  21:00:00  957.9000  962.75  957.9000  960.0222   413588   \n\n    Close_diff  h_l_diff  o_c_diff  ...  o_c_diff_1  o_c_diff_2  o_c_diff_3  \\\n10      1.8290    5.3600   -1.8874  ...      0.9226     -6.5674      0.2926   \n11     -3.7889    4.7800    3.8499  ...      5.7373      6.6599     -0.8301   \n12     -5.4901    7.4500    5.4200  ...      1.5701      7.3074      8.2300   \n13     -3.5000    5.6100    3.8500  ...     -1.5700      0.0001      5.7374   \n14      7.0550   10.2400   -7.0450  ...    -10.8950    -12.4650    -10.8949   \n15      3.3650    7.9600   -3.3400  ...      3.7050     -7.1900     -8.7600   \n16     -0.8500    3.7600    1.0200  ...      4.3600      8.0650     -2.8300   \n17      1.0700    4.7931   -0.9055  ...     -1.9255      2.4345      6.1395   \n18      2.3200    4.5800   -2.2998  ...     -1.3943     -3.3198      1.0402   \n19      2.2722    4.8500   -2.1222  ...      0.1776     -1.2167     -3.1422   \n\n    o_c_diff_4  o_c_diff_5  o_c_diff_6  o_c_diff_7  o_c_diff_8  o_c_diff_9  \\\n10     -2.7974     -0.7124     -4.1306     -1.0129     -1.1324      0.0726   \n11      6.0299      2.9399      5.0249      1.6067      4.7244      4.6049   \n12      0.7400      7.6000      4.5100      6.5950      3.1768      6.2945   \n13      6.6600     -0.8300      6.0300      2.9400      5.0250      1.6068   \n14     -5.1576     -4.2350    -11.7250     -4.8650     -7.9550     -5.8700   \n15     -7.1899     -1.4526     -0.5300     -8.0200     -1.1600     -4.2500   \n16     -4.4000     -2.8299      2.9074      3.8300     -3.6600      3.2000   \n17     -4.7555     -6.3255     -4.7554      0.9819      1.9045     -5.5855   \n18      4.7452     -6.1498     -7.7198     -6.1497     -0.4124      0.5102   \n19      1.2178      4.9228     -5.9722     -7.5422     -5.9721     -0.2348   \n\n    o_c_diff_10  \n10       1.7826  \n11       5.8099  \n12       6.1750  \n13       4.7245  \n14      -9.2882  \n15      -2.1650  \n16       0.1100  \n17       1.2745  \n18      -6.9798  \n19       0.6878  \n\n[10 rows x 60 columns]",
      "text/html": "<div>\n<style scoped>\n    .dataframe tbody tr th:only-of-type {\n        vertical-align: middle;\n    }\n\n    .dataframe tbody tr th {\n        vertical-align: top;\n    }\n\n    .dataframe thead th {\n        text-align: right;\n    }\n</style>\n<table border=\"1\" class=\"dataframe\">\n  <thead>\n    <tr style=\"text-align: right;\">\n      <th></th>\n      <th>Date</th>\n      <th>Time</th>\n      <th>Open</th>\n      <th>High</th>\n      <th>Low</th>\n      <th>Close</th>\n      <th>Volume</th>\n      <th>Close_diff</th>\n      <th>h_l_diff</th>\n      <th>o_c_diff</th>\n      <th>...</th>\n      <th>o_c_diff_1</th>\n      <th>o_c_diff_2</th>\n      <th>o_c_diff_3</th>\n      <th>o_c_diff_4</th>\n      <th>o_c_diff_5</th>\n      <th>o_c_diff_6</th>\n      <th>o_c_diff_7</th>\n      <th>o_c_diff_8</th>\n      <th>o_c_diff_9</th>\n      <th>o_c_diff_10</th>\n    </tr>\n  </thead>\n  <tbody>\n    <tr>\n      <th>10</th>\n      <td>2017-05-17</td>\n      <td>19:00:00</td>\n      <td>955.6816</td>\n      <td>958.88</td>\n      <td>953.5200</td>\n      <td>957.5690</td>\n      <td>260780</td>\n      <td>1.8290</td>\n      <td>5.3600</td>\n      <td>-1.8874</td>\n      <td>...</td>\n      <td>0.9226</td>\n      <td>-6.5674</td>\n      <td>0.2926</td>\n      <td>-2.7974</td>\n      <td>-0.7124</td>\n      <td>-4.1306</td>\n      <td>-1.0129</td>\n      <td>-1.1324</td>\n      <td>0.0726</td>\n      <td>1.7826</td>\n    </tr>\n    <tr>\n      <th>11</th>\n      <td>2017-05-17</td>\n      <td>20:00:00</td>\n      <td>957.6300</td>\n      <td>958.30</td>\n      <td>953.5200</td>\n      <td>953.7801</td>\n      <td>181523</td>\n      <td>-3.7889</td>\n      <td>4.7800</td>\n      <td>3.8499</td>\n      <td>...</td>\n      <td>5.7373</td>\n      <td>6.6599</td>\n      <td>-0.8301</td>\n      <td>6.0299</td>\n      <td>2.9399</td>\n      <td>5.0249</td>\n      <td>1.6067</td>\n      <td>4.7244</td>\n      <td>4.6049</td>\n      <td>5.8099</td>\n    </tr>\n    <tr>\n      <th>12</th>\n      <td>2017-05-17</td>\n      <td>21:00:00</td>\n      <td>953.7100</td>\n      <td>955.55</td>\n      <td>948.1000</td>\n      <td>948.2900</td>\n      <td>467770</td>\n      <td>-5.4901</td>\n      <td>7.4500</td>\n      <td>5.4200</td>\n      <td>...</td>\n      <td>1.5701</td>\n      <td>7.3074</td>\n      <td>8.2300</td>\n      <td>0.7400</td>\n      <td>7.6000</td>\n      <td>4.5100</td>\n      <td>6.5950</td>\n      <td>3.1768</td>\n      <td>6.2945</td>\n      <td>6.1750</td>\n    </tr>\n    <tr>\n      <th>13</th>\n      <td>2017-05-17</td>\n      <td>22:00:00</td>\n      <td>948.6400</td>\n      <td>949.73</td>\n      <td>944.1200</td>\n      <td>944.7900</td>\n      <td>1090407</td>\n      <td>-3.5000</td>\n      <td>5.6100</td>\n      <td>3.8500</td>\n      <td>...</td>\n      <td>-1.5700</td>\n      <td>0.0001</td>\n      <td>5.7374</td>\n      <td>6.6600</td>\n      <td>-0.8300</td>\n      <td>6.0300</td>\n      <td>2.9400</td>\n      <td>5.0250</td>\n      <td>1.6068</td>\n      <td>4.7245</td>\n    </tr>\n    <tr>\n      <th>14</th>\n      <td>2017-05-18</td>\n      <td>16:00:00</td>\n      <td>944.8000</td>\n      <td>955.00</td>\n      <td>944.7600</td>\n      <td>951.8450</td>\n      <td>650889</td>\n      <td>7.0550</td>\n      <td>10.2400</td>\n      <td>-7.0450</td>\n      <td>...</td>\n      <td>-10.8950</td>\n      <td>-12.4650</td>\n      <td>-10.8949</td>\n      <td>-5.1576</td>\n      <td>-4.2350</td>\n      <td>-11.7250</td>\n      <td>-4.8650</td>\n      <td>-7.9550</td>\n      <td>-5.8700</td>\n      <td>-9.2882</td>\n    </tr>\n    <tr>\n      <th>15</th>\n      <td>2017-05-18</td>\n      <td>17:00:00</td>\n      <td>951.8700</td>\n      <td>959.66</td>\n      <td>951.7000</td>\n      <td>955.2100</td>\n      <td>543846</td>\n      <td>3.3650</td>\n      <td>7.9600</td>\n      <td>-3.3400</td>\n      <td>...</td>\n      <td>3.7050</td>\n      <td>-7.1900</td>\n      <td>-8.7600</td>\n      <td>-7.1899</td>\n      <td>-1.4526</td>\n      <td>-0.5300</td>\n      <td>-8.0200</td>\n      <td>-1.1600</td>\n      <td>-4.2500</td>\n      <td>-2.1650</td>\n    </tr>\n    <tr>\n      <th>16</th>\n      <td>2017-05-18</td>\n      <td>18:00:00</td>\n      <td>955.3800</td>\n      <td>957.78</td>\n      <td>954.0200</td>\n      <td>954.3600</td>\n      <td>212850</td>\n      <td>-0.8500</td>\n      <td>3.7600</td>\n      <td>1.0200</td>\n      <td>...</td>\n      <td>4.3600</td>\n      <td>8.0650</td>\n      <td>-2.8300</td>\n      <td>-4.4000</td>\n      <td>-2.8299</td>\n      <td>2.9074</td>\n      <td>3.8300</td>\n      <td>-3.6600</td>\n      <td>3.2000</td>\n      <td>0.1100</td>\n    </tr>\n    <tr>\n      <th>17</th>\n      <td>2017-05-18</td>\n      <td>19:00:00</td>\n      <td>954.5245</td>\n      <td>956.00</td>\n      <td>951.2069</td>\n      <td>955.4300</td>\n      <td>295354</td>\n      <td>1.0700</td>\n      <td>4.7931</td>\n      <td>-0.9055</td>\n      <td>...</td>\n      <td>-1.9255</td>\n      <td>2.4345</td>\n      <td>6.1395</td>\n      <td>-4.7555</td>\n      <td>-6.3255</td>\n      <td>-4.7554</td>\n      <td>0.9819</td>\n      <td>1.9045</td>\n      <td>-5.5855</td>\n      <td>1.2745</td>\n    </tr>\n    <tr>\n      <th>18</th>\n      <td>2017-05-18</td>\n      <td>20:00:00</td>\n      <td>955.4502</td>\n      <td>959.04</td>\n      <td>954.4600</td>\n      <td>957.7500</td>\n      <td>158194</td>\n      <td>2.3200</td>\n      <td>4.5800</td>\n      <td>-2.2998</td>\n      <td>...</td>\n      <td>-1.3943</td>\n      <td>-3.3198</td>\n      <td>1.0402</td>\n      <td>4.7452</td>\n      <td>-6.1498</td>\n      <td>-7.7198</td>\n      <td>-6.1497</td>\n      <td>-0.4124</td>\n      <td>0.5102</td>\n      <td>-6.9798</td>\n    </tr>\n    <tr>\n      <th>19</th>\n      <td>2017-05-18</td>\n      <td>21:00:00</td>\n      <td>957.9000</td>\n      <td>962.75</td>\n      <td>957.9000</td>\n      <td>960.0222</td>\n      <td>413588</td>\n      <td>2.2722</td>\n      <td>4.8500</td>\n      <td>-2.1222</td>\n      <td>...</td>\n      <td>0.1776</td>\n      <td>-1.2167</td>\n      <td>-3.1422</td>\n      <td>1.2178</td>\n      <td>4.9228</td>\n      <td>-5.9722</td>\n      <td>-7.5422</td>\n      <td>-5.9721</td>\n      <td>-0.2348</td>\n      <td>0.6878</td>\n    </tr>\n  </tbody>\n</table>\n<p>10 rows × 60 columns</p>\n</div>"
     },
     "execution_count": 14,
     "metadata": {},
     "output_type": "execute_result"
    }
   ],
   "source": [
    "# delete nulls rows\n",
    "df = df.dropna()\n",
    "df.head(10)"
   ],
   "metadata": {
    "collapsed": false,
    "pycharm": {
     "name": "#%%\n"
    }
   }
  },
  {
   "cell_type": "code",
   "execution_count": 15,
   "outputs": [
    {
     "name": "stdout",
     "output_type": "stream",
     "text": [
      "<class 'pandas.core.frame.DataFrame'>\n",
      "Int64Index: 986 entries, 10 to 995\n",
      "Data columns (total 60 columns):\n",
      " #   Column       Non-Null Count  Dtype  \n",
      "---  ------       --------------  -----  \n",
      " 0   Date         986 non-null    object \n",
      " 1   Time         986 non-null    object \n",
      " 2   Open         986 non-null    float64\n",
      " 3   High         986 non-null    float64\n",
      " 4   Low          986 non-null    float64\n",
      " 5   Close        986 non-null    float64\n",
      " 6   Volume       986 non-null    int64  \n",
      " 7   Close_diff   986 non-null    float64\n",
      " 8   h_l_diff     986 non-null    float64\n",
      " 9   o_c_diff     986 non-null    float64\n",
      " 10  Open_1       986 non-null    float64\n",
      " 11  Open_2       986 non-null    float64\n",
      " 12  Open_3       986 non-null    float64\n",
      " 13  Open_4       986 non-null    float64\n",
      " 14  Open_5       986 non-null    float64\n",
      " 15  Open_6       986 non-null    float64\n",
      " 16  Open_7       986 non-null    float64\n",
      " 17  Open_8       986 non-null    float64\n",
      " 18  Open_9       986 non-null    float64\n",
      " 19  Open_10      986 non-null    float64\n",
      " 20  High_1       986 non-null    float64\n",
      " 21  High_2       986 non-null    float64\n",
      " 22  High_3       986 non-null    float64\n",
      " 23  High_4       986 non-null    float64\n",
      " 24  High_5       986 non-null    float64\n",
      " 25  High_6       986 non-null    float64\n",
      " 26  High_7       986 non-null    float64\n",
      " 27  High_8       986 non-null    float64\n",
      " 28  High_9       986 non-null    float64\n",
      " 29  High_10      986 non-null    float64\n",
      " 30  Low_1        986 non-null    float64\n",
      " 31  Low_2        986 non-null    float64\n",
      " 32  Low_3        986 non-null    float64\n",
      " 33  Low_4        986 non-null    float64\n",
      " 34  Low_5        986 non-null    float64\n",
      " 35  Low_6        986 non-null    float64\n",
      " 36  Low_7        986 non-null    float64\n",
      " 37  Low_8        986 non-null    float64\n",
      " 38  Low_9        986 non-null    float64\n",
      " 39  Low_10       986 non-null    float64\n",
      " 40  h_l_diff_1   986 non-null    float64\n",
      " 41  h_l_diff_2   986 non-null    float64\n",
      " 42  h_l_diff_3   986 non-null    float64\n",
      " 43  h_l_diff_4   986 non-null    float64\n",
      " 44  h_l_diff_5   986 non-null    float64\n",
      " 45  h_l_diff_6   986 non-null    float64\n",
      " 46  h_l_diff_7   986 non-null    float64\n",
      " 47  h_l_diff_8   986 non-null    float64\n",
      " 48  h_l_diff_9   986 non-null    float64\n",
      " 49  h_l_diff_10  986 non-null    float64\n",
      " 50  o_c_diff_1   986 non-null    float64\n",
      " 51  o_c_diff_2   986 non-null    float64\n",
      " 52  o_c_diff_3   986 non-null    float64\n",
      " 53  o_c_diff_4   986 non-null    float64\n",
      " 54  o_c_diff_5   986 non-null    float64\n",
      " 55  o_c_diff_6   986 non-null    float64\n",
      " 56  o_c_diff_7   986 non-null    float64\n",
      " 57  o_c_diff_8   986 non-null    float64\n",
      " 58  o_c_diff_9   986 non-null    float64\n",
      " 59  o_c_diff_10  986 non-null    float64\n",
      "dtypes: float64(57), int64(1), object(2)\n",
      "memory usage: 469.9+ KB\n"
     ]
    }
   ],
   "source": [
    "df.info()"
   ],
   "metadata": {
    "collapsed": false,
    "pycharm": {
     "name": "#%%\n"
    }
   }
  },
  {
   "cell_type": "code",
   "execution_count": 16,
   "outputs": [
    {
     "data": {
      "text/plain": "              Open         High          Low        Close        Volume  \\\ncount   986.000000   986.000000   986.000000   986.000000  9.860000e+02   \nmean   1014.324661  1016.918734  1011.279906  1014.200273  3.638189e+05   \nstd      64.722711    65.191120    64.442068    64.891917  2.822385e+05   \nmin     934.720000   937.959000   927.000000   934.890000  7.527400e+04   \n25%     971.557500   974.062500   968.305000   971.245250  1.764468e+05   \n50%     991.762800   993.907650   988.715000   991.367700  2.989275e+05   \n75%    1021.863350  1023.782500  1019.047500  1022.435000  4.583820e+05   \nmax    1205.300000  1213.410000  1203.320000  1205.000000  2.832317e+06   \n\n       Close_diff    h_l_diff    o_c_diff      Open_1      Open_2  ...  \\\ncount  986.000000  986.000000  986.000000  986.000000  986.000000  ...   \nmean     0.200001    5.638829    0.124388    0.203357    0.399006  ...   \nstd      5.537290    4.122371    3.999937    5.308200    7.794314  ...   \nmin    -37.128000    0.650000  -17.630000  -35.636000  -41.870000  ...   \n25%     -1.676250    3.064275   -1.690000   -1.750000   -2.810000  ...   \n50%      0.152350    4.627000    0.007500    0.104650    0.335000  ...   \n75%      1.980000    6.903000    1.752500    2.202325    3.568750  ...   \nmax     97.516400   60.390000   28.060000   77.280000   90.170000  ...   \n\n       o_c_diff_1  o_c_diff_2  o_c_diff_3  o_c_diff_4  o_c_diff_5  o_c_diff_6  \\\ncount  986.000000  986.000000  986.000000  986.000000  986.000000  986.000000   \nmean     0.003356   -0.004291   -0.007844   -0.003797   -0.000136   -0.008521   \nstd      5.534917    5.745373    5.524982    5.436998    5.473888    5.706784   \nmin    -37.624700  -31.029800  -32.983400  -32.385800  -29.117800  -42.525000   \n25%     -2.692500   -2.767700   -2.542400   -2.885000   -2.730200   -2.628125   \n50%      0.238700    0.107500    0.120200   -0.054950   -0.148550    0.164250   \n75%      2.928325    2.820525    2.909300    3.063750    2.845075    2.949000   \nmax     38.090000   35.440100   26.129500   31.450000   27.490000   27.465000   \n\n       o_c_diff_7  o_c_diff_8  o_c_diff_9  o_c_diff_10  \ncount  986.000000  986.000000  986.000000   986.000000  \nmean    -0.015971   -0.017041   -0.006199    -0.005094  \nstd      5.789285    5.590183    5.624580     5.677101  \nmin    -36.160000  -29.387000  -26.880000   -28.079800  \n25%     -2.740525   -2.640000   -2.916975    -2.914600  \n50%      0.092250    0.014850    0.231200    -0.012050  \n75%      2.803125    2.784875    2.941250     2.831200  \nmax     28.760000   26.690000   29.619600    35.440000  \n\n[8 rows x 58 columns]",
      "text/html": "<div>\n<style scoped>\n    .dataframe tbody tr th:only-of-type {\n        vertical-align: middle;\n    }\n\n    .dataframe tbody tr th {\n        vertical-align: top;\n    }\n\n    .dataframe thead th {\n        text-align: right;\n    }\n</style>\n<table border=\"1\" class=\"dataframe\">\n  <thead>\n    <tr style=\"text-align: right;\">\n      <th></th>\n      <th>Open</th>\n      <th>High</th>\n      <th>Low</th>\n      <th>Close</th>\n      <th>Volume</th>\n      <th>Close_diff</th>\n      <th>h_l_diff</th>\n      <th>o_c_diff</th>\n      <th>Open_1</th>\n      <th>Open_2</th>\n      <th>...</th>\n      <th>o_c_diff_1</th>\n      <th>o_c_diff_2</th>\n      <th>o_c_diff_3</th>\n      <th>o_c_diff_4</th>\n      <th>o_c_diff_5</th>\n      <th>o_c_diff_6</th>\n      <th>o_c_diff_7</th>\n      <th>o_c_diff_8</th>\n      <th>o_c_diff_9</th>\n      <th>o_c_diff_10</th>\n    </tr>\n  </thead>\n  <tbody>\n    <tr>\n      <th>count</th>\n      <td>986.000000</td>\n      <td>986.000000</td>\n      <td>986.000000</td>\n      <td>986.000000</td>\n      <td>9.860000e+02</td>\n      <td>986.000000</td>\n      <td>986.000000</td>\n      <td>986.000000</td>\n      <td>986.000000</td>\n      <td>986.000000</td>\n      <td>...</td>\n      <td>986.000000</td>\n      <td>986.000000</td>\n      <td>986.000000</td>\n      <td>986.000000</td>\n      <td>986.000000</td>\n      <td>986.000000</td>\n      <td>986.000000</td>\n      <td>986.000000</td>\n      <td>986.000000</td>\n      <td>986.000000</td>\n    </tr>\n    <tr>\n      <th>mean</th>\n      <td>1014.324661</td>\n      <td>1016.918734</td>\n      <td>1011.279906</td>\n      <td>1014.200273</td>\n      <td>3.638189e+05</td>\n      <td>0.200001</td>\n      <td>5.638829</td>\n      <td>0.124388</td>\n      <td>0.203357</td>\n      <td>0.399006</td>\n      <td>...</td>\n      <td>0.003356</td>\n      <td>-0.004291</td>\n      <td>-0.007844</td>\n      <td>-0.003797</td>\n      <td>-0.000136</td>\n      <td>-0.008521</td>\n      <td>-0.015971</td>\n      <td>-0.017041</td>\n      <td>-0.006199</td>\n      <td>-0.005094</td>\n    </tr>\n    <tr>\n      <th>std</th>\n      <td>64.722711</td>\n      <td>65.191120</td>\n      <td>64.442068</td>\n      <td>64.891917</td>\n      <td>2.822385e+05</td>\n      <td>5.537290</td>\n      <td>4.122371</td>\n      <td>3.999937</td>\n      <td>5.308200</td>\n      <td>7.794314</td>\n      <td>...</td>\n      <td>5.534917</td>\n      <td>5.745373</td>\n      <td>5.524982</td>\n      <td>5.436998</td>\n      <td>5.473888</td>\n      <td>5.706784</td>\n      <td>5.789285</td>\n      <td>5.590183</td>\n      <td>5.624580</td>\n      <td>5.677101</td>\n    </tr>\n    <tr>\n      <th>min</th>\n      <td>934.720000</td>\n      <td>937.959000</td>\n      <td>927.000000</td>\n      <td>934.890000</td>\n      <td>7.527400e+04</td>\n      <td>-37.128000</td>\n      <td>0.650000</td>\n      <td>-17.630000</td>\n      <td>-35.636000</td>\n      <td>-41.870000</td>\n      <td>...</td>\n      <td>-37.624700</td>\n      <td>-31.029800</td>\n      <td>-32.983400</td>\n      <td>-32.385800</td>\n      <td>-29.117800</td>\n      <td>-42.525000</td>\n      <td>-36.160000</td>\n      <td>-29.387000</td>\n      <td>-26.880000</td>\n      <td>-28.079800</td>\n    </tr>\n    <tr>\n      <th>25%</th>\n      <td>971.557500</td>\n      <td>974.062500</td>\n      <td>968.305000</td>\n      <td>971.245250</td>\n      <td>1.764468e+05</td>\n      <td>-1.676250</td>\n      <td>3.064275</td>\n      <td>-1.690000</td>\n      <td>-1.750000</td>\n      <td>-2.810000</td>\n      <td>...</td>\n      <td>-2.692500</td>\n      <td>-2.767700</td>\n      <td>-2.542400</td>\n      <td>-2.885000</td>\n      <td>-2.730200</td>\n      <td>-2.628125</td>\n      <td>-2.740525</td>\n      <td>-2.640000</td>\n      <td>-2.916975</td>\n      <td>-2.914600</td>\n    </tr>\n    <tr>\n      <th>50%</th>\n      <td>991.762800</td>\n      <td>993.907650</td>\n      <td>988.715000</td>\n      <td>991.367700</td>\n      <td>2.989275e+05</td>\n      <td>0.152350</td>\n      <td>4.627000</td>\n      <td>0.007500</td>\n      <td>0.104650</td>\n      <td>0.335000</td>\n      <td>...</td>\n      <td>0.238700</td>\n      <td>0.107500</td>\n      <td>0.120200</td>\n      <td>-0.054950</td>\n      <td>-0.148550</td>\n      <td>0.164250</td>\n      <td>0.092250</td>\n      <td>0.014850</td>\n      <td>0.231200</td>\n      <td>-0.012050</td>\n    </tr>\n    <tr>\n      <th>75%</th>\n      <td>1021.863350</td>\n      <td>1023.782500</td>\n      <td>1019.047500</td>\n      <td>1022.435000</td>\n      <td>4.583820e+05</td>\n      <td>1.980000</td>\n      <td>6.903000</td>\n      <td>1.752500</td>\n      <td>2.202325</td>\n      <td>3.568750</td>\n      <td>...</td>\n      <td>2.928325</td>\n      <td>2.820525</td>\n      <td>2.909300</td>\n      <td>3.063750</td>\n      <td>2.845075</td>\n      <td>2.949000</td>\n      <td>2.803125</td>\n      <td>2.784875</td>\n      <td>2.941250</td>\n      <td>2.831200</td>\n    </tr>\n    <tr>\n      <th>max</th>\n      <td>1205.300000</td>\n      <td>1213.410000</td>\n      <td>1203.320000</td>\n      <td>1205.000000</td>\n      <td>2.832317e+06</td>\n      <td>97.516400</td>\n      <td>60.390000</td>\n      <td>28.060000</td>\n      <td>77.280000</td>\n      <td>90.170000</td>\n      <td>...</td>\n      <td>38.090000</td>\n      <td>35.440100</td>\n      <td>26.129500</td>\n      <td>31.450000</td>\n      <td>27.490000</td>\n      <td>27.465000</td>\n      <td>28.760000</td>\n      <td>26.690000</td>\n      <td>29.619600</td>\n      <td>35.440000</td>\n    </tr>\n  </tbody>\n</table>\n<p>8 rows × 58 columns</p>\n</div>"
     },
     "execution_count": 16,
     "metadata": {},
     "output_type": "execute_result"
    }
   ],
   "source": [
    "df.describe()"
   ],
   "metadata": {
    "collapsed": false,
    "pycharm": {
     "name": "#%%\n"
    }
   }
  },
  {
   "cell_type": "code",
   "execution_count": 17,
   "outputs": [
    {
     "data": {
      "text/plain": "          Date      Time      Open    High       Low     Close   Volume  \\\n10  2017-05-17  19:00:00  955.6816  958.88  953.5200  957.5690   260780   \n11  2017-05-17  20:00:00  957.6300  958.30  953.5200  953.7801   181523   \n12  2017-05-17  21:00:00  953.7100  955.55  948.1000  948.2900   467770   \n13  2017-05-17  22:00:00  948.6400  949.73  944.1200  944.7900  1090407   \n14  2017-05-18  16:00:00  944.8000  955.00  944.7600  951.8450   650889   \n15  2017-05-18  17:00:00  951.8700  959.66  951.7000  955.2100   543846   \n16  2017-05-18  18:00:00  955.3800  957.78  954.0200  954.3600   212850   \n17  2017-05-18  19:00:00  954.5245  956.00  951.2069  955.4300   295354   \n18  2017-05-18  20:00:00  955.4502  959.04  954.4600  957.7500   158194   \n19  2017-05-18  21:00:00  957.9000  962.75  957.9000  960.0222   413588   \n\n    Close_diff  h_l_diff  o_c_diff  ...  o_c_diff_6  o_c_diff_7  o_c_diff_8  \\\n10      1.8290    5.3600   -1.8874  ...     -4.1306     -1.0129     -1.1324   \n11     -3.7889    4.7800    3.8499  ...      5.0249      1.6067      4.7244   \n12     -5.4901    7.4500    5.4200  ...      4.5100      6.5950      3.1768   \n13     -3.5000    5.6100    3.8500  ...      6.0300      2.9400      5.0250   \n14      7.0550   10.2400   -7.0450  ...    -11.7250     -4.8650     -7.9550   \n15      3.3650    7.9600   -3.3400  ...     -0.5300     -8.0200     -1.1600   \n16     -0.8500    3.7600    1.0200  ...      2.9074      3.8300     -3.6600   \n17      1.0700    4.7931   -0.9055  ...     -4.7554      0.9819      1.9045   \n18      2.3200    4.5800   -2.2998  ...     -7.7198     -6.1497     -0.4124   \n19      2.2722    4.8500   -2.1222  ...     -5.9722     -7.5422     -5.9721   \n\n    o_c_diff_9  o_c_diff_10  Open_daily_mean  High_daily_mean  Low_daily_mean  \\\n10      0.0726       1.7826       953.915400       955.615000      949.815000   \n11      4.6049       5.8099       953.915400       955.615000      949.815000   \n12      6.2945       6.1750       953.915400       955.615000      949.815000   \n13      1.6068       4.7245       953.915400       955.615000      949.815000   \n14     -5.8700      -9.2882       954.239957       958.761429      953.149557   \n15     -4.2500      -2.1650       954.239957       958.761429      953.149557   \n16      3.2000       0.1100       954.239957       958.761429      953.149557   \n17     -5.5855       1.2745       954.239957       958.761429      953.149557   \n18      0.5102      -6.9798       954.239957       958.761429      953.149557   \n19     -0.2348       0.6878       954.239957       958.761429      953.149557   \n\n    h_l_diff_daily_mean  o_c_diff_daily_mean  \n10             5.800000             2.808125  \n11             5.800000             2.808125  \n12             5.800000             2.808125  \n13             5.800000             2.808125  \n14             5.611871            -1.869643  \n15             5.611871            -1.869643  \n16             5.611871            -1.869643  \n17             5.611871            -1.869643  \n18             5.611871            -1.869643  \n19             5.611871            -1.869643  \n\n[10 rows x 65 columns]",
      "text/html": "<div>\n<style scoped>\n    .dataframe tbody tr th:only-of-type {\n        vertical-align: middle;\n    }\n\n    .dataframe tbody tr th {\n        vertical-align: top;\n    }\n\n    .dataframe thead th {\n        text-align: right;\n    }\n</style>\n<table border=\"1\" class=\"dataframe\">\n  <thead>\n    <tr style=\"text-align: right;\">\n      <th></th>\n      <th>Date</th>\n      <th>Time</th>\n      <th>Open</th>\n      <th>High</th>\n      <th>Low</th>\n      <th>Close</th>\n      <th>Volume</th>\n      <th>Close_diff</th>\n      <th>h_l_diff</th>\n      <th>o_c_diff</th>\n      <th>...</th>\n      <th>o_c_diff_6</th>\n      <th>o_c_diff_7</th>\n      <th>o_c_diff_8</th>\n      <th>o_c_diff_9</th>\n      <th>o_c_diff_10</th>\n      <th>Open_daily_mean</th>\n      <th>High_daily_mean</th>\n      <th>Low_daily_mean</th>\n      <th>h_l_diff_daily_mean</th>\n      <th>o_c_diff_daily_mean</th>\n    </tr>\n  </thead>\n  <tbody>\n    <tr>\n      <th>10</th>\n      <td>2017-05-17</td>\n      <td>19:00:00</td>\n      <td>955.6816</td>\n      <td>958.88</td>\n      <td>953.5200</td>\n      <td>957.5690</td>\n      <td>260780</td>\n      <td>1.8290</td>\n      <td>5.3600</td>\n      <td>-1.8874</td>\n      <td>...</td>\n      <td>-4.1306</td>\n      <td>-1.0129</td>\n      <td>-1.1324</td>\n      <td>0.0726</td>\n      <td>1.7826</td>\n      <td>953.915400</td>\n      <td>955.615000</td>\n      <td>949.815000</td>\n      <td>5.800000</td>\n      <td>2.808125</td>\n    </tr>\n    <tr>\n      <th>11</th>\n      <td>2017-05-17</td>\n      <td>20:00:00</td>\n      <td>957.6300</td>\n      <td>958.30</td>\n      <td>953.5200</td>\n      <td>953.7801</td>\n      <td>181523</td>\n      <td>-3.7889</td>\n      <td>4.7800</td>\n      <td>3.8499</td>\n      <td>...</td>\n      <td>5.0249</td>\n      <td>1.6067</td>\n      <td>4.7244</td>\n      <td>4.6049</td>\n      <td>5.8099</td>\n      <td>953.915400</td>\n      <td>955.615000</td>\n      <td>949.815000</td>\n      <td>5.800000</td>\n      <td>2.808125</td>\n    </tr>\n    <tr>\n      <th>12</th>\n      <td>2017-05-17</td>\n      <td>21:00:00</td>\n      <td>953.7100</td>\n      <td>955.55</td>\n      <td>948.1000</td>\n      <td>948.2900</td>\n      <td>467770</td>\n      <td>-5.4901</td>\n      <td>7.4500</td>\n      <td>5.4200</td>\n      <td>...</td>\n      <td>4.5100</td>\n      <td>6.5950</td>\n      <td>3.1768</td>\n      <td>6.2945</td>\n      <td>6.1750</td>\n      <td>953.915400</td>\n      <td>955.615000</td>\n      <td>949.815000</td>\n      <td>5.800000</td>\n      <td>2.808125</td>\n    </tr>\n    <tr>\n      <th>13</th>\n      <td>2017-05-17</td>\n      <td>22:00:00</td>\n      <td>948.6400</td>\n      <td>949.73</td>\n      <td>944.1200</td>\n      <td>944.7900</td>\n      <td>1090407</td>\n      <td>-3.5000</td>\n      <td>5.6100</td>\n      <td>3.8500</td>\n      <td>...</td>\n      <td>6.0300</td>\n      <td>2.9400</td>\n      <td>5.0250</td>\n      <td>1.6068</td>\n      <td>4.7245</td>\n      <td>953.915400</td>\n      <td>955.615000</td>\n      <td>949.815000</td>\n      <td>5.800000</td>\n      <td>2.808125</td>\n    </tr>\n    <tr>\n      <th>14</th>\n      <td>2017-05-18</td>\n      <td>16:00:00</td>\n      <td>944.8000</td>\n      <td>955.00</td>\n      <td>944.7600</td>\n      <td>951.8450</td>\n      <td>650889</td>\n      <td>7.0550</td>\n      <td>10.2400</td>\n      <td>-7.0450</td>\n      <td>...</td>\n      <td>-11.7250</td>\n      <td>-4.8650</td>\n      <td>-7.9550</td>\n      <td>-5.8700</td>\n      <td>-9.2882</td>\n      <td>954.239957</td>\n      <td>958.761429</td>\n      <td>953.149557</td>\n      <td>5.611871</td>\n      <td>-1.869643</td>\n    </tr>\n    <tr>\n      <th>15</th>\n      <td>2017-05-18</td>\n      <td>17:00:00</td>\n      <td>951.8700</td>\n      <td>959.66</td>\n      <td>951.7000</td>\n      <td>955.2100</td>\n      <td>543846</td>\n      <td>3.3650</td>\n      <td>7.9600</td>\n      <td>-3.3400</td>\n      <td>...</td>\n      <td>-0.5300</td>\n      <td>-8.0200</td>\n      <td>-1.1600</td>\n      <td>-4.2500</td>\n      <td>-2.1650</td>\n      <td>954.239957</td>\n      <td>958.761429</td>\n      <td>953.149557</td>\n      <td>5.611871</td>\n      <td>-1.869643</td>\n    </tr>\n    <tr>\n      <th>16</th>\n      <td>2017-05-18</td>\n      <td>18:00:00</td>\n      <td>955.3800</td>\n      <td>957.78</td>\n      <td>954.0200</td>\n      <td>954.3600</td>\n      <td>212850</td>\n      <td>-0.8500</td>\n      <td>3.7600</td>\n      <td>1.0200</td>\n      <td>...</td>\n      <td>2.9074</td>\n      <td>3.8300</td>\n      <td>-3.6600</td>\n      <td>3.2000</td>\n      <td>0.1100</td>\n      <td>954.239957</td>\n      <td>958.761429</td>\n      <td>953.149557</td>\n      <td>5.611871</td>\n      <td>-1.869643</td>\n    </tr>\n    <tr>\n      <th>17</th>\n      <td>2017-05-18</td>\n      <td>19:00:00</td>\n      <td>954.5245</td>\n      <td>956.00</td>\n      <td>951.2069</td>\n      <td>955.4300</td>\n      <td>295354</td>\n      <td>1.0700</td>\n      <td>4.7931</td>\n      <td>-0.9055</td>\n      <td>...</td>\n      <td>-4.7554</td>\n      <td>0.9819</td>\n      <td>1.9045</td>\n      <td>-5.5855</td>\n      <td>1.2745</td>\n      <td>954.239957</td>\n      <td>958.761429</td>\n      <td>953.149557</td>\n      <td>5.611871</td>\n      <td>-1.869643</td>\n    </tr>\n    <tr>\n      <th>18</th>\n      <td>2017-05-18</td>\n      <td>20:00:00</td>\n      <td>955.4502</td>\n      <td>959.04</td>\n      <td>954.4600</td>\n      <td>957.7500</td>\n      <td>158194</td>\n      <td>2.3200</td>\n      <td>4.5800</td>\n      <td>-2.2998</td>\n      <td>...</td>\n      <td>-7.7198</td>\n      <td>-6.1497</td>\n      <td>-0.4124</td>\n      <td>0.5102</td>\n      <td>-6.9798</td>\n      <td>954.239957</td>\n      <td>958.761429</td>\n      <td>953.149557</td>\n      <td>5.611871</td>\n      <td>-1.869643</td>\n    </tr>\n    <tr>\n      <th>19</th>\n      <td>2017-05-18</td>\n      <td>21:00:00</td>\n      <td>957.9000</td>\n      <td>962.75</td>\n      <td>957.9000</td>\n      <td>960.0222</td>\n      <td>413588</td>\n      <td>2.2722</td>\n      <td>4.8500</td>\n      <td>-2.1222</td>\n      <td>...</td>\n      <td>-5.9722</td>\n      <td>-7.5422</td>\n      <td>-5.9721</td>\n      <td>-0.2348</td>\n      <td>0.6878</td>\n      <td>954.239957</td>\n      <td>958.761429</td>\n      <td>953.149557</td>\n      <td>5.611871</td>\n      <td>-1.869643</td>\n    </tr>\n  </tbody>\n</table>\n<p>10 rows × 65 columns</p>\n</div>"
     },
     "execution_count": 17,
     "metadata": {},
     "output_type": "execute_result"
    }
   ],
   "source": [
    "# daily mean\n",
    "dateGroups = df.groupby('Date').mean().reset_index()\n",
    "for name in important_columns:\n",
    "    new_col_name = f'{name}_daily_mean'\n",
    "    df[new_col_name] = df.apply(lambda x: create_daily_mean_column(x,dateGroups,name), axis=1)\n",
    "df.head(10)\n"
   ],
   "metadata": {
    "collapsed": false,
    "pycharm": {
     "name": "#%%\n"
    }
   }
  },
  {
   "cell_type": "code",
   "execution_count": 18,
   "outputs": [
    {
     "data": {
      "text/plain": "          Date      Time      Open    High       Low     Close   Volume  \\\n10  2017-05-17  19:00:00  955.6816  958.88  953.5200  957.5690   260780   \n11  2017-05-17  20:00:00  957.6300  958.30  953.5200  953.7801   181523   \n12  2017-05-17  21:00:00  953.7100  955.55  948.1000  948.2900   467770   \n13  2017-05-17  22:00:00  948.6400  949.73  944.1200  944.7900  1090407   \n14  2017-05-18  16:00:00  944.8000  955.00  944.7600  951.8450   650889   \n15  2017-05-18  17:00:00  951.8700  959.66  951.7000  955.2100   543846   \n16  2017-05-18  18:00:00  955.3800  957.78  954.0200  954.3600   212850   \n17  2017-05-18  19:00:00  954.5245  956.00  951.2069  955.4300   295354   \n18  2017-05-18  20:00:00  955.4502  959.04  954.4600  957.7500   158194   \n19  2017-05-18  21:00:00  957.9000  962.75  957.9000  960.0222   413588   \n\n    Close_diff  h_l_diff  o_c_diff  ...  o_c_diff_7  o_c_diff_8  o_c_diff_9  \\\n10      1.8290    5.3600   -1.8874  ...     -1.0129     -1.1324      0.0726   \n11     -3.7889    4.7800    3.8499  ...      1.6067      4.7244      4.6049   \n12     -5.4901    7.4500    5.4200  ...      6.5950      3.1768      6.2945   \n13     -3.5000    5.6100    3.8500  ...      2.9400      5.0250      1.6068   \n14      7.0550   10.2400   -7.0450  ...     -4.8650     -7.9550     -5.8700   \n15      3.3650    7.9600   -3.3400  ...     -8.0200     -1.1600     -4.2500   \n16     -0.8500    3.7600    1.0200  ...      3.8300     -3.6600      3.2000   \n17      1.0700    4.7931   -0.9055  ...      0.9819      1.9045     -5.5855   \n18      2.3200    4.5800   -2.2998  ...     -6.1497     -0.4124      0.5102   \n19      2.2722    4.8500   -2.1222  ...     -7.5422     -5.9721     -0.2348   \n\n    o_c_diff_10  Open_daily_mean  High_daily_mean  Low_daily_mean  \\\n10       1.7826       953.915400       955.615000      949.815000   \n11       5.8099       953.915400       955.615000      949.815000   \n12       6.1750       953.915400       955.615000      949.815000   \n13       4.7245       953.915400       955.615000      949.815000   \n14      -9.2882       954.239957       958.761429      953.149557   \n15      -2.1650       954.239957       958.761429      953.149557   \n16       0.1100       954.239957       958.761429      953.149557   \n17       1.2745       954.239957       958.761429      953.149557   \n18      -6.9798       954.239957       958.761429      953.149557   \n19       0.6878       954.239957       958.761429      953.149557   \n\n    h_l_diff_daily_mean  o_c_diff_daily_mean  class_column  \n10             5.800000             2.808125             1  \n11             5.800000             2.808125            -1  \n12             5.800000             2.808125            -1  \n13             5.800000             2.808125            -1  \n14             5.611871            -1.869643             1  \n15             5.611871            -1.869643             1  \n16             5.611871            -1.869643            -1  \n17             5.611871            -1.869643             1  \n18             5.611871            -1.869643             1  \n19             5.611871            -1.869643             1  \n\n[10 rows x 66 columns]",
      "text/html": "<div>\n<style scoped>\n    .dataframe tbody tr th:only-of-type {\n        vertical-align: middle;\n    }\n\n    .dataframe tbody tr th {\n        vertical-align: top;\n    }\n\n    .dataframe thead th {\n        text-align: right;\n    }\n</style>\n<table border=\"1\" class=\"dataframe\">\n  <thead>\n    <tr style=\"text-align: right;\">\n      <th></th>\n      <th>Date</th>\n      <th>Time</th>\n      <th>Open</th>\n      <th>High</th>\n      <th>Low</th>\n      <th>Close</th>\n      <th>Volume</th>\n      <th>Close_diff</th>\n      <th>h_l_diff</th>\n      <th>o_c_diff</th>\n      <th>...</th>\n      <th>o_c_diff_7</th>\n      <th>o_c_diff_8</th>\n      <th>o_c_diff_9</th>\n      <th>o_c_diff_10</th>\n      <th>Open_daily_mean</th>\n      <th>High_daily_mean</th>\n      <th>Low_daily_mean</th>\n      <th>h_l_diff_daily_mean</th>\n      <th>o_c_diff_daily_mean</th>\n      <th>class_column</th>\n    </tr>\n  </thead>\n  <tbody>\n    <tr>\n      <th>10</th>\n      <td>2017-05-17</td>\n      <td>19:00:00</td>\n      <td>955.6816</td>\n      <td>958.88</td>\n      <td>953.5200</td>\n      <td>957.5690</td>\n      <td>260780</td>\n      <td>1.8290</td>\n      <td>5.3600</td>\n      <td>-1.8874</td>\n      <td>...</td>\n      <td>-1.0129</td>\n      <td>-1.1324</td>\n      <td>0.0726</td>\n      <td>1.7826</td>\n      <td>953.915400</td>\n      <td>955.615000</td>\n      <td>949.815000</td>\n      <td>5.800000</td>\n      <td>2.808125</td>\n      <td>1</td>\n    </tr>\n    <tr>\n      <th>11</th>\n      <td>2017-05-17</td>\n      <td>20:00:00</td>\n      <td>957.6300</td>\n      <td>958.30</td>\n      <td>953.5200</td>\n      <td>953.7801</td>\n      <td>181523</td>\n      <td>-3.7889</td>\n      <td>4.7800</td>\n      <td>3.8499</td>\n      <td>...</td>\n      <td>1.6067</td>\n      <td>4.7244</td>\n      <td>4.6049</td>\n      <td>5.8099</td>\n      <td>953.915400</td>\n      <td>955.615000</td>\n      <td>949.815000</td>\n      <td>5.800000</td>\n      <td>2.808125</td>\n      <td>-1</td>\n    </tr>\n    <tr>\n      <th>12</th>\n      <td>2017-05-17</td>\n      <td>21:00:00</td>\n      <td>953.7100</td>\n      <td>955.55</td>\n      <td>948.1000</td>\n      <td>948.2900</td>\n      <td>467770</td>\n      <td>-5.4901</td>\n      <td>7.4500</td>\n      <td>5.4200</td>\n      <td>...</td>\n      <td>6.5950</td>\n      <td>3.1768</td>\n      <td>6.2945</td>\n      <td>6.1750</td>\n      <td>953.915400</td>\n      <td>955.615000</td>\n      <td>949.815000</td>\n      <td>5.800000</td>\n      <td>2.808125</td>\n      <td>-1</td>\n    </tr>\n    <tr>\n      <th>13</th>\n      <td>2017-05-17</td>\n      <td>22:00:00</td>\n      <td>948.6400</td>\n      <td>949.73</td>\n      <td>944.1200</td>\n      <td>944.7900</td>\n      <td>1090407</td>\n      <td>-3.5000</td>\n      <td>5.6100</td>\n      <td>3.8500</td>\n      <td>...</td>\n      <td>2.9400</td>\n      <td>5.0250</td>\n      <td>1.6068</td>\n      <td>4.7245</td>\n      <td>953.915400</td>\n      <td>955.615000</td>\n      <td>949.815000</td>\n      <td>5.800000</td>\n      <td>2.808125</td>\n      <td>-1</td>\n    </tr>\n    <tr>\n      <th>14</th>\n      <td>2017-05-18</td>\n      <td>16:00:00</td>\n      <td>944.8000</td>\n      <td>955.00</td>\n      <td>944.7600</td>\n      <td>951.8450</td>\n      <td>650889</td>\n      <td>7.0550</td>\n      <td>10.2400</td>\n      <td>-7.0450</td>\n      <td>...</td>\n      <td>-4.8650</td>\n      <td>-7.9550</td>\n      <td>-5.8700</td>\n      <td>-9.2882</td>\n      <td>954.239957</td>\n      <td>958.761429</td>\n      <td>953.149557</td>\n      <td>5.611871</td>\n      <td>-1.869643</td>\n      <td>1</td>\n    </tr>\n    <tr>\n      <th>15</th>\n      <td>2017-05-18</td>\n      <td>17:00:00</td>\n      <td>951.8700</td>\n      <td>959.66</td>\n      <td>951.7000</td>\n      <td>955.2100</td>\n      <td>543846</td>\n      <td>3.3650</td>\n      <td>7.9600</td>\n      <td>-3.3400</td>\n      <td>...</td>\n      <td>-8.0200</td>\n      <td>-1.1600</td>\n      <td>-4.2500</td>\n      <td>-2.1650</td>\n      <td>954.239957</td>\n      <td>958.761429</td>\n      <td>953.149557</td>\n      <td>5.611871</td>\n      <td>-1.869643</td>\n      <td>1</td>\n    </tr>\n    <tr>\n      <th>16</th>\n      <td>2017-05-18</td>\n      <td>18:00:00</td>\n      <td>955.3800</td>\n      <td>957.78</td>\n      <td>954.0200</td>\n      <td>954.3600</td>\n      <td>212850</td>\n      <td>-0.8500</td>\n      <td>3.7600</td>\n      <td>1.0200</td>\n      <td>...</td>\n      <td>3.8300</td>\n      <td>-3.6600</td>\n      <td>3.2000</td>\n      <td>0.1100</td>\n      <td>954.239957</td>\n      <td>958.761429</td>\n      <td>953.149557</td>\n      <td>5.611871</td>\n      <td>-1.869643</td>\n      <td>-1</td>\n    </tr>\n    <tr>\n      <th>17</th>\n      <td>2017-05-18</td>\n      <td>19:00:00</td>\n      <td>954.5245</td>\n      <td>956.00</td>\n      <td>951.2069</td>\n      <td>955.4300</td>\n      <td>295354</td>\n      <td>1.0700</td>\n      <td>4.7931</td>\n      <td>-0.9055</td>\n      <td>...</td>\n      <td>0.9819</td>\n      <td>1.9045</td>\n      <td>-5.5855</td>\n      <td>1.2745</td>\n      <td>954.239957</td>\n      <td>958.761429</td>\n      <td>953.149557</td>\n      <td>5.611871</td>\n      <td>-1.869643</td>\n      <td>1</td>\n    </tr>\n    <tr>\n      <th>18</th>\n      <td>2017-05-18</td>\n      <td>20:00:00</td>\n      <td>955.4502</td>\n      <td>959.04</td>\n      <td>954.4600</td>\n      <td>957.7500</td>\n      <td>158194</td>\n      <td>2.3200</td>\n      <td>4.5800</td>\n      <td>-2.2998</td>\n      <td>...</td>\n      <td>-6.1497</td>\n      <td>-0.4124</td>\n      <td>0.5102</td>\n      <td>-6.9798</td>\n      <td>954.239957</td>\n      <td>958.761429</td>\n      <td>953.149557</td>\n      <td>5.611871</td>\n      <td>-1.869643</td>\n      <td>1</td>\n    </tr>\n    <tr>\n      <th>19</th>\n      <td>2017-05-18</td>\n      <td>21:00:00</td>\n      <td>957.9000</td>\n      <td>962.75</td>\n      <td>957.9000</td>\n      <td>960.0222</td>\n      <td>413588</td>\n      <td>2.2722</td>\n      <td>4.8500</td>\n      <td>-2.1222</td>\n      <td>...</td>\n      <td>-7.5422</td>\n      <td>-5.9721</td>\n      <td>-0.2348</td>\n      <td>0.6878</td>\n      <td>954.239957</td>\n      <td>958.761429</td>\n      <td>953.149557</td>\n      <td>5.611871</td>\n      <td>-1.869643</td>\n      <td>1</td>\n    </tr>\n  </tbody>\n</table>\n<p>10 rows × 66 columns</p>\n</div>"
     },
     "execution_count": 18,
     "metadata": {},
     "output_type": "execute_result"
    }
   ],
   "source": [
    "df['class_column'] = df.apply(create_class_column, axis=1)\n",
    "df.head(10)"
   ],
   "metadata": {
    "collapsed": false,
    "pycharm": {
     "name": "#%%\n"
    }
   }
  },
  {
   "cell_type": "code",
   "execution_count": 19,
   "outputs": [
    {
     "data": {
      "text/plain": " 1    487\n-1    462\n 0     37\nName: class_column, dtype: int64"
     },
     "execution_count": 19,
     "metadata": {},
     "output_type": "execute_result"
    }
   ],
   "source": [
    "# Class divide\n",
    "df['class_column'].value_counts()"
   ],
   "metadata": {
    "collapsed": false,
    "pycharm": {
     "name": "#%%\n"
    }
   }
  },
  {
   "cell_type": "code",
   "execution_count": 20,
   "outputs": [],
   "source": [
    "now = datetime.now()\n",
    "df.to_csv(f'../data/preprocess/{filename}_{now.strftime(\"%d_%m_%Y %H_%M_%S\")}.csv', index=False)"
   ],
   "metadata": {
    "collapsed": false,
    "pycharm": {
     "name": "#%%\n"
    }
   }
  }
 ],
 "metadata": {
  "kernelspec": {
   "name": "magisterka_analiza",
   "language": "python",
   "display_name": "Python magisterka"
  },
  "language_info": {
   "codemirror_mode": {
    "name": "ipython",
    "version": 2
   },
   "file_extension": ".py",
   "mimetype": "text/x-python",
   "name": "python",
   "nbconvert_exporter": "python",
   "pygments_lexer": "ipython2",
   "version": "2.7.6"
  }
 },
 "nbformat": 4,
 "nbformat_minor": 0
}