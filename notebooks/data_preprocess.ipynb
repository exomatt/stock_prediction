{
 "cells": [
  {
   "cell_type": "code",
   "execution_count": 352,
   "metadata": {
    "collapsed": true
   },
   "outputs": [],
   "source": [
    "import pandas as pd\n",
    "from datetime import datetime"
   ]
  },
  {
   "cell_type": "code",
   "execution_count": 353,
   "outputs": [],
   "source": [
    "#consts\n",
    "filename= 'fb'\n",
    "important_columns = ['Open', 'High', 'Low', 'Close','h_l_diff','o_c_diff']"
   ],
   "metadata": {
    "collapsed": false,
    "pycharm": {
     "name": "#%%\n"
    }
   }
  },
  {
   "cell_type": "code",
   "execution_count": 354,
   "outputs": [
    {
     "data": {
      "text/plain": "         Date      Time     Open      High       Low     Close   Volume  \\\n0  2017-05-16  16:00:00  150.110  150.2100  149.7100  149.8000  1910216   \n1  2017-05-16  17:00:00  149.810  149.9286  149.0300  149.6045  2829254   \n2  2017-05-16  18:00:00  149.610  150.0500  149.5900  150.0500  1724151   \n3  2017-05-16  19:00:00  150.045  150.0500  149.6300  149.7500   970392   \n4  2017-05-16  20:00:00  149.760  149.8950  149.3500  149.4407  1344857   \n5  2017-05-16  21:00:00  149.450  149.8000  149.4100  149.7450  1006844   \n6  2017-05-16  22:00:00  149.740  149.8500  149.5601  149.7800  2656057   \n7  2017-05-17  16:00:00  148.000  148.6700  147.2600  147.6300  3661194   \n8  2017-05-17  17:00:00  147.630  148.3300  146.6600  146.7450  4036998   \n9  2017-05-17  18:00:00  146.750  147.4200  146.3900  147.4200  2575473   \n\n   OpenInt  \n0        0  \n1        0  \n2        0  \n3        0  \n4        0  \n5        0  \n6        0  \n7        0  \n8        0  \n9        0  ",
      "text/html": "<div>\n<style scoped>\n    .dataframe tbody tr th:only-of-type {\n        vertical-align: middle;\n    }\n\n    .dataframe tbody tr th {\n        vertical-align: top;\n    }\n\n    .dataframe thead th {\n        text-align: right;\n    }\n</style>\n<table border=\"1\" class=\"dataframe\">\n  <thead>\n    <tr style=\"text-align: right;\">\n      <th></th>\n      <th>Date</th>\n      <th>Time</th>\n      <th>Open</th>\n      <th>High</th>\n      <th>Low</th>\n      <th>Close</th>\n      <th>Volume</th>\n      <th>OpenInt</th>\n    </tr>\n  </thead>\n  <tbody>\n    <tr>\n      <th>0</th>\n      <td>2017-05-16</td>\n      <td>16:00:00</td>\n      <td>150.110</td>\n      <td>150.2100</td>\n      <td>149.7100</td>\n      <td>149.8000</td>\n      <td>1910216</td>\n      <td>0</td>\n    </tr>\n    <tr>\n      <th>1</th>\n      <td>2017-05-16</td>\n      <td>17:00:00</td>\n      <td>149.810</td>\n      <td>149.9286</td>\n      <td>149.0300</td>\n      <td>149.6045</td>\n      <td>2829254</td>\n      <td>0</td>\n    </tr>\n    <tr>\n      <th>2</th>\n      <td>2017-05-16</td>\n      <td>18:00:00</td>\n      <td>149.610</td>\n      <td>150.0500</td>\n      <td>149.5900</td>\n      <td>150.0500</td>\n      <td>1724151</td>\n      <td>0</td>\n    </tr>\n    <tr>\n      <th>3</th>\n      <td>2017-05-16</td>\n      <td>19:00:00</td>\n      <td>150.045</td>\n      <td>150.0500</td>\n      <td>149.6300</td>\n      <td>149.7500</td>\n      <td>970392</td>\n      <td>0</td>\n    </tr>\n    <tr>\n      <th>4</th>\n      <td>2017-05-16</td>\n      <td>20:00:00</td>\n      <td>149.760</td>\n      <td>149.8950</td>\n      <td>149.3500</td>\n      <td>149.4407</td>\n      <td>1344857</td>\n      <td>0</td>\n    </tr>\n    <tr>\n      <th>5</th>\n      <td>2017-05-16</td>\n      <td>21:00:00</td>\n      <td>149.450</td>\n      <td>149.8000</td>\n      <td>149.4100</td>\n      <td>149.7450</td>\n      <td>1006844</td>\n      <td>0</td>\n    </tr>\n    <tr>\n      <th>6</th>\n      <td>2017-05-16</td>\n      <td>22:00:00</td>\n      <td>149.740</td>\n      <td>149.8500</td>\n      <td>149.5601</td>\n      <td>149.7800</td>\n      <td>2656057</td>\n      <td>0</td>\n    </tr>\n    <tr>\n      <th>7</th>\n      <td>2017-05-17</td>\n      <td>16:00:00</td>\n      <td>148.000</td>\n      <td>148.6700</td>\n      <td>147.2600</td>\n      <td>147.6300</td>\n      <td>3661194</td>\n      <td>0</td>\n    </tr>\n    <tr>\n      <th>8</th>\n      <td>2017-05-17</td>\n      <td>17:00:00</td>\n      <td>147.630</td>\n      <td>148.3300</td>\n      <td>146.6600</td>\n      <td>146.7450</td>\n      <td>4036998</td>\n      <td>0</td>\n    </tr>\n    <tr>\n      <th>9</th>\n      <td>2017-05-17</td>\n      <td>18:00:00</td>\n      <td>146.750</td>\n      <td>147.4200</td>\n      <td>146.3900</td>\n      <td>147.4200</td>\n      <td>2575473</td>\n      <td>0</td>\n    </tr>\n  </tbody>\n</table>\n</div>"
     },
     "execution_count": 354,
     "metadata": {},
     "output_type": "execute_result"
    }
   ],
   "source": [
    "df = pd.read_csv(f'../data/1 Hour/Stocks/{filename}.us.txt')\n",
    "\n",
    "df.head(10)"
   ],
   "metadata": {
    "collapsed": false,
    "pycharm": {
     "name": "#%%\n"
    }
   }
  },
  {
   "cell_type": "code",
   "execution_count": 355,
   "outputs": [
    {
     "name": "stdout",
     "output_type": "stream",
     "text": [
      "<class 'pandas.core.frame.DataFrame'>\n",
      "RangeIndex: 996 entries, 0 to 995\n",
      "Data columns (total 8 columns):\n",
      " #   Column   Non-Null Count  Dtype  \n",
      "---  ------   --------------  -----  \n",
      " 0   Date     996 non-null    object \n",
      " 1   Time     996 non-null    object \n",
      " 2   Open     996 non-null    float64\n",
      " 3   High     996 non-null    float64\n",
      " 4   Low      996 non-null    float64\n",
      " 5   Close    996 non-null    float64\n",
      " 6   Volume   996 non-null    int64  \n",
      " 7   OpenInt  996 non-null    int64  \n",
      "dtypes: float64(4), int64(2), object(2)\n",
      "memory usage: 62.4+ KB\n"
     ]
    }
   ],
   "source": [
    "df.info()"
   ],
   "metadata": {
    "collapsed": false,
    "pycharm": {
     "name": "#%%\n"
    }
   }
  },
  {
   "cell_type": "code",
   "execution_count": 356,
   "outputs": [
    {
     "data": {
      "text/plain": "             Open        High         Low       Close        Volume  OpenInt\ncount  996.000000  996.000000  996.000000  996.000000  9.960000e+02    996.0\nmean   166.299998  166.732975  165.831218  166.303999  1.999452e+06      0.0\nstd     10.370787   10.366676   10.362284   10.360171  1.320187e+06      0.0\nmin    144.720000  146.230000  144.421600  144.850000  3.228230e+05      0.0\n25%    154.095000  154.500075  153.765000  154.112500  1.120072e+06      0.0\n50%    169.825000  170.180000  169.185000  169.870000  1.665720e+06      0.0\n75%    173.140000  173.482500  172.632500  173.067500  2.460596e+06      0.0\nmax    183.510000  184.250000  183.220000  183.400000  1.141471e+07      0.0",
      "text/html": "<div>\n<style scoped>\n    .dataframe tbody tr th:only-of-type {\n        vertical-align: middle;\n    }\n\n    .dataframe tbody tr th {\n        vertical-align: top;\n    }\n\n    .dataframe thead th {\n        text-align: right;\n    }\n</style>\n<table border=\"1\" class=\"dataframe\">\n  <thead>\n    <tr style=\"text-align: right;\">\n      <th></th>\n      <th>Open</th>\n      <th>High</th>\n      <th>Low</th>\n      <th>Close</th>\n      <th>Volume</th>\n      <th>OpenInt</th>\n    </tr>\n  </thead>\n  <tbody>\n    <tr>\n      <th>count</th>\n      <td>996.000000</td>\n      <td>996.000000</td>\n      <td>996.000000</td>\n      <td>996.000000</td>\n      <td>9.960000e+02</td>\n      <td>996.0</td>\n    </tr>\n    <tr>\n      <th>mean</th>\n      <td>166.299998</td>\n      <td>166.732975</td>\n      <td>165.831218</td>\n      <td>166.303999</td>\n      <td>1.999452e+06</td>\n      <td>0.0</td>\n    </tr>\n    <tr>\n      <th>std</th>\n      <td>10.370787</td>\n      <td>10.366676</td>\n      <td>10.362284</td>\n      <td>10.360171</td>\n      <td>1.320187e+06</td>\n      <td>0.0</td>\n    </tr>\n    <tr>\n      <th>min</th>\n      <td>144.720000</td>\n      <td>146.230000</td>\n      <td>144.421600</td>\n      <td>144.850000</td>\n      <td>3.228230e+05</td>\n      <td>0.0</td>\n    </tr>\n    <tr>\n      <th>25%</th>\n      <td>154.095000</td>\n      <td>154.500075</td>\n      <td>153.765000</td>\n      <td>154.112500</td>\n      <td>1.120072e+06</td>\n      <td>0.0</td>\n    </tr>\n    <tr>\n      <th>50%</th>\n      <td>169.825000</td>\n      <td>170.180000</td>\n      <td>169.185000</td>\n      <td>169.870000</td>\n      <td>1.665720e+06</td>\n      <td>0.0</td>\n    </tr>\n    <tr>\n      <th>75%</th>\n      <td>173.140000</td>\n      <td>173.482500</td>\n      <td>172.632500</td>\n      <td>173.067500</td>\n      <td>2.460596e+06</td>\n      <td>0.0</td>\n    </tr>\n    <tr>\n      <th>max</th>\n      <td>183.510000</td>\n      <td>184.250000</td>\n      <td>183.220000</td>\n      <td>183.400000</td>\n      <td>1.141471e+07</td>\n      <td>0.0</td>\n    </tr>\n  </tbody>\n</table>\n</div>"
     },
     "execution_count": 356,
     "metadata": {},
     "output_type": "execute_result"
    }
   ],
   "source": [
    "df.describe()"
   ],
   "metadata": {
    "collapsed": false,
    "pycharm": {
     "name": "#%%\n"
    }
   }
  },
  {
   "cell_type": "code",
   "execution_count": 357,
   "outputs": [],
   "source": [
    "df = df.drop('OpenInt',1)"
   ],
   "metadata": {
    "collapsed": false,
    "pycharm": {
     "name": "#%%\n"
    }
   }
  },
  {
   "cell_type": "code",
   "execution_count": 358,
   "outputs": [
    {
     "data": {
      "text/plain": "         Date      Time     Open      High       Low     Close   Volume\n0  2017-05-16  16:00:00  150.110  150.2100  149.7100  149.8000  1910216\n1  2017-05-16  17:00:00  149.810  149.9286  149.0300  149.6045  2829254\n2  2017-05-16  18:00:00  149.610  150.0500  149.5900  150.0500  1724151\n3  2017-05-16  19:00:00  150.045  150.0500  149.6300  149.7500   970392\n4  2017-05-16  20:00:00  149.760  149.8950  149.3500  149.4407  1344857\n5  2017-05-16  21:00:00  149.450  149.8000  149.4100  149.7450  1006844\n6  2017-05-16  22:00:00  149.740  149.8500  149.5601  149.7800  2656057\n7  2017-05-17  16:00:00  148.000  148.6700  147.2600  147.6300  3661194\n8  2017-05-17  17:00:00  147.630  148.3300  146.6600  146.7450  4036998\n9  2017-05-17  18:00:00  146.750  147.4200  146.3900  147.4200  2575473",
      "text/html": "<div>\n<style scoped>\n    .dataframe tbody tr th:only-of-type {\n        vertical-align: middle;\n    }\n\n    .dataframe tbody tr th {\n        vertical-align: top;\n    }\n\n    .dataframe thead th {\n        text-align: right;\n    }\n</style>\n<table border=\"1\" class=\"dataframe\">\n  <thead>\n    <tr style=\"text-align: right;\">\n      <th></th>\n      <th>Date</th>\n      <th>Time</th>\n      <th>Open</th>\n      <th>High</th>\n      <th>Low</th>\n      <th>Close</th>\n      <th>Volume</th>\n    </tr>\n  </thead>\n  <tbody>\n    <tr>\n      <th>0</th>\n      <td>2017-05-16</td>\n      <td>16:00:00</td>\n      <td>150.110</td>\n      <td>150.2100</td>\n      <td>149.7100</td>\n      <td>149.8000</td>\n      <td>1910216</td>\n    </tr>\n    <tr>\n      <th>1</th>\n      <td>2017-05-16</td>\n      <td>17:00:00</td>\n      <td>149.810</td>\n      <td>149.9286</td>\n      <td>149.0300</td>\n      <td>149.6045</td>\n      <td>2829254</td>\n    </tr>\n    <tr>\n      <th>2</th>\n      <td>2017-05-16</td>\n      <td>18:00:00</td>\n      <td>149.610</td>\n      <td>150.0500</td>\n      <td>149.5900</td>\n      <td>150.0500</td>\n      <td>1724151</td>\n    </tr>\n    <tr>\n      <th>3</th>\n      <td>2017-05-16</td>\n      <td>19:00:00</td>\n      <td>150.045</td>\n      <td>150.0500</td>\n      <td>149.6300</td>\n      <td>149.7500</td>\n      <td>970392</td>\n    </tr>\n    <tr>\n      <th>4</th>\n      <td>2017-05-16</td>\n      <td>20:00:00</td>\n      <td>149.760</td>\n      <td>149.8950</td>\n      <td>149.3500</td>\n      <td>149.4407</td>\n      <td>1344857</td>\n    </tr>\n    <tr>\n      <th>5</th>\n      <td>2017-05-16</td>\n      <td>21:00:00</td>\n      <td>149.450</td>\n      <td>149.8000</td>\n      <td>149.4100</td>\n      <td>149.7450</td>\n      <td>1006844</td>\n    </tr>\n    <tr>\n      <th>6</th>\n      <td>2017-05-16</td>\n      <td>22:00:00</td>\n      <td>149.740</td>\n      <td>149.8500</td>\n      <td>149.5601</td>\n      <td>149.7800</td>\n      <td>2656057</td>\n    </tr>\n    <tr>\n      <th>7</th>\n      <td>2017-05-17</td>\n      <td>16:00:00</td>\n      <td>148.000</td>\n      <td>148.6700</td>\n      <td>147.2600</td>\n      <td>147.6300</td>\n      <td>3661194</td>\n    </tr>\n    <tr>\n      <th>8</th>\n      <td>2017-05-17</td>\n      <td>17:00:00</td>\n      <td>147.630</td>\n      <td>148.3300</td>\n      <td>146.6600</td>\n      <td>146.7450</td>\n      <td>4036998</td>\n    </tr>\n    <tr>\n      <th>9</th>\n      <td>2017-05-17</td>\n      <td>18:00:00</td>\n      <td>146.750</td>\n      <td>147.4200</td>\n      <td>146.3900</td>\n      <td>147.4200</td>\n      <td>2575473</td>\n    </tr>\n  </tbody>\n</table>\n</div>"
     },
     "execution_count": 358,
     "metadata": {},
     "output_type": "execute_result"
    }
   ],
   "source": [
    "df.head(10)"
   ],
   "metadata": {
    "collapsed": false,
    "pycharm": {
     "name": "#%%\n"
    }
   }
  },
  {
   "cell_type": "code",
   "execution_count": 359,
   "outputs": [
    {
     "data": {
      "text/plain": "         Date      Time     Open      High       Low     Close   Volume  \\\n0  2017-05-16  16:00:00  150.110  150.2100  149.7100  149.8000  1910216   \n1  2017-05-16  17:00:00  149.810  149.9286  149.0300  149.6045  2829254   \n2  2017-05-16  18:00:00  149.610  150.0500  149.5900  150.0500  1724151   \n3  2017-05-16  19:00:00  150.045  150.0500  149.6300  149.7500   970392   \n4  2017-05-16  20:00:00  149.760  149.8950  149.3500  149.4407  1344857   \n5  2017-05-16  21:00:00  149.450  149.8000  149.4100  149.7450  1006844   \n6  2017-05-16  22:00:00  149.740  149.8500  149.5601  149.7800  2656057   \n7  2017-05-17  16:00:00  148.000  148.6700  147.2600  147.6300  3661194   \n8  2017-05-17  17:00:00  147.630  148.3300  146.6600  146.7450  4036998   \n9  2017-05-17  18:00:00  146.750  147.4200  146.3900  147.4200  2575473   \n\n   Close_diff  \n0         NaN  \n1     -0.1955  \n2      0.4455  \n3     -0.3000  \n4     -0.3093  \n5      0.3043  \n6      0.0350  \n7     -2.1500  \n8     -0.8850  \n9      0.6750  ",
      "text/html": "<div>\n<style scoped>\n    .dataframe tbody tr th:only-of-type {\n        vertical-align: middle;\n    }\n\n    .dataframe tbody tr th {\n        vertical-align: top;\n    }\n\n    .dataframe thead th {\n        text-align: right;\n    }\n</style>\n<table border=\"1\" class=\"dataframe\">\n  <thead>\n    <tr style=\"text-align: right;\">\n      <th></th>\n      <th>Date</th>\n      <th>Time</th>\n      <th>Open</th>\n      <th>High</th>\n      <th>Low</th>\n      <th>Close</th>\n      <th>Volume</th>\n      <th>Close_diff</th>\n    </tr>\n  </thead>\n  <tbody>\n    <tr>\n      <th>0</th>\n      <td>2017-05-16</td>\n      <td>16:00:00</td>\n      <td>150.110</td>\n      <td>150.2100</td>\n      <td>149.7100</td>\n      <td>149.8000</td>\n      <td>1910216</td>\n      <td>NaN</td>\n    </tr>\n    <tr>\n      <th>1</th>\n      <td>2017-05-16</td>\n      <td>17:00:00</td>\n      <td>149.810</td>\n      <td>149.9286</td>\n      <td>149.0300</td>\n      <td>149.6045</td>\n      <td>2829254</td>\n      <td>-0.1955</td>\n    </tr>\n    <tr>\n      <th>2</th>\n      <td>2017-05-16</td>\n      <td>18:00:00</td>\n      <td>149.610</td>\n      <td>150.0500</td>\n      <td>149.5900</td>\n      <td>150.0500</td>\n      <td>1724151</td>\n      <td>0.4455</td>\n    </tr>\n    <tr>\n      <th>3</th>\n      <td>2017-05-16</td>\n      <td>19:00:00</td>\n      <td>150.045</td>\n      <td>150.0500</td>\n      <td>149.6300</td>\n      <td>149.7500</td>\n      <td>970392</td>\n      <td>-0.3000</td>\n    </tr>\n    <tr>\n      <th>4</th>\n      <td>2017-05-16</td>\n      <td>20:00:00</td>\n      <td>149.760</td>\n      <td>149.8950</td>\n      <td>149.3500</td>\n      <td>149.4407</td>\n      <td>1344857</td>\n      <td>-0.3093</td>\n    </tr>\n    <tr>\n      <th>5</th>\n      <td>2017-05-16</td>\n      <td>21:00:00</td>\n      <td>149.450</td>\n      <td>149.8000</td>\n      <td>149.4100</td>\n      <td>149.7450</td>\n      <td>1006844</td>\n      <td>0.3043</td>\n    </tr>\n    <tr>\n      <th>6</th>\n      <td>2017-05-16</td>\n      <td>22:00:00</td>\n      <td>149.740</td>\n      <td>149.8500</td>\n      <td>149.5601</td>\n      <td>149.7800</td>\n      <td>2656057</td>\n      <td>0.0350</td>\n    </tr>\n    <tr>\n      <th>7</th>\n      <td>2017-05-17</td>\n      <td>16:00:00</td>\n      <td>148.000</td>\n      <td>148.6700</td>\n      <td>147.2600</td>\n      <td>147.6300</td>\n      <td>3661194</td>\n      <td>-2.1500</td>\n    </tr>\n    <tr>\n      <th>8</th>\n      <td>2017-05-17</td>\n      <td>17:00:00</td>\n      <td>147.630</td>\n      <td>148.3300</td>\n      <td>146.6600</td>\n      <td>146.7450</td>\n      <td>4036998</td>\n      <td>-0.8850</td>\n    </tr>\n    <tr>\n      <th>9</th>\n      <td>2017-05-17</td>\n      <td>18:00:00</td>\n      <td>146.750</td>\n      <td>147.4200</td>\n      <td>146.3900</td>\n      <td>147.4200</td>\n      <td>2575473</td>\n      <td>0.6750</td>\n    </tr>\n  </tbody>\n</table>\n</div>"
     },
     "execution_count": 359,
     "metadata": {},
     "output_type": "execute_result"
    }
   ],
   "source": [
    "df['Close_diff'] = df['Close'].diff()\n",
    "df.head(10)"
   ],
   "metadata": {
    "collapsed": false,
    "pycharm": {
     "name": "#%%\n"
    }
   }
  },
  {
   "cell_type": "code",
   "execution_count": 360,
   "outputs": [
    {
     "data": {
      "text/plain": "             Open        High         Low       Close        Volume  \\\ncount  996.000000  996.000000  996.000000  996.000000  9.960000e+02   \nmean   166.299998  166.732975  165.831218  166.303999  1.999452e+06   \nstd     10.370787   10.366676   10.362284   10.360171  1.320187e+06   \nmin    144.720000  146.230000  144.421600  144.850000  3.228230e+05   \n25%    154.095000  154.500075  153.765000  154.112500  1.120072e+06   \n50%    169.825000  170.180000  169.185000  169.870000  1.665720e+06   \n75%    173.140000  173.482500  172.632500  173.067500  2.460596e+06   \nmax    183.510000  184.250000  183.220000  183.400000  1.141471e+07   \n\n       Close_diff  \ncount  995.000000  \nmean     0.026412  \nstd      0.776945  \nmin     -6.040000  \n25%     -0.266700  \n50%      0.020000  \n75%      0.374000  \nmax      8.260000  ",
      "text/html": "<div>\n<style scoped>\n    .dataframe tbody tr th:only-of-type {\n        vertical-align: middle;\n    }\n\n    .dataframe tbody tr th {\n        vertical-align: top;\n    }\n\n    .dataframe thead th {\n        text-align: right;\n    }\n</style>\n<table border=\"1\" class=\"dataframe\">\n  <thead>\n    <tr style=\"text-align: right;\">\n      <th></th>\n      <th>Open</th>\n      <th>High</th>\n      <th>Low</th>\n      <th>Close</th>\n      <th>Volume</th>\n      <th>Close_diff</th>\n    </tr>\n  </thead>\n  <tbody>\n    <tr>\n      <th>count</th>\n      <td>996.000000</td>\n      <td>996.000000</td>\n      <td>996.000000</td>\n      <td>996.000000</td>\n      <td>9.960000e+02</td>\n      <td>995.000000</td>\n    </tr>\n    <tr>\n      <th>mean</th>\n      <td>166.299998</td>\n      <td>166.732975</td>\n      <td>165.831218</td>\n      <td>166.303999</td>\n      <td>1.999452e+06</td>\n      <td>0.026412</td>\n    </tr>\n    <tr>\n      <th>std</th>\n      <td>10.370787</td>\n      <td>10.366676</td>\n      <td>10.362284</td>\n      <td>10.360171</td>\n      <td>1.320187e+06</td>\n      <td>0.776945</td>\n    </tr>\n    <tr>\n      <th>min</th>\n      <td>144.720000</td>\n      <td>146.230000</td>\n      <td>144.421600</td>\n      <td>144.850000</td>\n      <td>3.228230e+05</td>\n      <td>-6.040000</td>\n    </tr>\n    <tr>\n      <th>25%</th>\n      <td>154.095000</td>\n      <td>154.500075</td>\n      <td>153.765000</td>\n      <td>154.112500</td>\n      <td>1.120072e+06</td>\n      <td>-0.266700</td>\n    </tr>\n    <tr>\n      <th>50%</th>\n      <td>169.825000</td>\n      <td>170.180000</td>\n      <td>169.185000</td>\n      <td>169.870000</td>\n      <td>1.665720e+06</td>\n      <td>0.020000</td>\n    </tr>\n    <tr>\n      <th>75%</th>\n      <td>173.140000</td>\n      <td>173.482500</td>\n      <td>172.632500</td>\n      <td>173.067500</td>\n      <td>2.460596e+06</td>\n      <td>0.374000</td>\n    </tr>\n    <tr>\n      <th>max</th>\n      <td>183.510000</td>\n      <td>184.250000</td>\n      <td>183.220000</td>\n      <td>183.400000</td>\n      <td>1.141471e+07</td>\n      <td>8.260000</td>\n    </tr>\n  </tbody>\n</table>\n</div>"
     },
     "execution_count": 360,
     "metadata": {},
     "output_type": "execute_result"
    }
   ],
   "source": [
    "df.describe()"
   ],
   "metadata": {
    "collapsed": false,
    "pycharm": {
     "name": "#%%\n"
    }
   }
  },
  {
   "cell_type": "code",
   "execution_count": 361,
   "outputs": [],
   "source": [
    "def create_class_column(row):\n",
    "    if row['Close_diff'] > 0.24:\n",
    "        return 1\n",
    "    if row['Close_diff'] < -0.14:\n",
    "        return -1\n",
    "    else:\n",
    "        return 0\n",
    "\n",
    "def create_daily_mean_column(row, groupData, col_name):\n",
    "    return float(groupData.loc[(dateGroups['Date'] == row['Date'])][col_name])\n",
    "\n",
    "def calculate_diffs(diff_number, col_name):\n",
    "    new_col_name = f'{col_name}_{diff_number}'\n",
    "    df[new_col_name] = df[col_name].diff(diff_number)"
   ],
   "metadata": {
    "collapsed": false,
    "pycharm": {
     "name": "#%%\n"
    }
   }
  },
  {
   "cell_type": "code",
   "execution_count": 362,
   "outputs": [
    {
     "data": {
      "text/plain": "         Date      Time     Open      High       Low     Close   Volume  \\\n0  2017-05-16  16:00:00  150.110  150.2100  149.7100  149.8000  1910216   \n1  2017-05-16  17:00:00  149.810  149.9286  149.0300  149.6045  2829254   \n2  2017-05-16  18:00:00  149.610  150.0500  149.5900  150.0500  1724151   \n3  2017-05-16  19:00:00  150.045  150.0500  149.6300  149.7500   970392   \n4  2017-05-16  20:00:00  149.760  149.8950  149.3500  149.4407  1344857   \n5  2017-05-16  21:00:00  149.450  149.8000  149.4100  149.7450  1006844   \n6  2017-05-16  22:00:00  149.740  149.8500  149.5601  149.7800  2656057   \n7  2017-05-17  16:00:00  148.000  148.6700  147.2600  147.6300  3661194   \n8  2017-05-17  17:00:00  147.630  148.3300  146.6600  146.7450  4036998   \n9  2017-05-17  18:00:00  146.750  147.4200  146.3900  147.4200  2575473   \n\n   Close_diff  h_l_diff  o_c_diff  \n0         NaN    0.5000    0.3100  \n1     -0.1955    0.8986    0.2055  \n2      0.4455    0.4600   -0.4400  \n3     -0.3000    0.4200    0.2950  \n4     -0.3093    0.5450    0.3193  \n5      0.3043    0.3900   -0.2950  \n6      0.0350    0.2899   -0.0400  \n7     -2.1500    1.4100    0.3700  \n8     -0.8850    1.6700    0.8850  \n9      0.6750    1.0300   -0.6700  ",
      "text/html": "<div>\n<style scoped>\n    .dataframe tbody tr th:only-of-type {\n        vertical-align: middle;\n    }\n\n    .dataframe tbody tr th {\n        vertical-align: top;\n    }\n\n    .dataframe thead th {\n        text-align: right;\n    }\n</style>\n<table border=\"1\" class=\"dataframe\">\n  <thead>\n    <tr style=\"text-align: right;\">\n      <th></th>\n      <th>Date</th>\n      <th>Time</th>\n      <th>Open</th>\n      <th>High</th>\n      <th>Low</th>\n      <th>Close</th>\n      <th>Volume</th>\n      <th>Close_diff</th>\n      <th>h_l_diff</th>\n      <th>o_c_diff</th>\n    </tr>\n  </thead>\n  <tbody>\n    <tr>\n      <th>0</th>\n      <td>2017-05-16</td>\n      <td>16:00:00</td>\n      <td>150.110</td>\n      <td>150.2100</td>\n      <td>149.7100</td>\n      <td>149.8000</td>\n      <td>1910216</td>\n      <td>NaN</td>\n      <td>0.5000</td>\n      <td>0.3100</td>\n    </tr>\n    <tr>\n      <th>1</th>\n      <td>2017-05-16</td>\n      <td>17:00:00</td>\n      <td>149.810</td>\n      <td>149.9286</td>\n      <td>149.0300</td>\n      <td>149.6045</td>\n      <td>2829254</td>\n      <td>-0.1955</td>\n      <td>0.8986</td>\n      <td>0.2055</td>\n    </tr>\n    <tr>\n      <th>2</th>\n      <td>2017-05-16</td>\n      <td>18:00:00</td>\n      <td>149.610</td>\n      <td>150.0500</td>\n      <td>149.5900</td>\n      <td>150.0500</td>\n      <td>1724151</td>\n      <td>0.4455</td>\n      <td>0.4600</td>\n      <td>-0.4400</td>\n    </tr>\n    <tr>\n      <th>3</th>\n      <td>2017-05-16</td>\n      <td>19:00:00</td>\n      <td>150.045</td>\n      <td>150.0500</td>\n      <td>149.6300</td>\n      <td>149.7500</td>\n      <td>970392</td>\n      <td>-0.3000</td>\n      <td>0.4200</td>\n      <td>0.2950</td>\n    </tr>\n    <tr>\n      <th>4</th>\n      <td>2017-05-16</td>\n      <td>20:00:00</td>\n      <td>149.760</td>\n      <td>149.8950</td>\n      <td>149.3500</td>\n      <td>149.4407</td>\n      <td>1344857</td>\n      <td>-0.3093</td>\n      <td>0.5450</td>\n      <td>0.3193</td>\n    </tr>\n    <tr>\n      <th>5</th>\n      <td>2017-05-16</td>\n      <td>21:00:00</td>\n      <td>149.450</td>\n      <td>149.8000</td>\n      <td>149.4100</td>\n      <td>149.7450</td>\n      <td>1006844</td>\n      <td>0.3043</td>\n      <td>0.3900</td>\n      <td>-0.2950</td>\n    </tr>\n    <tr>\n      <th>6</th>\n      <td>2017-05-16</td>\n      <td>22:00:00</td>\n      <td>149.740</td>\n      <td>149.8500</td>\n      <td>149.5601</td>\n      <td>149.7800</td>\n      <td>2656057</td>\n      <td>0.0350</td>\n      <td>0.2899</td>\n      <td>-0.0400</td>\n    </tr>\n    <tr>\n      <th>7</th>\n      <td>2017-05-17</td>\n      <td>16:00:00</td>\n      <td>148.000</td>\n      <td>148.6700</td>\n      <td>147.2600</td>\n      <td>147.6300</td>\n      <td>3661194</td>\n      <td>-2.1500</td>\n      <td>1.4100</td>\n      <td>0.3700</td>\n    </tr>\n    <tr>\n      <th>8</th>\n      <td>2017-05-17</td>\n      <td>17:00:00</td>\n      <td>147.630</td>\n      <td>148.3300</td>\n      <td>146.6600</td>\n      <td>146.7450</td>\n      <td>4036998</td>\n      <td>-0.8850</td>\n      <td>1.6700</td>\n      <td>0.8850</td>\n    </tr>\n    <tr>\n      <th>9</th>\n      <td>2017-05-17</td>\n      <td>18:00:00</td>\n      <td>146.750</td>\n      <td>147.4200</td>\n      <td>146.3900</td>\n      <td>147.4200</td>\n      <td>2575473</td>\n      <td>0.6750</td>\n      <td>1.0300</td>\n      <td>-0.6700</td>\n    </tr>\n  </tbody>\n</table>\n</div>"
     },
     "execution_count": 362,
     "metadata": {},
     "output_type": "execute_result"
    }
   ],
   "source": [
    "df['h_l_diff'] = df['High'] - df['Low']\n",
    "df['o_c_diff'] = df['Open'] - df['Close']\n",
    "df.head(10)\n"
   ],
   "metadata": {
    "collapsed": false,
    "pycharm": {
     "name": "#%%\n"
    }
   }
  },
  {
   "cell_type": "code",
   "execution_count": 363,
   "outputs": [
    {
     "data": {
      "text/plain": "         Date      Time     Open      High       Low     Close   Volume  \\\n0  2017-05-16  16:00:00  150.110  150.2100  149.7100  149.8000  1910216   \n1  2017-05-16  17:00:00  149.810  149.9286  149.0300  149.6045  2829254   \n2  2017-05-16  18:00:00  149.610  150.0500  149.5900  150.0500  1724151   \n3  2017-05-16  19:00:00  150.045  150.0500  149.6300  149.7500   970392   \n4  2017-05-16  20:00:00  149.760  149.8950  149.3500  149.4407  1344857   \n5  2017-05-16  21:00:00  149.450  149.8000  149.4100  149.7450  1006844   \n6  2017-05-16  22:00:00  149.740  149.8500  149.5601  149.7800  2656057   \n7  2017-05-17  16:00:00  148.000  148.6700  147.2600  147.6300  3661194   \n8  2017-05-17  17:00:00  147.630  148.3300  146.6600  146.7450  4036998   \n9  2017-05-17  18:00:00  146.750  147.4200  146.3900  147.4200  2575473   \n\n   Close_diff  h_l_diff  o_c_diff  ...  o_c_diff_1  o_c_diff_2  o_c_diff_3  \\\n0         NaN    0.5000    0.3100  ...         NaN         NaN         NaN   \n1     -0.1955    0.8986    0.2055  ...     -0.1045         NaN         NaN   \n2      0.4455    0.4600   -0.4400  ...     -0.6455     -0.7500         NaN   \n3     -0.3000    0.4200    0.2950  ...      0.7350      0.0895     -0.0150   \n4     -0.3093    0.5450    0.3193  ...      0.0243      0.7593      0.1138   \n5      0.3043    0.3900   -0.2950  ...     -0.6143     -0.5900      0.1450   \n6      0.0350    0.2899   -0.0400  ...      0.2550     -0.3593     -0.3350   \n7     -2.1500    1.4100    0.3700  ...      0.4100      0.6650      0.0507   \n8     -0.8850    1.6700    0.8850  ...      0.5150      0.9250      1.1800   \n9      0.6750    1.0300   -0.6700  ...     -1.5550     -1.0400     -0.6300   \n\n   o_c_diff_4  o_c_diff_5  o_c_diff_6  o_c_diff_7  o_c_diff_8  o_c_diff_9  \\\n0         NaN         NaN         NaN         NaN         NaN         NaN   \n1         NaN         NaN         NaN         NaN         NaN         NaN   \n2         NaN         NaN         NaN         NaN         NaN         NaN   \n3         NaN         NaN         NaN         NaN         NaN         NaN   \n4      0.0093         NaN         NaN         NaN         NaN         NaN   \n5     -0.5005     -0.6050         NaN         NaN         NaN         NaN   \n6      0.4000     -0.2455     -0.3500         NaN         NaN         NaN   \n7      0.0750      0.8100      0.1645      0.0600         NaN         NaN   \n8      0.5657      0.5900      1.3250      0.6795      0.5750         NaN   \n9     -0.3750     -0.9893     -0.9650     -0.2300     -0.8755       -0.98   \n\n   o_c_diff_10  \n0          NaN  \n1          NaN  \n2          NaN  \n3          NaN  \n4          NaN  \n5          NaN  \n6          NaN  \n7          NaN  \n8          NaN  \n9          NaN  \n\n[10 rows x 70 columns]",
      "text/html": "<div>\n<style scoped>\n    .dataframe tbody tr th:only-of-type {\n        vertical-align: middle;\n    }\n\n    .dataframe tbody tr th {\n        vertical-align: top;\n    }\n\n    .dataframe thead th {\n        text-align: right;\n    }\n</style>\n<table border=\"1\" class=\"dataframe\">\n  <thead>\n    <tr style=\"text-align: right;\">\n      <th></th>\n      <th>Date</th>\n      <th>Time</th>\n      <th>Open</th>\n      <th>High</th>\n      <th>Low</th>\n      <th>Close</th>\n      <th>Volume</th>\n      <th>Close_diff</th>\n      <th>h_l_diff</th>\n      <th>o_c_diff</th>\n      <th>...</th>\n      <th>o_c_diff_1</th>\n      <th>o_c_diff_2</th>\n      <th>o_c_diff_3</th>\n      <th>o_c_diff_4</th>\n      <th>o_c_diff_5</th>\n      <th>o_c_diff_6</th>\n      <th>o_c_diff_7</th>\n      <th>o_c_diff_8</th>\n      <th>o_c_diff_9</th>\n      <th>o_c_diff_10</th>\n    </tr>\n  </thead>\n  <tbody>\n    <tr>\n      <th>0</th>\n      <td>2017-05-16</td>\n      <td>16:00:00</td>\n      <td>150.110</td>\n      <td>150.2100</td>\n      <td>149.7100</td>\n      <td>149.8000</td>\n      <td>1910216</td>\n      <td>NaN</td>\n      <td>0.5000</td>\n      <td>0.3100</td>\n      <td>...</td>\n      <td>NaN</td>\n      <td>NaN</td>\n      <td>NaN</td>\n      <td>NaN</td>\n      <td>NaN</td>\n      <td>NaN</td>\n      <td>NaN</td>\n      <td>NaN</td>\n      <td>NaN</td>\n      <td>NaN</td>\n    </tr>\n    <tr>\n      <th>1</th>\n      <td>2017-05-16</td>\n      <td>17:00:00</td>\n      <td>149.810</td>\n      <td>149.9286</td>\n      <td>149.0300</td>\n      <td>149.6045</td>\n      <td>2829254</td>\n      <td>-0.1955</td>\n      <td>0.8986</td>\n      <td>0.2055</td>\n      <td>...</td>\n      <td>-0.1045</td>\n      <td>NaN</td>\n      <td>NaN</td>\n      <td>NaN</td>\n      <td>NaN</td>\n      <td>NaN</td>\n      <td>NaN</td>\n      <td>NaN</td>\n      <td>NaN</td>\n      <td>NaN</td>\n    </tr>\n    <tr>\n      <th>2</th>\n      <td>2017-05-16</td>\n      <td>18:00:00</td>\n      <td>149.610</td>\n      <td>150.0500</td>\n      <td>149.5900</td>\n      <td>150.0500</td>\n      <td>1724151</td>\n      <td>0.4455</td>\n      <td>0.4600</td>\n      <td>-0.4400</td>\n      <td>...</td>\n      <td>-0.6455</td>\n      <td>-0.7500</td>\n      <td>NaN</td>\n      <td>NaN</td>\n      <td>NaN</td>\n      <td>NaN</td>\n      <td>NaN</td>\n      <td>NaN</td>\n      <td>NaN</td>\n      <td>NaN</td>\n    </tr>\n    <tr>\n      <th>3</th>\n      <td>2017-05-16</td>\n      <td>19:00:00</td>\n      <td>150.045</td>\n      <td>150.0500</td>\n      <td>149.6300</td>\n      <td>149.7500</td>\n      <td>970392</td>\n      <td>-0.3000</td>\n      <td>0.4200</td>\n      <td>0.2950</td>\n      <td>...</td>\n      <td>0.7350</td>\n      <td>0.0895</td>\n      <td>-0.0150</td>\n      <td>NaN</td>\n      <td>NaN</td>\n      <td>NaN</td>\n      <td>NaN</td>\n      <td>NaN</td>\n      <td>NaN</td>\n      <td>NaN</td>\n    </tr>\n    <tr>\n      <th>4</th>\n      <td>2017-05-16</td>\n      <td>20:00:00</td>\n      <td>149.760</td>\n      <td>149.8950</td>\n      <td>149.3500</td>\n      <td>149.4407</td>\n      <td>1344857</td>\n      <td>-0.3093</td>\n      <td>0.5450</td>\n      <td>0.3193</td>\n      <td>...</td>\n      <td>0.0243</td>\n      <td>0.7593</td>\n      <td>0.1138</td>\n      <td>0.0093</td>\n      <td>NaN</td>\n      <td>NaN</td>\n      <td>NaN</td>\n      <td>NaN</td>\n      <td>NaN</td>\n      <td>NaN</td>\n    </tr>\n    <tr>\n      <th>5</th>\n      <td>2017-05-16</td>\n      <td>21:00:00</td>\n      <td>149.450</td>\n      <td>149.8000</td>\n      <td>149.4100</td>\n      <td>149.7450</td>\n      <td>1006844</td>\n      <td>0.3043</td>\n      <td>0.3900</td>\n      <td>-0.2950</td>\n      <td>...</td>\n      <td>-0.6143</td>\n      <td>-0.5900</td>\n      <td>0.1450</td>\n      <td>-0.5005</td>\n      <td>-0.6050</td>\n      <td>NaN</td>\n      <td>NaN</td>\n      <td>NaN</td>\n      <td>NaN</td>\n      <td>NaN</td>\n    </tr>\n    <tr>\n      <th>6</th>\n      <td>2017-05-16</td>\n      <td>22:00:00</td>\n      <td>149.740</td>\n      <td>149.8500</td>\n      <td>149.5601</td>\n      <td>149.7800</td>\n      <td>2656057</td>\n      <td>0.0350</td>\n      <td>0.2899</td>\n      <td>-0.0400</td>\n      <td>...</td>\n      <td>0.2550</td>\n      <td>-0.3593</td>\n      <td>-0.3350</td>\n      <td>0.4000</td>\n      <td>-0.2455</td>\n      <td>-0.3500</td>\n      <td>NaN</td>\n      <td>NaN</td>\n      <td>NaN</td>\n      <td>NaN</td>\n    </tr>\n    <tr>\n      <th>7</th>\n      <td>2017-05-17</td>\n      <td>16:00:00</td>\n      <td>148.000</td>\n      <td>148.6700</td>\n      <td>147.2600</td>\n      <td>147.6300</td>\n      <td>3661194</td>\n      <td>-2.1500</td>\n      <td>1.4100</td>\n      <td>0.3700</td>\n      <td>...</td>\n      <td>0.4100</td>\n      <td>0.6650</td>\n      <td>0.0507</td>\n      <td>0.0750</td>\n      <td>0.8100</td>\n      <td>0.1645</td>\n      <td>0.0600</td>\n      <td>NaN</td>\n      <td>NaN</td>\n      <td>NaN</td>\n    </tr>\n    <tr>\n      <th>8</th>\n      <td>2017-05-17</td>\n      <td>17:00:00</td>\n      <td>147.630</td>\n      <td>148.3300</td>\n      <td>146.6600</td>\n      <td>146.7450</td>\n      <td>4036998</td>\n      <td>-0.8850</td>\n      <td>1.6700</td>\n      <td>0.8850</td>\n      <td>...</td>\n      <td>0.5150</td>\n      <td>0.9250</td>\n      <td>1.1800</td>\n      <td>0.5657</td>\n      <td>0.5900</td>\n      <td>1.3250</td>\n      <td>0.6795</td>\n      <td>0.5750</td>\n      <td>NaN</td>\n      <td>NaN</td>\n    </tr>\n    <tr>\n      <th>9</th>\n      <td>2017-05-17</td>\n      <td>18:00:00</td>\n      <td>146.750</td>\n      <td>147.4200</td>\n      <td>146.3900</td>\n      <td>147.4200</td>\n      <td>2575473</td>\n      <td>0.6750</td>\n      <td>1.0300</td>\n      <td>-0.6700</td>\n      <td>...</td>\n      <td>-1.5550</td>\n      <td>-1.0400</td>\n      <td>-0.6300</td>\n      <td>-0.3750</td>\n      <td>-0.9893</td>\n      <td>-0.9650</td>\n      <td>-0.2300</td>\n      <td>-0.8755</td>\n      <td>-0.98</td>\n      <td>NaN</td>\n    </tr>\n  </tbody>\n</table>\n<p>10 rows × 70 columns</p>\n</div>"
     },
     "execution_count": 363,
     "metadata": {},
     "output_type": "execute_result"
    }
   ],
   "source": [
    "#diffs\n",
    "for name in important_columns:\n",
    "    for i in range(1,11):\n",
    "        calculate_diffs(i,name)\n",
    "\n",
    "df.head(10)"
   ],
   "metadata": {
    "collapsed": false,
    "pycharm": {
     "name": "#%%\n"
    }
   }
  },
  {
   "cell_type": "code",
   "execution_count": 364,
   "outputs": [
    {
     "data": {
      "text/plain": "          Date      Time      Open      High       Low     Close   Volume  \\\n10  2017-05-17  19:00:00  147.4200  147.5000  146.8800  147.4040  1447021   \n11  2017-05-17  20:00:00  147.4001  147.4200  146.5800  146.9100  1639010   \n12  2017-05-17  21:00:00  146.9100  146.9834  145.6200  146.0800  3303803   \n13  2017-05-17  22:00:00  146.0800  146.3300  144.4216  144.8500  7778376   \n14  2017-05-18  16:00:00  144.7200  146.2300  144.5100  146.1000  4087815   \n15  2017-05-18  17:00:00  146.1100  147.4200  146.1100  146.8700  3926294   \n16  2017-05-18  18:00:00  146.8700  147.3724  146.3400  146.4300  2280229   \n17  2017-05-18  19:00:00  146.4400  147.1700  146.2000  146.7300  1460849   \n18  2017-05-18  20:00:00  146.7350  147.8000  146.5700  147.6066  1434632   \n19  2017-05-18  21:00:00  147.6100  148.1500  147.5600  147.6400  2415781   \n\n    Close_diff  h_l_diff  o_c_diff  ...  o_c_diff_1  o_c_diff_2  o_c_diff_3  \\\n10     -0.0160    0.6200    0.0160  ...      0.6860     -0.8690     -0.3540   \n11     -0.4940    0.8400    0.4901  ...      0.4741      1.1601     -0.3949   \n12     -0.8300    1.3634    0.8300  ...      0.3399      0.8140      1.5000   \n13     -1.2300    1.9084    1.2300  ...      0.4000      0.7399      1.2140   \n14      1.2500    1.7200   -1.3800  ...     -2.6100     -2.2100     -1.8701   \n15      0.7700    1.3100   -0.7600  ...      0.6200     -1.9900     -1.5900   \n16     -0.4400    1.0324    0.4400  ...      1.2000      1.8200     -0.7900   \n17      0.3000    0.9700   -0.2900  ...     -0.7300      0.4700      1.0900   \n18      0.8766    1.2300   -0.8716  ...     -0.5816     -1.3116     -0.1116   \n19      0.0334    0.5900   -0.0300  ...      0.8416      0.2600     -0.4700   \n\n    o_c_diff_4  o_c_diff_5  o_c_diff_6  o_c_diff_7  o_c_diff_8  o_c_diff_9  \\\n10      0.0560      0.3110     -0.3033     -0.2790      0.4560     -0.1895   \n11      0.1201      0.5301      0.7851      0.1708      0.1951      0.9301   \n12     -0.0550      0.4600      0.8700      1.1250      0.5107      0.5350   \n13      1.9000      0.3450      0.8600      1.2700      1.5250      0.9107   \n14     -1.3960     -0.7100     -2.2650     -1.7500     -1.3400     -1.0850   \n15     -1.2501     -0.7760     -0.0900     -1.6450     -1.1300     -0.7200   \n16     -0.3900     -0.0501      0.4240      1.1100     -0.4450      0.0700   \n17     -1.5200     -1.1200     -0.7801     -0.3060      0.3800     -1.1750   \n18      0.5084     -2.1016     -1.7016     -1.3617     -0.8876     -0.2016   \n19      0.7300      1.3500     -1.2600     -0.8600     -0.5201     -0.0460   \n\n    o_c_diff_10  \n10      -0.2940  \n11       0.2846  \n12       1.2700  \n13       0.9350  \n14      -1.6993  \n15      -0.4650  \n16       0.4800  \n17      -0.6600  \n18      -1.7566  \n19       0.6400  \n\n[10 rows x 70 columns]",
      "text/html": "<div>\n<style scoped>\n    .dataframe tbody tr th:only-of-type {\n        vertical-align: middle;\n    }\n\n    .dataframe tbody tr th {\n        vertical-align: top;\n    }\n\n    .dataframe thead th {\n        text-align: right;\n    }\n</style>\n<table border=\"1\" class=\"dataframe\">\n  <thead>\n    <tr style=\"text-align: right;\">\n      <th></th>\n      <th>Date</th>\n      <th>Time</th>\n      <th>Open</th>\n      <th>High</th>\n      <th>Low</th>\n      <th>Close</th>\n      <th>Volume</th>\n      <th>Close_diff</th>\n      <th>h_l_diff</th>\n      <th>o_c_diff</th>\n      <th>...</th>\n      <th>o_c_diff_1</th>\n      <th>o_c_diff_2</th>\n      <th>o_c_diff_3</th>\n      <th>o_c_diff_4</th>\n      <th>o_c_diff_5</th>\n      <th>o_c_diff_6</th>\n      <th>o_c_diff_7</th>\n      <th>o_c_diff_8</th>\n      <th>o_c_diff_9</th>\n      <th>o_c_diff_10</th>\n    </tr>\n  </thead>\n  <tbody>\n    <tr>\n      <th>10</th>\n      <td>2017-05-17</td>\n      <td>19:00:00</td>\n      <td>147.4200</td>\n      <td>147.5000</td>\n      <td>146.8800</td>\n      <td>147.4040</td>\n      <td>1447021</td>\n      <td>-0.0160</td>\n      <td>0.6200</td>\n      <td>0.0160</td>\n      <td>...</td>\n      <td>0.6860</td>\n      <td>-0.8690</td>\n      <td>-0.3540</td>\n      <td>0.0560</td>\n      <td>0.3110</td>\n      <td>-0.3033</td>\n      <td>-0.2790</td>\n      <td>0.4560</td>\n      <td>-0.1895</td>\n      <td>-0.2940</td>\n    </tr>\n    <tr>\n      <th>11</th>\n      <td>2017-05-17</td>\n      <td>20:00:00</td>\n      <td>147.4001</td>\n      <td>147.4200</td>\n      <td>146.5800</td>\n      <td>146.9100</td>\n      <td>1639010</td>\n      <td>-0.4940</td>\n      <td>0.8400</td>\n      <td>0.4901</td>\n      <td>...</td>\n      <td>0.4741</td>\n      <td>1.1601</td>\n      <td>-0.3949</td>\n      <td>0.1201</td>\n      <td>0.5301</td>\n      <td>0.7851</td>\n      <td>0.1708</td>\n      <td>0.1951</td>\n      <td>0.9301</td>\n      <td>0.2846</td>\n    </tr>\n    <tr>\n      <th>12</th>\n      <td>2017-05-17</td>\n      <td>21:00:00</td>\n      <td>146.9100</td>\n      <td>146.9834</td>\n      <td>145.6200</td>\n      <td>146.0800</td>\n      <td>3303803</td>\n      <td>-0.8300</td>\n      <td>1.3634</td>\n      <td>0.8300</td>\n      <td>...</td>\n      <td>0.3399</td>\n      <td>0.8140</td>\n      <td>1.5000</td>\n      <td>-0.0550</td>\n      <td>0.4600</td>\n      <td>0.8700</td>\n      <td>1.1250</td>\n      <td>0.5107</td>\n      <td>0.5350</td>\n      <td>1.2700</td>\n    </tr>\n    <tr>\n      <th>13</th>\n      <td>2017-05-17</td>\n      <td>22:00:00</td>\n      <td>146.0800</td>\n      <td>146.3300</td>\n      <td>144.4216</td>\n      <td>144.8500</td>\n      <td>7778376</td>\n      <td>-1.2300</td>\n      <td>1.9084</td>\n      <td>1.2300</td>\n      <td>...</td>\n      <td>0.4000</td>\n      <td>0.7399</td>\n      <td>1.2140</td>\n      <td>1.9000</td>\n      <td>0.3450</td>\n      <td>0.8600</td>\n      <td>1.2700</td>\n      <td>1.5250</td>\n      <td>0.9107</td>\n      <td>0.9350</td>\n    </tr>\n    <tr>\n      <th>14</th>\n      <td>2017-05-18</td>\n      <td>16:00:00</td>\n      <td>144.7200</td>\n      <td>146.2300</td>\n      <td>144.5100</td>\n      <td>146.1000</td>\n      <td>4087815</td>\n      <td>1.2500</td>\n      <td>1.7200</td>\n      <td>-1.3800</td>\n      <td>...</td>\n      <td>-2.6100</td>\n      <td>-2.2100</td>\n      <td>-1.8701</td>\n      <td>-1.3960</td>\n      <td>-0.7100</td>\n      <td>-2.2650</td>\n      <td>-1.7500</td>\n      <td>-1.3400</td>\n      <td>-1.0850</td>\n      <td>-1.6993</td>\n    </tr>\n    <tr>\n      <th>15</th>\n      <td>2017-05-18</td>\n      <td>17:00:00</td>\n      <td>146.1100</td>\n      <td>147.4200</td>\n      <td>146.1100</td>\n      <td>146.8700</td>\n      <td>3926294</td>\n      <td>0.7700</td>\n      <td>1.3100</td>\n      <td>-0.7600</td>\n      <td>...</td>\n      <td>0.6200</td>\n      <td>-1.9900</td>\n      <td>-1.5900</td>\n      <td>-1.2501</td>\n      <td>-0.7760</td>\n      <td>-0.0900</td>\n      <td>-1.6450</td>\n      <td>-1.1300</td>\n      <td>-0.7200</td>\n      <td>-0.4650</td>\n    </tr>\n    <tr>\n      <th>16</th>\n      <td>2017-05-18</td>\n      <td>18:00:00</td>\n      <td>146.8700</td>\n      <td>147.3724</td>\n      <td>146.3400</td>\n      <td>146.4300</td>\n      <td>2280229</td>\n      <td>-0.4400</td>\n      <td>1.0324</td>\n      <td>0.4400</td>\n      <td>...</td>\n      <td>1.2000</td>\n      <td>1.8200</td>\n      <td>-0.7900</td>\n      <td>-0.3900</td>\n      <td>-0.0501</td>\n      <td>0.4240</td>\n      <td>1.1100</td>\n      <td>-0.4450</td>\n      <td>0.0700</td>\n      <td>0.4800</td>\n    </tr>\n    <tr>\n      <th>17</th>\n      <td>2017-05-18</td>\n      <td>19:00:00</td>\n      <td>146.4400</td>\n      <td>147.1700</td>\n      <td>146.2000</td>\n      <td>146.7300</td>\n      <td>1460849</td>\n      <td>0.3000</td>\n      <td>0.9700</td>\n      <td>-0.2900</td>\n      <td>...</td>\n      <td>-0.7300</td>\n      <td>0.4700</td>\n      <td>1.0900</td>\n      <td>-1.5200</td>\n      <td>-1.1200</td>\n      <td>-0.7801</td>\n      <td>-0.3060</td>\n      <td>0.3800</td>\n      <td>-1.1750</td>\n      <td>-0.6600</td>\n    </tr>\n    <tr>\n      <th>18</th>\n      <td>2017-05-18</td>\n      <td>20:00:00</td>\n      <td>146.7350</td>\n      <td>147.8000</td>\n      <td>146.5700</td>\n      <td>147.6066</td>\n      <td>1434632</td>\n      <td>0.8766</td>\n      <td>1.2300</td>\n      <td>-0.8716</td>\n      <td>...</td>\n      <td>-0.5816</td>\n      <td>-1.3116</td>\n      <td>-0.1116</td>\n      <td>0.5084</td>\n      <td>-2.1016</td>\n      <td>-1.7016</td>\n      <td>-1.3617</td>\n      <td>-0.8876</td>\n      <td>-0.2016</td>\n      <td>-1.7566</td>\n    </tr>\n    <tr>\n      <th>19</th>\n      <td>2017-05-18</td>\n      <td>21:00:00</td>\n      <td>147.6100</td>\n      <td>148.1500</td>\n      <td>147.5600</td>\n      <td>147.6400</td>\n      <td>2415781</td>\n      <td>0.0334</td>\n      <td>0.5900</td>\n      <td>-0.0300</td>\n      <td>...</td>\n      <td>0.8416</td>\n      <td>0.2600</td>\n      <td>-0.4700</td>\n      <td>0.7300</td>\n      <td>1.3500</td>\n      <td>-1.2600</td>\n      <td>-0.8600</td>\n      <td>-0.5201</td>\n      <td>-0.0460</td>\n      <td>0.6400</td>\n    </tr>\n  </tbody>\n</table>\n<p>10 rows × 70 columns</p>\n</div>"
     },
     "execution_count": 364,
     "metadata": {},
     "output_type": "execute_result"
    }
   ],
   "source": [
    "# delete nulls rows\n",
    "df = df.dropna()\n",
    "df.head(10)"
   ],
   "metadata": {
    "collapsed": false,
    "pycharm": {
     "name": "#%%\n"
    }
   }
  },
  {
   "cell_type": "code",
   "execution_count": 365,
   "outputs": [
    {
     "name": "stdout",
     "output_type": "stream",
     "text": [
      "<class 'pandas.core.frame.DataFrame'>\n",
      "Int64Index: 986 entries, 10 to 995\n",
      "Data columns (total 70 columns):\n",
      " #   Column       Non-Null Count  Dtype  \n",
      "---  ------       --------------  -----  \n",
      " 0   Date         986 non-null    object \n",
      " 1   Time         986 non-null    object \n",
      " 2   Open         986 non-null    float64\n",
      " 3   High         986 non-null    float64\n",
      " 4   Low          986 non-null    float64\n",
      " 5   Close        986 non-null    float64\n",
      " 6   Volume       986 non-null    int64  \n",
      " 7   Close_diff   986 non-null    float64\n",
      " 8   h_l_diff     986 non-null    float64\n",
      " 9   o_c_diff     986 non-null    float64\n",
      " 10  Open_1       986 non-null    float64\n",
      " 11  Open_2       986 non-null    float64\n",
      " 12  Open_3       986 non-null    float64\n",
      " 13  Open_4       986 non-null    float64\n",
      " 14  Open_5       986 non-null    float64\n",
      " 15  Open_6       986 non-null    float64\n",
      " 16  Open_7       986 non-null    float64\n",
      " 17  Open_8       986 non-null    float64\n",
      " 18  Open_9       986 non-null    float64\n",
      " 19  Open_10      986 non-null    float64\n",
      " 20  High_1       986 non-null    float64\n",
      " 21  High_2       986 non-null    float64\n",
      " 22  High_3       986 non-null    float64\n",
      " 23  High_4       986 non-null    float64\n",
      " 24  High_5       986 non-null    float64\n",
      " 25  High_6       986 non-null    float64\n",
      " 26  High_7       986 non-null    float64\n",
      " 27  High_8       986 non-null    float64\n",
      " 28  High_9       986 non-null    float64\n",
      " 29  High_10      986 non-null    float64\n",
      " 30  Low_1        986 non-null    float64\n",
      " 31  Low_2        986 non-null    float64\n",
      " 32  Low_3        986 non-null    float64\n",
      " 33  Low_4        986 non-null    float64\n",
      " 34  Low_5        986 non-null    float64\n",
      " 35  Low_6        986 non-null    float64\n",
      " 36  Low_7        986 non-null    float64\n",
      " 37  Low_8        986 non-null    float64\n",
      " 38  Low_9        986 non-null    float64\n",
      " 39  Low_10       986 non-null    float64\n",
      " 40  Close_1      986 non-null    float64\n",
      " 41  Close_2      986 non-null    float64\n",
      " 42  Close_3      986 non-null    float64\n",
      " 43  Close_4      986 non-null    float64\n",
      " 44  Close_5      986 non-null    float64\n",
      " 45  Close_6      986 non-null    float64\n",
      " 46  Close_7      986 non-null    float64\n",
      " 47  Close_8      986 non-null    float64\n",
      " 48  Close_9      986 non-null    float64\n",
      " 49  Close_10     986 non-null    float64\n",
      " 50  h_l_diff_1   986 non-null    float64\n",
      " 51  h_l_diff_2   986 non-null    float64\n",
      " 52  h_l_diff_3   986 non-null    float64\n",
      " 53  h_l_diff_4   986 non-null    float64\n",
      " 54  h_l_diff_5   986 non-null    float64\n",
      " 55  h_l_diff_6   986 non-null    float64\n",
      " 56  h_l_diff_7   986 non-null    float64\n",
      " 57  h_l_diff_8   986 non-null    float64\n",
      " 58  h_l_diff_9   986 non-null    float64\n",
      " 59  h_l_diff_10  986 non-null    float64\n",
      " 60  o_c_diff_1   986 non-null    float64\n",
      " 61  o_c_diff_2   986 non-null    float64\n",
      " 62  o_c_diff_3   986 non-null    float64\n",
      " 63  o_c_diff_4   986 non-null    float64\n",
      " 64  o_c_diff_5   986 non-null    float64\n",
      " 65  o_c_diff_6   986 non-null    float64\n",
      " 66  o_c_diff_7   986 non-null    float64\n",
      " 67  o_c_diff_8   986 non-null    float64\n",
      " 68  o_c_diff_9   986 non-null    float64\n",
      " 69  o_c_diff_10  986 non-null    float64\n",
      "dtypes: float64(67), int64(1), object(2)\n",
      "memory usage: 546.9+ KB\n"
     ]
    }
   ],
   "source": [
    "df.info()"
   ],
   "metadata": {
    "collapsed": false,
    "pycharm": {
     "name": "#%%\n"
    }
   }
  },
  {
   "cell_type": "code",
   "execution_count": 366,
   "outputs": [
    {
     "data": {
      "text/plain": "             Open        High         Low       Close        Volume  \\\ncount  986.000000  986.000000  986.000000  986.000000  9.860000e+02   \nmean   166.474537  166.908559  166.005378  166.479531  1.996693e+06   \nstd     10.275949   10.270206   10.267749   10.263391  1.322684e+06   \nmin    144.720000  146.230000  144.421600  144.850000  3.228230e+05   \n25%    154.462500  154.714100  153.950000  154.490000  1.119780e+06   \n50%    169.907500  170.262500  169.295000  169.920000  1.663460e+06   \n75%    173.202500  173.577500  172.657500  173.146250  2.455205e+06   \nmax    183.510000  184.250000  183.220000  183.400000  1.141471e+07   \n\n       Close_diff    h_l_diff    o_c_diff      Open_1      Open_2  ...  \\\ncount  986.000000  986.000000  986.000000  986.000000  986.000000  ...   \nmean     0.029067    0.903181   -0.004994    0.029838    0.058316  ...   \nstd      0.776237    0.590169    0.645833    0.773955    1.095303  ...   \nmin     -6.040000    0.010000   -2.985000   -4.740000   -6.525000  ...   \n25%     -0.260000    0.520625   -0.333375   -0.303000   -0.419175  ...   \n50%      0.020000    0.750000   -0.011050    0.030000    0.080000  ...   \n75%      0.374500    1.110075    0.273325    0.398750    0.561575  ...   \nmax      8.260000    5.050000    4.740000    9.390000    9.550000  ...   \n\n       o_c_diff_1  o_c_diff_2  o_c_diff_3  o_c_diff_4  o_c_diff_5  o_c_diff_6  \\\ncount  986.000000  986.000000  986.000000  986.000000  986.000000  986.000000   \nmean     0.000771   -0.000603   -0.001577   -0.001131   -0.000619   -0.002020   \nstd      0.912236    0.936313    0.915913    0.890809    0.916661    0.907233   \nmin     -4.800000   -6.730000   -5.370000   -5.350000   -4.305000   -7.085000   \n25%     -0.438100   -0.464675   -0.492325   -0.484750   -0.475000   -0.439450   \n50%      0.021850   -0.019000   -0.004950   -0.017000    0.040000    0.015000   \n75%      0.519850    0.504525    0.470300    0.513750    0.518100    0.491875   \nmax      5.040000    4.992300    4.970400    4.350000    4.646500    4.360000   \n\n       o_c_diff_7  o_c_diff_8  o_c_diff_9  o_c_diff_10  \ncount  986.000000  986.000000  986.000000   986.000000  \nmean    -0.004520   -0.004256   -0.003613    -0.003785  \nstd      0.932548    0.906265    0.917219     0.910550  \nmin     -5.540800   -5.521400   -4.740000    -5.857800  \n25%     -0.467275   -0.470000   -0.488750    -0.505450  \n50%     -0.024700   -0.012500   -0.014800    -0.026500  \n75%      0.480000    0.450900    0.493150     0.523950  \nmax      5.570000    4.400000    5.590000     4.880000  \n\n[8 rows x 68 columns]",
      "text/html": "<div>\n<style scoped>\n    .dataframe tbody tr th:only-of-type {\n        vertical-align: middle;\n    }\n\n    .dataframe tbody tr th {\n        vertical-align: top;\n    }\n\n    .dataframe thead th {\n        text-align: right;\n    }\n</style>\n<table border=\"1\" class=\"dataframe\">\n  <thead>\n    <tr style=\"text-align: right;\">\n      <th></th>\n      <th>Open</th>\n      <th>High</th>\n      <th>Low</th>\n      <th>Close</th>\n      <th>Volume</th>\n      <th>Close_diff</th>\n      <th>h_l_diff</th>\n      <th>o_c_diff</th>\n      <th>Open_1</th>\n      <th>Open_2</th>\n      <th>...</th>\n      <th>o_c_diff_1</th>\n      <th>o_c_diff_2</th>\n      <th>o_c_diff_3</th>\n      <th>o_c_diff_4</th>\n      <th>o_c_diff_5</th>\n      <th>o_c_diff_6</th>\n      <th>o_c_diff_7</th>\n      <th>o_c_diff_8</th>\n      <th>o_c_diff_9</th>\n      <th>o_c_diff_10</th>\n    </tr>\n  </thead>\n  <tbody>\n    <tr>\n      <th>count</th>\n      <td>986.000000</td>\n      <td>986.000000</td>\n      <td>986.000000</td>\n      <td>986.000000</td>\n      <td>9.860000e+02</td>\n      <td>986.000000</td>\n      <td>986.000000</td>\n      <td>986.000000</td>\n      <td>986.000000</td>\n      <td>986.000000</td>\n      <td>...</td>\n      <td>986.000000</td>\n      <td>986.000000</td>\n      <td>986.000000</td>\n      <td>986.000000</td>\n      <td>986.000000</td>\n      <td>986.000000</td>\n      <td>986.000000</td>\n      <td>986.000000</td>\n      <td>986.000000</td>\n      <td>986.000000</td>\n    </tr>\n    <tr>\n      <th>mean</th>\n      <td>166.474537</td>\n      <td>166.908559</td>\n      <td>166.005378</td>\n      <td>166.479531</td>\n      <td>1.996693e+06</td>\n      <td>0.029067</td>\n      <td>0.903181</td>\n      <td>-0.004994</td>\n      <td>0.029838</td>\n      <td>0.058316</td>\n      <td>...</td>\n      <td>0.000771</td>\n      <td>-0.000603</td>\n      <td>-0.001577</td>\n      <td>-0.001131</td>\n      <td>-0.000619</td>\n      <td>-0.002020</td>\n      <td>-0.004520</td>\n      <td>-0.004256</td>\n      <td>-0.003613</td>\n      <td>-0.003785</td>\n    </tr>\n    <tr>\n      <th>std</th>\n      <td>10.275949</td>\n      <td>10.270206</td>\n      <td>10.267749</td>\n      <td>10.263391</td>\n      <td>1.322684e+06</td>\n      <td>0.776237</td>\n      <td>0.590169</td>\n      <td>0.645833</td>\n      <td>0.773955</td>\n      <td>1.095303</td>\n      <td>...</td>\n      <td>0.912236</td>\n      <td>0.936313</td>\n      <td>0.915913</td>\n      <td>0.890809</td>\n      <td>0.916661</td>\n      <td>0.907233</td>\n      <td>0.932548</td>\n      <td>0.906265</td>\n      <td>0.917219</td>\n      <td>0.910550</td>\n    </tr>\n    <tr>\n      <th>min</th>\n      <td>144.720000</td>\n      <td>146.230000</td>\n      <td>144.421600</td>\n      <td>144.850000</td>\n      <td>3.228230e+05</td>\n      <td>-6.040000</td>\n      <td>0.010000</td>\n      <td>-2.985000</td>\n      <td>-4.740000</td>\n      <td>-6.525000</td>\n      <td>...</td>\n      <td>-4.800000</td>\n      <td>-6.730000</td>\n      <td>-5.370000</td>\n      <td>-5.350000</td>\n      <td>-4.305000</td>\n      <td>-7.085000</td>\n      <td>-5.540800</td>\n      <td>-5.521400</td>\n      <td>-4.740000</td>\n      <td>-5.857800</td>\n    </tr>\n    <tr>\n      <th>25%</th>\n      <td>154.462500</td>\n      <td>154.714100</td>\n      <td>153.950000</td>\n      <td>154.490000</td>\n      <td>1.119780e+06</td>\n      <td>-0.260000</td>\n      <td>0.520625</td>\n      <td>-0.333375</td>\n      <td>-0.303000</td>\n      <td>-0.419175</td>\n      <td>...</td>\n      <td>-0.438100</td>\n      <td>-0.464675</td>\n      <td>-0.492325</td>\n      <td>-0.484750</td>\n      <td>-0.475000</td>\n      <td>-0.439450</td>\n      <td>-0.467275</td>\n      <td>-0.470000</td>\n      <td>-0.488750</td>\n      <td>-0.505450</td>\n    </tr>\n    <tr>\n      <th>50%</th>\n      <td>169.907500</td>\n      <td>170.262500</td>\n      <td>169.295000</td>\n      <td>169.920000</td>\n      <td>1.663460e+06</td>\n      <td>0.020000</td>\n      <td>0.750000</td>\n      <td>-0.011050</td>\n      <td>0.030000</td>\n      <td>0.080000</td>\n      <td>...</td>\n      <td>0.021850</td>\n      <td>-0.019000</td>\n      <td>-0.004950</td>\n      <td>-0.017000</td>\n      <td>0.040000</td>\n      <td>0.015000</td>\n      <td>-0.024700</td>\n      <td>-0.012500</td>\n      <td>-0.014800</td>\n      <td>-0.026500</td>\n    </tr>\n    <tr>\n      <th>75%</th>\n      <td>173.202500</td>\n      <td>173.577500</td>\n      <td>172.657500</td>\n      <td>173.146250</td>\n      <td>2.455205e+06</td>\n      <td>0.374500</td>\n      <td>1.110075</td>\n      <td>0.273325</td>\n      <td>0.398750</td>\n      <td>0.561575</td>\n      <td>...</td>\n      <td>0.519850</td>\n      <td>0.504525</td>\n      <td>0.470300</td>\n      <td>0.513750</td>\n      <td>0.518100</td>\n      <td>0.491875</td>\n      <td>0.480000</td>\n      <td>0.450900</td>\n      <td>0.493150</td>\n      <td>0.523950</td>\n    </tr>\n    <tr>\n      <th>max</th>\n      <td>183.510000</td>\n      <td>184.250000</td>\n      <td>183.220000</td>\n      <td>183.400000</td>\n      <td>1.141471e+07</td>\n      <td>8.260000</td>\n      <td>5.050000</td>\n      <td>4.740000</td>\n      <td>9.390000</td>\n      <td>9.550000</td>\n      <td>...</td>\n      <td>5.040000</td>\n      <td>4.992300</td>\n      <td>4.970400</td>\n      <td>4.350000</td>\n      <td>4.646500</td>\n      <td>4.360000</td>\n      <td>5.570000</td>\n      <td>4.400000</td>\n      <td>5.590000</td>\n      <td>4.880000</td>\n    </tr>\n  </tbody>\n</table>\n<p>8 rows × 68 columns</p>\n</div>"
     },
     "execution_count": 366,
     "metadata": {},
     "output_type": "execute_result"
    }
   ],
   "source": [
    "df.describe()"
   ],
   "metadata": {
    "collapsed": false,
    "pycharm": {
     "name": "#%%\n"
    }
   }
  },
  {
   "cell_type": "code",
   "execution_count": 367,
   "outputs": [
    {
     "data": {
      "text/plain": "          Date      Time      Open      High       Low     Close   Volume  \\\n10  2017-05-17  19:00:00  147.4200  147.5000  146.8800  147.4040  1447021   \n11  2017-05-17  20:00:00  147.4001  147.4200  146.5800  146.9100  1639010   \n12  2017-05-17  21:00:00  146.9100  146.9834  145.6200  146.0800  3303803   \n13  2017-05-17  22:00:00  146.0800  146.3300  144.4216  144.8500  7778376   \n14  2017-05-18  16:00:00  144.7200  146.2300  144.5100  146.1000  4087815   \n15  2017-05-18  17:00:00  146.1100  147.4200  146.1100  146.8700  3926294   \n16  2017-05-18  18:00:00  146.8700  147.3724  146.3400  146.4300  2280229   \n17  2017-05-18  19:00:00  146.4400  147.1700  146.2000  146.7300  1460849   \n18  2017-05-18  20:00:00  146.7350  147.8000  146.5700  147.6066  1434632   \n19  2017-05-18  21:00:00  147.6100  148.1500  147.5600  147.6400  2415781   \n\n    Close_diff  h_l_diff  o_c_diff  ...  o_c_diff_7  o_c_diff_8  o_c_diff_9  \\\n10     -0.0160    0.6200    0.0160  ...     -0.2790      0.4560     -0.1895   \n11     -0.4940    0.8400    0.4901  ...      0.1708      0.1951      0.9301   \n12     -0.8300    1.3634    0.8300  ...      1.1250      0.5107      0.5350   \n13     -1.2300    1.9084    1.2300  ...      1.2700      1.5250      0.9107   \n14      1.2500    1.7200   -1.3800  ...     -1.7500     -1.3400     -1.0850   \n15      0.7700    1.3100   -0.7600  ...     -1.6450     -1.1300     -0.7200   \n16     -0.4400    1.0324    0.4400  ...      1.1100     -0.4450      0.0700   \n17      0.3000    0.9700   -0.2900  ...     -0.3060      0.3800     -1.1750   \n18      0.8766    1.2300   -0.8716  ...     -1.3617     -0.8876     -0.2016   \n19      0.0334    0.5900   -0.0300  ...     -0.8600     -0.5201     -0.0460   \n\n    o_c_diff_10  Open_daily_mean  High_daily_mean  Low_daily_mean  \\\n10      -0.2940       146.952525       147.058350      145.875400   \n11       0.2846       146.952525       147.058350      145.875400   \n12       1.2700       146.952525       147.058350      145.875400   \n13       0.9350       146.952525       147.058350      145.875400   \n14      -1.6993       146.589286       147.457486      146.394286   \n15      -0.4650       146.589286       147.457486      146.394286   \n16       0.4800       146.589286       147.457486      146.394286   \n17      -0.6600       146.589286       147.457486      146.394286   \n18      -1.7566       146.589286       147.457486      146.394286   \n19       0.6400       146.589286       147.457486      146.394286   \n\n    Close_daily_mean  h_l_diff_daily_mean  o_c_diff_daily_mean  \n10        146.311000              1.18295             0.641525  \n11        146.311000              1.18295             0.641525  \n12        146.311000              1.18295             0.641525  \n13        146.311000              1.18295             0.641525  \n14        146.992371              1.06320            -0.403086  \n15        146.992371              1.06320            -0.403086  \n16        146.992371              1.06320            -0.403086  \n17        146.992371              1.06320            -0.403086  \n18        146.992371              1.06320            -0.403086  \n19        146.992371              1.06320            -0.403086  \n\n[10 rows x 76 columns]",
      "text/html": "<div>\n<style scoped>\n    .dataframe tbody tr th:only-of-type {\n        vertical-align: middle;\n    }\n\n    .dataframe tbody tr th {\n        vertical-align: top;\n    }\n\n    .dataframe thead th {\n        text-align: right;\n    }\n</style>\n<table border=\"1\" class=\"dataframe\">\n  <thead>\n    <tr style=\"text-align: right;\">\n      <th></th>\n      <th>Date</th>\n      <th>Time</th>\n      <th>Open</th>\n      <th>High</th>\n      <th>Low</th>\n      <th>Close</th>\n      <th>Volume</th>\n      <th>Close_diff</th>\n      <th>h_l_diff</th>\n      <th>o_c_diff</th>\n      <th>...</th>\n      <th>o_c_diff_7</th>\n      <th>o_c_diff_8</th>\n      <th>o_c_diff_9</th>\n      <th>o_c_diff_10</th>\n      <th>Open_daily_mean</th>\n      <th>High_daily_mean</th>\n      <th>Low_daily_mean</th>\n      <th>Close_daily_mean</th>\n      <th>h_l_diff_daily_mean</th>\n      <th>o_c_diff_daily_mean</th>\n    </tr>\n  </thead>\n  <tbody>\n    <tr>\n      <th>10</th>\n      <td>2017-05-17</td>\n      <td>19:00:00</td>\n      <td>147.4200</td>\n      <td>147.5000</td>\n      <td>146.8800</td>\n      <td>147.4040</td>\n      <td>1447021</td>\n      <td>-0.0160</td>\n      <td>0.6200</td>\n      <td>0.0160</td>\n      <td>...</td>\n      <td>-0.2790</td>\n      <td>0.4560</td>\n      <td>-0.1895</td>\n      <td>-0.2940</td>\n      <td>146.952525</td>\n      <td>147.058350</td>\n      <td>145.875400</td>\n      <td>146.311000</td>\n      <td>1.18295</td>\n      <td>0.641525</td>\n    </tr>\n    <tr>\n      <th>11</th>\n      <td>2017-05-17</td>\n      <td>20:00:00</td>\n      <td>147.4001</td>\n      <td>147.4200</td>\n      <td>146.5800</td>\n      <td>146.9100</td>\n      <td>1639010</td>\n      <td>-0.4940</td>\n      <td>0.8400</td>\n      <td>0.4901</td>\n      <td>...</td>\n      <td>0.1708</td>\n      <td>0.1951</td>\n      <td>0.9301</td>\n      <td>0.2846</td>\n      <td>146.952525</td>\n      <td>147.058350</td>\n      <td>145.875400</td>\n      <td>146.311000</td>\n      <td>1.18295</td>\n      <td>0.641525</td>\n    </tr>\n    <tr>\n      <th>12</th>\n      <td>2017-05-17</td>\n      <td>21:00:00</td>\n      <td>146.9100</td>\n      <td>146.9834</td>\n      <td>145.6200</td>\n      <td>146.0800</td>\n      <td>3303803</td>\n      <td>-0.8300</td>\n      <td>1.3634</td>\n      <td>0.8300</td>\n      <td>...</td>\n      <td>1.1250</td>\n      <td>0.5107</td>\n      <td>0.5350</td>\n      <td>1.2700</td>\n      <td>146.952525</td>\n      <td>147.058350</td>\n      <td>145.875400</td>\n      <td>146.311000</td>\n      <td>1.18295</td>\n      <td>0.641525</td>\n    </tr>\n    <tr>\n      <th>13</th>\n      <td>2017-05-17</td>\n      <td>22:00:00</td>\n      <td>146.0800</td>\n      <td>146.3300</td>\n      <td>144.4216</td>\n      <td>144.8500</td>\n      <td>7778376</td>\n      <td>-1.2300</td>\n      <td>1.9084</td>\n      <td>1.2300</td>\n      <td>...</td>\n      <td>1.2700</td>\n      <td>1.5250</td>\n      <td>0.9107</td>\n      <td>0.9350</td>\n      <td>146.952525</td>\n      <td>147.058350</td>\n      <td>145.875400</td>\n      <td>146.311000</td>\n      <td>1.18295</td>\n      <td>0.641525</td>\n    </tr>\n    <tr>\n      <th>14</th>\n      <td>2017-05-18</td>\n      <td>16:00:00</td>\n      <td>144.7200</td>\n      <td>146.2300</td>\n      <td>144.5100</td>\n      <td>146.1000</td>\n      <td>4087815</td>\n      <td>1.2500</td>\n      <td>1.7200</td>\n      <td>-1.3800</td>\n      <td>...</td>\n      <td>-1.7500</td>\n      <td>-1.3400</td>\n      <td>-1.0850</td>\n      <td>-1.6993</td>\n      <td>146.589286</td>\n      <td>147.457486</td>\n      <td>146.394286</td>\n      <td>146.992371</td>\n      <td>1.06320</td>\n      <td>-0.403086</td>\n    </tr>\n    <tr>\n      <th>15</th>\n      <td>2017-05-18</td>\n      <td>17:00:00</td>\n      <td>146.1100</td>\n      <td>147.4200</td>\n      <td>146.1100</td>\n      <td>146.8700</td>\n      <td>3926294</td>\n      <td>0.7700</td>\n      <td>1.3100</td>\n      <td>-0.7600</td>\n      <td>...</td>\n      <td>-1.6450</td>\n      <td>-1.1300</td>\n      <td>-0.7200</td>\n      <td>-0.4650</td>\n      <td>146.589286</td>\n      <td>147.457486</td>\n      <td>146.394286</td>\n      <td>146.992371</td>\n      <td>1.06320</td>\n      <td>-0.403086</td>\n    </tr>\n    <tr>\n      <th>16</th>\n      <td>2017-05-18</td>\n      <td>18:00:00</td>\n      <td>146.8700</td>\n      <td>147.3724</td>\n      <td>146.3400</td>\n      <td>146.4300</td>\n      <td>2280229</td>\n      <td>-0.4400</td>\n      <td>1.0324</td>\n      <td>0.4400</td>\n      <td>...</td>\n      <td>1.1100</td>\n      <td>-0.4450</td>\n      <td>0.0700</td>\n      <td>0.4800</td>\n      <td>146.589286</td>\n      <td>147.457486</td>\n      <td>146.394286</td>\n      <td>146.992371</td>\n      <td>1.06320</td>\n      <td>-0.403086</td>\n    </tr>\n    <tr>\n      <th>17</th>\n      <td>2017-05-18</td>\n      <td>19:00:00</td>\n      <td>146.4400</td>\n      <td>147.1700</td>\n      <td>146.2000</td>\n      <td>146.7300</td>\n      <td>1460849</td>\n      <td>0.3000</td>\n      <td>0.9700</td>\n      <td>-0.2900</td>\n      <td>...</td>\n      <td>-0.3060</td>\n      <td>0.3800</td>\n      <td>-1.1750</td>\n      <td>-0.6600</td>\n      <td>146.589286</td>\n      <td>147.457486</td>\n      <td>146.394286</td>\n      <td>146.992371</td>\n      <td>1.06320</td>\n      <td>-0.403086</td>\n    </tr>\n    <tr>\n      <th>18</th>\n      <td>2017-05-18</td>\n      <td>20:00:00</td>\n      <td>146.7350</td>\n      <td>147.8000</td>\n      <td>146.5700</td>\n      <td>147.6066</td>\n      <td>1434632</td>\n      <td>0.8766</td>\n      <td>1.2300</td>\n      <td>-0.8716</td>\n      <td>...</td>\n      <td>-1.3617</td>\n      <td>-0.8876</td>\n      <td>-0.2016</td>\n      <td>-1.7566</td>\n      <td>146.589286</td>\n      <td>147.457486</td>\n      <td>146.394286</td>\n      <td>146.992371</td>\n      <td>1.06320</td>\n      <td>-0.403086</td>\n    </tr>\n    <tr>\n      <th>19</th>\n      <td>2017-05-18</td>\n      <td>21:00:00</td>\n      <td>147.6100</td>\n      <td>148.1500</td>\n      <td>147.5600</td>\n      <td>147.6400</td>\n      <td>2415781</td>\n      <td>0.0334</td>\n      <td>0.5900</td>\n      <td>-0.0300</td>\n      <td>...</td>\n      <td>-0.8600</td>\n      <td>-0.5201</td>\n      <td>-0.0460</td>\n      <td>0.6400</td>\n      <td>146.589286</td>\n      <td>147.457486</td>\n      <td>146.394286</td>\n      <td>146.992371</td>\n      <td>1.06320</td>\n      <td>-0.403086</td>\n    </tr>\n  </tbody>\n</table>\n<p>10 rows × 76 columns</p>\n</div>"
     },
     "execution_count": 367,
     "metadata": {},
     "output_type": "execute_result"
    }
   ],
   "source": [
    "# daily mean\n",
    "dateGroups = df.groupby('Date').mean().reset_index()\n",
    "for name in important_columns:\n",
    "    new_col_name = f'{name}_daily_mean'\n",
    "    df[new_col_name] = df.apply(lambda x: create_daily_mean_column(x,dateGroups,name), axis=1)\n",
    "df.head(10)\n"
   ],
   "metadata": {
    "collapsed": false,
    "pycharm": {
     "name": "#%%\n"
    }
   }
  },
  {
   "cell_type": "code",
   "execution_count": 368,
   "outputs": [
    {
     "data": {
      "text/plain": "          Date      Time      Open      High       Low     Close   Volume  \\\n10  2017-05-17  19:00:00  147.4200  147.5000  146.8800  147.4040  1447021   \n11  2017-05-17  20:00:00  147.4001  147.4200  146.5800  146.9100  1639010   \n12  2017-05-17  21:00:00  146.9100  146.9834  145.6200  146.0800  3303803   \n13  2017-05-17  22:00:00  146.0800  146.3300  144.4216  144.8500  7778376   \n14  2017-05-18  16:00:00  144.7200  146.2300  144.5100  146.1000  4087815   \n15  2017-05-18  17:00:00  146.1100  147.4200  146.1100  146.8700  3926294   \n16  2017-05-18  18:00:00  146.8700  147.3724  146.3400  146.4300  2280229   \n17  2017-05-18  19:00:00  146.4400  147.1700  146.2000  146.7300  1460849   \n18  2017-05-18  20:00:00  146.7350  147.8000  146.5700  147.6066  1434632   \n19  2017-05-18  21:00:00  147.6100  148.1500  147.5600  147.6400  2415781   \n\n    Close_diff  h_l_diff  o_c_diff  ...  o_c_diff_8  o_c_diff_9  o_c_diff_10  \\\n10     -0.0160    0.6200    0.0160  ...      0.4560     -0.1895      -0.2940   \n11     -0.4940    0.8400    0.4901  ...      0.1951      0.9301       0.2846   \n12     -0.8300    1.3634    0.8300  ...      0.5107      0.5350       1.2700   \n13     -1.2300    1.9084    1.2300  ...      1.5250      0.9107       0.9350   \n14      1.2500    1.7200   -1.3800  ...     -1.3400     -1.0850      -1.6993   \n15      0.7700    1.3100   -0.7600  ...     -1.1300     -0.7200      -0.4650   \n16     -0.4400    1.0324    0.4400  ...     -0.4450      0.0700       0.4800   \n17      0.3000    0.9700   -0.2900  ...      0.3800     -1.1750      -0.6600   \n18      0.8766    1.2300   -0.8716  ...     -0.8876     -0.2016      -1.7566   \n19      0.0334    0.5900   -0.0300  ...     -0.5201     -0.0460       0.6400   \n\n    Open_daily_mean  High_daily_mean  Low_daily_mean  Close_daily_mean  \\\n10       146.952525       147.058350      145.875400        146.311000   \n11       146.952525       147.058350      145.875400        146.311000   \n12       146.952525       147.058350      145.875400        146.311000   \n13       146.952525       147.058350      145.875400        146.311000   \n14       146.589286       147.457486      146.394286        146.992371   \n15       146.589286       147.457486      146.394286        146.992371   \n16       146.589286       147.457486      146.394286        146.992371   \n17       146.589286       147.457486      146.394286        146.992371   \n18       146.589286       147.457486      146.394286        146.992371   \n19       146.589286       147.457486      146.394286        146.992371   \n\n    h_l_diff_daily_mean  o_c_diff_daily_mean  class_column  \n10              1.18295             0.641525             0  \n11              1.18295             0.641525            -1  \n12              1.18295             0.641525            -1  \n13              1.18295             0.641525            -1  \n14              1.06320            -0.403086             1  \n15              1.06320            -0.403086             1  \n16              1.06320            -0.403086            -1  \n17              1.06320            -0.403086             1  \n18              1.06320            -0.403086             1  \n19              1.06320            -0.403086             0  \n\n[10 rows x 77 columns]",
      "text/html": "<div>\n<style scoped>\n    .dataframe tbody tr th:only-of-type {\n        vertical-align: middle;\n    }\n\n    .dataframe tbody tr th {\n        vertical-align: top;\n    }\n\n    .dataframe thead th {\n        text-align: right;\n    }\n</style>\n<table border=\"1\" class=\"dataframe\">\n  <thead>\n    <tr style=\"text-align: right;\">\n      <th></th>\n      <th>Date</th>\n      <th>Time</th>\n      <th>Open</th>\n      <th>High</th>\n      <th>Low</th>\n      <th>Close</th>\n      <th>Volume</th>\n      <th>Close_diff</th>\n      <th>h_l_diff</th>\n      <th>o_c_diff</th>\n      <th>...</th>\n      <th>o_c_diff_8</th>\n      <th>o_c_diff_9</th>\n      <th>o_c_diff_10</th>\n      <th>Open_daily_mean</th>\n      <th>High_daily_mean</th>\n      <th>Low_daily_mean</th>\n      <th>Close_daily_mean</th>\n      <th>h_l_diff_daily_mean</th>\n      <th>o_c_diff_daily_mean</th>\n      <th>class_column</th>\n    </tr>\n  </thead>\n  <tbody>\n    <tr>\n      <th>10</th>\n      <td>2017-05-17</td>\n      <td>19:00:00</td>\n      <td>147.4200</td>\n      <td>147.5000</td>\n      <td>146.8800</td>\n      <td>147.4040</td>\n      <td>1447021</td>\n      <td>-0.0160</td>\n      <td>0.6200</td>\n      <td>0.0160</td>\n      <td>...</td>\n      <td>0.4560</td>\n      <td>-0.1895</td>\n      <td>-0.2940</td>\n      <td>146.952525</td>\n      <td>147.058350</td>\n      <td>145.875400</td>\n      <td>146.311000</td>\n      <td>1.18295</td>\n      <td>0.641525</td>\n      <td>0</td>\n    </tr>\n    <tr>\n      <th>11</th>\n      <td>2017-05-17</td>\n      <td>20:00:00</td>\n      <td>147.4001</td>\n      <td>147.4200</td>\n      <td>146.5800</td>\n      <td>146.9100</td>\n      <td>1639010</td>\n      <td>-0.4940</td>\n      <td>0.8400</td>\n      <td>0.4901</td>\n      <td>...</td>\n      <td>0.1951</td>\n      <td>0.9301</td>\n      <td>0.2846</td>\n      <td>146.952525</td>\n      <td>147.058350</td>\n      <td>145.875400</td>\n      <td>146.311000</td>\n      <td>1.18295</td>\n      <td>0.641525</td>\n      <td>-1</td>\n    </tr>\n    <tr>\n      <th>12</th>\n      <td>2017-05-17</td>\n      <td>21:00:00</td>\n      <td>146.9100</td>\n      <td>146.9834</td>\n      <td>145.6200</td>\n      <td>146.0800</td>\n      <td>3303803</td>\n      <td>-0.8300</td>\n      <td>1.3634</td>\n      <td>0.8300</td>\n      <td>...</td>\n      <td>0.5107</td>\n      <td>0.5350</td>\n      <td>1.2700</td>\n      <td>146.952525</td>\n      <td>147.058350</td>\n      <td>145.875400</td>\n      <td>146.311000</td>\n      <td>1.18295</td>\n      <td>0.641525</td>\n      <td>-1</td>\n    </tr>\n    <tr>\n      <th>13</th>\n      <td>2017-05-17</td>\n      <td>22:00:00</td>\n      <td>146.0800</td>\n      <td>146.3300</td>\n      <td>144.4216</td>\n      <td>144.8500</td>\n      <td>7778376</td>\n      <td>-1.2300</td>\n      <td>1.9084</td>\n      <td>1.2300</td>\n      <td>...</td>\n      <td>1.5250</td>\n      <td>0.9107</td>\n      <td>0.9350</td>\n      <td>146.952525</td>\n      <td>147.058350</td>\n      <td>145.875400</td>\n      <td>146.311000</td>\n      <td>1.18295</td>\n      <td>0.641525</td>\n      <td>-1</td>\n    </tr>\n    <tr>\n      <th>14</th>\n      <td>2017-05-18</td>\n      <td>16:00:00</td>\n      <td>144.7200</td>\n      <td>146.2300</td>\n      <td>144.5100</td>\n      <td>146.1000</td>\n      <td>4087815</td>\n      <td>1.2500</td>\n      <td>1.7200</td>\n      <td>-1.3800</td>\n      <td>...</td>\n      <td>-1.3400</td>\n      <td>-1.0850</td>\n      <td>-1.6993</td>\n      <td>146.589286</td>\n      <td>147.457486</td>\n      <td>146.394286</td>\n      <td>146.992371</td>\n      <td>1.06320</td>\n      <td>-0.403086</td>\n      <td>1</td>\n    </tr>\n    <tr>\n      <th>15</th>\n      <td>2017-05-18</td>\n      <td>17:00:00</td>\n      <td>146.1100</td>\n      <td>147.4200</td>\n      <td>146.1100</td>\n      <td>146.8700</td>\n      <td>3926294</td>\n      <td>0.7700</td>\n      <td>1.3100</td>\n      <td>-0.7600</td>\n      <td>...</td>\n      <td>-1.1300</td>\n      <td>-0.7200</td>\n      <td>-0.4650</td>\n      <td>146.589286</td>\n      <td>147.457486</td>\n      <td>146.394286</td>\n      <td>146.992371</td>\n      <td>1.06320</td>\n      <td>-0.403086</td>\n      <td>1</td>\n    </tr>\n    <tr>\n      <th>16</th>\n      <td>2017-05-18</td>\n      <td>18:00:00</td>\n      <td>146.8700</td>\n      <td>147.3724</td>\n      <td>146.3400</td>\n      <td>146.4300</td>\n      <td>2280229</td>\n      <td>-0.4400</td>\n      <td>1.0324</td>\n      <td>0.4400</td>\n      <td>...</td>\n      <td>-0.4450</td>\n      <td>0.0700</td>\n      <td>0.4800</td>\n      <td>146.589286</td>\n      <td>147.457486</td>\n      <td>146.394286</td>\n      <td>146.992371</td>\n      <td>1.06320</td>\n      <td>-0.403086</td>\n      <td>-1</td>\n    </tr>\n    <tr>\n      <th>17</th>\n      <td>2017-05-18</td>\n      <td>19:00:00</td>\n      <td>146.4400</td>\n      <td>147.1700</td>\n      <td>146.2000</td>\n      <td>146.7300</td>\n      <td>1460849</td>\n      <td>0.3000</td>\n      <td>0.9700</td>\n      <td>-0.2900</td>\n      <td>...</td>\n      <td>0.3800</td>\n      <td>-1.1750</td>\n      <td>-0.6600</td>\n      <td>146.589286</td>\n      <td>147.457486</td>\n      <td>146.394286</td>\n      <td>146.992371</td>\n      <td>1.06320</td>\n      <td>-0.403086</td>\n      <td>1</td>\n    </tr>\n    <tr>\n      <th>18</th>\n      <td>2017-05-18</td>\n      <td>20:00:00</td>\n      <td>146.7350</td>\n      <td>147.8000</td>\n      <td>146.5700</td>\n      <td>147.6066</td>\n      <td>1434632</td>\n      <td>0.8766</td>\n      <td>1.2300</td>\n      <td>-0.8716</td>\n      <td>...</td>\n      <td>-0.8876</td>\n      <td>-0.2016</td>\n      <td>-1.7566</td>\n      <td>146.589286</td>\n      <td>147.457486</td>\n      <td>146.394286</td>\n      <td>146.992371</td>\n      <td>1.06320</td>\n      <td>-0.403086</td>\n      <td>1</td>\n    </tr>\n    <tr>\n      <th>19</th>\n      <td>2017-05-18</td>\n      <td>21:00:00</td>\n      <td>147.6100</td>\n      <td>148.1500</td>\n      <td>147.5600</td>\n      <td>147.6400</td>\n      <td>2415781</td>\n      <td>0.0334</td>\n      <td>0.5900</td>\n      <td>-0.0300</td>\n      <td>...</td>\n      <td>-0.5201</td>\n      <td>-0.0460</td>\n      <td>0.6400</td>\n      <td>146.589286</td>\n      <td>147.457486</td>\n      <td>146.394286</td>\n      <td>146.992371</td>\n      <td>1.06320</td>\n      <td>-0.403086</td>\n      <td>0</td>\n    </tr>\n  </tbody>\n</table>\n<p>10 rows × 77 columns</p>\n</div>"
     },
     "execution_count": 368,
     "metadata": {},
     "output_type": "execute_result"
    }
   ],
   "source": [
    "df['class_column'] = df.apply(create_class_column, axis=1)\n",
    "df.head(10)\n"
   ],
   "metadata": {
    "collapsed": false,
    "pycharm": {
     "name": "#%%\n"
    }
   }
  },
  {
   "cell_type": "code",
   "execution_count": 369,
   "outputs": [
    {
     "data": {
      "text/plain": "-1    334\n 0    327\n 1    325\nName: class_column, dtype: int64"
     },
     "execution_count": 369,
     "metadata": {},
     "output_type": "execute_result"
    }
   ],
   "source": [
    "# Class divide\n",
    "df['class_column'].value_counts()"
   ],
   "metadata": {
    "collapsed": false,
    "pycharm": {
     "name": "#%%\n"
    }
   }
  },
  {
   "cell_type": "code",
   "execution_count": 370,
   "outputs": [],
   "source": [
    "now = datetime.now()\n",
    "df.to_csv(f'../data/preprocess/{filename}_{now.strftime(\"%d_%m_%Y %H_%M_%S\")}.csv', index=False)"
   ],
   "metadata": {
    "collapsed": false,
    "pycharm": {
     "name": "#%%\n"
    }
   }
  }
 ],
 "metadata": {
  "kernelspec": {
   "name": "magisterka_analiza",
   "language": "python",
   "display_name": "Python magisterka"
  },
  "language_info": {
   "codemirror_mode": {
    "name": "ipython",
    "version": 2
   },
   "file_extension": ".py",
   "mimetype": "text/x-python",
   "name": "python",
   "nbconvert_exporter": "python",
   "pygments_lexer": "ipython2",
   "version": "2.7.6"
  }
 },
 "nbformat": 4,
 "nbformat_minor": 0
}