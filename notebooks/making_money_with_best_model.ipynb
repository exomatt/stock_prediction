{
 "cells": [
  {
   "cell_type": "code",
   "execution_count": 225,
   "outputs": [],
   "source": [
    "import yfinance as yf\n",
    "from datetime import datetime\n",
    "import pandas as pd\n",
    "import numpy as np\n",
    "import matplotlib.pyplot as plt\n",
    "from finta import TA\n",
    "import numpy as np\n",
    "from sklearn.ensemble import RandomForestClassifier, VotingClassifier\n",
    "from sklearn.model_selection import GridSearchCV, train_test_split\n",
    "from sklearn.preprocessing import MinMaxScaler\n",
    "from sklearn.tree import DecisionTreeClassifier\n",
    "from sklearn.ensemble import GradientBoostingClassifier\n",
    "from sklearn.metrics import confusion_matrix, classification_report, accuracy_score\n",
    "from sklearn.metrics import jaccard_score\n",
    "import seaborn as sn\n",
    "from tabulate import tabulate\n",
    "from xgboost import XGBClassifier\n",
    "from ta import add_all_ta_features\n",
    "from sklearn.feature_selection import RFE"
   ],
   "metadata": {
    "collapsed": false,
    "pycharm": {
     "name": "#%%\n"
    }
   }
  },
  {
   "cell_type": "code",
   "execution_count": 226,
   "outputs": [],
   "source": [
    "WINDOW = 8 # number of rows to look ahead to see what the price did\n",
    "FETCH_INTERVAL = \"60m\"  # fetch data by interval (including intraday if period < 60 days)\n",
    "        # valid intervals: 1m,2m,5m,15m,30m,60m,90m,1h,1d,5d,1wk,1mo,3mo\n",
    "        # (optional, default is '1d')\n",
    "INTERVAL = '1y'     # use \"period\" instead of start/end\n",
    "        # valid periods: 1d,5d,1mo,3mo,6mo,1y,2y,5y,10y,ytd,max\n",
    "        # (optional, default is '1mo')\n",
    "symbol = 'AAPL'      # Symbol of the desired stock\n",
    "ROWS_TO_PREDICT = 512\n",
    "# one day 16 rows of data"
   ],
   "metadata": {
    "collapsed": false,
    "pycharm": {
     "name": "#%%\n"
    }
   }
  },
  {
   "cell_type": "code",
   "execution_count": 227,
   "outputs": [],
   "source": [
    "data = pd.read_csv('C:\\\\Users\\\\exomat\\\\Desktop\\\\repo\\\\magisterka_analiza\\\\data\\\\preprocess\\\\APPLE_22_03_2021 21_56_34.csv')\n"
   ],
   "metadata": {
    "collapsed": false,
    "pycharm": {
     "name": "#%%\n"
    }
   }
  },
  {
   "cell_type": "code",
   "execution_count": 228,
   "outputs": [
    {
     "data": {
      "text/plain": "        open       high        low      close  Adj Close    volume\n0  56.220000  56.220000  55.500000  55.600000  55.600000         0\n1  55.550000  56.095000  55.370000  55.700000  55.700000         0\n2  56.032500  56.437500  55.937500  56.247500  56.247500         0\n3  56.132500  56.750000  56.042500  56.595000  56.595000         0\n4  56.550000  58.197500  55.625000  57.812500  57.812500         0\n5  57.837500  59.525000  56.887500  57.020000  57.020000         0\n6  56.299999  56.750000  54.823750  55.450001  55.450001  21473989\n7  55.465000  55.889999  53.412498  53.767502  53.767502  11306818\n8  53.762501  55.097500  53.152500  54.803925  54.803925  11355189\n9  54.823875  56.775002  54.472500  55.486252  55.486252  10671797",
      "text/html": "<div>\n<style scoped>\n    .dataframe tbody tr th:only-of-type {\n        vertical-align: middle;\n    }\n\n    .dataframe tbody tr th {\n        vertical-align: top;\n    }\n\n    .dataframe thead th {\n        text-align: right;\n    }\n</style>\n<table border=\"1\" class=\"dataframe\">\n  <thead>\n    <tr style=\"text-align: right;\">\n      <th></th>\n      <th>open</th>\n      <th>high</th>\n      <th>low</th>\n      <th>close</th>\n      <th>Adj Close</th>\n      <th>volume</th>\n    </tr>\n  </thead>\n  <tbody>\n    <tr>\n      <th>0</th>\n      <td>56.220000</td>\n      <td>56.220000</td>\n      <td>55.500000</td>\n      <td>55.600000</td>\n      <td>55.600000</td>\n      <td>0</td>\n    </tr>\n    <tr>\n      <th>1</th>\n      <td>55.550000</td>\n      <td>56.095000</td>\n      <td>55.370000</td>\n      <td>55.700000</td>\n      <td>55.700000</td>\n      <td>0</td>\n    </tr>\n    <tr>\n      <th>2</th>\n      <td>56.032500</td>\n      <td>56.437500</td>\n      <td>55.937500</td>\n      <td>56.247500</td>\n      <td>56.247500</td>\n      <td>0</td>\n    </tr>\n    <tr>\n      <th>3</th>\n      <td>56.132500</td>\n      <td>56.750000</td>\n      <td>56.042500</td>\n      <td>56.595000</td>\n      <td>56.595000</td>\n      <td>0</td>\n    </tr>\n    <tr>\n      <th>4</th>\n      <td>56.550000</td>\n      <td>58.197500</td>\n      <td>55.625000</td>\n      <td>57.812500</td>\n      <td>57.812500</td>\n      <td>0</td>\n    </tr>\n    <tr>\n      <th>5</th>\n      <td>57.837500</td>\n      <td>59.525000</td>\n      <td>56.887500</td>\n      <td>57.020000</td>\n      <td>57.020000</td>\n      <td>0</td>\n    </tr>\n    <tr>\n      <th>6</th>\n      <td>56.299999</td>\n      <td>56.750000</td>\n      <td>54.823750</td>\n      <td>55.450001</td>\n      <td>55.450001</td>\n      <td>21473989</td>\n    </tr>\n    <tr>\n      <th>7</th>\n      <td>55.465000</td>\n      <td>55.889999</td>\n      <td>53.412498</td>\n      <td>53.767502</td>\n      <td>53.767502</td>\n      <td>11306818</td>\n    </tr>\n    <tr>\n      <th>8</th>\n      <td>53.762501</td>\n      <td>55.097500</td>\n      <td>53.152500</td>\n      <td>54.803925</td>\n      <td>54.803925</td>\n      <td>11355189</td>\n    </tr>\n    <tr>\n      <th>9</th>\n      <td>54.823875</td>\n      <td>56.775002</td>\n      <td>54.472500</td>\n      <td>55.486252</td>\n      <td>55.486252</td>\n      <td>10671797</td>\n    </tr>\n  </tbody>\n</table>\n</div>"
     },
     "execution_count": 228,
     "metadata": {},
     "output_type": "execute_result"
    }
   ],
   "source": [
    "data.rename(columns={\"Close\": 'close', \"High\": 'high', \"Low\": 'low', 'Volume': 'volume', 'Open': 'open'}, inplace=True)\n",
    "data.head(10)"
   ],
   "metadata": {
    "collapsed": false,
    "pycharm": {
     "name": "#%%\n"
    }
   }
  },
  {
   "cell_type": "code",
   "execution_count": 229,
   "outputs": [
    {
     "data": {
      "text/plain": "<AxesSubplot:>"
     },
     "execution_count": 229,
     "metadata": {},
     "output_type": "execute_result"
    },
    {
     "data": {
      "text/plain": "<Figure size 432x288 with 1 Axes>",
      "image/png": "[encoded data removed]"
     },
     "metadata": {
      "needs_background": "light"
     },
     "output_type": "display_data"
    }
   ],
   "source": [
    "data['close'].plot()"
   ],
   "metadata": {
    "collapsed": false,
    "pycharm": {
     "name": "#%%\n"
    }
   }
  },
  {
   "cell_type": "code",
   "execution_count": 230,
   "outputs": [
    {
     "data": {
      "text/plain": "      open     high      low    close  Adj Close  volume  close_pct\n0  56.2200  56.2200  55.5000  55.6000    55.6000       0        NaN\n1  55.5500  56.0950  55.3700  55.7000    55.7000       0   0.001799\n2  56.0325  56.4375  55.9375  56.2475    56.2475       0   0.009829\n3  56.1325  56.7500  56.0425  56.5950    56.5950       0   0.006178\n4  56.5500  58.1975  55.6250  57.8125    57.8125       0   0.021513",
      "text/html": "<div>\n<style scoped>\n    .dataframe tbody tr th:only-of-type {\n        vertical-align: middle;\n    }\n\n    .dataframe tbody tr th {\n        vertical-align: top;\n    }\n\n    .dataframe thead th {\n        text-align: right;\n    }\n</style>\n<table border=\"1\" class=\"dataframe\">\n  <thead>\n    <tr style=\"text-align: right;\">\n      <th></th>\n      <th>open</th>\n      <th>high</th>\n      <th>low</th>\n      <th>close</th>\n      <th>Adj Close</th>\n      <th>volume</th>\n      <th>close_pct</th>\n    </tr>\n  </thead>\n  <tbody>\n    <tr>\n      <th>0</th>\n      <td>56.2200</td>\n      <td>56.2200</td>\n      <td>55.5000</td>\n      <td>55.6000</td>\n      <td>55.6000</td>\n      <td>0</td>\n      <td>NaN</td>\n    </tr>\n    <tr>\n      <th>1</th>\n      <td>55.5500</td>\n      <td>56.0950</td>\n      <td>55.3700</td>\n      <td>55.7000</td>\n      <td>55.7000</td>\n      <td>0</td>\n      <td>0.001799</td>\n    </tr>\n    <tr>\n      <th>2</th>\n      <td>56.0325</td>\n      <td>56.4375</td>\n      <td>55.9375</td>\n      <td>56.2475</td>\n      <td>56.2475</td>\n      <td>0</td>\n      <td>0.009829</td>\n    </tr>\n    <tr>\n      <th>3</th>\n      <td>56.1325</td>\n      <td>56.7500</td>\n      <td>56.0425</td>\n      <td>56.5950</td>\n      <td>56.5950</td>\n      <td>0</td>\n      <td>0.006178</td>\n    </tr>\n    <tr>\n      <th>4</th>\n      <td>56.5500</td>\n      <td>58.1975</td>\n      <td>55.6250</td>\n      <td>57.8125</td>\n      <td>57.8125</td>\n      <td>0</td>\n      <td>0.021513</td>\n    </tr>\n  </tbody>\n</table>\n</div>"
     },
     "execution_count": 230,
     "metadata": {},
     "output_type": "execute_result"
    }
   ],
   "source": [
    "data['close_pct'] = data['close'].pct_change();\n",
    "data.head()"
   ],
   "metadata": {
    "collapsed": false,
    "pycharm": {
     "name": "#%%\n"
    }
   }
  },
  {
   "cell_type": "code",
   "execution_count": 231,
   "outputs": [
    {
     "data": {
      "text/plain": "              open         high          low        close    Adj Close  \\\ncount  4183.000000  4183.000000  4183.000000  4183.000000  4183.000000   \nmean    106.643887   107.166827   106.048708   106.644971   106.644971   \nstd      22.417863    23.119607    22.318330    22.402033    22.402033   \nmin      53.762501    55.097500    50.978220    53.767502    53.767502   \n25%      88.078750    88.337500    87.816251    88.085000    88.085000   \n50%     114.907500   115.240000   114.200000   114.900000   114.900000   \n75%     123.514999   124.200000   122.829999   123.482502   123.482502   \nmax     144.900000   438.440000   144.590000   144.910000   144.910000   \n\n             volume    close_pct  \ncount  4.183000e+03  4182.000000  \nmean   4.714023e+06     0.000208  \nstd    8.307361e+06     0.005948  \nmin    0.000000e+00    -0.051319  \n25%    0.000000e+00    -0.002029  \n50%    0.000000e+00     0.000164  \n75%    7.035940e+06     0.002525  \nmax    9.845401e+07     0.051457  ",
      "text/html": "<div>\n<style scoped>\n    .dataframe tbody tr th:only-of-type {\n        vertical-align: middle;\n    }\n\n    .dataframe tbody tr th {\n        vertical-align: top;\n    }\n\n    .dataframe thead th {\n        text-align: right;\n    }\n</style>\n<table border=\"1\" class=\"dataframe\">\n  <thead>\n    <tr style=\"text-align: right;\">\n      <th></th>\n      <th>open</th>\n      <th>high</th>\n      <th>low</th>\n      <th>close</th>\n      <th>Adj Close</th>\n      <th>volume</th>\n      <th>close_pct</th>\n    </tr>\n  </thead>\n  <tbody>\n    <tr>\n      <th>count</th>\n      <td>4183.000000</td>\n      <td>4183.000000</td>\n      <td>4183.000000</td>\n      <td>4183.000000</td>\n      <td>4183.000000</td>\n      <td>4.183000e+03</td>\n      <td>4182.000000</td>\n    </tr>\n    <tr>\n      <th>mean</th>\n      <td>106.643887</td>\n      <td>107.166827</td>\n      <td>106.048708</td>\n      <td>106.644971</td>\n      <td>106.644971</td>\n      <td>4.714023e+06</td>\n      <td>0.000208</td>\n    </tr>\n    <tr>\n      <th>std</th>\n      <td>22.417863</td>\n      <td>23.119607</td>\n      <td>22.318330</td>\n      <td>22.402033</td>\n      <td>22.402033</td>\n      <td>8.307361e+06</td>\n      <td>0.005948</td>\n    </tr>\n    <tr>\n      <th>min</th>\n      <td>53.762501</td>\n      <td>55.097500</td>\n      <td>50.978220</td>\n      <td>53.767502</td>\n      <td>53.767502</td>\n      <td>0.000000e+00</td>\n      <td>-0.051319</td>\n    </tr>\n    <tr>\n      <th>25%</th>\n      <td>88.078750</td>\n      <td>88.337500</td>\n      <td>87.816251</td>\n      <td>88.085000</td>\n      <td>88.085000</td>\n      <td>0.000000e+00</td>\n      <td>-0.002029</td>\n    </tr>\n    <tr>\n      <th>50%</th>\n      <td>114.907500</td>\n      <td>115.240000</td>\n      <td>114.200000</td>\n      <td>114.900000</td>\n      <td>114.900000</td>\n      <td>0.000000e+00</td>\n      <td>0.000164</td>\n    </tr>\n    <tr>\n      <th>75%</th>\n      <td>123.514999</td>\n      <td>124.200000</td>\n      <td>122.829999</td>\n      <td>123.482502</td>\n      <td>123.482502</td>\n      <td>7.035940e+06</td>\n      <td>0.002525</td>\n    </tr>\n    <tr>\n      <th>max</th>\n      <td>144.900000</td>\n      <td>438.440000</td>\n      <td>144.590000</td>\n      <td>144.910000</td>\n      <td>144.910000</td>\n      <td>9.845401e+07</td>\n      <td>0.051457</td>\n    </tr>\n  </tbody>\n</table>\n</div>"
     },
     "execution_count": 231,
     "metadata": {},
     "output_type": "execute_result"
    }
   ],
   "source": [
    "data.describe()"
   ],
   "metadata": {
    "collapsed": false,
    "pycharm": {
     "name": "#%%\n"
    }
   }
  },
  {
   "cell_type": "code",
   "execution_count": 232,
   "outputs": [
    {
     "name": "stderr",
     "output_type": "stream",
     "text": [
      "C:\\Users\\exomat\\anaconda3\\envs\\magisterka_analiza\\lib\\site-packages\\ta\\trend.py:768: RuntimeWarning: invalid value encountered in double_scalars\n",
      "  dip[i] = 100 * (self._dip[i] / self._trs[i])\n",
      "C:\\Users\\exomat\\anaconda3\\envs\\magisterka_analiza\\lib\\site-packages\\ta\\trend.py:772: RuntimeWarning: invalid value encountered in double_scalars\n",
      "  din[i] = 100 * (self._din[i] / self._trs[i])\n"
     ]
    }
   ],
   "source": [
    "def _get_indicator_data(data):\n",
    "    \"\"\"\n",
    "    Function that uses the finta API to calculate technical indicators used as the features\n",
    "    :return:\n",
    "    \"\"\"\n",
    "\n",
    "\n",
    "    data = add_all_ta_features(\n",
    "    data, open=\"open\", high=\"high\", low=\"low\", close=\"close\", volume=\"volume\", fillna=True)\n",
    "\n",
    "    # Instead of using the actual volume value (which changes over time), we normalize it with a moving volume average\n",
    "    # data['normVol'] = data['volume'] / data['volume'].ewm(5).mean()\n",
    "    # for i in range(1,50):\n",
    "    #     data[f'close{i}'] = data['close'].shift(i)\n",
    "    # Remove columns that won't be used as features\n",
    "    del (data['open'])\n",
    "    del (data['high'])\n",
    "    del (data['low'])\n",
    "    # del (data['volume'])\n",
    "    del (data['Adj Close'])\n",
    "\n",
    "    return data\n",
    "\n",
    "data = _get_indicator_data(data)"
   ],
   "metadata": {
    "collapsed": false,
    "pycharm": {
     "name": "#%%\n"
    }
   }
  },
  {
   "cell_type": "code",
   "execution_count": 233,
   "outputs": [
    {
     "data": {
      "text/plain": "           close    volume  close_pct    volume_adi  volume_obv  volume_cmf  \\\n0      55.600000         0        NaN -0.000000e+00           0    0.000000   \n1      55.700000         0   0.001799 -0.000000e+00           0    0.000000   \n2      56.247500         0   0.009829  0.000000e+00           0    0.000000   \n3      56.595000         0   0.006178  0.000000e+00           0    0.000000   \n4      57.812500         0   0.021513  0.000000e+00           0    0.000000   \n...          ...       ...        ...           ...         ...         ...   \n4178  123.091103  12373575  -0.002746  6.772166e+08  -304635341   -0.032093   \n4179  123.542000   9430925   0.003663  6.814015e+08  -295204416    0.073995   \n4180  123.345001  11354023  -0.001595  6.727190e+08  -306558439   -0.022353   \n4181  123.370003  10684835   0.000203  6.749298e+08  -295873604    0.039436   \n4182  123.120000   9642937  -0.002026  6.740522e+08  -305516541    0.047963   \n\n         volume_fi  volume_mfi  volume_em  volume_sma_em  ...  momentum_wr  \\\n0     0.000000e+00   50.000000   0.000000       0.000000  ...   -86.111111   \n1     0.000000e+00   50.000000   0.000000       0.000000  ...   -61.176471   \n2     0.000000e+00   50.000000   0.000000       0.000000  ...   -17.798595   \n3     0.000000e+00   50.000000   0.000000       0.000000  ...   -11.231884   \n4     0.000000e+00   50.000000   0.000000       0.000000  ...   -13.616269   \n...            ...         ...        ...            ...  ...          ...   \n4178  3.952908e+06  100.000000   3.539772       5.152305  ...    -5.788523   \n4179  3.995690e+06  100.000000  -0.033912       4.115061  ...    -1.943993   \n4180  3.105345e+06  100.000000   0.903980       3.579881  ...   -13.392887   \n4181  2.699886e+06   88.424942  -1.424946       2.864906  ...   -12.755093   \n4182  1.969794e+06   80.073040  -1.143532       2.363851  ...   -19.329954   \n\n      momentum_ao  momentum_kama  momentum_roc  momentum_ppo  \\\n0        0.000000      55.600000      0.000000      0.000000   \n1        0.000000      55.641486      0.000000      0.000000   \n2        0.000000      55.895109      0.000000      0.000000   \n3        0.000000      56.185689      0.000000      0.000000   \n4        0.000000      56.833695      0.000000      0.000000   \n...           ...            ...           ...           ...   \n4178     1.307150     122.417025      2.550281     17.274375   \n4179     1.853018     122.683125      2.960247     17.006940   \n4180     2.216141     122.806622      2.770373     18.299709   \n4181     2.310367     122.908690      2.119032     18.355886   \n4182     2.313878     122.942765      1.836228     17.232556   \n\n      momentum_ppo_signal  momentum_ppo_hist  others_dr  others_dlr  \\\n0                0.000000           0.000000 -47.864396    0.000000   \n1                0.000000           0.000000   0.179856    0.179695   \n2                0.000000           0.000000   0.982944    0.978145   \n3                0.000000           0.000000   0.617805    0.615905   \n4                0.000000           0.000000   2.151250    2.128437   \n...                   ...                ...        ...         ...   \n4178            -5.237322          22.511697  -0.274567   -0.274944   \n4179            -0.788469          17.795410   0.366312    0.365642   \n4180             3.029166          15.270543  -0.159459   -0.159586   \n4181             6.094510          12.261375   0.020270    0.020268   \n4182             8.322119           8.910436  -0.202645   -0.202850   \n\n       others_cr  \n0       0.000000  \n1       0.179856  \n2       1.164568  \n3       1.789568  \n4       3.979317  \n...          ...  \n4178  121.386875  \n4179  122.197841  \n4180  121.843527  \n4181  121.888494  \n4182  121.438849  \n\n[4183 rows x 86 columns]",
      "text/html": "<div>\n<style scoped>\n    .dataframe tbody tr th:only-of-type {\n        vertical-align: middle;\n    }\n\n    .dataframe tbody tr th {\n        vertical-align: top;\n    }\n\n    .dataframe thead th {\n        text-align: right;\n    }\n</style>\n<table border=\"1\" class=\"dataframe\">\n  <thead>\n    <tr style=\"text-align: right;\">\n      <th></th>\n      <th>close</th>\n      <th>volume</th>\n      <th>close_pct</th>\n      <th>volume_adi</th>\n      <th>volume_obv</th>\n      <th>volume_cmf</th>\n      <th>volume_fi</th>\n      <th>volume_mfi</th>\n      <th>volume_em</th>\n      <th>volume_sma_em</th>\n      <th>...</th>\n      <th>momentum_wr</th>\n      <th>momentum_ao</th>\n      <th>momentum_kama</th>\n      <th>momentum_roc</th>\n      <th>momentum_ppo</th>\n      <th>momentum_ppo_signal</th>\n      <th>momentum_ppo_hist</th>\n      <th>others_dr</th>\n      <th>others_dlr</th>\n      <th>others_cr</th>\n    </tr>\n  </thead>\n  <tbody>\n    <tr>\n      <th>0</th>\n      <td>55.600000</td>\n      <td>0</td>\n      <td>NaN</td>\n      <td>-0.000000e+00</td>\n      <td>0</td>\n      <td>0.000000</td>\n      <td>0.000000e+00</td>\n      <td>50.000000</td>\n      <td>0.000000</td>\n      <td>0.000000</td>\n      <td>...</td>\n      <td>-86.111111</td>\n      <td>0.000000</td>\n      <td>55.600000</td>\n      <td>0.000000</td>\n      <td>0.000000</td>\n      <td>0.000000</td>\n      <td>0.000000</td>\n      <td>-47.864396</td>\n      <td>0.000000</td>\n      <td>0.000000</td>\n    </tr>\n    <tr>\n      <th>1</th>\n      <td>55.700000</td>\n      <td>0</td>\n      <td>0.001799</td>\n      <td>-0.000000e+00</td>\n      <td>0</td>\n      <td>0.000000</td>\n      <td>0.000000e+00</td>\n      <td>50.000000</td>\n      <td>0.000000</td>\n      <td>0.000000</td>\n      <td>...</td>\n      <td>-61.176471</td>\n      <td>0.000000</td>\n      <td>55.641486</td>\n      <td>0.000000</td>\n      <td>0.000000</td>\n      <td>0.000000</td>\n      <td>0.000000</td>\n      <td>0.179856</td>\n      <td>0.179695</td>\n      <td>0.179856</td>\n    </tr>\n    <tr>\n      <th>2</th>\n      <td>56.247500</td>\n      <td>0</td>\n      <td>0.009829</td>\n      <td>0.000000e+00</td>\n      <td>0</td>\n      <td>0.000000</td>\n      <td>0.000000e+00</td>\n      <td>50.000000</td>\n      <td>0.000000</td>\n      <td>0.000000</td>\n      <td>...</td>\n      <td>-17.798595</td>\n      <td>0.000000</td>\n      <td>55.895109</td>\n      <td>0.000000</td>\n      <td>0.000000</td>\n      <td>0.000000</td>\n      <td>0.000000</td>\n      <td>0.982944</td>\n      <td>0.978145</td>\n      <td>1.164568</td>\n    </tr>\n    <tr>\n      <th>3</th>\n      <td>56.595000</td>\n      <td>0</td>\n      <td>0.006178</td>\n      <td>0.000000e+00</td>\n      <td>0</td>\n      <td>0.000000</td>\n      <td>0.000000e+00</td>\n      <td>50.000000</td>\n      <td>0.000000</td>\n      <td>0.000000</td>\n      <td>...</td>\n      <td>-11.231884</td>\n      <td>0.000000</td>\n      <td>56.185689</td>\n      <td>0.000000</td>\n      <td>0.000000</td>\n      <td>0.000000</td>\n      <td>0.000000</td>\n      <td>0.617805</td>\n      <td>0.615905</td>\n      <td>1.789568</td>\n    </tr>\n    <tr>\n      <th>4</th>\n      <td>57.812500</td>\n      <td>0</td>\n      <td>0.021513</td>\n      <td>0.000000e+00</td>\n      <td>0</td>\n      <td>0.000000</td>\n      <td>0.000000e+00</td>\n      <td>50.000000</td>\n      <td>0.000000</td>\n      <td>0.000000</td>\n      <td>...</td>\n      <td>-13.616269</td>\n      <td>0.000000</td>\n      <td>56.833695</td>\n      <td>0.000000</td>\n      <td>0.000000</td>\n      <td>0.000000</td>\n      <td>0.000000</td>\n      <td>2.151250</td>\n      <td>2.128437</td>\n      <td>3.979317</td>\n    </tr>\n    <tr>\n      <th>...</th>\n      <td>...</td>\n      <td>...</td>\n      <td>...</td>\n      <td>...</td>\n      <td>...</td>\n      <td>...</td>\n      <td>...</td>\n      <td>...</td>\n      <td>...</td>\n      <td>...</td>\n      <td>...</td>\n      <td>...</td>\n      <td>...</td>\n      <td>...</td>\n      <td>...</td>\n      <td>...</td>\n      <td>...</td>\n      <td>...</td>\n      <td>...</td>\n      <td>...</td>\n      <td>...</td>\n    </tr>\n    <tr>\n      <th>4178</th>\n      <td>123.091103</td>\n      <td>12373575</td>\n      <td>-0.002746</td>\n      <td>6.772166e+08</td>\n      <td>-304635341</td>\n      <td>-0.032093</td>\n      <td>3.952908e+06</td>\n      <td>100.000000</td>\n      <td>3.539772</td>\n      <td>5.152305</td>\n      <td>...</td>\n      <td>-5.788523</td>\n      <td>1.307150</td>\n      <td>122.417025</td>\n      <td>2.550281</td>\n      <td>17.274375</td>\n      <td>-5.237322</td>\n      <td>22.511697</td>\n      <td>-0.274567</td>\n      <td>-0.274944</td>\n      <td>121.386875</td>\n    </tr>\n    <tr>\n      <th>4179</th>\n      <td>123.542000</td>\n      <td>9430925</td>\n      <td>0.003663</td>\n      <td>6.814015e+08</td>\n      <td>-295204416</td>\n      <td>0.073995</td>\n      <td>3.995690e+06</td>\n      <td>100.000000</td>\n      <td>-0.033912</td>\n      <td>4.115061</td>\n      <td>...</td>\n      <td>-1.943993</td>\n      <td>1.853018</td>\n      <td>122.683125</td>\n      <td>2.960247</td>\n      <td>17.006940</td>\n      <td>-0.788469</td>\n      <td>17.795410</td>\n      <td>0.366312</td>\n      <td>0.365642</td>\n      <td>122.197841</td>\n    </tr>\n    <tr>\n      <th>4180</th>\n      <td>123.345001</td>\n      <td>11354023</td>\n      <td>-0.001595</td>\n      <td>6.727190e+08</td>\n      <td>-306558439</td>\n      <td>-0.022353</td>\n      <td>3.105345e+06</td>\n      <td>100.000000</td>\n      <td>0.903980</td>\n      <td>3.579881</td>\n      <td>...</td>\n      <td>-13.392887</td>\n      <td>2.216141</td>\n      <td>122.806622</td>\n      <td>2.770373</td>\n      <td>18.299709</td>\n      <td>3.029166</td>\n      <td>15.270543</td>\n      <td>-0.159459</td>\n      <td>-0.159586</td>\n      <td>121.843527</td>\n    </tr>\n    <tr>\n      <th>4181</th>\n      <td>123.370003</td>\n      <td>10684835</td>\n      <td>0.000203</td>\n      <td>6.749298e+08</td>\n      <td>-295873604</td>\n      <td>0.039436</td>\n      <td>2.699886e+06</td>\n      <td>88.424942</td>\n      <td>-1.424946</td>\n      <td>2.864906</td>\n      <td>...</td>\n      <td>-12.755093</td>\n      <td>2.310367</td>\n      <td>122.908690</td>\n      <td>2.119032</td>\n      <td>18.355886</td>\n      <td>6.094510</td>\n      <td>12.261375</td>\n      <td>0.020270</td>\n      <td>0.020268</td>\n      <td>121.888494</td>\n    </tr>\n    <tr>\n      <th>4182</th>\n      <td>123.120000</td>\n      <td>9642937</td>\n      <td>-0.002026</td>\n      <td>6.740522e+08</td>\n      <td>-305516541</td>\n      <td>0.047963</td>\n      <td>1.969794e+06</td>\n      <td>80.073040</td>\n      <td>-1.143532</td>\n      <td>2.363851</td>\n      <td>...</td>\n      <td>-19.329954</td>\n      <td>2.313878</td>\n      <td>122.942765</td>\n      <td>1.836228</td>\n      <td>17.232556</td>\n      <td>8.322119</td>\n      <td>8.910436</td>\n      <td>-0.202645</td>\n      <td>-0.202850</td>\n      <td>121.438849</td>\n    </tr>\n  </tbody>\n</table>\n<p>4183 rows × 86 columns</p>\n</div>"
     },
     "execution_count": 233,
     "metadata": {},
     "output_type": "execute_result"
    }
   ],
   "source": [
    "data"
   ],
   "metadata": {
    "collapsed": false,
    "pycharm": {
     "name": "#%%\n"
    }
   }
  },
  {
   "cell_type": "code",
   "execution_count": 234,
   "outputs": [
    {
     "data": {
      "text/plain": "Index(['close', 'volume', 'close_pct', 'volume_adi', 'volume_obv',\n       'volume_cmf', 'volume_fi', 'volume_mfi', 'volume_em', 'volume_sma_em',\n       'volume_vpt', 'volume_nvi', 'volume_vwap', 'volatility_atr',\n       'volatility_bbm', 'volatility_bbh', 'volatility_bbl', 'volatility_bbw',\n       'volatility_bbp', 'volatility_bbhi', 'volatility_bbli',\n       'volatility_kcc', 'volatility_kch', 'volatility_kcl', 'volatility_kcw',\n       'volatility_kcp', 'volatility_kchi', 'volatility_kcli',\n       'volatility_dcl', 'volatility_dch', 'volatility_dcm', 'volatility_dcw',\n       'volatility_dcp', 'volatility_ui', 'trend_macd', 'trend_macd_signal',\n       'trend_macd_diff', 'trend_sma_fast', 'trend_sma_slow', 'trend_ema_fast',\n       'trend_ema_slow', 'trend_adx', 'trend_adx_pos', 'trend_adx_neg',\n       'trend_vortex_ind_pos', 'trend_vortex_ind_neg', 'trend_vortex_ind_diff',\n       'trend_trix', 'trend_mass_index', 'trend_cci', 'trend_dpo', 'trend_kst',\n       'trend_kst_sig', 'trend_kst_diff', 'trend_ichimoku_conv',\n       'trend_ichimoku_base', 'trend_ichimoku_a', 'trend_ichimoku_b',\n       'trend_visual_ichimoku_a', 'trend_visual_ichimoku_b', 'trend_aroon_up',\n       'trend_aroon_down', 'trend_aroon_ind', 'trend_psar_up',\n       'trend_psar_down', 'trend_psar_up_indicator',\n       'trend_psar_down_indicator', 'trend_stc', 'momentum_rsi',\n       'momentum_stoch_rsi', 'momentum_stoch_rsi_k', 'momentum_stoch_rsi_d',\n       'momentum_tsi', 'momentum_uo', 'momentum_stoch',\n       'momentum_stoch_signal', 'momentum_wr', 'momentum_ao', 'momentum_kama',\n       'momentum_roc', 'momentum_ppo', 'momentum_ppo_signal',\n       'momentum_ppo_hist', 'others_dr', 'others_dlr', 'others_cr'],\n      dtype='object')"
     },
     "execution_count": 234,
     "metadata": {},
     "output_type": "execute_result"
    }
   ],
   "source": [
    "data.columns"
   ],
   "metadata": {
    "collapsed": false,
    "pycharm": {
     "name": "#%%\n"
    }
   }
  },
  {
   "cell_type": "code",
   "execution_count": 235,
   "outputs": [],
   "source": [
    "def create_class_column(row):\n",
    "    if row['close_shift']-row['close'] > 1.5:\n",
    "        return 1\n",
    "    if row['close_shift'] -row['close']< -1.5:\n",
    "        return -1\n",
    "    else:\n",
    "        return 0"
   ],
   "metadata": {
    "collapsed": false,
    "pycharm": {
     "name": "#%%\n"
    }
   }
  },
  {
   "cell_type": "code",
   "execution_count": 236,
   "outputs": [
    {
     "data": {
      "text/plain": "           close    volume  close_pct    volume_adi  volume_obv  volume_cmf  \\\n0      55.600000         0        NaN -0.000000e+00           0    0.000000   \n1      55.700000         0   0.001799 -0.000000e+00           0    0.000000   \n2      56.247500         0   0.009829  0.000000e+00           0    0.000000   \n3      56.595000         0   0.006178  0.000000e+00           0    0.000000   \n4      57.812500         0   0.021513  0.000000e+00           0    0.000000   \n...          ...       ...        ...           ...         ...         ...   \n4178  123.091103  12373575  -0.002746  6.772166e+08  -304635341   -0.032093   \n4179  123.542000   9430925   0.003663  6.814015e+08  -295204416    0.073995   \n4180  123.345001  11354023  -0.001595  6.727190e+08  -306558439   -0.022353   \n4181  123.370003  10684835   0.000203  6.749298e+08  -295873604    0.039436   \n4182  123.120000   9642937  -0.002026  6.740522e+08  -305516541    0.047963   \n\n         volume_fi  volume_mfi  volume_em  volume_sma_em  ...  momentum_ao  \\\n0     0.000000e+00   50.000000   0.000000       0.000000  ...     0.000000   \n1     0.000000e+00   50.000000   0.000000       0.000000  ...     0.000000   \n2     0.000000e+00   50.000000   0.000000       0.000000  ...     0.000000   \n3     0.000000e+00   50.000000   0.000000       0.000000  ...     0.000000   \n4     0.000000e+00   50.000000   0.000000       0.000000  ...     0.000000   \n...            ...         ...        ...            ...  ...          ...   \n4178  3.952908e+06  100.000000   3.539772       5.152305  ...     1.307150   \n4179  3.995690e+06  100.000000  -0.033912       4.115061  ...     1.853018   \n4180  3.105345e+06  100.000000   0.903980       3.579881  ...     2.216141   \n4181  2.699886e+06   88.424942  -1.424946       2.864906  ...     2.310367   \n4182  1.969794e+06   80.073040  -1.143532       2.363851  ...     2.313878   \n\n      momentum_kama  momentum_roc  momentum_ppo  momentum_ppo_signal  \\\n0         55.600000      0.000000      0.000000             0.000000   \n1         55.641486      0.000000      0.000000             0.000000   \n2         55.895109      0.000000      0.000000             0.000000   \n3         56.185689      0.000000      0.000000             0.000000   \n4         56.833695      0.000000      0.000000             0.000000   \n...             ...           ...           ...                  ...   \n4178     122.417025      2.550281     17.274375            -5.237322   \n4179     122.683125      2.960247     17.006940            -0.788469   \n4180     122.806622      2.770373     18.299709             3.029166   \n4181     122.908690      2.119032     18.355886             6.094510   \n4182     122.942765      1.836228     17.232556             8.322119   \n\n      momentum_ppo_hist  others_dr  others_dlr   others_cr  close_shift  \n0              0.000000 -47.864396    0.000000    0.000000    54.803925  \n1              0.000000   0.179856    0.179695    0.179856    55.486252  \n2              0.000000   0.982944    0.978145    1.164568    55.264999  \n3              0.000000   0.617805    0.615905    1.789568    54.432499  \n4              0.000000   2.151250    2.128437    3.979317    55.994999  \n...                 ...        ...         ...         ...          ...  \n4178          22.511697  -0.274567   -0.274944  121.386875          NaN  \n4179          17.795410   0.366312    0.365642  122.197841          NaN  \n4180          15.270543  -0.159459   -0.159586  121.843527          NaN  \n4181          12.261375   0.020270    0.020268  121.888494          NaN  \n4182           8.910436  -0.202645   -0.202850  121.438849          NaN  \n\n[4183 rows x 87 columns]",
      "text/html": "<div>\n<style scoped>\n    .dataframe tbody tr th:only-of-type {\n        vertical-align: middle;\n    }\n\n    .dataframe tbody tr th {\n        vertical-align: top;\n    }\n\n    .dataframe thead th {\n        text-align: right;\n    }\n</style>\n<table border=\"1\" class=\"dataframe\">\n  <thead>\n    <tr style=\"text-align: right;\">\n      <th></th>\n      <th>close</th>\n      <th>volume</th>\n      <th>close_pct</th>\n      <th>volume_adi</th>\n      <th>volume_obv</th>\n      <th>volume_cmf</th>\n      <th>volume_fi</th>\n      <th>volume_mfi</th>\n      <th>volume_em</th>\n      <th>volume_sma_em</th>\n      <th>...</th>\n      <th>momentum_ao</th>\n      <th>momentum_kama</th>\n      <th>momentum_roc</th>\n      <th>momentum_ppo</th>\n      <th>momentum_ppo_signal</th>\n      <th>momentum_ppo_hist</th>\n      <th>others_dr</th>\n      <th>others_dlr</th>\n      <th>others_cr</th>\n      <th>close_shift</th>\n    </tr>\n  </thead>\n  <tbody>\n    <tr>\n      <th>0</th>\n      <td>55.600000</td>\n      <td>0</td>\n      <td>NaN</td>\n      <td>-0.000000e+00</td>\n      <td>0</td>\n      <td>0.000000</td>\n      <td>0.000000e+00</td>\n      <td>50.000000</td>\n      <td>0.000000</td>\n      <td>0.000000</td>\n      <td>...</td>\n      <td>0.000000</td>\n      <td>55.600000</td>\n      <td>0.000000</td>\n      <td>0.000000</td>\n      <td>0.000000</td>\n      <td>0.000000</td>\n      <td>-47.864396</td>\n      <td>0.000000</td>\n      <td>0.000000</td>\n      <td>54.803925</td>\n    </tr>\n    <tr>\n      <th>1</th>\n      <td>55.700000</td>\n      <td>0</td>\n      <td>0.001799</td>\n      <td>-0.000000e+00</td>\n      <td>0</td>\n      <td>0.000000</td>\n      <td>0.000000e+00</td>\n      <td>50.000000</td>\n      <td>0.000000</td>\n      <td>0.000000</td>\n      <td>...</td>\n      <td>0.000000</td>\n      <td>55.641486</td>\n      <td>0.000000</td>\n      <td>0.000000</td>\n      <td>0.000000</td>\n      <td>0.000000</td>\n      <td>0.179856</td>\n      <td>0.179695</td>\n      <td>0.179856</td>\n      <td>55.486252</td>\n    </tr>\n    <tr>\n      <th>2</th>\n      <td>56.247500</td>\n      <td>0</td>\n      <td>0.009829</td>\n      <td>0.000000e+00</td>\n      <td>0</td>\n      <td>0.000000</td>\n      <td>0.000000e+00</td>\n      <td>50.000000</td>\n      <td>0.000000</td>\n      <td>0.000000</td>\n      <td>...</td>\n      <td>0.000000</td>\n      <td>55.895109</td>\n      <td>0.000000</td>\n      <td>0.000000</td>\n      <td>0.000000</td>\n      <td>0.000000</td>\n      <td>0.982944</td>\n      <td>0.978145</td>\n      <td>1.164568</td>\n      <td>55.264999</td>\n    </tr>\n    <tr>\n      <th>3</th>\n      <td>56.595000</td>\n      <td>0</td>\n      <td>0.006178</td>\n      <td>0.000000e+00</td>\n      <td>0</td>\n      <td>0.000000</td>\n      <td>0.000000e+00</td>\n      <td>50.000000</td>\n      <td>0.000000</td>\n      <td>0.000000</td>\n      <td>...</td>\n      <td>0.000000</td>\n      <td>56.185689</td>\n      <td>0.000000</td>\n      <td>0.000000</td>\n      <td>0.000000</td>\n      <td>0.000000</td>\n      <td>0.617805</td>\n      <td>0.615905</td>\n      <td>1.789568</td>\n      <td>54.432499</td>\n    </tr>\n    <tr>\n      <th>4</th>\n      <td>57.812500</td>\n      <td>0</td>\n      <td>0.021513</td>\n      <td>0.000000e+00</td>\n      <td>0</td>\n      <td>0.000000</td>\n      <td>0.000000e+00</td>\n      <td>50.000000</td>\n      <td>0.000000</td>\n      <td>0.000000</td>\n      <td>...</td>\n      <td>0.000000</td>\n      <td>56.833695</td>\n      <td>0.000000</td>\n      <td>0.000000</td>\n      <td>0.000000</td>\n      <td>0.000000</td>\n      <td>2.151250</td>\n      <td>2.128437</td>\n      <td>3.979317</td>\n      <td>55.994999</td>\n    </tr>\n    <tr>\n      <th>...</th>\n      <td>...</td>\n      <td>...</td>\n      <td>...</td>\n      <td>...</td>\n      <td>...</td>\n      <td>...</td>\n      <td>...</td>\n      <td>...</td>\n      <td>...</td>\n      <td>...</td>\n      <td>...</td>\n      <td>...</td>\n      <td>...</td>\n      <td>...</td>\n      <td>...</td>\n      <td>...</td>\n      <td>...</td>\n      <td>...</td>\n      <td>...</td>\n      <td>...</td>\n      <td>...</td>\n    </tr>\n    <tr>\n      <th>4178</th>\n      <td>123.091103</td>\n      <td>12373575</td>\n      <td>-0.002746</td>\n      <td>6.772166e+08</td>\n      <td>-304635341</td>\n      <td>-0.032093</td>\n      <td>3.952908e+06</td>\n      <td>100.000000</td>\n      <td>3.539772</td>\n      <td>5.152305</td>\n      <td>...</td>\n      <td>1.307150</td>\n      <td>122.417025</td>\n      <td>2.550281</td>\n      <td>17.274375</td>\n      <td>-5.237322</td>\n      <td>22.511697</td>\n      <td>-0.274567</td>\n      <td>-0.274944</td>\n      <td>121.386875</td>\n      <td>NaN</td>\n    </tr>\n    <tr>\n      <th>4179</th>\n      <td>123.542000</td>\n      <td>9430925</td>\n      <td>0.003663</td>\n      <td>6.814015e+08</td>\n      <td>-295204416</td>\n      <td>0.073995</td>\n      <td>3.995690e+06</td>\n      <td>100.000000</td>\n      <td>-0.033912</td>\n      <td>4.115061</td>\n      <td>...</td>\n      <td>1.853018</td>\n      <td>122.683125</td>\n      <td>2.960247</td>\n      <td>17.006940</td>\n      <td>-0.788469</td>\n      <td>17.795410</td>\n      <td>0.366312</td>\n      <td>0.365642</td>\n      <td>122.197841</td>\n      <td>NaN</td>\n    </tr>\n    <tr>\n      <th>4180</th>\n      <td>123.345001</td>\n      <td>11354023</td>\n      <td>-0.001595</td>\n      <td>6.727190e+08</td>\n      <td>-306558439</td>\n      <td>-0.022353</td>\n      <td>3.105345e+06</td>\n      <td>100.000000</td>\n      <td>0.903980</td>\n      <td>3.579881</td>\n      <td>...</td>\n      <td>2.216141</td>\n      <td>122.806622</td>\n      <td>2.770373</td>\n      <td>18.299709</td>\n      <td>3.029166</td>\n      <td>15.270543</td>\n      <td>-0.159459</td>\n      <td>-0.159586</td>\n      <td>121.843527</td>\n      <td>NaN</td>\n    </tr>\n    <tr>\n      <th>4181</th>\n      <td>123.370003</td>\n      <td>10684835</td>\n      <td>0.000203</td>\n      <td>6.749298e+08</td>\n      <td>-295873604</td>\n      <td>0.039436</td>\n      <td>2.699886e+06</td>\n      <td>88.424942</td>\n      <td>-1.424946</td>\n      <td>2.864906</td>\n      <td>...</td>\n      <td>2.310367</td>\n      <td>122.908690</td>\n      <td>2.119032</td>\n      <td>18.355886</td>\n      <td>6.094510</td>\n      <td>12.261375</td>\n      <td>0.020270</td>\n      <td>0.020268</td>\n      <td>121.888494</td>\n      <td>NaN</td>\n    </tr>\n    <tr>\n      <th>4182</th>\n      <td>123.120000</td>\n      <td>9642937</td>\n      <td>-0.002026</td>\n      <td>6.740522e+08</td>\n      <td>-305516541</td>\n      <td>0.047963</td>\n      <td>1.969794e+06</td>\n      <td>80.073040</td>\n      <td>-1.143532</td>\n      <td>2.363851</td>\n      <td>...</td>\n      <td>2.313878</td>\n      <td>122.942765</td>\n      <td>1.836228</td>\n      <td>17.232556</td>\n      <td>8.322119</td>\n      <td>8.910436</td>\n      <td>-0.202645</td>\n      <td>-0.202850</td>\n      <td>121.438849</td>\n      <td>NaN</td>\n    </tr>\n  </tbody>\n</table>\n<p>4183 rows × 87 columns</p>\n</div>"
     },
     "execution_count": 236,
     "metadata": {},
     "output_type": "execute_result"
    }
   ],
   "source": [
    "data['close_shift'] = data.shift(-WINDOW)['close']\n",
    "data"
   ],
   "metadata": {
    "collapsed": false,
    "pycharm": {
     "name": "#%%\n"
    }
   }
  },
  {
   "cell_type": "code",
   "execution_count": 237,
   "outputs": [
    {
     "data": {
      "text/plain": "           close    volume  close_pct    volume_adi  volume_obv  volume_cmf  \\\n0      55.600000         0        NaN -0.000000e+00           0    0.000000   \n1      55.700000         0   0.001799 -0.000000e+00           0    0.000000   \n2      56.247500         0   0.009829  0.000000e+00           0    0.000000   \n3      56.595000         0   0.006178  0.000000e+00           0    0.000000   \n4      57.812500         0   0.021513  0.000000e+00           0    0.000000   \n...          ...       ...        ...           ...         ...         ...   \n4178  123.091103  12373575  -0.002746  6.772166e+08  -304635341   -0.032093   \n4179  123.542000   9430925   0.003663  6.814015e+08  -295204416    0.073995   \n4180  123.345001  11354023  -0.001595  6.727190e+08  -306558439   -0.022353   \n4181  123.370003  10684835   0.000203  6.749298e+08  -295873604    0.039436   \n4182  123.120000   9642937  -0.002026  6.740522e+08  -305516541    0.047963   \n\n         volume_fi  volume_mfi  volume_em  volume_sma_em  ...  momentum_kama  \\\n0     0.000000e+00   50.000000   0.000000       0.000000  ...      55.600000   \n1     0.000000e+00   50.000000   0.000000       0.000000  ...      55.641486   \n2     0.000000e+00   50.000000   0.000000       0.000000  ...      55.895109   \n3     0.000000e+00   50.000000   0.000000       0.000000  ...      56.185689   \n4     0.000000e+00   50.000000   0.000000       0.000000  ...      56.833695   \n...            ...         ...        ...            ...  ...            ...   \n4178  3.952908e+06  100.000000   3.539772       5.152305  ...     122.417025   \n4179  3.995690e+06  100.000000  -0.033912       4.115061  ...     122.683125   \n4180  3.105345e+06  100.000000   0.903980       3.579881  ...     122.806622   \n4181  2.699886e+06   88.424942  -1.424946       2.864906  ...     122.908690   \n4182  1.969794e+06   80.073040  -1.143532       2.363851  ...     122.942765   \n\n      momentum_roc  momentum_ppo  momentum_ppo_signal  momentum_ppo_hist  \\\n0         0.000000      0.000000             0.000000           0.000000   \n1         0.000000      0.000000             0.000000           0.000000   \n2         0.000000      0.000000             0.000000           0.000000   \n3         0.000000      0.000000             0.000000           0.000000   \n4         0.000000      0.000000             0.000000           0.000000   \n...            ...           ...                  ...                ...   \n4178      2.550281     17.274375            -5.237322          22.511697   \n4179      2.960247     17.006940            -0.788469          17.795410   \n4180      2.770373     18.299709             3.029166          15.270543   \n4181      2.119032     18.355886             6.094510          12.261375   \n4182      1.836228     17.232556             8.322119           8.910436   \n\n      others_dr  others_dlr   others_cr  close_shift  class_column  \n0    -47.864396    0.000000    0.000000    54.803925             0  \n1      0.179856    0.179695    0.179856    55.486252             0  \n2      0.982944    0.978145    1.164568    55.264999             0  \n3      0.617805    0.615905    1.789568    54.432499            -1  \n4      2.151250    2.128437    3.979317    55.994999            -1  \n...         ...         ...         ...          ...           ...  \n4178  -0.274567   -0.274944  121.386875          NaN             0  \n4179   0.366312    0.365642  122.197841          NaN             0  \n4180  -0.159459   -0.159586  121.843527          NaN             0  \n4181   0.020270    0.020268  121.888494          NaN             0  \n4182  -0.202645   -0.202850  121.438849          NaN             0  \n\n[4183 rows x 88 columns]",
      "text/html": "<div>\n<style scoped>\n    .dataframe tbody tr th:only-of-type {\n        vertical-align: middle;\n    }\n\n    .dataframe tbody tr th {\n        vertical-align: top;\n    }\n\n    .dataframe thead th {\n        text-align: right;\n    }\n</style>\n<table border=\"1\" class=\"dataframe\">\n  <thead>\n    <tr style=\"text-align: right;\">\n      <th></th>\n      <th>close</th>\n      <th>volume</th>\n      <th>close_pct</th>\n      <th>volume_adi</th>\n      <th>volume_obv</th>\n      <th>volume_cmf</th>\n      <th>volume_fi</th>\n      <th>volume_mfi</th>\n      <th>volume_em</th>\n      <th>volume_sma_em</th>\n      <th>...</th>\n      <th>momentum_kama</th>\n      <th>momentum_roc</th>\n      <th>momentum_ppo</th>\n      <th>momentum_ppo_signal</th>\n      <th>momentum_ppo_hist</th>\n      <th>others_dr</th>\n      <th>others_dlr</th>\n      <th>others_cr</th>\n      <th>close_shift</th>\n      <th>class_column</th>\n    </tr>\n  </thead>\n  <tbody>\n    <tr>\n      <th>0</th>\n      <td>55.600000</td>\n      <td>0</td>\n      <td>NaN</td>\n      <td>-0.000000e+00</td>\n      <td>0</td>\n      <td>0.000000</td>\n      <td>0.000000e+00</td>\n      <td>50.000000</td>\n      <td>0.000000</td>\n      <td>0.000000</td>\n      <td>...</td>\n      <td>55.600000</td>\n      <td>0.000000</td>\n      <td>0.000000</td>\n      <td>0.000000</td>\n      <td>0.000000</td>\n      <td>-47.864396</td>\n      <td>0.000000</td>\n      <td>0.000000</td>\n      <td>54.803925</td>\n      <td>0</td>\n    </tr>\n    <tr>\n      <th>1</th>\n      <td>55.700000</td>\n      <td>0</td>\n      <td>0.001799</td>\n      <td>-0.000000e+00</td>\n      <td>0</td>\n      <td>0.000000</td>\n      <td>0.000000e+00</td>\n      <td>50.000000</td>\n      <td>0.000000</td>\n      <td>0.000000</td>\n      <td>...</td>\n      <td>55.641486</td>\n      <td>0.000000</td>\n      <td>0.000000</td>\n      <td>0.000000</td>\n      <td>0.000000</td>\n      <td>0.179856</td>\n      <td>0.179695</td>\n      <td>0.179856</td>\n      <td>55.486252</td>\n      <td>0</td>\n    </tr>\n    <tr>\n      <th>2</th>\n      <td>56.247500</td>\n      <td>0</td>\n      <td>0.009829</td>\n      <td>0.000000e+00</td>\n      <td>0</td>\n      <td>0.000000</td>\n      <td>0.000000e+00</td>\n      <td>50.000000</td>\n      <td>0.000000</td>\n      <td>0.000000</td>\n      <td>...</td>\n      <td>55.895109</td>\n      <td>0.000000</td>\n      <td>0.000000</td>\n      <td>0.000000</td>\n      <td>0.000000</td>\n      <td>0.982944</td>\n      <td>0.978145</td>\n      <td>1.164568</td>\n      <td>55.264999</td>\n      <td>0</td>\n    </tr>\n    <tr>\n      <th>3</th>\n      <td>56.595000</td>\n      <td>0</td>\n      <td>0.006178</td>\n      <td>0.000000e+00</td>\n      <td>0</td>\n      <td>0.000000</td>\n      <td>0.000000e+00</td>\n      <td>50.000000</td>\n      <td>0.000000</td>\n      <td>0.000000</td>\n      <td>...</td>\n      <td>56.185689</td>\n      <td>0.000000</td>\n      <td>0.000000</td>\n      <td>0.000000</td>\n      <td>0.000000</td>\n      <td>0.617805</td>\n      <td>0.615905</td>\n      <td>1.789568</td>\n      <td>54.432499</td>\n      <td>-1</td>\n    </tr>\n    <tr>\n      <th>4</th>\n      <td>57.812500</td>\n      <td>0</td>\n      <td>0.021513</td>\n      <td>0.000000e+00</td>\n      <td>0</td>\n      <td>0.000000</td>\n      <td>0.000000e+00</td>\n      <td>50.000000</td>\n      <td>0.000000</td>\n      <td>0.000000</td>\n      <td>...</td>\n      <td>56.833695</td>\n      <td>0.000000</td>\n      <td>0.000000</td>\n      <td>0.000000</td>\n      <td>0.000000</td>\n      <td>2.151250</td>\n      <td>2.128437</td>\n      <td>3.979317</td>\n      <td>55.994999</td>\n      <td>-1</td>\n    </tr>\n    <tr>\n      <th>...</th>\n      <td>...</td>\n      <td>...</td>\n      <td>...</td>\n      <td>...</td>\n      <td>...</td>\n      <td>...</td>\n      <td>...</td>\n      <td>...</td>\n      <td>...</td>\n      <td>...</td>\n      <td>...</td>\n      <td>...</td>\n      <td>...</td>\n      <td>...</td>\n      <td>...</td>\n      <td>...</td>\n      <td>...</td>\n      <td>...</td>\n      <td>...</td>\n      <td>...</td>\n      <td>...</td>\n    </tr>\n    <tr>\n      <th>4178</th>\n      <td>123.091103</td>\n      <td>12373575</td>\n      <td>-0.002746</td>\n      <td>6.772166e+08</td>\n      <td>-304635341</td>\n      <td>-0.032093</td>\n      <td>3.952908e+06</td>\n      <td>100.000000</td>\n      <td>3.539772</td>\n      <td>5.152305</td>\n      <td>...</td>\n      <td>122.417025</td>\n      <td>2.550281</td>\n      <td>17.274375</td>\n      <td>-5.237322</td>\n      <td>22.511697</td>\n      <td>-0.274567</td>\n      <td>-0.274944</td>\n      <td>121.386875</td>\n      <td>NaN</td>\n      <td>0</td>\n    </tr>\n    <tr>\n      <th>4179</th>\n      <td>123.542000</td>\n      <td>9430925</td>\n      <td>0.003663</td>\n      <td>6.814015e+08</td>\n      <td>-295204416</td>\n      <td>0.073995</td>\n      <td>3.995690e+06</td>\n      <td>100.000000</td>\n      <td>-0.033912</td>\n      <td>4.115061</td>\n      <td>...</td>\n      <td>122.683125</td>\n      <td>2.960247</td>\n      <td>17.006940</td>\n      <td>-0.788469</td>\n      <td>17.795410</td>\n      <td>0.366312</td>\n      <td>0.365642</td>\n      <td>122.197841</td>\n      <td>NaN</td>\n      <td>0</td>\n    </tr>\n    <tr>\n      <th>4180</th>\n      <td>123.345001</td>\n      <td>11354023</td>\n      <td>-0.001595</td>\n      <td>6.727190e+08</td>\n      <td>-306558439</td>\n      <td>-0.022353</td>\n      <td>3.105345e+06</td>\n      <td>100.000000</td>\n      <td>0.903980</td>\n      <td>3.579881</td>\n      <td>...</td>\n      <td>122.806622</td>\n      <td>2.770373</td>\n      <td>18.299709</td>\n      <td>3.029166</td>\n      <td>15.270543</td>\n      <td>-0.159459</td>\n      <td>-0.159586</td>\n      <td>121.843527</td>\n      <td>NaN</td>\n      <td>0</td>\n    </tr>\n    <tr>\n      <th>4181</th>\n      <td>123.370003</td>\n      <td>10684835</td>\n      <td>0.000203</td>\n      <td>6.749298e+08</td>\n      <td>-295873604</td>\n      <td>0.039436</td>\n      <td>2.699886e+06</td>\n      <td>88.424942</td>\n      <td>-1.424946</td>\n      <td>2.864906</td>\n      <td>...</td>\n      <td>122.908690</td>\n      <td>2.119032</td>\n      <td>18.355886</td>\n      <td>6.094510</td>\n      <td>12.261375</td>\n      <td>0.020270</td>\n      <td>0.020268</td>\n      <td>121.888494</td>\n      <td>NaN</td>\n      <td>0</td>\n    </tr>\n    <tr>\n      <th>4182</th>\n      <td>123.120000</td>\n      <td>9642937</td>\n      <td>-0.002026</td>\n      <td>6.740522e+08</td>\n      <td>-305516541</td>\n      <td>0.047963</td>\n      <td>1.969794e+06</td>\n      <td>80.073040</td>\n      <td>-1.143532</td>\n      <td>2.363851</td>\n      <td>...</td>\n      <td>122.942765</td>\n      <td>1.836228</td>\n      <td>17.232556</td>\n      <td>8.322119</td>\n      <td>8.910436</td>\n      <td>-0.202645</td>\n      <td>-0.202850</td>\n      <td>121.438849</td>\n      <td>NaN</td>\n      <td>0</td>\n    </tr>\n  </tbody>\n</table>\n<p>4183 rows × 88 columns</p>\n</div>"
     },
     "execution_count": 237,
     "metadata": {},
     "output_type": "execute_result"
    }
   ],
   "source": [
    "data['class_column'] = data.apply(create_class_column, axis=1)\n",
    "data"
   ],
   "metadata": {
    "collapsed": false,
    "pycharm": {
     "name": "#%%\n"
    }
   }
  },
  {
   "cell_type": "code",
   "execution_count": 238,
   "outputs": [
    {
     "data": {
      "text/plain": " 0    2935\n 1     700\n-1     548\nName: class_column, dtype: int64"
     },
     "execution_count": 238,
     "metadata": {},
     "output_type": "execute_result"
    }
   ],
   "source": [
    "# Class divide\n",
    "data['class_column'].value_counts()"
   ],
   "metadata": {
    "collapsed": false,
    "pycharm": {
     "name": "#%%\n"
    }
   }
  },
  {
   "cell_type": "code",
   "execution_count": 239,
   "outputs": [],
   "source": [
    "del (data['close'])\n",
    "del (data['close_shift'])\n",
    "data = data.dropna()\n",
    "train_set = data.iloc[:-ROWS_TO_PREDICT]\n",
    "train_set = train_set.iloc[:-WINDOW] # optional drop last n rows (avoid of data leak)\n",
    "test_set =data.iloc[-ROWS_TO_PREDICT:]"
   ],
   "metadata": {
    "collapsed": false,
    "pycharm": {
     "name": "#%%\n"
    }
   }
  },
  {
   "cell_type": "code",
   "execution_count": 240,
   "outputs": [
    {
     "data": {
      "text/plain": " 0    2934\n 1     700\n-1     548\nName: class_column, dtype: int64"
     },
     "execution_count": 240,
     "metadata": {},
     "output_type": "execute_result"
    }
   ],
   "source": [
    "data['class_column'].value_counts()"
   ],
   "metadata": {
    "collapsed": false,
    "pycharm": {
     "name": "#%%\n"
    }
   }
  },
  {
   "cell_type": "code",
   "execution_count": 241,
   "outputs": [
    {
     "data": {
      "text/plain": "        volume  close_pct    volume_adi  volume_obv  volume_cmf     volume_fi  \\\n1            0   0.001799 -0.000000e+00           0    0.000000  0.000000e+00   \n2            0   0.009829  0.000000e+00           0    0.000000  0.000000e+00   \n3            0   0.006178  0.000000e+00           0    0.000000  0.000000e+00   \n4            0   0.021513  0.000000e+00           0    0.000000  0.000000e+00   \n5            0  -0.013708  0.000000e+00           0    0.000000  0.000000e+00   \n...        ...        ...           ...         ...         ...           ...   \n3658  23429741  -0.014937  7.974509e+08   304999887   -0.363235 -6.958348e+06   \n3659  10558612   0.002231  7.968458e+08   315558499   -0.333381 -5.514037e+06   \n3660   7608849   0.005408  8.007158e+08   323167348   -0.278061 -3.938268e+06   \n3661  11014699   0.001410  7.974242e+08   334182047   -0.279866 -3.076684e+06   \n3662   6633635  -0.002333  7.938392e+08   327548412   -0.193784 -2.935573e+06   \n\n      volume_mfi  volume_em  volume_sma_em     volume_vpt  ...  momentum_ao  \\\n1      50.000000   0.000000       0.000000       0.000000  ...     0.000000   \n2      50.000000   0.000000       0.000000       0.000000  ...     0.000000   \n3      50.000000   0.000000       0.000000       0.000000  ...     0.000000   \n4      50.000000   0.000000       0.000000       0.000000  ...     0.000000   \n5      50.000000   0.000000       0.000000       0.000000  ...     0.137792   \n...          ...        ...            ...            ...  ...          ...   \n3658   29.529642  -6.499420      -1.211784 -349979.662730  ...     0.425876   \n3659   27.706281  -4.442275      -2.050300 -326418.389283  ...     0.060714   \n3660   28.623955   6.212542      -0.677192   64706.537582  ...    -0.172536   \n3661   45.230036   4.857641       0.418325   56671.208938  ...    -0.276007   \n3662   31.515199  -2.732218      -0.520746      50.872297  ...    -0.398066   \n\n      momentum_kama  momentum_roc  momentum_ppo  momentum_ppo_signal  \\\n1         55.641486      0.000000      0.000000             0.000000   \n2         55.895109      0.000000      0.000000             0.000000   \n3         56.185689      0.000000      0.000000             0.000000   \n4         56.833695      0.000000      0.000000             0.000000   \n5         56.907320      0.000000      0.000000             0.000000   \n...             ...           ...           ...                  ...   \n3658     134.949260     -0.954019      1.352799           -27.139769   \n3659     134.917413     -0.655770      9.510896           -19.809636   \n3660     134.916251     -0.137056     11.109264           -13.625856   \n3661     134.916574     -0.025922     16.201586            -7.660367   \n3662     134.908642     -0.303446     14.558776            -3.216539   \n\n      momentum_ppo_hist  others_dr  others_dlr   others_cr  class_column  \n1              0.000000   0.179856    0.179695    0.179856             0  \n2              0.000000   0.982944    0.978145    1.164568             0  \n3              0.000000   0.617805    0.615905    1.789568            -1  \n4              0.000000   2.151250    2.128437    3.979317            -1  \n5              0.000000  -1.370811   -1.380293    2.553957             0  \n...                 ...        ...         ...         ...           ...  \n3658          28.492568  -1.493741   -1.505010  140.596222             1  \n3659          29.320532   0.223147    0.222899  141.133107             1  \n3660          24.735120   0.540755    0.539299  142.437047             0  \n3661          23.861953   0.140957    0.140857  142.778778             0  \n3662          17.775315  -0.233282   -0.233554  142.212419             1  \n\n[3662 rows x 86 columns]",
      "text/html": "<div>\n<style scoped>\n    .dataframe tbody tr th:only-of-type {\n        vertical-align: middle;\n    }\n\n    .dataframe tbody tr th {\n        vertical-align: top;\n    }\n\n    .dataframe thead th {\n        text-align: right;\n    }\n</style>\n<table border=\"1\" class=\"dataframe\">\n  <thead>\n    <tr style=\"text-align: right;\">\n      <th></th>\n      <th>volume</th>\n      <th>close_pct</th>\n      <th>volume_adi</th>\n      <th>volume_obv</th>\n      <th>volume_cmf</th>\n      <th>volume_fi</th>\n      <th>volume_mfi</th>\n      <th>volume_em</th>\n      <th>volume_sma_em</th>\n      <th>volume_vpt</th>\n      <th>...</th>\n      <th>momentum_ao</th>\n      <th>momentum_kama</th>\n      <th>momentum_roc</th>\n      <th>momentum_ppo</th>\n      <th>momentum_ppo_signal</th>\n      <th>momentum_ppo_hist</th>\n      <th>others_dr</th>\n      <th>others_dlr</th>\n      <th>others_cr</th>\n      <th>class_column</th>\n    </tr>\n  </thead>\n  <tbody>\n    <tr>\n      <th>1</th>\n      <td>0</td>\n      <td>0.001799</td>\n      <td>-0.000000e+00</td>\n      <td>0</td>\n      <td>0.000000</td>\n      <td>0.000000e+00</td>\n      <td>50.000000</td>\n      <td>0.000000</td>\n      <td>0.000000</td>\n      <td>0.000000</td>\n      <td>...</td>\n      <td>0.000000</td>\n      <td>55.641486</td>\n      <td>0.000000</td>\n      <td>0.000000</td>\n      <td>0.000000</td>\n      <td>0.000000</td>\n      <td>0.179856</td>\n      <td>0.179695</td>\n      <td>0.179856</td>\n      <td>0</td>\n    </tr>\n    <tr>\n      <th>2</th>\n      <td>0</td>\n      <td>0.009829</td>\n      <td>0.000000e+00</td>\n      <td>0</td>\n      <td>0.000000</td>\n      <td>0.000000e+00</td>\n      <td>50.000000</td>\n      <td>0.000000</td>\n      <td>0.000000</td>\n      <td>0.000000</td>\n      <td>...</td>\n      <td>0.000000</td>\n      <td>55.895109</td>\n      <td>0.000000</td>\n      <td>0.000000</td>\n      <td>0.000000</td>\n      <td>0.000000</td>\n      <td>0.982944</td>\n      <td>0.978145</td>\n      <td>1.164568</td>\n      <td>0</td>\n    </tr>\n    <tr>\n      <th>3</th>\n      <td>0</td>\n      <td>0.006178</td>\n      <td>0.000000e+00</td>\n      <td>0</td>\n      <td>0.000000</td>\n      <td>0.000000e+00</td>\n      <td>50.000000</td>\n      <td>0.000000</td>\n      <td>0.000000</td>\n      <td>0.000000</td>\n      <td>...</td>\n      <td>0.000000</td>\n      <td>56.185689</td>\n      <td>0.000000</td>\n      <td>0.000000</td>\n      <td>0.000000</td>\n      <td>0.000000</td>\n      <td>0.617805</td>\n      <td>0.615905</td>\n      <td>1.789568</td>\n      <td>-1</td>\n    </tr>\n    <tr>\n      <th>4</th>\n      <td>0</td>\n      <td>0.021513</td>\n      <td>0.000000e+00</td>\n      <td>0</td>\n      <td>0.000000</td>\n      <td>0.000000e+00</td>\n      <td>50.000000</td>\n      <td>0.000000</td>\n      <td>0.000000</td>\n      <td>0.000000</td>\n      <td>...</td>\n      <td>0.000000</td>\n      <td>56.833695</td>\n      <td>0.000000</td>\n      <td>0.000000</td>\n      <td>0.000000</td>\n      <td>0.000000</td>\n      <td>2.151250</td>\n      <td>2.128437</td>\n      <td>3.979317</td>\n      <td>-1</td>\n    </tr>\n    <tr>\n      <th>5</th>\n      <td>0</td>\n      <td>-0.013708</td>\n      <td>0.000000e+00</td>\n      <td>0</td>\n      <td>0.000000</td>\n      <td>0.000000e+00</td>\n      <td>50.000000</td>\n      <td>0.000000</td>\n      <td>0.000000</td>\n      <td>0.000000</td>\n      <td>...</td>\n      <td>0.137792</td>\n      <td>56.907320</td>\n      <td>0.000000</td>\n      <td>0.000000</td>\n      <td>0.000000</td>\n      <td>0.000000</td>\n      <td>-1.370811</td>\n      <td>-1.380293</td>\n      <td>2.553957</td>\n      <td>0</td>\n    </tr>\n    <tr>\n      <th>...</th>\n      <td>...</td>\n      <td>...</td>\n      <td>...</td>\n      <td>...</td>\n      <td>...</td>\n      <td>...</td>\n      <td>...</td>\n      <td>...</td>\n      <td>...</td>\n      <td>...</td>\n      <td>...</td>\n      <td>...</td>\n      <td>...</td>\n      <td>...</td>\n      <td>...</td>\n      <td>...</td>\n      <td>...</td>\n      <td>...</td>\n      <td>...</td>\n      <td>...</td>\n      <td>...</td>\n    </tr>\n    <tr>\n      <th>3658</th>\n      <td>23429741</td>\n      <td>-0.014937</td>\n      <td>7.974509e+08</td>\n      <td>304999887</td>\n      <td>-0.363235</td>\n      <td>-6.958348e+06</td>\n      <td>29.529642</td>\n      <td>-6.499420</td>\n      <td>-1.211784</td>\n      <td>-349979.662730</td>\n      <td>...</td>\n      <td>0.425876</td>\n      <td>134.949260</td>\n      <td>-0.954019</td>\n      <td>1.352799</td>\n      <td>-27.139769</td>\n      <td>28.492568</td>\n      <td>-1.493741</td>\n      <td>-1.505010</td>\n      <td>140.596222</td>\n      <td>1</td>\n    </tr>\n    <tr>\n      <th>3659</th>\n      <td>10558612</td>\n      <td>0.002231</td>\n      <td>7.968458e+08</td>\n      <td>315558499</td>\n      <td>-0.333381</td>\n      <td>-5.514037e+06</td>\n      <td>27.706281</td>\n      <td>-4.442275</td>\n      <td>-2.050300</td>\n      <td>-326418.389283</td>\n      <td>...</td>\n      <td>0.060714</td>\n      <td>134.917413</td>\n      <td>-0.655770</td>\n      <td>9.510896</td>\n      <td>-19.809636</td>\n      <td>29.320532</td>\n      <td>0.223147</td>\n      <td>0.222899</td>\n      <td>141.133107</td>\n      <td>1</td>\n    </tr>\n    <tr>\n      <th>3660</th>\n      <td>7608849</td>\n      <td>0.005408</td>\n      <td>8.007158e+08</td>\n      <td>323167348</td>\n      <td>-0.278061</td>\n      <td>-3.938268e+06</td>\n      <td>28.623955</td>\n      <td>6.212542</td>\n      <td>-0.677192</td>\n      <td>64706.537582</td>\n      <td>...</td>\n      <td>-0.172536</td>\n      <td>134.916251</td>\n      <td>-0.137056</td>\n      <td>11.109264</td>\n      <td>-13.625856</td>\n      <td>24.735120</td>\n      <td>0.540755</td>\n      <td>0.539299</td>\n      <td>142.437047</td>\n      <td>0</td>\n    </tr>\n    <tr>\n      <th>3661</th>\n      <td>11014699</td>\n      <td>0.001410</td>\n      <td>7.974242e+08</td>\n      <td>334182047</td>\n      <td>-0.279866</td>\n      <td>-3.076684e+06</td>\n      <td>45.230036</td>\n      <td>4.857641</td>\n      <td>0.418325</td>\n      <td>56671.208938</td>\n      <td>...</td>\n      <td>-0.276007</td>\n      <td>134.916574</td>\n      <td>-0.025922</td>\n      <td>16.201586</td>\n      <td>-7.660367</td>\n      <td>23.861953</td>\n      <td>0.140957</td>\n      <td>0.140857</td>\n      <td>142.778778</td>\n      <td>0</td>\n    </tr>\n    <tr>\n      <th>3662</th>\n      <td>6633635</td>\n      <td>-0.002333</td>\n      <td>7.938392e+08</td>\n      <td>327548412</td>\n      <td>-0.193784</td>\n      <td>-2.935573e+06</td>\n      <td>31.515199</td>\n      <td>-2.732218</td>\n      <td>-0.520746</td>\n      <td>50.872297</td>\n      <td>...</td>\n      <td>-0.398066</td>\n      <td>134.908642</td>\n      <td>-0.303446</td>\n      <td>14.558776</td>\n      <td>-3.216539</td>\n      <td>17.775315</td>\n      <td>-0.233282</td>\n      <td>-0.233554</td>\n      <td>142.212419</td>\n      <td>1</td>\n    </tr>\n  </tbody>\n</table>\n<p>3662 rows × 86 columns</p>\n</div>"
     },
     "execution_count": 241,
     "metadata": {},
     "output_type": "execute_result"
    }
   ],
   "source": [
    "train_set"
   ],
   "metadata": {
    "collapsed": false,
    "pycharm": {
     "name": "#%%\n"
    }
   }
  },
  {
   "cell_type": "code",
   "execution_count": 242,
   "outputs": [],
   "source": [
    "y = data['class_column']\n",
    "features = [x for x in data.columns if x not in ['class_column']]\n",
    "x = data[features]\n",
    "scaler = MinMaxScaler()\n",
    "# x = pd.DataFrame(scaler.fit_transform(x.values), columns=x.columns, index=x.index)\n",
    "x_train= x.iloc[:-ROWS_TO_PREDICT]\n",
    "y_train= y.iloc[:-ROWS_TO_PREDICT]\n",
    "x_test =x.iloc[-ROWS_TO_PREDICT:]\n",
    "y_test=y.iloc[-ROWS_TO_PREDICT:]"
   ],
   "metadata": {
    "collapsed": false,
    "pycharm": {
     "name": "#%%\n"
    }
   }
  },
  {
   "cell_type": "code",
   "execution_count": 243,
   "outputs": [],
   "source": [
    "classifier = GradientBoostingClassifier(n_estimators=100,random_state=0,criterion='friedman_mse',max_depth=3, learning_rate=0.1)"
   ],
   "metadata": {
    "collapsed": false,
    "pycharm": {
     "name": "#%%\n"
    }
   }
  },
  {
   "cell_type": "code",
   "execution_count": 244,
   "outputs": [],
   "source": [
    "def print_conf_matrix(test_y, predict, name):\n",
    "    matrix = confusion_matrix(test_y, predict,  labels=[-1, 0, 1])\n",
    "    print(matrix)\n",
    "    ax= plt.subplot()\n",
    "    sn.heatmap(matrix, annot=True, ax = ax) #annot=True to annotate cells\n",
    "\n",
    "    # labels, title and ticks\n",
    "    ax.set_xlabel('Predicted labels', color='white')\n",
    "    ax.set_ylabel('True labels', color='white')\n",
    "    ax.set_title(f'Confusion Matrix for {name}' , color='white')\n",
    "    ax.xaxis.set_ticklabels(['-1','0', '1'], color='white')\n",
    "    ax.yaxis.set_ticklabels(['-1','0', '1'], color='white')\n",
    "    plt.show()\n",
    "\n",
    "def train_model(model,train_x, train_y):\n",
    "    model.fit(train_x, train_y)"
   ],
   "metadata": {
    "collapsed": false,
    "pycharm": {
     "name": "#%%\n"
    }
   }
  },
  {
   "cell_type": "code",
   "execution_count": 245,
   "outputs": [
    {
     "name": "stdout",
     "output_type": "stream",
     "text": [
      "Score:  0.626953125\n",
      "[[  1 104   2]\n",
      " [  7 311  10]\n",
      " [  1  67   9]]\n"
     ]
    },
    {
     "data": {
      "text/plain": "<Figure size 432x288 with 2 Axes>",
      "image/png": "[encoded data removed]"
     },
     "metadata": {},
     "output_type": "display_data"
    }
   ],
   "source": [
    "predictions= dict()\n",
    "\n",
    "train_model(classifier,x_train,y_train)\n",
    "predictions = classifier.predict(x_test)\n",
    "score = accuracy_score(y_test.values, predictions)\n",
    "print('Score: ',  score )\n",
    "print_conf_matrix(y_test, predictions, \"Random forest \")\n"
   ],
   "metadata": {
    "collapsed": false,
    "pycharm": {
     "name": "#%%\n"
    }
   }
  }
 ],
 "metadata": {
  "kernelspec": {
   "name": "magisterka_analiza",
   "language": "python",
   "display_name": "Python magisterka"
  },
  "language_info": {
   "codemirror_mode": {
    "name": "ipython",
    "version": 2
   },
   "file_extension": ".py",
   "mimetype": "text/x-python",
   "name": "python",
   "nbconvert_exporter": "python",
   "pygments_lexer": "ipython2",
   "version": "2.7.6"
  }
 },
 "nbformat": 4,
 "nbformat_minor": 0
}