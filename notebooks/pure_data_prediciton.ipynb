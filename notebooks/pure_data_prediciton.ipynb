{
 "cells": [
  {
   "cell_type": "code",
   "execution_count": 85,
   "outputs": [],
   "source": [
    "import yfinance as yf\n",
    "from datetime import datetime\n",
    "import pandas as pd\n",
    "import numpy as np\n",
    "import matplotlib.pyplot as plt\n",
    "from finta import TA\n",
    "import numpy as np\n",
    "from sklearn.ensemble import RandomForestClassifier, VotingClassifier\n",
    "from sklearn.model_selection import GridSearchCV, train_test_split\n",
    "from sklearn.tree import DecisionTreeClassifier\n",
    "from sklearn.ensemble import GradientBoostingClassifier\n",
    "from sklearn.metrics import confusion_matrix, classification_report, accuracy_score\n",
    "from sklearn.metrics import jaccard_score\n",
    "import seaborn as sn\n",
    "from tabulate import tabulate\n"
   ],
   "metadata": {
    "collapsed": false,
    "pycharm": {
     "name": "#%%\n"
    }
   }
  },
  {
   "cell_type": "code",
   "execution_count": 86,
   "outputs": [],
   "source": [
    "WINDOW = 8 # number of rows to look ahead to see what the price did\n",
    "FETCH_INTERVAL = \"60m\"  # fetch data by interval (including intraday if period < 60 days)\n",
    "        # valid intervals: 1m,2m,5m,15m,30m,60m,90m,1h,1d,5d,1wk,1mo,3mo\n",
    "        # (optional, default is '1d')\n",
    "INTERVAL = '1y'     # use \"period\" instead of start/end\n",
    "        # valid periods: 1d,5d,1mo,3mo,6mo,1y,2y,5y,10y,ytd,max\n",
    "        # (optional, default is '1mo')\n",
    "symbol = 'FB'      # Symbol of the desired stock\n",
    "INDICATORS = ['RSI', 'MACD', 'STOCH','ADL', 'ATR', 'MOM', 'MFI', 'ROC', 'CCI', 'VORTEX']\n",
    "ROWS_TO_PREDICT = 24"
   ],
   "metadata": {
    "collapsed": false,
    "pycharm": {
     "name": "#%%\n"
    }
   }
  },
  {
   "cell_type": "code",
   "execution_count": 87,
   "outputs": [
    {
     "name": "stdout",
     "output_type": "stream",
     "text": [
      "[*********************100%***********************]  1 of 1 completed\n"
     ]
    },
    {
     "data": {
      "text/plain": "                                 Open        High         Low       Close  \\\nDatetime                                                                    \n2020-02-10 04:00:00-05:00  212.250000  212.610000  212.200000  212.200000   \n2020-02-10 06:00:00-05:00  212.080000  212.610000  212.080000  212.300000   \n2020-02-10 07:00:00-05:00  212.030000  212.400000  212.030000  212.310000   \n2020-02-10 08:00:00-05:00  212.280000  212.400000  212.010100  212.101200   \n2020-02-10 09:00:00-05:00  212.200000  212.200000  211.500000  211.540000   \n...                               ...         ...         ...         ...   \n2021-02-09 08:00:00-05:00  265.794700  266.580000  265.610000  265.850000   \n2021-02-09 09:00:00-05:00  265.950000  266.720000  265.310000  266.410000   \n2021-02-09 09:30:00-05:00  266.440002  273.390015  265.750000  272.404999   \n2021-02-09 10:30:00-05:00  272.434509  273.174988  271.584991  271.665009   \n2021-02-09 11:04:12-05:00  271.420013  271.420013  271.420013  271.420013   \n\n                            Adj Close   Volume  \nDatetime                                        \n2020-02-10 04:00:00-05:00  212.200000        0  \n2020-02-10 06:00:00-05:00  212.300000        0  \n2020-02-10 07:00:00-05:00  212.310000        0  \n2020-02-10 08:00:00-05:00  212.101200        0  \n2020-02-10 09:00:00-05:00  211.540000        0  \n...                               ...      ...  \n2021-02-09 08:00:00-05:00  265.850000        0  \n2021-02-09 09:00:00-05:00  266.410000        0  \n2021-02-09 09:30:00-05:00  272.404999  5668204  \n2021-02-09 10:30:00-05:00  271.665009  1285755  \n2021-02-09 11:04:12-05:00  271.420013        0  \n\n[4138 rows x 6 columns]",
      "text/html": "<div>\n<style scoped>\n    .dataframe tbody tr th:only-of-type {\n        vertical-align: middle;\n    }\n\n    .dataframe tbody tr th {\n        vertical-align: top;\n    }\n\n    .dataframe thead th {\n        text-align: right;\n    }\n</style>\n<table border=\"1\" class=\"dataframe\">\n  <thead>\n    <tr style=\"text-align: right;\">\n      <th></th>\n      <th>Open</th>\n      <th>High</th>\n      <th>Low</th>\n      <th>Close</th>\n      <th>Adj Close</th>\n      <th>Volume</th>\n    </tr>\n    <tr>\n      <th>Datetime</th>\n      <th></th>\n      <th></th>\n      <th></th>\n      <th></th>\n      <th></th>\n      <th></th>\n    </tr>\n  </thead>\n  <tbody>\n    <tr>\n      <th>2020-02-10 04:00:00-05:00</th>\n      <td>212.250000</td>\n      <td>212.610000</td>\n      <td>212.200000</td>\n      <td>212.200000</td>\n      <td>212.200000</td>\n      <td>0</td>\n    </tr>\n    <tr>\n      <th>2020-02-10 06:00:00-05:00</th>\n      <td>212.080000</td>\n      <td>212.610000</td>\n      <td>212.080000</td>\n      <td>212.300000</td>\n      <td>212.300000</td>\n      <td>0</td>\n    </tr>\n    <tr>\n      <th>2020-02-10 07:00:00-05:00</th>\n      <td>212.030000</td>\n      <td>212.400000</td>\n      <td>212.030000</td>\n      <td>212.310000</td>\n      <td>212.310000</td>\n      <td>0</td>\n    </tr>\n    <tr>\n      <th>2020-02-10 08:00:00-05:00</th>\n      <td>212.280000</td>\n      <td>212.400000</td>\n      <td>212.010100</td>\n      <td>212.101200</td>\n      <td>212.101200</td>\n      <td>0</td>\n    </tr>\n    <tr>\n      <th>2020-02-10 09:00:00-05:00</th>\n      <td>212.200000</td>\n      <td>212.200000</td>\n      <td>211.500000</td>\n      <td>211.540000</td>\n      <td>211.540000</td>\n      <td>0</td>\n    </tr>\n    <tr>\n      <th>...</th>\n      <td>...</td>\n      <td>...</td>\n      <td>...</td>\n      <td>...</td>\n      <td>...</td>\n      <td>...</td>\n    </tr>\n    <tr>\n      <th>2021-02-09 08:00:00-05:00</th>\n      <td>265.794700</td>\n      <td>266.580000</td>\n      <td>265.610000</td>\n      <td>265.850000</td>\n      <td>265.850000</td>\n      <td>0</td>\n    </tr>\n    <tr>\n      <th>2021-02-09 09:00:00-05:00</th>\n      <td>265.950000</td>\n      <td>266.720000</td>\n      <td>265.310000</td>\n      <td>266.410000</td>\n      <td>266.410000</td>\n      <td>0</td>\n    </tr>\n    <tr>\n      <th>2021-02-09 09:30:00-05:00</th>\n      <td>266.440002</td>\n      <td>273.390015</td>\n      <td>265.750000</td>\n      <td>272.404999</td>\n      <td>272.404999</td>\n      <td>5668204</td>\n    </tr>\n    <tr>\n      <th>2021-02-09 10:30:00-05:00</th>\n      <td>272.434509</td>\n      <td>273.174988</td>\n      <td>271.584991</td>\n      <td>271.665009</td>\n      <td>271.665009</td>\n      <td>1285755</td>\n    </tr>\n    <tr>\n      <th>2021-02-09 11:04:12-05:00</th>\n      <td>271.420013</td>\n      <td>271.420013</td>\n      <td>271.420013</td>\n      <td>271.420013</td>\n      <td>271.420013</td>\n      <td>0</td>\n    </tr>\n  </tbody>\n</table>\n<p>4138 rows × 6 columns</p>\n</div>"
     },
     "execution_count": 87,
     "metadata": {},
     "output_type": "execute_result"
    }
   ],
   "source": [
    "data = yf.download(  # or pdr.get_data_yahoo(...\n",
    "        tickers = symbol,\n",
    "\n",
    "\n",
    "        period = INTERVAL,\n",
    "\n",
    "        interval = FETCH_INTERVAL,\n",
    "\n",
    "        # group by ticker (to access via data['SPY'])\n",
    "        # (optional, default is 'column')\n",
    "        group_by = 'ticker',\n",
    "\n",
    "        # adjust all OHLC automatically\n",
    "        # (optional, default is False)\n",
    "        # auto_adjust = True,\n",
    "\n",
    "        # download pre/post regular market hours data\n",
    "        # (optional, default is False)\n",
    "        prepost = True,\n",
    "\n",
    "        # use threads for mass downloading? (True/False/Integer)\n",
    "        # (optional, default is True)\n",
    "        threads = True,\n",
    "\n",
    "        # proxy URL scheme use use when downloading?\n",
    "        # (optional, default is None)\n",
    "        proxy = None\n",
    "    )\n",
    "data"
   ],
   "metadata": {
    "collapsed": false,
    "pycharm": {
     "name": "#%%\n"
    }
   }
  },
  {
   "cell_type": "code",
   "execution_count": 88,
   "outputs": [
    {
     "data": {
      "text/plain": "                                 open        high         low       close  \\\nDatetime                                                                    \n2020-02-10 04:00:00-05:00  212.250000  212.610000  212.200000  212.200000   \n2020-02-10 06:00:00-05:00  212.080000  212.610000  212.080000  212.300000   \n2020-02-10 07:00:00-05:00  212.030000  212.400000  212.030000  212.310000   \n2020-02-10 08:00:00-05:00  212.280000  212.400000  212.010100  212.101200   \n2020-02-10 09:00:00-05:00  212.200000  212.200000  211.500000  211.540000   \n2020-02-10 09:30:00-05:00  211.520004  213.800003  210.914505  213.279999   \n2020-02-10 10:30:00-05:00  213.279999  213.779999  212.199997  212.500000   \n2020-02-10 11:30:00-05:00  212.490204  212.628998  211.800003  212.050003   \n2020-02-10 12:30:00-05:00  212.041107  212.619995  211.850006  212.360001   \n2020-02-10 13:30:00-05:00  212.380005  212.580002  211.949997  212.500000   \n\n                            Adj Close   volume  \nDatetime                                        \n2020-02-10 04:00:00-05:00  212.200000        0  \n2020-02-10 06:00:00-05:00  212.300000        0  \n2020-02-10 07:00:00-05:00  212.310000        0  \n2020-02-10 08:00:00-05:00  212.101200        0  \n2020-02-10 09:00:00-05:00  211.540000        0  \n2020-02-10 09:30:00-05:00  213.279999  2938100  \n2020-02-10 10:30:00-05:00  212.500000  1377017  \n2020-02-10 11:30:00-05:00  212.050003  1034574  \n2020-02-10 12:30:00-05:00  212.360001   664739  \n2020-02-10 13:30:00-05:00  212.500000   653191  ",
      "text/html": "<div>\n<style scoped>\n    .dataframe tbody tr th:only-of-type {\n        vertical-align: middle;\n    }\n\n    .dataframe tbody tr th {\n        vertical-align: top;\n    }\n\n    .dataframe thead th {\n        text-align: right;\n    }\n</style>\n<table border=\"1\" class=\"dataframe\">\n  <thead>\n    <tr style=\"text-align: right;\">\n      <th></th>\n      <th>open</th>\n      <th>high</th>\n      <th>low</th>\n      <th>close</th>\n      <th>Adj Close</th>\n      <th>volume</th>\n    </tr>\n    <tr>\n      <th>Datetime</th>\n      <th></th>\n      <th></th>\n      <th></th>\n      <th></th>\n      <th></th>\n      <th></th>\n    </tr>\n  </thead>\n  <tbody>\n    <tr>\n      <th>2020-02-10 04:00:00-05:00</th>\n      <td>212.250000</td>\n      <td>212.610000</td>\n      <td>212.200000</td>\n      <td>212.200000</td>\n      <td>212.200000</td>\n      <td>0</td>\n    </tr>\n    <tr>\n      <th>2020-02-10 06:00:00-05:00</th>\n      <td>212.080000</td>\n      <td>212.610000</td>\n      <td>212.080000</td>\n      <td>212.300000</td>\n      <td>212.300000</td>\n      <td>0</td>\n    </tr>\n    <tr>\n      <th>2020-02-10 07:00:00-05:00</th>\n      <td>212.030000</td>\n      <td>212.400000</td>\n      <td>212.030000</td>\n      <td>212.310000</td>\n      <td>212.310000</td>\n      <td>0</td>\n    </tr>\n    <tr>\n      <th>2020-02-10 08:00:00-05:00</th>\n      <td>212.280000</td>\n      <td>212.400000</td>\n      <td>212.010100</td>\n      <td>212.101200</td>\n      <td>212.101200</td>\n      <td>0</td>\n    </tr>\n    <tr>\n      <th>2020-02-10 09:00:00-05:00</th>\n      <td>212.200000</td>\n      <td>212.200000</td>\n      <td>211.500000</td>\n      <td>211.540000</td>\n      <td>211.540000</td>\n      <td>0</td>\n    </tr>\n    <tr>\n      <th>2020-02-10 09:30:00-05:00</th>\n      <td>211.520004</td>\n      <td>213.800003</td>\n      <td>210.914505</td>\n      <td>213.279999</td>\n      <td>213.279999</td>\n      <td>2938100</td>\n    </tr>\n    <tr>\n      <th>2020-02-10 10:30:00-05:00</th>\n      <td>213.279999</td>\n      <td>213.779999</td>\n      <td>212.199997</td>\n      <td>212.500000</td>\n      <td>212.500000</td>\n      <td>1377017</td>\n    </tr>\n    <tr>\n      <th>2020-02-10 11:30:00-05:00</th>\n      <td>212.490204</td>\n      <td>212.628998</td>\n      <td>211.800003</td>\n      <td>212.050003</td>\n      <td>212.050003</td>\n      <td>1034574</td>\n    </tr>\n    <tr>\n      <th>2020-02-10 12:30:00-05:00</th>\n      <td>212.041107</td>\n      <td>212.619995</td>\n      <td>211.850006</td>\n      <td>212.360001</td>\n      <td>212.360001</td>\n      <td>664739</td>\n    </tr>\n    <tr>\n      <th>2020-02-10 13:30:00-05:00</th>\n      <td>212.380005</td>\n      <td>212.580002</td>\n      <td>211.949997</td>\n      <td>212.500000</td>\n      <td>212.500000</td>\n      <td>653191</td>\n    </tr>\n  </tbody>\n</table>\n</div>"
     },
     "execution_count": 88,
     "metadata": {},
     "output_type": "execute_result"
    }
   ],
   "source": [
    "data.rename(columns={\"Close\": 'close', \"High\": 'high', \"Low\": 'low', 'Volume': 'volume', 'Open': 'open'}, inplace=True)\n",
    "data.head(10)"
   ],
   "metadata": {
    "collapsed": false,
    "pycharm": {
     "name": "#%%\n"
    }
   }
  },
  {
   "cell_type": "code",
   "execution_count": 89,
   "outputs": [
    {
     "data": {
      "text/plain": "<AxesSubplot:xlabel='Datetime'>"
     },
     "execution_count": 89,
     "metadata": {},
     "output_type": "execute_result"
    },
    {
     "data": {
      "text/plain": "<Figure size 432x288 with 1 Axes>",
      "image/png": "[encoded data removed]"
     },
     "metadata": {
      "needs_background": "light"
     },
     "output_type": "display_data"
    }
   ],
   "source": [
    "data['close'].plot()"
   ],
   "metadata": {
    "collapsed": false,
    "pycharm": {
     "name": "#%%\n"
    }
   }
  },
  {
   "cell_type": "code",
   "execution_count": 90,
   "outputs": [
    {
     "data": {
      "text/plain": "                                 open        high         low       close  \\\nDatetime                                                                    \n2020-02-10 04:00:00-05:00  212.250000  212.610000  212.200000  212.200000   \n2020-02-10 06:00:00-05:00  212.080000  212.610000  212.080000  212.300000   \n2020-02-10 07:00:00-05:00  212.030000  212.400000  212.030000  212.310000   \n2020-02-10 08:00:00-05:00  212.280000  212.400000  212.010100  212.101200   \n2020-02-10 09:00:00-05:00  212.200000  212.200000  211.500000  211.540000   \n...                               ...         ...         ...         ...   \n2021-02-09 08:00:00-05:00  265.794700  266.580000  265.610000  265.850000   \n2021-02-09 09:00:00-05:00  265.950000  266.720000  265.310000  266.410000   \n2021-02-09 09:30:00-05:00  266.440002  273.390015  265.750000  272.404999   \n2021-02-09 10:30:00-05:00  272.434509  273.174988  271.584991  271.665009   \n2021-02-09 11:04:12-05:00  271.420013  271.420013  271.420013  271.420013   \n\n                            Adj Close   volume  \nDatetime                                        \n2020-02-10 04:00:00-05:00  212.200000        0  \n2020-02-10 06:00:00-05:00  212.300000        0  \n2020-02-10 07:00:00-05:00  212.310000        0  \n2020-02-10 08:00:00-05:00  212.101200        0  \n2020-02-10 09:00:00-05:00  211.540000        0  \n...                               ...      ...  \n2021-02-09 08:00:00-05:00  265.850000        0  \n2021-02-09 09:00:00-05:00  266.410000        0  \n2021-02-09 09:30:00-05:00  272.404999  5668204  \n2021-02-09 10:30:00-05:00  271.665009  1285755  \n2021-02-09 11:04:12-05:00  271.420013        0  \n\n[4138 rows x 6 columns]",
      "text/html": "<div>\n<style scoped>\n    .dataframe tbody tr th:only-of-type {\n        vertical-align: middle;\n    }\n\n    .dataframe tbody tr th {\n        vertical-align: top;\n    }\n\n    .dataframe thead th {\n        text-align: right;\n    }\n</style>\n<table border=\"1\" class=\"dataframe\">\n  <thead>\n    <tr style=\"text-align: right;\">\n      <th></th>\n      <th>open</th>\n      <th>high</th>\n      <th>low</th>\n      <th>close</th>\n      <th>Adj Close</th>\n      <th>volume</th>\n    </tr>\n    <tr>\n      <th>Datetime</th>\n      <th></th>\n      <th></th>\n      <th></th>\n      <th></th>\n      <th></th>\n      <th></th>\n    </tr>\n  </thead>\n  <tbody>\n    <tr>\n      <th>2020-02-10 04:00:00-05:00</th>\n      <td>212.250000</td>\n      <td>212.610000</td>\n      <td>212.200000</td>\n      <td>212.200000</td>\n      <td>212.200000</td>\n      <td>0</td>\n    </tr>\n    <tr>\n      <th>2020-02-10 06:00:00-05:00</th>\n      <td>212.080000</td>\n      <td>212.610000</td>\n      <td>212.080000</td>\n      <td>212.300000</td>\n      <td>212.300000</td>\n      <td>0</td>\n    </tr>\n    <tr>\n      <th>2020-02-10 07:00:00-05:00</th>\n      <td>212.030000</td>\n      <td>212.400000</td>\n      <td>212.030000</td>\n      <td>212.310000</td>\n      <td>212.310000</td>\n      <td>0</td>\n    </tr>\n    <tr>\n      <th>2020-02-10 08:00:00-05:00</th>\n      <td>212.280000</td>\n      <td>212.400000</td>\n      <td>212.010100</td>\n      <td>212.101200</td>\n      <td>212.101200</td>\n      <td>0</td>\n    </tr>\n    <tr>\n      <th>2020-02-10 09:00:00-05:00</th>\n      <td>212.200000</td>\n      <td>212.200000</td>\n      <td>211.500000</td>\n      <td>211.540000</td>\n      <td>211.540000</td>\n      <td>0</td>\n    </tr>\n    <tr>\n      <th>...</th>\n      <td>...</td>\n      <td>...</td>\n      <td>...</td>\n      <td>...</td>\n      <td>...</td>\n      <td>...</td>\n    </tr>\n    <tr>\n      <th>2021-02-09 08:00:00-05:00</th>\n      <td>265.794700</td>\n      <td>266.580000</td>\n      <td>265.610000</td>\n      <td>265.850000</td>\n      <td>265.850000</td>\n      <td>0</td>\n    </tr>\n    <tr>\n      <th>2021-02-09 09:00:00-05:00</th>\n      <td>265.950000</td>\n      <td>266.720000</td>\n      <td>265.310000</td>\n      <td>266.410000</td>\n      <td>266.410000</td>\n      <td>0</td>\n    </tr>\n    <tr>\n      <th>2021-02-09 09:30:00-05:00</th>\n      <td>266.440002</td>\n      <td>273.390015</td>\n      <td>265.750000</td>\n      <td>272.404999</td>\n      <td>272.404999</td>\n      <td>5668204</td>\n    </tr>\n    <tr>\n      <th>2021-02-09 10:30:00-05:00</th>\n      <td>272.434509</td>\n      <td>273.174988</td>\n      <td>271.584991</td>\n      <td>271.665009</td>\n      <td>271.665009</td>\n      <td>1285755</td>\n    </tr>\n    <tr>\n      <th>2021-02-09 11:04:12-05:00</th>\n      <td>271.420013</td>\n      <td>271.420013</td>\n      <td>271.420013</td>\n      <td>271.420013</td>\n      <td>271.420013</td>\n      <td>0</td>\n    </tr>\n  </tbody>\n</table>\n<p>4138 rows × 6 columns</p>\n</div>"
     },
     "execution_count": 90,
     "metadata": {},
     "output_type": "execute_result"
    }
   ],
   "source": [
    "data"
   ],
   "metadata": {
    "collapsed": false,
    "pycharm": {
     "name": "#%%\n"
    }
   }
  },
  {
   "cell_type": "code",
   "execution_count": 91,
   "outputs": [
    {
     "data": {
      "text/plain": "Index(['open', 'high', 'low', 'close', 'Adj Close', 'volume'], dtype='object')"
     },
     "execution_count": 91,
     "metadata": {},
     "output_type": "execute_result"
    }
   ],
   "source": [
    "data.columns"
   ],
   "metadata": {
    "collapsed": false,
    "pycharm": {
     "name": "#%%\n"
    }
   }
  },
  {
   "cell_type": "code",
   "execution_count": 92,
   "outputs": [],
   "source": [
    "def create_class_column(row):\n",
    "    if row['close_shift']-row['close'] > 0.35:\n",
    "        return 1\n",
    "    if row['close_shift'] -row['close']< -0.35:\n",
    "        return -1\n",
    "    else:\n",
    "        return 0"
   ],
   "metadata": {
    "collapsed": false,
    "pycharm": {
     "name": "#%%\n"
    }
   }
  },
  {
   "cell_type": "code",
   "execution_count": 93,
   "outputs": [
    {
     "data": {
      "text/plain": "                                 open        high         low       close  \\\nDatetime                                                                    \n2020-02-10 04:00:00-05:00  212.250000  212.610000  212.200000  212.200000   \n2020-02-10 06:00:00-05:00  212.080000  212.610000  212.080000  212.300000   \n2020-02-10 07:00:00-05:00  212.030000  212.400000  212.030000  212.310000   \n2020-02-10 08:00:00-05:00  212.280000  212.400000  212.010100  212.101200   \n2020-02-10 09:00:00-05:00  212.200000  212.200000  211.500000  211.540000   \n...                               ...         ...         ...         ...   \n2021-02-09 08:00:00-05:00  265.794700  266.580000  265.610000  265.850000   \n2021-02-09 09:00:00-05:00  265.950000  266.720000  265.310000  266.410000   \n2021-02-09 09:30:00-05:00  266.440002  273.390015  265.750000  272.404999   \n2021-02-09 10:30:00-05:00  272.434509  273.174988  271.584991  271.665009   \n2021-02-09 11:04:12-05:00  271.420013  271.420013  271.420013  271.420013   \n\n                            Adj Close   volume  close_shift  \nDatetime                                                     \n2020-02-10 04:00:00-05:00  212.200000        0   212.360001  \n2020-02-10 06:00:00-05:00  212.300000        0   212.500000  \n2020-02-10 07:00:00-05:00  212.310000        0   212.619995  \n2020-02-10 08:00:00-05:00  212.101200        0   213.100006  \n2020-02-10 09:00:00-05:00  211.540000        0   213.060000  \n...                               ...      ...          ...  \n2021-02-09 08:00:00-05:00  265.850000        0          NaN  \n2021-02-09 09:00:00-05:00  266.410000        0          NaN  \n2021-02-09 09:30:00-05:00  272.404999  5668204          NaN  \n2021-02-09 10:30:00-05:00  271.665009  1285755          NaN  \n2021-02-09 11:04:12-05:00  271.420013        0          NaN  \n\n[4138 rows x 7 columns]",
      "text/html": "<div>\n<style scoped>\n    .dataframe tbody tr th:only-of-type {\n        vertical-align: middle;\n    }\n\n    .dataframe tbody tr th {\n        vertical-align: top;\n    }\n\n    .dataframe thead th {\n        text-align: right;\n    }\n</style>\n<table border=\"1\" class=\"dataframe\">\n  <thead>\n    <tr style=\"text-align: right;\">\n      <th></th>\n      <th>open</th>\n      <th>high</th>\n      <th>low</th>\n      <th>close</th>\n      <th>Adj Close</th>\n      <th>volume</th>\n      <th>close_shift</th>\n    </tr>\n    <tr>\n      <th>Datetime</th>\n      <th></th>\n      <th></th>\n      <th></th>\n      <th></th>\n      <th></th>\n      <th></th>\n      <th></th>\n    </tr>\n  </thead>\n  <tbody>\n    <tr>\n      <th>2020-02-10 04:00:00-05:00</th>\n      <td>212.250000</td>\n      <td>212.610000</td>\n      <td>212.200000</td>\n      <td>212.200000</td>\n      <td>212.200000</td>\n      <td>0</td>\n      <td>212.360001</td>\n    </tr>\n    <tr>\n      <th>2020-02-10 06:00:00-05:00</th>\n      <td>212.080000</td>\n      <td>212.610000</td>\n      <td>212.080000</td>\n      <td>212.300000</td>\n      <td>212.300000</td>\n      <td>0</td>\n      <td>212.500000</td>\n    </tr>\n    <tr>\n      <th>2020-02-10 07:00:00-05:00</th>\n      <td>212.030000</td>\n      <td>212.400000</td>\n      <td>212.030000</td>\n      <td>212.310000</td>\n      <td>212.310000</td>\n      <td>0</td>\n      <td>212.619995</td>\n    </tr>\n    <tr>\n      <th>2020-02-10 08:00:00-05:00</th>\n      <td>212.280000</td>\n      <td>212.400000</td>\n      <td>212.010100</td>\n      <td>212.101200</td>\n      <td>212.101200</td>\n      <td>0</td>\n      <td>213.100006</td>\n    </tr>\n    <tr>\n      <th>2020-02-10 09:00:00-05:00</th>\n      <td>212.200000</td>\n      <td>212.200000</td>\n      <td>211.500000</td>\n      <td>211.540000</td>\n      <td>211.540000</td>\n      <td>0</td>\n      <td>213.060000</td>\n    </tr>\n    <tr>\n      <th>...</th>\n      <td>...</td>\n      <td>...</td>\n      <td>...</td>\n      <td>...</td>\n      <td>...</td>\n      <td>...</td>\n      <td>...</td>\n    </tr>\n    <tr>\n      <th>2021-02-09 08:00:00-05:00</th>\n      <td>265.794700</td>\n      <td>266.580000</td>\n      <td>265.610000</td>\n      <td>265.850000</td>\n      <td>265.850000</td>\n      <td>0</td>\n      <td>NaN</td>\n    </tr>\n    <tr>\n      <th>2021-02-09 09:00:00-05:00</th>\n      <td>265.950000</td>\n      <td>266.720000</td>\n      <td>265.310000</td>\n      <td>266.410000</td>\n      <td>266.410000</td>\n      <td>0</td>\n      <td>NaN</td>\n    </tr>\n    <tr>\n      <th>2021-02-09 09:30:00-05:00</th>\n      <td>266.440002</td>\n      <td>273.390015</td>\n      <td>265.750000</td>\n      <td>272.404999</td>\n      <td>272.404999</td>\n      <td>5668204</td>\n      <td>NaN</td>\n    </tr>\n    <tr>\n      <th>2021-02-09 10:30:00-05:00</th>\n      <td>272.434509</td>\n      <td>273.174988</td>\n      <td>271.584991</td>\n      <td>271.665009</td>\n      <td>271.665009</td>\n      <td>1285755</td>\n      <td>NaN</td>\n    </tr>\n    <tr>\n      <th>2021-02-09 11:04:12-05:00</th>\n      <td>271.420013</td>\n      <td>271.420013</td>\n      <td>271.420013</td>\n      <td>271.420013</td>\n      <td>271.420013</td>\n      <td>0</td>\n      <td>NaN</td>\n    </tr>\n  </tbody>\n</table>\n<p>4138 rows × 7 columns</p>\n</div>"
     },
     "execution_count": 93,
     "metadata": {},
     "output_type": "execute_result"
    }
   ],
   "source": [
    "data['close_shift'] = data.shift(-WINDOW)['close']\n",
    "data"
   ],
   "metadata": {
    "collapsed": false,
    "pycharm": {
     "name": "#%%\n"
    }
   }
  },
  {
   "cell_type": "code",
   "execution_count": 94,
   "outputs": [
    {
     "data": {
      "text/plain": "                                 open        high         low       close  \\\nDatetime                                                                    \n2020-02-10 04:00:00-05:00  212.250000  212.610000  212.200000  212.200000   \n2020-02-10 06:00:00-05:00  212.080000  212.610000  212.080000  212.300000   \n2020-02-10 07:00:00-05:00  212.030000  212.400000  212.030000  212.310000   \n2020-02-10 08:00:00-05:00  212.280000  212.400000  212.010100  212.101200   \n2020-02-10 09:00:00-05:00  212.200000  212.200000  211.500000  211.540000   \n...                               ...         ...         ...         ...   \n2021-02-09 08:00:00-05:00  265.794700  266.580000  265.610000  265.850000   \n2021-02-09 09:00:00-05:00  265.950000  266.720000  265.310000  266.410000   \n2021-02-09 09:30:00-05:00  266.440002  273.390015  265.750000  272.404999   \n2021-02-09 10:30:00-05:00  272.434509  273.174988  271.584991  271.665009   \n2021-02-09 11:04:12-05:00  271.420013  271.420013  271.420013  271.420013   \n\n                            Adj Close   volume  close_shift  class_column  \nDatetime                                                                   \n2020-02-10 04:00:00-05:00  212.200000        0   212.360001             0  \n2020-02-10 06:00:00-05:00  212.300000        0   212.500000             0  \n2020-02-10 07:00:00-05:00  212.310000        0   212.619995             0  \n2020-02-10 08:00:00-05:00  212.101200        0   213.100006             1  \n2020-02-10 09:00:00-05:00  211.540000        0   213.060000             1  \n...                               ...      ...          ...           ...  \n2021-02-09 08:00:00-05:00  265.850000        0          NaN             0  \n2021-02-09 09:00:00-05:00  266.410000        0          NaN             0  \n2021-02-09 09:30:00-05:00  272.404999  5668204          NaN             0  \n2021-02-09 10:30:00-05:00  271.665009  1285755          NaN             0  \n2021-02-09 11:04:12-05:00  271.420013        0          NaN             0  \n\n[4138 rows x 8 columns]",
      "text/html": "<div>\n<style scoped>\n    .dataframe tbody tr th:only-of-type {\n        vertical-align: middle;\n    }\n\n    .dataframe tbody tr th {\n        vertical-align: top;\n    }\n\n    .dataframe thead th {\n        text-align: right;\n    }\n</style>\n<table border=\"1\" class=\"dataframe\">\n  <thead>\n    <tr style=\"text-align: right;\">\n      <th></th>\n      <th>open</th>\n      <th>high</th>\n      <th>low</th>\n      <th>close</th>\n      <th>Adj Close</th>\n      <th>volume</th>\n      <th>close_shift</th>\n      <th>class_column</th>\n    </tr>\n    <tr>\n      <th>Datetime</th>\n      <th></th>\n      <th></th>\n      <th></th>\n      <th></th>\n      <th></th>\n      <th></th>\n      <th></th>\n      <th></th>\n    </tr>\n  </thead>\n  <tbody>\n    <tr>\n      <th>2020-02-10 04:00:00-05:00</th>\n      <td>212.250000</td>\n      <td>212.610000</td>\n      <td>212.200000</td>\n      <td>212.200000</td>\n      <td>212.200000</td>\n      <td>0</td>\n      <td>212.360001</td>\n      <td>0</td>\n    </tr>\n    <tr>\n      <th>2020-02-10 06:00:00-05:00</th>\n      <td>212.080000</td>\n      <td>212.610000</td>\n      <td>212.080000</td>\n      <td>212.300000</td>\n      <td>212.300000</td>\n      <td>0</td>\n      <td>212.500000</td>\n      <td>0</td>\n    </tr>\n    <tr>\n      <th>2020-02-10 07:00:00-05:00</th>\n      <td>212.030000</td>\n      <td>212.400000</td>\n      <td>212.030000</td>\n      <td>212.310000</td>\n      <td>212.310000</td>\n      <td>0</td>\n      <td>212.619995</td>\n      <td>0</td>\n    </tr>\n    <tr>\n      <th>2020-02-10 08:00:00-05:00</th>\n      <td>212.280000</td>\n      <td>212.400000</td>\n      <td>212.010100</td>\n      <td>212.101200</td>\n      <td>212.101200</td>\n      <td>0</td>\n      <td>213.100006</td>\n      <td>1</td>\n    </tr>\n    <tr>\n      <th>2020-02-10 09:00:00-05:00</th>\n      <td>212.200000</td>\n      <td>212.200000</td>\n      <td>211.500000</td>\n      <td>211.540000</td>\n      <td>211.540000</td>\n      <td>0</td>\n      <td>213.060000</td>\n      <td>1</td>\n    </tr>\n    <tr>\n      <th>...</th>\n      <td>...</td>\n      <td>...</td>\n      <td>...</td>\n      <td>...</td>\n      <td>...</td>\n      <td>...</td>\n      <td>...</td>\n      <td>...</td>\n    </tr>\n    <tr>\n      <th>2021-02-09 08:00:00-05:00</th>\n      <td>265.794700</td>\n      <td>266.580000</td>\n      <td>265.610000</td>\n      <td>265.850000</td>\n      <td>265.850000</td>\n      <td>0</td>\n      <td>NaN</td>\n      <td>0</td>\n    </tr>\n    <tr>\n      <th>2021-02-09 09:00:00-05:00</th>\n      <td>265.950000</td>\n      <td>266.720000</td>\n      <td>265.310000</td>\n      <td>266.410000</td>\n      <td>266.410000</td>\n      <td>0</td>\n      <td>NaN</td>\n      <td>0</td>\n    </tr>\n    <tr>\n      <th>2021-02-09 09:30:00-05:00</th>\n      <td>266.440002</td>\n      <td>273.390015</td>\n      <td>265.750000</td>\n      <td>272.404999</td>\n      <td>272.404999</td>\n      <td>5668204</td>\n      <td>NaN</td>\n      <td>0</td>\n    </tr>\n    <tr>\n      <th>2021-02-09 10:30:00-05:00</th>\n      <td>272.434509</td>\n      <td>273.174988</td>\n      <td>271.584991</td>\n      <td>271.665009</td>\n      <td>271.665009</td>\n      <td>1285755</td>\n      <td>NaN</td>\n      <td>0</td>\n    </tr>\n    <tr>\n      <th>2021-02-09 11:04:12-05:00</th>\n      <td>271.420013</td>\n      <td>271.420013</td>\n      <td>271.420013</td>\n      <td>271.420013</td>\n      <td>271.420013</td>\n      <td>0</td>\n      <td>NaN</td>\n      <td>0</td>\n    </tr>\n  </tbody>\n</table>\n<p>4138 rows × 8 columns</p>\n</div>"
     },
     "execution_count": 94,
     "metadata": {},
     "output_type": "execute_result"
    }
   ],
   "source": [
    "data['class_column'] = data.apply(create_class_column, axis=1)\n",
    "data"
   ],
   "metadata": {
    "collapsed": false,
    "pycharm": {
     "name": "#%%\n"
    }
   }
  },
  {
   "cell_type": "code",
   "execution_count": 95,
   "outputs": [
    {
     "data": {
      "text/plain": " 1    1957\n-1    1817\n 0     364\nName: class_column, dtype: int64"
     },
     "execution_count": 95,
     "metadata": {},
     "output_type": "execute_result"
    }
   ],
   "source": [
    "# Class divide\n",
    "data['class_column'].value_counts()"
   ],
   "metadata": {
    "collapsed": false,
    "pycharm": {
     "name": "#%%\n"
    }
   }
  },
  {
   "cell_type": "code",
   "execution_count": 96,
   "outputs": [],
   "source": [
    "del (data['close'])\n",
    "del (data['close_shift'])\n",
    "data = data.dropna()\n",
    "train_set = data.iloc[:-ROWS_TO_PREDICT]\n",
    "test_set =data.iloc[-ROWS_TO_PREDICT:]"
   ],
   "metadata": {
    "collapsed": false,
    "pycharm": {
     "name": "#%%\n"
    }
   }
  },
  {
   "cell_type": "code",
   "execution_count": 97,
   "outputs": [
    {
     "data": {
      "text/plain": " 1    1957\n-1    1817\n 0     364\nName: class_column, dtype: int64"
     },
     "execution_count": 97,
     "metadata": {},
     "output_type": "execute_result"
    }
   ],
   "source": [
    "data['class_column'].value_counts()"
   ],
   "metadata": {
    "collapsed": false,
    "pycharm": {
     "name": "#%%\n"
    }
   }
  },
  {
   "cell_type": "code",
   "execution_count": 98,
   "outputs": [
    {
     "data": {
      "text/plain": "                                 open        high         low   Adj Close  \\\nDatetime                                                                    \n2020-02-10 04:00:00-05:00  212.250000  212.610000  212.200000  212.200000   \n2020-02-10 06:00:00-05:00  212.080000  212.610000  212.080000  212.300000   \n2020-02-10 07:00:00-05:00  212.030000  212.400000  212.030000  212.310000   \n2020-02-10 08:00:00-05:00  212.280000  212.400000  212.010100  212.101200   \n2020-02-10 09:00:00-05:00  212.200000  212.200000  211.500000  211.540000   \n...                               ...         ...         ...         ...   \n2021-02-05 15:30:00-05:00  268.179993  268.295807  267.649994  268.130005   \n2021-02-05 16:00:00-05:00  268.143300  268.450000  267.810000  267.950000   \n2021-02-05 17:00:00-05:00  267.840000  268.100000  266.100000  267.000000   \n2021-02-05 18:00:00-05:00  266.800000  267.450000  266.540000  267.360000   \n2021-02-08 04:00:00-05:00  268.000000  268.800000  268.000000  268.110000   \n\n                            volume  class_column  \nDatetime                                          \n2020-02-10 04:00:00-05:00        0             0  \n2020-02-10 06:00:00-05:00        0             0  \n2020-02-10 07:00:00-05:00        0             0  \n2020-02-10 08:00:00-05:00        0             1  \n2020-02-10 09:00:00-05:00        0             1  \n...                            ...           ...  \n2021-02-05 15:30:00-05:00  1144618             0  \n2021-02-05 16:00:00-05:00        0             1  \n2021-02-05 17:00:00-05:00        0             1  \n2021-02-05 18:00:00-05:00        0            -1  \n2021-02-08 04:00:00-05:00        0            -1  \n\n[4114 rows x 6 columns]",
      "text/html": "<div>\n<style scoped>\n    .dataframe tbody tr th:only-of-type {\n        vertical-align: middle;\n    }\n\n    .dataframe tbody tr th {\n        vertical-align: top;\n    }\n\n    .dataframe thead th {\n        text-align: right;\n    }\n</style>\n<table border=\"1\" class=\"dataframe\">\n  <thead>\n    <tr style=\"text-align: right;\">\n      <th></th>\n      <th>open</th>\n      <th>high</th>\n      <th>low</th>\n      <th>Adj Close</th>\n      <th>volume</th>\n      <th>class_column</th>\n    </tr>\n    <tr>\n      <th>Datetime</th>\n      <th></th>\n      <th></th>\n      <th></th>\n      <th></th>\n      <th></th>\n      <th></th>\n    </tr>\n  </thead>\n  <tbody>\n    <tr>\n      <th>2020-02-10 04:00:00-05:00</th>\n      <td>212.250000</td>\n      <td>212.610000</td>\n      <td>212.200000</td>\n      <td>212.200000</td>\n      <td>0</td>\n      <td>0</td>\n    </tr>\n    <tr>\n      <th>2020-02-10 06:00:00-05:00</th>\n      <td>212.080000</td>\n      <td>212.610000</td>\n      <td>212.080000</td>\n      <td>212.300000</td>\n      <td>0</td>\n      <td>0</td>\n    </tr>\n    <tr>\n      <th>2020-02-10 07:00:00-05:00</th>\n      <td>212.030000</td>\n      <td>212.400000</td>\n      <td>212.030000</td>\n      <td>212.310000</td>\n      <td>0</td>\n      <td>0</td>\n    </tr>\n    <tr>\n      <th>2020-02-10 08:00:00-05:00</th>\n      <td>212.280000</td>\n      <td>212.400000</td>\n      <td>212.010100</td>\n      <td>212.101200</td>\n      <td>0</td>\n      <td>1</td>\n    </tr>\n    <tr>\n      <th>2020-02-10 09:00:00-05:00</th>\n      <td>212.200000</td>\n      <td>212.200000</td>\n      <td>211.500000</td>\n      <td>211.540000</td>\n      <td>0</td>\n      <td>1</td>\n    </tr>\n    <tr>\n      <th>...</th>\n      <td>...</td>\n      <td>...</td>\n      <td>...</td>\n      <td>...</td>\n      <td>...</td>\n      <td>...</td>\n    </tr>\n    <tr>\n      <th>2021-02-05 15:30:00-05:00</th>\n      <td>268.179993</td>\n      <td>268.295807</td>\n      <td>267.649994</td>\n      <td>268.130005</td>\n      <td>1144618</td>\n      <td>0</td>\n    </tr>\n    <tr>\n      <th>2021-02-05 16:00:00-05:00</th>\n      <td>268.143300</td>\n      <td>268.450000</td>\n      <td>267.810000</td>\n      <td>267.950000</td>\n      <td>0</td>\n      <td>1</td>\n    </tr>\n    <tr>\n      <th>2021-02-05 17:00:00-05:00</th>\n      <td>267.840000</td>\n      <td>268.100000</td>\n      <td>266.100000</td>\n      <td>267.000000</td>\n      <td>0</td>\n      <td>1</td>\n    </tr>\n    <tr>\n      <th>2021-02-05 18:00:00-05:00</th>\n      <td>266.800000</td>\n      <td>267.450000</td>\n      <td>266.540000</td>\n      <td>267.360000</td>\n      <td>0</td>\n      <td>-1</td>\n    </tr>\n    <tr>\n      <th>2021-02-08 04:00:00-05:00</th>\n      <td>268.000000</td>\n      <td>268.800000</td>\n      <td>268.000000</td>\n      <td>268.110000</td>\n      <td>0</td>\n      <td>-1</td>\n    </tr>\n  </tbody>\n</table>\n<p>4114 rows × 6 columns</p>\n</div>"
     },
     "execution_count": 98,
     "metadata": {},
     "output_type": "execute_result"
    }
   ],
   "source": [
    "train_set"
   ],
   "metadata": {
    "collapsed": false,
    "pycharm": {
     "name": "#%%\n"
    }
   }
  },
  {
   "cell_type": "code",
   "execution_count": 99,
   "outputs": [],
   "source": [
    "y = data['class_column']\n",
    "features = [x for x in data.columns if x not in ['class_column']]\n",
    "x = data[features]\n",
    "\n",
    "x_train= x.iloc[:-ROWS_TO_PREDICT]\n",
    "y_train= y.iloc[:-ROWS_TO_PREDICT]\n",
    "x_test =x.iloc[-ROWS_TO_PREDICT:]\n",
    "y_test=y.iloc[-ROWS_TO_PREDICT:]"
   ],
   "metadata": {
    "collapsed": false,
    "pycharm": {
     "name": "#%%\n"
    }
   }
  },
  {
   "cell_type": "code",
   "execution_count": 100,
   "outputs": [],
   "source": [
    "classifiers = dict()\n",
    "\n",
    "classifiers['DecisionTreeClassifier 1'] = DecisionTreeClassifier(max_depth=10, random_state=0,criterion='gini',splitter='best')\n",
    "classifiers['DecisionTreeClassifier 2'] = DecisionTreeClassifier(max_depth=10, random_state=0,criterion='gini',splitter='random')\n",
    "classifiers['DecisionTreeClassifier 3'] = DecisionTreeClassifier(max_depth=10, random_state=0,criterion='entropy',splitter='best')\n",
    "classifiers['DecisionTreeClassifier 4'] = DecisionTreeClassifier(max_depth=10, random_state=0,criterion='entropy',splitter='random')\n",
    "classifiers['DecisionTreeClassifier 5'] = DecisionTreeClassifier(random_state=0,criterion='gini',splitter='best')\n",
    "classifiers['DecisionTreeClassifier 6'] = DecisionTreeClassifier(random_state=0,criterion='gini',splitter='random')\n",
    "classifiers['DecisionTreeClassifier 7'] = DecisionTreeClassifier(random_state=0,criterion='entropy',splitter='best')\n",
    "classifiers['DecisionTreeClassifier 8'] = DecisionTreeClassifier(random_state=0,criterion='entropy',splitter='random')\n",
    "\n",
    "classifiers['RandomForestClassifier 1'] = RandomForestClassifier(n_estimators=100, max_depth=2, random_state=0,criterion='gini')\n",
    "classifiers['RandomForestClassifier 2'] = RandomForestClassifier(n_estimators=1000, max_depth=2, random_state=0,criterion='gini')\n",
    "classifiers['RandomForestClassifier 3'] = RandomForestClassifier(n_estimators=100, max_depth=3, random_state=0,criterion='gini')\n",
    "classifiers['RandomForestClassifier 4'] = RandomForestClassifier(n_estimators=1000, max_depth=3, random_state=0,criterion='gini')\n",
    "classifiers['RandomForestClassifier 5'] = RandomForestClassifier(n_estimators=100, max_depth=2, random_state=0,criterion='entropy')\n",
    "classifiers['RandomForestClassifier 6'] = RandomForestClassifier(n_estimators=1000, max_depth=2, random_state=0,criterion='entropy')\n",
    "classifiers['RandomForestClassifier 7'] = RandomForestClassifier(n_estimators=100, max_depth=3, random_state=0,criterion='entropy')\n",
    "classifiers['RandomForestClassifier 8'] = RandomForestClassifier(n_estimators=1000, max_depth=3, random_state=0,criterion='entropy')\n",
    "\n",
    "classifiers['GradientBoostingClassifier 1'] = GradientBoostingClassifier(n_estimators=100,random_state=0,criterion='friedman_mse',max_depth=3, learning_rate=0.1)\n",
    "classifiers['GradientBoostingClassifier 2'] = GradientBoostingClassifier(n_estimators=100,random_state=0,criterion='friedman_mse',max_depth=3, learning_rate=0.3)\n",
    "classifiers['GradientBoostingClassifier 3'] = GradientBoostingClassifier(n_estimators=100,random_state=0,criterion='friedman_mse',max_depth=3, learning_rate=0.5)\n",
    "classifiers['GradientBoostingClassifier 4'] = GradientBoostingClassifier(n_estimators=100,random_state=0,criterion='friedman_mse',max_depth=3, learning_rate=1)\n",
    "#\n",
    "classifiers['GradientBoostingClassifier 5'] = GradientBoostingClassifier(n_estimators=1000,random_state=0,criterion='friedman_mse',max_depth=3, learning_rate=0.1)\n",
    "classifiers['GradientBoostingClassifier 6'] = GradientBoostingClassifier(n_estimators=1000,random_state=0,criterion='friedman_mse',max_depth=3, learning_rate=0.3)\n",
    "classifiers['GradientBoostingClassifier 7'] = GradientBoostingClassifier(n_estimators=1000,random_state=0,criterion='friedman_mse',max_depth=3, learning_rate=0.5)\n",
    "classifiers['GradientBoostingClassifier 8'] = GradientBoostingClassifier(n_estimators=1000,random_state=0,criterion='friedman_mse',max_depth=3, learning_rate=1)\n",
    "\n",
    "classifiers['GradientBoostingClassifier 9'] = GradientBoostingClassifier(n_estimators=1000,random_state=0,criterion='friedman_mse',max_depth=2, learning_rate=0.1)\n",
    "classifiers['GradientBoostingClassifier 10'] = GradientBoostingClassifier(n_estimators=1000,random_state=0,criterion='friedman_mse',max_depth=2, learning_rate=0.3)\n",
    "classifiers['GradientBoostingClassifier 11'] = GradientBoostingClassifier(n_estimators=1000,random_state=0,criterion='friedman_mse',max_depth=2, learning_rate=0.5)\n",
    "classifiers['GradientBoostingClassifier 12'] = GradientBoostingClassifier(n_estimators=1000,random_state=0,criterion='friedman_mse',max_depth=2, learning_rate=1)"
   ],
   "metadata": {
    "collapsed": false,
    "pycharm": {
     "name": "#%%\n"
    }
   }
  },
  {
   "cell_type": "code",
   "execution_count": 101,
   "outputs": [],
   "source": [
    "def print_conf_matrix(test_y, predict, name):\n",
    "    matrix = confusion_matrix(test_y, predict,  labels=[-1, 0, 1])\n",
    "    print(matrix)\n",
    "    ax= plt.subplot()\n",
    "    sn.heatmap(matrix, annot=True, ax = ax) #annot=True to annotate cells\n",
    "\n",
    "    # labels, title and ticks\n",
    "    ax.set_xlabel('Predicted labels', color='white')\n",
    "    ax.set_ylabel('True labels', color='white')\n",
    "    ax.set_title(f'Confusion Matrix for {name}' , color='white')\n",
    "    ax.xaxis.set_ticklabels(['-1','0', '1'], color='white')\n",
    "    ax.yaxis.set_ticklabels(['-1','0', '1'], color='white')\n",
    "    plt.show()\n",
    "\n",
    "def train_model(model,train_x, train_y):\n",
    "    model.fit(train_x, train_y)"
   ],
   "metadata": {
    "collapsed": false,
    "pycharm": {
     "name": "#%%\n"
    }
   }
  },
  {
   "cell_type": "code",
   "execution_count": 102,
   "outputs": [
    {
     "name": "stdout",
     "output_type": "stream",
     "text": [
      "Calculate:  DecisionTreeClassifier 1\n",
      "Score:  0.16666666666666666\n",
      "Calculate:  DecisionTreeClassifier 2\n",
      "Score:  0.20833333333333334\n",
      "Calculate:  DecisionTreeClassifier 3\n",
      "Score:  0.16666666666666666\n",
      "Calculate:  DecisionTreeClassifier 4\n",
      "Score:  0.16666666666666666\n",
      "Calculate:  DecisionTreeClassifier 5\n",
      "Score:  0.25\n",
      "Calculate:  DecisionTreeClassifier 6\n",
      "Score:  0.25\n",
      "Calculate:  DecisionTreeClassifier 7\n",
      "Score:  0.2916666666666667\n",
      "Calculate:  DecisionTreeClassifier 8\n",
      "Score:  0.20833333333333334\n",
      "Calculate:  RandomForestClassifier 1\n",
      "Score:  0.16666666666666666\n",
      "Calculate:  RandomForestClassifier 2\n",
      "Score:  0.16666666666666666\n",
      "Calculate:  RandomForestClassifier 3\n",
      "Score:  0.20833333333333334\n",
      "Calculate:  RandomForestClassifier 4\n",
      "Score:  0.20833333333333334\n",
      "Calculate:  RandomForestClassifier 5\n",
      "Score:  0.16666666666666666\n",
      "Calculate:  RandomForestClassifier 6\n",
      "Score:  0.16666666666666666\n",
      "Calculate:  RandomForestClassifier 7\n",
      "Score:  0.20833333333333334\n",
      "Calculate:  RandomForestClassifier 8\n",
      "Score:  0.20833333333333334\n",
      "Calculate:  GradientBoostingClassifier 1\n",
      "Score:  0.16666666666666666\n",
      "Calculate:  GradientBoostingClassifier 2\n",
      "Score:  0.25\n",
      "Calculate:  GradientBoostingClassifier 3\n",
      "Score:  0.2916666666666667\n",
      "Calculate:  GradientBoostingClassifier 4\n",
      "Score:  0.20833333333333334\n",
      "Calculate:  GradientBoostingClassifier 5\n",
      "Score:  0.25\n",
      "Calculate:  GradientBoostingClassifier 6\n",
      "Score:  0.25\n",
      "Calculate:  GradientBoostingClassifier 7\n",
      "Score:  0.20833333333333334\n",
      "Calculate:  GradientBoostingClassifier 8\n",
      "Score:  0.25\n",
      "Calculate:  GradientBoostingClassifier 9\n",
      "Score:  0.25\n",
      "Calculate:  GradientBoostingClassifier 10\n",
      "Score:  0.16666666666666666\n",
      "Calculate:  GradientBoostingClassifier 11\n",
      "Score:  0.25\n",
      "Calculate:  GradientBoostingClassifier 12\n",
      "Score:  0.25\n",
      "+----+-------------------------------+------------+\n",
      "|    | Classifier type               |   Accuracy |\n",
      "|----+-------------------------------+------------|\n",
      "|  0 | DecisionTreeClassifier 1      |   0.166667 |\n",
      "|  1 | DecisionTreeClassifier 2      |   0.208333 |\n",
      "|  2 | DecisionTreeClassifier 3      |   0.166667 |\n",
      "|  3 | DecisionTreeClassifier 4      |   0.166667 |\n",
      "|  4 | DecisionTreeClassifier 5      |   0.25     |\n",
      "|  5 | DecisionTreeClassifier 6      |   0.25     |\n",
      "|  6 | DecisionTreeClassifier 7      |   0.291667 |\n",
      "|  7 | DecisionTreeClassifier 8      |   0.208333 |\n",
      "|  8 | RandomForestClassifier 1      |   0.166667 |\n",
      "|  9 | RandomForestClassifier 2      |   0.166667 |\n",
      "| 10 | RandomForestClassifier 3      |   0.208333 |\n",
      "| 11 | RandomForestClassifier 4      |   0.208333 |\n",
      "| 12 | RandomForestClassifier 5      |   0.166667 |\n",
      "| 13 | RandomForestClassifier 6      |   0.166667 |\n",
      "| 14 | RandomForestClassifier 7      |   0.208333 |\n",
      "| 15 | RandomForestClassifier 8      |   0.208333 |\n",
      "| 16 | GradientBoostingClassifier 1  |   0.166667 |\n",
      "| 17 | GradientBoostingClassifier 2  |   0.25     |\n",
      "| 18 | GradientBoostingClassifier 3  |   0.291667 |\n",
      "| 19 | GradientBoostingClassifier 4  |   0.208333 |\n",
      "| 20 | GradientBoostingClassifier 5  |   0.25     |\n",
      "| 21 | GradientBoostingClassifier 6  |   0.25     |\n",
      "| 22 | GradientBoostingClassifier 7  |   0.208333 |\n",
      "| 23 | GradientBoostingClassifier 8  |   0.25     |\n",
      "| 24 | GradientBoostingClassifier 9  |   0.25     |\n",
      "| 25 | GradientBoostingClassifier 10 |   0.166667 |\n",
      "| 26 | GradientBoostingClassifier 11 |   0.25     |\n",
      "| 27 | GradientBoostingClassifier 12 |   0.25     |\n",
      "+----+-------------------------------+------------+\n"
     ]
    }
   ],
   "source": [
    "predictions= dict()\n",
    "score = dict()\n",
    "for k,v in classifiers.items():\n",
    "    print(\"Calculate: \", k)\n",
    "    train_model(v,x_train,y_train)\n",
    "    predictions[k] = v.predict(x_test)\n",
    "    score[k] = accuracy_score(y_test.values, predictions[k])\n",
    "    print('Score: ',  score[k] )\n",
    "    # print_conf_matrix(test_y, predictions[k], k)\n",
    "\n",
    "headers = [\"Classifier type\", \"Accuracy\"]\n",
    "score_df = pd.DataFrame(score.items(), columns=headers)\n",
    "print(tabulate(score_df, headers, tablefmt=\"psql\"))"
   ],
   "metadata": {
    "collapsed": false,
    "pycharm": {
     "name": "#%%\n"
    }
   }
  },
  {
   "cell_type": "code",
   "execution_count": 103,
   "outputs": [
    {
     "name": "stdout",
     "output_type": "stream",
     "text": [
      "Score:  0.25\n"
     ]
    }
   ],
   "source": [
    "estimators=[\n",
    "            ('GBC12', classifiers['GradientBoostingClassifier 5']),\n",
    "            ('GBC11', classifiers['GradientBoostingClassifier 9']),\n",
    "            ]\n",
    "ensemble = VotingClassifier(estimators, voting='soft')\n",
    "ensemble.fit(x_train, y_train)\n",
    "predicted = ensemble.predict(x_test)\n",
    "score_ensemble = accuracy_score(y_test.values, predicted)\n",
    "print('Score: ',  score_ensemble)"
   ],
   "metadata": {
    "collapsed": false,
    "pycharm": {
     "name": "#%%\n"
    }
   }
  },
  {
   "cell_type": "code",
   "execution_count": 104,
   "outputs": [
    {
     "name": "stdout",
     "output_type": "stream",
     "text": [
      "Score:  0.25\n"
     ]
    }
   ],
   "source": [
    "print('Score: ',  score_ensemble)"
   ],
   "metadata": {
    "collapsed": false,
    "pycharm": {
     "name": "#%%\n"
    }
   }
  },
  {
   "cell_type": "code",
   "execution_count": 105,
   "outputs": [
    {
     "data": {
      "text/plain": "<AxesSubplot:>"
     },
     "execution_count": 105,
     "metadata": {},
     "output_type": "execute_result"
    },
    {
     "data": {
      "text/plain": "<Figure size 432x288 with 1 Axes>",
      "image/png": "[encoded data removed]"
     },
     "metadata": {
      "needs_background": "light"
     },
     "output_type": "display_data"
    }
   ],
   "source": [
    "\n",
    "pd.Series(classifiers['GradientBoostingClassifier 12'].feature_importances_).plot()"
   ],
   "metadata": {
    "collapsed": false,
    "pycharm": {
     "name": "#%%\n"
    }
   }
  },
  {
   "cell_type": "code",
   "execution_count": 106,
   "outputs": [
    {
     "data": {
      "text/plain": "array([0.23841817, 0.01644125, 0.71355614, 0.0277079 , 0.00387655])"
     },
     "execution_count": 106,
     "metadata": {},
     "output_type": "execute_result"
    }
   ],
   "source": [
    "classifiers['GradientBoostingClassifier 12'].feature_importances_"
   ],
   "metadata": {
    "collapsed": false,
    "pycharm": {
     "name": "#%%\n"
    }
   }
  },
  {
   "cell_type": "code",
   "execution_count": 106,
   "outputs": [],
   "source": [
    "\n"
   ],
   "metadata": {
    "collapsed": false,
    "pycharm": {
     "name": "#%%\n"
    }
   }
  }
 ],
 "metadata": {
  "kernelspec": {
   "name": "magisterka_analiza",
   "language": "python",
   "display_name": "Python magisterka"
  },
  "language_info": {
   "codemirror_mode": {
    "name": "ipython",
    "version": 2
   },
   "file_extension": ".py",
   "mimetype": "text/x-python",
   "name": "python",
   "nbconvert_exporter": "python",
   "pygments_lexer": "ipython2",
   "version": "2.7.6"
  }
 },
 "nbformat": 4,
 "nbformat_minor": 0
}