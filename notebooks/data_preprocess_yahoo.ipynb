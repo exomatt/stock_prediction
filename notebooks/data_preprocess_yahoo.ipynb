{
 "cells": [
  {
   "cell_type": "code",
   "execution_count": 377,
   "metadata": {
    "collapsed": true
   },
   "outputs": [],
   "source": [
    "import yfinance as yf\n",
    "from datetime import datetime\n",
    "import pandas as pd\n",
    "import numpy as np\n",
    "import matplotlib.pyplot as plt\n",
    "from finta import TA\n",
    "import numpy as np\n",
    "from sklearn.ensemble import RandomForestClassifier\n",
    "from sklearn.model_selection import GridSearchCV, train_test_split\n",
    "from sklearn.tree import DecisionTreeClassifier\n",
    "from sklearn.ensemble import GradientBoostingClassifier\n",
    "from sklearn.metrics import confusion_matrix, classification_report, accuracy_score\n",
    "from sklearn.metrics import jaccard_score\n",
    "import seaborn as sn\n",
    "from tabulate import tabulate\n"
   ]
  },
  {
   "cell_type": "code",
   "execution_count": 378,
   "outputs": [],
   "source": [
    "WINDOW = 1 # number of rows to look ahead to see what the price did\n",
    "FETCH_INTERVAL = \"1h\"  # fetch data by interval (including intraday if period < 60 days)\n",
    "        # valid intervals: 1m,2m,5m,15m,30m,60m,90m,1h,1d,5d,1wk,1mo,3mo\n",
    "        # (optional, default is '1d')\n",
    "INTERVAL = '1y'     # use \"period\" instead of start/end\n",
    "        # valid periods: 1d,5d,1mo,3mo,6mo,1y,2y,5y,10y,ytd,max\n",
    "        # (optional, default is '1mo')\n",
    "symbol = 'FB'      # Symbol of the desired stock\n",
    "INDICATORS = ['RSI', 'MACD', 'STOCH','ADL', 'ATR', 'MOM', 'MFI', 'ROC', 'CCI', 'VORTEX']"
   ],
   "metadata": {
    "collapsed": false,
    "pycharm": {
     "name": "#%%\n"
    }
   }
  },
  {
   "cell_type": "code",
   "execution_count": 379,
   "outputs": [
    {
     "name": "stdout",
     "output_type": "stream",
     "text": [
      "[*********************100%***********************]  1 of 1 completed\n"
     ]
    },
    {
     "data": {
      "text/plain": "                  Open        High         Low       Close   Adj Close  \\\nDate                                                                     \n2020-02-04  205.200000  206.700000  205.200000  206.400000  206.400000   \n2020-02-04  206.400000  206.440000  206.250000  206.390000  206.390000   \n2020-02-04  206.180000  206.340000  206.000000  206.340000  206.340000   \n2020-02-04  206.340000  206.350000  206.000000  206.300000  206.300000   \n2020-02-04  206.290000  206.500000  204.700000  206.070000  206.070000   \n...                ...         ...         ...         ...         ...   \n2021-02-03  268.234985  268.559998  266.950012  267.880005  267.880005   \n2021-02-03  267.869995  268.229889  266.679993  266.779999  266.779999   \n2021-02-03  266.799988  267.959991  266.559998  266.679993  266.679993   \n2021-02-03  266.650000  267.381200  266.380000  267.000000  267.000000   \n2021-02-03  266.800000  267.150000  266.700000  267.120000  267.120000   \n\n             Volume  \nDate                 \n2020-02-04        0  \n2020-02-04        0  \n2020-02-04        0  \n2020-02-04        0  \n2020-02-04        0  \n...             ...  \n2021-02-03  1246802  \n2021-02-03  1244747  \n2021-02-03  1387200  \n2021-02-03   643111  \n2021-02-03        0  \n\n[4143 rows x 6 columns]",
      "text/html": "<div>\n<style scoped>\n    .dataframe tbody tr th:only-of-type {\n        vertical-align: middle;\n    }\n\n    .dataframe tbody tr th {\n        vertical-align: top;\n    }\n\n    .dataframe thead th {\n        text-align: right;\n    }\n</style>\n<table border=\"1\" class=\"dataframe\">\n  <thead>\n    <tr style=\"text-align: right;\">\n      <th></th>\n      <th>Open</th>\n      <th>High</th>\n      <th>Low</th>\n      <th>Close</th>\n      <th>Adj Close</th>\n      <th>Volume</th>\n    </tr>\n    <tr>\n      <th>Date</th>\n      <th></th>\n      <th></th>\n      <th></th>\n      <th></th>\n      <th></th>\n      <th></th>\n    </tr>\n  </thead>\n  <tbody>\n    <tr>\n      <th>2020-02-04</th>\n      <td>205.200000</td>\n      <td>206.700000</td>\n      <td>205.200000</td>\n      <td>206.400000</td>\n      <td>206.400000</td>\n      <td>0</td>\n    </tr>\n    <tr>\n      <th>2020-02-04</th>\n      <td>206.400000</td>\n      <td>206.440000</td>\n      <td>206.250000</td>\n      <td>206.390000</td>\n      <td>206.390000</td>\n      <td>0</td>\n    </tr>\n    <tr>\n      <th>2020-02-04</th>\n      <td>206.180000</td>\n      <td>206.340000</td>\n      <td>206.000000</td>\n      <td>206.340000</td>\n      <td>206.340000</td>\n      <td>0</td>\n    </tr>\n    <tr>\n      <th>2020-02-04</th>\n      <td>206.340000</td>\n      <td>206.350000</td>\n      <td>206.000000</td>\n      <td>206.300000</td>\n      <td>206.300000</td>\n      <td>0</td>\n    </tr>\n    <tr>\n      <th>2020-02-04</th>\n      <td>206.290000</td>\n      <td>206.500000</td>\n      <td>204.700000</td>\n      <td>206.070000</td>\n      <td>206.070000</td>\n      <td>0</td>\n    </tr>\n    <tr>\n      <th>...</th>\n      <td>...</td>\n      <td>...</td>\n      <td>...</td>\n      <td>...</td>\n      <td>...</td>\n      <td>...</td>\n    </tr>\n    <tr>\n      <th>2021-02-03</th>\n      <td>268.234985</td>\n      <td>268.559998</td>\n      <td>266.950012</td>\n      <td>267.880005</td>\n      <td>267.880005</td>\n      <td>1246802</td>\n    </tr>\n    <tr>\n      <th>2021-02-03</th>\n      <td>267.869995</td>\n      <td>268.229889</td>\n      <td>266.679993</td>\n      <td>266.779999</td>\n      <td>266.779999</td>\n      <td>1244747</td>\n    </tr>\n    <tr>\n      <th>2021-02-03</th>\n      <td>266.799988</td>\n      <td>267.959991</td>\n      <td>266.559998</td>\n      <td>266.679993</td>\n      <td>266.679993</td>\n      <td>1387200</td>\n    </tr>\n    <tr>\n      <th>2021-02-03</th>\n      <td>266.650000</td>\n      <td>267.381200</td>\n      <td>266.380000</td>\n      <td>267.000000</td>\n      <td>267.000000</td>\n      <td>643111</td>\n    </tr>\n    <tr>\n      <th>2021-02-03</th>\n      <td>266.800000</td>\n      <td>267.150000</td>\n      <td>266.700000</td>\n      <td>267.120000</td>\n      <td>267.120000</td>\n      <td>0</td>\n    </tr>\n  </tbody>\n</table>\n<p>4143 rows × 6 columns</p>\n</div>"
     },
     "execution_count": 379,
     "metadata": {},
     "output_type": "execute_result"
    }
   ],
   "source": [
    "data = yf.download(  # or pdr.get_data_yahoo(...\n",
    "        tickers = symbol,\n",
    "\n",
    "\n",
    "        period = INTERVAL,\n",
    "\n",
    "        interval = FETCH_INTERVAL,\n",
    "\n",
    "        # group by ticker (to access via data['SPY'])\n",
    "        # (optional, default is 'column')\n",
    "        group_by = 'ticker',\n",
    "\n",
    "        # adjust all OHLC automatically\n",
    "        # (optional, default is False)\n",
    "        # auto_adjust = True,\n",
    "\n",
    "        # download pre/post regular market hours data\n",
    "        # (optional, default is False)\n",
    "        prepost = True,\n",
    "\n",
    "        # use threads for mass downloading? (True/False/Integer)\n",
    "        # (optional, default is True)\n",
    "        threads = True,\n",
    "\n",
    "        # proxy URL scheme use use when downloading?\n",
    "        # (optional, default is None)\n",
    "        proxy = None\n",
    "    )\n",
    "data"
   ],
   "metadata": {
    "collapsed": false,
    "pycharm": {
     "name": "#%%\n"
    }
   }
  },
  {
   "cell_type": "code",
   "execution_count": 380,
   "outputs": [
    {
     "data": {
      "text/plain": "                  open        high         low       close   Adj Close  \\\nDate                                                                     \n2020-02-04  205.200000  206.700000  205.200000  206.400000  206.400000   \n2020-02-04  206.400000  206.440000  206.250000  206.390000  206.390000   \n2020-02-04  206.180000  206.340000  206.000000  206.340000  206.340000   \n2020-02-04  206.340000  206.350000  206.000000  206.300000  206.300000   \n2020-02-04  206.290000  206.500000  204.700000  206.070000  206.070000   \n2020-02-04  206.010000  206.480000  204.190000  206.270000  206.270000   \n2020-02-04  206.470001  208.309998  205.202499  207.940002  207.940002   \n2020-02-04  207.950699  208.410004  207.229996  208.110703  208.110703   \n2020-02-04  208.100006  209.550003  208.089996  209.030197  209.030197   \n2020-02-04  209.059998  209.820007  208.759995  209.210007  209.210007   \n\n             volume  \nDate                 \n2020-02-04        0  \n2020-02-04        0  \n2020-02-04        0  \n2020-02-04        0  \n2020-02-04        0  \n2020-02-04        0  \n2020-02-04  6050902  \n2020-02-04  2213458  \n2020-02-04  1970385  \n2020-02-04  1568565  ",
      "text/html": "<div>\n<style scoped>\n    .dataframe tbody tr th:only-of-type {\n        vertical-align: middle;\n    }\n\n    .dataframe tbody tr th {\n        vertical-align: top;\n    }\n\n    .dataframe thead th {\n        text-align: right;\n    }\n</style>\n<table border=\"1\" class=\"dataframe\">\n  <thead>\n    <tr style=\"text-align: right;\">\n      <th></th>\n      <th>open</th>\n      <th>high</th>\n      <th>low</th>\n      <th>close</th>\n      <th>Adj Close</th>\n      <th>volume</th>\n    </tr>\n    <tr>\n      <th>Date</th>\n      <th></th>\n      <th></th>\n      <th></th>\n      <th></th>\n      <th></th>\n      <th></th>\n    </tr>\n  </thead>\n  <tbody>\n    <tr>\n      <th>2020-02-04</th>\n      <td>205.200000</td>\n      <td>206.700000</td>\n      <td>205.200000</td>\n      <td>206.400000</td>\n      <td>206.400000</td>\n      <td>0</td>\n    </tr>\n    <tr>\n      <th>2020-02-04</th>\n      <td>206.400000</td>\n      <td>206.440000</td>\n      <td>206.250000</td>\n      <td>206.390000</td>\n      <td>206.390000</td>\n      <td>0</td>\n    </tr>\n    <tr>\n      <th>2020-02-04</th>\n      <td>206.180000</td>\n      <td>206.340000</td>\n      <td>206.000000</td>\n      <td>206.340000</td>\n      <td>206.340000</td>\n      <td>0</td>\n    </tr>\n    <tr>\n      <th>2020-02-04</th>\n      <td>206.340000</td>\n      <td>206.350000</td>\n      <td>206.000000</td>\n      <td>206.300000</td>\n      <td>206.300000</td>\n      <td>0</td>\n    </tr>\n    <tr>\n      <th>2020-02-04</th>\n      <td>206.290000</td>\n      <td>206.500000</td>\n      <td>204.700000</td>\n      <td>206.070000</td>\n      <td>206.070000</td>\n      <td>0</td>\n    </tr>\n    <tr>\n      <th>2020-02-04</th>\n      <td>206.010000</td>\n      <td>206.480000</td>\n      <td>204.190000</td>\n      <td>206.270000</td>\n      <td>206.270000</td>\n      <td>0</td>\n    </tr>\n    <tr>\n      <th>2020-02-04</th>\n      <td>206.470001</td>\n      <td>208.309998</td>\n      <td>205.202499</td>\n      <td>207.940002</td>\n      <td>207.940002</td>\n      <td>6050902</td>\n    </tr>\n    <tr>\n      <th>2020-02-04</th>\n      <td>207.950699</td>\n      <td>208.410004</td>\n      <td>207.229996</td>\n      <td>208.110703</td>\n      <td>208.110703</td>\n      <td>2213458</td>\n    </tr>\n    <tr>\n      <th>2020-02-04</th>\n      <td>208.100006</td>\n      <td>209.550003</td>\n      <td>208.089996</td>\n      <td>209.030197</td>\n      <td>209.030197</td>\n      <td>1970385</td>\n    </tr>\n    <tr>\n      <th>2020-02-04</th>\n      <td>209.059998</td>\n      <td>209.820007</td>\n      <td>208.759995</td>\n      <td>209.210007</td>\n      <td>209.210007</td>\n      <td>1568565</td>\n    </tr>\n  </tbody>\n</table>\n</div>"
     },
     "execution_count": 380,
     "metadata": {},
     "output_type": "execute_result"
    }
   ],
   "source": [
    "data.rename(columns={\"Close\": 'close', \"High\": 'high', \"Low\": 'low', 'Volume': 'volume', 'Open': 'open'}, inplace=True)\n",
    "data.head(10)"
   ],
   "metadata": {
    "collapsed": false,
    "pycharm": {
     "name": "#%%\n"
    }
   }
  },
  {
   "cell_type": "code",
   "execution_count": 381,
   "outputs": [
    {
     "data": {
      "text/plain": "<AxesSubplot:xlabel='Date'>"
     },
     "execution_count": 381,
     "metadata": {},
     "output_type": "execute_result"
    },
    {
     "data": {
      "text/plain": "<Figure size 432x288 with 1 Axes>",
      "image/png": "[encoded data removed]"
     },
     "metadata": {
      "needs_background": "light"
     },
     "output_type": "display_data"
    }
   ],
   "source": [
    "data['close'].plot()"
   ],
   "metadata": {
    "collapsed": false,
    "pycharm": {
     "name": "#%%\n"
    }
   }
  },
  {
   "cell_type": "code",
   "execution_count": 382,
   "outputs": [],
   "source": [
    "def _get_indicator_data(data):\n",
    "    \"\"\"\n",
    "    Function that uses the finta API to calculate technical indicators used as the features\n",
    "    :return:\n",
    "    \"\"\"\n",
    "\n",
    "    for indicator in INDICATORS:\n",
    "        ind_data = eval('TA.' + indicator + '(data)')\n",
    "        if not isinstance(ind_data, pd.DataFrame):\n",
    "            ind_data = ind_data.to_frame()\n",
    "        data = pd.concat([data, ind_data], axis=1)\n",
    "    data.rename(columns={\"14 period EMV.\": '14 period EMV'}, inplace=True)\n",
    "\n",
    "    # Also calculate moving averages for features\n",
    "    data['ema50'] = data['close'] / data['close'].ewm(50).mean()\n",
    "    data['ema21'] = data['close'] / data['close'].ewm(21).mean()\n",
    "    data['ema15'] = data['close'] / data['close'].ewm(14).mean()\n",
    "    data['ema5'] = data['close'] / data['close'].ewm(5).mean()\n",
    "\n",
    "    # Instead of using the actual volume value (which changes over time), we normalize it with a moving volume average\n",
    "    data['normVol'] = data['volume'] / data['volume'].ewm(5).mean()\n",
    "\n",
    "    # Remove columns that won't be used as features\n",
    "    del (data['open'])\n",
    "    del (data['high'])\n",
    "    del (data['low'])\n",
    "    del (data['volume'])\n",
    "    del (data['Adj Close'])\n",
    "\n",
    "    return data\n",
    "\n",
    "data = _get_indicator_data(data)"
   ],
   "metadata": {
    "collapsed": false,
    "pycharm": {
     "name": "#%%\n"
    }
   }
  },
  {
   "cell_type": "code",
   "execution_count": 383,
   "outputs": [
    {
     "data": {
      "text/plain": "                 close  14 period RSI      MACD    SIGNAL  14 period STOCH %K  \\\nDate                                                                            \n2020-02-04  206.400000            NaN  0.000000  0.000000                 NaN   \n2020-02-04  206.390000       0.000000 -0.000224 -0.000125                 NaN   \n2020-02-04  206.340000       0.000000 -0.001836 -0.000826                 NaN   \n2020-02-04  206.300000       0.000000 -0.003969 -0.001891                 NaN   \n2020-02-04  206.070000       0.000000 -0.014196 -0.005551                 NaN   \n...                ...            ...       ...       ...                 ...   \n2021-02-03  267.880005      56.740414  0.807584  0.870919           93.377677   \n2021-02-03  266.779999      51.758043  0.714587  0.839653           87.859074   \n2021-02-03  266.679993      51.316859  0.625604  0.796843           52.984849   \n2021-02-03  267.000000      52.706061  0.574287  0.752332           58.955118   \n2021-02-03  267.120000      53.244855  0.537109  0.709287           61.193917   \n\n                     MFV  14 period ATR       MOM  14 period MFI       ROC  \\\nDate                                                                         \n2020-02-04  0.000000e+00            NaN       NaN            NaN       NaN   \n2020-02-04  0.000000e+00            NaN       NaN            NaN       NaN   \n2020-02-04  0.000000e+00            NaN       NaN            NaN       NaN   \n2020-02-04  0.000000e+00            NaN       NaN            NaN       NaN   \n2020-02-04  0.000000e+00            NaN       NaN            NaN       NaN   \n...                  ...            ...       ...            ...       ...   \n2021-02-03  7.106224e+09       3.192893  0.080005      46.379635  0.273257   \n2021-02-03  7.105184e+09       3.066099 -1.700001      41.509313 -0.011244   \n2021-02-03  7.104082e+09       1.829479 -1.070007      37.162886 -0.418225   \n2021-02-03  7.104236e+09       1.833136  0.990000      35.443277 -0.551251   \n2021-02-03  7.104236e+09       1.772422  0.040000      35.443277 -0.235294   \n\n            20 period CCI       VIm       VIp     ema50     ema21     ema15  \\\nDate                                                                          \n2020-02-04            NaN       NaN       NaN  1.000000  1.000000  1.000000   \n2020-02-04      66.666667       NaN       NaN  0.999976  0.999976  0.999977   \n2020-02-04      -1.694915       NaN       NaN  0.999824  0.999827  0.999829   \n2020-02-04      -9.053498       NaN       NaN  0.999726  0.999731  0.999736   \n2020-02-04    -153.573377       NaN       NaN  0.998900  0.998919  0.998936   \n...                   ...       ...       ...       ...       ...       ...   \n2021-02-03      55.323461  0.985011  0.985457  1.003720  1.007169  1.006118   \n2021-02-03      13.888412  0.990917  1.019685  0.999606  1.002895  1.001854   \n2021-02-03       6.411374  0.975013  1.649392  0.999246  1.002405  1.001380   \n2021-02-03      -0.323931  0.978912  0.967659  1.000437  1.003443  1.002409   \n2021-02-03       7.081924  1.034255  0.968969  1.000869  1.003716  1.002668   \n\n                ema5   normVol  \nDate                            \n2020-02-04  1.000000       NaN  \n2020-02-04  0.999978       NaN  \n2020-02-04  0.999840       NaN  \n2020-02-04  0.999760       NaN  \n2020-02-04  0.999023       NaN  \n...              ...       ...  \n2021-02-03  1.002376  0.994326  \n2021-02-03  0.998549  0.993898  \n2021-02-03  0.998479  1.088122  \n2021-02-03  0.999731  0.549871  \n2021-02-03  1.000150  0.000000  \n\n[4143 rows x 18 columns]",
      "text/html": "<div>\n<style scoped>\n    .dataframe tbody tr th:only-of-type {\n        vertical-align: middle;\n    }\n\n    .dataframe tbody tr th {\n        vertical-align: top;\n    }\n\n    .dataframe thead th {\n        text-align: right;\n    }\n</style>\n<table border=\"1\" class=\"dataframe\">\n  <thead>\n    <tr style=\"text-align: right;\">\n      <th></th>\n      <th>close</th>\n      <th>14 period RSI</th>\n      <th>MACD</th>\n      <th>SIGNAL</th>\n      <th>14 period STOCH %K</th>\n      <th>MFV</th>\n      <th>14 period ATR</th>\n      <th>MOM</th>\n      <th>14 period MFI</th>\n      <th>ROC</th>\n      <th>20 period CCI</th>\n      <th>VIm</th>\n      <th>VIp</th>\n      <th>ema50</th>\n      <th>ema21</th>\n      <th>ema15</th>\n      <th>ema5</th>\n      <th>normVol</th>\n    </tr>\n    <tr>\n      <th>Date</th>\n      <th></th>\n      <th></th>\n      <th></th>\n      <th></th>\n      <th></th>\n      <th></th>\n      <th></th>\n      <th></th>\n      <th></th>\n      <th></th>\n      <th></th>\n      <th></th>\n      <th></th>\n      <th></th>\n      <th></th>\n      <th></th>\n      <th></th>\n      <th></th>\n    </tr>\n  </thead>\n  <tbody>\n    <tr>\n      <th>2020-02-04</th>\n      <td>206.400000</td>\n      <td>NaN</td>\n      <td>0.000000</td>\n      <td>0.000000</td>\n      <td>NaN</td>\n      <td>0.000000e+00</td>\n      <td>NaN</td>\n      <td>NaN</td>\n      <td>NaN</td>\n      <td>NaN</td>\n      <td>NaN</td>\n      <td>NaN</td>\n      <td>NaN</td>\n      <td>1.000000</td>\n      <td>1.000000</td>\n      <td>1.000000</td>\n      <td>1.000000</td>\n      <td>NaN</td>\n    </tr>\n    <tr>\n      <th>2020-02-04</th>\n      <td>206.390000</td>\n      <td>0.000000</td>\n      <td>-0.000224</td>\n      <td>-0.000125</td>\n      <td>NaN</td>\n      <td>0.000000e+00</td>\n      <td>NaN</td>\n      <td>NaN</td>\n      <td>NaN</td>\n      <td>NaN</td>\n      <td>66.666667</td>\n      <td>NaN</td>\n      <td>NaN</td>\n      <td>0.999976</td>\n      <td>0.999976</td>\n      <td>0.999977</td>\n      <td>0.999978</td>\n      <td>NaN</td>\n    </tr>\n    <tr>\n      <th>2020-02-04</th>\n      <td>206.340000</td>\n      <td>0.000000</td>\n      <td>-0.001836</td>\n      <td>-0.000826</td>\n      <td>NaN</td>\n      <td>0.000000e+00</td>\n      <td>NaN</td>\n      <td>NaN</td>\n      <td>NaN</td>\n      <td>NaN</td>\n      <td>-1.694915</td>\n      <td>NaN</td>\n      <td>NaN</td>\n      <td>0.999824</td>\n      <td>0.999827</td>\n      <td>0.999829</td>\n      <td>0.999840</td>\n      <td>NaN</td>\n    </tr>\n    <tr>\n      <th>2020-02-04</th>\n      <td>206.300000</td>\n      <td>0.000000</td>\n      <td>-0.003969</td>\n      <td>-0.001891</td>\n      <td>NaN</td>\n      <td>0.000000e+00</td>\n      <td>NaN</td>\n      <td>NaN</td>\n      <td>NaN</td>\n      <td>NaN</td>\n      <td>-9.053498</td>\n      <td>NaN</td>\n      <td>NaN</td>\n      <td>0.999726</td>\n      <td>0.999731</td>\n      <td>0.999736</td>\n      <td>0.999760</td>\n      <td>NaN</td>\n    </tr>\n    <tr>\n      <th>2020-02-04</th>\n      <td>206.070000</td>\n      <td>0.000000</td>\n      <td>-0.014196</td>\n      <td>-0.005551</td>\n      <td>NaN</td>\n      <td>0.000000e+00</td>\n      <td>NaN</td>\n      <td>NaN</td>\n      <td>NaN</td>\n      <td>NaN</td>\n      <td>-153.573377</td>\n      <td>NaN</td>\n      <td>NaN</td>\n      <td>0.998900</td>\n      <td>0.998919</td>\n      <td>0.998936</td>\n      <td>0.999023</td>\n      <td>NaN</td>\n    </tr>\n    <tr>\n      <th>...</th>\n      <td>...</td>\n      <td>...</td>\n      <td>...</td>\n      <td>...</td>\n      <td>...</td>\n      <td>...</td>\n      <td>...</td>\n      <td>...</td>\n      <td>...</td>\n      <td>...</td>\n      <td>...</td>\n      <td>...</td>\n      <td>...</td>\n      <td>...</td>\n      <td>...</td>\n      <td>...</td>\n      <td>...</td>\n      <td>...</td>\n    </tr>\n    <tr>\n      <th>2021-02-03</th>\n      <td>267.880005</td>\n      <td>56.740414</td>\n      <td>0.807584</td>\n      <td>0.870919</td>\n      <td>93.377677</td>\n      <td>7.106224e+09</td>\n      <td>3.192893</td>\n      <td>0.080005</td>\n      <td>46.379635</td>\n      <td>0.273257</td>\n      <td>55.323461</td>\n      <td>0.985011</td>\n      <td>0.985457</td>\n      <td>1.003720</td>\n      <td>1.007169</td>\n      <td>1.006118</td>\n      <td>1.002376</td>\n      <td>0.994326</td>\n    </tr>\n    <tr>\n      <th>2021-02-03</th>\n      <td>266.779999</td>\n      <td>51.758043</td>\n      <td>0.714587</td>\n      <td>0.839653</td>\n      <td>87.859074</td>\n      <td>7.105184e+09</td>\n      <td>3.066099</td>\n      <td>-1.700001</td>\n      <td>41.509313</td>\n      <td>-0.011244</td>\n      <td>13.888412</td>\n      <td>0.990917</td>\n      <td>1.019685</td>\n      <td>0.999606</td>\n      <td>1.002895</td>\n      <td>1.001854</td>\n      <td>0.998549</td>\n      <td>0.993898</td>\n    </tr>\n    <tr>\n      <th>2021-02-03</th>\n      <td>266.679993</td>\n      <td>51.316859</td>\n      <td>0.625604</td>\n      <td>0.796843</td>\n      <td>52.984849</td>\n      <td>7.104082e+09</td>\n      <td>1.829479</td>\n      <td>-1.070007</td>\n      <td>37.162886</td>\n      <td>-0.418225</td>\n      <td>6.411374</td>\n      <td>0.975013</td>\n      <td>1.649392</td>\n      <td>0.999246</td>\n      <td>1.002405</td>\n      <td>1.001380</td>\n      <td>0.998479</td>\n      <td>1.088122</td>\n    </tr>\n    <tr>\n      <th>2021-02-03</th>\n      <td>267.000000</td>\n      <td>52.706061</td>\n      <td>0.574287</td>\n      <td>0.752332</td>\n      <td>58.955118</td>\n      <td>7.104236e+09</td>\n      <td>1.833136</td>\n      <td>0.990000</td>\n      <td>35.443277</td>\n      <td>-0.551251</td>\n      <td>-0.323931</td>\n      <td>0.978912</td>\n      <td>0.967659</td>\n      <td>1.000437</td>\n      <td>1.003443</td>\n      <td>1.002409</td>\n      <td>0.999731</td>\n      <td>0.549871</td>\n    </tr>\n    <tr>\n      <th>2021-02-03</th>\n      <td>267.120000</td>\n      <td>53.244855</td>\n      <td>0.537109</td>\n      <td>0.709287</td>\n      <td>61.193917</td>\n      <td>7.104236e+09</td>\n      <td>1.772422</td>\n      <td>0.040000</td>\n      <td>35.443277</td>\n      <td>-0.235294</td>\n      <td>7.081924</td>\n      <td>1.034255</td>\n      <td>0.968969</td>\n      <td>1.000869</td>\n      <td>1.003716</td>\n      <td>1.002668</td>\n      <td>1.000150</td>\n      <td>0.000000</td>\n    </tr>\n  </tbody>\n</table>\n<p>4143 rows × 18 columns</p>\n</div>"
     },
     "execution_count": 383,
     "metadata": {},
     "output_type": "execute_result"
    }
   ],
   "source": [
    "data"
   ],
   "metadata": {
    "collapsed": false,
    "pycharm": {
     "name": "#%%\n"
    }
   }
  },
  {
   "cell_type": "code",
   "execution_count": 384,
   "outputs": [
    {
     "data": {
      "text/plain": "Index(['close', '14 period RSI', 'MACD', 'SIGNAL', '14 period STOCH %K', 'MFV',\n       '14 period ATR', 'MOM', '14 period MFI', 'ROC', '20 period CCI', 'VIm',\n       'VIp', 'ema50', 'ema21', 'ema15', 'ema5', 'normVol'],\n      dtype='object')"
     },
     "execution_count": 384,
     "metadata": {},
     "output_type": "execute_result"
    }
   ],
   "source": [
    "data.columns"
   ],
   "metadata": {
    "collapsed": false,
    "pycharm": {
     "name": "#%%\n"
    }
   }
  },
  {
   "cell_type": "code",
   "execution_count": 385,
   "outputs": [
    {
     "data": {
      "text/plain": "                 close  14 period RSI      MACD    SIGNAL  14 period STOCH %K  \\\nDate                                                                            \n2021-02-02  266.810000      57.971033  1.278799  1.171498           89.582603   \n2021-02-03  267.800000      61.722199  1.285822  1.194362           94.638089   \n2021-02-03  268.480000      64.092795  1.330916  1.221673           98.110545   \n2021-02-03  267.750000      59.810408  1.292845  1.235907           94.382762   \n2021-02-03  266.010000      51.054144  1.109480  1.210622           85.497362   \n2021-02-03  267.080000      55.380171  1.038532  1.176204           90.961372   \n2021-02-03  265.680000      49.247039  0.859429  1.112849           83.812200   \n2021-02-03  265.350006      47.900465  0.682988  1.026877           82.127069   \n2021-02-03  266.559998      52.977572  0.633490  0.948199           89.263150   \n2021-02-03  268.549988      59.898935  0.746237  0.907807           98.821223   \n2021-02-03  268.255005      58.523787  0.802536  0.886753           95.259008   \n2021-02-03  267.880005      56.740414  0.807584  0.870919           93.377677   \n2021-02-03  266.779999      51.758043  0.714587  0.839653           87.859074   \n2021-02-03  266.679993      51.316859  0.625604  0.796843           52.984849   \n2021-02-03  267.000000      52.706061  0.574287  0.752332           58.955118   \n2021-02-03  267.120000      53.244855  0.537109  0.709287           61.193917   \n\n                     MFV  14 period ATR       MOM  14 period MFI       ROC  \\\nDate                                                                         \n2021-02-02  7.096361e+09       3.140577  2.620000      68.249375  0.789513   \n2021-02-03  7.096361e+09       3.212005  1.829999      68.249375  1.312753   \n2021-02-03  7.096361e+09       3.184862  0.809987      68.249375  1.623831   \n2021-02-03  7.096361e+09       3.133434 -0.739899      68.249375  0.669248   \n2021-02-03  7.096361e+09       3.129148 -1.785013      68.249375 -0.620172   \n2021-02-03  7.096361e+09       2.974147  0.085005      54.975329 -0.525122   \n2021-02-03  7.096361e+09       2.906291 -2.240013      44.633078 -0.789788   \n2021-02-03  7.100337e+09       3.072727 -1.649994      16.531615 -0.616112   \n2021-02-03  7.102109e+09       3.146499 -0.760002      31.299673 -0.507620   \n2021-02-03  7.106133e+09       3.211456  1.399988      44.761254  0.580520   \n2021-02-03  7.105591e+09       3.192886  1.445005      43.038956  0.349770   \n2021-02-03  7.106224e+09       3.192893  0.080005      46.379635  0.273257   \n2021-02-03  7.105184e+09       3.066099 -1.700001      41.509313 -0.011244   \n2021-02-03  7.104082e+09       1.829479 -1.070007      37.162886 -0.418225   \n2021-02-03  7.104236e+09       1.833136  0.990000      35.443277 -0.551251   \n2021-02-03  7.104236e+09       1.772422  0.040000      35.443277 -0.235294   \n\n            20 period CCI       VIm       VIp     ema50     ema21     ema15  \\\nDate                                                                          \n2021-02-02      64.506759  0.943141  1.054358  1.000015  1.006325  1.006353   \n2021-02-03      81.936182  0.907490  1.058041  1.003652  1.009597  1.009408   \n2021-02-03      88.612950  0.903113  1.080739  1.006078  1.011602  1.011165   \n2021-02-03      70.313260  0.903347  1.085484  1.003277  1.008445  1.007850   \n2021-02-03      12.078953  0.910062  1.061176  0.996821  1.001806  1.001213   \n2021-02-03      24.108965  0.982708  1.037706  1.000814  1.005569  1.004890   \n2021-02-03      -5.571485  0.995330  0.995576  0.995654  1.000284  0.999647   \n2021-02-03     -34.240741  1.007436  0.907714  0.994527  0.999085  0.998512   \n2021-02-03      -2.412390  1.013782  0.932807  0.999080  1.003475  1.002860   \n2021-02-03      66.695442  0.982207  0.968207  1.006410  1.010463  1.009650   \n2021-02-03     104.514498  0.962416  1.013870  1.005200  1.008924  1.007967   \n2021-02-03      55.323461  0.985011  0.985457  1.003720  1.007169  1.006118   \n2021-02-03      13.888412  0.990917  1.019685  0.999606  1.002895  1.001854   \n2021-02-03       6.411374  0.975013  1.649392  0.999246  1.002405  1.001380   \n2021-02-03      -0.323931  0.978912  0.967659  1.000437  1.003443  1.002409   \n2021-02-03       7.081924  1.034255  0.968969  1.000869  1.003716  1.002668   \n\n                ema5   normVol  \nDate                            \n2021-02-02  1.000644  0.000000  \n2021-02-03  1.003628  0.000000  \n2021-02-03  1.005142  0.000000  \n2021-02-03  1.002007  0.000000  \n2021-02-03  0.996243  0.000000  \n2021-02-03  1.000209  0.000000  \n2021-02-03  0.995801  0.000000  \n2021-02-03  0.995466  4.504910  \n2021-02-03  1.000005  1.593204  \n2021-02-03  1.006217  1.371211  \n2021-02-03  1.004256  1.161489  \n2021-02-03  1.002376  0.994326  \n2021-02-03  0.998549  0.993898  \n2021-02-03  0.998479  1.088122  \n2021-02-03  0.999731  0.549871  \n2021-02-03  1.000150  0.000000  ",
      "text/html": "<div>\n<style scoped>\n    .dataframe tbody tr th:only-of-type {\n        vertical-align: middle;\n    }\n\n    .dataframe tbody tr th {\n        vertical-align: top;\n    }\n\n    .dataframe thead th {\n        text-align: right;\n    }\n</style>\n<table border=\"1\" class=\"dataframe\">\n  <thead>\n    <tr style=\"text-align: right;\">\n      <th></th>\n      <th>close</th>\n      <th>14 period RSI</th>\n      <th>MACD</th>\n      <th>SIGNAL</th>\n      <th>14 period STOCH %K</th>\n      <th>MFV</th>\n      <th>14 period ATR</th>\n      <th>MOM</th>\n      <th>14 period MFI</th>\n      <th>ROC</th>\n      <th>20 period CCI</th>\n      <th>VIm</th>\n      <th>VIp</th>\n      <th>ema50</th>\n      <th>ema21</th>\n      <th>ema15</th>\n      <th>ema5</th>\n      <th>normVol</th>\n    </tr>\n    <tr>\n      <th>Date</th>\n      <th></th>\n      <th></th>\n      <th></th>\n      <th></th>\n      <th></th>\n      <th></th>\n      <th></th>\n      <th></th>\n      <th></th>\n      <th></th>\n      <th></th>\n      <th></th>\n      <th></th>\n      <th></th>\n      <th></th>\n      <th></th>\n      <th></th>\n      <th></th>\n    </tr>\n  </thead>\n  <tbody>\n    <tr>\n      <th>2021-02-02</th>\n      <td>266.810000</td>\n      <td>57.971033</td>\n      <td>1.278799</td>\n      <td>1.171498</td>\n      <td>89.582603</td>\n      <td>7.096361e+09</td>\n      <td>3.140577</td>\n      <td>2.620000</td>\n      <td>68.249375</td>\n      <td>0.789513</td>\n      <td>64.506759</td>\n      <td>0.943141</td>\n      <td>1.054358</td>\n      <td>1.000015</td>\n      <td>1.006325</td>\n      <td>1.006353</td>\n      <td>1.000644</td>\n      <td>0.000000</td>\n    </tr>\n    <tr>\n      <th>2021-02-03</th>\n      <td>267.800000</td>\n      <td>61.722199</td>\n      <td>1.285822</td>\n      <td>1.194362</td>\n      <td>94.638089</td>\n      <td>7.096361e+09</td>\n      <td>3.212005</td>\n      <td>1.829999</td>\n      <td>68.249375</td>\n      <td>1.312753</td>\n      <td>81.936182</td>\n      <td>0.907490</td>\n      <td>1.058041</td>\n      <td>1.003652</td>\n      <td>1.009597</td>\n      <td>1.009408</td>\n      <td>1.003628</td>\n      <td>0.000000</td>\n    </tr>\n    <tr>\n      <th>2021-02-03</th>\n      <td>268.480000</td>\n      <td>64.092795</td>\n      <td>1.330916</td>\n      <td>1.221673</td>\n      <td>98.110545</td>\n      <td>7.096361e+09</td>\n      <td>3.184862</td>\n      <td>0.809987</td>\n      <td>68.249375</td>\n      <td>1.623831</td>\n      <td>88.612950</td>\n      <td>0.903113</td>\n      <td>1.080739</td>\n      <td>1.006078</td>\n      <td>1.011602</td>\n      <td>1.011165</td>\n      <td>1.005142</td>\n      <td>0.000000</td>\n    </tr>\n    <tr>\n      <th>2021-02-03</th>\n      <td>267.750000</td>\n      <td>59.810408</td>\n      <td>1.292845</td>\n      <td>1.235907</td>\n      <td>94.382762</td>\n      <td>7.096361e+09</td>\n      <td>3.133434</td>\n      <td>-0.739899</td>\n      <td>68.249375</td>\n      <td>0.669248</td>\n      <td>70.313260</td>\n      <td>0.903347</td>\n      <td>1.085484</td>\n      <td>1.003277</td>\n      <td>1.008445</td>\n      <td>1.007850</td>\n      <td>1.002007</td>\n      <td>0.000000</td>\n    </tr>\n    <tr>\n      <th>2021-02-03</th>\n      <td>266.010000</td>\n      <td>51.054144</td>\n      <td>1.109480</td>\n      <td>1.210622</td>\n      <td>85.497362</td>\n      <td>7.096361e+09</td>\n      <td>3.129148</td>\n      <td>-1.785013</td>\n      <td>68.249375</td>\n      <td>-0.620172</td>\n      <td>12.078953</td>\n      <td>0.910062</td>\n      <td>1.061176</td>\n      <td>0.996821</td>\n      <td>1.001806</td>\n      <td>1.001213</td>\n      <td>0.996243</td>\n      <td>0.000000</td>\n    </tr>\n    <tr>\n      <th>2021-02-03</th>\n      <td>267.080000</td>\n      <td>55.380171</td>\n      <td>1.038532</td>\n      <td>1.176204</td>\n      <td>90.961372</td>\n      <td>7.096361e+09</td>\n      <td>2.974147</td>\n      <td>0.085005</td>\n      <td>54.975329</td>\n      <td>-0.525122</td>\n      <td>24.108965</td>\n      <td>0.982708</td>\n      <td>1.037706</td>\n      <td>1.000814</td>\n      <td>1.005569</td>\n      <td>1.004890</td>\n      <td>1.000209</td>\n      <td>0.000000</td>\n    </tr>\n    <tr>\n      <th>2021-02-03</th>\n      <td>265.680000</td>\n      <td>49.247039</td>\n      <td>0.859429</td>\n      <td>1.112849</td>\n      <td>83.812200</td>\n      <td>7.096361e+09</td>\n      <td>2.906291</td>\n      <td>-2.240013</td>\n      <td>44.633078</td>\n      <td>-0.789788</td>\n      <td>-5.571485</td>\n      <td>0.995330</td>\n      <td>0.995576</td>\n      <td>0.995654</td>\n      <td>1.000284</td>\n      <td>0.999647</td>\n      <td>0.995801</td>\n      <td>0.000000</td>\n    </tr>\n    <tr>\n      <th>2021-02-03</th>\n      <td>265.350006</td>\n      <td>47.900465</td>\n      <td>0.682988</td>\n      <td>1.026877</td>\n      <td>82.127069</td>\n      <td>7.100337e+09</td>\n      <td>3.072727</td>\n      <td>-1.649994</td>\n      <td>16.531615</td>\n      <td>-0.616112</td>\n      <td>-34.240741</td>\n      <td>1.007436</td>\n      <td>0.907714</td>\n      <td>0.994527</td>\n      <td>0.999085</td>\n      <td>0.998512</td>\n      <td>0.995466</td>\n      <td>4.504910</td>\n    </tr>\n    <tr>\n      <th>2021-02-03</th>\n      <td>266.559998</td>\n      <td>52.977572</td>\n      <td>0.633490</td>\n      <td>0.948199</td>\n      <td>89.263150</td>\n      <td>7.102109e+09</td>\n      <td>3.146499</td>\n      <td>-0.760002</td>\n      <td>31.299673</td>\n      <td>-0.507620</td>\n      <td>-2.412390</td>\n      <td>1.013782</td>\n      <td>0.932807</td>\n      <td>0.999080</td>\n      <td>1.003475</td>\n      <td>1.002860</td>\n      <td>1.000005</td>\n      <td>1.593204</td>\n    </tr>\n    <tr>\n      <th>2021-02-03</th>\n      <td>268.549988</td>\n      <td>59.898935</td>\n      <td>0.746237</td>\n      <td>0.907807</td>\n      <td>98.821223</td>\n      <td>7.106133e+09</td>\n      <td>3.211456</td>\n      <td>1.399988</td>\n      <td>44.761254</td>\n      <td>0.580520</td>\n      <td>66.695442</td>\n      <td>0.982207</td>\n      <td>0.968207</td>\n      <td>1.006410</td>\n      <td>1.010463</td>\n      <td>1.009650</td>\n      <td>1.006217</td>\n      <td>1.371211</td>\n    </tr>\n    <tr>\n      <th>2021-02-03</th>\n      <td>268.255005</td>\n      <td>58.523787</td>\n      <td>0.802536</td>\n      <td>0.886753</td>\n      <td>95.259008</td>\n      <td>7.105591e+09</td>\n      <td>3.192886</td>\n      <td>1.445005</td>\n      <td>43.038956</td>\n      <td>0.349770</td>\n      <td>104.514498</td>\n      <td>0.962416</td>\n      <td>1.013870</td>\n      <td>1.005200</td>\n      <td>1.008924</td>\n      <td>1.007967</td>\n      <td>1.004256</td>\n      <td>1.161489</td>\n    </tr>\n    <tr>\n      <th>2021-02-03</th>\n      <td>267.880005</td>\n      <td>56.740414</td>\n      <td>0.807584</td>\n      <td>0.870919</td>\n      <td>93.377677</td>\n      <td>7.106224e+09</td>\n      <td>3.192893</td>\n      <td>0.080005</td>\n      <td>46.379635</td>\n      <td>0.273257</td>\n      <td>55.323461</td>\n      <td>0.985011</td>\n      <td>0.985457</td>\n      <td>1.003720</td>\n      <td>1.007169</td>\n      <td>1.006118</td>\n      <td>1.002376</td>\n      <td>0.994326</td>\n    </tr>\n    <tr>\n      <th>2021-02-03</th>\n      <td>266.779999</td>\n      <td>51.758043</td>\n      <td>0.714587</td>\n      <td>0.839653</td>\n      <td>87.859074</td>\n      <td>7.105184e+09</td>\n      <td>3.066099</td>\n      <td>-1.700001</td>\n      <td>41.509313</td>\n      <td>-0.011244</td>\n      <td>13.888412</td>\n      <td>0.990917</td>\n      <td>1.019685</td>\n      <td>0.999606</td>\n      <td>1.002895</td>\n      <td>1.001854</td>\n      <td>0.998549</td>\n      <td>0.993898</td>\n    </tr>\n    <tr>\n      <th>2021-02-03</th>\n      <td>266.679993</td>\n      <td>51.316859</td>\n      <td>0.625604</td>\n      <td>0.796843</td>\n      <td>52.984849</td>\n      <td>7.104082e+09</td>\n      <td>1.829479</td>\n      <td>-1.070007</td>\n      <td>37.162886</td>\n      <td>-0.418225</td>\n      <td>6.411374</td>\n      <td>0.975013</td>\n      <td>1.649392</td>\n      <td>0.999246</td>\n      <td>1.002405</td>\n      <td>1.001380</td>\n      <td>0.998479</td>\n      <td>1.088122</td>\n    </tr>\n    <tr>\n      <th>2021-02-03</th>\n      <td>267.000000</td>\n      <td>52.706061</td>\n      <td>0.574287</td>\n      <td>0.752332</td>\n      <td>58.955118</td>\n      <td>7.104236e+09</td>\n      <td>1.833136</td>\n      <td>0.990000</td>\n      <td>35.443277</td>\n      <td>-0.551251</td>\n      <td>-0.323931</td>\n      <td>0.978912</td>\n      <td>0.967659</td>\n      <td>1.000437</td>\n      <td>1.003443</td>\n      <td>1.002409</td>\n      <td>0.999731</td>\n      <td>0.549871</td>\n    </tr>\n    <tr>\n      <th>2021-02-03</th>\n      <td>267.120000</td>\n      <td>53.244855</td>\n      <td>0.537109</td>\n      <td>0.709287</td>\n      <td>61.193917</td>\n      <td>7.104236e+09</td>\n      <td>1.772422</td>\n      <td>0.040000</td>\n      <td>35.443277</td>\n      <td>-0.235294</td>\n      <td>7.081924</td>\n      <td>1.034255</td>\n      <td>0.968969</td>\n      <td>1.000869</td>\n      <td>1.003716</td>\n      <td>1.002668</td>\n      <td>1.000150</td>\n      <td>0.000000</td>\n    </tr>\n  </tbody>\n</table>\n</div>"
     },
     "execution_count": 385,
     "metadata": {},
     "output_type": "execute_result"
    }
   ],
   "source": [
    "live_pred_data = data.iloc[-16:]\n",
    "live_pred_data"
   ],
   "metadata": {
    "collapsed": false,
    "pycharm": {
     "name": "#%%\n"
    }
   }
  },
  {
   "cell_type": "code",
   "execution_count": 386,
   "outputs": [],
   "source": [
    "def create_class_column(row):\n",
    "    if row['close_shift']-row['close'] > 0.35:\n",
    "        return 1\n",
    "    if row['close_shift'] -row['close']< -0.35:\n",
    "        return -1\n",
    "    else:\n",
    "        return 0"
   ],
   "metadata": {
    "collapsed": false,
    "pycharm": {
     "name": "#%%\n"
    }
   }
  },
  {
   "cell_type": "code",
   "execution_count": 387,
   "outputs": [
    {
     "data": {
      "text/plain": "                 close  14 period RSI      MACD    SIGNAL  14 period STOCH %K  \\\nDate                                                                            \n2020-02-04  206.400000            NaN  0.000000  0.000000                 NaN   \n2020-02-04  206.390000       0.000000 -0.000224 -0.000125                 NaN   \n2020-02-04  206.340000       0.000000 -0.001836 -0.000826                 NaN   \n2020-02-04  206.300000       0.000000 -0.003969 -0.001891                 NaN   \n2020-02-04  206.070000       0.000000 -0.014196 -0.005551                 NaN   \n...                ...            ...       ...       ...                 ...   \n2021-02-03  267.880005      56.740414  0.807584  0.870919           93.377677   \n2021-02-03  266.779999      51.758043  0.714587  0.839653           87.859074   \n2021-02-03  266.679993      51.316859  0.625604  0.796843           52.984849   \n2021-02-03  267.000000      52.706061  0.574287  0.752332           58.955118   \n2021-02-03  267.120000      53.244855  0.537109  0.709287           61.193917   \n\n                     MFV  14 period ATR       MOM  14 period MFI       ROC  \\\nDate                                                                         \n2020-02-04  0.000000e+00            NaN       NaN            NaN       NaN   \n2020-02-04  0.000000e+00            NaN       NaN            NaN       NaN   \n2020-02-04  0.000000e+00            NaN       NaN            NaN       NaN   \n2020-02-04  0.000000e+00            NaN       NaN            NaN       NaN   \n2020-02-04  0.000000e+00            NaN       NaN            NaN       NaN   \n...                  ...            ...       ...            ...       ...   \n2021-02-03  7.106224e+09       3.192893  0.080005      46.379635  0.273257   \n2021-02-03  7.105184e+09       3.066099 -1.700001      41.509313 -0.011244   \n2021-02-03  7.104082e+09       1.829479 -1.070007      37.162886 -0.418225   \n2021-02-03  7.104236e+09       1.833136  0.990000      35.443277 -0.551251   \n2021-02-03  7.104236e+09       1.772422  0.040000      35.443277 -0.235294   \n\n            20 period CCI       VIm       VIp     ema50     ema21     ema15  \\\nDate                                                                          \n2020-02-04            NaN       NaN       NaN  1.000000  1.000000  1.000000   \n2020-02-04      66.666667       NaN       NaN  0.999976  0.999976  0.999977   \n2020-02-04      -1.694915       NaN       NaN  0.999824  0.999827  0.999829   \n2020-02-04      -9.053498       NaN       NaN  0.999726  0.999731  0.999736   \n2020-02-04    -153.573377       NaN       NaN  0.998900  0.998919  0.998936   \n...                   ...       ...       ...       ...       ...       ...   \n2021-02-03      55.323461  0.985011  0.985457  1.003720  1.007169  1.006118   \n2021-02-03      13.888412  0.990917  1.019685  0.999606  1.002895  1.001854   \n2021-02-03       6.411374  0.975013  1.649392  0.999246  1.002405  1.001380   \n2021-02-03      -0.323931  0.978912  0.967659  1.000437  1.003443  1.002409   \n2021-02-03       7.081924  1.034255  0.968969  1.000869  1.003716  1.002668   \n\n                ema5   normVol  close_shift  \nDate                                         \n2020-02-04  1.000000       NaN   206.390000  \n2020-02-04  0.999978       NaN   206.340000  \n2020-02-04  0.999840       NaN   206.300000  \n2020-02-04  0.999760       NaN   206.070000  \n2020-02-04  0.999023       NaN   206.270000  \n...              ...       ...          ...  \n2021-02-03  1.002376  0.994326   266.779999  \n2021-02-03  0.998549  0.993898   266.679993  \n2021-02-03  0.998479  1.088122   267.000000  \n2021-02-03  0.999731  0.549871   267.120000  \n2021-02-03  1.000150  0.000000          NaN  \n\n[4143 rows x 19 columns]",
      "text/html": "<div>\n<style scoped>\n    .dataframe tbody tr th:only-of-type {\n        vertical-align: middle;\n    }\n\n    .dataframe tbody tr th {\n        vertical-align: top;\n    }\n\n    .dataframe thead th {\n        text-align: right;\n    }\n</style>\n<table border=\"1\" class=\"dataframe\">\n  <thead>\n    <tr style=\"text-align: right;\">\n      <th></th>\n      <th>close</th>\n      <th>14 period RSI</th>\n      <th>MACD</th>\n      <th>SIGNAL</th>\n      <th>14 period STOCH %K</th>\n      <th>MFV</th>\n      <th>14 period ATR</th>\n      <th>MOM</th>\n      <th>14 period MFI</th>\n      <th>ROC</th>\n      <th>20 period CCI</th>\n      <th>VIm</th>\n      <th>VIp</th>\n      <th>ema50</th>\n      <th>ema21</th>\n      <th>ema15</th>\n      <th>ema5</th>\n      <th>normVol</th>\n      <th>close_shift</th>\n    </tr>\n    <tr>\n      <th>Date</th>\n      <th></th>\n      <th></th>\n      <th></th>\n      <th></th>\n      <th></th>\n      <th></th>\n      <th></th>\n      <th></th>\n      <th></th>\n      <th></th>\n      <th></th>\n      <th></th>\n      <th></th>\n      <th></th>\n      <th></th>\n      <th></th>\n      <th></th>\n      <th></th>\n      <th></th>\n    </tr>\n  </thead>\n  <tbody>\n    <tr>\n      <th>2020-02-04</th>\n      <td>206.400000</td>\n      <td>NaN</td>\n      <td>0.000000</td>\n      <td>0.000000</td>\n      <td>NaN</td>\n      <td>0.000000e+00</td>\n      <td>NaN</td>\n      <td>NaN</td>\n      <td>NaN</td>\n      <td>NaN</td>\n      <td>NaN</td>\n      <td>NaN</td>\n      <td>NaN</td>\n      <td>1.000000</td>\n      <td>1.000000</td>\n      <td>1.000000</td>\n      <td>1.000000</td>\n      <td>NaN</td>\n      <td>206.390000</td>\n    </tr>\n    <tr>\n      <th>2020-02-04</th>\n      <td>206.390000</td>\n      <td>0.000000</td>\n      <td>-0.000224</td>\n      <td>-0.000125</td>\n      <td>NaN</td>\n      <td>0.000000e+00</td>\n      <td>NaN</td>\n      <td>NaN</td>\n      <td>NaN</td>\n      <td>NaN</td>\n      <td>66.666667</td>\n      <td>NaN</td>\n      <td>NaN</td>\n      <td>0.999976</td>\n      <td>0.999976</td>\n      <td>0.999977</td>\n      <td>0.999978</td>\n      <td>NaN</td>\n      <td>206.340000</td>\n    </tr>\n    <tr>\n      <th>2020-02-04</th>\n      <td>206.340000</td>\n      <td>0.000000</td>\n      <td>-0.001836</td>\n      <td>-0.000826</td>\n      <td>NaN</td>\n      <td>0.000000e+00</td>\n      <td>NaN</td>\n      <td>NaN</td>\n      <td>NaN</td>\n      <td>NaN</td>\n      <td>-1.694915</td>\n      <td>NaN</td>\n      <td>NaN</td>\n      <td>0.999824</td>\n      <td>0.999827</td>\n      <td>0.999829</td>\n      <td>0.999840</td>\n      <td>NaN</td>\n      <td>206.300000</td>\n    </tr>\n    <tr>\n      <th>2020-02-04</th>\n      <td>206.300000</td>\n      <td>0.000000</td>\n      <td>-0.003969</td>\n      <td>-0.001891</td>\n      <td>NaN</td>\n      <td>0.000000e+00</td>\n      <td>NaN</td>\n      <td>NaN</td>\n      <td>NaN</td>\n      <td>NaN</td>\n      <td>-9.053498</td>\n      <td>NaN</td>\n      <td>NaN</td>\n      <td>0.999726</td>\n      <td>0.999731</td>\n      <td>0.999736</td>\n      <td>0.999760</td>\n      <td>NaN</td>\n      <td>206.070000</td>\n    </tr>\n    <tr>\n      <th>2020-02-04</th>\n      <td>206.070000</td>\n      <td>0.000000</td>\n      <td>-0.014196</td>\n      <td>-0.005551</td>\n      <td>NaN</td>\n      <td>0.000000e+00</td>\n      <td>NaN</td>\n      <td>NaN</td>\n      <td>NaN</td>\n      <td>NaN</td>\n      <td>-153.573377</td>\n      <td>NaN</td>\n      <td>NaN</td>\n      <td>0.998900</td>\n      <td>0.998919</td>\n      <td>0.998936</td>\n      <td>0.999023</td>\n      <td>NaN</td>\n      <td>206.270000</td>\n    </tr>\n    <tr>\n      <th>...</th>\n      <td>...</td>\n      <td>...</td>\n      <td>...</td>\n      <td>...</td>\n      <td>...</td>\n      <td>...</td>\n      <td>...</td>\n      <td>...</td>\n      <td>...</td>\n      <td>...</td>\n      <td>...</td>\n      <td>...</td>\n      <td>...</td>\n      <td>...</td>\n      <td>...</td>\n      <td>...</td>\n      <td>...</td>\n      <td>...</td>\n      <td>...</td>\n    </tr>\n    <tr>\n      <th>2021-02-03</th>\n      <td>267.880005</td>\n      <td>56.740414</td>\n      <td>0.807584</td>\n      <td>0.870919</td>\n      <td>93.377677</td>\n      <td>7.106224e+09</td>\n      <td>3.192893</td>\n      <td>0.080005</td>\n      <td>46.379635</td>\n      <td>0.273257</td>\n      <td>55.323461</td>\n      <td>0.985011</td>\n      <td>0.985457</td>\n      <td>1.003720</td>\n      <td>1.007169</td>\n      <td>1.006118</td>\n      <td>1.002376</td>\n      <td>0.994326</td>\n      <td>266.779999</td>\n    </tr>\n    <tr>\n      <th>2021-02-03</th>\n      <td>266.779999</td>\n      <td>51.758043</td>\n      <td>0.714587</td>\n      <td>0.839653</td>\n      <td>87.859074</td>\n      <td>7.105184e+09</td>\n      <td>3.066099</td>\n      <td>-1.700001</td>\n      <td>41.509313</td>\n      <td>-0.011244</td>\n      <td>13.888412</td>\n      <td>0.990917</td>\n      <td>1.019685</td>\n      <td>0.999606</td>\n      <td>1.002895</td>\n      <td>1.001854</td>\n      <td>0.998549</td>\n      <td>0.993898</td>\n      <td>266.679993</td>\n    </tr>\n    <tr>\n      <th>2021-02-03</th>\n      <td>266.679993</td>\n      <td>51.316859</td>\n      <td>0.625604</td>\n      <td>0.796843</td>\n      <td>52.984849</td>\n      <td>7.104082e+09</td>\n      <td>1.829479</td>\n      <td>-1.070007</td>\n      <td>37.162886</td>\n      <td>-0.418225</td>\n      <td>6.411374</td>\n      <td>0.975013</td>\n      <td>1.649392</td>\n      <td>0.999246</td>\n      <td>1.002405</td>\n      <td>1.001380</td>\n      <td>0.998479</td>\n      <td>1.088122</td>\n      <td>267.000000</td>\n    </tr>\n    <tr>\n      <th>2021-02-03</th>\n      <td>267.000000</td>\n      <td>52.706061</td>\n      <td>0.574287</td>\n      <td>0.752332</td>\n      <td>58.955118</td>\n      <td>7.104236e+09</td>\n      <td>1.833136</td>\n      <td>0.990000</td>\n      <td>35.443277</td>\n      <td>-0.551251</td>\n      <td>-0.323931</td>\n      <td>0.978912</td>\n      <td>0.967659</td>\n      <td>1.000437</td>\n      <td>1.003443</td>\n      <td>1.002409</td>\n      <td>0.999731</td>\n      <td>0.549871</td>\n      <td>267.120000</td>\n    </tr>\n    <tr>\n      <th>2021-02-03</th>\n      <td>267.120000</td>\n      <td>53.244855</td>\n      <td>0.537109</td>\n      <td>0.709287</td>\n      <td>61.193917</td>\n      <td>7.104236e+09</td>\n      <td>1.772422</td>\n      <td>0.040000</td>\n      <td>35.443277</td>\n      <td>-0.235294</td>\n      <td>7.081924</td>\n      <td>1.034255</td>\n      <td>0.968969</td>\n      <td>1.000869</td>\n      <td>1.003716</td>\n      <td>1.002668</td>\n      <td>1.000150</td>\n      <td>0.000000</td>\n      <td>NaN</td>\n    </tr>\n  </tbody>\n</table>\n<p>4143 rows × 19 columns</p>\n</div>"
     },
     "execution_count": 387,
     "metadata": {},
     "output_type": "execute_result"
    }
   ],
   "source": [
    "data['close_shift'] = data.shift(-WINDOW)['close']\n",
    "data"
   ],
   "metadata": {
    "collapsed": false,
    "pycharm": {
     "name": "#%%\n"
    }
   }
  },
  {
   "cell_type": "code",
   "execution_count": 388,
   "outputs": [
    {
     "data": {
      "text/plain": "                 close  14 period RSI      MACD    SIGNAL  14 period STOCH %K  \\\nDate                                                                            \n2020-02-04  206.400000            NaN  0.000000  0.000000                 NaN   \n2020-02-04  206.390000       0.000000 -0.000224 -0.000125                 NaN   \n2020-02-04  206.340000       0.000000 -0.001836 -0.000826                 NaN   \n2020-02-04  206.300000       0.000000 -0.003969 -0.001891                 NaN   \n2020-02-04  206.070000       0.000000 -0.014196 -0.005551                 NaN   \n...                ...            ...       ...       ...                 ...   \n2021-02-03  267.880005      56.740414  0.807584  0.870919           93.377677   \n2021-02-03  266.779999      51.758043  0.714587  0.839653           87.859074   \n2021-02-03  266.679993      51.316859  0.625604  0.796843           52.984849   \n2021-02-03  267.000000      52.706061  0.574287  0.752332           58.955118   \n2021-02-03  267.120000      53.244855  0.537109  0.709287           61.193917   \n\n                     MFV  14 period ATR       MOM  14 period MFI       ROC  \\\nDate                                                                         \n2020-02-04  0.000000e+00            NaN       NaN            NaN       NaN   \n2020-02-04  0.000000e+00            NaN       NaN            NaN       NaN   \n2020-02-04  0.000000e+00            NaN       NaN            NaN       NaN   \n2020-02-04  0.000000e+00            NaN       NaN            NaN       NaN   \n2020-02-04  0.000000e+00            NaN       NaN            NaN       NaN   \n...                  ...            ...       ...            ...       ...   \n2021-02-03  7.106224e+09       3.192893  0.080005      46.379635  0.273257   \n2021-02-03  7.105184e+09       3.066099 -1.700001      41.509313 -0.011244   \n2021-02-03  7.104082e+09       1.829479 -1.070007      37.162886 -0.418225   \n2021-02-03  7.104236e+09       1.833136  0.990000      35.443277 -0.551251   \n2021-02-03  7.104236e+09       1.772422  0.040000      35.443277 -0.235294   \n\n            20 period CCI       VIm       VIp     ema50     ema21     ema15  \\\nDate                                                                          \n2020-02-04            NaN       NaN       NaN  1.000000  1.000000  1.000000   \n2020-02-04      66.666667       NaN       NaN  0.999976  0.999976  0.999977   \n2020-02-04      -1.694915       NaN       NaN  0.999824  0.999827  0.999829   \n2020-02-04      -9.053498       NaN       NaN  0.999726  0.999731  0.999736   \n2020-02-04    -153.573377       NaN       NaN  0.998900  0.998919  0.998936   \n...                   ...       ...       ...       ...       ...       ...   \n2021-02-03      55.323461  0.985011  0.985457  1.003720  1.007169  1.006118   \n2021-02-03      13.888412  0.990917  1.019685  0.999606  1.002895  1.001854   \n2021-02-03       6.411374  0.975013  1.649392  0.999246  1.002405  1.001380   \n2021-02-03      -0.323931  0.978912  0.967659  1.000437  1.003443  1.002409   \n2021-02-03       7.081924  1.034255  0.968969  1.000869  1.003716  1.002668   \n\n                ema5   normVol  close_shift  class_column  \nDate                                                       \n2020-02-04  1.000000       NaN   206.390000             0  \n2020-02-04  0.999978       NaN   206.340000             0  \n2020-02-04  0.999840       NaN   206.300000             0  \n2020-02-04  0.999760       NaN   206.070000             0  \n2020-02-04  0.999023       NaN   206.270000             0  \n...              ...       ...          ...           ...  \n2021-02-03  1.002376  0.994326   266.779999            -1  \n2021-02-03  0.998549  0.993898   266.679993             0  \n2021-02-03  0.998479  1.088122   267.000000             0  \n2021-02-03  0.999731  0.549871   267.120000             0  \n2021-02-03  1.000150  0.000000          NaN             0  \n\n[4143 rows x 20 columns]",
      "text/html": "<div>\n<style scoped>\n    .dataframe tbody tr th:only-of-type {\n        vertical-align: middle;\n    }\n\n    .dataframe tbody tr th {\n        vertical-align: top;\n    }\n\n    .dataframe thead th {\n        text-align: right;\n    }\n</style>\n<table border=\"1\" class=\"dataframe\">\n  <thead>\n    <tr style=\"text-align: right;\">\n      <th></th>\n      <th>close</th>\n      <th>14 period RSI</th>\n      <th>MACD</th>\n      <th>SIGNAL</th>\n      <th>14 period STOCH %K</th>\n      <th>MFV</th>\n      <th>14 period ATR</th>\n      <th>MOM</th>\n      <th>14 period MFI</th>\n      <th>ROC</th>\n      <th>20 period CCI</th>\n      <th>VIm</th>\n      <th>VIp</th>\n      <th>ema50</th>\n      <th>ema21</th>\n      <th>ema15</th>\n      <th>ema5</th>\n      <th>normVol</th>\n      <th>close_shift</th>\n      <th>class_column</th>\n    </tr>\n    <tr>\n      <th>Date</th>\n      <th></th>\n      <th></th>\n      <th></th>\n      <th></th>\n      <th></th>\n      <th></th>\n      <th></th>\n      <th></th>\n      <th></th>\n      <th></th>\n      <th></th>\n      <th></th>\n      <th></th>\n      <th></th>\n      <th></th>\n      <th></th>\n      <th></th>\n      <th></th>\n      <th></th>\n      <th></th>\n    </tr>\n  </thead>\n  <tbody>\n    <tr>\n      <th>2020-02-04</th>\n      <td>206.400000</td>\n      <td>NaN</td>\n      <td>0.000000</td>\n      <td>0.000000</td>\n      <td>NaN</td>\n      <td>0.000000e+00</td>\n      <td>NaN</td>\n      <td>NaN</td>\n      <td>NaN</td>\n      <td>NaN</td>\n      <td>NaN</td>\n      <td>NaN</td>\n      <td>NaN</td>\n      <td>1.000000</td>\n      <td>1.000000</td>\n      <td>1.000000</td>\n      <td>1.000000</td>\n      <td>NaN</td>\n      <td>206.390000</td>\n      <td>0</td>\n    </tr>\n    <tr>\n      <th>2020-02-04</th>\n      <td>206.390000</td>\n      <td>0.000000</td>\n      <td>-0.000224</td>\n      <td>-0.000125</td>\n      <td>NaN</td>\n      <td>0.000000e+00</td>\n      <td>NaN</td>\n      <td>NaN</td>\n      <td>NaN</td>\n      <td>NaN</td>\n      <td>66.666667</td>\n      <td>NaN</td>\n      <td>NaN</td>\n      <td>0.999976</td>\n      <td>0.999976</td>\n      <td>0.999977</td>\n      <td>0.999978</td>\n      <td>NaN</td>\n      <td>206.340000</td>\n      <td>0</td>\n    </tr>\n    <tr>\n      <th>2020-02-04</th>\n      <td>206.340000</td>\n      <td>0.000000</td>\n      <td>-0.001836</td>\n      <td>-0.000826</td>\n      <td>NaN</td>\n      <td>0.000000e+00</td>\n      <td>NaN</td>\n      <td>NaN</td>\n      <td>NaN</td>\n      <td>NaN</td>\n      <td>-1.694915</td>\n      <td>NaN</td>\n      <td>NaN</td>\n      <td>0.999824</td>\n      <td>0.999827</td>\n      <td>0.999829</td>\n      <td>0.999840</td>\n      <td>NaN</td>\n      <td>206.300000</td>\n      <td>0</td>\n    </tr>\n    <tr>\n      <th>2020-02-04</th>\n      <td>206.300000</td>\n      <td>0.000000</td>\n      <td>-0.003969</td>\n      <td>-0.001891</td>\n      <td>NaN</td>\n      <td>0.000000e+00</td>\n      <td>NaN</td>\n      <td>NaN</td>\n      <td>NaN</td>\n      <td>NaN</td>\n      <td>-9.053498</td>\n      <td>NaN</td>\n      <td>NaN</td>\n      <td>0.999726</td>\n      <td>0.999731</td>\n      <td>0.999736</td>\n      <td>0.999760</td>\n      <td>NaN</td>\n      <td>206.070000</td>\n      <td>0</td>\n    </tr>\n    <tr>\n      <th>2020-02-04</th>\n      <td>206.070000</td>\n      <td>0.000000</td>\n      <td>-0.014196</td>\n      <td>-0.005551</td>\n      <td>NaN</td>\n      <td>0.000000e+00</td>\n      <td>NaN</td>\n      <td>NaN</td>\n      <td>NaN</td>\n      <td>NaN</td>\n      <td>-153.573377</td>\n      <td>NaN</td>\n      <td>NaN</td>\n      <td>0.998900</td>\n      <td>0.998919</td>\n      <td>0.998936</td>\n      <td>0.999023</td>\n      <td>NaN</td>\n      <td>206.270000</td>\n      <td>0</td>\n    </tr>\n    <tr>\n      <th>...</th>\n      <td>...</td>\n      <td>...</td>\n      <td>...</td>\n      <td>...</td>\n      <td>...</td>\n      <td>...</td>\n      <td>...</td>\n      <td>...</td>\n      <td>...</td>\n      <td>...</td>\n      <td>...</td>\n      <td>...</td>\n      <td>...</td>\n      <td>...</td>\n      <td>...</td>\n      <td>...</td>\n      <td>...</td>\n      <td>...</td>\n      <td>...</td>\n      <td>...</td>\n    </tr>\n    <tr>\n      <th>2021-02-03</th>\n      <td>267.880005</td>\n      <td>56.740414</td>\n      <td>0.807584</td>\n      <td>0.870919</td>\n      <td>93.377677</td>\n      <td>7.106224e+09</td>\n      <td>3.192893</td>\n      <td>0.080005</td>\n      <td>46.379635</td>\n      <td>0.273257</td>\n      <td>55.323461</td>\n      <td>0.985011</td>\n      <td>0.985457</td>\n      <td>1.003720</td>\n      <td>1.007169</td>\n      <td>1.006118</td>\n      <td>1.002376</td>\n      <td>0.994326</td>\n      <td>266.779999</td>\n      <td>-1</td>\n    </tr>\n    <tr>\n      <th>2021-02-03</th>\n      <td>266.779999</td>\n      <td>51.758043</td>\n      <td>0.714587</td>\n      <td>0.839653</td>\n      <td>87.859074</td>\n      <td>7.105184e+09</td>\n      <td>3.066099</td>\n      <td>-1.700001</td>\n      <td>41.509313</td>\n      <td>-0.011244</td>\n      <td>13.888412</td>\n      <td>0.990917</td>\n      <td>1.019685</td>\n      <td>0.999606</td>\n      <td>1.002895</td>\n      <td>1.001854</td>\n      <td>0.998549</td>\n      <td>0.993898</td>\n      <td>266.679993</td>\n      <td>0</td>\n    </tr>\n    <tr>\n      <th>2021-02-03</th>\n      <td>266.679993</td>\n      <td>51.316859</td>\n      <td>0.625604</td>\n      <td>0.796843</td>\n      <td>52.984849</td>\n      <td>7.104082e+09</td>\n      <td>1.829479</td>\n      <td>-1.070007</td>\n      <td>37.162886</td>\n      <td>-0.418225</td>\n      <td>6.411374</td>\n      <td>0.975013</td>\n      <td>1.649392</td>\n      <td>0.999246</td>\n      <td>1.002405</td>\n      <td>1.001380</td>\n      <td>0.998479</td>\n      <td>1.088122</td>\n      <td>267.000000</td>\n      <td>0</td>\n    </tr>\n    <tr>\n      <th>2021-02-03</th>\n      <td>267.000000</td>\n      <td>52.706061</td>\n      <td>0.574287</td>\n      <td>0.752332</td>\n      <td>58.955118</td>\n      <td>7.104236e+09</td>\n      <td>1.833136</td>\n      <td>0.990000</td>\n      <td>35.443277</td>\n      <td>-0.551251</td>\n      <td>-0.323931</td>\n      <td>0.978912</td>\n      <td>0.967659</td>\n      <td>1.000437</td>\n      <td>1.003443</td>\n      <td>1.002409</td>\n      <td>0.999731</td>\n      <td>0.549871</td>\n      <td>267.120000</td>\n      <td>0</td>\n    </tr>\n    <tr>\n      <th>2021-02-03</th>\n      <td>267.120000</td>\n      <td>53.244855</td>\n      <td>0.537109</td>\n      <td>0.709287</td>\n      <td>61.193917</td>\n      <td>7.104236e+09</td>\n      <td>1.772422</td>\n      <td>0.040000</td>\n      <td>35.443277</td>\n      <td>-0.235294</td>\n      <td>7.081924</td>\n      <td>1.034255</td>\n      <td>0.968969</td>\n      <td>1.000869</td>\n      <td>1.003716</td>\n      <td>1.002668</td>\n      <td>1.000150</td>\n      <td>0.000000</td>\n      <td>NaN</td>\n      <td>0</td>\n    </tr>\n  </tbody>\n</table>\n<p>4143 rows × 20 columns</p>\n</div>"
     },
     "execution_count": 388,
     "metadata": {},
     "output_type": "execute_result"
    }
   ],
   "source": [
    "data['class_column'] = data.apply(create_class_column, axis=1)\n",
    "data"
   ],
   "metadata": {
    "collapsed": false,
    "pycharm": {
     "name": "#%%\n"
    }
   }
  },
  {
   "cell_type": "code",
   "execution_count": 389,
   "outputs": [
    {
     "data": {
      "text/plain": " 1    1418\n 0    1386\n-1    1339\nName: class_column, dtype: int64"
     },
     "execution_count": 389,
     "metadata": {},
     "output_type": "execute_result"
    }
   ],
   "source": [
    "# Class divide\n",
    "data['class_column'].value_counts()"
   ],
   "metadata": {
    "collapsed": false,
    "pycharm": {
     "name": "#%%\n"
    }
   }
  },
  {
   "cell_type": "code",
   "execution_count": 390,
   "outputs": [
    {
     "data": {
      "text/plain": "            14 period RSI      MACD    SIGNAL  14 period STOCH %K  \\\nDate                                                                \n2020-02-04      85.534862  0.476379  0.341800           90.015515   \n2020-02-04      81.181085  0.472696  0.368737           87.519417   \n2020-02-05      89.331673  0.602024  0.416470          100.000000   \n2020-02-05      89.901937  0.710702  0.476396           92.054484   \n2020-02-05      88.025182  0.779162  0.537834           90.919410   \n...                   ...       ...       ...                 ...   \n2021-02-03      58.523787  0.802536  0.886753           95.259008   \n2021-02-03      56.740414  0.807584  0.870919           93.377677   \n2021-02-03      51.758043  0.714587  0.839653           87.859074   \n2021-02-03      51.316859  0.625604  0.796843           52.984849   \n2021-02-03      52.706061  0.574287  0.752332           58.955118   \n\n                     MFV  14 period ATR       MOM  14 period MFI       ROC  \\\nDate                                                                         \n2020-02-04  1.827404e+07       1.546967  3.890000      89.077600  1.754386   \n2020-02-04  1.827404e+07       1.569110  3.530000      89.077600  1.696558   \n2020-02-05  1.827404e+07       1.700539  4.089998      89.077600  2.892221   \n2020-02-05  1.827404e+07       1.744825  4.189297      89.077600  2.923353   \n2020-02-05  1.827404e+07       1.631967  3.169803      89.077600  2.048667   \n...                  ...            ...       ...            ...       ...   \n2021-02-03  7.105591e+09       3.192886  1.445005      43.038956  0.349770   \n2021-02-03  7.106224e+09       3.192893  0.080005      46.379635  0.273257   \n2021-02-03  7.105184e+09       3.066099 -1.700001      41.509313 -0.011244   \n2021-02-03  7.104082e+09       1.829479 -1.070007      37.162886 -0.418225   \n2021-02-03  7.104236e+09       1.833136  0.990000      35.443277 -0.551251   \n\n            20 period CCI       VIm       VIp     ema50     ema21     ema15  \\\nDate                                                                          \n2020-02-04      99.143895  0.830544  1.211474  1.008408  1.007594  1.006930   \n2020-02-04      87.122402  0.821100  1.153863  1.007084  1.006232  1.005544   \n2020-02-05     141.525646  0.764360  1.156673  1.016548  1.015498  1.014642   \n2020-02-05     152.414005  0.735135  1.201003  1.016656  1.015424  1.014419   \n2020-02-05     127.438139  0.754022  1.269176  1.015150  1.013772  1.012653   \n...                   ...       ...       ...       ...       ...       ...   \n2021-02-03     104.514498  0.962416  1.013870  1.005200  1.008924  1.007967   \n2021-02-03      55.323461  0.985011  0.985457  1.003720  1.007169  1.006118   \n2021-02-03      13.888412  0.990917  1.019685  0.999606  1.002895  1.001854   \n2021-02-03       6.411374  0.975013  1.649392  0.999246  1.002405  1.001380   \n2021-02-03      -0.323931  0.978912  0.967659  1.000437  1.003443  1.002409   \n\n                ema5   normVol  close_shift  class_column  \nDate                                                       \n2020-02-04  1.004081  0.000000   209.800000             0  \n2020-02-04  1.002730  0.000000   212.030000             1  \n2020-02-05  1.011026  0.000000   212.300000             0  \n2020-02-05  1.010159  0.000000   212.200000             0  \n2020-02-05  1.008004  0.000000   212.250000             0  \n...              ...       ...          ...           ...  \n2021-02-03  1.004256  1.161489   267.880005            -1  \n2021-02-03  1.002376  0.994326   266.779999            -1  \n2021-02-03  0.998549  0.993898   266.679993             0  \n2021-02-03  0.998479  1.088122   267.000000             0  \n2021-02-03  0.999731  0.549871   267.120000             0  \n\n[4063 rows x 19 columns]",
      "text/html": "<div>\n<style scoped>\n    .dataframe tbody tr th:only-of-type {\n        vertical-align: middle;\n    }\n\n    .dataframe tbody tr th {\n        vertical-align: top;\n    }\n\n    .dataframe thead th {\n        text-align: right;\n    }\n</style>\n<table border=\"1\" class=\"dataframe\">\n  <thead>\n    <tr style=\"text-align: right;\">\n      <th></th>\n      <th>14 period RSI</th>\n      <th>MACD</th>\n      <th>SIGNAL</th>\n      <th>14 period STOCH %K</th>\n      <th>MFV</th>\n      <th>14 period ATR</th>\n      <th>MOM</th>\n      <th>14 period MFI</th>\n      <th>ROC</th>\n      <th>20 period CCI</th>\n      <th>VIm</th>\n      <th>VIp</th>\n      <th>ema50</th>\n      <th>ema21</th>\n      <th>ema15</th>\n      <th>ema5</th>\n      <th>normVol</th>\n      <th>close_shift</th>\n      <th>class_column</th>\n    </tr>\n    <tr>\n      <th>Date</th>\n      <th></th>\n      <th></th>\n      <th></th>\n      <th></th>\n      <th></th>\n      <th></th>\n      <th></th>\n      <th></th>\n      <th></th>\n      <th></th>\n      <th></th>\n      <th></th>\n      <th></th>\n      <th></th>\n      <th></th>\n      <th></th>\n      <th></th>\n      <th></th>\n      <th></th>\n    </tr>\n  </thead>\n  <tbody>\n    <tr>\n      <th>2020-02-04</th>\n      <td>85.534862</td>\n      <td>0.476379</td>\n      <td>0.341800</td>\n      <td>90.015515</td>\n      <td>1.827404e+07</td>\n      <td>1.546967</td>\n      <td>3.890000</td>\n      <td>89.077600</td>\n      <td>1.754386</td>\n      <td>99.143895</td>\n      <td>0.830544</td>\n      <td>1.211474</td>\n      <td>1.008408</td>\n      <td>1.007594</td>\n      <td>1.006930</td>\n      <td>1.004081</td>\n      <td>0.000000</td>\n      <td>209.800000</td>\n      <td>0</td>\n    </tr>\n    <tr>\n      <th>2020-02-04</th>\n      <td>81.181085</td>\n      <td>0.472696</td>\n      <td>0.368737</td>\n      <td>87.519417</td>\n      <td>1.827404e+07</td>\n      <td>1.569110</td>\n      <td>3.530000</td>\n      <td>89.077600</td>\n      <td>1.696558</td>\n      <td>87.122402</td>\n      <td>0.821100</td>\n      <td>1.153863</td>\n      <td>1.007084</td>\n      <td>1.006232</td>\n      <td>1.005544</td>\n      <td>1.002730</td>\n      <td>0.000000</td>\n      <td>212.030000</td>\n      <td>1</td>\n    </tr>\n    <tr>\n      <th>2020-02-05</th>\n      <td>89.331673</td>\n      <td>0.602024</td>\n      <td>0.416470</td>\n      <td>100.000000</td>\n      <td>1.827404e+07</td>\n      <td>1.700539</td>\n      <td>4.089998</td>\n      <td>89.077600</td>\n      <td>2.892221</td>\n      <td>141.525646</td>\n      <td>0.764360</td>\n      <td>1.156673</td>\n      <td>1.016548</td>\n      <td>1.015498</td>\n      <td>1.014642</td>\n      <td>1.011026</td>\n      <td>0.000000</td>\n      <td>212.300000</td>\n      <td>0</td>\n    </tr>\n    <tr>\n      <th>2020-02-05</th>\n      <td>89.901937</td>\n      <td>0.710702</td>\n      <td>0.476396</td>\n      <td>92.054484</td>\n      <td>1.827404e+07</td>\n      <td>1.744825</td>\n      <td>4.189297</td>\n      <td>89.077600</td>\n      <td>2.923353</td>\n      <td>152.414005</td>\n      <td>0.735135</td>\n      <td>1.201003</td>\n      <td>1.016656</td>\n      <td>1.015424</td>\n      <td>1.014419</td>\n      <td>1.010159</td>\n      <td>0.000000</td>\n      <td>212.200000</td>\n      <td>0</td>\n    </tr>\n    <tr>\n      <th>2020-02-05</th>\n      <td>88.025182</td>\n      <td>0.779162</td>\n      <td>0.537834</td>\n      <td>90.919410</td>\n      <td>1.827404e+07</td>\n      <td>1.631967</td>\n      <td>3.169803</td>\n      <td>89.077600</td>\n      <td>2.048667</td>\n      <td>127.438139</td>\n      <td>0.754022</td>\n      <td>1.269176</td>\n      <td>1.015150</td>\n      <td>1.013772</td>\n      <td>1.012653</td>\n      <td>1.008004</td>\n      <td>0.000000</td>\n      <td>212.250000</td>\n      <td>0</td>\n    </tr>\n    <tr>\n      <th>...</th>\n      <td>...</td>\n      <td>...</td>\n      <td>...</td>\n      <td>...</td>\n      <td>...</td>\n      <td>...</td>\n      <td>...</td>\n      <td>...</td>\n      <td>...</td>\n      <td>...</td>\n      <td>...</td>\n      <td>...</td>\n      <td>...</td>\n      <td>...</td>\n      <td>...</td>\n      <td>...</td>\n      <td>...</td>\n      <td>...</td>\n      <td>...</td>\n    </tr>\n    <tr>\n      <th>2021-02-03</th>\n      <td>58.523787</td>\n      <td>0.802536</td>\n      <td>0.886753</td>\n      <td>95.259008</td>\n      <td>7.105591e+09</td>\n      <td>3.192886</td>\n      <td>1.445005</td>\n      <td>43.038956</td>\n      <td>0.349770</td>\n      <td>104.514498</td>\n      <td>0.962416</td>\n      <td>1.013870</td>\n      <td>1.005200</td>\n      <td>1.008924</td>\n      <td>1.007967</td>\n      <td>1.004256</td>\n      <td>1.161489</td>\n      <td>267.880005</td>\n      <td>-1</td>\n    </tr>\n    <tr>\n      <th>2021-02-03</th>\n      <td>56.740414</td>\n      <td>0.807584</td>\n      <td>0.870919</td>\n      <td>93.377677</td>\n      <td>7.106224e+09</td>\n      <td>3.192893</td>\n      <td>0.080005</td>\n      <td>46.379635</td>\n      <td>0.273257</td>\n      <td>55.323461</td>\n      <td>0.985011</td>\n      <td>0.985457</td>\n      <td>1.003720</td>\n      <td>1.007169</td>\n      <td>1.006118</td>\n      <td>1.002376</td>\n      <td>0.994326</td>\n      <td>266.779999</td>\n      <td>-1</td>\n    </tr>\n    <tr>\n      <th>2021-02-03</th>\n      <td>51.758043</td>\n      <td>0.714587</td>\n      <td>0.839653</td>\n      <td>87.859074</td>\n      <td>7.105184e+09</td>\n      <td>3.066099</td>\n      <td>-1.700001</td>\n      <td>41.509313</td>\n      <td>-0.011244</td>\n      <td>13.888412</td>\n      <td>0.990917</td>\n      <td>1.019685</td>\n      <td>0.999606</td>\n      <td>1.002895</td>\n      <td>1.001854</td>\n      <td>0.998549</td>\n      <td>0.993898</td>\n      <td>266.679993</td>\n      <td>0</td>\n    </tr>\n    <tr>\n      <th>2021-02-03</th>\n      <td>51.316859</td>\n      <td>0.625604</td>\n      <td>0.796843</td>\n      <td>52.984849</td>\n      <td>7.104082e+09</td>\n      <td>1.829479</td>\n      <td>-1.070007</td>\n      <td>37.162886</td>\n      <td>-0.418225</td>\n      <td>6.411374</td>\n      <td>0.975013</td>\n      <td>1.649392</td>\n      <td>0.999246</td>\n      <td>1.002405</td>\n      <td>1.001380</td>\n      <td>0.998479</td>\n      <td>1.088122</td>\n      <td>267.000000</td>\n      <td>0</td>\n    </tr>\n    <tr>\n      <th>2021-02-03</th>\n      <td>52.706061</td>\n      <td>0.574287</td>\n      <td>0.752332</td>\n      <td>58.955118</td>\n      <td>7.104236e+09</td>\n      <td>1.833136</td>\n      <td>0.990000</td>\n      <td>35.443277</td>\n      <td>-0.551251</td>\n      <td>-0.323931</td>\n      <td>0.978912</td>\n      <td>0.967659</td>\n      <td>1.000437</td>\n      <td>1.003443</td>\n      <td>1.002409</td>\n      <td>0.999731</td>\n      <td>0.549871</td>\n      <td>267.120000</td>\n      <td>0</td>\n    </tr>\n  </tbody>\n</table>\n<p>4063 rows × 19 columns</p>\n</div>"
     },
     "execution_count": 390,
     "metadata": {},
     "output_type": "execute_result"
    }
   ],
   "source": [
    "del (data['close'])\n",
    "data = data.dropna()\n",
    "data"
   ],
   "metadata": {
    "collapsed": false,
    "pycharm": {
     "name": "#%%\n"
    }
   }
  },
  {
   "cell_type": "code",
   "execution_count": 391,
   "outputs": [],
   "source": [
    "now = datetime.now()\n",
    "data.to_csv(f'../data/preprocess/{symbol}_{now.strftime(\"%d_%m_%Y %H_%M_%S\")}.csv', index=True)\n",
    "live_pred_data.to_csv(f'../data/preprocess/{symbol}_Live_{now.strftime(\"%d_%m_%Y %H_%M_%S\")}.csv', index=True)"
   ],
   "metadata": {
    "collapsed": false,
    "pycharm": {
     "name": "#%%\n"
    }
   }
  },
  {
   "cell_type": "code",
   "execution_count": 392,
   "outputs": [
    {
     "name": "stdout",
     "output_type": "stream",
     "text": [
      "50 150\n",
      "accuracy 0.43333333333333335\n",
      "100 200\n",
      "accuracy 0.6666666666666666\n",
      "150 250\n",
      "accuracy 0.3\n",
      "200 300\n",
      "accuracy 0.6\n",
      "250 350\n",
      "accuracy 0.43333333333333335\n",
      "300 400\n",
      "accuracy 0.43333333333333335\n",
      "350 450\n",
      "accuracy 0.43333333333333335\n",
      "400 500\n",
      "accuracy 0.5\n",
      "450 550\n",
      "accuracy 0.36666666666666664\n",
      "500 600\n",
      "accuracy 0.43333333333333335\n",
      "550 650\n",
      "accuracy 0.4\n",
      "600 700\n",
      "accuracy 0.3\n",
      "650 750\n",
      "accuracy 0.3333333333333333\n",
      "700 800\n",
      "accuracy 0.4666666666666667\n",
      "750 850\n",
      "accuracy 0.26666666666666666\n",
      "800 900\n",
      "accuracy 0.2\n",
      "850 950\n",
      "accuracy 0.23333333333333334\n",
      "900 1000\n",
      "accuracy 0.3\n",
      "950 1050\n",
      "accuracy 0.36666666666666664\n",
      "1000 1100\n",
      "accuracy 0.3333333333333333\n",
      "1050 1150\n",
      "accuracy 0.1\n",
      "1100 1200\n",
      "accuracy 0.23333333333333334\n",
      "1150 1250\n",
      "accuracy 0.3\n",
      "1200 1300\n",
      "accuracy 0.4\n",
      "1250 1350\n",
      "accuracy 0.3\n",
      "1300 1400\n",
      "accuracy 0.36666666666666664\n",
      "1350 1450\n",
      "accuracy 0.26666666666666666\n",
      "1400 1500\n",
      "accuracy 0.36666666666666664\n",
      "1450 1550\n",
      "accuracy 0.16666666666666666\n",
      "1500 1600\n",
      "accuracy 0.4\n",
      "1550 1650\n",
      "accuracy 0.3333333333333333\n",
      "1600 1700\n",
      "accuracy 0.2\n",
      "1650 1750\n",
      "accuracy 0.3\n",
      "1700 1800\n",
      "accuracy 0.4\n",
      "1750 1850\n",
      "accuracy 0.5333333333333333\n",
      "1800 1900\n",
      "accuracy 0.4666666666666667\n",
      "1850 1950\n",
      "accuracy 0.36666666666666664\n",
      "1900 2000\n",
      "accuracy 0.4\n",
      "1950 2050\n",
      "accuracy 0.43333333333333335\n",
      "2000 2100\n",
      "accuracy 0.26666666666666666\n",
      "2050 2150\n",
      "accuracy 0.3333333333333333\n",
      "2100 2200\n",
      "accuracy 0.3\n",
      "2150 2250\n",
      "accuracy 0.43333333333333335\n",
      "2200 2300\n",
      "accuracy 0.3333333333333333\n",
      "2250 2350\n",
      "accuracy 0.3333333333333333\n",
      "2300 2400\n",
      "accuracy 0.3333333333333333\n",
      "2350 2450\n",
      "accuracy 0.3333333333333333\n",
      "2400 2500\n",
      "accuracy 0.6\n",
      "2450 2550\n",
      "accuracy 0.36666666666666664\n",
      "2500 2600\n",
      "accuracy 0.3333333333333333\n",
      "2550 2650\n",
      "accuracy 0.5333333333333333\n",
      "2600 2700\n",
      "accuracy 0.4\n",
      "2650 2750\n",
      "accuracy 0.5\n",
      "2700 2800\n",
      "accuracy 0.3\n",
      "2750 2850\n",
      "accuracy 0.4666666666666667\n",
      "2800 2900\n",
      "accuracy 0.43333333333333335\n",
      "2850 2950\n",
      "accuracy 0.26666666666666666\n",
      "2900 3000\n",
      "accuracy 0.3333333333333333\n",
      "2950 3050\n",
      "accuracy 0.3333333333333333\n",
      "3000 3100\n",
      "accuracy 0.3333333333333333\n",
      "3050 3150\n",
      "accuracy 0.4\n",
      "3100 3200\n",
      "accuracy 0.3333333333333333\n",
      "3150 3250\n",
      "accuracy 0.4\n",
      "3200 3300\n",
      "accuracy 0.5333333333333333\n",
      "3250 3350\n",
      "accuracy 0.5\n",
      "3300 3400\n",
      "accuracy 0.26666666666666666\n",
      "3350 3450\n",
      "accuracy 0.5\n",
      "3400 3500\n",
      "accuracy 0.23333333333333334\n",
      "3450 3550\n",
      "accuracy 0.3333333333333333\n",
      "3500 3600\n",
      "accuracy 0.4\n",
      "3550 3650\n",
      "accuracy 0.23333333333333334\n",
      "3600 3700\n",
      "accuracy 0.4666666666666667\n",
      "3650 3750\n",
      "accuracy 0.3\n",
      "3700 3800\n",
      "accuracy 0.3333333333333333\n",
      "3750 3850\n",
      "accuracy 0.43333333333333335\n",
      "3800 3900\n",
      "accuracy 0.26666666666666666\n",
      "3850 3950\n",
      "accuracy 0.3333333333333333\n",
      "3900 4000\n",
      "accuracy 0.36666666666666664\n",
      "3950 4050\n",
      "accuracy 0.4666666666666667\n",
      "4000 4100\n",
      "accuracy 0.26666666666666666\n",
      "4050 4150\n",
      "accuracy 0.3157894736842105\n",
      "4100 4200\n",
      "RF Accuracy = 0.3664500758068008\n"
     ]
    },
    {
     "name": "stderr",
     "output_type": "stream",
     "text": [
      "C:\\Users\\exomat\\anaconda3\\envs\\magisterka_analiza\\lib\\site-packages\\sklearn\\model_selection\\_split.py:670: UserWarning: The least populated class in y has only 4 members, which is less than n_splits=5.\n",
      "  warnings.warn((\"The least populated class in y has only %d\"\n"
     ]
    }
   ],
   "source": [
    "def _train_random_forest(X_train, y_train, X_test, y_test):\n",
    "\n",
    "    \"\"\"\n",
    "    Function that uses random forest classifier to train the model\n",
    "    :return:\n",
    "    \"\"\"\n",
    "\n",
    "    # Create a new random forest classifier\n",
    "    rf = RandomForestClassifier()\n",
    "\n",
    "    # Dictionary of all values we want to test for n_estimators\n",
    "    params_rf = {'n_estimators': [110,130,140,150,160,180,200]}\n",
    "\n",
    "    # Use gridsearch to test all values for n_estimators\n",
    "    rf_gs = GridSearchCV(rf, params_rf, cv=5)\n",
    "\n",
    "    # Fit model to training data\n",
    "    rf_gs.fit(X_train, y_train)\n",
    "\n",
    "    # Save best model\n",
    "    rf_best = rf_gs.best_estimator_\n",
    "\n",
    "    # Check best n_estimators value\n",
    "    # print(rf_gs.best_params_)\n",
    "\n",
    "    # prediction = rf_best.predict(X_test)\n",
    "    #\n",
    "    # print(classification_report(y_test, prediction))\n",
    "    # print(confusion_matrix(y_test, prediction))\n",
    "\n",
    "    return rf_best\n",
    "\n",
    "def cross_Validation(data):\n",
    "\n",
    "    # Split data into equal partitions of size len_train\n",
    "\n",
    "    num_train = 50 # Increment of how many starting points (len(data) / num_train  =  number of train-test sets)\n",
    "    len_train = 100 # Length of each train-test set\n",
    "\n",
    "    # Lists to store the results from each model\n",
    "    rf_RESULTS = []\n",
    "\n",
    "    i = 0\n",
    "    while True:\n",
    "\n",
    "        # Partition the data into chunks of size len_train every num_train days\n",
    "        df = data.iloc[i * num_train : (i * num_train) + len_train]\n",
    "        i += 1\n",
    "        print(i * num_train, (i * num_train) + len_train)\n",
    "\n",
    "        if len(df) < 40:\n",
    "            break\n",
    "\n",
    "        y = df['class_column']\n",
    "        features = [x for x in df.columns if x not in ['class_column']]\n",
    "        X = df[features]\n",
    "\n",
    "        X_train, X_test, y_train, y_test = train_test_split(X, y, train_size= 7 * len(X) // 10,shuffle=False)\n",
    "\n",
    "        rf_model = _train_random_forest(X_train, y_train, X_test, y_test)\n",
    "\n",
    "        rf_prediction = rf_model.predict(X_test)\n",
    "\n",
    "        # print('rf prediction is ', rf_prediction)\n",
    "        # print('truth values are ', y_test.values)\n",
    "\n",
    "        rf_accuracy = accuracy_score(y_test.values, rf_prediction)\n",
    "\n",
    "        print('accuracy', rf_accuracy)\n",
    "        rf_RESULTS.append(rf_accuracy)\n",
    "\n",
    "\n",
    "    print('RF Accuracy = ' + str( sum(rf_RESULTS) / len(rf_RESULTS)))\n",
    "\n",
    "\n",
    "cross_Validation(data)"
   ],
   "metadata": {
    "collapsed": false,
    "pycharm": {
     "name": "#%%\n"
    }
   }
  }
 ],
 "metadata": {
  "kernelspec": {
   "name": "magisterka_analiza",
   "language": "python",
   "display_name": "Python magisterka"
  },
  "language_info": {
   "codemirror_mode": {
    "name": "ipython",
    "version": 2
   },
   "file_extension": ".py",
   "mimetype": "text/x-python",
   "name": "python",
   "nbconvert_exporter": "python",
   "pygments_lexer": "ipython2",
   "version": "2.7.6"
  }
 },
 "nbformat": 4,
 "nbformat_minor": 0
}