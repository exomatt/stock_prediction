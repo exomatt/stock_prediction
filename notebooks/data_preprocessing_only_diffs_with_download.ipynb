{
 "cells": [
  {
   "cell_type": "code",
   "execution_count": 117,
   "outputs": [],
   "source": [
    "from collections import defaultdict\n",
    "from datetime import datetime\n",
    "import matplotlib.pyplot as plt\n",
    "import pandas as pd\n",
    "import seaborn as sn\n",
    "import yfinance as yf\n",
    "from finta import TA\n",
    "from sklearn.ensemble import RandomForestClassifier, GradientBoostingClassifier\n",
    "from sklearn.model_selection import train_test_split\n",
    "from sklearn.metrics import confusion_matrix, classification_report, accuracy_score\n",
    "from sklearn.tree import DecisionTreeClassifier\n",
    "from tabulate import tabulate\n",
    "from ta import add_all_ta_features"
   ],
   "metadata": {
    "collapsed": false,
    "pycharm": {
     "name": "#%%\n"
    }
   }
  },
  {
   "cell_type": "code",
   "execution_count": 118,
   "outputs": [],
   "source": [
    "WINDOW = 8  # number of rows to look ahead to see what the price did\n",
    "FETCH_INTERVAL = \"60m\"  # fetch data by interval (including intraday if period < 60 days)\n",
    "# valid intervals: 1m,2m,5m,15m,30m,60m,90m,1h,1d,5d,1wk,1mo,3mo\n",
    "# (optional, default is '1d')\n",
    "INTERVAL = '1y'  # use \"period\" instead of start/end\n",
    "# valid periods: 1d,5d,1mo,3mo,6mo,1y,2y,5y,10y,ytd,max\n",
    "# (optional, default is '1mo')\n",
    "symbol = 'AAPL'  # Symbol of the desired stock\n",
    "ROWS_TO_PREDICT = 128\n",
    "# one day 16 rows of data"
   ],
   "metadata": {
    "collapsed": false,
    "pycharm": {
     "name": "#%%\n"
    }
   }
  },
  {
   "cell_type": "code",
   "execution_count": 119,
   "outputs": [
    {
     "name": "stdout",
     "output_type": "stream",
     "text": [
      "[*********************100%***********************]  1 of 1 completed\n"
     ]
    },
    {
     "data": {
      "text/plain": "                                 Open        High         Low       Close  \\\nDatetime                                                                    \n2020-05-11 14:30:00-04:00   78.807503   79.262497   78.802498   79.000000   \n2020-05-11 15:30:00-04:00   78.997498   79.089996   78.747498   78.751251   \n2020-05-11 16:00:00-04:00   78.752500   78.809950   78.642500   78.750000   \n2020-05-11 17:00:00-04:00   78.727500   78.765000   78.690000   78.765000   \n2020-05-11 18:00:00-04:00   78.762500   78.987500   78.737500   78.962500   \n...                               ...         ...         ...         ...   \n2021-05-11 11:30:00-04:00  125.074997  125.724998  124.720001  125.364998   \n2021-05-11 12:30:00-04:00  125.364998  125.870003  124.730003  125.779900   \n2021-05-11 13:30:00-04:00  125.776398  126.269997  125.510101  126.224998   \n2021-05-11 14:30:00-04:00  126.220001  126.220001  125.660004  125.705002   \n2021-05-11 14:40:06-04:00  125.759903  125.759903  125.759903  125.759903   \n\n                            Adj Close    Volume  \nDatetime                                         \n2020-05-11 14:30:00-04:00   79.000000         0  \n2020-05-11 15:30:00-04:00   78.751251   3250843  \n2020-05-11 16:00:00-04:00   78.750000         0  \n2020-05-11 17:00:00-04:00   78.765000         0  \n2020-05-11 18:00:00-04:00   78.962500         0  \n...                               ...       ...  \n2021-05-11 11:30:00-04:00  125.364998  12362473  \n2021-05-11 12:30:00-04:00  125.779900   9225589  \n2021-05-11 13:30:00-04:00  126.224998  10086294  \n2021-05-11 14:30:00-04:00  125.705002   1891841  \n2021-05-11 14:40:06-04:00  125.759903         0  \n\n[4189 rows x 6 columns]",
      "text/html": "<div>\n<style scoped>\n    .dataframe tbody tr th:only-of-type {\n        vertical-align: middle;\n    }\n\n    .dataframe tbody tr th {\n        vertical-align: top;\n    }\n\n    .dataframe thead th {\n        text-align: right;\n    }\n</style>\n<table border=\"1\" class=\"dataframe\">\n  <thead>\n    <tr style=\"text-align: right;\">\n      <th></th>\n      <th>Open</th>\n      <th>High</th>\n      <th>Low</th>\n      <th>Close</th>\n      <th>Adj Close</th>\n      <th>Volume</th>\n    </tr>\n    <tr>\n      <th>Datetime</th>\n      <th></th>\n      <th></th>\n      <th></th>\n      <th></th>\n      <th></th>\n      <th></th>\n    </tr>\n  </thead>\n  <tbody>\n    <tr>\n      <th>2020-05-11 14:30:00-04:00</th>\n      <td>78.807503</td>\n      <td>79.262497</td>\n      <td>78.802498</td>\n      <td>79.000000</td>\n      <td>79.000000</td>\n      <td>0</td>\n    </tr>\n    <tr>\n      <th>2020-05-11 15:30:00-04:00</th>\n      <td>78.997498</td>\n      <td>79.089996</td>\n      <td>78.747498</td>\n      <td>78.751251</td>\n      <td>78.751251</td>\n      <td>3250843</td>\n    </tr>\n    <tr>\n      <th>2020-05-11 16:00:00-04:00</th>\n      <td>78.752500</td>\n      <td>78.809950</td>\n      <td>78.642500</td>\n      <td>78.750000</td>\n      <td>78.750000</td>\n      <td>0</td>\n    </tr>\n    <tr>\n      <th>2020-05-11 17:00:00-04:00</th>\n      <td>78.727500</td>\n      <td>78.765000</td>\n      <td>78.690000</td>\n      <td>78.765000</td>\n      <td>78.765000</td>\n      <td>0</td>\n    </tr>\n    <tr>\n      <th>2020-05-11 18:00:00-04:00</th>\n      <td>78.762500</td>\n      <td>78.987500</td>\n      <td>78.737500</td>\n      <td>78.962500</td>\n      <td>78.962500</td>\n      <td>0</td>\n    </tr>\n    <tr>\n      <th>...</th>\n      <td>...</td>\n      <td>...</td>\n      <td>...</td>\n      <td>...</td>\n      <td>...</td>\n      <td>...</td>\n    </tr>\n    <tr>\n      <th>2021-05-11 11:30:00-04:00</th>\n      <td>125.074997</td>\n      <td>125.724998</td>\n      <td>124.720001</td>\n      <td>125.364998</td>\n      <td>125.364998</td>\n      <td>12362473</td>\n    </tr>\n    <tr>\n      <th>2021-05-11 12:30:00-04:00</th>\n      <td>125.364998</td>\n      <td>125.870003</td>\n      <td>124.730003</td>\n      <td>125.779900</td>\n      <td>125.779900</td>\n      <td>9225589</td>\n    </tr>\n    <tr>\n      <th>2021-05-11 13:30:00-04:00</th>\n      <td>125.776398</td>\n      <td>126.269997</td>\n      <td>125.510101</td>\n      <td>126.224998</td>\n      <td>126.224998</td>\n      <td>10086294</td>\n    </tr>\n    <tr>\n      <th>2021-05-11 14:30:00-04:00</th>\n      <td>126.220001</td>\n      <td>126.220001</td>\n      <td>125.660004</td>\n      <td>125.705002</td>\n      <td>125.705002</td>\n      <td>1891841</td>\n    </tr>\n    <tr>\n      <th>2021-05-11 14:40:06-04:00</th>\n      <td>125.759903</td>\n      <td>125.759903</td>\n      <td>125.759903</td>\n      <td>125.759903</td>\n      <td>125.759903</td>\n      <td>0</td>\n    </tr>\n  </tbody>\n</table>\n<p>4189 rows × 6 columns</p>\n</div>"
     },
     "execution_count": 119,
     "metadata": {},
     "output_type": "execute_result"
    }
   ],
   "source": [
    "data = yf.download(  # or pdr.get_data_yahoo(...\n",
    "        tickers = symbol,\n",
    "\n",
    "\n",
    "        period = INTERVAL,\n",
    "\n",
    "        interval = FETCH_INTERVAL,\n",
    "\n",
    "        # group by ticker (to access via data['SPY'])\n",
    "        # (optional, default is 'column')\n",
    "        group_by = 'ticker',\n",
    "\n",
    "        # adjust all OHLC automatically\n",
    "        # (optional, default is False)\n",
    "        # auto_adjust = True,\n",
    "\n",
    "        # download pre/post regular market hours data\n",
    "        # (optional, default is False)\n",
    "        prepost = True,\n",
    "\n",
    "        # use threads for mass downloading? (True/False/Integer)\n",
    "        # (optional, default is True)\n",
    "        threads = True,\n",
    "\n",
    "        # proxy URL scheme use use when downloading?\n",
    "        # (optional, default is None)\n",
    "        proxy = None\n",
    "    )\n",
    "data"
   ],
   "metadata": {
    "collapsed": false,
    "pycharm": {
     "name": "#%%\n"
    }
   }
  },
  {
   "cell_type": "code",
   "execution_count": 120,
   "outputs": [],
   "source": [
    "data.rename(columns={\"Close\": 'close', \"High\": 'high', \"Low\": 'low', 'Volume': 'volume', 'Open': 'open'}, inplace=True)\n",
    "data.head(10)"
   ],
   "metadata": {
    "collapsed": false,
    "pycharm": {
     "name": "#%%\n"
    }
   }
  },
  {
   "cell_type": "code",
   "execution_count": 121,
   "outputs": [],
   "source": [
    "important_columns = ['open', 'high', 'low','close']\n",
    "\n",
    "def calculate_diffs(diff_number, col_name):\n",
    "    new_col_name = f'{col_name}_{diff_number}'\n",
    "    data[new_col_name] = data[col_name].diff(diff_number)\n",
    "\n",
    "for name in important_columns:\n",
    "    for i in range(1, 30):\n",
    "        calculate_diffs(i, name)"
   ],
   "metadata": {
    "collapsed": false,
    "pycharm": {
     "name": "#%%\n"
    }
   }
  },
  {
   "cell_type": "code",
   "execution_count": 122,
   "outputs": [
    {
     "data": {
      "text/plain": "                                open       high        low      close  \\\nDatetime                                                                \n2020-05-11 14:30:00-04:00  78.807503  79.262497  78.802498  79.000000   \n2020-05-11 15:30:00-04:00  78.997498  79.089996  78.747498  78.751251   \n2020-05-11 16:00:00-04:00  78.752500  78.809950  78.642500  78.750000   \n2020-05-11 17:00:00-04:00  78.727500  78.765000  78.690000  78.765000   \n2020-05-11 18:00:00-04:00  78.762500  78.987500  78.737500  78.962500   \n2020-05-11 19:00:00-04:00  78.962500  78.962500  78.812500  78.817500   \n2020-05-12 04:00:00-04:00  78.802500  78.802500  78.560000  78.575000   \n2020-05-12 05:00:00-04:00  78.650000  78.675000  78.502500  78.502500   \n2020-05-12 06:00:00-04:00  78.600000  78.822500  78.535000  78.822500   \n2020-05-12 07:00:00-04:00  78.887500  79.340000  78.887500  79.277500   \n\n                           Adj Close   volume    open_1    open_2    open_3  \\\nDatetime                                                                      \n2020-05-11 14:30:00-04:00  79.000000        0       NaN       NaN       NaN   \n2020-05-11 15:30:00-04:00  78.751251  3250843  0.189995       NaN       NaN   \n2020-05-11 16:00:00-04:00  78.750000        0 -0.244998 -0.055003       NaN   \n2020-05-11 17:00:00-04:00  78.765000        0 -0.025000 -0.269998 -0.080003   \n2020-05-11 18:00:00-04:00  78.962500        0  0.035000  0.010000 -0.234998   \n2020-05-11 19:00:00-04:00  78.817500        0  0.200000  0.235000  0.210000   \n2020-05-12 04:00:00-04:00  78.575000        0 -0.160000  0.040000  0.075000   \n2020-05-12 05:00:00-04:00  78.502500        0 -0.152500 -0.312500 -0.112500   \n2020-05-12 06:00:00-04:00  78.822500        0 -0.050000 -0.202500 -0.362500   \n2020-05-12 07:00:00-04:00  79.277500        0  0.287500  0.237500  0.085000   \n\n                             open_4  ...  close_20  close_21  close_22  \\\nDatetime                             ...                                 \n2020-05-11 14:30:00-04:00       NaN  ...       NaN       NaN       NaN   \n2020-05-11 15:30:00-04:00       NaN  ...       NaN       NaN       NaN   \n2020-05-11 16:00:00-04:00       NaN  ...       NaN       NaN       NaN   \n2020-05-11 17:00:00-04:00       NaN  ...       NaN       NaN       NaN   \n2020-05-11 18:00:00-04:00 -0.045003  ...       NaN       NaN       NaN   \n2020-05-11 19:00:00-04:00 -0.034998  ...       NaN       NaN       NaN   \n2020-05-12 04:00:00-04:00  0.050000  ...       NaN       NaN       NaN   \n2020-05-12 05:00:00-04:00 -0.077500  ...       NaN       NaN       NaN   \n2020-05-12 06:00:00-04:00 -0.162500  ...       NaN       NaN       NaN   \n2020-05-12 07:00:00-04:00 -0.075000  ...       NaN       NaN       NaN   \n\n                           close_23  close_24  close_25  close_26  close_27  \\\nDatetime                                                                      \n2020-05-11 14:30:00-04:00       NaN       NaN       NaN       NaN       NaN   \n2020-05-11 15:30:00-04:00       NaN       NaN       NaN       NaN       NaN   \n2020-05-11 16:00:00-04:00       NaN       NaN       NaN       NaN       NaN   \n2020-05-11 17:00:00-04:00       NaN       NaN       NaN       NaN       NaN   \n2020-05-11 18:00:00-04:00       NaN       NaN       NaN       NaN       NaN   \n2020-05-11 19:00:00-04:00       NaN       NaN       NaN       NaN       NaN   \n2020-05-12 04:00:00-04:00       NaN       NaN       NaN       NaN       NaN   \n2020-05-12 05:00:00-04:00       NaN       NaN       NaN       NaN       NaN   \n2020-05-12 06:00:00-04:00       NaN       NaN       NaN       NaN       NaN   \n2020-05-12 07:00:00-04:00       NaN       NaN       NaN       NaN       NaN   \n\n                           close_28  close_29  \nDatetime                                       \n2020-05-11 14:30:00-04:00       NaN       NaN  \n2020-05-11 15:30:00-04:00       NaN       NaN  \n2020-05-11 16:00:00-04:00       NaN       NaN  \n2020-05-11 17:00:00-04:00       NaN       NaN  \n2020-05-11 18:00:00-04:00       NaN       NaN  \n2020-05-11 19:00:00-04:00       NaN       NaN  \n2020-05-12 04:00:00-04:00       NaN       NaN  \n2020-05-12 05:00:00-04:00       NaN       NaN  \n2020-05-12 06:00:00-04:00       NaN       NaN  \n2020-05-12 07:00:00-04:00       NaN       NaN  \n\n[10 rows x 122 columns]",
      "text/html": "<div>\n<style scoped>\n    .dataframe tbody tr th:only-of-type {\n        vertical-align: middle;\n    }\n\n    .dataframe tbody tr th {\n        vertical-align: top;\n    }\n\n    .dataframe thead th {\n        text-align: right;\n    }\n</style>\n<table border=\"1\" class=\"dataframe\">\n  <thead>\n    <tr style=\"text-align: right;\">\n      <th></th>\n      <th>open</th>\n      <th>high</th>\n      <th>low</th>\n      <th>close</th>\n      <th>Adj Close</th>\n      <th>volume</th>\n      <th>open_1</th>\n      <th>open_2</th>\n      <th>open_3</th>\n      <th>open_4</th>\n      <th>...</th>\n      <th>close_20</th>\n      <th>close_21</th>\n      <th>close_22</th>\n      <th>close_23</th>\n      <th>close_24</th>\n      <th>close_25</th>\n      <th>close_26</th>\n      <th>close_27</th>\n      <th>close_28</th>\n      <th>close_29</th>\n    </tr>\n    <tr>\n      <th>Datetime</th>\n      <th></th>\n      <th></th>\n      <th></th>\n      <th></th>\n      <th></th>\n      <th></th>\n      <th></th>\n      <th></th>\n      <th></th>\n      <th></th>\n      <th></th>\n      <th></th>\n      <th></th>\n      <th></th>\n      <th></th>\n      <th></th>\n      <th></th>\n      <th></th>\n      <th></th>\n      <th></th>\n      <th></th>\n    </tr>\n  </thead>\n  <tbody>\n    <tr>\n      <th>2020-05-11 14:30:00-04:00</th>\n      <td>78.807503</td>\n      <td>79.262497</td>\n      <td>78.802498</td>\n      <td>79.000000</td>\n      <td>79.000000</td>\n      <td>0</td>\n      <td>NaN</td>\n      <td>NaN</td>\n      <td>NaN</td>\n      <td>NaN</td>\n      <td>...</td>\n      <td>NaN</td>\n      <td>NaN</td>\n      <td>NaN</td>\n      <td>NaN</td>\n      <td>NaN</td>\n      <td>NaN</td>\n      <td>NaN</td>\n      <td>NaN</td>\n      <td>NaN</td>\n      <td>NaN</td>\n    </tr>\n    <tr>\n      <th>2020-05-11 15:30:00-04:00</th>\n      <td>78.997498</td>\n      <td>79.089996</td>\n      <td>78.747498</td>\n      <td>78.751251</td>\n      <td>78.751251</td>\n      <td>3250843</td>\n      <td>0.189995</td>\n      <td>NaN</td>\n      <td>NaN</td>\n      <td>NaN</td>\n      <td>...</td>\n      <td>NaN</td>\n      <td>NaN</td>\n      <td>NaN</td>\n      <td>NaN</td>\n      <td>NaN</td>\n      <td>NaN</td>\n      <td>NaN</td>\n      <td>NaN</td>\n      <td>NaN</td>\n      <td>NaN</td>\n    </tr>\n    <tr>\n      <th>2020-05-11 16:00:00-04:00</th>\n      <td>78.752500</td>\n      <td>78.809950</td>\n      <td>78.642500</td>\n      <td>78.750000</td>\n      <td>78.750000</td>\n      <td>0</td>\n      <td>-0.244998</td>\n      <td>-0.055003</td>\n      <td>NaN</td>\n      <td>NaN</td>\n      <td>...</td>\n      <td>NaN</td>\n      <td>NaN</td>\n      <td>NaN</td>\n      <td>NaN</td>\n      <td>NaN</td>\n      <td>NaN</td>\n      <td>NaN</td>\n      <td>NaN</td>\n      <td>NaN</td>\n      <td>NaN</td>\n    </tr>\n    <tr>\n      <th>2020-05-11 17:00:00-04:00</th>\n      <td>78.727500</td>\n      <td>78.765000</td>\n      <td>78.690000</td>\n      <td>78.765000</td>\n      <td>78.765000</td>\n      <td>0</td>\n      <td>-0.025000</td>\n      <td>-0.269998</td>\n      <td>-0.080003</td>\n      <td>NaN</td>\n      <td>...</td>\n      <td>NaN</td>\n      <td>NaN</td>\n      <td>NaN</td>\n      <td>NaN</td>\n      <td>NaN</td>\n      <td>NaN</td>\n      <td>NaN</td>\n      <td>NaN</td>\n      <td>NaN</td>\n      <td>NaN</td>\n    </tr>\n    <tr>\n      <th>2020-05-11 18:00:00-04:00</th>\n      <td>78.762500</td>\n      <td>78.987500</td>\n      <td>78.737500</td>\n      <td>78.962500</td>\n      <td>78.962500</td>\n      <td>0</td>\n      <td>0.035000</td>\n      <td>0.010000</td>\n      <td>-0.234998</td>\n      <td>-0.045003</td>\n      <td>...</td>\n      <td>NaN</td>\n      <td>NaN</td>\n      <td>NaN</td>\n      <td>NaN</td>\n      <td>NaN</td>\n      <td>NaN</td>\n      <td>NaN</td>\n      <td>NaN</td>\n      <td>NaN</td>\n      <td>NaN</td>\n    </tr>\n    <tr>\n      <th>2020-05-11 19:00:00-04:00</th>\n      <td>78.962500</td>\n      <td>78.962500</td>\n      <td>78.812500</td>\n      <td>78.817500</td>\n      <td>78.817500</td>\n      <td>0</td>\n      <td>0.200000</td>\n      <td>0.235000</td>\n      <td>0.210000</td>\n      <td>-0.034998</td>\n      <td>...</td>\n      <td>NaN</td>\n      <td>NaN</td>\n      <td>NaN</td>\n      <td>NaN</td>\n      <td>NaN</td>\n      <td>NaN</td>\n      <td>NaN</td>\n      <td>NaN</td>\n      <td>NaN</td>\n      <td>NaN</td>\n    </tr>\n    <tr>\n      <th>2020-05-12 04:00:00-04:00</th>\n      <td>78.802500</td>\n      <td>78.802500</td>\n      <td>78.560000</td>\n      <td>78.575000</td>\n      <td>78.575000</td>\n      <td>0</td>\n      <td>-0.160000</td>\n      <td>0.040000</td>\n      <td>0.075000</td>\n      <td>0.050000</td>\n      <td>...</td>\n      <td>NaN</td>\n      <td>NaN</td>\n      <td>NaN</td>\n      <td>NaN</td>\n      <td>NaN</td>\n      <td>NaN</td>\n      <td>NaN</td>\n      <td>NaN</td>\n      <td>NaN</td>\n      <td>NaN</td>\n    </tr>\n    <tr>\n      <th>2020-05-12 05:00:00-04:00</th>\n      <td>78.650000</td>\n      <td>78.675000</td>\n      <td>78.502500</td>\n      <td>78.502500</td>\n      <td>78.502500</td>\n      <td>0</td>\n      <td>-0.152500</td>\n      <td>-0.312500</td>\n      <td>-0.112500</td>\n      <td>-0.077500</td>\n      <td>...</td>\n      <td>NaN</td>\n      <td>NaN</td>\n      <td>NaN</td>\n      <td>NaN</td>\n      <td>NaN</td>\n      <td>NaN</td>\n      <td>NaN</td>\n      <td>NaN</td>\n      <td>NaN</td>\n      <td>NaN</td>\n    </tr>\n    <tr>\n      <th>2020-05-12 06:00:00-04:00</th>\n      <td>78.600000</td>\n      <td>78.822500</td>\n      <td>78.535000</td>\n      <td>78.822500</td>\n      <td>78.822500</td>\n      <td>0</td>\n      <td>-0.050000</td>\n      <td>-0.202500</td>\n      <td>-0.362500</td>\n      <td>-0.162500</td>\n      <td>...</td>\n      <td>NaN</td>\n      <td>NaN</td>\n      <td>NaN</td>\n      <td>NaN</td>\n      <td>NaN</td>\n      <td>NaN</td>\n      <td>NaN</td>\n      <td>NaN</td>\n      <td>NaN</td>\n      <td>NaN</td>\n    </tr>\n    <tr>\n      <th>2020-05-12 07:00:00-04:00</th>\n      <td>78.887500</td>\n      <td>79.340000</td>\n      <td>78.887500</td>\n      <td>79.277500</td>\n      <td>79.277500</td>\n      <td>0</td>\n      <td>0.287500</td>\n      <td>0.237500</td>\n      <td>0.085000</td>\n      <td>-0.075000</td>\n      <td>...</td>\n      <td>NaN</td>\n      <td>NaN</td>\n      <td>NaN</td>\n      <td>NaN</td>\n      <td>NaN</td>\n      <td>NaN</td>\n      <td>NaN</td>\n      <td>NaN</td>\n      <td>NaN</td>\n      <td>NaN</td>\n    </tr>\n  </tbody>\n</table>\n<p>10 rows × 122 columns</p>\n</div>"
     },
     "execution_count": 122,
     "metadata": {},
     "output_type": "execute_result"
    }
   ],
   "source": [
    "for name in important_columns:\n",
    "    for i in range(1, 30):\n",
    "        calculate_diffs(i, name)\n",
    "\n",
    "data.head(10)"
   ],
   "metadata": {
    "collapsed": false,
    "pycharm": {
     "name": "#%%\n"
    }
   }
  },
  {
   "cell_type": "code",
   "execution_count": 123,
   "outputs": [],
   "source": [
    "data = data.dropna()"
   ],
   "metadata": {
    "collapsed": false,
    "pycharm": {
     "name": "#%%\n"
    }
   }
  },
  {
   "cell_type": "code",
   "execution_count": 124,
   "outputs": [
    {
     "data": {
      "text/plain": "<AxesSubplot:xlabel='Datetime'>"
     },
     "execution_count": 124,
     "metadata": {},
     "output_type": "execute_result"
    },
    {
     "data": {
      "text/plain": "<Figure size 432x288 with 1 Axes>",
      "image/png": "[encoded data removed]"
     },
     "metadata": {
      "needs_background": "light"
     },
     "output_type": "display_data"
    }
   ],
   "source": [
    "data['close'].plot()"
   ],
   "metadata": {
    "collapsed": false,
    "pycharm": {
     "name": "#%%\n"
    }
   }
  },
  {
   "cell_type": "code",
   "execution_count": 125,
   "outputs": [
    {
     "name": "stderr",
     "output_type": "stream",
     "text": [
      "<ipython-input-125-b350896b28a2>:1: SettingWithCopyWarning: \n",
      "A value is trying to be set on a copy of a slice from a DataFrame.\n",
      "Try using .loc[row_indexer,col_indexer] = value instead\n",
      "\n",
      "See the caveats in the documentation: https://pandas.pydata.org/pandas-docs/stable/user_guide/indexing.html#returning-a-view-versus-a-copy\n",
      "  data['close_pct'] = data['close'].pct_change()\n"
     ]
    },
    {
     "data": {
      "text/plain": "                                open       high        low      close  \\\nDatetime                                                                \n2020-05-13 09:30:00-04:00  78.037498  78.834976  77.642502  78.782501   \n2020-05-13 10:30:00-04:00  78.787498  78.987503  77.767502  77.984978   \n2020-05-13 11:30:00-04:00  77.985001  78.125000  75.802498  76.611198   \n2020-05-13 12:30:00-04:00  76.617500  77.040001  76.137497  76.374977   \n2020-05-13 13:30:00-04:00  76.367500  76.724998  75.955002  76.417747   \n\n                           Adj Close    volume    open_1    open_2    open_3  \\\nDatetime                                                                       \n2020-05-13 09:30:00-04:00  78.782501  10815742 -0.325002 -0.080002 -0.167502   \n2020-05-13 10:30:00-04:00  77.984978   6802303  0.750000  0.424998  0.669998   \n2020-05-13 11:30:00-04:00  76.611198   9925061 -0.802498 -0.052498 -0.377499   \n2020-05-13 12:30:00-04:00  76.374977   5824206 -1.367500 -2.169998 -1.419998   \n2020-05-13 13:30:00-04:00  76.417747   3984653 -0.250000 -1.617500 -2.419998   \n\n                             open_4  ...  close_21  close_22  close_23  \\\nDatetime                             ...                                 \n2020-05-13 09:30:00-04:00  0.039998  ... -0.039999  0.280001  0.207501   \n2020-05-13 10:30:00-04:00  0.582498  ... -1.292522 -0.837522 -0.517522   \n2020-05-13 11:30:00-04:00 -0.132499  ... -2.788802 -2.666302 -2.211302   \n2020-05-13 12:30:00-04:00 -1.745000  ... -3.100023 -3.025023 -2.902523   \n2020-05-13 13:30:00-04:00 -1.669998  ... -2.874756 -3.057253 -2.982253   \n\n                           close_24  close_25  close_26  close_27  close_28  \\\nDatetime                                                                      \n2020-05-13 09:30:00-04:00 -0.034999 -0.179999  0.017501  0.032501  0.031250   \n2020-05-13 10:30:00-04:00 -0.590022 -0.832522 -0.977522 -0.780022 -0.765022   \n2020-05-13 11:30:00-04:00 -1.891302 -1.963802 -2.206302 -2.351302 -2.153802   \n2020-05-13 12:30:00-04:00 -2.447523 -2.127523 -2.200023 -2.442523 -2.587523   \n2020-05-13 13:30:00-04:00 -2.859753 -2.404753 -2.084753 -2.157253 -2.399753   \n\n                           close_29  close_pct  \nDatetime                                        \n2020-05-13 09:30:00-04:00 -0.217499        NaN  \n2020-05-13 10:30:00-04:00 -0.766273  -0.010123  \n2020-05-13 11:30:00-04:00 -2.138802  -0.017616  \n2020-05-13 12:30:00-04:00 -2.390023  -0.003083  \n2020-05-13 13:30:00-04:00 -2.544753   0.000560  \n\n[5 rows x 123 columns]",
      "text/html": "<div>\n<style scoped>\n    .dataframe tbody tr th:only-of-type {\n        vertical-align: middle;\n    }\n\n    .dataframe tbody tr th {\n        vertical-align: top;\n    }\n\n    .dataframe thead th {\n        text-align: right;\n    }\n</style>\n<table border=\"1\" class=\"dataframe\">\n  <thead>\n    <tr style=\"text-align: right;\">\n      <th></th>\n      <th>open</th>\n      <th>high</th>\n      <th>low</th>\n      <th>close</th>\n      <th>Adj Close</th>\n      <th>volume</th>\n      <th>open_1</th>\n      <th>open_2</th>\n      <th>open_3</th>\n      <th>open_4</th>\n      <th>...</th>\n      <th>close_21</th>\n      <th>close_22</th>\n      <th>close_23</th>\n      <th>close_24</th>\n      <th>close_25</th>\n      <th>close_26</th>\n      <th>close_27</th>\n      <th>close_28</th>\n      <th>close_29</th>\n      <th>close_pct</th>\n    </tr>\n    <tr>\n      <th>Datetime</th>\n      <th></th>\n      <th></th>\n      <th></th>\n      <th></th>\n      <th></th>\n      <th></th>\n      <th></th>\n      <th></th>\n      <th></th>\n      <th></th>\n      <th></th>\n      <th></th>\n      <th></th>\n      <th></th>\n      <th></th>\n      <th></th>\n      <th></th>\n      <th></th>\n      <th></th>\n      <th></th>\n      <th></th>\n    </tr>\n  </thead>\n  <tbody>\n    <tr>\n      <th>2020-05-13 09:30:00-04:00</th>\n      <td>78.037498</td>\n      <td>78.834976</td>\n      <td>77.642502</td>\n      <td>78.782501</td>\n      <td>78.782501</td>\n      <td>10815742</td>\n      <td>-0.325002</td>\n      <td>-0.080002</td>\n      <td>-0.167502</td>\n      <td>0.039998</td>\n      <td>...</td>\n      <td>-0.039999</td>\n      <td>0.280001</td>\n      <td>0.207501</td>\n      <td>-0.034999</td>\n      <td>-0.179999</td>\n      <td>0.017501</td>\n      <td>0.032501</td>\n      <td>0.031250</td>\n      <td>-0.217499</td>\n      <td>NaN</td>\n    </tr>\n    <tr>\n      <th>2020-05-13 10:30:00-04:00</th>\n      <td>78.787498</td>\n      <td>78.987503</td>\n      <td>77.767502</td>\n      <td>77.984978</td>\n      <td>77.984978</td>\n      <td>6802303</td>\n      <td>0.750000</td>\n      <td>0.424998</td>\n      <td>0.669998</td>\n      <td>0.582498</td>\n      <td>...</td>\n      <td>-1.292522</td>\n      <td>-0.837522</td>\n      <td>-0.517522</td>\n      <td>-0.590022</td>\n      <td>-0.832522</td>\n      <td>-0.977522</td>\n      <td>-0.780022</td>\n      <td>-0.765022</td>\n      <td>-0.766273</td>\n      <td>-0.010123</td>\n    </tr>\n    <tr>\n      <th>2020-05-13 11:30:00-04:00</th>\n      <td>77.985001</td>\n      <td>78.125000</td>\n      <td>75.802498</td>\n      <td>76.611198</td>\n      <td>76.611198</td>\n      <td>9925061</td>\n      <td>-0.802498</td>\n      <td>-0.052498</td>\n      <td>-0.377499</td>\n      <td>-0.132499</td>\n      <td>...</td>\n      <td>-2.788802</td>\n      <td>-2.666302</td>\n      <td>-2.211302</td>\n      <td>-1.891302</td>\n      <td>-1.963802</td>\n      <td>-2.206302</td>\n      <td>-2.351302</td>\n      <td>-2.153802</td>\n      <td>-2.138802</td>\n      <td>-0.017616</td>\n    </tr>\n    <tr>\n      <th>2020-05-13 12:30:00-04:00</th>\n      <td>76.617500</td>\n      <td>77.040001</td>\n      <td>76.137497</td>\n      <td>76.374977</td>\n      <td>76.374977</td>\n      <td>5824206</td>\n      <td>-1.367500</td>\n      <td>-2.169998</td>\n      <td>-1.419998</td>\n      <td>-1.745000</td>\n      <td>...</td>\n      <td>-3.100023</td>\n      <td>-3.025023</td>\n      <td>-2.902523</td>\n      <td>-2.447523</td>\n      <td>-2.127523</td>\n      <td>-2.200023</td>\n      <td>-2.442523</td>\n      <td>-2.587523</td>\n      <td>-2.390023</td>\n      <td>-0.003083</td>\n    </tr>\n    <tr>\n      <th>2020-05-13 13:30:00-04:00</th>\n      <td>76.367500</td>\n      <td>76.724998</td>\n      <td>75.955002</td>\n      <td>76.417747</td>\n      <td>76.417747</td>\n      <td>3984653</td>\n      <td>-0.250000</td>\n      <td>-1.617500</td>\n      <td>-2.419998</td>\n      <td>-1.669998</td>\n      <td>...</td>\n      <td>-2.874756</td>\n      <td>-3.057253</td>\n      <td>-2.982253</td>\n      <td>-2.859753</td>\n      <td>-2.404753</td>\n      <td>-2.084753</td>\n      <td>-2.157253</td>\n      <td>-2.399753</td>\n      <td>-2.544753</td>\n      <td>0.000560</td>\n    </tr>\n  </tbody>\n</table>\n<p>5 rows × 123 columns</p>\n</div>"
     },
     "execution_count": 125,
     "metadata": {},
     "output_type": "execute_result"
    }
   ],
   "source": [
    "data['close_pct'] = data['close'].pct_change()\n",
    "data.head()"
   ],
   "metadata": {
    "collapsed": false,
    "pycharm": {
     "name": "#%%\n"
    }
   }
  },
  {
   "cell_type": "code",
   "execution_count": 126,
   "outputs": [
    {
     "data": {
      "text/plain": "              open         high          low        close    Adj Close  \\\ncount  4160.000000  4160.000000  4160.000000  4160.000000  4160.000000   \nmean    115.506279   116.052143   114.863741   115.504484   115.504484   \nstd      16.788223    17.633923    16.741629    16.776054    16.776054   \nmin      75.087502    75.537500    58.360000    75.300000    75.300000   \n25%     109.365625   109.752501   108.664999   109.330940   109.330940   \n50%     119.589998   120.070000   118.798567   119.571949   119.571949   \n75%     128.306245   128.740001   127.632572   128.302502   128.302502   \nmax     144.900000   438.440000   144.590000   144.910000   144.910000   \n\n             volume       open_1       open_2       open_3       open_4  ...  \\\ncount  4.160000e+03  4160.000000  4160.000000  4160.000000  4160.000000  ...   \nmean   5.085870e+06     0.011394     0.022957     0.034392     0.045779  ...   \nstd    8.597976e+06     0.621785     0.865458     1.051043     1.218583  ...   \nmin    0.000000e+00    -6.983299    -6.618202    -7.669999    -7.479998  ...   \n25%    0.000000e+00    -0.230000    -0.335626    -0.439999    -0.530754  ...   \n50%    0.000000e+00     0.010000     0.032500     0.059998     0.095000  ...   \n75%    8.338372e+06     0.270002     0.415437     0.557137     0.660000  ...   \nmax    9.845401e+07     5.901306     6.266403     6.077496     8.195000  ...   \n\n          close_21     close_22     close_23     close_24     close_25  \\\ncount  4160.000000  4160.000000  4160.000000  4160.000000  4160.000000   \nmean      0.237402     0.249397     0.261353     0.273269     0.285497   \nstd       2.858015     2.920499     2.978768     3.036069     3.097343   \nmin     -15.039297   -16.059297   -16.830002   -17.679297   -17.819297   \n25%      -1.302256    -1.341255    -1.380880    -1.385001    -1.399999   \n50%       0.253737     0.230001     0.253749     0.262502     0.270000   \n75%       1.780000     1.840000     1.818126     1.845628     1.862185   \nmax      11.137500    11.580002    12.095001    12.350003    12.625003   \n\n          close_26     close_27     close_28     close_29    close_pct  \ncount  4160.000000  4160.000000  4160.000000  4160.000000  4159.000000  \nmean      0.297769     0.310091     0.322423     0.334634     0.000127  \nstd       3.156758     3.220507     3.278671     3.334515     0.005420  \nmin     -18.480000   -20.380000   -20.490000   -20.090000    -0.051319  \n25%      -1.393648    -1.438676    -1.430000    -1.470576    -0.001888  \n50%       0.300000     0.303543     0.321502     0.322155     0.000100  \n75%       1.893129     1.946249     1.990003     1.980000     0.002273  \nmax      12.825000    12.910000    13.607475    13.789978     0.051457  \n\n[8 rows x 123 columns]",
      "text/html": "<div>\n<style scoped>\n    .dataframe tbody tr th:only-of-type {\n        vertical-align: middle;\n    }\n\n    .dataframe tbody tr th {\n        vertical-align: top;\n    }\n\n    .dataframe thead th {\n        text-align: right;\n    }\n</style>\n<table border=\"1\" class=\"dataframe\">\n  <thead>\n    <tr style=\"text-align: right;\">\n      <th></th>\n      <th>open</th>\n      <th>high</th>\n      <th>low</th>\n      <th>close</th>\n      <th>Adj Close</th>\n      <th>volume</th>\n      <th>open_1</th>\n      <th>open_2</th>\n      <th>open_3</th>\n      <th>open_4</th>\n      <th>...</th>\n      <th>close_21</th>\n      <th>close_22</th>\n      <th>close_23</th>\n      <th>close_24</th>\n      <th>close_25</th>\n      <th>close_26</th>\n      <th>close_27</th>\n      <th>close_28</th>\n      <th>close_29</th>\n      <th>close_pct</th>\n    </tr>\n  </thead>\n  <tbody>\n    <tr>\n      <th>count</th>\n      <td>4160.000000</td>\n      <td>4160.000000</td>\n      <td>4160.000000</td>\n      <td>4160.000000</td>\n      <td>4160.000000</td>\n      <td>4.160000e+03</td>\n      <td>4160.000000</td>\n      <td>4160.000000</td>\n      <td>4160.000000</td>\n      <td>4160.000000</td>\n      <td>...</td>\n      <td>4160.000000</td>\n      <td>4160.000000</td>\n      <td>4160.000000</td>\n      <td>4160.000000</td>\n      <td>4160.000000</td>\n      <td>4160.000000</td>\n      <td>4160.000000</td>\n      <td>4160.000000</td>\n      <td>4160.000000</td>\n      <td>4159.000000</td>\n    </tr>\n    <tr>\n      <th>mean</th>\n      <td>115.506279</td>\n      <td>116.052143</td>\n      <td>114.863741</td>\n      <td>115.504484</td>\n      <td>115.504484</td>\n      <td>5.085870e+06</td>\n      <td>0.011394</td>\n      <td>0.022957</td>\n      <td>0.034392</td>\n      <td>0.045779</td>\n      <td>...</td>\n      <td>0.237402</td>\n      <td>0.249397</td>\n      <td>0.261353</td>\n      <td>0.273269</td>\n      <td>0.285497</td>\n      <td>0.297769</td>\n      <td>0.310091</td>\n      <td>0.322423</td>\n      <td>0.334634</td>\n      <td>0.000127</td>\n    </tr>\n    <tr>\n      <th>std</th>\n      <td>16.788223</td>\n      <td>17.633923</td>\n      <td>16.741629</td>\n      <td>16.776054</td>\n      <td>16.776054</td>\n      <td>8.597976e+06</td>\n      <td>0.621785</td>\n      <td>0.865458</td>\n      <td>1.051043</td>\n      <td>1.218583</td>\n      <td>...</td>\n      <td>2.858015</td>\n      <td>2.920499</td>\n      <td>2.978768</td>\n      <td>3.036069</td>\n      <td>3.097343</td>\n      <td>3.156758</td>\n      <td>3.220507</td>\n      <td>3.278671</td>\n      <td>3.334515</td>\n      <td>0.005420</td>\n    </tr>\n    <tr>\n      <th>min</th>\n      <td>75.087502</td>\n      <td>75.537500</td>\n      <td>58.360000</td>\n      <td>75.300000</td>\n      <td>75.300000</td>\n      <td>0.000000e+00</td>\n      <td>-6.983299</td>\n      <td>-6.618202</td>\n      <td>-7.669999</td>\n      <td>-7.479998</td>\n      <td>...</td>\n      <td>-15.039297</td>\n      <td>-16.059297</td>\n      <td>-16.830002</td>\n      <td>-17.679297</td>\n      <td>-17.819297</td>\n      <td>-18.480000</td>\n      <td>-20.380000</td>\n      <td>-20.490000</td>\n      <td>-20.090000</td>\n      <td>-0.051319</td>\n    </tr>\n    <tr>\n      <th>25%</th>\n      <td>109.365625</td>\n      <td>109.752501</td>\n      <td>108.664999</td>\n      <td>109.330940</td>\n      <td>109.330940</td>\n      <td>0.000000e+00</td>\n      <td>-0.230000</td>\n      <td>-0.335626</td>\n      <td>-0.439999</td>\n      <td>-0.530754</td>\n      <td>...</td>\n      <td>-1.302256</td>\n      <td>-1.341255</td>\n      <td>-1.380880</td>\n      <td>-1.385001</td>\n      <td>-1.399999</td>\n      <td>-1.393648</td>\n      <td>-1.438676</td>\n      <td>-1.430000</td>\n      <td>-1.470576</td>\n      <td>-0.001888</td>\n    </tr>\n    <tr>\n      <th>50%</th>\n      <td>119.589998</td>\n      <td>120.070000</td>\n      <td>118.798567</td>\n      <td>119.571949</td>\n      <td>119.571949</td>\n      <td>0.000000e+00</td>\n      <td>0.010000</td>\n      <td>0.032500</td>\n      <td>0.059998</td>\n      <td>0.095000</td>\n      <td>...</td>\n      <td>0.253737</td>\n      <td>0.230001</td>\n      <td>0.253749</td>\n      <td>0.262502</td>\n      <td>0.270000</td>\n      <td>0.300000</td>\n      <td>0.303543</td>\n      <td>0.321502</td>\n      <td>0.322155</td>\n      <td>0.000100</td>\n    </tr>\n    <tr>\n      <th>75%</th>\n      <td>128.306245</td>\n      <td>128.740001</td>\n      <td>127.632572</td>\n      <td>128.302502</td>\n      <td>128.302502</td>\n      <td>8.338372e+06</td>\n      <td>0.270002</td>\n      <td>0.415437</td>\n      <td>0.557137</td>\n      <td>0.660000</td>\n      <td>...</td>\n      <td>1.780000</td>\n      <td>1.840000</td>\n      <td>1.818126</td>\n      <td>1.845628</td>\n      <td>1.862185</td>\n      <td>1.893129</td>\n      <td>1.946249</td>\n      <td>1.990003</td>\n      <td>1.980000</td>\n      <td>0.002273</td>\n    </tr>\n    <tr>\n      <th>max</th>\n      <td>144.900000</td>\n      <td>438.440000</td>\n      <td>144.590000</td>\n      <td>144.910000</td>\n      <td>144.910000</td>\n      <td>9.845401e+07</td>\n      <td>5.901306</td>\n      <td>6.266403</td>\n      <td>6.077496</td>\n      <td>8.195000</td>\n      <td>...</td>\n      <td>11.137500</td>\n      <td>11.580002</td>\n      <td>12.095001</td>\n      <td>12.350003</td>\n      <td>12.625003</td>\n      <td>12.825000</td>\n      <td>12.910000</td>\n      <td>13.607475</td>\n      <td>13.789978</td>\n      <td>0.051457</td>\n    </tr>\n  </tbody>\n</table>\n<p>8 rows × 123 columns</p>\n</div>"
     },
     "execution_count": 126,
     "metadata": {},
     "output_type": "execute_result"
    }
   ],
   "source": [
    "data.describe()\n",
    "\n",
    "\n"
   ],
   "metadata": {
    "collapsed": false,
    "pycharm": {
     "name": "#%%\n"
    }
   }
  },
  {
   "cell_type": "code",
   "execution_count": 127,
   "outputs": [
    {
     "data": {
      "text/plain": "                                 open        high         low       close  \\\nDatetime                                                                    \n2020-05-13 09:30:00-04:00   78.037498   78.834976   77.642502   78.782501   \n2020-05-13 10:30:00-04:00   78.787498   78.987503   77.767502   77.984978   \n2020-05-13 11:30:00-04:00   77.985001   78.125000   75.802498   76.611198   \n2020-05-13 12:30:00-04:00   76.617500   77.040001   76.137497   76.374977   \n2020-05-13 13:30:00-04:00   76.367500   76.724998   75.955002   76.417747   \n...                               ...         ...         ...         ...   \n2021-05-11 11:30:00-04:00  125.074997  125.724998  124.720001  125.364998   \n2021-05-11 12:30:00-04:00  125.364998  125.870003  124.730003  125.779900   \n2021-05-11 13:30:00-04:00  125.776398  126.269997  125.510101  126.224998   \n2021-05-11 14:30:00-04:00  126.220001  126.220001  125.660004  125.705002   \n2021-05-11 14:40:06-04:00  125.759903  125.759903  125.759903  125.759903   \n\n                            Adj Close    volume    open_1    open_2    open_3  \\\nDatetime                                                                        \n2020-05-13 09:30:00-04:00   78.782501  10815742 -0.325002 -0.080002 -0.167502   \n2020-05-13 10:30:00-04:00   77.984978   6802303  0.750000  0.424998  0.669998   \n2020-05-13 11:30:00-04:00   76.611198   9925061 -0.802498 -0.052498 -0.377499   \n2020-05-13 12:30:00-04:00   76.374977   5824206 -1.367500 -2.169998 -1.419998   \n2020-05-13 13:30:00-04:00   76.417747   3984653 -0.250000 -1.617500 -2.419998   \n...                               ...       ...       ...       ...       ...   \n2021-05-11 11:30:00-04:00  125.364998  12362473  1.625000  1.574997  2.064997   \n2021-05-11 12:30:00-04:00  125.779900   9225589  0.290001  1.915001  1.864998   \n2021-05-11 13:30:00-04:00  126.224998  10086294  0.411400  0.701401  2.326401   \n2021-05-11 14:30:00-04:00  125.705002   1891841  0.443604  0.855003  1.145004   \n2021-05-11 14:40:06-04:00  125.759903         0 -0.460098 -0.016495  0.394905   \n\n                             open_4  ...  close_21  close_22  close_23  \\\nDatetime                             ...                                 \n2020-05-13 09:30:00-04:00  0.039998  ... -0.039999  0.280001  0.207501   \n2020-05-13 10:30:00-04:00  0.582498  ... -1.292522 -0.837522 -0.517522   \n2020-05-13 11:30:00-04:00 -0.132499  ... -2.788802 -2.666302 -2.211302   \n2020-05-13 12:30:00-04:00 -1.745000  ... -3.100023 -3.025023 -2.902523   \n2020-05-13 13:30:00-04:00 -1.669998  ... -2.874756 -3.057253 -2.982253   \n...                             ...  ...       ...       ...       ...   \n2021-05-11 11:30:00-04:00  1.364997  ... -4.455002 -4.645002 -4.685002   \n2021-05-11 12:30:00-04:00  2.354998  ... -4.050100 -4.040100 -4.230100   \n2021-05-11 13:30:00-04:00  2.276398  ... -2.159996 -3.605002 -3.595002   \n2021-05-11 14:30:00-04:00  2.770004  ... -2.610001 -2.679993 -4.124998   \n2021-05-11 14:40:06-04:00  0.684906  ... -2.640091 -2.555099 -2.625092   \n\n                           close_24  close_25  close_26  close_27  close_28  \\\nDatetime                                                                      \n2020-05-13 09:30:00-04:00 -0.034999 -0.179999  0.017501  0.032501  0.031250   \n2020-05-13 10:30:00-04:00 -0.590022 -0.832522 -0.977522 -0.780022 -0.765022   \n2020-05-13 11:30:00-04:00 -1.891302 -1.963802 -2.206302 -2.351302 -2.153802   \n2020-05-13 12:30:00-04:00 -2.447523 -2.127523 -2.200023 -2.442523 -2.587523   \n2020-05-13 13:30:00-04:00 -2.859753 -2.404753 -2.084753 -2.157253 -2.399753   \n...                             ...       ...       ...       ...       ...   \n2021-05-11 11:30:00-04:00 -4.435002 -4.605002 -5.125002 -4.855002 -4.850002   \n2021-05-11 12:30:00-04:00 -4.270100 -4.020100 -4.190100 -4.710100 -4.440100   \n2021-05-11 13:30:00-04:00 -3.785002 -3.825002 -3.575002 -3.745002 -4.265002   \n2021-05-11 14:30:00-04:00 -4.114998 -4.304998 -4.344998 -4.094998 -4.264998   \n2021-05-11 14:40:06-04:00 -4.070097 -4.060097 -4.250097 -4.290097 -4.040097   \n\n                           close_29  close_pct  \nDatetime                                        \n2020-05-13 09:30:00-04:00 -0.217499        NaN  \n2020-05-13 10:30:00-04:00 -0.766273  -0.010123  \n2020-05-13 11:30:00-04:00 -2.138802  -0.017616  \n2020-05-13 12:30:00-04:00 -2.390023  -0.003083  \n2020-05-13 13:30:00-04:00 -2.544753   0.000560  \n...                             ...        ...  \n2021-05-11 11:30:00-04:00 -4.945002   0.002359  \n2021-05-11 12:30:00-04:00 -4.435100   0.003310  \n2021-05-11 13:30:00-04:00 -3.995002   0.003539  \n2021-05-11 14:30:00-04:00 -4.784998  -0.004120  \n2021-05-11 14:40:06-04:00 -4.210097   0.000437  \n\n[4160 rows x 123 columns]",
      "text/html": "<div>\n<style scoped>\n    .dataframe tbody tr th:only-of-type {\n        vertical-align: middle;\n    }\n\n    .dataframe tbody tr th {\n        vertical-align: top;\n    }\n\n    .dataframe thead th {\n        text-align: right;\n    }\n</style>\n<table border=\"1\" class=\"dataframe\">\n  <thead>\n    <tr style=\"text-align: right;\">\n      <th></th>\n      <th>open</th>\n      <th>high</th>\n      <th>low</th>\n      <th>close</th>\n      <th>Adj Close</th>\n      <th>volume</th>\n      <th>open_1</th>\n      <th>open_2</th>\n      <th>open_3</th>\n      <th>open_4</th>\n      <th>...</th>\n      <th>close_21</th>\n      <th>close_22</th>\n      <th>close_23</th>\n      <th>close_24</th>\n      <th>close_25</th>\n      <th>close_26</th>\n      <th>close_27</th>\n      <th>close_28</th>\n      <th>close_29</th>\n      <th>close_pct</th>\n    </tr>\n    <tr>\n      <th>Datetime</th>\n      <th></th>\n      <th></th>\n      <th></th>\n      <th></th>\n      <th></th>\n      <th></th>\n      <th></th>\n      <th></th>\n      <th></th>\n      <th></th>\n      <th></th>\n      <th></th>\n      <th></th>\n      <th></th>\n      <th></th>\n      <th></th>\n      <th></th>\n      <th></th>\n      <th></th>\n      <th></th>\n      <th></th>\n    </tr>\n  </thead>\n  <tbody>\n    <tr>\n      <th>2020-05-13 09:30:00-04:00</th>\n      <td>78.037498</td>\n      <td>78.834976</td>\n      <td>77.642502</td>\n      <td>78.782501</td>\n      <td>78.782501</td>\n      <td>10815742</td>\n      <td>-0.325002</td>\n      <td>-0.080002</td>\n      <td>-0.167502</td>\n      <td>0.039998</td>\n      <td>...</td>\n      <td>-0.039999</td>\n      <td>0.280001</td>\n      <td>0.207501</td>\n      <td>-0.034999</td>\n      <td>-0.179999</td>\n      <td>0.017501</td>\n      <td>0.032501</td>\n      <td>0.031250</td>\n      <td>-0.217499</td>\n      <td>NaN</td>\n    </tr>\n    <tr>\n      <th>2020-05-13 10:30:00-04:00</th>\n      <td>78.787498</td>\n      <td>78.987503</td>\n      <td>77.767502</td>\n      <td>77.984978</td>\n      <td>77.984978</td>\n      <td>6802303</td>\n      <td>0.750000</td>\n      <td>0.424998</td>\n      <td>0.669998</td>\n      <td>0.582498</td>\n      <td>...</td>\n      <td>-1.292522</td>\n      <td>-0.837522</td>\n      <td>-0.517522</td>\n      <td>-0.590022</td>\n      <td>-0.832522</td>\n      <td>-0.977522</td>\n      <td>-0.780022</td>\n      <td>-0.765022</td>\n      <td>-0.766273</td>\n      <td>-0.010123</td>\n    </tr>\n    <tr>\n      <th>2020-05-13 11:30:00-04:00</th>\n      <td>77.985001</td>\n      <td>78.125000</td>\n      <td>75.802498</td>\n      <td>76.611198</td>\n      <td>76.611198</td>\n      <td>9925061</td>\n      <td>-0.802498</td>\n      <td>-0.052498</td>\n      <td>-0.377499</td>\n      <td>-0.132499</td>\n      <td>...</td>\n      <td>-2.788802</td>\n      <td>-2.666302</td>\n      <td>-2.211302</td>\n      <td>-1.891302</td>\n      <td>-1.963802</td>\n      <td>-2.206302</td>\n      <td>-2.351302</td>\n      <td>-2.153802</td>\n      <td>-2.138802</td>\n      <td>-0.017616</td>\n    </tr>\n    <tr>\n      <th>2020-05-13 12:30:00-04:00</th>\n      <td>76.617500</td>\n      <td>77.040001</td>\n      <td>76.137497</td>\n      <td>76.374977</td>\n      <td>76.374977</td>\n      <td>5824206</td>\n      <td>-1.367500</td>\n      <td>-2.169998</td>\n      <td>-1.419998</td>\n      <td>-1.745000</td>\n      <td>...</td>\n      <td>-3.100023</td>\n      <td>-3.025023</td>\n      <td>-2.902523</td>\n      <td>-2.447523</td>\n      <td>-2.127523</td>\n      <td>-2.200023</td>\n      <td>-2.442523</td>\n      <td>-2.587523</td>\n      <td>-2.390023</td>\n      <td>-0.003083</td>\n    </tr>\n    <tr>\n      <th>2020-05-13 13:30:00-04:00</th>\n      <td>76.367500</td>\n      <td>76.724998</td>\n      <td>75.955002</td>\n      <td>76.417747</td>\n      <td>76.417747</td>\n      <td>3984653</td>\n      <td>-0.250000</td>\n      <td>-1.617500</td>\n      <td>-2.419998</td>\n      <td>-1.669998</td>\n      <td>...</td>\n      <td>-2.874756</td>\n      <td>-3.057253</td>\n      <td>-2.982253</td>\n      <td>-2.859753</td>\n      <td>-2.404753</td>\n      <td>-2.084753</td>\n      <td>-2.157253</td>\n      <td>-2.399753</td>\n      <td>-2.544753</td>\n      <td>0.000560</td>\n    </tr>\n    <tr>\n      <th>...</th>\n      <td>...</td>\n      <td>...</td>\n      <td>...</td>\n      <td>...</td>\n      <td>...</td>\n      <td>...</td>\n      <td>...</td>\n      <td>...</td>\n      <td>...</td>\n      <td>...</td>\n      <td>...</td>\n      <td>...</td>\n      <td>...</td>\n      <td>...</td>\n      <td>...</td>\n      <td>...</td>\n      <td>...</td>\n      <td>...</td>\n      <td>...</td>\n      <td>...</td>\n      <td>...</td>\n    </tr>\n    <tr>\n      <th>2021-05-11 11:30:00-04:00</th>\n      <td>125.074997</td>\n      <td>125.724998</td>\n      <td>124.720001</td>\n      <td>125.364998</td>\n      <td>125.364998</td>\n      <td>12362473</td>\n      <td>1.625000</td>\n      <td>1.574997</td>\n      <td>2.064997</td>\n      <td>1.364997</td>\n      <td>...</td>\n      <td>-4.455002</td>\n      <td>-4.645002</td>\n      <td>-4.685002</td>\n      <td>-4.435002</td>\n      <td>-4.605002</td>\n      <td>-5.125002</td>\n      <td>-4.855002</td>\n      <td>-4.850002</td>\n      <td>-4.945002</td>\n      <td>0.002359</td>\n    </tr>\n    <tr>\n      <th>2021-05-11 12:30:00-04:00</th>\n      <td>125.364998</td>\n      <td>125.870003</td>\n      <td>124.730003</td>\n      <td>125.779900</td>\n      <td>125.779900</td>\n      <td>9225589</td>\n      <td>0.290001</td>\n      <td>1.915001</td>\n      <td>1.864998</td>\n      <td>2.354998</td>\n      <td>...</td>\n      <td>-4.050100</td>\n      <td>-4.040100</td>\n      <td>-4.230100</td>\n      <td>-4.270100</td>\n      <td>-4.020100</td>\n      <td>-4.190100</td>\n      <td>-4.710100</td>\n      <td>-4.440100</td>\n      <td>-4.435100</td>\n      <td>0.003310</td>\n    </tr>\n    <tr>\n      <th>2021-05-11 13:30:00-04:00</th>\n      <td>125.776398</td>\n      <td>126.269997</td>\n      <td>125.510101</td>\n      <td>126.224998</td>\n      <td>126.224998</td>\n      <td>10086294</td>\n      <td>0.411400</td>\n      <td>0.701401</td>\n      <td>2.326401</td>\n      <td>2.276398</td>\n      <td>...</td>\n      <td>-2.159996</td>\n      <td>-3.605002</td>\n      <td>-3.595002</td>\n      <td>-3.785002</td>\n      <td>-3.825002</td>\n      <td>-3.575002</td>\n      <td>-3.745002</td>\n      <td>-4.265002</td>\n      <td>-3.995002</td>\n      <td>0.003539</td>\n    </tr>\n    <tr>\n      <th>2021-05-11 14:30:00-04:00</th>\n      <td>126.220001</td>\n      <td>126.220001</td>\n      <td>125.660004</td>\n      <td>125.705002</td>\n      <td>125.705002</td>\n      <td>1891841</td>\n      <td>0.443604</td>\n      <td>0.855003</td>\n      <td>1.145004</td>\n      <td>2.770004</td>\n      <td>...</td>\n      <td>-2.610001</td>\n      <td>-2.679993</td>\n      <td>-4.124998</td>\n      <td>-4.114998</td>\n      <td>-4.304998</td>\n      <td>-4.344998</td>\n      <td>-4.094998</td>\n      <td>-4.264998</td>\n      <td>-4.784998</td>\n      <td>-0.004120</td>\n    </tr>\n    <tr>\n      <th>2021-05-11 14:40:06-04:00</th>\n      <td>125.759903</td>\n      <td>125.759903</td>\n      <td>125.759903</td>\n      <td>125.759903</td>\n      <td>125.759903</td>\n      <td>0</td>\n      <td>-0.460098</td>\n      <td>-0.016495</td>\n      <td>0.394905</td>\n      <td>0.684906</td>\n      <td>...</td>\n      <td>-2.640091</td>\n      <td>-2.555099</td>\n      <td>-2.625092</td>\n      <td>-4.070097</td>\n      <td>-4.060097</td>\n      <td>-4.250097</td>\n      <td>-4.290097</td>\n      <td>-4.040097</td>\n      <td>-4.210097</td>\n      <td>0.000437</td>\n    </tr>\n  </tbody>\n</table>\n<p>4160 rows × 123 columns</p>\n</div>"
     },
     "execution_count": 127,
     "metadata": {},
     "output_type": "execute_result"
    }
   ],
   "source": [
    "data"
   ],
   "metadata": {
    "collapsed": false,
    "pycharm": {
     "name": "#%%\n"
    }
   }
  },
  {
   "cell_type": "code",
   "execution_count": 128,
   "outputs": [
    {
     "data": {
      "text/plain": "Index(['open', 'high', 'low', 'close', 'Adj Close', 'volume', 'open_1',\n       'open_2', 'open_3', 'open_4',\n       ...\n       'close_21', 'close_22', 'close_23', 'close_24', 'close_25', 'close_26',\n       'close_27', 'close_28', 'close_29', 'close_pct'],\n      dtype='object', length=123)"
     },
     "execution_count": 128,
     "metadata": {},
     "output_type": "execute_result"
    }
   ],
   "source": [
    "data.columns"
   ],
   "metadata": {
    "collapsed": false,
    "pycharm": {
     "name": "#%%\n"
    }
   }
  },
  {
   "cell_type": "code",
   "execution_count": 129,
   "outputs": [],
   "source": [
    "def create_class_column(row, lowest_threshold, higher_threshold):\n",
    "    if row['close_shift'] - row['close'] > higher_threshold:\n",
    "        return 1\n",
    "    if row['close_shift'] - row['close'] < lowest_threshold:\n",
    "        return -1\n",
    "    else:\n",
    "        return 0"
   ],
   "metadata": {
    "collapsed": false,
    "pycharm": {
     "name": "#%%\n"
    }
   }
  },
  {
   "cell_type": "code",
   "execution_count": 130,
   "outputs": [
    {
     "name": "stderr",
     "output_type": "stream",
     "text": [
      "<ipython-input-130-f6ee39db52be>:1: SettingWithCopyWarning: \n",
      "A value is trying to be set on a copy of a slice from a DataFrame.\n",
      "Try using .loc[row_indexer,col_indexer] = value instead\n",
      "\n",
      "See the caveats in the documentation: https://pandas.pydata.org/pandas-docs/stable/user_guide/indexing.html#returning-a-view-versus-a-copy\n",
      "  data['close_shift'] = data.shift(-WINDOW)['close']\n"
     ]
    },
    {
     "data": {
      "text/plain": "                                 open        high         low       close  \\\nDatetime                                                                    \n2020-05-13 09:30:00-04:00   78.037498   78.834976   77.642502   78.782501   \n2020-05-13 10:30:00-04:00   78.787498   78.987503   77.767502   77.984978   \n2020-05-13 11:30:00-04:00   77.985001   78.125000   75.802498   76.611198   \n2020-05-13 12:30:00-04:00   76.617500   77.040001   76.137497   76.374977   \n2020-05-13 13:30:00-04:00   76.367500   76.724998   75.955002   76.417747   \n...                               ...         ...         ...         ...   \n2021-05-11 11:30:00-04:00  125.074997  125.724998  124.720001  125.364998   \n2021-05-11 12:30:00-04:00  125.364998  125.870003  124.730003  125.779900   \n2021-05-11 13:30:00-04:00  125.776398  126.269997  125.510101  126.224998   \n2021-05-11 14:30:00-04:00  126.220001  126.220001  125.660004  125.705002   \n2021-05-11 14:40:06-04:00  125.759903  125.759903  125.759903  125.759903   \n\n                            Adj Close    volume    open_1    open_2    open_3  \\\nDatetime                                                                        \n2020-05-13 09:30:00-04:00   78.782501  10815742 -0.325002 -0.080002 -0.167502   \n2020-05-13 10:30:00-04:00   77.984978   6802303  0.750000  0.424998  0.669998   \n2020-05-13 11:30:00-04:00   76.611198   9925061 -0.802498 -0.052498 -0.377499   \n2020-05-13 12:30:00-04:00   76.374977   5824206 -1.367500 -2.169998 -1.419998   \n2020-05-13 13:30:00-04:00   76.417747   3984653 -0.250000 -1.617500 -2.419998   \n...                               ...       ...       ...       ...       ...   \n2021-05-11 11:30:00-04:00  125.364998  12362473  1.625000  1.574997  2.064997   \n2021-05-11 12:30:00-04:00  125.779900   9225589  0.290001  1.915001  1.864998   \n2021-05-11 13:30:00-04:00  126.224998  10086294  0.411400  0.701401  2.326401   \n2021-05-11 14:30:00-04:00  125.705002   1891841  0.443604  0.855003  1.145004   \n2021-05-11 14:40:06-04:00  125.759903         0 -0.460098 -0.016495  0.394905   \n\n                             open_4  ...  close_22  close_23  close_24  \\\nDatetime                             ...                                 \n2020-05-13 09:30:00-04:00  0.039998  ...  0.280001  0.207501 -0.034999   \n2020-05-13 10:30:00-04:00  0.582498  ... -0.837522 -0.517522 -0.590022   \n2020-05-13 11:30:00-04:00 -0.132499  ... -2.666302 -2.211302 -1.891302   \n2020-05-13 12:30:00-04:00 -1.745000  ... -3.025023 -2.902523 -2.447523   \n2020-05-13 13:30:00-04:00 -1.669998  ... -3.057253 -2.982253 -2.859753   \n...                             ...  ...       ...       ...       ...   \n2021-05-11 11:30:00-04:00  1.364997  ... -4.645002 -4.685002 -4.435002   \n2021-05-11 12:30:00-04:00  2.354998  ... -4.040100 -4.230100 -4.270100   \n2021-05-11 13:30:00-04:00  2.276398  ... -3.605002 -3.595002 -3.785002   \n2021-05-11 14:30:00-04:00  2.770004  ... -2.679993 -4.124998 -4.114998   \n2021-05-11 14:40:06-04:00  0.684906  ... -2.555099 -2.625092 -4.070097   \n\n                           close_25  close_26  close_27  close_28  close_29  \\\nDatetime                                                                      \n2020-05-13 09:30:00-04:00 -0.179999  0.017501  0.032501  0.031250 -0.217499   \n2020-05-13 10:30:00-04:00 -0.832522 -0.977522 -0.780022 -0.765022 -0.766273   \n2020-05-13 11:30:00-04:00 -1.963802 -2.206302 -2.351302 -2.153802 -2.138802   \n2020-05-13 12:30:00-04:00 -2.127523 -2.200023 -2.442523 -2.587523 -2.390023   \n2020-05-13 13:30:00-04:00 -2.404753 -2.084753 -2.157253 -2.399753 -2.544753   \n...                             ...       ...       ...       ...       ...   \n2021-05-11 11:30:00-04:00 -4.605002 -5.125002 -4.855002 -4.850002 -4.945002   \n2021-05-11 12:30:00-04:00 -4.020100 -4.190100 -4.710100 -4.440100 -4.435100   \n2021-05-11 13:30:00-04:00 -3.825002 -3.575002 -3.745002 -4.265002 -3.995002   \n2021-05-11 14:30:00-04:00 -4.304998 -4.344998 -4.094998 -4.264998 -4.784998   \n2021-05-11 14:40:06-04:00 -4.060097 -4.250097 -4.290097 -4.040097 -4.210097   \n\n                           close_pct  close_shift  \nDatetime                                           \n2020-05-13 09:30:00-04:00        NaN      77.1675  \n2020-05-13 10:30:00-04:00  -0.010123      77.1375  \n2020-05-13 11:30:00-04:00  -0.017616      77.2875  \n2020-05-13 12:30:00-04:00  -0.003083      76.9200  \n2020-05-13 13:30:00-04:00   0.000560      77.0000  \n...                              ...          ...  \n2021-05-11 11:30:00-04:00   0.002359          NaN  \n2021-05-11 12:30:00-04:00   0.003310          NaN  \n2021-05-11 13:30:00-04:00   0.003539          NaN  \n2021-05-11 14:30:00-04:00  -0.004120          NaN  \n2021-05-11 14:40:06-04:00   0.000437          NaN  \n\n[4160 rows x 124 columns]",
      "text/html": "<div>\n<style scoped>\n    .dataframe tbody tr th:only-of-type {\n        vertical-align: middle;\n    }\n\n    .dataframe tbody tr th {\n        vertical-align: top;\n    }\n\n    .dataframe thead th {\n        text-align: right;\n    }\n</style>\n<table border=\"1\" class=\"dataframe\">\n  <thead>\n    <tr style=\"text-align: right;\">\n      <th></th>\n      <th>open</th>\n      <th>high</th>\n      <th>low</th>\n      <th>close</th>\n      <th>Adj Close</th>\n      <th>volume</th>\n      <th>open_1</th>\n      <th>open_2</th>\n      <th>open_3</th>\n      <th>open_4</th>\n      <th>...</th>\n      <th>close_22</th>\n      <th>close_23</th>\n      <th>close_24</th>\n      <th>close_25</th>\n      <th>close_26</th>\n      <th>close_27</th>\n      <th>close_28</th>\n      <th>close_29</th>\n      <th>close_pct</th>\n      <th>close_shift</th>\n    </tr>\n    <tr>\n      <th>Datetime</th>\n      <th></th>\n      <th></th>\n      <th></th>\n      <th></th>\n      <th></th>\n      <th></th>\n      <th></th>\n      <th></th>\n      <th></th>\n      <th></th>\n      <th></th>\n      <th></th>\n      <th></th>\n      <th></th>\n      <th></th>\n      <th></th>\n      <th></th>\n      <th></th>\n      <th></th>\n      <th></th>\n      <th></th>\n    </tr>\n  </thead>\n  <tbody>\n    <tr>\n      <th>2020-05-13 09:30:00-04:00</th>\n      <td>78.037498</td>\n      <td>78.834976</td>\n      <td>77.642502</td>\n      <td>78.782501</td>\n      <td>78.782501</td>\n      <td>10815742</td>\n      <td>-0.325002</td>\n      <td>-0.080002</td>\n      <td>-0.167502</td>\n      <td>0.039998</td>\n      <td>...</td>\n      <td>0.280001</td>\n      <td>0.207501</td>\n      <td>-0.034999</td>\n      <td>-0.179999</td>\n      <td>0.017501</td>\n      <td>0.032501</td>\n      <td>0.031250</td>\n      <td>-0.217499</td>\n      <td>NaN</td>\n      <td>77.1675</td>\n    </tr>\n    <tr>\n      <th>2020-05-13 10:30:00-04:00</th>\n      <td>78.787498</td>\n      <td>78.987503</td>\n      <td>77.767502</td>\n      <td>77.984978</td>\n      <td>77.984978</td>\n      <td>6802303</td>\n      <td>0.750000</td>\n      <td>0.424998</td>\n      <td>0.669998</td>\n      <td>0.582498</td>\n      <td>...</td>\n      <td>-0.837522</td>\n      <td>-0.517522</td>\n      <td>-0.590022</td>\n      <td>-0.832522</td>\n      <td>-0.977522</td>\n      <td>-0.780022</td>\n      <td>-0.765022</td>\n      <td>-0.766273</td>\n      <td>-0.010123</td>\n      <td>77.1375</td>\n    </tr>\n    <tr>\n      <th>2020-05-13 11:30:00-04:00</th>\n      <td>77.985001</td>\n      <td>78.125000</td>\n      <td>75.802498</td>\n      <td>76.611198</td>\n      <td>76.611198</td>\n      <td>9925061</td>\n      <td>-0.802498</td>\n      <td>-0.052498</td>\n      <td>-0.377499</td>\n      <td>-0.132499</td>\n      <td>...</td>\n      <td>-2.666302</td>\n      <td>-2.211302</td>\n      <td>-1.891302</td>\n      <td>-1.963802</td>\n      <td>-2.206302</td>\n      <td>-2.351302</td>\n      <td>-2.153802</td>\n      <td>-2.138802</td>\n      <td>-0.017616</td>\n      <td>77.2875</td>\n    </tr>\n    <tr>\n      <th>2020-05-13 12:30:00-04:00</th>\n      <td>76.617500</td>\n      <td>77.040001</td>\n      <td>76.137497</td>\n      <td>76.374977</td>\n      <td>76.374977</td>\n      <td>5824206</td>\n      <td>-1.367500</td>\n      <td>-2.169998</td>\n      <td>-1.419998</td>\n      <td>-1.745000</td>\n      <td>...</td>\n      <td>-3.025023</td>\n      <td>-2.902523</td>\n      <td>-2.447523</td>\n      <td>-2.127523</td>\n      <td>-2.200023</td>\n      <td>-2.442523</td>\n      <td>-2.587523</td>\n      <td>-2.390023</td>\n      <td>-0.003083</td>\n      <td>76.9200</td>\n    </tr>\n    <tr>\n      <th>2020-05-13 13:30:00-04:00</th>\n      <td>76.367500</td>\n      <td>76.724998</td>\n      <td>75.955002</td>\n      <td>76.417747</td>\n      <td>76.417747</td>\n      <td>3984653</td>\n      <td>-0.250000</td>\n      <td>-1.617500</td>\n      <td>-2.419998</td>\n      <td>-1.669998</td>\n      <td>...</td>\n      <td>-3.057253</td>\n      <td>-2.982253</td>\n      <td>-2.859753</td>\n      <td>-2.404753</td>\n      <td>-2.084753</td>\n      <td>-2.157253</td>\n      <td>-2.399753</td>\n      <td>-2.544753</td>\n      <td>0.000560</td>\n      <td>77.0000</td>\n    </tr>\n    <tr>\n      <th>...</th>\n      <td>...</td>\n      <td>...</td>\n      <td>...</td>\n      <td>...</td>\n      <td>...</td>\n      <td>...</td>\n      <td>...</td>\n      <td>...</td>\n      <td>...</td>\n      <td>...</td>\n      <td>...</td>\n      <td>...</td>\n      <td>...</td>\n      <td>...</td>\n      <td>...</td>\n      <td>...</td>\n      <td>...</td>\n      <td>...</td>\n      <td>...</td>\n      <td>...</td>\n      <td>...</td>\n    </tr>\n    <tr>\n      <th>2021-05-11 11:30:00-04:00</th>\n      <td>125.074997</td>\n      <td>125.724998</td>\n      <td>124.720001</td>\n      <td>125.364998</td>\n      <td>125.364998</td>\n      <td>12362473</td>\n      <td>1.625000</td>\n      <td>1.574997</td>\n      <td>2.064997</td>\n      <td>1.364997</td>\n      <td>...</td>\n      <td>-4.645002</td>\n      <td>-4.685002</td>\n      <td>-4.435002</td>\n      <td>-4.605002</td>\n      <td>-5.125002</td>\n      <td>-4.855002</td>\n      <td>-4.850002</td>\n      <td>-4.945002</td>\n      <td>0.002359</td>\n      <td>NaN</td>\n    </tr>\n    <tr>\n      <th>2021-05-11 12:30:00-04:00</th>\n      <td>125.364998</td>\n      <td>125.870003</td>\n      <td>124.730003</td>\n      <td>125.779900</td>\n      <td>125.779900</td>\n      <td>9225589</td>\n      <td>0.290001</td>\n      <td>1.915001</td>\n      <td>1.864998</td>\n      <td>2.354998</td>\n      <td>...</td>\n      <td>-4.040100</td>\n      <td>-4.230100</td>\n      <td>-4.270100</td>\n      <td>-4.020100</td>\n      <td>-4.190100</td>\n      <td>-4.710100</td>\n      <td>-4.440100</td>\n      <td>-4.435100</td>\n      <td>0.003310</td>\n      <td>NaN</td>\n    </tr>\n    <tr>\n      <th>2021-05-11 13:30:00-04:00</th>\n      <td>125.776398</td>\n      <td>126.269997</td>\n      <td>125.510101</td>\n      <td>126.224998</td>\n      <td>126.224998</td>\n      <td>10086294</td>\n      <td>0.411400</td>\n      <td>0.701401</td>\n      <td>2.326401</td>\n      <td>2.276398</td>\n      <td>...</td>\n      <td>-3.605002</td>\n      <td>-3.595002</td>\n      <td>-3.785002</td>\n      <td>-3.825002</td>\n      <td>-3.575002</td>\n      <td>-3.745002</td>\n      <td>-4.265002</td>\n      <td>-3.995002</td>\n      <td>0.003539</td>\n      <td>NaN</td>\n    </tr>\n    <tr>\n      <th>2021-05-11 14:30:00-04:00</th>\n      <td>126.220001</td>\n      <td>126.220001</td>\n      <td>125.660004</td>\n      <td>125.705002</td>\n      <td>125.705002</td>\n      <td>1891841</td>\n      <td>0.443604</td>\n      <td>0.855003</td>\n      <td>1.145004</td>\n      <td>2.770004</td>\n      <td>...</td>\n      <td>-2.679993</td>\n      <td>-4.124998</td>\n      <td>-4.114998</td>\n      <td>-4.304998</td>\n      <td>-4.344998</td>\n      <td>-4.094998</td>\n      <td>-4.264998</td>\n      <td>-4.784998</td>\n      <td>-0.004120</td>\n      <td>NaN</td>\n    </tr>\n    <tr>\n      <th>2021-05-11 14:40:06-04:00</th>\n      <td>125.759903</td>\n      <td>125.759903</td>\n      <td>125.759903</td>\n      <td>125.759903</td>\n      <td>125.759903</td>\n      <td>0</td>\n      <td>-0.460098</td>\n      <td>-0.016495</td>\n      <td>0.394905</td>\n      <td>0.684906</td>\n      <td>...</td>\n      <td>-2.555099</td>\n      <td>-2.625092</td>\n      <td>-4.070097</td>\n      <td>-4.060097</td>\n      <td>-4.250097</td>\n      <td>-4.290097</td>\n      <td>-4.040097</td>\n      <td>-4.210097</td>\n      <td>0.000437</td>\n      <td>NaN</td>\n    </tr>\n  </tbody>\n</table>\n<p>4160 rows × 124 columns</p>\n</div>"
     },
     "execution_count": 130,
     "metadata": {},
     "output_type": "execute_result"
    }
   ],
   "source": [
    "data['close_shift'] = data.shift(-WINDOW)['close']\n",
    "data"
   ],
   "metadata": {
    "collapsed": false,
    "pycharm": {
     "name": "#%%\n"
    }
   }
  },
  {
   "cell_type": "code",
   "execution_count": 131,
   "outputs": [
    {
     "name": "stderr",
     "output_type": "stream",
     "text": [
      "<ipython-input-131-1209792257c8>:5: SettingWithCopyWarning: \n",
      "A value is trying to be set on a copy of a slice from a DataFrame.\n",
      "Try using .loc[row_indexer,col_indexer] = value instead\n",
      "\n",
      "See the caveats in the documentation: https://pandas.pydata.org/pandas-docs/stable/user_guide/indexing.html#returning-a-view-versus-a-copy\n",
      "  data['class_column'] = data.apply((lambda x: create_class_column(x, lowest_threshold, higher_threshold)), axis=1)\n",
      "<ipython-input-131-1209792257c8>:31: SettingWithCopyWarning: \n",
      "A value is trying to be set on a copy of a slice from a DataFrame.\n",
      "Try using .loc[row_indexer,col_indexer] = value instead\n",
      "\n",
      "See the caveats in the documentation: https://pandas.pydata.org/pandas-docs/stable/user_guide/indexing.html#returning-a-view-versus-a-copy\n",
      "  data['class_column'] = data.apply((lambda x: create_class_column(x, lowest_threshold, higher_threshold)), axis=1)\n"
     ]
    },
    {
     "name": "stdout",
     "output_type": "stream",
     "text": [
      " 0    2920\n",
      " 1     684\n",
      "-1     556\n",
      "Name: class_column, dtype: int64\n",
      "1.49 -1.49\n",
      " 0    2902\n",
      " 1     695\n",
      "-1     563\n",
      "Name: class_column, dtype: int64\n",
      "1.48 -1.48\n",
      " 0    2893\n",
      " 1     699\n",
      "-1     568\n",
      "Name: class_column, dtype: int64\n",
      "1.47 -1.47\n",
      " 0    2880\n",
      " 1     707\n",
      "-1     573\n",
      "Name: class_column, dtype: int64\n",
      "1.46 -1.46\n",
      " 0    2869\n",
      " 1     714\n",
      "-1     577\n",
      "Name: class_column, dtype: int64\n",
      "1.45 -1.45\n",
      " 0    2854\n",
      " 1     725\n",
      "-1     581\n",
      "Name: class_column, dtype: int64\n",
      "1.44 -1.44\n",
      " 0    2839\n",
      " 1     733\n",
      "-1     588\n",
      "Name: class_column, dtype: int64\n",
      "1.43 -1.43\n",
      " 0    2826\n",
      " 1     737\n",
      "-1     597\n",
      "Name: class_column, dtype: int64\n",
      "1.42 -1.42\n",
      " 0    2819\n",
      " 1     741\n",
      "-1     600\n",
      "Name: class_column, dtype: int64\n",
      "1.41 -1.41\n",
      " 0    2813\n",
      " 1     743\n",
      "-1     604\n",
      "Name: class_column, dtype: int64\n",
      "1.4 -1.4\n",
      " 0    2799\n",
      " 1     749\n",
      "-1     612\n",
      "Name: class_column, dtype: int64\n",
      "1.39 -1.39\n",
      " 0    2789\n",
      " 1     753\n",
      "-1     618\n",
      "Name: class_column, dtype: int64\n",
      "1.38 -1.38\n",
      " 0    2776\n",
      " 1     762\n",
      "-1     622\n",
      "Name: class_column, dtype: int64\n",
      "1.3699999999999999 -1.3699999999999999\n",
      " 0    2761\n",
      " 1     770\n",
      "-1     629\n",
      "Name: class_column, dtype: int64\n",
      "1.3599999999999999 -1.3599999999999999\n",
      " 0    2748\n",
      " 1     779\n",
      "-1     633\n",
      "Name: class_column, dtype: int64\n",
      "1.3499999999999999 -1.3499999999999999\n",
      " 0    2738\n",
      " 1     782\n",
      "-1     640\n",
      "Name: class_column, dtype: int64\n",
      "1.3399999999999999 -1.3399999999999999\n",
      " 0    2727\n",
      " 1     787\n",
      "-1     646\n",
      "Name: class_column, dtype: int64\n",
      "1.3299999999999998 -1.3299999999999998\n",
      " 0    2713\n",
      " 1     791\n",
      "-1     656\n",
      "Name: class_column, dtype: int64\n",
      "1.3199999999999998 -1.3199999999999998\n",
      " 0    2700\n",
      " 1     799\n",
      "-1     661\n",
      "Name: class_column, dtype: int64\n",
      "1.3099999999999998 -1.3099999999999998\n",
      " 0    2686\n",
      " 1     808\n",
      "-1     666\n",
      "Name: class_column, dtype: int64\n",
      "1.2999999999999998 -1.2999999999999998\n",
      " 0    2666\n",
      " 1     814\n",
      "-1     680\n",
      "Name: class_column, dtype: int64\n",
      "1.2899999999999998 -1.2899999999999998\n",
      " 0    2650\n",
      " 1     822\n",
      "-1     688\n",
      "Name: class_column, dtype: int64\n",
      "1.2799999999999998 -1.2799999999999998\n",
      " 0    2640\n",
      " 1     826\n",
      "-1     694\n",
      "Name: class_column, dtype: int64\n",
      "1.2699999999999998 -1.2699999999999998\n",
      " 0    2628\n",
      " 1     834\n",
      "-1     698\n",
      "Name: class_column, dtype: int64\n",
      "1.2599999999999998 -1.2599999999999998\n",
      " 0    2620\n",
      " 1     840\n",
      "-1     700\n",
      "Name: class_column, dtype: int64\n",
      "1.2499999999999998 -1.2499999999999998\n",
      " 0    2606\n",
      " 1     846\n",
      "-1     708\n",
      "Name: class_column, dtype: int64\n",
      "1.2399999999999998 -1.2399999999999998\n",
      " 0    2594\n",
      " 1     854\n",
      "-1     712\n",
      "Name: class_column, dtype: int64\n",
      "1.2299999999999998 -1.2299999999999998\n",
      " 0    2584\n",
      " 1     855\n",
      "-1     721\n",
      "Name: class_column, dtype: int64\n",
      "1.2199999999999998 -1.2199999999999998\n",
      " 0    2574\n",
      " 1     859\n",
      "-1     727\n",
      "Name: class_column, dtype: int64\n",
      "1.2099999999999997 -1.2099999999999997\n",
      " 0    2558\n",
      " 1     866\n",
      "-1     736\n",
      "Name: class_column, dtype: int64\n",
      "1.1999999999999997 -1.1999999999999997\n",
      " 0    2545\n",
      " 1     875\n",
      "-1     740\n",
      "Name: class_column, dtype: int64\n",
      "1.1899999999999997 -1.1899999999999997\n",
      " 0    2531\n",
      " 1     883\n",
      "-1     746\n",
      "Name: class_column, dtype: int64\n",
      "1.1799999999999997 -1.1799999999999997\n",
      " 0    2511\n",
      " 1     894\n",
      "-1     755\n",
      "Name: class_column, dtype: int64\n",
      "1.1699999999999997 -1.1699999999999997\n",
      " 0    2502\n",
      " 1     899\n",
      "-1     759\n",
      "Name: class_column, dtype: int64\n",
      "1.1599999999999997 -1.1599999999999997\n",
      " 0    2491\n",
      " 1     906\n",
      "-1     763\n",
      "Name: class_column, dtype: int64\n",
      "1.1499999999999997 -1.1499999999999997\n",
      " 0    2476\n",
      " 1     911\n",
      "-1     773\n",
      "Name: class_column, dtype: int64\n",
      "1.1399999999999997 -1.1399999999999997\n",
      " 0    2464\n",
      " 1     918\n",
      "-1     778\n",
      "Name: class_column, dtype: int64\n",
      "1.1299999999999997 -1.1299999999999997\n",
      " 0    2446\n",
      " 1     929\n",
      "-1     785\n",
      "Name: class_column, dtype: int64\n",
      "1.1199999999999997 -1.1199999999999997\n",
      " 0    2424\n",
      " 1     947\n",
      "-1     789\n",
      "Name: class_column, dtype: int64\n",
      "1.1099999999999997 -1.1099999999999997\n",
      " 0    2402\n",
      " 1     957\n",
      "-1     801\n",
      "Name: class_column, dtype: int64\n",
      "1.0999999999999996 -1.0999999999999996\n",
      " 0    2389\n",
      " 1     965\n",
      "-1     806\n",
      "Name: class_column, dtype: int64\n",
      "1.0899999999999996 -1.0899999999999996\n",
      " 0    2370\n",
      " 1     973\n",
      "-1     817\n",
      "Name: class_column, dtype: int64\n",
      "1.0799999999999996 -1.0799999999999996\n",
      " 0    2352\n",
      " 1     984\n",
      "-1     824\n",
      "Name: class_column, dtype: int64\n",
      "1.0699999999999996 -1.0699999999999996\n",
      " 0    2339\n",
      " 1     993\n",
      "-1     828\n",
      "Name: class_column, dtype: int64\n",
      "1.0599999999999996 -1.0599999999999996\n",
      " 0    2315\n",
      " 1    1007\n",
      "-1     838\n",
      "Name: class_column, dtype: int64\n",
      "1.0499999999999996 -1.0499999999999996\n",
      " 0    2301\n",
      " 1    1016\n",
      "-1     843\n",
      "Name: class_column, dtype: int64\n",
      "1.0399999999999996 -1.0399999999999996\n",
      " 0    2287\n",
      " 1    1026\n",
      "-1     847\n",
      "Name: class_column, dtype: int64\n",
      "1.0299999999999996 -1.0299999999999996\n",
      " 0    2268\n",
      " 1    1038\n",
      "-1     854\n",
      "Name: class_column, dtype: int64\n",
      "1.0199999999999996 -1.0199999999999996\n",
      " 0    2251\n",
      " 1    1049\n",
      "-1     860\n",
      "Name: class_column, dtype: int64\n",
      "1.0099999999999996 -1.0099999999999996\n",
      " 0    2234\n",
      " 1    1054\n",
      "-1     872\n",
      "Name: class_column, dtype: int64\n",
      "0.9999999999999996 -0.9999999999999996\n",
      " 0    2218\n",
      " 1    1055\n",
      "-1     887\n",
      "Name: class_column, dtype: int64\n",
      "0.9899999999999995 -0.9899999999999995\n",
      " 0    2202\n",
      " 1    1065\n",
      "-1     893\n",
      "Name: class_column, dtype: int64\n",
      "0.9799999999999995 -0.9799999999999995\n",
      " 0    2179\n",
      " 1    1084\n",
      "-1     897\n",
      "Name: class_column, dtype: int64\n",
      "0.9699999999999995 -0.9699999999999995\n",
      " 0    2168\n",
      " 1    1090\n",
      "-1     902\n",
      "Name: class_column, dtype: int64\n",
      "0.9599999999999995 -0.9599999999999995\n",
      " 0    2153\n",
      " 1    1098\n",
      "-1     909\n",
      "Name: class_column, dtype: int64\n",
      "0.9499999999999995 -0.9499999999999995\n",
      " 0    2138\n",
      " 1    1105\n",
      "-1     917\n",
      "Name: class_column, dtype: int64\n",
      "0.9399999999999995 -0.9399999999999995\n",
      " 0    2121\n",
      " 1    1114\n",
      "-1     925\n",
      "Name: class_column, dtype: int64\n",
      "0.9299999999999995 -0.9299999999999995\n",
      " 0    2102\n",
      " 1    1127\n",
      "-1     931\n",
      "Name: class_column, dtype: int64\n",
      "0.9199999999999995 -0.9199999999999995\n",
      " 0    2081\n",
      " 1    1136\n",
      "-1     943\n",
      "Name: class_column, dtype: int64\n",
      "0.9099999999999995 -0.9099999999999995\n",
      " 0    2067\n",
      " 1    1145\n",
      "-1     948\n",
      "Name: class_column, dtype: int64\n",
      "0.8999999999999995 -0.8999999999999995\n",
      " 0    2048\n",
      " 1    1155\n",
      "-1     957\n",
      "Name: class_column, dtype: int64\n",
      "0.8899999999999995 -0.8899999999999995\n",
      " 0    2032\n",
      " 1    1165\n",
      "-1     963\n",
      "Name: class_column, dtype: int64\n",
      "0.8799999999999994 -0.8799999999999994\n",
      " 0    2010\n",
      " 1    1179\n",
      "-1     971\n",
      "Name: class_column, dtype: int64\n",
      "0.8699999999999994 -0.8699999999999994\n",
      " 0    1989\n",
      " 1    1196\n",
      "-1     975\n",
      "Name: class_column, dtype: int64\n",
      "0.8599999999999994 -0.8599999999999994\n",
      " 0    1971\n",
      " 1    1202\n",
      "-1     987\n",
      "Name: class_column, dtype: int64\n",
      "0.8499999999999994 -0.8499999999999994\n",
      " 0    1957\n",
      " 1    1209\n",
      "-1     994\n",
      "Name: class_column, dtype: int64\n",
      "0.8399999999999994 -0.8399999999999994\n",
      " 0    1929\n",
      " 1    1222\n",
      "-1    1009\n",
      "Name: class_column, dtype: int64\n",
      "0.8299999999999994 -0.8299999999999994\n",
      " 0    1912\n",
      " 1    1235\n",
      "-1    1013\n",
      "Name: class_column, dtype: int64\n",
      "0.8199999999999994 -0.8199999999999994\n",
      " 0    1890\n",
      " 1    1249\n",
      "-1    1021\n",
      "Name: class_column, dtype: int64\n",
      "0.8099999999999994 -0.8099999999999994\n",
      " 0    1872\n",
      " 1    1261\n",
      "-1    1027\n",
      "Name: class_column, dtype: int64\n",
      "0.7999999999999994 -0.7999999999999994\n",
      " 0    1859\n",
      " 1    1269\n",
      "-1    1032\n",
      "Name: class_column, dtype: int64\n",
      "0.7899999999999994 -0.7899999999999994\n",
      " 0    1832\n",
      " 1    1284\n",
      "-1    1044\n",
      "Name: class_column, dtype: int64\n",
      "0.7799999999999994 -0.7799999999999994\n",
      " 0    1813\n",
      " 1    1298\n",
      "-1    1049\n",
      "Name: class_column, dtype: int64\n",
      "0.7699999999999994 -0.7699999999999994\n",
      " 0    1792\n",
      " 1    1310\n",
      "-1    1058\n",
      "Name: class_column, dtype: int64\n",
      "0.7599999999999993 -0.7599999999999993\n",
      " 0    1776\n",
      " 1    1319\n",
      "-1    1065\n",
      "Name: class_column, dtype: int64\n",
      "0.7499999999999993 -0.7499999999999993\n",
      " 0    1761\n",
      " 1    1329\n",
      "-1    1070\n",
      "Name: class_column, dtype: int64\n",
      "0.7399999999999993 -0.7399999999999993\n",
      " 0    1745\n",
      " 1    1338\n",
      "-1    1077\n",
      "Name: class_column, dtype: int64\n",
      "0.7299999999999993 -0.7299999999999993\n",
      " 0    1730\n",
      " 1    1350\n",
      "-1    1080\n",
      "Name: class_column, dtype: int64\n",
      "0.7199999999999993 -0.7199999999999993\n",
      " 0    1716\n",
      " 1    1359\n",
      "-1    1085\n",
      "Name: class_column, dtype: int64\n",
      "0.7099999999999993 -0.7099999999999993\n",
      " 0    1699\n",
      " 1    1368\n",
      "-1    1093\n",
      "Name: class_column, dtype: int64\n",
      "0.6999999999999993 -0.6999999999999993\n",
      " 0    1674\n",
      " 1    1382\n",
      "-1    1104\n",
      "Name: class_column, dtype: int64\n",
      "0.6899999999999993 -0.6899999999999993\n",
      " 0    1648\n",
      " 1    1395\n",
      "-1    1117\n",
      "Name: class_column, dtype: int64\n",
      "0.6799999999999993 -0.6799999999999993\n",
      " 0    1619\n",
      " 1    1410\n",
      "-1    1131\n",
      "Name: class_column, dtype: int64\n",
      "0.6699999999999993 -0.6699999999999993\n",
      " 0    1590\n",
      " 1    1429\n",
      "-1    1141\n",
      "Name: class_column, dtype: int64\n",
      "0.6599999999999993 -0.6599999999999993\n",
      " 0    1571\n",
      " 1    1436\n",
      "-1    1153\n",
      "Name: class_column, dtype: int64\n",
      "0.6499999999999992 -0.6499999999999992\n",
      " 0    1555\n",
      " 1    1449\n",
      "-1    1156\n",
      "Name: class_column, dtype: int64\n",
      "0.6399999999999992 -0.6399999999999992\n",
      " 0    1542\n",
      " 1    1459\n",
      "-1    1159\n",
      "Name: class_column, dtype: int64\n",
      "0.6299999999999992 -0.6299999999999992\n",
      " 0    1521\n",
      " 1    1470\n",
      "-1    1169\n",
      "Name: class_column, dtype: int64\n",
      "0.6199999999999992 -0.6199999999999992\n",
      " 0    1503\n",
      " 1    1478\n",
      "-1    1179\n",
      "Name: class_column, dtype: int64\n",
      "0.6099999999999992 -0.6099999999999992\n",
      " 1    1483\n",
      " 0    1478\n",
      "-1    1199\n",
      "Name: class_column, dtype: int64\n",
      "0.6199999999999992 -0.5999999999999992\n",
      " 1    1478\n",
      " 0    1467\n",
      "-1    1215\n",
      "Name: class_column, dtype: int64\n",
      "0.6299999999999992 -0.5899999999999992\n",
      " 1    1470\n",
      " 0    1464\n",
      "-1    1226\n",
      "Name: class_column, dtype: int64\n",
      "0.6399999999999992 -0.5799999999999992\n",
      " 0    1465\n",
      " 1    1459\n",
      "-1    1236\n",
      "Name: class_column, dtype: int64\n",
      "0.6299999999999992 -0.5699999999999992\n",
      " 1    1470\n",
      " 0    1441\n",
      "-1    1249\n",
      "Name: class_column, dtype: int64\n",
      "0.6399999999999992 -0.5599999999999992\n",
      " 1    1459\n",
      " 0    1447\n",
      "-1    1254\n",
      "Name: class_column, dtype: int64\n",
      "0.6499999999999992 -0.5499999999999992\n",
      " 1    1449\n",
      " 0    1447\n",
      "-1    1264\n",
      "Name: class_column, dtype: int64\n",
      "0.6599999999999993 -0.5399999999999991\n",
      " 0    1448\n",
      " 1    1436\n",
      "-1    1276\n",
      "Name: class_column, dtype: int64\n",
      "0.6499999999999992 -0.5299999999999991\n",
      " 1    1449\n",
      " 0    1423\n",
      "-1    1288\n",
      "Name: class_column, dtype: int64\n",
      "0.6599999999999993 -0.5199999999999991\n",
      " 1    1436\n",
      " 0    1428\n",
      "-1    1296\n",
      "Name: class_column, dtype: int64\n",
      "0.6699999999999993 -0.5099999999999991\n",
      " 1    1429\n",
      " 0    1421\n",
      "-1    1310\n",
      "Name: class_column, dtype: int64\n",
      "0.6799999999999993 -0.4999999999999991\n",
      " 0    1430\n",
      " 1    1410\n",
      "-1    1320\n",
      "Name: class_column, dtype: int64\n",
      "0.6699999999999993 -0.4899999999999991\n",
      " 1    1429\n",
      " 0    1399\n",
      "-1    1332\n",
      "Name: class_column, dtype: int64\n",
      "0.6799999999999993 -0.4799999999999991\n",
      " 1    1410\n",
      " 0    1405\n",
      "-1    1345\n",
      "Name: class_column, dtype: int64\n",
      "0.6899999999999993 -0.4699999999999991\n",
      " 0    1411\n",
      " 1    1395\n",
      "-1    1354\n",
      "Name: class_column, dtype: int64\n",
      "0.6799999999999993 -0.4599999999999991\n",
      " 1    1410\n",
      " 0    1387\n",
      "-1    1363\n",
      "Name: class_column, dtype: int64\n",
      "0.6899999999999993 -0.44999999999999907\n",
      " 1    1395\n",
      " 0    1391\n",
      "-1    1374\n",
      "Name: class_column, dtype: int64\n",
      "0.6999999999999993 -0.43999999999999906\n",
      "-1    1393\n",
      " 0    1385\n",
      " 1    1382\n",
      "Name: class_column, dtype: int64\n"
     ]
    },
    {
     "data": {
      "text/plain": "                                 open        high         low       close  \\\nDatetime                                                                    \n2020-05-13 09:30:00-04:00   78.037498   78.834976   77.642502   78.782501   \n2020-05-13 10:30:00-04:00   78.787498   78.987503   77.767502   77.984978   \n2020-05-13 11:30:00-04:00   77.985001   78.125000   75.802498   76.611198   \n2020-05-13 12:30:00-04:00   76.617500   77.040001   76.137497   76.374977   \n2020-05-13 13:30:00-04:00   76.367500   76.724998   75.955002   76.417747   \n...                               ...         ...         ...         ...   \n2021-05-11 11:30:00-04:00  125.074997  125.724998  124.720001  125.364998   \n2021-05-11 12:30:00-04:00  125.364998  125.870003  124.730003  125.779900   \n2021-05-11 13:30:00-04:00  125.776398  126.269997  125.510101  126.224998   \n2021-05-11 14:30:00-04:00  126.220001  126.220001  125.660004  125.705002   \n2021-05-11 14:40:06-04:00  125.759903  125.759903  125.759903  125.759903   \n\n                            Adj Close    volume    open_1    open_2    open_3  \\\nDatetime                                                                        \n2020-05-13 09:30:00-04:00   78.782501  10815742 -0.325002 -0.080002 -0.167502   \n2020-05-13 10:30:00-04:00   77.984978   6802303  0.750000  0.424998  0.669998   \n2020-05-13 11:30:00-04:00   76.611198   9925061 -0.802498 -0.052498 -0.377499   \n2020-05-13 12:30:00-04:00   76.374977   5824206 -1.367500 -2.169998 -1.419998   \n2020-05-13 13:30:00-04:00   76.417747   3984653 -0.250000 -1.617500 -2.419998   \n...                               ...       ...       ...       ...       ...   \n2021-05-11 11:30:00-04:00  125.364998  12362473  1.625000  1.574997  2.064997   \n2021-05-11 12:30:00-04:00  125.779900   9225589  0.290001  1.915001  1.864998   \n2021-05-11 13:30:00-04:00  126.224998  10086294  0.411400  0.701401  2.326401   \n2021-05-11 14:30:00-04:00  125.705002   1891841  0.443604  0.855003  1.145004   \n2021-05-11 14:40:06-04:00  125.759903         0 -0.460098 -0.016495  0.394905   \n\n                             open_4  ...  close_23  close_24  close_25  \\\nDatetime                             ...                                 \n2020-05-13 09:30:00-04:00  0.039998  ...  0.207501 -0.034999 -0.179999   \n2020-05-13 10:30:00-04:00  0.582498  ... -0.517522 -0.590022 -0.832522   \n2020-05-13 11:30:00-04:00 -0.132499  ... -2.211302 -1.891302 -1.963802   \n2020-05-13 12:30:00-04:00 -1.745000  ... -2.902523 -2.447523 -2.127523   \n2020-05-13 13:30:00-04:00 -1.669998  ... -2.982253 -2.859753 -2.404753   \n...                             ...  ...       ...       ...       ...   \n2021-05-11 11:30:00-04:00  1.364997  ... -4.685002 -4.435002 -4.605002   \n2021-05-11 12:30:00-04:00  2.354998  ... -4.230100 -4.270100 -4.020100   \n2021-05-11 13:30:00-04:00  2.276398  ... -3.595002 -3.785002 -3.825002   \n2021-05-11 14:30:00-04:00  2.770004  ... -4.124998 -4.114998 -4.304998   \n2021-05-11 14:40:06-04:00  0.684906  ... -2.625092 -4.070097 -4.060097   \n\n                           close_26  close_27  close_28  close_29  close_pct  \\\nDatetime                                                                       \n2020-05-13 09:30:00-04:00  0.017501  0.032501  0.031250 -0.217499        NaN   \n2020-05-13 10:30:00-04:00 -0.977522 -0.780022 -0.765022 -0.766273  -0.010123   \n2020-05-13 11:30:00-04:00 -2.206302 -2.351302 -2.153802 -2.138802  -0.017616   \n2020-05-13 12:30:00-04:00 -2.200023 -2.442523 -2.587523 -2.390023  -0.003083   \n2020-05-13 13:30:00-04:00 -2.084753 -2.157253 -2.399753 -2.544753   0.000560   \n...                             ...       ...       ...       ...        ...   \n2021-05-11 11:30:00-04:00 -5.125002 -4.855002 -4.850002 -4.945002   0.002359   \n2021-05-11 12:30:00-04:00 -4.190100 -4.710100 -4.440100 -4.435100   0.003310   \n2021-05-11 13:30:00-04:00 -3.575002 -3.745002 -4.265002 -3.995002   0.003539   \n2021-05-11 14:30:00-04:00 -4.344998 -4.094998 -4.264998 -4.784998  -0.004120   \n2021-05-11 14:40:06-04:00 -4.250097 -4.290097 -4.040097 -4.210097   0.000437   \n\n                           close_shift  class_column  \nDatetime                                              \n2020-05-13 09:30:00-04:00      77.1675            -1  \n2020-05-13 10:30:00-04:00      77.1375            -1  \n2020-05-13 11:30:00-04:00      77.2875             0  \n2020-05-13 12:30:00-04:00      76.9200             0  \n2020-05-13 13:30:00-04:00      77.0000             0  \n...                                ...           ...  \n2021-05-11 11:30:00-04:00          NaN             0  \n2021-05-11 12:30:00-04:00          NaN             0  \n2021-05-11 13:30:00-04:00          NaN             0  \n2021-05-11 14:30:00-04:00          NaN             0  \n2021-05-11 14:40:06-04:00          NaN             0  \n\n[4160 rows x 125 columns]",
      "text/html": "<div>\n<style scoped>\n    .dataframe tbody tr th:only-of-type {\n        vertical-align: middle;\n    }\n\n    .dataframe tbody tr th {\n        vertical-align: top;\n    }\n\n    .dataframe thead th {\n        text-align: right;\n    }\n</style>\n<table border=\"1\" class=\"dataframe\">\n  <thead>\n    <tr style=\"text-align: right;\">\n      <th></th>\n      <th>open</th>\n      <th>high</th>\n      <th>low</th>\n      <th>close</th>\n      <th>Adj Close</th>\n      <th>volume</th>\n      <th>open_1</th>\n      <th>open_2</th>\n      <th>open_3</th>\n      <th>open_4</th>\n      <th>...</th>\n      <th>close_23</th>\n      <th>close_24</th>\n      <th>close_25</th>\n      <th>close_26</th>\n      <th>close_27</th>\n      <th>close_28</th>\n      <th>close_29</th>\n      <th>close_pct</th>\n      <th>close_shift</th>\n      <th>class_column</th>\n    </tr>\n    <tr>\n      <th>Datetime</th>\n      <th></th>\n      <th></th>\n      <th></th>\n      <th></th>\n      <th></th>\n      <th></th>\n      <th></th>\n      <th></th>\n      <th></th>\n      <th></th>\n      <th></th>\n      <th></th>\n      <th></th>\n      <th></th>\n      <th></th>\n      <th></th>\n      <th></th>\n      <th></th>\n      <th></th>\n      <th></th>\n      <th></th>\n    </tr>\n  </thead>\n  <tbody>\n    <tr>\n      <th>2020-05-13 09:30:00-04:00</th>\n      <td>78.037498</td>\n      <td>78.834976</td>\n      <td>77.642502</td>\n      <td>78.782501</td>\n      <td>78.782501</td>\n      <td>10815742</td>\n      <td>-0.325002</td>\n      <td>-0.080002</td>\n      <td>-0.167502</td>\n      <td>0.039998</td>\n      <td>...</td>\n      <td>0.207501</td>\n      <td>-0.034999</td>\n      <td>-0.179999</td>\n      <td>0.017501</td>\n      <td>0.032501</td>\n      <td>0.031250</td>\n      <td>-0.217499</td>\n      <td>NaN</td>\n      <td>77.1675</td>\n      <td>-1</td>\n    </tr>\n    <tr>\n      <th>2020-05-13 10:30:00-04:00</th>\n      <td>78.787498</td>\n      <td>78.987503</td>\n      <td>77.767502</td>\n      <td>77.984978</td>\n      <td>77.984978</td>\n      <td>6802303</td>\n      <td>0.750000</td>\n      <td>0.424998</td>\n      <td>0.669998</td>\n      <td>0.582498</td>\n      <td>...</td>\n      <td>-0.517522</td>\n      <td>-0.590022</td>\n      <td>-0.832522</td>\n      <td>-0.977522</td>\n      <td>-0.780022</td>\n      <td>-0.765022</td>\n      <td>-0.766273</td>\n      <td>-0.010123</td>\n      <td>77.1375</td>\n      <td>-1</td>\n    </tr>\n    <tr>\n      <th>2020-05-13 11:30:00-04:00</th>\n      <td>77.985001</td>\n      <td>78.125000</td>\n      <td>75.802498</td>\n      <td>76.611198</td>\n      <td>76.611198</td>\n      <td>9925061</td>\n      <td>-0.802498</td>\n      <td>-0.052498</td>\n      <td>-0.377499</td>\n      <td>-0.132499</td>\n      <td>...</td>\n      <td>-2.211302</td>\n      <td>-1.891302</td>\n      <td>-1.963802</td>\n      <td>-2.206302</td>\n      <td>-2.351302</td>\n      <td>-2.153802</td>\n      <td>-2.138802</td>\n      <td>-0.017616</td>\n      <td>77.2875</td>\n      <td>0</td>\n    </tr>\n    <tr>\n      <th>2020-05-13 12:30:00-04:00</th>\n      <td>76.617500</td>\n      <td>77.040001</td>\n      <td>76.137497</td>\n      <td>76.374977</td>\n      <td>76.374977</td>\n      <td>5824206</td>\n      <td>-1.367500</td>\n      <td>-2.169998</td>\n      <td>-1.419998</td>\n      <td>-1.745000</td>\n      <td>...</td>\n      <td>-2.902523</td>\n      <td>-2.447523</td>\n      <td>-2.127523</td>\n      <td>-2.200023</td>\n      <td>-2.442523</td>\n      <td>-2.587523</td>\n      <td>-2.390023</td>\n      <td>-0.003083</td>\n      <td>76.9200</td>\n      <td>0</td>\n    </tr>\n    <tr>\n      <th>2020-05-13 13:30:00-04:00</th>\n      <td>76.367500</td>\n      <td>76.724998</td>\n      <td>75.955002</td>\n      <td>76.417747</td>\n      <td>76.417747</td>\n      <td>3984653</td>\n      <td>-0.250000</td>\n      <td>-1.617500</td>\n      <td>-2.419998</td>\n      <td>-1.669998</td>\n      <td>...</td>\n      <td>-2.982253</td>\n      <td>-2.859753</td>\n      <td>-2.404753</td>\n      <td>-2.084753</td>\n      <td>-2.157253</td>\n      <td>-2.399753</td>\n      <td>-2.544753</td>\n      <td>0.000560</td>\n      <td>77.0000</td>\n      <td>0</td>\n    </tr>\n    <tr>\n      <th>...</th>\n      <td>...</td>\n      <td>...</td>\n      <td>...</td>\n      <td>...</td>\n      <td>...</td>\n      <td>...</td>\n      <td>...</td>\n      <td>...</td>\n      <td>...</td>\n      <td>...</td>\n      <td>...</td>\n      <td>...</td>\n      <td>...</td>\n      <td>...</td>\n      <td>...</td>\n      <td>...</td>\n      <td>...</td>\n      <td>...</td>\n      <td>...</td>\n      <td>...</td>\n      <td>...</td>\n    </tr>\n    <tr>\n      <th>2021-05-11 11:30:00-04:00</th>\n      <td>125.074997</td>\n      <td>125.724998</td>\n      <td>124.720001</td>\n      <td>125.364998</td>\n      <td>125.364998</td>\n      <td>12362473</td>\n      <td>1.625000</td>\n      <td>1.574997</td>\n      <td>2.064997</td>\n      <td>1.364997</td>\n      <td>...</td>\n      <td>-4.685002</td>\n      <td>-4.435002</td>\n      <td>-4.605002</td>\n      <td>-5.125002</td>\n      <td>-4.855002</td>\n      <td>-4.850002</td>\n      <td>-4.945002</td>\n      <td>0.002359</td>\n      <td>NaN</td>\n      <td>0</td>\n    </tr>\n    <tr>\n      <th>2021-05-11 12:30:00-04:00</th>\n      <td>125.364998</td>\n      <td>125.870003</td>\n      <td>124.730003</td>\n      <td>125.779900</td>\n      <td>125.779900</td>\n      <td>9225589</td>\n      <td>0.290001</td>\n      <td>1.915001</td>\n      <td>1.864998</td>\n      <td>2.354998</td>\n      <td>...</td>\n      <td>-4.230100</td>\n      <td>-4.270100</td>\n      <td>-4.020100</td>\n      <td>-4.190100</td>\n      <td>-4.710100</td>\n      <td>-4.440100</td>\n      <td>-4.435100</td>\n      <td>0.003310</td>\n      <td>NaN</td>\n      <td>0</td>\n    </tr>\n    <tr>\n      <th>2021-05-11 13:30:00-04:00</th>\n      <td>125.776398</td>\n      <td>126.269997</td>\n      <td>125.510101</td>\n      <td>126.224998</td>\n      <td>126.224998</td>\n      <td>10086294</td>\n      <td>0.411400</td>\n      <td>0.701401</td>\n      <td>2.326401</td>\n      <td>2.276398</td>\n      <td>...</td>\n      <td>-3.595002</td>\n      <td>-3.785002</td>\n      <td>-3.825002</td>\n      <td>-3.575002</td>\n      <td>-3.745002</td>\n      <td>-4.265002</td>\n      <td>-3.995002</td>\n      <td>0.003539</td>\n      <td>NaN</td>\n      <td>0</td>\n    </tr>\n    <tr>\n      <th>2021-05-11 14:30:00-04:00</th>\n      <td>126.220001</td>\n      <td>126.220001</td>\n      <td>125.660004</td>\n      <td>125.705002</td>\n      <td>125.705002</td>\n      <td>1891841</td>\n      <td>0.443604</td>\n      <td>0.855003</td>\n      <td>1.145004</td>\n      <td>2.770004</td>\n      <td>...</td>\n      <td>-4.124998</td>\n      <td>-4.114998</td>\n      <td>-4.304998</td>\n      <td>-4.344998</td>\n      <td>-4.094998</td>\n      <td>-4.264998</td>\n      <td>-4.784998</td>\n      <td>-0.004120</td>\n      <td>NaN</td>\n      <td>0</td>\n    </tr>\n    <tr>\n      <th>2021-05-11 14:40:06-04:00</th>\n      <td>125.759903</td>\n      <td>125.759903</td>\n      <td>125.759903</td>\n      <td>125.759903</td>\n      <td>125.759903</td>\n      <td>0</td>\n      <td>-0.460098</td>\n      <td>-0.016495</td>\n      <td>0.394905</td>\n      <td>0.684906</td>\n      <td>...</td>\n      <td>-2.625092</td>\n      <td>-4.070097</td>\n      <td>-4.060097</td>\n      <td>-4.250097</td>\n      <td>-4.290097</td>\n      <td>-4.040097</td>\n      <td>-4.210097</td>\n      <td>0.000437</td>\n      <td>NaN</td>\n      <td>0</td>\n    </tr>\n  </tbody>\n</table>\n<p>4160 rows × 125 columns</p>\n</div>"
     },
     "execution_count": 131,
     "metadata": {},
     "output_type": "execute_result"
    }
   ],
   "source": [
    "higher_threshold = 1.5\n",
    "lowest_threshold = -1.5\n",
    "last_values_higher = []\n",
    "last_values_lower = []\n",
    "data['class_column'] = data.apply((lambda x: create_class_column(x, lowest_threshold, higher_threshold)), axis=1)\n",
    "while True:\n",
    "    print(data['class_column'].value_counts())\n",
    "    class_counts = data['class_column'].value_counts()\n",
    "    if abs(class_counts[0] - class_counts[1]) < 15 and abs(class_counts[0] - class_counts[-1]) < 15:\n",
    "        break\n",
    "\n",
    "    if len(last_values_higher) == 3:\n",
    "        last_values_higher.pop(0)\n",
    "    if len(last_values_lower) == 3:\n",
    "        last_values_lower.pop(0)\n",
    "\n",
    "    last_values_higher.append(higher_threshold)\n",
    "    last_values_lower.append(lowest_threshold)\n",
    "    if class_counts[0] > class_counts[1]:\n",
    "        higher_threshold -= 0.01\n",
    "    if class_counts[0] > class_counts[-1]:\n",
    "        lowest_threshold += 0.01\n",
    "    if class_counts[0] < class_counts[1]:\n",
    "        higher_threshold += 0.01\n",
    "    if class_counts[0] < class_counts[-1]:\n",
    "        lowest_threshold -= 0.01\n",
    "\n",
    "    if higher_threshold in last_values_higher and lowest_threshold in last_values_lower:\n",
    "        break\n",
    "    print(higher_threshold, lowest_threshold)\n",
    "    data['class_column'] = data.apply((lambda x: create_class_column(x, lowest_threshold, higher_threshold)), axis=1)\n",
    "\n",
    "data"
   ],
   "metadata": {
    "collapsed": false,
    "pycharm": {
     "name": "#%%\n"
    }
   }
  },
  {
   "cell_type": "code",
   "execution_count": 132,
   "outputs": [
    {
     "data": {
      "text/plain": "-1    1393\n 0    1385\n 1    1382\nName: class_column, dtype: int64"
     },
     "execution_count": 132,
     "metadata": {},
     "output_type": "execute_result"
    }
   ],
   "source": [
    "# Class divide\n",
    "data['class_column'].value_counts()"
   ],
   "metadata": {
    "collapsed": false,
    "pycharm": {
     "name": "#%%\n"
    }
   }
  },
  {
   "cell_type": "code",
   "execution_count": 132,
   "outputs": [],
   "source": [],
   "metadata": {
    "collapsed": false,
    "pycharm": {
     "name": "#%%\n"
    }
   }
  },
  {
   "cell_type": "code",
   "execution_count": 133,
   "outputs": [
    {
     "name": "stdout",
     "output_type": "stream",
     "text": [
      "../data/preprocess_new/AAPL_1y_8_only_diff_11_05_2021 20_40_14_full.csv\n"
     ]
    }
   ],
   "source": [
    "filename_to_export = f'../data/preprocess_new/{symbol}_{INTERVAL}_{WINDOW}_only_diff_{datetime.now().strftime(\"%d_%m_%Y %H_%M_%S\")}_full.csv'\n",
    "data.to_csv(filename_to_export, index=True)\n",
    "print(filename_to_export)"
   ],
   "metadata": {
    "collapsed": false,
    "pycharm": {
     "name": "#%%\n"
    }
   }
  },
  {
   "cell_type": "code",
   "execution_count": 133,
   "outputs": [],
   "source": [],
   "metadata": {
    "collapsed": false,
    "pycharm": {
     "name": "#%%\n"
    }
   }
  }
 ],
 "metadata": {
  "kernelspec": {
   "display_name": "Python 3",
   "language": "python",
   "name": "python3"
  },
  "language_info": {
   "codemirror_mode": {
    "name": "ipython",
    "version": 2
   },
   "file_extension": ".py",
   "mimetype": "text/x-python",
   "name": "python",
   "nbconvert_exporter": "python",
   "pygments_lexer": "ipython2",
   "version": "2.7.6"
  }
 },
 "nbformat": 4,
 "nbformat_minor": 0
}