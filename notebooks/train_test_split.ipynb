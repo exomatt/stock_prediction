{
 "cells": [
  {
   "cell_type": "code",
   "execution_count": 21,
   "outputs": [],
   "source": [
    "import yfinance as yf\n",
    "from datetime import datetime\n",
    "import pandas as pd\n",
    "import numpy as np\n",
    "import matplotlib.pyplot as plt\n",
    "from finta import TA\n",
    "import numpy as np\n",
    "from sklearn.ensemble import RandomForestClassifier, VotingClassifier\n",
    "from sklearn.model_selection import GridSearchCV, train_test_split\n",
    "from sklearn.preprocessing import MinMaxScaler\n",
    "from sklearn.tree import DecisionTreeClassifier\n",
    "from sklearn.ensemble import GradientBoostingClassifier\n",
    "from sklearn.metrics import confusion_matrix, classification_report, accuracy_score\n",
    "from sklearn.metrics import jaccard_score\n",
    "import seaborn as sn\n",
    "from tabulate import tabulate\n",
    "from xgboost import XGBClassifier\n",
    "from ta import add_all_ta_features\n",
    "from sklearn.feature_selection import RFE"
   ],
   "metadata": {
    "collapsed": false,
    "pycharm": {
     "name": "#%%\n"
    }
   }
  },
  {
   "cell_type": "code",
   "execution_count": 22,
   "outputs": [],
   "source": [
    "WINDOW = 8 # number of rows to look ahead to see what the price did\n",
    "FETCH_INTERVAL = \"60m\"  # fetch data by interval (including intraday if period < 60 days)\n",
    "        # valid intervals: 1m,2m,5m,15m,30m,60m,90m,1h,1d,5d,1wk,1mo,3mo\n",
    "        # (optional, default is '1d')\n",
    "INTERVAL = '1y'     # use \"period\" instead of start/end\n",
    "        # valid periods: 1d,5d,1mo,3mo,6mo,1y,2y,5y,10y,ytd,max\n",
    "        # (optional, default is '1mo')\n",
    "symbol = 'AAPL'      # Symbol of the desired stock\n",
    "ROWS_TO_PREDICT = 34\n",
    "# one day 16 rows of data"
   ],
   "metadata": {
    "collapsed": false,
    "pycharm": {
     "name": "#%%\n"
    }
   }
  },
  {
   "cell_type": "code",
   "execution_count": 23,
   "outputs": [
    {
     "data": {
      "text/plain": "                               open      high         low       close  \\\nDatetime                                                                \n2019-05-13 18:00:00-04:00   46.2350   46.4300   46.160000   46.237500   \n2019-05-13 19:00:00-04:00   46.2425   46.2625   46.057500   46.057500   \n2019-05-14 04:00:00-04:00   46.5650   46.7350   46.565000   46.640000   \n2019-05-14 05:00:00-04:00   46.6250   46.7500   46.577500   46.750000   \n2019-05-14 06:00:00-04:00   46.7250   46.8250   46.725000   46.800000   \n...                             ...       ...         ...         ...   \n2021-05-10 15:30:00-04:00  127.1950  127.5000  126.809998  126.860001   \n2021-05-10 16:00:00-04:00  126.8600  127.9881  117.824670  126.490000   \n2021-05-10 17:00:00-04:00  126.5000  126.8500  118.090096  126.430000   \n2021-05-10 18:00:00-04:00  126.4600  126.5300  126.300000  126.420000   \n2021-05-10 19:00:00-04:00  126.4300  126.4700  126.300000  126.320000   \n\n                            Adj Close      volume    open_1    open_2  \\\nDatetime                                                                \n2019-05-13 18:00:00-04:00   46.237500         0.0 -0.140000 -0.195000   \n2019-05-13 19:00:00-04:00   46.057500         0.0  0.007500 -0.132500   \n2019-05-14 04:00:00-04:00   46.640000         0.0  0.322500  0.330000   \n2019-05-14 05:00:00-04:00   46.750000         0.0  0.060000  0.382500   \n2019-05-14 06:00:00-04:00   46.800000         0.0  0.100000  0.160000   \n...                               ...         ...       ...       ...   \n2021-05-10 15:30:00-04:00  126.860001  11140598.0  0.003502 -1.064995   \n2021-05-10 16:00:00-04:00  126.490000         0.0 -0.335000 -0.331498   \n2021-05-10 17:00:00-04:00  126.430000         0.0 -0.360000 -0.695000   \n2021-05-10 18:00:00-04:00  126.420000         0.0 -0.040000 -0.400000   \n2021-05-10 19:00:00-04:00  126.320000         0.0 -0.030000 -0.070000   \n\n                             open_3    open_4  ...  momentum_kama  \\\nDatetime                                       ...                  \n2019-05-13 18:00:00-04:00 -0.137501 -0.532502  ...      46.237500   \n2019-05-13 19:00:00-04:00 -0.187500 -0.130001  ...      46.153711   \n2019-05-14 04:00:00-04:00  0.190000  0.135000  ...      46.373640   \n2019-05-14 05:00:00-04:00  0.390000  0.250000  ...      46.539028   \n2019-05-14 06:00:00-04:00  0.482500  0.490000  ...      46.653430   \n...                             ...       ...  ...            ...   \n2021-05-10 15:30:00-04:00 -1.206795 -1.120003  ...     127.577504   \n2021-05-10 16:00:00-04:00 -1.399995 -1.541794  ...     127.137846   \n2021-05-10 17:00:00-04:00 -0.691498 -1.759995  ...     126.852684   \n2021-05-10 18:00:00-04:00 -0.735000 -0.731498  ...     126.676521   \n2021-05-10 19:00:00-04:00 -0.430000 -0.765000  ...     126.539089   \n\n                           momentum_roc  momentum_ppo  momentum_ppo_signal  \\\nDatetime                                                                     \n2019-05-13 18:00:00-04:00      0.000000      0.000000             0.000000   \n2019-05-13 19:00:00-04:00      0.000000      0.000000             0.000000   \n2019-05-14 04:00:00-04:00      0.000000      0.000000             0.000000   \n2019-05-14 05:00:00-04:00      0.000000      0.000000             0.000000   \n2019-05-14 06:00:00-04:00      0.000000      0.000000             0.000000   \n...                                 ...           ...                  ...   \n2021-05-10 15:30:00-04:00     -2.392859     28.297455            11.574367   \n2021-05-10 16:00:00-04:00     -2.550077     17.244135            12.708321   \n2021-05-10 17:00:00-04:00     -2.783545      7.143102            11.595277   \n2021-05-10 18:00:00-04:00     -2.761326     -2.087688             8.858684   \n2021-05-10 19:00:00-04:00     -2.696041    -10.523210             4.982305   \n\n                           momentum_ppo_hist  others_dr  others_dlr  \\\nDatetime                                                              \n2019-05-13 18:00:00-04:00           0.000000 -48.174326    0.000000   \n2019-05-13 19:00:00-04:00           0.000000  -0.389294   -0.390054   \n2019-05-14 04:00:00-04:00           0.000000   1.264723    1.256793   \n2019-05-14 05:00:00-04:00           0.000000   0.235849    0.235571   \n2019-05-14 06:00:00-04:00           0.000000   0.106952    0.106895   \n...                                      ...        ...         ...   \n2021-05-10 15:30:00-04:00          16.723087  -0.259456   -0.259793   \n2021-05-10 16:00:00-04:00           4.535815  -0.291661   -0.292087   \n2021-05-10 17:00:00-04:00          -4.452175  -0.047435   -0.047446   \n2021-05-10 18:00:00-04:00         -10.946372  -0.007910   -0.007910   \n2021-05-10 19:00:00-04:00         -15.505516  -0.079101   -0.079133   \n\n                            others_cr  close_shift  class_column  \nDatetime                                                          \n2019-05-13 18:00:00-04:00    0.000000    46.779999             1  \n2019-05-13 19:00:00-04:00   -0.389294    46.930000             1  \n2019-05-14 04:00:00-04:00    0.870506    47.058250             0  \n2019-05-14 05:00:00-04:00    1.108408    47.320000             1  \n2019-05-14 06:00:00-04:00    1.216545    47.362499             1  \n...                               ...          ...           ...  \n2021-05-10 15:30:00-04:00  174.366046          NaN             0  \n2021-05-10 16:00:00-04:00  173.565829          NaN             0  \n2021-05-10 17:00:00-04:00  173.436064          NaN             0  \n2021-05-10 18:00:00-04:00  173.414436          NaN             0  \n2021-05-10 19:00:00-04:00  173.198162          NaN             0  \n\n[8181 rows x 122 columns]",
      "text/html": "<div>\n<style scoped>\n    .dataframe tbody tr th:only-of-type {\n        vertical-align: middle;\n    }\n\n    .dataframe tbody tr th {\n        vertical-align: top;\n    }\n\n    .dataframe thead th {\n        text-align: right;\n    }\n</style>\n<table border=\"1\" class=\"dataframe\">\n  <thead>\n    <tr style=\"text-align: right;\">\n      <th></th>\n      <th>open</th>\n      <th>high</th>\n      <th>low</th>\n      <th>close</th>\n      <th>Adj Close</th>\n      <th>volume</th>\n      <th>open_1</th>\n      <th>open_2</th>\n      <th>open_3</th>\n      <th>open_4</th>\n      <th>...</th>\n      <th>momentum_kama</th>\n      <th>momentum_roc</th>\n      <th>momentum_ppo</th>\n      <th>momentum_ppo_signal</th>\n      <th>momentum_ppo_hist</th>\n      <th>others_dr</th>\n      <th>others_dlr</th>\n      <th>others_cr</th>\n      <th>close_shift</th>\n      <th>class_column</th>\n    </tr>\n    <tr>\n      <th>Datetime</th>\n      <th></th>\n      <th></th>\n      <th></th>\n      <th></th>\n      <th></th>\n      <th></th>\n      <th></th>\n      <th></th>\n      <th></th>\n      <th></th>\n      <th></th>\n      <th></th>\n      <th></th>\n      <th></th>\n      <th></th>\n      <th></th>\n      <th></th>\n      <th></th>\n      <th></th>\n      <th></th>\n      <th></th>\n    </tr>\n  </thead>\n  <tbody>\n    <tr>\n      <th>2019-05-13 18:00:00-04:00</th>\n      <td>46.2350</td>\n      <td>46.4300</td>\n      <td>46.160000</td>\n      <td>46.237500</td>\n      <td>46.237500</td>\n      <td>0.0</td>\n      <td>-0.140000</td>\n      <td>-0.195000</td>\n      <td>-0.137501</td>\n      <td>-0.532502</td>\n      <td>...</td>\n      <td>46.237500</td>\n      <td>0.000000</td>\n      <td>0.000000</td>\n      <td>0.000000</td>\n      <td>0.000000</td>\n      <td>-48.174326</td>\n      <td>0.000000</td>\n      <td>0.000000</td>\n      <td>46.779999</td>\n      <td>1</td>\n    </tr>\n    <tr>\n      <th>2019-05-13 19:00:00-04:00</th>\n      <td>46.2425</td>\n      <td>46.2625</td>\n      <td>46.057500</td>\n      <td>46.057500</td>\n      <td>46.057500</td>\n      <td>0.0</td>\n      <td>0.007500</td>\n      <td>-0.132500</td>\n      <td>-0.187500</td>\n      <td>-0.130001</td>\n      <td>...</td>\n      <td>46.153711</td>\n      <td>0.000000</td>\n      <td>0.000000</td>\n      <td>0.000000</td>\n      <td>0.000000</td>\n      <td>-0.389294</td>\n      <td>-0.390054</td>\n      <td>-0.389294</td>\n      <td>46.930000</td>\n      <td>1</td>\n    </tr>\n    <tr>\n      <th>2019-05-14 04:00:00-04:00</th>\n      <td>46.5650</td>\n      <td>46.7350</td>\n      <td>46.565000</td>\n      <td>46.640000</td>\n      <td>46.640000</td>\n      <td>0.0</td>\n      <td>0.322500</td>\n      <td>0.330000</td>\n      <td>0.190000</td>\n      <td>0.135000</td>\n      <td>...</td>\n      <td>46.373640</td>\n      <td>0.000000</td>\n      <td>0.000000</td>\n      <td>0.000000</td>\n      <td>0.000000</td>\n      <td>1.264723</td>\n      <td>1.256793</td>\n      <td>0.870506</td>\n      <td>47.058250</td>\n      <td>0</td>\n    </tr>\n    <tr>\n      <th>2019-05-14 05:00:00-04:00</th>\n      <td>46.6250</td>\n      <td>46.7500</td>\n      <td>46.577500</td>\n      <td>46.750000</td>\n      <td>46.750000</td>\n      <td>0.0</td>\n      <td>0.060000</td>\n      <td>0.382500</td>\n      <td>0.390000</td>\n      <td>0.250000</td>\n      <td>...</td>\n      <td>46.539028</td>\n      <td>0.000000</td>\n      <td>0.000000</td>\n      <td>0.000000</td>\n      <td>0.000000</td>\n      <td>0.235849</td>\n      <td>0.235571</td>\n      <td>1.108408</td>\n      <td>47.320000</td>\n      <td>1</td>\n    </tr>\n    <tr>\n      <th>2019-05-14 06:00:00-04:00</th>\n      <td>46.7250</td>\n      <td>46.8250</td>\n      <td>46.725000</td>\n      <td>46.800000</td>\n      <td>46.800000</td>\n      <td>0.0</td>\n      <td>0.100000</td>\n      <td>0.160000</td>\n      <td>0.482500</td>\n      <td>0.490000</td>\n      <td>...</td>\n      <td>46.653430</td>\n      <td>0.000000</td>\n      <td>0.000000</td>\n      <td>0.000000</td>\n      <td>0.000000</td>\n      <td>0.106952</td>\n      <td>0.106895</td>\n      <td>1.216545</td>\n      <td>47.362499</td>\n      <td>1</td>\n    </tr>\n    <tr>\n      <th>...</th>\n      <td>...</td>\n      <td>...</td>\n      <td>...</td>\n      <td>...</td>\n      <td>...</td>\n      <td>...</td>\n      <td>...</td>\n      <td>...</td>\n      <td>...</td>\n      <td>...</td>\n      <td>...</td>\n      <td>...</td>\n      <td>...</td>\n      <td>...</td>\n      <td>...</td>\n      <td>...</td>\n      <td>...</td>\n      <td>...</td>\n      <td>...</td>\n      <td>...</td>\n      <td>...</td>\n    </tr>\n    <tr>\n      <th>2021-05-10 15:30:00-04:00</th>\n      <td>127.1950</td>\n      <td>127.5000</td>\n      <td>126.809998</td>\n      <td>126.860001</td>\n      <td>126.860001</td>\n      <td>11140598.0</td>\n      <td>0.003502</td>\n      <td>-1.064995</td>\n      <td>-1.206795</td>\n      <td>-1.120003</td>\n      <td>...</td>\n      <td>127.577504</td>\n      <td>-2.392859</td>\n      <td>28.297455</td>\n      <td>11.574367</td>\n      <td>16.723087</td>\n      <td>-0.259456</td>\n      <td>-0.259793</td>\n      <td>174.366046</td>\n      <td>NaN</td>\n      <td>0</td>\n    </tr>\n    <tr>\n      <th>2021-05-10 16:00:00-04:00</th>\n      <td>126.8600</td>\n      <td>127.9881</td>\n      <td>117.824670</td>\n      <td>126.490000</td>\n      <td>126.490000</td>\n      <td>0.0</td>\n      <td>-0.335000</td>\n      <td>-0.331498</td>\n      <td>-1.399995</td>\n      <td>-1.541794</td>\n      <td>...</td>\n      <td>127.137846</td>\n      <td>-2.550077</td>\n      <td>17.244135</td>\n      <td>12.708321</td>\n      <td>4.535815</td>\n      <td>-0.291661</td>\n      <td>-0.292087</td>\n      <td>173.565829</td>\n      <td>NaN</td>\n      <td>0</td>\n    </tr>\n    <tr>\n      <th>2021-05-10 17:00:00-04:00</th>\n      <td>126.5000</td>\n      <td>126.8500</td>\n      <td>118.090096</td>\n      <td>126.430000</td>\n      <td>126.430000</td>\n      <td>0.0</td>\n      <td>-0.360000</td>\n      <td>-0.695000</td>\n      <td>-0.691498</td>\n      <td>-1.759995</td>\n      <td>...</td>\n      <td>126.852684</td>\n      <td>-2.783545</td>\n      <td>7.143102</td>\n      <td>11.595277</td>\n      <td>-4.452175</td>\n      <td>-0.047435</td>\n      <td>-0.047446</td>\n      <td>173.436064</td>\n      <td>NaN</td>\n      <td>0</td>\n    </tr>\n    <tr>\n      <th>2021-05-10 18:00:00-04:00</th>\n      <td>126.4600</td>\n      <td>126.5300</td>\n      <td>126.300000</td>\n      <td>126.420000</td>\n      <td>126.420000</td>\n      <td>0.0</td>\n      <td>-0.040000</td>\n      <td>-0.400000</td>\n      <td>-0.735000</td>\n      <td>-0.731498</td>\n      <td>...</td>\n      <td>126.676521</td>\n      <td>-2.761326</td>\n      <td>-2.087688</td>\n      <td>8.858684</td>\n      <td>-10.946372</td>\n      <td>-0.007910</td>\n      <td>-0.007910</td>\n      <td>173.414436</td>\n      <td>NaN</td>\n      <td>0</td>\n    </tr>\n    <tr>\n      <th>2021-05-10 19:00:00-04:00</th>\n      <td>126.4300</td>\n      <td>126.4700</td>\n      <td>126.300000</td>\n      <td>126.320000</td>\n      <td>126.320000</td>\n      <td>0.0</td>\n      <td>-0.030000</td>\n      <td>-0.070000</td>\n      <td>-0.430000</td>\n      <td>-0.765000</td>\n      <td>...</td>\n      <td>126.539089</td>\n      <td>-2.696041</td>\n      <td>-10.523210</td>\n      <td>4.982305</td>\n      <td>-15.505516</td>\n      <td>-0.079101</td>\n      <td>-0.079133</td>\n      <td>173.198162</td>\n      <td>NaN</td>\n      <td>0</td>\n    </tr>\n  </tbody>\n</table>\n<p>8181 rows × 122 columns</p>\n</div>"
     },
     "execution_count": 23,
     "metadata": {},
     "output_type": "execute_result"
    }
   ],
   "source": [
    "data = pd.read_csv('C:\\\\Users\\\\exomat\\\\Desktop\\\\repo\\\\magisterka_analiza\\\\data\\\\preprocess_new\\\\AAPL_2y_8_diff_11_05_2021 09_27_21_full.csv', index_col = 0)\n",
    "data\n",
    "\n",
    "\n",
    "\n",
    "\n"
   ],
   "metadata": {
    "collapsed": false,
    "pycharm": {
     "name": "#%%\n"
    }
   }
  },
  {
   "cell_type": "code",
   "execution_count": 24,
   "outputs": [
    {
     "data": {
      "text/plain": "-1    2759\n 1    2747\n 0    2675\nName: class_column, dtype: int64"
     },
     "execution_count": 24,
     "metadata": {},
     "output_type": "execute_result"
    }
   ],
   "source": [
    "\n",
    "# Class divide\n",
    "data['class_column'].value_counts()"
   ],
   "metadata": {
    "collapsed": false,
    "pycharm": {
     "name": "#%%\n"
    }
   }
  },
  {
   "cell_type": "code",
   "execution_count": 25,
   "outputs": [],
   "source": [
    "# del (data['close'])\n",
    "del (data['close_shift'])\n",
    "data = data.dropna()\n",
    "train_set = data.iloc[:-ROWS_TO_PREDICT]\n",
    "train_set = train_set.iloc[:-WINDOW] # optional drop last n rows (avoid of data leak)\n",
    "test_set =data.iloc[-ROWS_TO_PREDICT:]"
   ],
   "metadata": {
    "collapsed": false,
    "pycharm": {
     "name": "#%%\n"
    }
   }
  },
  {
   "cell_type": "code",
   "execution_count": 26,
   "outputs": [
    {
     "data": {
      "text/plain": "-1    2759\n 1    2746\n 0    2675\nName: class_column, dtype: int64"
     },
     "execution_count": 26,
     "metadata": {},
     "output_type": "execute_result"
    }
   ],
   "source": [
    "data['class_column'].value_counts()"
   ],
   "metadata": {
    "collapsed": false,
    "pycharm": {
     "name": "#%%\n"
    }
   }
  },
  {
   "cell_type": "code",
   "execution_count": 27,
   "outputs": [
    {
     "data": {
      "text/plain": "                                 open        high         low       close  \\\nDatetime                                                                    \n2019-05-13 19:00:00-04:00   46.242500   46.262500   46.057500   46.057500   \n2019-05-14 04:00:00-04:00   46.565000   46.735000   46.565000   46.640000   \n2019-05-14 05:00:00-04:00   46.625000   46.750000   46.577500   46.750000   \n2019-05-14 06:00:00-04:00   46.725000   46.825000   46.725000   46.800000   \n2019-05-14 07:00:00-04:00   46.792500   47.075000   46.790000   46.992500   \n...                               ...         ...         ...         ...   \n2021-05-06 08:00:00-04:00  128.210000  128.310000  127.780000  127.940000   \n2021-05-06 09:00:00-04:00  127.940000  129.799700  127.700000  127.900000   \n2021-05-06 09:30:00-04:00  127.680000  128.550003  127.129997  127.830002   \n2021-05-06 10:30:00-04:00  127.830002  128.514999  127.620003  128.470093   \n2021-05-06 11:30:00-04:00  128.479996  129.188004  128.149002  129.139999   \n\n                            Adj Close      volume    open_1    open_2  \\\nDatetime                                                                \n2019-05-13 19:00:00-04:00   46.057500         0.0  0.007500 -0.132500   \n2019-05-14 04:00:00-04:00   46.640000         0.0  0.322500  0.330000   \n2019-05-14 05:00:00-04:00   46.750000         0.0  0.060000  0.382500   \n2019-05-14 06:00:00-04:00   46.800000         0.0  0.100000  0.160000   \n2019-05-14 07:00:00-04:00   46.992500         0.0  0.067500  0.167500   \n...                               ...         ...       ...       ...   \n2021-05-06 08:00:00-04:00  127.940000         0.0 -0.130000 -0.010000   \n2021-05-06 09:00:00-04:00  127.900000         0.0 -0.270000 -0.400000   \n2021-05-06 09:30:00-04:00  127.830002  19096274.0 -0.260000 -0.530000   \n2021-05-06 10:30:00-04:00  128.470093  11287019.0  0.150002 -0.109998   \n2021-05-06 11:30:00-04:00  129.139999  10181028.0  0.649994  0.799995   \n\n                             open_3    open_4  ...  momentum_ao  \\\nDatetime                                       ...                \n2019-05-13 19:00:00-04:00 -0.187500 -0.130001  ...     0.000000   \n2019-05-14 04:00:00-04:00  0.190000  0.135000  ...     0.000000   \n2019-05-14 05:00:00-04:00  0.390000  0.250000  ...     0.000000   \n2019-05-14 06:00:00-04:00  0.482500  0.490000  ...     0.000000   \n2019-05-14 07:00:00-04:00  0.227500  0.550000  ...     0.056875   \n...                             ...       ...  ...          ...   \n2021-05-06 08:00:00-04:00 -0.330000 -0.030000  ...    -0.106235   \n2021-05-06 09:00:00-04:00 -0.280000 -0.600000  ...    -0.006407   \n2021-05-06 09:30:00-04:00 -0.660000 -0.540000  ...    -0.040732   \n2021-05-06 10:30:00-04:00 -0.379998 -0.509998  ...    -0.062453   \n2021-05-06 11:30:00-04:00  0.539996  0.269996  ...    -0.011870   \n\n                           momentum_kama  momentum_roc  momentum_ppo  \\\nDatetime                                                               \n2019-05-13 19:00:00-04:00      46.153711      0.000000      0.000000   \n2019-05-14 04:00:00-04:00      46.373640      0.000000      0.000000   \n2019-05-14 05:00:00-04:00      46.539028      0.000000      0.000000   \n2019-05-14 06:00:00-04:00      46.653430      0.000000      0.000000   \n2019-05-14 07:00:00-04:00      46.799702      0.000000      0.000000   \n...                                  ...           ...           ...   \n2021-05-06 08:00:00-04:00     128.626202     -1.113995    -50.481265   \n2021-05-06 09:00:00-04:00     128.610163     -0.779643    -54.747495   \n2021-05-06 09:30:00-04:00     128.599900     -0.195107     -3.731014   \n2021-05-06 10:30:00-04:00     128.595510      0.249785      8.813165   \n2021-05-06 11:30:00-04:00     128.647261      0.914276     15.133319   \n\n                           momentum_ppo_signal  momentum_ppo_hist  others_dr  \\\nDatetime                                                                       \n2019-05-13 19:00:00-04:00             0.000000           0.000000  -0.389294   \n2019-05-14 04:00:00-04:00             0.000000           0.000000   1.264723   \n2019-05-14 05:00:00-04:00             0.000000           0.000000   0.235849   \n2019-05-14 06:00:00-04:00             0.000000           0.000000   0.106952   \n2019-05-14 07:00:00-04:00             0.000000           0.000000   0.411325   \n...                                        ...                ...        ...   \n2021-05-06 08:00:00-04:00           -30.729011         -19.752254  -0.202808   \n2021-05-06 09:00:00-04:00           -35.532708         -19.214787  -0.031265   \n2021-05-06 09:30:00-04:00           -29.172369          25.441355  -0.054729   \n2021-05-06 10:30:00-04:00           -21.575262          30.388427   0.500736   \n2021-05-06 11:30:00-04:00           -14.233546          29.366865   0.521449   \n\n                           others_dlr   others_cr  class_column  \nDatetime                                                         \n2019-05-13 19:00:00-04:00   -0.390054   -0.389294             1  \n2019-05-14 04:00:00-04:00    1.256793    0.870506             0  \n2019-05-14 05:00:00-04:00    0.235571    1.108408             1  \n2019-05-14 06:00:00-04:00    0.106895    1.216545             1  \n2019-05-14 07:00:00-04:00    0.410481    1.632874             0  \n...                               ...         ...           ...  \n2021-05-06 08:00:00-04:00   -0.203014  176.701811             1  \n2021-05-06 09:00:00-04:00   -0.031270  176.615301             1  \n2021-05-06 09:30:00-04:00   -0.054744  176.463913             1  \n2021-05-06 10:30:00-04:00    0.499487  177.848268             1  \n2021-05-06 11:30:00-04:00    0.520095  179.297106             1  \n\n[8138 rows x 121 columns]",
      "text/html": "<div>\n<style scoped>\n    .dataframe tbody tr th:only-of-type {\n        vertical-align: middle;\n    }\n\n    .dataframe tbody tr th {\n        vertical-align: top;\n    }\n\n    .dataframe thead th {\n        text-align: right;\n    }\n</style>\n<table border=\"1\" class=\"dataframe\">\n  <thead>\n    <tr style=\"text-align: right;\">\n      <th></th>\n      <th>open</th>\n      <th>high</th>\n      <th>low</th>\n      <th>close</th>\n      <th>Adj Close</th>\n      <th>volume</th>\n      <th>open_1</th>\n      <th>open_2</th>\n      <th>open_3</th>\n      <th>open_4</th>\n      <th>...</th>\n      <th>momentum_ao</th>\n      <th>momentum_kama</th>\n      <th>momentum_roc</th>\n      <th>momentum_ppo</th>\n      <th>momentum_ppo_signal</th>\n      <th>momentum_ppo_hist</th>\n      <th>others_dr</th>\n      <th>others_dlr</th>\n      <th>others_cr</th>\n      <th>class_column</th>\n    </tr>\n    <tr>\n      <th>Datetime</th>\n      <th></th>\n      <th></th>\n      <th></th>\n      <th></th>\n      <th></th>\n      <th></th>\n      <th></th>\n      <th></th>\n      <th></th>\n      <th></th>\n      <th></th>\n      <th></th>\n      <th></th>\n      <th></th>\n      <th></th>\n      <th></th>\n      <th></th>\n      <th></th>\n      <th></th>\n      <th></th>\n      <th></th>\n    </tr>\n  </thead>\n  <tbody>\n    <tr>\n      <th>2019-05-13 19:00:00-04:00</th>\n      <td>46.242500</td>\n      <td>46.262500</td>\n      <td>46.057500</td>\n      <td>46.057500</td>\n      <td>46.057500</td>\n      <td>0.0</td>\n      <td>0.007500</td>\n      <td>-0.132500</td>\n      <td>-0.187500</td>\n      <td>-0.130001</td>\n      <td>...</td>\n      <td>0.000000</td>\n      <td>46.153711</td>\n      <td>0.000000</td>\n      <td>0.000000</td>\n      <td>0.000000</td>\n      <td>0.000000</td>\n      <td>-0.389294</td>\n      <td>-0.390054</td>\n      <td>-0.389294</td>\n      <td>1</td>\n    </tr>\n    <tr>\n      <th>2019-05-14 04:00:00-04:00</th>\n      <td>46.565000</td>\n      <td>46.735000</td>\n      <td>46.565000</td>\n      <td>46.640000</td>\n      <td>46.640000</td>\n      <td>0.0</td>\n      <td>0.322500</td>\n      <td>0.330000</td>\n      <td>0.190000</td>\n      <td>0.135000</td>\n      <td>...</td>\n      <td>0.000000</td>\n      <td>46.373640</td>\n      <td>0.000000</td>\n      <td>0.000000</td>\n      <td>0.000000</td>\n      <td>0.000000</td>\n      <td>1.264723</td>\n      <td>1.256793</td>\n      <td>0.870506</td>\n      <td>0</td>\n    </tr>\n    <tr>\n      <th>2019-05-14 05:00:00-04:00</th>\n      <td>46.625000</td>\n      <td>46.750000</td>\n      <td>46.577500</td>\n      <td>46.750000</td>\n      <td>46.750000</td>\n      <td>0.0</td>\n      <td>0.060000</td>\n      <td>0.382500</td>\n      <td>0.390000</td>\n      <td>0.250000</td>\n      <td>...</td>\n      <td>0.000000</td>\n      <td>46.539028</td>\n      <td>0.000000</td>\n      <td>0.000000</td>\n      <td>0.000000</td>\n      <td>0.000000</td>\n      <td>0.235849</td>\n      <td>0.235571</td>\n      <td>1.108408</td>\n      <td>1</td>\n    </tr>\n    <tr>\n      <th>2019-05-14 06:00:00-04:00</th>\n      <td>46.725000</td>\n      <td>46.825000</td>\n      <td>46.725000</td>\n      <td>46.800000</td>\n      <td>46.800000</td>\n      <td>0.0</td>\n      <td>0.100000</td>\n      <td>0.160000</td>\n      <td>0.482500</td>\n      <td>0.490000</td>\n      <td>...</td>\n      <td>0.000000</td>\n      <td>46.653430</td>\n      <td>0.000000</td>\n      <td>0.000000</td>\n      <td>0.000000</td>\n      <td>0.000000</td>\n      <td>0.106952</td>\n      <td>0.106895</td>\n      <td>1.216545</td>\n      <td>1</td>\n    </tr>\n    <tr>\n      <th>2019-05-14 07:00:00-04:00</th>\n      <td>46.792500</td>\n      <td>47.075000</td>\n      <td>46.790000</td>\n      <td>46.992500</td>\n      <td>46.992500</td>\n      <td>0.0</td>\n      <td>0.067500</td>\n      <td>0.167500</td>\n      <td>0.227500</td>\n      <td>0.550000</td>\n      <td>...</td>\n      <td>0.056875</td>\n      <td>46.799702</td>\n      <td>0.000000</td>\n      <td>0.000000</td>\n      <td>0.000000</td>\n      <td>0.000000</td>\n      <td>0.411325</td>\n      <td>0.410481</td>\n      <td>1.632874</td>\n      <td>0</td>\n    </tr>\n    <tr>\n      <th>...</th>\n      <td>...</td>\n      <td>...</td>\n      <td>...</td>\n      <td>...</td>\n      <td>...</td>\n      <td>...</td>\n      <td>...</td>\n      <td>...</td>\n      <td>...</td>\n      <td>...</td>\n      <td>...</td>\n      <td>...</td>\n      <td>...</td>\n      <td>...</td>\n      <td>...</td>\n      <td>...</td>\n      <td>...</td>\n      <td>...</td>\n      <td>...</td>\n      <td>...</td>\n      <td>...</td>\n    </tr>\n    <tr>\n      <th>2021-05-06 08:00:00-04:00</th>\n      <td>128.210000</td>\n      <td>128.310000</td>\n      <td>127.780000</td>\n      <td>127.940000</td>\n      <td>127.940000</td>\n      <td>0.0</td>\n      <td>-0.130000</td>\n      <td>-0.010000</td>\n      <td>-0.330000</td>\n      <td>-0.030000</td>\n      <td>...</td>\n      <td>-0.106235</td>\n      <td>128.626202</td>\n      <td>-1.113995</td>\n      <td>-50.481265</td>\n      <td>-30.729011</td>\n      <td>-19.752254</td>\n      <td>-0.202808</td>\n      <td>-0.203014</td>\n      <td>176.701811</td>\n      <td>1</td>\n    </tr>\n    <tr>\n      <th>2021-05-06 09:00:00-04:00</th>\n      <td>127.940000</td>\n      <td>129.799700</td>\n      <td>127.700000</td>\n      <td>127.900000</td>\n      <td>127.900000</td>\n      <td>0.0</td>\n      <td>-0.270000</td>\n      <td>-0.400000</td>\n      <td>-0.280000</td>\n      <td>-0.600000</td>\n      <td>...</td>\n      <td>-0.006407</td>\n      <td>128.610163</td>\n      <td>-0.779643</td>\n      <td>-54.747495</td>\n      <td>-35.532708</td>\n      <td>-19.214787</td>\n      <td>-0.031265</td>\n      <td>-0.031270</td>\n      <td>176.615301</td>\n      <td>1</td>\n    </tr>\n    <tr>\n      <th>2021-05-06 09:30:00-04:00</th>\n      <td>127.680000</td>\n      <td>128.550003</td>\n      <td>127.129997</td>\n      <td>127.830002</td>\n      <td>127.830002</td>\n      <td>19096274.0</td>\n      <td>-0.260000</td>\n      <td>-0.530000</td>\n      <td>-0.660000</td>\n      <td>-0.540000</td>\n      <td>...</td>\n      <td>-0.040732</td>\n      <td>128.599900</td>\n      <td>-0.195107</td>\n      <td>-3.731014</td>\n      <td>-29.172369</td>\n      <td>25.441355</td>\n      <td>-0.054729</td>\n      <td>-0.054744</td>\n      <td>176.463913</td>\n      <td>1</td>\n    </tr>\n    <tr>\n      <th>2021-05-06 10:30:00-04:00</th>\n      <td>127.830002</td>\n      <td>128.514999</td>\n      <td>127.620003</td>\n      <td>128.470093</td>\n      <td>128.470093</td>\n      <td>11287019.0</td>\n      <td>0.150002</td>\n      <td>-0.109998</td>\n      <td>-0.379998</td>\n      <td>-0.509998</td>\n      <td>...</td>\n      <td>-0.062453</td>\n      <td>128.595510</td>\n      <td>0.249785</td>\n      <td>8.813165</td>\n      <td>-21.575262</td>\n      <td>30.388427</td>\n      <td>0.500736</td>\n      <td>0.499487</td>\n      <td>177.848268</td>\n      <td>1</td>\n    </tr>\n    <tr>\n      <th>2021-05-06 11:30:00-04:00</th>\n      <td>128.479996</td>\n      <td>129.188004</td>\n      <td>128.149002</td>\n      <td>129.139999</td>\n      <td>129.139999</td>\n      <td>10181028.0</td>\n      <td>0.649994</td>\n      <td>0.799995</td>\n      <td>0.539996</td>\n      <td>0.269996</td>\n      <td>...</td>\n      <td>-0.011870</td>\n      <td>128.647261</td>\n      <td>0.914276</td>\n      <td>15.133319</td>\n      <td>-14.233546</td>\n      <td>29.366865</td>\n      <td>0.521449</td>\n      <td>0.520095</td>\n      <td>179.297106</td>\n      <td>1</td>\n    </tr>\n  </tbody>\n</table>\n<p>8138 rows × 121 columns</p>\n</div>"
     },
     "execution_count": 27,
     "metadata": {},
     "output_type": "execute_result"
    }
   ],
   "source": [
    "train_set"
   ],
   "metadata": {
    "collapsed": false,
    "pycharm": {
     "name": "#%%\n"
    }
   }
  },
  {
   "cell_type": "code",
   "execution_count": 28,
   "outputs": [],
   "source": [
    "y = data['class_column']\n",
    "features = [x for x in data.columns if x not in ['class_column']]\n",
    "x = data[features]\n",
    "scaler = MinMaxScaler()\n",
    "# x = pd.DataFrame(scaler.fit_transform(x.values), columns=x.columns, index=x.index)\n",
    "x_train= x.iloc[:-ROWS_TO_PREDICT]\n",
    "y_train= y.iloc[:-ROWS_TO_PREDICT]\n",
    "x_test =x.iloc[-ROWS_TO_PREDICT:]\n",
    "y_test=y.iloc[-ROWS_TO_PREDICT:]"
   ],
   "metadata": {
    "collapsed": false,
    "pycharm": {
     "name": "#%%\n"
    }
   }
  },
  {
   "cell_type": "code",
   "execution_count": 29,
   "outputs": [],
   "source": [
    "classifiers = dict()\n",
    "\n",
    "classifiers['DecisionTreeClassifier 1'] = DecisionTreeClassifier(max_depth=10, random_state=0,criterion='gini',splitter='best')\n",
    "classifiers['DecisionTreeClassifier 2'] = DecisionTreeClassifier(max_depth=10, random_state=0,criterion='gini',splitter='random')\n",
    "classifiers['DecisionTreeClassifier 3'] = DecisionTreeClassifier(max_depth=10, random_state=0,criterion='entropy',splitter='best')\n",
    "classifiers['RandomForestClassifier 4'] = RandomForestClassifier(n_estimators=1000, max_depth=3, random_state=0,criterion='gini', n_jobs = -1)\n",
    "classifiers['RandomForestClassifier 5'] = RandomForestClassifier(n_estimators=100, max_depth=2, random_state=0,criterion='entropy', n_jobs = -1)\n",
    "classifiers['GradientBoostingClassifier 1'] = GradientBoostingClassifier(n_estimators=100,random_state=0,criterion='friedman_mse',max_depth=3, learning_rate=0.1)\n",
    "classifiers['GradientBoostingClassifier 2'] = GradientBoostingClassifier(n_estimators=1000,random_state=0,criterion='friedman_mse',max_depth=3, learning_rate=0.1)"
   ],
   "metadata": {
    "collapsed": false,
    "pycharm": {
     "name": "#%%\n"
    }
   }
  },
  {
   "cell_type": "code",
   "execution_count": 30,
   "outputs": [],
   "source": [
    "def print_conf_matrix(test_y, predict, name):\n",
    "    matrix = confusion_matrix(test_y, predict,  labels=[-1, 0, 1])\n",
    "    print(matrix)\n",
    "    ax= plt.subplot()\n",
    "    sn.heatmap(matrix, annot=True, ax = ax) #annot=True to annotate cells\n",
    "\n",
    "    # labels, title and ticks\n",
    "    ax.set_xlabel('Predicted labels', color='white')\n",
    "    ax.set_ylabel('True labels', color='white')\n",
    "    ax.set_title(f'Confusion Matrix for {name}' , color='white')\n",
    "    ax.xaxis.set_ticklabels(['-1','0', '1'], color='white')\n",
    "    ax.yaxis.set_ticklabels(['-1','0', '1'], color='white')\n",
    "    plt.show()\n",
    "\n",
    "def train_model(model,train_x, train_y):\n",
    "    model.fit(train_x, train_y)"
   ],
   "metadata": {
    "collapsed": false,
    "pycharm": {
     "name": "#%%\n"
    }
   }
  },
  {
   "cell_type": "code",
   "execution_count": 31,
   "outputs": [
    {
     "name": "stdout",
     "output_type": "stream",
     "text": [
      "Calculate:  DecisionTreeClassifier 1\n",
      "Score_train:  0.6881905229560521\n",
      "Score:  0.35294117647058826\n",
      "Calculate:  DecisionTreeClassifier 2\n",
      "Score_train:  0.6462067272280874\n",
      "Score:  0.35294117647058826\n",
      "Calculate:  DecisionTreeClassifier 3\n",
      "Score_train:  0.6702676160078567\n",
      "Score:  0.5\n",
      "Calculate:  RandomForestClassifier 4\n",
      "Score_train:  0.5094524920206236\n",
      "Score:  0.47058823529411764\n",
      "Calculate:  RandomForestClassifier 5\n",
      "Score_train:  0.47557083231033637\n",
      "Score:  0.38235294117647056\n",
      "Calculate:  GradientBoostingClassifier 1\n",
      "Score_train:  0.693346427694574\n",
      "Score:  0.3235294117647059\n",
      "Calculate:  GradientBoostingClassifier 2\n"
     ]
    },
    {
     "ename": "KeyboardInterrupt",
     "evalue": "",
     "output_type": "error",
     "traceback": [
      "\u001B[1;31m---------------------------------------------------------------------------\u001B[0m",
      "\u001B[1;31mKeyboardInterrupt\u001B[0m                         Traceback (most recent call last)",
      "\u001B[1;32m<ipython-input-31-6eb478b4bdac>\u001B[0m in \u001B[0;36m<module>\u001B[1;34m\u001B[0m\n\u001B[0;32m      5\u001B[0m \u001B[1;32mfor\u001B[0m \u001B[0mk\u001B[0m\u001B[1;33m,\u001B[0m\u001B[0mv\u001B[0m \u001B[1;32min\u001B[0m \u001B[0mclassifiers\u001B[0m\u001B[1;33m.\u001B[0m\u001B[0mitems\u001B[0m\u001B[1;33m(\u001B[0m\u001B[1;33m)\u001B[0m\u001B[1;33m:\u001B[0m\u001B[1;33m\u001B[0m\u001B[1;33m\u001B[0m\u001B[0m\n\u001B[0;32m      6\u001B[0m     \u001B[0mprint\u001B[0m\u001B[1;33m(\u001B[0m\u001B[1;34m\"Calculate: \"\u001B[0m\u001B[1;33m,\u001B[0m \u001B[0mk\u001B[0m\u001B[1;33m)\u001B[0m\u001B[1;33m\u001B[0m\u001B[1;33m\u001B[0m\u001B[0m\n\u001B[1;32m----> 7\u001B[1;33m     \u001B[0mtrain_model\u001B[0m\u001B[1;33m(\u001B[0m\u001B[0mv\u001B[0m\u001B[1;33m,\u001B[0m\u001B[0mx_train\u001B[0m\u001B[1;33m,\u001B[0m\u001B[0my_train\u001B[0m\u001B[1;33m)\u001B[0m\u001B[1;33m\u001B[0m\u001B[1;33m\u001B[0m\u001B[0m\n\u001B[0m\u001B[0;32m      8\u001B[0m     \u001B[0mpredictions_train\u001B[0m\u001B[1;33m[\u001B[0m\u001B[0mk\u001B[0m\u001B[1;33m]\u001B[0m \u001B[1;33m=\u001B[0m \u001B[0mv\u001B[0m\u001B[1;33m.\u001B[0m\u001B[0mpredict\u001B[0m\u001B[1;33m(\u001B[0m\u001B[0mx_train\u001B[0m\u001B[1;33m)\u001B[0m\u001B[1;33m\u001B[0m\u001B[1;33m\u001B[0m\u001B[0m\n\u001B[0;32m      9\u001B[0m     \u001B[0mscore_train\u001B[0m\u001B[1;33m[\u001B[0m\u001B[0mk\u001B[0m\u001B[1;33m]\u001B[0m \u001B[1;33m=\u001B[0m \u001B[0maccuracy_score\u001B[0m\u001B[1;33m(\u001B[0m\u001B[0my_train\u001B[0m\u001B[1;33m.\u001B[0m\u001B[0mvalues\u001B[0m\u001B[1;33m,\u001B[0m \u001B[0mpredictions_train\u001B[0m\u001B[1;33m[\u001B[0m\u001B[0mk\u001B[0m\u001B[1;33m]\u001B[0m\u001B[1;33m)\u001B[0m\u001B[1;33m\u001B[0m\u001B[1;33m\u001B[0m\u001B[0m\n",
      "\u001B[1;32m<ipython-input-30-40736428b3a2>\u001B[0m in \u001B[0;36mtrain_model\u001B[1;34m(model, train_x, train_y)\u001B[0m\n\u001B[0;32m     14\u001B[0m \u001B[1;33m\u001B[0m\u001B[0m\n\u001B[0;32m     15\u001B[0m \u001B[1;32mdef\u001B[0m \u001B[0mtrain_model\u001B[0m\u001B[1;33m(\u001B[0m\u001B[0mmodel\u001B[0m\u001B[1;33m,\u001B[0m\u001B[0mtrain_x\u001B[0m\u001B[1;33m,\u001B[0m \u001B[0mtrain_y\u001B[0m\u001B[1;33m)\u001B[0m\u001B[1;33m:\u001B[0m\u001B[1;33m\u001B[0m\u001B[1;33m\u001B[0m\u001B[0m\n\u001B[1;32m---> 16\u001B[1;33m     \u001B[0mmodel\u001B[0m\u001B[1;33m.\u001B[0m\u001B[0mfit\u001B[0m\u001B[1;33m(\u001B[0m\u001B[0mtrain_x\u001B[0m\u001B[1;33m,\u001B[0m \u001B[0mtrain_y\u001B[0m\u001B[1;33m)\u001B[0m\u001B[1;33m\u001B[0m\u001B[1;33m\u001B[0m\u001B[0m\n\u001B[0m\u001B[0;32m     17\u001B[0m \u001B[1;33m\u001B[0m\u001B[0m\n",
      "\u001B[1;32m~\\anaconda3\\envs\\magisterka_analiza\\lib\\site-packages\\sklearn\\ensemble\\_gb.py\u001B[0m in \u001B[0;36mfit\u001B[1;34m(self, X, y, sample_weight, monitor)\u001B[0m\n\u001B[0;32m    496\u001B[0m \u001B[1;33m\u001B[0m\u001B[0m\n\u001B[0;32m    497\u001B[0m         \u001B[1;31m# fit the boosting stages\u001B[0m\u001B[1;33m\u001B[0m\u001B[1;33m\u001B[0m\u001B[1;33m\u001B[0m\u001B[0m\n\u001B[1;32m--> 498\u001B[1;33m         n_stages = self._fit_stages(\n\u001B[0m\u001B[0;32m    499\u001B[0m             \u001B[0mX\u001B[0m\u001B[1;33m,\u001B[0m \u001B[0my\u001B[0m\u001B[1;33m,\u001B[0m \u001B[0mraw_predictions\u001B[0m\u001B[1;33m,\u001B[0m \u001B[0msample_weight\u001B[0m\u001B[1;33m,\u001B[0m \u001B[0mself\u001B[0m\u001B[1;33m.\u001B[0m\u001B[0m_rng\u001B[0m\u001B[1;33m,\u001B[0m \u001B[0mX_val\u001B[0m\u001B[1;33m,\u001B[0m \u001B[0my_val\u001B[0m\u001B[1;33m,\u001B[0m\u001B[1;33m\u001B[0m\u001B[1;33m\u001B[0m\u001B[0m\n\u001B[0;32m    500\u001B[0m             sample_weight_val, begin_at_stage, monitor, X_idx_sorted)\n",
      "\u001B[1;32m~\\anaconda3\\envs\\magisterka_analiza\\lib\\site-packages\\sklearn\\ensemble\\_gb.py\u001B[0m in \u001B[0;36m_fit_stages\u001B[1;34m(self, X, y, raw_predictions, sample_weight, random_state, X_val, y_val, sample_weight_val, begin_at_stage, monitor, X_idx_sorted)\u001B[0m\n\u001B[0;32m    553\u001B[0m \u001B[1;33m\u001B[0m\u001B[0m\n\u001B[0;32m    554\u001B[0m             \u001B[1;31m# fit next stage of trees\u001B[0m\u001B[1;33m\u001B[0m\u001B[1;33m\u001B[0m\u001B[1;33m\u001B[0m\u001B[0m\n\u001B[1;32m--> 555\u001B[1;33m             raw_predictions = self._fit_stage(\n\u001B[0m\u001B[0;32m    556\u001B[0m                 \u001B[0mi\u001B[0m\u001B[1;33m,\u001B[0m \u001B[0mX\u001B[0m\u001B[1;33m,\u001B[0m \u001B[0my\u001B[0m\u001B[1;33m,\u001B[0m \u001B[0mraw_predictions\u001B[0m\u001B[1;33m,\u001B[0m \u001B[0msample_weight\u001B[0m\u001B[1;33m,\u001B[0m \u001B[0msample_mask\u001B[0m\u001B[1;33m,\u001B[0m\u001B[1;33m\u001B[0m\u001B[1;33m\u001B[0m\u001B[0m\n\u001B[0;32m    557\u001B[0m                 random_state, X_idx_sorted, X_csc, X_csr)\n",
      "\u001B[1;32m~\\anaconda3\\envs\\magisterka_analiza\\lib\\site-packages\\sklearn\\ensemble\\_gb.py\u001B[0m in \u001B[0;36m_fit_stage\u001B[1;34m(self, i, X, y, raw_predictions, sample_weight, sample_mask, random_state, X_idx_sorted, X_csc, X_csr)\u001B[0m\n\u001B[0;32m    209\u001B[0m \u001B[1;33m\u001B[0m\u001B[0m\n\u001B[0;32m    210\u001B[0m             \u001B[0mX\u001B[0m \u001B[1;33m=\u001B[0m \u001B[0mX_csr\u001B[0m \u001B[1;32mif\u001B[0m \u001B[0mX_csr\u001B[0m \u001B[1;32mis\u001B[0m \u001B[1;32mnot\u001B[0m \u001B[1;32mNone\u001B[0m \u001B[1;32melse\u001B[0m \u001B[0mX\u001B[0m\u001B[1;33m\u001B[0m\u001B[1;33m\u001B[0m\u001B[0m\n\u001B[1;32m--> 211\u001B[1;33m             tree.fit(X, residual, sample_weight=sample_weight,\n\u001B[0m\u001B[0;32m    212\u001B[0m                      check_input=False, X_idx_sorted=X_idx_sorted)\n\u001B[0;32m    213\u001B[0m \u001B[1;33m\u001B[0m\u001B[0m\n",
      "\u001B[1;32m~\\anaconda3\\envs\\magisterka_analiza\\lib\\site-packages\\sklearn\\tree\\_classes.py\u001B[0m in \u001B[0;36mfit\u001B[1;34m(self, X, y, sample_weight, check_input, X_idx_sorted)\u001B[0m\n\u001B[0;32m   1240\u001B[0m         \"\"\"\n\u001B[0;32m   1241\u001B[0m \u001B[1;33m\u001B[0m\u001B[0m\n\u001B[1;32m-> 1242\u001B[1;33m         super().fit(\n\u001B[0m\u001B[0;32m   1243\u001B[0m             \u001B[0mX\u001B[0m\u001B[1;33m,\u001B[0m \u001B[0my\u001B[0m\u001B[1;33m,\u001B[0m\u001B[1;33m\u001B[0m\u001B[1;33m\u001B[0m\u001B[0m\n\u001B[0;32m   1244\u001B[0m             \u001B[0msample_weight\u001B[0m\u001B[1;33m=\u001B[0m\u001B[0msample_weight\u001B[0m\u001B[1;33m,\u001B[0m\u001B[1;33m\u001B[0m\u001B[1;33m\u001B[0m\u001B[0m\n",
      "\u001B[1;32m~\\anaconda3\\envs\\magisterka_analiza\\lib\\site-packages\\sklearn\\tree\\_classes.py\u001B[0m in \u001B[0;36mfit\u001B[1;34m(self, X, y, sample_weight, check_input, X_idx_sorted)\u001B[0m\n\u001B[0;32m    373\u001B[0m                                            min_impurity_split)\n\u001B[0;32m    374\u001B[0m \u001B[1;33m\u001B[0m\u001B[0m\n\u001B[1;32m--> 375\u001B[1;33m         \u001B[0mbuilder\u001B[0m\u001B[1;33m.\u001B[0m\u001B[0mbuild\u001B[0m\u001B[1;33m(\u001B[0m\u001B[0mself\u001B[0m\u001B[1;33m.\u001B[0m\u001B[0mtree_\u001B[0m\u001B[1;33m,\u001B[0m \u001B[0mX\u001B[0m\u001B[1;33m,\u001B[0m \u001B[0my\u001B[0m\u001B[1;33m,\u001B[0m \u001B[0msample_weight\u001B[0m\u001B[1;33m,\u001B[0m \u001B[0mX_idx_sorted\u001B[0m\u001B[1;33m)\u001B[0m\u001B[1;33m\u001B[0m\u001B[1;33m\u001B[0m\u001B[0m\n\u001B[0m\u001B[0;32m    376\u001B[0m \u001B[1;33m\u001B[0m\u001B[0m\n\u001B[0;32m    377\u001B[0m         \u001B[1;32mif\u001B[0m \u001B[0mself\u001B[0m\u001B[1;33m.\u001B[0m\u001B[0mn_outputs_\u001B[0m \u001B[1;33m==\u001B[0m \u001B[1;36m1\u001B[0m \u001B[1;32mand\u001B[0m \u001B[0mis_classifier\u001B[0m\u001B[1;33m(\u001B[0m\u001B[0mself\u001B[0m\u001B[1;33m)\u001B[0m\u001B[1;33m:\u001B[0m\u001B[1;33m\u001B[0m\u001B[1;33m\u001B[0m\u001B[0m\n",
      "\u001B[1;31mKeyboardInterrupt\u001B[0m: "
     ]
    }
   ],
   "source": [
    "predictions_train= dict()\n",
    "score_train = dict()\n",
    "predictions= dict()\n",
    "score = dict()\n",
    "for k,v in classifiers.items():\n",
    "    print(\"Calculate: \", k)\n",
    "    train_model(v,x_train,y_train)\n",
    "    predictions_train[k] = v.predict(x_train)\n",
    "    score_train[k] = accuracy_score(y_train.values, predictions_train[k])\n",
    "    predictions[k] = v.predict(x_test)\n",
    "    score[k] = accuracy_score(y_test.values, predictions[k])\n",
    "    print('Score_train: ',  score_train[k] )\n",
    "    print('Score: ',  score[k] )\n",
    "    # print_conf_matrix(test_y, predictions[k], k)\n",
    "\n",
    "headers = [\"Classifier type\", \"Accuracy\"]\n",
    "score_df = pd.DataFrame(score.items(), columns=headers)\n",
    "print(tabulate(score_df, headers, tablefmt=\"psql\"))\n"
   ],
   "metadata": {
    "collapsed": false,
    "pycharm": {
     "name": "#%%\n"
    }
   }
  },
  {
   "cell_type": "code",
   "execution_count": null,
   "outputs": [],
   "source": [
    "filename_to_export = f'../data/results/{symbol}_1_{WINDOW}_{ROWS_TO_PREDICT}_{ datetime.now().strftime(\"%d_%m_%Y %H_%M_%S\")}.csv'\n",
    "score_df.to_csv(filename_to_export, index=False)"
   ],
   "metadata": {
    "collapsed": false,
    "pycharm": {
     "name": "#%%\n"
    }
   }
  },
  {
   "cell_type": "code",
   "execution_count": null,
   "outputs": [],
   "source": [
    "rfe = RFE(classifiers['RandomForestClassifier 5'],10)\n",
    "fited = rfe.fit(x_train, y_train)\n",
    "rfe"
   ],
   "metadata": {
    "collapsed": false,
    "pycharm": {
     "name": "#%%\n"
    }
   }
  },
  {
   "cell_type": "code",
   "execution_count": null,
   "outputs": [],
   "source": [
    "names = x.columns\n",
    "columns=[]\n",
    "for i in range(len(fited.support_)):\n",
    "    if fited.support_[i]:\n",
    "        columns.append(names[i])\n",
    "\n",
    "print(\"Columns with predictive power:\", columns )\n",
    "columns = columns + ['high', 'low', 'volume', 'open']\n",
    "columns"
   ],
   "metadata": {
    "collapsed": false,
    "pycharm": {
     "name": "#%%\n"
    }
   }
  },
  {
   "cell_type": "code",
   "execution_count": null,
   "outputs": [],
   "source": [
    "x_test_cropped = x_test[columns]\n",
    "x_train_cropped = x_train[columns]\n",
    "x_train_cropped"
   ],
   "metadata": {
    "collapsed": false,
    "pycharm": {
     "name": "#%%\n"
    }
   }
  },
  {
   "cell_type": "code",
   "execution_count": null,
   "outputs": [],
   "source": [
    "classifiers_boosted = dict()\n",
    "classifiers_boosted['GradientBoostingClassifier 1'] = GradientBoostingClassifier(n_estimators=100,random_state=0,criterion='friedman_mse',max_depth=3, learning_rate=0.1)\n",
    "classifiers_boosted['GradientBoostingClassifier 2'] = GradientBoostingClassifier(n_estimators=1000,random_state=0,criterion='friedman_mse',max_depth=3, learning_rate=0.3)\n",
    "classifiers_boosted['GradientBoostingClassifier 3'] = GradientBoostingClassifier(n_estimators=1000,random_state=0,criterion='friedman_mse',max_depth=2, learning_rate=0.5)\n",
    "classifiers_boosted['GradientBoostingClassifier 4'] = GradientBoostingClassifier(n_estimators=1000,random_state=0,criterion='friedman_mse',max_depth=2, learning_rate=0.8)"
   ],
   "metadata": {
    "collapsed": false,
    "pycharm": {
     "name": "#%%\n"
    }
   }
  },
  {
   "cell_type": "code",
   "execution_count": null,
   "outputs": [],
   "source": [
    "predictions_train= dict()\n",
    "score_train = dict()\n",
    "predictions= dict()\n",
    "score = dict()\n",
    "for k,v in classifiers_boosted.items():\n",
    "    print(\"Calculate: \", k)\n",
    "    train_model(v,x_train_cropped,y_train)\n",
    "    predictions_train[k] = v.predict(x_train_cropped)\n",
    "    score_train[k] = accuracy_score(y_train.values, predictions_train[k])\n",
    "    predictions[k] = v.predict(x_test_cropped)\n",
    "    score[k] = accuracy_score(y_test.values, predictions[k])\n",
    "    print('Score_train: ',  score_train[k] )\n",
    "    print('Score: ',  score[k] )\n",
    "    # print_conf_matrix(test_y, predictions[k], k)\n",
    "\n",
    "headers = [\"Classifier type\", \"Accuracy\"]\n",
    "score_df = pd.DataFrame(score.items(), columns=headers)\n",
    "print(tabulate(score_df, headers, tablefmt=\"psql\"))"
   ],
   "metadata": {
    "collapsed": false,
    "pycharm": {
     "name": "#%%\n"
    }
   }
  },
  {
   "cell_type": "code",
   "execution_count": null,
   "outputs": [],
   "source": [
    "score_df.to_csv(filename_to_export,mode='a', index=False, header=False)"
   ],
   "metadata": {
    "collapsed": false,
    "pycharm": {
     "name": "#%%\n"
    }
   }
  },
  {
   "cell_type": "code",
   "execution_count": null,
   "outputs": [],
   "source": [],
   "metadata": {
    "collapsed": false,
    "pycharm": {
     "name": "#%%\n"
    }
   }
  }
 ],
 "metadata": {
  "kernelspec": {
   "name": "magisterka_analiza",
   "language": "python",
   "display_name": "Python magisterka"
  },
  "language_info": {
   "codemirror_mode": {
    "name": "ipython",
    "version": 2
   },
   "file_extension": ".py",
   "mimetype": "text/x-python",
   "name": "python",
   "nbconvert_exporter": "python",
   "pygments_lexer": "ipython2",
   "version": "2.7.6"
  }
 },
 "nbformat": 4,
 "nbformat_minor": 0
}