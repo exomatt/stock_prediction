{
 "cells": [
  {
   "cell_type": "code",
   "execution_count": 110,
   "outputs": [],
   "source": [
    "import yfinance as yf\n",
    "from datetime import datetime\n",
    "import pandas as pd\n",
    "import numpy as np\n",
    "import matplotlib.pyplot as plt\n",
    "from finta import TA\n",
    "import numpy as np\n",
    "from sklearn.ensemble import RandomForestClassifier, VotingClassifier\n",
    "from sklearn.model_selection import GridSearchCV, train_test_split\n",
    "from sklearn.preprocessing import MinMaxScaler\n",
    "from sklearn.tree import DecisionTreeClassifier\n",
    "from sklearn.ensemble import GradientBoostingClassifier\n",
    "from sklearn.metrics import confusion_matrix, classification_report, accuracy_score\n",
    "from sklearn.metrics import jaccard_score\n",
    "import seaborn as sn\n",
    "from tabulate import tabulate\n",
    "from xgboost import XGBClassifier\n",
    "from ta import add_all_ta_features\n",
    "from sklearn.feature_selection import RFE"
   ],
   "metadata": {
    "collapsed": false,
    "pycharm": {
     "name": "#%%\n"
    }
   }
  },
  {
   "cell_type": "code",
   "execution_count": 111,
   "outputs": [],
   "source": [
    "WINDOW = 8 # number of rows to look ahead to see what the price did\n",
    "FETCH_INTERVAL = \"60m\"  # fetch data by interval (including intraday if period < 60 days)\n",
    "        # valid intervals: 1m,2m,5m,15m,30m,60m,90m,1h,1d,5d,1wk,1mo,3mo\n",
    "        # (optional, default is '1d')\n",
    "INTERVAL = '1y'     # use \"period\" instead of start/end\n",
    "        # valid periods: 1d,5d,1mo,3mo,6mo,1y,2y,5y,10y,ytd,max\n",
    "        # (optional, default is '1mo')\n",
    "symbol = 'FB'      # Symbol of the desired stock\n",
    "INDICATORS = ['RSI', 'MACD', 'STOCH','ADL', 'ATR', 'MOM', 'MFI', 'ROC', 'CCI', 'VORTEX','WILLIAMS','OBV']\n",
    "ROWS_TO_PREDICT = 32\n",
    "# one day 16 rows of data"
   ],
   "metadata": {
    "collapsed": false,
    "pycharm": {
     "name": "#%%\n"
    }
   }
  },
  {
   "cell_type": "code",
   "execution_count": 112,
   "outputs": [
    {
     "name": "stdout",
     "output_type": "stream",
     "text": [
      "[*********************100%***********************]  1 of 1 completed\n"
     ]
    },
    {
     "data": {
      "text/plain": "                                 Open        High         Low       Close  \\\nDatetime                                                                    \n2020-03-17 04:00:00-04:00  152.500000  155.990000  152.500000  155.000000   \n2020-03-17 05:00:00-04:00  154.800000  154.990000  149.190000  149.820000   \n2020-03-17 06:00:00-04:00  149.320000  149.800000  146.010000  148.600000   \n2020-03-17 07:00:00-04:00  149.730000  152.000000  149.500000  151.000000   \n2020-03-17 08:00:00-04:00  150.810000  152.400000  147.910000  149.500000   \n...                               ...         ...         ...         ...   \n2021-03-16 15:30:00-04:00  281.130005  281.559998  278.910004  279.130005   \n2021-03-16 16:00:00-04:00  279.280000  279.290000  278.780000  279.185000   \n2021-03-16 17:00:00-04:00  279.130000  281.480000  279.120000  281.125000   \n2021-03-16 18:00:00-04:00  281.150000  281.380000  279.280000  280.800000   \n2021-03-16 19:00:00-04:00  280.800000  281.390000  279.980000  280.600000   \n\n                            Adj Close   Volume  \nDatetime                                        \n2020-03-17 04:00:00-04:00  155.000000        0  \n2020-03-17 05:00:00-04:00  149.820000        0  \n2020-03-17 06:00:00-04:00  148.600000        0  \n2020-03-17 07:00:00-04:00  151.000000        0  \n2020-03-17 08:00:00-04:00  149.500000        0  \n...                               ...      ...  \n2021-03-16 15:30:00-04:00  279.130005  2298570  \n2021-03-16 16:00:00-04:00  279.185000  1176864  \n2021-03-16 17:00:00-04:00  281.125000        0  \n2021-03-16 18:00:00-04:00  280.800000        0  \n2021-03-16 19:00:00-04:00  280.600000        0  \n\n[4131 rows x 6 columns]",
      "text/html": "<div>\n<style scoped>\n    .dataframe tbody tr th:only-of-type {\n        vertical-align: middle;\n    }\n\n    .dataframe tbody tr th {\n        vertical-align: top;\n    }\n\n    .dataframe thead th {\n        text-align: right;\n    }\n</style>\n<table border=\"1\" class=\"dataframe\">\n  <thead>\n    <tr style=\"text-align: right;\">\n      <th></th>\n      <th>Open</th>\n      <th>High</th>\n      <th>Low</th>\n      <th>Close</th>\n      <th>Adj Close</th>\n      <th>Volume</th>\n    </tr>\n    <tr>\n      <th>Datetime</th>\n      <th></th>\n      <th></th>\n      <th></th>\n      <th></th>\n      <th></th>\n      <th></th>\n    </tr>\n  </thead>\n  <tbody>\n    <tr>\n      <th>2020-03-17 04:00:00-04:00</th>\n      <td>152.500000</td>\n      <td>155.990000</td>\n      <td>152.500000</td>\n      <td>155.000000</td>\n      <td>155.000000</td>\n      <td>0</td>\n    </tr>\n    <tr>\n      <th>2020-03-17 05:00:00-04:00</th>\n      <td>154.800000</td>\n      <td>154.990000</td>\n      <td>149.190000</td>\n      <td>149.820000</td>\n      <td>149.820000</td>\n      <td>0</td>\n    </tr>\n    <tr>\n      <th>2020-03-17 06:00:00-04:00</th>\n      <td>149.320000</td>\n      <td>149.800000</td>\n      <td>146.010000</td>\n      <td>148.600000</td>\n      <td>148.600000</td>\n      <td>0</td>\n    </tr>\n    <tr>\n      <th>2020-03-17 07:00:00-04:00</th>\n      <td>149.730000</td>\n      <td>152.000000</td>\n      <td>149.500000</td>\n      <td>151.000000</td>\n      <td>151.000000</td>\n      <td>0</td>\n    </tr>\n    <tr>\n      <th>2020-03-17 08:00:00-04:00</th>\n      <td>150.810000</td>\n      <td>152.400000</td>\n      <td>147.910000</td>\n      <td>149.500000</td>\n      <td>149.500000</td>\n      <td>0</td>\n    </tr>\n    <tr>\n      <th>...</th>\n      <td>...</td>\n      <td>...</td>\n      <td>...</td>\n      <td>...</td>\n      <td>...</td>\n      <td>...</td>\n    </tr>\n    <tr>\n      <th>2021-03-16 15:30:00-04:00</th>\n      <td>281.130005</td>\n      <td>281.559998</td>\n      <td>278.910004</td>\n      <td>279.130005</td>\n      <td>279.130005</td>\n      <td>2298570</td>\n    </tr>\n    <tr>\n      <th>2021-03-16 16:00:00-04:00</th>\n      <td>279.280000</td>\n      <td>279.290000</td>\n      <td>278.780000</td>\n      <td>279.185000</td>\n      <td>279.185000</td>\n      <td>1176864</td>\n    </tr>\n    <tr>\n      <th>2021-03-16 17:00:00-04:00</th>\n      <td>279.130000</td>\n      <td>281.480000</td>\n      <td>279.120000</td>\n      <td>281.125000</td>\n      <td>281.125000</td>\n      <td>0</td>\n    </tr>\n    <tr>\n      <th>2021-03-16 18:00:00-04:00</th>\n      <td>281.150000</td>\n      <td>281.380000</td>\n      <td>279.280000</td>\n      <td>280.800000</td>\n      <td>280.800000</td>\n      <td>0</td>\n    </tr>\n    <tr>\n      <th>2021-03-16 19:00:00-04:00</th>\n      <td>280.800000</td>\n      <td>281.390000</td>\n      <td>279.980000</td>\n      <td>280.600000</td>\n      <td>280.600000</td>\n      <td>0</td>\n    </tr>\n  </tbody>\n</table>\n<p>4131 rows × 6 columns</p>\n</div>"
     },
     "execution_count": 112,
     "metadata": {},
     "output_type": "execute_result"
    }
   ],
   "source": [
    "data = yf.download(  # or pdr.get_data_yahoo(...\n",
    "        tickers = symbol,\n",
    "\n",
    "\n",
    "        period = INTERVAL,\n",
    "\n",
    "        interval = FETCH_INTERVAL,\n",
    "\n",
    "        # group by ticker (to access via data['SPY'])\n",
    "        # (optional, default is 'column')\n",
    "        group_by = 'ticker',\n",
    "\n",
    "        # adjust all OHLC automatically\n",
    "        # (optional, default is False)\n",
    "        # auto_adjust = True,\n",
    "\n",
    "        # download pre/post regular market hours data\n",
    "        # (optional, default is False)\n",
    "        prepost = True,\n",
    "\n",
    "        # use threads for mass downloading? (True/False/Integer)\n",
    "        # (optional, default is True)\n",
    "        threads = True,\n",
    "\n",
    "        # proxy URL scheme use use when downloading?\n",
    "        # (optional, default is None)\n",
    "        proxy = None\n",
    "    )\n",
    "data"
   ],
   "metadata": {
    "collapsed": false,
    "pycharm": {
     "name": "#%%\n"
    }
   }
  },
  {
   "cell_type": "code",
   "execution_count": 113,
   "outputs": [
    {
     "data": {
      "text/plain": "                                 open        high         low       close  \\\nDatetime                                                                    \n2020-03-17 04:00:00-04:00  152.500000  155.990000  152.500000  155.000000   \n2020-03-17 05:00:00-04:00  154.800000  154.990000  149.190000  149.820000   \n2020-03-17 06:00:00-04:00  149.320000  149.800000  146.010000  148.600000   \n2020-03-17 07:00:00-04:00  149.730000  152.000000  149.500000  151.000000   \n2020-03-17 08:00:00-04:00  150.810000  152.400000  147.910000  149.500000   \n2020-03-17 09:00:00-04:00  149.430000  150.510000  148.060000  150.490000   \n2020-03-17 09:30:00-04:00  150.259995  150.652206  140.000000  146.602707   \n2020-03-17 10:30:00-04:00  146.589996  151.300003  143.869995  150.000000   \n2020-03-17 11:30:00-04:00  150.000000  153.940002  148.740005  151.419998   \n2020-03-17 12:30:00-04:00  151.419998  151.850006  145.839996  147.404999   \n\n                            Adj Close   volume  \nDatetime                                        \n2020-03-17 04:00:00-04:00  155.000000        0  \n2020-03-17 05:00:00-04:00  149.820000        0  \n2020-03-17 06:00:00-04:00  148.600000        0  \n2020-03-17 07:00:00-04:00  151.000000        0  \n2020-03-17 08:00:00-04:00  149.500000        0  \n2020-03-17 09:00:00-04:00  150.490000        0  \n2020-03-17 09:30:00-04:00  146.602707  8866104  \n2020-03-17 10:30:00-04:00  150.000000  4780360  \n2020-03-17 11:30:00-04:00  151.419998  4152280  \n2020-03-17 12:30:00-04:00  147.404999  3028206  ",
      "text/html": "<div>\n<style scoped>\n    .dataframe tbody tr th:only-of-type {\n        vertical-align: middle;\n    }\n\n    .dataframe tbody tr th {\n        vertical-align: top;\n    }\n\n    .dataframe thead th {\n        text-align: right;\n    }\n</style>\n<table border=\"1\" class=\"dataframe\">\n  <thead>\n    <tr style=\"text-align: right;\">\n      <th></th>\n      <th>open</th>\n      <th>high</th>\n      <th>low</th>\n      <th>close</th>\n      <th>Adj Close</th>\n      <th>volume</th>\n    </tr>\n    <tr>\n      <th>Datetime</th>\n      <th></th>\n      <th></th>\n      <th></th>\n      <th></th>\n      <th></th>\n      <th></th>\n    </tr>\n  </thead>\n  <tbody>\n    <tr>\n      <th>2020-03-17 04:00:00-04:00</th>\n      <td>152.500000</td>\n      <td>155.990000</td>\n      <td>152.500000</td>\n      <td>155.000000</td>\n      <td>155.000000</td>\n      <td>0</td>\n    </tr>\n    <tr>\n      <th>2020-03-17 05:00:00-04:00</th>\n      <td>154.800000</td>\n      <td>154.990000</td>\n      <td>149.190000</td>\n      <td>149.820000</td>\n      <td>149.820000</td>\n      <td>0</td>\n    </tr>\n    <tr>\n      <th>2020-03-17 06:00:00-04:00</th>\n      <td>149.320000</td>\n      <td>149.800000</td>\n      <td>146.010000</td>\n      <td>148.600000</td>\n      <td>148.600000</td>\n      <td>0</td>\n    </tr>\n    <tr>\n      <th>2020-03-17 07:00:00-04:00</th>\n      <td>149.730000</td>\n      <td>152.000000</td>\n      <td>149.500000</td>\n      <td>151.000000</td>\n      <td>151.000000</td>\n      <td>0</td>\n    </tr>\n    <tr>\n      <th>2020-03-17 08:00:00-04:00</th>\n      <td>150.810000</td>\n      <td>152.400000</td>\n      <td>147.910000</td>\n      <td>149.500000</td>\n      <td>149.500000</td>\n      <td>0</td>\n    </tr>\n    <tr>\n      <th>2020-03-17 09:00:00-04:00</th>\n      <td>149.430000</td>\n      <td>150.510000</td>\n      <td>148.060000</td>\n      <td>150.490000</td>\n      <td>150.490000</td>\n      <td>0</td>\n    </tr>\n    <tr>\n      <th>2020-03-17 09:30:00-04:00</th>\n      <td>150.259995</td>\n      <td>150.652206</td>\n      <td>140.000000</td>\n      <td>146.602707</td>\n      <td>146.602707</td>\n      <td>8866104</td>\n    </tr>\n    <tr>\n      <th>2020-03-17 10:30:00-04:00</th>\n      <td>146.589996</td>\n      <td>151.300003</td>\n      <td>143.869995</td>\n      <td>150.000000</td>\n      <td>150.000000</td>\n      <td>4780360</td>\n    </tr>\n    <tr>\n      <th>2020-03-17 11:30:00-04:00</th>\n      <td>150.000000</td>\n      <td>153.940002</td>\n      <td>148.740005</td>\n      <td>151.419998</td>\n      <td>151.419998</td>\n      <td>4152280</td>\n    </tr>\n    <tr>\n      <th>2020-03-17 12:30:00-04:00</th>\n      <td>151.419998</td>\n      <td>151.850006</td>\n      <td>145.839996</td>\n      <td>147.404999</td>\n      <td>147.404999</td>\n      <td>3028206</td>\n    </tr>\n  </tbody>\n</table>\n</div>"
     },
     "execution_count": 113,
     "metadata": {},
     "output_type": "execute_result"
    }
   ],
   "source": [
    "data.rename(columns={\"Close\": 'close', \"High\": 'high', \"Low\": 'low', 'Volume': 'volume', 'Open': 'open'}, inplace=True)\n",
    "data.head(10)"
   ],
   "metadata": {
    "collapsed": false,
    "pycharm": {
     "name": "#%%\n"
    }
   }
  },
  {
   "cell_type": "code",
   "execution_count": 114,
   "outputs": [
    {
     "data": {
      "text/plain": "<AxesSubplot:xlabel='Datetime'>"
     },
     "execution_count": 114,
     "metadata": {},
     "output_type": "execute_result"
    },
    {
     "data": {
      "text/plain": "<Figure size 432x288 with 1 Axes>",
      "image/png": "[encoded data removed]"
     },
     "metadata": {
      "needs_background": "light"
     },
     "output_type": "display_data"
    }
   ],
   "source": [
    "data['close'].plot()"
   ],
   "metadata": {
    "collapsed": false,
    "pycharm": {
     "name": "#%%\n"
    }
   }
  },
  {
   "cell_type": "code",
   "execution_count": 115,
   "outputs": [
    {
     "name": "stderr",
     "output_type": "stream",
     "text": [
      "C:\\Users\\exomat\\anaconda3\\envs\\magisterka_analiza\\lib\\site-packages\\ta\\trend.py:768: RuntimeWarning: invalid value encountered in double_scalars\n",
      "  dip[i] = 100 * (self._dip[i] / self._trs[i])\n",
      "C:\\Users\\exomat\\anaconda3\\envs\\magisterka_analiza\\lib\\site-packages\\ta\\trend.py:772: RuntimeWarning: invalid value encountered in double_scalars\n",
      "  din[i] = 100 * (self._din[i] / self._trs[i])\n"
     ]
    }
   ],
   "source": [
    "def _get_indicator_data(data):\n",
    "    \"\"\"\n",
    "    Function that uses the finta API to calculate technical indicators used as the features\n",
    "    :return:\n",
    "    \"\"\"\n",
    "\n",
    "\n",
    "    data = add_all_ta_features(\n",
    "    data, open=\"open\", high=\"high\", low=\"low\", close=\"close\", volume=\"volume\", fillna=True)\n",
    "\n",
    "    # Instead of using the actual volume value (which changes over time), we normalize it with a moving volume average\n",
    "    # data['normVol'] = data['volume'] / data['volume'].ewm(5).mean()\n",
    "    # for i in range(1,50):\n",
    "    #     data[f'close{i}'] = data['close'].shift(i)\n",
    "    # Remove columns that won't be used as features\n",
    "    del (data['open'])\n",
    "    del (data['high'])\n",
    "    del (data['low'])\n",
    "    # del (data['volume'])\n",
    "    del (data['Adj Close'])\n",
    "\n",
    "    return data\n",
    "\n",
    "data = _get_indicator_data(data)"
   ],
   "metadata": {
    "collapsed": false,
    "pycharm": {
     "name": "#%%\n"
    }
   }
  },
  {
   "cell_type": "code",
   "execution_count": 116,
   "outputs": [
    {
     "data": {
      "text/plain": "                                close   volume    volume_adi  volume_obv  \\\nDatetime                                                                   \n2020-03-17 04:00:00-04:00  155.000000        0  0.000000e+00           0   \n2020-03-17 05:00:00-04:00  149.820000        0  0.000000e+00           0   \n2020-03-17 06:00:00-04:00  148.600000        0  0.000000e+00           0   \n2020-03-17 07:00:00-04:00  151.000000        0  0.000000e+00           0   \n2020-03-17 08:00:00-04:00  149.500000        0  0.000000e+00           0   \n...                               ...      ...           ...         ...   \n2021-03-16 15:30:00-04:00  279.130005  2298570  2.924776e+08   128430446   \n2021-03-16 16:00:00-04:00  279.185000  1176864  2.931699e+08   129607310   \n2021-03-16 17:00:00-04:00  281.125000        0  2.931699e+08   129607310   \n2021-03-16 18:00:00-04:00  280.800000        0  2.931699e+08   129607310   \n2021-03-16 19:00:00-04:00  280.600000        0  2.931699e+08   129607310   \n\n                           volume_cmf     volume_fi  volume_mfi  volume_em  \\\nDatetime                                                                     \n2020-03-17 04:00:00-04:00    0.000000  0.000000e+00   50.000000   0.000000   \n2020-03-17 05:00:00-04:00    0.000000 -0.000000e+00   50.000000   0.000000   \n2020-03-17 06:00:00-04:00    0.000000 -0.000000e+00   50.000000   0.000000   \n2020-03-17 07:00:00-04:00    0.000000 -0.000000e+00   50.000000   0.000000   \n2020-03-17 08:00:00-04:00    0.000000 -0.000000e+00   50.000000   0.000000   \n...                               ...           ...         ...        ...   \n2021-03-16 15:30:00-04:00    0.140553  1.094642e+06   50.293475  73.364324   \n2021-03-16 16:00:00-04:00    0.105939  9.475103e+05   47.555953 -52.002637   \n2021-03-16 17:00:00-04:00    0.188929  8.121517e+05   47.555953 -52.002637   \n2021-03-16 18:00:00-04:00    0.113762  6.961300e+05   47.555953 -52.002637   \n2021-03-16 19:00:00-04:00    0.113762  5.966829e+05   47.555953 -52.002637   \n\n                           volume_sma_em    volume_vpt  ...  momentum_wr  \\\nDatetime                                                ...                \n2020-03-17 04:00:00-04:00       0.000000    475.542379  ...   -28.366762   \n2020-03-17 05:00:00-04:00       0.000000     -0.000000  ...   -90.735294   \n2020-03-17 06:00:00-04:00       0.000000     -0.000000  ...   -74.048096   \n2020-03-17 07:00:00-04:00       0.000000      0.000000  ...   -50.000000   \n2020-03-17 08:00:00-04:00       0.000000      0.000000  ...   -65.030060   \n...                                  ...           ...  ...          ...   \n2021-03-16 15:30:00-04:00      50.587366   2173.244932  ...   -33.171753   \n2021-03-16 16:00:00-04:00      37.763616 -16038.488150  ...   -32.565681   \n2021-03-16 17:00:00-04:00      37.763616    231.869639  ...   -11.185949   \n2021-03-16 18:00:00-04:00      37.763616      0.000000  ...   -14.767605   \n2021-03-16 19:00:00-04:00      37.763616     -0.000000  ...   -16.971701   \n\n                           momentum_ao  momentum_kama  momentum_roc  \\\nDatetime                                                              \n2020-03-17 04:00:00-04:00     0.000000     155.000000      0.000000   \n2020-03-17 05:00:00-04:00     0.000000     152.759057      0.000000   \n2020-03-17 06:00:00-04:00     0.000000     150.896648      0.000000   \n2020-03-17 07:00:00-04:00     0.000000     150.938958      0.000000   \n2020-03-17 08:00:00-04:00     0.000000     150.335289      0.000000   \n...                                ...            ...           ...   \n2021-03-16 15:30:00-04:00     6.988854     278.509790      1.965299   \n2021-03-16 16:00:00-04:00     6.499151     278.545119      1.803165   \n2021-03-16 17:00:00-04:00     6.235594     278.729868      2.409748   \n2021-03-16 18:00:00-04:00     5.850740     278.868131      2.198282   \n2021-03-16 19:00:00-04:00     5.667909     278.884297      1.991858   \n\n                           momentum_ppo  momentum_ppo_signal  \\\nDatetime                                                       \n2020-03-17 04:00:00-04:00      0.000000             0.000000   \n2020-03-17 05:00:00-04:00      0.000000             0.000000   \n2020-03-17 06:00:00-04:00      0.000000             0.000000   \n2020-03-17 07:00:00-04:00      0.000000             0.000000   \n2020-03-17 08:00:00-04:00      0.000000             0.000000   \n...                                 ...                  ...   \n2021-03-16 15:30:00-04:00     29.219059            14.779179   \n2021-03-16 16:00:00-04:00     23.305977            16.484539   \n2021-03-16 17:00:00-04:00     12.682692            15.724170   \n2021-03-16 18:00:00-04:00      2.974645            13.174265   \n2021-03-16 19:00:00-04:00     -5.897017             9.360008   \n\n                           momentum_ppo_hist  others_dr  others_dlr  others_cr  \nDatetime                                                                        \n2020-03-17 04:00:00-04:00           0.000000 -37.040855    0.000000   0.000000  \n2020-03-17 05:00:00-04:00           0.000000  -3.341935   -3.399054  -3.341935  \n2020-03-17 06:00:00-04:00           0.000000  -0.814311   -0.817644  -4.129032  \n2020-03-17 07:00:00-04:00           0.000000   1.615074    1.602170  -2.580645  \n2020-03-17 08:00:00-04:00           0.000000  -0.993377   -0.998344  -3.548387  \n...                                      ...        ...         ...        ...  \n2021-03-16 15:30:00-04:00          14.439879  -0.707847   -0.710364  80.083874  \n2021-03-16 16:00:00-04:00           6.821438   0.019702    0.019700  80.119355  \n2021-03-16 17:00:00-04:00          -3.041477   0.694880    0.692477  81.370968  \n2021-03-16 18:00:00-04:00         -10.199620  -0.115607   -0.115674  81.161290  \n2021-03-16 19:00:00-04:00         -15.257025  -0.071225   -0.071250  81.032258  \n\n[4131 rows x 85 columns]",
      "text/html": "<div>\n<style scoped>\n    .dataframe tbody tr th:only-of-type {\n        vertical-align: middle;\n    }\n\n    .dataframe tbody tr th {\n        vertical-align: top;\n    }\n\n    .dataframe thead th {\n        text-align: right;\n    }\n</style>\n<table border=\"1\" class=\"dataframe\">\n  <thead>\n    <tr style=\"text-align: right;\">\n      <th></th>\n      <th>close</th>\n      <th>volume</th>\n      <th>volume_adi</th>\n      <th>volume_obv</th>\n      <th>volume_cmf</th>\n      <th>volume_fi</th>\n      <th>volume_mfi</th>\n      <th>volume_em</th>\n      <th>volume_sma_em</th>\n      <th>volume_vpt</th>\n      <th>...</th>\n      <th>momentum_wr</th>\n      <th>momentum_ao</th>\n      <th>momentum_kama</th>\n      <th>momentum_roc</th>\n      <th>momentum_ppo</th>\n      <th>momentum_ppo_signal</th>\n      <th>momentum_ppo_hist</th>\n      <th>others_dr</th>\n      <th>others_dlr</th>\n      <th>others_cr</th>\n    </tr>\n    <tr>\n      <th>Datetime</th>\n      <th></th>\n      <th></th>\n      <th></th>\n      <th></th>\n      <th></th>\n      <th></th>\n      <th></th>\n      <th></th>\n      <th></th>\n      <th></th>\n      <th></th>\n      <th></th>\n      <th></th>\n      <th></th>\n      <th></th>\n      <th></th>\n      <th></th>\n      <th></th>\n      <th></th>\n      <th></th>\n      <th></th>\n    </tr>\n  </thead>\n  <tbody>\n    <tr>\n      <th>2020-03-17 04:00:00-04:00</th>\n      <td>155.000000</td>\n      <td>0</td>\n      <td>0.000000e+00</td>\n      <td>0</td>\n      <td>0.000000</td>\n      <td>0.000000e+00</td>\n      <td>50.000000</td>\n      <td>0.000000</td>\n      <td>0.000000</td>\n      <td>475.542379</td>\n      <td>...</td>\n      <td>-28.366762</td>\n      <td>0.000000</td>\n      <td>155.000000</td>\n      <td>0.000000</td>\n      <td>0.000000</td>\n      <td>0.000000</td>\n      <td>0.000000</td>\n      <td>-37.040855</td>\n      <td>0.000000</td>\n      <td>0.000000</td>\n    </tr>\n    <tr>\n      <th>2020-03-17 05:00:00-04:00</th>\n      <td>149.820000</td>\n      <td>0</td>\n      <td>0.000000e+00</td>\n      <td>0</td>\n      <td>0.000000</td>\n      <td>-0.000000e+00</td>\n      <td>50.000000</td>\n      <td>0.000000</td>\n      <td>0.000000</td>\n      <td>-0.000000</td>\n      <td>...</td>\n      <td>-90.735294</td>\n      <td>0.000000</td>\n      <td>152.759057</td>\n      <td>0.000000</td>\n      <td>0.000000</td>\n      <td>0.000000</td>\n      <td>0.000000</td>\n      <td>-3.341935</td>\n      <td>-3.399054</td>\n      <td>-3.341935</td>\n    </tr>\n    <tr>\n      <th>2020-03-17 06:00:00-04:00</th>\n      <td>148.600000</td>\n      <td>0</td>\n      <td>0.000000e+00</td>\n      <td>0</td>\n      <td>0.000000</td>\n      <td>-0.000000e+00</td>\n      <td>50.000000</td>\n      <td>0.000000</td>\n      <td>0.000000</td>\n      <td>-0.000000</td>\n      <td>...</td>\n      <td>-74.048096</td>\n      <td>0.000000</td>\n      <td>150.896648</td>\n      <td>0.000000</td>\n      <td>0.000000</td>\n      <td>0.000000</td>\n      <td>0.000000</td>\n      <td>-0.814311</td>\n      <td>-0.817644</td>\n      <td>-4.129032</td>\n    </tr>\n    <tr>\n      <th>2020-03-17 07:00:00-04:00</th>\n      <td>151.000000</td>\n      <td>0</td>\n      <td>0.000000e+00</td>\n      <td>0</td>\n      <td>0.000000</td>\n      <td>-0.000000e+00</td>\n      <td>50.000000</td>\n      <td>0.000000</td>\n      <td>0.000000</td>\n      <td>0.000000</td>\n      <td>...</td>\n      <td>-50.000000</td>\n      <td>0.000000</td>\n      <td>150.938958</td>\n      <td>0.000000</td>\n      <td>0.000000</td>\n      <td>0.000000</td>\n      <td>0.000000</td>\n      <td>1.615074</td>\n      <td>1.602170</td>\n      <td>-2.580645</td>\n    </tr>\n    <tr>\n      <th>2020-03-17 08:00:00-04:00</th>\n      <td>149.500000</td>\n      <td>0</td>\n      <td>0.000000e+00</td>\n      <td>0</td>\n      <td>0.000000</td>\n      <td>-0.000000e+00</td>\n      <td>50.000000</td>\n      <td>0.000000</td>\n      <td>0.000000</td>\n      <td>0.000000</td>\n      <td>...</td>\n      <td>-65.030060</td>\n      <td>0.000000</td>\n      <td>150.335289</td>\n      <td>0.000000</td>\n      <td>0.000000</td>\n      <td>0.000000</td>\n      <td>0.000000</td>\n      <td>-0.993377</td>\n      <td>-0.998344</td>\n      <td>-3.548387</td>\n    </tr>\n    <tr>\n      <th>...</th>\n      <td>...</td>\n      <td>...</td>\n      <td>...</td>\n      <td>...</td>\n      <td>...</td>\n      <td>...</td>\n      <td>...</td>\n      <td>...</td>\n      <td>...</td>\n      <td>...</td>\n      <td>...</td>\n      <td>...</td>\n      <td>...</td>\n      <td>...</td>\n      <td>...</td>\n      <td>...</td>\n      <td>...</td>\n      <td>...</td>\n      <td>...</td>\n      <td>...</td>\n      <td>...</td>\n    </tr>\n    <tr>\n      <th>2021-03-16 15:30:00-04:00</th>\n      <td>279.130005</td>\n      <td>2298570</td>\n      <td>2.924776e+08</td>\n      <td>128430446</td>\n      <td>0.140553</td>\n      <td>1.094642e+06</td>\n      <td>50.293475</td>\n      <td>73.364324</td>\n      <td>50.587366</td>\n      <td>2173.244932</td>\n      <td>...</td>\n      <td>-33.171753</td>\n      <td>6.988854</td>\n      <td>278.509790</td>\n      <td>1.965299</td>\n      <td>29.219059</td>\n      <td>14.779179</td>\n      <td>14.439879</td>\n      <td>-0.707847</td>\n      <td>-0.710364</td>\n      <td>80.083874</td>\n    </tr>\n    <tr>\n      <th>2021-03-16 16:00:00-04:00</th>\n      <td>279.185000</td>\n      <td>1176864</td>\n      <td>2.931699e+08</td>\n      <td>129607310</td>\n      <td>0.105939</td>\n      <td>9.475103e+05</td>\n      <td>47.555953</td>\n      <td>-52.002637</td>\n      <td>37.763616</td>\n      <td>-16038.488150</td>\n      <td>...</td>\n      <td>-32.565681</td>\n      <td>6.499151</td>\n      <td>278.545119</td>\n      <td>1.803165</td>\n      <td>23.305977</td>\n      <td>16.484539</td>\n      <td>6.821438</td>\n      <td>0.019702</td>\n      <td>0.019700</td>\n      <td>80.119355</td>\n    </tr>\n    <tr>\n      <th>2021-03-16 17:00:00-04:00</th>\n      <td>281.125000</td>\n      <td>0</td>\n      <td>2.931699e+08</td>\n      <td>129607310</td>\n      <td>0.188929</td>\n      <td>8.121517e+05</td>\n      <td>47.555953</td>\n      <td>-52.002637</td>\n      <td>37.763616</td>\n      <td>231.869639</td>\n      <td>...</td>\n      <td>-11.185949</td>\n      <td>6.235594</td>\n      <td>278.729868</td>\n      <td>2.409748</td>\n      <td>12.682692</td>\n      <td>15.724170</td>\n      <td>-3.041477</td>\n      <td>0.694880</td>\n      <td>0.692477</td>\n      <td>81.370968</td>\n    </tr>\n    <tr>\n      <th>2021-03-16 18:00:00-04:00</th>\n      <td>280.800000</td>\n      <td>0</td>\n      <td>2.931699e+08</td>\n      <td>129607310</td>\n      <td>0.113762</td>\n      <td>6.961300e+05</td>\n      <td>47.555953</td>\n      <td>-52.002637</td>\n      <td>37.763616</td>\n      <td>0.000000</td>\n      <td>...</td>\n      <td>-14.767605</td>\n      <td>5.850740</td>\n      <td>278.868131</td>\n      <td>2.198282</td>\n      <td>2.974645</td>\n      <td>13.174265</td>\n      <td>-10.199620</td>\n      <td>-0.115607</td>\n      <td>-0.115674</td>\n      <td>81.161290</td>\n    </tr>\n    <tr>\n      <th>2021-03-16 19:00:00-04:00</th>\n      <td>280.600000</td>\n      <td>0</td>\n      <td>2.931699e+08</td>\n      <td>129607310</td>\n      <td>0.113762</td>\n      <td>5.966829e+05</td>\n      <td>47.555953</td>\n      <td>-52.002637</td>\n      <td>37.763616</td>\n      <td>-0.000000</td>\n      <td>...</td>\n      <td>-16.971701</td>\n      <td>5.667909</td>\n      <td>278.884297</td>\n      <td>1.991858</td>\n      <td>-5.897017</td>\n      <td>9.360008</td>\n      <td>-15.257025</td>\n      <td>-0.071225</td>\n      <td>-0.071250</td>\n      <td>81.032258</td>\n    </tr>\n  </tbody>\n</table>\n<p>4131 rows × 85 columns</p>\n</div>"
     },
     "execution_count": 116,
     "metadata": {},
     "output_type": "execute_result"
    }
   ],
   "source": [
    "data"
   ],
   "metadata": {
    "collapsed": false,
    "pycharm": {
     "name": "#%%\n"
    }
   }
  },
  {
   "cell_type": "code",
   "execution_count": 117,
   "outputs": [
    {
     "data": {
      "text/plain": "Index(['close', 'volume', 'volume_adi', 'volume_obv', 'volume_cmf',\n       'volume_fi', 'volume_mfi', 'volume_em', 'volume_sma_em', 'volume_vpt',\n       'volume_nvi', 'volume_vwap', 'volatility_atr', 'volatility_bbm',\n       'volatility_bbh', 'volatility_bbl', 'volatility_bbw', 'volatility_bbp',\n       'volatility_bbhi', 'volatility_bbli', 'volatility_kcc',\n       'volatility_kch', 'volatility_kcl', 'volatility_kcw', 'volatility_kcp',\n       'volatility_kchi', 'volatility_kcli', 'volatility_dcl',\n       'volatility_dch', 'volatility_dcm', 'volatility_dcw', 'volatility_dcp',\n       'volatility_ui', 'trend_macd', 'trend_macd_signal', 'trend_macd_diff',\n       'trend_sma_fast', 'trend_sma_slow', 'trend_ema_fast', 'trend_ema_slow',\n       'trend_adx', 'trend_adx_pos', 'trend_adx_neg', 'trend_vortex_ind_pos',\n       'trend_vortex_ind_neg', 'trend_vortex_ind_diff', 'trend_trix',\n       'trend_mass_index', 'trend_cci', 'trend_dpo', 'trend_kst',\n       'trend_kst_sig', 'trend_kst_diff', 'trend_ichimoku_conv',\n       'trend_ichimoku_base', 'trend_ichimoku_a', 'trend_ichimoku_b',\n       'trend_visual_ichimoku_a', 'trend_visual_ichimoku_b', 'trend_aroon_up',\n       'trend_aroon_down', 'trend_aroon_ind', 'trend_psar_up',\n       'trend_psar_down', 'trend_psar_up_indicator',\n       'trend_psar_down_indicator', 'trend_stc', 'momentum_rsi',\n       'momentum_stoch_rsi', 'momentum_stoch_rsi_k', 'momentum_stoch_rsi_d',\n       'momentum_tsi', 'momentum_uo', 'momentum_stoch',\n       'momentum_stoch_signal', 'momentum_wr', 'momentum_ao', 'momentum_kama',\n       'momentum_roc', 'momentum_ppo', 'momentum_ppo_signal',\n       'momentum_ppo_hist', 'others_dr', 'others_dlr', 'others_cr'],\n      dtype='object')"
     },
     "execution_count": 117,
     "metadata": {},
     "output_type": "execute_result"
    }
   ],
   "source": [
    "data.columns"
   ],
   "metadata": {
    "collapsed": false,
    "pycharm": {
     "name": "#%%\n"
    }
   }
  },
  {
   "cell_type": "code",
   "execution_count": 118,
   "outputs": [],
   "source": [
    "def create_class_column(row):\n",
    "    if row['close_shift']-row['close'] > 1.2:\n",
    "        return 1\n",
    "    if row['close_shift'] -row['close']< -1.2:\n",
    "        return -1\n",
    "    else:\n",
    "        return 0"
   ],
   "metadata": {
    "collapsed": false,
    "pycharm": {
     "name": "#%%\n"
    }
   }
  },
  {
   "cell_type": "code",
   "execution_count": 119,
   "outputs": [
    {
     "data": {
      "text/plain": "                                close   volume    volume_adi  volume_obv  \\\nDatetime                                                                   \n2020-03-17 04:00:00-04:00  155.000000        0  0.000000e+00           0   \n2020-03-17 05:00:00-04:00  149.820000        0  0.000000e+00           0   \n2020-03-17 06:00:00-04:00  148.600000        0  0.000000e+00           0   \n2020-03-17 07:00:00-04:00  151.000000        0  0.000000e+00           0   \n2020-03-17 08:00:00-04:00  149.500000        0  0.000000e+00           0   \n...                               ...      ...           ...         ...   \n2021-03-16 15:30:00-04:00  279.130005  2298570  2.924776e+08   128430446   \n2021-03-16 16:00:00-04:00  279.185000  1176864  2.931699e+08   129607310   \n2021-03-16 17:00:00-04:00  281.125000        0  2.931699e+08   129607310   \n2021-03-16 18:00:00-04:00  280.800000        0  2.931699e+08   129607310   \n2021-03-16 19:00:00-04:00  280.600000        0  2.931699e+08   129607310   \n\n                           volume_cmf     volume_fi  volume_mfi  volume_em  \\\nDatetime                                                                     \n2020-03-17 04:00:00-04:00    0.000000  0.000000e+00   50.000000   0.000000   \n2020-03-17 05:00:00-04:00    0.000000 -0.000000e+00   50.000000   0.000000   \n2020-03-17 06:00:00-04:00    0.000000 -0.000000e+00   50.000000   0.000000   \n2020-03-17 07:00:00-04:00    0.000000 -0.000000e+00   50.000000   0.000000   \n2020-03-17 08:00:00-04:00    0.000000 -0.000000e+00   50.000000   0.000000   \n...                               ...           ...         ...        ...   \n2021-03-16 15:30:00-04:00    0.140553  1.094642e+06   50.293475  73.364324   \n2021-03-16 16:00:00-04:00    0.105939  9.475103e+05   47.555953 -52.002637   \n2021-03-16 17:00:00-04:00    0.188929  8.121517e+05   47.555953 -52.002637   \n2021-03-16 18:00:00-04:00    0.113762  6.961300e+05   47.555953 -52.002637   \n2021-03-16 19:00:00-04:00    0.113762  5.966829e+05   47.555953 -52.002637   \n\n                           volume_sma_em    volume_vpt  ...  momentum_ao  \\\nDatetime                                                ...                \n2020-03-17 04:00:00-04:00       0.000000    475.542379  ...     0.000000   \n2020-03-17 05:00:00-04:00       0.000000     -0.000000  ...     0.000000   \n2020-03-17 06:00:00-04:00       0.000000     -0.000000  ...     0.000000   \n2020-03-17 07:00:00-04:00       0.000000      0.000000  ...     0.000000   \n2020-03-17 08:00:00-04:00       0.000000      0.000000  ...     0.000000   \n...                                  ...           ...  ...          ...   \n2021-03-16 15:30:00-04:00      50.587366   2173.244932  ...     6.988854   \n2021-03-16 16:00:00-04:00      37.763616 -16038.488150  ...     6.499151   \n2021-03-16 17:00:00-04:00      37.763616    231.869639  ...     6.235594   \n2021-03-16 18:00:00-04:00      37.763616      0.000000  ...     5.850740   \n2021-03-16 19:00:00-04:00      37.763616     -0.000000  ...     5.667909   \n\n                           momentum_kama  momentum_roc  momentum_ppo  \\\nDatetime                                                               \n2020-03-17 04:00:00-04:00     155.000000      0.000000      0.000000   \n2020-03-17 05:00:00-04:00     152.759057      0.000000      0.000000   \n2020-03-17 06:00:00-04:00     150.896648      0.000000      0.000000   \n2020-03-17 07:00:00-04:00     150.938958      0.000000      0.000000   \n2020-03-17 08:00:00-04:00     150.335289      0.000000      0.000000   \n...                                  ...           ...           ...   \n2021-03-16 15:30:00-04:00     278.509790      1.965299     29.219059   \n2021-03-16 16:00:00-04:00     278.545119      1.803165     23.305977   \n2021-03-16 17:00:00-04:00     278.729868      2.409748     12.682692   \n2021-03-16 18:00:00-04:00     278.868131      2.198282      2.974645   \n2021-03-16 19:00:00-04:00     278.884297      1.991858     -5.897017   \n\n                           momentum_ppo_signal  momentum_ppo_hist  others_dr  \\\nDatetime                                                                       \n2020-03-17 04:00:00-04:00             0.000000           0.000000 -37.040855   \n2020-03-17 05:00:00-04:00             0.000000           0.000000  -3.341935   \n2020-03-17 06:00:00-04:00             0.000000           0.000000  -0.814311   \n2020-03-17 07:00:00-04:00             0.000000           0.000000   1.615074   \n2020-03-17 08:00:00-04:00             0.000000           0.000000  -0.993377   \n...                                        ...                ...        ...   \n2021-03-16 15:30:00-04:00            14.779179          14.439879  -0.707847   \n2021-03-16 16:00:00-04:00            16.484539           6.821438   0.019702   \n2021-03-16 17:00:00-04:00            15.724170          -3.041477   0.694880   \n2021-03-16 18:00:00-04:00            13.174265         -10.199620  -0.115607   \n2021-03-16 19:00:00-04:00             9.360008         -15.257025  -0.071225   \n\n                           others_dlr  others_cr  close_shift  \nDatetime                                                       \n2020-03-17 04:00:00-04:00    0.000000   0.000000   151.419998  \n2020-03-17 05:00:00-04:00   -3.399054  -3.341935   147.404999  \n2020-03-17 06:00:00-04:00   -0.817644  -4.129032   148.449997  \n2020-03-17 07:00:00-04:00    1.602170  -2.580645   147.610001  \n2020-03-17 08:00:00-04:00   -0.998344  -3.548387   149.419998  \n...                               ...        ...          ...  \n2021-03-16 15:30:00-04:00   -0.710364  80.083874          NaN  \n2021-03-16 16:00:00-04:00    0.019700  80.119355          NaN  \n2021-03-16 17:00:00-04:00    0.692477  81.370968          NaN  \n2021-03-16 18:00:00-04:00   -0.115674  81.161290          NaN  \n2021-03-16 19:00:00-04:00   -0.071250  81.032258          NaN  \n\n[4131 rows x 86 columns]",
      "text/html": "<div>\n<style scoped>\n    .dataframe tbody tr th:only-of-type {\n        vertical-align: middle;\n    }\n\n    .dataframe tbody tr th {\n        vertical-align: top;\n    }\n\n    .dataframe thead th {\n        text-align: right;\n    }\n</style>\n<table border=\"1\" class=\"dataframe\">\n  <thead>\n    <tr style=\"text-align: right;\">\n      <th></th>\n      <th>close</th>\n      <th>volume</th>\n      <th>volume_adi</th>\n      <th>volume_obv</th>\n      <th>volume_cmf</th>\n      <th>volume_fi</th>\n      <th>volume_mfi</th>\n      <th>volume_em</th>\n      <th>volume_sma_em</th>\n      <th>volume_vpt</th>\n      <th>...</th>\n      <th>momentum_ao</th>\n      <th>momentum_kama</th>\n      <th>momentum_roc</th>\n      <th>momentum_ppo</th>\n      <th>momentum_ppo_signal</th>\n      <th>momentum_ppo_hist</th>\n      <th>others_dr</th>\n      <th>others_dlr</th>\n      <th>others_cr</th>\n      <th>close_shift</th>\n    </tr>\n    <tr>\n      <th>Datetime</th>\n      <th></th>\n      <th></th>\n      <th></th>\n      <th></th>\n      <th></th>\n      <th></th>\n      <th></th>\n      <th></th>\n      <th></th>\n      <th></th>\n      <th></th>\n      <th></th>\n      <th></th>\n      <th></th>\n      <th></th>\n      <th></th>\n      <th></th>\n      <th></th>\n      <th></th>\n      <th></th>\n      <th></th>\n    </tr>\n  </thead>\n  <tbody>\n    <tr>\n      <th>2020-03-17 04:00:00-04:00</th>\n      <td>155.000000</td>\n      <td>0</td>\n      <td>0.000000e+00</td>\n      <td>0</td>\n      <td>0.000000</td>\n      <td>0.000000e+00</td>\n      <td>50.000000</td>\n      <td>0.000000</td>\n      <td>0.000000</td>\n      <td>475.542379</td>\n      <td>...</td>\n      <td>0.000000</td>\n      <td>155.000000</td>\n      <td>0.000000</td>\n      <td>0.000000</td>\n      <td>0.000000</td>\n      <td>0.000000</td>\n      <td>-37.040855</td>\n      <td>0.000000</td>\n      <td>0.000000</td>\n      <td>151.419998</td>\n    </tr>\n    <tr>\n      <th>2020-03-17 05:00:00-04:00</th>\n      <td>149.820000</td>\n      <td>0</td>\n      <td>0.000000e+00</td>\n      <td>0</td>\n      <td>0.000000</td>\n      <td>-0.000000e+00</td>\n      <td>50.000000</td>\n      <td>0.000000</td>\n      <td>0.000000</td>\n      <td>-0.000000</td>\n      <td>...</td>\n      <td>0.000000</td>\n      <td>152.759057</td>\n      <td>0.000000</td>\n      <td>0.000000</td>\n      <td>0.000000</td>\n      <td>0.000000</td>\n      <td>-3.341935</td>\n      <td>-3.399054</td>\n      <td>-3.341935</td>\n      <td>147.404999</td>\n    </tr>\n    <tr>\n      <th>2020-03-17 06:00:00-04:00</th>\n      <td>148.600000</td>\n      <td>0</td>\n      <td>0.000000e+00</td>\n      <td>0</td>\n      <td>0.000000</td>\n      <td>-0.000000e+00</td>\n      <td>50.000000</td>\n      <td>0.000000</td>\n      <td>0.000000</td>\n      <td>-0.000000</td>\n      <td>...</td>\n      <td>0.000000</td>\n      <td>150.896648</td>\n      <td>0.000000</td>\n      <td>0.000000</td>\n      <td>0.000000</td>\n      <td>0.000000</td>\n      <td>-0.814311</td>\n      <td>-0.817644</td>\n      <td>-4.129032</td>\n      <td>148.449997</td>\n    </tr>\n    <tr>\n      <th>2020-03-17 07:00:00-04:00</th>\n      <td>151.000000</td>\n      <td>0</td>\n      <td>0.000000e+00</td>\n      <td>0</td>\n      <td>0.000000</td>\n      <td>-0.000000e+00</td>\n      <td>50.000000</td>\n      <td>0.000000</td>\n      <td>0.000000</td>\n      <td>0.000000</td>\n      <td>...</td>\n      <td>0.000000</td>\n      <td>150.938958</td>\n      <td>0.000000</td>\n      <td>0.000000</td>\n      <td>0.000000</td>\n      <td>0.000000</td>\n      <td>1.615074</td>\n      <td>1.602170</td>\n      <td>-2.580645</td>\n      <td>147.610001</td>\n    </tr>\n    <tr>\n      <th>2020-03-17 08:00:00-04:00</th>\n      <td>149.500000</td>\n      <td>0</td>\n      <td>0.000000e+00</td>\n      <td>0</td>\n      <td>0.000000</td>\n      <td>-0.000000e+00</td>\n      <td>50.000000</td>\n      <td>0.000000</td>\n      <td>0.000000</td>\n      <td>0.000000</td>\n      <td>...</td>\n      <td>0.000000</td>\n      <td>150.335289</td>\n      <td>0.000000</td>\n      <td>0.000000</td>\n      <td>0.000000</td>\n      <td>0.000000</td>\n      <td>-0.993377</td>\n      <td>-0.998344</td>\n      <td>-3.548387</td>\n      <td>149.419998</td>\n    </tr>\n    <tr>\n      <th>...</th>\n      <td>...</td>\n      <td>...</td>\n      <td>...</td>\n      <td>...</td>\n      <td>...</td>\n      <td>...</td>\n      <td>...</td>\n      <td>...</td>\n      <td>...</td>\n      <td>...</td>\n      <td>...</td>\n      <td>...</td>\n      <td>...</td>\n      <td>...</td>\n      <td>...</td>\n      <td>...</td>\n      <td>...</td>\n      <td>...</td>\n      <td>...</td>\n      <td>...</td>\n      <td>...</td>\n    </tr>\n    <tr>\n      <th>2021-03-16 15:30:00-04:00</th>\n      <td>279.130005</td>\n      <td>2298570</td>\n      <td>2.924776e+08</td>\n      <td>128430446</td>\n      <td>0.140553</td>\n      <td>1.094642e+06</td>\n      <td>50.293475</td>\n      <td>73.364324</td>\n      <td>50.587366</td>\n      <td>2173.244932</td>\n      <td>...</td>\n      <td>6.988854</td>\n      <td>278.509790</td>\n      <td>1.965299</td>\n      <td>29.219059</td>\n      <td>14.779179</td>\n      <td>14.439879</td>\n      <td>-0.707847</td>\n      <td>-0.710364</td>\n      <td>80.083874</td>\n      <td>NaN</td>\n    </tr>\n    <tr>\n      <th>2021-03-16 16:00:00-04:00</th>\n      <td>279.185000</td>\n      <td>1176864</td>\n      <td>2.931699e+08</td>\n      <td>129607310</td>\n      <td>0.105939</td>\n      <td>9.475103e+05</td>\n      <td>47.555953</td>\n      <td>-52.002637</td>\n      <td>37.763616</td>\n      <td>-16038.488150</td>\n      <td>...</td>\n      <td>6.499151</td>\n      <td>278.545119</td>\n      <td>1.803165</td>\n      <td>23.305977</td>\n      <td>16.484539</td>\n      <td>6.821438</td>\n      <td>0.019702</td>\n      <td>0.019700</td>\n      <td>80.119355</td>\n      <td>NaN</td>\n    </tr>\n    <tr>\n      <th>2021-03-16 17:00:00-04:00</th>\n      <td>281.125000</td>\n      <td>0</td>\n      <td>2.931699e+08</td>\n      <td>129607310</td>\n      <td>0.188929</td>\n      <td>8.121517e+05</td>\n      <td>47.555953</td>\n      <td>-52.002637</td>\n      <td>37.763616</td>\n      <td>231.869639</td>\n      <td>...</td>\n      <td>6.235594</td>\n      <td>278.729868</td>\n      <td>2.409748</td>\n      <td>12.682692</td>\n      <td>15.724170</td>\n      <td>-3.041477</td>\n      <td>0.694880</td>\n      <td>0.692477</td>\n      <td>81.370968</td>\n      <td>NaN</td>\n    </tr>\n    <tr>\n      <th>2021-03-16 18:00:00-04:00</th>\n      <td>280.800000</td>\n      <td>0</td>\n      <td>2.931699e+08</td>\n      <td>129607310</td>\n      <td>0.113762</td>\n      <td>6.961300e+05</td>\n      <td>47.555953</td>\n      <td>-52.002637</td>\n      <td>37.763616</td>\n      <td>0.000000</td>\n      <td>...</td>\n      <td>5.850740</td>\n      <td>278.868131</td>\n      <td>2.198282</td>\n      <td>2.974645</td>\n      <td>13.174265</td>\n      <td>-10.199620</td>\n      <td>-0.115607</td>\n      <td>-0.115674</td>\n      <td>81.161290</td>\n      <td>NaN</td>\n    </tr>\n    <tr>\n      <th>2021-03-16 19:00:00-04:00</th>\n      <td>280.600000</td>\n      <td>0</td>\n      <td>2.931699e+08</td>\n      <td>129607310</td>\n      <td>0.113762</td>\n      <td>5.966829e+05</td>\n      <td>47.555953</td>\n      <td>-52.002637</td>\n      <td>37.763616</td>\n      <td>-0.000000</td>\n      <td>...</td>\n      <td>5.667909</td>\n      <td>278.884297</td>\n      <td>1.991858</td>\n      <td>-5.897017</td>\n      <td>9.360008</td>\n      <td>-15.257025</td>\n      <td>-0.071225</td>\n      <td>-0.071250</td>\n      <td>81.032258</td>\n      <td>NaN</td>\n    </tr>\n  </tbody>\n</table>\n<p>4131 rows × 86 columns</p>\n</div>"
     },
     "execution_count": 119,
     "metadata": {},
     "output_type": "execute_result"
    }
   ],
   "source": [
    "data['close_shift'] = data.shift(-WINDOW)['close']\n",
    "data"
   ],
   "metadata": {
    "collapsed": false,
    "pycharm": {
     "name": "#%%\n"
    }
   }
  },
  {
   "cell_type": "code",
   "execution_count": 120,
   "outputs": [
    {
     "data": {
      "text/plain": "                                close   volume    volume_adi  volume_obv  \\\nDatetime                                                                   \n2020-03-17 04:00:00-04:00  155.000000        0  0.000000e+00           0   \n2020-03-17 05:00:00-04:00  149.820000        0  0.000000e+00           0   \n2020-03-17 06:00:00-04:00  148.600000        0  0.000000e+00           0   \n2020-03-17 07:00:00-04:00  151.000000        0  0.000000e+00           0   \n2020-03-17 08:00:00-04:00  149.500000        0  0.000000e+00           0   \n...                               ...      ...           ...         ...   \n2021-03-16 15:30:00-04:00  279.130005  2298570  2.924776e+08   128430446   \n2021-03-16 16:00:00-04:00  279.185000  1176864  2.931699e+08   129607310   \n2021-03-16 17:00:00-04:00  281.125000        0  2.931699e+08   129607310   \n2021-03-16 18:00:00-04:00  280.800000        0  2.931699e+08   129607310   \n2021-03-16 19:00:00-04:00  280.600000        0  2.931699e+08   129607310   \n\n                           volume_cmf     volume_fi  volume_mfi  volume_em  \\\nDatetime                                                                     \n2020-03-17 04:00:00-04:00    0.000000  0.000000e+00   50.000000   0.000000   \n2020-03-17 05:00:00-04:00    0.000000 -0.000000e+00   50.000000   0.000000   \n2020-03-17 06:00:00-04:00    0.000000 -0.000000e+00   50.000000   0.000000   \n2020-03-17 07:00:00-04:00    0.000000 -0.000000e+00   50.000000   0.000000   \n2020-03-17 08:00:00-04:00    0.000000 -0.000000e+00   50.000000   0.000000   \n...                               ...           ...         ...        ...   \n2021-03-16 15:30:00-04:00    0.140553  1.094642e+06   50.293475  73.364324   \n2021-03-16 16:00:00-04:00    0.105939  9.475103e+05   47.555953 -52.002637   \n2021-03-16 17:00:00-04:00    0.188929  8.121517e+05   47.555953 -52.002637   \n2021-03-16 18:00:00-04:00    0.113762  6.961300e+05   47.555953 -52.002637   \n2021-03-16 19:00:00-04:00    0.113762  5.966829e+05   47.555953 -52.002637   \n\n                           volume_sma_em    volume_vpt  ...  momentum_kama  \\\nDatetime                                                ...                  \n2020-03-17 04:00:00-04:00       0.000000    475.542379  ...     155.000000   \n2020-03-17 05:00:00-04:00       0.000000     -0.000000  ...     152.759057   \n2020-03-17 06:00:00-04:00       0.000000     -0.000000  ...     150.896648   \n2020-03-17 07:00:00-04:00       0.000000      0.000000  ...     150.938958   \n2020-03-17 08:00:00-04:00       0.000000      0.000000  ...     150.335289   \n...                                  ...           ...  ...            ...   \n2021-03-16 15:30:00-04:00      50.587366   2173.244932  ...     278.509790   \n2021-03-16 16:00:00-04:00      37.763616 -16038.488150  ...     278.545119   \n2021-03-16 17:00:00-04:00      37.763616    231.869639  ...     278.729868   \n2021-03-16 18:00:00-04:00      37.763616      0.000000  ...     278.868131   \n2021-03-16 19:00:00-04:00      37.763616     -0.000000  ...     278.884297   \n\n                           momentum_roc  momentum_ppo  momentum_ppo_signal  \\\nDatetime                                                                     \n2020-03-17 04:00:00-04:00      0.000000      0.000000             0.000000   \n2020-03-17 05:00:00-04:00      0.000000      0.000000             0.000000   \n2020-03-17 06:00:00-04:00      0.000000      0.000000             0.000000   \n2020-03-17 07:00:00-04:00      0.000000      0.000000             0.000000   \n2020-03-17 08:00:00-04:00      0.000000      0.000000             0.000000   \n...                                 ...           ...                  ...   \n2021-03-16 15:30:00-04:00      1.965299     29.219059            14.779179   \n2021-03-16 16:00:00-04:00      1.803165     23.305977            16.484539   \n2021-03-16 17:00:00-04:00      2.409748     12.682692            15.724170   \n2021-03-16 18:00:00-04:00      2.198282      2.974645            13.174265   \n2021-03-16 19:00:00-04:00      1.991858     -5.897017             9.360008   \n\n                           momentum_ppo_hist  others_dr  others_dlr  \\\nDatetime                                                              \n2020-03-17 04:00:00-04:00           0.000000 -37.040855    0.000000   \n2020-03-17 05:00:00-04:00           0.000000  -3.341935   -3.399054   \n2020-03-17 06:00:00-04:00           0.000000  -0.814311   -0.817644   \n2020-03-17 07:00:00-04:00           0.000000   1.615074    1.602170   \n2020-03-17 08:00:00-04:00           0.000000  -0.993377   -0.998344   \n...                                      ...        ...         ...   \n2021-03-16 15:30:00-04:00          14.439879  -0.707847   -0.710364   \n2021-03-16 16:00:00-04:00           6.821438   0.019702    0.019700   \n2021-03-16 17:00:00-04:00          -3.041477   0.694880    0.692477   \n2021-03-16 18:00:00-04:00         -10.199620  -0.115607   -0.115674   \n2021-03-16 19:00:00-04:00         -15.257025  -0.071225   -0.071250   \n\n                           others_cr  close_shift  class_column  \nDatetime                                                         \n2020-03-17 04:00:00-04:00   0.000000   151.419998            -1  \n2020-03-17 05:00:00-04:00  -3.341935   147.404999            -1  \n2020-03-17 06:00:00-04:00  -4.129032   148.449997             0  \n2020-03-17 07:00:00-04:00  -2.580645   147.610001            -1  \n2020-03-17 08:00:00-04:00  -3.548387   149.419998             0  \n...                              ...          ...           ...  \n2021-03-16 15:30:00-04:00  80.083874          NaN             0  \n2021-03-16 16:00:00-04:00  80.119355          NaN             0  \n2021-03-16 17:00:00-04:00  81.370968          NaN             0  \n2021-03-16 18:00:00-04:00  81.161290          NaN             0  \n2021-03-16 19:00:00-04:00  81.032258          NaN             0  \n\n[4131 rows x 87 columns]",
      "text/html": "<div>\n<style scoped>\n    .dataframe tbody tr th:only-of-type {\n        vertical-align: middle;\n    }\n\n    .dataframe tbody tr th {\n        vertical-align: top;\n    }\n\n    .dataframe thead th {\n        text-align: right;\n    }\n</style>\n<table border=\"1\" class=\"dataframe\">\n  <thead>\n    <tr style=\"text-align: right;\">\n      <th></th>\n      <th>close</th>\n      <th>volume</th>\n      <th>volume_adi</th>\n      <th>volume_obv</th>\n      <th>volume_cmf</th>\n      <th>volume_fi</th>\n      <th>volume_mfi</th>\n      <th>volume_em</th>\n      <th>volume_sma_em</th>\n      <th>volume_vpt</th>\n      <th>...</th>\n      <th>momentum_kama</th>\n      <th>momentum_roc</th>\n      <th>momentum_ppo</th>\n      <th>momentum_ppo_signal</th>\n      <th>momentum_ppo_hist</th>\n      <th>others_dr</th>\n      <th>others_dlr</th>\n      <th>others_cr</th>\n      <th>close_shift</th>\n      <th>class_column</th>\n    </tr>\n    <tr>\n      <th>Datetime</th>\n      <th></th>\n      <th></th>\n      <th></th>\n      <th></th>\n      <th></th>\n      <th></th>\n      <th></th>\n      <th></th>\n      <th></th>\n      <th></th>\n      <th></th>\n      <th></th>\n      <th></th>\n      <th></th>\n      <th></th>\n      <th></th>\n      <th></th>\n      <th></th>\n      <th></th>\n      <th></th>\n      <th></th>\n    </tr>\n  </thead>\n  <tbody>\n    <tr>\n      <th>2020-03-17 04:00:00-04:00</th>\n      <td>155.000000</td>\n      <td>0</td>\n      <td>0.000000e+00</td>\n      <td>0</td>\n      <td>0.000000</td>\n      <td>0.000000e+00</td>\n      <td>50.000000</td>\n      <td>0.000000</td>\n      <td>0.000000</td>\n      <td>475.542379</td>\n      <td>...</td>\n      <td>155.000000</td>\n      <td>0.000000</td>\n      <td>0.000000</td>\n      <td>0.000000</td>\n      <td>0.000000</td>\n      <td>-37.040855</td>\n      <td>0.000000</td>\n      <td>0.000000</td>\n      <td>151.419998</td>\n      <td>-1</td>\n    </tr>\n    <tr>\n      <th>2020-03-17 05:00:00-04:00</th>\n      <td>149.820000</td>\n      <td>0</td>\n      <td>0.000000e+00</td>\n      <td>0</td>\n      <td>0.000000</td>\n      <td>-0.000000e+00</td>\n      <td>50.000000</td>\n      <td>0.000000</td>\n      <td>0.000000</td>\n      <td>-0.000000</td>\n      <td>...</td>\n      <td>152.759057</td>\n      <td>0.000000</td>\n      <td>0.000000</td>\n      <td>0.000000</td>\n      <td>0.000000</td>\n      <td>-3.341935</td>\n      <td>-3.399054</td>\n      <td>-3.341935</td>\n      <td>147.404999</td>\n      <td>-1</td>\n    </tr>\n    <tr>\n      <th>2020-03-17 06:00:00-04:00</th>\n      <td>148.600000</td>\n      <td>0</td>\n      <td>0.000000e+00</td>\n      <td>0</td>\n      <td>0.000000</td>\n      <td>-0.000000e+00</td>\n      <td>50.000000</td>\n      <td>0.000000</td>\n      <td>0.000000</td>\n      <td>-0.000000</td>\n      <td>...</td>\n      <td>150.896648</td>\n      <td>0.000000</td>\n      <td>0.000000</td>\n      <td>0.000000</td>\n      <td>0.000000</td>\n      <td>-0.814311</td>\n      <td>-0.817644</td>\n      <td>-4.129032</td>\n      <td>148.449997</td>\n      <td>0</td>\n    </tr>\n    <tr>\n      <th>2020-03-17 07:00:00-04:00</th>\n      <td>151.000000</td>\n      <td>0</td>\n      <td>0.000000e+00</td>\n      <td>0</td>\n      <td>0.000000</td>\n      <td>-0.000000e+00</td>\n      <td>50.000000</td>\n      <td>0.000000</td>\n      <td>0.000000</td>\n      <td>0.000000</td>\n      <td>...</td>\n      <td>150.938958</td>\n      <td>0.000000</td>\n      <td>0.000000</td>\n      <td>0.000000</td>\n      <td>0.000000</td>\n      <td>1.615074</td>\n      <td>1.602170</td>\n      <td>-2.580645</td>\n      <td>147.610001</td>\n      <td>-1</td>\n    </tr>\n    <tr>\n      <th>2020-03-17 08:00:00-04:00</th>\n      <td>149.500000</td>\n      <td>0</td>\n      <td>0.000000e+00</td>\n      <td>0</td>\n      <td>0.000000</td>\n      <td>-0.000000e+00</td>\n      <td>50.000000</td>\n      <td>0.000000</td>\n      <td>0.000000</td>\n      <td>0.000000</td>\n      <td>...</td>\n      <td>150.335289</td>\n      <td>0.000000</td>\n      <td>0.000000</td>\n      <td>0.000000</td>\n      <td>0.000000</td>\n      <td>-0.993377</td>\n      <td>-0.998344</td>\n      <td>-3.548387</td>\n      <td>149.419998</td>\n      <td>0</td>\n    </tr>\n    <tr>\n      <th>...</th>\n      <td>...</td>\n      <td>...</td>\n      <td>...</td>\n      <td>...</td>\n      <td>...</td>\n      <td>...</td>\n      <td>...</td>\n      <td>...</td>\n      <td>...</td>\n      <td>...</td>\n      <td>...</td>\n      <td>...</td>\n      <td>...</td>\n      <td>...</td>\n      <td>...</td>\n      <td>...</td>\n      <td>...</td>\n      <td>...</td>\n      <td>...</td>\n      <td>...</td>\n      <td>...</td>\n    </tr>\n    <tr>\n      <th>2021-03-16 15:30:00-04:00</th>\n      <td>279.130005</td>\n      <td>2298570</td>\n      <td>2.924776e+08</td>\n      <td>128430446</td>\n      <td>0.140553</td>\n      <td>1.094642e+06</td>\n      <td>50.293475</td>\n      <td>73.364324</td>\n      <td>50.587366</td>\n      <td>2173.244932</td>\n      <td>...</td>\n      <td>278.509790</td>\n      <td>1.965299</td>\n      <td>29.219059</td>\n      <td>14.779179</td>\n      <td>14.439879</td>\n      <td>-0.707847</td>\n      <td>-0.710364</td>\n      <td>80.083874</td>\n      <td>NaN</td>\n      <td>0</td>\n    </tr>\n    <tr>\n      <th>2021-03-16 16:00:00-04:00</th>\n      <td>279.185000</td>\n      <td>1176864</td>\n      <td>2.931699e+08</td>\n      <td>129607310</td>\n      <td>0.105939</td>\n      <td>9.475103e+05</td>\n      <td>47.555953</td>\n      <td>-52.002637</td>\n      <td>37.763616</td>\n      <td>-16038.488150</td>\n      <td>...</td>\n      <td>278.545119</td>\n      <td>1.803165</td>\n      <td>23.305977</td>\n      <td>16.484539</td>\n      <td>6.821438</td>\n      <td>0.019702</td>\n      <td>0.019700</td>\n      <td>80.119355</td>\n      <td>NaN</td>\n      <td>0</td>\n    </tr>\n    <tr>\n      <th>2021-03-16 17:00:00-04:00</th>\n      <td>281.125000</td>\n      <td>0</td>\n      <td>2.931699e+08</td>\n      <td>129607310</td>\n      <td>0.188929</td>\n      <td>8.121517e+05</td>\n      <td>47.555953</td>\n      <td>-52.002637</td>\n      <td>37.763616</td>\n      <td>231.869639</td>\n      <td>...</td>\n      <td>278.729868</td>\n      <td>2.409748</td>\n      <td>12.682692</td>\n      <td>15.724170</td>\n      <td>-3.041477</td>\n      <td>0.694880</td>\n      <td>0.692477</td>\n      <td>81.370968</td>\n      <td>NaN</td>\n      <td>0</td>\n    </tr>\n    <tr>\n      <th>2021-03-16 18:00:00-04:00</th>\n      <td>280.800000</td>\n      <td>0</td>\n      <td>2.931699e+08</td>\n      <td>129607310</td>\n      <td>0.113762</td>\n      <td>6.961300e+05</td>\n      <td>47.555953</td>\n      <td>-52.002637</td>\n      <td>37.763616</td>\n      <td>0.000000</td>\n      <td>...</td>\n      <td>278.868131</td>\n      <td>2.198282</td>\n      <td>2.974645</td>\n      <td>13.174265</td>\n      <td>-10.199620</td>\n      <td>-0.115607</td>\n      <td>-0.115674</td>\n      <td>81.161290</td>\n      <td>NaN</td>\n      <td>0</td>\n    </tr>\n    <tr>\n      <th>2021-03-16 19:00:00-04:00</th>\n      <td>280.600000</td>\n      <td>0</td>\n      <td>2.931699e+08</td>\n      <td>129607310</td>\n      <td>0.113762</td>\n      <td>5.966829e+05</td>\n      <td>47.555953</td>\n      <td>-52.002637</td>\n      <td>37.763616</td>\n      <td>-0.000000</td>\n      <td>...</td>\n      <td>278.884297</td>\n      <td>1.991858</td>\n      <td>-5.897017</td>\n      <td>9.360008</td>\n      <td>-15.257025</td>\n      <td>-0.071225</td>\n      <td>-0.071250</td>\n      <td>81.032258</td>\n      <td>NaN</td>\n      <td>0</td>\n    </tr>\n  </tbody>\n</table>\n<p>4131 rows × 87 columns</p>\n</div>"
     },
     "execution_count": 120,
     "metadata": {},
     "output_type": "execute_result"
    }
   ],
   "source": [
    "data['class_column'] = data.apply(create_class_column, axis=1)\n",
    "data"
   ],
   "metadata": {
    "collapsed": false,
    "pycharm": {
     "name": "#%%\n"
    }
   }
  },
  {
   "cell_type": "code",
   "execution_count": 121,
   "outputs": [
    {
     "data": {
      "text/plain": " 1    1585\n-1    1348\n 0    1198\nName: class_column, dtype: int64"
     },
     "execution_count": 121,
     "metadata": {},
     "output_type": "execute_result"
    }
   ],
   "source": [
    "# Class divide\n",
    "data['class_column'].value_counts()"
   ],
   "metadata": {
    "collapsed": false,
    "pycharm": {
     "name": "#%%\n"
    }
   }
  },
  {
   "cell_type": "code",
   "execution_count": 122,
   "outputs": [],
   "source": [
    "del (data['close'])\n",
    "del (data['close_shift'])\n",
    "data = data.dropna()\n",
    "train_set = data.iloc[:-ROWS_TO_PREDICT]\n",
    "test_set =data.iloc[-ROWS_TO_PREDICT:]"
   ],
   "metadata": {
    "collapsed": false,
    "pycharm": {
     "name": "#%%\n"
    }
   }
  },
  {
   "cell_type": "code",
   "execution_count": 123,
   "outputs": [
    {
     "data": {
      "text/plain": " 1    1585\n-1    1348\n 0    1198\nName: class_column, dtype: int64"
     },
     "execution_count": 123,
     "metadata": {},
     "output_type": "execute_result"
    }
   ],
   "source": [
    "data['class_column'].value_counts()"
   ],
   "metadata": {
    "collapsed": false,
    "pycharm": {
     "name": "#%%\n"
    }
   }
  },
  {
   "cell_type": "code",
   "execution_count": 124,
   "outputs": [
    {
     "data": {
      "text/plain": "                           volume    volume_adi  volume_obv  volume_cmf  \\\nDatetime                                                                  \n2020-03-17 04:00:00-04:00       0  0.000000e+00           0    0.000000   \n2020-03-17 05:00:00-04:00       0  0.000000e+00           0    0.000000   \n2020-03-17 06:00:00-04:00       0  0.000000e+00           0    0.000000   \n2020-03-17 07:00:00-04:00       0  0.000000e+00           0    0.000000   \n2020-03-17 08:00:00-04:00       0  0.000000e+00           0    0.000000   \n...                           ...           ...         ...         ...   \n2021-03-12 16:00:00-05:00       0  2.891009e+08   115436601   -0.055280   \n2021-03-12 17:00:00-05:00       0  2.891009e+08   115436601   -0.031407   \n2021-03-12 18:00:00-05:00       0  2.891009e+08   115436601   -0.009501   \n2021-03-15 04:00:00-04:00       0  2.891009e+08   115436601    0.018716   \n2021-03-15 05:00:00-04:00       0  2.891009e+08   115436601    0.018716   \n\n                               volume_fi  volume_mfi   volume_em  \\\nDatetime                                                           \n2020-03-17 04:00:00-04:00       0.000000   50.000000    0.000000   \n2020-03-17 05:00:00-04:00      -0.000000   50.000000    0.000000   \n2020-03-17 06:00:00-04:00      -0.000000   50.000000    0.000000   \n2020-03-17 07:00:00-04:00      -0.000000   50.000000    0.000000   \n2020-03-17 08:00:00-04:00      -0.000000   50.000000    0.000000   \n...                                  ...         ...         ...   \n2021-03-12 16:00:00-05:00 -588065.882127   44.742482  129.256419   \n2021-03-12 17:00:00-05:00 -504056.470394   44.742482  129.256419   \n2021-03-12 18:00:00-05:00 -432048.403195   44.742482  129.256419   \n2021-03-15 04:00:00-04:00 -370327.202739   44.742482  129.256419   \n2021-03-15 05:00:00-04:00 -317423.316633   44.742482  129.256419   \n\n                           volume_sma_em   volume_vpt   volume_nvi  ...  \\\nDatetime                                                            ...   \n2020-03-17 04:00:00-04:00       0.000000   475.542379  1000.000000  ...   \n2020-03-17 05:00:00-04:00       0.000000    -0.000000  1000.000000  ...   \n2020-03-17 06:00:00-04:00       0.000000    -0.000000  1000.000000  ...   \n2020-03-17 07:00:00-04:00       0.000000     0.000000  1000.000000  ...   \n2020-03-17 08:00:00-04:00       0.000000     0.000000  1000.000000  ...   \n...                                  ...          ...          ...  ...   \n2021-03-12 16:00:00-05:00      -5.464963  1964.033637  1390.467704  ...   \n2021-03-12 17:00:00-05:00      -5.464963     0.000000  1390.467704  ...   \n2021-03-12 18:00:00-05:00      -5.464963     0.000000  1390.467704  ...   \n2021-03-15 04:00:00-04:00      -5.464963    -0.000000  1390.467704  ...   \n2021-03-15 05:00:00-04:00      -5.464963     0.000000  1390.467704  ...   \n\n                           momentum_ao  momentum_kama  momentum_roc  \\\nDatetime                                                              \n2020-03-17 04:00:00-04:00     0.000000     155.000000      0.000000   \n2020-03-17 05:00:00-04:00     0.000000     152.759057      0.000000   \n2020-03-17 06:00:00-04:00     0.000000     150.896648      0.000000   \n2020-03-17 07:00:00-04:00     0.000000     150.938958      0.000000   \n2020-03-17 08:00:00-04:00     0.000000     150.335289      0.000000   \n...                                ...            ...           ...   \n2021-03-12 16:00:00-05:00    -2.387331     268.889965     -0.134018   \n2021-03-12 17:00:00-05:00    -2.134615     268.871765     -0.037237   \n2021-03-12 18:00:00-05:00    -2.020732     268.865239     -0.743261   \n2021-03-15 04:00:00-04:00    -2.157328     268.709998     -1.077451   \n2021-03-15 05:00:00-04:00    -2.318357     268.758991     -0.126258   \n\n                           momentum_ppo  momentum_ppo_signal  \\\nDatetime                                                       \n2020-03-17 04:00:00-04:00      0.000000             0.000000   \n2020-03-17 05:00:00-04:00      0.000000             0.000000   \n2020-03-17 06:00:00-04:00      0.000000             0.000000   \n2020-03-17 07:00:00-04:00      0.000000             0.000000   \n2020-03-17 08:00:00-04:00      0.000000             0.000000   \n...                                 ...                  ...   \n2021-03-12 16:00:00-05:00     10.012354            11.445013   \n2021-03-12 17:00:00-05:00      0.534367             9.262884   \n2021-03-12 18:00:00-05:00     -8.127055             5.784896   \n2021-03-15 04:00:00-04:00    -16.042263             1.419464   \n2021-03-15 05:00:00-04:00    -23.275545            -3.519538   \n\n                           momentum_ppo_hist  others_dr  others_dlr  \\\nDatetime                                                              \n2020-03-17 04:00:00-04:00           0.000000 -37.040855    0.000000   \n2020-03-17 05:00:00-04:00           0.000000  -3.341935   -3.399054   \n2020-03-17 06:00:00-04:00           0.000000  -0.814311   -0.817644   \n2020-03-17 07:00:00-04:00           0.000000   1.615074    1.602170   \n2020-03-17 08:00:00-04:00           0.000000  -0.993377   -0.998344   \n...                                      ...        ...         ...   \n2021-03-12 16:00:00-05:00          -1.432659  -0.067055   -0.067077   \n2021-03-12 17:00:00-05:00          -8.728517   0.070827    0.070802   \n2021-03-12 18:00:00-05:00         -13.911952  -0.011175   -0.011176   \n2021-03-15 04:00:00-04:00         -17.461727  -0.122942   -0.123017   \n2021-03-15 05:00:00-04:00         -19.756007   0.320788    0.320274   \n\n                           others_cr  class_column  \nDatetime                                            \n2020-03-17 04:00:00-04:00   0.000000            -1  \n2020-03-17 05:00:00-04:00  -3.341935            -1  \n2020-03-17 06:00:00-04:00  -4.129032             0  \n2020-03-17 07:00:00-04:00  -2.580645            -1  \n2020-03-17 08:00:00-04:00  -3.548387             0  \n...                              ...           ...  \n2021-03-12 16:00:00-05:00  73.070968             0  \n2021-03-12 17:00:00-05:00  73.193548             1  \n2021-03-12 18:00:00-05:00  73.174194             1  \n2021-03-15 04:00:00-04:00  72.961290             1  \n2021-03-15 05:00:00-04:00  73.516129             1  \n\n[4099 rows x 85 columns]",
      "text/html": "<div>\n<style scoped>\n    .dataframe tbody tr th:only-of-type {\n        vertical-align: middle;\n    }\n\n    .dataframe tbody tr th {\n        vertical-align: top;\n    }\n\n    .dataframe thead th {\n        text-align: right;\n    }\n</style>\n<table border=\"1\" class=\"dataframe\">\n  <thead>\n    <tr style=\"text-align: right;\">\n      <th></th>\n      <th>volume</th>\n      <th>volume_adi</th>\n      <th>volume_obv</th>\n      <th>volume_cmf</th>\n      <th>volume_fi</th>\n      <th>volume_mfi</th>\n      <th>volume_em</th>\n      <th>volume_sma_em</th>\n      <th>volume_vpt</th>\n      <th>volume_nvi</th>\n      <th>...</th>\n      <th>momentum_ao</th>\n      <th>momentum_kama</th>\n      <th>momentum_roc</th>\n      <th>momentum_ppo</th>\n      <th>momentum_ppo_signal</th>\n      <th>momentum_ppo_hist</th>\n      <th>others_dr</th>\n      <th>others_dlr</th>\n      <th>others_cr</th>\n      <th>class_column</th>\n    </tr>\n    <tr>\n      <th>Datetime</th>\n      <th></th>\n      <th></th>\n      <th></th>\n      <th></th>\n      <th></th>\n      <th></th>\n      <th></th>\n      <th></th>\n      <th></th>\n      <th></th>\n      <th></th>\n      <th></th>\n      <th></th>\n      <th></th>\n      <th></th>\n      <th></th>\n      <th></th>\n      <th></th>\n      <th></th>\n      <th></th>\n      <th></th>\n    </tr>\n  </thead>\n  <tbody>\n    <tr>\n      <th>2020-03-17 04:00:00-04:00</th>\n      <td>0</td>\n      <td>0.000000e+00</td>\n      <td>0</td>\n      <td>0.000000</td>\n      <td>0.000000</td>\n      <td>50.000000</td>\n      <td>0.000000</td>\n      <td>0.000000</td>\n      <td>475.542379</td>\n      <td>1000.000000</td>\n      <td>...</td>\n      <td>0.000000</td>\n      <td>155.000000</td>\n      <td>0.000000</td>\n      <td>0.000000</td>\n      <td>0.000000</td>\n      <td>0.000000</td>\n      <td>-37.040855</td>\n      <td>0.000000</td>\n      <td>0.000000</td>\n      <td>-1</td>\n    </tr>\n    <tr>\n      <th>2020-03-17 05:00:00-04:00</th>\n      <td>0</td>\n      <td>0.000000e+00</td>\n      <td>0</td>\n      <td>0.000000</td>\n      <td>-0.000000</td>\n      <td>50.000000</td>\n      <td>0.000000</td>\n      <td>0.000000</td>\n      <td>-0.000000</td>\n      <td>1000.000000</td>\n      <td>...</td>\n      <td>0.000000</td>\n      <td>152.759057</td>\n      <td>0.000000</td>\n      <td>0.000000</td>\n      <td>0.000000</td>\n      <td>0.000000</td>\n      <td>-3.341935</td>\n      <td>-3.399054</td>\n      <td>-3.341935</td>\n      <td>-1</td>\n    </tr>\n    <tr>\n      <th>2020-03-17 06:00:00-04:00</th>\n      <td>0</td>\n      <td>0.000000e+00</td>\n      <td>0</td>\n      <td>0.000000</td>\n      <td>-0.000000</td>\n      <td>50.000000</td>\n      <td>0.000000</td>\n      <td>0.000000</td>\n      <td>-0.000000</td>\n      <td>1000.000000</td>\n      <td>...</td>\n      <td>0.000000</td>\n      <td>150.896648</td>\n      <td>0.000000</td>\n      <td>0.000000</td>\n      <td>0.000000</td>\n      <td>0.000000</td>\n      <td>-0.814311</td>\n      <td>-0.817644</td>\n      <td>-4.129032</td>\n      <td>0</td>\n    </tr>\n    <tr>\n      <th>2020-03-17 07:00:00-04:00</th>\n      <td>0</td>\n      <td>0.000000e+00</td>\n      <td>0</td>\n      <td>0.000000</td>\n      <td>-0.000000</td>\n      <td>50.000000</td>\n      <td>0.000000</td>\n      <td>0.000000</td>\n      <td>0.000000</td>\n      <td>1000.000000</td>\n      <td>...</td>\n      <td>0.000000</td>\n      <td>150.938958</td>\n      <td>0.000000</td>\n      <td>0.000000</td>\n      <td>0.000000</td>\n      <td>0.000000</td>\n      <td>1.615074</td>\n      <td>1.602170</td>\n      <td>-2.580645</td>\n      <td>-1</td>\n    </tr>\n    <tr>\n      <th>2020-03-17 08:00:00-04:00</th>\n      <td>0</td>\n      <td>0.000000e+00</td>\n      <td>0</td>\n      <td>0.000000</td>\n      <td>-0.000000</td>\n      <td>50.000000</td>\n      <td>0.000000</td>\n      <td>0.000000</td>\n      <td>0.000000</td>\n      <td>1000.000000</td>\n      <td>...</td>\n      <td>0.000000</td>\n      <td>150.335289</td>\n      <td>0.000000</td>\n      <td>0.000000</td>\n      <td>0.000000</td>\n      <td>0.000000</td>\n      <td>-0.993377</td>\n      <td>-0.998344</td>\n      <td>-3.548387</td>\n      <td>0</td>\n    </tr>\n    <tr>\n      <th>...</th>\n      <td>...</td>\n      <td>...</td>\n      <td>...</td>\n      <td>...</td>\n      <td>...</td>\n      <td>...</td>\n      <td>...</td>\n      <td>...</td>\n      <td>...</td>\n      <td>...</td>\n      <td>...</td>\n      <td>...</td>\n      <td>...</td>\n      <td>...</td>\n      <td>...</td>\n      <td>...</td>\n      <td>...</td>\n      <td>...</td>\n      <td>...</td>\n      <td>...</td>\n      <td>...</td>\n    </tr>\n    <tr>\n      <th>2021-03-12 16:00:00-05:00</th>\n      <td>0</td>\n      <td>2.891009e+08</td>\n      <td>115436601</td>\n      <td>-0.055280</td>\n      <td>-588065.882127</td>\n      <td>44.742482</td>\n      <td>129.256419</td>\n      <td>-5.464963</td>\n      <td>1964.033637</td>\n      <td>1390.467704</td>\n      <td>...</td>\n      <td>-2.387331</td>\n      <td>268.889965</td>\n      <td>-0.134018</td>\n      <td>10.012354</td>\n      <td>11.445013</td>\n      <td>-1.432659</td>\n      <td>-0.067055</td>\n      <td>-0.067077</td>\n      <td>73.070968</td>\n      <td>0</td>\n    </tr>\n    <tr>\n      <th>2021-03-12 17:00:00-05:00</th>\n      <td>0</td>\n      <td>2.891009e+08</td>\n      <td>115436601</td>\n      <td>-0.031407</td>\n      <td>-504056.470394</td>\n      <td>44.742482</td>\n      <td>129.256419</td>\n      <td>-5.464963</td>\n      <td>0.000000</td>\n      <td>1390.467704</td>\n      <td>...</td>\n      <td>-2.134615</td>\n      <td>268.871765</td>\n      <td>-0.037237</td>\n      <td>0.534367</td>\n      <td>9.262884</td>\n      <td>-8.728517</td>\n      <td>0.070827</td>\n      <td>0.070802</td>\n      <td>73.193548</td>\n      <td>1</td>\n    </tr>\n    <tr>\n      <th>2021-03-12 18:00:00-05:00</th>\n      <td>0</td>\n      <td>2.891009e+08</td>\n      <td>115436601</td>\n      <td>-0.009501</td>\n      <td>-432048.403195</td>\n      <td>44.742482</td>\n      <td>129.256419</td>\n      <td>-5.464963</td>\n      <td>0.000000</td>\n      <td>1390.467704</td>\n      <td>...</td>\n      <td>-2.020732</td>\n      <td>268.865239</td>\n      <td>-0.743261</td>\n      <td>-8.127055</td>\n      <td>5.784896</td>\n      <td>-13.911952</td>\n      <td>-0.011175</td>\n      <td>-0.011176</td>\n      <td>73.174194</td>\n      <td>1</td>\n    </tr>\n    <tr>\n      <th>2021-03-15 04:00:00-04:00</th>\n      <td>0</td>\n      <td>2.891009e+08</td>\n      <td>115436601</td>\n      <td>0.018716</td>\n      <td>-370327.202739</td>\n      <td>44.742482</td>\n      <td>129.256419</td>\n      <td>-5.464963</td>\n      <td>-0.000000</td>\n      <td>1390.467704</td>\n      <td>...</td>\n      <td>-2.157328</td>\n      <td>268.709998</td>\n      <td>-1.077451</td>\n      <td>-16.042263</td>\n      <td>1.419464</td>\n      <td>-17.461727</td>\n      <td>-0.122942</td>\n      <td>-0.123017</td>\n      <td>72.961290</td>\n      <td>1</td>\n    </tr>\n    <tr>\n      <th>2021-03-15 05:00:00-04:00</th>\n      <td>0</td>\n      <td>2.891009e+08</td>\n      <td>115436601</td>\n      <td>0.018716</td>\n      <td>-317423.316633</td>\n      <td>44.742482</td>\n      <td>129.256419</td>\n      <td>-5.464963</td>\n      <td>0.000000</td>\n      <td>1390.467704</td>\n      <td>...</td>\n      <td>-2.318357</td>\n      <td>268.758991</td>\n      <td>-0.126258</td>\n      <td>-23.275545</td>\n      <td>-3.519538</td>\n      <td>-19.756007</td>\n      <td>0.320788</td>\n      <td>0.320274</td>\n      <td>73.516129</td>\n      <td>1</td>\n    </tr>\n  </tbody>\n</table>\n<p>4099 rows × 85 columns</p>\n</div>"
     },
     "execution_count": 124,
     "metadata": {},
     "output_type": "execute_result"
    }
   ],
   "source": [
    "train_set"
   ],
   "metadata": {
    "collapsed": false,
    "pycharm": {
     "name": "#%%\n"
    }
   }
  },
  {
   "cell_type": "code",
   "execution_count": 125,
   "outputs": [],
   "source": [
    "y = data['class_column']\n",
    "features = [x for x in data.columns if x not in ['class_column']]\n",
    "x = data[features]\n",
    "scaler = MinMaxScaler()\n",
    "# x = pd.DataFrame(scaler.fit_transform(x.values), columns=x.columns, index=x.index)\n",
    "x_train= x.iloc[:-ROWS_TO_PREDICT]\n",
    "y_train= y.iloc[:-ROWS_TO_PREDICT]\n",
    "x_test =x.iloc[-ROWS_TO_PREDICT:]\n",
    "y_test=y.iloc[-ROWS_TO_PREDICT:]"
   ],
   "metadata": {
    "collapsed": false,
    "pycharm": {
     "name": "#%%\n"
    }
   }
  },
  {
   "cell_type": "code",
   "execution_count": 126,
   "outputs": [],
   "source": [
    "classifiers = dict()\n",
    "\n",
    "classifiers['DecisionTreeClassifier 1'] = DecisionTreeClassifier(max_depth=10, random_state=0,criterion='gini',splitter='best')\n",
    "classifiers['DecisionTreeClassifier 2'] = DecisionTreeClassifier(max_depth=10, random_state=0,criterion='gini',splitter='random')\n",
    "classifiers['DecisionTreeClassifier 3'] = DecisionTreeClassifier(max_depth=10, random_state=0,criterion='entropy',splitter='best')\n",
    "# classifiers['DecisionTreeClassifier 4'] = DecisionTreeClassifier(max_depth=10, random_state=0,criterion='entropy',splitter='random')\n",
    "# classifiers['DecisionTreeClassifier 5'] = DecisionTreeClassifier(random_state=0,criterion='gini',splitter='best')\n",
    "# classifiers['DecisionTreeClassifier 6'] = DecisionTreeClassifier(random_state=0,criterion='gini',splitter='random')\n",
    "# classifiers['DecisionTreeClassifier 7'] = DecisionTreeClassifier(random_state=0,criterion='entropy',splitter='best')\n",
    "# classifiers['DecisionTreeClassifier 8'] = DecisionTreeClassifier(random_state=0,criterion='entropy',splitter='random')\n",
    "#\n",
    "# classifiers['RandomForestClassifier 1'] = RandomForestClassifier(n_estimators=100, max_depth=2, random_state=0,criterion='gini')\n",
    "# classifiers['RandomForestClassifier 2'] = RandomForestClassifier(n_estimators=1000, max_depth=2, random_state=0,criterion='gini')\n",
    "# classifiers['RandomForestClassifier 3'] = RandomForestClassifier(n_estimators=100, max_depth=3, random_state=0,criterion='gini')\n",
    "classifiers['RandomForestClassifier 4'] = RandomForestClassifier(n_estimators=1000, max_depth=3, random_state=0,criterion='gini', n_jobs = -1)\n",
    "classifiers['RandomForestClassifier 5'] = RandomForestClassifier(n_estimators=100, max_depth=2, random_state=0,criterion='entropy', n_jobs = -1)\n",
    "classifiers['RandomForestClassifier 52'] = RandomForestClassifier(n_estimators=100, max_depth=1, random_state=0,criterion='gini', n_jobs = -1)\n",
    "classifiers['RandomForestClassifier 53'] = RandomForestClassifier(n_estimators=100, max_depth=1, random_state=0,criterion='gini', n_jobs = -1,max_features='log2')\n",
    "classifiers['RandomForestClassifier 54'] = RandomForestClassifier(n_estimators=100, max_depth=1, random_state=0,criterion='entropy', n_jobs = -1,max_features='log2')\n",
    "# classifiers['RandomForestClassifier 6'] = RandomForestClassifier(n_estimators=1000, max_depth=2, random_state=0,criterion='entropy')\n",
    "# classifiers['RandomForestClassifier 7'] = RandomForestClassifier(n_estimators=100, max_depth=3, random_state=0,criterion='entropy')\n",
    "classifiers['RandomForestClassifier 51'] = RandomForestClassifier(n_estimators=1000, max_depth=1, random_state=0,criterion='entropy', n_jobs = -1)\n",
    "# classifiers['RandomForestClassifier 52'] = RandomForestClassifier(n_estimators=10000, max_depth=2, random_state=0,criterion='entropy', n_jobs = -1)\n",
    "# classifiers['RandomForestClassifier 53'] = RandomForestClassifier(n_estimators=100000, max_depth=2, random_state=0,criterion='entropy', n_jobs = -1)\n",
    "# classifiers['RandomForestClassifier 54'] = RandomForestClassifier(n_estimators=1000000, max_depth=2, random_state=0,criterion='entropy', n_jobs = -1)\n",
    "\n",
    "# classifiers['GradientBoostingClassifier 1'] = GradientBoostingClassifier(n_estimators=100,random_state=0,criterion='friedman_mse',max_depth=3, learning_rate=0.1)\n",
    "# classifiers['GradientBoostingClassifier 2'] = GradientBoostingClassifier(n_estimators=100,random_state=0,criterion='friedman_mse',max_depth=3, learning_rate=0.3)\n",
    "# classifiers['GradientBoostingClassifier 3'] = GradientBoostingClassifier(n_estimators=100,random_state=0,criterion='friedman_mse',max_depth=3, learning_rate=0.5)\n",
    "# classifiers['GradientBoostingClassifier 4'] = GradientBoostingClassifier(n_estimators=100,random_state=0,criterion='friedman_mse',max_depth=3, learning_rate=1)\n",
    "# #\n",
    "# classifiers['GradientBoostingClassifier 5'] = GradientBoostingClassifier(n_estimators=1000,random_state=0,criterion='friedman_mse',max_depth=3, learning_rate=0.1)\n",
    "# # classifiers['GradientBoostingClassifier 6'] = GradientBoostingClassifier(n_estimators=1000,random_state=0,criterion='friedman_mse',max_depth=3, learning_rate=0.3)\n",
    "# classifiers['GradientBoostingClassifier 7'] = GradientBoostingClassifier(n_estimators=1000,random_state=0,criterion='friedman_mse',max_depth=3, learning_rate=0.5)\n",
    "# # classifiers['GradientBoostingClassifier 8'] = GradientBoostingClassifier(n_estimators=1000,random_state=0,criterion='friedman_mse',max_depth=3, learning_rate=1)\n",
    "#\n",
    "# classifiers['GradientBoostingClassifier 9'] = GradientBoostingClassifier(n_estimators=1000,random_state=0,criterion='friedman_mse',max_depth=2, learning_rate=0.1)\n",
    "# classifiers['GradientBoostingClassifier 10'] = GradientBoostingClassifier(n_estimators=1000,random_state=0,criterion='friedman_mse',max_depth=2, learning_rate=0.3)\n",
    "# # classifiers['GradientBoostingClassifier 11'] = GradientBoostingClassifier(n_estimators=1000,random_state=0,criterion='friedman_mse',max_depth=2, learning_rate=0.5)\n",
    "# classifiers['GradientBoostingClassifier 12'] = GradientBoostingClassifier(n_estimators=1000,random_state=0,criterion='friedman_mse',max_depth=2, learning_rate=1)"
   ],
   "metadata": {
    "collapsed": false,
    "pycharm": {
     "name": "#%%\n"
    }
   }
  },
  {
   "cell_type": "code",
   "execution_count": 127,
   "outputs": [],
   "source": [
    "def print_conf_matrix(test_y, predict, name):\n",
    "    matrix = confusion_matrix(test_y, predict,  labels=[-1, 0, 1])\n",
    "    print(matrix)\n",
    "    ax= plt.subplot()\n",
    "    sn.heatmap(matrix, annot=True, ax = ax) #annot=True to annotate cells\n",
    "\n",
    "    # labels, title and ticks\n",
    "    ax.set_xlabel('Predicted labels', color='white')\n",
    "    ax.set_ylabel('True labels', color='white')\n",
    "    ax.set_title(f'Confusion Matrix for {name}' , color='white')\n",
    "    ax.xaxis.set_ticklabels(['-1','0', '1'], color='white')\n",
    "    ax.yaxis.set_ticklabels(['-1','0', '1'], color='white')\n",
    "    plt.show()\n",
    "\n",
    "def train_model(model,train_x, train_y):\n",
    "    model.fit(train_x, train_y)"
   ],
   "metadata": {
    "collapsed": false,
    "pycharm": {
     "name": "#%%\n"
    }
   }
  },
  {
   "cell_type": "code",
   "execution_count": 128,
   "outputs": [
    {
     "name": "stdout",
     "output_type": "stream",
     "text": [
      "Calculate:  DecisionTreeClassifier 1\n",
      "Score:  0.4375\n",
      "Calculate:  DecisionTreeClassifier 2\n",
      "Score:  0.1875\n",
      "Calculate:  DecisionTreeClassifier 3\n",
      "Score:  0.5\n",
      "Calculate:  RandomForestClassifier 4\n",
      "Score:  0.5625\n",
      "Calculate:  RandomForestClassifier 5\n",
      "Score:  0.59375\n",
      "Calculate:  RandomForestClassifier 52\n",
      "Score:  0.59375\n",
      "Calculate:  RandomForestClassifier 53\n",
      "Score:  0.59375\n",
      "Calculate:  RandomForestClassifier 54\n",
      "Score:  0.59375\n",
      "Calculate:  RandomForestClassifier 51\n",
      "Score:  0.59375\n",
      "+----+---------------------------+------------+\n",
      "|    | Classifier type           |   Accuracy |\n",
      "|----+---------------------------+------------|\n",
      "|  0 | DecisionTreeClassifier 1  |    0.4375  |\n",
      "|  1 | DecisionTreeClassifier 2  |    0.1875  |\n",
      "|  2 | DecisionTreeClassifier 3  |    0.5     |\n",
      "|  3 | RandomForestClassifier 4  |    0.5625  |\n",
      "|  4 | RandomForestClassifier 5  |    0.59375 |\n",
      "|  5 | RandomForestClassifier 52 |    0.59375 |\n",
      "|  6 | RandomForestClassifier 53 |    0.59375 |\n",
      "|  7 | RandomForestClassifier 54 |    0.59375 |\n",
      "|  8 | RandomForestClassifier 51 |    0.59375 |\n",
      "+----+---------------------------+------------+\n"
     ]
    }
   ],
   "source": [
    "predictions= dict()\n",
    "score = dict()\n",
    "for k,v in classifiers.items():\n",
    "    print(\"Calculate: \", k)\n",
    "    train_model(v,x_train,y_train)\n",
    "    predictions[k] = v.predict(x_test)\n",
    "    score[k] = accuracy_score(y_test.values, predictions[k])\n",
    "    print('Score: ',  score[k] )\n",
    "    # print_conf_matrix(test_y, predictions[k], k)\n",
    "\n",
    "headers = [\"Classifier type\", \"Accuracy\"]\n",
    "score_df = pd.DataFrame(score.items(), columns=headers)\n",
    "print(tabulate(score_df, headers, tablefmt=\"psql\"))\n"
   ],
   "metadata": {
    "collapsed": false,
    "pycharm": {
     "name": "#%%\n"
    }
   }
  },
  {
   "cell_type": "code",
   "execution_count": 131,
   "outputs": [
    {
     "name": "stderr",
     "output_type": "stream",
     "text": [
      "C:\\Users\\exomat\\anaconda3\\envs\\magisterka_analiza\\lib\\site-packages\\sklearn\\utils\\validation.py:67: FutureWarning: Pass n_features_to_select=4 as keyword args. From version 0.25 passing these as positional arguments will result in an error\n",
      "  warnings.warn(\"Pass {} as keyword args. From version 0.25 \"\n"
     ]
    },
    {
     "data": {
      "text/plain": "RFE(estimator=RandomForestClassifier(criterion='entropy', max_depth=2,\n                                     n_jobs=-1, random_state=0),\n    n_features_to_select=4)"
     },
     "execution_count": 131,
     "metadata": {},
     "output_type": "execute_result"
    }
   ],
   "source": [
    "rfe = RFE(RandomForestClassifier(n_estimators=100, max_depth=2, random_state=0,criterion='entropy', n_jobs = -1),4)\n",
    "fited = rfe.fit(x_train, y_train)\n",
    "rfe"
   ],
   "metadata": {
    "collapsed": false,
    "pycharm": {
     "name": "#%%\n"
    }
   }
  },
  {
   "cell_type": "code",
   "execution_count": 132,
   "outputs": [
    {
     "name": "stdout",
     "output_type": "stream",
     "text": [
      "Columns with predictive power: ['volume_adi', 'volume_obv', 'volume_vwap', 'volatility_dcl']\n"
     ]
    }
   ],
   "source": [
    "names = x.columns\n",
    "columns=[]\n",
    "for i in range(len(fited.support_)):\n",
    "    if fited.support_[i]:\n",
    "        columns.append(names[i])\n",
    "\n",
    "print(\"Columns with predictive power:\", columns )\n"
   ],
   "metadata": {
    "collapsed": false,
    "pycharm": {
     "name": "#%%\n"
    }
   }
  }
 ],
 "metadata": {
  "kernelspec": {
   "name": "magisterka_analiza",
   "language": "python",
   "display_name": "Python magisterka"
  },
  "language_info": {
   "codemirror_mode": {
    "name": "ipython",
    "version": 2
   },
   "file_extension": ".py",
   "mimetype": "text/x-python",
   "name": "python",
   "nbconvert_exporter": "python",
   "pygments_lexer": "ipython2",
   "version": "2.7.6"
  }
 },
 "nbformat": 4,
 "nbformat_minor": 0
}