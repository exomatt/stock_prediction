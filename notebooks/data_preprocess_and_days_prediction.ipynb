{
 "cells": [
  {
   "cell_type": "code",
   "execution_count": 143,
   "outputs": [],
   "source": [
    "import yfinance as yf\n",
    "from datetime import datetime\n",
    "import pandas as pd\n",
    "import numpy as np\n",
    "import matplotlib.pyplot as plt\n",
    "from finta import TA\n",
    "import numpy as np\n",
    "from sklearn.ensemble import RandomForestClassifier, VotingClassifier\n",
    "from sklearn.model_selection import GridSearchCV, train_test_split\n",
    "from sklearn.tree import DecisionTreeClassifier\n",
    "from sklearn.ensemble import GradientBoostingClassifier\n",
    "from sklearn.metrics import confusion_matrix, classification_report, accuracy_score\n",
    "from sklearn.metrics import jaccard_score\n",
    "import seaborn as sn\n",
    "from tabulate import tabulate\n"
   ],
   "metadata": {
    "collapsed": false,
    "pycharm": {
     "name": "#%%\n"
    }
   }
  },
  {
   "cell_type": "code",
   "execution_count": 144,
   "outputs": [],
   "source": [
    "WINDOW = 1 # number of rows to look ahead to see what the price did\n",
    "FETCH_INTERVAL = \"60m\"  # fetch data by interval (including intraday if period < 60 days)\n",
    "        # valid intervals: 1m,2m,5m,15m,30m,60m,90m,1h,1d,5d,1wk,1mo,3mo\n",
    "        # (optional, default is '1d')\n",
    "INTERVAL = '1y'     # use \"period\" instead of start/end\n",
    "        # valid periods: 1d,5d,1mo,3mo,6mo,1y,2y,5y,10y,ytd,max\n",
    "        # (optional, default is '1mo')\n",
    "symbol = 'FB'      # Symbol of the desired stock\n",
    "INDICATORS = ['RSI', 'MACD', 'STOCH','ADL', 'ATR', 'MOM', 'MFI', 'ROC', 'CCI', 'VORTEX']\n",
    "ROWS_TO_PREDICT = 16"
   ],
   "metadata": {
    "collapsed": false,
    "pycharm": {
     "name": "#%%\n"
    }
   }
  },
  {
   "cell_type": "code",
   "execution_count": 145,
   "outputs": [
    {
     "name": "stdout",
     "output_type": "stream",
     "text": [
      "[*********************100%***********************]  1 of 1 completed\n"
     ]
    },
    {
     "data": {
      "text/plain": "                                 Open        High         Low       Close  \\\nDatetime                                                                    \n2020-02-05 04:00:00-05:00  211.200000  212.030000  210.850000  212.030000   \n2020-02-05 05:00:00-05:00  212.480000  213.000000  212.130000  212.300000   \n2020-02-05 06:00:00-05:00  212.150000  212.290000  212.080000  212.200000   \n2020-02-05 07:00:00-05:00  212.310000  212.320000  211.700000  212.250000   \n2020-02-05 08:00:00-05:00  212.220000  212.710000  211.700100  212.660000   \n...                               ...         ...         ...         ...   \n2021-02-04 12:30:00-05:00  265.230011  266.559998  265.154999  266.230011   \n2021-02-04 13:30:00-05:00  266.260010  266.419891  265.149994  265.176086   \n2021-02-04 14:30:00-05:00  265.170013  266.125000  264.920013  265.670013   \n2021-02-04 15:30:00-05:00  265.684296  266.649994  265.387299  266.619995   \n2021-02-04 16:00:00-05:00  266.630000  275.745000  265.620000  266.490000   \n\n                            Adj Close   Volume  \nDatetime                                        \n2020-02-05 04:00:00-05:00  212.030000        0  \n2020-02-05 05:00:00-05:00  212.300000        0  \n2020-02-05 06:00:00-05:00  212.200000        0  \n2020-02-05 07:00:00-05:00  212.250000        0  \n2020-02-05 08:00:00-05:00  212.660000        0  \n...                               ...      ...  \n2021-02-04 12:30:00-05:00  266.230011  1169964  \n2021-02-04 13:30:00-05:00  265.176086  1056537  \n2021-02-04 14:30:00-05:00  265.670013  2405284  \n2021-02-04 15:30:00-05:00  266.619995  1684009  \n2021-02-04 16:00:00-05:00  266.490000  1353802  \n\n[4142 rows x 6 columns]",
      "text/html": "<div>\n<style scoped>\n    .dataframe tbody tr th:only-of-type {\n        vertical-align: middle;\n    }\n\n    .dataframe tbody tr th {\n        vertical-align: top;\n    }\n\n    .dataframe thead th {\n        text-align: right;\n    }\n</style>\n<table border=\"1\" class=\"dataframe\">\n  <thead>\n    <tr style=\"text-align: right;\">\n      <th></th>\n      <th>Open</th>\n      <th>High</th>\n      <th>Low</th>\n      <th>Close</th>\n      <th>Adj Close</th>\n      <th>Volume</th>\n    </tr>\n    <tr>\n      <th>Datetime</th>\n      <th></th>\n      <th></th>\n      <th></th>\n      <th></th>\n      <th></th>\n      <th></th>\n    </tr>\n  </thead>\n  <tbody>\n    <tr>\n      <th>2020-02-05 04:00:00-05:00</th>\n      <td>211.200000</td>\n      <td>212.030000</td>\n      <td>210.850000</td>\n      <td>212.030000</td>\n      <td>212.030000</td>\n      <td>0</td>\n    </tr>\n    <tr>\n      <th>2020-02-05 05:00:00-05:00</th>\n      <td>212.480000</td>\n      <td>213.000000</td>\n      <td>212.130000</td>\n      <td>212.300000</td>\n      <td>212.300000</td>\n      <td>0</td>\n    </tr>\n    <tr>\n      <th>2020-02-05 06:00:00-05:00</th>\n      <td>212.150000</td>\n      <td>212.290000</td>\n      <td>212.080000</td>\n      <td>212.200000</td>\n      <td>212.200000</td>\n      <td>0</td>\n    </tr>\n    <tr>\n      <th>2020-02-05 07:00:00-05:00</th>\n      <td>212.310000</td>\n      <td>212.320000</td>\n      <td>211.700000</td>\n      <td>212.250000</td>\n      <td>212.250000</td>\n      <td>0</td>\n    </tr>\n    <tr>\n      <th>2020-02-05 08:00:00-05:00</th>\n      <td>212.220000</td>\n      <td>212.710000</td>\n      <td>211.700100</td>\n      <td>212.660000</td>\n      <td>212.660000</td>\n      <td>0</td>\n    </tr>\n    <tr>\n      <th>...</th>\n      <td>...</td>\n      <td>...</td>\n      <td>...</td>\n      <td>...</td>\n      <td>...</td>\n      <td>...</td>\n    </tr>\n    <tr>\n      <th>2021-02-04 12:30:00-05:00</th>\n      <td>265.230011</td>\n      <td>266.559998</td>\n      <td>265.154999</td>\n      <td>266.230011</td>\n      <td>266.230011</td>\n      <td>1169964</td>\n    </tr>\n    <tr>\n      <th>2021-02-04 13:30:00-05:00</th>\n      <td>266.260010</td>\n      <td>266.419891</td>\n      <td>265.149994</td>\n      <td>265.176086</td>\n      <td>265.176086</td>\n      <td>1056537</td>\n    </tr>\n    <tr>\n      <th>2021-02-04 14:30:00-05:00</th>\n      <td>265.170013</td>\n      <td>266.125000</td>\n      <td>264.920013</td>\n      <td>265.670013</td>\n      <td>265.670013</td>\n      <td>2405284</td>\n    </tr>\n    <tr>\n      <th>2021-02-04 15:30:00-05:00</th>\n      <td>265.684296</td>\n      <td>266.649994</td>\n      <td>265.387299</td>\n      <td>266.619995</td>\n      <td>266.619995</td>\n      <td>1684009</td>\n    </tr>\n    <tr>\n      <th>2021-02-04 16:00:00-05:00</th>\n      <td>266.630000</td>\n      <td>275.745000</td>\n      <td>265.620000</td>\n      <td>266.490000</td>\n      <td>266.490000</td>\n      <td>1353802</td>\n    </tr>\n  </tbody>\n</table>\n<p>4142 rows × 6 columns</p>\n</div>"
     },
     "execution_count": 145,
     "metadata": {},
     "output_type": "execute_result"
    }
   ],
   "source": [
    "data = yf.download(  # or pdr.get_data_yahoo(...\n",
    "        tickers = symbol,\n",
    "\n",
    "\n",
    "        period = INTERVAL,\n",
    "\n",
    "        interval = FETCH_INTERVAL,\n",
    "\n",
    "        # group by ticker (to access via data['SPY'])\n",
    "        # (optional, default is 'column')\n",
    "        group_by = 'ticker',\n",
    "\n",
    "        # adjust all OHLC automatically\n",
    "        # (optional, default is False)\n",
    "        # auto_adjust = True,\n",
    "\n",
    "        # download pre/post regular market hours data\n",
    "        # (optional, default is False)\n",
    "        prepost = True,\n",
    "\n",
    "        # use threads for mass downloading? (True/False/Integer)\n",
    "        # (optional, default is True)\n",
    "        threads = True,\n",
    "\n",
    "        # proxy URL scheme use use when downloading?\n",
    "        # (optional, default is None)\n",
    "        proxy = None\n",
    "    )\n",
    "data"
   ],
   "metadata": {
    "collapsed": false,
    "pycharm": {
     "name": "#%%\n"
    }
   }
  },
  {
   "cell_type": "code",
   "execution_count": 146,
   "outputs": [
    {
     "data": {
      "text/plain": "                                 open        high         low       close  \\\nDatetime                                                                    \n2020-02-05 04:00:00-05:00  211.200000  212.030000  210.850000  212.030000   \n2020-02-05 05:00:00-05:00  212.480000  213.000000  212.130000  212.300000   \n2020-02-05 06:00:00-05:00  212.150000  212.290000  212.080000  212.200000   \n2020-02-05 07:00:00-05:00  212.310000  212.320000  211.700000  212.250000   \n2020-02-05 08:00:00-05:00  212.220000  212.710000  211.700100  212.660000   \n2020-02-05 09:00:00-05:00  212.670000  213.200000  212.420000  212.480000   \n2020-02-05 09:30:00-05:00  212.509995  212.729996  210.139999  210.414993   \n2020-02-05 10:30:00-05:00  210.410004  210.410004  208.770004  209.919998   \n2020-02-05 11:30:00-05:00  209.916794  210.277695  209.600006  209.989807   \n2020-02-05 12:30:00-05:00  210.000000  210.289993  209.608307  209.960007   \n\n                            Adj Close   volume  \nDatetime                                        \n2020-02-05 04:00:00-05:00  212.030000        0  \n2020-02-05 05:00:00-05:00  212.300000        0  \n2020-02-05 06:00:00-05:00  212.200000        0  \n2020-02-05 07:00:00-05:00  212.250000        0  \n2020-02-05 08:00:00-05:00  212.660000        0  \n2020-02-05 09:00:00-05:00  212.480000        0  \n2020-02-05 09:30:00-05:00  210.414993  3634995  \n2020-02-05 10:30:00-05:00  209.919998  1788886  \n2020-02-05 11:30:00-05:00  209.989807  1099488  \n2020-02-05 12:30:00-05:00  209.960007   737787  ",
      "text/html": "<div>\n<style scoped>\n    .dataframe tbody tr th:only-of-type {\n        vertical-align: middle;\n    }\n\n    .dataframe tbody tr th {\n        vertical-align: top;\n    }\n\n    .dataframe thead th {\n        text-align: right;\n    }\n</style>\n<table border=\"1\" class=\"dataframe\">\n  <thead>\n    <tr style=\"text-align: right;\">\n      <th></th>\n      <th>open</th>\n      <th>high</th>\n      <th>low</th>\n      <th>close</th>\n      <th>Adj Close</th>\n      <th>volume</th>\n    </tr>\n    <tr>\n      <th>Datetime</th>\n      <th></th>\n      <th></th>\n      <th></th>\n      <th></th>\n      <th></th>\n      <th></th>\n    </tr>\n  </thead>\n  <tbody>\n    <tr>\n      <th>2020-02-05 04:00:00-05:00</th>\n      <td>211.200000</td>\n      <td>212.030000</td>\n      <td>210.850000</td>\n      <td>212.030000</td>\n      <td>212.030000</td>\n      <td>0</td>\n    </tr>\n    <tr>\n      <th>2020-02-05 05:00:00-05:00</th>\n      <td>212.480000</td>\n      <td>213.000000</td>\n      <td>212.130000</td>\n      <td>212.300000</td>\n      <td>212.300000</td>\n      <td>0</td>\n    </tr>\n    <tr>\n      <th>2020-02-05 06:00:00-05:00</th>\n      <td>212.150000</td>\n      <td>212.290000</td>\n      <td>212.080000</td>\n      <td>212.200000</td>\n      <td>212.200000</td>\n      <td>0</td>\n    </tr>\n    <tr>\n      <th>2020-02-05 07:00:00-05:00</th>\n      <td>212.310000</td>\n      <td>212.320000</td>\n      <td>211.700000</td>\n      <td>212.250000</td>\n      <td>212.250000</td>\n      <td>0</td>\n    </tr>\n    <tr>\n      <th>2020-02-05 08:00:00-05:00</th>\n      <td>212.220000</td>\n      <td>212.710000</td>\n      <td>211.700100</td>\n      <td>212.660000</td>\n      <td>212.660000</td>\n      <td>0</td>\n    </tr>\n    <tr>\n      <th>2020-02-05 09:00:00-05:00</th>\n      <td>212.670000</td>\n      <td>213.200000</td>\n      <td>212.420000</td>\n      <td>212.480000</td>\n      <td>212.480000</td>\n      <td>0</td>\n    </tr>\n    <tr>\n      <th>2020-02-05 09:30:00-05:00</th>\n      <td>212.509995</td>\n      <td>212.729996</td>\n      <td>210.139999</td>\n      <td>210.414993</td>\n      <td>210.414993</td>\n      <td>3634995</td>\n    </tr>\n    <tr>\n      <th>2020-02-05 10:30:00-05:00</th>\n      <td>210.410004</td>\n      <td>210.410004</td>\n      <td>208.770004</td>\n      <td>209.919998</td>\n      <td>209.919998</td>\n      <td>1788886</td>\n    </tr>\n    <tr>\n      <th>2020-02-05 11:30:00-05:00</th>\n      <td>209.916794</td>\n      <td>210.277695</td>\n      <td>209.600006</td>\n      <td>209.989807</td>\n      <td>209.989807</td>\n      <td>1099488</td>\n    </tr>\n    <tr>\n      <th>2020-02-05 12:30:00-05:00</th>\n      <td>210.000000</td>\n      <td>210.289993</td>\n      <td>209.608307</td>\n      <td>209.960007</td>\n      <td>209.960007</td>\n      <td>737787</td>\n    </tr>\n  </tbody>\n</table>\n</div>"
     },
     "execution_count": 146,
     "metadata": {},
     "output_type": "execute_result"
    }
   ],
   "source": [
    "data.rename(columns={\"Close\": 'close', \"High\": 'high', \"Low\": 'low', 'Volume': 'volume', 'Open': 'open'}, inplace=True)\n",
    "data.head(10)"
   ],
   "metadata": {
    "collapsed": false,
    "pycharm": {
     "name": "#%%\n"
    }
   }
  },
  {
   "cell_type": "code",
   "execution_count": 147,
   "outputs": [
    {
     "data": {
      "text/plain": "<AxesSubplot:xlabel='Datetime'>"
     },
     "execution_count": 147,
     "metadata": {},
     "output_type": "execute_result"
    },
    {
     "data": {
      "text/plain": "<Figure size 432x288 with 1 Axes>",
      "image/png": "[encoded data removed]"
     },
     "metadata": {
      "needs_background": "light"
     },
     "output_type": "display_data"
    }
   ],
   "source": [
    "data['close'].plot()"
   ],
   "metadata": {
    "collapsed": false,
    "pycharm": {
     "name": "#%%\n"
    }
   }
  },
  {
   "cell_type": "code",
   "execution_count": 148,
   "outputs": [],
   "source": [
    "def _get_indicator_data(data):\n",
    "    \"\"\"\n",
    "    Function that uses the finta API to calculate technical indicators used as the features\n",
    "    :return:\n",
    "    \"\"\"\n",
    "\n",
    "    for indicator in INDICATORS:\n",
    "        ind_data = eval('TA.' + indicator + '(data)')\n",
    "        if not isinstance(ind_data, pd.DataFrame):\n",
    "            ind_data = ind_data.to_frame()\n",
    "        data = pd.concat([data, ind_data], axis=1)\n",
    "    data.rename(columns={\"14 period EMV.\": '14 period EMV'}, inplace=True)\n",
    "\n",
    "    # Also calculate moving averages for features\n",
    "    data['ema50'] = data['close'] / data['close'].ewm(50).mean()\n",
    "    data['ema21'] = data['close'] / data['close'].ewm(21).mean()\n",
    "    data['ema15'] = data['close'] / data['close'].ewm(ROWS_TO_PREDICT).mean()\n",
    "    data['ema5'] = data['close'] / data['close'].ewm(5).mean()\n",
    "\n",
    "    # Instead of using the actual volume value (which changes over time), we normalize it with a moving volume average\n",
    "    data['normVol'] = data['volume'] / data['volume'].ewm(5).mean()\n",
    "\n",
    "    # Remove columns that won't be used as features\n",
    "    del (data['open'])\n",
    "    del (data['high'])\n",
    "    del (data['low'])\n",
    "    del (data['volume'])\n",
    "    del (data['Adj Close'])\n",
    "\n",
    "    return data\n",
    "\n",
    "data = _get_indicator_data(data)"
   ],
   "metadata": {
    "collapsed": false,
    "pycharm": {
     "name": "#%%\n"
    }
   }
  },
  {
   "cell_type": "code",
   "execution_count": 149,
   "outputs": [
    {
     "data": {
      "text/plain": "                                close  14 period RSI      MACD    SIGNAL  \\\nDatetime                                                                   \n2020-02-05 04:00:00-05:00  212.030000            NaN  0.000000  0.000000   \n2020-02-05 05:00:00-05:00  212.300000     100.000000  0.006058  0.003365   \n2020-02-05 06:00:00-05:00  212.200000      71.486762  0.004618  0.003879   \n2020-02-05 07:00:00-05:00  212.250000      75.281814  0.005655  0.004480   \n2020-02-05 08:00:00-05:00  212.660000      88.637182  0.022414  0.009815   \n...                               ...            ...       ...       ...   \n2021-02-04 12:30:00-05:00  266.230011      48.812125 -0.046570  0.210663   \n2021-02-04 13:30:00-05:00  265.176086      43.900248 -0.142515  0.140028   \n2021-02-04 14:30:00-05:00  265.670013      46.611711 -0.176660  0.076690   \n2021-02-04 15:30:00-05:00  266.619995      51.470070 -0.125616  0.036229   \n2021-02-04 16:00:00-05:00  266.490000      50.788973 -0.094564  0.010070   \n\n                           14 period STOCH %K           MFV  14 period ATR  \\\nDatetime                                                                     \n2020-02-05 04:00:00-05:00                 NaN  0.000000e+00            NaN   \n2020-02-05 05:00:00-05:00                 NaN  0.000000e+00            NaN   \n2020-02-05 06:00:00-05:00                 NaN  0.000000e+00            NaN   \n2020-02-05 07:00:00-05:00                 NaN  0.000000e+00            NaN   \n2020-02-05 08:00:00-05:00                 NaN  0.000000e+00            NaN   \n...                                       ...           ...            ...   \n2021-02-04 12:30:00-05:00           49.666169  7.090101e+09       1.325801   \n2021-02-04 13:30:00-05:00           26.193462  7.089094e+09       1.316509   \n2021-02-04 14:30:00-05:00           37.194063  7.089990e+09       1.331065   \n2021-02-04 15:30:00-05:00           58.351784  7.092026e+09       1.389115   \n2021-02-04 16:00:00-05:00           21.200511  7.091966e+09       2.076615   \n\n                                MOM  14 period MFI       ROC  20 period CCI  \\\nDatetime                                                                      \n2020-02-05 04:00:00-05:00       NaN            NaN       NaN            NaN   \n2020-02-05 05:00:00-05:00       NaN            NaN       NaN      66.666667   \n2020-02-05 06:00:00-05:00       NaN            NaN       NaN      19.138756   \n2020-02-05 07:00:00-05:00       NaN            NaN       NaN      -2.364066   \n2020-02-05 08:00:00-05:00       NaN            NaN       NaN      60.083874   \n...                             ...            ...       ...            ...   \n2021-02-04 12:30:00-05:00 -0.749989      11.489170 -0.221119     -83.343200   \n2021-02-04 13:30:00-05:00 -1.743914      11.883501 -0.683114    -121.480073   \n2021-02-04 14:30:00-05:00 -0.819987       9.553178 -0.490668    -109.288486   \n2021-02-04 15:30:00-05:00 -0.430005      20.495267 -0.112395     -43.865056   \n2021-02-04 16:00:00-05:00 -0.970000      27.616127  0.000000     222.911445   \n\n                                VIm       VIp     ema50     ema21     ema15  \\\nDatetime                                                                      \n2020-02-05 04:00:00-05:00       NaN       NaN  1.000000  1.000000  1.000000   \n2020-02-05 05:00:00-05:00       NaN       NaN  1.000630  1.000621  1.000617   \n2020-02-05 06:00:00-05:00       NaN       NaN  1.000105  1.000098  1.000094   \n2020-02-05 07:00:00-05:00       NaN       NaN  1.000253  1.000244  1.000240   \n2020-02-05 08:00:00-05:00       NaN       NaN  1.001730  1.001699  1.001682   \n...                             ...       ...       ...       ...       ...   \n2021-02-04 12:30:00-05:00  1.089967  0.917840  0.997840  0.999883  0.999509   \n2021-02-04 13:30:00-05:00  1.083560  0.923499  0.994009  0.996110  0.995813   \n2021-02-04 14:30:00-05:00  1.067411  0.921653  0.995941  0.998057  0.997804   \n2021-02-04 15:30:00-05:00  1.025710  0.932501  0.999512  1.001552  1.001292   \n2021-02-04 16:00:00-05:00  0.704361  0.964571  0.999044  1.001015  1.000756   \n\n                               ema5   normVol  \nDatetime                                       \n2020-02-05 04:00:00-05:00  1.000000       NaN  \n2020-02-05 05:00:00-05:00  1.000578       NaN  \n2020-02-05 06:00:00-05:00  1.000065       NaN  \n2020-02-05 07:00:00-05:00  1.000204       NaN  \n2020-02-05 08:00:00-05:00  1.001540       NaN  \n...                             ...       ...  \n2021-02-04 12:30:00-05:00  0.999414  1.024798  \n2021-02-04 13:30:00-05:00  0.996212  0.937089  \n2021-02-04 14:30:00-05:00  0.998389  1.794404  \n2021-02-04 15:30:00-05:00  1.001632  1.204844  \n2021-02-04 16:00:00-05:00  1.000953  0.973690  \n\n[4142 rows x 18 columns]",
      "text/html": "<div>\n<style scoped>\n    .dataframe tbody tr th:only-of-type {\n        vertical-align: middle;\n    }\n\n    .dataframe tbody tr th {\n        vertical-align: top;\n    }\n\n    .dataframe thead th {\n        text-align: right;\n    }\n</style>\n<table border=\"1\" class=\"dataframe\">\n  <thead>\n    <tr style=\"text-align: right;\">\n      <th></th>\n      <th>close</th>\n      <th>14 period RSI</th>\n      <th>MACD</th>\n      <th>SIGNAL</th>\n      <th>14 period STOCH %K</th>\n      <th>MFV</th>\n      <th>14 period ATR</th>\n      <th>MOM</th>\n      <th>14 period MFI</th>\n      <th>ROC</th>\n      <th>20 period CCI</th>\n      <th>VIm</th>\n      <th>VIp</th>\n      <th>ema50</th>\n      <th>ema21</th>\n      <th>ema15</th>\n      <th>ema5</th>\n      <th>normVol</th>\n    </tr>\n    <tr>\n      <th>Datetime</th>\n      <th></th>\n      <th></th>\n      <th></th>\n      <th></th>\n      <th></th>\n      <th></th>\n      <th></th>\n      <th></th>\n      <th></th>\n      <th></th>\n      <th></th>\n      <th></th>\n      <th></th>\n      <th></th>\n      <th></th>\n      <th></th>\n      <th></th>\n      <th></th>\n    </tr>\n  </thead>\n  <tbody>\n    <tr>\n      <th>2020-02-05 04:00:00-05:00</th>\n      <td>212.030000</td>\n      <td>NaN</td>\n      <td>0.000000</td>\n      <td>0.000000</td>\n      <td>NaN</td>\n      <td>0.000000e+00</td>\n      <td>NaN</td>\n      <td>NaN</td>\n      <td>NaN</td>\n      <td>NaN</td>\n      <td>NaN</td>\n      <td>NaN</td>\n      <td>NaN</td>\n      <td>1.000000</td>\n      <td>1.000000</td>\n      <td>1.000000</td>\n      <td>1.000000</td>\n      <td>NaN</td>\n    </tr>\n    <tr>\n      <th>2020-02-05 05:00:00-05:00</th>\n      <td>212.300000</td>\n      <td>100.000000</td>\n      <td>0.006058</td>\n      <td>0.003365</td>\n      <td>NaN</td>\n      <td>0.000000e+00</td>\n      <td>NaN</td>\n      <td>NaN</td>\n      <td>NaN</td>\n      <td>NaN</td>\n      <td>66.666667</td>\n      <td>NaN</td>\n      <td>NaN</td>\n      <td>1.000630</td>\n      <td>1.000621</td>\n      <td>1.000617</td>\n      <td>1.000578</td>\n      <td>NaN</td>\n    </tr>\n    <tr>\n      <th>2020-02-05 06:00:00-05:00</th>\n      <td>212.200000</td>\n      <td>71.486762</td>\n      <td>0.004618</td>\n      <td>0.003879</td>\n      <td>NaN</td>\n      <td>0.000000e+00</td>\n      <td>NaN</td>\n      <td>NaN</td>\n      <td>NaN</td>\n      <td>NaN</td>\n      <td>19.138756</td>\n      <td>NaN</td>\n      <td>NaN</td>\n      <td>1.000105</td>\n      <td>1.000098</td>\n      <td>1.000094</td>\n      <td>1.000065</td>\n      <td>NaN</td>\n    </tr>\n    <tr>\n      <th>2020-02-05 07:00:00-05:00</th>\n      <td>212.250000</td>\n      <td>75.281814</td>\n      <td>0.005655</td>\n      <td>0.004480</td>\n      <td>NaN</td>\n      <td>0.000000e+00</td>\n      <td>NaN</td>\n      <td>NaN</td>\n      <td>NaN</td>\n      <td>NaN</td>\n      <td>-2.364066</td>\n      <td>NaN</td>\n      <td>NaN</td>\n      <td>1.000253</td>\n      <td>1.000244</td>\n      <td>1.000240</td>\n      <td>1.000204</td>\n      <td>NaN</td>\n    </tr>\n    <tr>\n      <th>2020-02-05 08:00:00-05:00</th>\n      <td>212.660000</td>\n      <td>88.637182</td>\n      <td>0.022414</td>\n      <td>0.009815</td>\n      <td>NaN</td>\n      <td>0.000000e+00</td>\n      <td>NaN</td>\n      <td>NaN</td>\n      <td>NaN</td>\n      <td>NaN</td>\n      <td>60.083874</td>\n      <td>NaN</td>\n      <td>NaN</td>\n      <td>1.001730</td>\n      <td>1.001699</td>\n      <td>1.001682</td>\n      <td>1.001540</td>\n      <td>NaN</td>\n    </tr>\n    <tr>\n      <th>...</th>\n      <td>...</td>\n      <td>...</td>\n      <td>...</td>\n      <td>...</td>\n      <td>...</td>\n      <td>...</td>\n      <td>...</td>\n      <td>...</td>\n      <td>...</td>\n      <td>...</td>\n      <td>...</td>\n      <td>...</td>\n      <td>...</td>\n      <td>...</td>\n      <td>...</td>\n      <td>...</td>\n      <td>...</td>\n      <td>...</td>\n    </tr>\n    <tr>\n      <th>2021-02-04 12:30:00-05:00</th>\n      <td>266.230011</td>\n      <td>48.812125</td>\n      <td>-0.046570</td>\n      <td>0.210663</td>\n      <td>49.666169</td>\n      <td>7.090101e+09</td>\n      <td>1.325801</td>\n      <td>-0.749989</td>\n      <td>11.489170</td>\n      <td>-0.221119</td>\n      <td>-83.343200</td>\n      <td>1.089967</td>\n      <td>0.917840</td>\n      <td>0.997840</td>\n      <td>0.999883</td>\n      <td>0.999509</td>\n      <td>0.999414</td>\n      <td>1.024798</td>\n    </tr>\n    <tr>\n      <th>2021-02-04 13:30:00-05:00</th>\n      <td>265.176086</td>\n      <td>43.900248</td>\n      <td>-0.142515</td>\n      <td>0.140028</td>\n      <td>26.193462</td>\n      <td>7.089094e+09</td>\n      <td>1.316509</td>\n      <td>-1.743914</td>\n      <td>11.883501</td>\n      <td>-0.683114</td>\n      <td>-121.480073</td>\n      <td>1.083560</td>\n      <td>0.923499</td>\n      <td>0.994009</td>\n      <td>0.996110</td>\n      <td>0.995813</td>\n      <td>0.996212</td>\n      <td>0.937089</td>\n    </tr>\n    <tr>\n      <th>2021-02-04 14:30:00-05:00</th>\n      <td>265.670013</td>\n      <td>46.611711</td>\n      <td>-0.176660</td>\n      <td>0.076690</td>\n      <td>37.194063</td>\n      <td>7.089990e+09</td>\n      <td>1.331065</td>\n      <td>-0.819987</td>\n      <td>9.553178</td>\n      <td>-0.490668</td>\n      <td>-109.288486</td>\n      <td>1.067411</td>\n      <td>0.921653</td>\n      <td>0.995941</td>\n      <td>0.998057</td>\n      <td>0.997804</td>\n      <td>0.998389</td>\n      <td>1.794404</td>\n    </tr>\n    <tr>\n      <th>2021-02-04 15:30:00-05:00</th>\n      <td>266.619995</td>\n      <td>51.470070</td>\n      <td>-0.125616</td>\n      <td>0.036229</td>\n      <td>58.351784</td>\n      <td>7.092026e+09</td>\n      <td>1.389115</td>\n      <td>-0.430005</td>\n      <td>20.495267</td>\n      <td>-0.112395</td>\n      <td>-43.865056</td>\n      <td>1.025710</td>\n      <td>0.932501</td>\n      <td>0.999512</td>\n      <td>1.001552</td>\n      <td>1.001292</td>\n      <td>1.001632</td>\n      <td>1.204844</td>\n    </tr>\n    <tr>\n      <th>2021-02-04 16:00:00-05:00</th>\n      <td>266.490000</td>\n      <td>50.788973</td>\n      <td>-0.094564</td>\n      <td>0.010070</td>\n      <td>21.200511</td>\n      <td>7.091966e+09</td>\n      <td>2.076615</td>\n      <td>-0.970000</td>\n      <td>27.616127</td>\n      <td>0.000000</td>\n      <td>222.911445</td>\n      <td>0.704361</td>\n      <td>0.964571</td>\n      <td>0.999044</td>\n      <td>1.001015</td>\n      <td>1.000756</td>\n      <td>1.000953</td>\n      <td>0.973690</td>\n    </tr>\n  </tbody>\n</table>\n<p>4142 rows × 18 columns</p>\n</div>"
     },
     "execution_count": 149,
     "metadata": {},
     "output_type": "execute_result"
    }
   ],
   "source": [
    "data"
   ],
   "metadata": {
    "collapsed": false,
    "pycharm": {
     "name": "#%%\n"
    }
   }
  },
  {
   "cell_type": "code",
   "execution_count": 150,
   "outputs": [
    {
     "data": {
      "text/plain": "Index(['close', '14 period RSI', 'MACD', 'SIGNAL', '14 period STOCH %K', 'MFV',\n       '14 period ATR', 'MOM', '14 period MFI', 'ROC', '20 period CCI', 'VIm',\n       'VIp', 'ema50', 'ema21', 'ema15', 'ema5', 'normVol'],\n      dtype='object')"
     },
     "execution_count": 150,
     "metadata": {},
     "output_type": "execute_result"
    }
   ],
   "source": [
    "data.columns"
   ],
   "metadata": {
    "collapsed": false,
    "pycharm": {
     "name": "#%%\n"
    }
   }
  },
  {
   "cell_type": "code",
   "execution_count": 151,
   "outputs": [],
   "source": [
    "def create_class_column(row):\n",
    "    if row['close_shift']-row['close'] > 0.35:\n",
    "        return 1\n",
    "    if row['close_shift'] -row['close']< -0.35:\n",
    "        return -1\n",
    "    else:\n",
    "        return 0"
   ],
   "metadata": {
    "collapsed": false,
    "pycharm": {
     "name": "#%%\n"
    }
   }
  },
  {
   "cell_type": "code",
   "execution_count": 152,
   "outputs": [
    {
     "data": {
      "text/plain": "                                close  14 period RSI      MACD    SIGNAL  \\\nDatetime                                                                   \n2020-02-05 04:00:00-05:00  212.030000            NaN  0.000000  0.000000   \n2020-02-05 05:00:00-05:00  212.300000     100.000000  0.006058  0.003365   \n2020-02-05 06:00:00-05:00  212.200000      71.486762  0.004618  0.003879   \n2020-02-05 07:00:00-05:00  212.250000      75.281814  0.005655  0.004480   \n2020-02-05 08:00:00-05:00  212.660000      88.637182  0.022414  0.009815   \n...                               ...            ...       ...       ...   \n2021-02-04 12:30:00-05:00  266.230011      48.812125 -0.046570  0.210663   \n2021-02-04 13:30:00-05:00  265.176086      43.900248 -0.142515  0.140028   \n2021-02-04 14:30:00-05:00  265.670013      46.611711 -0.176660  0.076690   \n2021-02-04 15:30:00-05:00  266.619995      51.470070 -0.125616  0.036229   \n2021-02-04 16:00:00-05:00  266.490000      50.788973 -0.094564  0.010070   \n\n                           14 period STOCH %K           MFV  14 period ATR  \\\nDatetime                                                                     \n2020-02-05 04:00:00-05:00                 NaN  0.000000e+00            NaN   \n2020-02-05 05:00:00-05:00                 NaN  0.000000e+00            NaN   \n2020-02-05 06:00:00-05:00                 NaN  0.000000e+00            NaN   \n2020-02-05 07:00:00-05:00                 NaN  0.000000e+00            NaN   \n2020-02-05 08:00:00-05:00                 NaN  0.000000e+00            NaN   \n...                                       ...           ...            ...   \n2021-02-04 12:30:00-05:00           49.666169  7.090101e+09       1.325801   \n2021-02-04 13:30:00-05:00           26.193462  7.089094e+09       1.316509   \n2021-02-04 14:30:00-05:00           37.194063  7.089990e+09       1.331065   \n2021-02-04 15:30:00-05:00           58.351784  7.092026e+09       1.389115   \n2021-02-04 16:00:00-05:00           21.200511  7.091966e+09       2.076615   \n\n                                MOM  14 period MFI       ROC  20 period CCI  \\\nDatetime                                                                      \n2020-02-05 04:00:00-05:00       NaN            NaN       NaN            NaN   \n2020-02-05 05:00:00-05:00       NaN            NaN       NaN      66.666667   \n2020-02-05 06:00:00-05:00       NaN            NaN       NaN      19.138756   \n2020-02-05 07:00:00-05:00       NaN            NaN       NaN      -2.364066   \n2020-02-05 08:00:00-05:00       NaN            NaN       NaN      60.083874   \n...                             ...            ...       ...            ...   \n2021-02-04 12:30:00-05:00 -0.749989      11.489170 -0.221119     -83.343200   \n2021-02-04 13:30:00-05:00 -1.743914      11.883501 -0.683114    -121.480073   \n2021-02-04 14:30:00-05:00 -0.819987       9.553178 -0.490668    -109.288486   \n2021-02-04 15:30:00-05:00 -0.430005      20.495267 -0.112395     -43.865056   \n2021-02-04 16:00:00-05:00 -0.970000      27.616127  0.000000     222.911445   \n\n                                VIm       VIp     ema50     ema21     ema15  \\\nDatetime                                                                      \n2020-02-05 04:00:00-05:00       NaN       NaN  1.000000  1.000000  1.000000   \n2020-02-05 05:00:00-05:00       NaN       NaN  1.000630  1.000621  1.000617   \n2020-02-05 06:00:00-05:00       NaN       NaN  1.000105  1.000098  1.000094   \n2020-02-05 07:00:00-05:00       NaN       NaN  1.000253  1.000244  1.000240   \n2020-02-05 08:00:00-05:00       NaN       NaN  1.001730  1.001699  1.001682   \n...                             ...       ...       ...       ...       ...   \n2021-02-04 12:30:00-05:00  1.089967  0.917840  0.997840  0.999883  0.999509   \n2021-02-04 13:30:00-05:00  1.083560  0.923499  0.994009  0.996110  0.995813   \n2021-02-04 14:30:00-05:00  1.067411  0.921653  0.995941  0.998057  0.997804   \n2021-02-04 15:30:00-05:00  1.025710  0.932501  0.999512  1.001552  1.001292   \n2021-02-04 16:00:00-05:00  0.704361  0.964571  0.999044  1.001015  1.000756   \n\n                               ema5   normVol  close_shift  \nDatetime                                                    \n2020-02-05 04:00:00-05:00  1.000000       NaN   212.300000  \n2020-02-05 05:00:00-05:00  1.000578       NaN   212.200000  \n2020-02-05 06:00:00-05:00  1.000065       NaN   212.250000  \n2020-02-05 07:00:00-05:00  1.000204       NaN   212.660000  \n2020-02-05 08:00:00-05:00  1.001540       NaN   212.480000  \n...                             ...       ...          ...  \n2021-02-04 12:30:00-05:00  0.999414  1.024798   265.176086  \n2021-02-04 13:30:00-05:00  0.996212  0.937089   265.670013  \n2021-02-04 14:30:00-05:00  0.998389  1.794404   266.619995  \n2021-02-04 15:30:00-05:00  1.001632  1.204844   266.490000  \n2021-02-04 16:00:00-05:00  1.000953  0.973690          NaN  \n\n[4142 rows x 19 columns]",
      "text/html": "<div>\n<style scoped>\n    .dataframe tbody tr th:only-of-type {\n        vertical-align: middle;\n    }\n\n    .dataframe tbody tr th {\n        vertical-align: top;\n    }\n\n    .dataframe thead th {\n        text-align: right;\n    }\n</style>\n<table border=\"1\" class=\"dataframe\">\n  <thead>\n    <tr style=\"text-align: right;\">\n      <th></th>\n      <th>close</th>\n      <th>14 period RSI</th>\n      <th>MACD</th>\n      <th>SIGNAL</th>\n      <th>14 period STOCH %K</th>\n      <th>MFV</th>\n      <th>14 period ATR</th>\n      <th>MOM</th>\n      <th>14 period MFI</th>\n      <th>ROC</th>\n      <th>20 period CCI</th>\n      <th>VIm</th>\n      <th>VIp</th>\n      <th>ema50</th>\n      <th>ema21</th>\n      <th>ema15</th>\n      <th>ema5</th>\n      <th>normVol</th>\n      <th>close_shift</th>\n    </tr>\n    <tr>\n      <th>Datetime</th>\n      <th></th>\n      <th></th>\n      <th></th>\n      <th></th>\n      <th></th>\n      <th></th>\n      <th></th>\n      <th></th>\n      <th></th>\n      <th></th>\n      <th></th>\n      <th></th>\n      <th></th>\n      <th></th>\n      <th></th>\n      <th></th>\n      <th></th>\n      <th></th>\n      <th></th>\n    </tr>\n  </thead>\n  <tbody>\n    <tr>\n      <th>2020-02-05 04:00:00-05:00</th>\n      <td>212.030000</td>\n      <td>NaN</td>\n      <td>0.000000</td>\n      <td>0.000000</td>\n      <td>NaN</td>\n      <td>0.000000e+00</td>\n      <td>NaN</td>\n      <td>NaN</td>\n      <td>NaN</td>\n      <td>NaN</td>\n      <td>NaN</td>\n      <td>NaN</td>\n      <td>NaN</td>\n      <td>1.000000</td>\n      <td>1.000000</td>\n      <td>1.000000</td>\n      <td>1.000000</td>\n      <td>NaN</td>\n      <td>212.300000</td>\n    </tr>\n    <tr>\n      <th>2020-02-05 05:00:00-05:00</th>\n      <td>212.300000</td>\n      <td>100.000000</td>\n      <td>0.006058</td>\n      <td>0.003365</td>\n      <td>NaN</td>\n      <td>0.000000e+00</td>\n      <td>NaN</td>\n      <td>NaN</td>\n      <td>NaN</td>\n      <td>NaN</td>\n      <td>66.666667</td>\n      <td>NaN</td>\n      <td>NaN</td>\n      <td>1.000630</td>\n      <td>1.000621</td>\n      <td>1.000617</td>\n      <td>1.000578</td>\n      <td>NaN</td>\n      <td>212.200000</td>\n    </tr>\n    <tr>\n      <th>2020-02-05 06:00:00-05:00</th>\n      <td>212.200000</td>\n      <td>71.486762</td>\n      <td>0.004618</td>\n      <td>0.003879</td>\n      <td>NaN</td>\n      <td>0.000000e+00</td>\n      <td>NaN</td>\n      <td>NaN</td>\n      <td>NaN</td>\n      <td>NaN</td>\n      <td>19.138756</td>\n      <td>NaN</td>\n      <td>NaN</td>\n      <td>1.000105</td>\n      <td>1.000098</td>\n      <td>1.000094</td>\n      <td>1.000065</td>\n      <td>NaN</td>\n      <td>212.250000</td>\n    </tr>\n    <tr>\n      <th>2020-02-05 07:00:00-05:00</th>\n      <td>212.250000</td>\n      <td>75.281814</td>\n      <td>0.005655</td>\n      <td>0.004480</td>\n      <td>NaN</td>\n      <td>0.000000e+00</td>\n      <td>NaN</td>\n      <td>NaN</td>\n      <td>NaN</td>\n      <td>NaN</td>\n      <td>-2.364066</td>\n      <td>NaN</td>\n      <td>NaN</td>\n      <td>1.000253</td>\n      <td>1.000244</td>\n      <td>1.000240</td>\n      <td>1.000204</td>\n      <td>NaN</td>\n      <td>212.660000</td>\n    </tr>\n    <tr>\n      <th>2020-02-05 08:00:00-05:00</th>\n      <td>212.660000</td>\n      <td>88.637182</td>\n      <td>0.022414</td>\n      <td>0.009815</td>\n      <td>NaN</td>\n      <td>0.000000e+00</td>\n      <td>NaN</td>\n      <td>NaN</td>\n      <td>NaN</td>\n      <td>NaN</td>\n      <td>60.083874</td>\n      <td>NaN</td>\n      <td>NaN</td>\n      <td>1.001730</td>\n      <td>1.001699</td>\n      <td>1.001682</td>\n      <td>1.001540</td>\n      <td>NaN</td>\n      <td>212.480000</td>\n    </tr>\n    <tr>\n      <th>...</th>\n      <td>...</td>\n      <td>...</td>\n      <td>...</td>\n      <td>...</td>\n      <td>...</td>\n      <td>...</td>\n      <td>...</td>\n      <td>...</td>\n      <td>...</td>\n      <td>...</td>\n      <td>...</td>\n      <td>...</td>\n      <td>...</td>\n      <td>...</td>\n      <td>...</td>\n      <td>...</td>\n      <td>...</td>\n      <td>...</td>\n      <td>...</td>\n    </tr>\n    <tr>\n      <th>2021-02-04 12:30:00-05:00</th>\n      <td>266.230011</td>\n      <td>48.812125</td>\n      <td>-0.046570</td>\n      <td>0.210663</td>\n      <td>49.666169</td>\n      <td>7.090101e+09</td>\n      <td>1.325801</td>\n      <td>-0.749989</td>\n      <td>11.489170</td>\n      <td>-0.221119</td>\n      <td>-83.343200</td>\n      <td>1.089967</td>\n      <td>0.917840</td>\n      <td>0.997840</td>\n      <td>0.999883</td>\n      <td>0.999509</td>\n      <td>0.999414</td>\n      <td>1.024798</td>\n      <td>265.176086</td>\n    </tr>\n    <tr>\n      <th>2021-02-04 13:30:00-05:00</th>\n      <td>265.176086</td>\n      <td>43.900248</td>\n      <td>-0.142515</td>\n      <td>0.140028</td>\n      <td>26.193462</td>\n      <td>7.089094e+09</td>\n      <td>1.316509</td>\n      <td>-1.743914</td>\n      <td>11.883501</td>\n      <td>-0.683114</td>\n      <td>-121.480073</td>\n      <td>1.083560</td>\n      <td>0.923499</td>\n      <td>0.994009</td>\n      <td>0.996110</td>\n      <td>0.995813</td>\n      <td>0.996212</td>\n      <td>0.937089</td>\n      <td>265.670013</td>\n    </tr>\n    <tr>\n      <th>2021-02-04 14:30:00-05:00</th>\n      <td>265.670013</td>\n      <td>46.611711</td>\n      <td>-0.176660</td>\n      <td>0.076690</td>\n      <td>37.194063</td>\n      <td>7.089990e+09</td>\n      <td>1.331065</td>\n      <td>-0.819987</td>\n      <td>9.553178</td>\n      <td>-0.490668</td>\n      <td>-109.288486</td>\n      <td>1.067411</td>\n      <td>0.921653</td>\n      <td>0.995941</td>\n      <td>0.998057</td>\n      <td>0.997804</td>\n      <td>0.998389</td>\n      <td>1.794404</td>\n      <td>266.619995</td>\n    </tr>\n    <tr>\n      <th>2021-02-04 15:30:00-05:00</th>\n      <td>266.619995</td>\n      <td>51.470070</td>\n      <td>-0.125616</td>\n      <td>0.036229</td>\n      <td>58.351784</td>\n      <td>7.092026e+09</td>\n      <td>1.389115</td>\n      <td>-0.430005</td>\n      <td>20.495267</td>\n      <td>-0.112395</td>\n      <td>-43.865056</td>\n      <td>1.025710</td>\n      <td>0.932501</td>\n      <td>0.999512</td>\n      <td>1.001552</td>\n      <td>1.001292</td>\n      <td>1.001632</td>\n      <td>1.204844</td>\n      <td>266.490000</td>\n    </tr>\n    <tr>\n      <th>2021-02-04 16:00:00-05:00</th>\n      <td>266.490000</td>\n      <td>50.788973</td>\n      <td>-0.094564</td>\n      <td>0.010070</td>\n      <td>21.200511</td>\n      <td>7.091966e+09</td>\n      <td>2.076615</td>\n      <td>-0.970000</td>\n      <td>27.616127</td>\n      <td>0.000000</td>\n      <td>222.911445</td>\n      <td>0.704361</td>\n      <td>0.964571</td>\n      <td>0.999044</td>\n      <td>1.001015</td>\n      <td>1.000756</td>\n      <td>1.000953</td>\n      <td>0.973690</td>\n      <td>NaN</td>\n    </tr>\n  </tbody>\n</table>\n<p>4142 rows × 19 columns</p>\n</div>"
     },
     "execution_count": 152,
     "metadata": {},
     "output_type": "execute_result"
    }
   ],
   "source": [
    "data['close_shift'] = data.shift(-WINDOW)['close']\n",
    "data"
   ],
   "metadata": {
    "collapsed": false,
    "pycharm": {
     "name": "#%%\n"
    }
   }
  },
  {
   "cell_type": "code",
   "execution_count": 153,
   "outputs": [
    {
     "data": {
      "text/plain": "                                close  14 period RSI      MACD    SIGNAL  \\\nDatetime                                                                   \n2020-02-05 04:00:00-05:00  212.030000            NaN  0.000000  0.000000   \n2020-02-05 05:00:00-05:00  212.300000     100.000000  0.006058  0.003365   \n2020-02-05 06:00:00-05:00  212.200000      71.486762  0.004618  0.003879   \n2020-02-05 07:00:00-05:00  212.250000      75.281814  0.005655  0.004480   \n2020-02-05 08:00:00-05:00  212.660000      88.637182  0.022414  0.009815   \n...                               ...            ...       ...       ...   \n2021-02-04 12:30:00-05:00  266.230011      48.812125 -0.046570  0.210663   \n2021-02-04 13:30:00-05:00  265.176086      43.900248 -0.142515  0.140028   \n2021-02-04 14:30:00-05:00  265.670013      46.611711 -0.176660  0.076690   \n2021-02-04 15:30:00-05:00  266.619995      51.470070 -0.125616  0.036229   \n2021-02-04 16:00:00-05:00  266.490000      50.788973 -0.094564  0.010070   \n\n                           14 period STOCH %K           MFV  14 period ATR  \\\nDatetime                                                                     \n2020-02-05 04:00:00-05:00                 NaN  0.000000e+00            NaN   \n2020-02-05 05:00:00-05:00                 NaN  0.000000e+00            NaN   \n2020-02-05 06:00:00-05:00                 NaN  0.000000e+00            NaN   \n2020-02-05 07:00:00-05:00                 NaN  0.000000e+00            NaN   \n2020-02-05 08:00:00-05:00                 NaN  0.000000e+00            NaN   \n...                                       ...           ...            ...   \n2021-02-04 12:30:00-05:00           49.666169  7.090101e+09       1.325801   \n2021-02-04 13:30:00-05:00           26.193462  7.089094e+09       1.316509   \n2021-02-04 14:30:00-05:00           37.194063  7.089990e+09       1.331065   \n2021-02-04 15:30:00-05:00           58.351784  7.092026e+09       1.389115   \n2021-02-04 16:00:00-05:00           21.200511  7.091966e+09       2.076615   \n\n                                MOM  14 period MFI       ROC  20 period CCI  \\\nDatetime                                                                      \n2020-02-05 04:00:00-05:00       NaN            NaN       NaN            NaN   \n2020-02-05 05:00:00-05:00       NaN            NaN       NaN      66.666667   \n2020-02-05 06:00:00-05:00       NaN            NaN       NaN      19.138756   \n2020-02-05 07:00:00-05:00       NaN            NaN       NaN      -2.364066   \n2020-02-05 08:00:00-05:00       NaN            NaN       NaN      60.083874   \n...                             ...            ...       ...            ...   \n2021-02-04 12:30:00-05:00 -0.749989      11.489170 -0.221119     -83.343200   \n2021-02-04 13:30:00-05:00 -1.743914      11.883501 -0.683114    -121.480073   \n2021-02-04 14:30:00-05:00 -0.819987       9.553178 -0.490668    -109.288486   \n2021-02-04 15:30:00-05:00 -0.430005      20.495267 -0.112395     -43.865056   \n2021-02-04 16:00:00-05:00 -0.970000      27.616127  0.000000     222.911445   \n\n                                VIm       VIp     ema50     ema21     ema15  \\\nDatetime                                                                      \n2020-02-05 04:00:00-05:00       NaN       NaN  1.000000  1.000000  1.000000   \n2020-02-05 05:00:00-05:00       NaN       NaN  1.000630  1.000621  1.000617   \n2020-02-05 06:00:00-05:00       NaN       NaN  1.000105  1.000098  1.000094   \n2020-02-05 07:00:00-05:00       NaN       NaN  1.000253  1.000244  1.000240   \n2020-02-05 08:00:00-05:00       NaN       NaN  1.001730  1.001699  1.001682   \n...                             ...       ...       ...       ...       ...   \n2021-02-04 12:30:00-05:00  1.089967  0.917840  0.997840  0.999883  0.999509   \n2021-02-04 13:30:00-05:00  1.083560  0.923499  0.994009  0.996110  0.995813   \n2021-02-04 14:30:00-05:00  1.067411  0.921653  0.995941  0.998057  0.997804   \n2021-02-04 15:30:00-05:00  1.025710  0.932501  0.999512  1.001552  1.001292   \n2021-02-04 16:00:00-05:00  0.704361  0.964571  0.999044  1.001015  1.000756   \n\n                               ema5   normVol  close_shift  class_column  \nDatetime                                                                  \n2020-02-05 04:00:00-05:00  1.000000       NaN   212.300000             0  \n2020-02-05 05:00:00-05:00  1.000578       NaN   212.200000             0  \n2020-02-05 06:00:00-05:00  1.000065       NaN   212.250000             0  \n2020-02-05 07:00:00-05:00  1.000204       NaN   212.660000             1  \n2020-02-05 08:00:00-05:00  1.001540       NaN   212.480000             0  \n...                             ...       ...          ...           ...  \n2021-02-04 12:30:00-05:00  0.999414  1.024798   265.176086            -1  \n2021-02-04 13:30:00-05:00  0.996212  0.937089   265.670013             1  \n2021-02-04 14:30:00-05:00  0.998389  1.794404   266.619995             1  \n2021-02-04 15:30:00-05:00  1.001632  1.204844   266.490000             0  \n2021-02-04 16:00:00-05:00  1.000953  0.973690          NaN             0  \n\n[4142 rows x 20 columns]",
      "text/html": "<div>\n<style scoped>\n    .dataframe tbody tr th:only-of-type {\n        vertical-align: middle;\n    }\n\n    .dataframe tbody tr th {\n        vertical-align: top;\n    }\n\n    .dataframe thead th {\n        text-align: right;\n    }\n</style>\n<table border=\"1\" class=\"dataframe\">\n  <thead>\n    <tr style=\"text-align: right;\">\n      <th></th>\n      <th>close</th>\n      <th>14 period RSI</th>\n      <th>MACD</th>\n      <th>SIGNAL</th>\n      <th>14 period STOCH %K</th>\n      <th>MFV</th>\n      <th>14 period ATR</th>\n      <th>MOM</th>\n      <th>14 period MFI</th>\n      <th>ROC</th>\n      <th>20 period CCI</th>\n      <th>VIm</th>\n      <th>VIp</th>\n      <th>ema50</th>\n      <th>ema21</th>\n      <th>ema15</th>\n      <th>ema5</th>\n      <th>normVol</th>\n      <th>close_shift</th>\n      <th>class_column</th>\n    </tr>\n    <tr>\n      <th>Datetime</th>\n      <th></th>\n      <th></th>\n      <th></th>\n      <th></th>\n      <th></th>\n      <th></th>\n      <th></th>\n      <th></th>\n      <th></th>\n      <th></th>\n      <th></th>\n      <th></th>\n      <th></th>\n      <th></th>\n      <th></th>\n      <th></th>\n      <th></th>\n      <th></th>\n      <th></th>\n      <th></th>\n    </tr>\n  </thead>\n  <tbody>\n    <tr>\n      <th>2020-02-05 04:00:00-05:00</th>\n      <td>212.030000</td>\n      <td>NaN</td>\n      <td>0.000000</td>\n      <td>0.000000</td>\n      <td>NaN</td>\n      <td>0.000000e+00</td>\n      <td>NaN</td>\n      <td>NaN</td>\n      <td>NaN</td>\n      <td>NaN</td>\n      <td>NaN</td>\n      <td>NaN</td>\n      <td>NaN</td>\n      <td>1.000000</td>\n      <td>1.000000</td>\n      <td>1.000000</td>\n      <td>1.000000</td>\n      <td>NaN</td>\n      <td>212.300000</td>\n      <td>0</td>\n    </tr>\n    <tr>\n      <th>2020-02-05 05:00:00-05:00</th>\n      <td>212.300000</td>\n      <td>100.000000</td>\n      <td>0.006058</td>\n      <td>0.003365</td>\n      <td>NaN</td>\n      <td>0.000000e+00</td>\n      <td>NaN</td>\n      <td>NaN</td>\n      <td>NaN</td>\n      <td>NaN</td>\n      <td>66.666667</td>\n      <td>NaN</td>\n      <td>NaN</td>\n      <td>1.000630</td>\n      <td>1.000621</td>\n      <td>1.000617</td>\n      <td>1.000578</td>\n      <td>NaN</td>\n      <td>212.200000</td>\n      <td>0</td>\n    </tr>\n    <tr>\n      <th>2020-02-05 06:00:00-05:00</th>\n      <td>212.200000</td>\n      <td>71.486762</td>\n      <td>0.004618</td>\n      <td>0.003879</td>\n      <td>NaN</td>\n      <td>0.000000e+00</td>\n      <td>NaN</td>\n      <td>NaN</td>\n      <td>NaN</td>\n      <td>NaN</td>\n      <td>19.138756</td>\n      <td>NaN</td>\n      <td>NaN</td>\n      <td>1.000105</td>\n      <td>1.000098</td>\n      <td>1.000094</td>\n      <td>1.000065</td>\n      <td>NaN</td>\n      <td>212.250000</td>\n      <td>0</td>\n    </tr>\n    <tr>\n      <th>2020-02-05 07:00:00-05:00</th>\n      <td>212.250000</td>\n      <td>75.281814</td>\n      <td>0.005655</td>\n      <td>0.004480</td>\n      <td>NaN</td>\n      <td>0.000000e+00</td>\n      <td>NaN</td>\n      <td>NaN</td>\n      <td>NaN</td>\n      <td>NaN</td>\n      <td>-2.364066</td>\n      <td>NaN</td>\n      <td>NaN</td>\n      <td>1.000253</td>\n      <td>1.000244</td>\n      <td>1.000240</td>\n      <td>1.000204</td>\n      <td>NaN</td>\n      <td>212.660000</td>\n      <td>1</td>\n    </tr>\n    <tr>\n      <th>2020-02-05 08:00:00-05:00</th>\n      <td>212.660000</td>\n      <td>88.637182</td>\n      <td>0.022414</td>\n      <td>0.009815</td>\n      <td>NaN</td>\n      <td>0.000000e+00</td>\n      <td>NaN</td>\n      <td>NaN</td>\n      <td>NaN</td>\n      <td>NaN</td>\n      <td>60.083874</td>\n      <td>NaN</td>\n      <td>NaN</td>\n      <td>1.001730</td>\n      <td>1.001699</td>\n      <td>1.001682</td>\n      <td>1.001540</td>\n      <td>NaN</td>\n      <td>212.480000</td>\n      <td>0</td>\n    </tr>\n    <tr>\n      <th>...</th>\n      <td>...</td>\n      <td>...</td>\n      <td>...</td>\n      <td>...</td>\n      <td>...</td>\n      <td>...</td>\n      <td>...</td>\n      <td>...</td>\n      <td>...</td>\n      <td>...</td>\n      <td>...</td>\n      <td>...</td>\n      <td>...</td>\n      <td>...</td>\n      <td>...</td>\n      <td>...</td>\n      <td>...</td>\n      <td>...</td>\n      <td>...</td>\n      <td>...</td>\n    </tr>\n    <tr>\n      <th>2021-02-04 12:30:00-05:00</th>\n      <td>266.230011</td>\n      <td>48.812125</td>\n      <td>-0.046570</td>\n      <td>0.210663</td>\n      <td>49.666169</td>\n      <td>7.090101e+09</td>\n      <td>1.325801</td>\n      <td>-0.749989</td>\n      <td>11.489170</td>\n      <td>-0.221119</td>\n      <td>-83.343200</td>\n      <td>1.089967</td>\n      <td>0.917840</td>\n      <td>0.997840</td>\n      <td>0.999883</td>\n      <td>0.999509</td>\n      <td>0.999414</td>\n      <td>1.024798</td>\n      <td>265.176086</td>\n      <td>-1</td>\n    </tr>\n    <tr>\n      <th>2021-02-04 13:30:00-05:00</th>\n      <td>265.176086</td>\n      <td>43.900248</td>\n      <td>-0.142515</td>\n      <td>0.140028</td>\n      <td>26.193462</td>\n      <td>7.089094e+09</td>\n      <td>1.316509</td>\n      <td>-1.743914</td>\n      <td>11.883501</td>\n      <td>-0.683114</td>\n      <td>-121.480073</td>\n      <td>1.083560</td>\n      <td>0.923499</td>\n      <td>0.994009</td>\n      <td>0.996110</td>\n      <td>0.995813</td>\n      <td>0.996212</td>\n      <td>0.937089</td>\n      <td>265.670013</td>\n      <td>1</td>\n    </tr>\n    <tr>\n      <th>2021-02-04 14:30:00-05:00</th>\n      <td>265.670013</td>\n      <td>46.611711</td>\n      <td>-0.176660</td>\n      <td>0.076690</td>\n      <td>37.194063</td>\n      <td>7.089990e+09</td>\n      <td>1.331065</td>\n      <td>-0.819987</td>\n      <td>9.553178</td>\n      <td>-0.490668</td>\n      <td>-109.288486</td>\n      <td>1.067411</td>\n      <td>0.921653</td>\n      <td>0.995941</td>\n      <td>0.998057</td>\n      <td>0.997804</td>\n      <td>0.998389</td>\n      <td>1.794404</td>\n      <td>266.619995</td>\n      <td>1</td>\n    </tr>\n    <tr>\n      <th>2021-02-04 15:30:00-05:00</th>\n      <td>266.619995</td>\n      <td>51.470070</td>\n      <td>-0.125616</td>\n      <td>0.036229</td>\n      <td>58.351784</td>\n      <td>7.092026e+09</td>\n      <td>1.389115</td>\n      <td>-0.430005</td>\n      <td>20.495267</td>\n      <td>-0.112395</td>\n      <td>-43.865056</td>\n      <td>1.025710</td>\n      <td>0.932501</td>\n      <td>0.999512</td>\n      <td>1.001552</td>\n      <td>1.001292</td>\n      <td>1.001632</td>\n      <td>1.204844</td>\n      <td>266.490000</td>\n      <td>0</td>\n    </tr>\n    <tr>\n      <th>2021-02-04 16:00:00-05:00</th>\n      <td>266.490000</td>\n      <td>50.788973</td>\n      <td>-0.094564</td>\n      <td>0.010070</td>\n      <td>21.200511</td>\n      <td>7.091966e+09</td>\n      <td>2.076615</td>\n      <td>-0.970000</td>\n      <td>27.616127</td>\n      <td>0.000000</td>\n      <td>222.911445</td>\n      <td>0.704361</td>\n      <td>0.964571</td>\n      <td>0.999044</td>\n      <td>1.001015</td>\n      <td>1.000756</td>\n      <td>1.000953</td>\n      <td>0.973690</td>\n      <td>NaN</td>\n      <td>0</td>\n    </tr>\n  </tbody>\n</table>\n<p>4142 rows × 20 columns</p>\n</div>"
     },
     "execution_count": 153,
     "metadata": {},
     "output_type": "execute_result"
    }
   ],
   "source": [
    "data['class_column'] = data.apply(create_class_column, axis=1)\n",
    "data"
   ],
   "metadata": {
    "collapsed": false,
    "pycharm": {
     "name": "#%%\n"
    }
   }
  },
  {
   "cell_type": "code",
   "execution_count": 154,
   "outputs": [
    {
     "data": {
      "text/plain": " 1    1421\n 0    1378\n-1    1343\nName: class_column, dtype: int64"
     },
     "execution_count": 154,
     "metadata": {},
     "output_type": "execute_result"
    }
   ],
   "source": [
    "# Class divide\n",
    "data['class_column'].value_counts()"
   ],
   "metadata": {
    "collapsed": false,
    "pycharm": {
     "name": "#%%\n"
    }
   }
  },
  {
   "cell_type": "code",
   "execution_count": 155,
   "outputs": [],
   "source": [
    "del (data['close'])\n",
    "del (data['close_shift'])\n",
    "data = data.dropna()\n",
    "train_set = data.iloc[:-ROWS_TO_PREDICT]\n",
    "test_set =data.iloc[-ROWS_TO_PREDICT:]"
   ],
   "metadata": {
    "collapsed": false,
    "pycharm": {
     "name": "#%%\n"
    }
   }
  },
  {
   "cell_type": "code",
   "execution_count": 156,
   "outputs": [
    {
     "data": {
      "text/plain": " 1    1395\n 0    1340\n-1    1328\nName: class_column, dtype: int64"
     },
     "execution_count": 156,
     "metadata": {},
     "output_type": "execute_result"
    }
   ],
   "source": [
    "data['class_column'].value_counts()"
   ],
   "metadata": {
    "collapsed": false,
    "pycharm": {
     "name": "#%%\n"
    }
   }
  },
  {
   "cell_type": "code",
   "execution_count": 157,
   "outputs": [],
   "source": [
    "y = data['class_column']\n",
    "features = [x for x in data.columns if x not in ['class_column']]\n",
    "x = data[features]\n",
    "\n",
    "x_train= x.iloc[:-ROWS_TO_PREDICT]\n",
    "y_train= y.iloc[:-ROWS_TO_PREDICT]\n",
    "x_test =x.iloc[-ROWS_TO_PREDICT:]\n",
    "y_test=y.iloc[-ROWS_TO_PREDICT:]"
   ],
   "metadata": {
    "collapsed": false,
    "pycharm": {
     "name": "#%%\n"
    }
   }
  },
  {
   "cell_type": "code",
   "execution_count": 158,
   "outputs": [],
   "source": [
    "classifiers = dict()\n",
    "\n",
    "classifiers['DecisionTreeClassifier 1'] = DecisionTreeClassifier(max_depth=10, random_state=0,criterion='gini',splitter='best')\n",
    "classifiers['DecisionTreeClassifier 2'] = DecisionTreeClassifier(max_depth=10, random_state=0,criterion='gini',splitter='random')\n",
    "classifiers['DecisionTreeClassifier 3'] = DecisionTreeClassifier(max_depth=10, random_state=0,criterion='entropy',splitter='best')\n",
    "classifiers['DecisionTreeClassifier 4'] = DecisionTreeClassifier(max_depth=10, random_state=0,criterion='entropy',splitter='random')\n",
    "classifiers['DecisionTreeClassifier 5'] = DecisionTreeClassifier(random_state=0,criterion='gini',splitter='best')\n",
    "classifiers['DecisionTreeClassifier 6'] = DecisionTreeClassifier(random_state=0,criterion='gini',splitter='random')\n",
    "classifiers['DecisionTreeClassifier 7'] = DecisionTreeClassifier(random_state=0,criterion='entropy',splitter='best')\n",
    "classifiers['DecisionTreeClassifier 8'] = DecisionTreeClassifier(random_state=0,criterion='entropy',splitter='random')\n",
    "\n",
    "classifiers['RandomForestClassifier 1'] = RandomForestClassifier(n_estimators=100, max_depth=2, random_state=0,criterion='gini')\n",
    "classifiers['RandomForestClassifier 2'] = RandomForestClassifier(n_estimators=1000, max_depth=2, random_state=0,criterion='gini')\n",
    "classifiers['RandomForestClassifier 3'] = RandomForestClassifier(n_estimators=100, max_depth=3, random_state=0,criterion='gini')\n",
    "classifiers['RandomForestClassifier 4'] = RandomForestClassifier(n_estimators=1000, max_depth=3, random_state=0,criterion='gini')\n",
    "classifiers['RandomForestClassifier 5'] = RandomForestClassifier(n_estimators=100, max_depth=2, random_state=0,criterion='entropy')\n",
    "classifiers['RandomForestClassifier 6'] = RandomForestClassifier(n_estimators=1000, max_depth=2, random_state=0,criterion='entropy')\n",
    "classifiers['RandomForestClassifier 7'] = RandomForestClassifier(n_estimators=100, max_depth=3, random_state=0,criterion='entropy')\n",
    "classifiers['RandomForestClassifier 8'] = RandomForestClassifier(n_estimators=1000, max_depth=3, random_state=0,criterion='entropy')\n",
    "\n",
    "classifiers['GradientBoostingClassifier 1'] = GradientBoostingClassifier(n_estimators=100,random_state=0,criterion='friedman_mse',max_depth=3, learning_rate=0.1)\n",
    "classifiers['GradientBoostingClassifier 2'] = GradientBoostingClassifier(n_estimators=100,random_state=0,criterion='friedman_mse',max_depth=3, learning_rate=0.3)\n",
    "classifiers['GradientBoostingClassifier 3'] = GradientBoostingClassifier(n_estimators=100,random_state=0,criterion='friedman_mse',max_depth=3, learning_rate=0.5)\n",
    "classifiers['GradientBoostingClassifier 4'] = GradientBoostingClassifier(n_estimators=100,random_state=0,criterion='friedman_mse',max_depth=3, learning_rate=1)\n",
    "#\n",
    "classifiers['GradientBoostingClassifier 5'] = GradientBoostingClassifier(n_estimators=1000,random_state=0,criterion='friedman_mse',max_depth=3, learning_rate=0.1)\n",
    "classifiers['GradientBoostingClassifier 6'] = GradientBoostingClassifier(n_estimators=1000,random_state=0,criterion='friedman_mse',max_depth=3, learning_rate=0.3)\n",
    "classifiers['GradientBoostingClassifier 7'] = GradientBoostingClassifier(n_estimators=1000,random_state=0,criterion='friedman_mse',max_depth=3, learning_rate=0.5)\n",
    "classifiers['GradientBoostingClassifier 8'] = GradientBoostingClassifier(n_estimators=1000,random_state=0,criterion='friedman_mse',max_depth=3, learning_rate=1)\n",
    "\n",
    "classifiers['GradientBoostingClassifier 9'] = GradientBoostingClassifier(n_estimators=1000,random_state=0,criterion='friedman_mse',max_depth=2, learning_rate=0.1)\n",
    "classifiers['GradientBoostingClassifier 10'] = GradientBoostingClassifier(n_estimators=1000,random_state=0,criterion='friedman_mse',max_depth=2, learning_rate=0.3)\n",
    "classifiers['GradientBoostingClassifier 11'] = GradientBoostingClassifier(n_estimators=1000,random_state=0,criterion='friedman_mse',max_depth=2, learning_rate=0.5)\n",
    "classifiers['GradientBoostingClassifier 12'] = GradientBoostingClassifier(n_estimators=1000,random_state=0,criterion='friedman_mse',max_depth=2, learning_rate=1)"
   ],
   "metadata": {
    "collapsed": false,
    "pycharm": {
     "name": "#%%\n"
    }
   }
  },
  {
   "cell_type": "code",
   "execution_count": 159,
   "outputs": [],
   "source": [
    "def print_conf_matrix(test_y, predict, name):\n",
    "    matrix = confusion_matrix(test_y, predict,  labels=[-1, 0, 1])\n",
    "    print(matrix)\n",
    "    ax= plt.subplot()\n",
    "    sn.heatmap(matrix, annot=True, ax = ax) #annot=True to annotate cells\n",
    "\n",
    "    # labels, title and ticks\n",
    "    ax.set_xlabel('Predicted labels', color='white')\n",
    "    ax.set_ylabel('True labels', color='white')\n",
    "    ax.set_title(f'Confusion Matrix for {name}' , color='white')\n",
    "    ax.xaxis.set_ticklabels(['-1','0', '1'], color='white')\n",
    "    ax.yaxis.set_ticklabels(['-1','0', '1'], color='white')\n",
    "    plt.show()\n",
    "\n",
    "def train_model(model,train_x, train_y):\n",
    "    model.fit(train_x, train_y)"
   ],
   "metadata": {
    "collapsed": false,
    "pycharm": {
     "name": "#%%\n"
    }
   }
  },
  {
   "cell_type": "code",
   "execution_count": 160,
   "outputs": [
    {
     "name": "stdout",
     "output_type": "stream",
     "text": [
      "Calculate:  DecisionTreeClassifier 1\n",
      "Score:  0.625\n",
      "Calculate:  DecisionTreeClassifier 2\n",
      "Score:  0.5625\n",
      "Calculate:  DecisionTreeClassifier 3\n",
      "Score:  0.4375\n",
      "Calculate:  DecisionTreeClassifier 4\n",
      "Score:  0.3125\n",
      "Calculate:  DecisionTreeClassifier 5\n",
      "Score:  0.625\n",
      "Calculate:  DecisionTreeClassifier 6\n",
      "Score:  0.3125\n",
      "Calculate:  DecisionTreeClassifier 7\n",
      "Score:  0.375\n",
      "Calculate:  DecisionTreeClassifier 8\n",
      "Score:  0.25\n",
      "Calculate:  RandomForestClassifier 1\n",
      "Score:  0.375\n",
      "Calculate:  RandomForestClassifier 2\n",
      "Score:  0.375\n",
      "Calculate:  RandomForestClassifier 3\n",
      "Score:  0.375\n",
      "Calculate:  RandomForestClassifier 4\n",
      "Score:  0.375\n",
      "Calculate:  RandomForestClassifier 5\n",
      "Score:  0.375\n",
      "Calculate:  RandomForestClassifier 6\n",
      "Score:  0.375\n",
      "Calculate:  RandomForestClassifier 7\n",
      "Score:  0.375\n",
      "Calculate:  RandomForestClassifier 8\n",
      "Score:  0.375\n",
      "Calculate:  GradientBoostingClassifier 1\n",
      "Score:  0.375\n",
      "Calculate:  GradientBoostingClassifier 2\n",
      "Score:  0.375\n",
      "Calculate:  GradientBoostingClassifier 3\n",
      "Score:  0.375\n",
      "Calculate:  GradientBoostingClassifier 4\n",
      "Score:  0.3125\n",
      "Calculate:  GradientBoostingClassifier 5\n",
      "Score:  0.4375\n",
      "Calculate:  GradientBoostingClassifier 6\n",
      "Score:  0.5\n",
      "Calculate:  GradientBoostingClassifier 7\n",
      "Score:  0.5\n",
      "Calculate:  GradientBoostingClassifier 8\n",
      "Score:  0.375\n",
      "Calculate:  GradientBoostingClassifier 9\n",
      "Score:  0.375\n",
      "Calculate:  GradientBoostingClassifier 10\n",
      "Score:  0.25\n",
      "Calculate:  GradientBoostingClassifier 11\n",
      "Score:  0.5\n",
      "Calculate:  GradientBoostingClassifier 12\n",
      "Score:  0.5625\n",
      "+----+-------------------------------+------------+\n",
      "|    | Classifier type               |   Accuracy |\n",
      "|----+-------------------------------+------------|\n",
      "|  0 | DecisionTreeClassifier 1      |     0.625  |\n",
      "|  1 | DecisionTreeClassifier 2      |     0.5625 |\n",
      "|  2 | DecisionTreeClassifier 3      |     0.4375 |\n",
      "|  3 | DecisionTreeClassifier 4      |     0.3125 |\n",
      "|  4 | DecisionTreeClassifier 5      |     0.625  |\n",
      "|  5 | DecisionTreeClassifier 6      |     0.3125 |\n",
      "|  6 | DecisionTreeClassifier 7      |     0.375  |\n",
      "|  7 | DecisionTreeClassifier 8      |     0.25   |\n",
      "|  8 | RandomForestClassifier 1      |     0.375  |\n",
      "|  9 | RandomForestClassifier 2      |     0.375  |\n",
      "| 10 | RandomForestClassifier 3      |     0.375  |\n",
      "| 11 | RandomForestClassifier 4      |     0.375  |\n",
      "| 12 | RandomForestClassifier 5      |     0.375  |\n",
      "| 13 | RandomForestClassifier 6      |     0.375  |\n",
      "| 14 | RandomForestClassifier 7      |     0.375  |\n",
      "| 15 | RandomForestClassifier 8      |     0.375  |\n",
      "| 16 | GradientBoostingClassifier 1  |     0.375  |\n",
      "| 17 | GradientBoostingClassifier 2  |     0.375  |\n",
      "| 18 | GradientBoostingClassifier 3  |     0.375  |\n",
      "| 19 | GradientBoostingClassifier 4  |     0.3125 |\n",
      "| 20 | GradientBoostingClassifier 5  |     0.4375 |\n",
      "| 21 | GradientBoostingClassifier 6  |     0.5    |\n",
      "| 22 | GradientBoostingClassifier 7  |     0.5    |\n",
      "| 23 | GradientBoostingClassifier 8  |     0.375  |\n",
      "| 24 | GradientBoostingClassifier 9  |     0.375  |\n",
      "| 25 | GradientBoostingClassifier 10 |     0.25   |\n",
      "| 26 | GradientBoostingClassifier 11 |     0.5    |\n",
      "| 27 | GradientBoostingClassifier 12 |     0.5625 |\n",
      "+----+-------------------------------+------------+\n"
     ]
    }
   ],
   "source": [
    "predictions= dict()\n",
    "score = dict()\n",
    "for k,v in classifiers.items():\n",
    "    print(\"Calculate: \", k)\n",
    "    train_model(v,x_train,y_train)\n",
    "    predictions[k] = v.predict(x_test)\n",
    "    score[k] = accuracy_score(y_test.values, predictions[k])\n",
    "    print('Score: ',  score[k] )\n",
    "    # print_conf_matrix(test_y, predictions[k], k)\n",
    "\n",
    "headers = [\"Classifier type\", \"Accuracy\"]\n",
    "score_df = pd.DataFrame(score.items(), columns=headers)\n",
    "print(tabulate(score_df, headers, tablefmt=\"psql\"))"
   ],
   "metadata": {
    "collapsed": false,
    "pycharm": {
     "name": "#%%\n"
    }
   }
  },
  {
   "cell_type": "code",
   "execution_count": 173,
   "outputs": [
    {
     "name": "stdout",
     "output_type": "stream",
     "text": [
      "Score:  0.6875\n"
     ]
    }
   ],
   "source": [
    "estimators=[\n",
    "            ('GBC12', classifiers['GradientBoostingClassifier 12']),\n",
    "            ('DTC1', classifiers['DecisionTreeClassifier 1']),\n",
    "            ]\n",
    "ensemble = VotingClassifier(estimators, voting='soft')\n",
    "ensemble.fit(x_train, y_train)\n",
    "predicted = ensemble.predict(x_test)\n",
    "score_ensemble = accuracy_score(y_test.values, predicted)\n",
    "print('Score: ',  score_ensemble)"
   ],
   "metadata": {
    "collapsed": false,
    "pycharm": {
     "name": "#%%\n"
    }
   }
  },
  {
   "cell_type": "code",
   "execution_count": 174,
   "outputs": [
    {
     "name": "stdout",
     "output_type": "stream",
     "text": [
      "Score:  0.6875\n"
     ]
    }
   ],
   "source": [
    "print('Score: ',  score_ensemble)"
   ],
   "metadata": {
    "collapsed": false,
    "pycharm": {
     "name": "#%%\n"
    }
   }
  },
  {
   "cell_type": "code",
   "execution_count": null,
   "outputs": [],
   "source": [],
   "metadata": {
    "collapsed": false,
    "pycharm": {
     "name": "#%%\n"
    }
   }
  }
 ],
 "metadata": {
  "kernelspec": {
   "name": "magisterka_analiza",
   "language": "python",
   "display_name": "Python magisterka"
  },
  "language_info": {
   "codemirror_mode": {
    "name": "ipython",
    "version": 2
   },
   "file_extension": ".py",
   "mimetype": "text/x-python",
   "name": "python",
   "nbconvert_exporter": "python",
   "pygments_lexer": "ipython2",
   "version": "2.7.6"
  }
 },
 "nbformat": 4,
 "nbformat_minor": 0
}