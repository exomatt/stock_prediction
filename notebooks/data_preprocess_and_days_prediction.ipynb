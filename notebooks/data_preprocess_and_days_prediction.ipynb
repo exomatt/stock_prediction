{
 "cells": [
  {
   "cell_type": "code",
   "execution_count": 232,
   "outputs": [],
   "source": [
    "import yfinance as yf\n",
    "from datetime import datetime\n",
    "import pandas as pd\n",
    "import numpy as np\n",
    "import matplotlib.pyplot as plt\n",
    "from finta import TA\n",
    "import numpy as np\n",
    "from sklearn.ensemble import RandomForestClassifier\n",
    "from sklearn.model_selection import GridSearchCV, train_test_split\n",
    "from sklearn.tree import DecisionTreeClassifier\n",
    "from sklearn.ensemble import GradientBoostingClassifier\n",
    "from sklearn.metrics import confusion_matrix, classification_report, accuracy_score\n",
    "from sklearn.metrics import jaccard_score\n",
    "import seaborn as sn\n",
    "from tabulate import tabulate\n"
   ],
   "metadata": {
    "collapsed": false,
    "pycharm": {
     "name": "#%%\n"
    }
   }
  },
  {
   "cell_type": "code",
   "execution_count": 233,
   "outputs": [],
   "source": [
    "WINDOW = 1 # number of rows to look ahead to see what the price did\n",
    "FETCH_INTERVAL = \"60m\"  # fetch data by interval (including intraday if period < 60 days)\n",
    "        # valid intervals: 1m,2m,5m,15m,30m,60m,90m,1h,1d,5d,1wk,1mo,3mo\n",
    "        # (optional, default is '1d')\n",
    "INTERVAL = '1y'     # use \"period\" instead of start/end\n",
    "        # valid periods: 1d,5d,1mo,3mo,6mo,1y,2y,5y,10y,ytd,max\n",
    "        # (optional, default is '1mo')\n",
    "symbol = 'FB'      # Symbol of the desired stock\n",
    "INDICATORS = ['RSI', 'MACD', 'STOCH','ADL', 'ATR', 'MOM', 'MFI', 'ROC', 'CCI', 'VORTEX']\n",
    "ROWS_TO_PREDICT = 15"
   ],
   "metadata": {
    "collapsed": false,
    "pycharm": {
     "name": "#%%\n"
    }
   }
  },
  {
   "cell_type": "code",
   "execution_count": 234,
   "outputs": [
    {
     "name": "stdout",
     "output_type": "stream",
     "text": [
      "[*********************100%***********************]  1 of 1 completed\n"
     ]
    },
    {
     "data": {
      "text/plain": "                                 Open        High         Low       Close  \\\nDatetime                                                                    \n2020-02-04 04:00:00-05:00  205.200000  206.700000  205.200000  206.400000   \n2020-02-04 05:00:00-05:00  206.400000  206.440000  206.250000  206.390000   \n2020-02-04 06:00:00-05:00  206.180000  206.340000  206.000000  206.340000   \n2020-02-04 07:00:00-05:00  206.340000  206.350000  206.000000  206.300000   \n2020-02-04 08:00:00-05:00  206.290000  206.500000  204.700000  206.070000   \n...                               ...         ...         ...         ...   \n2021-02-03 13:30:00-05:00  268.234985  268.559998  266.950012  267.880005   \n2021-02-03 14:30:00-05:00  267.869995  268.229889  266.679993  266.779999   \n2021-02-03 15:30:00-05:00  266.799988  267.959991  266.559998  266.679993   \n2021-02-03 16:00:00-05:00  266.650000  267.381200  266.380000  266.820000   \n2021-02-03 17:00:00-05:00  266.800000  267.150000  266.700000  266.940000   \n\n                            Adj Close   Volume  \nDatetime                                        \n2020-02-04 04:00:00-05:00  206.400000        0  \n2020-02-04 05:00:00-05:00  206.390000        0  \n2020-02-04 06:00:00-05:00  206.340000        0  \n2020-02-04 07:00:00-05:00  206.300000        0  \n2020-02-04 08:00:00-05:00  206.070000        0  \n...                               ...      ...  \n2021-02-03 13:30:00-05:00  267.880005  1246802  \n2021-02-03 14:30:00-05:00  266.779999  1244747  \n2021-02-03 15:30:00-05:00  266.679993  1387200  \n2021-02-03 16:00:00-05:00  266.820000   643111  \n2021-02-03 17:00:00-05:00  266.940000        0  \n\n[4143 rows x 6 columns]",
      "text/html": "<div>\n<style scoped>\n    .dataframe tbody tr th:only-of-type {\n        vertical-align: middle;\n    }\n\n    .dataframe tbody tr th {\n        vertical-align: top;\n    }\n\n    .dataframe thead th {\n        text-align: right;\n    }\n</style>\n<table border=\"1\" class=\"dataframe\">\n  <thead>\n    <tr style=\"text-align: right;\">\n      <th></th>\n      <th>Open</th>\n      <th>High</th>\n      <th>Low</th>\n      <th>Close</th>\n      <th>Adj Close</th>\n      <th>Volume</th>\n    </tr>\n    <tr>\n      <th>Datetime</th>\n      <th></th>\n      <th></th>\n      <th></th>\n      <th></th>\n      <th></th>\n      <th></th>\n    </tr>\n  </thead>\n  <tbody>\n    <tr>\n      <th>2020-02-04 04:00:00-05:00</th>\n      <td>205.200000</td>\n      <td>206.700000</td>\n      <td>205.200000</td>\n      <td>206.400000</td>\n      <td>206.400000</td>\n      <td>0</td>\n    </tr>\n    <tr>\n      <th>2020-02-04 05:00:00-05:00</th>\n      <td>206.400000</td>\n      <td>206.440000</td>\n      <td>206.250000</td>\n      <td>206.390000</td>\n      <td>206.390000</td>\n      <td>0</td>\n    </tr>\n    <tr>\n      <th>2020-02-04 06:00:00-05:00</th>\n      <td>206.180000</td>\n      <td>206.340000</td>\n      <td>206.000000</td>\n      <td>206.340000</td>\n      <td>206.340000</td>\n      <td>0</td>\n    </tr>\n    <tr>\n      <th>2020-02-04 07:00:00-05:00</th>\n      <td>206.340000</td>\n      <td>206.350000</td>\n      <td>206.000000</td>\n      <td>206.300000</td>\n      <td>206.300000</td>\n      <td>0</td>\n    </tr>\n    <tr>\n      <th>2020-02-04 08:00:00-05:00</th>\n      <td>206.290000</td>\n      <td>206.500000</td>\n      <td>204.700000</td>\n      <td>206.070000</td>\n      <td>206.070000</td>\n      <td>0</td>\n    </tr>\n    <tr>\n      <th>...</th>\n      <td>...</td>\n      <td>...</td>\n      <td>...</td>\n      <td>...</td>\n      <td>...</td>\n      <td>...</td>\n    </tr>\n    <tr>\n      <th>2021-02-03 13:30:00-05:00</th>\n      <td>268.234985</td>\n      <td>268.559998</td>\n      <td>266.950012</td>\n      <td>267.880005</td>\n      <td>267.880005</td>\n      <td>1246802</td>\n    </tr>\n    <tr>\n      <th>2021-02-03 14:30:00-05:00</th>\n      <td>267.869995</td>\n      <td>268.229889</td>\n      <td>266.679993</td>\n      <td>266.779999</td>\n      <td>266.779999</td>\n      <td>1244747</td>\n    </tr>\n    <tr>\n      <th>2021-02-03 15:30:00-05:00</th>\n      <td>266.799988</td>\n      <td>267.959991</td>\n      <td>266.559998</td>\n      <td>266.679993</td>\n      <td>266.679993</td>\n      <td>1387200</td>\n    </tr>\n    <tr>\n      <th>2021-02-03 16:00:00-05:00</th>\n      <td>266.650000</td>\n      <td>267.381200</td>\n      <td>266.380000</td>\n      <td>266.820000</td>\n      <td>266.820000</td>\n      <td>643111</td>\n    </tr>\n    <tr>\n      <th>2021-02-03 17:00:00-05:00</th>\n      <td>266.800000</td>\n      <td>267.150000</td>\n      <td>266.700000</td>\n      <td>266.940000</td>\n      <td>266.940000</td>\n      <td>0</td>\n    </tr>\n  </tbody>\n</table>\n<p>4143 rows × 6 columns</p>\n</div>"
     },
     "execution_count": 234,
     "metadata": {},
     "output_type": "execute_result"
    }
   ],
   "source": [
    "data = yf.download(  # or pdr.get_data_yahoo(...\n",
    "        tickers = symbol,\n",
    "\n",
    "\n",
    "        period = INTERVAL,\n",
    "\n",
    "        interval = FETCH_INTERVAL,\n",
    "\n",
    "        # group by ticker (to access via data['SPY'])\n",
    "        # (optional, default is 'column')\n",
    "        group_by = 'ticker',\n",
    "\n",
    "        # adjust all OHLC automatically\n",
    "        # (optional, default is False)\n",
    "        # auto_adjust = True,\n",
    "\n",
    "        # download pre/post regular market hours data\n",
    "        # (optional, default is False)\n",
    "        prepost = True,\n",
    "\n",
    "        # use threads for mass downloading? (True/False/Integer)\n",
    "        # (optional, default is True)\n",
    "        threads = True,\n",
    "\n",
    "        # proxy URL scheme use use when downloading?\n",
    "        # (optional, default is None)\n",
    "        proxy = None\n",
    "    )\n",
    "data"
   ],
   "metadata": {
    "collapsed": false,
    "pycharm": {
     "name": "#%%\n"
    }
   }
  },
  {
   "cell_type": "code",
   "execution_count": 235,
   "outputs": [
    {
     "data": {
      "text/plain": "                                 open        high         low       close  \\\nDatetime                                                                    \n2020-02-04 04:00:00-05:00  205.200000  206.700000  205.200000  206.400000   \n2020-02-04 05:00:00-05:00  206.400000  206.440000  206.250000  206.390000   \n2020-02-04 06:00:00-05:00  206.180000  206.340000  206.000000  206.340000   \n2020-02-04 07:00:00-05:00  206.340000  206.350000  206.000000  206.300000   \n2020-02-04 08:00:00-05:00  206.290000  206.500000  204.700000  206.070000   \n2020-02-04 09:00:00-05:00  206.010000  206.480000  204.190000  206.270000   \n2020-02-04 09:30:00-05:00  206.470001  208.309998  205.202499  207.940002   \n2020-02-04 10:30:00-05:00  207.950699  208.410004  207.229996  208.110703   \n2020-02-04 11:30:00-05:00  208.100006  209.550003  208.089996  209.030197   \n2020-02-04 12:30:00-05:00  209.059998  209.820007  208.759995  209.210007   \n\n                            Adj Close   volume  \nDatetime                                        \n2020-02-04 04:00:00-05:00  206.400000        0  \n2020-02-04 05:00:00-05:00  206.390000        0  \n2020-02-04 06:00:00-05:00  206.340000        0  \n2020-02-04 07:00:00-05:00  206.300000        0  \n2020-02-04 08:00:00-05:00  206.070000        0  \n2020-02-04 09:00:00-05:00  206.270000        0  \n2020-02-04 09:30:00-05:00  207.940002  6050902  \n2020-02-04 10:30:00-05:00  208.110703  2213458  \n2020-02-04 11:30:00-05:00  209.030197  1970385  \n2020-02-04 12:30:00-05:00  209.210007  1568565  ",
      "text/html": "<div>\n<style scoped>\n    .dataframe tbody tr th:only-of-type {\n        vertical-align: middle;\n    }\n\n    .dataframe tbody tr th {\n        vertical-align: top;\n    }\n\n    .dataframe thead th {\n        text-align: right;\n    }\n</style>\n<table border=\"1\" class=\"dataframe\">\n  <thead>\n    <tr style=\"text-align: right;\">\n      <th></th>\n      <th>open</th>\n      <th>high</th>\n      <th>low</th>\n      <th>close</th>\n      <th>Adj Close</th>\n      <th>volume</th>\n    </tr>\n    <tr>\n      <th>Datetime</th>\n      <th></th>\n      <th></th>\n      <th></th>\n      <th></th>\n      <th></th>\n      <th></th>\n    </tr>\n  </thead>\n  <tbody>\n    <tr>\n      <th>2020-02-04 04:00:00-05:00</th>\n      <td>205.200000</td>\n      <td>206.700000</td>\n      <td>205.200000</td>\n      <td>206.400000</td>\n      <td>206.400000</td>\n      <td>0</td>\n    </tr>\n    <tr>\n      <th>2020-02-04 05:00:00-05:00</th>\n      <td>206.400000</td>\n      <td>206.440000</td>\n      <td>206.250000</td>\n      <td>206.390000</td>\n      <td>206.390000</td>\n      <td>0</td>\n    </tr>\n    <tr>\n      <th>2020-02-04 06:00:00-05:00</th>\n      <td>206.180000</td>\n      <td>206.340000</td>\n      <td>206.000000</td>\n      <td>206.340000</td>\n      <td>206.340000</td>\n      <td>0</td>\n    </tr>\n    <tr>\n      <th>2020-02-04 07:00:00-05:00</th>\n      <td>206.340000</td>\n      <td>206.350000</td>\n      <td>206.000000</td>\n      <td>206.300000</td>\n      <td>206.300000</td>\n      <td>0</td>\n    </tr>\n    <tr>\n      <th>2020-02-04 08:00:00-05:00</th>\n      <td>206.290000</td>\n      <td>206.500000</td>\n      <td>204.700000</td>\n      <td>206.070000</td>\n      <td>206.070000</td>\n      <td>0</td>\n    </tr>\n    <tr>\n      <th>2020-02-04 09:00:00-05:00</th>\n      <td>206.010000</td>\n      <td>206.480000</td>\n      <td>204.190000</td>\n      <td>206.270000</td>\n      <td>206.270000</td>\n      <td>0</td>\n    </tr>\n    <tr>\n      <th>2020-02-04 09:30:00-05:00</th>\n      <td>206.470001</td>\n      <td>208.309998</td>\n      <td>205.202499</td>\n      <td>207.940002</td>\n      <td>207.940002</td>\n      <td>6050902</td>\n    </tr>\n    <tr>\n      <th>2020-02-04 10:30:00-05:00</th>\n      <td>207.950699</td>\n      <td>208.410004</td>\n      <td>207.229996</td>\n      <td>208.110703</td>\n      <td>208.110703</td>\n      <td>2213458</td>\n    </tr>\n    <tr>\n      <th>2020-02-04 11:30:00-05:00</th>\n      <td>208.100006</td>\n      <td>209.550003</td>\n      <td>208.089996</td>\n      <td>209.030197</td>\n      <td>209.030197</td>\n      <td>1970385</td>\n    </tr>\n    <tr>\n      <th>2020-02-04 12:30:00-05:00</th>\n      <td>209.059998</td>\n      <td>209.820007</td>\n      <td>208.759995</td>\n      <td>209.210007</td>\n      <td>209.210007</td>\n      <td>1568565</td>\n    </tr>\n  </tbody>\n</table>\n</div>"
     },
     "execution_count": 235,
     "metadata": {},
     "output_type": "execute_result"
    }
   ],
   "source": [
    "data.rename(columns={\"Close\": 'close', \"High\": 'high', \"Low\": 'low', 'Volume': 'volume', 'Open': 'open'}, inplace=True)\n",
    "data.head(10)"
   ],
   "metadata": {
    "collapsed": false,
    "pycharm": {
     "name": "#%%\n"
    }
   }
  },
  {
   "cell_type": "code",
   "execution_count": 236,
   "outputs": [
    {
     "data": {
      "text/plain": "<AxesSubplot:xlabel='Datetime'>"
     },
     "execution_count": 236,
     "metadata": {},
     "output_type": "execute_result"
    },
    {
     "data": {
      "text/plain": "<Figure size 432x288 with 1 Axes>",
      "image/png": "[encoded data removed]"
     },
     "metadata": {
      "needs_background": "light"
     },
     "output_type": "display_data"
    }
   ],
   "source": [
    "data['close'].plot()"
   ],
   "metadata": {
    "collapsed": false,
    "pycharm": {
     "name": "#%%\n"
    }
   }
  },
  {
   "cell_type": "code",
   "execution_count": 237,
   "outputs": [],
   "source": [
    "def _get_indicator_data(data):\n",
    "    \"\"\"\n",
    "    Function that uses the finta API to calculate technical indicators used as the features\n",
    "    :return:\n",
    "    \"\"\"\n",
    "\n",
    "    for indicator in INDICATORS:\n",
    "        ind_data = eval('TA.' + indicator + '(data)')\n",
    "        if not isinstance(ind_data, pd.DataFrame):\n",
    "            ind_data = ind_data.to_frame()\n",
    "        data = pd.concat([data, ind_data], axis=1)\n",
    "    data.rename(columns={\"14 period EMV.\": '14 period EMV'}, inplace=True)\n",
    "\n",
    "    # Also calculate moving averages for features\n",
    "    data['ema50'] = data['close'] / data['close'].ewm(50).mean()\n",
    "    data['ema21'] = data['close'] / data['close'].ewm(21).mean()\n",
    "    data['ema15'] = data['close'] / data['close'].ewm(ROWS_TO_PREDICT).mean()\n",
    "    data['ema5'] = data['close'] / data['close'].ewm(5).mean()\n",
    "\n",
    "    # Instead of using the actual volume value (which changes over time), we normalize it with a moving volume average\n",
    "    data['normVol'] = data['volume'] / data['volume'].ewm(5).mean()\n",
    "\n",
    "    # Remove columns that won't be used as features\n",
    "    del (data['open'])\n",
    "    del (data['high'])\n",
    "    del (data['low'])\n",
    "    del (data['volume'])\n",
    "    del (data['Adj Close'])\n",
    "\n",
    "    return data\n",
    "\n",
    "data = _get_indicator_data(data)"
   ],
   "metadata": {
    "collapsed": false,
    "pycharm": {
     "name": "#%%\n"
    }
   }
  },
  {
   "cell_type": "code",
   "execution_count": 238,
   "outputs": [
    {
     "data": {
      "text/plain": "                                close  14 period RSI      MACD    SIGNAL  \\\nDatetime                                                                   \n2020-02-04 04:00:00-05:00  206.400000            NaN  0.000000  0.000000   \n2020-02-04 05:00:00-05:00  206.390000       0.000000 -0.000224 -0.000125   \n2020-02-04 06:00:00-05:00  206.340000       0.000000 -0.001836 -0.000826   \n2020-02-04 07:00:00-05:00  206.300000       0.000000 -0.003969 -0.001891   \n2020-02-04 08:00:00-05:00  206.070000       0.000000 -0.014196 -0.005551   \n...                               ...            ...       ...       ...   \n2021-02-03 13:30:00-05:00  267.880005      56.740414  0.807584  0.870919   \n2021-02-03 14:30:00-05:00  266.779999      51.758043  0.714587  0.839653   \n2021-02-03 15:30:00-05:00  266.679993      51.316859  0.625604  0.796843   \n2021-02-03 16:00:00-05:00  266.820000      51.934568  0.559928  0.749460   \n2021-02-03 17:00:00-05:00  266.940000      52.490979  0.511663  0.701900   \n\n                           14 period STOCH %K           MFV  14 period ATR  \\\nDatetime                                                                     \n2020-02-04 04:00:00-05:00                 NaN  0.000000e+00            NaN   \n2020-02-04 05:00:00-05:00                 NaN  0.000000e+00            NaN   \n2020-02-04 06:00:00-05:00                 NaN  0.000000e+00            NaN   \n2020-02-04 07:00:00-05:00                 NaN  0.000000e+00            NaN   \n2020-02-04 08:00:00-05:00                 NaN  0.000000e+00            NaN   \n...                                       ...           ...            ...   \n2021-02-03 13:30:00-05:00           93.377677  7.106224e+09       3.192893   \n2021-02-03 14:30:00-05:00           87.859074  7.105184e+09       3.066099   \n2021-02-03 15:30:00-05:00           52.984849  7.104082e+09       1.829479   \n2021-02-03 16:00:00-05:00           55.596919  7.104005e+09       1.833136   \n2021-02-03 17:00:00-05:00           57.835718  7.104005e+09       1.772422   \n\n                                MOM  14 period MFI       ROC  20 period CCI  \\\nDatetime                                                                      \n2020-02-04 04:00:00-05:00       NaN            NaN       NaN            NaN   \n2020-02-04 05:00:00-05:00       NaN            NaN       NaN      66.666667   \n2020-02-04 06:00:00-05:00       NaN            NaN       NaN      -1.694915   \n2020-02-04 07:00:00-05:00       NaN            NaN       NaN      -9.053498   \n2020-02-04 08:00:00-05:00       NaN            NaN       NaN    -153.573377   \n...                             ...            ...       ...            ...   \n2021-02-03 13:30:00-05:00  0.080005      46.379635  0.273257      55.323461   \n2021-02-03 14:30:00-05:00 -1.700001      41.509313 -0.011244      13.888412   \n2021-02-03 15:30:00-05:00 -1.070007      37.162886 -0.418225       6.411374   \n2021-02-03 16:00:00-05:00  0.810000      35.443646 -0.618296      -4.701691   \n2021-02-03 17:00:00-05:00 -0.140000      35.443646 -0.302521       2.840351   \n\n                                VIm       VIp     ema50     ema21     ema15  \\\nDatetime                                                                      \n2020-02-04 04:00:00-05:00       NaN       NaN  1.000000  1.000000  1.000000   \n2020-02-04 05:00:00-05:00       NaN       NaN  0.999976  0.999976  0.999977   \n2020-02-04 06:00:00-05:00       NaN       NaN  0.999824  0.999827  0.999829   \n2020-02-04 07:00:00-05:00       NaN       NaN  0.999726  0.999731  0.999735   \n2020-02-04 08:00:00-05:00       NaN       NaN  0.998900  0.998919  0.998933   \n...                             ...       ...       ...       ...       ...   \n2021-02-03 13:30:00-05:00  0.985011  0.985457  1.003720  1.007169  1.006406   \n2021-02-03 14:30:00-05:00  0.990917  1.019685  0.999606  1.002895  1.002131   \n2021-02-03 15:30:00-05:00  0.975013  1.649392  0.999246  1.002405  1.001645   \n2021-02-03 16:00:00-05:00  0.978912  0.967659  0.999775  1.002797  1.002035   \n2021-02-03 17:00:00-05:00  1.034255  0.968969  1.000221  1.003100  1.002330   \n\n                               ema5   normVol  \nDatetime                                       \n2020-02-04 04:00:00-05:00  1.000000       NaN  \n2020-02-04 05:00:00-05:00  0.999978       NaN  \n2020-02-04 06:00:00-05:00  0.999840       NaN  \n2020-02-04 07:00:00-05:00  0.999760       NaN  \n2020-02-04 08:00:00-05:00  0.999023       NaN  \n...                             ...       ...  \n2021-02-03 13:30:00-05:00  1.002376  0.994326  \n2021-02-03 14:30:00-05:00  0.998549  0.993898  \n2021-02-03 15:30:00-05:00  0.998479  1.088122  \n2021-02-03 16:00:00-05:00  0.999169  0.549871  \n2021-02-03 17:00:00-05:00  0.999682  0.000000  \n\n[4143 rows x 18 columns]",
      "text/html": "<div>\n<style scoped>\n    .dataframe tbody tr th:only-of-type {\n        vertical-align: middle;\n    }\n\n    .dataframe tbody tr th {\n        vertical-align: top;\n    }\n\n    .dataframe thead th {\n        text-align: right;\n    }\n</style>\n<table border=\"1\" class=\"dataframe\">\n  <thead>\n    <tr style=\"text-align: right;\">\n      <th></th>\n      <th>close</th>\n      <th>14 period RSI</th>\n      <th>MACD</th>\n      <th>SIGNAL</th>\n      <th>14 period STOCH %K</th>\n      <th>MFV</th>\n      <th>14 period ATR</th>\n      <th>MOM</th>\n      <th>14 period MFI</th>\n      <th>ROC</th>\n      <th>20 period CCI</th>\n      <th>VIm</th>\n      <th>VIp</th>\n      <th>ema50</th>\n      <th>ema21</th>\n      <th>ema15</th>\n      <th>ema5</th>\n      <th>normVol</th>\n    </tr>\n    <tr>\n      <th>Datetime</th>\n      <th></th>\n      <th></th>\n      <th></th>\n      <th></th>\n      <th></th>\n      <th></th>\n      <th></th>\n      <th></th>\n      <th></th>\n      <th></th>\n      <th></th>\n      <th></th>\n      <th></th>\n      <th></th>\n      <th></th>\n      <th></th>\n      <th></th>\n      <th></th>\n    </tr>\n  </thead>\n  <tbody>\n    <tr>\n      <th>2020-02-04 04:00:00-05:00</th>\n      <td>206.400000</td>\n      <td>NaN</td>\n      <td>0.000000</td>\n      <td>0.000000</td>\n      <td>NaN</td>\n      <td>0.000000e+00</td>\n      <td>NaN</td>\n      <td>NaN</td>\n      <td>NaN</td>\n      <td>NaN</td>\n      <td>NaN</td>\n      <td>NaN</td>\n      <td>NaN</td>\n      <td>1.000000</td>\n      <td>1.000000</td>\n      <td>1.000000</td>\n      <td>1.000000</td>\n      <td>NaN</td>\n    </tr>\n    <tr>\n      <th>2020-02-04 05:00:00-05:00</th>\n      <td>206.390000</td>\n      <td>0.000000</td>\n      <td>-0.000224</td>\n      <td>-0.000125</td>\n      <td>NaN</td>\n      <td>0.000000e+00</td>\n      <td>NaN</td>\n      <td>NaN</td>\n      <td>NaN</td>\n      <td>NaN</td>\n      <td>66.666667</td>\n      <td>NaN</td>\n      <td>NaN</td>\n      <td>0.999976</td>\n      <td>0.999976</td>\n      <td>0.999977</td>\n      <td>0.999978</td>\n      <td>NaN</td>\n    </tr>\n    <tr>\n      <th>2020-02-04 06:00:00-05:00</th>\n      <td>206.340000</td>\n      <td>0.000000</td>\n      <td>-0.001836</td>\n      <td>-0.000826</td>\n      <td>NaN</td>\n      <td>0.000000e+00</td>\n      <td>NaN</td>\n      <td>NaN</td>\n      <td>NaN</td>\n      <td>NaN</td>\n      <td>-1.694915</td>\n      <td>NaN</td>\n      <td>NaN</td>\n      <td>0.999824</td>\n      <td>0.999827</td>\n      <td>0.999829</td>\n      <td>0.999840</td>\n      <td>NaN</td>\n    </tr>\n    <tr>\n      <th>2020-02-04 07:00:00-05:00</th>\n      <td>206.300000</td>\n      <td>0.000000</td>\n      <td>-0.003969</td>\n      <td>-0.001891</td>\n      <td>NaN</td>\n      <td>0.000000e+00</td>\n      <td>NaN</td>\n      <td>NaN</td>\n      <td>NaN</td>\n      <td>NaN</td>\n      <td>-9.053498</td>\n      <td>NaN</td>\n      <td>NaN</td>\n      <td>0.999726</td>\n      <td>0.999731</td>\n      <td>0.999735</td>\n      <td>0.999760</td>\n      <td>NaN</td>\n    </tr>\n    <tr>\n      <th>2020-02-04 08:00:00-05:00</th>\n      <td>206.070000</td>\n      <td>0.000000</td>\n      <td>-0.014196</td>\n      <td>-0.005551</td>\n      <td>NaN</td>\n      <td>0.000000e+00</td>\n      <td>NaN</td>\n      <td>NaN</td>\n      <td>NaN</td>\n      <td>NaN</td>\n      <td>-153.573377</td>\n      <td>NaN</td>\n      <td>NaN</td>\n      <td>0.998900</td>\n      <td>0.998919</td>\n      <td>0.998933</td>\n      <td>0.999023</td>\n      <td>NaN</td>\n    </tr>\n    <tr>\n      <th>...</th>\n      <td>...</td>\n      <td>...</td>\n      <td>...</td>\n      <td>...</td>\n      <td>...</td>\n      <td>...</td>\n      <td>...</td>\n      <td>...</td>\n      <td>...</td>\n      <td>...</td>\n      <td>...</td>\n      <td>...</td>\n      <td>...</td>\n      <td>...</td>\n      <td>...</td>\n      <td>...</td>\n      <td>...</td>\n      <td>...</td>\n    </tr>\n    <tr>\n      <th>2021-02-03 13:30:00-05:00</th>\n      <td>267.880005</td>\n      <td>56.740414</td>\n      <td>0.807584</td>\n      <td>0.870919</td>\n      <td>93.377677</td>\n      <td>7.106224e+09</td>\n      <td>3.192893</td>\n      <td>0.080005</td>\n      <td>46.379635</td>\n      <td>0.273257</td>\n      <td>55.323461</td>\n      <td>0.985011</td>\n      <td>0.985457</td>\n      <td>1.003720</td>\n      <td>1.007169</td>\n      <td>1.006406</td>\n      <td>1.002376</td>\n      <td>0.994326</td>\n    </tr>\n    <tr>\n      <th>2021-02-03 14:30:00-05:00</th>\n      <td>266.779999</td>\n      <td>51.758043</td>\n      <td>0.714587</td>\n      <td>0.839653</td>\n      <td>87.859074</td>\n      <td>7.105184e+09</td>\n      <td>3.066099</td>\n      <td>-1.700001</td>\n      <td>41.509313</td>\n      <td>-0.011244</td>\n      <td>13.888412</td>\n      <td>0.990917</td>\n      <td>1.019685</td>\n      <td>0.999606</td>\n      <td>1.002895</td>\n      <td>1.002131</td>\n      <td>0.998549</td>\n      <td>0.993898</td>\n    </tr>\n    <tr>\n      <th>2021-02-03 15:30:00-05:00</th>\n      <td>266.679993</td>\n      <td>51.316859</td>\n      <td>0.625604</td>\n      <td>0.796843</td>\n      <td>52.984849</td>\n      <td>7.104082e+09</td>\n      <td>1.829479</td>\n      <td>-1.070007</td>\n      <td>37.162886</td>\n      <td>-0.418225</td>\n      <td>6.411374</td>\n      <td>0.975013</td>\n      <td>1.649392</td>\n      <td>0.999246</td>\n      <td>1.002405</td>\n      <td>1.001645</td>\n      <td>0.998479</td>\n      <td>1.088122</td>\n    </tr>\n    <tr>\n      <th>2021-02-03 16:00:00-05:00</th>\n      <td>266.820000</td>\n      <td>51.934568</td>\n      <td>0.559928</td>\n      <td>0.749460</td>\n      <td>55.596919</td>\n      <td>7.104005e+09</td>\n      <td>1.833136</td>\n      <td>0.810000</td>\n      <td>35.443646</td>\n      <td>-0.618296</td>\n      <td>-4.701691</td>\n      <td>0.978912</td>\n      <td>0.967659</td>\n      <td>0.999775</td>\n      <td>1.002797</td>\n      <td>1.002035</td>\n      <td>0.999169</td>\n      <td>0.549871</td>\n    </tr>\n    <tr>\n      <th>2021-02-03 17:00:00-05:00</th>\n      <td>266.940000</td>\n      <td>52.490979</td>\n      <td>0.511663</td>\n      <td>0.701900</td>\n      <td>57.835718</td>\n      <td>7.104005e+09</td>\n      <td>1.772422</td>\n      <td>-0.140000</td>\n      <td>35.443646</td>\n      <td>-0.302521</td>\n      <td>2.840351</td>\n      <td>1.034255</td>\n      <td>0.968969</td>\n      <td>1.000221</td>\n      <td>1.003100</td>\n      <td>1.002330</td>\n      <td>0.999682</td>\n      <td>0.000000</td>\n    </tr>\n  </tbody>\n</table>\n<p>4143 rows × 18 columns</p>\n</div>"
     },
     "execution_count": 238,
     "metadata": {},
     "output_type": "execute_result"
    }
   ],
   "source": [
    "data"
   ],
   "metadata": {
    "collapsed": false,
    "pycharm": {
     "name": "#%%\n"
    }
   }
  },
  {
   "cell_type": "code",
   "execution_count": 239,
   "outputs": [
    {
     "data": {
      "text/plain": "Index(['close', '14 period RSI', 'MACD', 'SIGNAL', '14 period STOCH %K', 'MFV',\n       '14 period ATR', 'MOM', '14 period MFI', 'ROC', '20 period CCI', 'VIm',\n       'VIp', 'ema50', 'ema21', 'ema15', 'ema5', 'normVol'],\n      dtype='object')"
     },
     "execution_count": 239,
     "metadata": {},
     "output_type": "execute_result"
    }
   ],
   "source": [
    "data.columns"
   ],
   "metadata": {
    "collapsed": false,
    "pycharm": {
     "name": "#%%\n"
    }
   }
  },
  {
   "cell_type": "code",
   "execution_count": 240,
   "outputs": [],
   "source": [
    "def create_class_column(row):\n",
    "    if row['close_shift']-row['close'] > 0.35:\n",
    "        return 1\n",
    "    if row['close_shift'] -row['close']< -0.35:\n",
    "        return -1\n",
    "    else:\n",
    "        return 0"
   ],
   "metadata": {
    "collapsed": false,
    "pycharm": {
     "name": "#%%\n"
    }
   }
  },
  {
   "cell_type": "code",
   "execution_count": 241,
   "outputs": [
    {
     "data": {
      "text/plain": "                                close  14 period RSI      MACD    SIGNAL  \\\nDatetime                                                                   \n2020-02-04 04:00:00-05:00  206.400000            NaN  0.000000  0.000000   \n2020-02-04 05:00:00-05:00  206.390000       0.000000 -0.000224 -0.000125   \n2020-02-04 06:00:00-05:00  206.340000       0.000000 -0.001836 -0.000826   \n2020-02-04 07:00:00-05:00  206.300000       0.000000 -0.003969 -0.001891   \n2020-02-04 08:00:00-05:00  206.070000       0.000000 -0.014196 -0.005551   \n...                               ...            ...       ...       ...   \n2021-02-03 13:30:00-05:00  267.880005      56.740414  0.807584  0.870919   \n2021-02-03 14:30:00-05:00  266.779999      51.758043  0.714587  0.839653   \n2021-02-03 15:30:00-05:00  266.679993      51.316859  0.625604  0.796843   \n2021-02-03 16:00:00-05:00  266.820000      51.934568  0.559928  0.749460   \n2021-02-03 17:00:00-05:00  266.940000      52.490979  0.511663  0.701900   \n\n                           14 period STOCH %K           MFV  14 period ATR  \\\nDatetime                                                                     \n2020-02-04 04:00:00-05:00                 NaN  0.000000e+00            NaN   \n2020-02-04 05:00:00-05:00                 NaN  0.000000e+00            NaN   \n2020-02-04 06:00:00-05:00                 NaN  0.000000e+00            NaN   \n2020-02-04 07:00:00-05:00                 NaN  0.000000e+00            NaN   \n2020-02-04 08:00:00-05:00                 NaN  0.000000e+00            NaN   \n...                                       ...           ...            ...   \n2021-02-03 13:30:00-05:00           93.377677  7.106224e+09       3.192893   \n2021-02-03 14:30:00-05:00           87.859074  7.105184e+09       3.066099   \n2021-02-03 15:30:00-05:00           52.984849  7.104082e+09       1.829479   \n2021-02-03 16:00:00-05:00           55.596919  7.104005e+09       1.833136   \n2021-02-03 17:00:00-05:00           57.835718  7.104005e+09       1.772422   \n\n                                MOM  14 period MFI       ROC  20 period CCI  \\\nDatetime                                                                      \n2020-02-04 04:00:00-05:00       NaN            NaN       NaN            NaN   \n2020-02-04 05:00:00-05:00       NaN            NaN       NaN      66.666667   \n2020-02-04 06:00:00-05:00       NaN            NaN       NaN      -1.694915   \n2020-02-04 07:00:00-05:00       NaN            NaN       NaN      -9.053498   \n2020-02-04 08:00:00-05:00       NaN            NaN       NaN    -153.573377   \n...                             ...            ...       ...            ...   \n2021-02-03 13:30:00-05:00  0.080005      46.379635  0.273257      55.323461   \n2021-02-03 14:30:00-05:00 -1.700001      41.509313 -0.011244      13.888412   \n2021-02-03 15:30:00-05:00 -1.070007      37.162886 -0.418225       6.411374   \n2021-02-03 16:00:00-05:00  0.810000      35.443646 -0.618296      -4.701691   \n2021-02-03 17:00:00-05:00 -0.140000      35.443646 -0.302521       2.840351   \n\n                                VIm       VIp     ema50     ema21     ema15  \\\nDatetime                                                                      \n2020-02-04 04:00:00-05:00       NaN       NaN  1.000000  1.000000  1.000000   \n2020-02-04 05:00:00-05:00       NaN       NaN  0.999976  0.999976  0.999977   \n2020-02-04 06:00:00-05:00       NaN       NaN  0.999824  0.999827  0.999829   \n2020-02-04 07:00:00-05:00       NaN       NaN  0.999726  0.999731  0.999735   \n2020-02-04 08:00:00-05:00       NaN       NaN  0.998900  0.998919  0.998933   \n...                             ...       ...       ...       ...       ...   \n2021-02-03 13:30:00-05:00  0.985011  0.985457  1.003720  1.007169  1.006406   \n2021-02-03 14:30:00-05:00  0.990917  1.019685  0.999606  1.002895  1.002131   \n2021-02-03 15:30:00-05:00  0.975013  1.649392  0.999246  1.002405  1.001645   \n2021-02-03 16:00:00-05:00  0.978912  0.967659  0.999775  1.002797  1.002035   \n2021-02-03 17:00:00-05:00  1.034255  0.968969  1.000221  1.003100  1.002330   \n\n                               ema5   normVol  close_shift  \nDatetime                                                    \n2020-02-04 04:00:00-05:00  1.000000       NaN   206.390000  \n2020-02-04 05:00:00-05:00  0.999978       NaN   206.340000  \n2020-02-04 06:00:00-05:00  0.999840       NaN   206.300000  \n2020-02-04 07:00:00-05:00  0.999760       NaN   206.070000  \n2020-02-04 08:00:00-05:00  0.999023       NaN   206.270000  \n...                             ...       ...          ...  \n2021-02-03 13:30:00-05:00  1.002376  0.994326   266.779999  \n2021-02-03 14:30:00-05:00  0.998549  0.993898   266.679993  \n2021-02-03 15:30:00-05:00  0.998479  1.088122   266.820000  \n2021-02-03 16:00:00-05:00  0.999169  0.549871   266.940000  \n2021-02-03 17:00:00-05:00  0.999682  0.000000          NaN  \n\n[4143 rows x 19 columns]",
      "text/html": "<div>\n<style scoped>\n    .dataframe tbody tr th:only-of-type {\n        vertical-align: middle;\n    }\n\n    .dataframe tbody tr th {\n        vertical-align: top;\n    }\n\n    .dataframe thead th {\n        text-align: right;\n    }\n</style>\n<table border=\"1\" class=\"dataframe\">\n  <thead>\n    <tr style=\"text-align: right;\">\n      <th></th>\n      <th>close</th>\n      <th>14 period RSI</th>\n      <th>MACD</th>\n      <th>SIGNAL</th>\n      <th>14 period STOCH %K</th>\n      <th>MFV</th>\n      <th>14 period ATR</th>\n      <th>MOM</th>\n      <th>14 period MFI</th>\n      <th>ROC</th>\n      <th>20 period CCI</th>\n      <th>VIm</th>\n      <th>VIp</th>\n      <th>ema50</th>\n      <th>ema21</th>\n      <th>ema15</th>\n      <th>ema5</th>\n      <th>normVol</th>\n      <th>close_shift</th>\n    </tr>\n    <tr>\n      <th>Datetime</th>\n      <th></th>\n      <th></th>\n      <th></th>\n      <th></th>\n      <th></th>\n      <th></th>\n      <th></th>\n      <th></th>\n      <th></th>\n      <th></th>\n      <th></th>\n      <th></th>\n      <th></th>\n      <th></th>\n      <th></th>\n      <th></th>\n      <th></th>\n      <th></th>\n      <th></th>\n    </tr>\n  </thead>\n  <tbody>\n    <tr>\n      <th>2020-02-04 04:00:00-05:00</th>\n      <td>206.400000</td>\n      <td>NaN</td>\n      <td>0.000000</td>\n      <td>0.000000</td>\n      <td>NaN</td>\n      <td>0.000000e+00</td>\n      <td>NaN</td>\n      <td>NaN</td>\n      <td>NaN</td>\n      <td>NaN</td>\n      <td>NaN</td>\n      <td>NaN</td>\n      <td>NaN</td>\n      <td>1.000000</td>\n      <td>1.000000</td>\n      <td>1.000000</td>\n      <td>1.000000</td>\n      <td>NaN</td>\n      <td>206.390000</td>\n    </tr>\n    <tr>\n      <th>2020-02-04 05:00:00-05:00</th>\n      <td>206.390000</td>\n      <td>0.000000</td>\n      <td>-0.000224</td>\n      <td>-0.000125</td>\n      <td>NaN</td>\n      <td>0.000000e+00</td>\n      <td>NaN</td>\n      <td>NaN</td>\n      <td>NaN</td>\n      <td>NaN</td>\n      <td>66.666667</td>\n      <td>NaN</td>\n      <td>NaN</td>\n      <td>0.999976</td>\n      <td>0.999976</td>\n      <td>0.999977</td>\n      <td>0.999978</td>\n      <td>NaN</td>\n      <td>206.340000</td>\n    </tr>\n    <tr>\n      <th>2020-02-04 06:00:00-05:00</th>\n      <td>206.340000</td>\n      <td>0.000000</td>\n      <td>-0.001836</td>\n      <td>-0.000826</td>\n      <td>NaN</td>\n      <td>0.000000e+00</td>\n      <td>NaN</td>\n      <td>NaN</td>\n      <td>NaN</td>\n      <td>NaN</td>\n      <td>-1.694915</td>\n      <td>NaN</td>\n      <td>NaN</td>\n      <td>0.999824</td>\n      <td>0.999827</td>\n      <td>0.999829</td>\n      <td>0.999840</td>\n      <td>NaN</td>\n      <td>206.300000</td>\n    </tr>\n    <tr>\n      <th>2020-02-04 07:00:00-05:00</th>\n      <td>206.300000</td>\n      <td>0.000000</td>\n      <td>-0.003969</td>\n      <td>-0.001891</td>\n      <td>NaN</td>\n      <td>0.000000e+00</td>\n      <td>NaN</td>\n      <td>NaN</td>\n      <td>NaN</td>\n      <td>NaN</td>\n      <td>-9.053498</td>\n      <td>NaN</td>\n      <td>NaN</td>\n      <td>0.999726</td>\n      <td>0.999731</td>\n      <td>0.999735</td>\n      <td>0.999760</td>\n      <td>NaN</td>\n      <td>206.070000</td>\n    </tr>\n    <tr>\n      <th>2020-02-04 08:00:00-05:00</th>\n      <td>206.070000</td>\n      <td>0.000000</td>\n      <td>-0.014196</td>\n      <td>-0.005551</td>\n      <td>NaN</td>\n      <td>0.000000e+00</td>\n      <td>NaN</td>\n      <td>NaN</td>\n      <td>NaN</td>\n      <td>NaN</td>\n      <td>-153.573377</td>\n      <td>NaN</td>\n      <td>NaN</td>\n      <td>0.998900</td>\n      <td>0.998919</td>\n      <td>0.998933</td>\n      <td>0.999023</td>\n      <td>NaN</td>\n      <td>206.270000</td>\n    </tr>\n    <tr>\n      <th>...</th>\n      <td>...</td>\n      <td>...</td>\n      <td>...</td>\n      <td>...</td>\n      <td>...</td>\n      <td>...</td>\n      <td>...</td>\n      <td>...</td>\n      <td>...</td>\n      <td>...</td>\n      <td>...</td>\n      <td>...</td>\n      <td>...</td>\n      <td>...</td>\n      <td>...</td>\n      <td>...</td>\n      <td>...</td>\n      <td>...</td>\n      <td>...</td>\n    </tr>\n    <tr>\n      <th>2021-02-03 13:30:00-05:00</th>\n      <td>267.880005</td>\n      <td>56.740414</td>\n      <td>0.807584</td>\n      <td>0.870919</td>\n      <td>93.377677</td>\n      <td>7.106224e+09</td>\n      <td>3.192893</td>\n      <td>0.080005</td>\n      <td>46.379635</td>\n      <td>0.273257</td>\n      <td>55.323461</td>\n      <td>0.985011</td>\n      <td>0.985457</td>\n      <td>1.003720</td>\n      <td>1.007169</td>\n      <td>1.006406</td>\n      <td>1.002376</td>\n      <td>0.994326</td>\n      <td>266.779999</td>\n    </tr>\n    <tr>\n      <th>2021-02-03 14:30:00-05:00</th>\n      <td>266.779999</td>\n      <td>51.758043</td>\n      <td>0.714587</td>\n      <td>0.839653</td>\n      <td>87.859074</td>\n      <td>7.105184e+09</td>\n      <td>3.066099</td>\n      <td>-1.700001</td>\n      <td>41.509313</td>\n      <td>-0.011244</td>\n      <td>13.888412</td>\n      <td>0.990917</td>\n      <td>1.019685</td>\n      <td>0.999606</td>\n      <td>1.002895</td>\n      <td>1.002131</td>\n      <td>0.998549</td>\n      <td>0.993898</td>\n      <td>266.679993</td>\n    </tr>\n    <tr>\n      <th>2021-02-03 15:30:00-05:00</th>\n      <td>266.679993</td>\n      <td>51.316859</td>\n      <td>0.625604</td>\n      <td>0.796843</td>\n      <td>52.984849</td>\n      <td>7.104082e+09</td>\n      <td>1.829479</td>\n      <td>-1.070007</td>\n      <td>37.162886</td>\n      <td>-0.418225</td>\n      <td>6.411374</td>\n      <td>0.975013</td>\n      <td>1.649392</td>\n      <td>0.999246</td>\n      <td>1.002405</td>\n      <td>1.001645</td>\n      <td>0.998479</td>\n      <td>1.088122</td>\n      <td>266.820000</td>\n    </tr>\n    <tr>\n      <th>2021-02-03 16:00:00-05:00</th>\n      <td>266.820000</td>\n      <td>51.934568</td>\n      <td>0.559928</td>\n      <td>0.749460</td>\n      <td>55.596919</td>\n      <td>7.104005e+09</td>\n      <td>1.833136</td>\n      <td>0.810000</td>\n      <td>35.443646</td>\n      <td>-0.618296</td>\n      <td>-4.701691</td>\n      <td>0.978912</td>\n      <td>0.967659</td>\n      <td>0.999775</td>\n      <td>1.002797</td>\n      <td>1.002035</td>\n      <td>0.999169</td>\n      <td>0.549871</td>\n      <td>266.940000</td>\n    </tr>\n    <tr>\n      <th>2021-02-03 17:00:00-05:00</th>\n      <td>266.940000</td>\n      <td>52.490979</td>\n      <td>0.511663</td>\n      <td>0.701900</td>\n      <td>57.835718</td>\n      <td>7.104005e+09</td>\n      <td>1.772422</td>\n      <td>-0.140000</td>\n      <td>35.443646</td>\n      <td>-0.302521</td>\n      <td>2.840351</td>\n      <td>1.034255</td>\n      <td>0.968969</td>\n      <td>1.000221</td>\n      <td>1.003100</td>\n      <td>1.002330</td>\n      <td>0.999682</td>\n      <td>0.000000</td>\n      <td>NaN</td>\n    </tr>\n  </tbody>\n</table>\n<p>4143 rows × 19 columns</p>\n</div>"
     },
     "execution_count": 241,
     "metadata": {},
     "output_type": "execute_result"
    }
   ],
   "source": [
    "data['close_shift'] = data.shift(-WINDOW)['close']\n",
    "data"
   ],
   "metadata": {
    "collapsed": false,
    "pycharm": {
     "name": "#%%\n"
    }
   }
  },
  {
   "cell_type": "code",
   "execution_count": 242,
   "outputs": [
    {
     "data": {
      "text/plain": "                                close  14 period RSI      MACD    SIGNAL  \\\nDatetime                                                                   \n2020-02-04 04:00:00-05:00  206.400000            NaN  0.000000  0.000000   \n2020-02-04 05:00:00-05:00  206.390000       0.000000 -0.000224 -0.000125   \n2020-02-04 06:00:00-05:00  206.340000       0.000000 -0.001836 -0.000826   \n2020-02-04 07:00:00-05:00  206.300000       0.000000 -0.003969 -0.001891   \n2020-02-04 08:00:00-05:00  206.070000       0.000000 -0.014196 -0.005551   \n...                               ...            ...       ...       ...   \n2021-02-03 13:30:00-05:00  267.880005      56.740414  0.807584  0.870919   \n2021-02-03 14:30:00-05:00  266.779999      51.758043  0.714587  0.839653   \n2021-02-03 15:30:00-05:00  266.679993      51.316859  0.625604  0.796843   \n2021-02-03 16:00:00-05:00  266.820000      51.934568  0.559928  0.749460   \n2021-02-03 17:00:00-05:00  266.940000      52.490979  0.511663  0.701900   \n\n                           14 period STOCH %K           MFV  14 period ATR  \\\nDatetime                                                                     \n2020-02-04 04:00:00-05:00                 NaN  0.000000e+00            NaN   \n2020-02-04 05:00:00-05:00                 NaN  0.000000e+00            NaN   \n2020-02-04 06:00:00-05:00                 NaN  0.000000e+00            NaN   \n2020-02-04 07:00:00-05:00                 NaN  0.000000e+00            NaN   \n2020-02-04 08:00:00-05:00                 NaN  0.000000e+00            NaN   \n...                                       ...           ...            ...   \n2021-02-03 13:30:00-05:00           93.377677  7.106224e+09       3.192893   \n2021-02-03 14:30:00-05:00           87.859074  7.105184e+09       3.066099   \n2021-02-03 15:30:00-05:00           52.984849  7.104082e+09       1.829479   \n2021-02-03 16:00:00-05:00           55.596919  7.104005e+09       1.833136   \n2021-02-03 17:00:00-05:00           57.835718  7.104005e+09       1.772422   \n\n                                MOM  14 period MFI       ROC  20 period CCI  \\\nDatetime                                                                      \n2020-02-04 04:00:00-05:00       NaN            NaN       NaN            NaN   \n2020-02-04 05:00:00-05:00       NaN            NaN       NaN      66.666667   \n2020-02-04 06:00:00-05:00       NaN            NaN       NaN      -1.694915   \n2020-02-04 07:00:00-05:00       NaN            NaN       NaN      -9.053498   \n2020-02-04 08:00:00-05:00       NaN            NaN       NaN    -153.573377   \n...                             ...            ...       ...            ...   \n2021-02-03 13:30:00-05:00  0.080005      46.379635  0.273257      55.323461   \n2021-02-03 14:30:00-05:00 -1.700001      41.509313 -0.011244      13.888412   \n2021-02-03 15:30:00-05:00 -1.070007      37.162886 -0.418225       6.411374   \n2021-02-03 16:00:00-05:00  0.810000      35.443646 -0.618296      -4.701691   \n2021-02-03 17:00:00-05:00 -0.140000      35.443646 -0.302521       2.840351   \n\n                                VIm       VIp     ema50     ema21     ema15  \\\nDatetime                                                                      \n2020-02-04 04:00:00-05:00       NaN       NaN  1.000000  1.000000  1.000000   \n2020-02-04 05:00:00-05:00       NaN       NaN  0.999976  0.999976  0.999977   \n2020-02-04 06:00:00-05:00       NaN       NaN  0.999824  0.999827  0.999829   \n2020-02-04 07:00:00-05:00       NaN       NaN  0.999726  0.999731  0.999735   \n2020-02-04 08:00:00-05:00       NaN       NaN  0.998900  0.998919  0.998933   \n...                             ...       ...       ...       ...       ...   \n2021-02-03 13:30:00-05:00  0.985011  0.985457  1.003720  1.007169  1.006406   \n2021-02-03 14:30:00-05:00  0.990917  1.019685  0.999606  1.002895  1.002131   \n2021-02-03 15:30:00-05:00  0.975013  1.649392  0.999246  1.002405  1.001645   \n2021-02-03 16:00:00-05:00  0.978912  0.967659  0.999775  1.002797  1.002035   \n2021-02-03 17:00:00-05:00  1.034255  0.968969  1.000221  1.003100  1.002330   \n\n                               ema5   normVol  close_shift  class_column  \nDatetime                                                                  \n2020-02-04 04:00:00-05:00  1.000000       NaN   206.390000             0  \n2020-02-04 05:00:00-05:00  0.999978       NaN   206.340000             0  \n2020-02-04 06:00:00-05:00  0.999840       NaN   206.300000             0  \n2020-02-04 07:00:00-05:00  0.999760       NaN   206.070000             0  \n2020-02-04 08:00:00-05:00  0.999023       NaN   206.270000             0  \n...                             ...       ...          ...           ...  \n2021-02-03 13:30:00-05:00  1.002376  0.994326   266.779999            -1  \n2021-02-03 14:30:00-05:00  0.998549  0.993898   266.679993             0  \n2021-02-03 15:30:00-05:00  0.998479  1.088122   266.820000             0  \n2021-02-03 16:00:00-05:00  0.999169  0.549871   266.940000             0  \n2021-02-03 17:00:00-05:00  0.999682  0.000000          NaN             0  \n\n[4143 rows x 20 columns]",
      "text/html": "<div>\n<style scoped>\n    .dataframe tbody tr th:only-of-type {\n        vertical-align: middle;\n    }\n\n    .dataframe tbody tr th {\n        vertical-align: top;\n    }\n\n    .dataframe thead th {\n        text-align: right;\n    }\n</style>\n<table border=\"1\" class=\"dataframe\">\n  <thead>\n    <tr style=\"text-align: right;\">\n      <th></th>\n      <th>close</th>\n      <th>14 period RSI</th>\n      <th>MACD</th>\n      <th>SIGNAL</th>\n      <th>14 period STOCH %K</th>\n      <th>MFV</th>\n      <th>14 period ATR</th>\n      <th>MOM</th>\n      <th>14 period MFI</th>\n      <th>ROC</th>\n      <th>20 period CCI</th>\n      <th>VIm</th>\n      <th>VIp</th>\n      <th>ema50</th>\n      <th>ema21</th>\n      <th>ema15</th>\n      <th>ema5</th>\n      <th>normVol</th>\n      <th>close_shift</th>\n      <th>class_column</th>\n    </tr>\n    <tr>\n      <th>Datetime</th>\n      <th></th>\n      <th></th>\n      <th></th>\n      <th></th>\n      <th></th>\n      <th></th>\n      <th></th>\n      <th></th>\n      <th></th>\n      <th></th>\n      <th></th>\n      <th></th>\n      <th></th>\n      <th></th>\n      <th></th>\n      <th></th>\n      <th></th>\n      <th></th>\n      <th></th>\n      <th></th>\n    </tr>\n  </thead>\n  <tbody>\n    <tr>\n      <th>2020-02-04 04:00:00-05:00</th>\n      <td>206.400000</td>\n      <td>NaN</td>\n      <td>0.000000</td>\n      <td>0.000000</td>\n      <td>NaN</td>\n      <td>0.000000e+00</td>\n      <td>NaN</td>\n      <td>NaN</td>\n      <td>NaN</td>\n      <td>NaN</td>\n      <td>NaN</td>\n      <td>NaN</td>\n      <td>NaN</td>\n      <td>1.000000</td>\n      <td>1.000000</td>\n      <td>1.000000</td>\n      <td>1.000000</td>\n      <td>NaN</td>\n      <td>206.390000</td>\n      <td>0</td>\n    </tr>\n    <tr>\n      <th>2020-02-04 05:00:00-05:00</th>\n      <td>206.390000</td>\n      <td>0.000000</td>\n      <td>-0.000224</td>\n      <td>-0.000125</td>\n      <td>NaN</td>\n      <td>0.000000e+00</td>\n      <td>NaN</td>\n      <td>NaN</td>\n      <td>NaN</td>\n      <td>NaN</td>\n      <td>66.666667</td>\n      <td>NaN</td>\n      <td>NaN</td>\n      <td>0.999976</td>\n      <td>0.999976</td>\n      <td>0.999977</td>\n      <td>0.999978</td>\n      <td>NaN</td>\n      <td>206.340000</td>\n      <td>0</td>\n    </tr>\n    <tr>\n      <th>2020-02-04 06:00:00-05:00</th>\n      <td>206.340000</td>\n      <td>0.000000</td>\n      <td>-0.001836</td>\n      <td>-0.000826</td>\n      <td>NaN</td>\n      <td>0.000000e+00</td>\n      <td>NaN</td>\n      <td>NaN</td>\n      <td>NaN</td>\n      <td>NaN</td>\n      <td>-1.694915</td>\n      <td>NaN</td>\n      <td>NaN</td>\n      <td>0.999824</td>\n      <td>0.999827</td>\n      <td>0.999829</td>\n      <td>0.999840</td>\n      <td>NaN</td>\n      <td>206.300000</td>\n      <td>0</td>\n    </tr>\n    <tr>\n      <th>2020-02-04 07:00:00-05:00</th>\n      <td>206.300000</td>\n      <td>0.000000</td>\n      <td>-0.003969</td>\n      <td>-0.001891</td>\n      <td>NaN</td>\n      <td>0.000000e+00</td>\n      <td>NaN</td>\n      <td>NaN</td>\n      <td>NaN</td>\n      <td>NaN</td>\n      <td>-9.053498</td>\n      <td>NaN</td>\n      <td>NaN</td>\n      <td>0.999726</td>\n      <td>0.999731</td>\n      <td>0.999735</td>\n      <td>0.999760</td>\n      <td>NaN</td>\n      <td>206.070000</td>\n      <td>0</td>\n    </tr>\n    <tr>\n      <th>2020-02-04 08:00:00-05:00</th>\n      <td>206.070000</td>\n      <td>0.000000</td>\n      <td>-0.014196</td>\n      <td>-0.005551</td>\n      <td>NaN</td>\n      <td>0.000000e+00</td>\n      <td>NaN</td>\n      <td>NaN</td>\n      <td>NaN</td>\n      <td>NaN</td>\n      <td>-153.573377</td>\n      <td>NaN</td>\n      <td>NaN</td>\n      <td>0.998900</td>\n      <td>0.998919</td>\n      <td>0.998933</td>\n      <td>0.999023</td>\n      <td>NaN</td>\n      <td>206.270000</td>\n      <td>0</td>\n    </tr>\n    <tr>\n      <th>...</th>\n      <td>...</td>\n      <td>...</td>\n      <td>...</td>\n      <td>...</td>\n      <td>...</td>\n      <td>...</td>\n      <td>...</td>\n      <td>...</td>\n      <td>...</td>\n      <td>...</td>\n      <td>...</td>\n      <td>...</td>\n      <td>...</td>\n      <td>...</td>\n      <td>...</td>\n      <td>...</td>\n      <td>...</td>\n      <td>...</td>\n      <td>...</td>\n      <td>...</td>\n    </tr>\n    <tr>\n      <th>2021-02-03 13:30:00-05:00</th>\n      <td>267.880005</td>\n      <td>56.740414</td>\n      <td>0.807584</td>\n      <td>0.870919</td>\n      <td>93.377677</td>\n      <td>7.106224e+09</td>\n      <td>3.192893</td>\n      <td>0.080005</td>\n      <td>46.379635</td>\n      <td>0.273257</td>\n      <td>55.323461</td>\n      <td>0.985011</td>\n      <td>0.985457</td>\n      <td>1.003720</td>\n      <td>1.007169</td>\n      <td>1.006406</td>\n      <td>1.002376</td>\n      <td>0.994326</td>\n      <td>266.779999</td>\n      <td>-1</td>\n    </tr>\n    <tr>\n      <th>2021-02-03 14:30:00-05:00</th>\n      <td>266.779999</td>\n      <td>51.758043</td>\n      <td>0.714587</td>\n      <td>0.839653</td>\n      <td>87.859074</td>\n      <td>7.105184e+09</td>\n      <td>3.066099</td>\n      <td>-1.700001</td>\n      <td>41.509313</td>\n      <td>-0.011244</td>\n      <td>13.888412</td>\n      <td>0.990917</td>\n      <td>1.019685</td>\n      <td>0.999606</td>\n      <td>1.002895</td>\n      <td>1.002131</td>\n      <td>0.998549</td>\n      <td>0.993898</td>\n      <td>266.679993</td>\n      <td>0</td>\n    </tr>\n    <tr>\n      <th>2021-02-03 15:30:00-05:00</th>\n      <td>266.679993</td>\n      <td>51.316859</td>\n      <td>0.625604</td>\n      <td>0.796843</td>\n      <td>52.984849</td>\n      <td>7.104082e+09</td>\n      <td>1.829479</td>\n      <td>-1.070007</td>\n      <td>37.162886</td>\n      <td>-0.418225</td>\n      <td>6.411374</td>\n      <td>0.975013</td>\n      <td>1.649392</td>\n      <td>0.999246</td>\n      <td>1.002405</td>\n      <td>1.001645</td>\n      <td>0.998479</td>\n      <td>1.088122</td>\n      <td>266.820000</td>\n      <td>0</td>\n    </tr>\n    <tr>\n      <th>2021-02-03 16:00:00-05:00</th>\n      <td>266.820000</td>\n      <td>51.934568</td>\n      <td>0.559928</td>\n      <td>0.749460</td>\n      <td>55.596919</td>\n      <td>7.104005e+09</td>\n      <td>1.833136</td>\n      <td>0.810000</td>\n      <td>35.443646</td>\n      <td>-0.618296</td>\n      <td>-4.701691</td>\n      <td>0.978912</td>\n      <td>0.967659</td>\n      <td>0.999775</td>\n      <td>1.002797</td>\n      <td>1.002035</td>\n      <td>0.999169</td>\n      <td>0.549871</td>\n      <td>266.940000</td>\n      <td>0</td>\n    </tr>\n    <tr>\n      <th>2021-02-03 17:00:00-05:00</th>\n      <td>266.940000</td>\n      <td>52.490979</td>\n      <td>0.511663</td>\n      <td>0.701900</td>\n      <td>57.835718</td>\n      <td>7.104005e+09</td>\n      <td>1.772422</td>\n      <td>-0.140000</td>\n      <td>35.443646</td>\n      <td>-0.302521</td>\n      <td>2.840351</td>\n      <td>1.034255</td>\n      <td>0.968969</td>\n      <td>1.000221</td>\n      <td>1.003100</td>\n      <td>1.002330</td>\n      <td>0.999682</td>\n      <td>0.000000</td>\n      <td>NaN</td>\n      <td>0</td>\n    </tr>\n  </tbody>\n</table>\n<p>4143 rows × 20 columns</p>\n</div>"
     },
     "execution_count": 242,
     "metadata": {},
     "output_type": "execute_result"
    }
   ],
   "source": [
    "data['class_column'] = data.apply(create_class_column, axis=1)\n",
    "data"
   ],
   "metadata": {
    "collapsed": false,
    "pycharm": {
     "name": "#%%\n"
    }
   }
  },
  {
   "cell_type": "code",
   "execution_count": 243,
   "outputs": [
    {
     "data": {
      "text/plain": " 1    1418\n 0    1386\n-1    1339\nName: class_column, dtype: int64"
     },
     "execution_count": 243,
     "metadata": {},
     "output_type": "execute_result"
    }
   ],
   "source": [
    "# Class divide\n",
    "data['class_column'].value_counts()"
   ],
   "metadata": {
    "collapsed": false,
    "pycharm": {
     "name": "#%%\n"
    }
   }
  },
  {
   "cell_type": "code",
   "execution_count": 244,
   "outputs": [],
   "source": [
    "del (data['close'])\n",
    "del (data['close_shift'])\n",
    "data = data.dropna()\n",
    "train_set = data.iloc[:-ROWS_TO_PREDICT]\n",
    "test_set =data.iloc[-ROWS_TO_PREDICT:]"
   ],
   "metadata": {
    "collapsed": false,
    "pycharm": {
     "name": "#%%\n"
    }
   }
  },
  {
   "cell_type": "code",
   "execution_count": 245,
   "outputs": [
    {
     "data": {
      "text/plain": " 1    1392\n 0    1345\n-1    1327\nName: class_column, dtype: int64"
     },
     "execution_count": 245,
     "metadata": {},
     "output_type": "execute_result"
    }
   ],
   "source": [
    "data['class_column'].value_counts()"
   ],
   "metadata": {
    "collapsed": false,
    "pycharm": {
     "name": "#%%\n"
    }
   }
  },
  {
   "cell_type": "code",
   "execution_count": 246,
   "outputs": [],
   "source": [
    "y = data['class_column']\n",
    "features = [x for x in data.columns if x not in ['class_column']]\n",
    "x = data[features]\n",
    "\n",
    "x_train= x.iloc[:-ROWS_TO_PREDICT]\n",
    "y_train= y.iloc[:-ROWS_TO_PREDICT]\n",
    "x_test =x.iloc[-ROWS_TO_PREDICT:]\n",
    "y_test=y.iloc[-ROWS_TO_PREDICT:]"
   ],
   "metadata": {
    "collapsed": false,
    "pycharm": {
     "name": "#%%\n"
    }
   }
  },
  {
   "cell_type": "code",
   "execution_count": 247,
   "outputs": [],
   "source": [
    "classifiers = dict()\n",
    "\n",
    "classifiers['DecisionTreeClassifier 1'] = DecisionTreeClassifier(max_depth=10, random_state=0,criterion='gini',splitter='best')\n",
    "classifiers['DecisionTreeClassifier 2'] = DecisionTreeClassifier(max_depth=10, random_state=0,criterion='gini',splitter='random')\n",
    "classifiers['DecisionTreeClassifier 3'] = DecisionTreeClassifier(max_depth=10, random_state=0,criterion='entropy',splitter='best')\n",
    "classifiers['DecisionTreeClassifier 4'] = DecisionTreeClassifier(max_depth=10, random_state=0,criterion='entropy',splitter='random')\n",
    "classifiers['DecisionTreeClassifier 5'] = DecisionTreeClassifier(random_state=0,criterion='gini',splitter='best')\n",
    "classifiers['DecisionTreeClassifier 6'] = DecisionTreeClassifier(random_state=0,criterion='gini',splitter='random')\n",
    "classifiers['DecisionTreeClassifier 7'] = DecisionTreeClassifier(random_state=0,criterion='entropy',splitter='best')\n",
    "classifiers['DecisionTreeClassifier 8'] = DecisionTreeClassifier(random_state=0,criterion='entropy',splitter='random')\n",
    "\n",
    "classifiers['RandomForestClassifier 1'] = RandomForestClassifier(n_estimators=100, max_depth=2, random_state=0,criterion='gini')\n",
    "classifiers['RandomForestClassifier 2'] = RandomForestClassifier(n_estimators=1000, max_depth=2, random_state=0,criterion='gini')\n",
    "classifiers['RandomForestClassifier 3'] = RandomForestClassifier(n_estimators=100, max_depth=3, random_state=0,criterion='gini')\n",
    "classifiers['RandomForestClassifier 4'] = RandomForestClassifier(n_estimators=1000, max_depth=3, random_state=0,criterion='gini')\n",
    "classifiers['RandomForestClassifier 5'] = RandomForestClassifier(n_estimators=100, max_depth=2, random_state=0,criterion='entropy')\n",
    "classifiers['RandomForestClassifier 6'] = RandomForestClassifier(n_estimators=1000, max_depth=2, random_state=0,criterion='entropy')\n",
    "classifiers['RandomForestClassifier 7'] = RandomForestClassifier(n_estimators=100, max_depth=3, random_state=0,criterion='entropy')\n",
    "classifiers['RandomForestClassifier 8'] = RandomForestClassifier(n_estimators=1000, max_depth=3, random_state=0,criterion='entropy')\n",
    "\n",
    "classifiers['GradientBoostingClassifier 1'] = GradientBoostingClassifier(n_estimators=100,random_state=0,criterion='friedman_mse',max_depth=3, learning_rate=0.1)\n",
    "classifiers['GradientBoostingClassifier 2'] = GradientBoostingClassifier(n_estimators=100,random_state=0,criterion='friedman_mse',max_depth=3, learning_rate=0.3)\n",
    "classifiers['GradientBoostingClassifier 3'] = GradientBoostingClassifier(n_estimators=100,random_state=0,criterion='friedman_mse',max_depth=3, learning_rate=0.5)\n",
    "classifiers['GradientBoostingClassifier 4'] = GradientBoostingClassifier(n_estimators=100,random_state=0,criterion='friedman_mse',max_depth=3, learning_rate=1)\n",
    "#\n",
    "classifiers['GradientBoostingClassifier 5'] = GradientBoostingClassifier(n_estimators=1000,random_state=0,criterion='friedman_mse',max_depth=3, learning_rate=0.1)\n",
    "classifiers['GradientBoostingClassifier 6'] = GradientBoostingClassifier(n_estimators=1000,random_state=0,criterion='friedman_mse',max_depth=3, learning_rate=0.3)\n",
    "classifiers['GradientBoostingClassifier 7'] = GradientBoostingClassifier(n_estimators=1000,random_state=0,criterion='friedman_mse',max_depth=3, learning_rate=0.5)\n",
    "classifiers['GradientBoostingClassifier 8'] = GradientBoostingClassifier(n_estimators=1000,random_state=0,criterion='friedman_mse',max_depth=3, learning_rate=1)\n",
    "\n",
    "classifiers['GradientBoostingClassifier 9'] = GradientBoostingClassifier(n_estimators=1000,random_state=0,criterion='friedman_mse',max_depth=2, learning_rate=0.1)\n",
    "classifiers['GradientBoostingClassifier 10'] = GradientBoostingClassifier(n_estimators=1000,random_state=0,criterion='friedman_mse',max_depth=2, learning_rate=0.3)\n",
    "classifiers['GradientBoostingClassifier 11'] = GradientBoostingClassifier(n_estimators=1000,random_state=0,criterion='friedman_mse',max_depth=2, learning_rate=0.5)\n",
    "classifiers['GradientBoostingClassifier 12'] = GradientBoostingClassifier(n_estimators=1000,random_state=0,criterion='friedman_mse',max_depth=2, learning_rate=1)"
   ],
   "metadata": {
    "collapsed": false,
    "pycharm": {
     "name": "#%%\n"
    }
   }
  },
  {
   "cell_type": "code",
   "execution_count": 248,
   "outputs": [],
   "source": [
    "def print_conf_matrix(test_y, predict, name):\n",
    "    matrix = confusion_matrix(test_y, predict,  labels=[-1, 0, 1])\n",
    "    print(matrix)\n",
    "    ax= plt.subplot()\n",
    "    sn.heatmap(matrix, annot=True, ax = ax) #annot=True to annotate cells\n",
    "\n",
    "    # labels, title and ticks\n",
    "    ax.set_xlabel('Predicted labels', color='white')\n",
    "    ax.set_ylabel('True labels', color='white')\n",
    "    ax.set_title(f'Confusion Matrix for {name}' , color='white')\n",
    "    ax.xaxis.set_ticklabels(['-1','0', '1'], color='white')\n",
    "    ax.yaxis.set_ticklabels(['-1','0', '1'], color='white')\n",
    "    plt.show()\n",
    "\n",
    "def train_model(model,train_x, train_y):\n",
    "    model.fit(train_x, train_y)"
   ],
   "metadata": {
    "collapsed": false,
    "pycharm": {
     "name": "#%%\n"
    }
   }
  },
  {
   "cell_type": "code",
   "execution_count": 249,
   "outputs": [
    {
     "name": "stdout",
     "output_type": "stream",
     "text": [
      "Calculate:  DecisionTreeClassifier 1\n",
      "Score:  0.5333333333333333\n",
      "Calculate:  DecisionTreeClassifier 2\n",
      "Score:  0.4\n",
      "Calculate:  DecisionTreeClassifier 3\n",
      "Score:  0.4666666666666667\n",
      "Calculate:  DecisionTreeClassifier 4\n",
      "Score:  0.4\n",
      "Calculate:  DecisionTreeClassifier 5\n",
      "Score:  0.6\n",
      "Calculate:  DecisionTreeClassifier 6\n",
      "Score:  0.5333333333333333\n",
      "Calculate:  DecisionTreeClassifier 7\n",
      "Score:  0.4\n",
      "Calculate:  DecisionTreeClassifier 8\n",
      "Score:  0.5333333333333333\n",
      "Calculate:  RandomForestClassifier 1\n",
      "Score:  0.6666666666666666\n",
      "Calculate:  RandomForestClassifier 2\n",
      "Score:  0.6666666666666666\n",
      "Calculate:  RandomForestClassifier 3\n",
      "Score:  0.5333333333333333\n",
      "Calculate:  RandomForestClassifier 4\n",
      "Score:  0.6666666666666666\n",
      "Calculate:  RandomForestClassifier 5\n",
      "Score:  0.6666666666666666\n",
      "Calculate:  RandomForestClassifier 6\n",
      "Score:  0.6666666666666666\n",
      "Calculate:  RandomForestClassifier 7\n",
      "Score:  0.6\n",
      "Calculate:  RandomForestClassifier 8\n",
      "Score:  0.6666666666666666\n",
      "Calculate:  GradientBoostingClassifier 1\n",
      "Score:  0.2\n",
      "Calculate:  GradientBoostingClassifier 2\n",
      "Score:  0.26666666666666666\n",
      "Calculate:  GradientBoostingClassifier 3\n",
      "Score:  0.2\n",
      "Calculate:  GradientBoostingClassifier 4\n",
      "Score:  0.4\n",
      "Calculate:  GradientBoostingClassifier 5\n",
      "Score:  0.2\n",
      "Calculate:  GradientBoostingClassifier 6\n",
      "Score:  0.26666666666666666\n",
      "Calculate:  GradientBoostingClassifier 7\n",
      "Score:  0.2\n",
      "Calculate:  GradientBoostingClassifier 8\n",
      "Score:  0.4\n",
      "Calculate:  GradientBoostingClassifier 9\n",
      "Score:  0.26666666666666666\n",
      "Calculate:  GradientBoostingClassifier 10\n",
      "Score:  0.2\n",
      "Calculate:  GradientBoostingClassifier 11\n",
      "Score:  0.26666666666666666\n",
      "Calculate:  GradientBoostingClassifier 12\n",
      "Score:  0.3333333333333333\n",
      "+----+-------------------------------+------------+\n",
      "|    | Classifier type               |   Accuracy |\n",
      "|----+-------------------------------+------------|\n",
      "|  0 | DecisionTreeClassifier 1      |   0.533333 |\n",
      "|  1 | DecisionTreeClassifier 2      |   0.4      |\n",
      "|  2 | DecisionTreeClassifier 3      |   0.466667 |\n",
      "|  3 | DecisionTreeClassifier 4      |   0.4      |\n",
      "|  4 | DecisionTreeClassifier 5      |   0.6      |\n",
      "|  5 | DecisionTreeClassifier 6      |   0.533333 |\n",
      "|  6 | DecisionTreeClassifier 7      |   0.4      |\n",
      "|  7 | DecisionTreeClassifier 8      |   0.533333 |\n",
      "|  8 | RandomForestClassifier 1      |   0.666667 |\n",
      "|  9 | RandomForestClassifier 2      |   0.666667 |\n",
      "| 10 | RandomForestClassifier 3      |   0.533333 |\n",
      "| 11 | RandomForestClassifier 4      |   0.666667 |\n",
      "| 12 | RandomForestClassifier 5      |   0.666667 |\n",
      "| 13 | RandomForestClassifier 6      |   0.666667 |\n",
      "| 14 | RandomForestClassifier 7      |   0.6      |\n",
      "| 15 | RandomForestClassifier 8      |   0.666667 |\n",
      "| 16 | GradientBoostingClassifier 1  |   0.2      |\n",
      "| 17 | GradientBoostingClassifier 2  |   0.266667 |\n",
      "| 18 | GradientBoostingClassifier 3  |   0.2      |\n",
      "| 19 | GradientBoostingClassifier 4  |   0.4      |\n",
      "| 20 | GradientBoostingClassifier 5  |   0.2      |\n",
      "| 21 | GradientBoostingClassifier 6  |   0.266667 |\n",
      "| 22 | GradientBoostingClassifier 7  |   0.2      |\n",
      "| 23 | GradientBoostingClassifier 8  |   0.4      |\n",
      "| 24 | GradientBoostingClassifier 9  |   0.266667 |\n",
      "| 25 | GradientBoostingClassifier 10 |   0.2      |\n",
      "| 26 | GradientBoostingClassifier 11 |   0.266667 |\n",
      "| 27 | GradientBoostingClassifier 12 |   0.333333 |\n",
      "+----+-------------------------------+------------+\n"
     ]
    }
   ],
   "source": [
    "predictions= dict()\n",
    "score = dict()\n",
    "for k,v in classifiers.items():\n",
    "    print(\"Calculate: \", k)\n",
    "    train_model(v,x_train,y_train)\n",
    "    predictions[k] = v.predict(x_test)\n",
    "    score[k] = accuracy_score(y_test.values, predictions[k])\n",
    "    print('Score: ',  score[k] )\n",
    "    # print_conf_matrix(test_y, predictions[k], k)\n",
    "\n",
    "headers = [\"Classifier type\", \"Accuracy\"]\n",
    "score_df = pd.DataFrame(score.items(), columns=headers)\n",
    "print(tabulate(score_df, headers, tablefmt=\"psql\"))"
   ],
   "metadata": {
    "collapsed": false,
    "pycharm": {
     "name": "#%%\n"
    }
   }
  }
 ],
 "metadata": {
  "kernelspec": {
   "name": "magisterka_analiza",
   "language": "python",
   "display_name": "Python magisterka"
  },
  "language_info": {
   "codemirror_mode": {
    "name": "ipython",
    "version": 2
   },
   "file_extension": ".py",
   "mimetype": "text/x-python",
   "name": "python",
   "nbconvert_exporter": "python",
   "pygments_lexer": "ipython2",
   "version": "2.7.6"
  }
 },
 "nbformat": 4,
 "nbformat_minor": 0
}