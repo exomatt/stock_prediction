{
 "cells": [
  {
   "cell_type": "code",
   "execution_count": 22,
   "outputs": [],
   "source": [
    "import yfinance as yf\n",
    "from datetime import datetime\n",
    "import pandas as pd\n",
    "import numpy as np\n",
    "import matplotlib.pyplot as plt\n",
    "from finta import TA\n",
    "import numpy as np\n",
    "from sklearn.ensemble import RandomForestClassifier, VotingClassifier\n",
    "from sklearn.model_selection import GridSearchCV, train_test_split\n",
    "from sklearn.preprocessing import MinMaxScaler\n",
    "from sklearn.tree import DecisionTreeClassifier\n",
    "from sklearn.ensemble import GradientBoostingClassifier\n",
    "from sklearn.metrics import confusion_matrix, classification_report, accuracy_score\n",
    "from sklearn.metrics import jaccard_score\n",
    "import seaborn as sn\n",
    "from tabulate import tabulate\n",
    "from xgboost import XGBClassifier\n",
    "from ta import add_all_ta_features\n",
    "from sklearn.feature_selection import RFE"
   ],
   "metadata": {
    "collapsed": false,
    "pycharm": {
     "name": "#%%\n"
    }
   }
  },
  {
   "cell_type": "code",
   "execution_count": 23,
   "outputs": [],
   "source": [
    "WINDOW = 8 # number of rows to look ahead to see what the price did\n",
    "FETCH_INTERVAL = \"60m\"  # fetch data by interval (including intraday if period < 60 days)\n",
    "        # valid intervals: 1m,2m,5m,15m,30m,60m,90m,1h,1d,5d,1wk,1mo,3mo\n",
    "        # (optional, default is '1d')\n",
    "INTERVAL = '1y'     # use \"period\" instead of start/end\n",
    "        # valid periods: 1d,5d,1mo,3mo,6mo,1y,2y,5y,10y,ytd,max\n",
    "        # (optional, default is '1mo')\n",
    "symbol = 'AAPL'      # Symbol of the desired stock\n",
    "ROWS_TO_PREDICT = 128\n",
    "# one day 16 rows of data\n"
   ],
   "metadata": {
    "collapsed": false,
    "pycharm": {
     "name": "#%%\n"
    }
   }
  },
  {
   "cell_type": "code",
   "execution_count": 28,
   "outputs": [],
   "source": [
    "data = pd.read_csv(\n",
    "    'C:\\\\Users\\\\exomat\\\\Desktop\\\\repo\\\\magisterka_analiza\\\\data\\\\preprocess\\\\AAPL_16_21_04_2021 00_40_43_full.csv', index_col=\"Unnamed: 0\")"
   ],
   "metadata": {
    "collapsed": false,
    "pycharm": {
     "name": "#%%\n"
    }
   }
  },
  {
   "cell_type": "code",
   "execution_count": 29,
   "outputs": [
    {
     "data": {
      "text/plain": "            open        high         low       close   Adj Close    volume  \\\n0      56.220000   56.220000   55.500000   55.600000   55.600000         0   \n1      55.550000   56.095000   55.370000   55.700000   55.700000         0   \n2      56.032500   56.437500   55.937500   56.247500   56.247500         0   \n3      56.132500   56.750000   56.042500   56.595000   56.595000         0   \n4      56.550000   58.197500   55.625000   57.812500   57.812500         0   \n...          ...         ...         ...         ...         ...       ...   \n4178  123.425003  123.769997  123.040001  123.091103  123.091103  12373575   \n4179  123.090103  123.720001  123.080002  123.542000  123.542000   9430925   \n4180  123.544998  123.870003  123.275002  123.345001  123.345001  11354023   \n4181  123.339996  123.599998  123.019997  123.370003  123.370003  10684835   \n4182  123.390000  123.500000  122.803400  123.120000  123.120000   9642937   \n\n      close_pct  close_shift  class_column    volume_adi  ...  momentum_wr  \\\n0           NaN      56.8750             1 -0.000000e+00  ...   -86.111111   \n1      0.001799      58.4475             1 -0.000000e+00  ...   -61.176471   \n2      0.009829      58.5500             1  0.000000e+00  ...   -17.798595   \n3      0.006178      59.2225             1  0.000000e+00  ...   -11.231884   \n4      0.021513      58.3075             0  0.000000e+00  ...   -13.616269   \n...         ...          ...           ...           ...  ...          ...   \n4178  -0.002746          NaN             0  6.772166e+08  ...    -5.788523   \n4179   0.003663          NaN             0  6.814015e+08  ...    -1.943993   \n4180  -0.001595          NaN             0  6.727190e+08  ...   -13.392887   \n4181   0.000203          NaN             0  6.749298e+08  ...   -12.755093   \n4182  -0.002026          NaN             0  6.740522e+08  ...   -19.329954   \n\n      momentum_ao  momentum_kama  momentum_roc  momentum_ppo  \\\n0        0.000000      55.600000      0.000000      0.000000   \n1        0.000000      55.641486      0.000000      0.000000   \n2        0.000000      55.895109      0.000000      0.000000   \n3        0.000000      56.185689      0.000000      0.000000   \n4        0.000000      56.833695      0.000000      0.000000   \n...           ...            ...           ...           ...   \n4178     1.307150     122.417025      2.550281     17.274375   \n4179     1.853018     122.683125      2.960247     17.006940   \n4180     2.216141     122.806622      2.770373     18.299709   \n4181     2.310367     122.908690      2.119032     18.355886   \n4182     2.313878     122.942765      1.836228     17.232556   \n\n      momentum_ppo_signal  momentum_ppo_hist  others_dr  others_dlr  \\\n0                0.000000           0.000000 -47.864396    0.000000   \n1                0.000000           0.000000   0.179856    0.179695   \n2                0.000000           0.000000   0.982944    0.978145   \n3                0.000000           0.000000   0.617805    0.615905   \n4                0.000000           0.000000   2.151250    2.128437   \n...                   ...                ...        ...         ...   \n4178            -5.237322          22.511697  -0.274567   -0.274944   \n4179            -0.788469          17.795410   0.366312    0.365642   \n4180             3.029166          15.270543  -0.159459   -0.159586   \n4181             6.094510          12.261375   0.020270    0.020268   \n4182             8.322119           8.910436  -0.202645   -0.202850   \n\n       others_cr  \n0       0.000000  \n1       0.179856  \n2       1.164568  \n3       1.789568  \n4       3.979317  \n...          ...  \n4178  121.386875  \n4179  122.197841  \n4180  121.843527  \n4181  121.888494  \n4182  121.438849  \n\n[4183 rows x 92 columns]",
      "text/html": "<div>\n<style scoped>\n    .dataframe tbody tr th:only-of-type {\n        vertical-align: middle;\n    }\n\n    .dataframe tbody tr th {\n        vertical-align: top;\n    }\n\n    .dataframe thead th {\n        text-align: right;\n    }\n</style>\n<table border=\"1\" class=\"dataframe\">\n  <thead>\n    <tr style=\"text-align: right;\">\n      <th></th>\n      <th>open</th>\n      <th>high</th>\n      <th>low</th>\n      <th>close</th>\n      <th>Adj Close</th>\n      <th>volume</th>\n      <th>close_pct</th>\n      <th>close_shift</th>\n      <th>class_column</th>\n      <th>volume_adi</th>\n      <th>...</th>\n      <th>momentum_wr</th>\n      <th>momentum_ao</th>\n      <th>momentum_kama</th>\n      <th>momentum_roc</th>\n      <th>momentum_ppo</th>\n      <th>momentum_ppo_signal</th>\n      <th>momentum_ppo_hist</th>\n      <th>others_dr</th>\n      <th>others_dlr</th>\n      <th>others_cr</th>\n    </tr>\n  </thead>\n  <tbody>\n    <tr>\n      <th>0</th>\n      <td>56.220000</td>\n      <td>56.220000</td>\n      <td>55.500000</td>\n      <td>55.600000</td>\n      <td>55.600000</td>\n      <td>0</td>\n      <td>NaN</td>\n      <td>56.8750</td>\n      <td>1</td>\n      <td>-0.000000e+00</td>\n      <td>...</td>\n      <td>-86.111111</td>\n      <td>0.000000</td>\n      <td>55.600000</td>\n      <td>0.000000</td>\n      <td>0.000000</td>\n      <td>0.000000</td>\n      <td>0.000000</td>\n      <td>-47.864396</td>\n      <td>0.000000</td>\n      <td>0.000000</td>\n    </tr>\n    <tr>\n      <th>1</th>\n      <td>55.550000</td>\n      <td>56.095000</td>\n      <td>55.370000</td>\n      <td>55.700000</td>\n      <td>55.700000</td>\n      <td>0</td>\n      <td>0.001799</td>\n      <td>58.4475</td>\n      <td>1</td>\n      <td>-0.000000e+00</td>\n      <td>...</td>\n      <td>-61.176471</td>\n      <td>0.000000</td>\n      <td>55.641486</td>\n      <td>0.000000</td>\n      <td>0.000000</td>\n      <td>0.000000</td>\n      <td>0.000000</td>\n      <td>0.179856</td>\n      <td>0.179695</td>\n      <td>0.179856</td>\n    </tr>\n    <tr>\n      <th>2</th>\n      <td>56.032500</td>\n      <td>56.437500</td>\n      <td>55.937500</td>\n      <td>56.247500</td>\n      <td>56.247500</td>\n      <td>0</td>\n      <td>0.009829</td>\n      <td>58.5500</td>\n      <td>1</td>\n      <td>0.000000e+00</td>\n      <td>...</td>\n      <td>-17.798595</td>\n      <td>0.000000</td>\n      <td>55.895109</td>\n      <td>0.000000</td>\n      <td>0.000000</td>\n      <td>0.000000</td>\n      <td>0.000000</td>\n      <td>0.982944</td>\n      <td>0.978145</td>\n      <td>1.164568</td>\n    </tr>\n    <tr>\n      <th>3</th>\n      <td>56.132500</td>\n      <td>56.750000</td>\n      <td>56.042500</td>\n      <td>56.595000</td>\n      <td>56.595000</td>\n      <td>0</td>\n      <td>0.006178</td>\n      <td>59.2225</td>\n      <td>1</td>\n      <td>0.000000e+00</td>\n      <td>...</td>\n      <td>-11.231884</td>\n      <td>0.000000</td>\n      <td>56.185689</td>\n      <td>0.000000</td>\n      <td>0.000000</td>\n      <td>0.000000</td>\n      <td>0.000000</td>\n      <td>0.617805</td>\n      <td>0.615905</td>\n      <td>1.789568</td>\n    </tr>\n    <tr>\n      <th>4</th>\n      <td>56.550000</td>\n      <td>58.197500</td>\n      <td>55.625000</td>\n      <td>57.812500</td>\n      <td>57.812500</td>\n      <td>0</td>\n      <td>0.021513</td>\n      <td>58.3075</td>\n      <td>0</td>\n      <td>0.000000e+00</td>\n      <td>...</td>\n      <td>-13.616269</td>\n      <td>0.000000</td>\n      <td>56.833695</td>\n      <td>0.000000</td>\n      <td>0.000000</td>\n      <td>0.000000</td>\n      <td>0.000000</td>\n      <td>2.151250</td>\n      <td>2.128437</td>\n      <td>3.979317</td>\n    </tr>\n    <tr>\n      <th>...</th>\n      <td>...</td>\n      <td>...</td>\n      <td>...</td>\n      <td>...</td>\n      <td>...</td>\n      <td>...</td>\n      <td>...</td>\n      <td>...</td>\n      <td>...</td>\n      <td>...</td>\n      <td>...</td>\n      <td>...</td>\n      <td>...</td>\n      <td>...</td>\n      <td>...</td>\n      <td>...</td>\n      <td>...</td>\n      <td>...</td>\n      <td>...</td>\n      <td>...</td>\n      <td>...</td>\n    </tr>\n    <tr>\n      <th>4178</th>\n      <td>123.425003</td>\n      <td>123.769997</td>\n      <td>123.040001</td>\n      <td>123.091103</td>\n      <td>123.091103</td>\n      <td>12373575</td>\n      <td>-0.002746</td>\n      <td>NaN</td>\n      <td>0</td>\n      <td>6.772166e+08</td>\n      <td>...</td>\n      <td>-5.788523</td>\n      <td>1.307150</td>\n      <td>122.417025</td>\n      <td>2.550281</td>\n      <td>17.274375</td>\n      <td>-5.237322</td>\n      <td>22.511697</td>\n      <td>-0.274567</td>\n      <td>-0.274944</td>\n      <td>121.386875</td>\n    </tr>\n    <tr>\n      <th>4179</th>\n      <td>123.090103</td>\n      <td>123.720001</td>\n      <td>123.080002</td>\n      <td>123.542000</td>\n      <td>123.542000</td>\n      <td>9430925</td>\n      <td>0.003663</td>\n      <td>NaN</td>\n      <td>0</td>\n      <td>6.814015e+08</td>\n      <td>...</td>\n      <td>-1.943993</td>\n      <td>1.853018</td>\n      <td>122.683125</td>\n      <td>2.960247</td>\n      <td>17.006940</td>\n      <td>-0.788469</td>\n      <td>17.795410</td>\n      <td>0.366312</td>\n      <td>0.365642</td>\n      <td>122.197841</td>\n    </tr>\n    <tr>\n      <th>4180</th>\n      <td>123.544998</td>\n      <td>123.870003</td>\n      <td>123.275002</td>\n      <td>123.345001</td>\n      <td>123.345001</td>\n      <td>11354023</td>\n      <td>-0.001595</td>\n      <td>NaN</td>\n      <td>0</td>\n      <td>6.727190e+08</td>\n      <td>...</td>\n      <td>-13.392887</td>\n      <td>2.216141</td>\n      <td>122.806622</td>\n      <td>2.770373</td>\n      <td>18.299709</td>\n      <td>3.029166</td>\n      <td>15.270543</td>\n      <td>-0.159459</td>\n      <td>-0.159586</td>\n      <td>121.843527</td>\n    </tr>\n    <tr>\n      <th>4181</th>\n      <td>123.339996</td>\n      <td>123.599998</td>\n      <td>123.019997</td>\n      <td>123.370003</td>\n      <td>123.370003</td>\n      <td>10684835</td>\n      <td>0.000203</td>\n      <td>NaN</td>\n      <td>0</td>\n      <td>6.749298e+08</td>\n      <td>...</td>\n      <td>-12.755093</td>\n      <td>2.310367</td>\n      <td>122.908690</td>\n      <td>2.119032</td>\n      <td>18.355886</td>\n      <td>6.094510</td>\n      <td>12.261375</td>\n      <td>0.020270</td>\n      <td>0.020268</td>\n      <td>121.888494</td>\n    </tr>\n    <tr>\n      <th>4182</th>\n      <td>123.390000</td>\n      <td>123.500000</td>\n      <td>122.803400</td>\n      <td>123.120000</td>\n      <td>123.120000</td>\n      <td>9642937</td>\n      <td>-0.002026</td>\n      <td>NaN</td>\n      <td>0</td>\n      <td>6.740522e+08</td>\n      <td>...</td>\n      <td>-19.329954</td>\n      <td>2.313878</td>\n      <td>122.942765</td>\n      <td>1.836228</td>\n      <td>17.232556</td>\n      <td>8.322119</td>\n      <td>8.910436</td>\n      <td>-0.202645</td>\n      <td>-0.202850</td>\n      <td>121.438849</td>\n    </tr>\n  </tbody>\n</table>\n<p>4183 rows × 92 columns</p>\n</div>"
     },
     "execution_count": 29,
     "metadata": {},
     "output_type": "execute_result"
    }
   ],
   "source": [
    "data"
   ],
   "metadata": {
    "collapsed": false,
    "pycharm": {
     "name": "#%%\n"
    }
   }
  },
  {
   "cell_type": "code",
   "execution_count": 30,
   "outputs": [
    {
     "data": {
      "text/plain": "Index(['open', 'high', 'low', 'close', 'Adj Close', 'volume', 'close_pct',\n       'close_shift', 'class_column', 'volume_adi', 'volume_obv', 'volume_cmf',\n       'volume_fi', 'volume_mfi', 'volume_em', 'volume_sma_em', 'volume_vpt',\n       'volume_nvi', 'volume_vwap', 'volatility_atr', 'volatility_bbm',\n       'volatility_bbh', 'volatility_bbl', 'volatility_bbw', 'volatility_bbp',\n       'volatility_bbhi', 'volatility_bbli', 'volatility_kcc',\n       'volatility_kch', 'volatility_kcl', 'volatility_kcw', 'volatility_kcp',\n       'volatility_kchi', 'volatility_kcli', 'volatility_dcl',\n       'volatility_dch', 'volatility_dcm', 'volatility_dcw', 'volatility_dcp',\n       'volatility_ui', 'trend_macd', 'trend_macd_signal', 'trend_macd_diff',\n       'trend_sma_fast', 'trend_sma_slow', 'trend_ema_fast', 'trend_ema_slow',\n       'trend_adx', 'trend_adx_pos', 'trend_adx_neg', 'trend_vortex_ind_pos',\n       'trend_vortex_ind_neg', 'trend_vortex_ind_diff', 'trend_trix',\n       'trend_mass_index', 'trend_cci', 'trend_dpo', 'trend_kst',\n       'trend_kst_sig', 'trend_kst_diff', 'trend_ichimoku_conv',\n       'trend_ichimoku_base', 'trend_ichimoku_a', 'trend_ichimoku_b',\n       'trend_visual_ichimoku_a', 'trend_visual_ichimoku_b', 'trend_aroon_up',\n       'trend_aroon_down', 'trend_aroon_ind', 'trend_psar_up',\n       'trend_psar_down', 'trend_psar_up_indicator',\n       'trend_psar_down_indicator', 'trend_stc', 'momentum_rsi',\n       'momentum_stoch_rsi', 'momentum_stoch_rsi_k', 'momentum_stoch_rsi_d',\n       'momentum_tsi', 'momentum_uo', 'momentum_stoch',\n       'momentum_stoch_signal', 'momentum_wr', 'momentum_ao', 'momentum_kama',\n       'momentum_roc', 'momentum_ppo', 'momentum_ppo_signal',\n       'momentum_ppo_hist', 'others_dr', 'others_dlr', 'others_cr'],\n      dtype='object')"
     },
     "execution_count": 30,
     "metadata": {},
     "output_type": "execute_result"
    }
   ],
   "source": [
    "data.columns"
   ],
   "metadata": {
    "collapsed": false,
    "pycharm": {
     "name": "#%%\n"
    }
   }
  },
  {
   "cell_type": "code",
   "execution_count": 31,
   "outputs": [],
   "source": [
    "def create_class_column(row):\n",
    "    if row['close_shift']-row['close'] > 1.5:\n",
    "        return 1\n",
    "    if row['close_shift'] -row['close']< -1.5:\n",
    "        return -1\n",
    "    else:\n",
    "        return 0\n"
   ],
   "metadata": {
    "collapsed": false,
    "pycharm": {
     "name": "#%%\n"
    }
   }
  },
  {
   "cell_type": "code",
   "execution_count": 32,
   "outputs": [
    {
     "data": {
      "text/plain": " 1    1399\n 0    1396\n-1    1388\nName: class_column, dtype: int64"
     },
     "execution_count": 32,
     "metadata": {},
     "output_type": "execute_result"
    }
   ],
   "source": [
    "# Class divide\n",
    "data['class_column'].value_counts()"
   ],
   "metadata": {
    "collapsed": false,
    "pycharm": {
     "name": "#%%\n"
    }
   }
  },
  {
   "cell_type": "code",
   "execution_count": 33,
   "outputs": [],
   "source": [
    "del (data['close'])\n",
    "del (data['close_shift'])\n",
    "data = data.dropna()\n",
    "train_set = data.iloc[:-ROWS_TO_PREDICT]\n",
    "train_set = train_set.iloc[:-WINDOW] # optional drop last n rows (avoid of data leak)\n",
    "test_set =data.iloc[-ROWS_TO_PREDICT:]"
   ],
   "metadata": {
    "collapsed": false,
    "pycharm": {
     "name": "#%%\n"
    }
   }
  },
  {
   "cell_type": "code",
   "execution_count": 34,
   "outputs": [
    {
     "data": {
      "text/plain": " 1    1398\n 0    1396\n-1    1388\nName: class_column, dtype: int64"
     },
     "execution_count": 34,
     "metadata": {},
     "output_type": "execute_result"
    }
   ],
   "source": [
    "data['class_column'].value_counts()"
   ],
   "metadata": {
    "collapsed": false,
    "pycharm": {
     "name": "#%%\n"
    }
   }
  },
  {
   "cell_type": "code",
   "execution_count": 35,
   "outputs": [
    {
     "data": {
      "text/plain": "            open        high         low   Adj Close    volume  close_pct  \\\n1      55.550000   56.095000   55.370000   55.700000         0   0.001799   \n2      56.032500   56.437500   55.937500   56.247500         0   0.009829   \n3      56.132500   56.750000   56.042500   56.595000         0   0.006178   \n4      56.550000   58.197500   55.625000   57.812500         0   0.021513   \n5      57.837500   59.525000   56.887500   57.020000         0  -0.013708   \n...          ...         ...         ...         ...       ...        ...   \n4042  121.849998  121.949997  119.794998  119.930000  34515975  -0.016806   \n4043  119.919998  120.489998  119.470001  120.429298  18588318   0.004163   \n4044  120.419998  120.500000  119.794998  119.861000  11044540  -0.004719   \n4045  119.867500  120.410004  119.550003  120.327003  13045822   0.003888   \n4046  120.324997  120.480003  119.739998  120.309998  10712122  -0.000141   \n\n      class_column    volume_adi  volume_obv  volume_cmf  ...  momentum_wr  \\\n1                1 -0.000000e+00           0    0.000000  ...   -61.176471   \n2                1  0.000000e+00           0    0.000000  ...   -17.798595   \n3                1  0.000000e+00           0    0.000000  ...   -11.231884   \n4                0  0.000000e+00           0    0.000000  ...   -13.616269   \n5                1  0.000000e+00           0    0.000000  ...   -60.288809   \n...            ...           ...         ...         ...  ...          ...   \n4042             1  6.971709e+08  -225792131   -0.010447  ...   -54.542259   \n4043             1  7.135468e+08  -207203813    0.088152  ...   -51.346916   \n4044             1  7.045703e+08  -218248353    0.032596  ...   -54.983837   \n4045             1  7.150979e+08  -205202531    0.085172  ...   -52.001570   \n4046             1  7.208881e+08  -215914653   -0.066170  ...   -52.110402   \n\n      momentum_ao  momentum_kama  momentum_roc  momentum_ppo  \\\n1        0.000000      55.641486      0.000000      0.000000   \n2        0.000000      55.895109      0.000000      0.000000   \n3        0.000000      56.185689      0.000000      0.000000   \n4        0.000000      56.833695      0.000000      0.000000   \n5        0.137792      56.907320      0.000000      0.000000   \n...           ...            ...           ...           ...   \n4042     1.144553     120.287005     -1.011100      4.174922   \n4043     1.091641     120.288723     -1.064449     14.697685   \n4044     1.043391     120.278308     -1.006774     15.112980   \n4045     0.866795     120.279079     -0.597271     16.801027   \n4046     0.605722     120.279268     -0.717942     15.950082   \n\n      momentum_ppo_signal  momentum_ppo_hist  others_dr  others_dlr  \\\n1                0.000000           0.000000   0.179856    0.179695   \n2                0.000000           0.000000   0.982944    0.978145   \n3                0.000000           0.000000   0.617805    0.615905   \n4                0.000000           0.000000   2.151250    2.128437   \n5                0.000000           0.000000  -1.370811   -1.380293   \n...                   ...                ...        ...         ...   \n4042           -23.072724          27.247646  -1.680603   -1.694886   \n4043           -15.518642          30.216326   0.416325    0.415460   \n4044            -9.392318          24.505297  -0.471894   -0.473011   \n4045            -4.153649          20.954675   0.388787    0.388033   \n4046            -0.132903          16.082984  -0.014133   -0.014134   \n\n       others_cr  \n1       0.179856  \n2       1.164568  \n3       1.789568  \n4       3.979317  \n5       2.553957  \n...          ...  \n4042  115.701439  \n4043  116.599458  \n4044  115.577338  \n4045  116.415474  \n4046  116.384888  \n\n[4046 rows x 90 columns]",
      "text/html": "<div>\n<style scoped>\n    .dataframe tbody tr th:only-of-type {\n        vertical-align: middle;\n    }\n\n    .dataframe tbody tr th {\n        vertical-align: top;\n    }\n\n    .dataframe thead th {\n        text-align: right;\n    }\n</style>\n<table border=\"1\" class=\"dataframe\">\n  <thead>\n    <tr style=\"text-align: right;\">\n      <th></th>\n      <th>open</th>\n      <th>high</th>\n      <th>low</th>\n      <th>Adj Close</th>\n      <th>volume</th>\n      <th>close_pct</th>\n      <th>class_column</th>\n      <th>volume_adi</th>\n      <th>volume_obv</th>\n      <th>volume_cmf</th>\n      <th>...</th>\n      <th>momentum_wr</th>\n      <th>momentum_ao</th>\n      <th>momentum_kama</th>\n      <th>momentum_roc</th>\n      <th>momentum_ppo</th>\n      <th>momentum_ppo_signal</th>\n      <th>momentum_ppo_hist</th>\n      <th>others_dr</th>\n      <th>others_dlr</th>\n      <th>others_cr</th>\n    </tr>\n  </thead>\n  <tbody>\n    <tr>\n      <th>1</th>\n      <td>55.550000</td>\n      <td>56.095000</td>\n      <td>55.370000</td>\n      <td>55.700000</td>\n      <td>0</td>\n      <td>0.001799</td>\n      <td>1</td>\n      <td>-0.000000e+00</td>\n      <td>0</td>\n      <td>0.000000</td>\n      <td>...</td>\n      <td>-61.176471</td>\n      <td>0.000000</td>\n      <td>55.641486</td>\n      <td>0.000000</td>\n      <td>0.000000</td>\n      <td>0.000000</td>\n      <td>0.000000</td>\n      <td>0.179856</td>\n      <td>0.179695</td>\n      <td>0.179856</td>\n    </tr>\n    <tr>\n      <th>2</th>\n      <td>56.032500</td>\n      <td>56.437500</td>\n      <td>55.937500</td>\n      <td>56.247500</td>\n      <td>0</td>\n      <td>0.009829</td>\n      <td>1</td>\n      <td>0.000000e+00</td>\n      <td>0</td>\n      <td>0.000000</td>\n      <td>...</td>\n      <td>-17.798595</td>\n      <td>0.000000</td>\n      <td>55.895109</td>\n      <td>0.000000</td>\n      <td>0.000000</td>\n      <td>0.000000</td>\n      <td>0.000000</td>\n      <td>0.982944</td>\n      <td>0.978145</td>\n      <td>1.164568</td>\n    </tr>\n    <tr>\n      <th>3</th>\n      <td>56.132500</td>\n      <td>56.750000</td>\n      <td>56.042500</td>\n      <td>56.595000</td>\n      <td>0</td>\n      <td>0.006178</td>\n      <td>1</td>\n      <td>0.000000e+00</td>\n      <td>0</td>\n      <td>0.000000</td>\n      <td>...</td>\n      <td>-11.231884</td>\n      <td>0.000000</td>\n      <td>56.185689</td>\n      <td>0.000000</td>\n      <td>0.000000</td>\n      <td>0.000000</td>\n      <td>0.000000</td>\n      <td>0.617805</td>\n      <td>0.615905</td>\n      <td>1.789568</td>\n    </tr>\n    <tr>\n      <th>4</th>\n      <td>56.550000</td>\n      <td>58.197500</td>\n      <td>55.625000</td>\n      <td>57.812500</td>\n      <td>0</td>\n      <td>0.021513</td>\n      <td>0</td>\n      <td>0.000000e+00</td>\n      <td>0</td>\n      <td>0.000000</td>\n      <td>...</td>\n      <td>-13.616269</td>\n      <td>0.000000</td>\n      <td>56.833695</td>\n      <td>0.000000</td>\n      <td>0.000000</td>\n      <td>0.000000</td>\n      <td>0.000000</td>\n      <td>2.151250</td>\n      <td>2.128437</td>\n      <td>3.979317</td>\n    </tr>\n    <tr>\n      <th>5</th>\n      <td>57.837500</td>\n      <td>59.525000</td>\n      <td>56.887500</td>\n      <td>57.020000</td>\n      <td>0</td>\n      <td>-0.013708</td>\n      <td>1</td>\n      <td>0.000000e+00</td>\n      <td>0</td>\n      <td>0.000000</td>\n      <td>...</td>\n      <td>-60.288809</td>\n      <td>0.137792</td>\n      <td>56.907320</td>\n      <td>0.000000</td>\n      <td>0.000000</td>\n      <td>0.000000</td>\n      <td>0.000000</td>\n      <td>-1.370811</td>\n      <td>-1.380293</td>\n      <td>2.553957</td>\n    </tr>\n    <tr>\n      <th>...</th>\n      <td>...</td>\n      <td>...</td>\n      <td>...</td>\n      <td>...</td>\n      <td>...</td>\n      <td>...</td>\n      <td>...</td>\n      <td>...</td>\n      <td>...</td>\n      <td>...</td>\n      <td>...</td>\n      <td>...</td>\n      <td>...</td>\n      <td>...</td>\n      <td>...</td>\n      <td>...</td>\n      <td>...</td>\n      <td>...</td>\n      <td>...</td>\n      <td>...</td>\n      <td>...</td>\n    </tr>\n    <tr>\n      <th>4042</th>\n      <td>121.849998</td>\n      <td>121.949997</td>\n      <td>119.794998</td>\n      <td>119.930000</td>\n      <td>34515975</td>\n      <td>-0.016806</td>\n      <td>1</td>\n      <td>6.971709e+08</td>\n      <td>-225792131</td>\n      <td>-0.010447</td>\n      <td>...</td>\n      <td>-54.542259</td>\n      <td>1.144553</td>\n      <td>120.287005</td>\n      <td>-1.011100</td>\n      <td>4.174922</td>\n      <td>-23.072724</td>\n      <td>27.247646</td>\n      <td>-1.680603</td>\n      <td>-1.694886</td>\n      <td>115.701439</td>\n    </tr>\n    <tr>\n      <th>4043</th>\n      <td>119.919998</td>\n      <td>120.489998</td>\n      <td>119.470001</td>\n      <td>120.429298</td>\n      <td>18588318</td>\n      <td>0.004163</td>\n      <td>1</td>\n      <td>7.135468e+08</td>\n      <td>-207203813</td>\n      <td>0.088152</td>\n      <td>...</td>\n      <td>-51.346916</td>\n      <td>1.091641</td>\n      <td>120.288723</td>\n      <td>-1.064449</td>\n      <td>14.697685</td>\n      <td>-15.518642</td>\n      <td>30.216326</td>\n      <td>0.416325</td>\n      <td>0.415460</td>\n      <td>116.599458</td>\n    </tr>\n    <tr>\n      <th>4044</th>\n      <td>120.419998</td>\n      <td>120.500000</td>\n      <td>119.794998</td>\n      <td>119.861000</td>\n      <td>11044540</td>\n      <td>-0.004719</td>\n      <td>1</td>\n      <td>7.045703e+08</td>\n      <td>-218248353</td>\n      <td>0.032596</td>\n      <td>...</td>\n      <td>-54.983837</td>\n      <td>1.043391</td>\n      <td>120.278308</td>\n      <td>-1.006774</td>\n      <td>15.112980</td>\n      <td>-9.392318</td>\n      <td>24.505297</td>\n      <td>-0.471894</td>\n      <td>-0.473011</td>\n      <td>115.577338</td>\n    </tr>\n    <tr>\n      <th>4045</th>\n      <td>119.867500</td>\n      <td>120.410004</td>\n      <td>119.550003</td>\n      <td>120.327003</td>\n      <td>13045822</td>\n      <td>0.003888</td>\n      <td>1</td>\n      <td>7.150979e+08</td>\n      <td>-205202531</td>\n      <td>0.085172</td>\n      <td>...</td>\n      <td>-52.001570</td>\n      <td>0.866795</td>\n      <td>120.279079</td>\n      <td>-0.597271</td>\n      <td>16.801027</td>\n      <td>-4.153649</td>\n      <td>20.954675</td>\n      <td>0.388787</td>\n      <td>0.388033</td>\n      <td>116.415474</td>\n    </tr>\n    <tr>\n      <th>4046</th>\n      <td>120.324997</td>\n      <td>120.480003</td>\n      <td>119.739998</td>\n      <td>120.309998</td>\n      <td>10712122</td>\n      <td>-0.000141</td>\n      <td>1</td>\n      <td>7.208881e+08</td>\n      <td>-215914653</td>\n      <td>-0.066170</td>\n      <td>...</td>\n      <td>-52.110402</td>\n      <td>0.605722</td>\n      <td>120.279268</td>\n      <td>-0.717942</td>\n      <td>15.950082</td>\n      <td>-0.132903</td>\n      <td>16.082984</td>\n      <td>-0.014133</td>\n      <td>-0.014134</td>\n      <td>116.384888</td>\n    </tr>\n  </tbody>\n</table>\n<p>4046 rows × 90 columns</p>\n</div>"
     },
     "execution_count": 35,
     "metadata": {},
     "output_type": "execute_result"
    }
   ],
   "source": [
    "train_set"
   ],
   "metadata": {
    "collapsed": false,
    "pycharm": {
     "name": "#%%\n"
    }
   }
  },
  {
   "cell_type": "code",
   "execution_count": 36,
   "outputs": [],
   "source": [
    "y = data['class_column']\n",
    "features = [x for x in data.columns if x not in ['class_column']]\n",
    "x = data[features]\n",
    "scaler = MinMaxScaler()\n",
    "# x = pd.DataFrame(scaler.fit_transform(x.values), columns=x.columns, index=x.index)\n",
    "x_train= x.iloc[:-ROWS_TO_PREDICT]\n",
    "y_train= y.iloc[:-ROWS_TO_PREDICT]\n",
    "x_test =x.iloc[-ROWS_TO_PREDICT:]\n",
    "y_test=y.iloc[-ROWS_TO_PREDICT:]"
   ],
   "metadata": {
    "collapsed": false,
    "pycharm": {
     "name": "#%%\n"
    }
   }
  },
  {
   "cell_type": "code",
   "execution_count": 37,
   "outputs": [],
   "source": [
    "classifiers = dict()\n",
    "\n",
    "classifiers['DecisionTreeClassifier 1'] = DecisionTreeClassifier(max_depth=10, random_state=0,criterion='gini',splitter='best')\n",
    "classifiers['DecisionTreeClassifier 2'] = DecisionTreeClassifier(max_depth=10, random_state=0,criterion='gini',splitter='random')\n",
    "classifiers['DecisionTreeClassifier 3'] = DecisionTreeClassifier(max_depth=10, random_state=0,criterion='entropy',splitter='best')\n",
    "classifiers['RandomForestClassifier 4'] = RandomForestClassifier(n_estimators=1000, max_depth=3, random_state=0,criterion='gini', n_jobs = -1)\n",
    "classifiers['RandomForestClassifier 5'] = RandomForestClassifier(n_estimators=100, max_depth=2, random_state=0,criterion='entropy', n_jobs = -1)\n",
    "classifiers['GradientBoostingClassifier 1'] = GradientBoostingClassifier(n_estimators=100,random_state=0,criterion='friedman_mse',max_depth=3, learning_rate=0.1)\n",
    "classifiers['GradientBoostingClassifier 2'] = GradientBoostingClassifier(n_estimators=1000,random_state=0,criterion='friedman_mse',max_depth=3, learning_rate=0.1)"
   ],
   "metadata": {
    "collapsed": false,
    "pycharm": {
     "name": "#%%\n"
    }
   }
  },
  {
   "cell_type": "code",
   "execution_count": 38,
   "outputs": [],
   "source": [
    "def print_conf_matrix(test_y, predict, name):\n",
    "    matrix = confusion_matrix(test_y, predict,  labels=[-1, 0, 1])\n",
    "    print(matrix)\n",
    "    ax= plt.subplot()\n",
    "    sn.heatmap(matrix, annot=True, ax = ax) #annot=True to annotate cells\n",
    "\n",
    "    # labels, title and ticks\n",
    "    ax.set_xlabel('Predicted labels', color='white')\n",
    "    ax.set_ylabel('True labels', color='white')\n",
    "    ax.set_title(f'Confusion Matrix for {name}' , color='white')\n",
    "    ax.xaxis.set_ticklabels(['-1','0', '1'], color='white')\n",
    "    ax.yaxis.set_ticklabels(['-1','0', '1'], color='white')\n",
    "    plt.show()\n",
    "\n",
    "def train_model(model,train_x, train_y):\n",
    "    model.fit(train_x, train_y)"
   ],
   "metadata": {
    "collapsed": false,
    "pycharm": {
     "name": "#%%\n"
    }
   }
  },
  {
   "cell_type": "code",
   "execution_count": 39,
   "outputs": [
    {
     "name": "stdout",
     "output_type": "stream",
     "text": [
      "Calculate:  DecisionTreeClassifier 1\n",
      "Score:  0.3828125\n",
      "Calculate:  DecisionTreeClassifier 2\n",
      "Score:  0.2734375\n",
      "Calculate:  DecisionTreeClassifier 3\n",
      "Score:  0.34375\n",
      "Calculate:  RandomForestClassifier 4\n",
      "Score:  0.421875\n",
      "Calculate:  RandomForestClassifier 5\n",
      "Score:  0.421875\n",
      "Calculate:  GradientBoostingClassifier 1\n",
      "Score:  0.390625\n",
      "Calculate:  GradientBoostingClassifier 2\n",
      "Score:  0.421875\n",
      "+----+------------------------------+------------+\n",
      "|    | Classifier type              |   Accuracy |\n",
      "|----+------------------------------+------------|\n",
      "|  0 | DecisionTreeClassifier 1     |   0.382812 |\n",
      "|  1 | DecisionTreeClassifier 2     |   0.273438 |\n",
      "|  2 | DecisionTreeClassifier 3     |   0.34375  |\n",
      "|  3 | RandomForestClassifier 4     |   0.421875 |\n",
      "|  4 | RandomForestClassifier 5     |   0.421875 |\n",
      "|  5 | GradientBoostingClassifier 1 |   0.390625 |\n",
      "|  6 | GradientBoostingClassifier 2 |   0.421875 |\n",
      "+----+------------------------------+------------+\n"
     ]
    }
   ],
   "source": [
    "predictions= dict()\n",
    "score = dict()\n",
    "for k,v in classifiers.items():\n",
    "    print(\"Calculate: \", k)\n",
    "    train_model(v,x_train,y_train)\n",
    "    predictions[k] = v.predict(x_test)\n",
    "    score[k] = accuracy_score(y_test.values, predictions[k])\n",
    "    print('Score: ',  score[k] )\n",
    "    # print_conf_matrix(test_y, predictions[k], k)\n",
    "\n",
    "headers = [\"Classifier type\", \"Accuracy\"]\n",
    "score_df = pd.DataFrame(score.items(), columns=headers)\n",
    "print(tabulate(score_df, headers, tablefmt=\"psql\"))\n"
   ],
   "metadata": {
    "collapsed": false,
    "pycharm": {
     "name": "#%%\n"
    }
   }
  },
  {
   "cell_type": "code",
   "execution_count": 40,
   "outputs": [],
   "source": [
    "filename_to_export = f'../data/results/{symbol}_1_{WINDOW}_{ROWS_TO_PREDICT}_{ datetime.now().strftime(\"%d_%m_%Y %H_%M_%S\")}.csv'\n",
    "score_df.to_csv(filename_to_export, index=False)"
   ],
   "metadata": {
    "collapsed": false,
    "pycharm": {
     "name": "#%%\n"
    }
   }
  },
  {
   "cell_type": "code",
   "execution_count": 41,
   "outputs": [
    {
     "name": "stderr",
     "output_type": "stream",
     "text": [
      "C:\\Users\\exomat\\anaconda3\\envs\\magisterka_analiza\\lib\\site-packages\\sklearn\\utils\\validation.py:67: FutureWarning: Pass n_features_to_select=10 as keyword args. From version 0.25 passing these as positional arguments will result in an error\n",
      "  warnings.warn(\"Pass {} as keyword args. From version 0.25 \"\n"
     ]
    },
    {
     "data": {
      "text/plain": "RFE(estimator=RandomForestClassifier(criterion='entropy', max_depth=2,\n                                     n_jobs=-1, random_state=0),\n    n_features_to_select=10)"
     },
     "execution_count": 41,
     "metadata": {},
     "output_type": "execute_result"
    }
   ],
   "source": [
    "rfe = RFE(classifiers['RandomForestClassifier 5'],10)\n",
    "fited = rfe.fit(x_train, y_train)\n",
    "rfe"
   ],
   "metadata": {
    "collapsed": false,
    "pycharm": {
     "name": "#%%\n"
    }
   }
  },
  {
   "cell_type": "code",
   "execution_count": 42,
   "outputs": [
    {
     "name": "stdout",
     "output_type": "stream",
     "text": [
      "Columns with predictive power: ['high', 'volume_obv', 'volatility_kch', 'volatility_dch', 'trend_macd', 'trend_ichimoku_b', 'trend_visual_ichimoku_a', 'trend_psar_down', 'momentum_ao', 'momentum_kama']\n"
     ]
    }
   ],
   "source": [
    "names = x.columns\n",
    "columns=[]\n",
    "for i in range(len(fited.support_)):\n",
    "    if fited.support_[i]:\n",
    "        columns.append(names[i])\n",
    "\n",
    "print(\"Columns with predictive power:\", columns )"
   ],
   "metadata": {
    "collapsed": false,
    "pycharm": {
     "name": "#%%\n"
    }
   }
  },
  {
   "cell_type": "code",
   "execution_count": 43,
   "outputs": [
    {
     "data": {
      "text/plain": "          high  volume_obv  volatility_kch  volatility_dch  trend_macd  \\\n1      56.0950           0       56.470000        56.22000    0.007977   \n2      56.4375           0       56.549167        56.43750    0.057811   \n3      56.7500           0       56.704375        56.75000    0.123917   \n4      58.1975           0       57.320333        58.19750    0.271420   \n5      59.5250           0       57.841667        59.52500    0.320672   \n...        ...         ...             ...             ...         ...   \n4050  121.9103  -215126765      122.195959       128.45267   -0.296163   \n4051  120.2000  -215126765      121.869292       128.45267   -0.228849   \n4052  122.5900  -215126765      121.930626       128.45267    0.009973   \n4053  122.6000  -215126765      122.093983       124.92175    0.197769   \n4054  122.9000  -215126765      122.330283       122.90000    0.346637   \n\n      trend_ichimoku_b  trend_visual_ichimoku_a  trend_psar_down  momentum_ao  \\\n1            55.795000               106.371461        -1.000000     0.000000   \n2            55.903750               106.371461        -1.000000     0.000000   \n3            56.060000               106.371461        -1.000000     0.000000   \n4            56.783750               106.371461        -1.000000     0.000000   \n5            57.447500               106.371461        -1.000000     0.137792   \n...                ...                      ...              ...          ...   \n4050        118.865263               115.798393       124.696701    -0.717044   \n4051        118.865263               115.798393       124.231534    -0.750632   \n4052        118.865263               115.798393       123.784973    -0.646386   \n4053        118.865263               117.379171       123.356275    -0.369091   \n4054        118.865263               117.379171       122.944725     0.646012   \n\n      momentum_kama  \n1         55.641486  \n2         55.895109  \n3         56.185689  \n4         56.833695  \n5         56.907320  \n...             ...  \n4050     119.511745  \n4051     119.523453  \n4052     119.599707  \n4053     119.659735  \n4054     119.745654  \n\n[4054 rows x 10 columns]",
      "text/html": "<div>\n<style scoped>\n    .dataframe tbody tr th:only-of-type {\n        vertical-align: middle;\n    }\n\n    .dataframe tbody tr th {\n        vertical-align: top;\n    }\n\n    .dataframe thead th {\n        text-align: right;\n    }\n</style>\n<table border=\"1\" class=\"dataframe\">\n  <thead>\n    <tr style=\"text-align: right;\">\n      <th></th>\n      <th>high</th>\n      <th>volume_obv</th>\n      <th>volatility_kch</th>\n      <th>volatility_dch</th>\n      <th>trend_macd</th>\n      <th>trend_ichimoku_b</th>\n      <th>trend_visual_ichimoku_a</th>\n      <th>trend_psar_down</th>\n      <th>momentum_ao</th>\n      <th>momentum_kama</th>\n    </tr>\n  </thead>\n  <tbody>\n    <tr>\n      <th>1</th>\n      <td>56.0950</td>\n      <td>0</td>\n      <td>56.470000</td>\n      <td>56.22000</td>\n      <td>0.007977</td>\n      <td>55.795000</td>\n      <td>106.371461</td>\n      <td>-1.000000</td>\n      <td>0.000000</td>\n      <td>55.641486</td>\n    </tr>\n    <tr>\n      <th>2</th>\n      <td>56.4375</td>\n      <td>0</td>\n      <td>56.549167</td>\n      <td>56.43750</td>\n      <td>0.057811</td>\n      <td>55.903750</td>\n      <td>106.371461</td>\n      <td>-1.000000</td>\n      <td>0.000000</td>\n      <td>55.895109</td>\n    </tr>\n    <tr>\n      <th>3</th>\n      <td>56.7500</td>\n      <td>0</td>\n      <td>56.704375</td>\n      <td>56.75000</td>\n      <td>0.123917</td>\n      <td>56.060000</td>\n      <td>106.371461</td>\n      <td>-1.000000</td>\n      <td>0.000000</td>\n      <td>56.185689</td>\n    </tr>\n    <tr>\n      <th>4</th>\n      <td>58.1975</td>\n      <td>0</td>\n      <td>57.320333</td>\n      <td>58.19750</td>\n      <td>0.271420</td>\n      <td>56.783750</td>\n      <td>106.371461</td>\n      <td>-1.000000</td>\n      <td>0.000000</td>\n      <td>56.833695</td>\n    </tr>\n    <tr>\n      <th>5</th>\n      <td>59.5250</td>\n      <td>0</td>\n      <td>57.841667</td>\n      <td>59.52500</td>\n      <td>0.320672</td>\n      <td>57.447500</td>\n      <td>106.371461</td>\n      <td>-1.000000</td>\n      <td>0.137792</td>\n      <td>56.907320</td>\n    </tr>\n    <tr>\n      <th>...</th>\n      <td>...</td>\n      <td>...</td>\n      <td>...</td>\n      <td>...</td>\n      <td>...</td>\n      <td>...</td>\n      <td>...</td>\n      <td>...</td>\n      <td>...</td>\n      <td>...</td>\n    </tr>\n    <tr>\n      <th>4050</th>\n      <td>121.9103</td>\n      <td>-215126765</td>\n      <td>122.195959</td>\n      <td>128.45267</td>\n      <td>-0.296163</td>\n      <td>118.865263</td>\n      <td>115.798393</td>\n      <td>124.696701</td>\n      <td>-0.717044</td>\n      <td>119.511745</td>\n    </tr>\n    <tr>\n      <th>4051</th>\n      <td>120.2000</td>\n      <td>-215126765</td>\n      <td>121.869292</td>\n      <td>128.45267</td>\n      <td>-0.228849</td>\n      <td>118.865263</td>\n      <td>115.798393</td>\n      <td>124.231534</td>\n      <td>-0.750632</td>\n      <td>119.523453</td>\n    </tr>\n    <tr>\n      <th>4052</th>\n      <td>122.5900</td>\n      <td>-215126765</td>\n      <td>121.930626</td>\n      <td>128.45267</td>\n      <td>0.009973</td>\n      <td>118.865263</td>\n      <td>115.798393</td>\n      <td>123.784973</td>\n      <td>-0.646386</td>\n      <td>119.599707</td>\n    </tr>\n    <tr>\n      <th>4053</th>\n      <td>122.6000</td>\n      <td>-215126765</td>\n      <td>122.093983</td>\n      <td>124.92175</td>\n      <td>0.197769</td>\n      <td>118.865263</td>\n      <td>117.379171</td>\n      <td>123.356275</td>\n      <td>-0.369091</td>\n      <td>119.659735</td>\n    </tr>\n    <tr>\n      <th>4054</th>\n      <td>122.9000</td>\n      <td>-215126765</td>\n      <td>122.330283</td>\n      <td>122.90000</td>\n      <td>0.346637</td>\n      <td>118.865263</td>\n      <td>117.379171</td>\n      <td>122.944725</td>\n      <td>0.646012</td>\n      <td>119.745654</td>\n    </tr>\n  </tbody>\n</table>\n<p>4054 rows × 10 columns</p>\n</div>"
     },
     "execution_count": 43,
     "metadata": {},
     "output_type": "execute_result"
    }
   ],
   "source": [
    "x_test_cropped = x_test[columns]\n",
    "x_train_cropped = x_train[columns]\n",
    "x_train_cropped"
   ],
   "metadata": {
    "collapsed": false,
    "pycharm": {
     "name": "#%%\n"
    }
   }
  },
  {
   "cell_type": "code",
   "execution_count": 44,
   "outputs": [],
   "source": [
    "classifiers_boosted = dict()\n",
    "classifiers_boosted['GradientBoostingClassifier 1'] = GradientBoostingClassifier(n_estimators=100,random_state=0,criterion='friedman_mse',max_depth=3, learning_rate=0.1)\n",
    "classifiers_boosted['GradientBoostingClassifier 2'] = GradientBoostingClassifier(n_estimators=1000,random_state=0,criterion='friedman_mse',max_depth=3, learning_rate=0.3)\n",
    "classifiers_boosted['GradientBoostingClassifier 3'] = GradientBoostingClassifier(n_estimators=1000,random_state=0,criterion='friedman_mse',max_depth=2, learning_rate=0.5)\n",
    "classifiers_boosted['GradientBoostingClassifier 4'] = GradientBoostingClassifier(n_estimators=1000,random_state=0,criterion='friedman_mse',max_depth=2, learning_rate=0.8)"
   ],
   "metadata": {
    "collapsed": false,
    "pycharm": {
     "name": "#%%\n"
    }
   }
  },
  {
   "cell_type": "code",
   "execution_count": 45,
   "outputs": [
    {
     "name": "stdout",
     "output_type": "stream",
     "text": [
      "Calculate:  GradientBoostingClassifier 1\n",
      "Score:  0.5234375\n",
      "Calculate:  GradientBoostingClassifier 2\n",
      "Score:  0.515625\n",
      "Calculate:  GradientBoostingClassifier 3\n",
      "Score:  0.4140625\n",
      "Calculate:  GradientBoostingClassifier 4\n",
      "Score:  0.4609375\n",
      "+----+------------------------------+------------+\n",
      "|    | Classifier type              |   Accuracy |\n",
      "|----+------------------------------+------------|\n",
      "|  0 | GradientBoostingClassifier 1 |   0.523438 |\n",
      "|  1 | GradientBoostingClassifier 2 |   0.515625 |\n",
      "|  2 | GradientBoostingClassifier 3 |   0.414062 |\n",
      "|  3 | GradientBoostingClassifier 4 |   0.460938 |\n",
      "+----+------------------------------+------------+\n"
     ]
    }
   ],
   "source": [
    "predictions= dict()\n",
    "score = dict()\n",
    "for k,v in classifiers_boosted.items():\n",
    "    print(\"Calculate: \", k)\n",
    "    train_model(v,x_train_cropped,y_train)\n",
    "    predictions[k] = v.predict(x_test_cropped)\n",
    "    score[k] = accuracy_score(y_test.values, predictions[k])\n",
    "    print('Score: ',  score[k] )\n",
    "    # print_conf_matrix(test_y, predictions[k], k)\n",
    "\n",
    "headers = [\"Classifier type\", \"Accuracy\"]\n",
    "score_df = pd.DataFrame(score.items(), columns=headers)\n",
    "print(tabulate(score_df, headers, tablefmt=\"psql\"))"
   ],
   "metadata": {
    "collapsed": false,
    "pycharm": {
     "name": "#%%\n"
    }
   }
  },
  {
   "cell_type": "code",
   "execution_count": 46,
   "outputs": [],
   "source": [
    "score_df.to_csv(filename_to_export,mode='a', index=False)"
   ],
   "metadata": {
    "collapsed": false,
    "pycharm": {
     "name": "#%%\n"
    }
   }
  },
  {
   "cell_type": "code",
   "execution_count": null,
   "outputs": [],
   "source": [],
   "metadata": {
    "collapsed": false,
    "pycharm": {
     "name": "#%%\n"
    }
   }
  }
 ],
 "metadata": {
  "kernelspec": {
   "name": "magisterka_analiza",
   "language": "python",
   "display_name": "Python magisterka"
  },
  "language_info": {
   "codemirror_mode": {
    "name": "ipython",
    "version": 2
   },
   "file_extension": ".py",
   "mimetype": "text/x-python",
   "name": "python",
   "nbconvert_exporter": "python",
   "pygments_lexer": "ipython2",
   "version": "2.7.6"
  }
 },
 "nbformat": 4,
 "nbformat_minor": 0
}