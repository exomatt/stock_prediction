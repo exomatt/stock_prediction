{
 "cells": [
  {
   "cell_type": "code",
   "execution_count": 200,
   "outputs": [],
   "source": [
    "import yfinance as yf\n",
    "from datetime import datetime\n",
    "import pandas as pd\n",
    "import numpy as np\n",
    "import matplotlib.pyplot as plt\n",
    "from finta import TA\n",
    "import numpy as np\n",
    "from sklearn.ensemble import RandomForestClassifier, VotingClassifier\n",
    "from sklearn.model_selection import GridSearchCV, train_test_split\n",
    "from sklearn.preprocessing import MinMaxScaler\n",
    "from sklearn.tree import DecisionTreeClassifier\n",
    "from sklearn.ensemble import GradientBoostingClassifier\n",
    "from sklearn.metrics import confusion_matrix, classification_report, accuracy_score\n",
    "from sklearn.metrics import jaccard_score\n",
    "import seaborn as sn\n",
    "from tabulate import tabulate\n",
    "from xgboost import XGBClassifier\n",
    "from ta import add_all_ta_features\n",
    "from sklearn.feature_selection import RFE"
   ],
   "metadata": {
    "collapsed": false,
    "pycharm": {
     "name": "#%%\n"
    }
   }
  },
  {
   "cell_type": "code",
   "execution_count": 201,
   "outputs": [],
   "source": [
    "WINDOW = 8 # number of rows to look ahead to see what the price did\n",
    "FETCH_INTERVAL = \"60m\"  # fetch data by interval (including intraday if period < 60 days)\n",
    "        # valid intervals: 1m,2m,5m,15m,30m,60m,90m,1h,1d,5d,1wk,1mo,3mo\n",
    "        # (optional, default is '1d')\n",
    "INTERVAL = '1y'     # use \"period\" instead of start/end\n",
    "        # valid periods: 1d,5d,1mo,3mo,6mo,1y,2y,5y,10y,ytd,max\n",
    "        # (optional, default is '1mo')\n",
    "symbol = 'AAPL'      # Symbol of the desired stock\n",
    "INDICATORS = ['RSI', 'MACD', 'STOCH','ADL', 'ATR', 'MOM', 'MFI', 'ROC', 'CCI', 'VORTEX','WILLIAMS','OBV']\n",
    "ROWS_TO_PREDICT = 128\n",
    "# one day 16 rows of data"
   ],
   "metadata": {
    "collapsed": false,
    "pycharm": {
     "name": "#%%\n"
    }
   }
  },
  {
   "cell_type": "code",
   "execution_count": 202,
   "outputs": [
    {
     "name": "stdout",
     "output_type": "stream",
     "text": [
      "[*********************100%***********************]  1 of 1 completed\n"
     ]
    }
   ],
   "source": [
    "data = yf.download(  # or pdr.get_data_yahoo(...\n",
    "        tickers = symbol,\n",
    "\n",
    "\n",
    "        period = INTERVAL,\n",
    "\n",
    "        interval = FETCH_INTERVAL,\n",
    "\n",
    "        # group by ticker (to access via data['SPY'])\n",
    "        # (optional, default is 'column')\n",
    "        group_by = 'ticker',\n",
    "\n",
    "        # adjust all OHLC automatically\n",
    "        # (optional, default is False)\n",
    "        # auto_adjust = True,\n",
    "\n",
    "        # download pre/post regular market hours data\n",
    "        # (optional, default is False)\n",
    "        prepost = True,\n",
    "\n",
    "        # use threads for mass downloading? (True/False/Integer)\n",
    "        # (optional, default is True)\n",
    "        threads = True,\n",
    "\n",
    "        # proxy URL scheme use use when downloading?\n",
    "        # (optional, default is None)\n",
    "        proxy = None\n",
    "    )\n",
    "data\n",
    "data.to_csv(f'../data/preprocess/APPLE_{ datetime.now().strftime(\"%d_%m_%Y %H_%M_%S\")}.csv', index=False)"
   ],
   "metadata": {
    "collapsed": false,
    "pycharm": {
     "name": "#%%\n"
    }
   }
  },
  {
   "cell_type": "code",
   "execution_count": 203,
   "outputs": [
    {
     "data": {
      "text/plain": "                                open       high        low      close  \\\nDatetime                                                                \n2020-03-23 04:00:00-04:00  56.220000  56.220000  55.500000  55.600000   \n2020-03-23 05:00:00-04:00  55.550000  56.095000  55.370000  55.700000   \n2020-03-23 06:00:00-04:00  56.032500  56.437500  55.937500  56.247500   \n2020-03-23 07:00:00-04:00  56.132500  56.750000  56.042500  56.595000   \n2020-03-23 08:00:00-04:00  56.550000  58.197500  55.625000  57.812500   \n2020-03-23 09:00:00-04:00  57.837500  59.525000  56.887500  57.020000   \n2020-03-23 09:30:00-04:00  56.299999  56.750000  54.823750  55.450001   \n2020-03-23 10:30:00-04:00  55.465000  55.889999  53.412498  53.767502   \n2020-03-23 11:30:00-04:00  53.762501  55.097500  53.152500  54.803925   \n2020-03-23 12:30:00-04:00  54.823875  56.775002  54.472500  55.486252   \n\n                           Adj Close    volume  \nDatetime                                        \n2020-03-23 04:00:00-04:00  55.600000         0  \n2020-03-23 05:00:00-04:00  55.700000         0  \n2020-03-23 06:00:00-04:00  56.247500         0  \n2020-03-23 07:00:00-04:00  56.595000         0  \n2020-03-23 08:00:00-04:00  57.812500         0  \n2020-03-23 09:00:00-04:00  57.020000         0  \n2020-03-23 09:30:00-04:00  55.450001  21473989  \n2020-03-23 10:30:00-04:00  53.767502  11306818  \n2020-03-23 11:30:00-04:00  54.803925  11355189  \n2020-03-23 12:30:00-04:00  55.486252  10671797  ",
      "text/html": "<div>\n<style scoped>\n    .dataframe tbody tr th:only-of-type {\n        vertical-align: middle;\n    }\n\n    .dataframe tbody tr th {\n        vertical-align: top;\n    }\n\n    .dataframe thead th {\n        text-align: right;\n    }\n</style>\n<table border=\"1\" class=\"dataframe\">\n  <thead>\n    <tr style=\"text-align: right;\">\n      <th></th>\n      <th>open</th>\n      <th>high</th>\n      <th>low</th>\n      <th>close</th>\n      <th>Adj Close</th>\n      <th>volume</th>\n    </tr>\n    <tr>\n      <th>Datetime</th>\n      <th></th>\n      <th></th>\n      <th></th>\n      <th></th>\n      <th></th>\n      <th></th>\n    </tr>\n  </thead>\n  <tbody>\n    <tr>\n      <th>2020-03-23 04:00:00-04:00</th>\n      <td>56.220000</td>\n      <td>56.220000</td>\n      <td>55.500000</td>\n      <td>55.600000</td>\n      <td>55.600000</td>\n      <td>0</td>\n    </tr>\n    <tr>\n      <th>2020-03-23 05:00:00-04:00</th>\n      <td>55.550000</td>\n      <td>56.095000</td>\n      <td>55.370000</td>\n      <td>55.700000</td>\n      <td>55.700000</td>\n      <td>0</td>\n    </tr>\n    <tr>\n      <th>2020-03-23 06:00:00-04:00</th>\n      <td>56.032500</td>\n      <td>56.437500</td>\n      <td>55.937500</td>\n      <td>56.247500</td>\n      <td>56.247500</td>\n      <td>0</td>\n    </tr>\n    <tr>\n      <th>2020-03-23 07:00:00-04:00</th>\n      <td>56.132500</td>\n      <td>56.750000</td>\n      <td>56.042500</td>\n      <td>56.595000</td>\n      <td>56.595000</td>\n      <td>0</td>\n    </tr>\n    <tr>\n      <th>2020-03-23 08:00:00-04:00</th>\n      <td>56.550000</td>\n      <td>58.197500</td>\n      <td>55.625000</td>\n      <td>57.812500</td>\n      <td>57.812500</td>\n      <td>0</td>\n    </tr>\n    <tr>\n      <th>2020-03-23 09:00:00-04:00</th>\n      <td>57.837500</td>\n      <td>59.525000</td>\n      <td>56.887500</td>\n      <td>57.020000</td>\n      <td>57.020000</td>\n      <td>0</td>\n    </tr>\n    <tr>\n      <th>2020-03-23 09:30:00-04:00</th>\n      <td>56.299999</td>\n      <td>56.750000</td>\n      <td>54.823750</td>\n      <td>55.450001</td>\n      <td>55.450001</td>\n      <td>21473989</td>\n    </tr>\n    <tr>\n      <th>2020-03-23 10:30:00-04:00</th>\n      <td>55.465000</td>\n      <td>55.889999</td>\n      <td>53.412498</td>\n      <td>53.767502</td>\n      <td>53.767502</td>\n      <td>11306818</td>\n    </tr>\n    <tr>\n      <th>2020-03-23 11:30:00-04:00</th>\n      <td>53.762501</td>\n      <td>55.097500</td>\n      <td>53.152500</td>\n      <td>54.803925</td>\n      <td>54.803925</td>\n      <td>11355189</td>\n    </tr>\n    <tr>\n      <th>2020-03-23 12:30:00-04:00</th>\n      <td>54.823875</td>\n      <td>56.775002</td>\n      <td>54.472500</td>\n      <td>55.486252</td>\n      <td>55.486252</td>\n      <td>10671797</td>\n    </tr>\n  </tbody>\n</table>\n</div>"
     },
     "execution_count": 203,
     "metadata": {},
     "output_type": "execute_result"
    }
   ],
   "source": [
    "data.rename(columns={\"Close\": 'close', \"High\": 'high', \"Low\": 'low', 'Volume': 'volume', 'Open': 'open'}, inplace=True)\n",
    "data.head(10)"
   ],
   "metadata": {
    "collapsed": false,
    "pycharm": {
     "name": "#%%\n"
    }
   }
  },
  {
   "cell_type": "code",
   "execution_count": 204,
   "outputs": [
    {
     "data": {
      "text/plain": "<AxesSubplot:xlabel='Datetime'>"
     },
     "execution_count": 204,
     "metadata": {},
     "output_type": "execute_result"
    },
    {
     "data": {
      "text/plain": "<Figure size 432x288 with 1 Axes>",
      "image/png": "[encoded data removed]"
     },
     "metadata": {
      "needs_background": "light"
     },
     "output_type": "display_data"
    }
   ],
   "source": [
    "data['close'].plot()"
   ],
   "metadata": {
    "collapsed": false,
    "pycharm": {
     "name": "#%%\n"
    }
   }
  },
  {
   "cell_type": "code",
   "execution_count": 205,
   "outputs": [
    {
     "data": {
      "text/plain": "                              open     high      low    close  Adj Close  \\\nDatetime                                                                   \n2020-03-23 04:00:00-04:00  56.2200  56.2200  55.5000  55.6000    55.6000   \n2020-03-23 05:00:00-04:00  55.5500  56.0950  55.3700  55.7000    55.7000   \n2020-03-23 06:00:00-04:00  56.0325  56.4375  55.9375  56.2475    56.2475   \n2020-03-23 07:00:00-04:00  56.1325  56.7500  56.0425  56.5950    56.5950   \n2020-03-23 08:00:00-04:00  56.5500  58.1975  55.6250  57.8125    57.8125   \n\n                           volume  close_pct  \nDatetime                                      \n2020-03-23 04:00:00-04:00       0        NaN  \n2020-03-23 05:00:00-04:00       0   0.001799  \n2020-03-23 06:00:00-04:00       0   0.009829  \n2020-03-23 07:00:00-04:00       0   0.006178  \n2020-03-23 08:00:00-04:00       0   0.021513  ",
      "text/html": "<div>\n<style scoped>\n    .dataframe tbody tr th:only-of-type {\n        vertical-align: middle;\n    }\n\n    .dataframe tbody tr th {\n        vertical-align: top;\n    }\n\n    .dataframe thead th {\n        text-align: right;\n    }\n</style>\n<table border=\"1\" class=\"dataframe\">\n  <thead>\n    <tr style=\"text-align: right;\">\n      <th></th>\n      <th>open</th>\n      <th>high</th>\n      <th>low</th>\n      <th>close</th>\n      <th>Adj Close</th>\n      <th>volume</th>\n      <th>close_pct</th>\n    </tr>\n    <tr>\n      <th>Datetime</th>\n      <th></th>\n      <th></th>\n      <th></th>\n      <th></th>\n      <th></th>\n      <th></th>\n      <th></th>\n    </tr>\n  </thead>\n  <tbody>\n    <tr>\n      <th>2020-03-23 04:00:00-04:00</th>\n      <td>56.2200</td>\n      <td>56.2200</td>\n      <td>55.5000</td>\n      <td>55.6000</td>\n      <td>55.6000</td>\n      <td>0</td>\n      <td>NaN</td>\n    </tr>\n    <tr>\n      <th>2020-03-23 05:00:00-04:00</th>\n      <td>55.5500</td>\n      <td>56.0950</td>\n      <td>55.3700</td>\n      <td>55.7000</td>\n      <td>55.7000</td>\n      <td>0</td>\n      <td>0.001799</td>\n    </tr>\n    <tr>\n      <th>2020-03-23 06:00:00-04:00</th>\n      <td>56.0325</td>\n      <td>56.4375</td>\n      <td>55.9375</td>\n      <td>56.2475</td>\n      <td>56.2475</td>\n      <td>0</td>\n      <td>0.009829</td>\n    </tr>\n    <tr>\n      <th>2020-03-23 07:00:00-04:00</th>\n      <td>56.1325</td>\n      <td>56.7500</td>\n      <td>56.0425</td>\n      <td>56.5950</td>\n      <td>56.5950</td>\n      <td>0</td>\n      <td>0.006178</td>\n    </tr>\n    <tr>\n      <th>2020-03-23 08:00:00-04:00</th>\n      <td>56.5500</td>\n      <td>58.1975</td>\n      <td>55.6250</td>\n      <td>57.8125</td>\n      <td>57.8125</td>\n      <td>0</td>\n      <td>0.021513</td>\n    </tr>\n  </tbody>\n</table>\n</div>"
     },
     "execution_count": 205,
     "metadata": {},
     "output_type": "execute_result"
    }
   ],
   "source": [
    "data['close_pct'] = data['close'].pct_change();\n",
    "data.head()"
   ],
   "metadata": {
    "collapsed": false,
    "pycharm": {
     "name": "#%%\n"
    }
   }
  },
  {
   "cell_type": "code",
   "execution_count": 206,
   "outputs": [
    {
     "data": {
      "text/plain": "              open         high          low        close    Adj Close  \\\ncount  4184.000000  4184.000000  4184.000000  4184.000000  4184.000000   \nmean    106.647825   107.170705   106.050904   106.648910   106.648910   \nstd      22.416630    23.118204    22.316115    22.400804    22.400804   \nmin      53.762501    55.097500    50.978220    53.767502    53.767502   \n25%      88.079375    88.343750    87.816876    88.091250    88.091250   \n50%     114.907500   115.243150   114.210000   114.900050   114.900050   \n75%     123.512501   124.200000   122.819998   123.481253   123.481253   \nmax     144.900000   438.440000   144.590000   144.910000   144.910000   \n\n             volume    close_pct  \ncount  4.184000e+03  4183.000000  \nmean   4.712896e+06     0.000208  \nstd    8.306687e+06     0.005947  \nmin    0.000000e+00    -0.051319  \n25%    0.000000e+00    -0.002031  \n50%    0.000000e+00     0.000165  \n75%    7.035310e+06     0.002525  \nmax    9.845401e+07     0.051457  ",
      "text/html": "<div>\n<style scoped>\n    .dataframe tbody tr th:only-of-type {\n        vertical-align: middle;\n    }\n\n    .dataframe tbody tr th {\n        vertical-align: top;\n    }\n\n    .dataframe thead th {\n        text-align: right;\n    }\n</style>\n<table border=\"1\" class=\"dataframe\">\n  <thead>\n    <tr style=\"text-align: right;\">\n      <th></th>\n      <th>open</th>\n      <th>high</th>\n      <th>low</th>\n      <th>close</th>\n      <th>Adj Close</th>\n      <th>volume</th>\n      <th>close_pct</th>\n    </tr>\n  </thead>\n  <tbody>\n    <tr>\n      <th>count</th>\n      <td>4184.000000</td>\n      <td>4184.000000</td>\n      <td>4184.000000</td>\n      <td>4184.000000</td>\n      <td>4184.000000</td>\n      <td>4.184000e+03</td>\n      <td>4183.000000</td>\n    </tr>\n    <tr>\n      <th>mean</th>\n      <td>106.647825</td>\n      <td>107.170705</td>\n      <td>106.050904</td>\n      <td>106.648910</td>\n      <td>106.648910</td>\n      <td>4.712896e+06</td>\n      <td>0.000208</td>\n    </tr>\n    <tr>\n      <th>std</th>\n      <td>22.416630</td>\n      <td>23.118204</td>\n      <td>22.316115</td>\n      <td>22.400804</td>\n      <td>22.400804</td>\n      <td>8.306687e+06</td>\n      <td>0.005947</td>\n    </tr>\n    <tr>\n      <th>min</th>\n      <td>53.762501</td>\n      <td>55.097500</td>\n      <td>50.978220</td>\n      <td>53.767502</td>\n      <td>53.767502</td>\n      <td>0.000000e+00</td>\n      <td>-0.051319</td>\n    </tr>\n    <tr>\n      <th>25%</th>\n      <td>88.079375</td>\n      <td>88.343750</td>\n      <td>87.816876</td>\n      <td>88.091250</td>\n      <td>88.091250</td>\n      <td>0.000000e+00</td>\n      <td>-0.002031</td>\n    </tr>\n    <tr>\n      <th>50%</th>\n      <td>114.907500</td>\n      <td>115.243150</td>\n      <td>114.210000</td>\n      <td>114.900050</td>\n      <td>114.900050</td>\n      <td>0.000000e+00</td>\n      <td>0.000165</td>\n    </tr>\n    <tr>\n      <th>75%</th>\n      <td>123.512501</td>\n      <td>124.200000</td>\n      <td>122.819998</td>\n      <td>123.481253</td>\n      <td>123.481253</td>\n      <td>7.035310e+06</td>\n      <td>0.002525</td>\n    </tr>\n    <tr>\n      <th>max</th>\n      <td>144.900000</td>\n      <td>438.440000</td>\n      <td>144.590000</td>\n      <td>144.910000</td>\n      <td>144.910000</td>\n      <td>9.845401e+07</td>\n      <td>0.051457</td>\n    </tr>\n  </tbody>\n</table>\n</div>"
     },
     "execution_count": 206,
     "metadata": {},
     "output_type": "execute_result"
    }
   ],
   "source": [
    "data.describe()"
   ],
   "metadata": {
    "collapsed": false,
    "pycharm": {
     "name": "#%%\n"
    }
   }
  },
  {
   "cell_type": "code",
   "execution_count": 207,
   "outputs": [
    {
     "name": "stderr",
     "output_type": "stream",
     "text": [
      "C:\\Users\\exomat\\anaconda3\\envs\\magisterka_analiza\\lib\\site-packages\\ta\\trend.py:768: RuntimeWarning: invalid value encountered in double_scalars\n",
      "  dip[i] = 100 * (self._dip[i] / self._trs[i])\n",
      "C:\\Users\\exomat\\anaconda3\\envs\\magisterka_analiza\\lib\\site-packages\\ta\\trend.py:772: RuntimeWarning: invalid value encountered in double_scalars\n",
      "  din[i] = 100 * (self._din[i] / self._trs[i])\n"
     ]
    }
   ],
   "source": [
    "def _get_indicator_data(data):\n",
    "    \"\"\"\n",
    "    Function that uses the finta API to calculate technical indicators used as the features\n",
    "    :return:\n",
    "    \"\"\"\n",
    "\n",
    "\n",
    "    data = add_all_ta_features(\n",
    "    data, open=\"open\", high=\"high\", low=\"low\", close=\"close\", volume=\"volume\", fillna=True)\n",
    "\n",
    "    # Instead of using the actual volume value (which changes over time), we normalize it with a moving volume average\n",
    "    # data['normVol'] = data['volume'] / data['volume'].ewm(5).mean()\n",
    "    # for i in range(1,50):\n",
    "    #     data[f'close{i}'] = data['close'].shift(i)\n",
    "    # Remove columns that won't be used as features\n",
    "    del (data['open'])\n",
    "    del (data['high'])\n",
    "    del (data['low'])\n",
    "    # del (data['volume'])\n",
    "    del (data['Adj Close'])\n",
    "\n",
    "    return data\n",
    "\n",
    "data = _get_indicator_data(data)"
   ],
   "metadata": {
    "collapsed": false,
    "pycharm": {
     "name": "#%%\n"
    }
   }
  },
  {
   "cell_type": "code",
   "execution_count": 208,
   "outputs": [
    {
     "data": {
      "text/plain": "                                close    volume  close_pct    volume_adi  \\\nDatetime                                                                   \n2020-03-23 04:00:00-04:00   55.600000         0        NaN -0.000000e+00   \n2020-03-23 05:00:00-04:00   55.700000         0   0.001799 -0.000000e+00   \n2020-03-23 06:00:00-04:00   56.247500         0   0.009829  0.000000e+00   \n2020-03-23 07:00:00-04:00   56.595000         0   0.006178  0.000000e+00   \n2020-03-23 08:00:00-04:00   57.812500         0   0.021513  0.000000e+00   \n...                               ...       ...        ...           ...   \n2021-03-22 13:30:00-04:00  123.542000   9430925   0.003663  6.814015e+08   \n2021-03-22 14:30:00-04:00  123.345001  11354023  -0.001595  6.727190e+08   \n2021-03-22 15:30:00-04:00  123.370003  10684835   0.000203  6.749298e+08   \n2021-03-22 16:00:00-04:00  123.100000   9642937  -0.002189  6.734985e+08   \n2021-03-22 17:00:00-04:00  123.145000         0   0.000366  6.734985e+08   \n\n                           volume_obv  volume_cmf     volume_fi  volume_mfi  \\\nDatetime                                                                      \n2020-03-23 04:00:00-04:00           0    0.000000  0.000000e+00   50.000000   \n2020-03-23 05:00:00-04:00           0    0.000000  0.000000e+00   50.000000   \n2020-03-23 06:00:00-04:00           0    0.000000  0.000000e+00   50.000000   \n2020-03-23 07:00:00-04:00           0    0.000000  0.000000e+00   50.000000   \n2020-03-23 08:00:00-04:00           0    0.000000  0.000000e+00   50.000000   \n...                               ...         ...           ...         ...   \n2021-03-22 13:30:00-04:00  -295204416    0.073995  3.995690e+06  100.000000   \n2021-03-22 14:30:00-04:00  -306558439   -0.022353  3.105345e+06  100.000000   \n2021-03-22 15:30:00-04:00  -295873604    0.039436  2.699886e+06   88.424942   \n2021-03-22 16:00:00-04:00  -305516541    0.043732  1.942243e+06   80.073449   \n2021-03-22 17:00:00-04:00  -305516541    0.061620  1.664779e+06   80.073449   \n\n                           volume_em  volume_sma_em  ...  momentum_wr  \\\nDatetime                                             ...                \n2020-03-23 04:00:00-04:00   0.000000       0.000000  ...   -86.111111   \n2020-03-23 05:00:00-04:00   0.000000       0.000000  ...   -61.176471   \n2020-03-23 06:00:00-04:00   0.000000       0.000000  ...   -17.798595   \n2020-03-23 07:00:00-04:00   0.000000       0.000000  ...   -11.231884   \n2020-03-23 08:00:00-04:00   0.000000       0.000000  ...   -13.616269   \n...                              ...            ...  ...          ...   \n2021-03-22 13:30:00-04:00  -0.033912       4.115061  ...    -1.943993   \n2021-03-22 14:30:00-04:00   0.903980       3.579881  ...   -13.392887   \n2021-03-22 15:30:00-04:00  -1.424946       2.864906  ...   -12.755093   \n2021-03-22 16:00:00-04:00  -1.143532       2.363851  ...   -19.845418   \n2021-03-22 17:00:00-04:00  -1.143532       2.363851  ...    -8.399983   \n\n                           momentum_ao  momentum_kama  momentum_roc  \\\nDatetime                                                              \n2020-03-23 04:00:00-04:00     0.000000      55.600000      0.000000   \n2020-03-23 05:00:00-04:00     0.000000      55.643072      0.000000   \n2020-03-23 06:00:00-04:00     0.000000      55.898564      0.000000   \n2020-03-23 07:00:00-04:00     0.000000      56.194338      0.000000   \n2020-03-23 08:00:00-04:00     0.000000      56.832525      0.000000   \n...                                ...            ...           ...   \n2021-03-22 13:30:00-04:00     1.853018     122.683125      2.960247   \n2021-03-22 14:30:00-04:00     2.216141     122.806622      2.770373   \n2021-03-22 15:30:00-04:00     2.310367     122.908690      2.119032   \n2021-03-22 16:00:00-04:00     2.313878     122.938827      1.819686   \n2021-03-22 17:00:00-04:00     1.535058     122.974558      1.747501   \n\n                           momentum_ppo  momentum_ppo_signal  \\\nDatetime                                                       \n2020-03-23 04:00:00-04:00      0.000000             0.000000   \n2020-03-23 05:00:00-04:00      0.000000             0.000000   \n2020-03-23 06:00:00-04:00      0.000000             0.000000   \n2020-03-23 07:00:00-04:00      0.000000             0.000000   \n2020-03-23 08:00:00-04:00      0.000000             0.000000   \n...                                 ...                  ...   \n2021-03-22 13:30:00-04:00     17.006940            -0.788469   \n2021-03-22 14:30:00-04:00     18.299709             3.029166   \n2021-03-22 15:30:00-04:00     18.355886             6.094510   \n2021-03-22 16:00:00-04:00     17.232556             8.322119   \n2021-03-22 17:00:00-04:00      7.132520             8.084199   \n\n                           momentum_ppo_hist  others_dr  others_dlr  \\\nDatetime                                                              \n2020-03-23 04:00:00-04:00           0.000000 -47.866321    0.000000   \n2020-03-23 05:00:00-04:00           0.000000   0.179856    0.179695   \n2020-03-23 06:00:00-04:00           0.000000   0.982944    0.978145   \n2020-03-23 07:00:00-04:00           0.000000   0.617805    0.615905   \n2020-03-23 08:00:00-04:00           0.000000   2.151250    2.128437   \n...                                      ...        ...         ...   \n2021-03-22 13:30:00-04:00          17.795410   0.366312    0.365642   \n2021-03-22 14:30:00-04:00          15.270543  -0.159459   -0.159586   \n2021-03-22 15:30:00-04:00          12.261375   0.020270    0.020268   \n2021-03-22 16:00:00-04:00           8.910436  -0.218856   -0.219096   \n2021-03-22 17:00:00-04:00          -0.951679   0.036556    0.036549   \n\n                            others_cr  \nDatetime                               \n2020-03-23 04:00:00-04:00    0.000000  \n2020-03-23 05:00:00-04:00    0.179856  \n2020-03-23 06:00:00-04:00    1.164568  \n2020-03-23 07:00:00-04:00    1.789568  \n2020-03-23 08:00:00-04:00    3.979317  \n...                               ...  \n2021-03-22 13:30:00-04:00  122.197841  \n2021-03-22 14:30:00-04:00  121.843527  \n2021-03-22 15:30:00-04:00  121.888494  \n2021-03-22 16:00:00-04:00  121.402878  \n2021-03-22 17:00:00-04:00  121.483813  \n\n[4184 rows x 86 columns]",
      "text/html": "<div>\n<style scoped>\n    .dataframe tbody tr th:only-of-type {\n        vertical-align: middle;\n    }\n\n    .dataframe tbody tr th {\n        vertical-align: top;\n    }\n\n    .dataframe thead th {\n        text-align: right;\n    }\n</style>\n<table border=\"1\" class=\"dataframe\">\n  <thead>\n    <tr style=\"text-align: right;\">\n      <th></th>\n      <th>close</th>\n      <th>volume</th>\n      <th>close_pct</th>\n      <th>volume_adi</th>\n      <th>volume_obv</th>\n      <th>volume_cmf</th>\n      <th>volume_fi</th>\n      <th>volume_mfi</th>\n      <th>volume_em</th>\n      <th>volume_sma_em</th>\n      <th>...</th>\n      <th>momentum_wr</th>\n      <th>momentum_ao</th>\n      <th>momentum_kama</th>\n      <th>momentum_roc</th>\n      <th>momentum_ppo</th>\n      <th>momentum_ppo_signal</th>\n      <th>momentum_ppo_hist</th>\n      <th>others_dr</th>\n      <th>others_dlr</th>\n      <th>others_cr</th>\n    </tr>\n    <tr>\n      <th>Datetime</th>\n      <th></th>\n      <th></th>\n      <th></th>\n      <th></th>\n      <th></th>\n      <th></th>\n      <th></th>\n      <th></th>\n      <th></th>\n      <th></th>\n      <th></th>\n      <th></th>\n      <th></th>\n      <th></th>\n      <th></th>\n      <th></th>\n      <th></th>\n      <th></th>\n      <th></th>\n      <th></th>\n      <th></th>\n    </tr>\n  </thead>\n  <tbody>\n    <tr>\n      <th>2020-03-23 04:00:00-04:00</th>\n      <td>55.600000</td>\n      <td>0</td>\n      <td>NaN</td>\n      <td>-0.000000e+00</td>\n      <td>0</td>\n      <td>0.000000</td>\n      <td>0.000000e+00</td>\n      <td>50.000000</td>\n      <td>0.000000</td>\n      <td>0.000000</td>\n      <td>...</td>\n      <td>-86.111111</td>\n      <td>0.000000</td>\n      <td>55.600000</td>\n      <td>0.000000</td>\n      <td>0.000000</td>\n      <td>0.000000</td>\n      <td>0.000000</td>\n      <td>-47.866321</td>\n      <td>0.000000</td>\n      <td>0.000000</td>\n    </tr>\n    <tr>\n      <th>2020-03-23 05:00:00-04:00</th>\n      <td>55.700000</td>\n      <td>0</td>\n      <td>0.001799</td>\n      <td>-0.000000e+00</td>\n      <td>0</td>\n      <td>0.000000</td>\n      <td>0.000000e+00</td>\n      <td>50.000000</td>\n      <td>0.000000</td>\n      <td>0.000000</td>\n      <td>...</td>\n      <td>-61.176471</td>\n      <td>0.000000</td>\n      <td>55.643072</td>\n      <td>0.000000</td>\n      <td>0.000000</td>\n      <td>0.000000</td>\n      <td>0.000000</td>\n      <td>0.179856</td>\n      <td>0.179695</td>\n      <td>0.179856</td>\n    </tr>\n    <tr>\n      <th>2020-03-23 06:00:00-04:00</th>\n      <td>56.247500</td>\n      <td>0</td>\n      <td>0.009829</td>\n      <td>0.000000e+00</td>\n      <td>0</td>\n      <td>0.000000</td>\n      <td>0.000000e+00</td>\n      <td>50.000000</td>\n      <td>0.000000</td>\n      <td>0.000000</td>\n      <td>...</td>\n      <td>-17.798595</td>\n      <td>0.000000</td>\n      <td>55.898564</td>\n      <td>0.000000</td>\n      <td>0.000000</td>\n      <td>0.000000</td>\n      <td>0.000000</td>\n      <td>0.982944</td>\n      <td>0.978145</td>\n      <td>1.164568</td>\n    </tr>\n    <tr>\n      <th>2020-03-23 07:00:00-04:00</th>\n      <td>56.595000</td>\n      <td>0</td>\n      <td>0.006178</td>\n      <td>0.000000e+00</td>\n      <td>0</td>\n      <td>0.000000</td>\n      <td>0.000000e+00</td>\n      <td>50.000000</td>\n      <td>0.000000</td>\n      <td>0.000000</td>\n      <td>...</td>\n      <td>-11.231884</td>\n      <td>0.000000</td>\n      <td>56.194338</td>\n      <td>0.000000</td>\n      <td>0.000000</td>\n      <td>0.000000</td>\n      <td>0.000000</td>\n      <td>0.617805</td>\n      <td>0.615905</td>\n      <td>1.789568</td>\n    </tr>\n    <tr>\n      <th>2020-03-23 08:00:00-04:00</th>\n      <td>57.812500</td>\n      <td>0</td>\n      <td>0.021513</td>\n      <td>0.000000e+00</td>\n      <td>0</td>\n      <td>0.000000</td>\n      <td>0.000000e+00</td>\n      <td>50.000000</td>\n      <td>0.000000</td>\n      <td>0.000000</td>\n      <td>...</td>\n      <td>-13.616269</td>\n      <td>0.000000</td>\n      <td>56.832525</td>\n      <td>0.000000</td>\n      <td>0.000000</td>\n      <td>0.000000</td>\n      <td>0.000000</td>\n      <td>2.151250</td>\n      <td>2.128437</td>\n      <td>3.979317</td>\n    </tr>\n    <tr>\n      <th>...</th>\n      <td>...</td>\n      <td>...</td>\n      <td>...</td>\n      <td>...</td>\n      <td>...</td>\n      <td>...</td>\n      <td>...</td>\n      <td>...</td>\n      <td>...</td>\n      <td>...</td>\n      <td>...</td>\n      <td>...</td>\n      <td>...</td>\n      <td>...</td>\n      <td>...</td>\n      <td>...</td>\n      <td>...</td>\n      <td>...</td>\n      <td>...</td>\n      <td>...</td>\n      <td>...</td>\n    </tr>\n    <tr>\n      <th>2021-03-22 13:30:00-04:00</th>\n      <td>123.542000</td>\n      <td>9430925</td>\n      <td>0.003663</td>\n      <td>6.814015e+08</td>\n      <td>-295204416</td>\n      <td>0.073995</td>\n      <td>3.995690e+06</td>\n      <td>100.000000</td>\n      <td>-0.033912</td>\n      <td>4.115061</td>\n      <td>...</td>\n      <td>-1.943993</td>\n      <td>1.853018</td>\n      <td>122.683125</td>\n      <td>2.960247</td>\n      <td>17.006940</td>\n      <td>-0.788469</td>\n      <td>17.795410</td>\n      <td>0.366312</td>\n      <td>0.365642</td>\n      <td>122.197841</td>\n    </tr>\n    <tr>\n      <th>2021-03-22 14:30:00-04:00</th>\n      <td>123.345001</td>\n      <td>11354023</td>\n      <td>-0.001595</td>\n      <td>6.727190e+08</td>\n      <td>-306558439</td>\n      <td>-0.022353</td>\n      <td>3.105345e+06</td>\n      <td>100.000000</td>\n      <td>0.903980</td>\n      <td>3.579881</td>\n      <td>...</td>\n      <td>-13.392887</td>\n      <td>2.216141</td>\n      <td>122.806622</td>\n      <td>2.770373</td>\n      <td>18.299709</td>\n      <td>3.029166</td>\n      <td>15.270543</td>\n      <td>-0.159459</td>\n      <td>-0.159586</td>\n      <td>121.843527</td>\n    </tr>\n    <tr>\n      <th>2021-03-22 15:30:00-04:00</th>\n      <td>123.370003</td>\n      <td>10684835</td>\n      <td>0.000203</td>\n      <td>6.749298e+08</td>\n      <td>-295873604</td>\n      <td>0.039436</td>\n      <td>2.699886e+06</td>\n      <td>88.424942</td>\n      <td>-1.424946</td>\n      <td>2.864906</td>\n      <td>...</td>\n      <td>-12.755093</td>\n      <td>2.310367</td>\n      <td>122.908690</td>\n      <td>2.119032</td>\n      <td>18.355886</td>\n      <td>6.094510</td>\n      <td>12.261375</td>\n      <td>0.020270</td>\n      <td>0.020268</td>\n      <td>121.888494</td>\n    </tr>\n    <tr>\n      <th>2021-03-22 16:00:00-04:00</th>\n      <td>123.100000</td>\n      <td>9642937</td>\n      <td>-0.002189</td>\n      <td>6.734985e+08</td>\n      <td>-305516541</td>\n      <td>0.043732</td>\n      <td>1.942243e+06</td>\n      <td>80.073449</td>\n      <td>-1.143532</td>\n      <td>2.363851</td>\n      <td>...</td>\n      <td>-19.845418</td>\n      <td>2.313878</td>\n      <td>122.938827</td>\n      <td>1.819686</td>\n      <td>17.232556</td>\n      <td>8.322119</td>\n      <td>8.910436</td>\n      <td>-0.218856</td>\n      <td>-0.219096</td>\n      <td>121.402878</td>\n    </tr>\n    <tr>\n      <th>2021-03-22 17:00:00-04:00</th>\n      <td>123.145000</td>\n      <td>0</td>\n      <td>0.000366</td>\n      <td>6.734985e+08</td>\n      <td>-305516541</td>\n      <td>0.061620</td>\n      <td>1.664779e+06</td>\n      <td>80.073449</td>\n      <td>-1.143532</td>\n      <td>2.363851</td>\n      <td>...</td>\n      <td>-8.399983</td>\n      <td>1.535058</td>\n      <td>122.974558</td>\n      <td>1.747501</td>\n      <td>7.132520</td>\n      <td>8.084199</td>\n      <td>-0.951679</td>\n      <td>0.036556</td>\n      <td>0.036549</td>\n      <td>121.483813</td>\n    </tr>\n  </tbody>\n</table>\n<p>4184 rows × 86 columns</p>\n</div>"
     },
     "execution_count": 208,
     "metadata": {},
     "output_type": "execute_result"
    }
   ],
   "source": [
    "data"
   ],
   "metadata": {
    "collapsed": false,
    "pycharm": {
     "name": "#%%\n"
    }
   }
  },
  {
   "cell_type": "code",
   "execution_count": 209,
   "outputs": [
    {
     "data": {
      "text/plain": "Index(['close', 'volume', 'close_pct', 'volume_adi', 'volume_obv',\n       'volume_cmf', 'volume_fi', 'volume_mfi', 'volume_em', 'volume_sma_em',\n       'volume_vpt', 'volume_nvi', 'volume_vwap', 'volatility_atr',\n       'volatility_bbm', 'volatility_bbh', 'volatility_bbl', 'volatility_bbw',\n       'volatility_bbp', 'volatility_bbhi', 'volatility_bbli',\n       'volatility_kcc', 'volatility_kch', 'volatility_kcl', 'volatility_kcw',\n       'volatility_kcp', 'volatility_kchi', 'volatility_kcli',\n       'volatility_dcl', 'volatility_dch', 'volatility_dcm', 'volatility_dcw',\n       'volatility_dcp', 'volatility_ui', 'trend_macd', 'trend_macd_signal',\n       'trend_macd_diff', 'trend_sma_fast', 'trend_sma_slow', 'trend_ema_fast',\n       'trend_ema_slow', 'trend_adx', 'trend_adx_pos', 'trend_adx_neg',\n       'trend_vortex_ind_pos', 'trend_vortex_ind_neg', 'trend_vortex_ind_diff',\n       'trend_trix', 'trend_mass_index', 'trend_cci', 'trend_dpo', 'trend_kst',\n       'trend_kst_sig', 'trend_kst_diff', 'trend_ichimoku_conv',\n       'trend_ichimoku_base', 'trend_ichimoku_a', 'trend_ichimoku_b',\n       'trend_visual_ichimoku_a', 'trend_visual_ichimoku_b', 'trend_aroon_up',\n       'trend_aroon_down', 'trend_aroon_ind', 'trend_psar_up',\n       'trend_psar_down', 'trend_psar_up_indicator',\n       'trend_psar_down_indicator', 'trend_stc', 'momentum_rsi',\n       'momentum_stoch_rsi', 'momentum_stoch_rsi_k', 'momentum_stoch_rsi_d',\n       'momentum_tsi', 'momentum_uo', 'momentum_stoch',\n       'momentum_stoch_signal', 'momentum_wr', 'momentum_ao', 'momentum_kama',\n       'momentum_roc', 'momentum_ppo', 'momentum_ppo_signal',\n       'momentum_ppo_hist', 'others_dr', 'others_dlr', 'others_cr'],\n      dtype='object')"
     },
     "execution_count": 209,
     "metadata": {},
     "output_type": "execute_result"
    }
   ],
   "source": [
    "data.columns"
   ],
   "metadata": {
    "collapsed": false,
    "pycharm": {
     "name": "#%%\n"
    }
   }
  },
  {
   "cell_type": "code",
   "execution_count": 210,
   "outputs": [],
   "source": [
    "def create_class_column(row):\n",
    "    if row['close_shift']-row['close'] > 1.5:\n",
    "        return 1\n",
    "    if row['close_shift'] -row['close']< -1.5:\n",
    "        return -1\n",
    "    else:\n",
    "        return 0"
   ],
   "metadata": {
    "collapsed": false,
    "pycharm": {
     "name": "#%%\n"
    }
   }
  },
  {
   "cell_type": "code",
   "execution_count": 211,
   "outputs": [
    {
     "data": {
      "text/plain": "                                close    volume  close_pct    volume_adi  \\\nDatetime                                                                   \n2020-03-23 04:00:00-04:00   55.600000         0        NaN -0.000000e+00   \n2020-03-23 05:00:00-04:00   55.700000         0   0.001799 -0.000000e+00   \n2020-03-23 06:00:00-04:00   56.247500         0   0.009829  0.000000e+00   \n2020-03-23 07:00:00-04:00   56.595000         0   0.006178  0.000000e+00   \n2020-03-23 08:00:00-04:00   57.812500         0   0.021513  0.000000e+00   \n...                               ...       ...        ...           ...   \n2021-03-22 13:30:00-04:00  123.542000   9430925   0.003663  6.814015e+08   \n2021-03-22 14:30:00-04:00  123.345001  11354023  -0.001595  6.727190e+08   \n2021-03-22 15:30:00-04:00  123.370003  10684835   0.000203  6.749298e+08   \n2021-03-22 16:00:00-04:00  123.100000   9642937  -0.002189  6.734985e+08   \n2021-03-22 17:00:00-04:00  123.145000         0   0.000366  6.734985e+08   \n\n                           volume_obv  volume_cmf     volume_fi  volume_mfi  \\\nDatetime                                                                      \n2020-03-23 04:00:00-04:00           0    0.000000  0.000000e+00   50.000000   \n2020-03-23 05:00:00-04:00           0    0.000000  0.000000e+00   50.000000   \n2020-03-23 06:00:00-04:00           0    0.000000  0.000000e+00   50.000000   \n2020-03-23 07:00:00-04:00           0    0.000000  0.000000e+00   50.000000   \n2020-03-23 08:00:00-04:00           0    0.000000  0.000000e+00   50.000000   \n...                               ...         ...           ...         ...   \n2021-03-22 13:30:00-04:00  -295204416    0.073995  3.995690e+06  100.000000   \n2021-03-22 14:30:00-04:00  -306558439   -0.022353  3.105345e+06  100.000000   \n2021-03-22 15:30:00-04:00  -295873604    0.039436  2.699886e+06   88.424942   \n2021-03-22 16:00:00-04:00  -305516541    0.043732  1.942243e+06   80.073449   \n2021-03-22 17:00:00-04:00  -305516541    0.061620  1.664779e+06   80.073449   \n\n                           volume_em  volume_sma_em  ...  momentum_ao  \\\nDatetime                                             ...                \n2020-03-23 04:00:00-04:00   0.000000       0.000000  ...     0.000000   \n2020-03-23 05:00:00-04:00   0.000000       0.000000  ...     0.000000   \n2020-03-23 06:00:00-04:00   0.000000       0.000000  ...     0.000000   \n2020-03-23 07:00:00-04:00   0.000000       0.000000  ...     0.000000   \n2020-03-23 08:00:00-04:00   0.000000       0.000000  ...     0.000000   \n...                              ...            ...  ...          ...   \n2021-03-22 13:30:00-04:00  -0.033912       4.115061  ...     1.853018   \n2021-03-22 14:30:00-04:00   0.903980       3.579881  ...     2.216141   \n2021-03-22 15:30:00-04:00  -1.424946       2.864906  ...     2.310367   \n2021-03-22 16:00:00-04:00  -1.143532       2.363851  ...     2.313878   \n2021-03-22 17:00:00-04:00  -1.143532       2.363851  ...     1.535058   \n\n                           momentum_kama  momentum_roc  momentum_ppo  \\\nDatetime                                                               \n2020-03-23 04:00:00-04:00      55.600000      0.000000      0.000000   \n2020-03-23 05:00:00-04:00      55.643072      0.000000      0.000000   \n2020-03-23 06:00:00-04:00      55.898564      0.000000      0.000000   \n2020-03-23 07:00:00-04:00      56.194338      0.000000      0.000000   \n2020-03-23 08:00:00-04:00      56.832525      0.000000      0.000000   \n...                                  ...           ...           ...   \n2021-03-22 13:30:00-04:00     122.683125      2.960247     17.006940   \n2021-03-22 14:30:00-04:00     122.806622      2.770373     18.299709   \n2021-03-22 15:30:00-04:00     122.908690      2.119032     18.355886   \n2021-03-22 16:00:00-04:00     122.938827      1.819686     17.232556   \n2021-03-22 17:00:00-04:00     122.974558      1.747501      7.132520   \n\n                           momentum_ppo_signal  momentum_ppo_hist  others_dr  \\\nDatetime                                                                       \n2020-03-23 04:00:00-04:00             0.000000           0.000000 -47.866321   \n2020-03-23 05:00:00-04:00             0.000000           0.000000   0.179856   \n2020-03-23 06:00:00-04:00             0.000000           0.000000   0.982944   \n2020-03-23 07:00:00-04:00             0.000000           0.000000   0.617805   \n2020-03-23 08:00:00-04:00             0.000000           0.000000   2.151250   \n...                                        ...                ...        ...   \n2021-03-22 13:30:00-04:00            -0.788469          17.795410   0.366312   \n2021-03-22 14:30:00-04:00             3.029166          15.270543  -0.159459   \n2021-03-22 15:30:00-04:00             6.094510          12.261375   0.020270   \n2021-03-22 16:00:00-04:00             8.322119           8.910436  -0.218856   \n2021-03-22 17:00:00-04:00             8.084199          -0.951679   0.036556   \n\n                           others_dlr   others_cr  close_shift  \nDatetime                                                        \n2020-03-23 04:00:00-04:00    0.000000    0.000000    54.803925  \n2020-03-23 05:00:00-04:00    0.179695    0.179856    55.486252  \n2020-03-23 06:00:00-04:00    0.978145    1.164568    55.264999  \n2020-03-23 07:00:00-04:00    0.615905    1.789568    54.432499  \n2020-03-23 08:00:00-04:00    2.128437    3.979317    55.994999  \n...                               ...         ...          ...  \n2021-03-22 13:30:00-04:00    0.365642  122.197841          NaN  \n2021-03-22 14:30:00-04:00   -0.159586  121.843527          NaN  \n2021-03-22 15:30:00-04:00    0.020268  121.888494          NaN  \n2021-03-22 16:00:00-04:00   -0.219096  121.402878          NaN  \n2021-03-22 17:00:00-04:00    0.036549  121.483813          NaN  \n\n[4184 rows x 87 columns]",
      "text/html": "<div>\n<style scoped>\n    .dataframe tbody tr th:only-of-type {\n        vertical-align: middle;\n    }\n\n    .dataframe tbody tr th {\n        vertical-align: top;\n    }\n\n    .dataframe thead th {\n        text-align: right;\n    }\n</style>\n<table border=\"1\" class=\"dataframe\">\n  <thead>\n    <tr style=\"text-align: right;\">\n      <th></th>\n      <th>close</th>\n      <th>volume</th>\n      <th>close_pct</th>\n      <th>volume_adi</th>\n      <th>volume_obv</th>\n      <th>volume_cmf</th>\n      <th>volume_fi</th>\n      <th>volume_mfi</th>\n      <th>volume_em</th>\n      <th>volume_sma_em</th>\n      <th>...</th>\n      <th>momentum_ao</th>\n      <th>momentum_kama</th>\n      <th>momentum_roc</th>\n      <th>momentum_ppo</th>\n      <th>momentum_ppo_signal</th>\n      <th>momentum_ppo_hist</th>\n      <th>others_dr</th>\n      <th>others_dlr</th>\n      <th>others_cr</th>\n      <th>close_shift</th>\n    </tr>\n    <tr>\n      <th>Datetime</th>\n      <th></th>\n      <th></th>\n      <th></th>\n      <th></th>\n      <th></th>\n      <th></th>\n      <th></th>\n      <th></th>\n      <th></th>\n      <th></th>\n      <th></th>\n      <th></th>\n      <th></th>\n      <th></th>\n      <th></th>\n      <th></th>\n      <th></th>\n      <th></th>\n      <th></th>\n      <th></th>\n      <th></th>\n    </tr>\n  </thead>\n  <tbody>\n    <tr>\n      <th>2020-03-23 04:00:00-04:00</th>\n      <td>55.600000</td>\n      <td>0</td>\n      <td>NaN</td>\n      <td>-0.000000e+00</td>\n      <td>0</td>\n      <td>0.000000</td>\n      <td>0.000000e+00</td>\n      <td>50.000000</td>\n      <td>0.000000</td>\n      <td>0.000000</td>\n      <td>...</td>\n      <td>0.000000</td>\n      <td>55.600000</td>\n      <td>0.000000</td>\n      <td>0.000000</td>\n      <td>0.000000</td>\n      <td>0.000000</td>\n      <td>-47.866321</td>\n      <td>0.000000</td>\n      <td>0.000000</td>\n      <td>54.803925</td>\n    </tr>\n    <tr>\n      <th>2020-03-23 05:00:00-04:00</th>\n      <td>55.700000</td>\n      <td>0</td>\n      <td>0.001799</td>\n      <td>-0.000000e+00</td>\n      <td>0</td>\n      <td>0.000000</td>\n      <td>0.000000e+00</td>\n      <td>50.000000</td>\n      <td>0.000000</td>\n      <td>0.000000</td>\n      <td>...</td>\n      <td>0.000000</td>\n      <td>55.643072</td>\n      <td>0.000000</td>\n      <td>0.000000</td>\n      <td>0.000000</td>\n      <td>0.000000</td>\n      <td>0.179856</td>\n      <td>0.179695</td>\n      <td>0.179856</td>\n      <td>55.486252</td>\n    </tr>\n    <tr>\n      <th>2020-03-23 06:00:00-04:00</th>\n      <td>56.247500</td>\n      <td>0</td>\n      <td>0.009829</td>\n      <td>0.000000e+00</td>\n      <td>0</td>\n      <td>0.000000</td>\n      <td>0.000000e+00</td>\n      <td>50.000000</td>\n      <td>0.000000</td>\n      <td>0.000000</td>\n      <td>...</td>\n      <td>0.000000</td>\n      <td>55.898564</td>\n      <td>0.000000</td>\n      <td>0.000000</td>\n      <td>0.000000</td>\n      <td>0.000000</td>\n      <td>0.982944</td>\n      <td>0.978145</td>\n      <td>1.164568</td>\n      <td>55.264999</td>\n    </tr>\n    <tr>\n      <th>2020-03-23 07:00:00-04:00</th>\n      <td>56.595000</td>\n      <td>0</td>\n      <td>0.006178</td>\n      <td>0.000000e+00</td>\n      <td>0</td>\n      <td>0.000000</td>\n      <td>0.000000e+00</td>\n      <td>50.000000</td>\n      <td>0.000000</td>\n      <td>0.000000</td>\n      <td>...</td>\n      <td>0.000000</td>\n      <td>56.194338</td>\n      <td>0.000000</td>\n      <td>0.000000</td>\n      <td>0.000000</td>\n      <td>0.000000</td>\n      <td>0.617805</td>\n      <td>0.615905</td>\n      <td>1.789568</td>\n      <td>54.432499</td>\n    </tr>\n    <tr>\n      <th>2020-03-23 08:00:00-04:00</th>\n      <td>57.812500</td>\n      <td>0</td>\n      <td>0.021513</td>\n      <td>0.000000e+00</td>\n      <td>0</td>\n      <td>0.000000</td>\n      <td>0.000000e+00</td>\n      <td>50.000000</td>\n      <td>0.000000</td>\n      <td>0.000000</td>\n      <td>...</td>\n      <td>0.000000</td>\n      <td>56.832525</td>\n      <td>0.000000</td>\n      <td>0.000000</td>\n      <td>0.000000</td>\n      <td>0.000000</td>\n      <td>2.151250</td>\n      <td>2.128437</td>\n      <td>3.979317</td>\n      <td>55.994999</td>\n    </tr>\n    <tr>\n      <th>...</th>\n      <td>...</td>\n      <td>...</td>\n      <td>...</td>\n      <td>...</td>\n      <td>...</td>\n      <td>...</td>\n      <td>...</td>\n      <td>...</td>\n      <td>...</td>\n      <td>...</td>\n      <td>...</td>\n      <td>...</td>\n      <td>...</td>\n      <td>...</td>\n      <td>...</td>\n      <td>...</td>\n      <td>...</td>\n      <td>...</td>\n      <td>...</td>\n      <td>...</td>\n      <td>...</td>\n    </tr>\n    <tr>\n      <th>2021-03-22 13:30:00-04:00</th>\n      <td>123.542000</td>\n      <td>9430925</td>\n      <td>0.003663</td>\n      <td>6.814015e+08</td>\n      <td>-295204416</td>\n      <td>0.073995</td>\n      <td>3.995690e+06</td>\n      <td>100.000000</td>\n      <td>-0.033912</td>\n      <td>4.115061</td>\n      <td>...</td>\n      <td>1.853018</td>\n      <td>122.683125</td>\n      <td>2.960247</td>\n      <td>17.006940</td>\n      <td>-0.788469</td>\n      <td>17.795410</td>\n      <td>0.366312</td>\n      <td>0.365642</td>\n      <td>122.197841</td>\n      <td>NaN</td>\n    </tr>\n    <tr>\n      <th>2021-03-22 14:30:00-04:00</th>\n      <td>123.345001</td>\n      <td>11354023</td>\n      <td>-0.001595</td>\n      <td>6.727190e+08</td>\n      <td>-306558439</td>\n      <td>-0.022353</td>\n      <td>3.105345e+06</td>\n      <td>100.000000</td>\n      <td>0.903980</td>\n      <td>3.579881</td>\n      <td>...</td>\n      <td>2.216141</td>\n      <td>122.806622</td>\n      <td>2.770373</td>\n      <td>18.299709</td>\n      <td>3.029166</td>\n      <td>15.270543</td>\n      <td>-0.159459</td>\n      <td>-0.159586</td>\n      <td>121.843527</td>\n      <td>NaN</td>\n    </tr>\n    <tr>\n      <th>2021-03-22 15:30:00-04:00</th>\n      <td>123.370003</td>\n      <td>10684835</td>\n      <td>0.000203</td>\n      <td>6.749298e+08</td>\n      <td>-295873604</td>\n      <td>0.039436</td>\n      <td>2.699886e+06</td>\n      <td>88.424942</td>\n      <td>-1.424946</td>\n      <td>2.864906</td>\n      <td>...</td>\n      <td>2.310367</td>\n      <td>122.908690</td>\n      <td>2.119032</td>\n      <td>18.355886</td>\n      <td>6.094510</td>\n      <td>12.261375</td>\n      <td>0.020270</td>\n      <td>0.020268</td>\n      <td>121.888494</td>\n      <td>NaN</td>\n    </tr>\n    <tr>\n      <th>2021-03-22 16:00:00-04:00</th>\n      <td>123.100000</td>\n      <td>9642937</td>\n      <td>-0.002189</td>\n      <td>6.734985e+08</td>\n      <td>-305516541</td>\n      <td>0.043732</td>\n      <td>1.942243e+06</td>\n      <td>80.073449</td>\n      <td>-1.143532</td>\n      <td>2.363851</td>\n      <td>...</td>\n      <td>2.313878</td>\n      <td>122.938827</td>\n      <td>1.819686</td>\n      <td>17.232556</td>\n      <td>8.322119</td>\n      <td>8.910436</td>\n      <td>-0.218856</td>\n      <td>-0.219096</td>\n      <td>121.402878</td>\n      <td>NaN</td>\n    </tr>\n    <tr>\n      <th>2021-03-22 17:00:00-04:00</th>\n      <td>123.145000</td>\n      <td>0</td>\n      <td>0.000366</td>\n      <td>6.734985e+08</td>\n      <td>-305516541</td>\n      <td>0.061620</td>\n      <td>1.664779e+06</td>\n      <td>80.073449</td>\n      <td>-1.143532</td>\n      <td>2.363851</td>\n      <td>...</td>\n      <td>1.535058</td>\n      <td>122.974558</td>\n      <td>1.747501</td>\n      <td>7.132520</td>\n      <td>8.084199</td>\n      <td>-0.951679</td>\n      <td>0.036556</td>\n      <td>0.036549</td>\n      <td>121.483813</td>\n      <td>NaN</td>\n    </tr>\n  </tbody>\n</table>\n<p>4184 rows × 87 columns</p>\n</div>"
     },
     "execution_count": 211,
     "metadata": {},
     "output_type": "execute_result"
    }
   ],
   "source": [
    "data['close_shift'] = data.shift(-WINDOW)['close']\n",
    "data"
   ],
   "metadata": {
    "collapsed": false,
    "pycharm": {
     "name": "#%%\n"
    }
   }
  },
  {
   "cell_type": "code",
   "execution_count": 212,
   "outputs": [
    {
     "data": {
      "text/plain": "                                close    volume  close_pct    volume_adi  \\\nDatetime                                                                   \n2020-03-23 04:00:00-04:00   55.600000         0        NaN -0.000000e+00   \n2020-03-23 05:00:00-04:00   55.700000         0   0.001799 -0.000000e+00   \n2020-03-23 06:00:00-04:00   56.247500         0   0.009829  0.000000e+00   \n2020-03-23 07:00:00-04:00   56.595000         0   0.006178  0.000000e+00   \n2020-03-23 08:00:00-04:00   57.812500         0   0.021513  0.000000e+00   \n...                               ...       ...        ...           ...   \n2021-03-22 13:30:00-04:00  123.542000   9430925   0.003663  6.814015e+08   \n2021-03-22 14:30:00-04:00  123.345001  11354023  -0.001595  6.727190e+08   \n2021-03-22 15:30:00-04:00  123.370003  10684835   0.000203  6.749298e+08   \n2021-03-22 16:00:00-04:00  123.100000   9642937  -0.002189  6.734985e+08   \n2021-03-22 17:00:00-04:00  123.145000         0   0.000366  6.734985e+08   \n\n                           volume_obv  volume_cmf     volume_fi  volume_mfi  \\\nDatetime                                                                      \n2020-03-23 04:00:00-04:00           0    0.000000  0.000000e+00   50.000000   \n2020-03-23 05:00:00-04:00           0    0.000000  0.000000e+00   50.000000   \n2020-03-23 06:00:00-04:00           0    0.000000  0.000000e+00   50.000000   \n2020-03-23 07:00:00-04:00           0    0.000000  0.000000e+00   50.000000   \n2020-03-23 08:00:00-04:00           0    0.000000  0.000000e+00   50.000000   \n...                               ...         ...           ...         ...   \n2021-03-22 13:30:00-04:00  -295204416    0.073995  3.995690e+06  100.000000   \n2021-03-22 14:30:00-04:00  -306558439   -0.022353  3.105345e+06  100.000000   \n2021-03-22 15:30:00-04:00  -295873604    0.039436  2.699886e+06   88.424942   \n2021-03-22 16:00:00-04:00  -305516541    0.043732  1.942243e+06   80.073449   \n2021-03-22 17:00:00-04:00  -305516541    0.061620  1.664779e+06   80.073449   \n\n                           volume_em  volume_sma_em  ...  momentum_kama  \\\nDatetime                                             ...                  \n2020-03-23 04:00:00-04:00   0.000000       0.000000  ...      55.600000   \n2020-03-23 05:00:00-04:00   0.000000       0.000000  ...      55.643072   \n2020-03-23 06:00:00-04:00   0.000000       0.000000  ...      55.898564   \n2020-03-23 07:00:00-04:00   0.000000       0.000000  ...      56.194338   \n2020-03-23 08:00:00-04:00   0.000000       0.000000  ...      56.832525   \n...                              ...            ...  ...            ...   \n2021-03-22 13:30:00-04:00  -0.033912       4.115061  ...     122.683125   \n2021-03-22 14:30:00-04:00   0.903980       3.579881  ...     122.806622   \n2021-03-22 15:30:00-04:00  -1.424946       2.864906  ...     122.908690   \n2021-03-22 16:00:00-04:00  -1.143532       2.363851  ...     122.938827   \n2021-03-22 17:00:00-04:00  -1.143532       2.363851  ...     122.974558   \n\n                           momentum_roc  momentum_ppo  momentum_ppo_signal  \\\nDatetime                                                                     \n2020-03-23 04:00:00-04:00      0.000000      0.000000             0.000000   \n2020-03-23 05:00:00-04:00      0.000000      0.000000             0.000000   \n2020-03-23 06:00:00-04:00      0.000000      0.000000             0.000000   \n2020-03-23 07:00:00-04:00      0.000000      0.000000             0.000000   \n2020-03-23 08:00:00-04:00      0.000000      0.000000             0.000000   \n...                                 ...           ...                  ...   \n2021-03-22 13:30:00-04:00      2.960247     17.006940            -0.788469   \n2021-03-22 14:30:00-04:00      2.770373     18.299709             3.029166   \n2021-03-22 15:30:00-04:00      2.119032     18.355886             6.094510   \n2021-03-22 16:00:00-04:00      1.819686     17.232556             8.322119   \n2021-03-22 17:00:00-04:00      1.747501      7.132520             8.084199   \n\n                           momentum_ppo_hist  others_dr  others_dlr  \\\nDatetime                                                              \n2020-03-23 04:00:00-04:00           0.000000 -47.866321    0.000000   \n2020-03-23 05:00:00-04:00           0.000000   0.179856    0.179695   \n2020-03-23 06:00:00-04:00           0.000000   0.982944    0.978145   \n2020-03-23 07:00:00-04:00           0.000000   0.617805    0.615905   \n2020-03-23 08:00:00-04:00           0.000000   2.151250    2.128437   \n...                                      ...        ...         ...   \n2021-03-22 13:30:00-04:00          17.795410   0.366312    0.365642   \n2021-03-22 14:30:00-04:00          15.270543  -0.159459   -0.159586   \n2021-03-22 15:30:00-04:00          12.261375   0.020270    0.020268   \n2021-03-22 16:00:00-04:00           8.910436  -0.218856   -0.219096   \n2021-03-22 17:00:00-04:00          -0.951679   0.036556    0.036549   \n\n                            others_cr  close_shift  class_column  \nDatetime                                                          \n2020-03-23 04:00:00-04:00    0.000000    54.803925             0  \n2020-03-23 05:00:00-04:00    0.179856    55.486252             0  \n2020-03-23 06:00:00-04:00    1.164568    55.264999             0  \n2020-03-23 07:00:00-04:00    1.789568    54.432499            -1  \n2020-03-23 08:00:00-04:00    3.979317    55.994999            -1  \n...                               ...          ...           ...  \n2021-03-22 13:30:00-04:00  122.197841          NaN             0  \n2021-03-22 14:30:00-04:00  121.843527          NaN             0  \n2021-03-22 15:30:00-04:00  121.888494          NaN             0  \n2021-03-22 16:00:00-04:00  121.402878          NaN             0  \n2021-03-22 17:00:00-04:00  121.483813          NaN             0  \n\n[4184 rows x 88 columns]",
      "text/html": "<div>\n<style scoped>\n    .dataframe tbody tr th:only-of-type {\n        vertical-align: middle;\n    }\n\n    .dataframe tbody tr th {\n        vertical-align: top;\n    }\n\n    .dataframe thead th {\n        text-align: right;\n    }\n</style>\n<table border=\"1\" class=\"dataframe\">\n  <thead>\n    <tr style=\"text-align: right;\">\n      <th></th>\n      <th>close</th>\n      <th>volume</th>\n      <th>close_pct</th>\n      <th>volume_adi</th>\n      <th>volume_obv</th>\n      <th>volume_cmf</th>\n      <th>volume_fi</th>\n      <th>volume_mfi</th>\n      <th>volume_em</th>\n      <th>volume_sma_em</th>\n      <th>...</th>\n      <th>momentum_kama</th>\n      <th>momentum_roc</th>\n      <th>momentum_ppo</th>\n      <th>momentum_ppo_signal</th>\n      <th>momentum_ppo_hist</th>\n      <th>others_dr</th>\n      <th>others_dlr</th>\n      <th>others_cr</th>\n      <th>close_shift</th>\n      <th>class_column</th>\n    </tr>\n    <tr>\n      <th>Datetime</th>\n      <th></th>\n      <th></th>\n      <th></th>\n      <th></th>\n      <th></th>\n      <th></th>\n      <th></th>\n      <th></th>\n      <th></th>\n      <th></th>\n      <th></th>\n      <th></th>\n      <th></th>\n      <th></th>\n      <th></th>\n      <th></th>\n      <th></th>\n      <th></th>\n      <th></th>\n      <th></th>\n      <th></th>\n    </tr>\n  </thead>\n  <tbody>\n    <tr>\n      <th>2020-03-23 04:00:00-04:00</th>\n      <td>55.600000</td>\n      <td>0</td>\n      <td>NaN</td>\n      <td>-0.000000e+00</td>\n      <td>0</td>\n      <td>0.000000</td>\n      <td>0.000000e+00</td>\n      <td>50.000000</td>\n      <td>0.000000</td>\n      <td>0.000000</td>\n      <td>...</td>\n      <td>55.600000</td>\n      <td>0.000000</td>\n      <td>0.000000</td>\n      <td>0.000000</td>\n      <td>0.000000</td>\n      <td>-47.866321</td>\n      <td>0.000000</td>\n      <td>0.000000</td>\n      <td>54.803925</td>\n      <td>0</td>\n    </tr>\n    <tr>\n      <th>2020-03-23 05:00:00-04:00</th>\n      <td>55.700000</td>\n      <td>0</td>\n      <td>0.001799</td>\n      <td>-0.000000e+00</td>\n      <td>0</td>\n      <td>0.000000</td>\n      <td>0.000000e+00</td>\n      <td>50.000000</td>\n      <td>0.000000</td>\n      <td>0.000000</td>\n      <td>...</td>\n      <td>55.643072</td>\n      <td>0.000000</td>\n      <td>0.000000</td>\n      <td>0.000000</td>\n      <td>0.000000</td>\n      <td>0.179856</td>\n      <td>0.179695</td>\n      <td>0.179856</td>\n      <td>55.486252</td>\n      <td>0</td>\n    </tr>\n    <tr>\n      <th>2020-03-23 06:00:00-04:00</th>\n      <td>56.247500</td>\n      <td>0</td>\n      <td>0.009829</td>\n      <td>0.000000e+00</td>\n      <td>0</td>\n      <td>0.000000</td>\n      <td>0.000000e+00</td>\n      <td>50.000000</td>\n      <td>0.000000</td>\n      <td>0.000000</td>\n      <td>...</td>\n      <td>55.898564</td>\n      <td>0.000000</td>\n      <td>0.000000</td>\n      <td>0.000000</td>\n      <td>0.000000</td>\n      <td>0.982944</td>\n      <td>0.978145</td>\n      <td>1.164568</td>\n      <td>55.264999</td>\n      <td>0</td>\n    </tr>\n    <tr>\n      <th>2020-03-23 07:00:00-04:00</th>\n      <td>56.595000</td>\n      <td>0</td>\n      <td>0.006178</td>\n      <td>0.000000e+00</td>\n      <td>0</td>\n      <td>0.000000</td>\n      <td>0.000000e+00</td>\n      <td>50.000000</td>\n      <td>0.000000</td>\n      <td>0.000000</td>\n      <td>...</td>\n      <td>56.194338</td>\n      <td>0.000000</td>\n      <td>0.000000</td>\n      <td>0.000000</td>\n      <td>0.000000</td>\n      <td>0.617805</td>\n      <td>0.615905</td>\n      <td>1.789568</td>\n      <td>54.432499</td>\n      <td>-1</td>\n    </tr>\n    <tr>\n      <th>2020-03-23 08:00:00-04:00</th>\n      <td>57.812500</td>\n      <td>0</td>\n      <td>0.021513</td>\n      <td>0.000000e+00</td>\n      <td>0</td>\n      <td>0.000000</td>\n      <td>0.000000e+00</td>\n      <td>50.000000</td>\n      <td>0.000000</td>\n      <td>0.000000</td>\n      <td>...</td>\n      <td>56.832525</td>\n      <td>0.000000</td>\n      <td>0.000000</td>\n      <td>0.000000</td>\n      <td>0.000000</td>\n      <td>2.151250</td>\n      <td>2.128437</td>\n      <td>3.979317</td>\n      <td>55.994999</td>\n      <td>-1</td>\n    </tr>\n    <tr>\n      <th>...</th>\n      <td>...</td>\n      <td>...</td>\n      <td>...</td>\n      <td>...</td>\n      <td>...</td>\n      <td>...</td>\n      <td>...</td>\n      <td>...</td>\n      <td>...</td>\n      <td>...</td>\n      <td>...</td>\n      <td>...</td>\n      <td>...</td>\n      <td>...</td>\n      <td>...</td>\n      <td>...</td>\n      <td>...</td>\n      <td>...</td>\n      <td>...</td>\n      <td>...</td>\n      <td>...</td>\n    </tr>\n    <tr>\n      <th>2021-03-22 13:30:00-04:00</th>\n      <td>123.542000</td>\n      <td>9430925</td>\n      <td>0.003663</td>\n      <td>6.814015e+08</td>\n      <td>-295204416</td>\n      <td>0.073995</td>\n      <td>3.995690e+06</td>\n      <td>100.000000</td>\n      <td>-0.033912</td>\n      <td>4.115061</td>\n      <td>...</td>\n      <td>122.683125</td>\n      <td>2.960247</td>\n      <td>17.006940</td>\n      <td>-0.788469</td>\n      <td>17.795410</td>\n      <td>0.366312</td>\n      <td>0.365642</td>\n      <td>122.197841</td>\n      <td>NaN</td>\n      <td>0</td>\n    </tr>\n    <tr>\n      <th>2021-03-22 14:30:00-04:00</th>\n      <td>123.345001</td>\n      <td>11354023</td>\n      <td>-0.001595</td>\n      <td>6.727190e+08</td>\n      <td>-306558439</td>\n      <td>-0.022353</td>\n      <td>3.105345e+06</td>\n      <td>100.000000</td>\n      <td>0.903980</td>\n      <td>3.579881</td>\n      <td>...</td>\n      <td>122.806622</td>\n      <td>2.770373</td>\n      <td>18.299709</td>\n      <td>3.029166</td>\n      <td>15.270543</td>\n      <td>-0.159459</td>\n      <td>-0.159586</td>\n      <td>121.843527</td>\n      <td>NaN</td>\n      <td>0</td>\n    </tr>\n    <tr>\n      <th>2021-03-22 15:30:00-04:00</th>\n      <td>123.370003</td>\n      <td>10684835</td>\n      <td>0.000203</td>\n      <td>6.749298e+08</td>\n      <td>-295873604</td>\n      <td>0.039436</td>\n      <td>2.699886e+06</td>\n      <td>88.424942</td>\n      <td>-1.424946</td>\n      <td>2.864906</td>\n      <td>...</td>\n      <td>122.908690</td>\n      <td>2.119032</td>\n      <td>18.355886</td>\n      <td>6.094510</td>\n      <td>12.261375</td>\n      <td>0.020270</td>\n      <td>0.020268</td>\n      <td>121.888494</td>\n      <td>NaN</td>\n      <td>0</td>\n    </tr>\n    <tr>\n      <th>2021-03-22 16:00:00-04:00</th>\n      <td>123.100000</td>\n      <td>9642937</td>\n      <td>-0.002189</td>\n      <td>6.734985e+08</td>\n      <td>-305516541</td>\n      <td>0.043732</td>\n      <td>1.942243e+06</td>\n      <td>80.073449</td>\n      <td>-1.143532</td>\n      <td>2.363851</td>\n      <td>...</td>\n      <td>122.938827</td>\n      <td>1.819686</td>\n      <td>17.232556</td>\n      <td>8.322119</td>\n      <td>8.910436</td>\n      <td>-0.218856</td>\n      <td>-0.219096</td>\n      <td>121.402878</td>\n      <td>NaN</td>\n      <td>0</td>\n    </tr>\n    <tr>\n      <th>2021-03-22 17:00:00-04:00</th>\n      <td>123.145000</td>\n      <td>0</td>\n      <td>0.000366</td>\n      <td>6.734985e+08</td>\n      <td>-305516541</td>\n      <td>0.061620</td>\n      <td>1.664779e+06</td>\n      <td>80.073449</td>\n      <td>-1.143532</td>\n      <td>2.363851</td>\n      <td>...</td>\n      <td>122.974558</td>\n      <td>1.747501</td>\n      <td>7.132520</td>\n      <td>8.084199</td>\n      <td>-0.951679</td>\n      <td>0.036556</td>\n      <td>0.036549</td>\n      <td>121.483813</td>\n      <td>NaN</td>\n      <td>0</td>\n    </tr>\n  </tbody>\n</table>\n<p>4184 rows × 88 columns</p>\n</div>"
     },
     "execution_count": 212,
     "metadata": {},
     "output_type": "execute_result"
    }
   ],
   "source": [
    "data['class_column'] = data.apply(create_class_column, axis=1)\n",
    "data"
   ],
   "metadata": {
    "collapsed": false,
    "pycharm": {
     "name": "#%%\n"
    }
   }
  },
  {
   "cell_type": "code",
   "execution_count": 213,
   "outputs": [
    {
     "data": {
      "text/plain": " 0    2936\n 1     700\n-1     548\nName: class_column, dtype: int64"
     },
     "execution_count": 213,
     "metadata": {},
     "output_type": "execute_result"
    }
   ],
   "source": [
    "# Class divide\n",
    "data['class_column'].value_counts()"
   ],
   "metadata": {
    "collapsed": false,
    "pycharm": {
     "name": "#%%\n"
    }
   }
  },
  {
   "cell_type": "code",
   "execution_count": 214,
   "outputs": [],
   "source": [
    "del (data['close'])\n",
    "del (data['close_shift'])\n",
    "data = data.dropna()\n",
    "train_set = data.iloc[:-ROWS_TO_PREDICT]\n",
    "test_set =data.iloc[-ROWS_TO_PREDICT:]"
   ],
   "metadata": {
    "collapsed": false,
    "pycharm": {
     "name": "#%%\n"
    }
   }
  },
  {
   "cell_type": "code",
   "execution_count": 215,
   "outputs": [
    {
     "data": {
      "text/plain": " 0    2935\n 1     700\n-1     548\nName: class_column, dtype: int64"
     },
     "execution_count": 215,
     "metadata": {},
     "output_type": "execute_result"
    }
   ],
   "source": [
    "data['class_column'].value_counts()"
   ],
   "metadata": {
    "collapsed": false,
    "pycharm": {
     "name": "#%%\n"
    }
   }
  },
  {
   "cell_type": "code",
   "execution_count": 216,
   "outputs": [
    {
     "data": {
      "text/plain": "                           volume  close_pct    volume_adi  volume_obv  \\\nDatetime                                                                 \n2020-03-23 05:00:00-04:00       0   0.001799 -0.000000e+00           0   \n2020-03-23 06:00:00-04:00       0   0.009829  0.000000e+00           0   \n2020-03-23 07:00:00-04:00       0   0.006178  0.000000e+00           0   \n2020-03-23 08:00:00-04:00       0   0.021513  0.000000e+00           0   \n2020-03-23 09:00:00-04:00       0  -0.013708  0.000000e+00           0   \n...                           ...        ...           ...         ...   \n2021-03-10 18:00:00-05:00       0  -0.000166  7.098476e+08  -215126765   \n2021-03-11 04:00:00-05:00       0   0.019148  7.098476e+08  -215126765   \n2021-03-11 05:00:00-05:00       0   0.000082  7.098476e+08  -215126765   \n2021-03-11 06:00:00-05:00       0   0.000408  7.098476e+08  -215126765   \n2021-03-11 07:00:00-05:00       0  -0.003103  7.098476e+08  -215126765   \n\n                           volume_cmf     volume_fi  volume_mfi  volume_em  \\\nDatetime                                                                     \n2020-03-23 05:00:00-04:00    0.000000  0.000000e+00   50.000000   0.000000   \n2020-03-23 06:00:00-04:00    0.000000  0.000000e+00   50.000000   0.000000   \n2020-03-23 07:00:00-04:00    0.000000  0.000000e+00   50.000000   0.000000   \n2020-03-23 08:00:00-04:00    0.000000  0.000000e+00   50.000000   0.000000   \n2020-03-23 09:00:00-04:00    0.000000  0.000000e+00   50.000000   0.000000   \n...                               ...           ...         ...        ...   \n2021-03-10 18:00:00-05:00   -0.210575 -2.193760e+06   31.235797  -2.916369   \n2021-03-11 04:00:00-05:00   -0.165833 -1.880366e+06   31.235797  -2.916369   \n2021-03-11 05:00:00-05:00   -0.165833 -1.611742e+06   31.235797  -2.916369   \n2021-03-11 06:00:00-05:00   -0.165833 -1.381493e+06   31.235797  -2.916369   \n2021-03-11 07:00:00-05:00   -0.165833 -1.184137e+06   31.235797  -2.916369   \n\n                           volume_sma_em  volume_vpt  ...  momentum_ao  \\\nDatetime                                              ...                \n2020-03-23 05:00:00-04:00       0.000000         0.0  ...     0.000000   \n2020-03-23 06:00:00-04:00       0.000000         0.0  ...     0.000000   \n2020-03-23 07:00:00-04:00       0.000000         0.0  ...     0.000000   \n2020-03-23 08:00:00-04:00       0.000000         0.0  ...     0.000000   \n2020-03-23 09:00:00-04:00       0.000000         0.0  ...     0.137792   \n...                                  ...         ...  ...          ...   \n2021-03-10 18:00:00-05:00      -0.696136         0.0  ...    -0.750632   \n2021-03-11 04:00:00-05:00      -0.696136         0.0  ...    -0.646386   \n2021-03-11 05:00:00-05:00      -0.696136         0.0  ...    -0.369091   \n2021-03-11 06:00:00-05:00      -0.696136         0.0  ...     0.646012   \n2021-03-11 07:00:00-05:00      -0.696136         0.0  ...     1.494995   \n\n                           momentum_kama  momentum_roc  momentum_ppo  \\\nDatetime                                                               \n2020-03-23 05:00:00-04:00      55.643072      0.000000      0.000000   \n2020-03-23 06:00:00-04:00      55.898564      0.000000      0.000000   \n2020-03-23 07:00:00-04:00      56.194338      0.000000      0.000000   \n2020-03-23 08:00:00-04:00      56.832525      0.000000      0.000000   \n2020-03-23 09:00:00-04:00      56.907475      0.000000      0.000000   \n...                                  ...           ...           ...   \n2021-03-10 18:00:00-05:00     119.523453     -0.307079    -14.854672   \n2021-03-11 04:00:00-05:00     119.599707      1.991169    -22.190269   \n2021-03-11 05:00:00-05:00     119.659735      0.368913    -28.893877   \n2021-03-11 06:00:00-05:00     119.745654      2.126240    -35.019943   \n2021-03-11 07:00:00-05:00     119.791438      1.387288    -40.618225   \n\n                           momentum_ppo_signal  momentum_ppo_hist  others_dr  \\\nDatetime                                                                       \n2020-03-23 05:00:00-04:00             0.000000           0.000000   0.179856   \n2020-03-23 06:00:00-04:00             0.000000           0.000000   0.982944   \n2020-03-23 07:00:00-04:00             0.000000           0.000000   0.617805   \n2020-03-23 08:00:00-04:00             0.000000           0.000000   2.151250   \n2020-03-23 09:00:00-04:00             0.000000           0.000000  -1.370811   \n...                                        ...                ...        ...   \n2021-03-10 18:00:00-05:00            -1.530070         -13.324602  -0.016647   \n2021-03-11 04:00:00-05:00            -5.662110         -16.528159   1.914752   \n2021-03-11 05:00:00-05:00           -10.308463         -18.585414   0.008169   \n2021-03-11 06:00:00-05:00           -15.250759         -19.769184   0.040840   \n2021-03-11 07:00:00-05:00           -20.324252         -20.293972  -0.310255   \n\n                           others_dlr   others_cr  class_column  \nDatetime                                                         \n2020-03-23 05:00:00-04:00    0.179695    0.179856             0  \n2020-03-23 06:00:00-04:00    0.978145    1.164568             0  \n2020-03-23 07:00:00-04:00    0.615905    1.789568            -1  \n2020-03-23 08:00:00-04:00    2.128437    3.979317            -1  \n2020-03-23 09:00:00-04:00   -1.380293    2.553957             0  \n...                               ...         ...           ...  \n2021-03-10 18:00:00-05:00   -0.016649  116.043165             1  \n2021-03-11 04:00:00-05:00    1.896651  120.179856             0  \n2021-03-11 05:00:00-05:00    0.008168  120.197842             0  \n2021-03-11 06:00:00-05:00    0.040831  120.287770             0  \n2021-03-11 07:00:00-05:00   -0.310737  119.604317             0  \n\n[4055 rows x 86 columns]",
      "text/html": "<div>\n<style scoped>\n    .dataframe tbody tr th:only-of-type {\n        vertical-align: middle;\n    }\n\n    .dataframe tbody tr th {\n        vertical-align: top;\n    }\n\n    .dataframe thead th {\n        text-align: right;\n    }\n</style>\n<table border=\"1\" class=\"dataframe\">\n  <thead>\n    <tr style=\"text-align: right;\">\n      <th></th>\n      <th>volume</th>\n      <th>close_pct</th>\n      <th>volume_adi</th>\n      <th>volume_obv</th>\n      <th>volume_cmf</th>\n      <th>volume_fi</th>\n      <th>volume_mfi</th>\n      <th>volume_em</th>\n      <th>volume_sma_em</th>\n      <th>volume_vpt</th>\n      <th>...</th>\n      <th>momentum_ao</th>\n      <th>momentum_kama</th>\n      <th>momentum_roc</th>\n      <th>momentum_ppo</th>\n      <th>momentum_ppo_signal</th>\n      <th>momentum_ppo_hist</th>\n      <th>others_dr</th>\n      <th>others_dlr</th>\n      <th>others_cr</th>\n      <th>class_column</th>\n    </tr>\n    <tr>\n      <th>Datetime</th>\n      <th></th>\n      <th></th>\n      <th></th>\n      <th></th>\n      <th></th>\n      <th></th>\n      <th></th>\n      <th></th>\n      <th></th>\n      <th></th>\n      <th></th>\n      <th></th>\n      <th></th>\n      <th></th>\n      <th></th>\n      <th></th>\n      <th></th>\n      <th></th>\n      <th></th>\n      <th></th>\n      <th></th>\n    </tr>\n  </thead>\n  <tbody>\n    <tr>\n      <th>2020-03-23 05:00:00-04:00</th>\n      <td>0</td>\n      <td>0.001799</td>\n      <td>-0.000000e+00</td>\n      <td>0</td>\n      <td>0.000000</td>\n      <td>0.000000e+00</td>\n      <td>50.000000</td>\n      <td>0.000000</td>\n      <td>0.000000</td>\n      <td>0.0</td>\n      <td>...</td>\n      <td>0.000000</td>\n      <td>55.643072</td>\n      <td>0.000000</td>\n      <td>0.000000</td>\n      <td>0.000000</td>\n      <td>0.000000</td>\n      <td>0.179856</td>\n      <td>0.179695</td>\n      <td>0.179856</td>\n      <td>0</td>\n    </tr>\n    <tr>\n      <th>2020-03-23 06:00:00-04:00</th>\n      <td>0</td>\n      <td>0.009829</td>\n      <td>0.000000e+00</td>\n      <td>0</td>\n      <td>0.000000</td>\n      <td>0.000000e+00</td>\n      <td>50.000000</td>\n      <td>0.000000</td>\n      <td>0.000000</td>\n      <td>0.0</td>\n      <td>...</td>\n      <td>0.000000</td>\n      <td>55.898564</td>\n      <td>0.000000</td>\n      <td>0.000000</td>\n      <td>0.000000</td>\n      <td>0.000000</td>\n      <td>0.982944</td>\n      <td>0.978145</td>\n      <td>1.164568</td>\n      <td>0</td>\n    </tr>\n    <tr>\n      <th>2020-03-23 07:00:00-04:00</th>\n      <td>0</td>\n      <td>0.006178</td>\n      <td>0.000000e+00</td>\n      <td>0</td>\n      <td>0.000000</td>\n      <td>0.000000e+00</td>\n      <td>50.000000</td>\n      <td>0.000000</td>\n      <td>0.000000</td>\n      <td>0.0</td>\n      <td>...</td>\n      <td>0.000000</td>\n      <td>56.194338</td>\n      <td>0.000000</td>\n      <td>0.000000</td>\n      <td>0.000000</td>\n      <td>0.000000</td>\n      <td>0.617805</td>\n      <td>0.615905</td>\n      <td>1.789568</td>\n      <td>-1</td>\n    </tr>\n    <tr>\n      <th>2020-03-23 08:00:00-04:00</th>\n      <td>0</td>\n      <td>0.021513</td>\n      <td>0.000000e+00</td>\n      <td>0</td>\n      <td>0.000000</td>\n      <td>0.000000e+00</td>\n      <td>50.000000</td>\n      <td>0.000000</td>\n      <td>0.000000</td>\n      <td>0.0</td>\n      <td>...</td>\n      <td>0.000000</td>\n      <td>56.832525</td>\n      <td>0.000000</td>\n      <td>0.000000</td>\n      <td>0.000000</td>\n      <td>0.000000</td>\n      <td>2.151250</td>\n      <td>2.128437</td>\n      <td>3.979317</td>\n      <td>-1</td>\n    </tr>\n    <tr>\n      <th>2020-03-23 09:00:00-04:00</th>\n      <td>0</td>\n      <td>-0.013708</td>\n      <td>0.000000e+00</td>\n      <td>0</td>\n      <td>0.000000</td>\n      <td>0.000000e+00</td>\n      <td>50.000000</td>\n      <td>0.000000</td>\n      <td>0.000000</td>\n      <td>0.0</td>\n      <td>...</td>\n      <td>0.137792</td>\n      <td>56.907475</td>\n      <td>0.000000</td>\n      <td>0.000000</td>\n      <td>0.000000</td>\n      <td>0.000000</td>\n      <td>-1.370811</td>\n      <td>-1.380293</td>\n      <td>2.553957</td>\n      <td>0</td>\n    </tr>\n    <tr>\n      <th>...</th>\n      <td>...</td>\n      <td>...</td>\n      <td>...</td>\n      <td>...</td>\n      <td>...</td>\n      <td>...</td>\n      <td>...</td>\n      <td>...</td>\n      <td>...</td>\n      <td>...</td>\n      <td>...</td>\n      <td>...</td>\n      <td>...</td>\n      <td>...</td>\n      <td>...</td>\n      <td>...</td>\n      <td>...</td>\n      <td>...</td>\n      <td>...</td>\n      <td>...</td>\n      <td>...</td>\n    </tr>\n    <tr>\n      <th>2021-03-10 18:00:00-05:00</th>\n      <td>0</td>\n      <td>-0.000166</td>\n      <td>7.098476e+08</td>\n      <td>-215126765</td>\n      <td>-0.210575</td>\n      <td>-2.193760e+06</td>\n      <td>31.235797</td>\n      <td>-2.916369</td>\n      <td>-0.696136</td>\n      <td>0.0</td>\n      <td>...</td>\n      <td>-0.750632</td>\n      <td>119.523453</td>\n      <td>-0.307079</td>\n      <td>-14.854672</td>\n      <td>-1.530070</td>\n      <td>-13.324602</td>\n      <td>-0.016647</td>\n      <td>-0.016649</td>\n      <td>116.043165</td>\n      <td>1</td>\n    </tr>\n    <tr>\n      <th>2021-03-11 04:00:00-05:00</th>\n      <td>0</td>\n      <td>0.019148</td>\n      <td>7.098476e+08</td>\n      <td>-215126765</td>\n      <td>-0.165833</td>\n      <td>-1.880366e+06</td>\n      <td>31.235797</td>\n      <td>-2.916369</td>\n      <td>-0.696136</td>\n      <td>0.0</td>\n      <td>...</td>\n      <td>-0.646386</td>\n      <td>119.599707</td>\n      <td>1.991169</td>\n      <td>-22.190269</td>\n      <td>-5.662110</td>\n      <td>-16.528159</td>\n      <td>1.914752</td>\n      <td>1.896651</td>\n      <td>120.179856</td>\n      <td>0</td>\n    </tr>\n    <tr>\n      <th>2021-03-11 05:00:00-05:00</th>\n      <td>0</td>\n      <td>0.000082</td>\n      <td>7.098476e+08</td>\n      <td>-215126765</td>\n      <td>-0.165833</td>\n      <td>-1.611742e+06</td>\n      <td>31.235797</td>\n      <td>-2.916369</td>\n      <td>-0.696136</td>\n      <td>0.0</td>\n      <td>...</td>\n      <td>-0.369091</td>\n      <td>119.659735</td>\n      <td>0.368913</td>\n      <td>-28.893877</td>\n      <td>-10.308463</td>\n      <td>-18.585414</td>\n      <td>0.008169</td>\n      <td>0.008168</td>\n      <td>120.197842</td>\n      <td>0</td>\n    </tr>\n    <tr>\n      <th>2021-03-11 06:00:00-05:00</th>\n      <td>0</td>\n      <td>0.000408</td>\n      <td>7.098476e+08</td>\n      <td>-215126765</td>\n      <td>-0.165833</td>\n      <td>-1.381493e+06</td>\n      <td>31.235797</td>\n      <td>-2.916369</td>\n      <td>-0.696136</td>\n      <td>0.0</td>\n      <td>...</td>\n      <td>0.646012</td>\n      <td>119.745654</td>\n      <td>2.126240</td>\n      <td>-35.019943</td>\n      <td>-15.250759</td>\n      <td>-19.769184</td>\n      <td>0.040840</td>\n      <td>0.040831</td>\n      <td>120.287770</td>\n      <td>0</td>\n    </tr>\n    <tr>\n      <th>2021-03-11 07:00:00-05:00</th>\n      <td>0</td>\n      <td>-0.003103</td>\n      <td>7.098476e+08</td>\n      <td>-215126765</td>\n      <td>-0.165833</td>\n      <td>-1.184137e+06</td>\n      <td>31.235797</td>\n      <td>-2.916369</td>\n      <td>-0.696136</td>\n      <td>0.0</td>\n      <td>...</td>\n      <td>1.494995</td>\n      <td>119.791438</td>\n      <td>1.387288</td>\n      <td>-40.618225</td>\n      <td>-20.324252</td>\n      <td>-20.293972</td>\n      <td>-0.310255</td>\n      <td>-0.310737</td>\n      <td>119.604317</td>\n      <td>0</td>\n    </tr>\n  </tbody>\n</table>\n<p>4055 rows × 86 columns</p>\n</div>"
     },
     "execution_count": 216,
     "metadata": {},
     "output_type": "execute_result"
    }
   ],
   "source": [
    "train_set"
   ],
   "metadata": {
    "collapsed": false,
    "pycharm": {
     "name": "#%%\n"
    }
   }
  },
  {
   "cell_type": "code",
   "execution_count": 217,
   "outputs": [],
   "source": [
    "y = data['class_column']\n",
    "features = [x for x in data.columns if x not in ['class_column']]\n",
    "x = data[features]\n",
    "scaler = MinMaxScaler()\n",
    "# x = pd.DataFrame(scaler.fit_transform(x.values), columns=x.columns, index=x.index)\n",
    "x_train= x.iloc[:-ROWS_TO_PREDICT]\n",
    "y_train= y.iloc[:-ROWS_TO_PREDICT]\n",
    "x_test =x.iloc[-ROWS_TO_PREDICT:]\n",
    "y_test=y.iloc[-ROWS_TO_PREDICT:]"
   ],
   "metadata": {
    "collapsed": false,
    "pycharm": {
     "name": "#%%\n"
    }
   }
  },
  {
   "cell_type": "code",
   "execution_count": 218,
   "outputs": [],
   "source": [
    "classifiers = dict()\n",
    "\n",
    "classifiers['DecisionTreeClassifier 1'] = DecisionTreeClassifier(max_depth=10, random_state=0,criterion='gini',splitter='best')\n",
    "classifiers['DecisionTreeClassifier 2'] = DecisionTreeClassifier(max_depth=10, random_state=0,criterion='gini',splitter='random')\n",
    "classifiers['DecisionTreeClassifier 3'] = DecisionTreeClassifier(max_depth=10, random_state=0,criterion='entropy',splitter='best')\n",
    "classifiers['RandomForestClassifier 4'] = RandomForestClassifier(n_estimators=1000, max_depth=3, random_state=0,criterion='gini', n_jobs = -1)\n",
    "classifiers['RandomForestClassifier 5'] = RandomForestClassifier(n_estimators=100, max_depth=2, random_state=0,criterion='entropy', n_jobs = -1)\n",
    "classifiers['GradientBoostingClassifier 1'] = GradientBoostingClassifier(n_estimators=100,random_state=0,criterion='friedman_mse',max_depth=3, learning_rate=0.1)\n",
    "classifiers['GradientBoostingClassifier 2'] = GradientBoostingClassifier(n_estimators=1000,random_state=0,criterion='friedman_mse',max_depth=3, learning_rate=0.1)"
   ],
   "metadata": {
    "collapsed": false,
    "pycharm": {
     "name": "#%%\n"
    }
   }
  },
  {
   "cell_type": "code",
   "execution_count": 219,
   "outputs": [],
   "source": [
    "def print_conf_matrix(test_y, predict, name):\n",
    "    matrix = confusion_matrix(test_y, predict,  labels=[-1, 0, 1])\n",
    "    print(matrix)\n",
    "    ax= plt.subplot()\n",
    "    sn.heatmap(matrix, annot=True, ax = ax) #annot=True to annotate cells\n",
    "\n",
    "    # labels, title and ticks\n",
    "    ax.set_xlabel('Predicted labels', color='white')\n",
    "    ax.set_ylabel('True labels', color='white')\n",
    "    ax.set_title(f'Confusion Matrix for {name}' , color='white')\n",
    "    ax.xaxis.set_ticklabels(['-1','0', '1'], color='white')\n",
    "    ax.yaxis.set_ticklabels(['-1','0', '1'], color='white')\n",
    "    plt.show()\n",
    "\n",
    "def train_model(model,train_x, train_y):\n",
    "    model.fit(train_x, train_y)"
   ],
   "metadata": {
    "collapsed": false,
    "pycharm": {
     "name": "#%%\n"
    }
   }
  },
  {
   "cell_type": "code",
   "execution_count": 220,
   "outputs": [
    {
     "name": "stdout",
     "output_type": "stream",
     "text": [
      "Calculate:  DecisionTreeClassifier 1\n",
      "Score:  0.5859375\n",
      "Calculate:  DecisionTreeClassifier 2\n",
      "Score:  0.5859375\n",
      "Calculate:  DecisionTreeClassifier 3\n",
      "Score:  0.53125\n",
      "Calculate:  RandomForestClassifier 4\n",
      "Score:  0.640625\n",
      "Calculate:  RandomForestClassifier 5\n",
      "Score:  0.640625\n",
      "Calculate:  GradientBoostingClassifier 1\n",
      "Score:  0.6015625\n",
      "Calculate:  GradientBoostingClassifier 2\n",
      "Score:  0.5390625\n",
      "+----+------------------------------+------------+\n",
      "|    | Classifier type              |   Accuracy |\n",
      "|----+------------------------------+------------|\n",
      "|  0 | DecisionTreeClassifier 1     |   0.585938 |\n",
      "|  1 | DecisionTreeClassifier 2     |   0.585938 |\n",
      "|  2 | DecisionTreeClassifier 3     |   0.53125  |\n",
      "|  3 | RandomForestClassifier 4     |   0.640625 |\n",
      "|  4 | RandomForestClassifier 5     |   0.640625 |\n",
      "|  5 | GradientBoostingClassifier 1 |   0.601562 |\n",
      "|  6 | GradientBoostingClassifier 2 |   0.539062 |\n",
      "+----+------------------------------+------------+\n"
     ]
    }
   ],
   "source": [
    "predictions= dict()\n",
    "score = dict()\n",
    "for k,v in classifiers.items():\n",
    "    print(\"Calculate: \", k)\n",
    "    train_model(v,x_train,y_train)\n",
    "    predictions[k] = v.predict(x_test)\n",
    "    score[k] = accuracy_score(y_test.values, predictions[k])\n",
    "    print('Score: ',  score[k] )\n",
    "    # print_conf_matrix(test_y, predictions[k], k)\n",
    "\n",
    "headers = [\"Classifier type\", \"Accuracy\"]\n",
    "score_df = pd.DataFrame(score.items(), columns=headers)\n",
    "print(tabulate(score_df, headers, tablefmt=\"psql\"))\n"
   ],
   "metadata": {
    "collapsed": false,
    "pycharm": {
     "name": "#%%\n"
    }
   }
  },
  {
   "cell_type": "code",
   "execution_count": 221,
   "outputs": [
    {
     "name": "stderr",
     "output_type": "stream",
     "text": [
      "C:\\Users\\exomat\\anaconda3\\envs\\magisterka_analiza\\lib\\site-packages\\sklearn\\utils\\validation.py:67: FutureWarning: Pass n_features_to_select=10 as keyword args. From version 0.25 passing these as positional arguments will result in an error\n",
      "  warnings.warn(\"Pass {} as keyword args. From version 0.25 \"\n"
     ]
    },
    {
     "data": {
      "text/plain": "RFE(estimator=RandomForestClassifier(criterion='entropy', max_depth=2,\n                                     n_jobs=-1, random_state=0),\n    n_features_to_select=10)"
     },
     "execution_count": 221,
     "metadata": {},
     "output_type": "execute_result"
    }
   ],
   "source": [
    "rfe = RFE(classifiers['RandomForestClassifier 5'],10)\n",
    "fited = rfe.fit(x_train, y_train)\n",
    "rfe"
   ],
   "metadata": {
    "collapsed": false,
    "pycharm": {
     "name": "#%%\n"
    }
   }
  },
  {
   "cell_type": "code",
   "execution_count": 222,
   "outputs": [
    {
     "name": "stdout",
     "output_type": "stream",
     "text": [
      "Columns with predictive power: ['volatility_atr', 'volatility_bbw', 'volatility_kcl', 'volatility_kcw', 'volatility_dcw', 'trend_sma_slow', 'trend_ema_fast', 'trend_visual_ichimoku_a', 'trend_visual_ichimoku_b', 'others_cr']\n"
     ]
    }
   ],
   "source": [
    "names = x.columns\n",
    "columns=[]\n",
    "for i in range(len(fited.support_)):\n",
    "    if fited.support_[i]:\n",
    "        columns.append(names[i])\n",
    "\n",
    "print(\"Columns with predictive power:\", columns )"
   ],
   "metadata": {
    "collapsed": false,
    "pycharm": {
     "name": "#%%\n"
    }
   }
  },
  {
   "cell_type": "code",
   "execution_count": 223,
   "outputs": [
    {
     "data": {
      "text/plain": "                           volatility_atr  volatility_bbw  volatility_kcl  \\\nDatetime                                                                    \n2020-03-23 05:00:00-04:00        0.000000        0.359389       55.025000   \n2020-03-23 06:00:00-04:00        0.000000        2.038401       55.252500   \n2020-03-23 07:00:00-04:00        0.000000        2.900047       55.378125   \n2020-03-23 08:00:00-04:00        0.000000        5.662266       55.230333   \n2020-03-23 09:00:00-04:00        0.000000        5.419708       55.220833   \n...                                   ...             ...             ...   \n2021-03-10 18:00:00-05:00        2.587835        4.707348      117.388895   \n2021-03-11 04:00:00-05:00        2.576051        4.936945      117.643228   \n2021-03-11 05:00:00-05:00        2.354446        5.150702      117.938584   \n2021-03-11 06:00:00-05:00        2.173002        5.346915      118.207885   \n2021-03-11 07:00:00-05:00        2.050701        5.453272      118.407651   \n\n                           volatility_kcw  volatility_dcw  trend_sma_slow  \\\nDatetime                                                                    \n2020-03-23 05:00:00-04:00        2.592044        1.527403       55.650000   \n2020-03-23 06:00:00-04:00        2.319584        1.911398       55.849167   \n2020-03-23 07:00:00-04:00        2.366560        2.462719       56.035625   \n2020-03-23 08:00:00-04:00        3.713883        5.014098       56.391000   \n2020-03-23 09:00:00-04:00        4.636079        7.354525       56.495833   \n...                                   ...             ...             ...   \n2021-03-10 18:00:00-05:00        3.745241       12.999208      120.438834   \n2021-03-11 04:00:00-05:00        3.579187       12.991967      120.481258   \n2021-03-11 05:00:00-05:00        3.462362       10.050443      120.558292   \n2021-03-11 06:00:00-05:00        3.427646        8.166046      120.611238   \n2021-03-11 07:00:00-05:00        3.436646        8.163165      120.631815   \n\n                           trend_ema_fast  trend_visual_ichimoku_a  \\\nDatetime                                                             \n2020-03-23 05:00:00-04:00       55.615385               106.374421   \n2020-03-23 06:00:00-04:00       55.712633               106.374421   \n2020-03-23 07:00:00-04:00       55.848382               106.374421   \n2020-03-23 08:00:00-04:00       56.150554               106.374421   \n2020-03-23 09:00:00-04:00       56.284315               106.374421   \n...                                   ...                      ...   \n2021-03-10 18:00:00-05:00      119.638692               115.798393   \n2021-03-11 04:00:00-05:00      120.066586               115.798393   \n2021-03-11 05:00:00-05:00      120.430188               117.379171   \n2021-03-11 06:00:00-05:00      120.745544               117.379171   \n2021-03-11 07:00:00-05:00      120.953921               117.411697   \n\n                           trend_visual_ichimoku_b   others_cr  \nDatetime                                                        \n2020-03-23 05:00:00-04:00               106.397204    0.179856  \n2020-03-23 06:00:00-04:00               106.397204    1.164568  \n2020-03-23 07:00:00-04:00               106.397204    1.789568  \n2020-03-23 08:00:00-04:00               106.397204    3.979317  \n2020-03-23 09:00:00-04:00               106.397204    2.553957  \n...                                            ...         ...  \n2021-03-10 18:00:00-05:00               117.162428  116.043165  \n2021-03-11 04:00:00-05:00               117.162428  120.179856  \n2021-03-11 05:00:00-05:00               117.162428  120.197842  \n2021-03-11 06:00:00-05:00               117.162428  120.287770  \n2021-03-11 07:00:00-05:00               117.162428  119.604317  \n\n[4055 rows x 10 columns]",
      "text/html": "<div>\n<style scoped>\n    .dataframe tbody tr th:only-of-type {\n        vertical-align: middle;\n    }\n\n    .dataframe tbody tr th {\n        vertical-align: top;\n    }\n\n    .dataframe thead th {\n        text-align: right;\n    }\n</style>\n<table border=\"1\" class=\"dataframe\">\n  <thead>\n    <tr style=\"text-align: right;\">\n      <th></th>\n      <th>volatility_atr</th>\n      <th>volatility_bbw</th>\n      <th>volatility_kcl</th>\n      <th>volatility_kcw</th>\n      <th>volatility_dcw</th>\n      <th>trend_sma_slow</th>\n      <th>trend_ema_fast</th>\n      <th>trend_visual_ichimoku_a</th>\n      <th>trend_visual_ichimoku_b</th>\n      <th>others_cr</th>\n    </tr>\n    <tr>\n      <th>Datetime</th>\n      <th></th>\n      <th></th>\n      <th></th>\n      <th></th>\n      <th></th>\n      <th></th>\n      <th></th>\n      <th></th>\n      <th></th>\n      <th></th>\n    </tr>\n  </thead>\n  <tbody>\n    <tr>\n      <th>2020-03-23 05:00:00-04:00</th>\n      <td>0.000000</td>\n      <td>0.359389</td>\n      <td>55.025000</td>\n      <td>2.592044</td>\n      <td>1.527403</td>\n      <td>55.650000</td>\n      <td>55.615385</td>\n      <td>106.374421</td>\n      <td>106.397204</td>\n      <td>0.179856</td>\n    </tr>\n    <tr>\n      <th>2020-03-23 06:00:00-04:00</th>\n      <td>0.000000</td>\n      <td>2.038401</td>\n      <td>55.252500</td>\n      <td>2.319584</td>\n      <td>1.911398</td>\n      <td>55.849167</td>\n      <td>55.712633</td>\n      <td>106.374421</td>\n      <td>106.397204</td>\n      <td>1.164568</td>\n    </tr>\n    <tr>\n      <th>2020-03-23 07:00:00-04:00</th>\n      <td>0.000000</td>\n      <td>2.900047</td>\n      <td>55.378125</td>\n      <td>2.366560</td>\n      <td>2.462719</td>\n      <td>56.035625</td>\n      <td>55.848382</td>\n      <td>106.374421</td>\n      <td>106.397204</td>\n      <td>1.789568</td>\n    </tr>\n    <tr>\n      <th>2020-03-23 08:00:00-04:00</th>\n      <td>0.000000</td>\n      <td>5.662266</td>\n      <td>55.230333</td>\n      <td>3.713883</td>\n      <td>5.014098</td>\n      <td>56.391000</td>\n      <td>56.150554</td>\n      <td>106.374421</td>\n      <td>106.397204</td>\n      <td>3.979317</td>\n    </tr>\n    <tr>\n      <th>2020-03-23 09:00:00-04:00</th>\n      <td>0.000000</td>\n      <td>5.419708</td>\n      <td>55.220833</td>\n      <td>4.636079</td>\n      <td>7.354525</td>\n      <td>56.495833</td>\n      <td>56.284315</td>\n      <td>106.374421</td>\n      <td>106.397204</td>\n      <td>2.553957</td>\n    </tr>\n    <tr>\n      <th>...</th>\n      <td>...</td>\n      <td>...</td>\n      <td>...</td>\n      <td>...</td>\n      <td>...</td>\n      <td>...</td>\n      <td>...</td>\n      <td>...</td>\n      <td>...</td>\n      <td>...</td>\n    </tr>\n    <tr>\n      <th>2021-03-10 18:00:00-05:00</th>\n      <td>2.587835</td>\n      <td>4.707348</td>\n      <td>117.388895</td>\n      <td>3.745241</td>\n      <td>12.999208</td>\n      <td>120.438834</td>\n      <td>119.638692</td>\n      <td>115.798393</td>\n      <td>117.162428</td>\n      <td>116.043165</td>\n    </tr>\n    <tr>\n      <th>2021-03-11 04:00:00-05:00</th>\n      <td>2.576051</td>\n      <td>4.936945</td>\n      <td>117.643228</td>\n      <td>3.579187</td>\n      <td>12.991967</td>\n      <td>120.481258</td>\n      <td>120.066586</td>\n      <td>115.798393</td>\n      <td>117.162428</td>\n      <td>120.179856</td>\n    </tr>\n    <tr>\n      <th>2021-03-11 05:00:00-05:00</th>\n      <td>2.354446</td>\n      <td>5.150702</td>\n      <td>117.938584</td>\n      <td>3.462362</td>\n      <td>10.050443</td>\n      <td>120.558292</td>\n      <td>120.430188</td>\n      <td>117.379171</td>\n      <td>117.162428</td>\n      <td>120.197842</td>\n    </tr>\n    <tr>\n      <th>2021-03-11 06:00:00-05:00</th>\n      <td>2.173002</td>\n      <td>5.346915</td>\n      <td>118.207885</td>\n      <td>3.427646</td>\n      <td>8.166046</td>\n      <td>120.611238</td>\n      <td>120.745544</td>\n      <td>117.379171</td>\n      <td>117.162428</td>\n      <td>120.287770</td>\n    </tr>\n    <tr>\n      <th>2021-03-11 07:00:00-05:00</th>\n      <td>2.050701</td>\n      <td>5.453272</td>\n      <td>118.407651</td>\n      <td>3.436646</td>\n      <td>8.163165</td>\n      <td>120.631815</td>\n      <td>120.953921</td>\n      <td>117.411697</td>\n      <td>117.162428</td>\n      <td>119.604317</td>\n    </tr>\n  </tbody>\n</table>\n<p>4055 rows × 10 columns</p>\n</div>"
     },
     "execution_count": 223,
     "metadata": {},
     "output_type": "execute_result"
    }
   ],
   "source": [
    "x_test_cropped = x_test[columns]\n",
    "x_train_cropped = x_train[columns]\n",
    "x_train_cropped"
   ],
   "metadata": {
    "collapsed": false,
    "pycharm": {
     "name": "#%%\n"
    }
   }
  },
  {
   "cell_type": "code",
   "execution_count": 224,
   "outputs": [],
   "source": [
    "classifiers_boosted = dict()\n",
    "classifiers_boosted['GradientBoostingClassifier 1'] = GradientBoostingClassifier(n_estimators=100,random_state=0,criterion='friedman_mse',max_depth=3, learning_rate=0.1)\n",
    "classifiers_boosted['GradientBoostingClassifier 2'] = GradientBoostingClassifier(n_estimators=1000,random_state=0,criterion='friedman_mse',max_depth=3, learning_rate=0.3)\n",
    "classifiers_boosted['GradientBoostingClassifier 3'] = GradientBoostingClassifier(n_estimators=1000,random_state=0,criterion='friedman_mse',max_depth=2, learning_rate=0.5)\n",
    "classifiers_boosted['GradientBoostingClassifier 4'] = GradientBoostingClassifier(n_estimators=1000,random_state=0,criterion='friedman_mse',max_depth=2, learning_rate=0.8)"
   ],
   "metadata": {
    "collapsed": false,
    "pycharm": {
     "name": "#%%\n"
    }
   }
  },
  {
   "cell_type": "code",
   "execution_count": 225,
   "outputs": [
    {
     "name": "stdout",
     "output_type": "stream",
     "text": [
      "Calculate:  GradientBoostingClassifier 1\n",
      "Score:  0.625\n",
      "Calculate:  GradientBoostingClassifier 2\n",
      "Score:  0.5703125\n",
      "Calculate:  GradientBoostingClassifier 3\n",
      "Score:  0.5390625\n",
      "Calculate:  GradientBoostingClassifier 4\n",
      "Score:  0.578125\n",
      "+----+------------------------------+------------+\n",
      "|    | Classifier type              |   Accuracy |\n",
      "|----+------------------------------+------------|\n",
      "|  0 | GradientBoostingClassifier 1 |   0.625    |\n",
      "|  1 | GradientBoostingClassifier 2 |   0.570312 |\n",
      "|  2 | GradientBoostingClassifier 3 |   0.539062 |\n",
      "|  3 | GradientBoostingClassifier 4 |   0.578125 |\n",
      "+----+------------------------------+------------+\n"
     ]
    }
   ],
   "source": [
    "predictions= dict()\n",
    "score = dict()\n",
    "for k,v in classifiers_boosted.items():\n",
    "    print(\"Calculate: \", k)\n",
    "    train_model(v,x_train_cropped,y_train)\n",
    "    predictions[k] = v.predict(x_test_cropped)\n",
    "    score[k] = accuracy_score(y_test.values, predictions[k])\n",
    "    print('Score: ',  score[k] )\n",
    "    # print_conf_matrix(test_y, predictions[k], k)\n",
    "\n",
    "headers = [\"Classifier type\", \"Accuracy\"]\n",
    "score_df = pd.DataFrame(score.items(), columns=headers)\n",
    "print(tabulate(score_df, headers, tablefmt=\"psql\"))"
   ],
   "metadata": {
    "collapsed": false,
    "pycharm": {
     "name": "#%%\n"
    }
   }
  },
  {
   "cell_type": "code",
   "execution_count": 225,
   "outputs": [],
   "source": [],
   "metadata": {
    "collapsed": false,
    "pycharm": {
     "name": "#%%\n"
    }
   }
  }
 ],
 "metadata": {
  "kernelspec": {
   "name": "magisterka_analiza",
   "language": "python",
   "display_name": "Python magisterka"
  },
  "language_info": {
   "codemirror_mode": {
    "name": "ipython",
    "version": 2
   },
   "file_extension": ".py",
   "mimetype": "text/x-python",
   "name": "python",
   "nbconvert_exporter": "python",
   "pygments_lexer": "ipython2",
   "version": "2.7.6"
  }
 },
 "nbformat": 4,
 "nbformat_minor": 0
}