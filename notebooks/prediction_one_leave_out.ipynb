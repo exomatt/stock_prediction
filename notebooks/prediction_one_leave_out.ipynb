{
 "cells": [
  {
   "cell_type": "code",
   "execution_count": 21,
   "metadata": {
    "collapsed": true
   },
   "outputs": [],
   "source": [
    "from collections import defaultdict\n",
    "from sklearn.model_selection import LeaveOneOut\n",
    "from sklearn.model_selection import cross_val_score\n",
    "import pandas as pd\n",
    "import numpy as np\n",
    "import matplotlib.pyplot as plt\n",
    "from sklearn.ensemble import RandomForestClassifier\n",
    "from sklearn.tree import DecisionTreeClassifier\n",
    "from sklearn.ensemble import GradientBoostingClassifier\n",
    "from sklearn.metrics import confusion_matrix\n",
    "from sklearn.metrics import jaccard_score\n",
    "import seaborn as sn\n",
    "from sklearn.base import clone\n",
    "from tabulate import tabulate"
   ]
  },
  {
   "cell_type": "code",
   "execution_count": 22,
   "outputs": [],
   "source": [
    "#consts\n",
    "\n",
    "filename= 'fb_27_01_2021 18_51_42.csv'"
   ],
   "metadata": {
    "collapsed": false,
    "pycharm": {
     "name": "#%%\n"
    }
   }
  },
  {
   "cell_type": "code",
   "execution_count": 23,
   "outputs": [],
   "source": [
    "# functions\n",
    "\n",
    "def calculate_jaccard_score(test_y, predict):\n",
    "    return jaccard_score(test_y, predict, average=\"macro\")\n",
    "\n",
    "def print_conf_matrix(test_y, predict, name):\n",
    "    matrix = confusion_matrix(test_y, predict,  labels=[-1, 0, 1])\n",
    "    print(matrix)\n",
    "    ax= plt.subplot()\n",
    "    sn.heatmap(matrix, annot=True, ax = ax) #annot=True to annotate cells\n",
    "\n",
    "    # labels, title and ticks\n",
    "    ax.set_xlabel('Predicted labels', color='white')\n",
    "    ax.set_ylabel('True labels', color='white')\n",
    "    ax.set_title(f'Confusion Matrix for {name}' , color='white')\n",
    "    ax.xaxis.set_ticklabels(['-1','0', '1'], color='white')\n",
    "    ax.yaxis.set_ticklabels(['-1','0', '1'], color='white')\n",
    "    plt.show()\n",
    "\n",
    "def train_model(model,train_x, train_y):\n",
    "    model.fit(train_x, train_y)\n",
    "\n",
    "def leave_one_out_cross_val(model, train_x, train_y,):\n",
    "    return np.mean(cross_val_score(model, train_x,train_y, scoring='accuracy', cv=cv, n_jobs=-1))"
   ],
   "metadata": {
    "collapsed": false,
    "pycharm": {
     "name": "#%%\n"
    }
   }
  },
  {
   "cell_type": "code",
   "execution_count": 24,
   "outputs": [
    {
     "data": {
      "text/plain": "         Date      Time      Open      High       Low     Close   Volume  \\\n0  2017-05-17  19:00:00  147.4200  147.5000  146.8800  147.4040  1447021   \n1  2017-05-17  20:00:00  147.4001  147.4200  146.5800  146.9100  1639010   \n2  2017-05-17  21:00:00  146.9100  146.9834  145.6200  146.0800  3303803   \n3  2017-05-17  22:00:00  146.0800  146.3300  144.4216  144.8500  7778376   \n4  2017-05-18  16:00:00  144.7200  146.2300  144.5100  146.1000  4087815   \n5  2017-05-18  17:00:00  146.1100  147.4200  146.1100  146.8700  3926294   \n6  2017-05-18  18:00:00  146.8700  147.3724  146.3400  146.4300  2280229   \n7  2017-05-18  19:00:00  146.4400  147.1700  146.2000  146.7300  1460849   \n8  2017-05-18  20:00:00  146.7350  147.8000  146.5700  147.6066  1434632   \n9  2017-05-18  21:00:00  147.6100  148.1500  147.5600  147.6400  2415781   \n\n   Close_diff  h_l_diff  o_c_diff  ...  o_c_diff_8  o_c_diff_9  o_c_diff_10  \\\n0     -0.0160    0.6200    0.0160  ...      0.4560     -0.1895      -0.2940   \n1     -0.4940    0.8400    0.4901  ...      0.1951      0.9301       0.2846   \n2     -0.8300    1.3634    0.8300  ...      0.5107      0.5350       1.2700   \n3     -1.2300    1.9084    1.2300  ...      1.5250      0.9107       0.9350   \n4      1.2500    1.7200   -1.3800  ...     -1.3400     -1.0850      -1.6993   \n5      0.7700    1.3100   -0.7600  ...     -1.1300     -0.7200      -0.4650   \n6     -0.4400    1.0324    0.4400  ...     -0.4450      0.0700       0.4800   \n7      0.3000    0.9700   -0.2900  ...      0.3800     -1.1750      -0.6600   \n8      0.8766    1.2300   -0.8716  ...     -0.8876     -0.2016      -1.7566   \n9      0.0334    0.5900   -0.0300  ...     -0.5201     -0.0460       0.6400   \n\n   Open_daily_mean  High_daily_mean  Low_daily_mean  Close_daily_mean  \\\n0       146.952525       147.058350      145.875400        146.311000   \n1       146.952525       147.058350      145.875400        146.311000   \n2       146.952525       147.058350      145.875400        146.311000   \n3       146.952525       147.058350      145.875400        146.311000   \n4       146.589286       147.457486      146.394286        146.992371   \n5       146.589286       147.457486      146.394286        146.992371   \n6       146.589286       147.457486      146.394286        146.992371   \n7       146.589286       147.457486      146.394286        146.992371   \n8       146.589286       147.457486      146.394286        146.992371   \n9       146.589286       147.457486      146.394286        146.992371   \n\n   h_l_diff_daily_mean  o_c_diff_daily_mean  class_column  \n0              1.18295             0.641525             0  \n1              1.18295             0.641525            -1  \n2              1.18295             0.641525            -1  \n3              1.18295             0.641525            -1  \n4              1.06320            -0.403086             1  \n5              1.06320            -0.403086             1  \n6              1.06320            -0.403086            -1  \n7              1.06320            -0.403086             1  \n8              1.06320            -0.403086             1  \n9              1.06320            -0.403086             0  \n\n[10 rows x 77 columns]",
      "text/html": "<div>\n<style scoped>\n    .dataframe tbody tr th:only-of-type {\n        vertical-align: middle;\n    }\n\n    .dataframe tbody tr th {\n        vertical-align: top;\n    }\n\n    .dataframe thead th {\n        text-align: right;\n    }\n</style>\n<table border=\"1\" class=\"dataframe\">\n  <thead>\n    <tr style=\"text-align: right;\">\n      <th></th>\n      <th>Date</th>\n      <th>Time</th>\n      <th>Open</th>\n      <th>High</th>\n      <th>Low</th>\n      <th>Close</th>\n      <th>Volume</th>\n      <th>Close_diff</th>\n      <th>h_l_diff</th>\n      <th>o_c_diff</th>\n      <th>...</th>\n      <th>o_c_diff_8</th>\n      <th>o_c_diff_9</th>\n      <th>o_c_diff_10</th>\n      <th>Open_daily_mean</th>\n      <th>High_daily_mean</th>\n      <th>Low_daily_mean</th>\n      <th>Close_daily_mean</th>\n      <th>h_l_diff_daily_mean</th>\n      <th>o_c_diff_daily_mean</th>\n      <th>class_column</th>\n    </tr>\n  </thead>\n  <tbody>\n    <tr>\n      <th>0</th>\n      <td>2017-05-17</td>\n      <td>19:00:00</td>\n      <td>147.4200</td>\n      <td>147.5000</td>\n      <td>146.8800</td>\n      <td>147.4040</td>\n      <td>1447021</td>\n      <td>-0.0160</td>\n      <td>0.6200</td>\n      <td>0.0160</td>\n      <td>...</td>\n      <td>0.4560</td>\n      <td>-0.1895</td>\n      <td>-0.2940</td>\n      <td>146.952525</td>\n      <td>147.058350</td>\n      <td>145.875400</td>\n      <td>146.311000</td>\n      <td>1.18295</td>\n      <td>0.641525</td>\n      <td>0</td>\n    </tr>\n    <tr>\n      <th>1</th>\n      <td>2017-05-17</td>\n      <td>20:00:00</td>\n      <td>147.4001</td>\n      <td>147.4200</td>\n      <td>146.5800</td>\n      <td>146.9100</td>\n      <td>1639010</td>\n      <td>-0.4940</td>\n      <td>0.8400</td>\n      <td>0.4901</td>\n      <td>...</td>\n      <td>0.1951</td>\n      <td>0.9301</td>\n      <td>0.2846</td>\n      <td>146.952525</td>\n      <td>147.058350</td>\n      <td>145.875400</td>\n      <td>146.311000</td>\n      <td>1.18295</td>\n      <td>0.641525</td>\n      <td>-1</td>\n    </tr>\n    <tr>\n      <th>2</th>\n      <td>2017-05-17</td>\n      <td>21:00:00</td>\n      <td>146.9100</td>\n      <td>146.9834</td>\n      <td>145.6200</td>\n      <td>146.0800</td>\n      <td>3303803</td>\n      <td>-0.8300</td>\n      <td>1.3634</td>\n      <td>0.8300</td>\n      <td>...</td>\n      <td>0.5107</td>\n      <td>0.5350</td>\n      <td>1.2700</td>\n      <td>146.952525</td>\n      <td>147.058350</td>\n      <td>145.875400</td>\n      <td>146.311000</td>\n      <td>1.18295</td>\n      <td>0.641525</td>\n      <td>-1</td>\n    </tr>\n    <tr>\n      <th>3</th>\n      <td>2017-05-17</td>\n      <td>22:00:00</td>\n      <td>146.0800</td>\n      <td>146.3300</td>\n      <td>144.4216</td>\n      <td>144.8500</td>\n      <td>7778376</td>\n      <td>-1.2300</td>\n      <td>1.9084</td>\n      <td>1.2300</td>\n      <td>...</td>\n      <td>1.5250</td>\n      <td>0.9107</td>\n      <td>0.9350</td>\n      <td>146.952525</td>\n      <td>147.058350</td>\n      <td>145.875400</td>\n      <td>146.311000</td>\n      <td>1.18295</td>\n      <td>0.641525</td>\n      <td>-1</td>\n    </tr>\n    <tr>\n      <th>4</th>\n      <td>2017-05-18</td>\n      <td>16:00:00</td>\n      <td>144.7200</td>\n      <td>146.2300</td>\n      <td>144.5100</td>\n      <td>146.1000</td>\n      <td>4087815</td>\n      <td>1.2500</td>\n      <td>1.7200</td>\n      <td>-1.3800</td>\n      <td>...</td>\n      <td>-1.3400</td>\n      <td>-1.0850</td>\n      <td>-1.6993</td>\n      <td>146.589286</td>\n      <td>147.457486</td>\n      <td>146.394286</td>\n      <td>146.992371</td>\n      <td>1.06320</td>\n      <td>-0.403086</td>\n      <td>1</td>\n    </tr>\n    <tr>\n      <th>5</th>\n      <td>2017-05-18</td>\n      <td>17:00:00</td>\n      <td>146.1100</td>\n      <td>147.4200</td>\n      <td>146.1100</td>\n      <td>146.8700</td>\n      <td>3926294</td>\n      <td>0.7700</td>\n      <td>1.3100</td>\n      <td>-0.7600</td>\n      <td>...</td>\n      <td>-1.1300</td>\n      <td>-0.7200</td>\n      <td>-0.4650</td>\n      <td>146.589286</td>\n      <td>147.457486</td>\n      <td>146.394286</td>\n      <td>146.992371</td>\n      <td>1.06320</td>\n      <td>-0.403086</td>\n      <td>1</td>\n    </tr>\n    <tr>\n      <th>6</th>\n      <td>2017-05-18</td>\n      <td>18:00:00</td>\n      <td>146.8700</td>\n      <td>147.3724</td>\n      <td>146.3400</td>\n      <td>146.4300</td>\n      <td>2280229</td>\n      <td>-0.4400</td>\n      <td>1.0324</td>\n      <td>0.4400</td>\n      <td>...</td>\n      <td>-0.4450</td>\n      <td>0.0700</td>\n      <td>0.4800</td>\n      <td>146.589286</td>\n      <td>147.457486</td>\n      <td>146.394286</td>\n      <td>146.992371</td>\n      <td>1.06320</td>\n      <td>-0.403086</td>\n      <td>-1</td>\n    </tr>\n    <tr>\n      <th>7</th>\n      <td>2017-05-18</td>\n      <td>19:00:00</td>\n      <td>146.4400</td>\n      <td>147.1700</td>\n      <td>146.2000</td>\n      <td>146.7300</td>\n      <td>1460849</td>\n      <td>0.3000</td>\n      <td>0.9700</td>\n      <td>-0.2900</td>\n      <td>...</td>\n      <td>0.3800</td>\n      <td>-1.1750</td>\n      <td>-0.6600</td>\n      <td>146.589286</td>\n      <td>147.457486</td>\n      <td>146.394286</td>\n      <td>146.992371</td>\n      <td>1.06320</td>\n      <td>-0.403086</td>\n      <td>1</td>\n    </tr>\n    <tr>\n      <th>8</th>\n      <td>2017-05-18</td>\n      <td>20:00:00</td>\n      <td>146.7350</td>\n      <td>147.8000</td>\n      <td>146.5700</td>\n      <td>147.6066</td>\n      <td>1434632</td>\n      <td>0.8766</td>\n      <td>1.2300</td>\n      <td>-0.8716</td>\n      <td>...</td>\n      <td>-0.8876</td>\n      <td>-0.2016</td>\n      <td>-1.7566</td>\n      <td>146.589286</td>\n      <td>147.457486</td>\n      <td>146.394286</td>\n      <td>146.992371</td>\n      <td>1.06320</td>\n      <td>-0.403086</td>\n      <td>1</td>\n    </tr>\n    <tr>\n      <th>9</th>\n      <td>2017-05-18</td>\n      <td>21:00:00</td>\n      <td>147.6100</td>\n      <td>148.1500</td>\n      <td>147.5600</td>\n      <td>147.6400</td>\n      <td>2415781</td>\n      <td>0.0334</td>\n      <td>0.5900</td>\n      <td>-0.0300</td>\n      <td>...</td>\n      <td>-0.5201</td>\n      <td>-0.0460</td>\n      <td>0.6400</td>\n      <td>146.589286</td>\n      <td>147.457486</td>\n      <td>146.394286</td>\n      <td>146.992371</td>\n      <td>1.06320</td>\n      <td>-0.403086</td>\n      <td>0</td>\n    </tr>\n  </tbody>\n</table>\n<p>10 rows × 77 columns</p>\n</div>"
     },
     "execution_count": 24,
     "metadata": {},
     "output_type": "execute_result"
    }
   ],
   "source": [
    "df = pd.read_csv(f'../data/preprocess/{filename}')\n",
    "\n",
    "df.head(10)"
   ],
   "metadata": {
    "collapsed": false,
    "pycharm": {
     "name": "#%%\n"
    }
   }
  },
  {
   "cell_type": "code",
   "execution_count": 25,
   "outputs": [
    {
     "data": {
      "text/plain": "           Date      Time      Open      High       Low    Close   Volume  \\\n0    2017-05-17  19:00:00  147.4200  147.5000  146.8800  147.404  1447021   \n1    2017-05-17  20:00:00  147.4001  147.4200  146.5800  146.910  1639010   \n2    2017-05-17  21:00:00  146.9100  146.9834  145.6200  146.080  3303803   \n3    2017-05-17  22:00:00  146.0800  146.3300  144.4216  144.850  7778376   \n4    2017-05-18  16:00:00  144.7200  146.2300  144.5100  146.100  4087815   \n..          ...       ...       ...       ...       ...      ...      ...   \n980  2017-12-06  17:00:00  174.6776  175.7500  174.1950  175.740  2830563   \n981  2017-12-06  18:00:00  175.7100  176.0900  174.9500  175.500  1945926   \n982  2017-12-06  19:00:00  175.4800  175.8200  174.4600  175.080  1330343   \n983  2017-12-06  20:00:00  175.1100  175.8200  174.7000  175.700  1146662   \n985  2017-12-06  22:00:00  176.1700  176.7700  175.8700  176.080  2459608   \n\n     Close_diff  h_l_diff  o_c_diff  ...  o_c_diff_8  o_c_diff_9  o_c_diff_10  \\\n0        -0.016    0.6200    0.0160  ...      0.4560     -0.1895      -0.2940   \n1        -0.494    0.8400    0.4901  ...      0.1951      0.9301       0.2846   \n2        -0.830    1.3634    0.8300  ...      0.5107      0.5350       1.2700   \n3        -1.230    1.9084    1.2300  ...      1.5250      0.9107       0.9350   \n4         1.250    1.7200   -1.3800  ...     -1.3400     -1.0850      -1.6993   \n..          ...       ...       ...  ...         ...         ...          ...   \n980       1.070    1.5550   -1.0624  ...      1.9226     -2.1824      -2.6024   \n981      -0.240    1.1400    0.2100  ...      1.6508      3.1950      -0.9100   \n982      -0.420    1.3600    0.4000  ...     -0.5784      1.8408       3.3850   \n983       0.620    1.1200   -0.5900  ...     -0.8700     -1.5684       0.8508   \n985      -0.100    0.9000    0.0900  ...     -0.7500     -0.0500      -0.1900   \n\n     Open_daily_mean  High_daily_mean  Low_daily_mean  Close_daily_mean  \\\n0         146.952525       147.058350      145.875400        146.311000   \n1         146.952525       147.058350      145.875400        146.311000   \n2         146.952525       147.058350      145.875400        146.311000   \n3         146.952525       147.058350      145.875400        146.311000   \n4         146.589286       147.457486      146.394286        146.992371   \n..               ...              ...             ...               ...   \n980       175.051086       175.990000      174.537857        175.564286   \n981       175.051086       175.990000      174.537857        175.564286   \n982       175.051086       175.990000      174.537857        175.564286   \n983       175.051086       175.990000      174.537857        175.564286   \n985       175.051086       175.990000      174.537857        175.564286   \n\n     h_l_diff_daily_mean  o_c_diff_daily_mean  class_column  \n0               1.182950             0.641525             0  \n1               1.182950             0.641525            -1  \n2               1.182950             0.641525            -1  \n3               1.182950             0.641525            -1  \n4               1.063200            -0.403086             1  \n..                   ...                  ...           ...  \n980             1.452143            -0.513200             1  \n981             1.452143            -0.513200            -1  \n982             1.452143            -0.513200            -1  \n983             1.452143            -0.513200             1  \n985             1.452143            -0.513200             0  \n\n[986 rows x 77 columns]",
      "text/html": "<div>\n<style scoped>\n    .dataframe tbody tr th:only-of-type {\n        vertical-align: middle;\n    }\n\n    .dataframe tbody tr th {\n        vertical-align: top;\n    }\n\n    .dataframe thead th {\n        text-align: right;\n    }\n</style>\n<table border=\"1\" class=\"dataframe\">\n  <thead>\n    <tr style=\"text-align: right;\">\n      <th></th>\n      <th>Date</th>\n      <th>Time</th>\n      <th>Open</th>\n      <th>High</th>\n      <th>Low</th>\n      <th>Close</th>\n      <th>Volume</th>\n      <th>Close_diff</th>\n      <th>h_l_diff</th>\n      <th>o_c_diff</th>\n      <th>...</th>\n      <th>o_c_diff_8</th>\n      <th>o_c_diff_9</th>\n      <th>o_c_diff_10</th>\n      <th>Open_daily_mean</th>\n      <th>High_daily_mean</th>\n      <th>Low_daily_mean</th>\n      <th>Close_daily_mean</th>\n      <th>h_l_diff_daily_mean</th>\n      <th>o_c_diff_daily_mean</th>\n      <th>class_column</th>\n    </tr>\n  </thead>\n  <tbody>\n    <tr>\n      <th>0</th>\n      <td>2017-05-17</td>\n      <td>19:00:00</td>\n      <td>147.4200</td>\n      <td>147.5000</td>\n      <td>146.8800</td>\n      <td>147.404</td>\n      <td>1447021</td>\n      <td>-0.016</td>\n      <td>0.6200</td>\n      <td>0.0160</td>\n      <td>...</td>\n      <td>0.4560</td>\n      <td>-0.1895</td>\n      <td>-0.2940</td>\n      <td>146.952525</td>\n      <td>147.058350</td>\n      <td>145.875400</td>\n      <td>146.311000</td>\n      <td>1.182950</td>\n      <td>0.641525</td>\n      <td>0</td>\n    </tr>\n    <tr>\n      <th>1</th>\n      <td>2017-05-17</td>\n      <td>20:00:00</td>\n      <td>147.4001</td>\n      <td>147.4200</td>\n      <td>146.5800</td>\n      <td>146.910</td>\n      <td>1639010</td>\n      <td>-0.494</td>\n      <td>0.8400</td>\n      <td>0.4901</td>\n      <td>...</td>\n      <td>0.1951</td>\n      <td>0.9301</td>\n      <td>0.2846</td>\n      <td>146.952525</td>\n      <td>147.058350</td>\n      <td>145.875400</td>\n      <td>146.311000</td>\n      <td>1.182950</td>\n      <td>0.641525</td>\n      <td>-1</td>\n    </tr>\n    <tr>\n      <th>2</th>\n      <td>2017-05-17</td>\n      <td>21:00:00</td>\n      <td>146.9100</td>\n      <td>146.9834</td>\n      <td>145.6200</td>\n      <td>146.080</td>\n      <td>3303803</td>\n      <td>-0.830</td>\n      <td>1.3634</td>\n      <td>0.8300</td>\n      <td>...</td>\n      <td>0.5107</td>\n      <td>0.5350</td>\n      <td>1.2700</td>\n      <td>146.952525</td>\n      <td>147.058350</td>\n      <td>145.875400</td>\n      <td>146.311000</td>\n      <td>1.182950</td>\n      <td>0.641525</td>\n      <td>-1</td>\n    </tr>\n    <tr>\n      <th>3</th>\n      <td>2017-05-17</td>\n      <td>22:00:00</td>\n      <td>146.0800</td>\n      <td>146.3300</td>\n      <td>144.4216</td>\n      <td>144.850</td>\n      <td>7778376</td>\n      <td>-1.230</td>\n      <td>1.9084</td>\n      <td>1.2300</td>\n      <td>...</td>\n      <td>1.5250</td>\n      <td>0.9107</td>\n      <td>0.9350</td>\n      <td>146.952525</td>\n      <td>147.058350</td>\n      <td>145.875400</td>\n      <td>146.311000</td>\n      <td>1.182950</td>\n      <td>0.641525</td>\n      <td>-1</td>\n    </tr>\n    <tr>\n      <th>4</th>\n      <td>2017-05-18</td>\n      <td>16:00:00</td>\n      <td>144.7200</td>\n      <td>146.2300</td>\n      <td>144.5100</td>\n      <td>146.100</td>\n      <td>4087815</td>\n      <td>1.250</td>\n      <td>1.7200</td>\n      <td>-1.3800</td>\n      <td>...</td>\n      <td>-1.3400</td>\n      <td>-1.0850</td>\n      <td>-1.6993</td>\n      <td>146.589286</td>\n      <td>147.457486</td>\n      <td>146.394286</td>\n      <td>146.992371</td>\n      <td>1.063200</td>\n      <td>-0.403086</td>\n      <td>1</td>\n    </tr>\n    <tr>\n      <th>...</th>\n      <td>...</td>\n      <td>...</td>\n      <td>...</td>\n      <td>...</td>\n      <td>...</td>\n      <td>...</td>\n      <td>...</td>\n      <td>...</td>\n      <td>...</td>\n      <td>...</td>\n      <td>...</td>\n      <td>...</td>\n      <td>...</td>\n      <td>...</td>\n      <td>...</td>\n      <td>...</td>\n      <td>...</td>\n      <td>...</td>\n      <td>...</td>\n      <td>...</td>\n      <td>...</td>\n    </tr>\n    <tr>\n      <th>980</th>\n      <td>2017-12-06</td>\n      <td>17:00:00</td>\n      <td>174.6776</td>\n      <td>175.7500</td>\n      <td>174.1950</td>\n      <td>175.740</td>\n      <td>2830563</td>\n      <td>1.070</td>\n      <td>1.5550</td>\n      <td>-1.0624</td>\n      <td>...</td>\n      <td>1.9226</td>\n      <td>-2.1824</td>\n      <td>-2.6024</td>\n      <td>175.051086</td>\n      <td>175.990000</td>\n      <td>174.537857</td>\n      <td>175.564286</td>\n      <td>1.452143</td>\n      <td>-0.513200</td>\n      <td>1</td>\n    </tr>\n    <tr>\n      <th>981</th>\n      <td>2017-12-06</td>\n      <td>18:00:00</td>\n      <td>175.7100</td>\n      <td>176.0900</td>\n      <td>174.9500</td>\n      <td>175.500</td>\n      <td>1945926</td>\n      <td>-0.240</td>\n      <td>1.1400</td>\n      <td>0.2100</td>\n      <td>...</td>\n      <td>1.6508</td>\n      <td>3.1950</td>\n      <td>-0.9100</td>\n      <td>175.051086</td>\n      <td>175.990000</td>\n      <td>174.537857</td>\n      <td>175.564286</td>\n      <td>1.452143</td>\n      <td>-0.513200</td>\n      <td>-1</td>\n    </tr>\n    <tr>\n      <th>982</th>\n      <td>2017-12-06</td>\n      <td>19:00:00</td>\n      <td>175.4800</td>\n      <td>175.8200</td>\n      <td>174.4600</td>\n      <td>175.080</td>\n      <td>1330343</td>\n      <td>-0.420</td>\n      <td>1.3600</td>\n      <td>0.4000</td>\n      <td>...</td>\n      <td>-0.5784</td>\n      <td>1.8408</td>\n      <td>3.3850</td>\n      <td>175.051086</td>\n      <td>175.990000</td>\n      <td>174.537857</td>\n      <td>175.564286</td>\n      <td>1.452143</td>\n      <td>-0.513200</td>\n      <td>-1</td>\n    </tr>\n    <tr>\n      <th>983</th>\n      <td>2017-12-06</td>\n      <td>20:00:00</td>\n      <td>175.1100</td>\n      <td>175.8200</td>\n      <td>174.7000</td>\n      <td>175.700</td>\n      <td>1146662</td>\n      <td>0.620</td>\n      <td>1.1200</td>\n      <td>-0.5900</td>\n      <td>...</td>\n      <td>-0.8700</td>\n      <td>-1.5684</td>\n      <td>0.8508</td>\n      <td>175.051086</td>\n      <td>175.990000</td>\n      <td>174.537857</td>\n      <td>175.564286</td>\n      <td>1.452143</td>\n      <td>-0.513200</td>\n      <td>1</td>\n    </tr>\n    <tr>\n      <th>985</th>\n      <td>2017-12-06</td>\n      <td>22:00:00</td>\n      <td>176.1700</td>\n      <td>176.7700</td>\n      <td>175.8700</td>\n      <td>176.080</td>\n      <td>2459608</td>\n      <td>-0.100</td>\n      <td>0.9000</td>\n      <td>0.0900</td>\n      <td>...</td>\n      <td>-0.7500</td>\n      <td>-0.0500</td>\n      <td>-0.1900</td>\n      <td>175.051086</td>\n      <td>175.990000</td>\n      <td>174.537857</td>\n      <td>175.564286</td>\n      <td>1.452143</td>\n      <td>-0.513200</td>\n      <td>0</td>\n    </tr>\n  </tbody>\n</table>\n<p>986 rows × 77 columns</p>\n</div>"
     },
     "execution_count": 25,
     "metadata": {},
     "output_type": "execute_result"
    }
   ],
   "source": [
    "# sort\n",
    "df = df.sort_values(by=['Date'])\n",
    "df"
   ],
   "metadata": {
    "collapsed": false,
    "pycharm": {
     "name": "#%%\n"
    }
   }
  },
  {
   "cell_type": "code",
   "execution_count": 26,
   "outputs": [],
   "source": [
    "# get last date\n",
    "# df.sort('Date')['Date'].value_counts()\n",
    "\n",
    "train_set = df.copy()\n",
    "train_set = train_set.drop(['Date','Time'],1)\n",
    "train_x = train_set.drop(['class_column'],1)\n",
    "train_y = train_set['class_column']"
   ],
   "metadata": {
    "collapsed": false,
    "pycharm": {
     "name": "#%%\n"
    }
   }
  },
  {
   "cell_type": "code",
   "execution_count": 27,
   "outputs": [
    {
     "data": {
      "text/plain": "         Open      High       Low    Close   Volume  Close_diff  h_l_diff  \\\n0    147.4200  147.5000  146.8800  147.404  1447021      -0.016    0.6200   \n1    147.4001  147.4200  146.5800  146.910  1639010      -0.494    0.8400   \n2    146.9100  146.9834  145.6200  146.080  3303803      -0.830    1.3634   \n3    146.0800  146.3300  144.4216  144.850  7778376      -1.230    1.9084   \n4    144.7200  146.2300  144.5100  146.100  4087815       1.250    1.7200   \n..        ...       ...       ...      ...      ...         ...       ...   \n980  174.6776  175.7500  174.1950  175.740  2830563       1.070    1.5550   \n981  175.7100  176.0900  174.9500  175.500  1945926      -0.240    1.1400   \n982  175.4800  175.8200  174.4600  175.080  1330343      -0.420    1.3600   \n983  175.1100  175.8200  174.7000  175.700  1146662       0.620    1.1200   \n985  176.1700  176.7700  175.8700  176.080  2459608      -0.100    0.9000   \n\n     o_c_diff  Open_1  Open_2  ...  o_c_diff_7  o_c_diff_8  o_c_diff_9  \\\n0      0.0160  0.6700 -0.2100  ...     -0.2790      0.4560     -0.1895   \n1      0.4901 -0.0199  0.6501  ...      0.1708      0.1951      0.9301   \n2      0.8300 -0.4901 -0.5100  ...      1.1250      0.5107      0.5350   \n3      1.2300 -0.8300 -1.3201  ...      1.2700      1.5250      0.9107   \n4     -1.3800 -1.3600 -2.1900  ...     -1.7500     -1.3400     -1.0850   \n..        ...     ...     ...  ...         ...         ...         ...   \n980   -1.0624  2.1776  2.0276  ...      0.3784      1.9226     -2.1824   \n981    0.2100  1.0324  3.2100  ...     -0.7684      1.6508      3.1950   \n982    0.4000 -0.2300  0.8024  ...      0.1200     -0.5784      1.8408   \n983   -0.5900 -0.3700 -0.6000  ...     -0.7300     -0.8700     -1.5684   \n985    0.0900  0.4600  1.0600  ...      0.2700     -0.7500     -0.0500   \n\n     o_c_diff_10  Open_daily_mean  High_daily_mean  Low_daily_mean  \\\n0        -0.2940       146.952525       147.058350      145.875400   \n1         0.2846       146.952525       147.058350      145.875400   \n2         1.2700       146.952525       147.058350      145.875400   \n3         0.9350       146.952525       147.058350      145.875400   \n4        -1.6993       146.589286       147.457486      146.394286   \n..           ...              ...              ...             ...   \n980      -2.6024       175.051086       175.990000      174.537857   \n981      -0.9100       175.051086       175.990000      174.537857   \n982       3.3850       175.051086       175.990000      174.537857   \n983       0.8508       175.051086       175.990000      174.537857   \n985      -0.1900       175.051086       175.990000      174.537857   \n\n     Close_daily_mean  h_l_diff_daily_mean  o_c_diff_daily_mean  \n0          146.311000             1.182950             0.641525  \n1          146.311000             1.182950             0.641525  \n2          146.311000             1.182950             0.641525  \n3          146.311000             1.182950             0.641525  \n4          146.992371             1.063200            -0.403086  \n..                ...                  ...                  ...  \n980        175.564286             1.452143            -0.513200  \n981        175.564286             1.452143            -0.513200  \n982        175.564286             1.452143            -0.513200  \n983        175.564286             1.452143            -0.513200  \n985        175.564286             1.452143            -0.513200  \n\n[986 rows x 74 columns]",
      "text/html": "<div>\n<style scoped>\n    .dataframe tbody tr th:only-of-type {\n        vertical-align: middle;\n    }\n\n    .dataframe tbody tr th {\n        vertical-align: top;\n    }\n\n    .dataframe thead th {\n        text-align: right;\n    }\n</style>\n<table border=\"1\" class=\"dataframe\">\n  <thead>\n    <tr style=\"text-align: right;\">\n      <th></th>\n      <th>Open</th>\n      <th>High</th>\n      <th>Low</th>\n      <th>Close</th>\n      <th>Volume</th>\n      <th>Close_diff</th>\n      <th>h_l_diff</th>\n      <th>o_c_diff</th>\n      <th>Open_1</th>\n      <th>Open_2</th>\n      <th>...</th>\n      <th>o_c_diff_7</th>\n      <th>o_c_diff_8</th>\n      <th>o_c_diff_9</th>\n      <th>o_c_diff_10</th>\n      <th>Open_daily_mean</th>\n      <th>High_daily_mean</th>\n      <th>Low_daily_mean</th>\n      <th>Close_daily_mean</th>\n      <th>h_l_diff_daily_mean</th>\n      <th>o_c_diff_daily_mean</th>\n    </tr>\n  </thead>\n  <tbody>\n    <tr>\n      <th>0</th>\n      <td>147.4200</td>\n      <td>147.5000</td>\n      <td>146.8800</td>\n      <td>147.404</td>\n      <td>1447021</td>\n      <td>-0.016</td>\n      <td>0.6200</td>\n      <td>0.0160</td>\n      <td>0.6700</td>\n      <td>-0.2100</td>\n      <td>...</td>\n      <td>-0.2790</td>\n      <td>0.4560</td>\n      <td>-0.1895</td>\n      <td>-0.2940</td>\n      <td>146.952525</td>\n      <td>147.058350</td>\n      <td>145.875400</td>\n      <td>146.311000</td>\n      <td>1.182950</td>\n      <td>0.641525</td>\n    </tr>\n    <tr>\n      <th>1</th>\n      <td>147.4001</td>\n      <td>147.4200</td>\n      <td>146.5800</td>\n      <td>146.910</td>\n      <td>1639010</td>\n      <td>-0.494</td>\n      <td>0.8400</td>\n      <td>0.4901</td>\n      <td>-0.0199</td>\n      <td>0.6501</td>\n      <td>...</td>\n      <td>0.1708</td>\n      <td>0.1951</td>\n      <td>0.9301</td>\n      <td>0.2846</td>\n      <td>146.952525</td>\n      <td>147.058350</td>\n      <td>145.875400</td>\n      <td>146.311000</td>\n      <td>1.182950</td>\n      <td>0.641525</td>\n    </tr>\n    <tr>\n      <th>2</th>\n      <td>146.9100</td>\n      <td>146.9834</td>\n      <td>145.6200</td>\n      <td>146.080</td>\n      <td>3303803</td>\n      <td>-0.830</td>\n      <td>1.3634</td>\n      <td>0.8300</td>\n      <td>-0.4901</td>\n      <td>-0.5100</td>\n      <td>...</td>\n      <td>1.1250</td>\n      <td>0.5107</td>\n      <td>0.5350</td>\n      <td>1.2700</td>\n      <td>146.952525</td>\n      <td>147.058350</td>\n      <td>145.875400</td>\n      <td>146.311000</td>\n      <td>1.182950</td>\n      <td>0.641525</td>\n    </tr>\n    <tr>\n      <th>3</th>\n      <td>146.0800</td>\n      <td>146.3300</td>\n      <td>144.4216</td>\n      <td>144.850</td>\n      <td>7778376</td>\n      <td>-1.230</td>\n      <td>1.9084</td>\n      <td>1.2300</td>\n      <td>-0.8300</td>\n      <td>-1.3201</td>\n      <td>...</td>\n      <td>1.2700</td>\n      <td>1.5250</td>\n      <td>0.9107</td>\n      <td>0.9350</td>\n      <td>146.952525</td>\n      <td>147.058350</td>\n      <td>145.875400</td>\n      <td>146.311000</td>\n      <td>1.182950</td>\n      <td>0.641525</td>\n    </tr>\n    <tr>\n      <th>4</th>\n      <td>144.7200</td>\n      <td>146.2300</td>\n      <td>144.5100</td>\n      <td>146.100</td>\n      <td>4087815</td>\n      <td>1.250</td>\n      <td>1.7200</td>\n      <td>-1.3800</td>\n      <td>-1.3600</td>\n      <td>-2.1900</td>\n      <td>...</td>\n      <td>-1.7500</td>\n      <td>-1.3400</td>\n      <td>-1.0850</td>\n      <td>-1.6993</td>\n      <td>146.589286</td>\n      <td>147.457486</td>\n      <td>146.394286</td>\n      <td>146.992371</td>\n      <td>1.063200</td>\n      <td>-0.403086</td>\n    </tr>\n    <tr>\n      <th>...</th>\n      <td>...</td>\n      <td>...</td>\n      <td>...</td>\n      <td>...</td>\n      <td>...</td>\n      <td>...</td>\n      <td>...</td>\n      <td>...</td>\n      <td>...</td>\n      <td>...</td>\n      <td>...</td>\n      <td>...</td>\n      <td>...</td>\n      <td>...</td>\n      <td>...</td>\n      <td>...</td>\n      <td>...</td>\n      <td>...</td>\n      <td>...</td>\n      <td>...</td>\n      <td>...</td>\n    </tr>\n    <tr>\n      <th>980</th>\n      <td>174.6776</td>\n      <td>175.7500</td>\n      <td>174.1950</td>\n      <td>175.740</td>\n      <td>2830563</td>\n      <td>1.070</td>\n      <td>1.5550</td>\n      <td>-1.0624</td>\n      <td>2.1776</td>\n      <td>2.0276</td>\n      <td>...</td>\n      <td>0.3784</td>\n      <td>1.9226</td>\n      <td>-2.1824</td>\n      <td>-2.6024</td>\n      <td>175.051086</td>\n      <td>175.990000</td>\n      <td>174.537857</td>\n      <td>175.564286</td>\n      <td>1.452143</td>\n      <td>-0.513200</td>\n    </tr>\n    <tr>\n      <th>981</th>\n      <td>175.7100</td>\n      <td>176.0900</td>\n      <td>174.9500</td>\n      <td>175.500</td>\n      <td>1945926</td>\n      <td>-0.240</td>\n      <td>1.1400</td>\n      <td>0.2100</td>\n      <td>1.0324</td>\n      <td>3.2100</td>\n      <td>...</td>\n      <td>-0.7684</td>\n      <td>1.6508</td>\n      <td>3.1950</td>\n      <td>-0.9100</td>\n      <td>175.051086</td>\n      <td>175.990000</td>\n      <td>174.537857</td>\n      <td>175.564286</td>\n      <td>1.452143</td>\n      <td>-0.513200</td>\n    </tr>\n    <tr>\n      <th>982</th>\n      <td>175.4800</td>\n      <td>175.8200</td>\n      <td>174.4600</td>\n      <td>175.080</td>\n      <td>1330343</td>\n      <td>-0.420</td>\n      <td>1.3600</td>\n      <td>0.4000</td>\n      <td>-0.2300</td>\n      <td>0.8024</td>\n      <td>...</td>\n      <td>0.1200</td>\n      <td>-0.5784</td>\n      <td>1.8408</td>\n      <td>3.3850</td>\n      <td>175.051086</td>\n      <td>175.990000</td>\n      <td>174.537857</td>\n      <td>175.564286</td>\n      <td>1.452143</td>\n      <td>-0.513200</td>\n    </tr>\n    <tr>\n      <th>983</th>\n      <td>175.1100</td>\n      <td>175.8200</td>\n      <td>174.7000</td>\n      <td>175.700</td>\n      <td>1146662</td>\n      <td>0.620</td>\n      <td>1.1200</td>\n      <td>-0.5900</td>\n      <td>-0.3700</td>\n      <td>-0.6000</td>\n      <td>...</td>\n      <td>-0.7300</td>\n      <td>-0.8700</td>\n      <td>-1.5684</td>\n      <td>0.8508</td>\n      <td>175.051086</td>\n      <td>175.990000</td>\n      <td>174.537857</td>\n      <td>175.564286</td>\n      <td>1.452143</td>\n      <td>-0.513200</td>\n    </tr>\n    <tr>\n      <th>985</th>\n      <td>176.1700</td>\n      <td>176.7700</td>\n      <td>175.8700</td>\n      <td>176.080</td>\n      <td>2459608</td>\n      <td>-0.100</td>\n      <td>0.9000</td>\n      <td>0.0900</td>\n      <td>0.4600</td>\n      <td>1.0600</td>\n      <td>...</td>\n      <td>0.2700</td>\n      <td>-0.7500</td>\n      <td>-0.0500</td>\n      <td>-0.1900</td>\n      <td>175.051086</td>\n      <td>175.990000</td>\n      <td>174.537857</td>\n      <td>175.564286</td>\n      <td>1.452143</td>\n      <td>-0.513200</td>\n    </tr>\n  </tbody>\n</table>\n<p>986 rows × 74 columns</p>\n</div>"
     },
     "execution_count": 27,
     "metadata": {},
     "output_type": "execute_result"
    }
   ],
   "source": [
    "train_x"
   ],
   "metadata": {
    "collapsed": false,
    "pycharm": {
     "name": "#%%\n"
    }
   }
  },
  {
   "cell_type": "code",
   "execution_count": 28,
   "outputs": [
    {
     "data": {
      "text/plain": "0      0\n1     -1\n2     -1\n3     -1\n4      1\n      ..\n980    1\n981   -1\n982   -1\n983    1\n985    0\nName: class_column, Length: 986, dtype: int64"
     },
     "execution_count": 28,
     "metadata": {},
     "output_type": "execute_result"
    }
   ],
   "source": [
    "train_y"
   ],
   "metadata": {
    "collapsed": false,
    "pycharm": {
     "name": "#%%\n"
    }
   }
  },
  {
   "cell_type": "code",
   "execution_count": 29,
   "outputs": [],
   "source": [
    "classifiers = dict()\n",
    "classifiers['RandomForestClassifier 1'] = RandomForestClassifier(n_estimators=100, max_depth=2, random_state=0,criterion='gini')\n",
    "classifiers['RandomForestClassifier 2'] = RandomForestClassifier(n_estimators=1000, max_depth=2, random_state=0,criterion='gini')\n",
    "classifiers['RandomForestClassifier 3'] = RandomForestClassifier(n_estimators=100, max_depth=3, random_state=0,criterion='gini')\n",
    "classifiers['RandomForestClassifier 4'] = RandomForestClassifier(n_estimators=1000, max_depth=3, random_state=0,criterion='gini')\n",
    "# classifiers['RandomForestClassifier 5'] = RandomForestClassifier(n_estimators=100, max_depth=2, random_state=0,criterion='entropy')\n",
    "# classifiers['RandomForestClassifier 6'] = RandomForestClassifier(n_estimators=1000, max_depth=2, random_state=0,criterion='entropy')\n",
    "# classifiers['RandomForestClassifier 7'] = RandomForestClassifier(n_estimators=100, max_depth=3, random_state=0,criterion='entropy')\n",
    "# classifiers['RandomForestClassifier 8'] = RandomForestClassifier(n_estimators=1000, max_depth=3, random_state=0,criterion='entropy')\n",
    "\n",
    "classifiers['DecisionTreeClassifier 1'] = DecisionTreeClassifier(max_depth=10, random_state=0,criterion='gini',splitter='best')\n",
    "classifiers['DecisionTreeClassifier 2'] = DecisionTreeClassifier(max_depth=10, random_state=0,criterion='gini',splitter='random')\n",
    "classifiers['DecisionTreeClassifier 3'] = DecisionTreeClassifier(max_depth=10, random_state=0,criterion='entropy',splitter='best')\n",
    "classifiers['DecisionTreeClassifier 4'] = DecisionTreeClassifier(max_depth=10, random_state=0,criterion='entropy',splitter='random')\n",
    "classifiers['DecisionTreeClassifier 5'] = DecisionTreeClassifier(random_state=0,criterion='gini',splitter='best')\n",
    "classifiers['DecisionTreeClassifier 6'] = DecisionTreeClassifier(random_state=0,criterion='gini',splitter='random')\n",
    "classifiers['DecisionTreeClassifier 7'] = DecisionTreeClassifier(random_state=0,criterion='entropy',splitter='best')\n",
    "classifiers['DecisionTreeClassifier 8'] = DecisionTreeClassifier(random_state=0,criterion='entropy',splitter='random')\n",
    "\n",
    "classifiers['GradientBoostingClassifier 1'] = GradientBoostingClassifier(n_estimators=100,random_state=0,criterion='friedman_mse',max_depth=3, learning_rate=0.1)\n",
    "classifiers['GradientBoostingClassifier 2'] = GradientBoostingClassifier(n_estimators=100,random_state=0,criterion='friedman_mse',max_depth=3, learning_rate=0.3)\n",
    "classifiers['GradientBoostingClassifier 3'] = GradientBoostingClassifier(n_estimators=100,random_state=0,criterion='friedman_mse',max_depth=3, learning_rate=0.5)\n",
    "classifiers['GradientBoostingClassifier 4'] = GradientBoostingClassifier(n_estimators=100,random_state=0,criterion='friedman_mse',max_depth=3, learning_rate=1)\n",
    "\n"
   ],
   "metadata": {
    "collapsed": false,
    "pycharm": {
     "name": "#%%\n"
    }
   }
  },
  {
   "cell_type": "code",
   "execution_count": 30,
   "outputs": [],
   "source": [
    "cv = LeaveOneOut()\n",
    "predictions= dict()\n",
    "score = dict()\n",
    "\n",
    "for k,v in classifiers.items():\n",
    "    score[k] = leave_one_out_cross_val(v,train_x,train_y)"
   ],
   "metadata": {
    "collapsed": false,
    "pycharm": {
     "name": "#%%\n"
    }
   }
  },
  {
   "cell_type": "code",
   "execution_count": 34,
   "outputs": [
    {
     "name": "stdout",
     "output_type": "stream",
     "text": [
      "+----+------------------------------+----------+\n",
      "|    | Classifier type              |    Score |\n",
      "|----+------------------------------+----------|\n",
      "|  0 | RandomForestClassifier 1     | 0.98783  |\n",
      "|  1 | RandomForestClassifier 2     | 0.984787 |\n",
      "|  2 | RandomForestClassifier 3     | 0.994929 |\n",
      "|  3 | RandomForestClassifier 4     | 0.994929 |\n",
      "|  4 | DecisionTreeClassifier 1     | 0.991886 |\n",
      "|  5 | DecisionTreeClassifier 2     | 0.932049 |\n",
      "|  6 | DecisionTreeClassifier 3     | 0.991886 |\n",
      "|  7 | DecisionTreeClassifier 4     | 0.957404 |\n",
      "|  8 | DecisionTreeClassifier 5     | 0.991886 |\n",
      "|  9 | DecisionTreeClassifier 6     | 0.953347 |\n",
      "| 10 | DecisionTreeClassifier 7     | 0.991886 |\n",
      "| 11 | DecisionTreeClassifier 8     | 0.957404 |\n",
      "| 12 | GradientBoostingClassifier 1 | 0.991886 |\n",
      "| 13 | GradientBoostingClassifier 2 | 0.992901 |\n",
      "| 14 | GradientBoostingClassifier 3 | 0.993915 |\n",
      "| 15 | GradientBoostingClassifier 4 | 0.993915 |\n",
      "+----+------------------------------+----------+\n"
     ]
    }
   ],
   "source": [
    "headers = [\"Classifier type\", \"Score\"]\n",
    "score_df = pd.DataFrame(score.items(), columns=headers)\n",
    "print(tabulate(score_df, headers, tablefmt=\"psql\"))\n",
    "\n",
    "\n"
   ],
   "metadata": {
    "collapsed": false,
    "pycharm": {
     "name": "#%%\n"
    }
   }
  },
  {
   "cell_type": "code",
   "execution_count": 35,
   "outputs": [
    {
     "ename": "NotFittedError",
     "evalue": "This RandomForestClassifier instance is not fitted yet. Call 'fit' with appropriate arguments before using this estimator.",
     "output_type": "error",
     "traceback": [
      "\u001B[1;31m---------------------------------------------------------------------------\u001B[0m",
      "\u001B[1;31mNotFittedError\u001B[0m                            Traceback (most recent call last)",
      "\u001B[1;32m<ipython-input-35-19fc8c3bd443>\u001B[0m in \u001B[0;36m<module>\u001B[1;34m\u001B[0m\n\u001B[1;32m----> 1\u001B[1;33m \u001B[0mclassifiers\u001B[0m\u001B[1;33m[\u001B[0m\u001B[1;34m'RandomForestClassifier 1'\u001B[0m\u001B[1;33m]\u001B[0m\u001B[1;33m.\u001B[0m\u001B[0mfeature_importances_\u001B[0m\u001B[1;33m\u001B[0m\u001B[1;33m\u001B[0m\u001B[0m\n\u001B[0m\u001B[0;32m      2\u001B[0m \u001B[1;33m\u001B[0m\u001B[0m\n\u001B[0;32m      3\u001B[0m \u001B[1;33m\u001B[0m\u001B[0m\n\u001B[0;32m      4\u001B[0m \u001B[1;31m# loo = LeaveOneOut()\u001B[0m\u001B[1;33m\u001B[0m\u001B[1;33m\u001B[0m\u001B[1;33m\u001B[0m\u001B[0m\n\u001B[0;32m      5\u001B[0m \u001B[1;31m# score = {}\u001B[0m\u001B[1;33m\u001B[0m\u001B[1;33m\u001B[0m\u001B[1;33m\u001B[0m\u001B[0m\n",
      "\u001B[1;32m~\\anaconda3\\envs\\magisterka_analiza\\lib\\site-packages\\sklearn\\ensemble\\_forest.py\u001B[0m in \u001B[0;36mfeature_importances_\u001B[1;34m(self)\u001B[0m\n\u001B[0;32m    442\u001B[0m             \u001B[0marray\u001B[0m \u001B[0mof\u001B[0m \u001B[0mzeros\u001B[0m\u001B[1;33m.\u001B[0m\u001B[1;33m\u001B[0m\u001B[1;33m\u001B[0m\u001B[0m\n\u001B[0;32m    443\u001B[0m         \"\"\"\n\u001B[1;32m--> 444\u001B[1;33m         \u001B[0mcheck_is_fitted\u001B[0m\u001B[1;33m(\u001B[0m\u001B[0mself\u001B[0m\u001B[1;33m)\u001B[0m\u001B[1;33m\u001B[0m\u001B[1;33m\u001B[0m\u001B[0m\n\u001B[0m\u001B[0;32m    445\u001B[0m \u001B[1;33m\u001B[0m\u001B[0m\n\u001B[0;32m    446\u001B[0m         all_importances = Parallel(n_jobs=self.n_jobs,\n",
      "\u001B[1;32m~\\anaconda3\\envs\\magisterka_analiza\\lib\\site-packages\\sklearn\\utils\\validation.py\u001B[0m in \u001B[0;36minner_f\u001B[1;34m(*args, **kwargs)\u001B[0m\n\u001B[0;32m     70\u001B[0m                           FutureWarning)\n\u001B[0;32m     71\u001B[0m         \u001B[0mkwargs\u001B[0m\u001B[1;33m.\u001B[0m\u001B[0mupdate\u001B[0m\u001B[1;33m(\u001B[0m\u001B[1;33m{\u001B[0m\u001B[0mk\u001B[0m\u001B[1;33m:\u001B[0m \u001B[0marg\u001B[0m \u001B[1;32mfor\u001B[0m \u001B[0mk\u001B[0m\u001B[1;33m,\u001B[0m \u001B[0marg\u001B[0m \u001B[1;32min\u001B[0m \u001B[0mzip\u001B[0m\u001B[1;33m(\u001B[0m\u001B[0msig\u001B[0m\u001B[1;33m.\u001B[0m\u001B[0mparameters\u001B[0m\u001B[1;33m,\u001B[0m \u001B[0margs\u001B[0m\u001B[1;33m)\u001B[0m\u001B[1;33m}\u001B[0m\u001B[1;33m)\u001B[0m\u001B[1;33m\u001B[0m\u001B[1;33m\u001B[0m\u001B[0m\n\u001B[1;32m---> 72\u001B[1;33m         \u001B[1;32mreturn\u001B[0m \u001B[0mf\u001B[0m\u001B[1;33m(\u001B[0m\u001B[1;33m**\u001B[0m\u001B[0mkwargs\u001B[0m\u001B[1;33m)\u001B[0m\u001B[1;33m\u001B[0m\u001B[1;33m\u001B[0m\u001B[0m\n\u001B[0m\u001B[0;32m     73\u001B[0m     \u001B[1;32mreturn\u001B[0m \u001B[0minner_f\u001B[0m\u001B[1;33m\u001B[0m\u001B[1;33m\u001B[0m\u001B[0m\n\u001B[0;32m     74\u001B[0m \u001B[1;33m\u001B[0m\u001B[0m\n",
      "\u001B[1;32m~\\anaconda3\\envs\\magisterka_analiza\\lib\\site-packages\\sklearn\\utils\\validation.py\u001B[0m in \u001B[0;36mcheck_is_fitted\u001B[1;34m(estimator, attributes, msg, all_or_any)\u001B[0m\n\u001B[0;32m   1017\u001B[0m \u001B[1;33m\u001B[0m\u001B[0m\n\u001B[0;32m   1018\u001B[0m     \u001B[1;32mif\u001B[0m \u001B[1;32mnot\u001B[0m \u001B[0mattrs\u001B[0m\u001B[1;33m:\u001B[0m\u001B[1;33m\u001B[0m\u001B[1;33m\u001B[0m\u001B[0m\n\u001B[1;32m-> 1019\u001B[1;33m         \u001B[1;32mraise\u001B[0m \u001B[0mNotFittedError\u001B[0m\u001B[1;33m(\u001B[0m\u001B[0mmsg\u001B[0m \u001B[1;33m%\u001B[0m \u001B[1;33m{\u001B[0m\u001B[1;34m'name'\u001B[0m\u001B[1;33m:\u001B[0m \u001B[0mtype\u001B[0m\u001B[1;33m(\u001B[0m\u001B[0mestimator\u001B[0m\u001B[1;33m)\u001B[0m\u001B[1;33m.\u001B[0m\u001B[0m__name__\u001B[0m\u001B[1;33m}\u001B[0m\u001B[1;33m)\u001B[0m\u001B[1;33m\u001B[0m\u001B[1;33m\u001B[0m\u001B[0m\n\u001B[0m\u001B[0;32m   1020\u001B[0m \u001B[1;33m\u001B[0m\u001B[0m\n\u001B[0;32m   1021\u001B[0m \u001B[1;33m\u001B[0m\u001B[0m\n",
      "\u001B[1;31mNotFittedError\u001B[0m: This RandomForestClassifier instance is not fitted yet. Call 'fit' with appropriate arguments before using this estimator."
     ]
    }
   ],
   "source": [
    "classifiers['RandomForestClassifier 1'].fit(train_x,tr)\n",
    "\n",
    "\n",
    "# loo = LeaveOneOut()\n",
    "# score = {}\n",
    "# score = defaultdict(lambda: 0, score)\n",
    "# # train_x_np = train_x.to_numpy()\n",
    "# # train_y_np = train_y.to_numpy()\n",
    "# for k,v in classifiers.items():\n",
    "#     for idx, row in train_x.iterrows():\n",
    "#         train_x_lou = train_x.copy()\n",
    "#         test_x_lou = train_x_lou.iloc[[idx]]\n",
    "#         train_x_lou = train_x_lou.drop(idx)\n",
    "#         train_y_lou = train_y.copy()\n",
    "#         test_y_lou = train_y_lou.iloc[[idx]].to_numpy()\n",
    "#         train_y_lou = train_y_lou.drop(idx)\n",
    "#         model = clone(v)\n",
    "#         train_model(model,train_x_lou,train_y_lou)\n",
    "#         predict = model.predict(test_x_lou)\n",
    "#         if test_y_lou==model.predict(test_x_lou):\n",
    "#             score[k]+=1\n",
    "#     score[k] = score[k]/len(train_x)\n",
    "#"
   ],
   "metadata": {
    "collapsed": false,
    "pycharm": {
     "name": "#%%\n"
    }
   }
  },
  {
   "cell_type": "code",
   "execution_count": 33,
   "outputs": [],
   "source": [
    "# headers = [\"Classifier type\", \"Score\"]\n",
    "# score_df = pd.DataFrame(score.items(), columns=headers)\n",
    "# print(tabulate(score_df, headers, tablefmt=\"psql\"))"
   ],
   "metadata": {
    "collapsed": false,
    "pycharm": {
     "name": "#%%\n"
    }
   }
  }
 ],
 "metadata": {
  "kernelspec": {
   "name": "magisterka_analiza",
   "language": "python",
   "display_name": "Python magisterka"
  },
  "language_info": {
   "codemirror_mode": {
    "name": "ipython",
    "version": 2
   },
   "file_extension": ".py",
   "mimetype": "text/x-python",
   "name": "python",
   "nbconvert_exporter": "python",
   "pygments_lexer": "ipython2",
   "version": "2.7.6"
  }
 },
 "nbformat": 4,
 "nbformat_minor": 0
}