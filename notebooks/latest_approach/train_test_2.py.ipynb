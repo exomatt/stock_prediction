{
 "cells": [
  {
   "cell_type": "code",
   "execution_count": 282,
   "outputs": [],
   "source": [
    "import yfinance as yf\n",
    "from datetime import datetime\n",
    "import pandas as pd\n",
    "import numpy as np\n",
    "import matplotlib.pyplot as plt\n",
    "from finta import TA\n",
    "import numpy as np\n",
    "from sklearn.ensemble import RandomForestClassifier, VotingClassifier\n",
    "from sklearn.model_selection import GridSearchCV, train_test_split\n",
    "from sklearn.preprocessing import MinMaxScaler\n",
    "from sklearn.tree import DecisionTreeClassifier\n",
    "from sklearn.ensemble import GradientBoostingClassifier\n",
    "from sklearn.metrics import confusion_matrix, classification_report, accuracy_score\n",
    "from sklearn.metrics import jaccard_score\n",
    "import seaborn as sn\n",
    "from tabulate import tabulate\n",
    "from xgboost import XGBClassifier\n",
    "from ta import add_all_ta_features\n",
    "from sklearn.feature_selection import RFE\n",
    "import xgboost as xgb"
   ],
   "metadata": {
    "collapsed": false,
    "pycharm": {
     "name": "#%%\n"
    }
   }
  },
  {
   "cell_type": "code",
   "execution_count": 283,
   "outputs": [],
   "source": [
    "WINDOW = 8 # number of rows to look ahead to see what the price did\n",
    "FETCH_INTERVAL = \"60m\"  # fetch data by interval (including intraday if period < 60 days)\n",
    "        # valid intervals: 1m,2m,5m,15m,30m,60m,90m,1h,1d,5d,1wk,1mo,3mo\n",
    "        # (optional, default is '1d')\n",
    "INTERVAL = '2y'     # use \"period\" instead of start/end\n",
    "        # valid periods: 1d,5d,1mo,3mo,6mo,1y,2y,5y,10y,ytd,max\n",
    "        # (optional, default is '1mo')\n",
    "symbol = 'AAPL'      # Symbol of the desired stock\n",
    "\n",
    "# one day 16 rows of data"
   ],
   "metadata": {
    "collapsed": false,
    "pycharm": {
     "name": "#%%\n"
    }
   }
  },
  {
   "cell_type": "code",
   "execution_count": 284,
   "outputs": [
    {
     "name": "stdout",
     "output_type": "stream",
     "text": [
      "[*********************100%***********************]  1 of 1 completed\n"
     ]
    },
    {
     "data": {
      "text/plain": "                                 Open        High         Low       Close  \\\nDatetime                                                                    \n2019-08-20 04:00:00-04:00   52.650000   52.785000   52.650000   52.785000   \n2019-08-20 05:00:00-04:00   52.772500   52.772500   52.592500   52.635000   \n2019-08-20 06:00:00-04:00   52.627500   52.750000   52.627500   52.687500   \n2019-08-20 07:00:00-04:00   52.727500   52.727500   52.500000   52.575000   \n2019-08-20 08:00:00-04:00   52.575000   52.850000   52.537500   52.850000   \n...                               ...         ...         ...         ...   \n2021-08-19 14:30:00-04:00  146.089996  147.240005  145.839996  147.229996   \n2021-08-19 15:30:00-04:00  147.223999  147.300003  146.350006  146.669998   \n2021-08-19 16:00:00-04:00  146.700000  146.880000  146.430000  146.740000   \n2021-08-19 17:00:00-04:00  146.740000  155.801770  136.938130  146.670000   \n2021-08-19 18:00:00-04:00  146.640000  146.730000  146.640000  146.690000   \n\n                            Adj Close   Volume  \nDatetime                                        \n2019-08-20 04:00:00-04:00   52.785000        0  \n2019-08-20 05:00:00-04:00   52.635000        0  \n2019-08-20 06:00:00-04:00   52.687500        0  \n2019-08-20 07:00:00-04:00   52.575000        0  \n2019-08-20 08:00:00-04:00   52.850000        0  \n...                               ...      ...  \n2021-08-19 14:30:00-04:00  147.229996  9434215  \n2021-08-19 15:30:00-04:00  146.669998  7259879  \n2021-08-19 16:00:00-04:00  146.740000  3220568  \n2021-08-19 17:00:00-04:00  146.670000        0  \n2021-08-19 18:00:00-04:00  146.690000        0  \n\n[8378 rows x 6 columns]",
      "text/html": "<div>\n<style scoped>\n    .dataframe tbody tr th:only-of-type {\n        vertical-align: middle;\n    }\n\n    .dataframe tbody tr th {\n        vertical-align: top;\n    }\n\n    .dataframe thead th {\n        text-align: right;\n    }\n</style>\n<table border=\"1\" class=\"dataframe\">\n  <thead>\n    <tr style=\"text-align: right;\">\n      <th></th>\n      <th>Open</th>\n      <th>High</th>\n      <th>Low</th>\n      <th>Close</th>\n      <th>Adj Close</th>\n      <th>Volume</th>\n    </tr>\n    <tr>\n      <th>Datetime</th>\n      <th></th>\n      <th></th>\n      <th></th>\n      <th></th>\n      <th></th>\n      <th></th>\n    </tr>\n  </thead>\n  <tbody>\n    <tr>\n      <th>2019-08-20 04:00:00-04:00</th>\n      <td>52.650000</td>\n      <td>52.785000</td>\n      <td>52.650000</td>\n      <td>52.785000</td>\n      <td>52.785000</td>\n      <td>0</td>\n    </tr>\n    <tr>\n      <th>2019-08-20 05:00:00-04:00</th>\n      <td>52.772500</td>\n      <td>52.772500</td>\n      <td>52.592500</td>\n      <td>52.635000</td>\n      <td>52.635000</td>\n      <td>0</td>\n    </tr>\n    <tr>\n      <th>2019-08-20 06:00:00-04:00</th>\n      <td>52.627500</td>\n      <td>52.750000</td>\n      <td>52.627500</td>\n      <td>52.687500</td>\n      <td>52.687500</td>\n      <td>0</td>\n    </tr>\n    <tr>\n      <th>2019-08-20 07:00:00-04:00</th>\n      <td>52.727500</td>\n      <td>52.727500</td>\n      <td>52.500000</td>\n      <td>52.575000</td>\n      <td>52.575000</td>\n      <td>0</td>\n    </tr>\n    <tr>\n      <th>2019-08-20 08:00:00-04:00</th>\n      <td>52.575000</td>\n      <td>52.850000</td>\n      <td>52.537500</td>\n      <td>52.850000</td>\n      <td>52.850000</td>\n      <td>0</td>\n    </tr>\n    <tr>\n      <th>...</th>\n      <td>...</td>\n      <td>...</td>\n      <td>...</td>\n      <td>...</td>\n      <td>...</td>\n      <td>...</td>\n    </tr>\n    <tr>\n      <th>2021-08-19 14:30:00-04:00</th>\n      <td>146.089996</td>\n      <td>147.240005</td>\n      <td>145.839996</td>\n      <td>147.229996</td>\n      <td>147.229996</td>\n      <td>9434215</td>\n    </tr>\n    <tr>\n      <th>2021-08-19 15:30:00-04:00</th>\n      <td>147.223999</td>\n      <td>147.300003</td>\n      <td>146.350006</td>\n      <td>146.669998</td>\n      <td>146.669998</td>\n      <td>7259879</td>\n    </tr>\n    <tr>\n      <th>2021-08-19 16:00:00-04:00</th>\n      <td>146.700000</td>\n      <td>146.880000</td>\n      <td>146.430000</td>\n      <td>146.740000</td>\n      <td>146.740000</td>\n      <td>3220568</td>\n    </tr>\n    <tr>\n      <th>2021-08-19 17:00:00-04:00</th>\n      <td>146.740000</td>\n      <td>155.801770</td>\n      <td>136.938130</td>\n      <td>146.670000</td>\n      <td>146.670000</td>\n      <td>0</td>\n    </tr>\n    <tr>\n      <th>2021-08-19 18:00:00-04:00</th>\n      <td>146.640000</td>\n      <td>146.730000</td>\n      <td>146.640000</td>\n      <td>146.690000</td>\n      <td>146.690000</td>\n      <td>0</td>\n    </tr>\n  </tbody>\n</table>\n<p>8378 rows × 6 columns</p>\n</div>"
     },
     "execution_count": 248,
     "metadata": {},
     "output_type": "execute_result"
    },
    {
     "name": "stdout",
     "output_type": "stream",
     "text": [
      "[*********************100%***********************]  1 of 1 completed\n"
     ]
    },
    {
     "data": {
      "text/plain": "                                 Open        High         Low       Close  \\\nDatetime                                                                    \n2019-08-20 04:00:00-04:00   52.650000   52.785000   52.650000   52.785000   \n2019-08-20 05:00:00-04:00   52.772500   52.772500   52.592500   52.635000   \n2019-08-20 06:00:00-04:00   52.627500   52.750000   52.627500   52.687500   \n2019-08-20 07:00:00-04:00   52.727500   52.727500   52.500000   52.575000   \n2019-08-20 08:00:00-04:00   52.575000   52.850000   52.537500   52.850000   \n...                               ...         ...         ...         ...   \n2021-08-19 14:30:00-04:00  146.089996  147.240005  145.839996  147.229996   \n2021-08-19 15:30:00-04:00  147.223999  147.300003  146.350006  146.669998   \n2021-08-19 16:00:00-04:00  146.700000  146.880000  146.430000  146.740000   \n2021-08-19 17:00:00-04:00  146.740000  155.801770  136.938130  146.670000   \n2021-08-19 18:00:00-04:00  146.690000  146.730000  146.640000  146.690000   \n\n                            Adj Close   Volume  \nDatetime                                        \n2019-08-20 04:00:00-04:00   52.785000        0  \n2019-08-20 05:00:00-04:00   52.635000        0  \n2019-08-20 06:00:00-04:00   52.687500        0  \n2019-08-20 07:00:00-04:00   52.575000        0  \n2019-08-20 08:00:00-04:00   52.850000        0  \n...                               ...      ...  \n2021-08-19 14:30:00-04:00  147.229996  9434215  \n2021-08-19 15:30:00-04:00  146.669998  7259879  \n2021-08-19 16:00:00-04:00  146.740000  3220568  \n2021-08-19 17:00:00-04:00  146.670000        0  \n2021-08-19 18:00:00-04:00  146.690000        0  \n\n[8378 rows x 6 columns]",
      "text/html": "<div>\n<style scoped>\n    .dataframe tbody tr th:only-of-type {\n        vertical-align: middle;\n    }\n\n    .dataframe tbody tr th {\n        vertical-align: top;\n    }\n\n    .dataframe thead th {\n        text-align: right;\n    }\n</style>\n<table border=\"1\" class=\"dataframe\">\n  <thead>\n    <tr style=\"text-align: right;\">\n      <th></th>\n      <th>Open</th>\n      <th>High</th>\n      <th>Low</th>\n      <th>Close</th>\n      <th>Adj Close</th>\n      <th>Volume</th>\n    </tr>\n    <tr>\n      <th>Datetime</th>\n      <th></th>\n      <th></th>\n      <th></th>\n      <th></th>\n      <th></th>\n      <th></th>\n    </tr>\n  </thead>\n  <tbody>\n    <tr>\n      <th>2019-08-20 04:00:00-04:00</th>\n      <td>52.650000</td>\n      <td>52.785000</td>\n      <td>52.650000</td>\n      <td>52.785000</td>\n      <td>52.785000</td>\n      <td>0</td>\n    </tr>\n    <tr>\n      <th>2019-08-20 05:00:00-04:00</th>\n      <td>52.772500</td>\n      <td>52.772500</td>\n      <td>52.592500</td>\n      <td>52.635000</td>\n      <td>52.635000</td>\n      <td>0</td>\n    </tr>\n    <tr>\n      <th>2019-08-20 06:00:00-04:00</th>\n      <td>52.627500</td>\n      <td>52.750000</td>\n      <td>52.627500</td>\n      <td>52.687500</td>\n      <td>52.687500</td>\n      <td>0</td>\n    </tr>\n    <tr>\n      <th>2019-08-20 07:00:00-04:00</th>\n      <td>52.727500</td>\n      <td>52.727500</td>\n      <td>52.500000</td>\n      <td>52.575000</td>\n      <td>52.575000</td>\n      <td>0</td>\n    </tr>\n    <tr>\n      <th>2019-08-20 08:00:00-04:00</th>\n      <td>52.575000</td>\n      <td>52.850000</td>\n      <td>52.537500</td>\n      <td>52.850000</td>\n      <td>52.850000</td>\n      <td>0</td>\n    </tr>\n    <tr>\n      <th>...</th>\n      <td>...</td>\n      <td>...</td>\n      <td>...</td>\n      <td>...</td>\n      <td>...</td>\n      <td>...</td>\n    </tr>\n    <tr>\n      <th>2021-08-19 14:30:00-04:00</th>\n      <td>146.089996</td>\n      <td>147.240005</td>\n      <td>145.839996</td>\n      <td>147.229996</td>\n      <td>147.229996</td>\n      <td>9434215</td>\n    </tr>\n    <tr>\n      <th>2021-08-19 15:30:00-04:00</th>\n      <td>147.223999</td>\n      <td>147.300003</td>\n      <td>146.350006</td>\n      <td>146.669998</td>\n      <td>146.669998</td>\n      <td>7259879</td>\n    </tr>\n    <tr>\n      <th>2021-08-19 16:00:00-04:00</th>\n      <td>146.700000</td>\n      <td>146.880000</td>\n      <td>146.430000</td>\n      <td>146.740000</td>\n      <td>146.740000</td>\n      <td>3220568</td>\n    </tr>\n    <tr>\n      <th>2021-08-19 17:00:00-04:00</th>\n      <td>146.740000</td>\n      <td>155.801770</td>\n      <td>136.938130</td>\n      <td>146.670000</td>\n      <td>146.670000</td>\n      <td>0</td>\n    </tr>\n    <tr>\n      <th>2021-08-19 18:00:00-04:00</th>\n      <td>146.690000</td>\n      <td>146.730000</td>\n      <td>146.640000</td>\n      <td>146.690000</td>\n      <td>146.690000</td>\n      <td>0</td>\n    </tr>\n  </tbody>\n</table>\n<p>8378 rows × 6 columns</p>\n</div>"
     },
     "execution_count": 284,
     "metadata": {},
     "output_type": "execute_result"
    }
   ],
   "source": [
    "data = yf.download(  # or pdr.get_data_yahoo(...\n",
    "        tickers = symbol,\n",
    "\n",
    "\n",
    "        period = INTERVAL,\n",
    "\n",
    "        interval = FETCH_INTERVAL,\n",
    "\n",
    "        # group by ticker (to access via data['SPY'])\n",
    "        # (optional, default is 'column')\n",
    "        group_by = 'ticker',\n",
    "\n",
    "        # adjust all OHLC automatically\n",
    "        # (optional, default is False)\n",
    "        # auto_adjust = True,\n",
    "\n",
    "        # download pre/post regular market hours data\n",
    "        # (optional, default is False)\n",
    "        prepost = True,\n",
    "\n",
    "        # use threads for mass downloading? (True/False/Integer)\n",
    "        # (optional, default is True)\n",
    "        threads = True,\n",
    "\n",
    "        # proxy URL scheme use use when downloading?\n",
    "        # (optional, default is None)\n",
    "        proxy = None\n",
    "    )\n",
    "data"
   ],
   "metadata": {
    "collapsed": false,
    "pycharm": {
     "name": "#%%\n"
    }
   }
  },
  {
   "cell_type": "code",
   "execution_count": 285,
   "outputs": [],
   "source": [
    "# data = pd.read_csv('C:\\\\Users\\\\exomat\\\\Desktop\\\\repo\\\\magisterka_analiza\\\\data\\\\preprocess_new\\\\AAPL_2y_8_11_05_2021 09_00_35_full.csv', index_col='Datetime')\n",
    "# data"
   ],
   "metadata": {
    "collapsed": false,
    "pycharm": {
     "name": "#%%\n"
    }
   }
  },
  {
   "cell_type": "code",
   "execution_count": 286,
   "outputs": [],
   "source": [
    "data.rename(columns={\"Close\": 'close', \"High\": 'high', \"Low\": 'low', 'Volume': 'volume', 'Open': 'open'}, inplace=True)\n",
    "data.head(10)\n",
    "important_columns = ['open', 'high', 'low','close','volume']"
   ],
   "metadata": {
    "collapsed": false,
    "pycharm": {
     "name": "#%%\n"
    }
   }
  },
  {
   "cell_type": "code",
   "execution_count": 287,
   "outputs": [
    {
     "name": "stdout",
     "output_type": "stream",
     "text": [
      "<class 'pandas.core.frame.DataFrame'>\n",
      "DatetimeIndex: 8378 entries, 2019-08-20 04:00:00-04:00 to 2021-08-19 18:00:00-04:00\n",
      "Data columns (total 6 columns):\n",
      " #   Column     Non-Null Count  Dtype  \n",
      "---  ------     --------------  -----  \n",
      " 0   open       8378 non-null   float64\n",
      " 1   high       8378 non-null   float64\n",
      " 2   low        8378 non-null   float64\n",
      " 3   close      8378 non-null   float64\n",
      " 4   Adj Close  8378 non-null   float64\n",
      " 5   volume     8378 non-null   int64  \n",
      "dtypes: float64(5), int64(1)\n",
      "memory usage: 458.2 KB\n",
      "<class 'pandas.core.frame.DataFrame'>\n",
      "DatetimeIndex: 8378 entries, 2019-08-20 04:00:00-04:00 to 2021-08-19 18:00:00-04:00\n",
      "Data columns (total 6 columns):\n",
      " #   Column     Non-Null Count  Dtype  \n",
      "---  ------     --------------  -----  \n",
      " 0   open       8378 non-null   float64\n",
      " 1   high       8378 non-null   float64\n",
      " 2   low        8378 non-null   float64\n",
      " 3   close      8378 non-null   float64\n",
      " 4   Adj Close  8378 non-null   float64\n",
      " 5   volume     8378 non-null   int64  \n",
      "dtypes: float64(5), int64(1)\n",
      "memory usage: 458.2 KB\n"
     ]
    }
   ],
   "source": [
    "data.info()"
   ],
   "metadata": {
    "collapsed": false,
    "pycharm": {
     "name": "#%%\n"
    }
   }
  },
  {
   "cell_type": "code",
   "execution_count": 288,
   "outputs": [],
   "source": [
    "\n",
    "def calculate_diffs(diff_number, col_name):\n",
    "    new_col_name = f'{col_name}_{diff_number}'\n",
    "    data[new_col_name] = data[col_name].diff(diff_number)"
   ],
   "metadata": {
    "collapsed": false,
    "pycharm": {
     "name": "#%%\n"
    }
   }
  },
  {
   "cell_type": "code",
   "execution_count": 289,
   "outputs": [],
   "source": [
    "# for name in important_columns:\n",
    "#     for i in range(1, 11):\n",
    "#         calculate_diffs(i, name)\n",
    "#\n",
    "# data.head(10)"
   ],
   "metadata": {
    "collapsed": false,
    "pycharm": {
     "name": "#%%\n"
    }
   }
  },
  {
   "cell_type": "code",
   "execution_count": 290,
   "outputs": [],
   "source": [
    "data = data.dropna()"
   ],
   "metadata": {
    "collapsed": false,
    "pycharm": {
     "name": "#%%\n"
    }
   }
  },
  {
   "cell_type": "code",
   "execution_count": 291,
   "outputs": [],
   "source": [
    "# data\n",
    "# data.set_index(pd.DatetimeIndex(data['Datetime']))\n",
    "# data"
   ],
   "metadata": {
    "collapsed": false,
    "pycharm": {
     "name": "#%%\n"
    }
   }
  },
  {
   "cell_type": "code",
   "execution_count": 292,
   "outputs": [],
   "source": [
    "# fig, ax = plt.subplots()\n",
    "#\n",
    "# data.plot(kind='line',x='Datetime',y='close',ax=ax)\n",
    "#\n",
    "# every_nth = 4\n",
    "# for n, label in enumerate(ax.xaxis.get_ticklabels()):\n",
    "#     if n % every_nth != 0:\n",
    "#         label.set_visible(False)\n",
    "#\n",
    "# plt.xticks(rotation=90)\n",
    "# plt.show()"
   ],
   "metadata": {
    "collapsed": false,
    "pycharm": {
     "name": "#%%\n"
    }
   }
  },
  {
   "cell_type": "code",
   "execution_count": 293,
   "outputs": [],
   "source": [
    "# import seaborn as sns\n",
    "# sns.set()\n",
    "# ax = data['open'].plot()\n",
    "# plt.xticks(rotation=90)\n",
    "# plt.ylabel('Kurs akcji [$]', rotation=90)\n",
    "# plt.xlabel('Czas')\n",
    "# plt.legend(['Close'], ncol=1, loc='upper left');\n",
    "# plt.show()\n",
    "#\n",
    "# fig = ax.get_figure()\n",
    "# fig.savefig('asdf.png', dpi=300, bbox_inches=\"tight\")\n",
    "#"
   ],
   "metadata": {
    "collapsed": false,
    "pycharm": {
     "name": "#%%\n"
    }
   }
  },
  {
   "cell_type": "code",
   "execution_count": 294,
   "outputs": [],
   "source": [
    "# data['close_pct'] = data['close'].pct_change()\n",
    "# data.head()"
   ],
   "metadata": {
    "collapsed": false,
    "pycharm": {
     "name": "#%%\n"
    }
   }
  },
  {
   "cell_type": "code",
   "execution_count": 295,
   "outputs": [
    {
     "data": {
      "text/plain": "              open         high          low        close    Adj Close  \\\ncount  8378.000000  8378.000000  8378.000000  8378.000000  8378.000000   \nmean    100.865371   101.282155   100.360707   100.869565   100.869565   \nstd      29.991512    30.355445    29.821189    29.988044    29.988044   \nmin      50.250000    50.467500    50.250000    50.357500    50.357500   \n25%      71.331250    71.678751    71.090000    71.386250    71.386250   \n50%     111.130014   111.683750   110.298750   111.149526   111.149526   \n75%     126.818750   127.180000   126.280000   126.809999   126.809999   \nmax     151.410000   438.440000   151.290000   151.670000   151.670000   \n\n             volume  \ncount  8.378000e+03  \nmean   3.805074e+06  \nstd    6.932491e+06  \nmin    0.000000e+00  \n25%    0.000000e+00  \n50%    0.000000e+00  \n75%    5.459065e+06  \nmax    9.845401e+07  ",
      "text/html": "<div>\n<style scoped>\n    .dataframe tbody tr th:only-of-type {\n        vertical-align: middle;\n    }\n\n    .dataframe tbody tr th {\n        vertical-align: top;\n    }\n\n    .dataframe thead th {\n        text-align: right;\n    }\n</style>\n<table border=\"1\" class=\"dataframe\">\n  <thead>\n    <tr style=\"text-align: right;\">\n      <th></th>\n      <th>open</th>\n      <th>high</th>\n      <th>low</th>\n      <th>close</th>\n      <th>Adj Close</th>\n      <th>volume</th>\n    </tr>\n  </thead>\n  <tbody>\n    <tr>\n      <th>count</th>\n      <td>8378.000000</td>\n      <td>8378.000000</td>\n      <td>8378.000000</td>\n      <td>8378.000000</td>\n      <td>8378.000000</td>\n      <td>8.378000e+03</td>\n    </tr>\n    <tr>\n      <th>mean</th>\n      <td>100.865371</td>\n      <td>101.282155</td>\n      <td>100.360707</td>\n      <td>100.869565</td>\n      <td>100.869565</td>\n      <td>3.805074e+06</td>\n    </tr>\n    <tr>\n      <th>std</th>\n      <td>29.991512</td>\n      <td>30.355445</td>\n      <td>29.821189</td>\n      <td>29.988044</td>\n      <td>29.988044</td>\n      <td>6.932491e+06</td>\n    </tr>\n    <tr>\n      <th>min</th>\n      <td>50.250000</td>\n      <td>50.467500</td>\n      <td>50.250000</td>\n      <td>50.357500</td>\n      <td>50.357500</td>\n      <td>0.000000e+00</td>\n    </tr>\n    <tr>\n      <th>25%</th>\n      <td>71.331250</td>\n      <td>71.678751</td>\n      <td>71.090000</td>\n      <td>71.386250</td>\n      <td>71.386250</td>\n      <td>0.000000e+00</td>\n    </tr>\n    <tr>\n      <th>50%</th>\n      <td>111.130014</td>\n      <td>111.683750</td>\n      <td>110.298750</td>\n      <td>111.149526</td>\n      <td>111.149526</td>\n      <td>0.000000e+00</td>\n    </tr>\n    <tr>\n      <th>75%</th>\n      <td>126.818750</td>\n      <td>127.180000</td>\n      <td>126.280000</td>\n      <td>126.809999</td>\n      <td>126.809999</td>\n      <td>5.459065e+06</td>\n    </tr>\n    <tr>\n      <th>max</th>\n      <td>151.410000</td>\n      <td>438.440000</td>\n      <td>151.290000</td>\n      <td>151.670000</td>\n      <td>151.670000</td>\n      <td>9.845401e+07</td>\n    </tr>\n  </tbody>\n</table>\n</div>"
     },
     "execution_count": 259,
     "metadata": {},
     "output_type": "execute_result"
    },
    {
     "data": {
      "text/plain": "              open         high          low        close    Adj Close  \\\ncount  8378.000000  8378.000000  8378.000000  8378.000000  8378.000000   \nmean    100.865377   101.282155   100.360707   100.869565   100.869565   \nstd      29.991521    30.355445    29.821189    29.988044    29.988044   \nmin      50.250000    50.467500    50.250000    50.357500    50.357500   \n25%      71.331250    71.678751    71.090000    71.386250    71.386250   \n50%     111.130014   111.683750   110.298750   111.149526   111.149526   \n75%     126.818750   127.180000   126.280000   126.809999   126.809999   \nmax     151.410000   438.440000   151.290000   151.670000   151.670000   \n\n             volume  \ncount  8.378000e+03  \nmean   3.805074e+06  \nstd    6.932491e+06  \nmin    0.000000e+00  \n25%    0.000000e+00  \n50%    0.000000e+00  \n75%    5.459065e+06  \nmax    9.845401e+07  ",
      "text/html": "<div>\n<style scoped>\n    .dataframe tbody tr th:only-of-type {\n        vertical-align: middle;\n    }\n\n    .dataframe tbody tr th {\n        vertical-align: top;\n    }\n\n    .dataframe thead th {\n        text-align: right;\n    }\n</style>\n<table border=\"1\" class=\"dataframe\">\n  <thead>\n    <tr style=\"text-align: right;\">\n      <th></th>\n      <th>open</th>\n      <th>high</th>\n      <th>low</th>\n      <th>close</th>\n      <th>Adj Close</th>\n      <th>volume</th>\n    </tr>\n  </thead>\n  <tbody>\n    <tr>\n      <th>count</th>\n      <td>8378.000000</td>\n      <td>8378.000000</td>\n      <td>8378.000000</td>\n      <td>8378.000000</td>\n      <td>8378.000000</td>\n      <td>8.378000e+03</td>\n    </tr>\n    <tr>\n      <th>mean</th>\n      <td>100.865377</td>\n      <td>101.282155</td>\n      <td>100.360707</td>\n      <td>100.869565</td>\n      <td>100.869565</td>\n      <td>3.805074e+06</td>\n    </tr>\n    <tr>\n      <th>std</th>\n      <td>29.991521</td>\n      <td>30.355445</td>\n      <td>29.821189</td>\n      <td>29.988044</td>\n      <td>29.988044</td>\n      <td>6.932491e+06</td>\n    </tr>\n    <tr>\n      <th>min</th>\n      <td>50.250000</td>\n      <td>50.467500</td>\n      <td>50.250000</td>\n      <td>50.357500</td>\n      <td>50.357500</td>\n      <td>0.000000e+00</td>\n    </tr>\n    <tr>\n      <th>25%</th>\n      <td>71.331250</td>\n      <td>71.678751</td>\n      <td>71.090000</td>\n      <td>71.386250</td>\n      <td>71.386250</td>\n      <td>0.000000e+00</td>\n    </tr>\n    <tr>\n      <th>50%</th>\n      <td>111.130014</td>\n      <td>111.683750</td>\n      <td>110.298750</td>\n      <td>111.149526</td>\n      <td>111.149526</td>\n      <td>0.000000e+00</td>\n    </tr>\n    <tr>\n      <th>75%</th>\n      <td>126.818750</td>\n      <td>127.180000</td>\n      <td>126.280000</td>\n      <td>126.809999</td>\n      <td>126.809999</td>\n      <td>5.459065e+06</td>\n    </tr>\n    <tr>\n      <th>max</th>\n      <td>151.410000</td>\n      <td>438.440000</td>\n      <td>151.290000</td>\n      <td>151.670000</td>\n      <td>151.670000</td>\n      <td>9.845401e+07</td>\n    </tr>\n  </tbody>\n</table>\n</div>"
     },
     "execution_count": 295,
     "metadata": {},
     "output_type": "execute_result"
    }
   ],
   "source": [
    "data.describe()"
   ],
   "metadata": {
    "collapsed": false,
    "pycharm": {
     "name": "#%%\n"
    }
   }
  },
  {
   "cell_type": "code",
   "execution_count": 296,
   "outputs": [],
   "source": [
    "from ta import add_all_ta_features\n",
    "\n",
    "def _get_indicator_data(data):\n",
    "\n",
    "    data = add_all_ta_features(\n",
    "        data, open=\"open\", high=\"high\", low=\"low\", close=\"close\", volume=\"volume\", fillna=True)\n",
    "\n",
    "    return data\n"
   ],
   "metadata": {
    "collapsed": false,
    "pycharm": {
     "name": "#%%\n"
    }
   }
  },
  {
   "cell_type": "code",
   "execution_count": 297,
   "outputs": [
    {
     "data": {
      "text/plain": "                                 open        high         low       close  \\\nDatetime                                                                    \n2019-08-20 04:00:00-04:00   52.650000   52.785000   52.650000   52.785000   \n2019-08-20 05:00:00-04:00   52.772500   52.772500   52.592500   52.635000   \n2019-08-20 06:00:00-04:00   52.627500   52.750000   52.627500   52.687500   \n2019-08-20 07:00:00-04:00   52.727500   52.727500   52.500000   52.575000   \n2019-08-20 08:00:00-04:00   52.575000   52.850000   52.537500   52.850000   \n...                               ...         ...         ...         ...   \n2021-08-19 14:30:00-04:00  146.089996  147.240005  145.839996  147.229996   \n2021-08-19 15:30:00-04:00  147.223999  147.300003  146.350006  146.669998   \n2021-08-19 16:00:00-04:00  146.700000  146.880000  146.430000  146.740000   \n2021-08-19 17:00:00-04:00  146.740000  155.801770  136.938130  146.670000   \n2021-08-19 18:00:00-04:00  146.640000  146.730000  146.640000  146.690000   \n\n                            Adj Close   volume  \nDatetime                                        \n2019-08-20 04:00:00-04:00   52.785000        0  \n2019-08-20 05:00:00-04:00   52.635000        0  \n2019-08-20 06:00:00-04:00   52.687500        0  \n2019-08-20 07:00:00-04:00   52.575000        0  \n2019-08-20 08:00:00-04:00   52.850000        0  \n...                               ...      ...  \n2021-08-19 14:30:00-04:00  147.229996  9434215  \n2021-08-19 15:30:00-04:00  146.669998  7259879  \n2021-08-19 16:00:00-04:00  146.740000  3220568  \n2021-08-19 17:00:00-04:00  146.670000        0  \n2021-08-19 18:00:00-04:00  146.690000        0  \n\n[8378 rows x 6 columns]",
      "text/html": "<div>\n<style scoped>\n    .dataframe tbody tr th:only-of-type {\n        vertical-align: middle;\n    }\n\n    .dataframe tbody tr th {\n        vertical-align: top;\n    }\n\n    .dataframe thead th {\n        text-align: right;\n    }\n</style>\n<table border=\"1\" class=\"dataframe\">\n  <thead>\n    <tr style=\"text-align: right;\">\n      <th></th>\n      <th>open</th>\n      <th>high</th>\n      <th>low</th>\n      <th>close</th>\n      <th>Adj Close</th>\n      <th>volume</th>\n    </tr>\n    <tr>\n      <th>Datetime</th>\n      <th></th>\n      <th></th>\n      <th></th>\n      <th></th>\n      <th></th>\n      <th></th>\n    </tr>\n  </thead>\n  <tbody>\n    <tr>\n      <th>2019-08-20 04:00:00-04:00</th>\n      <td>52.650000</td>\n      <td>52.785000</td>\n      <td>52.650000</td>\n      <td>52.785000</td>\n      <td>52.785000</td>\n      <td>0</td>\n    </tr>\n    <tr>\n      <th>2019-08-20 05:00:00-04:00</th>\n      <td>52.772500</td>\n      <td>52.772500</td>\n      <td>52.592500</td>\n      <td>52.635000</td>\n      <td>52.635000</td>\n      <td>0</td>\n    </tr>\n    <tr>\n      <th>2019-08-20 06:00:00-04:00</th>\n      <td>52.627500</td>\n      <td>52.750000</td>\n      <td>52.627500</td>\n      <td>52.687500</td>\n      <td>52.687500</td>\n      <td>0</td>\n    </tr>\n    <tr>\n      <th>2019-08-20 07:00:00-04:00</th>\n      <td>52.727500</td>\n      <td>52.727500</td>\n      <td>52.500000</td>\n      <td>52.575000</td>\n      <td>52.575000</td>\n      <td>0</td>\n    </tr>\n    <tr>\n      <th>2019-08-20 08:00:00-04:00</th>\n      <td>52.575000</td>\n      <td>52.850000</td>\n      <td>52.537500</td>\n      <td>52.850000</td>\n      <td>52.850000</td>\n      <td>0</td>\n    </tr>\n    <tr>\n      <th>...</th>\n      <td>...</td>\n      <td>...</td>\n      <td>...</td>\n      <td>...</td>\n      <td>...</td>\n      <td>...</td>\n    </tr>\n    <tr>\n      <th>2021-08-19 14:30:00-04:00</th>\n      <td>146.089996</td>\n      <td>147.240005</td>\n      <td>145.839996</td>\n      <td>147.229996</td>\n      <td>147.229996</td>\n      <td>9434215</td>\n    </tr>\n    <tr>\n      <th>2021-08-19 15:30:00-04:00</th>\n      <td>147.223999</td>\n      <td>147.300003</td>\n      <td>146.350006</td>\n      <td>146.669998</td>\n      <td>146.669998</td>\n      <td>7259879</td>\n    </tr>\n    <tr>\n      <th>2021-08-19 16:00:00-04:00</th>\n      <td>146.700000</td>\n      <td>146.880000</td>\n      <td>146.430000</td>\n      <td>146.740000</td>\n      <td>146.740000</td>\n      <td>3220568</td>\n    </tr>\n    <tr>\n      <th>2021-08-19 17:00:00-04:00</th>\n      <td>146.740000</td>\n      <td>155.801770</td>\n      <td>136.938130</td>\n      <td>146.670000</td>\n      <td>146.670000</td>\n      <td>0</td>\n    </tr>\n    <tr>\n      <th>2021-08-19 18:00:00-04:00</th>\n      <td>146.640000</td>\n      <td>146.730000</td>\n      <td>146.640000</td>\n      <td>146.690000</td>\n      <td>146.690000</td>\n      <td>0</td>\n    </tr>\n  </tbody>\n</table>\n<p>8378 rows × 6 columns</p>\n</div>"
     },
     "execution_count": 261,
     "metadata": {},
     "output_type": "execute_result"
    },
    {
     "data": {
      "text/plain": "                                 open        high         low       close  \\\nDatetime                                                                    \n2019-08-20 04:00:00-04:00   52.650000   52.785000   52.650000   52.785000   \n2019-08-20 05:00:00-04:00   52.772500   52.772500   52.592500   52.635000   \n2019-08-20 06:00:00-04:00   52.627500   52.750000   52.627500   52.687500   \n2019-08-20 07:00:00-04:00   52.727500   52.727500   52.500000   52.575000   \n2019-08-20 08:00:00-04:00   52.575000   52.850000   52.537500   52.850000   \n...                               ...         ...         ...         ...   \n2021-08-19 14:30:00-04:00  146.089996  147.240005  145.839996  147.229996   \n2021-08-19 15:30:00-04:00  147.223999  147.300003  146.350006  146.669998   \n2021-08-19 16:00:00-04:00  146.700000  146.880000  146.430000  146.740000   \n2021-08-19 17:00:00-04:00  146.740000  155.801770  136.938130  146.670000   \n2021-08-19 18:00:00-04:00  146.690000  146.730000  146.640000  146.690000   \n\n                            Adj Close   volume  \nDatetime                                        \n2019-08-20 04:00:00-04:00   52.785000        0  \n2019-08-20 05:00:00-04:00   52.635000        0  \n2019-08-20 06:00:00-04:00   52.687500        0  \n2019-08-20 07:00:00-04:00   52.575000        0  \n2019-08-20 08:00:00-04:00   52.850000        0  \n...                               ...      ...  \n2021-08-19 14:30:00-04:00  147.229996  9434215  \n2021-08-19 15:30:00-04:00  146.669998  7259879  \n2021-08-19 16:00:00-04:00  146.740000  3220568  \n2021-08-19 17:00:00-04:00  146.670000        0  \n2021-08-19 18:00:00-04:00  146.690000        0  \n\n[8378 rows x 6 columns]",
      "text/html": "<div>\n<style scoped>\n    .dataframe tbody tr th:only-of-type {\n        vertical-align: middle;\n    }\n\n    .dataframe tbody tr th {\n        vertical-align: top;\n    }\n\n    .dataframe thead th {\n        text-align: right;\n    }\n</style>\n<table border=\"1\" class=\"dataframe\">\n  <thead>\n    <tr style=\"text-align: right;\">\n      <th></th>\n      <th>open</th>\n      <th>high</th>\n      <th>low</th>\n      <th>close</th>\n      <th>Adj Close</th>\n      <th>volume</th>\n    </tr>\n    <tr>\n      <th>Datetime</th>\n      <th></th>\n      <th></th>\n      <th></th>\n      <th></th>\n      <th></th>\n      <th></th>\n    </tr>\n  </thead>\n  <tbody>\n    <tr>\n      <th>2019-08-20 04:00:00-04:00</th>\n      <td>52.650000</td>\n      <td>52.785000</td>\n      <td>52.650000</td>\n      <td>52.785000</td>\n      <td>52.785000</td>\n      <td>0</td>\n    </tr>\n    <tr>\n      <th>2019-08-20 05:00:00-04:00</th>\n      <td>52.772500</td>\n      <td>52.772500</td>\n      <td>52.592500</td>\n      <td>52.635000</td>\n      <td>52.635000</td>\n      <td>0</td>\n    </tr>\n    <tr>\n      <th>2019-08-20 06:00:00-04:00</th>\n      <td>52.627500</td>\n      <td>52.750000</td>\n      <td>52.627500</td>\n      <td>52.687500</td>\n      <td>52.687500</td>\n      <td>0</td>\n    </tr>\n    <tr>\n      <th>2019-08-20 07:00:00-04:00</th>\n      <td>52.727500</td>\n      <td>52.727500</td>\n      <td>52.500000</td>\n      <td>52.575000</td>\n      <td>52.575000</td>\n      <td>0</td>\n    </tr>\n    <tr>\n      <th>2019-08-20 08:00:00-04:00</th>\n      <td>52.575000</td>\n      <td>52.850000</td>\n      <td>52.537500</td>\n      <td>52.850000</td>\n      <td>52.850000</td>\n      <td>0</td>\n    </tr>\n    <tr>\n      <th>...</th>\n      <td>...</td>\n      <td>...</td>\n      <td>...</td>\n      <td>...</td>\n      <td>...</td>\n      <td>...</td>\n    </tr>\n    <tr>\n      <th>2021-08-19 14:30:00-04:00</th>\n      <td>146.089996</td>\n      <td>147.240005</td>\n      <td>145.839996</td>\n      <td>147.229996</td>\n      <td>147.229996</td>\n      <td>9434215</td>\n    </tr>\n    <tr>\n      <th>2021-08-19 15:30:00-04:00</th>\n      <td>147.223999</td>\n      <td>147.300003</td>\n      <td>146.350006</td>\n      <td>146.669998</td>\n      <td>146.669998</td>\n      <td>7259879</td>\n    </tr>\n    <tr>\n      <th>2021-08-19 16:00:00-04:00</th>\n      <td>146.700000</td>\n      <td>146.880000</td>\n      <td>146.430000</td>\n      <td>146.740000</td>\n      <td>146.740000</td>\n      <td>3220568</td>\n    </tr>\n    <tr>\n      <th>2021-08-19 17:00:00-04:00</th>\n      <td>146.740000</td>\n      <td>155.801770</td>\n      <td>136.938130</td>\n      <td>146.670000</td>\n      <td>146.670000</td>\n      <td>0</td>\n    </tr>\n    <tr>\n      <th>2021-08-19 18:00:00-04:00</th>\n      <td>146.690000</td>\n      <td>146.730000</td>\n      <td>146.640000</td>\n      <td>146.690000</td>\n      <td>146.690000</td>\n      <td>0</td>\n    </tr>\n  </tbody>\n</table>\n<p>8378 rows × 6 columns</p>\n</div>"
     },
     "execution_count": 297,
     "metadata": {},
     "output_type": "execute_result"
    }
   ],
   "source": [
    "data"
   ],
   "metadata": {
    "collapsed": false,
    "pycharm": {
     "name": "#%%\n"
    }
   }
  },
  {
   "cell_type": "code",
   "execution_count": 298,
   "outputs": [
    {
     "data": {
      "text/plain": "Index(['open', 'high', 'low', 'close', 'Adj Close', 'volume'], dtype='object')"
     },
     "execution_count": 262,
     "metadata": {},
     "output_type": "execute_result"
    },
    {
     "data": {
      "text/plain": "Index(['open', 'high', 'low', 'close', 'Adj Close', 'volume'], dtype='object')"
     },
     "execution_count": 298,
     "metadata": {},
     "output_type": "execute_result"
    }
   ],
   "source": [
    "data.columns\n"
   ],
   "metadata": {
    "collapsed": false,
    "pycharm": {
     "name": "#%%\n"
    }
   }
  },
  {
   "cell_type": "code",
   "execution_count": 299,
   "outputs": [],
   "source": [
    "def create_class_column(row, lowest_threshold, higher_threshold):\n",
    "    if row['close_shift'] - row['close'] > higher_threshold:\n",
    "        return 1\n",
    "    if row['close_shift'] - row['close'] < lowest_threshold:\n",
    "        return -1\n",
    "    else:\n",
    "        return 0"
   ],
   "metadata": {
    "collapsed": false,
    "pycharm": {
     "name": "#%%\n"
    }
   }
  },
  {
   "cell_type": "code",
   "execution_count": 300,
   "outputs": [
    {
     "name": "stderr",
     "output_type": "stream",
     "text": [
      "C:\\Users\\exomat\\anaconda3\\envs\\magisterka_analiza\\lib\\site-packages\\ta\\trend.py:768: RuntimeWarning: invalid value encountered in double_scalars\n",
      "  dip[i] = 100 * (self._dip[i] / self._trs[i])\n",
      "C:\\Users\\exomat\\anaconda3\\envs\\magisterka_analiza\\lib\\site-packages\\ta\\trend.py:772: RuntimeWarning: invalid value encountered in double_scalars\n",
      "  din[i] = 100 * (self._din[i] / self._trs[i])\n"
     ]
    },
    {
     "data": {
      "text/plain": "                                 open        high         low       close  \\\nDatetime                                                                    \n2019-08-20 04:00:00-04:00   52.650000   52.785000   52.650000   52.785000   \n2019-08-20 05:00:00-04:00   52.772500   52.772500   52.592500   52.635000   \n2019-08-20 06:00:00-04:00   52.627500   52.750000   52.627500   52.687500   \n2019-08-20 07:00:00-04:00   52.727500   52.727500   52.500000   52.575000   \n2019-08-20 08:00:00-04:00   52.575000   52.850000   52.537500   52.850000   \n...                               ...         ...         ...         ...   \n2021-08-19 14:30:00-04:00  146.089996  147.240005  145.839996  147.229996   \n2021-08-19 15:30:00-04:00  147.223999  147.300003  146.350006  146.669998   \n2021-08-19 16:00:00-04:00  146.700000  146.880000  146.430000  146.740000   \n2021-08-19 17:00:00-04:00  146.740000  155.801770  136.938130  146.670000   \n2021-08-19 18:00:00-04:00  146.640000  146.730000  146.640000  146.690000   \n\n                            Adj Close   volume    volume_adi  volume_obv  \\\nDatetime                                                                   \n2019-08-20 04:00:00-04:00   52.785000        0  0.000000e+00           0   \n2019-08-20 05:00:00-04:00   52.635000        0  0.000000e+00           0   \n2019-08-20 06:00:00-04:00   52.687500        0  0.000000e+00           0   \n2019-08-20 07:00:00-04:00   52.575000        0  0.000000e+00           0   \n2019-08-20 08:00:00-04:00   52.850000        0  0.000000e+00           0   \n...                               ...      ...           ...         ...   \n2021-08-19 14:30:00-04:00  147.229996  9434215  1.740003e+09   508862909   \n2021-08-19 15:30:00-04:00  146.669998  7259879  1.737634e+09   501603030   \n2021-08-19 16:00:00-04:00  146.740000  3220568  1.738850e+09   504823598   \n2021-08-19 17:00:00-04:00  146.670000        0  1.738850e+09   504823598   \n2021-08-19 18:00:00-04:00  146.690000        0  1.738850e+09   504823598   \n\n                           volume_cmf     volume_fi  ...  momentum_ao  \\\nDatetime                                             ...                \n2019-08-20 04:00:00-04:00    0.000000  0.000000e+00  ...     0.000000   \n2019-08-20 05:00:00-04:00    0.000000 -0.000000e+00  ...     0.000000   \n2019-08-20 06:00:00-04:00    0.000000 -0.000000e+00  ...     0.000000   \n2019-08-20 07:00:00-04:00    0.000000 -0.000000e+00  ...     0.000000   \n2019-08-20 08:00:00-04:00    0.000000 -0.000000e+00  ...     0.000000   \n...                               ...           ...  ...          ...   \n2021-08-19 14:30:00-04:00    0.030041  2.373374e+06  ...    -1.097274   \n2021-08-19 15:30:00-04:00    0.051486  1.453532e+06  ...    -0.862754   \n2021-08-19 16:00:00-04:00    0.006312  1.278091e+06  ...    -0.849048   \n2021-08-19 17:00:00-04:00    0.107263  1.095507e+06  ...    -0.964145   \n2021-08-19 18:00:00-04:00    0.250948  9.390060e+05  ...    -0.861998   \n\n                           momentum_kama  momentum_roc  momentum_ppo  \\\nDatetime                                                               \n2019-08-20 04:00:00-04:00      52.785000      0.000000      0.000000   \n2019-08-20 05:00:00-04:00      52.718666      0.000000      0.000000   \n2019-08-20 06:00:00-04:00      52.704641      0.000000      0.000000   \n2019-08-20 07:00:00-04:00      52.646839      0.000000      0.000000   \n2019-08-20 08:00:00-04:00      52.734980      0.000000      0.000000   \n...                                  ...           ...           ...   \n2021-08-19 14:30:00-04:00     145.636372      0.546333     22.097190   \n2021-08-19 15:30:00-04:00     145.684068      1.410494     20.047077   \n2021-08-19 16:00:00-04:00     145.758540      1.011909     13.673612   \n2021-08-19 17:00:00-04:00     145.822822      1.075047      3.880193   \n2021-08-19 18:00:00-04:00     145.865687      1.340242     -5.069485   \n\n                           momentum_ppo_signal  momentum_ppo_hist  others_dr  \\\nDatetime                                                                       \n2019-08-20 04:00:00-04:00             0.000000           0.000000 -47.670043   \n2019-08-20 05:00:00-04:00             0.000000           0.000000  -0.284172   \n2019-08-20 06:00:00-04:00             0.000000           0.000000   0.099744   \n2019-08-20 07:00:00-04:00             0.000000           0.000000  -0.213523   \n2019-08-20 08:00:00-04:00             0.000000           0.000000   0.523062   \n...                                        ...                ...        ...   \n2021-08-19 14:30:00-04:00             7.988910          14.108281   0.780340   \n2021-08-19 15:30:00-04:00            10.400543           9.646534  -0.380356   \n2021-08-19 16:00:00-04:00            11.055157           2.618455   0.047727   \n2021-08-19 17:00:00-04:00             9.620164          -5.739971  -0.047703   \n2021-08-19 18:00:00-04:00             6.682234         -11.751719   0.013636   \n\n                           others_dlr   others_cr  close_shift  \nDatetime                                                        \n2019-08-20 04:00:00-04:00    0.000000    0.000000    53.227524  \n2019-08-20 05:00:00-04:00   -0.284576   -0.284172    53.022251  \n2019-08-20 06:00:00-04:00    0.099694   -0.184712    52.853874  \n2019-08-20 07:00:00-04:00   -0.213751   -0.397840    52.876225  \n2019-08-20 08:00:00-04:00    0.521699    0.123141    52.587502  \n...                               ...         ...          ...  \n2021-08-19 14:30:00-04:00    0.777312  178.923929          NaN  \n2021-08-19 15:30:00-04:00   -0.381081  177.863026          NaN  \n2021-08-19 16:00:00-04:00    0.047716  177.995643          NaN  \n2021-08-19 17:00:00-04:00   -0.047715  177.863029          NaN  \n2021-08-19 18:00:00-04:00    0.013635  177.900919          NaN  \n\n[8378 rows x 90 columns]",
      "text/html": "<div>\n<style scoped>\n    .dataframe tbody tr th:only-of-type {\n        vertical-align: middle;\n    }\n\n    .dataframe tbody tr th {\n        vertical-align: top;\n    }\n\n    .dataframe thead th {\n        text-align: right;\n    }\n</style>\n<table border=\"1\" class=\"dataframe\">\n  <thead>\n    <tr style=\"text-align: right;\">\n      <th></th>\n      <th>open</th>\n      <th>high</th>\n      <th>low</th>\n      <th>close</th>\n      <th>Adj Close</th>\n      <th>volume</th>\n      <th>volume_adi</th>\n      <th>volume_obv</th>\n      <th>volume_cmf</th>\n      <th>volume_fi</th>\n      <th>...</th>\n      <th>momentum_ao</th>\n      <th>momentum_kama</th>\n      <th>momentum_roc</th>\n      <th>momentum_ppo</th>\n      <th>momentum_ppo_signal</th>\n      <th>momentum_ppo_hist</th>\n      <th>others_dr</th>\n      <th>others_dlr</th>\n      <th>others_cr</th>\n      <th>close_shift</th>\n    </tr>\n    <tr>\n      <th>Datetime</th>\n      <th></th>\n      <th></th>\n      <th></th>\n      <th></th>\n      <th></th>\n      <th></th>\n      <th></th>\n      <th></th>\n      <th></th>\n      <th></th>\n      <th></th>\n      <th></th>\n      <th></th>\n      <th></th>\n      <th></th>\n      <th></th>\n      <th></th>\n      <th></th>\n      <th></th>\n      <th></th>\n      <th></th>\n    </tr>\n  </thead>\n  <tbody>\n    <tr>\n      <th>2019-08-20 04:00:00-04:00</th>\n      <td>52.650000</td>\n      <td>52.785000</td>\n      <td>52.650000</td>\n      <td>52.785000</td>\n      <td>52.785000</td>\n      <td>0</td>\n      <td>0.000000e+00</td>\n      <td>0</td>\n      <td>0.000000</td>\n      <td>0.000000e+00</td>\n      <td>...</td>\n      <td>0.000000</td>\n      <td>52.785000</td>\n      <td>0.000000</td>\n      <td>0.000000</td>\n      <td>0.000000</td>\n      <td>0.000000</td>\n      <td>-47.670043</td>\n      <td>0.000000</td>\n      <td>0.000000</td>\n      <td>53.227524</td>\n    </tr>\n    <tr>\n      <th>2019-08-20 05:00:00-04:00</th>\n      <td>52.772500</td>\n      <td>52.772500</td>\n      <td>52.592500</td>\n      <td>52.635000</td>\n      <td>52.635000</td>\n      <td>0</td>\n      <td>0.000000e+00</td>\n      <td>0</td>\n      <td>0.000000</td>\n      <td>-0.000000e+00</td>\n      <td>...</td>\n      <td>0.000000</td>\n      <td>52.718666</td>\n      <td>0.000000</td>\n      <td>0.000000</td>\n      <td>0.000000</td>\n      <td>0.000000</td>\n      <td>-0.284172</td>\n      <td>-0.284576</td>\n      <td>-0.284172</td>\n      <td>53.022251</td>\n    </tr>\n    <tr>\n      <th>2019-08-20 06:00:00-04:00</th>\n      <td>52.627500</td>\n      <td>52.750000</td>\n      <td>52.627500</td>\n      <td>52.687500</td>\n      <td>52.687500</td>\n      <td>0</td>\n      <td>0.000000e+00</td>\n      <td>0</td>\n      <td>0.000000</td>\n      <td>-0.000000e+00</td>\n      <td>...</td>\n      <td>0.000000</td>\n      <td>52.704641</td>\n      <td>0.000000</td>\n      <td>0.000000</td>\n      <td>0.000000</td>\n      <td>0.000000</td>\n      <td>0.099744</td>\n      <td>0.099694</td>\n      <td>-0.184712</td>\n      <td>52.853874</td>\n    </tr>\n    <tr>\n      <th>2019-08-20 07:00:00-04:00</th>\n      <td>52.727500</td>\n      <td>52.727500</td>\n      <td>52.500000</td>\n      <td>52.575000</td>\n      <td>52.575000</td>\n      <td>0</td>\n      <td>0.000000e+00</td>\n      <td>0</td>\n      <td>0.000000</td>\n      <td>-0.000000e+00</td>\n      <td>...</td>\n      <td>0.000000</td>\n      <td>52.646839</td>\n      <td>0.000000</td>\n      <td>0.000000</td>\n      <td>0.000000</td>\n      <td>0.000000</td>\n      <td>-0.213523</td>\n      <td>-0.213751</td>\n      <td>-0.397840</td>\n      <td>52.876225</td>\n    </tr>\n    <tr>\n      <th>2019-08-20 08:00:00-04:00</th>\n      <td>52.575000</td>\n      <td>52.850000</td>\n      <td>52.537500</td>\n      <td>52.850000</td>\n      <td>52.850000</td>\n      <td>0</td>\n      <td>0.000000e+00</td>\n      <td>0</td>\n      <td>0.000000</td>\n      <td>-0.000000e+00</td>\n      <td>...</td>\n      <td>0.000000</td>\n      <td>52.734980</td>\n      <td>0.000000</td>\n      <td>0.000000</td>\n      <td>0.000000</td>\n      <td>0.000000</td>\n      <td>0.523062</td>\n      <td>0.521699</td>\n      <td>0.123141</td>\n      <td>52.587502</td>\n    </tr>\n    <tr>\n      <th>...</th>\n      <td>...</td>\n      <td>...</td>\n      <td>...</td>\n      <td>...</td>\n      <td>...</td>\n      <td>...</td>\n      <td>...</td>\n      <td>...</td>\n      <td>...</td>\n      <td>...</td>\n      <td>...</td>\n      <td>...</td>\n      <td>...</td>\n      <td>...</td>\n      <td>...</td>\n      <td>...</td>\n      <td>...</td>\n      <td>...</td>\n      <td>...</td>\n      <td>...</td>\n      <td>...</td>\n    </tr>\n    <tr>\n      <th>2021-08-19 14:30:00-04:00</th>\n      <td>146.089996</td>\n      <td>147.240005</td>\n      <td>145.839996</td>\n      <td>147.229996</td>\n      <td>147.229996</td>\n      <td>9434215</td>\n      <td>1.740003e+09</td>\n      <td>508862909</td>\n      <td>0.030041</td>\n      <td>2.373374e+06</td>\n      <td>...</td>\n      <td>-1.097274</td>\n      <td>145.636372</td>\n      <td>0.546333</td>\n      <td>22.097190</td>\n      <td>7.988910</td>\n      <td>14.108281</td>\n      <td>0.780340</td>\n      <td>0.777312</td>\n      <td>178.923929</td>\n      <td>NaN</td>\n    </tr>\n    <tr>\n      <th>2021-08-19 15:30:00-04:00</th>\n      <td>147.223999</td>\n      <td>147.300003</td>\n      <td>146.350006</td>\n      <td>146.669998</td>\n      <td>146.669998</td>\n      <td>7259879</td>\n      <td>1.737634e+09</td>\n      <td>501603030</td>\n      <td>0.051486</td>\n      <td>1.453532e+06</td>\n      <td>...</td>\n      <td>-0.862754</td>\n      <td>145.684068</td>\n      <td>1.410494</td>\n      <td>20.047077</td>\n      <td>10.400543</td>\n      <td>9.646534</td>\n      <td>-0.380356</td>\n      <td>-0.381081</td>\n      <td>177.863026</td>\n      <td>NaN</td>\n    </tr>\n    <tr>\n      <th>2021-08-19 16:00:00-04:00</th>\n      <td>146.700000</td>\n      <td>146.880000</td>\n      <td>146.430000</td>\n      <td>146.740000</td>\n      <td>146.740000</td>\n      <td>3220568</td>\n      <td>1.738850e+09</td>\n      <td>504823598</td>\n      <td>0.006312</td>\n      <td>1.278091e+06</td>\n      <td>...</td>\n      <td>-0.849048</td>\n      <td>145.758540</td>\n      <td>1.011909</td>\n      <td>13.673612</td>\n      <td>11.055157</td>\n      <td>2.618455</td>\n      <td>0.047727</td>\n      <td>0.047716</td>\n      <td>177.995643</td>\n      <td>NaN</td>\n    </tr>\n    <tr>\n      <th>2021-08-19 17:00:00-04:00</th>\n      <td>146.740000</td>\n      <td>155.801770</td>\n      <td>136.938130</td>\n      <td>146.670000</td>\n      <td>146.670000</td>\n      <td>0</td>\n      <td>1.738850e+09</td>\n      <td>504823598</td>\n      <td>0.107263</td>\n      <td>1.095507e+06</td>\n      <td>...</td>\n      <td>-0.964145</td>\n      <td>145.822822</td>\n      <td>1.075047</td>\n      <td>3.880193</td>\n      <td>9.620164</td>\n      <td>-5.739971</td>\n      <td>-0.047703</td>\n      <td>-0.047715</td>\n      <td>177.863029</td>\n      <td>NaN</td>\n    </tr>\n    <tr>\n      <th>2021-08-19 18:00:00-04:00</th>\n      <td>146.640000</td>\n      <td>146.730000</td>\n      <td>146.640000</td>\n      <td>146.690000</td>\n      <td>146.690000</td>\n      <td>0</td>\n      <td>1.738850e+09</td>\n      <td>504823598</td>\n      <td>0.250948</td>\n      <td>9.390060e+05</td>\n      <td>...</td>\n      <td>-0.861998</td>\n      <td>145.865687</td>\n      <td>1.340242</td>\n      <td>-5.069485</td>\n      <td>6.682234</td>\n      <td>-11.751719</td>\n      <td>0.013636</td>\n      <td>0.013635</td>\n      <td>177.900919</td>\n      <td>NaN</td>\n    </tr>\n  </tbody>\n</table>\n<p>8378 rows × 90 columns</p>\n</div>"
     },
     "execution_count": 264,
     "metadata": {},
     "output_type": "execute_result"
    },
    {
     "name": "stderr",
     "output_type": "stream",
     "text": [
      "C:\\Users\\exomat\\anaconda3\\envs\\magisterka_analiza\\lib\\site-packages\\ta\\trend.py:768: RuntimeWarning: invalid value encountered in double_scalars\n",
      "  dip[i] = 100 * (self._dip[i] / self._trs[i])\n",
      "C:\\Users\\exomat\\anaconda3\\envs\\magisterka_analiza\\lib\\site-packages\\ta\\trend.py:772: RuntimeWarning: invalid value encountered in double_scalars\n",
      "  din[i] = 100 * (self._din[i] / self._trs[i])\n"
     ]
    },
    {
     "data": {
      "text/plain": "                                 open        high         low       close  \\\nDatetime                                                                    \n2019-08-20 04:00:00-04:00   52.650000   52.785000   52.650000   52.785000   \n2019-08-20 05:00:00-04:00   52.772500   52.772500   52.592500   52.635000   \n2019-08-20 06:00:00-04:00   52.627500   52.750000   52.627500   52.687500   \n2019-08-20 07:00:00-04:00   52.727500   52.727500   52.500000   52.575000   \n2019-08-20 08:00:00-04:00   52.575000   52.850000   52.537500   52.850000   \n...                               ...         ...         ...         ...   \n2021-08-19 14:30:00-04:00  146.089996  147.240005  145.839996  147.229996   \n2021-08-19 15:30:00-04:00  147.223999  147.300003  146.350006  146.669998   \n2021-08-19 16:00:00-04:00  146.700000  146.880000  146.430000  146.740000   \n2021-08-19 17:00:00-04:00  146.740000  155.801770  136.938130  146.670000   \n2021-08-19 18:00:00-04:00  146.690000  146.730000  146.640000  146.690000   \n\n                            Adj Close   volume    volume_adi  volume_obv  \\\nDatetime                                                                   \n2019-08-20 04:00:00-04:00   52.785000        0  0.000000e+00           0   \n2019-08-20 05:00:00-04:00   52.635000        0  0.000000e+00           0   \n2019-08-20 06:00:00-04:00   52.687500        0  0.000000e+00           0   \n2019-08-20 07:00:00-04:00   52.575000        0  0.000000e+00           0   \n2019-08-20 08:00:00-04:00   52.850000        0  0.000000e+00           0   \n...                               ...      ...           ...         ...   \n2021-08-19 14:30:00-04:00  147.229996  9434215  1.740003e+09   508862909   \n2021-08-19 15:30:00-04:00  146.669998  7259879  1.737634e+09   501603030   \n2021-08-19 16:00:00-04:00  146.740000  3220568  1.738850e+09   504823598   \n2021-08-19 17:00:00-04:00  146.670000        0  1.738850e+09   504823598   \n2021-08-19 18:00:00-04:00  146.690000        0  1.738850e+09   504823598   \n\n                           volume_cmf     volume_fi  ...  momentum_ao  \\\nDatetime                                             ...                \n2019-08-20 04:00:00-04:00    0.000000  0.000000e+00  ...     0.000000   \n2019-08-20 05:00:00-04:00    0.000000 -0.000000e+00  ...     0.000000   \n2019-08-20 06:00:00-04:00    0.000000 -0.000000e+00  ...     0.000000   \n2019-08-20 07:00:00-04:00    0.000000 -0.000000e+00  ...     0.000000   \n2019-08-20 08:00:00-04:00    0.000000 -0.000000e+00  ...     0.000000   \n...                               ...           ...  ...          ...   \n2021-08-19 14:30:00-04:00    0.030041  2.373374e+06  ...    -1.097274   \n2021-08-19 15:30:00-04:00    0.051486  1.453532e+06  ...    -0.862754   \n2021-08-19 16:00:00-04:00    0.006312  1.278091e+06  ...    -0.849048   \n2021-08-19 17:00:00-04:00    0.107263  1.095507e+06  ...    -0.964145   \n2021-08-19 18:00:00-04:00    0.250948  9.390060e+05  ...    -0.861998   \n\n                           momentum_kama  momentum_roc  momentum_ppo  \\\nDatetime                                                               \n2019-08-20 04:00:00-04:00      52.785000      0.000000      0.000000   \n2019-08-20 05:00:00-04:00      52.718666      0.000000      0.000000   \n2019-08-20 06:00:00-04:00      52.704641      0.000000      0.000000   \n2019-08-20 07:00:00-04:00      52.646839      0.000000      0.000000   \n2019-08-20 08:00:00-04:00      52.734980      0.000000      0.000000   \n...                                  ...           ...           ...   \n2021-08-19 14:30:00-04:00     145.636372      0.546333     22.097190   \n2021-08-19 15:30:00-04:00     145.684068      1.410494     20.047077   \n2021-08-19 16:00:00-04:00     145.758540      1.011909     13.673612   \n2021-08-19 17:00:00-04:00     145.822822      1.075047      3.880193   \n2021-08-19 18:00:00-04:00     145.865687      1.340242     -5.069485   \n\n                           momentum_ppo_signal  momentum_ppo_hist  others_dr  \\\nDatetime                                                                       \n2019-08-20 04:00:00-04:00             0.000000           0.000000 -47.670043   \n2019-08-20 05:00:00-04:00             0.000000           0.000000  -0.284172   \n2019-08-20 06:00:00-04:00             0.000000           0.000000   0.099744   \n2019-08-20 07:00:00-04:00             0.000000           0.000000  -0.213523   \n2019-08-20 08:00:00-04:00             0.000000           0.000000   0.523062   \n...                                        ...                ...        ...   \n2021-08-19 14:30:00-04:00             7.988910          14.108281   0.780340   \n2021-08-19 15:30:00-04:00            10.400543           9.646534  -0.380356   \n2021-08-19 16:00:00-04:00            11.055157           2.618455   0.047727   \n2021-08-19 17:00:00-04:00             9.620164          -5.739971  -0.047703   \n2021-08-19 18:00:00-04:00             6.682234         -11.751719   0.013636   \n\n                           others_dlr   others_cr  close_shift  \nDatetime                                                        \n2019-08-20 04:00:00-04:00    0.000000    0.000000    53.227524  \n2019-08-20 05:00:00-04:00   -0.284576   -0.284172    53.022251  \n2019-08-20 06:00:00-04:00    0.099694   -0.184712    52.853874  \n2019-08-20 07:00:00-04:00   -0.213751   -0.397840    52.876225  \n2019-08-20 08:00:00-04:00    0.521699    0.123141    52.587502  \n...                               ...         ...          ...  \n2021-08-19 14:30:00-04:00    0.777312  178.923929          NaN  \n2021-08-19 15:30:00-04:00   -0.381081  177.863026          NaN  \n2021-08-19 16:00:00-04:00    0.047716  177.995643          NaN  \n2021-08-19 17:00:00-04:00   -0.047715  177.863029          NaN  \n2021-08-19 18:00:00-04:00    0.013635  177.900919          NaN  \n\n[8378 rows x 90 columns]",
      "text/html": "<div>\n<style scoped>\n    .dataframe tbody tr th:only-of-type {\n        vertical-align: middle;\n    }\n\n    .dataframe tbody tr th {\n        vertical-align: top;\n    }\n\n    .dataframe thead th {\n        text-align: right;\n    }\n</style>\n<table border=\"1\" class=\"dataframe\">\n  <thead>\n    <tr style=\"text-align: right;\">\n      <th></th>\n      <th>open</th>\n      <th>high</th>\n      <th>low</th>\n      <th>close</th>\n      <th>Adj Close</th>\n      <th>volume</th>\n      <th>volume_adi</th>\n      <th>volume_obv</th>\n      <th>volume_cmf</th>\n      <th>volume_fi</th>\n      <th>...</th>\n      <th>momentum_ao</th>\n      <th>momentum_kama</th>\n      <th>momentum_roc</th>\n      <th>momentum_ppo</th>\n      <th>momentum_ppo_signal</th>\n      <th>momentum_ppo_hist</th>\n      <th>others_dr</th>\n      <th>others_dlr</th>\n      <th>others_cr</th>\n      <th>close_shift</th>\n    </tr>\n    <tr>\n      <th>Datetime</th>\n      <th></th>\n      <th></th>\n      <th></th>\n      <th></th>\n      <th></th>\n      <th></th>\n      <th></th>\n      <th></th>\n      <th></th>\n      <th></th>\n      <th></th>\n      <th></th>\n      <th></th>\n      <th></th>\n      <th></th>\n      <th></th>\n      <th></th>\n      <th></th>\n      <th></th>\n      <th></th>\n      <th></th>\n    </tr>\n  </thead>\n  <tbody>\n    <tr>\n      <th>2019-08-20 04:00:00-04:00</th>\n      <td>52.650000</td>\n      <td>52.785000</td>\n      <td>52.650000</td>\n      <td>52.785000</td>\n      <td>52.785000</td>\n      <td>0</td>\n      <td>0.000000e+00</td>\n      <td>0</td>\n      <td>0.000000</td>\n      <td>0.000000e+00</td>\n      <td>...</td>\n      <td>0.000000</td>\n      <td>52.785000</td>\n      <td>0.000000</td>\n      <td>0.000000</td>\n      <td>0.000000</td>\n      <td>0.000000</td>\n      <td>-47.670043</td>\n      <td>0.000000</td>\n      <td>0.000000</td>\n      <td>53.227524</td>\n    </tr>\n    <tr>\n      <th>2019-08-20 05:00:00-04:00</th>\n      <td>52.772500</td>\n      <td>52.772500</td>\n      <td>52.592500</td>\n      <td>52.635000</td>\n      <td>52.635000</td>\n      <td>0</td>\n      <td>0.000000e+00</td>\n      <td>0</td>\n      <td>0.000000</td>\n      <td>-0.000000e+00</td>\n      <td>...</td>\n      <td>0.000000</td>\n      <td>52.718666</td>\n      <td>0.000000</td>\n      <td>0.000000</td>\n      <td>0.000000</td>\n      <td>0.000000</td>\n      <td>-0.284172</td>\n      <td>-0.284576</td>\n      <td>-0.284172</td>\n      <td>53.022251</td>\n    </tr>\n    <tr>\n      <th>2019-08-20 06:00:00-04:00</th>\n      <td>52.627500</td>\n      <td>52.750000</td>\n      <td>52.627500</td>\n      <td>52.687500</td>\n      <td>52.687500</td>\n      <td>0</td>\n      <td>0.000000e+00</td>\n      <td>0</td>\n      <td>0.000000</td>\n      <td>-0.000000e+00</td>\n      <td>...</td>\n      <td>0.000000</td>\n      <td>52.704641</td>\n      <td>0.000000</td>\n      <td>0.000000</td>\n      <td>0.000000</td>\n      <td>0.000000</td>\n      <td>0.099744</td>\n      <td>0.099694</td>\n      <td>-0.184712</td>\n      <td>52.853874</td>\n    </tr>\n    <tr>\n      <th>2019-08-20 07:00:00-04:00</th>\n      <td>52.727500</td>\n      <td>52.727500</td>\n      <td>52.500000</td>\n      <td>52.575000</td>\n      <td>52.575000</td>\n      <td>0</td>\n      <td>0.000000e+00</td>\n      <td>0</td>\n      <td>0.000000</td>\n      <td>-0.000000e+00</td>\n      <td>...</td>\n      <td>0.000000</td>\n      <td>52.646839</td>\n      <td>0.000000</td>\n      <td>0.000000</td>\n      <td>0.000000</td>\n      <td>0.000000</td>\n      <td>-0.213523</td>\n      <td>-0.213751</td>\n      <td>-0.397840</td>\n      <td>52.876225</td>\n    </tr>\n    <tr>\n      <th>2019-08-20 08:00:00-04:00</th>\n      <td>52.575000</td>\n      <td>52.850000</td>\n      <td>52.537500</td>\n      <td>52.850000</td>\n      <td>52.850000</td>\n      <td>0</td>\n      <td>0.000000e+00</td>\n      <td>0</td>\n      <td>0.000000</td>\n      <td>-0.000000e+00</td>\n      <td>...</td>\n      <td>0.000000</td>\n      <td>52.734980</td>\n      <td>0.000000</td>\n      <td>0.000000</td>\n      <td>0.000000</td>\n      <td>0.000000</td>\n      <td>0.523062</td>\n      <td>0.521699</td>\n      <td>0.123141</td>\n      <td>52.587502</td>\n    </tr>\n    <tr>\n      <th>...</th>\n      <td>...</td>\n      <td>...</td>\n      <td>...</td>\n      <td>...</td>\n      <td>...</td>\n      <td>...</td>\n      <td>...</td>\n      <td>...</td>\n      <td>...</td>\n      <td>...</td>\n      <td>...</td>\n      <td>...</td>\n      <td>...</td>\n      <td>...</td>\n      <td>...</td>\n      <td>...</td>\n      <td>...</td>\n      <td>...</td>\n      <td>...</td>\n      <td>...</td>\n      <td>...</td>\n    </tr>\n    <tr>\n      <th>2021-08-19 14:30:00-04:00</th>\n      <td>146.089996</td>\n      <td>147.240005</td>\n      <td>145.839996</td>\n      <td>147.229996</td>\n      <td>147.229996</td>\n      <td>9434215</td>\n      <td>1.740003e+09</td>\n      <td>508862909</td>\n      <td>0.030041</td>\n      <td>2.373374e+06</td>\n      <td>...</td>\n      <td>-1.097274</td>\n      <td>145.636372</td>\n      <td>0.546333</td>\n      <td>22.097190</td>\n      <td>7.988910</td>\n      <td>14.108281</td>\n      <td>0.780340</td>\n      <td>0.777312</td>\n      <td>178.923929</td>\n      <td>NaN</td>\n    </tr>\n    <tr>\n      <th>2021-08-19 15:30:00-04:00</th>\n      <td>147.223999</td>\n      <td>147.300003</td>\n      <td>146.350006</td>\n      <td>146.669998</td>\n      <td>146.669998</td>\n      <td>7259879</td>\n      <td>1.737634e+09</td>\n      <td>501603030</td>\n      <td>0.051486</td>\n      <td>1.453532e+06</td>\n      <td>...</td>\n      <td>-0.862754</td>\n      <td>145.684068</td>\n      <td>1.410494</td>\n      <td>20.047077</td>\n      <td>10.400543</td>\n      <td>9.646534</td>\n      <td>-0.380356</td>\n      <td>-0.381081</td>\n      <td>177.863026</td>\n      <td>NaN</td>\n    </tr>\n    <tr>\n      <th>2021-08-19 16:00:00-04:00</th>\n      <td>146.700000</td>\n      <td>146.880000</td>\n      <td>146.430000</td>\n      <td>146.740000</td>\n      <td>146.740000</td>\n      <td>3220568</td>\n      <td>1.738850e+09</td>\n      <td>504823598</td>\n      <td>0.006312</td>\n      <td>1.278091e+06</td>\n      <td>...</td>\n      <td>-0.849048</td>\n      <td>145.758540</td>\n      <td>1.011909</td>\n      <td>13.673612</td>\n      <td>11.055157</td>\n      <td>2.618455</td>\n      <td>0.047727</td>\n      <td>0.047716</td>\n      <td>177.995643</td>\n      <td>NaN</td>\n    </tr>\n    <tr>\n      <th>2021-08-19 17:00:00-04:00</th>\n      <td>146.740000</td>\n      <td>155.801770</td>\n      <td>136.938130</td>\n      <td>146.670000</td>\n      <td>146.670000</td>\n      <td>0</td>\n      <td>1.738850e+09</td>\n      <td>504823598</td>\n      <td>0.107263</td>\n      <td>1.095507e+06</td>\n      <td>...</td>\n      <td>-0.964145</td>\n      <td>145.822822</td>\n      <td>1.075047</td>\n      <td>3.880193</td>\n      <td>9.620164</td>\n      <td>-5.739971</td>\n      <td>-0.047703</td>\n      <td>-0.047715</td>\n      <td>177.863029</td>\n      <td>NaN</td>\n    </tr>\n    <tr>\n      <th>2021-08-19 18:00:00-04:00</th>\n      <td>146.690000</td>\n      <td>146.730000</td>\n      <td>146.640000</td>\n      <td>146.690000</td>\n      <td>146.690000</td>\n      <td>0</td>\n      <td>1.738850e+09</td>\n      <td>504823598</td>\n      <td>0.250948</td>\n      <td>9.390060e+05</td>\n      <td>...</td>\n      <td>-0.861998</td>\n      <td>145.865687</td>\n      <td>1.340242</td>\n      <td>-5.069485</td>\n      <td>6.682234</td>\n      <td>-11.751719</td>\n      <td>0.013636</td>\n      <td>0.013635</td>\n      <td>177.900919</td>\n      <td>NaN</td>\n    </tr>\n  </tbody>\n</table>\n<p>8378 rows × 90 columns</p>\n</div>"
     },
     "execution_count": 300,
     "metadata": {},
     "output_type": "execute_result"
    }
   ],
   "source": [
    "data = _get_indicator_data(data)\n",
    "data['close_shift'] = data.shift(-WINDOW)['close']\n",
    "data"
   ],
   "metadata": {
    "collapsed": false,
    "pycharm": {
     "name": "#%%\n"
    }
   }
  },
  {
   "cell_type": "code",
   "execution_count": 301,
   "outputs": [
    {
     "data": {
      "text/plain": "                                 open        high         low       close  \\\nDatetime                                                                    \n2019-08-20 04:00:00-04:00   52.650000   52.785000   52.650000   52.785000   \n2019-08-20 05:00:00-04:00   52.772500   52.772500   52.592500   52.635000   \n2019-08-20 06:00:00-04:00   52.627500   52.750000   52.627500   52.687500   \n2019-08-20 07:00:00-04:00   52.727500   52.727500   52.500000   52.575000   \n2019-08-20 08:00:00-04:00   52.575000   52.850000   52.537500   52.850000   \n...                               ...         ...         ...         ...   \n2021-08-19 14:30:00-04:00  146.089996  147.240005  145.839996  147.229996   \n2021-08-19 15:30:00-04:00  147.223999  147.300003  146.350006  146.669998   \n2021-08-19 16:00:00-04:00  146.700000  146.880000  146.430000  146.740000   \n2021-08-19 17:00:00-04:00  146.740000  155.801770  136.938130  146.670000   \n2021-08-19 18:00:00-04:00  146.640000  146.720000  146.640000  146.720000   \n\n                            Adj Close   volume    volume_adi  volume_obv  \\\nDatetime                                                                   \n2019-08-20 04:00:00-04:00   52.785000        0  0.000000e+00           0   \n2019-08-20 05:00:00-04:00   52.635000        0  0.000000e+00           0   \n2019-08-20 06:00:00-04:00   52.687500        0  0.000000e+00           0   \n2019-08-20 07:00:00-04:00   52.575000        0  0.000000e+00           0   \n2019-08-20 08:00:00-04:00   52.850000        0  0.000000e+00           0   \n...                               ...      ...           ...         ...   \n2021-08-19 14:30:00-04:00  147.229996  9434215  1.740003e+09   508862909   \n2021-08-19 15:30:00-04:00  146.669998  7259879  1.737634e+09   501603030   \n2021-08-19 16:00:00-04:00  146.740000  3220568  1.738850e+09   504823598   \n2021-08-19 17:00:00-04:00  146.670000        0  1.738850e+09   504823598   \n2021-08-19 18:00:00-04:00  146.720000        0  1.738850e+09   504823598   \n\n                           volume_cmf     volume_fi  ...  momentum_kama  \\\nDatetime                                             ...                  \n2019-08-20 04:00:00-04:00    0.000000  0.000000e+00  ...      52.785000   \n2019-08-20 05:00:00-04:00    0.000000 -0.000000e+00  ...      52.718704   \n2019-08-20 06:00:00-04:00    0.000000 -0.000000e+00  ...      52.704670   \n2019-08-20 07:00:00-04:00    0.000000 -0.000000e+00  ...      52.646889   \n2019-08-20 08:00:00-04:00    0.000000 -0.000000e+00  ...      52.734957   \n...                               ...           ...  ...            ...   \n2021-08-19 14:30:00-04:00    0.030041  2.373374e+06  ...     145.636372   \n2021-08-19 15:30:00-04:00    0.051486  1.453532e+06  ...     145.684068   \n2021-08-19 16:00:00-04:00    0.006312  1.278091e+06  ...     145.758540   \n2021-08-19 17:00:00-04:00    0.107263  1.095507e+06  ...     145.822822   \n2021-08-19 18:00:00-04:00    0.250948  9.390060e+05  ...     145.868158   \n\n                           momentum_roc  momentum_ppo  momentum_ppo_signal  \\\nDatetime                                                                     \n2019-08-20 04:00:00-04:00      0.000000      0.000000             0.000000   \n2019-08-20 05:00:00-04:00      0.000000      0.000000             0.000000   \n2019-08-20 06:00:00-04:00      0.000000      0.000000             0.000000   \n2019-08-20 07:00:00-04:00      0.000000      0.000000             0.000000   \n2019-08-20 08:00:00-04:00      0.000000      0.000000             0.000000   \n...                                 ...           ...                  ...   \n2021-08-19 14:30:00-04:00      0.546333     22.097190             7.988910   \n2021-08-19 15:30:00-04:00      1.410494     20.047077            10.400543   \n2021-08-19 16:00:00-04:00      1.011909     13.673612            11.055157   \n2021-08-19 17:00:00-04:00      1.075047      3.880193             9.620164   \n2021-08-19 18:00:00-04:00      1.360967     -5.069485             6.682234   \n\n                           momentum_ppo_hist  others_dr  others_dlr  \\\nDatetime                                                              \n2019-08-20 04:00:00-04:00           0.000000 -47.670045    0.000000   \n2019-08-20 05:00:00-04:00           0.000000  -0.284172   -0.284576   \n2019-08-20 06:00:00-04:00           0.000000   0.099744    0.099694   \n2019-08-20 07:00:00-04:00           0.000000  -0.213523   -0.213751   \n2019-08-20 08:00:00-04:00           0.000000   0.523062    0.521699   \n...                                      ...        ...         ...   \n2021-08-19 14:30:00-04:00          14.108281   0.780340    0.777312   \n2021-08-19 15:30:00-04:00           9.646534  -0.380356   -0.381081   \n2021-08-19 16:00:00-04:00           2.618455   0.047727    0.047716   \n2021-08-19 17:00:00-04:00          -5.739971  -0.047703   -0.047715   \n2021-08-19 18:00:00-04:00         -11.751719   0.034090    0.034084   \n\n                            others_cr  close_shift  class_column  \nDatetime                                                          \n2019-08-20 04:00:00-04:00    0.000000    53.227524             0  \n2019-08-20 05:00:00-04:00   -0.284172    53.022251             0  \n2019-08-20 06:00:00-04:00   -0.184712    52.853874             0  \n2019-08-20 07:00:00-04:00   -0.397840    52.876225             0  \n2019-08-20 08:00:00-04:00    0.123141    52.587502             0  \n...                               ...          ...           ...  \n2021-08-19 14:30:00-04:00  178.923929          NaN             0  \n2021-08-19 15:30:00-04:00  177.863026          NaN             0  \n2021-08-19 16:00:00-04:00  177.995643          NaN             0  \n2021-08-19 17:00:00-04:00  177.863029          NaN             0  \n2021-08-19 18:00:00-04:00  177.957753          NaN             0  \n\n[8378 rows x 91 columns]",
      "text/html": "<div>\n<style scoped>\n    .dataframe tbody tr th:only-of-type {\n        vertical-align: middle;\n    }\n\n    .dataframe tbody tr th {\n        vertical-align: top;\n    }\n\n    .dataframe thead th {\n        text-align: right;\n    }\n</style>\n<table border=\"1\" class=\"dataframe\">\n  <thead>\n    <tr style=\"text-align: right;\">\n      <th></th>\n      <th>open</th>\n      <th>high</th>\n      <th>low</th>\n      <th>close</th>\n      <th>Adj Close</th>\n      <th>volume</th>\n      <th>volume_adi</th>\n      <th>volume_obv</th>\n      <th>volume_cmf</th>\n      <th>volume_fi</th>\n      <th>...</th>\n      <th>momentum_kama</th>\n      <th>momentum_roc</th>\n      <th>momentum_ppo</th>\n      <th>momentum_ppo_signal</th>\n      <th>momentum_ppo_hist</th>\n      <th>others_dr</th>\n      <th>others_dlr</th>\n      <th>others_cr</th>\n      <th>close_shift</th>\n      <th>class_column</th>\n    </tr>\n    <tr>\n      <th>Datetime</th>\n      <th></th>\n      <th></th>\n      <th></th>\n      <th></th>\n      <th></th>\n      <th></th>\n      <th></th>\n      <th></th>\n      <th></th>\n      <th></th>\n      <th></th>\n      <th></th>\n      <th></th>\n      <th></th>\n      <th></th>\n      <th></th>\n      <th></th>\n      <th></th>\n      <th></th>\n      <th></th>\n      <th></th>\n    </tr>\n  </thead>\n  <tbody>\n    <tr>\n      <th>2019-08-20 04:00:00-04:00</th>\n      <td>52.650000</td>\n      <td>52.785000</td>\n      <td>52.650000</td>\n      <td>52.785000</td>\n      <td>52.785000</td>\n      <td>0</td>\n      <td>0.000000e+00</td>\n      <td>0</td>\n      <td>0.000000</td>\n      <td>0.000000e+00</td>\n      <td>...</td>\n      <td>52.785000</td>\n      <td>0.000000</td>\n      <td>0.000000</td>\n      <td>0.000000</td>\n      <td>0.000000</td>\n      <td>-47.670045</td>\n      <td>0.000000</td>\n      <td>0.000000</td>\n      <td>53.227524</td>\n      <td>0</td>\n    </tr>\n    <tr>\n      <th>2019-08-20 05:00:00-04:00</th>\n      <td>52.772500</td>\n      <td>52.772500</td>\n      <td>52.592500</td>\n      <td>52.635000</td>\n      <td>52.635000</td>\n      <td>0</td>\n      <td>0.000000e+00</td>\n      <td>0</td>\n      <td>0.000000</td>\n      <td>-0.000000e+00</td>\n      <td>...</td>\n      <td>52.718704</td>\n      <td>0.000000</td>\n      <td>0.000000</td>\n      <td>0.000000</td>\n      <td>0.000000</td>\n      <td>-0.284172</td>\n      <td>-0.284576</td>\n      <td>-0.284172</td>\n      <td>53.022251</td>\n      <td>0</td>\n    </tr>\n    <tr>\n      <th>2019-08-20 06:00:00-04:00</th>\n      <td>52.627500</td>\n      <td>52.750000</td>\n      <td>52.627500</td>\n      <td>52.687500</td>\n      <td>52.687500</td>\n      <td>0</td>\n      <td>0.000000e+00</td>\n      <td>0</td>\n      <td>0.000000</td>\n      <td>-0.000000e+00</td>\n      <td>...</td>\n      <td>52.704670</td>\n      <td>0.000000</td>\n      <td>0.000000</td>\n      <td>0.000000</td>\n      <td>0.000000</td>\n      <td>0.099744</td>\n      <td>0.099694</td>\n      <td>-0.184712</td>\n      <td>52.853874</td>\n      <td>0</td>\n    </tr>\n    <tr>\n      <th>2019-08-20 07:00:00-04:00</th>\n      <td>52.727500</td>\n      <td>52.727500</td>\n      <td>52.500000</td>\n      <td>52.575000</td>\n      <td>52.575000</td>\n      <td>0</td>\n      <td>0.000000e+00</td>\n      <td>0</td>\n      <td>0.000000</td>\n      <td>-0.000000e+00</td>\n      <td>...</td>\n      <td>52.646889</td>\n      <td>0.000000</td>\n      <td>0.000000</td>\n      <td>0.000000</td>\n      <td>0.000000</td>\n      <td>-0.213523</td>\n      <td>-0.213751</td>\n      <td>-0.397840</td>\n      <td>52.876225</td>\n      <td>0</td>\n    </tr>\n    <tr>\n      <th>2019-08-20 08:00:00-04:00</th>\n      <td>52.575000</td>\n      <td>52.850000</td>\n      <td>52.537500</td>\n      <td>52.850000</td>\n      <td>52.850000</td>\n      <td>0</td>\n      <td>0.000000e+00</td>\n      <td>0</td>\n      <td>0.000000</td>\n      <td>-0.000000e+00</td>\n      <td>...</td>\n      <td>52.734957</td>\n      <td>0.000000</td>\n      <td>0.000000</td>\n      <td>0.000000</td>\n      <td>0.000000</td>\n      <td>0.523062</td>\n      <td>0.521699</td>\n      <td>0.123141</td>\n      <td>52.587502</td>\n      <td>0</td>\n    </tr>\n    <tr>\n      <th>...</th>\n      <td>...</td>\n      <td>...</td>\n      <td>...</td>\n      <td>...</td>\n      <td>...</td>\n      <td>...</td>\n      <td>...</td>\n      <td>...</td>\n      <td>...</td>\n      <td>...</td>\n      <td>...</td>\n      <td>...</td>\n      <td>...</td>\n      <td>...</td>\n      <td>...</td>\n      <td>...</td>\n      <td>...</td>\n      <td>...</td>\n      <td>...</td>\n      <td>...</td>\n      <td>...</td>\n    </tr>\n    <tr>\n      <th>2021-08-19 14:30:00-04:00</th>\n      <td>146.089996</td>\n      <td>147.240005</td>\n      <td>145.839996</td>\n      <td>147.229996</td>\n      <td>147.229996</td>\n      <td>9434215</td>\n      <td>1.740003e+09</td>\n      <td>508862909</td>\n      <td>0.030041</td>\n      <td>2.373374e+06</td>\n      <td>...</td>\n      <td>145.636372</td>\n      <td>0.546333</td>\n      <td>22.097190</td>\n      <td>7.988910</td>\n      <td>14.108281</td>\n      <td>0.780340</td>\n      <td>0.777312</td>\n      <td>178.923929</td>\n      <td>NaN</td>\n      <td>0</td>\n    </tr>\n    <tr>\n      <th>2021-08-19 15:30:00-04:00</th>\n      <td>147.223999</td>\n      <td>147.300003</td>\n      <td>146.350006</td>\n      <td>146.669998</td>\n      <td>146.669998</td>\n      <td>7259879</td>\n      <td>1.737634e+09</td>\n      <td>501603030</td>\n      <td>0.051486</td>\n      <td>1.453532e+06</td>\n      <td>...</td>\n      <td>145.684068</td>\n      <td>1.410494</td>\n      <td>20.047077</td>\n      <td>10.400543</td>\n      <td>9.646534</td>\n      <td>-0.380356</td>\n      <td>-0.381081</td>\n      <td>177.863026</td>\n      <td>NaN</td>\n      <td>0</td>\n    </tr>\n    <tr>\n      <th>2021-08-19 16:00:00-04:00</th>\n      <td>146.700000</td>\n      <td>146.880000</td>\n      <td>146.430000</td>\n      <td>146.740000</td>\n      <td>146.740000</td>\n      <td>3220568</td>\n      <td>1.738850e+09</td>\n      <td>504823598</td>\n      <td>0.006312</td>\n      <td>1.278091e+06</td>\n      <td>...</td>\n      <td>145.758540</td>\n      <td>1.011909</td>\n      <td>13.673612</td>\n      <td>11.055157</td>\n      <td>2.618455</td>\n      <td>0.047727</td>\n      <td>0.047716</td>\n      <td>177.995643</td>\n      <td>NaN</td>\n      <td>0</td>\n    </tr>\n    <tr>\n      <th>2021-08-19 17:00:00-04:00</th>\n      <td>146.740000</td>\n      <td>155.801770</td>\n      <td>136.938130</td>\n      <td>146.670000</td>\n      <td>146.670000</td>\n      <td>0</td>\n      <td>1.738850e+09</td>\n      <td>504823598</td>\n      <td>0.107263</td>\n      <td>1.095507e+06</td>\n      <td>...</td>\n      <td>145.822822</td>\n      <td>1.075047</td>\n      <td>3.880193</td>\n      <td>9.620164</td>\n      <td>-5.739971</td>\n      <td>-0.047703</td>\n      <td>-0.047715</td>\n      <td>177.863029</td>\n      <td>NaN</td>\n      <td>0</td>\n    </tr>\n    <tr>\n      <th>2021-08-19 18:00:00-04:00</th>\n      <td>146.640000</td>\n      <td>146.720000</td>\n      <td>146.640000</td>\n      <td>146.720000</td>\n      <td>146.720000</td>\n      <td>0</td>\n      <td>1.738850e+09</td>\n      <td>504823598</td>\n      <td>0.250948</td>\n      <td>9.390060e+05</td>\n      <td>...</td>\n      <td>145.868158</td>\n      <td>1.360967</td>\n      <td>-5.069485</td>\n      <td>6.682234</td>\n      <td>-11.751719</td>\n      <td>0.034090</td>\n      <td>0.034084</td>\n      <td>177.957753</td>\n      <td>NaN</td>\n      <td>0</td>\n    </tr>\n  </tbody>\n</table>\n<p>8378 rows × 91 columns</p>\n</div>"
     },
     "execution_count": 229,
     "metadata": {},
     "output_type": "execute_result"
    },
    {
     "data": {
      "text/plain": "                                 open        high         low       close  \\\nDatetime                                                                    \n2019-08-20 04:00:00-04:00   52.650000   52.785000   52.650000   52.785000   \n2019-08-20 05:00:00-04:00   52.772500   52.772500   52.592500   52.635000   \n2019-08-20 06:00:00-04:00   52.627500   52.750000   52.627500   52.687500   \n2019-08-20 07:00:00-04:00   52.727500   52.727500   52.500000   52.575000   \n2019-08-20 08:00:00-04:00   52.575000   52.850000   52.537500   52.850000   \n...                               ...         ...         ...         ...   \n2021-08-19 14:30:00-04:00  146.089996  147.240005  145.839996  147.229996   \n2021-08-19 15:30:00-04:00  147.223999  147.300003  146.350006  146.669998   \n2021-08-19 16:00:00-04:00  146.700000  146.880000  146.430000  146.740000   \n2021-08-19 17:00:00-04:00  146.740000  155.801770  136.938130  146.670000   \n2021-08-19 18:00:00-04:00  146.640000  146.730000  146.640000  146.690000   \n\n                            Adj Close   volume    volume_adi  volume_obv  \\\nDatetime                                                                   \n2019-08-20 04:00:00-04:00   52.785000        0  0.000000e+00           0   \n2019-08-20 05:00:00-04:00   52.635000        0  0.000000e+00           0   \n2019-08-20 06:00:00-04:00   52.687500        0  0.000000e+00           0   \n2019-08-20 07:00:00-04:00   52.575000        0  0.000000e+00           0   \n2019-08-20 08:00:00-04:00   52.850000        0  0.000000e+00           0   \n...                               ...      ...           ...         ...   \n2021-08-19 14:30:00-04:00  147.229996  9434215  1.740003e+09   508862909   \n2021-08-19 15:30:00-04:00  146.669998  7259879  1.737634e+09   501603030   \n2021-08-19 16:00:00-04:00  146.740000  3220568  1.738850e+09   504823598   \n2021-08-19 17:00:00-04:00  146.670000        0  1.738850e+09   504823598   \n2021-08-19 18:00:00-04:00  146.690000        0  1.738850e+09   504823598   \n\n                           volume_cmf     volume_fi  ...  momentum_kama  \\\nDatetime                                             ...                  \n2019-08-20 04:00:00-04:00    0.000000  0.000000e+00  ...      52.785000   \n2019-08-20 05:00:00-04:00    0.000000 -0.000000e+00  ...      52.718666   \n2019-08-20 06:00:00-04:00    0.000000 -0.000000e+00  ...      52.704641   \n2019-08-20 07:00:00-04:00    0.000000 -0.000000e+00  ...      52.646839   \n2019-08-20 08:00:00-04:00    0.000000 -0.000000e+00  ...      52.734980   \n...                               ...           ...  ...            ...   \n2021-08-19 14:30:00-04:00    0.030041  2.373374e+06  ...     145.636372   \n2021-08-19 15:30:00-04:00    0.051486  1.453532e+06  ...     145.684068   \n2021-08-19 16:00:00-04:00    0.006312  1.278091e+06  ...     145.758540   \n2021-08-19 17:00:00-04:00    0.107263  1.095507e+06  ...     145.822822   \n2021-08-19 18:00:00-04:00    0.250948  9.390060e+05  ...     145.865687   \n\n                           momentum_roc  momentum_ppo  momentum_ppo_signal  \\\nDatetime                                                                     \n2019-08-20 04:00:00-04:00      0.000000      0.000000             0.000000   \n2019-08-20 05:00:00-04:00      0.000000      0.000000             0.000000   \n2019-08-20 06:00:00-04:00      0.000000      0.000000             0.000000   \n2019-08-20 07:00:00-04:00      0.000000      0.000000             0.000000   \n2019-08-20 08:00:00-04:00      0.000000      0.000000             0.000000   \n...                                 ...           ...                  ...   \n2021-08-19 14:30:00-04:00      0.546333     22.097190             7.988910   \n2021-08-19 15:30:00-04:00      1.410494     20.047077            10.400543   \n2021-08-19 16:00:00-04:00      1.011909     13.673612            11.055157   \n2021-08-19 17:00:00-04:00      1.075047      3.880193             9.620164   \n2021-08-19 18:00:00-04:00      1.340242     -5.069485             6.682234   \n\n                           momentum_ppo_hist  others_dr  others_dlr  \\\nDatetime                                                              \n2019-08-20 04:00:00-04:00           0.000000 -47.670043    0.000000   \n2019-08-20 05:00:00-04:00           0.000000  -0.284172   -0.284576   \n2019-08-20 06:00:00-04:00           0.000000   0.099744    0.099694   \n2019-08-20 07:00:00-04:00           0.000000  -0.213523   -0.213751   \n2019-08-20 08:00:00-04:00           0.000000   0.523062    0.521699   \n...                                      ...        ...         ...   \n2021-08-19 14:30:00-04:00          14.108281   0.780340    0.777312   \n2021-08-19 15:30:00-04:00           9.646534  -0.380356   -0.381081   \n2021-08-19 16:00:00-04:00           2.618455   0.047727    0.047716   \n2021-08-19 17:00:00-04:00          -5.739971  -0.047703   -0.047715   \n2021-08-19 18:00:00-04:00         -11.751719   0.013636    0.013635   \n\n                            others_cr  close_shift  class_column  \nDatetime                                                          \n2019-08-20 04:00:00-04:00    0.000000    53.227524             0  \n2019-08-20 05:00:00-04:00   -0.284172    53.022251             0  \n2019-08-20 06:00:00-04:00   -0.184712    52.853874             0  \n2019-08-20 07:00:00-04:00   -0.397840    52.876225             0  \n2019-08-20 08:00:00-04:00    0.123141    52.587502             0  \n...                               ...          ...           ...  \n2021-08-19 14:30:00-04:00  178.923929          NaN             0  \n2021-08-19 15:30:00-04:00  177.863026          NaN             0  \n2021-08-19 16:00:00-04:00  177.995643          NaN             0  \n2021-08-19 17:00:00-04:00  177.863029          NaN             0  \n2021-08-19 18:00:00-04:00  177.900919          NaN             0  \n\n[8378 rows x 91 columns]",
      "text/html": "<div>\n<style scoped>\n    .dataframe tbody tr th:only-of-type {\n        vertical-align: middle;\n    }\n\n    .dataframe tbody tr th {\n        vertical-align: top;\n    }\n\n    .dataframe thead th {\n        text-align: right;\n    }\n</style>\n<table border=\"1\" class=\"dataframe\">\n  <thead>\n    <tr style=\"text-align: right;\">\n      <th></th>\n      <th>open</th>\n      <th>high</th>\n      <th>low</th>\n      <th>close</th>\n      <th>Adj Close</th>\n      <th>volume</th>\n      <th>volume_adi</th>\n      <th>volume_obv</th>\n      <th>volume_cmf</th>\n      <th>volume_fi</th>\n      <th>...</th>\n      <th>momentum_kama</th>\n      <th>momentum_roc</th>\n      <th>momentum_ppo</th>\n      <th>momentum_ppo_signal</th>\n      <th>momentum_ppo_hist</th>\n      <th>others_dr</th>\n      <th>others_dlr</th>\n      <th>others_cr</th>\n      <th>close_shift</th>\n      <th>class_column</th>\n    </tr>\n    <tr>\n      <th>Datetime</th>\n      <th></th>\n      <th></th>\n      <th></th>\n      <th></th>\n      <th></th>\n      <th></th>\n      <th></th>\n      <th></th>\n      <th></th>\n      <th></th>\n      <th></th>\n      <th></th>\n      <th></th>\n      <th></th>\n      <th></th>\n      <th></th>\n      <th></th>\n      <th></th>\n      <th></th>\n      <th></th>\n      <th></th>\n    </tr>\n  </thead>\n  <tbody>\n    <tr>\n      <th>2019-08-20 04:00:00-04:00</th>\n      <td>52.650000</td>\n      <td>52.785000</td>\n      <td>52.650000</td>\n      <td>52.785000</td>\n      <td>52.785000</td>\n      <td>0</td>\n      <td>0.000000e+00</td>\n      <td>0</td>\n      <td>0.000000</td>\n      <td>0.000000e+00</td>\n      <td>...</td>\n      <td>52.785000</td>\n      <td>0.000000</td>\n      <td>0.000000</td>\n      <td>0.000000</td>\n      <td>0.000000</td>\n      <td>-47.670043</td>\n      <td>0.000000</td>\n      <td>0.000000</td>\n      <td>53.227524</td>\n      <td>0</td>\n    </tr>\n    <tr>\n      <th>2019-08-20 05:00:00-04:00</th>\n      <td>52.772500</td>\n      <td>52.772500</td>\n      <td>52.592500</td>\n      <td>52.635000</td>\n      <td>52.635000</td>\n      <td>0</td>\n      <td>0.000000e+00</td>\n      <td>0</td>\n      <td>0.000000</td>\n      <td>-0.000000e+00</td>\n      <td>...</td>\n      <td>52.718666</td>\n      <td>0.000000</td>\n      <td>0.000000</td>\n      <td>0.000000</td>\n      <td>0.000000</td>\n      <td>-0.284172</td>\n      <td>-0.284576</td>\n      <td>-0.284172</td>\n      <td>53.022251</td>\n      <td>0</td>\n    </tr>\n    <tr>\n      <th>2019-08-20 06:00:00-04:00</th>\n      <td>52.627500</td>\n      <td>52.750000</td>\n      <td>52.627500</td>\n      <td>52.687500</td>\n      <td>52.687500</td>\n      <td>0</td>\n      <td>0.000000e+00</td>\n      <td>0</td>\n      <td>0.000000</td>\n      <td>-0.000000e+00</td>\n      <td>...</td>\n      <td>52.704641</td>\n      <td>0.000000</td>\n      <td>0.000000</td>\n      <td>0.000000</td>\n      <td>0.000000</td>\n      <td>0.099744</td>\n      <td>0.099694</td>\n      <td>-0.184712</td>\n      <td>52.853874</td>\n      <td>0</td>\n    </tr>\n    <tr>\n      <th>2019-08-20 07:00:00-04:00</th>\n      <td>52.727500</td>\n      <td>52.727500</td>\n      <td>52.500000</td>\n      <td>52.575000</td>\n      <td>52.575000</td>\n      <td>0</td>\n      <td>0.000000e+00</td>\n      <td>0</td>\n      <td>0.000000</td>\n      <td>-0.000000e+00</td>\n      <td>...</td>\n      <td>52.646839</td>\n      <td>0.000000</td>\n      <td>0.000000</td>\n      <td>0.000000</td>\n      <td>0.000000</td>\n      <td>-0.213523</td>\n      <td>-0.213751</td>\n      <td>-0.397840</td>\n      <td>52.876225</td>\n      <td>0</td>\n    </tr>\n    <tr>\n      <th>2019-08-20 08:00:00-04:00</th>\n      <td>52.575000</td>\n      <td>52.850000</td>\n      <td>52.537500</td>\n      <td>52.850000</td>\n      <td>52.850000</td>\n      <td>0</td>\n      <td>0.000000e+00</td>\n      <td>0</td>\n      <td>0.000000</td>\n      <td>-0.000000e+00</td>\n      <td>...</td>\n      <td>52.734980</td>\n      <td>0.000000</td>\n      <td>0.000000</td>\n      <td>0.000000</td>\n      <td>0.000000</td>\n      <td>0.523062</td>\n      <td>0.521699</td>\n      <td>0.123141</td>\n      <td>52.587502</td>\n      <td>0</td>\n    </tr>\n    <tr>\n      <th>...</th>\n      <td>...</td>\n      <td>...</td>\n      <td>...</td>\n      <td>...</td>\n      <td>...</td>\n      <td>...</td>\n      <td>...</td>\n      <td>...</td>\n      <td>...</td>\n      <td>...</td>\n      <td>...</td>\n      <td>...</td>\n      <td>...</td>\n      <td>...</td>\n      <td>...</td>\n      <td>...</td>\n      <td>...</td>\n      <td>...</td>\n      <td>...</td>\n      <td>...</td>\n      <td>...</td>\n    </tr>\n    <tr>\n      <th>2021-08-19 14:30:00-04:00</th>\n      <td>146.089996</td>\n      <td>147.240005</td>\n      <td>145.839996</td>\n      <td>147.229996</td>\n      <td>147.229996</td>\n      <td>9434215</td>\n      <td>1.740003e+09</td>\n      <td>508862909</td>\n      <td>0.030041</td>\n      <td>2.373374e+06</td>\n      <td>...</td>\n      <td>145.636372</td>\n      <td>0.546333</td>\n      <td>22.097190</td>\n      <td>7.988910</td>\n      <td>14.108281</td>\n      <td>0.780340</td>\n      <td>0.777312</td>\n      <td>178.923929</td>\n      <td>NaN</td>\n      <td>0</td>\n    </tr>\n    <tr>\n      <th>2021-08-19 15:30:00-04:00</th>\n      <td>147.223999</td>\n      <td>147.300003</td>\n      <td>146.350006</td>\n      <td>146.669998</td>\n      <td>146.669998</td>\n      <td>7259879</td>\n      <td>1.737634e+09</td>\n      <td>501603030</td>\n      <td>0.051486</td>\n      <td>1.453532e+06</td>\n      <td>...</td>\n      <td>145.684068</td>\n      <td>1.410494</td>\n      <td>20.047077</td>\n      <td>10.400543</td>\n      <td>9.646534</td>\n      <td>-0.380356</td>\n      <td>-0.381081</td>\n      <td>177.863026</td>\n      <td>NaN</td>\n      <td>0</td>\n    </tr>\n    <tr>\n      <th>2021-08-19 16:00:00-04:00</th>\n      <td>146.700000</td>\n      <td>146.880000</td>\n      <td>146.430000</td>\n      <td>146.740000</td>\n      <td>146.740000</td>\n      <td>3220568</td>\n      <td>1.738850e+09</td>\n      <td>504823598</td>\n      <td>0.006312</td>\n      <td>1.278091e+06</td>\n      <td>...</td>\n      <td>145.758540</td>\n      <td>1.011909</td>\n      <td>13.673612</td>\n      <td>11.055157</td>\n      <td>2.618455</td>\n      <td>0.047727</td>\n      <td>0.047716</td>\n      <td>177.995643</td>\n      <td>NaN</td>\n      <td>0</td>\n    </tr>\n    <tr>\n      <th>2021-08-19 17:00:00-04:00</th>\n      <td>146.740000</td>\n      <td>155.801770</td>\n      <td>136.938130</td>\n      <td>146.670000</td>\n      <td>146.670000</td>\n      <td>0</td>\n      <td>1.738850e+09</td>\n      <td>504823598</td>\n      <td>0.107263</td>\n      <td>1.095507e+06</td>\n      <td>...</td>\n      <td>145.822822</td>\n      <td>1.075047</td>\n      <td>3.880193</td>\n      <td>9.620164</td>\n      <td>-5.739971</td>\n      <td>-0.047703</td>\n      <td>-0.047715</td>\n      <td>177.863029</td>\n      <td>NaN</td>\n      <td>0</td>\n    </tr>\n    <tr>\n      <th>2021-08-19 18:00:00-04:00</th>\n      <td>146.640000</td>\n      <td>146.730000</td>\n      <td>146.640000</td>\n      <td>146.690000</td>\n      <td>146.690000</td>\n      <td>0</td>\n      <td>1.738850e+09</td>\n      <td>504823598</td>\n      <td>0.250948</td>\n      <td>9.390060e+05</td>\n      <td>...</td>\n      <td>145.865687</td>\n      <td>1.340242</td>\n      <td>-5.069485</td>\n      <td>6.682234</td>\n      <td>-11.751719</td>\n      <td>0.013636</td>\n      <td>0.013635</td>\n      <td>177.900919</td>\n      <td>NaN</td>\n      <td>0</td>\n    </tr>\n  </tbody>\n</table>\n<p>8378 rows × 91 columns</p>\n</div>"
     },
     "execution_count": 265,
     "metadata": {},
     "output_type": "execute_result"
    },
    {
     "data": {
      "text/plain": "                                 open        high         low       close  \\\nDatetime                                                                    \n2019-08-20 04:00:00-04:00   52.650000   52.785000   52.650000   52.785000   \n2019-08-20 05:00:00-04:00   52.772500   52.772500   52.592500   52.635000   \n2019-08-20 06:00:00-04:00   52.627500   52.750000   52.627500   52.687500   \n2019-08-20 07:00:00-04:00   52.727500   52.727500   52.500000   52.575000   \n2019-08-20 08:00:00-04:00   52.575000   52.850000   52.537500   52.850000   \n...                               ...         ...         ...         ...   \n2021-08-19 14:30:00-04:00  146.089996  147.240005  145.839996  147.229996   \n2021-08-19 15:30:00-04:00  147.223999  147.300003  146.350006  146.669998   \n2021-08-19 16:00:00-04:00  146.700000  146.880000  146.430000  146.740000   \n2021-08-19 17:00:00-04:00  146.740000  155.801770  136.938130  146.670000   \n2021-08-19 18:00:00-04:00  146.690000  146.730000  146.640000  146.690000   \n\n                            Adj Close   volume    volume_adi  volume_obv  \\\nDatetime                                                                   \n2019-08-20 04:00:00-04:00   52.785000        0  0.000000e+00           0   \n2019-08-20 05:00:00-04:00   52.635000        0  0.000000e+00           0   \n2019-08-20 06:00:00-04:00   52.687500        0  0.000000e+00           0   \n2019-08-20 07:00:00-04:00   52.575000        0  0.000000e+00           0   \n2019-08-20 08:00:00-04:00   52.850000        0  0.000000e+00           0   \n...                               ...      ...           ...         ...   \n2021-08-19 14:30:00-04:00  147.229996  9434215  1.740003e+09   508862909   \n2021-08-19 15:30:00-04:00  146.669998  7259879  1.737634e+09   501603030   \n2021-08-19 16:00:00-04:00  146.740000  3220568  1.738850e+09   504823598   \n2021-08-19 17:00:00-04:00  146.670000        0  1.738850e+09   504823598   \n2021-08-19 18:00:00-04:00  146.690000        0  1.738850e+09   504823598   \n\n                           volume_cmf     volume_fi  ...  momentum_kama  \\\nDatetime                                             ...                  \n2019-08-20 04:00:00-04:00    0.000000  0.000000e+00  ...      52.785000   \n2019-08-20 05:00:00-04:00    0.000000 -0.000000e+00  ...      52.718666   \n2019-08-20 06:00:00-04:00    0.000000 -0.000000e+00  ...      52.704641   \n2019-08-20 07:00:00-04:00    0.000000 -0.000000e+00  ...      52.646839   \n2019-08-20 08:00:00-04:00    0.000000 -0.000000e+00  ...      52.734980   \n...                               ...           ...  ...            ...   \n2021-08-19 14:30:00-04:00    0.030041  2.373374e+06  ...     145.636372   \n2021-08-19 15:30:00-04:00    0.051486  1.453532e+06  ...     145.684068   \n2021-08-19 16:00:00-04:00    0.006312  1.278091e+06  ...     145.758540   \n2021-08-19 17:00:00-04:00    0.107263  1.095507e+06  ...     145.822822   \n2021-08-19 18:00:00-04:00    0.250948  9.390060e+05  ...     145.865687   \n\n                           momentum_roc  momentum_ppo  momentum_ppo_signal  \\\nDatetime                                                                     \n2019-08-20 04:00:00-04:00      0.000000      0.000000             0.000000   \n2019-08-20 05:00:00-04:00      0.000000      0.000000             0.000000   \n2019-08-20 06:00:00-04:00      0.000000      0.000000             0.000000   \n2019-08-20 07:00:00-04:00      0.000000      0.000000             0.000000   \n2019-08-20 08:00:00-04:00      0.000000      0.000000             0.000000   \n...                                 ...           ...                  ...   \n2021-08-19 14:30:00-04:00      0.546333     22.097190             7.988910   \n2021-08-19 15:30:00-04:00      1.410494     20.047077            10.400543   \n2021-08-19 16:00:00-04:00      1.011909     13.673612            11.055157   \n2021-08-19 17:00:00-04:00      1.075047      3.880193             9.620164   \n2021-08-19 18:00:00-04:00      1.340242     -5.069485             6.682234   \n\n                           momentum_ppo_hist  others_dr  others_dlr  \\\nDatetime                                                              \n2019-08-20 04:00:00-04:00           0.000000 -47.670043    0.000000   \n2019-08-20 05:00:00-04:00           0.000000  -0.284172   -0.284576   \n2019-08-20 06:00:00-04:00           0.000000   0.099744    0.099694   \n2019-08-20 07:00:00-04:00           0.000000  -0.213523   -0.213751   \n2019-08-20 08:00:00-04:00           0.000000   0.523062    0.521699   \n...                                      ...        ...         ...   \n2021-08-19 14:30:00-04:00          14.108281   0.780340    0.777312   \n2021-08-19 15:30:00-04:00           9.646534  -0.380356   -0.381081   \n2021-08-19 16:00:00-04:00           2.618455   0.047727    0.047716   \n2021-08-19 17:00:00-04:00          -5.739971  -0.047703   -0.047715   \n2021-08-19 18:00:00-04:00         -11.751719   0.013636    0.013635   \n\n                            others_cr  close_shift  class_column  \nDatetime                                                          \n2019-08-20 04:00:00-04:00    0.000000    53.227524             0  \n2019-08-20 05:00:00-04:00   -0.284172    53.022251             0  \n2019-08-20 06:00:00-04:00   -0.184712    52.853874             0  \n2019-08-20 07:00:00-04:00   -0.397840    52.876225             0  \n2019-08-20 08:00:00-04:00    0.123141    52.587502             0  \n...                               ...          ...           ...  \n2021-08-19 14:30:00-04:00  178.923929          NaN             0  \n2021-08-19 15:30:00-04:00  177.863026          NaN             0  \n2021-08-19 16:00:00-04:00  177.995643          NaN             0  \n2021-08-19 17:00:00-04:00  177.863029          NaN             0  \n2021-08-19 18:00:00-04:00  177.900919          NaN             0  \n\n[8378 rows x 91 columns]",
      "text/html": "<div>\n<style scoped>\n    .dataframe tbody tr th:only-of-type {\n        vertical-align: middle;\n    }\n\n    .dataframe tbody tr th {\n        vertical-align: top;\n    }\n\n    .dataframe thead th {\n        text-align: right;\n    }\n</style>\n<table border=\"1\" class=\"dataframe\">\n  <thead>\n    <tr style=\"text-align: right;\">\n      <th></th>\n      <th>open</th>\n      <th>high</th>\n      <th>low</th>\n      <th>close</th>\n      <th>Adj Close</th>\n      <th>volume</th>\n      <th>volume_adi</th>\n      <th>volume_obv</th>\n      <th>volume_cmf</th>\n      <th>volume_fi</th>\n      <th>...</th>\n      <th>momentum_kama</th>\n      <th>momentum_roc</th>\n      <th>momentum_ppo</th>\n      <th>momentum_ppo_signal</th>\n      <th>momentum_ppo_hist</th>\n      <th>others_dr</th>\n      <th>others_dlr</th>\n      <th>others_cr</th>\n      <th>close_shift</th>\n      <th>class_column</th>\n    </tr>\n    <tr>\n      <th>Datetime</th>\n      <th></th>\n      <th></th>\n      <th></th>\n      <th></th>\n      <th></th>\n      <th></th>\n      <th></th>\n      <th></th>\n      <th></th>\n      <th></th>\n      <th></th>\n      <th></th>\n      <th></th>\n      <th></th>\n      <th></th>\n      <th></th>\n      <th></th>\n      <th></th>\n      <th></th>\n      <th></th>\n      <th></th>\n    </tr>\n  </thead>\n  <tbody>\n    <tr>\n      <th>2019-08-20 04:00:00-04:00</th>\n      <td>52.650000</td>\n      <td>52.785000</td>\n      <td>52.650000</td>\n      <td>52.785000</td>\n      <td>52.785000</td>\n      <td>0</td>\n      <td>0.000000e+00</td>\n      <td>0</td>\n      <td>0.000000</td>\n      <td>0.000000e+00</td>\n      <td>...</td>\n      <td>52.785000</td>\n      <td>0.000000</td>\n      <td>0.000000</td>\n      <td>0.000000</td>\n      <td>0.000000</td>\n      <td>-47.670043</td>\n      <td>0.000000</td>\n      <td>0.000000</td>\n      <td>53.227524</td>\n      <td>0</td>\n    </tr>\n    <tr>\n      <th>2019-08-20 05:00:00-04:00</th>\n      <td>52.772500</td>\n      <td>52.772500</td>\n      <td>52.592500</td>\n      <td>52.635000</td>\n      <td>52.635000</td>\n      <td>0</td>\n      <td>0.000000e+00</td>\n      <td>0</td>\n      <td>0.000000</td>\n      <td>-0.000000e+00</td>\n      <td>...</td>\n      <td>52.718666</td>\n      <td>0.000000</td>\n      <td>0.000000</td>\n      <td>0.000000</td>\n      <td>0.000000</td>\n      <td>-0.284172</td>\n      <td>-0.284576</td>\n      <td>-0.284172</td>\n      <td>53.022251</td>\n      <td>0</td>\n    </tr>\n    <tr>\n      <th>2019-08-20 06:00:00-04:00</th>\n      <td>52.627500</td>\n      <td>52.750000</td>\n      <td>52.627500</td>\n      <td>52.687500</td>\n      <td>52.687500</td>\n      <td>0</td>\n      <td>0.000000e+00</td>\n      <td>0</td>\n      <td>0.000000</td>\n      <td>-0.000000e+00</td>\n      <td>...</td>\n      <td>52.704641</td>\n      <td>0.000000</td>\n      <td>0.000000</td>\n      <td>0.000000</td>\n      <td>0.000000</td>\n      <td>0.099744</td>\n      <td>0.099694</td>\n      <td>-0.184712</td>\n      <td>52.853874</td>\n      <td>0</td>\n    </tr>\n    <tr>\n      <th>2019-08-20 07:00:00-04:00</th>\n      <td>52.727500</td>\n      <td>52.727500</td>\n      <td>52.500000</td>\n      <td>52.575000</td>\n      <td>52.575000</td>\n      <td>0</td>\n      <td>0.000000e+00</td>\n      <td>0</td>\n      <td>0.000000</td>\n      <td>-0.000000e+00</td>\n      <td>...</td>\n      <td>52.646839</td>\n      <td>0.000000</td>\n      <td>0.000000</td>\n      <td>0.000000</td>\n      <td>0.000000</td>\n      <td>-0.213523</td>\n      <td>-0.213751</td>\n      <td>-0.397840</td>\n      <td>52.876225</td>\n      <td>0</td>\n    </tr>\n    <tr>\n      <th>2019-08-20 08:00:00-04:00</th>\n      <td>52.575000</td>\n      <td>52.850000</td>\n      <td>52.537500</td>\n      <td>52.850000</td>\n      <td>52.850000</td>\n      <td>0</td>\n      <td>0.000000e+00</td>\n      <td>0</td>\n      <td>0.000000</td>\n      <td>-0.000000e+00</td>\n      <td>...</td>\n      <td>52.734980</td>\n      <td>0.000000</td>\n      <td>0.000000</td>\n      <td>0.000000</td>\n      <td>0.000000</td>\n      <td>0.523062</td>\n      <td>0.521699</td>\n      <td>0.123141</td>\n      <td>52.587502</td>\n      <td>0</td>\n    </tr>\n    <tr>\n      <th>...</th>\n      <td>...</td>\n      <td>...</td>\n      <td>...</td>\n      <td>...</td>\n      <td>...</td>\n      <td>...</td>\n      <td>...</td>\n      <td>...</td>\n      <td>...</td>\n      <td>...</td>\n      <td>...</td>\n      <td>...</td>\n      <td>...</td>\n      <td>...</td>\n      <td>...</td>\n      <td>...</td>\n      <td>...</td>\n      <td>...</td>\n      <td>...</td>\n      <td>...</td>\n      <td>...</td>\n    </tr>\n    <tr>\n      <th>2021-08-19 14:30:00-04:00</th>\n      <td>146.089996</td>\n      <td>147.240005</td>\n      <td>145.839996</td>\n      <td>147.229996</td>\n      <td>147.229996</td>\n      <td>9434215</td>\n      <td>1.740003e+09</td>\n      <td>508862909</td>\n      <td>0.030041</td>\n      <td>2.373374e+06</td>\n      <td>...</td>\n      <td>145.636372</td>\n      <td>0.546333</td>\n      <td>22.097190</td>\n      <td>7.988910</td>\n      <td>14.108281</td>\n      <td>0.780340</td>\n      <td>0.777312</td>\n      <td>178.923929</td>\n      <td>NaN</td>\n      <td>0</td>\n    </tr>\n    <tr>\n      <th>2021-08-19 15:30:00-04:00</th>\n      <td>147.223999</td>\n      <td>147.300003</td>\n      <td>146.350006</td>\n      <td>146.669998</td>\n      <td>146.669998</td>\n      <td>7259879</td>\n      <td>1.737634e+09</td>\n      <td>501603030</td>\n      <td>0.051486</td>\n      <td>1.453532e+06</td>\n      <td>...</td>\n      <td>145.684068</td>\n      <td>1.410494</td>\n      <td>20.047077</td>\n      <td>10.400543</td>\n      <td>9.646534</td>\n      <td>-0.380356</td>\n      <td>-0.381081</td>\n      <td>177.863026</td>\n      <td>NaN</td>\n      <td>0</td>\n    </tr>\n    <tr>\n      <th>2021-08-19 16:00:00-04:00</th>\n      <td>146.700000</td>\n      <td>146.880000</td>\n      <td>146.430000</td>\n      <td>146.740000</td>\n      <td>146.740000</td>\n      <td>3220568</td>\n      <td>1.738850e+09</td>\n      <td>504823598</td>\n      <td>0.006312</td>\n      <td>1.278091e+06</td>\n      <td>...</td>\n      <td>145.758540</td>\n      <td>1.011909</td>\n      <td>13.673612</td>\n      <td>11.055157</td>\n      <td>2.618455</td>\n      <td>0.047727</td>\n      <td>0.047716</td>\n      <td>177.995643</td>\n      <td>NaN</td>\n      <td>0</td>\n    </tr>\n    <tr>\n      <th>2021-08-19 17:00:00-04:00</th>\n      <td>146.740000</td>\n      <td>155.801770</td>\n      <td>136.938130</td>\n      <td>146.670000</td>\n      <td>146.670000</td>\n      <td>0</td>\n      <td>1.738850e+09</td>\n      <td>504823598</td>\n      <td>0.107263</td>\n      <td>1.095507e+06</td>\n      <td>...</td>\n      <td>145.822822</td>\n      <td>1.075047</td>\n      <td>3.880193</td>\n      <td>9.620164</td>\n      <td>-5.739971</td>\n      <td>-0.047703</td>\n      <td>-0.047715</td>\n      <td>177.863029</td>\n      <td>NaN</td>\n      <td>0</td>\n    </tr>\n    <tr>\n      <th>2021-08-19 18:00:00-04:00</th>\n      <td>146.690000</td>\n      <td>146.730000</td>\n      <td>146.640000</td>\n      <td>146.690000</td>\n      <td>146.690000</td>\n      <td>0</td>\n      <td>1.738850e+09</td>\n      <td>504823598</td>\n      <td>0.250948</td>\n      <td>9.390060e+05</td>\n      <td>...</td>\n      <td>145.865687</td>\n      <td>1.340242</td>\n      <td>-5.069485</td>\n      <td>6.682234</td>\n      <td>-11.751719</td>\n      <td>0.013636</td>\n      <td>0.013635</td>\n      <td>177.900919</td>\n      <td>NaN</td>\n      <td>0</td>\n    </tr>\n  </tbody>\n</table>\n<p>8378 rows × 91 columns</p>\n</div>"
     },
     "execution_count": 301,
     "metadata": {},
     "output_type": "execute_result"
    }
   ],
   "source": [
    "higher_threshold = 1.5\n",
    "lowest_threshold = -1.5\n",
    "last_values_higher = []\n",
    "last_values_lower = []\n",
    "data['class_column'] = data.apply((lambda x: create_class_column(x, lowest_threshold, higher_threshold)), axis=1)\n",
    "while True:\n",
    "    # print(data['class_column'].value_counts())\n",
    "    class_counts = data['class_column'].value_counts()\n",
    "    if abs(class_counts[0] - class_counts[1]) < 15 and abs(class_counts[0] - class_counts[-1]) < 15:\n",
    "        break\n",
    "\n",
    "    if len(last_values_higher) == 3:\n",
    "        last_values_higher.pop(0)\n",
    "    if len(last_values_lower) == 3:\n",
    "        last_values_lower.pop(0)\n",
    "\n",
    "    last_values_higher.append(higher_threshold)\n",
    "    last_values_lower.append(lowest_threshold)\n",
    "    if class_counts[0] > class_counts[1]:\n",
    "        higher_threshold -= 0.01\n",
    "    if class_counts[0] > class_counts[-1]:\n",
    "        lowest_threshold += 0.01\n",
    "    if class_counts[0] < class_counts[1]:\n",
    "        higher_threshold += 0.01\n",
    "    if class_counts[0] < class_counts[-1]:\n",
    "        lowest_threshold -= 0.01\n",
    "\n",
    "    if higher_threshold in last_values_higher and lowest_threshold in last_values_lower:\n",
    "        break\n",
    "    # print(higher_threshold, lowest_threshold)\n",
    "    data['class_column'] = data.apply((lambda x: create_class_column(x, lowest_threshold, higher_threshold)), axis=1)\n",
    "\n",
    "data"
   ],
   "metadata": {
    "collapsed": false,
    "pycharm": {
     "name": "#%%\n"
    }
   }
  },
  {
   "cell_type": "code",
   "execution_count": 302,
   "outputs": [
    {
     "data": {
      "text/plain": " 0    2823\n 1    2798\n-1    2757\nName: class_column, dtype: int64"
     },
     "execution_count": 230,
     "metadata": {},
     "output_type": "execute_result"
    },
    {
     "data": {
      "text/plain": " 0    2823\n 1    2798\n-1    2757\nName: class_column, dtype: int64"
     },
     "execution_count": 266,
     "metadata": {},
     "output_type": "execute_result"
    },
    {
     "data": {
      "text/plain": " 0    2823\n 1    2798\n-1    2757\nName: class_column, dtype: int64"
     },
     "execution_count": 302,
     "metadata": {},
     "output_type": "execute_result"
    }
   ],
   "source": [
    "# Class divide\n",
    "data['class_column'] = data.apply((lambda x: create_class_column(x, lowest_threshold, higher_threshold)), axis=1)\n",
    "\n",
    "data['class_column'].value_counts()"
   ],
   "metadata": {
    "collapsed": false,
    "pycharm": {
     "name": "#%%\n"
    }
   }
  },
  {
   "cell_type": "code",
   "execution_count": 302,
   "outputs": [],
   "source": [],
   "metadata": {
    "collapsed": false,
    "pycharm": {
     "name": "#%%\n"
    }
   }
  },
  {
   "cell_type": "code",
   "execution_count": 303,
   "outputs": [
    {
     "name": "stdout",
     "output_type": "stream",
     "text": [
      "C:\\Users\\exomat\\Desktop\\repo\\magisterka_analiza\\data\\results\\train_test\\AAPL_2y_8_diff_20_08_2021 00_06_50_full.csv\n",
      "C:\\Users\\exomat\\Desktop\\repo\\magisterka_analiza\\data\\results\\train_test\\AAPL_2y_8_diff_20_08_2021 00_14_25_full.csv\n",
      "C:\\Users\\exomat\\Desktop\\repo\\magisterka_analiza\\data\\results\\train_test\\AAPL_2y_8_diff_20_08_2021 00_25_27_full.csv\n"
     ]
    }
   ],
   "source": [
    "filename_to_export = f'C:\\\\Users\\\\exomat\\\\Desktop\\\\repo\\\\magisterka_analiza\\\\data\\\\results\\\\train_test\\\\{symbol}_{INTERVAL}_{WINDOW}_diff_{datetime.now().strftime(\"%d_%m_%Y %H_%M_%S\")}_full.csv'\n",
    "data.to_csv(filename_to_export, index=True)\n",
    "print(filename_to_export)"
   ],
   "metadata": {
    "collapsed": false,
    "pycharm": {
     "name": "#%%\n"
    }
   }
  },
  {
   "cell_type": "code",
   "execution_count": 304,
   "outputs": [
    {
     "data": {
      "text/plain": " 0    2823\n 1    2798\n-1    2757\nName: class_column, dtype: int64"
     },
     "execution_count": 232,
     "metadata": {},
     "output_type": "execute_result"
    },
    {
     "data": {
      "text/plain": " 0    2823\n 1    2798\n-1    2757\nName: class_column, dtype: int64"
     },
     "execution_count": 268,
     "metadata": {},
     "output_type": "execute_result"
    },
    {
     "data": {
      "text/plain": " 0    2823\n 1    2798\n-1    2757\nName: class_column, dtype: int64"
     },
     "execution_count": 304,
     "metadata": {},
     "output_type": "execute_result"
    }
   ],
   "source": [
    "\n",
    "# Class divide\n",
    "data['class_column'].value_counts()"
   ],
   "metadata": {
    "collapsed": false,
    "pycharm": {
     "name": "#%%\n"
    }
   }
  },
  {
   "cell_type": "code",
   "execution_count": 305,
   "outputs": [],
   "source": [
    "# del (data['close'])\n",
    "del (data['close_shift'])\n",
    "data = data.dropna()"
   ],
   "metadata": {
    "collapsed": false,
    "pycharm": {
     "name": "#%%\n"
    }
   }
  },
  {
   "cell_type": "code",
   "execution_count": 306,
   "outputs": [
    {
     "data": {
      "text/plain": " 0    2823\n 1    2798\n-1    2757\nName: class_column, dtype: int64"
     },
     "execution_count": 234,
     "metadata": {},
     "output_type": "execute_result"
    },
    {
     "data": {
      "text/plain": " 0    2823\n 1    2798\n-1    2757\nName: class_column, dtype: int64"
     },
     "execution_count": 270,
     "metadata": {},
     "output_type": "execute_result"
    },
    {
     "data": {
      "text/plain": " 0    2823\n 1    2798\n-1    2757\nName: class_column, dtype: int64"
     },
     "execution_count": 306,
     "metadata": {},
     "output_type": "execute_result"
    }
   ],
   "source": [
    "data['class_column'].value_counts()\n"
   ],
   "metadata": {
    "collapsed": false,
    "pycharm": {
     "name": "#%%\n"
    }
   }
  },
  {
   "cell_type": "code",
   "execution_count": 307,
   "outputs": [],
   "source": [
    "y = data['class_column']\n",
    "features = [x for x in data.columns if x not in ['class_column']]\n",
    "x = data[features]\n",
    "# scaler = MinMaxScaler()\n",
    "# x = pd.DataFrame(scaler.fit_transform(x.values), columns=x.columns, index=x.index)\n",
    "ROWS_TO_PREDICT = 128\n",
    "if ROWS_TO_PREDICT == 33:\n",
    "    x_train,x_test,y_train,y_test = train_test_split(x, y, test_size=0.3, shuffle=False)\n",
    "else:\n",
    "    x_train= x.iloc[:-ROWS_TO_PREDICT]\n",
    "    y_train= y.iloc[:-ROWS_TO_PREDICT]\n",
    "    x_test =x.iloc[-ROWS_TO_PREDICT:]\n",
    "    y_test=y.iloc[-ROWS_TO_PREDICT:]"
   ],
   "metadata": {
    "collapsed": false,
    "pycharm": {
     "name": "#%%\n"
    }
   }
  },
  {
   "cell_type": "code",
   "execution_count": 308,
   "outputs": [],
   "source": [
    "classifiers = dict()\n",
    "# classifiers['DecisionTreeClassifier 1'] = DecisionTreeClassifier(max_depth=15, random_state=0, criterion='gini',\n",
    "#                                                                  splitter='best')\n",
    "# classifiers['DecisionTreeClassifier 2'] = DecisionTreeClassifier(max_depth=40, random_state=0, criterion='gini',\n",
    "#                                                                  splitter='best')\n",
    "# classifiers['DecisionTreeClassifier 3'] = DecisionTreeClassifier(max_depth=40, random_state=0, criterion='gini',\n",
    "#                                                                  splitter='random')\n",
    "# classifiers['DecisionTreeClassifier 4'] = DecisionTreeClassifier(max_depth=15, random_state=0, criterion='entropy',\n",
    "#                                                                  splitter='best')\n",
    "# classifiers['DecisionTreeClassifier 5'] = DecisionTreeClassifier(max_depth=40, random_state=0, criterion='entropy',\n",
    "#                                                                  splitter='best')\n",
    "#\n",
    "# classifiers['DecisionTreeClassifier 6'] = DecisionTreeClassifier(max_depth=10, random_state=0,criterion='gini',splitter='best')\n",
    "# classifiers['DecisionTreeClassifier 7'] = DecisionTreeClassifier(max_depth=10, random_state=0,criterion='gini',splitter='random')\n",
    "# classifiers['DecisionTreeClassifier 8'] = DecisionTreeClassifier(max_depth=10, random_state=0,criterion='entropy',splitter='best')\n",
    "\n",
    "#\n",
    "# classifiers['RandomForestClassifier 1'] = RandomForestClassifier(n_estimators=100, max_depth=3, random_state=0,\n",
    "#                                                                  criterion='gini', n_jobs=-1)\n",
    "# classifiers['RandomForestClassifier 2'] = RandomForestClassifier(n_estimators=1000, max_depth=3, random_state=0,\n",
    "#                                                                  criterion='gini', n_jobs=-1)\n",
    "# classifiers['RandomForestClassifier 3'] = RandomForestClassifier(n_estimators=10000, max_depth=3, random_state=0,\n",
    "#                                                                  criterion='gini', n_jobs=-1)\n",
    "# classifiers['RandomForestClassifier 4'] = RandomForestClassifier(n_estimators=1000, max_depth=3, random_state=0,\n",
    "#                                                                  criterion='entropy', n_jobs=-1)\n",
    "# classifiers['RandomForestClassifier 5'] = RandomForestClassifier(n_estimators=10000, max_depth=3, random_state=0,\n",
    "#                                                                  criterion='entropy', n_jobs=-1)\n",
    "# classifiers['RandomForestClassifier 6'] = RandomForestClassifier(n_estimators=100, max_depth=15, random_state=0,\n",
    "#                                                                  criterion='entropy', n_jobs=-1)\n",
    "\n",
    "#\n",
    "classifiers['GradientBoostingClassifier 1'] = GradientBoostingClassifier(n_estimators=100, random_state=0,\n",
    "                                                                         criterion='friedman_mse', max_depth=3,\n",
    "                                                                         learning_rate=0.1)\n",
    "classifiers['GradientBoostingClassifier 2'] = GradientBoostingClassifier(n_estimators=100, random_state=0,\n",
    "                                                                         criterion='friedman_mse', max_depth=10,\n",
    "                                                                         learning_rate=0.3,\n",
    "                                                                         loss='deviance')\n",
    "classifiers['GradientBoostingClassifier 3'] = GradientBoostingClassifier(n_estimators=1000, random_state=0,\n",
    "                                                                         criterion='friedman_mse', max_depth=3,\n",
    "                                                                         learning_rate=0.5)\n",
    "\n",
    "\n",
    "# classifiers['XGBRFClassifier 1'] = xgb.sklearn.XGBRFClassifier(n_jobs=-1, max_depth=2, n_estimators=1000, eta=0.2)\n",
    "# classifiers['XGBRFClassifier 2'] = xgb.sklearn.XGBRFClassifier(n_jobs=-1, max_depth=3, n_estimators=1000, eta=0.2)\n",
    "# classifiers['XGBRFClassifier 3'] = xgb.sklearn.XGBRFClassifier(n_jobs=-1, max_depth=15, n_estimators=1000, eta=0.3)\n",
    "# classifiers['XGBRFClassifier 4'] = xgb.sklearn.XGBRFClassifier(n_jobs=-1, max_depth=3, n_estimators=1000, eta=0.2)\n",
    "# classifiers['XGBRFClassifier 5'] = xgb.sklearn.XGBRFClassifier(n_jobs=-1, max_depth=6, n_estimators=1000, eta=0.3)\n",
    "# classifiers['XGBRFClassifier 6'] = xgb.sklearn.XGBRFClassifier(n_jobs=-1, max_depth=3, n_estimators=1000, eta=0.6)\n",
    "\n",
    "# classifiers['XGBClassifier 1'] = xgb.XGBClassifier(nthread=-1, max_depth=3, n_estimators=1000, eta=0.2)\n",
    "# classifiers['XGBClassifier 2'] = xgb.XGBClassifier(nthread=-1, max_depth=10, n_estimators=1000, eta=0.3)\n",
    "# classifiers['XGBClassifier 3'] = xgb.XGBClassifier(nthread=-1, max_depth=25, n_estimators=1000, eta=0.2)\n",
    "# classifiers['XGBClassifier 4'] = xgb.XGBClassifier(nthread=-1, max_depth=10, n_estimators=1000, eta=0.5)\n",
    "# classifiers['XGBClassifier 5'] = xgb.XGBClassifier(nthread=-1, max_depth=6, n_estimators=1000, eta=0.3)\n",
    "# classifiers['XGBClassifier 6'] = xgb.XGBClassifier(nthread=-1, max_depth=3, n_estimators=1000, eta=0.3)\n",
    "\n",
    "classifiers_boosted = dict()\n",
    "# classifiers_boosted['GradientBoostingClassifier 1S'] = GradientBoostingClassifier(n_estimators=100, random_state=0,\n",
    "#                                                                                   criterion='friedman_mse', max_depth=3,\n",
    "#                                                                                   learning_rate=0.1)\n",
    "# classifiers_boosted['GradientBoostingClassifier 2S'] = GradientBoostingClassifier(n_estimators=1000, random_state=0,\n",
    "#                                                                                   criterion='friedman_mse', max_depth=3,\n",
    "#                                                                                   learning_rate=0.3)\n",
    "# classifiers_boosted['GradientBoostingClassifier 3S'] = GradientBoostingClassifier(n_estimators=1000, random_state=0,\n",
    "#                                                                                   criterion='friedman_mse', max_depth=2,\n",
    "#                                                                                   learning_rate=0.5)\n",
    "# classifiers_boosted['XGBClassifier 1'] = xgb.XGBClassifier(nthread=-1, max_depth=3, n_estimators=1000, eta=0.2)\n",
    "# classifiers_boosted['XGBClassifier 2'] = xgb.XGBClassifier(nthread=-1, max_depth=10, n_estimators=1000, eta=0.3)\n",
    "# classifiers_boosted['XGBClassifier 3'] = xgb.XGBClassifier(nthread=-1, max_depth=25, n_estimators=1000, eta=0.2)"
   ],
   "metadata": {
    "collapsed": false,
    "pycharm": {
     "name": "#%%\n"
    }
   }
  },
  {
   "cell_type": "code",
   "execution_count": 309,
   "outputs": [],
   "source": [
    "def print_conf_matrix(test_y, predict, name):\n",
    "    matrix = confusion_matrix(test_y, predict,  labels=[-1, 0, 1])\n",
    "    print(matrix)\n",
    "    ax= plt.subplot()\n",
    "    sn.heatmap(matrix, annot=True, ax = ax) #annot=True to annotate cells\n",
    "\n",
    "    # labels, title and ticks\n",
    "    ax.set_xlabel('Predicted labels', color='white')\n",
    "    ax.set_ylabel('True labels', color='white')\n",
    "    ax.set_title(f'Confusion Matrix for {name}' , color='white')\n",
    "    ax.xaxis.set_ticklabels(['-1','0', '1'], color='white')\n",
    "    ax.yaxis.set_ticklabels(['-1','0', '1'], color='white')\n",
    "    plt.show()\n",
    "\n",
    "def train_model(model,train_x, train_y):\n",
    "    model.fit(train_x, train_y)"
   ],
   "metadata": {
    "collapsed": false,
    "pycharm": {
     "name": "#%%\n"
    }
   }
  },
  {
   "cell_type": "code",
   "execution_count": 274,
   "outputs": [
    {
     "name": "stdout",
     "output_type": "stream",
     "text": [
      "Calculate:  GradientBoostingClassifier 1\n",
      "Score_train:  0.7372100954979536\n",
      "Score:  0.37828162291169454\n",
      "Calculate:  GradientBoostingClassifier 2\n",
      "Score_train:  1.0\n",
      "Score:  0.35759745425616546\n",
      "Calculate:  GradientBoostingClassifier 3\n",
      "Score_train:  1.0\n",
      "Score:  0.3536197295147176\n",
      "Calculate:  GradientBoostingClassifier 1\n",
      "Score_train:  0.6983401491460187\n",
      "Score:  0.453125\n",
      "Calculate:  GradientBoostingClassifier 2\n",
      "Score_train:  1.0\n",
      "Score:  0.28125\n",
      "Calculate:  GradientBoostingClassifier 3\n",
      "Score_train:  1.0\n",
      "Score:  0.125\n",
      "Calculate:  GradientBoostingClassifier 1\n",
      "Score_train:  0.6981818181818182\n",
      "Score:  0.4609375\n",
      "Calculate:  GradientBoostingClassifier 2\n",
      "Score_train:  1.0\n",
      "Score:  0.4140625\n",
      "Calculate:  GradientBoostingClassifier 3\n"
     ]
    }
   ],
   "source": [
    "predictions_train= dict()\n",
    "score_train = dict()\n",
    "predictions= dict()\n",
    "score = dict()\n",
    "for k,v in classifiers.items():\n",
    "    print(\"Calculate: \", k)\n",
    "    train_model(v,x_train,y_train)\n",
    "    predictions_train[k] = v.predict(x_train)\n",
    "    score_train[k] = accuracy_score(y_train.values, predictions_train[k])\n",
    "    predictions[k] = v.predict(x_test)\n",
    "    score[k] = accuracy_score(y_test.values, predictions[k])\n",
    "    print('Score_train: ',  score_train[k] )\n",
    "    print('Score: ',  score[k] )\n",
    "    # print_conf_matrix(test_y, predictions[k], k)"
   ],
   "metadata": {
    "collapsed": false,
    "pycharm": {
     "name": "#%%\n"
    }
   }
  },
  {
   "cell_type": "code",
   "execution_count": 275,
   "outputs": [
    {
     "name": "stdout",
     "output_type": "stream",
     "text": [
      "+----+------------------------------+------------+\n",
      "|    | Classifier type              |   Accuracy |\n",
      "|----+------------------------------+------------|\n",
      "|  0 | GradientBoostingClassifier 1 |   0.378282 |\n",
      "|  1 | GradientBoostingClassifier 2 |   0.357597 |\n",
      "|  2 | GradientBoostingClassifier 3 |   0.35362  |\n",
      "+----+------------------------------+------------+\n",
      "+----+------------------------------+------------+\n",
      "|    | Classifier type              |   Accuracy |\n",
      "|----+------------------------------+------------|\n",
      "|  0 | GradientBoostingClassifier 1 |    0.73721 |\n",
      "|  1 | GradientBoostingClassifier 2 |    1       |\n",
      "|  2 | GradientBoostingClassifier 3 |    1       |\n",
      "+----+------------------------------+------------+\n",
      "+----+------------------------------+------------+\n",
      "|    | Classifier type              |   Accuracy |\n",
      "|----+------------------------------+------------|\n",
      "|  0 | GradientBoostingClassifier 1 |   0.453125 |\n",
      "|  1 | GradientBoostingClassifier 2 |   0.28125  |\n",
      "|  2 | GradientBoostingClassifier 3 |   0.125    |\n",
      "+----+------------------------------+------------+\n",
      "+----+------------------------------+------------+\n",
      "|    | Classifier type              |   Accuracy |\n",
      "|----+------------------------------+------------|\n",
      "|  0 | GradientBoostingClassifier 1 |    0.69834 |\n",
      "|  1 | GradientBoostingClassifier 2 |    1       |\n",
      "|  2 | GradientBoostingClassifier 3 |    1       |\n",
      "+----+------------------------------+------------+\n"
     ]
    }
   ],
   "source": [
    "filename_to_export = f'C:\\\\Users\\\\exomat\\\\Desktop\\\\repo\\\\magisterka_analiza\\\\data\\\\results\\\\train_test\\\\result_test_xrand_{symbol}_{WINDOW}_{ROWS_TO_PREDICT}_{datetime.now().strftime(\"%d_%m_%Y %H_%M_%S\")}.csv'\n",
    "filename_to_export_train= f'C:\\\\Users\\\\exomat\\\\Desktop\\\\repo\\\\magisterka_analiza\\\\data\\\\results\\\\train_test\\\\result_train_xrand_{symbol}_{WINDOW}_{ROWS_TO_PREDICT}_{datetime.now().strftime(\"%d_%m_%Y %H_%M_%S\")}.csv'\n",
    "\n",
    "headers = [\"Classifier type\", \"Accuracy\"]\n",
    "score_df = pd.DataFrame(score.items(), columns=headers)\n",
    "print(tabulate(score_df, headers, tablefmt=\"psql\"))\n",
    "score_df.to_csv(filename_to_export,mode='a', index=False, header=False)\n",
    "score_df_train = pd.DataFrame(score_train.items(), columns=headers)\n",
    "print(tabulate(score_df_train, headers, tablefmt=\"psql\"))\n",
    "score_df_train.to_csv(filename_to_export_train,mode='a', index=False, header=False)"
   ],
   "metadata": {
    "collapsed": false,
    "pycharm": {
     "name": "#%%\n"
    }
   }
  },
  {
   "cell_type": "code",
   "execution_count": 276,
   "outputs": [],
   "source": [
    "# rfe = RFE(classifiers['RandomForestClassifier 5'],10)\n",
    "# fited = rfe.fit(x_train, y_train)\n",
    "# rfe"
   ],
   "metadata": {
    "collapsed": false,
    "pycharm": {
     "name": "#%%\n"
    }
   }
  },
  {
   "cell_type": "code",
   "execution_count": 277,
   "outputs": [],
   "source": [
    "# names = x.columns\n",
    "# columns=[]\n",
    "# for i in range(len(fited.support_)):\n",
    "#     if fited.support_[i]:\n",
    "#         columns.append(names[i])\n",
    "#\n",
    "# print(\"Columns with predictive power:\", columns )\n",
    "# columns = columns + ['high', 'low', 'volume', 'open']\n",
    "# columns"
   ],
   "metadata": {
    "collapsed": false,
    "pycharm": {
     "name": "#%%\n"
    }
   }
  },
  {
   "cell_type": "code",
   "execution_count": 278,
   "outputs": [],
   "source": [
    "# x_test_cropped = x_test[columns]\n",
    "# x_train_cropped = x_train[columns]\n",
    "# x_train_cropped\n",
    "#"
   ],
   "metadata": {
    "collapsed": false,
    "pycharm": {
     "name": "#%%\n"
    }
   }
  },
  {
   "cell_type": "code",
   "execution_count": 279,
   "outputs": [],
   "source": [
    "# for k,v in classifiers_boosted.items():\n",
    "#     print(\"Calculate: \", k)\n",
    "#     train_model(v,x_train_cropped,y_train)\n",
    "#     predictions_train[k] = v.predict(x_train_cropped)\n",
    "#     score_train[k] = accuracy_score(y_train.values, predictions_train[k])\n",
    "#     predictions[k] = v.predict(x_test_cropped)\n",
    "#     score[k] = accuracy_score(y_test.values, predictions[k])\n",
    "#     print('Score train: ',  score_train[k] )\n",
    "#     print('Score: ',  score[k] )\n",
    "#     # print_conf_matrix(test_y, predictions[k], k)\n"
   ],
   "metadata": {
    "collapsed": false,
    "pycharm": {
     "name": "#%%\n"
    }
   }
  },
  {
   "cell_type": "code",
   "execution_count": 280,
   "outputs": [],
   "source": [
    "#\n",
    "# model = xgb.XGBClassifier(nthread =-1,max_depth=14,n_estimators=1000,\n",
    "#                           eta =0.2)\n",
    "# model.fit(x_train,y_train)\n",
    "# predicted_train = model.predict(x_train)\n",
    "# predicted_test = model.predict(x_test)\n",
    "# print(\"------------\")\n",
    "# print(f'max_depth: {14}')\n",
    "# score_train['XGBClassifier'] = accuracy_score(y_train.values, predicted_train)\n",
    "# score['XGBClassifier'] = accuracy_score(y_test.values, predicted_test)\n",
    "# print(score_train['XGBClassifier'])\n",
    "# print(score['XGBClassifier'])\n",
    "# print(\"------------\")\n",
    "#"
   ],
   "metadata": {
    "collapsed": false,
    "pycharm": {
     "name": "#%%\n"
    }
   }
  },
  {
   "cell_type": "code",
   "execution_count": 281,
   "outputs": [],
   "source": [
    "# model = xgb.sklearn.XGBRFClassifier(n_jobs=-1,max_depth=12,n_estimators =100,eta=0.4)\n",
    "# model.fit(x_train,y_train)\n",
    "# predicted_train = model.predict(x_train)\n",
    "# predicted_test = model.predict(x_test)\n",
    "# print(\"------------\")\n",
    "# print(f'eta: ')\n",
    "# score_train['XGBRFClassifier'] = accuracy_score(y_train.values, predicted_train)\n",
    "# score['XGBRFClassifier'] = accuracy_score(y_test.values, predicted_test)\n",
    "# print(accuracy_score(y_train.values, predicted_train))\n",
    "# print(accuracy_score(y_test.values, predicted_test))\n",
    "# print(\"------------\")"
   ],
   "metadata": {
    "collapsed": false,
    "pycharm": {
     "name": "#%%\n"
    }
   }
  },
  {
   "cell_type": "code",
   "execution_count": 281,
   "outputs": [],
   "source": [],
   "metadata": {
    "collapsed": false,
    "pycharm": {
     "name": "#%%\n"
    }
   }
  },
  {
   "cell_type": "code",
   "execution_count": 281,
   "outputs": [],
   "source": [
    "\n"
   ],
   "metadata": {
    "collapsed": false,
    "pycharm": {
     "name": "#%%\n"
    }
   }
  }
 ],
 "metadata": {
  "kernelspec": {
   "display_name": "Python 3",
   "language": "python",
   "name": "python3"
  },
  "language_info": {
   "codemirror_mode": {
    "name": "ipython",
    "version": 2
   },
   "file_extension": ".py",
   "mimetype": "text/x-python",
   "name": "python",
   "nbconvert_exporter": "python",
   "pygments_lexer": "ipython2",
   "version": "2.7.6"
  }
 },
 "nbformat": 4,
 "nbformat_minor": 0
}