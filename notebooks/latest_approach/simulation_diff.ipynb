{
 "cells": [
  {
   "cell_type": "code",
   "execution_count": 38,
   "outputs": [],
   "source": [],
   "metadata": {
    "collapsed": false,
    "pycharm": {
     "name": "#%%\n"
    }
   }
  },
  {
   "cell_type": "code",
   "execution_count": 39,
   "outputs": [],
   "source": [
    "from collections import defaultdict\n",
    "\n",
    "import yfinance as yf\n",
    "from datetime import datetime\n",
    "import pandas as pd\n",
    "import numpy as np\n",
    "import matplotlib.pyplot as plt\n",
    "from finta import TA\n",
    "import numpy as np\n",
    "from sklearn.ensemble import RandomForestClassifier, VotingClassifier\n",
    "from sklearn.model_selection import GridSearchCV, train_test_split\n",
    "from sklearn.preprocessing import MinMaxScaler\n",
    "from sklearn.tree import DecisionTreeClassifier\n",
    "from sklearn.ensemble import GradientBoostingClassifier\n",
    "from sklearn.metrics import confusion_matrix, classification_report, accuracy_score\n",
    "from sklearn.metrics import jaccard_score\n",
    "import seaborn as sn\n",
    "from tabulate import tabulate\n",
    "from xgboost import XGBClassifier\n",
    "from ta import add_all_ta_features\n",
    "from sklearn.feature_selection import RFE\n",
    "import xgboost as xgb"
   ],
   "metadata": {
    "collapsed": false,
    "pycharm": {
     "name": "#%%\n"
    }
   }
  },
  {
   "cell_type": "code",
   "execution_count": 40,
   "outputs": [],
   "source": [
    "WINDOW = 16  # number of rows to look ahead to see what the price did\n",
    "FETCH_INTERVAL = \"60m\"  # fetch data by interval (including intraday if period < 60 days)\n",
    "# valid intervals: 1m,2m,5m,15m,30m,60m,90m,1h,1d,5d,1wk,1mo,3mo\n",
    "# (optional, default is '1d')\n",
    "INTERVAL = '2y'  # use \"period\" instead of start/end\n",
    "# valid periods: 1d,5d,1mo,3mo,6mo,1y,2y,5y,10y,ytd,max\n",
    "# (optional, default is '1mo')\n",
    "symbol = 'AAPL'  # Symbol of the desired stock\n",
    "\n",
    "# one day 16 rows of data\n"
   ],
   "metadata": {
    "collapsed": false,
    "pycharm": {
     "name": "#%%\n"
    }
   }
  },
  {
   "cell_type": "code",
   "execution_count": 41,
   "outputs": [
    {
     "name": "stdout",
     "output_type": "stream",
     "text": [
      "[*********************100%***********************]  1 of 1 completed\n"
     ]
    },
    {
     "data": {
      "text/plain": "                                 Open        High         Low       Close  \\\nDatetime                                                                    \n2019-08-26 04:00:00-04:00   51.025000   51.470000   51.025000   51.400000   \n2019-08-26 05:00:00-04:00   51.357500   51.710000   51.357500   51.427500   \n2019-08-26 06:00:00-04:00   51.412500   51.712500   51.040000   51.500000   \n2019-08-26 07:00:00-04:00   51.495000   51.657500   51.290000   51.600000   \n2019-08-26 08:00:00-04:00   51.620000   51.700000   51.303050   51.437500   \n...                               ...         ...         ...         ...   \n2021-08-25 09:30:00-04:00  149.699997  150.320007  148.535004  148.625397   \n2021-08-25 10:30:00-04:00  148.620193  148.735001  148.119995  148.505005   \n2021-08-25 11:30:00-04:00  148.500000  148.548004  148.059998  148.239700   \n2021-08-25 12:30:00-04:00  148.237000  148.440002  148.169998  148.264999   \n2021-08-25 13:03:49-04:00  148.300003  148.300003  148.300003  148.300003   \n\n                            Adj Close    Volume  \nDatetime                                         \n2019-08-26 04:00:00-04:00   51.400000         0  \n2019-08-26 05:00:00-04:00   51.427500         0  \n2019-08-26 06:00:00-04:00   51.500000         0  \n2019-08-26 07:00:00-04:00   51.600000         0  \n2019-08-26 08:00:00-04:00   51.437500         0  \n...                               ...       ...  \n2021-08-25 09:30:00-04:00  148.625397  15348852  \n2021-08-25 10:30:00-04:00  148.505005   9910979  \n2021-08-25 11:30:00-04:00  148.239700   5739516  \n2021-08-25 12:30:00-04:00  148.264999   2533769  \n2021-08-25 13:03:49-04:00  148.300003         0  \n\n[8373 rows x 6 columns]",
      "text/html": "<div>\n<style scoped>\n    .dataframe tbody tr th:only-of-type {\n        vertical-align: middle;\n    }\n\n    .dataframe tbody tr th {\n        vertical-align: top;\n    }\n\n    .dataframe thead th {\n        text-align: right;\n    }\n</style>\n<table border=\"1\" class=\"dataframe\">\n  <thead>\n    <tr style=\"text-align: right;\">\n      <th></th>\n      <th>Open</th>\n      <th>High</th>\n      <th>Low</th>\n      <th>Close</th>\n      <th>Adj Close</th>\n      <th>Volume</th>\n    </tr>\n    <tr>\n      <th>Datetime</th>\n      <th></th>\n      <th></th>\n      <th></th>\n      <th></th>\n      <th></th>\n      <th></th>\n    </tr>\n  </thead>\n  <tbody>\n    <tr>\n      <th>2019-08-26 04:00:00-04:00</th>\n      <td>51.025000</td>\n      <td>51.470000</td>\n      <td>51.025000</td>\n      <td>51.400000</td>\n      <td>51.400000</td>\n      <td>0</td>\n    </tr>\n    <tr>\n      <th>2019-08-26 05:00:00-04:00</th>\n      <td>51.357500</td>\n      <td>51.710000</td>\n      <td>51.357500</td>\n      <td>51.427500</td>\n      <td>51.427500</td>\n      <td>0</td>\n    </tr>\n    <tr>\n      <th>2019-08-26 06:00:00-04:00</th>\n      <td>51.412500</td>\n      <td>51.712500</td>\n      <td>51.040000</td>\n      <td>51.500000</td>\n      <td>51.500000</td>\n      <td>0</td>\n    </tr>\n    <tr>\n      <th>2019-08-26 07:00:00-04:00</th>\n      <td>51.495000</td>\n      <td>51.657500</td>\n      <td>51.290000</td>\n      <td>51.600000</td>\n      <td>51.600000</td>\n      <td>0</td>\n    </tr>\n    <tr>\n      <th>2019-08-26 08:00:00-04:00</th>\n      <td>51.620000</td>\n      <td>51.700000</td>\n      <td>51.303050</td>\n      <td>51.437500</td>\n      <td>51.437500</td>\n      <td>0</td>\n    </tr>\n    <tr>\n      <th>...</th>\n      <td>...</td>\n      <td>...</td>\n      <td>...</td>\n      <td>...</td>\n      <td>...</td>\n      <td>...</td>\n    </tr>\n    <tr>\n      <th>2021-08-25 09:30:00-04:00</th>\n      <td>149.699997</td>\n      <td>150.320007</td>\n      <td>148.535004</td>\n      <td>148.625397</td>\n      <td>148.625397</td>\n      <td>15348852</td>\n    </tr>\n    <tr>\n      <th>2021-08-25 10:30:00-04:00</th>\n      <td>148.620193</td>\n      <td>148.735001</td>\n      <td>148.119995</td>\n      <td>148.505005</td>\n      <td>148.505005</td>\n      <td>9910979</td>\n    </tr>\n    <tr>\n      <th>2021-08-25 11:30:00-04:00</th>\n      <td>148.500000</td>\n      <td>148.548004</td>\n      <td>148.059998</td>\n      <td>148.239700</td>\n      <td>148.239700</td>\n      <td>5739516</td>\n    </tr>\n    <tr>\n      <th>2021-08-25 12:30:00-04:00</th>\n      <td>148.237000</td>\n      <td>148.440002</td>\n      <td>148.169998</td>\n      <td>148.264999</td>\n      <td>148.264999</td>\n      <td>2533769</td>\n    </tr>\n    <tr>\n      <th>2021-08-25 13:03:49-04:00</th>\n      <td>148.300003</td>\n      <td>148.300003</td>\n      <td>148.300003</td>\n      <td>148.300003</td>\n      <td>148.300003</td>\n      <td>0</td>\n    </tr>\n  </tbody>\n</table>\n<p>8373 rows × 6 columns</p>\n</div>"
     },
     "execution_count": 41,
     "metadata": {},
     "output_type": "execute_result"
    }
   ],
   "source": [
    "data = yf.download(  # or pdr.get_data_yahoo(...\n",
    "    tickers=symbol,\n",
    "\n",
    "    period=INTERVAL,\n",
    "\n",
    "    interval=FETCH_INTERVAL,\n",
    "\n",
    "    # group by ticker (to access via data['SPY'])\n",
    "    # (optional, default is 'column')\n",
    "    group_by='ticker',\n",
    "\n",
    "    # adjust all OHLC automatically\n",
    "    # (optional, default is False)\n",
    "    # auto_adjust = True,\n",
    "\n",
    "    # download pre/post regular market hours data\n",
    "    # (optional, default is False)\n",
    "    prepost=True,\n",
    "\n",
    "    # use threads for mass downloading? (True/False/Integer)\n",
    "    # (optional, default is True)\n",
    "    threads=False,\n",
    "\n",
    "    # proxy URL scheme use use when downloading?\n",
    "    # (optional, default is None)\n",
    "    proxy=None\n",
    ")\n",
    "data"
   ],
   "metadata": {
    "collapsed": false,
    "pycharm": {
     "name": "#%%\n"
    }
   }
  },
  {
   "cell_type": "code",
   "execution_count": 42,
   "outputs": [],
   "source": [
    "data.rename(columns={\"Close\": 'close', \"High\": 'high', \"Low\": 'low', 'Volume': 'volume', 'Open': 'open'}, inplace=True)\n",
    "data.head(10)\n",
    "important_columns = ['open', 'high', 'low', 'close', 'volume']"
   ],
   "metadata": {
    "collapsed": false,
    "pycharm": {
     "name": "#%%\n"
    }
   }
  },
  {
   "cell_type": "code",
   "execution_count": 43,
   "outputs": [],
   "source": [
    "\n",
    "def calculate_diffs(diff_number, col_name):\n",
    "    new_col_name = f'{col_name}_{diff_number}'\n",
    "    data[new_col_name] = data[col_name].diff(diff_number)"
   ],
   "metadata": {
    "collapsed": false,
    "pycharm": {
     "name": "#%%\n"
    }
   }
  },
  {
   "cell_type": "code",
   "execution_count": 44,
   "outputs": [],
   "source": [
    "# for name in important_columns:\n",
    "#     for i in range(1, 11):\n",
    "#         calculate_diffs(i, name)\n",
    "#\n",
    "# data.head(10)"
   ],
   "metadata": {
    "collapsed": false,
    "pycharm": {
     "name": "#%%\n"
    }
   }
  },
  {
   "cell_type": "code",
   "execution_count": 45,
   "outputs": [],
   "source": [
    "data = data.dropna()"
   ],
   "metadata": {
    "collapsed": false,
    "pycharm": {
     "name": "#%%\n"
    }
   }
  },
  {
   "cell_type": "code",
   "execution_count": 46,
   "outputs": [
    {
     "data": {
      "text/plain": "<AxesSubplot:xlabel='Datetime'>"
     },
     "execution_count": 46,
     "metadata": {},
     "output_type": "execute_result"
    },
    {
     "data": {
      "text/plain": "<Figure size 432x288 with 1 Axes>",
      "image/png": "[encoded data removed]"
     },
     "metadata": {
      "needs_background": "light"
     },
     "output_type": "display_data"
    }
   ],
   "source": [
    "data['close'].plot()"
   ],
   "metadata": {
    "collapsed": false,
    "pycharm": {
     "name": "#%%\n"
    }
   }
  },
  {
   "cell_type": "code",
   "execution_count": 47,
   "outputs": [
    {
     "data": {
      "text/plain": "                              open     high       low    close  Adj Close  \\\nDatetime                                                                    \n2019-08-26 04:00:00-04:00  51.0250  51.4700  51.02500  51.4000    51.4000   \n2019-08-26 05:00:00-04:00  51.3575  51.7100  51.35750  51.4275    51.4275   \n2019-08-26 06:00:00-04:00  51.4125  51.7125  51.04000  51.5000    51.5000   \n2019-08-26 07:00:00-04:00  51.4950  51.6575  51.29000  51.6000    51.6000   \n2019-08-26 08:00:00-04:00  51.6200  51.7000  51.30305  51.4375    51.4375   \n\n                           volume  close_pct  \nDatetime                                      \n2019-08-26 04:00:00-04:00       0        NaN  \n2019-08-26 05:00:00-04:00       0   0.000535  \n2019-08-26 06:00:00-04:00       0   0.001410  \n2019-08-26 07:00:00-04:00       0   0.001942  \n2019-08-26 08:00:00-04:00       0  -0.003149  ",
      "text/html": "<div>\n<style scoped>\n    .dataframe tbody tr th:only-of-type {\n        vertical-align: middle;\n    }\n\n    .dataframe tbody tr th {\n        vertical-align: top;\n    }\n\n    .dataframe thead th {\n        text-align: right;\n    }\n</style>\n<table border=\"1\" class=\"dataframe\">\n  <thead>\n    <tr style=\"text-align: right;\">\n      <th></th>\n      <th>open</th>\n      <th>high</th>\n      <th>low</th>\n      <th>close</th>\n      <th>Adj Close</th>\n      <th>volume</th>\n      <th>close_pct</th>\n    </tr>\n    <tr>\n      <th>Datetime</th>\n      <th></th>\n      <th></th>\n      <th></th>\n      <th></th>\n      <th></th>\n      <th></th>\n      <th></th>\n    </tr>\n  </thead>\n  <tbody>\n    <tr>\n      <th>2019-08-26 04:00:00-04:00</th>\n      <td>51.0250</td>\n      <td>51.4700</td>\n      <td>51.02500</td>\n      <td>51.4000</td>\n      <td>51.4000</td>\n      <td>0</td>\n      <td>NaN</td>\n    </tr>\n    <tr>\n      <th>2019-08-26 05:00:00-04:00</th>\n      <td>51.3575</td>\n      <td>51.7100</td>\n      <td>51.35750</td>\n      <td>51.4275</td>\n      <td>51.4275</td>\n      <td>0</td>\n      <td>0.000535</td>\n    </tr>\n    <tr>\n      <th>2019-08-26 06:00:00-04:00</th>\n      <td>51.4125</td>\n      <td>51.7125</td>\n      <td>51.04000</td>\n      <td>51.5000</td>\n      <td>51.5000</td>\n      <td>0</td>\n      <td>0.001410</td>\n    </tr>\n    <tr>\n      <th>2019-08-26 07:00:00-04:00</th>\n      <td>51.4950</td>\n      <td>51.6575</td>\n      <td>51.29000</td>\n      <td>51.6000</td>\n      <td>51.6000</td>\n      <td>0</td>\n      <td>0.001942</td>\n    </tr>\n    <tr>\n      <th>2019-08-26 08:00:00-04:00</th>\n      <td>51.6200</td>\n      <td>51.7000</td>\n      <td>51.30305</td>\n      <td>51.4375</td>\n      <td>51.4375</td>\n      <td>0</td>\n      <td>-0.003149</td>\n    </tr>\n  </tbody>\n</table>\n</div>"
     },
     "execution_count": 47,
     "metadata": {},
     "output_type": "execute_result"
    }
   ],
   "source": [
    "data['close_pct'] = data['close'].pct_change()\n",
    "data.head()"
   ],
   "metadata": {
    "collapsed": false,
    "pycharm": {
     "name": "#%%\n"
    }
   }
  },
  {
   "cell_type": "code",
   "execution_count": 48,
   "outputs": [
    {
     "data": {
      "text/plain": "              open         high          low        close    Adj Close  \\\ncount  8373.000000  8373.000000  8373.000000  8373.000000  8373.000000   \nmean    101.617589   102.035643   101.110565   101.622214   101.622214   \nstd      29.966202    30.326098    29.801068    29.962638    29.962638   \nmin      50.792500    51.025024    50.727500    50.777500    50.777500   \n25%      72.117500    72.445000    71.755000    72.125000    72.125000   \n50%     112.379898   112.815000   111.572502   112.350000   112.350000   \n75%     127.110001   127.470000   126.629997   127.120003   127.120003   \nmax     151.410000   438.440000   151.290000   151.670000   151.670000   \n\n             volume    close_pct  \ncount  8.373000e+03  8372.000000  \nmean   3.816484e+06     0.000143  \nstd    6.940174e+06     0.005817  \nmin    0.000000e+00    -0.085960  \n25%    0.000000e+00    -0.001631  \n50%    0.000000e+00     0.000097  \n75%    5.513431e+06     0.001970  \nmax    9.845401e+07     0.078661  ",
      "text/html": "<div>\n<style scoped>\n    .dataframe tbody tr th:only-of-type {\n        vertical-align: middle;\n    }\n\n    .dataframe tbody tr th {\n        vertical-align: top;\n    }\n\n    .dataframe thead th {\n        text-align: right;\n    }\n</style>\n<table border=\"1\" class=\"dataframe\">\n  <thead>\n    <tr style=\"text-align: right;\">\n      <th></th>\n      <th>open</th>\n      <th>high</th>\n      <th>low</th>\n      <th>close</th>\n      <th>Adj Close</th>\n      <th>volume</th>\n      <th>close_pct</th>\n    </tr>\n  </thead>\n  <tbody>\n    <tr>\n      <th>count</th>\n      <td>8373.000000</td>\n      <td>8373.000000</td>\n      <td>8373.000000</td>\n      <td>8373.000000</td>\n      <td>8373.000000</td>\n      <td>8.373000e+03</td>\n      <td>8372.000000</td>\n    </tr>\n    <tr>\n      <th>mean</th>\n      <td>101.617589</td>\n      <td>102.035643</td>\n      <td>101.110565</td>\n      <td>101.622214</td>\n      <td>101.622214</td>\n      <td>3.816484e+06</td>\n      <td>0.000143</td>\n    </tr>\n    <tr>\n      <th>std</th>\n      <td>29.966202</td>\n      <td>30.326098</td>\n      <td>29.801068</td>\n      <td>29.962638</td>\n      <td>29.962638</td>\n      <td>6.940174e+06</td>\n      <td>0.005817</td>\n    </tr>\n    <tr>\n      <th>min</th>\n      <td>50.792500</td>\n      <td>51.025024</td>\n      <td>50.727500</td>\n      <td>50.777500</td>\n      <td>50.777500</td>\n      <td>0.000000e+00</td>\n      <td>-0.085960</td>\n    </tr>\n    <tr>\n      <th>25%</th>\n      <td>72.117500</td>\n      <td>72.445000</td>\n      <td>71.755000</td>\n      <td>72.125000</td>\n      <td>72.125000</td>\n      <td>0.000000e+00</td>\n      <td>-0.001631</td>\n    </tr>\n    <tr>\n      <th>50%</th>\n      <td>112.379898</td>\n      <td>112.815000</td>\n      <td>111.572502</td>\n      <td>112.350000</td>\n      <td>112.350000</td>\n      <td>0.000000e+00</td>\n      <td>0.000097</td>\n    </tr>\n    <tr>\n      <th>75%</th>\n      <td>127.110001</td>\n      <td>127.470000</td>\n      <td>126.629997</td>\n      <td>127.120003</td>\n      <td>127.120003</td>\n      <td>5.513431e+06</td>\n      <td>0.001970</td>\n    </tr>\n    <tr>\n      <th>max</th>\n      <td>151.410000</td>\n      <td>438.440000</td>\n      <td>151.290000</td>\n      <td>151.670000</td>\n      <td>151.670000</td>\n      <td>9.845401e+07</td>\n      <td>0.078661</td>\n    </tr>\n  </tbody>\n</table>\n</div>"
     },
     "execution_count": 48,
     "metadata": {},
     "output_type": "execute_result"
    }
   ],
   "source": [
    "data.describe()"
   ],
   "metadata": {
    "collapsed": false,
    "pycharm": {
     "name": "#%%\n"
    }
   }
  },
  {
   "cell_type": "code",
   "execution_count": 49,
   "outputs": [],
   "source": [
    "def _get_indicator_data(data):\n",
    "    \"\"\"\n",
    "    Function that uses the finta API to calculate technical indicators used as the features\n",
    "    :return:\n",
    "    \"\"\"\n",
    "\n",
    "    data = add_all_ta_features(\n",
    "        data, open=\"open\", high=\"high\", low=\"low\", close=\"close\", volume=\"volume\", fillna=True)\n",
    "\n",
    "    # Instead of using the actual volume value (which changes over time), we normalize it with a moving volume average\n",
    "    # data['normVol'] = data['volume'] / data['volume'].ewm(5).mean()\n",
    "    # for i in range(1,50):\n",
    "    #     data[f'close{i}'] = data['close'].shift(i)\n",
    "    # Remove columns that won't be used as features\n",
    "    # del (data['Adj Close'])\n",
    "\n",
    "    return data\n"
   ],
   "metadata": {
    "collapsed": false,
    "pycharm": {
     "name": "#%%\n"
    }
   }
  },
  {
   "cell_type": "code",
   "execution_count": 50,
   "outputs": [
    {
     "data": {
      "text/plain": "                                 open        high         low       close  \\\nDatetime                                                                    \n2019-08-26 04:00:00-04:00   51.025000   51.470000   51.025000   51.400000   \n2019-08-26 05:00:00-04:00   51.357500   51.710000   51.357500   51.427500   \n2019-08-26 06:00:00-04:00   51.412500   51.712500   51.040000   51.500000   \n2019-08-26 07:00:00-04:00   51.495000   51.657500   51.290000   51.600000   \n2019-08-26 08:00:00-04:00   51.620000   51.700000   51.303050   51.437500   \n...                               ...         ...         ...         ...   \n2021-08-25 09:30:00-04:00  149.699997  150.320007  148.535004  148.625397   \n2021-08-25 10:30:00-04:00  148.620193  148.735001  148.119995  148.505005   \n2021-08-25 11:30:00-04:00  148.500000  148.548004  148.059998  148.239700   \n2021-08-25 12:30:00-04:00  148.237000  148.440002  148.169998  148.264999   \n2021-08-25 13:03:49-04:00  148.300003  148.300003  148.300003  148.300003   \n\n                            Adj Close    volume  close_pct  \nDatetime                                                    \n2019-08-26 04:00:00-04:00   51.400000         0        NaN  \n2019-08-26 05:00:00-04:00   51.427500         0   0.000535  \n2019-08-26 06:00:00-04:00   51.500000         0   0.001410  \n2019-08-26 07:00:00-04:00   51.600000         0   0.001942  \n2019-08-26 08:00:00-04:00   51.437500         0  -0.003149  \n...                               ...       ...        ...  \n2021-08-25 09:30:00-04:00  148.625397  15348852  -0.009428  \n2021-08-25 10:30:00-04:00  148.505005   9910979  -0.000810  \n2021-08-25 11:30:00-04:00  148.239700   5739516  -0.001787  \n2021-08-25 12:30:00-04:00  148.264999   2533769   0.000171  \n2021-08-25 13:03:49-04:00  148.300003         0   0.000236  \n\n[8373 rows x 7 columns]",
      "text/html": "<div>\n<style scoped>\n    .dataframe tbody tr th:only-of-type {\n        vertical-align: middle;\n    }\n\n    .dataframe tbody tr th {\n        vertical-align: top;\n    }\n\n    .dataframe thead th {\n        text-align: right;\n    }\n</style>\n<table border=\"1\" class=\"dataframe\">\n  <thead>\n    <tr style=\"text-align: right;\">\n      <th></th>\n      <th>open</th>\n      <th>high</th>\n      <th>low</th>\n      <th>close</th>\n      <th>Adj Close</th>\n      <th>volume</th>\n      <th>close_pct</th>\n    </tr>\n    <tr>\n      <th>Datetime</th>\n      <th></th>\n      <th></th>\n      <th></th>\n      <th></th>\n      <th></th>\n      <th></th>\n      <th></th>\n    </tr>\n  </thead>\n  <tbody>\n    <tr>\n      <th>2019-08-26 04:00:00-04:00</th>\n      <td>51.025000</td>\n      <td>51.470000</td>\n      <td>51.025000</td>\n      <td>51.400000</td>\n      <td>51.400000</td>\n      <td>0</td>\n      <td>NaN</td>\n    </tr>\n    <tr>\n      <th>2019-08-26 05:00:00-04:00</th>\n      <td>51.357500</td>\n      <td>51.710000</td>\n      <td>51.357500</td>\n      <td>51.427500</td>\n      <td>51.427500</td>\n      <td>0</td>\n      <td>0.000535</td>\n    </tr>\n    <tr>\n      <th>2019-08-26 06:00:00-04:00</th>\n      <td>51.412500</td>\n      <td>51.712500</td>\n      <td>51.040000</td>\n      <td>51.500000</td>\n      <td>51.500000</td>\n      <td>0</td>\n      <td>0.001410</td>\n    </tr>\n    <tr>\n      <th>2019-08-26 07:00:00-04:00</th>\n      <td>51.495000</td>\n      <td>51.657500</td>\n      <td>51.290000</td>\n      <td>51.600000</td>\n      <td>51.600000</td>\n      <td>0</td>\n      <td>0.001942</td>\n    </tr>\n    <tr>\n      <th>2019-08-26 08:00:00-04:00</th>\n      <td>51.620000</td>\n      <td>51.700000</td>\n      <td>51.303050</td>\n      <td>51.437500</td>\n      <td>51.437500</td>\n      <td>0</td>\n      <td>-0.003149</td>\n    </tr>\n    <tr>\n      <th>...</th>\n      <td>...</td>\n      <td>...</td>\n      <td>...</td>\n      <td>...</td>\n      <td>...</td>\n      <td>...</td>\n      <td>...</td>\n    </tr>\n    <tr>\n      <th>2021-08-25 09:30:00-04:00</th>\n      <td>149.699997</td>\n      <td>150.320007</td>\n      <td>148.535004</td>\n      <td>148.625397</td>\n      <td>148.625397</td>\n      <td>15348852</td>\n      <td>-0.009428</td>\n    </tr>\n    <tr>\n      <th>2021-08-25 10:30:00-04:00</th>\n      <td>148.620193</td>\n      <td>148.735001</td>\n      <td>148.119995</td>\n      <td>148.505005</td>\n      <td>148.505005</td>\n      <td>9910979</td>\n      <td>-0.000810</td>\n    </tr>\n    <tr>\n      <th>2021-08-25 11:30:00-04:00</th>\n      <td>148.500000</td>\n      <td>148.548004</td>\n      <td>148.059998</td>\n      <td>148.239700</td>\n      <td>148.239700</td>\n      <td>5739516</td>\n      <td>-0.001787</td>\n    </tr>\n    <tr>\n      <th>2021-08-25 12:30:00-04:00</th>\n      <td>148.237000</td>\n      <td>148.440002</td>\n      <td>148.169998</td>\n      <td>148.264999</td>\n      <td>148.264999</td>\n      <td>2533769</td>\n      <td>0.000171</td>\n    </tr>\n    <tr>\n      <th>2021-08-25 13:03:49-04:00</th>\n      <td>148.300003</td>\n      <td>148.300003</td>\n      <td>148.300003</td>\n      <td>148.300003</td>\n      <td>148.300003</td>\n      <td>0</td>\n      <td>0.000236</td>\n    </tr>\n  </tbody>\n</table>\n<p>8373 rows × 7 columns</p>\n</div>"
     },
     "execution_count": 50,
     "metadata": {},
     "output_type": "execute_result"
    }
   ],
   "source": [
    "data"
   ],
   "metadata": {
    "collapsed": false,
    "pycharm": {
     "name": "#%%\n"
    }
   }
  },
  {
   "cell_type": "code",
   "execution_count": 51,
   "outputs": [
    {
     "data": {
      "text/plain": "Index(['open', 'high', 'low', 'close', 'Adj Close', 'volume', 'close_pct'], dtype='object')"
     },
     "execution_count": 51,
     "metadata": {},
     "output_type": "execute_result"
    }
   ],
   "source": [
    "data.columns"
   ],
   "metadata": {
    "collapsed": false,
    "pycharm": {
     "name": "#%%\n"
    }
   }
  },
  {
   "cell_type": "code",
   "execution_count": 52,
   "outputs": [],
   "source": [
    "def create_class_column(row, lowest_threshold, higher_threshold):\n",
    "    if row['close_shift'] - row['close'] > higher_threshold:\n",
    "        return 1\n",
    "    if row['close_shift'] - row['close'] < lowest_threshold:\n",
    "        return -1\n",
    "    else:\n",
    "        return 0"
   ],
   "metadata": {
    "collapsed": false,
    "pycharm": {
     "name": "#%%\n"
    }
   }
  },
  {
   "cell_type": "code",
   "execution_count": 53,
   "outputs": [
    {
     "data": {
      "text/plain": "                                 open        high         low       close  \\\nDatetime                                                                    \n2019-08-26 04:00:00-04:00   51.025000   51.470000   51.025000   51.400000   \n2019-08-26 05:00:00-04:00   51.357500   51.710000   51.357500   51.427500   \n2019-08-26 06:00:00-04:00   51.412500   51.712500   51.040000   51.500000   \n2019-08-26 07:00:00-04:00   51.495000   51.657500   51.290000   51.600000   \n2019-08-26 08:00:00-04:00   51.620000   51.700000   51.303050   51.437500   \n...                               ...         ...         ...         ...   \n2021-08-25 09:30:00-04:00  149.699997  150.320007  148.535004  148.625397   \n2021-08-25 10:30:00-04:00  148.620193  148.735001  148.119995  148.505005   \n2021-08-25 11:30:00-04:00  148.500000  148.548004  148.059998  148.239700   \n2021-08-25 12:30:00-04:00  148.237000  148.440002  148.169998  148.264999   \n2021-08-25 13:03:49-04:00  148.300003  148.300003  148.300003  148.300003   \n\n                            Adj Close    volume  close_pct    open_1  \\\nDatetime                                                               \n2019-08-26 04:00:00-04:00   51.400000         0        NaN       NaN   \n2019-08-26 05:00:00-04:00   51.427500         0   0.000535  0.332500   \n2019-08-26 06:00:00-04:00   51.500000         0   0.001410  0.055000   \n2019-08-26 07:00:00-04:00   51.600000         0   0.001942  0.082500   \n2019-08-26 08:00:00-04:00   51.437500         0  -0.003149  0.125000   \n...                               ...       ...        ...       ...   \n2021-08-25 09:30:00-04:00  148.625397  15348852  -0.009428 -0.280003   \n2021-08-25 10:30:00-04:00  148.505005   9910979  -0.000810 -1.079803   \n2021-08-25 11:30:00-04:00  148.239700   5739516  -0.001787 -0.120193   \n2021-08-25 12:30:00-04:00  148.264999   2533769   0.000171 -0.263000   \n2021-08-25 13:03:49-04:00  148.300003         0   0.000236  0.063004   \n\n                             open_2    open_3  ...  close_21  close_22  \\\nDatetime                                       ...                       \n2019-08-26 04:00:00-04:00       NaN       NaN  ...       NaN       NaN   \n2019-08-26 05:00:00-04:00       NaN       NaN  ...       NaN       NaN   \n2019-08-26 06:00:00-04:00  0.387500       NaN  ...       NaN       NaN   \n2019-08-26 07:00:00-04:00  0.137500  0.470000  ...       NaN       NaN   \n2019-08-26 08:00:00-04:00  0.207500  0.262500  ...       NaN       NaN   \n...                             ...       ...  ...       ...       ...   \n2021-08-25 09:30:00-04:00 -0.110003 -0.410003  ... -1.124603 -1.374603   \n2021-08-25 10:30:00-04:00 -1.359807 -1.189807  ... -1.134995 -1.244995   \n2021-08-25 11:30:00-04:00 -1.199997 -1.480000  ... -1.230300 -1.400300   \n2021-08-25 12:30:00-04:00 -0.383194 -1.462997  ... -1.335001 -1.205001   \n2021-08-25 13:03:49-04:00 -0.199997 -0.320190  ... -2.151093 -1.299997   \n\n                           close_23  close_24  close_25  close_26  close_27  \\\nDatetime                                                                      \n2019-08-26 04:00:00-04:00       NaN       NaN       NaN       NaN       NaN   \n2019-08-26 05:00:00-04:00       NaN       NaN       NaN       NaN       NaN   \n2019-08-26 06:00:00-04:00       NaN       NaN       NaN       NaN       NaN   \n2019-08-26 07:00:00-04:00       NaN       NaN       NaN       NaN       NaN   \n2019-08-26 08:00:00-04:00       NaN       NaN       NaN       NaN       NaN   \n...                             ...       ...       ...       ...       ...   \n2021-08-25 09:30:00-04:00 -1.514603 -1.064603 -1.124603 -1.094603 -1.049603   \n2021-08-25 10:30:00-04:00 -1.494995 -1.634995 -1.184995 -1.244995 -1.214995   \n2021-08-25 11:30:00-04:00 -1.510300 -1.760300 -1.900300 -1.450300 -1.510300   \n2021-08-25 12:30:00-04:00 -1.375001 -1.485001 -1.735001 -1.875001 -1.425001   \n2021-08-25 13:03:49-04:00 -1.169997 -1.339997 -1.449997 -1.699997 -1.839997   \n\n                           close_28  close_29  close_shift  \nDatetime                                                    \n2019-08-26 04:00:00-04:00       NaN       NaN      51.5750  \n2019-08-26 05:00:00-04:00       NaN       NaN      51.5000  \n2019-08-26 06:00:00-04:00       NaN       NaN      51.5125  \n2019-08-26 07:00:00-04:00       NaN       NaN      51.7225  \n2019-08-26 08:00:00-04:00       NaN       NaN      51.7750  \n...                             ...       ...          ...  \n2021-08-25 09:30:00-04:00 -1.064606 -1.339600          NaN  \n2021-08-25 10:30:00-04:00 -1.169995 -1.184998          NaN  \n2021-08-25 11:30:00-04:00 -1.480300 -1.435300          NaN  \n2021-08-25 12:30:00-04:00 -1.485001 -1.455001          NaN  \n2021-08-25 13:03:49-04:00 -1.389997 -1.449997          NaN  \n\n[8373 rows x 124 columns]",
      "text/html": "<div>\n<style scoped>\n    .dataframe tbody tr th:only-of-type {\n        vertical-align: middle;\n    }\n\n    .dataframe tbody tr th {\n        vertical-align: top;\n    }\n\n    .dataframe thead th {\n        text-align: right;\n    }\n</style>\n<table border=\"1\" class=\"dataframe\">\n  <thead>\n    <tr style=\"text-align: right;\">\n      <th></th>\n      <th>open</th>\n      <th>high</th>\n      <th>low</th>\n      <th>close</th>\n      <th>Adj Close</th>\n      <th>volume</th>\n      <th>close_pct</th>\n      <th>open_1</th>\n      <th>open_2</th>\n      <th>open_3</th>\n      <th>...</th>\n      <th>close_21</th>\n      <th>close_22</th>\n      <th>close_23</th>\n      <th>close_24</th>\n      <th>close_25</th>\n      <th>close_26</th>\n      <th>close_27</th>\n      <th>close_28</th>\n      <th>close_29</th>\n      <th>close_shift</th>\n    </tr>\n    <tr>\n      <th>Datetime</th>\n      <th></th>\n      <th></th>\n      <th></th>\n      <th></th>\n      <th></th>\n      <th></th>\n      <th></th>\n      <th></th>\n      <th></th>\n      <th></th>\n      <th></th>\n      <th></th>\n      <th></th>\n      <th></th>\n      <th></th>\n      <th></th>\n      <th></th>\n      <th></th>\n      <th></th>\n      <th></th>\n      <th></th>\n    </tr>\n  </thead>\n  <tbody>\n    <tr>\n      <th>2019-08-26 04:00:00-04:00</th>\n      <td>51.025000</td>\n      <td>51.470000</td>\n      <td>51.025000</td>\n      <td>51.400000</td>\n      <td>51.400000</td>\n      <td>0</td>\n      <td>NaN</td>\n      <td>NaN</td>\n      <td>NaN</td>\n      <td>NaN</td>\n      <td>...</td>\n      <td>NaN</td>\n      <td>NaN</td>\n      <td>NaN</td>\n      <td>NaN</td>\n      <td>NaN</td>\n      <td>NaN</td>\n      <td>NaN</td>\n      <td>NaN</td>\n      <td>NaN</td>\n      <td>51.5750</td>\n    </tr>\n    <tr>\n      <th>2019-08-26 05:00:00-04:00</th>\n      <td>51.357500</td>\n      <td>51.710000</td>\n      <td>51.357500</td>\n      <td>51.427500</td>\n      <td>51.427500</td>\n      <td>0</td>\n      <td>0.000535</td>\n      <td>0.332500</td>\n      <td>NaN</td>\n      <td>NaN</td>\n      <td>...</td>\n      <td>NaN</td>\n      <td>NaN</td>\n      <td>NaN</td>\n      <td>NaN</td>\n      <td>NaN</td>\n      <td>NaN</td>\n      <td>NaN</td>\n      <td>NaN</td>\n      <td>NaN</td>\n      <td>51.5000</td>\n    </tr>\n    <tr>\n      <th>2019-08-26 06:00:00-04:00</th>\n      <td>51.412500</td>\n      <td>51.712500</td>\n      <td>51.040000</td>\n      <td>51.500000</td>\n      <td>51.500000</td>\n      <td>0</td>\n      <td>0.001410</td>\n      <td>0.055000</td>\n      <td>0.387500</td>\n      <td>NaN</td>\n      <td>...</td>\n      <td>NaN</td>\n      <td>NaN</td>\n      <td>NaN</td>\n      <td>NaN</td>\n      <td>NaN</td>\n      <td>NaN</td>\n      <td>NaN</td>\n      <td>NaN</td>\n      <td>NaN</td>\n      <td>51.5125</td>\n    </tr>\n    <tr>\n      <th>2019-08-26 07:00:00-04:00</th>\n      <td>51.495000</td>\n      <td>51.657500</td>\n      <td>51.290000</td>\n      <td>51.600000</td>\n      <td>51.600000</td>\n      <td>0</td>\n      <td>0.001942</td>\n      <td>0.082500</td>\n      <td>0.137500</td>\n      <td>0.470000</td>\n      <td>...</td>\n      <td>NaN</td>\n      <td>NaN</td>\n      <td>NaN</td>\n      <td>NaN</td>\n      <td>NaN</td>\n      <td>NaN</td>\n      <td>NaN</td>\n      <td>NaN</td>\n      <td>NaN</td>\n      <td>51.7225</td>\n    </tr>\n    <tr>\n      <th>2019-08-26 08:00:00-04:00</th>\n      <td>51.620000</td>\n      <td>51.700000</td>\n      <td>51.303050</td>\n      <td>51.437500</td>\n      <td>51.437500</td>\n      <td>0</td>\n      <td>-0.003149</td>\n      <td>0.125000</td>\n      <td>0.207500</td>\n      <td>0.262500</td>\n      <td>...</td>\n      <td>NaN</td>\n      <td>NaN</td>\n      <td>NaN</td>\n      <td>NaN</td>\n      <td>NaN</td>\n      <td>NaN</td>\n      <td>NaN</td>\n      <td>NaN</td>\n      <td>NaN</td>\n      <td>51.7750</td>\n    </tr>\n    <tr>\n      <th>...</th>\n      <td>...</td>\n      <td>...</td>\n      <td>...</td>\n      <td>...</td>\n      <td>...</td>\n      <td>...</td>\n      <td>...</td>\n      <td>...</td>\n      <td>...</td>\n      <td>...</td>\n      <td>...</td>\n      <td>...</td>\n      <td>...</td>\n      <td>...</td>\n      <td>...</td>\n      <td>...</td>\n      <td>...</td>\n      <td>...</td>\n      <td>...</td>\n      <td>...</td>\n      <td>...</td>\n    </tr>\n    <tr>\n      <th>2021-08-25 09:30:00-04:00</th>\n      <td>149.699997</td>\n      <td>150.320007</td>\n      <td>148.535004</td>\n      <td>148.625397</td>\n      <td>148.625397</td>\n      <td>15348852</td>\n      <td>-0.009428</td>\n      <td>-0.280003</td>\n      <td>-0.110003</td>\n      <td>-0.410003</td>\n      <td>...</td>\n      <td>-1.124603</td>\n      <td>-1.374603</td>\n      <td>-1.514603</td>\n      <td>-1.064603</td>\n      <td>-1.124603</td>\n      <td>-1.094603</td>\n      <td>-1.049603</td>\n      <td>-1.064606</td>\n      <td>-1.339600</td>\n      <td>NaN</td>\n    </tr>\n    <tr>\n      <th>2021-08-25 10:30:00-04:00</th>\n      <td>148.620193</td>\n      <td>148.735001</td>\n      <td>148.119995</td>\n      <td>148.505005</td>\n      <td>148.505005</td>\n      <td>9910979</td>\n      <td>-0.000810</td>\n      <td>-1.079803</td>\n      <td>-1.359807</td>\n      <td>-1.189807</td>\n      <td>...</td>\n      <td>-1.134995</td>\n      <td>-1.244995</td>\n      <td>-1.494995</td>\n      <td>-1.634995</td>\n      <td>-1.184995</td>\n      <td>-1.244995</td>\n      <td>-1.214995</td>\n      <td>-1.169995</td>\n      <td>-1.184998</td>\n      <td>NaN</td>\n    </tr>\n    <tr>\n      <th>2021-08-25 11:30:00-04:00</th>\n      <td>148.500000</td>\n      <td>148.548004</td>\n      <td>148.059998</td>\n      <td>148.239700</td>\n      <td>148.239700</td>\n      <td>5739516</td>\n      <td>-0.001787</td>\n      <td>-0.120193</td>\n      <td>-1.199997</td>\n      <td>-1.480000</td>\n      <td>...</td>\n      <td>-1.230300</td>\n      <td>-1.400300</td>\n      <td>-1.510300</td>\n      <td>-1.760300</td>\n      <td>-1.900300</td>\n      <td>-1.450300</td>\n      <td>-1.510300</td>\n      <td>-1.480300</td>\n      <td>-1.435300</td>\n      <td>NaN</td>\n    </tr>\n    <tr>\n      <th>2021-08-25 12:30:00-04:00</th>\n      <td>148.237000</td>\n      <td>148.440002</td>\n      <td>148.169998</td>\n      <td>148.264999</td>\n      <td>148.264999</td>\n      <td>2533769</td>\n      <td>0.000171</td>\n      <td>-0.263000</td>\n      <td>-0.383194</td>\n      <td>-1.462997</td>\n      <td>...</td>\n      <td>-1.335001</td>\n      <td>-1.205001</td>\n      <td>-1.375001</td>\n      <td>-1.485001</td>\n      <td>-1.735001</td>\n      <td>-1.875001</td>\n      <td>-1.425001</td>\n      <td>-1.485001</td>\n      <td>-1.455001</td>\n      <td>NaN</td>\n    </tr>\n    <tr>\n      <th>2021-08-25 13:03:49-04:00</th>\n      <td>148.300003</td>\n      <td>148.300003</td>\n      <td>148.300003</td>\n      <td>148.300003</td>\n      <td>148.300003</td>\n      <td>0</td>\n      <td>0.000236</td>\n      <td>0.063004</td>\n      <td>-0.199997</td>\n      <td>-0.320190</td>\n      <td>...</td>\n      <td>-2.151093</td>\n      <td>-1.299997</td>\n      <td>-1.169997</td>\n      <td>-1.339997</td>\n      <td>-1.449997</td>\n      <td>-1.699997</td>\n      <td>-1.839997</td>\n      <td>-1.389997</td>\n      <td>-1.449997</td>\n      <td>NaN</td>\n    </tr>\n  </tbody>\n</table>\n<p>8373 rows × 124 columns</p>\n</div>"
     },
     "execution_count": 53,
     "metadata": {},
     "output_type": "execute_result"
    }
   ],
   "source": [
    "\n",
    "important_columns = ['open', 'high', 'low','close']\n",
    "\n",
    "\n",
    "for name in important_columns:\n",
    "    for i in range(1, 30):\n",
    "        calculate_diffs(i, name)\n",
    "\n",
    "data['close_shift'] = data.shift(-WINDOW)['close']\n",
    "data\n",
    "moved_price = data['close_shift'].copy()\n",
    "data"
   ],
   "metadata": {
    "collapsed": false,
    "pycharm": {
     "name": "#%%\n"
    }
   }
  },
  {
   "cell_type": "code",
   "execution_count": 54,
   "outputs": [
    {
     "data": {
      "text/plain": "Datetime\n2019-08-26 04:00:00-04:00    51.5750\n2019-08-26 05:00:00-04:00    51.5000\n2019-08-26 06:00:00-04:00    51.5125\n2019-08-26 07:00:00-04:00    51.7225\n2019-08-26 08:00:00-04:00    51.7750\n                              ...   \n2021-08-25 09:30:00-04:00        NaN\n2021-08-25 10:30:00-04:00        NaN\n2021-08-25 11:30:00-04:00        NaN\n2021-08-25 12:30:00-04:00        NaN\n2021-08-25 13:03:49-04:00        NaN\nName: close_shift, Length: 8373, dtype: float64"
     },
     "execution_count": 54,
     "metadata": {},
     "output_type": "execute_result"
    }
   ],
   "source": [
    "moved_price\n"
   ],
   "metadata": {
    "collapsed": false,
    "pycharm": {
     "name": "#%%\n"
    }
   }
  },
  {
   "cell_type": "code",
   "execution_count": 55,
   "outputs": [
    {
     "data": {
      "text/plain": "                                 open        high         low       close  \\\nDatetime                                                                    \n2019-08-26 04:00:00-04:00   51.025000   51.470000   51.025000   51.400000   \n2019-08-26 05:00:00-04:00   51.357500   51.710000   51.357500   51.427500   \n2019-08-26 06:00:00-04:00   51.412500   51.712500   51.040000   51.500000   \n2019-08-26 07:00:00-04:00   51.495000   51.657500   51.290000   51.600000   \n2019-08-26 08:00:00-04:00   51.620000   51.700000   51.303050   51.437500   \n...                               ...         ...         ...         ...   \n2021-08-25 09:30:00-04:00  149.699997  150.320007  148.535004  148.625397   \n2021-08-25 10:30:00-04:00  148.620193  148.735001  148.119995  148.505005   \n2021-08-25 11:30:00-04:00  148.500000  148.548004  148.059998  148.239700   \n2021-08-25 12:30:00-04:00  148.237000  148.440002  148.169998  148.264999   \n2021-08-25 13:03:49-04:00  148.300003  148.300003  148.300003  148.300003   \n\n                            Adj Close    volume  close_pct    open_1  \\\nDatetime                                                               \n2019-08-26 04:00:00-04:00   51.400000         0        NaN       NaN   \n2019-08-26 05:00:00-04:00   51.427500         0   0.000535  0.332500   \n2019-08-26 06:00:00-04:00   51.500000         0   0.001410  0.055000   \n2019-08-26 07:00:00-04:00   51.600000         0   0.001942  0.082500   \n2019-08-26 08:00:00-04:00   51.437500         0  -0.003149  0.125000   \n...                               ...       ...        ...       ...   \n2021-08-25 09:30:00-04:00  148.625397  15348852  -0.009428 -0.280003   \n2021-08-25 10:30:00-04:00  148.505005   9910979  -0.000810 -1.079803   \n2021-08-25 11:30:00-04:00  148.239700   5739516  -0.001787 -0.120193   \n2021-08-25 12:30:00-04:00  148.264999   2533769   0.000171 -0.263000   \n2021-08-25 13:03:49-04:00  148.300003         0   0.000236  0.063004   \n\n                             open_2    open_3  ...  close_22  close_23  \\\nDatetime                                       ...                       \n2019-08-26 04:00:00-04:00       NaN       NaN  ...       NaN       NaN   \n2019-08-26 05:00:00-04:00       NaN       NaN  ...       NaN       NaN   \n2019-08-26 06:00:00-04:00  0.387500       NaN  ...       NaN       NaN   \n2019-08-26 07:00:00-04:00  0.137500  0.470000  ...       NaN       NaN   \n2019-08-26 08:00:00-04:00  0.207500  0.262500  ...       NaN       NaN   \n...                             ...       ...  ...       ...       ...   \n2021-08-25 09:30:00-04:00 -0.110003 -0.410003  ... -1.374603 -1.514603   \n2021-08-25 10:30:00-04:00 -1.359807 -1.189807  ... -1.244995 -1.494995   \n2021-08-25 11:30:00-04:00 -1.199997 -1.480000  ... -1.400300 -1.510300   \n2021-08-25 12:30:00-04:00 -0.383194 -1.462997  ... -1.205001 -1.375001   \n2021-08-25 13:03:49-04:00 -0.199997 -0.320190  ... -1.299997 -1.169997   \n\n                           close_24  close_25  close_26  close_27  close_28  \\\nDatetime                                                                      \n2019-08-26 04:00:00-04:00       NaN       NaN       NaN       NaN       NaN   \n2019-08-26 05:00:00-04:00       NaN       NaN       NaN       NaN       NaN   \n2019-08-26 06:00:00-04:00       NaN       NaN       NaN       NaN       NaN   \n2019-08-26 07:00:00-04:00       NaN       NaN       NaN       NaN       NaN   \n2019-08-26 08:00:00-04:00       NaN       NaN       NaN       NaN       NaN   \n...                             ...       ...       ...       ...       ...   \n2021-08-25 09:30:00-04:00 -1.064603 -1.124603 -1.094603 -1.049603 -1.064606   \n2021-08-25 10:30:00-04:00 -1.634995 -1.184995 -1.244995 -1.214995 -1.169995   \n2021-08-25 11:30:00-04:00 -1.760300 -1.900300 -1.450300 -1.510300 -1.480300   \n2021-08-25 12:30:00-04:00 -1.485001 -1.735001 -1.875001 -1.425001 -1.485001   \n2021-08-25 13:03:49-04:00 -1.339997 -1.449997 -1.699997 -1.839997 -1.389997   \n\n                           close_29  close_shift  class_column  \nDatetime                                                        \n2019-08-26 04:00:00-04:00       NaN      51.5750             0  \n2019-08-26 05:00:00-04:00       NaN      51.5000             0  \n2019-08-26 06:00:00-04:00       NaN      51.5125             0  \n2019-08-26 07:00:00-04:00       NaN      51.7225             0  \n2019-08-26 08:00:00-04:00       NaN      51.7750             0  \n...                             ...          ...           ...  \n2021-08-25 09:30:00-04:00 -1.339600          NaN             0  \n2021-08-25 10:30:00-04:00 -1.184998          NaN             0  \n2021-08-25 11:30:00-04:00 -1.435300          NaN             0  \n2021-08-25 12:30:00-04:00 -1.455001          NaN             0  \n2021-08-25 13:03:49-04:00 -1.449997          NaN             0  \n\n[8373 rows x 125 columns]",
      "text/html": "<div>\n<style scoped>\n    .dataframe tbody tr th:only-of-type {\n        vertical-align: middle;\n    }\n\n    .dataframe tbody tr th {\n        vertical-align: top;\n    }\n\n    .dataframe thead th {\n        text-align: right;\n    }\n</style>\n<table border=\"1\" class=\"dataframe\">\n  <thead>\n    <tr style=\"text-align: right;\">\n      <th></th>\n      <th>open</th>\n      <th>high</th>\n      <th>low</th>\n      <th>close</th>\n      <th>Adj Close</th>\n      <th>volume</th>\n      <th>close_pct</th>\n      <th>open_1</th>\n      <th>open_2</th>\n      <th>open_3</th>\n      <th>...</th>\n      <th>close_22</th>\n      <th>close_23</th>\n      <th>close_24</th>\n      <th>close_25</th>\n      <th>close_26</th>\n      <th>close_27</th>\n      <th>close_28</th>\n      <th>close_29</th>\n      <th>close_shift</th>\n      <th>class_column</th>\n    </tr>\n    <tr>\n      <th>Datetime</th>\n      <th></th>\n      <th></th>\n      <th></th>\n      <th></th>\n      <th></th>\n      <th></th>\n      <th></th>\n      <th></th>\n      <th></th>\n      <th></th>\n      <th></th>\n      <th></th>\n      <th></th>\n      <th></th>\n      <th></th>\n      <th></th>\n      <th></th>\n      <th></th>\n      <th></th>\n      <th></th>\n      <th></th>\n    </tr>\n  </thead>\n  <tbody>\n    <tr>\n      <th>2019-08-26 04:00:00-04:00</th>\n      <td>51.025000</td>\n      <td>51.470000</td>\n      <td>51.025000</td>\n      <td>51.400000</td>\n      <td>51.400000</td>\n      <td>0</td>\n      <td>NaN</td>\n      <td>NaN</td>\n      <td>NaN</td>\n      <td>NaN</td>\n      <td>...</td>\n      <td>NaN</td>\n      <td>NaN</td>\n      <td>NaN</td>\n      <td>NaN</td>\n      <td>NaN</td>\n      <td>NaN</td>\n      <td>NaN</td>\n      <td>NaN</td>\n      <td>51.5750</td>\n      <td>0</td>\n    </tr>\n    <tr>\n      <th>2019-08-26 05:00:00-04:00</th>\n      <td>51.357500</td>\n      <td>51.710000</td>\n      <td>51.357500</td>\n      <td>51.427500</td>\n      <td>51.427500</td>\n      <td>0</td>\n      <td>0.000535</td>\n      <td>0.332500</td>\n      <td>NaN</td>\n      <td>NaN</td>\n      <td>...</td>\n      <td>NaN</td>\n      <td>NaN</td>\n      <td>NaN</td>\n      <td>NaN</td>\n      <td>NaN</td>\n      <td>NaN</td>\n      <td>NaN</td>\n      <td>NaN</td>\n      <td>51.5000</td>\n      <td>0</td>\n    </tr>\n    <tr>\n      <th>2019-08-26 06:00:00-04:00</th>\n      <td>51.412500</td>\n      <td>51.712500</td>\n      <td>51.040000</td>\n      <td>51.500000</td>\n      <td>51.500000</td>\n      <td>0</td>\n      <td>0.001410</td>\n      <td>0.055000</td>\n      <td>0.387500</td>\n      <td>NaN</td>\n      <td>...</td>\n      <td>NaN</td>\n      <td>NaN</td>\n      <td>NaN</td>\n      <td>NaN</td>\n      <td>NaN</td>\n      <td>NaN</td>\n      <td>NaN</td>\n      <td>NaN</td>\n      <td>51.5125</td>\n      <td>0</td>\n    </tr>\n    <tr>\n      <th>2019-08-26 07:00:00-04:00</th>\n      <td>51.495000</td>\n      <td>51.657500</td>\n      <td>51.290000</td>\n      <td>51.600000</td>\n      <td>51.600000</td>\n      <td>0</td>\n      <td>0.001942</td>\n      <td>0.082500</td>\n      <td>0.137500</td>\n      <td>0.470000</td>\n      <td>...</td>\n      <td>NaN</td>\n      <td>NaN</td>\n      <td>NaN</td>\n      <td>NaN</td>\n      <td>NaN</td>\n      <td>NaN</td>\n      <td>NaN</td>\n      <td>NaN</td>\n      <td>51.7225</td>\n      <td>0</td>\n    </tr>\n    <tr>\n      <th>2019-08-26 08:00:00-04:00</th>\n      <td>51.620000</td>\n      <td>51.700000</td>\n      <td>51.303050</td>\n      <td>51.437500</td>\n      <td>51.437500</td>\n      <td>0</td>\n      <td>-0.003149</td>\n      <td>0.125000</td>\n      <td>0.207500</td>\n      <td>0.262500</td>\n      <td>...</td>\n      <td>NaN</td>\n      <td>NaN</td>\n      <td>NaN</td>\n      <td>NaN</td>\n      <td>NaN</td>\n      <td>NaN</td>\n      <td>NaN</td>\n      <td>NaN</td>\n      <td>51.7750</td>\n      <td>0</td>\n    </tr>\n    <tr>\n      <th>...</th>\n      <td>...</td>\n      <td>...</td>\n      <td>...</td>\n      <td>...</td>\n      <td>...</td>\n      <td>...</td>\n      <td>...</td>\n      <td>...</td>\n      <td>...</td>\n      <td>...</td>\n      <td>...</td>\n      <td>...</td>\n      <td>...</td>\n      <td>...</td>\n      <td>...</td>\n      <td>...</td>\n      <td>...</td>\n      <td>...</td>\n      <td>...</td>\n      <td>...</td>\n      <td>...</td>\n    </tr>\n    <tr>\n      <th>2021-08-25 09:30:00-04:00</th>\n      <td>149.699997</td>\n      <td>150.320007</td>\n      <td>148.535004</td>\n      <td>148.625397</td>\n      <td>148.625397</td>\n      <td>15348852</td>\n      <td>-0.009428</td>\n      <td>-0.280003</td>\n      <td>-0.110003</td>\n      <td>-0.410003</td>\n      <td>...</td>\n      <td>-1.374603</td>\n      <td>-1.514603</td>\n      <td>-1.064603</td>\n      <td>-1.124603</td>\n      <td>-1.094603</td>\n      <td>-1.049603</td>\n      <td>-1.064606</td>\n      <td>-1.339600</td>\n      <td>NaN</td>\n      <td>0</td>\n    </tr>\n    <tr>\n      <th>2021-08-25 10:30:00-04:00</th>\n      <td>148.620193</td>\n      <td>148.735001</td>\n      <td>148.119995</td>\n      <td>148.505005</td>\n      <td>148.505005</td>\n      <td>9910979</td>\n      <td>-0.000810</td>\n      <td>-1.079803</td>\n      <td>-1.359807</td>\n      <td>-1.189807</td>\n      <td>...</td>\n      <td>-1.244995</td>\n      <td>-1.494995</td>\n      <td>-1.634995</td>\n      <td>-1.184995</td>\n      <td>-1.244995</td>\n      <td>-1.214995</td>\n      <td>-1.169995</td>\n      <td>-1.184998</td>\n      <td>NaN</td>\n      <td>0</td>\n    </tr>\n    <tr>\n      <th>2021-08-25 11:30:00-04:00</th>\n      <td>148.500000</td>\n      <td>148.548004</td>\n      <td>148.059998</td>\n      <td>148.239700</td>\n      <td>148.239700</td>\n      <td>5739516</td>\n      <td>-0.001787</td>\n      <td>-0.120193</td>\n      <td>-1.199997</td>\n      <td>-1.480000</td>\n      <td>...</td>\n      <td>-1.400300</td>\n      <td>-1.510300</td>\n      <td>-1.760300</td>\n      <td>-1.900300</td>\n      <td>-1.450300</td>\n      <td>-1.510300</td>\n      <td>-1.480300</td>\n      <td>-1.435300</td>\n      <td>NaN</td>\n      <td>0</td>\n    </tr>\n    <tr>\n      <th>2021-08-25 12:30:00-04:00</th>\n      <td>148.237000</td>\n      <td>148.440002</td>\n      <td>148.169998</td>\n      <td>148.264999</td>\n      <td>148.264999</td>\n      <td>2533769</td>\n      <td>0.000171</td>\n      <td>-0.263000</td>\n      <td>-0.383194</td>\n      <td>-1.462997</td>\n      <td>...</td>\n      <td>-1.205001</td>\n      <td>-1.375001</td>\n      <td>-1.485001</td>\n      <td>-1.735001</td>\n      <td>-1.875001</td>\n      <td>-1.425001</td>\n      <td>-1.485001</td>\n      <td>-1.455001</td>\n      <td>NaN</td>\n      <td>0</td>\n    </tr>\n    <tr>\n      <th>2021-08-25 13:03:49-04:00</th>\n      <td>148.300003</td>\n      <td>148.300003</td>\n      <td>148.300003</td>\n      <td>148.300003</td>\n      <td>148.300003</td>\n      <td>0</td>\n      <td>0.000236</td>\n      <td>0.063004</td>\n      <td>-0.199997</td>\n      <td>-0.320190</td>\n      <td>...</td>\n      <td>-1.299997</td>\n      <td>-1.169997</td>\n      <td>-1.339997</td>\n      <td>-1.449997</td>\n      <td>-1.699997</td>\n      <td>-1.839997</td>\n      <td>-1.389997</td>\n      <td>-1.449997</td>\n      <td>NaN</td>\n      <td>0</td>\n    </tr>\n  </tbody>\n</table>\n<p>8373 rows × 125 columns</p>\n</div>"
     },
     "execution_count": 55,
     "metadata": {},
     "output_type": "execute_result"
    }
   ],
   "source": [
    "def create_class(df):\n",
    "    higher_threshold = 1.5\n",
    "    lowest_threshold = -1.5\n",
    "    last_values_higher = []\n",
    "    last_values_lower = []\n",
    "    df['class_column'] = df.apply((lambda x: create_class_column(x, lowest_threshold, higher_threshold)), axis=1)\n",
    "    while True:\n",
    "        class_counts = df['class_column'].value_counts()\n",
    "        if abs(class_counts[0] - class_counts[1]) < 15 and abs(class_counts[0] - class_counts[-1]) < 15:\n",
    "            break\n",
    "\n",
    "        if len(last_values_higher) == 3:\n",
    "            last_values_higher.pop(0)\n",
    "        if len(last_values_lower) == 3:\n",
    "            last_values_lower.pop(0)\n",
    "\n",
    "        last_values_higher.append(higher_threshold)\n",
    "        last_values_lower.append(lowest_threshold)\n",
    "        if class_counts[0] > class_counts[1]:\n",
    "            higher_threshold -= 0.01\n",
    "        if class_counts[0] > class_counts[-1]:\n",
    "            lowest_threshold += 0.01\n",
    "        if class_counts[0] < class_counts[1]:\n",
    "            higher_threshold += 0.01\n",
    "        if class_counts[0] < class_counts[-1]:\n",
    "            lowest_threshold -= 0.01\n",
    "\n",
    "        if higher_threshold in last_values_higher and lowest_threshold in last_values_lower:\n",
    "            break\n",
    "        df['class_column'] = df.apply((lambda x: create_class_column(x, lowest_threshold, higher_threshold)),\n",
    "                                      axis=1)\n",
    "    return df\n",
    "\n",
    "\n",
    "data = create_class(data)\n",
    "\n",
    "data\n"
   ],
   "metadata": {
    "collapsed": false,
    "pycharm": {
     "name": "#%%\n"
    }
   }
  },
  {
   "cell_type": "code",
   "execution_count": 56,
   "outputs": [
    {
     "name": "stdout",
     "output_type": "stream",
     "text": [
      "C:\\Users\\exomat\\Desktop\\repo\\magisterka_analiza\\data\\results\\train_test\\AAPL_2y_16_diff_25_08_2021 19_04_05_full.csv\n"
     ]
    }
   ],
   "source": [
    "filename_to_export = f'C:\\\\Users\\\\exomat\\\\Desktop\\\\repo\\\\magisterka_analiza\\\\data\\\\results\\\\train_test\\\\{symbol}_{INTERVAL}_{WINDOW}_diff_{datetime.now().strftime(\"%d_%m_%Y %H_%M_%S\")}_full.csv'\n",
    "data.to_csv(filename_to_export, index=True)\n",
    "print(filename_to_export)"
   ],
   "metadata": {
    "collapsed": false,
    "pycharm": {
     "name": "#%%\n"
    }
   }
  },
  {
   "cell_type": "code",
   "execution_count": 57,
   "outputs": [
    {
     "data": {
      "text/plain": " 0    2823\n 1    2779\n-1    2771\nName: class_column, dtype: int64"
     },
     "execution_count": 57,
     "metadata": {},
     "output_type": "execute_result"
    }
   ],
   "source": [
    "\n",
    "# Class divide\n",
    "data['class_column'].value_counts()"
   ],
   "metadata": {
    "collapsed": false,
    "pycharm": {
     "name": "#%%\n"
    }
   }
  },
  {
   "cell_type": "code",
   "execution_count": 58,
   "outputs": [],
   "source": [
    "# del (data['close'])\n",
    "# del (data['close_shift'])\n",
    "data = data.dropna()"
   ],
   "metadata": {
    "collapsed": false,
    "pycharm": {
     "name": "#%%\n"
    }
   }
  },
  {
   "cell_type": "code",
   "execution_count": 59,
   "outputs": [
    {
     "data": {
      "text/plain": " 0    2790\n 1    2779\n-1    2759\nName: class_column, dtype: int64"
     },
     "execution_count": 59,
     "metadata": {},
     "output_type": "execute_result"
    }
   ],
   "source": [
    "data['class_column'].value_counts()\n"
   ],
   "metadata": {
    "collapsed": false,
    "pycharm": {
     "name": "#%%\n"
    }
   }
  },
  {
   "cell_type": "code",
   "execution_count": 60,
   "outputs": [],
   "source": [
    "def split_dataframe(df, chunk_size=17):\n",
    "    chunks = list()\n",
    "    num_chunks = len(df) // chunk_size + 1\n",
    "    for i in range(num_chunks):\n",
    "        chunks.append(df[i * chunk_size:(i + 1) * chunk_size])\n",
    "    return chunks\n",
    "\n",
    "\n",
    "def train_model(model, train_x, train_y):\n",
    "    model.fit(train_x, train_y)"
   ],
   "metadata": {
    "collapsed": false,
    "pycharm": {
     "name": "#%%\n"
    }
   }
  },
  {
   "cell_type": "code",
   "execution_count": 61,
   "outputs": [
    {
     "data": {
      "text/plain": "490"
     },
     "execution_count": 61,
     "metadata": {},
     "output_type": "execute_result"
    }
   ],
   "source": [
    "splited_dataframe = split_dataframe(data, 17)\n",
    "len(splited_dataframe)"
   ],
   "metadata": {
    "collapsed": false,
    "pycharm": {
     "name": "#%%\n"
    }
   }
  },
  {
   "cell_type": "code",
   "execution_count": 62,
   "outputs": [],
   "source": [
    "y = data['class_column']\n",
    "features = [x for x in data.columns if x not in ['class_column', 'close_shift']]\n",
    "x = data[features]\n",
    "scaler = MinMaxScaler()\n",
    "# x = pd.DataFrame(scaler.fit_transform(x.values), columns=x.columns, index=x.index)\n",
    "x_train, x_test, y_train, y_test = train_test_split(x, y, test_size=0.1, shuffle=False)"
   ],
   "metadata": {
    "collapsed": false,
    "pycharm": {
     "name": "#%%\n"
    }
   }
  },
  {
   "cell_type": "code",
   "execution_count": 63,
   "outputs": [],
   "source": [
    "classifiers = dict()\n",
    "classifiers['DecisionTreeClassifier 1'] = DecisionTreeClassifier(max_depth=15, random_state=0, criterion='gini',\n",
    "                                                                 splitter='best')\n",
    "classifiers['DecisionTreeClassifier 2'] = DecisionTreeClassifier(max_depth=40, random_state=0, criterion='gini',\n",
    "                                                                 splitter='best')\n",
    "classifiers['DecisionTreeClassifier 3'] = DecisionTreeClassifier(max_depth=10, random_state=0,criterion='gini',splitter='best')\n",
    "\n",
    "\n",
    "classifiers['RandomForestClassifier 1'] = RandomForestClassifier(n_estimators=1000, max_depth=3, random_state=0,\n",
    "                                                                 criterion='gini', n_jobs=-1)\n",
    "\n",
    "classifiers['RandomForestClassifier 2'] = RandomForestClassifier(n_estimators=1000, max_depth=3, random_state=0,\n",
    "                                                                 criterion='entropy', n_jobs=-1)\n",
    "\n",
    "classifiers['RandomForestClassifier 3'] = RandomForestClassifier(n_estimators=100, max_depth=15, random_state=0,\n",
    "                                                                 criterion='entropy', n_jobs=-1)\n",
    "\n",
    "classifiers['GradientBoostingClassifier 1'] = GradientBoostingClassifier(n_estimators=100, random_state=0,\n",
    "                                                                         criterion='friedman_mse', max_depth=3,\n",
    "                                                                         learning_rate=0.1)\n",
    "\n",
    "classifiers['GradientBoostingClassifier 2'] = GradientBoostingClassifier(n_estimators=1000, random_state=0,\n",
    "                                                                         criterion='friedman_mse', max_depth=3,\n",
    "                                                                         learning_rate=0.5)\n",
    "\n",
    "classifiers['XGBRFClassifier 1'] = xgb.sklearn.XGBRFClassifier(n_jobs=-1, max_depth=2, n_estimators=1000, eta=0.2 )\n",
    "classifiers['XGBRFClassifier 2'] = xgb.sklearn.XGBRFClassifier(n_jobs=-1, max_depth=6, n_estimators=1000, eta=0.3)\n",
    "\n",
    "classifiers['XGBClassifier 1'] = xgb.XGBClassifier(nthread=-1, max_depth=3, n_estimators=1000, eta=0.2)\n",
    "classifiers['XGBClassifier 2'] = xgb.XGBClassifier(nthread=-1, max_depth=3, n_estimators=1000, eta=0.3)\n",
    "\n",
    "classifiers_boosted = dict()\n",
    "# classifiers_boosted['SGradientBoostingClassifier 1'] = GradientBoostingClassifier(n_estimators=100,random_state=0,criterion='friedman_mse',max_depth=3, learning_rate=0.1)\n",
    "classifiers_boosted['SXGBClassifier 1'] = xgb.XGBClassifier(nthread=-1, max_depth=3, n_estimators=1000, eta=0.2)\n",
    "classifiers_boosted['SXGBClassifier 2'] = xgb.XGBClassifier(nthread=-1, max_depth=3, n_estimators=1000, eta=0.3)\n",
    "classifiers_boosted['SXGBClassifier 3'] = xgb.XGBClassifier(nthread=-1, max_depth=10, n_estimators=1000, eta=0.2)\n"
   ],
   "metadata": {
    "collapsed": false,
    "pycharm": {
     "name": "#%%\n"
    }
   }
  },
  {
   "cell_type": "code",
   "execution_count": 63,
   "outputs": [],
   "source": [],
   "metadata": {
    "collapsed": false,
    "pycharm": {
     "name": "#%%\n"
    }
   }
  },
  {
   "cell_type": "code",
   "execution_count": 64,
   "outputs": [
    {
     "data": {
      "text/plain": "78.39250183105469"
     },
     "execution_count": 64,
     "metadata": {},
     "output_type": "execute_result"
    }
   ],
   "source": [
    "data['close'][1701]"
   ],
   "metadata": {
    "collapsed": false,
    "pycharm": {
     "name": "#%%\n"
    }
   }
  },
  {
   "cell_type": "code",
   "execution_count": 65,
   "outputs": [
    {
     "data": {
      "text/plain": "81.7125015258789"
     },
     "execution_count": 65,
     "metadata": {},
     "output_type": "execute_result"
    }
   ],
   "source": [
    "data['close'][1718]"
   ],
   "metadata": {
    "collapsed": false,
    "pycharm": {
     "name": "#%%\n"
    }
   }
  },
  {
   "cell_type": "code",
   "execution_count": 66,
   "outputs": [
    {
     "data": {
      "text/plain": "4.235098532738775"
     },
     "execution_count": 66,
     "metadata": {},
     "output_type": "execute_result"
    }
   ],
   "source": [
    "(((data['close'][1718] / data['close'][1701])*100)-100)"
   ],
   "metadata": {
    "collapsed": false,
    "pycharm": {
     "name": "#%%\n"
    }
   }
  },
  {
   "cell_type": "code",
   "execution_count": 66,
   "outputs": [],
   "source": [],
   "metadata": {
    "collapsed": false,
    "pycharm": {
     "name": "#%%\n"
    }
   }
  },
  {
   "cell_type": "code",
   "execution_count": 67,
   "outputs": [],
   "source": [
    "def calculate_change(predicted, correct, index):\n",
    "    # wzrost\n",
    "    change_percentage = (((data['close'][index+17] / data['close'][index])*100)-100)\n",
    "    if (correct == 1):\n",
    "        if (predicted == correct):\n",
    "            return change_percentage\n",
    "        else:\n",
    "            return 0\n",
    "    # spadek\n",
    "    elif (correct == -1):\n",
    "        if (predicted == correct):\n",
    "            return 0\n",
    "        else:\n",
    "            return change_percentage\n",
    "\n",
    "    # stagnacja\n",
    "    else:\n",
    "        return 0"
   ],
   "metadata": {
    "collapsed": false,
    "pycharm": {
     "name": "#%%\n"
    }
   }
  },
  {
   "cell_type": "code",
   "execution_count": 68,
   "outputs": [
    {
     "data": {
      "text/plain": "<AxesSubplot:xlabel='Datetime'>"
     },
     "execution_count": 68,
     "metadata": {},
     "output_type": "execute_result"
    },
    {
     "data": {
      "text/plain": "<Figure size 432x288 with 1 Axes>",
      "image/png": "[encoded data removed]"
     },
     "metadata": {
      "needs_background": "light"
     },
     "output_type": "display_data"
    }
   ],
   "source": [
    "data['close'][1000:1700].plot()"
   ],
   "metadata": {
    "collapsed": false,
    "pycharm": {
     "name": "#%%\n"
    }
   }
  },
  {
   "cell_type": "code",
   "execution_count": 69,
   "outputs": [
    {
     "name": "stdout",
     "output_type": "stream",
     "text": [
      "490\n"
     ]
    }
   ],
   "source": [
    "print(len(splited_dataframe))"
   ],
   "metadata": {
    "collapsed": false,
    "pycharm": {
     "name": "#%%\n"
    }
   }
  },
  {
   "cell_type": "code",
   "execution_count": 70,
   "outputs": [
    {
     "name": "stdout",
     "output_type": "stream",
     "text": [
      "31\n",
      "start\n",
      "Calculate:  100\n"
     ]
    },
    {
     "name": "stderr",
     "output_type": "stream",
     "text": [
      "C:\\Users\\exomat\\anaconda3\\envs\\magisterka_analiza\\lib\\site-packages\\xgboost\\sklearn.py:888: UserWarning: The use of label encoder in XGBClassifier is deprecated and will be removed in a future release. To remove this warning, do the following: 1) Pass option use_label_encoder=False when constructing XGBClassifier object; and 2) Encode your labels (y) as integers starting with 0, i.e. 0, 1, 2, ..., [num_class - 1].\n",
      "  warnings.warn(label_encoder_deprecation_msg, UserWarning)\n"
     ]
    },
    {
     "name": "stdout",
     "output_type": "stream",
     "text": [
      "[19:06:29] WARNING: C:/Users/Administrator/workspace/xgboost-win64_release_1.3.0/src/learner.cc:1061: Starting in XGBoost 1.3.0, the default evaluation metric used with the objective 'multi:softprob' was changed from 'merror' to 'mlogloss'. Explicitly set eval_metric if you'd like to restore the old behavior.\n",
      "[19:06:39] WARNING: C:/Users/Administrator/workspace/xgboost-win64_release_1.3.0/src/learner.cc:1061: Starting in XGBoost 1.3.0, the default evaluation metric used with the objective 'multi:softprob' was changed from 'merror' to 'mlogloss'. Explicitly set eval_metric if you'd like to restore the old behavior.\n",
      "[19:06:40] WARNING: C:/Users/Administrator/workspace/xgboost-win64_release_1.3.0/src/learner.cc:1061: Starting in XGBoost 1.3.0, the default evaluation metric used with the objective 'multi:softprob' was changed from 'merror' to 'mlogloss'. Explicitly set eval_metric if you'd like to restore the old behavior.\n",
      "[19:06:46] WARNING: C:/Users/Administrator/workspace/xgboost-win64_release_1.3.0/src/learner.cc:1061: Starting in XGBoost 1.3.0, the default evaluation metric used with the objective 'multi:softprob' was changed from 'merror' to 'mlogloss'. Explicitly set eval_metric if you'd like to restore the old behavior.\n",
      "Calculate:  101\n"
     ]
    },
    {
     "name": "stderr",
     "output_type": "stream",
     "text": [
      "C:\\Users\\exomat\\anaconda3\\envs\\magisterka_analiza\\lib\\site-packages\\xgboost\\sklearn.py:888: UserWarning: The use of label encoder in XGBClassifier is deprecated and will be removed in a future release. To remove this warning, do the following: 1) Pass option use_label_encoder=False when constructing XGBClassifier object; and 2) Encode your labels (y) as integers starting with 0, i.e. 0, 1, 2, ..., [num_class - 1].\n",
      "  warnings.warn(label_encoder_deprecation_msg, UserWarning)\n"
     ]
    },
    {
     "name": "stdout",
     "output_type": "stream",
     "text": [
      "[19:09:16] WARNING: C:/Users/Administrator/workspace/xgboost-win64_release_1.3.0/src/learner.cc:1061: Starting in XGBoost 1.3.0, the default evaluation metric used with the objective 'multi:softprob' was changed from 'merror' to 'mlogloss'. Explicitly set eval_metric if you'd like to restore the old behavior.\n",
      "[19:09:28] WARNING: C:/Users/Administrator/workspace/xgboost-win64_release_1.3.0/src/learner.cc:1061: Starting in XGBoost 1.3.0, the default evaluation metric used with the objective 'multi:softprob' was changed from 'merror' to 'mlogloss'. Explicitly set eval_metric if you'd like to restore the old behavior.\n",
      "[19:09:28] WARNING: C:/Users/Administrator/workspace/xgboost-win64_release_1.3.0/src/learner.cc:1061: Starting in XGBoost 1.3.0, the default evaluation metric used with the objective 'multi:softprob' was changed from 'merror' to 'mlogloss'. Explicitly set eval_metric if you'd like to restore the old behavior.\n",
      "[19:09:35] WARNING: C:/Users/Administrator/workspace/xgboost-win64_release_1.3.0/src/learner.cc:1061: Starting in XGBoost 1.3.0, the default evaluation metric used with the objective 'multi:softprob' was changed from 'merror' to 'mlogloss'. Explicitly set eval_metric if you'd like to restore the old behavior.\n",
      "Calculate:  102\n"
     ]
    },
    {
     "name": "stderr",
     "output_type": "stream",
     "text": [
      "C:\\Users\\exomat\\anaconda3\\envs\\magisterka_analiza\\lib\\site-packages\\xgboost\\sklearn.py:888: UserWarning: The use of label encoder in XGBClassifier is deprecated and will be removed in a future release. To remove this warning, do the following: 1) Pass option use_label_encoder=False when constructing XGBClassifier object; and 2) Encode your labels (y) as integers starting with 0, i.e. 0, 1, 2, ..., [num_class - 1].\n",
      "  warnings.warn(label_encoder_deprecation_msg, UserWarning)\n"
     ]
    },
    {
     "name": "stdout",
     "output_type": "stream",
     "text": [
      "[19:12:06] WARNING: C:/Users/Administrator/workspace/xgboost-win64_release_1.3.0/src/learner.cc:1061: Starting in XGBoost 1.3.0, the default evaluation metric used with the objective 'multi:softprob' was changed from 'merror' to 'mlogloss'. Explicitly set eval_metric if you'd like to restore the old behavior.\n",
      "[19:12:16] WARNING: C:/Users/Administrator/workspace/xgboost-win64_release_1.3.0/src/learner.cc:1061: Starting in XGBoost 1.3.0, the default evaluation metric used with the objective 'multi:softprob' was changed from 'merror' to 'mlogloss'. Explicitly set eval_metric if you'd like to restore the old behavior.\n",
      "[19:12:17] WARNING: C:/Users/Administrator/workspace/xgboost-win64_release_1.3.0/src/learner.cc:1061: Starting in XGBoost 1.3.0, the default evaluation metric used with the objective 'multi:softprob' was changed from 'merror' to 'mlogloss'. Explicitly set eval_metric if you'd like to restore the old behavior.\n",
      "[19:12:23] WARNING: C:/Users/Administrator/workspace/xgboost-win64_release_1.3.0/src/learner.cc:1061: Starting in XGBoost 1.3.0, the default evaluation metric used with the objective 'multi:softprob' was changed from 'merror' to 'mlogloss'. Explicitly set eval_metric if you'd like to restore the old behavior.\n",
      "Calculate:  103\n"
     ]
    },
    {
     "name": "stderr",
     "output_type": "stream",
     "text": [
      "C:\\Users\\exomat\\anaconda3\\envs\\magisterka_analiza\\lib\\site-packages\\xgboost\\sklearn.py:888: UserWarning: The use of label encoder in XGBClassifier is deprecated and will be removed in a future release. To remove this warning, do the following: 1) Pass option use_label_encoder=False when constructing XGBClassifier object; and 2) Encode your labels (y) as integers starting with 0, i.e. 0, 1, 2, ..., [num_class - 1].\n",
      "  warnings.warn(label_encoder_deprecation_msg, UserWarning)\n"
     ]
    },
    {
     "name": "stdout",
     "output_type": "stream",
     "text": [
      "[19:14:56] WARNING: C:/Users/Administrator/workspace/xgboost-win64_release_1.3.0/src/learner.cc:1061: Starting in XGBoost 1.3.0, the default evaluation metric used with the objective 'multi:softprob' was changed from 'merror' to 'mlogloss'. Explicitly set eval_metric if you'd like to restore the old behavior.\n",
      "[19:15:06] WARNING: C:/Users/Administrator/workspace/xgboost-win64_release_1.3.0/src/learner.cc:1061: Starting in XGBoost 1.3.0, the default evaluation metric used with the objective 'multi:softprob' was changed from 'merror' to 'mlogloss'. Explicitly set eval_metric if you'd like to restore the old behavior.\n",
      "[19:15:07] WARNING: C:/Users/Administrator/workspace/xgboost-win64_release_1.3.0/src/learner.cc:1061: Starting in XGBoost 1.3.0, the default evaluation metric used with the objective 'multi:softprob' was changed from 'merror' to 'mlogloss'. Explicitly set eval_metric if you'd like to restore the old behavior.\n",
      "[19:15:13] WARNING: C:/Users/Administrator/workspace/xgboost-win64_release_1.3.0/src/learner.cc:1061: Starting in XGBoost 1.3.0, the default evaluation metric used with the objective 'multi:softprob' was changed from 'merror' to 'mlogloss'. Explicitly set eval_metric if you'd like to restore the old behavior.\n",
      "Calculate:  104\n"
     ]
    },
    {
     "name": "stderr",
     "output_type": "stream",
     "text": [
      "C:\\Users\\exomat\\anaconda3\\envs\\magisterka_analiza\\lib\\site-packages\\xgboost\\sklearn.py:888: UserWarning: The use of label encoder in XGBClassifier is deprecated and will be removed in a future release. To remove this warning, do the following: 1) Pass option use_label_encoder=False when constructing XGBClassifier object; and 2) Encode your labels (y) as integers starting with 0, i.e. 0, 1, 2, ..., [num_class - 1].\n",
      "  warnings.warn(label_encoder_deprecation_msg, UserWarning)\n"
     ]
    },
    {
     "name": "stdout",
     "output_type": "stream",
     "text": [
      "[19:17:48] WARNING: C:/Users/Administrator/workspace/xgboost-win64_release_1.3.0/src/learner.cc:1061: Starting in XGBoost 1.3.0, the default evaluation metric used with the objective 'multi:softprob' was changed from 'merror' to 'mlogloss'. Explicitly set eval_metric if you'd like to restore the old behavior.\n",
      "[19:17:57] WARNING: C:/Users/Administrator/workspace/xgboost-win64_release_1.3.0/src/learner.cc:1061: Starting in XGBoost 1.3.0, the default evaluation metric used with the objective 'multi:softprob' was changed from 'merror' to 'mlogloss'. Explicitly set eval_metric if you'd like to restore the old behavior.\n",
      "[19:17:58] WARNING: C:/Users/Administrator/workspace/xgboost-win64_release_1.3.0/src/learner.cc:1061: Starting in XGBoost 1.3.0, the default evaluation metric used with the objective 'multi:softprob' was changed from 'merror' to 'mlogloss'. Explicitly set eval_metric if you'd like to restore the old behavior.\n",
      "[19:18:05] WARNING: C:/Users/Administrator/workspace/xgboost-win64_release_1.3.0/src/learner.cc:1061: Starting in XGBoost 1.3.0, the default evaluation metric used with the objective 'multi:softprob' was changed from 'merror' to 'mlogloss'. Explicitly set eval_metric if you'd like to restore the old behavior.\n",
      "Calculate:  105\n"
     ]
    },
    {
     "name": "stderr",
     "output_type": "stream",
     "text": [
      "C:\\Users\\exomat\\anaconda3\\envs\\magisterka_analiza\\lib\\site-packages\\xgboost\\sklearn.py:888: UserWarning: The use of label encoder in XGBClassifier is deprecated and will be removed in a future release. To remove this warning, do the following: 1) Pass option use_label_encoder=False when constructing XGBClassifier object; and 2) Encode your labels (y) as integers starting with 0, i.e. 0, 1, 2, ..., [num_class - 1].\n",
      "  warnings.warn(label_encoder_deprecation_msg, UserWarning)\n"
     ]
    },
    {
     "name": "stdout",
     "output_type": "stream",
     "text": [
      "[19:20:40] WARNING: C:/Users/Administrator/workspace/xgboost-win64_release_1.3.0/src/learner.cc:1061: Starting in XGBoost 1.3.0, the default evaluation metric used with the objective 'multi:softprob' was changed from 'merror' to 'mlogloss'. Explicitly set eval_metric if you'd like to restore the old behavior.\n",
      "[19:20:50] WARNING: C:/Users/Administrator/workspace/xgboost-win64_release_1.3.0/src/learner.cc:1061: Starting in XGBoost 1.3.0, the default evaluation metric used with the objective 'multi:softprob' was changed from 'merror' to 'mlogloss'. Explicitly set eval_metric if you'd like to restore the old behavior.\n",
      "[19:20:51] WARNING: C:/Users/Administrator/workspace/xgboost-win64_release_1.3.0/src/learner.cc:1061: Starting in XGBoost 1.3.0, the default evaluation metric used with the objective 'multi:softprob' was changed from 'merror' to 'mlogloss'. Explicitly set eval_metric if you'd like to restore the old behavior.\n",
      "[19:20:57] WARNING: C:/Users/Administrator/workspace/xgboost-win64_release_1.3.0/src/learner.cc:1061: Starting in XGBoost 1.3.0, the default evaluation metric used with the objective 'multi:softprob' was changed from 'merror' to 'mlogloss'. Explicitly set eval_metric if you'd like to restore the old behavior.\n",
      "Calculate:  106\n"
     ]
    },
    {
     "name": "stderr",
     "output_type": "stream",
     "text": [
      "C:\\Users\\exomat\\anaconda3\\envs\\magisterka_analiza\\lib\\site-packages\\xgboost\\sklearn.py:888: UserWarning: The use of label encoder in XGBClassifier is deprecated and will be removed in a future release. To remove this warning, do the following: 1) Pass option use_label_encoder=False when constructing XGBClassifier object; and 2) Encode your labels (y) as integers starting with 0, i.e. 0, 1, 2, ..., [num_class - 1].\n",
      "  warnings.warn(label_encoder_deprecation_msg, UserWarning)\n"
     ]
    },
    {
     "name": "stdout",
     "output_type": "stream",
     "text": [
      "[19:23:34] WARNING: C:/Users/Administrator/workspace/xgboost-win64_release_1.3.0/src/learner.cc:1061: Starting in XGBoost 1.3.0, the default evaluation metric used with the objective 'multi:softprob' was changed from 'merror' to 'mlogloss'. Explicitly set eval_metric if you'd like to restore the old behavior.\n",
      "[19:23:45] WARNING: C:/Users/Administrator/workspace/xgboost-win64_release_1.3.0/src/learner.cc:1061: Starting in XGBoost 1.3.0, the default evaluation metric used with the objective 'multi:softprob' was changed from 'merror' to 'mlogloss'. Explicitly set eval_metric if you'd like to restore the old behavior.\n",
      "[19:23:45] WARNING: C:/Users/Administrator/workspace/xgboost-win64_release_1.3.0/src/learner.cc:1061: Starting in XGBoost 1.3.0, the default evaluation metric used with the objective 'multi:softprob' was changed from 'merror' to 'mlogloss'. Explicitly set eval_metric if you'd like to restore the old behavior.\n",
      "[19:23:52] WARNING: C:/Users/Administrator/workspace/xgboost-win64_release_1.3.0/src/learner.cc:1061: Starting in XGBoost 1.3.0, the default evaluation metric used with the objective 'multi:softprob' was changed from 'merror' to 'mlogloss'. Explicitly set eval_metric if you'd like to restore the old behavior.\n",
      "Calculate:  107\n"
     ]
    },
    {
     "name": "stderr",
     "output_type": "stream",
     "text": [
      "C:\\Users\\exomat\\anaconda3\\envs\\magisterka_analiza\\lib\\site-packages\\xgboost\\sklearn.py:888: UserWarning: The use of label encoder in XGBClassifier is deprecated and will be removed in a future release. To remove this warning, do the following: 1) Pass option use_label_encoder=False when constructing XGBClassifier object; and 2) Encode your labels (y) as integers starting with 0, i.e. 0, 1, 2, ..., [num_class - 1].\n",
      "  warnings.warn(label_encoder_deprecation_msg, UserWarning)\n"
     ]
    },
    {
     "name": "stdout",
     "output_type": "stream",
     "text": [
      "[19:26:31] WARNING: C:/Users/Administrator/workspace/xgboost-win64_release_1.3.0/src/learner.cc:1061: Starting in XGBoost 1.3.0, the default evaluation metric used with the objective 'multi:softprob' was changed from 'merror' to 'mlogloss'. Explicitly set eval_metric if you'd like to restore the old behavior.\n",
      "[19:26:41] WARNING: C:/Users/Administrator/workspace/xgboost-win64_release_1.3.0/src/learner.cc:1061: Starting in XGBoost 1.3.0, the default evaluation metric used with the objective 'multi:softprob' was changed from 'merror' to 'mlogloss'. Explicitly set eval_metric if you'd like to restore the old behavior.\n",
      "[19:26:42] WARNING: C:/Users/Administrator/workspace/xgboost-win64_release_1.3.0/src/learner.cc:1061: Starting in XGBoost 1.3.0, the default evaluation metric used with the objective 'multi:softprob' was changed from 'merror' to 'mlogloss'. Explicitly set eval_metric if you'd like to restore the old behavior.\n",
      "[19:26:48] WARNING: C:/Users/Administrator/workspace/xgboost-win64_release_1.3.0/src/learner.cc:1061: Starting in XGBoost 1.3.0, the default evaluation metric used with the objective 'multi:softprob' was changed from 'merror' to 'mlogloss'. Explicitly set eval_metric if you'd like to restore the old behavior.\n",
      "Calculate:  108\n"
     ]
    },
    {
     "name": "stderr",
     "output_type": "stream",
     "text": [
      "C:\\Users\\exomat\\anaconda3\\envs\\magisterka_analiza\\lib\\site-packages\\xgboost\\sklearn.py:888: UserWarning: The use of label encoder in XGBClassifier is deprecated and will be removed in a future release. To remove this warning, do the following: 1) Pass option use_label_encoder=False when constructing XGBClassifier object; and 2) Encode your labels (y) as integers starting with 0, i.e. 0, 1, 2, ..., [num_class - 1].\n",
      "  warnings.warn(label_encoder_deprecation_msg, UserWarning)\n"
     ]
    },
    {
     "name": "stdout",
     "output_type": "stream",
     "text": [
      "[19:29:28] WARNING: C:/Users/Administrator/workspace/xgboost-win64_release_1.3.0/src/learner.cc:1061: Starting in XGBoost 1.3.0, the default evaluation metric used with the objective 'multi:softprob' was changed from 'merror' to 'mlogloss'. Explicitly set eval_metric if you'd like to restore the old behavior.\n",
      "[19:29:39] WARNING: C:/Users/Administrator/workspace/xgboost-win64_release_1.3.0/src/learner.cc:1061: Starting in XGBoost 1.3.0, the default evaluation metric used with the objective 'multi:softprob' was changed from 'merror' to 'mlogloss'. Explicitly set eval_metric if you'd like to restore the old behavior.\n",
      "[19:29:39] WARNING: C:/Users/Administrator/workspace/xgboost-win64_release_1.3.0/src/learner.cc:1061: Starting in XGBoost 1.3.0, the default evaluation metric used with the objective 'multi:softprob' was changed from 'merror' to 'mlogloss'. Explicitly set eval_metric if you'd like to restore the old behavior.\n",
      "[19:29:46] WARNING: C:/Users/Administrator/workspace/xgboost-win64_release_1.3.0/src/learner.cc:1061: Starting in XGBoost 1.3.0, the default evaluation metric used with the objective 'multi:softprob' was changed from 'merror' to 'mlogloss'. Explicitly set eval_metric if you'd like to restore the old behavior.\n",
      "Calculate:  109\n"
     ]
    },
    {
     "name": "stderr",
     "output_type": "stream",
     "text": [
      "C:\\Users\\exomat\\anaconda3\\envs\\magisterka_analiza\\lib\\site-packages\\xgboost\\sklearn.py:888: UserWarning: The use of label encoder in XGBClassifier is deprecated and will be removed in a future release. To remove this warning, do the following: 1) Pass option use_label_encoder=False when constructing XGBClassifier object; and 2) Encode your labels (y) as integers starting with 0, i.e. 0, 1, 2, ..., [num_class - 1].\n",
      "  warnings.warn(label_encoder_deprecation_msg, UserWarning)\n"
     ]
    },
    {
     "name": "stdout",
     "output_type": "stream",
     "text": [
      "[19:32:28] WARNING: C:/Users/Administrator/workspace/xgboost-win64_release_1.3.0/src/learner.cc:1061: Starting in XGBoost 1.3.0, the default evaluation metric used with the objective 'multi:softprob' was changed from 'merror' to 'mlogloss'. Explicitly set eval_metric if you'd like to restore the old behavior.\n",
      "[19:32:38] WARNING: C:/Users/Administrator/workspace/xgboost-win64_release_1.3.0/src/learner.cc:1061: Starting in XGBoost 1.3.0, the default evaluation metric used with the objective 'multi:softprob' was changed from 'merror' to 'mlogloss'. Explicitly set eval_metric if you'd like to restore the old behavior.\n",
      "[19:32:39] WARNING: C:/Users/Administrator/workspace/xgboost-win64_release_1.3.0/src/learner.cc:1061: Starting in XGBoost 1.3.0, the default evaluation metric used with the objective 'multi:softprob' was changed from 'merror' to 'mlogloss'. Explicitly set eval_metric if you'd like to restore the old behavior.\n",
      "[19:32:46] WARNING: C:/Users/Administrator/workspace/xgboost-win64_release_1.3.0/src/learner.cc:1061: Starting in XGBoost 1.3.0, the default evaluation metric used with the objective 'multi:softprob' was changed from 'merror' to 'mlogloss'. Explicitly set eval_metric if you'd like to restore the old behavior.\n",
      "Calculate:  110\n"
     ]
    },
    {
     "name": "stderr",
     "output_type": "stream",
     "text": [
      "C:\\Users\\exomat\\anaconda3\\envs\\magisterka_analiza\\lib\\site-packages\\xgboost\\sklearn.py:888: UserWarning: The use of label encoder in XGBClassifier is deprecated and will be removed in a future release. To remove this warning, do the following: 1) Pass option use_label_encoder=False when constructing XGBClassifier object; and 2) Encode your labels (y) as integers starting with 0, i.e. 0, 1, 2, ..., [num_class - 1].\n",
      "  warnings.warn(label_encoder_deprecation_msg, UserWarning)\n"
     ]
    },
    {
     "name": "stdout",
     "output_type": "stream",
     "text": [
      "[19:35:30] WARNING: C:/Users/Administrator/workspace/xgboost-win64_release_1.3.0/src/learner.cc:1061: Starting in XGBoost 1.3.0, the default evaluation metric used with the objective 'multi:softprob' was changed from 'merror' to 'mlogloss'. Explicitly set eval_metric if you'd like to restore the old behavior.\n",
      "[19:35:40] WARNING: C:/Users/Administrator/workspace/xgboost-win64_release_1.3.0/src/learner.cc:1061: Starting in XGBoost 1.3.0, the default evaluation metric used with the objective 'multi:softprob' was changed from 'merror' to 'mlogloss'. Explicitly set eval_metric if you'd like to restore the old behavior.\n",
      "[19:35:41] WARNING: C:/Users/Administrator/workspace/xgboost-win64_release_1.3.0/src/learner.cc:1061: Starting in XGBoost 1.3.0, the default evaluation metric used with the objective 'multi:softprob' was changed from 'merror' to 'mlogloss'. Explicitly set eval_metric if you'd like to restore the old behavior.\n",
      "[19:35:48] WARNING: C:/Users/Administrator/workspace/xgboost-win64_release_1.3.0/src/learner.cc:1061: Starting in XGBoost 1.3.0, the default evaluation metric used with the objective 'multi:softprob' was changed from 'merror' to 'mlogloss'. Explicitly set eval_metric if you'd like to restore the old behavior.\n",
      "Calculate:  111\n"
     ]
    },
    {
     "name": "stderr",
     "output_type": "stream",
     "text": [
      "C:\\Users\\exomat\\anaconda3\\envs\\magisterka_analiza\\lib\\site-packages\\xgboost\\sklearn.py:888: UserWarning: The use of label encoder in XGBClassifier is deprecated and will be removed in a future release. To remove this warning, do the following: 1) Pass option use_label_encoder=False when constructing XGBClassifier object; and 2) Encode your labels (y) as integers starting with 0, i.e. 0, 1, 2, ..., [num_class - 1].\n",
      "  warnings.warn(label_encoder_deprecation_msg, UserWarning)\n"
     ]
    },
    {
     "name": "stdout",
     "output_type": "stream",
     "text": [
      "[19:38:33] WARNING: C:/Users/Administrator/workspace/xgboost-win64_release_1.3.0/src/learner.cc:1061: Starting in XGBoost 1.3.0, the default evaluation metric used with the objective 'multi:softprob' was changed from 'merror' to 'mlogloss'. Explicitly set eval_metric if you'd like to restore the old behavior.\n",
      "[19:38:43] WARNING: C:/Users/Administrator/workspace/xgboost-win64_release_1.3.0/src/learner.cc:1061: Starting in XGBoost 1.3.0, the default evaluation metric used with the objective 'multi:softprob' was changed from 'merror' to 'mlogloss'. Explicitly set eval_metric if you'd like to restore the old behavior.\n",
      "[19:38:44] WARNING: C:/Users/Administrator/workspace/xgboost-win64_release_1.3.0/src/learner.cc:1061: Starting in XGBoost 1.3.0, the default evaluation metric used with the objective 'multi:softprob' was changed from 'merror' to 'mlogloss'. Explicitly set eval_metric if you'd like to restore the old behavior.\n",
      "[19:38:51] WARNING: C:/Users/Administrator/workspace/xgboost-win64_release_1.3.0/src/learner.cc:1061: Starting in XGBoost 1.3.0, the default evaluation metric used with the objective 'multi:softprob' was changed from 'merror' to 'mlogloss'. Explicitly set eval_metric if you'd like to restore the old behavior.\n",
      "Calculate:  112\n"
     ]
    },
    {
     "name": "stderr",
     "output_type": "stream",
     "text": [
      "C:\\Users\\exomat\\anaconda3\\envs\\magisterka_analiza\\lib\\site-packages\\xgboost\\sklearn.py:888: UserWarning: The use of label encoder in XGBClassifier is deprecated and will be removed in a future release. To remove this warning, do the following: 1) Pass option use_label_encoder=False when constructing XGBClassifier object; and 2) Encode your labels (y) as integers starting with 0, i.e. 0, 1, 2, ..., [num_class - 1].\n",
      "  warnings.warn(label_encoder_deprecation_msg, UserWarning)\n"
     ]
    },
    {
     "name": "stdout",
     "output_type": "stream",
     "text": [
      "[19:41:39] WARNING: C:/Users/Administrator/workspace/xgboost-win64_release_1.3.0/src/learner.cc:1061: Starting in XGBoost 1.3.0, the default evaluation metric used with the objective 'multi:softprob' was changed from 'merror' to 'mlogloss'. Explicitly set eval_metric if you'd like to restore the old behavior.\n",
      "[19:41:49] WARNING: C:/Users/Administrator/workspace/xgboost-win64_release_1.3.0/src/learner.cc:1061: Starting in XGBoost 1.3.0, the default evaluation metric used with the objective 'multi:softprob' was changed from 'merror' to 'mlogloss'. Explicitly set eval_metric if you'd like to restore the old behavior.\n",
      "[19:41:50] WARNING: C:/Users/Administrator/workspace/xgboost-win64_release_1.3.0/src/learner.cc:1061: Starting in XGBoost 1.3.0, the default evaluation metric used with the objective 'multi:softprob' was changed from 'merror' to 'mlogloss'. Explicitly set eval_metric if you'd like to restore the old behavior.\n",
      "[19:41:57] WARNING: C:/Users/Administrator/workspace/xgboost-win64_release_1.3.0/src/learner.cc:1061: Starting in XGBoost 1.3.0, the default evaluation metric used with the objective 'multi:softprob' was changed from 'merror' to 'mlogloss'. Explicitly set eval_metric if you'd like to restore the old behavior.\n",
      "Calculate:  113\n"
     ]
    },
    {
     "name": "stderr",
     "output_type": "stream",
     "text": [
      "C:\\Users\\exomat\\anaconda3\\envs\\magisterka_analiza\\lib\\site-packages\\xgboost\\sklearn.py:888: UserWarning: The use of label encoder in XGBClassifier is deprecated and will be removed in a future release. To remove this warning, do the following: 1) Pass option use_label_encoder=False when constructing XGBClassifier object; and 2) Encode your labels (y) as integers starting with 0, i.e. 0, 1, 2, ..., [num_class - 1].\n",
      "  warnings.warn(label_encoder_deprecation_msg, UserWarning)\n"
     ]
    },
    {
     "name": "stdout",
     "output_type": "stream",
     "text": [
      "[19:44:45] WARNING: C:/Users/Administrator/workspace/xgboost-win64_release_1.3.0/src/learner.cc:1061: Starting in XGBoost 1.3.0, the default evaluation metric used with the objective 'multi:softprob' was changed from 'merror' to 'mlogloss'. Explicitly set eval_metric if you'd like to restore the old behavior.\n",
      "[19:44:56] WARNING: C:/Users/Administrator/workspace/xgboost-win64_release_1.3.0/src/learner.cc:1061: Starting in XGBoost 1.3.0, the default evaluation metric used with the objective 'multi:softprob' was changed from 'merror' to 'mlogloss'. Explicitly set eval_metric if you'd like to restore the old behavior.\n",
      "[19:44:57] WARNING: C:/Users/Administrator/workspace/xgboost-win64_release_1.3.0/src/learner.cc:1061: Starting in XGBoost 1.3.0, the default evaluation metric used with the objective 'multi:softprob' was changed from 'merror' to 'mlogloss'. Explicitly set eval_metric if you'd like to restore the old behavior.\n",
      "[19:45:04] WARNING: C:/Users/Administrator/workspace/xgboost-win64_release_1.3.0/src/learner.cc:1061: Starting in XGBoost 1.3.0, the default evaluation metric used with the objective 'multi:softprob' was changed from 'merror' to 'mlogloss'. Explicitly set eval_metric if you'd like to restore the old behavior.\n",
      "Calculate:  114\n"
     ]
    },
    {
     "name": "stderr",
     "output_type": "stream",
     "text": [
      "C:\\Users\\exomat\\anaconda3\\envs\\magisterka_analiza\\lib\\site-packages\\xgboost\\sklearn.py:888: UserWarning: The use of label encoder in XGBClassifier is deprecated and will be removed in a future release. To remove this warning, do the following: 1) Pass option use_label_encoder=False when constructing XGBClassifier object; and 2) Encode your labels (y) as integers starting with 0, i.e. 0, 1, 2, ..., [num_class - 1].\n",
      "  warnings.warn(label_encoder_deprecation_msg, UserWarning)\n"
     ]
    },
    {
     "name": "stdout",
     "output_type": "stream",
     "text": [
      "[19:47:54] WARNING: C:/Users/Administrator/workspace/xgboost-win64_release_1.3.0/src/learner.cc:1061: Starting in XGBoost 1.3.0, the default evaluation metric used with the objective 'multi:softprob' was changed from 'merror' to 'mlogloss'. Explicitly set eval_metric if you'd like to restore the old behavior.\n",
      "[19:48:05] WARNING: C:/Users/Administrator/workspace/xgboost-win64_release_1.3.0/src/learner.cc:1061: Starting in XGBoost 1.3.0, the default evaluation metric used with the objective 'multi:softprob' was changed from 'merror' to 'mlogloss'. Explicitly set eval_metric if you'd like to restore the old behavior.\n",
      "[19:48:05] WARNING: C:/Users/Administrator/workspace/xgboost-win64_release_1.3.0/src/learner.cc:1061: Starting in XGBoost 1.3.0, the default evaluation metric used with the objective 'multi:softprob' was changed from 'merror' to 'mlogloss'. Explicitly set eval_metric if you'd like to restore the old behavior.\n",
      "[19:48:12] WARNING: C:/Users/Administrator/workspace/xgboost-win64_release_1.3.0/src/learner.cc:1061: Starting in XGBoost 1.3.0, the default evaluation metric used with the objective 'multi:softprob' was changed from 'merror' to 'mlogloss'. Explicitly set eval_metric if you'd like to restore the old behavior.\n",
      "Calculate:  115\n"
     ]
    },
    {
     "name": "stderr",
     "output_type": "stream",
     "text": [
      "C:\\Users\\exomat\\anaconda3\\envs\\magisterka_analiza\\lib\\site-packages\\xgboost\\sklearn.py:888: UserWarning: The use of label encoder in XGBClassifier is deprecated and will be removed in a future release. To remove this warning, do the following: 1) Pass option use_label_encoder=False when constructing XGBClassifier object; and 2) Encode your labels (y) as integers starting with 0, i.e. 0, 1, 2, ..., [num_class - 1].\n",
      "  warnings.warn(label_encoder_deprecation_msg, UserWarning)\n"
     ]
    },
    {
     "name": "stdout",
     "output_type": "stream",
     "text": [
      "[19:51:05] WARNING: C:/Users/Administrator/workspace/xgboost-win64_release_1.3.0/src/learner.cc:1061: Starting in XGBoost 1.3.0, the default evaluation metric used with the objective 'multi:softprob' was changed from 'merror' to 'mlogloss'. Explicitly set eval_metric if you'd like to restore the old behavior.\n",
      "[19:51:16] WARNING: C:/Users/Administrator/workspace/xgboost-win64_release_1.3.0/src/learner.cc:1061: Starting in XGBoost 1.3.0, the default evaluation metric used with the objective 'multi:softprob' was changed from 'merror' to 'mlogloss'. Explicitly set eval_metric if you'd like to restore the old behavior.\n",
      "[19:51:16] WARNING: C:/Users/Administrator/workspace/xgboost-win64_release_1.3.0/src/learner.cc:1061: Starting in XGBoost 1.3.0, the default evaluation metric used with the objective 'multi:softprob' was changed from 'merror' to 'mlogloss'. Explicitly set eval_metric if you'd like to restore the old behavior.\n",
      "[19:51:23] WARNING: C:/Users/Administrator/workspace/xgboost-win64_release_1.3.0/src/learner.cc:1061: Starting in XGBoost 1.3.0, the default evaluation metric used with the objective 'multi:softprob' was changed from 'merror' to 'mlogloss'. Explicitly set eval_metric if you'd like to restore the old behavior.\n",
      "Calculate:  116\n"
     ]
    },
    {
     "name": "stderr",
     "output_type": "stream",
     "text": [
      "C:\\Users\\exomat\\anaconda3\\envs\\magisterka_analiza\\lib\\site-packages\\xgboost\\sklearn.py:888: UserWarning: The use of label encoder in XGBClassifier is deprecated and will be removed in a future release. To remove this warning, do the following: 1) Pass option use_label_encoder=False when constructing XGBClassifier object; and 2) Encode your labels (y) as integers starting with 0, i.e. 0, 1, 2, ..., [num_class - 1].\n",
      "  warnings.warn(label_encoder_deprecation_msg, UserWarning)\n"
     ]
    },
    {
     "name": "stdout",
     "output_type": "stream",
     "text": [
      "[19:54:17] WARNING: C:/Users/Administrator/workspace/xgboost-win64_release_1.3.0/src/learner.cc:1061: Starting in XGBoost 1.3.0, the default evaluation metric used with the objective 'multi:softprob' was changed from 'merror' to 'mlogloss'. Explicitly set eval_metric if you'd like to restore the old behavior.\n",
      "[19:54:28] WARNING: C:/Users/Administrator/workspace/xgboost-win64_release_1.3.0/src/learner.cc:1061: Starting in XGBoost 1.3.0, the default evaluation metric used with the objective 'multi:softprob' was changed from 'merror' to 'mlogloss'. Explicitly set eval_metric if you'd like to restore the old behavior.\n",
      "[19:54:29] WARNING: C:/Users/Administrator/workspace/xgboost-win64_release_1.3.0/src/learner.cc:1061: Starting in XGBoost 1.3.0, the default evaluation metric used with the objective 'multi:softprob' was changed from 'merror' to 'mlogloss'. Explicitly set eval_metric if you'd like to restore the old behavior.\n",
      "[19:54:36] WARNING: C:/Users/Administrator/workspace/xgboost-win64_release_1.3.0/src/learner.cc:1061: Starting in XGBoost 1.3.0, the default evaluation metric used with the objective 'multi:softprob' was changed from 'merror' to 'mlogloss'. Explicitly set eval_metric if you'd like to restore the old behavior.\n",
      "Calculate:  117\n"
     ]
    },
    {
     "name": "stderr",
     "output_type": "stream",
     "text": [
      "C:\\Users\\exomat\\anaconda3\\envs\\magisterka_analiza\\lib\\site-packages\\xgboost\\sklearn.py:888: UserWarning: The use of label encoder in XGBClassifier is deprecated and will be removed in a future release. To remove this warning, do the following: 1) Pass option use_label_encoder=False when constructing XGBClassifier object; and 2) Encode your labels (y) as integers starting with 0, i.e. 0, 1, 2, ..., [num_class - 1].\n",
      "  warnings.warn(label_encoder_deprecation_msg, UserWarning)\n"
     ]
    },
    {
     "name": "stdout",
     "output_type": "stream",
     "text": [
      "[19:57:30] WARNING: C:/Users/Administrator/workspace/xgboost-win64_release_1.3.0/src/learner.cc:1061: Starting in XGBoost 1.3.0, the default evaluation metric used with the objective 'multi:softprob' was changed from 'merror' to 'mlogloss'. Explicitly set eval_metric if you'd like to restore the old behavior.\n",
      "[19:57:41] WARNING: C:/Users/Administrator/workspace/xgboost-win64_release_1.3.0/src/learner.cc:1061: Starting in XGBoost 1.3.0, the default evaluation metric used with the objective 'multi:softprob' was changed from 'merror' to 'mlogloss'. Explicitly set eval_metric if you'd like to restore the old behavior.\n",
      "[19:57:42] WARNING: C:/Users/Administrator/workspace/xgboost-win64_release_1.3.0/src/learner.cc:1061: Starting in XGBoost 1.3.0, the default evaluation metric used with the objective 'multi:softprob' was changed from 'merror' to 'mlogloss'. Explicitly set eval_metric if you'd like to restore the old behavior.\n",
      "[19:57:49] WARNING: C:/Users/Administrator/workspace/xgboost-win64_release_1.3.0/src/learner.cc:1061: Starting in XGBoost 1.3.0, the default evaluation metric used with the objective 'multi:softprob' was changed from 'merror' to 'mlogloss'. Explicitly set eval_metric if you'd like to restore the old behavior.\n",
      "Calculate:  118\n"
     ]
    },
    {
     "name": "stderr",
     "output_type": "stream",
     "text": [
      "C:\\Users\\exomat\\anaconda3\\envs\\magisterka_analiza\\lib\\site-packages\\xgboost\\sklearn.py:888: UserWarning: The use of label encoder in XGBClassifier is deprecated and will be removed in a future release. To remove this warning, do the following: 1) Pass option use_label_encoder=False when constructing XGBClassifier object; and 2) Encode your labels (y) as integers starting with 0, i.e. 0, 1, 2, ..., [num_class - 1].\n",
      "  warnings.warn(label_encoder_deprecation_msg, UserWarning)\n"
     ]
    },
    {
     "name": "stdout",
     "output_type": "stream",
     "text": [
      "[20:00:45] WARNING: C:/Users/Administrator/workspace/xgboost-win64_release_1.3.0/src/learner.cc:1061: Starting in XGBoost 1.3.0, the default evaluation metric used with the objective 'multi:softprob' was changed from 'merror' to 'mlogloss'. Explicitly set eval_metric if you'd like to restore the old behavior.\n",
      "[20:00:56] WARNING: C:/Users/Administrator/workspace/xgboost-win64_release_1.3.0/src/learner.cc:1061: Starting in XGBoost 1.3.0, the default evaluation metric used with the objective 'multi:softprob' was changed from 'merror' to 'mlogloss'. Explicitly set eval_metric if you'd like to restore the old behavior.\n",
      "[20:00:57] WARNING: C:/Users/Administrator/workspace/xgboost-win64_release_1.3.0/src/learner.cc:1061: Starting in XGBoost 1.3.0, the default evaluation metric used with the objective 'multi:softprob' was changed from 'merror' to 'mlogloss'. Explicitly set eval_metric if you'd like to restore the old behavior.\n",
      "[20:01:04] WARNING: C:/Users/Administrator/workspace/xgboost-win64_release_1.3.0/src/learner.cc:1061: Starting in XGBoost 1.3.0, the default evaluation metric used with the objective 'multi:softprob' was changed from 'merror' to 'mlogloss'. Explicitly set eval_metric if you'd like to restore the old behavior.\n",
      "Calculate:  119\n"
     ]
    },
    {
     "name": "stderr",
     "output_type": "stream",
     "text": [
      "C:\\Users\\exomat\\anaconda3\\envs\\magisterka_analiza\\lib\\site-packages\\xgboost\\sklearn.py:888: UserWarning: The use of label encoder in XGBClassifier is deprecated and will be removed in a future release. To remove this warning, do the following: 1) Pass option use_label_encoder=False when constructing XGBClassifier object; and 2) Encode your labels (y) as integers starting with 0, i.e. 0, 1, 2, ..., [num_class - 1].\n",
      "  warnings.warn(label_encoder_deprecation_msg, UserWarning)\n"
     ]
    },
    {
     "name": "stdout",
     "output_type": "stream",
     "text": [
      "[20:04:02] WARNING: C:/Users/Administrator/workspace/xgboost-win64_release_1.3.0/src/learner.cc:1061: Starting in XGBoost 1.3.0, the default evaluation metric used with the objective 'multi:softprob' was changed from 'merror' to 'mlogloss'. Explicitly set eval_metric if you'd like to restore the old behavior.\n",
      "[20:04:13] WARNING: C:/Users/Administrator/workspace/xgboost-win64_release_1.3.0/src/learner.cc:1061: Starting in XGBoost 1.3.0, the default evaluation metric used with the objective 'multi:softprob' was changed from 'merror' to 'mlogloss'. Explicitly set eval_metric if you'd like to restore the old behavior.\n",
      "[20:04:13] WARNING: C:/Users/Administrator/workspace/xgboost-win64_release_1.3.0/src/learner.cc:1061: Starting in XGBoost 1.3.0, the default evaluation metric used with the objective 'multi:softprob' was changed from 'merror' to 'mlogloss'. Explicitly set eval_metric if you'd like to restore the old behavior.\n",
      "[20:04:21] WARNING: C:/Users/Administrator/workspace/xgboost-win64_release_1.3.0/src/learner.cc:1061: Starting in XGBoost 1.3.0, the default evaluation metric used with the objective 'multi:softprob' was changed from 'merror' to 'mlogloss'. Explicitly set eval_metric if you'd like to restore the old behavior.\n",
      "Calculate:  120\n"
     ]
    },
    {
     "name": "stderr",
     "output_type": "stream",
     "text": [
      "C:\\Users\\exomat\\anaconda3\\envs\\magisterka_analiza\\lib\\site-packages\\xgboost\\sklearn.py:888: UserWarning: The use of label encoder in XGBClassifier is deprecated and will be removed in a future release. To remove this warning, do the following: 1) Pass option use_label_encoder=False when constructing XGBClassifier object; and 2) Encode your labels (y) as integers starting with 0, i.e. 0, 1, 2, ..., [num_class - 1].\n",
      "  warnings.warn(label_encoder_deprecation_msg, UserWarning)\n"
     ]
    },
    {
     "name": "stdout",
     "output_type": "stream",
     "text": [
      "[20:07:20] WARNING: C:/Users/Administrator/workspace/xgboost-win64_release_1.3.0/src/learner.cc:1061: Starting in XGBoost 1.3.0, the default evaluation metric used with the objective 'multi:softprob' was changed from 'merror' to 'mlogloss'. Explicitly set eval_metric if you'd like to restore the old behavior.\n",
      "[20:07:31] WARNING: C:/Users/Administrator/workspace/xgboost-win64_release_1.3.0/src/learner.cc:1061: Starting in XGBoost 1.3.0, the default evaluation metric used with the objective 'multi:softprob' was changed from 'merror' to 'mlogloss'. Explicitly set eval_metric if you'd like to restore the old behavior.\n",
      "[20:07:31] WARNING: C:/Users/Administrator/workspace/xgboost-win64_release_1.3.0/src/learner.cc:1061: Starting in XGBoost 1.3.0, the default evaluation metric used with the objective 'multi:softprob' was changed from 'merror' to 'mlogloss'. Explicitly set eval_metric if you'd like to restore the old behavior.\n",
      "[20:07:39] WARNING: C:/Users/Administrator/workspace/xgboost-win64_release_1.3.0/src/learner.cc:1061: Starting in XGBoost 1.3.0, the default evaluation metric used with the objective 'multi:softprob' was changed from 'merror' to 'mlogloss'. Explicitly set eval_metric if you'd like to restore the old behavior.\n",
      "Calculate:  121\n"
     ]
    },
    {
     "name": "stderr",
     "output_type": "stream",
     "text": [
      "C:\\Users\\exomat\\anaconda3\\envs\\magisterka_analiza\\lib\\site-packages\\xgboost\\sklearn.py:888: UserWarning: The use of label encoder in XGBClassifier is deprecated and will be removed in a future release. To remove this warning, do the following: 1) Pass option use_label_encoder=False when constructing XGBClassifier object; and 2) Encode your labels (y) as integers starting with 0, i.e. 0, 1, 2, ..., [num_class - 1].\n",
      "  warnings.warn(label_encoder_deprecation_msg, UserWarning)\n"
     ]
    },
    {
     "name": "stdout",
     "output_type": "stream",
     "text": [
      "[20:10:39] WARNING: C:/Users/Administrator/workspace/xgboost-win64_release_1.3.0/src/learner.cc:1061: Starting in XGBoost 1.3.0, the default evaluation metric used with the objective 'multi:softprob' was changed from 'merror' to 'mlogloss'. Explicitly set eval_metric if you'd like to restore the old behavior.\n",
      "[20:10:51] WARNING: C:/Users/Administrator/workspace/xgboost-win64_release_1.3.0/src/learner.cc:1061: Starting in XGBoost 1.3.0, the default evaluation metric used with the objective 'multi:softprob' was changed from 'merror' to 'mlogloss'. Explicitly set eval_metric if you'd like to restore the old behavior.\n",
      "[20:10:51] WARNING: C:/Users/Administrator/workspace/xgboost-win64_release_1.3.0/src/learner.cc:1061: Starting in XGBoost 1.3.0, the default evaluation metric used with the objective 'multi:softprob' was changed from 'merror' to 'mlogloss'. Explicitly set eval_metric if you'd like to restore the old behavior.\n",
      "[20:10:59] WARNING: C:/Users/Administrator/workspace/xgboost-win64_release_1.3.0/src/learner.cc:1061: Starting in XGBoost 1.3.0, the default evaluation metric used with the objective 'multi:softprob' was changed from 'merror' to 'mlogloss'. Explicitly set eval_metric if you'd like to restore the old behavior.\n",
      "Calculate:  122\n"
     ]
    },
    {
     "name": "stderr",
     "output_type": "stream",
     "text": [
      "C:\\Users\\exomat\\anaconda3\\envs\\magisterka_analiza\\lib\\site-packages\\xgboost\\sklearn.py:888: UserWarning: The use of label encoder in XGBClassifier is deprecated and will be removed in a future release. To remove this warning, do the following: 1) Pass option use_label_encoder=False when constructing XGBClassifier object; and 2) Encode your labels (y) as integers starting with 0, i.e. 0, 1, 2, ..., [num_class - 1].\n",
      "  warnings.warn(label_encoder_deprecation_msg, UserWarning)\n"
     ]
    },
    {
     "name": "stdout",
     "output_type": "stream",
     "text": [
      "[20:14:00] WARNING: C:/Users/Administrator/workspace/xgboost-win64_release_1.3.0/src/learner.cc:1061: Starting in XGBoost 1.3.0, the default evaluation metric used with the objective 'multi:softprob' was changed from 'merror' to 'mlogloss'. Explicitly set eval_metric if you'd like to restore the old behavior.\n",
      "[20:14:11] WARNING: C:/Users/Administrator/workspace/xgboost-win64_release_1.3.0/src/learner.cc:1061: Starting in XGBoost 1.3.0, the default evaluation metric used with the objective 'multi:softprob' was changed from 'merror' to 'mlogloss'. Explicitly set eval_metric if you'd like to restore the old behavior.\n",
      "[20:14:12] WARNING: C:/Users/Administrator/workspace/xgboost-win64_release_1.3.0/src/learner.cc:1061: Starting in XGBoost 1.3.0, the default evaluation metric used with the objective 'multi:softprob' was changed from 'merror' to 'mlogloss'. Explicitly set eval_metric if you'd like to restore the old behavior.\n",
      "[20:14:20] WARNING: C:/Users/Administrator/workspace/xgboost-win64_release_1.3.0/src/learner.cc:1061: Starting in XGBoost 1.3.0, the default evaluation metric used with the objective 'multi:softprob' was changed from 'merror' to 'mlogloss'. Explicitly set eval_metric if you'd like to restore the old behavior.\n",
      "Calculate:  123\n"
     ]
    },
    {
     "name": "stderr",
     "output_type": "stream",
     "text": [
      "C:\\Users\\exomat\\anaconda3\\envs\\magisterka_analiza\\lib\\site-packages\\xgboost\\sklearn.py:888: UserWarning: The use of label encoder in XGBClassifier is deprecated and will be removed in a future release. To remove this warning, do the following: 1) Pass option use_label_encoder=False when constructing XGBClassifier object; and 2) Encode your labels (y) as integers starting with 0, i.e. 0, 1, 2, ..., [num_class - 1].\n",
      "  warnings.warn(label_encoder_deprecation_msg, UserWarning)\n"
     ]
    },
    {
     "name": "stdout",
     "output_type": "stream",
     "text": [
      "[20:17:23] WARNING: C:/Users/Administrator/workspace/xgboost-win64_release_1.3.0/src/learner.cc:1061: Starting in XGBoost 1.3.0, the default evaluation metric used with the objective 'multi:softprob' was changed from 'merror' to 'mlogloss'. Explicitly set eval_metric if you'd like to restore the old behavior.\n",
      "[20:17:34] WARNING: C:/Users/Administrator/workspace/xgboost-win64_release_1.3.0/src/learner.cc:1061: Starting in XGBoost 1.3.0, the default evaluation metric used with the objective 'multi:softprob' was changed from 'merror' to 'mlogloss'. Explicitly set eval_metric if you'd like to restore the old behavior.\n",
      "[20:17:35] WARNING: C:/Users/Administrator/workspace/xgboost-win64_release_1.3.0/src/learner.cc:1061: Starting in XGBoost 1.3.0, the default evaluation metric used with the objective 'multi:softprob' was changed from 'merror' to 'mlogloss'. Explicitly set eval_metric if you'd like to restore the old behavior.\n",
      "[20:17:42] WARNING: C:/Users/Administrator/workspace/xgboost-win64_release_1.3.0/src/learner.cc:1061: Starting in XGBoost 1.3.0, the default evaluation metric used with the objective 'multi:softprob' was changed from 'merror' to 'mlogloss'. Explicitly set eval_metric if you'd like to restore the old behavior.\n",
      "Calculate:  124\n"
     ]
    },
    {
     "name": "stderr",
     "output_type": "stream",
     "text": [
      "C:\\Users\\exomat\\anaconda3\\envs\\magisterka_analiza\\lib\\site-packages\\xgboost\\sklearn.py:888: UserWarning: The use of label encoder in XGBClassifier is deprecated and will be removed in a future release. To remove this warning, do the following: 1) Pass option use_label_encoder=False when constructing XGBClassifier object; and 2) Encode your labels (y) as integers starting with 0, i.e. 0, 1, 2, ..., [num_class - 1].\n",
      "  warnings.warn(label_encoder_deprecation_msg, UserWarning)\n"
     ]
    },
    {
     "name": "stdout",
     "output_type": "stream",
     "text": [
      "[20:20:47] WARNING: C:/Users/Administrator/workspace/xgboost-win64_release_1.3.0/src/learner.cc:1061: Starting in XGBoost 1.3.0, the default evaluation metric used with the objective 'multi:softprob' was changed from 'merror' to 'mlogloss'. Explicitly set eval_metric if you'd like to restore the old behavior.\n",
      "[20:20:59] WARNING: C:/Users/Administrator/workspace/xgboost-win64_release_1.3.0/src/learner.cc:1061: Starting in XGBoost 1.3.0, the default evaluation metric used with the objective 'multi:softprob' was changed from 'merror' to 'mlogloss'. Explicitly set eval_metric if you'd like to restore the old behavior.\n",
      "[20:20:59] WARNING: C:/Users/Administrator/workspace/xgboost-win64_release_1.3.0/src/learner.cc:1061: Starting in XGBoost 1.3.0, the default evaluation metric used with the objective 'multi:softprob' was changed from 'merror' to 'mlogloss'. Explicitly set eval_metric if you'd like to restore the old behavior.\n",
      "[20:21:07] WARNING: C:/Users/Administrator/workspace/xgboost-win64_release_1.3.0/src/learner.cc:1061: Starting in XGBoost 1.3.0, the default evaluation metric used with the objective 'multi:softprob' was changed from 'merror' to 'mlogloss'. Explicitly set eval_metric if you'd like to restore the old behavior.\n",
      "Calculate:  125\n"
     ]
    },
    {
     "name": "stderr",
     "output_type": "stream",
     "text": [
      "C:\\Users\\exomat\\anaconda3\\envs\\magisterka_analiza\\lib\\site-packages\\xgboost\\sklearn.py:888: UserWarning: The use of label encoder in XGBClassifier is deprecated and will be removed in a future release. To remove this warning, do the following: 1) Pass option use_label_encoder=False when constructing XGBClassifier object; and 2) Encode your labels (y) as integers starting with 0, i.e. 0, 1, 2, ..., [num_class - 1].\n",
      "  warnings.warn(label_encoder_deprecation_msg, UserWarning)\n"
     ]
    },
    {
     "name": "stdout",
     "output_type": "stream",
     "text": [
      "[20:24:13] WARNING: C:/Users/Administrator/workspace/xgboost-win64_release_1.3.0/src/learner.cc:1061: Starting in XGBoost 1.3.0, the default evaluation metric used with the objective 'multi:softprob' was changed from 'merror' to 'mlogloss'. Explicitly set eval_metric if you'd like to restore the old behavior.\n",
      "[20:24:25] WARNING: C:/Users/Administrator/workspace/xgboost-win64_release_1.3.0/src/learner.cc:1061: Starting in XGBoost 1.3.0, the default evaluation metric used with the objective 'multi:softprob' was changed from 'merror' to 'mlogloss'. Explicitly set eval_metric if you'd like to restore the old behavior.\n",
      "[20:24:26] WARNING: C:/Users/Administrator/workspace/xgboost-win64_release_1.3.0/src/learner.cc:1061: Starting in XGBoost 1.3.0, the default evaluation metric used with the objective 'multi:softprob' was changed from 'merror' to 'mlogloss'. Explicitly set eval_metric if you'd like to restore the old behavior.\n",
      "[20:24:33] WARNING: C:/Users/Administrator/workspace/xgboost-win64_release_1.3.0/src/learner.cc:1061: Starting in XGBoost 1.3.0, the default evaluation metric used with the objective 'multi:softprob' was changed from 'merror' to 'mlogloss'. Explicitly set eval_metric if you'd like to restore the old behavior.\n",
      "Calculate:  126\n"
     ]
    },
    {
     "name": "stderr",
     "output_type": "stream",
     "text": [
      "C:\\Users\\exomat\\anaconda3\\envs\\magisterka_analiza\\lib\\site-packages\\xgboost\\sklearn.py:888: UserWarning: The use of label encoder in XGBClassifier is deprecated and will be removed in a future release. To remove this warning, do the following: 1) Pass option use_label_encoder=False when constructing XGBClassifier object; and 2) Encode your labels (y) as integers starting with 0, i.e. 0, 1, 2, ..., [num_class - 1].\n",
      "  warnings.warn(label_encoder_deprecation_msg, UserWarning)\n"
     ]
    },
    {
     "name": "stdout",
     "output_type": "stream",
     "text": [
      "[20:27:41] WARNING: C:/Users/Administrator/workspace/xgboost-win64_release_1.3.0/src/learner.cc:1061: Starting in XGBoost 1.3.0, the default evaluation metric used with the objective 'multi:softprob' was changed from 'merror' to 'mlogloss'. Explicitly set eval_metric if you'd like to restore the old behavior.\n",
      "[20:27:53] WARNING: C:/Users/Administrator/workspace/xgboost-win64_release_1.3.0/src/learner.cc:1061: Starting in XGBoost 1.3.0, the default evaluation metric used with the objective 'multi:softprob' was changed from 'merror' to 'mlogloss'. Explicitly set eval_metric if you'd like to restore the old behavior.\n",
      "[20:27:54] WARNING: C:/Users/Administrator/workspace/xgboost-win64_release_1.3.0/src/learner.cc:1061: Starting in XGBoost 1.3.0, the default evaluation metric used with the objective 'multi:softprob' was changed from 'merror' to 'mlogloss'. Explicitly set eval_metric if you'd like to restore the old behavior.\n",
      "[20:28:01] WARNING: C:/Users/Administrator/workspace/xgboost-win64_release_1.3.0/src/learner.cc:1061: Starting in XGBoost 1.3.0, the default evaluation metric used with the objective 'multi:softprob' was changed from 'merror' to 'mlogloss'. Explicitly set eval_metric if you'd like to restore the old behavior.\n",
      "Calculate:  127\n"
     ]
    },
    {
     "name": "stderr",
     "output_type": "stream",
     "text": [
      "C:\\Users\\exomat\\anaconda3\\envs\\magisterka_analiza\\lib\\site-packages\\xgboost\\sklearn.py:888: UserWarning: The use of label encoder in XGBClassifier is deprecated and will be removed in a future release. To remove this warning, do the following: 1) Pass option use_label_encoder=False when constructing XGBClassifier object; and 2) Encode your labels (y) as integers starting with 0, i.e. 0, 1, 2, ..., [num_class - 1].\n",
      "  warnings.warn(label_encoder_deprecation_msg, UserWarning)\n"
     ]
    },
    {
     "name": "stdout",
     "output_type": "stream",
     "text": [
      "[20:31:11] WARNING: C:/Users/Administrator/workspace/xgboost-win64_release_1.3.0/src/learner.cc:1061: Starting in XGBoost 1.3.0, the default evaluation metric used with the objective 'multi:softprob' was changed from 'merror' to 'mlogloss'. Explicitly set eval_metric if you'd like to restore the old behavior.\n",
      "[20:31:23] WARNING: C:/Users/Administrator/workspace/xgboost-win64_release_1.3.0/src/learner.cc:1061: Starting in XGBoost 1.3.0, the default evaluation metric used with the objective 'multi:softprob' was changed from 'merror' to 'mlogloss'. Explicitly set eval_metric if you'd like to restore the old behavior.\n",
      "[20:31:24] WARNING: C:/Users/Administrator/workspace/xgboost-win64_release_1.3.0/src/learner.cc:1061: Starting in XGBoost 1.3.0, the default evaluation metric used with the objective 'multi:softprob' was changed from 'merror' to 'mlogloss'. Explicitly set eval_metric if you'd like to restore the old behavior.\n",
      "[20:31:32] WARNING: C:/Users/Administrator/workspace/xgboost-win64_release_1.3.0/src/learner.cc:1061: Starting in XGBoost 1.3.0, the default evaluation metric used with the objective 'multi:softprob' was changed from 'merror' to 'mlogloss'. Explicitly set eval_metric if you'd like to restore the old behavior.\n",
      "Calculate:  128\n"
     ]
    },
    {
     "name": "stderr",
     "output_type": "stream",
     "text": [
      "C:\\Users\\exomat\\anaconda3\\envs\\magisterka_analiza\\lib\\site-packages\\xgboost\\sklearn.py:888: UserWarning: The use of label encoder in XGBClassifier is deprecated and will be removed in a future release. To remove this warning, do the following: 1) Pass option use_label_encoder=False when constructing XGBClassifier object; and 2) Encode your labels (y) as integers starting with 0, i.e. 0, 1, 2, ..., [num_class - 1].\n",
      "  warnings.warn(label_encoder_deprecation_msg, UserWarning)\n"
     ]
    },
    {
     "name": "stdout",
     "output_type": "stream",
     "text": [
      "[20:34:43] WARNING: C:/Users/Administrator/workspace/xgboost-win64_release_1.3.0/src/learner.cc:1061: Starting in XGBoost 1.3.0, the default evaluation metric used with the objective 'multi:softprob' was changed from 'merror' to 'mlogloss'. Explicitly set eval_metric if you'd like to restore the old behavior.\n",
      "[20:34:54] WARNING: C:/Users/Administrator/workspace/xgboost-win64_release_1.3.0/src/learner.cc:1061: Starting in XGBoost 1.3.0, the default evaluation metric used with the objective 'multi:softprob' was changed from 'merror' to 'mlogloss'. Explicitly set eval_metric if you'd like to restore the old behavior.\n",
      "[20:34:55] WARNING: C:/Users/Administrator/workspace/xgboost-win64_release_1.3.0/src/learner.cc:1061: Starting in XGBoost 1.3.0, the default evaluation metric used with the objective 'multi:softprob' was changed from 'merror' to 'mlogloss'. Explicitly set eval_metric if you'd like to restore the old behavior.\n",
      "[20:35:04] WARNING: C:/Users/Administrator/workspace/xgboost-win64_release_1.3.0/src/learner.cc:1061: Starting in XGBoost 1.3.0, the default evaluation metric used with the objective 'multi:softprob' was changed from 'merror' to 'mlogloss'. Explicitly set eval_metric if you'd like to restore the old behavior.\n",
      "Calculate:  129\n"
     ]
    },
    {
     "name": "stderr",
     "output_type": "stream",
     "text": [
      "C:\\Users\\exomat\\anaconda3\\envs\\magisterka_analiza\\lib\\site-packages\\xgboost\\sklearn.py:888: UserWarning: The use of label encoder in XGBClassifier is deprecated and will be removed in a future release. To remove this warning, do the following: 1) Pass option use_label_encoder=False when constructing XGBClassifier object; and 2) Encode your labels (y) as integers starting with 0, i.e. 0, 1, 2, ..., [num_class - 1].\n",
      "  warnings.warn(label_encoder_deprecation_msg, UserWarning)\n"
     ]
    },
    {
     "name": "stdout",
     "output_type": "stream",
     "text": [
      "[20:38:17] WARNING: C:/Users/Administrator/workspace/xgboost-win64_release_1.3.0/src/learner.cc:1061: Starting in XGBoost 1.3.0, the default evaluation metric used with the objective 'multi:softprob' was changed from 'merror' to 'mlogloss'. Explicitly set eval_metric if you'd like to restore the old behavior.\n",
      "[20:38:29] WARNING: C:/Users/Administrator/workspace/xgboost-win64_release_1.3.0/src/learner.cc:1061: Starting in XGBoost 1.3.0, the default evaluation metric used with the objective 'multi:softprob' was changed from 'merror' to 'mlogloss'. Explicitly set eval_metric if you'd like to restore the old behavior.\n",
      "[20:38:30] WARNING: C:/Users/Administrator/workspace/xgboost-win64_release_1.3.0/src/learner.cc:1061: Starting in XGBoost 1.3.0, the default evaluation metric used with the objective 'multi:softprob' was changed from 'merror' to 'mlogloss'. Explicitly set eval_metric if you'd like to restore the old behavior.\n",
      "[20:38:38] WARNING: C:/Users/Administrator/workspace/xgboost-win64_release_1.3.0/src/learner.cc:1061: Starting in XGBoost 1.3.0, the default evaluation metric used with the objective 'multi:softprob' was changed from 'merror' to 'mlogloss'. Explicitly set eval_metric if you'd like to restore the old behavior.\n",
      "Calculate:  130\n"
     ]
    },
    {
     "name": "stderr",
     "output_type": "stream",
     "text": [
      "C:\\Users\\exomat\\anaconda3\\envs\\magisterka_analiza\\lib\\site-packages\\xgboost\\sklearn.py:888: UserWarning: The use of label encoder in XGBClassifier is deprecated and will be removed in a future release. To remove this warning, do the following: 1) Pass option use_label_encoder=False when constructing XGBClassifier object; and 2) Encode your labels (y) as integers starting with 0, i.e. 0, 1, 2, ..., [num_class - 1].\n",
      "  warnings.warn(label_encoder_deprecation_msg, UserWarning)\n"
     ]
    },
    {
     "name": "stdout",
     "output_type": "stream",
     "text": [
      "[20:41:53] WARNING: C:/Users/Administrator/workspace/xgboost-win64_release_1.3.0/src/learner.cc:1061: Starting in XGBoost 1.3.0, the default evaluation metric used with the objective 'multi:softprob' was changed from 'merror' to 'mlogloss'. Explicitly set eval_metric if you'd like to restore the old behavior.\n",
      "[20:42:05] WARNING: C:/Users/Administrator/workspace/xgboost-win64_release_1.3.0/src/learner.cc:1061: Starting in XGBoost 1.3.0, the default evaluation metric used with the objective 'multi:softprob' was changed from 'merror' to 'mlogloss'. Explicitly set eval_metric if you'd like to restore the old behavior.\n",
      "[20:42:06] WARNING: C:/Users/Administrator/workspace/xgboost-win64_release_1.3.0/src/learner.cc:1061: Starting in XGBoost 1.3.0, the default evaluation metric used with the objective 'multi:softprob' was changed from 'merror' to 'mlogloss'. Explicitly set eval_metric if you'd like to restore the old behavior.\n",
      "[20:42:13] WARNING: C:/Users/Administrator/workspace/xgboost-win64_release_1.3.0/src/learner.cc:1061: Starting in XGBoost 1.3.0, the default evaluation metric used with the objective 'multi:softprob' was changed from 'merror' to 'mlogloss'. Explicitly set eval_metric if you'd like to restore the old behavior.\n"
     ]
    }
   ],
   "source": [
    "first_row = 99\n",
    "start = 100\n",
    "start_data = splited_dataframe[:first_row + 1]\n",
    "next_data = splited_dataframe[first_row + 1:first_row + 1 + 31]\n",
    "print(len(next_data))\n",
    "score = defaultdict(list)\n",
    "points = defaultdict(list)\n",
    "points_train = defaultdict(list)\n",
    "score_train = defaultdict(list)\n",
    "step_headers = []\n",
    "i = 0\n",
    "print(\"start\")\n",
    "for idx, day in enumerate(next_data):\n",
    "    first_row += 1\n",
    "    start_data.append(day)\n",
    "    data_set = pd.concat(start_data)\n",
    "    data_set = create_class(data_set)\n",
    "    y = data_set['class_column']\n",
    "    features = [x for x in data_set.columns if x not in ['class_column']]\n",
    "    x = data_set[features]\n",
    "    x_train = x.iloc[:-17]\n",
    "    y_train = y.iloc[:-17]\n",
    "    x_test = x.iloc[-17:]\n",
    "    y_test = y.iloc[-17:]\n",
    "\n",
    "    i = i + 1\n",
    "    predictions_train = dict()\n",
    "    predictions = dict()\n",
    "    print(\"Calculate: \", first_row)\n",
    "    for k, v in classifiers.items():\n",
    "        train_model(v, x_train, y_train)\n",
    "        # predictions_train[k] = v.predict(x_train)\n",
    "        # score_train[k].append(accuracy_score(y_train.values, predictions_train[k]))\n",
    "\n",
    "        predicted_class = v.predict(x_test)\n",
    "        for idx, el in enumerate(predicted_class):\n",
    "            score[k].append(calculate_change(el, y_test[idx], (first_row*17)+idx))\n",
    "    #\n",
    "    # rfe = RFE(classifiers['XGBRFClassifier 1'], 10)\n",
    "    # fited = rfe.fit(x_train, y_train)\n",
    "    # names = x.columns\n",
    "    # columns = []\n",
    "    # for i in range(len(fited.support_)):\n",
    "    #     if fited.support_[i]:\n",
    "    #         columns.append(names[i])\n",
    "    #\n",
    "    # print(\"Columns with predictive power:\", columns)\n",
    "    # columns = columns + ['high', 'low', 'volume', 'open']\n",
    "    # x_test_cropped = x_test[columns]\n",
    "    # x_train_cropped = x_train[columns]\n",
    "    # x_test_cropped = x_test_cropped.loc[:, ~x_test_cropped.columns.duplicated()]\n",
    "    # x_train_cropped = x_train_cropped.loc[:, ~x_train_cropped.columns.duplicated()]\n",
    "    # for k, v in classifiers_boosted.items():\n",
    "    #     print(\"Calculate: \", k)\n",
    "    #     train_model(v, x_train, y_train)\n",
    "    #     predicted_class = v.predict(x_test)\n",
    "    #     for idx, el in enumerate(predicted_class):\n",
    "    #         score[k].append(calculate_change(el, y_test[idx], (first_row*17)+idx))\n",
    "    #\n",
    "\n",
    "\n"
   ],
   "metadata": {
    "collapsed": false,
    "pycharm": {
     "name": "#%%\n"
    }
   }
  },
  {
   "cell_type": "code",
   "execution_count": 71,
   "outputs": [
    {
     "data": {
      "text/plain": "527"
     },
     "execution_count": 71,
     "metadata": {},
     "output_type": "execute_result"
    }
   ],
   "source": [
    "len(score['DecisionTreeClassifier 1'])"
   ],
   "metadata": {
    "collapsed": false,
    "pycharm": {
     "name": "#%%\n"
    }
   }
  },
  {
   "cell_type": "code",
   "execution_count": 72,
   "outputs": [
    {
     "data": {
      "text/plain": "527"
     },
     "execution_count": 72,
     "metadata": {},
     "output_type": "execute_result"
    }
   ],
   "source": [
    "step_headers.clear()\n",
    "for a in range(start,start + 31):\n",
    "    for b in range (1,18):\n",
    "        step_headers.append(f'<{a},{b}>')\n",
    "len(step_headers)"
   ],
   "metadata": {
    "collapsed": false,
    "pycharm": {
     "name": "#%%\n"
    }
   }
  },
  {
   "cell_type": "code",
   "execution_count": 73,
   "outputs": [
    {
     "name": "stdout",
     "output_type": "stream",
     "text": [
      "+----+------------------------------+-----------+-----------+-----------+-----------+-----------+-----------+-----------+-----------+-------------+------------+------------+------------+------------+------------+------------+------------+------------+-----------+-----------+-----------+-----------+-----------+-----------+-----------+-----------+-----------+------------+------------+------------+------------+------------+------------+------------+------------+-----------+-----------+-----------+-----------+-----------+-----------+-----------+-----------+-----------+------------+------------+------------+------------+------------+------------+------------+------------+-----------+-----------+-----------+-----------+-----------+-----------+-----------+-----------+-----------+------------+------------+------------+------------+------------+------------+------------+------------+-----------+-----------+-----------+-----------+-----------+-----------+-----------+-----------+-----------+------------+------------+------------+------------+------------+------------+------------+------------+-----------+-----------+-----------+-----------+-----------+-----------+-----------+-----------+-----------+------------+------------+------------+------------+------------+------------+------------+------------+-----------+-----------+-----------+-----------+-----------+-----------+-----------+-----------+-----------+------------+------------+------------+------------+------------+------------+------------+------------+-----------+-----------+-----------+-----------+-----------+-----------+-----------+-----------+-----------+------------+------------+------------+------------+------------+------------+------------+------------+-----------+-----------+-----------+-----------+-----------+-----------+-----------+-----------+-----------+------------+------------+------------+------------+------------+------------+------------+------------+-----------+-----------+-----------+-----------+-----------+-----------+-----------+-----------+-----------+------------+------------+------------+------------+------------+------------+------------+------------+-----------+-----------+-----------+-----------+-----------+-----------+-----------+-----------+-----------+------------+------------+------------+------------+------------+------------+------------+------------+-----------+-----------+-----------+-----------+-----------+-----------+-----------+-----------+-----------+------------+------------+------------+------------+------------+------------+------------+------------+-----------+-----------+-----------+-----------+-----------+-----------+-----------+-----------+-----------+------------+------------+------------+------------+------------+------------+------------+------------+-----------+-----------+-----------+-----------+-----------+-----------+-----------+-----------+-----------+------------+------------+------------+------------+------------+------------+------------+------------+-----------+-----------+-----------+-----------+-----------+-----------+-----------+-----------+-----------+------------+------------+------------+------------+------------+------------+------------+------------+-----------+-----------+-----------+-----------+-----------+-----------+-----------+-----------+-----------+------------+------------+------------+------------+------------+------------+------------+------------+-----------+-----------+-----------+-----------+-----------+-----------+-----------+-----------+-----------+------------+------------+------------+------------+------------+------------+------------+------------+-----------+-----------+-----------+-----------+-----------+-----------+-----------+-----------+-----------+------------+------------+------------+------------+------------+------------+------------+------------+-----------+-----------+-----------+-----------+-----------+-----------+-----------+-----------+-----------+------------+------------+------------+------------+------------+------------+------------+------------+-----------+-----------+-----------+-----------+-----------+-----------+-----------+-----------+-----------+------------+------------+------------+------------+------------+------------+------------+------------+-----------+-----------+-----------+-----------+-----------+-----------+-----------+-----------+-----------+------------+------------+------------+------------+------------+------------+------------+------------+-----------+-----------+-----------+-----------+-----------+-----------+-----------+-----------+-----------+------------+------------+------------+------------+------------+------------+------------+------------+-----------+-----------+-----------+-----------+-----------+-----------+-----------+-----------+-----------+------------+------------+------------+------------+------------+------------+------------+------------+-----------+-----------+-----------+-----------+-----------+-----------+-----------+-----------+-----------+------------+------------+------------+------------+------------+------------+------------+------------+-----------+-----------+-----------+-----------+-----------+-----------+-----------+-----------+-----------+------------+------------+------------+------------+------------+------------+------------+------------+-----------+-----------+-----------+-----------+-----------+-----------+-----------+-----------+-----------+------------+------------+------------+------------+------------+------------+------------+------------+-----------+-----------+-----------+-----------+-----------+-----------+-----------+-----------+-----------+------------+------------+------------+------------+------------+------------+------------+------------+-----------+-----------+-----------+-----------+-----------+-----------+-----------+-----------+-----------+------------+------------+------------+------------+------------+------------+------------+------------+-----------+-----------+-----------+-----------+-----------+-----------+-----------+-----------+-----------+------------+------------+------------+------------+------------+------------+------------+------------+-----------+-----------+-----------+-----------+-----------+-----------+-----------+-----------+-----------+------------+------------+------------+------------+------------+------------+------------+------------+-----------+-----------+-----------+-----------+-----------+-----------+-----------+-----------+-----------+------------+------------+------------+------------+------------+------------+------------+------------+-----------+\n",
      "|    | Classifier type              |   <100,1> |   <100,2> |   <100,3> |   <100,4> |   <100,5> |   <100,6> |   <100,7> |   <100,8> |     <100,9> |   <100,10> |   <100,11> |   <100,12> |   <100,13> |   <100,14> |   <100,15> |   <100,16> |   <100,17> |   <101,1> |   <101,2> |   <101,3> |   <101,4> |   <101,5> |   <101,6> |   <101,7> |   <101,8> |   <101,9> |   <101,10> |   <101,11> |   <101,12> |   <101,13> |   <101,14> |   <101,15> |   <101,16> |   <101,17> |   <102,1> |   <102,2> |   <102,3> |   <102,4> |   <102,5> |   <102,6> |   <102,7> |   <102,8> |   <102,9> |   <102,10> |   <102,11> |   <102,12> |   <102,13> |   <102,14> |   <102,15> |   <102,16> |   <102,17> |   <103,1> |   <103,2> |   <103,3> |   <103,4> |   <103,5> |   <103,6> |   <103,7> |   <103,8> |   <103,9> |   <103,10> |   <103,11> |   <103,12> |   <103,13> |   <103,14> |   <103,15> |   <103,16> |   <103,17> |   <104,1> |   <104,2> |   <104,3> |   <104,4> |   <104,5> |   <104,6> |   <104,7> |   <104,8> |   <104,9> |   <104,10> |   <104,11> |   <104,12> |   <104,13> |   <104,14> |   <104,15> |   <104,16> |   <104,17> |   <105,1> |   <105,2> |   <105,3> |   <105,4> |   <105,5> |   <105,6> |   <105,7> |   <105,8> |   <105,9> |   <105,10> |   <105,11> |   <105,12> |   <105,13> |   <105,14> |   <105,15> |   <105,16> |   <105,17> |   <106,1> |   <106,2> |   <106,3> |   <106,4> |   <106,5> |   <106,6> |   <106,7> |   <106,8> |   <106,9> |   <106,10> |   <106,11> |   <106,12> |   <106,13> |   <106,14> |   <106,15> |   <106,16> |   <106,17> |   <107,1> |   <107,2> |   <107,3> |   <107,4> |   <107,5> |   <107,6> |   <107,7> |   <107,8> |   <107,9> |   <107,10> |   <107,11> |   <107,12> |   <107,13> |   <107,14> |   <107,15> |   <107,16> |   <107,17> |   <108,1> |   <108,2> |   <108,3> |   <108,4> |   <108,5> |   <108,6> |   <108,7> |   <108,8> |   <108,9> |   <108,10> |   <108,11> |   <108,12> |   <108,13> |   <108,14> |   <108,15> |   <108,16> |   <108,17> |   <109,1> |   <109,2> |   <109,3> |   <109,4> |   <109,5> |   <109,6> |   <109,7> |   <109,8> |   <109,9> |   <109,10> |   <109,11> |   <109,12> |   <109,13> |   <109,14> |   <109,15> |   <109,16> |   <109,17> |   <110,1> |   <110,2> |   <110,3> |   <110,4> |   <110,5> |   <110,6> |   <110,7> |   <110,8> |   <110,9> |   <110,10> |   <110,11> |   <110,12> |   <110,13> |   <110,14> |   <110,15> |   <110,16> |   <110,17> |   <111,1> |   <111,2> |   <111,3> |   <111,4> |   <111,5> |   <111,6> |   <111,7> |   <111,8> |   <111,9> |   <111,10> |   <111,11> |   <111,12> |   <111,13> |   <111,14> |   <111,15> |   <111,16> |   <111,17> |   <112,1> |   <112,2> |   <112,3> |   <112,4> |   <112,5> |   <112,6> |   <112,7> |   <112,8> |   <112,9> |   <112,10> |   <112,11> |   <112,12> |   <112,13> |   <112,14> |   <112,15> |   <112,16> |   <112,17> |   <113,1> |   <113,2> |   <113,3> |   <113,4> |   <113,5> |   <113,6> |   <113,7> |   <113,8> |   <113,9> |   <113,10> |   <113,11> |   <113,12> |   <113,13> |   <113,14> |   <113,15> |   <113,16> |   <113,17> |   <114,1> |   <114,2> |   <114,3> |   <114,4> |   <114,5> |   <114,6> |   <114,7> |   <114,8> |   <114,9> |   <114,10> |   <114,11> |   <114,12> |   <114,13> |   <114,14> |   <114,15> |   <114,16> |   <114,17> |   <115,1> |   <115,2> |   <115,3> |   <115,4> |   <115,5> |   <115,6> |   <115,7> |   <115,8> |   <115,9> |   <115,10> |   <115,11> |   <115,12> |   <115,13> |   <115,14> |   <115,15> |   <115,16> |   <115,17> |   <116,1> |   <116,2> |   <116,3> |   <116,4> |   <116,5> |   <116,6> |   <116,7> |   <116,8> |   <116,9> |   <116,10> |   <116,11> |   <116,12> |   <116,13> |   <116,14> |   <116,15> |   <116,16> |   <116,17> |   <117,1> |   <117,2> |   <117,3> |   <117,4> |   <117,5> |   <117,6> |   <117,7> |   <117,8> |   <117,9> |   <117,10> |   <117,11> |   <117,12> |   <117,13> |   <117,14> |   <117,15> |   <117,16> |   <117,17> |   <118,1> |   <118,2> |   <118,3> |   <118,4> |   <118,5> |   <118,6> |   <118,7> |   <118,8> |   <118,9> |   <118,10> |   <118,11> |   <118,12> |   <118,13> |   <118,14> |   <118,15> |   <118,16> |   <118,17> |   <119,1> |   <119,2> |   <119,3> |   <119,4> |   <119,5> |   <119,6> |   <119,7> |   <119,8> |   <119,9> |   <119,10> |   <119,11> |   <119,12> |   <119,13> |   <119,14> |   <119,15> |   <119,16> |   <119,17> |   <120,1> |   <120,2> |   <120,3> |   <120,4> |   <120,5> |   <120,6> |   <120,7> |   <120,8> |   <120,9> |   <120,10> |   <120,11> |   <120,12> |   <120,13> |   <120,14> |   <120,15> |   <120,16> |   <120,17> |   <121,1> |   <121,2> |   <121,3> |   <121,4> |   <121,5> |   <121,6> |   <121,7> |   <121,8> |   <121,9> |   <121,10> |   <121,11> |   <121,12> |   <121,13> |   <121,14> |   <121,15> |   <121,16> |   <121,17> |   <122,1> |   <122,2> |   <122,3> |   <122,4> |   <122,5> |   <122,6> |   <122,7> |   <122,8> |   <122,9> |   <122,10> |   <122,11> |   <122,12> |   <122,13> |   <122,14> |   <122,15> |   <122,16> |   <122,17> |   <123,1> |   <123,2> |   <123,3> |   <123,4> |   <123,5> |   <123,6> |   <123,7> |   <123,8> |   <123,9> |   <123,10> |   <123,11> |   <123,12> |   <123,13> |   <123,14> |   <123,15> |   <123,16> |   <123,17> |   <124,1> |   <124,2> |   <124,3> |   <124,4> |   <124,5> |   <124,6> |   <124,7> |   <124,8> |   <124,9> |   <124,10> |   <124,11> |   <124,12> |   <124,13> |   <124,14> |   <124,15> |   <124,16> |   <124,17> |   <125,1> |   <125,2> |   <125,3> |   <125,4> |   <125,5> |   <125,6> |   <125,7> |   <125,8> |   <125,9> |   <125,10> |   <125,11> |   <125,12> |   <125,13> |   <125,14> |   <125,15> |   <125,16> |   <125,17> |   <126,1> |   <126,2> |   <126,3> |   <126,4> |   <126,5> |   <126,6> |   <126,7> |   <126,8> |   <126,9> |   <126,10> |   <126,11> |   <126,12> |   <126,13> |   <126,14> |   <126,15> |   <126,16> |   <126,17> |   <127,1> |   <127,2> |   <127,3> |   <127,4> |   <127,5> |   <127,6> |   <127,7> |   <127,8> |   <127,9> |   <127,10> |   <127,11> |   <127,12> |   <127,13> |   <127,14> |   <127,15> |   <127,16> |   <127,17> |   <128,1> |   <128,2> |   <128,3> |   <128,4> |   <128,5> |   <128,6> |   <128,7> |   <128,8> |   <128,9> |   <128,10> |   <128,11> |   <128,12> |   <128,13> |   <128,14> |   <128,15> |   <128,16> |   <128,17> |   <129,1> |   <129,2> |   <129,3> |   <129,4> |   <129,5> |   <129,6> |   <129,7> |   <129,8> |   <129,9> |   <129,10> |   <129,11> |   <129,12> |   <129,13> |   <129,14> |   <129,15> |   <129,16> |   <129,17> |   <130,1> |   <130,2> |   <130,3> |   <130,4> |   <130,5> |   <130,6> |   <130,7> |   <130,8> |   <130,9> |   <130,10> |   <130,11> |   <130,12> |   <130,13> |   <130,14> |   <130,15> |   <130,16> |   <130,17> |       sum |\n",
      "|----+------------------------------+-----------+-----------+-----------+-----------+-----------+-----------+-----------+-----------+-------------+------------+------------+------------+------------+------------+------------+------------+------------+-----------+-----------+-----------+-----------+-----------+-----------+-----------+-----------+-----------+------------+------------+------------+------------+------------+------------+------------+------------+-----------+-----------+-----------+-----------+-----------+-----------+-----------+-----------+-----------+------------+------------+------------+------------+------------+------------+------------+------------+-----------+-----------+-----------+-----------+-----------+-----------+-----------+-----------+-----------+------------+------------+------------+------------+------------+------------+------------+------------+-----------+-----------+-----------+-----------+-----------+-----------+-----------+-----------+-----------+------------+------------+------------+------------+------------+------------+------------+------------+-----------+-----------+-----------+-----------+-----------+-----------+-----------+-----------+-----------+------------+------------+------------+------------+------------+------------+------------+------------+-----------+-----------+-----------+-----------+-----------+-----------+-----------+-----------+-----------+------------+------------+------------+------------+------------+------------+------------+------------+-----------+-----------+-----------+-----------+-----------+-----------+-----------+-----------+-----------+------------+------------+------------+------------+------------+------------+------------+------------+-----------+-----------+-----------+-----------+-----------+-----------+-----------+-----------+-----------+------------+------------+------------+------------+------------+------------+------------+------------+-----------+-----------+-----------+-----------+-----------+-----------+-----------+-----------+-----------+------------+------------+------------+------------+------------+------------+------------+------------+-----------+-----------+-----------+-----------+-----------+-----------+-----------+-----------+-----------+------------+------------+------------+------------+------------+------------+------------+------------+-----------+-----------+-----------+-----------+-----------+-----------+-----------+-----------+-----------+------------+------------+------------+------------+------------+------------+------------+------------+-----------+-----------+-----------+-----------+-----------+-----------+-----------+-----------+-----------+------------+------------+------------+------------+------------+------------+------------+------------+-----------+-----------+-----------+-----------+-----------+-----------+-----------+-----------+-----------+------------+------------+------------+------------+------------+------------+------------+------------+-----------+-----------+-----------+-----------+-----------+-----------+-----------+-----------+-----------+------------+------------+------------+------------+------------+------------+------------+------------+-----------+-----------+-----------+-----------+-----------+-----------+-----------+-----------+-----------+------------+------------+------------+------------+------------+------------+------------+------------+-----------+-----------+-----------+-----------+-----------+-----------+-----------+-----------+-----------+------------+------------+------------+------------+------------+------------+------------+------------+-----------+-----------+-----------+-----------+-----------+-----------+-----------+-----------+-----------+------------+------------+------------+------------+------------+------------+------------+------------+-----------+-----------+-----------+-----------+-----------+-----------+-----------+-----------+-----------+------------+------------+------------+------------+------------+------------+------------+------------+-----------+-----------+-----------+-----------+-----------+-----------+-----------+-----------+-----------+------------+------------+------------+------------+------------+------------+------------+------------+-----------+-----------+-----------+-----------+-----------+-----------+-----------+-----------+-----------+------------+------------+------------+------------+------------+------------+------------+------------+-----------+-----------+-----------+-----------+-----------+-----------+-----------+-----------+-----------+------------+------------+------------+------------+------------+------------+------------+------------+-----------+-----------+-----------+-----------+-----------+-----------+-----------+-----------+-----------+------------+------------+------------+------------+------------+------------+------------+------------+-----------+-----------+-----------+-----------+-----------+-----------+-----------+-----------+-----------+------------+------------+------------+------------+------------+------------+------------+------------+-----------+-----------+-----------+-----------+-----------+-----------+-----------+-----------+-----------+------------+------------+------------+------------+------------+------------+------------+------------+-----------+-----------+-----------+-----------+-----------+-----------+-----------+-----------+-----------+------------+------------+------------+------------+------------+------------+------------+------------+-----------+-----------+-----------+-----------+-----------+-----------+-----------+-----------+-----------+------------+------------+------------+------------+------------+------------+------------+------------+-----------+-----------+-----------+-----------+-----------+-----------+-----------+-----------+-----------+------------+------------+------------+------------+------------+------------+------------+------------+-----------+-----------+-----------+-----------+-----------+-----------+-----------+-----------+-----------+------------+------------+------------+------------+------------+------------+------------+------------+-----------+-----------+-----------+-----------+-----------+-----------+-----------+-----------+-----------+------------+------------+------------+------------+------------+------------+------------+------------+-----------+-----------+-----------+-----------+-----------+-----------+-----------+-----------+-----------+------------+------------+------------+------------+------------+------------+------------+------------+-----------|\n",
      "|  0 | DecisionTreeClassifier 1     |   3.77278 |    4.2351 |   0       |    0      |   0       |   0       |         2 |   1.87877 | -0.00929056 |          0 | -0.0186567 |   -0.87963 |   -1.04327 |   -1.20589 |   -1.02104 |   -0.94879 |  -0.468917 |         0 |         0 |   0       |   0       |   0       |         0 |         0 |         0 |  0        |    0       |          0 |          0 |          0 |          0 |          0 |          0 |          0 |   0       |   0       |   0       |   0       |   0       |         0 |   -4.6432 |         0 |  -3.97648 |          0 |    -4.5843 |   -4.62419 |          0 |   -5.44901 |   -2.68497 |  -0.902958 |    0       |   -2.9313 |   0       | -0.860657 | -0.690105 | -0.355543 | -0.339696 | -0.414132 |   1.44134 |   1.21495 |    2.51813 |    2.32573 |    2.82035 |    2.43157 |    3.96147 |    0       |    1.55221 |     0      |     3.917 |   3.65074 |   3.22588 |    3.4437 |   3.58753 |   3.24947 |   4.55491 |   2.74594 |   2.62043 |    2.58052 |    2.75355 |    2.58443 |    1.77722 |    1.49884 |    0       |   0        |          0 |         0 |         0 |         0 |         0 |         0 |   1.61605 |         0 |         0 |         0 |          0 |          0 |          0 |          0 |          0 |          0 |          0 |          0 |   0.98082 |   1.23457 |   1.22145 |  0.705188 |  0.500202 |         0 |         0 |         0 |         0 |          0 |          0 |          0 |          0 |    0       |   -1.94461 |          0 |   -1.61434 |         0 |         0 |         0 |    0      |    0      |         0 |         0 |         0 |         0 |          0 |   -1.16092 |   -1.10753 |  -0.737095 |          0 |    0       |          0 |          0 |         0 |         0 |   0       |   1.67686 |   1.26089 |   1.85489 |   2.21099 |   2.57676 |   1.32827 |   0        |    0       |   0        |          0 |          0 |          0 |          0 |          0 |         0 |         0 |         0 |         0 |  0        |         0 |         0 |         0 |         0 |   0.953951 |   0        |    0       |    0       |    2.37477 |    0       |    0       |    0       |  0.361371 |         0 |         0 |         0 |         0 |  0.765089 |         0 |         0 |         0 |          0 |          0 |   0        |   0        |   0        |   0        |   0        |          0 |    1.1516 |    1.3354 |         0 |  0        |         0 |         0 | -0.239778 | -0.415857 | -0.344349 |  -0.537634 | -0.0814797 |          0 |  -0.135239 |  -0.138253 |          0 |          0 |          0 |         0 |         0 |         0 |         0 |         0 |         0 |         0 |         0 |         0 |          0 |          0 |          0 |          0 |          0 |    0       |    0       |    0       |   1.93682 |  0.700355 |   2.50579 |   2.38254 |   2.19648 |   2.51982 |   1.95952 |   1.41309 |   1.38471 |    1.34478 |    1.41379 |    1.48561 |    1.06383 |   0        |          0 |   0        |          0 |         0 | 0         |         0 |         0 |   0       |   0       |   0       |   0       |   0       |    0       |          0 |          0 |    0       |          0 |          0 |          0 |          0 |         0 |         0 |   0       |   0       |    0      |   0       |    0      |   0       |    0      |     0      |    -5.5622 |   -6.05803 |   -5.00157 |   -5.19166 |   -6.71796 |    0       |   -5.37108 |   0       |   0       |   0       |  -3.53643 |  -4.22702 |   0       |    -4.789 |   0       |  -3.61832 |          0 |          0 |          0 |   0        |          0 |   0        |    0       |    0       |  -1.61219 |  -3.39023 |  -4.00376 |  -4.14597 |   -3.1358 |   -3.5658 |   -2.6929 |   -5.1988 |  -4.78405 |   -4.25957 |   -3.95198 |   -4.87732 |   -4.90209 |    -2.1047 | -0.0470645 |   0.180425 | 0          |         0 |   1.08933 |   1.40092 |  0.978825 |         0 |  0.955691 |         0 |    2.0406 |  0.572226 |          0 |   -1.14931 |   -1.78603 |   -3.28063 |   -4.74937 |   -4.95376 |   -3.95929 |   -4.55952 |  -4.90613 |  -6.74778 |  -7.71806 |  -7.13598 |  -6.40055 |  -9.71429 |   0       |  -8.64505 |   0       |   -6.89837 |    0       |    0       |   -2.72436 |   -3.02339 |   -4.41286 |   -5.05948 |   -5.02876 |  -1.11971 |         0 |   1.99926 |   0       |   0       |   0       |   0       |   0       |   0       |    0       |    0       |     0      |    7.56362 |    0       |    0       |    0       |     0      |   8.37823 |   8.07424 |   0       |   0       |   6.51237 |   6.61725 |   9.32581 |   8.70648 |   9.99095 |    6.10749 |     0      |    1.44843 |   0        |   0        |   0.946811 |          0 |    -3.4065 |  -3.57803 |  -3.51201 |  0        |  -1.21992 |  -1.80141 | -0.568182 |    0      |  -1.52018 |  -2.24782 |  -0.837535 |    1.62312 |    2.04377 |          0 |    0       |          0 |    4.24804 |          0 |   4.88153 |   3.35075 |         0 |  0        |  0.388514 |         0 |         0 |  0.340408 |         0 |          0 |          0 |    0       |    0       |   -2.50948 |    -3.3373 |   -2.90451 |   -2.75476 |  -4.45168 |   0       |   0       |   0       |   0       |  -5.23745 |   0       |  -3.89305 |   0       |   -3.18777 |    0       |   -3.55285 |    0       |    0       |     0      |      0     |    0       |   0       |   0       |  -5.31289 |  -5.49879 |  -6.12456 |   0       |   0       |   0       |   0       |    0       |    0       |    0       |    0       |   -8.22664 |    0       |    0       |    2.38273 |    2.6814 |   3.17052 |   3.93551 |   2.65203 |   5.06463 |   1.92476 | -0.285714 |  0.191342 |         0 |      2.202 |    2.39375 |    7.36593 |    7.08878 |    6.95652 |    4.12628 |    2.11911 |   0        |  0.240333 |  -1.27986 | -0.734372 |         0 |         0 |  -1.45923 |   1.42899 |         0 |         0 |          0 |   -1.54131 |    0       |   -2.64148 |   -2.89148 |    0       |    -1.3381 |          0 |   0       |  -5.85389 |   0       |  -7.49774 |  -7.89142 |  -5.72372 |   0       |  -9.35872 |  -5.27969 |    0       |    0       |    0       |     0      |     0      |     0      |     0      |    0       |  -1.74765 | -0.575374 |         0 |   3.55469 |   4.19569 |   1.05486 |  0.831331 |   1.77368 | 0.0336692 |     1.5558 |    3.63207 |     12.121 |     11.919 |    15.3575 |    13.4838 |    14.4351 |   -3.02948 |   0       |   0       |   0       |   0       |   0       |   0       |   0.56852 |         0 |  -3.04919 |     0      |   -4.14027 |    -13.159 |   -10.5878 |   -10.7377 |   -10.1989 |   -8.65448 |          0 |   10.3981 |\n",
      "|  1 | DecisionTreeClassifier 2     |   3.77278 |    4.2351 |   0       |    0      |   0       |   0       |         0 |   1.87877 | -0.00929056 |          0 |  0         |    0       |   -1.04327 |   -1.20589 |   -1.02104 |   -0.94879 |  -0.468917 |         0 |         0 |   0       |   0       |   0       |         0 |         0 |         0 |  0        |    0       |          0 |          0 |          0 |          0 |          0 |          0 |          0 |   0       |   0       |   0       |   0       |   0       |         0 |   -4.6432 |         0 |  -3.97648 |          0 |    -4.5843 |   -4.62419 |          0 |   -5.44901 |   -2.68497 |  -0.902958 |    0       |   -2.9313 |  -1.87722 | -0.860657 | -0.690105 | -0.355543 | -0.339696 | -0.414132 |   1.44134 |   1.21495 |    2.51813 |    2.32573 |    2.82035 |    2.43157 |    3.96147 |    0       |    0       |     0      |     3.917 |   3.65074 |   3.22588 |    3.4437 |   3.58753 |   3.24947 |   4.55491 |   2.74594 |   2.62043 |    2.58052 |    2.75355 |    2.58443 |    1.77722 |    1.49884 |    0       |   0        |          0 |         0 |         0 |         0 |         0 |         0 |   1.61605 |         0 |         0 |         0 |          0 |          0 |          0 |          0 |          0 |          0 |          0 |          0 |   0.98082 |   1.23457 |   1.22145 |  0.705188 |  0.500202 |         0 |         0 |         0 |         0 |          0 |          0 |          0 |          0 |    0       |   -1.94461 |          0 |   -1.61434 |         0 |         0 |         0 |    0      |    0      |         0 |         0 |         0 |         0 |          0 |   -1.16092 |    0       |  -0.737095 |          0 |    1.01712 |          0 |          0 |         0 |         0 |   1.28688 |   1.67686 |   1.26089 |   1.85489 |   2.21099 |   2.57676 |   1.32827 |   0        |    0       |   0        |          0 |          0 |          0 |          0 |          0 |         0 |         0 |         0 |         0 |  0        |         0 |         0 |         0 |         0 |   0.953951 |   0.787757 |    0       |    0       |    2.37477 |    0       |    2.44208 |    1.32028 |  0.361371 |         0 |         0 |         0 |         0 |  0.765089 |         0 |         0 |         0 |          0 |          0 |   0        |   0        |   0        |   0        |   0        |          0 |    1.1516 |    1.3354 |         0 |  0        |         0 |         0 |  0        |  0        |  0        |   0        |  0         |          0 |   0        |   0        |          0 |          0 |          0 |         0 |         0 |         0 |         0 |         0 |         0 |         0 |         0 |         0 |          0 |          0 |          0 |          0 |          0 |    0       |    0       |    0       |   1.93682 |  0.700355 |   2.50579 |   2.38254 |   2.19648 |   2.51982 |   1.95952 |   1.41309 |   1.38471 |    1.34478 |    1.41379 |    1.48561 |    1.06383 |   0        |          0 |   0        |          0 |         0 | 0.0218287 |         0 |         0 |   0       |   0       |   0       |   0       |   0       |    0       |          0 |          0 |    0       |          0 |          0 |          0 |          0 |         0 |         0 |   0       |   0       |    0      |   0       |    0      |   0       |    0      |     0      |    -5.5622 |    0       |    0       |   -5.19166 |   -6.71796 |    0       |    0       |   0       |   0       |   0       |  -3.53643 |  -4.22702 |   0       |    -4.789 |   0       |  -3.61832 |          0 |          0 |          0 |   0        |          0 |   0        |    0       |    0       |  -1.61219 |   0       |  -4.00376 |  -4.14597 |   -3.1358 |   -3.5658 |   -2.6929 |   -5.1988 |  -4.78405 |   -4.25957 |   -3.95198 |   -4.87732 |   -4.90209 |    -2.1047 | -0.0470645 |   0.180425 | 0          |         0 |   0       |   0       |  0.978825 |         0 |  0.955691 |         0 |    2.0406 |  0.572226 |          0 |   -1.14931 |   -1.78603 |   -3.28063 |   -4.74937 |   -4.95376 |   -3.95929 |   -4.55952 |   0       |  -6.74778 |  -7.71806 |  -7.13598 |  -6.40055 |  -9.71429 |   0       |  -8.64505 |   0       |   -6.89837 |    0       |    0       |   -2.72436 |   -3.02339 |   -4.41286 |    0       |    0       |  -1.11971 |         0 |   1.99926 |   0       |   0       |   0       |   0       |   0       |   0       |    0       |    0       |     0      |    7.56362 |    0       |    0       |    0       |     0      |   8.37823 |   8.07424 |   0       |   0       |   6.51237 |   6.61725 |   9.32581 |   8.70648 |   9.99095 |    6.10749 |     3.8171 |    1.44843 |   0        |   0        |   0.946811 |          0 |    -3.4065 |   0       |  -3.51201 | -0.700101 |   0       |  -1.80141 | -0.568182 |   -1.9861 |  -1.52018 |   0       |  -0.837535 |    1.62312 |    2.04377 |          0 |    0       |          0 |    4.24804 |          0 |   4.88153 |   3.35075 |         0 | -0.388042 |  0.388514 |         0 |         0 |  0.340408 |         0 |          0 |          0 |    0       |    0       |   -2.50948 |    -3.3373 |   -2.90451 |   -2.75476 |  -4.45168 |   0       |   0       |   0       |   0       |  -5.23745 |  -2.28591 |   0       |   0       |   -3.18777 |   -3.68296 |   -3.55285 |   -1.18653 |    0       |     0      |      0     |    0       |   0       |   0       |  -5.31289 |  -5.49879 |  -6.12456 |   0       |   0       |   0       |   0       |    0       |    0       |    0       |    0       |   -8.22664 |   -6.14543 |   -4.46771 |    2.38273 |    2.6814 |   3.17052 |   3.93551 |   2.65203 |   5.06463 |   1.92476 | -0.285714 |  0.191342 |         0 |      2.202 |    2.39375 |    7.36593 |    7.08878 |    6.95652 |    4.12628 |    2.11911 |   0.290909 |  0.240333 |  -1.27986 | -0.734372 |         0 |         0 |  -1.45923 |   1.42899 |         0 |         0 |          0 |   -1.54131 |   -3.63331 |   -2.64148 |   -2.89148 |    0       |     0      |          0 |   0       |  -5.85389 |  -6.42367 |  -7.49774 |  -7.89142 |  -5.72372 |   0       |  -9.35872 |   0       |    0       |    0       |    0       |     0      |     0      |     0      |     0      |    0       |  -1.74765 | -0.575374 |         0 |   3.55469 |   4.19569 |   1.05486 |  0.831331 |   1.77368 | 0.0336692 |     1.5558 |    3.63207 |     12.121 |     11.919 |    15.3575 |    13.4838 |    14.4351 |   -3.02948 |   0       |   0       |   0       |   0       |   0       |   0       |   0       |         0 |   0       |    -2.7895 |    0       |      0     |   -10.5878 |   -10.7377 |   -10.1989 |   -8.65448 |          0 |   55.8234 |\n",
      "|  2 | DecisionTreeClassifier 3     |   3.77278 |    4.2351 |   3.40683 |    3.1417 |   3.23135 |   3.19122 |         2 |   0       | -0.00929056 |          0 | -0.0186567 |   -0.87963 |   -1.04327 |   -1.20589 |   -1.02104 |   -0.94879 |  -0.468917 |         0 |         0 |   0       |   0       |   0       |         0 |         0 |         0 | -0.314613 |    0       |          0 |          0 |          0 |          0 |          0 |          0 |          0 |   0       |   0       |   0       |   0       |   0       |         0 |    0      |         0 |   0       |          0 |     0      |    0       |          0 |    0       |    0       |   0        |   -1.45157 |    0      |   0       | -0.860657 | -0.690105 | -0.355543 | -0.339696 | -0.414132 |   1.44134 |   1.21495 |    2.51813 |    2.32573 |    2.82035 |    2.43157 |    3.96147 |    1.80978 |    1.55221 |     2.3638 |     3.917 |   3.65074 |   3.22588 |    3.4437 |   3.58753 |   3.24947 |   4.55491 |   2.74594 |   2.62043 |    2.58052 |    2.75355 |    2.58443 |    1.77722 |    1.49884 |    0       |   0.823269 |          0 |         0 |         0 |         0 |         0 |         0 |   1.61605 |         0 |         0 |         0 |          0 |          0 |          0 |          0 |          0 |          0 |          0 |          0 |   0.98082 |   1.23457 |   1.22145 |  0.705188 |  0.500202 |         0 |         0 |         0 |         0 |          0 |          0 |          0 |          0 |    0       |    0       |          0 |    0       |         0 |         0 |         0 |    0      |   -1.6848 |         0 |         0 |         0 |         0 |          0 |   -1.16092 |   -1.10753 |  -0.737095 |          0 |    0       |          0 |          0 |         0 |         0 |   1.28688 |   1.67686 |   1.26089 |   1.85489 |   2.21099 |   2.57676 |   1.32827 |   0        |    0       |   0        |          0 |          0 |          0 |          0 |          0 |         0 |         0 |         0 |         0 |  0        |         0 |         0 |         0 |         0 |   0        |   0        |    0       |    0       |    2.37477 |    0       |    0       |    0       |  0.361371 |         0 |         0 |         0 |         0 |  0.765089 |         0 |         0 |         0 |          0 |          0 |   0        |   0        |   0        |   0        |   0        |          0 |    1.1516 |    1.3354 |         0 |  0        |         0 |         0 | -0.239778 | -0.415857 | -0.344349 |  -0.537634 | -0.0814797 |          0 |  -0.135239 |  -0.138253 |          0 |          0 |          0 |         0 |         0 |         0 |         0 |         0 |         0 |         0 |         0 |         0 |          0 |          0 |          0 |          0 |          0 |    0       |    0       |    0       |   1.93682 |  0.700355 |   2.50579 |   2.38254 |   2.19648 |   2.51982 |   1.95952 |   1.41309 |   1.38471 |    1.34478 |    1.41379 |    1.48561 |    1.06383 |   0        |          0 |   0        |          0 |         0 | 0         |         0 |         0 |   0       |   0       |   0       |   0       |   0       |    0       |          0 |          0 |    0       |          0 |          0 |          0 |          0 |         0 |         0 |   0       |   0       |    0      |   0       |    0      |   0       |    0      |     0      |    -5.5622 |   -6.05803 |   -5.00157 |   -5.19166 |   -6.71796 |    0       |    0       |  -5.59105 |  -5.13477 |  -4.40971 |  -3.53643 |  -4.22702 |  -4.67687 |    -4.789 |   0       |  -3.61832 |          0 |          0 |          0 |   0        |          0 |   0        |    0       |    0       |  -1.61219 |  -3.39023 |  -4.00376 |  -4.14597 |   -3.1358 |   -3.5658 |   -2.6929 |   -5.1988 |  -4.78405 |   -4.25957 |   -3.95198 |   -4.87732 |   -4.90209 |    -2.1047 | -0.0470645 |   0.180425 | 0.00340225 |         0 |   1.08933 |   1.40092 |  0.978825 |         0 |  0.955691 |         0 |    2.0406 |  0.572226 |          0 |   -1.14931 |   -1.78603 |   -3.28063 |   -4.74937 |   -4.95376 |   -3.95929 |   -4.55952 |  -4.90613 |  -6.74778 |  -7.71806 |  -7.13598 |  -6.40055 |  -9.71429 |  -8.24422 |  -8.64505 |  -6.94907 |   -6.89837 |   -9.63855 |   -7.13523 |   -2.72436 |   -3.02339 |   -4.41286 |   -5.05948 |   -5.02876 |  -1.11971 |         0 |   1.99926 |   0       |   0       |   0       |   0       |   0       |   0       |    0       |    0       |     0      |    7.56362 |    0       |    0       |    0       |     0      |   8.37823 |   8.07424 |   0       |   0       |   6.51237 |   6.61725 |   9.32581 |   8.70648 |   9.99095 |    6.10749 |     3.8171 |    1.44843 |   0        |   0        |   0.946811 |          0 |    -3.4065 |  -3.57803 |  -3.51201 | -0.700101 |   0       |  -1.80141 | -0.568182 |   -1.9861 |  -1.52018 |  -2.24782 |  -0.837535 |    1.62312 |    2.04377 |          0 |    0       |          0 |    4.24804 |          0 |   4.88153 |   3.35075 |         0 | -0.388042 |  0.388514 |         0 |         0 |  0.340408 |         0 |          0 |          0 |    0       |    0       |   -2.50948 |    -3.3373 |   -2.90451 |   -2.75476 |  -4.45168 |   0       |   0       |   0       |  -5.43497 |  -5.23745 |  -2.28591 |  -3.89305 |   0       |   -3.18777 |   -3.68296 |   -3.55285 |   -1.18653 |   -1.60795 |     0      |      0     |    0       |  -5.60134 |   0       |  -5.31289 |  -5.49879 |  -6.12456 |   0       |   0       |   0       |   0       |    0       |    0       |    0       |    0       |   -8.22664 |   -6.14543 |   -4.46771 |    2.38273 |    2.6814 |   3.17052 |   3.93551 |   2.65203 |   5.06463 |   1.92476 | -0.285714 |  0.191342 |         0 |      2.202 |    2.39375 |    7.36593 |    7.08878 |    6.95652 |    4.12628 |    2.11911 |   0        |  0.240333 |  -1.27986 | -0.734372 |         0 |         0 |  -1.45923 |   1.42899 |         0 |         0 |          0 |   -1.54131 |    0       |   -2.64148 |   -2.89148 |   -1.05579 |    -1.3381 |          0 |  -6.83485 |  -5.85389 |   0       |   0       |  -7.89142 |   0       |   0       |   0       |  -5.27969 |    0       |   -8.12968 |   -9.91973 |   -11.3114 |   -13.2499 |   -12.9776 |   -13.3304 |    0       |  -1.74765 | -0.575374 |         0 |   3.55469 |   4.19569 |   1.05486 |  0.831331 |   1.77368 | 0.0336692 |     1.5558 |    3.63207 |     12.121 |     11.919 |    15.3575 |    13.4838 |    14.4351 |   -3.02948 |   0       |   0       |   0       |   0       |   0       |  -4.99828 |   0.56852 |         0 |  -3.04919 |    -2.7895 |   -4.14027 |    -13.159 |   -10.5878 |   -10.7377 |   -10.1989 |   -8.65448 |          0 |  -80.1474 |\n",
      "|  3 | RandomForestClassifier 1     |   3.77278 |    4.2351 |   0       |    0      |   0       |   0       |         0 |   0       |  0          |          0 |  0         |    0       |    0       |    0       |    0       |    0       |   0        |         0 |         0 |   0       |   0       |   0       |         0 |         0 |         0 |  0        |    0       |          0 |          0 |          0 |          0 |          0 |          0 |          0 |   0       |   0       |  -2.59445 |  -3.04355 |  -3.85195 |         0 |    0      |         0 |   0       |          0 |     0      |   -4.62419 |          0 |    0       |    0       |  -0.902958 |   -1.45157 |   -2.9313 |  -1.87722 | -0.860657 | -0.690105 | -0.355543 | -0.339696 | -0.414132 |   1.44134 |   1.21495 |    2.51813 |    2.32573 |    2.82035 |    2.43157 |    3.96147 |    1.80978 |    1.55221 |     2.3638 |     3.917 |   3.65074 |   3.22588 |    3.4437 |   3.58753 |   3.24947 |   4.55491 |   2.74594 |   2.62043 |    2.58052 |    2.75355 |    2.58443 |    1.77722 |    0       |    0       |   0        |          0 |         0 |         0 |         0 |         0 |         0 |   0       |         0 |         0 |         0 |          0 |          0 |          0 |          0 |          0 |          0 |          0 |          0 |   0       |   0       |   0       |  0        |  0        |         0 |         0 |         0 |         0 |          0 |          0 |          0 |          0 |    0       |    0       |          0 |    0       |         0 |         0 |         0 |    0      |    0      |         0 |         0 |         0 |         0 |          0 |    0       |    0       |   0        |          0 |    0       |          0 |          0 |         0 |         0 |   0       |   1.67686 |   1.26089 |   1.85489 |   2.21099 |   2.57676 |   1.32827 |   0        |    0       |   0        |          0 |          0 |          0 |          0 |          0 |         0 |         0 |         0 |         0 |  0        |         0 |         0 |         0 |         0 |   0        |   0        |    0       |    0       |    0       |    0       |    0       |    0       |  0        |         0 |         0 |         0 |         0 |  0        |         0 |         0 |         0 |          0 |          0 |   0        |   0        |   0        |   0        |   0        |          0 |    0      |    0      |         0 |  0        |         0 |         0 |  0        |  0        |  0        |   0        |  0         |          0 |   0        |   0        |          0 |          0 |          0 |         0 |         0 |         0 |         0 |         0 |         0 |         0 |         0 |         0 |          0 |          0 |          0 |          0 |          0 |    0       |    0       |    0       |   1.93682 |  0.700355 |   2.50579 |   2.38254 |   2.19648 |   2.51982 |   1.95952 |   1.41309 |   1.38471 |    1.34478 |    1.41379 |    1.48561 |    1.06383 |   0.780031 |          0 |   0        |          0 |         0 | 0.0218287 |         0 |         0 |   0       |   0       |   0       |   0       |   0       |    0       |          0 |          0 |    0       |          0 |          0 |          0 |          0 |         0 |         0 |   0       |   0       |    0      |   0       |    0      |  -2.17969 |   -2.2474 |    -5.8805 |    -5.5622 |   -6.05803 |   -5.00157 |   -5.19166 |   -6.71796 |   -5.78021 |   -5.37108 |  -5.59105 |  -5.13477 |  -4.40971 |  -3.53643 |  -4.22702 |  -4.67687 |    -4.789 |  -4.31586 |  -3.61832 |          0 |          0 |          0 |  -0.231788 |          0 |   0.228949 |   -2.65257 |   -2.07363 |  -1.61219 |  -3.39023 |  -4.00376 |  -4.14597 |   -3.1358 |   -3.5658 |   -2.6929 |   -5.1988 |  -4.78405 |   -4.25957 |   -3.95198 |   -4.87732 |   -4.90209 |    -2.1047 | -0.0470645 |   0.180425 | 0.00340225 |         0 |   0       |   0       |  0.978825 |         0 |  0.955691 |         0 |    0      |  0.572226 |          0 |   -1.14931 |   -1.78603 |   -3.28063 |   -4.74937 |   -4.95376 |   -3.95929 |   -4.55952 |  -4.90613 |  -6.74778 |  -7.71806 |  -7.13598 |  -6.40055 |  -9.71429 |  -8.24422 |  -8.64505 |  -6.94907 |   -6.89837 |   -9.63855 |   -7.13523 |   -2.72436 |   -3.02339 |   -4.41286 |   -5.05948 |   -5.02876 |  -1.11971 |         0 |   1.99926 |   0       |   0       |   0       |   0       |   0       |   0       |    0       |    0       |     0      |    0       |    0       |    0       |    0       |     0      |   8.37823 |   8.07424 |   7.84029 |   8.80145 |   6.51237 |   6.61725 |   9.32581 |   8.70648 |   9.99095 |    6.10749 |     3.8171 |    0       |   0        |   0        |   0.946811 |          0 |    -3.4065 |  -3.57803 |  -3.51201 | -0.700101 |  -1.21992 |  -1.80141 | -0.568182 |   -1.9861 |  -1.52018 |  -2.24782 |  -0.837535 |    0       |    0       |          0 |    0       |          0 |    0       |          0 |   0       |   0       |         0 | -0.388042 |  0.388514 |         0 |         0 |  0.340408 |         0 |          0 |          0 |   -1.89944 |   -2.44186 |   -2.50948 |    -3.3373 |   -2.90451 |   -2.75476 |  -4.45168 |  -4.27676 |  -4.10751 |  -3.89892 |  -5.43497 |  -5.23745 |  -2.28591 |  -3.89305 |  -4.75845 |   -3.18777 |   -3.68296 |   -3.55285 |   -1.18653 |   -1.60795 |    -2.0319 |     -2.165 |   -8.43702 |  -5.60134 |  -4.27772 |  -5.31289 |  -5.49879 |  -6.12456 |  -2.49866 |  -5.24452 |  -4.10492 |  -3.99398 |   -6.30455 |   -4.44648 |   -6.20065 |   -8.12859 |   -8.22664 |   -6.14543 |   -4.46771 |    2.38273 |    2.6814 |   3.17052 |   3.93551 |   2.65203 |   5.06463 |   1.92476 | -0.285714 |  0.191342 |         0 |      2.202 |    2.39375 |    7.36593 |    7.08878 |    6.95652 |    4.12628 |    2.11911 |   0.290909 |  0.240333 |  -1.27986 | -0.734372 |         0 |         0 |  -1.45923 |   1.42899 |         0 |         0 |          0 |   -1.54131 |    0       |    0       |    0       |    0       |     0      |          0 |  -6.83485 |  -5.85389 |  -6.42367 |  -7.49774 |  -7.89142 |  -5.72372 |   0       |  -9.35872 |  -5.27969 |   -7.54655 |   -8.12968 |   -9.91973 |   -11.3114 |   -13.2499 |   -12.9776 |   -13.3304 |   -1.97719 |  -1.74765 | -0.575374 |         0 |   3.55469 |   4.19569 |   1.05486 |  0.831331 |   1.77368 | 0.0336692 |     1.5558 |    3.63207 |     12.121 |     11.919 |    15.3575 |    13.4838 |    14.4351 |   -3.02948 |  -3.22127 |  -4.99614 |  -5.84851 |  -9.37382 |  -9.22921 |  -4.99828 |   0.56852 |         0 |  -3.04919 |    -2.7895 |   -4.14027 |      0     |     0      |     0      |     0      |    0       |          0 | -251.135  |\n",
      "|  4 | RandomForestClassifier 2     |   3.77278 |    4.2351 |   0       |    0      |   0       |   0       |         0 |   0       |  0          |          0 |  0         |    0       |    0       |    0       |    0       |    0       |   0        |         0 |         0 |   0       |   0       |   0       |         0 |         0 |         0 |  0        |    0       |          0 |          0 |          0 |          0 |          0 |          0 |          0 |   0       |   0       |   0       |   0       |   0       |         0 |    0      |         0 |   0       |          0 |     0      |   -4.62419 |          0 |    0       |    0       |  -0.902958 |   -1.45157 |   -2.9313 |  -1.87722 | -0.860657 | -0.690105 | -0.355543 | -0.339696 | -0.414132 |   1.44134 |   1.21495 |    2.51813 |    2.32573 |    2.82035 |    2.43157 |    3.96147 |    1.80978 |    1.55221 |     2.3638 |     3.917 |   3.65074 |   3.22588 |    3.4437 |   3.58753 |   3.24947 |   4.55491 |   2.74594 |   2.62043 |    2.58052 |    2.75355 |    2.58443 |    1.77722 |    1.49884 |    0       |   0        |          0 |         0 |         0 |         0 |         0 |         0 |   0       |         0 |         0 |         0 |          0 |          0 |          0 |          0 |          0 |          0 |          0 |          0 |   0       |   0       |   0       |  0        |  0        |         0 |         0 |         0 |         0 |          0 |          0 |          0 |          0 |    0       |    0       |          0 |    0       |         0 |         0 |         0 |    0      |    0      |         0 |         0 |         0 |         0 |          0 |    0       |    0       |   0        |          0 |    0       |          0 |          0 |         0 |         0 |   0       |   1.67686 |   1.26089 |   1.85489 |   2.21099 |   2.57676 |   1.32827 |   0.680947 |    0       |   0        |          0 |          0 |          0 |          0 |          0 |         0 |         0 |         0 |         0 |  0        |         0 |         0 |         0 |         0 |   0        |   0        |    0       |    0       |    0       |    0       |    0       |    0       |  0        |         0 |         0 |         0 |         0 |  0        |         0 |         0 |         0 |          0 |          0 |   0        |   0        |   0        |   0        |   0        |          0 |    0      |    0      |         0 |  0        |         0 |         0 |  0        |  0        |  0        |   0        |  0         |          0 |   0        |   0        |          0 |          0 |          0 |         0 |         0 |         0 |         0 |         0 |         0 |         0 |         0 |         0 |          0 |          0 |          0 |          0 |          0 |    0       |    0       |    2.04017 |   1.93682 |  0.700355 |   2.50579 |   2.38254 |   2.19648 |   2.51982 |   1.95952 |   1.41309 |   1.38471 |    1.34478 |    1.41379 |    1.48561 |    1.06383 |   0.780031 |          0 |   0        |          0 |         0 | 0.0218287 |         0 |         0 |   0       |   0       |   0       |   0       |   0       |    0       |          0 |          0 |    0       |          0 |          0 |          0 |          0 |         0 |         0 |   0       |   0       |    0      |   0       |    0      |  -2.17969 |   -2.2474 |    -5.8805 |    -5.5622 |   -6.05803 |   -5.00157 |   -5.19166 |   -6.71796 |   -5.78021 |   -5.37108 |  -5.59105 |  -5.13477 |  -4.40971 |  -3.53643 |  -4.22702 |  -4.67687 |    -4.789 |  -4.31586 |  -3.61832 |          0 |          0 |          0 |  -0.231788 |          0 |   0.228949 |   -2.65257 |   -2.07363 |  -1.61219 |  -3.39023 |  -4.00376 |  -4.14597 |   -3.1358 |   -3.5658 |   -2.6929 |   -5.1988 |  -4.78405 |   -4.25957 |   -3.95198 |   -4.87732 |   -4.90209 |    -2.1047 | -0.0470645 |   0.180425 | 0.00340225 |         0 |   0       |   0       |  0.978825 |         0 |  0.955691 |         0 |    0      |  0.572226 |          0 |   -1.14931 |   -1.78603 |   -3.28063 |   -4.74937 |   -4.95376 |   -3.95929 |   -4.55952 |  -4.90613 |  -6.74778 |  -7.71806 |  -7.13598 |  -6.40055 |  -9.71429 |  -8.24422 |  -8.64505 |  -6.94907 |   -6.89837 |   -9.63855 |   -7.13523 |   -2.72436 |   -3.02339 |   -4.41286 |   -5.05948 |   -5.02876 |  -1.11971 |         0 |   1.99926 |   0       |   0       |   0       |   0       |   0       |   0       |    0       |    0       |     0      |    0       |    0       |    0       |    0       |     0      |   8.37823 |   8.07424 |   7.84029 |   8.80145 |   6.51237 |   6.61725 |   9.32581 |   8.70648 |   9.99095 |    6.10749 |     3.8171 |    0       |   0        |   0        |   0.946811 |          0 |    -3.4065 |  -3.57803 |  -3.51201 | -0.700101 |  -1.21992 |  -1.80141 | -0.568182 |   -1.9861 |  -1.52018 |  -2.24782 |  -0.837535 |    0       |    0       |          0 |    0       |          0 |    0       |          0 |   0       |   0       |         0 | -0.388042 |  0.388514 |         0 |         0 |  0.340408 |         0 |          0 |          0 |   -1.89944 |   -2.44186 |   -2.50948 |    -3.3373 |   -2.90451 |   -2.75476 |  -4.45168 |  -4.27676 |  -4.10751 |  -3.89892 |  -5.43497 |  -5.23745 |  -2.28591 |  -3.89305 |  -4.75845 |   -3.18777 |   -3.68296 |   -3.55285 |   -1.18653 |   -1.60795 |    -2.0319 |     -2.165 |   -8.43702 |  -5.60134 |  -4.27772 |  -5.31289 |  -5.49879 |  -6.12456 |  -2.49866 |  -5.24452 |  -4.10492 |  -3.99398 |   -6.30455 |   -4.44648 |   -6.20065 |   -8.12859 |   -8.22664 |   -6.14543 |   -4.46771 |    2.38273 |    2.6814 |   3.17052 |   3.93551 |   2.65203 |   5.06463 |   1.92476 | -0.285714 |  0.191342 |         0 |      2.202 |    2.39375 |    7.36593 |    7.08878 |    6.95652 |    4.12628 |    2.11911 |   0.290909 |  0.240333 |  -1.27986 | -0.734372 |         0 |         0 |  -1.45923 |   1.42899 |         0 |         0 |          0 |   -1.54131 |    0       |    0       |    0       |    0       |     0      |          0 |  -6.83485 |  -5.85389 |  -6.42367 |  -7.49774 |  -7.89142 |  -5.72372 |  -7.68896 |  -9.35872 |  -5.27969 |   -7.54655 |   -8.12968 |   -9.91973 |   -11.3114 |   -13.2499 |   -12.9776 |   -13.3304 |   -1.97719 |  -1.74765 | -0.575374 |         0 |   3.55469 |   4.19569 |   1.05486 |  0.831331 |   1.77368 | 0.0336692 |     1.5558 |    3.63207 |     12.121 |     11.919 |    15.3575 |    13.4838 |    14.4351 |   -3.02948 |  -3.22127 |  -4.99614 |  -5.84851 |  -9.37382 |  -9.22921 |  -4.99828 |   0.56852 |         0 |  -3.04919 |    -2.7895 |   -4.14027 |      0     |     0      |     0      |     0      |    0       |          0 | -245.114  |\n",
      "|  5 | RandomForestClassifier 3     |   3.77278 |    4.2351 |   0       |    0      |   0       |   0       |         0 |   0       |  0          |          0 |  0         |    0       |    0       |    0       |    0       |    0       |   0        |         0 |         0 |   0       |   0       |   0       |         0 |         0 |         0 |  0        |    0       |          0 |          0 |          0 |          0 |          0 |          0 |          0 |  -1.66815 |  -2.39031 |  -2.59445 |   0       |   0       |         0 |    0      |         0 |   0       |          0 |     0      |   -4.62419 |          0 |    0       |    0       |  -0.902958 |   -1.45157 |   -2.9313 |  -1.87722 | -0.860657 | -0.690105 | -0.355543 | -0.339696 | -0.414132 |   1.44134 |   1.21495 |    2.51813 |    2.32573 |    2.82035 |    2.43157 |    3.96147 |    1.80978 |    1.55221 |     2.3638 |     3.917 |   3.65074 |   3.22588 |    3.4437 |   3.58753 |   3.24947 |   4.55491 |   2.74594 |   2.62043 |    2.58052 |    2.75355 |    2.58443 |    1.77722 |    1.49884 |    0       |   0        |          0 |         0 |         0 |         0 |         0 |         0 |   0       |         0 |         0 |         0 |          0 |          0 |          0 |          0 |          0 |          0 |          0 |          0 |   0       |   0       |   0       |  0        |  0        |         0 |         0 |         0 |         0 |          0 |          0 |          0 |          0 |    0       |    0       |          0 |    0       |         0 |         0 |         0 |    0      |    0      |         0 |         0 |         0 |         0 |          0 |    0       |    0       |   0        |          0 |    0       |          0 |          0 |         0 |         0 |   0       |   0       |   0       |   0       |   2.21099 |   2.57676 |   1.32827 |   0        |    0       |   0        |          0 |          0 |          0 |          0 |          0 |         0 |         0 |         0 |         0 |  0        |         0 |         0 |         0 |         0 |   0        |   0        |    0       |    0       |    0       |    0       |    0       |    0       |  0.361371 |         0 |         0 |         0 |         0 |  0        |         0 |         0 |         0 |          0 |          0 |   0        |   0        |   0        |   0        |   0        |          0 |    0      |    0      |         0 |  0        |         0 |         0 |  0        |  0        | -0.344349 |   0        | -0.0814797 |          0 |  -0.135239 |   0        |          0 |          0 |          0 |         0 |         0 |         0 |         0 |         0 |         0 |         0 |         0 |         0 |          0 |          0 |          0 |          0 |          0 |    0       |    0       |    0       |   1.93682 |  0.700355 |   2.50579 |   2.38254 |   2.19648 |   2.51982 |   1.95952 |   1.41309 |   1.38471 |    1.34478 |    1.41379 |    1.48561 |    1.06383 |   0        |          0 |   0        |          0 |         0 | 0.0218287 |         0 |         0 |   0       |   0       |   0       |   0       |   0       |   -1.63934 |          0 |          0 |   -1.57895 |          0 |          0 |          0 |          0 |         0 |         0 |  -1.44254 |  -2.72549 |    0      |   0       |   -2.3446 |  -2.17969 |   -2.2474 |    -5.8805 |    -5.5622 |   -6.05803 |   -5.00157 |   -5.19166 |   -6.71796 |   -5.78021 |   -5.37108 |  -5.59105 |  -5.13477 |  -4.40971 |  -3.53643 |  -4.22702 |  -4.67687 |    -4.789 |  -4.31586 |  -3.61832 |          0 |          0 |          0 |   0        |          0 |   0        |   -2.65257 |   -2.07363 |  -1.61219 |  -3.39023 |  -4.00376 |  -4.14597 |   -3.1358 |   -3.5658 |   -2.6929 |   -5.1988 |  -4.78405 |   -4.25957 |   -3.95198 |   -4.87732 |   -4.90209 |    -2.1047 | -0.0470645 |   0.180425 | 0          |         0 |   0       |   0       |  0        |         0 |  0        |         0 |    0      |  0        |          0 |   -1.14931 |   -1.78603 |   -3.28063 |   -4.74937 |   -4.95376 |   -3.95929 |   -4.55952 |   0       |  -6.74778 |  -7.71806 |  -7.13598 |  -6.40055 |  -9.71429 |  -8.24422 |  -8.64505 |   0       |    0       |    0       |   -7.13523 |   -2.72436 |   -3.02339 |   -4.41286 |   -5.05948 |   -5.02876 |   0       |         0 |   0       |   0       |   0       |   0       |   0       |   0       |   0       |    0       |    0       |    10.9887 |    0       |    0       |    0       |    0       |     0      |   8.37823 |   8.07424 |   0       |   0       |   6.51237 |   6.61725 |   9.32581 |   8.70648 |   9.99095 |    6.10749 |     3.8171 |    1.44843 |   0.486258 |  -0.176812 |   0.946811 |          0 |    -3.4065 |   0       |  -3.51201 | -0.700101 |   0       |  -1.80141 | -0.568182 |    0      |  -1.52018 |   0       |  -0.837535 |    0       |    0       |          0 |    0       |          0 |    0       |          0 |   4.88153 |   3.35075 |         0 | -0.388042 |  0.388514 |         0 |         0 |  0        |         0 |          0 |          0 |    0       |   -2.44186 |   -2.50948 |    -3.3373 |   -2.90451 |   -2.75476 |  -4.45168 |  -4.27676 |  -4.10751 |   0       |  -5.43497 |  -5.23745 |  -2.28591 |  -3.89305 |   0       |   -3.18777 |   -3.68296 |   -3.55285 |   -1.18653 |   -1.60795 |    -2.0319 |     -2.165 |   -8.43702 |  -5.60134 |  -4.27772 |  -5.31289 |  -5.49879 |  -6.12456 |  -2.49866 |   0       |   0       |   0       |    0       |    0       |    0       |    0       |    0       |    0       |    0       |    2.38273 |    2.6814 |   3.17052 |   3.93551 |   2.65203 |   5.06463 |   1.92476 | -0.285714 |  0.191342 |         0 |      2.202 |    2.39375 |    7.36593 |    7.08878 |    6.95652 |    4.12628 |    2.11911 |   0.290909 |  0.240333 |  -1.27986 | -0.734372 |         0 |         0 |  -1.45923 |   1.42899 |         0 |         0 |          0 |   -1.54131 |   -3.63331 |   -2.64148 |   -2.89148 |   -1.05579 |     0      |          0 |  -6.83485 |  -5.85389 |  -6.42367 |  -7.49774 |  -7.89142 |  -5.72372 |  -7.68896 |   0       |   0       |    0       |    0       |   -9.91973 |   -11.3114 |   -13.2499 |   -12.9776 |   -13.3304 |   -1.97719 |  -1.74765 | -0.575374 |         0 |   3.55469 |   4.19569 |   1.05486 |  0.831331 |   1.77368 | 0.0336692 |     1.5558 |    3.63207 |     12.121 |     11.919 |    15.3575 |    13.4838 |    14.4351 |   -3.02948 |  -3.22127 |  -4.99614 |  -5.84851 |  -9.37382 |  -9.22921 |  -4.99828 |   0.56852 |         0 |  -3.04919 |    -2.7895 |   -4.14027 |      0     |     0      |     0      |     0      |    0       |          0 | -144.044  |\n",
      "|  6 | GradientBoostingClassifier 1 |   3.77278 |    4.2351 |   3.40683 |    3.1417 |   3.23135 |   3.19122 |         2 |   1.87877 | -0.00929056 |          0 |  0         |   -0.87963 |   -1.04327 |   -1.20589 |   -1.02104 |   -0.94879 |  -0.468917 |         0 |         0 |   0       |  -1.89066 |   0       |         0 |         0 |         0 | -0.314613 |    0       |          0 |          0 |          0 |          0 |          0 |          0 |          0 |   0       |   0       |   0       |   0       |   0       |         0 |    0      |         0 |   0       |          0 |     0      |    0       |          0 |    0       |    0       |   0        |    0       |    0      |   0       | -0.860657 | -0.690105 | -0.355543 | -0.339696 | -0.414132 |   1.44134 |   1.21495 |    2.51813 |    2.32573 |    2.82035 |    2.43157 |    3.96147 |    1.80978 |    1.55221 |     2.3638 |     3.917 |   3.65074 |   3.22588 |    3.4437 |   3.58753 |   3.24947 |   4.55491 |   2.74594 |   2.62043 |    2.58052 |    2.75355 |    2.58443 |    1.77722 |    0       |    0       |   0.823269 |          0 |         0 |         0 |         0 |         0 |         0 |   0       |         0 |         0 |         0 |          0 |          0 |          0 |          0 |          0 |          0 |          0 |          0 |   0       |   0       |   1.22145 |  0.705188 |  0.500202 |         0 |         0 |         0 |         0 |          0 |          0 |          0 |          0 |    0       |    0       |          0 |    0       |         0 |         0 |         0 |    0      |    0      |         0 |         0 |         0 |         0 |          0 |   -1.16092 |   -1.10753 |  -0.737095 |          0 |    0       |          0 |          0 |         0 |         0 |   0       |   0       |   1.26089 |   0       |   2.21099 |   2.57676 |   1.32827 |   0        |    1.00532 |   0        |          0 |          0 |          0 |          0 |          0 |         0 |         0 |         0 |         0 |  0        |         0 |         0 |         0 |         0 |   0.953951 |   0.787757 |    1.47187 |    2.51269 |    2.37477 |    2.30044 |    2.44208 |    1.32028 |  0.361371 |         0 |         0 |         0 |         0 |  0.765089 |         0 |         0 |         0 |          0 |          0 |  -0.150581 |  -0.565407 |  -0.522616 |  -0.642497 |  -0.382029 |          0 |    1.1516 |    1.3354 |         0 |  0.361591 |         0 |         0 |  0        |  0        |  0        |   0        | -0.0814797 |          0 |  -0.135239 |  -0.138253 |          0 |          0 |          0 |         0 |         0 |         0 |         0 |         0 |         0 |         0 |         0 |         0 |          0 |          0 |          0 |          0 |          0 |    0       |    2.09939 |    2.04017 |   1.93682 |  0.700355 |   2.50579 |   2.38254 |   2.19648 |   2.51982 |   1.95952 |   1.41309 |   1.38471 |    1.34478 |    1.41379 |    1.48561 |    1.06383 |   0.780031 |          0 |   0        |          0 |         0 | 0.0218287 |         0 |         0 |   0       |   0       |   0       |   0       |   0       |    0       |          0 |          0 |    0       |          0 |          0 |          0 |          0 |         0 |         0 |   0       |   0       |    0      |   0       |    0      |   0       |    0      |     0      |     0      |    0       |    0       |    0       |    0       |    0       |    0       |   0       |   0       |   0       |   0       |   0       |   0       |     0     |  -4.31586 |  -3.61832 |          0 |          0 |          0 |   0        |          0 |   0.228949 |   -2.65257 |   -2.07363 |  -1.61219 |   0       |  -4.00376 |  -4.14597 |   -3.1358 |   -3.5658 |   -2.6929 |   -5.1988 |  -4.78405 |   -4.25957 |   -3.95198 |    0       |    0       |     0      | -0.0470645 |   0.180425 | 0.00340225 |         0 |   0       |   0       |  0        |         0 |  0.955691 |         0 |    0      |  0        |          0 |   -1.14931 |   -1.78603 |    0       |    0       |   -4.95376 |   -3.95929 |   -4.55952 |  -4.90613 |  -6.74778 |  -7.71806 |   0       |   0       |  -9.71429 |   0       |   0       |   0       |    0       |    0       |    0       |   -2.72436 |    0       |   -4.41286 |   -5.05948 |   -5.02876 |  -1.11971 |         0 |   1.99926 |   0       |   0       |   6.99634 |   0       |   0       |   0       |    0       |    9.34608 |    10.9887 |    7.56362 |    0       |    7.38746 |    9.22434 |    12.0577 |   8.37823 |   8.07424 |   7.84029 |   8.80145 |   0       |   0       |   9.32581 |   8.70648 |   9.99095 |    6.10749 |     3.8171 |    0       |   0        |   0        |   0        |          0 |     0      |   0       |   0       |  0        |   0       |   0       | -0.568182 |    0      |   0       |   0       |  -0.837535 |    0       |    0       |          0 |    4.35537 |          0 |    0       |          0 |   4.88153 |   3.35075 |         0 |  0        |  0        |         0 |         0 |  0        |         0 |          0 |          0 |    0       |    0       |   -2.50948 |    -3.3373 |    0       |   -2.75476 |   0       |   0       |   0       |   0       |   0       |   0       |   0       |   0       |  -4.75845 |    0       |    0       |    0       |    0       |    0       |    -2.0319 |     -2.165 |   -8.43702 |   0       |   0       |   0       |   0       |   0       |   0       |   0       |   0       |   0       |    0       |    0       |    0       |    0       |    0       |    0       |    0       |    0       |    2.6814 |   3.17052 |   3.93551 |   2.65203 |   5.06463 |   1.92476 | -0.285714 |  0.191342 |         0 |      2.202 |    2.39375 |    7.36593 |    7.08878 |    6.95652 |    4.12628 |    2.11911 |   0.290909 |  0.240333 |   0       | -0.734372 |         0 |         0 |  -1.45923 |   1.42899 |         0 |         0 |          0 |   -1.54131 |    0       |    0       |    0       |    0       |     0      |          0 |   0       |   0       |   0       |   0       |   0       |   0       |   0       |   0       |   0       |    0       |    0       |    0       |     0      |     0      |     0      |     0      |    0       |  -1.74765 | -0.575374 |         0 |   3.55469 |   4.19569 |   1.05486 |  0.831331 |   1.77368 | 0.0336692 |     1.5558 |    3.63207 |     12.121 |     11.919 |    15.3575 |    13.4838 |    14.4351 |   -3.02948 |  -3.22127 |   0       |   0       |   0       |   0       |   0       |   0       |         0 |   0       |     0      |    0       |      0     |     0      |     0      |     0      |    0       |          0 |  363.393  |\n",
      "|  7 | GradientBoostingClassifier 2 |   3.77278 |    0      |   0       |    3.1417 |   3.23135 |   3.19122 |         2 |   0       |  0          |          0 |  0         |   -0.87963 |    0       |   -1.20589 |    0       |   -0.94879 |  -0.468917 |         0 |         0 |   0       |   0       |   0       |         0 |         0 |         0 | -0.314613 |   -0.44691 |          0 |          0 |          0 |          0 |          0 |          0 |          0 |   0       |   0       |   0       |   0       |   0       |         0 |    0      |         0 |   0       |          0 |     0      |    0       |          0 |    0       |    0       |   0        |    0       |    0      |   0       | -0.860657 | -0.690105 | -0.355543 | -0.339696 | -0.414132 |   1.44134 |   1.21495 |    2.51813 |    2.32573 |    2.82035 |    2.43157 |    3.96147 |    1.80978 |    0       |     2.3638 |     3.917 |   3.65074 |   3.22588 |    3.4437 |   3.58753 |   3.24947 |   4.55491 |   2.74594 |   2.62043 |    2.58052 |    2.75355 |    2.58443 |    1.77722 |    0       |    1.02985 |   0.823269 |          0 |         0 |         0 |         0 |         0 |         0 |   0       |         0 |         0 |         0 |          0 |          0 |          0 |          0 |          0 |          0 |          0 |          0 |   0.98082 |   0       |   1.22145 |  0.705188 |  0        |         0 |         0 |         0 |         0 |          0 |          0 |          0 |          0 |   -1.26123 |    0       |          0 |    0       |         0 |         0 |         0 |    0      |    0      |         0 |         0 |         0 |         0 |          0 |   -1.16092 |    0       |  -0.737095 |          0 |    1.01712 |          0 |          0 |         0 |         0 |   0       |   1.67686 |   1.26089 |   1.85489 |   2.21099 |   2.57676 |   1.32827 |   0        |    0       |   0        |          0 |          0 |          0 |          0 |          0 |         0 |         0 |         0 |         0 | -0.139672 |         0 |         0 |         0 |         0 |   0        |   0.787757 |    1.47187 |    2.51269 |    0       |    2.30044 |    2.44208 |    1.32028 |  0.361371 |         0 |         0 |         0 |         0 |  0.765089 |         0 |         0 |         0 |          0 |          0 |   0        |   0        |   0        |   0        |  -0.382029 |          0 |    0      |    1.3354 |         0 |  0        |         0 |         0 |  0        |  0        | -0.344349 |  -0.537634 | -0.0814797 |          0 |  -0.135239 |  -0.138253 |          0 |          0 |          0 |         0 |         0 |         0 |         0 |         0 |         0 |         0 |         0 |         0 |          0 |          0 |          0 |          0 |          0 |    0       |    0       |    0       |   1.93682 |  0.700355 |   0       |   2.38254 |   2.19648 |   2.51982 |   1.95952 |   0       |   1.38471 |    1.34478 |    0       |    1.48561 |    1.06383 |   0        |          0 |   0        |          0 |         0 | 0.0218287 |         0 |         0 |  -1.22318 |  -1.23962 |  -1.11893 |  -1.20494 |  -1.27928 |    0       |          0 |          0 |    0       |          0 |          0 |          0 |          0 |         0 |         0 |   0       |   0       |    0      |   0       |    0      |   0       |    0      |     0      |     0      |    0       |    0       |    0       |    0       |    0       |    0       |   0       |   0       |   0       |   0       |   0       |   0       |     0     |   0       |  -3.61832 |          0 |          0 |          0 |   0        |          0 |   0        |    0       |    0       |   0       |  -3.39023 |   0       |  -4.14597 |   -3.1358 |   -3.5658 |   -2.6929 |    0      |  -4.78405 |    0       |    0       |    0       |    0       |     0      | -0.0470645 |   0        | 0          |         0 |   1.08933 |   0       |  0        |         0 |  0        |         0 |    0      |  0        |          0 |   -1.14931 |   -1.78603 |    0       |    0       |    0       |   -3.95929 |    0       |  -4.90613 |   0       |   0       |   0       |   0       |   0       |   0       |   0       |   0       |    0       |    0       |    0       |    0       |    0       |   -4.41286 |    0       |    0       |   0       |         0 |   1.99926 |   2.06914 |   4.04412 |   6.99634 |   0       |   4.78261 |   2.99765 |    6.50075 |    9.34608 |    10.9887 |    7.56362 |    0       |    7.38746 |    9.22434 |    12.0577 |   8.37823 |   8.07424 |   7.84029 |   0       |   0       |   0       |   0       |   8.70648 |   9.99095 |    0       |     3.8171 |    0       |   0        |   0        |   0        |          0 |     0      |   0       |   0       |  0        |   0       |   0       |  0        |    0      |   0       |   0       |  -0.837535 |    0       |    0       |          0 |    0       |          0 |    0       |          0 |   4.88153 |   0       |         0 | -0.388042 |  0.388514 |         0 |         0 |  0        |         0 |          0 |          0 |    0       |    0       |    0       |     0      |    0       |    0       |   0       |   0       |   0       |   0       |   0       |   0       |   0       |   0       |  -4.75845 |    0       |    0       |    0       |    0       |    0       |    -2.0319 |     -2.165 |   -8.43702 |   0       |   0       |   0       |   0       |   0       |   0       |   0       |   0       |   0       |    0       |    0       |    0       |    0       |    0       |    0       |    0       |    2.38273 |    2.6814 |   3.17052 |   3.93551 |   2.65203 |   5.06463 |   1.92476 | -0.285714 |  0.191342 |         0 |      2.202 |    2.39375 |    7.36593 |    7.08878 |    6.95652 |    4.12628 |    2.11911 |   0.290909 |  0.240333 |   0       |  0        |         0 |         0 |  -1.45923 |   1.42899 |         0 |         0 |          0 |   -1.54131 |    0       |    0       |    0       |    0       |     0      |          0 |   0       |   0       |   0       |   0       |   0       |   0       |   0       |   0       |   0       |    0       |    0       |    0       |     0      |     0      |     0      |     0      |    0       |   0       |  0        |         0 |   3.55469 |   4.19569 |   1.05486 |  0.831331 |   1.77368 | 0.0336692 |     1.5558 |    3.63207 |     12.121 |     11.919 |    15.3575 |    13.4838 |    14.4351 |   -3.02948 |   0       |   0       |   0       |   0       |   0       |   0       |   0       |         0 |   0       |     0      |    0       |      0     |     0      |     0      |     0      |    0       |          0 |  418.747  |\n",
      "|  8 | XGBRFClassifier 1            |   3.77278 |    4.2351 |   3.40683 |    0      |   3.23135 |   3.19122 |         2 |   0       |  0          |          0 |  0         |    0       |    0       |    0       |    0       |    0       |  -0.468917 |         0 |         0 |   0       |   0       |   0       |         0 |         0 |         0 |  0        |    0       |          0 |          0 |          0 |          0 |          0 |          0 |          0 |   0       |   0       |   0       |   0       |   0       |         0 |    0      |         0 |   0       |          0 |     0      |    0       |          0 |    0       |    0       |  -0.902958 |   -1.45157 |   -2.9313 |  -1.87722 | -0.860657 | -0.690105 | -0.355543 | -0.339696 | -0.414132 |   1.44134 |   1.21495 |    2.51813 |    2.32573 |    2.82035 |    2.43157 |    3.96147 |    1.80978 |    1.55221 |     2.3638 |     3.917 |   3.65074 |   3.22588 |    3.4437 |   3.58753 |   3.24947 |   4.55491 |   2.74594 |   2.62043 |    2.58052 |    2.75355 |    2.58443 |    1.77722 |    1.49884 |    0       |   0        |          0 |         0 |         0 |         0 |         0 |         0 |   0       |         0 |         0 |         0 |          0 |          0 |          0 |          0 |          0 |          0 |          0 |          0 |   0       |   0       |   0       |  0        |  0        |         0 |         0 |         0 |         0 |          0 |          0 |          0 |          0 |    0       |    0       |          0 |    0       |         0 |         0 |         0 |    0      |    0      |         0 |         0 |         0 |         0 |          0 |    0       |    0       |   0        |          0 |    0       |          0 |          0 |         0 |         0 |   0       |   0       |   0       |   0       |   2.21099 |   2.57676 |   1.32827 |   0        |    0       |   0        |          0 |          0 |          0 |          0 |          0 |         0 |         0 |         0 |         0 |  0        |         0 |         0 |         0 |         0 |   0        |   0        |    0       |    0       |    2.37477 |    0       |    0       |    0       |  0        |         0 |         0 |         0 |         0 |  0.765089 |         0 |         0 |         0 |          0 |          0 |  -0.150581 |  -0.565407 |  -0.522616 |  -0.642497 |  -0.382029 |          0 |    0      |    0      |         0 |  0        |         0 |         0 |  0        |  0        |  0        |   0        |  0         |          0 |   0        |   0        |          0 |          0 |          0 |         0 |         0 |         0 |         0 |         0 |         0 |         0 |         0 |         0 |          0 |          0 |          0 |          0 |          0 |    2.46334 |    2.09939 |    2.04017 |   1.93682 |  0.700355 |   2.50579 |   2.38254 |   2.19648 |   2.51982 |   1.95952 |   1.41309 |   1.38471 |    1.34478 |    1.41379 |    1.48561 |    1.06383 |   0.780031 |          0 |   0.689569 |          0 |         0 | 0.0218287 |         0 |         0 |   0       |   0       |   0       |   0       |   0       |    0       |          0 |          0 |    0       |          0 |          0 |          0 |          0 |         0 |         0 |  -1.44254 |  -2.72549 |   -2.7033 |  -2.24228 |   -2.3446 |  -2.17969 |   -2.2474 |    -5.8805 |    -5.5622 |   -6.05803 |   -5.00157 |   -5.19166 |   -6.71796 |   -5.78021 |   -5.37108 |  -5.59105 |  -5.13477 |  -4.40971 |  -3.53643 |  -4.22702 |  -4.67687 |    -4.789 |  -4.31586 |  -3.61832 |          0 |          0 |          0 |  -0.231788 |          0 |   0.228949 |   -2.65257 |   -2.07363 |  -1.61219 |  -3.39023 |  -4.00376 |  -4.14597 |   -3.1358 |   -3.5658 |   -2.6929 |   -5.1988 |  -4.78405 |   -4.25957 |   -3.95198 |   -4.87732 |   -4.90209 |    -2.1047 | -0.0470645 |   0.180425 | 0.00340225 |         0 |   1.08933 |   1.40092 |  0.978825 |         0 |  0.955691 |         0 |    2.0406 |  0.572226 |          0 |   -1.14931 |   -1.78603 |   -3.28063 |   -4.74937 |   -4.95376 |   -3.95929 |   -4.55952 |  -4.90613 |  -6.74778 |  -7.71806 |  -7.13598 |  -6.40055 |  -9.71429 |  -8.24422 |  -8.64505 |  -6.94907 |   -6.89837 |   -9.63855 |   -7.13523 |   -2.72436 |   -3.02339 |   -4.41286 |   -5.05948 |   -5.02876 |  -1.11971 |         0 |   1.99926 |   0       |   0       |   0       |   0       |   0       |   0       |    0       |    0       |     0      |    0       |    0       |    0       |    9.22434 |    12.0577 |   8.37823 |   8.07424 |   7.84029 |   8.80145 |   0       |   0       |   0       |   0       |   0       |    0       |     0      |    0       |   0        |   0        |   0.946811 |          0 |    -3.4065 |  -3.57803 |  -3.51201 | -0.700101 |  -1.21992 |  -1.80141 | -0.568182 |   -1.9861 |  -1.52018 |  -2.24782 |  -0.837535 |    0       |    0       |          0 |    0       |          0 |    0       |          0 |   0       |   0       |         0 |  0        |  0.388514 |         0 |         0 |  0        |         0 |          0 |          0 |    0       |   -2.44186 |   -2.50948 |    -3.3373 |   -2.90451 |   -2.75476 |   0       |  -4.27676 |  -4.10751 |  -3.89892 |  -5.43497 |   0       |   0       |  -3.89305 |  -4.75845 |   -3.18777 |   -3.68296 |   -3.55285 |   -1.18653 |   -1.60795 |    -2.0319 |     -2.165 |   -8.43702 |  -5.60134 |  -4.27772 |  -5.31289 |  -5.49879 |  -6.12456 |  -2.49866 |  -5.24452 |  -4.10492 |  -3.99398 |   -6.30455 |   -4.44648 |   -6.20065 |   -8.12859 |   -8.22664 |   -6.14543 |   -4.46771 |    0       |    0      |   0       |   3.93551 |   2.65203 |   5.06463 |   1.92476 | -0.285714 |  0.191342 |         0 |      2.202 |    2.39375 |    7.36593 |    7.08878 |    6.95652 |    4.12628 |    2.11911 |   0.290909 |  0.240333 |  -1.27986 | -0.734372 |         0 |         0 |  -1.45923 |   1.42899 |         0 |         0 |          0 |   -1.54131 |   -3.63331 |   -2.64148 |   -2.89148 |   -1.05579 |    -1.3381 |          0 |  -6.83485 |  -5.85389 |  -6.42367 |  -7.49774 |  -7.89142 |  -5.72372 |  -7.68896 |  -9.35872 |  -5.27969 |   -7.54655 |   -8.12968 |   -9.91973 |   -11.3114 |   -13.2499 |   -12.9776 |   -13.3304 |   -1.97719 |  -1.74765 | -0.575374 |         0 |   3.55469 |   4.19569 |   1.05486 |  0.831331 |   1.77368 | 0.0336692 |     1.5558 |    3.63207 |     12.121 |     11.919 |    15.3575 |    13.4838 |    14.4351 |   -3.02948 |  -3.22127 |  -4.99614 |  -5.84851 |  -9.37382 |  -9.22921 |  -4.99828 |   0.56852 |         0 |  -3.04919 |    -2.7895 |   -4.14027 |    -13.159 |   -10.5878 |   -10.7377 |   -10.1989 |   -8.65448 |          0 | -324.407  |\n",
      "|  9 | XGBRFClassifier 2            |   3.77278 |    4.2351 |   3.40683 |    3.1417 |   3.23135 |   3.19122 |         0 |   0       |  0          |          0 |  0         |    0       |    0       |    0       |   -1.02104 |   -0.94879 |  -0.468917 |         0 |         0 |   0       |   0       |   0       |         0 |         0 |         0 |  0        |    0       |          0 |          0 |          0 |          0 |          0 |          0 |          0 |   0       |  -2.39031 |   0       |   0       |   0       |         0 |    0      |         0 |   0       |          0 |     0      |    0       |          0 |    0       |    0       |  -0.902958 |   -1.45157 |   -2.9313 |  -1.87722 | -0.860657 | -0.690105 | -0.355543 | -0.339696 | -0.414132 |   1.44134 |   1.21495 |    2.51813 |    2.32573 |    2.82035 |    2.43157 |    3.96147 |    1.80978 |    1.55221 |     2.3638 |     3.917 |   3.65074 |   3.22588 |    3.4437 |   3.58753 |   3.24947 |   4.55491 |   2.74594 |   2.62043 |    2.58052 |    2.75355 |    2.58443 |    1.77722 |    1.49884 |    0       |   0        |          0 |         0 |         0 |         0 |         0 |         0 |   0       |         0 |         0 |         0 |          0 |          0 |          0 |          0 |          0 |          0 |          0 |          0 |   0       |   0       |   0       |  0        |  0        |         0 |         0 |         0 |         0 |          0 |          0 |          0 |          0 |    0       |    0       |          0 |    0       |         0 |         0 |         0 |    0      |    0      |         0 |         0 |         0 |         0 |          0 |    0       |    0       |   0        |          0 |    0       |          0 |          0 |         0 |         0 |   0       |   0       |   0       |   0       |   2.21099 |   2.57676 |   1.32827 |   0        |    0       |   0        |          0 |          0 |          0 |          0 |          0 |         0 |         0 |         0 |         0 |  0        |         0 |         0 |         0 |         0 |   0.953951 |   0.787757 |    1.47187 |    2.51269 |    2.37477 |    2.30044 |    2.44208 |    1.32028 |  0        |         0 |         0 |         0 |         0 |  0.765089 |         0 |         0 |         0 |          0 |          0 |  -0.150581 |  -0.565407 |  -0.522616 |  -0.642497 |  -0.382029 |          0 |    1.1516 |    1.3354 |         0 |  0        |         0 |         0 |  0        |  0        |  0        |   0        |  0         |          0 |   0        |   0        |          0 |          0 |          0 |         0 |         0 |         0 |         0 |         0 |         0 |         0 |         0 |         0 |          0 |          0 |          0 |          0 |          0 |    0       |    0       |    0       |   1.93682 |  0.700355 |   2.50579 |   2.38254 |   2.19648 |   2.51982 |   1.95952 |   1.41309 |   1.38471 |    1.34478 |    1.41379 |    1.48561 |    1.06383 |   0.780031 |          0 |   0        |          0 |         0 | 0.0218287 |         0 |         0 |   0       |   0       |   0       |   0       |   0       |    0       |          0 |          0 |    0       |          0 |          0 |          0 |          0 |         0 |         0 |   0       |   0       |    0      |   0       |    0      |   0       |    0      |     0      |    -5.5622 |   -6.05803 |   -5.00157 |   -5.19166 |   -6.71796 |    0       |    0       |   0       |  -5.13477 |   0       |   0       |   0       |   0       |     0     |  -4.31586 |  -3.61832 |          0 |          0 |          0 |   0        |          0 |   0        |   -2.65257 |    0       |  -1.61219 |  -3.39023 |   0       |   0       |   -3.1358 |   -3.5658 |   -2.6929 |   -5.1988 |  -4.78405 |   -4.25957 |   -3.95198 |    0       |    0       |    -2.1047 | -0.0470645 |   0.180425 | 0          |         0 |   0       |   0       |  0        |         0 |  0.955691 |         0 |    0      |  0        |          0 |    0       |    0       |    0       |   -4.74937 |   -4.95376 |   -3.95929 |   -4.55952 |  -4.90613 |  -6.74778 |  -7.71806 |  -7.13598 |  -6.40055 |  -9.71429 |  -8.24422 |   0       |   0       |    0       |   -9.63855 |   -7.13523 |   -2.72436 |   -3.02339 |   -4.41286 |   -5.05948 |   -5.02876 |  -1.11971 |         0 |   0       |   0       |   0       |   6.99634 |   0       |   0       |   0       |    0       |    9.34608 |    10.9887 |    0       |    0       |    0       |    0       |     0      |   8.37823 |   8.07424 |   7.84029 |   8.80145 |   0       |   6.61725 |   0       |   8.70648 |   0       |    6.10749 |     3.8171 |    1.44843 |   0        |  -0.176812 |   0.946811 |          0 |    -3.4065 |  -3.57803 |  -3.51201 | -0.700101 |  -1.21992 |  -1.80141 | -0.568182 |    0      |  -1.52018 |   0       |  -0.837535 |    0       |    0       |          0 |    0       |          0 |    0       |          0 |   4.88153 |   0       |         0 | -0.388042 |  0.388514 |         0 |         0 |  0.340408 |         0 |          0 |          0 |   -1.89944 |   -2.44186 |   -2.50948 |    -3.3373 |   -2.90451 |   -2.75476 |   0       |  -4.27676 |  -4.10751 |  -3.89892 |   0       |   0       |  -2.28591 |  -3.89305 |  -4.75845 |   -3.18777 |   -3.68296 |   -3.55285 |   -1.18653 |   -1.60795 |    -2.0319 |     -2.165 |   -8.43702 |  -5.60134 |  -4.27772 |  -5.31289 |  -5.49879 |  -6.12456 |  -2.49866 |  -5.24452 |   0       |  -3.99398 |   -6.30455 |   -4.44648 |   -6.20065 |   -8.12859 |    0       |    0       |   -4.46771 |    2.38273 |    0      |   3.17052 |   3.93551 |   2.65203 |   5.06463 |   1.92476 | -0.285714 |  0.191342 |         0 |      2.202 |    2.39375 |    7.36593 |    7.08878 |    6.95652 |    4.12628 |    2.11911 |   0        |  0.240333 |  -1.27986 | -0.734372 |         0 |         0 |  -1.45923 |   1.42899 |         0 |         0 |          0 |   -1.54131 |    0       |    0       |    0       |   -1.05579 |    -1.3381 |          0 |   0       |   0       |   0       |   0       |   0       |   0       |   0       |   0       |   0       |    0       |    0       |    0       |     0      |     0      |   -12.9776 |   -13.3304 |   -1.97719 |  -1.74765 | -0.575374 |         0 |   3.55469 |   4.19569 |   1.05486 |  0.831331 |   1.77368 | 0.0336692 |     1.5558 |    3.63207 |     12.121 |     11.919 |    15.3575 |    13.4838 |    14.4351 |   -3.02948 |  -3.22127 |  -4.99614 |  -5.84851 |  -9.37382 |   0       |  -4.99828 |   0.56852 |         0 |  -3.04919 |    -2.7895 |   -4.14027 |    -13.159 |     0      |     0      |     0      |    0       |          0 |   18.0449 |\n",
      "| 10 | XGBClassifier 1              |   3.77278 |    4.2351 |   0       |    3.1417 |   3.23135 |   3.19122 |         2 |   1.87877 | -0.00929056 |          0 |  0         |    0       |    0       |    0       |   -1.02104 |    0       |  -0.468917 |         0 |         0 |  -2.09776 |  -1.89066 |   0       |         0 |         0 |         0 |  0        |    0       |          0 |          0 |          0 |          0 |          0 |          0 |          0 |   0       |   0       |   0       |   0       |   0       |         0 |    0      |         0 |   0       |          0 |     0      |    0       |          0 |    0       |    0       |   0        |    0       |    0      |   0       | -0.860657 | -0.690105 | -0.355543 | -0.339696 | -0.414132 |   1.44134 |   1.21495 |    2.51813 |    2.32573 |    2.82035 |    2.43157 |    3.96147 |    1.80978 |    0       |     2.3638 |     3.917 |   3.65074 |   3.22588 |    3.4437 |   3.58753 |   3.24947 |   4.55491 |   2.74594 |   2.62043 |    2.58052 |    2.75355 |    2.58443 |    1.77722 |    1.49884 |    1.02985 |   0        |          0 |         0 |         0 |         0 |         0 |         0 |   0       |         0 |         0 |         0 |          0 |          0 |          0 |          0 |          0 |          0 |          0 |          0 |   0.98082 |   1.23457 |   1.22145 |  0.705188 |  0.500202 |         0 |         0 |         0 |         0 |          0 |          0 |          0 |          0 |    0       |    0       |          0 |    0       |         0 |         0 |         0 |   -2.1316 |    0      |         0 |         0 |         0 |         0 |          0 |   -1.16092 |    0       |  -0.737095 |          0 |    0       |          0 |          0 |         0 |         0 |   0       |   1.67686 |   1.26089 |   1.85489 |   2.21099 |   2.57676 |   1.32827 |   0.680947 |    1.00532 |   0.319086 |          0 |          0 |          0 |          0 |          0 |         0 |         0 |         0 |         0 | -0.139672 |         0 |         0 |         0 |         0 |   0        |   0        |    0       |    0       |    0       |    2.30044 |    0       |    0       |  0.361371 |         0 |         0 |         0 |         0 |  0.765089 |         0 |         0 |         0 |          0 |          0 |   0        |   0        |   0        |   0        |  -0.382029 |          0 |    1.1516 |    1.3354 |         0 |  0        |         0 |         0 |  0        | -0.415857 | -0.344349 |  -0.537634 | -0.0814797 |          0 |  -0.135239 |  -0.138253 |          0 |          0 |          0 |         0 |         0 |         0 |         0 |         0 |         0 |         0 |         0 |         0 |          0 |          0 |          0 |          0 |          0 |    2.46334 |    2.09939 |    2.04017 |   1.93682 |  0.700355 |   0       |   2.38254 |   2.19648 |   2.51982 |   1.95952 |   1.41309 |   1.38471 |    1.34478 |    0       |    1.48561 |    1.06383 |   0        |          0 |   0        |          0 |         0 | 0.0218287 |         0 |         0 |   0       |   0       |  -1.11893 |  -1.20494 |  -1.27928 |    0       |          0 |          0 |    0       |          0 |          0 |          0 |          0 |         0 |         0 |   0       |   0       |    0      |   0       |    0      |   0       |    0      |     0      |     0      |    0       |    0       |    0       |    0       |    0       |    0       |   0       |   0       |   0       |   0       |   0       |   0       |     0     |   0       |   0       |          0 |          0 |          0 |   0        |          0 |   0.228949 |    0       |    0       |   0       |   0       |   0       |   0       |   -3.1358 |   -3.5658 |   -2.6929 |    0      |   0       |    0       |    0       |    0       |    0       |     0      | -0.0470645 |   0.180425 | 0          |         0 |   1.08933 |   1.40092 |  0.978825 |         0 |  0.955691 |         0 |    2.0406 |  0.572226 |          0 |   -1.14931 |   -1.78603 |    0       |    0       |   -4.95376 |   -3.95929 |   -4.55952 |  -4.90613 |   0       |   0       |   0       |   0       |   0       |   0       |   0       |   0       |    0       |    0       |    0       |    0       |    0       |   -4.41286 |   -5.05948 |    0       |   0       |         0 |   1.99926 |   0       |   0       |   6.99634 |   3.88346 |   4.78261 |   2.99765 |    6.50075 |    9.34608 |    10.9887 |    7.56362 |    5.91583 |    7.38746 |    9.22434 |    12.0577 |   8.37823 |   8.07424 |   7.84029 |   8.80145 |   6.51237 |   6.61725 |   9.32581 |   8.70648 |   9.99095 |    6.10749 |     3.8171 |    1.44843 |   0.486258 |  -0.176812 |   0        |          0 |     0      |   0       |   0       |  0        |   0       |   0       |  0        |    0      |   0       |   0       |   0        |    0       |    0       |          0 |    0       |          0 |    0       |          0 |   4.88153 |   3.35075 |         0 | -0.388042 |  0.388514 |         0 |         0 |  0        |         0 |          0 |          0 |    0       |    0       |    0       |     0      |    0       |    0       |   0       |   0       |   0       |   0       |   0       |   0       |   0       |   0       |   0       |    0       |    0       |    0       |    0       |    0       |    -2.0319 |      0     |   -8.43702 |   0       |   0       |   0       |   0       |   0       |   0       |   0       |   0       |   0       |    0       |    0       |    0       |    0       |    0       |    0       |    0       |    2.38273 |    2.6814 |   3.17052 |   3.93551 |   2.65203 |   5.06463 |   1.92476 | -0.285714 |  0.191342 |         0 |      2.202 |    2.39375 |    7.36593 |    7.08878 |    6.95652 |    4.12628 |    2.11911 |   0.290909 |  0.240333 |   0       | -0.734372 |         0 |         0 |  -1.45923 |   0       |         0 |         0 |          0 |   -1.54131 |    0       |    0       |    0       |    0       |     0      |          0 |   0       |   0       |   0       |   0       |   0       |   0       |   0       |   0       |   0       |    0       |    0       |    0       |     0      |     0      |     0      |     0      |    0       |  -1.74765 | -0.575374 |         0 |   3.55469 |   4.19569 |   1.05486 |  0.831331 |   1.77368 | 0         |     1.5558 |    3.63207 |     12.121 |     11.919 |    15.3575 |    13.4838 |    14.4351 |   -3.02948 |  -3.22127 |   0       |   0       |   0       |   0       |   0       |   0       |         0 |   0       |     0      |    0       |      0     |     0      |     0      |     0      |    0       |          0 |  482.748  |\n",
      "| 11 | XGBClassifier 2              |   3.77278 |    4.2351 |   0       |    0      |   3.23135 |   3.19122 |         0 |   1.87877 | -0.00929056 |          0 |  0         |   -0.87963 |    0       |   -1.20589 |   -1.02104 |   -0.94879 |  -0.468917 |         0 |         0 |  -2.09776 |  -1.89066 |  -1.53457 |         0 |         0 |         0 |  0        |    0       |          0 |          0 |          0 |          0 |          0 |          0 |          0 |   0       |   0       |   0       |   0       |   0       |         0 |    0      |         0 |   0       |          0 |     0      |    0       |          0 |    0       |    0       |   0        |    0       |    0      |   0       | -0.860657 | -0.690105 | -0.355543 | -0.339696 | -0.414132 |   1.44134 |   1.21495 |    2.51813 |    2.32573 |    2.82035 |    2.43157 |    3.96147 |    1.80978 |    0       |     2.3638 |     3.917 |   3.65074 |   3.22588 |    3.4437 |   3.58753 |   3.24947 |   4.55491 |   2.74594 |   2.62043 |    2.58052 |    2.75355 |    2.58443 |    1.77722 |    1.49884 |    1.02985 |   0.823269 |          0 |         0 |         0 |         0 |         0 |         0 |   0       |         0 |         0 |         0 |          0 |          0 |          0 |          0 |          0 |          0 |          0 |          0 |   0.98082 |   1.23457 |   0       |  0.705188 |  0.500202 |         0 |         0 |         0 |         0 |          0 |          0 |          0 |          0 |    0       |    0       |          0 |    0       |         0 |         0 |         0 |   -2.1316 |    0      |         0 |         0 |         0 |         0 |          0 |   -1.16092 |    0       |  -0.737095 |          0 |    0       |          0 |          0 |         0 |         0 |   0       |   0       |   1.26089 |   1.85489 |   2.21099 |   2.57676 |   1.32827 |   0.680947 |    1.00532 |   0.319086 |          0 |          0 |          0 |          0 |          0 |         0 |         0 |         0 |         0 | -0.139672 |         0 |         0 |         0 |         0 |   0        |   0.787757 |    0       |    2.51269 |    0       |    2.30044 |    0       |    0       |  0.361371 |         0 |         0 |         0 |         0 |  0.765089 |         0 |         0 |         0 |          0 |          0 |   0        |   0        |   0        |  -0.642497 |  -0.382029 |          0 |    0      |    1.3354 |         0 |  0        |         0 |         0 | -0.239778 | -0.415857 | -0.344349 |  -0.537634 | -0.0814797 |          0 |  -0.135239 |  -0.138253 |          0 |          0 |          0 |         0 |         0 |         0 |         0 |         0 |         0 |         0 |         0 |         0 |          0 |          0 |          0 |          0 |          0 |    2.46334 |    2.09939 |    2.04017 |   1.93682 |  0        |   2.50579 |   2.38254 |   2.19648 |   2.51982 |   1.95952 |   1.41309 |   1.38471 |    1.34478 |    1.41379 |    1.48561 |    1.06383 |   0        |          0 |   0        |          0 |         0 | 0.0218287 |         0 |         0 |   0       |   0       |  -1.11893 |  -1.20494 |  -1.27928 |    0       |          0 |          0 |    0       |          0 |          0 |          0 |          0 |         0 |         0 |   0       |   0       |    0      |   0       |    0      |   0       |    0      |     0      |     0      |    0       |    0       |    0       |    0       |    0       |    0       |   0       |   0       |   0       |   0       |   0       |   0       |     0     |   0       |   0       |          0 |          0 |          0 |   0        |          0 |   0.228949 |    0       |    0       |   0       |   0       |   0       |   0       |   -3.1358 |   -3.5658 |   -2.6929 |    0      |   0       |    0       |    0       |    0       |    0       |     0      | -0.0470645 |   0.180425 | 0          |         0 |   1.08933 |   0       |  0.978825 |         0 |  0.955691 |         0 |    2.0406 |  0.572226 |          0 |   -1.14931 |   -1.78603 |   -3.28063 |    0       |   -4.95376 |   -3.95929 |    0       |  -4.90613 |   0       |   0       |   0       |   0       |   0       |   0       |   0       |   0       |    0       |    0       |    0       |    0       |    0       |   -4.41286 |    0       |    0       |   0       |         0 |   1.99926 |   2.06914 |   0       |   6.99634 |   3.88346 |   4.78261 |   2.99765 |    6.50075 |    9.34608 |    10.9887 |    7.56362 |    5.91583 |    7.38746 |    9.22434 |    12.0577 |   8.37823 |   8.07424 |   7.84029 |   8.80145 |   6.51237 |   6.61725 |   9.32581 |   8.70648 |   9.99095 |    6.10749 |     3.8171 |    1.44843 |   0        |   0        |   0        |          0 |     0      |   0       |   0       |  0        |   0       |   0       |  0        |    0      |   0       |   0       |   0        |    0       |    0       |          0 |    0       |          0 |    0       |          0 |   4.88153 |   3.35075 |         0 | -0.388042 |  0.388514 |         0 |         0 |  0        |         0 |          0 |          0 |    0       |    0       |    0       |     0      |    0       |    0       |   0       |   0       |   0       |   0       |   0       |   0       |   0       |   0       |  -4.75845 |    0       |    0       |    0       |    0       |    0       |    -2.0319 |     -2.165 |   -8.43702 |   0       |   0       |   0       |   0       |   0       |   0       |   0       |   0       |   0       |    0       |    0       |    0       |    0       |    0       |    0       |    0       |    2.38273 |    2.6814 |   3.17052 |   3.93551 |   2.65203 |   5.06463 |   1.92476 | -0.285714 |  0.191342 |         0 |      2.202 |    2.39375 |    7.36593 |    7.08878 |    6.95652 |    4.12628 |    2.11911 |   0.290909 |  0.240333 |   0       |  0        |         0 |         0 |  -1.45923 |   1.42899 |         0 |         0 |          0 |   -1.54131 |    0       |    0       |    0       |    0       |     0      |          0 |   0       |   0       |   0       |   0       |   0       |   0       |   0       |   0       |   0       |    0       |    0       |    0       |     0      |     0      |     0      |     0      |    0       |  -1.74765 |  0        |         0 |   3.55469 |   4.19569 |   1.05486 |  0.831331 |   1.77368 | 0         |     1.5558 |    3.63207 |     12.121 |     11.919 |    15.3575 |    13.4838 |    14.4351 |   -3.02948 |  -3.22127 |   0       |   0       |   0       |   0       |   0       |   0       |         0 |   0       |     0      |    0       |      0     |     0      |     0      |     0      |    0       |          0 |  477.961  |\n",
      "+----+------------------------------+-----------+-----------+-----------+-----------+-----------+-----------+-----------+-----------+-------------+------------+------------+------------+------------+------------+------------+------------+------------+-----------+-----------+-----------+-----------+-----------+-----------+-----------+-----------+-----------+------------+------------+------------+------------+------------+------------+------------+------------+-----------+-----------+-----------+-----------+-----------+-----------+-----------+-----------+-----------+------------+------------+------------+------------+------------+------------+------------+------------+-----------+-----------+-----------+-----------+-----------+-----------+-----------+-----------+-----------+------------+------------+------------+------------+------------+------------+------------+------------+-----------+-----------+-----------+-----------+-----------+-----------+-----------+-----------+-----------+------------+------------+------------+------------+------------+------------+------------+------------+-----------+-----------+-----------+-----------+-----------+-----------+-----------+-----------+-----------+------------+------------+------------+------------+------------+------------+------------+------------+-----------+-----------+-----------+-----------+-----------+-----------+-----------+-----------+-----------+------------+------------+------------+------------+------------+------------+------------+------------+-----------+-----------+-----------+-----------+-----------+-----------+-----------+-----------+-----------+------------+------------+------------+------------+------------+------------+------------+------------+-----------+-----------+-----------+-----------+-----------+-----------+-----------+-----------+-----------+------------+------------+------------+------------+------------+------------+------------+------------+-----------+-----------+-----------+-----------+-----------+-----------+-----------+-----------+-----------+------------+------------+------------+------------+------------+------------+------------+------------+-----------+-----------+-----------+-----------+-----------+-----------+-----------+-----------+-----------+------------+------------+------------+------------+------------+------------+------------+------------+-----------+-----------+-----------+-----------+-----------+-----------+-----------+-----------+-----------+------------+------------+------------+------------+------------+------------+------------+------------+-----------+-----------+-----------+-----------+-----------+-----------+-----------+-----------+-----------+------------+------------+------------+------------+------------+------------+------------+------------+-----------+-----------+-----------+-----------+-----------+-----------+-----------+-----------+-----------+------------+------------+------------+------------+------------+------------+------------+------------+-----------+-----------+-----------+-----------+-----------+-----------+-----------+-----------+-----------+------------+------------+------------+------------+------------+------------+------------+------------+-----------+-----------+-----------+-----------+-----------+-----------+-----------+-----------+-----------+------------+------------+------------+------------+------------+------------+------------+------------+-----------+-----------+-----------+-----------+-----------+-----------+-----------+-----------+-----------+------------+------------+------------+------------+------------+------------+------------+------------+-----------+-----------+-----------+-----------+-----------+-----------+-----------+-----------+-----------+------------+------------+------------+------------+------------+------------+------------+------------+-----------+-----------+-----------+-----------+-----------+-----------+-----------+-----------+-----------+------------+------------+------------+------------+------------+------------+------------+------------+-----------+-----------+-----------+-----------+-----------+-----------+-----------+-----------+-----------+------------+------------+------------+------------+------------+------------+------------+------------+-----------+-----------+-----------+-----------+-----------+-----------+-----------+-----------+-----------+------------+------------+------------+------------+------------+------------+------------+------------+-----------+-----------+-----------+-----------+-----------+-----------+-----------+-----------+-----------+------------+------------+------------+------------+------------+------------+------------+------------+-----------+-----------+-----------+-----------+-----------+-----------+-----------+-----------+-----------+------------+------------+------------+------------+------------+------------+------------+------------+-----------+-----------+-----------+-----------+-----------+-----------+-----------+-----------+-----------+------------+------------+------------+------------+------------+------------+------------+------------+-----------+-----------+-----------+-----------+-----------+-----------+-----------+-----------+-----------+------------+------------+------------+------------+------------+------------+------------+------------+-----------+-----------+-----------+-----------+-----------+-----------+-----------+-----------+-----------+------------+------------+------------+------------+------------+------------+------------+------------+-----------+-----------+-----------+-----------+-----------+-----------+-----------+-----------+-----------+------------+------------+------------+------------+------------+------------+------------+------------+-----------+-----------+-----------+-----------+-----------+-----------+-----------+-----------+-----------+------------+------------+------------+------------+------------+------------+------------+------------+-----------+-----------+-----------+-----------+-----------+-----------+-----------+-----------+-----------+------------+------------+------------+------------+------------+------------+------------+------------+-----------+-----------+-----------+-----------+-----------+-----------+-----------+-----------+-----------+------------+------------+------------+------------+------------+------------+------------+------------+-----------+-----------+-----------+-----------+-----------+-----------+-----------+-----------+-----------+------------+------------+------------+------------+------------+------------+------------+------------+-----------+\n"
     ]
    }
   ],
   "source": [
    "headers = [\"Classifier type\", \"pct_change\"]\n",
    "score_df = pd.DataFrame(score.items(), columns=headers)\n",
    "# print(tabulate(score_df, headers, tablefmt=\"psql\"))\n",
    "headers2 = [\"Classifier type\", ] + step_headers\n",
    "score_df = pd.DataFrame(score.items(), columns=headers)\n",
    "accuracy_df = pd.DataFrame(score_df['pct_change'].tolist(), index=score_df.index, columns=step_headers)\n",
    "score_df = score_df.drop('pct_change', 1)\n",
    "f_out: pd.DataFrame = pd.merge(score_df, accuracy_df, how='left', left_index=True, right_index=True)\n",
    "f_out['sum'] = f_out.sum(axis=1)\n",
    "f_out['sum'] = f_out['sum'].apply(lambda x: x+100)\n",
    "headers2 = headers2 + ['sum']\n",
    "print(tabulate(f_out, headers2, tablefmt=\"psql\"))\n",
    "\n",
    "filename_to_export = f'C:\\\\Users\\\\exomat\\\\Desktop\\\\repo\\\\magisterka_analiza\\\\data\\\\results\\\\simulation_diff\\\\result_test_all_{symbol}_{WINDOW}_{datetime.now().strftime(\"%d_%m_%Y %H_%M_%S\")}.csv'\n",
    "f_out.to_csv(filename_to_export, index=False)"
   ],
   "metadata": {
    "collapsed": false,
    "pycharm": {
     "name": "#%%\n"
    }
   }
  },
  {
   "cell_type": "code",
   "execution_count": 73,
   "outputs": [],
   "source": [],
   "metadata": {
    "collapsed": false,
    "pycharm": {
     "name": "#%%\n"
    }
   }
  }
 ],
 "metadata": {
  "kernelspec": {
   "name": "magisterka_analiza",
   "language": "python",
   "display_name": "Python magisterka"
  },
  "language_info": {
   "codemirror_mode": {
    "name": "ipython",
    "version": 2
   },
   "file_extension": ".py",
   "mimetype": "text/x-python",
   "name": "python",
   "nbconvert_exporter": "python",
   "pygments_lexer": "ipython2",
   "version": "2.7.6"
  }
 },
 "nbformat": 4,
 "nbformat_minor": 0
}