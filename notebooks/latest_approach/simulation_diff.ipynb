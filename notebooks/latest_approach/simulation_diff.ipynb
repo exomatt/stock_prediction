{
 "cells": [
  {
   "cell_type": "code",
   "execution_count": 1,
   "outputs": [],
   "source": [
    "from collections import defaultdict\n",
    "\n",
    "import yfinance as yf\n",
    "from datetime import datetime\n",
    "import pandas as pd\n",
    "import numpy as np\n",
    "import matplotlib.pyplot as plt\n",
    "from finta import TA\n",
    "import numpy as np\n",
    "from sklearn.ensemble import RandomForestClassifier, VotingClassifier\n",
    "from sklearn.model_selection import GridSearchCV, train_test_split\n",
    "from sklearn.preprocessing import MinMaxScaler\n",
    "from sklearn.tree import DecisionTreeClassifier\n",
    "from sklearn.ensemble import GradientBoostingClassifier\n",
    "from sklearn.metrics import confusion_matrix, classification_report, accuracy_score\n",
    "from sklearn.metrics import jaccard_score\n",
    "import seaborn as sn\n",
    "from tabulate import tabulate\n",
    "from xgboost import XGBClassifier\n",
    "from ta import add_all_ta_features\n",
    "from sklearn.feature_selection import RFE\n",
    "import xgboost as xgb"
   ],
   "metadata": {
    "collapsed": false,
    "pycharm": {
     "name": "#%%\n"
    }
   }
  },
  {
   "cell_type": "code",
   "execution_count": 2,
   "outputs": [],
   "source": [
    "WINDOW = 16  # number of rows to look ahead to see what the price did\n",
    "FETCH_INTERVAL = \"60m\"  # fetch data by interval (including intraday if period < 60 days)\n",
    "# valid intervals: 1m,2m,5m,15m,30m,60m,90m,1h,1d,5d,1wk,1mo,3mo\n",
    "# (optional, default is '1d')\n",
    "INTERVAL = '2y'  # use \"period\" instead of start/end\n",
    "# valid periods: 1d,5d,1mo,3mo,6mo,1y,2y,5y,10y,ytd,max\n",
    "# (optional, default is '1mo')\n",
    "symbol = 'AAPL'  # Symbol of the desired stock\n",
    "\n",
    "# one day 16 rows of data\n"
   ],
   "metadata": {
    "collapsed": false,
    "pycharm": {
     "name": "#%%\n"
    }
   }
  },
  {
   "cell_type": "code",
   "execution_count": 3,
   "outputs": [
    {
     "name": "stdout",
     "output_type": "stream",
     "text": [
      "[*********************100%***********************]  1 of 1 completed\n"
     ]
    },
    {
     "data": {
      "text/plain": "                                 Open        High         Low       Close  \\\nDatetime                                                                    \n2019-09-09 04:00:00-04:00   53.347500   53.450000   53.347500   53.450000   \n2019-09-09 06:00:00-04:00   53.415000   53.575000   53.415000   53.575000   \n2019-09-09 07:00:00-04:00   53.557500   53.575000   53.500000   53.500000   \n2019-09-09 08:00:00-04:00   53.520000   53.640000   53.500000   53.625000   \n2019-09-09 09:00:00-04:00   53.612500   53.710000   53.612500   53.710000   \n...                               ...         ...         ...         ...   \n2021-09-07 12:30:00-04:00  156.852600  157.259995  156.652100  156.880005   \n2021-09-07 13:30:00-04:00  156.883102  157.100006  156.619995  156.970001   \n2021-09-07 14:30:00-04:00  156.960007  157.100006  156.645004  156.850998   \n2021-09-07 15:30:00-04:00  156.854996  157.080002  156.654999  156.690002   \n2021-09-07 16:00:00-04:00  156.690000  156.857900  156.650000  156.685000   \n\n                            Adj Close   Volume  \nDatetime                                        \n2019-09-09 04:00:00-04:00   53.450000        0  \n2019-09-09 06:00:00-04:00   53.575000        0  \n2019-09-09 07:00:00-04:00   53.500000        0  \n2019-09-09 08:00:00-04:00   53.625000        0  \n2019-09-09 09:00:00-04:00   53.710000        0  \n...                               ...      ...  \n2021-09-07 12:30:00-04:00  156.880005  9173047  \n2021-09-07 13:30:00-04:00  156.970001  6010574  \n2021-09-07 14:30:00-04:00  156.850998  7046194  \n2021-09-07 15:30:00-04:00  156.690002  7440331  \n2021-09-07 16:00:00-04:00  156.685000        0  \n\n[8359 rows x 6 columns]",
      "text/html": "<div>\n<style scoped>\n    .dataframe tbody tr th:only-of-type {\n        vertical-align: middle;\n    }\n\n    .dataframe tbody tr th {\n        vertical-align: top;\n    }\n\n    .dataframe thead th {\n        text-align: right;\n    }\n</style>\n<table border=\"1\" class=\"dataframe\">\n  <thead>\n    <tr style=\"text-align: right;\">\n      <th></th>\n      <th>Open</th>\n      <th>High</th>\n      <th>Low</th>\n      <th>Close</th>\n      <th>Adj Close</th>\n      <th>Volume</th>\n    </tr>\n    <tr>\n      <th>Datetime</th>\n      <th></th>\n      <th></th>\n      <th></th>\n      <th></th>\n      <th></th>\n      <th></th>\n    </tr>\n  </thead>\n  <tbody>\n    <tr>\n      <th>2019-09-09 04:00:00-04:00</th>\n      <td>53.347500</td>\n      <td>53.450000</td>\n      <td>53.347500</td>\n      <td>53.450000</td>\n      <td>53.450000</td>\n      <td>0</td>\n    </tr>\n    <tr>\n      <th>2019-09-09 06:00:00-04:00</th>\n      <td>53.415000</td>\n      <td>53.575000</td>\n      <td>53.415000</td>\n      <td>53.575000</td>\n      <td>53.575000</td>\n      <td>0</td>\n    </tr>\n    <tr>\n      <th>2019-09-09 07:00:00-04:00</th>\n      <td>53.557500</td>\n      <td>53.575000</td>\n      <td>53.500000</td>\n      <td>53.500000</td>\n      <td>53.500000</td>\n      <td>0</td>\n    </tr>\n    <tr>\n      <th>2019-09-09 08:00:00-04:00</th>\n      <td>53.520000</td>\n      <td>53.640000</td>\n      <td>53.500000</td>\n      <td>53.625000</td>\n      <td>53.625000</td>\n      <td>0</td>\n    </tr>\n    <tr>\n      <th>2019-09-09 09:00:00-04:00</th>\n      <td>53.612500</td>\n      <td>53.710000</td>\n      <td>53.612500</td>\n      <td>53.710000</td>\n      <td>53.710000</td>\n      <td>0</td>\n    </tr>\n    <tr>\n      <th>...</th>\n      <td>...</td>\n      <td>...</td>\n      <td>...</td>\n      <td>...</td>\n      <td>...</td>\n      <td>...</td>\n    </tr>\n    <tr>\n      <th>2021-09-07 12:30:00-04:00</th>\n      <td>156.852600</td>\n      <td>157.259995</td>\n      <td>156.652100</td>\n      <td>156.880005</td>\n      <td>156.880005</td>\n      <td>9173047</td>\n    </tr>\n    <tr>\n      <th>2021-09-07 13:30:00-04:00</th>\n      <td>156.883102</td>\n      <td>157.100006</td>\n      <td>156.619995</td>\n      <td>156.970001</td>\n      <td>156.970001</td>\n      <td>6010574</td>\n    </tr>\n    <tr>\n      <th>2021-09-07 14:30:00-04:00</th>\n      <td>156.960007</td>\n      <td>157.100006</td>\n      <td>156.645004</td>\n      <td>156.850998</td>\n      <td>156.850998</td>\n      <td>7046194</td>\n    </tr>\n    <tr>\n      <th>2021-09-07 15:30:00-04:00</th>\n      <td>156.854996</td>\n      <td>157.080002</td>\n      <td>156.654999</td>\n      <td>156.690002</td>\n      <td>156.690002</td>\n      <td>7440331</td>\n    </tr>\n    <tr>\n      <th>2021-09-07 16:00:00-04:00</th>\n      <td>156.690000</td>\n      <td>156.857900</td>\n      <td>156.650000</td>\n      <td>156.685000</td>\n      <td>156.685000</td>\n      <td>0</td>\n    </tr>\n  </tbody>\n</table>\n<p>8359 rows × 6 columns</p>\n</div>"
     },
     "execution_count": 3,
     "metadata": {},
     "output_type": "execute_result"
    }
   ],
   "source": [
    "data = yf.download(  # or pdr.get_data_yahoo(...\n",
    "    tickers=symbol,\n",
    "\n",
    "    period=INTERVAL,\n",
    "\n",
    "    interval=FETCH_INTERVAL,\n",
    "\n",
    "    # group by ticker (to access via data['SPY'])\n",
    "    # (optional, default is 'column')\n",
    "    group_by='ticker',\n",
    "\n",
    "    # adjust all OHLC automatically\n",
    "    # (optional, default is False)\n",
    "    # auto_adjust = True,\n",
    "\n",
    "    # download pre/post regular market hours data\n",
    "    # (optional, default is False)\n",
    "    prepost=True,\n",
    "\n",
    "    # use threads for mass downloading? (True/False/Integer)\n",
    "    # (optional, default is True)\n",
    "    threads=False,\n",
    "\n",
    "    # proxy URL scheme use use when downloading?\n",
    "    # (optional, default is None)\n",
    "    proxy=None\n",
    ")\n",
    "data"
   ],
   "metadata": {
    "collapsed": false,
    "pycharm": {
     "name": "#%%\n"
    }
   }
  },
  {
   "cell_type": "code",
   "execution_count": 4,
   "outputs": [],
   "source": [
    "data.rename(columns={\"Close\": 'close', \"High\": 'high', \"Low\": 'low', 'Volume': 'volume', 'Open': 'open'}, inplace=True)\n",
    "data.head(10)\n",
    "important_columns = ['open', 'high', 'low', 'close', 'volume']"
   ],
   "metadata": {
    "collapsed": false,
    "pycharm": {
     "name": "#%%\n"
    }
   }
  },
  {
   "cell_type": "code",
   "execution_count": 5,
   "outputs": [],
   "source": [
    "\n",
    "def calculate_diffs(diff_number, col_name):\n",
    "    new_col_name = f'{col_name}_{diff_number}'\n",
    "    data[new_col_name] = data[col_name].diff(diff_number)"
   ],
   "metadata": {
    "collapsed": false,
    "pycharm": {
     "name": "#%%\n"
    }
   }
  },
  {
   "cell_type": "code",
   "execution_count": 6,
   "outputs": [],
   "source": [
    "# for name in important_columns:\n",
    "#     for i in range(1, 11):\n",
    "#         calculate_diffs(i, name)\n",
    "#\n",
    "# data.head(10)"
   ],
   "metadata": {
    "collapsed": false,
    "pycharm": {
     "name": "#%%\n"
    }
   }
  },
  {
   "cell_type": "code",
   "execution_count": 7,
   "outputs": [],
   "source": [
    "data = data.dropna()"
   ],
   "metadata": {
    "collapsed": false,
    "pycharm": {
     "name": "#%%\n"
    }
   }
  },
  {
   "cell_type": "code",
   "execution_count": 8,
   "outputs": [
    {
     "data": {
      "text/plain": "<AxesSubplot:xlabel='Datetime'>"
     },
     "execution_count": 8,
     "metadata": {},
     "output_type": "execute_result"
    },
    {
     "data": {
      "text/plain": "<Figure size 432x288 with 1 Axes>",
      "image/png": "[encoded data removed]"
     },
     "metadata": {
      "needs_background": "light"
     },
     "output_type": "display_data"
    }
   ],
   "source": [
    "data['close'].plot()"
   ],
   "metadata": {
    "collapsed": false,
    "pycharm": {
     "name": "#%%\n"
    }
   }
  },
  {
   "cell_type": "code",
   "execution_count": 9,
   "outputs": [
    {
     "data": {
      "text/plain": "                              open    high      low   close  Adj Close  \\\nDatetime                                                                 \n2019-09-09 04:00:00-04:00  53.3475  53.450  53.3475  53.450     53.450   \n2019-09-09 06:00:00-04:00  53.4150  53.575  53.4150  53.575     53.575   \n2019-09-09 07:00:00-04:00  53.5575  53.575  53.5000  53.500     53.500   \n2019-09-09 08:00:00-04:00  53.5200  53.640  53.5000  53.625     53.625   \n2019-09-09 09:00:00-04:00  53.6125  53.710  53.6125  53.710     53.710   \n\n                           volume  close_pct  \nDatetime                                      \n2019-09-09 04:00:00-04:00       0        NaN  \n2019-09-09 06:00:00-04:00       0   0.002339  \n2019-09-09 07:00:00-04:00       0  -0.001400  \n2019-09-09 08:00:00-04:00       0   0.002336  \n2019-09-09 09:00:00-04:00       0   0.001585  ",
      "text/html": "<div>\n<style scoped>\n    .dataframe tbody tr th:only-of-type {\n        vertical-align: middle;\n    }\n\n    .dataframe tbody tr th {\n        vertical-align: top;\n    }\n\n    .dataframe thead th {\n        text-align: right;\n    }\n</style>\n<table border=\"1\" class=\"dataframe\">\n  <thead>\n    <tr style=\"text-align: right;\">\n      <th></th>\n      <th>open</th>\n      <th>high</th>\n      <th>low</th>\n      <th>close</th>\n      <th>Adj Close</th>\n      <th>volume</th>\n      <th>close_pct</th>\n    </tr>\n    <tr>\n      <th>Datetime</th>\n      <th></th>\n      <th></th>\n      <th></th>\n      <th></th>\n      <th></th>\n      <th></th>\n      <th></th>\n    </tr>\n  </thead>\n  <tbody>\n    <tr>\n      <th>2019-09-09 04:00:00-04:00</th>\n      <td>53.3475</td>\n      <td>53.450</td>\n      <td>53.3475</td>\n      <td>53.450</td>\n      <td>53.450</td>\n      <td>0</td>\n      <td>NaN</td>\n    </tr>\n    <tr>\n      <th>2019-09-09 06:00:00-04:00</th>\n      <td>53.4150</td>\n      <td>53.575</td>\n      <td>53.4150</td>\n      <td>53.575</td>\n      <td>53.575</td>\n      <td>0</td>\n      <td>0.002339</td>\n    </tr>\n    <tr>\n      <th>2019-09-09 07:00:00-04:00</th>\n      <td>53.5575</td>\n      <td>53.575</td>\n      <td>53.5000</td>\n      <td>53.500</td>\n      <td>53.500</td>\n      <td>0</td>\n      <td>-0.001400</td>\n    </tr>\n    <tr>\n      <th>2019-09-09 08:00:00-04:00</th>\n      <td>53.5200</td>\n      <td>53.640</td>\n      <td>53.5000</td>\n      <td>53.625</td>\n      <td>53.625</td>\n      <td>0</td>\n      <td>0.002336</td>\n    </tr>\n    <tr>\n      <th>2019-09-09 09:00:00-04:00</th>\n      <td>53.6125</td>\n      <td>53.710</td>\n      <td>53.6125</td>\n      <td>53.710</td>\n      <td>53.710</td>\n      <td>0</td>\n      <td>0.001585</td>\n    </tr>\n  </tbody>\n</table>\n</div>"
     },
     "execution_count": 9,
     "metadata": {},
     "output_type": "execute_result"
    }
   ],
   "source": [
    "data['close_pct'] = data['close'].pct_change()\n",
    "data.head()"
   ],
   "metadata": {
    "collapsed": false,
    "pycharm": {
     "name": "#%%\n"
    }
   }
  },
  {
   "cell_type": "code",
   "execution_count": 10,
   "outputs": [
    {
     "data": {
      "text/plain": "              open         high          low        close    Adj Close  \\\ncount  8359.000000  8359.000000  8359.000000  8359.000000  8359.000000   \nmean    103.358346   103.781887   102.834599   103.363499   103.363499   \nstd      29.889612    30.241193    29.724925    29.886983    29.886983   \nmin      53.250000    53.287500    50.978220    53.175000    53.175000   \n25%      73.878749    74.180000    73.435000    73.900000    73.900000   \n50%     114.150002   114.610000   113.400000   114.166626   114.166626   \n75%     127.995000   128.452770   127.305000   127.965000   127.965000   \nmax     156.960007   438.440000   156.654999   156.970001   156.970001   \n\n             volume    close_pct  \ncount  8.359000e+03  8358.000000  \nmean   3.866655e+06     0.000146  \nstd    6.971013e+06     0.005818  \nmin    0.000000e+00    -0.085960  \n25%    0.000000e+00    -0.001620  \n50%    0.000000e+00     0.000090  \n75%    5.687158e+06     0.001970  \nmax    9.845401e+07     0.078661  ",
      "text/html": "<div>\n<style scoped>\n    .dataframe tbody tr th:only-of-type {\n        vertical-align: middle;\n    }\n\n    .dataframe tbody tr th {\n        vertical-align: top;\n    }\n\n    .dataframe thead th {\n        text-align: right;\n    }\n</style>\n<table border=\"1\" class=\"dataframe\">\n  <thead>\n    <tr style=\"text-align: right;\">\n      <th></th>\n      <th>open</th>\n      <th>high</th>\n      <th>low</th>\n      <th>close</th>\n      <th>Adj Close</th>\n      <th>volume</th>\n      <th>close_pct</th>\n    </tr>\n  </thead>\n  <tbody>\n    <tr>\n      <th>count</th>\n      <td>8359.000000</td>\n      <td>8359.000000</td>\n      <td>8359.000000</td>\n      <td>8359.000000</td>\n      <td>8359.000000</td>\n      <td>8.359000e+03</td>\n      <td>8358.000000</td>\n    </tr>\n    <tr>\n      <th>mean</th>\n      <td>103.358346</td>\n      <td>103.781887</td>\n      <td>102.834599</td>\n      <td>103.363499</td>\n      <td>103.363499</td>\n      <td>3.866655e+06</td>\n      <td>0.000146</td>\n    </tr>\n    <tr>\n      <th>std</th>\n      <td>29.889612</td>\n      <td>30.241193</td>\n      <td>29.724925</td>\n      <td>29.886983</td>\n      <td>29.886983</td>\n      <td>6.971013e+06</td>\n      <td>0.005818</td>\n    </tr>\n    <tr>\n      <th>min</th>\n      <td>53.250000</td>\n      <td>53.287500</td>\n      <td>50.978220</td>\n      <td>53.175000</td>\n      <td>53.175000</td>\n      <td>0.000000e+00</td>\n      <td>-0.085960</td>\n    </tr>\n    <tr>\n      <th>25%</th>\n      <td>73.878749</td>\n      <td>74.180000</td>\n      <td>73.435000</td>\n      <td>73.900000</td>\n      <td>73.900000</td>\n      <td>0.000000e+00</td>\n      <td>-0.001620</td>\n    </tr>\n    <tr>\n      <th>50%</th>\n      <td>114.150002</td>\n      <td>114.610000</td>\n      <td>113.400000</td>\n      <td>114.166626</td>\n      <td>114.166626</td>\n      <td>0.000000e+00</td>\n      <td>0.000090</td>\n    </tr>\n    <tr>\n      <th>75%</th>\n      <td>127.995000</td>\n      <td>128.452770</td>\n      <td>127.305000</td>\n      <td>127.965000</td>\n      <td>127.965000</td>\n      <td>5.687158e+06</td>\n      <td>0.001970</td>\n    </tr>\n    <tr>\n      <th>max</th>\n      <td>156.960007</td>\n      <td>438.440000</td>\n      <td>156.654999</td>\n      <td>156.970001</td>\n      <td>156.970001</td>\n      <td>9.845401e+07</td>\n      <td>0.078661</td>\n    </tr>\n  </tbody>\n</table>\n</div>"
     },
     "execution_count": 10,
     "metadata": {},
     "output_type": "execute_result"
    }
   ],
   "source": [
    "data.describe()"
   ],
   "metadata": {
    "collapsed": false,
    "pycharm": {
     "name": "#%%\n"
    }
   }
  },
  {
   "cell_type": "code",
   "execution_count": 11,
   "outputs": [],
   "source": [
    "def _get_indicator_data(data):\n",
    "    \"\"\"\n",
    "    Function that uses the finta API to calculate technical indicators used as the features\n",
    "    :return:\n",
    "    \"\"\"\n",
    "\n",
    "    data = add_all_ta_features(\n",
    "        data, open=\"open\", high=\"high\", low=\"low\", close=\"close\", volume=\"volume\", fillna=True)\n",
    "\n",
    "    # Instead of using the actual volume value (which changes over time), we normalize it with a moving volume average\n",
    "    # data['normVol'] = data['volume'] / data['volume'].ewm(5).mean()\n",
    "    # for i in range(1,50):\n",
    "    #     data[f'close{i}'] = data['close'].shift(i)\n",
    "    # Remove columns that won't be used as features\n",
    "    # del (data['Adj Close'])\n",
    "\n",
    "    return data\n"
   ],
   "metadata": {
    "collapsed": false,
    "pycharm": {
     "name": "#%%\n"
    }
   }
  },
  {
   "cell_type": "code",
   "execution_count": 12,
   "outputs": [
    {
     "data": {
      "text/plain": "                                 open        high         low       close  \\\nDatetime                                                                    \n2019-09-09 04:00:00-04:00   53.347500   53.450000   53.347500   53.450000   \n2019-09-09 06:00:00-04:00   53.415000   53.575000   53.415000   53.575000   \n2019-09-09 07:00:00-04:00   53.557500   53.575000   53.500000   53.500000   \n2019-09-09 08:00:00-04:00   53.520000   53.640000   53.500000   53.625000   \n2019-09-09 09:00:00-04:00   53.612500   53.710000   53.612500   53.710000   \n...                               ...         ...         ...         ...   \n2021-09-07 12:30:00-04:00  156.852600  157.259995  156.652100  156.880005   \n2021-09-07 13:30:00-04:00  156.883102  157.100006  156.619995  156.970001   \n2021-09-07 14:30:00-04:00  156.960007  157.100006  156.645004  156.850998   \n2021-09-07 15:30:00-04:00  156.854996  157.080002  156.654999  156.690002   \n2021-09-07 16:00:00-04:00  156.690000  156.857900  156.650000  156.685000   \n\n                            Adj Close   volume  close_pct  \nDatetime                                                   \n2019-09-09 04:00:00-04:00   53.450000        0        NaN  \n2019-09-09 06:00:00-04:00   53.575000        0   0.002339  \n2019-09-09 07:00:00-04:00   53.500000        0  -0.001400  \n2019-09-09 08:00:00-04:00   53.625000        0   0.002336  \n2019-09-09 09:00:00-04:00   53.710000        0   0.001585  \n...                               ...      ...        ...  \n2021-09-07 12:30:00-04:00  156.880005  9173047   0.000191  \n2021-09-07 13:30:00-04:00  156.970001  6010574   0.000574  \n2021-09-07 14:30:00-04:00  156.850998  7046194  -0.000758  \n2021-09-07 15:30:00-04:00  156.690002  7440331  -0.001026  \n2021-09-07 16:00:00-04:00  156.685000        0  -0.000032  \n\n[8359 rows x 7 columns]",
      "text/html": "<div>\n<style scoped>\n    .dataframe tbody tr th:only-of-type {\n        vertical-align: middle;\n    }\n\n    .dataframe tbody tr th {\n        vertical-align: top;\n    }\n\n    .dataframe thead th {\n        text-align: right;\n    }\n</style>\n<table border=\"1\" class=\"dataframe\">\n  <thead>\n    <tr style=\"text-align: right;\">\n      <th></th>\n      <th>open</th>\n      <th>high</th>\n      <th>low</th>\n      <th>close</th>\n      <th>Adj Close</th>\n      <th>volume</th>\n      <th>close_pct</th>\n    </tr>\n    <tr>\n      <th>Datetime</th>\n      <th></th>\n      <th></th>\n      <th></th>\n      <th></th>\n      <th></th>\n      <th></th>\n      <th></th>\n    </tr>\n  </thead>\n  <tbody>\n    <tr>\n      <th>2019-09-09 04:00:00-04:00</th>\n      <td>53.347500</td>\n      <td>53.450000</td>\n      <td>53.347500</td>\n      <td>53.450000</td>\n      <td>53.450000</td>\n      <td>0</td>\n      <td>NaN</td>\n    </tr>\n    <tr>\n      <th>2019-09-09 06:00:00-04:00</th>\n      <td>53.415000</td>\n      <td>53.575000</td>\n      <td>53.415000</td>\n      <td>53.575000</td>\n      <td>53.575000</td>\n      <td>0</td>\n      <td>0.002339</td>\n    </tr>\n    <tr>\n      <th>2019-09-09 07:00:00-04:00</th>\n      <td>53.557500</td>\n      <td>53.575000</td>\n      <td>53.500000</td>\n      <td>53.500000</td>\n      <td>53.500000</td>\n      <td>0</td>\n      <td>-0.001400</td>\n    </tr>\n    <tr>\n      <th>2019-09-09 08:00:00-04:00</th>\n      <td>53.520000</td>\n      <td>53.640000</td>\n      <td>53.500000</td>\n      <td>53.625000</td>\n      <td>53.625000</td>\n      <td>0</td>\n      <td>0.002336</td>\n    </tr>\n    <tr>\n      <th>2019-09-09 09:00:00-04:00</th>\n      <td>53.612500</td>\n      <td>53.710000</td>\n      <td>53.612500</td>\n      <td>53.710000</td>\n      <td>53.710000</td>\n      <td>0</td>\n      <td>0.001585</td>\n    </tr>\n    <tr>\n      <th>...</th>\n      <td>...</td>\n      <td>...</td>\n      <td>...</td>\n      <td>...</td>\n      <td>...</td>\n      <td>...</td>\n      <td>...</td>\n    </tr>\n    <tr>\n      <th>2021-09-07 12:30:00-04:00</th>\n      <td>156.852600</td>\n      <td>157.259995</td>\n      <td>156.652100</td>\n      <td>156.880005</td>\n      <td>156.880005</td>\n      <td>9173047</td>\n      <td>0.000191</td>\n    </tr>\n    <tr>\n      <th>2021-09-07 13:30:00-04:00</th>\n      <td>156.883102</td>\n      <td>157.100006</td>\n      <td>156.619995</td>\n      <td>156.970001</td>\n      <td>156.970001</td>\n      <td>6010574</td>\n      <td>0.000574</td>\n    </tr>\n    <tr>\n      <th>2021-09-07 14:30:00-04:00</th>\n      <td>156.960007</td>\n      <td>157.100006</td>\n      <td>156.645004</td>\n      <td>156.850998</td>\n      <td>156.850998</td>\n      <td>7046194</td>\n      <td>-0.000758</td>\n    </tr>\n    <tr>\n      <th>2021-09-07 15:30:00-04:00</th>\n      <td>156.854996</td>\n      <td>157.080002</td>\n      <td>156.654999</td>\n      <td>156.690002</td>\n      <td>156.690002</td>\n      <td>7440331</td>\n      <td>-0.001026</td>\n    </tr>\n    <tr>\n      <th>2021-09-07 16:00:00-04:00</th>\n      <td>156.690000</td>\n      <td>156.857900</td>\n      <td>156.650000</td>\n      <td>156.685000</td>\n      <td>156.685000</td>\n      <td>0</td>\n      <td>-0.000032</td>\n    </tr>\n  </tbody>\n</table>\n<p>8359 rows × 7 columns</p>\n</div>"
     },
     "execution_count": 12,
     "metadata": {},
     "output_type": "execute_result"
    }
   ],
   "source": [
    "data"
   ],
   "metadata": {
    "collapsed": false,
    "pycharm": {
     "name": "#%%\n"
    }
   }
  },
  {
   "cell_type": "code",
   "execution_count": 13,
   "outputs": [
    {
     "data": {
      "text/plain": "Index(['open', 'high', 'low', 'close', 'Adj Close', 'volume', 'close_pct'], dtype='object')"
     },
     "execution_count": 13,
     "metadata": {},
     "output_type": "execute_result"
    }
   ],
   "source": [
    "data.columns"
   ],
   "metadata": {
    "collapsed": false,
    "pycharm": {
     "name": "#%%\n"
    }
   }
  },
  {
   "cell_type": "code",
   "execution_count": 14,
   "outputs": [],
   "source": [
    "def create_class_column(row, lowest_threshold, higher_threshold):\n",
    "    if row['close_shift'] - row['close'] > higher_threshold:\n",
    "        return 1\n",
    "    if row['close_shift'] - row['close'] < lowest_threshold:\n",
    "        return -1\n",
    "    else:\n",
    "        return 0"
   ],
   "metadata": {
    "collapsed": false,
    "pycharm": {
     "name": "#%%\n"
    }
   }
  },
  {
   "cell_type": "code",
   "execution_count": 15,
   "outputs": [
    {
     "data": {
      "text/plain": "                                 open        high         low       close  \\\nDatetime                                                                    \n2019-09-09 04:00:00-04:00   53.347500   53.450000   53.347500   53.450000   \n2019-09-09 06:00:00-04:00   53.415000   53.575000   53.415000   53.575000   \n2019-09-09 07:00:00-04:00   53.557500   53.575000   53.500000   53.500000   \n2019-09-09 08:00:00-04:00   53.520000   53.640000   53.500000   53.625000   \n2019-09-09 09:00:00-04:00   53.612500   53.710000   53.612500   53.710000   \n...                               ...         ...         ...         ...   \n2021-09-07 12:30:00-04:00  156.852600  157.259995  156.652100  156.880005   \n2021-09-07 13:30:00-04:00  156.883102  157.100006  156.619995  156.970001   \n2021-09-07 14:30:00-04:00  156.960007  157.100006  156.645004  156.850998   \n2021-09-07 15:30:00-04:00  156.854996  157.080002  156.654999  156.690002   \n2021-09-07 16:00:00-04:00  156.690000  156.857900  156.650000  156.685000   \n\n                            Adj Close   volume  close_pct    open_1    open_2  \\\nDatetime                                                                        \n2019-09-09 04:00:00-04:00   53.450000        0        NaN       NaN       NaN   \n2019-09-09 06:00:00-04:00   53.575000        0   0.002339  0.067500       NaN   \n2019-09-09 07:00:00-04:00   53.500000        0  -0.001400  0.142500  0.210000   \n2019-09-09 08:00:00-04:00   53.625000        0   0.002336 -0.037500  0.105000   \n2019-09-09 09:00:00-04:00   53.710000        0   0.001585  0.092500  0.055000   \n...                               ...      ...        ...       ...       ...   \n2021-09-07 12:30:00-04:00  156.880005  9173047   0.000191  1.372604  1.202606   \n2021-09-07 13:30:00-04:00  156.970001  6010574   0.000574  0.030502  1.403107   \n2021-09-07 14:30:00-04:00  156.850998  7046194  -0.000758  0.076904  0.107407   \n2021-09-07 15:30:00-04:00  156.690002  7440331  -0.001026 -0.105011 -0.028107   \n2021-09-07 16:00:00-04:00  156.685000        0  -0.000032 -0.164996 -0.270007   \n\n                             open_3  ...  close_21  close_22  close_23  \\\nDatetime                             ...                                 \n2019-09-09 04:00:00-04:00       NaN  ...       NaN       NaN       NaN   \n2019-09-09 06:00:00-04:00       NaN  ...       NaN       NaN       NaN   \n2019-09-09 07:00:00-04:00       NaN  ...       NaN       NaN       NaN   \n2019-09-09 08:00:00-04:00  0.172500  ...       NaN       NaN       NaN   \n2019-09-09 09:00:00-04:00  0.197500  ...       NaN       NaN       NaN   \n...                             ...  ...       ...       ...       ...   \n2021-09-07 12:30:00-04:00  1.992599  ...  3.130005  2.740005  2.760005   \n2021-09-07 13:30:00-04:00  1.233109  ...  2.910004  3.220001  2.830001   \n2021-09-07 14:30:00-04:00  1.480011  ...  2.769501  2.791000  3.100998   \n2021-09-07 15:30:00-04:00  0.002396  ...  2.654999  2.608505  2.630005   \n2021-09-07 16:00:00-04:00 -0.193102  ...  2.645007  2.649996  2.603503   \n\n                           close_24  close_25  close_26  close_27  close_28  \\\nDatetime                                                                      \n2019-09-09 04:00:00-04:00       NaN       NaN       NaN       NaN       NaN   \n2019-09-09 06:00:00-04:00       NaN       NaN       NaN       NaN       NaN   \n2019-09-09 07:00:00-04:00       NaN       NaN       NaN       NaN       NaN   \n2019-09-09 08:00:00-04:00       NaN       NaN       NaN       NaN       NaN   \n2019-09-09 09:00:00-04:00       NaN       NaN       NaN       NaN       NaN   \n...                             ...       ...       ...       ...       ...   \n2021-09-07 12:30:00-04:00  3.000005  2.940005  2.870005  3.290005  3.190005   \n2021-09-07 13:30:00-04:00  2.850001  3.090001  3.030001  2.960001  3.380001   \n2021-09-07 14:30:00-04:00  2.710998  2.730998  2.970998  2.910998  2.840998   \n2021-09-07 15:30:00-04:00  2.940002  2.550002  2.570002  2.810002  2.750002   \n2021-09-07 16:00:00-04:00  2.625002  2.935000  2.545000  2.565000  2.805000   \n\n                           close_29  close_shift  \nDatetime                                          \n2019-09-09 04:00:00-04:00       NaN      53.1750  \n2019-09-09 06:00:00-04:00       NaN      53.3325  \n2019-09-09 07:00:00-04:00       NaN      53.3500  \n2019-09-09 08:00:00-04:00       NaN      53.5025  \n2019-09-09 09:00:00-04:00       NaN      53.5000  \n...                             ...          ...  \n2021-09-07 12:30:00-04:00  3.280005          NaN  \n2021-09-07 13:30:00-04:00  3.280001          NaN  \n2021-09-07 14:30:00-04:00  3.260998          NaN  \n2021-09-07 15:30:00-04:00  2.680002          NaN  \n2021-09-07 16:00:00-04:00  2.745000          NaN  \n\n[8359 rows x 124 columns]",
      "text/html": "<div>\n<style scoped>\n    .dataframe tbody tr th:only-of-type {\n        vertical-align: middle;\n    }\n\n    .dataframe tbody tr th {\n        vertical-align: top;\n    }\n\n    .dataframe thead th {\n        text-align: right;\n    }\n</style>\n<table border=\"1\" class=\"dataframe\">\n  <thead>\n    <tr style=\"text-align: right;\">\n      <th></th>\n      <th>open</th>\n      <th>high</th>\n      <th>low</th>\n      <th>close</th>\n      <th>Adj Close</th>\n      <th>volume</th>\n      <th>close_pct</th>\n      <th>open_1</th>\n      <th>open_2</th>\n      <th>open_3</th>\n      <th>...</th>\n      <th>close_21</th>\n      <th>close_22</th>\n      <th>close_23</th>\n      <th>close_24</th>\n      <th>close_25</th>\n      <th>close_26</th>\n      <th>close_27</th>\n      <th>close_28</th>\n      <th>close_29</th>\n      <th>close_shift</th>\n    </tr>\n    <tr>\n      <th>Datetime</th>\n      <th></th>\n      <th></th>\n      <th></th>\n      <th></th>\n      <th></th>\n      <th></th>\n      <th></th>\n      <th></th>\n      <th></th>\n      <th></th>\n      <th></th>\n      <th></th>\n      <th></th>\n      <th></th>\n      <th></th>\n      <th></th>\n      <th></th>\n      <th></th>\n      <th></th>\n      <th></th>\n      <th></th>\n    </tr>\n  </thead>\n  <tbody>\n    <tr>\n      <th>2019-09-09 04:00:00-04:00</th>\n      <td>53.347500</td>\n      <td>53.450000</td>\n      <td>53.347500</td>\n      <td>53.450000</td>\n      <td>53.450000</td>\n      <td>0</td>\n      <td>NaN</td>\n      <td>NaN</td>\n      <td>NaN</td>\n      <td>NaN</td>\n      <td>...</td>\n      <td>NaN</td>\n      <td>NaN</td>\n      <td>NaN</td>\n      <td>NaN</td>\n      <td>NaN</td>\n      <td>NaN</td>\n      <td>NaN</td>\n      <td>NaN</td>\n      <td>NaN</td>\n      <td>53.1750</td>\n    </tr>\n    <tr>\n      <th>2019-09-09 06:00:00-04:00</th>\n      <td>53.415000</td>\n      <td>53.575000</td>\n      <td>53.415000</td>\n      <td>53.575000</td>\n      <td>53.575000</td>\n      <td>0</td>\n      <td>0.002339</td>\n      <td>0.067500</td>\n      <td>NaN</td>\n      <td>NaN</td>\n      <td>...</td>\n      <td>NaN</td>\n      <td>NaN</td>\n      <td>NaN</td>\n      <td>NaN</td>\n      <td>NaN</td>\n      <td>NaN</td>\n      <td>NaN</td>\n      <td>NaN</td>\n      <td>NaN</td>\n      <td>53.3325</td>\n    </tr>\n    <tr>\n      <th>2019-09-09 07:00:00-04:00</th>\n      <td>53.557500</td>\n      <td>53.575000</td>\n      <td>53.500000</td>\n      <td>53.500000</td>\n      <td>53.500000</td>\n      <td>0</td>\n      <td>-0.001400</td>\n      <td>0.142500</td>\n      <td>0.210000</td>\n      <td>NaN</td>\n      <td>...</td>\n      <td>NaN</td>\n      <td>NaN</td>\n      <td>NaN</td>\n      <td>NaN</td>\n      <td>NaN</td>\n      <td>NaN</td>\n      <td>NaN</td>\n      <td>NaN</td>\n      <td>NaN</td>\n      <td>53.3500</td>\n    </tr>\n    <tr>\n      <th>2019-09-09 08:00:00-04:00</th>\n      <td>53.520000</td>\n      <td>53.640000</td>\n      <td>53.500000</td>\n      <td>53.625000</td>\n      <td>53.625000</td>\n      <td>0</td>\n      <td>0.002336</td>\n      <td>-0.037500</td>\n      <td>0.105000</td>\n      <td>0.172500</td>\n      <td>...</td>\n      <td>NaN</td>\n      <td>NaN</td>\n      <td>NaN</td>\n      <td>NaN</td>\n      <td>NaN</td>\n      <td>NaN</td>\n      <td>NaN</td>\n      <td>NaN</td>\n      <td>NaN</td>\n      <td>53.5025</td>\n    </tr>\n    <tr>\n      <th>2019-09-09 09:00:00-04:00</th>\n      <td>53.612500</td>\n      <td>53.710000</td>\n      <td>53.612500</td>\n      <td>53.710000</td>\n      <td>53.710000</td>\n      <td>0</td>\n      <td>0.001585</td>\n      <td>0.092500</td>\n      <td>0.055000</td>\n      <td>0.197500</td>\n      <td>...</td>\n      <td>NaN</td>\n      <td>NaN</td>\n      <td>NaN</td>\n      <td>NaN</td>\n      <td>NaN</td>\n      <td>NaN</td>\n      <td>NaN</td>\n      <td>NaN</td>\n      <td>NaN</td>\n      <td>53.5000</td>\n    </tr>\n    <tr>\n      <th>...</th>\n      <td>...</td>\n      <td>...</td>\n      <td>...</td>\n      <td>...</td>\n      <td>...</td>\n      <td>...</td>\n      <td>...</td>\n      <td>...</td>\n      <td>...</td>\n      <td>...</td>\n      <td>...</td>\n      <td>...</td>\n      <td>...</td>\n      <td>...</td>\n      <td>...</td>\n      <td>...</td>\n      <td>...</td>\n      <td>...</td>\n      <td>...</td>\n      <td>...</td>\n      <td>...</td>\n    </tr>\n    <tr>\n      <th>2021-09-07 12:30:00-04:00</th>\n      <td>156.852600</td>\n      <td>157.259995</td>\n      <td>156.652100</td>\n      <td>156.880005</td>\n      <td>156.880005</td>\n      <td>9173047</td>\n      <td>0.000191</td>\n      <td>1.372604</td>\n      <td>1.202606</td>\n      <td>1.992599</td>\n      <td>...</td>\n      <td>3.130005</td>\n      <td>2.740005</td>\n      <td>2.760005</td>\n      <td>3.000005</td>\n      <td>2.940005</td>\n      <td>2.870005</td>\n      <td>3.290005</td>\n      <td>3.190005</td>\n      <td>3.280005</td>\n      <td>NaN</td>\n    </tr>\n    <tr>\n      <th>2021-09-07 13:30:00-04:00</th>\n      <td>156.883102</td>\n      <td>157.100006</td>\n      <td>156.619995</td>\n      <td>156.970001</td>\n      <td>156.970001</td>\n      <td>6010574</td>\n      <td>0.000574</td>\n      <td>0.030502</td>\n      <td>1.403107</td>\n      <td>1.233109</td>\n      <td>...</td>\n      <td>2.910004</td>\n      <td>3.220001</td>\n      <td>2.830001</td>\n      <td>2.850001</td>\n      <td>3.090001</td>\n      <td>3.030001</td>\n      <td>2.960001</td>\n      <td>3.380001</td>\n      <td>3.280001</td>\n      <td>NaN</td>\n    </tr>\n    <tr>\n      <th>2021-09-07 14:30:00-04:00</th>\n      <td>156.960007</td>\n      <td>157.100006</td>\n      <td>156.645004</td>\n      <td>156.850998</td>\n      <td>156.850998</td>\n      <td>7046194</td>\n      <td>-0.000758</td>\n      <td>0.076904</td>\n      <td>0.107407</td>\n      <td>1.480011</td>\n      <td>...</td>\n      <td>2.769501</td>\n      <td>2.791000</td>\n      <td>3.100998</td>\n      <td>2.710998</td>\n      <td>2.730998</td>\n      <td>2.970998</td>\n      <td>2.910998</td>\n      <td>2.840998</td>\n      <td>3.260998</td>\n      <td>NaN</td>\n    </tr>\n    <tr>\n      <th>2021-09-07 15:30:00-04:00</th>\n      <td>156.854996</td>\n      <td>157.080002</td>\n      <td>156.654999</td>\n      <td>156.690002</td>\n      <td>156.690002</td>\n      <td>7440331</td>\n      <td>-0.001026</td>\n      <td>-0.105011</td>\n      <td>-0.028107</td>\n      <td>0.002396</td>\n      <td>...</td>\n      <td>2.654999</td>\n      <td>2.608505</td>\n      <td>2.630005</td>\n      <td>2.940002</td>\n      <td>2.550002</td>\n      <td>2.570002</td>\n      <td>2.810002</td>\n      <td>2.750002</td>\n      <td>2.680002</td>\n      <td>NaN</td>\n    </tr>\n    <tr>\n      <th>2021-09-07 16:00:00-04:00</th>\n      <td>156.690000</td>\n      <td>156.857900</td>\n      <td>156.650000</td>\n      <td>156.685000</td>\n      <td>156.685000</td>\n      <td>0</td>\n      <td>-0.000032</td>\n      <td>-0.164996</td>\n      <td>-0.270007</td>\n      <td>-0.193102</td>\n      <td>...</td>\n      <td>2.645007</td>\n      <td>2.649996</td>\n      <td>2.603503</td>\n      <td>2.625002</td>\n      <td>2.935000</td>\n      <td>2.545000</td>\n      <td>2.565000</td>\n      <td>2.805000</td>\n      <td>2.745000</td>\n      <td>NaN</td>\n    </tr>\n  </tbody>\n</table>\n<p>8359 rows × 124 columns</p>\n</div>"
     },
     "execution_count": 15,
     "metadata": {},
     "output_type": "execute_result"
    }
   ],
   "source": [
    "# data = _get_indicator_data(data)\n",
    "important_columns = ['open', 'high', 'low','close']\n",
    "\n",
    "\n",
    "for name in important_columns:\n",
    "    for i in range(1, 30):\n",
    "        calculate_diffs(i, name)\n",
    "data['close_shift'] = data.shift(-WINDOW)['close']\n",
    "moved_price = data['close_shift'].copy()\n",
    "data"
   ],
   "metadata": {
    "collapsed": false,
    "pycharm": {
     "name": "#%%\n"
    }
   }
  },
  {
   "cell_type": "code",
   "execution_count": 16,
   "outputs": [
    {
     "data": {
      "text/plain": "Datetime\n2019-09-09 04:00:00-04:00    53.1750\n2019-09-09 06:00:00-04:00    53.3325\n2019-09-09 07:00:00-04:00    53.3500\n2019-09-09 08:00:00-04:00    53.5025\n2019-09-09 09:00:00-04:00    53.5000\n                              ...   \n2021-09-07 12:30:00-04:00        NaN\n2021-09-07 13:30:00-04:00        NaN\n2021-09-07 14:30:00-04:00        NaN\n2021-09-07 15:30:00-04:00        NaN\n2021-09-07 16:00:00-04:00        NaN\nName: close_shift, Length: 8359, dtype: float64"
     },
     "execution_count": 16,
     "metadata": {},
     "output_type": "execute_result"
    }
   ],
   "source": [
    "moved_price\n"
   ],
   "metadata": {
    "collapsed": false,
    "pycharm": {
     "name": "#%%\n"
    }
   }
  },
  {
   "cell_type": "code",
   "execution_count": 17,
   "outputs": [
    {
     "data": {
      "text/plain": "                                 open        high         low       close  \\\nDatetime                                                                    \n2019-09-09 04:00:00-04:00   53.347500   53.450000   53.347500   53.450000   \n2019-09-09 06:00:00-04:00   53.415000   53.575000   53.415000   53.575000   \n2019-09-09 07:00:00-04:00   53.557500   53.575000   53.500000   53.500000   \n2019-09-09 08:00:00-04:00   53.520000   53.640000   53.500000   53.625000   \n2019-09-09 09:00:00-04:00   53.612500   53.710000   53.612500   53.710000   \n...                               ...         ...         ...         ...   \n2021-09-07 12:30:00-04:00  156.852600  157.259995  156.652100  156.880005   \n2021-09-07 13:30:00-04:00  156.883102  157.100006  156.619995  156.970001   \n2021-09-07 14:30:00-04:00  156.960007  157.100006  156.645004  156.850998   \n2021-09-07 15:30:00-04:00  156.854996  157.080002  156.654999  156.690002   \n2021-09-07 16:00:00-04:00  156.690000  156.857900  156.650000  156.685000   \n\n                            Adj Close   volume  close_pct    open_1    open_2  \\\nDatetime                                                                        \n2019-09-09 04:00:00-04:00   53.450000        0        NaN       NaN       NaN   \n2019-09-09 06:00:00-04:00   53.575000        0   0.002339  0.067500       NaN   \n2019-09-09 07:00:00-04:00   53.500000        0  -0.001400  0.142500  0.210000   \n2019-09-09 08:00:00-04:00   53.625000        0   0.002336 -0.037500  0.105000   \n2019-09-09 09:00:00-04:00   53.710000        0   0.001585  0.092500  0.055000   \n...                               ...      ...        ...       ...       ...   \n2021-09-07 12:30:00-04:00  156.880005  9173047   0.000191  1.372604  1.202606   \n2021-09-07 13:30:00-04:00  156.970001  6010574   0.000574  0.030502  1.403107   \n2021-09-07 14:30:00-04:00  156.850998  7046194  -0.000758  0.076904  0.107407   \n2021-09-07 15:30:00-04:00  156.690002  7440331  -0.001026 -0.105011 -0.028107   \n2021-09-07 16:00:00-04:00  156.685000        0  -0.000032 -0.164996 -0.270007   \n\n                             open_3  ...  close_22  close_23  close_24  \\\nDatetime                             ...                                 \n2019-09-09 04:00:00-04:00       NaN  ...       NaN       NaN       NaN   \n2019-09-09 06:00:00-04:00       NaN  ...       NaN       NaN       NaN   \n2019-09-09 07:00:00-04:00       NaN  ...       NaN       NaN       NaN   \n2019-09-09 08:00:00-04:00  0.172500  ...       NaN       NaN       NaN   \n2019-09-09 09:00:00-04:00  0.197500  ...       NaN       NaN       NaN   \n...                             ...  ...       ...       ...       ...   \n2021-09-07 12:30:00-04:00  1.992599  ...  2.740005  2.760005  3.000005   \n2021-09-07 13:30:00-04:00  1.233109  ...  3.220001  2.830001  2.850001   \n2021-09-07 14:30:00-04:00  1.480011  ...  2.791000  3.100998  2.710998   \n2021-09-07 15:30:00-04:00  0.002396  ...  2.608505  2.630005  2.940002   \n2021-09-07 16:00:00-04:00 -0.193102  ...  2.649996  2.603503  2.625002   \n\n                           close_25  close_26  close_27  close_28  close_29  \\\nDatetime                                                                      \n2019-09-09 04:00:00-04:00       NaN       NaN       NaN       NaN       NaN   \n2019-09-09 06:00:00-04:00       NaN       NaN       NaN       NaN       NaN   \n2019-09-09 07:00:00-04:00       NaN       NaN       NaN       NaN       NaN   \n2019-09-09 08:00:00-04:00       NaN       NaN       NaN       NaN       NaN   \n2019-09-09 09:00:00-04:00       NaN       NaN       NaN       NaN       NaN   \n...                             ...       ...       ...       ...       ...   \n2021-09-07 12:30:00-04:00  2.940005  2.870005  3.290005  3.190005  3.280005   \n2021-09-07 13:30:00-04:00  3.090001  3.030001  2.960001  3.380001  3.280001   \n2021-09-07 14:30:00-04:00  2.730998  2.970998  2.910998  2.840998  3.260998   \n2021-09-07 15:30:00-04:00  2.550002  2.570002  2.810002  2.750002  2.680002   \n2021-09-07 16:00:00-04:00  2.935000  2.545000  2.565000  2.805000  2.745000   \n\n                           close_shift  class_column  \nDatetime                                              \n2019-09-09 04:00:00-04:00      53.1750             0  \n2019-09-09 06:00:00-04:00      53.3325             0  \n2019-09-09 07:00:00-04:00      53.3500             0  \n2019-09-09 08:00:00-04:00      53.5025             0  \n2019-09-09 09:00:00-04:00      53.5000             0  \n...                                ...           ...  \n2021-09-07 12:30:00-04:00          NaN             0  \n2021-09-07 13:30:00-04:00          NaN             0  \n2021-09-07 14:30:00-04:00          NaN             0  \n2021-09-07 15:30:00-04:00          NaN             0  \n2021-09-07 16:00:00-04:00          NaN             0  \n\n[8359 rows x 125 columns]",
      "text/html": "<div>\n<style scoped>\n    .dataframe tbody tr th:only-of-type {\n        vertical-align: middle;\n    }\n\n    .dataframe tbody tr th {\n        vertical-align: top;\n    }\n\n    .dataframe thead th {\n        text-align: right;\n    }\n</style>\n<table border=\"1\" class=\"dataframe\">\n  <thead>\n    <tr style=\"text-align: right;\">\n      <th></th>\n      <th>open</th>\n      <th>high</th>\n      <th>low</th>\n      <th>close</th>\n      <th>Adj Close</th>\n      <th>volume</th>\n      <th>close_pct</th>\n      <th>open_1</th>\n      <th>open_2</th>\n      <th>open_3</th>\n      <th>...</th>\n      <th>close_22</th>\n      <th>close_23</th>\n      <th>close_24</th>\n      <th>close_25</th>\n      <th>close_26</th>\n      <th>close_27</th>\n      <th>close_28</th>\n      <th>close_29</th>\n      <th>close_shift</th>\n      <th>class_column</th>\n    </tr>\n    <tr>\n      <th>Datetime</th>\n      <th></th>\n      <th></th>\n      <th></th>\n      <th></th>\n      <th></th>\n      <th></th>\n      <th></th>\n      <th></th>\n      <th></th>\n      <th></th>\n      <th></th>\n      <th></th>\n      <th></th>\n      <th></th>\n      <th></th>\n      <th></th>\n      <th></th>\n      <th></th>\n      <th></th>\n      <th></th>\n      <th></th>\n    </tr>\n  </thead>\n  <tbody>\n    <tr>\n      <th>2019-09-09 04:00:00-04:00</th>\n      <td>53.347500</td>\n      <td>53.450000</td>\n      <td>53.347500</td>\n      <td>53.450000</td>\n      <td>53.450000</td>\n      <td>0</td>\n      <td>NaN</td>\n      <td>NaN</td>\n      <td>NaN</td>\n      <td>NaN</td>\n      <td>...</td>\n      <td>NaN</td>\n      <td>NaN</td>\n      <td>NaN</td>\n      <td>NaN</td>\n      <td>NaN</td>\n      <td>NaN</td>\n      <td>NaN</td>\n      <td>NaN</td>\n      <td>53.1750</td>\n      <td>0</td>\n    </tr>\n    <tr>\n      <th>2019-09-09 06:00:00-04:00</th>\n      <td>53.415000</td>\n      <td>53.575000</td>\n      <td>53.415000</td>\n      <td>53.575000</td>\n      <td>53.575000</td>\n      <td>0</td>\n      <td>0.002339</td>\n      <td>0.067500</td>\n      <td>NaN</td>\n      <td>NaN</td>\n      <td>...</td>\n      <td>NaN</td>\n      <td>NaN</td>\n      <td>NaN</td>\n      <td>NaN</td>\n      <td>NaN</td>\n      <td>NaN</td>\n      <td>NaN</td>\n      <td>NaN</td>\n      <td>53.3325</td>\n      <td>0</td>\n    </tr>\n    <tr>\n      <th>2019-09-09 07:00:00-04:00</th>\n      <td>53.557500</td>\n      <td>53.575000</td>\n      <td>53.500000</td>\n      <td>53.500000</td>\n      <td>53.500000</td>\n      <td>0</td>\n      <td>-0.001400</td>\n      <td>0.142500</td>\n      <td>0.210000</td>\n      <td>NaN</td>\n      <td>...</td>\n      <td>NaN</td>\n      <td>NaN</td>\n      <td>NaN</td>\n      <td>NaN</td>\n      <td>NaN</td>\n      <td>NaN</td>\n      <td>NaN</td>\n      <td>NaN</td>\n      <td>53.3500</td>\n      <td>0</td>\n    </tr>\n    <tr>\n      <th>2019-09-09 08:00:00-04:00</th>\n      <td>53.520000</td>\n      <td>53.640000</td>\n      <td>53.500000</td>\n      <td>53.625000</td>\n      <td>53.625000</td>\n      <td>0</td>\n      <td>0.002336</td>\n      <td>-0.037500</td>\n      <td>0.105000</td>\n      <td>0.172500</td>\n      <td>...</td>\n      <td>NaN</td>\n      <td>NaN</td>\n      <td>NaN</td>\n      <td>NaN</td>\n      <td>NaN</td>\n      <td>NaN</td>\n      <td>NaN</td>\n      <td>NaN</td>\n      <td>53.5025</td>\n      <td>0</td>\n    </tr>\n    <tr>\n      <th>2019-09-09 09:00:00-04:00</th>\n      <td>53.612500</td>\n      <td>53.710000</td>\n      <td>53.612500</td>\n      <td>53.710000</td>\n      <td>53.710000</td>\n      <td>0</td>\n      <td>0.001585</td>\n      <td>0.092500</td>\n      <td>0.055000</td>\n      <td>0.197500</td>\n      <td>...</td>\n      <td>NaN</td>\n      <td>NaN</td>\n      <td>NaN</td>\n      <td>NaN</td>\n      <td>NaN</td>\n      <td>NaN</td>\n      <td>NaN</td>\n      <td>NaN</td>\n      <td>53.5000</td>\n      <td>0</td>\n    </tr>\n    <tr>\n      <th>...</th>\n      <td>...</td>\n      <td>...</td>\n      <td>...</td>\n      <td>...</td>\n      <td>...</td>\n      <td>...</td>\n      <td>...</td>\n      <td>...</td>\n      <td>...</td>\n      <td>...</td>\n      <td>...</td>\n      <td>...</td>\n      <td>...</td>\n      <td>...</td>\n      <td>...</td>\n      <td>...</td>\n      <td>...</td>\n      <td>...</td>\n      <td>...</td>\n      <td>...</td>\n      <td>...</td>\n    </tr>\n    <tr>\n      <th>2021-09-07 12:30:00-04:00</th>\n      <td>156.852600</td>\n      <td>157.259995</td>\n      <td>156.652100</td>\n      <td>156.880005</td>\n      <td>156.880005</td>\n      <td>9173047</td>\n      <td>0.000191</td>\n      <td>1.372604</td>\n      <td>1.202606</td>\n      <td>1.992599</td>\n      <td>...</td>\n      <td>2.740005</td>\n      <td>2.760005</td>\n      <td>3.000005</td>\n      <td>2.940005</td>\n      <td>2.870005</td>\n      <td>3.290005</td>\n      <td>3.190005</td>\n      <td>3.280005</td>\n      <td>NaN</td>\n      <td>0</td>\n    </tr>\n    <tr>\n      <th>2021-09-07 13:30:00-04:00</th>\n      <td>156.883102</td>\n      <td>157.100006</td>\n      <td>156.619995</td>\n      <td>156.970001</td>\n      <td>156.970001</td>\n      <td>6010574</td>\n      <td>0.000574</td>\n      <td>0.030502</td>\n      <td>1.403107</td>\n      <td>1.233109</td>\n      <td>...</td>\n      <td>3.220001</td>\n      <td>2.830001</td>\n      <td>2.850001</td>\n      <td>3.090001</td>\n      <td>3.030001</td>\n      <td>2.960001</td>\n      <td>3.380001</td>\n      <td>3.280001</td>\n      <td>NaN</td>\n      <td>0</td>\n    </tr>\n    <tr>\n      <th>2021-09-07 14:30:00-04:00</th>\n      <td>156.960007</td>\n      <td>157.100006</td>\n      <td>156.645004</td>\n      <td>156.850998</td>\n      <td>156.850998</td>\n      <td>7046194</td>\n      <td>-0.000758</td>\n      <td>0.076904</td>\n      <td>0.107407</td>\n      <td>1.480011</td>\n      <td>...</td>\n      <td>2.791000</td>\n      <td>3.100998</td>\n      <td>2.710998</td>\n      <td>2.730998</td>\n      <td>2.970998</td>\n      <td>2.910998</td>\n      <td>2.840998</td>\n      <td>3.260998</td>\n      <td>NaN</td>\n      <td>0</td>\n    </tr>\n    <tr>\n      <th>2021-09-07 15:30:00-04:00</th>\n      <td>156.854996</td>\n      <td>157.080002</td>\n      <td>156.654999</td>\n      <td>156.690002</td>\n      <td>156.690002</td>\n      <td>7440331</td>\n      <td>-0.001026</td>\n      <td>-0.105011</td>\n      <td>-0.028107</td>\n      <td>0.002396</td>\n      <td>...</td>\n      <td>2.608505</td>\n      <td>2.630005</td>\n      <td>2.940002</td>\n      <td>2.550002</td>\n      <td>2.570002</td>\n      <td>2.810002</td>\n      <td>2.750002</td>\n      <td>2.680002</td>\n      <td>NaN</td>\n      <td>0</td>\n    </tr>\n    <tr>\n      <th>2021-09-07 16:00:00-04:00</th>\n      <td>156.690000</td>\n      <td>156.857900</td>\n      <td>156.650000</td>\n      <td>156.685000</td>\n      <td>156.685000</td>\n      <td>0</td>\n      <td>-0.000032</td>\n      <td>-0.164996</td>\n      <td>-0.270007</td>\n      <td>-0.193102</td>\n      <td>...</td>\n      <td>2.649996</td>\n      <td>2.603503</td>\n      <td>2.625002</td>\n      <td>2.935000</td>\n      <td>2.545000</td>\n      <td>2.565000</td>\n      <td>2.805000</td>\n      <td>2.745000</td>\n      <td>NaN</td>\n      <td>0</td>\n    </tr>\n  </tbody>\n</table>\n<p>8359 rows × 125 columns</p>\n</div>"
     },
     "execution_count": 17,
     "metadata": {},
     "output_type": "execute_result"
    }
   ],
   "source": [
    "def create_class(df):\n",
    "    higher_threshold = 1.5\n",
    "    lowest_threshold = -1.5\n",
    "    last_values_higher = []\n",
    "    last_values_lower = []\n",
    "    df['class_column'] = df.apply((lambda x: create_class_column(x, lowest_threshold, higher_threshold)), axis=1)\n",
    "    while True:\n",
    "        class_counts = df['class_column'].value_counts()\n",
    "        if abs(class_counts[0] - class_counts[1]) < 15 and abs(class_counts[0] - class_counts[-1]) < 15:\n",
    "            break\n",
    "\n",
    "        if len(last_values_higher) == 3:\n",
    "            last_values_higher.pop(0)\n",
    "        if len(last_values_lower) == 3:\n",
    "            last_values_lower.pop(0)\n",
    "\n",
    "        last_values_higher.append(higher_threshold)\n",
    "        last_values_lower.append(lowest_threshold)\n",
    "        if class_counts[0] > class_counts[1]:\n",
    "            higher_threshold -= 0.01\n",
    "        if class_counts[0] > class_counts[-1]:\n",
    "            lowest_threshold += 0.01\n",
    "        if class_counts[0] < class_counts[1]:\n",
    "            higher_threshold += 0.01\n",
    "        if class_counts[0] < class_counts[-1]:\n",
    "            lowest_threshold -= 0.01\n",
    "\n",
    "        if higher_threshold in last_values_higher and lowest_threshold in last_values_lower:\n",
    "            break\n",
    "        df['class_column'] = df.apply((lambda x: create_class_column(x, lowest_threshold, higher_threshold)),\n",
    "                                      axis=1)\n",
    "    return df\n",
    "\n",
    "\n",
    "data = create_class(data)\n",
    "\n",
    "data\n"
   ],
   "metadata": {
    "collapsed": false,
    "pycharm": {
     "name": "#%%\n"
    }
   }
  },
  {
   "cell_type": "code",
   "execution_count": 18,
   "outputs": [
    {
     "name": "stdout",
     "output_type": "stream",
     "text": [
      "C:\\Users\\exomat\\Desktop\\repo\\magisterka_analiza\\data\\results\\train_test\\AAPL_2y_16_diff_07_09_2021 22_05_05_full.csv\n"
     ]
    }
   ],
   "source": [
    "filename_to_export = f'C:\\\\Users\\\\exomat\\\\Desktop\\\\repo\\\\magisterka_analiza\\\\data\\\\results\\\\train_test\\\\{symbol}_{INTERVAL}_{WINDOW}_diff_{datetime.now().strftime(\"%d_%m_%Y %H_%M_%S\")}_full.csv'\n",
    "data.to_csv(filename_to_export, index=True)\n",
    "print(filename_to_export)"
   ],
   "metadata": {
    "collapsed": false,
    "pycharm": {
     "name": "#%%\n"
    }
   }
  },
  {
   "cell_type": "code",
   "execution_count": 19,
   "outputs": [
    {
     "data": {
      "text/plain": " 0    2815\n 1    2786\n-1    2758\nName: class_column, dtype: int64"
     },
     "execution_count": 19,
     "metadata": {},
     "output_type": "execute_result"
    }
   ],
   "source": [
    "\n",
    "# Class divide\n",
    "data['class_column'].value_counts()"
   ],
   "metadata": {
    "collapsed": false,
    "pycharm": {
     "name": "#%%\n"
    }
   }
  },
  {
   "cell_type": "code",
   "execution_count": 20,
   "outputs": [],
   "source": [
    "# del (data['close'])\n",
    "# del (data['close_shift'])\n",
    "data = data.dropna()"
   ],
   "metadata": {
    "collapsed": false,
    "pycharm": {
     "name": "#%%\n"
    }
   }
  },
  {
   "cell_type": "code",
   "execution_count": 21,
   "outputs": [
    {
     "data": {
      "text/plain": " 0    2781\n 1    2776\n-1    2757\nName: class_column, dtype: int64"
     },
     "execution_count": 21,
     "metadata": {},
     "output_type": "execute_result"
    }
   ],
   "source": [
    "data['class_column'].value_counts()\n"
   ],
   "metadata": {
    "collapsed": false,
    "pycharm": {
     "name": "#%%\n"
    }
   }
  },
  {
   "cell_type": "code",
   "execution_count": 22,
   "outputs": [],
   "source": [
    "def split_dataframe(df, chunk_size=17):\n",
    "    chunks = list()\n",
    "    num_chunks = len(df) // chunk_size + 1\n",
    "    for i in range(num_chunks):\n",
    "        chunks.append(df[i * chunk_size:(i + 1) * chunk_size])\n",
    "    return chunks\n",
    "\n",
    "\n",
    "def train_model(model, train_x, train_y):\n",
    "    model.fit(train_x, train_y)"
   ],
   "metadata": {
    "collapsed": false,
    "pycharm": {
     "name": "#%%\n"
    }
   }
  },
  {
   "cell_type": "code",
   "execution_count": 23,
   "outputs": [
    {
     "data": {
      "text/plain": "490"
     },
     "execution_count": 23,
     "metadata": {},
     "output_type": "execute_result"
    }
   ],
   "source": [
    "splited_dataframe = split_dataframe(data, 17)\n",
    "len(splited_dataframe)"
   ],
   "metadata": {
    "collapsed": false,
    "pycharm": {
     "name": "#%%\n"
    }
   }
  },
  {
   "cell_type": "code",
   "execution_count": 24,
   "outputs": [],
   "source": [
    "y = data['class_column']\n",
    "features = [x for x in data.columns if x not in ['class_column', 'close_shift']]\n",
    "x = data[features]\n",
    "scaler = MinMaxScaler()\n",
    "# x = pd.DataFrame(scaler.fit_transform(x.values), columns=x.columns, index=x.index)\n",
    "x_train, x_test, y_train, y_test = train_test_split(x, y, test_size=0.1, shuffle=False)"
   ],
   "metadata": {
    "collapsed": false,
    "pycharm": {
     "name": "#%%\n"
    }
   }
  },
  {
   "cell_type": "code",
   "execution_count": 25,
   "outputs": [],
   "source": [
    "classifiers = dict()\n",
    "# classifiers['DecisionTreeClassifier 1'] = DecisionTreeClassifier(max_depth=15, random_state=0, criterion='gini',\n",
    "#                                                                  splitter='best')\n",
    "# classifiers['DecisionTreeClassifier 2'] = DecisionTreeClassifier(max_depth=40, random_state=0, criterion='gini',\n",
    "#                                                                  splitter='best')\n",
    "# classifiers['DecisionTreeClassifier 3'] = DecisionTreeClassifier(max_depth=10, random_state=0,criterion='gini',splitter='best')\n",
    "#\n",
    "#\n",
    "# classifiers['RandomForestClassifier 1'] = RandomForestClassifier(n_estimators=1000, max_depth=3, random_state=0,\n",
    "#                                                                  criterion='gini', n_jobs=-1)\n",
    "#\n",
    "# classifiers['RandomForestClassifier 2'] = RandomForestClassifier(n_estimators=1000, max_depth=3, random_state=0,\n",
    "#                                                                  criterion='entropy', n_jobs=-1)\n",
    "#\n",
    "# classifiers['RandomForestClassifier 3'] = RandomForestClassifier(n_estimators=100, max_depth=15, random_state=0,\n",
    "#                                                                  criterion='entropy', n_jobs=-1)\n",
    "#\n",
    "# classifiers['GradientBoostingClassifier 1'] = GradientBoostingClassifier(n_estimators=100, random_state=0,\n",
    "#                                                                          criterion='friedman_mse', max_depth=3,\n",
    "#                                                                          learning_rate=0.1)\n",
    "#\n",
    "# classifiers['GradientBoostingClassifier 2'] = GradientBoostingClassifier(n_estimators=1000, random_state=0,\n",
    "#                                                                          criterion='friedman_mse', max_depth=3,\n",
    "#                                                                          learning_rate=0.5)\n",
    "\n",
    "# classifiers['XGBRFClassifier 1'] = xgb.sklearn.XGBRFClassifier(n_jobs=-1, max_depth=2, n_estimators=1000, eta=0.2 )\n",
    "classifiers['XGBRFClassifier 2'] = xgb.sklearn.XGBRFClassifier(n_jobs=-1, max_depth=6, n_estimators=1000, eta=0.3)\n",
    "\n",
    "# classifiers['XGBClassifier 1'] = xgb.XGBClassifier(nthread=-1, max_depth=3, n_estimators=1000, eta=0.2)\n",
    "# classifiers['XGBClassifier 2'] = xgb.XGBClassifier(nthread=-1, max_depth=3, n_estimators=1000, eta=0.3)\n",
    "#\n",
    "classifiers_boosted = dict()\n",
    "# # classifiers_boosted['SGradientBoostingClassifier 1'] = GradientBoostingClassifier(n_estimators=100,random_state=0,criterion='friedman_mse',max_depth=3, learning_rate=0.1)\n",
    "# classifiers_boosted['SXGBClassifier 1'] = xgb.XGBClassifier(nthread=-1, max_depth=3, n_estimators=1000, eta=0.2)\n",
    "# classifiers_boosted['SXGBClassifier 2'] = xgb.XGBClassifier(nthread=-1, max_depth=3, n_estimators=1000, eta=0.3)\n",
    "# classifiers_boosted['SXGBClassifier 3'] = xgb.XGBClassifier(nthread=-1, max_depth=10, n_estimators=1000, eta=0.2)\n"
   ],
   "metadata": {
    "collapsed": false,
    "pycharm": {
     "name": "#%%\n"
    }
   }
  },
  {
   "cell_type": "code",
   "execution_count": 25,
   "outputs": [],
   "source": [],
   "metadata": {
    "collapsed": false,
    "pycharm": {
     "name": "#%%\n"
    }
   }
  },
  {
   "cell_type": "code",
   "execution_count": 26,
   "outputs": [
    {
     "data": {
      "text/plain": "80.575"
     },
     "execution_count": 26,
     "metadata": {},
     "output_type": "execute_result"
    }
   ],
   "source": [
    "data['close'][1701]"
   ],
   "metadata": {
    "collapsed": false,
    "pycharm": {
     "name": "#%%\n"
    }
   }
  },
  {
   "cell_type": "code",
   "execution_count": 27,
   "outputs": [
    {
     "data": {
      "text/plain": "80.25"
     },
     "execution_count": 27,
     "metadata": {},
     "output_type": "execute_result"
    }
   ],
   "source": [
    "data['close'][1718]"
   ],
   "metadata": {
    "collapsed": false,
    "pycharm": {
     "name": "#%%\n"
    }
   }
  },
  {
   "cell_type": "code",
   "execution_count": 28,
   "outputs": [
    {
     "data": {
      "text/plain": "-0.4033509152963006"
     },
     "execution_count": 28,
     "metadata": {},
     "output_type": "execute_result"
    }
   ],
   "source": [
    "(((data['close'][1718] / data['close'][1701])*100)-100)"
   ],
   "metadata": {
    "collapsed": false,
    "pycharm": {
     "name": "#%%\n"
    }
   }
  },
  {
   "cell_type": "code",
   "execution_count": 28,
   "outputs": [],
   "source": [],
   "metadata": {
    "collapsed": false,
    "pycharm": {
     "name": "#%%\n"
    }
   }
  },
  {
   "cell_type": "code",
   "execution_count": 29,
   "outputs": [],
   "source": [
    "def calculate_change(predicted, correct, index):\n",
    "    change_percentage = (((data['close'][index+WINDOW] / data['close'][index])*100)-100)\n",
    "    if (predicted==1):\n",
    "        return change_percentage\n",
    "    if(predicted==0):\n",
    "        return 0\n",
    "    if (predicted== -1 ):\n",
    "        return 0\n",
    "        # return -change_percentage"
   ],
   "metadata": {
    "collapsed": false,
    "pycharm": {
     "name": "#%%\n"
    }
   }
  },
  {
   "cell_type": "code",
   "execution_count": 30,
   "outputs": [
    {
     "data": {
      "text/plain": "<AxesSubplot:xlabel='Datetime'>"
     },
     "execution_count": 30,
     "metadata": {},
     "output_type": "execute_result"
    },
    {
     "data": {
      "text/plain": "<Figure size 432x288 with 1 Axes>",
      "image/png": "[encoded data removed]"
     },
     "metadata": {
      "needs_background": "light"
     },
     "output_type": "display_data"
    }
   ],
   "source": [
    "data['close'][1000:1700].plot()"
   ],
   "metadata": {
    "collapsed": false,
    "pycharm": {
     "name": "#%%\n"
    }
   }
  },
  {
   "cell_type": "code",
   "execution_count": 31,
   "outputs": [
    {
     "name": "stdout",
     "output_type": "stream",
     "text": [
      "490\n"
     ]
    }
   ],
   "source": [
    "print(len(splited_dataframe))"
   ],
   "metadata": {
    "collapsed": false,
    "pycharm": {
     "name": "#%%\n"
    }
   }
  },
  {
   "cell_type": "code",
   "execution_count": 32,
   "outputs": [
    {
     "name": "stdout",
     "output_type": "stream",
     "text": [
      "31\n",
      "start\n",
      "Calculate:  100\n"
     ]
    },
    {
     "name": "stderr",
     "output_type": "stream",
     "text": [
      "C:\\Users\\exomat\\anaconda3\\envs\\magisterka_analiza\\lib\\site-packages\\xgboost\\sklearn.py:888: UserWarning: The use of label encoder in XGBClassifier is deprecated and will be removed in a future release. To remove this warning, do the following: 1) Pass option use_label_encoder=False when constructing XGBClassifier object; and 2) Encode your labels (y) as integers starting with 0, i.e. 0, 1, 2, ..., [num_class - 1].\n",
      "  warnings.warn(label_encoder_deprecation_msg, UserWarning)\n"
     ]
    },
    {
     "name": "stdout",
     "output_type": "stream",
     "text": [
      "[22:05:20] WARNING: C:/Users/Administrator/workspace/xgboost-win64_release_1.3.0/src/learner.cc:1061: Starting in XGBoost 1.3.0, the default evaluation metric used with the objective 'multi:softprob' was changed from 'merror' to 'mlogloss'. Explicitly set eval_metric if you'd like to restore the old behavior.\n",
      "Calculate:  101\n",
      "[22:05:33] WARNING: C:/Users/Administrator/workspace/xgboost-win64_release_1.3.0/src/learner.cc:1061: Starting in XGBoost 1.3.0, the default evaluation metric used with the objective 'multi:softprob' was changed from 'merror' to 'mlogloss'. Explicitly set eval_metric if you'd like to restore the old behavior.\n",
      "Calculate:  102\n",
      "[22:05:47] WARNING: C:/Users/Administrator/workspace/xgboost-win64_release_1.3.0/src/learner.cc:1061: Starting in XGBoost 1.3.0, the default evaluation metric used with the objective 'multi:softprob' was changed from 'merror' to 'mlogloss'. Explicitly set eval_metric if you'd like to restore the old behavior.\n",
      "Calculate:  103\n",
      "[22:06:01] WARNING: C:/Users/Administrator/workspace/xgboost-win64_release_1.3.0/src/learner.cc:1061: Starting in XGBoost 1.3.0, the default evaluation metric used with the objective 'multi:softprob' was changed from 'merror' to 'mlogloss'. Explicitly set eval_metric if you'd like to restore the old behavior.\n",
      "Calculate:  104\n",
      "[22:06:15] WARNING: C:/Users/Administrator/workspace/xgboost-win64_release_1.3.0/src/learner.cc:1061: Starting in XGBoost 1.3.0, the default evaluation metric used with the objective 'multi:softprob' was changed from 'merror' to 'mlogloss'. Explicitly set eval_metric if you'd like to restore the old behavior.\n",
      "Calculate:  105\n",
      "[22:06:29] WARNING: C:/Users/Administrator/workspace/xgboost-win64_release_1.3.0/src/learner.cc:1061: Starting in XGBoost 1.3.0, the default evaluation metric used with the objective 'multi:softprob' was changed from 'merror' to 'mlogloss'. Explicitly set eval_metric if you'd like to restore the old behavior.\n",
      "Calculate:  106\n",
      "[22:06:44] WARNING: C:/Users/Administrator/workspace/xgboost-win64_release_1.3.0/src/learner.cc:1061: Starting in XGBoost 1.3.0, the default evaluation metric used with the objective 'multi:softprob' was changed from 'merror' to 'mlogloss'. Explicitly set eval_metric if you'd like to restore the old behavior.\n",
      "Calculate:  107\n",
      "[22:06:58] WARNING: C:/Users/Administrator/workspace/xgboost-win64_release_1.3.0/src/learner.cc:1061: Starting in XGBoost 1.3.0, the default evaluation metric used with the objective 'multi:softprob' was changed from 'merror' to 'mlogloss'. Explicitly set eval_metric if you'd like to restore the old behavior.\n",
      "Calculate:  108\n",
      "[22:07:13] WARNING: C:/Users/Administrator/workspace/xgboost-win64_release_1.3.0/src/learner.cc:1061: Starting in XGBoost 1.3.0, the default evaluation metric used with the objective 'multi:softprob' was changed from 'merror' to 'mlogloss'. Explicitly set eval_metric if you'd like to restore the old behavior.\n",
      "Calculate:  109\n",
      "[22:07:27] WARNING: C:/Users/Administrator/workspace/xgboost-win64_release_1.3.0/src/learner.cc:1061: Starting in XGBoost 1.3.0, the default evaluation metric used with the objective 'multi:softprob' was changed from 'merror' to 'mlogloss'. Explicitly set eval_metric if you'd like to restore the old behavior.\n",
      "Calculate:  110\n",
      "[22:07:42] WARNING: C:/Users/Administrator/workspace/xgboost-win64_release_1.3.0/src/learner.cc:1061: Starting in XGBoost 1.3.0, the default evaluation metric used with the objective 'multi:softprob' was changed from 'merror' to 'mlogloss'. Explicitly set eval_metric if you'd like to restore the old behavior.\n",
      "Calculate:  111\n",
      "[22:07:57] WARNING: C:/Users/Administrator/workspace/xgboost-win64_release_1.3.0/src/learner.cc:1061: Starting in XGBoost 1.3.0, the default evaluation metric used with the objective 'multi:softprob' was changed from 'merror' to 'mlogloss'. Explicitly set eval_metric if you'd like to restore the old behavior.\n",
      "Calculate:  112\n",
      "[22:08:12] WARNING: C:/Users/Administrator/workspace/xgboost-win64_release_1.3.0/src/learner.cc:1061: Starting in XGBoost 1.3.0, the default evaluation metric used with the objective 'multi:softprob' was changed from 'merror' to 'mlogloss'. Explicitly set eval_metric if you'd like to restore the old behavior.\n",
      "Calculate:  113\n",
      "[22:08:27] WARNING: C:/Users/Administrator/workspace/xgboost-win64_release_1.3.0/src/learner.cc:1061: Starting in XGBoost 1.3.0, the default evaluation metric used with the objective 'multi:softprob' was changed from 'merror' to 'mlogloss'. Explicitly set eval_metric if you'd like to restore the old behavior.\n",
      "Calculate:  114\n",
      "[22:08:42] WARNING: C:/Users/Administrator/workspace/xgboost-win64_release_1.3.0/src/learner.cc:1061: Starting in XGBoost 1.3.0, the default evaluation metric used with the objective 'multi:softprob' was changed from 'merror' to 'mlogloss'. Explicitly set eval_metric if you'd like to restore the old behavior.\n",
      "Calculate:  115\n",
      "[22:08:58] WARNING: C:/Users/Administrator/workspace/xgboost-win64_release_1.3.0/src/learner.cc:1061: Starting in XGBoost 1.3.0, the default evaluation metric used with the objective 'multi:softprob' was changed from 'merror' to 'mlogloss'. Explicitly set eval_metric if you'd like to restore the old behavior.\n",
      "Calculate:  116\n",
      "[22:09:13] WARNING: C:/Users/Administrator/workspace/xgboost-win64_release_1.3.0/src/learner.cc:1061: Starting in XGBoost 1.3.0, the default evaluation metric used with the objective 'multi:softprob' was changed from 'merror' to 'mlogloss'. Explicitly set eval_metric if you'd like to restore the old behavior.\n",
      "Calculate:  117\n",
      "[22:09:29] WARNING: C:/Users/Administrator/workspace/xgboost-win64_release_1.3.0/src/learner.cc:1061: Starting in XGBoost 1.3.0, the default evaluation metric used with the objective 'multi:softprob' was changed from 'merror' to 'mlogloss'. Explicitly set eval_metric if you'd like to restore the old behavior.\n",
      "Calculate:  118\n",
      "[22:09:45] WARNING: C:/Users/Administrator/workspace/xgboost-win64_release_1.3.0/src/learner.cc:1061: Starting in XGBoost 1.3.0, the default evaluation metric used with the objective 'multi:softprob' was changed from 'merror' to 'mlogloss'. Explicitly set eval_metric if you'd like to restore the old behavior.\n",
      "Calculate:  119\n",
      "[22:10:00] WARNING: C:/Users/Administrator/workspace/xgboost-win64_release_1.3.0/src/learner.cc:1061: Starting in XGBoost 1.3.0, the default evaluation metric used with the objective 'multi:softprob' was changed from 'merror' to 'mlogloss'. Explicitly set eval_metric if you'd like to restore the old behavior.\n",
      "Calculate:  120\n",
      "[22:10:17] WARNING: C:/Users/Administrator/workspace/xgboost-win64_release_1.3.0/src/learner.cc:1061: Starting in XGBoost 1.3.0, the default evaluation metric used with the objective 'multi:softprob' was changed from 'merror' to 'mlogloss'. Explicitly set eval_metric if you'd like to restore the old behavior.\n",
      "Calculate:  121\n",
      "[22:10:33] WARNING: C:/Users/Administrator/workspace/xgboost-win64_release_1.3.0/src/learner.cc:1061: Starting in XGBoost 1.3.0, the default evaluation metric used with the objective 'multi:softprob' was changed from 'merror' to 'mlogloss'. Explicitly set eval_metric if you'd like to restore the old behavior.\n",
      "Calculate:  122\n",
      "[22:10:49] WARNING: C:/Users/Administrator/workspace/xgboost-win64_release_1.3.0/src/learner.cc:1061: Starting in XGBoost 1.3.0, the default evaluation metric used with the objective 'multi:softprob' was changed from 'merror' to 'mlogloss'. Explicitly set eval_metric if you'd like to restore the old behavior.\n",
      "Calculate:  123\n",
      "[22:11:05] WARNING: C:/Users/Administrator/workspace/xgboost-win64_release_1.3.0/src/learner.cc:1061: Starting in XGBoost 1.3.0, the default evaluation metric used with the objective 'multi:softprob' was changed from 'merror' to 'mlogloss'. Explicitly set eval_metric if you'd like to restore the old behavior.\n",
      "Calculate:  124\n",
      "[22:11:22] WARNING: C:/Users/Administrator/workspace/xgboost-win64_release_1.3.0/src/learner.cc:1061: Starting in XGBoost 1.3.0, the default evaluation metric used with the objective 'multi:softprob' was changed from 'merror' to 'mlogloss'. Explicitly set eval_metric if you'd like to restore the old behavior.\n",
      "Calculate:  125\n",
      "[22:11:38] WARNING: C:/Users/Administrator/workspace/xgboost-win64_release_1.3.0/src/learner.cc:1061: Starting in XGBoost 1.3.0, the default evaluation metric used with the objective 'multi:softprob' was changed from 'merror' to 'mlogloss'. Explicitly set eval_metric if you'd like to restore the old behavior.\n",
      "Calculate:  126\n",
      "[22:11:54] WARNING: C:/Users/Administrator/workspace/xgboost-win64_release_1.3.0/src/learner.cc:1061: Starting in XGBoost 1.3.0, the default evaluation metric used with the objective 'multi:softprob' was changed from 'merror' to 'mlogloss'. Explicitly set eval_metric if you'd like to restore the old behavior.\n",
      "Calculate:  127\n",
      "[22:12:11] WARNING: C:/Users/Administrator/workspace/xgboost-win64_release_1.3.0/src/learner.cc:1061: Starting in XGBoost 1.3.0, the default evaluation metric used with the objective 'multi:softprob' was changed from 'merror' to 'mlogloss'. Explicitly set eval_metric if you'd like to restore the old behavior.\n",
      "Calculate:  128\n",
      "[22:12:28] WARNING: C:/Users/Administrator/workspace/xgboost-win64_release_1.3.0/src/learner.cc:1061: Starting in XGBoost 1.3.0, the default evaluation metric used with the objective 'multi:softprob' was changed from 'merror' to 'mlogloss'. Explicitly set eval_metric if you'd like to restore the old behavior.\n",
      "Calculate:  129\n",
      "[22:12:44] WARNING: C:/Users/Administrator/workspace/xgboost-win64_release_1.3.0/src/learner.cc:1061: Starting in XGBoost 1.3.0, the default evaluation metric used with the objective 'multi:softprob' was changed from 'merror' to 'mlogloss'. Explicitly set eval_metric if you'd like to restore the old behavior.\n",
      "Calculate:  130\n",
      "[22:13:01] WARNING: C:/Users/Administrator/workspace/xgboost-win64_release_1.3.0/src/learner.cc:1061: Starting in XGBoost 1.3.0, the default evaluation metric used with the objective 'multi:softprob' was changed from 'merror' to 'mlogloss'. Explicitly set eval_metric if you'd like to restore the old behavior.\n"
     ]
    }
   ],
   "source": [
    "first_row = 99\n",
    "start = 100\n",
    "start_data = splited_dataframe[:first_row + 1]\n",
    "next_data = splited_dataframe[first_row + 1:first_row + 1 + 31]\n",
    "print(len(next_data))\n",
    "score = defaultdict(list)\n",
    "score_sum = defaultdict(list)\n",
    "score_ind = defaultdict(list)\n",
    "score_hour = defaultdict(list)\n",
    "price_now = defaultdict(list)\n",
    "price_fut = defaultdict(list)\n",
    "predicted_classes = defaultdict(list)\n",
    "correct_classes = defaultdict(list)\n",
    "points = defaultdict(list)\n",
    "points_train = defaultdict(list)\n",
    "score_train = defaultdict(list)\n",
    "step_headers = []\n",
    "i = 0\n",
    "print(\"start\")\n",
    "temp = []\n",
    "\n",
    "for idx, day in enumerate(next_data):\n",
    "    first_row += 1\n",
    "    start_data.append(day)\n",
    "    data_set = pd.concat(start_data)\n",
    "    data_set = create_class(data_set)\n",
    "    y = data_set['class_column']\n",
    "    features = [x for x in data_set.columns if x not in ['class_column']]\n",
    "    x = data_set[features]\n",
    "    x_train = x.iloc[:-34]\n",
    "    y_train = y.iloc[:-34]\n",
    "    x_test = x.iloc[-17:]\n",
    "    y_test = y.iloc[-17:]\n",
    "\n",
    "    i = i + 1\n",
    "    predictions_train = dict()\n",
    "    predictions = dict()\n",
    "    print(\"Calculate: \", first_row)\n",
    "    for k, v in classifiers.items():\n",
    "        train_model(v, x_train, y_train)\n",
    "\n",
    "        predicted_class = v.predict(x_test)\n",
    "        count = 0\n",
    "        temp=[]\n",
    "        for idx, el in enumerate(predicted_class):\n",
    "            if calculate_change(el, y_test[idx], (first_row*17)+idx)!=0:\n",
    "                count +=1\n",
    "            score_ind[k].append(calculate_change(el, y_test[idx], (first_row*17)+idx))\n",
    "            temp.append(calculate_change(el, y_test[idx], (first_row*17)+idx))\n",
    "            price_now[k].append(data['close'][(first_row*17)+idx])\n",
    "            price_fut[k].append(data['close'][(first_row*17)+idx+WINDOW])\n",
    "            score_hour[idx].append(calculate_change(el, y_test[idx], (first_row*17)+idx))\n",
    "            predicted_classes[k].append(el)\n",
    "            correct_classes[k].append(y_test[idx])\n",
    "        if count!=0:\n",
    "            score[k].append( sum(temp)/count)\n",
    "        else:\n",
    "            score[k].append( sum(temp))\n",
    "\n",
    "        score_sum[k].append(sum(temp))\n",
    "\n"
   ],
   "metadata": {
    "collapsed": false,
    "pycharm": {
     "name": "#%%\n"
    }
   }
  },
  {
   "cell_type": "code",
   "execution_count": 33,
   "outputs": [],
   "source": [
    "    # rfe = RFE(classifiers['XGBRFClassifier 1'], 10)\n",
    "    # fited = rfe.fit(x_train, y_train)\n",
    "    # names = x.columns\n",
    "    # columns = []\n",
    "    # for i in range(len(fited.support_)):\n",
    "    #     if fited.support_[i]:\n",
    "    #         columns.append(names[i])\n",
    "    #\n",
    "    # print(\"Columns with predictive power:\", columns)\n",
    "    # columns = columns + ['high', 'low', 'volume', 'open']\n",
    "    # x_test_cropped = x_test[columns]\n",
    "    # x_train_cropped = x_train[columns]\n",
    "    # x_test_cropped = x_test_cropped.loc[:, ~x_test_cropped.columns.duplicated()]\n",
    "    # x_train_cropped = x_train_cropped.loc[:, ~x_train_cropped.columns.duplicated()]\n",
    "    # for k, v in classifiers_boosted.items():\n",
    "    #     print(\"Calculate: \", k)\n",
    "    #     train_model(v, x_train, y_train)\n",
    "    #     predicted_class = v.predict(x_test)\n",
    "    #     for idx, el in enumerate(predicted_class):\n",
    "    #         score[k].append(calculate_change(el, y_test[idx], (first_row*17)+idx))\n",
    "\n",
    "\n",
    "\n"
   ],
   "metadata": {
    "collapsed": false,
    "pycharm": {
     "name": "#%%\n"
    }
   }
  },
  {
   "cell_type": "code",
   "execution_count": 34,
   "outputs": [
    {
     "data": {
      "text/plain": "0"
     },
     "execution_count": 34,
     "metadata": {},
     "output_type": "execute_result"
    }
   ],
   "source": [
    "len(score['DecisionTreeClassifier 1'])"
   ],
   "metadata": {
    "collapsed": false,
    "pycharm": {
     "name": "#%%\n"
    }
   }
  },
  {
   "cell_type": "code",
   "execution_count": 35,
   "outputs": [
    {
     "data": {
      "text/plain": "31"
     },
     "execution_count": 35,
     "metadata": {},
     "output_type": "execute_result"
    }
   ],
   "source": [
    "step_headers.clear()\n",
    "for a in range(start,start + 31):\n",
    "    # for b in range (1,18):\n",
    "    #     step_headers.append(f'<{a},{b}>')\n",
    "        step_headers.append(f'<{a}>')\n",
    "len(step_headers)"
   ],
   "metadata": {
    "collapsed": false,
    "pycharm": {
     "name": "#%%\n"
    }
   }
  },
  {
   "cell_type": "code",
   "execution_count": 36,
   "outputs": [
    {
     "name": "stdout",
     "output_type": "stream",
     "text": [
      "+----+--------------------------+-----------+------------+-----------+---------+----------+------------+-----------+-----------+-----------+------------+-----------+----------+---------+---------+-----------+-----------+-----------+-----------+------------+-----------+-----------+-----------+-----------+----------+-----------+------------+------------+-----------+---------+-----------+-----------+----------+\n",
      "|    | Classifier type          |     <100> |      <101> |     <102> |   <103> |    <104> |      <105> |     <106> |     <107> |     <108> |      <109> |     <110> |    <111> |   <112> |   <113> |     <114> |     <115> |     <116> |     <117> |      <118> |     <119> |     <120> |     <121> |     <122> |    <123> |     <124> |      <125> |      <126> |     <127> |   <128> |     <129> |     <130> |      sum |\n",
      "|----+--------------------------+-----------+------------+-----------+---------+----------+------------+-----------+-----------+-----------+------------+-----------+----------+---------+---------+-----------+-----------+-----------+-----------+------------+-----------+-----------+-----------+-----------+----------+-----------+------------+------------+-----------+---------+-----------+-----------+----------|\n",
      "|  0 | XGBRFClassifier 2        |   1.66501 |   0.768973 |   0.32636 |       0 |   1.4157 |   0.665555 |  -5.22924 |  -4.79563 |  -3.97387 |  -0.133422 |  -5.30505 |   4.5925 |       0 |       0 |  -1.67596 |  -3.24896 |  -4.39971 |   3.09689 |   0.143709 |  -9.12548 |   4.82745 |  -4.28114 |   0.65697 |  -1.4329 |   2.61354 |  -0.836407 |  -0.922891 |   7.51473 |       0 |   5.00946 |   2.51359 |  90.4498 |\n",
      "|  1 | DecisionTreeClassifier 1 | nan       | nan        | nan       |     nan | nan      | nan        | nan       | nan       | nan       | nan        | nan       | nan      |     nan |     nan | nan       | nan       | nan       | nan       | nan        | nan       | nan       | nan       | nan       | nan      | nan       | nan        | nan        | nan       |     nan | nan       | nan       | 100      |\n",
      "+----+--------------------------+-----------+------------+-----------+---------+----------+------------+-----------+-----------+-----------+------------+-----------+----------+---------+---------+-----------+-----------+-----------+-----------+------------+-----------+-----------+-----------+-----------+----------+-----------+------------+------------+-----------+---------+-----------+-----------+----------+\n"
     ]
    }
   ],
   "source": [
    "headers = [\"Classifier type\", \"pct_change\"]\n",
    "score_df = pd.DataFrame(score.items(), columns=headers)\n",
    "# print(tabulate(score_df, headers, tablefmt=\"psql\"))\n",
    "headers2 = [\"Classifier type\", ] + step_headers\n",
    "score_df = pd.DataFrame(score.items(), columns=headers)\n",
    "accuracy_df = pd.DataFrame(score_df['pct_change'].tolist(), index=score_df.index, columns=step_headers)\n",
    "score_df = score_df.drop('pct_change', 1)\n",
    "f_out: pd.DataFrame = pd.merge(score_df, accuracy_df, how='left', left_index=True, right_index=True)\n",
    "f_out['sum'] = f_out.sum(axis=1)\n",
    "f_out['sum'] = f_out['sum'].apply(lambda x: x+100)\n",
    "headers2 = headers2 + ['sum']\n",
    "print(tabulate(f_out, headers2, tablefmt=\"psql\"))\n",
    "\n",
    "filename_to_export = f'C:\\\\Users\\\\exomat\\\\Desktop\\\\repo\\\\magisterka_analiza\\\\data\\\\results\\\\simulation\\\\result_test_ta_all_score_{symbol}_{WINDOW}_{datetime.now().strftime(\"%d_%m_%Y %H_%M_%S\")}.csv'\n",
    "f_out.to_csv(filename_to_export, index=False)"
   ],
   "metadata": {
    "collapsed": false,
    "pycharm": {
     "name": "#%%\n"
    }
   }
  },
  {
   "cell_type": "code",
   "execution_count": 37,
   "outputs": [
    {
     "name": "stdout",
     "output_type": "stream",
     "text": [
      "+----+-------------------+---------+---------+---------+---------+---------+---------+----------+----------+----------+-----------+----------+---------+---------+---------+----------+----------+----------+---------+---------+----------+---------+---------+---------+----------+---------+----------+----------+---------+---------+---------+---------+---------+\n",
      "|    | Classifier type   |   <100> |   <101> |   <102> |   <103> |   <104> |   <105> |    <106> |    <107> |    <108> |     <109> |    <110> |   <111> |   <112> |   <113> |    <114> |    <115> |    <116> |   <117> |   <118> |    <119> |   <120> |   <121> |   <122> |    <123> |   <124> |    <125> |    <126> |   <127> |   <128> |   <129> |   <130> |     sum |\n",
      "|----+-------------------+---------+---------+---------+---------+---------+---------+----------+----------+----------+-----------+----------+---------+---------+---------+----------+----------+----------+---------+---------+----------+---------+---------+---------+----------+---------+----------+----------+---------+---------+---------+---------+---------|\n",
      "|  0 | XGBRFClassifier 2 | 14.9851 | 1.53795 | 3.91632 |       0 | 22.6513 | 1.33111 | -41.8339 | -28.7738 | -35.7648 | -0.266844 | -42.4404 | 55.1099 |       0 |       0 | -15.0836 | -42.2364 | -52.7966 | 52.6471 | 1.14967 | -9.12548 | 82.0667 | -29.968 | 7.22667 | -12.8961 | 26.1354 | -5.85485 | -4.61446 | 120.236 |       0 | 10.0189 | 17.5952 | 194.952 |\n",
      "+----+-------------------+---------+---------+---------+---------+---------+---------+----------+----------+----------+-----------+----------+---------+---------+---------+----------+----------+----------+---------+---------+----------+---------+---------+---------+----------+---------+----------+----------+---------+---------+---------+---------+---------+\n"
     ]
    }
   ],
   "source": [
    "step_headers.clear()\n",
    "for a in range(start,start + 31):\n",
    "    # for b in range (1,18):\n",
    "    #     step_headers.append(f'<{a},{b}>')\n",
    "        step_headers.append(f'<{a}>')\n",
    "\n",
    "headers = [\"Classifier type\", \"pct_change\"]\n",
    "score_df = pd.DataFrame(score_sum.items(), columns=headers)\n",
    "# print(tabulate(score_df, headers, tablefmt=\"psql\"))\n",
    "headers2 = [\"Classifier type\", ] + step_headers\n",
    "score_df = pd.DataFrame(score_sum.items(), columns=headers)\n",
    "accuracy_df = pd.DataFrame(score_df['pct_change'].tolist(), index=score_df.index, columns=step_headers)\n",
    "score_df = score_df.drop('pct_change', 1)\n",
    "f_out: pd.DataFrame = pd.merge(score_df, accuracy_df, how='left', left_index=True, right_index=True)\n",
    "f_out['sum'] = f_out.sum(axis=1)\n",
    "f_out['sum'] = f_out['sum'].apply(lambda x: x+100)\n",
    "headers2 = headers2 + ['sum']\n",
    "print(tabulate(f_out, headers2, tablefmt=\"psql\"))\n",
    "\n",
    "filename_to_export = f'C:\\\\Users\\\\exomat\\\\Desktop\\\\repo\\\\magisterka_analiza\\\\data\\\\results\\\\simulation\\\\result_test_ta_all_sum_{symbol}_{WINDOW}_{datetime.now().strftime(\"%d_%m_%Y %H_%M_%S\")}.csv'\n",
    "f_out.to_csv(filename_to_export, index=False)\n"
   ],
   "metadata": {
    "collapsed": false,
    "pycharm": {
     "name": "#%%\n"
    }
   }
  },
  {
   "cell_type": "code",
   "execution_count": 38,
   "outputs": [
    {
     "name": "stdout",
     "output_type": "stream",
     "text": [
      "+----+-------------------+-----------+-----------+-----------+-----------+-----------+-----------+-----------+-----------+-----------+------------+------------+------------+------------+------------+------------+------------+------------+-----------+-----------+-----------+-----------+-----------+-----------+-----------+-----------+-----------+------------+------------+------------+------------+------------+------------+------------+------------+-----------+-----------+-----------+-----------+-----------+-----------+------------+-----------+-----------+------------+------------+------------+------------+------------+------------+------------+------------+-----------+-----------+-----------+-----------+-----------+-----------+-----------+-----------+-----------+------------+------------+------------+------------+------------+------------+------------+------------+-----------+-----------+-----------+-----------+-----------+-----------+-----------+-----------+-----------+------------+------------+------------+------------+------------+------------+------------+------------+-----------+-----------+-----------+-----------+-----------+-----------+-----------+-----------+-----------+------------+------------+------------+------------+------------+------------+------------+------------+-----------+-----------+-----------+-----------+-----------+-----------+-----------+-----------+-----------+------------+------------+------------+------------+------------+------------+------------+------------+-----------+-----------+-----------+-----------+-----------+-----------+-----------+-----------+-----------+------------+------------+------------+------------+------------+------------+------------+------------+-----------+-----------+-----------+-----------+-----------+-----------+-----------+-----------+-----------+------------+------------+------------+------------+------------+------------+------------+------------+-----------+-----------+-----------+-----------+-----------+-----------+-----------+-----------+-----------+------------+------------+------------+------------+------------+------------+------------+------------+-----------+-----------+-----------+-----------+-----------+-----------+-----------+-----------+-----------+------------+------------+------------+------------+------------+------------+------------+------------+-----------+-----------+-----------+-----------+-----------+-----------+-----------+-----------+-----------+------------+------------+------------+------------+------------+------------+------------+------------+-----------+-----------+-----------+-----------+-----------+-----------+-----------+-----------+-----------+------------+------------+------------+------------+------------+------------+------------+------------+-----------+-----------+-----------+-----------+-----------+-----------+-----------+-----------+-----------+------------+------------+------------+------------+------------+------------+------------+------------+-----------+-----------+-----------+-----------+-----------+-----------+-----------+-----------+-----------+------------+-------------+------------+------------+------------+------------+------------+------------+-----------+-----------+-----------+-----------+-----------+-----------+-----------+-----------+-----------+------------+------------+------------+------------+------------+------------+------------+------------+-----------+-----------+-----------+-----------+-----------+-----------+-----------+-----------+-----------+------------+------------+------------+------------+------------+------------+------------+------------+-----------+-----------+-----------+-----------+-----------+-----------+-----------+-----------+-----------+------------+------------+------------+------------+------------+------------+------------+------------+-----------+-----------+-----------+-----------+-----------+-----------+-----------+-----------+-----------+------------+------------+------------+------------+------------+------------+------------+------------+-----------+-----------+-----------+-----------+-----------+-----------+-----------+-----------+-----------+------------+------------+------------+------------+------------+------------+------------+------------+-----------+-----------+------------+-----------+-----------+-----------+-----------+-----------+-----------+------------+------------+------------+------------+------------+------------+------------+------------+-----------+-----------+-----------+-----------+-----------+-----------+-----------+-----------+-----------+------------+------------+------------+------------+------------+------------+------------+------------+-----------+-----------+-----------+-----------+-----------+-----------+-----------+-----------+-----------+------------+------------+------------+------------+------------+------------+------------+------------+-----------+-----------+-----------+-----------+-----------+-----------+-----------+-----------+-----------+------------+------------+------------+------------+------------+------------+------------+------------+-----------+-----------+-----------+-----------+-----------+-----------+-----------+-----------+-----------+------------+------------+------------+------------+------------+------------+------------+------------+-----------+-----------+-----------+-----------+-----------+-----------+-----------+-----------+-----------+------------+------------+------------+------------+------------+------------+------------+------------+-----------+-----------+-----------+-----------+-----------+-----------+-----------+-----------+-----------+------------+------------+------------+------------+------------+------------+------------+------------+-----------+-----------+-----------+-----------+-----------+-----------+-----------+-----------+-----------+------------+------------+------------+------------+------------+------------+------------+------------+-----------+-----------+-----------+-----------+-----------+-----------+-----------+-----------+-----------+------------+------------+------------+------------+------------+------------+------------+------------+-----------+-----------+-----------+-----------+-----------+-----------+-----------+-----------+-----------+------------+------------+------------+------------+------------+------------+------------+------------+-----------+-----------+-----------+-----------+-----------+-----------+-----------+-----------+-----------+------------+------------+------------+------------+------------+------------+------------+------------+---------+\n",
      "|    | Classifier type   |   <100,1> |   <100,2> |   <100,3> |   <100,4> |   <100,5> |   <100,6> |   <100,7> |   <100,8> |   <100,9> |   <100,10> |   <100,11> |   <100,12> |   <100,13> |   <100,14> |   <100,15> |   <100,16> |   <100,17> |   <101,1> |   <101,2> |   <101,3> |   <101,4> |   <101,5> |   <101,6> |   <101,7> |   <101,8> |   <101,9> |   <101,10> |   <101,11> |   <101,12> |   <101,13> |   <101,14> |   <101,15> |   <101,16> |   <101,17> |   <102,1> |   <102,2> |   <102,3> |   <102,4> |   <102,5> |   <102,6> |    <102,7> |   <102,8> |   <102,9> |   <102,10> |   <102,11> |   <102,12> |   <102,13> |   <102,14> |   <102,15> |   <102,16> |   <102,17> |   <103,1> |   <103,2> |   <103,3> |   <103,4> |   <103,5> |   <103,6> |   <103,7> |   <103,8> |   <103,9> |   <103,10> |   <103,11> |   <103,12> |   <103,13> |   <103,14> |   <103,15> |   <103,16> |   <103,17> |   <104,1> |   <104,2> |   <104,3> |   <104,4> |   <104,5> |   <104,6> |   <104,7> |   <104,8> |   <104,9> |   <104,10> |   <104,11> |   <104,12> |   <104,13> |   <104,14> |   <104,15> |   <104,16> |   <104,17> |   <105,1> |   <105,2> |   <105,3> |   <105,4> |   <105,5> |   <105,6> |   <105,7> |   <105,8> |   <105,9> |   <105,10> |   <105,11> |   <105,12> |   <105,13> |   <105,14> |   <105,15> |   <105,16> |   <105,17> |   <106,1> |   <106,2> |   <106,3> |   <106,4> |   <106,5> |   <106,6> |   <106,7> |   <106,8> |   <106,9> |   <106,10> |   <106,11> |   <106,12> |   <106,13> |   <106,14> |   <106,15> |   <106,16> |   <106,17> |   <107,1> |   <107,2> |   <107,3> |   <107,4> |   <107,5> |   <107,6> |   <107,7> |   <107,8> |   <107,9> |   <107,10> |   <107,11> |   <107,12> |   <107,13> |   <107,14> |   <107,15> |   <107,16> |   <107,17> |   <108,1> |   <108,2> |   <108,3> |   <108,4> |   <108,5> |   <108,6> |   <108,7> |   <108,8> |   <108,9> |   <108,10> |   <108,11> |   <108,12> |   <108,13> |   <108,14> |   <108,15> |   <108,16> |   <108,17> |   <109,1> |   <109,2> |   <109,3> |   <109,4> |   <109,5> |   <109,6> |   <109,7> |   <109,8> |   <109,9> |   <109,10> |   <109,11> |   <109,12> |   <109,13> |   <109,14> |   <109,15> |   <109,16> |   <109,17> |   <110,1> |   <110,2> |   <110,3> |   <110,4> |   <110,5> |   <110,6> |   <110,7> |   <110,8> |   <110,9> |   <110,10> |   <110,11> |   <110,12> |   <110,13> |   <110,14> |   <110,15> |   <110,16> |   <110,17> |   <111,1> |   <111,2> |   <111,3> |   <111,4> |   <111,5> |   <111,6> |   <111,7> |   <111,8> |   <111,9> |   <111,10> |   <111,11> |   <111,12> |   <111,13> |   <111,14> |   <111,15> |   <111,16> |   <111,17> |   <112,1> |   <112,2> |   <112,3> |   <112,4> |   <112,5> |   <112,6> |   <112,7> |   <112,8> |   <112,9> |   <112,10> |   <112,11> |   <112,12> |   <112,13> |   <112,14> |   <112,15> |   <112,16> |   <112,17> |   <113,1> |   <113,2> |   <113,3> |   <113,4> |   <113,5> |   <113,6> |   <113,7> |   <113,8> |   <113,9> |   <113,10> |   <113,11> |   <113,12> |   <113,13> |   <113,14> |   <113,15> |   <113,16> |   <113,17> |   <114,1> |   <114,2> |   <114,3> |   <114,4> |   <114,5> |   <114,6> |   <114,7> |   <114,8> |   <114,9> |   <114,10> |    <114,11> |   <114,12> |   <114,13> |   <114,14> |   <114,15> |   <114,16> |   <114,17> |   <115,1> |   <115,2> |   <115,3> |   <115,4> |   <115,5> |   <115,6> |   <115,7> |   <115,8> |   <115,9> |   <115,10> |   <115,11> |   <115,12> |   <115,13> |   <115,14> |   <115,15> |   <115,16> |   <115,17> |   <116,1> |   <116,2> |   <116,3> |   <116,4> |   <116,5> |   <116,6> |   <116,7> |   <116,8> |   <116,9> |   <116,10> |   <116,11> |   <116,12> |   <116,13> |   <116,14> |   <116,15> |   <116,16> |   <116,17> |   <117,1> |   <117,2> |   <117,3> |   <117,4> |   <117,5> |   <117,6> |   <117,7> |   <117,8> |   <117,9> |   <117,10> |   <117,11> |   <117,12> |   <117,13> |   <117,14> |   <117,15> |   <117,16> |   <117,17> |   <118,1> |   <118,2> |   <118,3> |   <118,4> |   <118,5> |   <118,6> |   <118,7> |   <118,8> |   <118,9> |   <118,10> |   <118,11> |   <118,12> |   <118,13> |   <118,14> |   <118,15> |   <118,16> |   <118,17> |   <119,1> |   <119,2> |   <119,3> |   <119,4> |   <119,5> |   <119,6> |   <119,7> |   <119,8> |   <119,9> |   <119,10> |   <119,11> |   <119,12> |   <119,13> |   <119,14> |   <119,15> |   <119,16> |   <119,17> |   <120,1> |   <120,2> |    <120,3> |   <120,4> |   <120,5> |   <120,6> |   <120,7> |   <120,8> |   <120,9> |   <120,10> |   <120,11> |   <120,12> |   <120,13> |   <120,14> |   <120,15> |   <120,16> |   <120,17> |   <121,1> |   <121,2> |   <121,3> |   <121,4> |   <121,5> |   <121,6> |   <121,7> |   <121,8> |   <121,9> |   <121,10> |   <121,11> |   <121,12> |   <121,13> |   <121,14> |   <121,15> |   <121,16> |   <121,17> |   <122,1> |   <122,2> |   <122,3> |   <122,4> |   <122,5> |   <122,6> |   <122,7> |   <122,8> |   <122,9> |   <122,10> |   <122,11> |   <122,12> |   <122,13> |   <122,14> |   <122,15> |   <122,16> |   <122,17> |   <123,1> |   <123,2> |   <123,3> |   <123,4> |   <123,5> |   <123,6> |   <123,7> |   <123,8> |   <123,9> |   <123,10> |   <123,11> |   <123,12> |   <123,13> |   <123,14> |   <123,15> |   <123,16> |   <123,17> |   <124,1> |   <124,2> |   <124,3> |   <124,4> |   <124,5> |   <124,6> |   <124,7> |   <124,8> |   <124,9> |   <124,10> |   <124,11> |   <124,12> |   <124,13> |   <124,14> |   <124,15> |   <124,16> |   <124,17> |   <125,1> |   <125,2> |   <125,3> |   <125,4> |   <125,5> |   <125,6> |   <125,7> |   <125,8> |   <125,9> |   <125,10> |   <125,11> |   <125,12> |   <125,13> |   <125,14> |   <125,15> |   <125,16> |   <125,17> |   <126,1> |   <126,2> |   <126,3> |   <126,4> |   <126,5> |   <126,6> |   <126,7> |   <126,8> |   <126,9> |   <126,10> |   <126,11> |   <126,12> |   <126,13> |   <126,14> |   <126,15> |   <126,16> |   <126,17> |   <127,1> |   <127,2> |   <127,3> |   <127,4> |   <127,5> |   <127,6> |   <127,7> |   <127,8> |   <127,9> |   <127,10> |   <127,11> |   <127,12> |   <127,13> |   <127,14> |   <127,15> |   <127,16> |   <127,17> |   <128,1> |   <128,2> |   <128,3> |   <128,4> |   <128,5> |   <128,6> |   <128,7> |   <128,8> |   <128,9> |   <128,10> |   <128,11> |   <128,12> |   <128,13> |   <128,14> |   <128,15> |   <128,16> |   <128,17> |   <129,1> |   <129,2> |   <129,3> |   <129,4> |   <129,5> |   <129,6> |   <129,7> |   <129,8> |   <129,9> |   <129,10> |   <129,11> |   <129,12> |   <129,13> |   <129,14> |   <129,15> |   <129,16> |   <129,17> |   <130,1> |   <130,2> |   <130,3> |   <130,4> |   <130,5> |   <130,6> |   <130,7> |   <130,8> |   <130,9> |   <130,10> |   <130,11> |   <130,12> |   <130,13> |   <130,14> |   <130,15> |   <130,16> |   <130,17> |     sum |\n",
      "|----+-------------------+-----------+-----------+-----------+-----------+-----------+-----------+-----------+-----------+-----------+------------+------------+------------+------------+------------+------------+------------+------------+-----------+-----------+-----------+-----------+-----------+-----------+-----------+-----------+-----------+------------+------------+------------+------------+------------+------------+------------+------------+-----------+-----------+-----------+-----------+-----------+-----------+------------+-----------+-----------+------------+------------+------------+------------+------------+------------+------------+------------+-----------+-----------+-----------+-----------+-----------+-----------+-----------+-----------+-----------+------------+------------+------------+------------+------------+------------+------------+------------+-----------+-----------+-----------+-----------+-----------+-----------+-----------+-----------+-----------+------------+------------+------------+------------+------------+------------+------------+------------+-----------+-----------+-----------+-----------+-----------+-----------+-----------+-----------+-----------+------------+------------+------------+------------+------------+------------+------------+------------+-----------+-----------+-----------+-----------+-----------+-----------+-----------+-----------+-----------+------------+------------+------------+------------+------------+------------+------------+------------+-----------+-----------+-----------+-----------+-----------+-----------+-----------+-----------+-----------+------------+------------+------------+------------+------------+------------+------------+------------+-----------+-----------+-----------+-----------+-----------+-----------+-----------+-----------+-----------+------------+------------+------------+------------+------------+------------+------------+------------+-----------+-----------+-----------+-----------+-----------+-----------+-----------+-----------+-----------+------------+------------+------------+------------+------------+------------+------------+------------+-----------+-----------+-----------+-----------+-----------+-----------+-----------+-----------+-----------+------------+------------+------------+------------+------------+------------+------------+------------+-----------+-----------+-----------+-----------+-----------+-----------+-----------+-----------+-----------+------------+------------+------------+------------+------------+------------+------------+------------+-----------+-----------+-----------+-----------+-----------+-----------+-----------+-----------+-----------+------------+------------+------------+------------+------------+------------+------------+------------+-----------+-----------+-----------+-----------+-----------+-----------+-----------+-----------+-----------+------------+------------+------------+------------+------------+------------+------------+------------+-----------+-----------+-----------+-----------+-----------+-----------+-----------+-----------+-----------+------------+-------------+------------+------------+------------+------------+------------+------------+-----------+-----------+-----------+-----------+-----------+-----------+-----------+-----------+-----------+------------+------------+------------+------------+------------+------------+------------+------------+-----------+-----------+-----------+-----------+-----------+-----------+-----------+-----------+-----------+------------+------------+------------+------------+------------+------------+------------+------------+-----------+-----------+-----------+-----------+-----------+-----------+-----------+-----------+-----------+------------+------------+------------+------------+------------+------------+------------+------------+-----------+-----------+-----------+-----------+-----------+-----------+-----------+-----------+-----------+------------+------------+------------+------------+------------+------------+------------+------------+-----------+-----------+-----------+-----------+-----------+-----------+-----------+-----------+-----------+------------+------------+------------+------------+------------+------------+------------+------------+-----------+-----------+------------+-----------+-----------+-----------+-----------+-----------+-----------+------------+------------+------------+------------+------------+------------+------------+------------+-----------+-----------+-----------+-----------+-----------+-----------+-----------+-----------+-----------+------------+------------+------------+------------+------------+------------+------------+------------+-----------+-----------+-----------+-----------+-----------+-----------+-----------+-----------+-----------+------------+------------+------------+------------+------------+------------+------------+------------+-----------+-----------+-----------+-----------+-----------+-----------+-----------+-----------+-----------+------------+------------+------------+------------+------------+------------+------------+------------+-----------+-----------+-----------+-----------+-----------+-----------+-----------+-----------+-----------+------------+------------+------------+------------+------------+------------+------------+------------+-----------+-----------+-----------+-----------+-----------+-----------+-----------+-----------+-----------+------------+------------+------------+------------+------------+------------+------------+------------+-----------+-----------+-----------+-----------+-----------+-----------+-----------+-----------+-----------+------------+------------+------------+------------+------------+------------+------------+------------+-----------+-----------+-----------+-----------+-----------+-----------+-----------+-----------+-----------+------------+------------+------------+------------+------------+------------+------------+------------+-----------+-----------+-----------+-----------+-----------+-----------+-----------+-----------+-----------+------------+------------+------------+------------+------------+------------+------------+------------+-----------+-----------+-----------+-----------+-----------+-----------+-----------+-----------+-----------+------------+------------+------------+------------+------------+------------+------------+------------+-----------+-----------+-----------+-----------+-----------+-----------+-----------+-----------+-----------+------------+------------+------------+------------+------------+------------+------------+------------+---------|\n",
      "|  0 | XGBRFClassifier 2 |         0 |         0 |         0 |         0 |         0 |         0 |         0 |         0 |  0.524081 |   0.860786 |   0.831183 |    1.33466 |    1.94874 |    2.37478 |    2.40999 |     2.3325 |    2.36836 |         0 |         0 |         0 |         0 |         0 |  0.889497 |         0 |         0 |         0 |          0 |          0 |          0 |          0 |          0 |          0 |          0 |   0.648448 |   1.23852 |   1.20186 |  0.927931 |  0.720091 |  0.107895 |  0.289398 | -0.0615042 |  -0.32986 |         0 |          0 |          0 |  0.0123137 |  -0.101429 |  -0.178193 |  0.0892995 |          0 |          0 |         0 |         0 |         0 |         0 |         0 |         0 |         0 |         0 |         0 |          0 |          0 |          0 |          0 |          0 |          0 |          0 |          0 |         0 |   0.82912 |    1.7033 |   2.07931 |   2.25566 |   2.42914 |   2.05225 |   1.49599 |   1.40038 |    1.44509 |    1.34796 |    1.39472 |    1.31414 |   0.780031 |   0.717181 |   0.751974 |   0.655022 |  0.473447 |  0.857664 |         0 |         0 |         0 |         0 |         0 |         0 |         0 |          0 |          0 |          0 |          0 |          0 |          0 |          0 |          0 |         0 |         0 |         0 |         0 |         0 |         0 |         0 |         0 |         0 |   -1.79245 |   -5.83905 |   -5.63048 |   -6.00189 |   -5.03443 |   -5.30779 |   -6.79992 |    -5.4279 |  -5.18808 |  -5.35209 |  -4.67516 |         0 |         0 |         0 |  -4.60678 |    -4.789 |  -4.16266 |          0 |          0 |          0 |          0 |          0 |          0 |          0 |          0 |         0 |         0 |         0 |  -3.96421 |  -3.37727 |  -3.20721 |  -3.38124 |  -3.17407 |  -5.73422 |   -4.62562 |   -4.05203 |   -4.24895 |          0 |          0 |          0 |          0 |          0 |         0 |  0.826906 |         0 |         0 |         0 |         0 |         0 |         0 |         0 |          0 |   -1.09375 |          0 |          0 |          0 |          0 |          0 |          0 |         0 |         0 |  -6.69999 |         0 |  -7.03372 |  -6.36833 |         0 |         0 |         0 |          0 |          0 |          0 |   -5.83841 |   -3.99915 |    -3.7092 |   -3.87539 |   -4.91622 |  -3.98416 |  0.571339 |   1.93262 |   1.97661 |   1.37868 |   7.89995 |       5.5 |         0 |         0 |    4.16667 |    9.79203 |    7.79566 |          0 |          0 |          0 |    8.72678 |    9.35377 |         0 |         0 |         0 |         0 |         0 |         0 |         0 |         0 |         0 |          0 |          0 |          0 |          0 |          0 |          0 |          0 |          0 |         0 |         0 |         0 |         0 |         0 |         0 |         0 |         0 |         0 |          0 |          0 |          0 |          0 |          0 |          0 |          0 |          0 |         0 |         0 |         0 |         0 |         0 |         0 |         0 | -0.623525 |         0 |   0.605628 | -0.00336262 |    -1.3758 |   -1.88144 |   -2.66591 |   -3.30758 |   -2.90782 |   -2.92382 |  -2.54477 |  -3.07023 |  -3.97904 |  -3.91586 |  -4.52633 |  -5.35534 |   -4.5786 |         0 |         0 |          0 |   -2.84073 |   -3.16884 |   -2.99881 |   -1.34508 |   -1.57771 |          0 |   -2.33509 |  -6.60965 |  -4.41151 |  -4.14948 |  -5.32957 |  -4.59078 |  -6.24134 |  -4.78636 |         0 |  -3.64456 |    -4.8451 |          0 |   -4.06602 |          0 |          0 |          0 |   -6.02094 |    1.89873 |   1.28913 |   2.53788 |   4.43816 |   4.12163 |    4.3292 |   1.03164 |   2.41758 | -0.785421 |  0.555999 |    2.65885 |    1.09096 |    4.72397 |    7.60857 |     7.4896 |    5.06964 |    2.43332 |    1.63636 |  -1.06894 |         0 |         0 |  0.686748 | -0.144326 |         0 |   1.21225 |  0.440157 |    0.7258 |   0.625771 |   -1.32779 |          0 |          0 |          0 |          0 |          0 |          0 |         0 |         0 |         0 |         0 |         0 |         0 |         0 |         0 |         0 |          0 |          0 |          0 |          0 |          0 |          0 |          0 |   -9.12548 | -0.979451 |  -1.87956 | -0.0385654 |   1.85547 |   3.75734 |   2.49086 |   2.98571 |   1.86242 |   -2.0765 |    3.18567 |    2.42205 |    5.32863 |    13.2673 |    15.2862 |    13.8857 |    14.6234 |    6.08999 |  -2.27131 |  -4.49074 |  -5.56088 |  -7.39344 |         0 |  -7.93935 |  -2.96846 |  0.656216 |         0 |          0 |          0 |          0 |          0 |          0 |          0 |          0 |          0 |         0 |         0 |         0 |         0 |   2.32982 | -0.749888 |         0 |         0 | -0.573391 |  -0.256373 |    1.78514 |    3.45177 |    2.93088 |    2.03749 |    1.49994 |  -0.628427 |   -4.60029 |         0 |   -3.9783 |  -5.83715 |  -4.15723 |  -2.94141 |  -1.94076 |         0 |         0 |         0 |          0 |          0 |          0 |  -0.243613 |   -1.08931 |          0 |    1.34174 |     5.9499 |   3.07596 |   5.71272 |   3.41772 |    2.4311 |       1.5 |         0 |         0 |         0 |   2.73028 |    4.25778 |    4.36101 |  -0.456383 |  -0.894808 |          0 |          0 |          0 |          0 |       2.8 |         0 |   4.64927 |   3.34565 |     1.759 |         0 |         0 |         0 |         0 |          0 |          0 |          0 |          0 |   -6.19379 |   -6.21292 |   -6.00206 |          0 |         0 |         0 |         0 |         0 |         0 |         0 |         0 |         0 |         0 |          0 |          0 |          0 |   -2.38396 |   -2.18341 |    -1.6838 |  -0.656455 |    2.29317 |   4.93268 |   4.09352 |   4.64264 |  0.856216 |   2.02561 |   6.20834 |   12.3997 |   9.79597 |   9.29735 |    8.61947 |    9.98645 |    8.77981 |    10.2143 |    10.3203 |    8.81057 |    9.25275 |          0 |         0 |         0 |         0 |         0 |         0 |         0 |         0 |         0 |         0 |          0 |          0 |          0 |          0 |          0 |          0 |          0 |          0 |         0 |         0 |         0 |         0 |         0 |         0 |         0 |         0 |         0 |          0 |          0 |          0 |          0 |          0 |          0 |    3.85019 |    6.16872 |   4.83128 |   3.41653 |   2.67384 |    5.5023 |   1.88526 |         0 |         0 |         0 |         0 |  -0.765445 |  0.0513874 |          0 |          0 |          0 |          0 |          0 |          0 | 194.952 |\n",
      "+----+-------------------+-----------+-----------+-----------+-----------+-----------+-----------+-----------+-----------+-----------+------------+------------+------------+------------+------------+------------+------------+------------+-----------+-----------+-----------+-----------+-----------+-----------+-----------+-----------+-----------+------------+------------+------------+------------+------------+------------+------------+------------+-----------+-----------+-----------+-----------+-----------+-----------+------------+-----------+-----------+------------+------------+------------+------------+------------+------------+------------+------------+-----------+-----------+-----------+-----------+-----------+-----------+-----------+-----------+-----------+------------+------------+------------+------------+------------+------------+------------+------------+-----------+-----------+-----------+-----------+-----------+-----------+-----------+-----------+-----------+------------+------------+------------+------------+------------+------------+------------+------------+-----------+-----------+-----------+-----------+-----------+-----------+-----------+-----------+-----------+------------+------------+------------+------------+------------+------------+------------+------------+-----------+-----------+-----------+-----------+-----------+-----------+-----------+-----------+-----------+------------+------------+------------+------------+------------+------------+------------+------------+-----------+-----------+-----------+-----------+-----------+-----------+-----------+-----------+-----------+------------+------------+------------+------------+------------+------------+------------+------------+-----------+-----------+-----------+-----------+-----------+-----------+-----------+-----------+-----------+------------+------------+------------+------------+------------+------------+------------+------------+-----------+-----------+-----------+-----------+-----------+-----------+-----------+-----------+-----------+------------+------------+------------+------------+------------+------------+------------+------------+-----------+-----------+-----------+-----------+-----------+-----------+-----------+-----------+-----------+------------+------------+------------+------------+------------+------------+------------+------------+-----------+-----------+-----------+-----------+-----------+-----------+-----------+-----------+-----------+------------+------------+------------+------------+------------+------------+------------+------------+-----------+-----------+-----------+-----------+-----------+-----------+-----------+-----------+-----------+------------+------------+------------+------------+------------+------------+------------+------------+-----------+-----------+-----------+-----------+-----------+-----------+-----------+-----------+-----------+------------+------------+------------+------------+------------+------------+------------+------------+-----------+-----------+-----------+-----------+-----------+-----------+-----------+-----------+-----------+------------+-------------+------------+------------+------------+------------+------------+------------+-----------+-----------+-----------+-----------+-----------+-----------+-----------+-----------+-----------+------------+------------+------------+------------+------------+------------+------------+------------+-----------+-----------+-----------+-----------+-----------+-----------+-----------+-----------+-----------+------------+------------+------------+------------+------------+------------+------------+------------+-----------+-----------+-----------+-----------+-----------+-----------+-----------+-----------+-----------+------------+------------+------------+------------+------------+------------+------------+------------+-----------+-----------+-----------+-----------+-----------+-----------+-----------+-----------+-----------+------------+------------+------------+------------+------------+------------+------------+------------+-----------+-----------+-----------+-----------+-----------+-----------+-----------+-----------+-----------+------------+------------+------------+------------+------------+------------+------------+------------+-----------+-----------+------------+-----------+-----------+-----------+-----------+-----------+-----------+------------+------------+------------+------------+------------+------------+------------+------------+-----------+-----------+-----------+-----------+-----------+-----------+-----------+-----------+-----------+------------+------------+------------+------------+------------+------------+------------+------------+-----------+-----------+-----------+-----------+-----------+-----------+-----------+-----------+-----------+------------+------------+------------+------------+------------+------------+------------+------------+-----------+-----------+-----------+-----------+-----------+-----------+-----------+-----------+-----------+------------+------------+------------+------------+------------+------------+------------+------------+-----------+-----------+-----------+-----------+-----------+-----------+-----------+-----------+-----------+------------+------------+------------+------------+------------+------------+------------+------------+-----------+-----------+-----------+-----------+-----------+-----------+-----------+-----------+-----------+------------+------------+------------+------------+------------+------------+------------+------------+-----------+-----------+-----------+-----------+-----------+-----------+-----------+-----------+-----------+------------+------------+------------+------------+------------+------------+------------+------------+-----------+-----------+-----------+-----------+-----------+-----------+-----------+-----------+-----------+------------+------------+------------+------------+------------+------------+------------+------------+-----------+-----------+-----------+-----------+-----------+-----------+-----------+-----------+-----------+------------+------------+------------+------------+------------+------------+------------+------------+-----------+-----------+-----------+-----------+-----------+-----------+-----------+-----------+-----------+------------+------------+------------+------------+------------+------------+------------+------------+-----------+-----------+-----------+-----------+-----------+-----------+-----------+-----------+-----------+------------+------------+------------+------------+------------+------------+------------+------------+---------+\n"
     ]
    }
   ],
   "source": [
    "step_headers.clear()\n",
    "for a in range(start,start + 31):\n",
    "    for b in range (1,18):\n",
    "        step_headers.append(f'<{a},{b}>')\n",
    "\n",
    "headers = [\"Classifier type\", \"pct_change\"]\n",
    "score_df = pd.DataFrame(score_ind.items(), columns=headers)\n",
    "# print(tabulate(score_df, headers, tablefmt=\"psql\"))\n",
    "headers2 = [\"Classifier type\", ] + step_headers\n",
    "score_df = pd.DataFrame(score_ind.items(), columns=headers)\n",
    "accuracy_df = pd.DataFrame(score_df['pct_change'].tolist(), index=score_df.index, columns=step_headers)\n",
    "score_df = score_df.drop('pct_change', 1)\n",
    "f_out: pd.DataFrame = pd.merge(score_df, accuracy_df, how='left', left_index=True, right_index=True)\n",
    "f_out['sum'] = f_out.sum(axis=1)\n",
    "f_out['sum'] = f_out['sum'].apply(lambda x: x+100)\n",
    "headers2 = headers2 + ['sum']\n",
    "print(tabulate(f_out, headers2, tablefmt=\"psql\"))\n",
    "\n",
    "filename_to_export = f'C:\\\\Users\\\\exomat\\\\Desktop\\\\repo\\\\magisterka_analiza\\\\data\\\\results\\\\simulation\\\\result_test_ta_all_points_{symbol}_{WINDOW}_{datetime.now().strftime(\"%d_%m_%Y %H_%M_%S\")}.csv'\n",
    "f_out.to_csv(filename_to_export, index=False)"
   ],
   "metadata": {
    "collapsed": false,
    "pycharm": {
     "name": "#%%\n"
    }
   }
  },
  {
   "cell_type": "code",
   "execution_count": 39,
   "outputs": [
    {
     "name": "stdout",
     "output_type": "stream",
     "text": [
      "+----+-------------------+-----------+-----------+-----------+-----------+-----------+-----------+-----------+-----------+-----------+------------+------------+------------+------------+------------+------------+------------+------------+-----------+-----------+-----------+-----------+-----------+-----------+-----------+-----------+-----------+------------+------------+------------+------------+------------+------------+------------+------------+-----------+-----------+-----------+-----------+-----------+-----------+-----------+-----------+-----------+------------+------------+------------+------------+------------+------------+------------+------------+-----------+-----------+-----------+-----------+-----------+-----------+-----------+-----------+-----------+------------+------------+------------+------------+------------+------------+------------+------------+-----------+-----------+-----------+-----------+-----------+-----------+-----------+-----------+-----------+------------+------------+------------+------------+------------+------------+------------+------------+-----------+-----------+-----------+-----------+-----------+-----------+-----------+-----------+-----------+------------+------------+------------+------------+------------+------------+------------+------------+-----------+-----------+-----------+-----------+-----------+-----------+-----------+-----------+-----------+------------+------------+------------+------------+------------+------------+------------+------------+-----------+-----------+-----------+-----------+-----------+-----------+-----------+-----------+-----------+------------+------------+------------+------------+------------+------------+------------+------------+-----------+-----------+-----------+-----------+-----------+-----------+-----------+-----------+-----------+------------+------------+------------+------------+------------+------------+------------+------------+-----------+-----------+-----------+-----------+-----------+-----------+-----------+-----------+-----------+------------+------------+------------+------------+------------+------------+------------+------------+-----------+-----------+-----------+-----------+-----------+-----------+-----------+-----------+-----------+------------+------------+------------+------------+------------+------------+------------+------------+-----------+-----------+-----------+-----------+-----------+-----------+-----------+-----------+-----------+------------+------------+------------+------------+------------+------------+------------+------------+-----------+-----------+-----------+-----------+-----------+-----------+-----------+-----------+-----------+------------+------------+------------+------------+------------+------------+------------+------------+-----------+-----------+-----------+-----------+-----------+-----------+-----------+-----------+-----------+------------+------------+------------+------------+------------+------------+------------+------------+-----------+-----------+-----------+-----------+-----------+-----------+-----------+-----------+-----------+------------+------------+------------+------------+------------+------------+------------+------------+-----------+-----------+-----------+-----------+-----------+-----------+-----------+-----------+-----------+------------+------------+------------+------------+------------+------------+------------+------------+-----------+-----------+-----------+-----------+-----------+-----------+-----------+-----------+-----------+------------+------------+------------+------------+------------+------------+------------+------------+-----------+-----------+-----------+-----------+-----------+-----------+-----------+-----------+-----------+------------+------------+------------+------------+------------+------------+------------+------------+-----------+-----------+-----------+-----------+-----------+-----------+-----------+-----------+-----------+------------+------------+------------+------------+------------+------------+------------+------------+-----------+-----------+-----------+-----------+-----------+-----------+-----------+-----------+-----------+------------+------------+------------+------------+------------+------------+------------+------------+-----------+-----------+-----------+-----------+-----------+-----------+-----------+-----------+-----------+------------+------------+------------+------------+------------+------------+------------+------------+-----------+-----------+-----------+-----------+-----------+-----------+-----------+-----------+-----------+------------+------------+------------+------------+------------+------------+------------+------------+-----------+-----------+-----------+-----------+-----------+-----------+-----------+-----------+-----------+------------+------------+------------+------------+------------+------------+------------+------------+-----------+-----------+-----------+-----------+-----------+-----------+-----------+-----------+-----------+------------+------------+------------+------------+------------+------------+------------+------------+-----------+-----------+-----------+-----------+-----------+-----------+-----------+-----------+-----------+------------+------------+------------+------------+------------+------------+------------+------------+-----------+-----------+-----------+-----------+-----------+-----------+-----------+-----------+-----------+------------+------------+------------+------------+------------+------------+------------+------------+-----------+-----------+-----------+-----------+-----------+-----------+-----------+-----------+-----------+------------+------------+------------+------------+------------+------------+------------+------------+-----------+-----------+-----------+-----------+-----------+-----------+-----------+-----------+-----------+------------+------------+------------+------------+------------+------------+------------+------------+-----------+-----------+-----------+-----------+-----------+-----------+-----------+-----------+-----------+------------+------------+------------+------------+------------+------------+------------+------------+-----------+-----------+-----------+-----------+-----------+-----------+-----------+-----------+-----------+------------+------------+------------+------------+------------+------------+------------+------------+-----------+-----------+-----------+-----------+-----------+-----------+-----------+-----------+-----------+------------+------------+------------+------------+------------+------------+------------+------------+---------+\n",
      "|    | Classifier type   |   <100,1> |   <100,2> |   <100,3> |   <100,4> |   <100,5> |   <100,6> |   <100,7> |   <100,8> |   <100,9> |   <100,10> |   <100,11> |   <100,12> |   <100,13> |   <100,14> |   <100,15> |   <100,16> |   <100,17> |   <101,1> |   <101,2> |   <101,3> |   <101,4> |   <101,5> |   <101,6> |   <101,7> |   <101,8> |   <101,9> |   <101,10> |   <101,11> |   <101,12> |   <101,13> |   <101,14> |   <101,15> |   <101,16> |   <101,17> |   <102,1> |   <102,2> |   <102,3> |   <102,4> |   <102,5> |   <102,6> |   <102,7> |   <102,8> |   <102,9> |   <102,10> |   <102,11> |   <102,12> |   <102,13> |   <102,14> |   <102,15> |   <102,16> |   <102,17> |   <103,1> |   <103,2> |   <103,3> |   <103,4> |   <103,5> |   <103,6> |   <103,7> |   <103,8> |   <103,9> |   <103,10> |   <103,11> |   <103,12> |   <103,13> |   <103,14> |   <103,15> |   <103,16> |   <103,17> |   <104,1> |   <104,2> |   <104,3> |   <104,4> |   <104,5> |   <104,6> |   <104,7> |   <104,8> |   <104,9> |   <104,10> |   <104,11> |   <104,12> |   <104,13> |   <104,14> |   <104,15> |   <104,16> |   <104,17> |   <105,1> |   <105,2> |   <105,3> |   <105,4> |   <105,5> |   <105,6> |   <105,7> |   <105,8> |   <105,9> |   <105,10> |   <105,11> |   <105,12> |   <105,13> |   <105,14> |   <105,15> |   <105,16> |   <105,17> |   <106,1> |   <106,2> |   <106,3> |   <106,4> |   <106,5> |   <106,6> |   <106,7> |   <106,8> |   <106,9> |   <106,10> |   <106,11> |   <106,12> |   <106,13> |   <106,14> |   <106,15> |   <106,16> |   <106,17> |   <107,1> |   <107,2> |   <107,3> |   <107,4> |   <107,5> |   <107,6> |   <107,7> |   <107,8> |   <107,9> |   <107,10> |   <107,11> |   <107,12> |   <107,13> |   <107,14> |   <107,15> |   <107,16> |   <107,17> |   <108,1> |   <108,2> |   <108,3> |   <108,4> |   <108,5> |   <108,6> |   <108,7> |   <108,8> |   <108,9> |   <108,10> |   <108,11> |   <108,12> |   <108,13> |   <108,14> |   <108,15> |   <108,16> |   <108,17> |   <109,1> |   <109,2> |   <109,3> |   <109,4> |   <109,5> |   <109,6> |   <109,7> |   <109,8> |   <109,9> |   <109,10> |   <109,11> |   <109,12> |   <109,13> |   <109,14> |   <109,15> |   <109,16> |   <109,17> |   <110,1> |   <110,2> |   <110,3> |   <110,4> |   <110,5> |   <110,6> |   <110,7> |   <110,8> |   <110,9> |   <110,10> |   <110,11> |   <110,12> |   <110,13> |   <110,14> |   <110,15> |   <110,16> |   <110,17> |   <111,1> |   <111,2> |   <111,3> |   <111,4> |   <111,5> |   <111,6> |   <111,7> |   <111,8> |   <111,9> |   <111,10> |   <111,11> |   <111,12> |   <111,13> |   <111,14> |   <111,15> |   <111,16> |   <111,17> |   <112,1> |   <112,2> |   <112,3> |   <112,4> |   <112,5> |   <112,6> |   <112,7> |   <112,8> |   <112,9> |   <112,10> |   <112,11> |   <112,12> |   <112,13> |   <112,14> |   <112,15> |   <112,16> |   <112,17> |   <113,1> |   <113,2> |   <113,3> |   <113,4> |   <113,5> |   <113,6> |   <113,7> |   <113,8> |   <113,9> |   <113,10> |   <113,11> |   <113,12> |   <113,13> |   <113,14> |   <113,15> |   <113,16> |   <113,17> |   <114,1> |   <114,2> |   <114,3> |   <114,4> |   <114,5> |   <114,6> |   <114,7> |   <114,8> |   <114,9> |   <114,10> |   <114,11> |   <114,12> |   <114,13> |   <114,14> |   <114,15> |   <114,16> |   <114,17> |   <115,1> |   <115,2> |   <115,3> |   <115,4> |   <115,5> |   <115,6> |   <115,7> |   <115,8> |   <115,9> |   <115,10> |   <115,11> |   <115,12> |   <115,13> |   <115,14> |   <115,15> |   <115,16> |   <115,17> |   <116,1> |   <116,2> |   <116,3> |   <116,4> |   <116,5> |   <116,6> |   <116,7> |   <116,8> |   <116,9> |   <116,10> |   <116,11> |   <116,12> |   <116,13> |   <116,14> |   <116,15> |   <116,16> |   <116,17> |   <117,1> |   <117,2> |   <117,3> |   <117,4> |   <117,5> |   <117,6> |   <117,7> |   <117,8> |   <117,9> |   <117,10> |   <117,11> |   <117,12> |   <117,13> |   <117,14> |   <117,15> |   <117,16> |   <117,17> |   <118,1> |   <118,2> |   <118,3> |   <118,4> |   <118,5> |   <118,6> |   <118,7> |   <118,8> |   <118,9> |   <118,10> |   <118,11> |   <118,12> |   <118,13> |   <118,14> |   <118,15> |   <118,16> |   <118,17> |   <119,1> |   <119,2> |   <119,3> |   <119,4> |   <119,5> |   <119,6> |   <119,7> |   <119,8> |   <119,9> |   <119,10> |   <119,11> |   <119,12> |   <119,13> |   <119,14> |   <119,15> |   <119,16> |   <119,17> |   <120,1> |   <120,2> |   <120,3> |   <120,4> |   <120,5> |   <120,6> |   <120,7> |   <120,8> |   <120,9> |   <120,10> |   <120,11> |   <120,12> |   <120,13> |   <120,14> |   <120,15> |   <120,16> |   <120,17> |   <121,1> |   <121,2> |   <121,3> |   <121,4> |   <121,5> |   <121,6> |   <121,7> |   <121,8> |   <121,9> |   <121,10> |   <121,11> |   <121,12> |   <121,13> |   <121,14> |   <121,15> |   <121,16> |   <121,17> |   <122,1> |   <122,2> |   <122,3> |   <122,4> |   <122,5> |   <122,6> |   <122,7> |   <122,8> |   <122,9> |   <122,10> |   <122,11> |   <122,12> |   <122,13> |   <122,14> |   <122,15> |   <122,16> |   <122,17> |   <123,1> |   <123,2> |   <123,3> |   <123,4> |   <123,5> |   <123,6> |   <123,7> |   <123,8> |   <123,9> |   <123,10> |   <123,11> |   <123,12> |   <123,13> |   <123,14> |   <123,15> |   <123,16> |   <123,17> |   <124,1> |   <124,2> |   <124,3> |   <124,4> |   <124,5> |   <124,6> |   <124,7> |   <124,8> |   <124,9> |   <124,10> |   <124,11> |   <124,12> |   <124,13> |   <124,14> |   <124,15> |   <124,16> |   <124,17> |   <125,1> |   <125,2> |   <125,3> |   <125,4> |   <125,5> |   <125,6> |   <125,7> |   <125,8> |   <125,9> |   <125,10> |   <125,11> |   <125,12> |   <125,13> |   <125,14> |   <125,15> |   <125,16> |   <125,17> |   <126,1> |   <126,2> |   <126,3> |   <126,4> |   <126,5> |   <126,6> |   <126,7> |   <126,8> |   <126,9> |   <126,10> |   <126,11> |   <126,12> |   <126,13> |   <126,14> |   <126,15> |   <126,16> |   <126,17> |   <127,1> |   <127,2> |   <127,3> |   <127,4> |   <127,5> |   <127,6> |   <127,7> |   <127,8> |   <127,9> |   <127,10> |   <127,11> |   <127,12> |   <127,13> |   <127,14> |   <127,15> |   <127,16> |   <127,17> |   <128,1> |   <128,2> |   <128,3> |   <128,4> |   <128,5> |   <128,6> |   <128,7> |   <128,8> |   <128,9> |   <128,10> |   <128,11> |   <128,12> |   <128,13> |   <128,14> |   <128,15> |   <128,16> |   <128,17> |   <129,1> |   <129,2> |   <129,3> |   <129,4> |   <129,5> |   <129,6> |   <129,7> |   <129,8> |   <129,9> |   <129,10> |   <129,11> |   <129,12> |   <129,13> |   <129,14> |   <129,15> |   <129,16> |   <129,17> |   <130,1> |   <130,2> |   <130,3> |   <130,4> |   <130,5> |   <130,6> |   <130,7> |   <130,8> |   <130,9> |   <130,10> |   <130,11> |   <130,12> |   <130,13> |   <130,14> |   <130,15> |   <130,16> |   <130,17> |     sum |\n",
      "|----+-------------------+-----------+-----------+-----------+-----------+-----------+-----------+-----------+-----------+-----------+------------+------------+------------+------------+------------+------------+------------+------------+-----------+-----------+-----------+-----------+-----------+-----------+-----------+-----------+-----------+------------+------------+------------+------------+------------+------------+------------+------------+-----------+-----------+-----------+-----------+-----------+-----------+-----------+-----------+-----------+------------+------------+------------+------------+------------+------------+------------+------------+-----------+-----------+-----------+-----------+-----------+-----------+-----------+-----------+-----------+------------+------------+------------+------------+------------+------------+------------+------------+-----------+-----------+-----------+-----------+-----------+-----------+-----------+-----------+-----------+------------+------------+------------+------------+------------+------------+------------+------------+-----------+-----------+-----------+-----------+-----------+-----------+-----------+-----------+-----------+------------+------------+------------+------------+------------+------------+------------+------------+-----------+-----------+-----------+-----------+-----------+-----------+-----------+-----------+-----------+------------+------------+------------+------------+------------+------------+------------+------------+-----------+-----------+-----------+-----------+-----------+-----------+-----------+-----------+-----------+------------+------------+------------+------------+------------+------------+------------+------------+-----------+-----------+-----------+-----------+-----------+-----------+-----------+-----------+-----------+------------+------------+------------+------------+------------+------------+------------+------------+-----------+-----------+-----------+-----------+-----------+-----------+-----------+-----------+-----------+------------+------------+------------+------------+------------+------------+------------+------------+-----------+-----------+-----------+-----------+-----------+-----------+-----------+-----------+-----------+------------+------------+------------+------------+------------+------------+------------+------------+-----------+-----------+-----------+-----------+-----------+-----------+-----------+-----------+-----------+------------+------------+------------+------------+------------+------------+------------+------------+-----------+-----------+-----------+-----------+-----------+-----------+-----------+-----------+-----------+------------+------------+------------+------------+------------+------------+------------+------------+-----------+-----------+-----------+-----------+-----------+-----------+-----------+-----------+-----------+------------+------------+------------+------------+------------+------------+------------+------------+-----------+-----------+-----------+-----------+-----------+-----------+-----------+-----------+-----------+------------+------------+------------+------------+------------+------------+------------+------------+-----------+-----------+-----------+-----------+-----------+-----------+-----------+-----------+-----------+------------+------------+------------+------------+------------+------------+------------+------------+-----------+-----------+-----------+-----------+-----------+-----------+-----------+-----------+-----------+------------+------------+------------+------------+------------+------------+------------+------------+-----------+-----------+-----------+-----------+-----------+-----------+-----------+-----------+-----------+------------+------------+------------+------------+------------+------------+------------+------------+-----------+-----------+-----------+-----------+-----------+-----------+-----------+-----------+-----------+------------+------------+------------+------------+------------+------------+------------+------------+-----------+-----------+-----------+-----------+-----------+-----------+-----------+-----------+-----------+------------+------------+------------+------------+------------+------------+------------+------------+-----------+-----------+-----------+-----------+-----------+-----------+-----------+-----------+-----------+------------+------------+------------+------------+------------+------------+------------+------------+-----------+-----------+-----------+-----------+-----------+-----------+-----------+-----------+-----------+------------+------------+------------+------------+------------+------------+------------+------------+-----------+-----------+-----------+-----------+-----------+-----------+-----------+-----------+-----------+------------+------------+------------+------------+------------+------------+------------+------------+-----------+-----------+-----------+-----------+-----------+-----------+-----------+-----------+-----------+------------+------------+------------+------------+------------+------------+------------+------------+-----------+-----------+-----------+-----------+-----------+-----------+-----------+-----------+-----------+------------+------------+------------+------------+------------+------------+------------+------------+-----------+-----------+-----------+-----------+-----------+-----------+-----------+-----------+-----------+------------+------------+------------+------------+------------+------------+------------+------------+-----------+-----------+-----------+-----------+-----------+-----------+-----------+-----------+-----------+------------+------------+------------+------------+------------+------------+------------+------------+-----------+-----------+-----------+-----------+-----------+-----------+-----------+-----------+-----------+------------+------------+------------+------------+------------+------------+------------+------------+-----------+-----------+-----------+-----------+-----------+-----------+-----------+-----------+-----------+------------+------------+------------+------------+------------+------------+------------+------------+-----------+-----------+-----------+-----------+-----------+-----------+-----------+-----------+-----------+------------+------------+------------+------------+------------+------------+------------+------------+-----------+-----------+-----------+-----------+-----------+-----------+-----------+-----------+-----------+------------+------------+------------+------------+------------+------------+------------+------------+---------|\n",
      "|  0 | XGBRFClassifier 2 |   80.2375 |    80.575 |    80.675 |    80.645 |     80.51 |     80.72 |      80.9 |   80.5484 |   80.6175 |     80.507 |     80.605 |      80.17 |     79.795 |    79.9025 |     79.875 |      79.85 |    79.9075 |     80.25 |     80.25 |   80.3125 |    80.265 |   80.3975 |   80.3825 |     80.59 |     81.04 |      81.2 |     81.275 |      81.24 |      81.35 |       81.8 |       81.8 |    81.7125 |       81.8 |    80.9625 |     80.54 |      80.5 |    80.825 |   80.8925 |   81.0975 |   80.9975 |    81.325 |   81.3985 |   81.3125 |     81.375 |    81.3037 |    81.2275 |    81.3375 |    81.3725 |    81.1875 |    81.4875 |    81.5375 |   81.4675 |    81.575 |    81.475 |    81.185 |   81.2319 |    81.275 |     81.13 |     81.06 |   81.0325 |    80.9375 |    81.2375 |     81.255 |    81.2275 |      81.26 |    78.2475 |     78.475 |    78.5475 |   78.7375 |   79.6025 |   78.8175 |   79.1468 |    79.245 |    79.065 |   79.4273 |     79.79 |      79.8 |    79.7525 |      79.75 |     79.765 |       79.9 |     80.125 |     80.175 |    80.1225 |      80.15 |   80.2625 |     80.16 |   80.7925 |   81.0325 |   80.9856 |   81.0573 |   80.9837 |   80.9175 |    80.905 |     80.825 |    80.8775 |      80.95 |      80.75 |      80.75 |     80.725 |     80.675 |    80.6425 |   80.8475 |   80.1775 |     79.79 |   80.0775 |    79.995 |   80.0525 |   80.0775 |   79.9425 |     79.87 |       79.5 |     79.465 |    79.5225 |     79.475 |    79.5025 |       79.6 |      79.67 |    79.3732 |     79.22 |     79.02 |    78.639 |    77.895 |   77.8325 |   78.2575 |      78.2 |      78.2 |    78.075 |     74.825 |     75.045 |     74.705 |       75.5 |     75.375 |    74.2525 |    75.0649 |      75.11 |   74.7908 |   74.9625 |   75.1712 |   75.1403 |   74.5425 |   74.5975 |    74.455 |    74.825 |     75.25 |     75.125 |    74.9625 |     75.195 |     75.325 |    75.2875 |    74.4225 |    73.0738 |    73.5525 |    73.585 |   72.4211 |   72.1616 |    72.025 |    72.205 |   71.9375 |     72.45 |    70.935 |     71.65 |     71.925 |         72 |    71.5275 |    71.6325 |    73.7029 |    74.3875 |    73.2056 |     73.555 |     73.02 |     73.21 |   73.1725 |     72.73 |     72.65 |    72.625 |    72.475 |   72.3825 |     72.06 |    71.2125 |    71.1725 |      70.25 |    69.2825 |    70.2025 |    70.7025 |    70.3072 |    70.2012 |   69.4375 |     68.27 |    67.525 |     67.54 |        68 |     65.57 |      66.5 |    66.125 |   67.0525 |       66.3 |    64.3125 |    65.2375 |     67.395 |      68.08 |    67.5825 |      66.75 |     66.671 |     68.66 |     68.83 |    68.875 |   68.9375 |     70.75 |   70.1575 |   69.0825 |   69.2875 |   69.0625 |      70.61 |    70.3232 |    72.4062 |    72.4925 |    72.1075 |    72.5751 |    72.9072 |      74.71 |   74.4125 |   74.3875 |    74.275 |    75.005 |   75.3575 |      74.8 |    75.525 |     75.32 |   75.9625 |    74.9225 |    73.0075 |     73.455 |     72.845 |      71.98 |    73.2623 |    72.3275 |     72.165 |     71.75 |    71.775 |    73.755 |     74.09 |        74 |    74.375 |    74.025 |    74.175 |    74.255 |     74.295 |    74.1925 |    74.9563 |    74.9425 |     75.115 |     75.735 |       75.4 |     75.415 |   75.2525 |     74.18 |     73.95 |   73.8025 |   74.2875 |    74.225 |   73.7125 |   74.4275 |   74.7449 |      74.19 |     73.925 |    73.5325 |    73.1125 |      73.23 |    73.2075 |      73.21 |    73.3375 |   71.9025 |   71.0075 |   70.9125 |    70.925 |     70.25 |   70.3375 |   72.0275 |     71.53 |   71.1882 |     71.825 |    71.2024 |      70.92 |     72.245 |    72.0525 |      71.72 |     71.625 |      67.15 |    67.875 |     67.97 |    67.145 |    67.025 |   65.9475 |     68.58 |     68.25 |   68.5938 |    68.345 |    67.2968 |    68.0364 |    66.5225 |    66.3725 |     66.125 |    67.3125 |     68.425 |      68.75 |    69.695 |    70.125 |   69.7875 |   68.8025 |   69.2875 |      69.9 |    68.055 |    68.725 |   69.0861 |    68.7786 |     69.665 |    71.4225 |    71.0775 |     70.725 |      70.09 |     69.875 |      68.95 |   69.8625 |   69.2275 |    69.275 |   69.1875 |   69.3475 |     68.88 |   69.0275 |   69.5875 |    69.209 |      68.74 |    68.5912 |    68.8275 |       69.2 |      68.68 |      69.35 |      68.94 |      65.75 |   65.0875 |    65.175 |    64.825 |        64 |    63.875 |   64.9375 |     63.72 |    63.075 |    65.555 |    63.5525 |     63.015 |         62 |    61.3725 |      59.58 |      60.35 |      59.75 |      64.45 |     63.95 |      64.8 |   65.1875 |    66.275 |    66.555 |   65.6225 |   64.2497 |   64.1937 |   65.5771 |    64.5413 |    65.3037 |     69.515 |    68.6875 |      68.73 |    68.4875 |     68.375 |    62.4975 |     61.89 |   61.5625 |    61.375 |   60.0625 |   60.4125 |   62.3425 |    64.615 |   63.7225 |   63.5775 |    62.7409 |       62.6 |    60.3675 |     61.415 |      61.35 |    61.5025 |    62.4575 |    64.4525 |    62.125 |   62.2125 |   62.7875 |     61.82 |    61.875 |   61.1875 |    62.925 |    63.213 |     62.58 |    63.7175 |    62.4512 |     63.215 |       62.6 |     62.425 |     62.065 |    61.4875 |     59.875 |   59.7375 |   59.1225 |     59.25 |    60.055 |        60 |   61.8119 |   61.0488 |   61.5075 |   60.1275 |      59.45 |    59.8284 |    62.4475 |     61.745 |     61.775 |    62.3125 |    63.4375 |     61.575 |      62.5 |    61.275 |    61.515 |      60.9 |    61.825 |   62.1975 |     62.42 |   61.7691 |   61.9813 |    62.4375 |    62.1625 |    61.1925 |       61.1 |      61.15 |    61.0425 |    60.8125 |      64.25 |     64.29 |    64.375 |   62.9375 |   62.9125 |    61.985 |     62.62 |   62.2912 |   61.3847 |    61.975 |    61.3175 |    60.4375 |     57.185 |    57.3625 |      57.25 |    57.1625 |     57.125 |       55.6 |      55.7 |   56.2475 |    56.595 |   57.8125 |     57.02 |     55.45 |   53.7675 |   54.8039 |   55.4863 |     55.265 |    54.4325 |     55.995 |         56 |       56.2 |      56.75 |     56.875 |    58.4475 |     58.55 |   59.2225 |   58.3075 |    58.175 |   58.8925 |   60.4345 |   60.1725 |    60.645 |   60.0285 |    59.8684 |    60.9113 |      61.72 |         62 |      61.75 |    62.1375 |     61.425 |      63.75 |     64.75 |   63.5525 |     62.45 |    62.255 |   62.8325 |   61.9766 |     63.46 |   63.6075 |   63.7325 |    63.7632 |    63.8275 |    61.3625 |    61.5775 |      61.75 |      61.95 |      61.88 |      60.75 |     60.75 |      61.1 |    61.335 |   60.2475 |   61.6625 |   62.6225 |   63.2175 |   63.5575 |   63.0125 |    63.3325 |      63.24 |      64.62 |    64.2525 |       64.4 |    64.2625 |    64.4975 |     63.685 | 37076.3 |\n",
      "+----+-------------------+-----------+-----------+-----------+-----------+-----------+-----------+-----------+-----------+-----------+------------+------------+------------+------------+------------+------------+------------+------------+-----------+-----------+-----------+-----------+-----------+-----------+-----------+-----------+-----------+------------+------------+------------+------------+------------+------------+------------+------------+-----------+-----------+-----------+-----------+-----------+-----------+-----------+-----------+-----------+------------+------------+------------+------------+------------+------------+------------+------------+-----------+-----------+-----------+-----------+-----------+-----------+-----------+-----------+-----------+------------+------------+------------+------------+------------+------------+------------+------------+-----------+-----------+-----------+-----------+-----------+-----------+-----------+-----------+-----------+------------+------------+------------+------------+------------+------------+------------+------------+-----------+-----------+-----------+-----------+-----------+-----------+-----------+-----------+-----------+------------+------------+------------+------------+------------+------------+------------+------------+-----------+-----------+-----------+-----------+-----------+-----------+-----------+-----------+-----------+------------+------------+------------+------------+------------+------------+------------+------------+-----------+-----------+-----------+-----------+-----------+-----------+-----------+-----------+-----------+------------+------------+------------+------------+------------+------------+------------+------------+-----------+-----------+-----------+-----------+-----------+-----------+-----------+-----------+-----------+------------+------------+------------+------------+------------+------------+------------+------------+-----------+-----------+-----------+-----------+-----------+-----------+-----------+-----------+-----------+------------+------------+------------+------------+------------+------------+------------+------------+-----------+-----------+-----------+-----------+-----------+-----------+-----------+-----------+-----------+------------+------------+------------+------------+------------+------------+------------+------------+-----------+-----------+-----------+-----------+-----------+-----------+-----------+-----------+-----------+------------+------------+------------+------------+------------+------------+------------+------------+-----------+-----------+-----------+-----------+-----------+-----------+-----------+-----------+-----------+------------+------------+------------+------------+------------+------------+------------+------------+-----------+-----------+-----------+-----------+-----------+-----------+-----------+-----------+-----------+------------+------------+------------+------------+------------+------------+------------+------------+-----------+-----------+-----------+-----------+-----------+-----------+-----------+-----------+-----------+------------+------------+------------+------------+------------+------------+------------+------------+-----------+-----------+-----------+-----------+-----------+-----------+-----------+-----------+-----------+------------+------------+------------+------------+------------+------------+------------+------------+-----------+-----------+-----------+-----------+-----------+-----------+-----------+-----------+-----------+------------+------------+------------+------------+------------+------------+------------+------------+-----------+-----------+-----------+-----------+-----------+-----------+-----------+-----------+-----------+------------+------------+------------+------------+------------+------------+------------+------------+-----------+-----------+-----------+-----------+-----------+-----------+-----------+-----------+-----------+------------+------------+------------+------------+------------+------------+------------+------------+-----------+-----------+-----------+-----------+-----------+-----------+-----------+-----------+-----------+------------+------------+------------+------------+------------+------------+------------+------------+-----------+-----------+-----------+-----------+-----------+-----------+-----------+-----------+-----------+------------+------------+------------+------------+------------+------------+------------+------------+-----------+-----------+-----------+-----------+-----------+-----------+-----------+-----------+-----------+------------+------------+------------+------------+------------+------------+------------+------------+-----------+-----------+-----------+-----------+-----------+-----------+-----------+-----------+-----------+------------+------------+------------+------------+------------+------------+------------+------------+-----------+-----------+-----------+-----------+-----------+-----------+-----------+-----------+-----------+------------+------------+------------+------------+------------+------------+------------+------------+-----------+-----------+-----------+-----------+-----------+-----------+-----------+-----------+-----------+------------+------------+------------+------------+------------+------------+------------+------------+-----------+-----------+-----------+-----------+-----------+-----------+-----------+-----------+-----------+------------+------------+------------+------------+------------+------------+------------+------------+-----------+-----------+-----------+-----------+-----------+-----------+-----------+-----------+-----------+------------+------------+------------+------------+------------+------------+------------+------------+-----------+-----------+-----------+-----------+-----------+-----------+-----------+-----------+-----------+------------+------------+------------+------------+------------+------------+------------+------------+-----------+-----------+-----------+-----------+-----------+-----------+-----------+-----------+-----------+------------+------------+------------+------------+------------+------------+------------+------------+-----------+-----------+-----------+-----------+-----------+-----------+-----------+-----------+-----------+------------+------------+------------+------------+------------+------------+------------+------------+-----------+-----------+-----------+-----------+-----------+-----------+-----------+-----------+-----------+------------+------------+------------+------------+------------+------------+------------+------------+---------+\n"
     ]
    }
   ],
   "source": [
    "step_headers.clear()\n",
    "for a in range(start,start + 31):\n",
    "    for b in range (1,18):\n",
    "        step_headers.append(f'<{a},{b}>')\n",
    "\n",
    "headers = [\"Classifier type\", \"pct_change\"]\n",
    "score_df = pd.DataFrame(price_now.items(), columns=headers)\n",
    "# print(tabulate(score_df, headers, tablefmt=\"psql\"))\n",
    "headers2 = [\"Classifier type\", ] + step_headers\n",
    "score_df = pd.DataFrame(price_now.items(), columns=headers)\n",
    "accuracy_df = pd.DataFrame(score_df['pct_change'].tolist(), index=score_df.index, columns=step_headers)\n",
    "score_df = score_df.drop('pct_change', 1)\n",
    "f_out: pd.DataFrame = pd.merge(score_df, accuracy_df, how='left', left_index=True, right_index=True)\n",
    "f_out['sum'] = f_out.sum(axis=1)\n",
    "f_out['sum'] = f_out['sum'].apply(lambda x: x+100)\n",
    "headers2 = headers2 + ['sum']\n",
    "print(tabulate(f_out, headers2, tablefmt=\"psql\"))\n",
    "\n",
    "filename_to_export = f'C:\\\\Users\\\\exomat\\\\Desktop\\\\repo\\\\magisterka_analiza\\\\data\\\\results\\\\simulation\\\\result_test_ta_all_price_now_{symbol}_{WINDOW}_{datetime.now().strftime(\"%d_%m_%Y %H_%M_%S\")}.csv'\n",
    "f_out.to_csv(filename_to_export, index=False)"
   ],
   "metadata": {
    "collapsed": false,
    "pycharm": {
     "name": "#%%\n"
    }
   }
  },
  {
   "cell_type": "code",
   "execution_count": 40,
   "outputs": [
    {
     "name": "stdout",
     "output_type": "stream",
     "text": [
      "+----+-------------------+-----------+-----------+-----------+-----------+-----------+-----------+-----------+-----------+-----------+------------+------------+------------+------------+------------+------------+------------+------------+-----------+-----------+-----------+-----------+-----------+-----------+-----------+-----------+-----------+------------+------------+------------+------------+------------+------------+------------+------------+-----------+-----------+-----------+-----------+-----------+-----------+-----------+-----------+-----------+------------+------------+------------+------------+------------+------------+------------+------------+-----------+-----------+-----------+-----------+-----------+-----------+-----------+-----------+-----------+------------+------------+------------+------------+------------+------------+------------+------------+-----------+-----------+-----------+-----------+-----------+-----------+-----------+-----------+-----------+------------+------------+------------+------------+------------+------------+------------+------------+-----------+-----------+-----------+-----------+-----------+-----------+-----------+-----------+-----------+------------+------------+------------+------------+------------+------------+------------+------------+-----------+-----------+-----------+-----------+-----------+-----------+-----------+-----------+-----------+------------+------------+------------+------------+------------+------------+------------+------------+-----------+-----------+-----------+-----------+-----------+-----------+-----------+-----------+-----------+------------+------------+------------+------------+------------+------------+------------+------------+-----------+-----------+-----------+-----------+-----------+-----------+-----------+-----------+-----------+------------+------------+------------+------------+------------+------------+------------+------------+-----------+-----------+-----------+-----------+-----------+-----------+-----------+-----------+-----------+------------+------------+------------+------------+------------+------------+------------+------------+-----------+-----------+-----------+-----------+-----------+-----------+-----------+-----------+-----------+------------+------------+------------+------------+------------+------------+------------+------------+-----------+-----------+-----------+-----------+-----------+-----------+-----------+-----------+-----------+------------+------------+------------+------------+------------+------------+------------+------------+-----------+-----------+-----------+-----------+-----------+-----------+-----------+-----------+-----------+------------+------------+------------+------------+------------+------------+------------+------------+-----------+-----------+-----------+-----------+-----------+-----------+-----------+-----------+-----------+------------+------------+------------+------------+------------+------------+------------+------------+-----------+-----------+-----------+-----------+-----------+-----------+-----------+-----------+-----------+------------+------------+------------+------------+------------+------------+------------+------------+-----------+-----------+-----------+-----------+-----------+-----------+-----------+-----------+-----------+------------+------------+------------+------------+------------+------------+------------+------------+-----------+-----------+-----------+-----------+-----------+-----------+-----------+-----------+-----------+------------+------------+------------+------------+------------+------------+------------+------------+-----------+-----------+-----------+-----------+-----------+-----------+-----------+-----------+-----------+------------+------------+------------+------------+------------+------------+------------+------------+-----------+-----------+-----------+-----------+-----------+-----------+-----------+-----------+-----------+------------+------------+------------+------------+------------+------------+------------+------------+-----------+-----------+-----------+-----------+-----------+-----------+-----------+-----------+-----------+------------+------------+------------+------------+------------+------------+------------+------------+-----------+-----------+-----------+-----------+-----------+-----------+-----------+-----------+-----------+------------+------------+------------+------------+------------+------------+------------+------------+-----------+-----------+-----------+-----------+-----------+-----------+-----------+-----------+-----------+------------+------------+------------+------------+------------+------------+------------+------------+-----------+-----------+-----------+-----------+-----------+-----------+-----------+-----------+-----------+------------+------------+------------+------------+------------+------------+------------+------------+-----------+-----------+-----------+-----------+-----------+-----------+-----------+-----------+-----------+------------+------------+------------+------------+------------+------------+------------+------------+-----------+-----------+-----------+-----------+-----------+-----------+-----------+-----------+-----------+------------+------------+------------+------------+------------+------------+------------+------------+-----------+-----------+-----------+-----------+-----------+-----------+-----------+-----------+-----------+------------+------------+------------+------------+------------+------------+------------+------------+-----------+-----------+-----------+-----------+-----------+-----------+-----------+-----------+-----------+------------+------------+------------+------------+------------+------------+------------+------------+-----------+-----------+-----------+-----------+-----------+-----------+-----------+-----------+-----------+------------+------------+------------+------------+------------+------------+------------+------------+-----------+-----------+-----------+-----------+-----------+-----------+-----------+-----------+-----------+------------+------------+------------+------------+------------+------------+------------+------------+-----------+-----------+-----------+-----------+-----------+-----------+-----------+-----------+-----------+------------+------------+------------+------------+------------+------------+------------+------------+-----------+-----------+-----------+-----------+-----------+-----------+-----------+-----------+-----------+------------+------------+------------+------------+------------+------------+------------+------------+---------+\n",
      "|    | Classifier type   |   <100,1> |   <100,2> |   <100,3> |   <100,4> |   <100,5> |   <100,6> |   <100,7> |   <100,8> |   <100,9> |   <100,10> |   <100,11> |   <100,12> |   <100,13> |   <100,14> |   <100,15> |   <100,16> |   <100,17> |   <101,1> |   <101,2> |   <101,3> |   <101,4> |   <101,5> |   <101,6> |   <101,7> |   <101,8> |   <101,9> |   <101,10> |   <101,11> |   <101,12> |   <101,13> |   <101,14> |   <101,15> |   <101,16> |   <101,17> |   <102,1> |   <102,2> |   <102,3> |   <102,4> |   <102,5> |   <102,6> |   <102,7> |   <102,8> |   <102,9> |   <102,10> |   <102,11> |   <102,12> |   <102,13> |   <102,14> |   <102,15> |   <102,16> |   <102,17> |   <103,1> |   <103,2> |   <103,3> |   <103,4> |   <103,5> |   <103,6> |   <103,7> |   <103,8> |   <103,9> |   <103,10> |   <103,11> |   <103,12> |   <103,13> |   <103,14> |   <103,15> |   <103,16> |   <103,17> |   <104,1> |   <104,2> |   <104,3> |   <104,4> |   <104,5> |   <104,6> |   <104,7> |   <104,8> |   <104,9> |   <104,10> |   <104,11> |   <104,12> |   <104,13> |   <104,14> |   <104,15> |   <104,16> |   <104,17> |   <105,1> |   <105,2> |   <105,3> |   <105,4> |   <105,5> |   <105,6> |   <105,7> |   <105,8> |   <105,9> |   <105,10> |   <105,11> |   <105,12> |   <105,13> |   <105,14> |   <105,15> |   <105,16> |   <105,17> |   <106,1> |   <106,2> |   <106,3> |   <106,4> |   <106,5> |   <106,6> |   <106,7> |   <106,8> |   <106,9> |   <106,10> |   <106,11> |   <106,12> |   <106,13> |   <106,14> |   <106,15> |   <106,16> |   <106,17> |   <107,1> |   <107,2> |   <107,3> |   <107,4> |   <107,5> |   <107,6> |   <107,7> |   <107,8> |   <107,9> |   <107,10> |   <107,11> |   <107,12> |   <107,13> |   <107,14> |   <107,15> |   <107,16> |   <107,17> |   <108,1> |   <108,2> |   <108,3> |   <108,4> |   <108,5> |   <108,6> |   <108,7> |   <108,8> |   <108,9> |   <108,10> |   <108,11> |   <108,12> |   <108,13> |   <108,14> |   <108,15> |   <108,16> |   <108,17> |   <109,1> |   <109,2> |   <109,3> |   <109,4> |   <109,5> |   <109,6> |   <109,7> |   <109,8> |   <109,9> |   <109,10> |   <109,11> |   <109,12> |   <109,13> |   <109,14> |   <109,15> |   <109,16> |   <109,17> |   <110,1> |   <110,2> |   <110,3> |   <110,4> |   <110,5> |   <110,6> |   <110,7> |   <110,8> |   <110,9> |   <110,10> |   <110,11> |   <110,12> |   <110,13> |   <110,14> |   <110,15> |   <110,16> |   <110,17> |   <111,1> |   <111,2> |   <111,3> |   <111,4> |   <111,5> |   <111,6> |   <111,7> |   <111,8> |   <111,9> |   <111,10> |   <111,11> |   <111,12> |   <111,13> |   <111,14> |   <111,15> |   <111,16> |   <111,17> |   <112,1> |   <112,2> |   <112,3> |   <112,4> |   <112,5> |   <112,6> |   <112,7> |   <112,8> |   <112,9> |   <112,10> |   <112,11> |   <112,12> |   <112,13> |   <112,14> |   <112,15> |   <112,16> |   <112,17> |   <113,1> |   <113,2> |   <113,3> |   <113,4> |   <113,5> |   <113,6> |   <113,7> |   <113,8> |   <113,9> |   <113,10> |   <113,11> |   <113,12> |   <113,13> |   <113,14> |   <113,15> |   <113,16> |   <113,17> |   <114,1> |   <114,2> |   <114,3> |   <114,4> |   <114,5> |   <114,6> |   <114,7> |   <114,8> |   <114,9> |   <114,10> |   <114,11> |   <114,12> |   <114,13> |   <114,14> |   <114,15> |   <114,16> |   <114,17> |   <115,1> |   <115,2> |   <115,3> |   <115,4> |   <115,5> |   <115,6> |   <115,7> |   <115,8> |   <115,9> |   <115,10> |   <115,11> |   <115,12> |   <115,13> |   <115,14> |   <115,15> |   <115,16> |   <115,17> |   <116,1> |   <116,2> |   <116,3> |   <116,4> |   <116,5> |   <116,6> |   <116,7> |   <116,8> |   <116,9> |   <116,10> |   <116,11> |   <116,12> |   <116,13> |   <116,14> |   <116,15> |   <116,16> |   <116,17> |   <117,1> |   <117,2> |   <117,3> |   <117,4> |   <117,5> |   <117,6> |   <117,7> |   <117,8> |   <117,9> |   <117,10> |   <117,11> |   <117,12> |   <117,13> |   <117,14> |   <117,15> |   <117,16> |   <117,17> |   <118,1> |   <118,2> |   <118,3> |   <118,4> |   <118,5> |   <118,6> |   <118,7> |   <118,8> |   <118,9> |   <118,10> |   <118,11> |   <118,12> |   <118,13> |   <118,14> |   <118,15> |   <118,16> |   <118,17> |   <119,1> |   <119,2> |   <119,3> |   <119,4> |   <119,5> |   <119,6> |   <119,7> |   <119,8> |   <119,9> |   <119,10> |   <119,11> |   <119,12> |   <119,13> |   <119,14> |   <119,15> |   <119,16> |   <119,17> |   <120,1> |   <120,2> |   <120,3> |   <120,4> |   <120,5> |   <120,6> |   <120,7> |   <120,8> |   <120,9> |   <120,10> |   <120,11> |   <120,12> |   <120,13> |   <120,14> |   <120,15> |   <120,16> |   <120,17> |   <121,1> |   <121,2> |   <121,3> |   <121,4> |   <121,5> |   <121,6> |   <121,7> |   <121,8> |   <121,9> |   <121,10> |   <121,11> |   <121,12> |   <121,13> |   <121,14> |   <121,15> |   <121,16> |   <121,17> |   <122,1> |   <122,2> |   <122,3> |   <122,4> |   <122,5> |   <122,6> |   <122,7> |   <122,8> |   <122,9> |   <122,10> |   <122,11> |   <122,12> |   <122,13> |   <122,14> |   <122,15> |   <122,16> |   <122,17> |   <123,1> |   <123,2> |   <123,3> |   <123,4> |   <123,5> |   <123,6> |   <123,7> |   <123,8> |   <123,9> |   <123,10> |   <123,11> |   <123,12> |   <123,13> |   <123,14> |   <123,15> |   <123,16> |   <123,17> |   <124,1> |   <124,2> |   <124,3> |   <124,4> |   <124,5> |   <124,6> |   <124,7> |   <124,8> |   <124,9> |   <124,10> |   <124,11> |   <124,12> |   <124,13> |   <124,14> |   <124,15> |   <124,16> |   <124,17> |   <125,1> |   <125,2> |   <125,3> |   <125,4> |   <125,5> |   <125,6> |   <125,7> |   <125,8> |   <125,9> |   <125,10> |   <125,11> |   <125,12> |   <125,13> |   <125,14> |   <125,15> |   <125,16> |   <125,17> |   <126,1> |   <126,2> |   <126,3> |   <126,4> |   <126,5> |   <126,6> |   <126,7> |   <126,8> |   <126,9> |   <126,10> |   <126,11> |   <126,12> |   <126,13> |   <126,14> |   <126,15> |   <126,16> |   <126,17> |   <127,1> |   <127,2> |   <127,3> |   <127,4> |   <127,5> |   <127,6> |   <127,7> |   <127,8> |   <127,9> |   <127,10> |   <127,11> |   <127,12> |   <127,13> |   <127,14> |   <127,15> |   <127,16> |   <127,17> |   <128,1> |   <128,2> |   <128,3> |   <128,4> |   <128,5> |   <128,6> |   <128,7> |   <128,8> |   <128,9> |   <128,10> |   <128,11> |   <128,12> |   <128,13> |   <128,14> |   <128,15> |   <128,16> |   <128,17> |   <129,1> |   <129,2> |   <129,3> |   <129,4> |   <129,5> |   <129,6> |   <129,7> |   <129,8> |   <129,9> |   <129,10> |   <129,11> |   <129,12> |   <129,13> |   <129,14> |   <129,15> |   <129,16> |   <129,17> |   <130,1> |   <130,2> |   <130,3> |   <130,4> |   <130,5> |   <130,6> |   <130,7> |   <130,8> |   <130,9> |   <130,10> |   <130,11> |   <130,12> |   <130,13> |   <130,14> |   <130,15> |   <130,16> |   <130,17> |     sum |\n",
      "|----+-------------------+-----------+-----------+-----------+-----------+-----------+-----------+-----------+-----------+-----------+------------+------------+------------+------------+------------+------------+------------+------------+-----------+-----------+-----------+-----------+-----------+-----------+-----------+-----------+-----------+------------+------------+------------+------------+------------+------------+------------+------------+-----------+-----------+-----------+-----------+-----------+-----------+-----------+-----------+-----------+------------+------------+------------+------------+------------+------------+------------+------------+-----------+-----------+-----------+-----------+-----------+-----------+-----------+-----------+-----------+------------+------------+------------+------------+------------+------------+------------+------------+-----------+-----------+-----------+-----------+-----------+-----------+-----------+-----------+-----------+------------+------------+------------+------------+------------+------------+------------+------------+-----------+-----------+-----------+-----------+-----------+-----------+-----------+-----------+-----------+------------+------------+------------+------------+------------+------------+------------+------------+-----------+-----------+-----------+-----------+-----------+-----------+-----------+-----------+-----------+------------+------------+------------+------------+------------+------------+------------+------------+-----------+-----------+-----------+-----------+-----------+-----------+-----------+-----------+-----------+------------+------------+------------+------------+------------+------------+------------+------------+-----------+-----------+-----------+-----------+-----------+-----------+-----------+-----------+-----------+------------+------------+------------+------------+------------+------------+------------+------------+-----------+-----------+-----------+-----------+-----------+-----------+-----------+-----------+-----------+------------+------------+------------+------------+------------+------------+------------+------------+-----------+-----------+-----------+-----------+-----------+-----------+-----------+-----------+-----------+------------+------------+------------+------------+------------+------------+------------+------------+-----------+-----------+-----------+-----------+-----------+-----------+-----------+-----------+-----------+------------+------------+------------+------------+------------+------------+------------+------------+-----------+-----------+-----------+-----------+-----------+-----------+-----------+-----------+-----------+------------+------------+------------+------------+------------+------------+------------+------------+-----------+-----------+-----------+-----------+-----------+-----------+-----------+-----------+-----------+------------+------------+------------+------------+------------+------------+------------+------------+-----------+-----------+-----------+-----------+-----------+-----------+-----------+-----------+-----------+------------+------------+------------+------------+------------+------------+------------+------------+-----------+-----------+-----------+-----------+-----------+-----------+-----------+-----------+-----------+------------+------------+------------+------------+------------+------------+------------+------------+-----------+-----------+-----------+-----------+-----------+-----------+-----------+-----------+-----------+------------+------------+------------+------------+------------+------------+------------+------------+-----------+-----------+-----------+-----------+-----------+-----------+-----------+-----------+-----------+------------+------------+------------+------------+------------+------------+------------+------------+-----------+-----------+-----------+-----------+-----------+-----------+-----------+-----------+-----------+------------+------------+------------+------------+------------+------------+------------+------------+-----------+-----------+-----------+-----------+-----------+-----------+-----------+-----------+-----------+------------+------------+------------+------------+------------+------------+------------+------------+-----------+-----------+-----------+-----------+-----------+-----------+-----------+-----------+-----------+------------+------------+------------+------------+------------+------------+------------+------------+-----------+-----------+-----------+-----------+-----------+-----------+-----------+-----------+-----------+------------+------------+------------+------------+------------+------------+------------+------------+-----------+-----------+-----------+-----------+-----------+-----------+-----------+-----------+-----------+------------+------------+------------+------------+------------+------------+------------+------------+-----------+-----------+-----------+-----------+-----------+-----------+-----------+-----------+-----------+------------+------------+------------+------------+------------+------------+------------+------------+-----------+-----------+-----------+-----------+-----------+-----------+-----------+-----------+-----------+------------+------------+------------+------------+------------+------------+------------+------------+-----------+-----------+-----------+-----------+-----------+-----------+-----------+-----------+-----------+------------+------------+------------+------------+------------+------------+------------+------------+-----------+-----------+-----------+-----------+-----------+-----------+-----------+-----------+-----------+------------+------------+------------+------------+------------+------------+------------+------------+-----------+-----------+-----------+-----------+-----------+-----------+-----------+-----------+-----------+------------+------------+------------+------------+------------+------------+------------+------------+-----------+-----------+-----------+-----------+-----------+-----------+-----------+-----------+-----------+------------+------------+------------+------------+------------+------------+------------+------------+-----------+-----------+-----------+-----------+-----------+-----------+-----------+-----------+-----------+------------+------------+------------+------------+------------+------------+------------+------------+-----------+-----------+-----------+-----------+-----------+-----------+-----------+-----------+-----------+------------+------------+------------+------------+------------+------------+------------+------------+---------|\n",
      "|  0 | XGBRFClassifier 2 |   79.9075 |     80.25 |     80.25 |   80.3125 |    80.265 |   80.3975 |   80.3825 |     80.59 |     81.04 |       81.2 |     81.275 |      81.24 |      81.35 |       81.8 |       81.8 |    81.7125 |       81.8 |   80.9625 |     80.54 |      80.5 |    80.825 |   80.8925 |   81.0975 |   80.9975 |    81.325 |   81.3985 |    81.3125 |     81.375 |    81.3037 |    81.2275 |    81.3375 |    81.3725 |    81.1875 |    81.4875 |   81.5375 |   81.4675 |    81.575 |    81.475 |    81.185 |   81.2319 |    81.275 |     81.13 |     81.06 |    81.0325 |    80.9375 |    81.2375 |     81.255 |    81.2275 |      81.26 |    78.2475 |     78.475 |   78.5475 |   78.7375 |   79.6025 |   78.8175 |   79.1468 |    79.245 |    79.065 |   79.4273 |     79.79 |       79.8 |    79.7525 |      79.75 |     79.765 |       79.9 |     80.125 |     80.175 |    80.1225 |     80.15 |   80.2625 |     80.16 |   80.7925 |   81.0325 |   80.9856 |   81.0573 |   80.9837 |   80.9175 |     80.905 |     80.825 |    80.8775 |      80.95 |      80.75 |      80.75 |     80.725 |     80.675 |   80.6425 |   80.8475 |   80.1775 |     79.79 |   80.0775 |    79.995 |   80.0525 |   80.0775 |   79.9425 |      79.87 |       79.5 |     79.465 |    79.5225 |     79.475 |    79.5025 |       79.6 |      79.67 |   79.3732 |     79.22 |     79.02 |    78.639 |    77.895 |   77.8325 |   78.2575 |      78.2 |      78.2 |     78.075 |     74.825 |     75.045 |     74.705 |       75.5 |     75.375 |    74.2525 |    75.0649 |     75.11 |   74.7908 |   74.9625 |   75.1712 |   75.1403 |   74.5425 |   74.5975 |    74.455 |    74.825 |      75.25 |     75.125 |    74.9625 |     75.195 |     75.325 |    75.2875 |    74.4225 |    73.0738 |   73.5525 |    73.585 |   72.4211 |   72.1616 |    72.025 |    72.205 |   71.9375 |     72.45 |    70.935 |      71.65 |     71.925 |         72 |    71.5275 |    71.6325 |    73.7029 |    74.3875 |    73.2056 |    73.555 |     73.02 |     73.21 |   73.1725 |     72.73 |     72.65 |    72.625 |    72.475 |   72.3825 |      72.06 |    71.2125 |    71.1725 |      70.25 |    69.2825 |    70.2025 |    70.7025 |    70.3072 |   70.2012 |   69.4375 |     68.27 |    67.525 |     67.54 |        68 |     65.57 |      66.5 |    66.125 |    67.0525 |       66.3 |    64.3125 |    65.2375 |     67.395 |      68.08 |    67.5825 |      66.75 |    66.671 |     68.66 |     68.83 |    68.875 |   68.9375 |     70.75 |   70.1575 |   69.0825 |   69.2875 |    69.0625 |      70.61 |    70.3232 |    72.4062 |    72.4925 |    72.1075 |    72.5751 |    72.9072 |     74.71 |   74.4125 |   74.3875 |    74.275 |    75.005 |   75.3575 |      74.8 |    75.525 |     75.32 |    75.9625 |    74.9225 |    73.0075 |     73.455 |     72.845 |      71.98 |    73.2623 |    72.3275 |    72.165 |     71.75 |    71.775 |    73.755 |     74.09 |        74 |    74.375 |    74.025 |    74.175 |     74.255 |     74.295 |    74.1925 |    74.9563 |    74.9425 |     75.115 |     75.735 |       75.4 |    75.415 |   75.2525 |     74.18 |     73.95 |   73.8025 |   74.2875 |    74.225 |   73.7125 |   74.4275 |    74.7449 |      74.19 |     73.925 |    73.5325 |    73.1125 |      73.23 |    73.2075 |      73.21 |   73.3375 |   71.9025 |   71.0075 |   70.9125 |    70.925 |     70.25 |   70.3375 |   72.0275 |     71.53 |    71.1882 |     71.825 |    71.2024 |      70.92 |     72.245 |    72.0525 |      71.72 |     71.625 |     67.15 |    67.875 |     67.97 |    67.145 |    67.025 |   65.9475 |     68.58 |     68.25 |   68.5938 |     68.345 |    67.2968 |    68.0364 |    66.5225 |    66.3725 |     66.125 |    67.3125 |     68.425 |     68.75 |    69.695 |    70.125 |   69.7875 |   68.8025 |   69.2875 |      69.9 |    68.055 |    68.725 |    69.0861 |    68.7786 |     69.665 |    71.4225 |    71.0775 |     70.725 |      70.09 |     69.875 |     68.95 |   69.8625 |   69.2275 |    69.275 |   69.1875 |   69.3475 |     68.88 |   69.0275 |   69.5875 |     69.209 |      68.74 |    68.5912 |    68.8275 |       69.2 |      68.68 |      69.35 |      68.94 |     65.75 |   65.0875 |    65.175 |    64.825 |        64 |    63.875 |   64.9375 |     63.72 |    63.075 |     65.555 |    63.5525 |     63.015 |         62 |    61.3725 |      59.58 |      60.35 |      59.75 |     64.45 |     63.95 |      64.8 |   65.1875 |    66.275 |    66.555 |   65.6225 |   64.2497 |   64.1937 |    65.5771 |    64.5413 |    65.3037 |     69.515 |    68.6875 |      68.73 |    68.4875 |     68.375 |   62.4975 |     61.89 |   61.5625 |    61.375 |   60.0625 |   60.4125 |   62.3425 |    64.615 |   63.7225 |    63.5775 |    62.7409 |       62.6 |    60.3675 |     61.415 |      61.35 |    61.5025 |    62.4575 |   64.4525 |    62.125 |   62.2125 |   62.7875 |     61.82 |    61.875 |   61.1875 |    62.925 |    63.213 |      62.58 |    63.7175 |    62.4512 |     63.215 |       62.6 |     62.425 |     62.065 |    61.4875 |    59.875 |   59.7375 |   59.1225 |     59.25 |    60.055 |        60 |   61.8119 |   61.0488 |   61.5075 |    60.1275 |      59.45 |    59.8284 |    62.4475 |     61.745 |     61.775 |    62.3125 |    63.4375 |    61.575 |      62.5 |    61.275 |    61.515 |      60.9 |    61.825 |   62.1975 |     62.42 |   61.7691 |    61.9813 |    62.4375 |    62.1625 |    61.1925 |       61.1 |      61.15 |    61.0425 |    60.8125 |     64.25 |     64.29 |    64.375 |   62.9375 |   62.9125 |    61.985 |     62.62 |   62.2912 |   61.3847 |     61.975 |    61.3175 |    60.4375 |     57.185 |    57.3625 |      57.25 |    57.1625 |     57.125 |      55.6 |      55.7 |   56.2475 |    56.595 |   57.8125 |     57.02 |     55.45 |   53.7675 |   54.8039 |    55.4863 |     55.265 |    54.4325 |     55.995 |         56 |       56.2 |      56.75 |     56.875 |   58.4475 |     58.55 |   59.2225 |   58.3075 |    58.175 |   58.8925 |   60.4345 |   60.1725 |    60.645 |    60.0285 |    59.8684 |    60.9113 |      61.72 |         62 |      61.75 |    62.1375 |     61.425 |     63.75 |     64.75 |   63.5525 |     62.45 |    62.255 |   62.8325 |   61.9766 |     63.46 |   63.6075 |    63.7325 |    63.7632 |    63.8275 |    61.3625 |    61.5775 |      61.75 |      61.95 |      61.88 |     60.75 |     60.75 |      61.1 |    61.335 |   60.2475 |   61.6625 |   62.6225 |   63.2175 |   63.5575 |    63.0125 |    63.3325 |      63.24 |      64.62 |    64.2525 |       64.4 |    64.2625 |    64.4975 |    63.685 |   63.1875 |    62.975 |   63.5625 |    62.825 |   62.8375 |     62.35 |   62.8314 |     62.48 |    62.8477 |    63.2725 |    63.8075 |    61.9225 |     61.895 |    61.8775 |    61.8725 |      61.79 | 36792.5 |\n",
      "+----+-------------------+-----------+-----------+-----------+-----------+-----------+-----------+-----------+-----------+-----------+------------+------------+------------+------------+------------+------------+------------+------------+-----------+-----------+-----------+-----------+-----------+-----------+-----------+-----------+-----------+------------+------------+------------+------------+------------+------------+------------+------------+-----------+-----------+-----------+-----------+-----------+-----------+-----------+-----------+-----------+------------+------------+------------+------------+------------+------------+------------+------------+-----------+-----------+-----------+-----------+-----------+-----------+-----------+-----------+-----------+------------+------------+------------+------------+------------+------------+------------+------------+-----------+-----------+-----------+-----------+-----------+-----------+-----------+-----------+-----------+------------+------------+------------+------------+------------+------------+------------+------------+-----------+-----------+-----------+-----------+-----------+-----------+-----------+-----------+-----------+------------+------------+------------+------------+------------+------------+------------+------------+-----------+-----------+-----------+-----------+-----------+-----------+-----------+-----------+-----------+------------+------------+------------+------------+------------+------------+------------+------------+-----------+-----------+-----------+-----------+-----------+-----------+-----------+-----------+-----------+------------+------------+------------+------------+------------+------------+------------+------------+-----------+-----------+-----------+-----------+-----------+-----------+-----------+-----------+-----------+------------+------------+------------+------------+------------+------------+------------+------------+-----------+-----------+-----------+-----------+-----------+-----------+-----------+-----------+-----------+------------+------------+------------+------------+------------+------------+------------+------------+-----------+-----------+-----------+-----------+-----------+-----------+-----------+-----------+-----------+------------+------------+------------+------------+------------+------------+------------+------------+-----------+-----------+-----------+-----------+-----------+-----------+-----------+-----------+-----------+------------+------------+------------+------------+------------+------------+------------+------------+-----------+-----------+-----------+-----------+-----------+-----------+-----------+-----------+-----------+------------+------------+------------+------------+------------+------------+------------+------------+-----------+-----------+-----------+-----------+-----------+-----------+-----------+-----------+-----------+------------+------------+------------+------------+------------+------------+------------+------------+-----------+-----------+-----------+-----------+-----------+-----------+-----------+-----------+-----------+------------+------------+------------+------------+------------+------------+------------+------------+-----------+-----------+-----------+-----------+-----------+-----------+-----------+-----------+-----------+------------+------------+------------+------------+------------+------------+------------+------------+-----------+-----------+-----------+-----------+-----------+-----------+-----------+-----------+-----------+------------+------------+------------+------------+------------+------------+------------+------------+-----------+-----------+-----------+-----------+-----------+-----------+-----------+-----------+-----------+------------+------------+------------+------------+------------+------------+------------+------------+-----------+-----------+-----------+-----------+-----------+-----------+-----------+-----------+-----------+------------+------------+------------+------------+------------+------------+------------+------------+-----------+-----------+-----------+-----------+-----------+-----------+-----------+-----------+-----------+------------+------------+------------+------------+------------+------------+------------+------------+-----------+-----------+-----------+-----------+-----------+-----------+-----------+-----------+-----------+------------+------------+------------+------------+------------+------------+------------+------------+-----------+-----------+-----------+-----------+-----------+-----------+-----------+-----------+-----------+------------+------------+------------+------------+------------+------------+------------+------------+-----------+-----------+-----------+-----------+-----------+-----------+-----------+-----------+-----------+------------+------------+------------+------------+------------+------------+------------+------------+-----------+-----------+-----------+-----------+-----------+-----------+-----------+-----------+-----------+------------+------------+------------+------------+------------+------------+------------+------------+-----------+-----------+-----------+-----------+-----------+-----------+-----------+-----------+-----------+------------+------------+------------+------------+------------+------------+------------+------------+-----------+-----------+-----------+-----------+-----------+-----------+-----------+-----------+-----------+------------+------------+------------+------------+------------+------------+------------+------------+-----------+-----------+-----------+-----------+-----------+-----------+-----------+-----------+-----------+------------+------------+------------+------------+------------+------------+------------+------------+-----------+-----------+-----------+-----------+-----------+-----------+-----------+-----------+-----------+------------+------------+------------+------------+------------+------------+------------+------------+-----------+-----------+-----------+-----------+-----------+-----------+-----------+-----------+-----------+------------+------------+------------+------------+------------+------------+------------+------------+-----------+-----------+-----------+-----------+-----------+-----------+-----------+-----------+-----------+------------+------------+------------+------------+------------+------------+------------+------------+-----------+-----------+-----------+-----------+-----------+-----------+-----------+-----------+-----------+------------+------------+------------+------------+------------+------------+------------+------------+---------+\n"
     ]
    }
   ],
   "source": [
    "step_headers.clear()\n",
    "for a in range(start,start + 31):\n",
    "    for b in range (1,18):\n",
    "        step_headers.append(f'<{a},{b}>')\n",
    "\n",
    "headers = [\"Classifier type\", \"pct_change\"]\n",
    "score_df = pd.DataFrame(price_fut.items(), columns=headers)\n",
    "# print(tabulate(score_df, headers, tablefmt=\"psql\"))\n",
    "headers2 = [\"Classifier type\", ] + step_headers\n",
    "score_df = pd.DataFrame(price_fut.items(), columns=headers)\n",
    "accuracy_df = pd.DataFrame(score_df['pct_change'].tolist(), index=score_df.index, columns=step_headers)\n",
    "score_df = score_df.drop('pct_change', 1)\n",
    "f_out: pd.DataFrame = pd.merge(score_df, accuracy_df, how='left', left_index=True, right_index=True)\n",
    "f_out['sum'] = f_out.sum(axis=1)\n",
    "f_out['sum'] = f_out['sum'].apply(lambda x: x+100)\n",
    "headers2 = headers2 + ['sum']\n",
    "print(tabulate(f_out, headers2, tablefmt=\"psql\"))\n",
    "\n",
    "filename_to_export = f'C:\\\\Users\\\\exomat\\\\Desktop\\\\repo\\\\magisterka_analiza\\\\data\\\\results\\\\simulation\\\\result_test_ta_all_price_fut_{symbol}_{WINDOW}_{datetime.now().strftime(\"%d_%m_%Y %H_%M_%S\")}.csv'\n",
    "f_out.to_csv(filename_to_export, index=False)"
   ],
   "metadata": {
    "collapsed": false,
    "pycharm": {
     "name": "#%%\n"
    }
   }
  },
  {
   "cell_type": "code",
   "execution_count": 41,
   "outputs": [
    {
     "name": "stdout",
     "output_type": "stream",
     "text": [
      "+----+-------------------+----------+----------+------------+---------+----------+----------+----------+----------+----------+-----------+----------+-----------+---------+---------+-------------+----------+----------+-----------+-----------+----------+------------+-----------+-----------+-----------+-----------+----------+-----------+-----------+---------+---------+------------+----------+\n",
      "|    |   Classifier type |    <100> |    <101> |      <102> |   <103> |    <104> |    <105> |    <106> |    <107> |    <108> |     <109> |    <110> |     <111> |   <112> |   <113> |       <114> |    <115> |    <116> |     <117> |     <118> |    <119> |      <120> |     <121> |     <122> |     <123> |     <124> |    <125> |     <126> |     <127> |   <128> |   <129> |      <130> |      sum |\n",
      "|----+-------------------+----------+----------+------------+---------+----------+----------+----------+----------+----------+-----------+----------+-----------+---------+---------+-------------+----------+----------+-----------+-----------+----------+------------+-----------+-----------+-----------+-----------+----------+-----------+-----------+---------+---------+------------+----------|\n",
      "|  0 |                 0 | 0        | 0        |  1.23852   |       0 | 0        | 0.473447 |  0       | -5.18808 |  0       |  0        |  0       | -3.98416  |       0 |       0 |  0          | -2.54477 | -6.60965 |  1.28913  | -1.06894  |  0       | -0.979451  | -2.27131  |  0        |  0        |  3.07596  |  2.8     |  0        |  4.93268  |       0 | 0       |  4.83128   |  95.9946 |\n",
      "|  1 |                 1 | 0        | 0        |  1.20186   |       0 | 0.82912  | 0.857664 |  0       | -5.35209 |  0       |  0.826906 |  0       |  0.571339 |       0 |       0 |  0          | -3.07023 | -4.41151 |  2.53788  |  0        |  0       | -1.87956   | -4.49074  |  0        | -3.9783   |  5.71272  |  0       |  0        |  4.09352  |       0 | 0       |  3.41653   |  97.8651 |\n",
      "|  2 |                 2 | 0        | 0        |  0.927931  |       0 | 1.7033   | 0        |  0       | -4.67516 |  0       |  0        | -6.69999 |  1.93262  |       0 |       0 |  0          | -3.97904 | -4.14948 |  4.43816  |  0        |  0       | -0.0385654 | -5.56088  |  0        | -5.83715  |  3.41772  |  4.64927 |  0        |  4.64264  |       0 | 0       |  2.67384   |  95.4452 |\n",
      "|  3 |                 3 | 0        | 0        |  0.720091  |       0 | 2.07931  | 0        |  0       |  0       | -3.96421 |  0        |  0       |  1.97661  |       0 |       0 |  0          | -3.91586 | -5.32957 |  4.12163  |  0.686748 |  0       |  1.85547   | -7.39344  |  0        | -4.15723  |  2.4311   |  3.34565 |  0        |  0.856216 |       0 | 0       |  5.5023    | 101.815  |\n",
      "|  4 |                 4 | 0        | 0        |  0.107895  |       0 | 2.25566  | 0        |  0       |  0       | -3.37727 |  0        | -7.03372 |  1.37868  |       0 |       0 |  0          | -4.52633 | -4.59078 |  4.3292   | -0.144326 |  0       |  3.75734   |  0        |  2.32982  | -2.94141  |  1.5      |  1.759   |  0        |  2.02561  |       0 | 0       |  1.88526   | 102.715  |\n",
      "|  5 |                 5 | 0        | 0.889497 |  0.289398  |       0 | 2.42914  | 0        |  0       |  0       | -3.20721 |  0        | -6.36833 |  7.89995  |       0 |       0 |  0          | -5.35534 | -6.24134 |  1.03164  |  0        |  0       |  2.49086   | -7.93935  | -0.749888 | -1.94076  |  0        |  0       |  0        |  6.20834  |       0 | 0       |  0         |  94.4366 |\n",
      "|  6 |                 6 | 0        | 0        | -0.0615042 |       0 | 2.05225  | 0        |  0       | -4.60678 | -3.38124 |  0        |  0       |  5.5      |       0 |       0 |  0          | -4.5786  | -4.78636 |  2.41758  |  1.21225  |  0       |  2.98571   | -2.96846  |  0        |  0        |  0        |  0       |  0        | 12.3997   |       0 | 0       |  0         | 112.185  |\n",
      "|  7 |                 7 | 0        | 0        | -0.32986   |       0 | 1.49599  | 0        |  0       | -4.789   | -3.17407 |  0        |  0       |  0        |       0 |       0 | -0.623525   |  0       |  0       | -0.785421 |  0.440157 |  0       |  1.86242   |  0.656216 |  0        |  0        |  0        |  0       |  0        |  9.79597  |       0 | 0       |  0         | 111.549  |\n",
      "|  8 |                 8 | 0.524081 | 0        |  0         |       0 | 1.40038  | 0        |  0       | -4.16266 | -5.73422 |  0        |  0       |  0        |       0 |       0 |  0          |  0       | -3.64456 |  0.555999 |  0.7258   |  0       | -2.0765    |  0        | -0.573391 |  0        |  2.73028  |  0       |  0        |  9.29735  |       0 | 0       |  0         | 107.043  |\n",
      "|  9 |                 9 | 0.860786 | 0        |  0         |       0 | 1.44509  | 0        | -1.79245 |  0       | -4.62562 |  0        |  0       |  4.16667  |       0 |       0 |  0.605628   |  0       | -4.8451  |  2.65885  |  0.625771 |  0       |  3.18567   |  0        | -0.256373 |  0        |  4.25778  |  0       |  0        |  8.61947  |       0 | 0       | -0.765445  | 123.141  |\n",
      "| 10 |                10 | 0.831183 | 0        |  0         |       0 | 1.34796  | 0        | -5.83905 |  0       | -4.05203 | -1.09375  |  0       |  9.79203  |       0 |       0 | -0.00336262 | -2.84073 |  0       |  1.09096  | -1.32779  |  0       |  2.42205   |  0        |  1.78514  |  0        |  4.36101  |  0       |  0        |  9.98645  |       0 | 0       |  0.0513874 | 126.511  |\n",
      "| 11 |                11 | 1.33466  | 0        |  0.0123137 |       0 | 1.39472  | 0        | -5.63048 |  0       | -4.24895 |  0        |  0       |  7.79566  |       0 |       0 | -1.3758     | -3.16884 | -4.06602 |  4.72397  |  0        |  0       |  5.32863   |  0        |  3.45177  |  0        | -0.456383 |  0       |  0        |  8.77981  |       0 | 0       |  0         | 124.875  |\n",
      "| 12 |                12 | 1.94874  | 0        | -0.101429  |       0 | 1.31414  | 0        | -6.00189 |  0       |  0       |  0        | -5.83841 |  0        |       0 |       0 | -1.88144    | -2.99881 |  0       |  7.60857  |  0        |  0       | 13.2673    |  0        |  2.93088  | -0.243613 | -0.894808 |  0       | -2.38396  | 10.2143   |       0 | 0       |  0         | 128.94   |\n",
      "| 13 |                13 | 2.37478  | 0        | -0.178193  |       0 | 0.780031 | 0        | -5.03443 |  0       |  0       |  0        | -3.99915 |  0        |       0 |       0 | -2.66591    | -1.34508 |  0       |  7.4896   |  0        |  0       | 15.2862    |  0        |  2.03749  | -1.08931  |  0        | -6.19379 | -2.18341  | 10.3203   |       0 | 0       |  0         | 128.599  |\n",
      "| 14 |                14 | 2.40999  | 0        |  0.0892995 |       0 | 0.717181 | 0        | -5.30779 |  0       |  0       |  0        | -3.7092  |  0        |       0 |       0 | -3.30758    | -1.57771 |  0       |  5.06964  |  0        |  0       | 13.8857    |  0        |  1.49994  |  0        |  0        | -6.21292 | -1.6838   |  8.81057  |       0 | 0       |  0         | 124.683  |\n",
      "| 15 |                15 | 2.3325   | 0        |  0         |       0 | 0.751974 | 0        | -6.79992 |  0       |  0       |  0        | -3.87539 |  8.72678  |       0 |       0 | -2.90782    |  0       | -6.02094 |  2.43332  |  0        |  0       | 14.6234    |  0        | -0.628427 |  1.34174  |  0        | -6.00206 | -0.656455 |  9.25275  |       0 | 3.85019 |  0         | 131.422  |\n",
      "| 16 |                16 | 2.36836  | 0.648448 |  0         |       0 | 0.655022 | 0        | -5.4279  |  0       |  0       |  0        | -4.91622 |  9.35377  |       0 |       0 | -2.92382    | -2.33509 |  1.89873 |  1.63636  |  0        | -9.12548 |  6.08999   |  0        | -4.60029  |  5.9499   |  0        |  0       |  2.29317  |  0        |       0 | 6.16872 |  0         | 123.734  |\n",
      "+----+-------------------+----------+----------+------------+---------+----------+----------+----------+----------+----------+-----------+----------+-----------+---------+---------+-------------+----------+----------+-----------+-----------+----------+------------+-----------+-----------+-----------+-----------+----------+-----------+-----------+---------+---------+------------+----------+\n"
     ]
    }
   ],
   "source": [
    "step_headers.clear()\n",
    "for a in range(start,start + 31):\n",
    "    # for b in range (1,18):\n",
    "        step_headers.append(f'<{a}>')\n",
    "\n",
    "headers = [\"Classifier type\", \"pct_change\"]\n",
    "score_df = pd.DataFrame(score_hour.items(), columns=headers)\n",
    "# print(tabulate(score_df, headers, tablefmt=\"psql\"))\n",
    "headers2 = [\"Classifier type\", ] + step_headers\n",
    "score_df = pd.DataFrame(score_hour.items(), columns=headers)\n",
    "accuracy_df = pd.DataFrame(score_df['pct_change'].tolist(), index=score_df.index, columns=step_headers)\n",
    "score_df = score_df.drop('pct_change', 1)\n",
    "f_out: pd.DataFrame = pd.merge(score_df, accuracy_df, how='left', left_index=True, right_index=True)\n",
    "f_out['sum'] = f_out.sum(axis=1)\n",
    "f_out['sum'] = f_out['sum'].apply(lambda x: x+100)\n",
    "headers2 = headers2 + ['sum']\n",
    "print(tabulate(f_out, headers2, tablefmt=\"psql\"))\n",
    "\n",
    "filename_to_export = f'C:\\\\Users\\\\exomat\\\\Desktop\\\\repo\\\\magisterka_analiza\\\\data\\\\results\\\\simulation\\\\result_test_ta_all_score_hour_{symbol}_{WINDOW}_{datetime.now().strftime(\"%d_%m_%Y %H_%M_%S\")}.csv'\n",
    "f_out.to_csv(filename_to_export, index=False)"
   ],
   "metadata": {
    "collapsed": false,
    "pycharm": {
     "name": "#%%\n"
    }
   }
  },
  {
   "cell_type": "code",
   "execution_count": 42,
   "outputs": [
    {
     "name": "stdout",
     "output_type": "stream",
     "text": [
      "+----+-------------------+-----------+-----------+-----------+-----------+-----------+-----------+-----------+-----------+-----------+------------+------------+------------+------------+------------+------------+------------+------------+-----------+-----------+-----------+-----------+-----------+-----------+-----------+-----------+-----------+------------+------------+------------+------------+------------+------------+------------+------------+-----------+-----------+-----------+-----------+-----------+-----------+-----------+-----------+-----------+------------+------------+------------+------------+------------+------------+------------+------------+-----------+-----------+-----------+-----------+-----------+-----------+-----------+-----------+-----------+------------+------------+------------+------------+------------+------------+------------+------------+-----------+-----------+-----------+-----------+-----------+-----------+-----------+-----------+-----------+------------+------------+------------+------------+------------+------------+------------+------------+-----------+-----------+-----------+-----------+-----------+-----------+-----------+-----------+-----------+------------+------------+------------+------------+------------+------------+------------+------------+-----------+-----------+-----------+-----------+-----------+-----------+-----------+-----------+-----------+------------+------------+------------+------------+------------+------------+------------+------------+-----------+-----------+-----------+-----------+-----------+-----------+-----------+-----------+-----------+------------+------------+------------+------------+------------+------------+------------+------------+-----------+-----------+-----------+-----------+-----------+-----------+-----------+-----------+-----------+------------+------------+------------+------------+------------+------------+------------+------------+-----------+-----------+-----------+-----------+-----------+-----------+-----------+-----------+-----------+------------+------------+------------+------------+------------+------------+------------+------------+-----------+-----------+-----------+-----------+-----------+-----------+-----------+-----------+-----------+------------+------------+------------+------------+------------+------------+------------+------------+-----------+-----------+-----------+-----------+-----------+-----------+-----------+-----------+-----------+------------+------------+------------+------------+------------+------------+------------+------------+-----------+-----------+-----------+-----------+-----------+-----------+-----------+-----------+-----------+------------+------------+------------+------------+------------+------------+------------+------------+-----------+-----------+-----------+-----------+-----------+-----------+-----------+-----------+-----------+------------+------------+------------+------------+------------+------------+------------+------------+-----------+-----------+-----------+-----------+-----------+-----------+-----------+-----------+-----------+------------+------------+------------+------------+------------+------------+------------+------------+-----------+-----------+-----------+-----------+-----------+-----------+-----------+-----------+-----------+------------+------------+------------+------------+------------+------------+------------+------------+-----------+-----------+-----------+-----------+-----------+-----------+-----------+-----------+-----------+------------+------------+------------+------------+------------+------------+------------+------------+-----------+-----------+-----------+-----------+-----------+-----------+-----------+-----------+-----------+------------+------------+------------+------------+------------+------------+------------+------------+-----------+-----------+-----------+-----------+-----------+-----------+-----------+-----------+-----------+------------+------------+------------+------------+------------+------------+------------+------------+-----------+-----------+-----------+-----------+-----------+-----------+-----------+-----------+-----------+------------+------------+------------+------------+------------+------------+------------+------------+-----------+-----------+-----------+-----------+-----------+-----------+-----------+-----------+-----------+------------+------------+------------+------------+------------+------------+------------+------------+-----------+-----------+-----------+-----------+-----------+-----------+-----------+-----------+-----------+------------+------------+------------+------------+------------+------------+------------+------------+-----------+-----------+-----------+-----------+-----------+-----------+-----------+-----------+-----------+------------+------------+------------+------------+------------+------------+------------+------------+-----------+-----------+-----------+-----------+-----------+-----------+-----------+-----------+-----------+------------+------------+------------+------------+------------+------------+------------+------------+-----------+-----------+-----------+-----------+-----------+-----------+-----------+-----------+-----------+------------+------------+------------+------------+------------+------------+------------+------------+-----------+-----------+-----------+-----------+-----------+-----------+-----------+-----------+-----------+------------+------------+------------+------------+------------+------------+------------+------------+-----------+-----------+-----------+-----------+-----------+-----------+-----------+-----------+-----------+------------+------------+------------+------------+------------+------------+------------+------------+-----------+-----------+-----------+-----------+-----------+-----------+-----------+-----------+-----------+------------+------------+------------+------------+------------+------------+------------+------------+-----------+-----------+-----------+-----------+-----------+-----------+-----------+-----------+-----------+------------+------------+------------+------------+------------+------------+------------+------------+-----------+-----------+-----------+-----------+-----------+-----------+-----------+-----------+-----------+------------+------------+------------+------------+------------+------------+------------+------------+-----------+-----------+-----------+-----------+-----------+-----------+-----------+-----------+-----------+------------+------------+------------+------------+------------+------------+------------+------------+-------+\n",
      "|    | Classifier type   |   <100,1> |   <100,2> |   <100,3> |   <100,4> |   <100,5> |   <100,6> |   <100,7> |   <100,8> |   <100,9> |   <100,10> |   <100,11> |   <100,12> |   <100,13> |   <100,14> |   <100,15> |   <100,16> |   <100,17> |   <101,1> |   <101,2> |   <101,3> |   <101,4> |   <101,5> |   <101,6> |   <101,7> |   <101,8> |   <101,9> |   <101,10> |   <101,11> |   <101,12> |   <101,13> |   <101,14> |   <101,15> |   <101,16> |   <101,17> |   <102,1> |   <102,2> |   <102,3> |   <102,4> |   <102,5> |   <102,6> |   <102,7> |   <102,8> |   <102,9> |   <102,10> |   <102,11> |   <102,12> |   <102,13> |   <102,14> |   <102,15> |   <102,16> |   <102,17> |   <103,1> |   <103,2> |   <103,3> |   <103,4> |   <103,5> |   <103,6> |   <103,7> |   <103,8> |   <103,9> |   <103,10> |   <103,11> |   <103,12> |   <103,13> |   <103,14> |   <103,15> |   <103,16> |   <103,17> |   <104,1> |   <104,2> |   <104,3> |   <104,4> |   <104,5> |   <104,6> |   <104,7> |   <104,8> |   <104,9> |   <104,10> |   <104,11> |   <104,12> |   <104,13> |   <104,14> |   <104,15> |   <104,16> |   <104,17> |   <105,1> |   <105,2> |   <105,3> |   <105,4> |   <105,5> |   <105,6> |   <105,7> |   <105,8> |   <105,9> |   <105,10> |   <105,11> |   <105,12> |   <105,13> |   <105,14> |   <105,15> |   <105,16> |   <105,17> |   <106,1> |   <106,2> |   <106,3> |   <106,4> |   <106,5> |   <106,6> |   <106,7> |   <106,8> |   <106,9> |   <106,10> |   <106,11> |   <106,12> |   <106,13> |   <106,14> |   <106,15> |   <106,16> |   <106,17> |   <107,1> |   <107,2> |   <107,3> |   <107,4> |   <107,5> |   <107,6> |   <107,7> |   <107,8> |   <107,9> |   <107,10> |   <107,11> |   <107,12> |   <107,13> |   <107,14> |   <107,15> |   <107,16> |   <107,17> |   <108,1> |   <108,2> |   <108,3> |   <108,4> |   <108,5> |   <108,6> |   <108,7> |   <108,8> |   <108,9> |   <108,10> |   <108,11> |   <108,12> |   <108,13> |   <108,14> |   <108,15> |   <108,16> |   <108,17> |   <109,1> |   <109,2> |   <109,3> |   <109,4> |   <109,5> |   <109,6> |   <109,7> |   <109,8> |   <109,9> |   <109,10> |   <109,11> |   <109,12> |   <109,13> |   <109,14> |   <109,15> |   <109,16> |   <109,17> |   <110,1> |   <110,2> |   <110,3> |   <110,4> |   <110,5> |   <110,6> |   <110,7> |   <110,8> |   <110,9> |   <110,10> |   <110,11> |   <110,12> |   <110,13> |   <110,14> |   <110,15> |   <110,16> |   <110,17> |   <111,1> |   <111,2> |   <111,3> |   <111,4> |   <111,5> |   <111,6> |   <111,7> |   <111,8> |   <111,9> |   <111,10> |   <111,11> |   <111,12> |   <111,13> |   <111,14> |   <111,15> |   <111,16> |   <111,17> |   <112,1> |   <112,2> |   <112,3> |   <112,4> |   <112,5> |   <112,6> |   <112,7> |   <112,8> |   <112,9> |   <112,10> |   <112,11> |   <112,12> |   <112,13> |   <112,14> |   <112,15> |   <112,16> |   <112,17> |   <113,1> |   <113,2> |   <113,3> |   <113,4> |   <113,5> |   <113,6> |   <113,7> |   <113,8> |   <113,9> |   <113,10> |   <113,11> |   <113,12> |   <113,13> |   <113,14> |   <113,15> |   <113,16> |   <113,17> |   <114,1> |   <114,2> |   <114,3> |   <114,4> |   <114,5> |   <114,6> |   <114,7> |   <114,8> |   <114,9> |   <114,10> |   <114,11> |   <114,12> |   <114,13> |   <114,14> |   <114,15> |   <114,16> |   <114,17> |   <115,1> |   <115,2> |   <115,3> |   <115,4> |   <115,5> |   <115,6> |   <115,7> |   <115,8> |   <115,9> |   <115,10> |   <115,11> |   <115,12> |   <115,13> |   <115,14> |   <115,15> |   <115,16> |   <115,17> |   <116,1> |   <116,2> |   <116,3> |   <116,4> |   <116,5> |   <116,6> |   <116,7> |   <116,8> |   <116,9> |   <116,10> |   <116,11> |   <116,12> |   <116,13> |   <116,14> |   <116,15> |   <116,16> |   <116,17> |   <117,1> |   <117,2> |   <117,3> |   <117,4> |   <117,5> |   <117,6> |   <117,7> |   <117,8> |   <117,9> |   <117,10> |   <117,11> |   <117,12> |   <117,13> |   <117,14> |   <117,15> |   <117,16> |   <117,17> |   <118,1> |   <118,2> |   <118,3> |   <118,4> |   <118,5> |   <118,6> |   <118,7> |   <118,8> |   <118,9> |   <118,10> |   <118,11> |   <118,12> |   <118,13> |   <118,14> |   <118,15> |   <118,16> |   <118,17> |   <119,1> |   <119,2> |   <119,3> |   <119,4> |   <119,5> |   <119,6> |   <119,7> |   <119,8> |   <119,9> |   <119,10> |   <119,11> |   <119,12> |   <119,13> |   <119,14> |   <119,15> |   <119,16> |   <119,17> |   <120,1> |   <120,2> |   <120,3> |   <120,4> |   <120,5> |   <120,6> |   <120,7> |   <120,8> |   <120,9> |   <120,10> |   <120,11> |   <120,12> |   <120,13> |   <120,14> |   <120,15> |   <120,16> |   <120,17> |   <121,1> |   <121,2> |   <121,3> |   <121,4> |   <121,5> |   <121,6> |   <121,7> |   <121,8> |   <121,9> |   <121,10> |   <121,11> |   <121,12> |   <121,13> |   <121,14> |   <121,15> |   <121,16> |   <121,17> |   <122,1> |   <122,2> |   <122,3> |   <122,4> |   <122,5> |   <122,6> |   <122,7> |   <122,8> |   <122,9> |   <122,10> |   <122,11> |   <122,12> |   <122,13> |   <122,14> |   <122,15> |   <122,16> |   <122,17> |   <123,1> |   <123,2> |   <123,3> |   <123,4> |   <123,5> |   <123,6> |   <123,7> |   <123,8> |   <123,9> |   <123,10> |   <123,11> |   <123,12> |   <123,13> |   <123,14> |   <123,15> |   <123,16> |   <123,17> |   <124,1> |   <124,2> |   <124,3> |   <124,4> |   <124,5> |   <124,6> |   <124,7> |   <124,8> |   <124,9> |   <124,10> |   <124,11> |   <124,12> |   <124,13> |   <124,14> |   <124,15> |   <124,16> |   <124,17> |   <125,1> |   <125,2> |   <125,3> |   <125,4> |   <125,5> |   <125,6> |   <125,7> |   <125,8> |   <125,9> |   <125,10> |   <125,11> |   <125,12> |   <125,13> |   <125,14> |   <125,15> |   <125,16> |   <125,17> |   <126,1> |   <126,2> |   <126,3> |   <126,4> |   <126,5> |   <126,6> |   <126,7> |   <126,8> |   <126,9> |   <126,10> |   <126,11> |   <126,12> |   <126,13> |   <126,14> |   <126,15> |   <126,16> |   <126,17> |   <127,1> |   <127,2> |   <127,3> |   <127,4> |   <127,5> |   <127,6> |   <127,7> |   <127,8> |   <127,9> |   <127,10> |   <127,11> |   <127,12> |   <127,13> |   <127,14> |   <127,15> |   <127,16> |   <127,17> |   <128,1> |   <128,2> |   <128,3> |   <128,4> |   <128,5> |   <128,6> |   <128,7> |   <128,8> |   <128,9> |   <128,10> |   <128,11> |   <128,12> |   <128,13> |   <128,14> |   <128,15> |   <128,16> |   <128,17> |   <129,1> |   <129,2> |   <129,3> |   <129,4> |   <129,5> |   <129,6> |   <129,7> |   <129,8> |   <129,9> |   <129,10> |   <129,11> |   <129,12> |   <129,13> |   <129,14> |   <129,15> |   <129,16> |   <129,17> |   <130,1> |   <130,2> |   <130,3> |   <130,4> |   <130,5> |   <130,6> |   <130,7> |   <130,8> |   <130,9> |   <130,10> |   <130,11> |   <130,12> |   <130,13> |   <130,14> |   <130,15> |   <130,16> |   <130,17> |   sum |\n",
      "|----+-------------------+-----------+-----------+-----------+-----------+-----------+-----------+-----------+-----------+-----------+------------+------------+------------+------------+------------+------------+------------+------------+-----------+-----------+-----------+-----------+-----------+-----------+-----------+-----------+-----------+------------+------------+------------+------------+------------+------------+------------+------------+-----------+-----------+-----------+-----------+-----------+-----------+-----------+-----------+-----------+------------+------------+------------+------------+------------+------------+------------+------------+-----------+-----------+-----------+-----------+-----------+-----------+-----------+-----------+-----------+------------+------------+------------+------------+------------+------------+------------+------------+-----------+-----------+-----------+-----------+-----------+-----------+-----------+-----------+-----------+------------+------------+------------+------------+------------+------------+------------+------------+-----------+-----------+-----------+-----------+-----------+-----------+-----------+-----------+-----------+------------+------------+------------+------------+------------+------------+------------+------------+-----------+-----------+-----------+-----------+-----------+-----------+-----------+-----------+-----------+------------+------------+------------+------------+------------+------------+------------+------------+-----------+-----------+-----------+-----------+-----------+-----------+-----------+-----------+-----------+------------+------------+------------+------------+------------+------------+------------+------------+-----------+-----------+-----------+-----------+-----------+-----------+-----------+-----------+-----------+------------+------------+------------+------------+------------+------------+------------+------------+-----------+-----------+-----------+-----------+-----------+-----------+-----------+-----------+-----------+------------+------------+------------+------------+------------+------------+------------+------------+-----------+-----------+-----------+-----------+-----------+-----------+-----------+-----------+-----------+------------+------------+------------+------------+------------+------------+------------+------------+-----------+-----------+-----------+-----------+-----------+-----------+-----------+-----------+-----------+------------+------------+------------+------------+------------+------------+------------+------------+-----------+-----------+-----------+-----------+-----------+-----------+-----------+-----------+-----------+------------+------------+------------+------------+------------+------------+------------+------------+-----------+-----------+-----------+-----------+-----------+-----------+-----------+-----------+-----------+------------+------------+------------+------------+------------+------------+------------+------------+-----------+-----------+-----------+-----------+-----------+-----------+-----------+-----------+-----------+------------+------------+------------+------------+------------+------------+------------+------------+-----------+-----------+-----------+-----------+-----------+-----------+-----------+-----------+-----------+------------+------------+------------+------------+------------+------------+------------+------------+-----------+-----------+-----------+-----------+-----------+-----------+-----------+-----------+-----------+------------+------------+------------+------------+------------+------------+------------+------------+-----------+-----------+-----------+-----------+-----------+-----------+-----------+-----------+-----------+------------+------------+------------+------------+------------+------------+------------+------------+-----------+-----------+-----------+-----------+-----------+-----------+-----------+-----------+-----------+------------+------------+------------+------------+------------+------------+------------+------------+-----------+-----------+-----------+-----------+-----------+-----------+-----------+-----------+-----------+------------+------------+------------+------------+------------+------------+------------+------------+-----------+-----------+-----------+-----------+-----------+-----------+-----------+-----------+-----------+------------+------------+------------+------------+------------+------------+------------+------------+-----------+-----------+-----------+-----------+-----------+-----------+-----------+-----------+-----------+------------+------------+------------+------------+------------+------------+------------+------------+-----------+-----------+-----------+-----------+-----------+-----------+-----------+-----------+-----------+------------+------------+------------+------------+------------+------------+------------+------------+-----------+-----------+-----------+-----------+-----------+-----------+-----------+-----------+-----------+------------+------------+------------+------------+------------+------------+------------+------------+-----------+-----------+-----------+-----------+-----------+-----------+-----------+-----------+-----------+------------+------------+------------+------------+------------+------------+------------+------------+-----------+-----------+-----------+-----------+-----------+-----------+-----------+-----------+-----------+------------+------------+------------+------------+------------+------------+------------+------------+-----------+-----------+-----------+-----------+-----------+-----------+-----------+-----------+-----------+------------+------------+------------+------------+------------+------------+------------+------------+-----------+-----------+-----------+-----------+-----------+-----------+-----------+-----------+-----------+------------+------------+------------+------------+------------+------------+------------+------------+-----------+-----------+-----------+-----------+-----------+-----------+-----------+-----------+-----------+------------+------------+------------+------------+------------+------------+------------+------------+-----------+-----------+-----------+-----------+-----------+-----------+-----------+-----------+-----------+------------+------------+------------+------------+------------+------------+------------+------------+-----------+-----------+-----------+-----------+-----------+-----------+-----------+-----------+-----------+------------+------------+------------+------------+------------+------------+------------+------------+-------|\n",
      "|  0 | XGBRFClassifier 2 |        -1 |        -1 |        -1 |        -1 |        -1 |         0 |        -1 |         0 |         1 |          1 |          1 |          1 |          1 |          1 |          1 |          1 |          1 |         0 |         0 |         0 |         0 |         0 |         1 |         0 |        -1 |        -1 |         -1 |         -1 |         -1 |         -1 |         -1 |         -1 |         -1 |          1 |         1 |         1 |         1 |         1 |         1 |         1 |         1 |         1 |        -1 |         -1 |         -1 |          1 |          1 |          1 |          1 |         -1 |         -1 |        -1 |        -1 |        -1 |        -1 |        -1 |        -1 |        -1 |        -1 |        -1 |         -1 |         -1 |         -1 |         -1 |         -1 |         -1 |         -1 |         -1 |        -1 |         1 |         1 |         1 |         1 |         1 |         1 |         1 |         1 |          1 |          1 |          1 |          1 |          1 |          1 |          1 |          1 |         1 |         1 |        -1 |        -1 |        -1 |        -1 |        -1 |        -1 |        -1 |         -1 |         -1 |         -1 |         -1 |         -1 |         -1 |         -1 |         -1 |        -1 |        -1 |        -1 |        -1 |        -1 |        -1 |        -1 |        -1 |        -1 |          1 |          1 |          1 |          1 |          1 |          1 |          1 |          1 |         1 |         1 |         1 |        -1 |        -1 |        -1 |         1 |         1 |         1 |         -1 |         -1 |         -1 |         -1 |         -1 |         -1 |          0 |          0 |         0 |        -1 |        -1 |         1 |         1 |         1 |         1 |         1 |         1 |          1 |          1 |          1 |          0 |          0 |          0 |         -1 |         -1 |        -1 |         1 |         0 |        -1 |         0 |         0 |         0 |         0 |         0 |          0 |          1 |          0 |          0 |          0 |          0 |          0 |          0 |         0 |         0 |         1 |         0 |         1 |         1 |         0 |        -1 |        -1 |         -1 |         -1 |         -1 |          1 |          1 |          1 |          1 |          1 |         1 |         1 |         1 |         1 |         1 |         1 |         1 |         0 |         0 |          1 |          1 |          1 |          0 |          0 |          0 |          1 |          1 |         0 |         0 |         0 |         0 |         0 |         0 |         0 |         0 |         0 |          0 |          0 |          0 |          0 |          0 |          0 |          0 |          0 |         0 |         0 |         0 |         0 |         0 |         0 |         0 |         0 |         0 |          0 |          0 |          0 |          0 |          0 |          0 |          0 |          0 |         0 |         0 |         0 |         0 |         0 |         0 |         0 |         1 |         0 |          1 |          1 |          1 |          1 |          1 |          1 |          1 |          1 |         1 |         1 |         1 |         1 |         1 |         1 |         1 |         0 |         0 |          0 |          1 |          1 |          1 |          1 |          1 |          0 |          1 |         1 |         1 |         1 |         1 |         1 |         1 |         1 |        -1 |         1 |          1 |         -1 |          1 |         -1 |         -1 |         -1 |          1 |          1 |         1 |         1 |         1 |         1 |         1 |         1 |         1 |         1 |         1 |          1 |          1 |          1 |          1 |          1 |          1 |          1 |          1 |         1 |         0 |         0 |         1 |         1 |         0 |         1 |         1 |         1 |          1 |          1 |          0 |          0 |          0 |          0 |          0 |          0 |        -1 |        -1 |        -1 |        -1 |        -1 |        -1 |        -1 |        -1 |        -1 |         -1 |         -1 |         -1 |         -1 |         -1 |         -1 |         -1 |          1 |         1 |         1 |         1 |         1 |         1 |         1 |         1 |         1 |         1 |          1 |          1 |          1 |          1 |          1 |          1 |          1 |          1 |         1 |         1 |         1 |         1 |        -1 |         1 |         1 |         1 |         0 |          0 |          0 |          0 |         -1 |         -1 |         -1 |         -1 |         -1 |         0 |         0 |         0 |         0 |         1 |         1 |         0 |         0 |         1 |          1 |          1 |          1 |          1 |          1 |          1 |          1 |          1 |        -1 |         1 |         1 |         1 |         1 |         1 |         0 |         0 |         0 |          0 |         -1 |          0 |          1 |          1 |          0 |          1 |          1 |         1 |         1 |         1 |         1 |         1 |        -1 |        -1 |        -1 |         1 |          1 |          1 |          1 |          1 |         -1 |         -1 |         -1 |         -1 |         1 |        -1 |         1 |         1 |         1 |        -1 |        -1 |        -1 |         0 |         -1 |          0 |          0 |         -1 |          1 |          1 |          1 |         -1 |        -1 |        -1 |        -1 |        -1 |         0 |         0 |        -1 |        -1 |        -1 |         -1 |         -1 |         -1 |          1 |          1 |          1 |          1 |          1 |         1 |         1 |         1 |         1 |         1 |         1 |         1 |         1 |         1 |          1 |          1 |          1 |          1 |          1 |          1 |          1 |         -1 |        -1 |        -1 |        -1 |        -1 |        -1 |        -1 |        -1 |        -1 |        -1 |         -1 |         -1 |         -1 |         -1 |         -1 |         -1 |         -1 |         -1 |        -1 |        -1 |        -1 |        -1 |        -1 |        -1 |        -1 |        -1 |        -1 |         -1 |         -1 |         -1 |         -1 |         -1 |         -1 |          1 |          1 |         1 |         1 |         1 |         1 |         1 |        -1 |        -1 |        -1 |        -1 |          1 |          1 |         -1 |         -1 |         -1 |         -1 |         -1 |         -1 |   159 |\n",
      "+----+-------------------+-----------+-----------+-----------+-----------+-----------+-----------+-----------+-----------+-----------+------------+------------+------------+------------+------------+------------+------------+------------+-----------+-----------+-----------+-----------+-----------+-----------+-----------+-----------+-----------+------------+------------+------------+------------+------------+------------+------------+------------+-----------+-----------+-----------+-----------+-----------+-----------+-----------+-----------+-----------+------------+------------+------------+------------+------------+------------+------------+------------+-----------+-----------+-----------+-----------+-----------+-----------+-----------+-----------+-----------+------------+------------+------------+------------+------------+------------+------------+------------+-----------+-----------+-----------+-----------+-----------+-----------+-----------+-----------+-----------+------------+------------+------------+------------+------------+------------+------------+------------+-----------+-----------+-----------+-----------+-----------+-----------+-----------+-----------+-----------+------------+------------+------------+------------+------------+------------+------------+------------+-----------+-----------+-----------+-----------+-----------+-----------+-----------+-----------+-----------+------------+------------+------------+------------+------------+------------+------------+------------+-----------+-----------+-----------+-----------+-----------+-----------+-----------+-----------+-----------+------------+------------+------------+------------+------------+------------+------------+------------+-----------+-----------+-----------+-----------+-----------+-----------+-----------+-----------+-----------+------------+------------+------------+------------+------------+------------+------------+------------+-----------+-----------+-----------+-----------+-----------+-----------+-----------+-----------+-----------+------------+------------+------------+------------+------------+------------+------------+------------+-----------+-----------+-----------+-----------+-----------+-----------+-----------+-----------+-----------+------------+------------+------------+------------+------------+------------+------------+------------+-----------+-----------+-----------+-----------+-----------+-----------+-----------+-----------+-----------+------------+------------+------------+------------+------------+------------+------------+------------+-----------+-----------+-----------+-----------+-----------+-----------+-----------+-----------+-----------+------------+------------+------------+------------+------------+------------+------------+------------+-----------+-----------+-----------+-----------+-----------+-----------+-----------+-----------+-----------+------------+------------+------------+------------+------------+------------+------------+------------+-----------+-----------+-----------+-----------+-----------+-----------+-----------+-----------+-----------+------------+------------+------------+------------+------------+------------+------------+------------+-----------+-----------+-----------+-----------+-----------+-----------+-----------+-----------+-----------+------------+------------+------------+------------+------------+------------+------------+------------+-----------+-----------+-----------+-----------+-----------+-----------+-----------+-----------+-----------+------------+------------+------------+------------+------------+------------+------------+------------+-----------+-----------+-----------+-----------+-----------+-----------+-----------+-----------+-----------+------------+------------+------------+------------+------------+------------+------------+------------+-----------+-----------+-----------+-----------+-----------+-----------+-----------+-----------+-----------+------------+------------+------------+------------+------------+------------+------------+------------+-----------+-----------+-----------+-----------+-----------+-----------+-----------+-----------+-----------+------------+------------+------------+------------+------------+------------+------------+------------+-----------+-----------+-----------+-----------+-----------+-----------+-----------+-----------+-----------+------------+------------+------------+------------+------------+------------+------------+------------+-----------+-----------+-----------+-----------+-----------+-----------+-----------+-----------+-----------+------------+------------+------------+------------+------------+------------+------------+------------+-----------+-----------+-----------+-----------+-----------+-----------+-----------+-----------+-----------+------------+------------+------------+------------+------------+------------+------------+------------+-----------+-----------+-----------+-----------+-----------+-----------+-----------+-----------+-----------+------------+------------+------------+------------+------------+------------+------------+------------+-----------+-----------+-----------+-----------+-----------+-----------+-----------+-----------+-----------+------------+------------+------------+------------+------------+------------+------------+------------+-----------+-----------+-----------+-----------+-----------+-----------+-----------+-----------+-----------+------------+------------+------------+------------+------------+------------+------------+------------+-----------+-----------+-----------+-----------+-----------+-----------+-----------+-----------+-----------+------------+------------+------------+------------+------------+------------+------------+------------+-----------+-----------+-----------+-----------+-----------+-----------+-----------+-----------+-----------+------------+------------+------------+------------+------------+------------+------------+------------+-----------+-----------+-----------+-----------+-----------+-----------+-----------+-----------+-----------+------------+------------+------------+------------+------------+------------+------------+------------+-----------+-----------+-----------+-----------+-----------+-----------+-----------+-----------+-----------+------------+------------+------------+------------+------------+------------+------------+------------+-----------+-----------+-----------+-----------+-----------+-----------+-----------+-----------+-----------+------------+------------+------------+------------+------------+------------+------------+------------+-------+\n"
     ]
    }
   ],
   "source": [
    "step_headers.clear()\n",
    "for a in range(start,start + 31):\n",
    "    for b in range (1,18):\n",
    "        step_headers.append(f'<{a},{b}>')\n",
    "\n",
    "headers = [\"Classifier type\", \"pct_change\"]\n",
    "score_df = pd.DataFrame(predicted_classes.items(), columns=headers)\n",
    "# print(tabulate(score_df, headers, tablefmt=\"psql\"))\n",
    "headers2 = [\"Classifier type\", ] + step_headers\n",
    "score_df = pd.DataFrame(predicted_classes.items(), columns=headers)\n",
    "accuracy_df = pd.DataFrame(score_df['pct_change'].tolist(), index=score_df.index, columns=step_headers)\n",
    "score_df = score_df.drop('pct_change', 1)\n",
    "f_out: pd.DataFrame = pd.merge(score_df, accuracy_df, how='left', left_index=True, right_index=True)\n",
    "f_out['sum'] = f_out.sum(axis=1)\n",
    "f_out['sum'] = f_out['sum'].apply(lambda x: x+100)\n",
    "headers2 = headers2 + ['sum']\n",
    "print(tabulate(f_out, headers2, tablefmt=\"psql\"))\n",
    "\n",
    "filename_to_export = f'C:\\\\Users\\\\exomat\\\\Desktop\\\\repo\\\\magisterka_analiza\\\\data\\\\results\\\\simulation\\\\result_test_ta_all_predicted_classes_{symbol}_{WINDOW}_{datetime.now().strftime(\"%d_%m_%Y %H_%M_%S\")}.csv'\n",
    "f_out.to_csv(filename_to_export, index=False)"
   ],
   "metadata": {
    "collapsed": false,
    "pycharm": {
     "name": "#%%\n"
    }
   }
  },
  {
   "cell_type": "code",
   "execution_count": 43,
   "outputs": [
    {
     "name": "stdout",
     "output_type": "stream",
     "text": [
      "+----+-------------------+-----------+-----------+-----------+-----------+-----------+-----------+-----------+-----------+-----------+------------+------------+------------+------------+------------+------------+------------+------------+-----------+-----------+-----------+-----------+-----------+-----------+-----------+-----------+-----------+------------+------------+------------+------------+------------+------------+------------+------------+-----------+-----------+-----------+-----------+-----------+-----------+-----------+-----------+-----------+------------+------------+------------+------------+------------+------------+------------+------------+-----------+-----------+-----------+-----------+-----------+-----------+-----------+-----------+-----------+------------+------------+------------+------------+------------+------------+------------+------------+-----------+-----------+-----------+-----------+-----------+-----------+-----------+-----------+-----------+------------+------------+------------+------------+------------+------------+------------+------------+-----------+-----------+-----------+-----------+-----------+-----------+-----------+-----------+-----------+------------+------------+------------+------------+------------+------------+------------+------------+-----------+-----------+-----------+-----------+-----------+-----------+-----------+-----------+-----------+------------+------------+------------+------------+------------+------------+------------+------------+-----------+-----------+-----------+-----------+-----------+-----------+-----------+-----------+-----------+------------+------------+------------+------------+------------+------------+------------+------------+-----------+-----------+-----------+-----------+-----------+-----------+-----------+-----------+-----------+------------+------------+------------+------------+------------+------------+------------+------------+-----------+-----------+-----------+-----------+-----------+-----------+-----------+-----------+-----------+------------+------------+------------+------------+------------+------------+------------+------------+-----------+-----------+-----------+-----------+-----------+-----------+-----------+-----------+-----------+------------+------------+------------+------------+------------+------------+------------+------------+-----------+-----------+-----------+-----------+-----------+-----------+-----------+-----------+-----------+------------+------------+------------+------------+------------+------------+------------+------------+-----------+-----------+-----------+-----------+-----------+-----------+-----------+-----------+-----------+------------+------------+------------+------------+------------+------------+------------+------------+-----------+-----------+-----------+-----------+-----------+-----------+-----------+-----------+-----------+------------+------------+------------+------------+------------+------------+------------+------------+-----------+-----------+-----------+-----------+-----------+-----------+-----------+-----------+-----------+------------+------------+------------+------------+------------+------------+------------+------------+-----------+-----------+-----------+-----------+-----------+-----------+-----------+-----------+-----------+------------+------------+------------+------------+------------+------------+------------+------------+-----------+-----------+-----------+-----------+-----------+-----------+-----------+-----------+-----------+------------+------------+------------+------------+------------+------------+------------+------------+-----------+-----------+-----------+-----------+-----------+-----------+-----------+-----------+-----------+------------+------------+------------+------------+------------+------------+------------+------------+-----------+-----------+-----------+-----------+-----------+-----------+-----------+-----------+-----------+------------+------------+------------+------------+------------+------------+------------+------------+-----------+-----------+-----------+-----------+-----------+-----------+-----------+-----------+-----------+------------+------------+------------+------------+------------+------------+------------+------------+-----------+-----------+-----------+-----------+-----------+-----------+-----------+-----------+-----------+------------+------------+------------+------------+------------+------------+------------+------------+-----------+-----------+-----------+-----------+-----------+-----------+-----------+-----------+-----------+------------+------------+------------+------------+------------+------------+------------+------------+-----------+-----------+-----------+-----------+-----------+-----------+-----------+-----------+-----------+------------+------------+------------+------------+------------+------------+------------+------------+-----------+-----------+-----------+-----------+-----------+-----------+-----------+-----------+-----------+------------+------------+------------+------------+------------+------------+------------+------------+-----------+-----------+-----------+-----------+-----------+-----------+-----------+-----------+-----------+------------+------------+------------+------------+------------+------------+------------+------------+-----------+-----------+-----------+-----------+-----------+-----------+-----------+-----------+-----------+------------+------------+------------+------------+------------+------------+------------+------------+-----------+-----------+-----------+-----------+-----------+-----------+-----------+-----------+-----------+------------+------------+------------+------------+------------+------------+------------+------------+-----------+-----------+-----------+-----------+-----------+-----------+-----------+-----------+-----------+------------+------------+------------+------------+------------+------------+------------+------------+-----------+-----------+-----------+-----------+-----------+-----------+-----------+-----------+-----------+------------+------------+------------+------------+------------+------------+------------+------------+-----------+-----------+-----------+-----------+-----------+-----------+-----------+-----------+-----------+------------+------------+------------+------------+------------+------------+------------+------------+-----------+-----------+-----------+-----------+-----------+-----------+-----------+-----------+-----------+------------+------------+------------+------------+------------+------------+------------+------------+-------+\n",
      "|    | Classifier type   |   <100,1> |   <100,2> |   <100,3> |   <100,4> |   <100,5> |   <100,6> |   <100,7> |   <100,8> |   <100,9> |   <100,10> |   <100,11> |   <100,12> |   <100,13> |   <100,14> |   <100,15> |   <100,16> |   <100,17> |   <101,1> |   <101,2> |   <101,3> |   <101,4> |   <101,5> |   <101,6> |   <101,7> |   <101,8> |   <101,9> |   <101,10> |   <101,11> |   <101,12> |   <101,13> |   <101,14> |   <101,15> |   <101,16> |   <101,17> |   <102,1> |   <102,2> |   <102,3> |   <102,4> |   <102,5> |   <102,6> |   <102,7> |   <102,8> |   <102,9> |   <102,10> |   <102,11> |   <102,12> |   <102,13> |   <102,14> |   <102,15> |   <102,16> |   <102,17> |   <103,1> |   <103,2> |   <103,3> |   <103,4> |   <103,5> |   <103,6> |   <103,7> |   <103,8> |   <103,9> |   <103,10> |   <103,11> |   <103,12> |   <103,13> |   <103,14> |   <103,15> |   <103,16> |   <103,17> |   <104,1> |   <104,2> |   <104,3> |   <104,4> |   <104,5> |   <104,6> |   <104,7> |   <104,8> |   <104,9> |   <104,10> |   <104,11> |   <104,12> |   <104,13> |   <104,14> |   <104,15> |   <104,16> |   <104,17> |   <105,1> |   <105,2> |   <105,3> |   <105,4> |   <105,5> |   <105,6> |   <105,7> |   <105,8> |   <105,9> |   <105,10> |   <105,11> |   <105,12> |   <105,13> |   <105,14> |   <105,15> |   <105,16> |   <105,17> |   <106,1> |   <106,2> |   <106,3> |   <106,4> |   <106,5> |   <106,6> |   <106,7> |   <106,8> |   <106,9> |   <106,10> |   <106,11> |   <106,12> |   <106,13> |   <106,14> |   <106,15> |   <106,16> |   <106,17> |   <107,1> |   <107,2> |   <107,3> |   <107,4> |   <107,5> |   <107,6> |   <107,7> |   <107,8> |   <107,9> |   <107,10> |   <107,11> |   <107,12> |   <107,13> |   <107,14> |   <107,15> |   <107,16> |   <107,17> |   <108,1> |   <108,2> |   <108,3> |   <108,4> |   <108,5> |   <108,6> |   <108,7> |   <108,8> |   <108,9> |   <108,10> |   <108,11> |   <108,12> |   <108,13> |   <108,14> |   <108,15> |   <108,16> |   <108,17> |   <109,1> |   <109,2> |   <109,3> |   <109,4> |   <109,5> |   <109,6> |   <109,7> |   <109,8> |   <109,9> |   <109,10> |   <109,11> |   <109,12> |   <109,13> |   <109,14> |   <109,15> |   <109,16> |   <109,17> |   <110,1> |   <110,2> |   <110,3> |   <110,4> |   <110,5> |   <110,6> |   <110,7> |   <110,8> |   <110,9> |   <110,10> |   <110,11> |   <110,12> |   <110,13> |   <110,14> |   <110,15> |   <110,16> |   <110,17> |   <111,1> |   <111,2> |   <111,3> |   <111,4> |   <111,5> |   <111,6> |   <111,7> |   <111,8> |   <111,9> |   <111,10> |   <111,11> |   <111,12> |   <111,13> |   <111,14> |   <111,15> |   <111,16> |   <111,17> |   <112,1> |   <112,2> |   <112,3> |   <112,4> |   <112,5> |   <112,6> |   <112,7> |   <112,8> |   <112,9> |   <112,10> |   <112,11> |   <112,12> |   <112,13> |   <112,14> |   <112,15> |   <112,16> |   <112,17> |   <113,1> |   <113,2> |   <113,3> |   <113,4> |   <113,5> |   <113,6> |   <113,7> |   <113,8> |   <113,9> |   <113,10> |   <113,11> |   <113,12> |   <113,13> |   <113,14> |   <113,15> |   <113,16> |   <113,17> |   <114,1> |   <114,2> |   <114,3> |   <114,4> |   <114,5> |   <114,6> |   <114,7> |   <114,8> |   <114,9> |   <114,10> |   <114,11> |   <114,12> |   <114,13> |   <114,14> |   <114,15> |   <114,16> |   <114,17> |   <115,1> |   <115,2> |   <115,3> |   <115,4> |   <115,5> |   <115,6> |   <115,7> |   <115,8> |   <115,9> |   <115,10> |   <115,11> |   <115,12> |   <115,13> |   <115,14> |   <115,15> |   <115,16> |   <115,17> |   <116,1> |   <116,2> |   <116,3> |   <116,4> |   <116,5> |   <116,6> |   <116,7> |   <116,8> |   <116,9> |   <116,10> |   <116,11> |   <116,12> |   <116,13> |   <116,14> |   <116,15> |   <116,16> |   <116,17> |   <117,1> |   <117,2> |   <117,3> |   <117,4> |   <117,5> |   <117,6> |   <117,7> |   <117,8> |   <117,9> |   <117,10> |   <117,11> |   <117,12> |   <117,13> |   <117,14> |   <117,15> |   <117,16> |   <117,17> |   <118,1> |   <118,2> |   <118,3> |   <118,4> |   <118,5> |   <118,6> |   <118,7> |   <118,8> |   <118,9> |   <118,10> |   <118,11> |   <118,12> |   <118,13> |   <118,14> |   <118,15> |   <118,16> |   <118,17> |   <119,1> |   <119,2> |   <119,3> |   <119,4> |   <119,5> |   <119,6> |   <119,7> |   <119,8> |   <119,9> |   <119,10> |   <119,11> |   <119,12> |   <119,13> |   <119,14> |   <119,15> |   <119,16> |   <119,17> |   <120,1> |   <120,2> |   <120,3> |   <120,4> |   <120,5> |   <120,6> |   <120,7> |   <120,8> |   <120,9> |   <120,10> |   <120,11> |   <120,12> |   <120,13> |   <120,14> |   <120,15> |   <120,16> |   <120,17> |   <121,1> |   <121,2> |   <121,3> |   <121,4> |   <121,5> |   <121,6> |   <121,7> |   <121,8> |   <121,9> |   <121,10> |   <121,11> |   <121,12> |   <121,13> |   <121,14> |   <121,15> |   <121,16> |   <121,17> |   <122,1> |   <122,2> |   <122,3> |   <122,4> |   <122,5> |   <122,6> |   <122,7> |   <122,8> |   <122,9> |   <122,10> |   <122,11> |   <122,12> |   <122,13> |   <122,14> |   <122,15> |   <122,16> |   <122,17> |   <123,1> |   <123,2> |   <123,3> |   <123,4> |   <123,5> |   <123,6> |   <123,7> |   <123,8> |   <123,9> |   <123,10> |   <123,11> |   <123,12> |   <123,13> |   <123,14> |   <123,15> |   <123,16> |   <123,17> |   <124,1> |   <124,2> |   <124,3> |   <124,4> |   <124,5> |   <124,6> |   <124,7> |   <124,8> |   <124,9> |   <124,10> |   <124,11> |   <124,12> |   <124,13> |   <124,14> |   <124,15> |   <124,16> |   <124,17> |   <125,1> |   <125,2> |   <125,3> |   <125,4> |   <125,5> |   <125,6> |   <125,7> |   <125,8> |   <125,9> |   <125,10> |   <125,11> |   <125,12> |   <125,13> |   <125,14> |   <125,15> |   <125,16> |   <125,17> |   <126,1> |   <126,2> |   <126,3> |   <126,4> |   <126,5> |   <126,6> |   <126,7> |   <126,8> |   <126,9> |   <126,10> |   <126,11> |   <126,12> |   <126,13> |   <126,14> |   <126,15> |   <126,16> |   <126,17> |   <127,1> |   <127,2> |   <127,3> |   <127,4> |   <127,5> |   <127,6> |   <127,7> |   <127,8> |   <127,9> |   <127,10> |   <127,11> |   <127,12> |   <127,13> |   <127,14> |   <127,15> |   <127,16> |   <127,17> |   <128,1> |   <128,2> |   <128,3> |   <128,4> |   <128,5> |   <128,6> |   <128,7> |   <128,8> |   <128,9> |   <128,10> |   <128,11> |   <128,12> |   <128,13> |   <128,14> |   <128,15> |   <128,16> |   <128,17> |   <129,1> |   <129,2> |   <129,3> |   <129,4> |   <129,5> |   <129,6> |   <129,7> |   <129,8> |   <129,9> |   <129,10> |   <129,11> |   <129,12> |   <129,13> |   <129,14> |   <129,15> |   <129,16> |   <129,17> |   <130,1> |   <130,2> |   <130,3> |   <130,4> |   <130,5> |   <130,6> |   <130,7> |   <130,8> |   <130,9> |   <130,10> |   <130,11> |   <130,12> |   <130,13> |   <130,14> |   <130,15> |   <130,16> |   <130,17> |   sum |\n",
      "|----+-------------------+-----------+-----------+-----------+-----------+-----------+-----------+-----------+-----------+-----------+------------+------------+------------+------------+------------+------------+------------+------------+-----------+-----------+-----------+-----------+-----------+-----------+-----------+-----------+-----------+------------+------------+------------+------------+------------+------------+------------+------------+-----------+-----------+-----------+-----------+-----------+-----------+-----------+-----------+-----------+------------+------------+------------+------------+------------+------------+------------+------------+-----------+-----------+-----------+-----------+-----------+-----------+-----------+-----------+-----------+------------+------------+------------+------------+------------+------------+------------+------------+-----------+-----------+-----------+-----------+-----------+-----------+-----------+-----------+-----------+------------+------------+------------+------------+------------+------------+------------+------------+-----------+-----------+-----------+-----------+-----------+-----------+-----------+-----------+-----------+------------+------------+------------+------------+------------+------------+------------+------------+-----------+-----------+-----------+-----------+-----------+-----------+-----------+-----------+-----------+------------+------------+------------+------------+------------+------------+------------+------------+-----------+-----------+-----------+-----------+-----------+-----------+-----------+-----------+-----------+------------+------------+------------+------------+------------+------------+------------+------------+-----------+-----------+-----------+-----------+-----------+-----------+-----------+-----------+-----------+------------+------------+------------+------------+------------+------------+------------+------------+-----------+-----------+-----------+-----------+-----------+-----------+-----------+-----------+-----------+------------+------------+------------+------------+------------+------------+------------+------------+-----------+-----------+-----------+-----------+-----------+-----------+-----------+-----------+-----------+------------+------------+------------+------------+------------+------------+------------+------------+-----------+-----------+-----------+-----------+-----------+-----------+-----------+-----------+-----------+------------+------------+------------+------------+------------+------------+------------+------------+-----------+-----------+-----------+-----------+-----------+-----------+-----------+-----------+-----------+------------+------------+------------+------------+------------+------------+------------+------------+-----------+-----------+-----------+-----------+-----------+-----------+-----------+-----------+-----------+------------+------------+------------+------------+------------+------------+------------+------------+-----------+-----------+-----------+-----------+-----------+-----------+-----------+-----------+-----------+------------+------------+------------+------------+------------+------------+------------+------------+-----------+-----------+-----------+-----------+-----------+-----------+-----------+-----------+-----------+------------+------------+------------+------------+------------+------------+------------+------------+-----------+-----------+-----------+-----------+-----------+-----------+-----------+-----------+-----------+------------+------------+------------+------------+------------+------------+------------+------------+-----------+-----------+-----------+-----------+-----------+-----------+-----------+-----------+-----------+------------+------------+------------+------------+------------+------------+------------+------------+-----------+-----------+-----------+-----------+-----------+-----------+-----------+-----------+-----------+------------+------------+------------+------------+------------+------------+------------+------------+-----------+-----------+-----------+-----------+-----------+-----------+-----------+-----------+-----------+------------+------------+------------+------------+------------+------------+------------+------------+-----------+-----------+-----------+-----------+-----------+-----------+-----------+-----------+-----------+------------+------------+------------+------------+------------+------------+------------+------------+-----------+-----------+-----------+-----------+-----------+-----------+-----------+-----------+-----------+------------+------------+------------+------------+------------+------------+------------+------------+-----------+-----------+-----------+-----------+-----------+-----------+-----------+-----------+-----------+------------+------------+------------+------------+------------+------------+------------+------------+-----------+-----------+-----------+-----------+-----------+-----------+-----------+-----------+-----------+------------+------------+------------+------------+------------+------------+------------+------------+-----------+-----------+-----------+-----------+-----------+-----------+-----------+-----------+-----------+------------+------------+------------+------------+------------+------------+------------+------------+-----------+-----------+-----------+-----------+-----------+-----------+-----------+-----------+-----------+------------+------------+------------+------------+------------+------------+------------+------------+-----------+-----------+-----------+-----------+-----------+-----------+-----------+-----------+-----------+------------+------------+------------+------------+------------+------------+------------+------------+-----------+-----------+-----------+-----------+-----------+-----------+-----------+-----------+-----------+------------+------------+------------+------------+------------+------------+------------+------------+-----------+-----------+-----------+-----------+-----------+-----------+-----------+-----------+-----------+------------+------------+------------+------------+------------+------------+------------+------------+-----------+-----------+-----------+-----------+-----------+-----------+-----------+-----------+-----------+------------+------------+------------+------------+------------+------------+------------+------------+-----------+-----------+-----------+-----------+-----------+-----------+-----------+-----------+-----------+------------+------------+------------+------------+------------+------------+------------+------------+-------|\n",
      "|  0 | XGBRFClassifier 2 |        -1 |        -1 |        -1 |        -1 |        -1 |        -1 |        -1 |         0 |         0 |          1 |          1 |          1 |          1 |          1 |          1 |          1 |          1 |         1 |         0 |         0 |         1 |         0 |         1 |         0 |         0 |         0 |          0 |          0 |          0 |         -1 |         -1 |         -1 |         -1 |          0 |         1 |         1 |         1 |         1 |         0 |         0 |        -1 |        -1 |        -1 |         -1 |         -1 |          0 |         -1 |         -1 |          0 |         -1 |         -1 |        -1 |        -1 |        -1 |        -1 |        -1 |        -1 |        -1 |        -1 |        -1 |         -1 |         -1 |         -1 |         -1 |         -1 |          1 |          1 |          1 |         1 |         1 |         1 |         1 |         1 |         1 |         1 |         1 |         1 |          1 |          1 |          1 |          1 |          1 |          1 |          1 |          0 |         0 |         1 |        -1 |        -1 |        -1 |        -1 |        -1 |        -1 |        -1 |         -1 |         -1 |         -1 |         -1 |         -1 |         -1 |         -1 |         -1 |        -1 |        -1 |        -1 |        -1 |        -1 |        -1 |        -1 |        -1 |        -1 |         -1 |         -1 |         -1 |         -1 |         -1 |         -1 |         -1 |         -1 |        -1 |        -1 |        -1 |        -1 |        -1 |        -1 |        -1 |        -1 |        -1 |          0 |          0 |          0 |         -1 |          0 |          1 |         -1 |         -1 |        -1 |        -1 |        -1 |        -1 |        -1 |        -1 |        -1 |        -1 |        -1 |         -1 |         -1 |         -1 |         -1 |         -1 |         -1 |          1 |         -1 |         0 |         1 |         1 |         1 |         1 |         1 |         0 |         1 |         1 |          0 |         -1 |         -1 |         -1 |         -1 |         -1 |         -1 |         -1 |        -1 |        -1 |        -1 |        -1 |        -1 |        -1 |        -1 |        -1 |        -1 |         -1 |         -1 |         -1 |         -1 |         -1 |         -1 |         -1 |         -1 |        -1 |         0 |         1 |         1 |         1 |         1 |         1 |         1 |         1 |          1 |          1 |          1 |          1 |          1 |          1 |          1 |          1 |         1 |         1 |         1 |         1 |         1 |         1 |         1 |         1 |         1 |          1 |          1 |          1 |          1 |          1 |         -1 |          0 |         -1 |        -1 |        -1 |        -1 |        -1 |        -1 |        -1 |        -1 |        -1 |        -1 |         -1 |          1 |          1 |          1 |          1 |          1 |          1 |          1 |         1 |         1 |         0 |        -1 |        -1 |         0 |         0 |        -1 |         0 |          0 |          0 |         -1 |         -1 |         -1 |         -1 |         -1 |         -1 |        -1 |        -1 |        -1 |        -1 |        -1 |        -1 |        -1 |        -1 |        -1 |         -1 |         -1 |         -1 |         -1 |         -1 |         -1 |         -1 |         -1 |        -1 |        -1 |        -1 |        -1 |        -1 |        -1 |        -1 |        -1 |        -1 |         -1 |         -1 |         -1 |         -1 |         -1 |         -1 |         -1 |          1 |         1 |         1 |         1 |         1 |         1 |         1 |         1 |        -1 |         0 |          1 |          1 |          1 |          1 |          1 |          1 |          1 |          1 |        -1 |        -1 |        -1 |         0 |         0 |        -1 |         1 |         0 |         0 |          0 |         -1 |         -1 |         -1 |         -1 |         -1 |         -1 |          0 |        -1 |        -1 |        -1 |        -1 |        -1 |        -1 |        -1 |        -1 |        -1 |         -1 |         -1 |         -1 |         -1 |         -1 |         -1 |         -1 |         -1 |        -1 |        -1 |         0 |         1 |         1 |         1 |         1 |         1 |        -1 |          1 |          1 |          1 |          1 |          1 |          1 |          1 |          1 |        -1 |        -1 |        -1 |        -1 |        -1 |        -1 |        -1 |         0 |        -1 |         -1 |         -1 |         -1 |         -1 |         -1 |         -1 |         -1 |          0 |         1 |         1 |         1 |         1 |         1 |        -1 |        -1 |        -1 |        -1 |          0 |          1 |          1 |          1 |          1 |          1 |         -1 |         -1 |        -1 |        -1 |        -1 |        -1 |        -1 |        -1 |        -1 |        -1 |        -1 |         -1 |         -1 |         -1 |          0 |         -1 |         -1 |          1 |          1 |         1 |         1 |         1 |         1 |         1 |         0 |         1 |         1 |         1 |          1 |          1 |         -1 |         -1 |         -1 |         -1 |         -1 |         -1 |         1 |         1 |         1 |         1 |         1 |        -1 |         0 |         0 |        -1 |         -1 |         -1 |         -1 |         -1 |         -1 |         -1 |         -1 |         -1 |        -1 |        -1 |        -1 |        -1 |        -1 |        -1 |        -1 |        -1 |        -1 |         -1 |         -1 |         -1 |         -1 |         -1 |         -1 |         -1 |          1 |         1 |         1 |         1 |         0 |         1 |         1 |         1 |         1 |         1 |          1 |          1 |          1 |          1 |          1 |          1 |          1 |          1 |         1 |         1 |         1 |         1 |         1 |         1 |         1 |         1 |         1 |          1 |          1 |          1 |         -1 |          0 |         -1 |          0 |         -1 |        -1 |        -1 |        -1 |        -1 |        -1 |        -1 |        -1 |        -1 |         0 |         -1 |         -1 |          1 |          1 |          1 |          1 |          1 |          1 |         1 |         1 |         1 |         1 |         1 |         0 |        -1 |        -1 |        -1 |         -1 |          0 |         -1 |         -1 |         -1 |         -1 |         -1 |         -1 |   -15 |\n",
      "+----+-------------------+-----------+-----------+-----------+-----------+-----------+-----------+-----------+-----------+-----------+------------+------------+------------+------------+------------+------------+------------+------------+-----------+-----------+-----------+-----------+-----------+-----------+-----------+-----------+-----------+------------+------------+------------+------------+------------+------------+------------+------------+-----------+-----------+-----------+-----------+-----------+-----------+-----------+-----------+-----------+------------+------------+------------+------------+------------+------------+------------+------------+-----------+-----------+-----------+-----------+-----------+-----------+-----------+-----------+-----------+------------+------------+------------+------------+------------+------------+------------+------------+-----------+-----------+-----------+-----------+-----------+-----------+-----------+-----------+-----------+------------+------------+------------+------------+------------+------------+------------+------------+-----------+-----------+-----------+-----------+-----------+-----------+-----------+-----------+-----------+------------+------------+------------+------------+------------+------------+------------+------------+-----------+-----------+-----------+-----------+-----------+-----------+-----------+-----------+-----------+------------+------------+------------+------------+------------+------------+------------+------------+-----------+-----------+-----------+-----------+-----------+-----------+-----------+-----------+-----------+------------+------------+------------+------------+------------+------------+------------+------------+-----------+-----------+-----------+-----------+-----------+-----------+-----------+-----------+-----------+------------+------------+------------+------------+------------+------------+------------+------------+-----------+-----------+-----------+-----------+-----------+-----------+-----------+-----------+-----------+------------+------------+------------+------------+------------+------------+------------+------------+-----------+-----------+-----------+-----------+-----------+-----------+-----------+-----------+-----------+------------+------------+------------+------------+------------+------------+------------+------------+-----------+-----------+-----------+-----------+-----------+-----------+-----------+-----------+-----------+------------+------------+------------+------------+------------+------------+------------+------------+-----------+-----------+-----------+-----------+-----------+-----------+-----------+-----------+-----------+------------+------------+------------+------------+------------+------------+------------+------------+-----------+-----------+-----------+-----------+-----------+-----------+-----------+-----------+-----------+------------+------------+------------+------------+------------+------------+------------+------------+-----------+-----------+-----------+-----------+-----------+-----------+-----------+-----------+-----------+------------+------------+------------+------------+------------+------------+------------+------------+-----------+-----------+-----------+-----------+-----------+-----------+-----------+-----------+-----------+------------+------------+------------+------------+------------+------------+------------+------------+-----------+-----------+-----------+-----------+-----------+-----------+-----------+-----------+-----------+------------+------------+------------+------------+------------+------------+------------+------------+-----------+-----------+-----------+-----------+-----------+-----------+-----------+-----------+-----------+------------+------------+------------+------------+------------+------------+------------+------------+-----------+-----------+-----------+-----------+-----------+-----------+-----------+-----------+-----------+------------+------------+------------+------------+------------+------------+------------+------------+-----------+-----------+-----------+-----------+-----------+-----------+-----------+-----------+-----------+------------+------------+------------+------------+------------+------------+------------+------------+-----------+-----------+-----------+-----------+-----------+-----------+-----------+-----------+-----------+------------+------------+------------+------------+------------+------------+------------+------------+-----------+-----------+-----------+-----------+-----------+-----------+-----------+-----------+-----------+------------+------------+------------+------------+------------+------------+------------+------------+-----------+-----------+-----------+-----------+-----------+-----------+-----------+-----------+-----------+------------+------------+------------+------------+------------+------------+------------+------------+-----------+-----------+-----------+-----------+-----------+-----------+-----------+-----------+-----------+------------+------------+------------+------------+------------+------------+------------+------------+-----------+-----------+-----------+-----------+-----------+-----------+-----------+-----------+-----------+------------+------------+------------+------------+------------+------------+------------+------------+-----------+-----------+-----------+-----------+-----------+-----------+-----------+-----------+-----------+------------+------------+------------+------------+------------+------------+------------+------------+-----------+-----------+-----------+-----------+-----------+-----------+-----------+-----------+-----------+------------+------------+------------+------------+------------+------------+------------+------------+-----------+-----------+-----------+-----------+-----------+-----------+-----------+-----------+-----------+------------+------------+------------+------------+------------+------------+------------+------------+-----------+-----------+-----------+-----------+-----------+-----------+-----------+-----------+-----------+------------+------------+------------+------------+------------+------------+------------+------------+-----------+-----------+-----------+-----------+-----------+-----------+-----------+-----------+-----------+------------+------------+------------+------------+------------+------------+------------+------------+-----------+-----------+-----------+-----------+-----------+-----------+-----------+-----------+-----------+------------+------------+------------+------------+------------+------------+------------+------------+-------+\n"
     ]
    }
   ],
   "source": [
    "step_headers.clear()\n",
    "for a in range(start,start + 31):\n",
    "    for b in range (1,18):\n",
    "        step_headers.append(f'<{a},{b}>')\n",
    "\n",
    "headers = [\"Classifier type\", \"pct_change\"]\n",
    "score_df = pd.DataFrame(correct_classes.items(), columns=headers)\n",
    "# print(tabulate(score_df, headers, tablefmt=\"psql\"))\n",
    "headers2 = [\"Classifier type\", ] + step_headers\n",
    "score_df = pd.DataFrame(correct_classes.items(), columns=headers)\n",
    "accuracy_df = pd.DataFrame(score_df['pct_change'].tolist(), index=score_df.index, columns=step_headers)\n",
    "score_df = score_df.drop('pct_change', 1)\n",
    "f_out: pd.DataFrame = pd.merge(score_df, accuracy_df, how='left', left_index=True, right_index=True)\n",
    "f_out['sum'] = f_out.sum(axis=1)\n",
    "f_out['sum'] = f_out['sum'].apply(lambda x: x+100)\n",
    "headers2 = headers2 + ['sum']\n",
    "print(tabulate(f_out, headers2, tablefmt=\"psql\"))\n",
    "\n",
    "filename_to_export = f'C:\\\\Users\\\\exomat\\\\Desktop\\\\repo\\\\magisterka_analiza\\\\data\\\\results\\\\simulation\\\\result_test_ta_all_correct_classes_{symbol}_{WINDOW}_{datetime.now().strftime(\"%d_%m_%Y %H_%M_%S\")}.csv'\n",
    "f_out.to_csv(filename_to_export, index=False)"
   ],
   "metadata": {
    "collapsed": false,
    "pycharm": {
     "name": "#%%\n"
    }
   }
  },
  {
   "cell_type": "code",
   "execution_count": 44,
   "outputs": [
    {
     "data": {
      "text/plain": "'79.9075, 80.25, 80.25, 80.3125, 80.265, 80.39755, 80.3825, 80.58999633789062, 81.04000091552734, 81.19999694824219, 81.2750015258789, 81.23999786376953, 81.3499984741211, 81.80000305175781, 81.8, 81.7125, 81.8'"
     },
     "execution_count": 44,
     "metadata": {},
     "output_type": "execute_result"
    }
   ],
   "source": [
    "cenka = []\n",
    "\n",
    "', '.join(map(str, data['close'][1700+16:1717+16].tolist()))"
   ],
   "metadata": {
    "collapsed": false,
    "pycharm": {
     "name": "#%%\n"
    }
   }
  },
  {
   "cell_type": "code",
   "execution_count": 45,
   "outputs": [],
   "source": [
    "cenka = []\n",
    "for i in range (0,17*31):\n",
    "    cenka.append( data['close'][(99*17) +WINDOW +i])\n",
    "\n",
    "b = ', '.join(map(str, cenka))"
   ],
   "metadata": {
    "collapsed": false,
    "pycharm": {
     "name": "#%%\n"
    }
   }
  },
  {
   "cell_type": "code",
   "execution_count": 46,
   "outputs": [
    {
     "ename": "TypeError",
     "evalue": "'int' object is not iterable",
     "output_type": "error",
     "traceback": [
      "\u001B[1;31m---------------------------------------------------------------------------\u001B[0m",
      "\u001B[1;31mTypeError\u001B[0m                                 Traceback (most recent call last)",
      "\u001B[1;32m<ipython-input-46-b08b35deaaff>\u001B[0m in \u001B[0;36m<module>\u001B[1;34m\u001B[0m\n\u001B[0;32m      1\u001B[0m \u001B[0mtemp\u001B[0m \u001B[1;33m=\u001B[0m \u001B[1;33m[\u001B[0m\u001B[1;33m]\u001B[0m\u001B[1;33m\u001B[0m\u001B[1;33m\u001B[0m\u001B[0m\n\u001B[0;32m      2\u001B[0m \u001B[1;32mfor\u001B[0m \u001B[0mav\u001B[0m \u001B[1;32min\u001B[0m \u001B[0mcorrect_classes\u001B[0m\u001B[1;33m[\u001B[0m\u001B[1;34m'XGBRFClassifier 2'\u001B[0m\u001B[1;33m]\u001B[0m\u001B[1;33m:\u001B[0m\u001B[1;33m\u001B[0m\u001B[1;33m\u001B[0m\u001B[0m\n\u001B[1;32m----> 3\u001B[1;33m    \u001B[0mtemp\u001B[0m\u001B[1;33m.\u001B[0m\u001B[0mextend\u001B[0m\u001B[1;33m(\u001B[0m\u001B[0mav\u001B[0m\u001B[1;33m.\u001B[0m\u001B[0mtolist\u001B[0m\u001B[1;33m(\u001B[0m\u001B[1;33m)\u001B[0m\u001B[1;33m)\u001B[0m\u001B[1;33m\u001B[0m\u001B[1;33m\u001B[0m\u001B[0m\n\u001B[0m\u001B[0;32m      4\u001B[0m \u001B[1;33m\u001B[0m\u001B[0m\n",
      "\u001B[1;31mTypeError\u001B[0m: 'int' object is not iterable"
     ]
    }
   ],
   "source": [
    "temp = []\n",
    "for av in correct_classes['XGBRFClassifier 2']:\n",
    "   temp.extend(av.tolist())"
   ],
   "metadata": {
    "collapsed": false,
    "pycharm": {
     "name": "#%%\n"
    }
   }
  },
  {
   "cell_type": "code",
   "execution_count": null,
   "outputs": [],
   "source": [
    "b = ', '.join(map(str, temp))"
   ],
   "metadata": {
    "collapsed": false,
    "pycharm": {
     "name": "#%%\n"
    }
   }
  },
  {
   "cell_type": "code",
   "execution_count": null,
   "outputs": [],
   "source": [
    "b"
   ],
   "metadata": {
    "collapsed": false,
    "pycharm": {
     "name": "#%%\n"
    }
   }
  },
  {
   "cell_type": "code",
   "execution_count": null,
   "outputs": [],
   "source": [],
   "metadata": {
    "collapsed": false,
    "pycharm": {
     "name": "#%%\n"
    }
   }
  }
 ],
 "metadata": {
  "kernelspec": {
   "name": "magisterka_analiza",
   "language": "python",
   "display_name": "Python magisterka"
  },
  "language_info": {
   "codemirror_mode": {
    "name": "ipython",
    "version": 2
   },
   "file_extension": ".py",
   "mimetype": "text/x-python",
   "name": "python",
   "nbconvert_exporter": "python",
   "pygments_lexer": "ipython2",
   "version": "2.7.6"
  }
 },
 "nbformat": 4,
 "nbformat_minor": 0
}