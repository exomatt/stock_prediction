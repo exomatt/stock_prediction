{
 "cells": [
  {
   "cell_type": "code",
   "execution_count": 123,
   "outputs": [],
   "source": [
    "from collections import defaultdict\n",
    "\n",
    "import yfinance as yf\n",
    "from datetime import datetime\n",
    "import pandas as pd\n",
    "import numpy as np\n",
    "import matplotlib.pyplot as plt\n",
    "from finta import TA\n",
    "import numpy as np\n",
    "from sklearn.ensemble import RandomForestClassifier, VotingClassifier\n",
    "from sklearn.model_selection import GridSearchCV, train_test_split\n",
    "from sklearn.preprocessing import MinMaxScaler\n",
    "from sklearn.tree import DecisionTreeClassifier\n",
    "from sklearn.ensemble import GradientBoostingClassifier\n",
    "from sklearn.metrics import confusion_matrix, classification_report, accuracy_score\n",
    "from sklearn.metrics import jaccard_score\n",
    "import seaborn as sn\n",
    "from tabulate import tabulate\n",
    "from xgboost import XGBClassifier\n",
    "from ta import add_all_ta_features\n",
    "from sklearn.feature_selection import RFE\n",
    "import xgboost as xgb"
   ],
   "metadata": {
    "collapsed": false,
    "pycharm": {
     "name": "#%%\n"
    }
   }
  },
  {
   "cell_type": "code",
   "execution_count": 124,
   "outputs": [],
   "source": [
    "WINDOW = 16  # number of rows to look ahead to see what the price did\n",
    "FETCH_INTERVAL = \"60m\"  # fetch data by interval (including intraday if period < 60 days)\n",
    "# valid intervals: 1m,2m,5m,15m,30m,60m,90m,1h,1d,5d,1wk,1mo,3mo\n",
    "# (optional, default is '1d')\n",
    "INTERVAL = '2y'  # use \"period\" instead of start/end\n",
    "# valid periods: 1d,5d,1mo,3mo,6mo,1y,2y,5y,10y,ytd,max\n",
    "# (optional, default is '1mo')\n",
    "symbol = 'AAPL'  # Symbol of the desired stock\n",
    "\n",
    "# one day 16 rows of data\n"
   ],
   "metadata": {
    "collapsed": false,
    "pycharm": {
     "name": "#%%\n"
    }
   }
  },
  {
   "cell_type": "code",
   "execution_count": 125,
   "outputs": [
    {
     "name": "stdout",
     "output_type": "stream",
     "text": [
      "[*********************100%***********************]  1 of 1 completed\n"
     ]
    },
    {
     "data": {
      "text/plain": "                               Open        High         Low       Close  \\\nDatetime                                                                  \n2019-09-04 04:00:00-04:00   52.2250   52.295000   52.197500   52.255000   \n2019-09-04 05:00:00-04:00   52.2450   52.275000   52.142500   52.185000   \n2019-09-04 06:00:00-04:00   52.1825   52.182500   52.057500   52.057500   \n2019-09-04 07:00:00-04:00   52.1175   52.122500   52.005000   52.062500   \n2019-09-04 08:00:00-04:00   52.0400   52.175000   52.037500   52.137500   \n...                             ...         ...         ...         ...   \n2021-09-03 15:30:00-04:00  154.2500  154.449997  154.160004  154.309998   \n2021-09-03 16:00:00-04:00  154.3100  154.380000  146.520300  154.235000   \n2021-09-03 17:00:00-04:00  154.2200  154.340000  154.220000  154.280000   \n2021-09-03 18:00:00-04:00  154.2700  154.340000  153.989900  154.290000   \n2021-09-03 19:00:00-04:00  154.2900  154.340000  154.250000  154.290000   \n\n                            Adj Close   Volume  \nDatetime                                        \n2019-09-04 04:00:00-04:00   52.255000        0  \n2019-09-04 05:00:00-04:00   52.185000        0  \n2019-09-04 06:00:00-04:00   52.057500        0  \n2019-09-04 07:00:00-04:00   52.062500        0  \n2019-09-04 08:00:00-04:00   52.137500        0  \n...                               ...      ...  \n2021-09-03 15:30:00-04:00  154.309998  5675878  \n2021-09-03 16:00:00-04:00  154.235000        0  \n2021-09-03 17:00:00-04:00  154.280000        0  \n2021-09-03 18:00:00-04:00  154.290000        0  \n2021-09-03 19:00:00-04:00  154.290000        0  \n\n[8396 rows x 6 columns]",
      "text/html": "<div>\n<style scoped>\n    .dataframe tbody tr th:only-of-type {\n        vertical-align: middle;\n    }\n\n    .dataframe tbody tr th {\n        vertical-align: top;\n    }\n\n    .dataframe thead th {\n        text-align: right;\n    }\n</style>\n<table border=\"1\" class=\"dataframe\">\n  <thead>\n    <tr style=\"text-align: right;\">\n      <th></th>\n      <th>Open</th>\n      <th>High</th>\n      <th>Low</th>\n      <th>Close</th>\n      <th>Adj Close</th>\n      <th>Volume</th>\n    </tr>\n    <tr>\n      <th>Datetime</th>\n      <th></th>\n      <th></th>\n      <th></th>\n      <th></th>\n      <th></th>\n      <th></th>\n    </tr>\n  </thead>\n  <tbody>\n    <tr>\n      <th>2019-09-04 04:00:00-04:00</th>\n      <td>52.2250</td>\n      <td>52.295000</td>\n      <td>52.197500</td>\n      <td>52.255000</td>\n      <td>52.255000</td>\n      <td>0</td>\n    </tr>\n    <tr>\n      <th>2019-09-04 05:00:00-04:00</th>\n      <td>52.2450</td>\n      <td>52.275000</td>\n      <td>52.142500</td>\n      <td>52.185000</td>\n      <td>52.185000</td>\n      <td>0</td>\n    </tr>\n    <tr>\n      <th>2019-09-04 06:00:00-04:00</th>\n      <td>52.1825</td>\n      <td>52.182500</td>\n      <td>52.057500</td>\n      <td>52.057500</td>\n      <td>52.057500</td>\n      <td>0</td>\n    </tr>\n    <tr>\n      <th>2019-09-04 07:00:00-04:00</th>\n      <td>52.1175</td>\n      <td>52.122500</td>\n      <td>52.005000</td>\n      <td>52.062500</td>\n      <td>52.062500</td>\n      <td>0</td>\n    </tr>\n    <tr>\n      <th>2019-09-04 08:00:00-04:00</th>\n      <td>52.0400</td>\n      <td>52.175000</td>\n      <td>52.037500</td>\n      <td>52.137500</td>\n      <td>52.137500</td>\n      <td>0</td>\n    </tr>\n    <tr>\n      <th>...</th>\n      <td>...</td>\n      <td>...</td>\n      <td>...</td>\n      <td>...</td>\n      <td>...</td>\n      <td>...</td>\n    </tr>\n    <tr>\n      <th>2021-09-03 15:30:00-04:00</th>\n      <td>154.2500</td>\n      <td>154.449997</td>\n      <td>154.160004</td>\n      <td>154.309998</td>\n      <td>154.309998</td>\n      <td>5675878</td>\n    </tr>\n    <tr>\n      <th>2021-09-03 16:00:00-04:00</th>\n      <td>154.3100</td>\n      <td>154.380000</td>\n      <td>146.520300</td>\n      <td>154.235000</td>\n      <td>154.235000</td>\n      <td>0</td>\n    </tr>\n    <tr>\n      <th>2021-09-03 17:00:00-04:00</th>\n      <td>154.2200</td>\n      <td>154.340000</td>\n      <td>154.220000</td>\n      <td>154.280000</td>\n      <td>154.280000</td>\n      <td>0</td>\n    </tr>\n    <tr>\n      <th>2021-09-03 18:00:00-04:00</th>\n      <td>154.2700</td>\n      <td>154.340000</td>\n      <td>153.989900</td>\n      <td>154.290000</td>\n      <td>154.290000</td>\n      <td>0</td>\n    </tr>\n    <tr>\n      <th>2021-09-03 19:00:00-04:00</th>\n      <td>154.2900</td>\n      <td>154.340000</td>\n      <td>154.250000</td>\n      <td>154.290000</td>\n      <td>154.290000</td>\n      <td>0</td>\n    </tr>\n  </tbody>\n</table>\n<p>8396 rows × 6 columns</p>\n</div>"
     },
     "execution_count": 125,
     "metadata": {},
     "output_type": "execute_result"
    }
   ],
   "source": [
    "data = yf.download(  # or pdr.get_data_yahoo(...\n",
    "    tickers=symbol,\n",
    "\n",
    "    period=INTERVAL,\n",
    "\n",
    "    interval=FETCH_INTERVAL,\n",
    "\n",
    "    # group by ticker (to access via data['SPY'])\n",
    "    # (optional, default is 'column')\n",
    "    group_by='ticker',\n",
    "\n",
    "    # adjust all OHLC automatically\n",
    "    # (optional, default is False)\n",
    "    # auto_adjust = True,\n",
    "\n",
    "    # download pre/post regular market hours data\n",
    "    # (optional, default is False)\n",
    "    prepost=True,\n",
    "\n",
    "    # use threads for mass downloading? (True/False/Integer)\n",
    "    # (optional, default is True)\n",
    "    threads=False,\n",
    "\n",
    "    # proxy URL scheme use use when downloading?\n",
    "    # (optional, default is None)\n",
    "    proxy=None\n",
    ")\n",
    "data"
   ],
   "metadata": {
    "collapsed": false,
    "pycharm": {
     "name": "#%%\n"
    }
   }
  },
  {
   "cell_type": "code",
   "execution_count": 126,
   "outputs": [],
   "source": [
    "data.rename(columns={\"Close\": 'close', \"High\": 'high', \"Low\": 'low', 'Volume': 'volume', 'Open': 'open'}, inplace=True)\n",
    "data.head(10)\n",
    "important_columns = ['open', 'high', 'low', 'close', 'volume']"
   ],
   "metadata": {
    "collapsed": false,
    "pycharm": {
     "name": "#%%\n"
    }
   }
  },
  {
   "cell_type": "code",
   "execution_count": 127,
   "outputs": [],
   "source": [
    "\n",
    "def calculate_diffs(diff_number, col_name):\n",
    "    new_col_name = f'{col_name}_{diff_number}'\n",
    "    data[new_col_name] = data[col_name].diff(diff_number)"
   ],
   "metadata": {
    "collapsed": false,
    "pycharm": {
     "name": "#%%\n"
    }
   }
  },
  {
   "cell_type": "code",
   "execution_count": 128,
   "outputs": [],
   "source": [
    "# for name in important_columns:\n",
    "#     for i in range(1, 11):\n",
    "#         calculate_diffs(i, name)\n",
    "#\n",
    "# data.head(10)"
   ],
   "metadata": {
    "collapsed": false,
    "pycharm": {
     "name": "#%%\n"
    }
   }
  },
  {
   "cell_type": "code",
   "execution_count": 129,
   "outputs": [],
   "source": [
    "data = data.dropna()"
   ],
   "metadata": {
    "collapsed": false,
    "pycharm": {
     "name": "#%%\n"
    }
   }
  },
  {
   "cell_type": "code",
   "execution_count": 130,
   "outputs": [
    {
     "data": {
      "text/plain": "<AxesSubplot:xlabel='Datetime'>"
     },
     "execution_count": 130,
     "metadata": {},
     "output_type": "execute_result"
    },
    {
     "data": {
      "text/plain": "<Figure size 432x288 with 1 Axes>",
      "image/png": "[encoded data removed]"
     },
     "metadata": {
      "needs_background": "light"
     },
     "output_type": "display_data"
    }
   ],
   "source": [
    "data['close'].plot()"
   ],
   "metadata": {
    "collapsed": false,
    "pycharm": {
     "name": "#%%\n"
    }
   }
  },
  {
   "cell_type": "code",
   "execution_count": 131,
   "outputs": [
    {
     "data": {
      "text/plain": "                              open     high      low    close  Adj Close  \\\nDatetime                                                                   \n2019-09-04 04:00:00-04:00  52.2250  52.2950  52.1975  52.2550    52.2550   \n2019-09-04 05:00:00-04:00  52.2450  52.2750  52.1425  52.1850    52.1850   \n2019-09-04 06:00:00-04:00  52.1825  52.1825  52.0575  52.0575    52.0575   \n2019-09-04 07:00:00-04:00  52.1175  52.1225  52.0050  52.0625    52.0625   \n2019-09-04 08:00:00-04:00  52.0400  52.1750  52.0375  52.1375    52.1375   \n\n                           volume  close_pct  \nDatetime                                      \n2019-09-04 04:00:00-04:00       0        NaN  \n2019-09-04 05:00:00-04:00       0  -0.001340  \n2019-09-04 06:00:00-04:00       0  -0.002443  \n2019-09-04 07:00:00-04:00       0   0.000096  \n2019-09-04 08:00:00-04:00       0   0.001441  ",
      "text/html": "<div>\n<style scoped>\n    .dataframe tbody tr th:only-of-type {\n        vertical-align: middle;\n    }\n\n    .dataframe tbody tr th {\n        vertical-align: top;\n    }\n\n    .dataframe thead th {\n        text-align: right;\n    }\n</style>\n<table border=\"1\" class=\"dataframe\">\n  <thead>\n    <tr style=\"text-align: right;\">\n      <th></th>\n      <th>open</th>\n      <th>high</th>\n      <th>low</th>\n      <th>close</th>\n      <th>Adj Close</th>\n      <th>volume</th>\n      <th>close_pct</th>\n    </tr>\n    <tr>\n      <th>Datetime</th>\n      <th></th>\n      <th></th>\n      <th></th>\n      <th></th>\n      <th></th>\n      <th></th>\n      <th></th>\n    </tr>\n  </thead>\n  <tbody>\n    <tr>\n      <th>2019-09-04 04:00:00-04:00</th>\n      <td>52.2250</td>\n      <td>52.2950</td>\n      <td>52.1975</td>\n      <td>52.2550</td>\n      <td>52.2550</td>\n      <td>0</td>\n      <td>NaN</td>\n    </tr>\n    <tr>\n      <th>2019-09-04 05:00:00-04:00</th>\n      <td>52.2450</td>\n      <td>52.2750</td>\n      <td>52.1425</td>\n      <td>52.1850</td>\n      <td>52.1850</td>\n      <td>0</td>\n      <td>-0.001340</td>\n    </tr>\n    <tr>\n      <th>2019-09-04 06:00:00-04:00</th>\n      <td>52.1825</td>\n      <td>52.1825</td>\n      <td>52.0575</td>\n      <td>52.0575</td>\n      <td>52.0575</td>\n      <td>0</td>\n      <td>-0.002443</td>\n    </tr>\n    <tr>\n      <th>2019-09-04 07:00:00-04:00</th>\n      <td>52.1175</td>\n      <td>52.1225</td>\n      <td>52.0050</td>\n      <td>52.0625</td>\n      <td>52.0625</td>\n      <td>0</td>\n      <td>0.000096</td>\n    </tr>\n    <tr>\n      <th>2019-09-04 08:00:00-04:00</th>\n      <td>52.0400</td>\n      <td>52.1750</td>\n      <td>52.0375</td>\n      <td>52.1375</td>\n      <td>52.1375</td>\n      <td>0</td>\n      <td>0.001441</td>\n    </tr>\n  </tbody>\n</table>\n</div>"
     },
     "execution_count": 131,
     "metadata": {},
     "output_type": "execute_result"
    }
   ],
   "source": [
    "data['close_pct'] = data['close'].pct_change()\n",
    "data.head()"
   ],
   "metadata": {
    "collapsed": false,
    "pycharm": {
     "name": "#%%\n"
    }
   }
  },
  {
   "cell_type": "code",
   "execution_count": 132,
   "outputs": [
    {
     "data": {
      "text/plain": "              open         high          low        close    Adj Close  \\\ncount  8396.000000  8396.000000  8396.000000  8396.000000  8396.000000   \nmean    102.964636   103.386105   102.443079   102.969560   102.969560   \nstd      30.003943    30.356120    29.835555    30.000842    30.000842   \nmin      51.902500    52.029999    50.978220    51.907501    51.907501   \n25%      73.162500    73.437502    72.779373    73.197323    73.197323   \n50%     113.931250   114.401451   113.042500   113.926251   113.926251   \n75%     127.820000   128.300000   127.200000   127.805002   127.805002   \nmax     154.690002   438.440000   154.389999   154.690002   154.690002   \n\n             volume    close_pct  \ncount  8.396000e+03  8395.000000  \nmean   3.847138e+06     0.000146  \nstd    6.954359e+06     0.005807  \nmin    0.000000e+00    -0.085960  \n25%    0.000000e+00    -0.001620  \n50%    0.000000e+00     0.000094  \n75%    5.646446e+06     0.001966  \nmax    9.845401e+07     0.078661  ",
      "text/html": "<div>\n<style scoped>\n    .dataframe tbody tr th:only-of-type {\n        vertical-align: middle;\n    }\n\n    .dataframe tbody tr th {\n        vertical-align: top;\n    }\n\n    .dataframe thead th {\n        text-align: right;\n    }\n</style>\n<table border=\"1\" class=\"dataframe\">\n  <thead>\n    <tr style=\"text-align: right;\">\n      <th></th>\n      <th>open</th>\n      <th>high</th>\n      <th>low</th>\n      <th>close</th>\n      <th>Adj Close</th>\n      <th>volume</th>\n      <th>close_pct</th>\n    </tr>\n  </thead>\n  <tbody>\n    <tr>\n      <th>count</th>\n      <td>8396.000000</td>\n      <td>8396.000000</td>\n      <td>8396.000000</td>\n      <td>8396.000000</td>\n      <td>8396.000000</td>\n      <td>8.396000e+03</td>\n      <td>8395.000000</td>\n    </tr>\n    <tr>\n      <th>mean</th>\n      <td>102.964636</td>\n      <td>103.386105</td>\n      <td>102.443079</td>\n      <td>102.969560</td>\n      <td>102.969560</td>\n      <td>3.847138e+06</td>\n      <td>0.000146</td>\n    </tr>\n    <tr>\n      <th>std</th>\n      <td>30.003943</td>\n      <td>30.356120</td>\n      <td>29.835555</td>\n      <td>30.000842</td>\n      <td>30.000842</td>\n      <td>6.954359e+06</td>\n      <td>0.005807</td>\n    </tr>\n    <tr>\n      <th>min</th>\n      <td>51.902500</td>\n      <td>52.029999</td>\n      <td>50.978220</td>\n      <td>51.907501</td>\n      <td>51.907501</td>\n      <td>0.000000e+00</td>\n      <td>-0.085960</td>\n    </tr>\n    <tr>\n      <th>25%</th>\n      <td>73.162500</td>\n      <td>73.437502</td>\n      <td>72.779373</td>\n      <td>73.197323</td>\n      <td>73.197323</td>\n      <td>0.000000e+00</td>\n      <td>-0.001620</td>\n    </tr>\n    <tr>\n      <th>50%</th>\n      <td>113.931250</td>\n      <td>114.401451</td>\n      <td>113.042500</td>\n      <td>113.926251</td>\n      <td>113.926251</td>\n      <td>0.000000e+00</td>\n      <td>0.000094</td>\n    </tr>\n    <tr>\n      <th>75%</th>\n      <td>127.820000</td>\n      <td>128.300000</td>\n      <td>127.200000</td>\n      <td>127.805002</td>\n      <td>127.805002</td>\n      <td>5.646446e+06</td>\n      <td>0.001966</td>\n    </tr>\n    <tr>\n      <th>max</th>\n      <td>154.690002</td>\n      <td>438.440000</td>\n      <td>154.389999</td>\n      <td>154.690002</td>\n      <td>154.690002</td>\n      <td>9.845401e+07</td>\n      <td>0.078661</td>\n    </tr>\n  </tbody>\n</table>\n</div>"
     },
     "execution_count": 132,
     "metadata": {},
     "output_type": "execute_result"
    }
   ],
   "source": [
    "data.describe()"
   ],
   "metadata": {
    "collapsed": false,
    "pycharm": {
     "name": "#%%\n"
    }
   }
  },
  {
   "cell_type": "code",
   "execution_count": 133,
   "outputs": [],
   "source": [
    "def _get_indicator_data(data):\n",
    "    \"\"\"\n",
    "    Function that uses the finta API to calculate technical indicators used as the features\n",
    "    :return:\n",
    "    \"\"\"\n",
    "\n",
    "    data = add_all_ta_features(\n",
    "        data, open=\"open\", high=\"high\", low=\"low\", close=\"close\", volume=\"volume\", fillna=True)\n",
    "\n",
    "    # Instead of using the actual volume value (which changes over time), we normalize it with a moving volume average\n",
    "    # data['normVol'] = data['volume'] / data['volume'].ewm(5).mean()\n",
    "    # for i in range(1,50):\n",
    "    #     data[f'close{i}'] = data['close'].shift(i)\n",
    "    # Remove columns that won't be used as features\n",
    "    # del (data['Adj Close'])\n",
    "\n",
    "    return data\n"
   ],
   "metadata": {
    "collapsed": false,
    "pycharm": {
     "name": "#%%\n"
    }
   }
  },
  {
   "cell_type": "code",
   "execution_count": 134,
   "outputs": [
    {
     "data": {
      "text/plain": "                               open        high         low       close  \\\nDatetime                                                                  \n2019-09-04 04:00:00-04:00   52.2250   52.295000   52.197500   52.255000   \n2019-09-04 05:00:00-04:00   52.2450   52.275000   52.142500   52.185000   \n2019-09-04 06:00:00-04:00   52.1825   52.182500   52.057500   52.057500   \n2019-09-04 07:00:00-04:00   52.1175   52.122500   52.005000   52.062500   \n2019-09-04 08:00:00-04:00   52.0400   52.175000   52.037500   52.137500   \n...                             ...         ...         ...         ...   \n2021-09-03 15:30:00-04:00  154.2500  154.449997  154.160004  154.309998   \n2021-09-03 16:00:00-04:00  154.3100  154.380000  146.520300  154.235000   \n2021-09-03 17:00:00-04:00  154.2200  154.340000  154.220000  154.280000   \n2021-09-03 18:00:00-04:00  154.2700  154.340000  153.989900  154.290000   \n2021-09-03 19:00:00-04:00  154.2900  154.340000  154.250000  154.290000   \n\n                            Adj Close   volume  close_pct  \nDatetime                                                   \n2019-09-04 04:00:00-04:00   52.255000        0        NaN  \n2019-09-04 05:00:00-04:00   52.185000        0  -0.001340  \n2019-09-04 06:00:00-04:00   52.057500        0  -0.002443  \n2019-09-04 07:00:00-04:00   52.062500        0   0.000096  \n2019-09-04 08:00:00-04:00   52.137500        0   0.001441  \n...                               ...      ...        ...  \n2021-09-03 15:30:00-04:00  154.309998  5675878   0.000421  \n2021-09-03 16:00:00-04:00  154.235000        0  -0.000486  \n2021-09-03 17:00:00-04:00  154.280000        0   0.000292  \n2021-09-03 18:00:00-04:00  154.290000        0   0.000065  \n2021-09-03 19:00:00-04:00  154.290000        0   0.000000  \n\n[8396 rows x 7 columns]",
      "text/html": "<div>\n<style scoped>\n    .dataframe tbody tr th:only-of-type {\n        vertical-align: middle;\n    }\n\n    .dataframe tbody tr th {\n        vertical-align: top;\n    }\n\n    .dataframe thead th {\n        text-align: right;\n    }\n</style>\n<table border=\"1\" class=\"dataframe\">\n  <thead>\n    <tr style=\"text-align: right;\">\n      <th></th>\n      <th>open</th>\n      <th>high</th>\n      <th>low</th>\n      <th>close</th>\n      <th>Adj Close</th>\n      <th>volume</th>\n      <th>close_pct</th>\n    </tr>\n    <tr>\n      <th>Datetime</th>\n      <th></th>\n      <th></th>\n      <th></th>\n      <th></th>\n      <th></th>\n      <th></th>\n      <th></th>\n    </tr>\n  </thead>\n  <tbody>\n    <tr>\n      <th>2019-09-04 04:00:00-04:00</th>\n      <td>52.2250</td>\n      <td>52.295000</td>\n      <td>52.197500</td>\n      <td>52.255000</td>\n      <td>52.255000</td>\n      <td>0</td>\n      <td>NaN</td>\n    </tr>\n    <tr>\n      <th>2019-09-04 05:00:00-04:00</th>\n      <td>52.2450</td>\n      <td>52.275000</td>\n      <td>52.142500</td>\n      <td>52.185000</td>\n      <td>52.185000</td>\n      <td>0</td>\n      <td>-0.001340</td>\n    </tr>\n    <tr>\n      <th>2019-09-04 06:00:00-04:00</th>\n      <td>52.1825</td>\n      <td>52.182500</td>\n      <td>52.057500</td>\n      <td>52.057500</td>\n      <td>52.057500</td>\n      <td>0</td>\n      <td>-0.002443</td>\n    </tr>\n    <tr>\n      <th>2019-09-04 07:00:00-04:00</th>\n      <td>52.1175</td>\n      <td>52.122500</td>\n      <td>52.005000</td>\n      <td>52.062500</td>\n      <td>52.062500</td>\n      <td>0</td>\n      <td>0.000096</td>\n    </tr>\n    <tr>\n      <th>2019-09-04 08:00:00-04:00</th>\n      <td>52.0400</td>\n      <td>52.175000</td>\n      <td>52.037500</td>\n      <td>52.137500</td>\n      <td>52.137500</td>\n      <td>0</td>\n      <td>0.001441</td>\n    </tr>\n    <tr>\n      <th>...</th>\n      <td>...</td>\n      <td>...</td>\n      <td>...</td>\n      <td>...</td>\n      <td>...</td>\n      <td>...</td>\n      <td>...</td>\n    </tr>\n    <tr>\n      <th>2021-09-03 15:30:00-04:00</th>\n      <td>154.2500</td>\n      <td>154.449997</td>\n      <td>154.160004</td>\n      <td>154.309998</td>\n      <td>154.309998</td>\n      <td>5675878</td>\n      <td>0.000421</td>\n    </tr>\n    <tr>\n      <th>2021-09-03 16:00:00-04:00</th>\n      <td>154.3100</td>\n      <td>154.380000</td>\n      <td>146.520300</td>\n      <td>154.235000</td>\n      <td>154.235000</td>\n      <td>0</td>\n      <td>-0.000486</td>\n    </tr>\n    <tr>\n      <th>2021-09-03 17:00:00-04:00</th>\n      <td>154.2200</td>\n      <td>154.340000</td>\n      <td>154.220000</td>\n      <td>154.280000</td>\n      <td>154.280000</td>\n      <td>0</td>\n      <td>0.000292</td>\n    </tr>\n    <tr>\n      <th>2021-09-03 18:00:00-04:00</th>\n      <td>154.2700</td>\n      <td>154.340000</td>\n      <td>153.989900</td>\n      <td>154.290000</td>\n      <td>154.290000</td>\n      <td>0</td>\n      <td>0.000065</td>\n    </tr>\n    <tr>\n      <th>2021-09-03 19:00:00-04:00</th>\n      <td>154.2900</td>\n      <td>154.340000</td>\n      <td>154.250000</td>\n      <td>154.290000</td>\n      <td>154.290000</td>\n      <td>0</td>\n      <td>0.000000</td>\n    </tr>\n  </tbody>\n</table>\n<p>8396 rows × 7 columns</p>\n</div>"
     },
     "execution_count": 134,
     "metadata": {},
     "output_type": "execute_result"
    }
   ],
   "source": [
    "data"
   ],
   "metadata": {
    "collapsed": false,
    "pycharm": {
     "name": "#%%\n"
    }
   }
  },
  {
   "cell_type": "code",
   "execution_count": 135,
   "outputs": [
    {
     "data": {
      "text/plain": "Index(['open', 'high', 'low', 'close', 'Adj Close', 'volume', 'close_pct'], dtype='object')"
     },
     "execution_count": 135,
     "metadata": {},
     "output_type": "execute_result"
    }
   ],
   "source": [
    "data.columns"
   ],
   "metadata": {
    "collapsed": false,
    "pycharm": {
     "name": "#%%\n"
    }
   }
  },
  {
   "cell_type": "code",
   "execution_count": 136,
   "outputs": [],
   "source": [
    "def create_class_column(row, lowest_threshold, higher_threshold):\n",
    "    if row['close_shift'] - row['close'] > higher_threshold:\n",
    "        return 1\n",
    "    if row['close_shift'] - row['close'] < lowest_threshold:\n",
    "        return -1\n",
    "    else:\n",
    "        return 0"
   ],
   "metadata": {
    "collapsed": false,
    "pycharm": {
     "name": "#%%\n"
    }
   }
  },
  {
   "cell_type": "code",
   "execution_count": 137,
   "outputs": [
    {
     "name": "stderr",
     "output_type": "stream",
     "text": [
      "C:\\Users\\exomat\\anaconda3\\envs\\magisterka_analiza\\lib\\site-packages\\ta\\trend.py:768: RuntimeWarning: invalid value encountered in double_scalars\n",
      "  dip[i] = 100 * (self._dip[i] / self._trs[i])\n",
      "C:\\Users\\exomat\\anaconda3\\envs\\magisterka_analiza\\lib\\site-packages\\ta\\trend.py:772: RuntimeWarning: invalid value encountered in double_scalars\n",
      "  din[i] = 100 * (self._din[i] / self._trs[i])\n"
     ]
    },
    {
     "data": {
      "text/plain": "                               open        high         low       close  \\\nDatetime                                                                  \n2019-09-04 04:00:00-04:00   52.2250   52.295000   52.197500   52.255000   \n2019-09-04 05:00:00-04:00   52.2450   52.275000   52.142500   52.185000   \n2019-09-04 06:00:00-04:00   52.1825   52.182500   52.057500   52.057500   \n2019-09-04 07:00:00-04:00   52.1175   52.122500   52.005000   52.062500   \n2019-09-04 08:00:00-04:00   52.0400   52.175000   52.037500   52.137500   \n...                             ...         ...         ...         ...   \n2021-09-03 15:30:00-04:00  154.2500  154.449997  154.160004  154.309998   \n2021-09-03 16:00:00-04:00  154.3100  154.380000  146.520300  154.235000   \n2021-09-03 17:00:00-04:00  154.2200  154.340000  154.220000  154.280000   \n2021-09-03 18:00:00-04:00  154.2700  154.340000  153.989900  154.290000   \n2021-09-03 19:00:00-04:00  154.2900  154.340000  154.250000  154.290000   \n\n                            Adj Close   volume  close_pct    volume_adi  \\\nDatetime                                                                  \n2019-09-04 04:00:00-04:00   52.255000        0        NaN  0.000000e+00   \n2019-09-04 05:00:00-04:00   52.185000        0  -0.001340  0.000000e+00   \n2019-09-04 06:00:00-04:00   52.057500        0  -0.002443  0.000000e+00   \n2019-09-04 07:00:00-04:00   52.062500        0   0.000096  0.000000e+00   \n2019-09-04 08:00:00-04:00   52.137500        0   0.001441  0.000000e+00   \n...                               ...      ...        ...           ...   \n2021-09-03 15:30:00-04:00  154.309998  5675878   0.000421  1.789112e+09   \n2021-09-03 16:00:00-04:00  154.235000        0  -0.000486  1.789112e+09   \n2021-09-03 17:00:00-04:00  154.280000        0   0.000292  1.789112e+09   \n2021-09-03 18:00:00-04:00  154.290000        0   0.000065  1.789112e+09   \n2021-09-03 19:00:00-04:00  154.290000        0   0.000000  1.789112e+09   \n\n                           volume_obv  volume_cmf  ...  momentum_ao  \\\nDatetime                                           ...                \n2019-09-04 04:00:00-04:00           0    0.000000  ...     0.000000   \n2019-09-04 05:00:00-04:00           0    0.000000  ...     0.000000   \n2019-09-04 06:00:00-04:00           0    0.000000  ...     0.000000   \n2019-09-04 07:00:00-04:00           0    0.000000  ...     0.000000   \n2019-09-04 08:00:00-04:00           0    0.000000  ...     0.000000   \n...                               ...         ...  ...          ...   \n2021-09-03 15:30:00-04:00   611972103    0.249253  ...     1.201609   \n2021-09-03 16:00:00-04:00   611972103    0.273707  ...     0.309501   \n2021-09-03 17:00:00-04:00   611972103    0.231714  ...    -0.042455   \n2021-09-03 18:00:00-04:00   611972103    0.140480  ...    -0.046964   \n2021-09-03 19:00:00-04:00   611972103    0.140480  ...    -0.050993   \n\n                           momentum_kama  momentum_roc  momentum_ppo  \\\nDatetime                                                               \n2019-09-04 04:00:00-04:00      52.255000      0.000000      0.000000   \n2019-09-04 05:00:00-04:00      52.224029      0.000000      0.000000   \n2019-09-04 06:00:00-04:00      52.150343      0.000000      0.000000   \n2019-09-04 07:00:00-04:00      52.111580      0.000000      0.000000   \n2019-09-04 08:00:00-04:00      52.123059      0.000000      0.000000   \n...                                  ...           ...           ...   \n2021-09-03 15:30:00-04:00     153.906144      0.194791     12.731104   \n2021-09-03 16:00:00-04:00     153.910344      0.191633      3.018885   \n2021-09-03 17:00:00-04:00     153.915894      0.259943     -5.856588   \n2021-09-03 18:00:00-04:00     153.966438      0.110304    -13.967405   \n2021-09-03 19:00:00-04:00     153.986025      0.097314    -21.379444   \n\n                           momentum_ppo_signal  momentum_ppo_hist  others_dr  \\\nDatetime                                                                       \n2019-09-04 04:00:00-04:00             0.000000           0.000000 -49.251993   \n2019-09-04 05:00:00-04:00             0.000000           0.000000  -0.133958   \n2019-09-04 06:00:00-04:00             0.000000           0.000000  -0.244323   \n2019-09-04 07:00:00-04:00             0.000000           0.000000   0.009605   \n2019-09-04 08:00:00-04:00             0.000000           0.000000   0.144058   \n...                                        ...                ...        ...   \n2021-09-03 15:30:00-04:00             3.727827           9.003277   0.042142   \n2021-09-03 16:00:00-04:00             3.586038          -0.567153  -0.048602   \n2021-09-03 17:00:00-04:00             1.697513          -7.554101   0.029176   \n2021-09-03 18:00:00-04:00            -1.435470         -12.531934   0.006482   \n2021-09-03 19:00:00-04:00            -5.424265         -15.955179   0.000000   \n\n                           others_dlr   others_cr  close_shift  \nDatetime                                                        \n2019-09-04 04:00:00-04:00    0.000000    0.000000      52.2000  \n2019-09-04 05:00:00-04:00   -0.134048   -0.133958      52.7575  \n2019-09-04 06:00:00-04:00   -0.244622   -0.377954      52.8975  \n2019-09-04 07:00:00-04:00    0.009604   -0.368386      53.0000  \n2019-09-04 08:00:00-04:00    0.143954   -0.224859      52.8400  \n...                               ...         ...          ...  \n2021-09-03 15:30:00-04:00    0.042133  195.301880          NaN  \n2021-09-03 16:00:00-04:00   -0.048614  195.158358          NaN  \n2021-09-03 17:00:00-04:00    0.029172  195.244474          NaN  \n2021-09-03 18:00:00-04:00    0.006482  195.263611          NaN  \n2021-09-03 19:00:00-04:00    0.000000  195.263611          NaN  \n\n[8396 rows x 91 columns]",
      "text/html": "<div>\n<style scoped>\n    .dataframe tbody tr th:only-of-type {\n        vertical-align: middle;\n    }\n\n    .dataframe tbody tr th {\n        vertical-align: top;\n    }\n\n    .dataframe thead th {\n        text-align: right;\n    }\n</style>\n<table border=\"1\" class=\"dataframe\">\n  <thead>\n    <tr style=\"text-align: right;\">\n      <th></th>\n      <th>open</th>\n      <th>high</th>\n      <th>low</th>\n      <th>close</th>\n      <th>Adj Close</th>\n      <th>volume</th>\n      <th>close_pct</th>\n      <th>volume_adi</th>\n      <th>volume_obv</th>\n      <th>volume_cmf</th>\n      <th>...</th>\n      <th>momentum_ao</th>\n      <th>momentum_kama</th>\n      <th>momentum_roc</th>\n      <th>momentum_ppo</th>\n      <th>momentum_ppo_signal</th>\n      <th>momentum_ppo_hist</th>\n      <th>others_dr</th>\n      <th>others_dlr</th>\n      <th>others_cr</th>\n      <th>close_shift</th>\n    </tr>\n    <tr>\n      <th>Datetime</th>\n      <th></th>\n      <th></th>\n      <th></th>\n      <th></th>\n      <th></th>\n      <th></th>\n      <th></th>\n      <th></th>\n      <th></th>\n      <th></th>\n      <th></th>\n      <th></th>\n      <th></th>\n      <th></th>\n      <th></th>\n      <th></th>\n      <th></th>\n      <th></th>\n      <th></th>\n      <th></th>\n      <th></th>\n    </tr>\n  </thead>\n  <tbody>\n    <tr>\n      <th>2019-09-04 04:00:00-04:00</th>\n      <td>52.2250</td>\n      <td>52.295000</td>\n      <td>52.197500</td>\n      <td>52.255000</td>\n      <td>52.255000</td>\n      <td>0</td>\n      <td>NaN</td>\n      <td>0.000000e+00</td>\n      <td>0</td>\n      <td>0.000000</td>\n      <td>...</td>\n      <td>0.000000</td>\n      <td>52.255000</td>\n      <td>0.000000</td>\n      <td>0.000000</td>\n      <td>0.000000</td>\n      <td>0.000000</td>\n      <td>-49.251993</td>\n      <td>0.000000</td>\n      <td>0.000000</td>\n      <td>52.2000</td>\n    </tr>\n    <tr>\n      <th>2019-09-04 05:00:00-04:00</th>\n      <td>52.2450</td>\n      <td>52.275000</td>\n      <td>52.142500</td>\n      <td>52.185000</td>\n      <td>52.185000</td>\n      <td>0</td>\n      <td>-0.001340</td>\n      <td>0.000000e+00</td>\n      <td>0</td>\n      <td>0.000000</td>\n      <td>...</td>\n      <td>0.000000</td>\n      <td>52.224029</td>\n      <td>0.000000</td>\n      <td>0.000000</td>\n      <td>0.000000</td>\n      <td>0.000000</td>\n      <td>-0.133958</td>\n      <td>-0.134048</td>\n      <td>-0.133958</td>\n      <td>52.7575</td>\n    </tr>\n    <tr>\n      <th>2019-09-04 06:00:00-04:00</th>\n      <td>52.1825</td>\n      <td>52.182500</td>\n      <td>52.057500</td>\n      <td>52.057500</td>\n      <td>52.057500</td>\n      <td>0</td>\n      <td>-0.002443</td>\n      <td>0.000000e+00</td>\n      <td>0</td>\n      <td>0.000000</td>\n      <td>...</td>\n      <td>0.000000</td>\n      <td>52.150343</td>\n      <td>0.000000</td>\n      <td>0.000000</td>\n      <td>0.000000</td>\n      <td>0.000000</td>\n      <td>-0.244323</td>\n      <td>-0.244622</td>\n      <td>-0.377954</td>\n      <td>52.8975</td>\n    </tr>\n    <tr>\n      <th>2019-09-04 07:00:00-04:00</th>\n      <td>52.1175</td>\n      <td>52.122500</td>\n      <td>52.005000</td>\n      <td>52.062500</td>\n      <td>52.062500</td>\n      <td>0</td>\n      <td>0.000096</td>\n      <td>0.000000e+00</td>\n      <td>0</td>\n      <td>0.000000</td>\n      <td>...</td>\n      <td>0.000000</td>\n      <td>52.111580</td>\n      <td>0.000000</td>\n      <td>0.000000</td>\n      <td>0.000000</td>\n      <td>0.000000</td>\n      <td>0.009605</td>\n      <td>0.009604</td>\n      <td>-0.368386</td>\n      <td>53.0000</td>\n    </tr>\n    <tr>\n      <th>2019-09-04 08:00:00-04:00</th>\n      <td>52.0400</td>\n      <td>52.175000</td>\n      <td>52.037500</td>\n      <td>52.137500</td>\n      <td>52.137500</td>\n      <td>0</td>\n      <td>0.001441</td>\n      <td>0.000000e+00</td>\n      <td>0</td>\n      <td>0.000000</td>\n      <td>...</td>\n      <td>0.000000</td>\n      <td>52.123059</td>\n      <td>0.000000</td>\n      <td>0.000000</td>\n      <td>0.000000</td>\n      <td>0.000000</td>\n      <td>0.144058</td>\n      <td>0.143954</td>\n      <td>-0.224859</td>\n      <td>52.8400</td>\n    </tr>\n    <tr>\n      <th>...</th>\n      <td>...</td>\n      <td>...</td>\n      <td>...</td>\n      <td>...</td>\n      <td>...</td>\n      <td>...</td>\n      <td>...</td>\n      <td>...</td>\n      <td>...</td>\n      <td>...</td>\n      <td>...</td>\n      <td>...</td>\n      <td>...</td>\n      <td>...</td>\n      <td>...</td>\n      <td>...</td>\n      <td>...</td>\n      <td>...</td>\n      <td>...</td>\n      <td>...</td>\n      <td>...</td>\n    </tr>\n    <tr>\n      <th>2021-09-03 15:30:00-04:00</th>\n      <td>154.2500</td>\n      <td>154.449997</td>\n      <td>154.160004</td>\n      <td>154.309998</td>\n      <td>154.309998</td>\n      <td>5675878</td>\n      <td>0.000421</td>\n      <td>1.789112e+09</td>\n      <td>611972103</td>\n      <td>0.249253</td>\n      <td>...</td>\n      <td>1.201609</td>\n      <td>153.906144</td>\n      <td>0.194791</td>\n      <td>12.731104</td>\n      <td>3.727827</td>\n      <td>9.003277</td>\n      <td>0.042142</td>\n      <td>0.042133</td>\n      <td>195.301880</td>\n      <td>NaN</td>\n    </tr>\n    <tr>\n      <th>2021-09-03 16:00:00-04:00</th>\n      <td>154.3100</td>\n      <td>154.380000</td>\n      <td>146.520300</td>\n      <td>154.235000</td>\n      <td>154.235000</td>\n      <td>0</td>\n      <td>-0.000486</td>\n      <td>1.789112e+09</td>\n      <td>611972103</td>\n      <td>0.273707</td>\n      <td>...</td>\n      <td>0.309501</td>\n      <td>153.910344</td>\n      <td>0.191633</td>\n      <td>3.018885</td>\n      <td>3.586038</td>\n      <td>-0.567153</td>\n      <td>-0.048602</td>\n      <td>-0.048614</td>\n      <td>195.158358</td>\n      <td>NaN</td>\n    </tr>\n    <tr>\n      <th>2021-09-03 17:00:00-04:00</th>\n      <td>154.2200</td>\n      <td>154.340000</td>\n      <td>154.220000</td>\n      <td>154.280000</td>\n      <td>154.280000</td>\n      <td>0</td>\n      <td>0.000292</td>\n      <td>1.789112e+09</td>\n      <td>611972103</td>\n      <td>0.231714</td>\n      <td>...</td>\n      <td>-0.042455</td>\n      <td>153.915894</td>\n      <td>0.259943</td>\n      <td>-5.856588</td>\n      <td>1.697513</td>\n      <td>-7.554101</td>\n      <td>0.029176</td>\n      <td>0.029172</td>\n      <td>195.244474</td>\n      <td>NaN</td>\n    </tr>\n    <tr>\n      <th>2021-09-03 18:00:00-04:00</th>\n      <td>154.2700</td>\n      <td>154.340000</td>\n      <td>153.989900</td>\n      <td>154.290000</td>\n      <td>154.290000</td>\n      <td>0</td>\n      <td>0.000065</td>\n      <td>1.789112e+09</td>\n      <td>611972103</td>\n      <td>0.140480</td>\n      <td>...</td>\n      <td>-0.046964</td>\n      <td>153.966438</td>\n      <td>0.110304</td>\n      <td>-13.967405</td>\n      <td>-1.435470</td>\n      <td>-12.531934</td>\n      <td>0.006482</td>\n      <td>0.006482</td>\n      <td>195.263611</td>\n      <td>NaN</td>\n    </tr>\n    <tr>\n      <th>2021-09-03 19:00:00-04:00</th>\n      <td>154.2900</td>\n      <td>154.340000</td>\n      <td>154.250000</td>\n      <td>154.290000</td>\n      <td>154.290000</td>\n      <td>0</td>\n      <td>0.000000</td>\n      <td>1.789112e+09</td>\n      <td>611972103</td>\n      <td>0.140480</td>\n      <td>...</td>\n      <td>-0.050993</td>\n      <td>153.986025</td>\n      <td>0.097314</td>\n      <td>-21.379444</td>\n      <td>-5.424265</td>\n      <td>-15.955179</td>\n      <td>0.000000</td>\n      <td>0.000000</td>\n      <td>195.263611</td>\n      <td>NaN</td>\n    </tr>\n  </tbody>\n</table>\n<p>8396 rows × 91 columns</p>\n</div>"
     },
     "execution_count": 137,
     "metadata": {},
     "output_type": "execute_result"
    }
   ],
   "source": [
    "data = _get_indicator_data(data)\n",
    "data['close_shift'] = data.shift(-WINDOW)['close']\n",
    "moved_price = data['close_shift'].copy()\n",
    "data"
   ],
   "metadata": {
    "collapsed": false,
    "pycharm": {
     "name": "#%%\n"
    }
   }
  },
  {
   "cell_type": "code",
   "execution_count": 138,
   "outputs": [
    {
     "data": {
      "text/plain": "Datetime\n2019-09-04 04:00:00-04:00    52.2000\n2019-09-04 05:00:00-04:00    52.7575\n2019-09-04 06:00:00-04:00    52.8975\n2019-09-04 07:00:00-04:00    53.0000\n2019-09-04 08:00:00-04:00    52.8400\n                              ...   \n2021-09-03 15:30:00-04:00        NaN\n2021-09-03 16:00:00-04:00        NaN\n2021-09-03 17:00:00-04:00        NaN\n2021-09-03 18:00:00-04:00        NaN\n2021-09-03 19:00:00-04:00        NaN\nName: close_shift, Length: 8396, dtype: float64"
     },
     "execution_count": 138,
     "metadata": {},
     "output_type": "execute_result"
    }
   ],
   "source": [
    "moved_price\n"
   ],
   "metadata": {
    "collapsed": false,
    "pycharm": {
     "name": "#%%\n"
    }
   }
  },
  {
   "cell_type": "code",
   "execution_count": 139,
   "outputs": [
    {
     "data": {
      "text/plain": "                               open        high         low       close  \\\nDatetime                                                                  \n2019-09-04 04:00:00-04:00   52.2250   52.295000   52.197500   52.255000   \n2019-09-04 05:00:00-04:00   52.2450   52.275000   52.142500   52.185000   \n2019-09-04 06:00:00-04:00   52.1825   52.182500   52.057500   52.057500   \n2019-09-04 07:00:00-04:00   52.1175   52.122500   52.005000   52.062500   \n2019-09-04 08:00:00-04:00   52.0400   52.175000   52.037500   52.137500   \n...                             ...         ...         ...         ...   \n2021-09-03 15:30:00-04:00  154.2500  154.449997  154.160004  154.309998   \n2021-09-03 16:00:00-04:00  154.3100  154.380000  146.520300  154.235000   \n2021-09-03 17:00:00-04:00  154.2200  154.340000  154.220000  154.280000   \n2021-09-03 18:00:00-04:00  154.2700  154.340000  153.989900  154.290000   \n2021-09-03 19:00:00-04:00  154.2900  154.340000  154.250000  154.290000   \n\n                            Adj Close   volume  close_pct    volume_adi  \\\nDatetime                                                                  \n2019-09-04 04:00:00-04:00   52.255000        0        NaN  0.000000e+00   \n2019-09-04 05:00:00-04:00   52.185000        0  -0.001340  0.000000e+00   \n2019-09-04 06:00:00-04:00   52.057500        0  -0.002443  0.000000e+00   \n2019-09-04 07:00:00-04:00   52.062500        0   0.000096  0.000000e+00   \n2019-09-04 08:00:00-04:00   52.137500        0   0.001441  0.000000e+00   \n...                               ...      ...        ...           ...   \n2021-09-03 15:30:00-04:00  154.309998  5675878   0.000421  1.789112e+09   \n2021-09-03 16:00:00-04:00  154.235000        0  -0.000486  1.789112e+09   \n2021-09-03 17:00:00-04:00  154.280000        0   0.000292  1.789112e+09   \n2021-09-03 18:00:00-04:00  154.290000        0   0.000065  1.789112e+09   \n2021-09-03 19:00:00-04:00  154.290000        0   0.000000  1.789112e+09   \n\n                           volume_obv  volume_cmf  ...  momentum_kama  \\\nDatetime                                           ...                  \n2019-09-04 04:00:00-04:00           0    0.000000  ...      52.255000   \n2019-09-04 05:00:00-04:00           0    0.000000  ...      52.224029   \n2019-09-04 06:00:00-04:00           0    0.000000  ...      52.150343   \n2019-09-04 07:00:00-04:00           0    0.000000  ...      52.111580   \n2019-09-04 08:00:00-04:00           0    0.000000  ...      52.123059   \n...                               ...         ...  ...            ...   \n2021-09-03 15:30:00-04:00   611972103    0.249253  ...     153.906144   \n2021-09-03 16:00:00-04:00   611972103    0.273707  ...     153.910344   \n2021-09-03 17:00:00-04:00   611972103    0.231714  ...     153.915894   \n2021-09-03 18:00:00-04:00   611972103    0.140480  ...     153.966438   \n2021-09-03 19:00:00-04:00   611972103    0.140480  ...     153.986025   \n\n                           momentum_roc  momentum_ppo  momentum_ppo_signal  \\\nDatetime                                                                     \n2019-09-04 04:00:00-04:00      0.000000      0.000000             0.000000   \n2019-09-04 05:00:00-04:00      0.000000      0.000000             0.000000   \n2019-09-04 06:00:00-04:00      0.000000      0.000000             0.000000   \n2019-09-04 07:00:00-04:00      0.000000      0.000000             0.000000   \n2019-09-04 08:00:00-04:00      0.000000      0.000000             0.000000   \n...                                 ...           ...                  ...   \n2021-09-03 15:30:00-04:00      0.194791     12.731104             3.727827   \n2021-09-03 16:00:00-04:00      0.191633      3.018885             3.586038   \n2021-09-03 17:00:00-04:00      0.259943     -5.856588             1.697513   \n2021-09-03 18:00:00-04:00      0.110304    -13.967405            -1.435470   \n2021-09-03 19:00:00-04:00      0.097314    -21.379444            -5.424265   \n\n                           momentum_ppo_hist  others_dr  others_dlr  \\\nDatetime                                                              \n2019-09-04 04:00:00-04:00           0.000000 -49.251993    0.000000   \n2019-09-04 05:00:00-04:00           0.000000  -0.133958   -0.134048   \n2019-09-04 06:00:00-04:00           0.000000  -0.244323   -0.244622   \n2019-09-04 07:00:00-04:00           0.000000   0.009605    0.009604   \n2019-09-04 08:00:00-04:00           0.000000   0.144058    0.143954   \n...                                      ...        ...         ...   \n2021-09-03 15:30:00-04:00           9.003277   0.042142    0.042133   \n2021-09-03 16:00:00-04:00          -0.567153  -0.048602   -0.048614   \n2021-09-03 17:00:00-04:00          -7.554101   0.029176    0.029172   \n2021-09-03 18:00:00-04:00         -12.531934   0.006482    0.006482   \n2021-09-03 19:00:00-04:00         -15.955179   0.000000    0.000000   \n\n                            others_cr  close_shift  class_column  \nDatetime                                                          \n2019-09-04 04:00:00-04:00    0.000000      52.2000             0  \n2019-09-04 05:00:00-04:00   -0.133958      52.7575             0  \n2019-09-04 06:00:00-04:00   -0.377954      52.8975             1  \n2019-09-04 07:00:00-04:00   -0.368386      53.0000             1  \n2019-09-04 08:00:00-04:00   -0.224859      52.8400             0  \n...                               ...          ...           ...  \n2021-09-03 15:30:00-04:00  195.301880          NaN             0  \n2021-09-03 16:00:00-04:00  195.158358          NaN             0  \n2021-09-03 17:00:00-04:00  195.244474          NaN             0  \n2021-09-03 18:00:00-04:00  195.263611          NaN             0  \n2021-09-03 19:00:00-04:00  195.263611          NaN             0  \n\n[8396 rows x 92 columns]",
      "text/html": "<div>\n<style scoped>\n    .dataframe tbody tr th:only-of-type {\n        vertical-align: middle;\n    }\n\n    .dataframe tbody tr th {\n        vertical-align: top;\n    }\n\n    .dataframe thead th {\n        text-align: right;\n    }\n</style>\n<table border=\"1\" class=\"dataframe\">\n  <thead>\n    <tr style=\"text-align: right;\">\n      <th></th>\n      <th>open</th>\n      <th>high</th>\n      <th>low</th>\n      <th>close</th>\n      <th>Adj Close</th>\n      <th>volume</th>\n      <th>close_pct</th>\n      <th>volume_adi</th>\n      <th>volume_obv</th>\n      <th>volume_cmf</th>\n      <th>...</th>\n      <th>momentum_kama</th>\n      <th>momentum_roc</th>\n      <th>momentum_ppo</th>\n      <th>momentum_ppo_signal</th>\n      <th>momentum_ppo_hist</th>\n      <th>others_dr</th>\n      <th>others_dlr</th>\n      <th>others_cr</th>\n      <th>close_shift</th>\n      <th>class_column</th>\n    </tr>\n    <tr>\n      <th>Datetime</th>\n      <th></th>\n      <th></th>\n      <th></th>\n      <th></th>\n      <th></th>\n      <th></th>\n      <th></th>\n      <th></th>\n      <th></th>\n      <th></th>\n      <th></th>\n      <th></th>\n      <th></th>\n      <th></th>\n      <th></th>\n      <th></th>\n      <th></th>\n      <th></th>\n      <th></th>\n      <th></th>\n      <th></th>\n    </tr>\n  </thead>\n  <tbody>\n    <tr>\n      <th>2019-09-04 04:00:00-04:00</th>\n      <td>52.2250</td>\n      <td>52.295000</td>\n      <td>52.197500</td>\n      <td>52.255000</td>\n      <td>52.255000</td>\n      <td>0</td>\n      <td>NaN</td>\n      <td>0.000000e+00</td>\n      <td>0</td>\n      <td>0.000000</td>\n      <td>...</td>\n      <td>52.255000</td>\n      <td>0.000000</td>\n      <td>0.000000</td>\n      <td>0.000000</td>\n      <td>0.000000</td>\n      <td>-49.251993</td>\n      <td>0.000000</td>\n      <td>0.000000</td>\n      <td>52.2000</td>\n      <td>0</td>\n    </tr>\n    <tr>\n      <th>2019-09-04 05:00:00-04:00</th>\n      <td>52.2450</td>\n      <td>52.275000</td>\n      <td>52.142500</td>\n      <td>52.185000</td>\n      <td>52.185000</td>\n      <td>0</td>\n      <td>-0.001340</td>\n      <td>0.000000e+00</td>\n      <td>0</td>\n      <td>0.000000</td>\n      <td>...</td>\n      <td>52.224029</td>\n      <td>0.000000</td>\n      <td>0.000000</td>\n      <td>0.000000</td>\n      <td>0.000000</td>\n      <td>-0.133958</td>\n      <td>-0.134048</td>\n      <td>-0.133958</td>\n      <td>52.7575</td>\n      <td>0</td>\n    </tr>\n    <tr>\n      <th>2019-09-04 06:00:00-04:00</th>\n      <td>52.1825</td>\n      <td>52.182500</td>\n      <td>52.057500</td>\n      <td>52.057500</td>\n      <td>52.057500</td>\n      <td>0</td>\n      <td>-0.002443</td>\n      <td>0.000000e+00</td>\n      <td>0</td>\n      <td>0.000000</td>\n      <td>...</td>\n      <td>52.150343</td>\n      <td>0.000000</td>\n      <td>0.000000</td>\n      <td>0.000000</td>\n      <td>0.000000</td>\n      <td>-0.244323</td>\n      <td>-0.244622</td>\n      <td>-0.377954</td>\n      <td>52.8975</td>\n      <td>1</td>\n    </tr>\n    <tr>\n      <th>2019-09-04 07:00:00-04:00</th>\n      <td>52.1175</td>\n      <td>52.122500</td>\n      <td>52.005000</td>\n      <td>52.062500</td>\n      <td>52.062500</td>\n      <td>0</td>\n      <td>0.000096</td>\n      <td>0.000000e+00</td>\n      <td>0</td>\n      <td>0.000000</td>\n      <td>...</td>\n      <td>52.111580</td>\n      <td>0.000000</td>\n      <td>0.000000</td>\n      <td>0.000000</td>\n      <td>0.000000</td>\n      <td>0.009605</td>\n      <td>0.009604</td>\n      <td>-0.368386</td>\n      <td>53.0000</td>\n      <td>1</td>\n    </tr>\n    <tr>\n      <th>2019-09-04 08:00:00-04:00</th>\n      <td>52.0400</td>\n      <td>52.175000</td>\n      <td>52.037500</td>\n      <td>52.137500</td>\n      <td>52.137500</td>\n      <td>0</td>\n      <td>0.001441</td>\n      <td>0.000000e+00</td>\n      <td>0</td>\n      <td>0.000000</td>\n      <td>...</td>\n      <td>52.123059</td>\n      <td>0.000000</td>\n      <td>0.000000</td>\n      <td>0.000000</td>\n      <td>0.000000</td>\n      <td>0.144058</td>\n      <td>0.143954</td>\n      <td>-0.224859</td>\n      <td>52.8400</td>\n      <td>0</td>\n    </tr>\n    <tr>\n      <th>...</th>\n      <td>...</td>\n      <td>...</td>\n      <td>...</td>\n      <td>...</td>\n      <td>...</td>\n      <td>...</td>\n      <td>...</td>\n      <td>...</td>\n      <td>...</td>\n      <td>...</td>\n      <td>...</td>\n      <td>...</td>\n      <td>...</td>\n      <td>...</td>\n      <td>...</td>\n      <td>...</td>\n      <td>...</td>\n      <td>...</td>\n      <td>...</td>\n      <td>...</td>\n      <td>...</td>\n    </tr>\n    <tr>\n      <th>2021-09-03 15:30:00-04:00</th>\n      <td>154.2500</td>\n      <td>154.449997</td>\n      <td>154.160004</td>\n      <td>154.309998</td>\n      <td>154.309998</td>\n      <td>5675878</td>\n      <td>0.000421</td>\n      <td>1.789112e+09</td>\n      <td>611972103</td>\n      <td>0.249253</td>\n      <td>...</td>\n      <td>153.906144</td>\n      <td>0.194791</td>\n      <td>12.731104</td>\n      <td>3.727827</td>\n      <td>9.003277</td>\n      <td>0.042142</td>\n      <td>0.042133</td>\n      <td>195.301880</td>\n      <td>NaN</td>\n      <td>0</td>\n    </tr>\n    <tr>\n      <th>2021-09-03 16:00:00-04:00</th>\n      <td>154.3100</td>\n      <td>154.380000</td>\n      <td>146.520300</td>\n      <td>154.235000</td>\n      <td>154.235000</td>\n      <td>0</td>\n      <td>-0.000486</td>\n      <td>1.789112e+09</td>\n      <td>611972103</td>\n      <td>0.273707</td>\n      <td>...</td>\n      <td>153.910344</td>\n      <td>0.191633</td>\n      <td>3.018885</td>\n      <td>3.586038</td>\n      <td>-0.567153</td>\n      <td>-0.048602</td>\n      <td>-0.048614</td>\n      <td>195.158358</td>\n      <td>NaN</td>\n      <td>0</td>\n    </tr>\n    <tr>\n      <th>2021-09-03 17:00:00-04:00</th>\n      <td>154.2200</td>\n      <td>154.340000</td>\n      <td>154.220000</td>\n      <td>154.280000</td>\n      <td>154.280000</td>\n      <td>0</td>\n      <td>0.000292</td>\n      <td>1.789112e+09</td>\n      <td>611972103</td>\n      <td>0.231714</td>\n      <td>...</td>\n      <td>153.915894</td>\n      <td>0.259943</td>\n      <td>-5.856588</td>\n      <td>1.697513</td>\n      <td>-7.554101</td>\n      <td>0.029176</td>\n      <td>0.029172</td>\n      <td>195.244474</td>\n      <td>NaN</td>\n      <td>0</td>\n    </tr>\n    <tr>\n      <th>2021-09-03 18:00:00-04:00</th>\n      <td>154.2700</td>\n      <td>154.340000</td>\n      <td>153.989900</td>\n      <td>154.290000</td>\n      <td>154.290000</td>\n      <td>0</td>\n      <td>0.000065</td>\n      <td>1.789112e+09</td>\n      <td>611972103</td>\n      <td>0.140480</td>\n      <td>...</td>\n      <td>153.966438</td>\n      <td>0.110304</td>\n      <td>-13.967405</td>\n      <td>-1.435470</td>\n      <td>-12.531934</td>\n      <td>0.006482</td>\n      <td>0.006482</td>\n      <td>195.263611</td>\n      <td>NaN</td>\n      <td>0</td>\n    </tr>\n    <tr>\n      <th>2021-09-03 19:00:00-04:00</th>\n      <td>154.2900</td>\n      <td>154.340000</td>\n      <td>154.250000</td>\n      <td>154.290000</td>\n      <td>154.290000</td>\n      <td>0</td>\n      <td>0.000000</td>\n      <td>1.789112e+09</td>\n      <td>611972103</td>\n      <td>0.140480</td>\n      <td>...</td>\n      <td>153.986025</td>\n      <td>0.097314</td>\n      <td>-21.379444</td>\n      <td>-5.424265</td>\n      <td>-15.955179</td>\n      <td>0.000000</td>\n      <td>0.000000</td>\n      <td>195.263611</td>\n      <td>NaN</td>\n      <td>0</td>\n    </tr>\n  </tbody>\n</table>\n<p>8396 rows × 92 columns</p>\n</div>"
     },
     "execution_count": 139,
     "metadata": {},
     "output_type": "execute_result"
    }
   ],
   "source": [
    "def create_class(df):\n",
    "    higher_threshold = 1.5\n",
    "    lowest_threshold = -1.5\n",
    "    last_values_higher = []\n",
    "    last_values_lower = []\n",
    "    df['class_column'] = df.apply((lambda x: create_class_column(x, lowest_threshold, higher_threshold)), axis=1)\n",
    "    while True:\n",
    "        class_counts = df['class_column'].value_counts()\n",
    "        if abs(class_counts[0] - class_counts[1]) < 15 and abs(class_counts[0] - class_counts[-1]) < 15:\n",
    "            break\n",
    "\n",
    "        if len(last_values_higher) == 3:\n",
    "            last_values_higher.pop(0)\n",
    "        if len(last_values_lower) == 3:\n",
    "            last_values_lower.pop(0)\n",
    "\n",
    "        last_values_higher.append(higher_threshold)\n",
    "        last_values_lower.append(lowest_threshold)\n",
    "        if class_counts[0] > class_counts[1]:\n",
    "            higher_threshold -= 0.01\n",
    "        if class_counts[0] > class_counts[-1]:\n",
    "            lowest_threshold += 0.01\n",
    "        if class_counts[0] < class_counts[1]:\n",
    "            higher_threshold += 0.01\n",
    "        if class_counts[0] < class_counts[-1]:\n",
    "            lowest_threshold -= 0.01\n",
    "\n",
    "        if higher_threshold in last_values_higher and lowest_threshold in last_values_lower:\n",
    "            break\n",
    "        df['class_column'] = df.apply((lambda x: create_class_column(x, lowest_threshold, higher_threshold)),\n",
    "                                      axis=1)\n",
    "    return df\n",
    "\n",
    "\n",
    "data = create_class(data)\n",
    "\n",
    "data\n"
   ],
   "metadata": {
    "collapsed": false,
    "pycharm": {
     "name": "#%%\n"
    }
   }
  },
  {
   "cell_type": "code",
   "execution_count": 140,
   "outputs": [
    {
     "name": "stdout",
     "output_type": "stream",
     "text": [
      "C:\\Users\\exomat\\Desktop\\repo\\magisterka_analiza\\data\\results\\train_test\\AAPL_2y_16_diff_06_09_2021 23_14_24_full.csv\n"
     ]
    }
   ],
   "source": [
    "filename_to_export = f'C:\\\\Users\\\\exomat\\\\Desktop\\\\repo\\\\magisterka_analiza\\\\data\\\\results\\\\train_test\\\\{symbol}_{INTERVAL}_{WINDOW}_diff_{datetime.now().strftime(\"%d_%m_%Y %H_%M_%S\")}_full.csv'\n",
    "data.to_csv(filename_to_export, index=True)\n",
    "print(filename_to_export)"
   ],
   "metadata": {
    "collapsed": false,
    "pycharm": {
     "name": "#%%\n"
    }
   }
  },
  {
   "cell_type": "code",
   "execution_count": 141,
   "outputs": [
    {
     "data": {
      "text/plain": " 0    2828\n 1    2787\n-1    2781\nName: class_column, dtype: int64"
     },
     "execution_count": 141,
     "metadata": {},
     "output_type": "execute_result"
    }
   ],
   "source": [
    "\n",
    "# Class divide\n",
    "data['class_column'].value_counts()"
   ],
   "metadata": {
    "collapsed": false,
    "pycharm": {
     "name": "#%%\n"
    }
   }
  },
  {
   "cell_type": "code",
   "execution_count": 142,
   "outputs": [],
   "source": [
    "# del (data['close'])\n",
    "# del (data['close_shift'])\n",
    "data = data.dropna()"
   ],
   "metadata": {
    "collapsed": false,
    "pycharm": {
     "name": "#%%\n"
    }
   }
  },
  {
   "cell_type": "code",
   "execution_count": 143,
   "outputs": [
    {
     "data": {
      "text/plain": " 0    2811\n 1    2787\n-1    2781\nName: class_column, dtype: int64"
     },
     "execution_count": 143,
     "metadata": {},
     "output_type": "execute_result"
    }
   ],
   "source": [
    "data['class_column'].value_counts()\n"
   ],
   "metadata": {
    "collapsed": false,
    "pycharm": {
     "name": "#%%\n"
    }
   }
  },
  {
   "cell_type": "code",
   "execution_count": 144,
   "outputs": [],
   "source": [
    "def split_dataframe(df, chunk_size=17):\n",
    "    chunks = list()\n",
    "    num_chunks = len(df) // chunk_size + 1\n",
    "    for i in range(num_chunks):\n",
    "        chunks.append(df[i * chunk_size:(i + 1) * chunk_size])\n",
    "    return chunks\n",
    "\n",
    "\n",
    "def train_model(model, train_x, train_y):\n",
    "    model.fit(train_x, train_y)"
   ],
   "metadata": {
    "collapsed": false,
    "pycharm": {
     "name": "#%%\n"
    }
   }
  },
  {
   "cell_type": "code",
   "execution_count": 145,
   "outputs": [
    {
     "data": {
      "text/plain": "493"
     },
     "execution_count": 145,
     "metadata": {},
     "output_type": "execute_result"
    }
   ],
   "source": [
    "splited_dataframe = split_dataframe(data, 17)\n",
    "len(splited_dataframe)"
   ],
   "metadata": {
    "collapsed": false,
    "pycharm": {
     "name": "#%%\n"
    }
   }
  },
  {
   "cell_type": "code",
   "execution_count": 146,
   "outputs": [],
   "source": [
    "y = data['class_column']\n",
    "features = [x for x in data.columns if x not in ['class_column', 'close_shift']]\n",
    "x = data[features]\n",
    "scaler = MinMaxScaler()\n",
    "# x = pd.DataFrame(scaler.fit_transform(x.values), columns=x.columns, index=x.index)\n",
    "x_train, x_test, y_train, y_test = train_test_split(x, y, test_size=0.1, shuffle=False)"
   ],
   "metadata": {
    "collapsed": false,
    "pycharm": {
     "name": "#%%\n"
    }
   }
  },
  {
   "cell_type": "code",
   "execution_count": 147,
   "outputs": [],
   "source": [
    "classifiers = dict()\n",
    "# classifiers['DecisionTreeClassifier 1'] = DecisionTreeClassifier(max_depth=15, random_state=0, criterion='gini',\n",
    "#                                                                  splitter='best')\n",
    "# classifiers['DecisionTreeClassifier 2'] = DecisionTreeClassifier(max_depth=40, random_state=0, criterion='gini',\n",
    "#                                                                  splitter='best')\n",
    "# classifiers['DecisionTreeClassifier 3'] = DecisionTreeClassifier(max_depth=10, random_state=0,criterion='gini',splitter='best')\n",
    "#\n",
    "#\n",
    "# classifiers['RandomForestClassifier 1'] = RandomForestClassifier(n_estimators=1000, max_depth=3, random_state=0,\n",
    "#                                                                  criterion='gini', n_jobs=-1)\n",
    "#\n",
    "# classifiers['RandomForestClassifier 2'] = RandomForestClassifier(n_estimators=1000, max_depth=3, random_state=0,\n",
    "#                                                                  criterion='entropy', n_jobs=-1)\n",
    "#\n",
    "# classifiers['RandomForestClassifier 3'] = RandomForestClassifier(n_estimators=100, max_depth=15, random_state=0,\n",
    "#                                                                  criterion='entropy', n_jobs=-1)\n",
    "#\n",
    "# classifiers['GradientBoostingClassifier 1'] = GradientBoostingClassifier(n_estimators=100, random_state=0,\n",
    "#                                                                          criterion='friedman_mse', max_depth=3,\n",
    "#                                                                          learning_rate=0.1)\n",
    "#\n",
    "classifiers['GradientBoostingClassifier 2'] = GradientBoostingClassifier(n_estimators=1000, random_state=0,\n",
    "                                                                         criterion='friedman_mse', max_depth=3,\n",
    "                                                                         learning_rate=0.5)\n",
    "#\n",
    "# classifiers['XGBRFClassifier 1'] = xgb.sklearn.XGBRFClassifier(n_jobs=-1, max_depth=2, n_estimators=1000, eta=0.2 )\n",
    "# classifiers['XGBRFClassifier 2'] = xgb.sklearn.XGBRFClassifier(n_jobs=-1, max_depth=6, n_estimators=1000, eta=0.3)\n",
    "\n",
    "# classifiers['XGBClassifier 1'] = xgb.XGBClassifier(nthread=-1, max_depth=3, n_estimators=1000, eta=0.2)\n",
    "# classifiers['XGBClassifier 2'] = xgb.XGBClassifier(nthread=-1, max_depth=3, n_estimators=1000, eta=0.3)\n",
    "#\n",
    "classifiers_boosted = dict()\n",
    "# # classifiers_boosted['SGradientBoostingClassifier 1'] = GradientBoostingClassifier(n_estimators=100,random_state=0,criterion='friedman_mse',max_depth=3, learning_rate=0.1)\n",
    "# classifiers_boosted['SXGBClassifier 1'] = xgb.XGBClassifier(nthread=-1, max_depth=3, n_estimators=1000, eta=0.2)\n",
    "# classifiers_boosted['SXGBClassifier 2'] = xgb.XGBClassifier(nthread=-1, max_depth=3, n_estimators=1000, eta=0.3)\n",
    "# classifiers_boosted['SXGBClassifier 3'] = xgb.XGBClassifier(nthread=-1, max_depth=10, n_estimators=1000, eta=0.2)\n"
   ],
   "metadata": {
    "collapsed": false,
    "pycharm": {
     "name": "#%%\n"
    }
   }
  },
  {
   "cell_type": "code",
   "execution_count": 148,
   "outputs": [],
   "source": [
    "\n",
    "def calculate_change(predicted, correct, index):\n",
    "    change_percentage = (((data['close'][index+WINDOW] / data['close'][index])*100)-100)\n",
    "    if (predicted==1):\n",
    "        return change_percentage\n",
    "    if(predicted==0):\n",
    "        return 0\n",
    "    if (predicted== -1 ):\n",
    "        return 0\n",
    "        # return -change_percentage"
   ],
   "metadata": {
    "collapsed": false,
    "pycharm": {
     "name": "#%%\n"
    }
   }
  },
  {
   "cell_type": "code",
   "execution_count": 149,
   "outputs": [
    {
     "data": {
      "text/plain": "<AxesSubplot:xlabel='Datetime'>"
     },
     "execution_count": 149,
     "metadata": {},
     "output_type": "execute_result"
    },
    {
     "data": {
      "text/plain": "<Figure size 432x288 with 1 Axes>",
      "image/png": "[encoded data removed]"
     },
     "metadata": {
      "needs_background": "light"
     },
     "output_type": "display_data"
    }
   ],
   "source": [
    "data['close'][1000:1700].plot()\n"
   ],
   "metadata": {
    "collapsed": false,
    "pycharm": {
     "name": "#%%\n"
    }
   }
  },
  {
   "cell_type": "code",
   "execution_count": null,
   "outputs": [
    {
     "name": "stdout",
     "output_type": "stream",
     "text": [
      "31\n",
      "start\n",
      "Calculate:  100\n"
     ]
    }
   ],
   "source": [
    "first_row = 99\n",
    "start = 100\n",
    "start_data = splited_dataframe[:first_row + 1]\n",
    "next_data = splited_dataframe[first_row + 1:first_row + 1 + 31]\n",
    "print(len(next_data))\n",
    "score = defaultdict(list)\n",
    "score_sum = defaultdict(list)\n",
    "score_ind = defaultdict(list)\n",
    "score_hour = defaultdict(list)\n",
    "price_now = defaultdict(list)\n",
    "price_fut = defaultdict(list)\n",
    "predicted_classes = defaultdict(list)\n",
    "correct_classes = defaultdict(list)\n",
    "points = defaultdict(list)\n",
    "points_train = defaultdict(list)\n",
    "score_train = defaultdict(list)\n",
    "step_headers = []\n",
    "i = 0\n",
    "print(\"start\")\n",
    "temp = []\n",
    "\n",
    "for idx, day in enumerate(next_data):\n",
    "    first_row += 1\n",
    "    start_data.append(day)\n",
    "    data_set = pd.concat(start_data)\n",
    "    data_set = create_class(data_set)\n",
    "    y = data_set['class_column']\n",
    "    features = [x for x in data_set.columns if x not in ['class_column']]\n",
    "    x = data_set[features]\n",
    "    x_train = x.iloc[:-34]\n",
    "    y_train = y.iloc[:-34]\n",
    "    x_test = x.iloc[-17:]\n",
    "    y_test = y.iloc[-17:]\n",
    "\n",
    "    i = i + 1\n",
    "    predictions_train = dict()\n",
    "    predictions = dict()\n",
    "    print(\"Calculate: \", first_row)\n",
    "    for k, v in classifiers.items():\n",
    "        count = 0\n",
    "        temp=[]\n",
    "        for idx in range(0,17):\n",
    "            temp_x_train = x_train.iloc[idx::17]\n",
    "            temp_y_train =  y_train.iloc[idx::17]\n",
    "            temp_x_test = x_test.iloc[idx::17]\n",
    "            temp_y_test = y_test.iloc[idx::17]\n",
    "            train_model(v, temp_x_train, temp_y_train)\n",
    "            el = v.predict(temp_x_test)\n",
    "            change = calculate_change(el[0], temp_y_test[0], (first_row * 17) + idx)\n",
    "            if change !=0:\n",
    "                count +=1\n",
    "            score_ind[idx].append(change)\n",
    "            temp.append(change)\n",
    "            price_now[idx].append(data['close'][(first_row*17)+idx])\n",
    "            price_fut[idx].append(data['close'][(first_row*17)+idx+WINDOW])\n",
    "            score_hour[idx].append(change)\n",
    "            predicted_classes[idx].extend(el)\n",
    "            correct_classes[idx].append(temp_y_test[0])\n",
    "\n",
    "        if count!=0:\n",
    "            score[k].append( sum(temp)/count)\n",
    "        else:\n",
    "            score[k].append( sum(temp))\n",
    "\n",
    "        score_sum[k].append(sum(temp))\n",
    "\n"
   ],
   "metadata": {
    "collapsed": false,
    "pycharm": {
     "name": "#%%\n",
     "is_executing": true
    }
   }
  },
  {
   "cell_type": "code",
   "execution_count": null,
   "outputs": [],
   "source": [
    "    # rfe = RFE(classifiers['XGBRFClassifier 1'], 10)\n",
    "    # fited = rfe.fit(x_train, y_train)\n",
    "    # names = x.columns\n",
    "    # columns = []\n",
    "    # for i in range(len(fited.support_)):\n",
    "    #     if fited.support_[i]:\n",
    "    #         columns.append(names[i])\n",
    "    #\n",
    "    # print(\"Columns with predictive power:\", columns)\n",
    "    # columns = columns + ['high', 'low', 'volume', 'open']\n",
    "    # x_test_cropped = x_test[columns]\n",
    "    # x_train_cropped = x_train[columns]\n",
    "    # x_test_cropped = x_test_cropped.loc[:, ~x_test_cropped.columns.duplicated()]\n",
    "    # x_train_cropped = x_train_cropped.loc[:, ~x_train_cropped.columns.duplicated()]\n",
    "    # for k, v in classifiers_boosted.items():\n",
    "    #     print(\"Calculate: \", k)\n",
    "    #     train_model(v, x_train, y_train)\n",
    "    #     predicted_class = v.predict(x_test)\n",
    "    #     for idx, el in enumerate(predicted_class):\n",
    "    #         score[k].append(calculate_change(el, y_test[idx], (first_row*17)+idx))\n",
    "\n",
    "\n",
    "\n"
   ],
   "metadata": {
    "collapsed": false,
    "pycharm": {
     "name": "#%%\n",
     "is_executing": true
    }
   }
  },
  {
   "cell_type": "code",
   "execution_count": null,
   "outputs": [],
   "source": [
    "len(score['DecisionTreeClassifier 1'])"
   ],
   "metadata": {
    "collapsed": false,
    "pycharm": {
     "name": "#%%\n",
     "is_executing": true
    }
   }
  },
  {
   "cell_type": "code",
   "execution_count": null,
   "outputs": [],
   "source": [
    "step_headers.clear()\n",
    "for a in range(start,start + 31):\n",
    "    # for b in range (1,18):\n",
    "    #     step_headers.append(f'<{a},{b}>')\n",
    "        step_headers.append(f'<{a}>')\n",
    "len(step_headers)"
   ],
   "metadata": {
    "collapsed": false,
    "pycharm": {
     "name": "#%%\n",
     "is_executing": true
    }
   }
  },
  {
   "cell_type": "code",
   "execution_count": null,
   "outputs": [],
   "source": [
    "headers = [\"Classifier type\", \"pct_change\"]\n",
    "score_df = pd.DataFrame(score.items(), columns=headers)\n",
    "# print(tabulate(score_df, headers, tablefmt=\"psql\"))\n",
    "headers2 = [\"Classifier type\", ] + step_headers\n",
    "score_df = pd.DataFrame(score.items(), columns=headers)\n",
    "accuracy_df = pd.DataFrame(score_df['pct_change'].tolist(), index=score_df.index, columns=step_headers)\n",
    "score_df = score_df.drop('pct_change', 1)\n",
    "f_out: pd.DataFrame = pd.merge(score_df, accuracy_df, how='left', left_index=True, right_index=True)\n",
    "f_out['sum'] = f_out.sum(axis=1)\n",
    "f_out['sum'] = f_out['sum'].apply(lambda x: x+100)\n",
    "headers2 = headers2 + ['sum']\n",
    "print(tabulate(f_out, headers2, tablefmt=\"psql\"))\n",
    "\n",
    "filename_to_export = f'C:\\\\Users\\\\exomat\\\\Desktop\\\\repo\\\\magisterka_analiza\\\\data\\\\results\\\\simulation\\\\result_test_ta_all_score_{symbol}_{WINDOW}_{datetime.now().strftime(\"%d_%m_%Y %H_%M_%S\")}.csv'\n",
    "f_out.to_csv(filename_to_export, index=False)"
   ],
   "metadata": {
    "collapsed": false,
    "pycharm": {
     "name": "#%%\n",
     "is_executing": true
    }
   }
  },
  {
   "cell_type": "code",
   "execution_count": null,
   "outputs": [],
   "source": [
    "step_headers.clear()\n",
    "for a in range(start,start + 31):\n",
    "    # for b in range (1,18):\n",
    "    #     step_headers.append(f'<{a},{b}>')\n",
    "        step_headers.append(f'<{a}>')\n",
    "\n",
    "headers = [\"Classifier type\", \"pct_change\"]\n",
    "score_df = pd.DataFrame(score_sum.items(), columns=headers)\n",
    "# print(tabulate(score_df, headers, tablefmt=\"psql\"))\n",
    "headers2 = [\"Classifier type\", ] + step_headers\n",
    "score_df = pd.DataFrame(score_sum.items(), columns=headers)\n",
    "accuracy_df = pd.DataFrame(score_df['pct_change'].tolist(), index=score_df.index, columns=step_headers)\n",
    "score_df = score_df.drop('pct_change', 1)\n",
    "f_out: pd.DataFrame = pd.merge(score_df, accuracy_df, how='left', left_index=True, right_index=True)\n",
    "f_out['sum'] = f_out.sum(axis=1)\n",
    "f_out['sum'] = f_out['sum'].apply(lambda x: x+100)\n",
    "headers2 = headers2 + ['sum']\n",
    "print(tabulate(f_out, headers2, tablefmt=\"psql\"))\n",
    "\n",
    "filename_to_export = f'C:\\\\Users\\\\exomat\\\\Desktop\\\\repo\\\\magisterka_analiza\\\\data\\\\results\\\\simulation\\\\result_test_ta_all_sum_{symbol}_{WINDOW}_{datetime.now().strftime(\"%d_%m_%Y %H_%M_%S\")}.csv'\n",
    "f_out.to_csv(filename_to_export, index=False)\n"
   ],
   "metadata": {
    "collapsed": false,
    "pycharm": {
     "name": "#%%\n",
     "is_executing": true
    }
   }
  },
  {
   "cell_type": "code",
   "execution_count": null,
   "outputs": [],
   "source": [
    "step_headers.clear()\n",
    "for a in range(start,start + 31):\n",
    "    # for b in range (1,18):\n",
    "        step_headers.append(f'<{a}>')\n",
    "\n",
    "headers = [\"Classifier type\", \"pct_change\"]\n",
    "score_df = pd.DataFrame(score_ind.items(), columns=headers)\n",
    "# print(tabulate(score_df, headers, tablefmt=\"psql\"))\n",
    "headers2 = [\"Classifier type\", ] + step_headers\n",
    "score_df = pd.DataFrame(score_ind.items(), columns=headers)\n",
    "accuracy_df = pd.DataFrame(score_df['pct_change'].tolist(), index=score_df.index, columns=step_headers)\n",
    "score_df = score_df.drop('pct_change', 1)\n",
    "f_out: pd.DataFrame = pd.merge(score_df, accuracy_df, how='left', left_index=True, right_index=True)\n",
    "f_out['sum'] = f_out.sum(axis=1)\n",
    "f_out['sum'] = f_out['sum'].apply(lambda x: x+100)\n",
    "headers2 = headers2 + ['sum']\n",
    "print(tabulate(f_out, headers2, tablefmt=\"psql\"))\n",
    "\n",
    "filename_to_export = f'C:\\\\Users\\\\exomat\\\\Desktop\\\\repo\\\\magisterka_analiza\\\\data\\\\results\\\\simulation\\\\result_test_ta_all_points_{symbol}_{WINDOW}_{datetime.now().strftime(\"%d_%m_%Y %H_%M_%S\")}.csv'\n",
    "f_out.to_csv(filename_to_export, index=False)"
   ],
   "metadata": {
    "collapsed": false,
    "pycharm": {
     "name": "#%%\n",
     "is_executing": true
    }
   }
  },
  {
   "cell_type": "code",
   "execution_count": null,
   "outputs": [],
   "source": [
    "step_headers.clear()\n",
    "for a in range(start,start + 31):\n",
    "    # for b in range (1,18):\n",
    "        step_headers.append(f'<{a}>')\n",
    "\n",
    "headers = [\"Classifier type\", \"pct_change\"]\n",
    "score_df = pd.DataFrame(price_now.items(), columns=headers)\n",
    "# print(tabulate(score_df, headers, tablefmt=\"psql\"))\n",
    "headers2 = [\"Classifier type\", ] + step_headers\n",
    "score_df = pd.DataFrame(price_now.items(), columns=headers)\n",
    "accuracy_df = pd.DataFrame(score_df['pct_change'].tolist(), index=score_df.index, columns=step_headers)\n",
    "score_df = score_df.drop('pct_change', 1)\n",
    "f_out: pd.DataFrame = pd.merge(score_df, accuracy_df, how='left', left_index=True, right_index=True)\n",
    "f_out['sum'] = f_out.sum(axis=1)\n",
    "f_out['sum'] = f_out['sum'].apply(lambda x: x+100)\n",
    "headers2 = headers2 + ['sum']\n",
    "print(tabulate(f_out, headers2, tablefmt=\"psql\"))\n",
    "\n",
    "filename_to_export = f'C:\\\\Users\\\\exomat\\\\Desktop\\\\repo\\\\magisterka_analiza\\\\data\\\\results\\\\simulation\\\\result_test_ta_all_price_now_{symbol}_{WINDOW}_{datetime.now().strftime(\"%d_%m_%Y %H_%M_%S\")}.csv'\n",
    "f_out.to_csv(filename_to_export, index=False)"
   ],
   "metadata": {
    "collapsed": false,
    "pycharm": {
     "name": "#%%\n",
     "is_executing": true
    }
   }
  },
  {
   "cell_type": "code",
   "execution_count": null,
   "outputs": [],
   "source": [
    "step_headers.clear()\n",
    "for a in range(start,start + 31):\n",
    "    # for b in range (1,18):\n",
    "        step_headers.append(f'<{a}>')\n",
    "\n",
    "headers = [\"Classifier type\", \"pct_change\"]\n",
    "score_df = pd.DataFrame(price_fut.items(), columns=headers)\n",
    "# print(tabulate(score_df, headers, tablefmt=\"psql\"))\n",
    "headers2 = [\"Classifier type\", ] + step_headers\n",
    "score_df = pd.DataFrame(price_fut.items(), columns=headers)\n",
    "accuracy_df = pd.DataFrame(score_df['pct_change'].tolist(), index=score_df.index, columns=step_headers)\n",
    "score_df = score_df.drop('pct_change', 1)\n",
    "f_out: pd.DataFrame = pd.merge(score_df, accuracy_df, how='left', left_index=True, right_index=True)\n",
    "f_out['sum'] = f_out.sum(axis=1)\n",
    "f_out['sum'] = f_out['sum'].apply(lambda x: x+100)\n",
    "headers2 = headers2 + ['sum']\n",
    "print(tabulate(f_out, headers2, tablefmt=\"psql\"))\n",
    "\n",
    "filename_to_export = f'C:\\\\Users\\\\exomat\\\\Desktop\\\\repo\\\\magisterka_analiza\\\\data\\\\results\\\\simulation\\\\result_test_ta_all_price_fut_{symbol}_{WINDOW}_{datetime.now().strftime(\"%d_%m_%Y %H_%M_%S\")}.csv'\n",
    "f_out.to_csv(filename_to_export, index=False)"
   ],
   "metadata": {
    "collapsed": false,
    "pycharm": {
     "name": "#%%\n",
     "is_executing": true
    }
   }
  },
  {
   "cell_type": "code",
   "execution_count": null,
   "outputs": [],
   "source": [
    "step_headers.clear()\n",
    "for a in range(start,start + 31):\n",
    "    # for b in range (1,18):\n",
    "        step_headers.append(f'<{a}>')\n",
    "\n",
    "headers = [\"Classifier type\", \"pct_change\"]\n",
    "score_df = pd.DataFrame(score_hour.items(), columns=headers)\n",
    "# print(tabulate(score_df, headers, tablefmt=\"psql\"))\n",
    "headers2 = [\"Classifier type\", ] + step_headers\n",
    "score_df = pd.DataFrame(score_hour.items(), columns=headers)\n",
    "accuracy_df = pd.DataFrame(score_df['pct_change'].tolist(), index=score_df.index, columns=step_headers)\n",
    "score_df = score_df.drop('pct_change', 1)\n",
    "f_out: pd.DataFrame = pd.merge(score_df, accuracy_df, how='left', left_index=True, right_index=True)\n",
    "f_out['sum'] = f_out.sum(axis=1)\n",
    "f_out['sum'] = f_out['sum'].apply(lambda x: x+100)\n",
    "headers2 = headers2 + ['sum']\n",
    "print(tabulate(f_out, headers2, tablefmt=\"psql\"))\n",
    "\n",
    "filename_to_export = f'C:\\\\Users\\\\exomat\\\\Desktop\\\\repo\\\\magisterka_analiza\\\\data\\\\results\\\\simulation\\\\result_test_ta_all_score_hour_{symbol}_{WINDOW}_{datetime.now().strftime(\"%d_%m_%Y %H_%M_%S\")}.csv'\n",
    "f_out.to_csv(filename_to_export, index=False)"
   ],
   "metadata": {
    "collapsed": false,
    "pycharm": {
     "name": "#%%\n",
     "is_executing": true
    }
   }
  },
  {
   "cell_type": "code",
   "execution_count": null,
   "outputs": [],
   "source": [
    "step_headers.clear()\n",
    "for a in range(start,start + 31):\n",
    "    # for b in range (1,18):\n",
    "        step_headers.append(f'<{a}>')\n",
    "\n",
    "headers = [\"Classifier type\", \"pct_change\"]\n",
    "score_df = pd.DataFrame(predicted_classes.items(), columns=headers)\n",
    "# print(tabulate(score_df, headers, tablefmt=\"psql\"))\n",
    "headers2 = [\"Classifier type\", ] + step_headers\n",
    "score_df = pd.DataFrame(predicted_classes.items(), columns=headers)\n",
    "accuracy_df = pd.DataFrame(score_df['pct_change'].tolist(), index=score_df.index, columns=step_headers)\n",
    "score_df = score_df.drop('pct_change', 1)\n",
    "f_out: pd.DataFrame = pd.merge(score_df, accuracy_df, how='left', left_index=True, right_index=True)\n",
    "f_out['sum'] = f_out.sum(axis=1)\n",
    "f_out['sum'] = f_out['sum'].apply(lambda x: x+100)\n",
    "headers2 = headers2 + ['sum']\n",
    "print(tabulate(f_out, headers2, tablefmt=\"psql\"))\n",
    "\n",
    "filename_to_export = f'C:\\\\Users\\\\exomat\\\\Desktop\\\\repo\\\\magisterka_analiza\\\\data\\\\results\\\\simulation\\\\result_test_ta_all_predicted_classes_{symbol}_{WINDOW}_{datetime.now().strftime(\"%d_%m_%Y %H_%M_%S\")}.csv'\n",
    "f_out.to_csv(filename_to_export, index=False)"
   ],
   "metadata": {
    "collapsed": false,
    "pycharm": {
     "name": "#%%\n",
     "is_executing": true
    }
   }
  },
  {
   "cell_type": "code",
   "execution_count": null,
   "outputs": [],
   "source": [
    "step_headers.clear()\n",
    "for a in range(start,start + 31):\n",
    "    # for b in range (1,18):\n",
    "        step_headers.append(f'<{a}>')\n",
    "\n",
    "headers = [\"Classifier type\", \"pct_change\"]\n",
    "score_df = pd.DataFrame(correct_classes.items(), columns=headers)\n",
    "# print(tabulate(score_df, headers, tablefmt=\"psql\"))\n",
    "headers2 = [\"Classifier type\", ] + step_headers\n",
    "score_df = pd.DataFrame(correct_classes.items(), columns=headers)\n",
    "accuracy_df = pd.DataFrame(score_df['pct_change'].tolist(), index=score_df.index, columns=step_headers)\n",
    "score_df = score_df.drop('pct_change', 1)\n",
    "f_out: pd.DataFrame = pd.merge(score_df, accuracy_df, how='left', left_index=True, right_index=True)\n",
    "f_out['sum'] = f_out.sum(axis=1)\n",
    "f_out['sum'] = f_out['sum'].apply(lambda x: x+100)\n",
    "headers2 = headers2 + ['sum']\n",
    "print(tabulate(f_out, headers2, tablefmt=\"psql\"))\n",
    "\n",
    "filename_to_export = f'C:\\\\Users\\\\exomat\\\\Desktop\\\\repo\\\\magisterka_analiza\\\\data\\\\results\\\\simulation\\\\result_test_ta_all_correct_classes_{symbol}_{WINDOW}_{datetime.now().strftime(\"%d_%m_%Y %H_%M_%S\")}.csv'\n",
    "f_out.to_csv(filename_to_export, index=False)"
   ],
   "metadata": {
    "collapsed": false,
    "pycharm": {
     "name": "#%%\n",
     "is_executing": true
    }
   }
  },
  {
   "cell_type": "code",
   "execution_count": null,
   "outputs": [],
   "source": [
    "cenka = []\n",
    "\n",
    "', '.join(map(str, data['close'][1700+16:1717+16].tolist()))"
   ],
   "metadata": {
    "collapsed": false,
    "pycharm": {
     "name": "#%%\n",
     "is_executing": true
    }
   }
  },
  {
   "cell_type": "code",
   "execution_count": null,
   "outputs": [],
   "source": [
    "cenka = []\n",
    "for i in range (0,17*31):\n",
    "    cenka.append( data['close'][(99*17) +WINDOW +i])\n",
    "\n",
    "b = ', '.join(map(str, cenka))"
   ],
   "metadata": {
    "collapsed": false,
    "pycharm": {
     "name": "#%%\n",
     "is_executing": true
    }
   }
  },
  {
   "cell_type": "code",
   "execution_count": null,
   "outputs": [],
   "source": [
    "predicted_classes"
   ],
   "metadata": {
    "collapsed": false,
    "pycharm": {
     "name": "#%%\n",
     "is_executing": true
    }
   }
  },
  {
   "cell_type": "code",
   "execution_count": null,
   "outputs": [],
   "source": [
    "temp = []\n",
    "for av in predicted_classes:\n",
    "   temp.extend(av)"
   ],
   "metadata": {
    "collapsed": false,
    "pycharm": {
     "name": "#%%\n",
     "is_executing": true
    }
   }
  },
  {
   "cell_type": "code",
   "execution_count": null,
   "outputs": [],
   "source": [],
   "metadata": {
    "collapsed": false,
    "pycharm": {
     "name": "#%%\n",
     "is_executing": true
    }
   }
  }
 ],
 "metadata": {
  "kernelspec": {
   "name": "magisterka_analiza",
   "language": "python",
   "display_name": "Python magisterka"
  },
  "language_info": {
   "codemirror_mode": {
    "name": "ipython",
    "version": 2
   },
   "file_extension": ".py",
   "mimetype": "text/x-python",
   "name": "python",
   "nbconvert_exporter": "python",
   "pygments_lexer": "ipython2",
   "version": "2.7.6"
  }
 },
 "nbformat": 4,
 "nbformat_minor": 0
}