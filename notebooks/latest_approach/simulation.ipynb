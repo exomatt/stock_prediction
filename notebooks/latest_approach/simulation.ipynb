{
 "cells": [
  {
   "cell_type": "code",
   "execution_count": 1,
   "outputs": [],
   "source": [
    "from collections import defaultdict\n",
    "\n",
    "import yfinance as yf\n",
    "from datetime import datetime\n",
    "import pandas as pd\n",
    "import numpy as np\n",
    "import matplotlib.pyplot as plt\n",
    "from finta import TA\n",
    "import numpy as np\n",
    "from sklearn.ensemble import RandomForestClassifier, VotingClassifier\n",
    "from sklearn.model_selection import GridSearchCV, train_test_split\n",
    "from sklearn.preprocessing import MinMaxScaler\n",
    "from sklearn.tree import DecisionTreeClassifier\n",
    "from sklearn.ensemble import GradientBoostingClassifier\n",
    "from sklearn.metrics import confusion_matrix, classification_report, accuracy_score\n",
    "from sklearn.metrics import jaccard_score\n",
    "import seaborn as sn\n",
    "from tabulate import tabulate\n",
    "from xgboost import XGBClassifier\n",
    "from ta import add_all_ta_features\n",
    "from sklearn.feature_selection import RFE\n",
    "import xgboost as xgb"
   ],
   "metadata": {
    "collapsed": false,
    "pycharm": {
     "name": "#%%\n"
    }
   }
  },
  {
   "cell_type": "code",
   "execution_count": 2,
   "outputs": [],
   "source": [
    "WINDOW = 16  # number of rows to look ahead to see what the price did\n",
    "FETCH_INTERVAL = \"60m\"  # fetch data by interval (including intraday if period < 60 days)\n",
    "# valid intervals: 1m,2m,5m,15m,30m,60m,90m,1h,1d,5d,1wk,1mo,3mo\n",
    "# (optional, default is '1d')\n",
    "INTERVAL = '2y'  # use \"period\" instead of start/end\n",
    "# valid periods: 1d,5d,1mo,3mo,6mo,1y,2y,5y,10y,ytd,max\n",
    "# (optional, default is '1mo')\n",
    "symbol = 'AAPL'  # Symbol of the desired stock\n",
    "\n",
    "# one day 16 rows of data\n"
   ],
   "metadata": {
    "collapsed": false,
    "pycharm": {
     "name": "#%%\n"
    }
   }
  },
  {
   "cell_type": "code",
   "execution_count": 3,
   "outputs": [
    {
     "name": "stdout",
     "output_type": "stream",
     "text": [
      "[*********************100%***********************]  1 of 1 completed\n"
     ]
    },
    {
     "data": {
      "text/plain": "                                 Open        High         Low       Close  \\\nDatetime                                                                    \n2019-09-09 04:00:00-04:00   53.347500   53.450000   53.347500   53.450000   \n2019-09-09 06:00:00-04:00   53.415000   53.575000   53.415000   53.575000   \n2019-09-09 07:00:00-04:00   53.557500   53.575000   53.500000   53.500000   \n2019-09-09 08:00:00-04:00   53.520000   53.640000   53.500000   53.625000   \n2019-09-09 09:00:00-04:00   53.612500   53.710000   53.612500   53.710000   \n...                               ...         ...         ...         ...   \n2021-09-07 08:00:00-04:00  154.700000  155.200000  153.915000  154.960000   \n2021-09-07 09:00:00-04:00  154.960000  155.070000  154.850000  154.870000   \n2021-09-07 09:30:00-04:00  154.860001  155.955002  154.389999  155.650101   \n2021-09-07 10:30:00-04:00  155.649994  156.229996  155.600006  156.080002   \n2021-09-07 10:59:17-04:00  156.050003  156.050003  156.050003  156.050003   \n\n                            Adj Close    Volume  \nDatetime                                         \n2019-09-09 04:00:00-04:00   53.450000         0  \n2019-09-09 06:00:00-04:00   53.575000         0  \n2019-09-09 07:00:00-04:00   53.500000         0  \n2019-09-09 08:00:00-04:00   53.625000         0  \n2019-09-09 09:00:00-04:00   53.710000         0  \n...                               ...       ...  \n2021-09-07 08:00:00-04:00  154.960000         0  \n2021-09-07 09:00:00-04:00  154.870000         0  \n2021-09-07 09:30:00-04:00  155.650101  23867871  \n2021-09-07 10:30:00-04:00  156.080002   5982921  \n2021-09-07 10:59:17-04:00  156.050003         0  \n\n[8354 rows x 6 columns]",
      "text/html": "<div>\n<style scoped>\n    .dataframe tbody tr th:only-of-type {\n        vertical-align: middle;\n    }\n\n    .dataframe tbody tr th {\n        vertical-align: top;\n    }\n\n    .dataframe thead th {\n        text-align: right;\n    }\n</style>\n<table border=\"1\" class=\"dataframe\">\n  <thead>\n    <tr style=\"text-align: right;\">\n      <th></th>\n      <th>Open</th>\n      <th>High</th>\n      <th>Low</th>\n      <th>Close</th>\n      <th>Adj Close</th>\n      <th>Volume</th>\n    </tr>\n    <tr>\n      <th>Datetime</th>\n      <th></th>\n      <th></th>\n      <th></th>\n      <th></th>\n      <th></th>\n      <th></th>\n    </tr>\n  </thead>\n  <tbody>\n    <tr>\n      <th>2019-09-09 04:00:00-04:00</th>\n      <td>53.347500</td>\n      <td>53.450000</td>\n      <td>53.347500</td>\n      <td>53.450000</td>\n      <td>53.450000</td>\n      <td>0</td>\n    </tr>\n    <tr>\n      <th>2019-09-09 06:00:00-04:00</th>\n      <td>53.415000</td>\n      <td>53.575000</td>\n      <td>53.415000</td>\n      <td>53.575000</td>\n      <td>53.575000</td>\n      <td>0</td>\n    </tr>\n    <tr>\n      <th>2019-09-09 07:00:00-04:00</th>\n      <td>53.557500</td>\n      <td>53.575000</td>\n      <td>53.500000</td>\n      <td>53.500000</td>\n      <td>53.500000</td>\n      <td>0</td>\n    </tr>\n    <tr>\n      <th>2019-09-09 08:00:00-04:00</th>\n      <td>53.520000</td>\n      <td>53.640000</td>\n      <td>53.500000</td>\n      <td>53.625000</td>\n      <td>53.625000</td>\n      <td>0</td>\n    </tr>\n    <tr>\n      <th>2019-09-09 09:00:00-04:00</th>\n      <td>53.612500</td>\n      <td>53.710000</td>\n      <td>53.612500</td>\n      <td>53.710000</td>\n      <td>53.710000</td>\n      <td>0</td>\n    </tr>\n    <tr>\n      <th>...</th>\n      <td>...</td>\n      <td>...</td>\n      <td>...</td>\n      <td>...</td>\n      <td>...</td>\n      <td>...</td>\n    </tr>\n    <tr>\n      <th>2021-09-07 08:00:00-04:00</th>\n      <td>154.700000</td>\n      <td>155.200000</td>\n      <td>153.915000</td>\n      <td>154.960000</td>\n      <td>154.960000</td>\n      <td>0</td>\n    </tr>\n    <tr>\n      <th>2021-09-07 09:00:00-04:00</th>\n      <td>154.960000</td>\n      <td>155.070000</td>\n      <td>154.850000</td>\n      <td>154.870000</td>\n      <td>154.870000</td>\n      <td>0</td>\n    </tr>\n    <tr>\n      <th>2021-09-07 09:30:00-04:00</th>\n      <td>154.860001</td>\n      <td>155.955002</td>\n      <td>154.389999</td>\n      <td>155.650101</td>\n      <td>155.650101</td>\n      <td>23867871</td>\n    </tr>\n    <tr>\n      <th>2021-09-07 10:30:00-04:00</th>\n      <td>155.649994</td>\n      <td>156.229996</td>\n      <td>155.600006</td>\n      <td>156.080002</td>\n      <td>156.080002</td>\n      <td>5982921</td>\n    </tr>\n    <tr>\n      <th>2021-09-07 10:59:17-04:00</th>\n      <td>156.050003</td>\n      <td>156.050003</td>\n      <td>156.050003</td>\n      <td>156.050003</td>\n      <td>156.050003</td>\n      <td>0</td>\n    </tr>\n  </tbody>\n</table>\n<p>8354 rows × 6 columns</p>\n</div>"
     },
     "execution_count": 3,
     "metadata": {},
     "output_type": "execute_result"
    }
   ],
   "source": [
    "data = yf.download(  # or pdr.get_data_yahoo(...\n",
    "    tickers=symbol,\n",
    "\n",
    "    period=INTERVAL,\n",
    "\n",
    "    interval=FETCH_INTERVAL,\n",
    "\n",
    "    # group by ticker (to access via data['SPY'])\n",
    "    # (optional, default is 'column')\n",
    "    group_by='ticker',\n",
    "\n",
    "    # adjust all OHLC automatically\n",
    "    # (optional, default is False)\n",
    "    # auto_adjust = True,\n",
    "\n",
    "    # download pre/post regular market hours data\n",
    "    # (optional, default is False)\n",
    "    prepost=True,\n",
    "\n",
    "    # use threads for mass downloading? (True/False/Integer)\n",
    "    # (optional, default is True)\n",
    "    threads=False,\n",
    "\n",
    "    # proxy URL scheme use use when downloading?\n",
    "    # (optional, default is None)\n",
    "    proxy=None\n",
    ")\n",
    "data"
   ],
   "metadata": {
    "collapsed": false,
    "pycharm": {
     "name": "#%%\n"
    }
   }
  },
  {
   "cell_type": "code",
   "execution_count": 4,
   "outputs": [],
   "source": [
    "data.rename(columns={\"Close\": 'close', \"High\": 'high', \"Low\": 'low', 'Volume': 'volume', 'Open': 'open'}, inplace=True)\n",
    "data.head(10)\n",
    "important_columns = ['open', 'high', 'low', 'close', 'volume']"
   ],
   "metadata": {
    "collapsed": false,
    "pycharm": {
     "name": "#%%\n"
    }
   }
  },
  {
   "cell_type": "code",
   "execution_count": 5,
   "outputs": [],
   "source": [
    "\n",
    "def calculate_diffs(diff_number, col_name):\n",
    "    new_col_name = f'{col_name}_{diff_number}'\n",
    "    data[new_col_name] = data[col_name].diff(diff_number)"
   ],
   "metadata": {
    "collapsed": false,
    "pycharm": {
     "name": "#%%\n"
    }
   }
  },
  {
   "cell_type": "code",
   "execution_count": 6,
   "outputs": [],
   "source": [
    "# for name in important_columns:\n",
    "#     for i in range(1, 11):\n",
    "#         calculate_diffs(i, name)\n",
    "#\n",
    "# data.head(10)"
   ],
   "metadata": {
    "collapsed": false,
    "pycharm": {
     "name": "#%%\n"
    }
   }
  },
  {
   "cell_type": "code",
   "execution_count": 7,
   "outputs": [],
   "source": [
    "data = data.dropna()"
   ],
   "metadata": {
    "collapsed": false,
    "pycharm": {
     "name": "#%%\n"
    }
   }
  },
  {
   "cell_type": "code",
   "execution_count": 8,
   "outputs": [
    {
     "data": {
      "text/plain": "<AxesSubplot:xlabel='Datetime'>"
     },
     "execution_count": 8,
     "metadata": {},
     "output_type": "execute_result"
    },
    {
     "data": {
      "text/plain": "<Figure size 432x288 with 1 Axes>",
      "image/png": "[encoded data removed]"
     },
     "metadata": {
      "needs_background": "light"
     },
     "output_type": "display_data"
    }
   ],
   "source": [
    "data['close'].plot()"
   ],
   "metadata": {
    "collapsed": false,
    "pycharm": {
     "name": "#%%\n"
    }
   }
  },
  {
   "cell_type": "code",
   "execution_count": 9,
   "outputs": [
    {
     "data": {
      "text/plain": "                              open    high      low   close  Adj Close  \\\nDatetime                                                                 \n2019-09-09 04:00:00-04:00  53.3475  53.450  53.3475  53.450     53.450   \n2019-09-09 06:00:00-04:00  53.4150  53.575  53.4150  53.575     53.575   \n2019-09-09 07:00:00-04:00  53.5575  53.575  53.5000  53.500     53.500   \n2019-09-09 08:00:00-04:00  53.5200  53.640  53.5000  53.625     53.625   \n2019-09-09 09:00:00-04:00  53.6125  53.710  53.6125  53.710     53.710   \n\n                           volume  close_pct  \nDatetime                                      \n2019-09-09 04:00:00-04:00       0        NaN  \n2019-09-09 06:00:00-04:00       0   0.002339  \n2019-09-09 07:00:00-04:00       0  -0.001400  \n2019-09-09 08:00:00-04:00       0   0.002336  \n2019-09-09 09:00:00-04:00       0   0.001585  ",
      "text/html": "<div>\n<style scoped>\n    .dataframe tbody tr th:only-of-type {\n        vertical-align: middle;\n    }\n\n    .dataframe tbody tr th {\n        vertical-align: top;\n    }\n\n    .dataframe thead th {\n        text-align: right;\n    }\n</style>\n<table border=\"1\" class=\"dataframe\">\n  <thead>\n    <tr style=\"text-align: right;\">\n      <th></th>\n      <th>open</th>\n      <th>high</th>\n      <th>low</th>\n      <th>close</th>\n      <th>Adj Close</th>\n      <th>volume</th>\n      <th>close_pct</th>\n    </tr>\n    <tr>\n      <th>Datetime</th>\n      <th></th>\n      <th></th>\n      <th></th>\n      <th></th>\n      <th></th>\n      <th></th>\n      <th></th>\n    </tr>\n  </thead>\n  <tbody>\n    <tr>\n      <th>2019-09-09 04:00:00-04:00</th>\n      <td>53.3475</td>\n      <td>53.450</td>\n      <td>53.3475</td>\n      <td>53.450</td>\n      <td>53.450</td>\n      <td>0</td>\n      <td>NaN</td>\n    </tr>\n    <tr>\n      <th>2019-09-09 06:00:00-04:00</th>\n      <td>53.4150</td>\n      <td>53.575</td>\n      <td>53.4150</td>\n      <td>53.575</td>\n      <td>53.575</td>\n      <td>0</td>\n      <td>0.002339</td>\n    </tr>\n    <tr>\n      <th>2019-09-09 07:00:00-04:00</th>\n      <td>53.5575</td>\n      <td>53.575</td>\n      <td>53.5000</td>\n      <td>53.500</td>\n      <td>53.500</td>\n      <td>0</td>\n      <td>-0.001400</td>\n    </tr>\n    <tr>\n      <th>2019-09-09 08:00:00-04:00</th>\n      <td>53.5200</td>\n      <td>53.640</td>\n      <td>53.5000</td>\n      <td>53.625</td>\n      <td>53.625</td>\n      <td>0</td>\n      <td>0.002336</td>\n    </tr>\n    <tr>\n      <th>2019-09-09 09:00:00-04:00</th>\n      <td>53.6125</td>\n      <td>53.710</td>\n      <td>53.6125</td>\n      <td>53.710</td>\n      <td>53.710</td>\n      <td>0</td>\n      <td>0.001585</td>\n    </tr>\n  </tbody>\n</table>\n</div>"
     },
     "execution_count": 9,
     "metadata": {},
     "output_type": "execute_result"
    }
   ],
   "source": [
    "data['close_pct'] = data['close'].pct_change()\n",
    "data.head()"
   ],
   "metadata": {
    "collapsed": false,
    "pycharm": {
     "name": "#%%\n"
    }
   }
  },
  {
   "cell_type": "code",
   "execution_count": 10,
   "outputs": [
    {
     "data": {
      "text/plain": "              open         high          low        close    Adj Close  \\\ncount  8354.000000  8354.000000  8354.000000  8354.000000  8354.000000   \nmean    103.326399   103.749876   102.802515   103.331485   103.331485   \nstd      29.870004    30.221913    29.704860    29.867251    29.867251   \nmin      53.250000    53.287500    50.978220    53.175000    53.175000   \n25%      73.877500    74.158121    73.425000    73.881250    73.881250   \n50%     114.146251   114.600000   113.365000   114.144199   114.144199   \n75%     127.967500   128.452670   127.290000   127.940002   127.940002   \nmax     156.050003   438.440000   156.050003   156.080002   156.080002   \n\n             volume    close_pct  \ncount  8.354000e+03  8353.000000  \nmean   3.863411e+06     0.000145  \nstd    6.971691e+06     0.005819  \nmin    0.000000e+00    -0.085960  \n25%    0.000000e+00    -0.001621  \n50%    0.000000e+00     0.000091  \n75%    5.677133e+06     0.001970  \nmax    9.845401e+07     0.078661  ",
      "text/html": "<div>\n<style scoped>\n    .dataframe tbody tr th:only-of-type {\n        vertical-align: middle;\n    }\n\n    .dataframe tbody tr th {\n        vertical-align: top;\n    }\n\n    .dataframe thead th {\n        text-align: right;\n    }\n</style>\n<table border=\"1\" class=\"dataframe\">\n  <thead>\n    <tr style=\"text-align: right;\">\n      <th></th>\n      <th>open</th>\n      <th>high</th>\n      <th>low</th>\n      <th>close</th>\n      <th>Adj Close</th>\n      <th>volume</th>\n      <th>close_pct</th>\n    </tr>\n  </thead>\n  <tbody>\n    <tr>\n      <th>count</th>\n      <td>8354.000000</td>\n      <td>8354.000000</td>\n      <td>8354.000000</td>\n      <td>8354.000000</td>\n      <td>8354.000000</td>\n      <td>8.354000e+03</td>\n      <td>8353.000000</td>\n    </tr>\n    <tr>\n      <th>mean</th>\n      <td>103.326399</td>\n      <td>103.749876</td>\n      <td>102.802515</td>\n      <td>103.331485</td>\n      <td>103.331485</td>\n      <td>3.863411e+06</td>\n      <td>0.000145</td>\n    </tr>\n    <tr>\n      <th>std</th>\n      <td>29.870004</td>\n      <td>30.221913</td>\n      <td>29.704860</td>\n      <td>29.867251</td>\n      <td>29.867251</td>\n      <td>6.971691e+06</td>\n      <td>0.005819</td>\n    </tr>\n    <tr>\n      <th>min</th>\n      <td>53.250000</td>\n      <td>53.287500</td>\n      <td>50.978220</td>\n      <td>53.175000</td>\n      <td>53.175000</td>\n      <td>0.000000e+00</td>\n      <td>-0.085960</td>\n    </tr>\n    <tr>\n      <th>25%</th>\n      <td>73.877500</td>\n      <td>74.158121</td>\n      <td>73.425000</td>\n      <td>73.881250</td>\n      <td>73.881250</td>\n      <td>0.000000e+00</td>\n      <td>-0.001621</td>\n    </tr>\n    <tr>\n      <th>50%</th>\n      <td>114.146251</td>\n      <td>114.600000</td>\n      <td>113.365000</td>\n      <td>114.144199</td>\n      <td>114.144199</td>\n      <td>0.000000e+00</td>\n      <td>0.000091</td>\n    </tr>\n    <tr>\n      <th>75%</th>\n      <td>127.967500</td>\n      <td>128.452670</td>\n      <td>127.290000</td>\n      <td>127.940002</td>\n      <td>127.940002</td>\n      <td>5.677133e+06</td>\n      <td>0.001970</td>\n    </tr>\n    <tr>\n      <th>max</th>\n      <td>156.050003</td>\n      <td>438.440000</td>\n      <td>156.050003</td>\n      <td>156.080002</td>\n      <td>156.080002</td>\n      <td>9.845401e+07</td>\n      <td>0.078661</td>\n    </tr>\n  </tbody>\n</table>\n</div>"
     },
     "execution_count": 10,
     "metadata": {},
     "output_type": "execute_result"
    }
   ],
   "source": [
    "data.describe()"
   ],
   "metadata": {
    "collapsed": false,
    "pycharm": {
     "name": "#%%\n"
    }
   }
  },
  {
   "cell_type": "code",
   "execution_count": 11,
   "outputs": [],
   "source": [
    "def _get_indicator_data(data):\n",
    "    \"\"\"\n",
    "    Function that uses the finta API to calculate technical indicators used as the features\n",
    "    :return:\n",
    "    \"\"\"\n",
    "\n",
    "    data = add_all_ta_features(\n",
    "        data, open=\"open\", high=\"high\", low=\"low\", close=\"close\", volume=\"volume\", fillna=True)\n",
    "\n",
    "    # Instead of using the actual volume value (which changes over time), we normalize it with a moving volume average\n",
    "    # data['normVol'] = data['volume'] / data['volume'].ewm(5).mean()\n",
    "    # for i in range(1,50):\n",
    "    #     data[f'close{i}'] = data['close'].shift(i)\n",
    "    # Remove columns that won't be used as features\n",
    "    # del (data['Adj Close'])\n",
    "\n",
    "    return data\n"
   ],
   "metadata": {
    "collapsed": false,
    "pycharm": {
     "name": "#%%\n"
    }
   }
  },
  {
   "cell_type": "code",
   "execution_count": 12,
   "outputs": [
    {
     "data": {
      "text/plain": "                                 open        high         low       close  \\\nDatetime                                                                    \n2019-09-09 04:00:00-04:00   53.347500   53.450000   53.347500   53.450000   \n2019-09-09 06:00:00-04:00   53.415000   53.575000   53.415000   53.575000   \n2019-09-09 07:00:00-04:00   53.557500   53.575000   53.500000   53.500000   \n2019-09-09 08:00:00-04:00   53.520000   53.640000   53.500000   53.625000   \n2019-09-09 09:00:00-04:00   53.612500   53.710000   53.612500   53.710000   \n...                               ...         ...         ...         ...   \n2021-09-07 08:00:00-04:00  154.700000  155.200000  153.915000  154.960000   \n2021-09-07 09:00:00-04:00  154.960000  155.070000  154.850000  154.870000   \n2021-09-07 09:30:00-04:00  154.860001  155.955002  154.389999  155.650101   \n2021-09-07 10:30:00-04:00  155.649994  156.229996  155.600006  156.080002   \n2021-09-07 10:59:17-04:00  156.050003  156.050003  156.050003  156.050003   \n\n                            Adj Close    volume  close_pct  \nDatetime                                                    \n2019-09-09 04:00:00-04:00   53.450000         0        NaN  \n2019-09-09 06:00:00-04:00   53.575000         0   0.002339  \n2019-09-09 07:00:00-04:00   53.500000         0  -0.001400  \n2019-09-09 08:00:00-04:00   53.625000         0   0.002336  \n2019-09-09 09:00:00-04:00   53.710000         0   0.001585  \n...                               ...       ...        ...  \n2021-09-07 08:00:00-04:00  154.960000         0   0.001745  \n2021-09-07 09:00:00-04:00  154.870000         0  -0.000581  \n2021-09-07 09:30:00-04:00  155.650101  23867871   0.005037  \n2021-09-07 10:30:00-04:00  156.080002   5982921   0.002762  \n2021-09-07 10:59:17-04:00  156.050003         0  -0.000192  \n\n[8354 rows x 7 columns]",
      "text/html": "<div>\n<style scoped>\n    .dataframe tbody tr th:only-of-type {\n        vertical-align: middle;\n    }\n\n    .dataframe tbody tr th {\n        vertical-align: top;\n    }\n\n    .dataframe thead th {\n        text-align: right;\n    }\n</style>\n<table border=\"1\" class=\"dataframe\">\n  <thead>\n    <tr style=\"text-align: right;\">\n      <th></th>\n      <th>open</th>\n      <th>high</th>\n      <th>low</th>\n      <th>close</th>\n      <th>Adj Close</th>\n      <th>volume</th>\n      <th>close_pct</th>\n    </tr>\n    <tr>\n      <th>Datetime</th>\n      <th></th>\n      <th></th>\n      <th></th>\n      <th></th>\n      <th></th>\n      <th></th>\n      <th></th>\n    </tr>\n  </thead>\n  <tbody>\n    <tr>\n      <th>2019-09-09 04:00:00-04:00</th>\n      <td>53.347500</td>\n      <td>53.450000</td>\n      <td>53.347500</td>\n      <td>53.450000</td>\n      <td>53.450000</td>\n      <td>0</td>\n      <td>NaN</td>\n    </tr>\n    <tr>\n      <th>2019-09-09 06:00:00-04:00</th>\n      <td>53.415000</td>\n      <td>53.575000</td>\n      <td>53.415000</td>\n      <td>53.575000</td>\n      <td>53.575000</td>\n      <td>0</td>\n      <td>0.002339</td>\n    </tr>\n    <tr>\n      <th>2019-09-09 07:00:00-04:00</th>\n      <td>53.557500</td>\n      <td>53.575000</td>\n      <td>53.500000</td>\n      <td>53.500000</td>\n      <td>53.500000</td>\n      <td>0</td>\n      <td>-0.001400</td>\n    </tr>\n    <tr>\n      <th>2019-09-09 08:00:00-04:00</th>\n      <td>53.520000</td>\n      <td>53.640000</td>\n      <td>53.500000</td>\n      <td>53.625000</td>\n      <td>53.625000</td>\n      <td>0</td>\n      <td>0.002336</td>\n    </tr>\n    <tr>\n      <th>2019-09-09 09:00:00-04:00</th>\n      <td>53.612500</td>\n      <td>53.710000</td>\n      <td>53.612500</td>\n      <td>53.710000</td>\n      <td>53.710000</td>\n      <td>0</td>\n      <td>0.001585</td>\n    </tr>\n    <tr>\n      <th>...</th>\n      <td>...</td>\n      <td>...</td>\n      <td>...</td>\n      <td>...</td>\n      <td>...</td>\n      <td>...</td>\n      <td>...</td>\n    </tr>\n    <tr>\n      <th>2021-09-07 08:00:00-04:00</th>\n      <td>154.700000</td>\n      <td>155.200000</td>\n      <td>153.915000</td>\n      <td>154.960000</td>\n      <td>154.960000</td>\n      <td>0</td>\n      <td>0.001745</td>\n    </tr>\n    <tr>\n      <th>2021-09-07 09:00:00-04:00</th>\n      <td>154.960000</td>\n      <td>155.070000</td>\n      <td>154.850000</td>\n      <td>154.870000</td>\n      <td>154.870000</td>\n      <td>0</td>\n      <td>-0.000581</td>\n    </tr>\n    <tr>\n      <th>2021-09-07 09:30:00-04:00</th>\n      <td>154.860001</td>\n      <td>155.955002</td>\n      <td>154.389999</td>\n      <td>155.650101</td>\n      <td>155.650101</td>\n      <td>23867871</td>\n      <td>0.005037</td>\n    </tr>\n    <tr>\n      <th>2021-09-07 10:30:00-04:00</th>\n      <td>155.649994</td>\n      <td>156.229996</td>\n      <td>155.600006</td>\n      <td>156.080002</td>\n      <td>156.080002</td>\n      <td>5982921</td>\n      <td>0.002762</td>\n    </tr>\n    <tr>\n      <th>2021-09-07 10:59:17-04:00</th>\n      <td>156.050003</td>\n      <td>156.050003</td>\n      <td>156.050003</td>\n      <td>156.050003</td>\n      <td>156.050003</td>\n      <td>0</td>\n      <td>-0.000192</td>\n    </tr>\n  </tbody>\n</table>\n<p>8354 rows × 7 columns</p>\n</div>"
     },
     "execution_count": 12,
     "metadata": {},
     "output_type": "execute_result"
    }
   ],
   "source": [
    "data"
   ],
   "metadata": {
    "collapsed": false,
    "pycharm": {
     "name": "#%%\n"
    }
   }
  },
  {
   "cell_type": "code",
   "execution_count": 13,
   "outputs": [
    {
     "data": {
      "text/plain": "Index(['open', 'high', 'low', 'close', 'Adj Close', 'volume', 'close_pct'], dtype='object')"
     },
     "execution_count": 13,
     "metadata": {},
     "output_type": "execute_result"
    }
   ],
   "source": [
    "data.columns"
   ],
   "metadata": {
    "collapsed": false,
    "pycharm": {
     "name": "#%%\n"
    }
   }
  },
  {
   "cell_type": "code",
   "execution_count": 14,
   "outputs": [],
   "source": [
    "def create_class_column(row, lowest_threshold, higher_threshold):\n",
    "    if row['close_shift'] - row['close'] > higher_threshold:\n",
    "        return 1\n",
    "    if row['close_shift'] - row['close'] < lowest_threshold:\n",
    "        return -1\n",
    "    else:\n",
    "        return 0"
   ],
   "metadata": {
    "collapsed": false,
    "pycharm": {
     "name": "#%%\n"
    }
   }
  },
  {
   "cell_type": "code",
   "execution_count": 15,
   "outputs": [
    {
     "name": "stderr",
     "output_type": "stream",
     "text": [
      "C:\\Users\\exomat\\anaconda3\\envs\\magisterka_analiza\\lib\\site-packages\\ta\\trend.py:768: RuntimeWarning: invalid value encountered in double_scalars\n",
      "  dip[i] = 100 * (self._dip[i] / self._trs[i])\n",
      "C:\\Users\\exomat\\anaconda3\\envs\\magisterka_analiza\\lib\\site-packages\\ta\\trend.py:772: RuntimeWarning: invalid value encountered in double_scalars\n",
      "  din[i] = 100 * (self._din[i] / self._trs[i])\n"
     ]
    },
    {
     "data": {
      "text/plain": "                                 open        high         low       close  \\\nDatetime                                                                    \n2019-09-09 04:00:00-04:00   53.347500   53.450000   53.347500   53.450000   \n2019-09-09 06:00:00-04:00   53.415000   53.575000   53.415000   53.575000   \n2019-09-09 07:00:00-04:00   53.557500   53.575000   53.500000   53.500000   \n2019-09-09 08:00:00-04:00   53.520000   53.640000   53.500000   53.625000   \n2019-09-09 09:00:00-04:00   53.612500   53.710000   53.612500   53.710000   \n...                               ...         ...         ...         ...   \n2021-09-07 08:00:00-04:00  154.700000  155.200000  153.915000  154.960000   \n2021-09-07 09:00:00-04:00  154.960000  155.070000  154.850000  154.870000   \n2021-09-07 09:30:00-04:00  154.860001  155.955002  154.389999  155.650101   \n2021-09-07 10:30:00-04:00  155.649994  156.229996  155.600006  156.080002   \n2021-09-07 10:59:17-04:00  156.050003  156.050003  156.050003  156.050003   \n\n                            Adj Close    volume  close_pct    volume_adi  \\\nDatetime                                                                   \n2019-09-09 04:00:00-04:00   53.450000         0        NaN  0.000000e+00   \n2019-09-09 06:00:00-04:00   53.575000         0   0.002339  0.000000e+00   \n2019-09-09 07:00:00-04:00   53.500000         0  -0.001400  0.000000e+00   \n2019-09-09 08:00:00-04:00   53.625000         0   0.002336  0.000000e+00   \n2019-09-09 09:00:00-04:00   53.710000         0   0.001585  0.000000e+00   \n...                               ...       ...        ...           ...   \n2021-09-07 08:00:00-04:00  154.960000         0   0.001745  1.785914e+09   \n2021-09-07 09:00:00-04:00  154.870000         0  -0.000581  1.785914e+09   \n2021-09-07 09:30:00-04:00  155.650101  23867871   0.005037  1.800482e+09   \n2021-09-07 10:30:00-04:00  156.080002   5982921   0.002762  1.803616e+09   \n2021-09-07 10:59:17-04:00  156.050003         0  -0.000192  1.803616e+09   \n\n                           volume_obv  volume_cmf  ...  momentum_ao  \\\nDatetime                                           ...                \n2019-09-09 04:00:00-04:00           0    0.000000  ...     0.000000   \n2019-09-09 06:00:00-04:00           0    0.000000  ...     0.000000   \n2019-09-09 07:00:00-04:00           0    0.000000  ...     0.000000   \n2019-09-09 08:00:00-04:00           0    0.000000  ...     0.000000   \n2019-09-09 09:00:00-04:00           0    0.000000  ...     0.000000   \n...                               ...         ...  ...          ...   \n2021-09-07 08:00:00-04:00   606947585    0.140480  ...     0.739398   \n2021-09-07 09:00:00-04:00   606947585    0.140480  ...     0.790987   \n2021-09-07 09:30:00-04:00   630815456    0.286344  ...     0.901191   \n2021-09-07 10:30:00-04:00   636798377    0.303489  ...     1.150544   \n2021-09-07 10:59:17-04:00   636798377    0.303489  ...     1.391574   \n\n                           momentum_kama  momentum_roc  momentum_ppo  \\\nDatetime                                                               \n2019-09-09 04:00:00-04:00      53.450000      0.000000      0.000000   \n2019-09-09 06:00:00-04:00      53.504003      0.000000      0.000000   \n2019-09-09 07:00:00-04:00      53.502281      0.000000      0.000000   \n2019-09-09 08:00:00-04:00      53.554681      0.000000      0.000000   \n2019-09-09 09:00:00-04:00      53.621276      0.000000      0.000000   \n...                                  ...           ...           ...   \n2021-09-07 08:00:00-04:00     154.268120      0.597252    -49.892636   \n2021-09-07 09:00:00-04:00     154.309345      0.633546    -54.209578   \n2021-09-07 09:30:00-04:00     154.542867      0.910957     22.340552   \n2021-09-07 10:30:00-04:00     154.856373      1.147044     22.937037   \n2021-09-07 10:59:17-04:00     155.087803      1.176778     12.345538   \n\n                           momentum_ppo_signal  momentum_ppo_hist  others_dr  \\\nDatetime                                                                       \n2019-09-09 04:00:00-04:00             0.000000           0.000000 -48.273268   \n2019-09-09 06:00:00-04:00             0.000000           0.000000   0.233863   \n2019-09-09 07:00:00-04:00             0.000000           0.000000  -0.139991   \n2019-09-09 08:00:00-04:00             0.000000           0.000000   0.233645   \n2019-09-09 09:00:00-04:00             0.000000           0.000000   0.158508   \n...                                        ...                ...        ...   \n2021-09-07 08:00:00-04:00           -29.925861         -19.966775   0.174543   \n2021-09-07 09:00:00-04:00           -34.782604         -19.426974  -0.058080   \n2021-09-07 09:30:00-04:00           -23.357973          45.698525   0.503713   \n2021-09-07 10:30:00-04:00           -14.098971          37.036008   0.276197   \n2021-09-07 10:59:17-04:00            -8.810069          21.155608  -0.019220   \n\n                           others_dlr   others_cr  close_shift  \nDatetime                                                        \n2019-09-09 04:00:00-04:00    0.000000    0.000000      53.1750  \n2019-09-09 06:00:00-04:00    0.233590    0.233863      53.3325  \n2019-09-09 07:00:00-04:00   -0.140089    0.093545      53.3500  \n2019-09-09 08:00:00-04:00    0.233372    0.327409      53.5025  \n2019-09-09 09:00:00-04:00    0.158383    0.486436      53.5000  \n...                               ...         ...          ...  \n2021-09-07 08:00:00-04:00    0.174390  189.915809          NaN  \n2021-09-07 09:00:00-04:00   -0.058096  189.747428          NaN  \n2021-09-07 09:30:00-04:00    0.502449  191.206924          NaN  \n2021-09-07 10:30:00-04:00    0.275816  192.011229          NaN  \n2021-09-07 10:59:17-04:00   -0.019222  191.955104          NaN  \n\n[8354 rows x 91 columns]",
      "text/html": "<div>\n<style scoped>\n    .dataframe tbody tr th:only-of-type {\n        vertical-align: middle;\n    }\n\n    .dataframe tbody tr th {\n        vertical-align: top;\n    }\n\n    .dataframe thead th {\n        text-align: right;\n    }\n</style>\n<table border=\"1\" class=\"dataframe\">\n  <thead>\n    <tr style=\"text-align: right;\">\n      <th></th>\n      <th>open</th>\n      <th>high</th>\n      <th>low</th>\n      <th>close</th>\n      <th>Adj Close</th>\n      <th>volume</th>\n      <th>close_pct</th>\n      <th>volume_adi</th>\n      <th>volume_obv</th>\n      <th>volume_cmf</th>\n      <th>...</th>\n      <th>momentum_ao</th>\n      <th>momentum_kama</th>\n      <th>momentum_roc</th>\n      <th>momentum_ppo</th>\n      <th>momentum_ppo_signal</th>\n      <th>momentum_ppo_hist</th>\n      <th>others_dr</th>\n      <th>others_dlr</th>\n      <th>others_cr</th>\n      <th>close_shift</th>\n    </tr>\n    <tr>\n      <th>Datetime</th>\n      <th></th>\n      <th></th>\n      <th></th>\n      <th></th>\n      <th></th>\n      <th></th>\n      <th></th>\n      <th></th>\n      <th></th>\n      <th></th>\n      <th></th>\n      <th></th>\n      <th></th>\n      <th></th>\n      <th></th>\n      <th></th>\n      <th></th>\n      <th></th>\n      <th></th>\n      <th></th>\n      <th></th>\n    </tr>\n  </thead>\n  <tbody>\n    <tr>\n      <th>2019-09-09 04:00:00-04:00</th>\n      <td>53.347500</td>\n      <td>53.450000</td>\n      <td>53.347500</td>\n      <td>53.450000</td>\n      <td>53.450000</td>\n      <td>0</td>\n      <td>NaN</td>\n      <td>0.000000e+00</td>\n      <td>0</td>\n      <td>0.000000</td>\n      <td>...</td>\n      <td>0.000000</td>\n      <td>53.450000</td>\n      <td>0.000000</td>\n      <td>0.000000</td>\n      <td>0.000000</td>\n      <td>0.000000</td>\n      <td>-48.273268</td>\n      <td>0.000000</td>\n      <td>0.000000</td>\n      <td>53.1750</td>\n    </tr>\n    <tr>\n      <th>2019-09-09 06:00:00-04:00</th>\n      <td>53.415000</td>\n      <td>53.575000</td>\n      <td>53.415000</td>\n      <td>53.575000</td>\n      <td>53.575000</td>\n      <td>0</td>\n      <td>0.002339</td>\n      <td>0.000000e+00</td>\n      <td>0</td>\n      <td>0.000000</td>\n      <td>...</td>\n      <td>0.000000</td>\n      <td>53.504003</td>\n      <td>0.000000</td>\n      <td>0.000000</td>\n      <td>0.000000</td>\n      <td>0.000000</td>\n      <td>0.233863</td>\n      <td>0.233590</td>\n      <td>0.233863</td>\n      <td>53.3325</td>\n    </tr>\n    <tr>\n      <th>2019-09-09 07:00:00-04:00</th>\n      <td>53.557500</td>\n      <td>53.575000</td>\n      <td>53.500000</td>\n      <td>53.500000</td>\n      <td>53.500000</td>\n      <td>0</td>\n      <td>-0.001400</td>\n      <td>0.000000e+00</td>\n      <td>0</td>\n      <td>0.000000</td>\n      <td>...</td>\n      <td>0.000000</td>\n      <td>53.502281</td>\n      <td>0.000000</td>\n      <td>0.000000</td>\n      <td>0.000000</td>\n      <td>0.000000</td>\n      <td>-0.139991</td>\n      <td>-0.140089</td>\n      <td>0.093545</td>\n      <td>53.3500</td>\n    </tr>\n    <tr>\n      <th>2019-09-09 08:00:00-04:00</th>\n      <td>53.520000</td>\n      <td>53.640000</td>\n      <td>53.500000</td>\n      <td>53.625000</td>\n      <td>53.625000</td>\n      <td>0</td>\n      <td>0.002336</td>\n      <td>0.000000e+00</td>\n      <td>0</td>\n      <td>0.000000</td>\n      <td>...</td>\n      <td>0.000000</td>\n      <td>53.554681</td>\n      <td>0.000000</td>\n      <td>0.000000</td>\n      <td>0.000000</td>\n      <td>0.000000</td>\n      <td>0.233645</td>\n      <td>0.233372</td>\n      <td>0.327409</td>\n      <td>53.5025</td>\n    </tr>\n    <tr>\n      <th>2019-09-09 09:00:00-04:00</th>\n      <td>53.612500</td>\n      <td>53.710000</td>\n      <td>53.612500</td>\n      <td>53.710000</td>\n      <td>53.710000</td>\n      <td>0</td>\n      <td>0.001585</td>\n      <td>0.000000e+00</td>\n      <td>0</td>\n      <td>0.000000</td>\n      <td>...</td>\n      <td>0.000000</td>\n      <td>53.621276</td>\n      <td>0.000000</td>\n      <td>0.000000</td>\n      <td>0.000000</td>\n      <td>0.000000</td>\n      <td>0.158508</td>\n      <td>0.158383</td>\n      <td>0.486436</td>\n      <td>53.5000</td>\n    </tr>\n    <tr>\n      <th>...</th>\n      <td>...</td>\n      <td>...</td>\n      <td>...</td>\n      <td>...</td>\n      <td>...</td>\n      <td>...</td>\n      <td>...</td>\n      <td>...</td>\n      <td>...</td>\n      <td>...</td>\n      <td>...</td>\n      <td>...</td>\n      <td>...</td>\n      <td>...</td>\n      <td>...</td>\n      <td>...</td>\n      <td>...</td>\n      <td>...</td>\n      <td>...</td>\n      <td>...</td>\n      <td>...</td>\n    </tr>\n    <tr>\n      <th>2021-09-07 08:00:00-04:00</th>\n      <td>154.700000</td>\n      <td>155.200000</td>\n      <td>153.915000</td>\n      <td>154.960000</td>\n      <td>154.960000</td>\n      <td>0</td>\n      <td>0.001745</td>\n      <td>1.785914e+09</td>\n      <td>606947585</td>\n      <td>0.140480</td>\n      <td>...</td>\n      <td>0.739398</td>\n      <td>154.268120</td>\n      <td>0.597252</td>\n      <td>-49.892636</td>\n      <td>-29.925861</td>\n      <td>-19.966775</td>\n      <td>0.174543</td>\n      <td>0.174390</td>\n      <td>189.915809</td>\n      <td>NaN</td>\n    </tr>\n    <tr>\n      <th>2021-09-07 09:00:00-04:00</th>\n      <td>154.960000</td>\n      <td>155.070000</td>\n      <td>154.850000</td>\n      <td>154.870000</td>\n      <td>154.870000</td>\n      <td>0</td>\n      <td>-0.000581</td>\n      <td>1.785914e+09</td>\n      <td>606947585</td>\n      <td>0.140480</td>\n      <td>...</td>\n      <td>0.790987</td>\n      <td>154.309345</td>\n      <td>0.633546</td>\n      <td>-54.209578</td>\n      <td>-34.782604</td>\n      <td>-19.426974</td>\n      <td>-0.058080</td>\n      <td>-0.058096</td>\n      <td>189.747428</td>\n      <td>NaN</td>\n    </tr>\n    <tr>\n      <th>2021-09-07 09:30:00-04:00</th>\n      <td>154.860001</td>\n      <td>155.955002</td>\n      <td>154.389999</td>\n      <td>155.650101</td>\n      <td>155.650101</td>\n      <td>23867871</td>\n      <td>0.005037</td>\n      <td>1.800482e+09</td>\n      <td>630815456</td>\n      <td>0.286344</td>\n      <td>...</td>\n      <td>0.901191</td>\n      <td>154.542867</td>\n      <td>0.910957</td>\n      <td>22.340552</td>\n      <td>-23.357973</td>\n      <td>45.698525</td>\n      <td>0.503713</td>\n      <td>0.502449</td>\n      <td>191.206924</td>\n      <td>NaN</td>\n    </tr>\n    <tr>\n      <th>2021-09-07 10:30:00-04:00</th>\n      <td>155.649994</td>\n      <td>156.229996</td>\n      <td>155.600006</td>\n      <td>156.080002</td>\n      <td>156.080002</td>\n      <td>5982921</td>\n      <td>0.002762</td>\n      <td>1.803616e+09</td>\n      <td>636798377</td>\n      <td>0.303489</td>\n      <td>...</td>\n      <td>1.150544</td>\n      <td>154.856373</td>\n      <td>1.147044</td>\n      <td>22.937037</td>\n      <td>-14.098971</td>\n      <td>37.036008</td>\n      <td>0.276197</td>\n      <td>0.275816</td>\n      <td>192.011229</td>\n      <td>NaN</td>\n    </tr>\n    <tr>\n      <th>2021-09-07 10:59:17-04:00</th>\n      <td>156.050003</td>\n      <td>156.050003</td>\n      <td>156.050003</td>\n      <td>156.050003</td>\n      <td>156.050003</td>\n      <td>0</td>\n      <td>-0.000192</td>\n      <td>1.803616e+09</td>\n      <td>636798377</td>\n      <td>0.303489</td>\n      <td>...</td>\n      <td>1.391574</td>\n      <td>155.087803</td>\n      <td>1.176778</td>\n      <td>12.345538</td>\n      <td>-8.810069</td>\n      <td>21.155608</td>\n      <td>-0.019220</td>\n      <td>-0.019222</td>\n      <td>191.955104</td>\n      <td>NaN</td>\n    </tr>\n  </tbody>\n</table>\n<p>8354 rows × 91 columns</p>\n</div>"
     },
     "execution_count": 15,
     "metadata": {},
     "output_type": "execute_result"
    }
   ],
   "source": [
    "data = _get_indicator_data(data)\n",
    "data['close_shift'] = data.shift(-WINDOW)['close']\n",
    "moved_price = data['close_shift'].copy()\n",
    "data"
   ],
   "metadata": {
    "collapsed": false,
    "pycharm": {
     "name": "#%%\n"
    }
   }
  },
  {
   "cell_type": "code",
   "execution_count": 16,
   "outputs": [
    {
     "data": {
      "text/plain": "Datetime\n2019-09-09 04:00:00-04:00    53.1750\n2019-09-09 06:00:00-04:00    53.3325\n2019-09-09 07:00:00-04:00    53.3500\n2019-09-09 08:00:00-04:00    53.5025\n2019-09-09 09:00:00-04:00    53.5000\n                              ...   \n2021-09-07 08:00:00-04:00        NaN\n2021-09-07 09:00:00-04:00        NaN\n2021-09-07 09:30:00-04:00        NaN\n2021-09-07 10:30:00-04:00        NaN\n2021-09-07 10:59:17-04:00        NaN\nName: close_shift, Length: 8354, dtype: float64"
     },
     "execution_count": 16,
     "metadata": {},
     "output_type": "execute_result"
    }
   ],
   "source": [
    "moved_price\n"
   ],
   "metadata": {
    "collapsed": false,
    "pycharm": {
     "name": "#%%\n"
    }
   }
  },
  {
   "cell_type": "code",
   "execution_count": 17,
   "outputs": [
    {
     "data": {
      "text/plain": "                                 open        high         low       close  \\\nDatetime                                                                    \n2019-09-09 04:00:00-04:00   53.347500   53.450000   53.347500   53.450000   \n2019-09-09 06:00:00-04:00   53.415000   53.575000   53.415000   53.575000   \n2019-09-09 07:00:00-04:00   53.557500   53.575000   53.500000   53.500000   \n2019-09-09 08:00:00-04:00   53.520000   53.640000   53.500000   53.625000   \n2019-09-09 09:00:00-04:00   53.612500   53.710000   53.612500   53.710000   \n...                               ...         ...         ...         ...   \n2021-09-07 08:00:00-04:00  154.700000  155.200000  153.915000  154.960000   \n2021-09-07 09:00:00-04:00  154.960000  155.070000  154.850000  154.870000   \n2021-09-07 09:30:00-04:00  154.860001  155.955002  154.389999  155.650101   \n2021-09-07 10:30:00-04:00  155.649994  156.229996  155.600006  156.080002   \n2021-09-07 10:59:17-04:00  156.050003  156.050003  156.050003  156.050003   \n\n                            Adj Close    volume  close_pct    volume_adi  \\\nDatetime                                                                   \n2019-09-09 04:00:00-04:00   53.450000         0        NaN  0.000000e+00   \n2019-09-09 06:00:00-04:00   53.575000         0   0.002339  0.000000e+00   \n2019-09-09 07:00:00-04:00   53.500000         0  -0.001400  0.000000e+00   \n2019-09-09 08:00:00-04:00   53.625000         0   0.002336  0.000000e+00   \n2019-09-09 09:00:00-04:00   53.710000         0   0.001585  0.000000e+00   \n...                               ...       ...        ...           ...   \n2021-09-07 08:00:00-04:00  154.960000         0   0.001745  1.785914e+09   \n2021-09-07 09:00:00-04:00  154.870000         0  -0.000581  1.785914e+09   \n2021-09-07 09:30:00-04:00  155.650101  23867871   0.005037  1.800482e+09   \n2021-09-07 10:30:00-04:00  156.080002   5982921   0.002762  1.803616e+09   \n2021-09-07 10:59:17-04:00  156.050003         0  -0.000192  1.803616e+09   \n\n                           volume_obv  volume_cmf  ...  momentum_kama  \\\nDatetime                                           ...                  \n2019-09-09 04:00:00-04:00           0    0.000000  ...      53.450000   \n2019-09-09 06:00:00-04:00           0    0.000000  ...      53.504003   \n2019-09-09 07:00:00-04:00           0    0.000000  ...      53.502281   \n2019-09-09 08:00:00-04:00           0    0.000000  ...      53.554681   \n2019-09-09 09:00:00-04:00           0    0.000000  ...      53.621276   \n...                               ...         ...  ...            ...   \n2021-09-07 08:00:00-04:00   606947585    0.140480  ...     154.268120   \n2021-09-07 09:00:00-04:00   606947585    0.140480  ...     154.309345   \n2021-09-07 09:30:00-04:00   630815456    0.286344  ...     154.542867   \n2021-09-07 10:30:00-04:00   636798377    0.303489  ...     154.856373   \n2021-09-07 10:59:17-04:00   636798377    0.303489  ...     155.087803   \n\n                           momentum_roc  momentum_ppo  momentum_ppo_signal  \\\nDatetime                                                                     \n2019-09-09 04:00:00-04:00      0.000000      0.000000             0.000000   \n2019-09-09 06:00:00-04:00      0.000000      0.000000             0.000000   \n2019-09-09 07:00:00-04:00      0.000000      0.000000             0.000000   \n2019-09-09 08:00:00-04:00      0.000000      0.000000             0.000000   \n2019-09-09 09:00:00-04:00      0.000000      0.000000             0.000000   \n...                                 ...           ...                  ...   \n2021-09-07 08:00:00-04:00      0.597252    -49.892636           -29.925861   \n2021-09-07 09:00:00-04:00      0.633546    -54.209578           -34.782604   \n2021-09-07 09:30:00-04:00      0.910957     22.340552           -23.357973   \n2021-09-07 10:30:00-04:00      1.147044     22.937037           -14.098971   \n2021-09-07 10:59:17-04:00      1.176778     12.345538            -8.810069   \n\n                           momentum_ppo_hist  others_dr  others_dlr  \\\nDatetime                                                              \n2019-09-09 04:00:00-04:00           0.000000 -48.273268    0.000000   \n2019-09-09 06:00:00-04:00           0.000000   0.233863    0.233590   \n2019-09-09 07:00:00-04:00           0.000000  -0.139991   -0.140089   \n2019-09-09 08:00:00-04:00           0.000000   0.233645    0.233372   \n2019-09-09 09:00:00-04:00           0.000000   0.158508    0.158383   \n...                                      ...        ...         ...   \n2021-09-07 08:00:00-04:00         -19.966775   0.174543    0.174390   \n2021-09-07 09:00:00-04:00         -19.426974  -0.058080   -0.058096   \n2021-09-07 09:30:00-04:00          45.698525   0.503713    0.502449   \n2021-09-07 10:30:00-04:00          37.036008   0.276197    0.275816   \n2021-09-07 10:59:17-04:00          21.155608  -0.019220   -0.019222   \n\n                            others_cr  close_shift  class_column  \nDatetime                                                          \n2019-09-09 04:00:00-04:00    0.000000      53.1750             0  \n2019-09-09 06:00:00-04:00    0.233863      53.3325             0  \n2019-09-09 07:00:00-04:00    0.093545      53.3500             0  \n2019-09-09 08:00:00-04:00    0.327409      53.5025             0  \n2019-09-09 09:00:00-04:00    0.486436      53.5000             0  \n...                               ...          ...           ...  \n2021-09-07 08:00:00-04:00  189.915809          NaN             0  \n2021-09-07 09:00:00-04:00  189.747428          NaN             0  \n2021-09-07 09:30:00-04:00  191.206924          NaN             0  \n2021-09-07 10:30:00-04:00  192.011229          NaN             0  \n2021-09-07 10:59:17-04:00  191.955104          NaN             0  \n\n[8354 rows x 92 columns]",
      "text/html": "<div>\n<style scoped>\n    .dataframe tbody tr th:only-of-type {\n        vertical-align: middle;\n    }\n\n    .dataframe tbody tr th {\n        vertical-align: top;\n    }\n\n    .dataframe thead th {\n        text-align: right;\n    }\n</style>\n<table border=\"1\" class=\"dataframe\">\n  <thead>\n    <tr style=\"text-align: right;\">\n      <th></th>\n      <th>open</th>\n      <th>high</th>\n      <th>low</th>\n      <th>close</th>\n      <th>Adj Close</th>\n      <th>volume</th>\n      <th>close_pct</th>\n      <th>volume_adi</th>\n      <th>volume_obv</th>\n      <th>volume_cmf</th>\n      <th>...</th>\n      <th>momentum_kama</th>\n      <th>momentum_roc</th>\n      <th>momentum_ppo</th>\n      <th>momentum_ppo_signal</th>\n      <th>momentum_ppo_hist</th>\n      <th>others_dr</th>\n      <th>others_dlr</th>\n      <th>others_cr</th>\n      <th>close_shift</th>\n      <th>class_column</th>\n    </tr>\n    <tr>\n      <th>Datetime</th>\n      <th></th>\n      <th></th>\n      <th></th>\n      <th></th>\n      <th></th>\n      <th></th>\n      <th></th>\n      <th></th>\n      <th></th>\n      <th></th>\n      <th></th>\n      <th></th>\n      <th></th>\n      <th></th>\n      <th></th>\n      <th></th>\n      <th></th>\n      <th></th>\n      <th></th>\n      <th></th>\n      <th></th>\n    </tr>\n  </thead>\n  <tbody>\n    <tr>\n      <th>2019-09-09 04:00:00-04:00</th>\n      <td>53.347500</td>\n      <td>53.450000</td>\n      <td>53.347500</td>\n      <td>53.450000</td>\n      <td>53.450000</td>\n      <td>0</td>\n      <td>NaN</td>\n      <td>0.000000e+00</td>\n      <td>0</td>\n      <td>0.000000</td>\n      <td>...</td>\n      <td>53.450000</td>\n      <td>0.000000</td>\n      <td>0.000000</td>\n      <td>0.000000</td>\n      <td>0.000000</td>\n      <td>-48.273268</td>\n      <td>0.000000</td>\n      <td>0.000000</td>\n      <td>53.1750</td>\n      <td>0</td>\n    </tr>\n    <tr>\n      <th>2019-09-09 06:00:00-04:00</th>\n      <td>53.415000</td>\n      <td>53.575000</td>\n      <td>53.415000</td>\n      <td>53.575000</td>\n      <td>53.575000</td>\n      <td>0</td>\n      <td>0.002339</td>\n      <td>0.000000e+00</td>\n      <td>0</td>\n      <td>0.000000</td>\n      <td>...</td>\n      <td>53.504003</td>\n      <td>0.000000</td>\n      <td>0.000000</td>\n      <td>0.000000</td>\n      <td>0.000000</td>\n      <td>0.233863</td>\n      <td>0.233590</td>\n      <td>0.233863</td>\n      <td>53.3325</td>\n      <td>0</td>\n    </tr>\n    <tr>\n      <th>2019-09-09 07:00:00-04:00</th>\n      <td>53.557500</td>\n      <td>53.575000</td>\n      <td>53.500000</td>\n      <td>53.500000</td>\n      <td>53.500000</td>\n      <td>0</td>\n      <td>-0.001400</td>\n      <td>0.000000e+00</td>\n      <td>0</td>\n      <td>0.000000</td>\n      <td>...</td>\n      <td>53.502281</td>\n      <td>0.000000</td>\n      <td>0.000000</td>\n      <td>0.000000</td>\n      <td>0.000000</td>\n      <td>-0.139991</td>\n      <td>-0.140089</td>\n      <td>0.093545</td>\n      <td>53.3500</td>\n      <td>0</td>\n    </tr>\n    <tr>\n      <th>2019-09-09 08:00:00-04:00</th>\n      <td>53.520000</td>\n      <td>53.640000</td>\n      <td>53.500000</td>\n      <td>53.625000</td>\n      <td>53.625000</td>\n      <td>0</td>\n      <td>0.002336</td>\n      <td>0.000000e+00</td>\n      <td>0</td>\n      <td>0.000000</td>\n      <td>...</td>\n      <td>53.554681</td>\n      <td>0.000000</td>\n      <td>0.000000</td>\n      <td>0.000000</td>\n      <td>0.000000</td>\n      <td>0.233645</td>\n      <td>0.233372</td>\n      <td>0.327409</td>\n      <td>53.5025</td>\n      <td>0</td>\n    </tr>\n    <tr>\n      <th>2019-09-09 09:00:00-04:00</th>\n      <td>53.612500</td>\n      <td>53.710000</td>\n      <td>53.612500</td>\n      <td>53.710000</td>\n      <td>53.710000</td>\n      <td>0</td>\n      <td>0.001585</td>\n      <td>0.000000e+00</td>\n      <td>0</td>\n      <td>0.000000</td>\n      <td>...</td>\n      <td>53.621276</td>\n      <td>0.000000</td>\n      <td>0.000000</td>\n      <td>0.000000</td>\n      <td>0.000000</td>\n      <td>0.158508</td>\n      <td>0.158383</td>\n      <td>0.486436</td>\n      <td>53.5000</td>\n      <td>0</td>\n    </tr>\n    <tr>\n      <th>...</th>\n      <td>...</td>\n      <td>...</td>\n      <td>...</td>\n      <td>...</td>\n      <td>...</td>\n      <td>...</td>\n      <td>...</td>\n      <td>...</td>\n      <td>...</td>\n      <td>...</td>\n      <td>...</td>\n      <td>...</td>\n      <td>...</td>\n      <td>...</td>\n      <td>...</td>\n      <td>...</td>\n      <td>...</td>\n      <td>...</td>\n      <td>...</td>\n      <td>...</td>\n      <td>...</td>\n    </tr>\n    <tr>\n      <th>2021-09-07 08:00:00-04:00</th>\n      <td>154.700000</td>\n      <td>155.200000</td>\n      <td>153.915000</td>\n      <td>154.960000</td>\n      <td>154.960000</td>\n      <td>0</td>\n      <td>0.001745</td>\n      <td>1.785914e+09</td>\n      <td>606947585</td>\n      <td>0.140480</td>\n      <td>...</td>\n      <td>154.268120</td>\n      <td>0.597252</td>\n      <td>-49.892636</td>\n      <td>-29.925861</td>\n      <td>-19.966775</td>\n      <td>0.174543</td>\n      <td>0.174390</td>\n      <td>189.915809</td>\n      <td>NaN</td>\n      <td>0</td>\n    </tr>\n    <tr>\n      <th>2021-09-07 09:00:00-04:00</th>\n      <td>154.960000</td>\n      <td>155.070000</td>\n      <td>154.850000</td>\n      <td>154.870000</td>\n      <td>154.870000</td>\n      <td>0</td>\n      <td>-0.000581</td>\n      <td>1.785914e+09</td>\n      <td>606947585</td>\n      <td>0.140480</td>\n      <td>...</td>\n      <td>154.309345</td>\n      <td>0.633546</td>\n      <td>-54.209578</td>\n      <td>-34.782604</td>\n      <td>-19.426974</td>\n      <td>-0.058080</td>\n      <td>-0.058096</td>\n      <td>189.747428</td>\n      <td>NaN</td>\n      <td>0</td>\n    </tr>\n    <tr>\n      <th>2021-09-07 09:30:00-04:00</th>\n      <td>154.860001</td>\n      <td>155.955002</td>\n      <td>154.389999</td>\n      <td>155.650101</td>\n      <td>155.650101</td>\n      <td>23867871</td>\n      <td>0.005037</td>\n      <td>1.800482e+09</td>\n      <td>630815456</td>\n      <td>0.286344</td>\n      <td>...</td>\n      <td>154.542867</td>\n      <td>0.910957</td>\n      <td>22.340552</td>\n      <td>-23.357973</td>\n      <td>45.698525</td>\n      <td>0.503713</td>\n      <td>0.502449</td>\n      <td>191.206924</td>\n      <td>NaN</td>\n      <td>0</td>\n    </tr>\n    <tr>\n      <th>2021-09-07 10:30:00-04:00</th>\n      <td>155.649994</td>\n      <td>156.229996</td>\n      <td>155.600006</td>\n      <td>156.080002</td>\n      <td>156.080002</td>\n      <td>5982921</td>\n      <td>0.002762</td>\n      <td>1.803616e+09</td>\n      <td>636798377</td>\n      <td>0.303489</td>\n      <td>...</td>\n      <td>154.856373</td>\n      <td>1.147044</td>\n      <td>22.937037</td>\n      <td>-14.098971</td>\n      <td>37.036008</td>\n      <td>0.276197</td>\n      <td>0.275816</td>\n      <td>192.011229</td>\n      <td>NaN</td>\n      <td>0</td>\n    </tr>\n    <tr>\n      <th>2021-09-07 10:59:17-04:00</th>\n      <td>156.050003</td>\n      <td>156.050003</td>\n      <td>156.050003</td>\n      <td>156.050003</td>\n      <td>156.050003</td>\n      <td>0</td>\n      <td>-0.000192</td>\n      <td>1.803616e+09</td>\n      <td>636798377</td>\n      <td>0.303489</td>\n      <td>...</td>\n      <td>155.087803</td>\n      <td>1.176778</td>\n      <td>12.345538</td>\n      <td>-8.810069</td>\n      <td>21.155608</td>\n      <td>-0.019220</td>\n      <td>-0.019222</td>\n      <td>191.955104</td>\n      <td>NaN</td>\n      <td>0</td>\n    </tr>\n  </tbody>\n</table>\n<p>8354 rows × 92 columns</p>\n</div>"
     },
     "execution_count": 17,
     "metadata": {},
     "output_type": "execute_result"
    }
   ],
   "source": [
    "def create_class(df):\n",
    "    higher_threshold = 1.5\n",
    "    lowest_threshold = -1.5\n",
    "    last_values_higher = []\n",
    "    last_values_lower = []\n",
    "    df['class_column'] = df.apply((lambda x: create_class_column(x, lowest_threshold, higher_threshold)), axis=1)\n",
    "    while True:\n",
    "        class_counts = df['class_column'].value_counts()\n",
    "        if abs(class_counts[0] - class_counts[1]) < 15 and abs(class_counts[0] - class_counts[-1]) < 15:\n",
    "            break\n",
    "\n",
    "        if len(last_values_higher) == 3:\n",
    "            last_values_higher.pop(0)\n",
    "        if len(last_values_lower) == 3:\n",
    "            last_values_lower.pop(0)\n",
    "\n",
    "        last_values_higher.append(higher_threshold)\n",
    "        last_values_lower.append(lowest_threshold)\n",
    "        if class_counts[0] > class_counts[1]:\n",
    "            higher_threshold -= 0.01\n",
    "        if class_counts[0] > class_counts[-1]:\n",
    "            lowest_threshold += 0.01\n",
    "        if class_counts[0] < class_counts[1]:\n",
    "            higher_threshold += 0.01\n",
    "        if class_counts[0] < class_counts[-1]:\n",
    "            lowest_threshold -= 0.01\n",
    "\n",
    "        if higher_threshold in last_values_higher and lowest_threshold in last_values_lower:\n",
    "            break\n",
    "        df['class_column'] = df.apply((lambda x: create_class_column(x, lowest_threshold, higher_threshold)),\n",
    "                                      axis=1)\n",
    "    return df\n",
    "\n",
    "\n",
    "data = create_class(data)\n",
    "\n",
    "data\n"
   ],
   "metadata": {
    "collapsed": false,
    "pycharm": {
     "name": "#%%\n"
    }
   }
  },
  {
   "cell_type": "code",
   "execution_count": 18,
   "outputs": [
    {
     "name": "stdout",
     "output_type": "stream",
     "text": [
      "C:\\Users\\exomat\\Desktop\\repo\\magisterka_analiza\\data\\results\\train_test\\AAPL_2y_16_diff_07_09_2021 16_59_35_full.csv\n"
     ]
    }
   ],
   "source": [
    "filename_to_export = f'C:\\\\Users\\\\exomat\\\\Desktop\\\\repo\\\\magisterka_analiza\\\\data\\\\results\\\\train_test\\\\{symbol}_{INTERVAL}_{WINDOW}_diff_{datetime.now().strftime(\"%d_%m_%Y %H_%M_%S\")}_full.csv'\n",
    "data.to_csv(filename_to_export, index=True)\n",
    "print(filename_to_export)"
   ],
   "metadata": {
    "collapsed": false,
    "pycharm": {
     "name": "#%%\n"
    }
   }
  },
  {
   "cell_type": "code",
   "execution_count": 19,
   "outputs": [
    {
     "data": {
      "text/plain": " 0    2815\n 1    2781\n-1    2758\nName: class_column, dtype: int64"
     },
     "execution_count": 19,
     "metadata": {},
     "output_type": "execute_result"
    }
   ],
   "source": [
    "\n",
    "# Class divide\n",
    "data['class_column'].value_counts()"
   ],
   "metadata": {
    "collapsed": false,
    "pycharm": {
     "name": "#%%\n"
    }
   }
  },
  {
   "cell_type": "code",
   "execution_count": 20,
   "outputs": [],
   "source": [
    "# del (data['close'])\n",
    "# del (data['close_shift'])\n",
    "data = data.dropna()"
   ],
   "metadata": {
    "collapsed": false,
    "pycharm": {
     "name": "#%%\n"
    }
   }
  },
  {
   "cell_type": "code",
   "execution_count": 21,
   "outputs": [
    {
     "data": {
      "text/plain": " 0    2798\n 1    2781\n-1    2758\nName: class_column, dtype: int64"
     },
     "execution_count": 21,
     "metadata": {},
     "output_type": "execute_result"
    }
   ],
   "source": [
    "data['class_column'].value_counts()\n"
   ],
   "metadata": {
    "collapsed": false,
    "pycharm": {
     "name": "#%%\n"
    }
   }
  },
  {
   "cell_type": "code",
   "execution_count": 22,
   "outputs": [],
   "source": [
    "def split_dataframe(df, chunk_size=17):\n",
    "    chunks = list()\n",
    "    num_chunks = len(df) // chunk_size + 1\n",
    "    for i in range(num_chunks):\n",
    "        chunks.append(df[i * chunk_size:(i + 1) * chunk_size])\n",
    "    return chunks\n",
    "\n",
    "\n",
    "def train_model(model, train_x, train_y):\n",
    "    model.fit(train_x, train_y)"
   ],
   "metadata": {
    "collapsed": false,
    "pycharm": {
     "name": "#%%\n"
    }
   }
  },
  {
   "cell_type": "code",
   "execution_count": 23,
   "outputs": [
    {
     "data": {
      "text/plain": "491"
     },
     "execution_count": 23,
     "metadata": {},
     "output_type": "execute_result"
    }
   ],
   "source": [
    "splited_dataframe = split_dataframe(data, 17)\n",
    "len(splited_dataframe)"
   ],
   "metadata": {
    "collapsed": false,
    "pycharm": {
     "name": "#%%\n"
    }
   }
  },
  {
   "cell_type": "code",
   "execution_count": 24,
   "outputs": [],
   "source": [
    "y = data['class_column']\n",
    "features = [x for x in data.columns if x not in ['class_column', 'close_shift']]\n",
    "x = data[features]\n",
    "scaler = MinMaxScaler()\n",
    "# x = pd.DataFrame(scaler.fit_transform(x.values), columns=x.columns, index=x.index)\n",
    "x_train, x_test, y_train, y_test = train_test_split(x, y, test_size=0.1, shuffle=False)"
   ],
   "metadata": {
    "collapsed": false,
    "pycharm": {
     "name": "#%%\n"
    }
   }
  },
  {
   "cell_type": "code",
   "execution_count": 25,
   "outputs": [],
   "source": [
    "classifiers = dict()\n",
    "# classifiers['DecisionTreeClassifier 1'] = DecisionTreeClassifier(max_depth=15, random_state=0, criterion='gini',\n",
    "#                                                                  splitter='best')\n",
    "# classifiers['DecisionTreeClassifier 2'] = DecisionTreeClassifier(max_depth=40, random_state=0, criterion='gini',\n",
    "#                                                                  splitter='best')\n",
    "# classifiers['DecisionTreeClassifier 3'] = DecisionTreeClassifier(max_depth=10, random_state=0,criterion='gini',splitter='best')\n",
    "#\n",
    "#\n",
    "# classifiers['RandomForestClassifier 1'] = RandomForestClassifier(n_estimators=1000, max_depth=3, random_state=0,\n",
    "#                                                                  criterion='gini', n_jobs=-1)\n",
    "#\n",
    "# classifiers['RandomForestClassifier 2'] = RandomForestClassifier(n_estimators=1000, max_depth=3, random_state=0,\n",
    "#                                                                  criterion='entropy', n_jobs=-1)\n",
    "#\n",
    "# classifiers['RandomForestClassifier 3'] = RandomForestClassifier(n_estimators=100, max_depth=15, random_state=0,\n",
    "#                                                                  criterion='entropy', n_jobs=-1)\n",
    "#\n",
    "# classifiers['GradientBoostingClassifier 1'] = GradientBoostingClassifier(n_estimators=100, random_state=0,\n",
    "#                                                                          criterion='friedman_mse', max_depth=3,\n",
    "#                                                                          learning_rate=0.1)\n",
    "#\n",
    "classifiers['GradientBoostingClassifier 2'] = GradientBoostingClassifier(n_estimators=1000, random_state=0,\n",
    "                                                                         criterion='friedman_mse', max_depth=3,\n",
    "                                                                         learning_rate=0.5)\n",
    "\n",
    "# classifiers['XGBRFClassifier 1'] = xgb.sklearn.XGBRFClassifier(n_jobs=-1, max_depth=2, n_estimators=1000, eta=0.2 )\n",
    "# classifiers['XGBRFClassifier 2'] = xgb.sklearn.XGBRFClassifier(n_jobs=-1, max_depth=6, n_estimators=1000, eta=0.3)\n",
    "\n",
    "# classifiers['XGBClassifier 1'] = xgb.XGBClassifier(nthread=-1, max_depth=3, n_estimators=1000, eta=0.2)\n",
    "# classifiers['XGBClassifier 2'] = xgb.XGBClassifier(nthread=-1, max_depth=3, n_estimators=1000, eta=0.3)\n",
    "#\n",
    "classifiers_boosted = dict()\n",
    "# # classifiers_boosted['SGradientBoostingClassifier 1'] = GradientBoostingClassifier(n_estimators=100,random_state=0,criterion='friedman_mse',max_depth=3, learning_rate=0.1)\n",
    "# classifiers_boosted['SXGBClassifier 1'] = xgb.XGBClassifier(nthread=-1, max_depth=3, n_estimators=1000, eta=0.2)\n",
    "# classifiers_boosted['SXGBClassifier 2'] = xgb.XGBClassifier(nthread=-1, max_depth=3, n_estimators=1000, eta=0.3)\n",
    "# classifiers_boosted['SXGBClassifier 3'] = xgb.XGBClassifier(nthread=-1, max_depth=10, n_estimators=1000, eta=0.2)\n"
   ],
   "metadata": {
    "collapsed": false,
    "pycharm": {
     "name": "#%%\n"
    }
   }
  },
  {
   "cell_type": "code",
   "execution_count": 25,
   "outputs": [],
   "source": [],
   "metadata": {
    "collapsed": false,
    "pycharm": {
     "name": "#%%\n"
    }
   }
  },
  {
   "cell_type": "code",
   "execution_count": 26,
   "outputs": [
    {
     "data": {
      "text/plain": "80.9625"
     },
     "execution_count": 26,
     "metadata": {},
     "output_type": "execute_result"
    }
   ],
   "source": [
    "data['close'][1701]"
   ],
   "metadata": {
    "collapsed": false,
    "pycharm": {
     "name": "#%%\n"
    }
   }
  },
  {
   "cell_type": "code",
   "execution_count": 27,
   "outputs": [
    {
     "data": {
      "text/plain": "78.525"
     },
     "execution_count": 27,
     "metadata": {},
     "output_type": "execute_result"
    }
   ],
   "source": [
    "data['close'][1718]"
   ],
   "metadata": {
    "collapsed": false,
    "pycharm": {
     "name": "#%%\n"
    }
   }
  },
  {
   "cell_type": "code",
   "execution_count": 28,
   "outputs": [
    {
     "data": {
      "text/plain": "-3.0106530801296856"
     },
     "execution_count": 28,
     "metadata": {},
     "output_type": "execute_result"
    }
   ],
   "source": [
    "(((data['close'][1718] / data['close'][1701])*100)-100)"
   ],
   "metadata": {
    "collapsed": false,
    "pycharm": {
     "name": "#%%\n"
    }
   }
  },
  {
   "cell_type": "code",
   "execution_count": 28,
   "outputs": [],
   "source": [],
   "metadata": {
    "collapsed": false,
    "pycharm": {
     "name": "#%%\n"
    }
   }
  },
  {
   "cell_type": "code",
   "execution_count": 29,
   "outputs": [],
   "source": [
    "def calculate_change(predicted, correct, index):\n",
    "    change_percentage = (((data['close'][index+WINDOW] / data['close'][index])*100)-100)\n",
    "    if (predicted==1):\n",
    "        return change_percentage\n",
    "    if(predicted==0):\n",
    "        return 0\n",
    "    if (predicted== -1 ):\n",
    "        return 0\n",
    "        # return -change_percentage"
   ],
   "metadata": {
    "collapsed": false,
    "pycharm": {
     "name": "#%%\n"
    }
   }
  },
  {
   "cell_type": "code",
   "execution_count": 30,
   "outputs": [
    {
     "data": {
      "text/plain": "<AxesSubplot:xlabel='Datetime'>"
     },
     "execution_count": 30,
     "metadata": {},
     "output_type": "execute_result"
    },
    {
     "data": {
      "text/plain": "<Figure size 432x288 with 1 Axes>",
      "image/png": "[encoded data removed]"
     },
     "metadata": {
      "needs_background": "light"
     },
     "output_type": "display_data"
    }
   ],
   "source": [
    "data['close'][1000:1700].plot()"
   ],
   "metadata": {
    "collapsed": false,
    "pycharm": {
     "name": "#%%\n"
    }
   }
  },
  {
   "cell_type": "code",
   "execution_count": 31,
   "outputs": [
    {
     "name": "stdout",
     "output_type": "stream",
     "text": [
      "491\n"
     ]
    }
   ],
   "source": [
    "print(len(splited_dataframe))"
   ],
   "metadata": {
    "collapsed": false,
    "pycharm": {
     "name": "#%%\n"
    }
   }
  },
  {
   "cell_type": "code",
   "execution_count": 32,
   "outputs": [
    {
     "name": "stdout",
     "output_type": "stream",
     "text": [
      "31\n",
      "start\n",
      "Calculate:  100\n",
      "Calculate:  101\n",
      "Calculate:  102\n",
      "Calculate:  103\n",
      "Calculate:  104\n",
      "Calculate:  105\n",
      "Calculate:  106\n",
      "Calculate:  107\n",
      "Calculate:  108\n",
      "Calculate:  109\n",
      "Calculate:  110\n",
      "Calculate:  111\n",
      "Calculate:  112\n",
      "Calculate:  113\n",
      "Calculate:  114\n",
      "Calculate:  115\n",
      "Calculate:  116\n",
      "Calculate:  117\n",
      "Calculate:  118\n",
      "Calculate:  119\n",
      "Calculate:  120\n",
      "Calculate:  121\n",
      "Calculate:  122\n",
      "Calculate:  123\n",
      "Calculate:  124\n",
      "Calculate:  125\n",
      "Calculate:  126\n",
      "Calculate:  127\n",
      "Calculate:  128\n",
      "Calculate:  129\n",
      "Calculate:  130\n"
     ]
    }
   ],
   "source": [
    "first_row = 99\n",
    "start = 100\n",
    "start_data = splited_dataframe[:first_row + 1]\n",
    "next_data = splited_dataframe[first_row + 1:first_row + 1 + 31]\n",
    "print(len(next_data))\n",
    "score = defaultdict(list)\n",
    "score_sum = defaultdict(list)\n",
    "score_ind = defaultdict(list)\n",
    "score_hour = defaultdict(list)\n",
    "price_now = defaultdict(list)\n",
    "price_fut = defaultdict(list)\n",
    "predicted_classes = defaultdict(list)\n",
    "correct_classes = defaultdict(list)\n",
    "points = defaultdict(list)\n",
    "points_train = defaultdict(list)\n",
    "score_train = defaultdict(list)\n",
    "step_headers = []\n",
    "i = 0\n",
    "print(\"start\")\n",
    "temp = []\n",
    "\n",
    "for idx, day in enumerate(next_data):\n",
    "    first_row += 1\n",
    "    start_data.append(day)\n",
    "    data_set = pd.concat(start_data)\n",
    "    data_set = create_class(data_set)\n",
    "    y = data_set['class_column']\n",
    "    features = [x for x in data_set.columns if x not in ['class_column']]\n",
    "    x = data_set[features]\n",
    "    x_train = x.iloc[:-34]\n",
    "    y_train = y.iloc[:-34]\n",
    "    x_test = x.iloc[-17:]\n",
    "    y_test = y.iloc[-17:]\n",
    "\n",
    "    i = i + 1\n",
    "    predictions_train = dict()\n",
    "    predictions = dict()\n",
    "    print(\"Calculate: \", first_row)\n",
    "    for k, v in classifiers.items():\n",
    "        train_model(v, x_train, y_train)\n",
    "\n",
    "        predicted_class = v.predict(x_test)\n",
    "        count = 0\n",
    "        temp=[]\n",
    "        for idx, el in enumerate(predicted_class):\n",
    "            if calculate_change(el, y_test[idx], (first_row*17)+idx)!=0:\n",
    "                count +=1\n",
    "            score_ind[k].append(calculate_change(el, y_test[idx], (first_row*17)+idx))\n",
    "            temp.append(calculate_change(el, y_test[idx], (first_row*17)+idx))\n",
    "            price_now[k].append(data['close'][(first_row*17)+idx])\n",
    "            price_fut[k].append(data['close'][(first_row*17)+idx+WINDOW])\n",
    "            score_hour[idx].append(calculate_change(el, y_test[idx], (first_row*17)+idx))\n",
    "            predicted_classes[k].append(el)\n",
    "            correct_classes[k].append(y_test[idx])\n",
    "        if count!=0:\n",
    "            score[k].append( sum(temp)/count)\n",
    "        else:\n",
    "            score[k].append( sum(temp))\n",
    "\n",
    "        score_sum[k].append(sum(temp))\n",
    "\n"
   ],
   "metadata": {
    "collapsed": false,
    "pycharm": {
     "name": "#%%\n"
    }
   }
  },
  {
   "cell_type": "code",
   "execution_count": 33,
   "outputs": [],
   "source": [
    "    # rfe = RFE(classifiers['XGBRFClassifier 1'], 10)\n",
    "    # fited = rfe.fit(x_train, y_train)\n",
    "    # names = x.columns\n",
    "    # columns = []\n",
    "    # for i in range(len(fited.support_)):\n",
    "    #     if fited.support_[i]:\n",
    "    #         columns.append(names[i])\n",
    "    #\n",
    "    # print(\"Columns with predictive power:\", columns)\n",
    "    # columns = columns + ['high', 'low', 'volume', 'open']\n",
    "    # x_test_cropped = x_test[columns]\n",
    "    # x_train_cropped = x_train[columns]\n",
    "    # x_test_cropped = x_test_cropped.loc[:, ~x_test_cropped.columns.duplicated()]\n",
    "    # x_train_cropped = x_train_cropped.loc[:, ~x_train_cropped.columns.duplicated()]\n",
    "    # for k, v in classifiers_boosted.items():\n",
    "    #     print(\"Calculate: \", k)\n",
    "    #     train_model(v, x_train, y_train)\n",
    "    #     predicted_class = v.predict(x_test)\n",
    "    #     for idx, el in enumerate(predicted_class):\n",
    "    #         score[k].append(calculate_change(el, y_test[idx], (first_row*17)+idx))\n",
    "\n",
    "\n",
    "\n"
   ],
   "metadata": {
    "collapsed": false,
    "pycharm": {
     "name": "#%%\n"
    }
   }
  },
  {
   "cell_type": "code",
   "execution_count": 34,
   "outputs": [
    {
     "data": {
      "text/plain": "0"
     },
     "execution_count": 34,
     "metadata": {},
     "output_type": "execute_result"
    }
   ],
   "source": [
    "len(score['DecisionTreeClassifier 1'])"
   ],
   "metadata": {
    "collapsed": false,
    "pycharm": {
     "name": "#%%\n"
    }
   }
  },
  {
   "cell_type": "code",
   "execution_count": 35,
   "outputs": [
    {
     "data": {
      "text/plain": "31"
     },
     "execution_count": 35,
     "metadata": {},
     "output_type": "execute_result"
    }
   ],
   "source": [
    "step_headers.clear()\n",
    "for a in range(start,start + 31):\n",
    "    # for b in range (1,18):\n",
    "    #     step_headers.append(f'<{a},{b}>')\n",
    "        step_headers.append(f'<{a}>')\n",
    "len(step_headers)"
   ],
   "metadata": {
    "collapsed": false,
    "pycharm": {
     "name": "#%%\n"
    }
   }
  },
  {
   "cell_type": "code",
   "execution_count": 36,
   "outputs": [
    {
     "name": "stdout",
     "output_type": "stream",
     "text": [
      "+----+------------------------------+------------+-----------+-----------+-----------+---------+-----------+-----------+---------+-----------+-----------+-----------+----------+------------+-----------+---------+---------+---------+-----------+-----------+-----------+------------+---------+-----------+-----------+-------------+-----------+-----------+---------+-----------+-----------+-----------+---------+\n",
      "|    | Classifier type              |      <100> |     <101> |     <102> |     <103> |   <104> |     <105> |     <106> |   <107> |     <108> |     <109> |     <110> |    <111> |      <112> |     <113> |   <114> |   <115> |   <116> |     <117> |     <118> |     <119> |      <120> |   <121> |     <122> |     <123> |       <124> |     <125> |     <126> |   <127> |     <128> |     <129> |     <130> |     sum |\n",
      "|----+------------------------------+------------+-----------+-----------+-----------+---------+-----------+-----------+---------+-----------+-----------+-----------+----------+------------+-----------+---------+---------+---------+-----------+-----------+-----------+------------+---------+-----------+-----------+-------------+-----------+-----------+---------+-----------+-----------+-----------+---------|\n",
      "|  0 | GradientBoostingClassifier 2 |   0.851408 |   2.50404 |   1.80763 |   1.23852 |       0 |   2.11013 |   1.59843 |       0 |  -2.60374 |  -1.94033 |  -3.38124 |  -5.9807 |  -0.765038 |   7.25145 |       0 |       0 |       0 |  -1.46139 |   4.29633 |   1.21175 |  -0.588384 |       0 |   8.38158 |  -1.31957 |  -0.0849797 |   3.68123 |   3.78303 |       0 |   2.58579 |   8.63571 |   4.69219 | 136.504 |\n",
      "|  1 | DecisionTreeClassifier 1     | nan        | nan       | nan       | nan       |     nan | nan       | nan       |     nan | nan       | nan       | nan       | nan      | nan        | nan       |     nan |     nan |     nan | nan       | nan       | nan       | nan        |     nan | nan       | nan       | nan         | nan       | nan       |     nan | nan       | nan       | nan       | 100     |\n",
      "+----+------------------------------+------------+-----------+-----------+-----------+---------+-----------+-----------+---------+-----------+-----------+-----------+----------+------------+-----------+---------+---------+---------+-----------+-----------+-----------+------------+---------+-----------+-----------+-------------+-----------+-----------+---------+-----------+-----------+-----------+---------+\n"
     ]
    }
   ],
   "source": [
    "headers = [\"Classifier type\", \"pct_change\"]\n",
    "score_df = pd.DataFrame(score.items(), columns=headers)\n",
    "# print(tabulate(score_df, headers, tablefmt=\"psql\"))\n",
    "headers2 = [\"Classifier type\", ] + step_headers\n",
    "score_df = pd.DataFrame(score.items(), columns=headers)\n",
    "accuracy_df = pd.DataFrame(score_df['pct_change'].tolist(), index=score_df.index, columns=step_headers)\n",
    "score_df = score_df.drop('pct_change', 1)\n",
    "f_out: pd.DataFrame = pd.merge(score_df, accuracy_df, how='left', left_index=True, right_index=True)\n",
    "f_out['sum'] = f_out.sum(axis=1)\n",
    "f_out['sum'] = f_out['sum'].apply(lambda x: x+100)\n",
    "headers2 = headers2 + ['sum']\n",
    "print(tabulate(f_out, headers2, tablefmt=\"psql\"))\n",
    "\n",
    "filename_to_export = f'C:\\\\Users\\\\exomat\\\\Desktop\\\\repo\\\\magisterka_analiza\\\\data\\\\results\\\\simulation\\\\result_test_ta_all_score_{symbol}_{WINDOW}_{datetime.now().strftime(\"%d_%m_%Y %H_%M_%S\")}.csv'\n",
    "f_out.to_csv(filename_to_export, index=False)"
   ],
   "metadata": {
    "collapsed": false,
    "pycharm": {
     "name": "#%%\n"
    }
   }
  },
  {
   "cell_type": "code",
   "execution_count": 37,
   "outputs": [
    {
     "name": "stdout",
     "output_type": "stream",
     "text": [
      "+----+------------------------------+---------+---------+---------+---------+---------+---------+---------+---------+----------+----------+----------+----------+----------+---------+---------+---------+---------+----------+---------+---------+----------+---------+---------+----------+-----------+---------+---------+---------+---------+---------+---------+---------+\n",
      "|    | Classifier type              |   <100> |   <101> |   <102> |   <103> |   <104> |   <105> |   <106> |   <107> |    <108> |    <109> |    <110> |    <111> |    <112> |   <113> |   <114> |   <115> |   <116> |    <117> |   <118> |   <119> |    <120> |   <121> |   <122> |    <123> |     <124> |   <125> |   <126> |   <127> |   <128> |   <129> |   <130> |     sum |\n",
      "|----+------------------------------+---------+---------+---------+---------+---------+---------+---------+---------+----------+----------+----------+----------+----------+---------+---------+---------+---------+----------+---------+---------+----------+---------+---------+----------+-----------+---------+---------+---------+---------+---------+---------+---------|\n",
      "|  0 | GradientBoostingClassifier 2 | 5.10845 | 5.00809 |  14.461 | 1.23852 |       0 | 12.6608 |  6.3937 |       0 | -13.0187 | -31.0453 | -3.38124 | -29.9035 | -7.65038 | 21.7544 |       0 |       0 |       0 | -2.92279 |  12.889 | 4.84702 | -4.70707 |       0 | 67.0527 | -9.23697 | -0.169959 | 22.0874 | 11.3491 |       0 | 20.6863 | 146.807 | 28.1531 | 378.461 |\n",
      "+----+------------------------------+---------+---------+---------+---------+---------+---------+---------+---------+----------+----------+----------+----------+----------+---------+---------+---------+---------+----------+---------+---------+----------+---------+---------+----------+-----------+---------+---------+---------+---------+---------+---------+---------+\n"
     ]
    }
   ],
   "source": [
    "step_headers.clear()\n",
    "for a in range(start,start + 31):\n",
    "    # for b in range (1,18):\n",
    "    #     step_headers.append(f'<{a},{b}>')\n",
    "        step_headers.append(f'<{a}>')\n",
    "\n",
    "headers = [\"Classifier type\", \"pct_change\"]\n",
    "score_df = pd.DataFrame(score_sum.items(), columns=headers)\n",
    "# print(tabulate(score_df, headers, tablefmt=\"psql\"))\n",
    "headers2 = [\"Classifier type\", ] + step_headers\n",
    "score_df = pd.DataFrame(score_sum.items(), columns=headers)\n",
    "accuracy_df = pd.DataFrame(score_df['pct_change'].tolist(), index=score_df.index, columns=step_headers)\n",
    "score_df = score_df.drop('pct_change', 1)\n",
    "f_out: pd.DataFrame = pd.merge(score_df, accuracy_df, how='left', left_index=True, right_index=True)\n",
    "f_out['sum'] = f_out.sum(axis=1)\n",
    "f_out['sum'] = f_out['sum'].apply(lambda x: x+100)\n",
    "headers2 = headers2 + ['sum']\n",
    "print(tabulate(f_out, headers2, tablefmt=\"psql\"))\n",
    "\n",
    "filename_to_export = f'C:\\\\Users\\\\exomat\\\\Desktop\\\\repo\\\\magisterka_analiza\\\\data\\\\results\\\\simulation\\\\result_test_ta_all_sum_{symbol}_{WINDOW}_{datetime.now().strftime(\"%d_%m_%Y %H_%M_%S\")}.csv'\n",
    "f_out.to_csv(filename_to_export, index=False)\n"
   ],
   "metadata": {
    "collapsed": false,
    "pycharm": {
     "name": "#%%\n"
    }
   }
  },
  {
   "cell_type": "code",
   "execution_count": 38,
   "outputs": [
    {
     "name": "stdout",
     "output_type": "stream",
     "text": [
      "+----+------------------------------+-----------+-----------+-----------+-----------+-----------+-----------+-----------+-----------+-----------+------------+------------+------------+------------+------------+------------+------------+------------+-----------+-----------+-----------+-----------+-----------+-----------+-----------+-----------+-----------+------------+------------+------------+------------+------------+------------+------------+------------+-----------+-----------+-----------+-----------+-----------+-----------+-----------+-----------+-----------+------------+------------+------------+------------+------------+------------+------------+------------+-----------+-----------+-----------+-----------+-----------+-----------+-----------+-----------+-----------+------------+------------+------------+------------+------------+------------+------------+------------+-----------+-----------+-----------+-----------+-----------+-----------+-----------+-----------+-----------+------------+------------+------------+------------+------------+------------+------------+------------+-----------+-----------+-----------+-----------+-----------+-----------+-----------+-----------+-----------+------------+------------+------------+------------+------------+------------+------------+------------+-----------+-----------+-----------+-----------+-----------+-----------+-----------+-----------+-----------+------------+------------+------------+------------+------------+------------+------------+------------+-----------+-----------+-----------+-----------+-----------+-----------+-----------+-----------+-----------+------------+------------+------------+------------+------------+------------+------------+------------+-----------+-----------+-----------+-----------+-----------+-----------+-----------+-----------+-----------+------------+------------+------------+------------+------------+------------+------------+------------+-----------+-----------+-----------+-----------+-----------+-----------+-----------+-----------+-----------+------------+------------+------------+------------+------------+------------+------------+------------+-----------+-----------+-----------+-----------+-----------+-----------+-----------+-----------+-----------+------------+------------+------------+------------+------------+------------+------------+------------+-----------+-----------+-----------+-----------+-----------+-----------+-----------+-----------+-----------+------------+------------+------------+------------+------------+------------+------------+------------+-----------+-----------+-----------+-----------+-----------+-----------+-----------+-----------+-----------+------------+------------+------------+------------+------------+------------+------------+------------+-----------+-----------+-----------+-----------+-----------+-----------+-----------+-----------+-----------+------------+------------+------------+------------+------------+------------+------------+------------+-----------+-----------+-----------+-----------+-----------+-----------+-----------+-----------+-----------+------------+------------+------------+------------+------------+------------+------------+------------+-----------+-----------+-----------+-----------+-----------+-----------+-----------+-----------+-----------+------------+------------+------------+------------+------------+------------+------------+------------+-----------+-----------+-----------+-----------+-----------+-----------+-----------+-----------+-----------+------------+------------+------------+------------+------------+------------+------------+------------+-----------+-----------+-----------+-----------+-----------+-----------+-----------+-----------+-----------+------------+------------+------------+------------+------------+------------+------------+------------+-----------+-----------+-----------+-----------+-----------+-----------+-----------+-----------+-----------+------------+------------+------------+------------+------------+------------+------------+------------+-----------+-----------+-----------+-----------+-----------+-----------+-----------+-----------+-----------+------------+------------+------------+------------+------------+------------+------------+------------+-----------+-----------+-----------+-----------+-----------+-----------+-----------+-----------+-----------+------------+------------+------------+------------+------------+------------+------------+------------+-----------+-----------+-----------+-----------+-----------+-----------+-----------+-----------+-----------+------------+------------+------------+------------+------------+------------+------------+------------+-----------+-----------+-----------+-----------+-----------+-----------+-----------+-----------+-----------+------------+------------+------------+------------+------------+------------+------------+------------+-----------+-----------+-----------+-----------+-----------+-----------+-----------+-----------+-----------+------------+------------+------------+------------+------------+------------+------------+------------+-----------+-----------+-----------+-----------+-----------+-----------+-----------+-----------+-----------+------------+------------+------------+------------+------------+------------+------------+------------+-----------+-----------+-----------+-----------+-----------+-----------+-----------+-----------+-----------+------------+------------+------------+------------+------------+------------+------------+------------+-----------+-----------+-----------+-----------+-----------+-----------+-----------+-----------+-----------+------------+------------+------------+------------+------------+------------+------------+------------+-----------+-----------+-----------+-----------+-----------+-----------+-----------+-----------+-----------+------------+------------+------------+------------+------------+------------+------------+------------+-----------+-----------+-----------+-----------+-----------+-----------+-----------+-----------+-----------+------------+------------+------------+------------+------------+------------+------------+------------+-----------+-----------+-----------+-----------+-----------+-----------+-----------+-----------+-----------+------------+------------+------------+------------+------------+------------+------------+------------+-----------+-----------+-----------+-----------+-----------+-----------+-----------+-----------+-----------+------------+------------+------------+------------+------------+------------+------------+------------+---------+\n",
      "|    | Classifier type              |   <100,1> |   <100,2> |   <100,3> |   <100,4> |   <100,5> |   <100,6> |   <100,7> |   <100,8> |   <100,9> |   <100,10> |   <100,11> |   <100,12> |   <100,13> |   <100,14> |   <100,15> |   <100,16> |   <100,17> |   <101,1> |   <101,2> |   <101,3> |   <101,4> |   <101,5> |   <101,6> |   <101,7> |   <101,8> |   <101,9> |   <101,10> |   <101,11> |   <101,12> |   <101,13> |   <101,14> |   <101,15> |   <101,16> |   <101,17> |   <102,1> |   <102,2> |   <102,3> |   <102,4> |   <102,5> |   <102,6> |   <102,7> |   <102,8> |   <102,9> |   <102,10> |   <102,11> |   <102,12> |   <102,13> |   <102,14> |   <102,15> |   <102,16> |   <102,17> |   <103,1> |   <103,2> |   <103,3> |   <103,4> |   <103,5> |   <103,6> |   <103,7> |   <103,8> |   <103,9> |   <103,10> |   <103,11> |   <103,12> |   <103,13> |   <103,14> |   <103,15> |   <103,16> |   <103,17> |   <104,1> |   <104,2> |   <104,3> |   <104,4> |   <104,5> |   <104,6> |   <104,7> |   <104,8> |   <104,9> |   <104,10> |   <104,11> |   <104,12> |   <104,13> |   <104,14> |   <104,15> |   <104,16> |   <104,17> |   <105,1> |   <105,2> |   <105,3> |   <105,4> |   <105,5> |   <105,6> |   <105,7> |   <105,8> |   <105,9> |   <105,10> |   <105,11> |   <105,12> |   <105,13> |   <105,14> |   <105,15> |   <105,16> |   <105,17> |   <106,1> |   <106,2> |   <106,3> |   <106,4> |   <106,5> |   <106,6> |   <106,7> |   <106,8> |   <106,9> |   <106,10> |   <106,11> |   <106,12> |   <106,13> |   <106,14> |   <106,15> |   <106,16> |   <106,17> |   <107,1> |   <107,2> |   <107,3> |   <107,4> |   <107,5> |   <107,6> |   <107,7> |   <107,8> |   <107,9> |   <107,10> |   <107,11> |   <107,12> |   <107,13> |   <107,14> |   <107,15> |   <107,16> |   <107,17> |   <108,1> |   <108,2> |   <108,3> |   <108,4> |   <108,5> |   <108,6> |   <108,7> |   <108,8> |   <108,9> |   <108,10> |   <108,11> |   <108,12> |   <108,13> |   <108,14> |   <108,15> |   <108,16> |   <108,17> |   <109,1> |   <109,2> |   <109,3> |   <109,4> |   <109,5> |   <109,6> |   <109,7> |   <109,8> |   <109,9> |   <109,10> |   <109,11> |   <109,12> |   <109,13> |   <109,14> |   <109,15> |   <109,16> |   <109,17> |   <110,1> |   <110,2> |   <110,3> |   <110,4> |   <110,5> |   <110,6> |   <110,7> |   <110,8> |   <110,9> |   <110,10> |   <110,11> |   <110,12> |   <110,13> |   <110,14> |   <110,15> |   <110,16> |   <110,17> |   <111,1> |   <111,2> |   <111,3> |   <111,4> |   <111,5> |   <111,6> |   <111,7> |   <111,8> |   <111,9> |   <111,10> |   <111,11> |   <111,12> |   <111,13> |   <111,14> |   <111,15> |   <111,16> |   <111,17> |   <112,1> |   <112,2> |   <112,3> |   <112,4> |   <112,5> |   <112,6> |   <112,7> |   <112,8> |   <112,9> |   <112,10> |   <112,11> |   <112,12> |   <112,13> |   <112,14> |   <112,15> |   <112,16> |   <112,17> |   <113,1> |   <113,2> |   <113,3> |   <113,4> |   <113,5> |   <113,6> |   <113,7> |   <113,8> |   <113,9> |   <113,10> |   <113,11> |   <113,12> |   <113,13> |   <113,14> |   <113,15> |   <113,16> |   <113,17> |   <114,1> |   <114,2> |   <114,3> |   <114,4> |   <114,5> |   <114,6> |   <114,7> |   <114,8> |   <114,9> |   <114,10> |   <114,11> |   <114,12> |   <114,13> |   <114,14> |   <114,15> |   <114,16> |   <114,17> |   <115,1> |   <115,2> |   <115,3> |   <115,4> |   <115,5> |   <115,6> |   <115,7> |   <115,8> |   <115,9> |   <115,10> |   <115,11> |   <115,12> |   <115,13> |   <115,14> |   <115,15> |   <115,16> |   <115,17> |   <116,1> |   <116,2> |   <116,3> |   <116,4> |   <116,5> |   <116,6> |   <116,7> |   <116,8> |   <116,9> |   <116,10> |   <116,11> |   <116,12> |   <116,13> |   <116,14> |   <116,15> |   <116,16> |   <116,17> |   <117,1> |   <117,2> |   <117,3> |   <117,4> |   <117,5> |   <117,6> |   <117,7> |   <117,8> |   <117,9> |   <117,10> |   <117,11> |   <117,12> |   <117,13> |   <117,14> |   <117,15> |   <117,16> |   <117,17> |   <118,1> |   <118,2> |   <118,3> |   <118,4> |   <118,5> |   <118,6> |   <118,7> |   <118,8> |   <118,9> |   <118,10> |   <118,11> |   <118,12> |   <118,13> |   <118,14> |   <118,15> |   <118,16> |   <118,17> |   <119,1> |   <119,2> |   <119,3> |   <119,4> |   <119,5> |   <119,6> |   <119,7> |   <119,8> |   <119,9> |   <119,10> |   <119,11> |   <119,12> |   <119,13> |   <119,14> |   <119,15> |   <119,16> |   <119,17> |   <120,1> |   <120,2> |   <120,3> |   <120,4> |   <120,5> |   <120,6> |   <120,7> |   <120,8> |   <120,9> |   <120,10> |   <120,11> |   <120,12> |   <120,13> |   <120,14> |   <120,15> |   <120,16> |   <120,17> |   <121,1> |   <121,2> |   <121,3> |   <121,4> |   <121,5> |   <121,6> |   <121,7> |   <121,8> |   <121,9> |   <121,10> |   <121,11> |   <121,12> |   <121,13> |   <121,14> |   <121,15> |   <121,16> |   <121,17> |   <122,1> |   <122,2> |   <122,3> |   <122,4> |   <122,5> |   <122,6> |   <122,7> |   <122,8> |   <122,9> |   <122,10> |   <122,11> |   <122,12> |   <122,13> |   <122,14> |   <122,15> |   <122,16> |   <122,17> |   <123,1> |   <123,2> |   <123,3> |   <123,4> |   <123,5> |   <123,6> |   <123,7> |   <123,8> |   <123,9> |   <123,10> |   <123,11> |   <123,12> |   <123,13> |   <123,14> |   <123,15> |   <123,16> |   <123,17> |   <124,1> |   <124,2> |   <124,3> |   <124,4> |   <124,5> |   <124,6> |   <124,7> |   <124,8> |   <124,9> |   <124,10> |   <124,11> |   <124,12> |   <124,13> |   <124,14> |   <124,15> |   <124,16> |   <124,17> |   <125,1> |   <125,2> |   <125,3> |   <125,4> |   <125,5> |   <125,6> |   <125,7> |   <125,8> |   <125,9> |   <125,10> |   <125,11> |   <125,12> |   <125,13> |   <125,14> |   <125,15> |   <125,16> |   <125,17> |   <126,1> |   <126,2> |   <126,3> |   <126,4> |   <126,5> |   <126,6> |   <126,7> |   <126,8> |   <126,9> |   <126,10> |   <126,11> |   <126,12> |   <126,13> |   <126,14> |   <126,15> |   <126,16> |   <126,17> |   <127,1> |   <127,2> |   <127,3> |   <127,4> |   <127,5> |   <127,6> |   <127,7> |   <127,8> |   <127,9> |   <127,10> |   <127,11> |   <127,12> |   <127,13> |   <127,14> |   <127,15> |   <127,16> |   <127,17> |   <128,1> |   <128,2> |   <128,3> |   <128,4> |   <128,5> |   <128,6> |   <128,7> |   <128,8> |   <128,9> |   <128,10> |   <128,11> |   <128,12> |   <128,13> |   <128,14> |   <128,15> |   <128,16> |   <128,17> |   <129,1> |   <129,2> |   <129,3> |   <129,4> |   <129,5> |   <129,6> |   <129,7> |   <129,8> |   <129,9> |   <129,10> |   <129,11> |   <129,12> |   <129,13> |   <129,14> |   <129,15> |   <129,16> |   <129,17> |   <130,1> |   <130,2> |   <130,3> |   <130,4> |   <130,5> |   <130,6> |   <130,7> |   <130,8> |   <130,9> |   <130,10> |   <130,11> |   <130,12> |   <130,13> |   <130,14> |   <130,15> |   <130,16> |   <130,17> |     sum |\n",
      "|----+------------------------------+-----------+-----------+-----------+-----------+-----------+-----------+-----------+-----------+-----------+------------+------------+------------+------------+------------+------------+------------+------------+-----------+-----------+-----------+-----------+-----------+-----------+-----------+-----------+-----------+------------+------------+------------+------------+------------+------------+------------+------------+-----------+-----------+-----------+-----------+-----------+-----------+-----------+-----------+-----------+------------+------------+------------+------------+------------+------------+------------+------------+-----------+-----------+-----------+-----------+-----------+-----------+-----------+-----------+-----------+------------+------------+------------+------------+------------+------------+------------+------------+-----------+-----------+-----------+-----------+-----------+-----------+-----------+-----------+-----------+------------+------------+------------+------------+------------+------------+------------+------------+-----------+-----------+-----------+-----------+-----------+-----------+-----------+-----------+-----------+------------+------------+------------+------------+------------+------------+------------+------------+-----------+-----------+-----------+-----------+-----------+-----------+-----------+-----------+-----------+------------+------------+------------+------------+------------+------------+------------+------------+-----------+-----------+-----------+-----------+-----------+-----------+-----------+-----------+-----------+------------+------------+------------+------------+------------+------------+------------+------------+-----------+-----------+-----------+-----------+-----------+-----------+-----------+-----------+-----------+------------+------------+------------+------------+------------+------------+------------+------------+-----------+-----------+-----------+-----------+-----------+-----------+-----------+-----------+-----------+------------+------------+------------+------------+------------+------------+------------+------------+-----------+-----------+-----------+-----------+-----------+-----------+-----------+-----------+-----------+------------+------------+------------+------------+------------+------------+------------+------------+-----------+-----------+-----------+-----------+-----------+-----------+-----------+-----------+-----------+------------+------------+------------+------------+------------+------------+------------+------------+-----------+-----------+-----------+-----------+-----------+-----------+-----------+-----------+-----------+------------+------------+------------+------------+------------+------------+------------+------------+-----------+-----------+-----------+-----------+-----------+-----------+-----------+-----------+-----------+------------+------------+------------+------------+------------+------------+------------+------------+-----------+-----------+-----------+-----------+-----------+-----------+-----------+-----------+-----------+------------+------------+------------+------------+------------+------------+------------+------------+-----------+-----------+-----------+-----------+-----------+-----------+-----------+-----------+-----------+------------+------------+------------+------------+------------+------------+------------+------------+-----------+-----------+-----------+-----------+-----------+-----------+-----------+-----------+-----------+------------+------------+------------+------------+------------+------------+------------+------------+-----------+-----------+-----------+-----------+-----------+-----------+-----------+-----------+-----------+------------+------------+------------+------------+------------+------------+------------+------------+-----------+-----------+-----------+-----------+-----------+-----------+-----------+-----------+-----------+------------+------------+------------+------------+------------+------------+------------+------------+-----------+-----------+-----------+-----------+-----------+-----------+-----------+-----------+-----------+------------+------------+------------+------------+------------+------------+------------+------------+-----------+-----------+-----------+-----------+-----------+-----------+-----------+-----------+-----------+------------+------------+------------+------------+------------+------------+------------+------------+-----------+-----------+-----------+-----------+-----------+-----------+-----------+-----------+-----------+------------+------------+------------+------------+------------+------------+------------+------------+-----------+-----------+-----------+-----------+-----------+-----------+-----------+-----------+-----------+------------+------------+------------+------------+------------+------------+------------+------------+-----------+-----------+-----------+-----------+-----------+-----------+-----------+-----------+-----------+------------+------------+------------+------------+------------+------------+------------+------------+-----------+-----------+-----------+-----------+-----------+-----------+-----------+-----------+-----------+------------+------------+------------+------------+------------+------------+------------+------------+-----------+-----------+-----------+-----------+-----------+-----------+-----------+-----------+-----------+------------+------------+------------+------------+------------+------------+------------+------------+-----------+-----------+-----------+-----------+-----------+-----------+-----------+-----------+-----------+------------+------------+------------+------------+------------+------------+------------+------------+-----------+-----------+-----------+-----------+-----------+-----------+-----------+-----------+-----------+------------+------------+------------+------------+------------+------------+------------+------------+-----------+-----------+-----------+-----------+-----------+-----------+-----------+-----------+-----------+------------+------------+------------+------------+------------+------------+------------+------------+-----------+-----------+-----------+-----------+-----------+-----------+-----------+-----------+-----------+------------+------------+------------+------------+------------+------------+------------+------------+-----------+-----------+-----------+-----------+-----------+-----------+-----------+-----------+-----------+------------+------------+------------+------------+------------+------------+------------+------------+---------|\n",
      "|  0 | GradientBoostingClassifier 2 |         0 |         0 |         0 |         0 |         0 |         0 |         0 | 0.0753373 |  0.931666 |   0.468691 |   0.328166 |          0 |          0 |          0 |    1.71468 |          0 |    1.58991 |   1.98358 |   3.02451 |         0 |         0 |         0 |         0 |         0 |         0 |         0 |          0 |          0 |          0 |          0 |          0 |          0 |          0 |          0 |         0 |         0 |         0 |  0.860786 |  0.831183 |   1.33466 |   1.94874 |   2.37478 |   2.40999 |     2.3325 |    2.36836 |          0 |          0 |          0 |          0 |          0 |          0 |         0 |         0 |         0 |         0 |         0 |         0 |         0 |         0 |         0 |          0 |          0 |    1.23852 |          0 |          0 |          0 |          0 |          0 |         0 |         0 |         0 |         0 |         0 |         0 |         0 |         0 |         0 |          0 |          0 |          0 |          0 |          0 |          0 |          0 |          0 |         0 |         0 |         0 |         0 |         0 |         0 |         0 |         0 |   2.39944 |          0 |          0 |    1.79394 |          0 |     1.7033 |    2.07931 |    2.25566 |    2.42914 |   2.05225 |   1.49599 |   1.40038 |   1.44509 |         0 |         0 |         0 |         0 |         0 |          0 |          0 |          0 |          0 |          0 |          0 |          0 |          0 |         0 |         0 |         0 |         0 |         0 |         0 |         0 |         0 |         0 |          0 |          0 |          0 |          0 |          0 |          0 |          0 |          0 |         0 |  -2.17969 |   -2.0909 |  -1.79245 |         0 |         0 |         0 |         0 |         0 |          0 |          0 |          0 |          0 |          0 |   -3.49669 |   -3.45897 |          0 |  -4.60678 |    -4.789 |  -4.16266 |  0.567992 |  0.106603 |  0.344689 | -0.403974 | -0.066335 |   1.39389 |  -0.855796 |   -2.71102 |   -1.65565 |          0 |   -3.65852 |   -3.96421 |   -3.37727 |   -3.20721 |  -3.38124 |         0 |         0 |         0 |         0 |         0 |         0 |         0 |         0 |          0 |          0 |          0 |          0 |          0 |          0 |          0 |          0 |         0 |         0 |         0 |         0 |         0 |         0 |         0 |         0 |         0 |          0 |          0 |   -3.86018 |   -5.15298 |   -6.69999 |   -7.15661 |   -7.03372 |          0 |         0 |         0 |         0 |  -5.84167 |         0 |         0 |         0 |  -3.99915 |   -3.7092 |   -3.87539 |          0 |   -3.98416 |   0.571339 |    1.93262 |    1.97661 |    1.37868 |    7.89995 |         0 |         0 |         0 |   4.16667 |   9.79203 |   7.79566 |         0 |         0 |         0 |          0 |          0 |          0 |          0 |          0 |          0 |          0 |          0 |         0 |         0 |         0 |         0 |         0 |         0 |         0 |         0 |         0 |          0 |          0 |          0 |          0 |          0 |          0 |          0 |          0 |         0 |         0 |         0 |         0 |         0 |         0 |         0 |         0 |         0 |          0 |          0 |          0 |          0 |          0 |          0 |          0 |          0 |         0 |         0 |         0 |         0 |         0 |         0 |         0 |         0 |         0 |          0 |          0 |          0 |          0 |          0 |          0 |          0 |          0 |         0 |         0 |         0 |         0 |         0 |         0 |         0 |  -1.34508 |  -1.57771 |          0 |          0 |          0 |          0 |          0 |          0 |          0 |          0 |         0 |         0 |         0 |         0 |         0 |         0 |         0 |         0 |         0 |          0 |          0 |          0 |          0 |    4.43816 |    4.12163 |     4.3292 |          0 |   2.41758 | -0.785421 |  0.555999 |   2.65885 |         0 |         0 |         0 |         0 |         0 |          0 |          0 |          0 |          0 |          0 |          0 |          0 |          0 |   1.21225 |         0 |    0.7258 |  0.625771 |  -1.32779 |         0 |  -3.16556 |         0 |   -2.0117 |  -0.751342 | -0.0145033 |          0 |          0 |          0 |          0 |          0 |          0 |         0 |         0 |         0 |         0 |         0 |         0 |         0 |         0 |         0 |          0 |          0 |          0 |          0 |          0 |          0 |          0 |          0 |   2.98571 |         0 |         0 |   3.18567 |         0 |         0 |   13.2673 |   15.2862 |   13.8857 |    14.6234 |    6.08999 |   -2.27131 |          0 |          0 |          0 |          0 |          0 |  -2.96846 |  0.656216 |         0 |  -1.49324 |         0 |         0 |         0 |         0 |  -10.4216 |          0 | -0.0640026 |    4.14041 |   0.913706 |          0 |          0 |          0 |          0 |         0 |         0 |         0 |         0 |         0 |   3.45177 |         0 |         0 |         0 |          0 |          0 |   -3.62173 |          0 |          0 |          0 |          0 |          0 |         0 |         0 |         0 |         0 |         0 |         0 |         0 |         0 |         0 |          0 |     5.9499 |    3.07596 |    5.71272 |    3.41772 |     2.4311 |        1.5 |          0 |         0 |         0 |   2.73028 |   4.25778 |   4.36101 |         0 |         0 |         0 |         0 |          0 |          0 |          0 |          0 |          0 |          0 |          0 |          0 |         0 |         0 |         0 |         0 |         0 |         0 |         0 |         0 |         0 |          0 |          0 |          0 |          0 |          0 |          0 |          0 |          0 |         0 |         0 |         0 |         0 |         0 |         0 |         0 |         0 |   -1.6838 |  -0.656455 |    2.29317 |    4.93268 |    4.09352 |    4.64264 |   0.856216 |          0 |    6.20834 |   12.3997 |   9.79597 |   9.29735 |   8.61947 |   9.98645 |   8.77981 |   10.2143 |   10.3203 |   8.81057 |    9.25275 |    5.09432 |     8.8813 |    9.33345 |    8.99541 |    7.34852 |    5.70951 |    3.96793 |   2.99813 |   4.64177 |   5.96208 |   6.45437 |   4.68218 |   3.41461 |         0 |         0 |         0 |          0 |          0 |          0 |          0 |          0 |          0 |          0 |          0 | 378.461 |\n",
      "+----+------------------------------+-----------+-----------+-----------+-----------+-----------+-----------+-----------+-----------+-----------+------------+------------+------------+------------+------------+------------+------------+------------+-----------+-----------+-----------+-----------+-----------+-----------+-----------+-----------+-----------+------------+------------+------------+------------+------------+------------+------------+------------+-----------+-----------+-----------+-----------+-----------+-----------+-----------+-----------+-----------+------------+------------+------------+------------+------------+------------+------------+------------+-----------+-----------+-----------+-----------+-----------+-----------+-----------+-----------+-----------+------------+------------+------------+------------+------------+------------+------------+------------+-----------+-----------+-----------+-----------+-----------+-----------+-----------+-----------+-----------+------------+------------+------------+------------+------------+------------+------------+------------+-----------+-----------+-----------+-----------+-----------+-----------+-----------+-----------+-----------+------------+------------+------------+------------+------------+------------+------------+------------+-----------+-----------+-----------+-----------+-----------+-----------+-----------+-----------+-----------+------------+------------+------------+------------+------------+------------+------------+------------+-----------+-----------+-----------+-----------+-----------+-----------+-----------+-----------+-----------+------------+------------+------------+------------+------------+------------+------------+------------+-----------+-----------+-----------+-----------+-----------+-----------+-----------+-----------+-----------+------------+------------+------------+------------+------------+------------+------------+------------+-----------+-----------+-----------+-----------+-----------+-----------+-----------+-----------+-----------+------------+------------+------------+------------+------------+------------+------------+------------+-----------+-----------+-----------+-----------+-----------+-----------+-----------+-----------+-----------+------------+------------+------------+------------+------------+------------+------------+------------+-----------+-----------+-----------+-----------+-----------+-----------+-----------+-----------+-----------+------------+------------+------------+------------+------------+------------+------------+------------+-----------+-----------+-----------+-----------+-----------+-----------+-----------+-----------+-----------+------------+------------+------------+------------+------------+------------+------------+------------+-----------+-----------+-----------+-----------+-----------+-----------+-----------+-----------+-----------+------------+------------+------------+------------+------------+------------+------------+------------+-----------+-----------+-----------+-----------+-----------+-----------+-----------+-----------+-----------+------------+------------+------------+------------+------------+------------+------------+------------+-----------+-----------+-----------+-----------+-----------+-----------+-----------+-----------+-----------+------------+------------+------------+------------+------------+------------+------------+------------+-----------+-----------+-----------+-----------+-----------+-----------+-----------+-----------+-----------+------------+------------+------------+------------+------------+------------+------------+------------+-----------+-----------+-----------+-----------+-----------+-----------+-----------+-----------+-----------+------------+------------+------------+------------+------------+------------+------------+------------+-----------+-----------+-----------+-----------+-----------+-----------+-----------+-----------+-----------+------------+------------+------------+------------+------------+------------+------------+------------+-----------+-----------+-----------+-----------+-----------+-----------+-----------+-----------+-----------+------------+------------+------------+------------+------------+------------+------------+------------+-----------+-----------+-----------+-----------+-----------+-----------+-----------+-----------+-----------+------------+------------+------------+------------+------------+------------+------------+------------+-----------+-----------+-----------+-----------+-----------+-----------+-----------+-----------+-----------+------------+------------+------------+------------+------------+------------+------------+------------+-----------+-----------+-----------+-----------+-----------+-----------+-----------+-----------+-----------+------------+------------+------------+------------+------------+------------+------------+------------+-----------+-----------+-----------+-----------+-----------+-----------+-----------+-----------+-----------+------------+------------+------------+------------+------------+------------+------------+------------+-----------+-----------+-----------+-----------+-----------+-----------+-----------+-----------+-----------+------------+------------+------------+------------+------------+------------+------------+------------+-----------+-----------+-----------+-----------+-----------+-----------+-----------+-----------+-----------+------------+------------+------------+------------+------------+------------+------------+------------+-----------+-----------+-----------+-----------+-----------+-----------+-----------+-----------+-----------+------------+------------+------------+------------+------------+------------+------------+------------+-----------+-----------+-----------+-----------+-----------+-----------+-----------+-----------+-----------+------------+------------+------------+------------+------------+------------+------------+------------+-----------+-----------+-----------+-----------+-----------+-----------+-----------+-----------+-----------+------------+------------+------------+------------+------------+------------+------------+------------+-----------+-----------+-----------+-----------+-----------+-----------+-----------+-----------+-----------+------------+------------+------------+------------+------------+------------+------------+------------+-----------+-----------+-----------+-----------+-----------+-----------+-----------+-----------+-----------+------------+------------+------------+------------+------------+------------+------------+------------+---------+\n"
     ]
    }
   ],
   "source": [
    "step_headers.clear()\n",
    "for a in range(start,start + 31):\n",
    "    for b in range (1,18):\n",
    "        step_headers.append(f'<{a},{b}>')\n",
    "\n",
    "headers = [\"Classifier type\", \"pct_change\"]\n",
    "score_df = pd.DataFrame(score_ind.items(), columns=headers)\n",
    "# print(tabulate(score_df, headers, tablefmt=\"psql\"))\n",
    "headers2 = [\"Classifier type\", ] + step_headers\n",
    "score_df = pd.DataFrame(score_ind.items(), columns=headers)\n",
    "accuracy_df = pd.DataFrame(score_df['pct_change'].tolist(), index=score_df.index, columns=step_headers)\n",
    "score_df = score_df.drop('pct_change', 1)\n",
    "f_out: pd.DataFrame = pd.merge(score_df, accuracy_df, how='left', left_index=True, right_index=True)\n",
    "f_out['sum'] = f_out.sum(axis=1)\n",
    "f_out['sum'] = f_out['sum'].apply(lambda x: x+100)\n",
    "headers2 = headers2 + ['sum']\n",
    "print(tabulate(f_out, headers2, tablefmt=\"psql\"))\n",
    "\n",
    "filename_to_export = f'C:\\\\Users\\\\exomat\\\\Desktop\\\\repo\\\\magisterka_analiza\\\\data\\\\results\\\\simulation\\\\result_test_ta_all_points_{symbol}_{WINDOW}_{datetime.now().strftime(\"%d_%m_%Y %H_%M_%S\")}.csv'\n",
    "f_out.to_csv(filename_to_export, index=False)"
   ],
   "metadata": {
    "collapsed": false,
    "pycharm": {
     "name": "#%%\n"
    }
   }
  },
  {
   "cell_type": "code",
   "execution_count": 39,
   "outputs": [
    {
     "name": "stdout",
     "output_type": "stream",
     "text": [
      "+----+------------------------------+-----------+-----------+-----------+-----------+-----------+-----------+-----------+-----------+-----------+------------+------------+------------+------------+------------+------------+------------+------------+-----------+-----------+-----------+-----------+-----------+-----------+-----------+-----------+-----------+------------+------------+------------+------------+------------+------------+------------+------------+-----------+-----------+-----------+-----------+-----------+-----------+-----------+-----------+-----------+------------+------------+------------+------------+------------+------------+------------+------------+-----------+-----------+-----------+-----------+-----------+-----------+-----------+-----------+-----------+------------+------------+------------+------------+------------+------------+------------+------------+-----------+-----------+-----------+-----------+-----------+-----------+-----------+-----------+-----------+------------+------------+------------+------------+------------+------------+------------+------------+-----------+-----------+-----------+-----------+-----------+-----------+-----------+-----------+-----------+------------+------------+------------+------------+------------+------------+------------+------------+-----------+-----------+-----------+-----------+-----------+-----------+-----------+-----------+-----------+------------+------------+------------+------------+------------+------------+------------+------------+-----------+-----------+-----------+-----------+-----------+-----------+-----------+-----------+-----------+------------+------------+------------+------------+------------+------------+------------+------------+-----------+-----------+-----------+-----------+-----------+-----------+-----------+-----------+-----------+------------+------------+------------+------------+------------+------------+------------+------------+-----------+-----------+-----------+-----------+-----------+-----------+-----------+-----------+-----------+------------+------------+------------+------------+------------+------------+------------+------------+-----------+-----------+-----------+-----------+-----------+-----------+-----------+-----------+-----------+------------+------------+------------+------------+------------+------------+------------+------------+-----------+-----------+-----------+-----------+-----------+-----------+-----------+-----------+-----------+------------+------------+------------+------------+------------+------------+------------+------------+-----------+-----------+-----------+-----------+-----------+-----------+-----------+-----------+-----------+------------+------------+------------+------------+------------+------------+------------+------------+-----------+-----------+-----------+-----------+-----------+-----------+-----------+-----------+-----------+------------+------------+------------+------------+------------+------------+------------+------------+-----------+-----------+-----------+-----------+-----------+-----------+-----------+-----------+-----------+------------+------------+------------+------------+------------+------------+------------+------------+-----------+-----------+-----------+-----------+-----------+-----------+-----------+-----------+-----------+------------+------------+------------+------------+------------+------------+------------+------------+-----------+-----------+-----------+-----------+-----------+-----------+-----------+-----------+-----------+------------+------------+------------+------------+------------+------------+------------+------------+-----------+-----------+-----------+-----------+-----------+-----------+-----------+-----------+-----------+------------+------------+------------+------------+------------+------------+------------+------------+-----------+-----------+-----------+-----------+-----------+-----------+-----------+-----------+-----------+------------+------------+------------+------------+------------+------------+------------+------------+-----------+-----------+-----------+-----------+-----------+-----------+-----------+-----------+-----------+------------+------------+------------+------------+------------+------------+------------+------------+-----------+-----------+-----------+-----------+-----------+-----------+-----------+-----------+-----------+------------+------------+------------+------------+------------+------------+------------+------------+-----------+-----------+-----------+-----------+-----------+-----------+-----------+-----------+-----------+------------+------------+------------+------------+------------+------------+------------+------------+-----------+-----------+-----------+-----------+-----------+-----------+-----------+-----------+-----------+------------+------------+------------+------------+------------+------------+------------+------------+-----------+-----------+-----------+-----------+-----------+-----------+-----------+-----------+-----------+------------+------------+------------+------------+------------+------------+------------+------------+-----------+-----------+-----------+-----------+-----------+-----------+-----------+-----------+-----------+------------+------------+------------+------------+------------+------------+------------+------------+-----------+-----------+-----------+-----------+-----------+-----------+-----------+-----------+-----------+------------+------------+------------+------------+------------+------------+------------+------------+-----------+-----------+-----------+-----------+-----------+-----------+-----------+-----------+-----------+------------+------------+------------+------------+------------+------------+------------+------------+-----------+-----------+-----------+-----------+-----------+-----------+-----------+-----------+-----------+------------+------------+------------+------------+------------+------------+------------+------------+-----------+-----------+-----------+-----------+-----------+-----------+-----------+-----------+-----------+------------+------------+------------+------------+------------+------------+------------+------------+-----------+-----------+-----------+-----------+-----------+-----------+-----------+-----------+-----------+------------+------------+------------+------------+------------+------------+------------+------------+-----------+-----------+-----------+-----------+-----------+-----------+-----------+-----------+-----------+------------+------------+------------+------------+------------+------------+------------+------------+---------+\n",
      "|    | Classifier type              |   <100,1> |   <100,2> |   <100,3> |   <100,4> |   <100,5> |   <100,6> |   <100,7> |   <100,8> |   <100,9> |   <100,10> |   <100,11> |   <100,12> |   <100,13> |   <100,14> |   <100,15> |   <100,16> |   <100,17> |   <101,1> |   <101,2> |   <101,3> |   <101,4> |   <101,5> |   <101,6> |   <101,7> |   <101,8> |   <101,9> |   <101,10> |   <101,11> |   <101,12> |   <101,13> |   <101,14> |   <101,15> |   <101,16> |   <101,17> |   <102,1> |   <102,2> |   <102,3> |   <102,4> |   <102,5> |   <102,6> |   <102,7> |   <102,8> |   <102,9> |   <102,10> |   <102,11> |   <102,12> |   <102,13> |   <102,14> |   <102,15> |   <102,16> |   <102,17> |   <103,1> |   <103,2> |   <103,3> |   <103,4> |   <103,5> |   <103,6> |   <103,7> |   <103,8> |   <103,9> |   <103,10> |   <103,11> |   <103,12> |   <103,13> |   <103,14> |   <103,15> |   <103,16> |   <103,17> |   <104,1> |   <104,2> |   <104,3> |   <104,4> |   <104,5> |   <104,6> |   <104,7> |   <104,8> |   <104,9> |   <104,10> |   <104,11> |   <104,12> |   <104,13> |   <104,14> |   <104,15> |   <104,16> |   <104,17> |   <105,1> |   <105,2> |   <105,3> |   <105,4> |   <105,5> |   <105,6> |   <105,7> |   <105,8> |   <105,9> |   <105,10> |   <105,11> |   <105,12> |   <105,13> |   <105,14> |   <105,15> |   <105,16> |   <105,17> |   <106,1> |   <106,2> |   <106,3> |   <106,4> |   <106,5> |   <106,6> |   <106,7> |   <106,8> |   <106,9> |   <106,10> |   <106,11> |   <106,12> |   <106,13> |   <106,14> |   <106,15> |   <106,16> |   <106,17> |   <107,1> |   <107,2> |   <107,3> |   <107,4> |   <107,5> |   <107,6> |   <107,7> |   <107,8> |   <107,9> |   <107,10> |   <107,11> |   <107,12> |   <107,13> |   <107,14> |   <107,15> |   <107,16> |   <107,17> |   <108,1> |   <108,2> |   <108,3> |   <108,4> |   <108,5> |   <108,6> |   <108,7> |   <108,8> |   <108,9> |   <108,10> |   <108,11> |   <108,12> |   <108,13> |   <108,14> |   <108,15> |   <108,16> |   <108,17> |   <109,1> |   <109,2> |   <109,3> |   <109,4> |   <109,5> |   <109,6> |   <109,7> |   <109,8> |   <109,9> |   <109,10> |   <109,11> |   <109,12> |   <109,13> |   <109,14> |   <109,15> |   <109,16> |   <109,17> |   <110,1> |   <110,2> |   <110,3> |   <110,4> |   <110,5> |   <110,6> |   <110,7> |   <110,8> |   <110,9> |   <110,10> |   <110,11> |   <110,12> |   <110,13> |   <110,14> |   <110,15> |   <110,16> |   <110,17> |   <111,1> |   <111,2> |   <111,3> |   <111,4> |   <111,5> |   <111,6> |   <111,7> |   <111,8> |   <111,9> |   <111,10> |   <111,11> |   <111,12> |   <111,13> |   <111,14> |   <111,15> |   <111,16> |   <111,17> |   <112,1> |   <112,2> |   <112,3> |   <112,4> |   <112,5> |   <112,6> |   <112,7> |   <112,8> |   <112,9> |   <112,10> |   <112,11> |   <112,12> |   <112,13> |   <112,14> |   <112,15> |   <112,16> |   <112,17> |   <113,1> |   <113,2> |   <113,3> |   <113,4> |   <113,5> |   <113,6> |   <113,7> |   <113,8> |   <113,9> |   <113,10> |   <113,11> |   <113,12> |   <113,13> |   <113,14> |   <113,15> |   <113,16> |   <113,17> |   <114,1> |   <114,2> |   <114,3> |   <114,4> |   <114,5> |   <114,6> |   <114,7> |   <114,8> |   <114,9> |   <114,10> |   <114,11> |   <114,12> |   <114,13> |   <114,14> |   <114,15> |   <114,16> |   <114,17> |   <115,1> |   <115,2> |   <115,3> |   <115,4> |   <115,5> |   <115,6> |   <115,7> |   <115,8> |   <115,9> |   <115,10> |   <115,11> |   <115,12> |   <115,13> |   <115,14> |   <115,15> |   <115,16> |   <115,17> |   <116,1> |   <116,2> |   <116,3> |   <116,4> |   <116,5> |   <116,6> |   <116,7> |   <116,8> |   <116,9> |   <116,10> |   <116,11> |   <116,12> |   <116,13> |   <116,14> |   <116,15> |   <116,16> |   <116,17> |   <117,1> |   <117,2> |   <117,3> |   <117,4> |   <117,5> |   <117,6> |   <117,7> |   <117,8> |   <117,9> |   <117,10> |   <117,11> |   <117,12> |   <117,13> |   <117,14> |   <117,15> |   <117,16> |   <117,17> |   <118,1> |   <118,2> |   <118,3> |   <118,4> |   <118,5> |   <118,6> |   <118,7> |   <118,8> |   <118,9> |   <118,10> |   <118,11> |   <118,12> |   <118,13> |   <118,14> |   <118,15> |   <118,16> |   <118,17> |   <119,1> |   <119,2> |   <119,3> |   <119,4> |   <119,5> |   <119,6> |   <119,7> |   <119,8> |   <119,9> |   <119,10> |   <119,11> |   <119,12> |   <119,13> |   <119,14> |   <119,15> |   <119,16> |   <119,17> |   <120,1> |   <120,2> |   <120,3> |   <120,4> |   <120,5> |   <120,6> |   <120,7> |   <120,8> |   <120,9> |   <120,10> |   <120,11> |   <120,12> |   <120,13> |   <120,14> |   <120,15> |   <120,16> |   <120,17> |   <121,1> |   <121,2> |   <121,3> |   <121,4> |   <121,5> |   <121,6> |   <121,7> |   <121,8> |   <121,9> |   <121,10> |   <121,11> |   <121,12> |   <121,13> |   <121,14> |   <121,15> |   <121,16> |   <121,17> |   <122,1> |   <122,2> |   <122,3> |   <122,4> |   <122,5> |   <122,6> |   <122,7> |   <122,8> |   <122,9> |   <122,10> |   <122,11> |   <122,12> |   <122,13> |   <122,14> |   <122,15> |   <122,16> |   <122,17> |   <123,1> |   <123,2> |   <123,3> |   <123,4> |   <123,5> |   <123,6> |   <123,7> |   <123,8> |   <123,9> |   <123,10> |   <123,11> |   <123,12> |   <123,13> |   <123,14> |   <123,15> |   <123,16> |   <123,17> |   <124,1> |   <124,2> |   <124,3> |   <124,4> |   <124,5> |   <124,6> |   <124,7> |   <124,8> |   <124,9> |   <124,10> |   <124,11> |   <124,12> |   <124,13> |   <124,14> |   <124,15> |   <124,16> |   <124,17> |   <125,1> |   <125,2> |   <125,3> |   <125,4> |   <125,5> |   <125,6> |   <125,7> |   <125,8> |   <125,9> |   <125,10> |   <125,11> |   <125,12> |   <125,13> |   <125,14> |   <125,15> |   <125,16> |   <125,17> |   <126,1> |   <126,2> |   <126,3> |   <126,4> |   <126,5> |   <126,6> |   <126,7> |   <126,8> |   <126,9> |   <126,10> |   <126,11> |   <126,12> |   <126,13> |   <126,14> |   <126,15> |   <126,16> |   <126,17> |   <127,1> |   <127,2> |   <127,3> |   <127,4> |   <127,5> |   <127,6> |   <127,7> |   <127,8> |   <127,9> |   <127,10> |   <127,11> |   <127,12> |   <127,13> |   <127,14> |   <127,15> |   <127,16> |   <127,17> |   <128,1> |   <128,2> |   <128,3> |   <128,4> |   <128,5> |   <128,6> |   <128,7> |   <128,8> |   <128,9> |   <128,10> |   <128,11> |   <128,12> |   <128,13> |   <128,14> |   <128,15> |   <128,16> |   <128,17> |   <129,1> |   <129,2> |   <129,3> |   <129,4> |   <129,5> |   <129,6> |   <129,7> |   <129,8> |   <129,9> |   <129,10> |   <129,11> |   <129,12> |   <129,13> |   <129,14> |   <129,15> |   <129,16> |   <129,17> |   <130,1> |   <130,2> |   <130,3> |   <130,4> |   <130,5> |   <130,6> |   <130,7> |   <130,8> |   <130,9> |   <130,10> |   <130,11> |   <130,12> |   <130,13> |   <130,14> |   <130,15> |   <130,16> |   <130,17> |     sum |\n",
      "|----+------------------------------+-----------+-----------+-----------+-----------+-----------+-----------+-----------+-----------+-----------+------------+------------+------------+------------+------------+------------+------------+------------+-----------+-----------+-----------+-----------+-----------+-----------+-----------+-----------+-----------+------------+------------+------------+------------+------------+------------+------------+------------+-----------+-----------+-----------+-----------+-----------+-----------+-----------+-----------+-----------+------------+------------+------------+------------+------------+------------+------------+------------+-----------+-----------+-----------+-----------+-----------+-----------+-----------+-----------+-----------+------------+------------+------------+------------+------------+------------+------------+------------+-----------+-----------+-----------+-----------+-----------+-----------+-----------+-----------+-----------+------------+------------+------------+------------+------------+------------+------------+------------+-----------+-----------+-----------+-----------+-----------+-----------+-----------+-----------+-----------+------------+------------+------------+------------+------------+------------+------------+------------+-----------+-----------+-----------+-----------+-----------+-----------+-----------+-----------+-----------+------------+------------+------------+------------+------------+------------+------------+------------+-----------+-----------+-----------+-----------+-----------+-----------+-----------+-----------+-----------+------------+------------+------------+------------+------------+------------+------------+------------+-----------+-----------+-----------+-----------+-----------+-----------+-----------+-----------+-----------+------------+------------+------------+------------+------------+------------+------------+------------+-----------+-----------+-----------+-----------+-----------+-----------+-----------+-----------+-----------+------------+------------+------------+------------+------------+------------+------------+------------+-----------+-----------+-----------+-----------+-----------+-----------+-----------+-----------+-----------+------------+------------+------------+------------+------------+------------+------------+------------+-----------+-----------+-----------+-----------+-----------+-----------+-----------+-----------+-----------+------------+------------+------------+------------+------------+------------+------------+------------+-----------+-----------+-----------+-----------+-----------+-----------+-----------+-----------+-----------+------------+------------+------------+------------+------------+------------+------------+------------+-----------+-----------+-----------+-----------+-----------+-----------+-----------+-----------+-----------+------------+------------+------------+------------+------------+------------+------------+------------+-----------+-----------+-----------+-----------+-----------+-----------+-----------+-----------+-----------+------------+------------+------------+------------+------------+------------+------------+------------+-----------+-----------+-----------+-----------+-----------+-----------+-----------+-----------+-----------+------------+------------+------------+------------+------------+------------+------------+------------+-----------+-----------+-----------+-----------+-----------+-----------+-----------+-----------+-----------+------------+------------+------------+------------+------------+------------+------------+------------+-----------+-----------+-----------+-----------+-----------+-----------+-----------+-----------+-----------+------------+------------+------------+------------+------------+------------+------------+------------+-----------+-----------+-----------+-----------+-----------+-----------+-----------+-----------+-----------+------------+------------+------------+------------+------------+------------+------------+------------+-----------+-----------+-----------+-----------+-----------+-----------+-----------+-----------+-----------+------------+------------+------------+------------+------------+------------+------------+------------+-----------+-----------+-----------+-----------+-----------+-----------+-----------+-----------+-----------+------------+------------+------------+------------+------------+------------+------------+------------+-----------+-----------+-----------+-----------+-----------+-----------+-----------+-----------+-----------+------------+------------+------------+------------+------------+------------+------------+------------+-----------+-----------+-----------+-----------+-----------+-----------+-----------+-----------+-----------+------------+------------+------------+------------+------------+------------+------------+------------+-----------+-----------+-----------+-----------+-----------+-----------+-----------+-----------+-----------+------------+------------+------------+------------+------------+------------+------------+------------+-----------+-----------+-----------+-----------+-----------+-----------+-----------+-----------+-----------+------------+------------+------------+------------+------------+------------+------------+------------+-----------+-----------+-----------+-----------+-----------+-----------+-----------+-----------+-----------+------------+------------+------------+------------+------------+------------+------------+------------+-----------+-----------+-----------+-----------+-----------+-----------+-----------+-----------+-----------+------------+------------+------------+------------+------------+------------+------------+------------+-----------+-----------+-----------+-----------+-----------+-----------+-----------+-----------+-----------+------------+------------+------------+------------+------------+------------+------------+------------+-----------+-----------+-----------+-----------+-----------+-----------+-----------+-----------+-----------+------------+------------+------------+------------+------------+------------+------------+------------+-----------+-----------+-----------+-----------+-----------+-----------+-----------+-----------+-----------+------------+------------+------------+------------+------------+------------+------------+------------+-----------+-----------+-----------+-----------+-----------+-----------+-----------+-----------+-----------+------------+------------+------------+------------+------------+------------+------------+------------+---------|\n",
      "|  0 | GradientBoostingClassifier 2 |     80.85 |   80.9625 |     80.58 |    80.555 |   80.7401 |     80.81 |   80.5558 |   79.9019 |   79.5756 |      80.01 |      79.99 |    79.9125 |      79.84 |      79.65 |     79.315 |    79.5075 |      79.25 |     79.15 |    78.525 |   79.5607 |   79.9625 |   79.8027 |    79.915 |   79.9621 |    80.317 |    80.385 |    80.2525 |      80.15 |    80.2375 |     80.575 |     80.675 |     80.645 |      80.51 |      80.72 |      80.9 |   80.5484 |   80.6175 |    80.507 |    80.605 |     80.17 |    79.795 |   79.9025 |    79.875 |      79.85 |    79.9075 |      80.25 |      80.25 |    80.3125 |     80.265 |    80.3975 |    80.3825 |     80.59 |     81.04 |      81.2 |    81.275 |     81.24 |     81.35 |      81.8 |      81.8 |   81.7125 |       81.8 |    80.9625 |      80.54 |       80.5 |     80.825 |    80.8925 |    81.0975 |    80.9975 |    81.325 |   81.3985 |   81.3125 |    81.375 |   81.3037 |   81.2275 |   81.3375 |   81.3725 |   81.1875 |    81.4875 |    81.5375 |    81.4675 |     81.575 |     81.475 |     81.185 |    81.2319 |     81.275 |     81.13 |     81.06 |   81.0325 |   80.9375 |   81.2375 |    81.255 |   81.2275 |     81.26 |   78.2475 |     78.475 |    78.5475 |    78.7375 |    79.6025 |    78.8175 |    79.1468 |     79.245 |     79.065 |   79.4273 |     79.79 |      79.8 |   79.7525 |     79.75 |    79.765 |      79.9 |    80.125 |    80.175 |    80.1225 |      80.15 |    80.2625 |      80.16 |    80.7925 |    81.0325 |    80.9856 |    81.0573 |   80.9837 |   80.9175 |    80.905 |    80.825 |   80.8775 |     80.95 |     80.75 |     80.75 |    80.725 |     80.675 |    80.6425 |    80.8475 |    80.1775 |      79.79 |    80.0775 |     79.995 |    80.0525 |   80.0775 |   79.9425 |     79.87 |      79.5 |    79.465 |   79.5225 |    79.475 |   79.5025 |      79.6 |      79.67 |    79.3732 |      79.22 |      79.02 |     78.639 |     77.895 |    77.8325 |    78.2575 |      78.2 |      78.2 |    78.075 |    74.825 |    75.045 |    74.705 |      75.5 |    75.375 |   74.2525 |    75.0649 |      75.11 |    74.7908 |    74.9625 |    75.1712 |    75.1403 |    74.5425 |    74.5975 |    74.455 |    74.825 |     75.25 |    75.125 |   74.9625 |    75.195 |    75.325 |   75.2875 |   74.4225 |    73.0738 |    73.5525 |     73.585 |    72.4211 |    72.1616 |     72.025 |     72.205 |    71.9375 |     72.45 |    70.935 |     71.65 |    71.925 |        72 |   71.5275 |   71.6325 |   73.7029 |   74.3875 |    73.2056 |     73.555 |      73.02 |      73.21 |    73.1725 |      72.73 |      72.65 |     72.625 |    72.475 |   72.3825 |     72.06 |   71.2125 |   71.1725 |     70.25 |   69.2825 |   70.2025 |   70.7025 |    70.3072 |    70.2012 |    69.4375 |      68.27 |     67.525 |      67.54 |         68 |      65.57 |      66.5 |    66.125 |   67.0525 |      66.3 |   64.3125 |   65.2375 |    67.395 |     68.08 |   67.5825 |      66.75 |     66.671 |      68.66 |      68.83 |     68.875 |    68.9375 |      70.75 |    70.1575 |   69.0825 |   69.2875 |   69.0625 |     70.61 |   70.3232 |   72.4062 |   72.4925 |   72.1075 |   72.5751 |    72.9072 |      74.71 |    74.4125 |    74.3875 |     74.275 |     75.005 |    75.3575 |       74.8 |    75.525 |     75.32 |   75.9625 |   74.9225 |   73.0075 |    73.455 |    72.845 |     71.98 |   73.2623 |    72.3275 |     72.165 |      71.75 |     71.775 |     73.755 |      74.09 |         74 |     74.375 |    74.025 |    74.175 |    74.255 |    74.295 |   74.1925 |   74.9563 |   74.9425 |    75.115 |    75.735 |       75.4 |     75.415 |    75.2525 |      74.18 |      73.95 |    73.8025 |    74.2875 |     74.225 |   73.7125 |   74.4275 |   74.7449 |     74.19 |    73.925 |   73.5325 |   73.1125 |     73.23 |   73.2075 |      73.21 |    73.3375 |    71.9025 |    71.0075 |    70.9125 |     70.925 |      70.25 |    70.3375 |   72.0275 |     71.53 |   71.1882 |    71.825 |   71.2024 |     70.92 |    72.245 |   72.0525 |     71.72 |     71.625 |      67.15 |     67.875 |      67.97 |     67.145 |     67.025 |    65.9475 |      68.58 |     68.25 |   68.5938 |    68.345 |   67.2968 |   68.0364 |   66.5225 |   66.3725 |    66.125 |   67.3125 |     68.425 |      68.75 |     69.695 |     70.125 |    69.7875 |    68.8025 |    69.2875 |       69.9 |    68.055 |    68.725 |   69.0861 |   68.7786 |    69.665 |   71.4225 |   71.0775 |    70.725 |     70.09 |     69.875 |      68.95 |    69.8625 |    69.2275 |     69.275 |    69.1875 |    69.3475 |      68.88 |   69.0275 |   69.5875 |    69.209 |     68.74 |   68.5912 |   68.8275 |      69.2 |     68.68 |     69.35 |      68.94 |      65.75 |    65.0875 |     65.175 |     64.825 |         64 |     63.875 |    64.9375 |     63.72 |    63.075 |    65.555 |   63.5525 |    63.015 |        62 |   61.3725 |     59.58 |     60.35 |      59.75 |      64.45 |      63.95 |       64.8 |    65.1875 |     66.275 |     66.555 |    65.6225 |   64.2497 |   64.1937 |   65.5771 |   64.5413 |   65.3037 |    69.515 |   68.6875 |     68.73 |   68.4875 |     68.375 |    62.4975 |      61.89 |    61.5625 |     61.375 |    60.0625 |    60.4125 |    62.3425 |    64.615 |   63.7225 |   63.5775 |   62.7409 |      62.6 |   60.3675 |    61.415 |     61.35 |   61.5025 |    62.4575 |    64.4525 |     62.125 |    62.2125 |    62.7875 |      61.82 |     61.875 |    61.1875 |    62.925 |    63.213 |     62.58 |   63.7175 |   62.4512 |    63.215 |      62.6 |    62.425 |    62.065 |    61.4875 |     59.875 |    59.7375 |    59.1225 |      59.25 |     60.055 |         60 |    61.8119 |   61.0488 |   61.5075 |   60.1275 |     59.45 |   59.8284 |   62.4475 |    61.745 |    61.775 |   62.3125 |    63.4375 |     61.575 |       62.5 |     61.275 |     61.515 |       60.9 |     61.825 |    62.1975 |     62.42 |   61.7691 |   61.9813 |   62.4375 |   62.1625 |   61.1925 |      61.1 |     61.15 |   61.0425 |    60.8125 |      64.25 |      64.29 |     64.375 |    62.9375 |    62.9125 |     61.985 |      62.62 |   62.2912 |   61.3847 |    61.975 |   61.3175 |   60.4375 |    57.185 |   57.3625 |     57.25 |   57.1625 |     57.125 |       55.6 |       55.7 |    56.2475 |     56.595 |    57.8125 |      57.02 |      55.45 |   53.7675 |   54.8039 |   55.4863 |    55.265 |   54.4325 |    55.995 |        56 |      56.2 |     56.75 |     56.875 |    58.4475 |      58.55 |    59.2225 |    58.3075 |     58.175 |    58.8925 |    60.4345 |   60.1725 |    60.645 |   60.0285 |   59.8684 |   60.9113 |     61.72 |        62 |     61.75 |   62.1375 |     61.425 |      63.75 |      64.75 |    63.5525 |      62.45 |     62.255 |    62.8325 |    61.9766 | 37558.8 |\n",
      "+----+------------------------------+-----------+-----------+-----------+-----------+-----------+-----------+-----------+-----------+-----------+------------+------------+------------+------------+------------+------------+------------+------------+-----------+-----------+-----------+-----------+-----------+-----------+-----------+-----------+-----------+------------+------------+------------+------------+------------+------------+------------+------------+-----------+-----------+-----------+-----------+-----------+-----------+-----------+-----------+-----------+------------+------------+------------+------------+------------+------------+------------+------------+-----------+-----------+-----------+-----------+-----------+-----------+-----------+-----------+-----------+------------+------------+------------+------------+------------+------------+------------+------------+-----------+-----------+-----------+-----------+-----------+-----------+-----------+-----------+-----------+------------+------------+------------+------------+------------+------------+------------+------------+-----------+-----------+-----------+-----------+-----------+-----------+-----------+-----------+-----------+------------+------------+------------+------------+------------+------------+------------+------------+-----------+-----------+-----------+-----------+-----------+-----------+-----------+-----------+-----------+------------+------------+------------+------------+------------+------------+------------+------------+-----------+-----------+-----------+-----------+-----------+-----------+-----------+-----------+-----------+------------+------------+------------+------------+------------+------------+------------+------------+-----------+-----------+-----------+-----------+-----------+-----------+-----------+-----------+-----------+------------+------------+------------+------------+------------+------------+------------+------------+-----------+-----------+-----------+-----------+-----------+-----------+-----------+-----------+-----------+------------+------------+------------+------------+------------+------------+------------+------------+-----------+-----------+-----------+-----------+-----------+-----------+-----------+-----------+-----------+------------+------------+------------+------------+------------+------------+------------+------------+-----------+-----------+-----------+-----------+-----------+-----------+-----------+-----------+-----------+------------+------------+------------+------------+------------+------------+------------+------------+-----------+-----------+-----------+-----------+-----------+-----------+-----------+-----------+-----------+------------+------------+------------+------------+------------+------------+------------+------------+-----------+-----------+-----------+-----------+-----------+-----------+-----------+-----------+-----------+------------+------------+------------+------------+------------+------------+------------+------------+-----------+-----------+-----------+-----------+-----------+-----------+-----------+-----------+-----------+------------+------------+------------+------------+------------+------------+------------+------------+-----------+-----------+-----------+-----------+-----------+-----------+-----------+-----------+-----------+------------+------------+------------+------------+------------+------------+------------+------------+-----------+-----------+-----------+-----------+-----------+-----------+-----------+-----------+-----------+------------+------------+------------+------------+------------+------------+------------+------------+-----------+-----------+-----------+-----------+-----------+-----------+-----------+-----------+-----------+------------+------------+------------+------------+------------+------------+------------+------------+-----------+-----------+-----------+-----------+-----------+-----------+-----------+-----------+-----------+------------+------------+------------+------------+------------+------------+------------+------------+-----------+-----------+-----------+-----------+-----------+-----------+-----------+-----------+-----------+------------+------------+------------+------------+------------+------------+------------+------------+-----------+-----------+-----------+-----------+-----------+-----------+-----------+-----------+-----------+------------+------------+------------+------------+------------+------------+------------+------------+-----------+-----------+-----------+-----------+-----------+-----------+-----------+-----------+-----------+------------+------------+------------+------------+------------+------------+------------+------------+-----------+-----------+-----------+-----------+-----------+-----------+-----------+-----------+-----------+------------+------------+------------+------------+------------+------------+------------+------------+-----------+-----------+-----------+-----------+-----------+-----------+-----------+-----------+-----------+------------+------------+------------+------------+------------+------------+------------+------------+-----------+-----------+-----------+-----------+-----------+-----------+-----------+-----------+-----------+------------+------------+------------+------------+------------+------------+------------+------------+-----------+-----------+-----------+-----------+-----------+-----------+-----------+-----------+-----------+------------+------------+------------+------------+------------+------------+------------+------------+-----------+-----------+-----------+-----------+-----------+-----------+-----------+-----------+-----------+------------+------------+------------+------------+------------+------------+------------+------------+-----------+-----------+-----------+-----------+-----------+-----------+-----------+-----------+-----------+------------+------------+------------+------------+------------+------------+------------+------------+-----------+-----------+-----------+-----------+-----------+-----------+-----------+-----------+-----------+------------+------------+------------+------------+------------+------------+------------+------------+-----------+-----------+-----------+-----------+-----------+-----------+-----------+-----------+-----------+------------+------------+------------+------------+------------+------------+------------+------------+-----------+-----------+-----------+-----------+-----------+-----------+-----------+-----------+-----------+------------+------------+------------+------------+------------+------------+------------+------------+---------+\n"
     ]
    }
   ],
   "source": [
    "step_headers.clear()\n",
    "for a in range(start,start + 31):\n",
    "    for b in range (1,18):\n",
    "        step_headers.append(f'<{a},{b}>')\n",
    "\n",
    "headers = [\"Classifier type\", \"pct_change\"]\n",
    "score_df = pd.DataFrame(price_now.items(), columns=headers)\n",
    "# print(tabulate(score_df, headers, tablefmt=\"psql\"))\n",
    "headers2 = [\"Classifier type\", ] + step_headers\n",
    "score_df = pd.DataFrame(price_now.items(), columns=headers)\n",
    "accuracy_df = pd.DataFrame(score_df['pct_change'].tolist(), index=score_df.index, columns=step_headers)\n",
    "score_df = score_df.drop('pct_change', 1)\n",
    "f_out: pd.DataFrame = pd.merge(score_df, accuracy_df, how='left', left_index=True, right_index=True)\n",
    "f_out['sum'] = f_out.sum(axis=1)\n",
    "f_out['sum'] = f_out['sum'].apply(lambda x: x+100)\n",
    "headers2 = headers2 + ['sum']\n",
    "print(tabulate(f_out, headers2, tablefmt=\"psql\"))\n",
    "\n",
    "filename_to_export = f'C:\\\\Users\\\\exomat\\\\Desktop\\\\repo\\\\magisterka_analiza\\\\data\\\\results\\\\simulation\\\\result_test_ta_all_price_now_{symbol}_{WINDOW}_{datetime.now().strftime(\"%d_%m_%Y %H_%M_%S\")}.csv'\n",
    "f_out.to_csv(filename_to_export, index=False)"
   ],
   "metadata": {
    "collapsed": false,
    "pycharm": {
     "name": "#%%\n"
    }
   }
  },
  {
   "cell_type": "code",
   "execution_count": 40,
   "outputs": [
    {
     "name": "stdout",
     "output_type": "stream",
     "text": [
      "+----+------------------------------+-----------+-----------+-----------+-----------+-----------+-----------+-----------+-----------+-----------+------------+------------+------------+------------+------------+------------+------------+------------+-----------+-----------+-----------+-----------+-----------+-----------+-----------+-----------+-----------+------------+------------+------------+------------+------------+------------+------------+------------+-----------+-----------+-----------+-----------+-----------+-----------+-----------+-----------+-----------+------------+------------+------------+------------+------------+------------+------------+------------+-----------+-----------+-----------+-----------+-----------+-----------+-----------+-----------+-----------+------------+------------+------------+------------+------------+------------+------------+------------+-----------+-----------+-----------+-----------+-----------+-----------+-----------+-----------+-----------+------------+------------+------------+------------+------------+------------+------------+------------+-----------+-----------+-----------+-----------+-----------+-----------+-----------+-----------+-----------+------------+------------+------------+------------+------------+------------+------------+------------+-----------+-----------+-----------+-----------+-----------+-----------+-----------+-----------+-----------+------------+------------+------------+------------+------------+------------+------------+------------+-----------+-----------+-----------+-----------+-----------+-----------+-----------+-----------+-----------+------------+------------+------------+------------+------------+------------+------------+------------+-----------+-----------+-----------+-----------+-----------+-----------+-----------+-----------+-----------+------------+------------+------------+------------+------------+------------+------------+------------+-----------+-----------+-----------+-----------+-----------+-----------+-----------+-----------+-----------+------------+------------+------------+------------+------------+------------+------------+------------+-----------+-----------+-----------+-----------+-----------+-----------+-----------+-----------+-----------+------------+------------+------------+------------+------------+------------+------------+------------+-----------+-----------+-----------+-----------+-----------+-----------+-----------+-----------+-----------+------------+------------+------------+------------+------------+------------+------------+------------+-----------+-----------+-----------+-----------+-----------+-----------+-----------+-----------+-----------+------------+------------+------------+------------+------------+------------+------------+------------+-----------+-----------+-----------+-----------+-----------+-----------+-----------+-----------+-----------+------------+------------+------------+------------+------------+------------+------------+------------+-----------+-----------+-----------+-----------+-----------+-----------+-----------+-----------+-----------+------------+------------+------------+------------+------------+------------+------------+------------+-----------+-----------+-----------+-----------+-----------+-----------+-----------+-----------+-----------+------------+------------+------------+------------+------------+------------+------------+------------+-----------+-----------+-----------+-----------+-----------+-----------+-----------+-----------+-----------+------------+------------+------------+------------+------------+------------+------------+------------+-----------+-----------+-----------+-----------+-----------+-----------+-----------+-----------+-----------+------------+------------+------------+------------+------------+------------+------------+------------+-----------+-----------+-----------+-----------+-----------+-----------+-----------+-----------+-----------+------------+------------+------------+------------+------------+------------+------------+------------+-----------+-----------+-----------+-----------+-----------+-----------+-----------+-----------+-----------+------------+------------+------------+------------+------------+------------+------------+------------+-----------+-----------+-----------+-----------+-----------+-----------+-----------+-----------+-----------+------------+------------+------------+------------+------------+------------+------------+------------+-----------+-----------+-----------+-----------+-----------+-----------+-----------+-----------+-----------+------------+------------+------------+------------+------------+------------+------------+------------+-----------+-----------+-----------+-----------+-----------+-----------+-----------+-----------+-----------+------------+------------+------------+------------+------------+------------+------------+------------+-----------+-----------+-----------+-----------+-----------+-----------+-----------+-----------+-----------+------------+------------+------------+------------+------------+------------+------------+------------+-----------+-----------+-----------+-----------+-----------+-----------+-----------+-----------+-----------+------------+------------+------------+------------+------------+------------+------------+------------+-----------+-----------+-----------+-----------+-----------+-----------+-----------+-----------+-----------+------------+------------+------------+------------+------------+------------+------------+------------+-----------+-----------+-----------+-----------+-----------+-----------+-----------+-----------+-----------+------------+------------+------------+------------+------------+------------+------------+------------+-----------+-----------+-----------+-----------+-----------+-----------+-----------+-----------+-----------+------------+------------+------------+------------+------------+------------+------------+------------+-----------+-----------+-----------+-----------+-----------+-----------+-----------+-----------+-----------+------------+------------+------------+------------+------------+------------+------------+------------+-----------+-----------+-----------+-----------+-----------+-----------+-----------+-----------+-----------+------------+------------+------------+------------+------------+------------+------------+------------+-----------+-----------+-----------+-----------+-----------+-----------+-----------+-----------+-----------+------------+------------+------------+------------+------------+------------+------------+------------+---------+\n",
      "|    | Classifier type              |   <100,1> |   <100,2> |   <100,3> |   <100,4> |   <100,5> |   <100,6> |   <100,7> |   <100,8> |   <100,9> |   <100,10> |   <100,11> |   <100,12> |   <100,13> |   <100,14> |   <100,15> |   <100,16> |   <100,17> |   <101,1> |   <101,2> |   <101,3> |   <101,4> |   <101,5> |   <101,6> |   <101,7> |   <101,8> |   <101,9> |   <101,10> |   <101,11> |   <101,12> |   <101,13> |   <101,14> |   <101,15> |   <101,16> |   <101,17> |   <102,1> |   <102,2> |   <102,3> |   <102,4> |   <102,5> |   <102,6> |   <102,7> |   <102,8> |   <102,9> |   <102,10> |   <102,11> |   <102,12> |   <102,13> |   <102,14> |   <102,15> |   <102,16> |   <102,17> |   <103,1> |   <103,2> |   <103,3> |   <103,4> |   <103,5> |   <103,6> |   <103,7> |   <103,8> |   <103,9> |   <103,10> |   <103,11> |   <103,12> |   <103,13> |   <103,14> |   <103,15> |   <103,16> |   <103,17> |   <104,1> |   <104,2> |   <104,3> |   <104,4> |   <104,5> |   <104,6> |   <104,7> |   <104,8> |   <104,9> |   <104,10> |   <104,11> |   <104,12> |   <104,13> |   <104,14> |   <104,15> |   <104,16> |   <104,17> |   <105,1> |   <105,2> |   <105,3> |   <105,4> |   <105,5> |   <105,6> |   <105,7> |   <105,8> |   <105,9> |   <105,10> |   <105,11> |   <105,12> |   <105,13> |   <105,14> |   <105,15> |   <105,16> |   <105,17> |   <106,1> |   <106,2> |   <106,3> |   <106,4> |   <106,5> |   <106,6> |   <106,7> |   <106,8> |   <106,9> |   <106,10> |   <106,11> |   <106,12> |   <106,13> |   <106,14> |   <106,15> |   <106,16> |   <106,17> |   <107,1> |   <107,2> |   <107,3> |   <107,4> |   <107,5> |   <107,6> |   <107,7> |   <107,8> |   <107,9> |   <107,10> |   <107,11> |   <107,12> |   <107,13> |   <107,14> |   <107,15> |   <107,16> |   <107,17> |   <108,1> |   <108,2> |   <108,3> |   <108,4> |   <108,5> |   <108,6> |   <108,7> |   <108,8> |   <108,9> |   <108,10> |   <108,11> |   <108,12> |   <108,13> |   <108,14> |   <108,15> |   <108,16> |   <108,17> |   <109,1> |   <109,2> |   <109,3> |   <109,4> |   <109,5> |   <109,6> |   <109,7> |   <109,8> |   <109,9> |   <109,10> |   <109,11> |   <109,12> |   <109,13> |   <109,14> |   <109,15> |   <109,16> |   <109,17> |   <110,1> |   <110,2> |   <110,3> |   <110,4> |   <110,5> |   <110,6> |   <110,7> |   <110,8> |   <110,9> |   <110,10> |   <110,11> |   <110,12> |   <110,13> |   <110,14> |   <110,15> |   <110,16> |   <110,17> |   <111,1> |   <111,2> |   <111,3> |   <111,4> |   <111,5> |   <111,6> |   <111,7> |   <111,8> |   <111,9> |   <111,10> |   <111,11> |   <111,12> |   <111,13> |   <111,14> |   <111,15> |   <111,16> |   <111,17> |   <112,1> |   <112,2> |   <112,3> |   <112,4> |   <112,5> |   <112,6> |   <112,7> |   <112,8> |   <112,9> |   <112,10> |   <112,11> |   <112,12> |   <112,13> |   <112,14> |   <112,15> |   <112,16> |   <112,17> |   <113,1> |   <113,2> |   <113,3> |   <113,4> |   <113,5> |   <113,6> |   <113,7> |   <113,8> |   <113,9> |   <113,10> |   <113,11> |   <113,12> |   <113,13> |   <113,14> |   <113,15> |   <113,16> |   <113,17> |   <114,1> |   <114,2> |   <114,3> |   <114,4> |   <114,5> |   <114,6> |   <114,7> |   <114,8> |   <114,9> |   <114,10> |   <114,11> |   <114,12> |   <114,13> |   <114,14> |   <114,15> |   <114,16> |   <114,17> |   <115,1> |   <115,2> |   <115,3> |   <115,4> |   <115,5> |   <115,6> |   <115,7> |   <115,8> |   <115,9> |   <115,10> |   <115,11> |   <115,12> |   <115,13> |   <115,14> |   <115,15> |   <115,16> |   <115,17> |   <116,1> |   <116,2> |   <116,3> |   <116,4> |   <116,5> |   <116,6> |   <116,7> |   <116,8> |   <116,9> |   <116,10> |   <116,11> |   <116,12> |   <116,13> |   <116,14> |   <116,15> |   <116,16> |   <116,17> |   <117,1> |   <117,2> |   <117,3> |   <117,4> |   <117,5> |   <117,6> |   <117,7> |   <117,8> |   <117,9> |   <117,10> |   <117,11> |   <117,12> |   <117,13> |   <117,14> |   <117,15> |   <117,16> |   <117,17> |   <118,1> |   <118,2> |   <118,3> |   <118,4> |   <118,5> |   <118,6> |   <118,7> |   <118,8> |   <118,9> |   <118,10> |   <118,11> |   <118,12> |   <118,13> |   <118,14> |   <118,15> |   <118,16> |   <118,17> |   <119,1> |   <119,2> |   <119,3> |   <119,4> |   <119,5> |   <119,6> |   <119,7> |   <119,8> |   <119,9> |   <119,10> |   <119,11> |   <119,12> |   <119,13> |   <119,14> |   <119,15> |   <119,16> |   <119,17> |   <120,1> |   <120,2> |   <120,3> |   <120,4> |   <120,5> |   <120,6> |   <120,7> |   <120,8> |   <120,9> |   <120,10> |   <120,11> |   <120,12> |   <120,13> |   <120,14> |   <120,15> |   <120,16> |   <120,17> |   <121,1> |   <121,2> |   <121,3> |   <121,4> |   <121,5> |   <121,6> |   <121,7> |   <121,8> |   <121,9> |   <121,10> |   <121,11> |   <121,12> |   <121,13> |   <121,14> |   <121,15> |   <121,16> |   <121,17> |   <122,1> |   <122,2> |   <122,3> |   <122,4> |   <122,5> |   <122,6> |   <122,7> |   <122,8> |   <122,9> |   <122,10> |   <122,11> |   <122,12> |   <122,13> |   <122,14> |   <122,15> |   <122,16> |   <122,17> |   <123,1> |   <123,2> |   <123,3> |   <123,4> |   <123,5> |   <123,6> |   <123,7> |   <123,8> |   <123,9> |   <123,10> |   <123,11> |   <123,12> |   <123,13> |   <123,14> |   <123,15> |   <123,16> |   <123,17> |   <124,1> |   <124,2> |   <124,3> |   <124,4> |   <124,5> |   <124,6> |   <124,7> |   <124,8> |   <124,9> |   <124,10> |   <124,11> |   <124,12> |   <124,13> |   <124,14> |   <124,15> |   <124,16> |   <124,17> |   <125,1> |   <125,2> |   <125,3> |   <125,4> |   <125,5> |   <125,6> |   <125,7> |   <125,8> |   <125,9> |   <125,10> |   <125,11> |   <125,12> |   <125,13> |   <125,14> |   <125,15> |   <125,16> |   <125,17> |   <126,1> |   <126,2> |   <126,3> |   <126,4> |   <126,5> |   <126,6> |   <126,7> |   <126,8> |   <126,9> |   <126,10> |   <126,11> |   <126,12> |   <126,13> |   <126,14> |   <126,15> |   <126,16> |   <126,17> |   <127,1> |   <127,2> |   <127,3> |   <127,4> |   <127,5> |   <127,6> |   <127,7> |   <127,8> |   <127,9> |   <127,10> |   <127,11> |   <127,12> |   <127,13> |   <127,14> |   <127,15> |   <127,16> |   <127,17> |   <128,1> |   <128,2> |   <128,3> |   <128,4> |   <128,5> |   <128,6> |   <128,7> |   <128,8> |   <128,9> |   <128,10> |   <128,11> |   <128,12> |   <128,13> |   <128,14> |   <128,15> |   <128,16> |   <128,17> |   <129,1> |   <129,2> |   <129,3> |   <129,4> |   <129,5> |   <129,6> |   <129,7> |   <129,8> |   <129,9> |   <129,10> |   <129,11> |   <129,12> |   <129,13> |   <129,14> |   <129,15> |   <129,16> |   <129,17> |   <130,1> |   <130,2> |   <130,3> |   <130,4> |   <130,5> |   <130,6> |   <130,7> |   <130,8> |   <130,9> |   <130,10> |   <130,11> |   <130,12> |   <130,13> |   <130,14> |   <130,15> |   <130,16> |   <130,17> |     sum |\n",
      "|----+------------------------------+-----------+-----------+-----------+-----------+-----------+-----------+-----------+-----------+-----------+------------+------------+------------+------------+------------+------------+------------+------------+-----------+-----------+-----------+-----------+-----------+-----------+-----------+-----------+-----------+------------+------------+------------+------------+------------+------------+------------+------------+-----------+-----------+-----------+-----------+-----------+-----------+-----------+-----------+-----------+------------+------------+------------+------------+------------+------------+------------+------------+-----------+-----------+-----------+-----------+-----------+-----------+-----------+-----------+-----------+------------+------------+------------+------------+------------+------------+------------+------------+-----------+-----------+-----------+-----------+-----------+-----------+-----------+-----------+-----------+------------+------------+------------+------------+------------+------------+------------+------------+-----------+-----------+-----------+-----------+-----------+-----------+-----------+-----------+-----------+------------+------------+------------+------------+------------+------------+------------+------------+-----------+-----------+-----------+-----------+-----------+-----------+-----------+-----------+-----------+------------+------------+------------+------------+------------+------------+------------+------------+-----------+-----------+-----------+-----------+-----------+-----------+-----------+-----------+-----------+------------+------------+------------+------------+------------+------------+------------+------------+-----------+-----------+-----------+-----------+-----------+-----------+-----------+-----------+-----------+------------+------------+------------+------------+------------+------------+------------+------------+-----------+-----------+-----------+-----------+-----------+-----------+-----------+-----------+-----------+------------+------------+------------+------------+------------+------------+------------+------------+-----------+-----------+-----------+-----------+-----------+-----------+-----------+-----------+-----------+------------+------------+------------+------------+------------+------------+------------+------------+-----------+-----------+-----------+-----------+-----------+-----------+-----------+-----------+-----------+------------+------------+------------+------------+------------+------------+------------+------------+-----------+-----------+-----------+-----------+-----------+-----------+-----------+-----------+-----------+------------+------------+------------+------------+------------+------------+------------+------------+-----------+-----------+-----------+-----------+-----------+-----------+-----------+-----------+-----------+------------+------------+------------+------------+------------+------------+------------+------------+-----------+-----------+-----------+-----------+-----------+-----------+-----------+-----------+-----------+------------+------------+------------+------------+------------+------------+------------+------------+-----------+-----------+-----------+-----------+-----------+-----------+-----------+-----------+-----------+------------+------------+------------+------------+------------+------------+------------+------------+-----------+-----------+-----------+-----------+-----------+-----------+-----------+-----------+-----------+------------+------------+------------+------------+------------+------------+------------+------------+-----------+-----------+-----------+-----------+-----------+-----------+-----------+-----------+-----------+------------+------------+------------+------------+------------+------------+------------+------------+-----------+-----------+-----------+-----------+-----------+-----------+-----------+-----------+-----------+------------+------------+------------+------------+------------+------------+------------+------------+-----------+-----------+-----------+-----------+-----------+-----------+-----------+-----------+-----------+------------+------------+------------+------------+------------+------------+------------+------------+-----------+-----------+-----------+-----------+-----------+-----------+-----------+-----------+-----------+------------+------------+------------+------------+------------+------------+------------+------------+-----------+-----------+-----------+-----------+-----------+-----------+-----------+-----------+-----------+------------+------------+------------+------------+------------+------------+------------+------------+-----------+-----------+-----------+-----------+-----------+-----------+-----------+-----------+-----------+------------+------------+------------+------------+------------+------------+------------+------------+-----------+-----------+-----------+-----------+-----------+-----------+-----------+-----------+-----------+------------+------------+------------+------------+------------+------------+------------+------------+-----------+-----------+-----------+-----------+-----------+-----------+-----------+-----------+-----------+------------+------------+------------+------------+------------+------------+------------+------------+-----------+-----------+-----------+-----------+-----------+-----------+-----------+-----------+-----------+------------+------------+------------+------------+------------+------------+------------+------------+-----------+-----------+-----------+-----------+-----------+-----------+-----------+-----------+-----------+------------+------------+------------+------------+------------+------------+------------+------------+-----------+-----------+-----------+-----------+-----------+-----------+-----------+-----------+-----------+------------+------------+------------+------------+------------+------------+------------+------------+-----------+-----------+-----------+-----------+-----------+-----------+-----------+-----------+-----------+------------+------------+------------+------------+------------+------------+------------+------------+-----------+-----------+-----------+-----------+-----------+-----------+-----------+-----------+-----------+------------+------------+------------+------------+------------+------------+------------+------------+-----------+-----------+-----------+-----------+-----------+-----------+-----------+-----------+-----------+------------+------------+------------+------------+------------+------------+------------+------------+---------|\n",
      "|  0 | GradientBoostingClassifier 2 |     79.25 |     79.15 |    78.525 |   79.5607 |   79.9625 |   79.8027 |    79.915 |   79.9621 |    80.317 |     80.385 |    80.2525 |      80.15 |    80.2375 |     80.575 |     80.675 |     80.645 |      80.51 |     80.72 |      80.9 |   80.5484 |   80.6175 |    80.507 |    80.605 |     80.17 |    79.795 |   79.9025 |     79.875 |      79.85 |    79.9075 |      80.25 |      80.25 |    80.3125 |     80.265 |    80.3975 |   80.3825 |     80.59 |     81.04 |      81.2 |    81.275 |     81.24 |     81.35 |      81.8 |      81.8 |    81.7125 |       81.8 |    80.9625 |      80.54 |       80.5 |     80.825 |    80.8925 |    81.0975 |   80.9975 |    81.325 |   81.3985 |   81.3125 |    81.375 |   81.3037 |   81.2275 |   81.3375 |   81.3725 |    81.1875 |    81.4875 |    81.5375 |    81.4675 |     81.575 |     81.475 |     81.185 |    81.2319 |    81.275 |     81.13 |     81.06 |   81.0325 |   80.9375 |   81.2375 |    81.255 |   81.2275 |     81.26 |    78.2475 |     78.475 |    78.5475 |    78.7375 |    79.6025 |    78.8175 |    79.1468 |     79.245 |    79.065 |   79.4273 |     79.79 |      79.8 |   79.7525 |     79.75 |    79.765 |      79.9 |    80.125 |     80.175 |    80.1225 |      80.15 |    80.2625 |      80.16 |    80.7925 |    81.0325 |    80.9856 |   81.0573 |   80.9837 |   80.9175 |    80.905 |    80.825 |   80.8775 |     80.95 |     80.75 |     80.75 |     80.725 |     80.675 |    80.6425 |    80.8475 |    80.1775 |      79.79 |    80.0775 |     79.995 |   80.0525 |   80.0775 |   79.9425 |     79.87 |      79.5 |    79.465 |   79.5225 |    79.475 |   79.5025 |       79.6 |      79.67 |    79.3732 |      79.22 |      79.02 |     78.639 |     77.895 |    77.8325 |   78.2575 |      78.2 |      78.2 |    78.075 |    74.825 |    75.045 |    74.705 |      75.5 |    75.375 |    74.2525 |    75.0649 |      75.11 |    74.7908 |    74.9625 |    75.1712 |    75.1403 |    74.5425 |   74.5975 |    74.455 |    74.825 |     75.25 |    75.125 |   74.9625 |    75.195 |    75.325 |   75.2875 |    74.4225 |    73.0738 |    73.5525 |     73.585 |    72.4211 |    72.1616 |     72.025 |     72.205 |   71.9375 |     72.45 |    70.935 |     71.65 |    71.925 |        72 |   71.5275 |   71.6325 |   73.7029 |    74.3875 |    73.2056 |     73.555 |      73.02 |      73.21 |    73.1725 |      72.73 |      72.65 |    72.625 |    72.475 |   72.3825 |     72.06 |   71.2125 |   71.1725 |     70.25 |   69.2825 |   70.2025 |    70.7025 |    70.3072 |    70.2012 |    69.4375 |      68.27 |     67.525 |      67.54 |         68 |     65.57 |      66.5 |    66.125 |   67.0525 |      66.3 |   64.3125 |   65.2375 |    67.395 |     68.08 |    67.5825 |      66.75 |     66.671 |      68.66 |      68.83 |     68.875 |    68.9375 |      70.75 |   70.1575 |   69.0825 |   69.2875 |   69.0625 |     70.61 |   70.3232 |   72.4062 |   72.4925 |   72.1075 |    72.5751 |    72.9072 |      74.71 |    74.4125 |    74.3875 |     74.275 |     75.005 |    75.3575 |      74.8 |    75.525 |     75.32 |   75.9625 |   74.9225 |   73.0075 |    73.455 |    72.845 |     71.98 |    73.2623 |    72.3275 |     72.165 |      71.75 |     71.775 |     73.755 |      74.09 |         74 |    74.375 |    74.025 |    74.175 |    74.255 |    74.295 |   74.1925 |   74.9563 |   74.9425 |    75.115 |     75.735 |       75.4 |     75.415 |    75.2525 |      74.18 |      73.95 |    73.8025 |    74.2875 |    74.225 |   73.7125 |   74.4275 |   74.7449 |     74.19 |    73.925 |   73.5325 |   73.1125 |     73.23 |    73.2075 |      73.21 |    73.3375 |    71.9025 |    71.0075 |    70.9125 |     70.925 |      70.25 |   70.3375 |   72.0275 |     71.53 |   71.1882 |    71.825 |   71.2024 |     70.92 |    72.245 |   72.0525 |      71.72 |     71.625 |      67.15 |     67.875 |      67.97 |     67.145 |     67.025 |    65.9475 |     68.58 |     68.25 |   68.5938 |    68.345 |   67.2968 |   68.0364 |   66.5225 |   66.3725 |    66.125 |    67.3125 |     68.425 |      68.75 |     69.695 |     70.125 |    69.7875 |    68.8025 |    69.2875 |      69.9 |    68.055 |    68.725 |   69.0861 |   68.7786 |    69.665 |   71.4225 |   71.0775 |    70.725 |      70.09 |     69.875 |      68.95 |    69.8625 |    69.2275 |     69.275 |    69.1875 |    69.3475 |     68.88 |   69.0275 |   69.5875 |    69.209 |     68.74 |   68.5912 |   68.8275 |      69.2 |     68.68 |      69.35 |      68.94 |      65.75 |    65.0875 |     65.175 |     64.825 |         64 |     63.875 |   64.9375 |     63.72 |    63.075 |    65.555 |   63.5525 |    63.015 |        62 |   61.3725 |     59.58 |      60.35 |      59.75 |      64.45 |      63.95 |       64.8 |    65.1875 |     66.275 |     66.555 |   65.6225 |   64.2497 |   64.1937 |   65.5771 |   64.5413 |   65.3037 |    69.515 |   68.6875 |     68.73 |    68.4875 |     68.375 |    62.4975 |      61.89 |    61.5625 |     61.375 |    60.0625 |    60.4125 |   62.3425 |    64.615 |   63.7225 |   63.5775 |   62.7409 |      62.6 |   60.3675 |    61.415 |     61.35 |    61.5025 |    62.4575 |    64.4525 |     62.125 |    62.2125 |    62.7875 |      61.82 |     61.875 |   61.1875 |    62.925 |    63.213 |     62.58 |   63.7175 |   62.4512 |    63.215 |      62.6 |    62.425 |     62.065 |    61.4875 |     59.875 |    59.7375 |    59.1225 |      59.25 |     60.055 |         60 |   61.8119 |   61.0488 |   61.5075 |   60.1275 |     59.45 |   59.8284 |   62.4475 |    61.745 |    61.775 |    62.3125 |    63.4375 |     61.575 |       62.5 |     61.275 |     61.515 |       60.9 |     61.825 |   62.1975 |     62.42 |   61.7691 |   61.9813 |   62.4375 |   62.1625 |   61.1925 |      61.1 |     61.15 |    61.0425 |    60.8125 |      64.25 |      64.29 |     64.375 |    62.9375 |    62.9125 |     61.985 |     62.62 |   62.2912 |   61.3847 |    61.975 |   61.3175 |   60.4375 |    57.185 |   57.3625 |     57.25 |    57.1625 |     57.125 |       55.6 |       55.7 |    56.2475 |     56.595 |    57.8125 |      57.02 |     55.45 |   53.7675 |   54.8039 |   55.4863 |    55.265 |   54.4325 |    55.995 |        56 |      56.2 |      56.75 |     56.875 |    58.4475 |      58.55 |    59.2225 |    58.3075 |     58.175 |    58.8925 |   60.4345 |   60.1725 |    60.645 |   60.0285 |   59.8684 |   60.9113 |     61.72 |        62 |     61.75 |    62.1375 |     61.425 |      63.75 |      64.75 |    63.5525 |      62.45 |     62.255 |    62.8325 |   61.9766 |     63.46 |   63.6075 |   63.7325 |   63.7632 |   63.8275 |   61.3625 |   61.5775 |     61.75 |      61.95 |      61.88 |      60.75 |      60.75 |       61.1 |     61.335 |    60.2475 |    61.6625 | 37268.8 |\n",
      "+----+------------------------------+-----------+-----------+-----------+-----------+-----------+-----------+-----------+-----------+-----------+------------+------------+------------+------------+------------+------------+------------+------------+-----------+-----------+-----------+-----------+-----------+-----------+-----------+-----------+-----------+------------+------------+------------+------------+------------+------------+------------+------------+-----------+-----------+-----------+-----------+-----------+-----------+-----------+-----------+-----------+------------+------------+------------+------------+------------+------------+------------+------------+-----------+-----------+-----------+-----------+-----------+-----------+-----------+-----------+-----------+------------+------------+------------+------------+------------+------------+------------+------------+-----------+-----------+-----------+-----------+-----------+-----------+-----------+-----------+-----------+------------+------------+------------+------------+------------+------------+------------+------------+-----------+-----------+-----------+-----------+-----------+-----------+-----------+-----------+-----------+------------+------------+------------+------------+------------+------------+------------+------------+-----------+-----------+-----------+-----------+-----------+-----------+-----------+-----------+-----------+------------+------------+------------+------------+------------+------------+------------+------------+-----------+-----------+-----------+-----------+-----------+-----------+-----------+-----------+-----------+------------+------------+------------+------------+------------+------------+------------+------------+-----------+-----------+-----------+-----------+-----------+-----------+-----------+-----------+-----------+------------+------------+------------+------------+------------+------------+------------+------------+-----------+-----------+-----------+-----------+-----------+-----------+-----------+-----------+-----------+------------+------------+------------+------------+------------+------------+------------+------------+-----------+-----------+-----------+-----------+-----------+-----------+-----------+-----------+-----------+------------+------------+------------+------------+------------+------------+------------+------------+-----------+-----------+-----------+-----------+-----------+-----------+-----------+-----------+-----------+------------+------------+------------+------------+------------+------------+------------+------------+-----------+-----------+-----------+-----------+-----------+-----------+-----------+-----------+-----------+------------+------------+------------+------------+------------+------------+------------+------------+-----------+-----------+-----------+-----------+-----------+-----------+-----------+-----------+-----------+------------+------------+------------+------------+------------+------------+------------+------------+-----------+-----------+-----------+-----------+-----------+-----------+-----------+-----------+-----------+------------+------------+------------+------------+------------+------------+------------+------------+-----------+-----------+-----------+-----------+-----------+-----------+-----------+-----------+-----------+------------+------------+------------+------------+------------+------------+------------+------------+-----------+-----------+-----------+-----------+-----------+-----------+-----------+-----------+-----------+------------+------------+------------+------------+------------+------------+------------+------------+-----------+-----------+-----------+-----------+-----------+-----------+-----------+-----------+-----------+------------+------------+------------+------------+------------+------------+------------+------------+-----------+-----------+-----------+-----------+-----------+-----------+-----------+-----------+-----------+------------+------------+------------+------------+------------+------------+------------+------------+-----------+-----------+-----------+-----------+-----------+-----------+-----------+-----------+-----------+------------+------------+------------+------------+------------+------------+------------+------------+-----------+-----------+-----------+-----------+-----------+-----------+-----------+-----------+-----------+------------+------------+------------+------------+------------+------------+------------+------------+-----------+-----------+-----------+-----------+-----------+-----------+-----------+-----------+-----------+------------+------------+------------+------------+------------+------------+------------+------------+-----------+-----------+-----------+-----------+-----------+-----------+-----------+-----------+-----------+------------+------------+------------+------------+------------+------------+------------+------------+-----------+-----------+-----------+-----------+-----------+-----------+-----------+-----------+-----------+------------+------------+------------+------------+------------+------------+------------+------------+-----------+-----------+-----------+-----------+-----------+-----------+-----------+-----------+-----------+------------+------------+------------+------------+------------+------------+------------+------------+-----------+-----------+-----------+-----------+-----------+-----------+-----------+-----------+-----------+------------+------------+------------+------------+------------+------------+------------+------------+-----------+-----------+-----------+-----------+-----------+-----------+-----------+-----------+-----------+------------+------------+------------+------------+------------+------------+------------+------------+-----------+-----------+-----------+-----------+-----------+-----------+-----------+-----------+-----------+------------+------------+------------+------------+------------+------------+------------+------------+-----------+-----------+-----------+-----------+-----------+-----------+-----------+-----------+-----------+------------+------------+------------+------------+------------+------------+------------+------------+-----------+-----------+-----------+-----------+-----------+-----------+-----------+-----------+-----------+------------+------------+------------+------------+------------+------------+------------+------------+-----------+-----------+-----------+-----------+-----------+-----------+-----------+-----------+-----------+------------+------------+------------+------------+------------+------------+------------+------------+---------+\n"
     ]
    }
   ],
   "source": [
    "step_headers.clear()\n",
    "for a in range(start,start + 31):\n",
    "    for b in range (1,18):\n",
    "        step_headers.append(f'<{a},{b}>')\n",
    "\n",
    "headers = [\"Classifier type\", \"pct_change\"]\n",
    "score_df = pd.DataFrame(price_fut.items(), columns=headers)\n",
    "# print(tabulate(score_df, headers, tablefmt=\"psql\"))\n",
    "headers2 = [\"Classifier type\", ] + step_headers\n",
    "score_df = pd.DataFrame(price_fut.items(), columns=headers)\n",
    "accuracy_df = pd.DataFrame(score_df['pct_change'].tolist(), index=score_df.index, columns=step_headers)\n",
    "score_df = score_df.drop('pct_change', 1)\n",
    "f_out: pd.DataFrame = pd.merge(score_df, accuracy_df, how='left', left_index=True, right_index=True)\n",
    "f_out['sum'] = f_out.sum(axis=1)\n",
    "f_out['sum'] = f_out['sum'].apply(lambda x: x+100)\n",
    "headers2 = headers2 + ['sum']\n",
    "print(tabulate(f_out, headers2, tablefmt=\"psql\"))\n",
    "\n",
    "filename_to_export = f'C:\\\\Users\\\\exomat\\\\Desktop\\\\repo\\\\magisterka_analiza\\\\data\\\\results\\\\simulation\\\\result_test_ta_all_price_fut_{symbol}_{WINDOW}_{datetime.now().strftime(\"%d_%m_%Y %H_%M_%S\")}.csv'\n",
    "f_out.to_csv(filename_to_export, index=False)"
   ],
   "metadata": {
    "collapsed": false,
    "pycharm": {
     "name": "#%%\n"
    }
   }
  },
  {
   "cell_type": "code",
   "execution_count": 41,
   "outputs": [
    {
     "name": "stdout",
     "output_type": "stream",
     "text": [
      "+----+-------------------+-----------+---------+----------+---------+---------+---------+---------+---------+----------+-----------+----------+----------+-----------+---------+---------+---------+---------+----------+---------+-----------+------------+---------+----------+-------------+----------+---------+---------+---------+-----------+----------+---------+---------+\n",
      "|    |   Classifier type |     <100> |   <101> |    <102> |   <103> |   <104> |   <105> |   <106> |   <107> |    <108> |     <109> |    <110> |    <111> |     <112> |   <113> |   <114> |   <115> |   <116> |    <117> |   <118> |     <119> |      <120> |   <121> |    <122> |       <123> |    <124> |   <125> |   <126> |   <127> |     <128> |    <129> |   <130> |     sum |\n",
      "|----+-------------------+-----------+---------+----------+---------+---------+---------+---------+---------+----------+-----------+----------+----------+-----------+---------+---------+---------+---------+----------+---------+-----------+------------+---------+----------+-------------+----------+---------+---------+---------+-----------+----------+---------+---------|\n",
      "|  0 |                 0 | 0         | 1.98358 | 0        | 0       |       0 | 0       | 2.05225 |       0 |  0       | -4.60678  | -3.38124 |  0       |  0        | 0       |       0 |       0 |       0 |  0       | 0       |  2.41758  |  1.21225   |       0 |  2.98571 |  -2.96846   |  0       | 0       | 0       |       0 |  0        | 12.3997  | 2.99813 | 115.093 |\n",
      "|  1 |                 1 | 0         | 3.02451 | 0        | 0       |       0 | 0       | 1.49599 |       0 | -2.17969 | -4.789    |  0       |  0       |  0        | 0       |       0 |       0 |       0 |  0       | 0       | -0.785421 |  0         |       0 |  0       |   0.656216  |  0       | 0       | 0       |       0 |  0        |  9.79597 | 4.64177 | 112.86  |\n",
      "|  2 |                 2 | 0         | 0       | 0        | 0       |       0 | 0       | 1.40038 |       0 | -2.0909  | -4.16266  |  0       |  0       |  0        | 0       |       0 |       0 |       0 |  0       | 0       |  0.555999 |  0.7258    |       0 |  0       |   0         |  0       | 0       | 2.73028 |       0 |  0        |  9.29735 | 5.96208 | 116.418 |\n",
      "|  3 |                 3 | 0         | 0       | 0.860786 | 0       |       0 | 0       | 1.44509 |       0 | -1.79245 |  0.567992 |  0       |  0       | -5.84167  | 4.16667 |       0 |       0 |       0 |  0       | 0       |  2.65885  |  0.625771  |       0 |  3.18567 |  -1.49324   |  0       | 0       | 4.25778 |       0 |  0        |  8.61947 | 6.45437 | 126.715 |\n",
      "|  4 |                 4 | 0         | 0       | 0.831183 | 0       |       0 | 0       | 0       |       0 |  0       |  0.106603 |  0       |  0       |  0        | 9.79203 |       0 |       0 |       0 |  0       | 0       |  0        | -1.32779   |       0 |  0       |   0         |  0       | 0       | 4.36101 |       0 |  0        |  9.98645 | 4.68218 | 132.432 |\n",
      "|  5 |                 5 | 0         | 0       | 1.33466  | 0       |       0 | 0       | 0       |       0 |  0       |  0.344689 |  0       |  0       |  0        | 7.79566 |       0 |       0 |       0 |  0       | 0       |  0        |  0         |       0 |  0       |   0         |  3.45177 | 0       | 0       |       0 |  0        |  8.77981 | 3.41461 | 130.121 |\n",
      "|  6 |                 6 | 0         | 0       | 1.94874  | 0       |       0 | 0       | 0       |       0 |  0       | -0.403974 |  0       |  0       |  0        | 0       |       0 |       0 |       0 |  0       | 0       |  0        | -3.16556   |       0 | 13.2673  |   0         |  0       | 0       | 0       |       0 |  0        | 10.2143  | 0       | 127.861 |\n",
      "|  7 |                 7 | 0.0753373 | 0       | 2.37478  | 0       |       0 | 0       | 0       |       0 |  0       | -0.066335 |  0       |  0       | -3.99915  | 0       |       0 |       0 |       0 | -1.34508 | 0       |  0        |  0         |       0 | 15.2862  |   0         |  0       | 0       | 0       |       0 |  0        | 10.3203  | 0       | 129.646 |\n",
      "|  8 |                 8 | 0.931666  | 0       | 2.40999  | 0       |       0 | 2.39944 | 0       |       0 |  0       |  1.39389  |  0       |  0       | -3.7092   | 0       |       0 |       0 |       0 | -1.57771 | 0       |  0        | -2.0117    |       0 | 13.8857  | -10.4216    |  0       | 0       | 0       |       0 | -1.6838   |  8.81057 | 0       | 118.427 |\n",
      "|  9 |                 9 | 0.468691  | 0       | 2.3325   | 0       |       0 | 0       | 0       |       0 |  0       | -0.855796 |  0       |  0       | -3.87539  | 0       |       0 |       0 |       0 |  0       | 0       |  0        | -0.751342  |       0 | 14.6234  |   0         |  0       | 0       | 0       |       0 | -0.656455 |  9.25275 | 0       | 129.538 |\n",
      "| 10 |                10 | 0.328166  | 0       | 2.36836  | 0       |       0 | 0       | 0       |       0 |  0       | -2.71102  |  0       |  0       |  0        | 0       |       0 |       0 |       0 |  0       | 0       |  0        | -0.0145033 |       0 |  6.08999 |  -0.0640026 |  0       | 5.9499  | 0       |       0 |  2.29317  |  5.09432 | 0       | 129.334 |\n",
      "| 11 |                11 | 0         | 0       | 0        | 1.23852 |       0 | 1.79394 | 0       |       0 |  0       | -1.65565  |  0       | -3.86018 | -3.98416  | 0       |       0 |       0 |       0 |  0       | 0       |  0        |  0         |       0 | -2.27131 |   4.14041   | -3.62173 | 3.07596 | 0       |       0 |  4.93268  |  8.8813  | 0       | 119.67  |\n",
      "| 12 |                12 | 0         | 0       | 0        | 0       |       0 | 0       | 0       |       0 |  0       |  0        |  0       | -5.15298 |  0.571339 | 0       |       0 |       0 |       0 |  0       | 0       |  0        |  0         |       0 |  0       |   0.913706  |  0       | 5.71272 | 0       |       0 |  4.09352  |  9.33345 | 0       | 127.472 |\n",
      "| 13 |                13 | 0         | 0       | 0        | 0       |       0 | 1.7033  | 0       |       0 |  0       | -3.65852  |  0       | -6.69999 |  1.93262  | 0       |       0 |       0 |       0 |  0       | 4.43816 |  0        |  0         |       0 |  0       |   0         |  0       | 3.41772 | 0       |       0 |  4.64264  |  8.99541 | 0       | 127.771 |\n",
      "| 14 |                14 | 1.71468   | 0       | 0        | 0       |       0 | 2.07931 | 0       |       0 | -3.49669 | -3.96421  |  0       | -7.15661 |  1.97661  | 0       |       0 |       0 |       0 |  0       | 4.12163 |  0        |  0         |       0 |  0       |   0         |  0       | 2.4311  | 0       |       0 |  0.856216 |  7.34852 | 0       | 119.911 |\n",
      "| 15 |                15 | 0         | 0       | 0        | 0       |       0 | 2.25566 | 0       |       0 | -3.45897 | -3.37727  |  0       | -7.03372 |  1.37868  | 0       |       0 |       0 |       0 |  0       | 4.3292  |  0        |  0         |       0 |  0       |   0         |  0       | 1.5     | 0       |       0 |  0        |  5.70951 | 0       | 116.303 |\n",
      "| 16 |                16 | 1.58991   | 0       | 0        | 0       |       0 | 2.42914 | 0       |       0 |  0       | -3.20721  |  0       |  0       |  7.89995  | 0       |       0 |       0 |       0 |  0       | 0       |  0        |  0         |       0 |  0       |   0         |  0       | 0       | 0       |       0 |  6.20834  |  3.96793 | 0       | 134.888 |\n",
      "+----+-------------------+-----------+---------+----------+---------+---------+---------+---------+---------+----------+-----------+----------+----------+-----------+---------+---------+---------+---------+----------+---------+-----------+------------+---------+----------+-------------+----------+---------+---------+---------+-----------+----------+---------+---------+\n"
     ]
    }
   ],
   "source": [
    "step_headers.clear()\n",
    "for a in range(start,start + 31):\n",
    "    # for b in range (1,18):\n",
    "        step_headers.append(f'<{a}>')\n",
    "\n",
    "headers = [\"Classifier type\", \"pct_change\"]\n",
    "score_df = pd.DataFrame(score_hour.items(), columns=headers)\n",
    "# print(tabulate(score_df, headers, tablefmt=\"psql\"))\n",
    "headers2 = [\"Classifier type\", ] + step_headers\n",
    "score_df = pd.DataFrame(score_hour.items(), columns=headers)\n",
    "accuracy_df = pd.DataFrame(score_df['pct_change'].tolist(), index=score_df.index, columns=step_headers)\n",
    "score_df = score_df.drop('pct_change', 1)\n",
    "f_out: pd.DataFrame = pd.merge(score_df, accuracy_df, how='left', left_index=True, right_index=True)\n",
    "f_out['sum'] = f_out.sum(axis=1)\n",
    "f_out['sum'] = f_out['sum'].apply(lambda x: x+100)\n",
    "headers2 = headers2 + ['sum']\n",
    "print(tabulate(f_out, headers2, tablefmt=\"psql\"))\n",
    "\n",
    "filename_to_export = f'C:\\\\Users\\\\exomat\\\\Desktop\\\\repo\\\\magisterka_analiza\\\\data\\\\results\\\\simulation\\\\result_test_ta_all_score_hour_{symbol}_{WINDOW}_{datetime.now().strftime(\"%d_%m_%Y %H_%M_%S\")}.csv'\n",
    "f_out.to_csv(filename_to_export, index=False)"
   ],
   "metadata": {
    "collapsed": false,
    "pycharm": {
     "name": "#%%\n"
    }
   }
  },
  {
   "cell_type": "code",
   "execution_count": 42,
   "outputs": [
    {
     "name": "stdout",
     "output_type": "stream",
     "text": [
      "+----+------------------------------+-----------+-----------+-----------+-----------+-----------+-----------+-----------+-----------+-----------+------------+------------+------------+------------+------------+------------+------------+------------+-----------+-----------+-----------+-----------+-----------+-----------+-----------+-----------+-----------+------------+------------+------------+------------+------------+------------+------------+------------+-----------+-----------+-----------+-----------+-----------+-----------+-----------+-----------+-----------+------------+------------+------------+------------+------------+------------+------------+------------+-----------+-----------+-----------+-----------+-----------+-----------+-----------+-----------+-----------+------------+------------+------------+------------+------------+------------+------------+------------+-----------+-----------+-----------+-----------+-----------+-----------+-----------+-----------+-----------+------------+------------+------------+------------+------------+------------+------------+------------+-----------+-----------+-----------+-----------+-----------+-----------+-----------+-----------+-----------+------------+------------+------------+------------+------------+------------+------------+------------+-----------+-----------+-----------+-----------+-----------+-----------+-----------+-----------+-----------+------------+------------+------------+------------+------------+------------+------------+------------+-----------+-----------+-----------+-----------+-----------+-----------+-----------+-----------+-----------+------------+------------+------------+------------+------------+------------+------------+------------+-----------+-----------+-----------+-----------+-----------+-----------+-----------+-----------+-----------+------------+------------+------------+------------+------------+------------+------------+------------+-----------+-----------+-----------+-----------+-----------+-----------+-----------+-----------+-----------+------------+------------+------------+------------+------------+------------+------------+------------+-----------+-----------+-----------+-----------+-----------+-----------+-----------+-----------+-----------+------------+------------+------------+------------+------------+------------+------------+------------+-----------+-----------+-----------+-----------+-----------+-----------+-----------+-----------+-----------+------------+------------+------------+------------+------------+------------+------------+------------+-----------+-----------+-----------+-----------+-----------+-----------+-----------+-----------+-----------+------------+------------+------------+------------+------------+------------+------------+------------+-----------+-----------+-----------+-----------+-----------+-----------+-----------+-----------+-----------+------------+------------+------------+------------+------------+------------+------------+------------+-----------+-----------+-----------+-----------+-----------+-----------+-----------+-----------+-----------+------------+------------+------------+------------+------------+------------+------------+------------+-----------+-----------+-----------+-----------+-----------+-----------+-----------+-----------+-----------+------------+------------+------------+------------+------------+------------+------------+------------+-----------+-----------+-----------+-----------+-----------+-----------+-----------+-----------+-----------+------------+------------+------------+------------+------------+------------+------------+------------+-----------+-----------+-----------+-----------+-----------+-----------+-----------+-----------+-----------+------------+------------+------------+------------+------------+------------+------------+------------+-----------+-----------+-----------+-----------+-----------+-----------+-----------+-----------+-----------+------------+------------+------------+------------+------------+------------+------------+------------+-----------+-----------+-----------+-----------+-----------+-----------+-----------+-----------+-----------+------------+------------+------------+------------+------------+------------+------------+------------+-----------+-----------+-----------+-----------+-----------+-----------+-----------+-----------+-----------+------------+------------+------------+------------+------------+------------+------------+------------+-----------+-----------+-----------+-----------+-----------+-----------+-----------+-----------+-----------+------------+------------+------------+------------+------------+------------+------------+------------+-----------+-----------+-----------+-----------+-----------+-----------+-----------+-----------+-----------+------------+------------+------------+------------+------------+------------+------------+------------+-----------+-----------+-----------+-----------+-----------+-----------+-----------+-----------+-----------+------------+------------+------------+------------+------------+------------+------------+------------+-----------+-----------+-----------+-----------+-----------+-----------+-----------+-----------+-----------+------------+------------+------------+------------+------------+------------+------------+------------+-----------+-----------+-----------+-----------+-----------+-----------+-----------+-----------+-----------+------------+------------+------------+------------+------------+------------+------------+------------+-----------+-----------+-----------+-----------+-----------+-----------+-----------+-----------+-----------+------------+------------+------------+------------+------------+------------+------------+------------+-----------+-----------+-----------+-----------+-----------+-----------+-----------+-----------+-----------+------------+------------+------------+------------+------------+------------+------------+------------+-----------+-----------+-----------+-----------+-----------+-----------+-----------+-----------+-----------+------------+------------+------------+------------+------------+------------+------------+------------+-----------+-----------+-----------+-----------+-----------+-----------+-----------+-----------+-----------+------------+------------+------------+------------+------------+------------+------------+------------+-----------+-----------+-----------+-----------+-----------+-----------+-----------+-----------+-----------+------------+------------+------------+------------+------------+------------+------------+------------+-------+\n",
      "|    | Classifier type              |   <100,1> |   <100,2> |   <100,3> |   <100,4> |   <100,5> |   <100,6> |   <100,7> |   <100,8> |   <100,9> |   <100,10> |   <100,11> |   <100,12> |   <100,13> |   <100,14> |   <100,15> |   <100,16> |   <100,17> |   <101,1> |   <101,2> |   <101,3> |   <101,4> |   <101,5> |   <101,6> |   <101,7> |   <101,8> |   <101,9> |   <101,10> |   <101,11> |   <101,12> |   <101,13> |   <101,14> |   <101,15> |   <101,16> |   <101,17> |   <102,1> |   <102,2> |   <102,3> |   <102,4> |   <102,5> |   <102,6> |   <102,7> |   <102,8> |   <102,9> |   <102,10> |   <102,11> |   <102,12> |   <102,13> |   <102,14> |   <102,15> |   <102,16> |   <102,17> |   <103,1> |   <103,2> |   <103,3> |   <103,4> |   <103,5> |   <103,6> |   <103,7> |   <103,8> |   <103,9> |   <103,10> |   <103,11> |   <103,12> |   <103,13> |   <103,14> |   <103,15> |   <103,16> |   <103,17> |   <104,1> |   <104,2> |   <104,3> |   <104,4> |   <104,5> |   <104,6> |   <104,7> |   <104,8> |   <104,9> |   <104,10> |   <104,11> |   <104,12> |   <104,13> |   <104,14> |   <104,15> |   <104,16> |   <104,17> |   <105,1> |   <105,2> |   <105,3> |   <105,4> |   <105,5> |   <105,6> |   <105,7> |   <105,8> |   <105,9> |   <105,10> |   <105,11> |   <105,12> |   <105,13> |   <105,14> |   <105,15> |   <105,16> |   <105,17> |   <106,1> |   <106,2> |   <106,3> |   <106,4> |   <106,5> |   <106,6> |   <106,7> |   <106,8> |   <106,9> |   <106,10> |   <106,11> |   <106,12> |   <106,13> |   <106,14> |   <106,15> |   <106,16> |   <106,17> |   <107,1> |   <107,2> |   <107,3> |   <107,4> |   <107,5> |   <107,6> |   <107,7> |   <107,8> |   <107,9> |   <107,10> |   <107,11> |   <107,12> |   <107,13> |   <107,14> |   <107,15> |   <107,16> |   <107,17> |   <108,1> |   <108,2> |   <108,3> |   <108,4> |   <108,5> |   <108,6> |   <108,7> |   <108,8> |   <108,9> |   <108,10> |   <108,11> |   <108,12> |   <108,13> |   <108,14> |   <108,15> |   <108,16> |   <108,17> |   <109,1> |   <109,2> |   <109,3> |   <109,4> |   <109,5> |   <109,6> |   <109,7> |   <109,8> |   <109,9> |   <109,10> |   <109,11> |   <109,12> |   <109,13> |   <109,14> |   <109,15> |   <109,16> |   <109,17> |   <110,1> |   <110,2> |   <110,3> |   <110,4> |   <110,5> |   <110,6> |   <110,7> |   <110,8> |   <110,9> |   <110,10> |   <110,11> |   <110,12> |   <110,13> |   <110,14> |   <110,15> |   <110,16> |   <110,17> |   <111,1> |   <111,2> |   <111,3> |   <111,4> |   <111,5> |   <111,6> |   <111,7> |   <111,8> |   <111,9> |   <111,10> |   <111,11> |   <111,12> |   <111,13> |   <111,14> |   <111,15> |   <111,16> |   <111,17> |   <112,1> |   <112,2> |   <112,3> |   <112,4> |   <112,5> |   <112,6> |   <112,7> |   <112,8> |   <112,9> |   <112,10> |   <112,11> |   <112,12> |   <112,13> |   <112,14> |   <112,15> |   <112,16> |   <112,17> |   <113,1> |   <113,2> |   <113,3> |   <113,4> |   <113,5> |   <113,6> |   <113,7> |   <113,8> |   <113,9> |   <113,10> |   <113,11> |   <113,12> |   <113,13> |   <113,14> |   <113,15> |   <113,16> |   <113,17> |   <114,1> |   <114,2> |   <114,3> |   <114,4> |   <114,5> |   <114,6> |   <114,7> |   <114,8> |   <114,9> |   <114,10> |   <114,11> |   <114,12> |   <114,13> |   <114,14> |   <114,15> |   <114,16> |   <114,17> |   <115,1> |   <115,2> |   <115,3> |   <115,4> |   <115,5> |   <115,6> |   <115,7> |   <115,8> |   <115,9> |   <115,10> |   <115,11> |   <115,12> |   <115,13> |   <115,14> |   <115,15> |   <115,16> |   <115,17> |   <116,1> |   <116,2> |   <116,3> |   <116,4> |   <116,5> |   <116,6> |   <116,7> |   <116,8> |   <116,9> |   <116,10> |   <116,11> |   <116,12> |   <116,13> |   <116,14> |   <116,15> |   <116,16> |   <116,17> |   <117,1> |   <117,2> |   <117,3> |   <117,4> |   <117,5> |   <117,6> |   <117,7> |   <117,8> |   <117,9> |   <117,10> |   <117,11> |   <117,12> |   <117,13> |   <117,14> |   <117,15> |   <117,16> |   <117,17> |   <118,1> |   <118,2> |   <118,3> |   <118,4> |   <118,5> |   <118,6> |   <118,7> |   <118,8> |   <118,9> |   <118,10> |   <118,11> |   <118,12> |   <118,13> |   <118,14> |   <118,15> |   <118,16> |   <118,17> |   <119,1> |   <119,2> |   <119,3> |   <119,4> |   <119,5> |   <119,6> |   <119,7> |   <119,8> |   <119,9> |   <119,10> |   <119,11> |   <119,12> |   <119,13> |   <119,14> |   <119,15> |   <119,16> |   <119,17> |   <120,1> |   <120,2> |   <120,3> |   <120,4> |   <120,5> |   <120,6> |   <120,7> |   <120,8> |   <120,9> |   <120,10> |   <120,11> |   <120,12> |   <120,13> |   <120,14> |   <120,15> |   <120,16> |   <120,17> |   <121,1> |   <121,2> |   <121,3> |   <121,4> |   <121,5> |   <121,6> |   <121,7> |   <121,8> |   <121,9> |   <121,10> |   <121,11> |   <121,12> |   <121,13> |   <121,14> |   <121,15> |   <121,16> |   <121,17> |   <122,1> |   <122,2> |   <122,3> |   <122,4> |   <122,5> |   <122,6> |   <122,7> |   <122,8> |   <122,9> |   <122,10> |   <122,11> |   <122,12> |   <122,13> |   <122,14> |   <122,15> |   <122,16> |   <122,17> |   <123,1> |   <123,2> |   <123,3> |   <123,4> |   <123,5> |   <123,6> |   <123,7> |   <123,8> |   <123,9> |   <123,10> |   <123,11> |   <123,12> |   <123,13> |   <123,14> |   <123,15> |   <123,16> |   <123,17> |   <124,1> |   <124,2> |   <124,3> |   <124,4> |   <124,5> |   <124,6> |   <124,7> |   <124,8> |   <124,9> |   <124,10> |   <124,11> |   <124,12> |   <124,13> |   <124,14> |   <124,15> |   <124,16> |   <124,17> |   <125,1> |   <125,2> |   <125,3> |   <125,4> |   <125,5> |   <125,6> |   <125,7> |   <125,8> |   <125,9> |   <125,10> |   <125,11> |   <125,12> |   <125,13> |   <125,14> |   <125,15> |   <125,16> |   <125,17> |   <126,1> |   <126,2> |   <126,3> |   <126,4> |   <126,5> |   <126,6> |   <126,7> |   <126,8> |   <126,9> |   <126,10> |   <126,11> |   <126,12> |   <126,13> |   <126,14> |   <126,15> |   <126,16> |   <126,17> |   <127,1> |   <127,2> |   <127,3> |   <127,4> |   <127,5> |   <127,6> |   <127,7> |   <127,8> |   <127,9> |   <127,10> |   <127,11> |   <127,12> |   <127,13> |   <127,14> |   <127,15> |   <127,16> |   <127,17> |   <128,1> |   <128,2> |   <128,3> |   <128,4> |   <128,5> |   <128,6> |   <128,7> |   <128,8> |   <128,9> |   <128,10> |   <128,11> |   <128,12> |   <128,13> |   <128,14> |   <128,15> |   <128,16> |   <128,17> |   <129,1> |   <129,2> |   <129,3> |   <129,4> |   <129,5> |   <129,6> |   <129,7> |   <129,8> |   <129,9> |   <129,10> |   <129,11> |   <129,12> |   <129,13> |   <129,14> |   <129,15> |   <129,16> |   <129,17> |   <130,1> |   <130,2> |   <130,3> |   <130,4> |   <130,5> |   <130,6> |   <130,7> |   <130,8> |   <130,9> |   <130,10> |   <130,11> |   <130,12> |   <130,13> |   <130,14> |   <130,15> |   <130,16> |   <130,17> |   sum |\n",
      "|----+------------------------------+-----------+-----------+-----------+-----------+-----------+-----------+-----------+-----------+-----------+------------+------------+------------+------------+------------+------------+------------+------------+-----------+-----------+-----------+-----------+-----------+-----------+-----------+-----------+-----------+------------+------------+------------+------------+------------+------------+------------+------------+-----------+-----------+-----------+-----------+-----------+-----------+-----------+-----------+-----------+------------+------------+------------+------------+------------+------------+------------+------------+-----------+-----------+-----------+-----------+-----------+-----------+-----------+-----------+-----------+------------+------------+------------+------------+------------+------------+------------+------------+-----------+-----------+-----------+-----------+-----------+-----------+-----------+-----------+-----------+------------+------------+------------+------------+------------+------------+------------+------------+-----------+-----------+-----------+-----------+-----------+-----------+-----------+-----------+-----------+------------+------------+------------+------------+------------+------------+------------+------------+-----------+-----------+-----------+-----------+-----------+-----------+-----------+-----------+-----------+------------+------------+------------+------------+------------+------------+------------+------------+-----------+-----------+-----------+-----------+-----------+-----------+-----------+-----------+-----------+------------+------------+------------+------------+------------+------------+------------+------------+-----------+-----------+-----------+-----------+-----------+-----------+-----------+-----------+-----------+------------+------------+------------+------------+------------+------------+------------+------------+-----------+-----------+-----------+-----------+-----------+-----------+-----------+-----------+-----------+------------+------------+------------+------------+------------+------------+------------+------------+-----------+-----------+-----------+-----------+-----------+-----------+-----------+-----------+-----------+------------+------------+------------+------------+------------+------------+------------+------------+-----------+-----------+-----------+-----------+-----------+-----------+-----------+-----------+-----------+------------+------------+------------+------------+------------+------------+------------+------------+-----------+-----------+-----------+-----------+-----------+-----------+-----------+-----------+-----------+------------+------------+------------+------------+------------+------------+------------+------------+-----------+-----------+-----------+-----------+-----------+-----------+-----------+-----------+-----------+------------+------------+------------+------------+------------+------------+------------+------------+-----------+-----------+-----------+-----------+-----------+-----------+-----------+-----------+-----------+------------+------------+------------+------------+------------+------------+------------+------------+-----------+-----------+-----------+-----------+-----------+-----------+-----------+-----------+-----------+------------+------------+------------+------------+------------+------------+------------+------------+-----------+-----------+-----------+-----------+-----------+-----------+-----------+-----------+-----------+------------+------------+------------+------------+------------+------------+------------+------------+-----------+-----------+-----------+-----------+-----------+-----------+-----------+-----------+-----------+------------+------------+------------+------------+------------+------------+------------+------------+-----------+-----------+-----------+-----------+-----------+-----------+-----------+-----------+-----------+------------+------------+------------+------------+------------+------------+------------+------------+-----------+-----------+-----------+-----------+-----------+-----------+-----------+-----------+-----------+------------+------------+------------+------------+------------+------------+------------+------------+-----------+-----------+-----------+-----------+-----------+-----------+-----------+-----------+-----------+------------+------------+------------+------------+------------+------------+------------+------------+-----------+-----------+-----------+-----------+-----------+-----------+-----------+-----------+-----------+------------+------------+------------+------------+------------+------------+------------+------------+-----------+-----------+-----------+-----------+-----------+-----------+-----------+-----------+-----------+------------+------------+------------+------------+------------+------------+------------+------------+-----------+-----------+-----------+-----------+-----------+-----------+-----------+-----------+-----------+------------+------------+------------+------------+------------+------------+------------+------------+-----------+-----------+-----------+-----------+-----------+-----------+-----------+-----------+-----------+------------+------------+------------+------------+------------+------------+------------+------------+-----------+-----------+-----------+-----------+-----------+-----------+-----------+-----------+-----------+------------+------------+------------+------------+------------+------------+------------+------------+-----------+-----------+-----------+-----------+-----------+-----------+-----------+-----------+-----------+------------+------------+------------+------------+------------+------------+------------+------------+-----------+-----------+-----------+-----------+-----------+-----------+-----------+-----------+-----------+------------+------------+------------+------------+------------+------------+------------+------------+-----------+-----------+-----------+-----------+-----------+-----------+-----------+-----------+-----------+------------+------------+------------+------------+------------+------------+------------+------------+-----------+-----------+-----------+-----------+-----------+-----------+-----------+-----------+-----------+------------+------------+------------+------------+------------+------------+------------+------------+-----------+-----------+-----------+-----------+-----------+-----------+-----------+-----------+-----------+------------+------------+------------+------------+------------+------------+------------+------------+-------|\n",
      "|  0 | GradientBoostingClassifier 2 |        -1 |        -1 |        -1 |         0 |         0 |         0 |         0 |         1 |         1 |          1 |          1 |          0 |          0 |          0 |          1 |          0 |          1 |         1 |         1 |         0 |         0 |        -1 |         0 |         0 |        -1 |         0 |         -1 |         -1 |          0 |          0 |          0 |         -1 |         -1 |         -1 |        -1 |         0 |        -1 |         1 |         1 |         1 |         1 |         1 |         1 |          1 |          1 |         -1 |          0 |          0 |          0 |          0 |          0 |         0 |         0 |        -1 |        -1 |        -1 |        -1 |        -1 |        -1 |        -1 |         -1 |         -1 |          1 |         -1 |         -1 |         -1 |         -1 |         -1 |        -1 |        -1 |        -1 |        -1 |        -1 |        -1 |        -1 |        -1 |        -1 |         -1 |         -1 |         -1 |         -1 |         -1 |         -1 |         -1 |         -1 |        -1 |        -1 |         0 |         0 |         0 |         0 |         0 |         0 |         1 |          0 |          0 |          1 |          0 |          1 |          1 |          1 |          1 |         1 |         1 |         1 |         1 |         0 |         0 |         0 |         0 |         0 |          0 |          0 |          0 |          0 |          0 |         -1 |          0 |         -1 |         0 |         0 |         0 |         0 |         0 |        -1 |        -1 |        -1 |        -1 |         -1 |          0 |         -1 |         -1 |         -1 |         -1 |         -1 |         -1 |        -1 |         1 |         1 |         1 |         0 |         0 |         0 |         0 |         0 |         -1 |          0 |         -1 |         -1 |          0 |          1 |          1 |          0 |         1 |         1 |         1 |         1 |         1 |         1 |         1 |         1 |         1 |          1 |          1 |          1 |          0 |          1 |          1 |          1 |          1 |         1 |        -1 |        -1 |        -1 |         0 |         0 |         0 |         0 |        -1 |         -1 |         -1 |         -1 |         -1 |         -1 |         -1 |         -1 |         -1 |        -1 |        -1 |        -1 |        -1 |         0 |         0 |         0 |        -1 |         0 |          0 |          0 |          1 |          1 |          1 |          1 |          1 |         -1 |        -1 |        -1 |        -1 |         1 |        -1 |        -1 |        -1 |         1 |         1 |          1 |         -1 |          1 |          1 |          1 |          1 |          1 |          1 |         0 |         0 |        -1 |         1 |         1 |         1 |        -1 |         0 |        -1 |         -1 |         -1 |         -1 |         -1 |         -1 |         -1 |          0 |          0 |         0 |         0 |         0 |        -1 |        -1 |        -1 |        -1 |         0 |         0 |          0 |         -1 |         -1 |         -1 |         -1 |         -1 |         -1 |         -1 |        -1 |        -1 |        -1 |        -1 |        -1 |        -1 |        -1 |        -1 |        -1 |         -1 |         -1 |         -1 |         -1 |          0 |         -1 |         -1 |         -1 |         0 |        -1 |        -1 |        -1 |        -1 |        -1 |        -1 |        -1 |        -1 |         -1 |         -1 |         -1 |         -1 |         -1 |         -1 |         -1 |         -1 |        -1 |        -1 |        -1 |        -1 |        -1 |        -1 |        -1 |         1 |         1 |         -1 |         -1 |         -1 |         -1 |         -1 |         -1 |         -1 |         -1 |        -1 |        -1 |        -1 |        -1 |        -1 |        -1 |        -1 |        -1 |        -1 |         -1 |         -1 |         -1 |         -1 |          1 |          1 |          1 |         -1 |         1 |         1 |         1 |         1 |        -1 |        -1 |        -1 |        -1 |        -1 |         -1 |         -1 |         -1 |         -1 |         -1 |         -1 |         -1 |         -1 |         1 |        -1 |         1 |         1 |         1 |        -1 |         1 |        -1 |         1 |          1 |          1 |         -1 |         -1 |         -1 |         -1 |         -1 |         -1 |        -1 |        -1 |        -1 |        -1 |        -1 |        -1 |        -1 |        -1 |        -1 |         -1 |         -1 |         -1 |         -1 |         -1 |         -1 |          0 |         -1 |         1 |         0 |        -1 |         1 |        -1 |         0 |         1 |         1 |         1 |          1 |          1 |          1 |         -1 |          0 |         -1 |         -1 |          0 |         1 |         1 |        -1 |         1 |        -1 |        -1 |        -1 |        -1 |         1 |         -1 |          1 |          1 |          1 |          0 |          0 |          0 |          0 |         0 |         0 |         0 |        -1 |        -1 |         1 |        -1 |        -1 |        -1 |         -1 |         -1 |          1 |         -1 |         -1 |         -1 |         -1 |         -1 |        -1 |        -1 |        -1 |        -1 |        -1 |        -1 |        -1 |        -1 |        -1 |         -1 |          1 |          1 |          1 |          1 |          1 |          1 |         -1 |        -1 |        -1 |         1 |         1 |         1 |        -1 |        -1 |        -1 |        -1 |         -1 |         -1 |         -1 |         -1 |         -1 |         -1 |         -1 |         -1 |        -1 |        -1 |        -1 |        -1 |        -1 |         0 |         0 |         0 |        -1 |         -1 |         -1 |         -1 |         -1 |         -1 |         -1 |          0 |         -1 |        -1 |        -1 |        -1 |        -1 |        -1 |        -1 |        -1 |        -1 |         1 |          1 |          1 |          1 |          1 |          1 |          1 |          0 |          1 |         1 |         1 |         1 |         1 |         1 |         1 |         1 |         1 |         1 |          1 |          1 |          1 |          1 |          1 |          1 |          1 |          1 |         1 |         1 |         1 |         1 |         1 |         1 |        -1 |        -1 |        -1 |         -1 |         -1 |         -1 |         -1 |         -1 |         -1 |         -1 |         -1 |   -46 |\n",
      "+----+------------------------------+-----------+-----------+-----------+-----------+-----------+-----------+-----------+-----------+-----------+------------+------------+------------+------------+------------+------------+------------+------------+-----------+-----------+-----------+-----------+-----------+-----------+-----------+-----------+-----------+------------+------------+------------+------------+------------+------------+------------+------------+-----------+-----------+-----------+-----------+-----------+-----------+-----------+-----------+-----------+------------+------------+------------+------------+------------+------------+------------+------------+-----------+-----------+-----------+-----------+-----------+-----------+-----------+-----------+-----------+------------+------------+------------+------------+------------+------------+------------+------------+-----------+-----------+-----------+-----------+-----------+-----------+-----------+-----------+-----------+------------+------------+------------+------------+------------+------------+------------+------------+-----------+-----------+-----------+-----------+-----------+-----------+-----------+-----------+-----------+------------+------------+------------+------------+------------+------------+------------+------------+-----------+-----------+-----------+-----------+-----------+-----------+-----------+-----------+-----------+------------+------------+------------+------------+------------+------------+------------+------------+-----------+-----------+-----------+-----------+-----------+-----------+-----------+-----------+-----------+------------+------------+------------+------------+------------+------------+------------+------------+-----------+-----------+-----------+-----------+-----------+-----------+-----------+-----------+-----------+------------+------------+------------+------------+------------+------------+------------+------------+-----------+-----------+-----------+-----------+-----------+-----------+-----------+-----------+-----------+------------+------------+------------+------------+------------+------------+------------+------------+-----------+-----------+-----------+-----------+-----------+-----------+-----------+-----------+-----------+------------+------------+------------+------------+------------+------------+------------+------------+-----------+-----------+-----------+-----------+-----------+-----------+-----------+-----------+-----------+------------+------------+------------+------------+------------+------------+------------+------------+-----------+-----------+-----------+-----------+-----------+-----------+-----------+-----------+-----------+------------+------------+------------+------------+------------+------------+------------+------------+-----------+-----------+-----------+-----------+-----------+-----------+-----------+-----------+-----------+------------+------------+------------+------------+------------+------------+------------+------------+-----------+-----------+-----------+-----------+-----------+-----------+-----------+-----------+-----------+------------+------------+------------+------------+------------+------------+------------+------------+-----------+-----------+-----------+-----------+-----------+-----------+-----------+-----------+-----------+------------+------------+------------+------------+------------+------------+------------+------------+-----------+-----------+-----------+-----------+-----------+-----------+-----------+-----------+-----------+------------+------------+------------+------------+------------+------------+------------+------------+-----------+-----------+-----------+-----------+-----------+-----------+-----------+-----------+-----------+------------+------------+------------+------------+------------+------------+------------+------------+-----------+-----------+-----------+-----------+-----------+-----------+-----------+-----------+-----------+------------+------------+------------+------------+------------+------------+------------+------------+-----------+-----------+-----------+-----------+-----------+-----------+-----------+-----------+-----------+------------+------------+------------+------------+------------+------------+------------+------------+-----------+-----------+-----------+-----------+-----------+-----------+-----------+-----------+-----------+------------+------------+------------+------------+------------+------------+------------+------------+-----------+-----------+-----------+-----------+-----------+-----------+-----------+-----------+-----------+------------+------------+------------+------------+------------+------------+------------+------------+-----------+-----------+-----------+-----------+-----------+-----------+-----------+-----------+-----------+------------+------------+------------+------------+------------+------------+------------+------------+-----------+-----------+-----------+-----------+-----------+-----------+-----------+-----------+-----------+------------+------------+------------+------------+------------+------------+------------+------------+-----------+-----------+-----------+-----------+-----------+-----------+-----------+-----------+-----------+------------+------------+------------+------------+------------+------------+------------+------------+-----------+-----------+-----------+-----------+-----------+-----------+-----------+-----------+-----------+------------+------------+------------+------------+------------+------------+------------+------------+-----------+-----------+-----------+-----------+-----------+-----------+-----------+-----------+-----------+------------+------------+------------+------------+------------+------------+------------+------------+-----------+-----------+-----------+-----------+-----------+-----------+-----------+-----------+-----------+------------+------------+------------+------------+------------+------------+------------+------------+-----------+-----------+-----------+-----------+-----------+-----------+-----------+-----------+-----------+------------+------------+------------+------------+------------+------------+------------+------------+-----------+-----------+-----------+-----------+-----------+-----------+-----------+-----------+-----------+------------+------------+------------+------------+------------+------------+------------+------------+-----------+-----------+-----------+-----------+-----------+-----------+-----------+-----------+-----------+------------+------------+------------+------------+------------+------------+------------+------------+-------+\n"
     ]
    }
   ],
   "source": [
    "step_headers.clear()\n",
    "for a in range(start,start + 31):\n",
    "    for b in range (1,18):\n",
    "        step_headers.append(f'<{a},{b}>')\n",
    "\n",
    "headers = [\"Classifier type\", \"pct_change\"]\n",
    "score_df = pd.DataFrame(predicted_classes.items(), columns=headers)\n",
    "# print(tabulate(score_df, headers, tablefmt=\"psql\"))\n",
    "headers2 = [\"Classifier type\", ] + step_headers\n",
    "score_df = pd.DataFrame(predicted_classes.items(), columns=headers)\n",
    "accuracy_df = pd.DataFrame(score_df['pct_change'].tolist(), index=score_df.index, columns=step_headers)\n",
    "score_df = score_df.drop('pct_change', 1)\n",
    "f_out: pd.DataFrame = pd.merge(score_df, accuracy_df, how='left', left_index=True, right_index=True)\n",
    "f_out['sum'] = f_out.sum(axis=1)\n",
    "f_out['sum'] = f_out['sum'].apply(lambda x: x+100)\n",
    "headers2 = headers2 + ['sum']\n",
    "print(tabulate(f_out, headers2, tablefmt=\"psql\"))\n",
    "\n",
    "filename_to_export = f'C:\\\\Users\\\\exomat\\\\Desktop\\\\repo\\\\magisterka_analiza\\\\data\\\\results\\\\simulation\\\\result_test_ta_all_predicted_classes_{symbol}_{WINDOW}_{datetime.now().strftime(\"%d_%m_%Y %H_%M_%S\")}.csv'\n",
    "f_out.to_csv(filename_to_export, index=False)"
   ],
   "metadata": {
    "collapsed": false,
    "pycharm": {
     "name": "#%%\n"
    }
   }
  },
  {
   "cell_type": "code",
   "execution_count": 43,
   "outputs": [
    {
     "name": "stdout",
     "output_type": "stream",
     "text": [
      "+----+------------------------------+-----------+-----------+-----------+-----------+-----------+-----------+-----------+-----------+-----------+------------+------------+------------+------------+------------+------------+------------+------------+-----------+-----------+-----------+-----------+-----------+-----------+-----------+-----------+-----------+------------+------------+------------+------------+------------+------------+------------+------------+-----------+-----------+-----------+-----------+-----------+-----------+-----------+-----------+-----------+------------+------------+------------+------------+------------+------------+------------+------------+-----------+-----------+-----------+-----------+-----------+-----------+-----------+-----------+-----------+------------+------------+------------+------------+------------+------------+------------+------------+-----------+-----------+-----------+-----------+-----------+-----------+-----------+-----------+-----------+------------+------------+------------+------------+------------+------------+------------+------------+-----------+-----------+-----------+-----------+-----------+-----------+-----------+-----------+-----------+------------+------------+------------+------------+------------+------------+------------+------------+-----------+-----------+-----------+-----------+-----------+-----------+-----------+-----------+-----------+------------+------------+------------+------------+------------+------------+------------+------------+-----------+-----------+-----------+-----------+-----------+-----------+-----------+-----------+-----------+------------+------------+------------+------------+------------+------------+------------+------------+-----------+-----------+-----------+-----------+-----------+-----------+-----------+-----------+-----------+------------+------------+------------+------------+------------+------------+------------+------------+-----------+-----------+-----------+-----------+-----------+-----------+-----------+-----------+-----------+------------+------------+------------+------------+------------+------------+------------+------------+-----------+-----------+-----------+-----------+-----------+-----------+-----------+-----------+-----------+------------+------------+------------+------------+------------+------------+------------+------------+-----------+-----------+-----------+-----------+-----------+-----------+-----------+-----------+-----------+------------+------------+------------+------------+------------+------------+------------+------------+-----------+-----------+-----------+-----------+-----------+-----------+-----------+-----------+-----------+------------+------------+------------+------------+------------+------------+------------+------------+-----------+-----------+-----------+-----------+-----------+-----------+-----------+-----------+-----------+------------+------------+------------+------------+------------+------------+------------+------------+-----------+-----------+-----------+-----------+-----------+-----------+-----------+-----------+-----------+------------+------------+------------+------------+------------+------------+------------+------------+-----------+-----------+-----------+-----------+-----------+-----------+-----------+-----------+-----------+------------+------------+------------+------------+------------+------------+------------+------------+-----------+-----------+-----------+-----------+-----------+-----------+-----------+-----------+-----------+------------+------------+------------+------------+------------+------------+------------+------------+-----------+-----------+-----------+-----------+-----------+-----------+-----------+-----------+-----------+------------+------------+------------+------------+------------+------------+------------+------------+-----------+-----------+-----------+-----------+-----------+-----------+-----------+-----------+-----------+------------+------------+------------+------------+------------+------------+------------+------------+-----------+-----------+-----------+-----------+-----------+-----------+-----------+-----------+-----------+------------+------------+------------+------------+------------+------------+------------+------------+-----------+-----------+-----------+-----------+-----------+-----------+-----------+-----------+-----------+------------+------------+------------+------------+------------+------------+------------+------------+-----------+-----------+-----------+-----------+-----------+-----------+-----------+-----------+-----------+------------+------------+------------+------------+------------+------------+------------+------------+-----------+-----------+-----------+-----------+-----------+-----------+-----------+-----------+-----------+------------+------------+------------+------------+------------+------------+------------+------------+-----------+-----------+-----------+-----------+-----------+-----------+-----------+-----------+-----------+------------+------------+------------+------------+------------+------------+------------+------------+-----------+-----------+-----------+-----------+-----------+-----------+-----------+-----------+-----------+------------+------------+------------+------------+------------+------------+------------+------------+-----------+-----------+-----------+-----------+-----------+-----------+-----------+-----------+-----------+------------+------------+------------+------------+------------+------------+------------+------------+-----------+-----------+-----------+-----------+-----------+-----------+-----------+-----------+-----------+------------+------------+------------+------------+------------+------------+------------+------------+-----------+-----------+-----------+-----------+-----------+-----------+-----------+-----------+-----------+------------+------------+------------+------------+------------+------------+------------+------------+-----------+-----------+-----------+-----------+-----------+-----------+-----------+-----------+-----------+------------+------------+------------+------------+------------+------------+------------+------------+-----------+-----------+-----------+-----------+-----------+-----------+-----------+-----------+-----------+------------+------------+------------+------------+------------+------------+------------+------------+-----------+-----------+-----------+-----------+-----------+-----------+-----------+-----------+-----------+------------+------------+------------+------------+------------+------------+------------+------------+-------+\n",
      "|    | Classifier type              |   <100,1> |   <100,2> |   <100,3> |   <100,4> |   <100,5> |   <100,6> |   <100,7> |   <100,8> |   <100,9> |   <100,10> |   <100,11> |   <100,12> |   <100,13> |   <100,14> |   <100,15> |   <100,16> |   <100,17> |   <101,1> |   <101,2> |   <101,3> |   <101,4> |   <101,5> |   <101,6> |   <101,7> |   <101,8> |   <101,9> |   <101,10> |   <101,11> |   <101,12> |   <101,13> |   <101,14> |   <101,15> |   <101,16> |   <101,17> |   <102,1> |   <102,2> |   <102,3> |   <102,4> |   <102,5> |   <102,6> |   <102,7> |   <102,8> |   <102,9> |   <102,10> |   <102,11> |   <102,12> |   <102,13> |   <102,14> |   <102,15> |   <102,16> |   <102,17> |   <103,1> |   <103,2> |   <103,3> |   <103,4> |   <103,5> |   <103,6> |   <103,7> |   <103,8> |   <103,9> |   <103,10> |   <103,11> |   <103,12> |   <103,13> |   <103,14> |   <103,15> |   <103,16> |   <103,17> |   <104,1> |   <104,2> |   <104,3> |   <104,4> |   <104,5> |   <104,6> |   <104,7> |   <104,8> |   <104,9> |   <104,10> |   <104,11> |   <104,12> |   <104,13> |   <104,14> |   <104,15> |   <104,16> |   <104,17> |   <105,1> |   <105,2> |   <105,3> |   <105,4> |   <105,5> |   <105,6> |   <105,7> |   <105,8> |   <105,9> |   <105,10> |   <105,11> |   <105,12> |   <105,13> |   <105,14> |   <105,15> |   <105,16> |   <105,17> |   <106,1> |   <106,2> |   <106,3> |   <106,4> |   <106,5> |   <106,6> |   <106,7> |   <106,8> |   <106,9> |   <106,10> |   <106,11> |   <106,12> |   <106,13> |   <106,14> |   <106,15> |   <106,16> |   <106,17> |   <107,1> |   <107,2> |   <107,3> |   <107,4> |   <107,5> |   <107,6> |   <107,7> |   <107,8> |   <107,9> |   <107,10> |   <107,11> |   <107,12> |   <107,13> |   <107,14> |   <107,15> |   <107,16> |   <107,17> |   <108,1> |   <108,2> |   <108,3> |   <108,4> |   <108,5> |   <108,6> |   <108,7> |   <108,8> |   <108,9> |   <108,10> |   <108,11> |   <108,12> |   <108,13> |   <108,14> |   <108,15> |   <108,16> |   <108,17> |   <109,1> |   <109,2> |   <109,3> |   <109,4> |   <109,5> |   <109,6> |   <109,7> |   <109,8> |   <109,9> |   <109,10> |   <109,11> |   <109,12> |   <109,13> |   <109,14> |   <109,15> |   <109,16> |   <109,17> |   <110,1> |   <110,2> |   <110,3> |   <110,4> |   <110,5> |   <110,6> |   <110,7> |   <110,8> |   <110,9> |   <110,10> |   <110,11> |   <110,12> |   <110,13> |   <110,14> |   <110,15> |   <110,16> |   <110,17> |   <111,1> |   <111,2> |   <111,3> |   <111,4> |   <111,5> |   <111,6> |   <111,7> |   <111,8> |   <111,9> |   <111,10> |   <111,11> |   <111,12> |   <111,13> |   <111,14> |   <111,15> |   <111,16> |   <111,17> |   <112,1> |   <112,2> |   <112,3> |   <112,4> |   <112,5> |   <112,6> |   <112,7> |   <112,8> |   <112,9> |   <112,10> |   <112,11> |   <112,12> |   <112,13> |   <112,14> |   <112,15> |   <112,16> |   <112,17> |   <113,1> |   <113,2> |   <113,3> |   <113,4> |   <113,5> |   <113,6> |   <113,7> |   <113,8> |   <113,9> |   <113,10> |   <113,11> |   <113,12> |   <113,13> |   <113,14> |   <113,15> |   <113,16> |   <113,17> |   <114,1> |   <114,2> |   <114,3> |   <114,4> |   <114,5> |   <114,6> |   <114,7> |   <114,8> |   <114,9> |   <114,10> |   <114,11> |   <114,12> |   <114,13> |   <114,14> |   <114,15> |   <114,16> |   <114,17> |   <115,1> |   <115,2> |   <115,3> |   <115,4> |   <115,5> |   <115,6> |   <115,7> |   <115,8> |   <115,9> |   <115,10> |   <115,11> |   <115,12> |   <115,13> |   <115,14> |   <115,15> |   <115,16> |   <115,17> |   <116,1> |   <116,2> |   <116,3> |   <116,4> |   <116,5> |   <116,6> |   <116,7> |   <116,8> |   <116,9> |   <116,10> |   <116,11> |   <116,12> |   <116,13> |   <116,14> |   <116,15> |   <116,16> |   <116,17> |   <117,1> |   <117,2> |   <117,3> |   <117,4> |   <117,5> |   <117,6> |   <117,7> |   <117,8> |   <117,9> |   <117,10> |   <117,11> |   <117,12> |   <117,13> |   <117,14> |   <117,15> |   <117,16> |   <117,17> |   <118,1> |   <118,2> |   <118,3> |   <118,4> |   <118,5> |   <118,6> |   <118,7> |   <118,8> |   <118,9> |   <118,10> |   <118,11> |   <118,12> |   <118,13> |   <118,14> |   <118,15> |   <118,16> |   <118,17> |   <119,1> |   <119,2> |   <119,3> |   <119,4> |   <119,5> |   <119,6> |   <119,7> |   <119,8> |   <119,9> |   <119,10> |   <119,11> |   <119,12> |   <119,13> |   <119,14> |   <119,15> |   <119,16> |   <119,17> |   <120,1> |   <120,2> |   <120,3> |   <120,4> |   <120,5> |   <120,6> |   <120,7> |   <120,8> |   <120,9> |   <120,10> |   <120,11> |   <120,12> |   <120,13> |   <120,14> |   <120,15> |   <120,16> |   <120,17> |   <121,1> |   <121,2> |   <121,3> |   <121,4> |   <121,5> |   <121,6> |   <121,7> |   <121,8> |   <121,9> |   <121,10> |   <121,11> |   <121,12> |   <121,13> |   <121,14> |   <121,15> |   <121,16> |   <121,17> |   <122,1> |   <122,2> |   <122,3> |   <122,4> |   <122,5> |   <122,6> |   <122,7> |   <122,8> |   <122,9> |   <122,10> |   <122,11> |   <122,12> |   <122,13> |   <122,14> |   <122,15> |   <122,16> |   <122,17> |   <123,1> |   <123,2> |   <123,3> |   <123,4> |   <123,5> |   <123,6> |   <123,7> |   <123,8> |   <123,9> |   <123,10> |   <123,11> |   <123,12> |   <123,13> |   <123,14> |   <123,15> |   <123,16> |   <123,17> |   <124,1> |   <124,2> |   <124,3> |   <124,4> |   <124,5> |   <124,6> |   <124,7> |   <124,8> |   <124,9> |   <124,10> |   <124,11> |   <124,12> |   <124,13> |   <124,14> |   <124,15> |   <124,16> |   <124,17> |   <125,1> |   <125,2> |   <125,3> |   <125,4> |   <125,5> |   <125,6> |   <125,7> |   <125,8> |   <125,9> |   <125,10> |   <125,11> |   <125,12> |   <125,13> |   <125,14> |   <125,15> |   <125,16> |   <125,17> |   <126,1> |   <126,2> |   <126,3> |   <126,4> |   <126,5> |   <126,6> |   <126,7> |   <126,8> |   <126,9> |   <126,10> |   <126,11> |   <126,12> |   <126,13> |   <126,14> |   <126,15> |   <126,16> |   <126,17> |   <127,1> |   <127,2> |   <127,3> |   <127,4> |   <127,5> |   <127,6> |   <127,7> |   <127,8> |   <127,9> |   <127,10> |   <127,11> |   <127,12> |   <127,13> |   <127,14> |   <127,15> |   <127,16> |   <127,17> |   <128,1> |   <128,2> |   <128,3> |   <128,4> |   <128,5> |   <128,6> |   <128,7> |   <128,8> |   <128,9> |   <128,10> |   <128,11> |   <128,12> |   <128,13> |   <128,14> |   <128,15> |   <128,16> |   <128,17> |   <129,1> |   <129,2> |   <129,3> |   <129,4> |   <129,5> |   <129,6> |   <129,7> |   <129,8> |   <129,9> |   <129,10> |   <129,11> |   <129,12> |   <129,13> |   <129,14> |   <129,15> |   <129,16> |   <129,17> |   <130,1> |   <130,2> |   <130,3> |   <130,4> |   <130,5> |   <130,6> |   <130,7> |   <130,8> |   <130,9> |   <130,10> |   <130,11> |   <130,12> |   <130,13> |   <130,14> |   <130,15> |   <130,16> |   <130,17> |   sum |\n",
      "|----+------------------------------+-----------+-----------+-----------+-----------+-----------+-----------+-----------+-----------+-----------+------------+------------+------------+------------+------------+------------+------------+------------+-----------+-----------+-----------+-----------+-----------+-----------+-----------+-----------+-----------+------------+------------+------------+------------+------------+------------+------------+------------+-----------+-----------+-----------+-----------+-----------+-----------+-----------+-----------+-----------+------------+------------+------------+------------+------------+------------+------------+------------+-----------+-----------+-----------+-----------+-----------+-----------+-----------+-----------+-----------+------------+------------+------------+------------+------------+------------+------------+------------+-----------+-----------+-----------+-----------+-----------+-----------+-----------+-----------+-----------+------------+------------+------------+------------+------------+------------+------------+------------+-----------+-----------+-----------+-----------+-----------+-----------+-----------+-----------+-----------+------------+------------+------------+------------+------------+------------+------------+------------+-----------+-----------+-----------+-----------+-----------+-----------+-----------+-----------+-----------+------------+------------+------------+------------+------------+------------+------------+------------+-----------+-----------+-----------+-----------+-----------+-----------+-----------+-----------+-----------+------------+------------+------------+------------+------------+------------+------------+------------+-----------+-----------+-----------+-----------+-----------+-----------+-----------+-----------+-----------+------------+------------+------------+------------+------------+------------+------------+------------+-----------+-----------+-----------+-----------+-----------+-----------+-----------+-----------+-----------+------------+------------+------------+------------+------------+------------+------------+------------+-----------+-----------+-----------+-----------+-----------+-----------+-----------+-----------+-----------+------------+------------+------------+------------+------------+------------+------------+------------+-----------+-----------+-----------+-----------+-----------+-----------+-----------+-----------+-----------+------------+------------+------------+------------+------------+------------+------------+------------+-----------+-----------+-----------+-----------+-----------+-----------+-----------+-----------+-----------+------------+------------+------------+------------+------------+------------+------------+------------+-----------+-----------+-----------+-----------+-----------+-----------+-----------+-----------+-----------+------------+------------+------------+------------+------------+------------+------------+------------+-----------+-----------+-----------+-----------+-----------+-----------+-----------+-----------+-----------+------------+------------+------------+------------+------------+------------+------------+------------+-----------+-----------+-----------+-----------+-----------+-----------+-----------+-----------+-----------+------------+------------+------------+------------+------------+------------+------------+------------+-----------+-----------+-----------+-----------+-----------+-----------+-----------+-----------+-----------+------------+------------+------------+------------+------------+------------+------------+------------+-----------+-----------+-----------+-----------+-----------+-----------+-----------+-----------+-----------+------------+------------+------------+------------+------------+------------+------------+------------+-----------+-----------+-----------+-----------+-----------+-----------+-----------+-----------+-----------+------------+------------+------------+------------+------------+------------+------------+------------+-----------+-----------+-----------+-----------+-----------+-----------+-----------+-----------+-----------+------------+------------+------------+------------+------------+------------+------------+------------+-----------+-----------+-----------+-----------+-----------+-----------+-----------+-----------+-----------+------------+------------+------------+------------+------------+------------+------------+------------+-----------+-----------+-----------+-----------+-----------+-----------+-----------+-----------+-----------+------------+------------+------------+------------+------------+------------+------------+------------+-----------+-----------+-----------+-----------+-----------+-----------+-----------+-----------+-----------+------------+------------+------------+------------+------------+------------+------------+------------+-----------+-----------+-----------+-----------+-----------+-----------+-----------+-----------+-----------+------------+------------+------------+------------+------------+------------+------------+------------+-----------+-----------+-----------+-----------+-----------+-----------+-----------+-----------+-----------+------------+------------+------------+------------+------------+------------+------------+------------+-----------+-----------+-----------+-----------+-----------+-----------+-----------+-----------+-----------+------------+------------+------------+------------+------------+------------+------------+------------+-----------+-----------+-----------+-----------+-----------+-----------+-----------+-----------+-----------+------------+------------+------------+------------+------------+------------+------------+------------+-----------+-----------+-----------+-----------+-----------+-----------+-----------+-----------+-----------+------------+------------+------------+------------+------------+------------+------------+------------+-----------+-----------+-----------+-----------+-----------+-----------+-----------+-----------+-----------+------------+------------+------------+------------+------------+------------+------------+------------+-----------+-----------+-----------+-----------+-----------+-----------+-----------+-----------+-----------+------------+------------+------------+------------+------------+------------+------------+------------+-----------+-----------+-----------+-----------+-----------+-----------+-----------+-----------+-----------+------------+------------+------------+------------+------------+------------+------------+------------+-------|\n",
      "|  0 | GradientBoostingClassifier 2 |        -1 |        -1 |        -1 |        -1 |        -1 |        -1 |        -1 |         0 |         1 |          0 |          0 |          0 |          0 |          1 |          1 |          1 |          1 |         1 |         1 |         1 |         1 |         1 |         1 |         0 |        -1 |        -1 |         -1 |         -1 |         -1 |         -1 |         -1 |         -1 |         -1 |         -1 |        -1 |         0 |         0 |         1 |         1 |         1 |         1 |         1 |         1 |          1 |          1 |          1 |          0 |          0 |          1 |          0 |          1 |         0 |         0 |         0 |         0 |         0 |         0 |        -1 |        -1 |        -1 |         -1 |          0 |          1 |          1 |          1 |          1 |          0 |          0 |         0 |        -1 |        -1 |        -1 |        -1 |         0 |        -1 |        -1 |         0 |         -1 |         -1 |         -1 |         -1 |         -1 |         -1 |         -1 |         -1 |        -1 |        -1 |        -1 |        -1 |        -1 |        -1 |        -1 |        -1 |         1 |          1 |          1 |          1 |          1 |          1 |          1 |          1 |          1 |         1 |         1 |         1 |         1 |         1 |         1 |         1 |         1 |         1 |          1 |          0 |          0 |          1 |         -1 |         -1 |         -1 |         -1 |        -1 |        -1 |        -1 |        -1 |        -1 |        -1 |        -1 |        -1 |        -1 |         -1 |         -1 |         -1 |         -1 |         -1 |         -1 |         -1 |         -1 |        -1 |        -1 |        -1 |        -1 |        -1 |        -1 |        -1 |        -1 |        -1 |         -1 |         -1 |         -1 |         -1 |         -1 |         -1 |         -1 |         -1 |        -1 |        -1 |        -1 |         0 |         0 |         0 |        -1 |         0 |         1 |         -1 |         -1 |         -1 |         -1 |         -1 |         -1 |         -1 |         -1 |        -1 |        -1 |        -1 |        -1 |        -1 |        -1 |        -1 |        -1 |        -1 |          1 |         -1 |          0 |          1 |          1 |          1 |          0 |          1 |         0 |         1 |         1 |         0 |        -1 |        -1 |        -1 |        -1 |        -1 |         -1 |         -1 |         -1 |         -1 |         -1 |         -1 |         -1 |         -1 |        -1 |        -1 |        -1 |        -1 |        -1 |        -1 |        -1 |        -1 |        -1 |         -1 |         -1 |         -1 |          0 |          1 |          1 |          1 |          1 |         1 |         1 |         1 |         1 |         1 |         1 |         1 |         1 |         1 |          1 |          1 |          1 |          1 |          1 |          1 |          1 |          1 |         1 |         1 |         1 |         1 |         1 |         1 |         1 |         1 |        -1 |          0 |         -1 |         -1 |         -1 |         -1 |         -1 |         -1 |         -1 |        -1 |        -1 |        -1 |        -1 |         1 |         1 |         1 |         1 |         1 |          1 |          1 |          1 |          1 |          0 |         -1 |         -1 |          0 |         0 |        -1 |         0 |         0 |         0 |        -1 |        -1 |        -1 |        -1 |         -1 |         -1 |         -1 |         -1 |         -1 |         -1 |         -1 |         -1 |        -1 |        -1 |        -1 |        -1 |        -1 |        -1 |        -1 |        -1 |        -1 |         -1 |         -1 |         -1 |         -1 |         -1 |         -1 |         -1 |         -1 |        -1 |        -1 |        -1 |        -1 |        -1 |        -1 |        -1 |        -1 |        -1 |         -1 |          1 |          1 |          1 |          1 |          1 |          1 |          1 |         1 |        -1 |         0 |         1 |         1 |         1 |         1 |         1 |         1 |          1 |          1 |         -1 |         -1 |         -1 |          0 |          0 |         -1 |         1 |         0 |         0 |         0 |        -1 |        -1 |        -1 |        -1 |        -1 |         -1 |          0 |         -1 |         -1 |         -1 |         -1 |         -1 |         -1 |        -1 |        -1 |        -1 |        -1 |        -1 |        -1 |        -1 |        -1 |        -1 |         -1 |         -1 |         -1 |         -1 |          0 |          1 |          1 |          1 |         1 |         1 |        -1 |         1 |         1 |         1 |         1 |         1 |         1 |          1 |          1 |         -1 |         -1 |         -1 |         -1 |         -1 |         -1 |        -1 |         0 |        -1 |        -1 |        -1 |        -1 |        -1 |        -1 |        -1 |         -1 |          0 |          1 |          1 |          1 |          1 |          1 |         -1 |        -1 |        -1 |        -1 |        -1 |         1 |         1 |         1 |         1 |         1 |         -1 |         -1 |         -1 |         -1 |         -1 |         -1 |         -1 |         -1 |        -1 |        -1 |        -1 |        -1 |        -1 |        -1 |         0 |        -1 |        -1 |          1 |          1 |          1 |          1 |          1 |          1 |          1 |          0 |         1 |         1 |         1 |         1 |         1 |        -1 |        -1 |        -1 |        -1 |         -1 |         -1 |          1 |          1 |          1 |          1 |          1 |         -1 |         0 |         0 |        -1 |        -1 |        -1 |        -1 |        -1 |        -1 |        -1 |         -1 |         -1 |         -1 |         -1 |         -1 |         -1 |         -1 |         -1 |        -1 |        -1 |        -1 |        -1 |        -1 |        -1 |        -1 |        -1 |        -1 |         -1 |          1 |          1 |          1 |          1 |          0 |          1 |          1 |         1 |         1 |         1 |         1 |         1 |         1 |         1 |         1 |         1 |          1 |          1 |          1 |          1 |          1 |          1 |          1 |          1 |         1 |         1 |         1 |         1 |         1 |         1 |        -1 |         0 |        -1 |          0 |         -1 |         -1 |         -1 |         -1 |         -1 |         -1 |         -1 |   -13 |\n",
      "+----+------------------------------+-----------+-----------+-----------+-----------+-----------+-----------+-----------+-----------+-----------+------------+------------+------------+------------+------------+------------+------------+------------+-----------+-----------+-----------+-----------+-----------+-----------+-----------+-----------+-----------+------------+------------+------------+------------+------------+------------+------------+------------+-----------+-----------+-----------+-----------+-----------+-----------+-----------+-----------+-----------+------------+------------+------------+------------+------------+------------+------------+------------+-----------+-----------+-----------+-----------+-----------+-----------+-----------+-----------+-----------+------------+------------+------------+------------+------------+------------+------------+------------+-----------+-----------+-----------+-----------+-----------+-----------+-----------+-----------+-----------+------------+------------+------------+------------+------------+------------+------------+------------+-----------+-----------+-----------+-----------+-----------+-----------+-----------+-----------+-----------+------------+------------+------------+------------+------------+------------+------------+------------+-----------+-----------+-----------+-----------+-----------+-----------+-----------+-----------+-----------+------------+------------+------------+------------+------------+------------+------------+------------+-----------+-----------+-----------+-----------+-----------+-----------+-----------+-----------+-----------+------------+------------+------------+------------+------------+------------+------------+------------+-----------+-----------+-----------+-----------+-----------+-----------+-----------+-----------+-----------+------------+------------+------------+------------+------------+------------+------------+------------+-----------+-----------+-----------+-----------+-----------+-----------+-----------+-----------+-----------+------------+------------+------------+------------+------------+------------+------------+------------+-----------+-----------+-----------+-----------+-----------+-----------+-----------+-----------+-----------+------------+------------+------------+------------+------------+------------+------------+------------+-----------+-----------+-----------+-----------+-----------+-----------+-----------+-----------+-----------+------------+------------+------------+------------+------------+------------+------------+------------+-----------+-----------+-----------+-----------+-----------+-----------+-----------+-----------+-----------+------------+------------+------------+------------+------------+------------+------------+------------+-----------+-----------+-----------+-----------+-----------+-----------+-----------+-----------+-----------+------------+------------+------------+------------+------------+------------+------------+------------+-----------+-----------+-----------+-----------+-----------+-----------+-----------+-----------+-----------+------------+------------+------------+------------+------------+------------+------------+------------+-----------+-----------+-----------+-----------+-----------+-----------+-----------+-----------+-----------+------------+------------+------------+------------+------------+------------+------------+------------+-----------+-----------+-----------+-----------+-----------+-----------+-----------+-----------+-----------+------------+------------+------------+------------+------------+------------+------------+------------+-----------+-----------+-----------+-----------+-----------+-----------+-----------+-----------+-----------+------------+------------+------------+------------+------------+------------+------------+------------+-----------+-----------+-----------+-----------+-----------+-----------+-----------+-----------+-----------+------------+------------+------------+------------+------------+------------+------------+------------+-----------+-----------+-----------+-----------+-----------+-----------+-----------+-----------+-----------+------------+------------+------------+------------+------------+------------+------------+------------+-----------+-----------+-----------+-----------+-----------+-----------+-----------+-----------+-----------+------------+------------+------------+------------+------------+------------+------------+------------+-----------+-----------+-----------+-----------+-----------+-----------+-----------+-----------+-----------+------------+------------+------------+------------+------------+------------+------------+------------+-----------+-----------+-----------+-----------+-----------+-----------+-----------+-----------+-----------+------------+------------+------------+------------+------------+------------+------------+------------+-----------+-----------+-----------+-----------+-----------+-----------+-----------+-----------+-----------+------------+------------+------------+------------+------------+------------+------------+------------+-----------+-----------+-----------+-----------+-----------+-----------+-----------+-----------+-----------+------------+------------+------------+------------+------------+------------+------------+------------+-----------+-----------+-----------+-----------+-----------+-----------+-----------+-----------+-----------+------------+------------+------------+------------+------------+------------+------------+------------+-----------+-----------+-----------+-----------+-----------+-----------+-----------+-----------+-----------+------------+------------+------------+------------+------------+------------+------------+------------+-----------+-----------+-----------+-----------+-----------+-----------+-----------+-----------+-----------+------------+------------+------------+------------+------------+------------+------------+------------+-----------+-----------+-----------+-----------+-----------+-----------+-----------+-----------+-----------+------------+------------+------------+------------+------------+------------+------------+------------+-----------+-----------+-----------+-----------+-----------+-----------+-----------+-----------+-----------+------------+------------+------------+------------+------------+------------+------------+------------+-----------+-----------+-----------+-----------+-----------+-----------+-----------+-----------+-----------+------------+------------+------------+------------+------------+------------+------------+------------+-------+\n"
     ]
    }
   ],
   "source": [
    "step_headers.clear()\n",
    "for a in range(start,start + 31):\n",
    "    for b in range (1,18):\n",
    "        step_headers.append(f'<{a},{b}>')\n",
    "\n",
    "headers = [\"Classifier type\", \"pct_change\"]\n",
    "score_df = pd.DataFrame(correct_classes.items(), columns=headers)\n",
    "# print(tabulate(score_df, headers, tablefmt=\"psql\"))\n",
    "headers2 = [\"Classifier type\", ] + step_headers\n",
    "score_df = pd.DataFrame(correct_classes.items(), columns=headers)\n",
    "accuracy_df = pd.DataFrame(score_df['pct_change'].tolist(), index=score_df.index, columns=step_headers)\n",
    "score_df = score_df.drop('pct_change', 1)\n",
    "f_out: pd.DataFrame = pd.merge(score_df, accuracy_df, how='left', left_index=True, right_index=True)\n",
    "f_out['sum'] = f_out.sum(axis=1)\n",
    "f_out['sum'] = f_out['sum'].apply(lambda x: x+100)\n",
    "headers2 = headers2 + ['sum']\n",
    "print(tabulate(f_out, headers2, tablefmt=\"psql\"))\n",
    "\n",
    "filename_to_export = f'C:\\\\Users\\\\exomat\\\\Desktop\\\\repo\\\\magisterka_analiza\\\\data\\\\results\\\\simulation\\\\result_test_ta_all_correct_classes_{symbol}_{WINDOW}_{datetime.now().strftime(\"%d_%m_%Y %H_%M_%S\")}.csv'\n",
    "f_out.to_csv(filename_to_export, index=False)"
   ],
   "metadata": {
    "collapsed": false,
    "pycharm": {
     "name": "#%%\n"
    }
   }
  },
  {
   "cell_type": "code",
   "execution_count": 44,
   "outputs": [
    {
     "data": {
      "text/plain": "'79.25, 79.15, 78.525, 79.56072235107422, 79.9625015258789, 79.80274963378906, 79.91500091552734, 79.96207427978516, 80.31700134277344, 80.38500213623047, 80.2525, 80.15, 80.2375, 80.575, 80.675, 80.645, 80.51'"
     },
     "execution_count": 44,
     "metadata": {},
     "output_type": "execute_result"
    }
   ],
   "source": [
    "cenka = []\n",
    "\n",
    "', '.join(map(str, data['close'][1700+16:1717+16].tolist()))"
   ],
   "metadata": {
    "collapsed": false,
    "pycharm": {
     "name": "#%%\n"
    }
   }
  },
  {
   "cell_type": "code",
   "execution_count": 45,
   "outputs": [],
   "source": [
    "cenka = []\n",
    "for i in range (0,17*31):\n",
    "    cenka.append( data['close'][(99*17) +WINDOW +i])\n",
    "\n",
    "b = ', '.join(map(str, cenka))"
   ],
   "metadata": {
    "collapsed": false,
    "pycharm": {
     "name": "#%%\n"
    }
   }
  },
  {
   "cell_type": "code",
   "execution_count": 46,
   "outputs": [],
   "source": [
    "temp = []\n",
    "for av in correct_classes['XGBRFClassifier 2']:\n",
    "   temp.extend(av.tolist())"
   ],
   "metadata": {
    "collapsed": false,
    "pycharm": {
     "name": "#%%\n"
    }
   }
  },
  {
   "cell_type": "code",
   "execution_count": 47,
   "outputs": [],
   "source": [
    "b = ', '.join(map(str, temp))"
   ],
   "metadata": {
    "collapsed": false,
    "pycharm": {
     "name": "#%%\n"
    }
   }
  },
  {
   "cell_type": "code",
   "execution_count": 48,
   "outputs": [
    {
     "data": {
      "text/plain": "''"
     },
     "execution_count": 48,
     "metadata": {},
     "output_type": "execute_result"
    }
   ],
   "source": [
    "b"
   ],
   "metadata": {
    "collapsed": false,
    "pycharm": {
     "name": "#%%\n"
    }
   }
  },
  {
   "cell_type": "code",
   "execution_count": 48,
   "outputs": [],
   "source": [],
   "metadata": {
    "collapsed": false,
    "pycharm": {
     "name": "#%%\n"
    }
   }
  }
 ],
 "metadata": {
  "kernelspec": {
   "name": "magisterka_analiza",
   "language": "python",
   "display_name": "Python magisterka"
  },
  "language_info": {
   "codemirror_mode": {
    "name": "ipython",
    "version": 2
   },
   "file_extension": ".py",
   "mimetype": "text/x-python",
   "name": "python",
   "nbconvert_exporter": "python",
   "pygments_lexer": "ipython2",
   "version": "2.7.6"
  }
 },
 "nbformat": 4,
 "nbformat_minor": 0
}