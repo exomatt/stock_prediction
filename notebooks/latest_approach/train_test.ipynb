{
 "cells": [
  {
   "cell_type": "code",
   "execution_count": 357,
   "metadata": {
    "collapsed": true
   },
   "outputs": [],
   "source": [
    "import yfinance as yf\n",
    "from datetime import datetime\n",
    "import pandas as pd\n",
    "import numpy as np\n",
    "import matplotlib.pyplot as plt\n",
    "from finta import TA\n",
    "import numpy as np\n",
    "from sklearn.ensemble import RandomForestClassifier, VotingClassifier\n",
    "from sklearn.model_selection import GridSearchCV, train_test_split\n",
    "from sklearn.preprocessing import MinMaxScaler\n",
    "from sklearn.tree import DecisionTreeClassifier\n",
    "from sklearn.ensemble import GradientBoostingClassifier\n",
    "from sklearn.metrics import confusion_matrix, classification_report, accuracy_score\n",
    "from sklearn.metrics import jaccard_score\n",
    "import seaborn as sn\n",
    "from tabulate import tabulate\n",
    "from xgboost import XGBClassifier\n",
    "from ta import add_all_ta_features\n",
    "from sklearn.feature_selection import RFE"
   ]
  },
  {
   "cell_type": "code",
   "execution_count": 358,
   "outputs": [],
   "source": [
    "WINDOW = 16 # number of rows to look ahead to see what the price did\n",
    "FETCH_INTERVAL = \"60m\"  # fetch data by interval (including intraday if period < 60 days)\n",
    "        # valid intervals: 1m,2m,5m,15m,30m,60m,90m,1h,1d,5d,1wk,1mo,3mo\n",
    "        # (optional, default is '1d')\n",
    "INTERVAL = '1y'     # use \"period\" instead of start/end\n",
    "        # valid periods: 1d,5d,1mo,3mo,6mo,1y,2y,5y,10y,ytd,max\n",
    "        # (optional, default is '1mo')\n",
    "symbol = 'AAPL'      # Symbol of the desired stock\n",
    "\n",
    "# one day 16 rows of data"
   ],
   "metadata": {
    "collapsed": false,
    "pycharm": {
     "name": "#%%\n"
    }
   }
  },
  {
   "cell_type": "code",
   "execution_count": 359,
   "outputs": [
    {
     "name": "stdout",
     "output_type": "stream",
     "text": [
      "[*********************100%***********************]  1 of 1 completed\n"
     ]
    },
    {
     "data": {
      "text/plain": "                                 Open        High         Low       Close  \\\nDatetime                                                                    \n2020-05-12 04:00:00-04:00   78.802500   78.802500   78.560000   78.575000   \n2020-05-12 05:00:00-04:00   78.650000   78.675000   78.502500   78.502500   \n2020-05-12 06:00:00-04:00   78.600000   78.822500   78.535000   78.822500   \n2020-05-12 07:00:00-04:00   78.887500   79.340000   78.887500   79.277500   \n2020-05-12 08:00:00-04:00   79.300000   79.497500   79.000000   79.400000   \n...                               ...         ...         ...         ...   \n2021-05-11 13:30:00-04:00  125.776398  126.269997  125.510101  126.220100   \n2021-05-11 14:30:00-04:00  126.220001  126.220001  125.540001  125.964996   \n2021-05-11 15:30:00-04:00  125.973503  126.110001  125.279999  125.849998   \n2021-05-11 16:00:00-04:00  125.850000  126.100000  122.770000  125.690000   \n2021-05-11 17:00:00-04:00  125.670000  125.690000  116.812300  125.555000   \n\n                            Adj Close    Volume  \nDatetime                                         \n2020-05-12 04:00:00-04:00   78.575000         0  \n2020-05-12 05:00:00-04:00   78.502500         0  \n2020-05-12 06:00:00-04:00   78.822500         0  \n2020-05-12 07:00:00-04:00   79.277500         0  \n2020-05-12 08:00:00-04:00   79.400000         0  \n...                               ...       ...  \n2021-05-11 13:30:00-04:00  126.220100  10206779  \n2021-05-11 14:30:00-04:00  125.964996   9989427  \n2021-05-11 15:30:00-04:00  125.849998   9604428  \n2021-05-11 16:00:00-04:00  125.690000   5589756  \n2021-05-11 17:00:00-04:00  125.555000         0  \n\n[4185 rows x 6 columns]",
      "text/html": "<div>\n<style scoped>\n    .dataframe tbody tr th:only-of-type {\n        vertical-align: middle;\n    }\n\n    .dataframe tbody tr th {\n        vertical-align: top;\n    }\n\n    .dataframe thead th {\n        text-align: right;\n    }\n</style>\n<table border=\"1\" class=\"dataframe\">\n  <thead>\n    <tr style=\"text-align: right;\">\n      <th></th>\n      <th>Open</th>\n      <th>High</th>\n      <th>Low</th>\n      <th>Close</th>\n      <th>Adj Close</th>\n      <th>Volume</th>\n    </tr>\n    <tr>\n      <th>Datetime</th>\n      <th></th>\n      <th></th>\n      <th></th>\n      <th></th>\n      <th></th>\n      <th></th>\n    </tr>\n  </thead>\n  <tbody>\n    <tr>\n      <th>2020-05-12 04:00:00-04:00</th>\n      <td>78.802500</td>\n      <td>78.802500</td>\n      <td>78.560000</td>\n      <td>78.575000</td>\n      <td>78.575000</td>\n      <td>0</td>\n    </tr>\n    <tr>\n      <th>2020-05-12 05:00:00-04:00</th>\n      <td>78.650000</td>\n      <td>78.675000</td>\n      <td>78.502500</td>\n      <td>78.502500</td>\n      <td>78.502500</td>\n      <td>0</td>\n    </tr>\n    <tr>\n      <th>2020-05-12 06:00:00-04:00</th>\n      <td>78.600000</td>\n      <td>78.822500</td>\n      <td>78.535000</td>\n      <td>78.822500</td>\n      <td>78.822500</td>\n      <td>0</td>\n    </tr>\n    <tr>\n      <th>2020-05-12 07:00:00-04:00</th>\n      <td>78.887500</td>\n      <td>79.340000</td>\n      <td>78.887500</td>\n      <td>79.277500</td>\n      <td>79.277500</td>\n      <td>0</td>\n    </tr>\n    <tr>\n      <th>2020-05-12 08:00:00-04:00</th>\n      <td>79.300000</td>\n      <td>79.497500</td>\n      <td>79.000000</td>\n      <td>79.400000</td>\n      <td>79.400000</td>\n      <td>0</td>\n    </tr>\n    <tr>\n      <th>...</th>\n      <td>...</td>\n      <td>...</td>\n      <td>...</td>\n      <td>...</td>\n      <td>...</td>\n      <td>...</td>\n    </tr>\n    <tr>\n      <th>2021-05-11 13:30:00-04:00</th>\n      <td>125.776398</td>\n      <td>126.269997</td>\n      <td>125.510101</td>\n      <td>126.220100</td>\n      <td>126.220100</td>\n      <td>10206779</td>\n    </tr>\n    <tr>\n      <th>2021-05-11 14:30:00-04:00</th>\n      <td>126.220001</td>\n      <td>126.220001</td>\n      <td>125.540001</td>\n      <td>125.964996</td>\n      <td>125.964996</td>\n      <td>9989427</td>\n    </tr>\n    <tr>\n      <th>2021-05-11 15:30:00-04:00</th>\n      <td>125.973503</td>\n      <td>126.110001</td>\n      <td>125.279999</td>\n      <td>125.849998</td>\n      <td>125.849998</td>\n      <td>9604428</td>\n    </tr>\n    <tr>\n      <th>2021-05-11 16:00:00-04:00</th>\n      <td>125.850000</td>\n      <td>126.100000</td>\n      <td>122.770000</td>\n      <td>125.690000</td>\n      <td>125.690000</td>\n      <td>5589756</td>\n    </tr>\n    <tr>\n      <th>2021-05-11 17:00:00-04:00</th>\n      <td>125.670000</td>\n      <td>125.690000</td>\n      <td>116.812300</td>\n      <td>125.555000</td>\n      <td>125.555000</td>\n      <td>0</td>\n    </tr>\n  </tbody>\n</table>\n<p>4185 rows × 6 columns</p>\n</div>"
     },
     "execution_count": 359,
     "metadata": {},
     "output_type": "execute_result"
    }
   ],
   "source": [
    "data = yf.download(  # or pdr.get_data_yahoo(...\n",
    "        tickers = symbol,\n",
    "\n",
    "\n",
    "        period = INTERVAL,\n",
    "\n",
    "        interval = FETCH_INTERVAL,\n",
    "\n",
    "        # group by ticker (to access via data['SPY'])\n",
    "        # (optional, default is 'column')\n",
    "        group_by = 'ticker',\n",
    "\n",
    "        # adjust all OHLC automatically\n",
    "        # (optional, default is False)\n",
    "        # auto_adjust = True,\n",
    "\n",
    "        # download pre/post regular market hours data\n",
    "        # (optional, default is False)\n",
    "        prepost = True,\n",
    "\n",
    "        # use threads for mass downloading? (True/False/Integer)\n",
    "        # (optional, default is True)\n",
    "        threads = True,\n",
    "\n",
    "        # proxy URL scheme use use when downloading?\n",
    "        # (optional, default is None)\n",
    "        proxy = None\n",
    "    )\n",
    "data"
   ],
   "metadata": {
    "collapsed": false,
    "pycharm": {
     "name": "#%%\n"
    }
   }
  },
  {
   "cell_type": "code",
   "execution_count": 360,
   "outputs": [],
   "source": [
    "data.rename(columns={\"Close\": 'close', \"High\": 'high', \"Low\": 'low', 'Volume': 'volume', 'Open': 'open'}, inplace=True)\n",
    "data.head(10)\n",
    "important_columns = ['open', 'high', 'low','close','volume']"
   ],
   "metadata": {
    "collapsed": false,
    "pycharm": {
     "name": "#%%\n"
    }
   }
  },
  {
   "cell_type": "code",
   "execution_count": 361,
   "outputs": [],
   "source": [
    "\n",
    "def calculate_diffs(diff_number, col_name):\n",
    "    new_col_name = f'{col_name}_{diff_number}'\n",
    "    data[new_col_name] = data[col_name].diff(diff_number)"
   ],
   "metadata": {
    "collapsed": false,
    "pycharm": {
     "name": "#%%\n"
    }
   }
  },
  {
   "cell_type": "code",
   "execution_count": 362,
   "outputs": [],
   "source": [
    "# for name in important_columns:\n",
    "#     for i in range(1, 11):\n",
    "#         calculate_diffs(i, name)\n",
    "#\n",
    "# data.head(10)"
   ],
   "metadata": {
    "collapsed": false,
    "pycharm": {
     "name": "#%%\n"
    }
   }
  },
  {
   "cell_type": "code",
   "execution_count": 363,
   "outputs": [],
   "source": [
    "data = data.dropna()"
   ],
   "metadata": {
    "collapsed": false,
    "pycharm": {
     "name": "#%%\n"
    }
   }
  },
  {
   "cell_type": "code",
   "execution_count": 364,
   "outputs": [
    {
     "data": {
      "text/plain": "<AxesSubplot:xlabel='Datetime'>"
     },
     "execution_count": 364,
     "metadata": {},
     "output_type": "execute_result"
    },
    {
     "data": {
      "text/plain": "<Figure size 432x288 with 1 Axes>",
      "image/png": "[encoded data removed]"
     },
     "metadata": {
      "needs_background": "light"
     },
     "output_type": "display_data"
    }
   ],
   "source": [
    "data['close'].plot()"
   ],
   "metadata": {
    "collapsed": false,
    "pycharm": {
     "name": "#%%\n"
    }
   }
  },
  {
   "cell_type": "code",
   "execution_count": 365,
   "outputs": [
    {
     "data": {
      "text/plain": "                              open     high      low    close  Adj Close  \\\nDatetime                                                                   \n2020-05-12 04:00:00-04:00  78.8025  78.8025  78.5600  78.5750    78.5750   \n2020-05-12 05:00:00-04:00  78.6500  78.6750  78.5025  78.5025    78.5025   \n2020-05-12 06:00:00-04:00  78.6000  78.8225  78.5350  78.8225    78.8225   \n2020-05-12 07:00:00-04:00  78.8875  79.3400  78.8875  79.2775    79.2775   \n2020-05-12 08:00:00-04:00  79.3000  79.4975  79.0000  79.4000    79.4000   \n\n                           volume  close_pct  \nDatetime                                      \n2020-05-12 04:00:00-04:00       0        NaN  \n2020-05-12 05:00:00-04:00       0  -0.000923  \n2020-05-12 06:00:00-04:00       0   0.004076  \n2020-05-12 07:00:00-04:00       0   0.005772  \n2020-05-12 08:00:00-04:00       0   0.001545  ",
      "text/html": "<div>\n<style scoped>\n    .dataframe tbody tr th:only-of-type {\n        vertical-align: middle;\n    }\n\n    .dataframe tbody tr th {\n        vertical-align: top;\n    }\n\n    .dataframe thead th {\n        text-align: right;\n    }\n</style>\n<table border=\"1\" class=\"dataframe\">\n  <thead>\n    <tr style=\"text-align: right;\">\n      <th></th>\n      <th>open</th>\n      <th>high</th>\n      <th>low</th>\n      <th>close</th>\n      <th>Adj Close</th>\n      <th>volume</th>\n      <th>close_pct</th>\n    </tr>\n    <tr>\n      <th>Datetime</th>\n      <th></th>\n      <th></th>\n      <th></th>\n      <th></th>\n      <th></th>\n      <th></th>\n      <th></th>\n    </tr>\n  </thead>\n  <tbody>\n    <tr>\n      <th>2020-05-12 04:00:00-04:00</th>\n      <td>78.8025</td>\n      <td>78.8025</td>\n      <td>78.5600</td>\n      <td>78.5750</td>\n      <td>78.5750</td>\n      <td>0</td>\n      <td>NaN</td>\n    </tr>\n    <tr>\n      <th>2020-05-12 05:00:00-04:00</th>\n      <td>78.6500</td>\n      <td>78.6750</td>\n      <td>78.5025</td>\n      <td>78.5025</td>\n      <td>78.5025</td>\n      <td>0</td>\n      <td>-0.000923</td>\n    </tr>\n    <tr>\n      <th>2020-05-12 06:00:00-04:00</th>\n      <td>78.6000</td>\n      <td>78.8225</td>\n      <td>78.5350</td>\n      <td>78.8225</td>\n      <td>78.8225</td>\n      <td>0</td>\n      <td>0.004076</td>\n    </tr>\n    <tr>\n      <th>2020-05-12 07:00:00-04:00</th>\n      <td>78.8875</td>\n      <td>79.3400</td>\n      <td>78.8875</td>\n      <td>79.2775</td>\n      <td>79.2775</td>\n      <td>0</td>\n      <td>0.005772</td>\n    </tr>\n    <tr>\n      <th>2020-05-12 08:00:00-04:00</th>\n      <td>79.3000</td>\n      <td>79.4975</td>\n      <td>79.0000</td>\n      <td>79.4000</td>\n      <td>79.4000</td>\n      <td>0</td>\n      <td>0.001545</td>\n    </tr>\n  </tbody>\n</table>\n</div>"
     },
     "execution_count": 365,
     "metadata": {},
     "output_type": "execute_result"
    }
   ],
   "source": [
    "data['close_pct'] = data['close'].pct_change()\n",
    "data.head()"
   ],
   "metadata": {
    "collapsed": false,
    "pycharm": {
     "name": "#%%\n"
    }
   }
  },
  {
   "cell_type": "code",
   "execution_count": 366,
   "outputs": [
    {
     "data": {
      "text/plain": "              open         high          low        close    Adj Close  \\\ncount  4185.000000  4185.000000  4185.000000  4185.000000  4185.000000   \nmean    115.308320   115.852400   114.665089   115.306129   115.306129   \nstd      16.960806    17.796684    16.909362    16.949607    16.949607   \nmin      75.087502    75.537500    58.360000    75.300000    75.300000   \n25%     109.000000   109.463753   108.290000   108.980000   108.980000   \n50%     119.520000   120.000000   118.700000   119.470000   119.470000   \n75%     128.280000   128.705002   127.592400   128.270004   128.270004   \nmax     144.900000   438.440000   144.590000   144.910000   144.910000   \n\n             volume    close_pct  \ncount  4.185000e+03  4184.000000  \nmean   5.069890e+06     0.000127  \nstd    8.579219e+06     0.005417  \nmin    0.000000e+00    -0.051319  \n25%    0.000000e+00    -0.001888  \n50%    0.000000e+00     0.000097  \n75%    8.290396e+06     0.002274  \nmax    9.845401e+07     0.051457  ",
      "text/html": "<div>\n<style scoped>\n    .dataframe tbody tr th:only-of-type {\n        vertical-align: middle;\n    }\n\n    .dataframe tbody tr th {\n        vertical-align: top;\n    }\n\n    .dataframe thead th {\n        text-align: right;\n    }\n</style>\n<table border=\"1\" class=\"dataframe\">\n  <thead>\n    <tr style=\"text-align: right;\">\n      <th></th>\n      <th>open</th>\n      <th>high</th>\n      <th>low</th>\n      <th>close</th>\n      <th>Adj Close</th>\n      <th>volume</th>\n      <th>close_pct</th>\n    </tr>\n  </thead>\n  <tbody>\n    <tr>\n      <th>count</th>\n      <td>4185.000000</td>\n      <td>4185.000000</td>\n      <td>4185.000000</td>\n      <td>4185.000000</td>\n      <td>4185.000000</td>\n      <td>4.185000e+03</td>\n      <td>4184.000000</td>\n    </tr>\n    <tr>\n      <th>mean</th>\n      <td>115.308320</td>\n      <td>115.852400</td>\n      <td>114.665089</td>\n      <td>115.306129</td>\n      <td>115.306129</td>\n      <td>5.069890e+06</td>\n      <td>0.000127</td>\n    </tr>\n    <tr>\n      <th>std</th>\n      <td>16.960806</td>\n      <td>17.796684</td>\n      <td>16.909362</td>\n      <td>16.949607</td>\n      <td>16.949607</td>\n      <td>8.579219e+06</td>\n      <td>0.005417</td>\n    </tr>\n    <tr>\n      <th>min</th>\n      <td>75.087502</td>\n      <td>75.537500</td>\n      <td>58.360000</td>\n      <td>75.300000</td>\n      <td>75.300000</td>\n      <td>0.000000e+00</td>\n      <td>-0.051319</td>\n    </tr>\n    <tr>\n      <th>25%</th>\n      <td>109.000000</td>\n      <td>109.463753</td>\n      <td>108.290000</td>\n      <td>108.980000</td>\n      <td>108.980000</td>\n      <td>0.000000e+00</td>\n      <td>-0.001888</td>\n    </tr>\n    <tr>\n      <th>50%</th>\n      <td>119.520000</td>\n      <td>120.000000</td>\n      <td>118.700000</td>\n      <td>119.470000</td>\n      <td>119.470000</td>\n      <td>0.000000e+00</td>\n      <td>0.000097</td>\n    </tr>\n    <tr>\n      <th>75%</th>\n      <td>128.280000</td>\n      <td>128.705002</td>\n      <td>127.592400</td>\n      <td>128.270004</td>\n      <td>128.270004</td>\n      <td>8.290396e+06</td>\n      <td>0.002274</td>\n    </tr>\n    <tr>\n      <th>max</th>\n      <td>144.900000</td>\n      <td>438.440000</td>\n      <td>144.590000</td>\n      <td>144.910000</td>\n      <td>144.910000</td>\n      <td>9.845401e+07</td>\n      <td>0.051457</td>\n    </tr>\n  </tbody>\n</table>\n</div>"
     },
     "execution_count": 366,
     "metadata": {},
     "output_type": "execute_result"
    }
   ],
   "source": [
    "data.describe()"
   ],
   "metadata": {
    "collapsed": false,
    "pycharm": {
     "name": "#%%\n"
    }
   }
  },
  {
   "cell_type": "code",
   "execution_count": 367,
   "outputs": [],
   "source": [
    "def _get_indicator_data(data):\n",
    "    \"\"\"\n",
    "    Function that uses the finta API to calculate technical indicators used as the features\n",
    "    :return:\n",
    "    \"\"\"\n",
    "\n",
    "    data = add_all_ta_features(\n",
    "        data, open=\"open\", high=\"high\", low=\"low\", close=\"close\", volume=\"volume\", fillna=True)\n",
    "\n",
    "    # Instead of using the actual volume value (which changes over time), we normalize it with a moving volume average\n",
    "    # data['normVol'] = data['volume'] / data['volume'].ewm(5).mean()\n",
    "    # for i in range(1,50):\n",
    "    #     data[f'close{i}'] = data['close'].shift(i)\n",
    "    # Remove columns that won't be used as features\n",
    "    # del (data['Adj Close'])\n",
    "\n",
    "    return data\n"
   ],
   "metadata": {
    "collapsed": false,
    "pycharm": {
     "name": "#%%\n"
    }
   }
  },
  {
   "cell_type": "code",
   "execution_count": 368,
   "outputs": [
    {
     "data": {
      "text/plain": "                                 open        high         low       close  \\\nDatetime                                                                    \n2020-05-12 04:00:00-04:00   78.802500   78.802500   78.560000   78.575000   \n2020-05-12 05:00:00-04:00   78.650000   78.675000   78.502500   78.502500   \n2020-05-12 06:00:00-04:00   78.600000   78.822500   78.535000   78.822500   \n2020-05-12 07:00:00-04:00   78.887500   79.340000   78.887500   79.277500   \n2020-05-12 08:00:00-04:00   79.300000   79.497500   79.000000   79.400000   \n...                               ...         ...         ...         ...   \n2021-05-11 13:30:00-04:00  125.776398  126.269997  125.510101  126.220100   \n2021-05-11 14:30:00-04:00  126.220001  126.220001  125.540001  125.964996   \n2021-05-11 15:30:00-04:00  125.973503  126.110001  125.279999  125.849998   \n2021-05-11 16:00:00-04:00  125.850000  126.100000  122.770000  125.690000   \n2021-05-11 17:00:00-04:00  125.670000  125.690000  116.812300  125.555000   \n\n                            Adj Close    volume  close_pct  \nDatetime                                                    \n2020-05-12 04:00:00-04:00   78.575000         0        NaN  \n2020-05-12 05:00:00-04:00   78.502500         0  -0.000923  \n2020-05-12 06:00:00-04:00   78.822500         0   0.004076  \n2020-05-12 07:00:00-04:00   79.277500         0   0.005772  \n2020-05-12 08:00:00-04:00   79.400000         0   0.001545  \n...                               ...       ...        ...  \n2021-05-11 13:30:00-04:00  126.220100  10206779   0.003500  \n2021-05-11 14:30:00-04:00  125.964996   9989427  -0.002021  \n2021-05-11 15:30:00-04:00  125.849998   9604428  -0.000913  \n2021-05-11 16:00:00-04:00  125.690000   5589756  -0.001271  \n2021-05-11 17:00:00-04:00  125.555000         0  -0.001074  \n\n[4185 rows x 7 columns]",
      "text/html": "<div>\n<style scoped>\n    .dataframe tbody tr th:only-of-type {\n        vertical-align: middle;\n    }\n\n    .dataframe tbody tr th {\n        vertical-align: top;\n    }\n\n    .dataframe thead th {\n        text-align: right;\n    }\n</style>\n<table border=\"1\" class=\"dataframe\">\n  <thead>\n    <tr style=\"text-align: right;\">\n      <th></th>\n      <th>open</th>\n      <th>high</th>\n      <th>low</th>\n      <th>close</th>\n      <th>Adj Close</th>\n      <th>volume</th>\n      <th>close_pct</th>\n    </tr>\n    <tr>\n      <th>Datetime</th>\n      <th></th>\n      <th></th>\n      <th></th>\n      <th></th>\n      <th></th>\n      <th></th>\n      <th></th>\n    </tr>\n  </thead>\n  <tbody>\n    <tr>\n      <th>2020-05-12 04:00:00-04:00</th>\n      <td>78.802500</td>\n      <td>78.802500</td>\n      <td>78.560000</td>\n      <td>78.575000</td>\n      <td>78.575000</td>\n      <td>0</td>\n      <td>NaN</td>\n    </tr>\n    <tr>\n      <th>2020-05-12 05:00:00-04:00</th>\n      <td>78.650000</td>\n      <td>78.675000</td>\n      <td>78.502500</td>\n      <td>78.502500</td>\n      <td>78.502500</td>\n      <td>0</td>\n      <td>-0.000923</td>\n    </tr>\n    <tr>\n      <th>2020-05-12 06:00:00-04:00</th>\n      <td>78.600000</td>\n      <td>78.822500</td>\n      <td>78.535000</td>\n      <td>78.822500</td>\n      <td>78.822500</td>\n      <td>0</td>\n      <td>0.004076</td>\n    </tr>\n    <tr>\n      <th>2020-05-12 07:00:00-04:00</th>\n      <td>78.887500</td>\n      <td>79.340000</td>\n      <td>78.887500</td>\n      <td>79.277500</td>\n      <td>79.277500</td>\n      <td>0</td>\n      <td>0.005772</td>\n    </tr>\n    <tr>\n      <th>2020-05-12 08:00:00-04:00</th>\n      <td>79.300000</td>\n      <td>79.497500</td>\n      <td>79.000000</td>\n      <td>79.400000</td>\n      <td>79.400000</td>\n      <td>0</td>\n      <td>0.001545</td>\n    </tr>\n    <tr>\n      <th>...</th>\n      <td>...</td>\n      <td>...</td>\n      <td>...</td>\n      <td>...</td>\n      <td>...</td>\n      <td>...</td>\n      <td>...</td>\n    </tr>\n    <tr>\n      <th>2021-05-11 13:30:00-04:00</th>\n      <td>125.776398</td>\n      <td>126.269997</td>\n      <td>125.510101</td>\n      <td>126.220100</td>\n      <td>126.220100</td>\n      <td>10206779</td>\n      <td>0.003500</td>\n    </tr>\n    <tr>\n      <th>2021-05-11 14:30:00-04:00</th>\n      <td>126.220001</td>\n      <td>126.220001</td>\n      <td>125.540001</td>\n      <td>125.964996</td>\n      <td>125.964996</td>\n      <td>9989427</td>\n      <td>-0.002021</td>\n    </tr>\n    <tr>\n      <th>2021-05-11 15:30:00-04:00</th>\n      <td>125.973503</td>\n      <td>126.110001</td>\n      <td>125.279999</td>\n      <td>125.849998</td>\n      <td>125.849998</td>\n      <td>9604428</td>\n      <td>-0.000913</td>\n    </tr>\n    <tr>\n      <th>2021-05-11 16:00:00-04:00</th>\n      <td>125.850000</td>\n      <td>126.100000</td>\n      <td>122.770000</td>\n      <td>125.690000</td>\n      <td>125.690000</td>\n      <td>5589756</td>\n      <td>-0.001271</td>\n    </tr>\n    <tr>\n      <th>2021-05-11 17:00:00-04:00</th>\n      <td>125.670000</td>\n      <td>125.690000</td>\n      <td>116.812300</td>\n      <td>125.555000</td>\n      <td>125.555000</td>\n      <td>0</td>\n      <td>-0.001074</td>\n    </tr>\n  </tbody>\n</table>\n<p>4185 rows × 7 columns</p>\n</div>"
     },
     "execution_count": 368,
     "metadata": {},
     "output_type": "execute_result"
    }
   ],
   "source": [
    "data"
   ],
   "metadata": {
    "collapsed": false,
    "pycharm": {
     "name": "#%%\n"
    }
   }
  },
  {
   "cell_type": "code",
   "execution_count": 369,
   "outputs": [
    {
     "data": {
      "text/plain": "Index(['open', 'high', 'low', 'close', 'Adj Close', 'volume', 'close_pct'], dtype='object')"
     },
     "execution_count": 369,
     "metadata": {},
     "output_type": "execute_result"
    }
   ],
   "source": [
    "data.columns"
   ],
   "metadata": {
    "collapsed": false,
    "pycharm": {
     "name": "#%%\n"
    }
   }
  },
  {
   "cell_type": "code",
   "execution_count": 370,
   "outputs": [],
   "source": [
    "def create_class_column(row, lowest_threshold, higher_threshold):\n",
    "    if row['close_shift'] - row['close'] > higher_threshold:\n",
    "        return 1\n",
    "    if row['close_shift'] - row['close'] < lowest_threshold:\n",
    "        return -1\n",
    "    else:\n",
    "        return 0"
   ],
   "metadata": {
    "collapsed": false,
    "pycharm": {
     "name": "#%%\n"
    }
   }
  },
  {
   "cell_type": "code",
   "execution_count": 371,
   "outputs": [
    {
     "name": "stderr",
     "output_type": "stream",
     "text": [
      "C:\\Users\\exomat\\anaconda3\\envs\\magisterka_analiza\\lib\\site-packages\\ta\\trend.py:768: RuntimeWarning: invalid value encountered in double_scalars\n",
      "  dip[i] = 100 * (self._dip[i] / self._trs[i])\n",
      "C:\\Users\\exomat\\anaconda3\\envs\\magisterka_analiza\\lib\\site-packages\\ta\\trend.py:772: RuntimeWarning: invalid value encountered in double_scalars\n",
      "  din[i] = 100 * (self._din[i] / self._trs[i])\n"
     ]
    },
    {
     "data": {
      "text/plain": "                                 open        high         low       close  \\\nDatetime                                                                    \n2020-05-12 04:00:00-04:00   78.802500   78.802500   78.560000   78.575000   \n2020-05-12 05:00:00-04:00   78.650000   78.675000   78.502500   78.502500   \n2020-05-12 06:00:00-04:00   78.600000   78.822500   78.535000   78.822500   \n2020-05-12 07:00:00-04:00   78.887500   79.340000   78.887500   79.277500   \n2020-05-12 08:00:00-04:00   79.300000   79.497500   79.000000   79.400000   \n...                               ...         ...         ...         ...   \n2021-05-11 13:30:00-04:00  125.776398  126.269997  125.510101  126.220100   \n2021-05-11 14:30:00-04:00  126.220001  126.220001  125.540001  125.964996   \n2021-05-11 15:30:00-04:00  125.973503  126.110001  125.279999  125.849998   \n2021-05-11 16:00:00-04:00  125.850000  126.100000  122.770000  125.690000   \n2021-05-11 17:00:00-04:00  125.670000  125.690000  116.812300  125.555000   \n\n                            Adj Close    volume  close_pct    volume_adi  \\\nDatetime                                                                   \n2020-05-12 04:00:00-04:00   78.575000         0        NaN -0.000000e+00   \n2020-05-12 05:00:00-04:00   78.502500         0  -0.000923 -0.000000e+00   \n2020-05-12 06:00:00-04:00   78.822500         0   0.004076  0.000000e+00   \n2020-05-12 07:00:00-04:00   79.277500         0   0.005772  0.000000e+00   \n2020-05-12 08:00:00-04:00   79.400000         0   0.001545  0.000000e+00   \n...                               ...       ...        ...           ...   \n2021-05-11 13:30:00-04:00  126.220100  10206779   0.003500  6.523961e+08   \n2021-05-11 14:30:00-04:00  125.964996   9989427  -0.002021  6.548934e+08   \n2021-05-11 15:30:00-04:00  125.849998   9604428  -0.000913  6.584805e+08   \n2021-05-11 16:00:00-04:00  125.690000   5589756  -0.001271  6.626938e+08   \n2021-05-11 17:00:00-04:00  125.555000         0  -0.001074  6.626938e+08   \n\n                           volume_obv  volume_cmf  ...  momentum_ao  \\\nDatetime                                           ...                \n2020-05-12 04:00:00-04:00           0    0.000000  ...     0.000000   \n2020-05-12 05:00:00-04:00           0    0.000000  ...     0.000000   \n2020-05-12 06:00:00-04:00           0    0.000000  ...     0.000000   \n2020-05-12 07:00:00-04:00           0    0.000000  ...     0.000000   \n2020-05-12 08:00:00-04:00           0    0.000000  ...     0.000000   \n...                               ...         ...  ...          ...   \n2021-05-11 13:30:00-04:00  -448808050    0.027701  ...    -2.390537   \n2021-05-11 14:30:00-04:00  -458797477    0.045593  ...    -1.843727   \n2021-05-11 15:30:00-04:00  -468401905    0.081626  ...    -1.413227   \n2021-05-11 16:00:00-04:00  -473991661    0.167306  ...    -1.399845   \n2021-05-11 17:00:00-04:00  -473991661    0.148054  ...    -1.944208   \n\n                           momentum_kama  momentum_roc  momentum_ppo  \\\nDatetime                                                               \n2020-05-12 04:00:00-04:00      78.575000      0.000000      0.000000   \n2020-05-12 05:00:00-04:00      78.545317      0.000000      0.000000   \n2020-05-12 06:00:00-04:00      78.663281      0.000000      0.000000   \n2020-05-12 07:00:00-04:00      78.918622      0.000000      0.000000   \n2020-05-12 08:00:00-04:00      79.120099      0.000000      0.000000   \n...                                  ...           ...           ...   \n2021-05-11 13:30:00-04:00     123.970144     -0.158123     32.459348   \n2021-05-11 14:30:00-04:00     124.058806     -0.281035     29.113071   \n2021-05-11 15:30:00-04:00     124.155581      1.003209     25.895957   \n2021-05-11 16:00:00-04:00     124.327777      0.785823     19.912664   \n2021-05-11 17:00:00-04:00     124.587426      0.887907      9.581727   \n\n                           momentum_ppo_signal  momentum_ppo_hist  others_dr  \\\nDatetime                                                                       \n2020-05-12 04:00:00-04:00             0.000000           0.000000 -31.855314   \n2020-05-12 05:00:00-04:00             0.000000           0.000000  -0.092269   \n2020-05-12 06:00:00-04:00             0.000000           0.000000   0.407630   \n2020-05-12 07:00:00-04:00             0.000000           0.000000   0.577246   \n2020-05-12 08:00:00-04:00             0.000000           0.000000   0.154521   \n...                                        ...                ...        ...   \n2021-05-11 13:30:00-04:00            16.862620          15.596728   0.349977   \n2021-05-11 14:30:00-04:00            19.312710           9.800361  -0.202110   \n2021-05-11 15:30:00-04:00            20.629360           5.266598  -0.091294   \n2021-05-11 16:00:00-04:00            20.486020          -0.573356  -0.127134   \n2021-05-11 17:00:00-04:00            18.305162          -8.723435  -0.107407   \n\n                           others_dlr  others_cr  close_shift  \nDatetime                                                       \n2020-05-12 04:00:00-04:00    0.000000   0.000000      77.2500  \n2020-05-12 05:00:00-04:00   -0.092311  -0.092269      77.9750  \n2020-05-12 06:00:00-04:00    0.406802   0.314986      77.9775  \n2020-05-12 07:00:00-04:00    0.575587   0.894050      78.2450  \n2020-05-12 08:00:00-04:00    0.154401   1.049952      78.1125  \n...                               ...        ...          ...  \n2021-05-11 13:30:00-04:00    0.349366  60.636462          NaN  \n2021-05-11 14:30:00-04:00   -0.202315  60.311799          NaN  \n2021-05-11 15:30:00-04:00   -0.091335  60.165445          NaN  \n2021-05-11 16:00:00-04:00   -0.127215  59.961820          NaN  \n2021-05-11 17:00:00-04:00   -0.107465  59.790010          NaN  \n\n[4185 rows x 91 columns]",
      "text/html": "<div>\n<style scoped>\n    .dataframe tbody tr th:only-of-type {\n        vertical-align: middle;\n    }\n\n    .dataframe tbody tr th {\n        vertical-align: top;\n    }\n\n    .dataframe thead th {\n        text-align: right;\n    }\n</style>\n<table border=\"1\" class=\"dataframe\">\n  <thead>\n    <tr style=\"text-align: right;\">\n      <th></th>\n      <th>open</th>\n      <th>high</th>\n      <th>low</th>\n      <th>close</th>\n      <th>Adj Close</th>\n      <th>volume</th>\n      <th>close_pct</th>\n      <th>volume_adi</th>\n      <th>volume_obv</th>\n      <th>volume_cmf</th>\n      <th>...</th>\n      <th>momentum_ao</th>\n      <th>momentum_kama</th>\n      <th>momentum_roc</th>\n      <th>momentum_ppo</th>\n      <th>momentum_ppo_signal</th>\n      <th>momentum_ppo_hist</th>\n      <th>others_dr</th>\n      <th>others_dlr</th>\n      <th>others_cr</th>\n      <th>close_shift</th>\n    </tr>\n    <tr>\n      <th>Datetime</th>\n      <th></th>\n      <th></th>\n      <th></th>\n      <th></th>\n      <th></th>\n      <th></th>\n      <th></th>\n      <th></th>\n      <th></th>\n      <th></th>\n      <th></th>\n      <th></th>\n      <th></th>\n      <th></th>\n      <th></th>\n      <th></th>\n      <th></th>\n      <th></th>\n      <th></th>\n      <th></th>\n      <th></th>\n    </tr>\n  </thead>\n  <tbody>\n    <tr>\n      <th>2020-05-12 04:00:00-04:00</th>\n      <td>78.802500</td>\n      <td>78.802500</td>\n      <td>78.560000</td>\n      <td>78.575000</td>\n      <td>78.575000</td>\n      <td>0</td>\n      <td>NaN</td>\n      <td>-0.000000e+00</td>\n      <td>0</td>\n      <td>0.000000</td>\n      <td>...</td>\n      <td>0.000000</td>\n      <td>78.575000</td>\n      <td>0.000000</td>\n      <td>0.000000</td>\n      <td>0.000000</td>\n      <td>0.000000</td>\n      <td>-31.855314</td>\n      <td>0.000000</td>\n      <td>0.000000</td>\n      <td>77.2500</td>\n    </tr>\n    <tr>\n      <th>2020-05-12 05:00:00-04:00</th>\n      <td>78.650000</td>\n      <td>78.675000</td>\n      <td>78.502500</td>\n      <td>78.502500</td>\n      <td>78.502500</td>\n      <td>0</td>\n      <td>-0.000923</td>\n      <td>-0.000000e+00</td>\n      <td>0</td>\n      <td>0.000000</td>\n      <td>...</td>\n      <td>0.000000</td>\n      <td>78.545317</td>\n      <td>0.000000</td>\n      <td>0.000000</td>\n      <td>0.000000</td>\n      <td>0.000000</td>\n      <td>-0.092269</td>\n      <td>-0.092311</td>\n      <td>-0.092269</td>\n      <td>77.9750</td>\n    </tr>\n    <tr>\n      <th>2020-05-12 06:00:00-04:00</th>\n      <td>78.600000</td>\n      <td>78.822500</td>\n      <td>78.535000</td>\n      <td>78.822500</td>\n      <td>78.822500</td>\n      <td>0</td>\n      <td>0.004076</td>\n      <td>0.000000e+00</td>\n      <td>0</td>\n      <td>0.000000</td>\n      <td>...</td>\n      <td>0.000000</td>\n      <td>78.663281</td>\n      <td>0.000000</td>\n      <td>0.000000</td>\n      <td>0.000000</td>\n      <td>0.000000</td>\n      <td>0.407630</td>\n      <td>0.406802</td>\n      <td>0.314986</td>\n      <td>77.9775</td>\n    </tr>\n    <tr>\n      <th>2020-05-12 07:00:00-04:00</th>\n      <td>78.887500</td>\n      <td>79.340000</td>\n      <td>78.887500</td>\n      <td>79.277500</td>\n      <td>79.277500</td>\n      <td>0</td>\n      <td>0.005772</td>\n      <td>0.000000e+00</td>\n      <td>0</td>\n      <td>0.000000</td>\n      <td>...</td>\n      <td>0.000000</td>\n      <td>78.918622</td>\n      <td>0.000000</td>\n      <td>0.000000</td>\n      <td>0.000000</td>\n      <td>0.000000</td>\n      <td>0.577246</td>\n      <td>0.575587</td>\n      <td>0.894050</td>\n      <td>78.2450</td>\n    </tr>\n    <tr>\n      <th>2020-05-12 08:00:00-04:00</th>\n      <td>79.300000</td>\n      <td>79.497500</td>\n      <td>79.000000</td>\n      <td>79.400000</td>\n      <td>79.400000</td>\n      <td>0</td>\n      <td>0.001545</td>\n      <td>0.000000e+00</td>\n      <td>0</td>\n      <td>0.000000</td>\n      <td>...</td>\n      <td>0.000000</td>\n      <td>79.120099</td>\n      <td>0.000000</td>\n      <td>0.000000</td>\n      <td>0.000000</td>\n      <td>0.000000</td>\n      <td>0.154521</td>\n      <td>0.154401</td>\n      <td>1.049952</td>\n      <td>78.1125</td>\n    </tr>\n    <tr>\n      <th>...</th>\n      <td>...</td>\n      <td>...</td>\n      <td>...</td>\n      <td>...</td>\n      <td>...</td>\n      <td>...</td>\n      <td>...</td>\n      <td>...</td>\n      <td>...</td>\n      <td>...</td>\n      <td>...</td>\n      <td>...</td>\n      <td>...</td>\n      <td>...</td>\n      <td>...</td>\n      <td>...</td>\n      <td>...</td>\n      <td>...</td>\n      <td>...</td>\n      <td>...</td>\n      <td>...</td>\n    </tr>\n    <tr>\n      <th>2021-05-11 13:30:00-04:00</th>\n      <td>125.776398</td>\n      <td>126.269997</td>\n      <td>125.510101</td>\n      <td>126.220100</td>\n      <td>126.220100</td>\n      <td>10206779</td>\n      <td>0.003500</td>\n      <td>6.523961e+08</td>\n      <td>-448808050</td>\n      <td>0.027701</td>\n      <td>...</td>\n      <td>-2.390537</td>\n      <td>123.970144</td>\n      <td>-0.158123</td>\n      <td>32.459348</td>\n      <td>16.862620</td>\n      <td>15.596728</td>\n      <td>0.349977</td>\n      <td>0.349366</td>\n      <td>60.636462</td>\n      <td>NaN</td>\n    </tr>\n    <tr>\n      <th>2021-05-11 14:30:00-04:00</th>\n      <td>126.220001</td>\n      <td>126.220001</td>\n      <td>125.540001</td>\n      <td>125.964996</td>\n      <td>125.964996</td>\n      <td>9989427</td>\n      <td>-0.002021</td>\n      <td>6.548934e+08</td>\n      <td>-458797477</td>\n      <td>0.045593</td>\n      <td>...</td>\n      <td>-1.843727</td>\n      <td>124.058806</td>\n      <td>-0.281035</td>\n      <td>29.113071</td>\n      <td>19.312710</td>\n      <td>9.800361</td>\n      <td>-0.202110</td>\n      <td>-0.202315</td>\n      <td>60.311799</td>\n      <td>NaN</td>\n    </tr>\n    <tr>\n      <th>2021-05-11 15:30:00-04:00</th>\n      <td>125.973503</td>\n      <td>126.110001</td>\n      <td>125.279999</td>\n      <td>125.849998</td>\n      <td>125.849998</td>\n      <td>9604428</td>\n      <td>-0.000913</td>\n      <td>6.584805e+08</td>\n      <td>-468401905</td>\n      <td>0.081626</td>\n      <td>...</td>\n      <td>-1.413227</td>\n      <td>124.155581</td>\n      <td>1.003209</td>\n      <td>25.895957</td>\n      <td>20.629360</td>\n      <td>5.266598</td>\n      <td>-0.091294</td>\n      <td>-0.091335</td>\n      <td>60.165445</td>\n      <td>NaN</td>\n    </tr>\n    <tr>\n      <th>2021-05-11 16:00:00-04:00</th>\n      <td>125.850000</td>\n      <td>126.100000</td>\n      <td>122.770000</td>\n      <td>125.690000</td>\n      <td>125.690000</td>\n      <td>5589756</td>\n      <td>-0.001271</td>\n      <td>6.626938e+08</td>\n      <td>-473991661</td>\n      <td>0.167306</td>\n      <td>...</td>\n      <td>-1.399845</td>\n      <td>124.327777</td>\n      <td>0.785823</td>\n      <td>19.912664</td>\n      <td>20.486020</td>\n      <td>-0.573356</td>\n      <td>-0.127134</td>\n      <td>-0.127215</td>\n      <td>59.961820</td>\n      <td>NaN</td>\n    </tr>\n    <tr>\n      <th>2021-05-11 17:00:00-04:00</th>\n      <td>125.670000</td>\n      <td>125.690000</td>\n      <td>116.812300</td>\n      <td>125.555000</td>\n      <td>125.555000</td>\n      <td>0</td>\n      <td>-0.001074</td>\n      <td>6.626938e+08</td>\n      <td>-473991661</td>\n      <td>0.148054</td>\n      <td>...</td>\n      <td>-1.944208</td>\n      <td>124.587426</td>\n      <td>0.887907</td>\n      <td>9.581727</td>\n      <td>18.305162</td>\n      <td>-8.723435</td>\n      <td>-0.107407</td>\n      <td>-0.107465</td>\n      <td>59.790010</td>\n      <td>NaN</td>\n    </tr>\n  </tbody>\n</table>\n<p>4185 rows × 91 columns</p>\n</div>"
     },
     "execution_count": 371,
     "metadata": {},
     "output_type": "execute_result"
    }
   ],
   "source": [
    "data = _get_indicator_data(data)\n",
    "data['close_shift'] = data.shift(-WINDOW)['close']\n",
    "data"
   ],
   "metadata": {
    "collapsed": false,
    "pycharm": {
     "name": "#%%\n"
    }
   }
  },
  {
   "cell_type": "code",
   "execution_count": 372,
   "outputs": [
    {
     "name": "stdout",
     "output_type": "stream",
     "text": [
      " 0    2243\n",
      " 1    1102\n",
      "-1     840\n",
      "Name: class_column, dtype: int64\n",
      "1.49 -1.49\n",
      " 0    2228\n",
      " 1    1111\n",
      "-1     846\n",
      "Name: class_column, dtype: int64\n",
      "1.48 -1.48\n",
      " 0    2216\n",
      " 1    1116\n",
      "-1     853\n",
      "Name: class_column, dtype: int64\n",
      "1.47 -1.47\n",
      " 0    2202\n",
      " 1    1125\n",
      "-1     858\n",
      "Name: class_column, dtype: int64\n",
      "1.46 -1.46\n",
      " 0    2189\n",
      " 1    1130\n",
      "-1     866\n",
      "Name: class_column, dtype: int64\n",
      "1.45 -1.45\n",
      " 0    2183\n",
      " 1    1131\n",
      "-1     871\n",
      "Name: class_column, dtype: int64\n",
      "1.44 -1.44\n",
      " 0    2178\n",
      " 1    1133\n",
      "-1     874\n",
      "Name: class_column, dtype: int64\n",
      "1.43 -1.43\n",
      " 0    2170\n",
      " 1    1139\n",
      "-1     876\n",
      "Name: class_column, dtype: int64\n",
      "1.42 -1.42\n",
      " 0    2161\n",
      " 1    1142\n",
      "-1     882\n",
      "Name: class_column, dtype: int64\n",
      "1.41 -1.41\n",
      " 0    2149\n",
      " 1    1148\n",
      "-1     888\n",
      "Name: class_column, dtype: int64\n",
      "1.4 -1.4\n",
      " 0    2137\n",
      " 1    1154\n",
      "-1     894\n",
      "Name: class_column, dtype: int64\n",
      "1.39 -1.39\n",
      " 0    2124\n",
      " 1    1161\n",
      "-1     900\n",
      "Name: class_column, dtype: int64\n",
      "1.38 -1.38\n",
      " 0    2116\n",
      " 1    1163\n",
      "-1     906\n",
      "Name: class_column, dtype: int64\n",
      "1.3699999999999999 -1.3699999999999999\n",
      " 0    2108\n",
      " 1    1165\n",
      "-1     912\n",
      "Name: class_column, dtype: int64\n",
      "1.3599999999999999 -1.3599999999999999\n",
      " 0    2097\n",
      " 1    1168\n",
      "-1     920\n",
      "Name: class_column, dtype: int64\n",
      "1.3499999999999999 -1.3499999999999999\n",
      " 0    2088\n",
      " 1    1175\n",
      "-1     922\n",
      "Name: class_column, dtype: int64\n",
      "1.3399999999999999 -1.3399999999999999\n",
      " 0    2079\n",
      " 1    1177\n",
      "-1     929\n",
      "Name: class_column, dtype: int64\n",
      "1.3299999999999998 -1.3299999999999998\n",
      " 0    2071\n",
      " 1    1182\n",
      "-1     932\n",
      "Name: class_column, dtype: int64\n",
      "1.3199999999999998 -1.3199999999999998\n",
      " 0    2059\n",
      " 1    1188\n",
      "-1     938\n",
      "Name: class_column, dtype: int64\n",
      "1.3099999999999998 -1.3099999999999998\n",
      " 0    2052\n",
      " 1    1190\n",
      "-1     943\n",
      "Name: class_column, dtype: int64\n",
      "1.2999999999999998 -1.2999999999999998\n",
      " 0    2042\n",
      " 1    1194\n",
      "-1     949\n",
      "Name: class_column, dtype: int64\n",
      "1.2899999999999998 -1.2899999999999998\n",
      " 0    2034\n",
      " 1    1199\n",
      "-1     952\n",
      "Name: class_column, dtype: int64\n",
      "1.2799999999999998 -1.2799999999999998\n",
      " 0    2020\n",
      " 1    1204\n",
      "-1     961\n",
      "Name: class_column, dtype: int64\n",
      "1.2699999999999998 -1.2699999999999998\n",
      " 0    2013\n",
      " 1    1209\n",
      "-1     963\n",
      "Name: class_column, dtype: int64\n",
      "1.2599999999999998 -1.2599999999999998\n",
      " 0    2001\n",
      " 1    1215\n",
      "-1     969\n",
      "Name: class_column, dtype: int64\n",
      "1.2499999999999998 -1.2499999999999998\n",
      " 0    1990\n",
      " 1    1221\n",
      "-1     974\n",
      "Name: class_column, dtype: int64\n",
      "1.2399999999999998 -1.2399999999999998\n",
      " 0    1979\n",
      " 1    1226\n",
      "-1     980\n",
      "Name: class_column, dtype: int64\n",
      "1.2299999999999998 -1.2299999999999998\n",
      " 0    1967\n",
      " 1    1232\n",
      "-1     986\n",
      "Name: class_column, dtype: int64\n",
      "1.2199999999999998 -1.2199999999999998\n",
      " 0    1955\n",
      " 1    1237\n",
      "-1     993\n",
      "Name: class_column, dtype: int64\n",
      "1.2099999999999997 -1.2099999999999997\n",
      " 0    1944\n",
      " 1    1244\n",
      "-1     997\n",
      "Name: class_column, dtype: int64\n",
      "1.1999999999999997 -1.1999999999999997\n",
      " 0    1932\n",
      " 1    1248\n",
      "-1    1005\n",
      "Name: class_column, dtype: int64\n",
      "1.1899999999999997 -1.1899999999999997\n",
      " 0    1924\n",
      " 1    1253\n",
      "-1    1008\n",
      "Name: class_column, dtype: int64\n",
      "1.1799999999999997 -1.1799999999999997\n",
      " 0    1908\n",
      " 1    1262\n",
      "-1    1015\n",
      "Name: class_column, dtype: int64\n",
      "1.1699999999999997 -1.1699999999999997\n",
      " 0    1897\n",
      " 1    1269\n",
      "-1    1019\n",
      "Name: class_column, dtype: int64\n",
      "1.1599999999999997 -1.1599999999999997\n",
      " 0    1891\n",
      " 1    1272\n",
      "-1    1022\n",
      "Name: class_column, dtype: int64\n",
      "1.1499999999999997 -1.1499999999999997\n",
      " 0    1880\n",
      " 1    1276\n",
      "-1    1029\n",
      "Name: class_column, dtype: int64\n",
      "1.1399999999999997 -1.1399999999999997\n",
      " 0    1874\n",
      " 1    1281\n",
      "-1    1030\n",
      "Name: class_column, dtype: int64\n",
      "1.1299999999999997 -1.1299999999999997\n",
      " 0    1860\n",
      " 1    1290\n",
      "-1    1035\n",
      "Name: class_column, dtype: int64\n",
      "1.1199999999999997 -1.1199999999999997\n",
      " 0    1844\n",
      " 1    1297\n",
      "-1    1044\n",
      "Name: class_column, dtype: int64\n",
      "1.1099999999999997 -1.1099999999999997\n",
      " 0    1829\n",
      " 1    1303\n",
      "-1    1053\n",
      "Name: class_column, dtype: int64\n",
      "1.0999999999999996 -1.0999999999999996\n",
      " 0    1821\n",
      " 1    1306\n",
      "-1    1058\n",
      "Name: class_column, dtype: int64\n",
      "1.0899999999999996 -1.0899999999999996\n",
      " 0    1808\n",
      " 1    1311\n",
      "-1    1066\n",
      "Name: class_column, dtype: int64\n",
      "1.0799999999999996 -1.0799999999999996\n",
      " 0    1802\n",
      " 1    1315\n",
      "-1    1068\n",
      "Name: class_column, dtype: int64\n",
      "1.0699999999999996 -1.0699999999999996\n",
      " 0    1789\n",
      " 1    1323\n",
      "-1    1073\n",
      "Name: class_column, dtype: int64\n",
      "1.0599999999999996 -1.0599999999999996\n",
      " 0    1775\n",
      " 1    1332\n",
      "-1    1078\n",
      "Name: class_column, dtype: int64\n",
      "1.0499999999999996 -1.0499999999999996\n",
      " 0    1765\n",
      " 1    1337\n",
      "-1    1083\n",
      "Name: class_column, dtype: int64\n",
      "1.0399999999999996 -1.0399999999999996\n",
      " 0    1748\n",
      " 1    1345\n",
      "-1    1092\n",
      "Name: class_column, dtype: int64\n",
      "1.0299999999999996 -1.0299999999999996\n",
      " 0    1738\n",
      " 1    1349\n",
      "-1    1098\n",
      "Name: class_column, dtype: int64\n",
      "1.0199999999999996 -1.0199999999999996\n",
      " 0    1729\n",
      " 1    1352\n",
      "-1    1104\n",
      "Name: class_column, dtype: int64\n",
      "1.0099999999999996 -1.0099999999999996\n",
      " 0    1717\n",
      " 1    1361\n",
      "-1    1107\n",
      "Name: class_column, dtype: int64\n",
      "0.9999999999999996 -0.9999999999999996\n",
      " 0    1697\n",
      " 1    1369\n",
      "-1    1119\n",
      "Name: class_column, dtype: int64\n",
      "0.9899999999999995 -0.9899999999999995\n",
      " 0    1684\n",
      " 1    1377\n",
      "-1    1124\n",
      "Name: class_column, dtype: int64\n",
      "0.9799999999999995 -0.9799999999999995\n",
      " 0    1664\n",
      " 1    1387\n",
      "-1    1134\n",
      "Name: class_column, dtype: int64\n",
      "0.9699999999999995 -0.9699999999999995\n",
      " 0    1656\n",
      " 1    1391\n",
      "-1    1138\n",
      "Name: class_column, dtype: int64\n",
      "0.9599999999999995 -0.9599999999999995\n",
      " 0    1637\n",
      " 1    1402\n",
      "-1    1146\n",
      "Name: class_column, dtype: int64\n",
      "0.9499999999999995 -0.9499999999999995\n",
      " 0    1622\n",
      " 1    1408\n",
      "-1    1155\n",
      "Name: class_column, dtype: int64\n",
      "0.9399999999999995 -0.9399999999999995\n",
      " 0    1614\n",
      " 1    1414\n",
      "-1    1157\n",
      "Name: class_column, dtype: int64\n",
      "0.9299999999999995 -0.9299999999999995\n",
      " 0    1599\n",
      " 1    1419\n",
      "-1    1167\n",
      "Name: class_column, dtype: int64\n",
      "0.9199999999999995 -0.9199999999999995\n",
      " 0    1586\n",
      " 1    1426\n",
      "-1    1173\n",
      "Name: class_column, dtype: int64\n",
      "0.9099999999999995 -0.9099999999999995\n",
      " 0    1574\n",
      " 1    1432\n",
      "-1    1179\n",
      "Name: class_column, dtype: int64\n",
      "0.8999999999999995 -0.8999999999999995\n",
      " 0    1549\n",
      " 1    1444\n",
      "-1    1192\n",
      "Name: class_column, dtype: int64\n",
      "0.8899999999999995 -0.8899999999999995\n",
      " 0    1531\n",
      " 1    1454\n",
      "-1    1200\n",
      "Name: class_column, dtype: int64\n",
      "0.8799999999999994 -0.8799999999999994\n",
      " 0    1519\n",
      " 1    1459\n",
      "-1    1207\n",
      "Name: class_column, dtype: int64\n",
      "0.8699999999999994 -0.8699999999999994\n",
      " 0    1499\n",
      " 1    1471\n",
      "-1    1215\n",
      "Name: class_column, dtype: int64\n",
      "0.8599999999999994 -0.8599999999999994\n",
      " 0    1486\n",
      " 1    1477\n",
      "-1    1222\n",
      "Name: class_column, dtype: int64\n",
      "0.8499999999999994 -0.8499999999999994\n",
      " 1    1485\n",
      " 0    1470\n",
      "-1    1230\n",
      "Name: class_column, dtype: int64\n",
      "0.8599999999999994 -0.8399999999999994\n",
      " 1    1477\n",
      " 0    1464\n",
      "-1    1244\n",
      "Name: class_column, dtype: int64\n",
      "0.8699999999999994 -0.8299999999999994\n",
      " 1    1471\n",
      " 0    1469\n",
      "-1    1245\n",
      "Name: class_column, dtype: int64\n",
      "0.8799999999999994 -0.8199999999999994\n",
      " 0    1477\n",
      " 1    1459\n",
      "-1    1249\n",
      "Name: class_column, dtype: int64\n",
      "0.8699999999999994 -0.8099999999999994\n",
      " 1    1471\n",
      " 0    1456\n",
      "-1    1258\n",
      "Name: class_column, dtype: int64\n",
      "0.8799999999999994 -0.7999999999999994\n",
      " 0    1461\n",
      " 1    1459\n",
      "-1    1265\n",
      "Name: class_column, dtype: int64\n",
      "0.8699999999999994 -0.7899999999999994\n",
      " 1    1471\n",
      " 0    1441\n",
      "-1    1273\n",
      "Name: class_column, dtype: int64\n",
      "0.8799999999999994 -0.7799999999999994\n",
      " 1    1459\n",
      " 0    1442\n",
      "-1    1284\n",
      "Name: class_column, dtype: int64\n",
      "0.8899999999999995 -0.7699999999999994\n",
      " 1    1454\n",
      " 0    1441\n",
      "-1    1290\n",
      "Name: class_column, dtype: int64\n",
      "0.8999999999999995 -0.7599999999999993\n",
      " 1    1444\n",
      " 0    1442\n",
      "-1    1299\n",
      "Name: class_column, dtype: int64\n",
      "0.9099999999999995 -0.7499999999999993\n",
      " 0    1443\n",
      " 1    1432\n",
      "-1    1310\n",
      "Name: class_column, dtype: int64\n",
      "0.8999999999999995 -0.7399999999999993\n",
      " 1    1444\n",
      " 0    1424\n",
      "-1    1317\n",
      "Name: class_column, dtype: int64\n",
      "0.9099999999999995 -0.7299999999999993\n",
      " 1    1432\n",
      " 0    1427\n",
      "-1    1326\n",
      "Name: class_column, dtype: int64\n",
      "0.9199999999999995 -0.7199999999999993\n",
      " 0    1428\n",
      " 1    1426\n",
      "-1    1331\n",
      "Name: class_column, dtype: int64\n",
      "0.9099999999999995 -0.7099999999999993\n",
      " 1    1432\n",
      " 0    1413\n",
      "-1    1340\n",
      "Name: class_column, dtype: int64\n",
      "0.9199999999999995 -0.6999999999999993\n",
      " 1    1426\n",
      " 0    1410\n",
      "-1    1349\n",
      "Name: class_column, dtype: int64\n",
      "0.9299999999999995 -0.6899999999999993\n",
      " 1    1419\n",
      " 0    1405\n",
      "-1    1361\n",
      "Name: class_column, dtype: int64\n",
      "0.9399999999999995 -0.6799999999999993\n",
      " 1    1414\n",
      " 0    1404\n",
      "-1    1367\n",
      "Name: class_column, dtype: int64\n",
      "0.9499999999999995 -0.6699999999999993\n",
      " 1    1408\n",
      " 0    1407\n",
      "-1    1370\n",
      "Name: class_column, dtype: int64\n",
      "0.9599999999999995 -0.6599999999999993\n",
      " 0    1408\n",
      " 1    1402\n",
      "-1    1375\n",
      "Name: class_column, dtype: int64\n",
      "0.9499999999999995 -0.6499999999999992\n",
      " 1    1408\n",
      " 0    1398\n",
      "-1    1379\n",
      "Name: class_column, dtype: int64\n",
      "0.9599999999999995 -0.6399999999999992\n",
      " 0    1402\n",
      " 1    1402\n",
      "-1    1381\n",
      "Name: class_column, dtype: int64\n",
      "0.9599999999999995 -0.6299999999999992\n",
      " 1    1402\n",
      " 0    1396\n",
      "-1    1387\n",
      "Name: class_column, dtype: int64\n"
     ]
    },
    {
     "data": {
      "text/plain": "                                 open        high         low       close  \\\nDatetime                                                                    \n2020-05-12 04:00:00-04:00   78.802500   78.802500   78.560000   78.575000   \n2020-05-12 05:00:00-04:00   78.650000   78.675000   78.502500   78.502500   \n2020-05-12 06:00:00-04:00   78.600000   78.822500   78.535000   78.822500   \n2020-05-12 07:00:00-04:00   78.887500   79.340000   78.887500   79.277500   \n2020-05-12 08:00:00-04:00   79.300000   79.497500   79.000000   79.400000   \n...                               ...         ...         ...         ...   \n2021-05-11 13:30:00-04:00  125.776398  126.269997  125.510101  126.220100   \n2021-05-11 14:30:00-04:00  126.220001  126.220001  125.540001  125.964996   \n2021-05-11 15:30:00-04:00  125.973503  126.110001  125.279999  125.849998   \n2021-05-11 16:00:00-04:00  125.850000  126.100000  122.770000  125.690000   \n2021-05-11 17:00:00-04:00  125.670000  125.690000  116.812300  125.555000   \n\n                            Adj Close    volume  close_pct    volume_adi  \\\nDatetime                                                                   \n2020-05-12 04:00:00-04:00   78.575000         0        NaN -0.000000e+00   \n2020-05-12 05:00:00-04:00   78.502500         0  -0.000923 -0.000000e+00   \n2020-05-12 06:00:00-04:00   78.822500         0   0.004076  0.000000e+00   \n2020-05-12 07:00:00-04:00   79.277500         0   0.005772  0.000000e+00   \n2020-05-12 08:00:00-04:00   79.400000         0   0.001545  0.000000e+00   \n...                               ...       ...        ...           ...   \n2021-05-11 13:30:00-04:00  126.220100  10206779   0.003500  6.523961e+08   \n2021-05-11 14:30:00-04:00  125.964996   9989427  -0.002021  6.548934e+08   \n2021-05-11 15:30:00-04:00  125.849998   9604428  -0.000913  6.584805e+08   \n2021-05-11 16:00:00-04:00  125.690000   5589756  -0.001271  6.626938e+08   \n2021-05-11 17:00:00-04:00  125.555000         0  -0.001074  6.626938e+08   \n\n                           volume_obv  volume_cmf  ...  momentum_kama  \\\nDatetime                                           ...                  \n2020-05-12 04:00:00-04:00           0    0.000000  ...      78.575000   \n2020-05-12 05:00:00-04:00           0    0.000000  ...      78.545317   \n2020-05-12 06:00:00-04:00           0    0.000000  ...      78.663281   \n2020-05-12 07:00:00-04:00           0    0.000000  ...      78.918622   \n2020-05-12 08:00:00-04:00           0    0.000000  ...      79.120099   \n...                               ...         ...  ...            ...   \n2021-05-11 13:30:00-04:00  -448808050    0.027701  ...     123.970144   \n2021-05-11 14:30:00-04:00  -458797477    0.045593  ...     124.058806   \n2021-05-11 15:30:00-04:00  -468401905    0.081626  ...     124.155581   \n2021-05-11 16:00:00-04:00  -473991661    0.167306  ...     124.327777   \n2021-05-11 17:00:00-04:00  -473991661    0.148054  ...     124.587426   \n\n                           momentum_roc  momentum_ppo  momentum_ppo_signal  \\\nDatetime                                                                     \n2020-05-12 04:00:00-04:00      0.000000      0.000000             0.000000   \n2020-05-12 05:00:00-04:00      0.000000      0.000000             0.000000   \n2020-05-12 06:00:00-04:00      0.000000      0.000000             0.000000   \n2020-05-12 07:00:00-04:00      0.000000      0.000000             0.000000   \n2020-05-12 08:00:00-04:00      0.000000      0.000000             0.000000   \n...                                 ...           ...                  ...   \n2021-05-11 13:30:00-04:00     -0.158123     32.459348            16.862620   \n2021-05-11 14:30:00-04:00     -0.281035     29.113071            19.312710   \n2021-05-11 15:30:00-04:00      1.003209     25.895957            20.629360   \n2021-05-11 16:00:00-04:00      0.785823     19.912664            20.486020   \n2021-05-11 17:00:00-04:00      0.887907      9.581727            18.305162   \n\n                           momentum_ppo_hist  others_dr  others_dlr  \\\nDatetime                                                              \n2020-05-12 04:00:00-04:00           0.000000 -31.855314    0.000000   \n2020-05-12 05:00:00-04:00           0.000000  -0.092269   -0.092311   \n2020-05-12 06:00:00-04:00           0.000000   0.407630    0.406802   \n2020-05-12 07:00:00-04:00           0.000000   0.577246    0.575587   \n2020-05-12 08:00:00-04:00           0.000000   0.154521    0.154401   \n...                                      ...        ...         ...   \n2021-05-11 13:30:00-04:00          15.596728   0.349977    0.349366   \n2021-05-11 14:30:00-04:00           9.800361  -0.202110   -0.202315   \n2021-05-11 15:30:00-04:00           5.266598  -0.091294   -0.091335   \n2021-05-11 16:00:00-04:00          -0.573356  -0.127134   -0.127215   \n2021-05-11 17:00:00-04:00          -8.723435  -0.107407   -0.107465   \n\n                           others_cr  close_shift  class_column  \nDatetime                                                         \n2020-05-12 04:00:00-04:00   0.000000      77.2500            -1  \n2020-05-12 05:00:00-04:00  -0.092269      77.9750             0  \n2020-05-12 06:00:00-04:00   0.314986      77.9775            -1  \n2020-05-12 07:00:00-04:00   0.894050      78.2450            -1  \n2020-05-12 08:00:00-04:00   1.049952      78.1125            -1  \n...                              ...          ...           ...  \n2021-05-11 13:30:00-04:00  60.636462          NaN             0  \n2021-05-11 14:30:00-04:00  60.311799          NaN             0  \n2021-05-11 15:30:00-04:00  60.165445          NaN             0  \n2021-05-11 16:00:00-04:00  59.961820          NaN             0  \n2021-05-11 17:00:00-04:00  59.790010          NaN             0  \n\n[4185 rows x 92 columns]",
      "text/html": "<div>\n<style scoped>\n    .dataframe tbody tr th:only-of-type {\n        vertical-align: middle;\n    }\n\n    .dataframe tbody tr th {\n        vertical-align: top;\n    }\n\n    .dataframe thead th {\n        text-align: right;\n    }\n</style>\n<table border=\"1\" class=\"dataframe\">\n  <thead>\n    <tr style=\"text-align: right;\">\n      <th></th>\n      <th>open</th>\n      <th>high</th>\n      <th>low</th>\n      <th>close</th>\n      <th>Adj Close</th>\n      <th>volume</th>\n      <th>close_pct</th>\n      <th>volume_adi</th>\n      <th>volume_obv</th>\n      <th>volume_cmf</th>\n      <th>...</th>\n      <th>momentum_kama</th>\n      <th>momentum_roc</th>\n      <th>momentum_ppo</th>\n      <th>momentum_ppo_signal</th>\n      <th>momentum_ppo_hist</th>\n      <th>others_dr</th>\n      <th>others_dlr</th>\n      <th>others_cr</th>\n      <th>close_shift</th>\n      <th>class_column</th>\n    </tr>\n    <tr>\n      <th>Datetime</th>\n      <th></th>\n      <th></th>\n      <th></th>\n      <th></th>\n      <th></th>\n      <th></th>\n      <th></th>\n      <th></th>\n      <th></th>\n      <th></th>\n      <th></th>\n      <th></th>\n      <th></th>\n      <th></th>\n      <th></th>\n      <th></th>\n      <th></th>\n      <th></th>\n      <th></th>\n      <th></th>\n      <th></th>\n    </tr>\n  </thead>\n  <tbody>\n    <tr>\n      <th>2020-05-12 04:00:00-04:00</th>\n      <td>78.802500</td>\n      <td>78.802500</td>\n      <td>78.560000</td>\n      <td>78.575000</td>\n      <td>78.575000</td>\n      <td>0</td>\n      <td>NaN</td>\n      <td>-0.000000e+00</td>\n      <td>0</td>\n      <td>0.000000</td>\n      <td>...</td>\n      <td>78.575000</td>\n      <td>0.000000</td>\n      <td>0.000000</td>\n      <td>0.000000</td>\n      <td>0.000000</td>\n      <td>-31.855314</td>\n      <td>0.000000</td>\n      <td>0.000000</td>\n      <td>77.2500</td>\n      <td>-1</td>\n    </tr>\n    <tr>\n      <th>2020-05-12 05:00:00-04:00</th>\n      <td>78.650000</td>\n      <td>78.675000</td>\n      <td>78.502500</td>\n      <td>78.502500</td>\n      <td>78.502500</td>\n      <td>0</td>\n      <td>-0.000923</td>\n      <td>-0.000000e+00</td>\n      <td>0</td>\n      <td>0.000000</td>\n      <td>...</td>\n      <td>78.545317</td>\n      <td>0.000000</td>\n      <td>0.000000</td>\n      <td>0.000000</td>\n      <td>0.000000</td>\n      <td>-0.092269</td>\n      <td>-0.092311</td>\n      <td>-0.092269</td>\n      <td>77.9750</td>\n      <td>0</td>\n    </tr>\n    <tr>\n      <th>2020-05-12 06:00:00-04:00</th>\n      <td>78.600000</td>\n      <td>78.822500</td>\n      <td>78.535000</td>\n      <td>78.822500</td>\n      <td>78.822500</td>\n      <td>0</td>\n      <td>0.004076</td>\n      <td>0.000000e+00</td>\n      <td>0</td>\n      <td>0.000000</td>\n      <td>...</td>\n      <td>78.663281</td>\n      <td>0.000000</td>\n      <td>0.000000</td>\n      <td>0.000000</td>\n      <td>0.000000</td>\n      <td>0.407630</td>\n      <td>0.406802</td>\n      <td>0.314986</td>\n      <td>77.9775</td>\n      <td>-1</td>\n    </tr>\n    <tr>\n      <th>2020-05-12 07:00:00-04:00</th>\n      <td>78.887500</td>\n      <td>79.340000</td>\n      <td>78.887500</td>\n      <td>79.277500</td>\n      <td>79.277500</td>\n      <td>0</td>\n      <td>0.005772</td>\n      <td>0.000000e+00</td>\n      <td>0</td>\n      <td>0.000000</td>\n      <td>...</td>\n      <td>78.918622</td>\n      <td>0.000000</td>\n      <td>0.000000</td>\n      <td>0.000000</td>\n      <td>0.000000</td>\n      <td>0.577246</td>\n      <td>0.575587</td>\n      <td>0.894050</td>\n      <td>78.2450</td>\n      <td>-1</td>\n    </tr>\n    <tr>\n      <th>2020-05-12 08:00:00-04:00</th>\n      <td>79.300000</td>\n      <td>79.497500</td>\n      <td>79.000000</td>\n      <td>79.400000</td>\n      <td>79.400000</td>\n      <td>0</td>\n      <td>0.001545</td>\n      <td>0.000000e+00</td>\n      <td>0</td>\n      <td>0.000000</td>\n      <td>...</td>\n      <td>79.120099</td>\n      <td>0.000000</td>\n      <td>0.000000</td>\n      <td>0.000000</td>\n      <td>0.000000</td>\n      <td>0.154521</td>\n      <td>0.154401</td>\n      <td>1.049952</td>\n      <td>78.1125</td>\n      <td>-1</td>\n    </tr>\n    <tr>\n      <th>...</th>\n      <td>...</td>\n      <td>...</td>\n      <td>...</td>\n      <td>...</td>\n      <td>...</td>\n      <td>...</td>\n      <td>...</td>\n      <td>...</td>\n      <td>...</td>\n      <td>...</td>\n      <td>...</td>\n      <td>...</td>\n      <td>...</td>\n      <td>...</td>\n      <td>...</td>\n      <td>...</td>\n      <td>...</td>\n      <td>...</td>\n      <td>...</td>\n      <td>...</td>\n      <td>...</td>\n    </tr>\n    <tr>\n      <th>2021-05-11 13:30:00-04:00</th>\n      <td>125.776398</td>\n      <td>126.269997</td>\n      <td>125.510101</td>\n      <td>126.220100</td>\n      <td>126.220100</td>\n      <td>10206779</td>\n      <td>0.003500</td>\n      <td>6.523961e+08</td>\n      <td>-448808050</td>\n      <td>0.027701</td>\n      <td>...</td>\n      <td>123.970144</td>\n      <td>-0.158123</td>\n      <td>32.459348</td>\n      <td>16.862620</td>\n      <td>15.596728</td>\n      <td>0.349977</td>\n      <td>0.349366</td>\n      <td>60.636462</td>\n      <td>NaN</td>\n      <td>0</td>\n    </tr>\n    <tr>\n      <th>2021-05-11 14:30:00-04:00</th>\n      <td>126.220001</td>\n      <td>126.220001</td>\n      <td>125.540001</td>\n      <td>125.964996</td>\n      <td>125.964996</td>\n      <td>9989427</td>\n      <td>-0.002021</td>\n      <td>6.548934e+08</td>\n      <td>-458797477</td>\n      <td>0.045593</td>\n      <td>...</td>\n      <td>124.058806</td>\n      <td>-0.281035</td>\n      <td>29.113071</td>\n      <td>19.312710</td>\n      <td>9.800361</td>\n      <td>-0.202110</td>\n      <td>-0.202315</td>\n      <td>60.311799</td>\n      <td>NaN</td>\n      <td>0</td>\n    </tr>\n    <tr>\n      <th>2021-05-11 15:30:00-04:00</th>\n      <td>125.973503</td>\n      <td>126.110001</td>\n      <td>125.279999</td>\n      <td>125.849998</td>\n      <td>125.849998</td>\n      <td>9604428</td>\n      <td>-0.000913</td>\n      <td>6.584805e+08</td>\n      <td>-468401905</td>\n      <td>0.081626</td>\n      <td>...</td>\n      <td>124.155581</td>\n      <td>1.003209</td>\n      <td>25.895957</td>\n      <td>20.629360</td>\n      <td>5.266598</td>\n      <td>-0.091294</td>\n      <td>-0.091335</td>\n      <td>60.165445</td>\n      <td>NaN</td>\n      <td>0</td>\n    </tr>\n    <tr>\n      <th>2021-05-11 16:00:00-04:00</th>\n      <td>125.850000</td>\n      <td>126.100000</td>\n      <td>122.770000</td>\n      <td>125.690000</td>\n      <td>125.690000</td>\n      <td>5589756</td>\n      <td>-0.001271</td>\n      <td>6.626938e+08</td>\n      <td>-473991661</td>\n      <td>0.167306</td>\n      <td>...</td>\n      <td>124.327777</td>\n      <td>0.785823</td>\n      <td>19.912664</td>\n      <td>20.486020</td>\n      <td>-0.573356</td>\n      <td>-0.127134</td>\n      <td>-0.127215</td>\n      <td>59.961820</td>\n      <td>NaN</td>\n      <td>0</td>\n    </tr>\n    <tr>\n      <th>2021-05-11 17:00:00-04:00</th>\n      <td>125.670000</td>\n      <td>125.690000</td>\n      <td>116.812300</td>\n      <td>125.555000</td>\n      <td>125.555000</td>\n      <td>0</td>\n      <td>-0.001074</td>\n      <td>6.626938e+08</td>\n      <td>-473991661</td>\n      <td>0.148054</td>\n      <td>...</td>\n      <td>124.587426</td>\n      <td>0.887907</td>\n      <td>9.581727</td>\n      <td>18.305162</td>\n      <td>-8.723435</td>\n      <td>-0.107407</td>\n      <td>-0.107465</td>\n      <td>59.790010</td>\n      <td>NaN</td>\n      <td>0</td>\n    </tr>\n  </tbody>\n</table>\n<p>4185 rows × 92 columns</p>\n</div>"
     },
     "execution_count": 372,
     "metadata": {},
     "output_type": "execute_result"
    }
   ],
   "source": [
    "higher_threshold = 1.5\n",
    "lowest_threshold = -1.5\n",
    "last_values_higher = []\n",
    "last_values_lower = []\n",
    "data['class_column'] = data.apply((lambda x: create_class_column(x, lowest_threshold, higher_threshold)), axis=1)\n",
    "while True:\n",
    "    print(data['class_column'].value_counts())\n",
    "    class_counts = data['class_column'].value_counts()\n",
    "    if abs(class_counts[0] - class_counts[1]) < 15 and abs(class_counts[0] - class_counts[-1]) < 15:\n",
    "        break\n",
    "\n",
    "    if len(last_values_higher) == 3:\n",
    "        last_values_higher.pop(0)\n",
    "    if len(last_values_lower) == 3:\n",
    "        last_values_lower.pop(0)\n",
    "\n",
    "    last_values_higher.append(higher_threshold)\n",
    "    last_values_lower.append(lowest_threshold)\n",
    "    if class_counts[0] > class_counts[1]:\n",
    "        higher_threshold -= 0.01\n",
    "    if class_counts[0] > class_counts[-1]:\n",
    "        lowest_threshold += 0.01\n",
    "    if class_counts[0] < class_counts[1]:\n",
    "        higher_threshold += 0.01\n",
    "    if class_counts[0] < class_counts[-1]:\n",
    "        lowest_threshold -= 0.01\n",
    "\n",
    "    if higher_threshold in last_values_higher and lowest_threshold in last_values_lower:\n",
    "        break\n",
    "    print(higher_threshold, lowest_threshold)\n",
    "    data['class_column'] = data.apply((lambda x: create_class_column(x, lowest_threshold, higher_threshold)), axis=1)\n",
    "\n",
    "data"
   ],
   "metadata": {
    "collapsed": false,
    "pycharm": {
     "name": "#%%\n"
    }
   }
  },
  {
   "cell_type": "code",
   "execution_count": 373,
   "outputs": [
    {
     "data": {
      "text/plain": " 1    1402\n 0    1396\n-1    1387\nName: class_column, dtype: int64"
     },
     "execution_count": 373,
     "metadata": {},
     "output_type": "execute_result"
    }
   ],
   "source": [
    "# Class divide\n",
    "data['class_column'].value_counts()"
   ],
   "metadata": {
    "collapsed": false,
    "pycharm": {
     "name": "#%%\n"
    }
   }
  },
  {
   "cell_type": "code",
   "execution_count": 373,
   "outputs": [],
   "source": [],
   "metadata": {
    "collapsed": false,
    "pycharm": {
     "name": "#%%\n"
    }
   }
  },
  {
   "cell_type": "code",
   "execution_count": 374,
   "outputs": [
    {
     "name": "stdout",
     "output_type": "stream",
     "text": [
      "C:\\Users\\exomat\\Desktop\\repo\\magisterka_analiza\\data\\results\\train_test\\AAPL_1y_16_diff_11_05_2021 23_24_41_full.csv\n"
     ]
    }
   ],
   "source": [
    "filename_to_export = f'C:\\\\Users\\\\exomat\\\\Desktop\\\\repo\\\\magisterka_analiza\\\\data\\\\results\\\\train_test\\\\{symbol}_{INTERVAL}_{WINDOW}_diff_{datetime.now().strftime(\"%d_%m_%Y %H_%M_%S\")}_full.csv'\n",
    "data.to_csv(filename_to_export, index=True)\n",
    "print(filename_to_export)"
   ],
   "metadata": {
    "collapsed": false,
    "pycharm": {
     "name": "#%%\n"
    }
   }
  },
  {
   "cell_type": "code",
   "execution_count": 375,
   "outputs": [
    {
     "data": {
      "text/plain": " 1    1402\n 0    1396\n-1    1387\nName: class_column, dtype: int64"
     },
     "execution_count": 375,
     "metadata": {},
     "output_type": "execute_result"
    }
   ],
   "source": [
    "\n",
    "# Class divide\n",
    "data['class_column'].value_counts()"
   ],
   "metadata": {
    "collapsed": false,
    "pycharm": {
     "name": "#%%\n"
    }
   }
  },
  {
   "cell_type": "code",
   "execution_count": 376,
   "outputs": [],
   "source": [
    "# del (data['close'])\n",
    "del (data['close_shift'])\n",
    "data = data.dropna()"
   ],
   "metadata": {
    "collapsed": false,
    "pycharm": {
     "name": "#%%\n"
    }
   }
  },
  {
   "cell_type": "code",
   "execution_count": 377,
   "outputs": [
    {
     "data": {
      "text/plain": " 1    1402\n 0    1396\n-1    1386\nName: class_column, dtype: int64"
     },
     "execution_count": 377,
     "metadata": {},
     "output_type": "execute_result"
    }
   ],
   "source": [
    "data['class_column'].value_counts()\n"
   ],
   "metadata": {
    "collapsed": false,
    "pycharm": {
     "name": "#%%\n"
    }
   }
  },
  {
   "cell_type": "code",
   "execution_count": 378,
   "outputs": [],
   "source": [
    "y = data['class_column']\n",
    "features = [x for x in data.columns if x not in ['class_column']]\n",
    "x = data[features]\n",
    "scaler = MinMaxScaler()\n",
    "# x = pd.DataFrame(scaler.fit_transform(x.values), columns=x.columns, index=x.index)\n",
    "x_train,x_test,y_train,y_test = train_test_split(x, y, test_size=0.1, shuffle=False)"
   ],
   "metadata": {
    "collapsed": false,
    "pycharm": {
     "name": "#%%\n"
    }
   }
  },
  {
   "cell_type": "code",
   "execution_count": 379,
   "outputs": [],
   "source": [
    "classifiers = dict()\n",
    "\n",
    "classifiers['DecisionTreeClassifier 1'] = DecisionTreeClassifier(max_depth=10, random_state=0,criterion='gini',splitter='best')\n",
    "classifiers['DecisionTreeClassifier 2'] = DecisionTreeClassifier(max_depth=10, random_state=0,criterion='gini',splitter='random')\n",
    "classifiers['DecisionTreeClassifier 3'] = DecisionTreeClassifier(max_depth=10, random_state=0,criterion='entropy',splitter='best')\n",
    "classifiers['RandomForestClassifier 4'] = RandomForestClassifier(n_estimators=1000, max_depth=3, random_state=0,criterion='gini', n_jobs = -1)\n",
    "classifiers['RandomForestClassifier 5'] = RandomForestClassifier(n_estimators=100, max_depth=2, random_state=0,criterion='entropy', n_jobs = -1)\n",
    "classifiers['GradientBoostingClassifier 1'] = GradientBoostingClassifier(n_estimators=100,random_state=0,criterion='friedman_mse',max_depth=3, learning_rate=0.1)\n",
    "classifiers['GradientBoostingClassifier 2'] = GradientBoostingClassifier(n_estimators=1000,random_state=0,criterion='friedman_mse',max_depth=3, learning_rate=0.1)"
   ],
   "metadata": {
    "collapsed": false,
    "pycharm": {
     "name": "#%%\n"
    }
   }
  },
  {
   "cell_type": "code",
   "execution_count": 380,
   "outputs": [],
   "source": [
    "def print_conf_matrix(test_y, predict, name):\n",
    "    matrix = confusion_matrix(test_y, predict,  labels=[-1, 0, 1])\n",
    "    print(matrix)\n",
    "    ax= plt.subplot()\n",
    "    sn.heatmap(matrix, annot=True, ax = ax) #annot=True to annotate cells\n",
    "\n",
    "    # labels, title and ticks\n",
    "    ax.set_xlabel('Predicted labels', color='white')\n",
    "    ax.set_ylabel('True labels', color='white')\n",
    "    ax.set_title(f'Confusion Matrix for {name}' , color='white')\n",
    "    ax.xaxis.set_ticklabels(['-1','0', '1'], color='white')\n",
    "    ax.yaxis.set_ticklabels(['-1','0', '1'], color='white')\n",
    "    plt.show()\n",
    "\n",
    "def train_model(model,train_x, train_y):\n",
    "    model.fit(train_x, train_y)"
   ],
   "metadata": {
    "collapsed": false,
    "pycharm": {
     "name": "#%%\n"
    }
   }
  },
  {
   "cell_type": "code",
   "execution_count": 381,
   "outputs": [
    {
     "name": "stdout",
     "output_type": "stream",
     "text": [
      "Calculate:  DecisionTreeClassifier 1\n",
      "Score_train:  0.8047808764940239\n",
      "Score:  0.4630071599045346\n",
      "Calculate:  DecisionTreeClassifier 2\n",
      "Score_train:  0.7280212483399734\n",
      "Score:  0.37708830548926014\n",
      "Calculate:  DecisionTreeClassifier 3\n",
      "Score_train:  0.8124833997343958\n",
      "Score:  0.3317422434367542\n",
      "Calculate:  RandomForestClassifier 4\n",
      "Score_train:  0.5197875166002656\n",
      "Score:  0.3436754176610978\n",
      "Calculate:  RandomForestClassifier 5\n",
      "Score_train:  0.4695883134130146\n",
      "Score:  0.3532219570405728\n",
      "Calculate:  GradientBoostingClassifier 1\n",
      "Score_train:  0.8767596281540505\n",
      "Score:  0.4224343675417661\n",
      "Calculate:  GradientBoostingClassifier 2\n",
      "Score_train:  1.0\n",
      "Score:  0.3723150357995227\n"
     ]
    }
   ],
   "source": [
    "predictions_train= dict()\n",
    "score_train = dict()\n",
    "predictions= dict()\n",
    "score = dict()\n",
    "for k,v in classifiers.items():\n",
    "    print(\"Calculate: \", k)\n",
    "    train_model(v,x_train,y_train)\n",
    "    predictions_train[k] = v.predict(x_train)\n",
    "    score_train[k] = accuracy_score(y_train.values, predictions_train[k])\n",
    "    predictions[k] = v.predict(x_test)\n",
    "    score[k] = accuracy_score(y_test.values, predictions[k])\n",
    "    print('Score_train: ',  score_train[k] )\n",
    "    print('Score: ',  score[k] )\n",
    "    # print_conf_matrix(test_y, predictions[k], k)"
   ],
   "metadata": {
    "collapsed": false,
    "pycharm": {
     "name": "#%%\n"
    }
   }
  },
  {
   "cell_type": "code",
   "execution_count": 382,
   "outputs": [
    {
     "name": "stderr",
     "output_type": "stream",
     "text": [
      "C:\\Users\\exomat\\anaconda3\\envs\\magisterka_analiza\\lib\\site-packages\\sklearn\\utils\\validation.py:67: FutureWarning: Pass n_features_to_select=10 as keyword args. From version 0.25 passing these as positional arguments will result in an error\n",
      "  warnings.warn(\"Pass {} as keyword args. From version 0.25 \"\n"
     ]
    },
    {
     "data": {
      "text/plain": "RFE(estimator=RandomForestClassifier(criterion='entropy', max_depth=2,\n                                     n_jobs=-1, random_state=0),\n    n_features_to_select=10)"
     },
     "execution_count": 382,
     "metadata": {},
     "output_type": "execute_result"
    }
   ],
   "source": [
    "rfe = RFE(classifiers['RandomForestClassifier 5'],10)\n",
    "fited = rfe.fit(x_train, y_train)\n",
    "rfe"
   ],
   "metadata": {
    "collapsed": false,
    "pycharm": {
     "name": "#%%\n"
    }
   }
  },
  {
   "cell_type": "code",
   "execution_count": 383,
   "outputs": [
    {
     "name": "stdout",
     "output_type": "stream",
     "text": [
      "Columns with predictive power: ['close', 'volume_obv', 'volatility_ui', 'trend_ema_fast', 'trend_ichimoku_base', 'trend_visual_ichimoku_a', 'trend_visual_ichimoku_b', 'trend_psar_down', 'momentum_kama', 'others_cr']\n"
     ]
    },
    {
     "data": {
      "text/plain": "['close',\n 'volume_obv',\n 'volatility_ui',\n 'trend_ema_fast',\n 'trend_ichimoku_base',\n 'trend_visual_ichimoku_a',\n 'trend_visual_ichimoku_b',\n 'trend_psar_down',\n 'momentum_kama',\n 'others_cr',\n 'high',\n 'low',\n 'volume',\n 'open']"
     },
     "execution_count": 383,
     "metadata": {},
     "output_type": "execute_result"
    }
   ],
   "source": [
    "names = x.columns\n",
    "columns=[]\n",
    "for i in range(len(fited.support_)):\n",
    "    if fited.support_[i]:\n",
    "        columns.append(names[i])\n",
    "\n",
    "print(\"Columns with predictive power:\", columns )\n",
    "columns = columns + ['high', 'low', 'volume', 'open']\n",
    "columns"
   ],
   "metadata": {
    "collapsed": false,
    "pycharm": {
     "name": "#%%\n"
    }
   }
  },
  {
   "cell_type": "code",
   "execution_count": 384,
   "outputs": [
    {
     "data": {
      "text/plain": "                              close  volume_obv  volatility_ui  \\\nDatetime                                                         \n2020-05-12 05:00:00-04:00   78.5025           0       0.000000   \n2020-05-12 06:00:00-04:00   78.8225           0       0.000000   \n2020-05-12 07:00:00-04:00   79.2775           0       0.000000   \n2020-05-12 08:00:00-04:00   79.4000           0       0.000000   \n2020-05-12 09:00:00-04:00   79.4750           0       0.000000   \n...                             ...         ...            ...   \n2021-04-06 19:00:00-04:00  126.3500  -528651762       0.422095   \n2021-04-07 04:00:00-04:00  126.2900  -528651762       0.408195   \n2021-04-07 05:00:00-04:00  126.3800  -528651762       0.420906   \n2021-04-07 06:00:00-04:00  126.3800  -528651762       0.433373   \n2021-04-07 07:00:00-04:00  126.2000  -528651762       0.454515   \n\n                           trend_ema_fast  trend_ichimoku_base  \\\nDatetime                                                         \n2020-05-12 05:00:00-04:00       78.563846            78.652500   \n2020-05-12 06:00:00-04:00       78.603639            78.662500   \n2020-05-12 07:00:00-04:00       78.707310            78.921250   \n2020-05-12 08:00:00-04:00       78.813878            79.000000   \n2020-05-12 09:00:00-04:00       78.915589            79.011250   \n...                                   ...                  ...   \n2021-04-06 19:00:00-04:00      126.234349           123.145415   \n2021-04-07 04:00:00-04:00      126.242911           123.145415   \n2021-04-07 05:00:00-04:00      126.264002           123.145415   \n2021-04-07 06:00:00-04:00      126.281848           123.145415   \n2021-04-07 07:00:00-04:00      126.269256           123.145415   \n\n                           trend_visual_ichimoku_a  trend_visual_ichimoku_b  \\\nDatetime                                                                      \n2020-05-12 05:00:00-04:00               114.967026               115.023681   \n2020-05-12 06:00:00-04:00               114.967026               115.023681   \n2020-05-12 07:00:00-04:00               114.967026               115.023681   \n2020-05-12 08:00:00-04:00               114.967026               115.023681   \n2020-05-12 09:00:00-04:00               114.967026               115.023681   \n...                                            ...                      ...   \n2021-04-06 19:00:00-04:00               122.196851               118.690751   \n2021-04-07 04:00:00-04:00               122.316850               118.810750   \n2021-04-07 05:00:00-04:00               122.416850               118.860750   \n2021-04-07 06:00:00-04:00               122.516901               118.960801   \n2021-04-07 07:00:00-04:00               122.516901               118.960801   \n\n                           trend_psar_down  momentum_kama  others_cr  \\\nDatetime                                                               \n2020-05-12 05:00:00-04:00        -1.000000      78.545317  -0.092269   \n2020-05-12 06:00:00-04:00        -1.000000      78.663281   0.314986   \n2020-05-12 07:00:00-04:00        -1.000000      78.918622   0.894050   \n2020-05-12 08:00:00-04:00        -1.000000      79.120099   1.049952   \n2020-05-12 09:00:00-04:00        -1.000000      79.270331   1.145402   \n...                                    ...            ...        ...   \n2021-04-06 19:00:00-04:00       128.452770     126.036720  60.801782   \n2021-04-07 04:00:00-04:00       128.259657     126.051204  60.725422   \n2021-04-07 05:00:00-04:00       128.070407     126.054087  60.839962   \n2021-04-07 06:00:00-04:00       127.884941     126.091364  60.839962   \n2021-04-07 07:00:00-04:00       127.703185     126.097807  60.610881   \n\n                               high       low  volume      open  \nDatetime                                                         \n2020-05-12 05:00:00-04:00   78.6750   78.5025       0   78.6500  \n2020-05-12 06:00:00-04:00   78.8225   78.5350       0   78.6000  \n2020-05-12 07:00:00-04:00   79.3400   78.8875       0   78.8875  \n2020-05-12 08:00:00-04:00   79.4975   79.0000       0   79.3000  \n2020-05-12 09:00:00-04:00   79.5200   79.1775       0   79.3775  \n...                             ...       ...     ...       ...  \n2021-04-06 19:00:00-04:00  126.3800  126.2100       0  126.2700  \n2021-04-07 04:00:00-04:00  126.7400  126.2000       0  126.4100  \n2021-04-07 05:00:00-04:00  126.4800  126.2500       0  126.2900  \n2021-04-07 06:00:00-04:00  126.5000  126.1600       0  126.3300  \n2021-04-07 07:00:00-04:00  126.5000  126.1800       0  126.3400  \n\n[3765 rows x 14 columns]",
      "text/html": "<div>\n<style scoped>\n    .dataframe tbody tr th:only-of-type {\n        vertical-align: middle;\n    }\n\n    .dataframe tbody tr th {\n        vertical-align: top;\n    }\n\n    .dataframe thead th {\n        text-align: right;\n    }\n</style>\n<table border=\"1\" class=\"dataframe\">\n  <thead>\n    <tr style=\"text-align: right;\">\n      <th></th>\n      <th>close</th>\n      <th>volume_obv</th>\n      <th>volatility_ui</th>\n      <th>trend_ema_fast</th>\n      <th>trend_ichimoku_base</th>\n      <th>trend_visual_ichimoku_a</th>\n      <th>trend_visual_ichimoku_b</th>\n      <th>trend_psar_down</th>\n      <th>momentum_kama</th>\n      <th>others_cr</th>\n      <th>high</th>\n      <th>low</th>\n      <th>volume</th>\n      <th>open</th>\n    </tr>\n    <tr>\n      <th>Datetime</th>\n      <th></th>\n      <th></th>\n      <th></th>\n      <th></th>\n      <th></th>\n      <th></th>\n      <th></th>\n      <th></th>\n      <th></th>\n      <th></th>\n      <th></th>\n      <th></th>\n      <th></th>\n      <th></th>\n    </tr>\n  </thead>\n  <tbody>\n    <tr>\n      <th>2020-05-12 05:00:00-04:00</th>\n      <td>78.5025</td>\n      <td>0</td>\n      <td>0.000000</td>\n      <td>78.563846</td>\n      <td>78.652500</td>\n      <td>114.967026</td>\n      <td>115.023681</td>\n      <td>-1.000000</td>\n      <td>78.545317</td>\n      <td>-0.092269</td>\n      <td>78.6750</td>\n      <td>78.5025</td>\n      <td>0</td>\n      <td>78.6500</td>\n    </tr>\n    <tr>\n      <th>2020-05-12 06:00:00-04:00</th>\n      <td>78.8225</td>\n      <td>0</td>\n      <td>0.000000</td>\n      <td>78.603639</td>\n      <td>78.662500</td>\n      <td>114.967026</td>\n      <td>115.023681</td>\n      <td>-1.000000</td>\n      <td>78.663281</td>\n      <td>0.314986</td>\n      <td>78.8225</td>\n      <td>78.5350</td>\n      <td>0</td>\n      <td>78.6000</td>\n    </tr>\n    <tr>\n      <th>2020-05-12 07:00:00-04:00</th>\n      <td>79.2775</td>\n      <td>0</td>\n      <td>0.000000</td>\n      <td>78.707310</td>\n      <td>78.921250</td>\n      <td>114.967026</td>\n      <td>115.023681</td>\n      <td>-1.000000</td>\n      <td>78.918622</td>\n      <td>0.894050</td>\n      <td>79.3400</td>\n      <td>78.8875</td>\n      <td>0</td>\n      <td>78.8875</td>\n    </tr>\n    <tr>\n      <th>2020-05-12 08:00:00-04:00</th>\n      <td>79.4000</td>\n      <td>0</td>\n      <td>0.000000</td>\n      <td>78.813878</td>\n      <td>79.000000</td>\n      <td>114.967026</td>\n      <td>115.023681</td>\n      <td>-1.000000</td>\n      <td>79.120099</td>\n      <td>1.049952</td>\n      <td>79.4975</td>\n      <td>79.0000</td>\n      <td>0</td>\n      <td>79.3000</td>\n    </tr>\n    <tr>\n      <th>2020-05-12 09:00:00-04:00</th>\n      <td>79.4750</td>\n      <td>0</td>\n      <td>0.000000</td>\n      <td>78.915589</td>\n      <td>79.011250</td>\n      <td>114.967026</td>\n      <td>115.023681</td>\n      <td>-1.000000</td>\n      <td>79.270331</td>\n      <td>1.145402</td>\n      <td>79.5200</td>\n      <td>79.1775</td>\n      <td>0</td>\n      <td>79.3775</td>\n    </tr>\n    <tr>\n      <th>...</th>\n      <td>...</td>\n      <td>...</td>\n      <td>...</td>\n      <td>...</td>\n      <td>...</td>\n      <td>...</td>\n      <td>...</td>\n      <td>...</td>\n      <td>...</td>\n      <td>...</td>\n      <td>...</td>\n      <td>...</td>\n      <td>...</td>\n      <td>...</td>\n    </tr>\n    <tr>\n      <th>2021-04-06 19:00:00-04:00</th>\n      <td>126.3500</td>\n      <td>-528651762</td>\n      <td>0.422095</td>\n      <td>126.234349</td>\n      <td>123.145415</td>\n      <td>122.196851</td>\n      <td>118.690751</td>\n      <td>128.452770</td>\n      <td>126.036720</td>\n      <td>60.801782</td>\n      <td>126.3800</td>\n      <td>126.2100</td>\n      <td>0</td>\n      <td>126.2700</td>\n    </tr>\n    <tr>\n      <th>2021-04-07 04:00:00-04:00</th>\n      <td>126.2900</td>\n      <td>-528651762</td>\n      <td>0.408195</td>\n      <td>126.242911</td>\n      <td>123.145415</td>\n      <td>122.316850</td>\n      <td>118.810750</td>\n      <td>128.259657</td>\n      <td>126.051204</td>\n      <td>60.725422</td>\n      <td>126.7400</td>\n      <td>126.2000</td>\n      <td>0</td>\n      <td>126.4100</td>\n    </tr>\n    <tr>\n      <th>2021-04-07 05:00:00-04:00</th>\n      <td>126.3800</td>\n      <td>-528651762</td>\n      <td>0.420906</td>\n      <td>126.264002</td>\n      <td>123.145415</td>\n      <td>122.416850</td>\n      <td>118.860750</td>\n      <td>128.070407</td>\n      <td>126.054087</td>\n      <td>60.839962</td>\n      <td>126.4800</td>\n      <td>126.2500</td>\n      <td>0</td>\n      <td>126.2900</td>\n    </tr>\n    <tr>\n      <th>2021-04-07 06:00:00-04:00</th>\n      <td>126.3800</td>\n      <td>-528651762</td>\n      <td>0.433373</td>\n      <td>126.281848</td>\n      <td>123.145415</td>\n      <td>122.516901</td>\n      <td>118.960801</td>\n      <td>127.884941</td>\n      <td>126.091364</td>\n      <td>60.839962</td>\n      <td>126.5000</td>\n      <td>126.1600</td>\n      <td>0</td>\n      <td>126.3300</td>\n    </tr>\n    <tr>\n      <th>2021-04-07 07:00:00-04:00</th>\n      <td>126.2000</td>\n      <td>-528651762</td>\n      <td>0.454515</td>\n      <td>126.269256</td>\n      <td>123.145415</td>\n      <td>122.516901</td>\n      <td>118.960801</td>\n      <td>127.703185</td>\n      <td>126.097807</td>\n      <td>60.610881</td>\n      <td>126.5000</td>\n      <td>126.1800</td>\n      <td>0</td>\n      <td>126.3400</td>\n    </tr>\n  </tbody>\n</table>\n<p>3765 rows × 14 columns</p>\n</div>"
     },
     "execution_count": 384,
     "metadata": {},
     "output_type": "execute_result"
    }
   ],
   "source": [
    "x_test_cropped = x_test[columns]\n",
    "x_train_cropped = x_train[columns]\n",
    "x_train_cropped"
   ],
   "metadata": {
    "collapsed": false,
    "pycharm": {
     "name": "#%%\n"
    }
   }
  },
  {
   "cell_type": "code",
   "execution_count": 385,
   "outputs": [],
   "source": [
    "classifiers_boosted = dict()\n",
    "classifiers_boosted['GradientBoostingClassifier 1S'] = GradientBoostingClassifier(n_estimators=100,random_state=0,criterion='friedman_mse',max_depth=3, learning_rate=0.1)\n",
    "classifiers_boosted['GradientBoostingClassifier 2S'] = GradientBoostingClassifier(n_estimators=1000,random_state=0,criterion='friedman_mse',max_depth=3, learning_rate=0.3)\n",
    "classifiers_boosted['GradientBoostingClassifier 3S'] = GradientBoostingClassifier(n_estimators=1000,random_state=0,criterion='friedman_mse',max_depth=2, learning_rate=0.5)\n",
    "classifiers_boosted['GradientBoostingClassifier 4S'] = GradientBoostingClassifier(n_estimators=1000,random_state=0,criterion='friedman_mse',max_depth=2, learning_rate=0.8)"
   ],
   "metadata": {
    "collapsed": false,
    "pycharm": {
     "name": "#%%\n"
    }
   }
  },
  {
   "cell_type": "code",
   "execution_count": 386,
   "outputs": [
    {
     "name": "stdout",
     "output_type": "stream",
     "text": [
      "Calculate:  GradientBoostingClassifier 1S\n",
      "Score train:  0.8079681274900399\n",
      "Score:  0.36754176610978523\n",
      "Calculate:  GradientBoostingClassifier 2S\n",
      "Score train:  1.0\n",
      "Score:  0.35799522673031026\n",
      "Calculate:  GradientBoostingClassifier 3S\n",
      "Score train:  1.0\n",
      "Score:  0.360381861575179\n",
      "Calculate:  GradientBoostingClassifier 4S\n",
      "Score train:  1.0\n",
      "Score:  0.3556085918854415\n"
     ]
    }
   ],
   "source": [
    "for k,v in classifiers_boosted.items():\n",
    "    print(\"Calculate: \", k)\n",
    "    train_model(v,x_train_cropped,y_train)\n",
    "    predictions_train[k] = v.predict(x_train_cropped)\n",
    "    score_train[k] = accuracy_score(y_train.values, predictions_train[k])\n",
    "    predictions[k] = v.predict(x_test_cropped)\n",
    "    score[k] = accuracy_score(y_test.values, predictions[k])\n",
    "    print('Score train: ',  score_train[k] )\n",
    "    print('Score: ',  score[k] )\n",
    "    # print_conf_matrix(test_y, predictions[k], k)\n"
   ],
   "metadata": {
    "collapsed": false,
    "pycharm": {
     "name": "#%%\n"
    }
   }
  },
  {
   "cell_type": "code",
   "execution_count": 387,
   "outputs": [
    {
     "name": "stdout",
     "output_type": "stream",
     "text": [
      "[23:29:46] WARNING: C:/Users/Administrator/workspace/xgboost-win64_release_1.3.0/src/learner.cc:1061: Starting in XGBoost 1.3.0, the default evaluation metric used with the objective 'multi:softprob' was changed from 'merror' to 'mlogloss'. Explicitly set eval_metric if you'd like to restore the old behavior.\n"
     ]
    },
    {
     "name": "stderr",
     "output_type": "stream",
     "text": [
      "C:\\Users\\exomat\\anaconda3\\envs\\magisterka_analiza\\lib\\site-packages\\xgboost\\sklearn.py:888: UserWarning: The use of label encoder in XGBClassifier is deprecated and will be removed in a future release. To remove this warning, do the following: 1) Pass option use_label_encoder=False when constructing XGBClassifier object; and 2) Encode your labels (y) as integers starting with 0, i.e. 0, 1, 2, ..., [num_class - 1].\n",
      "  warnings.warn(label_encoder_deprecation_msg, UserWarning)\n"
     ]
    },
    {
     "name": "stdout",
     "output_type": "stream",
     "text": [
      "------------\n",
      "max_depth: 14\n",
      "1.0\n",
      "0.3818615751789976\n",
      "------------\n"
     ]
    }
   ],
   "source": [
    "import xgboost as xgb\n",
    "model = xgb.XGBClassifier(nthread =-1,max_depth=14,n_estimators=1000,\n",
    "                          eta =0.2)\n",
    "model.fit(x_train,y_train)\n",
    "predicted_train = model.predict(x_train)\n",
    "predicted_test = model.predict(x_test)\n",
    "print(\"------------\")\n",
    "print(f'max_depth: {14}')\n",
    "score_train['XGBClassifier'] = accuracy_score(y_train.values, predicted_train)\n",
    "score['XGBClassifier'] = accuracy_score(y_test.values, predicted_test)\n",
    "print(score_train['XGBClassifier'])\n",
    "print(score['XGBClassifier'])\n",
    "print(\"------------\")"
   ],
   "metadata": {
    "collapsed": false,
    "pycharm": {
     "name": "#%%\n"
    }
   }
  },
  {
   "cell_type": "code",
   "execution_count": 388,
   "outputs": [
    {
     "name": "stdout",
     "output_type": "stream",
     "text": [
      "[23:30:03] WARNING: C:/Users/Administrator/workspace/xgboost-win64_release_1.3.0/src/learner.cc:1061: Starting in XGBoost 1.3.0, the default evaluation metric used with the objective 'multi:softprob' was changed from 'merror' to 'mlogloss'. Explicitly set eval_metric if you'd like to restore the old behavior.\n",
      "------------\n",
      "eta: \n",
      "0.9827357237715804\n",
      "0.4105011933174224\n",
      "------------\n"
     ]
    }
   ],
   "source": [
    "model = xgb.sklearn.XGBRFClassifier(n_jobs=-1,max_depth=12,n_estimators =100,eta=0.4)\n",
    "model.fit(x_train,y_train)\n",
    "predicted_train = model.predict(x_train)\n",
    "predicted_test = model.predict(x_test)\n",
    "print(\"------------\")\n",
    "print(f'eta: ')\n",
    "score_train['XGBRFClassifier'] = accuracy_score(y_train.values, predicted_train)\n",
    "score['XGBRFClassifier'] = accuracy_score(y_test.values, predicted_test)\n",
    "print(accuracy_score(y_train.values, predicted_train))\n",
    "print(accuracy_score(y_test.values, predicted_test))\n",
    "print(\"------------\")"
   ],
   "metadata": {
    "collapsed": false,
    "pycharm": {
     "name": "#%%\n"
    }
   }
  },
  {
   "cell_type": "code",
   "execution_count": 389,
   "outputs": [
    {
     "name": "stdout",
     "output_type": "stream",
     "text": [
      "+----+-------------------------------+------------+\n",
      "|    | Classifier type               |   Accuracy |\n",
      "|----+-------------------------------+------------|\n",
      "|  0 | DecisionTreeClassifier 1      |   0.463007 |\n",
      "|  1 | DecisionTreeClassifier 2      |   0.377088 |\n",
      "|  2 | DecisionTreeClassifier 3      |   0.331742 |\n",
      "|  3 | RandomForestClassifier 4      |   0.343675 |\n",
      "|  4 | RandomForestClassifier 5      |   0.353222 |\n",
      "|  5 | GradientBoostingClassifier 1  |   0.422434 |\n",
      "|  6 | GradientBoostingClassifier 2  |   0.372315 |\n",
      "|  7 | GradientBoostingClassifier 1S |   0.367542 |\n",
      "|  8 | GradientBoostingClassifier 2S |   0.357995 |\n",
      "|  9 | GradientBoostingClassifier 3S |   0.360382 |\n",
      "| 10 | GradientBoostingClassifier 4S |   0.355609 |\n",
      "| 11 | XGBClassifier                 |   0.381862 |\n",
      "| 12 | XGBRFClassifier               |   0.410501 |\n",
      "+----+-------------------------------+------------+\n",
      "+----+-------------------------------+------------+\n",
      "|    | Classifier type               |   Accuracy |\n",
      "|----+-------------------------------+------------|\n",
      "|  0 | DecisionTreeClassifier 1      |   0.463007 |\n",
      "|  1 | DecisionTreeClassifier 2      |   0.377088 |\n",
      "|  2 | DecisionTreeClassifier 3      |   0.331742 |\n",
      "|  3 | RandomForestClassifier 4      |   0.343675 |\n",
      "|  4 | RandomForestClassifier 5      |   0.353222 |\n",
      "|  5 | GradientBoostingClassifier 1  |   0.422434 |\n",
      "|  6 | GradientBoostingClassifier 2  |   0.372315 |\n",
      "|  7 | GradientBoostingClassifier 1S |   0.367542 |\n",
      "|  8 | GradientBoostingClassifier 2S |   0.357995 |\n",
      "|  9 | GradientBoostingClassifier 3S |   0.360382 |\n",
      "| 10 | GradientBoostingClassifier 4S |   0.355609 |\n",
      "| 11 | XGBClassifier                 |   0.381862 |\n",
      "| 12 | XGBRFClassifier               |   0.410501 |\n",
      "+----+-------------------------------+------------+\n"
     ]
    }
   ],
   "source": [
    "filename_to_export_train = f'C:\\\\Users\\\\exomat\\\\Desktop\\\\repo\\\\magisterka_analiza\\\\data\\\\results\\\\train_test\\\\result_test_{symbol}_{WINDOW}_{datetime.now().strftime(\"%d_%m_%Y %H_%M_%S\")}.csv'\n",
    "filename_to_export = f'C:\\\\Users\\\\exomat\\\\Desktop\\\\repo\\\\magisterka_analiza\\\\data\\\\results\\\\train_test\\\\result_train_{symbol}_{WINDOW}_{datetime.now().strftime(\"%d_%m_%Y %H_%M_%S\")}.csv'\n",
    "\n",
    "headers = [\"Classifier type\", \"Accuracy\"]\n",
    "score_df = pd.DataFrame(score.items(), columns=headers)\n",
    "print(tabulate(score_df, headers, tablefmt=\"psql\"))\n",
    "score_df.to_csv(filename_to_export,mode='a', index=False, header=False)\n",
    "score_df_train = pd.DataFrame(score.items(), columns=headers)\n",
    "print(tabulate(score_df_train, headers, tablefmt=\"psql\"))\n",
    "score_df_train.to_csv(filename_to_export,mode='a', index=False, header=False)"
   ],
   "metadata": {
    "collapsed": false,
    "pycharm": {
     "name": "#%%\n"
    }
   }
  },
  {
   "cell_type": "code",
   "execution_count": 389,
   "outputs": [],
   "source": [],
   "metadata": {
    "collapsed": false,
    "pycharm": {
     "name": "#%%\n"
    }
   }
  }
 ],
 "metadata": {
  "kernelspec": {
   "name": "magisterka_analiza",
   "language": "python",
   "display_name": "Python magisterka"
  },
  "language_info": {
   "codemirror_mode": {
    "name": "ipython",
    "version": 2
   },
   "file_extension": ".py",
   "mimetype": "text/x-python",
   "name": "python",
   "nbconvert_exporter": "python",
   "pygments_lexer": "ipython2",
   "version": "2.7.6"
  }
 },
 "nbformat": 4,
 "nbformat_minor": 0
}