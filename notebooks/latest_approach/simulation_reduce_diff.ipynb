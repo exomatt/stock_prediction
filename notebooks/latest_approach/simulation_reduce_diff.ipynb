{
 "cells": [
  {
   "cell_type": "code",
   "execution_count": 21,
   "outputs": [],
   "source": [
    "from collections import defaultdict\n",
    "\n",
    "import yfinance as yf\n",
    "from datetime import datetime\n",
    "import pandas as pd\n",
    "import numpy as np\n",
    "import matplotlib.pyplot as plt\n",
    "from finta import TA\n",
    "import numpy as np\n",
    "from sklearn.ensemble import RandomForestClassifier, VotingClassifier\n",
    "from sklearn.model_selection import GridSearchCV, train_test_split\n",
    "from sklearn.preprocessing import MinMaxScaler\n",
    "from sklearn.tree import DecisionTreeClassifier\n",
    "from sklearn.ensemble import GradientBoostingClassifier\n",
    "from sklearn.metrics import confusion_matrix, classification_report, accuracy_score\n",
    "from sklearn.metrics import jaccard_score\n",
    "import seaborn as sn\n",
    "from tabulate import tabulate\n",
    "from xgboost import XGBClassifier\n",
    "from ta import add_all_ta_features\n",
    "from sklearn.feature_selection import RFE\n",
    "import xgboost as xgb"
   ],
   "metadata": {
    "collapsed": false,
    "pycharm": {
     "name": "#%%\n"
    }
   }
  },
  {
   "cell_type": "code",
   "execution_count": 22,
   "outputs": [],
   "source": [
    "WINDOW = 16  # number of rows to look ahead to see what the price did\n",
    "FETCH_INTERVAL = \"60m\"  # fetch data by interval (including intraday if period < 60 days)\n",
    "# valid intervals: 1m,2m,5m,15m,30m,60m,90m,1h,1d,5d,1wk,1mo,3mo\n",
    "# (optional, default is '1d')\n",
    "INTERVAL = '2y'  # use \"period\" instead of start/end\n",
    "# valid periods: 1d,5d,1mo,3mo,6mo,1y,2y,5y,10y,ytd,max\n",
    "# (optional, default is '1mo')\n",
    "symbol = 'AAPL'  # Symbol of the desired stock\n",
    "\n",
    "# one day 16 rows of data\n"
   ],
   "metadata": {
    "collapsed": false,
    "pycharm": {
     "name": "#%%\n"
    }
   }
  },
  {
   "cell_type": "code",
   "execution_count": 23,
   "outputs": [
    {
     "name": "stdout",
     "output_type": "stream",
     "text": [
      "[*********************100%***********************]  1 of 1 completed\n"
     ]
    },
    {
     "data": {
      "text/plain": "                                 Open        High         Low       Close  \\\nDatetime                                                                    \n2019-09-09 04:00:00-04:00   53.347500   53.450000   53.347500   53.450000   \n2019-09-09 06:00:00-04:00   53.415000   53.575000   53.415000   53.575000   \n2019-09-09 07:00:00-04:00   53.557500   53.575000   53.500000   53.500000   \n2019-09-09 08:00:00-04:00   53.520000   53.640000   53.500000   53.625000   \n2019-09-09 09:00:00-04:00   53.612500   53.710000   53.612500   53.710000   \n...                               ...         ...         ...         ...   \n2021-09-07 12:30:00-04:00  156.852600  157.259995  156.652100  156.880005   \n2021-09-07 13:30:00-04:00  156.883102  157.100006  156.619995  156.970001   \n2021-09-07 14:30:00-04:00  156.960007  157.100006  156.645004  156.850998   \n2021-09-07 15:30:00-04:00  156.854996  157.080002  156.649994  156.699997   \n2021-09-07 16:00:00-04:00  156.690000  156.857900  152.820000  156.525000   \n\n                            Adj Close   Volume  \nDatetime                                        \n2019-09-09 04:00:00-04:00   53.450000        0  \n2019-09-09 06:00:00-04:00   53.575000        0  \n2019-09-09 07:00:00-04:00   53.500000        0  \n2019-09-09 08:00:00-04:00   53.625000        0  \n2019-09-09 09:00:00-04:00   53.710000        0  \n...                               ...      ...  \n2021-09-07 12:30:00-04:00  156.880005  9173047  \n2021-09-07 13:30:00-04:00  156.970001  6010574  \n2021-09-07 14:30:00-04:00  156.850998  7046194  \n2021-09-07 15:30:00-04:00  156.699997  7632760  \n2021-09-07 16:00:00-04:00  156.525000  4002481  \n\n[8359 rows x 6 columns]",
      "text/html": "<div>\n<style scoped>\n    .dataframe tbody tr th:only-of-type {\n        vertical-align: middle;\n    }\n\n    .dataframe tbody tr th {\n        vertical-align: top;\n    }\n\n    .dataframe thead th {\n        text-align: right;\n    }\n</style>\n<table border=\"1\" class=\"dataframe\">\n  <thead>\n    <tr style=\"text-align: right;\">\n      <th></th>\n      <th>Open</th>\n      <th>High</th>\n      <th>Low</th>\n      <th>Close</th>\n      <th>Adj Close</th>\n      <th>Volume</th>\n    </tr>\n    <tr>\n      <th>Datetime</th>\n      <th></th>\n      <th></th>\n      <th></th>\n      <th></th>\n      <th></th>\n      <th></th>\n    </tr>\n  </thead>\n  <tbody>\n    <tr>\n      <th>2019-09-09 04:00:00-04:00</th>\n      <td>53.347500</td>\n      <td>53.450000</td>\n      <td>53.347500</td>\n      <td>53.450000</td>\n      <td>53.450000</td>\n      <td>0</td>\n    </tr>\n    <tr>\n      <th>2019-09-09 06:00:00-04:00</th>\n      <td>53.415000</td>\n      <td>53.575000</td>\n      <td>53.415000</td>\n      <td>53.575000</td>\n      <td>53.575000</td>\n      <td>0</td>\n    </tr>\n    <tr>\n      <th>2019-09-09 07:00:00-04:00</th>\n      <td>53.557500</td>\n      <td>53.575000</td>\n      <td>53.500000</td>\n      <td>53.500000</td>\n      <td>53.500000</td>\n      <td>0</td>\n    </tr>\n    <tr>\n      <th>2019-09-09 08:00:00-04:00</th>\n      <td>53.520000</td>\n      <td>53.640000</td>\n      <td>53.500000</td>\n      <td>53.625000</td>\n      <td>53.625000</td>\n      <td>0</td>\n    </tr>\n    <tr>\n      <th>2019-09-09 09:00:00-04:00</th>\n      <td>53.612500</td>\n      <td>53.710000</td>\n      <td>53.612500</td>\n      <td>53.710000</td>\n      <td>53.710000</td>\n      <td>0</td>\n    </tr>\n    <tr>\n      <th>...</th>\n      <td>...</td>\n      <td>...</td>\n      <td>...</td>\n      <td>...</td>\n      <td>...</td>\n      <td>...</td>\n    </tr>\n    <tr>\n      <th>2021-09-07 12:30:00-04:00</th>\n      <td>156.852600</td>\n      <td>157.259995</td>\n      <td>156.652100</td>\n      <td>156.880005</td>\n      <td>156.880005</td>\n      <td>9173047</td>\n    </tr>\n    <tr>\n      <th>2021-09-07 13:30:00-04:00</th>\n      <td>156.883102</td>\n      <td>157.100006</td>\n      <td>156.619995</td>\n      <td>156.970001</td>\n      <td>156.970001</td>\n      <td>6010574</td>\n    </tr>\n    <tr>\n      <th>2021-09-07 14:30:00-04:00</th>\n      <td>156.960007</td>\n      <td>157.100006</td>\n      <td>156.645004</td>\n      <td>156.850998</td>\n      <td>156.850998</td>\n      <td>7046194</td>\n    </tr>\n    <tr>\n      <th>2021-09-07 15:30:00-04:00</th>\n      <td>156.854996</td>\n      <td>157.080002</td>\n      <td>156.649994</td>\n      <td>156.699997</td>\n      <td>156.699997</td>\n      <td>7632760</td>\n    </tr>\n    <tr>\n      <th>2021-09-07 16:00:00-04:00</th>\n      <td>156.690000</td>\n      <td>156.857900</td>\n      <td>152.820000</td>\n      <td>156.525000</td>\n      <td>156.525000</td>\n      <td>4002481</td>\n    </tr>\n  </tbody>\n</table>\n<p>8359 rows × 6 columns</p>\n</div>"
     },
     "execution_count": 23,
     "metadata": {},
     "output_type": "execute_result"
    }
   ],
   "source": [
    "data = yf.download(  # or pdr.get_data_yahoo(...\n",
    "    tickers=symbol,\n",
    "\n",
    "    period=INTERVAL,\n",
    "\n",
    "    interval=FETCH_INTERVAL,\n",
    "\n",
    "    # group by ticker (to access via data['SPY'])\n",
    "    # (optional, default is 'column')\n",
    "    group_by='ticker',\n",
    "\n",
    "    # adjust all OHLC automatically\n",
    "    # (optional, default is False)\n",
    "    # auto_adjust = True,\n",
    "\n",
    "    # download pre/post regular market hours data\n",
    "    # (optional, default is False)\n",
    "    prepost=True,\n",
    "\n",
    "    # use threads for mass downloading? (True/False/Integer)\n",
    "    # (optional, default is True)\n",
    "    threads=False,\n",
    "\n",
    "    # proxy URL scheme use use when downloading?\n",
    "    # (optional, default is None)\n",
    "    proxy=None\n",
    ")\n",
    "data"
   ],
   "metadata": {
    "collapsed": false,
    "pycharm": {
     "name": "#%%\n"
    }
   }
  },
  {
   "cell_type": "code",
   "execution_count": 24,
   "outputs": [],
   "source": [
    "data.rename(columns={\"Close\": 'close', \"High\": 'high', \"Low\": 'low', 'Volume': 'volume', 'Open': 'open'}, inplace=True)\n",
    "data.head(10)\n",
    "important_columns = ['open', 'high', 'low', 'close', 'volume']"
   ],
   "metadata": {
    "collapsed": false,
    "pycharm": {
     "name": "#%%\n"
    }
   }
  },
  {
   "cell_type": "code",
   "execution_count": 25,
   "outputs": [],
   "source": [
    "\n",
    "def calculate_diffs(diff_number, col_name):\n",
    "    new_col_name = f'{col_name}_{diff_number}'\n",
    "    data[new_col_name] = data[col_name].diff(diff_number)"
   ],
   "metadata": {
    "collapsed": false,
    "pycharm": {
     "name": "#%%\n"
    }
   }
  },
  {
   "cell_type": "code",
   "execution_count": 26,
   "outputs": [],
   "source": [
    "# for name in important_columns:\n",
    "#     for i in range(1, 11):\n",
    "#         calculate_diffs(i, name)\n",
    "#\n",
    "# data.head(10)"
   ],
   "metadata": {
    "collapsed": false,
    "pycharm": {
     "name": "#%%\n"
    }
   }
  },
  {
   "cell_type": "code",
   "execution_count": 27,
   "outputs": [],
   "source": [
    "data = data.dropna()"
   ],
   "metadata": {
    "collapsed": false,
    "pycharm": {
     "name": "#%%\n"
    }
   }
  },
  {
   "cell_type": "code",
   "execution_count": 28,
   "outputs": [
    {
     "data": {
      "text/plain": "<AxesSubplot:xlabel='Datetime'>"
     },
     "execution_count": 28,
     "metadata": {},
     "output_type": "execute_result"
    },
    {
     "data": {
      "text/plain": "<Figure size 432x288 with 1 Axes>",
      "image/png": "[encoded data removed]"
     },
     "metadata": {
      "needs_background": "light"
     },
     "output_type": "display_data"
    }
   ],
   "source": [
    "data['close'].plot()"
   ],
   "metadata": {
    "collapsed": false,
    "pycharm": {
     "name": "#%%\n"
    }
   }
  },
  {
   "cell_type": "code",
   "execution_count": 29,
   "outputs": [
    {
     "data": {
      "text/plain": "                              open    high      low   close  Adj Close  \\\nDatetime                                                                 \n2019-09-09 04:00:00-04:00  53.3475  53.450  53.3475  53.450     53.450   \n2019-09-09 06:00:00-04:00  53.4150  53.575  53.4150  53.575     53.575   \n2019-09-09 07:00:00-04:00  53.5575  53.575  53.5000  53.500     53.500   \n2019-09-09 08:00:00-04:00  53.5200  53.640  53.5000  53.625     53.625   \n2019-09-09 09:00:00-04:00  53.6125  53.710  53.6125  53.710     53.710   \n\n                           volume  close_pct  \nDatetime                                      \n2019-09-09 04:00:00-04:00       0        NaN  \n2019-09-09 06:00:00-04:00       0   0.002339  \n2019-09-09 07:00:00-04:00       0  -0.001400  \n2019-09-09 08:00:00-04:00       0   0.002336  \n2019-09-09 09:00:00-04:00       0   0.001585  ",
      "text/html": "<div>\n<style scoped>\n    .dataframe tbody tr th:only-of-type {\n        vertical-align: middle;\n    }\n\n    .dataframe tbody tr th {\n        vertical-align: top;\n    }\n\n    .dataframe thead th {\n        text-align: right;\n    }\n</style>\n<table border=\"1\" class=\"dataframe\">\n  <thead>\n    <tr style=\"text-align: right;\">\n      <th></th>\n      <th>open</th>\n      <th>high</th>\n      <th>low</th>\n      <th>close</th>\n      <th>Adj Close</th>\n      <th>volume</th>\n      <th>close_pct</th>\n    </tr>\n    <tr>\n      <th>Datetime</th>\n      <th></th>\n      <th></th>\n      <th></th>\n      <th></th>\n      <th></th>\n      <th></th>\n      <th></th>\n    </tr>\n  </thead>\n  <tbody>\n    <tr>\n      <th>2019-09-09 04:00:00-04:00</th>\n      <td>53.3475</td>\n      <td>53.450</td>\n      <td>53.3475</td>\n      <td>53.450</td>\n      <td>53.450</td>\n      <td>0</td>\n      <td>NaN</td>\n    </tr>\n    <tr>\n      <th>2019-09-09 06:00:00-04:00</th>\n      <td>53.4150</td>\n      <td>53.575</td>\n      <td>53.4150</td>\n      <td>53.575</td>\n      <td>53.575</td>\n      <td>0</td>\n      <td>0.002339</td>\n    </tr>\n    <tr>\n      <th>2019-09-09 07:00:00-04:00</th>\n      <td>53.5575</td>\n      <td>53.575</td>\n      <td>53.5000</td>\n      <td>53.500</td>\n      <td>53.500</td>\n      <td>0</td>\n      <td>-0.001400</td>\n    </tr>\n    <tr>\n      <th>2019-09-09 08:00:00-04:00</th>\n      <td>53.5200</td>\n      <td>53.640</td>\n      <td>53.5000</td>\n      <td>53.625</td>\n      <td>53.625</td>\n      <td>0</td>\n      <td>0.002336</td>\n    </tr>\n    <tr>\n      <th>2019-09-09 09:00:00-04:00</th>\n      <td>53.6125</td>\n      <td>53.710</td>\n      <td>53.6125</td>\n      <td>53.710</td>\n      <td>53.710</td>\n      <td>0</td>\n      <td>0.001585</td>\n    </tr>\n  </tbody>\n</table>\n</div>"
     },
     "execution_count": 29,
     "metadata": {},
     "output_type": "execute_result"
    }
   ],
   "source": [
    "data['close_pct'] = data['close'].pct_change()\n",
    "data.head()"
   ],
   "metadata": {
    "collapsed": false,
    "pycharm": {
     "name": "#%%\n"
    }
   }
  },
  {
   "cell_type": "code",
   "execution_count": 30,
   "outputs": [
    {
     "data": {
      "text/plain": "              open         high          low        close    Adj Close  \\\ncount  8359.000000  8359.000000  8359.000000  8359.000000  8359.000000   \nmean    103.358346   103.781887   102.834140   103.363481   103.363481   \nstd      29.889612    30.241193    29.724124    29.886951    29.886951   \nmin      53.250000    53.287500    50.978220    53.175000    53.175000   \n25%      73.878749    74.180000    73.435000    73.900000    73.900000   \n50%     114.150002   114.610000   113.400000   114.166626   114.166626   \n75%     127.995000   128.452770   127.305000   127.965000   127.965000   \nmax     156.960007   438.440000   156.652100   156.970001   156.970001   \n\n             volume    close_pct  \ncount  8.359000e+03  8358.000000  \nmean   3.867157e+06     0.000145  \nstd    6.970897e+06     0.005818  \nmin    0.000000e+00    -0.085960  \n25%    0.000000e+00    -0.001620  \n50%    0.000000e+00     0.000090  \n75%    5.687158e+06     0.001970  \nmax    9.845401e+07     0.078661  ",
      "text/html": "<div>\n<style scoped>\n    .dataframe tbody tr th:only-of-type {\n        vertical-align: middle;\n    }\n\n    .dataframe tbody tr th {\n        vertical-align: top;\n    }\n\n    .dataframe thead th {\n        text-align: right;\n    }\n</style>\n<table border=\"1\" class=\"dataframe\">\n  <thead>\n    <tr style=\"text-align: right;\">\n      <th></th>\n      <th>open</th>\n      <th>high</th>\n      <th>low</th>\n      <th>close</th>\n      <th>Adj Close</th>\n      <th>volume</th>\n      <th>close_pct</th>\n    </tr>\n  </thead>\n  <tbody>\n    <tr>\n      <th>count</th>\n      <td>8359.000000</td>\n      <td>8359.000000</td>\n      <td>8359.000000</td>\n      <td>8359.000000</td>\n      <td>8359.000000</td>\n      <td>8.359000e+03</td>\n      <td>8358.000000</td>\n    </tr>\n    <tr>\n      <th>mean</th>\n      <td>103.358346</td>\n      <td>103.781887</td>\n      <td>102.834140</td>\n      <td>103.363481</td>\n      <td>103.363481</td>\n      <td>3.867157e+06</td>\n      <td>0.000145</td>\n    </tr>\n    <tr>\n      <th>std</th>\n      <td>29.889612</td>\n      <td>30.241193</td>\n      <td>29.724124</td>\n      <td>29.886951</td>\n      <td>29.886951</td>\n      <td>6.970897e+06</td>\n      <td>0.005818</td>\n    </tr>\n    <tr>\n      <th>min</th>\n      <td>53.250000</td>\n      <td>53.287500</td>\n      <td>50.978220</td>\n      <td>53.175000</td>\n      <td>53.175000</td>\n      <td>0.000000e+00</td>\n      <td>-0.085960</td>\n    </tr>\n    <tr>\n      <th>25%</th>\n      <td>73.878749</td>\n      <td>74.180000</td>\n      <td>73.435000</td>\n      <td>73.900000</td>\n      <td>73.900000</td>\n      <td>0.000000e+00</td>\n      <td>-0.001620</td>\n    </tr>\n    <tr>\n      <th>50%</th>\n      <td>114.150002</td>\n      <td>114.610000</td>\n      <td>113.400000</td>\n      <td>114.166626</td>\n      <td>114.166626</td>\n      <td>0.000000e+00</td>\n      <td>0.000090</td>\n    </tr>\n    <tr>\n      <th>75%</th>\n      <td>127.995000</td>\n      <td>128.452770</td>\n      <td>127.305000</td>\n      <td>127.965000</td>\n      <td>127.965000</td>\n      <td>5.687158e+06</td>\n      <td>0.001970</td>\n    </tr>\n    <tr>\n      <th>max</th>\n      <td>156.960007</td>\n      <td>438.440000</td>\n      <td>156.652100</td>\n      <td>156.970001</td>\n      <td>156.970001</td>\n      <td>9.845401e+07</td>\n      <td>0.078661</td>\n    </tr>\n  </tbody>\n</table>\n</div>"
     },
     "execution_count": 30,
     "metadata": {},
     "output_type": "execute_result"
    }
   ],
   "source": [
    "data.describe()"
   ],
   "metadata": {
    "collapsed": false,
    "pycharm": {
     "name": "#%%\n"
    }
   }
  },
  {
   "cell_type": "code",
   "execution_count": 31,
   "outputs": [],
   "source": [
    "def _get_indicator_data(data):\n",
    "    \"\"\"\n",
    "    Function that uses the finta API to calculate technical indicators used as the features\n",
    "    :return:\n",
    "    \"\"\"\n",
    "\n",
    "    data = add_all_ta_features(\n",
    "        data, open=\"open\", high=\"high\", low=\"low\", close=\"close\", volume=\"volume\", fillna=True)\n",
    "\n",
    "    # Instead of using the actual volume value (which changes over time), we normalize it with a moving volume average\n",
    "    # data['normVol'] = data['volume'] / data['volume'].ewm(5).mean()\n",
    "    # for i in range(1,50):\n",
    "    #     data[f'close{i}'] = data['close'].shift(i)\n",
    "    # Remove columns that won't be used as features\n",
    "    # del (data['Adj Close'])\n",
    "\n",
    "    return data\n"
   ],
   "metadata": {
    "collapsed": false,
    "pycharm": {
     "name": "#%%\n"
    }
   }
  },
  {
   "cell_type": "code",
   "execution_count": 32,
   "outputs": [
    {
     "data": {
      "text/plain": "                                 open        high         low       close  \\\nDatetime                                                                    \n2019-09-09 04:00:00-04:00   53.347500   53.450000   53.347500   53.450000   \n2019-09-09 06:00:00-04:00   53.415000   53.575000   53.415000   53.575000   \n2019-09-09 07:00:00-04:00   53.557500   53.575000   53.500000   53.500000   \n2019-09-09 08:00:00-04:00   53.520000   53.640000   53.500000   53.625000   \n2019-09-09 09:00:00-04:00   53.612500   53.710000   53.612500   53.710000   \n...                               ...         ...         ...         ...   \n2021-09-07 12:30:00-04:00  156.852600  157.259995  156.652100  156.880005   \n2021-09-07 13:30:00-04:00  156.883102  157.100006  156.619995  156.970001   \n2021-09-07 14:30:00-04:00  156.960007  157.100006  156.645004  156.850998   \n2021-09-07 15:30:00-04:00  156.854996  157.080002  156.649994  156.699997   \n2021-09-07 16:00:00-04:00  156.690000  156.857900  152.820000  156.525000   \n\n                            Adj Close   volume  close_pct  \nDatetime                                                   \n2019-09-09 04:00:00-04:00   53.450000        0        NaN  \n2019-09-09 06:00:00-04:00   53.575000        0   0.002339  \n2019-09-09 07:00:00-04:00   53.500000        0  -0.001400  \n2019-09-09 08:00:00-04:00   53.625000        0   0.002336  \n2019-09-09 09:00:00-04:00   53.710000        0   0.001585  \n...                               ...      ...        ...  \n2021-09-07 12:30:00-04:00  156.880005  9173047   0.000191  \n2021-09-07 13:30:00-04:00  156.970001  6010574   0.000574  \n2021-09-07 14:30:00-04:00  156.850998  7046194  -0.000758  \n2021-09-07 15:30:00-04:00  156.699997  7632760  -0.000963  \n2021-09-07 16:00:00-04:00  156.525000  4002481  -0.001117  \n\n[8359 rows x 7 columns]",
      "text/html": "<div>\n<style scoped>\n    .dataframe tbody tr th:only-of-type {\n        vertical-align: middle;\n    }\n\n    .dataframe tbody tr th {\n        vertical-align: top;\n    }\n\n    .dataframe thead th {\n        text-align: right;\n    }\n</style>\n<table border=\"1\" class=\"dataframe\">\n  <thead>\n    <tr style=\"text-align: right;\">\n      <th></th>\n      <th>open</th>\n      <th>high</th>\n      <th>low</th>\n      <th>close</th>\n      <th>Adj Close</th>\n      <th>volume</th>\n      <th>close_pct</th>\n    </tr>\n    <tr>\n      <th>Datetime</th>\n      <th></th>\n      <th></th>\n      <th></th>\n      <th></th>\n      <th></th>\n      <th></th>\n      <th></th>\n    </tr>\n  </thead>\n  <tbody>\n    <tr>\n      <th>2019-09-09 04:00:00-04:00</th>\n      <td>53.347500</td>\n      <td>53.450000</td>\n      <td>53.347500</td>\n      <td>53.450000</td>\n      <td>53.450000</td>\n      <td>0</td>\n      <td>NaN</td>\n    </tr>\n    <tr>\n      <th>2019-09-09 06:00:00-04:00</th>\n      <td>53.415000</td>\n      <td>53.575000</td>\n      <td>53.415000</td>\n      <td>53.575000</td>\n      <td>53.575000</td>\n      <td>0</td>\n      <td>0.002339</td>\n    </tr>\n    <tr>\n      <th>2019-09-09 07:00:00-04:00</th>\n      <td>53.557500</td>\n      <td>53.575000</td>\n      <td>53.500000</td>\n      <td>53.500000</td>\n      <td>53.500000</td>\n      <td>0</td>\n      <td>-0.001400</td>\n    </tr>\n    <tr>\n      <th>2019-09-09 08:00:00-04:00</th>\n      <td>53.520000</td>\n      <td>53.640000</td>\n      <td>53.500000</td>\n      <td>53.625000</td>\n      <td>53.625000</td>\n      <td>0</td>\n      <td>0.002336</td>\n    </tr>\n    <tr>\n      <th>2019-09-09 09:00:00-04:00</th>\n      <td>53.612500</td>\n      <td>53.710000</td>\n      <td>53.612500</td>\n      <td>53.710000</td>\n      <td>53.710000</td>\n      <td>0</td>\n      <td>0.001585</td>\n    </tr>\n    <tr>\n      <th>...</th>\n      <td>...</td>\n      <td>...</td>\n      <td>...</td>\n      <td>...</td>\n      <td>...</td>\n      <td>...</td>\n      <td>...</td>\n    </tr>\n    <tr>\n      <th>2021-09-07 12:30:00-04:00</th>\n      <td>156.852600</td>\n      <td>157.259995</td>\n      <td>156.652100</td>\n      <td>156.880005</td>\n      <td>156.880005</td>\n      <td>9173047</td>\n      <td>0.000191</td>\n    </tr>\n    <tr>\n      <th>2021-09-07 13:30:00-04:00</th>\n      <td>156.883102</td>\n      <td>157.100006</td>\n      <td>156.619995</td>\n      <td>156.970001</td>\n      <td>156.970001</td>\n      <td>6010574</td>\n      <td>0.000574</td>\n    </tr>\n    <tr>\n      <th>2021-09-07 14:30:00-04:00</th>\n      <td>156.960007</td>\n      <td>157.100006</td>\n      <td>156.645004</td>\n      <td>156.850998</td>\n      <td>156.850998</td>\n      <td>7046194</td>\n      <td>-0.000758</td>\n    </tr>\n    <tr>\n      <th>2021-09-07 15:30:00-04:00</th>\n      <td>156.854996</td>\n      <td>157.080002</td>\n      <td>156.649994</td>\n      <td>156.699997</td>\n      <td>156.699997</td>\n      <td>7632760</td>\n      <td>-0.000963</td>\n    </tr>\n    <tr>\n      <th>2021-09-07 16:00:00-04:00</th>\n      <td>156.690000</td>\n      <td>156.857900</td>\n      <td>152.820000</td>\n      <td>156.525000</td>\n      <td>156.525000</td>\n      <td>4002481</td>\n      <td>-0.001117</td>\n    </tr>\n  </tbody>\n</table>\n<p>8359 rows × 7 columns</p>\n</div>"
     },
     "execution_count": 32,
     "metadata": {},
     "output_type": "execute_result"
    }
   ],
   "source": [
    "data"
   ],
   "metadata": {
    "collapsed": false,
    "pycharm": {
     "name": "#%%\n"
    }
   }
  },
  {
   "cell_type": "code",
   "execution_count": 33,
   "outputs": [
    {
     "data": {
      "text/plain": "Index(['open', 'high', 'low', 'close', 'Adj Close', 'volume', 'close_pct'], dtype='object')"
     },
     "execution_count": 33,
     "metadata": {},
     "output_type": "execute_result"
    }
   ],
   "source": [
    "data.columns"
   ],
   "metadata": {
    "collapsed": false,
    "pycharm": {
     "name": "#%%\n"
    }
   }
  },
  {
   "cell_type": "code",
   "execution_count": 34,
   "outputs": [],
   "source": [
    "def create_class_column(row, lowest_threshold, higher_threshold):\n",
    "    if row['close_shift'] - row['close'] > higher_threshold:\n",
    "        return 1\n",
    "    if row['close_shift'] - row['close'] < lowest_threshold:\n",
    "        return -1\n",
    "    else:\n",
    "        return 0"
   ],
   "metadata": {
    "collapsed": false,
    "pycharm": {
     "name": "#%%\n"
    }
   }
  },
  {
   "cell_type": "code",
   "execution_count": 35,
   "outputs": [
    {
     "data": {
      "text/plain": "                                 open        high         low       close  \\\nDatetime                                                                    \n2019-09-09 04:00:00-04:00   53.347500   53.450000   53.347500   53.450000   \n2019-09-09 06:00:00-04:00   53.415000   53.575000   53.415000   53.575000   \n2019-09-09 07:00:00-04:00   53.557500   53.575000   53.500000   53.500000   \n2019-09-09 08:00:00-04:00   53.520000   53.640000   53.500000   53.625000   \n2019-09-09 09:00:00-04:00   53.612500   53.710000   53.612500   53.710000   \n...                               ...         ...         ...         ...   \n2021-09-07 12:30:00-04:00  156.852600  157.259995  156.652100  156.880005   \n2021-09-07 13:30:00-04:00  156.883102  157.100006  156.619995  156.970001   \n2021-09-07 14:30:00-04:00  156.960007  157.100006  156.645004  156.850998   \n2021-09-07 15:30:00-04:00  156.854996  157.080002  156.649994  156.699997   \n2021-09-07 16:00:00-04:00  156.690000  156.857900  152.820000  156.525000   \n\n                            Adj Close   volume  close_pct    open_1    open_2  \\\nDatetime                                                                        \n2019-09-09 04:00:00-04:00   53.450000        0        NaN       NaN       NaN   \n2019-09-09 06:00:00-04:00   53.575000        0   0.002339  0.067500       NaN   \n2019-09-09 07:00:00-04:00   53.500000        0  -0.001400  0.142500  0.210000   \n2019-09-09 08:00:00-04:00   53.625000        0   0.002336 -0.037500  0.105000   \n2019-09-09 09:00:00-04:00   53.710000        0   0.001585  0.092500  0.055000   \n...                               ...      ...        ...       ...       ...   \n2021-09-07 12:30:00-04:00  156.880005  9173047   0.000191  1.372604  1.202606   \n2021-09-07 13:30:00-04:00  156.970001  6010574   0.000574  0.030502  1.403107   \n2021-09-07 14:30:00-04:00  156.850998  7046194  -0.000758  0.076904  0.107407   \n2021-09-07 15:30:00-04:00  156.699997  7632760  -0.000963 -0.105011 -0.028107   \n2021-09-07 16:00:00-04:00  156.525000  4002481  -0.001117 -0.164996 -0.270007   \n\n                             open_3  ...  close_21  close_22  close_23  \\\nDatetime                             ...                                 \n2019-09-09 04:00:00-04:00       NaN  ...       NaN       NaN       NaN   \n2019-09-09 06:00:00-04:00       NaN  ...       NaN       NaN       NaN   \n2019-09-09 07:00:00-04:00       NaN  ...       NaN       NaN       NaN   \n2019-09-09 08:00:00-04:00  0.172500  ...       NaN       NaN       NaN   \n2019-09-09 09:00:00-04:00  0.197500  ...       NaN       NaN       NaN   \n...                             ...  ...       ...       ...       ...   \n2021-09-07 12:30:00-04:00  1.992599  ...  3.130005  2.740005  2.760005   \n2021-09-07 13:30:00-04:00  1.233109  ...  2.910004  3.220001  2.830001   \n2021-09-07 14:30:00-04:00  1.480011  ...  2.769501  2.791000  3.100998   \n2021-09-07 15:30:00-04:00  0.002396  ...  2.664993  2.618500  2.639999   \n2021-09-07 16:00:00-04:00 -0.193102  ...  2.485007  2.489996  2.443503   \n\n                           close_24  close_25  close_26  close_27  close_28  \\\nDatetime                                                                      \n2019-09-09 04:00:00-04:00       NaN       NaN       NaN       NaN       NaN   \n2019-09-09 06:00:00-04:00       NaN       NaN       NaN       NaN       NaN   \n2019-09-09 07:00:00-04:00       NaN       NaN       NaN       NaN       NaN   \n2019-09-09 08:00:00-04:00       NaN       NaN       NaN       NaN       NaN   \n2019-09-09 09:00:00-04:00       NaN       NaN       NaN       NaN       NaN   \n...                             ...       ...       ...       ...       ...   \n2021-09-07 12:30:00-04:00  3.000005  2.940005  2.870005  3.290005  3.190005   \n2021-09-07 13:30:00-04:00  2.850001  3.090001  3.030001  2.960001  3.380001   \n2021-09-07 14:30:00-04:00  2.710998  2.730998  2.970998  2.910998  2.840998   \n2021-09-07 15:30:00-04:00  2.949997  2.559997  2.579997  2.819997  2.759997   \n2021-09-07 16:00:00-04:00  2.465002  2.775000  2.385000  2.405000  2.645000   \n\n                           close_29  close_shift  \nDatetime                                          \n2019-09-09 04:00:00-04:00       NaN      53.1750  \n2019-09-09 06:00:00-04:00       NaN      53.3325  \n2019-09-09 07:00:00-04:00       NaN      53.3500  \n2019-09-09 08:00:00-04:00       NaN      53.5025  \n2019-09-09 09:00:00-04:00       NaN      53.5000  \n...                             ...          ...  \n2021-09-07 12:30:00-04:00  3.280005          NaN  \n2021-09-07 13:30:00-04:00  3.280001          NaN  \n2021-09-07 14:30:00-04:00  3.260998          NaN  \n2021-09-07 15:30:00-04:00  2.689997          NaN  \n2021-09-07 16:00:00-04:00  2.585000          NaN  \n\n[8359 rows x 124 columns]",
      "text/html": "<div>\n<style scoped>\n    .dataframe tbody tr th:only-of-type {\n        vertical-align: middle;\n    }\n\n    .dataframe tbody tr th {\n        vertical-align: top;\n    }\n\n    .dataframe thead th {\n        text-align: right;\n    }\n</style>\n<table border=\"1\" class=\"dataframe\">\n  <thead>\n    <tr style=\"text-align: right;\">\n      <th></th>\n      <th>open</th>\n      <th>high</th>\n      <th>low</th>\n      <th>close</th>\n      <th>Adj Close</th>\n      <th>volume</th>\n      <th>close_pct</th>\n      <th>open_1</th>\n      <th>open_2</th>\n      <th>open_3</th>\n      <th>...</th>\n      <th>close_21</th>\n      <th>close_22</th>\n      <th>close_23</th>\n      <th>close_24</th>\n      <th>close_25</th>\n      <th>close_26</th>\n      <th>close_27</th>\n      <th>close_28</th>\n      <th>close_29</th>\n      <th>close_shift</th>\n    </tr>\n    <tr>\n      <th>Datetime</th>\n      <th></th>\n      <th></th>\n      <th></th>\n      <th></th>\n      <th></th>\n      <th></th>\n      <th></th>\n      <th></th>\n      <th></th>\n      <th></th>\n      <th></th>\n      <th></th>\n      <th></th>\n      <th></th>\n      <th></th>\n      <th></th>\n      <th></th>\n      <th></th>\n      <th></th>\n      <th></th>\n      <th></th>\n    </tr>\n  </thead>\n  <tbody>\n    <tr>\n      <th>2019-09-09 04:00:00-04:00</th>\n      <td>53.347500</td>\n      <td>53.450000</td>\n      <td>53.347500</td>\n      <td>53.450000</td>\n      <td>53.450000</td>\n      <td>0</td>\n      <td>NaN</td>\n      <td>NaN</td>\n      <td>NaN</td>\n      <td>NaN</td>\n      <td>...</td>\n      <td>NaN</td>\n      <td>NaN</td>\n      <td>NaN</td>\n      <td>NaN</td>\n      <td>NaN</td>\n      <td>NaN</td>\n      <td>NaN</td>\n      <td>NaN</td>\n      <td>NaN</td>\n      <td>53.1750</td>\n    </tr>\n    <tr>\n      <th>2019-09-09 06:00:00-04:00</th>\n      <td>53.415000</td>\n      <td>53.575000</td>\n      <td>53.415000</td>\n      <td>53.575000</td>\n      <td>53.575000</td>\n      <td>0</td>\n      <td>0.002339</td>\n      <td>0.067500</td>\n      <td>NaN</td>\n      <td>NaN</td>\n      <td>...</td>\n      <td>NaN</td>\n      <td>NaN</td>\n      <td>NaN</td>\n      <td>NaN</td>\n      <td>NaN</td>\n      <td>NaN</td>\n      <td>NaN</td>\n      <td>NaN</td>\n      <td>NaN</td>\n      <td>53.3325</td>\n    </tr>\n    <tr>\n      <th>2019-09-09 07:00:00-04:00</th>\n      <td>53.557500</td>\n      <td>53.575000</td>\n      <td>53.500000</td>\n      <td>53.500000</td>\n      <td>53.500000</td>\n      <td>0</td>\n      <td>-0.001400</td>\n      <td>0.142500</td>\n      <td>0.210000</td>\n      <td>NaN</td>\n      <td>...</td>\n      <td>NaN</td>\n      <td>NaN</td>\n      <td>NaN</td>\n      <td>NaN</td>\n      <td>NaN</td>\n      <td>NaN</td>\n      <td>NaN</td>\n      <td>NaN</td>\n      <td>NaN</td>\n      <td>53.3500</td>\n    </tr>\n    <tr>\n      <th>2019-09-09 08:00:00-04:00</th>\n      <td>53.520000</td>\n      <td>53.640000</td>\n      <td>53.500000</td>\n      <td>53.625000</td>\n      <td>53.625000</td>\n      <td>0</td>\n      <td>0.002336</td>\n      <td>-0.037500</td>\n      <td>0.105000</td>\n      <td>0.172500</td>\n      <td>...</td>\n      <td>NaN</td>\n      <td>NaN</td>\n      <td>NaN</td>\n      <td>NaN</td>\n      <td>NaN</td>\n      <td>NaN</td>\n      <td>NaN</td>\n      <td>NaN</td>\n      <td>NaN</td>\n      <td>53.5025</td>\n    </tr>\n    <tr>\n      <th>2019-09-09 09:00:00-04:00</th>\n      <td>53.612500</td>\n      <td>53.710000</td>\n      <td>53.612500</td>\n      <td>53.710000</td>\n      <td>53.710000</td>\n      <td>0</td>\n      <td>0.001585</td>\n      <td>0.092500</td>\n      <td>0.055000</td>\n      <td>0.197500</td>\n      <td>...</td>\n      <td>NaN</td>\n      <td>NaN</td>\n      <td>NaN</td>\n      <td>NaN</td>\n      <td>NaN</td>\n      <td>NaN</td>\n      <td>NaN</td>\n      <td>NaN</td>\n      <td>NaN</td>\n      <td>53.5000</td>\n    </tr>\n    <tr>\n      <th>...</th>\n      <td>...</td>\n      <td>...</td>\n      <td>...</td>\n      <td>...</td>\n      <td>...</td>\n      <td>...</td>\n      <td>...</td>\n      <td>...</td>\n      <td>...</td>\n      <td>...</td>\n      <td>...</td>\n      <td>...</td>\n      <td>...</td>\n      <td>...</td>\n      <td>...</td>\n      <td>...</td>\n      <td>...</td>\n      <td>...</td>\n      <td>...</td>\n      <td>...</td>\n      <td>...</td>\n    </tr>\n    <tr>\n      <th>2021-09-07 12:30:00-04:00</th>\n      <td>156.852600</td>\n      <td>157.259995</td>\n      <td>156.652100</td>\n      <td>156.880005</td>\n      <td>156.880005</td>\n      <td>9173047</td>\n      <td>0.000191</td>\n      <td>1.372604</td>\n      <td>1.202606</td>\n      <td>1.992599</td>\n      <td>...</td>\n      <td>3.130005</td>\n      <td>2.740005</td>\n      <td>2.760005</td>\n      <td>3.000005</td>\n      <td>2.940005</td>\n      <td>2.870005</td>\n      <td>3.290005</td>\n      <td>3.190005</td>\n      <td>3.280005</td>\n      <td>NaN</td>\n    </tr>\n    <tr>\n      <th>2021-09-07 13:30:00-04:00</th>\n      <td>156.883102</td>\n      <td>157.100006</td>\n      <td>156.619995</td>\n      <td>156.970001</td>\n      <td>156.970001</td>\n      <td>6010574</td>\n      <td>0.000574</td>\n      <td>0.030502</td>\n      <td>1.403107</td>\n      <td>1.233109</td>\n      <td>...</td>\n      <td>2.910004</td>\n      <td>3.220001</td>\n      <td>2.830001</td>\n      <td>2.850001</td>\n      <td>3.090001</td>\n      <td>3.030001</td>\n      <td>2.960001</td>\n      <td>3.380001</td>\n      <td>3.280001</td>\n      <td>NaN</td>\n    </tr>\n    <tr>\n      <th>2021-09-07 14:30:00-04:00</th>\n      <td>156.960007</td>\n      <td>157.100006</td>\n      <td>156.645004</td>\n      <td>156.850998</td>\n      <td>156.850998</td>\n      <td>7046194</td>\n      <td>-0.000758</td>\n      <td>0.076904</td>\n      <td>0.107407</td>\n      <td>1.480011</td>\n      <td>...</td>\n      <td>2.769501</td>\n      <td>2.791000</td>\n      <td>3.100998</td>\n      <td>2.710998</td>\n      <td>2.730998</td>\n      <td>2.970998</td>\n      <td>2.910998</td>\n      <td>2.840998</td>\n      <td>3.260998</td>\n      <td>NaN</td>\n    </tr>\n    <tr>\n      <th>2021-09-07 15:30:00-04:00</th>\n      <td>156.854996</td>\n      <td>157.080002</td>\n      <td>156.649994</td>\n      <td>156.699997</td>\n      <td>156.699997</td>\n      <td>7632760</td>\n      <td>-0.000963</td>\n      <td>-0.105011</td>\n      <td>-0.028107</td>\n      <td>0.002396</td>\n      <td>...</td>\n      <td>2.664993</td>\n      <td>2.618500</td>\n      <td>2.639999</td>\n      <td>2.949997</td>\n      <td>2.559997</td>\n      <td>2.579997</td>\n      <td>2.819997</td>\n      <td>2.759997</td>\n      <td>2.689997</td>\n      <td>NaN</td>\n    </tr>\n    <tr>\n      <th>2021-09-07 16:00:00-04:00</th>\n      <td>156.690000</td>\n      <td>156.857900</td>\n      <td>152.820000</td>\n      <td>156.525000</td>\n      <td>156.525000</td>\n      <td>4002481</td>\n      <td>-0.001117</td>\n      <td>-0.164996</td>\n      <td>-0.270007</td>\n      <td>-0.193102</td>\n      <td>...</td>\n      <td>2.485007</td>\n      <td>2.489996</td>\n      <td>2.443503</td>\n      <td>2.465002</td>\n      <td>2.775000</td>\n      <td>2.385000</td>\n      <td>2.405000</td>\n      <td>2.645000</td>\n      <td>2.585000</td>\n      <td>NaN</td>\n    </tr>\n  </tbody>\n</table>\n<p>8359 rows × 124 columns</p>\n</div>"
     },
     "execution_count": 35,
     "metadata": {},
     "output_type": "execute_result"
    }
   ],
   "source": [
    "# data = _get_indicator_data(data)\n",
    "# data = _get_indicator_data(data)\n",
    "important_columns = ['open', 'high', 'low','close']\n",
    "\n",
    "\n",
    "for name in important_columns:\n",
    "    for i in range(1, 30):\n",
    "        calculate_diffs(i, name)\n",
    "data['close_shift'] = data.shift(-WINDOW)['close']\n",
    "moved_price = data['close_shift'].copy()\n",
    "data"
   ],
   "metadata": {
    "collapsed": false,
    "pycharm": {
     "name": "#%%\n"
    }
   }
  },
  {
   "cell_type": "code",
   "execution_count": 36,
   "outputs": [
    {
     "data": {
      "text/plain": "Datetime\n2019-09-09 04:00:00-04:00    53.1750\n2019-09-09 06:00:00-04:00    53.3325\n2019-09-09 07:00:00-04:00    53.3500\n2019-09-09 08:00:00-04:00    53.5025\n2019-09-09 09:00:00-04:00    53.5000\n                              ...   \n2021-09-07 12:30:00-04:00        NaN\n2021-09-07 13:30:00-04:00        NaN\n2021-09-07 14:30:00-04:00        NaN\n2021-09-07 15:30:00-04:00        NaN\n2021-09-07 16:00:00-04:00        NaN\nName: close_shift, Length: 8359, dtype: float64"
     },
     "execution_count": 36,
     "metadata": {},
     "output_type": "execute_result"
    }
   ],
   "source": [
    "moved_price\n"
   ],
   "metadata": {
    "collapsed": false,
    "pycharm": {
     "name": "#%%\n"
    }
   }
  },
  {
   "cell_type": "code",
   "execution_count": 37,
   "outputs": [
    {
     "data": {
      "text/plain": "                                 open        high         low       close  \\\nDatetime                                                                    \n2019-09-09 04:00:00-04:00   53.347500   53.450000   53.347500   53.450000   \n2019-09-09 06:00:00-04:00   53.415000   53.575000   53.415000   53.575000   \n2019-09-09 07:00:00-04:00   53.557500   53.575000   53.500000   53.500000   \n2019-09-09 08:00:00-04:00   53.520000   53.640000   53.500000   53.625000   \n2019-09-09 09:00:00-04:00   53.612500   53.710000   53.612500   53.710000   \n...                               ...         ...         ...         ...   \n2021-09-07 12:30:00-04:00  156.852600  157.259995  156.652100  156.880005   \n2021-09-07 13:30:00-04:00  156.883102  157.100006  156.619995  156.970001   \n2021-09-07 14:30:00-04:00  156.960007  157.100006  156.645004  156.850998   \n2021-09-07 15:30:00-04:00  156.854996  157.080002  156.649994  156.699997   \n2021-09-07 16:00:00-04:00  156.690000  156.857900  152.820000  156.525000   \n\n                            Adj Close   volume  close_pct    open_1    open_2  \\\nDatetime                                                                        \n2019-09-09 04:00:00-04:00   53.450000        0        NaN       NaN       NaN   \n2019-09-09 06:00:00-04:00   53.575000        0   0.002339  0.067500       NaN   \n2019-09-09 07:00:00-04:00   53.500000        0  -0.001400  0.142500  0.210000   \n2019-09-09 08:00:00-04:00   53.625000        0   0.002336 -0.037500  0.105000   \n2019-09-09 09:00:00-04:00   53.710000        0   0.001585  0.092500  0.055000   \n...                               ...      ...        ...       ...       ...   \n2021-09-07 12:30:00-04:00  156.880005  9173047   0.000191  1.372604  1.202606   \n2021-09-07 13:30:00-04:00  156.970001  6010574   0.000574  0.030502  1.403107   \n2021-09-07 14:30:00-04:00  156.850998  7046194  -0.000758  0.076904  0.107407   \n2021-09-07 15:30:00-04:00  156.699997  7632760  -0.000963 -0.105011 -0.028107   \n2021-09-07 16:00:00-04:00  156.525000  4002481  -0.001117 -0.164996 -0.270007   \n\n                             open_3  ...  close_22  close_23  close_24  \\\nDatetime                             ...                                 \n2019-09-09 04:00:00-04:00       NaN  ...       NaN       NaN       NaN   \n2019-09-09 06:00:00-04:00       NaN  ...       NaN       NaN       NaN   \n2019-09-09 07:00:00-04:00       NaN  ...       NaN       NaN       NaN   \n2019-09-09 08:00:00-04:00  0.172500  ...       NaN       NaN       NaN   \n2019-09-09 09:00:00-04:00  0.197500  ...       NaN       NaN       NaN   \n...                             ...  ...       ...       ...       ...   \n2021-09-07 12:30:00-04:00  1.992599  ...  2.740005  2.760005  3.000005   \n2021-09-07 13:30:00-04:00  1.233109  ...  3.220001  2.830001  2.850001   \n2021-09-07 14:30:00-04:00  1.480011  ...  2.791000  3.100998  2.710998   \n2021-09-07 15:30:00-04:00  0.002396  ...  2.618500  2.639999  2.949997   \n2021-09-07 16:00:00-04:00 -0.193102  ...  2.489996  2.443503  2.465002   \n\n                           close_25  close_26  close_27  close_28  close_29  \\\nDatetime                                                                      \n2019-09-09 04:00:00-04:00       NaN       NaN       NaN       NaN       NaN   \n2019-09-09 06:00:00-04:00       NaN       NaN       NaN       NaN       NaN   \n2019-09-09 07:00:00-04:00       NaN       NaN       NaN       NaN       NaN   \n2019-09-09 08:00:00-04:00       NaN       NaN       NaN       NaN       NaN   \n2019-09-09 09:00:00-04:00       NaN       NaN       NaN       NaN       NaN   \n...                             ...       ...       ...       ...       ...   \n2021-09-07 12:30:00-04:00  2.940005  2.870005  3.290005  3.190005  3.280005   \n2021-09-07 13:30:00-04:00  3.090001  3.030001  2.960001  3.380001  3.280001   \n2021-09-07 14:30:00-04:00  2.730998  2.970998  2.910998  2.840998  3.260998   \n2021-09-07 15:30:00-04:00  2.559997  2.579997  2.819997  2.759997  2.689997   \n2021-09-07 16:00:00-04:00  2.775000  2.385000  2.405000  2.645000  2.585000   \n\n                           close_shift  class_column  \nDatetime                                              \n2019-09-09 04:00:00-04:00      53.1750             0  \n2019-09-09 06:00:00-04:00      53.3325             0  \n2019-09-09 07:00:00-04:00      53.3500             0  \n2019-09-09 08:00:00-04:00      53.5025             0  \n2019-09-09 09:00:00-04:00      53.5000             0  \n...                                ...           ...  \n2021-09-07 12:30:00-04:00          NaN             0  \n2021-09-07 13:30:00-04:00          NaN             0  \n2021-09-07 14:30:00-04:00          NaN             0  \n2021-09-07 15:30:00-04:00          NaN             0  \n2021-09-07 16:00:00-04:00          NaN             0  \n\n[8359 rows x 125 columns]",
      "text/html": "<div>\n<style scoped>\n    .dataframe tbody tr th:only-of-type {\n        vertical-align: middle;\n    }\n\n    .dataframe tbody tr th {\n        vertical-align: top;\n    }\n\n    .dataframe thead th {\n        text-align: right;\n    }\n</style>\n<table border=\"1\" class=\"dataframe\">\n  <thead>\n    <tr style=\"text-align: right;\">\n      <th></th>\n      <th>open</th>\n      <th>high</th>\n      <th>low</th>\n      <th>close</th>\n      <th>Adj Close</th>\n      <th>volume</th>\n      <th>close_pct</th>\n      <th>open_1</th>\n      <th>open_2</th>\n      <th>open_3</th>\n      <th>...</th>\n      <th>close_22</th>\n      <th>close_23</th>\n      <th>close_24</th>\n      <th>close_25</th>\n      <th>close_26</th>\n      <th>close_27</th>\n      <th>close_28</th>\n      <th>close_29</th>\n      <th>close_shift</th>\n      <th>class_column</th>\n    </tr>\n    <tr>\n      <th>Datetime</th>\n      <th></th>\n      <th></th>\n      <th></th>\n      <th></th>\n      <th></th>\n      <th></th>\n      <th></th>\n      <th></th>\n      <th></th>\n      <th></th>\n      <th></th>\n      <th></th>\n      <th></th>\n      <th></th>\n      <th></th>\n      <th></th>\n      <th></th>\n      <th></th>\n      <th></th>\n      <th></th>\n      <th></th>\n    </tr>\n  </thead>\n  <tbody>\n    <tr>\n      <th>2019-09-09 04:00:00-04:00</th>\n      <td>53.347500</td>\n      <td>53.450000</td>\n      <td>53.347500</td>\n      <td>53.450000</td>\n      <td>53.450000</td>\n      <td>0</td>\n      <td>NaN</td>\n      <td>NaN</td>\n      <td>NaN</td>\n      <td>NaN</td>\n      <td>...</td>\n      <td>NaN</td>\n      <td>NaN</td>\n      <td>NaN</td>\n      <td>NaN</td>\n      <td>NaN</td>\n      <td>NaN</td>\n      <td>NaN</td>\n      <td>NaN</td>\n      <td>53.1750</td>\n      <td>0</td>\n    </tr>\n    <tr>\n      <th>2019-09-09 06:00:00-04:00</th>\n      <td>53.415000</td>\n      <td>53.575000</td>\n      <td>53.415000</td>\n      <td>53.575000</td>\n      <td>53.575000</td>\n      <td>0</td>\n      <td>0.002339</td>\n      <td>0.067500</td>\n      <td>NaN</td>\n      <td>NaN</td>\n      <td>...</td>\n      <td>NaN</td>\n      <td>NaN</td>\n      <td>NaN</td>\n      <td>NaN</td>\n      <td>NaN</td>\n      <td>NaN</td>\n      <td>NaN</td>\n      <td>NaN</td>\n      <td>53.3325</td>\n      <td>0</td>\n    </tr>\n    <tr>\n      <th>2019-09-09 07:00:00-04:00</th>\n      <td>53.557500</td>\n      <td>53.575000</td>\n      <td>53.500000</td>\n      <td>53.500000</td>\n      <td>53.500000</td>\n      <td>0</td>\n      <td>-0.001400</td>\n      <td>0.142500</td>\n      <td>0.210000</td>\n      <td>NaN</td>\n      <td>...</td>\n      <td>NaN</td>\n      <td>NaN</td>\n      <td>NaN</td>\n      <td>NaN</td>\n      <td>NaN</td>\n      <td>NaN</td>\n      <td>NaN</td>\n      <td>NaN</td>\n      <td>53.3500</td>\n      <td>0</td>\n    </tr>\n    <tr>\n      <th>2019-09-09 08:00:00-04:00</th>\n      <td>53.520000</td>\n      <td>53.640000</td>\n      <td>53.500000</td>\n      <td>53.625000</td>\n      <td>53.625000</td>\n      <td>0</td>\n      <td>0.002336</td>\n      <td>-0.037500</td>\n      <td>0.105000</td>\n      <td>0.172500</td>\n      <td>...</td>\n      <td>NaN</td>\n      <td>NaN</td>\n      <td>NaN</td>\n      <td>NaN</td>\n      <td>NaN</td>\n      <td>NaN</td>\n      <td>NaN</td>\n      <td>NaN</td>\n      <td>53.5025</td>\n      <td>0</td>\n    </tr>\n    <tr>\n      <th>2019-09-09 09:00:00-04:00</th>\n      <td>53.612500</td>\n      <td>53.710000</td>\n      <td>53.612500</td>\n      <td>53.710000</td>\n      <td>53.710000</td>\n      <td>0</td>\n      <td>0.001585</td>\n      <td>0.092500</td>\n      <td>0.055000</td>\n      <td>0.197500</td>\n      <td>...</td>\n      <td>NaN</td>\n      <td>NaN</td>\n      <td>NaN</td>\n      <td>NaN</td>\n      <td>NaN</td>\n      <td>NaN</td>\n      <td>NaN</td>\n      <td>NaN</td>\n      <td>53.5000</td>\n      <td>0</td>\n    </tr>\n    <tr>\n      <th>...</th>\n      <td>...</td>\n      <td>...</td>\n      <td>...</td>\n      <td>...</td>\n      <td>...</td>\n      <td>...</td>\n      <td>...</td>\n      <td>...</td>\n      <td>...</td>\n      <td>...</td>\n      <td>...</td>\n      <td>...</td>\n      <td>...</td>\n      <td>...</td>\n      <td>...</td>\n      <td>...</td>\n      <td>...</td>\n      <td>...</td>\n      <td>...</td>\n      <td>...</td>\n      <td>...</td>\n    </tr>\n    <tr>\n      <th>2021-09-07 12:30:00-04:00</th>\n      <td>156.852600</td>\n      <td>157.259995</td>\n      <td>156.652100</td>\n      <td>156.880005</td>\n      <td>156.880005</td>\n      <td>9173047</td>\n      <td>0.000191</td>\n      <td>1.372604</td>\n      <td>1.202606</td>\n      <td>1.992599</td>\n      <td>...</td>\n      <td>2.740005</td>\n      <td>2.760005</td>\n      <td>3.000005</td>\n      <td>2.940005</td>\n      <td>2.870005</td>\n      <td>3.290005</td>\n      <td>3.190005</td>\n      <td>3.280005</td>\n      <td>NaN</td>\n      <td>0</td>\n    </tr>\n    <tr>\n      <th>2021-09-07 13:30:00-04:00</th>\n      <td>156.883102</td>\n      <td>157.100006</td>\n      <td>156.619995</td>\n      <td>156.970001</td>\n      <td>156.970001</td>\n      <td>6010574</td>\n      <td>0.000574</td>\n      <td>0.030502</td>\n      <td>1.403107</td>\n      <td>1.233109</td>\n      <td>...</td>\n      <td>3.220001</td>\n      <td>2.830001</td>\n      <td>2.850001</td>\n      <td>3.090001</td>\n      <td>3.030001</td>\n      <td>2.960001</td>\n      <td>3.380001</td>\n      <td>3.280001</td>\n      <td>NaN</td>\n      <td>0</td>\n    </tr>\n    <tr>\n      <th>2021-09-07 14:30:00-04:00</th>\n      <td>156.960007</td>\n      <td>157.100006</td>\n      <td>156.645004</td>\n      <td>156.850998</td>\n      <td>156.850998</td>\n      <td>7046194</td>\n      <td>-0.000758</td>\n      <td>0.076904</td>\n      <td>0.107407</td>\n      <td>1.480011</td>\n      <td>...</td>\n      <td>2.791000</td>\n      <td>3.100998</td>\n      <td>2.710998</td>\n      <td>2.730998</td>\n      <td>2.970998</td>\n      <td>2.910998</td>\n      <td>2.840998</td>\n      <td>3.260998</td>\n      <td>NaN</td>\n      <td>0</td>\n    </tr>\n    <tr>\n      <th>2021-09-07 15:30:00-04:00</th>\n      <td>156.854996</td>\n      <td>157.080002</td>\n      <td>156.649994</td>\n      <td>156.699997</td>\n      <td>156.699997</td>\n      <td>7632760</td>\n      <td>-0.000963</td>\n      <td>-0.105011</td>\n      <td>-0.028107</td>\n      <td>0.002396</td>\n      <td>...</td>\n      <td>2.618500</td>\n      <td>2.639999</td>\n      <td>2.949997</td>\n      <td>2.559997</td>\n      <td>2.579997</td>\n      <td>2.819997</td>\n      <td>2.759997</td>\n      <td>2.689997</td>\n      <td>NaN</td>\n      <td>0</td>\n    </tr>\n    <tr>\n      <th>2021-09-07 16:00:00-04:00</th>\n      <td>156.690000</td>\n      <td>156.857900</td>\n      <td>152.820000</td>\n      <td>156.525000</td>\n      <td>156.525000</td>\n      <td>4002481</td>\n      <td>-0.001117</td>\n      <td>-0.164996</td>\n      <td>-0.270007</td>\n      <td>-0.193102</td>\n      <td>...</td>\n      <td>2.489996</td>\n      <td>2.443503</td>\n      <td>2.465002</td>\n      <td>2.775000</td>\n      <td>2.385000</td>\n      <td>2.405000</td>\n      <td>2.645000</td>\n      <td>2.585000</td>\n      <td>NaN</td>\n      <td>0</td>\n    </tr>\n  </tbody>\n</table>\n<p>8359 rows × 125 columns</p>\n</div>"
     },
     "execution_count": 37,
     "metadata": {},
     "output_type": "execute_result"
    }
   ],
   "source": [
    "def create_class(df):\n",
    "    higher_threshold = 1.5\n",
    "    lowest_threshold = -1.5\n",
    "    last_values_higher = []\n",
    "    last_values_lower = []\n",
    "    df['class_column'] = df.apply((lambda x: create_class_column(x, lowest_threshold, higher_threshold)), axis=1)\n",
    "    while True:\n",
    "        class_counts = df['class_column'].value_counts()\n",
    "        if abs(class_counts[0] - class_counts[1]) < 15 and abs(class_counts[0] - class_counts[-1]) < 15:\n",
    "            break\n",
    "\n",
    "        if len(last_values_higher) == 3:\n",
    "            last_values_higher.pop(0)\n",
    "        if len(last_values_lower) == 3:\n",
    "            last_values_lower.pop(0)\n",
    "\n",
    "        last_values_higher.append(higher_threshold)\n",
    "        last_values_lower.append(lowest_threshold)\n",
    "        if class_counts[0] > class_counts[1]:\n",
    "            higher_threshold -= 0.01\n",
    "        if class_counts[0] > class_counts[-1]:\n",
    "            lowest_threshold += 0.01\n",
    "        if class_counts[0] < class_counts[1]:\n",
    "            higher_threshold += 0.01\n",
    "        if class_counts[0] < class_counts[-1]:\n",
    "            lowest_threshold -= 0.01\n",
    "\n",
    "        if higher_threshold in last_values_higher and lowest_threshold in last_values_lower:\n",
    "            break\n",
    "        df['class_column'] = df.apply((lambda x: create_class_column(x, lowest_threshold, higher_threshold)),\n",
    "                                      axis=1)\n",
    "    return df\n",
    "\n",
    "\n",
    "data = create_class(data)\n",
    "\n",
    "data\n"
   ],
   "metadata": {
    "collapsed": false,
    "pycharm": {
     "name": "#%%\n"
    }
   }
  },
  {
   "cell_type": "code",
   "execution_count": 38,
   "outputs": [
    {
     "name": "stdout",
     "output_type": "stream",
     "text": [
      "C:\\Users\\exomat\\Desktop\\repo\\magisterka_analiza\\data\\results\\train_test\\AAPL_2y_16_diff_07_09_2021 22_16_47_full.csv\n"
     ]
    }
   ],
   "source": [
    "filename_to_export = f'C:\\\\Users\\\\exomat\\\\Desktop\\\\repo\\\\magisterka_analiza\\\\data\\\\results\\\\train_test\\\\{symbol}_{INTERVAL}_{WINDOW}_diff_{datetime.now().strftime(\"%d_%m_%Y %H_%M_%S\")}_full.csv'\n",
    "data.to_csv(filename_to_export, index=True)\n",
    "print(filename_to_export)"
   ],
   "metadata": {
    "collapsed": false,
    "pycharm": {
     "name": "#%%\n"
    }
   }
  },
  {
   "cell_type": "code",
   "execution_count": 39,
   "outputs": [
    {
     "data": {
      "text/plain": " 0    2815\n 1    2786\n-1    2758\nName: class_column, dtype: int64"
     },
     "execution_count": 39,
     "metadata": {},
     "output_type": "execute_result"
    }
   ],
   "source": [
    "\n",
    "# Class divide\n",
    "data['class_column'].value_counts()"
   ],
   "metadata": {
    "collapsed": false,
    "pycharm": {
     "name": "#%%\n"
    }
   }
  },
  {
   "cell_type": "code",
   "execution_count": 40,
   "outputs": [],
   "source": [
    "# del (data['close'])\n",
    "# del (data['close_shift'])\n",
    "data = data.dropna()"
   ],
   "metadata": {
    "collapsed": false,
    "pycharm": {
     "name": "#%%\n"
    }
   }
  },
  {
   "cell_type": "code",
   "execution_count": 41,
   "outputs": [
    {
     "data": {
      "text/plain": " 0    2781\n 1    2776\n-1    2757\nName: class_column, dtype: int64"
     },
     "execution_count": 41,
     "metadata": {},
     "output_type": "execute_result"
    }
   ],
   "source": [
    "data['class_column'].value_counts()\n"
   ],
   "metadata": {
    "collapsed": false,
    "pycharm": {
     "name": "#%%\n"
    }
   }
  },
  {
   "cell_type": "code",
   "execution_count": 42,
   "outputs": [],
   "source": [
    "def split_dataframe(df, chunk_size=17):\n",
    "    chunks = list()\n",
    "    num_chunks = len(df) // chunk_size + 1\n",
    "    for i in range(num_chunks):\n",
    "        chunks.append(df[i * chunk_size:(i + 1) * chunk_size])\n",
    "    return chunks\n",
    "\n",
    "\n",
    "def train_model(model, train_x, train_y):\n",
    "    model.fit(train_x, train_y)"
   ],
   "metadata": {
    "collapsed": false,
    "pycharm": {
     "name": "#%%\n"
    }
   }
  },
  {
   "cell_type": "code",
   "execution_count": 43,
   "outputs": [
    {
     "data": {
      "text/plain": "490"
     },
     "execution_count": 43,
     "metadata": {},
     "output_type": "execute_result"
    }
   ],
   "source": [
    "splited_dataframe = split_dataframe(data, 17)\n",
    "len(splited_dataframe)"
   ],
   "metadata": {
    "collapsed": false,
    "pycharm": {
     "name": "#%%\n"
    }
   }
  },
  {
   "cell_type": "code",
   "execution_count": 44,
   "outputs": [],
   "source": [
    "y = data['class_column']\n",
    "features = [x for x in data.columns if x not in ['class_column', 'close_shift']]\n",
    "x = data[features]\n",
    "scaler = MinMaxScaler()\n",
    "# x = pd.DataFrame(scaler.fit_transform(x.values), columns=x.columns, index=x.index)\n",
    "x_train, x_test, y_train, y_test = train_test_split(x, y, test_size=0.1, shuffle=False)"
   ],
   "metadata": {
    "collapsed": false,
    "pycharm": {
     "name": "#%%\n"
    }
   }
  },
  {
   "cell_type": "code",
   "execution_count": 45,
   "outputs": [],
   "source": [
    "classifiers = dict()\n",
    "# classifiers['DecisionTreeClassifier 1'] = DecisionTreeClassifier(max_depth=15, random_state=0, criterion='gini',\n",
    "#                                                                  splitter='best')\n",
    "# classifiers['DecisionTreeClassifier 2'] = DecisionTreeClassifier(max_depth=40, random_state=0, criterion='gini',\n",
    "#                                                                  splitter='best')\n",
    "# classifiers['DecisionTreeClassifier 3'] = DecisionTreeClassifier(max_depth=10, random_state=0,criterion='gini',splitter='best')\n",
    "#\n",
    "#\n",
    "# classifiers['RandomForestClassifier 1'] = RandomForestClassifier(n_estimators=1000, max_depth=3, random_state=0,\n",
    "#                                                                  criterion='gini', n_jobs=-1)\n",
    "#\n",
    "# classifiers['RandomForestClassifier 2'] = RandomForestClassifier(n_estimators=1000, max_depth=3, random_state=0,\n",
    "#                                                                  criterion='entropy', n_jobs=-1)\n",
    "#\n",
    "# classifiers['RandomForestClassifier 3'] = RandomForestClassifier(n_estimators=100, max_depth=15, random_state=0,\n",
    "#                                                                  criterion='entropy', n_jobs=-1)\n",
    "#\n",
    "# classifiers['GradientBoostingClassifier 1'] = GradientBoostingClassifier(n_estimators=100, random_state=0,\n",
    "#                                                                          criterion='friedman_mse', max_depth=3,\n",
    "#                                                                          learning_rate=0.1)\n",
    "#\n",
    "# classifiers['GradientBoostingClassifier 2'] = GradientBoostingClassifier(n_estimators=1000, random_state=0,\n",
    "#                                                                          criterion='friedman_mse', max_depth=3,\n",
    "#                                                                          learning_rate=0.5)\n",
    "#\n",
    "# classifiers['XGBRFClassifier 1'] = xgb.sklearn.XGBRFClassifier(n_jobs=-1, max_depth=2, n_estimators=1000, eta=0.2 )\n",
    "classifiers['XGBRFClassifier 2'] = xgb.sklearn.XGBRFClassifier(n_jobs=-1, max_depth=6, n_estimators=1000, eta=0.3)\n",
    "#\n",
    "# classifiers['XGBClassifier 1'] = xgb.XGBClassifier(nthread=-1, max_depth=3, n_estimators=1000, eta=0.2)\n",
    "# classifiers['XGBClassifier 2'] = xgb.XGBClassifier(nthread=-1, max_depth=3, n_estimators=1000, eta=0.3)\n",
    "#\n",
    "classifiers_boosted = dict()\n",
    "# # classifiers_boosted['SGradientBoostingClassifier 1'] = GradientBoostingClassifier(n_estimators=100,random_state=0,criterion='friedman_mse',max_depth=3, learning_rate=0.1)\n",
    "# classifiers_boosted['SXGBClassifier 1'] = xgb.XGBClassifier(nthread=-1, max_depth=3, n_estimators=1000, eta=0.2)\n",
    "# classifiers_boosted['SXGBClassifier 2'] = xgb.XGBClassifier(nthread=-1, max_depth=3, n_estimators=1000, eta=0.3)\n",
    "# classifiers_boosted['SXGBClassifier 3'] = xgb.XGBClassifier(nthread=-1, max_depth=10, n_estimators=1000, eta=0.2)\n"
   ],
   "metadata": {
    "collapsed": false,
    "pycharm": {
     "name": "#%%\n"
    }
   }
  },
  {
   "cell_type": "code",
   "execution_count": 46,
   "outputs": [],
   "source": [
    "\n",
    "def calculate_change(predicted, correct, index):\n",
    "    change_percentage = (((data['close'][index+WINDOW] / data['close'][index])*100)-100)\n",
    "    if (predicted==1):\n",
    "        return change_percentage\n",
    "    if(predicted==0):\n",
    "        return 0\n",
    "    if (predicted== -1 ):\n",
    "        return 0\n",
    "        # return -change_percentage"
   ],
   "metadata": {
    "collapsed": false,
    "pycharm": {
     "name": "#%%\n"
    }
   }
  },
  {
   "cell_type": "code",
   "execution_count": 47,
   "outputs": [
    {
     "data": {
      "text/plain": "<AxesSubplot:xlabel='Datetime'>"
     },
     "execution_count": 47,
     "metadata": {},
     "output_type": "execute_result"
    },
    {
     "data": {
      "text/plain": "<Figure size 432x288 with 1 Axes>",
      "image/png": "[encoded data removed]"
     },
     "metadata": {
      "needs_background": "light"
     },
     "output_type": "display_data"
    }
   ],
   "source": [
    "data['close'][1000:1700].plot()\n"
   ],
   "metadata": {
    "collapsed": false,
    "pycharm": {
     "name": "#%%\n"
    }
   }
  },
  {
   "cell_type": "code",
   "execution_count": 48,
   "outputs": [
    {
     "name": "stdout",
     "output_type": "stream",
     "text": [
      "31\n",
      "start\n",
      "Calculate:  100\n"
     ]
    },
    {
     "name": "stderr",
     "output_type": "stream",
     "text": [
      "C:\\Users\\exomat\\anaconda3\\envs\\magisterka_analiza\\lib\\site-packages\\xgboost\\sklearn.py:888: UserWarning: The use of label encoder in XGBClassifier is deprecated and will be removed in a future release. To remove this warning, do the following: 1) Pass option use_label_encoder=False when constructing XGBClassifier object; and 2) Encode your labels (y) as integers starting with 0, i.e. 0, 1, 2, ..., [num_class - 1].\n",
      "  warnings.warn(label_encoder_deprecation_msg, UserWarning)\n"
     ]
    },
    {
     "name": "stdout",
     "output_type": "stream",
     "text": [
      "[22:16:53] WARNING: C:/Users/Administrator/workspace/xgboost-win64_release_1.3.0/src/learner.cc:1061: Starting in XGBoost 1.3.0, the default evaluation metric used with the objective 'multi:softprob' was changed from 'merror' to 'mlogloss'. Explicitly set eval_metric if you'd like to restore the old behavior.\n",
      "[22:16:54] WARNING: C:/Users/Administrator/workspace/xgboost-win64_release_1.3.0/src/learner.cc:1061: Starting in XGBoost 1.3.0, the default evaluation metric used with the objective 'multi:softprob' was changed from 'merror' to 'mlogloss'. Explicitly set eval_metric if you'd like to restore the old behavior.\n",
      "[22:16:55] WARNING: C:/Users/Administrator/workspace/xgboost-win64_release_1.3.0/src/learner.cc:1061: Starting in XGBoost 1.3.0, the default evaluation metric used with the objective 'multi:softprob' was changed from 'merror' to 'mlogloss'. Explicitly set eval_metric if you'd like to restore the old behavior.\n",
      "[22:16:57] WARNING: C:/Users/Administrator/workspace/xgboost-win64_release_1.3.0/src/learner.cc:1061: Starting in XGBoost 1.3.0, the default evaluation metric used with the objective 'multi:softprob' was changed from 'merror' to 'mlogloss'. Explicitly set eval_metric if you'd like to restore the old behavior.\n",
      "[22:16:58] WARNING: C:/Users/Administrator/workspace/xgboost-win64_release_1.3.0/src/learner.cc:1061: Starting in XGBoost 1.3.0, the default evaluation metric used with the objective 'multi:softprob' was changed from 'merror' to 'mlogloss'. Explicitly set eval_metric if you'd like to restore the old behavior.\n",
      "[22:16:59] WARNING: C:/Users/Administrator/workspace/xgboost-win64_release_1.3.0/src/learner.cc:1061: Starting in XGBoost 1.3.0, the default evaluation metric used with the objective 'multi:softprob' was changed from 'merror' to 'mlogloss'. Explicitly set eval_metric if you'd like to restore the old behavior.\n",
      "[22:17:01] WARNING: C:/Users/Administrator/workspace/xgboost-win64_release_1.3.0/src/learner.cc:1061: Starting in XGBoost 1.3.0, the default evaluation metric used with the objective 'multi:softprob' was changed from 'merror' to 'mlogloss'. Explicitly set eval_metric if you'd like to restore the old behavior.\n",
      "[22:17:02] WARNING: C:/Users/Administrator/workspace/xgboost-win64_release_1.3.0/src/learner.cc:1061: Starting in XGBoost 1.3.0, the default evaluation metric used with the objective 'multi:softprob' was changed from 'merror' to 'mlogloss'. Explicitly set eval_metric if you'd like to restore the old behavior.\n",
      "[22:17:03] WARNING: C:/Users/Administrator/workspace/xgboost-win64_release_1.3.0/src/learner.cc:1061: Starting in XGBoost 1.3.0, the default evaluation metric used with the objective 'multi:softprob' was changed from 'merror' to 'mlogloss'. Explicitly set eval_metric if you'd like to restore the old behavior.\n",
      "[22:17:05] WARNING: C:/Users/Administrator/workspace/xgboost-win64_release_1.3.0/src/learner.cc:1061: Starting in XGBoost 1.3.0, the default evaluation metric used with the objective 'multi:softprob' was changed from 'merror' to 'mlogloss'. Explicitly set eval_metric if you'd like to restore the old behavior.\n",
      "[22:17:06] WARNING: C:/Users/Administrator/workspace/xgboost-win64_release_1.3.0/src/learner.cc:1061: Starting in XGBoost 1.3.0, the default evaluation metric used with the objective 'multi:softprob' was changed from 'merror' to 'mlogloss'. Explicitly set eval_metric if you'd like to restore the old behavior.\n",
      "[22:17:07] WARNING: C:/Users/Administrator/workspace/xgboost-win64_release_1.3.0/src/learner.cc:1061: Starting in XGBoost 1.3.0, the default evaluation metric used with the objective 'multi:softprob' was changed from 'merror' to 'mlogloss'. Explicitly set eval_metric if you'd like to restore the old behavior.\n",
      "[22:17:09] WARNING: C:/Users/Administrator/workspace/xgboost-win64_release_1.3.0/src/learner.cc:1061: Starting in XGBoost 1.3.0, the default evaluation metric used with the objective 'multi:softprob' was changed from 'merror' to 'mlogloss'. Explicitly set eval_metric if you'd like to restore the old behavior.\n",
      "[22:17:10] WARNING: C:/Users/Administrator/workspace/xgboost-win64_release_1.3.0/src/learner.cc:1061: Starting in XGBoost 1.3.0, the default evaluation metric used with the objective 'multi:softprob' was changed from 'merror' to 'mlogloss'. Explicitly set eval_metric if you'd like to restore the old behavior.\n",
      "[22:17:11] WARNING: C:/Users/Administrator/workspace/xgboost-win64_release_1.3.0/src/learner.cc:1061: Starting in XGBoost 1.3.0, the default evaluation metric used with the objective 'multi:softprob' was changed from 'merror' to 'mlogloss'. Explicitly set eval_metric if you'd like to restore the old behavior.\n",
      "[22:17:13] WARNING: C:/Users/Administrator/workspace/xgboost-win64_release_1.3.0/src/learner.cc:1061: Starting in XGBoost 1.3.0, the default evaluation metric used with the objective 'multi:softprob' was changed from 'merror' to 'mlogloss'. Explicitly set eval_metric if you'd like to restore the old behavior.\n",
      "[22:17:14] WARNING: C:/Users/Administrator/workspace/xgboost-win64_release_1.3.0/src/learner.cc:1061: Starting in XGBoost 1.3.0, the default evaluation metric used with the objective 'multi:softprob' was changed from 'merror' to 'mlogloss'. Explicitly set eval_metric if you'd like to restore the old behavior.\n",
      "Calculate:  101\n",
      "[22:17:19] WARNING: C:/Users/Administrator/workspace/xgboost-win64_release_1.3.0/src/learner.cc:1061: Starting in XGBoost 1.3.0, the default evaluation metric used with the objective 'multi:softprob' was changed from 'merror' to 'mlogloss'. Explicitly set eval_metric if you'd like to restore the old behavior.\n",
      "[22:17:20] WARNING: C:/Users/Administrator/workspace/xgboost-win64_release_1.3.0/src/learner.cc:1061: Starting in XGBoost 1.3.0, the default evaluation metric used with the objective 'multi:softprob' was changed from 'merror' to 'mlogloss'. Explicitly set eval_metric if you'd like to restore the old behavior.\n",
      "[22:17:21] WARNING: C:/Users/Administrator/workspace/xgboost-win64_release_1.3.0/src/learner.cc:1061: Starting in XGBoost 1.3.0, the default evaluation metric used with the objective 'multi:softprob' was changed from 'merror' to 'mlogloss'. Explicitly set eval_metric if you'd like to restore the old behavior.\n",
      "[22:17:23] WARNING: C:/Users/Administrator/workspace/xgboost-win64_release_1.3.0/src/learner.cc:1061: Starting in XGBoost 1.3.0, the default evaluation metric used with the objective 'multi:softprob' was changed from 'merror' to 'mlogloss'. Explicitly set eval_metric if you'd like to restore the old behavior.\n",
      "[22:17:24] WARNING: C:/Users/Administrator/workspace/xgboost-win64_release_1.3.0/src/learner.cc:1061: Starting in XGBoost 1.3.0, the default evaluation metric used with the objective 'multi:softprob' was changed from 'merror' to 'mlogloss'. Explicitly set eval_metric if you'd like to restore the old behavior.\n",
      "[22:17:26] WARNING: C:/Users/Administrator/workspace/xgboost-win64_release_1.3.0/src/learner.cc:1061: Starting in XGBoost 1.3.0, the default evaluation metric used with the objective 'multi:softprob' was changed from 'merror' to 'mlogloss'. Explicitly set eval_metric if you'd like to restore the old behavior.\n",
      "[22:17:27] WARNING: C:/Users/Administrator/workspace/xgboost-win64_release_1.3.0/src/learner.cc:1061: Starting in XGBoost 1.3.0, the default evaluation metric used with the objective 'multi:softprob' was changed from 'merror' to 'mlogloss'. Explicitly set eval_metric if you'd like to restore the old behavior.\n",
      "[22:17:28] WARNING: C:/Users/Administrator/workspace/xgboost-win64_release_1.3.0/src/learner.cc:1061: Starting in XGBoost 1.3.0, the default evaluation metric used with the objective 'multi:softprob' was changed from 'merror' to 'mlogloss'. Explicitly set eval_metric if you'd like to restore the old behavior.\n",
      "[22:17:30] WARNING: C:/Users/Administrator/workspace/xgboost-win64_release_1.3.0/src/learner.cc:1061: Starting in XGBoost 1.3.0, the default evaluation metric used with the objective 'multi:softprob' was changed from 'merror' to 'mlogloss'. Explicitly set eval_metric if you'd like to restore the old behavior.\n",
      "[22:17:31] WARNING: C:/Users/Administrator/workspace/xgboost-win64_release_1.3.0/src/learner.cc:1061: Starting in XGBoost 1.3.0, the default evaluation metric used with the objective 'multi:softprob' was changed from 'merror' to 'mlogloss'. Explicitly set eval_metric if you'd like to restore the old behavior.\n",
      "[22:17:32] WARNING: C:/Users/Administrator/workspace/xgboost-win64_release_1.3.0/src/learner.cc:1061: Starting in XGBoost 1.3.0, the default evaluation metric used with the objective 'multi:softprob' was changed from 'merror' to 'mlogloss'. Explicitly set eval_metric if you'd like to restore the old behavior.\n",
      "[22:17:33] WARNING: C:/Users/Administrator/workspace/xgboost-win64_release_1.3.0/src/learner.cc:1061: Starting in XGBoost 1.3.0, the default evaluation metric used with the objective 'multi:softprob' was changed from 'merror' to 'mlogloss'. Explicitly set eval_metric if you'd like to restore the old behavior.\n",
      "[22:17:35] WARNING: C:/Users/Administrator/workspace/xgboost-win64_release_1.3.0/src/learner.cc:1061: Starting in XGBoost 1.3.0, the default evaluation metric used with the objective 'multi:softprob' was changed from 'merror' to 'mlogloss'. Explicitly set eval_metric if you'd like to restore the old behavior.\n",
      "[22:17:36] WARNING: C:/Users/Administrator/workspace/xgboost-win64_release_1.3.0/src/learner.cc:1061: Starting in XGBoost 1.3.0, the default evaluation metric used with the objective 'multi:softprob' was changed from 'merror' to 'mlogloss'. Explicitly set eval_metric if you'd like to restore the old behavior.\n",
      "[22:17:37] WARNING: C:/Users/Administrator/workspace/xgboost-win64_release_1.3.0/src/learner.cc:1061: Starting in XGBoost 1.3.0, the default evaluation metric used with the objective 'multi:softprob' was changed from 'merror' to 'mlogloss'. Explicitly set eval_metric if you'd like to restore the old behavior.\n",
      "[22:17:39] WARNING: C:/Users/Administrator/workspace/xgboost-win64_release_1.3.0/src/learner.cc:1061: Starting in XGBoost 1.3.0, the default evaluation metric used with the objective 'multi:softprob' was changed from 'merror' to 'mlogloss'. Explicitly set eval_metric if you'd like to restore the old behavior.\n",
      "[22:17:40] WARNING: C:/Users/Administrator/workspace/xgboost-win64_release_1.3.0/src/learner.cc:1061: Starting in XGBoost 1.3.0, the default evaluation metric used with the objective 'multi:softprob' was changed from 'merror' to 'mlogloss'. Explicitly set eval_metric if you'd like to restore the old behavior.\n",
      "Calculate:  102\n",
      "[22:17:45] WARNING: C:/Users/Administrator/workspace/xgboost-win64_release_1.3.0/src/learner.cc:1061: Starting in XGBoost 1.3.0, the default evaluation metric used with the objective 'multi:softprob' was changed from 'merror' to 'mlogloss'. Explicitly set eval_metric if you'd like to restore the old behavior.\n",
      "[22:17:47] WARNING: C:/Users/Administrator/workspace/xgboost-win64_release_1.3.0/src/learner.cc:1061: Starting in XGBoost 1.3.0, the default evaluation metric used with the objective 'multi:softprob' was changed from 'merror' to 'mlogloss'. Explicitly set eval_metric if you'd like to restore the old behavior.\n",
      "[22:17:48] WARNING: C:/Users/Administrator/workspace/xgboost-win64_release_1.3.0/src/learner.cc:1061: Starting in XGBoost 1.3.0, the default evaluation metric used with the objective 'multi:softprob' was changed from 'merror' to 'mlogloss'. Explicitly set eval_metric if you'd like to restore the old behavior.\n",
      "[22:17:49] WARNING: C:/Users/Administrator/workspace/xgboost-win64_release_1.3.0/src/learner.cc:1061: Starting in XGBoost 1.3.0, the default evaluation metric used with the objective 'multi:softprob' was changed from 'merror' to 'mlogloss'. Explicitly set eval_metric if you'd like to restore the old behavior.\n",
      "[22:17:51] WARNING: C:/Users/Administrator/workspace/xgboost-win64_release_1.3.0/src/learner.cc:1061: Starting in XGBoost 1.3.0, the default evaluation metric used with the objective 'multi:softprob' was changed from 'merror' to 'mlogloss'. Explicitly set eval_metric if you'd like to restore the old behavior.\n",
      "[22:17:52] WARNING: C:/Users/Administrator/workspace/xgboost-win64_release_1.3.0/src/learner.cc:1061: Starting in XGBoost 1.3.0, the default evaluation metric used with the objective 'multi:softprob' was changed from 'merror' to 'mlogloss'. Explicitly set eval_metric if you'd like to restore the old behavior.\n",
      "[22:17:54] WARNING: C:/Users/Administrator/workspace/xgboost-win64_release_1.3.0/src/learner.cc:1061: Starting in XGBoost 1.3.0, the default evaluation metric used with the objective 'multi:softprob' was changed from 'merror' to 'mlogloss'. Explicitly set eval_metric if you'd like to restore the old behavior.\n",
      "[22:17:55] WARNING: C:/Users/Administrator/workspace/xgboost-win64_release_1.3.0/src/learner.cc:1061: Starting in XGBoost 1.3.0, the default evaluation metric used with the objective 'multi:softprob' was changed from 'merror' to 'mlogloss'. Explicitly set eval_metric if you'd like to restore the old behavior.\n",
      "[22:17:56] WARNING: C:/Users/Administrator/workspace/xgboost-win64_release_1.3.0/src/learner.cc:1061: Starting in XGBoost 1.3.0, the default evaluation metric used with the objective 'multi:softprob' was changed from 'merror' to 'mlogloss'. Explicitly set eval_metric if you'd like to restore the old behavior.\n",
      "[22:17:58] WARNING: C:/Users/Administrator/workspace/xgboost-win64_release_1.3.0/src/learner.cc:1061: Starting in XGBoost 1.3.0, the default evaluation metric used with the objective 'multi:softprob' was changed from 'merror' to 'mlogloss'. Explicitly set eval_metric if you'd like to restore the old behavior.\n",
      "[22:17:59] WARNING: C:/Users/Administrator/workspace/xgboost-win64_release_1.3.0/src/learner.cc:1061: Starting in XGBoost 1.3.0, the default evaluation metric used with the objective 'multi:softprob' was changed from 'merror' to 'mlogloss'. Explicitly set eval_metric if you'd like to restore the old behavior.\n",
      "[22:18:01] WARNING: C:/Users/Administrator/workspace/xgboost-win64_release_1.3.0/src/learner.cc:1061: Starting in XGBoost 1.3.0, the default evaluation metric used with the objective 'multi:softprob' was changed from 'merror' to 'mlogloss'. Explicitly set eval_metric if you'd like to restore the old behavior.\n",
      "[22:18:02] WARNING: C:/Users/Administrator/workspace/xgboost-win64_release_1.3.0/src/learner.cc:1061: Starting in XGBoost 1.3.0, the default evaluation metric used with the objective 'multi:softprob' was changed from 'merror' to 'mlogloss'. Explicitly set eval_metric if you'd like to restore the old behavior.\n",
      "[22:18:03] WARNING: C:/Users/Administrator/workspace/xgboost-win64_release_1.3.0/src/learner.cc:1061: Starting in XGBoost 1.3.0, the default evaluation metric used with the objective 'multi:softprob' was changed from 'merror' to 'mlogloss'. Explicitly set eval_metric if you'd like to restore the old behavior.\n",
      "[22:18:05] WARNING: C:/Users/Administrator/workspace/xgboost-win64_release_1.3.0/src/learner.cc:1061: Starting in XGBoost 1.3.0, the default evaluation metric used with the objective 'multi:softprob' was changed from 'merror' to 'mlogloss'. Explicitly set eval_metric if you'd like to restore the old behavior.\n",
      "[22:18:06] WARNING: C:/Users/Administrator/workspace/xgboost-win64_release_1.3.0/src/learner.cc:1061: Starting in XGBoost 1.3.0, the default evaluation metric used with the objective 'multi:softprob' was changed from 'merror' to 'mlogloss'. Explicitly set eval_metric if you'd like to restore the old behavior.\n",
      "[22:18:08] WARNING: C:/Users/Administrator/workspace/xgboost-win64_release_1.3.0/src/learner.cc:1061: Starting in XGBoost 1.3.0, the default evaluation metric used with the objective 'multi:softprob' was changed from 'merror' to 'mlogloss'. Explicitly set eval_metric if you'd like to restore the old behavior.\n",
      "Calculate:  103\n",
      "[22:18:13] WARNING: C:/Users/Administrator/workspace/xgboost-win64_release_1.3.0/src/learner.cc:1061: Starting in XGBoost 1.3.0, the default evaluation metric used with the objective 'multi:softprob' was changed from 'merror' to 'mlogloss'. Explicitly set eval_metric if you'd like to restore the old behavior.\n",
      "[22:18:14] WARNING: C:/Users/Administrator/workspace/xgboost-win64_release_1.3.0/src/learner.cc:1061: Starting in XGBoost 1.3.0, the default evaluation metric used with the objective 'multi:softprob' was changed from 'merror' to 'mlogloss'. Explicitly set eval_metric if you'd like to restore the old behavior.\n",
      "[22:18:15] WARNING: C:/Users/Administrator/workspace/xgboost-win64_release_1.3.0/src/learner.cc:1061: Starting in XGBoost 1.3.0, the default evaluation metric used with the objective 'multi:softprob' was changed from 'merror' to 'mlogloss'. Explicitly set eval_metric if you'd like to restore the old behavior.\n",
      "[22:18:17] WARNING: C:/Users/Administrator/workspace/xgboost-win64_release_1.3.0/src/learner.cc:1061: Starting in XGBoost 1.3.0, the default evaluation metric used with the objective 'multi:softprob' was changed from 'merror' to 'mlogloss'. Explicitly set eval_metric if you'd like to restore the old behavior.\n",
      "[22:18:18] WARNING: C:/Users/Administrator/workspace/xgboost-win64_release_1.3.0/src/learner.cc:1061: Starting in XGBoost 1.3.0, the default evaluation metric used with the objective 'multi:softprob' was changed from 'merror' to 'mlogloss'. Explicitly set eval_metric if you'd like to restore the old behavior.\n",
      "[22:18:19] WARNING: C:/Users/Administrator/workspace/xgboost-win64_release_1.3.0/src/learner.cc:1061: Starting in XGBoost 1.3.0, the default evaluation metric used with the objective 'multi:softprob' was changed from 'merror' to 'mlogloss'. Explicitly set eval_metric if you'd like to restore the old behavior.\n",
      "[22:18:21] WARNING: C:/Users/Administrator/workspace/xgboost-win64_release_1.3.0/src/learner.cc:1061: Starting in XGBoost 1.3.0, the default evaluation metric used with the objective 'multi:softprob' was changed from 'merror' to 'mlogloss'. Explicitly set eval_metric if you'd like to restore the old behavior.\n",
      "[22:18:22] WARNING: C:/Users/Administrator/workspace/xgboost-win64_release_1.3.0/src/learner.cc:1061: Starting in XGBoost 1.3.0, the default evaluation metric used with the objective 'multi:softprob' was changed from 'merror' to 'mlogloss'. Explicitly set eval_metric if you'd like to restore the old behavior.\n",
      "[22:18:24] WARNING: C:/Users/Administrator/workspace/xgboost-win64_release_1.3.0/src/learner.cc:1061: Starting in XGBoost 1.3.0, the default evaluation metric used with the objective 'multi:softprob' was changed from 'merror' to 'mlogloss'. Explicitly set eval_metric if you'd like to restore the old behavior.\n",
      "[22:18:25] WARNING: C:/Users/Administrator/workspace/xgboost-win64_release_1.3.0/src/learner.cc:1061: Starting in XGBoost 1.3.0, the default evaluation metric used with the objective 'multi:softprob' was changed from 'merror' to 'mlogloss'. Explicitly set eval_metric if you'd like to restore the old behavior.\n",
      "[22:18:26] WARNING: C:/Users/Administrator/workspace/xgboost-win64_release_1.3.0/src/learner.cc:1061: Starting in XGBoost 1.3.0, the default evaluation metric used with the objective 'multi:softprob' was changed from 'merror' to 'mlogloss'. Explicitly set eval_metric if you'd like to restore the old behavior.\n",
      "[22:18:28] WARNING: C:/Users/Administrator/workspace/xgboost-win64_release_1.3.0/src/learner.cc:1061: Starting in XGBoost 1.3.0, the default evaluation metric used with the objective 'multi:softprob' was changed from 'merror' to 'mlogloss'. Explicitly set eval_metric if you'd like to restore the old behavior.\n",
      "[22:18:29] WARNING: C:/Users/Administrator/workspace/xgboost-win64_release_1.3.0/src/learner.cc:1061: Starting in XGBoost 1.3.0, the default evaluation metric used with the objective 'multi:softprob' was changed from 'merror' to 'mlogloss'. Explicitly set eval_metric if you'd like to restore the old behavior.\n",
      "[22:18:30] WARNING: C:/Users/Administrator/workspace/xgboost-win64_release_1.3.0/src/learner.cc:1061: Starting in XGBoost 1.3.0, the default evaluation metric used with the objective 'multi:softprob' was changed from 'merror' to 'mlogloss'. Explicitly set eval_metric if you'd like to restore the old behavior.\n",
      "[22:18:32] WARNING: C:/Users/Administrator/workspace/xgboost-win64_release_1.3.0/src/learner.cc:1061: Starting in XGBoost 1.3.0, the default evaluation metric used with the objective 'multi:softprob' was changed from 'merror' to 'mlogloss'. Explicitly set eval_metric if you'd like to restore the old behavior.\n",
      "[22:18:33] WARNING: C:/Users/Administrator/workspace/xgboost-win64_release_1.3.0/src/learner.cc:1061: Starting in XGBoost 1.3.0, the default evaluation metric used with the objective 'multi:softprob' was changed from 'merror' to 'mlogloss'. Explicitly set eval_metric if you'd like to restore the old behavior.\n",
      "[22:18:34] WARNING: C:/Users/Administrator/workspace/xgboost-win64_release_1.3.0/src/learner.cc:1061: Starting in XGBoost 1.3.0, the default evaluation metric used with the objective 'multi:softprob' was changed from 'merror' to 'mlogloss'. Explicitly set eval_metric if you'd like to restore the old behavior.\n",
      "Calculate:  104\n",
      "[22:18:40] WARNING: C:/Users/Administrator/workspace/xgboost-win64_release_1.3.0/src/learner.cc:1061: Starting in XGBoost 1.3.0, the default evaluation metric used with the objective 'multi:softprob' was changed from 'merror' to 'mlogloss'. Explicitly set eval_metric if you'd like to restore the old behavior.\n",
      "[22:18:41] WARNING: C:/Users/Administrator/workspace/xgboost-win64_release_1.3.0/src/learner.cc:1061: Starting in XGBoost 1.3.0, the default evaluation metric used with the objective 'multi:softprob' was changed from 'merror' to 'mlogloss'. Explicitly set eval_metric if you'd like to restore the old behavior.\n",
      "[22:18:42] WARNING: C:/Users/Administrator/workspace/xgboost-win64_release_1.3.0/src/learner.cc:1061: Starting in XGBoost 1.3.0, the default evaluation metric used with the objective 'multi:softprob' was changed from 'merror' to 'mlogloss'. Explicitly set eval_metric if you'd like to restore the old behavior.\n",
      "[22:18:44] WARNING: C:/Users/Administrator/workspace/xgboost-win64_release_1.3.0/src/learner.cc:1061: Starting in XGBoost 1.3.0, the default evaluation metric used with the objective 'multi:softprob' was changed from 'merror' to 'mlogloss'. Explicitly set eval_metric if you'd like to restore the old behavior.\n",
      "[22:18:45] WARNING: C:/Users/Administrator/workspace/xgboost-win64_release_1.3.0/src/learner.cc:1061: Starting in XGBoost 1.3.0, the default evaluation metric used with the objective 'multi:softprob' was changed from 'merror' to 'mlogloss'. Explicitly set eval_metric if you'd like to restore the old behavior.\n",
      "[22:18:46] WARNING: C:/Users/Administrator/workspace/xgboost-win64_release_1.3.0/src/learner.cc:1061: Starting in XGBoost 1.3.0, the default evaluation metric used with the objective 'multi:softprob' was changed from 'merror' to 'mlogloss'. Explicitly set eval_metric if you'd like to restore the old behavior.\n",
      "[22:18:48] WARNING: C:/Users/Administrator/workspace/xgboost-win64_release_1.3.0/src/learner.cc:1061: Starting in XGBoost 1.3.0, the default evaluation metric used with the objective 'multi:softprob' was changed from 'merror' to 'mlogloss'. Explicitly set eval_metric if you'd like to restore the old behavior.\n",
      "[22:18:49] WARNING: C:/Users/Administrator/workspace/xgboost-win64_release_1.3.0/src/learner.cc:1061: Starting in XGBoost 1.3.0, the default evaluation metric used with the objective 'multi:softprob' was changed from 'merror' to 'mlogloss'. Explicitly set eval_metric if you'd like to restore the old behavior.\n",
      "[22:18:50] WARNING: C:/Users/Administrator/workspace/xgboost-win64_release_1.3.0/src/learner.cc:1061: Starting in XGBoost 1.3.0, the default evaluation metric used with the objective 'multi:softprob' was changed from 'merror' to 'mlogloss'. Explicitly set eval_metric if you'd like to restore the old behavior.\n",
      "[22:18:52] WARNING: C:/Users/Administrator/workspace/xgboost-win64_release_1.3.0/src/learner.cc:1061: Starting in XGBoost 1.3.0, the default evaluation metric used with the objective 'multi:softprob' was changed from 'merror' to 'mlogloss'. Explicitly set eval_metric if you'd like to restore the old behavior.\n",
      "[22:18:54] WARNING: C:/Users/Administrator/workspace/xgboost-win64_release_1.3.0/src/learner.cc:1061: Starting in XGBoost 1.3.0, the default evaluation metric used with the objective 'multi:softprob' was changed from 'merror' to 'mlogloss'. Explicitly set eval_metric if you'd like to restore the old behavior.\n",
      "[22:18:55] WARNING: C:/Users/Administrator/workspace/xgboost-win64_release_1.3.0/src/learner.cc:1061: Starting in XGBoost 1.3.0, the default evaluation metric used with the objective 'multi:softprob' was changed from 'merror' to 'mlogloss'. Explicitly set eval_metric if you'd like to restore the old behavior.\n",
      "[22:18:56] WARNING: C:/Users/Administrator/workspace/xgboost-win64_release_1.3.0/src/learner.cc:1061: Starting in XGBoost 1.3.0, the default evaluation metric used with the objective 'multi:softprob' was changed from 'merror' to 'mlogloss'. Explicitly set eval_metric if you'd like to restore the old behavior.\n",
      "[22:18:58] WARNING: C:/Users/Administrator/workspace/xgboost-win64_release_1.3.0/src/learner.cc:1061: Starting in XGBoost 1.3.0, the default evaluation metric used with the objective 'multi:softprob' was changed from 'merror' to 'mlogloss'. Explicitly set eval_metric if you'd like to restore the old behavior.\n",
      "[22:18:59] WARNING: C:/Users/Administrator/workspace/xgboost-win64_release_1.3.0/src/learner.cc:1061: Starting in XGBoost 1.3.0, the default evaluation metric used with the objective 'multi:softprob' was changed from 'merror' to 'mlogloss'. Explicitly set eval_metric if you'd like to restore the old behavior.\n",
      "[22:19:00] WARNING: C:/Users/Administrator/workspace/xgboost-win64_release_1.3.0/src/learner.cc:1061: Starting in XGBoost 1.3.0, the default evaluation metric used with the objective 'multi:softprob' was changed from 'merror' to 'mlogloss'. Explicitly set eval_metric if you'd like to restore the old behavior.\n",
      "[22:19:02] WARNING: C:/Users/Administrator/workspace/xgboost-win64_release_1.3.0/src/learner.cc:1061: Starting in XGBoost 1.3.0, the default evaluation metric used with the objective 'multi:softprob' was changed from 'merror' to 'mlogloss'. Explicitly set eval_metric if you'd like to restore the old behavior.\n",
      "Calculate:  105\n",
      "[22:19:07] WARNING: C:/Users/Administrator/workspace/xgboost-win64_release_1.3.0/src/learner.cc:1061: Starting in XGBoost 1.3.0, the default evaluation metric used with the objective 'multi:softprob' was changed from 'merror' to 'mlogloss'. Explicitly set eval_metric if you'd like to restore the old behavior.\n",
      "[22:19:08] WARNING: C:/Users/Administrator/workspace/xgboost-win64_release_1.3.0/src/learner.cc:1061: Starting in XGBoost 1.3.0, the default evaluation metric used with the objective 'multi:softprob' was changed from 'merror' to 'mlogloss'. Explicitly set eval_metric if you'd like to restore the old behavior.\n",
      "[22:19:10] WARNING: C:/Users/Administrator/workspace/xgboost-win64_release_1.3.0/src/learner.cc:1061: Starting in XGBoost 1.3.0, the default evaluation metric used with the objective 'multi:softprob' was changed from 'merror' to 'mlogloss'. Explicitly set eval_metric if you'd like to restore the old behavior.\n",
      "[22:19:11] WARNING: C:/Users/Administrator/workspace/xgboost-win64_release_1.3.0/src/learner.cc:1061: Starting in XGBoost 1.3.0, the default evaluation metric used with the objective 'multi:softprob' was changed from 'merror' to 'mlogloss'. Explicitly set eval_metric if you'd like to restore the old behavior.\n",
      "[22:19:12] WARNING: C:/Users/Administrator/workspace/xgboost-win64_release_1.3.0/src/learner.cc:1061: Starting in XGBoost 1.3.0, the default evaluation metric used with the objective 'multi:softprob' was changed from 'merror' to 'mlogloss'. Explicitly set eval_metric if you'd like to restore the old behavior.\n",
      "[22:19:14] WARNING: C:/Users/Administrator/workspace/xgboost-win64_release_1.3.0/src/learner.cc:1061: Starting in XGBoost 1.3.0, the default evaluation metric used with the objective 'multi:softprob' was changed from 'merror' to 'mlogloss'. Explicitly set eval_metric if you'd like to restore the old behavior.\n",
      "[22:19:15] WARNING: C:/Users/Administrator/workspace/xgboost-win64_release_1.3.0/src/learner.cc:1061: Starting in XGBoost 1.3.0, the default evaluation metric used with the objective 'multi:softprob' was changed from 'merror' to 'mlogloss'. Explicitly set eval_metric if you'd like to restore the old behavior.\n",
      "[22:19:16] WARNING: C:/Users/Administrator/workspace/xgboost-win64_release_1.3.0/src/learner.cc:1061: Starting in XGBoost 1.3.0, the default evaluation metric used with the objective 'multi:softprob' was changed from 'merror' to 'mlogloss'. Explicitly set eval_metric if you'd like to restore the old behavior.\n",
      "[22:19:17] WARNING: C:/Users/Administrator/workspace/xgboost-win64_release_1.3.0/src/learner.cc:1061: Starting in XGBoost 1.3.0, the default evaluation metric used with the objective 'multi:softprob' was changed from 'merror' to 'mlogloss'. Explicitly set eval_metric if you'd like to restore the old behavior.\n",
      "[22:19:19] WARNING: C:/Users/Administrator/workspace/xgboost-win64_release_1.3.0/src/learner.cc:1061: Starting in XGBoost 1.3.0, the default evaluation metric used with the objective 'multi:softprob' was changed from 'merror' to 'mlogloss'. Explicitly set eval_metric if you'd like to restore the old behavior.\n",
      "[22:19:20] WARNING: C:/Users/Administrator/workspace/xgboost-win64_release_1.3.0/src/learner.cc:1061: Starting in XGBoost 1.3.0, the default evaluation metric used with the objective 'multi:softprob' was changed from 'merror' to 'mlogloss'. Explicitly set eval_metric if you'd like to restore the old behavior.\n",
      "[22:19:22] WARNING: C:/Users/Administrator/workspace/xgboost-win64_release_1.3.0/src/learner.cc:1061: Starting in XGBoost 1.3.0, the default evaluation metric used with the objective 'multi:softprob' was changed from 'merror' to 'mlogloss'. Explicitly set eval_metric if you'd like to restore the old behavior.\n",
      "[22:19:23] WARNING: C:/Users/Administrator/workspace/xgboost-win64_release_1.3.0/src/learner.cc:1061: Starting in XGBoost 1.3.0, the default evaluation metric used with the objective 'multi:softprob' was changed from 'merror' to 'mlogloss'. Explicitly set eval_metric if you'd like to restore the old behavior.\n",
      "[22:19:24] WARNING: C:/Users/Administrator/workspace/xgboost-win64_release_1.3.0/src/learner.cc:1061: Starting in XGBoost 1.3.0, the default evaluation metric used with the objective 'multi:softprob' was changed from 'merror' to 'mlogloss'. Explicitly set eval_metric if you'd like to restore the old behavior.\n",
      "[22:19:26] WARNING: C:/Users/Administrator/workspace/xgboost-win64_release_1.3.0/src/learner.cc:1061: Starting in XGBoost 1.3.0, the default evaluation metric used with the objective 'multi:softprob' was changed from 'merror' to 'mlogloss'. Explicitly set eval_metric if you'd like to restore the old behavior.\n",
      "[22:19:27] WARNING: C:/Users/Administrator/workspace/xgboost-win64_release_1.3.0/src/learner.cc:1061: Starting in XGBoost 1.3.0, the default evaluation metric used with the objective 'multi:softprob' was changed from 'merror' to 'mlogloss'. Explicitly set eval_metric if you'd like to restore the old behavior.\n",
      "[22:19:28] WARNING: C:/Users/Administrator/workspace/xgboost-win64_release_1.3.0/src/learner.cc:1061: Starting in XGBoost 1.3.0, the default evaluation metric used with the objective 'multi:softprob' was changed from 'merror' to 'mlogloss'. Explicitly set eval_metric if you'd like to restore the old behavior.\n",
      "Calculate:  106\n",
      "[22:19:34] WARNING: C:/Users/Administrator/workspace/xgboost-win64_release_1.3.0/src/learner.cc:1061: Starting in XGBoost 1.3.0, the default evaluation metric used with the objective 'multi:softprob' was changed from 'merror' to 'mlogloss'. Explicitly set eval_metric if you'd like to restore the old behavior.\n",
      "[22:19:35] WARNING: C:/Users/Administrator/workspace/xgboost-win64_release_1.3.0/src/learner.cc:1061: Starting in XGBoost 1.3.0, the default evaluation metric used with the objective 'multi:softprob' was changed from 'merror' to 'mlogloss'. Explicitly set eval_metric if you'd like to restore the old behavior.\n",
      "[22:19:36] WARNING: C:/Users/Administrator/workspace/xgboost-win64_release_1.3.0/src/learner.cc:1061: Starting in XGBoost 1.3.0, the default evaluation metric used with the objective 'multi:softprob' was changed from 'merror' to 'mlogloss'. Explicitly set eval_metric if you'd like to restore the old behavior.\n",
      "[22:19:38] WARNING: C:/Users/Administrator/workspace/xgboost-win64_release_1.3.0/src/learner.cc:1061: Starting in XGBoost 1.3.0, the default evaluation metric used with the objective 'multi:softprob' was changed from 'merror' to 'mlogloss'. Explicitly set eval_metric if you'd like to restore the old behavior.\n",
      "[22:19:39] WARNING: C:/Users/Administrator/workspace/xgboost-win64_release_1.3.0/src/learner.cc:1061: Starting in XGBoost 1.3.0, the default evaluation metric used with the objective 'multi:softprob' was changed from 'merror' to 'mlogloss'. Explicitly set eval_metric if you'd like to restore the old behavior.\n",
      "[22:19:41] WARNING: C:/Users/Administrator/workspace/xgboost-win64_release_1.3.0/src/learner.cc:1061: Starting in XGBoost 1.3.0, the default evaluation metric used with the objective 'multi:softprob' was changed from 'merror' to 'mlogloss'. Explicitly set eval_metric if you'd like to restore the old behavior.\n",
      "[22:19:42] WARNING: C:/Users/Administrator/workspace/xgboost-win64_release_1.3.0/src/learner.cc:1061: Starting in XGBoost 1.3.0, the default evaluation metric used with the objective 'multi:softprob' was changed from 'merror' to 'mlogloss'. Explicitly set eval_metric if you'd like to restore the old behavior.\n",
      "[22:19:44] WARNING: C:/Users/Administrator/workspace/xgboost-win64_release_1.3.0/src/learner.cc:1061: Starting in XGBoost 1.3.0, the default evaluation metric used with the objective 'multi:softprob' was changed from 'merror' to 'mlogloss'. Explicitly set eval_metric if you'd like to restore the old behavior.\n",
      "[22:19:45] WARNING: C:/Users/Administrator/workspace/xgboost-win64_release_1.3.0/src/learner.cc:1061: Starting in XGBoost 1.3.0, the default evaluation metric used with the objective 'multi:softprob' was changed from 'merror' to 'mlogloss'. Explicitly set eval_metric if you'd like to restore the old behavior.\n",
      "[22:19:47] WARNING: C:/Users/Administrator/workspace/xgboost-win64_release_1.3.0/src/learner.cc:1061: Starting in XGBoost 1.3.0, the default evaluation metric used with the objective 'multi:softprob' was changed from 'merror' to 'mlogloss'. Explicitly set eval_metric if you'd like to restore the old behavior.\n",
      "[22:19:48] WARNING: C:/Users/Administrator/workspace/xgboost-win64_release_1.3.0/src/learner.cc:1061: Starting in XGBoost 1.3.0, the default evaluation metric used with the objective 'multi:softprob' was changed from 'merror' to 'mlogloss'. Explicitly set eval_metric if you'd like to restore the old behavior.\n",
      "[22:19:50] WARNING: C:/Users/Administrator/workspace/xgboost-win64_release_1.3.0/src/learner.cc:1061: Starting in XGBoost 1.3.0, the default evaluation metric used with the objective 'multi:softprob' was changed from 'merror' to 'mlogloss'. Explicitly set eval_metric if you'd like to restore the old behavior.\n",
      "[22:19:52] WARNING: C:/Users/Administrator/workspace/xgboost-win64_release_1.3.0/src/learner.cc:1061: Starting in XGBoost 1.3.0, the default evaluation metric used with the objective 'multi:softprob' was changed from 'merror' to 'mlogloss'. Explicitly set eval_metric if you'd like to restore the old behavior.\n",
      "[22:19:53] WARNING: C:/Users/Administrator/workspace/xgboost-win64_release_1.3.0/src/learner.cc:1061: Starting in XGBoost 1.3.0, the default evaluation metric used with the objective 'multi:softprob' was changed from 'merror' to 'mlogloss'. Explicitly set eval_metric if you'd like to restore the old behavior.\n",
      "[22:19:55] WARNING: C:/Users/Administrator/workspace/xgboost-win64_release_1.3.0/src/learner.cc:1061: Starting in XGBoost 1.3.0, the default evaluation metric used with the objective 'multi:softprob' was changed from 'merror' to 'mlogloss'. Explicitly set eval_metric if you'd like to restore the old behavior.\n",
      "[22:19:56] WARNING: C:/Users/Administrator/workspace/xgboost-win64_release_1.3.0/src/learner.cc:1061: Starting in XGBoost 1.3.0, the default evaluation metric used with the objective 'multi:softprob' was changed from 'merror' to 'mlogloss'. Explicitly set eval_metric if you'd like to restore the old behavior.\n",
      "[22:19:58] WARNING: C:/Users/Administrator/workspace/xgboost-win64_release_1.3.0/src/learner.cc:1061: Starting in XGBoost 1.3.0, the default evaluation metric used with the objective 'multi:softprob' was changed from 'merror' to 'mlogloss'. Explicitly set eval_metric if you'd like to restore the old behavior.\n",
      "Calculate:  107\n",
      "[22:20:03] WARNING: C:/Users/Administrator/workspace/xgboost-win64_release_1.3.0/src/learner.cc:1061: Starting in XGBoost 1.3.0, the default evaluation metric used with the objective 'multi:softprob' was changed from 'merror' to 'mlogloss'. Explicitly set eval_metric if you'd like to restore the old behavior.\n",
      "[22:20:04] WARNING: C:/Users/Administrator/workspace/xgboost-win64_release_1.3.0/src/learner.cc:1061: Starting in XGBoost 1.3.0, the default evaluation metric used with the objective 'multi:softprob' was changed from 'merror' to 'mlogloss'. Explicitly set eval_metric if you'd like to restore the old behavior.\n",
      "[22:20:06] WARNING: C:/Users/Administrator/workspace/xgboost-win64_release_1.3.0/src/learner.cc:1061: Starting in XGBoost 1.3.0, the default evaluation metric used with the objective 'multi:softprob' was changed from 'merror' to 'mlogloss'. Explicitly set eval_metric if you'd like to restore the old behavior.\n",
      "[22:20:07] WARNING: C:/Users/Administrator/workspace/xgboost-win64_release_1.3.0/src/learner.cc:1061: Starting in XGBoost 1.3.0, the default evaluation metric used with the objective 'multi:softprob' was changed from 'merror' to 'mlogloss'. Explicitly set eval_metric if you'd like to restore the old behavior.\n",
      "[22:20:08] WARNING: C:/Users/Administrator/workspace/xgboost-win64_release_1.3.0/src/learner.cc:1061: Starting in XGBoost 1.3.0, the default evaluation metric used with the objective 'multi:softprob' was changed from 'merror' to 'mlogloss'. Explicitly set eval_metric if you'd like to restore the old behavior.\n",
      "[22:20:10] WARNING: C:/Users/Administrator/workspace/xgboost-win64_release_1.3.0/src/learner.cc:1061: Starting in XGBoost 1.3.0, the default evaluation metric used with the objective 'multi:softprob' was changed from 'merror' to 'mlogloss'. Explicitly set eval_metric if you'd like to restore the old behavior.\n",
      "[22:20:11] WARNING: C:/Users/Administrator/workspace/xgboost-win64_release_1.3.0/src/learner.cc:1061: Starting in XGBoost 1.3.0, the default evaluation metric used with the objective 'multi:softprob' was changed from 'merror' to 'mlogloss'. Explicitly set eval_metric if you'd like to restore the old behavior.\n",
      "[22:20:12] WARNING: C:/Users/Administrator/workspace/xgboost-win64_release_1.3.0/src/learner.cc:1061: Starting in XGBoost 1.3.0, the default evaluation metric used with the objective 'multi:softprob' was changed from 'merror' to 'mlogloss'. Explicitly set eval_metric if you'd like to restore the old behavior.\n",
      "[22:20:14] WARNING: C:/Users/Administrator/workspace/xgboost-win64_release_1.3.0/src/learner.cc:1061: Starting in XGBoost 1.3.0, the default evaluation metric used with the objective 'multi:softprob' was changed from 'merror' to 'mlogloss'. Explicitly set eval_metric if you'd like to restore the old behavior.\n",
      "[22:20:15] WARNING: C:/Users/Administrator/workspace/xgboost-win64_release_1.3.0/src/learner.cc:1061: Starting in XGBoost 1.3.0, the default evaluation metric used with the objective 'multi:softprob' was changed from 'merror' to 'mlogloss'. Explicitly set eval_metric if you'd like to restore the old behavior.\n",
      "[22:20:16] WARNING: C:/Users/Administrator/workspace/xgboost-win64_release_1.3.0/src/learner.cc:1061: Starting in XGBoost 1.3.0, the default evaluation metric used with the objective 'multi:softprob' was changed from 'merror' to 'mlogloss'. Explicitly set eval_metric if you'd like to restore the old behavior.\n",
      "[22:20:18] WARNING: C:/Users/Administrator/workspace/xgboost-win64_release_1.3.0/src/learner.cc:1061: Starting in XGBoost 1.3.0, the default evaluation metric used with the objective 'multi:softprob' was changed from 'merror' to 'mlogloss'. Explicitly set eval_metric if you'd like to restore the old behavior.\n",
      "[22:20:19] WARNING: C:/Users/Administrator/workspace/xgboost-win64_release_1.3.0/src/learner.cc:1061: Starting in XGBoost 1.3.0, the default evaluation metric used with the objective 'multi:softprob' was changed from 'merror' to 'mlogloss'. Explicitly set eval_metric if you'd like to restore the old behavior.\n",
      "[22:20:20] WARNING: C:/Users/Administrator/workspace/xgboost-win64_release_1.3.0/src/learner.cc:1061: Starting in XGBoost 1.3.0, the default evaluation metric used with the objective 'multi:softprob' was changed from 'merror' to 'mlogloss'. Explicitly set eval_metric if you'd like to restore the old behavior.\n",
      "[22:20:22] WARNING: C:/Users/Administrator/workspace/xgboost-win64_release_1.3.0/src/learner.cc:1061: Starting in XGBoost 1.3.0, the default evaluation metric used with the objective 'multi:softprob' was changed from 'merror' to 'mlogloss'. Explicitly set eval_metric if you'd like to restore the old behavior.\n",
      "[22:20:23] WARNING: C:/Users/Administrator/workspace/xgboost-win64_release_1.3.0/src/learner.cc:1061: Starting in XGBoost 1.3.0, the default evaluation metric used with the objective 'multi:softprob' was changed from 'merror' to 'mlogloss'. Explicitly set eval_metric if you'd like to restore the old behavior.\n",
      "[22:20:24] WARNING: C:/Users/Administrator/workspace/xgboost-win64_release_1.3.0/src/learner.cc:1061: Starting in XGBoost 1.3.0, the default evaluation metric used with the objective 'multi:softprob' was changed from 'merror' to 'mlogloss'. Explicitly set eval_metric if you'd like to restore the old behavior.\n",
      "Calculate:  108\n",
      "[22:20:30] WARNING: C:/Users/Administrator/workspace/xgboost-win64_release_1.3.0/src/learner.cc:1061: Starting in XGBoost 1.3.0, the default evaluation metric used with the objective 'multi:softprob' was changed from 'merror' to 'mlogloss'. Explicitly set eval_metric if you'd like to restore the old behavior.\n",
      "[22:20:31] WARNING: C:/Users/Administrator/workspace/xgboost-win64_release_1.3.0/src/learner.cc:1061: Starting in XGBoost 1.3.0, the default evaluation metric used with the objective 'multi:softprob' was changed from 'merror' to 'mlogloss'. Explicitly set eval_metric if you'd like to restore the old behavior.\n",
      "[22:20:32] WARNING: C:/Users/Administrator/workspace/xgboost-win64_release_1.3.0/src/learner.cc:1061: Starting in XGBoost 1.3.0, the default evaluation metric used with the objective 'multi:softprob' was changed from 'merror' to 'mlogloss'. Explicitly set eval_metric if you'd like to restore the old behavior.\n",
      "[22:20:34] WARNING: C:/Users/Administrator/workspace/xgboost-win64_release_1.3.0/src/learner.cc:1061: Starting in XGBoost 1.3.0, the default evaluation metric used with the objective 'multi:softprob' was changed from 'merror' to 'mlogloss'. Explicitly set eval_metric if you'd like to restore the old behavior.\n",
      "[22:20:35] WARNING: C:/Users/Administrator/workspace/xgboost-win64_release_1.3.0/src/learner.cc:1061: Starting in XGBoost 1.3.0, the default evaluation metric used with the objective 'multi:softprob' was changed from 'merror' to 'mlogloss'. Explicitly set eval_metric if you'd like to restore the old behavior.\n",
      "[22:20:36] WARNING: C:/Users/Administrator/workspace/xgboost-win64_release_1.3.0/src/learner.cc:1061: Starting in XGBoost 1.3.0, the default evaluation metric used with the objective 'multi:softprob' was changed from 'merror' to 'mlogloss'. Explicitly set eval_metric if you'd like to restore the old behavior.\n",
      "[22:20:38] WARNING: C:/Users/Administrator/workspace/xgboost-win64_release_1.3.0/src/learner.cc:1061: Starting in XGBoost 1.3.0, the default evaluation metric used with the objective 'multi:softprob' was changed from 'merror' to 'mlogloss'. Explicitly set eval_metric if you'd like to restore the old behavior.\n",
      "[22:20:39] WARNING: C:/Users/Administrator/workspace/xgboost-win64_release_1.3.0/src/learner.cc:1061: Starting in XGBoost 1.3.0, the default evaluation metric used with the objective 'multi:softprob' was changed from 'merror' to 'mlogloss'. Explicitly set eval_metric if you'd like to restore the old behavior.\n",
      "[22:20:40] WARNING: C:/Users/Administrator/workspace/xgboost-win64_release_1.3.0/src/learner.cc:1061: Starting in XGBoost 1.3.0, the default evaluation metric used with the objective 'multi:softprob' was changed from 'merror' to 'mlogloss'. Explicitly set eval_metric if you'd like to restore the old behavior.\n",
      "[22:20:42] WARNING: C:/Users/Administrator/workspace/xgboost-win64_release_1.3.0/src/learner.cc:1061: Starting in XGBoost 1.3.0, the default evaluation metric used with the objective 'multi:softprob' was changed from 'merror' to 'mlogloss'. Explicitly set eval_metric if you'd like to restore the old behavior.\n",
      "[22:20:43] WARNING: C:/Users/Administrator/workspace/xgboost-win64_release_1.3.0/src/learner.cc:1061: Starting in XGBoost 1.3.0, the default evaluation metric used with the objective 'multi:softprob' was changed from 'merror' to 'mlogloss'. Explicitly set eval_metric if you'd like to restore the old behavior.\n",
      "[22:20:44] WARNING: C:/Users/Administrator/workspace/xgboost-win64_release_1.3.0/src/learner.cc:1061: Starting in XGBoost 1.3.0, the default evaluation metric used with the objective 'multi:softprob' was changed from 'merror' to 'mlogloss'. Explicitly set eval_metric if you'd like to restore the old behavior.\n",
      "[22:20:46] WARNING: C:/Users/Administrator/workspace/xgboost-win64_release_1.3.0/src/learner.cc:1061: Starting in XGBoost 1.3.0, the default evaluation metric used with the objective 'multi:softprob' was changed from 'merror' to 'mlogloss'. Explicitly set eval_metric if you'd like to restore the old behavior.\n",
      "[22:20:47] WARNING: C:/Users/Administrator/workspace/xgboost-win64_release_1.3.0/src/learner.cc:1061: Starting in XGBoost 1.3.0, the default evaluation metric used with the objective 'multi:softprob' was changed from 'merror' to 'mlogloss'. Explicitly set eval_metric if you'd like to restore the old behavior.\n",
      "[22:20:48] WARNING: C:/Users/Administrator/workspace/xgboost-win64_release_1.3.0/src/learner.cc:1061: Starting in XGBoost 1.3.0, the default evaluation metric used with the objective 'multi:softprob' was changed from 'merror' to 'mlogloss'. Explicitly set eval_metric if you'd like to restore the old behavior.\n",
      "[22:20:50] WARNING: C:/Users/Administrator/workspace/xgboost-win64_release_1.3.0/src/learner.cc:1061: Starting in XGBoost 1.3.0, the default evaluation metric used with the objective 'multi:softprob' was changed from 'merror' to 'mlogloss'. Explicitly set eval_metric if you'd like to restore the old behavior.\n",
      "[22:20:51] WARNING: C:/Users/Administrator/workspace/xgboost-win64_release_1.3.0/src/learner.cc:1061: Starting in XGBoost 1.3.0, the default evaluation metric used with the objective 'multi:softprob' was changed from 'merror' to 'mlogloss'. Explicitly set eval_metric if you'd like to restore the old behavior.\n",
      "Calculate:  109\n",
      "[22:20:56] WARNING: C:/Users/Administrator/workspace/xgboost-win64_release_1.3.0/src/learner.cc:1061: Starting in XGBoost 1.3.0, the default evaluation metric used with the objective 'multi:softprob' was changed from 'merror' to 'mlogloss'. Explicitly set eval_metric if you'd like to restore the old behavior.\n",
      "[22:20:57] WARNING: C:/Users/Administrator/workspace/xgboost-win64_release_1.3.0/src/learner.cc:1061: Starting in XGBoost 1.3.0, the default evaluation metric used with the objective 'multi:softprob' was changed from 'merror' to 'mlogloss'. Explicitly set eval_metric if you'd like to restore the old behavior.\n",
      "[22:20:59] WARNING: C:/Users/Administrator/workspace/xgboost-win64_release_1.3.0/src/learner.cc:1061: Starting in XGBoost 1.3.0, the default evaluation metric used with the objective 'multi:softprob' was changed from 'merror' to 'mlogloss'. Explicitly set eval_metric if you'd like to restore the old behavior.\n",
      "[22:21:00] WARNING: C:/Users/Administrator/workspace/xgboost-win64_release_1.3.0/src/learner.cc:1061: Starting in XGBoost 1.3.0, the default evaluation metric used with the objective 'multi:softprob' was changed from 'merror' to 'mlogloss'. Explicitly set eval_metric if you'd like to restore the old behavior.\n",
      "[22:21:02] WARNING: C:/Users/Administrator/workspace/xgboost-win64_release_1.3.0/src/learner.cc:1061: Starting in XGBoost 1.3.0, the default evaluation metric used with the objective 'multi:softprob' was changed from 'merror' to 'mlogloss'. Explicitly set eval_metric if you'd like to restore the old behavior.\n",
      "[22:21:03] WARNING: C:/Users/Administrator/workspace/xgboost-win64_release_1.3.0/src/learner.cc:1061: Starting in XGBoost 1.3.0, the default evaluation metric used with the objective 'multi:softprob' was changed from 'merror' to 'mlogloss'. Explicitly set eval_metric if you'd like to restore the old behavior.\n",
      "[22:21:04] WARNING: C:/Users/Administrator/workspace/xgboost-win64_release_1.3.0/src/learner.cc:1061: Starting in XGBoost 1.3.0, the default evaluation metric used with the objective 'multi:softprob' was changed from 'merror' to 'mlogloss'. Explicitly set eval_metric if you'd like to restore the old behavior.\n",
      "[22:21:06] WARNING: C:/Users/Administrator/workspace/xgboost-win64_release_1.3.0/src/learner.cc:1061: Starting in XGBoost 1.3.0, the default evaluation metric used with the objective 'multi:softprob' was changed from 'merror' to 'mlogloss'. Explicitly set eval_metric if you'd like to restore the old behavior.\n",
      "[22:21:07] WARNING: C:/Users/Administrator/workspace/xgboost-win64_release_1.3.0/src/learner.cc:1061: Starting in XGBoost 1.3.0, the default evaluation metric used with the objective 'multi:softprob' was changed from 'merror' to 'mlogloss'. Explicitly set eval_metric if you'd like to restore the old behavior.\n",
      "[22:21:08] WARNING: C:/Users/Administrator/workspace/xgboost-win64_release_1.3.0/src/learner.cc:1061: Starting in XGBoost 1.3.0, the default evaluation metric used with the objective 'multi:softprob' was changed from 'merror' to 'mlogloss'. Explicitly set eval_metric if you'd like to restore the old behavior.\n",
      "[22:21:10] WARNING: C:/Users/Administrator/workspace/xgboost-win64_release_1.3.0/src/learner.cc:1061: Starting in XGBoost 1.3.0, the default evaluation metric used with the objective 'multi:softprob' was changed from 'merror' to 'mlogloss'. Explicitly set eval_metric if you'd like to restore the old behavior.\n",
      "[22:21:11] WARNING: C:/Users/Administrator/workspace/xgboost-win64_release_1.3.0/src/learner.cc:1061: Starting in XGBoost 1.3.0, the default evaluation metric used with the objective 'multi:softprob' was changed from 'merror' to 'mlogloss'. Explicitly set eval_metric if you'd like to restore the old behavior.\n",
      "[22:21:12] WARNING: C:/Users/Administrator/workspace/xgboost-win64_release_1.3.0/src/learner.cc:1061: Starting in XGBoost 1.3.0, the default evaluation metric used with the objective 'multi:softprob' was changed from 'merror' to 'mlogloss'. Explicitly set eval_metric if you'd like to restore the old behavior.\n",
      "[22:21:14] WARNING: C:/Users/Administrator/workspace/xgboost-win64_release_1.3.0/src/learner.cc:1061: Starting in XGBoost 1.3.0, the default evaluation metric used with the objective 'multi:softprob' was changed from 'merror' to 'mlogloss'. Explicitly set eval_metric if you'd like to restore the old behavior.\n",
      "[22:21:15] WARNING: C:/Users/Administrator/workspace/xgboost-win64_release_1.3.0/src/learner.cc:1061: Starting in XGBoost 1.3.0, the default evaluation metric used with the objective 'multi:softprob' was changed from 'merror' to 'mlogloss'. Explicitly set eval_metric if you'd like to restore the old behavior.\n",
      "[22:21:16] WARNING: C:/Users/Administrator/workspace/xgboost-win64_release_1.3.0/src/learner.cc:1061: Starting in XGBoost 1.3.0, the default evaluation metric used with the objective 'multi:softprob' was changed from 'merror' to 'mlogloss'. Explicitly set eval_metric if you'd like to restore the old behavior.\n",
      "[22:21:18] WARNING: C:/Users/Administrator/workspace/xgboost-win64_release_1.3.0/src/learner.cc:1061: Starting in XGBoost 1.3.0, the default evaluation metric used with the objective 'multi:softprob' was changed from 'merror' to 'mlogloss'. Explicitly set eval_metric if you'd like to restore the old behavior.\n",
      "Calculate:  110\n",
      "[22:21:23] WARNING: C:/Users/Administrator/workspace/xgboost-win64_release_1.3.0/src/learner.cc:1061: Starting in XGBoost 1.3.0, the default evaluation metric used with the objective 'multi:softprob' was changed from 'merror' to 'mlogloss'. Explicitly set eval_metric if you'd like to restore the old behavior.\n",
      "[22:21:24] WARNING: C:/Users/Administrator/workspace/xgboost-win64_release_1.3.0/src/learner.cc:1061: Starting in XGBoost 1.3.0, the default evaluation metric used with the objective 'multi:softprob' was changed from 'merror' to 'mlogloss'. Explicitly set eval_metric if you'd like to restore the old behavior.\n",
      "[22:21:26] WARNING: C:/Users/Administrator/workspace/xgboost-win64_release_1.3.0/src/learner.cc:1061: Starting in XGBoost 1.3.0, the default evaluation metric used with the objective 'multi:softprob' was changed from 'merror' to 'mlogloss'. Explicitly set eval_metric if you'd like to restore the old behavior.\n",
      "[22:21:27] WARNING: C:/Users/Administrator/workspace/xgboost-win64_release_1.3.0/src/learner.cc:1061: Starting in XGBoost 1.3.0, the default evaluation metric used with the objective 'multi:softprob' was changed from 'merror' to 'mlogloss'. Explicitly set eval_metric if you'd like to restore the old behavior.\n",
      "[22:21:29] WARNING: C:/Users/Administrator/workspace/xgboost-win64_release_1.3.0/src/learner.cc:1061: Starting in XGBoost 1.3.0, the default evaluation metric used with the objective 'multi:softprob' was changed from 'merror' to 'mlogloss'. Explicitly set eval_metric if you'd like to restore the old behavior.\n",
      "[22:21:30] WARNING: C:/Users/Administrator/workspace/xgboost-win64_release_1.3.0/src/learner.cc:1061: Starting in XGBoost 1.3.0, the default evaluation metric used with the objective 'multi:softprob' was changed from 'merror' to 'mlogloss'. Explicitly set eval_metric if you'd like to restore the old behavior.\n",
      "[22:21:31] WARNING: C:/Users/Administrator/workspace/xgboost-win64_release_1.3.0/src/learner.cc:1061: Starting in XGBoost 1.3.0, the default evaluation metric used with the objective 'multi:softprob' was changed from 'merror' to 'mlogloss'. Explicitly set eval_metric if you'd like to restore the old behavior.\n",
      "[22:21:33] WARNING: C:/Users/Administrator/workspace/xgboost-win64_release_1.3.0/src/learner.cc:1061: Starting in XGBoost 1.3.0, the default evaluation metric used with the objective 'multi:softprob' was changed from 'merror' to 'mlogloss'. Explicitly set eval_metric if you'd like to restore the old behavior.\n",
      "[22:21:34] WARNING: C:/Users/Administrator/workspace/xgboost-win64_release_1.3.0/src/learner.cc:1061: Starting in XGBoost 1.3.0, the default evaluation metric used with the objective 'multi:softprob' was changed from 'merror' to 'mlogloss'. Explicitly set eval_metric if you'd like to restore the old behavior.\n",
      "[22:21:35] WARNING: C:/Users/Administrator/workspace/xgboost-win64_release_1.3.0/src/learner.cc:1061: Starting in XGBoost 1.3.0, the default evaluation metric used with the objective 'multi:softprob' was changed from 'merror' to 'mlogloss'. Explicitly set eval_metric if you'd like to restore the old behavior.\n",
      "[22:21:37] WARNING: C:/Users/Administrator/workspace/xgboost-win64_release_1.3.0/src/learner.cc:1061: Starting in XGBoost 1.3.0, the default evaluation metric used with the objective 'multi:softprob' was changed from 'merror' to 'mlogloss'. Explicitly set eval_metric if you'd like to restore the old behavior.\n",
      "[22:21:38] WARNING: C:/Users/Administrator/workspace/xgboost-win64_release_1.3.0/src/learner.cc:1061: Starting in XGBoost 1.3.0, the default evaluation metric used with the objective 'multi:softprob' was changed from 'merror' to 'mlogloss'. Explicitly set eval_metric if you'd like to restore the old behavior.\n",
      "[22:21:39] WARNING: C:/Users/Administrator/workspace/xgboost-win64_release_1.3.0/src/learner.cc:1061: Starting in XGBoost 1.3.0, the default evaluation metric used with the objective 'multi:softprob' was changed from 'merror' to 'mlogloss'. Explicitly set eval_metric if you'd like to restore the old behavior.\n",
      "[22:21:41] WARNING: C:/Users/Administrator/workspace/xgboost-win64_release_1.3.0/src/learner.cc:1061: Starting in XGBoost 1.3.0, the default evaluation metric used with the objective 'multi:softprob' was changed from 'merror' to 'mlogloss'. Explicitly set eval_metric if you'd like to restore the old behavior.\n",
      "[22:21:42] WARNING: C:/Users/Administrator/workspace/xgboost-win64_release_1.3.0/src/learner.cc:1061: Starting in XGBoost 1.3.0, the default evaluation metric used with the objective 'multi:softprob' was changed from 'merror' to 'mlogloss'. Explicitly set eval_metric if you'd like to restore the old behavior.\n",
      "[22:21:43] WARNING: C:/Users/Administrator/workspace/xgboost-win64_release_1.3.0/src/learner.cc:1061: Starting in XGBoost 1.3.0, the default evaluation metric used with the objective 'multi:softprob' was changed from 'merror' to 'mlogloss'. Explicitly set eval_metric if you'd like to restore the old behavior.\n",
      "[22:21:45] WARNING: C:/Users/Administrator/workspace/xgboost-win64_release_1.3.0/src/learner.cc:1061: Starting in XGBoost 1.3.0, the default evaluation metric used with the objective 'multi:softprob' was changed from 'merror' to 'mlogloss'. Explicitly set eval_metric if you'd like to restore the old behavior.\n",
      "Calculate:  111\n",
      "[22:21:50] WARNING: C:/Users/Administrator/workspace/xgboost-win64_release_1.3.0/src/learner.cc:1061: Starting in XGBoost 1.3.0, the default evaluation metric used with the objective 'multi:softprob' was changed from 'merror' to 'mlogloss'. Explicitly set eval_metric if you'd like to restore the old behavior.\n",
      "[22:21:51] WARNING: C:/Users/Administrator/workspace/xgboost-win64_release_1.3.0/src/learner.cc:1061: Starting in XGBoost 1.3.0, the default evaluation metric used with the objective 'multi:softprob' was changed from 'merror' to 'mlogloss'. Explicitly set eval_metric if you'd like to restore the old behavior.\n",
      "[22:21:53] WARNING: C:/Users/Administrator/workspace/xgboost-win64_release_1.3.0/src/learner.cc:1061: Starting in XGBoost 1.3.0, the default evaluation metric used with the objective 'multi:softprob' was changed from 'merror' to 'mlogloss'. Explicitly set eval_metric if you'd like to restore the old behavior.\n",
      "[22:21:54] WARNING: C:/Users/Administrator/workspace/xgboost-win64_release_1.3.0/src/learner.cc:1061: Starting in XGBoost 1.3.0, the default evaluation metric used with the objective 'multi:softprob' was changed from 'merror' to 'mlogloss'. Explicitly set eval_metric if you'd like to restore the old behavior.\n",
      "[22:21:55] WARNING: C:/Users/Administrator/workspace/xgboost-win64_release_1.3.0/src/learner.cc:1061: Starting in XGBoost 1.3.0, the default evaluation metric used with the objective 'multi:softprob' was changed from 'merror' to 'mlogloss'. Explicitly set eval_metric if you'd like to restore the old behavior.\n",
      "[22:21:57] WARNING: C:/Users/Administrator/workspace/xgboost-win64_release_1.3.0/src/learner.cc:1061: Starting in XGBoost 1.3.0, the default evaluation metric used with the objective 'multi:softprob' was changed from 'merror' to 'mlogloss'. Explicitly set eval_metric if you'd like to restore the old behavior.\n",
      "[22:21:58] WARNING: C:/Users/Administrator/workspace/xgboost-win64_release_1.3.0/src/learner.cc:1061: Starting in XGBoost 1.3.0, the default evaluation metric used with the objective 'multi:softprob' was changed from 'merror' to 'mlogloss'. Explicitly set eval_metric if you'd like to restore the old behavior.\n",
      "[22:22:00] WARNING: C:/Users/Administrator/workspace/xgboost-win64_release_1.3.0/src/learner.cc:1061: Starting in XGBoost 1.3.0, the default evaluation metric used with the objective 'multi:softprob' was changed from 'merror' to 'mlogloss'. Explicitly set eval_metric if you'd like to restore the old behavior.\n",
      "[22:22:01] WARNING: C:/Users/Administrator/workspace/xgboost-win64_release_1.3.0/src/learner.cc:1061: Starting in XGBoost 1.3.0, the default evaluation metric used with the objective 'multi:softprob' was changed from 'merror' to 'mlogloss'. Explicitly set eval_metric if you'd like to restore the old behavior.\n",
      "[22:22:02] WARNING: C:/Users/Administrator/workspace/xgboost-win64_release_1.3.0/src/learner.cc:1061: Starting in XGBoost 1.3.0, the default evaluation metric used with the objective 'multi:softprob' was changed from 'merror' to 'mlogloss'. Explicitly set eval_metric if you'd like to restore the old behavior.\n",
      "[22:22:04] WARNING: C:/Users/Administrator/workspace/xgboost-win64_release_1.3.0/src/learner.cc:1061: Starting in XGBoost 1.3.0, the default evaluation metric used with the objective 'multi:softprob' was changed from 'merror' to 'mlogloss'. Explicitly set eval_metric if you'd like to restore the old behavior.\n",
      "[22:22:05] WARNING: C:/Users/Administrator/workspace/xgboost-win64_release_1.3.0/src/learner.cc:1061: Starting in XGBoost 1.3.0, the default evaluation metric used with the objective 'multi:softprob' was changed from 'merror' to 'mlogloss'. Explicitly set eval_metric if you'd like to restore the old behavior.\n",
      "[22:22:06] WARNING: C:/Users/Administrator/workspace/xgboost-win64_release_1.3.0/src/learner.cc:1061: Starting in XGBoost 1.3.0, the default evaluation metric used with the objective 'multi:softprob' was changed from 'merror' to 'mlogloss'. Explicitly set eval_metric if you'd like to restore the old behavior.\n",
      "[22:22:08] WARNING: C:/Users/Administrator/workspace/xgboost-win64_release_1.3.0/src/learner.cc:1061: Starting in XGBoost 1.3.0, the default evaluation metric used with the objective 'multi:softprob' was changed from 'merror' to 'mlogloss'. Explicitly set eval_metric if you'd like to restore the old behavior.\n",
      "[22:22:09] WARNING: C:/Users/Administrator/workspace/xgboost-win64_release_1.3.0/src/learner.cc:1061: Starting in XGBoost 1.3.0, the default evaluation metric used with the objective 'multi:softprob' was changed from 'merror' to 'mlogloss'. Explicitly set eval_metric if you'd like to restore the old behavior.\n",
      "[22:22:11] WARNING: C:/Users/Administrator/workspace/xgboost-win64_release_1.3.0/src/learner.cc:1061: Starting in XGBoost 1.3.0, the default evaluation metric used with the objective 'multi:softprob' was changed from 'merror' to 'mlogloss'. Explicitly set eval_metric if you'd like to restore the old behavior.\n",
      "[22:22:12] WARNING: C:/Users/Administrator/workspace/xgboost-win64_release_1.3.0/src/learner.cc:1061: Starting in XGBoost 1.3.0, the default evaluation metric used with the objective 'multi:softprob' was changed from 'merror' to 'mlogloss'. Explicitly set eval_metric if you'd like to restore the old behavior.\n",
      "Calculate:  112\n",
      "[22:22:17] WARNING: C:/Users/Administrator/workspace/xgboost-win64_release_1.3.0/src/learner.cc:1061: Starting in XGBoost 1.3.0, the default evaluation metric used with the objective 'multi:softprob' was changed from 'merror' to 'mlogloss'. Explicitly set eval_metric if you'd like to restore the old behavior.\n",
      "[22:22:19] WARNING: C:/Users/Administrator/workspace/xgboost-win64_release_1.3.0/src/learner.cc:1061: Starting in XGBoost 1.3.0, the default evaluation metric used with the objective 'multi:softprob' was changed from 'merror' to 'mlogloss'. Explicitly set eval_metric if you'd like to restore the old behavior.\n",
      "[22:22:20] WARNING: C:/Users/Administrator/workspace/xgboost-win64_release_1.3.0/src/learner.cc:1061: Starting in XGBoost 1.3.0, the default evaluation metric used with the objective 'multi:softprob' was changed from 'merror' to 'mlogloss'. Explicitly set eval_metric if you'd like to restore the old behavior.\n",
      "[22:22:22] WARNING: C:/Users/Administrator/workspace/xgboost-win64_release_1.3.0/src/learner.cc:1061: Starting in XGBoost 1.3.0, the default evaluation metric used with the objective 'multi:softprob' was changed from 'merror' to 'mlogloss'. Explicitly set eval_metric if you'd like to restore the old behavior.\n",
      "[22:22:23] WARNING: C:/Users/Administrator/workspace/xgboost-win64_release_1.3.0/src/learner.cc:1061: Starting in XGBoost 1.3.0, the default evaluation metric used with the objective 'multi:softprob' was changed from 'merror' to 'mlogloss'. Explicitly set eval_metric if you'd like to restore the old behavior.\n",
      "[22:22:24] WARNING: C:/Users/Administrator/workspace/xgboost-win64_release_1.3.0/src/learner.cc:1061: Starting in XGBoost 1.3.0, the default evaluation metric used with the objective 'multi:softprob' was changed from 'merror' to 'mlogloss'. Explicitly set eval_metric if you'd like to restore the old behavior.\n",
      "[22:22:26] WARNING: C:/Users/Administrator/workspace/xgboost-win64_release_1.3.0/src/learner.cc:1061: Starting in XGBoost 1.3.0, the default evaluation metric used with the objective 'multi:softprob' was changed from 'merror' to 'mlogloss'. Explicitly set eval_metric if you'd like to restore the old behavior.\n",
      "[22:22:27] WARNING: C:/Users/Administrator/workspace/xgboost-win64_release_1.3.0/src/learner.cc:1061: Starting in XGBoost 1.3.0, the default evaluation metric used with the objective 'multi:softprob' was changed from 'merror' to 'mlogloss'. Explicitly set eval_metric if you'd like to restore the old behavior.\n",
      "[22:22:29] WARNING: C:/Users/Administrator/workspace/xgboost-win64_release_1.3.0/src/learner.cc:1061: Starting in XGBoost 1.3.0, the default evaluation metric used with the objective 'multi:softprob' was changed from 'merror' to 'mlogloss'. Explicitly set eval_metric if you'd like to restore the old behavior.\n",
      "[22:22:30] WARNING: C:/Users/Administrator/workspace/xgboost-win64_release_1.3.0/src/learner.cc:1061: Starting in XGBoost 1.3.0, the default evaluation metric used with the objective 'multi:softprob' was changed from 'merror' to 'mlogloss'. Explicitly set eval_metric if you'd like to restore the old behavior.\n",
      "[22:22:31] WARNING: C:/Users/Administrator/workspace/xgboost-win64_release_1.3.0/src/learner.cc:1061: Starting in XGBoost 1.3.0, the default evaluation metric used with the objective 'multi:softprob' was changed from 'merror' to 'mlogloss'. Explicitly set eval_metric if you'd like to restore the old behavior.\n",
      "[22:22:33] WARNING: C:/Users/Administrator/workspace/xgboost-win64_release_1.3.0/src/learner.cc:1061: Starting in XGBoost 1.3.0, the default evaluation metric used with the objective 'multi:softprob' was changed from 'merror' to 'mlogloss'. Explicitly set eval_metric if you'd like to restore the old behavior.\n",
      "[22:22:34] WARNING: C:/Users/Administrator/workspace/xgboost-win64_release_1.3.0/src/learner.cc:1061: Starting in XGBoost 1.3.0, the default evaluation metric used with the objective 'multi:softprob' was changed from 'merror' to 'mlogloss'. Explicitly set eval_metric if you'd like to restore the old behavior.\n",
      "[22:22:35] WARNING: C:/Users/Administrator/workspace/xgboost-win64_release_1.3.0/src/learner.cc:1061: Starting in XGBoost 1.3.0, the default evaluation metric used with the objective 'multi:softprob' was changed from 'merror' to 'mlogloss'. Explicitly set eval_metric if you'd like to restore the old behavior.\n",
      "[22:22:37] WARNING: C:/Users/Administrator/workspace/xgboost-win64_release_1.3.0/src/learner.cc:1061: Starting in XGBoost 1.3.0, the default evaluation metric used with the objective 'multi:softprob' was changed from 'merror' to 'mlogloss'. Explicitly set eval_metric if you'd like to restore the old behavior.\n",
      "[22:22:38] WARNING: C:/Users/Administrator/workspace/xgboost-win64_release_1.3.0/src/learner.cc:1061: Starting in XGBoost 1.3.0, the default evaluation metric used with the objective 'multi:softprob' was changed from 'merror' to 'mlogloss'. Explicitly set eval_metric if you'd like to restore the old behavior.\n",
      "[22:22:40] WARNING: C:/Users/Administrator/workspace/xgboost-win64_release_1.3.0/src/learner.cc:1061: Starting in XGBoost 1.3.0, the default evaluation metric used with the objective 'multi:softprob' was changed from 'merror' to 'mlogloss'. Explicitly set eval_metric if you'd like to restore the old behavior.\n",
      "Calculate:  113\n",
      "[22:22:45] WARNING: C:/Users/Administrator/workspace/xgboost-win64_release_1.3.0/src/learner.cc:1061: Starting in XGBoost 1.3.0, the default evaluation metric used with the objective 'multi:softprob' was changed from 'merror' to 'mlogloss'. Explicitly set eval_metric if you'd like to restore the old behavior.\n",
      "[22:22:46] WARNING: C:/Users/Administrator/workspace/xgboost-win64_release_1.3.0/src/learner.cc:1061: Starting in XGBoost 1.3.0, the default evaluation metric used with the objective 'multi:softprob' was changed from 'merror' to 'mlogloss'. Explicitly set eval_metric if you'd like to restore the old behavior.\n",
      "[22:22:48] WARNING: C:/Users/Administrator/workspace/xgboost-win64_release_1.3.0/src/learner.cc:1061: Starting in XGBoost 1.3.0, the default evaluation metric used with the objective 'multi:softprob' was changed from 'merror' to 'mlogloss'. Explicitly set eval_metric if you'd like to restore the old behavior.\n",
      "[22:22:49] WARNING: C:/Users/Administrator/workspace/xgboost-win64_release_1.3.0/src/learner.cc:1061: Starting in XGBoost 1.3.0, the default evaluation metric used with the objective 'multi:softprob' was changed from 'merror' to 'mlogloss'. Explicitly set eval_metric if you'd like to restore the old behavior.\n",
      "[22:22:50] WARNING: C:/Users/Administrator/workspace/xgboost-win64_release_1.3.0/src/learner.cc:1061: Starting in XGBoost 1.3.0, the default evaluation metric used with the objective 'multi:softprob' was changed from 'merror' to 'mlogloss'. Explicitly set eval_metric if you'd like to restore the old behavior.\n",
      "[22:22:52] WARNING: C:/Users/Administrator/workspace/xgboost-win64_release_1.3.0/src/learner.cc:1061: Starting in XGBoost 1.3.0, the default evaluation metric used with the objective 'multi:softprob' was changed from 'merror' to 'mlogloss'. Explicitly set eval_metric if you'd like to restore the old behavior.\n",
      "[22:22:53] WARNING: C:/Users/Administrator/workspace/xgboost-win64_release_1.3.0/src/learner.cc:1061: Starting in XGBoost 1.3.0, the default evaluation metric used with the objective 'multi:softprob' was changed from 'merror' to 'mlogloss'. Explicitly set eval_metric if you'd like to restore the old behavior.\n",
      "[22:22:54] WARNING: C:/Users/Administrator/workspace/xgboost-win64_release_1.3.0/src/learner.cc:1061: Starting in XGBoost 1.3.0, the default evaluation metric used with the objective 'multi:softprob' was changed from 'merror' to 'mlogloss'. Explicitly set eval_metric if you'd like to restore the old behavior.\n",
      "[22:22:56] WARNING: C:/Users/Administrator/workspace/xgboost-win64_release_1.3.0/src/learner.cc:1061: Starting in XGBoost 1.3.0, the default evaluation metric used with the objective 'multi:softprob' was changed from 'merror' to 'mlogloss'. Explicitly set eval_metric if you'd like to restore the old behavior.\n",
      "[22:22:57] WARNING: C:/Users/Administrator/workspace/xgboost-win64_release_1.3.0/src/learner.cc:1061: Starting in XGBoost 1.3.0, the default evaluation metric used with the objective 'multi:softprob' was changed from 'merror' to 'mlogloss'. Explicitly set eval_metric if you'd like to restore the old behavior.\n",
      "[22:22:59] WARNING: C:/Users/Administrator/workspace/xgboost-win64_release_1.3.0/src/learner.cc:1061: Starting in XGBoost 1.3.0, the default evaluation metric used with the objective 'multi:softprob' was changed from 'merror' to 'mlogloss'. Explicitly set eval_metric if you'd like to restore the old behavior.\n",
      "[22:23:00] WARNING: C:/Users/Administrator/workspace/xgboost-win64_release_1.3.0/src/learner.cc:1061: Starting in XGBoost 1.3.0, the default evaluation metric used with the objective 'multi:softprob' was changed from 'merror' to 'mlogloss'. Explicitly set eval_metric if you'd like to restore the old behavior.\n",
      "[22:23:01] WARNING: C:/Users/Administrator/workspace/xgboost-win64_release_1.3.0/src/learner.cc:1061: Starting in XGBoost 1.3.0, the default evaluation metric used with the objective 'multi:softprob' was changed from 'merror' to 'mlogloss'. Explicitly set eval_metric if you'd like to restore the old behavior.\n",
      "[22:23:03] WARNING: C:/Users/Administrator/workspace/xgboost-win64_release_1.3.0/src/learner.cc:1061: Starting in XGBoost 1.3.0, the default evaluation metric used with the objective 'multi:softprob' was changed from 'merror' to 'mlogloss'. Explicitly set eval_metric if you'd like to restore the old behavior.\n",
      "[22:23:04] WARNING: C:/Users/Administrator/workspace/xgboost-win64_release_1.3.0/src/learner.cc:1061: Starting in XGBoost 1.3.0, the default evaluation metric used with the objective 'multi:softprob' was changed from 'merror' to 'mlogloss'. Explicitly set eval_metric if you'd like to restore the old behavior.\n",
      "[22:23:06] WARNING: C:/Users/Administrator/workspace/xgboost-win64_release_1.3.0/src/learner.cc:1061: Starting in XGBoost 1.3.0, the default evaluation metric used with the objective 'multi:softprob' was changed from 'merror' to 'mlogloss'. Explicitly set eval_metric if you'd like to restore the old behavior.\n",
      "[22:23:07] WARNING: C:/Users/Administrator/workspace/xgboost-win64_release_1.3.0/src/learner.cc:1061: Starting in XGBoost 1.3.0, the default evaluation metric used with the objective 'multi:softprob' was changed from 'merror' to 'mlogloss'. Explicitly set eval_metric if you'd like to restore the old behavior.\n",
      "Calculate:  114\n",
      "[22:23:12] WARNING: C:/Users/Administrator/workspace/xgboost-win64_release_1.3.0/src/learner.cc:1061: Starting in XGBoost 1.3.0, the default evaluation metric used with the objective 'multi:softprob' was changed from 'merror' to 'mlogloss'. Explicitly set eval_metric if you'd like to restore the old behavior.\n",
      "[22:23:14] WARNING: C:/Users/Administrator/workspace/xgboost-win64_release_1.3.0/src/learner.cc:1061: Starting in XGBoost 1.3.0, the default evaluation metric used with the objective 'multi:softprob' was changed from 'merror' to 'mlogloss'. Explicitly set eval_metric if you'd like to restore the old behavior.\n",
      "[22:23:15] WARNING: C:/Users/Administrator/workspace/xgboost-win64_release_1.3.0/src/learner.cc:1061: Starting in XGBoost 1.3.0, the default evaluation metric used with the objective 'multi:softprob' was changed from 'merror' to 'mlogloss'. Explicitly set eval_metric if you'd like to restore the old behavior.\n",
      "[22:23:16] WARNING: C:/Users/Administrator/workspace/xgboost-win64_release_1.3.0/src/learner.cc:1061: Starting in XGBoost 1.3.0, the default evaluation metric used with the objective 'multi:softprob' was changed from 'merror' to 'mlogloss'. Explicitly set eval_metric if you'd like to restore the old behavior.\n",
      "[22:23:18] WARNING: C:/Users/Administrator/workspace/xgboost-win64_release_1.3.0/src/learner.cc:1061: Starting in XGBoost 1.3.0, the default evaluation metric used with the objective 'multi:softprob' was changed from 'merror' to 'mlogloss'. Explicitly set eval_metric if you'd like to restore the old behavior.\n",
      "[22:23:19] WARNING: C:/Users/Administrator/workspace/xgboost-win64_release_1.3.0/src/learner.cc:1061: Starting in XGBoost 1.3.0, the default evaluation metric used with the objective 'multi:softprob' was changed from 'merror' to 'mlogloss'. Explicitly set eval_metric if you'd like to restore the old behavior.\n",
      "[22:23:21] WARNING: C:/Users/Administrator/workspace/xgboost-win64_release_1.3.0/src/learner.cc:1061: Starting in XGBoost 1.3.0, the default evaluation metric used with the objective 'multi:softprob' was changed from 'merror' to 'mlogloss'. Explicitly set eval_metric if you'd like to restore the old behavior.\n",
      "[22:23:22] WARNING: C:/Users/Administrator/workspace/xgboost-win64_release_1.3.0/src/learner.cc:1061: Starting in XGBoost 1.3.0, the default evaluation metric used with the objective 'multi:softprob' was changed from 'merror' to 'mlogloss'. Explicitly set eval_metric if you'd like to restore the old behavior.\n",
      "[22:23:23] WARNING: C:/Users/Administrator/workspace/xgboost-win64_release_1.3.0/src/learner.cc:1061: Starting in XGBoost 1.3.0, the default evaluation metric used with the objective 'multi:softprob' was changed from 'merror' to 'mlogloss'. Explicitly set eval_metric if you'd like to restore the old behavior.\n",
      "[22:23:25] WARNING: C:/Users/Administrator/workspace/xgboost-win64_release_1.3.0/src/learner.cc:1061: Starting in XGBoost 1.3.0, the default evaluation metric used with the objective 'multi:softprob' was changed from 'merror' to 'mlogloss'. Explicitly set eval_metric if you'd like to restore the old behavior.\n",
      "[22:23:26] WARNING: C:/Users/Administrator/workspace/xgboost-win64_release_1.3.0/src/learner.cc:1061: Starting in XGBoost 1.3.0, the default evaluation metric used with the objective 'multi:softprob' was changed from 'merror' to 'mlogloss'. Explicitly set eval_metric if you'd like to restore the old behavior.\n",
      "[22:23:28] WARNING: C:/Users/Administrator/workspace/xgboost-win64_release_1.3.0/src/learner.cc:1061: Starting in XGBoost 1.3.0, the default evaluation metric used with the objective 'multi:softprob' was changed from 'merror' to 'mlogloss'. Explicitly set eval_metric if you'd like to restore the old behavior.\n",
      "[22:23:29] WARNING: C:/Users/Administrator/workspace/xgboost-win64_release_1.3.0/src/learner.cc:1061: Starting in XGBoost 1.3.0, the default evaluation metric used with the objective 'multi:softprob' was changed from 'merror' to 'mlogloss'. Explicitly set eval_metric if you'd like to restore the old behavior.\n",
      "[22:23:31] WARNING: C:/Users/Administrator/workspace/xgboost-win64_release_1.3.0/src/learner.cc:1061: Starting in XGBoost 1.3.0, the default evaluation metric used with the objective 'multi:softprob' was changed from 'merror' to 'mlogloss'. Explicitly set eval_metric if you'd like to restore the old behavior.\n",
      "[22:23:32] WARNING: C:/Users/Administrator/workspace/xgboost-win64_release_1.3.0/src/learner.cc:1061: Starting in XGBoost 1.3.0, the default evaluation metric used with the objective 'multi:softprob' was changed from 'merror' to 'mlogloss'. Explicitly set eval_metric if you'd like to restore the old behavior.\n",
      "[22:23:33] WARNING: C:/Users/Administrator/workspace/xgboost-win64_release_1.3.0/src/learner.cc:1061: Starting in XGBoost 1.3.0, the default evaluation metric used with the objective 'multi:softprob' was changed from 'merror' to 'mlogloss'. Explicitly set eval_metric if you'd like to restore the old behavior.\n",
      "[22:23:35] WARNING: C:/Users/Administrator/workspace/xgboost-win64_release_1.3.0/src/learner.cc:1061: Starting in XGBoost 1.3.0, the default evaluation metric used with the objective 'multi:softprob' was changed from 'merror' to 'mlogloss'. Explicitly set eval_metric if you'd like to restore the old behavior.\n",
      "Calculate:  115\n",
      "[22:23:40] WARNING: C:/Users/Administrator/workspace/xgboost-win64_release_1.3.0/src/learner.cc:1061: Starting in XGBoost 1.3.0, the default evaluation metric used with the objective 'multi:softprob' was changed from 'merror' to 'mlogloss'. Explicitly set eval_metric if you'd like to restore the old behavior.\n",
      "[22:23:42] WARNING: C:/Users/Administrator/workspace/xgboost-win64_release_1.3.0/src/learner.cc:1061: Starting in XGBoost 1.3.0, the default evaluation metric used with the objective 'multi:softprob' was changed from 'merror' to 'mlogloss'. Explicitly set eval_metric if you'd like to restore the old behavior.\n",
      "[22:23:43] WARNING: C:/Users/Administrator/workspace/xgboost-win64_release_1.3.0/src/learner.cc:1061: Starting in XGBoost 1.3.0, the default evaluation metric used with the objective 'multi:softprob' was changed from 'merror' to 'mlogloss'. Explicitly set eval_metric if you'd like to restore the old behavior.\n",
      "[22:23:44] WARNING: C:/Users/Administrator/workspace/xgboost-win64_release_1.3.0/src/learner.cc:1061: Starting in XGBoost 1.3.0, the default evaluation metric used with the objective 'multi:softprob' was changed from 'merror' to 'mlogloss'. Explicitly set eval_metric if you'd like to restore the old behavior.\n",
      "[22:23:46] WARNING: C:/Users/Administrator/workspace/xgboost-win64_release_1.3.0/src/learner.cc:1061: Starting in XGBoost 1.3.0, the default evaluation metric used with the objective 'multi:softprob' was changed from 'merror' to 'mlogloss'. Explicitly set eval_metric if you'd like to restore the old behavior.\n",
      "[22:23:47] WARNING: C:/Users/Administrator/workspace/xgboost-win64_release_1.3.0/src/learner.cc:1061: Starting in XGBoost 1.3.0, the default evaluation metric used with the objective 'multi:softprob' was changed from 'merror' to 'mlogloss'. Explicitly set eval_metric if you'd like to restore the old behavior.\n",
      "[22:23:49] WARNING: C:/Users/Administrator/workspace/xgboost-win64_release_1.3.0/src/learner.cc:1061: Starting in XGBoost 1.3.0, the default evaluation metric used with the objective 'multi:softprob' was changed from 'merror' to 'mlogloss'. Explicitly set eval_metric if you'd like to restore the old behavior.\n",
      "[22:23:50] WARNING: C:/Users/Administrator/workspace/xgboost-win64_release_1.3.0/src/learner.cc:1061: Starting in XGBoost 1.3.0, the default evaluation metric used with the objective 'multi:softprob' was changed from 'merror' to 'mlogloss'. Explicitly set eval_metric if you'd like to restore the old behavior.\n",
      "[22:23:52] WARNING: C:/Users/Administrator/workspace/xgboost-win64_release_1.3.0/src/learner.cc:1061: Starting in XGBoost 1.3.0, the default evaluation metric used with the objective 'multi:softprob' was changed from 'merror' to 'mlogloss'. Explicitly set eval_metric if you'd like to restore the old behavior.\n",
      "[22:23:53] WARNING: C:/Users/Administrator/workspace/xgboost-win64_release_1.3.0/src/learner.cc:1061: Starting in XGBoost 1.3.0, the default evaluation metric used with the objective 'multi:softprob' was changed from 'merror' to 'mlogloss'. Explicitly set eval_metric if you'd like to restore the old behavior.\n",
      "[22:23:54] WARNING: C:/Users/Administrator/workspace/xgboost-win64_release_1.3.0/src/learner.cc:1061: Starting in XGBoost 1.3.0, the default evaluation metric used with the objective 'multi:softprob' was changed from 'merror' to 'mlogloss'. Explicitly set eval_metric if you'd like to restore the old behavior.\n",
      "[22:23:56] WARNING: C:/Users/Administrator/workspace/xgboost-win64_release_1.3.0/src/learner.cc:1061: Starting in XGBoost 1.3.0, the default evaluation metric used with the objective 'multi:softprob' was changed from 'merror' to 'mlogloss'. Explicitly set eval_metric if you'd like to restore the old behavior.\n",
      "[22:23:57] WARNING: C:/Users/Administrator/workspace/xgboost-win64_release_1.3.0/src/learner.cc:1061: Starting in XGBoost 1.3.0, the default evaluation metric used with the objective 'multi:softprob' was changed from 'merror' to 'mlogloss'. Explicitly set eval_metric if you'd like to restore the old behavior.\n",
      "[22:23:59] WARNING: C:/Users/Administrator/workspace/xgboost-win64_release_1.3.0/src/learner.cc:1061: Starting in XGBoost 1.3.0, the default evaluation metric used with the objective 'multi:softprob' was changed from 'merror' to 'mlogloss'. Explicitly set eval_metric if you'd like to restore the old behavior.\n",
      "[22:24:00] WARNING: C:/Users/Administrator/workspace/xgboost-win64_release_1.3.0/src/learner.cc:1061: Starting in XGBoost 1.3.0, the default evaluation metric used with the objective 'multi:softprob' was changed from 'merror' to 'mlogloss'. Explicitly set eval_metric if you'd like to restore the old behavior.\n",
      "[22:24:01] WARNING: C:/Users/Administrator/workspace/xgboost-win64_release_1.3.0/src/learner.cc:1061: Starting in XGBoost 1.3.0, the default evaluation metric used with the objective 'multi:softprob' was changed from 'merror' to 'mlogloss'. Explicitly set eval_metric if you'd like to restore the old behavior.\n",
      "[22:24:03] WARNING: C:/Users/Administrator/workspace/xgboost-win64_release_1.3.0/src/learner.cc:1061: Starting in XGBoost 1.3.0, the default evaluation metric used with the objective 'multi:softprob' was changed from 'merror' to 'mlogloss'. Explicitly set eval_metric if you'd like to restore the old behavior.\n",
      "Calculate:  116\n",
      "[22:24:08] WARNING: C:/Users/Administrator/workspace/xgboost-win64_release_1.3.0/src/learner.cc:1061: Starting in XGBoost 1.3.0, the default evaluation metric used with the objective 'multi:softprob' was changed from 'merror' to 'mlogloss'. Explicitly set eval_metric if you'd like to restore the old behavior.\n",
      "[22:24:10] WARNING: C:/Users/Administrator/workspace/xgboost-win64_release_1.3.0/src/learner.cc:1061: Starting in XGBoost 1.3.0, the default evaluation metric used with the objective 'multi:softprob' was changed from 'merror' to 'mlogloss'. Explicitly set eval_metric if you'd like to restore the old behavior.\n",
      "[22:24:11] WARNING: C:/Users/Administrator/workspace/xgboost-win64_release_1.3.0/src/learner.cc:1061: Starting in XGBoost 1.3.0, the default evaluation metric used with the objective 'multi:softprob' was changed from 'merror' to 'mlogloss'. Explicitly set eval_metric if you'd like to restore the old behavior.\n",
      "[22:24:12] WARNING: C:/Users/Administrator/workspace/xgboost-win64_release_1.3.0/src/learner.cc:1061: Starting in XGBoost 1.3.0, the default evaluation metric used with the objective 'multi:softprob' was changed from 'merror' to 'mlogloss'. Explicitly set eval_metric if you'd like to restore the old behavior.\n",
      "[22:24:14] WARNING: C:/Users/Administrator/workspace/xgboost-win64_release_1.3.0/src/learner.cc:1061: Starting in XGBoost 1.3.0, the default evaluation metric used with the objective 'multi:softprob' was changed from 'merror' to 'mlogloss'. Explicitly set eval_metric if you'd like to restore the old behavior.\n",
      "[22:24:15] WARNING: C:/Users/Administrator/workspace/xgboost-win64_release_1.3.0/src/learner.cc:1061: Starting in XGBoost 1.3.0, the default evaluation metric used with the objective 'multi:softprob' was changed from 'merror' to 'mlogloss'. Explicitly set eval_metric if you'd like to restore the old behavior.\n",
      "[22:24:17] WARNING: C:/Users/Administrator/workspace/xgboost-win64_release_1.3.0/src/learner.cc:1061: Starting in XGBoost 1.3.0, the default evaluation metric used with the objective 'multi:softprob' was changed from 'merror' to 'mlogloss'. Explicitly set eval_metric if you'd like to restore the old behavior.\n",
      "[22:24:18] WARNING: C:/Users/Administrator/workspace/xgboost-win64_release_1.3.0/src/learner.cc:1061: Starting in XGBoost 1.3.0, the default evaluation metric used with the objective 'multi:softprob' was changed from 'merror' to 'mlogloss'. Explicitly set eval_metric if you'd like to restore the old behavior.\n",
      "[22:24:19] WARNING: C:/Users/Administrator/workspace/xgboost-win64_release_1.3.0/src/learner.cc:1061: Starting in XGBoost 1.3.0, the default evaluation metric used with the objective 'multi:softprob' was changed from 'merror' to 'mlogloss'. Explicitly set eval_metric if you'd like to restore the old behavior.\n",
      "[22:24:21] WARNING: C:/Users/Administrator/workspace/xgboost-win64_release_1.3.0/src/learner.cc:1061: Starting in XGBoost 1.3.0, the default evaluation metric used with the objective 'multi:softprob' was changed from 'merror' to 'mlogloss'. Explicitly set eval_metric if you'd like to restore the old behavior.\n",
      "[22:24:22] WARNING: C:/Users/Administrator/workspace/xgboost-win64_release_1.3.0/src/learner.cc:1061: Starting in XGBoost 1.3.0, the default evaluation metric used with the objective 'multi:softprob' was changed from 'merror' to 'mlogloss'. Explicitly set eval_metric if you'd like to restore the old behavior.\n",
      "[22:24:24] WARNING: C:/Users/Administrator/workspace/xgboost-win64_release_1.3.0/src/learner.cc:1061: Starting in XGBoost 1.3.0, the default evaluation metric used with the objective 'multi:softprob' was changed from 'merror' to 'mlogloss'. Explicitly set eval_metric if you'd like to restore the old behavior.\n",
      "[22:24:25] WARNING: C:/Users/Administrator/workspace/xgboost-win64_release_1.3.0/src/learner.cc:1061: Starting in XGBoost 1.3.0, the default evaluation metric used with the objective 'multi:softprob' was changed from 'merror' to 'mlogloss'. Explicitly set eval_metric if you'd like to restore the old behavior.\n",
      "[22:24:27] WARNING: C:/Users/Administrator/workspace/xgboost-win64_release_1.3.0/src/learner.cc:1061: Starting in XGBoost 1.3.0, the default evaluation metric used with the objective 'multi:softprob' was changed from 'merror' to 'mlogloss'. Explicitly set eval_metric if you'd like to restore the old behavior.\n",
      "[22:24:28] WARNING: C:/Users/Administrator/workspace/xgboost-win64_release_1.3.0/src/learner.cc:1061: Starting in XGBoost 1.3.0, the default evaluation metric used with the objective 'multi:softprob' was changed from 'merror' to 'mlogloss'. Explicitly set eval_metric if you'd like to restore the old behavior.\n",
      "[22:24:29] WARNING: C:/Users/Administrator/workspace/xgboost-win64_release_1.3.0/src/learner.cc:1061: Starting in XGBoost 1.3.0, the default evaluation metric used with the objective 'multi:softprob' was changed from 'merror' to 'mlogloss'. Explicitly set eval_metric if you'd like to restore the old behavior.\n",
      "[22:24:31] WARNING: C:/Users/Administrator/workspace/xgboost-win64_release_1.3.0/src/learner.cc:1061: Starting in XGBoost 1.3.0, the default evaluation metric used with the objective 'multi:softprob' was changed from 'merror' to 'mlogloss'. Explicitly set eval_metric if you'd like to restore the old behavior.\n",
      "Calculate:  117\n",
      "[22:24:36] WARNING: C:/Users/Administrator/workspace/xgboost-win64_release_1.3.0/src/learner.cc:1061: Starting in XGBoost 1.3.0, the default evaluation metric used with the objective 'multi:softprob' was changed from 'merror' to 'mlogloss'. Explicitly set eval_metric if you'd like to restore the old behavior.\n",
      "[22:24:38] WARNING: C:/Users/Administrator/workspace/xgboost-win64_release_1.3.0/src/learner.cc:1061: Starting in XGBoost 1.3.0, the default evaluation metric used with the objective 'multi:softprob' was changed from 'merror' to 'mlogloss'. Explicitly set eval_metric if you'd like to restore the old behavior.\n",
      "[22:24:39] WARNING: C:/Users/Administrator/workspace/xgboost-win64_release_1.3.0/src/learner.cc:1061: Starting in XGBoost 1.3.0, the default evaluation metric used with the objective 'multi:softprob' was changed from 'merror' to 'mlogloss'. Explicitly set eval_metric if you'd like to restore the old behavior.\n",
      "[22:24:41] WARNING: C:/Users/Administrator/workspace/xgboost-win64_release_1.3.0/src/learner.cc:1061: Starting in XGBoost 1.3.0, the default evaluation metric used with the objective 'multi:softprob' was changed from 'merror' to 'mlogloss'. Explicitly set eval_metric if you'd like to restore the old behavior.\n",
      "[22:24:42] WARNING: C:/Users/Administrator/workspace/xgboost-win64_release_1.3.0/src/learner.cc:1061: Starting in XGBoost 1.3.0, the default evaluation metric used with the objective 'multi:softprob' was changed from 'merror' to 'mlogloss'. Explicitly set eval_metric if you'd like to restore the old behavior.\n",
      "[22:24:43] WARNING: C:/Users/Administrator/workspace/xgboost-win64_release_1.3.0/src/learner.cc:1061: Starting in XGBoost 1.3.0, the default evaluation metric used with the objective 'multi:softprob' was changed from 'merror' to 'mlogloss'. Explicitly set eval_metric if you'd like to restore the old behavior.\n",
      "[22:24:45] WARNING: C:/Users/Administrator/workspace/xgboost-win64_release_1.3.0/src/learner.cc:1061: Starting in XGBoost 1.3.0, the default evaluation metric used with the objective 'multi:softprob' was changed from 'merror' to 'mlogloss'. Explicitly set eval_metric if you'd like to restore the old behavior.\n",
      "[22:24:46] WARNING: C:/Users/Administrator/workspace/xgboost-win64_release_1.3.0/src/learner.cc:1061: Starting in XGBoost 1.3.0, the default evaluation metric used with the objective 'multi:softprob' was changed from 'merror' to 'mlogloss'. Explicitly set eval_metric if you'd like to restore the old behavior.\n",
      "[22:24:48] WARNING: C:/Users/Administrator/workspace/xgboost-win64_release_1.3.0/src/learner.cc:1061: Starting in XGBoost 1.3.0, the default evaluation metric used with the objective 'multi:softprob' was changed from 'merror' to 'mlogloss'. Explicitly set eval_metric if you'd like to restore the old behavior.\n",
      "[22:24:49] WARNING: C:/Users/Administrator/workspace/xgboost-win64_release_1.3.0/src/learner.cc:1061: Starting in XGBoost 1.3.0, the default evaluation metric used with the objective 'multi:softprob' was changed from 'merror' to 'mlogloss'. Explicitly set eval_metric if you'd like to restore the old behavior.\n",
      "[22:24:50] WARNING: C:/Users/Administrator/workspace/xgboost-win64_release_1.3.0/src/learner.cc:1061: Starting in XGBoost 1.3.0, the default evaluation metric used with the objective 'multi:softprob' was changed from 'merror' to 'mlogloss'. Explicitly set eval_metric if you'd like to restore the old behavior.\n",
      "[22:24:52] WARNING: C:/Users/Administrator/workspace/xgboost-win64_release_1.3.0/src/learner.cc:1061: Starting in XGBoost 1.3.0, the default evaluation metric used with the objective 'multi:softprob' was changed from 'merror' to 'mlogloss'. Explicitly set eval_metric if you'd like to restore the old behavior.\n",
      "[22:24:53] WARNING: C:/Users/Administrator/workspace/xgboost-win64_release_1.3.0/src/learner.cc:1061: Starting in XGBoost 1.3.0, the default evaluation metric used with the objective 'multi:softprob' was changed from 'merror' to 'mlogloss'. Explicitly set eval_metric if you'd like to restore the old behavior.\n",
      "[22:24:55] WARNING: C:/Users/Administrator/workspace/xgboost-win64_release_1.3.0/src/learner.cc:1061: Starting in XGBoost 1.3.0, the default evaluation metric used with the objective 'multi:softprob' was changed from 'merror' to 'mlogloss'. Explicitly set eval_metric if you'd like to restore the old behavior.\n",
      "[22:24:56] WARNING: C:/Users/Administrator/workspace/xgboost-win64_release_1.3.0/src/learner.cc:1061: Starting in XGBoost 1.3.0, the default evaluation metric used with the objective 'multi:softprob' was changed from 'merror' to 'mlogloss'. Explicitly set eval_metric if you'd like to restore the old behavior.\n",
      "[22:24:57] WARNING: C:/Users/Administrator/workspace/xgboost-win64_release_1.3.0/src/learner.cc:1061: Starting in XGBoost 1.3.0, the default evaluation metric used with the objective 'multi:softprob' was changed from 'merror' to 'mlogloss'. Explicitly set eval_metric if you'd like to restore the old behavior.\n",
      "[22:24:59] WARNING: C:/Users/Administrator/workspace/xgboost-win64_release_1.3.0/src/learner.cc:1061: Starting in XGBoost 1.3.0, the default evaluation metric used with the objective 'multi:softprob' was changed from 'merror' to 'mlogloss'. Explicitly set eval_metric if you'd like to restore the old behavior.\n",
      "Calculate:  118\n",
      "[22:25:04] WARNING: C:/Users/Administrator/workspace/xgboost-win64_release_1.3.0/src/learner.cc:1061: Starting in XGBoost 1.3.0, the default evaluation metric used with the objective 'multi:softprob' was changed from 'merror' to 'mlogloss'. Explicitly set eval_metric if you'd like to restore the old behavior.\n",
      "[22:25:06] WARNING: C:/Users/Administrator/workspace/xgboost-win64_release_1.3.0/src/learner.cc:1061: Starting in XGBoost 1.3.0, the default evaluation metric used with the objective 'multi:softprob' was changed from 'merror' to 'mlogloss'. Explicitly set eval_metric if you'd like to restore the old behavior.\n",
      "[22:25:07] WARNING: C:/Users/Administrator/workspace/xgboost-win64_release_1.3.0/src/learner.cc:1061: Starting in XGBoost 1.3.0, the default evaluation metric used with the objective 'multi:softprob' was changed from 'merror' to 'mlogloss'. Explicitly set eval_metric if you'd like to restore the old behavior.\n",
      "[22:25:08] WARNING: C:/Users/Administrator/workspace/xgboost-win64_release_1.3.0/src/learner.cc:1061: Starting in XGBoost 1.3.0, the default evaluation metric used with the objective 'multi:softprob' was changed from 'merror' to 'mlogloss'. Explicitly set eval_metric if you'd like to restore the old behavior.\n",
      "[22:25:10] WARNING: C:/Users/Administrator/workspace/xgboost-win64_release_1.3.0/src/learner.cc:1061: Starting in XGBoost 1.3.0, the default evaluation metric used with the objective 'multi:softprob' was changed from 'merror' to 'mlogloss'. Explicitly set eval_metric if you'd like to restore the old behavior.\n",
      "[22:25:11] WARNING: C:/Users/Administrator/workspace/xgboost-win64_release_1.3.0/src/learner.cc:1061: Starting in XGBoost 1.3.0, the default evaluation metric used with the objective 'multi:softprob' was changed from 'merror' to 'mlogloss'. Explicitly set eval_metric if you'd like to restore the old behavior.\n",
      "[22:25:12] WARNING: C:/Users/Administrator/workspace/xgboost-win64_release_1.3.0/src/learner.cc:1061: Starting in XGBoost 1.3.0, the default evaluation metric used with the objective 'multi:softprob' was changed from 'merror' to 'mlogloss'. Explicitly set eval_metric if you'd like to restore the old behavior.\n",
      "[22:25:14] WARNING: C:/Users/Administrator/workspace/xgboost-win64_release_1.3.0/src/learner.cc:1061: Starting in XGBoost 1.3.0, the default evaluation metric used with the objective 'multi:softprob' was changed from 'merror' to 'mlogloss'. Explicitly set eval_metric if you'd like to restore the old behavior.\n",
      "[22:25:15] WARNING: C:/Users/Administrator/workspace/xgboost-win64_release_1.3.0/src/learner.cc:1061: Starting in XGBoost 1.3.0, the default evaluation metric used with the objective 'multi:softprob' was changed from 'merror' to 'mlogloss'. Explicitly set eval_metric if you'd like to restore the old behavior.\n",
      "[22:25:17] WARNING: C:/Users/Administrator/workspace/xgboost-win64_release_1.3.0/src/learner.cc:1061: Starting in XGBoost 1.3.0, the default evaluation metric used with the objective 'multi:softprob' was changed from 'merror' to 'mlogloss'. Explicitly set eval_metric if you'd like to restore the old behavior.\n",
      "[22:25:18] WARNING: C:/Users/Administrator/workspace/xgboost-win64_release_1.3.0/src/learner.cc:1061: Starting in XGBoost 1.3.0, the default evaluation metric used with the objective 'multi:softprob' was changed from 'merror' to 'mlogloss'. Explicitly set eval_metric if you'd like to restore the old behavior.\n",
      "[22:25:19] WARNING: C:/Users/Administrator/workspace/xgboost-win64_release_1.3.0/src/learner.cc:1061: Starting in XGBoost 1.3.0, the default evaluation metric used with the objective 'multi:softprob' was changed from 'merror' to 'mlogloss'. Explicitly set eval_metric if you'd like to restore the old behavior.\n",
      "[22:25:21] WARNING: C:/Users/Administrator/workspace/xgboost-win64_release_1.3.0/src/learner.cc:1061: Starting in XGBoost 1.3.0, the default evaluation metric used with the objective 'multi:softprob' was changed from 'merror' to 'mlogloss'. Explicitly set eval_metric if you'd like to restore the old behavior.\n",
      "[22:25:22] WARNING: C:/Users/Administrator/workspace/xgboost-win64_release_1.3.0/src/learner.cc:1061: Starting in XGBoost 1.3.0, the default evaluation metric used with the objective 'multi:softprob' was changed from 'merror' to 'mlogloss'. Explicitly set eval_metric if you'd like to restore the old behavior.\n",
      "[22:25:24] WARNING: C:/Users/Administrator/workspace/xgboost-win64_release_1.3.0/src/learner.cc:1061: Starting in XGBoost 1.3.0, the default evaluation metric used with the objective 'multi:softprob' was changed from 'merror' to 'mlogloss'. Explicitly set eval_metric if you'd like to restore the old behavior.\n",
      "[22:25:25] WARNING: C:/Users/Administrator/workspace/xgboost-win64_release_1.3.0/src/learner.cc:1061: Starting in XGBoost 1.3.0, the default evaluation metric used with the objective 'multi:softprob' was changed from 'merror' to 'mlogloss'. Explicitly set eval_metric if you'd like to restore the old behavior.\n",
      "[22:25:27] WARNING: C:/Users/Administrator/workspace/xgboost-win64_release_1.3.0/src/learner.cc:1061: Starting in XGBoost 1.3.0, the default evaluation metric used with the objective 'multi:softprob' was changed from 'merror' to 'mlogloss'. Explicitly set eval_metric if you'd like to restore the old behavior.\n",
      "Calculate:  119\n",
      "[22:25:32] WARNING: C:/Users/Administrator/workspace/xgboost-win64_release_1.3.0/src/learner.cc:1061: Starting in XGBoost 1.3.0, the default evaluation metric used with the objective 'multi:softprob' was changed from 'merror' to 'mlogloss'. Explicitly set eval_metric if you'd like to restore the old behavior.\n",
      "[22:25:34] WARNING: C:/Users/Administrator/workspace/xgboost-win64_release_1.3.0/src/learner.cc:1061: Starting in XGBoost 1.3.0, the default evaluation metric used with the objective 'multi:softprob' was changed from 'merror' to 'mlogloss'. Explicitly set eval_metric if you'd like to restore the old behavior.\n",
      "[22:25:35] WARNING: C:/Users/Administrator/workspace/xgboost-win64_release_1.3.0/src/learner.cc:1061: Starting in XGBoost 1.3.0, the default evaluation metric used with the objective 'multi:softprob' was changed from 'merror' to 'mlogloss'. Explicitly set eval_metric if you'd like to restore the old behavior.\n",
      "[22:25:36] WARNING: C:/Users/Administrator/workspace/xgboost-win64_release_1.3.0/src/learner.cc:1061: Starting in XGBoost 1.3.0, the default evaluation metric used with the objective 'multi:softprob' was changed from 'merror' to 'mlogloss'. Explicitly set eval_metric if you'd like to restore the old behavior.\n",
      "[22:25:38] WARNING: C:/Users/Administrator/workspace/xgboost-win64_release_1.3.0/src/learner.cc:1061: Starting in XGBoost 1.3.0, the default evaluation metric used with the objective 'multi:softprob' was changed from 'merror' to 'mlogloss'. Explicitly set eval_metric if you'd like to restore the old behavior.\n",
      "[22:25:39] WARNING: C:/Users/Administrator/workspace/xgboost-win64_release_1.3.0/src/learner.cc:1061: Starting in XGBoost 1.3.0, the default evaluation metric used with the objective 'multi:softprob' was changed from 'merror' to 'mlogloss'. Explicitly set eval_metric if you'd like to restore the old behavior.\n",
      "[22:25:41] WARNING: C:/Users/Administrator/workspace/xgboost-win64_release_1.3.0/src/learner.cc:1061: Starting in XGBoost 1.3.0, the default evaluation metric used with the objective 'multi:softprob' was changed from 'merror' to 'mlogloss'. Explicitly set eval_metric if you'd like to restore the old behavior.\n",
      "[22:25:42] WARNING: C:/Users/Administrator/workspace/xgboost-win64_release_1.3.0/src/learner.cc:1061: Starting in XGBoost 1.3.0, the default evaluation metric used with the objective 'multi:softprob' was changed from 'merror' to 'mlogloss'. Explicitly set eval_metric if you'd like to restore the old behavior.\n",
      "[22:25:43] WARNING: C:/Users/Administrator/workspace/xgboost-win64_release_1.3.0/src/learner.cc:1061: Starting in XGBoost 1.3.0, the default evaluation metric used with the objective 'multi:softprob' was changed from 'merror' to 'mlogloss'. Explicitly set eval_metric if you'd like to restore the old behavior.\n",
      "[22:25:45] WARNING: C:/Users/Administrator/workspace/xgboost-win64_release_1.3.0/src/learner.cc:1061: Starting in XGBoost 1.3.0, the default evaluation metric used with the objective 'multi:softprob' was changed from 'merror' to 'mlogloss'. Explicitly set eval_metric if you'd like to restore the old behavior.\n",
      "[22:25:46] WARNING: C:/Users/Administrator/workspace/xgboost-win64_release_1.3.0/src/learner.cc:1061: Starting in XGBoost 1.3.0, the default evaluation metric used with the objective 'multi:softprob' was changed from 'merror' to 'mlogloss'. Explicitly set eval_metric if you'd like to restore the old behavior.\n",
      "[22:25:48] WARNING: C:/Users/Administrator/workspace/xgboost-win64_release_1.3.0/src/learner.cc:1061: Starting in XGBoost 1.3.0, the default evaluation metric used with the objective 'multi:softprob' was changed from 'merror' to 'mlogloss'. Explicitly set eval_metric if you'd like to restore the old behavior.\n",
      "[22:25:49] WARNING: C:/Users/Administrator/workspace/xgboost-win64_release_1.3.0/src/learner.cc:1061: Starting in XGBoost 1.3.0, the default evaluation metric used with the objective 'multi:softprob' was changed from 'merror' to 'mlogloss'. Explicitly set eval_metric if you'd like to restore the old behavior.\n",
      "[22:25:50] WARNING: C:/Users/Administrator/workspace/xgboost-win64_release_1.3.0/src/learner.cc:1061: Starting in XGBoost 1.3.0, the default evaluation metric used with the objective 'multi:softprob' was changed from 'merror' to 'mlogloss'. Explicitly set eval_metric if you'd like to restore the old behavior.\n",
      "[22:25:52] WARNING: C:/Users/Administrator/workspace/xgboost-win64_release_1.3.0/src/learner.cc:1061: Starting in XGBoost 1.3.0, the default evaluation metric used with the objective 'multi:softprob' was changed from 'merror' to 'mlogloss'. Explicitly set eval_metric if you'd like to restore the old behavior.\n",
      "[22:25:53] WARNING: C:/Users/Administrator/workspace/xgboost-win64_release_1.3.0/src/learner.cc:1061: Starting in XGBoost 1.3.0, the default evaluation metric used with the objective 'multi:softprob' was changed from 'merror' to 'mlogloss'. Explicitly set eval_metric if you'd like to restore the old behavior.\n",
      "[22:25:55] WARNING: C:/Users/Administrator/workspace/xgboost-win64_release_1.3.0/src/learner.cc:1061: Starting in XGBoost 1.3.0, the default evaluation metric used with the objective 'multi:softprob' was changed from 'merror' to 'mlogloss'. Explicitly set eval_metric if you'd like to restore the old behavior.\n",
      "Calculate:  120\n",
      "[22:26:00] WARNING: C:/Users/Administrator/workspace/xgboost-win64_release_1.3.0/src/learner.cc:1061: Starting in XGBoost 1.3.0, the default evaluation metric used with the objective 'multi:softprob' was changed from 'merror' to 'mlogloss'. Explicitly set eval_metric if you'd like to restore the old behavior.\n",
      "[22:26:02] WARNING: C:/Users/Administrator/workspace/xgboost-win64_release_1.3.0/src/learner.cc:1061: Starting in XGBoost 1.3.0, the default evaluation metric used with the objective 'multi:softprob' was changed from 'merror' to 'mlogloss'. Explicitly set eval_metric if you'd like to restore the old behavior.\n",
      "[22:26:03] WARNING: C:/Users/Administrator/workspace/xgboost-win64_release_1.3.0/src/learner.cc:1061: Starting in XGBoost 1.3.0, the default evaluation metric used with the objective 'multi:softprob' was changed from 'merror' to 'mlogloss'. Explicitly set eval_metric if you'd like to restore the old behavior.\n",
      "[22:26:04] WARNING: C:/Users/Administrator/workspace/xgboost-win64_release_1.3.0/src/learner.cc:1061: Starting in XGBoost 1.3.0, the default evaluation metric used with the objective 'multi:softprob' was changed from 'merror' to 'mlogloss'. Explicitly set eval_metric if you'd like to restore the old behavior.\n",
      "[22:26:06] WARNING: C:/Users/Administrator/workspace/xgboost-win64_release_1.3.0/src/learner.cc:1061: Starting in XGBoost 1.3.0, the default evaluation metric used with the objective 'multi:softprob' was changed from 'merror' to 'mlogloss'. Explicitly set eval_metric if you'd like to restore the old behavior.\n",
      "[22:26:07] WARNING: C:/Users/Administrator/workspace/xgboost-win64_release_1.3.0/src/learner.cc:1061: Starting in XGBoost 1.3.0, the default evaluation metric used with the objective 'multi:softprob' was changed from 'merror' to 'mlogloss'. Explicitly set eval_metric if you'd like to restore the old behavior.\n",
      "[22:26:09] WARNING: C:/Users/Administrator/workspace/xgboost-win64_release_1.3.0/src/learner.cc:1061: Starting in XGBoost 1.3.0, the default evaluation metric used with the objective 'multi:softprob' was changed from 'merror' to 'mlogloss'. Explicitly set eval_metric if you'd like to restore the old behavior.\n",
      "[22:26:10] WARNING: C:/Users/Administrator/workspace/xgboost-win64_release_1.3.0/src/learner.cc:1061: Starting in XGBoost 1.3.0, the default evaluation metric used with the objective 'multi:softprob' was changed from 'merror' to 'mlogloss'. Explicitly set eval_metric if you'd like to restore the old behavior.\n",
      "[22:26:11] WARNING: C:/Users/Administrator/workspace/xgboost-win64_release_1.3.0/src/learner.cc:1061: Starting in XGBoost 1.3.0, the default evaluation metric used with the objective 'multi:softprob' was changed from 'merror' to 'mlogloss'. Explicitly set eval_metric if you'd like to restore the old behavior.\n",
      "[22:26:13] WARNING: C:/Users/Administrator/workspace/xgboost-win64_release_1.3.0/src/learner.cc:1061: Starting in XGBoost 1.3.0, the default evaluation metric used with the objective 'multi:softprob' was changed from 'merror' to 'mlogloss'. Explicitly set eval_metric if you'd like to restore the old behavior.\n",
      "[22:26:14] WARNING: C:/Users/Administrator/workspace/xgboost-win64_release_1.3.0/src/learner.cc:1061: Starting in XGBoost 1.3.0, the default evaluation metric used with the objective 'multi:softprob' was changed from 'merror' to 'mlogloss'. Explicitly set eval_metric if you'd like to restore the old behavior.\n",
      "[22:26:16] WARNING: C:/Users/Administrator/workspace/xgboost-win64_release_1.3.0/src/learner.cc:1061: Starting in XGBoost 1.3.0, the default evaluation metric used with the objective 'multi:softprob' was changed from 'merror' to 'mlogloss'. Explicitly set eval_metric if you'd like to restore the old behavior.\n",
      "[22:26:17] WARNING: C:/Users/Administrator/workspace/xgboost-win64_release_1.3.0/src/learner.cc:1061: Starting in XGBoost 1.3.0, the default evaluation metric used with the objective 'multi:softprob' was changed from 'merror' to 'mlogloss'. Explicitly set eval_metric if you'd like to restore the old behavior.\n",
      "[22:26:19] WARNING: C:/Users/Administrator/workspace/xgboost-win64_release_1.3.0/src/learner.cc:1061: Starting in XGBoost 1.3.0, the default evaluation metric used with the objective 'multi:softprob' was changed from 'merror' to 'mlogloss'. Explicitly set eval_metric if you'd like to restore the old behavior.\n",
      "[22:26:20] WARNING: C:/Users/Administrator/workspace/xgboost-win64_release_1.3.0/src/learner.cc:1061: Starting in XGBoost 1.3.0, the default evaluation metric used with the objective 'multi:softprob' was changed from 'merror' to 'mlogloss'. Explicitly set eval_metric if you'd like to restore the old behavior.\n",
      "[22:26:22] WARNING: C:/Users/Administrator/workspace/xgboost-win64_release_1.3.0/src/learner.cc:1061: Starting in XGBoost 1.3.0, the default evaluation metric used with the objective 'multi:softprob' was changed from 'merror' to 'mlogloss'. Explicitly set eval_metric if you'd like to restore the old behavior.\n",
      "[22:26:23] WARNING: C:/Users/Administrator/workspace/xgboost-win64_release_1.3.0/src/learner.cc:1061: Starting in XGBoost 1.3.0, the default evaluation metric used with the objective 'multi:softprob' was changed from 'merror' to 'mlogloss'. Explicitly set eval_metric if you'd like to restore the old behavior.\n",
      "Calculate:  121\n",
      "[22:26:28] WARNING: C:/Users/Administrator/workspace/xgboost-win64_release_1.3.0/src/learner.cc:1061: Starting in XGBoost 1.3.0, the default evaluation metric used with the objective 'multi:softprob' was changed from 'merror' to 'mlogloss'. Explicitly set eval_metric if you'd like to restore the old behavior.\n",
      "[22:26:30] WARNING: C:/Users/Administrator/workspace/xgboost-win64_release_1.3.0/src/learner.cc:1061: Starting in XGBoost 1.3.0, the default evaluation metric used with the objective 'multi:softprob' was changed from 'merror' to 'mlogloss'. Explicitly set eval_metric if you'd like to restore the old behavior.\n",
      "[22:26:31] WARNING: C:/Users/Administrator/workspace/xgboost-win64_release_1.3.0/src/learner.cc:1061: Starting in XGBoost 1.3.0, the default evaluation metric used with the objective 'multi:softprob' was changed from 'merror' to 'mlogloss'. Explicitly set eval_metric if you'd like to restore the old behavior.\n",
      "[22:26:33] WARNING: C:/Users/Administrator/workspace/xgboost-win64_release_1.3.0/src/learner.cc:1061: Starting in XGBoost 1.3.0, the default evaluation metric used with the objective 'multi:softprob' was changed from 'merror' to 'mlogloss'. Explicitly set eval_metric if you'd like to restore the old behavior.\n",
      "[22:26:34] WARNING: C:/Users/Administrator/workspace/xgboost-win64_release_1.3.0/src/learner.cc:1061: Starting in XGBoost 1.3.0, the default evaluation metric used with the objective 'multi:softprob' was changed from 'merror' to 'mlogloss'. Explicitly set eval_metric if you'd like to restore the old behavior.\n",
      "[22:26:36] WARNING: C:/Users/Administrator/workspace/xgboost-win64_release_1.3.0/src/learner.cc:1061: Starting in XGBoost 1.3.0, the default evaluation metric used with the objective 'multi:softprob' was changed from 'merror' to 'mlogloss'. Explicitly set eval_metric if you'd like to restore the old behavior.\n",
      "[22:26:37] WARNING: C:/Users/Administrator/workspace/xgboost-win64_release_1.3.0/src/learner.cc:1061: Starting in XGBoost 1.3.0, the default evaluation metric used with the objective 'multi:softprob' was changed from 'merror' to 'mlogloss'. Explicitly set eval_metric if you'd like to restore the old behavior.\n",
      "[22:26:38] WARNING: C:/Users/Administrator/workspace/xgboost-win64_release_1.3.0/src/learner.cc:1061: Starting in XGBoost 1.3.0, the default evaluation metric used with the objective 'multi:softprob' was changed from 'merror' to 'mlogloss'. Explicitly set eval_metric if you'd like to restore the old behavior.\n",
      "[22:26:40] WARNING: C:/Users/Administrator/workspace/xgboost-win64_release_1.3.0/src/learner.cc:1061: Starting in XGBoost 1.3.0, the default evaluation metric used with the objective 'multi:softprob' was changed from 'merror' to 'mlogloss'. Explicitly set eval_metric if you'd like to restore the old behavior.\n",
      "[22:26:41] WARNING: C:/Users/Administrator/workspace/xgboost-win64_release_1.3.0/src/learner.cc:1061: Starting in XGBoost 1.3.0, the default evaluation metric used with the objective 'multi:softprob' was changed from 'merror' to 'mlogloss'. Explicitly set eval_metric if you'd like to restore the old behavior.\n",
      "[22:26:43] WARNING: C:/Users/Administrator/workspace/xgboost-win64_release_1.3.0/src/learner.cc:1061: Starting in XGBoost 1.3.0, the default evaluation metric used with the objective 'multi:softprob' was changed from 'merror' to 'mlogloss'. Explicitly set eval_metric if you'd like to restore the old behavior.\n",
      "[22:26:44] WARNING: C:/Users/Administrator/workspace/xgboost-win64_release_1.3.0/src/learner.cc:1061: Starting in XGBoost 1.3.0, the default evaluation metric used with the objective 'multi:softprob' was changed from 'merror' to 'mlogloss'. Explicitly set eval_metric if you'd like to restore the old behavior.\n",
      "[22:26:45] WARNING: C:/Users/Administrator/workspace/xgboost-win64_release_1.3.0/src/learner.cc:1061: Starting in XGBoost 1.3.0, the default evaluation metric used with the objective 'multi:softprob' was changed from 'merror' to 'mlogloss'. Explicitly set eval_metric if you'd like to restore the old behavior.\n",
      "[22:26:47] WARNING: C:/Users/Administrator/workspace/xgboost-win64_release_1.3.0/src/learner.cc:1061: Starting in XGBoost 1.3.0, the default evaluation metric used with the objective 'multi:softprob' was changed from 'merror' to 'mlogloss'. Explicitly set eval_metric if you'd like to restore the old behavior.\n",
      "[22:26:48] WARNING: C:/Users/Administrator/workspace/xgboost-win64_release_1.3.0/src/learner.cc:1061: Starting in XGBoost 1.3.0, the default evaluation metric used with the objective 'multi:softprob' was changed from 'merror' to 'mlogloss'. Explicitly set eval_metric if you'd like to restore the old behavior.\n",
      "[22:26:50] WARNING: C:/Users/Administrator/workspace/xgboost-win64_release_1.3.0/src/learner.cc:1061: Starting in XGBoost 1.3.0, the default evaluation metric used with the objective 'multi:softprob' was changed from 'merror' to 'mlogloss'. Explicitly set eval_metric if you'd like to restore the old behavior.\n",
      "[22:26:51] WARNING: C:/Users/Administrator/workspace/xgboost-win64_release_1.3.0/src/learner.cc:1061: Starting in XGBoost 1.3.0, the default evaluation metric used with the objective 'multi:softprob' was changed from 'merror' to 'mlogloss'. Explicitly set eval_metric if you'd like to restore the old behavior.\n",
      "Calculate:  122\n",
      "[22:26:57] WARNING: C:/Users/Administrator/workspace/xgboost-win64_release_1.3.0/src/learner.cc:1061: Starting in XGBoost 1.3.0, the default evaluation metric used with the objective 'multi:softprob' was changed from 'merror' to 'mlogloss'. Explicitly set eval_metric if you'd like to restore the old behavior.\n",
      "[22:26:58] WARNING: C:/Users/Administrator/workspace/xgboost-win64_release_1.3.0/src/learner.cc:1061: Starting in XGBoost 1.3.0, the default evaluation metric used with the objective 'multi:softprob' was changed from 'merror' to 'mlogloss'. Explicitly set eval_metric if you'd like to restore the old behavior.\n",
      "[22:27:00] WARNING: C:/Users/Administrator/workspace/xgboost-win64_release_1.3.0/src/learner.cc:1061: Starting in XGBoost 1.3.0, the default evaluation metric used with the objective 'multi:softprob' was changed from 'merror' to 'mlogloss'. Explicitly set eval_metric if you'd like to restore the old behavior.\n",
      "[22:27:01] WARNING: C:/Users/Administrator/workspace/xgboost-win64_release_1.3.0/src/learner.cc:1061: Starting in XGBoost 1.3.0, the default evaluation metric used with the objective 'multi:softprob' was changed from 'merror' to 'mlogloss'. Explicitly set eval_metric if you'd like to restore the old behavior.\n",
      "[22:27:02] WARNING: C:/Users/Administrator/workspace/xgboost-win64_release_1.3.0/src/learner.cc:1061: Starting in XGBoost 1.3.0, the default evaluation metric used with the objective 'multi:softprob' was changed from 'merror' to 'mlogloss'. Explicitly set eval_metric if you'd like to restore the old behavior.\n",
      "[22:27:04] WARNING: C:/Users/Administrator/workspace/xgboost-win64_release_1.3.0/src/learner.cc:1061: Starting in XGBoost 1.3.0, the default evaluation metric used with the objective 'multi:softprob' was changed from 'merror' to 'mlogloss'. Explicitly set eval_metric if you'd like to restore the old behavior.\n",
      "[22:27:05] WARNING: C:/Users/Administrator/workspace/xgboost-win64_release_1.3.0/src/learner.cc:1061: Starting in XGBoost 1.3.0, the default evaluation metric used with the objective 'multi:softprob' was changed from 'merror' to 'mlogloss'. Explicitly set eval_metric if you'd like to restore the old behavior.\n",
      "[22:27:07] WARNING: C:/Users/Administrator/workspace/xgboost-win64_release_1.3.0/src/learner.cc:1061: Starting in XGBoost 1.3.0, the default evaluation metric used with the objective 'multi:softprob' was changed from 'merror' to 'mlogloss'. Explicitly set eval_metric if you'd like to restore the old behavior.\n",
      "[22:27:08] WARNING: C:/Users/Administrator/workspace/xgboost-win64_release_1.3.0/src/learner.cc:1061: Starting in XGBoost 1.3.0, the default evaluation metric used with the objective 'multi:softprob' was changed from 'merror' to 'mlogloss'. Explicitly set eval_metric if you'd like to restore the old behavior.\n",
      "[22:27:09] WARNING: C:/Users/Administrator/workspace/xgboost-win64_release_1.3.0/src/learner.cc:1061: Starting in XGBoost 1.3.0, the default evaluation metric used with the objective 'multi:softprob' was changed from 'merror' to 'mlogloss'. Explicitly set eval_metric if you'd like to restore the old behavior.\n",
      "[22:27:11] WARNING: C:/Users/Administrator/workspace/xgboost-win64_release_1.3.0/src/learner.cc:1061: Starting in XGBoost 1.3.0, the default evaluation metric used with the objective 'multi:softprob' was changed from 'merror' to 'mlogloss'. Explicitly set eval_metric if you'd like to restore the old behavior.\n",
      "[22:27:12] WARNING: C:/Users/Administrator/workspace/xgboost-win64_release_1.3.0/src/learner.cc:1061: Starting in XGBoost 1.3.0, the default evaluation metric used with the objective 'multi:softprob' was changed from 'merror' to 'mlogloss'. Explicitly set eval_metric if you'd like to restore the old behavior.\n",
      "[22:27:14] WARNING: C:/Users/Administrator/workspace/xgboost-win64_release_1.3.0/src/learner.cc:1061: Starting in XGBoost 1.3.0, the default evaluation metric used with the objective 'multi:softprob' was changed from 'merror' to 'mlogloss'. Explicitly set eval_metric if you'd like to restore the old behavior.\n",
      "[22:27:15] WARNING: C:/Users/Administrator/workspace/xgboost-win64_release_1.3.0/src/learner.cc:1061: Starting in XGBoost 1.3.0, the default evaluation metric used with the objective 'multi:softprob' was changed from 'merror' to 'mlogloss'. Explicitly set eval_metric if you'd like to restore the old behavior.\n",
      "[22:27:17] WARNING: C:/Users/Administrator/workspace/xgboost-win64_release_1.3.0/src/learner.cc:1061: Starting in XGBoost 1.3.0, the default evaluation metric used with the objective 'multi:softprob' was changed from 'merror' to 'mlogloss'. Explicitly set eval_metric if you'd like to restore the old behavior.\n",
      "[22:27:18] WARNING: C:/Users/Administrator/workspace/xgboost-win64_release_1.3.0/src/learner.cc:1061: Starting in XGBoost 1.3.0, the default evaluation metric used with the objective 'multi:softprob' was changed from 'merror' to 'mlogloss'. Explicitly set eval_metric if you'd like to restore the old behavior.\n",
      "[22:27:20] WARNING: C:/Users/Administrator/workspace/xgboost-win64_release_1.3.0/src/learner.cc:1061: Starting in XGBoost 1.3.0, the default evaluation metric used with the objective 'multi:softprob' was changed from 'merror' to 'mlogloss'. Explicitly set eval_metric if you'd like to restore the old behavior.\n",
      "Calculate:  123\n",
      "[22:27:25] WARNING: C:/Users/Administrator/workspace/xgboost-win64_release_1.3.0/src/learner.cc:1061: Starting in XGBoost 1.3.0, the default evaluation metric used with the objective 'multi:softprob' was changed from 'merror' to 'mlogloss'. Explicitly set eval_metric if you'd like to restore the old behavior.\n",
      "[22:27:27] WARNING: C:/Users/Administrator/workspace/xgboost-win64_release_1.3.0/src/learner.cc:1061: Starting in XGBoost 1.3.0, the default evaluation metric used with the objective 'multi:softprob' was changed from 'merror' to 'mlogloss'. Explicitly set eval_metric if you'd like to restore the old behavior.\n",
      "[22:27:28] WARNING: C:/Users/Administrator/workspace/xgboost-win64_release_1.3.0/src/learner.cc:1061: Starting in XGBoost 1.3.0, the default evaluation metric used with the objective 'multi:softprob' was changed from 'merror' to 'mlogloss'. Explicitly set eval_metric if you'd like to restore the old behavior.\n",
      "[22:27:29] WARNING: C:/Users/Administrator/workspace/xgboost-win64_release_1.3.0/src/learner.cc:1061: Starting in XGBoost 1.3.0, the default evaluation metric used with the objective 'multi:softprob' was changed from 'merror' to 'mlogloss'. Explicitly set eval_metric if you'd like to restore the old behavior.\n",
      "[22:27:31] WARNING: C:/Users/Administrator/workspace/xgboost-win64_release_1.3.0/src/learner.cc:1061: Starting in XGBoost 1.3.0, the default evaluation metric used with the objective 'multi:softprob' was changed from 'merror' to 'mlogloss'. Explicitly set eval_metric if you'd like to restore the old behavior.\n",
      "[22:27:32] WARNING: C:/Users/Administrator/workspace/xgboost-win64_release_1.3.0/src/learner.cc:1061: Starting in XGBoost 1.3.0, the default evaluation metric used with the objective 'multi:softprob' was changed from 'merror' to 'mlogloss'. Explicitly set eval_metric if you'd like to restore the old behavior.\n",
      "[22:27:34] WARNING: C:/Users/Administrator/workspace/xgboost-win64_release_1.3.0/src/learner.cc:1061: Starting in XGBoost 1.3.0, the default evaluation metric used with the objective 'multi:softprob' was changed from 'merror' to 'mlogloss'. Explicitly set eval_metric if you'd like to restore the old behavior.\n",
      "[22:27:35] WARNING: C:/Users/Administrator/workspace/xgboost-win64_release_1.3.0/src/learner.cc:1061: Starting in XGBoost 1.3.0, the default evaluation metric used with the objective 'multi:softprob' was changed from 'merror' to 'mlogloss'. Explicitly set eval_metric if you'd like to restore the old behavior.\n",
      "[22:27:37] WARNING: C:/Users/Administrator/workspace/xgboost-win64_release_1.3.0/src/learner.cc:1061: Starting in XGBoost 1.3.0, the default evaluation metric used with the objective 'multi:softprob' was changed from 'merror' to 'mlogloss'. Explicitly set eval_metric if you'd like to restore the old behavior.\n",
      "[22:27:38] WARNING: C:/Users/Administrator/workspace/xgboost-win64_release_1.3.0/src/learner.cc:1061: Starting in XGBoost 1.3.0, the default evaluation metric used with the objective 'multi:softprob' was changed from 'merror' to 'mlogloss'. Explicitly set eval_metric if you'd like to restore the old behavior.\n",
      "[22:27:40] WARNING: C:/Users/Administrator/workspace/xgboost-win64_release_1.3.0/src/learner.cc:1061: Starting in XGBoost 1.3.0, the default evaluation metric used with the objective 'multi:softprob' was changed from 'merror' to 'mlogloss'. Explicitly set eval_metric if you'd like to restore the old behavior.\n",
      "[22:27:41] WARNING: C:/Users/Administrator/workspace/xgboost-win64_release_1.3.0/src/learner.cc:1061: Starting in XGBoost 1.3.0, the default evaluation metric used with the objective 'multi:softprob' was changed from 'merror' to 'mlogloss'. Explicitly set eval_metric if you'd like to restore the old behavior.\n",
      "[22:27:42] WARNING: C:/Users/Administrator/workspace/xgboost-win64_release_1.3.0/src/learner.cc:1061: Starting in XGBoost 1.3.0, the default evaluation metric used with the objective 'multi:softprob' was changed from 'merror' to 'mlogloss'. Explicitly set eval_metric if you'd like to restore the old behavior.\n",
      "[22:27:44] WARNING: C:/Users/Administrator/workspace/xgboost-win64_release_1.3.0/src/learner.cc:1061: Starting in XGBoost 1.3.0, the default evaluation metric used with the objective 'multi:softprob' was changed from 'merror' to 'mlogloss'. Explicitly set eval_metric if you'd like to restore the old behavior.\n",
      "[22:27:45] WARNING: C:/Users/Administrator/workspace/xgboost-win64_release_1.3.0/src/learner.cc:1061: Starting in XGBoost 1.3.0, the default evaluation metric used with the objective 'multi:softprob' was changed from 'merror' to 'mlogloss'. Explicitly set eval_metric if you'd like to restore the old behavior.\n",
      "[22:27:47] WARNING: C:/Users/Administrator/workspace/xgboost-win64_release_1.3.0/src/learner.cc:1061: Starting in XGBoost 1.3.0, the default evaluation metric used with the objective 'multi:softprob' was changed from 'merror' to 'mlogloss'. Explicitly set eval_metric if you'd like to restore the old behavior.\n",
      "[22:27:48] WARNING: C:/Users/Administrator/workspace/xgboost-win64_release_1.3.0/src/learner.cc:1061: Starting in XGBoost 1.3.0, the default evaluation metric used with the objective 'multi:softprob' was changed from 'merror' to 'mlogloss'. Explicitly set eval_metric if you'd like to restore the old behavior.\n",
      "Calculate:  124\n",
      "[22:27:54] WARNING: C:/Users/Administrator/workspace/xgboost-win64_release_1.3.0/src/learner.cc:1061: Starting in XGBoost 1.3.0, the default evaluation metric used with the objective 'multi:softprob' was changed from 'merror' to 'mlogloss'. Explicitly set eval_metric if you'd like to restore the old behavior.\n",
      "[22:27:55] WARNING: C:/Users/Administrator/workspace/xgboost-win64_release_1.3.0/src/learner.cc:1061: Starting in XGBoost 1.3.0, the default evaluation metric used with the objective 'multi:softprob' was changed from 'merror' to 'mlogloss'. Explicitly set eval_metric if you'd like to restore the old behavior.\n",
      "[22:27:57] WARNING: C:/Users/Administrator/workspace/xgboost-win64_release_1.3.0/src/learner.cc:1061: Starting in XGBoost 1.3.0, the default evaluation metric used with the objective 'multi:softprob' was changed from 'merror' to 'mlogloss'. Explicitly set eval_metric if you'd like to restore the old behavior.\n",
      "[22:27:58] WARNING: C:/Users/Administrator/workspace/xgboost-win64_release_1.3.0/src/learner.cc:1061: Starting in XGBoost 1.3.0, the default evaluation metric used with the objective 'multi:softprob' was changed from 'merror' to 'mlogloss'. Explicitly set eval_metric if you'd like to restore the old behavior.\n",
      "[22:28:00] WARNING: C:/Users/Administrator/workspace/xgboost-win64_release_1.3.0/src/learner.cc:1061: Starting in XGBoost 1.3.0, the default evaluation metric used with the objective 'multi:softprob' was changed from 'merror' to 'mlogloss'. Explicitly set eval_metric if you'd like to restore the old behavior.\n",
      "[22:28:01] WARNING: C:/Users/Administrator/workspace/xgboost-win64_release_1.3.0/src/learner.cc:1061: Starting in XGBoost 1.3.0, the default evaluation metric used with the objective 'multi:softprob' was changed from 'merror' to 'mlogloss'. Explicitly set eval_metric if you'd like to restore the old behavior.\n",
      "[22:28:03] WARNING: C:/Users/Administrator/workspace/xgboost-win64_release_1.3.0/src/learner.cc:1061: Starting in XGBoost 1.3.0, the default evaluation metric used with the objective 'multi:softprob' was changed from 'merror' to 'mlogloss'. Explicitly set eval_metric if you'd like to restore the old behavior.\n",
      "[22:28:04] WARNING: C:/Users/Administrator/workspace/xgboost-win64_release_1.3.0/src/learner.cc:1061: Starting in XGBoost 1.3.0, the default evaluation metric used with the objective 'multi:softprob' was changed from 'merror' to 'mlogloss'. Explicitly set eval_metric if you'd like to restore the old behavior.\n",
      "[22:28:05] WARNING: C:/Users/Administrator/workspace/xgboost-win64_release_1.3.0/src/learner.cc:1061: Starting in XGBoost 1.3.0, the default evaluation metric used with the objective 'multi:softprob' was changed from 'merror' to 'mlogloss'. Explicitly set eval_metric if you'd like to restore the old behavior.\n",
      "[22:28:07] WARNING: C:/Users/Administrator/workspace/xgboost-win64_release_1.3.0/src/learner.cc:1061: Starting in XGBoost 1.3.0, the default evaluation metric used with the objective 'multi:softprob' was changed from 'merror' to 'mlogloss'. Explicitly set eval_metric if you'd like to restore the old behavior.\n",
      "[22:28:08] WARNING: C:/Users/Administrator/workspace/xgboost-win64_release_1.3.0/src/learner.cc:1061: Starting in XGBoost 1.3.0, the default evaluation metric used with the objective 'multi:softprob' was changed from 'merror' to 'mlogloss'. Explicitly set eval_metric if you'd like to restore the old behavior.\n",
      "[22:28:10] WARNING: C:/Users/Administrator/workspace/xgboost-win64_release_1.3.0/src/learner.cc:1061: Starting in XGBoost 1.3.0, the default evaluation metric used with the objective 'multi:softprob' was changed from 'merror' to 'mlogloss'. Explicitly set eval_metric if you'd like to restore the old behavior.\n",
      "[22:28:11] WARNING: C:/Users/Administrator/workspace/xgboost-win64_release_1.3.0/src/learner.cc:1061: Starting in XGBoost 1.3.0, the default evaluation metric used with the objective 'multi:softprob' was changed from 'merror' to 'mlogloss'. Explicitly set eval_metric if you'd like to restore the old behavior.\n",
      "[22:28:13] WARNING: C:/Users/Administrator/workspace/xgboost-win64_release_1.3.0/src/learner.cc:1061: Starting in XGBoost 1.3.0, the default evaluation metric used with the objective 'multi:softprob' was changed from 'merror' to 'mlogloss'. Explicitly set eval_metric if you'd like to restore the old behavior.\n",
      "[22:28:14] WARNING: C:/Users/Administrator/workspace/xgboost-win64_release_1.3.0/src/learner.cc:1061: Starting in XGBoost 1.3.0, the default evaluation metric used with the objective 'multi:softprob' was changed from 'merror' to 'mlogloss'. Explicitly set eval_metric if you'd like to restore the old behavior.\n",
      "[22:28:16] WARNING: C:/Users/Administrator/workspace/xgboost-win64_release_1.3.0/src/learner.cc:1061: Starting in XGBoost 1.3.0, the default evaluation metric used with the objective 'multi:softprob' was changed from 'merror' to 'mlogloss'. Explicitly set eval_metric if you'd like to restore the old behavior.\n",
      "[22:28:17] WARNING: C:/Users/Administrator/workspace/xgboost-win64_release_1.3.0/src/learner.cc:1061: Starting in XGBoost 1.3.0, the default evaluation metric used with the objective 'multi:softprob' was changed from 'merror' to 'mlogloss'. Explicitly set eval_metric if you'd like to restore the old behavior.\n",
      "Calculate:  125\n",
      "[22:28:23] WARNING: C:/Users/Administrator/workspace/xgboost-win64_release_1.3.0/src/learner.cc:1061: Starting in XGBoost 1.3.0, the default evaluation metric used with the objective 'multi:softprob' was changed from 'merror' to 'mlogloss'. Explicitly set eval_metric if you'd like to restore the old behavior.\n",
      "[22:28:25] WARNING: C:/Users/Administrator/workspace/xgboost-win64_release_1.3.0/src/learner.cc:1061: Starting in XGBoost 1.3.0, the default evaluation metric used with the objective 'multi:softprob' was changed from 'merror' to 'mlogloss'. Explicitly set eval_metric if you'd like to restore the old behavior.\n",
      "[22:28:26] WARNING: C:/Users/Administrator/workspace/xgboost-win64_release_1.3.0/src/learner.cc:1061: Starting in XGBoost 1.3.0, the default evaluation metric used with the objective 'multi:softprob' was changed from 'merror' to 'mlogloss'. Explicitly set eval_metric if you'd like to restore the old behavior.\n",
      "[22:28:28] WARNING: C:/Users/Administrator/workspace/xgboost-win64_release_1.3.0/src/learner.cc:1061: Starting in XGBoost 1.3.0, the default evaluation metric used with the objective 'multi:softprob' was changed from 'merror' to 'mlogloss'. Explicitly set eval_metric if you'd like to restore the old behavior.\n",
      "[22:28:29] WARNING: C:/Users/Administrator/workspace/xgboost-win64_release_1.3.0/src/learner.cc:1061: Starting in XGBoost 1.3.0, the default evaluation metric used with the objective 'multi:softprob' was changed from 'merror' to 'mlogloss'. Explicitly set eval_metric if you'd like to restore the old behavior.\n",
      "[22:28:31] WARNING: C:/Users/Administrator/workspace/xgboost-win64_release_1.3.0/src/learner.cc:1061: Starting in XGBoost 1.3.0, the default evaluation metric used with the objective 'multi:softprob' was changed from 'merror' to 'mlogloss'. Explicitly set eval_metric if you'd like to restore the old behavior.\n",
      "[22:28:32] WARNING: C:/Users/Administrator/workspace/xgboost-win64_release_1.3.0/src/learner.cc:1061: Starting in XGBoost 1.3.0, the default evaluation metric used with the objective 'multi:softprob' was changed from 'merror' to 'mlogloss'. Explicitly set eval_metric if you'd like to restore the old behavior.\n",
      "[22:28:34] WARNING: C:/Users/Administrator/workspace/xgboost-win64_release_1.3.0/src/learner.cc:1061: Starting in XGBoost 1.3.0, the default evaluation metric used with the objective 'multi:softprob' was changed from 'merror' to 'mlogloss'. Explicitly set eval_metric if you'd like to restore the old behavior.\n",
      "[22:28:35] WARNING: C:/Users/Administrator/workspace/xgboost-win64_release_1.3.0/src/learner.cc:1061: Starting in XGBoost 1.3.0, the default evaluation metric used with the objective 'multi:softprob' was changed from 'merror' to 'mlogloss'. Explicitly set eval_metric if you'd like to restore the old behavior.\n",
      "[22:28:37] WARNING: C:/Users/Administrator/workspace/xgboost-win64_release_1.3.0/src/learner.cc:1061: Starting in XGBoost 1.3.0, the default evaluation metric used with the objective 'multi:softprob' was changed from 'merror' to 'mlogloss'. Explicitly set eval_metric if you'd like to restore the old behavior.\n",
      "[22:28:39] WARNING: C:/Users/Administrator/workspace/xgboost-win64_release_1.3.0/src/learner.cc:1061: Starting in XGBoost 1.3.0, the default evaluation metric used with the objective 'multi:softprob' was changed from 'merror' to 'mlogloss'. Explicitly set eval_metric if you'd like to restore the old behavior.\n",
      "[22:28:40] WARNING: C:/Users/Administrator/workspace/xgboost-win64_release_1.3.0/src/learner.cc:1061: Starting in XGBoost 1.3.0, the default evaluation metric used with the objective 'multi:softprob' was changed from 'merror' to 'mlogloss'. Explicitly set eval_metric if you'd like to restore the old behavior.\n",
      "[22:28:42] WARNING: C:/Users/Administrator/workspace/xgboost-win64_release_1.3.0/src/learner.cc:1061: Starting in XGBoost 1.3.0, the default evaluation metric used with the objective 'multi:softprob' was changed from 'merror' to 'mlogloss'. Explicitly set eval_metric if you'd like to restore the old behavior.\n",
      "[22:28:43] WARNING: C:/Users/Administrator/workspace/xgboost-win64_release_1.3.0/src/learner.cc:1061: Starting in XGBoost 1.3.0, the default evaluation metric used with the objective 'multi:softprob' was changed from 'merror' to 'mlogloss'. Explicitly set eval_metric if you'd like to restore the old behavior.\n",
      "[22:28:45] WARNING: C:/Users/Administrator/workspace/xgboost-win64_release_1.3.0/src/learner.cc:1061: Starting in XGBoost 1.3.0, the default evaluation metric used with the objective 'multi:softprob' was changed from 'merror' to 'mlogloss'. Explicitly set eval_metric if you'd like to restore the old behavior.\n",
      "[22:28:47] WARNING: C:/Users/Administrator/workspace/xgboost-win64_release_1.3.0/src/learner.cc:1061: Starting in XGBoost 1.3.0, the default evaluation metric used with the objective 'multi:softprob' was changed from 'merror' to 'mlogloss'. Explicitly set eval_metric if you'd like to restore the old behavior.\n",
      "[22:28:48] WARNING: C:/Users/Administrator/workspace/xgboost-win64_release_1.3.0/src/learner.cc:1061: Starting in XGBoost 1.3.0, the default evaluation metric used with the objective 'multi:softprob' was changed from 'merror' to 'mlogloss'. Explicitly set eval_metric if you'd like to restore the old behavior.\n",
      "Calculate:  126\n",
      "[22:28:54] WARNING: C:/Users/Administrator/workspace/xgboost-win64_release_1.3.0/src/learner.cc:1061: Starting in XGBoost 1.3.0, the default evaluation metric used with the objective 'multi:softprob' was changed from 'merror' to 'mlogloss'. Explicitly set eval_metric if you'd like to restore the old behavior.\n",
      "[22:28:56] WARNING: C:/Users/Administrator/workspace/xgboost-win64_release_1.3.0/src/learner.cc:1061: Starting in XGBoost 1.3.0, the default evaluation metric used with the objective 'multi:softprob' was changed from 'merror' to 'mlogloss'. Explicitly set eval_metric if you'd like to restore the old behavior.\n",
      "[22:28:57] WARNING: C:/Users/Administrator/workspace/xgboost-win64_release_1.3.0/src/learner.cc:1061: Starting in XGBoost 1.3.0, the default evaluation metric used with the objective 'multi:softprob' was changed from 'merror' to 'mlogloss'. Explicitly set eval_metric if you'd like to restore the old behavior.\n",
      "[22:28:59] WARNING: C:/Users/Administrator/workspace/xgboost-win64_release_1.3.0/src/learner.cc:1061: Starting in XGBoost 1.3.0, the default evaluation metric used with the objective 'multi:softprob' was changed from 'merror' to 'mlogloss'. Explicitly set eval_metric if you'd like to restore the old behavior.\n",
      "[22:29:00] WARNING: C:/Users/Administrator/workspace/xgboost-win64_release_1.3.0/src/learner.cc:1061: Starting in XGBoost 1.3.0, the default evaluation metric used with the objective 'multi:softprob' was changed from 'merror' to 'mlogloss'. Explicitly set eval_metric if you'd like to restore the old behavior.\n",
      "[22:29:02] WARNING: C:/Users/Administrator/workspace/xgboost-win64_release_1.3.0/src/learner.cc:1061: Starting in XGBoost 1.3.0, the default evaluation metric used with the objective 'multi:softprob' was changed from 'merror' to 'mlogloss'. Explicitly set eval_metric if you'd like to restore the old behavior.\n",
      "[22:29:03] WARNING: C:/Users/Administrator/workspace/xgboost-win64_release_1.3.0/src/learner.cc:1061: Starting in XGBoost 1.3.0, the default evaluation metric used with the objective 'multi:softprob' was changed from 'merror' to 'mlogloss'. Explicitly set eval_metric if you'd like to restore the old behavior.\n",
      "[22:29:05] WARNING: C:/Users/Administrator/workspace/xgboost-win64_release_1.3.0/src/learner.cc:1061: Starting in XGBoost 1.3.0, the default evaluation metric used with the objective 'multi:softprob' was changed from 'merror' to 'mlogloss'. Explicitly set eval_metric if you'd like to restore the old behavior.\n",
      "[22:29:07] WARNING: C:/Users/Administrator/workspace/xgboost-win64_release_1.3.0/src/learner.cc:1061: Starting in XGBoost 1.3.0, the default evaluation metric used with the objective 'multi:softprob' was changed from 'merror' to 'mlogloss'. Explicitly set eval_metric if you'd like to restore the old behavior.\n",
      "[22:29:08] WARNING: C:/Users/Administrator/workspace/xgboost-win64_release_1.3.0/src/learner.cc:1061: Starting in XGBoost 1.3.0, the default evaluation metric used with the objective 'multi:softprob' was changed from 'merror' to 'mlogloss'. Explicitly set eval_metric if you'd like to restore the old behavior.\n",
      "[22:29:10] WARNING: C:/Users/Administrator/workspace/xgboost-win64_release_1.3.0/src/learner.cc:1061: Starting in XGBoost 1.3.0, the default evaluation metric used with the objective 'multi:softprob' was changed from 'merror' to 'mlogloss'. Explicitly set eval_metric if you'd like to restore the old behavior.\n",
      "[22:29:11] WARNING: C:/Users/Administrator/workspace/xgboost-win64_release_1.3.0/src/learner.cc:1061: Starting in XGBoost 1.3.0, the default evaluation metric used with the objective 'multi:softprob' was changed from 'merror' to 'mlogloss'. Explicitly set eval_metric if you'd like to restore the old behavior.\n",
      "[22:29:13] WARNING: C:/Users/Administrator/workspace/xgboost-win64_release_1.3.0/src/learner.cc:1061: Starting in XGBoost 1.3.0, the default evaluation metric used with the objective 'multi:softprob' was changed from 'merror' to 'mlogloss'. Explicitly set eval_metric if you'd like to restore the old behavior.\n",
      "[22:29:14] WARNING: C:/Users/Administrator/workspace/xgboost-win64_release_1.3.0/src/learner.cc:1061: Starting in XGBoost 1.3.0, the default evaluation metric used with the objective 'multi:softprob' was changed from 'merror' to 'mlogloss'. Explicitly set eval_metric if you'd like to restore the old behavior.\n",
      "[22:29:16] WARNING: C:/Users/Administrator/workspace/xgboost-win64_release_1.3.0/src/learner.cc:1061: Starting in XGBoost 1.3.0, the default evaluation metric used with the objective 'multi:softprob' was changed from 'merror' to 'mlogloss'. Explicitly set eval_metric if you'd like to restore the old behavior.\n",
      "[22:29:18] WARNING: C:/Users/Administrator/workspace/xgboost-win64_release_1.3.0/src/learner.cc:1061: Starting in XGBoost 1.3.0, the default evaluation metric used with the objective 'multi:softprob' was changed from 'merror' to 'mlogloss'. Explicitly set eval_metric if you'd like to restore the old behavior.\n",
      "[22:29:19] WARNING: C:/Users/Administrator/workspace/xgboost-win64_release_1.3.0/src/learner.cc:1061: Starting in XGBoost 1.3.0, the default evaluation metric used with the objective 'multi:softprob' was changed from 'merror' to 'mlogloss'. Explicitly set eval_metric if you'd like to restore the old behavior.\n",
      "Calculate:  127\n",
      "[22:29:26] WARNING: C:/Users/Administrator/workspace/xgboost-win64_release_1.3.0/src/learner.cc:1061: Starting in XGBoost 1.3.0, the default evaluation metric used with the objective 'multi:softprob' was changed from 'merror' to 'mlogloss'. Explicitly set eval_metric if you'd like to restore the old behavior.\n",
      "[22:29:28] WARNING: C:/Users/Administrator/workspace/xgboost-win64_release_1.3.0/src/learner.cc:1061: Starting in XGBoost 1.3.0, the default evaluation metric used with the objective 'multi:softprob' was changed from 'merror' to 'mlogloss'. Explicitly set eval_metric if you'd like to restore the old behavior.\n",
      "[22:29:30] WARNING: C:/Users/Administrator/workspace/xgboost-win64_release_1.3.0/src/learner.cc:1061: Starting in XGBoost 1.3.0, the default evaluation metric used with the objective 'multi:softprob' was changed from 'merror' to 'mlogloss'. Explicitly set eval_metric if you'd like to restore the old behavior.\n",
      "[22:29:32] WARNING: C:/Users/Administrator/workspace/xgboost-win64_release_1.3.0/src/learner.cc:1061: Starting in XGBoost 1.3.0, the default evaluation metric used with the objective 'multi:softprob' was changed from 'merror' to 'mlogloss'. Explicitly set eval_metric if you'd like to restore the old behavior.\n",
      "[22:29:34] WARNING: C:/Users/Administrator/workspace/xgboost-win64_release_1.3.0/src/learner.cc:1061: Starting in XGBoost 1.3.0, the default evaluation metric used with the objective 'multi:softprob' was changed from 'merror' to 'mlogloss'. Explicitly set eval_metric if you'd like to restore the old behavior.\n",
      "[22:29:36] WARNING: C:/Users/Administrator/workspace/xgboost-win64_release_1.3.0/src/learner.cc:1061: Starting in XGBoost 1.3.0, the default evaluation metric used with the objective 'multi:softprob' was changed from 'merror' to 'mlogloss'. Explicitly set eval_metric if you'd like to restore the old behavior.\n",
      "[22:29:38] WARNING: C:/Users/Administrator/workspace/xgboost-win64_release_1.3.0/src/learner.cc:1061: Starting in XGBoost 1.3.0, the default evaluation metric used with the objective 'multi:softprob' was changed from 'merror' to 'mlogloss'. Explicitly set eval_metric if you'd like to restore the old behavior.\n",
      "[22:29:40] WARNING: C:/Users/Administrator/workspace/xgboost-win64_release_1.3.0/src/learner.cc:1061: Starting in XGBoost 1.3.0, the default evaluation metric used with the objective 'multi:softprob' was changed from 'merror' to 'mlogloss'. Explicitly set eval_metric if you'd like to restore the old behavior.\n",
      "[22:29:41] WARNING: C:/Users/Administrator/workspace/xgboost-win64_release_1.3.0/src/learner.cc:1061: Starting in XGBoost 1.3.0, the default evaluation metric used with the objective 'multi:softprob' was changed from 'merror' to 'mlogloss'. Explicitly set eval_metric if you'd like to restore the old behavior.\n",
      "[22:29:43] WARNING: C:/Users/Administrator/workspace/xgboost-win64_release_1.3.0/src/learner.cc:1061: Starting in XGBoost 1.3.0, the default evaluation metric used with the objective 'multi:softprob' was changed from 'merror' to 'mlogloss'. Explicitly set eval_metric if you'd like to restore the old behavior.\n",
      "[22:29:45] WARNING: C:/Users/Administrator/workspace/xgboost-win64_release_1.3.0/src/learner.cc:1061: Starting in XGBoost 1.3.0, the default evaluation metric used with the objective 'multi:softprob' was changed from 'merror' to 'mlogloss'. Explicitly set eval_metric if you'd like to restore the old behavior.\n",
      "[22:29:46] WARNING: C:/Users/Administrator/workspace/xgboost-win64_release_1.3.0/src/learner.cc:1061: Starting in XGBoost 1.3.0, the default evaluation metric used with the objective 'multi:softprob' was changed from 'merror' to 'mlogloss'. Explicitly set eval_metric if you'd like to restore the old behavior.\n",
      "[22:29:48] WARNING: C:/Users/Administrator/workspace/xgboost-win64_release_1.3.0/src/learner.cc:1061: Starting in XGBoost 1.3.0, the default evaluation metric used with the objective 'multi:softprob' was changed from 'merror' to 'mlogloss'. Explicitly set eval_metric if you'd like to restore the old behavior.\n",
      "[22:29:50] WARNING: C:/Users/Administrator/workspace/xgboost-win64_release_1.3.0/src/learner.cc:1061: Starting in XGBoost 1.3.0, the default evaluation metric used with the objective 'multi:softprob' was changed from 'merror' to 'mlogloss'. Explicitly set eval_metric if you'd like to restore the old behavior.\n",
      "[22:29:52] WARNING: C:/Users/Administrator/workspace/xgboost-win64_release_1.3.0/src/learner.cc:1061: Starting in XGBoost 1.3.0, the default evaluation metric used with the objective 'multi:softprob' was changed from 'merror' to 'mlogloss'. Explicitly set eval_metric if you'd like to restore the old behavior.\n",
      "[22:29:54] WARNING: C:/Users/Administrator/workspace/xgboost-win64_release_1.3.0/src/learner.cc:1061: Starting in XGBoost 1.3.0, the default evaluation metric used with the objective 'multi:softprob' was changed from 'merror' to 'mlogloss'. Explicitly set eval_metric if you'd like to restore the old behavior.\n",
      "[22:29:56] WARNING: C:/Users/Administrator/workspace/xgboost-win64_release_1.3.0/src/learner.cc:1061: Starting in XGBoost 1.3.0, the default evaluation metric used with the objective 'multi:softprob' was changed from 'merror' to 'mlogloss'. Explicitly set eval_metric if you'd like to restore the old behavior.\n",
      "Calculate:  128\n",
      "[22:30:02] WARNING: C:/Users/Administrator/workspace/xgboost-win64_release_1.3.0/src/learner.cc:1061: Starting in XGBoost 1.3.0, the default evaluation metric used with the objective 'multi:softprob' was changed from 'merror' to 'mlogloss'. Explicitly set eval_metric if you'd like to restore the old behavior.\n",
      "[22:30:03] WARNING: C:/Users/Administrator/workspace/xgboost-win64_release_1.3.0/src/learner.cc:1061: Starting in XGBoost 1.3.0, the default evaluation metric used with the objective 'multi:softprob' was changed from 'merror' to 'mlogloss'. Explicitly set eval_metric if you'd like to restore the old behavior.\n",
      "[22:30:05] WARNING: C:/Users/Administrator/workspace/xgboost-win64_release_1.3.0/src/learner.cc:1061: Starting in XGBoost 1.3.0, the default evaluation metric used with the objective 'multi:softprob' was changed from 'merror' to 'mlogloss'. Explicitly set eval_metric if you'd like to restore the old behavior.\n",
      "[22:30:07] WARNING: C:/Users/Administrator/workspace/xgboost-win64_release_1.3.0/src/learner.cc:1061: Starting in XGBoost 1.3.0, the default evaluation metric used with the objective 'multi:softprob' was changed from 'merror' to 'mlogloss'. Explicitly set eval_metric if you'd like to restore the old behavior.\n",
      "[22:30:09] WARNING: C:/Users/Administrator/workspace/xgboost-win64_release_1.3.0/src/learner.cc:1061: Starting in XGBoost 1.3.0, the default evaluation metric used with the objective 'multi:softprob' was changed from 'merror' to 'mlogloss'. Explicitly set eval_metric if you'd like to restore the old behavior.\n",
      "[22:30:11] WARNING: C:/Users/Administrator/workspace/xgboost-win64_release_1.3.0/src/learner.cc:1061: Starting in XGBoost 1.3.0, the default evaluation metric used with the objective 'multi:softprob' was changed from 'merror' to 'mlogloss'. Explicitly set eval_metric if you'd like to restore the old behavior.\n",
      "[22:30:12] WARNING: C:/Users/Administrator/workspace/xgboost-win64_release_1.3.0/src/learner.cc:1061: Starting in XGBoost 1.3.0, the default evaluation metric used with the objective 'multi:softprob' was changed from 'merror' to 'mlogloss'. Explicitly set eval_metric if you'd like to restore the old behavior.\n",
      "[22:30:14] WARNING: C:/Users/Administrator/workspace/xgboost-win64_release_1.3.0/src/learner.cc:1061: Starting in XGBoost 1.3.0, the default evaluation metric used with the objective 'multi:softprob' was changed from 'merror' to 'mlogloss'. Explicitly set eval_metric if you'd like to restore the old behavior.\n",
      "[22:30:15] WARNING: C:/Users/Administrator/workspace/xgboost-win64_release_1.3.0/src/learner.cc:1061: Starting in XGBoost 1.3.0, the default evaluation metric used with the objective 'multi:softprob' was changed from 'merror' to 'mlogloss'. Explicitly set eval_metric if you'd like to restore the old behavior.\n",
      "[22:30:17] WARNING: C:/Users/Administrator/workspace/xgboost-win64_release_1.3.0/src/learner.cc:1061: Starting in XGBoost 1.3.0, the default evaluation metric used with the objective 'multi:softprob' was changed from 'merror' to 'mlogloss'. Explicitly set eval_metric if you'd like to restore the old behavior.\n",
      "[22:30:19] WARNING: C:/Users/Administrator/workspace/xgboost-win64_release_1.3.0/src/learner.cc:1061: Starting in XGBoost 1.3.0, the default evaluation metric used with the objective 'multi:softprob' was changed from 'merror' to 'mlogloss'. Explicitly set eval_metric if you'd like to restore the old behavior.\n",
      "[22:30:20] WARNING: C:/Users/Administrator/workspace/xgboost-win64_release_1.3.0/src/learner.cc:1061: Starting in XGBoost 1.3.0, the default evaluation metric used with the objective 'multi:softprob' was changed from 'merror' to 'mlogloss'. Explicitly set eval_metric if you'd like to restore the old behavior.\n",
      "[22:30:22] WARNING: C:/Users/Administrator/workspace/xgboost-win64_release_1.3.0/src/learner.cc:1061: Starting in XGBoost 1.3.0, the default evaluation metric used with the objective 'multi:softprob' was changed from 'merror' to 'mlogloss'. Explicitly set eval_metric if you'd like to restore the old behavior.\n",
      "[22:30:23] WARNING: C:/Users/Administrator/workspace/xgboost-win64_release_1.3.0/src/learner.cc:1061: Starting in XGBoost 1.3.0, the default evaluation metric used with the objective 'multi:softprob' was changed from 'merror' to 'mlogloss'. Explicitly set eval_metric if you'd like to restore the old behavior.\n",
      "[22:30:25] WARNING: C:/Users/Administrator/workspace/xgboost-win64_release_1.3.0/src/learner.cc:1061: Starting in XGBoost 1.3.0, the default evaluation metric used with the objective 'multi:softprob' was changed from 'merror' to 'mlogloss'. Explicitly set eval_metric if you'd like to restore the old behavior.\n",
      "[22:30:27] WARNING: C:/Users/Administrator/workspace/xgboost-win64_release_1.3.0/src/learner.cc:1061: Starting in XGBoost 1.3.0, the default evaluation metric used with the objective 'multi:softprob' was changed from 'merror' to 'mlogloss'. Explicitly set eval_metric if you'd like to restore the old behavior.\n",
      "[22:30:28] WARNING: C:/Users/Administrator/workspace/xgboost-win64_release_1.3.0/src/learner.cc:1061: Starting in XGBoost 1.3.0, the default evaluation metric used with the objective 'multi:softprob' was changed from 'merror' to 'mlogloss'. Explicitly set eval_metric if you'd like to restore the old behavior.\n",
      "Calculate:  129\n",
      "[22:30:34] WARNING: C:/Users/Administrator/workspace/xgboost-win64_release_1.3.0/src/learner.cc:1061: Starting in XGBoost 1.3.0, the default evaluation metric used with the objective 'multi:softprob' was changed from 'merror' to 'mlogloss'. Explicitly set eval_metric if you'd like to restore the old behavior.\n",
      "[22:30:35] WARNING: C:/Users/Administrator/workspace/xgboost-win64_release_1.3.0/src/learner.cc:1061: Starting in XGBoost 1.3.0, the default evaluation metric used with the objective 'multi:softprob' was changed from 'merror' to 'mlogloss'. Explicitly set eval_metric if you'd like to restore the old behavior.\n",
      "[22:30:37] WARNING: C:/Users/Administrator/workspace/xgboost-win64_release_1.3.0/src/learner.cc:1061: Starting in XGBoost 1.3.0, the default evaluation metric used with the objective 'multi:softprob' was changed from 'merror' to 'mlogloss'. Explicitly set eval_metric if you'd like to restore the old behavior.\n",
      "[22:30:39] WARNING: C:/Users/Administrator/workspace/xgboost-win64_release_1.3.0/src/learner.cc:1061: Starting in XGBoost 1.3.0, the default evaluation metric used with the objective 'multi:softprob' was changed from 'merror' to 'mlogloss'. Explicitly set eval_metric if you'd like to restore the old behavior.\n",
      "[22:30:40] WARNING: C:/Users/Administrator/workspace/xgboost-win64_release_1.3.0/src/learner.cc:1061: Starting in XGBoost 1.3.0, the default evaluation metric used with the objective 'multi:softprob' was changed from 'merror' to 'mlogloss'. Explicitly set eval_metric if you'd like to restore the old behavior.\n",
      "[22:30:42] WARNING: C:/Users/Administrator/workspace/xgboost-win64_release_1.3.0/src/learner.cc:1061: Starting in XGBoost 1.3.0, the default evaluation metric used with the objective 'multi:softprob' was changed from 'merror' to 'mlogloss'. Explicitly set eval_metric if you'd like to restore the old behavior.\n",
      "[22:30:43] WARNING: C:/Users/Administrator/workspace/xgboost-win64_release_1.3.0/src/learner.cc:1061: Starting in XGBoost 1.3.0, the default evaluation metric used with the objective 'multi:softprob' was changed from 'merror' to 'mlogloss'. Explicitly set eval_metric if you'd like to restore the old behavior.\n",
      "[22:30:45] WARNING: C:/Users/Administrator/workspace/xgboost-win64_release_1.3.0/src/learner.cc:1061: Starting in XGBoost 1.3.0, the default evaluation metric used with the objective 'multi:softprob' was changed from 'merror' to 'mlogloss'. Explicitly set eval_metric if you'd like to restore the old behavior.\n",
      "[22:30:46] WARNING: C:/Users/Administrator/workspace/xgboost-win64_release_1.3.0/src/learner.cc:1061: Starting in XGBoost 1.3.0, the default evaluation metric used with the objective 'multi:softprob' was changed from 'merror' to 'mlogloss'. Explicitly set eval_metric if you'd like to restore the old behavior.\n",
      "[22:30:48] WARNING: C:/Users/Administrator/workspace/xgboost-win64_release_1.3.0/src/learner.cc:1061: Starting in XGBoost 1.3.0, the default evaluation metric used with the objective 'multi:softprob' was changed from 'merror' to 'mlogloss'. Explicitly set eval_metric if you'd like to restore the old behavior.\n",
      "[22:30:49] WARNING: C:/Users/Administrator/workspace/xgboost-win64_release_1.3.0/src/learner.cc:1061: Starting in XGBoost 1.3.0, the default evaluation metric used with the objective 'multi:softprob' was changed from 'merror' to 'mlogloss'. Explicitly set eval_metric if you'd like to restore the old behavior.\n",
      "[22:30:51] WARNING: C:/Users/Administrator/workspace/xgboost-win64_release_1.3.0/src/learner.cc:1061: Starting in XGBoost 1.3.0, the default evaluation metric used with the objective 'multi:softprob' was changed from 'merror' to 'mlogloss'. Explicitly set eval_metric if you'd like to restore the old behavior.\n",
      "[22:30:53] WARNING: C:/Users/Administrator/workspace/xgboost-win64_release_1.3.0/src/learner.cc:1061: Starting in XGBoost 1.3.0, the default evaluation metric used with the objective 'multi:softprob' was changed from 'merror' to 'mlogloss'. Explicitly set eval_metric if you'd like to restore the old behavior.\n",
      "[22:30:54] WARNING: C:/Users/Administrator/workspace/xgboost-win64_release_1.3.0/src/learner.cc:1061: Starting in XGBoost 1.3.0, the default evaluation metric used with the objective 'multi:softprob' was changed from 'merror' to 'mlogloss'. Explicitly set eval_metric if you'd like to restore the old behavior.\n",
      "[22:30:56] WARNING: C:/Users/Administrator/workspace/xgboost-win64_release_1.3.0/src/learner.cc:1061: Starting in XGBoost 1.3.0, the default evaluation metric used with the objective 'multi:softprob' was changed from 'merror' to 'mlogloss'. Explicitly set eval_metric if you'd like to restore the old behavior.\n",
      "[22:30:57] WARNING: C:/Users/Administrator/workspace/xgboost-win64_release_1.3.0/src/learner.cc:1061: Starting in XGBoost 1.3.0, the default evaluation metric used with the objective 'multi:softprob' was changed from 'merror' to 'mlogloss'. Explicitly set eval_metric if you'd like to restore the old behavior.\n",
      "[22:30:59] WARNING: C:/Users/Administrator/workspace/xgboost-win64_release_1.3.0/src/learner.cc:1061: Starting in XGBoost 1.3.0, the default evaluation metric used with the objective 'multi:softprob' was changed from 'merror' to 'mlogloss'. Explicitly set eval_metric if you'd like to restore the old behavior.\n",
      "Calculate:  130\n",
      "[22:31:05] WARNING: C:/Users/Administrator/workspace/xgboost-win64_release_1.3.0/src/learner.cc:1061: Starting in XGBoost 1.3.0, the default evaluation metric used with the objective 'multi:softprob' was changed from 'merror' to 'mlogloss'. Explicitly set eval_metric if you'd like to restore the old behavior.\n",
      "[22:31:06] WARNING: C:/Users/Administrator/workspace/xgboost-win64_release_1.3.0/src/learner.cc:1061: Starting in XGBoost 1.3.0, the default evaluation metric used with the objective 'multi:softprob' was changed from 'merror' to 'mlogloss'. Explicitly set eval_metric if you'd like to restore the old behavior.\n",
      "[22:31:08] WARNING: C:/Users/Administrator/workspace/xgboost-win64_release_1.3.0/src/learner.cc:1061: Starting in XGBoost 1.3.0, the default evaluation metric used with the objective 'multi:softprob' was changed from 'merror' to 'mlogloss'. Explicitly set eval_metric if you'd like to restore the old behavior.\n",
      "[22:31:09] WARNING: C:/Users/Administrator/workspace/xgboost-win64_release_1.3.0/src/learner.cc:1061: Starting in XGBoost 1.3.0, the default evaluation metric used with the objective 'multi:softprob' was changed from 'merror' to 'mlogloss'. Explicitly set eval_metric if you'd like to restore the old behavior.\n",
      "[22:31:11] WARNING: C:/Users/Administrator/workspace/xgboost-win64_release_1.3.0/src/learner.cc:1061: Starting in XGBoost 1.3.0, the default evaluation metric used with the objective 'multi:softprob' was changed from 'merror' to 'mlogloss'. Explicitly set eval_metric if you'd like to restore the old behavior.\n",
      "[22:31:13] WARNING: C:/Users/Administrator/workspace/xgboost-win64_release_1.3.0/src/learner.cc:1061: Starting in XGBoost 1.3.0, the default evaluation metric used with the objective 'multi:softprob' was changed from 'merror' to 'mlogloss'. Explicitly set eval_metric if you'd like to restore the old behavior.\n",
      "[22:31:14] WARNING: C:/Users/Administrator/workspace/xgboost-win64_release_1.3.0/src/learner.cc:1061: Starting in XGBoost 1.3.0, the default evaluation metric used with the objective 'multi:softprob' was changed from 'merror' to 'mlogloss'. Explicitly set eval_metric if you'd like to restore the old behavior.\n",
      "[22:31:16] WARNING: C:/Users/Administrator/workspace/xgboost-win64_release_1.3.0/src/learner.cc:1061: Starting in XGBoost 1.3.0, the default evaluation metric used with the objective 'multi:softprob' was changed from 'merror' to 'mlogloss'. Explicitly set eval_metric if you'd like to restore the old behavior.\n",
      "[22:31:17] WARNING: C:/Users/Administrator/workspace/xgboost-win64_release_1.3.0/src/learner.cc:1061: Starting in XGBoost 1.3.0, the default evaluation metric used with the objective 'multi:softprob' was changed from 'merror' to 'mlogloss'. Explicitly set eval_metric if you'd like to restore the old behavior.\n",
      "[22:31:19] WARNING: C:/Users/Administrator/workspace/xgboost-win64_release_1.3.0/src/learner.cc:1061: Starting in XGBoost 1.3.0, the default evaluation metric used with the objective 'multi:softprob' was changed from 'merror' to 'mlogloss'. Explicitly set eval_metric if you'd like to restore the old behavior.\n",
      "[22:31:20] WARNING: C:/Users/Administrator/workspace/xgboost-win64_release_1.3.0/src/learner.cc:1061: Starting in XGBoost 1.3.0, the default evaluation metric used with the objective 'multi:softprob' was changed from 'merror' to 'mlogloss'. Explicitly set eval_metric if you'd like to restore the old behavior.\n",
      "[22:31:22] WARNING: C:/Users/Administrator/workspace/xgboost-win64_release_1.3.0/src/learner.cc:1061: Starting in XGBoost 1.3.0, the default evaluation metric used with the objective 'multi:softprob' was changed from 'merror' to 'mlogloss'. Explicitly set eval_metric if you'd like to restore the old behavior.\n",
      "[22:31:24] WARNING: C:/Users/Administrator/workspace/xgboost-win64_release_1.3.0/src/learner.cc:1061: Starting in XGBoost 1.3.0, the default evaluation metric used with the objective 'multi:softprob' was changed from 'merror' to 'mlogloss'. Explicitly set eval_metric if you'd like to restore the old behavior.\n",
      "[22:31:25] WARNING: C:/Users/Administrator/workspace/xgboost-win64_release_1.3.0/src/learner.cc:1061: Starting in XGBoost 1.3.0, the default evaluation metric used with the objective 'multi:softprob' was changed from 'merror' to 'mlogloss'. Explicitly set eval_metric if you'd like to restore the old behavior.\n",
      "[22:31:27] WARNING: C:/Users/Administrator/workspace/xgboost-win64_release_1.3.0/src/learner.cc:1061: Starting in XGBoost 1.3.0, the default evaluation metric used with the objective 'multi:softprob' was changed from 'merror' to 'mlogloss'. Explicitly set eval_metric if you'd like to restore the old behavior.\n",
      "[22:31:28] WARNING: C:/Users/Administrator/workspace/xgboost-win64_release_1.3.0/src/learner.cc:1061: Starting in XGBoost 1.3.0, the default evaluation metric used with the objective 'multi:softprob' was changed from 'merror' to 'mlogloss'. Explicitly set eval_metric if you'd like to restore the old behavior.\n",
      "[22:31:30] WARNING: C:/Users/Administrator/workspace/xgboost-win64_release_1.3.0/src/learner.cc:1061: Starting in XGBoost 1.3.0, the default evaluation metric used with the objective 'multi:softprob' was changed from 'merror' to 'mlogloss'. Explicitly set eval_metric if you'd like to restore the old behavior.\n"
     ]
    }
   ],
   "source": [
    "first_row = 99\n",
    "start = 100\n",
    "start_data = splited_dataframe[:first_row + 1]\n",
    "next_data = splited_dataframe[first_row + 1:first_row + 1 + 31]\n",
    "print(len(next_data))\n",
    "score = defaultdict(list)\n",
    "score_sum = defaultdict(list)\n",
    "score_ind = defaultdict(list)\n",
    "score_hour = defaultdict(list)\n",
    "price_now = defaultdict(list)\n",
    "price_fut = defaultdict(list)\n",
    "predicted_classes = defaultdict(list)\n",
    "correct_classes = defaultdict(list)\n",
    "points = defaultdict(list)\n",
    "points_train = defaultdict(list)\n",
    "score_train = defaultdict(list)\n",
    "step_headers = []\n",
    "i = 0\n",
    "print(\"start\")\n",
    "temp = []\n",
    "\n",
    "for idx, day in enumerate(next_data):\n",
    "    first_row += 1\n",
    "    start_data.append(day)\n",
    "    data_set = pd.concat(start_data)\n",
    "    data_set = create_class(data_set)\n",
    "    y = data_set['class_column']\n",
    "    features = [x for x in data_set.columns if x not in ['class_column']]\n",
    "    x = data_set[features]\n",
    "    x_train = x.iloc[:-34]\n",
    "    y_train = y.iloc[:-34]\n",
    "    x_test = x.iloc[-17:]\n",
    "    y_test = y.iloc[-17:]\n",
    "\n",
    "    i = i + 1\n",
    "    predictions_train = dict()\n",
    "    predictions = dict()\n",
    "    print(\"Calculate: \", first_row)\n",
    "    for k, v in classifiers.items():\n",
    "        count = 0\n",
    "        temp=[]\n",
    "        for idx in range(0,17):\n",
    "            temp_x_train = x_train.iloc[idx::17]\n",
    "            temp_y_train =  y_train.iloc[idx::17]\n",
    "            temp_x_test = x_test.iloc[idx::17]\n",
    "            temp_y_test = y_test.iloc[idx::17]\n",
    "            train_model(v, temp_x_train, temp_y_train)\n",
    "            el = v.predict(temp_x_test)\n",
    "            change = calculate_change(el[0], temp_y_test[0], (first_row * 17) + idx)\n",
    "            if change !=0:\n",
    "                count +=1\n",
    "            score_ind[idx].append(change)\n",
    "            temp.append(change)\n",
    "            price_now[idx].append(data['close'][(first_row*17)+idx])\n",
    "            price_fut[idx].append(data['close'][(first_row*17)+idx+WINDOW])\n",
    "            score_hour[idx].append(change)\n",
    "            predicted_classes[idx].extend(el)\n",
    "            correct_classes[idx].append(temp_y_test[0])\n",
    "\n",
    "        if count!=0:\n",
    "            score[k].append( sum(temp)/count)\n",
    "        else:\n",
    "            score[k].append( sum(temp))\n",
    "\n",
    "        score_sum[k].append(sum(temp))\n",
    "\n"
   ],
   "metadata": {
    "collapsed": false,
    "pycharm": {
     "name": "#%%\n"
    }
   }
  },
  {
   "cell_type": "code",
   "execution_count": 49,
   "outputs": [],
   "source": [
    "    # rfe = RFE(classifiers['XGBRFClassifier 1'], 10)\n",
    "    # fited = rfe.fit(x_train, y_train)\n",
    "    # names = x.columns\n",
    "    # columns = []\n",
    "    # for i in range(len(fited.support_)):\n",
    "    #     if fited.support_[i]:\n",
    "    #         columns.append(names[i])\n",
    "    #\n",
    "    # print(\"Columns with predictive power:\", columns)\n",
    "    # columns = columns + ['high', 'low', 'volume', 'open']\n",
    "    # x_test_cropped = x_test[columns]\n",
    "    # x_train_cropped = x_train[columns]\n",
    "    # x_test_cropped = x_test_cropped.loc[:, ~x_test_cropped.columns.duplicated()]\n",
    "    # x_train_cropped = x_train_cropped.loc[:, ~x_train_cropped.columns.duplicated()]\n",
    "    # for k, v in classifiers_boosted.items():\n",
    "    #     print(\"Calculate: \", k)\n",
    "    #     train_model(v, x_train, y_train)\n",
    "    #     predicted_class = v.predict(x_test)\n",
    "    #     for idx, el in enumerate(predicted_class):\n",
    "    #         score[k].append(calculate_change(el, y_test[idx], (first_row*17)+idx))\n",
    "\n",
    "\n",
    "\n"
   ],
   "metadata": {
    "collapsed": false,
    "pycharm": {
     "name": "#%%\n"
    }
   }
  },
  {
   "cell_type": "code",
   "execution_count": 50,
   "outputs": [
    {
     "data": {
      "text/plain": "0"
     },
     "execution_count": 50,
     "metadata": {},
     "output_type": "execute_result"
    }
   ],
   "source": [
    "len(score['DecisionTreeClassifier 1'])"
   ],
   "metadata": {
    "collapsed": false,
    "pycharm": {
     "name": "#%%\n"
    }
   }
  },
  {
   "cell_type": "code",
   "execution_count": 51,
   "outputs": [
    {
     "data": {
      "text/plain": "31"
     },
     "execution_count": 51,
     "metadata": {},
     "output_type": "execute_result"
    }
   ],
   "source": [
    "step_headers.clear()\n",
    "for a in range(start,start + 31):\n",
    "    # for b in range (1,18):\n",
    "    #     step_headers.append(f'<{a},{b}>')\n",
    "        step_headers.append(f'<{a}>')\n",
    "len(step_headers)"
   ],
   "metadata": {
    "collapsed": false,
    "pycharm": {
     "name": "#%%\n"
    }
   }
  },
  {
   "cell_type": "code",
   "execution_count": 52,
   "outputs": [
    {
     "name": "stdout",
     "output_type": "stream",
     "text": [
      "+----+--------------------------+---------+------------+------------+-----------+-----------+-----------+-----------+-----------+-----------+-----------+-----------+----------+-----------+-----------+------------+-----------+-----------+-----------+-----------+----------+-----------+-----------+------------+-----------+-----------+------------+----------+-----------+-----------+-----------+-----------+---------+\n",
      "|    | Classifier type          |   <100> |      <101> |      <102> |     <103> |     <104> |     <105> |     <106> |     <107> |     <108> |     <109> |     <110> |    <111> |     <112> |     <113> |      <114> |     <115> |     <116> |     <117> |     <118> |    <119> |     <120> |     <121> |      <122> |     <123> |     <124> |      <125> |    <126> |     <127> |     <128> |     <129> |     <130> |     sum |\n",
      "|----+--------------------------+---------+------------+------------+-----------+-----------+-----------+-----------+-----------+-----------+-----------+-----------+----------+-----------+-----------+------------+-----------+-----------+-----------+-----------+----------+-----------+-----------+------------+-----------+-----------+------------+----------+-----------+-----------+-----------+-----------+---------|\n",
      "|  0 | XGBRFClassifier 2        |    1.21 |   0.475885 |   0.137388 |  -2.18127 |   1.61736 |  -1.17524 |  -3.46834 |  -2.20992 |  -3.24887 |  -1.30599 |  -5.32149 |   6.1449 |   6.31382 |  -1.53201 |  -0.710712 |  -3.02403 |  -4.68873 |   2.37396 |  -1.27143 | -10.8605 |   5.37035 |  -6.46425 |   0.662626 |  -1.86521 |   1.53068 |  -0.461642 |  -3.7994 |   7.51473 |   3.84016 |   3.14861 |   1.28062 |  88.032 |\n",
      "|  1 | DecisionTreeClassifier 1 |  nan    | nan        | nan        | nan       | nan       | nan       | nan       | nan       | nan       | nan       | nan       | nan      | nan       | nan       | nan        | nan       | nan       | nan       | nan       | nan      | nan       | nan       | nan        | nan       | nan       | nan        | nan      | nan       | nan       | nan       | nan       | 100     |\n",
      "+----+--------------------------+---------+------------+------------+-----------+-----------+-----------+-----------+-----------+-----------+-----------+-----------+----------+-----------+-----------+------------+-----------+-----------+-----------+-----------+----------+-----------+-----------+------------+-----------+-----------+------------+----------+-----------+-----------+-----------+-----------+---------+\n"
     ]
    }
   ],
   "source": [
    "headers = [\"Classifier type\", \"pct_change\"]\n",
    "score_df = pd.DataFrame(score.items(), columns=headers)\n",
    "# print(tabulate(score_df, headers, tablefmt=\"psql\"))\n",
    "headers2 = [\"Classifier type\", ] + step_headers\n",
    "score_df = pd.DataFrame(score.items(), columns=headers)\n",
    "accuracy_df = pd.DataFrame(score_df['pct_change'].tolist(), index=score_df.index, columns=step_headers)\n",
    "score_df = score_df.drop('pct_change', 1)\n",
    "f_out: pd.DataFrame = pd.merge(score_df, accuracy_df, how='left', left_index=True, right_index=True)\n",
    "f_out['sum'] = f_out.sum(axis=1)\n",
    "f_out['sum'] = f_out['sum'].apply(lambda x: x+100)\n",
    "headers2 = headers2 + ['sum']\n",
    "print(tabulate(f_out, headers2, tablefmt=\"psql\"))\n",
    "\n",
    "filename_to_export = f'C:\\\\Users\\\\exomat\\\\Desktop\\\\repo\\\\magisterka_analiza\\\\data\\\\results\\\\simulation\\\\result_diff_test_ta_all_score_{symbol}_{WINDOW}_{datetime.now().strftime(\"%d_%m_%Y %H_%M_%S\")}.csv'\n",
    "f_out.to_csv(filename_to_export, index=False)"
   ],
   "metadata": {
    "collapsed": false,
    "pycharm": {
     "name": "#%%\n"
    }
   }
  },
  {
   "cell_type": "code",
   "execution_count": 53,
   "outputs": [
    {
     "name": "stdout",
     "output_type": "stream",
     "text": [
      "+----+-------------------+---------+---------+---------+----------+---------+----------+----------+----------+----------+----------+---------+---------+---------+----------+----------+----------+----------+---------+----------+----------+---------+---------+---------+----------+---------+----------+----------+---------+---------+---------+---------+---------+\n",
      "|    | Classifier type   |   <100> |   <101> |   <102> |    <103> |   <104> |    <105> |    <106> |    <107> |    <108> |    <109> |   <110> |   <111> |   <112> |    <113> |    <114> |    <115> |    <116> |   <117> |    <118> |    <119> |   <120> |   <121> |   <122> |    <123> |   <124> |    <125> |    <126> |   <127> |   <128> |   <129> |   <130> |     sum |\n",
      "|----+-------------------+---------+---------+---------+----------+---------+----------+----------+----------+----------+----------+---------+---------+---------+----------+----------+----------+----------+---------+----------+----------+---------+---------+---------+----------+---------+----------+----------+---------+---------+---------+---------+---------|\n",
      "|  0 | XGBRFClassifier 2 |    2.42 | 2.37942 | 1.09911 | -13.0876 | 16.1736 | -5.87622 | -41.6201 | -33.1489 | -51.9819 | -14.3658 | -31.929 | 55.3041 | 63.1382 | -7.66006 | -4.97499 | -18.1442 | -56.2647 | 26.1135 | -12.7143 | -65.1631 | 80.5553 | -51.714 | 7.28889 | -18.6521 | 16.8375 | -4.15478 | -30.3952 | 120.236 | 7.68031 | 9.44583 | 14.0868 | 60.9112 |\n",
      "+----+-------------------+---------+---------+---------+----------+---------+----------+----------+----------+----------+----------+---------+---------+---------+----------+----------+----------+----------+---------+----------+----------+---------+---------+---------+----------+---------+----------+----------+---------+---------+---------+---------+---------+\n"
     ]
    }
   ],
   "source": [
    "step_headers.clear()\n",
    "for a in range(start,start + 31):\n",
    "    # for b in range (1,18):\n",
    "    #     step_headers.append(f'<{a},{b}>')\n",
    "        step_headers.append(f'<{a}>')\n",
    "\n",
    "headers = [\"Classifier type\", \"pct_change\"]\n",
    "score_df = pd.DataFrame(score_sum.items(), columns=headers)\n",
    "# print(tabulate(score_df, headers, tablefmt=\"psql\"))\n",
    "headers2 = [\"Classifier type\", ] + step_headers\n",
    "score_df = pd.DataFrame(score_sum.items(), columns=headers)\n",
    "accuracy_df = pd.DataFrame(score_df['pct_change'].tolist(), index=score_df.index, columns=step_headers)\n",
    "score_df = score_df.drop('pct_change', 1)\n",
    "f_out: pd.DataFrame = pd.merge(score_df, accuracy_df, how='left', left_index=True, right_index=True)\n",
    "f_out['sum'] = f_out.sum(axis=1)\n",
    "f_out['sum'] = f_out['sum'].apply(lambda x: x+100)\n",
    "headers2 = headers2 + ['sum']\n",
    "print(tabulate(f_out, headers2, tablefmt=\"psql\"))\n",
    "\n",
    "filename_to_export = f'C:\\\\Users\\\\exomat\\\\Desktop\\\\repo\\\\magisterka_analiza\\\\data\\\\results\\\\simulation\\\\result_test_ta_all_sum_{symbol}_{WINDOW}_{datetime.now().strftime(\"%d_%m_%Y %H_%M_%S\")}.csv'\n",
    "f_out.to_csv(filename_to_export, index=False)\n"
   ],
   "metadata": {
    "collapsed": false,
    "pycharm": {
     "name": "#%%\n"
    }
   }
  },
  {
   "cell_type": "code",
   "execution_count": 54,
   "outputs": [
    {
     "name": "stdout",
     "output_type": "stream",
     "text": [
      "+----+-------------------+-----------+------------+------------+----------+----------+-----------+-----------+-----------+-----------+------------+----------+----------+----------+----------+-----------+----------+----------+-----------+-----------+-----------+------------+-----------+-----------+-----------+------------+-----------+------------+-----------+---------+-----------+------------+----------+\n",
      "|    |   Classifier type |     <100> |      <101> |      <102> |    <103> |    <104> |     <105> |     <106> |     <107> |     <108> |      <109> |    <110> |    <111> |    <112> |    <113> |     <114> |    <115> |    <116> |     <117> |     <118> |     <119> |      <120> |     <121> |     <122> |     <123> |      <124> |     <125> |      <126> |     <127> |   <128> |     <129> |      <130> |      sum |\n",
      "|----+-------------------+-----------+------------+------------+----------+----------+-----------+-----------+-----------+-----------+------------+----------+----------+----------+----------+-----------+----------+----------+-----------+-----------+-----------+------------+-----------+-----------+-----------+------------+-----------+------------+-----------+---------+-----------+------------+----------|\n",
      "|  0 |                 0 | 0         |  0         |  0         |  0       | 0        |  0        |  0        | -5.18808  | -1.65565  | -0.0407675 | -3.86018 | 0        | 0        |  0       |  0        |  0       |  0       |  1.28913  | -1.06894  |   0       |  0         |   0       |  0        |  0        |  3.07596   |  0        |   0        |  4.93268  | 0       |  0        |  4.83128   | 102.315  |\n",
      "|  1 |                 1 | 0         |  0         |  0         |  0       | 0        |  0        | -1.19422  | -5.35209  | -1.83759  |  0.826906  | -5.15298 | 0.571339 | 0        |  0       |  0        |  0       | -4.41151 |  2.53788  |  0        |   0       | -1.87956   |  -4.49074 |  0        |  0        |  5.71272   |  4.92044  |   0        |  4.09352  | 0       |  0        |  3.41653   |  98.7606 |\n",
      "|  2 |                 2 | 0         |  0.233463  |  0.927931  | -2.29825 | 1.7033   | -0.761216 | -0.965039 | -4.67516  | -3.65852  |  0         |  0       | 0        | 0        |  0       |  0        | -3.97904 | -4.14948 |  0        | -0.802436 |   0       | -0.0385654 |  -5.56088 |  0        | -5.83715  |  3.41772   |  4.64927  |   0        |  4.64264  | 0       |  0        |  2.67384   |  87.5224 |\n",
      "|  3 |                 3 | 0         |  0.697689  |  0.720091  | -2.91618 | 0        | -1.53334  | -1.79638  | -3.49669  | -3.96421  |  0         |  0       | 0        | 7.74252  | -1.66656 | -0.188959 | -3.91586 | -5.32957 |  4.12163  |  0.686748 |   0       |  1.85547   |  -7.39344 |  4.53694  | -4.15723  |  2.4311    |  3.34565  |   0        |  0.856216 | 0       |  0        |  5.5023    |  99.1379 |\n",
      "|  4 |                 4 | 0         |  0.615628  |  0.107895  |  0       | 2.25566  | -1.12132  | -2.62517  | -3.45897  | -3.37727  |  0         |  0       | 0        | 6.01413  | -1.68198 |  0        |  0       |  0       |  0        |  0        |   0       |  3.75734   |  -9.75509 |  2.32982  | -2.94141  |  1.5       |  1.759    |   0        |  2.02561  | 0       |  0        |  1.88526   | 101.289  |\n",
      "|  5 |                 5 | 0         |  0.889497  |  0.289398  | -2.49766 | 2.42914  | -1.31055  | -2.77318  | -4.74714  | -3.20721  |  0.990443  |  0       | 0        | 7.41189  | -1.06952 | -0.117647 |  0       |  0       |  0        | -0.790417 |   0       |  0         |  -7.93935 | -0.749888 |  0        |  0.0211545 |  0        |   0        |  6.20834  | 0       |  0        |  0.343325  |  98.3806 |\n",
      "|  6 |                 6 | 0         |  0         |  0         |  0       | 2.05225  | -1.1498   | -2.2728   | -4.60678  | -3.38124  |  0         |  0       | 0        | 8.27634  | -1.52267 |  0.270179 |  0       | -4.78636 |  2.41758  |  0        |   0       |  2.98571   |  -2.96846 | -5.30449  | -1.76889  |  0         |  0.320375 |   0        | 12.3997   | 2.99813 |  0        | -1.37225   | 108.587  |\n",
      "|  7 |                 7 | 0.0516403 |  0         | -0.32986   | -2.01424 | 1.49599  |  0        | -2.17969  |  0        | -3.17407  |  0         |  0       | 4.47259  | 9.00235  | -1.71933 | -0.623525 |  0       | -4.58549 | -0.785421 |  0        |   0       |  1.86242   |   0       |  0        | -3.42367  |  0         |  0        | -12.409    |  9.79597  | 0       |  0        | -1.14247   | 101.294  |\n",
      "|  8 |                 8 | 0         |  0         |  0         | -1.53334 | 1.40038  |  0        |  0        |  0        | -5.73422  |  1.02233   |  0       | 3.33321  | 9.06063  |  0       |  0.232308 | -4.30123 | -3.64456 |  0.555999 |  0        |   0       | -2.0765    |   0       |  0        | -1.71385  |  0         |  0        |   0        |  9.29735  | 0       |  0        | -0.845072  | 113.053  |\n",
      "|  9 |                 9 | 0         |  0         |  0         |  0       | 0        |  0        |  0        |  0.567992 | -4.62562  |  0.187696  |  0       | 0        | 7.58037  |  0       |  0        |  0       |  0       |  2.65885  |  0.625771 |   0       |  3.18567   |  -1.49324 |  0        | -5.63425  |  0         | -0.740743 |   0        |  8.61947  | 0       |  0        |  0         | 119.932  |\n",
      "| 10 |                10 | 0         |  0         | -0.45047   | -1.82797 | 1.34796  |  0        | -5.83905  |  0.106603 | -4.05203  | -1.09375   |  0       | 9.79203  | 6.54024  |  0       |  0        |  0       | -5.48524 |  1.09096  | -1.32779  |   0       |  2.42205   |   0       |  1.78514  |  0        |  4.36101   |  0        |  -8.55843  |  9.98645  | 4.68218 | -0.775526 |  0.0513874 | 122.756  |\n",
      "| 11 |                11 | 0         | -0.0568524 |  0.0123137 |  0       | 1.39472  |  0        | -5.63048  |  0.344689 | -4.24895  | -0.496313  | -8.45196 | 7.79566  | 0        |  0       |  0        |  0       | -4.06602 |  4.72397  | -3.96409  |  -8.44503 |  5.32863   |   0       |  3.45177  |  0        | -0.456383  |  0        |  -4.81333  |  8.77981  | 0       |  0        | -1.25736   | 100.945  |\n",
      "| 12 |                12 | 0         |  0         |  0         |  0       | 1.31414  |  0        | -6.00189  | -0.403974 | -5.04149  | -1.92999   | -5.83841 | 7.43565  | 0        |  0       | -1.88144  |  0       |  0       |  0        | -3.16556  | -10.4046  | 13.2673    | -12.1128  |  2.93088  |  0        | -0.894808  |  0        |  -2.38396  | 10.2143   | 0       |  0        |  0         |  97.1033 |\n",
      "| 13 |                13 | 0         |  0         | -0.178193  |  0       | 0.780031 |  0        | -5.03443  | -0.066335 | -4.85472  | -5.99763   |  0       | 6.48134  | 1.02278  |  0       | -2.66591  |  0       | -7.88314 |  0        | -2.15624  | -10.6399  | 15.2862    |   0       |  2.03749  |  0        | -1.09268   | -6.19379  |  -2.18341  | 10.3203   | 0       |  4.05263  |  0         | 104.034  |\n",
      "| 14 |                14 | 0         |  0         |  0         |  0       | 0        |  0        | -5.30779  |  1.39389  | -0.966877 |  0         | -3.7092  | 6.69552  | 0        |  0       |  0        | -1.57771 | -7.80117 |  5.06964  |  0        | -14.088   | 13.8857    |   0       |  1.49994  | -0.467252 |  0         | -6.21292  |  -1.6838   |  8.81057  | 0       |  0        |  0         | 109.541  |\n",
      "| 15 |                15 | 0         |  0         |  0         |  0       | 0        |  0        |  0        | -0.855796 |  1.7978   | -3.41927   |  0       | 8.72678  | 0.486956 |  0       |  0        | -2.03524 | -6.02094 |  2.43332  | -0.751342 | -12.4601  | 14.6234    |   0       | -0.628427 |  1.34174  |  0         | -6.00206  |  -0.656455 |  9.25275  | 0       |  0        |  0         | 120.833  |\n",
      "| 16 |                16 | 2.36836   |  0         |  0         |  0       | 0        |  0        |  0        | -2.71102  |  0        | -4.41551   | -4.91622 | 0        | 0        |  0       |  0        | -2.33509 |  1.89873 |  0        |  0        |  -9.12548 |  6.08999   |   0       | -4.60029  |  5.9499   | -1.23833   |  0        |   2.29317  |  0        | 0       |  6.16872  |  0         | 111.427  |\n",
      "+----+-------------------+-----------+------------+------------+----------+----------+-----------+-----------+-----------+-----------+------------+----------+----------+----------+----------+-----------+----------+----------+-----------+-----------+-----------+------------+-----------+-----------+-----------+------------+-----------+------------+-----------+---------+-----------+------------+----------+\n"
     ]
    }
   ],
   "source": [
    "step_headers.clear()\n",
    "for a in range(start,start + 31):\n",
    "    # for b in range (1,18):\n",
    "        step_headers.append(f'<{a}>')\n",
    "\n",
    "headers = [\"Classifier type\", \"pct_change\"]\n",
    "score_df = pd.DataFrame(score_ind.items(), columns=headers)\n",
    "# print(tabulate(score_df, headers, tablefmt=\"psql\"))\n",
    "headers2 = [\"Classifier type\", ] + step_headers\n",
    "score_df = pd.DataFrame(score_ind.items(), columns=headers)\n",
    "accuracy_df = pd.DataFrame(score_df['pct_change'].tolist(), index=score_df.index, columns=step_headers)\n",
    "score_df = score_df.drop('pct_change', 1)\n",
    "f_out: pd.DataFrame = pd.merge(score_df, accuracy_df, how='left', left_index=True, right_index=True)\n",
    "f_out['sum'] = f_out.sum(axis=1)\n",
    "f_out['sum'] = f_out['sum'].apply(lambda x: x+100)\n",
    "headers2 = headers2 + ['sum']\n",
    "print(tabulate(f_out, headers2, tablefmt=\"psql\"))\n",
    "\n",
    "filename_to_export = f'C:\\\\Users\\\\exomat\\\\Desktop\\\\repo\\\\magisterka_analiza\\\\data\\\\results\\\\simulation\\\\result_test_ta_all_points_{symbol}_{WINDOW}_{datetime.now().strftime(\"%d_%m_%Y %H_%M_%S\")}.csv'\n",
    "f_out.to_csv(filename_to_export, index=False)"
   ],
   "metadata": {
    "collapsed": false,
    "pycharm": {
     "name": "#%%\n"
    }
   }
  },
  {
   "cell_type": "code",
   "execution_count": 55,
   "outputs": [
    {
     "name": "stdout",
     "output_type": "stream",
     "text": [
      "+----+-------------------+---------+---------+---------+---------+---------+---------+---------+---------+---------+---------+---------+---------+---------+---------+---------+---------+---------+---------+---------+---------+---------+---------+---------+---------+---------+---------+---------+---------+---------+---------+---------+---------+\n",
      "|    |   Classifier type |   <100> |   <101> |   <102> |   <103> |   <104> |   <105> |   <106> |   <107> |   <108> |   <109> |   <110> |   <111> |   <112> |   <113> |   <114> |   <115> |   <116> |   <117> |   <118> |   <119> |   <120> |   <121> |   <122> |   <123> |   <124> |   <125> |   <126> |   <127> |   <128> |   <129> |   <130> |     sum |\n",
      "|----+-------------------+---------+---------+---------+---------+---------+---------+---------+---------+---------+---------+---------+---------+---------+---------+---------+---------+---------+---------+---------+---------+---------+---------+---------+---------+---------+---------+---------+---------+---------+---------+---------+---------|\n",
      "|  0 |                 0 | 80.2375 | 80.25   | 80.54   | 81.4675 | 78.7375 | 80.2625 | 80.8475 | 79.22   | 74.7908 | 73.585  | 73.02   | 69.4375 | 68.66   | 74.4125 | 71.75   | 75.2525 | 71.9025 | 67.875  | 69.695  | 69.8625 | 65.0875 | 63.95   | 61.89   | 62.125  | 59.7375 | 62.5    | 64.29   | 55.7    | 58.55   | 64.75   | 60.75   | 2281.14 |\n",
      "|  1 |                 1 | 80.575  | 80.25   | 80.5    | 81.575  | 79.6025 | 80.16   | 80.1775 | 79.02   | 74.9625 | 72.4211 | 73.21   | 68.27   | 68.83   | 74.3875 | 71.775  | 74.18   | 71.0075 | 67.97   | 70.125  | 69.2275 | 65.175  | 64.8    | 61.5625 | 62.2125 | 59.1225 | 61.275  | 64.375  | 56.2475 | 59.2225 | 63.5525 | 61.1    | 2277.87 |\n",
      "|  2 |                 2 | 80.675  | 80.3125 | 80.825  | 81.475  | 78.8175 | 80.7925 | 79.79   | 78.639  | 75.1712 | 72.1616 | 73.1725 | 67.525  | 68.875  | 74.275  | 73.755  | 73.95   | 70.9125 | 67.145  | 69.7875 | 69.275  | 64.825  | 65.1875 | 61.375  | 62.7875 | 59.25   | 61.515  | 62.9375 | 56.595  | 58.3075 | 62.45   | 61.335  | 2275.9  |\n",
      "|  3 |                 3 | 80.645  | 80.265  | 80.8925 | 81.185  | 79.1468 | 81.0325 | 80.0775 | 77.895  | 75.1403 | 72.025  | 72.73   | 67.54   | 68.9375 | 75.005  | 74.09   | 73.8025 | 70.925  | 67.025  | 68.8025 | 69.1875 | 64      | 66.275  | 60.0625 | 61.82   | 60.055  | 60.9    | 62.9125 | 57.8125 | 58.175  | 62.255  | 60.2475 | 2273.86 |\n",
      "|  4 |                 4 | 80.51   | 80.3975 | 81.0975 | 81.2319 | 79.245  | 80.9856 | 79.995  | 77.8325 | 74.5425 | 72.205  | 72.65   | 68      | 70.75   | 75.3575 | 74      | 74.2875 | 70.25   | 65.9475 | 69.2875 | 69.3475 | 63.875  | 66.555  | 60.4125 | 61.875  | 60      | 61.825  | 61.985  | 57.02   | 58.8925 | 62.8325 | 61.6625 | 2278.86 |\n",
      "|  5 |                 5 | 80.72   | 80.3825 | 80.9975 | 81.275  | 79.065  | 81.0573 | 80.0525 | 78.2575 | 74.5975 | 71.9375 | 72.625  | 65.57   | 70.1575 | 74.8    | 74.375  | 74.225  | 70.3375 | 68.58   | 69.9    | 68.88   | 64.9375 | 65.6225 | 62.3425 | 61.1875 | 61.8119 | 62.1975 | 62.62   | 55.45   | 60.4345 | 61.9766 | 62.6225 | 2284    |\n",
      "|  6 |                 6 | 80.9    | 80.59   | 81.325  | 81.13   | 79.4273 | 80.9837 | 80.0775 | 78.2    | 74.455  | 72.45   | 72.475  | 66.5    | 69.0825 | 75.525  | 74.025  | 73.7125 | 72.0275 | 68.25   | 68.055  | 69.0275 | 63.72   | 64.2497 | 64.615  | 62.925  | 61.0488 | 62.42   | 62.2912 | 53.7675 | 60.1725 | 63.46   | 63.2175 | 2286.11 |\n",
      "|  7 |                 7 | 80.5484 | 81.04   | 81.3985 | 81.06   | 79.79   | 80.9175 | 79.9425 | 78.2    | 74.825  | 70.935  | 72.3825 | 66.125  | 69.2875 | 75.32   | 74.175  | 74.4275 | 71.53   | 68.5938 | 68.725  | 69.5875 | 63.075  | 64.1937 | 63.7225 | 63.213  | 61.5075 | 61.7691 | 61.3847 | 54.8039 | 60.645  | 63.6075 | 63.5575 | 2287.29 |\n",
      "|  8 |                 8 | 80.6175 | 81.2    | 81.3125 | 81.0325 | 79.8    | 80.905  | 79.87   | 78.075  | 75.25   | 71.65   | 72.06   | 67.0525 | 69.0625 | 75.9625 | 74.255  | 74.7449 | 71.1882 | 68.345  | 69.0861 | 69.209  | 65.555  | 65.5771 | 63.5775 | 62.58   | 60.1275 | 61.9813 | 61.975  | 55.4863 | 60.0285 | 63.7325 | 63.0125 | 2292.31 |\n",
      "|  9 |                 9 | 80.507  | 81.275  | 81.375  | 80.9375 | 79.7525 | 80.825  | 79.5    | 74.825  | 75.125  | 71.925  | 71.2125 | 66.3    | 70.61   | 74.9225 | 74.295  | 74.19   | 71.825  | 67.2968 | 68.7786 | 68.74   | 63.5525 | 64.5413 | 62.7409 | 63.7175 | 59.45   | 62.4375 | 61.3175 | 55.265  | 59.8684 | 63.7632 | 63.3325 | 2283.2  |\n",
      "| 10 |                10 | 80.605  | 81.24   | 81.3037 | 81.2375 | 79.75   | 80.8775 | 79.465  | 75.045  | 74.9625 | 72      | 71.1725 | 64.3125 | 70.3232 | 73.0075 | 74.1925 | 73.925  | 71.2024 | 68.0364 | 69.665  | 68.5912 | 63.015  | 65.3037 | 62.6    | 62.4512 | 59.8284 | 62.1625 | 60.4375 | 54.4325 | 60.9113 | 63.8275 | 63.24   | 2279.12 |\n",
      "| 11 |                11 | 80.17   | 81.35   | 81.2275 | 81.255  | 79.765  | 80.95   | 79.5225 | 74.705  | 75.195  | 71.5275 | 70.25   | 65.2375 | 72.4062 | 73.455  | 74.9563 | 73.5325 | 70.92   | 66.5225 | 71.4225 | 68.8275 | 62      | 69.515  | 60.3675 | 63.215  | 62.4475 | 61.1925 | 57.185  | 55.995  | 61.72   | 61.3625 | 64.62   | 2283.82 |\n",
      "| 12 |                12 | 79.795  | 81.8    | 81.3375 | 81.2275 | 79.9    | 80.75   | 79.475  | 75.5    | 75.325  | 71.6325 | 69.2825 | 67.395  | 72.4925 | 72.845  | 74.9425 | 73.1125 | 72.245  | 66.3725 | 71.0775 | 69.2    | 61.3725 | 68.6875 | 61.415  | 62.6    | 61.745  | 61.1    | 57.3625 | 56      | 62      | 61.5775 | 64.2525 | 2285.82 |\n",
      "| 13 |                13 | 79.9025 | 81.8    | 81.3725 | 81.26   | 80.125  | 80.75   | 79.5025 | 75.375  | 75.2875 | 73.7029 | 70.2025 | 68.08   | 72.1075 | 71.98   | 75.115  | 73.23   | 72.0525 | 66.125  | 70.725  | 68.68   | 59.58   | 68.73   | 61.35   | 62.425  | 61.775  | 61.15   | 57.25   | 56.2    | 61.75   | 61.75   | 64.4    | 2286.74 |\n",
      "| 14 |                14 | 79.875  | 81.7125 | 81.1875 | 78.2475 | 80.175  | 80.725  | 79.6    | 74.2525 | 74.4225 | 74.3875 | 70.7025 | 67.5825 | 72.5751 | 73.2623 | 75.735  | 73.2075 | 71.72   | 67.3125 | 70.09   | 69.35   | 60.35   | 68.4875 | 61.5025 | 62.065  | 62.3125 | 61.0425 | 57.1625 | 56.75   | 62.1375 | 61.95   | 64.2625 | 2288.14 |\n",
      "| 15 |                15 | 79.85   | 81.8    | 81.4875 | 78.475  | 80.1225 | 80.675  | 79.67   | 75.0649 | 73.0738 | 73.2056 | 70.3072 | 66.75   | 72.9072 | 72.3275 | 75.4    | 73.21   | 71.625  | 68.425  | 69.875  | 68.94   | 59.75   | 68.375  | 62.4575 | 61.4875 | 63.4375 | 60.8125 | 57.125  | 56.875  | 61.425  | 61.88   | 64.4975 | 2286.31 |\n",
      "| 16 |                16 | 79.9075 | 80.9625 | 81.5375 | 78.5475 | 80.15   | 80.6425 | 79.3732 | 75.11   | 73.5525 | 73.555  | 70.2012 | 66.671  | 74.71   | 72.165  | 75.415  | 73.3375 | 67.15   | 68.75   | 68.95   | 65.75   | 64.45   | 62.4975 | 64.4525 | 59.875  | 61.575  | 64.25   | 55.6    | 58.4475 | 63.75   | 60.75   | 63.685  | 2281.77 |\n",
      "+----+-------------------+---------+---------+---------+---------+---------+---------+---------+---------+---------+---------+---------+---------+---------+---------+---------+---------+---------+---------+---------+---------+---------+---------+---------+---------+---------+---------+---------+---------+---------+---------+---------+---------+\n"
     ]
    }
   ],
   "source": [
    "step_headers.clear()\n",
    "for a in range(start,start + 31):\n",
    "    # for b in range (1,18):\n",
    "        step_headers.append(f'<{a}>')\n",
    "\n",
    "headers = [\"Classifier type\", \"pct_change\"]\n",
    "score_df = pd.DataFrame(price_now.items(), columns=headers)\n",
    "# print(tabulate(score_df, headers, tablefmt=\"psql\"))\n",
    "headers2 = [\"Classifier type\", ] + step_headers\n",
    "score_df = pd.DataFrame(price_now.items(), columns=headers)\n",
    "accuracy_df = pd.DataFrame(score_df['pct_change'].tolist(), index=score_df.index, columns=step_headers)\n",
    "score_df = score_df.drop('pct_change', 1)\n",
    "f_out: pd.DataFrame = pd.merge(score_df, accuracy_df, how='left', left_index=True, right_index=True)\n",
    "f_out['sum'] = f_out.sum(axis=1)\n",
    "f_out['sum'] = f_out['sum'].apply(lambda x: x+100)\n",
    "headers2 = headers2 + ['sum']\n",
    "print(tabulate(f_out, headers2, tablefmt=\"psql\"))\n",
    "\n",
    "filename_to_export = f'C:\\\\Users\\\\exomat\\\\Desktop\\\\repo\\\\magisterka_analiza\\\\data\\\\results\\\\simulation\\\\result_test_ta_all_price_now_{symbol}_{WINDOW}_{datetime.now().strftime(\"%d_%m_%Y %H_%M_%S\")}.csv'\n",
    "f_out.to_csv(filename_to_export, index=False)"
   ],
   "metadata": {
    "collapsed": false,
    "pycharm": {
     "name": "#%%\n"
    }
   }
  },
  {
   "cell_type": "code",
   "execution_count": 56,
   "outputs": [
    {
     "name": "stdout",
     "output_type": "stream",
     "text": [
      "+----+-------------------+---------+---------+---------+---------+---------+---------+---------+---------+---------+---------+---------+---------+---------+---------+---------+---------+---------+---------+---------+---------+---------+---------+---------+---------+---------+---------+---------+---------+---------+---------+---------+---------+\n",
      "|    |   Classifier type |   <100> |   <101> |   <102> |   <103> |   <104> |   <105> |   <106> |   <107> |   <108> |   <109> |   <110> |   <111> |   <112> |   <113> |   <114> |   <115> |   <116> |   <117> |   <118> |   <119> |   <120> |   <121> |   <122> |   <123> |   <124> |   <125> |   <126> |   <127> |   <128> |   <129> |   <130> |     sum |\n",
      "|----+-------------------+---------+---------+---------+---------+---------+---------+---------+---------+---------+---------+---------+---------+---------+---------+---------+---------+---------+---------+---------+---------+---------+---------+---------+---------+---------+---------+---------+---------+---------+---------+---------+---------|\n",
      "|  0 |                 0 | 79.9075 | 80.9625 | 81.5375 | 78.5475 | 80.15   | 80.6425 | 79.3732 | 75.11   | 73.5525 | 73.555  | 70.2012 | 66.671  | 74.71   | 72.165  | 75.415  | 73.3375 | 67.15   | 68.75   | 68.95   | 65.75   | 64.45   | 62.4975 | 64.4525 | 59.875  | 61.575  | 64.25   | 55.6    | 58.4475 | 63.75   | 60.75   | 63.685  | 2265.77 |\n",
      "|  1 |                 1 | 80.25   | 80.54   | 81.4675 | 78.7375 | 80.2625 | 80.8475 | 79.22   | 74.7908 | 73.585  | 73.02   | 69.4375 | 68.66   | 74.4125 | 71.75   | 75.2525 | 71.9025 | 67.875  | 69.695  | 69.8625 | 65.0875 | 63.95   | 61.89   | 62.125  | 59.7375 | 62.5    | 64.29   | 55.7    | 58.55   | 64.75   | 60.75   | 63.1875 | 2265.09 |\n",
      "|  2 |                 2 | 80.25   | 80.5    | 81.575  | 79.6025 | 80.16   | 80.1775 | 79.02   | 74.9625 | 72.4211 | 73.21   | 68.27   | 68.83   | 74.3875 | 71.775  | 74.18   | 71.0075 | 67.97   | 70.125  | 69.2275 | 65.175  | 64.8    | 61.5625 | 62.2125 | 59.1225 | 61.275  | 64.375  | 56.2475 | 59.2225 | 63.5525 | 61.1    | 62.975  | 2261.27 |\n",
      "|  3 |                 3 | 80.3125 | 80.825  | 81.475  | 78.8175 | 80.7925 | 79.79   | 78.639  | 75.1712 | 72.1616 | 73.1725 | 67.525  | 68.875  | 74.275  | 73.755  | 73.95   | 70.9125 | 67.145  | 69.7875 | 69.275  | 64.825  | 65.1875 | 61.375  | 62.7875 | 59.25   | 61.515  | 62.9375 | 56.595  | 58.3075 | 62.45   | 61.335  | 63.5625 | 2259.78 |\n",
      "|  4 |                 4 | 80.265  | 80.8925 | 81.185  | 79.1468 | 81.0325 | 80.0775 | 77.895  | 75.1403 | 72.025  | 72.73   | 67.54   | 68.9375 | 75.005  | 74.09   | 73.8025 | 70.925  | 67.025  | 68.8025 | 69.1875 | 64      | 66.275  | 60.0625 | 61.82   | 60.055  | 60.9    | 62.9125 | 57.8125 | 58.175  | 62.255  | 60.2475 | 62.825  | 2257.04 |\n",
      "|  5 |                 5 | 80.3975 | 81.0975 | 81.2319 | 79.245  | 80.9856 | 79.995  | 77.8325 | 74.5425 | 72.205  | 72.65   | 68      | 70.75   | 75.3575 | 74      | 74.2875 | 70.25   | 65.9475 | 69.2875 | 69.3475 | 63.875  | 66.555  | 60.4125 | 61.875  | 60      | 61.825  | 61.985  | 57.02   | 58.8925 | 62.8325 | 61.6625 | 62.8375 | 2262.18 |\n",
      "|  6 |                 6 | 80.3825 | 80.9975 | 81.275  | 79.065  | 81.0573 | 80.0525 | 78.2575 | 74.5975 | 71.9375 | 72.625  | 65.57   | 70.1575 | 74.8    | 74.375  | 74.225  | 70.3375 | 68.58   | 69.9    | 68.88   | 64.9375 | 65.6225 | 62.3425 | 61.1875 | 61.8119 | 62.1975 | 62.62   | 55.45   | 60.4345 | 61.9766 | 62.6225 | 62.35   | 2266.63 |\n",
      "|  7 |                 7 | 80.59   | 81.325  | 81.13   | 79.4273 | 80.9837 | 80.0775 | 78.2    | 74.455  | 72.45   | 72.475  | 66.5    | 69.0825 | 75.525  | 74.025  | 73.7125 | 72.0275 | 68.25   | 68.055  | 69.0275 | 63.72   | 64.2497 | 64.615  | 62.925  | 61.0488 | 62.42   | 62.2912 | 53.7675 | 60.1725 | 63.46   | 63.2175 | 62.8314 | 2269.04 |\n",
      "|  8 |                 8 | 81.04   | 81.3985 | 81.06   | 79.79   | 80.9175 | 79.9425 | 78.2    | 74.825  | 70.935  | 72.3825 | 66.125  | 69.2875 | 75.32   | 74.175  | 74.4275 | 71.53   | 68.5938 | 68.725  | 69.5875 | 63.075  | 64.1937 | 63.7225 | 63.213  | 61.5075 | 61.7691 | 61.3847 | 54.8039 | 60.645  | 63.6075 | 63.5575 | 62.48   | 2270.22 |\n",
      "|  9 |                 9 | 81.2    | 81.3125 | 81.0325 | 79.8    | 80.905  | 79.87   | 78.075  | 75.25   | 71.65   | 72.06   | 67.0525 | 69.0625 | 75.9625 | 74.255  | 74.7449 | 71.1882 | 68.345  | 69.0861 | 69.209  | 65.555  | 65.5771 | 63.5775 | 62.58   | 60.1275 | 61.9813 | 61.975  | 55.4863 | 60.0285 | 63.7325 | 63.0125 | 62.8477 | 2275.54 |\n",
      "| 10 |                10 | 81.275  | 81.375  | 80.9375 | 79.7525 | 80.825  | 79.5    | 74.825  | 75.125  | 71.925  | 71.2125 | 66.3    | 70.61   | 74.9225 | 74.295  | 74.19   | 71.825  | 67.2968 | 68.7786 | 68.74   | 63.5525 | 64.5413 | 62.7409 | 63.7175 | 59.45   | 62.4375 | 61.3175 | 55.265  | 59.8684 | 63.7632 | 63.3325 | 63.2725 | 2266.97 |\n",
      "| 11 |                11 | 81.24   | 81.3037 | 81.2375 | 79.75   | 80.8775 | 79.465  | 75.045  | 74.9625 | 72      | 71.1725 | 64.3125 | 70.3232 | 73.0075 | 74.1925 | 73.925  | 71.2024 | 68.0364 | 69.665  | 68.5912 | 63.015  | 65.3037 | 62.6    | 62.4512 | 59.8284 | 62.1625 | 60.4375 | 54.4325 | 60.9113 | 63.8275 | 63.24   | 63.8075 | 2263.33 |\n",
      "| 12 |                12 | 81.35   | 81.2275 | 81.255  | 79.765  | 80.95   | 79.5225 | 74.705  | 75.195  | 71.5275 | 70.25   | 65.2375 | 72.4062 | 73.455  | 74.9563 | 73.5325 | 70.92   | 66.5225 | 71.4225 | 68.8275 | 62      | 69.515  | 60.3675 | 63.215  | 62.4475 | 61.1925 | 57.185  | 55.995  | 61.72   | 61.3625 | 64.62   | 61.9225 | 2266.57 |\n",
      "| 13 |                13 | 81.8    | 81.3375 | 81.2275 | 79.9    | 80.75   | 79.475  | 75.5    | 75.325  | 71.6325 | 69.2825 | 67.395  | 72.4925 | 72.845  | 74.9425 | 73.1125 | 72.245  | 66.3725 | 71.0775 | 69.2    | 61.3725 | 68.6875 | 61.415  | 62.6    | 61.745  | 61.1    | 57.3625 | 56      | 62      | 61.5775 | 64.2525 | 61.895  | 2268.92 |\n",
      "| 14 |                14 | 81.8    | 81.3725 | 81.26   | 80.125  | 80.75   | 79.5025 | 75.375  | 75.2875 | 73.7029 | 70.2025 | 68.08   | 72.1075 | 71.98   | 75.115  | 73.23   | 72.0525 | 66.125  | 70.725  | 68.68   | 59.58   | 68.73   | 61.35   | 62.425  | 61.775  | 61.15   | 57.25   | 56.2    | 61.75   | 61.75   | 64.4    | 61.8775 | 2269.71 |\n",
      "| 15 |                15 | 81.7125 | 81.1875 | 78.2475 | 80.175  | 80.725  | 79.6    | 74.2525 | 74.4225 | 74.3875 | 70.7025 | 67.5825 | 72.5751 | 73.2623 | 75.735  | 73.2075 | 71.72   | 67.3125 | 70.09   | 69.35   | 60.35   | 68.4875 | 61.5025 | 62.065  | 62.3125 | 61.0425 | 57.1625 | 56.75   | 62.1375 | 61.95   | 64.2625 | 61.8725 | 2271.14 |\n",
      "| 16 |                16 | 81.8    | 81.4875 | 78.475  | 80.1225 | 80.675  | 79.67   | 75.0649 | 73.0738 | 73.2056 | 70.3072 | 66.75   | 72.9072 | 72.3275 | 75.4    | 73.21   | 71.625  | 68.425  | 69.875  | 68.94   | 59.75   | 68.375  | 62.4575 | 61.4875 | 63.4375 | 60.8125 | 57.125  | 56.875  | 61.425  | 61.88   | 64.4975 | 61.79   | 2269.25 |\n",
      "+----+-------------------+---------+---------+---------+---------+---------+---------+---------+---------+---------+---------+---------+---------+---------+---------+---------+---------+---------+---------+---------+---------+---------+---------+---------+---------+---------+---------+---------+---------+---------+---------+---------+---------+\n"
     ]
    }
   ],
   "source": [
    "step_headers.clear()\n",
    "for a in range(start,start + 31):\n",
    "    # for b in range (1,18):\n",
    "        step_headers.append(f'<{a}>')\n",
    "\n",
    "headers = [\"Classifier type\", \"pct_change\"]\n",
    "score_df = pd.DataFrame(price_fut.items(), columns=headers)\n",
    "# print(tabulate(score_df, headers, tablefmt=\"psql\"))\n",
    "headers2 = [\"Classifier type\", ] + step_headers\n",
    "score_df = pd.DataFrame(price_fut.items(), columns=headers)\n",
    "accuracy_df = pd.DataFrame(score_df['pct_change'].tolist(), index=score_df.index, columns=step_headers)\n",
    "score_df = score_df.drop('pct_change', 1)\n",
    "f_out: pd.DataFrame = pd.merge(score_df, accuracy_df, how='left', left_index=True, right_index=True)\n",
    "f_out['sum'] = f_out.sum(axis=1)\n",
    "f_out['sum'] = f_out['sum'].apply(lambda x: x+100)\n",
    "headers2 = headers2 + ['sum']\n",
    "print(tabulate(f_out, headers2, tablefmt=\"psql\"))\n",
    "\n",
    "filename_to_export = f'C:\\\\Users\\\\exomat\\\\Desktop\\\\repo\\\\magisterka_analiza\\\\data\\\\results\\\\simulation\\\\result_test_ta_all_price_fut_{symbol}_{WINDOW}_{datetime.now().strftime(\"%d_%m_%Y %H_%M_%S\")}.csv'\n",
    "f_out.to_csv(filename_to_export, index=False)"
   ],
   "metadata": {
    "collapsed": false,
    "pycharm": {
     "name": "#%%\n"
    }
   }
  },
  {
   "cell_type": "code",
   "execution_count": 57,
   "outputs": [
    {
     "name": "stdout",
     "output_type": "stream",
     "text": [
      "+----+-------------------+-----------+------------+------------+----------+----------+-----------+-----------+-----------+-----------+------------+----------+----------+----------+----------+-----------+----------+----------+-----------+-----------+-----------+------------+-----------+-----------+-----------+------------+-----------+------------+-----------+---------+-----------+------------+----------+\n",
      "|    |   Classifier type |     <100> |      <101> |      <102> |    <103> |    <104> |     <105> |     <106> |     <107> |     <108> |      <109> |    <110> |    <111> |    <112> |    <113> |     <114> |    <115> |    <116> |     <117> |     <118> |     <119> |      <120> |     <121> |     <122> |     <123> |      <124> |     <125> |      <126> |     <127> |   <128> |     <129> |      <130> |      sum |\n",
      "|----+-------------------+-----------+------------+------------+----------+----------+-----------+-----------+-----------+-----------+------------+----------+----------+----------+----------+-----------+----------+----------+-----------+-----------+-----------+------------+-----------+-----------+-----------+------------+-----------+------------+-----------+---------+-----------+------------+----------|\n",
      "|  0 |                 0 | 0         |  0         |  0         |  0       | 0        |  0        |  0        | -5.18808  | -1.65565  | -0.0407675 | -3.86018 | 0        | 0        |  0       |  0        |  0       |  0       |  1.28913  | -1.06894  |   0       |  0         |   0       |  0        |  0        |  3.07596   |  0        |   0        |  4.93268  | 0       |  0        |  4.83128   | 102.315  |\n",
      "|  1 |                 1 | 0         |  0         |  0         |  0       | 0        |  0        | -1.19422  | -5.35209  | -1.83759  |  0.826906  | -5.15298 | 0.571339 | 0        |  0       |  0        |  0       | -4.41151 |  2.53788  |  0        |   0       | -1.87956   |  -4.49074 |  0        |  0        |  5.71272   |  4.92044  |   0        |  4.09352  | 0       |  0        |  3.41653   |  98.7606 |\n",
      "|  2 |                 2 | 0         |  0.233463  |  0.927931  | -2.29825 | 1.7033   | -0.761216 | -0.965039 | -4.67516  | -3.65852  |  0         |  0       | 0        | 0        |  0       |  0        | -3.97904 | -4.14948 |  0        | -0.802436 |   0       | -0.0385654 |  -5.56088 |  0        | -5.83715  |  3.41772   |  4.64927  |   0        |  4.64264  | 0       |  0        |  2.67384   |  87.5224 |\n",
      "|  3 |                 3 | 0         |  0.697689  |  0.720091  | -2.91618 | 0        | -1.53334  | -1.79638  | -3.49669  | -3.96421  |  0         |  0       | 0        | 7.74252  | -1.66656 | -0.188959 | -3.91586 | -5.32957 |  4.12163  |  0.686748 |   0       |  1.85547   |  -7.39344 |  4.53694  | -4.15723  |  2.4311    |  3.34565  |   0        |  0.856216 | 0       |  0        |  5.5023    |  99.1379 |\n",
      "|  4 |                 4 | 0         |  0.615628  |  0.107895  |  0       | 2.25566  | -1.12132  | -2.62517  | -3.45897  | -3.37727  |  0         |  0       | 0        | 6.01413  | -1.68198 |  0        |  0       |  0       |  0        |  0        |   0       |  3.75734   |  -9.75509 |  2.32982  | -2.94141  |  1.5       |  1.759    |   0        |  2.02561  | 0       |  0        |  1.88526   | 101.289  |\n",
      "|  5 |                 5 | 0         |  0.889497  |  0.289398  | -2.49766 | 2.42914  | -1.31055  | -2.77318  | -4.74714  | -3.20721  |  0.990443  |  0       | 0        | 7.41189  | -1.06952 | -0.117647 |  0       |  0       |  0        | -0.790417 |   0       |  0         |  -7.93935 | -0.749888 |  0        |  0.0211545 |  0        |   0        |  6.20834  | 0       |  0        |  0.343325  |  98.3806 |\n",
      "|  6 |                 6 | 0         |  0         |  0         |  0       | 2.05225  | -1.1498   | -2.2728   | -4.60678  | -3.38124  |  0         |  0       | 0        | 8.27634  | -1.52267 |  0.270179 |  0       | -4.78636 |  2.41758  |  0        |   0       |  2.98571   |  -2.96846 | -5.30449  | -1.76889  |  0         |  0.320375 |   0        | 12.3997   | 2.99813 |  0        | -1.37225   | 108.587  |\n",
      "|  7 |                 7 | 0.0516403 |  0         | -0.32986   | -2.01424 | 1.49599  |  0        | -2.17969  |  0        | -3.17407  |  0         |  0       | 4.47259  | 9.00235  | -1.71933 | -0.623525 |  0       | -4.58549 | -0.785421 |  0        |   0       |  1.86242   |   0       |  0        | -3.42367  |  0         |  0        | -12.409    |  9.79597  | 0       |  0        | -1.14247   | 101.294  |\n",
      "|  8 |                 8 | 0         |  0         |  0         | -1.53334 | 1.40038  |  0        |  0        |  0        | -5.73422  |  1.02233   |  0       | 3.33321  | 9.06063  |  0       |  0.232308 | -4.30123 | -3.64456 |  0.555999 |  0        |   0       | -2.0765    |   0       |  0        | -1.71385  |  0         |  0        |   0        |  9.29735  | 0       |  0        | -0.845072  | 113.053  |\n",
      "|  9 |                 9 | 0         |  0         |  0         |  0       | 0        |  0        |  0        |  0.567992 | -4.62562  |  0.187696  |  0       | 0        | 7.58037  |  0       |  0        |  0       |  0       |  2.65885  |  0.625771 |   0       |  3.18567   |  -1.49324 |  0        | -5.63425  |  0         | -0.740743 |   0        |  8.61947  | 0       |  0        |  0         | 119.932  |\n",
      "| 10 |                10 | 0         |  0         | -0.45047   | -1.82797 | 1.34796  |  0        | -5.83905  |  0.106603 | -4.05203  | -1.09375   |  0       | 9.79203  | 6.54024  |  0       |  0        |  0       | -5.48524 |  1.09096  | -1.32779  |   0       |  2.42205   |   0       |  1.78514  |  0        |  4.36101   |  0        |  -8.55843  |  9.98645  | 4.68218 | -0.775526 |  0.0513874 | 122.756  |\n",
      "| 11 |                11 | 0         | -0.0568524 |  0.0123137 |  0       | 1.39472  |  0        | -5.63048  |  0.344689 | -4.24895  | -0.496313  | -8.45196 | 7.79566  | 0        |  0       |  0        |  0       | -4.06602 |  4.72397  | -3.96409  |  -8.44503 |  5.32863   |   0       |  3.45177  |  0        | -0.456383  |  0        |  -4.81333  |  8.77981  | 0       |  0        | -1.25736   | 100.945  |\n",
      "| 12 |                12 | 0         |  0         |  0         |  0       | 1.31414  |  0        | -6.00189  | -0.403974 | -5.04149  | -1.92999   | -5.83841 | 7.43565  | 0        |  0       | -1.88144  |  0       |  0       |  0        | -3.16556  | -10.4046  | 13.2673    | -12.1128  |  2.93088  |  0        | -0.894808  |  0        |  -2.38396  | 10.2143   | 0       |  0        |  0         |  97.1033 |\n",
      "| 13 |                13 | 0         |  0         | -0.178193  |  0       | 0.780031 |  0        | -5.03443  | -0.066335 | -4.85472  | -5.99763   |  0       | 6.48134  | 1.02278  |  0       | -2.66591  |  0       | -7.88314 |  0        | -2.15624  | -10.6399  | 15.2862    |   0       |  2.03749  |  0        | -1.09268   | -6.19379  |  -2.18341  | 10.3203   | 0       |  4.05263  |  0         | 104.034  |\n",
      "| 14 |                14 | 0         |  0         |  0         |  0       | 0        |  0        | -5.30779  |  1.39389  | -0.966877 |  0         | -3.7092  | 6.69552  | 0        |  0       |  0        | -1.57771 | -7.80117 |  5.06964  |  0        | -14.088   | 13.8857    |   0       |  1.49994  | -0.467252 |  0         | -6.21292  |  -1.6838   |  8.81057  | 0       |  0        |  0         | 109.541  |\n",
      "| 15 |                15 | 0         |  0         |  0         |  0       | 0        |  0        |  0        | -0.855796 |  1.7978   | -3.41927   |  0       | 8.72678  | 0.486956 |  0       |  0        | -2.03524 | -6.02094 |  2.43332  | -0.751342 | -12.4601  | 14.6234    |   0       | -0.628427 |  1.34174  |  0         | -6.00206  |  -0.656455 |  9.25275  | 0       |  0        |  0         | 120.833  |\n",
      "| 16 |                16 | 2.36836   |  0         |  0         |  0       | 0        |  0        |  0        | -2.71102  |  0        | -4.41551   | -4.91622 | 0        | 0        |  0       |  0        | -2.33509 |  1.89873 |  0        |  0        |  -9.12548 |  6.08999   |   0       | -4.60029  |  5.9499   | -1.23833   |  0        |   2.29317  |  0        | 0       |  6.16872  |  0         | 111.427  |\n",
      "+----+-------------------+-----------+------------+------------+----------+----------+-----------+-----------+-----------+-----------+------------+----------+----------+----------+----------+-----------+----------+----------+-----------+-----------+-----------+------------+-----------+-----------+-----------+------------+-----------+------------+-----------+---------+-----------+------------+----------+\n"
     ]
    }
   ],
   "source": [
    "step_headers.clear()\n",
    "for a in range(start,start + 31):\n",
    "    # for b in range (1,18):\n",
    "        step_headers.append(f'<{a}>')\n",
    "\n",
    "headers = [\"Classifier type\", \"pct_change\"]\n",
    "score_df = pd.DataFrame(score_hour.items(), columns=headers)\n",
    "# print(tabulate(score_df, headers, tablefmt=\"psql\"))\n",
    "headers2 = [\"Classifier type\", ] + step_headers\n",
    "score_df = pd.DataFrame(score_hour.items(), columns=headers)\n",
    "accuracy_df = pd.DataFrame(score_df['pct_change'].tolist(), index=score_df.index, columns=step_headers)\n",
    "score_df = score_df.drop('pct_change', 1)\n",
    "f_out: pd.DataFrame = pd.merge(score_df, accuracy_df, how='left', left_index=True, right_index=True)\n",
    "f_out['sum'] = f_out.sum(axis=1)\n",
    "f_out['sum'] = f_out['sum'].apply(lambda x: x+100)\n",
    "headers2 = headers2 + ['sum']\n",
    "print(tabulate(f_out, headers2, tablefmt=\"psql\"))\n",
    "\n",
    "filename_to_export = f'C:\\\\Users\\\\exomat\\\\Desktop\\\\repo\\\\magisterka_analiza\\\\data\\\\results\\\\simulation\\\\result_test_ta_all_score_hour_{symbol}_{WINDOW}_{datetime.now().strftime(\"%d_%m_%Y %H_%M_%S\")}.csv'\n",
    "f_out.to_csv(filename_to_export, index=False)"
   ],
   "metadata": {
    "collapsed": false,
    "pycharm": {
     "name": "#%%\n"
    }
   }
  },
  {
   "cell_type": "code",
   "execution_count": 58,
   "outputs": [
    {
     "name": "stdout",
     "output_type": "stream",
     "text": [
      "+----+-------------------+---------+---------+---------+---------+---------+---------+---------+---------+---------+---------+---------+---------+---------+---------+---------+---------+---------+---------+---------+---------+---------+---------+---------+---------+---------+---------+---------+---------+---------+---------+---------+-------+\n",
      "|    |   Classifier type |   <100> |   <101> |   <102> |   <103> |   <104> |   <105> |   <106> |   <107> |   <108> |   <109> |   <110> |   <111> |   <112> |   <113> |   <114> |   <115> |   <116> |   <117> |   <118> |   <119> |   <120> |   <121> |   <122> |   <123> |   <124> |   <125> |   <126> |   <127> |   <128> |   <129> |   <130> |   sum |\n",
      "|----+-------------------+---------+---------+---------+---------+---------+---------+---------+---------+---------+---------+---------+---------+---------+---------+---------+---------+---------+---------+---------+---------+---------+---------+---------+---------+---------+---------+---------+---------+---------+---------+---------+-------|\n",
      "|  0 |                 0 |      -1 |      -1 |      -1 |      -1 |       0 |      -1 |      -1 |       1 |       1 |       1 |       1 |      -1 |      -1 |      -1 |      -1 |      -1 |      -1 |       1 |       1 |      -1 |      -1 |      -1 |      -1 |      -1 |       1 |      -1 |      -1 |       1 |      -1 |      -1 |       1 |    88 |\n",
      "|  1 |                 1 |      -1 |      -1 |      -1 |      -1 |       0 |       0 |       1 |       1 |       1 |       1 |       1 |       1 |      -1 |      -1 |       0 |       0 |       1 |       1 |      -1 |      -1 |       1 |       1 |      -1 |       0 |       1 |       1 |      -1 |       1 |      -1 |      -1 |       1 |   103 |\n",
      "|  2 |                 2 |      -1 |       1 |       1 |       1 |       1 |       1 |       1 |       1 |       1 |      -1 |      -1 |      -1 |      -1 |      -1 |       0 |       1 |       1 |       0 |       1 |      -1 |       1 |       1 |       0 |       1 |       1 |       1 |      -1 |       1 |      -1 |      -1 |       1 |   110 |\n",
      "|  3 |                 3 |      -1 |       1 |       1 |       1 |      -1 |       1 |       1 |       1 |       1 |      -1 |      -1 |      -1 |       1 |       1 |       1 |       1 |       1 |       1 |       1 |      -1 |       1 |       1 |       1 |       1 |       1 |       1 |      -1 |       1 |      -1 |      -1 |       1 |   116 |\n",
      "|  4 |                 4 |      -1 |       1 |       1 |      -1 |       1 |       1 |       1 |       1 |       1 |      -1 |      -1 |      -1 |       1 |       1 |       0 |       0 |      -1 |      -1 |      -1 |      -1 |       1 |       1 |       1 |       1 |       1 |       1 |      -1 |       1 |      -1 |      -1 |       1 |   109 |\n",
      "|  5 |                 5 |      -1 |       1 |       1 |       1 |       1 |       1 |       1 |       1 |       1 |       1 |      -1 |      -1 |       1 |       1 |       1 |       0 |      -1 |      -1 |       1 |       0 |      -1 |       1 |       1 |      -1 |       1 |      -1 |      -1 |       1 |      -1 |      -1 |       1 |   112 |\n",
      "|  6 |                 6 |      -1 |       0 |       0 |      -1 |       1 |       1 |       1 |       1 |       1 |      -1 |      -1 |      -1 |       1 |       1 |       1 |      -1 |       1 |       1 |      -1 |       0 |       1 |       1 |       1 |       1 |      -1 |       1 |      -1 |       1 |       1 |      -1 |       1 |   114 |\n",
      "|  7 |                 7 |       1 |       0 |       1 |       1 |       1 |      -1 |       1 |      -1 |       1 |      -1 |      -1 |       1 |       1 |       1 |       1 |      -1 |       1 |       1 |      -1 |      -1 |       1 |       0 |      -1 |       1 |      -1 |       0 |       1 |       1 |       0 |       0 |       1 |   115 |\n",
      "|  8 |                 8 |      -1 |       0 |       0 |       1 |       1 |      -1 |      -1 |      -1 |       1 |       1 |       0 |       1 |       1 |      -1 |       1 |       1 |       1 |       1 |      -1 |      -1 |       1 |      -1 |      -1 |       1 |      -1 |      -1 |       0 |       1 |       0 |      -1 |       1 |   110 |\n",
      "|  9 |                 9 |      -1 |      -1 |       0 |       0 |       0 |       0 |      -1 |       1 |       1 |       1 |       0 |       0 |       1 |       0 |      -1 |      -1 |       0 |       1 |       1 |      -1 |       1 |       1 |      -1 |       1 |       0 |       1 |       0 |       1 |      -1 |      -1 |       0 |   111 |\n",
      "| 10 |                10 |       0 |      -1 |       1 |       1 |       1 |       0 |       1 |       1 |       1 |       1 |       0 |       1 |       1 |       0 |      -1 |       0 |       1 |       1 |       1 |      -1 |       1 |      -1 |       1 |      -1 |       1 |      -1 |       1 |       1 |       1 |       1 |       1 |   124 |\n",
      "| 11 |                11 |      -1 |       1 |       1 |      -1 |       1 |       0 |       1 |       1 |       1 |       1 |       1 |       1 |      -1 |      -1 |       0 |       0 |       1 |       1 |       1 |       1 |       1 |      -1 |       1 |       0 |       1 |      -1 |       1 |       1 |      -1 |      -1 |       1 |   122 |\n",
      "| 12 |                12 |      -1 |      -1 |       0 |      -1 |       1 |      -1 |       1 |       1 |       1 |       1 |       1 |       1 |      -1 |      -1 |       1 |      -1 |      -1 |      -1 |       1 |       1 |       1 |       1 |       1 |       0 |       1 |      -1 |       1 |       1 |      -1 |      -1 |      -1 |   115 |\n",
      "| 13 |                13 |       0 |      -1 |       1 |      -1 |       1 |      -1 |       1 |       1 |       1 |       1 |      -1 |       1 |       1 |      -1 |       1 |      -1 |       1 |      -1 |       1 |       1 |       1 |      -1 |       1 |       0 |       1 |       1 |       1 |       1 |      -1 |       1 |      -1 |   122 |\n",
      "| 14 |                14 |      -1 |      -1 |      -1 |       0 |      -1 |      -1 |       1 |       1 |       1 |      -1 |       1 |       1 |      -1 |      -1 |       0 |       1 |       1 |       1 |      -1 |       1 |       1 |      -1 |       1 |       1 |      -1 |       1 |       1 |       1 |      -1 |      -1 |      -1 |   115 |\n",
      "| 15 |                15 |       0 |      -1 |      -1 |       0 |      -1 |      -1 |       0 |       1 |       1 |       1 |       0 |       1 |       1 |      -1 |       0 |       1 |       1 |       1 |       1 |       1 |       1 |      -1 |       1 |       1 |       0 |       1 |       1 |       1 |      -1 |      -1 |      -1 |   122 |\n",
      "| 16 |                16 |       1 |      -1 |      -1 |       0 |       0 |      -1 |       0 |       1 |       0 |       1 |       1 |      -1 |       0 |      -1 |       0 |       1 |       1 |      -1 |       0 |       1 |       1 |      -1 |       1 |       1 |       1 |      -1 |       1 |      -1 |      -1 |       1 |      -1 |   118 |\n",
      "+----+-------------------+---------+---------+---------+---------+---------+---------+---------+---------+---------+---------+---------+---------+---------+---------+---------+---------+---------+---------+---------+---------+---------+---------+---------+---------+---------+---------+---------+---------+---------+---------+---------+-------+\n"
     ]
    }
   ],
   "source": [
    "step_headers.clear()\n",
    "for a in range(start,start + 31):\n",
    "    # for b in range (1,18):\n",
    "        step_headers.append(f'<{a}>')\n",
    "\n",
    "headers = [\"Classifier type\", \"pct_change\"]\n",
    "score_df = pd.DataFrame(predicted_classes.items(), columns=headers)\n",
    "# print(tabulate(score_df, headers, tablefmt=\"psql\"))\n",
    "headers2 = [\"Classifier type\", ] + step_headers\n",
    "score_df = pd.DataFrame(predicted_classes.items(), columns=headers)\n",
    "accuracy_df = pd.DataFrame(score_df['pct_change'].tolist(), index=score_df.index, columns=step_headers)\n",
    "score_df = score_df.drop('pct_change', 1)\n",
    "f_out: pd.DataFrame = pd.merge(score_df, accuracy_df, how='left', left_index=True, right_index=True)\n",
    "f_out['sum'] = f_out.sum(axis=1)\n",
    "f_out['sum'] = f_out['sum'].apply(lambda x: x+100)\n",
    "headers2 = headers2 + ['sum']\n",
    "print(tabulate(f_out, headers2, tablefmt=\"psql\"))\n",
    "\n",
    "filename_to_export = f'C:\\\\Users\\\\exomat\\\\Desktop\\\\repo\\\\magisterka_analiza\\\\data\\\\results\\\\simulation\\\\result_test_ta_all_predicted_classes_{symbol}_{WINDOW}_{datetime.now().strftime(\"%d_%m_%Y %H_%M_%S\")}.csv'\n",
    "f_out.to_csv(filename_to_export, index=False)"
   ],
   "metadata": {
    "collapsed": false,
    "pycharm": {
     "name": "#%%\n"
    }
   }
  },
  {
   "cell_type": "code",
   "execution_count": 59,
   "outputs": [
    {
     "name": "stdout",
     "output_type": "stream",
     "text": [
      "+----+-------------------+---------+---------+---------+---------+---------+---------+---------+---------+---------+---------+---------+---------+---------+---------+---------+---------+---------+---------+---------+---------+---------+---------+---------+---------+---------+---------+---------+---------+---------+---------+---------+-------+\n",
      "|    |   Classifier type |   <100> |   <101> |   <102> |   <103> |   <104> |   <105> |   <106> |   <107> |   <108> |   <109> |   <110> |   <111> |   <112> |   <113> |   <114> |   <115> |   <116> |   <117> |   <118> |   <119> |   <120> |   <121> |   <122> |   <123> |   <124> |   <125> |   <126> |   <127> |   <128> |   <129> |   <130> |   sum |\n",
      "|----+-------------------+---------+---------+---------+---------+---------+---------+---------+---------+---------+---------+---------+---------+---------+---------+---------+---------+---------+---------+---------+---------+---------+---------+---------+---------+---------+---------+---------+---------+---------+---------+---------+-------|\n",
      "|  0 |                 0 |      -1 |       1 |       1 |      -1 |       1 |       0 |      -1 |      -1 |      -1 |       0 |      -1 |      -1 |       1 |      -1 |       1 |      -1 |      -1 |       1 |      -1 |      -1 |      -1 |      -1 |       1 |      -1 |       1 |       1 |      -1 |       1 |       1 |      -1 |       1 |    95 |\n",
      "|  1 |                 1 |      -1 |       0 |       1 |      -1 |       1 |       1 |      -1 |      -1 |      -1 |       1 |      -1 |       0 |       1 |      -1 |       1 |      -1 |      -1 |       1 |      -1 |      -1 |      -1 |      -1 |       1 |      -1 |       1 |       1 |      -1 |       1 |       1 |      -1 |       1 |    98 |\n",
      "|  2 |                 2 |      -1 |       0 |       1 |      -1 |       1 |      -1 |      -1 |      -1 |      -1 |       1 |      -1 |       1 |       1 |      -1 |       0 |      -1 |      -1 |       1 |      -1 |      -1 |       0 |      -1 |       1 |      -1 |       1 |       1 |      -1 |       1 |       1 |      -1 |       1 |    98 |\n",
      "|  3 |                 3 |      -1 |       1 |       1 |      -1 |       1 |      -1 |      -1 |      -1 |      -1 |       1 |      -1 |       1 |       1 |      -1 |      -1 |      -1 |      -1 |       1 |       0 |      -1 |       1 |      -1 |       1 |      -1 |       1 |       1 |      -1 |       0 |       1 |      -1 |       1 |   100 |\n",
      "|  4 |                 4 |      -1 |       0 |       0 |      -1 |       1 |      -1 |      -1 |      -1 |      -1 |       1 |      -1 |       1 |       1 |      -1 |      -1 |      -1 |      -1 |       1 |       0 |      -1 |       1 |      -1 |       1 |      -1 |       1 |       1 |      -1 |       1 |       1 |      -1 |       1 |   100 |\n",
      "|  5 |                 5 |      -1 |       1 |       0 |      -1 |       1 |      -1 |      -1 |      -1 |      -1 |       1 |      -1 |       1 |       1 |      -1 |       0 |      -1 |      -1 |       1 |      -1 |      -1 |       1 |      -1 |      -1 |      -1 |       0 |      -1 |      -1 |       1 |       1 |      -1 |       0 |    96 |\n",
      "|  6 |                 6 |      -1 |       0 |      -1 |      -1 |       1 |      -1 |      -1 |      -1 |      -1 |       0 |      -1 |       1 |       1 |      -1 |       0 |      -1 |      -1 |       1 |       1 |      -1 |       1 |      -1 |      -1 |      -1 |       1 |       0 |      -1 |       1 |       1 |      -1 |      -1 |    97 |\n",
      "|  7 |                 7 |       0 |       0 |      -1 |      -1 |       1 |      -1 |      -1 |      -1 |      -1 |       1 |      -1 |       1 |       1 |      -1 |      -1 |      -1 |      -1 |      -1 |       0 |      -1 |       1 |       0 |      -1 |      -1 |       1 |       0 |      -1 |       1 |       1 |      -1 |      -1 |    97 |\n",
      "|  8 |                 8 |       0 |       0 |      -1 |      -1 |       1 |      -1 |      -1 |      -1 |      -1 |       1 |      -1 |       1 |       1 |      -1 |       0 |      -1 |      -1 |       0 |       0 |      -1 |      -1 |      -1 |      -1 |      -1 |       1 |      -1 |      -1 |       1 |       1 |       0 |      -1 |    97 |\n",
      "|  9 |                 9 |       1 |       0 |      -1 |      -1 |       1 |      -1 |      -1 |       0 |      -1 |       0 |      -1 |       1 |       1 |      -1 |       0 |      -1 |      -1 |       1 |       0 |      -1 |       1 |      -1 |       0 |      -1 |       1 |      -1 |      -1 |       1 |       1 |      -1 |      -1 |   102 |\n",
      "| 10 |                10 |       1 |       0 |      -1 |      -1 |       1 |      -1 |      -1 |       0 |      -1 |      -1 |      -1 |       1 |       1 |       1 |       0 |      -1 |      -1 |       1 |      -1 |      -1 |       1 |      -1 |       1 |      -1 |       1 |      -1 |      -1 |       1 |       1 |      -1 |       0 |   105 |\n",
      "| 11 |                11 |       1 |       0 |       0 |      -1 |       1 |      -1 |      -1 |       0 |      -1 |      -1 |      -1 |       1 |       1 |       1 |      -1 |      -1 |      -1 |       1 |      -1 |      -1 |       1 |      -1 |       1 |      -1 |      -1 |      -1 |      -1 |       1 |       1 |       1 |      -1 |   105 |\n",
      "| 12 |                12 |       1 |      -1 |      -1 |      -1 |       1 |      -1 |      -1 |      -1 |      -1 |      -1 |      -1 |       1 |       1 |       1 |      -1 |      -1 |      -1 |       1 |      -1 |      -1 |       1 |      -1 |       1 |       0 |      -1 |      -1 |      -1 |       1 |      -1 |       1 |      -1 |   102 |\n",
      "| 13 |                13 |       1 |      -1 |      -1 |      -1 |       1 |      -1 |      -1 |       0 |      -1 |      -1 |      -1 |       1 |       1 |       1 |      -1 |      -1 |      -1 |       1 |      -1 |      -1 |       1 |      -1 |       1 |      -1 |      -1 |      -1 |      -1 |       1 |       0 |       1 |      -1 |   104 |\n",
      "| 14 |                14 |       1 |      -1 |       0 |       1 |       1 |      -1 |      -1 |       1 |      -1 |      -1 |      -1 |       1 |      -1 |       1 |      -1 |      -1 |      -1 |       1 |      -1 |      -1 |       1 |      -1 |       1 |      -1 |      -1 |      -1 |      -1 |       1 |      -1 |       1 |      -1 |   106 |\n",
      "| 15 |                15 |       1 |      -1 |      -1 |       1 |       1 |      -1 |      -1 |      -1 |       1 |      -1 |      -1 |       1 |       0 |       1 |      -1 |      -1 |      -1 |       1 |      -1 |      -1 |       1 |      -1 |      -1 |       1 |      -1 |      -1 |      -1 |       1 |       0 |       1 |      -1 |   108 |\n",
      "| 16 |                16 |       1 |       0 |      -1 |       1 |       0 |      -1 |      -1 |      -1 |      -1 |      -1 |      -1 |       1 |      -1 |       1 |      -1 |      -1 |       1 |       1 |       0 |      -1 |       1 |       0 |      -1 |       1 |      -1 |      -1 |       1 |       1 |      -1 |       1 |      -1 |   111 |\n",
      "+----+-------------------+---------+---------+---------+---------+---------+---------+---------+---------+---------+---------+---------+---------+---------+---------+---------+---------+---------+---------+---------+---------+---------+---------+---------+---------+---------+---------+---------+---------+---------+---------+---------+-------+\n"
     ]
    }
   ],
   "source": [
    "step_headers.clear()\n",
    "for a in range(start,start + 31):\n",
    "    # for b in range (1,18):\n",
    "        step_headers.append(f'<{a}>')\n",
    "\n",
    "headers = [\"Classifier type\", \"pct_change\"]\n",
    "score_df = pd.DataFrame(correct_classes.items(), columns=headers)\n",
    "# print(tabulate(score_df, headers, tablefmt=\"psql\"))\n",
    "headers2 = [\"Classifier type\", ] + step_headers\n",
    "score_df = pd.DataFrame(correct_classes.items(), columns=headers)\n",
    "accuracy_df = pd.DataFrame(score_df['pct_change'].tolist(), index=score_df.index, columns=step_headers)\n",
    "score_df = score_df.drop('pct_change', 1)\n",
    "f_out: pd.DataFrame = pd.merge(score_df, accuracy_df, how='left', left_index=True, right_index=True)\n",
    "f_out['sum'] = f_out.sum(axis=1)\n",
    "f_out['sum'] = f_out['sum'].apply(lambda x: x+100)\n",
    "headers2 = headers2 + ['sum']\n",
    "print(tabulate(f_out, headers2, tablefmt=\"psql\"))\n",
    "\n",
    "filename_to_export = f'C:\\\\Users\\\\exomat\\\\Desktop\\\\repo\\\\magisterka_analiza\\\\data\\\\results\\\\simulation\\\\result_test_ta_all_correct_classes_{symbol}_{WINDOW}_{datetime.now().strftime(\"%d_%m_%Y %H_%M_%S\")}.csv'\n",
    "f_out.to_csv(filename_to_export, index=False)"
   ],
   "metadata": {
    "collapsed": false,
    "pycharm": {
     "name": "#%%\n"
    }
   }
  },
  {
   "cell_type": "code",
   "execution_count": 60,
   "outputs": [
    {
     "data": {
      "text/plain": "'79.9075, 80.25, 80.25, 80.3125, 80.265, 80.39755, 80.3825, 80.58999633789062, 81.04000091552734, 81.19999694824219, 81.2750015258789, 81.23999786376953, 81.3499984741211, 81.80000305175781, 81.8, 81.7125, 81.8'"
     },
     "execution_count": 60,
     "metadata": {},
     "output_type": "execute_result"
    }
   ],
   "source": [
    "cenka = []\n",
    "\n",
    "', '.join(map(str, data['close'][1700+16:1717+16].tolist()))"
   ],
   "metadata": {
    "collapsed": false,
    "pycharm": {
     "name": "#%%\n"
    }
   }
  },
  {
   "cell_type": "code",
   "execution_count": 61,
   "outputs": [],
   "source": [
    "cenka = []\n",
    "for i in range (0,17*31):\n",
    "    cenka.append( data['close'][(99*17) +WINDOW +i])\n",
    "\n",
    "b = ', '.join(map(str, cenka))"
   ],
   "metadata": {
    "collapsed": false,
    "pycharm": {
     "name": "#%%\n"
    }
   }
  },
  {
   "cell_type": "code",
   "execution_count": 62,
   "outputs": [
    {
     "data": {
      "text/plain": "defaultdict(list,\n            {0: [-1,\n              -1,\n              -1,\n              -1,\n              0,\n              -1,\n              -1,\n              1,\n              1,\n              1,\n              1,\n              -1,\n              -1,\n              -1,\n              -1,\n              -1,\n              -1,\n              1,\n              1,\n              -1,\n              -1,\n              -1,\n              -1,\n              -1,\n              1,\n              -1,\n              -1,\n              1,\n              -1,\n              -1,\n              1],\n             1: [-1,\n              -1,\n              -1,\n              -1,\n              0,\n              0,\n              1,\n              1,\n              1,\n              1,\n              1,\n              1,\n              -1,\n              -1,\n              0,\n              0,\n              1,\n              1,\n              -1,\n              -1,\n              1,\n              1,\n              -1,\n              0,\n              1,\n              1,\n              -1,\n              1,\n              -1,\n              -1,\n              1],\n             2: [-1,\n              1,\n              1,\n              1,\n              1,\n              1,\n              1,\n              1,\n              1,\n              -1,\n              -1,\n              -1,\n              -1,\n              -1,\n              0,\n              1,\n              1,\n              0,\n              1,\n              -1,\n              1,\n              1,\n              0,\n              1,\n              1,\n              1,\n              -1,\n              1,\n              -1,\n              -1,\n              1],\n             3: [-1,\n              1,\n              1,\n              1,\n              -1,\n              1,\n              1,\n              1,\n              1,\n              -1,\n              -1,\n              -1,\n              1,\n              1,\n              1,\n              1,\n              1,\n              1,\n              1,\n              -1,\n              1,\n              1,\n              1,\n              1,\n              1,\n              1,\n              -1,\n              1,\n              -1,\n              -1,\n              1],\n             4: [-1,\n              1,\n              1,\n              -1,\n              1,\n              1,\n              1,\n              1,\n              1,\n              -1,\n              -1,\n              -1,\n              1,\n              1,\n              0,\n              0,\n              -1,\n              -1,\n              -1,\n              -1,\n              1,\n              1,\n              1,\n              1,\n              1,\n              1,\n              -1,\n              1,\n              -1,\n              -1,\n              1],\n             5: [-1,\n              1,\n              1,\n              1,\n              1,\n              1,\n              1,\n              1,\n              1,\n              1,\n              -1,\n              -1,\n              1,\n              1,\n              1,\n              0,\n              -1,\n              -1,\n              1,\n              0,\n              -1,\n              1,\n              1,\n              -1,\n              1,\n              -1,\n              -1,\n              1,\n              -1,\n              -1,\n              1],\n             6: [-1,\n              0,\n              0,\n              -1,\n              1,\n              1,\n              1,\n              1,\n              1,\n              -1,\n              -1,\n              -1,\n              1,\n              1,\n              1,\n              -1,\n              1,\n              1,\n              -1,\n              0,\n              1,\n              1,\n              1,\n              1,\n              -1,\n              1,\n              -1,\n              1,\n              1,\n              -1,\n              1],\n             7: [1,\n              0,\n              1,\n              1,\n              1,\n              -1,\n              1,\n              -1,\n              1,\n              -1,\n              -1,\n              1,\n              1,\n              1,\n              1,\n              -1,\n              1,\n              1,\n              -1,\n              -1,\n              1,\n              0,\n              -1,\n              1,\n              -1,\n              0,\n              1,\n              1,\n              0,\n              0,\n              1],\n             8: [-1,\n              0,\n              0,\n              1,\n              1,\n              -1,\n              -1,\n              -1,\n              1,\n              1,\n              0,\n              1,\n              1,\n              -1,\n              1,\n              1,\n              1,\n              1,\n              -1,\n              -1,\n              1,\n              -1,\n              -1,\n              1,\n              -1,\n              -1,\n              0,\n              1,\n              0,\n              -1,\n              1],\n             9: [-1,\n              -1,\n              0,\n              0,\n              0,\n              0,\n              -1,\n              1,\n              1,\n              1,\n              0,\n              0,\n              1,\n              0,\n              -1,\n              -1,\n              0,\n              1,\n              1,\n              -1,\n              1,\n              1,\n              -1,\n              1,\n              0,\n              1,\n              0,\n              1,\n              -1,\n              -1,\n              0],\n             10: [0,\n              -1,\n              1,\n              1,\n              1,\n              0,\n              1,\n              1,\n              1,\n              1,\n              0,\n              1,\n              1,\n              0,\n              -1,\n              0,\n              1,\n              1,\n              1,\n              -1,\n              1,\n              -1,\n              1,\n              -1,\n              1,\n              -1,\n              1,\n              1,\n              1,\n              1,\n              1],\n             11: [-1,\n              1,\n              1,\n              -1,\n              1,\n              0,\n              1,\n              1,\n              1,\n              1,\n              1,\n              1,\n              -1,\n              -1,\n              0,\n              0,\n              1,\n              1,\n              1,\n              1,\n              1,\n              -1,\n              1,\n              0,\n              1,\n              -1,\n              1,\n              1,\n              -1,\n              -1,\n              1],\n             12: [-1,\n              -1,\n              0,\n              -1,\n              1,\n              -1,\n              1,\n              1,\n              1,\n              1,\n              1,\n              1,\n              -1,\n              -1,\n              1,\n              -1,\n              -1,\n              -1,\n              1,\n              1,\n              1,\n              1,\n              1,\n              0,\n              1,\n              -1,\n              1,\n              1,\n              -1,\n              -1,\n              -1],\n             13: [0,\n              -1,\n              1,\n              -1,\n              1,\n              -1,\n              1,\n              1,\n              1,\n              1,\n              -1,\n              1,\n              1,\n              -1,\n              1,\n              -1,\n              1,\n              -1,\n              1,\n              1,\n              1,\n              -1,\n              1,\n              0,\n              1,\n              1,\n              1,\n              1,\n              -1,\n              1,\n              -1],\n             14: [-1,\n              -1,\n              -1,\n              0,\n              -1,\n              -1,\n              1,\n              1,\n              1,\n              -1,\n              1,\n              1,\n              -1,\n              -1,\n              0,\n              1,\n              1,\n              1,\n              -1,\n              1,\n              1,\n              -1,\n              1,\n              1,\n              -1,\n              1,\n              1,\n              1,\n              -1,\n              -1,\n              -1],\n             15: [0,\n              -1,\n              -1,\n              0,\n              -1,\n              -1,\n              0,\n              1,\n              1,\n              1,\n              0,\n              1,\n              1,\n              -1,\n              0,\n              1,\n              1,\n              1,\n              1,\n              1,\n              1,\n              -1,\n              1,\n              1,\n              0,\n              1,\n              1,\n              1,\n              -1,\n              -1,\n              -1],\n             16: [1,\n              -1,\n              -1,\n              0,\n              0,\n              -1,\n              0,\n              1,\n              0,\n              1,\n              1,\n              -1,\n              0,\n              -1,\n              0,\n              1,\n              1,\n              -1,\n              0,\n              1,\n              1,\n              -1,\n              1,\n              1,\n              1,\n              -1,\n              1,\n              -1,\n              -1,\n              1,\n              -1]})"
     },
     "execution_count": 62,
     "metadata": {},
     "output_type": "execute_result"
    }
   ],
   "source": [
    "predicted_classes"
   ],
   "metadata": {
    "collapsed": false,
    "pycharm": {
     "name": "#%%\n"
    }
   }
  },
  {
   "cell_type": "code",
   "execution_count": 63,
   "outputs": [
    {
     "ename": "TypeError",
     "evalue": "'int' object is not iterable",
     "output_type": "error",
     "traceback": [
      "\u001B[1;31m---------------------------------------------------------------------------\u001B[0m",
      "\u001B[1;31mTypeError\u001B[0m                                 Traceback (most recent call last)",
      "\u001B[1;32m<ipython-input-63-867a997e1f45>\u001B[0m in \u001B[0;36m<module>\u001B[1;34m\u001B[0m\n\u001B[0;32m      1\u001B[0m \u001B[0mtemp\u001B[0m \u001B[1;33m=\u001B[0m \u001B[1;33m[\u001B[0m\u001B[1;33m]\u001B[0m\u001B[1;33m\u001B[0m\u001B[1;33m\u001B[0m\u001B[0m\n\u001B[0;32m      2\u001B[0m \u001B[1;32mfor\u001B[0m \u001B[0mav\u001B[0m \u001B[1;32min\u001B[0m \u001B[0mpredicted_classes\u001B[0m\u001B[1;33m:\u001B[0m\u001B[1;33m\u001B[0m\u001B[1;33m\u001B[0m\u001B[0m\n\u001B[1;32m----> 3\u001B[1;33m    \u001B[0mtemp\u001B[0m\u001B[1;33m.\u001B[0m\u001B[0mextend\u001B[0m\u001B[1;33m(\u001B[0m\u001B[0mav\u001B[0m\u001B[1;33m)\u001B[0m\u001B[1;33m\u001B[0m\u001B[1;33m\u001B[0m\u001B[0m\n\u001B[0m\u001B[0;32m      4\u001B[0m \u001B[1;33m\u001B[0m\u001B[0m\n",
      "\u001B[1;31mTypeError\u001B[0m: 'int' object is not iterable"
     ]
    }
   ],
   "source": [
    "temp = []\n",
    "for av in predicted_classes:\n",
    "   temp.extend(av)"
   ],
   "metadata": {
    "collapsed": false,
    "pycharm": {
     "name": "#%%\n"
    }
   }
  },
  {
   "cell_type": "code",
   "execution_count": null,
   "outputs": [],
   "source": [],
   "metadata": {
    "collapsed": false,
    "pycharm": {
     "name": "#%%\n"
    }
   }
  }
 ],
 "metadata": {
  "kernelspec": {
   "name": "magisterka_analiza",
   "language": "python",
   "display_name": "Python magisterka"
  },
  "language_info": {
   "codemirror_mode": {
    "name": "ipython",
    "version": 2
   },
   "file_extension": ".py",
   "mimetype": "text/x-python",
   "name": "python",
   "nbconvert_exporter": "python",
   "pygments_lexer": "ipython2",
   "version": "2.7.6"
  }
 },
 "nbformat": 4,
 "nbformat_minor": 0
}