{
 "cells": [
  {
   "cell_type": "code",
   "execution_count": 66,
   "metadata": {
    "collapsed": true
   },
   "outputs": [],
   "source": [
    "from collections import defaultdict\n",
    "\n",
    "import yfinance as yf\n",
    "from datetime import datetime\n",
    "import pandas as pd\n",
    "import numpy as np\n",
    "import matplotlib.pyplot as plt\n",
    "from finta import TA\n",
    "import numpy as np\n",
    "from sklearn.ensemble import RandomForestClassifier, VotingClassifier\n",
    "from sklearn.model_selection import GridSearchCV, train_test_split\n",
    "from sklearn.preprocessing import MinMaxScaler\n",
    "from sklearn.tree import DecisionTreeClassifier\n",
    "from sklearn.ensemble import GradientBoostingClassifier\n",
    "from sklearn.metrics import confusion_matrix, classification_report, accuracy_score\n",
    "from sklearn.metrics import jaccard_score\n",
    "import seaborn as sn\n",
    "from tabulate import tabulate\n",
    "from xgboost import XGBClassifier\n",
    "from ta import add_all_ta_features\n",
    "from sklearn.feature_selection import RFE\n",
    "import xgboost as xgb"
   ]
  },
  {
   "cell_type": "code",
   "execution_count": 67,
   "outputs": [],
   "source": [
    "WINDOW = 8 # number of rows to look ahead to see what the price did\n",
    "FETCH_INTERVAL = \"60m\"  # fetch data by interval (including intraday if period < 60 days)\n",
    "        # valid intervals: 1m,2m,5m,15m,30m,60m,90m,1h,1d,5d,1wk,1mo,3mo\n",
    "        # (optional, default is '1d')\n",
    "INTERVAL = '2y'     # use \"period\" instead of start/end\n",
    "        # valid periods: 1d,5d,1mo,3mo,6mo,1y,2y,5y,10y,ytd,max\n",
    "        # (optional, default is '1mo')\n",
    "symbol = 'AAPL'      # Symbol of the desired stock\n",
    "\n",
    "# one day 16 rows of data"
   ],
   "metadata": {
    "collapsed": false,
    "pycharm": {
     "name": "#%%\n"
    }
   }
  },
  {
   "cell_type": "code",
   "execution_count": 68,
   "outputs": [
    {
     "name": "stdout",
     "output_type": "stream",
     "text": [
      "[*********************100%***********************]  1 of 1 completed\n"
     ]
    },
    {
     "data": {
      "text/plain": "                                 Open        High         Low       Close  \\\nDatetime                                                                    \n2019-05-13 09:00:00-04:00   47.315000   47.345000   46.877500   46.877500   \n2019-05-13 09:30:00-04:00   46.927502   47.369999   46.424999   46.791050   \n2019-05-13 10:30:00-04:00   46.792500   47.125000   46.625027   46.799999   \n2019-05-13 11:30:00-04:00   46.794998   46.875252   46.540024   46.646252   \n2019-05-13 12:30:00-04:00   46.645000   46.709999   46.270000   46.342499   \n...                               ...         ...         ...         ...   \n2021-05-11 14:30:00-04:00  126.220001  126.220001  125.540001  125.964996   \n2021-05-11 15:30:00-04:00  125.973503  126.110001  125.279999  125.849998   \n2021-05-11 16:00:00-04:00  125.850000  126.100000  122.770000  125.690000   \n2021-05-11 17:00:00-04:00  125.670000  126.850000  116.812290  125.650000   \n2021-05-11 18:00:00-04:00  125.650000  125.900000  125.600000  125.630000   \n\n                            Adj Close    Volume  \nDatetime                                         \n2019-05-13 09:00:00-04:00   46.877500         0  \n2019-05-13 09:30:00-04:00   46.791050  19332487  \n2019-05-13 10:30:00-04:00   46.799999   6350368  \n2019-05-13 11:30:00-04:00   46.646252   4536523  \n2019-05-13 12:30:00-04:00   46.342499   5015671  \n...                               ...       ...  \n2021-05-11 14:30:00-04:00  125.964996   9989427  \n2021-05-11 15:30:00-04:00  125.849998   9604428  \n2021-05-11 16:00:00-04:00  125.690000   5589756  \n2021-05-11 17:00:00-04:00  125.650000         0  \n2021-05-11 18:00:00-04:00  125.630000         0  \n\n[8207 rows x 6 columns]",
      "text/html": "<div>\n<style scoped>\n    .dataframe tbody tr th:only-of-type {\n        vertical-align: middle;\n    }\n\n    .dataframe tbody tr th {\n        vertical-align: top;\n    }\n\n    .dataframe thead th {\n        text-align: right;\n    }\n</style>\n<table border=\"1\" class=\"dataframe\">\n  <thead>\n    <tr style=\"text-align: right;\">\n      <th></th>\n      <th>Open</th>\n      <th>High</th>\n      <th>Low</th>\n      <th>Close</th>\n      <th>Adj Close</th>\n      <th>Volume</th>\n    </tr>\n    <tr>\n      <th>Datetime</th>\n      <th></th>\n      <th></th>\n      <th></th>\n      <th></th>\n      <th></th>\n      <th></th>\n    </tr>\n  </thead>\n  <tbody>\n    <tr>\n      <th>2019-05-13 09:00:00-04:00</th>\n      <td>47.315000</td>\n      <td>47.345000</td>\n      <td>46.877500</td>\n      <td>46.877500</td>\n      <td>46.877500</td>\n      <td>0</td>\n    </tr>\n    <tr>\n      <th>2019-05-13 09:30:00-04:00</th>\n      <td>46.927502</td>\n      <td>47.369999</td>\n      <td>46.424999</td>\n      <td>46.791050</td>\n      <td>46.791050</td>\n      <td>19332487</td>\n    </tr>\n    <tr>\n      <th>2019-05-13 10:30:00-04:00</th>\n      <td>46.792500</td>\n      <td>47.125000</td>\n      <td>46.625027</td>\n      <td>46.799999</td>\n      <td>46.799999</td>\n      <td>6350368</td>\n    </tr>\n    <tr>\n      <th>2019-05-13 11:30:00-04:00</th>\n      <td>46.794998</td>\n      <td>46.875252</td>\n      <td>46.540024</td>\n      <td>46.646252</td>\n      <td>46.646252</td>\n      <td>4536523</td>\n    </tr>\n    <tr>\n      <th>2019-05-13 12:30:00-04:00</th>\n      <td>46.645000</td>\n      <td>46.709999</td>\n      <td>46.270000</td>\n      <td>46.342499</td>\n      <td>46.342499</td>\n      <td>5015671</td>\n    </tr>\n    <tr>\n      <th>...</th>\n      <td>...</td>\n      <td>...</td>\n      <td>...</td>\n      <td>...</td>\n      <td>...</td>\n      <td>...</td>\n    </tr>\n    <tr>\n      <th>2021-05-11 14:30:00-04:00</th>\n      <td>126.220001</td>\n      <td>126.220001</td>\n      <td>125.540001</td>\n      <td>125.964996</td>\n      <td>125.964996</td>\n      <td>9989427</td>\n    </tr>\n    <tr>\n      <th>2021-05-11 15:30:00-04:00</th>\n      <td>125.973503</td>\n      <td>126.110001</td>\n      <td>125.279999</td>\n      <td>125.849998</td>\n      <td>125.849998</td>\n      <td>9604428</td>\n    </tr>\n    <tr>\n      <th>2021-05-11 16:00:00-04:00</th>\n      <td>125.850000</td>\n      <td>126.100000</td>\n      <td>122.770000</td>\n      <td>125.690000</td>\n      <td>125.690000</td>\n      <td>5589756</td>\n    </tr>\n    <tr>\n      <th>2021-05-11 17:00:00-04:00</th>\n      <td>125.670000</td>\n      <td>126.850000</td>\n      <td>116.812290</td>\n      <td>125.650000</td>\n      <td>125.650000</td>\n      <td>0</td>\n    </tr>\n    <tr>\n      <th>2021-05-11 18:00:00-04:00</th>\n      <td>125.650000</td>\n      <td>125.900000</td>\n      <td>125.600000</td>\n      <td>125.630000</td>\n      <td>125.630000</td>\n      <td>0</td>\n    </tr>\n  </tbody>\n</table>\n<p>8207 rows × 6 columns</p>\n</div>"
     },
     "execution_count": 68,
     "metadata": {},
     "output_type": "execute_result"
    }
   ],
   "source": [
    "data = yf.download(  # or pdr.get_data_yahoo(...\n",
    "        tickers = symbol,\n",
    "\n",
    "\n",
    "        period = INTERVAL,\n",
    "\n",
    "        interval = FETCH_INTERVAL,\n",
    "\n",
    "        # group by ticker (to access via data['SPY'])\n",
    "        # (optional, default is 'column')\n",
    "        group_by = 'ticker',\n",
    "\n",
    "        # adjust all OHLC automatically\n",
    "        # (optional, default is False)\n",
    "        # auto_adjust = True,\n",
    "\n",
    "        # download pre/post regular market hours data\n",
    "        # (optional, default is False)\n",
    "        prepost = True,\n",
    "\n",
    "        # use threads for mass downloading? (True/False/Integer)\n",
    "        # (optional, default is True)\n",
    "        threads = True,\n",
    "\n",
    "        # proxy URL scheme use use when downloading?\n",
    "        # (optional, default is None)\n",
    "        proxy = None\n",
    "    )\n",
    "data"
   ],
   "metadata": {
    "collapsed": false,
    "pycharm": {
     "name": "#%%\n"
    }
   }
  },
  {
   "cell_type": "code",
   "execution_count": 69,
   "outputs": [],
   "source": [
    "data.rename(columns={\"Close\": 'close', \"High\": 'high', \"Low\": 'low', 'Volume': 'volume', 'Open': 'open'}, inplace=True)\n",
    "data.head(10)\n",
    "important_columns = ['open', 'high', 'low','close','volume']"
   ],
   "metadata": {
    "collapsed": false,
    "pycharm": {
     "name": "#%%\n"
    }
   }
  },
  {
   "cell_type": "code",
   "execution_count": 70,
   "outputs": [],
   "source": [
    "\n",
    "def calculate_diffs(diff_number, col_name):\n",
    "    new_col_name = f'{col_name}_{diff_number}'\n",
    "    data[new_col_name] = data[col_name].diff(diff_number)"
   ],
   "metadata": {
    "collapsed": false,
    "pycharm": {
     "name": "#%%\n"
    }
   }
  },
  {
   "cell_type": "code",
   "execution_count": 71,
   "outputs": [],
   "source": [
    "# for name in important_columns:\n",
    "#     for i in range(1, 11):\n",
    "#         calculate_diffs(i, name)\n",
    "#\n",
    "# data.head(10)"
   ],
   "metadata": {
    "collapsed": false,
    "pycharm": {
     "name": "#%%\n"
    }
   }
  },
  {
   "cell_type": "code",
   "execution_count": 72,
   "outputs": [],
   "source": [
    "data = data.dropna()"
   ],
   "metadata": {
    "collapsed": false,
    "pycharm": {
     "name": "#%%\n"
    }
   }
  },
  {
   "cell_type": "code",
   "execution_count": 73,
   "outputs": [
    {
     "data": {
      "text/plain": "<AxesSubplot:xlabel='Datetime'>"
     },
     "execution_count": 73,
     "metadata": {},
     "output_type": "execute_result"
    },
    {
     "data": {
      "text/plain": "<Figure size 432x288 with 1 Axes>",
      "image/png": "[encoded data removed]"
     },
     "metadata": {
      "needs_background": "light"
     },
     "output_type": "display_data"
    }
   ],
   "source": [
    "data['close'].plot()"
   ],
   "metadata": {
    "collapsed": false,
    "pycharm": {
     "name": "#%%\n"
    }
   }
  },
  {
   "cell_type": "code",
   "execution_count": 74,
   "outputs": [
    {
     "data": {
      "text/plain": "                                open       high        low      close  \\\nDatetime                                                                \n2019-05-13 09:00:00-04:00  47.315000  47.345000  46.877500  46.877500   \n2019-05-13 09:30:00-04:00  46.927502  47.369999  46.424999  46.791050   \n2019-05-13 10:30:00-04:00  46.792500  47.125000  46.625027  46.799999   \n2019-05-13 11:30:00-04:00  46.794998  46.875252  46.540024  46.646252   \n2019-05-13 12:30:00-04:00  46.645000  46.709999  46.270000  46.342499   \n\n                           Adj Close    volume  close_pct  \nDatetime                                                   \n2019-05-13 09:00:00-04:00  46.877500         0        NaN  \n2019-05-13 09:30:00-04:00  46.791050  19332487  -0.001844  \n2019-05-13 10:30:00-04:00  46.799999   6350368   0.000191  \n2019-05-13 11:30:00-04:00  46.646252   4536523  -0.003285  \n2019-05-13 12:30:00-04:00  46.342499   5015671  -0.006512  ",
      "text/html": "<div>\n<style scoped>\n    .dataframe tbody tr th:only-of-type {\n        vertical-align: middle;\n    }\n\n    .dataframe tbody tr th {\n        vertical-align: top;\n    }\n\n    .dataframe thead th {\n        text-align: right;\n    }\n</style>\n<table border=\"1\" class=\"dataframe\">\n  <thead>\n    <tr style=\"text-align: right;\">\n      <th></th>\n      <th>open</th>\n      <th>high</th>\n      <th>low</th>\n      <th>close</th>\n      <th>Adj Close</th>\n      <th>volume</th>\n      <th>close_pct</th>\n    </tr>\n    <tr>\n      <th>Datetime</th>\n      <th></th>\n      <th></th>\n      <th></th>\n      <th></th>\n      <th></th>\n      <th></th>\n      <th></th>\n    </tr>\n  </thead>\n  <tbody>\n    <tr>\n      <th>2019-05-13 09:00:00-04:00</th>\n      <td>47.315000</td>\n      <td>47.345000</td>\n      <td>46.877500</td>\n      <td>46.877500</td>\n      <td>46.877500</td>\n      <td>0</td>\n      <td>NaN</td>\n    </tr>\n    <tr>\n      <th>2019-05-13 09:30:00-04:00</th>\n      <td>46.927502</td>\n      <td>47.369999</td>\n      <td>46.424999</td>\n      <td>46.791050</td>\n      <td>46.791050</td>\n      <td>19332487</td>\n      <td>-0.001844</td>\n    </tr>\n    <tr>\n      <th>2019-05-13 10:30:00-04:00</th>\n      <td>46.792500</td>\n      <td>47.125000</td>\n      <td>46.625027</td>\n      <td>46.799999</td>\n      <td>46.799999</td>\n      <td>6350368</td>\n      <td>0.000191</td>\n    </tr>\n    <tr>\n      <th>2019-05-13 11:30:00-04:00</th>\n      <td>46.794998</td>\n      <td>46.875252</td>\n      <td>46.540024</td>\n      <td>46.646252</td>\n      <td>46.646252</td>\n      <td>4536523</td>\n      <td>-0.003285</td>\n    </tr>\n    <tr>\n      <th>2019-05-13 12:30:00-04:00</th>\n      <td>46.645000</td>\n      <td>46.709999</td>\n      <td>46.270000</td>\n      <td>46.342499</td>\n      <td>46.342499</td>\n      <td>5015671</td>\n      <td>-0.006512</td>\n    </tr>\n  </tbody>\n</table>\n</div>"
     },
     "execution_count": 74,
     "metadata": {},
     "output_type": "execute_result"
    }
   ],
   "source": [
    "data['close_pct'] = data['close'].pct_change()\n",
    "data.head()"
   ],
   "metadata": {
    "collapsed": false,
    "pycharm": {
     "name": "#%%\n"
    }
   }
  },
  {
   "cell_type": "code",
   "execution_count": 75,
   "outputs": [
    {
     "data": {
      "text/plain": "              open          high          low        close    Adj Close  \\\ncount  8207.000000  8.207000e+03  8207.000000  8207.000000  8207.000000   \nmean     89.233341  7.874161e+06    88.795820    89.234976    89.234976   \nstd      30.158631  7.133317e+08    29.950542    30.152787    30.152787   \nmin      42.970001  4.332500e+01    42.567501    42.972500    42.972500   \n25%      62.252500  6.273504e+01    61.843751    62.225000    62.225000   \n50%      80.305000  8.053000e+01    80.055000    80.312500    80.312500   \n75%     119.830002  1.203300e+02   119.019998   119.840000   119.840000   \nmax     144.900000  6.462250e+10   144.590000   144.910000   144.910000   \n\n             volume    close_pct  \ncount  8.207000e+03  8206.000000  \nmean   3.498162e+06     0.000138  \nstd    6.683672e+06     0.006025  \nmin    0.000000e+00    -0.085960  \n25%    0.000000e+00    -0.001749  \n50%    0.000000e+00     0.000097  \n75%    4.252566e+06     0.002047  \nmax    9.845401e+07     0.078661  ",
      "text/html": "<div>\n<style scoped>\n    .dataframe tbody tr th:only-of-type {\n        vertical-align: middle;\n    }\n\n    .dataframe tbody tr th {\n        vertical-align: top;\n    }\n\n    .dataframe thead th {\n        text-align: right;\n    }\n</style>\n<table border=\"1\" class=\"dataframe\">\n  <thead>\n    <tr style=\"text-align: right;\">\n      <th></th>\n      <th>open</th>\n      <th>high</th>\n      <th>low</th>\n      <th>close</th>\n      <th>Adj Close</th>\n      <th>volume</th>\n      <th>close_pct</th>\n    </tr>\n  </thead>\n  <tbody>\n    <tr>\n      <th>count</th>\n      <td>8207.000000</td>\n      <td>8.207000e+03</td>\n      <td>8207.000000</td>\n      <td>8207.000000</td>\n      <td>8207.000000</td>\n      <td>8.207000e+03</td>\n      <td>8206.000000</td>\n    </tr>\n    <tr>\n      <th>mean</th>\n      <td>89.233341</td>\n      <td>7.874161e+06</td>\n      <td>88.795820</td>\n      <td>89.234976</td>\n      <td>89.234976</td>\n      <td>3.498162e+06</td>\n      <td>0.000138</td>\n    </tr>\n    <tr>\n      <th>std</th>\n      <td>30.158631</td>\n      <td>7.133317e+08</td>\n      <td>29.950542</td>\n      <td>30.152787</td>\n      <td>30.152787</td>\n      <td>6.683672e+06</td>\n      <td>0.006025</td>\n    </tr>\n    <tr>\n      <th>min</th>\n      <td>42.970001</td>\n      <td>4.332500e+01</td>\n      <td>42.567501</td>\n      <td>42.972500</td>\n      <td>42.972500</td>\n      <td>0.000000e+00</td>\n      <td>-0.085960</td>\n    </tr>\n    <tr>\n      <th>25%</th>\n      <td>62.252500</td>\n      <td>6.273504e+01</td>\n      <td>61.843751</td>\n      <td>62.225000</td>\n      <td>62.225000</td>\n      <td>0.000000e+00</td>\n      <td>-0.001749</td>\n    </tr>\n    <tr>\n      <th>50%</th>\n      <td>80.305000</td>\n      <td>8.053000e+01</td>\n      <td>80.055000</td>\n      <td>80.312500</td>\n      <td>80.312500</td>\n      <td>0.000000e+00</td>\n      <td>0.000097</td>\n    </tr>\n    <tr>\n      <th>75%</th>\n      <td>119.830002</td>\n      <td>1.203300e+02</td>\n      <td>119.019998</td>\n      <td>119.840000</td>\n      <td>119.840000</td>\n      <td>4.252566e+06</td>\n      <td>0.002047</td>\n    </tr>\n    <tr>\n      <th>max</th>\n      <td>144.900000</td>\n      <td>6.462250e+10</td>\n      <td>144.590000</td>\n      <td>144.910000</td>\n      <td>144.910000</td>\n      <td>9.845401e+07</td>\n      <td>0.078661</td>\n    </tr>\n  </tbody>\n</table>\n</div>"
     },
     "execution_count": 75,
     "metadata": {},
     "output_type": "execute_result"
    }
   ],
   "source": [
    "data.describe()"
   ],
   "metadata": {
    "collapsed": false,
    "pycharm": {
     "name": "#%%\n"
    }
   }
  },
  {
   "cell_type": "code",
   "execution_count": 76,
   "outputs": [],
   "source": [
    "def _get_indicator_data(data):\n",
    "    \"\"\"\n",
    "    Function that uses the finta API to calculate technical indicators used as the features\n",
    "    :return:\n",
    "    \"\"\"\n",
    "\n",
    "    data = add_all_ta_features(\n",
    "        data, open=\"open\", high=\"high\", low=\"low\", close=\"close\", volume=\"volume\", fillna=True)\n",
    "\n",
    "    # Instead of using the actual volume value (which changes over time), we normalize it with a moving volume average\n",
    "    # data['normVol'] = data['volume'] / data['volume'].ewm(5).mean()\n",
    "    # for i in range(1,50):\n",
    "    #     data[f'close{i}'] = data['close'].shift(i)\n",
    "    # Remove columns that won't be used as features\n",
    "    # del (data['Adj Close'])\n",
    "\n",
    "    return data\n"
   ],
   "metadata": {
    "collapsed": false,
    "pycharm": {
     "name": "#%%\n"
    }
   }
  },
  {
   "cell_type": "code",
   "execution_count": 77,
   "outputs": [
    {
     "data": {
      "text/plain": "                                 open        high         low       close  \\\nDatetime                                                                    \n2019-05-13 09:00:00-04:00   47.315000   47.345000   46.877500   46.877500   \n2019-05-13 09:30:00-04:00   46.927502   47.369999   46.424999   46.791050   \n2019-05-13 10:30:00-04:00   46.792500   47.125000   46.625027   46.799999   \n2019-05-13 11:30:00-04:00   46.794998   46.875252   46.540024   46.646252   \n2019-05-13 12:30:00-04:00   46.645000   46.709999   46.270000   46.342499   \n...                               ...         ...         ...         ...   \n2021-05-11 14:30:00-04:00  126.220001  126.220001  125.540001  125.964996   \n2021-05-11 15:30:00-04:00  125.973503  126.110001  125.279999  125.849998   \n2021-05-11 16:00:00-04:00  125.850000  126.100000  122.770000  125.690000   \n2021-05-11 17:00:00-04:00  125.670000  126.850000  116.812290  125.650000   \n2021-05-11 18:00:00-04:00  125.650000  125.900000  125.600000  125.630000   \n\n                            Adj Close    volume  close_pct  \nDatetime                                                    \n2019-05-13 09:00:00-04:00   46.877500         0        NaN  \n2019-05-13 09:30:00-04:00   46.791050  19332487  -0.001844  \n2019-05-13 10:30:00-04:00   46.799999   6350368   0.000191  \n2019-05-13 11:30:00-04:00   46.646252   4536523  -0.003285  \n2019-05-13 12:30:00-04:00   46.342499   5015671  -0.006512  \n...                               ...       ...        ...  \n2021-05-11 14:30:00-04:00  125.964996   9989427  -0.002021  \n2021-05-11 15:30:00-04:00  125.849998   9604428  -0.000913  \n2021-05-11 16:00:00-04:00  125.690000   5589756  -0.001271  \n2021-05-11 17:00:00-04:00  125.650000         0  -0.000318  \n2021-05-11 18:00:00-04:00  125.630000         0  -0.000159  \n\n[8207 rows x 7 columns]",
      "text/html": "<div>\n<style scoped>\n    .dataframe tbody tr th:only-of-type {\n        vertical-align: middle;\n    }\n\n    .dataframe tbody tr th {\n        vertical-align: top;\n    }\n\n    .dataframe thead th {\n        text-align: right;\n    }\n</style>\n<table border=\"1\" class=\"dataframe\">\n  <thead>\n    <tr style=\"text-align: right;\">\n      <th></th>\n      <th>open</th>\n      <th>high</th>\n      <th>low</th>\n      <th>close</th>\n      <th>Adj Close</th>\n      <th>volume</th>\n      <th>close_pct</th>\n    </tr>\n    <tr>\n      <th>Datetime</th>\n      <th></th>\n      <th></th>\n      <th></th>\n      <th></th>\n      <th></th>\n      <th></th>\n      <th></th>\n    </tr>\n  </thead>\n  <tbody>\n    <tr>\n      <th>2019-05-13 09:00:00-04:00</th>\n      <td>47.315000</td>\n      <td>47.345000</td>\n      <td>46.877500</td>\n      <td>46.877500</td>\n      <td>46.877500</td>\n      <td>0</td>\n      <td>NaN</td>\n    </tr>\n    <tr>\n      <th>2019-05-13 09:30:00-04:00</th>\n      <td>46.927502</td>\n      <td>47.369999</td>\n      <td>46.424999</td>\n      <td>46.791050</td>\n      <td>46.791050</td>\n      <td>19332487</td>\n      <td>-0.001844</td>\n    </tr>\n    <tr>\n      <th>2019-05-13 10:30:00-04:00</th>\n      <td>46.792500</td>\n      <td>47.125000</td>\n      <td>46.625027</td>\n      <td>46.799999</td>\n      <td>46.799999</td>\n      <td>6350368</td>\n      <td>0.000191</td>\n    </tr>\n    <tr>\n      <th>2019-05-13 11:30:00-04:00</th>\n      <td>46.794998</td>\n      <td>46.875252</td>\n      <td>46.540024</td>\n      <td>46.646252</td>\n      <td>46.646252</td>\n      <td>4536523</td>\n      <td>-0.003285</td>\n    </tr>\n    <tr>\n      <th>2019-05-13 12:30:00-04:00</th>\n      <td>46.645000</td>\n      <td>46.709999</td>\n      <td>46.270000</td>\n      <td>46.342499</td>\n      <td>46.342499</td>\n      <td>5015671</td>\n      <td>-0.006512</td>\n    </tr>\n    <tr>\n      <th>...</th>\n      <td>...</td>\n      <td>...</td>\n      <td>...</td>\n      <td>...</td>\n      <td>...</td>\n      <td>...</td>\n      <td>...</td>\n    </tr>\n    <tr>\n      <th>2021-05-11 14:30:00-04:00</th>\n      <td>126.220001</td>\n      <td>126.220001</td>\n      <td>125.540001</td>\n      <td>125.964996</td>\n      <td>125.964996</td>\n      <td>9989427</td>\n      <td>-0.002021</td>\n    </tr>\n    <tr>\n      <th>2021-05-11 15:30:00-04:00</th>\n      <td>125.973503</td>\n      <td>126.110001</td>\n      <td>125.279999</td>\n      <td>125.849998</td>\n      <td>125.849998</td>\n      <td>9604428</td>\n      <td>-0.000913</td>\n    </tr>\n    <tr>\n      <th>2021-05-11 16:00:00-04:00</th>\n      <td>125.850000</td>\n      <td>126.100000</td>\n      <td>122.770000</td>\n      <td>125.690000</td>\n      <td>125.690000</td>\n      <td>5589756</td>\n      <td>-0.001271</td>\n    </tr>\n    <tr>\n      <th>2021-05-11 17:00:00-04:00</th>\n      <td>125.670000</td>\n      <td>126.850000</td>\n      <td>116.812290</td>\n      <td>125.650000</td>\n      <td>125.650000</td>\n      <td>0</td>\n      <td>-0.000318</td>\n    </tr>\n    <tr>\n      <th>2021-05-11 18:00:00-04:00</th>\n      <td>125.650000</td>\n      <td>125.900000</td>\n      <td>125.600000</td>\n      <td>125.630000</td>\n      <td>125.630000</td>\n      <td>0</td>\n      <td>-0.000159</td>\n    </tr>\n  </tbody>\n</table>\n<p>8207 rows × 7 columns</p>\n</div>"
     },
     "execution_count": 77,
     "metadata": {},
     "output_type": "execute_result"
    }
   ],
   "source": [
    "data"
   ],
   "metadata": {
    "collapsed": false,
    "pycharm": {
     "name": "#%%\n"
    }
   }
  },
  {
   "cell_type": "code",
   "execution_count": 78,
   "outputs": [
    {
     "data": {
      "text/plain": "Index(['open', 'high', 'low', 'close', 'Adj Close', 'volume', 'close_pct'], dtype='object')"
     },
     "execution_count": 78,
     "metadata": {},
     "output_type": "execute_result"
    }
   ],
   "source": [
    "data.columns"
   ],
   "metadata": {
    "collapsed": false,
    "pycharm": {
     "name": "#%%\n"
    }
   }
  },
  {
   "cell_type": "code",
   "execution_count": 79,
   "outputs": [],
   "source": [
    "def create_class_column(row, lowest_threshold, higher_threshold):\n",
    "    if row['close_shift'] - row['close'] > higher_threshold:\n",
    "        return 1\n",
    "    if row['close_shift'] - row['close'] < lowest_threshold:\n",
    "        return -1\n",
    "    else:\n",
    "        return 0"
   ],
   "metadata": {
    "collapsed": false,
    "pycharm": {
     "name": "#%%\n"
    }
   }
  },
  {
   "cell_type": "code",
   "execution_count": 80,
   "outputs": [
    {
     "name": "stderr",
     "output_type": "stream",
     "text": [
      "C:\\Users\\exomat\\anaconda3\\envs\\magisterka_analiza\\lib\\site-packages\\ta\\trend.py:768: RuntimeWarning: invalid value encountered in double_scalars\n",
      "  dip[i] = 100 * (self._dip[i] / self._trs[i])\n",
      "C:\\Users\\exomat\\anaconda3\\envs\\magisterka_analiza\\lib\\site-packages\\ta\\trend.py:772: RuntimeWarning: invalid value encountered in double_scalars\n",
      "  din[i] = 100 * (self._din[i] / self._trs[i])\n"
     ]
    },
    {
     "data": {
      "text/plain": "                                 open        high         low       close  \\\nDatetime                                                                    \n2019-05-13 09:00:00-04:00   47.315000   47.345000   46.877500   46.877500   \n2019-05-13 09:30:00-04:00   46.927502   47.369999   46.424999   46.791050   \n2019-05-13 10:30:00-04:00   46.792500   47.125000   46.625027   46.799999   \n2019-05-13 11:30:00-04:00   46.794998   46.875252   46.540024   46.646252   \n2019-05-13 12:30:00-04:00   46.645000   46.709999   46.270000   46.342499   \n...                               ...         ...         ...         ...   \n2021-05-11 14:30:00-04:00  126.220001  126.220001  125.540001  125.964996   \n2021-05-11 15:30:00-04:00  125.973503  126.110001  125.279999  125.849998   \n2021-05-11 16:00:00-04:00  125.850000  126.100000  122.770000  125.690000   \n2021-05-11 17:00:00-04:00  125.670000  126.850000  116.812290  125.650000   \n2021-05-11 18:00:00-04:00  125.650000  125.900000  125.600000  125.630000   \n\n                            Adj Close    volume  close_pct    volume_adi  \\\nDatetime                                                                   \n2019-05-13 09:00:00-04:00   46.877500         0        NaN -0.000000e+00   \n2019-05-13 09:30:00-04:00   46.791050  19332487  -0.001844 -4.355401e+06   \n2019-05-13 10:30:00-04:00   46.799999   6350368   0.000191 -6.260972e+06   \n2019-05-13 11:30:00-04:00   46.646252   4536523  -0.003285 -7.922405e+06   \n2019-05-13 12:30:00-04:00   46.342499   5015671  -0.006512 -1.128522e+07   \n...                               ...       ...        ...           ...   \n2021-05-11 14:30:00-04:00  125.964996   9989427  -0.002021  1.189229e+09   \n2021-05-11 15:30:00-04:00  125.849998   9604428  -0.000913  1.192816e+09   \n2021-05-11 16:00:00-04:00  125.690000   5589756  -0.001271  1.197029e+09   \n2021-05-11 17:00:00-04:00  125.650000         0  -0.000318  1.197029e+09   \n2021-05-11 18:00:00-04:00  125.630000         0  -0.000159  1.197029e+09   \n\n                           volume_obv  volume_cmf  ...  momentum_ao  \\\nDatetime                                           ...                \n2019-05-13 09:00:00-04:00           0    0.000000  ...     0.000000   \n2019-05-13 09:30:00-04:00   -19332487   -0.225289  ...     0.000000   \n2019-05-13 10:30:00-04:00   -12982119   -0.243780  ...     0.000000   \n2019-05-13 11:30:00-04:00   -17518642   -0.262163  ...     0.000000   \n2019-05-13 12:30:00-04:00   -22534313   -0.320284  ...     0.000000   \n...                               ...         ...  ...          ...   \n2021-05-11 14:30:00-04:00   207288588    0.045593  ...    -1.843727   \n2021-05-11 15:30:00-04:00   197684160    0.081626  ...    -1.413227   \n2021-05-11 16:00:00-04:00   192094404    0.167306  ...    -1.399845   \n2021-05-11 17:00:00-04:00   192094404    0.148054  ...    -1.845268   \n2021-05-11 18:00:00-04:00   192094404    0.237983  ...    -1.740924   \n\n                           momentum_kama  momentum_roc  momentum_ppo  \\\nDatetime                                                               \n2019-05-13 09:00:00-04:00      46.877500      0.000000      0.000000   \n2019-05-13 09:30:00-04:00      46.839569      0.000000    107.692308   \n2019-05-13 10:30:00-04:00      46.822096      0.000000     94.484442   \n2019-05-13 11:30:00-04:00      46.743707      0.000000     82.764981   \n2019-05-13 12:30:00-04:00      46.563061      0.000000     73.817533   \n...                                  ...           ...           ...   \n2021-05-11 14:30:00-04:00     124.058806     -0.281035     29.113071   \n2021-05-11 15:30:00-04:00     124.155581      1.003209     25.895957   \n2021-05-11 16:00:00-04:00     124.327777      0.785823     19.912664   \n2021-05-11 17:00:00-04:00     124.638852      0.964243      9.581727   \n2021-05-11 18:00:00-04:00     124.846453      1.560226      0.140840   \n\n                           momentum_ppo_signal  momentum_ppo_hist  others_dr  \\\nDatetime                                                                       \n2019-05-13 09:00:00-04:00             0.000000           0.000000 -47.467347   \n2019-05-13 09:30:00-04:00           107.692308           0.000000  -0.184417   \n2019-05-13 10:30:00-04:00           105.050735         -10.566293   0.019126   \n2019-05-13 11:30:00-04:00           100.593584         -17.828603  -0.328520   \n2019-05-13 12:30:00-04:00            95.238374         -21.420840  -0.651184   \n...                                        ...                ...        ...   \n2021-05-11 14:30:00-04:00            19.312710           9.800361  -0.202110   \n2021-05-11 15:30:00-04:00            20.629360           5.266598  -0.091294   \n2021-05-11 16:00:00-04:00            20.486020          -0.573356  -0.127134   \n2021-05-11 17:00:00-04:00            18.305162          -8.723435  -0.031824   \n2021-05-11 18:00:00-04:00            14.672297         -14.531458  -0.015917   \n\n                           others_dlr   others_cr  close_shift  \nDatetime                                                        \n2019-05-13 09:00:00-04:00    0.000000    0.000000    46.387500  \n2019-05-13 09:30:00-04:00   -0.184587   -0.184417    46.246376  \n2019-05-13 10:30:00-04:00    0.019124   -0.165326    46.237500  \n2019-05-13 11:30:00-04:00   -0.329061   -0.493303    46.057500  \n2019-05-13 12:30:00-04:00   -0.653313   -1.141275    46.640000  \n...                               ...         ...          ...  \n2021-05-11 14:30:00-04:00   -0.202315  168.710994          NaN  \n2021-05-11 15:30:00-04:00   -0.091335  168.465679          NaN  \n2021-05-11 16:00:00-04:00   -0.127215  168.124367          NaN  \n2021-05-11 17:00:00-04:00   -0.031829  168.039038          NaN  \n2021-05-11 18:00:00-04:00   -0.015918  167.996374          NaN  \n\n[8207 rows x 91 columns]",
      "text/html": "<div>\n<style scoped>\n    .dataframe tbody tr th:only-of-type {\n        vertical-align: middle;\n    }\n\n    .dataframe tbody tr th {\n        vertical-align: top;\n    }\n\n    .dataframe thead th {\n        text-align: right;\n    }\n</style>\n<table border=\"1\" class=\"dataframe\">\n  <thead>\n    <tr style=\"text-align: right;\">\n      <th></th>\n      <th>open</th>\n      <th>high</th>\n      <th>low</th>\n      <th>close</th>\n      <th>Adj Close</th>\n      <th>volume</th>\n      <th>close_pct</th>\n      <th>volume_adi</th>\n      <th>volume_obv</th>\n      <th>volume_cmf</th>\n      <th>...</th>\n      <th>momentum_ao</th>\n      <th>momentum_kama</th>\n      <th>momentum_roc</th>\n      <th>momentum_ppo</th>\n      <th>momentum_ppo_signal</th>\n      <th>momentum_ppo_hist</th>\n      <th>others_dr</th>\n      <th>others_dlr</th>\n      <th>others_cr</th>\n      <th>close_shift</th>\n    </tr>\n    <tr>\n      <th>Datetime</th>\n      <th></th>\n      <th></th>\n      <th></th>\n      <th></th>\n      <th></th>\n      <th></th>\n      <th></th>\n      <th></th>\n      <th></th>\n      <th></th>\n      <th></th>\n      <th></th>\n      <th></th>\n      <th></th>\n      <th></th>\n      <th></th>\n      <th></th>\n      <th></th>\n      <th></th>\n      <th></th>\n      <th></th>\n    </tr>\n  </thead>\n  <tbody>\n    <tr>\n      <th>2019-05-13 09:00:00-04:00</th>\n      <td>47.315000</td>\n      <td>47.345000</td>\n      <td>46.877500</td>\n      <td>46.877500</td>\n      <td>46.877500</td>\n      <td>0</td>\n      <td>NaN</td>\n      <td>-0.000000e+00</td>\n      <td>0</td>\n      <td>0.000000</td>\n      <td>...</td>\n      <td>0.000000</td>\n      <td>46.877500</td>\n      <td>0.000000</td>\n      <td>0.000000</td>\n      <td>0.000000</td>\n      <td>0.000000</td>\n      <td>-47.467347</td>\n      <td>0.000000</td>\n      <td>0.000000</td>\n      <td>46.387500</td>\n    </tr>\n    <tr>\n      <th>2019-05-13 09:30:00-04:00</th>\n      <td>46.927502</td>\n      <td>47.369999</td>\n      <td>46.424999</td>\n      <td>46.791050</td>\n      <td>46.791050</td>\n      <td>19332487</td>\n      <td>-0.001844</td>\n      <td>-4.355401e+06</td>\n      <td>-19332487</td>\n      <td>-0.225289</td>\n      <td>...</td>\n      <td>0.000000</td>\n      <td>46.839569</td>\n      <td>0.000000</td>\n      <td>107.692308</td>\n      <td>107.692308</td>\n      <td>0.000000</td>\n      <td>-0.184417</td>\n      <td>-0.184587</td>\n      <td>-0.184417</td>\n      <td>46.246376</td>\n    </tr>\n    <tr>\n      <th>2019-05-13 10:30:00-04:00</th>\n      <td>46.792500</td>\n      <td>47.125000</td>\n      <td>46.625027</td>\n      <td>46.799999</td>\n      <td>46.799999</td>\n      <td>6350368</td>\n      <td>0.000191</td>\n      <td>-6.260972e+06</td>\n      <td>-12982119</td>\n      <td>-0.243780</td>\n      <td>...</td>\n      <td>0.000000</td>\n      <td>46.822096</td>\n      <td>0.000000</td>\n      <td>94.484442</td>\n      <td>105.050735</td>\n      <td>-10.566293</td>\n      <td>0.019126</td>\n      <td>0.019124</td>\n      <td>-0.165326</td>\n      <td>46.237500</td>\n    </tr>\n    <tr>\n      <th>2019-05-13 11:30:00-04:00</th>\n      <td>46.794998</td>\n      <td>46.875252</td>\n      <td>46.540024</td>\n      <td>46.646252</td>\n      <td>46.646252</td>\n      <td>4536523</td>\n      <td>-0.003285</td>\n      <td>-7.922405e+06</td>\n      <td>-17518642</td>\n      <td>-0.262163</td>\n      <td>...</td>\n      <td>0.000000</td>\n      <td>46.743707</td>\n      <td>0.000000</td>\n      <td>82.764981</td>\n      <td>100.593584</td>\n      <td>-17.828603</td>\n      <td>-0.328520</td>\n      <td>-0.329061</td>\n      <td>-0.493303</td>\n      <td>46.057500</td>\n    </tr>\n    <tr>\n      <th>2019-05-13 12:30:00-04:00</th>\n      <td>46.645000</td>\n      <td>46.709999</td>\n      <td>46.270000</td>\n      <td>46.342499</td>\n      <td>46.342499</td>\n      <td>5015671</td>\n      <td>-0.006512</td>\n      <td>-1.128522e+07</td>\n      <td>-22534313</td>\n      <td>-0.320284</td>\n      <td>...</td>\n      <td>0.000000</td>\n      <td>46.563061</td>\n      <td>0.000000</td>\n      <td>73.817533</td>\n      <td>95.238374</td>\n      <td>-21.420840</td>\n      <td>-0.651184</td>\n      <td>-0.653313</td>\n      <td>-1.141275</td>\n      <td>46.640000</td>\n    </tr>\n    <tr>\n      <th>...</th>\n      <td>...</td>\n      <td>...</td>\n      <td>...</td>\n      <td>...</td>\n      <td>...</td>\n      <td>...</td>\n      <td>...</td>\n      <td>...</td>\n      <td>...</td>\n      <td>...</td>\n      <td>...</td>\n      <td>...</td>\n      <td>...</td>\n      <td>...</td>\n      <td>...</td>\n      <td>...</td>\n      <td>...</td>\n      <td>...</td>\n      <td>...</td>\n      <td>...</td>\n      <td>...</td>\n    </tr>\n    <tr>\n      <th>2021-05-11 14:30:00-04:00</th>\n      <td>126.220001</td>\n      <td>126.220001</td>\n      <td>125.540001</td>\n      <td>125.964996</td>\n      <td>125.964996</td>\n      <td>9989427</td>\n      <td>-0.002021</td>\n      <td>1.189229e+09</td>\n      <td>207288588</td>\n      <td>0.045593</td>\n      <td>...</td>\n      <td>-1.843727</td>\n      <td>124.058806</td>\n      <td>-0.281035</td>\n      <td>29.113071</td>\n      <td>19.312710</td>\n      <td>9.800361</td>\n      <td>-0.202110</td>\n      <td>-0.202315</td>\n      <td>168.710994</td>\n      <td>NaN</td>\n    </tr>\n    <tr>\n      <th>2021-05-11 15:30:00-04:00</th>\n      <td>125.973503</td>\n      <td>126.110001</td>\n      <td>125.279999</td>\n      <td>125.849998</td>\n      <td>125.849998</td>\n      <td>9604428</td>\n      <td>-0.000913</td>\n      <td>1.192816e+09</td>\n      <td>197684160</td>\n      <td>0.081626</td>\n      <td>...</td>\n      <td>-1.413227</td>\n      <td>124.155581</td>\n      <td>1.003209</td>\n      <td>25.895957</td>\n      <td>20.629360</td>\n      <td>5.266598</td>\n      <td>-0.091294</td>\n      <td>-0.091335</td>\n      <td>168.465679</td>\n      <td>NaN</td>\n    </tr>\n    <tr>\n      <th>2021-05-11 16:00:00-04:00</th>\n      <td>125.850000</td>\n      <td>126.100000</td>\n      <td>122.770000</td>\n      <td>125.690000</td>\n      <td>125.690000</td>\n      <td>5589756</td>\n      <td>-0.001271</td>\n      <td>1.197029e+09</td>\n      <td>192094404</td>\n      <td>0.167306</td>\n      <td>...</td>\n      <td>-1.399845</td>\n      <td>124.327777</td>\n      <td>0.785823</td>\n      <td>19.912664</td>\n      <td>20.486020</td>\n      <td>-0.573356</td>\n      <td>-0.127134</td>\n      <td>-0.127215</td>\n      <td>168.124367</td>\n      <td>NaN</td>\n    </tr>\n    <tr>\n      <th>2021-05-11 17:00:00-04:00</th>\n      <td>125.670000</td>\n      <td>126.850000</td>\n      <td>116.812290</td>\n      <td>125.650000</td>\n      <td>125.650000</td>\n      <td>0</td>\n      <td>-0.000318</td>\n      <td>1.197029e+09</td>\n      <td>192094404</td>\n      <td>0.148054</td>\n      <td>...</td>\n      <td>-1.845268</td>\n      <td>124.638852</td>\n      <td>0.964243</td>\n      <td>9.581727</td>\n      <td>18.305162</td>\n      <td>-8.723435</td>\n      <td>-0.031824</td>\n      <td>-0.031829</td>\n      <td>168.039038</td>\n      <td>NaN</td>\n    </tr>\n    <tr>\n      <th>2021-05-11 18:00:00-04:00</th>\n      <td>125.650000</td>\n      <td>125.900000</td>\n      <td>125.600000</td>\n      <td>125.630000</td>\n      <td>125.630000</td>\n      <td>0</td>\n      <td>-0.000159</td>\n      <td>1.197029e+09</td>\n      <td>192094404</td>\n      <td>0.237983</td>\n      <td>...</td>\n      <td>-1.740924</td>\n      <td>124.846453</td>\n      <td>1.560226</td>\n      <td>0.140840</td>\n      <td>14.672297</td>\n      <td>-14.531458</td>\n      <td>-0.015917</td>\n      <td>-0.015918</td>\n      <td>167.996374</td>\n      <td>NaN</td>\n    </tr>\n  </tbody>\n</table>\n<p>8207 rows × 91 columns</p>\n</div>"
     },
     "execution_count": 80,
     "metadata": {},
     "output_type": "execute_result"
    }
   ],
   "source": [
    "data = _get_indicator_data(data)\n",
    "data['close_shift'] = data.shift(-WINDOW)['close']\n",
    "data"
   ],
   "metadata": {
    "collapsed": false,
    "pycharm": {
     "name": "#%%\n"
    }
   }
  },
  {
   "cell_type": "code",
   "execution_count": 81,
   "outputs": [
    {
     "name": "stdout",
     "output_type": "stream",
     "text": [
      " 1    2796\n",
      "-1    2712\n",
      " 0    2699\n",
      "Name: class_column, dtype: int64\n"
     ]
    },
    {
     "data": {
      "text/plain": "                                 open        high         low       close  \\\nDatetime                                                                    \n2019-05-13 09:00:00-04:00   47.315000   47.345000   46.877500   46.877500   \n2019-05-13 09:30:00-04:00   46.927502   47.369999   46.424999   46.791050   \n2019-05-13 10:30:00-04:00   46.792500   47.125000   46.625027   46.799999   \n2019-05-13 11:30:00-04:00   46.794998   46.875252   46.540024   46.646252   \n2019-05-13 12:30:00-04:00   46.645000   46.709999   46.270000   46.342499   \n...                               ...         ...         ...         ...   \n2021-05-11 14:30:00-04:00  126.220001  126.220001  125.540001  125.964996   \n2021-05-11 15:30:00-04:00  125.973503  126.110001  125.279999  125.849998   \n2021-05-11 16:00:00-04:00  125.850000  126.100000  122.770000  125.690000   \n2021-05-11 17:00:00-04:00  125.670000  126.850000  116.812290  125.650000   \n2021-05-11 18:00:00-04:00  125.650000  125.900000  125.600000  125.630000   \n\n                            Adj Close    volume  close_pct    volume_adi  \\\nDatetime                                                                   \n2019-05-13 09:00:00-04:00   46.877500         0        NaN -0.000000e+00   \n2019-05-13 09:30:00-04:00   46.791050  19332487  -0.001844 -4.355401e+06   \n2019-05-13 10:30:00-04:00   46.799999   6350368   0.000191 -6.260972e+06   \n2019-05-13 11:30:00-04:00   46.646252   4536523  -0.003285 -7.922405e+06   \n2019-05-13 12:30:00-04:00   46.342499   5015671  -0.006512 -1.128522e+07   \n...                               ...       ...        ...           ...   \n2021-05-11 14:30:00-04:00  125.964996   9989427  -0.002021  1.189229e+09   \n2021-05-11 15:30:00-04:00  125.849998   9604428  -0.000913  1.192816e+09   \n2021-05-11 16:00:00-04:00  125.690000   5589756  -0.001271  1.197029e+09   \n2021-05-11 17:00:00-04:00  125.650000         0  -0.000318  1.197029e+09   \n2021-05-11 18:00:00-04:00  125.630000         0  -0.000159  1.197029e+09   \n\n                           volume_obv  volume_cmf  ...  momentum_kama  \\\nDatetime                                           ...                  \n2019-05-13 09:00:00-04:00           0    0.000000  ...      46.877500   \n2019-05-13 09:30:00-04:00   -19332487   -0.225289  ...      46.839569   \n2019-05-13 10:30:00-04:00   -12982119   -0.243780  ...      46.822096   \n2019-05-13 11:30:00-04:00   -17518642   -0.262163  ...      46.743707   \n2019-05-13 12:30:00-04:00   -22534313   -0.320284  ...      46.563061   \n...                               ...         ...  ...            ...   \n2021-05-11 14:30:00-04:00   207288588    0.045593  ...     124.058806   \n2021-05-11 15:30:00-04:00   197684160    0.081626  ...     124.155581   \n2021-05-11 16:00:00-04:00   192094404    0.167306  ...     124.327777   \n2021-05-11 17:00:00-04:00   192094404    0.148054  ...     124.638852   \n2021-05-11 18:00:00-04:00   192094404    0.237983  ...     124.846453   \n\n                           momentum_roc  momentum_ppo  momentum_ppo_signal  \\\nDatetime                                                                     \n2019-05-13 09:00:00-04:00      0.000000      0.000000             0.000000   \n2019-05-13 09:30:00-04:00      0.000000    107.692308           107.692308   \n2019-05-13 10:30:00-04:00      0.000000     94.484442           105.050735   \n2019-05-13 11:30:00-04:00      0.000000     82.764981           100.593584   \n2019-05-13 12:30:00-04:00      0.000000     73.817533            95.238374   \n...                                 ...           ...                  ...   \n2021-05-11 14:30:00-04:00     -0.281035     29.113071            19.312710   \n2021-05-11 15:30:00-04:00      1.003209     25.895957            20.629360   \n2021-05-11 16:00:00-04:00      0.785823     19.912664            20.486020   \n2021-05-11 17:00:00-04:00      0.964243      9.581727            18.305162   \n2021-05-11 18:00:00-04:00      1.560226      0.140840            14.672297   \n\n                           momentum_ppo_hist  others_dr  others_dlr  \\\nDatetime                                                              \n2019-05-13 09:00:00-04:00           0.000000 -47.467347    0.000000   \n2019-05-13 09:30:00-04:00           0.000000  -0.184417   -0.184587   \n2019-05-13 10:30:00-04:00         -10.566293   0.019126    0.019124   \n2019-05-13 11:30:00-04:00         -17.828603  -0.328520   -0.329061   \n2019-05-13 12:30:00-04:00         -21.420840  -0.651184   -0.653313   \n...                                      ...        ...         ...   \n2021-05-11 14:30:00-04:00           9.800361  -0.202110   -0.202315   \n2021-05-11 15:30:00-04:00           5.266598  -0.091294   -0.091335   \n2021-05-11 16:00:00-04:00          -0.573356  -0.127134   -0.127215   \n2021-05-11 17:00:00-04:00          -8.723435  -0.031824   -0.031829   \n2021-05-11 18:00:00-04:00         -14.531458  -0.015917   -0.015918   \n\n                            others_cr  close_shift  class_column  \nDatetime                                                          \n2019-05-13 09:00:00-04:00    0.000000    46.387500            -1  \n2019-05-13 09:30:00-04:00   -0.184417    46.246376            -1  \n2019-05-13 10:30:00-04:00   -0.165326    46.237500            -1  \n2019-05-13 11:30:00-04:00   -0.493303    46.057500            -1  \n2019-05-13 12:30:00-04:00   -1.141275    46.640000             0  \n...                               ...          ...           ...  \n2021-05-11 14:30:00-04:00  168.710994          NaN             0  \n2021-05-11 15:30:00-04:00  168.465679          NaN             0  \n2021-05-11 16:00:00-04:00  168.124367          NaN             0  \n2021-05-11 17:00:00-04:00  168.039038          NaN             0  \n2021-05-11 18:00:00-04:00  167.996374          NaN             0  \n\n[8207 rows x 92 columns]",
      "text/html": "<div>\n<style scoped>\n    .dataframe tbody tr th:only-of-type {\n        vertical-align: middle;\n    }\n\n    .dataframe tbody tr th {\n        vertical-align: top;\n    }\n\n    .dataframe thead th {\n        text-align: right;\n    }\n</style>\n<table border=\"1\" class=\"dataframe\">\n  <thead>\n    <tr style=\"text-align: right;\">\n      <th></th>\n      <th>open</th>\n      <th>high</th>\n      <th>low</th>\n      <th>close</th>\n      <th>Adj Close</th>\n      <th>volume</th>\n      <th>close_pct</th>\n      <th>volume_adi</th>\n      <th>volume_obv</th>\n      <th>volume_cmf</th>\n      <th>...</th>\n      <th>momentum_kama</th>\n      <th>momentum_roc</th>\n      <th>momentum_ppo</th>\n      <th>momentum_ppo_signal</th>\n      <th>momentum_ppo_hist</th>\n      <th>others_dr</th>\n      <th>others_dlr</th>\n      <th>others_cr</th>\n      <th>close_shift</th>\n      <th>class_column</th>\n    </tr>\n    <tr>\n      <th>Datetime</th>\n      <th></th>\n      <th></th>\n      <th></th>\n      <th></th>\n      <th></th>\n      <th></th>\n      <th></th>\n      <th></th>\n      <th></th>\n      <th></th>\n      <th></th>\n      <th></th>\n      <th></th>\n      <th></th>\n      <th></th>\n      <th></th>\n      <th></th>\n      <th></th>\n      <th></th>\n      <th></th>\n      <th></th>\n    </tr>\n  </thead>\n  <tbody>\n    <tr>\n      <th>2019-05-13 09:00:00-04:00</th>\n      <td>47.315000</td>\n      <td>47.345000</td>\n      <td>46.877500</td>\n      <td>46.877500</td>\n      <td>46.877500</td>\n      <td>0</td>\n      <td>NaN</td>\n      <td>-0.000000e+00</td>\n      <td>0</td>\n      <td>0.000000</td>\n      <td>...</td>\n      <td>46.877500</td>\n      <td>0.000000</td>\n      <td>0.000000</td>\n      <td>0.000000</td>\n      <td>0.000000</td>\n      <td>-47.467347</td>\n      <td>0.000000</td>\n      <td>0.000000</td>\n      <td>46.387500</td>\n      <td>-1</td>\n    </tr>\n    <tr>\n      <th>2019-05-13 09:30:00-04:00</th>\n      <td>46.927502</td>\n      <td>47.369999</td>\n      <td>46.424999</td>\n      <td>46.791050</td>\n      <td>46.791050</td>\n      <td>19332487</td>\n      <td>-0.001844</td>\n      <td>-4.355401e+06</td>\n      <td>-19332487</td>\n      <td>-0.225289</td>\n      <td>...</td>\n      <td>46.839569</td>\n      <td>0.000000</td>\n      <td>107.692308</td>\n      <td>107.692308</td>\n      <td>0.000000</td>\n      <td>-0.184417</td>\n      <td>-0.184587</td>\n      <td>-0.184417</td>\n      <td>46.246376</td>\n      <td>-1</td>\n    </tr>\n    <tr>\n      <th>2019-05-13 10:30:00-04:00</th>\n      <td>46.792500</td>\n      <td>47.125000</td>\n      <td>46.625027</td>\n      <td>46.799999</td>\n      <td>46.799999</td>\n      <td>6350368</td>\n      <td>0.000191</td>\n      <td>-6.260972e+06</td>\n      <td>-12982119</td>\n      <td>-0.243780</td>\n      <td>...</td>\n      <td>46.822096</td>\n      <td>0.000000</td>\n      <td>94.484442</td>\n      <td>105.050735</td>\n      <td>-10.566293</td>\n      <td>0.019126</td>\n      <td>0.019124</td>\n      <td>-0.165326</td>\n      <td>46.237500</td>\n      <td>-1</td>\n    </tr>\n    <tr>\n      <th>2019-05-13 11:30:00-04:00</th>\n      <td>46.794998</td>\n      <td>46.875252</td>\n      <td>46.540024</td>\n      <td>46.646252</td>\n      <td>46.646252</td>\n      <td>4536523</td>\n      <td>-0.003285</td>\n      <td>-7.922405e+06</td>\n      <td>-17518642</td>\n      <td>-0.262163</td>\n      <td>...</td>\n      <td>46.743707</td>\n      <td>0.000000</td>\n      <td>82.764981</td>\n      <td>100.593584</td>\n      <td>-17.828603</td>\n      <td>-0.328520</td>\n      <td>-0.329061</td>\n      <td>-0.493303</td>\n      <td>46.057500</td>\n      <td>-1</td>\n    </tr>\n    <tr>\n      <th>2019-05-13 12:30:00-04:00</th>\n      <td>46.645000</td>\n      <td>46.709999</td>\n      <td>46.270000</td>\n      <td>46.342499</td>\n      <td>46.342499</td>\n      <td>5015671</td>\n      <td>-0.006512</td>\n      <td>-1.128522e+07</td>\n      <td>-22534313</td>\n      <td>-0.320284</td>\n      <td>...</td>\n      <td>46.563061</td>\n      <td>0.000000</td>\n      <td>73.817533</td>\n      <td>95.238374</td>\n      <td>-21.420840</td>\n      <td>-0.651184</td>\n      <td>-0.653313</td>\n      <td>-1.141275</td>\n      <td>46.640000</td>\n      <td>0</td>\n    </tr>\n    <tr>\n      <th>...</th>\n      <td>...</td>\n      <td>...</td>\n      <td>...</td>\n      <td>...</td>\n      <td>...</td>\n      <td>...</td>\n      <td>...</td>\n      <td>...</td>\n      <td>...</td>\n      <td>...</td>\n      <td>...</td>\n      <td>...</td>\n      <td>...</td>\n      <td>...</td>\n      <td>...</td>\n      <td>...</td>\n      <td>...</td>\n      <td>...</td>\n      <td>...</td>\n      <td>...</td>\n      <td>...</td>\n    </tr>\n    <tr>\n      <th>2021-05-11 14:30:00-04:00</th>\n      <td>126.220001</td>\n      <td>126.220001</td>\n      <td>125.540001</td>\n      <td>125.964996</td>\n      <td>125.964996</td>\n      <td>9989427</td>\n      <td>-0.002021</td>\n      <td>1.189229e+09</td>\n      <td>207288588</td>\n      <td>0.045593</td>\n      <td>...</td>\n      <td>124.058806</td>\n      <td>-0.281035</td>\n      <td>29.113071</td>\n      <td>19.312710</td>\n      <td>9.800361</td>\n      <td>-0.202110</td>\n      <td>-0.202315</td>\n      <td>168.710994</td>\n      <td>NaN</td>\n      <td>0</td>\n    </tr>\n    <tr>\n      <th>2021-05-11 15:30:00-04:00</th>\n      <td>125.973503</td>\n      <td>126.110001</td>\n      <td>125.279999</td>\n      <td>125.849998</td>\n      <td>125.849998</td>\n      <td>9604428</td>\n      <td>-0.000913</td>\n      <td>1.192816e+09</td>\n      <td>197684160</td>\n      <td>0.081626</td>\n      <td>...</td>\n      <td>124.155581</td>\n      <td>1.003209</td>\n      <td>25.895957</td>\n      <td>20.629360</td>\n      <td>5.266598</td>\n      <td>-0.091294</td>\n      <td>-0.091335</td>\n      <td>168.465679</td>\n      <td>NaN</td>\n      <td>0</td>\n    </tr>\n    <tr>\n      <th>2021-05-11 16:00:00-04:00</th>\n      <td>125.850000</td>\n      <td>126.100000</td>\n      <td>122.770000</td>\n      <td>125.690000</td>\n      <td>125.690000</td>\n      <td>5589756</td>\n      <td>-0.001271</td>\n      <td>1.197029e+09</td>\n      <td>192094404</td>\n      <td>0.167306</td>\n      <td>...</td>\n      <td>124.327777</td>\n      <td>0.785823</td>\n      <td>19.912664</td>\n      <td>20.486020</td>\n      <td>-0.573356</td>\n      <td>-0.127134</td>\n      <td>-0.127215</td>\n      <td>168.124367</td>\n      <td>NaN</td>\n      <td>0</td>\n    </tr>\n    <tr>\n      <th>2021-05-11 17:00:00-04:00</th>\n      <td>125.670000</td>\n      <td>126.850000</td>\n      <td>116.812290</td>\n      <td>125.650000</td>\n      <td>125.650000</td>\n      <td>0</td>\n      <td>-0.000318</td>\n      <td>1.197029e+09</td>\n      <td>192094404</td>\n      <td>0.148054</td>\n      <td>...</td>\n      <td>124.638852</td>\n      <td>0.964243</td>\n      <td>9.581727</td>\n      <td>18.305162</td>\n      <td>-8.723435</td>\n      <td>-0.031824</td>\n      <td>-0.031829</td>\n      <td>168.039038</td>\n      <td>NaN</td>\n      <td>0</td>\n    </tr>\n    <tr>\n      <th>2021-05-11 18:00:00-04:00</th>\n      <td>125.650000</td>\n      <td>125.900000</td>\n      <td>125.600000</td>\n      <td>125.630000</td>\n      <td>125.630000</td>\n      <td>0</td>\n      <td>-0.000159</td>\n      <td>1.197029e+09</td>\n      <td>192094404</td>\n      <td>0.237983</td>\n      <td>...</td>\n      <td>124.846453</td>\n      <td>1.560226</td>\n      <td>0.140840</td>\n      <td>14.672297</td>\n      <td>-14.531458</td>\n      <td>-0.015917</td>\n      <td>-0.015918</td>\n      <td>167.996374</td>\n      <td>NaN</td>\n      <td>0</td>\n    </tr>\n  </tbody>\n</table>\n<p>8207 rows × 92 columns</p>\n</div>"
     },
     "execution_count": 81,
     "metadata": {},
     "output_type": "execute_result"
    }
   ],
   "source": [
    "def create_class(df):\n",
    "    higher_threshold = 1.5\n",
    "    lowest_threshold = -1.5\n",
    "    last_values_higher = []\n",
    "    last_values_lower = []\n",
    "    df['class_column'] = df.apply((lambda x: create_class_column(x, lowest_threshold, higher_threshold)), axis=1)\n",
    "    while True:\n",
    "        class_counts = df['class_column'].value_counts()\n",
    "        if abs(class_counts[0] - class_counts[1]) < 15 and abs(class_counts[0] - class_counts[-1]) < 15:\n",
    "            break\n",
    "\n",
    "        if len(last_values_higher) == 3:\n",
    "            last_values_higher.pop(0)\n",
    "        if len(last_values_lower) == 3:\n",
    "            last_values_lower.pop(0)\n",
    "\n",
    "        last_values_higher.append(higher_threshold)\n",
    "        last_values_lower.append(lowest_threshold)\n",
    "        if class_counts[0] > class_counts[1]:\n",
    "            higher_threshold -= 0.01\n",
    "        if class_counts[0] > class_counts[-1]:\n",
    "            lowest_threshold += 0.01\n",
    "        if class_counts[0] < class_counts[1]:\n",
    "            higher_threshold += 0.01\n",
    "        if class_counts[0] < class_counts[-1]:\n",
    "            lowest_threshold -= 0.01\n",
    "\n",
    "        if higher_threshold in last_values_higher and lowest_threshold in last_values_lower:\n",
    "            break\n",
    "        df['class_column'] = df.apply((lambda x: create_class_column(x, lowest_threshold, higher_threshold)),\n",
    "                                          axis=1)\n",
    "    print(df['class_column'].value_counts())\n",
    "    return df\n",
    "\n",
    "\n",
    "data = create_class(data)\n",
    "\n",
    "data\n"
   ],
   "metadata": {
    "collapsed": false,
    "pycharm": {
     "name": "#%%\n"
    }
   }
  },
  {
   "cell_type": "code",
   "execution_count": 82,
   "outputs": [
    {
     "name": "stdout",
     "output_type": "stream",
     "text": [
      "C:\\Users\\exomat\\Desktop\\repo\\magisterka_analiza\\data\\results\\train_test\\AAPL_2y_8_diff_12_05_2021 00_52_20_full.csv\n"
     ]
    }
   ],
   "source": [
    "filename_to_export = f'C:\\\\Users\\\\exomat\\\\Desktop\\\\repo\\\\magisterka_analiza\\\\data\\\\results\\\\train_test\\\\{symbol}_{INTERVAL}_{WINDOW}_diff_{datetime.now().strftime(\"%d_%m_%Y %H_%M_%S\")}_full.csv'\n",
    "data.to_csv(filename_to_export, index=True)\n",
    "print(filename_to_export)"
   ],
   "metadata": {
    "collapsed": false,
    "pycharm": {
     "name": "#%%\n"
    }
   }
  },
  {
   "cell_type": "code",
   "execution_count": 83,
   "outputs": [
    {
     "data": {
      "text/plain": " 1    2796\n-1    2712\n 0    2699\nName: class_column, dtype: int64"
     },
     "execution_count": 83,
     "metadata": {},
     "output_type": "execute_result"
    }
   ],
   "source": [
    "\n",
    "# Class divide\n",
    "data['class_column'].value_counts()"
   ],
   "metadata": {
    "collapsed": false,
    "pycharm": {
     "name": "#%%\n"
    }
   }
  },
  {
   "cell_type": "code",
   "execution_count": 84,
   "outputs": [],
   "source": [
    "# del (data['close'])\n",
    "# del (data['close_shift'])\n",
    "data = data.dropna()"
   ],
   "metadata": {
    "collapsed": false,
    "pycharm": {
     "name": "#%%\n"
    }
   }
  },
  {
   "cell_type": "code",
   "execution_count": 85,
   "outputs": [
    {
     "data": {
      "text/plain": " 1    2796\n-1    2711\n 0    2691\nName: class_column, dtype: int64"
     },
     "execution_count": 85,
     "metadata": {},
     "output_type": "execute_result"
    }
   ],
   "source": [
    "data['class_column'].value_counts()\n"
   ],
   "metadata": {
    "collapsed": false,
    "pycharm": {
     "name": "#%%\n"
    }
   }
  },
  {
   "cell_type": "code",
   "execution_count": 86,
   "outputs": [],
   "source": [
    "def split_dataframe(df, chunk_size = 17):\n",
    "    chunks = list()\n",
    "    num_chunks = len(df) // chunk_size + 1\n",
    "    for i in range(num_chunks):\n",
    "        chunks.append(df[i*chunk_size:(i+1)*chunk_size])\n",
    "    return chunks\n",
    "\n",
    "def train_model(model,train_x, train_y):\n",
    "    model.fit(train_x, train_y)"
   ],
   "metadata": {
    "collapsed": false,
    "pycharm": {
     "name": "#%%\n"
    }
   }
  },
  {
   "cell_type": "code",
   "execution_count": 87,
   "outputs": [
    {
     "data": {
      "text/plain": "483"
     },
     "execution_count": 87,
     "metadata": {},
     "output_type": "execute_result"
    }
   ],
   "source": [
    "splited_dataframe = split_dataframe(data, 17)\n",
    "len(splited_dataframe)"
   ],
   "metadata": {
    "collapsed": false,
    "pycharm": {
     "name": "#%%\n"
    }
   }
  },
  {
   "cell_type": "code",
   "execution_count": 88,
   "outputs": [],
   "source": [
    "y = data['class_column']\n",
    "features = [x for x in data.columns if x not in ['class_column', 'close_shift']]\n",
    "x = data[features]\n",
    "scaler = MinMaxScaler()\n",
    "# x = pd.DataFrame(scaler.fit_transform(x.values), columns=x.columns, index=x.index)\n",
    "x_train,x_test,y_train,y_test = train_test_split(x, y, test_size=0.1, shuffle=False)"
   ],
   "metadata": {
    "collapsed": false,
    "pycharm": {
     "name": "#%%\n"
    }
   }
  },
  {
   "cell_type": "code",
   "execution_count": 89,
   "outputs": [],
   "source": [
    "classifiers = dict()\n",
    "\n",
    "classifiers['DecisionTreeClassifier 1'] = DecisionTreeClassifier(max_depth=10, random_state=0,criterion='gini',splitter='best')\n",
    "classifiers['DecisionTreeClassifier 2'] = DecisionTreeClassifier(max_depth=10, random_state=0,criterion='gini',splitter='random')\n",
    "classifiers['DecisionTreeClassifier 3'] = DecisionTreeClassifier(max_depth=10, random_state=0,criterion='entropy',splitter='best')\n",
    "classifiers['RandomForestClassifier 4'] = RandomForestClassifier(n_estimators=1000, max_depth=3, random_state=0,criterion='gini', n_jobs = -1)\n",
    "classifiers['RandomForestClassifier 5'] = RandomForestClassifier(n_estimators=100, max_depth=2, random_state=0,criterion='entropy', n_jobs = -1)\n",
    "classifiers['GradientBoostingClassifier 1'] = GradientBoostingClassifier(n_estimators=100,random_state=0,criterion='friedman_mse',max_depth=3, learning_rate=0.1)\n",
    "classifiers['GradientBoostingClassifier 2'] = GradientBoostingClassifier(n_estimators=1000,random_state=0,criterion='friedman_mse',max_depth=3, learning_rate=0.1)\n",
    "classifiers['XGBClassifier'] = xgb.XGBClassifier(nthread =-1,max_depth=10,n_estimators=1000, eta =0.2)\n",
    "classifiers['XGBRFClassifier'] = xgb.sklearn.XGBRFClassifier(n_jobs=-1,max_depth=12,n_estimators =100,eta=0.4)\n",
    "classifiers_boosted = dict()\n",
    "classifiers_boosted['GradientBoostingClassifier 1S'] = GradientBoostingClassifier(n_estimators=100,random_state=0,criterion='friedman_mse',max_depth=3, learning_rate=0.1)\n",
    "classifiers_boosted['GradientBoostingClassifier 2S'] = GradientBoostingClassifier(n_estimators=1000,random_state=0,criterion='friedman_mse',max_depth=3, learning_rate=0.3)\n",
    "classifiers_boosted['GradientBoostingClassifier 3S'] = GradientBoostingClassifier(n_estimators=1000,random_state=0,criterion='friedman_mse',max_depth=2, learning_rate=0.5)\n",
    "classifiers_boosted['GradientBoostingClassifier 4S'] = GradientBoostingClassifier(n_estimators=1000,random_state=0,criterion='friedman_mse',max_depth=2, learning_rate=0.8)\n",
    "\n"
   ],
   "metadata": {
    "collapsed": false,
    "pycharm": {
     "name": "#%%\n"
    }
   }
  },
  {
   "cell_type": "code",
   "execution_count": 90,
   "outputs": [
    {
     "name": "stdout",
     "output_type": "stream",
     "text": [
      "start\n",
      " 1    573\n",
      "-1    572\n",
      " 0    572\n",
      "Name: class_column, dtype: int64\n",
      " 1    573\n",
      "-1    572\n",
      " 0    572\n",
      "Name: class_column, dtype: int64\n",
      "1717\n",
      "Calculate:  DecisionTreeClassifier 1\n",
      "Calculate:  DecisionTreeClassifier 2\n",
      "Calculate:  DecisionTreeClassifier 3\n",
      "Calculate:  RandomForestClassifier 4\n",
      "Calculate:  RandomForestClassifier 5\n",
      "Calculate:  GradientBoostingClassifier 1\n",
      "Calculate:  GradientBoostingClassifier 2\n",
      "Calculate:  XGBClassifier\n",
      "[00:53:55] WARNING: C:/Users/Administrator/workspace/xgboost-win64_release_1.3.0/src/learner.cc:1061: Starting in XGBoost 1.3.0, the default evaluation metric used with the objective 'multi:softprob' was changed from 'merror' to 'mlogloss'. Explicitly set eval_metric if you'd like to restore the old behavior.\n"
     ]
    },
    {
     "name": "stderr",
     "output_type": "stream",
     "text": [
      "C:\\Users\\exomat\\anaconda3\\envs\\magisterka_analiza\\lib\\site-packages\\xgboost\\sklearn.py:888: UserWarning: The use of label encoder in XGBClassifier is deprecated and will be removed in a future release. To remove this warning, do the following: 1) Pass option use_label_encoder=False when constructing XGBClassifier object; and 2) Encode your labels (y) as integers starting with 0, i.e. 0, 1, 2, ..., [num_class - 1].\n",
      "  warnings.warn(label_encoder_deprecation_msg, UserWarning)\n"
     ]
    },
    {
     "name": "stdout",
     "output_type": "stream",
     "text": [
      "Calculate:  XGBRFClassifier\n",
      "[00:54:01] WARNING: C:/Users/Administrator/workspace/xgboost-win64_release_1.3.0/src/learner.cc:1061: Starting in XGBoost 1.3.0, the default evaluation metric used with the objective 'multi:softprob' was changed from 'merror' to 'mlogloss'. Explicitly set eval_metric if you'd like to restore the old behavior.\n"
     ]
    },
    {
     "name": "stderr",
     "output_type": "stream",
     "text": [
      "C:\\Users\\exomat\\anaconda3\\envs\\magisterka_analiza\\lib\\site-packages\\sklearn\\utils\\validation.py:67: FutureWarning: Pass n_features_to_select=10 as keyword args. From version 0.25 passing these as positional arguments will result in an error\n",
      "  warnings.warn(\"Pass {} as keyword args. From version 0.25 \"\n"
     ]
    },
    {
     "name": "stdout",
     "output_type": "stream",
     "text": [
      "Columns with predictive power: ['volume_adi', 'volatility_bbw', 'volatility_kcw', 'volatility_dcw', 'trend_macd_signal', 'trend_ema_slow', 'trend_kst_sig', 'trend_visual_ichimoku_a', 'trend_stc', 'close_shift']\n",
      "Calculate:  GradientBoostingClassifier 1S\n",
      "Calculate:  GradientBoostingClassifier 2S\n",
      "Calculate:  GradientBoostingClassifier 3S\n",
      "Calculate:  GradientBoostingClassifier 4S\n",
      " 1    598\n",
      "-1    574\n",
      " 0    562\n",
      "Name: class_column, dtype: int64\n",
      " 1    598\n",
      "-1    574\n",
      " 0    562\n",
      "Name: class_column, dtype: int64\n",
      "1734\n",
      "Calculate:  DecisionTreeClassifier 1\n",
      "Calculate:  DecisionTreeClassifier 2\n",
      "Calculate:  DecisionTreeClassifier 3\n",
      "Calculate:  RandomForestClassifier 4\n",
      "Calculate:  RandomForestClassifier 5\n",
      "Calculate:  GradientBoostingClassifier 1\n",
      "Calculate:  GradientBoostingClassifier 2\n",
      "Calculate:  XGBClassifier\n",
      "[00:56:28] WARNING: C:/Users/Administrator/workspace/xgboost-win64_release_1.3.0/src/learner.cc:1061: Starting in XGBoost 1.3.0, the default evaluation metric used with the objective 'multi:softprob' was changed from 'merror' to 'mlogloss'. Explicitly set eval_metric if you'd like to restore the old behavior.\n"
     ]
    },
    {
     "name": "stderr",
     "output_type": "stream",
     "text": [
      "C:\\Users\\exomat\\anaconda3\\envs\\magisterka_analiza\\lib\\site-packages\\xgboost\\sklearn.py:888: UserWarning: The use of label encoder in XGBClassifier is deprecated and will be removed in a future release. To remove this warning, do the following: 1) Pass option use_label_encoder=False when constructing XGBClassifier object; and 2) Encode your labels (y) as integers starting with 0, i.e. 0, 1, 2, ..., [num_class - 1].\n",
      "  warnings.warn(label_encoder_deprecation_msg, UserWarning)\n"
     ]
    },
    {
     "name": "stdout",
     "output_type": "stream",
     "text": [
      "Calculate:  XGBRFClassifier\n",
      "[00:56:35] WARNING: C:/Users/Administrator/workspace/xgboost-win64_release_1.3.0/src/learner.cc:1061: Starting in XGBoost 1.3.0, the default evaluation metric used with the objective 'multi:softprob' was changed from 'merror' to 'mlogloss'. Explicitly set eval_metric if you'd like to restore the old behavior.\n"
     ]
    },
    {
     "name": "stderr",
     "output_type": "stream",
     "text": [
      "C:\\Users\\exomat\\anaconda3\\envs\\magisterka_analiza\\lib\\site-packages\\sklearn\\utils\\validation.py:67: FutureWarning: Pass n_features_to_select=10 as keyword args. From version 0.25 passing these as positional arguments will result in an error\n",
      "  warnings.warn(\"Pass {} as keyword args. From version 0.25 \"\n"
     ]
    },
    {
     "name": "stdout",
     "output_type": "stream",
     "text": [
      "Columns with predictive power: ['volume_adi', 'volume_cmf', 'volatility_bbw', 'volatility_dcw', 'trend_macd_signal', 'trend_ema_slow', 'trend_kst_sig', 'trend_visual_ichimoku_a', 'trend_stc', 'close_shift']\n",
      "Calculate:  GradientBoostingClassifier 1S\n",
      "Calculate:  GradientBoostingClassifier 2S\n",
      "Calculate:  GradientBoostingClassifier 3S\n",
      "Calculate:  GradientBoostingClassifier 4S\n",
      " 1    593\n",
      " 0    584\n",
      "-1    574\n",
      "Name: class_column, dtype: int64\n",
      " 1    593\n",
      " 0    584\n",
      "-1    574\n",
      "Name: class_column, dtype: int64\n",
      "1751\n",
      "Calculate:  DecisionTreeClassifier 1\n",
      "Calculate:  DecisionTreeClassifier 2\n",
      "Calculate:  DecisionTreeClassifier 3\n",
      "Calculate:  RandomForestClassifier 4\n",
      "Calculate:  RandomForestClassifier 5\n",
      "Calculate:  GradientBoostingClassifier 1\n",
      "Calculate:  GradientBoostingClassifier 2\n",
      "Calculate:  XGBClassifier\n",
      "[00:59:07] WARNING: C:/Users/Administrator/workspace/xgboost-win64_release_1.3.0/src/learner.cc:1061: Starting in XGBoost 1.3.0, the default evaluation metric used with the objective 'multi:softprob' was changed from 'merror' to 'mlogloss'. Explicitly set eval_metric if you'd like to restore the old behavior.\n"
     ]
    },
    {
     "name": "stderr",
     "output_type": "stream",
     "text": [
      "C:\\Users\\exomat\\anaconda3\\envs\\magisterka_analiza\\lib\\site-packages\\xgboost\\sklearn.py:888: UserWarning: The use of label encoder in XGBClassifier is deprecated and will be removed in a future release. To remove this warning, do the following: 1) Pass option use_label_encoder=False when constructing XGBClassifier object; and 2) Encode your labels (y) as integers starting with 0, i.e. 0, 1, 2, ..., [num_class - 1].\n",
      "  warnings.warn(label_encoder_deprecation_msg, UserWarning)\n"
     ]
    },
    {
     "name": "stdout",
     "output_type": "stream",
     "text": [
      "Calculate:  XGBRFClassifier\n",
      "[00:59:13] WARNING: C:/Users/Administrator/workspace/xgboost-win64_release_1.3.0/src/learner.cc:1061: Starting in XGBoost 1.3.0, the default evaluation metric used with the objective 'multi:softprob' was changed from 'merror' to 'mlogloss'. Explicitly set eval_metric if you'd like to restore the old behavior.\n"
     ]
    },
    {
     "name": "stderr",
     "output_type": "stream",
     "text": [
      "C:\\Users\\exomat\\anaconda3\\envs\\magisterka_analiza\\lib\\site-packages\\sklearn\\utils\\validation.py:67: FutureWarning: Pass n_features_to_select=10 as keyword args. From version 0.25 passing these as positional arguments will result in an error\n",
      "  warnings.warn(\"Pass {} as keyword args. From version 0.25 \"\n"
     ]
    },
    {
     "name": "stdout",
     "output_type": "stream",
     "text": [
      "Columns with predictive power: ['volume_adi', 'volatility_bbw', 'volatility_kcw', 'volatility_dcw', 'trend_trix', 'trend_kst', 'trend_kst_sig', 'trend_visual_ichimoku_a', 'trend_stc', 'close_shift']\n",
      "Calculate:  GradientBoostingClassifier 1S\n",
      "Calculate:  GradientBoostingClassifier 2S\n",
      "Calculate:  GradientBoostingClassifier 3S\n",
      "Calculate:  GradientBoostingClassifier 4S\n",
      "-1    603\n",
      " 1    596\n",
      " 0    569\n",
      "Name: class_column, dtype: int64\n",
      "-1    603\n",
      " 1    596\n",
      " 0    569\n",
      "Name: class_column, dtype: int64\n",
      "1768\n",
      "Calculate:  DecisionTreeClassifier 1\n",
      "Calculate:  DecisionTreeClassifier 2\n",
      "Calculate:  DecisionTreeClassifier 3\n",
      "Calculate:  RandomForestClassifier 4\n",
      "Calculate:  RandomForestClassifier 5\n",
      "Calculate:  GradientBoostingClassifier 1\n",
      "Calculate:  GradientBoostingClassifier 2\n",
      "Calculate:  XGBClassifier\n",
      "[01:01:44] WARNING: C:/Users/Administrator/workspace/xgboost-win64_release_1.3.0/src/learner.cc:1061: Starting in XGBoost 1.3.0, the default evaluation metric used with the objective 'multi:softprob' was changed from 'merror' to 'mlogloss'. Explicitly set eval_metric if you'd like to restore the old behavior.\n"
     ]
    },
    {
     "name": "stderr",
     "output_type": "stream",
     "text": [
      "C:\\Users\\exomat\\anaconda3\\envs\\magisterka_analiza\\lib\\site-packages\\xgboost\\sklearn.py:888: UserWarning: The use of label encoder in XGBClassifier is deprecated and will be removed in a future release. To remove this warning, do the following: 1) Pass option use_label_encoder=False when constructing XGBClassifier object; and 2) Encode your labels (y) as integers starting with 0, i.e. 0, 1, 2, ..., [num_class - 1].\n",
      "  warnings.warn(label_encoder_deprecation_msg, UserWarning)\n"
     ]
    },
    {
     "name": "stdout",
     "output_type": "stream",
     "text": [
      "Calculate:  XGBRFClassifier\n",
      "[01:01:51] WARNING: C:/Users/Administrator/workspace/xgboost-win64_release_1.3.0/src/learner.cc:1061: Starting in XGBoost 1.3.0, the default evaluation metric used with the objective 'multi:softprob' was changed from 'merror' to 'mlogloss'. Explicitly set eval_metric if you'd like to restore the old behavior.\n"
     ]
    },
    {
     "name": "stderr",
     "output_type": "stream",
     "text": [
      "C:\\Users\\exomat\\anaconda3\\envs\\magisterka_analiza\\lib\\site-packages\\sklearn\\utils\\validation.py:67: FutureWarning: Pass n_features_to_select=10 as keyword args. From version 0.25 passing these as positional arguments will result in an error\n",
      "  warnings.warn(\"Pass {} as keyword args. From version 0.25 \"\n"
     ]
    },
    {
     "ename": "KeyboardInterrupt",
     "evalue": "",
     "output_type": "error",
     "traceback": [
      "\u001B[1;31m---------------------------------------------------------------------------\u001B[0m",
      "\u001B[1;31mKeyboardInterrupt\u001B[0m                         Traceback (most recent call last)",
      "\u001B[1;32m<ipython-input-90-3b6af9523190>\u001B[0m in \u001B[0;36m<module>\u001B[1;34m\u001B[0m\n\u001B[0;32m     35\u001B[0m \u001B[1;33m\u001B[0m\u001B[0m\n\u001B[0;32m     36\u001B[0m     \u001B[0mrfe\u001B[0m \u001B[1;33m=\u001B[0m \u001B[0mRFE\u001B[0m\u001B[1;33m(\u001B[0m\u001B[0mclassifiers\u001B[0m\u001B[1;33m[\u001B[0m\u001B[1;34m'RandomForestClassifier 5'\u001B[0m\u001B[1;33m]\u001B[0m\u001B[1;33m,\u001B[0m\u001B[1;36m10\u001B[0m\u001B[1;33m)\u001B[0m\u001B[1;33m\u001B[0m\u001B[1;33m\u001B[0m\u001B[0m\n\u001B[1;32m---> 37\u001B[1;33m     \u001B[0mfited\u001B[0m \u001B[1;33m=\u001B[0m \u001B[0mrfe\u001B[0m\u001B[1;33m.\u001B[0m\u001B[0mfit\u001B[0m\u001B[1;33m(\u001B[0m\u001B[0mx_train\u001B[0m\u001B[1;33m,\u001B[0m \u001B[0my_train\u001B[0m\u001B[1;33m)\u001B[0m\u001B[1;33m\u001B[0m\u001B[1;33m\u001B[0m\u001B[0m\n\u001B[0m\u001B[0;32m     38\u001B[0m     \u001B[0mnames\u001B[0m \u001B[1;33m=\u001B[0m \u001B[0mx\u001B[0m\u001B[1;33m.\u001B[0m\u001B[0mcolumns\u001B[0m\u001B[1;33m\u001B[0m\u001B[1;33m\u001B[0m\u001B[0m\n\u001B[0;32m     39\u001B[0m     \u001B[0mcolumns\u001B[0m\u001B[1;33m=\u001B[0m\u001B[1;33m[\u001B[0m\u001B[1;33m]\u001B[0m\u001B[1;33m\u001B[0m\u001B[1;33m\u001B[0m\u001B[0m\n",
      "\u001B[1;32m~\\anaconda3\\envs\\magisterka_analiza\\lib\\site-packages\\sklearn\\feature_selection\\_rfe.py\u001B[0m in \u001B[0;36mfit\u001B[1;34m(self, X, y)\u001B[0m\n\u001B[0;32m    149\u001B[0m             \u001B[0mThe\u001B[0m \u001B[0mtarget\u001B[0m \u001B[0mvalues\u001B[0m\u001B[1;33m.\u001B[0m\u001B[1;33m\u001B[0m\u001B[1;33m\u001B[0m\u001B[0m\n\u001B[0;32m    150\u001B[0m         \"\"\"\n\u001B[1;32m--> 151\u001B[1;33m         \u001B[1;32mreturn\u001B[0m \u001B[0mself\u001B[0m\u001B[1;33m.\u001B[0m\u001B[0m_fit\u001B[0m\u001B[1;33m(\u001B[0m\u001B[0mX\u001B[0m\u001B[1;33m,\u001B[0m \u001B[0my\u001B[0m\u001B[1;33m)\u001B[0m\u001B[1;33m\u001B[0m\u001B[1;33m\u001B[0m\u001B[0m\n\u001B[0m\u001B[0;32m    152\u001B[0m \u001B[1;33m\u001B[0m\u001B[0m\n\u001B[0;32m    153\u001B[0m     \u001B[1;32mdef\u001B[0m \u001B[0m_fit\u001B[0m\u001B[1;33m(\u001B[0m\u001B[0mself\u001B[0m\u001B[1;33m,\u001B[0m \u001B[0mX\u001B[0m\u001B[1;33m,\u001B[0m \u001B[0my\u001B[0m\u001B[1;33m,\u001B[0m \u001B[0mstep_score\u001B[0m\u001B[1;33m=\u001B[0m\u001B[1;32mNone\u001B[0m\u001B[1;33m)\u001B[0m\u001B[1;33m:\u001B[0m\u001B[1;33m\u001B[0m\u001B[1;33m\u001B[0m\u001B[0m\n",
      "\u001B[1;32m~\\anaconda3\\envs\\magisterka_analiza\\lib\\site-packages\\sklearn\\feature_selection\\_rfe.py\u001B[0m in \u001B[0;36m_fit\u001B[1;34m(self, X, y, step_score)\u001B[0m\n\u001B[0;32m    194\u001B[0m                 \u001B[0mprint\u001B[0m\u001B[1;33m(\u001B[0m\u001B[1;34m\"Fitting estimator with %d features.\"\u001B[0m \u001B[1;33m%\u001B[0m \u001B[0mnp\u001B[0m\u001B[1;33m.\u001B[0m\u001B[0msum\u001B[0m\u001B[1;33m(\u001B[0m\u001B[0msupport_\u001B[0m\u001B[1;33m)\u001B[0m\u001B[1;33m)\u001B[0m\u001B[1;33m\u001B[0m\u001B[1;33m\u001B[0m\u001B[0m\n\u001B[0;32m    195\u001B[0m \u001B[1;33m\u001B[0m\u001B[0m\n\u001B[1;32m--> 196\u001B[1;33m             \u001B[0mestimator\u001B[0m\u001B[1;33m.\u001B[0m\u001B[0mfit\u001B[0m\u001B[1;33m(\u001B[0m\u001B[0mX\u001B[0m\u001B[1;33m[\u001B[0m\u001B[1;33m:\u001B[0m\u001B[1;33m,\u001B[0m \u001B[0mfeatures\u001B[0m\u001B[1;33m]\u001B[0m\u001B[1;33m,\u001B[0m \u001B[0my\u001B[0m\u001B[1;33m)\u001B[0m\u001B[1;33m\u001B[0m\u001B[1;33m\u001B[0m\u001B[0m\n\u001B[0m\u001B[0;32m    197\u001B[0m \u001B[1;33m\u001B[0m\u001B[0m\n\u001B[0;32m    198\u001B[0m             \u001B[1;31m# Get coefs\u001B[0m\u001B[1;33m\u001B[0m\u001B[1;33m\u001B[0m\u001B[1;33m\u001B[0m\u001B[0m\n",
      "\u001B[1;32m~\\anaconda3\\envs\\magisterka_analiza\\lib\\site-packages\\sklearn\\ensemble\\_forest.py\u001B[0m in \u001B[0;36mfit\u001B[1;34m(self, X, y, sample_weight)\u001B[0m\n\u001B[0;32m    384\u001B[0m             \u001B[1;31m# parallel_backend contexts set at a higher level,\u001B[0m\u001B[1;33m\u001B[0m\u001B[1;33m\u001B[0m\u001B[1;33m\u001B[0m\u001B[0m\n\u001B[0;32m    385\u001B[0m             \u001B[1;31m# since correctness does not rely on using threads.\u001B[0m\u001B[1;33m\u001B[0m\u001B[1;33m\u001B[0m\u001B[1;33m\u001B[0m\u001B[0m\n\u001B[1;32m--> 386\u001B[1;33m             trees = Parallel(n_jobs=self.n_jobs, verbose=self.verbose,\n\u001B[0m\u001B[0;32m    387\u001B[0m                              \u001B[1;33m**\u001B[0m\u001B[0m_joblib_parallel_args\u001B[0m\u001B[1;33m(\u001B[0m\u001B[0mprefer\u001B[0m\u001B[1;33m=\u001B[0m\u001B[1;34m'threads'\u001B[0m\u001B[1;33m)\u001B[0m\u001B[1;33m)\u001B[0m\u001B[1;33m(\u001B[0m\u001B[1;33m\u001B[0m\u001B[1;33m\u001B[0m\u001B[0m\n\u001B[0;32m    388\u001B[0m                 delayed(_parallel_build_trees)(\n",
      "\u001B[1;32m~\\anaconda3\\envs\\magisterka_analiza\\lib\\site-packages\\joblib\\parallel.py\u001B[0m in \u001B[0;36m__call__\u001B[1;34m(self, iterable)\u001B[0m\n\u001B[0;32m   1052\u001B[0m \u001B[1;33m\u001B[0m\u001B[0m\n\u001B[0;32m   1053\u001B[0m             \u001B[1;32mwith\u001B[0m \u001B[0mself\u001B[0m\u001B[1;33m.\u001B[0m\u001B[0m_backend\u001B[0m\u001B[1;33m.\u001B[0m\u001B[0mretrieval_context\u001B[0m\u001B[1;33m(\u001B[0m\u001B[1;33m)\u001B[0m\u001B[1;33m:\u001B[0m\u001B[1;33m\u001B[0m\u001B[1;33m\u001B[0m\u001B[0m\n\u001B[1;32m-> 1054\u001B[1;33m                 \u001B[0mself\u001B[0m\u001B[1;33m.\u001B[0m\u001B[0mretrieve\u001B[0m\u001B[1;33m(\u001B[0m\u001B[1;33m)\u001B[0m\u001B[1;33m\u001B[0m\u001B[1;33m\u001B[0m\u001B[0m\n\u001B[0m\u001B[0;32m   1055\u001B[0m             \u001B[1;31m# Make sure that we get a last message telling us we are done\u001B[0m\u001B[1;33m\u001B[0m\u001B[1;33m\u001B[0m\u001B[1;33m\u001B[0m\u001B[0m\n\u001B[0;32m   1056\u001B[0m             \u001B[0melapsed_time\u001B[0m \u001B[1;33m=\u001B[0m \u001B[0mtime\u001B[0m\u001B[1;33m.\u001B[0m\u001B[0mtime\u001B[0m\u001B[1;33m(\u001B[0m\u001B[1;33m)\u001B[0m \u001B[1;33m-\u001B[0m \u001B[0mself\u001B[0m\u001B[1;33m.\u001B[0m\u001B[0m_start_time\u001B[0m\u001B[1;33m\u001B[0m\u001B[1;33m\u001B[0m\u001B[0m\n",
      "\u001B[1;32m~\\anaconda3\\envs\\magisterka_analiza\\lib\\site-packages\\joblib\\parallel.py\u001B[0m in \u001B[0;36mretrieve\u001B[1;34m(self)\u001B[0m\n\u001B[0;32m    931\u001B[0m             \u001B[1;32mtry\u001B[0m\u001B[1;33m:\u001B[0m\u001B[1;33m\u001B[0m\u001B[1;33m\u001B[0m\u001B[0m\n\u001B[0;32m    932\u001B[0m                 \u001B[1;32mif\u001B[0m \u001B[0mgetattr\u001B[0m\u001B[1;33m(\u001B[0m\u001B[0mself\u001B[0m\u001B[1;33m.\u001B[0m\u001B[0m_backend\u001B[0m\u001B[1;33m,\u001B[0m \u001B[1;34m'supports_timeout'\u001B[0m\u001B[1;33m,\u001B[0m \u001B[1;32mFalse\u001B[0m\u001B[1;33m)\u001B[0m\u001B[1;33m:\u001B[0m\u001B[1;33m\u001B[0m\u001B[1;33m\u001B[0m\u001B[0m\n\u001B[1;32m--> 933\u001B[1;33m                     \u001B[0mself\u001B[0m\u001B[1;33m.\u001B[0m\u001B[0m_output\u001B[0m\u001B[1;33m.\u001B[0m\u001B[0mextend\u001B[0m\u001B[1;33m(\u001B[0m\u001B[0mjob\u001B[0m\u001B[1;33m.\u001B[0m\u001B[0mget\u001B[0m\u001B[1;33m(\u001B[0m\u001B[0mtimeout\u001B[0m\u001B[1;33m=\u001B[0m\u001B[0mself\u001B[0m\u001B[1;33m.\u001B[0m\u001B[0mtimeout\u001B[0m\u001B[1;33m)\u001B[0m\u001B[1;33m)\u001B[0m\u001B[1;33m\u001B[0m\u001B[1;33m\u001B[0m\u001B[0m\n\u001B[0m\u001B[0;32m    934\u001B[0m                 \u001B[1;32melse\u001B[0m\u001B[1;33m:\u001B[0m\u001B[1;33m\u001B[0m\u001B[1;33m\u001B[0m\u001B[0m\n\u001B[0;32m    935\u001B[0m                     \u001B[0mself\u001B[0m\u001B[1;33m.\u001B[0m\u001B[0m_output\u001B[0m\u001B[1;33m.\u001B[0m\u001B[0mextend\u001B[0m\u001B[1;33m(\u001B[0m\u001B[0mjob\u001B[0m\u001B[1;33m.\u001B[0m\u001B[0mget\u001B[0m\u001B[1;33m(\u001B[0m\u001B[1;33m)\u001B[0m\u001B[1;33m)\u001B[0m\u001B[1;33m\u001B[0m\u001B[1;33m\u001B[0m\u001B[0m\n",
      "\u001B[1;32m~\\anaconda3\\envs\\magisterka_analiza\\lib\\multiprocessing\\pool.py\u001B[0m in \u001B[0;36mget\u001B[1;34m(self, timeout)\u001B[0m\n\u001B[0;32m    763\u001B[0m \u001B[1;33m\u001B[0m\u001B[0m\n\u001B[0;32m    764\u001B[0m     \u001B[1;32mdef\u001B[0m \u001B[0mget\u001B[0m\u001B[1;33m(\u001B[0m\u001B[0mself\u001B[0m\u001B[1;33m,\u001B[0m \u001B[0mtimeout\u001B[0m\u001B[1;33m=\u001B[0m\u001B[1;32mNone\u001B[0m\u001B[1;33m)\u001B[0m\u001B[1;33m:\u001B[0m\u001B[1;33m\u001B[0m\u001B[1;33m\u001B[0m\u001B[0m\n\u001B[1;32m--> 765\u001B[1;33m         \u001B[0mself\u001B[0m\u001B[1;33m.\u001B[0m\u001B[0mwait\u001B[0m\u001B[1;33m(\u001B[0m\u001B[0mtimeout\u001B[0m\u001B[1;33m)\u001B[0m\u001B[1;33m\u001B[0m\u001B[1;33m\u001B[0m\u001B[0m\n\u001B[0m\u001B[0;32m    766\u001B[0m         \u001B[1;32mif\u001B[0m \u001B[1;32mnot\u001B[0m \u001B[0mself\u001B[0m\u001B[1;33m.\u001B[0m\u001B[0mready\u001B[0m\u001B[1;33m(\u001B[0m\u001B[1;33m)\u001B[0m\u001B[1;33m:\u001B[0m\u001B[1;33m\u001B[0m\u001B[1;33m\u001B[0m\u001B[0m\n\u001B[0;32m    767\u001B[0m             \u001B[1;32mraise\u001B[0m \u001B[0mTimeoutError\u001B[0m\u001B[1;33m\u001B[0m\u001B[1;33m\u001B[0m\u001B[0m\n",
      "\u001B[1;32m~\\anaconda3\\envs\\magisterka_analiza\\lib\\multiprocessing\\pool.py\u001B[0m in \u001B[0;36mwait\u001B[1;34m(self, timeout)\u001B[0m\n\u001B[0;32m    760\u001B[0m \u001B[1;33m\u001B[0m\u001B[0m\n\u001B[0;32m    761\u001B[0m     \u001B[1;32mdef\u001B[0m \u001B[0mwait\u001B[0m\u001B[1;33m(\u001B[0m\u001B[0mself\u001B[0m\u001B[1;33m,\u001B[0m \u001B[0mtimeout\u001B[0m\u001B[1;33m=\u001B[0m\u001B[1;32mNone\u001B[0m\u001B[1;33m)\u001B[0m\u001B[1;33m:\u001B[0m\u001B[1;33m\u001B[0m\u001B[1;33m\u001B[0m\u001B[0m\n\u001B[1;32m--> 762\u001B[1;33m         \u001B[0mself\u001B[0m\u001B[1;33m.\u001B[0m\u001B[0m_event\u001B[0m\u001B[1;33m.\u001B[0m\u001B[0mwait\u001B[0m\u001B[1;33m(\u001B[0m\u001B[0mtimeout\u001B[0m\u001B[1;33m)\u001B[0m\u001B[1;33m\u001B[0m\u001B[1;33m\u001B[0m\u001B[0m\n\u001B[0m\u001B[0;32m    763\u001B[0m \u001B[1;33m\u001B[0m\u001B[0m\n\u001B[0;32m    764\u001B[0m     \u001B[1;32mdef\u001B[0m \u001B[0mget\u001B[0m\u001B[1;33m(\u001B[0m\u001B[0mself\u001B[0m\u001B[1;33m,\u001B[0m \u001B[0mtimeout\u001B[0m\u001B[1;33m=\u001B[0m\u001B[1;32mNone\u001B[0m\u001B[1;33m)\u001B[0m\u001B[1;33m:\u001B[0m\u001B[1;33m\u001B[0m\u001B[1;33m\u001B[0m\u001B[0m\n",
      "\u001B[1;32m~\\anaconda3\\envs\\magisterka_analiza\\lib\\threading.py\u001B[0m in \u001B[0;36mwait\u001B[1;34m(self, timeout)\u001B[0m\n\u001B[0;32m    556\u001B[0m             \u001B[0msignaled\u001B[0m \u001B[1;33m=\u001B[0m \u001B[0mself\u001B[0m\u001B[1;33m.\u001B[0m\u001B[0m_flag\u001B[0m\u001B[1;33m\u001B[0m\u001B[1;33m\u001B[0m\u001B[0m\n\u001B[0;32m    557\u001B[0m             \u001B[1;32mif\u001B[0m \u001B[1;32mnot\u001B[0m \u001B[0msignaled\u001B[0m\u001B[1;33m:\u001B[0m\u001B[1;33m\u001B[0m\u001B[1;33m\u001B[0m\u001B[0m\n\u001B[1;32m--> 558\u001B[1;33m                 \u001B[0msignaled\u001B[0m \u001B[1;33m=\u001B[0m \u001B[0mself\u001B[0m\u001B[1;33m.\u001B[0m\u001B[0m_cond\u001B[0m\u001B[1;33m.\u001B[0m\u001B[0mwait\u001B[0m\u001B[1;33m(\u001B[0m\u001B[0mtimeout\u001B[0m\u001B[1;33m)\u001B[0m\u001B[1;33m\u001B[0m\u001B[1;33m\u001B[0m\u001B[0m\n\u001B[0m\u001B[0;32m    559\u001B[0m             \u001B[1;32mreturn\u001B[0m \u001B[0msignaled\u001B[0m\u001B[1;33m\u001B[0m\u001B[1;33m\u001B[0m\u001B[0m\n\u001B[0;32m    560\u001B[0m \u001B[1;33m\u001B[0m\u001B[0m\n",
      "\u001B[1;32m~\\anaconda3\\envs\\magisterka_analiza\\lib\\threading.py\u001B[0m in \u001B[0;36mwait\u001B[1;34m(self, timeout)\u001B[0m\n\u001B[0;32m    300\u001B[0m         \u001B[1;32mtry\u001B[0m\u001B[1;33m:\u001B[0m    \u001B[1;31m# restore state no matter what (e.g., KeyboardInterrupt)\u001B[0m\u001B[1;33m\u001B[0m\u001B[1;33m\u001B[0m\u001B[0m\n\u001B[0;32m    301\u001B[0m             \u001B[1;32mif\u001B[0m \u001B[0mtimeout\u001B[0m \u001B[1;32mis\u001B[0m \u001B[1;32mNone\u001B[0m\u001B[1;33m:\u001B[0m\u001B[1;33m\u001B[0m\u001B[1;33m\u001B[0m\u001B[0m\n\u001B[1;32m--> 302\u001B[1;33m                 \u001B[0mwaiter\u001B[0m\u001B[1;33m.\u001B[0m\u001B[0macquire\u001B[0m\u001B[1;33m(\u001B[0m\u001B[1;33m)\u001B[0m\u001B[1;33m\u001B[0m\u001B[1;33m\u001B[0m\u001B[0m\n\u001B[0m\u001B[0;32m    303\u001B[0m                 \u001B[0mgotit\u001B[0m \u001B[1;33m=\u001B[0m \u001B[1;32mTrue\u001B[0m\u001B[1;33m\u001B[0m\u001B[1;33m\u001B[0m\u001B[0m\n\u001B[0;32m    304\u001B[0m             \u001B[1;32melse\u001B[0m\u001B[1;33m:\u001B[0m\u001B[1;33m\u001B[0m\u001B[1;33m\u001B[0m\u001B[0m\n",
      "\u001B[1;31mKeyboardInterrupt\u001B[0m: "
     ]
    }
   ],
   "source": [
    "start_data = splited_dataframe[:100]\n",
    "next_data = splited_dataframe[100:]\n",
    "score = defaultdict(list)\n",
    "score_train = defaultdict(list)\n",
    "step_headers = []\n",
    "i = 0\n",
    "print(\"start\")\n",
    "for idx, day in enumerate(next_data):\n",
    "    start_data.append(day)\n",
    "    data_set = pd.concat(start_data)\n",
    "    data_set = create_class(data_set)\n",
    "    print(data_set['class_column'].value_counts())\n",
    "    y = data_set['class_column']\n",
    "    features = [x for x in data_set.columns if x not in ['class_column']]\n",
    "    x = data_set[features]\n",
    "    x_train= x.iloc[:-17]\n",
    "    y_train= y.iloc[:-17]\n",
    "    x_test =x.iloc[-17:]\n",
    "    y_test=y.iloc[-17:]\n",
    "\n",
    "    print(len(data_set))\n",
    "\n",
    "    step_headers.append(f'<{i}>')\n",
    "    i= i +1\n",
    "    predictions_train= dict()\n",
    "    predictions= dict()\n",
    "\n",
    "    for k,v in classifiers.items():\n",
    "        print(\"Calculate: \", k)\n",
    "        train_model(v,x_train,y_train)\n",
    "        predictions_train[k] = v.predict(x_train)\n",
    "        score_train[k].append(accuracy_score(y_train.values, predictions_train[k]))\n",
    "        predictions[k] = v.predict(x_test)\n",
    "        score[k].append(accuracy_score(y_test.values, predictions[k]))\n",
    "\n",
    "    rfe = RFE(classifiers['RandomForestClassifier 5'],10)\n",
    "    fited = rfe.fit(x_train, y_train)\n",
    "    names = x.columns\n",
    "    columns=[]\n",
    "    for i in range(len(fited.support_)):\n",
    "        if fited.support_[i]:\n",
    "            columns.append(names[i])\n",
    "\n",
    "    print(\"Columns with predictive power:\", columns )\n",
    "    columns = columns + ['high', 'low', 'volume', 'open']\n",
    "    x_test_cropped = x_test[columns]\n",
    "    x_train_cropped = x_train[columns]\n",
    "    for k,v in classifiers_boosted.items():\n",
    "        print(\"Calculate: \", k)\n",
    "        train_model(v,x_train_cropped,y_train)\n",
    "        predictions_train[k] = v.predict(x_train_cropped)\n",
    "        score_train[k].append( accuracy_score(y_train.values, predictions_train[k]))\n",
    "        predictions[k] = v.predict(x_test_cropped)\n",
    "        score[k].append(accuracy_score(y_test.values, predictions[k]))\n",
    "\n",
    "\n"
   ],
   "metadata": {
    "collapsed": false,
    "pycharm": {
     "name": "#%%\n"
    }
   }
  },
  {
   "cell_type": "code",
   "execution_count": null,
   "outputs": [],
   "source": [
    "headers = [\"Classifier type\", \"Accuracy\"]\n",
    "score_df = pd.DataFrame(score.items(), columns=headers)\n",
    "# print(tabulate(score_df, headers, tablefmt=\"psql\"))\n",
    "headers2 = [\"Classifier type\",] + step_headers\n",
    "score_df = pd.DataFrame(score.items(), columns=headers)\n",
    "accuracy_df = pd.DataFrame(score_df['Accuracy'].tolist(), index= score_df.index, columns=step_headers)\n",
    "score_df = score_df.drop('Accuracy', 1)\n",
    "f_out = pd.merge(score_df, accuracy_df, how='left', left_index=True, right_index=True)\n",
    "f_out['mean'] = f_out.mean(axis=1)\n",
    "headers2 = headers2 + ['mean']\n",
    "print(tabulate(f_out,headers2 , tablefmt=\"psql\"))\n",
    "\n",
    "filename_to_export_train = f'C:\\\\Users\\\\exomat\\\\Desktop\\\\repo\\\\magisterka_analiza\\\\data\\\\results\\\\train_test\\\\result_test_{symbol}_{WINDOW}_{datetime.now().strftime(\"%d_%m_%Y %H_%M_%S\")}.csv'\n",
    "filename_to_export = f'C:\\\\Users\\\\exomat\\\\Desktop\\\\repo\\\\magisterka_analiza\\\\data\\\\results\\\\train_test\\\\result_train_{symbol}_{WINDOW}_{datetime.now().strftime(\"%d_%m_%Y %H_%M_%S\")}.csv'\n",
    "\n",
    "f_out.to_csv(filename_to_export, index=False)"
   ],
   "metadata": {
    "collapsed": false,
    "pycharm": {
     "name": "#%%\n"
    }
   }
  },
  {
   "cell_type": "code",
   "execution_count": null,
   "outputs": [],
   "source": [],
   "metadata": {
    "collapsed": false,
    "pycharm": {
     "name": "#%%\n"
    }
   }
  }
 ],
 "metadata": {
  "kernelspec": {
   "name": "magisterka_analiza",
   "language": "python",
   "display_name": "Python magisterka"
  },
  "language_info": {
   "codemirror_mode": {
    "name": "ipython",
    "version": 2
   },
   "file_extension": ".py",
   "mimetype": "text/x-python",
   "name": "python",
   "nbconvert_exporter": "python",
   "pygments_lexer": "ipython2",
   "version": "2.7.6"
  }
 },
 "nbformat": 4,
 "nbformat_minor": 0
}