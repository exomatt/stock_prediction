{
 "cells": [
  {
   "cell_type": "code",
   "execution_count": 199,
   "metadata": {
    "collapsed": true
   },
   "outputs": [],
   "source": [
    "from collections import defaultdict\n",
    "\n",
    "import yfinance as yf\n",
    "from datetime import datetime\n",
    "import pandas as pd\n",
    "import numpy as np\n",
    "import matplotlib.pyplot as plt\n",
    "from finta import TA\n",
    "import numpy as np\n",
    "from sklearn.ensemble import RandomForestClassifier, VotingClassifier\n",
    "from sklearn.model_selection import GridSearchCV, train_test_split\n",
    "from sklearn.preprocessing import MinMaxScaler\n",
    "from sklearn.tree import DecisionTreeClassifier\n",
    "from sklearn.ensemble import GradientBoostingClassifier\n",
    "from sklearn.metrics import confusion_matrix, classification_report, accuracy_score\n",
    "from sklearn.metrics import jaccard_score\n",
    "import seaborn as sn\n",
    "from tabulate import tabulate\n",
    "from xgboost import XGBClassifier\n",
    "from ta import add_all_ta_features\n",
    "from sklearn.feature_selection import RFE\n",
    "import xgboost as xgb"
   ]
  },
  {
   "cell_type": "code",
   "execution_count": 200,
   "outputs": [],
   "source": [
    "WINDOW = 8 # number of rows to look ahead to see what the price did\n",
    "FETCH_INTERVAL = \"60m\"  # fetch data by interval (including intraday if period < 60 days)\n",
    "        # valid intervals: 1m,2m,5m,15m,30m,60m,90m,1h,1d,5d,1wk,1mo,3mo\n",
    "        # (optional, default is '1d')\n",
    "INTERVAL = '1y'     # use \"period\" instead of start/end\n",
    "        # valid periods: 1d,5d,1mo,3mo,6mo,1y,2y,5y,10y,ytd,max\n",
    "        # (optional, default is '1mo')\n",
    "symbol = 'AAPL'      # Symbol of the desired stock\n",
    "\n",
    "# one day 16 rows of data"
   ],
   "metadata": {
    "collapsed": false,
    "pycharm": {
     "name": "#%%\n"
    }
   }
  },
  {
   "cell_type": "code",
   "execution_count": 201,
   "outputs": [
    {
     "name": "stdout",
     "output_type": "stream",
     "text": [
      "[*********************100%***********************]  1 of 1 completed\n"
     ]
    },
    {
     "data": {
      "text/plain": "                                 Open        High         Low       Close  \\\nDatetime                                                                    \n2020-05-13 04:00:00-04:00   77.752500   77.975000   77.687500   77.975000   \n2020-05-13 05:00:00-04:00   77.975000   78.247500   77.900000   77.977500   \n2020-05-13 06:00:00-04:00   77.997500   78.270000   77.997500   78.245000   \n2020-05-13 07:00:00-04:00   78.205000   78.297500   78.017500   78.112500   \n2020-05-13 08:00:00-04:00   78.117500   78.500000   78.005000   78.322500   \n...                               ...         ...         ...         ...   \n2021-05-12 14:30:00-04:00  122.510002  122.959999  122.260002  122.470001   \n2021-05-12 15:30:00-04:00  122.474998  123.059998  122.300003  122.820000   \n2021-05-12 16:00:00-04:00  122.820000  123.090000  122.345000  122.400000   \n2021-05-12 17:00:00-04:00  122.360000  124.524100  113.934780  122.460000   \n2021-05-12 18:00:00-04:00  122.460000  122.770000  122.450000  122.540000   \n\n                            Adj Close    Volume  \nDatetime                                         \n2020-05-13 04:00:00-04:00   77.975000         0  \n2020-05-13 05:00:00-04:00   77.977500         0  \n2020-05-13 06:00:00-04:00   78.245000         0  \n2020-05-13 07:00:00-04:00   78.112500         0  \n2020-05-13 08:00:00-04:00   78.322500         0  \n...                               ...       ...  \n2021-05-12 14:30:00-04:00  122.470001  10802679  \n2021-05-12 15:30:00-04:00  122.820000  14469408  \n2021-05-12 16:00:00-04:00  122.400000  10328874  \n2021-05-12 17:00:00-04:00  122.460000         0  \n2021-05-12 18:00:00-04:00  122.540000         0  \n\n[4186 rows x 6 columns]",
      "text/html": "<div>\n<style scoped>\n    .dataframe tbody tr th:only-of-type {\n        vertical-align: middle;\n    }\n\n    .dataframe tbody tr th {\n        vertical-align: top;\n    }\n\n    .dataframe thead th {\n        text-align: right;\n    }\n</style>\n<table border=\"1\" class=\"dataframe\">\n  <thead>\n    <tr style=\"text-align: right;\">\n      <th></th>\n      <th>Open</th>\n      <th>High</th>\n      <th>Low</th>\n      <th>Close</th>\n      <th>Adj Close</th>\n      <th>Volume</th>\n    </tr>\n    <tr>\n      <th>Datetime</th>\n      <th></th>\n      <th></th>\n      <th></th>\n      <th></th>\n      <th></th>\n      <th></th>\n    </tr>\n  </thead>\n  <tbody>\n    <tr>\n      <th>2020-05-13 04:00:00-04:00</th>\n      <td>77.752500</td>\n      <td>77.975000</td>\n      <td>77.687500</td>\n      <td>77.975000</td>\n      <td>77.975000</td>\n      <td>0</td>\n    </tr>\n    <tr>\n      <th>2020-05-13 05:00:00-04:00</th>\n      <td>77.975000</td>\n      <td>78.247500</td>\n      <td>77.900000</td>\n      <td>77.977500</td>\n      <td>77.977500</td>\n      <td>0</td>\n    </tr>\n    <tr>\n      <th>2020-05-13 06:00:00-04:00</th>\n      <td>77.997500</td>\n      <td>78.270000</td>\n      <td>77.997500</td>\n      <td>78.245000</td>\n      <td>78.245000</td>\n      <td>0</td>\n    </tr>\n    <tr>\n      <th>2020-05-13 07:00:00-04:00</th>\n      <td>78.205000</td>\n      <td>78.297500</td>\n      <td>78.017500</td>\n      <td>78.112500</td>\n      <td>78.112500</td>\n      <td>0</td>\n    </tr>\n    <tr>\n      <th>2020-05-13 08:00:00-04:00</th>\n      <td>78.117500</td>\n      <td>78.500000</td>\n      <td>78.005000</td>\n      <td>78.322500</td>\n      <td>78.322500</td>\n      <td>0</td>\n    </tr>\n    <tr>\n      <th>...</th>\n      <td>...</td>\n      <td>...</td>\n      <td>...</td>\n      <td>...</td>\n      <td>...</td>\n      <td>...</td>\n    </tr>\n    <tr>\n      <th>2021-05-12 14:30:00-04:00</th>\n      <td>122.510002</td>\n      <td>122.959999</td>\n      <td>122.260002</td>\n      <td>122.470001</td>\n      <td>122.470001</td>\n      <td>10802679</td>\n    </tr>\n    <tr>\n      <th>2021-05-12 15:30:00-04:00</th>\n      <td>122.474998</td>\n      <td>123.059998</td>\n      <td>122.300003</td>\n      <td>122.820000</td>\n      <td>122.820000</td>\n      <td>14469408</td>\n    </tr>\n    <tr>\n      <th>2021-05-12 16:00:00-04:00</th>\n      <td>122.820000</td>\n      <td>123.090000</td>\n      <td>122.345000</td>\n      <td>122.400000</td>\n      <td>122.400000</td>\n      <td>10328874</td>\n    </tr>\n    <tr>\n      <th>2021-05-12 17:00:00-04:00</th>\n      <td>122.360000</td>\n      <td>124.524100</td>\n      <td>113.934780</td>\n      <td>122.460000</td>\n      <td>122.460000</td>\n      <td>0</td>\n    </tr>\n    <tr>\n      <th>2021-05-12 18:00:00-04:00</th>\n      <td>122.460000</td>\n      <td>122.770000</td>\n      <td>122.450000</td>\n      <td>122.540000</td>\n      <td>122.540000</td>\n      <td>0</td>\n    </tr>\n  </tbody>\n</table>\n<p>4186 rows × 6 columns</p>\n</div>"
     },
     "execution_count": 201,
     "metadata": {},
     "output_type": "execute_result"
    }
   ],
   "source": [
    "data = yf.download(  # or pdr.get_data_yahoo(...\n",
    "        tickers = symbol,\n",
    "\n",
    "\n",
    "        period = INTERVAL,\n",
    "\n",
    "        interval = FETCH_INTERVAL,\n",
    "\n",
    "        # group by ticker (to access via data['SPY'])\n",
    "        # (optional, default is 'column')\n",
    "        group_by = 'ticker',\n",
    "\n",
    "        # adjust all OHLC automatically\n",
    "        # (optional, default is False)\n",
    "        # auto_adjust = True,\n",
    "\n",
    "        # download pre/post regular market hours data\n",
    "        # (optional, default is False)\n",
    "        prepost = True,\n",
    "\n",
    "        # use threads for mass downloading? (True/False/Integer)\n",
    "        # (optional, default is True)\n",
    "        threads = True,\n",
    "\n",
    "        # proxy URL scheme use use when downloading?\n",
    "        # (optional, default is None)\n",
    "        proxy = None\n",
    "    )\n",
    "data"
   ],
   "metadata": {
    "collapsed": false,
    "pycharm": {
     "name": "#%%\n"
    }
   }
  },
  {
   "cell_type": "code",
   "execution_count": 202,
   "outputs": [],
   "source": [
    "data.rename(columns={\"Close\": 'close', \"High\": 'high', \"Low\": 'low', 'Volume': 'volume', 'Open': 'open'}, inplace=True)\n",
    "data.head(10)\n",
    "important_columns = ['open', 'high', 'low','close','volume']"
   ],
   "metadata": {
    "collapsed": false,
    "pycharm": {
     "name": "#%%\n"
    }
   }
  },
  {
   "cell_type": "code",
   "execution_count": 203,
   "outputs": [],
   "source": [
    "\n",
    "def calculate_diffs(diff_number, col_name):\n",
    "    new_col_name = f'{col_name}_{diff_number}'\n",
    "    data[new_col_name] = data[col_name].diff(diff_number)"
   ],
   "metadata": {
    "collapsed": false,
    "pycharm": {
     "name": "#%%\n"
    }
   }
  },
  {
   "cell_type": "code",
   "execution_count": 204,
   "outputs": [],
   "source": [
    "# for name in important_columns:\n",
    "#     for i in range(1, 11):\n",
    "#         calculate_diffs(i, name)\n",
    "#\n",
    "# data.head(10)"
   ],
   "metadata": {
    "collapsed": false,
    "pycharm": {
     "name": "#%%\n"
    }
   }
  },
  {
   "cell_type": "code",
   "execution_count": 205,
   "outputs": [],
   "source": [
    "data = data.dropna()"
   ],
   "metadata": {
    "collapsed": false,
    "pycharm": {
     "name": "#%%\n"
    }
   }
  },
  {
   "cell_type": "code",
   "execution_count": 206,
   "outputs": [
    {
     "data": {
      "text/plain": "<AxesSubplot:xlabel='Datetime'>"
     },
     "execution_count": 206,
     "metadata": {},
     "output_type": "execute_result"
    },
    {
     "data": {
      "text/plain": "<Figure size 432x288 with 1 Axes>",
      "image/png": "[encoded data removed]"
     },
     "metadata": {
      "needs_background": "light"
     },
     "output_type": "display_data"
    }
   ],
   "source": [
    "data['close'].plot()"
   ],
   "metadata": {
    "collapsed": false,
    "pycharm": {
     "name": "#%%\n"
    }
   }
  },
  {
   "cell_type": "code",
   "execution_count": 207,
   "outputs": [
    {
     "data": {
      "text/plain": "                              open     high      low    close  Adj Close  \\\nDatetime                                                                   \n2020-05-13 04:00:00-04:00  77.7525  77.9750  77.6875  77.9750    77.9750   \n2020-05-13 05:00:00-04:00  77.9750  78.2475  77.9000  77.9775    77.9775   \n2020-05-13 06:00:00-04:00  77.9975  78.2700  77.9975  78.2450    78.2450   \n2020-05-13 07:00:00-04:00  78.2050  78.2975  78.0175  78.1125    78.1125   \n2020-05-13 08:00:00-04:00  78.1175  78.5000  78.0050  78.3225    78.3225   \n\n                           volume  close_pct  \nDatetime                                      \n2020-05-13 04:00:00-04:00       0        NaN  \n2020-05-13 05:00:00-04:00       0   0.000032  \n2020-05-13 06:00:00-04:00       0   0.003430  \n2020-05-13 07:00:00-04:00       0  -0.001693  \n2020-05-13 08:00:00-04:00       0   0.002688  ",
      "text/html": "<div>\n<style scoped>\n    .dataframe tbody tr th:only-of-type {\n        vertical-align: middle;\n    }\n\n    .dataframe tbody tr th {\n        vertical-align: top;\n    }\n\n    .dataframe thead th {\n        text-align: right;\n    }\n</style>\n<table border=\"1\" class=\"dataframe\">\n  <thead>\n    <tr style=\"text-align: right;\">\n      <th></th>\n      <th>open</th>\n      <th>high</th>\n      <th>low</th>\n      <th>close</th>\n      <th>Adj Close</th>\n      <th>volume</th>\n      <th>close_pct</th>\n    </tr>\n    <tr>\n      <th>Datetime</th>\n      <th></th>\n      <th></th>\n      <th></th>\n      <th></th>\n      <th></th>\n      <th></th>\n      <th></th>\n    </tr>\n  </thead>\n  <tbody>\n    <tr>\n      <th>2020-05-13 04:00:00-04:00</th>\n      <td>77.7525</td>\n      <td>77.9750</td>\n      <td>77.6875</td>\n      <td>77.9750</td>\n      <td>77.9750</td>\n      <td>0</td>\n      <td>NaN</td>\n    </tr>\n    <tr>\n      <th>2020-05-13 05:00:00-04:00</th>\n      <td>77.9750</td>\n      <td>78.2475</td>\n      <td>77.9000</td>\n      <td>77.9775</td>\n      <td>77.9775</td>\n      <td>0</td>\n      <td>0.000032</td>\n    </tr>\n    <tr>\n      <th>2020-05-13 06:00:00-04:00</th>\n      <td>77.9975</td>\n      <td>78.2700</td>\n      <td>77.9975</td>\n      <td>78.2450</td>\n      <td>78.2450</td>\n      <td>0</td>\n      <td>0.003430</td>\n    </tr>\n    <tr>\n      <th>2020-05-13 07:00:00-04:00</th>\n      <td>78.2050</td>\n      <td>78.2975</td>\n      <td>78.0175</td>\n      <td>78.1125</td>\n      <td>78.1125</td>\n      <td>0</td>\n      <td>-0.001693</td>\n    </tr>\n    <tr>\n      <th>2020-05-13 08:00:00-04:00</th>\n      <td>78.1175</td>\n      <td>78.5000</td>\n      <td>78.0050</td>\n      <td>78.3225</td>\n      <td>78.3225</td>\n      <td>0</td>\n      <td>0.002688</td>\n    </tr>\n  </tbody>\n</table>\n</div>"
     },
     "execution_count": 207,
     "metadata": {},
     "output_type": "execute_result"
    }
   ],
   "source": [
    "data['close_pct'] = data['close'].pct_change()\n",
    "data.head()"
   ],
   "metadata": {
    "collapsed": false,
    "pycharm": {
     "name": "#%%\n"
    }
   }
  },
  {
   "cell_type": "code",
   "execution_count": 208,
   "outputs": [
    {
     "data": {
      "text/plain": "              open         high          low        close    Adj Close  \\\ncount  4186.000000  4186.000000  4186.000000  4186.000000  4186.000000   \nmean    115.493901   116.038469   114.848343   115.491461   115.491461   \nstd      16.806775    17.647017    16.758043    16.794203    16.794203   \nmin      75.087502    75.537500    58.360000    75.300000    75.300000   \n25%     109.368125   109.759900   108.671249   109.333414   109.333414   \n50%     119.645451   120.100000   118.811249   119.634950   119.634950   \n75%     128.275025   128.703751   127.591800   128.269627   128.269627   \nmax     144.900000   438.440000   144.590000   144.910000   144.910000   \n\n             volume    close_pct  \ncount  4.186000e+03  4185.000000  \nmean   5.084074e+06     0.000123  \nstd    8.587058e+06     0.005410  \nmin    0.000000e+00    -0.051319  \n25%    0.000000e+00    -0.001888  \n50%    0.000000e+00     0.000089  \n75%    8.382402e+06     0.002265  \nmax    9.845401e+07     0.051457  ",
      "text/html": "<div>\n<style scoped>\n    .dataframe tbody tr th:only-of-type {\n        vertical-align: middle;\n    }\n\n    .dataframe tbody tr th {\n        vertical-align: top;\n    }\n\n    .dataframe thead th {\n        text-align: right;\n    }\n</style>\n<table border=\"1\" class=\"dataframe\">\n  <thead>\n    <tr style=\"text-align: right;\">\n      <th></th>\n      <th>open</th>\n      <th>high</th>\n      <th>low</th>\n      <th>close</th>\n      <th>Adj Close</th>\n      <th>volume</th>\n      <th>close_pct</th>\n    </tr>\n  </thead>\n  <tbody>\n    <tr>\n      <th>count</th>\n      <td>4186.000000</td>\n      <td>4186.000000</td>\n      <td>4186.000000</td>\n      <td>4186.000000</td>\n      <td>4186.000000</td>\n      <td>4.186000e+03</td>\n      <td>4185.000000</td>\n    </tr>\n    <tr>\n      <th>mean</th>\n      <td>115.493901</td>\n      <td>116.038469</td>\n      <td>114.848343</td>\n      <td>115.491461</td>\n      <td>115.491461</td>\n      <td>5.084074e+06</td>\n      <td>0.000123</td>\n    </tr>\n    <tr>\n      <th>std</th>\n      <td>16.806775</td>\n      <td>17.647017</td>\n      <td>16.758043</td>\n      <td>16.794203</td>\n      <td>16.794203</td>\n      <td>8.587058e+06</td>\n      <td>0.005410</td>\n    </tr>\n    <tr>\n      <th>min</th>\n      <td>75.087502</td>\n      <td>75.537500</td>\n      <td>58.360000</td>\n      <td>75.300000</td>\n      <td>75.300000</td>\n      <td>0.000000e+00</td>\n      <td>-0.051319</td>\n    </tr>\n    <tr>\n      <th>25%</th>\n      <td>109.368125</td>\n      <td>109.759900</td>\n      <td>108.671249</td>\n      <td>109.333414</td>\n      <td>109.333414</td>\n      <td>0.000000e+00</td>\n      <td>-0.001888</td>\n    </tr>\n    <tr>\n      <th>50%</th>\n      <td>119.645451</td>\n      <td>120.100000</td>\n      <td>118.811249</td>\n      <td>119.634950</td>\n      <td>119.634950</td>\n      <td>0.000000e+00</td>\n      <td>0.000089</td>\n    </tr>\n    <tr>\n      <th>75%</th>\n      <td>128.275025</td>\n      <td>128.703751</td>\n      <td>127.591800</td>\n      <td>128.269627</td>\n      <td>128.269627</td>\n      <td>8.382402e+06</td>\n      <td>0.002265</td>\n    </tr>\n    <tr>\n      <th>max</th>\n      <td>144.900000</td>\n      <td>438.440000</td>\n      <td>144.590000</td>\n      <td>144.910000</td>\n      <td>144.910000</td>\n      <td>9.845401e+07</td>\n      <td>0.051457</td>\n    </tr>\n  </tbody>\n</table>\n</div>"
     },
     "execution_count": 208,
     "metadata": {},
     "output_type": "execute_result"
    }
   ],
   "source": [
    "data.describe()"
   ],
   "metadata": {
    "collapsed": false,
    "pycharm": {
     "name": "#%%\n"
    }
   }
  },
  {
   "cell_type": "code",
   "execution_count": 209,
   "outputs": [],
   "source": [
    "def _get_indicator_data(data):\n",
    "    \"\"\"\n",
    "    Function that uses the finta API to calculate technical indicators used as the features\n",
    "    :return:\n",
    "    \"\"\"\n",
    "\n",
    "    data = add_all_ta_features(\n",
    "        data, open=\"open\", high=\"high\", low=\"low\", close=\"close\", volume=\"volume\", fillna=True)\n",
    "\n",
    "    # Instead of using the actual volume value (which changes over time), we normalize it with a moving volume average\n",
    "    # data['normVol'] = data['volume'] / data['volume'].ewm(5).mean()\n",
    "    # for i in range(1,50):\n",
    "    #     data[f'close{i}'] = data['close'].shift(i)\n",
    "    # Remove columns that won't be used as features\n",
    "    # del (data['Adj Close'])\n",
    "\n",
    "    return data\n"
   ],
   "metadata": {
    "collapsed": false,
    "pycharm": {
     "name": "#%%\n"
    }
   }
  },
  {
   "cell_type": "code",
   "execution_count": 210,
   "outputs": [
    {
     "data": {
      "text/plain": "                                 open        high         low       close  \\\nDatetime                                                                    \n2020-05-13 04:00:00-04:00   77.752500   77.975000   77.687500   77.975000   \n2020-05-13 05:00:00-04:00   77.975000   78.247500   77.900000   77.977500   \n2020-05-13 06:00:00-04:00   77.997500   78.270000   77.997500   78.245000   \n2020-05-13 07:00:00-04:00   78.205000   78.297500   78.017500   78.112500   \n2020-05-13 08:00:00-04:00   78.117500   78.500000   78.005000   78.322500   \n...                               ...         ...         ...         ...   \n2021-05-12 14:30:00-04:00  122.510002  122.959999  122.260002  122.470001   \n2021-05-12 15:30:00-04:00  122.474998  123.059998  122.300003  122.820000   \n2021-05-12 16:00:00-04:00  122.820000  123.090000  122.345000  122.400000   \n2021-05-12 17:00:00-04:00  122.360000  124.524100  113.934780  122.460000   \n2021-05-12 18:00:00-04:00  122.460000  122.770000  122.450000  122.540000   \n\n                            Adj Close    volume  close_pct  \nDatetime                                                    \n2020-05-13 04:00:00-04:00   77.975000         0        NaN  \n2020-05-13 05:00:00-04:00   77.977500         0   0.000032  \n2020-05-13 06:00:00-04:00   78.245000         0   0.003430  \n2020-05-13 07:00:00-04:00   78.112500         0  -0.001693  \n2020-05-13 08:00:00-04:00   78.322500         0   0.002688  \n...                               ...       ...        ...  \n2021-05-12 14:30:00-04:00  122.470001  10802679  -0.000327  \n2021-05-12 15:30:00-04:00  122.820000  14469408   0.002858  \n2021-05-12 16:00:00-04:00  122.400000  10328874  -0.003420  \n2021-05-12 17:00:00-04:00  122.460000         0   0.000490  \n2021-05-12 18:00:00-04:00  122.540000         0   0.000653  \n\n[4186 rows x 7 columns]",
      "text/html": "<div>\n<style scoped>\n    .dataframe tbody tr th:only-of-type {\n        vertical-align: middle;\n    }\n\n    .dataframe tbody tr th {\n        vertical-align: top;\n    }\n\n    .dataframe thead th {\n        text-align: right;\n    }\n</style>\n<table border=\"1\" class=\"dataframe\">\n  <thead>\n    <tr style=\"text-align: right;\">\n      <th></th>\n      <th>open</th>\n      <th>high</th>\n      <th>low</th>\n      <th>close</th>\n      <th>Adj Close</th>\n      <th>volume</th>\n      <th>close_pct</th>\n    </tr>\n    <tr>\n      <th>Datetime</th>\n      <th></th>\n      <th></th>\n      <th></th>\n      <th></th>\n      <th></th>\n      <th></th>\n      <th></th>\n    </tr>\n  </thead>\n  <tbody>\n    <tr>\n      <th>2020-05-13 04:00:00-04:00</th>\n      <td>77.752500</td>\n      <td>77.975000</td>\n      <td>77.687500</td>\n      <td>77.975000</td>\n      <td>77.975000</td>\n      <td>0</td>\n      <td>NaN</td>\n    </tr>\n    <tr>\n      <th>2020-05-13 05:00:00-04:00</th>\n      <td>77.975000</td>\n      <td>78.247500</td>\n      <td>77.900000</td>\n      <td>77.977500</td>\n      <td>77.977500</td>\n      <td>0</td>\n      <td>0.000032</td>\n    </tr>\n    <tr>\n      <th>2020-05-13 06:00:00-04:00</th>\n      <td>77.997500</td>\n      <td>78.270000</td>\n      <td>77.997500</td>\n      <td>78.245000</td>\n      <td>78.245000</td>\n      <td>0</td>\n      <td>0.003430</td>\n    </tr>\n    <tr>\n      <th>2020-05-13 07:00:00-04:00</th>\n      <td>78.205000</td>\n      <td>78.297500</td>\n      <td>78.017500</td>\n      <td>78.112500</td>\n      <td>78.112500</td>\n      <td>0</td>\n      <td>-0.001693</td>\n    </tr>\n    <tr>\n      <th>2020-05-13 08:00:00-04:00</th>\n      <td>78.117500</td>\n      <td>78.500000</td>\n      <td>78.005000</td>\n      <td>78.322500</td>\n      <td>78.322500</td>\n      <td>0</td>\n      <td>0.002688</td>\n    </tr>\n    <tr>\n      <th>...</th>\n      <td>...</td>\n      <td>...</td>\n      <td>...</td>\n      <td>...</td>\n      <td>...</td>\n      <td>...</td>\n      <td>...</td>\n    </tr>\n    <tr>\n      <th>2021-05-12 14:30:00-04:00</th>\n      <td>122.510002</td>\n      <td>122.959999</td>\n      <td>122.260002</td>\n      <td>122.470001</td>\n      <td>122.470001</td>\n      <td>10802679</td>\n      <td>-0.000327</td>\n    </tr>\n    <tr>\n      <th>2021-05-12 15:30:00-04:00</th>\n      <td>122.474998</td>\n      <td>123.059998</td>\n      <td>122.300003</td>\n      <td>122.820000</td>\n      <td>122.820000</td>\n      <td>14469408</td>\n      <td>0.002858</td>\n    </tr>\n    <tr>\n      <th>2021-05-12 16:00:00-04:00</th>\n      <td>122.820000</td>\n      <td>123.090000</td>\n      <td>122.345000</td>\n      <td>122.400000</td>\n      <td>122.400000</td>\n      <td>10328874</td>\n      <td>-0.003420</td>\n    </tr>\n    <tr>\n      <th>2021-05-12 17:00:00-04:00</th>\n      <td>122.360000</td>\n      <td>124.524100</td>\n      <td>113.934780</td>\n      <td>122.460000</td>\n      <td>122.460000</td>\n      <td>0</td>\n      <td>0.000490</td>\n    </tr>\n    <tr>\n      <th>2021-05-12 18:00:00-04:00</th>\n      <td>122.460000</td>\n      <td>122.770000</td>\n      <td>122.450000</td>\n      <td>122.540000</td>\n      <td>122.540000</td>\n      <td>0</td>\n      <td>0.000653</td>\n    </tr>\n  </tbody>\n</table>\n<p>4186 rows × 7 columns</p>\n</div>"
     },
     "execution_count": 210,
     "metadata": {},
     "output_type": "execute_result"
    }
   ],
   "source": [
    "data"
   ],
   "metadata": {
    "collapsed": false,
    "pycharm": {
     "name": "#%%\n"
    }
   }
  },
  {
   "cell_type": "code",
   "execution_count": 211,
   "outputs": [
    {
     "data": {
      "text/plain": "Index(['open', 'high', 'low', 'close', 'Adj Close', 'volume', 'close_pct'], dtype='object')"
     },
     "execution_count": 211,
     "metadata": {},
     "output_type": "execute_result"
    }
   ],
   "source": [
    "data.columns"
   ],
   "metadata": {
    "collapsed": false,
    "pycharm": {
     "name": "#%%\n"
    }
   }
  },
  {
   "cell_type": "code",
   "execution_count": 212,
   "outputs": [],
   "source": [
    "def create_class_column(row, lowest_threshold, higher_threshold):\n",
    "    if row['close_shift'] - row['close'] > higher_threshold:\n",
    "        return 1\n",
    "    if row['close_shift'] - row['close'] < lowest_threshold:\n",
    "        return -1\n",
    "    else:\n",
    "        return 0"
   ],
   "metadata": {
    "collapsed": false,
    "pycharm": {
     "name": "#%%\n"
    }
   }
  },
  {
   "cell_type": "code",
   "execution_count": 213,
   "outputs": [
    {
     "name": "stderr",
     "output_type": "stream",
     "text": [
      "C:\\Users\\exomat\\anaconda3\\envs\\magisterka_analiza\\lib\\site-packages\\ta\\trend.py:768: RuntimeWarning: invalid value encountered in double_scalars\n",
      "  dip[i] = 100 * (self._dip[i] / self._trs[i])\n",
      "C:\\Users\\exomat\\anaconda3\\envs\\magisterka_analiza\\lib\\site-packages\\ta\\trend.py:772: RuntimeWarning: invalid value encountered in double_scalars\n",
      "  din[i] = 100 * (self._din[i] / self._trs[i])\n"
     ]
    },
    {
     "data": {
      "text/plain": "                                 open        high         low       close  \\\nDatetime                                                                    \n2020-05-13 04:00:00-04:00   77.752500   77.975000   77.687500   77.975000   \n2020-05-13 05:00:00-04:00   77.975000   78.247500   77.900000   77.977500   \n2020-05-13 06:00:00-04:00   77.997500   78.270000   77.997500   78.245000   \n2020-05-13 07:00:00-04:00   78.205000   78.297500   78.017500   78.112500   \n2020-05-13 08:00:00-04:00   78.117500   78.500000   78.005000   78.322500   \n...                               ...         ...         ...         ...   \n2021-05-12 14:30:00-04:00  122.510002  122.959999  122.260002  122.470001   \n2021-05-12 15:30:00-04:00  122.474998  123.059998  122.300003  122.820000   \n2021-05-12 16:00:00-04:00  122.820000  123.090000  122.345000  122.400000   \n2021-05-12 17:00:00-04:00  122.360000  124.524100  113.934780  122.460000   \n2021-05-12 18:00:00-04:00  122.460000  122.770000  122.450000  122.540000   \n\n                            Adj Close    volume  close_pct    volume_adi  \\\nDatetime                                                                   \n2020-05-13 04:00:00-04:00   77.975000         0        NaN  0.000000e+00   \n2020-05-13 05:00:00-04:00   77.977500         0   0.000032  0.000000e+00   \n2020-05-13 06:00:00-04:00   78.245000         0   0.003430  0.000000e+00   \n2020-05-13 07:00:00-04:00   78.112500         0  -0.001693  0.000000e+00   \n2020-05-13 08:00:00-04:00   78.322500         0   0.002688  0.000000e+00   \n...                               ...       ...        ...           ...   \n2021-05-12 14:30:00-04:00  122.470001  10802679  -0.000327  6.306123e+08   \n2021-05-12 15:30:00-04:00  122.820000  14469408   0.002858  6.359432e+08   \n2021-05-12 16:00:00-04:00  122.400000  10328874  -0.003420  6.271393e+08   \n2021-05-12 17:00:00-04:00  122.460000         0   0.000490  6.271393e+08   \n2021-05-12 18:00:00-04:00  122.540000         0   0.000653  6.271393e+08   \n\n                           volume_obv  volume_cmf  ...  momentum_ao  \\\nDatetime                                           ...                \n2020-05-13 04:00:00-04:00           0    0.000000  ...     0.000000   \n2020-05-13 05:00:00-04:00           0    0.000000  ...     0.000000   \n2020-05-13 06:00:00-04:00           0    0.000000  ...     0.000000   \n2020-05-13 07:00:00-04:00           0    0.000000  ...     0.000000   \n2020-05-13 08:00:00-04:00           0    0.000000  ...     0.000000   \n...                               ...         ...  ...          ...   \n2021-05-12 14:30:00-04:00  -513565942   -0.125334  ...    -1.667697   \n2021-05-12 15:30:00-04:00  -499096534   -0.139414  ...    -1.656080   \n2021-05-12 16:00:00-04:00  -509425408   -0.278977  ...    -1.677024   \n2021-05-12 17:00:00-04:00  -509425408   -0.324334  ...    -2.339323   \n2021-05-12 18:00:00-04:00  -509425408   -0.387034  ...    -2.239411   \n\n                           momentum_kama  momentum_roc  momentum_ppo  \\\nDatetime                                                               \n2020-05-13 04:00:00-04:00      77.975000      0.000000      0.000000   \n2020-05-13 05:00:00-04:00      77.976139      0.000000      0.000000   \n2020-05-13 06:00:00-04:00      78.094432      0.000000      0.000000   \n2020-05-13 07:00:00-04:00      78.102394      0.000000      0.000000   \n2020-05-13 08:00:00-04:00      78.196385      0.000000      0.000000   \n...                                  ...           ...           ...   \n2021-05-12 14:30:00-04:00     122.932708     -2.585109     20.805708   \n2021-05-12 15:30:00-04:00     122.911653     -1.900959     23.803451   \n2021-05-12 16:00:00-04:00     122.764612     -2.166094     22.216890   \n2021-05-12 17:00:00-04:00     122.702171     -1.961412     11.687435   \n2021-05-12 18:00:00-04:00     122.674592     -2.116782      2.065133   \n\n                           momentum_ppo_signal  momentum_ppo_hist  others_dr  \\\nDatetime                                                                       \n2020-05-13 04:00:00-04:00             0.000000           0.000000 -32.484186   \n2020-05-13 05:00:00-04:00             0.000000           0.000000   0.003206   \n2020-05-13 06:00:00-04:00             0.000000           0.000000   0.343048   \n2020-05-13 07:00:00-04:00             0.000000           0.000000  -0.169340   \n2020-05-13 08:00:00-04:00             0.000000           0.000000   0.268843   \n...                                        ...                ...        ...   \n2021-05-12 14:30:00-04:00             5.964983          14.840725  -0.032651   \n2021-05-12 15:30:00-04:00             9.532677          14.270774   0.285783   \n2021-05-12 16:00:00-04:00            12.069519          10.147371  -0.341964   \n2021-05-12 17:00:00-04:00            11.993102          -0.305667   0.049020   \n2021-05-12 18:00:00-04:00            10.007509          -7.942376   0.065327   \n\n                           others_dlr  others_cr  close_shift  \nDatetime                                                       \n2020-05-13 04:00:00-04:00    0.000000   0.000000    76.611198  \n2020-05-13 05:00:00-04:00    0.003206   0.003206    76.374977  \n2020-05-13 06:00:00-04:00    0.342461   0.346265    76.417747  \n2020-05-13 07:00:00-04:00   -0.169483   0.176339    76.184998  \n2020-05-13 08:00:00-04:00    0.268482   0.445656    76.919998  \n...                               ...        ...          ...  \n2021-05-12 14:30:00-04:00   -0.032656  57.063163          NaN  \n2021-05-12 15:30:00-04:00    0.285375  57.512023          NaN  \n2021-05-12 16:00:00-04:00   -0.342550  56.973389          NaN  \n2021-05-12 17:00:00-04:00    0.049008  57.050337          NaN  \n2021-05-12 18:00:00-04:00    0.065306  57.152934          NaN  \n\n[4186 rows x 91 columns]",
      "text/html": "<div>\n<style scoped>\n    .dataframe tbody tr th:only-of-type {\n        vertical-align: middle;\n    }\n\n    .dataframe tbody tr th {\n        vertical-align: top;\n    }\n\n    .dataframe thead th {\n        text-align: right;\n    }\n</style>\n<table border=\"1\" class=\"dataframe\">\n  <thead>\n    <tr style=\"text-align: right;\">\n      <th></th>\n      <th>open</th>\n      <th>high</th>\n      <th>low</th>\n      <th>close</th>\n      <th>Adj Close</th>\n      <th>volume</th>\n      <th>close_pct</th>\n      <th>volume_adi</th>\n      <th>volume_obv</th>\n      <th>volume_cmf</th>\n      <th>...</th>\n      <th>momentum_ao</th>\n      <th>momentum_kama</th>\n      <th>momentum_roc</th>\n      <th>momentum_ppo</th>\n      <th>momentum_ppo_signal</th>\n      <th>momentum_ppo_hist</th>\n      <th>others_dr</th>\n      <th>others_dlr</th>\n      <th>others_cr</th>\n      <th>close_shift</th>\n    </tr>\n    <tr>\n      <th>Datetime</th>\n      <th></th>\n      <th></th>\n      <th></th>\n      <th></th>\n      <th></th>\n      <th></th>\n      <th></th>\n      <th></th>\n      <th></th>\n      <th></th>\n      <th></th>\n      <th></th>\n      <th></th>\n      <th></th>\n      <th></th>\n      <th></th>\n      <th></th>\n      <th></th>\n      <th></th>\n      <th></th>\n      <th></th>\n    </tr>\n  </thead>\n  <tbody>\n    <tr>\n      <th>2020-05-13 04:00:00-04:00</th>\n      <td>77.752500</td>\n      <td>77.975000</td>\n      <td>77.687500</td>\n      <td>77.975000</td>\n      <td>77.975000</td>\n      <td>0</td>\n      <td>NaN</td>\n      <td>0.000000e+00</td>\n      <td>0</td>\n      <td>0.000000</td>\n      <td>...</td>\n      <td>0.000000</td>\n      <td>77.975000</td>\n      <td>0.000000</td>\n      <td>0.000000</td>\n      <td>0.000000</td>\n      <td>0.000000</td>\n      <td>-32.484186</td>\n      <td>0.000000</td>\n      <td>0.000000</td>\n      <td>76.611198</td>\n    </tr>\n    <tr>\n      <th>2020-05-13 05:00:00-04:00</th>\n      <td>77.975000</td>\n      <td>78.247500</td>\n      <td>77.900000</td>\n      <td>77.977500</td>\n      <td>77.977500</td>\n      <td>0</td>\n      <td>0.000032</td>\n      <td>0.000000e+00</td>\n      <td>0</td>\n      <td>0.000000</td>\n      <td>...</td>\n      <td>0.000000</td>\n      <td>77.976139</td>\n      <td>0.000000</td>\n      <td>0.000000</td>\n      <td>0.000000</td>\n      <td>0.000000</td>\n      <td>0.003206</td>\n      <td>0.003206</td>\n      <td>0.003206</td>\n      <td>76.374977</td>\n    </tr>\n    <tr>\n      <th>2020-05-13 06:00:00-04:00</th>\n      <td>77.997500</td>\n      <td>78.270000</td>\n      <td>77.997500</td>\n      <td>78.245000</td>\n      <td>78.245000</td>\n      <td>0</td>\n      <td>0.003430</td>\n      <td>0.000000e+00</td>\n      <td>0</td>\n      <td>0.000000</td>\n      <td>...</td>\n      <td>0.000000</td>\n      <td>78.094432</td>\n      <td>0.000000</td>\n      <td>0.000000</td>\n      <td>0.000000</td>\n      <td>0.000000</td>\n      <td>0.343048</td>\n      <td>0.342461</td>\n      <td>0.346265</td>\n      <td>76.417747</td>\n    </tr>\n    <tr>\n      <th>2020-05-13 07:00:00-04:00</th>\n      <td>78.205000</td>\n      <td>78.297500</td>\n      <td>78.017500</td>\n      <td>78.112500</td>\n      <td>78.112500</td>\n      <td>0</td>\n      <td>-0.001693</td>\n      <td>0.000000e+00</td>\n      <td>0</td>\n      <td>0.000000</td>\n      <td>...</td>\n      <td>0.000000</td>\n      <td>78.102394</td>\n      <td>0.000000</td>\n      <td>0.000000</td>\n      <td>0.000000</td>\n      <td>0.000000</td>\n      <td>-0.169340</td>\n      <td>-0.169483</td>\n      <td>0.176339</td>\n      <td>76.184998</td>\n    </tr>\n    <tr>\n      <th>2020-05-13 08:00:00-04:00</th>\n      <td>78.117500</td>\n      <td>78.500000</td>\n      <td>78.005000</td>\n      <td>78.322500</td>\n      <td>78.322500</td>\n      <td>0</td>\n      <td>0.002688</td>\n      <td>0.000000e+00</td>\n      <td>0</td>\n      <td>0.000000</td>\n      <td>...</td>\n      <td>0.000000</td>\n      <td>78.196385</td>\n      <td>0.000000</td>\n      <td>0.000000</td>\n      <td>0.000000</td>\n      <td>0.000000</td>\n      <td>0.268843</td>\n      <td>0.268482</td>\n      <td>0.445656</td>\n      <td>76.919998</td>\n    </tr>\n    <tr>\n      <th>...</th>\n      <td>...</td>\n      <td>...</td>\n      <td>...</td>\n      <td>...</td>\n      <td>...</td>\n      <td>...</td>\n      <td>...</td>\n      <td>...</td>\n      <td>...</td>\n      <td>...</td>\n      <td>...</td>\n      <td>...</td>\n      <td>...</td>\n      <td>...</td>\n      <td>...</td>\n      <td>...</td>\n      <td>...</td>\n      <td>...</td>\n      <td>...</td>\n      <td>...</td>\n      <td>...</td>\n    </tr>\n    <tr>\n      <th>2021-05-12 14:30:00-04:00</th>\n      <td>122.510002</td>\n      <td>122.959999</td>\n      <td>122.260002</td>\n      <td>122.470001</td>\n      <td>122.470001</td>\n      <td>10802679</td>\n      <td>-0.000327</td>\n      <td>6.306123e+08</td>\n      <td>-513565942</td>\n      <td>-0.125334</td>\n      <td>...</td>\n      <td>-1.667697</td>\n      <td>122.932708</td>\n      <td>-2.585109</td>\n      <td>20.805708</td>\n      <td>5.964983</td>\n      <td>14.840725</td>\n      <td>-0.032651</td>\n      <td>-0.032656</td>\n      <td>57.063163</td>\n      <td>NaN</td>\n    </tr>\n    <tr>\n      <th>2021-05-12 15:30:00-04:00</th>\n      <td>122.474998</td>\n      <td>123.059998</td>\n      <td>122.300003</td>\n      <td>122.820000</td>\n      <td>122.820000</td>\n      <td>14469408</td>\n      <td>0.002858</td>\n      <td>6.359432e+08</td>\n      <td>-499096534</td>\n      <td>-0.139414</td>\n      <td>...</td>\n      <td>-1.656080</td>\n      <td>122.911653</td>\n      <td>-1.900959</td>\n      <td>23.803451</td>\n      <td>9.532677</td>\n      <td>14.270774</td>\n      <td>0.285783</td>\n      <td>0.285375</td>\n      <td>57.512023</td>\n      <td>NaN</td>\n    </tr>\n    <tr>\n      <th>2021-05-12 16:00:00-04:00</th>\n      <td>122.820000</td>\n      <td>123.090000</td>\n      <td>122.345000</td>\n      <td>122.400000</td>\n      <td>122.400000</td>\n      <td>10328874</td>\n      <td>-0.003420</td>\n      <td>6.271393e+08</td>\n      <td>-509425408</td>\n      <td>-0.278977</td>\n      <td>...</td>\n      <td>-1.677024</td>\n      <td>122.764612</td>\n      <td>-2.166094</td>\n      <td>22.216890</td>\n      <td>12.069519</td>\n      <td>10.147371</td>\n      <td>-0.341964</td>\n      <td>-0.342550</td>\n      <td>56.973389</td>\n      <td>NaN</td>\n    </tr>\n    <tr>\n      <th>2021-05-12 17:00:00-04:00</th>\n      <td>122.360000</td>\n      <td>124.524100</td>\n      <td>113.934780</td>\n      <td>122.460000</td>\n      <td>122.460000</td>\n      <td>0</td>\n      <td>0.000490</td>\n      <td>6.271393e+08</td>\n      <td>-509425408</td>\n      <td>-0.324334</td>\n      <td>...</td>\n      <td>-2.339323</td>\n      <td>122.702171</td>\n      <td>-1.961412</td>\n      <td>11.687435</td>\n      <td>11.993102</td>\n      <td>-0.305667</td>\n      <td>0.049020</td>\n      <td>0.049008</td>\n      <td>57.050337</td>\n      <td>NaN</td>\n    </tr>\n    <tr>\n      <th>2021-05-12 18:00:00-04:00</th>\n      <td>122.460000</td>\n      <td>122.770000</td>\n      <td>122.450000</td>\n      <td>122.540000</td>\n      <td>122.540000</td>\n      <td>0</td>\n      <td>0.000653</td>\n      <td>6.271393e+08</td>\n      <td>-509425408</td>\n      <td>-0.387034</td>\n      <td>...</td>\n      <td>-2.239411</td>\n      <td>122.674592</td>\n      <td>-2.116782</td>\n      <td>2.065133</td>\n      <td>10.007509</td>\n      <td>-7.942376</td>\n      <td>0.065327</td>\n      <td>0.065306</td>\n      <td>57.152934</td>\n      <td>NaN</td>\n    </tr>\n  </tbody>\n</table>\n<p>4186 rows × 91 columns</p>\n</div>"
     },
     "execution_count": 213,
     "metadata": {},
     "output_type": "execute_result"
    }
   ],
   "source": [
    "data = _get_indicator_data(data)\n",
    "data['close_shift'] = data.shift(-WINDOW)['close']\n",
    "data"
   ],
   "metadata": {
    "collapsed": false,
    "pycharm": {
     "name": "#%%\n"
    }
   }
  },
  {
   "cell_type": "code",
   "execution_count": 214,
   "outputs": [
    {
     "name": "stdout",
     "output_type": "stream",
     "text": [
      " 1    1397\n",
      "-1    1396\n",
      " 0    1393\n",
      "Name: class_column, dtype: int64\n"
     ]
    },
    {
     "data": {
      "text/plain": "                                 open        high         low       close  \\\nDatetime                                                                    \n2020-05-13 04:00:00-04:00   77.752500   77.975000   77.687500   77.975000   \n2020-05-13 05:00:00-04:00   77.975000   78.247500   77.900000   77.977500   \n2020-05-13 06:00:00-04:00   77.997500   78.270000   77.997500   78.245000   \n2020-05-13 07:00:00-04:00   78.205000   78.297500   78.017500   78.112500   \n2020-05-13 08:00:00-04:00   78.117500   78.500000   78.005000   78.322500   \n...                               ...         ...         ...         ...   \n2021-05-12 14:30:00-04:00  122.510002  122.959999  122.260002  122.470001   \n2021-05-12 15:30:00-04:00  122.474998  123.059998  122.300003  122.820000   \n2021-05-12 16:00:00-04:00  122.820000  123.090000  122.345000  122.400000   \n2021-05-12 17:00:00-04:00  122.360000  124.524100  113.934780  122.460000   \n2021-05-12 18:00:00-04:00  122.460000  122.770000  122.450000  122.540000   \n\n                            Adj Close    volume  close_pct    volume_adi  \\\nDatetime                                                                   \n2020-05-13 04:00:00-04:00   77.975000         0        NaN  0.000000e+00   \n2020-05-13 05:00:00-04:00   77.977500         0   0.000032  0.000000e+00   \n2020-05-13 06:00:00-04:00   78.245000         0   0.003430  0.000000e+00   \n2020-05-13 07:00:00-04:00   78.112500         0  -0.001693  0.000000e+00   \n2020-05-13 08:00:00-04:00   78.322500         0   0.002688  0.000000e+00   \n...                               ...       ...        ...           ...   \n2021-05-12 14:30:00-04:00  122.470001  10802679  -0.000327  6.306123e+08   \n2021-05-12 15:30:00-04:00  122.820000  14469408   0.002858  6.359432e+08   \n2021-05-12 16:00:00-04:00  122.400000  10328874  -0.003420  6.271393e+08   \n2021-05-12 17:00:00-04:00  122.460000         0   0.000490  6.271393e+08   \n2021-05-12 18:00:00-04:00  122.540000         0   0.000653  6.271393e+08   \n\n                           volume_obv  volume_cmf  ...  momentum_kama  \\\nDatetime                                           ...                  \n2020-05-13 04:00:00-04:00           0    0.000000  ...      77.975000   \n2020-05-13 05:00:00-04:00           0    0.000000  ...      77.976139   \n2020-05-13 06:00:00-04:00           0    0.000000  ...      78.094432   \n2020-05-13 07:00:00-04:00           0    0.000000  ...      78.102394   \n2020-05-13 08:00:00-04:00           0    0.000000  ...      78.196385   \n...                               ...         ...  ...            ...   \n2021-05-12 14:30:00-04:00  -513565942   -0.125334  ...     122.932708   \n2021-05-12 15:30:00-04:00  -499096534   -0.139414  ...     122.911653   \n2021-05-12 16:00:00-04:00  -509425408   -0.278977  ...     122.764612   \n2021-05-12 17:00:00-04:00  -509425408   -0.324334  ...     122.702171   \n2021-05-12 18:00:00-04:00  -509425408   -0.387034  ...     122.674592   \n\n                           momentum_roc  momentum_ppo  momentum_ppo_signal  \\\nDatetime                                                                     \n2020-05-13 04:00:00-04:00      0.000000      0.000000             0.000000   \n2020-05-13 05:00:00-04:00      0.000000      0.000000             0.000000   \n2020-05-13 06:00:00-04:00      0.000000      0.000000             0.000000   \n2020-05-13 07:00:00-04:00      0.000000      0.000000             0.000000   \n2020-05-13 08:00:00-04:00      0.000000      0.000000             0.000000   \n...                                 ...           ...                  ...   \n2021-05-12 14:30:00-04:00     -2.585109     20.805708             5.964983   \n2021-05-12 15:30:00-04:00     -1.900959     23.803451             9.532677   \n2021-05-12 16:00:00-04:00     -2.166094     22.216890            12.069519   \n2021-05-12 17:00:00-04:00     -1.961412     11.687435            11.993102   \n2021-05-12 18:00:00-04:00     -2.116782      2.065133            10.007509   \n\n                           momentum_ppo_hist  others_dr  others_dlr  \\\nDatetime                                                              \n2020-05-13 04:00:00-04:00           0.000000 -32.484186    0.000000   \n2020-05-13 05:00:00-04:00           0.000000   0.003206    0.003206   \n2020-05-13 06:00:00-04:00           0.000000   0.343048    0.342461   \n2020-05-13 07:00:00-04:00           0.000000  -0.169340   -0.169483   \n2020-05-13 08:00:00-04:00           0.000000   0.268843    0.268482   \n...                                      ...        ...         ...   \n2021-05-12 14:30:00-04:00          14.840725  -0.032651   -0.032656   \n2021-05-12 15:30:00-04:00          14.270774   0.285783    0.285375   \n2021-05-12 16:00:00-04:00          10.147371  -0.341964   -0.342550   \n2021-05-12 17:00:00-04:00          -0.305667   0.049020    0.049008   \n2021-05-12 18:00:00-04:00          -7.942376   0.065327    0.065306   \n\n                           others_cr  close_shift  class_column  \nDatetime                                                         \n2020-05-13 04:00:00-04:00   0.000000    76.611198            -1  \n2020-05-13 05:00:00-04:00   0.003206    76.374977            -1  \n2020-05-13 06:00:00-04:00   0.346265    76.417747            -1  \n2020-05-13 07:00:00-04:00   0.176339    76.184998            -1  \n2020-05-13 08:00:00-04:00   0.445656    76.919998            -1  \n...                              ...          ...           ...  \n2021-05-12 14:30:00-04:00  57.063163          NaN             0  \n2021-05-12 15:30:00-04:00  57.512023          NaN             0  \n2021-05-12 16:00:00-04:00  56.973389          NaN             0  \n2021-05-12 17:00:00-04:00  57.050337          NaN             0  \n2021-05-12 18:00:00-04:00  57.152934          NaN             0  \n\n[4186 rows x 92 columns]",
      "text/html": "<div>\n<style scoped>\n    .dataframe tbody tr th:only-of-type {\n        vertical-align: middle;\n    }\n\n    .dataframe tbody tr th {\n        vertical-align: top;\n    }\n\n    .dataframe thead th {\n        text-align: right;\n    }\n</style>\n<table border=\"1\" class=\"dataframe\">\n  <thead>\n    <tr style=\"text-align: right;\">\n      <th></th>\n      <th>open</th>\n      <th>high</th>\n      <th>low</th>\n      <th>close</th>\n      <th>Adj Close</th>\n      <th>volume</th>\n      <th>close_pct</th>\n      <th>volume_adi</th>\n      <th>volume_obv</th>\n      <th>volume_cmf</th>\n      <th>...</th>\n      <th>momentum_kama</th>\n      <th>momentum_roc</th>\n      <th>momentum_ppo</th>\n      <th>momentum_ppo_signal</th>\n      <th>momentum_ppo_hist</th>\n      <th>others_dr</th>\n      <th>others_dlr</th>\n      <th>others_cr</th>\n      <th>close_shift</th>\n      <th>class_column</th>\n    </tr>\n    <tr>\n      <th>Datetime</th>\n      <th></th>\n      <th></th>\n      <th></th>\n      <th></th>\n      <th></th>\n      <th></th>\n      <th></th>\n      <th></th>\n      <th></th>\n      <th></th>\n      <th></th>\n      <th></th>\n      <th></th>\n      <th></th>\n      <th></th>\n      <th></th>\n      <th></th>\n      <th></th>\n      <th></th>\n      <th></th>\n      <th></th>\n    </tr>\n  </thead>\n  <tbody>\n    <tr>\n      <th>2020-05-13 04:00:00-04:00</th>\n      <td>77.752500</td>\n      <td>77.975000</td>\n      <td>77.687500</td>\n      <td>77.975000</td>\n      <td>77.975000</td>\n      <td>0</td>\n      <td>NaN</td>\n      <td>0.000000e+00</td>\n      <td>0</td>\n      <td>0.000000</td>\n      <td>...</td>\n      <td>77.975000</td>\n      <td>0.000000</td>\n      <td>0.000000</td>\n      <td>0.000000</td>\n      <td>0.000000</td>\n      <td>-32.484186</td>\n      <td>0.000000</td>\n      <td>0.000000</td>\n      <td>76.611198</td>\n      <td>-1</td>\n    </tr>\n    <tr>\n      <th>2020-05-13 05:00:00-04:00</th>\n      <td>77.975000</td>\n      <td>78.247500</td>\n      <td>77.900000</td>\n      <td>77.977500</td>\n      <td>77.977500</td>\n      <td>0</td>\n      <td>0.000032</td>\n      <td>0.000000e+00</td>\n      <td>0</td>\n      <td>0.000000</td>\n      <td>...</td>\n      <td>77.976139</td>\n      <td>0.000000</td>\n      <td>0.000000</td>\n      <td>0.000000</td>\n      <td>0.000000</td>\n      <td>0.003206</td>\n      <td>0.003206</td>\n      <td>0.003206</td>\n      <td>76.374977</td>\n      <td>-1</td>\n    </tr>\n    <tr>\n      <th>2020-05-13 06:00:00-04:00</th>\n      <td>77.997500</td>\n      <td>78.270000</td>\n      <td>77.997500</td>\n      <td>78.245000</td>\n      <td>78.245000</td>\n      <td>0</td>\n      <td>0.003430</td>\n      <td>0.000000e+00</td>\n      <td>0</td>\n      <td>0.000000</td>\n      <td>...</td>\n      <td>78.094432</td>\n      <td>0.000000</td>\n      <td>0.000000</td>\n      <td>0.000000</td>\n      <td>0.000000</td>\n      <td>0.343048</td>\n      <td>0.342461</td>\n      <td>0.346265</td>\n      <td>76.417747</td>\n      <td>-1</td>\n    </tr>\n    <tr>\n      <th>2020-05-13 07:00:00-04:00</th>\n      <td>78.205000</td>\n      <td>78.297500</td>\n      <td>78.017500</td>\n      <td>78.112500</td>\n      <td>78.112500</td>\n      <td>0</td>\n      <td>-0.001693</td>\n      <td>0.000000e+00</td>\n      <td>0</td>\n      <td>0.000000</td>\n      <td>...</td>\n      <td>78.102394</td>\n      <td>0.000000</td>\n      <td>0.000000</td>\n      <td>0.000000</td>\n      <td>0.000000</td>\n      <td>-0.169340</td>\n      <td>-0.169483</td>\n      <td>0.176339</td>\n      <td>76.184998</td>\n      <td>-1</td>\n    </tr>\n    <tr>\n      <th>2020-05-13 08:00:00-04:00</th>\n      <td>78.117500</td>\n      <td>78.500000</td>\n      <td>78.005000</td>\n      <td>78.322500</td>\n      <td>78.322500</td>\n      <td>0</td>\n      <td>0.002688</td>\n      <td>0.000000e+00</td>\n      <td>0</td>\n      <td>0.000000</td>\n      <td>...</td>\n      <td>78.196385</td>\n      <td>0.000000</td>\n      <td>0.000000</td>\n      <td>0.000000</td>\n      <td>0.000000</td>\n      <td>0.268843</td>\n      <td>0.268482</td>\n      <td>0.445656</td>\n      <td>76.919998</td>\n      <td>-1</td>\n    </tr>\n    <tr>\n      <th>...</th>\n      <td>...</td>\n      <td>...</td>\n      <td>...</td>\n      <td>...</td>\n      <td>...</td>\n      <td>...</td>\n      <td>...</td>\n      <td>...</td>\n      <td>...</td>\n      <td>...</td>\n      <td>...</td>\n      <td>...</td>\n      <td>...</td>\n      <td>...</td>\n      <td>...</td>\n      <td>...</td>\n      <td>...</td>\n      <td>...</td>\n      <td>...</td>\n      <td>...</td>\n      <td>...</td>\n    </tr>\n    <tr>\n      <th>2021-05-12 14:30:00-04:00</th>\n      <td>122.510002</td>\n      <td>122.959999</td>\n      <td>122.260002</td>\n      <td>122.470001</td>\n      <td>122.470001</td>\n      <td>10802679</td>\n      <td>-0.000327</td>\n      <td>6.306123e+08</td>\n      <td>-513565942</td>\n      <td>-0.125334</td>\n      <td>...</td>\n      <td>122.932708</td>\n      <td>-2.585109</td>\n      <td>20.805708</td>\n      <td>5.964983</td>\n      <td>14.840725</td>\n      <td>-0.032651</td>\n      <td>-0.032656</td>\n      <td>57.063163</td>\n      <td>NaN</td>\n      <td>0</td>\n    </tr>\n    <tr>\n      <th>2021-05-12 15:30:00-04:00</th>\n      <td>122.474998</td>\n      <td>123.059998</td>\n      <td>122.300003</td>\n      <td>122.820000</td>\n      <td>122.820000</td>\n      <td>14469408</td>\n      <td>0.002858</td>\n      <td>6.359432e+08</td>\n      <td>-499096534</td>\n      <td>-0.139414</td>\n      <td>...</td>\n      <td>122.911653</td>\n      <td>-1.900959</td>\n      <td>23.803451</td>\n      <td>9.532677</td>\n      <td>14.270774</td>\n      <td>0.285783</td>\n      <td>0.285375</td>\n      <td>57.512023</td>\n      <td>NaN</td>\n      <td>0</td>\n    </tr>\n    <tr>\n      <th>2021-05-12 16:00:00-04:00</th>\n      <td>122.820000</td>\n      <td>123.090000</td>\n      <td>122.345000</td>\n      <td>122.400000</td>\n      <td>122.400000</td>\n      <td>10328874</td>\n      <td>-0.003420</td>\n      <td>6.271393e+08</td>\n      <td>-509425408</td>\n      <td>-0.278977</td>\n      <td>...</td>\n      <td>122.764612</td>\n      <td>-2.166094</td>\n      <td>22.216890</td>\n      <td>12.069519</td>\n      <td>10.147371</td>\n      <td>-0.341964</td>\n      <td>-0.342550</td>\n      <td>56.973389</td>\n      <td>NaN</td>\n      <td>0</td>\n    </tr>\n    <tr>\n      <th>2021-05-12 17:00:00-04:00</th>\n      <td>122.360000</td>\n      <td>124.524100</td>\n      <td>113.934780</td>\n      <td>122.460000</td>\n      <td>122.460000</td>\n      <td>0</td>\n      <td>0.000490</td>\n      <td>6.271393e+08</td>\n      <td>-509425408</td>\n      <td>-0.324334</td>\n      <td>...</td>\n      <td>122.702171</td>\n      <td>-1.961412</td>\n      <td>11.687435</td>\n      <td>11.993102</td>\n      <td>-0.305667</td>\n      <td>0.049020</td>\n      <td>0.049008</td>\n      <td>57.050337</td>\n      <td>NaN</td>\n      <td>0</td>\n    </tr>\n    <tr>\n      <th>2021-05-12 18:00:00-04:00</th>\n      <td>122.460000</td>\n      <td>122.770000</td>\n      <td>122.450000</td>\n      <td>122.540000</td>\n      <td>122.540000</td>\n      <td>0</td>\n      <td>0.000653</td>\n      <td>6.271393e+08</td>\n      <td>-509425408</td>\n      <td>-0.387034</td>\n      <td>...</td>\n      <td>122.674592</td>\n      <td>-2.116782</td>\n      <td>2.065133</td>\n      <td>10.007509</td>\n      <td>-7.942376</td>\n      <td>0.065327</td>\n      <td>0.065306</td>\n      <td>57.152934</td>\n      <td>NaN</td>\n      <td>0</td>\n    </tr>\n  </tbody>\n</table>\n<p>4186 rows × 92 columns</p>\n</div>"
     },
     "execution_count": 214,
     "metadata": {},
     "output_type": "execute_result"
    }
   ],
   "source": [
    "def create_class(df):\n",
    "    higher_threshold = 1.5\n",
    "    lowest_threshold = -1.5\n",
    "    last_values_higher = []\n",
    "    last_values_lower = []\n",
    "    df['class_column'] = df.apply((lambda x: create_class_column(x, lowest_threshold, higher_threshold)), axis=1)\n",
    "    while True:\n",
    "        class_counts = df['class_column'].value_counts()\n",
    "        if abs(class_counts[0] - class_counts[1]) < 15 and abs(class_counts[0] - class_counts[-1]) < 15:\n",
    "            break\n",
    "\n",
    "        if len(last_values_higher) == 3:\n",
    "            last_values_higher.pop(0)\n",
    "        if len(last_values_lower) == 3:\n",
    "            last_values_lower.pop(0)\n",
    "\n",
    "        last_values_higher.append(higher_threshold)\n",
    "        last_values_lower.append(lowest_threshold)\n",
    "        if class_counts[0] > class_counts[1]:\n",
    "            higher_threshold -= 0.01\n",
    "        if class_counts[0] > class_counts[-1]:\n",
    "            lowest_threshold += 0.01\n",
    "        if class_counts[0] < class_counts[1]:\n",
    "            higher_threshold += 0.01\n",
    "        if class_counts[0] < class_counts[-1]:\n",
    "            lowest_threshold -= 0.01\n",
    "\n",
    "        if higher_threshold in last_values_higher and lowest_threshold in last_values_lower:\n",
    "            break\n",
    "        df['class_column'] = df.apply((lambda x: create_class_column(x, lowest_threshold, higher_threshold)),\n",
    "                                          axis=1)\n",
    "    print(df['class_column'].value_counts())\n",
    "    return df\n",
    "\n",
    "\n",
    "data = create_class(data)\n",
    "\n",
    "data\n"
   ],
   "metadata": {
    "collapsed": false,
    "pycharm": {
     "name": "#%%\n"
    }
   }
  },
  {
   "cell_type": "code",
   "execution_count": 215,
   "outputs": [
    {
     "name": "stdout",
     "output_type": "stream",
     "text": [
      "C:\\Users\\exomat\\Desktop\\repo\\magisterka_analiza\\data\\results\\train_test\\AAPL_1y_8_diff_13_05_2021 00_26_31_full.csv\n"
     ]
    }
   ],
   "source": [
    "filename_to_export = f'C:\\\\Users\\\\exomat\\\\Desktop\\\\repo\\\\magisterka_analiza\\\\data\\\\results\\\\train_test\\\\{symbol}_{INTERVAL}_{WINDOW}_diff_{datetime.now().strftime(\"%d_%m_%Y %H_%M_%S\")}_full.csv'\n",
    "data.to_csv(filename_to_export, index=True)\n",
    "print(filename_to_export)"
   ],
   "metadata": {
    "collapsed": false,
    "pycharm": {
     "name": "#%%\n"
    }
   }
  },
  {
   "cell_type": "code",
   "execution_count": 216,
   "outputs": [
    {
     "data": {
      "text/plain": " 1    1397\n-1    1396\n 0    1393\nName: class_column, dtype: int64"
     },
     "execution_count": 216,
     "metadata": {},
     "output_type": "execute_result"
    }
   ],
   "source": [
    "\n",
    "# Class divide\n",
    "data['class_column'].value_counts()"
   ],
   "metadata": {
    "collapsed": false,
    "pycharm": {
     "name": "#%%\n"
    }
   }
  },
  {
   "cell_type": "code",
   "execution_count": 217,
   "outputs": [],
   "source": [
    "# del (data['close'])\n",
    "# del (data['close_shift'])\n",
    "data = data.dropna()"
   ],
   "metadata": {
    "collapsed": false,
    "pycharm": {
     "name": "#%%\n"
    }
   }
  },
  {
   "cell_type": "code",
   "execution_count": 218,
   "outputs": [
    {
     "data": {
      "text/plain": " 1    1397\n-1    1395\n 0    1385\nName: class_column, dtype: int64"
     },
     "execution_count": 218,
     "metadata": {},
     "output_type": "execute_result"
    }
   ],
   "source": [
    "data['class_column'].value_counts()\n"
   ],
   "metadata": {
    "collapsed": false,
    "pycharm": {
     "name": "#%%\n"
    }
   }
  },
  {
   "cell_type": "code",
   "execution_count": 219,
   "outputs": [],
   "source": [
    "def split_dataframe(df, chunk_size = 17):\n",
    "    chunks = list()\n",
    "    num_chunks = len(df) // chunk_size + 1\n",
    "    for i in range(num_chunks):\n",
    "        chunks.append(df[i*chunk_size:(i+1)*chunk_size])\n",
    "    return chunks\n",
    "\n",
    "def train_model(model,train_x, train_y):\n",
    "    model.fit(train_x, train_y)"
   ],
   "metadata": {
    "collapsed": false,
    "pycharm": {
     "name": "#%%\n"
    }
   }
  },
  {
   "cell_type": "code",
   "execution_count": 220,
   "outputs": [
    {
     "data": {
      "text/plain": "246"
     },
     "execution_count": 220,
     "metadata": {},
     "output_type": "execute_result"
    }
   ],
   "source": [
    "splited_dataframe = split_dataframe(data, 17)\n",
    "len(splited_dataframe)"
   ],
   "metadata": {
    "collapsed": false,
    "pycharm": {
     "name": "#%%\n"
    }
   }
  },
  {
   "cell_type": "code",
   "execution_count": 221,
   "outputs": [],
   "source": [
    "y = data['class_column']\n",
    "features = [x for x in data.columns if x not in ['class_column', 'close_shift']]\n",
    "x = data[features]\n",
    "scaler = MinMaxScaler()\n",
    "# x = pd.DataFrame(scaler.fit_transform(x.values), columns=x.columns, index=x.index)\n",
    "x_train,x_test,y_train,y_test = train_test_split(x, y, test_size=0.1, shuffle=False)"
   ],
   "metadata": {
    "collapsed": false,
    "pycharm": {
     "name": "#%%\n"
    }
   }
  },
  {
   "cell_type": "code",
   "execution_count": 222,
   "outputs": [],
   "source": [
    "classifiers = dict()\n",
    "\n",
    "classifiers['DecisionTreeClassifier 1'] = DecisionTreeClassifier(max_depth=10, random_state=0,criterion='gini',splitter='best')\n",
    "classifiers['DecisionTreeClassifier 2'] = DecisionTreeClassifier(max_depth=20, random_state=0,criterion='gini',splitter='best')\n",
    "classifiers['DecisionTreeClassifier 3'] = DecisionTreeClassifier(max_depth=10, random_state=0,criterion='gini',splitter='random')\n",
    "classifiers['DecisionTreeClassifier 4'] = DecisionTreeClassifier(max_depth=10, random_state=0,criterion='entropy',splitter='best')\n",
    "classifiers['DecisionTreeClassifier 5'] = DecisionTreeClassifier(max_depth=15, random_state=0,criterion='entropy',splitter='best')\n",
    "classifiers['RandomForestClassifier 4'] = RandomForestClassifier(n_estimators=1000, max_depth=3, random_state=0,criterion='gini', n_jobs = -1)\n",
    "classifiers['RandomForestClassifier 5'] = RandomForestClassifier(n_estimators=100, max_depth=2, random_state=0,criterion='entropy', n_jobs = -1)\n",
    "classifiers['GradientBoostingClassifier 1'] = GradientBoostingClassifier(n_estimators=100,random_state=0,criterion='friedman_mse',max_depth=3, learning_rate=0.1)\n",
    "classifiers['GradientBoostingClassifier 2'] = GradientBoostingClassifier(n_estimators=100,random_state=0,criterion='friedman_mse',max_depth=10, learning_rate=0.3)\n",
    "classifiers['GradientBoostingClassifier 3'] = GradientBoostingClassifier(n_estimators=1000,random_state=0,criterion='friedman_mse',max_depth=3, learning_rate=0.1)\n",
    "classifiers['XGBClassifier 1'] = xgb.XGBClassifier(nthread =-1,max_depth=10,n_estimators=1000, eta =0.2)\n",
    "classifiers['XGBClassifier 2'] = xgb.XGBClassifier(nthread =-1,max_depth=14,n_estimators=1000, eta =0.3)\n",
    "classifiers['XGBClassifier 3'] = xgb.XGBClassifier(nthread =-1,max_depth=14,n_estimators=1000, eta =0.2)\n",
    "classifiers['XGBClassifier 4'] = xgb.XGBClassifier(nthread =-1,max_depth=10,n_estimators=1000, eta =0.5)\n",
    "classifiers['XGBClassifier 5'] = xgb.XGBClassifier(nthread =-1,max_depth=6,n_estimators=1000, eta =0.3)\n",
    "classifiers['XGBClassifier 6'] = xgb.XGBClassifier(nthread =-1,max_depth=3,n_estimators=1000, eta =0.3)\n",
    "classifiers['XGBRFClassifier 1'] = xgb.sklearn.XGBRFClassifier(n_jobs=-1,max_depth=12,n_estimators =100,eta=0.4)\n",
    "classifiers['XGBRFClassifier 2'] = xgb.sklearn.XGBRFClassifier(n_jobs=-1,max_depth=14,n_estimators =100,eta=0.4)\n",
    "classifiers['XGBRFClassifier 3'] = xgb.sklearn.XGBRFClassifier(n_jobs=-1,max_depth=3,n_estimators =1000,eta=0.2)\n",
    "classifiers['XGBRFClassifier 4'] = xgb.sklearn.XGBRFClassifier(n_jobs=-1,max_depth=6,n_estimators =1000,eta=0.2)\n",
    "classifiers['XGBRFClassifier 5'] = xgb.sklearn.XGBRFClassifier(n_jobs=-1,max_depth=10,n_estimators =1000,eta=0.2)\n",
    "classifiers['XGBRFClassifier 6'] = xgb.sklearn.XGBRFClassifier(n_jobs=-1,max_depth=10,n_estimators =100,eta=0.4)\n",
    "classifiers_boosted = dict()\n",
    "classifiers_boosted['GradientBoostingClassifier 1S'] = GradientBoostingClassifier(n_estimators=100,random_state=0,criterion='friedman_mse',max_depth=3, learning_rate=0.1)\n",
    "classifiers_boosted['GradientBoostingClassifier 2S'] = GradientBoostingClassifier(n_estimators=1000,random_state=0,criterion='friedman_mse',max_depth=3, learning_rate=0.3)\n",
    "classifiers_boosted['GradientBoostingClassifier 3S'] = GradientBoostingClassifier(n_estimators=1000,random_state=0,criterion='friedman_mse',max_depth=2, learning_rate=0.5)\n",
    "# classifiers_boosted['GradientBoostingClassifier 4S'] = GradientBoostingClassifier(n_estimators=1000,random_state=0,criterion='friedman_mse',max_depth=2, learning_rate=0.8)\n",
    "\n"
   ],
   "metadata": {
    "collapsed": false,
    "pycharm": {
     "name": "#%%\n"
    }
   }
  },
  {
   "cell_type": "code",
   "execution_count": 223,
   "outputs": [],
   "source": [
    "def count_correct(pred_list, original_list):\n",
    "    correct  = 0\n",
    "    all  = len(pred_list)\n",
    "    for idx , el in enumerate(pred_list):\n",
    "        if el == 1:\n",
    "            if original_list[idx] == 1:\n",
    "                correct +=1\n",
    "\n",
    "    return correct, all\n"
   ],
   "metadata": {
    "collapsed": false,
    "pycharm": {
     "name": "#%%\n"
    }
   }
  },
  {
   "cell_type": "code",
   "execution_count": 224,
   "outputs": [
    {
     "name": "stdout",
     "output_type": "stream",
     "text": [
      "5\n",
      "start\n",
      " 1    582\n",
      "-1    570\n",
      " 0    565\n",
      "Name: class_column, dtype: int64\n",
      " 1    582\n",
      "-1    570\n",
      " 0    565\n",
      "Name: class_column, dtype: int64\n",
      "1717\n",
      "Calculate:  DecisionTreeClassifier 1\n",
      "0.4117647058823529\n",
      "Calculate:  DecisionTreeClassifier 2\n",
      "0.5294117647058824\n",
      "Calculate:  DecisionTreeClassifier 3\n",
      "0.47058823529411764\n",
      "Calculate:  DecisionTreeClassifier 4\n",
      "0.5294117647058824\n",
      "Calculate:  DecisionTreeClassifier 5\n",
      "0.35294117647058826\n",
      "Calculate:  RandomForestClassifier 4\n",
      "0.5294117647058824\n",
      "Calculate:  RandomForestClassifier 5\n",
      "0.5294117647058824\n",
      "Calculate:  GradientBoostingClassifier 1\n",
      "0.7647058823529411\n",
      "Calculate:  GradientBoostingClassifier 2\n",
      "0.6470588235294118\n",
      "Calculate:  GradientBoostingClassifier 3\n",
      "0.5882352941176471\n",
      "Calculate:  XGBClassifier 1\n",
      "[00:28:29] WARNING: C:/Users/Administrator/workspace/xgboost-win64_release_1.3.0/src/learner.cc:1061: Starting in XGBoost 1.3.0, the default evaluation metric used with the objective 'multi:softprob' was changed from 'merror' to 'mlogloss'. Explicitly set eval_metric if you'd like to restore the old behavior.\n"
     ]
    },
    {
     "name": "stderr",
     "output_type": "stream",
     "text": [
      "C:\\Users\\exomat\\anaconda3\\envs\\magisterka_analiza\\lib\\site-packages\\xgboost\\sklearn.py:888: UserWarning: The use of label encoder in XGBClassifier is deprecated and will be removed in a future release. To remove this warning, do the following: 1) Pass option use_label_encoder=False when constructing XGBClassifier object; and 2) Encode your labels (y) as integers starting with 0, i.e. 0, 1, 2, ..., [num_class - 1].\n",
      "  warnings.warn(label_encoder_deprecation_msg, UserWarning)\n"
     ]
    },
    {
     "name": "stdout",
     "output_type": "stream",
     "text": [
      "0.5294117647058824\n",
      "Calculate:  XGBClassifier 2\n",
      "[00:28:34] WARNING: C:/Users/Administrator/workspace/xgboost-win64_release_1.3.0/src/learner.cc:1061: Starting in XGBoost 1.3.0, the default evaluation metric used with the objective 'multi:softprob' was changed from 'merror' to 'mlogloss'. Explicitly set eval_metric if you'd like to restore the old behavior.\n",
      "0.5882352941176471\n",
      "Calculate:  XGBClassifier 3\n",
      "[00:28:38] WARNING: C:/Users/Administrator/workspace/xgboost-win64_release_1.3.0/src/learner.cc:1061: Starting in XGBoost 1.3.0, the default evaluation metric used with the objective 'multi:softprob' was changed from 'merror' to 'mlogloss'. Explicitly set eval_metric if you'd like to restore the old behavior.\n",
      "0.5882352941176471\n",
      "Calculate:  XGBClassifier 4\n",
      "[00:28:43] WARNING: C:/Users/Administrator/workspace/xgboost-win64_release_1.3.0/src/learner.cc:1061: Starting in XGBoost 1.3.0, the default evaluation metric used with the objective 'multi:softprob' was changed from 'merror' to 'mlogloss'. Explicitly set eval_metric if you'd like to restore the old behavior.\n",
      "0.5294117647058824\n",
      "Calculate:  XGBClassifier 5\n",
      "[00:28:47] WARNING: C:/Users/Administrator/workspace/xgboost-win64_release_1.3.0/src/learner.cc:1061: Starting in XGBoost 1.3.0, the default evaluation metric used with the objective 'multi:softprob' was changed from 'merror' to 'mlogloss'. Explicitly set eval_metric if you'd like to restore the old behavior.\n",
      "0.7058823529411765\n",
      "Calculate:  XGBClassifier 6\n",
      "[00:28:51] WARNING: C:/Users/Administrator/workspace/xgboost-win64_release_1.3.0/src/learner.cc:1061: Starting in XGBoost 1.3.0, the default evaluation metric used with the objective 'multi:softprob' was changed from 'merror' to 'mlogloss'. Explicitly set eval_metric if you'd like to restore the old behavior.\n",
      "0.5294117647058824\n",
      "Calculate:  XGBRFClassifier 1\n",
      "[00:28:58] WARNING: C:/Users/Administrator/workspace/xgboost-win64_release_1.3.0/src/learner.cc:1061: Starting in XGBoost 1.3.0, the default evaluation metric used with the objective 'multi:softprob' was changed from 'merror' to 'mlogloss'. Explicitly set eval_metric if you'd like to restore the old behavior.\n",
      "0.5294117647058824\n",
      "Calculate:  XGBRFClassifier 2\n",
      "[00:29:00] WARNING: C:/Users/Administrator/workspace/xgboost-win64_release_1.3.0/src/learner.cc:1061: Starting in XGBoost 1.3.0, the default evaluation metric used with the objective 'multi:softprob' was changed from 'merror' to 'mlogloss'. Explicitly set eval_metric if you'd like to restore the old behavior.\n",
      "0.5294117647058824\n",
      "Calculate:  XGBRFClassifier 3\n",
      "[00:29:04] WARNING: C:/Users/Administrator/workspace/xgboost-win64_release_1.3.0/src/learner.cc:1061: Starting in XGBoost 1.3.0, the default evaluation metric used with the objective 'multi:softprob' was changed from 'merror' to 'mlogloss'. Explicitly set eval_metric if you'd like to restore the old behavior.\n",
      "0.5294117647058824\n",
      "Calculate:  XGBRFClassifier 4\n",
      "[00:29:13] WARNING: C:/Users/Administrator/workspace/xgboost-win64_release_1.3.0/src/learner.cc:1061: Starting in XGBoost 1.3.0, the default evaluation metric used with the objective 'multi:softprob' was changed from 'merror' to 'mlogloss'. Explicitly set eval_metric if you'd like to restore the old behavior.\n",
      "0.5882352941176471\n",
      "Calculate:  XGBRFClassifier 5\n",
      "[00:29:26] WARNING: C:/Users/Administrator/workspace/xgboost-win64_release_1.3.0/src/learner.cc:1061: Starting in XGBoost 1.3.0, the default evaluation metric used with the objective 'multi:softprob' was changed from 'merror' to 'mlogloss'. Explicitly set eval_metric if you'd like to restore the old behavior.\n",
      "0.47058823529411764\n",
      "Calculate:  XGBRFClassifier 6\n",
      "[00:29:30] WARNING: C:/Users/Administrator/workspace/xgboost-win64_release_1.3.0/src/learner.cc:1061: Starting in XGBoost 1.3.0, the default evaluation metric used with the objective 'multi:softprob' was changed from 'merror' to 'mlogloss'. Explicitly set eval_metric if you'd like to restore the old behavior.\n",
      "0.5882352941176471\n"
     ]
    },
    {
     "name": "stderr",
     "output_type": "stream",
     "text": [
      "C:\\Users\\exomat\\anaconda3\\envs\\magisterka_analiza\\lib\\site-packages\\sklearn\\utils\\validation.py:67: FutureWarning: Pass n_features_to_select=10 as keyword args. From version 0.25 passing these as positional arguments will result in an error\n",
      "  warnings.warn(\"Pass {} as keyword args. From version 0.25 \"\n"
     ]
    },
    {
     "name": "stdout",
     "output_type": "stream",
     "text": [
      "Columns with predictive power: ['volume_fi', 'volatility_atr', 'volatility_bbw', 'volatility_dcw', 'volatility_ui', 'trend_macd', 'trend_macd_signal', 'trend_kst', 'trend_visual_ichimoku_b', 'trend_aroon_down']\n",
      "Calculate:  GradientBoostingClassifier 1S\n",
      "0.5882352941176471\n",
      "Calculate:  GradientBoostingClassifier 2S\n",
      "0.35294117647058826\n",
      "Calculate:  GradientBoostingClassifier 3S\n",
      "0.35294117647058826\n",
      " 1    585\n",
      "-1    578\n",
      " 0    571\n",
      "Name: class_column, dtype: int64\n",
      " 1    585\n",
      "-1    578\n",
      " 0    571\n",
      "Name: class_column, dtype: int64\n",
      "1734\n",
      "Calculate:  DecisionTreeClassifier 1\n",
      "0.17647058823529413\n",
      "Calculate:  DecisionTreeClassifier 2\n",
      "0.11764705882352941\n",
      "Calculate:  DecisionTreeClassifier 3\n",
      "0.4117647058823529\n",
      "Calculate:  DecisionTreeClassifier 4\n",
      "0.35294117647058826\n",
      "Calculate:  DecisionTreeClassifier 5\n",
      "0.47058823529411764\n",
      "Calculate:  RandomForestClassifier 4\n",
      "0.47058823529411764\n",
      "Calculate:  RandomForestClassifier 5\n",
      "0.6470588235294118\n",
      "Calculate:  GradientBoostingClassifier 1\n",
      "0.7058823529411765\n",
      "Calculate:  GradientBoostingClassifier 2\n",
      "0.7058823529411765\n",
      "Calculate:  GradientBoostingClassifier 3\n",
      "0.7058823529411765\n",
      "Calculate:  XGBClassifier 1\n",
      "[00:32:10] WARNING: C:/Users/Administrator/workspace/xgboost-win64_release_1.3.0/src/learner.cc:1061: Starting in XGBoost 1.3.0, the default evaluation metric used with the objective 'multi:softprob' was changed from 'merror' to 'mlogloss'. Explicitly set eval_metric if you'd like to restore the old behavior.\n"
     ]
    },
    {
     "name": "stderr",
     "output_type": "stream",
     "text": [
      "C:\\Users\\exomat\\anaconda3\\envs\\magisterka_analiza\\lib\\site-packages\\xgboost\\sklearn.py:888: UserWarning: The use of label encoder in XGBClassifier is deprecated and will be removed in a future release. To remove this warning, do the following: 1) Pass option use_label_encoder=False when constructing XGBClassifier object; and 2) Encode your labels (y) as integers starting with 0, i.e. 0, 1, 2, ..., [num_class - 1].\n",
      "  warnings.warn(label_encoder_deprecation_msg, UserWarning)\n"
     ]
    },
    {
     "name": "stdout",
     "output_type": "stream",
     "text": [
      "0.6470588235294118\n",
      "Calculate:  XGBClassifier 2\n",
      "[00:32:15] WARNING: C:/Users/Administrator/workspace/xgboost-win64_release_1.3.0/src/learner.cc:1061: Starting in XGBoost 1.3.0, the default evaluation metric used with the objective 'multi:softprob' was changed from 'merror' to 'mlogloss'. Explicitly set eval_metric if you'd like to restore the old behavior.\n",
      "0.7058823529411765\n",
      "Calculate:  XGBClassifier 3\n",
      "[00:32:19] WARNING: C:/Users/Administrator/workspace/xgboost-win64_release_1.3.0/src/learner.cc:1061: Starting in XGBoost 1.3.0, the default evaluation metric used with the objective 'multi:softprob' was changed from 'merror' to 'mlogloss'. Explicitly set eval_metric if you'd like to restore the old behavior.\n",
      "0.5882352941176471\n",
      "Calculate:  XGBClassifier 4\n",
      "[00:32:24] WARNING: C:/Users/Administrator/workspace/xgboost-win64_release_1.3.0/src/learner.cc:1061: Starting in XGBoost 1.3.0, the default evaluation metric used with the objective 'multi:softprob' was changed from 'merror' to 'mlogloss'. Explicitly set eval_metric if you'd like to restore the old behavior.\n",
      "0.7058823529411765\n",
      "Calculate:  XGBClassifier 5\n",
      "[00:32:28] WARNING: C:/Users/Administrator/workspace/xgboost-win64_release_1.3.0/src/learner.cc:1061: Starting in XGBoost 1.3.0, the default evaluation metric used with the objective 'multi:softprob' was changed from 'merror' to 'mlogloss'. Explicitly set eval_metric if you'd like to restore the old behavior.\n",
      "0.7058823529411765\n",
      "Calculate:  XGBClassifier 6\n",
      "[00:32:32] WARNING: C:/Users/Administrator/workspace/xgboost-win64_release_1.3.0/src/learner.cc:1061: Starting in XGBoost 1.3.0, the default evaluation metric used with the objective 'multi:softprob' was changed from 'merror' to 'mlogloss'. Explicitly set eval_metric if you'd like to restore the old behavior.\n",
      "0.8235294117647058\n",
      "Calculate:  XGBRFClassifier 1\n",
      "[00:32:38] WARNING: C:/Users/Administrator/workspace/xgboost-win64_release_1.3.0/src/learner.cc:1061: Starting in XGBoost 1.3.0, the default evaluation metric used with the objective 'multi:softprob' was changed from 'merror' to 'mlogloss'. Explicitly set eval_metric if you'd like to restore the old behavior.\n",
      "0.4117647058823529\n",
      "Calculate:  XGBRFClassifier 2\n",
      "[00:32:40] WARNING: C:/Users/Administrator/workspace/xgboost-win64_release_1.3.0/src/learner.cc:1061: Starting in XGBoost 1.3.0, the default evaluation metric used with the objective 'multi:softprob' was changed from 'merror' to 'mlogloss'. Explicitly set eval_metric if you'd like to restore the old behavior.\n",
      "0.4117647058823529\n",
      "Calculate:  XGBRFClassifier 3\n",
      "[00:32:44] WARNING: C:/Users/Administrator/workspace/xgboost-win64_release_1.3.0/src/learner.cc:1061: Starting in XGBoost 1.3.0, the default evaluation metric used with the objective 'multi:softprob' was changed from 'merror' to 'mlogloss'. Explicitly set eval_metric if you'd like to restore the old behavior.\n",
      "0.17647058823529413\n",
      "Calculate:  XGBRFClassifier 4\n",
      "[00:32:52] WARNING: C:/Users/Administrator/workspace/xgboost-win64_release_1.3.0/src/learner.cc:1061: Starting in XGBoost 1.3.0, the default evaluation metric used with the objective 'multi:softprob' was changed from 'merror' to 'mlogloss'. Explicitly set eval_metric if you'd like to restore the old behavior.\n",
      "0.35294117647058826\n",
      "Calculate:  XGBRFClassifier 5\n",
      "[00:33:06] WARNING: C:/Users/Administrator/workspace/xgboost-win64_release_1.3.0/src/learner.cc:1061: Starting in XGBoost 1.3.0, the default evaluation metric used with the objective 'multi:softprob' was changed from 'merror' to 'mlogloss'. Explicitly set eval_metric if you'd like to restore the old behavior.\n",
      "0.35294117647058826\n",
      "Calculate:  XGBRFClassifier 6\n",
      "[00:33:10] WARNING: C:/Users/Administrator/workspace/xgboost-win64_release_1.3.0/src/learner.cc:1061: Starting in XGBoost 1.3.0, the default evaluation metric used with the objective 'multi:softprob' was changed from 'merror' to 'mlogloss'. Explicitly set eval_metric if you'd like to restore the old behavior.\n",
      "0.35294117647058826\n"
     ]
    },
    {
     "name": "stderr",
     "output_type": "stream",
     "text": [
      "C:\\Users\\exomat\\anaconda3\\envs\\magisterka_analiza\\lib\\site-packages\\sklearn\\utils\\validation.py:67: FutureWarning: Pass n_features_to_select=10 as keyword args. From version 0.25 passing these as positional arguments will result in an error\n",
      "  warnings.warn(\"Pass {} as keyword args. From version 0.25 \"\n"
     ]
    },
    {
     "name": "stdout",
     "output_type": "stream",
     "text": [
      "Columns with predictive power: ['volume_fi', 'volume_nvi', 'volatility_bbw', 'volatility_dcw', 'volatility_ui', 'trend_macd', 'trend_trix', 'trend_aroon_down', 'trend_aroon_ind', 'close_shift']\n",
      "Calculate:  GradientBoostingClassifier 1S\n",
      "0.9411764705882353\n",
      "Calculate:  GradientBoostingClassifier 2S\n",
      "0.7647058823529411\n",
      "Calculate:  GradientBoostingClassifier 3S\n",
      "0.7647058823529411\n",
      " 1    590\n",
      "-1    581\n",
      " 0    580\n",
      "Name: class_column, dtype: int64\n",
      " 1    590\n",
      "-1    581\n",
      " 0    580\n",
      "Name: class_column, dtype: int64\n",
      "1751\n",
      "Calculate:  DecisionTreeClassifier 1\n",
      "0.23529411764705882\n",
      "Calculate:  DecisionTreeClassifier 2\n",
      "0.35294117647058826\n",
      "Calculate:  DecisionTreeClassifier 3\n",
      "0.29411764705882354\n",
      "Calculate:  DecisionTreeClassifier 4\n",
      "0.35294117647058826\n",
      "Calculate:  DecisionTreeClassifier 5\n",
      "0.5294117647058824\n",
      "Calculate:  RandomForestClassifier 4\n",
      "0.7647058823529411\n",
      "Calculate:  RandomForestClassifier 5\n",
      "0.7647058823529411\n",
      "Calculate:  GradientBoostingClassifier 1\n",
      "0.5294117647058824\n",
      "Calculate:  GradientBoostingClassifier 2\n",
      "0.5294117647058824\n",
      "Calculate:  GradientBoostingClassifier 3\n",
      "0.5882352941176471\n",
      "Calculate:  XGBClassifier 1\n",
      "[00:35:53] WARNING: C:/Users/Administrator/workspace/xgboost-win64_release_1.3.0/src/learner.cc:1061: Starting in XGBoost 1.3.0, the default evaluation metric used with the objective 'multi:softprob' was changed from 'merror' to 'mlogloss'. Explicitly set eval_metric if you'd like to restore the old behavior.\n"
     ]
    },
    {
     "name": "stderr",
     "output_type": "stream",
     "text": [
      "C:\\Users\\exomat\\anaconda3\\envs\\magisterka_analiza\\lib\\site-packages\\xgboost\\sklearn.py:888: UserWarning: The use of label encoder in XGBClassifier is deprecated and will be removed in a future release. To remove this warning, do the following: 1) Pass option use_label_encoder=False when constructing XGBClassifier object; and 2) Encode your labels (y) as integers starting with 0, i.e. 0, 1, 2, ..., [num_class - 1].\n",
      "  warnings.warn(label_encoder_deprecation_msg, UserWarning)\n"
     ]
    },
    {
     "name": "stdout",
     "output_type": "stream",
     "text": [
      "0.47058823529411764\n",
      "Calculate:  XGBClassifier 2\n",
      "[00:35:59] WARNING: C:/Users/Administrator/workspace/xgboost-win64_release_1.3.0/src/learner.cc:1061: Starting in XGBoost 1.3.0, the default evaluation metric used with the objective 'multi:softprob' was changed from 'merror' to 'mlogloss'. Explicitly set eval_metric if you'd like to restore the old behavior.\n",
      "0.47058823529411764\n",
      "Calculate:  XGBClassifier 3\n",
      "[00:36:04] WARNING: C:/Users/Administrator/workspace/xgboost-win64_release_1.3.0/src/learner.cc:1061: Starting in XGBoost 1.3.0, the default evaluation metric used with the objective 'multi:softprob' was changed from 'merror' to 'mlogloss'. Explicitly set eval_metric if you'd like to restore the old behavior.\n",
      "0.5294117647058824\n",
      "Calculate:  XGBClassifier 4\n",
      "[00:36:09] WARNING: C:/Users/Administrator/workspace/xgboost-win64_release_1.3.0/src/learner.cc:1061: Starting in XGBoost 1.3.0, the default evaluation metric used with the objective 'multi:softprob' was changed from 'merror' to 'mlogloss'. Explicitly set eval_metric if you'd like to restore the old behavior.\n",
      "0.5882352941176471\n",
      "Calculate:  XGBClassifier 5\n",
      "[00:36:13] WARNING: C:/Users/Administrator/workspace/xgboost-win64_release_1.3.0/src/learner.cc:1061: Starting in XGBoost 1.3.0, the default evaluation metric used with the objective 'multi:softprob' was changed from 'merror' to 'mlogloss'. Explicitly set eval_metric if you'd like to restore the old behavior.\n",
      "0.47058823529411764\n",
      "Calculate:  XGBClassifier 6\n",
      "[00:36:18] WARNING: C:/Users/Administrator/workspace/xgboost-win64_release_1.3.0/src/learner.cc:1061: Starting in XGBoost 1.3.0, the default evaluation metric used with the objective 'multi:softprob' was changed from 'merror' to 'mlogloss'. Explicitly set eval_metric if you'd like to restore the old behavior.\n",
      "0.47058823529411764\n",
      "Calculate:  XGBRFClassifier 1\n",
      "[00:36:24] WARNING: C:/Users/Administrator/workspace/xgboost-win64_release_1.3.0/src/learner.cc:1061: Starting in XGBoost 1.3.0, the default evaluation metric used with the objective 'multi:softprob' was changed from 'merror' to 'mlogloss'. Explicitly set eval_metric if you'd like to restore the old behavior.\n",
      "0.4117647058823529\n",
      "Calculate:  XGBRFClassifier 2\n",
      "[00:36:26] WARNING: C:/Users/Administrator/workspace/xgboost-win64_release_1.3.0/src/learner.cc:1061: Starting in XGBoost 1.3.0, the default evaluation metric used with the objective 'multi:softprob' was changed from 'merror' to 'mlogloss'. Explicitly set eval_metric if you'd like to restore the old behavior.\n",
      "0.4117647058823529\n",
      "Calculate:  XGBRFClassifier 3\n",
      "[00:36:31] WARNING: C:/Users/Administrator/workspace/xgboost-win64_release_1.3.0/src/learner.cc:1061: Starting in XGBoost 1.3.0, the default evaluation metric used with the objective 'multi:softprob' was changed from 'merror' to 'mlogloss'. Explicitly set eval_metric if you'd like to restore the old behavior.\n",
      "0.29411764705882354\n",
      "Calculate:  XGBRFClassifier 4\n",
      "[00:36:40] WARNING: C:/Users/Administrator/workspace/xgboost-win64_release_1.3.0/src/learner.cc:1061: Starting in XGBoost 1.3.0, the default evaluation metric used with the objective 'multi:softprob' was changed from 'merror' to 'mlogloss'. Explicitly set eval_metric if you'd like to restore the old behavior.\n",
      "0.35294117647058826\n",
      "Calculate:  XGBRFClassifier 5\n",
      "[00:36:54] WARNING: C:/Users/Administrator/workspace/xgboost-win64_release_1.3.0/src/learner.cc:1061: Starting in XGBoost 1.3.0, the default evaluation metric used with the objective 'multi:softprob' was changed from 'merror' to 'mlogloss'. Explicitly set eval_metric if you'd like to restore the old behavior.\n",
      "0.4117647058823529\n",
      "Calculate:  XGBRFClassifier 6\n",
      "[00:36:58] WARNING: C:/Users/Administrator/workspace/xgboost-win64_release_1.3.0/src/learner.cc:1061: Starting in XGBoost 1.3.0, the default evaluation metric used with the objective 'multi:softprob' was changed from 'merror' to 'mlogloss'. Explicitly set eval_metric if you'd like to restore the old behavior.\n",
      "0.4117647058823529\n"
     ]
    },
    {
     "name": "stderr",
     "output_type": "stream",
     "text": [
      "C:\\Users\\exomat\\anaconda3\\envs\\magisterka_analiza\\lib\\site-packages\\sklearn\\utils\\validation.py:67: FutureWarning: Pass n_features_to_select=10 as keyword args. From version 0.25 passing these as positional arguments will result in an error\n",
      "  warnings.warn(\"Pass {} as keyword args. From version 0.25 \"\n"
     ]
    },
    {
     "name": "stdout",
     "output_type": "stream",
     "text": [
      "Columns with predictive power: ['volume_fi', 'volatility_atr', 'volatility_bbw', 'volatility_dcw', 'volatility_ui', 'trend_macd', 'trend_trix', 'trend_aroon_down', 'trend_aroon_ind', 'close_shift']\n",
      "Calculate:  GradientBoostingClassifier 1S\n",
      "0.47058823529411764\n",
      "Calculate:  GradientBoostingClassifier 2S\n",
      "0.4117647058823529\n",
      "Calculate:  GradientBoostingClassifier 3S\n",
      "0.29411764705882354\n",
      " 1    599\n",
      " 0    585\n",
      "-1    584\n",
      "Name: class_column, dtype: int64\n",
      " 1    599\n",
      " 0    585\n",
      "-1    584\n",
      "Name: class_column, dtype: int64\n",
      "1768\n",
      "Calculate:  DecisionTreeClassifier 1\n",
      "0.47058823529411764\n",
      "Calculate:  DecisionTreeClassifier 2\n",
      "0.4117647058823529\n",
      "Calculate:  DecisionTreeClassifier 3\n",
      "0.9411764705882353\n",
      "Calculate:  DecisionTreeClassifier 4\n",
      "0.4117647058823529\n",
      "Calculate:  DecisionTreeClassifier 5\n",
      "0.4117647058823529\n",
      "Calculate:  RandomForestClassifier 4\n",
      "0.47058823529411764\n",
      "Calculate:  RandomForestClassifier 5\n",
      "0.47058823529411764\n",
      "Calculate:  GradientBoostingClassifier 1\n",
      "0.8823529411764706\n",
      "Calculate:  GradientBoostingClassifier 2\n",
      "0.8235294117647058\n",
      "Calculate:  GradientBoostingClassifier 3\n",
      "1.0\n",
      "Calculate:  XGBClassifier 1\n",
      "[00:39:43] WARNING: C:/Users/Administrator/workspace/xgboost-win64_release_1.3.0/src/learner.cc:1061: Starting in XGBoost 1.3.0, the default evaluation metric used with the objective 'multi:softprob' was changed from 'merror' to 'mlogloss'. Explicitly set eval_metric if you'd like to restore the old behavior.\n"
     ]
    },
    {
     "name": "stderr",
     "output_type": "stream",
     "text": [
      "C:\\Users\\exomat\\anaconda3\\envs\\magisterka_analiza\\lib\\site-packages\\xgboost\\sklearn.py:888: UserWarning: The use of label encoder in XGBClassifier is deprecated and will be removed in a future release. To remove this warning, do the following: 1) Pass option use_label_encoder=False when constructing XGBClassifier object; and 2) Encode your labels (y) as integers starting with 0, i.e. 0, 1, 2, ..., [num_class - 1].\n",
      "  warnings.warn(label_encoder_deprecation_msg, UserWarning)\n"
     ]
    },
    {
     "name": "stdout",
     "output_type": "stream",
     "text": [
      "0.9411764705882353\n",
      "Calculate:  XGBClassifier 2\n",
      "[00:39:49] WARNING: C:/Users/Administrator/workspace/xgboost-win64_release_1.3.0/src/learner.cc:1061: Starting in XGBoost 1.3.0, the default evaluation metric used with the objective 'multi:softprob' was changed from 'merror' to 'mlogloss'. Explicitly set eval_metric if you'd like to restore the old behavior.\n",
      "0.8823529411764706\n",
      "Calculate:  XGBClassifier 3\n",
      "[00:39:54] WARNING: C:/Users/Administrator/workspace/xgboost-win64_release_1.3.0/src/learner.cc:1061: Starting in XGBoost 1.3.0, the default evaluation metric used with the objective 'multi:softprob' was changed from 'merror' to 'mlogloss'. Explicitly set eval_metric if you'd like to restore the old behavior.\n",
      "0.8235294117647058\n",
      "Calculate:  XGBClassifier 4\n",
      "[00:39:59] WARNING: C:/Users/Administrator/workspace/xgboost-win64_release_1.3.0/src/learner.cc:1061: Starting in XGBoost 1.3.0, the default evaluation metric used with the objective 'multi:softprob' was changed from 'merror' to 'mlogloss'. Explicitly set eval_metric if you'd like to restore the old behavior.\n",
      "0.8235294117647058\n",
      "Calculate:  XGBClassifier 5\n",
      "[00:40:04] WARNING: C:/Users/Administrator/workspace/xgboost-win64_release_1.3.0/src/learner.cc:1061: Starting in XGBoost 1.3.0, the default evaluation metric used with the objective 'multi:softprob' was changed from 'merror' to 'mlogloss'. Explicitly set eval_metric if you'd like to restore the old behavior.\n",
      "0.8823529411764706\n",
      "Calculate:  XGBClassifier 6\n",
      "[00:40:09] WARNING: C:/Users/Administrator/workspace/xgboost-win64_release_1.3.0/src/learner.cc:1061: Starting in XGBoost 1.3.0, the default evaluation metric used with the objective 'multi:softprob' was changed from 'merror' to 'mlogloss'. Explicitly set eval_metric if you'd like to restore the old behavior.\n",
      "0.9411764705882353\n",
      "Calculate:  XGBRFClassifier 1\n",
      "[00:40:15] WARNING: C:/Users/Administrator/workspace/xgboost-win64_release_1.3.0/src/learner.cc:1061: Starting in XGBoost 1.3.0, the default evaluation metric used with the objective 'multi:softprob' was changed from 'merror' to 'mlogloss'. Explicitly set eval_metric if you'd like to restore the old behavior.\n",
      "0.47058823529411764\n",
      "Calculate:  XGBRFClassifier 2\n",
      "[00:40:17] WARNING: C:/Users/Administrator/workspace/xgboost-win64_release_1.3.0/src/learner.cc:1061: Starting in XGBoost 1.3.0, the default evaluation metric used with the objective 'multi:softprob' was changed from 'merror' to 'mlogloss'. Explicitly set eval_metric if you'd like to restore the old behavior.\n",
      "0.4117647058823529\n",
      "Calculate:  XGBRFClassifier 3\n",
      "[00:40:22] WARNING: C:/Users/Administrator/workspace/xgboost-win64_release_1.3.0/src/learner.cc:1061: Starting in XGBoost 1.3.0, the default evaluation metric used with the objective 'multi:softprob' was changed from 'merror' to 'mlogloss'. Explicitly set eval_metric if you'd like to restore the old behavior.\n",
      "0.17647058823529413\n",
      "Calculate:  XGBRFClassifier 4\n",
      "[00:40:30] WARNING: C:/Users/Administrator/workspace/xgboost-win64_release_1.3.0/src/learner.cc:1061: Starting in XGBoost 1.3.0, the default evaluation metric used with the objective 'multi:softprob' was changed from 'merror' to 'mlogloss'. Explicitly set eval_metric if you'd like to restore the old behavior.\n",
      "0.4117647058823529\n",
      "Calculate:  XGBRFClassifier 5\n",
      "[00:40:44] WARNING: C:/Users/Administrator/workspace/xgboost-win64_release_1.3.0/src/learner.cc:1061: Starting in XGBoost 1.3.0, the default evaluation metric used with the objective 'multi:softprob' was changed from 'merror' to 'mlogloss'. Explicitly set eval_metric if you'd like to restore the old behavior.\n",
      "0.4117647058823529\n",
      "Calculate:  XGBRFClassifier 6\n",
      "[00:40:48] WARNING: C:/Users/Administrator/workspace/xgboost-win64_release_1.3.0/src/learner.cc:1061: Starting in XGBoost 1.3.0, the default evaluation metric used with the objective 'multi:softprob' was changed from 'merror' to 'mlogloss'. Explicitly set eval_metric if you'd like to restore the old behavior.\n",
      "0.4117647058823529\n"
     ]
    },
    {
     "name": "stderr",
     "output_type": "stream",
     "text": [
      "C:\\Users\\exomat\\anaconda3\\envs\\magisterka_analiza\\lib\\site-packages\\sklearn\\utils\\validation.py:67: FutureWarning: Pass n_features_to_select=10 as keyword args. From version 0.25 passing these as positional arguments will result in an error\n",
      "  warnings.warn(\"Pass {} as keyword args. From version 0.25 \"\n"
     ]
    },
    {
     "name": "stdout",
     "output_type": "stream",
     "text": [
      "Columns with predictive power: ['volatility_atr', 'volatility_bbl', 'volatility_bbw', 'volatility_dcw', 'trend_macd', 'trend_macd_signal', 'trend_trix', 'trend_visual_ichimoku_b', 'trend_aroon_down', 'trend_aroon_ind']\n",
      "Calculate:  GradientBoostingClassifier 1S\n",
      "0.47058823529411764\n",
      "Calculate:  GradientBoostingClassifier 2S\n",
      "0.7058823529411765\n",
      "Calculate:  GradientBoostingClassifier 3S\n",
      "0.6470588235294118\n",
      " 1    604\n",
      " 0    594\n",
      "-1    587\n",
      "Name: class_column, dtype: int64\n",
      " 1    604\n",
      " 0    594\n",
      "-1    587\n",
      "Name: class_column, dtype: int64\n",
      "1785\n",
      "Calculate:  DecisionTreeClassifier 1\n",
      "0.17647058823529413\n",
      "Calculate:  DecisionTreeClassifier 2\n",
      "0.17647058823529413\n",
      "Calculate:  DecisionTreeClassifier 3\n",
      "0.17647058823529413\n",
      "Calculate:  DecisionTreeClassifier 4\n",
      "0.23529411764705882\n",
      "Calculate:  DecisionTreeClassifier 5\n",
      "0.35294117647058826\n",
      "Calculate:  RandomForestClassifier 4\n",
      "0.29411764705882354\n",
      "Calculate:  RandomForestClassifier 5\n",
      "0.11764705882352941\n",
      "Calculate:  GradientBoostingClassifier 1\n",
      "0.5294117647058824\n",
      "Calculate:  GradientBoostingClassifier 2\n",
      "0.5882352941176471\n",
      "Calculate:  GradientBoostingClassifier 3\n",
      "0.8235294117647058\n",
      "Calculate:  XGBClassifier 1\n",
      "[00:43:32] WARNING: C:/Users/Administrator/workspace/xgboost-win64_release_1.3.0/src/learner.cc:1061: Starting in XGBoost 1.3.0, the default evaluation metric used with the objective 'multi:softprob' was changed from 'merror' to 'mlogloss'. Explicitly set eval_metric if you'd like to restore the old behavior.\n"
     ]
    },
    {
     "name": "stderr",
     "output_type": "stream",
     "text": [
      "C:\\Users\\exomat\\anaconda3\\envs\\magisterka_analiza\\lib\\site-packages\\xgboost\\sklearn.py:888: UserWarning: The use of label encoder in XGBClassifier is deprecated and will be removed in a future release. To remove this warning, do the following: 1) Pass option use_label_encoder=False when constructing XGBClassifier object; and 2) Encode your labels (y) as integers starting with 0, i.e. 0, 1, 2, ..., [num_class - 1].\n",
      "  warnings.warn(label_encoder_deprecation_msg, UserWarning)\n"
     ]
    },
    {
     "name": "stdout",
     "output_type": "stream",
     "text": [
      "0.6470588235294118\n",
      "Calculate:  XGBClassifier 2\n",
      "[00:43:38] WARNING: C:/Users/Administrator/workspace/xgboost-win64_release_1.3.0/src/learner.cc:1061: Starting in XGBoost 1.3.0, the default evaluation metric used with the objective 'multi:softprob' was changed from 'merror' to 'mlogloss'. Explicitly set eval_metric if you'd like to restore the old behavior.\n",
      "0.6470588235294118\n",
      "Calculate:  XGBClassifier 3\n",
      "[00:43:42] WARNING: C:/Users/Administrator/workspace/xgboost-win64_release_1.3.0/src/learner.cc:1061: Starting in XGBoost 1.3.0, the default evaluation metric used with the objective 'multi:softprob' was changed from 'merror' to 'mlogloss'. Explicitly set eval_metric if you'd like to restore the old behavior.\n",
      "0.6470588235294118\n",
      "Calculate:  XGBClassifier 4\n",
      "[00:43:49] WARNING: C:/Users/Administrator/workspace/xgboost-win64_release_1.3.0/src/learner.cc:1061: Starting in XGBoost 1.3.0, the default evaluation metric used with the objective 'multi:softprob' was changed from 'merror' to 'mlogloss'. Explicitly set eval_metric if you'd like to restore the old behavior.\n",
      "0.7647058823529411\n",
      "Calculate:  XGBClassifier 5\n",
      "[00:43:52] WARNING: C:/Users/Administrator/workspace/xgboost-win64_release_1.3.0/src/learner.cc:1061: Starting in XGBoost 1.3.0, the default evaluation metric used with the objective 'multi:softprob' was changed from 'merror' to 'mlogloss'. Explicitly set eval_metric if you'd like to restore the old behavior.\n",
      "0.6470588235294118\n",
      "Calculate:  XGBClassifier 6\n",
      "[00:43:57] WARNING: C:/Users/Administrator/workspace/xgboost-win64_release_1.3.0/src/learner.cc:1061: Starting in XGBoost 1.3.0, the default evaluation metric used with the objective 'multi:softprob' was changed from 'merror' to 'mlogloss'. Explicitly set eval_metric if you'd like to restore the old behavior.\n",
      "0.8823529411764706\n",
      "Calculate:  XGBRFClassifier 1\n",
      "[00:44:04] WARNING: C:/Users/Administrator/workspace/xgboost-win64_release_1.3.0/src/learner.cc:1061: Starting in XGBoost 1.3.0, the default evaluation metric used with the objective 'multi:softprob' was changed from 'merror' to 'mlogloss'. Explicitly set eval_metric if you'd like to restore the old behavior.\n",
      "0.5882352941176471\n",
      "Calculate:  XGBRFClassifier 2\n",
      "[00:44:06] WARNING: C:/Users/Administrator/workspace/xgboost-win64_release_1.3.0/src/learner.cc:1061: Starting in XGBoost 1.3.0, the default evaluation metric used with the objective 'multi:softprob' was changed from 'merror' to 'mlogloss'. Explicitly set eval_metric if you'd like to restore the old behavior.\n",
      "0.5882352941176471\n",
      "Calculate:  XGBRFClassifier 3\n",
      "[00:44:11] WARNING: C:/Users/Administrator/workspace/xgboost-win64_release_1.3.0/src/learner.cc:1061: Starting in XGBoost 1.3.0, the default evaluation metric used with the objective 'multi:softprob' was changed from 'merror' to 'mlogloss'. Explicitly set eval_metric if you'd like to restore the old behavior.\n",
      "0.23529411764705882\n",
      "Calculate:  XGBRFClassifier 4\n",
      "[00:44:20] WARNING: C:/Users/Administrator/workspace/xgboost-win64_release_1.3.0/src/learner.cc:1061: Starting in XGBoost 1.3.0, the default evaluation metric used with the objective 'multi:softprob' was changed from 'merror' to 'mlogloss'. Explicitly set eval_metric if you'd like to restore the old behavior.\n",
      "0.6470588235294118\n",
      "Calculate:  XGBRFClassifier 5\n",
      "[00:44:35] WARNING: C:/Users/Administrator/workspace/xgboost-win64_release_1.3.0/src/learner.cc:1061: Starting in XGBoost 1.3.0, the default evaluation metric used with the objective 'multi:softprob' was changed from 'merror' to 'mlogloss'. Explicitly set eval_metric if you'd like to restore the old behavior.\n",
      "0.5882352941176471\n",
      "Calculate:  XGBRFClassifier 6\n",
      "[00:44:40] WARNING: C:/Users/Administrator/workspace/xgboost-win64_release_1.3.0/src/learner.cc:1061: Starting in XGBoost 1.3.0, the default evaluation metric used with the objective 'multi:softprob' was changed from 'merror' to 'mlogloss'. Explicitly set eval_metric if you'd like to restore the old behavior.\n",
      "0.5882352941176471\n"
     ]
    },
    {
     "name": "stderr",
     "output_type": "stream",
     "text": [
      "C:\\Users\\exomat\\anaconda3\\envs\\magisterka_analiza\\lib\\site-packages\\sklearn\\utils\\validation.py:67: FutureWarning: Pass n_features_to_select=10 as keyword args. From version 0.25 passing these as positional arguments will result in an error\n",
      "  warnings.warn(\"Pass {} as keyword args. From version 0.25 \"\n"
     ]
    },
    {
     "name": "stdout",
     "output_type": "stream",
     "text": [
      "Columns with predictive power: ['volume_fi', 'volatility_atr', 'volatility_bbw', 'volatility_dcw', 'trend_macd', 'trend_macd_signal', 'trend_trix', 'trend_visual_ichimoku_b', 'trend_aroon_down', 'trend_aroon_ind']\n",
      "Calculate:  GradientBoostingClassifier 1S\n",
      "0.8235294117647058\n",
      "Calculate:  GradientBoostingClassifier 2S\n",
      "0.8823529411764706\n",
      "Calculate:  GradientBoostingClassifier 3S\n",
      "1.0\n"
     ]
    }
   ],
   "source": [
    "start_data = splited_dataframe[:100]\n",
    "next_data = splited_dataframe[100:105]\n",
    "print(len(next_data))\n",
    "score = defaultdict(list)\n",
    "points = defaultdict(list)\n",
    "points_train = defaultdict(list)\n",
    "score_train = defaultdict(list)\n",
    "step_headers = []\n",
    "i = 0\n",
    "print(\"start\")\n",
    "for idx, day in enumerate(next_data):\n",
    "    start_data.append(day)\n",
    "    data_set = pd.concat(start_data)\n",
    "    data_set = create_class(data_set)\n",
    "    print(data_set['class_column'].value_counts())\n",
    "    y = data_set['class_column']\n",
    "    features = [x for x in data_set.columns if x not in ['class_column']]\n",
    "    x = data_set[features]\n",
    "    x_train= x.iloc[:-17]\n",
    "    y_train= y.iloc[:-17]\n",
    "    x_test =x.iloc[-17:]\n",
    "    y_test=y.iloc[-17:]\n",
    "\n",
    "    print(len(data_set))\n",
    "\n",
    "    step_headers.append(f'<{i}>')\n",
    "    i= i +1\n",
    "    predictions_train= dict()\n",
    "    predictions= dict()\n",
    "\n",
    "    for k,v in classifiers.items():\n",
    "        print(\"Calculate: \", k)\n",
    "        train_model(v,x_train,y_train)\n",
    "        predictions_train[k] = v.predict(x_train)\n",
    "        score_train[k].append(accuracy_score(y_train.values, predictions_train[k]))\n",
    "        predictions[k] = v.predict(x_test)\n",
    "        score[k].append(accuracy_score(y_test.values, predictions[k]))\n",
    "        points_train[k].append(count_correct(predictions_train[k],y_train.values))\n",
    "        points[k].append(count_correct(predictions[k],y_test.values))\n",
    "        print(accuracy_score(y_test.values, predictions[k]))\n",
    "\n",
    "    rfe = RFE(classifiers['RandomForestClassifier 5'],10)\n",
    "    fited = rfe.fit(x_train, y_train)\n",
    "    names = x.columns\n",
    "    columns=[]\n",
    "    for i in range(len(fited.support_)):\n",
    "        if fited.support_[i]:\n",
    "            columns.append(names[i])\n",
    "\n",
    "    print(\"Columns with predictive power:\", columns )\n",
    "    columns = columns + ['high', 'low', 'volume', 'open']\n",
    "    x_test_cropped = x_test[columns]\n",
    "    x_train_cropped = x_train[columns]\n",
    "    for k,v in classifiers_boosted.items():\n",
    "        print(\"Calculate: \", k)\n",
    "        train_model(v,x_train_cropped,y_train)\n",
    "        predictions_train[k] = v.predict(x_train_cropped)\n",
    "        score_train[k].append( accuracy_score(y_train.values, predictions_train[k]))\n",
    "        predictions[k] = v.predict(x_test_cropped)\n",
    "        score[k].append(accuracy_score(y_test.values, predictions[k]))\n",
    "        points_train[k].append(count_correct(predictions_train[k],y_train.values))\n",
    "        points[k].append(count_correct(predictions[k],y_test.values))\n",
    "        print(accuracy_score(y_test.values, predictions[k]))\n",
    "\n",
    "\n"
   ],
   "metadata": {
    "collapsed": false,
    "pycharm": {
     "name": "#%%\n"
    }
   }
  },
  {
   "cell_type": "code",
   "execution_count": 225,
   "outputs": [
    {
     "name": "stdout",
     "output_type": "stream",
     "text": [
      "+----+-------------------------------+----------+----------+----------+----------+----------+----------+\n",
      "|    | Classifier type               |      <0> |     <90> |     <90> |     <90> |     <90> |     mean |\n",
      "|----+-------------------------------+----------+----------+----------+----------+----------+----------|\n",
      "|  0 | DecisionTreeClassifier 1      | 0.411765 | 0.176471 | 0.235294 | 0.470588 | 0.176471 | 0.294118 |\n",
      "|  1 | DecisionTreeClassifier 2      | 0.529412 | 0.117647 | 0.352941 | 0.411765 | 0.176471 | 0.317647 |\n",
      "|  2 | DecisionTreeClassifier 3      | 0.470588 | 0.411765 | 0.294118 | 0.941176 | 0.176471 | 0.458824 |\n",
      "|  3 | DecisionTreeClassifier 4      | 0.529412 | 0.352941 | 0.352941 | 0.411765 | 0.235294 | 0.376471 |\n",
      "|  4 | DecisionTreeClassifier 5      | 0.352941 | 0.470588 | 0.529412 | 0.411765 | 0.352941 | 0.423529 |\n",
      "|  5 | RandomForestClassifier 4      | 0.529412 | 0.470588 | 0.764706 | 0.470588 | 0.294118 | 0.505882 |\n",
      "|  6 | RandomForestClassifier 5      | 0.529412 | 0.647059 | 0.764706 | 0.470588 | 0.117647 | 0.505882 |\n",
      "|  7 | GradientBoostingClassifier 1  | 0.764706 | 0.705882 | 0.529412 | 0.882353 | 0.529412 | 0.682353 |\n",
      "|  8 | GradientBoostingClassifier 2  | 0.647059 | 0.705882 | 0.529412 | 0.823529 | 0.588235 | 0.658824 |\n",
      "|  9 | GradientBoostingClassifier 3  | 0.588235 | 0.705882 | 0.588235 | 1        | 0.823529 | 0.741176 |\n",
      "| 10 | XGBClassifier 1               | 0.529412 | 0.647059 | 0.470588 | 0.941176 | 0.647059 | 0.647059 |\n",
      "| 11 | XGBClassifier 2               | 0.588235 | 0.705882 | 0.470588 | 0.882353 | 0.647059 | 0.658824 |\n",
      "| 12 | XGBClassifier 3               | 0.588235 | 0.588235 | 0.529412 | 0.823529 | 0.647059 | 0.635294 |\n",
      "| 13 | XGBClassifier 4               | 0.529412 | 0.705882 | 0.588235 | 0.823529 | 0.764706 | 0.682353 |\n",
      "| 14 | XGBClassifier 5               | 0.705882 | 0.705882 | 0.470588 | 0.882353 | 0.647059 | 0.682353 |\n",
      "| 15 | XGBClassifier 6               | 0.529412 | 0.823529 | 0.470588 | 0.941176 | 0.882353 | 0.729412 |\n",
      "| 16 | XGBRFClassifier 1             | 0.529412 | 0.411765 | 0.411765 | 0.470588 | 0.588235 | 0.482353 |\n",
      "| 17 | XGBRFClassifier 2             | 0.529412 | 0.411765 | 0.411765 | 0.411765 | 0.588235 | 0.470588 |\n",
      "| 18 | XGBRFClassifier 3             | 0.529412 | 0.176471 | 0.294118 | 0.176471 | 0.235294 | 0.282353 |\n",
      "| 19 | XGBRFClassifier 4             | 0.588235 | 0.352941 | 0.352941 | 0.411765 | 0.647059 | 0.470588 |\n",
      "| 20 | XGBRFClassifier 5             | 0.470588 | 0.352941 | 0.411765 | 0.411765 | 0.588235 | 0.447059 |\n",
      "| 21 | XGBRFClassifier 6             | 0.588235 | 0.352941 | 0.411765 | 0.411765 | 0.588235 | 0.470588 |\n",
      "| 22 | GradientBoostingClassifier 1S | 0.588235 | 0.941176 | 0.470588 | 0.470588 | 0.823529 | 0.658824 |\n",
      "| 23 | GradientBoostingClassifier 2S | 0.352941 | 0.764706 | 0.411765 | 0.705882 | 0.882353 | 0.623529 |\n",
      "| 24 | GradientBoostingClassifier 3S | 0.352941 | 0.764706 | 0.294118 | 0.647059 | 1        | 0.611765 |\n",
      "+----+-------------------------------+----------+----------+----------+----------+----------+----------+\n"
     ]
    }
   ],
   "source": [
    "headers = [\"Classifier type\", \"Accuracy\"]\n",
    "score_df = pd.DataFrame(score.items(), columns=headers)\n",
    "# print(tabulate(score_df, headers, tablefmt=\"psql\"))\n",
    "headers2 = [\"Classifier type\",] + step_headers\n",
    "score_df = pd.DataFrame(score.items(), columns=headers)\n",
    "accuracy_df = pd.DataFrame(score_df['Accuracy'].tolist(), index= score_df.index, columns=step_headers)\n",
    "score_df = score_df.drop('Accuracy', 1)\n",
    "f_out = pd.merge(score_df, accuracy_df, how='left', left_index=True, right_index=True)\n",
    "f_out['mean'] = f_out.mean(axis=1)\n",
    "headers2 = headers2 + ['mean']\n",
    "print(tabulate(f_out,headers2 , tablefmt=\"psql\"))\n",
    "\n",
    "filename_to_export_train = f'C:\\\\Users\\\\exomat\\\\Desktop\\\\repo\\\\magisterka_analiza\\\\data\\\\results\\\\train_test\\\\result_test_{symbol}_{WINDOW}_{datetime.now().strftime(\"%d_%m_%Y %H_%M_%S\")}.csv'\n",
    "filename_to_export = f'C:\\\\Users\\\\exomat\\\\Desktop\\\\repo\\\\magisterka_analiza\\\\data\\\\results\\\\train_test\\\\result_train_{symbol}_{WINDOW}_{datetime.now().strftime(\"%d_%m_%Y %H_%M_%S\")}.csv'\n",
    "\n",
    "f_out.to_csv(filename_to_export, index=False)"
   ],
   "metadata": {
    "collapsed": false,
    "pycharm": {
     "name": "#%%\n"
    }
   }
  },
  {
   "cell_type": "code",
   "execution_count": 226,
   "outputs": [
    {
     "data": {
      "text/plain": "defaultdict(list,\n            {'DecisionTreeClassifier 1': [0.92,\n              0.9295282469423413,\n              0.933679354094579,\n              0.9189034837235865,\n              0.9298642533936652],\n             'DecisionTreeClassifier 2': [1.0,\n              1.0,\n              0.9994232987312572,\n              0.9988577955454027,\n              0.998868778280543],\n             'DecisionTreeClassifier 3': [0.8323529411764706,\n              0.8124635993011066,\n              0.8137254901960784,\n              0.7966876070816676,\n              0.7997737556561086],\n             'DecisionTreeClassifier 4': [0.9129411764705883,\n              0.8980780430984275,\n              0.9002306805074971,\n              0.9120502569960023,\n              0.8981900452488688],\n             'DecisionTreeClassifier 5': [0.9988235294117647,\n              0.9924286546301689,\n              0.9930795847750865,\n              1.0,\n              0.9932126696832579],\n             'RandomForestClassifier 4': [0.6276470588235294,\n              0.6208503203261503,\n              0.6141868512110726,\n              0.6213592233009708,\n              0.6119909502262444],\n             'RandomForestClassifier 5': [0.5488235294117647,\n              0.5270821199767035,\n              0.5288350634371396,\n              0.5316961736150772,\n              0.5192307692307693],\n             'GradientBoostingClassifier 1': [0.9394117647058824,\n              0.9341875364006988,\n              0.9388696655132641,\n              0.9354654483152485,\n              0.9326923076923077],\n             'GradientBoostingClassifier 2': [1.0, 1.0, 1.0, 1.0, 1.0],\n             'GradientBoostingClassifier 3': [1.0, 1.0, 1.0, 1.0, 1.0],\n             'XGBClassifier 1': [1.0, 1.0, 1.0, 1.0, 1.0],\n             'XGBClassifier 2': [1.0, 1.0, 1.0, 1.0, 1.0],\n             'XGBClassifier 3': [1.0, 1.0, 1.0, 1.0, 1.0],\n             'XGBClassifier 4': [1.0, 1.0, 1.0, 1.0, 1.0],\n             'XGBClassifier 5': [1.0, 1.0, 1.0, 1.0, 1.0],\n             'XGBClassifier 6': [1.0, 1.0, 1.0, 1.0, 1.0],\n             'XGBRFClassifier 1': [0.9935294117647059,\n              0.9947582993593477,\n              0.9919261822376009,\n              0.9942889777270132,\n              0.9920814479638009],\n             'XGBRFClassifier 2': [0.9970588235294118,\n              0.9982527664531159,\n              0.9965397923875432,\n              0.9977155910908052,\n              0.9971719457013575],\n             'XGBRFClassifier 3': [0.658235294117647,\n              0.6598718695398952,\n              0.6464821222606689,\n              0.6493432324386065,\n              0.6515837104072398],\n             'XGBRFClassifier 4': [0.8676470588235294,\n              0.8707047175305765,\n              0.8748558246828143,\n              0.8686464877213022,\n              0.871606334841629],\n             'XGBRFClassifier 5': [0.9794117647058823,\n              0.9813628421665695,\n              0.9803921568627451,\n              0.9771559109080525,\n              0.9768099547511312],\n             'XGBRFClassifier 6': [0.9758823529411764,\n              0.9842748980780431,\n              0.9803921568627451,\n              0.981724728726442,\n              0.9773755656108597],\n             'GradientBoostingClassifier 1S': [0.8605882352941177,\n              0.9132207338380897,\n              0.9146482122260668,\n              0.8532267275842376,\n              0.8467194570135747],\n             'GradientBoostingClassifier 2S': [1.0, 1.0, 1.0, 1.0, 1.0],\n             'GradientBoostingClassifier 3S': [1.0, 1.0, 1.0, 1.0, 1.0]})"
     },
     "execution_count": 226,
     "metadata": {},
     "output_type": "execute_result"
    }
   ],
   "source": [
    "score_train"
   ],
   "metadata": {
    "collapsed": false,
    "pycharm": {
     "name": "#%%\n"
    }
   }
  },
  {
   "cell_type": "code",
   "execution_count": 227,
   "outputs": [
    {
     "name": "stdout",
     "output_type": "stream",
     "text": [
      "+----+-------------------------------+----------+----------+----------+----------+----------+----------+\n",
      "|    | Classifier type               |      <0> |     <90> |     <90> |     <90> |     <90> |     mean |\n",
      "|----+-------------------------------+----------+----------+----------+----------+----------+----------|\n",
      "|  0 | DecisionTreeClassifier 1      | 0.92     | 0.929528 | 0.933679 | 0.918903 | 0.929864 | 0.926395 |\n",
      "|  1 | DecisionTreeClassifier 2      | 1        | 1        | 0.999423 | 0.998858 | 0.998869 | 0.99943  |\n",
      "|  2 | DecisionTreeClassifier 3      | 0.832353 | 0.812464 | 0.813725 | 0.796688 | 0.799774 | 0.811001 |\n",
      "|  3 | DecisionTreeClassifier 4      | 0.912941 | 0.898078 | 0.900231 | 0.91205  | 0.89819  | 0.904298 |\n",
      "|  4 | DecisionTreeClassifier 5      | 0.998824 | 0.992429 | 0.99308  | 1        | 0.993213 | 0.995509 |\n",
      "|  5 | RandomForestClassifier 4      | 0.627647 | 0.62085  | 0.614187 | 0.621359 | 0.611991 | 0.619207 |\n",
      "|  6 | RandomForestClassifier 5      | 0.548824 | 0.527082 | 0.528835 | 0.531696 | 0.519231 | 0.531134 |\n",
      "|  7 | GradientBoostingClassifier 1  | 0.939412 | 0.934188 | 0.93887  | 0.935465 | 0.932692 | 0.936125 |\n",
      "|  8 | GradientBoostingClassifier 2  | 1        | 1        | 1        | 1        | 1        | 1        |\n",
      "|  9 | GradientBoostingClassifier 3  | 1        | 1        | 1        | 1        | 1        | 1        |\n",
      "| 10 | XGBClassifier 1               | 1        | 1        | 1        | 1        | 1        | 1        |\n",
      "| 11 | XGBClassifier 2               | 1        | 1        | 1        | 1        | 1        | 1        |\n",
      "| 12 | XGBClassifier 3               | 1        | 1        | 1        | 1        | 1        | 1        |\n",
      "| 13 | XGBClassifier 4               | 1        | 1        | 1        | 1        | 1        | 1        |\n",
      "| 14 | XGBClassifier 5               | 1        | 1        | 1        | 1        | 1        | 1        |\n",
      "| 15 | XGBClassifier 6               | 1        | 1        | 1        | 1        | 1        | 1        |\n",
      "| 16 | XGBRFClassifier 1             | 0.993529 | 0.994758 | 0.991926 | 0.994289 | 0.992081 | 0.993317 |\n",
      "| 17 | XGBRFClassifier 2             | 0.997059 | 0.998253 | 0.99654  | 0.997716 | 0.997172 | 0.997348 |\n",
      "| 18 | XGBRFClassifier 3             | 0.658235 | 0.659872 | 0.646482 | 0.649343 | 0.651584 | 0.653103 |\n",
      "| 19 | XGBRFClassifier 4             | 0.867647 | 0.870705 | 0.874856 | 0.868646 | 0.871606 | 0.870692 |\n",
      "| 20 | XGBRFClassifier 5             | 0.979412 | 0.981363 | 0.980392 | 0.977156 | 0.97681  | 0.979027 |\n",
      "| 21 | XGBRFClassifier 6             | 0.975882 | 0.984275 | 0.980392 | 0.981725 | 0.977376 | 0.97993  |\n",
      "| 22 | GradientBoostingClassifier 1S | 0.860588 | 0.913221 | 0.914648 | 0.853227 | 0.846719 | 0.877681 |\n",
      "| 23 | GradientBoostingClassifier 2S | 1        | 1        | 1        | 1        | 1        | 1        |\n",
      "| 24 | GradientBoostingClassifier 3S | 1        | 1        | 1        | 1        | 1        | 1        |\n",
      "+----+-------------------------------+----------+----------+----------+----------+----------+----------+\n"
     ]
    }
   ],
   "source": [
    "# print(tabulate(score_df, headers, tablefmt=\"psql\"))\n",
    "headers = [\"Classifier type\", \"Accuracy\"]\n",
    "score_df_train = pd.DataFrame(score_train.items(), columns=headers)\n",
    "headers2 = [\"Classifier type\",] + step_headers\n",
    "score_df_train = pd.DataFrame(score_train.items(), columns=headers)\n",
    "accuracy_df_train = pd.DataFrame(score_df_train['Accuracy'].tolist(), index= score_df_train.index, columns=step_headers)\n",
    "score_df_train = score_df_train.drop('Accuracy', 1)\n",
    "f_out_train = pd.merge(score_df_train, accuracy_df_train, how='left', left_index=True, right_index=True)\n",
    "f_out_train['mean'] = f_out_train.mean(axis=1)\n",
    "headers2 = headers2 + ['mean']\n",
    "print(tabulate(f_out_train,headers2 , tablefmt=\"psql\"))\n",
    "\n",
    "filename_to_export_train = f'C:\\\\Users\\\\exomat\\\\Desktop\\\\repo\\\\magisterka_analiza\\\\data\\\\results\\\\train_test\\\\result_test_{symbol}_{WINDOW}_{datetime.now().strftime(\"%d_%m_%Y %H_%M_%S\")}.csv'\n",
    "filename_to_export = f'C:\\\\Users\\\\exomat\\\\Desktop\\\\repo\\\\magisterka_analiza\\\\data\\\\results\\\\train_test\\\\result_train_{symbol}_{WINDOW}_{datetime.now().strftime(\"%d_%m_%Y %H_%M_%S\")}.csv'\n",
    "\n",
    "f_out_train.to_csv(filename_to_export_train, index=False)"
   ],
   "metadata": {
    "collapsed": false,
    "pycharm": {
     "name": "#%%\n"
    }
   }
  },
  {
   "cell_type": "code",
   "execution_count": 228,
   "outputs": [
    {
     "data": {
      "text/plain": "defaultdict(list,\n            {'DecisionTreeClassifier 1': [(4, 17),\n              (2, 17),\n              (1, 17),\n              (5, 17),\n              (3, 17)],\n             'DecisionTreeClassifier 2': [(4, 17),\n              (2, 17),\n              (2, 17),\n              (4, 17),\n              (3, 17)],\n             'DecisionTreeClassifier 3': [(5, 17),\n              (1, 17),\n              (2, 17),\n              (4, 17),\n              (3, 17)],\n             'DecisionTreeClassifier 4': [(3, 17),\n              (0, 17),\n              (4, 17),\n              (0, 17),\n              (4, 17)],\n             'DecisionTreeClassifier 5': [(3, 17),\n              (0, 17),\n              (4, 17),\n              (0, 17),\n              (6, 17)],\n             'RandomForestClassifier 4': [(5, 17),\n              (3, 17),\n              (8, 17),\n              (4, 17),\n              (5, 17)],\n             'RandomForestClassifier 5': [(5, 17),\n              (7, 17),\n              (8, 17),\n              (4, 17),\n              (2, 17)],\n             'GradientBoostingClassifier 1': [(4, 17),\n              (3, 17),\n              (3, 17),\n              (4, 17),\n              (9, 17)],\n             'GradientBoostingClassifier 2': [(4, 17),\n              (4, 17),\n              (3, 17),\n              (3, 17),\n              (10, 17)],\n             'GradientBoostingClassifier 3': [(5, 17),\n              (3, 17),\n              (5, 17),\n              (5, 17),\n              (14, 17)],\n             'XGBClassifier 1': [(4, 17), (2, 17), (2, 17), (4, 17), (11, 17)],\n             'XGBClassifier 2': [(4, 17), (3, 17), (2, 17), (4, 17), (11, 17)],\n             'XGBClassifier 3': [(4, 17), (1, 17), (3, 17), (2, 17), (11, 17)],\n             'XGBClassifier 4': [(4, 17), (3, 17), (4, 17), (3, 17), (13, 17)],\n             'XGBClassifier 5': [(4, 17), (3, 17), (2, 17), (4, 17), (11, 17)],\n             'XGBClassifier 6': [(4, 17), (5, 17), (2, 17), (4, 17), (15, 17)],\n             'XGBRFClassifier 1': [(4, 17),\n              (0, 17),\n              (3, 17),\n              (4, 17),\n              (10, 17)],\n             'XGBRFClassifier 2': [(4, 17),\n              (0, 17),\n              (3, 17),\n              (4, 17),\n              (10, 17)],\n             'XGBRFClassifier 3': [(4, 17),\n              (0, 17),\n              (0, 17),\n              (0, 17),\n              (4, 17)],\n             'XGBRFClassifier 4': [(4, 17),\n              (0, 17),\n              (2, 17),\n              (4, 17),\n              (11, 17)],\n             'XGBRFClassifier 5': [(4, 17),\n              (0, 17),\n              (3, 17),\n              (4, 17),\n              (10, 17)],\n             'XGBRFClassifier 6': [(4, 17),\n              (0, 17),\n              (3, 17),\n              (4, 17),\n              (10, 17)],\n             'GradientBoostingClassifier 1S': [(4, 17),\n              (7, 17),\n              (2, 17),\n              (5, 17),\n              (14, 17)],\n             'GradientBoostingClassifier 2S': [(3, 17),\n              (4, 17),\n              (4, 17),\n              (5, 17),\n              (15, 17)],\n             'GradientBoostingClassifier 3S': [(3, 17),\n              (4, 17),\n              (2, 17),\n              (5, 17),\n              (17, 17)]})"
     },
     "execution_count": 228,
     "metadata": {},
     "output_type": "execute_result"
    }
   ],
   "source": [
    "points"
   ],
   "metadata": {
    "collapsed": false,
    "pycharm": {
     "name": "#%%\n"
    }
   }
  },
  {
   "cell_type": "code",
   "execution_count": null,
   "outputs": [],
   "source": [],
   "metadata": {
    "collapsed": false,
    "pycharm": {
     "name": "#%%\n"
    }
   }
  }
 ],
 "metadata": {
  "kernelspec": {
   "name": "magisterka_analiza",
   "language": "python",
   "display_name": "Python magisterka"
  },
  "language_info": {
   "codemirror_mode": {
    "name": "ipython",
    "version": 2
   },
   "file_extension": ".py",
   "mimetype": "text/x-python",
   "name": "python",
   "nbconvert_exporter": "python",
   "pygments_lexer": "ipython2",
   "version": "2.7.6"
  }
 },
 "nbformat": 4,
 "nbformat_minor": 0
}