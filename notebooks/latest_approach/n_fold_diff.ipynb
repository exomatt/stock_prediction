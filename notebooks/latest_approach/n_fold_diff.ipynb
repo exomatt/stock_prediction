{
 "cells": [
  {
   "cell_type": "code",
   "execution_count": 35,
   "metadata": {
    "collapsed": true
   },
   "outputs": [],
   "source": [
    "from collections import defaultdict\n",
    "\n",
    "import yfinance as yf\n",
    "from datetime import datetime\n",
    "import pandas as pd\n",
    "import numpy as np\n",
    "import matplotlib.pyplot as plt\n",
    "from finta import TA\n",
    "import numpy as np\n",
    "from sklearn.ensemble import RandomForestClassifier, VotingClassifier\n",
    "from sklearn.model_selection import GridSearchCV, train_test_split\n",
    "from sklearn.preprocessing import MinMaxScaler\n",
    "from sklearn.tree import DecisionTreeClassifier\n",
    "from sklearn.ensemble import GradientBoostingClassifier\n",
    "from sklearn.metrics import confusion_matrix, classification_report, accuracy_score\n",
    "from sklearn.metrics import jaccard_score\n",
    "import seaborn as sn\n",
    "from tabulate import tabulate\n",
    "from xgboost import XGBClassifier\n",
    "from ta import add_all_ta_features\n",
    "from sklearn.feature_selection import RFE\n",
    "import xgboost as xgb"
   ]
  },
  {
   "cell_type": "code",
   "execution_count": 36,
   "outputs": [],
   "source": [
    "WINDOW = 16  # number of rows to look ahead to see what the price did\n",
    "FETCH_INTERVAL = \"60m\"  # fetch data by interval (including intraday if period < 60 days)\n",
    "# valid intervals: 1m,2m,5m,15m,30m,60m,90m,1h,1d,5d,1wk,1mo,3mo\n",
    "# (optional, default is '1d')\n",
    "INTERVAL = '2y'  # use \"period\" instead of start/end\n",
    "# valid periods: 1d,5d,1mo,3mo,6mo,1y,2y,5y,10y,ytd,max\n",
    "# (optional, default is '1mo')\n",
    "symbol = 'AAPL'  # Symbol of the desired stock\n",
    "\n",
    "# one day 16 rows of data\n"
   ],
   "metadata": {
    "collapsed": false,
    "pycharm": {
     "name": "#%%\n"
    }
   }
  },
  {
   "cell_type": "code",
   "execution_count": 37,
   "outputs": [
    {
     "name": "stdout",
     "output_type": "stream",
     "text": [
      "[*********************100%***********************]  1 of 1 completed\n"
     ]
    },
    {
     "data": {
      "text/plain": "                                 Open        High         Low       Close  \\\nDatetime                                                                    \n2019-08-21 04:00:00-04:00   52.775000   53.110000   52.775000   53.050000   \n2019-08-21 05:00:00-04:00   53.045000   53.150000   53.045000   53.150000   \n2019-08-21 06:00:00-04:00   53.152500   53.200000   53.045000   53.080000   \n2019-08-21 07:00:00-04:00   53.112500   53.112500   53.000000   53.070000   \n2019-08-21 08:00:00-04:00   53.050000   53.100000   53.000000   53.065000   \n...                               ...         ...         ...         ...   \n2021-08-20 15:30:00-04:00  148.087006  148.289993  147.945007  148.190002   \n2021-08-20 16:00:00-04:00  148.190000  148.300000  147.616000  148.190000   \n2021-08-20 17:00:00-04:00  148.170000  149.580000  142.382000  148.200000   \n2021-08-20 18:00:00-04:00  148.190000  148.400000  148.160000  148.200000   \n2021-08-20 19:00:00-04:00  148.190000  148.310000  148.120100  148.310000   \n\n                            Adj Close   Volume  \nDatetime                                        \n2019-08-21 04:00:00-04:00   53.050000        0  \n2019-08-21 05:00:00-04:00   53.150000        0  \n2019-08-21 06:00:00-04:00   53.080000        0  \n2019-08-21 07:00:00-04:00   53.070000        0  \n2019-08-21 08:00:00-04:00   53.065000        0  \n...                               ...      ...  \n2021-08-20 15:30:00-04:00  148.190002  6188690  \n2021-08-20 16:00:00-04:00  148.190000        0  \n2021-08-20 17:00:00-04:00  148.200000        0  \n2021-08-20 18:00:00-04:00  148.200000        0  \n2021-08-20 19:00:00-04:00  148.310000        0  \n\n[8379 rows x 6 columns]",
      "text/html": "<div>\n<style scoped>\n    .dataframe tbody tr th:only-of-type {\n        vertical-align: middle;\n    }\n\n    .dataframe tbody tr th {\n        vertical-align: top;\n    }\n\n    .dataframe thead th {\n        text-align: right;\n    }\n</style>\n<table border=\"1\" class=\"dataframe\">\n  <thead>\n    <tr style=\"text-align: right;\">\n      <th></th>\n      <th>Open</th>\n      <th>High</th>\n      <th>Low</th>\n      <th>Close</th>\n      <th>Adj Close</th>\n      <th>Volume</th>\n    </tr>\n    <tr>\n      <th>Datetime</th>\n      <th></th>\n      <th></th>\n      <th></th>\n      <th></th>\n      <th></th>\n      <th></th>\n    </tr>\n  </thead>\n  <tbody>\n    <tr>\n      <th>2019-08-21 04:00:00-04:00</th>\n      <td>52.775000</td>\n      <td>53.110000</td>\n      <td>52.775000</td>\n      <td>53.050000</td>\n      <td>53.050000</td>\n      <td>0</td>\n    </tr>\n    <tr>\n      <th>2019-08-21 05:00:00-04:00</th>\n      <td>53.045000</td>\n      <td>53.150000</td>\n      <td>53.045000</td>\n      <td>53.150000</td>\n      <td>53.150000</td>\n      <td>0</td>\n    </tr>\n    <tr>\n      <th>2019-08-21 06:00:00-04:00</th>\n      <td>53.152500</td>\n      <td>53.200000</td>\n      <td>53.045000</td>\n      <td>53.080000</td>\n      <td>53.080000</td>\n      <td>0</td>\n    </tr>\n    <tr>\n      <th>2019-08-21 07:00:00-04:00</th>\n      <td>53.112500</td>\n      <td>53.112500</td>\n      <td>53.000000</td>\n      <td>53.070000</td>\n      <td>53.070000</td>\n      <td>0</td>\n    </tr>\n    <tr>\n      <th>2019-08-21 08:00:00-04:00</th>\n      <td>53.050000</td>\n      <td>53.100000</td>\n      <td>53.000000</td>\n      <td>53.065000</td>\n      <td>53.065000</td>\n      <td>0</td>\n    </tr>\n    <tr>\n      <th>...</th>\n      <td>...</td>\n      <td>...</td>\n      <td>...</td>\n      <td>...</td>\n      <td>...</td>\n      <td>...</td>\n    </tr>\n    <tr>\n      <th>2021-08-20 15:30:00-04:00</th>\n      <td>148.087006</td>\n      <td>148.289993</td>\n      <td>147.945007</td>\n      <td>148.190002</td>\n      <td>148.190002</td>\n      <td>6188690</td>\n    </tr>\n    <tr>\n      <th>2021-08-20 16:00:00-04:00</th>\n      <td>148.190000</td>\n      <td>148.300000</td>\n      <td>147.616000</td>\n      <td>148.190000</td>\n      <td>148.190000</td>\n      <td>0</td>\n    </tr>\n    <tr>\n      <th>2021-08-20 17:00:00-04:00</th>\n      <td>148.170000</td>\n      <td>149.580000</td>\n      <td>142.382000</td>\n      <td>148.200000</td>\n      <td>148.200000</td>\n      <td>0</td>\n    </tr>\n    <tr>\n      <th>2021-08-20 18:00:00-04:00</th>\n      <td>148.190000</td>\n      <td>148.400000</td>\n      <td>148.160000</td>\n      <td>148.200000</td>\n      <td>148.200000</td>\n      <td>0</td>\n    </tr>\n    <tr>\n      <th>2021-08-20 19:00:00-04:00</th>\n      <td>148.190000</td>\n      <td>148.310000</td>\n      <td>148.120100</td>\n      <td>148.310000</td>\n      <td>148.310000</td>\n      <td>0</td>\n    </tr>\n  </tbody>\n</table>\n<p>8379 rows × 6 columns</p>\n</div>"
     },
     "execution_count": 37,
     "metadata": {},
     "output_type": "execute_result"
    }
   ],
   "source": [
    "data = yf.download(  # or pdr.get_data_yahoo(...\n",
    "    tickers=symbol,\n",
    "\n",
    "    period=INTERVAL,\n",
    "\n",
    "    interval=FETCH_INTERVAL,\n",
    "\n",
    "    # group by ticker (to access via data['SPY'])\n",
    "    # (optional, default is 'column')\n",
    "    group_by='ticker',\n",
    "\n",
    "    # adjust all OHLC automatically\n",
    "    # (optional, default is False)\n",
    "    # auto_adjust = True,\n",
    "\n",
    "    # download pre/post regular market hours data\n",
    "    # (optional, default is False)\n",
    "    prepost=True,\n",
    "\n",
    "    # use threads for mass downloading? (True/False/Integer)\n",
    "    # (optional, default is True)\n",
    "    threads=False,\n",
    "\n",
    "    # proxy URL scheme use use when downloading?\n",
    "    # (optional, default is None)\n",
    "    proxy=None\n",
    ")\n",
    "data"
   ],
   "metadata": {
    "collapsed": false,
    "pycharm": {
     "name": "#%%\n"
    }
   }
  },
  {
   "cell_type": "code",
   "execution_count": 38,
   "outputs": [],
   "source": [
    "data.rename(columns={\"Close\": 'close', \"High\": 'high', \"Low\": 'low', 'Volume': 'volume', 'Open': 'open'}, inplace=True)\n",
    "data.head(10)\n",
    "important_columns = ['open', 'high', 'low', 'close', 'volume']"
   ],
   "metadata": {
    "collapsed": false,
    "pycharm": {
     "name": "#%%\n"
    }
   }
  },
  {
   "cell_type": "code",
   "execution_count": 39,
   "outputs": [],
   "source": [
    "\n",
    "def calculate_diffs(diff_number, col_name):\n",
    "    new_col_name = f'{col_name}_{diff_number}'\n",
    "    data[new_col_name] = data[col_name].diff(diff_number)"
   ],
   "metadata": {
    "collapsed": false,
    "pycharm": {
     "name": "#%%\n"
    }
   }
  },
  {
   "cell_type": "code",
   "execution_count": 40,
   "outputs": [],
   "source": [
    "# for name in important_columns:\n",
    "#     for i in range(1, 11):\n",
    "#         calculate_diffs(i, name)\n",
    "#\n",
    "# data.head(10)"
   ],
   "metadata": {
    "collapsed": false,
    "pycharm": {
     "name": "#%%\n"
    }
   }
  },
  {
   "cell_type": "code",
   "execution_count": 41,
   "outputs": [],
   "source": [
    "data = data.dropna()"
   ],
   "metadata": {
    "collapsed": false,
    "pycharm": {
     "name": "#%%\n"
    }
   }
  },
  {
   "cell_type": "code",
   "execution_count": 42,
   "outputs": [
    {
     "data": {
      "text/plain": "<AxesSubplot:xlabel='Datetime'>"
     },
     "execution_count": 42,
     "metadata": {},
     "output_type": "execute_result"
    },
    {
     "data": {
      "text/plain": "<Figure size 432x288 with 1 Axes>",
      "image/png": "[encoded data removed]"
     },
     "metadata": {
      "needs_background": "light"
     },
     "output_type": "display_data"
    }
   ],
   "source": [
    "data['close'].plot()"
   ],
   "metadata": {
    "collapsed": false,
    "pycharm": {
     "name": "#%%\n"
    }
   }
  },
  {
   "cell_type": "code",
   "execution_count": 43,
   "outputs": [
    {
     "data": {
      "text/plain": "                              open     high     low   close  Adj Close  \\\nDatetime                                                                 \n2019-08-21 04:00:00-04:00  52.7750  53.1100  52.775  53.050     53.050   \n2019-08-21 05:00:00-04:00  53.0450  53.1500  53.045  53.150     53.150   \n2019-08-21 06:00:00-04:00  53.1525  53.2000  53.045  53.080     53.080   \n2019-08-21 07:00:00-04:00  53.1125  53.1125  53.000  53.070     53.070   \n2019-08-21 08:00:00-04:00  53.0500  53.1000  53.000  53.065     53.065   \n\n                           volume  close_pct  \nDatetime                                      \n2019-08-21 04:00:00-04:00       0        NaN  \n2019-08-21 05:00:00-04:00       0   0.001885  \n2019-08-21 06:00:00-04:00       0  -0.001317  \n2019-08-21 07:00:00-04:00       0  -0.000188  \n2019-08-21 08:00:00-04:00       0  -0.000094  ",
      "text/html": "<div>\n<style scoped>\n    .dataframe tbody tr th:only-of-type {\n        vertical-align: middle;\n    }\n\n    .dataframe tbody tr th {\n        vertical-align: top;\n    }\n\n    .dataframe thead th {\n        text-align: right;\n    }\n</style>\n<table border=\"1\" class=\"dataframe\">\n  <thead>\n    <tr style=\"text-align: right;\">\n      <th></th>\n      <th>open</th>\n      <th>high</th>\n      <th>low</th>\n      <th>close</th>\n      <th>Adj Close</th>\n      <th>volume</th>\n      <th>close_pct</th>\n    </tr>\n    <tr>\n      <th>Datetime</th>\n      <th></th>\n      <th></th>\n      <th></th>\n      <th></th>\n      <th></th>\n      <th></th>\n      <th></th>\n    </tr>\n  </thead>\n  <tbody>\n    <tr>\n      <th>2019-08-21 04:00:00-04:00</th>\n      <td>52.7750</td>\n      <td>53.1100</td>\n      <td>52.775</td>\n      <td>53.050</td>\n      <td>53.050</td>\n      <td>0</td>\n      <td>NaN</td>\n    </tr>\n    <tr>\n      <th>2019-08-21 05:00:00-04:00</th>\n      <td>53.0450</td>\n      <td>53.1500</td>\n      <td>53.045</td>\n      <td>53.150</td>\n      <td>53.150</td>\n      <td>0</td>\n      <td>0.001885</td>\n    </tr>\n    <tr>\n      <th>2019-08-21 06:00:00-04:00</th>\n      <td>53.1525</td>\n      <td>53.2000</td>\n      <td>53.045</td>\n      <td>53.080</td>\n      <td>53.080</td>\n      <td>0</td>\n      <td>-0.001317</td>\n    </tr>\n    <tr>\n      <th>2019-08-21 07:00:00-04:00</th>\n      <td>53.1125</td>\n      <td>53.1125</td>\n      <td>53.000</td>\n      <td>53.070</td>\n      <td>53.070</td>\n      <td>0</td>\n      <td>-0.000188</td>\n    </tr>\n    <tr>\n      <th>2019-08-21 08:00:00-04:00</th>\n      <td>53.0500</td>\n      <td>53.1000</td>\n      <td>53.000</td>\n      <td>53.065</td>\n      <td>53.065</td>\n      <td>0</td>\n      <td>-0.000094</td>\n    </tr>\n  </tbody>\n</table>\n</div>"
     },
     "execution_count": 43,
     "metadata": {},
     "output_type": "execute_result"
    }
   ],
   "source": [
    "data['close_pct'] = data['close'].pct_change()\n",
    "data.head()"
   ],
   "metadata": {
    "collapsed": false,
    "pycharm": {
     "name": "#%%\n"
    }
   }
  },
  {
   "cell_type": "code",
   "execution_count": 44,
   "outputs": [
    {
     "data": {
      "text/plain": "              open         high          low        close    Adj Close  \\\ncount  8379.000000  8379.000000  8379.000000  8379.000000  8379.000000   \nmean    101.062840   101.480012   100.557169   101.067265   101.067265   \nstd      29.988389    30.351178    29.818943    29.985327    29.985327   \nmin      50.250000    50.467500    50.250000    50.357500    50.357500   \n25%      71.579998    71.959999    71.220000    71.628689    71.628689   \n50%     111.450000   111.987503   110.599998   111.420000   111.420000   \n75%     126.925002   127.257450   126.381002   126.922502   126.922502   \nmax     151.410000   438.440000   151.290000   151.670000   151.670000   \n\n             volume    close_pct  \ncount  8.379000e+03  8378.000000  \nmean   3.807779e+06     0.000140  \nstd    6.934091e+06     0.005829  \nmin    0.000000e+00    -0.085960  \n25%    0.000000e+00    -0.001635  \n50%    0.000000e+00     0.000097  \n75%    5.485080e+06     0.001971  \nmax    9.845401e+07     0.078661  ",
      "text/html": "<div>\n<style scoped>\n    .dataframe tbody tr th:only-of-type {\n        vertical-align: middle;\n    }\n\n    .dataframe tbody tr th {\n        vertical-align: top;\n    }\n\n    .dataframe thead th {\n        text-align: right;\n    }\n</style>\n<table border=\"1\" class=\"dataframe\">\n  <thead>\n    <tr style=\"text-align: right;\">\n      <th></th>\n      <th>open</th>\n      <th>high</th>\n      <th>low</th>\n      <th>close</th>\n      <th>Adj Close</th>\n      <th>volume</th>\n      <th>close_pct</th>\n    </tr>\n  </thead>\n  <tbody>\n    <tr>\n      <th>count</th>\n      <td>8379.000000</td>\n      <td>8379.000000</td>\n      <td>8379.000000</td>\n      <td>8379.000000</td>\n      <td>8379.000000</td>\n      <td>8.379000e+03</td>\n      <td>8378.000000</td>\n    </tr>\n    <tr>\n      <th>mean</th>\n      <td>101.062840</td>\n      <td>101.480012</td>\n      <td>100.557169</td>\n      <td>101.067265</td>\n      <td>101.067265</td>\n      <td>3.807779e+06</td>\n      <td>0.000140</td>\n    </tr>\n    <tr>\n      <th>std</th>\n      <td>29.988389</td>\n      <td>30.351178</td>\n      <td>29.818943</td>\n      <td>29.985327</td>\n      <td>29.985327</td>\n      <td>6.934091e+06</td>\n      <td>0.005829</td>\n    </tr>\n    <tr>\n      <th>min</th>\n      <td>50.250000</td>\n      <td>50.467500</td>\n      <td>50.250000</td>\n      <td>50.357500</td>\n      <td>50.357500</td>\n      <td>0.000000e+00</td>\n      <td>-0.085960</td>\n    </tr>\n    <tr>\n      <th>25%</th>\n      <td>71.579998</td>\n      <td>71.959999</td>\n      <td>71.220000</td>\n      <td>71.628689</td>\n      <td>71.628689</td>\n      <td>0.000000e+00</td>\n      <td>-0.001635</td>\n    </tr>\n    <tr>\n      <th>50%</th>\n      <td>111.450000</td>\n      <td>111.987503</td>\n      <td>110.599998</td>\n      <td>111.420000</td>\n      <td>111.420000</td>\n      <td>0.000000e+00</td>\n      <td>0.000097</td>\n    </tr>\n    <tr>\n      <th>75%</th>\n      <td>126.925002</td>\n      <td>127.257450</td>\n      <td>126.381002</td>\n      <td>126.922502</td>\n      <td>126.922502</td>\n      <td>5.485080e+06</td>\n      <td>0.001971</td>\n    </tr>\n    <tr>\n      <th>max</th>\n      <td>151.410000</td>\n      <td>438.440000</td>\n      <td>151.290000</td>\n      <td>151.670000</td>\n      <td>151.670000</td>\n      <td>9.845401e+07</td>\n      <td>0.078661</td>\n    </tr>\n  </tbody>\n</table>\n</div>"
     },
     "execution_count": 44,
     "metadata": {},
     "output_type": "execute_result"
    }
   ],
   "source": [
    "data.describe()"
   ],
   "metadata": {
    "collapsed": false,
    "pycharm": {
     "name": "#%%\n"
    }
   }
  },
  {
   "cell_type": "code",
   "execution_count": 45,
   "outputs": [],
   "source": [
    "def _get_indicator_data(data):\n",
    "    \"\"\"\n",
    "    Function that uses the finta API to calculate technical indicators used as the features\n",
    "    :return:\n",
    "    \"\"\"\n",
    "\n",
    "    data = add_all_ta_features(\n",
    "        data, open=\"open\", high=\"high\", low=\"low\", close=\"close\", volume=\"volume\", fillna=True)\n",
    "\n",
    "    # Instead of using the actual volume value (which changes over time), we normalize it with a moving volume average\n",
    "    # data['normVol'] = data['volume'] / data['volume'].ewm(5).mean()\n",
    "    # for i in range(1,50):\n",
    "    #     data[f'close{i}'] = data['close'].shift(i)\n",
    "    # Remove columns that won't be used as features\n",
    "    # del (data['Adj Close'])\n",
    "\n",
    "    return data\n"
   ],
   "metadata": {
    "collapsed": false,
    "pycharm": {
     "name": "#%%\n"
    }
   }
  },
  {
   "cell_type": "code",
   "execution_count": 46,
   "outputs": [
    {
     "data": {
      "text/plain": "                                 open        high         low       close  \\\nDatetime                                                                    \n2019-08-21 04:00:00-04:00   52.775000   53.110000   52.775000   53.050000   \n2019-08-21 05:00:00-04:00   53.045000   53.150000   53.045000   53.150000   \n2019-08-21 06:00:00-04:00   53.152500   53.200000   53.045000   53.080000   \n2019-08-21 07:00:00-04:00   53.112500   53.112500   53.000000   53.070000   \n2019-08-21 08:00:00-04:00   53.050000   53.100000   53.000000   53.065000   \n...                               ...         ...         ...         ...   \n2021-08-20 15:30:00-04:00  148.087006  148.289993  147.945007  148.190002   \n2021-08-20 16:00:00-04:00  148.190000  148.300000  147.616000  148.190000   \n2021-08-20 17:00:00-04:00  148.170000  149.580000  142.382000  148.200000   \n2021-08-20 18:00:00-04:00  148.190000  148.400000  148.160000  148.200000   \n2021-08-20 19:00:00-04:00  148.190000  148.310000  148.120100  148.310000   \n\n                            Adj Close   volume     close_pct  \nDatetime                                                      \n2019-08-21 04:00:00-04:00   53.050000        0           NaN  \n2019-08-21 05:00:00-04:00   53.150000        0  1.885014e-03  \n2019-08-21 06:00:00-04:00   53.080000        0 -1.317027e-03  \n2019-08-21 07:00:00-04:00   53.070000        0 -1.883949e-04  \n2019-08-21 08:00:00-04:00   53.065000        0 -9.421519e-05  \n...                               ...      ...           ...  \n2021-08-20 15:30:00-04:00  148.190002  6188690  7.104669e-04  \n2021-08-20 16:00:00-04:00  148.190000        0 -1.647484e-08  \n2021-08-20 17:00:00-04:00  148.200000        0  6.748094e-05  \n2021-08-20 18:00:00-04:00  148.200000        0  0.000000e+00  \n2021-08-20 19:00:00-04:00  148.310000        0  7.422402e-04  \n\n[8379 rows x 7 columns]",
      "text/html": "<div>\n<style scoped>\n    .dataframe tbody tr th:only-of-type {\n        vertical-align: middle;\n    }\n\n    .dataframe tbody tr th {\n        vertical-align: top;\n    }\n\n    .dataframe thead th {\n        text-align: right;\n    }\n</style>\n<table border=\"1\" class=\"dataframe\">\n  <thead>\n    <tr style=\"text-align: right;\">\n      <th></th>\n      <th>open</th>\n      <th>high</th>\n      <th>low</th>\n      <th>close</th>\n      <th>Adj Close</th>\n      <th>volume</th>\n      <th>close_pct</th>\n    </tr>\n    <tr>\n      <th>Datetime</th>\n      <th></th>\n      <th></th>\n      <th></th>\n      <th></th>\n      <th></th>\n      <th></th>\n      <th></th>\n    </tr>\n  </thead>\n  <tbody>\n    <tr>\n      <th>2019-08-21 04:00:00-04:00</th>\n      <td>52.775000</td>\n      <td>53.110000</td>\n      <td>52.775000</td>\n      <td>53.050000</td>\n      <td>53.050000</td>\n      <td>0</td>\n      <td>NaN</td>\n    </tr>\n    <tr>\n      <th>2019-08-21 05:00:00-04:00</th>\n      <td>53.045000</td>\n      <td>53.150000</td>\n      <td>53.045000</td>\n      <td>53.150000</td>\n      <td>53.150000</td>\n      <td>0</td>\n      <td>1.885014e-03</td>\n    </tr>\n    <tr>\n      <th>2019-08-21 06:00:00-04:00</th>\n      <td>53.152500</td>\n      <td>53.200000</td>\n      <td>53.045000</td>\n      <td>53.080000</td>\n      <td>53.080000</td>\n      <td>0</td>\n      <td>-1.317027e-03</td>\n    </tr>\n    <tr>\n      <th>2019-08-21 07:00:00-04:00</th>\n      <td>53.112500</td>\n      <td>53.112500</td>\n      <td>53.000000</td>\n      <td>53.070000</td>\n      <td>53.070000</td>\n      <td>0</td>\n      <td>-1.883949e-04</td>\n    </tr>\n    <tr>\n      <th>2019-08-21 08:00:00-04:00</th>\n      <td>53.050000</td>\n      <td>53.100000</td>\n      <td>53.000000</td>\n      <td>53.065000</td>\n      <td>53.065000</td>\n      <td>0</td>\n      <td>-9.421519e-05</td>\n    </tr>\n    <tr>\n      <th>...</th>\n      <td>...</td>\n      <td>...</td>\n      <td>...</td>\n      <td>...</td>\n      <td>...</td>\n      <td>...</td>\n      <td>...</td>\n    </tr>\n    <tr>\n      <th>2021-08-20 15:30:00-04:00</th>\n      <td>148.087006</td>\n      <td>148.289993</td>\n      <td>147.945007</td>\n      <td>148.190002</td>\n      <td>148.190002</td>\n      <td>6188690</td>\n      <td>7.104669e-04</td>\n    </tr>\n    <tr>\n      <th>2021-08-20 16:00:00-04:00</th>\n      <td>148.190000</td>\n      <td>148.300000</td>\n      <td>147.616000</td>\n      <td>148.190000</td>\n      <td>148.190000</td>\n      <td>0</td>\n      <td>-1.647484e-08</td>\n    </tr>\n    <tr>\n      <th>2021-08-20 17:00:00-04:00</th>\n      <td>148.170000</td>\n      <td>149.580000</td>\n      <td>142.382000</td>\n      <td>148.200000</td>\n      <td>148.200000</td>\n      <td>0</td>\n      <td>6.748094e-05</td>\n    </tr>\n    <tr>\n      <th>2021-08-20 18:00:00-04:00</th>\n      <td>148.190000</td>\n      <td>148.400000</td>\n      <td>148.160000</td>\n      <td>148.200000</td>\n      <td>148.200000</td>\n      <td>0</td>\n      <td>0.000000e+00</td>\n    </tr>\n    <tr>\n      <th>2021-08-20 19:00:00-04:00</th>\n      <td>148.190000</td>\n      <td>148.310000</td>\n      <td>148.120100</td>\n      <td>148.310000</td>\n      <td>148.310000</td>\n      <td>0</td>\n      <td>7.422402e-04</td>\n    </tr>\n  </tbody>\n</table>\n<p>8379 rows × 7 columns</p>\n</div>"
     },
     "execution_count": 46,
     "metadata": {},
     "output_type": "execute_result"
    }
   ],
   "source": [
    "data"
   ],
   "metadata": {
    "collapsed": false,
    "pycharm": {
     "name": "#%%\n"
    }
   }
  },
  {
   "cell_type": "code",
   "execution_count": 47,
   "outputs": [
    {
     "data": {
      "text/plain": "Index(['open', 'high', 'low', 'close', 'Adj Close', 'volume', 'close_pct'], dtype='object')"
     },
     "execution_count": 47,
     "metadata": {},
     "output_type": "execute_result"
    }
   ],
   "source": [
    "data.columns"
   ],
   "metadata": {
    "collapsed": false,
    "pycharm": {
     "name": "#%%\n"
    }
   }
  },
  {
   "cell_type": "code",
   "execution_count": 48,
   "outputs": [],
   "source": [
    "def create_class_column(row, lowest_threshold, higher_threshold):\n",
    "    if row['close_shift'] - row['close'] > higher_threshold:\n",
    "        return 1\n",
    "    if row['close_shift'] - row['close'] < lowest_threshold:\n",
    "        return -1\n",
    "    else:\n",
    "        return 0"
   ],
   "metadata": {
    "collapsed": false,
    "pycharm": {
     "name": "#%%\n"
    }
   }
  },
  {
   "cell_type": "code",
   "execution_count": 49,
   "outputs": [
    {
     "data": {
      "text/plain": "                                 open        high         low       close  \\\nDatetime                                                                    \n2019-08-21 04:00:00-04:00   52.775000   53.110000   52.775000   53.050000   \n2019-08-21 05:00:00-04:00   53.045000   53.150000   53.045000   53.150000   \n2019-08-21 06:00:00-04:00   53.152500   53.200000   53.045000   53.080000   \n2019-08-21 07:00:00-04:00   53.112500   53.112500   53.000000   53.070000   \n2019-08-21 08:00:00-04:00   53.050000   53.100000   53.000000   53.065000   \n...                               ...         ...         ...         ...   \n2021-08-20 15:30:00-04:00  148.087006  148.289993  147.945007  148.190002   \n2021-08-20 16:00:00-04:00  148.190000  148.300000  147.616000  148.190000   \n2021-08-20 17:00:00-04:00  148.170000  149.580000  142.382000  148.200000   \n2021-08-20 18:00:00-04:00  148.190000  148.400000  148.160000  148.200000   \n2021-08-20 19:00:00-04:00  148.190000  148.310000  148.120100  148.310000   \n\n                            Adj Close   volume     close_pct    open_1  \\\nDatetime                                                                 \n2019-08-21 04:00:00-04:00   53.050000        0           NaN       NaN   \n2019-08-21 05:00:00-04:00   53.150000        0  1.885014e-03  0.270000   \n2019-08-21 06:00:00-04:00   53.080000        0 -1.317027e-03  0.107500   \n2019-08-21 07:00:00-04:00   53.070000        0 -1.883949e-04 -0.040000   \n2019-08-21 08:00:00-04:00   53.065000        0 -9.421519e-05 -0.062500   \n...                               ...      ...           ...       ...   \n2021-08-20 15:30:00-04:00  148.190002  6188690  7.104669e-04  0.372009   \n2021-08-20 16:00:00-04:00  148.190000        0 -1.647484e-08  0.102994   \n2021-08-20 17:00:00-04:00  148.200000        0  6.748094e-05 -0.020000   \n2021-08-20 18:00:00-04:00  148.200000        0  0.000000e+00  0.020000   \n2021-08-20 19:00:00-04:00  148.310000        0  7.422402e-04  0.000000   \n\n                             open_2    open_3  ...  close_21  close_22  \\\nDatetime                                       ...                       \n2019-08-21 04:00:00-04:00       NaN       NaN  ...       NaN       NaN   \n2019-08-21 05:00:00-04:00       NaN       NaN  ...       NaN       NaN   \n2019-08-21 06:00:00-04:00  0.377500       NaN  ...       NaN       NaN   \n2019-08-21 07:00:00-04:00  0.067500  0.337500  ...       NaN       NaN   \n2019-08-21 08:00:00-04:00 -0.102500  0.005000  ...       NaN       NaN   \n...                             ...       ...  ...       ...       ...   \n2021-08-20 15:30:00-04:00  0.175003  0.277512  ...  0.744995  1.760101   \n2021-08-20 16:00:00-04:00  0.475004  0.277997  ...  1.229093  0.744993   \n2021-08-20 17:00:00-04:00  0.082994  0.455004  ...  2.110004  1.239093   \n2021-08-20 18:00:00-04:00  0.000000  0.102994  ...  0.970004  2.110004   \n2021-08-20 19:00:00-04:00  0.020000  0.000000  ...  1.640002  1.080004   \n\n                           close_23  close_24  close_25  close_26  close_27  \\\nDatetime                                                                      \n2019-08-21 04:00:00-04:00       NaN       NaN       NaN       NaN       NaN   \n2019-08-21 05:00:00-04:00       NaN       NaN       NaN       NaN       NaN   \n2019-08-21 06:00:00-04:00       NaN       NaN       NaN       NaN       NaN   \n2019-08-21 07:00:00-04:00       NaN       NaN       NaN       NaN       NaN   \n2019-08-21 08:00:00-04:00       NaN       NaN       NaN       NaN       NaN   \n...                             ...       ...       ...       ...       ...   \n2021-08-20 15:30:00-04:00  2.139999  2.910002  2.970002  3.530002  2.880002   \n2021-08-20 16:00:00-04:00  1.760099  2.139997  2.910000  2.970000  3.530000   \n2021-08-20 17:00:00-04:00  0.754993  1.770099  2.149997  2.920000  2.980000   \n2021-08-20 18:00:00-04:00  1.239093  0.754993  1.770099  2.149997  2.920000   \n2021-08-20 19:00:00-04:00  2.220004  1.349093  0.864993  1.880099  2.259997   \n\n                           close_28  close_29  close_shift  \nDatetime                                                    \n2019-08-21 04:00:00-04:00       NaN       NaN      53.3475  \n2019-08-21 05:00:00-04:00       NaN       NaN      53.2000  \n2019-08-21 06:00:00-04:00       NaN       NaN      52.9025  \n2019-08-21 07:00:00-04:00       NaN       NaN      53.0250  \n2019-08-21 08:00:00-04:00       NaN       NaN      53.1950  \n...                             ...       ...          ...  \n2021-08-20 15:30:00-04:00  3.440002  3.670002          NaN  \n2021-08-20 16:00:00-04:00  2.880000  3.440000          NaN  \n2021-08-20 17:00:00-04:00  3.540000  2.890000          NaN  \n2021-08-20 18:00:00-04:00  2.980000  3.540000          NaN  \n2021-08-20 19:00:00-04:00  3.030000  3.090000          NaN  \n\n[8379 rows x 124 columns]",
      "text/html": "<div>\n<style scoped>\n    .dataframe tbody tr th:only-of-type {\n        vertical-align: middle;\n    }\n\n    .dataframe tbody tr th {\n        vertical-align: top;\n    }\n\n    .dataframe thead th {\n        text-align: right;\n    }\n</style>\n<table border=\"1\" class=\"dataframe\">\n  <thead>\n    <tr style=\"text-align: right;\">\n      <th></th>\n      <th>open</th>\n      <th>high</th>\n      <th>low</th>\n      <th>close</th>\n      <th>Adj Close</th>\n      <th>volume</th>\n      <th>close_pct</th>\n      <th>open_1</th>\n      <th>open_2</th>\n      <th>open_3</th>\n      <th>...</th>\n      <th>close_21</th>\n      <th>close_22</th>\n      <th>close_23</th>\n      <th>close_24</th>\n      <th>close_25</th>\n      <th>close_26</th>\n      <th>close_27</th>\n      <th>close_28</th>\n      <th>close_29</th>\n      <th>close_shift</th>\n    </tr>\n    <tr>\n      <th>Datetime</th>\n      <th></th>\n      <th></th>\n      <th></th>\n      <th></th>\n      <th></th>\n      <th></th>\n      <th></th>\n      <th></th>\n      <th></th>\n      <th></th>\n      <th></th>\n      <th></th>\n      <th></th>\n      <th></th>\n      <th></th>\n      <th></th>\n      <th></th>\n      <th></th>\n      <th></th>\n      <th></th>\n      <th></th>\n    </tr>\n  </thead>\n  <tbody>\n    <tr>\n      <th>2019-08-21 04:00:00-04:00</th>\n      <td>52.775000</td>\n      <td>53.110000</td>\n      <td>52.775000</td>\n      <td>53.050000</td>\n      <td>53.050000</td>\n      <td>0</td>\n      <td>NaN</td>\n      <td>NaN</td>\n      <td>NaN</td>\n      <td>NaN</td>\n      <td>...</td>\n      <td>NaN</td>\n      <td>NaN</td>\n      <td>NaN</td>\n      <td>NaN</td>\n      <td>NaN</td>\n      <td>NaN</td>\n      <td>NaN</td>\n      <td>NaN</td>\n      <td>NaN</td>\n      <td>53.3475</td>\n    </tr>\n    <tr>\n      <th>2019-08-21 05:00:00-04:00</th>\n      <td>53.045000</td>\n      <td>53.150000</td>\n      <td>53.045000</td>\n      <td>53.150000</td>\n      <td>53.150000</td>\n      <td>0</td>\n      <td>1.885014e-03</td>\n      <td>0.270000</td>\n      <td>NaN</td>\n      <td>NaN</td>\n      <td>...</td>\n      <td>NaN</td>\n      <td>NaN</td>\n      <td>NaN</td>\n      <td>NaN</td>\n      <td>NaN</td>\n      <td>NaN</td>\n      <td>NaN</td>\n      <td>NaN</td>\n      <td>NaN</td>\n      <td>53.2000</td>\n    </tr>\n    <tr>\n      <th>2019-08-21 06:00:00-04:00</th>\n      <td>53.152500</td>\n      <td>53.200000</td>\n      <td>53.045000</td>\n      <td>53.080000</td>\n      <td>53.080000</td>\n      <td>0</td>\n      <td>-1.317027e-03</td>\n      <td>0.107500</td>\n      <td>0.377500</td>\n      <td>NaN</td>\n      <td>...</td>\n      <td>NaN</td>\n      <td>NaN</td>\n      <td>NaN</td>\n      <td>NaN</td>\n      <td>NaN</td>\n      <td>NaN</td>\n      <td>NaN</td>\n      <td>NaN</td>\n      <td>NaN</td>\n      <td>52.9025</td>\n    </tr>\n    <tr>\n      <th>2019-08-21 07:00:00-04:00</th>\n      <td>53.112500</td>\n      <td>53.112500</td>\n      <td>53.000000</td>\n      <td>53.070000</td>\n      <td>53.070000</td>\n      <td>0</td>\n      <td>-1.883949e-04</td>\n      <td>-0.040000</td>\n      <td>0.067500</td>\n      <td>0.337500</td>\n      <td>...</td>\n      <td>NaN</td>\n      <td>NaN</td>\n      <td>NaN</td>\n      <td>NaN</td>\n      <td>NaN</td>\n      <td>NaN</td>\n      <td>NaN</td>\n      <td>NaN</td>\n      <td>NaN</td>\n      <td>53.0250</td>\n    </tr>\n    <tr>\n      <th>2019-08-21 08:00:00-04:00</th>\n      <td>53.050000</td>\n      <td>53.100000</td>\n      <td>53.000000</td>\n      <td>53.065000</td>\n      <td>53.065000</td>\n      <td>0</td>\n      <td>-9.421519e-05</td>\n      <td>-0.062500</td>\n      <td>-0.102500</td>\n      <td>0.005000</td>\n      <td>...</td>\n      <td>NaN</td>\n      <td>NaN</td>\n      <td>NaN</td>\n      <td>NaN</td>\n      <td>NaN</td>\n      <td>NaN</td>\n      <td>NaN</td>\n      <td>NaN</td>\n      <td>NaN</td>\n      <td>53.1950</td>\n    </tr>\n    <tr>\n      <th>...</th>\n      <td>...</td>\n      <td>...</td>\n      <td>...</td>\n      <td>...</td>\n      <td>...</td>\n      <td>...</td>\n      <td>...</td>\n      <td>...</td>\n      <td>...</td>\n      <td>...</td>\n      <td>...</td>\n      <td>...</td>\n      <td>...</td>\n      <td>...</td>\n      <td>...</td>\n      <td>...</td>\n      <td>...</td>\n      <td>...</td>\n      <td>...</td>\n      <td>...</td>\n      <td>...</td>\n    </tr>\n    <tr>\n      <th>2021-08-20 15:30:00-04:00</th>\n      <td>148.087006</td>\n      <td>148.289993</td>\n      <td>147.945007</td>\n      <td>148.190002</td>\n      <td>148.190002</td>\n      <td>6188690</td>\n      <td>7.104669e-04</td>\n      <td>0.372009</td>\n      <td>0.175003</td>\n      <td>0.277512</td>\n      <td>...</td>\n      <td>0.744995</td>\n      <td>1.760101</td>\n      <td>2.139999</td>\n      <td>2.910002</td>\n      <td>2.970002</td>\n      <td>3.530002</td>\n      <td>2.880002</td>\n      <td>3.440002</td>\n      <td>3.670002</td>\n      <td>NaN</td>\n    </tr>\n    <tr>\n      <th>2021-08-20 16:00:00-04:00</th>\n      <td>148.190000</td>\n      <td>148.300000</td>\n      <td>147.616000</td>\n      <td>148.190000</td>\n      <td>148.190000</td>\n      <td>0</td>\n      <td>-1.647484e-08</td>\n      <td>0.102994</td>\n      <td>0.475004</td>\n      <td>0.277997</td>\n      <td>...</td>\n      <td>1.229093</td>\n      <td>0.744993</td>\n      <td>1.760099</td>\n      <td>2.139997</td>\n      <td>2.910000</td>\n      <td>2.970000</td>\n      <td>3.530000</td>\n      <td>2.880000</td>\n      <td>3.440000</td>\n      <td>NaN</td>\n    </tr>\n    <tr>\n      <th>2021-08-20 17:00:00-04:00</th>\n      <td>148.170000</td>\n      <td>149.580000</td>\n      <td>142.382000</td>\n      <td>148.200000</td>\n      <td>148.200000</td>\n      <td>0</td>\n      <td>6.748094e-05</td>\n      <td>-0.020000</td>\n      <td>0.082994</td>\n      <td>0.455004</td>\n      <td>...</td>\n      <td>2.110004</td>\n      <td>1.239093</td>\n      <td>0.754993</td>\n      <td>1.770099</td>\n      <td>2.149997</td>\n      <td>2.920000</td>\n      <td>2.980000</td>\n      <td>3.540000</td>\n      <td>2.890000</td>\n      <td>NaN</td>\n    </tr>\n    <tr>\n      <th>2021-08-20 18:00:00-04:00</th>\n      <td>148.190000</td>\n      <td>148.400000</td>\n      <td>148.160000</td>\n      <td>148.200000</td>\n      <td>148.200000</td>\n      <td>0</td>\n      <td>0.000000e+00</td>\n      <td>0.020000</td>\n      <td>0.000000</td>\n      <td>0.102994</td>\n      <td>...</td>\n      <td>0.970004</td>\n      <td>2.110004</td>\n      <td>1.239093</td>\n      <td>0.754993</td>\n      <td>1.770099</td>\n      <td>2.149997</td>\n      <td>2.920000</td>\n      <td>2.980000</td>\n      <td>3.540000</td>\n      <td>NaN</td>\n    </tr>\n    <tr>\n      <th>2021-08-20 19:00:00-04:00</th>\n      <td>148.190000</td>\n      <td>148.310000</td>\n      <td>148.120100</td>\n      <td>148.310000</td>\n      <td>148.310000</td>\n      <td>0</td>\n      <td>7.422402e-04</td>\n      <td>0.000000</td>\n      <td>0.020000</td>\n      <td>0.000000</td>\n      <td>...</td>\n      <td>1.640002</td>\n      <td>1.080004</td>\n      <td>2.220004</td>\n      <td>1.349093</td>\n      <td>0.864993</td>\n      <td>1.880099</td>\n      <td>2.259997</td>\n      <td>3.030000</td>\n      <td>3.090000</td>\n      <td>NaN</td>\n    </tr>\n  </tbody>\n</table>\n<p>8379 rows × 124 columns</p>\n</div>"
     },
     "execution_count": 49,
     "metadata": {},
     "output_type": "execute_result"
    }
   ],
   "source": [
    "important_columns = ['open', 'high', 'low','close']\n",
    "\n",
    "\n",
    "for name in important_columns:\n",
    "    for i in range(1, 30):\n",
    "        calculate_diffs(i, name)\n",
    "\n",
    "data['close_shift'] = data.shift(-WINDOW)['close']\n",
    "data"
   ],
   "metadata": {
    "collapsed": false,
    "pycharm": {
     "name": "#%%\n"
    }
   }
  },
  {
   "cell_type": "code",
   "execution_count": 50,
   "outputs": [
    {
     "name": "stdout",
     "output_type": "stream",
     "text": [
      " 1    2820\n",
      "-1    2781\n",
      " 0    2778\n",
      "Name: class_column, dtype: int64\n"
     ]
    },
    {
     "data": {
      "text/plain": "                                 open        high         low       close  \\\nDatetime                                                                    \n2019-08-21 04:00:00-04:00   52.775000   53.110000   52.775000   53.050000   \n2019-08-21 05:00:00-04:00   53.045000   53.150000   53.045000   53.150000   \n2019-08-21 06:00:00-04:00   53.152500   53.200000   53.045000   53.080000   \n2019-08-21 07:00:00-04:00   53.112500   53.112500   53.000000   53.070000   \n2019-08-21 08:00:00-04:00   53.050000   53.100000   53.000000   53.065000   \n...                               ...         ...         ...         ...   \n2021-08-20 15:30:00-04:00  148.087006  148.289993  147.945007  148.190002   \n2021-08-20 16:00:00-04:00  148.190000  148.300000  147.616000  148.190000   \n2021-08-20 17:00:00-04:00  148.170000  149.580000  142.382000  148.200000   \n2021-08-20 18:00:00-04:00  148.190000  148.400000  148.160000  148.200000   \n2021-08-20 19:00:00-04:00  148.190000  148.310000  148.120100  148.310000   \n\n                            Adj Close   volume     close_pct    open_1  \\\nDatetime                                                                 \n2019-08-21 04:00:00-04:00   53.050000        0           NaN       NaN   \n2019-08-21 05:00:00-04:00   53.150000        0  1.885014e-03  0.270000   \n2019-08-21 06:00:00-04:00   53.080000        0 -1.317027e-03  0.107500   \n2019-08-21 07:00:00-04:00   53.070000        0 -1.883949e-04 -0.040000   \n2019-08-21 08:00:00-04:00   53.065000        0 -9.421519e-05 -0.062500   \n...                               ...      ...           ...       ...   \n2021-08-20 15:30:00-04:00  148.190002  6188690  7.104669e-04  0.372009   \n2021-08-20 16:00:00-04:00  148.190000        0 -1.647484e-08  0.102994   \n2021-08-20 17:00:00-04:00  148.200000        0  6.748094e-05 -0.020000   \n2021-08-20 18:00:00-04:00  148.200000        0  0.000000e+00  0.020000   \n2021-08-20 19:00:00-04:00  148.310000        0  7.422402e-04  0.000000   \n\n                             open_2    open_3  ...  close_22  close_23  \\\nDatetime                                       ...                       \n2019-08-21 04:00:00-04:00       NaN       NaN  ...       NaN       NaN   \n2019-08-21 05:00:00-04:00       NaN       NaN  ...       NaN       NaN   \n2019-08-21 06:00:00-04:00  0.377500       NaN  ...       NaN       NaN   \n2019-08-21 07:00:00-04:00  0.067500  0.337500  ...       NaN       NaN   \n2019-08-21 08:00:00-04:00 -0.102500  0.005000  ...       NaN       NaN   \n...                             ...       ...  ...       ...       ...   \n2021-08-20 15:30:00-04:00  0.175003  0.277512  ...  1.760101  2.139999   \n2021-08-20 16:00:00-04:00  0.475004  0.277997  ...  0.744993  1.760099   \n2021-08-20 17:00:00-04:00  0.082994  0.455004  ...  1.239093  0.754993   \n2021-08-20 18:00:00-04:00  0.000000  0.102994  ...  2.110004  1.239093   \n2021-08-20 19:00:00-04:00  0.020000  0.000000  ...  1.080004  2.220004   \n\n                           close_24  close_25  close_26  close_27  close_28  \\\nDatetime                                                                      \n2019-08-21 04:00:00-04:00       NaN       NaN       NaN       NaN       NaN   \n2019-08-21 05:00:00-04:00       NaN       NaN       NaN       NaN       NaN   \n2019-08-21 06:00:00-04:00       NaN       NaN       NaN       NaN       NaN   \n2019-08-21 07:00:00-04:00       NaN       NaN       NaN       NaN       NaN   \n2019-08-21 08:00:00-04:00       NaN       NaN       NaN       NaN       NaN   \n...                             ...       ...       ...       ...       ...   \n2021-08-20 15:30:00-04:00  2.910002  2.970002  3.530002  2.880002  3.440002   \n2021-08-20 16:00:00-04:00  2.139997  2.910000  2.970000  3.530000  2.880000   \n2021-08-20 17:00:00-04:00  1.770099  2.149997  2.920000  2.980000  3.540000   \n2021-08-20 18:00:00-04:00  0.754993  1.770099  2.149997  2.920000  2.980000   \n2021-08-20 19:00:00-04:00  1.349093  0.864993  1.880099  2.259997  3.030000   \n\n                           close_29  close_shift  class_column  \nDatetime                                                        \n2019-08-21 04:00:00-04:00       NaN      53.3475             0  \n2019-08-21 05:00:00-04:00       NaN      53.2000             0  \n2019-08-21 06:00:00-04:00       NaN      52.9025             0  \n2019-08-21 07:00:00-04:00       NaN      53.0250             0  \n2019-08-21 08:00:00-04:00       NaN      53.1950             0  \n...                             ...          ...           ...  \n2021-08-20 15:30:00-04:00  3.670002          NaN             0  \n2021-08-20 16:00:00-04:00  3.440000          NaN             0  \n2021-08-20 17:00:00-04:00  2.890000          NaN             0  \n2021-08-20 18:00:00-04:00  3.540000          NaN             0  \n2021-08-20 19:00:00-04:00  3.090000          NaN             0  \n\n[8379 rows x 125 columns]",
      "text/html": "<div>\n<style scoped>\n    .dataframe tbody tr th:only-of-type {\n        vertical-align: middle;\n    }\n\n    .dataframe tbody tr th {\n        vertical-align: top;\n    }\n\n    .dataframe thead th {\n        text-align: right;\n    }\n</style>\n<table border=\"1\" class=\"dataframe\">\n  <thead>\n    <tr style=\"text-align: right;\">\n      <th></th>\n      <th>open</th>\n      <th>high</th>\n      <th>low</th>\n      <th>close</th>\n      <th>Adj Close</th>\n      <th>volume</th>\n      <th>close_pct</th>\n      <th>open_1</th>\n      <th>open_2</th>\n      <th>open_3</th>\n      <th>...</th>\n      <th>close_22</th>\n      <th>close_23</th>\n      <th>close_24</th>\n      <th>close_25</th>\n      <th>close_26</th>\n      <th>close_27</th>\n      <th>close_28</th>\n      <th>close_29</th>\n      <th>close_shift</th>\n      <th>class_column</th>\n    </tr>\n    <tr>\n      <th>Datetime</th>\n      <th></th>\n      <th></th>\n      <th></th>\n      <th></th>\n      <th></th>\n      <th></th>\n      <th></th>\n      <th></th>\n      <th></th>\n      <th></th>\n      <th></th>\n      <th></th>\n      <th></th>\n      <th></th>\n      <th></th>\n      <th></th>\n      <th></th>\n      <th></th>\n      <th></th>\n      <th></th>\n      <th></th>\n    </tr>\n  </thead>\n  <tbody>\n    <tr>\n      <th>2019-08-21 04:00:00-04:00</th>\n      <td>52.775000</td>\n      <td>53.110000</td>\n      <td>52.775000</td>\n      <td>53.050000</td>\n      <td>53.050000</td>\n      <td>0</td>\n      <td>NaN</td>\n      <td>NaN</td>\n      <td>NaN</td>\n      <td>NaN</td>\n      <td>...</td>\n      <td>NaN</td>\n      <td>NaN</td>\n      <td>NaN</td>\n      <td>NaN</td>\n      <td>NaN</td>\n      <td>NaN</td>\n      <td>NaN</td>\n      <td>NaN</td>\n      <td>53.3475</td>\n      <td>0</td>\n    </tr>\n    <tr>\n      <th>2019-08-21 05:00:00-04:00</th>\n      <td>53.045000</td>\n      <td>53.150000</td>\n      <td>53.045000</td>\n      <td>53.150000</td>\n      <td>53.150000</td>\n      <td>0</td>\n      <td>1.885014e-03</td>\n      <td>0.270000</td>\n      <td>NaN</td>\n      <td>NaN</td>\n      <td>...</td>\n      <td>NaN</td>\n      <td>NaN</td>\n      <td>NaN</td>\n      <td>NaN</td>\n      <td>NaN</td>\n      <td>NaN</td>\n      <td>NaN</td>\n      <td>NaN</td>\n      <td>53.2000</td>\n      <td>0</td>\n    </tr>\n    <tr>\n      <th>2019-08-21 06:00:00-04:00</th>\n      <td>53.152500</td>\n      <td>53.200000</td>\n      <td>53.045000</td>\n      <td>53.080000</td>\n      <td>53.080000</td>\n      <td>0</td>\n      <td>-1.317027e-03</td>\n      <td>0.107500</td>\n      <td>0.377500</td>\n      <td>NaN</td>\n      <td>...</td>\n      <td>NaN</td>\n      <td>NaN</td>\n      <td>NaN</td>\n      <td>NaN</td>\n      <td>NaN</td>\n      <td>NaN</td>\n      <td>NaN</td>\n      <td>NaN</td>\n      <td>52.9025</td>\n      <td>0</td>\n    </tr>\n    <tr>\n      <th>2019-08-21 07:00:00-04:00</th>\n      <td>53.112500</td>\n      <td>53.112500</td>\n      <td>53.000000</td>\n      <td>53.070000</td>\n      <td>53.070000</td>\n      <td>0</td>\n      <td>-1.883949e-04</td>\n      <td>-0.040000</td>\n      <td>0.067500</td>\n      <td>0.337500</td>\n      <td>...</td>\n      <td>NaN</td>\n      <td>NaN</td>\n      <td>NaN</td>\n      <td>NaN</td>\n      <td>NaN</td>\n      <td>NaN</td>\n      <td>NaN</td>\n      <td>NaN</td>\n      <td>53.0250</td>\n      <td>0</td>\n    </tr>\n    <tr>\n      <th>2019-08-21 08:00:00-04:00</th>\n      <td>53.050000</td>\n      <td>53.100000</td>\n      <td>53.000000</td>\n      <td>53.065000</td>\n      <td>53.065000</td>\n      <td>0</td>\n      <td>-9.421519e-05</td>\n      <td>-0.062500</td>\n      <td>-0.102500</td>\n      <td>0.005000</td>\n      <td>...</td>\n      <td>NaN</td>\n      <td>NaN</td>\n      <td>NaN</td>\n      <td>NaN</td>\n      <td>NaN</td>\n      <td>NaN</td>\n      <td>NaN</td>\n      <td>NaN</td>\n      <td>53.1950</td>\n      <td>0</td>\n    </tr>\n    <tr>\n      <th>...</th>\n      <td>...</td>\n      <td>...</td>\n      <td>...</td>\n      <td>...</td>\n      <td>...</td>\n      <td>...</td>\n      <td>...</td>\n      <td>...</td>\n      <td>...</td>\n      <td>...</td>\n      <td>...</td>\n      <td>...</td>\n      <td>...</td>\n      <td>...</td>\n      <td>...</td>\n      <td>...</td>\n      <td>...</td>\n      <td>...</td>\n      <td>...</td>\n      <td>...</td>\n      <td>...</td>\n    </tr>\n    <tr>\n      <th>2021-08-20 15:30:00-04:00</th>\n      <td>148.087006</td>\n      <td>148.289993</td>\n      <td>147.945007</td>\n      <td>148.190002</td>\n      <td>148.190002</td>\n      <td>6188690</td>\n      <td>7.104669e-04</td>\n      <td>0.372009</td>\n      <td>0.175003</td>\n      <td>0.277512</td>\n      <td>...</td>\n      <td>1.760101</td>\n      <td>2.139999</td>\n      <td>2.910002</td>\n      <td>2.970002</td>\n      <td>3.530002</td>\n      <td>2.880002</td>\n      <td>3.440002</td>\n      <td>3.670002</td>\n      <td>NaN</td>\n      <td>0</td>\n    </tr>\n    <tr>\n      <th>2021-08-20 16:00:00-04:00</th>\n      <td>148.190000</td>\n      <td>148.300000</td>\n      <td>147.616000</td>\n      <td>148.190000</td>\n      <td>148.190000</td>\n      <td>0</td>\n      <td>-1.647484e-08</td>\n      <td>0.102994</td>\n      <td>0.475004</td>\n      <td>0.277997</td>\n      <td>...</td>\n      <td>0.744993</td>\n      <td>1.760099</td>\n      <td>2.139997</td>\n      <td>2.910000</td>\n      <td>2.970000</td>\n      <td>3.530000</td>\n      <td>2.880000</td>\n      <td>3.440000</td>\n      <td>NaN</td>\n      <td>0</td>\n    </tr>\n    <tr>\n      <th>2021-08-20 17:00:00-04:00</th>\n      <td>148.170000</td>\n      <td>149.580000</td>\n      <td>142.382000</td>\n      <td>148.200000</td>\n      <td>148.200000</td>\n      <td>0</td>\n      <td>6.748094e-05</td>\n      <td>-0.020000</td>\n      <td>0.082994</td>\n      <td>0.455004</td>\n      <td>...</td>\n      <td>1.239093</td>\n      <td>0.754993</td>\n      <td>1.770099</td>\n      <td>2.149997</td>\n      <td>2.920000</td>\n      <td>2.980000</td>\n      <td>3.540000</td>\n      <td>2.890000</td>\n      <td>NaN</td>\n      <td>0</td>\n    </tr>\n    <tr>\n      <th>2021-08-20 18:00:00-04:00</th>\n      <td>148.190000</td>\n      <td>148.400000</td>\n      <td>148.160000</td>\n      <td>148.200000</td>\n      <td>148.200000</td>\n      <td>0</td>\n      <td>0.000000e+00</td>\n      <td>0.020000</td>\n      <td>0.000000</td>\n      <td>0.102994</td>\n      <td>...</td>\n      <td>2.110004</td>\n      <td>1.239093</td>\n      <td>0.754993</td>\n      <td>1.770099</td>\n      <td>2.149997</td>\n      <td>2.920000</td>\n      <td>2.980000</td>\n      <td>3.540000</td>\n      <td>NaN</td>\n      <td>0</td>\n    </tr>\n    <tr>\n      <th>2021-08-20 19:00:00-04:00</th>\n      <td>148.190000</td>\n      <td>148.310000</td>\n      <td>148.120100</td>\n      <td>148.310000</td>\n      <td>148.310000</td>\n      <td>0</td>\n      <td>7.422402e-04</td>\n      <td>0.000000</td>\n      <td>0.020000</td>\n      <td>0.000000</td>\n      <td>...</td>\n      <td>1.080004</td>\n      <td>2.220004</td>\n      <td>1.349093</td>\n      <td>0.864993</td>\n      <td>1.880099</td>\n      <td>2.259997</td>\n      <td>3.030000</td>\n      <td>3.090000</td>\n      <td>NaN</td>\n      <td>0</td>\n    </tr>\n  </tbody>\n</table>\n<p>8379 rows × 125 columns</p>\n</div>"
     },
     "execution_count": 50,
     "metadata": {},
     "output_type": "execute_result"
    }
   ],
   "source": [
    "def create_class(df):\n",
    "    higher_threshold = 1.5\n",
    "    lowest_threshold = -1.5\n",
    "    last_values_higher = []\n",
    "    last_values_lower = []\n",
    "    df['class_column'] = df.apply((lambda x: create_class_column(x, lowest_threshold, higher_threshold)), axis=1)\n",
    "    while True:\n",
    "        class_counts = df['class_column'].value_counts()\n",
    "        if abs(class_counts[0] - class_counts[1]) < 15 and abs(class_counts[0] - class_counts[-1]) < 15:\n",
    "            break\n",
    "\n",
    "        if len(last_values_higher) == 3:\n",
    "            last_values_higher.pop(0)\n",
    "        if len(last_values_lower) == 3:\n",
    "            last_values_lower.pop(0)\n",
    "\n",
    "        last_values_higher.append(higher_threshold)\n",
    "        last_values_lower.append(lowest_threshold)\n",
    "        if class_counts[0] > class_counts[1]:\n",
    "            higher_threshold -= 0.01\n",
    "        if class_counts[0] > class_counts[-1]:\n",
    "            lowest_threshold += 0.01\n",
    "        if class_counts[0] < class_counts[1]:\n",
    "            higher_threshold += 0.01\n",
    "        if class_counts[0] < class_counts[-1]:\n",
    "            lowest_threshold -= 0.01\n",
    "\n",
    "        if higher_threshold in last_values_higher and lowest_threshold in last_values_lower:\n",
    "            break\n",
    "        df['class_column'] = df.apply((lambda x: create_class_column(x, lowest_threshold, higher_threshold)),\n",
    "                                      axis=1)\n",
    "    print(df['class_column'].value_counts())\n",
    "    return df\n",
    "\n",
    "\n",
    "data = create_class(data)\n",
    "\n",
    "data\n"
   ],
   "metadata": {
    "collapsed": false,
    "pycharm": {
     "name": "#%%\n"
    }
   }
  },
  {
   "cell_type": "code",
   "execution_count": 51,
   "outputs": [
    {
     "name": "stdout",
     "output_type": "stream",
     "text": [
      "C:\\Users\\exomat\\Desktop\\repo\\magisterka_analiza\\data\\results\\train_test\\AAPL_2y_16_diff_22_08_2021 01_40_34_full.csv\n"
     ]
    }
   ],
   "source": [
    "filename_to_export = f'C:\\\\Users\\\\exomat\\\\Desktop\\\\repo\\\\magisterka_analiza\\\\data\\\\results\\\\train_test\\\\{symbol}_{INTERVAL}_{WINDOW}_diff_{datetime.now().strftime(\"%d_%m_%Y %H_%M_%S\")}_full.csv'\n",
    "data.to_csv(filename_to_export, index=True)\n",
    "print(filename_to_export)"
   ],
   "metadata": {
    "collapsed": false,
    "pycharm": {
     "name": "#%%\n"
    }
   }
  },
  {
   "cell_type": "code",
   "execution_count": 52,
   "outputs": [
    {
     "data": {
      "text/plain": " 1    2820\n-1    2781\n 0    2778\nName: class_column, dtype: int64"
     },
     "execution_count": 52,
     "metadata": {},
     "output_type": "execute_result"
    }
   ],
   "source": [
    "\n",
    "# Class divide\n",
    "data['class_column'].value_counts()"
   ],
   "metadata": {
    "collapsed": false,
    "pycharm": {
     "name": "#%%\n"
    }
   }
  },
  {
   "cell_type": "code",
   "execution_count": 53,
   "outputs": [],
   "source": [
    "# del (data['close'])\n",
    "# del (data['close_shift'])\n",
    "data = data.dropna()"
   ],
   "metadata": {
    "collapsed": false,
    "pycharm": {
     "name": "#%%\n"
    }
   }
  },
  {
   "cell_type": "code",
   "execution_count": 54,
   "outputs": [
    {
     "data": {
      "text/plain": " 1    2820\n-1    2775\n 0    2739\nName: class_column, dtype: int64"
     },
     "execution_count": 54,
     "metadata": {},
     "output_type": "execute_result"
    }
   ],
   "source": [
    "data['class_column'].value_counts()\n"
   ],
   "metadata": {
    "collapsed": false,
    "pycharm": {
     "name": "#%%\n"
    }
   }
  },
  {
   "cell_type": "code",
   "execution_count": 55,
   "outputs": [],
   "source": [
    "def split_dataframe(df, chunk_size=17):\n",
    "    chunks = list()\n",
    "    num_chunks = len(df) // chunk_size + 1\n",
    "    for i in range(num_chunks):\n",
    "        chunks.append(df[i * chunk_size:(i + 1) * chunk_size])\n",
    "    return chunks\n",
    "\n",
    "\n",
    "def train_model(model, train_x, train_y):\n",
    "    model.fit(train_x, train_y)"
   ],
   "metadata": {
    "collapsed": false,
    "pycharm": {
     "name": "#%%\n"
    }
   }
  },
  {
   "cell_type": "code",
   "execution_count": 56,
   "outputs": [
    {
     "data": {
      "text/plain": "491"
     },
     "execution_count": 56,
     "metadata": {},
     "output_type": "execute_result"
    }
   ],
   "source": [
    "splited_dataframe = split_dataframe(data, 17)\n",
    "len(splited_dataframe)"
   ],
   "metadata": {
    "collapsed": false,
    "pycharm": {
     "name": "#%%\n"
    }
   }
  },
  {
   "cell_type": "code",
   "execution_count": 57,
   "outputs": [],
   "source": [
    "y = data['class_column']\n",
    "features = [x for x in data.columns if x not in ['class_column', 'close_shift']]\n",
    "x = data[features]\n",
    "scaler = MinMaxScaler()\n",
    "# x = pd.DataFrame(scaler.fit_transform(x.values), columns=x.columns, index=x.index)\n",
    "x_train, x_test, y_train, y_test = train_test_split(x, y, test_size=0.1, shuffle=False)"
   ],
   "metadata": {
    "collapsed": false,
    "pycharm": {
     "name": "#%%\n"
    }
   }
  },
  {
   "cell_type": "code",
   "execution_count": 58,
   "outputs": [],
   "source": [
    "classifiers = dict()\n",
    "classifiers['DecisionTreeClassifier 1'] = DecisionTreeClassifier(max_depth=15, random_state=0, criterion='gini',\n",
    "                                                                 splitter='best')\n",
    "classifiers['DecisionTreeClassifier 2'] = DecisionTreeClassifier(max_depth=40, random_state=0, criterion='gini',\n",
    "                                                                 splitter='best')\n",
    "classifiers['DecisionTreeClassifier 3'] = DecisionTreeClassifier(max_depth=10, random_state=0,criterion='gini',splitter='best')\n",
    "\n",
    "\n",
    "classifiers['RandomForestClassifier 1'] = RandomForestClassifier(n_estimators=1000, max_depth=3, random_state=0,\n",
    "                                                                 criterion='gini', n_jobs=-1)\n",
    "\n",
    "classifiers['RandomForestClassifier 2'] = RandomForestClassifier(n_estimators=1000, max_depth=3, random_state=0,\n",
    "                                                                 criterion='entropy', n_jobs=-1)\n",
    "\n",
    "classifiers['RandomForestClassifier 3'] = RandomForestClassifier(n_estimators=100, max_depth=15, random_state=0,\n",
    "                                                                 criterion='entropy', n_jobs=-1)\n",
    "\n",
    "\n",
    "classifiers['GradientBoostingClassifier 1'] = GradientBoostingClassifier(n_estimators=100, random_state=0,\n",
    "                                                                         criterion='friedman_mse', max_depth=3,\n",
    "                                                                         learning_rate=0.1)\n",
    "\n",
    "classifiers['GradientBoostingClassifier 2'] = GradientBoostingClassifier(n_estimators=1000, random_state=0,\n",
    "                                                                         criterion='friedman_mse', max_depth=3,\n",
    "                                                                         learning_rate=0.5)\n",
    "\n",
    "\n",
    "classifiers['XGBRFClassifier 1'] = xgb.sklearn.XGBRFClassifier(n_jobs=-1, max_depth=2, n_estimators=1000, eta=0.2)\n",
    "classifiers['XGBRFClassifier 2'] = xgb.sklearn.XGBRFClassifier(n_jobs=-1, max_depth=6, n_estimators=1000, eta=0.3)\n",
    "\n",
    "classifiers['XGBClassifier 1'] = xgb.XGBClassifier(nthread=-1, max_depth=3, n_estimators=1000, eta=0.2)\n",
    "classifiers['XGBClassifier 2'] = xgb.XGBClassifier(nthread=-1, max_depth=3, n_estimators=1000, eta=0.3)\n",
    "\n",
    "classifiers_boosted = dict()\n",
    "classifiers_boosted['SXGBClassifier 1'] = xgb.XGBClassifier(nthread=-1, max_depth=3, n_estimators=1000, eta=0.2)\n",
    "classifiers_boosted['SXGBClassifier 2'] = xgb.XGBClassifier(nthread=-1, max_depth=3, n_estimators=1000, eta=0.3)"
   ],
   "metadata": {
    "collapsed": false,
    "pycharm": {
     "name": "#%%\n"
    }
   }
  },
  {
   "cell_type": "code",
   "execution_count": 59,
   "outputs": [],
   "source": [
    "def count_correct(pred_list, original_list):\n",
    "    correct_inc = 0\n",
    "    correct_dec = 0\n",
    "    correct_stag = 0\n",
    "    all = len(pred_list)\n",
    "    all_inc = 0\n",
    "    all_dec = 0\n",
    "    all_stag = 0\n",
    "    for idx, el in enumerate(pred_list):\n",
    "        if original_list[idx] == 1:\n",
    "            all_inc += 1\n",
    "            if el == 1:\n",
    "                correct_inc += 1\n",
    "        if original_list[idx] == -1:\n",
    "            all_dec += 1\n",
    "            if el == -1:\n",
    "                correct_dec += 1\n",
    "        if original_list[idx] == 0:\n",
    "            all_stag += 1\n",
    "            if el == 0:\n",
    "                correct_stag += 1\n",
    "    return correct_inc, correct_dec, correct_stag, all_inc, all_dec, all_stag, all\n"
   ],
   "metadata": {
    "collapsed": false,
    "pycharm": {
     "name": "#%%\n"
    }
   }
  },
  {
   "cell_type": "code",
   "execution_count": 60,
   "outputs": [
    {
     "name": "stdout",
     "output_type": "stream",
     "text": [
      "491\n"
     ]
    }
   ],
   "source": [
    "print(len(splited_dataframe))"
   ],
   "metadata": {
    "collapsed": false,
    "pycharm": {
     "name": "#%%\n"
    }
   }
  },
  {
   "cell_type": "code",
   "execution_count": null,
   "outputs": [
    {
     "name": "stdout",
     "output_type": "stream",
     "text": [
      "5\n",
      "start\n",
      " 0    2287\n",
      " 1    2266\n",
      "-1    2264\n",
      "Name: class_column, dtype: int64\n",
      " 0    2287\n",
      " 1    2266\n",
      "-1    2264\n",
      "Name: class_column, dtype: int64\n",
      "6817\n",
      "Calculate:  DecisionTreeClassifier 1\n",
      "0.7058823529411765\n",
      "Calculate:  DecisionTreeClassifier 2\n",
      "0.7058823529411765\n",
      "Calculate:  DecisionTreeClassifier 3\n",
      "0.7058823529411765\n",
      "Calculate:  RandomForestClassifier 1\n",
      "0.5294117647058824\n",
      "Calculate:  RandomForestClassifier 2\n",
      "0.5294117647058824\n",
      "Calculate:  RandomForestClassifier 3\n",
      "0.5294117647058824\n",
      "Calculate:  GradientBoostingClassifier 1\n",
      "0.8823529411764706\n",
      "Calculate:  GradientBoostingClassifier 2\n",
      "0.8235294117647058\n",
      "Calculate:  XGBRFClassifier 1\n"
     ]
    },
    {
     "name": "stderr",
     "output_type": "stream",
     "text": [
      "C:\\Users\\exomat\\anaconda3\\envs\\magisterka_analiza\\lib\\site-packages\\xgboost\\sklearn.py:888: UserWarning: The use of label encoder in XGBClassifier is deprecated and will be removed in a future release. To remove this warning, do the following: 1) Pass option use_label_encoder=False when constructing XGBClassifier object; and 2) Encode your labels (y) as integers starting with 0, i.e. 0, 1, 2, ..., [num_class - 1].\n",
      "  warnings.warn(label_encoder_deprecation_msg, UserWarning)\n"
     ]
    },
    {
     "name": "stdout",
     "output_type": "stream",
     "text": [
      "[01:51:17] WARNING: C:/Users/Administrator/workspace/xgboost-win64_release_1.3.0/src/learner.cc:1061: Starting in XGBoost 1.3.0, the default evaluation metric used with the objective 'multi:softprob' was changed from 'merror' to 'mlogloss'. Explicitly set eval_metric if you'd like to restore the old behavior.\n",
      "0.5294117647058824\n",
      "Calculate:  XGBRFClassifier 2\n",
      "[01:51:54] WARNING: C:/Users/Administrator/workspace/xgboost-win64_release_1.3.0/src/learner.cc:1061: Starting in XGBoost 1.3.0, the default evaluation metric used with the objective 'multi:softprob' was changed from 'merror' to 'mlogloss'. Explicitly set eval_metric if you'd like to restore the old behavior.\n",
      "0.6470588235294118\n",
      "Calculate:  XGBClassifier 1\n",
      "[01:51:55] WARNING: C:/Users/Administrator/workspace/xgboost-win64_release_1.3.0/src/learner.cc:1061: Starting in XGBoost 1.3.0, the default evaluation metric used with the objective 'multi:softprob' was changed from 'merror' to 'mlogloss'. Explicitly set eval_metric if you'd like to restore the old behavior.\n",
      "0.8235294117647058\n",
      "Calculate:  XGBClassifier 2\n",
      "[01:52:20] WARNING: C:/Users/Administrator/workspace/xgboost-win64_release_1.3.0/src/learner.cc:1061: Starting in XGBoost 1.3.0, the default evaluation metric used with the objective 'multi:softprob' was changed from 'merror' to 'mlogloss'. Explicitly set eval_metric if you'd like to restore the old behavior.\n",
      "0.8235294117647058\n"
     ]
    },
    {
     "name": "stderr",
     "output_type": "stream",
     "text": [
      "C:\\Users\\exomat\\anaconda3\\envs\\magisterka_analiza\\lib\\site-packages\\sklearn\\utils\\validation.py:67: FutureWarning: Pass n_features_to_select=10 as keyword args. From version 0.25 passing these as positional arguments will result in an error\n",
      "  warnings.warn(\"Pass {} as keyword args. From version 0.25 \"\n",
      "C:\\Users\\exomat\\anaconda3\\envs\\magisterka_analiza\\lib\\site-packages\\xgboost\\sklearn.py:888: UserWarning: The use of label encoder in XGBClassifier is deprecated and will be removed in a future release. To remove this warning, do the following: 1) Pass option use_label_encoder=False when constructing XGBClassifier object; and 2) Encode your labels (y) as integers starting with 0, i.e. 0, 1, 2, ..., [num_class - 1].\n",
      "  warnings.warn(label_encoder_deprecation_msg, UserWarning)\n"
     ]
    },
    {
     "name": "stdout",
     "output_type": "stream",
     "text": [
      "[01:52:57] WARNING: C:/Users/Administrator/workspace/xgboost-win64_release_1.3.0/src/learner.cc:1061: Starting in XGBoost 1.3.0, the default evaluation metric used with the objective 'multi:softprob' was changed from 'merror' to 'mlogloss'. Explicitly set eval_metric if you'd like to restore the old behavior.\n"
     ]
    },
    {
     "name": "stderr",
     "output_type": "stream",
     "text": [
      "C:\\Users\\exomat\\anaconda3\\envs\\magisterka_analiza\\lib\\site-packages\\xgboost\\sklearn.py:888: UserWarning: The use of label encoder in XGBClassifier is deprecated and will be removed in a future release. To remove this warning, do the following: 1) Pass option use_label_encoder=False when constructing XGBClassifier object; and 2) Encode your labels (y) as integers starting with 0, i.e. 0, 1, 2, ..., [num_class - 1].\n",
      "  warnings.warn(label_encoder_deprecation_msg, UserWarning)\n"
     ]
    },
    {
     "name": "stdout",
     "output_type": "stream",
     "text": [
      "[01:53:10] WARNING: C:/Users/Administrator/workspace/xgboost-win64_release_1.3.0/src/learner.cc:1061: Starting in XGBoost 1.3.0, the default evaluation metric used with the objective 'multi:softprob' was changed from 'merror' to 'mlogloss'. Explicitly set eval_metric if you'd like to restore the old behavior.\n"
     ]
    },
    {
     "name": "stderr",
     "output_type": "stream",
     "text": [
      "C:\\Users\\exomat\\anaconda3\\envs\\magisterka_analiza\\lib\\site-packages\\xgboost\\sklearn.py:888: UserWarning: The use of label encoder in XGBClassifier is deprecated and will be removed in a future release. To remove this warning, do the following: 1) Pass option use_label_encoder=False when constructing XGBClassifier object; and 2) Encode your labels (y) as integers starting with 0, i.e. 0, 1, 2, ..., [num_class - 1].\n",
      "  warnings.warn(label_encoder_deprecation_msg, UserWarning)\n"
     ]
    },
    {
     "name": "stdout",
     "output_type": "stream",
     "text": [
      "[01:53:22] WARNING: C:/Users/Administrator/workspace/xgboost-win64_release_1.3.0/src/learner.cc:1061: Starting in XGBoost 1.3.0, the default evaluation metric used with the objective 'multi:softprob' was changed from 'merror' to 'mlogloss'. Explicitly set eval_metric if you'd like to restore the old behavior.\n"
     ]
    },
    {
     "name": "stderr",
     "output_type": "stream",
     "text": [
      "C:\\Users\\exomat\\anaconda3\\envs\\magisterka_analiza\\lib\\site-packages\\xgboost\\sklearn.py:888: UserWarning: The use of label encoder in XGBClassifier is deprecated and will be removed in a future release. To remove this warning, do the following: 1) Pass option use_label_encoder=False when constructing XGBClassifier object; and 2) Encode your labels (y) as integers starting with 0, i.e. 0, 1, 2, ..., [num_class - 1].\n",
      "  warnings.warn(label_encoder_deprecation_msg, UserWarning)\n"
     ]
    },
    {
     "name": "stdout",
     "output_type": "stream",
     "text": [
      "[01:53:35] WARNING: C:/Users/Administrator/workspace/xgboost-win64_release_1.3.0/src/learner.cc:1061: Starting in XGBoost 1.3.0, the default evaluation metric used with the objective 'multi:softprob' was changed from 'merror' to 'mlogloss'. Explicitly set eval_metric if you'd like to restore the old behavior.\n"
     ]
    },
    {
     "name": "stderr",
     "output_type": "stream",
     "text": [
      "C:\\Users\\exomat\\anaconda3\\envs\\magisterka_analiza\\lib\\site-packages\\xgboost\\sklearn.py:888: UserWarning: The use of label encoder in XGBClassifier is deprecated and will be removed in a future release. To remove this warning, do the following: 1) Pass option use_label_encoder=False when constructing XGBClassifier object; and 2) Encode your labels (y) as integers starting with 0, i.e. 0, 1, 2, ..., [num_class - 1].\n",
      "  warnings.warn(label_encoder_deprecation_msg, UserWarning)\n"
     ]
    },
    {
     "name": "stdout",
     "output_type": "stream",
     "text": [
      "[01:53:48] WARNING: C:/Users/Administrator/workspace/xgboost-win64_release_1.3.0/src/learner.cc:1061: Starting in XGBoost 1.3.0, the default evaluation metric used with the objective 'multi:softprob' was changed from 'merror' to 'mlogloss'. Explicitly set eval_metric if you'd like to restore the old behavior.\n"
     ]
    },
    {
     "name": "stderr",
     "output_type": "stream",
     "text": [
      "C:\\Users\\exomat\\anaconda3\\envs\\magisterka_analiza\\lib\\site-packages\\xgboost\\sklearn.py:888: UserWarning: The use of label encoder in XGBClassifier is deprecated and will be removed in a future release. To remove this warning, do the following: 1) Pass option use_label_encoder=False when constructing XGBClassifier object; and 2) Encode your labels (y) as integers starting with 0, i.e. 0, 1, 2, ..., [num_class - 1].\n",
      "  warnings.warn(label_encoder_deprecation_msg, UserWarning)\n"
     ]
    },
    {
     "name": "stdout",
     "output_type": "stream",
     "text": [
      "[01:54:00] WARNING: C:/Users/Administrator/workspace/xgboost-win64_release_1.3.0/src/learner.cc:1061: Starting in XGBoost 1.3.0, the default evaluation metric used with the objective 'multi:softprob' was changed from 'merror' to 'mlogloss'. Explicitly set eval_metric if you'd like to restore the old behavior.\n"
     ]
    },
    {
     "name": "stderr",
     "output_type": "stream",
     "text": [
      "C:\\Users\\exomat\\anaconda3\\envs\\magisterka_analiza\\lib\\site-packages\\xgboost\\sklearn.py:888: UserWarning: The use of label encoder in XGBClassifier is deprecated and will be removed in a future release. To remove this warning, do the following: 1) Pass option use_label_encoder=False when constructing XGBClassifier object; and 2) Encode your labels (y) as integers starting with 0, i.e. 0, 1, 2, ..., [num_class - 1].\n",
      "  warnings.warn(label_encoder_deprecation_msg, UserWarning)\n"
     ]
    },
    {
     "name": "stdout",
     "output_type": "stream",
     "text": [
      "[01:54:13] WARNING: C:/Users/Administrator/workspace/xgboost-win64_release_1.3.0/src/learner.cc:1061: Starting in XGBoost 1.3.0, the default evaluation metric used with the objective 'multi:softprob' was changed from 'merror' to 'mlogloss'. Explicitly set eval_metric if you'd like to restore the old behavior.\n"
     ]
    },
    {
     "name": "stderr",
     "output_type": "stream",
     "text": [
      "C:\\Users\\exomat\\anaconda3\\envs\\magisterka_analiza\\lib\\site-packages\\xgboost\\sklearn.py:888: UserWarning: The use of label encoder in XGBClassifier is deprecated and will be removed in a future release. To remove this warning, do the following: 1) Pass option use_label_encoder=False when constructing XGBClassifier object; and 2) Encode your labels (y) as integers starting with 0, i.e. 0, 1, 2, ..., [num_class - 1].\n",
      "  warnings.warn(label_encoder_deprecation_msg, UserWarning)\n"
     ]
    },
    {
     "name": "stdout",
     "output_type": "stream",
     "text": [
      "[01:54:26] WARNING: C:/Users/Administrator/workspace/xgboost-win64_release_1.3.0/src/learner.cc:1061: Starting in XGBoost 1.3.0, the default evaluation metric used with the objective 'multi:softprob' was changed from 'merror' to 'mlogloss'. Explicitly set eval_metric if you'd like to restore the old behavior.\n"
     ]
    },
    {
     "name": "stderr",
     "output_type": "stream",
     "text": [
      "C:\\Users\\exomat\\anaconda3\\envs\\magisterka_analiza\\lib\\site-packages\\xgboost\\sklearn.py:888: UserWarning: The use of label encoder in XGBClassifier is deprecated and will be removed in a future release. To remove this warning, do the following: 1) Pass option use_label_encoder=False when constructing XGBClassifier object; and 2) Encode your labels (y) as integers starting with 0, i.e. 0, 1, 2, ..., [num_class - 1].\n",
      "  warnings.warn(label_encoder_deprecation_msg, UserWarning)\n"
     ]
    },
    {
     "name": "stdout",
     "output_type": "stream",
     "text": [
      "[01:54:40] WARNING: C:/Users/Administrator/workspace/xgboost-win64_release_1.3.0/src/learner.cc:1061: Starting in XGBoost 1.3.0, the default evaluation metric used with the objective 'multi:softprob' was changed from 'merror' to 'mlogloss'. Explicitly set eval_metric if you'd like to restore the old behavior.\n"
     ]
    },
    {
     "name": "stderr",
     "output_type": "stream",
     "text": [
      "C:\\Users\\exomat\\anaconda3\\envs\\magisterka_analiza\\lib\\site-packages\\xgboost\\sklearn.py:888: UserWarning: The use of label encoder in XGBClassifier is deprecated and will be removed in a future release. To remove this warning, do the following: 1) Pass option use_label_encoder=False when constructing XGBClassifier object; and 2) Encode your labels (y) as integers starting with 0, i.e. 0, 1, 2, ..., [num_class - 1].\n",
      "  warnings.warn(label_encoder_deprecation_msg, UserWarning)\n"
     ]
    }
   ],
   "source": [
    "start_data = splited_dataframe[:400]\n",
    "next_data = splited_dataframe[400:405]\n",
    "print(len(next_data))\n",
    "score = defaultdict(list)\n",
    "points = defaultdict(list)\n",
    "points_train = defaultdict(list)\n",
    "score_train = defaultdict(list)\n",
    "step_headers = []\n",
    "i = 0\n",
    "print(\"start\")\n",
    "for idx, day in enumerate(next_data):\n",
    "    start_data.append(day)\n",
    "    data_set = pd.concat(start_data)\n",
    "    data_set = create_class(data_set)\n",
    "    print(data_set['class_column'].value_counts())\n",
    "    y = data_set['class_column']\n",
    "    features = [x for x in data_set.columns if x not in ['class_column']]\n",
    "    x = data_set[features]\n",
    "    x_train = x.iloc[:-17]\n",
    "    y_train = y.iloc[:-17]\n",
    "    x_test = x.iloc[-17:]\n",
    "    y_test = y.iloc[-17:]\n",
    "\n",
    "    print(len(data_set))\n",
    "\n",
    "    step_headers.append(f'<{i}>')\n",
    "    i = i + 1\n",
    "    predictions_train = dict()\n",
    "    predictions = dict()\n",
    "\n",
    "    for k, v in classifiers.items():\n",
    "        print(\"Calculate: \", k)\n",
    "        train_model(v, x_train, y_train)\n",
    "        predictions_train[k] = v.predict(x_train)\n",
    "        score_train[k].append(accuracy_score(y_train.values, predictions_train[k]))\n",
    "        predictions[k] = v.predict(x_test)\n",
    "        score[k].append(accuracy_score(y_test.values, predictions[k]))\n",
    "        points_train[k].append(count_correct(predictions_train[k], y_train.values))\n",
    "        points[k].append(count_correct(predictions[k], y_test.values))\n",
    "        print(accuracy_score(y_test.values, predictions[k]))\n",
    "\n",
    "    rfe = RFE(classifiers['XGBRFClassifier 1'], 10 )\n",
    "    fited = rfe.fit(x_train, y_train)\n",
    "    names = x.columns\n",
    "    columns = []\n",
    "    for i in range(len(fited.support_)):\n",
    "        if fited.support_[i]:\n",
    "            columns.append(names[i])\n",
    "\n",
    "    print(\"Columns with predictive power:\", columns)\n",
    "    columns = columns + ['high', 'low', 'volume', 'open']\n",
    "    x_test_cropped = x_test[columns]\n",
    "    x_train_cropped = x_train[columns]\n",
    "    x_test_cropped = x_test_cropped.loc[:,~x_test_cropped.columns.duplicated()]\n",
    "    x_train_cropped = x_train_cropped.loc[:,~x_train_cropped.columns.duplicated()]\n",
    "    for k, v in classifiers_boosted.items():\n",
    "        print(\"Calculate: \", k)\n",
    "        train_model(v, x_train_cropped, y_train)\n",
    "        predictions_train[k] = v.predict(x_train_cropped)\n",
    "        score_train[k].append(accuracy_score(y_train.values, predictions_train[k]))\n",
    "        predictions[k] = v.predict(x_test_cropped)\n",
    "        score[k].append(accuracy_score(y_test.values, predictions[k]))\n",
    "        points_train[k].append(count_correct(predictions_train[k], y_train.values))\n",
    "        points[k].append(count_correct(predictions[k], y_test.values))\n",
    "        print(accuracy_score(y_test.values, predictions[k]))\n",
    "\n",
    "\n"
   ],
   "metadata": {
    "collapsed": false,
    "pycharm": {
     "name": "#%%\n",
     "is_executing": true
    }
   }
  },
  {
   "cell_type": "code",
   "execution_count": null,
   "outputs": [],
   "source": [
    "headers = [\"Classifier type\", \"Accuracy\"]\n",
    "score_df = pd.DataFrame(score.items(), columns=headers)\n",
    "# print(tabulate(score_df, headers, tablefmt=\"psql\"))\n",
    "headers2 = [\"Classifier type\", ] + step_headers\n",
    "score_df = pd.DataFrame(score.items(), columns=headers)\n",
    "accuracy_df = pd.DataFrame(score_df['Accuracy'].tolist(), index=score_df.index, columns=step_headers)\n",
    "score_df = score_df.drop('Accuracy', 1)\n",
    "f_out = pd.merge(score_df, accuracy_df, how='left', left_index=True, right_index=True)\n",
    "f_out['mean'] = f_out.mean(axis=1)\n",
    "headers2 = headers2 + ['mean']\n",
    "print(tabulate(f_out, headers2, tablefmt=\"psql\"))\n",
    "\n",
    "filename_to_export = f'C:\\\\Users\\\\exomat\\\\Desktop\\\\repo\\\\magisterka_analiza\\\\data\\\\results\\\\nfold_diff\\\\result_test_{symbol}_{WINDOW}_{datetime.now().strftime(\"%d_%m_%Y %H_%M_%S\")}.csv'\n",
    "filename_to_export_train = f'C:\\\\Users\\\\exomat\\\\Desktop\\\\repo\\\\magisterka_analiza\\\\data\\\\results\\\\nfold_diff\\\\result_train_{symbol}_{WINDOW}_{datetime.now().strftime(\"%d_%m_%Y %H_%M_%S\")}.csv'\n",
    "f_out.to_csv(filename_to_export, index=False)"
   ],
   "metadata": {
    "collapsed": false,
    "pycharm": {
     "name": "#%%\n",
     "is_executing": true
    }
   }
  },
  {
   "cell_type": "code",
   "execution_count": null,
   "outputs": [],
   "source": [
    "score_train"
   ],
   "metadata": {
    "collapsed": false,
    "pycharm": {
     "name": "#%%\n",
     "is_executing": true
    }
   }
  },
  {
   "cell_type": "code",
   "execution_count": null,
   "outputs": [],
   "source": [
    "# print(tabulate(score_df, headers, tablefmt=\"psql\"))\n",
    "headers = [\"Classifier type\", \"Accuracy\"]\n",
    "score_df_train = pd.DataFrame(score_train.items(), columns=headers)\n",
    "headers2 = [\"Classifier type\", ] + step_headers\n",
    "score_df_train = pd.DataFrame(score_train.items(), columns=headers)\n",
    "accuracy_df_train = pd.DataFrame(score_df_train['Accuracy'].tolist(), index=score_df_train.index, columns=step_headers)\n",
    "score_df_train = score_df_train.drop('Accuracy', 1)\n",
    "f_out_train = pd.merge(score_df_train, accuracy_df_train, how='left', left_index=True, right_index=True)\n",
    "f_out_train['mean'] = f_out_train.mean(axis=1)\n",
    "headers2 = headers2 + ['mean']\n",
    "print(tabulate(f_out_train, headers2, tablefmt=\"psql\"))\n",
    "\n",
    "filename_to_export = f'C:\\\\Users\\\\exomat\\\\Desktop\\\\repo\\\\magisterka_analiza\\\\data\\\\results\\\\nfold_diff\\\\result_test_{symbol}_{WINDOW}_{datetime.now().strftime(\"%d_%m_%Y %H_%M_%S\")}.csv'\n",
    "filename_to_export_train = f'C:\\\\Users\\\\exomat\\\\Desktop\\\\repo\\\\magisterka_analiza\\\\data\\\\results\\\\nfold_diff\\\\result_train_{symbol}_{WINDOW}_{datetime.now().strftime(\"%d_%m_%Y %H_%M_%S\")}.csv'\n",
    "\n",
    "f_out_train.to_csv(filename_to_export_train, index=False)"
   ],
   "metadata": {
    "collapsed": false,
    "pycharm": {
     "name": "#%%\n",
     "is_executing": true
    }
   }
  },
  {
   "cell_type": "code",
   "execution_count": null,
   "outputs": [],
   "source": [
    "filename_to_export_train = f'C:\\\\Users\\\\exomat\\\\Desktop\\\\repo\\\\magisterka_analiza\\\\data\\\\results\\\\nfold_diff\\\\result_train_points_{symbol}_{WINDOW}_{datetime.now().strftime(\"%d_%m_%Y %H_%M_%S\")}.csv'\n",
    "filename_to_export = f'C:\\\\Users\\\\exomat\\\\Desktop\\\\repo\\\\magisterka_analiza\\\\data\\\\results\\\\nfold_diff\\\\result__points_{symbol}_{WINDOW}_{datetime.now().strftime(\"%d_%m_%Y %H_%M_%S\")}.csv'\n",
    "\n",
    "points\n",
    "df_points = pd.DataFrame(points.items())\n",
    "df_temp = pd.DataFrame(df_points[1].tolist(), index=score_df_train.index)\n",
    "df_points = df_points.drop(df_points.columns[1], axis=1)\n",
    "df_points = pd.merge(df_points, df_temp, how='left', left_index=True, right_index=True)\n",
    "df_points.to_csv(filename_to_export)\n",
    "df_points\n",
    "\n",
    "# df_points_train = pd(points_train.items())"
   ],
   "metadata": {
    "collapsed": false,
    "pycharm": {
     "name": "#%%\n",
     "is_executing": true
    }
   }
  },
  {
   "cell_type": "code",
   "execution_count": null,
   "outputs": [],
   "source": [
    "df_points_train = pd.DataFrame(points_train.items())\n",
    "df_temp = pd.DataFrame(df_points_train[1].tolist(), index=score_df_train.index)\n",
    "df_points_train = df_points.drop(df_points_train.columns[1], axis=1)\n",
    "df_points_train = pd.merge(df_points_train, df_temp, how='left', left_index=True, right_index=True)\n",
    "df_points_train.to_csv(filename_to_export_train)\n",
    "df_points_train"
   ],
   "metadata": {
    "collapsed": false,
    "pycharm": {
     "name": "#%%\n",
     "is_executing": true
    }
   }
  },
  {
   "cell_type": "code",
   "execution_count": null,
   "outputs": [],
   "source": [
    "import csv\n",
    "\n",
    "with open(f'C:\\\\Users\\\\exomat\\\\Desktop\\\\repo\\\\magisterka_analiza\\\\data\\\\results\\\\nfold_diff\\\\test_points_{datetime.now().strftime(\"%d_%m_%Y %H_%M_%S\")}.csv', \"w\") as outfile:\n",
    "   writer = csv.writer(outfile)\n",
    "   writer.writerow(points.keys())\n",
    "   writer.writerows(zip(*points.values()))"
   ],
   "metadata": {
    "collapsed": false,
    "pycharm": {
     "name": "#%%\n",
     "is_executing": true
    }
   }
  },
  {
   "cell_type": "code",
   "execution_count": null,
   "outputs": [],
   "source": [
    "with open(f'C:\\\\Users\\\\exomat\\\\Desktop\\\\repo\\\\magisterka_analiza\\\\data\\\\results\\\\nfold_diff\\\\test_points_train_{datetime.now().strftime(\"%d_%m_%Y %H_%M_%S\")}.csv', \"w\")  as outfile:\n",
    "   writer = csv.writer(outfile)\n",
    "   writer.writerow(points_train.keys())\n",
    "   writer.writerows(zip(*points_train.values()))"
   ],
   "metadata": {
    "collapsed": false,
    "pycharm": {
     "name": "#%%\n",
     "is_executing": true
    }
   }
  }
 ],
 "metadata": {
  "kernelspec": {
   "name": "magisterka_analiza",
   "language": "python",
   "display_name": "Python magisterka"
  },
  "language_info": {
   "codemirror_mode": {
    "name": "ipython",
    "version": 2
   },
   "file_extension": ".py",
   "mimetype": "text/x-python",
   "name": "python",
   "nbconvert_exporter": "python",
   "pygments_lexer": "ipython2",
   "version": "2.7.6"
  }
 },
 "nbformat": 4,
 "nbformat_minor": 0
}