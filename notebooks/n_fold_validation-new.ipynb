{
 "cells": [
  {
   "cell_type": "code",
   "execution_count": 62,
   "metadata": {
    "collapsed": true
   },
   "outputs": [],
   "source": [
    "from collections import defaultdict\n",
    "\n",
    "import matplotlib.pyplot as plt\n",
    "import pandas as pd\n",
    "import seaborn as sn\n",
    "import yfinance as yf\n",
    "from finta import TA\n",
    "from sklearn.ensemble import RandomForestClassifier, GradientBoostingClassifier\n",
    "from sklearn.model_selection import train_test_split\n",
    "from sklearn.metrics import confusion_matrix, classification_report,accuracy_score\n",
    "from sklearn.tree import DecisionTreeClassifier\n",
    "from tabulate import tabulate\n",
    "from ta import add_all_ta_features"
   ]
  },
  {
   "cell_type": "code",
   "execution_count": 63,
   "outputs": [],
   "source": [
    "WINDOW = 16 # number of rows to look ahead to see what the price did\n",
    "FETCH_INTERVAL = \"60m\"  # fetch data by interval (including intraday if period < 60 days)\n",
    "        # valid intervals: 1m,2m,5m,15m,30m,60m,90m,1h,1d,5d,1wk,1mo,3mo\n",
    "        # (optional, default is '1d')\n",
    "INTERVAL = '1y'     # use \"period\" instead of start/end\n",
    "        # valid periods: 1d,5d,1mo,3mo,6mo,1y,2y,5y,10y,ytd,max\n",
    "        # (optional, default is '1mo')\n",
    "symbol = 'AAPL'      # Symbol of the desired stock\n",
    "# INDICATORS = ['RSI', 'MACD', 'STOCH','ADL', 'ATR', 'MOM', 'MFI', 'ROC', 'CCI', 'VORTEX']\n",
    "INDICATORS = ['RSI', 'MACD', 'STOCH','ADL', 'ATR', 'MOM', 'MFI', 'ROC', 'OBV', 'CCI', 'VORTEX']"
   ],
   "metadata": {
    "collapsed": false,
    "pycharm": {
     "name": "#%%\n"
    }
   }
  },
  {
   "cell_type": "code",
   "execution_count": 64,
   "outputs": [
    {
     "name": "stdout",
     "output_type": "stream",
     "text": [
      "[*********************100%***********************]  1 of 1 completed\n"
     ]
    },
    {
     "data": {
      "text/plain": "                                 Open        High         Low       Close  \\\nDatetime                                                                    \n2020-03-23 04:00:00-04:00   56.220000   56.220000   55.500000   55.600000   \n2020-03-23 05:00:00-04:00   55.550000   56.095000   55.370000   55.700000   \n2020-03-23 06:00:00-04:00   56.032500   56.437500   55.937500   56.247500   \n2020-03-23 07:00:00-04:00   56.132500   56.750000   56.042500   56.595000   \n2020-03-23 08:00:00-04:00   56.550000   58.197500   55.625000   57.812500   \n...                               ...         ...         ...         ...   \n2021-03-22 13:30:00-04:00  123.090103  123.720001  123.080002  123.542000   \n2021-03-22 14:30:00-04:00  123.544998  123.870003  123.275002  123.345001   \n2021-03-22 15:30:00-04:00  123.339996  123.599998  123.019997  123.370003   \n2021-03-22 16:00:00-04:00  123.390000  123.500000  122.803400  123.100000   \n2021-03-22 17:00:00-04:00  123.120000  123.390000  115.239000  123.060000   \n\n                            Adj Close    Volume  \nDatetime                                         \n2020-03-23 04:00:00-04:00   55.600000         0  \n2020-03-23 05:00:00-04:00   55.700000         0  \n2020-03-23 06:00:00-04:00   56.247500         0  \n2020-03-23 07:00:00-04:00   56.595000         0  \n2020-03-23 08:00:00-04:00   57.812500         0  \n...                               ...       ...  \n2021-03-22 13:30:00-04:00  123.542000   9430925  \n2021-03-22 14:30:00-04:00  123.345001  11354023  \n2021-03-22 15:30:00-04:00  123.370003  10684835  \n2021-03-22 16:00:00-04:00  123.100000   9642937  \n2021-03-22 17:00:00-04:00  123.060000         0  \n\n[4184 rows x 6 columns]",
      "text/html": "<div>\n<style scoped>\n    .dataframe tbody tr th:only-of-type {\n        vertical-align: middle;\n    }\n\n    .dataframe tbody tr th {\n        vertical-align: top;\n    }\n\n    .dataframe thead th {\n        text-align: right;\n    }\n</style>\n<table border=\"1\" class=\"dataframe\">\n  <thead>\n    <tr style=\"text-align: right;\">\n      <th></th>\n      <th>Open</th>\n      <th>High</th>\n      <th>Low</th>\n      <th>Close</th>\n      <th>Adj Close</th>\n      <th>Volume</th>\n    </tr>\n    <tr>\n      <th>Datetime</th>\n      <th></th>\n      <th></th>\n      <th></th>\n      <th></th>\n      <th></th>\n      <th></th>\n    </tr>\n  </thead>\n  <tbody>\n    <tr>\n      <th>2020-03-23 04:00:00-04:00</th>\n      <td>56.220000</td>\n      <td>56.220000</td>\n      <td>55.500000</td>\n      <td>55.600000</td>\n      <td>55.600000</td>\n      <td>0</td>\n    </tr>\n    <tr>\n      <th>2020-03-23 05:00:00-04:00</th>\n      <td>55.550000</td>\n      <td>56.095000</td>\n      <td>55.370000</td>\n      <td>55.700000</td>\n      <td>55.700000</td>\n      <td>0</td>\n    </tr>\n    <tr>\n      <th>2020-03-23 06:00:00-04:00</th>\n      <td>56.032500</td>\n      <td>56.437500</td>\n      <td>55.937500</td>\n      <td>56.247500</td>\n      <td>56.247500</td>\n      <td>0</td>\n    </tr>\n    <tr>\n      <th>2020-03-23 07:00:00-04:00</th>\n      <td>56.132500</td>\n      <td>56.750000</td>\n      <td>56.042500</td>\n      <td>56.595000</td>\n      <td>56.595000</td>\n      <td>0</td>\n    </tr>\n    <tr>\n      <th>2020-03-23 08:00:00-04:00</th>\n      <td>56.550000</td>\n      <td>58.197500</td>\n      <td>55.625000</td>\n      <td>57.812500</td>\n      <td>57.812500</td>\n      <td>0</td>\n    </tr>\n    <tr>\n      <th>...</th>\n      <td>...</td>\n      <td>...</td>\n      <td>...</td>\n      <td>...</td>\n      <td>...</td>\n      <td>...</td>\n    </tr>\n    <tr>\n      <th>2021-03-22 13:30:00-04:00</th>\n      <td>123.090103</td>\n      <td>123.720001</td>\n      <td>123.080002</td>\n      <td>123.542000</td>\n      <td>123.542000</td>\n      <td>9430925</td>\n    </tr>\n    <tr>\n      <th>2021-03-22 14:30:00-04:00</th>\n      <td>123.544998</td>\n      <td>123.870003</td>\n      <td>123.275002</td>\n      <td>123.345001</td>\n      <td>123.345001</td>\n      <td>11354023</td>\n    </tr>\n    <tr>\n      <th>2021-03-22 15:30:00-04:00</th>\n      <td>123.339996</td>\n      <td>123.599998</td>\n      <td>123.019997</td>\n      <td>123.370003</td>\n      <td>123.370003</td>\n      <td>10684835</td>\n    </tr>\n    <tr>\n      <th>2021-03-22 16:00:00-04:00</th>\n      <td>123.390000</td>\n      <td>123.500000</td>\n      <td>122.803400</td>\n      <td>123.100000</td>\n      <td>123.100000</td>\n      <td>9642937</td>\n    </tr>\n    <tr>\n      <th>2021-03-22 17:00:00-04:00</th>\n      <td>123.120000</td>\n      <td>123.390000</td>\n      <td>115.239000</td>\n      <td>123.060000</td>\n      <td>123.060000</td>\n      <td>0</td>\n    </tr>\n  </tbody>\n</table>\n<p>4184 rows × 6 columns</p>\n</div>"
     },
     "execution_count": 64,
     "metadata": {},
     "output_type": "execute_result"
    }
   ],
   "source": [
    "data = yf.download(  # or pdr.get_data_yahoo(...\n",
    "        tickers = symbol,\n",
    "\n",
    "\n",
    "        period = INTERVAL,\n",
    "\n",
    "        interval = FETCH_INTERVAL,\n",
    "\n",
    "        # group by ticker (to access via data['SPY'])\n",
    "        # (optional, default is 'column')\n",
    "        group_by = 'ticker',\n",
    "\n",
    "        # adjust all OHLC automatically\n",
    "        # (optional, default is False)\n",
    "        # auto_adjust = True,\n",
    "\n",
    "        # download pre/post regular market hours data\n",
    "        # (optional, default is False)\n",
    "        prepost = True,\n",
    "\n",
    "        # use threads for mass downloading? (True/False/Integer)\n",
    "        # (optional, default is True)\n",
    "        threads = True,\n",
    "\n",
    "        # proxy URL scheme use use when downloading?\n",
    "        # (optional, default is None)\n",
    "        proxy = None\n",
    "    )\n",
    "data"
   ],
   "metadata": {
    "collapsed": false,
    "pycharm": {
     "name": "#%%\n"
    }
   }
  },
  {
   "cell_type": "code",
   "execution_count": 65,
   "outputs": [
    {
     "data": {
      "text/plain": "                                Open       High        Low      Close  \\\nDatetime                                                                \n2020-03-23 04:00:00-04:00  56.220000  56.220000  55.500000  55.600000   \n2020-03-23 05:00:00-04:00  55.550000  56.095000  55.370000  55.700000   \n2020-03-23 06:00:00-04:00  56.032500  56.437500  55.937500  56.247500   \n2020-03-23 07:00:00-04:00  56.132500  56.750000  56.042500  56.595000   \n2020-03-23 08:00:00-04:00  56.550000  58.197500  55.625000  57.812500   \n2020-03-23 09:00:00-04:00  57.837500  59.525000  56.887500  57.020000   \n2020-03-23 09:30:00-04:00  56.299999  56.750000  54.823750  55.450001   \n2020-03-23 10:30:00-04:00  55.465000  55.889999  53.412498  53.767502   \n2020-03-23 11:30:00-04:00  53.762501  55.097500  53.152500  54.803925   \n\n                           Adj Close    Volume  \nDatetime                                        \n2020-03-23 04:00:00-04:00  55.600000         0  \n2020-03-23 05:00:00-04:00  55.700000         0  \n2020-03-23 06:00:00-04:00  56.247500         0  \n2020-03-23 07:00:00-04:00  56.595000         0  \n2020-03-23 08:00:00-04:00  57.812500         0  \n2020-03-23 09:00:00-04:00  57.020000         0  \n2020-03-23 09:30:00-04:00  55.450001  21473989  \n2020-03-23 10:30:00-04:00  53.767502  11306818  \n2020-03-23 11:30:00-04:00  54.803925  11355189  ",
      "text/html": "<div>\n<style scoped>\n    .dataframe tbody tr th:only-of-type {\n        vertical-align: middle;\n    }\n\n    .dataframe tbody tr th {\n        vertical-align: top;\n    }\n\n    .dataframe thead th {\n        text-align: right;\n    }\n</style>\n<table border=\"1\" class=\"dataframe\">\n  <thead>\n    <tr style=\"text-align: right;\">\n      <th></th>\n      <th>Open</th>\n      <th>High</th>\n      <th>Low</th>\n      <th>Close</th>\n      <th>Adj Close</th>\n      <th>Volume</th>\n    </tr>\n    <tr>\n      <th>Datetime</th>\n      <th></th>\n      <th></th>\n      <th></th>\n      <th></th>\n      <th></th>\n      <th></th>\n    </tr>\n  </thead>\n  <tbody>\n    <tr>\n      <th>2020-03-23 04:00:00-04:00</th>\n      <td>56.220000</td>\n      <td>56.220000</td>\n      <td>55.500000</td>\n      <td>55.600000</td>\n      <td>55.600000</td>\n      <td>0</td>\n    </tr>\n    <tr>\n      <th>2020-03-23 05:00:00-04:00</th>\n      <td>55.550000</td>\n      <td>56.095000</td>\n      <td>55.370000</td>\n      <td>55.700000</td>\n      <td>55.700000</td>\n      <td>0</td>\n    </tr>\n    <tr>\n      <th>2020-03-23 06:00:00-04:00</th>\n      <td>56.032500</td>\n      <td>56.437500</td>\n      <td>55.937500</td>\n      <td>56.247500</td>\n      <td>56.247500</td>\n      <td>0</td>\n    </tr>\n    <tr>\n      <th>2020-03-23 07:00:00-04:00</th>\n      <td>56.132500</td>\n      <td>56.750000</td>\n      <td>56.042500</td>\n      <td>56.595000</td>\n      <td>56.595000</td>\n      <td>0</td>\n    </tr>\n    <tr>\n      <th>2020-03-23 08:00:00-04:00</th>\n      <td>56.550000</td>\n      <td>58.197500</td>\n      <td>55.625000</td>\n      <td>57.812500</td>\n      <td>57.812500</td>\n      <td>0</td>\n    </tr>\n    <tr>\n      <th>2020-03-23 09:00:00-04:00</th>\n      <td>57.837500</td>\n      <td>59.525000</td>\n      <td>56.887500</td>\n      <td>57.020000</td>\n      <td>57.020000</td>\n      <td>0</td>\n    </tr>\n    <tr>\n      <th>2020-03-23 09:30:00-04:00</th>\n      <td>56.299999</td>\n      <td>56.750000</td>\n      <td>54.823750</td>\n      <td>55.450001</td>\n      <td>55.450001</td>\n      <td>21473989</td>\n    </tr>\n    <tr>\n      <th>2020-03-23 10:30:00-04:00</th>\n      <td>55.465000</td>\n      <td>55.889999</td>\n      <td>53.412498</td>\n      <td>53.767502</td>\n      <td>53.767502</td>\n      <td>11306818</td>\n    </tr>\n    <tr>\n      <th>2020-03-23 11:30:00-04:00</th>\n      <td>53.762501</td>\n      <td>55.097500</td>\n      <td>53.152500</td>\n      <td>54.803925</td>\n      <td>54.803925</td>\n      <td>11355189</td>\n    </tr>\n  </tbody>\n</table>\n</div>"
     },
     "execution_count": 65,
     "metadata": {},
     "output_type": "execute_result"
    }
   ],
   "source": [
    "data.head(9)"
   ],
   "metadata": {
    "collapsed": false,
    "pycharm": {
     "name": "#%%\n"
    }
   }
  },
  {
   "cell_type": "code",
   "execution_count": 66,
   "outputs": [
    {
     "data": {
      "text/plain": "                                open       high        low      close  \\\nDatetime                                                                \n2020-03-23 04:00:00-04:00  56.220000  56.220000  55.500000  55.600000   \n2020-03-23 05:00:00-04:00  55.550000  56.095000  55.370000  55.700000   \n2020-03-23 06:00:00-04:00  56.032500  56.437500  55.937500  56.247500   \n2020-03-23 07:00:00-04:00  56.132500  56.750000  56.042500  56.595000   \n2020-03-23 08:00:00-04:00  56.550000  58.197500  55.625000  57.812500   \n2020-03-23 09:00:00-04:00  57.837500  59.525000  56.887500  57.020000   \n2020-03-23 09:30:00-04:00  56.299999  56.750000  54.823750  55.450001   \n2020-03-23 10:30:00-04:00  55.465000  55.889999  53.412498  53.767502   \n2020-03-23 11:30:00-04:00  53.762501  55.097500  53.152500  54.803925   \n2020-03-23 12:30:00-04:00  54.823875  56.775002  54.472500  55.486252   \n\n                           Adj Close    volume  \nDatetime                                        \n2020-03-23 04:00:00-04:00  55.600000         0  \n2020-03-23 05:00:00-04:00  55.700000         0  \n2020-03-23 06:00:00-04:00  56.247500         0  \n2020-03-23 07:00:00-04:00  56.595000         0  \n2020-03-23 08:00:00-04:00  57.812500         0  \n2020-03-23 09:00:00-04:00  57.020000         0  \n2020-03-23 09:30:00-04:00  55.450001  21473989  \n2020-03-23 10:30:00-04:00  53.767502  11306818  \n2020-03-23 11:30:00-04:00  54.803925  11355189  \n2020-03-23 12:30:00-04:00  55.486252  10671797  ",
      "text/html": "<div>\n<style scoped>\n    .dataframe tbody tr th:only-of-type {\n        vertical-align: middle;\n    }\n\n    .dataframe tbody tr th {\n        vertical-align: top;\n    }\n\n    .dataframe thead th {\n        text-align: right;\n    }\n</style>\n<table border=\"1\" class=\"dataframe\">\n  <thead>\n    <tr style=\"text-align: right;\">\n      <th></th>\n      <th>open</th>\n      <th>high</th>\n      <th>low</th>\n      <th>close</th>\n      <th>Adj Close</th>\n      <th>volume</th>\n    </tr>\n    <tr>\n      <th>Datetime</th>\n      <th></th>\n      <th></th>\n      <th></th>\n      <th></th>\n      <th></th>\n      <th></th>\n    </tr>\n  </thead>\n  <tbody>\n    <tr>\n      <th>2020-03-23 04:00:00-04:00</th>\n      <td>56.220000</td>\n      <td>56.220000</td>\n      <td>55.500000</td>\n      <td>55.600000</td>\n      <td>55.600000</td>\n      <td>0</td>\n    </tr>\n    <tr>\n      <th>2020-03-23 05:00:00-04:00</th>\n      <td>55.550000</td>\n      <td>56.095000</td>\n      <td>55.370000</td>\n      <td>55.700000</td>\n      <td>55.700000</td>\n      <td>0</td>\n    </tr>\n    <tr>\n      <th>2020-03-23 06:00:00-04:00</th>\n      <td>56.032500</td>\n      <td>56.437500</td>\n      <td>55.937500</td>\n      <td>56.247500</td>\n      <td>56.247500</td>\n      <td>0</td>\n    </tr>\n    <tr>\n      <th>2020-03-23 07:00:00-04:00</th>\n      <td>56.132500</td>\n      <td>56.750000</td>\n      <td>56.042500</td>\n      <td>56.595000</td>\n      <td>56.595000</td>\n      <td>0</td>\n    </tr>\n    <tr>\n      <th>2020-03-23 08:00:00-04:00</th>\n      <td>56.550000</td>\n      <td>58.197500</td>\n      <td>55.625000</td>\n      <td>57.812500</td>\n      <td>57.812500</td>\n      <td>0</td>\n    </tr>\n    <tr>\n      <th>2020-03-23 09:00:00-04:00</th>\n      <td>57.837500</td>\n      <td>59.525000</td>\n      <td>56.887500</td>\n      <td>57.020000</td>\n      <td>57.020000</td>\n      <td>0</td>\n    </tr>\n    <tr>\n      <th>2020-03-23 09:30:00-04:00</th>\n      <td>56.299999</td>\n      <td>56.750000</td>\n      <td>54.823750</td>\n      <td>55.450001</td>\n      <td>55.450001</td>\n      <td>21473989</td>\n    </tr>\n    <tr>\n      <th>2020-03-23 10:30:00-04:00</th>\n      <td>55.465000</td>\n      <td>55.889999</td>\n      <td>53.412498</td>\n      <td>53.767502</td>\n      <td>53.767502</td>\n      <td>11306818</td>\n    </tr>\n    <tr>\n      <th>2020-03-23 11:30:00-04:00</th>\n      <td>53.762501</td>\n      <td>55.097500</td>\n      <td>53.152500</td>\n      <td>54.803925</td>\n      <td>54.803925</td>\n      <td>11355189</td>\n    </tr>\n    <tr>\n      <th>2020-03-23 12:30:00-04:00</th>\n      <td>54.823875</td>\n      <td>56.775002</td>\n      <td>54.472500</td>\n      <td>55.486252</td>\n      <td>55.486252</td>\n      <td>10671797</td>\n    </tr>\n  </tbody>\n</table>\n</div>"
     },
     "execution_count": 66,
     "metadata": {},
     "output_type": "execute_result"
    }
   ],
   "source": [
    "data.rename(columns={\"Close\": 'close', \"High\": 'high', \"Low\": 'low', 'Volume': 'volume', 'Open': 'open'}, inplace=True)\n",
    "data.head(10)"
   ],
   "metadata": {
    "collapsed": false,
    "pycharm": {
     "name": "#%%\n"
    }
   }
  },
  {
   "cell_type": "code",
   "execution_count": 67,
   "outputs": [
    {
     "data": {
      "text/plain": "<AxesSubplot:xlabel='Datetime'>"
     },
     "execution_count": 67,
     "metadata": {},
     "output_type": "execute_result"
    },
    {
     "data": {
      "text/plain": "<Figure size 432x288 with 1 Axes>",
      "image/png": "[encoded data removed]"
     },
     "metadata": {
      "needs_background": "light"
     },
     "output_type": "display_data"
    }
   ],
   "source": [
    "data['close'].plot()"
   ],
   "metadata": {
    "collapsed": false,
    "pycharm": {
     "name": "#%%\n"
    }
   }
  },
  {
   "cell_type": "code",
   "execution_count": 68,
   "outputs": [
    {
     "name": "stderr",
     "output_type": "stream",
     "text": [
      "C:\\Users\\exomat\\anaconda3\\envs\\magisterka_analiza\\lib\\site-packages\\ta\\trend.py:768: RuntimeWarning: invalid value encountered in double_scalars\n",
      "  dip[i] = 100 * (self._dip[i] / self._trs[i])\n",
      "C:\\Users\\exomat\\anaconda3\\envs\\magisterka_analiza\\lib\\site-packages\\ta\\trend.py:772: RuntimeWarning: invalid value encountered in double_scalars\n",
      "  din[i] = 100 * (self._din[i] / self._trs[i])\n"
     ]
    }
   ],
   "source": [
    "def _get_indicator_data(data):\n",
    "    \"\"\"\n",
    "    Function that uses the finta API to calculate technical indicators used as the features\n",
    "    :return:\n",
    "    \"\"\"\n",
    "\n",
    "    data = add_all_ta_features(\n",
    "    data, open=\"open\", high=\"high\", low=\"low\", close=\"close\", volume=\"volume\", fillna=True)\n",
    "\n",
    "    # Instead of using the actual volume value (which changes over time), we normalize it with a moving volume average\n",
    "    # data['normVol'] = data['volume'] / data['volume'].ewm(5).mean()\n",
    "\n",
    "    # Remove columns that won't be used as features\n",
    "    del (data['open'])\n",
    "    del (data['high'])\n",
    "    del (data['low'])\n",
    "    # del (data['volume'])\n",
    "    del (data['Adj Close'])\n",
    "\n",
    "    return data\n",
    "\n",
    "data = _get_indicator_data(data)"
   ],
   "metadata": {
    "collapsed": false,
    "pycharm": {
     "name": "#%%\n"
    }
   }
  },
  {
   "cell_type": "code",
   "execution_count": 69,
   "outputs": [
    {
     "data": {
      "text/plain": "                                close    volume    volume_adi  volume_obv  \\\nDatetime                                                                    \n2020-03-23 04:00:00-04:00   55.600000         0 -0.000000e+00           0   \n2020-03-23 05:00:00-04:00   55.700000         0 -0.000000e+00           0   \n2020-03-23 06:00:00-04:00   56.247500         0  0.000000e+00           0   \n2020-03-23 07:00:00-04:00   56.595000         0  0.000000e+00           0   \n2020-03-23 08:00:00-04:00   57.812500         0  0.000000e+00           0   \n...                               ...       ...           ...         ...   \n2021-03-22 13:30:00-04:00  123.542000   9430925  6.814015e+08  -295204416   \n2021-03-22 14:30:00-04:00  123.345001  11354023  6.727190e+08  -306558439   \n2021-03-22 15:30:00-04:00  123.370003  10684835  6.749298e+08  -295873604   \n2021-03-22 16:00:00-04:00  123.100000   9642937  6.734985e+08  -305516541   \n2021-03-22 17:00:00-04:00  123.060000         0  6.734985e+08  -305516541   \n\n                           volume_cmf     volume_fi  volume_mfi  volume_em  \\\nDatetime                                                                     \n2020-03-23 04:00:00-04:00    0.000000  0.000000e+00   50.000000   0.000000   \n2020-03-23 05:00:00-04:00    0.000000  0.000000e+00   50.000000   0.000000   \n2020-03-23 06:00:00-04:00    0.000000  0.000000e+00   50.000000   0.000000   \n2020-03-23 07:00:00-04:00    0.000000  0.000000e+00   50.000000   0.000000   \n2020-03-23 08:00:00-04:00    0.000000  0.000000e+00   50.000000   0.000000   \n...                               ...           ...         ...        ...   \n2021-03-22 13:30:00-04:00    0.073995  3.995690e+06  100.000000  -0.033912   \n2021-03-22 14:30:00-04:00   -0.022353  3.105345e+06  100.000000   0.903980   \n2021-03-22 15:30:00-04:00    0.039436  2.699886e+06   88.424942  -1.424946   \n2021-03-22 16:00:00-04:00    0.043732  1.942243e+06   80.073449  -1.143532   \n2021-03-22 17:00:00-04:00    0.061620  1.664779e+06   80.073449  -1.143532   \n\n                           volume_sma_em    volume_vpt  ...  momentum_wr  \\\nDatetime                                                ...                \n2020-03-23 04:00:00-04:00       0.000000  -2419.844555  ...   -86.111111   \n2020-03-23 05:00:00-04:00       0.000000      0.000000  ...   -61.176471   \n2020-03-23 06:00:00-04:00       0.000000      0.000000  ...   -17.798595   \n2020-03-23 07:00:00-04:00       0.000000      0.000000  ...   -11.231884   \n2020-03-23 08:00:00-04:00       0.000000      0.000000  ...   -13.616269   \n...                                  ...           ...  ...          ...   \n2021-03-22 13:30:00-04:00       4.115061    572.870640  ...    -1.943993   \n2021-03-22 14:30:00-04:00       3.579881  16441.600479  ...   -13.392887   \n2021-03-22 15:30:00-04:00       2.864906 -15939.217126  ...   -12.755093   \n2021-03-22 16:00:00-04:00       2.363851 -18938.381266  ...   -19.845418   \n2021-03-22 17:00:00-04:00       2.363851 -21104.153499  ...    -9.384805   \n\n                           momentum_ao  momentum_kama  momentum_roc  \\\nDatetime                                                              \n2020-03-23 04:00:00-04:00     0.000000      55.600000      0.000000   \n2020-03-23 05:00:00-04:00     0.000000      55.643170      0.000000   \n2020-03-23 06:00:00-04:00     0.000000      55.899195      0.000000   \n2020-03-23 07:00:00-04:00     0.000000      56.195363      0.000000   \n2020-03-23 08:00:00-04:00     0.000000      56.834542      0.000000   \n...                                ...            ...           ...   \n2021-03-22 13:30:00-04:00     1.853018     122.683125      2.960247   \n2021-03-22 14:30:00-04:00     2.216141     122.806622      2.770373   \n2021-03-22 15:30:00-04:00     2.310367     122.908690      2.119032   \n2021-03-22 16:00:00-04:00     2.313878     122.938827      1.819686   \n2021-03-22 17:00:00-04:00     1.535058     122.958596      1.677270   \n\n                           momentum_ppo  momentum_ppo_signal  \\\nDatetime                                                       \n2020-03-23 04:00:00-04:00      0.000000             0.000000   \n2020-03-23 05:00:00-04:00      0.000000             0.000000   \n2020-03-23 06:00:00-04:00      0.000000             0.000000   \n2020-03-23 07:00:00-04:00      0.000000             0.000000   \n2020-03-23 08:00:00-04:00      0.000000             0.000000   \n...                                 ...                  ...   \n2021-03-22 13:30:00-04:00     17.006940            -0.788469   \n2021-03-22 14:30:00-04:00     18.299709             3.029166   \n2021-03-22 15:30:00-04:00     18.355886             6.094510   \n2021-03-22 16:00:00-04:00     17.232556             8.322119   \n2021-03-22 17:00:00-04:00      7.132520             8.084199   \n\n                           momentum_ppo_hist  others_dr  others_dlr  \\\nDatetime                                                              \n2020-03-23 04:00:00-04:00           0.000000 -47.866311    0.000000   \n2020-03-23 05:00:00-04:00           0.000000   0.179856    0.179695   \n2020-03-23 06:00:00-04:00           0.000000   0.982944    0.978145   \n2020-03-23 07:00:00-04:00           0.000000   0.617805    0.615905   \n2020-03-23 08:00:00-04:00           0.000000   2.151250    2.128437   \n...                                      ...        ...         ...   \n2021-03-22 13:30:00-04:00          17.795410   0.366312    0.365642   \n2021-03-22 14:30:00-04:00          15.270543  -0.159459   -0.159586   \n2021-03-22 15:30:00-04:00          12.261375   0.020270    0.020268   \n2021-03-22 16:00:00-04:00           8.910436  -0.218856   -0.219096   \n2021-03-22 17:00:00-04:00          -0.951679  -0.032494   -0.032499   \n\n                            others_cr  \nDatetime                               \n2020-03-23 04:00:00-04:00    0.000000  \n2020-03-23 05:00:00-04:00    0.179856  \n2020-03-23 06:00:00-04:00    1.164568  \n2020-03-23 07:00:00-04:00    1.789568  \n2020-03-23 08:00:00-04:00    3.979317  \n...                               ...  \n2021-03-22 13:30:00-04:00  122.197841  \n2021-03-22 14:30:00-04:00  121.843527  \n2021-03-22 15:30:00-04:00  121.888494  \n2021-03-22 16:00:00-04:00  121.402878  \n2021-03-22 17:00:00-04:00  121.330935  \n\n[4184 rows x 85 columns]",
      "text/html": "<div>\n<style scoped>\n    .dataframe tbody tr th:only-of-type {\n        vertical-align: middle;\n    }\n\n    .dataframe tbody tr th {\n        vertical-align: top;\n    }\n\n    .dataframe thead th {\n        text-align: right;\n    }\n</style>\n<table border=\"1\" class=\"dataframe\">\n  <thead>\n    <tr style=\"text-align: right;\">\n      <th></th>\n      <th>close</th>\n      <th>volume</th>\n      <th>volume_adi</th>\n      <th>volume_obv</th>\n      <th>volume_cmf</th>\n      <th>volume_fi</th>\n      <th>volume_mfi</th>\n      <th>volume_em</th>\n      <th>volume_sma_em</th>\n      <th>volume_vpt</th>\n      <th>...</th>\n      <th>momentum_wr</th>\n      <th>momentum_ao</th>\n      <th>momentum_kama</th>\n      <th>momentum_roc</th>\n      <th>momentum_ppo</th>\n      <th>momentum_ppo_signal</th>\n      <th>momentum_ppo_hist</th>\n      <th>others_dr</th>\n      <th>others_dlr</th>\n      <th>others_cr</th>\n    </tr>\n    <tr>\n      <th>Datetime</th>\n      <th></th>\n      <th></th>\n      <th></th>\n      <th></th>\n      <th></th>\n      <th></th>\n      <th></th>\n      <th></th>\n      <th></th>\n      <th></th>\n      <th></th>\n      <th></th>\n      <th></th>\n      <th></th>\n      <th></th>\n      <th></th>\n      <th></th>\n      <th></th>\n      <th></th>\n      <th></th>\n      <th></th>\n    </tr>\n  </thead>\n  <tbody>\n    <tr>\n      <th>2020-03-23 04:00:00-04:00</th>\n      <td>55.600000</td>\n      <td>0</td>\n      <td>-0.000000e+00</td>\n      <td>0</td>\n      <td>0.000000</td>\n      <td>0.000000e+00</td>\n      <td>50.000000</td>\n      <td>0.000000</td>\n      <td>0.000000</td>\n      <td>-2419.844555</td>\n      <td>...</td>\n      <td>-86.111111</td>\n      <td>0.000000</td>\n      <td>55.600000</td>\n      <td>0.000000</td>\n      <td>0.000000</td>\n      <td>0.000000</td>\n      <td>0.000000</td>\n      <td>-47.866311</td>\n      <td>0.000000</td>\n      <td>0.000000</td>\n    </tr>\n    <tr>\n      <th>2020-03-23 05:00:00-04:00</th>\n      <td>55.700000</td>\n      <td>0</td>\n      <td>-0.000000e+00</td>\n      <td>0</td>\n      <td>0.000000</td>\n      <td>0.000000e+00</td>\n      <td>50.000000</td>\n      <td>0.000000</td>\n      <td>0.000000</td>\n      <td>0.000000</td>\n      <td>...</td>\n      <td>-61.176471</td>\n      <td>0.000000</td>\n      <td>55.643170</td>\n      <td>0.000000</td>\n      <td>0.000000</td>\n      <td>0.000000</td>\n      <td>0.000000</td>\n      <td>0.179856</td>\n      <td>0.179695</td>\n      <td>0.179856</td>\n    </tr>\n    <tr>\n      <th>2020-03-23 06:00:00-04:00</th>\n      <td>56.247500</td>\n      <td>0</td>\n      <td>0.000000e+00</td>\n      <td>0</td>\n      <td>0.000000</td>\n      <td>0.000000e+00</td>\n      <td>50.000000</td>\n      <td>0.000000</td>\n      <td>0.000000</td>\n      <td>0.000000</td>\n      <td>...</td>\n      <td>-17.798595</td>\n      <td>0.000000</td>\n      <td>55.899195</td>\n      <td>0.000000</td>\n      <td>0.000000</td>\n      <td>0.000000</td>\n      <td>0.000000</td>\n      <td>0.982944</td>\n      <td>0.978145</td>\n      <td>1.164568</td>\n    </tr>\n    <tr>\n      <th>2020-03-23 07:00:00-04:00</th>\n      <td>56.595000</td>\n      <td>0</td>\n      <td>0.000000e+00</td>\n      <td>0</td>\n      <td>0.000000</td>\n      <td>0.000000e+00</td>\n      <td>50.000000</td>\n      <td>0.000000</td>\n      <td>0.000000</td>\n      <td>0.000000</td>\n      <td>...</td>\n      <td>-11.231884</td>\n      <td>0.000000</td>\n      <td>56.195363</td>\n      <td>0.000000</td>\n      <td>0.000000</td>\n      <td>0.000000</td>\n      <td>0.000000</td>\n      <td>0.617805</td>\n      <td>0.615905</td>\n      <td>1.789568</td>\n    </tr>\n    <tr>\n      <th>2020-03-23 08:00:00-04:00</th>\n      <td>57.812500</td>\n      <td>0</td>\n      <td>0.000000e+00</td>\n      <td>0</td>\n      <td>0.000000</td>\n      <td>0.000000e+00</td>\n      <td>50.000000</td>\n      <td>0.000000</td>\n      <td>0.000000</td>\n      <td>0.000000</td>\n      <td>...</td>\n      <td>-13.616269</td>\n      <td>0.000000</td>\n      <td>56.834542</td>\n      <td>0.000000</td>\n      <td>0.000000</td>\n      <td>0.000000</td>\n      <td>0.000000</td>\n      <td>2.151250</td>\n      <td>2.128437</td>\n      <td>3.979317</td>\n    </tr>\n    <tr>\n      <th>...</th>\n      <td>...</td>\n      <td>...</td>\n      <td>...</td>\n      <td>...</td>\n      <td>...</td>\n      <td>...</td>\n      <td>...</td>\n      <td>...</td>\n      <td>...</td>\n      <td>...</td>\n      <td>...</td>\n      <td>...</td>\n      <td>...</td>\n      <td>...</td>\n      <td>...</td>\n      <td>...</td>\n      <td>...</td>\n      <td>...</td>\n      <td>...</td>\n      <td>...</td>\n      <td>...</td>\n    </tr>\n    <tr>\n      <th>2021-03-22 13:30:00-04:00</th>\n      <td>123.542000</td>\n      <td>9430925</td>\n      <td>6.814015e+08</td>\n      <td>-295204416</td>\n      <td>0.073995</td>\n      <td>3.995690e+06</td>\n      <td>100.000000</td>\n      <td>-0.033912</td>\n      <td>4.115061</td>\n      <td>572.870640</td>\n      <td>...</td>\n      <td>-1.943993</td>\n      <td>1.853018</td>\n      <td>122.683125</td>\n      <td>2.960247</td>\n      <td>17.006940</td>\n      <td>-0.788469</td>\n      <td>17.795410</td>\n      <td>0.366312</td>\n      <td>0.365642</td>\n      <td>122.197841</td>\n    </tr>\n    <tr>\n      <th>2021-03-22 14:30:00-04:00</th>\n      <td>123.345001</td>\n      <td>11354023</td>\n      <td>6.727190e+08</td>\n      <td>-306558439</td>\n      <td>-0.022353</td>\n      <td>3.105345e+06</td>\n      <td>100.000000</td>\n      <td>0.903980</td>\n      <td>3.579881</td>\n      <td>16441.600479</td>\n      <td>...</td>\n      <td>-13.392887</td>\n      <td>2.216141</td>\n      <td>122.806622</td>\n      <td>2.770373</td>\n      <td>18.299709</td>\n      <td>3.029166</td>\n      <td>15.270543</td>\n      <td>-0.159459</td>\n      <td>-0.159586</td>\n      <td>121.843527</td>\n    </tr>\n    <tr>\n      <th>2021-03-22 15:30:00-04:00</th>\n      <td>123.370003</td>\n      <td>10684835</td>\n      <td>6.749298e+08</td>\n      <td>-295873604</td>\n      <td>0.039436</td>\n      <td>2.699886e+06</td>\n      <td>88.424942</td>\n      <td>-1.424946</td>\n      <td>2.864906</td>\n      <td>-15939.217126</td>\n      <td>...</td>\n      <td>-12.755093</td>\n      <td>2.310367</td>\n      <td>122.908690</td>\n      <td>2.119032</td>\n      <td>18.355886</td>\n      <td>6.094510</td>\n      <td>12.261375</td>\n      <td>0.020270</td>\n      <td>0.020268</td>\n      <td>121.888494</td>\n    </tr>\n    <tr>\n      <th>2021-03-22 16:00:00-04:00</th>\n      <td>123.100000</td>\n      <td>9642937</td>\n      <td>6.734985e+08</td>\n      <td>-305516541</td>\n      <td>0.043732</td>\n      <td>1.942243e+06</td>\n      <td>80.073449</td>\n      <td>-1.143532</td>\n      <td>2.363851</td>\n      <td>-18938.381266</td>\n      <td>...</td>\n      <td>-19.845418</td>\n      <td>2.313878</td>\n      <td>122.938827</td>\n      <td>1.819686</td>\n      <td>17.232556</td>\n      <td>8.322119</td>\n      <td>8.910436</td>\n      <td>-0.218856</td>\n      <td>-0.219096</td>\n      <td>121.402878</td>\n    </tr>\n    <tr>\n      <th>2021-03-22 17:00:00-04:00</th>\n      <td>123.060000</td>\n      <td>0</td>\n      <td>6.734985e+08</td>\n      <td>-305516541</td>\n      <td>0.061620</td>\n      <td>1.664779e+06</td>\n      <td>80.073449</td>\n      <td>-1.143532</td>\n      <td>2.363851</td>\n      <td>-21104.153499</td>\n      <td>...</td>\n      <td>-9.384805</td>\n      <td>1.535058</td>\n      <td>122.958596</td>\n      <td>1.677270</td>\n      <td>7.132520</td>\n      <td>8.084199</td>\n      <td>-0.951679</td>\n      <td>-0.032494</td>\n      <td>-0.032499</td>\n      <td>121.330935</td>\n    </tr>\n  </tbody>\n</table>\n<p>4184 rows × 85 columns</p>\n</div>"
     },
     "execution_count": 69,
     "metadata": {},
     "output_type": "execute_result"
    }
   ],
   "source": [
    "data"
   ],
   "metadata": {
    "collapsed": false,
    "pycharm": {
     "name": "#%%\n"
    }
   }
  },
  {
   "cell_type": "code",
   "execution_count": 70,
   "outputs": [
    {
     "data": {
      "text/plain": "Index(['close', 'volume', 'volume_adi', 'volume_obv', 'volume_cmf',\n       'volume_fi', 'volume_mfi', 'volume_em', 'volume_sma_em', 'volume_vpt',\n       'volume_nvi', 'volume_vwap', 'volatility_atr', 'volatility_bbm',\n       'volatility_bbh', 'volatility_bbl', 'volatility_bbw', 'volatility_bbp',\n       'volatility_bbhi', 'volatility_bbli', 'volatility_kcc',\n       'volatility_kch', 'volatility_kcl', 'volatility_kcw', 'volatility_kcp',\n       'volatility_kchi', 'volatility_kcli', 'volatility_dcl',\n       'volatility_dch', 'volatility_dcm', 'volatility_dcw', 'volatility_dcp',\n       'volatility_ui', 'trend_macd', 'trend_macd_signal', 'trend_macd_diff',\n       'trend_sma_fast', 'trend_sma_slow', 'trend_ema_fast', 'trend_ema_slow',\n       'trend_adx', 'trend_adx_pos', 'trend_adx_neg', 'trend_vortex_ind_pos',\n       'trend_vortex_ind_neg', 'trend_vortex_ind_diff', 'trend_trix',\n       'trend_mass_index', 'trend_cci', 'trend_dpo', 'trend_kst',\n       'trend_kst_sig', 'trend_kst_diff', 'trend_ichimoku_conv',\n       'trend_ichimoku_base', 'trend_ichimoku_a', 'trend_ichimoku_b',\n       'trend_visual_ichimoku_a', 'trend_visual_ichimoku_b', 'trend_aroon_up',\n       'trend_aroon_down', 'trend_aroon_ind', 'trend_psar_up',\n       'trend_psar_down', 'trend_psar_up_indicator',\n       'trend_psar_down_indicator', 'trend_stc', 'momentum_rsi',\n       'momentum_stoch_rsi', 'momentum_stoch_rsi_k', 'momentum_stoch_rsi_d',\n       'momentum_tsi', 'momentum_uo', 'momentum_stoch',\n       'momentum_stoch_signal', 'momentum_wr', 'momentum_ao', 'momentum_kama',\n       'momentum_roc', 'momentum_ppo', 'momentum_ppo_signal',\n       'momentum_ppo_hist', 'others_dr', 'others_dlr', 'others_cr'],\n      dtype='object')"
     },
     "execution_count": 70,
     "metadata": {},
     "output_type": "execute_result"
    }
   ],
   "source": [
    "data.columns"
   ],
   "metadata": {
    "collapsed": false,
    "pycharm": {
     "name": "#%%\n"
    }
   }
  },
  {
   "cell_type": "code",
   "execution_count": 71,
   "outputs": [],
   "source": [
    "def create_class_column(row):\n",
    "    if row['close_shift']-row['close'] > 1.5:\n",
    "        return 1\n",
    "    if row['close_shift'] -row['close']< -1.5:\n",
    "        return -1\n",
    "    else:\n",
    "        return 0"
   ],
   "metadata": {
    "collapsed": false,
    "pycharm": {
     "name": "#%%\n"
    }
   }
  },
  {
   "cell_type": "code",
   "execution_count": 72,
   "outputs": [
    {
     "data": {
      "text/plain": "                                close    volume    volume_adi  volume_obv  \\\nDatetime                                                                    \n2020-03-23 04:00:00-04:00   55.600000         0 -0.000000e+00           0   \n2020-03-23 05:00:00-04:00   55.700000         0 -0.000000e+00           0   \n2020-03-23 06:00:00-04:00   56.247500         0  0.000000e+00           0   \n2020-03-23 07:00:00-04:00   56.595000         0  0.000000e+00           0   \n2020-03-23 08:00:00-04:00   57.812500         0  0.000000e+00           0   \n...                               ...       ...           ...         ...   \n2021-03-22 13:30:00-04:00  123.542000   9430925  6.814015e+08  -295204416   \n2021-03-22 14:30:00-04:00  123.345001  11354023  6.727190e+08  -306558439   \n2021-03-22 15:30:00-04:00  123.370003  10684835  6.749298e+08  -295873604   \n2021-03-22 16:00:00-04:00  123.100000   9642937  6.734985e+08  -305516541   \n2021-03-22 17:00:00-04:00  123.060000         0  6.734985e+08  -305516541   \n\n                           volume_cmf     volume_fi  volume_mfi  volume_em  \\\nDatetime                                                                     \n2020-03-23 04:00:00-04:00    0.000000  0.000000e+00   50.000000   0.000000   \n2020-03-23 05:00:00-04:00    0.000000  0.000000e+00   50.000000   0.000000   \n2020-03-23 06:00:00-04:00    0.000000  0.000000e+00   50.000000   0.000000   \n2020-03-23 07:00:00-04:00    0.000000  0.000000e+00   50.000000   0.000000   \n2020-03-23 08:00:00-04:00    0.000000  0.000000e+00   50.000000   0.000000   \n...                               ...           ...         ...        ...   \n2021-03-22 13:30:00-04:00    0.073995  3.995690e+06  100.000000  -0.033912   \n2021-03-22 14:30:00-04:00   -0.022353  3.105345e+06  100.000000   0.903980   \n2021-03-22 15:30:00-04:00    0.039436  2.699886e+06   88.424942  -1.424946   \n2021-03-22 16:00:00-04:00    0.043732  1.942243e+06   80.073449  -1.143532   \n2021-03-22 17:00:00-04:00    0.061620  1.664779e+06   80.073449  -1.143532   \n\n                           volume_sma_em    volume_vpt  ...  momentum_ao  \\\nDatetime                                                ...                \n2020-03-23 04:00:00-04:00       0.000000  -2419.844555  ...     0.000000   \n2020-03-23 05:00:00-04:00       0.000000      0.000000  ...     0.000000   \n2020-03-23 06:00:00-04:00       0.000000      0.000000  ...     0.000000   \n2020-03-23 07:00:00-04:00       0.000000      0.000000  ...     0.000000   \n2020-03-23 08:00:00-04:00       0.000000      0.000000  ...     0.000000   \n...                                  ...           ...  ...          ...   \n2021-03-22 13:30:00-04:00       4.115061    572.870640  ...     1.853018   \n2021-03-22 14:30:00-04:00       3.579881  16441.600479  ...     2.216141   \n2021-03-22 15:30:00-04:00       2.864906 -15939.217126  ...     2.310367   \n2021-03-22 16:00:00-04:00       2.363851 -18938.381266  ...     2.313878   \n2021-03-22 17:00:00-04:00       2.363851 -21104.153499  ...     1.535058   \n\n                           momentum_kama  momentum_roc  momentum_ppo  \\\nDatetime                                                               \n2020-03-23 04:00:00-04:00      55.600000      0.000000      0.000000   \n2020-03-23 05:00:00-04:00      55.643170      0.000000      0.000000   \n2020-03-23 06:00:00-04:00      55.899195      0.000000      0.000000   \n2020-03-23 07:00:00-04:00      56.195363      0.000000      0.000000   \n2020-03-23 08:00:00-04:00      56.834542      0.000000      0.000000   \n...                                  ...           ...           ...   \n2021-03-22 13:30:00-04:00     122.683125      2.960247     17.006940   \n2021-03-22 14:30:00-04:00     122.806622      2.770373     18.299709   \n2021-03-22 15:30:00-04:00     122.908690      2.119032     18.355886   \n2021-03-22 16:00:00-04:00     122.938827      1.819686     17.232556   \n2021-03-22 17:00:00-04:00     122.958596      1.677270      7.132520   \n\n                           momentum_ppo_signal  momentum_ppo_hist  others_dr  \\\nDatetime                                                                       \n2020-03-23 04:00:00-04:00             0.000000           0.000000 -47.866311   \n2020-03-23 05:00:00-04:00             0.000000           0.000000   0.179856   \n2020-03-23 06:00:00-04:00             0.000000           0.000000   0.982944   \n2020-03-23 07:00:00-04:00             0.000000           0.000000   0.617805   \n2020-03-23 08:00:00-04:00             0.000000           0.000000   2.151250   \n...                                        ...                ...        ...   \n2021-03-22 13:30:00-04:00            -0.788469          17.795410   0.366312   \n2021-03-22 14:30:00-04:00             3.029166          15.270543  -0.159459   \n2021-03-22 15:30:00-04:00             6.094510          12.261375   0.020270   \n2021-03-22 16:00:00-04:00             8.322119           8.910436  -0.218856   \n2021-03-22 17:00:00-04:00             8.084199          -0.951679  -0.032494   \n\n                           others_dlr   others_cr  close_shift  \nDatetime                                                        \n2020-03-23 04:00:00-04:00    0.000000    0.000000      56.8750  \n2020-03-23 05:00:00-04:00    0.179695    0.179856      58.4475  \n2020-03-23 06:00:00-04:00    0.978145    1.164568      58.5500  \n2020-03-23 07:00:00-04:00    0.615905    1.789568      59.2225  \n2020-03-23 08:00:00-04:00    2.128437    3.979317      58.3075  \n...                               ...         ...          ...  \n2021-03-22 13:30:00-04:00    0.365642  122.197841          NaN  \n2021-03-22 14:30:00-04:00   -0.159586  121.843527          NaN  \n2021-03-22 15:30:00-04:00    0.020268  121.888494          NaN  \n2021-03-22 16:00:00-04:00   -0.219096  121.402878          NaN  \n2021-03-22 17:00:00-04:00   -0.032499  121.330935          NaN  \n\n[4184 rows x 86 columns]",
      "text/html": "<div>\n<style scoped>\n    .dataframe tbody tr th:only-of-type {\n        vertical-align: middle;\n    }\n\n    .dataframe tbody tr th {\n        vertical-align: top;\n    }\n\n    .dataframe thead th {\n        text-align: right;\n    }\n</style>\n<table border=\"1\" class=\"dataframe\">\n  <thead>\n    <tr style=\"text-align: right;\">\n      <th></th>\n      <th>close</th>\n      <th>volume</th>\n      <th>volume_adi</th>\n      <th>volume_obv</th>\n      <th>volume_cmf</th>\n      <th>volume_fi</th>\n      <th>volume_mfi</th>\n      <th>volume_em</th>\n      <th>volume_sma_em</th>\n      <th>volume_vpt</th>\n      <th>...</th>\n      <th>momentum_ao</th>\n      <th>momentum_kama</th>\n      <th>momentum_roc</th>\n      <th>momentum_ppo</th>\n      <th>momentum_ppo_signal</th>\n      <th>momentum_ppo_hist</th>\n      <th>others_dr</th>\n      <th>others_dlr</th>\n      <th>others_cr</th>\n      <th>close_shift</th>\n    </tr>\n    <tr>\n      <th>Datetime</th>\n      <th></th>\n      <th></th>\n      <th></th>\n      <th></th>\n      <th></th>\n      <th></th>\n      <th></th>\n      <th></th>\n      <th></th>\n      <th></th>\n      <th></th>\n      <th></th>\n      <th></th>\n      <th></th>\n      <th></th>\n      <th></th>\n      <th></th>\n      <th></th>\n      <th></th>\n      <th></th>\n      <th></th>\n    </tr>\n  </thead>\n  <tbody>\n    <tr>\n      <th>2020-03-23 04:00:00-04:00</th>\n      <td>55.600000</td>\n      <td>0</td>\n      <td>-0.000000e+00</td>\n      <td>0</td>\n      <td>0.000000</td>\n      <td>0.000000e+00</td>\n      <td>50.000000</td>\n      <td>0.000000</td>\n      <td>0.000000</td>\n      <td>-2419.844555</td>\n      <td>...</td>\n      <td>0.000000</td>\n      <td>55.600000</td>\n      <td>0.000000</td>\n      <td>0.000000</td>\n      <td>0.000000</td>\n      <td>0.000000</td>\n      <td>-47.866311</td>\n      <td>0.000000</td>\n      <td>0.000000</td>\n      <td>56.8750</td>\n    </tr>\n    <tr>\n      <th>2020-03-23 05:00:00-04:00</th>\n      <td>55.700000</td>\n      <td>0</td>\n      <td>-0.000000e+00</td>\n      <td>0</td>\n      <td>0.000000</td>\n      <td>0.000000e+00</td>\n      <td>50.000000</td>\n      <td>0.000000</td>\n      <td>0.000000</td>\n      <td>0.000000</td>\n      <td>...</td>\n      <td>0.000000</td>\n      <td>55.643170</td>\n      <td>0.000000</td>\n      <td>0.000000</td>\n      <td>0.000000</td>\n      <td>0.000000</td>\n      <td>0.179856</td>\n      <td>0.179695</td>\n      <td>0.179856</td>\n      <td>58.4475</td>\n    </tr>\n    <tr>\n      <th>2020-03-23 06:00:00-04:00</th>\n      <td>56.247500</td>\n      <td>0</td>\n      <td>0.000000e+00</td>\n      <td>0</td>\n      <td>0.000000</td>\n      <td>0.000000e+00</td>\n      <td>50.000000</td>\n      <td>0.000000</td>\n      <td>0.000000</td>\n      <td>0.000000</td>\n      <td>...</td>\n      <td>0.000000</td>\n      <td>55.899195</td>\n      <td>0.000000</td>\n      <td>0.000000</td>\n      <td>0.000000</td>\n      <td>0.000000</td>\n      <td>0.982944</td>\n      <td>0.978145</td>\n      <td>1.164568</td>\n      <td>58.5500</td>\n    </tr>\n    <tr>\n      <th>2020-03-23 07:00:00-04:00</th>\n      <td>56.595000</td>\n      <td>0</td>\n      <td>0.000000e+00</td>\n      <td>0</td>\n      <td>0.000000</td>\n      <td>0.000000e+00</td>\n      <td>50.000000</td>\n      <td>0.000000</td>\n      <td>0.000000</td>\n      <td>0.000000</td>\n      <td>...</td>\n      <td>0.000000</td>\n      <td>56.195363</td>\n      <td>0.000000</td>\n      <td>0.000000</td>\n      <td>0.000000</td>\n      <td>0.000000</td>\n      <td>0.617805</td>\n      <td>0.615905</td>\n      <td>1.789568</td>\n      <td>59.2225</td>\n    </tr>\n    <tr>\n      <th>2020-03-23 08:00:00-04:00</th>\n      <td>57.812500</td>\n      <td>0</td>\n      <td>0.000000e+00</td>\n      <td>0</td>\n      <td>0.000000</td>\n      <td>0.000000e+00</td>\n      <td>50.000000</td>\n      <td>0.000000</td>\n      <td>0.000000</td>\n      <td>0.000000</td>\n      <td>...</td>\n      <td>0.000000</td>\n      <td>56.834542</td>\n      <td>0.000000</td>\n      <td>0.000000</td>\n      <td>0.000000</td>\n      <td>0.000000</td>\n      <td>2.151250</td>\n      <td>2.128437</td>\n      <td>3.979317</td>\n      <td>58.3075</td>\n    </tr>\n    <tr>\n      <th>...</th>\n      <td>...</td>\n      <td>...</td>\n      <td>...</td>\n      <td>...</td>\n      <td>...</td>\n      <td>...</td>\n      <td>...</td>\n      <td>...</td>\n      <td>...</td>\n      <td>...</td>\n      <td>...</td>\n      <td>...</td>\n      <td>...</td>\n      <td>...</td>\n      <td>...</td>\n      <td>...</td>\n      <td>...</td>\n      <td>...</td>\n      <td>...</td>\n      <td>...</td>\n      <td>...</td>\n    </tr>\n    <tr>\n      <th>2021-03-22 13:30:00-04:00</th>\n      <td>123.542000</td>\n      <td>9430925</td>\n      <td>6.814015e+08</td>\n      <td>-295204416</td>\n      <td>0.073995</td>\n      <td>3.995690e+06</td>\n      <td>100.000000</td>\n      <td>-0.033912</td>\n      <td>4.115061</td>\n      <td>572.870640</td>\n      <td>...</td>\n      <td>1.853018</td>\n      <td>122.683125</td>\n      <td>2.960247</td>\n      <td>17.006940</td>\n      <td>-0.788469</td>\n      <td>17.795410</td>\n      <td>0.366312</td>\n      <td>0.365642</td>\n      <td>122.197841</td>\n      <td>NaN</td>\n    </tr>\n    <tr>\n      <th>2021-03-22 14:30:00-04:00</th>\n      <td>123.345001</td>\n      <td>11354023</td>\n      <td>6.727190e+08</td>\n      <td>-306558439</td>\n      <td>-0.022353</td>\n      <td>3.105345e+06</td>\n      <td>100.000000</td>\n      <td>0.903980</td>\n      <td>3.579881</td>\n      <td>16441.600479</td>\n      <td>...</td>\n      <td>2.216141</td>\n      <td>122.806622</td>\n      <td>2.770373</td>\n      <td>18.299709</td>\n      <td>3.029166</td>\n      <td>15.270543</td>\n      <td>-0.159459</td>\n      <td>-0.159586</td>\n      <td>121.843527</td>\n      <td>NaN</td>\n    </tr>\n    <tr>\n      <th>2021-03-22 15:30:00-04:00</th>\n      <td>123.370003</td>\n      <td>10684835</td>\n      <td>6.749298e+08</td>\n      <td>-295873604</td>\n      <td>0.039436</td>\n      <td>2.699886e+06</td>\n      <td>88.424942</td>\n      <td>-1.424946</td>\n      <td>2.864906</td>\n      <td>-15939.217126</td>\n      <td>...</td>\n      <td>2.310367</td>\n      <td>122.908690</td>\n      <td>2.119032</td>\n      <td>18.355886</td>\n      <td>6.094510</td>\n      <td>12.261375</td>\n      <td>0.020270</td>\n      <td>0.020268</td>\n      <td>121.888494</td>\n      <td>NaN</td>\n    </tr>\n    <tr>\n      <th>2021-03-22 16:00:00-04:00</th>\n      <td>123.100000</td>\n      <td>9642937</td>\n      <td>6.734985e+08</td>\n      <td>-305516541</td>\n      <td>0.043732</td>\n      <td>1.942243e+06</td>\n      <td>80.073449</td>\n      <td>-1.143532</td>\n      <td>2.363851</td>\n      <td>-18938.381266</td>\n      <td>...</td>\n      <td>2.313878</td>\n      <td>122.938827</td>\n      <td>1.819686</td>\n      <td>17.232556</td>\n      <td>8.322119</td>\n      <td>8.910436</td>\n      <td>-0.218856</td>\n      <td>-0.219096</td>\n      <td>121.402878</td>\n      <td>NaN</td>\n    </tr>\n    <tr>\n      <th>2021-03-22 17:00:00-04:00</th>\n      <td>123.060000</td>\n      <td>0</td>\n      <td>6.734985e+08</td>\n      <td>-305516541</td>\n      <td>0.061620</td>\n      <td>1.664779e+06</td>\n      <td>80.073449</td>\n      <td>-1.143532</td>\n      <td>2.363851</td>\n      <td>-21104.153499</td>\n      <td>...</td>\n      <td>1.535058</td>\n      <td>122.958596</td>\n      <td>1.677270</td>\n      <td>7.132520</td>\n      <td>8.084199</td>\n      <td>-0.951679</td>\n      <td>-0.032494</td>\n      <td>-0.032499</td>\n      <td>121.330935</td>\n      <td>NaN</td>\n    </tr>\n  </tbody>\n</table>\n<p>4184 rows × 86 columns</p>\n</div>"
     },
     "execution_count": 72,
     "metadata": {},
     "output_type": "execute_result"
    }
   ],
   "source": [
    "data['close_shift'] = data.shift(-WINDOW)['close']\n",
    "data"
   ],
   "metadata": {
    "collapsed": false,
    "pycharm": {
     "name": "#%%\n"
    }
   }
  },
  {
   "cell_type": "code",
   "execution_count": 73,
   "outputs": [
    {
     "data": {
      "text/plain": "                                close    volume    volume_adi  volume_obv  \\\nDatetime                                                                    \n2020-03-23 04:00:00-04:00   55.600000         0 -0.000000e+00           0   \n2020-03-23 05:00:00-04:00   55.700000         0 -0.000000e+00           0   \n2020-03-23 06:00:00-04:00   56.247500         0  0.000000e+00           0   \n2020-03-23 07:00:00-04:00   56.595000         0  0.000000e+00           0   \n2020-03-23 08:00:00-04:00   57.812500         0  0.000000e+00           0   \n...                               ...       ...           ...         ...   \n2021-03-22 13:30:00-04:00  123.542000   9430925  6.814015e+08  -295204416   \n2021-03-22 14:30:00-04:00  123.345001  11354023  6.727190e+08  -306558439   \n2021-03-22 15:30:00-04:00  123.370003  10684835  6.749298e+08  -295873604   \n2021-03-22 16:00:00-04:00  123.100000   9642937  6.734985e+08  -305516541   \n2021-03-22 17:00:00-04:00  123.060000         0  6.734985e+08  -305516541   \n\n                           volume_cmf     volume_fi  volume_mfi  volume_em  \\\nDatetime                                                                     \n2020-03-23 04:00:00-04:00    0.000000  0.000000e+00   50.000000   0.000000   \n2020-03-23 05:00:00-04:00    0.000000  0.000000e+00   50.000000   0.000000   \n2020-03-23 06:00:00-04:00    0.000000  0.000000e+00   50.000000   0.000000   \n2020-03-23 07:00:00-04:00    0.000000  0.000000e+00   50.000000   0.000000   \n2020-03-23 08:00:00-04:00    0.000000  0.000000e+00   50.000000   0.000000   \n...                               ...           ...         ...        ...   \n2021-03-22 13:30:00-04:00    0.073995  3.995690e+06  100.000000  -0.033912   \n2021-03-22 14:30:00-04:00   -0.022353  3.105345e+06  100.000000   0.903980   \n2021-03-22 15:30:00-04:00    0.039436  2.699886e+06   88.424942  -1.424946   \n2021-03-22 16:00:00-04:00    0.043732  1.942243e+06   80.073449  -1.143532   \n2021-03-22 17:00:00-04:00    0.061620  1.664779e+06   80.073449  -1.143532   \n\n                           volume_sma_em    volume_vpt  ...  momentum_kama  \\\nDatetime                                                ...                  \n2020-03-23 04:00:00-04:00       0.000000  -2419.844555  ...      55.600000   \n2020-03-23 05:00:00-04:00       0.000000      0.000000  ...      55.643170   \n2020-03-23 06:00:00-04:00       0.000000      0.000000  ...      55.899195   \n2020-03-23 07:00:00-04:00       0.000000      0.000000  ...      56.195363   \n2020-03-23 08:00:00-04:00       0.000000      0.000000  ...      56.834542   \n...                                  ...           ...  ...            ...   \n2021-03-22 13:30:00-04:00       4.115061    572.870640  ...     122.683125   \n2021-03-22 14:30:00-04:00       3.579881  16441.600479  ...     122.806622   \n2021-03-22 15:30:00-04:00       2.864906 -15939.217126  ...     122.908690   \n2021-03-22 16:00:00-04:00       2.363851 -18938.381266  ...     122.938827   \n2021-03-22 17:00:00-04:00       2.363851 -21104.153499  ...     122.958596   \n\n                           momentum_roc  momentum_ppo  momentum_ppo_signal  \\\nDatetime                                                                     \n2020-03-23 04:00:00-04:00      0.000000      0.000000             0.000000   \n2020-03-23 05:00:00-04:00      0.000000      0.000000             0.000000   \n2020-03-23 06:00:00-04:00      0.000000      0.000000             0.000000   \n2020-03-23 07:00:00-04:00      0.000000      0.000000             0.000000   \n2020-03-23 08:00:00-04:00      0.000000      0.000000             0.000000   \n...                                 ...           ...                  ...   \n2021-03-22 13:30:00-04:00      2.960247     17.006940            -0.788469   \n2021-03-22 14:30:00-04:00      2.770373     18.299709             3.029166   \n2021-03-22 15:30:00-04:00      2.119032     18.355886             6.094510   \n2021-03-22 16:00:00-04:00      1.819686     17.232556             8.322119   \n2021-03-22 17:00:00-04:00      1.677270      7.132520             8.084199   \n\n                           momentum_ppo_hist  others_dr  others_dlr  \\\nDatetime                                                              \n2020-03-23 04:00:00-04:00           0.000000 -47.866311    0.000000   \n2020-03-23 05:00:00-04:00           0.000000   0.179856    0.179695   \n2020-03-23 06:00:00-04:00           0.000000   0.982944    0.978145   \n2020-03-23 07:00:00-04:00           0.000000   0.617805    0.615905   \n2020-03-23 08:00:00-04:00           0.000000   2.151250    2.128437   \n...                                      ...        ...         ...   \n2021-03-22 13:30:00-04:00          17.795410   0.366312    0.365642   \n2021-03-22 14:30:00-04:00          15.270543  -0.159459   -0.159586   \n2021-03-22 15:30:00-04:00          12.261375   0.020270    0.020268   \n2021-03-22 16:00:00-04:00           8.910436  -0.218856   -0.219096   \n2021-03-22 17:00:00-04:00          -0.951679  -0.032494   -0.032499   \n\n                            others_cr  close_shift  class_column  \nDatetime                                                          \n2020-03-23 04:00:00-04:00    0.000000      56.8750             0  \n2020-03-23 05:00:00-04:00    0.179856      58.4475             1  \n2020-03-23 06:00:00-04:00    1.164568      58.5500             1  \n2020-03-23 07:00:00-04:00    1.789568      59.2225             1  \n2020-03-23 08:00:00-04:00    3.979317      58.3075             0  \n...                               ...          ...           ...  \n2021-03-22 13:30:00-04:00  122.197841          NaN             0  \n2021-03-22 14:30:00-04:00  121.843527          NaN             0  \n2021-03-22 15:30:00-04:00  121.888494          NaN             0  \n2021-03-22 16:00:00-04:00  121.402878          NaN             0  \n2021-03-22 17:00:00-04:00  121.330935          NaN             0  \n\n[4184 rows x 87 columns]",
      "text/html": "<div>\n<style scoped>\n    .dataframe tbody tr th:only-of-type {\n        vertical-align: middle;\n    }\n\n    .dataframe tbody tr th {\n        vertical-align: top;\n    }\n\n    .dataframe thead th {\n        text-align: right;\n    }\n</style>\n<table border=\"1\" class=\"dataframe\">\n  <thead>\n    <tr style=\"text-align: right;\">\n      <th></th>\n      <th>close</th>\n      <th>volume</th>\n      <th>volume_adi</th>\n      <th>volume_obv</th>\n      <th>volume_cmf</th>\n      <th>volume_fi</th>\n      <th>volume_mfi</th>\n      <th>volume_em</th>\n      <th>volume_sma_em</th>\n      <th>volume_vpt</th>\n      <th>...</th>\n      <th>momentum_kama</th>\n      <th>momentum_roc</th>\n      <th>momentum_ppo</th>\n      <th>momentum_ppo_signal</th>\n      <th>momentum_ppo_hist</th>\n      <th>others_dr</th>\n      <th>others_dlr</th>\n      <th>others_cr</th>\n      <th>close_shift</th>\n      <th>class_column</th>\n    </tr>\n    <tr>\n      <th>Datetime</th>\n      <th></th>\n      <th></th>\n      <th></th>\n      <th></th>\n      <th></th>\n      <th></th>\n      <th></th>\n      <th></th>\n      <th></th>\n      <th></th>\n      <th></th>\n      <th></th>\n      <th></th>\n      <th></th>\n      <th></th>\n      <th></th>\n      <th></th>\n      <th></th>\n      <th></th>\n      <th></th>\n      <th></th>\n    </tr>\n  </thead>\n  <tbody>\n    <tr>\n      <th>2020-03-23 04:00:00-04:00</th>\n      <td>55.600000</td>\n      <td>0</td>\n      <td>-0.000000e+00</td>\n      <td>0</td>\n      <td>0.000000</td>\n      <td>0.000000e+00</td>\n      <td>50.000000</td>\n      <td>0.000000</td>\n      <td>0.000000</td>\n      <td>-2419.844555</td>\n      <td>...</td>\n      <td>55.600000</td>\n      <td>0.000000</td>\n      <td>0.000000</td>\n      <td>0.000000</td>\n      <td>0.000000</td>\n      <td>-47.866311</td>\n      <td>0.000000</td>\n      <td>0.000000</td>\n      <td>56.8750</td>\n      <td>0</td>\n    </tr>\n    <tr>\n      <th>2020-03-23 05:00:00-04:00</th>\n      <td>55.700000</td>\n      <td>0</td>\n      <td>-0.000000e+00</td>\n      <td>0</td>\n      <td>0.000000</td>\n      <td>0.000000e+00</td>\n      <td>50.000000</td>\n      <td>0.000000</td>\n      <td>0.000000</td>\n      <td>0.000000</td>\n      <td>...</td>\n      <td>55.643170</td>\n      <td>0.000000</td>\n      <td>0.000000</td>\n      <td>0.000000</td>\n      <td>0.000000</td>\n      <td>0.179856</td>\n      <td>0.179695</td>\n      <td>0.179856</td>\n      <td>58.4475</td>\n      <td>1</td>\n    </tr>\n    <tr>\n      <th>2020-03-23 06:00:00-04:00</th>\n      <td>56.247500</td>\n      <td>0</td>\n      <td>0.000000e+00</td>\n      <td>0</td>\n      <td>0.000000</td>\n      <td>0.000000e+00</td>\n      <td>50.000000</td>\n      <td>0.000000</td>\n      <td>0.000000</td>\n      <td>0.000000</td>\n      <td>...</td>\n      <td>55.899195</td>\n      <td>0.000000</td>\n      <td>0.000000</td>\n      <td>0.000000</td>\n      <td>0.000000</td>\n      <td>0.982944</td>\n      <td>0.978145</td>\n      <td>1.164568</td>\n      <td>58.5500</td>\n      <td>1</td>\n    </tr>\n    <tr>\n      <th>2020-03-23 07:00:00-04:00</th>\n      <td>56.595000</td>\n      <td>0</td>\n      <td>0.000000e+00</td>\n      <td>0</td>\n      <td>0.000000</td>\n      <td>0.000000e+00</td>\n      <td>50.000000</td>\n      <td>0.000000</td>\n      <td>0.000000</td>\n      <td>0.000000</td>\n      <td>...</td>\n      <td>56.195363</td>\n      <td>0.000000</td>\n      <td>0.000000</td>\n      <td>0.000000</td>\n      <td>0.000000</td>\n      <td>0.617805</td>\n      <td>0.615905</td>\n      <td>1.789568</td>\n      <td>59.2225</td>\n      <td>1</td>\n    </tr>\n    <tr>\n      <th>2020-03-23 08:00:00-04:00</th>\n      <td>57.812500</td>\n      <td>0</td>\n      <td>0.000000e+00</td>\n      <td>0</td>\n      <td>0.000000</td>\n      <td>0.000000e+00</td>\n      <td>50.000000</td>\n      <td>0.000000</td>\n      <td>0.000000</td>\n      <td>0.000000</td>\n      <td>...</td>\n      <td>56.834542</td>\n      <td>0.000000</td>\n      <td>0.000000</td>\n      <td>0.000000</td>\n      <td>0.000000</td>\n      <td>2.151250</td>\n      <td>2.128437</td>\n      <td>3.979317</td>\n      <td>58.3075</td>\n      <td>0</td>\n    </tr>\n    <tr>\n      <th>...</th>\n      <td>...</td>\n      <td>...</td>\n      <td>...</td>\n      <td>...</td>\n      <td>...</td>\n      <td>...</td>\n      <td>...</td>\n      <td>...</td>\n      <td>...</td>\n      <td>...</td>\n      <td>...</td>\n      <td>...</td>\n      <td>...</td>\n      <td>...</td>\n      <td>...</td>\n      <td>...</td>\n      <td>...</td>\n      <td>...</td>\n      <td>...</td>\n      <td>...</td>\n      <td>...</td>\n    </tr>\n    <tr>\n      <th>2021-03-22 13:30:00-04:00</th>\n      <td>123.542000</td>\n      <td>9430925</td>\n      <td>6.814015e+08</td>\n      <td>-295204416</td>\n      <td>0.073995</td>\n      <td>3.995690e+06</td>\n      <td>100.000000</td>\n      <td>-0.033912</td>\n      <td>4.115061</td>\n      <td>572.870640</td>\n      <td>...</td>\n      <td>122.683125</td>\n      <td>2.960247</td>\n      <td>17.006940</td>\n      <td>-0.788469</td>\n      <td>17.795410</td>\n      <td>0.366312</td>\n      <td>0.365642</td>\n      <td>122.197841</td>\n      <td>NaN</td>\n      <td>0</td>\n    </tr>\n    <tr>\n      <th>2021-03-22 14:30:00-04:00</th>\n      <td>123.345001</td>\n      <td>11354023</td>\n      <td>6.727190e+08</td>\n      <td>-306558439</td>\n      <td>-0.022353</td>\n      <td>3.105345e+06</td>\n      <td>100.000000</td>\n      <td>0.903980</td>\n      <td>3.579881</td>\n      <td>16441.600479</td>\n      <td>...</td>\n      <td>122.806622</td>\n      <td>2.770373</td>\n      <td>18.299709</td>\n      <td>3.029166</td>\n      <td>15.270543</td>\n      <td>-0.159459</td>\n      <td>-0.159586</td>\n      <td>121.843527</td>\n      <td>NaN</td>\n      <td>0</td>\n    </tr>\n    <tr>\n      <th>2021-03-22 15:30:00-04:00</th>\n      <td>123.370003</td>\n      <td>10684835</td>\n      <td>6.749298e+08</td>\n      <td>-295873604</td>\n      <td>0.039436</td>\n      <td>2.699886e+06</td>\n      <td>88.424942</td>\n      <td>-1.424946</td>\n      <td>2.864906</td>\n      <td>-15939.217126</td>\n      <td>...</td>\n      <td>122.908690</td>\n      <td>2.119032</td>\n      <td>18.355886</td>\n      <td>6.094510</td>\n      <td>12.261375</td>\n      <td>0.020270</td>\n      <td>0.020268</td>\n      <td>121.888494</td>\n      <td>NaN</td>\n      <td>0</td>\n    </tr>\n    <tr>\n      <th>2021-03-22 16:00:00-04:00</th>\n      <td>123.100000</td>\n      <td>9642937</td>\n      <td>6.734985e+08</td>\n      <td>-305516541</td>\n      <td>0.043732</td>\n      <td>1.942243e+06</td>\n      <td>80.073449</td>\n      <td>-1.143532</td>\n      <td>2.363851</td>\n      <td>-18938.381266</td>\n      <td>...</td>\n      <td>122.938827</td>\n      <td>1.819686</td>\n      <td>17.232556</td>\n      <td>8.322119</td>\n      <td>8.910436</td>\n      <td>-0.218856</td>\n      <td>-0.219096</td>\n      <td>121.402878</td>\n      <td>NaN</td>\n      <td>0</td>\n    </tr>\n    <tr>\n      <th>2021-03-22 17:00:00-04:00</th>\n      <td>123.060000</td>\n      <td>0</td>\n      <td>6.734985e+08</td>\n      <td>-305516541</td>\n      <td>0.061620</td>\n      <td>1.664779e+06</td>\n      <td>80.073449</td>\n      <td>-1.143532</td>\n      <td>2.363851</td>\n      <td>-21104.153499</td>\n      <td>...</td>\n      <td>122.958596</td>\n      <td>1.677270</td>\n      <td>7.132520</td>\n      <td>8.084199</td>\n      <td>-0.951679</td>\n      <td>-0.032494</td>\n      <td>-0.032499</td>\n      <td>121.330935</td>\n      <td>NaN</td>\n      <td>0</td>\n    </tr>\n  </tbody>\n</table>\n<p>4184 rows × 87 columns</p>\n</div>"
     },
     "execution_count": 73,
     "metadata": {},
     "output_type": "execute_result"
    }
   ],
   "source": [
    "data['class_column'] = data.apply(create_class_column, axis=1)\n",
    "data"
   ],
   "metadata": {
    "collapsed": false,
    "pycharm": {
     "name": "#%%\n"
    }
   }
  },
  {
   "cell_type": "code",
   "execution_count": 74,
   "outputs": [
    {
     "data": {
      "text/plain": " 0    2289\n 1    1106\n-1     789\nName: class_column, dtype: int64"
     },
     "execution_count": 74,
     "metadata": {},
     "output_type": "execute_result"
    }
   ],
   "source": [
    "# Class divide\n",
    "data['class_column'].value_counts()"
   ],
   "metadata": {
    "collapsed": false,
    "pycharm": {
     "name": "#%%\n"
    }
   }
  },
  {
   "cell_type": "code",
   "execution_count": 75,
   "outputs": [],
   "source": [
    "del (data['close'])\n",
    "del (data['close_shift'])\n",
    "data = data.dropna()"
   ],
   "metadata": {
    "collapsed": false,
    "pycharm": {
     "name": "#%%\n"
    }
   }
  },
  {
   "cell_type": "code",
   "execution_count": 76,
   "outputs": [
    {
     "data": {
      "text/plain": " 0    2289\n 1    1106\n-1     789\nName: class_column, dtype: int64"
     },
     "execution_count": 76,
     "metadata": {},
     "output_type": "execute_result"
    }
   ],
   "source": [
    "data['class_column'].value_counts()\n"
   ],
   "metadata": {
    "collapsed": false,
    "pycharm": {
     "name": "#%%\n"
    }
   }
  },
  {
   "cell_type": "code",
   "execution_count": 77,
   "outputs": [],
   "source": [
    "def train_model(model,train_x, train_y):\n",
    "    model.fit(train_x, train_y)\n",
    "\n",
    "def init_classifiers():\n",
    "    classifiers['DecisionTreeClassifier 1'] = DecisionTreeClassifier(random_state=0,criterion='gini',splitter='random')\n",
    "    classifiers['DecisionTreeClassifier 2'] = DecisionTreeClassifier(random_state=0,criterion='entropy',splitter='best')\n",
    "    classifiers['RandomForestClassifier 1'] = RandomForestClassifier(n_estimators=100, max_depth=2, random_state=0,criterion='gini')\n",
    "    classifiers['RandomForestClassifier 2'] = RandomForestClassifier(n_estimators=1000, max_depth=2, random_state=0,criterion='gini')\n",
    "    classifiers['GradientBoostingClassifier 1'] = GradientBoostingClassifier(n_estimators=100,random_state=0,criterion='friedman_mse',max_depth=3, learning_rate=0.1)\n",
    "    classifiers['GradientBoostingClassifier 2'] = GradientBoostingClassifier(n_estimators=100,random_state=0,criterion='friedman_mse',max_depth=3, learning_rate=0.3)\n",
    "    classifiers['GradientBoostingClassifier 3'] = GradientBoostingClassifier(n_estimators=100,random_state=0,criterion='friedman_mse',max_depth=3, learning_rate=0.5)"
   ],
   "metadata": {
    "collapsed": false,
    "pycharm": {
     "name": "#%%\n"
    }
   }
  },
  {
   "cell_type": "code",
   "execution_count": 78,
   "outputs": [
    {
     "name": "stdout",
     "output_type": "stream",
     "text": [
      "step:  0 200\n",
      " 0    90\n",
      " 1    76\n",
      "-1    34\n",
      "Name: class_column, dtype: int64\n",
      "Calculate:  DecisionTreeClassifier 1\n",
      "Calculate:  DecisionTreeClassifier 2\n",
      "Calculate:  RandomForestClassifier 1\n",
      "Calculate:  RandomForestClassifier 2\n",
      "Calculate:  GradientBoostingClassifier 1\n",
      "Calculate:  GradientBoostingClassifier 2\n",
      "Calculate:  GradientBoostingClassifier 3\n",
      "step:  100 300\n",
      " 0    120\n",
      " 1     55\n",
      "-1     25\n",
      "Name: class_column, dtype: int64\n",
      "Calculate:  DecisionTreeClassifier 1\n",
      "Calculate:  DecisionTreeClassifier 2\n",
      "Calculate:  RandomForestClassifier 1\n",
      "Calculate:  RandomForestClassifier 2\n",
      "Calculate:  GradientBoostingClassifier 1\n",
      "Calculate:  GradientBoostingClassifier 2\n",
      "Calculate:  GradientBoostingClassifier 3\n",
      "step:  200 400\n",
      " 0    133\n",
      " 1     44\n",
      "-1     23\n",
      "Name: class_column, dtype: int64\n",
      "Calculate:  DecisionTreeClassifier 1\n",
      "Calculate:  DecisionTreeClassifier 2\n",
      "Calculate:  RandomForestClassifier 1\n",
      "Calculate:  RandomForestClassifier 2\n",
      "Calculate:  GradientBoostingClassifier 1\n",
      "Calculate:  GradientBoostingClassifier 2\n",
      "Calculate:  GradientBoostingClassifier 3\n",
      "step:  300 500\n",
      " 0    139\n",
      " 1     37\n",
      "-1     24\n",
      "Name: class_column, dtype: int64\n",
      "Calculate:  DecisionTreeClassifier 1\n",
      "Calculate:  DecisionTreeClassifier 2\n",
      "Calculate:  RandomForestClassifier 1\n",
      "Calculate:  RandomForestClassifier 2\n",
      "Calculate:  GradientBoostingClassifier 1\n",
      "Calculate:  GradientBoostingClassifier 2\n",
      "Calculate:  GradientBoostingClassifier 3\n",
      "step:  400 600\n",
      " 0    167\n",
      " 1     29\n",
      "-1      4\n",
      "Name: class_column, dtype: int64\n",
      "Calculate:  DecisionTreeClassifier 1\n",
      "Calculate:  DecisionTreeClassifier 2\n",
      "Calculate:  RandomForestClassifier 1\n",
      "Calculate:  RandomForestClassifier 2\n",
      "Calculate:  GradientBoostingClassifier 1\n",
      "Calculate:  GradientBoostingClassifier 2\n",
      "Calculate:  GradientBoostingClassifier 3\n",
      "step:  500 700\n",
      " 0    165\n",
      " 1     25\n",
      "-1     10\n",
      "Name: class_column, dtype: int64\n",
      "Calculate:  DecisionTreeClassifier 1\n",
      "Calculate:  DecisionTreeClassifier 2\n",
      "Calculate:  RandomForestClassifier 1\n",
      "Calculate:  RandomForestClassifier 2\n",
      "Calculate:  GradientBoostingClassifier 1\n",
      "Calculate:  GradientBoostingClassifier 2\n",
      "Calculate:  GradientBoostingClassifier 3\n",
      "step:  600 800\n",
      " 0    162\n",
      " 1     26\n",
      "-1     12\n",
      "Name: class_column, dtype: int64\n",
      "Calculate:  DecisionTreeClassifier 1\n",
      "Calculate:  DecisionTreeClassifier 2\n",
      "Calculate:  RandomForestClassifier 1\n",
      "Calculate:  RandomForestClassifier 2\n",
      "Calculate:  GradientBoostingClassifier 1\n",
      "Calculate:  GradientBoostingClassifier 2\n",
      "Calculate:  GradientBoostingClassifier 3\n",
      "step:  700 900\n",
      " 0    172\n",
      " 1     25\n",
      "-1      3\n",
      "Name: class_column, dtype: int64\n",
      "Calculate:  DecisionTreeClassifier 1\n",
      "Calculate:  DecisionTreeClassifier 2\n",
      "Calculate:  RandomForestClassifier 1\n",
      "Calculate:  RandomForestClassifier 2\n",
      "Calculate:  GradientBoostingClassifier 1\n",
      "Calculate:  GradientBoostingClassifier 2\n",
      "Calculate:  GradientBoostingClassifier 3\n",
      "step:  800 1000\n",
      " 0    125\n",
      " 1     58\n",
      "-1     17\n",
      "Name: class_column, dtype: int64\n",
      "Calculate:  DecisionTreeClassifier 1\n",
      "Calculate:  DecisionTreeClassifier 2\n",
      "Calculate:  RandomForestClassifier 1\n",
      "Calculate:  RandomForestClassifier 2\n",
      "Calculate:  GradientBoostingClassifier 1\n",
      "Calculate:  GradientBoostingClassifier 2\n",
      "Calculate:  GradientBoostingClassifier 3\n",
      "step:  900 1100\n",
      " 0    108\n",
      " 1     71\n",
      "-1     21\n",
      "Name: class_column, dtype: int64\n",
      "Calculate:  DecisionTreeClassifier 1\n",
      "Calculate:  DecisionTreeClassifier 2\n",
      "Calculate:  RandomForestClassifier 1\n",
      "Calculate:  RandomForestClassifier 2\n",
      "Calculate:  GradientBoostingClassifier 1\n",
      "Calculate:  GradientBoostingClassifier 2\n",
      "Calculate:  GradientBoostingClassifier 3\n",
      "step:  1000 1200\n",
      " 0    144\n",
      " 1     39\n",
      "-1     17\n",
      "Name: class_column, dtype: int64\n",
      "Calculate:  DecisionTreeClassifier 1\n",
      "Calculate:  DecisionTreeClassifier 2\n",
      "Calculate:  RandomForestClassifier 1\n",
      "Calculate:  RandomForestClassifier 2\n",
      "Calculate:  GradientBoostingClassifier 1\n",
      "Calculate:  GradientBoostingClassifier 2\n",
      "Calculate:  GradientBoostingClassifier 3\n",
      "step:  1100 1300\n",
      " 0    146\n",
      " 1     41\n",
      "-1     13\n",
      "Name: class_column, dtype: int64\n",
      "Calculate:  DecisionTreeClassifier 1\n",
      "Calculate:  DecisionTreeClassifier 2\n",
      "Calculate:  RandomForestClassifier 1\n",
      "Calculate:  RandomForestClassifier 2\n",
      "Calculate:  GradientBoostingClassifier 1\n",
      "Calculate:  GradientBoostingClassifier 2\n",
      "Calculate:  GradientBoostingClassifier 3\n",
      "step:  1200 1400\n",
      " 0    129\n",
      " 1     57\n",
      "-1     14\n",
      "Name: class_column, dtype: int64\n",
      "Calculate:  DecisionTreeClassifier 1\n",
      "Calculate:  DecisionTreeClassifier 2\n",
      "Calculate:  RandomForestClassifier 1\n",
      "Calculate:  RandomForestClassifier 2\n",
      "Calculate:  GradientBoostingClassifier 1\n",
      "Calculate:  GradientBoostingClassifier 2\n",
      "Calculate:  GradientBoostingClassifier 3\n",
      "step:  1300 1500\n",
      " 0    114\n",
      " 1     44\n",
      "-1     42\n",
      "Name: class_column, dtype: int64\n",
      "Calculate:  DecisionTreeClassifier 1\n",
      "Calculate:  DecisionTreeClassifier 2\n",
      "Calculate:  RandomForestClassifier 1\n",
      "Calculate:  RandomForestClassifier 2\n",
      "Calculate:  GradientBoostingClassifier 1\n",
      "Calculate:  GradientBoostingClassifier 2\n",
      "Calculate:  GradientBoostingClassifier 3\n",
      "step:  1400 1600\n",
      " 0    108\n",
      " 1     64\n",
      "-1     28\n",
      "Name: class_column, dtype: int64\n",
      "Calculate:  DecisionTreeClassifier 1\n",
      "Calculate:  DecisionTreeClassifier 2\n",
      "Calculate:  RandomForestClassifier 1\n",
      "Calculate:  RandomForestClassifier 2\n",
      "Calculate:  GradientBoostingClassifier 1\n",
      "Calculate:  GradientBoostingClassifier 2\n",
      "Calculate:  GradientBoostingClassifier 3\n",
      "step:  1500 1700\n",
      " 1    91\n",
      " 0    88\n",
      "-1    21\n",
      "Name: class_column, dtype: int64\n",
      "Calculate:  DecisionTreeClassifier 1\n",
      "Calculate:  DecisionTreeClassifier 2\n",
      "Calculate:  RandomForestClassifier 1\n",
      "Calculate:  RandomForestClassifier 2\n",
      "Calculate:  GradientBoostingClassifier 1\n",
      "Calculate:  GradientBoostingClassifier 2\n",
      "Calculate:  GradientBoostingClassifier 3\n",
      "step:  1600 1800\n",
      " 0    106\n",
      " 1     70\n",
      "-1     24\n",
      "Name: class_column, dtype: int64\n",
      "Calculate:  DecisionTreeClassifier 1\n",
      "Calculate:  DecisionTreeClassifier 2\n",
      "Calculate:  RandomForestClassifier 1\n",
      "Calculate:  RandomForestClassifier 2\n",
      "Calculate:  GradientBoostingClassifier 1\n",
      "Calculate:  GradientBoostingClassifier 2\n",
      "Calculate:  GradientBoostingClassifier 3\n",
      "step:  1700 1900\n",
      " 0    127\n",
      " 1     57\n",
      "-1     16\n",
      "Name: class_column, dtype: int64\n",
      "Calculate:  DecisionTreeClassifier 1\n",
      "Calculate:  DecisionTreeClassifier 2\n",
      "Calculate:  RandomForestClassifier 1\n",
      "Calculate:  RandomForestClassifier 2\n",
      "Calculate:  GradientBoostingClassifier 1\n",
      "Calculate:  GradientBoostingClassifier 2\n",
      "Calculate:  GradientBoostingClassifier 3\n",
      "step:  1800 2000\n",
      " 0    71\n",
      " 1    66\n",
      "-1    63\n",
      "Name: class_column, dtype: int64\n",
      "Calculate:  DecisionTreeClassifier 1\n",
      "Calculate:  DecisionTreeClassifier 2\n",
      "Calculate:  RandomForestClassifier 1\n",
      "Calculate:  RandomForestClassifier 2\n",
      "Calculate:  GradientBoostingClassifier 1\n",
      "Calculate:  GradientBoostingClassifier 2\n",
      "Calculate:  GradientBoostingClassifier 3\n",
      "step:  1900 2100\n",
      "-1    98\n",
      " 1    63\n",
      " 0    39\n",
      "Name: class_column, dtype: int64\n",
      "Calculate:  DecisionTreeClassifier 1\n",
      "Calculate:  DecisionTreeClassifier 2\n",
      "Calculate:  RandomForestClassifier 1\n",
      "Calculate:  RandomForestClassifier 2\n",
      "Calculate:  GradientBoostingClassifier 1\n",
      "Calculate:  GradientBoostingClassifier 2\n",
      "Calculate:  GradientBoostingClassifier 3\n",
      "step:  2000 2200\n",
      "-1    87\n",
      " 1    59\n",
      " 0    54\n",
      "Name: class_column, dtype: int64\n",
      "Calculate:  DecisionTreeClassifier 1\n",
      "Calculate:  DecisionTreeClassifier 2\n",
      "Calculate:  RandomForestClassifier 1\n",
      "Calculate:  RandomForestClassifier 2\n",
      "Calculate:  GradientBoostingClassifier 1\n",
      "Calculate:  GradientBoostingClassifier 2\n",
      "Calculate:  GradientBoostingClassifier 3\n",
      "step:  2100 2300\n",
      " 0    75\n",
      " 1    68\n",
      "-1    57\n",
      "Name: class_column, dtype: int64\n",
      "Calculate:  DecisionTreeClassifier 1\n",
      "Calculate:  DecisionTreeClassifier 2\n",
      "Calculate:  RandomForestClassifier 1\n",
      "Calculate:  RandomForestClassifier 2\n",
      "Calculate:  GradientBoostingClassifier 1\n",
      "Calculate:  GradientBoostingClassifier 2\n",
      "Calculate:  GradientBoostingClassifier 3\n",
      "step:  2200 2400\n",
      " 1    88\n",
      " 0    84\n",
      "-1    28\n",
      "Name: class_column, dtype: int64\n",
      "Calculate:  DecisionTreeClassifier 1\n",
      "Calculate:  DecisionTreeClassifier 2\n",
      "Calculate:  RandomForestClassifier 1\n",
      "Calculate:  RandomForestClassifier 2\n",
      "Calculate:  GradientBoostingClassifier 1\n",
      "Calculate:  GradientBoostingClassifier 2\n",
      "Calculate:  GradientBoostingClassifier 3\n",
      "step:  2300 2500\n",
      " 0    85\n",
      " 1    61\n",
      "-1    54\n",
      "Name: class_column, dtype: int64\n",
      "Calculate:  DecisionTreeClassifier 1\n",
      "Calculate:  DecisionTreeClassifier 2\n",
      "Calculate:  RandomForestClassifier 1\n",
      "Calculate:  RandomForestClassifier 2\n",
      "Calculate:  GradientBoostingClassifier 1\n",
      "Calculate:  GradientBoostingClassifier 2\n",
      "Calculate:  GradientBoostingClassifier 3\n",
      "step:  2400 2600\n",
      " 0    116\n",
      "-1     66\n",
      " 1     18\n",
      "Name: class_column, dtype: int64\n",
      "Calculate:  DecisionTreeClassifier 1\n",
      "Calculate:  DecisionTreeClassifier 2\n",
      "Calculate:  RandomForestClassifier 1\n",
      "Calculate:  RandomForestClassifier 2\n",
      "Calculate:  GradientBoostingClassifier 1\n",
      "Calculate:  GradientBoostingClassifier 2\n",
      "Calculate:  GradientBoostingClassifier 3\n",
      "step:  2500 2700\n",
      " 0    102\n",
      " 1     56\n",
      "-1     42\n",
      "Name: class_column, dtype: int64\n",
      "Calculate:  DecisionTreeClassifier 1\n",
      "Calculate:  DecisionTreeClassifier 2\n",
      "Calculate:  RandomForestClassifier 1\n",
      "Calculate:  RandomForestClassifier 2\n",
      "Calculate:  GradientBoostingClassifier 1\n",
      "Calculate:  GradientBoostingClassifier 2\n",
      "Calculate:  GradientBoostingClassifier 3\n",
      "step:  2600 2800\n",
      " 0    85\n",
      " 1    81\n",
      "-1    34\n",
      "Name: class_column, dtype: int64\n",
      "Calculate:  DecisionTreeClassifier 1\n",
      "Calculate:  DecisionTreeClassifier 2\n",
      "Calculate:  RandomForestClassifier 1\n",
      "Calculate:  RandomForestClassifier 2\n",
      "Calculate:  GradientBoostingClassifier 1\n",
      "Calculate:  GradientBoostingClassifier 2\n",
      "Calculate:  GradientBoostingClassifier 3\n",
      "step:  2700 2900\n",
      " 0    128\n",
      " 1     36\n",
      "-1     36\n",
      "Name: class_column, dtype: int64\n",
      "Calculate:  DecisionTreeClassifier 1\n",
      "Calculate:  DecisionTreeClassifier 2\n",
      "Calculate:  RandomForestClassifier 1\n",
      "Calculate:  RandomForestClassifier 2\n",
      "Calculate:  GradientBoostingClassifier 1\n",
      "Calculate:  GradientBoostingClassifier 2\n",
      "Calculate:  GradientBoostingClassifier 3\n",
      "step:  2800 3000\n",
      " 0    141\n",
      " 1     37\n",
      "-1     22\n",
      "Name: class_column, dtype: int64\n",
      "Calculate:  DecisionTreeClassifier 1\n",
      "Calculate:  DecisionTreeClassifier 2\n",
      "Calculate:  RandomForestClassifier 1\n",
      "Calculate:  RandomForestClassifier 2\n",
      "Calculate:  GradientBoostingClassifier 1\n",
      "Calculate:  GradientBoostingClassifier 2\n",
      "Calculate:  GradientBoostingClassifier 3\n",
      "step:  2900 3100\n",
      " 0    126\n",
      " 1     55\n",
      "-1     19\n",
      "Name: class_column, dtype: int64\n",
      "Calculate:  DecisionTreeClassifier 1\n",
      "Calculate:  DecisionTreeClassifier 2\n",
      "Calculate:  RandomForestClassifier 1\n",
      "Calculate:  RandomForestClassifier 2\n",
      "Calculate:  GradientBoostingClassifier 1\n",
      "Calculate:  GradientBoostingClassifier 2\n",
      "Calculate:  GradientBoostingClassifier 3\n",
      "step:  3000 3200\n",
      " 0    111\n",
      " 1     56\n",
      "-1     33\n",
      "Name: class_column, dtype: int64\n",
      "Calculate:  DecisionTreeClassifier 1\n",
      "Calculate:  DecisionTreeClassifier 2\n",
      "Calculate:  RandomForestClassifier 1\n",
      "Calculate:  RandomForestClassifier 2\n",
      "Calculate:  GradientBoostingClassifier 1\n",
      "Calculate:  GradientBoostingClassifier 2\n",
      "Calculate:  GradientBoostingClassifier 3\n",
      "step:  3100 3300\n",
      " 0    98\n",
      " 1    63\n",
      "-1    39\n",
      "Name: class_column, dtype: int64\n",
      "Calculate:  DecisionTreeClassifier 1\n",
      "Calculate:  DecisionTreeClassifier 2\n",
      "Calculate:  RandomForestClassifier 1\n",
      "Calculate:  RandomForestClassifier 2\n",
      "Calculate:  GradientBoostingClassifier 1\n",
      "Calculate:  GradientBoostingClassifier 2\n",
      "Calculate:  GradientBoostingClassifier 3\n",
      "step:  3200 3400\n",
      " 0    88\n",
      "-1    65\n",
      " 1    47\n",
      "Name: class_column, dtype: int64\n",
      "Calculate:  DecisionTreeClassifier 1\n",
      "Calculate:  DecisionTreeClassifier 2\n",
      "Calculate:  RandomForestClassifier 1\n",
      "Calculate:  RandomForestClassifier 2\n",
      "Calculate:  GradientBoostingClassifier 1\n",
      "Calculate:  GradientBoostingClassifier 2\n",
      "Calculate:  GradientBoostingClassifier 3\n",
      "step:  3300 3500\n",
      " 0    94\n",
      "-1    58\n",
      " 1    48\n",
      "Name: class_column, dtype: int64\n",
      "Calculate:  DecisionTreeClassifier 1\n",
      "Calculate:  DecisionTreeClassifier 2\n",
      "Calculate:  RandomForestClassifier 1\n",
      "Calculate:  RandomForestClassifier 2\n",
      "Calculate:  GradientBoostingClassifier 1\n",
      "Calculate:  GradientBoostingClassifier 2\n",
      "Calculate:  GradientBoostingClassifier 3\n",
      "step:  3400 3600\n",
      " 0    84\n",
      " 1    69\n",
      "-1    47\n",
      "Name: class_column, dtype: int64\n",
      "Calculate:  DecisionTreeClassifier 1\n",
      "Calculate:  DecisionTreeClassifier 2\n",
      "Calculate:  RandomForestClassifier 1\n",
      "Calculate:  RandomForestClassifier 2\n",
      "Calculate:  GradientBoostingClassifier 1\n",
      "Calculate:  GradientBoostingClassifier 2\n",
      "Calculate:  GradientBoostingClassifier 3\n",
      "step:  3500 3700\n",
      " 0    100\n",
      " 1     60\n",
      "-1     40\n",
      "Name: class_column, dtype: int64\n",
      "Calculate:  DecisionTreeClassifier 1\n",
      "Calculate:  DecisionTreeClassifier 2\n",
      "Calculate:  RandomForestClassifier 1\n",
      "Calculate:  RandomForestClassifier 2\n",
      "Calculate:  GradientBoostingClassifier 1\n",
      "Calculate:  GradientBoostingClassifier 2\n",
      "Calculate:  GradientBoostingClassifier 3\n",
      "step:  3600 3800\n",
      " 0    141\n",
      "-1     38\n",
      " 1     21\n",
      "Name: class_column, dtype: int64\n",
      "Calculate:  DecisionTreeClassifier 1\n",
      "Calculate:  DecisionTreeClassifier 2\n",
      "Calculate:  RandomForestClassifier 1\n",
      "Calculate:  RandomForestClassifier 2\n",
      "Calculate:  GradientBoostingClassifier 1\n",
      "Calculate:  GradientBoostingClassifier 2\n",
      "Calculate:  GradientBoostingClassifier 3\n",
      "step:  3700 3900\n",
      " 0    108\n",
      "-1     79\n",
      " 1     13\n",
      "Name: class_column, dtype: int64\n",
      "Calculate:  DecisionTreeClassifier 1\n",
      "Calculate:  DecisionTreeClassifier 2\n",
      "Calculate:  RandomForestClassifier 1\n",
      "Calculate:  RandomForestClassifier 2\n",
      "Calculate:  GradientBoostingClassifier 1\n",
      "Calculate:  GradientBoostingClassifier 2\n",
      "Calculate:  GradientBoostingClassifier 3\n",
      "step:  3800 4000\n",
      "-1    96\n",
      " 0    64\n",
      " 1    40\n",
      "Name: class_column, dtype: int64\n",
      "Calculate:  DecisionTreeClassifier 1\n",
      "Calculate:  DecisionTreeClassifier 2\n",
      "Calculate:  RandomForestClassifier 1\n",
      "Calculate:  RandomForestClassifier 2\n",
      "Calculate:  GradientBoostingClassifier 1\n",
      "Calculate:  GradientBoostingClassifier 2\n",
      "Calculate:  GradientBoostingClassifier 3\n",
      "step:  3900 4100\n",
      " 1    80\n",
      " 0    61\n",
      "-1    59\n",
      "Name: class_column, dtype: int64\n",
      "Calculate:  DecisionTreeClassifier 1\n",
      "Calculate:  DecisionTreeClassifier 2\n",
      "Calculate:  RandomForestClassifier 1\n",
      "Calculate:  RandomForestClassifier 2\n",
      "Calculate:  GradientBoostingClassifier 1\n",
      "Calculate:  GradientBoostingClassifier 2\n",
      "Calculate:  GradientBoostingClassifier 3\n",
      "step:  4000 4200\n",
      " 0    86\n",
      " 1    61\n",
      "-1    37\n",
      "Name: class_column, dtype: int64\n"
     ]
    }
   ],
   "source": [
    "\n",
    "features = [x for x in data.columns if x not in ['class_column']]\n",
    "num_step = 100 #  (len(data) / num_train  =  number of train-test sets\n",
    "len_set = 200 # Length of each train-test set\n",
    "\n",
    "score = defaultdict(list)\n",
    "step_headers = []\n",
    "i = 0\n",
    "\n",
    "while True:\n",
    "    df = data.iloc[i * num_step : (i * num_step) + len_set]\n",
    "    print(\"step: \", i * num_step, (i * num_step) + len_set)\n",
    "    print(df['class_column'].value_counts())\n",
    "    if len(df) < len_set:\n",
    "        break\n",
    "\n",
    "\n",
    "    step_headers.append(f'<{i * num_step, (i * num_step) + len_set}>')\n",
    "    y = df['class_column']\n",
    "    x = df[features]\n",
    "    x_train,x_test,y_train,y_test = train_test_split(x, y, test_size=0.33, shuffle=False)\n",
    "    classifiers = dict()\n",
    "    init_classifiers()\n",
    "    predictions= dict()\n",
    "    for k,v in classifiers.items():\n",
    "        print(\"Calculate: \", k)\n",
    "        train_model(v,x_train,y_train)\n",
    "        predictions[k] = v.predict(x_test)\n",
    "        score[k].append(accuracy_score(y_test.values, predictions[k]))\n",
    "\n",
    "    i += 1"
   ],
   "metadata": {
    "collapsed": false,
    "pycharm": {
     "name": "#%%\n"
    }
   }
  },
  {
   "cell_type": "code",
   "execution_count": 79,
   "outputs": [
    {
     "name": "stdout",
     "output_type": "stream",
     "text": [
      "+----+------------------------------+--------------+----------------+----------------+----------------+----------------+----------------+----------------+----------------+-----------------+-----------------+------------------+------------------+------------------+------------------+------------------+------------------+------------------+------------------+------------------+------------------+------------------+------------------+------------------+------------------+------------------+------------------+------------------+------------------+------------------+------------------+------------------+------------------+------------------+------------------+------------------+------------------+------------------+------------------+------------------+------------------+----------+\n",
      "|    | Classifier type              |   <(0, 200)> |   <(100, 300)> |   <(200, 400)> |   <(300, 500)> |   <(400, 600)> |   <(500, 700)> |   <(600, 800)> |   <(700, 900)> |   <(800, 1000)> |   <(900, 1100)> |   <(1000, 1200)> |   <(1100, 1300)> |   <(1200, 1400)> |   <(1300, 1500)> |   <(1400, 1600)> |   <(1500, 1700)> |   <(1600, 1800)> |   <(1700, 1900)> |   <(1800, 2000)> |   <(1900, 2100)> |   <(2000, 2200)> |   <(2100, 2300)> |   <(2200, 2400)> |   <(2300, 2500)> |   <(2400, 2600)> |   <(2500, 2700)> |   <(2600, 2800)> |   <(2700, 2900)> |   <(2800, 3000)> |   <(2900, 3100)> |   <(3000, 3200)> |   <(3100, 3300)> |   <(3200, 3400)> |   <(3300, 3500)> |   <(3400, 3600)> |   <(3500, 3700)> |   <(3600, 3800)> |   <(3700, 3900)> |   <(3800, 4000)> |   <(3900, 4100)> |     mean |\n",
      "|----+------------------------------+--------------+----------------+----------------+----------------+----------------+----------------+----------------+----------------+-----------------+-----------------+------------------+------------------+------------------+------------------+------------------+------------------+------------------+------------------+------------------+------------------+------------------+------------------+------------------+------------------+------------------+------------------+------------------+------------------+------------------+------------------+------------------+------------------+------------------+------------------+------------------+------------------+------------------+------------------+------------------+------------------+----------|\n",
      "|  0 | DecisionTreeClassifier 1     |     0.30303  |       0.515152 |       0.439394 |       0.30303  |       0.909091 |      0.0151515 |       0.833333 |       0.590909 |        0.242424 |        0.606061 |         0.651515 |         0.69697  |         0.545455 |         0.227273 |        0.151515  |         0.651515 |         0.606061 |         0.651515 |         0.272727 |        0.136364  |         0.242424 |         0.318182 |         0.454545 |         0.318182 |         0.515152 |        0.227273  |        0.363636  |         0.363636 |         0.727273 |         0.166667 |         0.212121 |         0.378788 |         0.348485 |         0.363636 |         0.257576 |         0.121212 |         0.590909 |        0.348485  |         0.287879 |         0.424242 | 0.40947  |\n",
      "|  1 | DecisionTreeClassifier 2     |     0.348485 |       0.363636 |       0.242424 |       0.515152 |       0.939394 |      0.515152  |       0.787879 |       0.681818 |        0.242424 |        0.606061 |         0.636364 |         0.742424 |         0.484848 |         0.287879 |        0.0909091 |         0.19697  |         0.666667 |         0.287879 |         0.348485 |        0.0757576 |         0.484848 |         0.30303  |         0.439394 |         0.30303  |         0.530303 |        0.166667  |        0.469697  |         0.227273 |         0.363636 |         0.560606 |         0.712121 |         0.212121 |         0.212121 |         0.5      |         0.257576 |         0.409091 |         0.348485 |        0.0909091 |         0.106061 |         0.515152 | 0.406818 |\n",
      "|  2 | RandomForestClassifier 1     |     0.409091 |       0.636364 |       0.666667 |       0.772727 |       0.909091 |      0.757576  |       0.863636 |       0.80303  |        0.242424 |        0.590909 |         0.69697  |         0.69697  |         0.393939 |         0.363636 |        0.469697  |         0.515152 |         0.606061 |         0.651515 |         0.30303  |        0.212121  |         0.227273 |         0.378788 |         0.378788 |         0.257576 |         0.590909 |        0.0909091 |        0.545455  |         0.333333 |         0.560606 |         0.621212 |         0.287879 |         0.212121 |         0.272727 |         0.5      |         0.19697  |         0.151515 |         0.606061 |        0.348485  |         0.469697 |         0.454545 | 0.476136 |\n",
      "|  3 | RandomForestClassifier 2     |     0.409091 |       0.636364 |       0.666667 |       0.787879 |       0.909091 |      0.757576  |       0.863636 |       0.80303  |        0.242424 |        0.590909 |         0.69697  |         0.69697  |         0.424242 |         0.333333 |        0.348485  |         0.439394 |         0.606061 |         0.712121 |         0.30303  |        0.212121  |         0.227273 |         0.272727 |         0.333333 |         0.242424 |         0.590909 |        0.0606061 |        0.545455  |         0.424242 |         0.560606 |         0.666667 |         0.287879 |         0.212121 |         0.333333 |         0.424242 |         0.181818 |         0.121212 |         0.606061 |        0.439394  |         0.469697 |         0.454545 | 0.472348 |\n",
      "|  4 | GradientBoostingClassifier 1 |     0.424242 |       0.560606 |       0.712121 |       0.484848 |       0.924242 |      0.484848  |       0.848485 |       0.242424 |        0.242424 |        0.621212 |         0.757576 |         0.363636 |         0.19697  |         0.348485 |        0.181818  |         0.333333 |         0.5      |         0.712121 |         0.30303  |        0.212121  |         0.545455 |         0.318182 |         0.439394 |         0.242424 |         0.606061 |        0.181818  |        0.0606061 |         0.530303 |         0.681818 |         0.5      |         0.378788 |         0.424242 |         0.333333 |         0.530303 |         0.257576 |         0.5      |         0.606061 |        0.181818  |         0.227273 |         0.409091 | 0.435227 |\n",
      "|  5 | GradientBoostingClassifier 2 |     0.424242 |       0.560606 |       0.757576 |       0.257576 |       0.939394 |      0.484848  |       0.666667 |       0.257576 |        0.242424 |        0.621212 |         0.80303  |         0.363636 |         0.242424 |         0.393939 |        0.181818  |         0.242424 |         0.469697 |         0.757576 |         0.378788 |        0.212121  |         0.530303 |         0.318182 |         0.484848 |         0.227273 |         0.621212 |        0.151515  |        0.151515  |         0.469697 |         0.575758 |         0.5      |         0.318182 |         0.378788 |         0.469697 |         0.469697 |         0.257576 |         0.484848 |         0.606061 |        0.166667  |         0.318182 |         0.393939 | 0.428788 |\n",
      "|  6 | GradientBoostingClassifier 3 |     0.409091 |       0.560606 |       0.742424 |       0.318182 |       0.939394 |      0.484848  |       0.651515 |       0.242424 |        0.242424 |        0.621212 |         0.80303  |         0.363636 |         0.318182 |         0.378788 |        0.181818  |         0.333333 |         0.393939 |         0.757576 |         0.363636 |        0.287879  |         0.560606 |         0.348485 |         0.424242 |         0.30303  |         0.590909 |        0.181818  |        0.136364  |         0.515152 |         0.590909 |         0.484848 |         0.287879 |         0.333333 |         0.424242 |         0.484848 |         0.318182 |         0.484848 |         0.606061 |        0.121212  |         0.318182 |         0.30303  | 0.430303 |\n",
      "+----+------------------------------+--------------+----------------+----------------+----------------+----------------+----------------+----------------+----------------+-----------------+-----------------+------------------+------------------+------------------+------------------+------------------+------------------+------------------+------------------+------------------+------------------+------------------+------------------+------------------+------------------+------------------+------------------+------------------+------------------+------------------+------------------+------------------+------------------+------------------+------------------+------------------+------------------+------------------+------------------+------------------+------------------+----------+\n"
     ]
    }
   ],
   "source": [
    "# print(score['DecisionTreeClassifier 1'])\n",
    "# print(score['DecisionTreeClassifier 2'])\n",
    "\n",
    "headers = [\"Classifier type\", \"Accuracy\"]\n",
    "score_df = pd.DataFrame(score.items(), columns=headers)\n",
    "# print(tabulate(score_df, headers, tablefmt=\"psql\"))\n",
    "headers2 = [\"Classifier type\",] + step_headers\n",
    "score_df = pd.DataFrame(score.items(), columns=headers)\n",
    "accuracy_df = pd.DataFrame(score_df['Accuracy'].tolist(), index= score_df.index, columns=step_headers)\n",
    "score_df = score_df.drop('Accuracy', 1)\n",
    "f_out = pd.merge(score_df, accuracy_df, how='left', left_index=True, right_index=True)\n",
    "f_out['mean'] = f_out.mean(axis=1)\n",
    "headers2 = headers2 + ['mean']\n",
    "print(tabulate(f_out,headers2 , tablefmt=\"psql\"))"
   ],
   "metadata": {
    "collapsed": false,
    "pycharm": {
     "name": "#%%\n"
    }
   }
  },
  {
   "cell_type": "code",
   "execution_count": 79,
   "outputs": [],
   "source": [],
   "metadata": {
    "collapsed": false,
    "pycharm": {
     "name": "#%%\n"
    }
   }
  }
 ],
 "metadata": {
  "kernelspec": {
   "name": "magisterka_analiza",
   "language": "python",
   "display_name": "Python magisterka"
  },
  "language_info": {
   "codemirror_mode": {
    "name": "ipython",
    "version": 2
   },
   "file_extension": ".py",
   "mimetype": "text/x-python",
   "name": "python",
   "nbconvert_exporter": "python",
   "pygments_lexer": "ipython2",
   "version": "2.7.6"
  }
 },
 "nbformat": 4,
 "nbformat_minor": 0
}