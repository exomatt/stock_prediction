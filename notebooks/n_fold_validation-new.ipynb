{
 "cells": [
  {
   "cell_type": "code",
   "execution_count": 58,
   "metadata": {
    "collapsed": true
   },
   "outputs": [],
   "source": [
    "from collections import defaultdict\n",
    "from datetime import datetime\n",
    "import matplotlib.pyplot as plt\n",
    "import pandas as pd\n",
    "import seaborn as sn\n",
    "import yfinance as yf\n",
    "from finta import TA\n",
    "from sklearn.ensemble import RandomForestClassifier, GradientBoostingClassifier\n",
    "from sklearn.model_selection import train_test_split\n",
    "from sklearn.metrics import confusion_matrix, classification_report,accuracy_score\n",
    "from sklearn.tree import DecisionTreeClassifier\n",
    "from tabulate import tabulate\n",
    "from ta import add_all_ta_features"
   ]
  },
  {
   "cell_type": "code",
   "execution_count": 59,
   "outputs": [],
   "source": [
    "WINDOW = 16 # number of rows to look ahead to see what the price did\n",
    "FETCH_INTERVAL = \"60m\"  # fetch data by interval (including intraday if period < 60 days)\n",
    "        # valid intervals: 1m,2m,5m,15m,30m,60m,90m,1h,1d,5d,1wk,1mo,3mo\n",
    "        # (optional, default is '1d')\n",
    "INTERVAL = '1y'     # use \"period\" instead of start/end\n",
    "        # valid periods: 1d,5d,1mo,3mo,6mo,1y,2y,5y,10y,ytd,max\n",
    "        # (optional, default is '1mo')\n",
    "symbol = 'AAPL'      # Symbol of the desired stock"
   ],
   "metadata": {
    "collapsed": false,
    "pycharm": {
     "name": "#%%\n"
    }
   }
  },
  {
   "cell_type": "code",
   "execution_count": 60,
   "outputs": [],
   "source": [
    "data = pd.read_csv('C:\\\\Users\\\\exomat\\\\Desktop\\\\repo\\\\magisterka_analiza\\\\data\\\\preprocess\\\\APPLE_22_03_2021 21_56_34.csv')"
   ],
   "metadata": {
    "collapsed": false,
    "pycharm": {
     "name": "#%%\n"
    }
   }
  },
  {
   "cell_type": "code",
   "execution_count": 61,
   "outputs": [
    {
     "data": {
      "text/plain": "        Open       High        Low      Close  Adj Close    Volume\n0  56.220000  56.220000  55.500000  55.600000  55.600000         0\n1  55.550000  56.095000  55.370000  55.700000  55.700000         0\n2  56.032500  56.437500  55.937500  56.247500  56.247500         0\n3  56.132500  56.750000  56.042500  56.595000  56.595000         0\n4  56.550000  58.197500  55.625000  57.812500  57.812500         0\n5  57.837500  59.525000  56.887500  57.020000  57.020000         0\n6  56.299999  56.750000  54.823750  55.450001  55.450001  21473989\n7  55.465000  55.889999  53.412498  53.767502  53.767502  11306818\n8  53.762501  55.097500  53.152500  54.803925  54.803925  11355189",
      "text/html": "<div>\n<style scoped>\n    .dataframe tbody tr th:only-of-type {\n        vertical-align: middle;\n    }\n\n    .dataframe tbody tr th {\n        vertical-align: top;\n    }\n\n    .dataframe thead th {\n        text-align: right;\n    }\n</style>\n<table border=\"1\" class=\"dataframe\">\n  <thead>\n    <tr style=\"text-align: right;\">\n      <th></th>\n      <th>Open</th>\n      <th>High</th>\n      <th>Low</th>\n      <th>Close</th>\n      <th>Adj Close</th>\n      <th>Volume</th>\n    </tr>\n  </thead>\n  <tbody>\n    <tr>\n      <th>0</th>\n      <td>56.220000</td>\n      <td>56.220000</td>\n      <td>55.500000</td>\n      <td>55.600000</td>\n      <td>55.600000</td>\n      <td>0</td>\n    </tr>\n    <tr>\n      <th>1</th>\n      <td>55.550000</td>\n      <td>56.095000</td>\n      <td>55.370000</td>\n      <td>55.700000</td>\n      <td>55.700000</td>\n      <td>0</td>\n    </tr>\n    <tr>\n      <th>2</th>\n      <td>56.032500</td>\n      <td>56.437500</td>\n      <td>55.937500</td>\n      <td>56.247500</td>\n      <td>56.247500</td>\n      <td>0</td>\n    </tr>\n    <tr>\n      <th>3</th>\n      <td>56.132500</td>\n      <td>56.750000</td>\n      <td>56.042500</td>\n      <td>56.595000</td>\n      <td>56.595000</td>\n      <td>0</td>\n    </tr>\n    <tr>\n      <th>4</th>\n      <td>56.550000</td>\n      <td>58.197500</td>\n      <td>55.625000</td>\n      <td>57.812500</td>\n      <td>57.812500</td>\n      <td>0</td>\n    </tr>\n    <tr>\n      <th>5</th>\n      <td>57.837500</td>\n      <td>59.525000</td>\n      <td>56.887500</td>\n      <td>57.020000</td>\n      <td>57.020000</td>\n      <td>0</td>\n    </tr>\n    <tr>\n      <th>6</th>\n      <td>56.299999</td>\n      <td>56.750000</td>\n      <td>54.823750</td>\n      <td>55.450001</td>\n      <td>55.450001</td>\n      <td>21473989</td>\n    </tr>\n    <tr>\n      <th>7</th>\n      <td>55.465000</td>\n      <td>55.889999</td>\n      <td>53.412498</td>\n      <td>53.767502</td>\n      <td>53.767502</td>\n      <td>11306818</td>\n    </tr>\n    <tr>\n      <th>8</th>\n      <td>53.762501</td>\n      <td>55.097500</td>\n      <td>53.152500</td>\n      <td>54.803925</td>\n      <td>54.803925</td>\n      <td>11355189</td>\n    </tr>\n  </tbody>\n</table>\n</div>"
     },
     "execution_count": 61,
     "metadata": {},
     "output_type": "execute_result"
    }
   ],
   "source": [
    "data.head(9)"
   ],
   "metadata": {
    "collapsed": false,
    "pycharm": {
     "name": "#%%\n"
    }
   }
  },
  {
   "cell_type": "code",
   "execution_count": 62,
   "outputs": [
    {
     "data": {
      "text/plain": "        open       high        low      close  Adj Close    volume\n0  56.220000  56.220000  55.500000  55.600000  55.600000         0\n1  55.550000  56.095000  55.370000  55.700000  55.700000         0\n2  56.032500  56.437500  55.937500  56.247500  56.247500         0\n3  56.132500  56.750000  56.042500  56.595000  56.595000         0\n4  56.550000  58.197500  55.625000  57.812500  57.812500         0\n5  57.837500  59.525000  56.887500  57.020000  57.020000         0\n6  56.299999  56.750000  54.823750  55.450001  55.450001  21473989\n7  55.465000  55.889999  53.412498  53.767502  53.767502  11306818\n8  53.762501  55.097500  53.152500  54.803925  54.803925  11355189\n9  54.823875  56.775002  54.472500  55.486252  55.486252  10671797",
      "text/html": "<div>\n<style scoped>\n    .dataframe tbody tr th:only-of-type {\n        vertical-align: middle;\n    }\n\n    .dataframe tbody tr th {\n        vertical-align: top;\n    }\n\n    .dataframe thead th {\n        text-align: right;\n    }\n</style>\n<table border=\"1\" class=\"dataframe\">\n  <thead>\n    <tr style=\"text-align: right;\">\n      <th></th>\n      <th>open</th>\n      <th>high</th>\n      <th>low</th>\n      <th>close</th>\n      <th>Adj Close</th>\n      <th>volume</th>\n    </tr>\n  </thead>\n  <tbody>\n    <tr>\n      <th>0</th>\n      <td>56.220000</td>\n      <td>56.220000</td>\n      <td>55.500000</td>\n      <td>55.600000</td>\n      <td>55.600000</td>\n      <td>0</td>\n    </tr>\n    <tr>\n      <th>1</th>\n      <td>55.550000</td>\n      <td>56.095000</td>\n      <td>55.370000</td>\n      <td>55.700000</td>\n      <td>55.700000</td>\n      <td>0</td>\n    </tr>\n    <tr>\n      <th>2</th>\n      <td>56.032500</td>\n      <td>56.437500</td>\n      <td>55.937500</td>\n      <td>56.247500</td>\n      <td>56.247500</td>\n      <td>0</td>\n    </tr>\n    <tr>\n      <th>3</th>\n      <td>56.132500</td>\n      <td>56.750000</td>\n      <td>56.042500</td>\n      <td>56.595000</td>\n      <td>56.595000</td>\n      <td>0</td>\n    </tr>\n    <tr>\n      <th>4</th>\n      <td>56.550000</td>\n      <td>58.197500</td>\n      <td>55.625000</td>\n      <td>57.812500</td>\n      <td>57.812500</td>\n      <td>0</td>\n    </tr>\n    <tr>\n      <th>5</th>\n      <td>57.837500</td>\n      <td>59.525000</td>\n      <td>56.887500</td>\n      <td>57.020000</td>\n      <td>57.020000</td>\n      <td>0</td>\n    </tr>\n    <tr>\n      <th>6</th>\n      <td>56.299999</td>\n      <td>56.750000</td>\n      <td>54.823750</td>\n      <td>55.450001</td>\n      <td>55.450001</td>\n      <td>21473989</td>\n    </tr>\n    <tr>\n      <th>7</th>\n      <td>55.465000</td>\n      <td>55.889999</td>\n      <td>53.412498</td>\n      <td>53.767502</td>\n      <td>53.767502</td>\n      <td>11306818</td>\n    </tr>\n    <tr>\n      <th>8</th>\n      <td>53.762501</td>\n      <td>55.097500</td>\n      <td>53.152500</td>\n      <td>54.803925</td>\n      <td>54.803925</td>\n      <td>11355189</td>\n    </tr>\n    <tr>\n      <th>9</th>\n      <td>54.823875</td>\n      <td>56.775002</td>\n      <td>54.472500</td>\n      <td>55.486252</td>\n      <td>55.486252</td>\n      <td>10671797</td>\n    </tr>\n  </tbody>\n</table>\n</div>"
     },
     "execution_count": 62,
     "metadata": {},
     "output_type": "execute_result"
    }
   ],
   "source": [
    "data.rename(columns={\"Close\": 'close', \"High\": 'high', \"Low\": 'low', 'Volume': 'volume', 'Open': 'open'}, inplace=True)\n",
    "data.head(10)"
   ],
   "metadata": {
    "collapsed": false,
    "pycharm": {
     "name": "#%%\n"
    }
   }
  },
  {
   "cell_type": "code",
   "execution_count": 63,
   "outputs": [
    {
     "data": {
      "text/plain": "<AxesSubplot:>"
     },
     "execution_count": 63,
     "metadata": {},
     "output_type": "execute_result"
    },
    {
     "data": {
      "text/plain": "<Figure size 432x288 with 1 Axes>",
      "image/png": "[encoded data removed]"
     },
     "metadata": {
      "needs_background": "light"
     },
     "output_type": "display_data"
    }
   ],
   "source": [
    "data['close'].plot()"
   ],
   "metadata": {
    "collapsed": false,
    "pycharm": {
     "name": "#%%\n"
    }
   }
  },
  {
   "cell_type": "code",
   "execution_count": 64,
   "outputs": [
    {
     "name": "stderr",
     "output_type": "stream",
     "text": [
      "C:\\Users\\exomat\\anaconda3\\envs\\magisterka_analiza\\lib\\site-packages\\ta\\trend.py:768: RuntimeWarning: invalid value encountered in double_scalars\n",
      "  dip[i] = 100 * (self._dip[i] / self._trs[i])\n",
      "C:\\Users\\exomat\\anaconda3\\envs\\magisterka_analiza\\lib\\site-packages\\ta\\trend.py:772: RuntimeWarning: invalid value encountered in double_scalars\n",
      "  din[i] = 100 * (self._din[i] / self._trs[i])\n"
     ]
    }
   ],
   "source": [
    "def _get_indicator_data(data):\n",
    "    \"\"\"\n",
    "    Function that uses the finta API to calculate technical indicators used as the features\n",
    "    :return:\n",
    "    \"\"\"\n",
    "\n",
    "    data = add_all_ta_features(\n",
    "    data, open=\"open\", high=\"high\", low=\"low\", close=\"close\", volume=\"volume\", fillna=True)\n",
    "\n",
    "    # Instead of using the actual volume value (which changes over time), we normalize it with a moving volume average\n",
    "    # data['normVol'] = data['volume'] / data['volume'].ewm(5).mean()\n",
    "\n",
    "    # Remove columns that won't be used as features\n",
    "    del (data['open'])\n",
    "    del (data['high'])\n",
    "    del (data['low'])\n",
    "    # del (data['volume'])\n",
    "    del (data['Adj Close'])\n",
    "\n",
    "    return data\n",
    "\n",
    "data = _get_indicator_data(data)"
   ],
   "metadata": {
    "collapsed": false,
    "pycharm": {
     "name": "#%%\n"
    }
   }
  },
  {
   "cell_type": "code",
   "execution_count": 65,
   "outputs": [
    {
     "data": {
      "text/plain": "           close    volume    volume_adi  volume_obv  volume_cmf  \\\n0      55.600000         0 -0.000000e+00           0    0.000000   \n1      55.700000         0 -0.000000e+00           0    0.000000   \n2      56.247500         0  0.000000e+00           0    0.000000   \n3      56.595000         0  0.000000e+00           0    0.000000   \n4      57.812500         0  0.000000e+00           0    0.000000   \n...          ...       ...           ...         ...         ...   \n4178  123.091103  12373575  6.772166e+08  -304635341   -0.032093   \n4179  123.542000   9430925  6.814015e+08  -295204416    0.073995   \n4180  123.345001  11354023  6.727190e+08  -306558439   -0.022353   \n4181  123.370003  10684835  6.749298e+08  -295873604    0.039436   \n4182  123.120000   9642937  6.740522e+08  -305516541    0.047963   \n\n         volume_fi  volume_mfi  volume_em  volume_sma_em    volume_vpt  ...  \\\n0     0.000000e+00   50.000000   0.000000       0.000000  -2420.049334  ...   \n1     0.000000e+00   50.000000   0.000000       0.000000      0.000000  ...   \n2     0.000000e+00   50.000000   0.000000       0.000000      0.000000  ...   \n3     0.000000e+00   50.000000   0.000000       0.000000      0.000000  ...   \n4     0.000000e+00   50.000000   0.000000       0.000000      0.000000  ...   \n...            ...         ...        ...            ...           ...  ...   \n4178  3.952908e+06  100.000000   3.539772       5.152305  48528.334990  ...   \n4179  3.995690e+06  100.000000  -0.033912       4.115061    572.870640  ...   \n4180  3.105345e+06  100.000000   0.903980       3.579881  16441.600479  ...   \n4181  2.699886e+06   88.424942  -1.424946       2.864906 -15939.217126  ...   \n4182  1.969794e+06   80.073040  -1.143532       2.363851 -17375.126538  ...   \n\n      momentum_wr  momentum_ao  momentum_kama  momentum_roc  momentum_ppo  \\\n0      -86.111111     0.000000      55.600000      0.000000      0.000000   \n1      -61.176471     0.000000      55.641486      0.000000      0.000000   \n2      -17.798595     0.000000      55.895109      0.000000      0.000000   \n3      -11.231884     0.000000      56.185689      0.000000      0.000000   \n4      -13.616269     0.000000      56.833695      0.000000      0.000000   \n...           ...          ...            ...           ...           ...   \n4178    -5.788523     1.307150     122.417025      2.550281     17.274375   \n4179    -1.943993     1.853018     122.683125      2.960247     17.006940   \n4180   -13.392887     2.216141     122.806622      2.770373     18.299709   \n4181   -12.755093     2.310367     122.908690      2.119032     18.355886   \n4182   -19.329954     2.313878     122.942765      1.836228     17.232556   \n\n      momentum_ppo_signal  momentum_ppo_hist  others_dr  others_dlr  \\\n0                0.000000           0.000000 -47.864396    0.000000   \n1                0.000000           0.000000   0.179856    0.179695   \n2                0.000000           0.000000   0.982944    0.978145   \n3                0.000000           0.000000   0.617805    0.615905   \n4                0.000000           0.000000   2.151250    2.128437   \n...                   ...                ...        ...         ...   \n4178            -5.237322          22.511697  -0.274567   -0.274944   \n4179            -0.788469          17.795410   0.366312    0.365642   \n4180             3.029166          15.270543  -0.159459   -0.159586   \n4181             6.094510          12.261375   0.020270    0.020268   \n4182             8.322119           8.910436  -0.202645   -0.202850   \n\n       others_cr  \n0       0.000000  \n1       0.179856  \n2       1.164568  \n3       1.789568  \n4       3.979317  \n...          ...  \n4178  121.386875  \n4179  122.197841  \n4180  121.843527  \n4181  121.888494  \n4182  121.438849  \n\n[4183 rows x 85 columns]",
      "text/html": "<div>\n<style scoped>\n    .dataframe tbody tr th:only-of-type {\n        vertical-align: middle;\n    }\n\n    .dataframe tbody tr th {\n        vertical-align: top;\n    }\n\n    .dataframe thead th {\n        text-align: right;\n    }\n</style>\n<table border=\"1\" class=\"dataframe\">\n  <thead>\n    <tr style=\"text-align: right;\">\n      <th></th>\n      <th>close</th>\n      <th>volume</th>\n      <th>volume_adi</th>\n      <th>volume_obv</th>\n      <th>volume_cmf</th>\n      <th>volume_fi</th>\n      <th>volume_mfi</th>\n      <th>volume_em</th>\n      <th>volume_sma_em</th>\n      <th>volume_vpt</th>\n      <th>...</th>\n      <th>momentum_wr</th>\n      <th>momentum_ao</th>\n      <th>momentum_kama</th>\n      <th>momentum_roc</th>\n      <th>momentum_ppo</th>\n      <th>momentum_ppo_signal</th>\n      <th>momentum_ppo_hist</th>\n      <th>others_dr</th>\n      <th>others_dlr</th>\n      <th>others_cr</th>\n    </tr>\n  </thead>\n  <tbody>\n    <tr>\n      <th>0</th>\n      <td>55.600000</td>\n      <td>0</td>\n      <td>-0.000000e+00</td>\n      <td>0</td>\n      <td>0.000000</td>\n      <td>0.000000e+00</td>\n      <td>50.000000</td>\n      <td>0.000000</td>\n      <td>0.000000</td>\n      <td>-2420.049334</td>\n      <td>...</td>\n      <td>-86.111111</td>\n      <td>0.000000</td>\n      <td>55.600000</td>\n      <td>0.000000</td>\n      <td>0.000000</td>\n      <td>0.000000</td>\n      <td>0.000000</td>\n      <td>-47.864396</td>\n      <td>0.000000</td>\n      <td>0.000000</td>\n    </tr>\n    <tr>\n      <th>1</th>\n      <td>55.700000</td>\n      <td>0</td>\n      <td>-0.000000e+00</td>\n      <td>0</td>\n      <td>0.000000</td>\n      <td>0.000000e+00</td>\n      <td>50.000000</td>\n      <td>0.000000</td>\n      <td>0.000000</td>\n      <td>0.000000</td>\n      <td>...</td>\n      <td>-61.176471</td>\n      <td>0.000000</td>\n      <td>55.641486</td>\n      <td>0.000000</td>\n      <td>0.000000</td>\n      <td>0.000000</td>\n      <td>0.000000</td>\n      <td>0.179856</td>\n      <td>0.179695</td>\n      <td>0.179856</td>\n    </tr>\n    <tr>\n      <th>2</th>\n      <td>56.247500</td>\n      <td>0</td>\n      <td>0.000000e+00</td>\n      <td>0</td>\n      <td>0.000000</td>\n      <td>0.000000e+00</td>\n      <td>50.000000</td>\n      <td>0.000000</td>\n      <td>0.000000</td>\n      <td>0.000000</td>\n      <td>...</td>\n      <td>-17.798595</td>\n      <td>0.000000</td>\n      <td>55.895109</td>\n      <td>0.000000</td>\n      <td>0.000000</td>\n      <td>0.000000</td>\n      <td>0.000000</td>\n      <td>0.982944</td>\n      <td>0.978145</td>\n      <td>1.164568</td>\n    </tr>\n    <tr>\n      <th>3</th>\n      <td>56.595000</td>\n      <td>0</td>\n      <td>0.000000e+00</td>\n      <td>0</td>\n      <td>0.000000</td>\n      <td>0.000000e+00</td>\n      <td>50.000000</td>\n      <td>0.000000</td>\n      <td>0.000000</td>\n      <td>0.000000</td>\n      <td>...</td>\n      <td>-11.231884</td>\n      <td>0.000000</td>\n      <td>56.185689</td>\n      <td>0.000000</td>\n      <td>0.000000</td>\n      <td>0.000000</td>\n      <td>0.000000</td>\n      <td>0.617805</td>\n      <td>0.615905</td>\n      <td>1.789568</td>\n    </tr>\n    <tr>\n      <th>4</th>\n      <td>57.812500</td>\n      <td>0</td>\n      <td>0.000000e+00</td>\n      <td>0</td>\n      <td>0.000000</td>\n      <td>0.000000e+00</td>\n      <td>50.000000</td>\n      <td>0.000000</td>\n      <td>0.000000</td>\n      <td>0.000000</td>\n      <td>...</td>\n      <td>-13.616269</td>\n      <td>0.000000</td>\n      <td>56.833695</td>\n      <td>0.000000</td>\n      <td>0.000000</td>\n      <td>0.000000</td>\n      <td>0.000000</td>\n      <td>2.151250</td>\n      <td>2.128437</td>\n      <td>3.979317</td>\n    </tr>\n    <tr>\n      <th>...</th>\n      <td>...</td>\n      <td>...</td>\n      <td>...</td>\n      <td>...</td>\n      <td>...</td>\n      <td>...</td>\n      <td>...</td>\n      <td>...</td>\n      <td>...</td>\n      <td>...</td>\n      <td>...</td>\n      <td>...</td>\n      <td>...</td>\n      <td>...</td>\n      <td>...</td>\n      <td>...</td>\n      <td>...</td>\n      <td>...</td>\n      <td>...</td>\n      <td>...</td>\n      <td>...</td>\n    </tr>\n    <tr>\n      <th>4178</th>\n      <td>123.091103</td>\n      <td>12373575</td>\n      <td>6.772166e+08</td>\n      <td>-304635341</td>\n      <td>-0.032093</td>\n      <td>3.952908e+06</td>\n      <td>100.000000</td>\n      <td>3.539772</td>\n      <td>5.152305</td>\n      <td>48528.334990</td>\n      <td>...</td>\n      <td>-5.788523</td>\n      <td>1.307150</td>\n      <td>122.417025</td>\n      <td>2.550281</td>\n      <td>17.274375</td>\n      <td>-5.237322</td>\n      <td>22.511697</td>\n      <td>-0.274567</td>\n      <td>-0.274944</td>\n      <td>121.386875</td>\n    </tr>\n    <tr>\n      <th>4179</th>\n      <td>123.542000</td>\n      <td>9430925</td>\n      <td>6.814015e+08</td>\n      <td>-295204416</td>\n      <td>0.073995</td>\n      <td>3.995690e+06</td>\n      <td>100.000000</td>\n      <td>-0.033912</td>\n      <td>4.115061</td>\n      <td>572.870640</td>\n      <td>...</td>\n      <td>-1.943993</td>\n      <td>1.853018</td>\n      <td>122.683125</td>\n      <td>2.960247</td>\n      <td>17.006940</td>\n      <td>-0.788469</td>\n      <td>17.795410</td>\n      <td>0.366312</td>\n      <td>0.365642</td>\n      <td>122.197841</td>\n    </tr>\n    <tr>\n      <th>4180</th>\n      <td>123.345001</td>\n      <td>11354023</td>\n      <td>6.727190e+08</td>\n      <td>-306558439</td>\n      <td>-0.022353</td>\n      <td>3.105345e+06</td>\n      <td>100.000000</td>\n      <td>0.903980</td>\n      <td>3.579881</td>\n      <td>16441.600479</td>\n      <td>...</td>\n      <td>-13.392887</td>\n      <td>2.216141</td>\n      <td>122.806622</td>\n      <td>2.770373</td>\n      <td>18.299709</td>\n      <td>3.029166</td>\n      <td>15.270543</td>\n      <td>-0.159459</td>\n      <td>-0.159586</td>\n      <td>121.843527</td>\n    </tr>\n    <tr>\n      <th>4181</th>\n      <td>123.370003</td>\n      <td>10684835</td>\n      <td>6.749298e+08</td>\n      <td>-295873604</td>\n      <td>0.039436</td>\n      <td>2.699886e+06</td>\n      <td>88.424942</td>\n      <td>-1.424946</td>\n      <td>2.864906</td>\n      <td>-15939.217126</td>\n      <td>...</td>\n      <td>-12.755093</td>\n      <td>2.310367</td>\n      <td>122.908690</td>\n      <td>2.119032</td>\n      <td>18.355886</td>\n      <td>6.094510</td>\n      <td>12.261375</td>\n      <td>0.020270</td>\n      <td>0.020268</td>\n      <td>121.888494</td>\n    </tr>\n    <tr>\n      <th>4182</th>\n      <td>123.120000</td>\n      <td>9642937</td>\n      <td>6.740522e+08</td>\n      <td>-305516541</td>\n      <td>0.047963</td>\n      <td>1.969794e+06</td>\n      <td>80.073040</td>\n      <td>-1.143532</td>\n      <td>2.363851</td>\n      <td>-17375.126538</td>\n      <td>...</td>\n      <td>-19.329954</td>\n      <td>2.313878</td>\n      <td>122.942765</td>\n      <td>1.836228</td>\n      <td>17.232556</td>\n      <td>8.322119</td>\n      <td>8.910436</td>\n      <td>-0.202645</td>\n      <td>-0.202850</td>\n      <td>121.438849</td>\n    </tr>\n  </tbody>\n</table>\n<p>4183 rows × 85 columns</p>\n</div>"
     },
     "execution_count": 65,
     "metadata": {},
     "output_type": "execute_result"
    }
   ],
   "source": [
    "data"
   ],
   "metadata": {
    "collapsed": false,
    "pycharm": {
     "name": "#%%\n"
    }
   }
  },
  {
   "cell_type": "code",
   "execution_count": 66,
   "outputs": [
    {
     "data": {
      "text/plain": "Index(['close', 'volume', 'volume_adi', 'volume_obv', 'volume_cmf',\n       'volume_fi', 'volume_mfi', 'volume_em', 'volume_sma_em', 'volume_vpt',\n       'volume_nvi', 'volume_vwap', 'volatility_atr', 'volatility_bbm',\n       'volatility_bbh', 'volatility_bbl', 'volatility_bbw', 'volatility_bbp',\n       'volatility_bbhi', 'volatility_bbli', 'volatility_kcc',\n       'volatility_kch', 'volatility_kcl', 'volatility_kcw', 'volatility_kcp',\n       'volatility_kchi', 'volatility_kcli', 'volatility_dcl',\n       'volatility_dch', 'volatility_dcm', 'volatility_dcw', 'volatility_dcp',\n       'volatility_ui', 'trend_macd', 'trend_macd_signal', 'trend_macd_diff',\n       'trend_sma_fast', 'trend_sma_slow', 'trend_ema_fast', 'trend_ema_slow',\n       'trend_adx', 'trend_adx_pos', 'trend_adx_neg', 'trend_vortex_ind_pos',\n       'trend_vortex_ind_neg', 'trend_vortex_ind_diff', 'trend_trix',\n       'trend_mass_index', 'trend_cci', 'trend_dpo', 'trend_kst',\n       'trend_kst_sig', 'trend_kst_diff', 'trend_ichimoku_conv',\n       'trend_ichimoku_base', 'trend_ichimoku_a', 'trend_ichimoku_b',\n       'trend_visual_ichimoku_a', 'trend_visual_ichimoku_b', 'trend_aroon_up',\n       'trend_aroon_down', 'trend_aroon_ind', 'trend_psar_up',\n       'trend_psar_down', 'trend_psar_up_indicator',\n       'trend_psar_down_indicator', 'trend_stc', 'momentum_rsi',\n       'momentum_stoch_rsi', 'momentum_stoch_rsi_k', 'momentum_stoch_rsi_d',\n       'momentum_tsi', 'momentum_uo', 'momentum_stoch',\n       'momentum_stoch_signal', 'momentum_wr', 'momentum_ao', 'momentum_kama',\n       'momentum_roc', 'momentum_ppo', 'momentum_ppo_signal',\n       'momentum_ppo_hist', 'others_dr', 'others_dlr', 'others_cr'],\n      dtype='object')"
     },
     "execution_count": 66,
     "metadata": {},
     "output_type": "execute_result"
    }
   ],
   "source": [
    "data.columns"
   ],
   "metadata": {
    "collapsed": false,
    "pycharm": {
     "name": "#%%\n"
    }
   }
  },
  {
   "cell_type": "code",
   "execution_count": 67,
   "outputs": [],
   "source": [
    "def create_class_column(row):\n",
    "    if row['close_shift']-row['close'] > 1.5:\n",
    "        return 1\n",
    "    if row['close_shift'] -row['close']< -1.5:\n",
    "        return -1\n",
    "    else:\n",
    "        return 0"
   ],
   "metadata": {
    "collapsed": false,
    "pycharm": {
     "name": "#%%\n"
    }
   }
  },
  {
   "cell_type": "code",
   "execution_count": 68,
   "outputs": [
    {
     "data": {
      "text/plain": "           close    volume    volume_adi  volume_obv  volume_cmf  \\\n0      55.600000         0 -0.000000e+00           0    0.000000   \n1      55.700000         0 -0.000000e+00           0    0.000000   \n2      56.247500         0  0.000000e+00           0    0.000000   \n3      56.595000         0  0.000000e+00           0    0.000000   \n4      57.812500         0  0.000000e+00           0    0.000000   \n...          ...       ...           ...         ...         ...   \n4178  123.091103  12373575  6.772166e+08  -304635341   -0.032093   \n4179  123.542000   9430925  6.814015e+08  -295204416    0.073995   \n4180  123.345001  11354023  6.727190e+08  -306558439   -0.022353   \n4181  123.370003  10684835  6.749298e+08  -295873604    0.039436   \n4182  123.120000   9642937  6.740522e+08  -305516541    0.047963   \n\n         volume_fi  volume_mfi  volume_em  volume_sma_em    volume_vpt  ...  \\\n0     0.000000e+00   50.000000   0.000000       0.000000  -2420.049334  ...   \n1     0.000000e+00   50.000000   0.000000       0.000000      0.000000  ...   \n2     0.000000e+00   50.000000   0.000000       0.000000      0.000000  ...   \n3     0.000000e+00   50.000000   0.000000       0.000000      0.000000  ...   \n4     0.000000e+00   50.000000   0.000000       0.000000      0.000000  ...   \n...            ...         ...        ...            ...           ...  ...   \n4178  3.952908e+06  100.000000   3.539772       5.152305  48528.334990  ...   \n4179  3.995690e+06  100.000000  -0.033912       4.115061    572.870640  ...   \n4180  3.105345e+06  100.000000   0.903980       3.579881  16441.600479  ...   \n4181  2.699886e+06   88.424942  -1.424946       2.864906 -15939.217126  ...   \n4182  1.969794e+06   80.073040  -1.143532       2.363851 -17375.126538  ...   \n\n      momentum_ao  momentum_kama  momentum_roc  momentum_ppo  \\\n0        0.000000      55.600000      0.000000      0.000000   \n1        0.000000      55.641486      0.000000      0.000000   \n2        0.000000      55.895109      0.000000      0.000000   \n3        0.000000      56.185689      0.000000      0.000000   \n4        0.000000      56.833695      0.000000      0.000000   \n...           ...            ...           ...           ...   \n4178     1.307150     122.417025      2.550281     17.274375   \n4179     1.853018     122.683125      2.960247     17.006940   \n4180     2.216141     122.806622      2.770373     18.299709   \n4181     2.310367     122.908690      2.119032     18.355886   \n4182     2.313878     122.942765      1.836228     17.232556   \n\n      momentum_ppo_signal  momentum_ppo_hist  others_dr  others_dlr  \\\n0                0.000000           0.000000 -47.864396    0.000000   \n1                0.000000           0.000000   0.179856    0.179695   \n2                0.000000           0.000000   0.982944    0.978145   \n3                0.000000           0.000000   0.617805    0.615905   \n4                0.000000           0.000000   2.151250    2.128437   \n...                   ...                ...        ...         ...   \n4178            -5.237322          22.511697  -0.274567   -0.274944   \n4179            -0.788469          17.795410   0.366312    0.365642   \n4180             3.029166          15.270543  -0.159459   -0.159586   \n4181             6.094510          12.261375   0.020270    0.020268   \n4182             8.322119           8.910436  -0.202645   -0.202850   \n\n       others_cr  close_shift  \n0       0.000000      56.8750  \n1       0.179856      58.4475  \n2       1.164568      58.5500  \n3       1.789568      59.2225  \n4       3.979317      58.3075  \n...          ...          ...  \n4178  121.386875          NaN  \n4179  122.197841          NaN  \n4180  121.843527          NaN  \n4181  121.888494          NaN  \n4182  121.438849          NaN  \n\n[4183 rows x 86 columns]",
      "text/html": "<div>\n<style scoped>\n    .dataframe tbody tr th:only-of-type {\n        vertical-align: middle;\n    }\n\n    .dataframe tbody tr th {\n        vertical-align: top;\n    }\n\n    .dataframe thead th {\n        text-align: right;\n    }\n</style>\n<table border=\"1\" class=\"dataframe\">\n  <thead>\n    <tr style=\"text-align: right;\">\n      <th></th>\n      <th>close</th>\n      <th>volume</th>\n      <th>volume_adi</th>\n      <th>volume_obv</th>\n      <th>volume_cmf</th>\n      <th>volume_fi</th>\n      <th>volume_mfi</th>\n      <th>volume_em</th>\n      <th>volume_sma_em</th>\n      <th>volume_vpt</th>\n      <th>...</th>\n      <th>momentum_ao</th>\n      <th>momentum_kama</th>\n      <th>momentum_roc</th>\n      <th>momentum_ppo</th>\n      <th>momentum_ppo_signal</th>\n      <th>momentum_ppo_hist</th>\n      <th>others_dr</th>\n      <th>others_dlr</th>\n      <th>others_cr</th>\n      <th>close_shift</th>\n    </tr>\n  </thead>\n  <tbody>\n    <tr>\n      <th>0</th>\n      <td>55.600000</td>\n      <td>0</td>\n      <td>-0.000000e+00</td>\n      <td>0</td>\n      <td>0.000000</td>\n      <td>0.000000e+00</td>\n      <td>50.000000</td>\n      <td>0.000000</td>\n      <td>0.000000</td>\n      <td>-2420.049334</td>\n      <td>...</td>\n      <td>0.000000</td>\n      <td>55.600000</td>\n      <td>0.000000</td>\n      <td>0.000000</td>\n      <td>0.000000</td>\n      <td>0.000000</td>\n      <td>-47.864396</td>\n      <td>0.000000</td>\n      <td>0.000000</td>\n      <td>56.8750</td>\n    </tr>\n    <tr>\n      <th>1</th>\n      <td>55.700000</td>\n      <td>0</td>\n      <td>-0.000000e+00</td>\n      <td>0</td>\n      <td>0.000000</td>\n      <td>0.000000e+00</td>\n      <td>50.000000</td>\n      <td>0.000000</td>\n      <td>0.000000</td>\n      <td>0.000000</td>\n      <td>...</td>\n      <td>0.000000</td>\n      <td>55.641486</td>\n      <td>0.000000</td>\n      <td>0.000000</td>\n      <td>0.000000</td>\n      <td>0.000000</td>\n      <td>0.179856</td>\n      <td>0.179695</td>\n      <td>0.179856</td>\n      <td>58.4475</td>\n    </tr>\n    <tr>\n      <th>2</th>\n      <td>56.247500</td>\n      <td>0</td>\n      <td>0.000000e+00</td>\n      <td>0</td>\n      <td>0.000000</td>\n      <td>0.000000e+00</td>\n      <td>50.000000</td>\n      <td>0.000000</td>\n      <td>0.000000</td>\n      <td>0.000000</td>\n      <td>...</td>\n      <td>0.000000</td>\n      <td>55.895109</td>\n      <td>0.000000</td>\n      <td>0.000000</td>\n      <td>0.000000</td>\n      <td>0.000000</td>\n      <td>0.982944</td>\n      <td>0.978145</td>\n      <td>1.164568</td>\n      <td>58.5500</td>\n    </tr>\n    <tr>\n      <th>3</th>\n      <td>56.595000</td>\n      <td>0</td>\n      <td>0.000000e+00</td>\n      <td>0</td>\n      <td>0.000000</td>\n      <td>0.000000e+00</td>\n      <td>50.000000</td>\n      <td>0.000000</td>\n      <td>0.000000</td>\n      <td>0.000000</td>\n      <td>...</td>\n      <td>0.000000</td>\n      <td>56.185689</td>\n      <td>0.000000</td>\n      <td>0.000000</td>\n      <td>0.000000</td>\n      <td>0.000000</td>\n      <td>0.617805</td>\n      <td>0.615905</td>\n      <td>1.789568</td>\n      <td>59.2225</td>\n    </tr>\n    <tr>\n      <th>4</th>\n      <td>57.812500</td>\n      <td>0</td>\n      <td>0.000000e+00</td>\n      <td>0</td>\n      <td>0.000000</td>\n      <td>0.000000e+00</td>\n      <td>50.000000</td>\n      <td>0.000000</td>\n      <td>0.000000</td>\n      <td>0.000000</td>\n      <td>...</td>\n      <td>0.000000</td>\n      <td>56.833695</td>\n      <td>0.000000</td>\n      <td>0.000000</td>\n      <td>0.000000</td>\n      <td>0.000000</td>\n      <td>2.151250</td>\n      <td>2.128437</td>\n      <td>3.979317</td>\n      <td>58.3075</td>\n    </tr>\n    <tr>\n      <th>...</th>\n      <td>...</td>\n      <td>...</td>\n      <td>...</td>\n      <td>...</td>\n      <td>...</td>\n      <td>...</td>\n      <td>...</td>\n      <td>...</td>\n      <td>...</td>\n      <td>...</td>\n      <td>...</td>\n      <td>...</td>\n      <td>...</td>\n      <td>...</td>\n      <td>...</td>\n      <td>...</td>\n      <td>...</td>\n      <td>...</td>\n      <td>...</td>\n      <td>...</td>\n      <td>...</td>\n    </tr>\n    <tr>\n      <th>4178</th>\n      <td>123.091103</td>\n      <td>12373575</td>\n      <td>6.772166e+08</td>\n      <td>-304635341</td>\n      <td>-0.032093</td>\n      <td>3.952908e+06</td>\n      <td>100.000000</td>\n      <td>3.539772</td>\n      <td>5.152305</td>\n      <td>48528.334990</td>\n      <td>...</td>\n      <td>1.307150</td>\n      <td>122.417025</td>\n      <td>2.550281</td>\n      <td>17.274375</td>\n      <td>-5.237322</td>\n      <td>22.511697</td>\n      <td>-0.274567</td>\n      <td>-0.274944</td>\n      <td>121.386875</td>\n      <td>NaN</td>\n    </tr>\n    <tr>\n      <th>4179</th>\n      <td>123.542000</td>\n      <td>9430925</td>\n      <td>6.814015e+08</td>\n      <td>-295204416</td>\n      <td>0.073995</td>\n      <td>3.995690e+06</td>\n      <td>100.000000</td>\n      <td>-0.033912</td>\n      <td>4.115061</td>\n      <td>572.870640</td>\n      <td>...</td>\n      <td>1.853018</td>\n      <td>122.683125</td>\n      <td>2.960247</td>\n      <td>17.006940</td>\n      <td>-0.788469</td>\n      <td>17.795410</td>\n      <td>0.366312</td>\n      <td>0.365642</td>\n      <td>122.197841</td>\n      <td>NaN</td>\n    </tr>\n    <tr>\n      <th>4180</th>\n      <td>123.345001</td>\n      <td>11354023</td>\n      <td>6.727190e+08</td>\n      <td>-306558439</td>\n      <td>-0.022353</td>\n      <td>3.105345e+06</td>\n      <td>100.000000</td>\n      <td>0.903980</td>\n      <td>3.579881</td>\n      <td>16441.600479</td>\n      <td>...</td>\n      <td>2.216141</td>\n      <td>122.806622</td>\n      <td>2.770373</td>\n      <td>18.299709</td>\n      <td>3.029166</td>\n      <td>15.270543</td>\n      <td>-0.159459</td>\n      <td>-0.159586</td>\n      <td>121.843527</td>\n      <td>NaN</td>\n    </tr>\n    <tr>\n      <th>4181</th>\n      <td>123.370003</td>\n      <td>10684835</td>\n      <td>6.749298e+08</td>\n      <td>-295873604</td>\n      <td>0.039436</td>\n      <td>2.699886e+06</td>\n      <td>88.424942</td>\n      <td>-1.424946</td>\n      <td>2.864906</td>\n      <td>-15939.217126</td>\n      <td>...</td>\n      <td>2.310367</td>\n      <td>122.908690</td>\n      <td>2.119032</td>\n      <td>18.355886</td>\n      <td>6.094510</td>\n      <td>12.261375</td>\n      <td>0.020270</td>\n      <td>0.020268</td>\n      <td>121.888494</td>\n      <td>NaN</td>\n    </tr>\n    <tr>\n      <th>4182</th>\n      <td>123.120000</td>\n      <td>9642937</td>\n      <td>6.740522e+08</td>\n      <td>-305516541</td>\n      <td>0.047963</td>\n      <td>1.969794e+06</td>\n      <td>80.073040</td>\n      <td>-1.143532</td>\n      <td>2.363851</td>\n      <td>-17375.126538</td>\n      <td>...</td>\n      <td>2.313878</td>\n      <td>122.942765</td>\n      <td>1.836228</td>\n      <td>17.232556</td>\n      <td>8.322119</td>\n      <td>8.910436</td>\n      <td>-0.202645</td>\n      <td>-0.202850</td>\n      <td>121.438849</td>\n      <td>NaN</td>\n    </tr>\n  </tbody>\n</table>\n<p>4183 rows × 86 columns</p>\n</div>"
     },
     "execution_count": 68,
     "metadata": {},
     "output_type": "execute_result"
    }
   ],
   "source": [
    "data['close_shift'] = data.shift(-WINDOW)['close']\n",
    "data"
   ],
   "metadata": {
    "collapsed": false,
    "pycharm": {
     "name": "#%%\n"
    }
   }
  },
  {
   "cell_type": "code",
   "execution_count": 69,
   "outputs": [
    {
     "data": {
      "text/plain": "           close    volume    volume_adi  volume_obv  volume_cmf  \\\n0      55.600000         0 -0.000000e+00           0    0.000000   \n1      55.700000         0 -0.000000e+00           0    0.000000   \n2      56.247500         0  0.000000e+00           0    0.000000   \n3      56.595000         0  0.000000e+00           0    0.000000   \n4      57.812500         0  0.000000e+00           0    0.000000   \n...          ...       ...           ...         ...         ...   \n4178  123.091103  12373575  6.772166e+08  -304635341   -0.032093   \n4179  123.542000   9430925  6.814015e+08  -295204416    0.073995   \n4180  123.345001  11354023  6.727190e+08  -306558439   -0.022353   \n4181  123.370003  10684835  6.749298e+08  -295873604    0.039436   \n4182  123.120000   9642937  6.740522e+08  -305516541    0.047963   \n\n         volume_fi  volume_mfi  volume_em  volume_sma_em    volume_vpt  ...  \\\n0     0.000000e+00   50.000000   0.000000       0.000000  -2420.049334  ...   \n1     0.000000e+00   50.000000   0.000000       0.000000      0.000000  ...   \n2     0.000000e+00   50.000000   0.000000       0.000000      0.000000  ...   \n3     0.000000e+00   50.000000   0.000000       0.000000      0.000000  ...   \n4     0.000000e+00   50.000000   0.000000       0.000000      0.000000  ...   \n...            ...         ...        ...            ...           ...  ...   \n4178  3.952908e+06  100.000000   3.539772       5.152305  48528.334990  ...   \n4179  3.995690e+06  100.000000  -0.033912       4.115061    572.870640  ...   \n4180  3.105345e+06  100.000000   0.903980       3.579881  16441.600479  ...   \n4181  2.699886e+06   88.424942  -1.424946       2.864906 -15939.217126  ...   \n4182  1.969794e+06   80.073040  -1.143532       2.363851 -17375.126538  ...   \n\n      momentum_kama  momentum_roc  momentum_ppo  momentum_ppo_signal  \\\n0         55.600000      0.000000      0.000000             0.000000   \n1         55.641486      0.000000      0.000000             0.000000   \n2         55.895109      0.000000      0.000000             0.000000   \n3         56.185689      0.000000      0.000000             0.000000   \n4         56.833695      0.000000      0.000000             0.000000   \n...             ...           ...           ...                  ...   \n4178     122.417025      2.550281     17.274375            -5.237322   \n4179     122.683125      2.960247     17.006940            -0.788469   \n4180     122.806622      2.770373     18.299709             3.029166   \n4181     122.908690      2.119032     18.355886             6.094510   \n4182     122.942765      1.836228     17.232556             8.322119   \n\n      momentum_ppo_hist  others_dr  others_dlr   others_cr  close_shift  \\\n0              0.000000 -47.864396    0.000000    0.000000      56.8750   \n1              0.000000   0.179856    0.179695    0.179856      58.4475   \n2              0.000000   0.982944    0.978145    1.164568      58.5500   \n3              0.000000   0.617805    0.615905    1.789568      59.2225   \n4              0.000000   2.151250    2.128437    3.979317      58.3075   \n...                 ...        ...         ...         ...          ...   \n4178          22.511697  -0.274567   -0.274944  121.386875          NaN   \n4179          17.795410   0.366312    0.365642  122.197841          NaN   \n4180          15.270543  -0.159459   -0.159586  121.843527          NaN   \n4181          12.261375   0.020270    0.020268  121.888494          NaN   \n4182           8.910436  -0.202645   -0.202850  121.438849          NaN   \n\n      class_column  \n0                0  \n1                1  \n2                1  \n3                1  \n4                0  \n...            ...  \n4178             0  \n4179             0  \n4180             0  \n4181             0  \n4182             0  \n\n[4183 rows x 87 columns]",
      "text/html": "<div>\n<style scoped>\n    .dataframe tbody tr th:only-of-type {\n        vertical-align: middle;\n    }\n\n    .dataframe tbody tr th {\n        vertical-align: top;\n    }\n\n    .dataframe thead th {\n        text-align: right;\n    }\n</style>\n<table border=\"1\" class=\"dataframe\">\n  <thead>\n    <tr style=\"text-align: right;\">\n      <th></th>\n      <th>close</th>\n      <th>volume</th>\n      <th>volume_adi</th>\n      <th>volume_obv</th>\n      <th>volume_cmf</th>\n      <th>volume_fi</th>\n      <th>volume_mfi</th>\n      <th>volume_em</th>\n      <th>volume_sma_em</th>\n      <th>volume_vpt</th>\n      <th>...</th>\n      <th>momentum_kama</th>\n      <th>momentum_roc</th>\n      <th>momentum_ppo</th>\n      <th>momentum_ppo_signal</th>\n      <th>momentum_ppo_hist</th>\n      <th>others_dr</th>\n      <th>others_dlr</th>\n      <th>others_cr</th>\n      <th>close_shift</th>\n      <th>class_column</th>\n    </tr>\n  </thead>\n  <tbody>\n    <tr>\n      <th>0</th>\n      <td>55.600000</td>\n      <td>0</td>\n      <td>-0.000000e+00</td>\n      <td>0</td>\n      <td>0.000000</td>\n      <td>0.000000e+00</td>\n      <td>50.000000</td>\n      <td>0.000000</td>\n      <td>0.000000</td>\n      <td>-2420.049334</td>\n      <td>...</td>\n      <td>55.600000</td>\n      <td>0.000000</td>\n      <td>0.000000</td>\n      <td>0.000000</td>\n      <td>0.000000</td>\n      <td>-47.864396</td>\n      <td>0.000000</td>\n      <td>0.000000</td>\n      <td>56.8750</td>\n      <td>0</td>\n    </tr>\n    <tr>\n      <th>1</th>\n      <td>55.700000</td>\n      <td>0</td>\n      <td>-0.000000e+00</td>\n      <td>0</td>\n      <td>0.000000</td>\n      <td>0.000000e+00</td>\n      <td>50.000000</td>\n      <td>0.000000</td>\n      <td>0.000000</td>\n      <td>0.000000</td>\n      <td>...</td>\n      <td>55.641486</td>\n      <td>0.000000</td>\n      <td>0.000000</td>\n      <td>0.000000</td>\n      <td>0.000000</td>\n      <td>0.179856</td>\n      <td>0.179695</td>\n      <td>0.179856</td>\n      <td>58.4475</td>\n      <td>1</td>\n    </tr>\n    <tr>\n      <th>2</th>\n      <td>56.247500</td>\n      <td>0</td>\n      <td>0.000000e+00</td>\n      <td>0</td>\n      <td>0.000000</td>\n      <td>0.000000e+00</td>\n      <td>50.000000</td>\n      <td>0.000000</td>\n      <td>0.000000</td>\n      <td>0.000000</td>\n      <td>...</td>\n      <td>55.895109</td>\n      <td>0.000000</td>\n      <td>0.000000</td>\n      <td>0.000000</td>\n      <td>0.000000</td>\n      <td>0.982944</td>\n      <td>0.978145</td>\n      <td>1.164568</td>\n      <td>58.5500</td>\n      <td>1</td>\n    </tr>\n    <tr>\n      <th>3</th>\n      <td>56.595000</td>\n      <td>0</td>\n      <td>0.000000e+00</td>\n      <td>0</td>\n      <td>0.000000</td>\n      <td>0.000000e+00</td>\n      <td>50.000000</td>\n      <td>0.000000</td>\n      <td>0.000000</td>\n      <td>0.000000</td>\n      <td>...</td>\n      <td>56.185689</td>\n      <td>0.000000</td>\n      <td>0.000000</td>\n      <td>0.000000</td>\n      <td>0.000000</td>\n      <td>0.617805</td>\n      <td>0.615905</td>\n      <td>1.789568</td>\n      <td>59.2225</td>\n      <td>1</td>\n    </tr>\n    <tr>\n      <th>4</th>\n      <td>57.812500</td>\n      <td>0</td>\n      <td>0.000000e+00</td>\n      <td>0</td>\n      <td>0.000000</td>\n      <td>0.000000e+00</td>\n      <td>50.000000</td>\n      <td>0.000000</td>\n      <td>0.000000</td>\n      <td>0.000000</td>\n      <td>...</td>\n      <td>56.833695</td>\n      <td>0.000000</td>\n      <td>0.000000</td>\n      <td>0.000000</td>\n      <td>0.000000</td>\n      <td>2.151250</td>\n      <td>2.128437</td>\n      <td>3.979317</td>\n      <td>58.3075</td>\n      <td>0</td>\n    </tr>\n    <tr>\n      <th>...</th>\n      <td>...</td>\n      <td>...</td>\n      <td>...</td>\n      <td>...</td>\n      <td>...</td>\n      <td>...</td>\n      <td>...</td>\n      <td>...</td>\n      <td>...</td>\n      <td>...</td>\n      <td>...</td>\n      <td>...</td>\n      <td>...</td>\n      <td>...</td>\n      <td>...</td>\n      <td>...</td>\n      <td>...</td>\n      <td>...</td>\n      <td>...</td>\n      <td>...</td>\n      <td>...</td>\n    </tr>\n    <tr>\n      <th>4178</th>\n      <td>123.091103</td>\n      <td>12373575</td>\n      <td>6.772166e+08</td>\n      <td>-304635341</td>\n      <td>-0.032093</td>\n      <td>3.952908e+06</td>\n      <td>100.000000</td>\n      <td>3.539772</td>\n      <td>5.152305</td>\n      <td>48528.334990</td>\n      <td>...</td>\n      <td>122.417025</td>\n      <td>2.550281</td>\n      <td>17.274375</td>\n      <td>-5.237322</td>\n      <td>22.511697</td>\n      <td>-0.274567</td>\n      <td>-0.274944</td>\n      <td>121.386875</td>\n      <td>NaN</td>\n      <td>0</td>\n    </tr>\n    <tr>\n      <th>4179</th>\n      <td>123.542000</td>\n      <td>9430925</td>\n      <td>6.814015e+08</td>\n      <td>-295204416</td>\n      <td>0.073995</td>\n      <td>3.995690e+06</td>\n      <td>100.000000</td>\n      <td>-0.033912</td>\n      <td>4.115061</td>\n      <td>572.870640</td>\n      <td>...</td>\n      <td>122.683125</td>\n      <td>2.960247</td>\n      <td>17.006940</td>\n      <td>-0.788469</td>\n      <td>17.795410</td>\n      <td>0.366312</td>\n      <td>0.365642</td>\n      <td>122.197841</td>\n      <td>NaN</td>\n      <td>0</td>\n    </tr>\n    <tr>\n      <th>4180</th>\n      <td>123.345001</td>\n      <td>11354023</td>\n      <td>6.727190e+08</td>\n      <td>-306558439</td>\n      <td>-0.022353</td>\n      <td>3.105345e+06</td>\n      <td>100.000000</td>\n      <td>0.903980</td>\n      <td>3.579881</td>\n      <td>16441.600479</td>\n      <td>...</td>\n      <td>122.806622</td>\n      <td>2.770373</td>\n      <td>18.299709</td>\n      <td>3.029166</td>\n      <td>15.270543</td>\n      <td>-0.159459</td>\n      <td>-0.159586</td>\n      <td>121.843527</td>\n      <td>NaN</td>\n      <td>0</td>\n    </tr>\n    <tr>\n      <th>4181</th>\n      <td>123.370003</td>\n      <td>10684835</td>\n      <td>6.749298e+08</td>\n      <td>-295873604</td>\n      <td>0.039436</td>\n      <td>2.699886e+06</td>\n      <td>88.424942</td>\n      <td>-1.424946</td>\n      <td>2.864906</td>\n      <td>-15939.217126</td>\n      <td>...</td>\n      <td>122.908690</td>\n      <td>2.119032</td>\n      <td>18.355886</td>\n      <td>6.094510</td>\n      <td>12.261375</td>\n      <td>0.020270</td>\n      <td>0.020268</td>\n      <td>121.888494</td>\n      <td>NaN</td>\n      <td>0</td>\n    </tr>\n    <tr>\n      <th>4182</th>\n      <td>123.120000</td>\n      <td>9642937</td>\n      <td>6.740522e+08</td>\n      <td>-305516541</td>\n      <td>0.047963</td>\n      <td>1.969794e+06</td>\n      <td>80.073040</td>\n      <td>-1.143532</td>\n      <td>2.363851</td>\n      <td>-17375.126538</td>\n      <td>...</td>\n      <td>122.942765</td>\n      <td>1.836228</td>\n      <td>17.232556</td>\n      <td>8.322119</td>\n      <td>8.910436</td>\n      <td>-0.202645</td>\n      <td>-0.202850</td>\n      <td>121.438849</td>\n      <td>NaN</td>\n      <td>0</td>\n    </tr>\n  </tbody>\n</table>\n<p>4183 rows × 87 columns</p>\n</div>"
     },
     "execution_count": 69,
     "metadata": {},
     "output_type": "execute_result"
    }
   ],
   "source": [
    "data['class_column'] = data.apply(create_class_column, axis=1)\n",
    "data"
   ],
   "metadata": {
    "collapsed": false,
    "pycharm": {
     "name": "#%%\n"
    }
   }
  },
  {
   "cell_type": "code",
   "execution_count": 70,
   "outputs": [
    {
     "data": {
      "text/plain": " 0    2289\n 1    1105\n-1     789\nName: class_column, dtype: int64"
     },
     "execution_count": 70,
     "metadata": {},
     "output_type": "execute_result"
    }
   ],
   "source": [
    "# Class divide\n",
    "data['class_column'].value_counts()"
   ],
   "metadata": {
    "collapsed": false,
    "pycharm": {
     "name": "#%%\n"
    }
   }
  },
  {
   "cell_type": "code",
   "execution_count": 71,
   "outputs": [],
   "source": [
    "del (data['close'])\n",
    "del (data['close_shift'])\n",
    "data = data.dropna()"
   ],
   "metadata": {
    "collapsed": false,
    "pycharm": {
     "name": "#%%\n"
    }
   }
  },
  {
   "cell_type": "code",
   "execution_count": 72,
   "outputs": [
    {
     "data": {
      "text/plain": " 0    2289\n 1    1105\n-1     789\nName: class_column, dtype: int64"
     },
     "execution_count": 72,
     "metadata": {},
     "output_type": "execute_result"
    }
   ],
   "source": [
    "data['class_column'].value_counts()\n"
   ],
   "metadata": {
    "collapsed": false,
    "pycharm": {
     "name": "#%%\n"
    }
   }
  },
  {
   "cell_type": "code",
   "execution_count": 73,
   "outputs": [],
   "source": [
    "def train_model(model,train_x, train_y):\n",
    "    model.fit(train_x, train_y)\n",
    "\n",
    "def init_classifiers():\n",
    "    classifiers['DecisionTreeClassifier 1'] = DecisionTreeClassifier(max_depth=10, random_state=0,criterion='gini',splitter='best')\n",
    "    classifiers['DecisionTreeClassifier 2'] = DecisionTreeClassifier(max_depth=10, random_state=0,criterion='gini',splitter='random')\n",
    "    classifiers['DecisionTreeClassifier 3'] = DecisionTreeClassifier(max_depth=10, random_state=0,criterion='entropy',splitter='best')\n",
    "    classifiers['RandomForestClassifier 4'] = RandomForestClassifier(n_estimators=1000, max_depth=3, random_state=0,criterion='gini', n_jobs = -1)\n",
    "    classifiers['RandomForestClassifier 5'] = RandomForestClassifier(n_estimators=100, max_depth=2, random_state=0,criterion='entropy', n_jobs = -1)\n",
    "    classifiers['GradientBoostingClassifier 1'] = GradientBoostingClassifier(n_estimators=100,random_state=0,criterion='friedman_mse',max_depth=3, learning_rate=0.1)\n",
    "    classifiers['GradientBoostingClassifier 2'] = GradientBoostingClassifier(n_estimators=1000,random_state=0,criterion='friedman_mse',max_depth=3, learning_rate=0.1)"
   ],
   "metadata": {
    "collapsed": false,
    "pycharm": {
     "name": "#%%\n"
    }
   }
  },
  {
   "cell_type": "code",
   "execution_count": 74,
   "outputs": [
    {
     "name": "stdout",
     "output_type": "stream",
     "text": [
      "step:  0 500\n",
      " 0    300\n",
      " 1    140\n",
      "-1     60\n",
      "Name: class_column, dtype: int64\n",
      "Calculate:  DecisionTreeClassifier 1\n",
      "Calculate:  DecisionTreeClassifier 2\n",
      "Calculate:  DecisionTreeClassifier 3\n",
      "Calculate:  RandomForestClassifier 4\n",
      "Calculate:  RandomForestClassifier 5\n",
      "Calculate:  GradientBoostingClassifier 1\n",
      "Calculate:  GradientBoostingClassifier 2\n",
      "step:  250 750\n",
      " 0    385\n",
      " 1     78\n",
      "-1     37\n",
      "Name: class_column, dtype: int64\n",
      "Calculate:  DecisionTreeClassifier 1\n",
      "Calculate:  DecisionTreeClassifier 2\n",
      "Calculate:  DecisionTreeClassifier 3\n",
      "Calculate:  RandomForestClassifier 4\n",
      "Calculate:  RandomForestClassifier 5\n",
      "Calculate:  GradientBoostingClassifier 1\n",
      "Calculate:  GradientBoostingClassifier 2\n",
      "step:  500 1000\n",
      " 0    377\n",
      " 1     93\n",
      "-1     30\n",
      "Name: class_column, dtype: int64\n",
      "Calculate:  DecisionTreeClassifier 1\n",
      "Calculate:  DecisionTreeClassifier 2\n",
      "Calculate:  DecisionTreeClassifier 3\n",
      "Calculate:  RandomForestClassifier 4\n",
      "Calculate:  RandomForestClassifier 5\n",
      "Calculate:  GradientBoostingClassifier 1\n",
      "Calculate:  GradientBoostingClassifier 2\n",
      "step:  750 1250\n",
      " 0    354\n",
      " 1    110\n",
      "-1     36\n",
      "Name: class_column, dtype: int64\n",
      "Calculate:  DecisionTreeClassifier 1\n",
      "Calculate:  DecisionTreeClassifier 2\n",
      "Calculate:  DecisionTreeClassifier 3\n",
      "Calculate:  RandomForestClassifier 4\n",
      "Calculate:  RandomForestClassifier 5\n",
      "Calculate:  GradientBoostingClassifier 1\n",
      "Calculate:  GradientBoostingClassifier 2\n",
      "step:  1000 1500\n",
      " 0    328\n",
      " 1    113\n",
      "-1     59\n",
      "Name: class_column, dtype: int64\n",
      "Calculate:  DecisionTreeClassifier 1\n",
      "Calculate:  DecisionTreeClassifier 2\n",
      "Calculate:  DecisionTreeClassifier 3\n",
      "Calculate:  RandomForestClassifier 4\n",
      "Calculate:  RandomForestClassifier 5\n",
      "Calculate:  GradientBoostingClassifier 1\n",
      "Calculate:  GradientBoostingClassifier 2\n",
      "step:  1250 1750\n",
      " 0    278\n",
      " 1    156\n",
      "-1     66\n",
      "Name: class_column, dtype: int64\n",
      "Calculate:  DecisionTreeClassifier 1\n",
      "Calculate:  DecisionTreeClassifier 2\n",
      "Calculate:  DecisionTreeClassifier 3\n",
      "Calculate:  RandomForestClassifier 4\n",
      "Calculate:  RandomForestClassifier 5\n",
      "Calculate:  GradientBoostingClassifier 1\n",
      "Calculate:  GradientBoostingClassifier 2\n",
      "step:  1500 2000\n",
      " 0    230\n",
      " 1    183\n",
      "-1     87\n",
      "Name: class_column, dtype: int64\n",
      "Calculate:  DecisionTreeClassifier 1\n",
      "Calculate:  DecisionTreeClassifier 2\n",
      "Calculate:  DecisionTreeClassifier 3\n",
      "Calculate:  RandomForestClassifier 4\n",
      "Calculate:  RandomForestClassifier 5\n",
      "Calculate:  GradientBoostingClassifier 1\n",
      "Calculate:  GradientBoostingClassifier 2\n",
      "step:  1750 2250\n",
      " 1    176\n",
      " 0    171\n",
      "-1    153\n",
      "Name: class_column, dtype: int64\n",
      "Calculate:  DecisionTreeClassifier 1\n",
      "Calculate:  DecisionTreeClassifier 2\n",
      "Calculate:  DecisionTreeClassifier 3\n",
      "Calculate:  RandomForestClassifier 4\n",
      "Calculate:  RandomForestClassifier 5\n",
      "Calculate:  GradientBoostingClassifier 1\n",
      "Calculate:  GradientBoostingClassifier 2\n",
      "step:  2000 2500\n",
      " 0    184\n",
      "-1    159\n",
      " 1    157\n",
      "Name: class_column, dtype: int64\n",
      "Calculate:  DecisionTreeClassifier 1\n",
      "Calculate:  DecisionTreeClassifier 2\n",
      "Calculate:  DecisionTreeClassifier 3\n",
      "Calculate:  RandomForestClassifier 4\n",
      "Calculate:  RandomForestClassifier 5\n",
      "Calculate:  GradientBoostingClassifier 1\n",
      "Calculate:  GradientBoostingClassifier 2\n",
      "step:  2250 2750\n",
      " 0    235\n",
      " 1    141\n",
      "-1    124\n",
      "Name: class_column, dtype: int64\n",
      "Calculate:  DecisionTreeClassifier 1\n",
      "Calculate:  DecisionTreeClassifier 2\n",
      "Calculate:  DecisionTreeClassifier 3\n",
      "Calculate:  RandomForestClassifier 4\n",
      "Calculate:  RandomForestClassifier 5\n",
      "Calculate:  GradientBoostingClassifier 1\n",
      "Calculate:  GradientBoostingClassifier 2\n",
      "step:  2500 3000\n",
      " 0    296\n",
      " 1    126\n",
      "-1     78\n",
      "Name: class_column, dtype: int64\n",
      "Calculate:  DecisionTreeClassifier 1\n",
      "Calculate:  DecisionTreeClassifier 2\n",
      "Calculate:  DecisionTreeClassifier 3\n",
      "Calculate:  RandomForestClassifier 4\n",
      "Calculate:  RandomForestClassifier 5\n",
      "Calculate:  GradientBoostingClassifier 1\n",
      "Calculate:  GradientBoostingClassifier 2\n",
      "step:  2750 3250\n",
      " 0    310\n",
      " 1    132\n",
      "-1     58\n",
      "Name: class_column, dtype: int64\n",
      "Calculate:  DecisionTreeClassifier 1\n",
      "Calculate:  DecisionTreeClassifier 2\n",
      "Calculate:  DecisionTreeClassifier 3\n",
      "Calculate:  RandomForestClassifier 4\n",
      "Calculate:  RandomForestClassifier 5\n",
      "Calculate:  GradientBoostingClassifier 1\n",
      "Calculate:  GradientBoostingClassifier 2\n",
      "step:  3000 3500\n",
      " 0    252\n",
      " 1    132\n",
      "-1    116\n",
      "Name: class_column, dtype: int64\n",
      "Calculate:  DecisionTreeClassifier 1\n",
      "Calculate:  DecisionTreeClassifier 2\n",
      "Calculate:  DecisionTreeClassifier 3\n",
      "Calculate:  RandomForestClassifier 4\n",
      "Calculate:  RandomForestClassifier 5\n",
      "Calculate:  GradientBoostingClassifier 1\n",
      "Calculate:  GradientBoostingClassifier 2\n",
      "step:  3250 3750\n",
      " 0    260\n",
      "-1    123\n",
      " 1    117\n",
      "Name: class_column, dtype: int64\n",
      "Calculate:  DecisionTreeClassifier 1\n",
      "Calculate:  DecisionTreeClassifier 2\n",
      "Calculate:  DecisionTreeClassifier 3\n",
      "Calculate:  RandomForestClassifier 4\n",
      "Calculate:  RandomForestClassifier 5\n",
      "Calculate:  GradientBoostingClassifier 1\n",
      "Calculate:  GradientBoostingClassifier 2\n",
      "step:  3500 4000\n",
      " 0    236\n",
      "-1    163\n",
      " 1    101\n",
      "Name: class_column, dtype: int64\n",
      "Calculate:  DecisionTreeClassifier 1\n",
      "Calculate:  DecisionTreeClassifier 2\n",
      "Calculate:  DecisionTreeClassifier 3\n",
      "Calculate:  RandomForestClassifier 4\n",
      "Calculate:  RandomForestClassifier 5\n",
      "Calculate:  GradientBoostingClassifier 1\n",
      "Calculate:  GradientBoostingClassifier 2\n",
      "step:  3750 4250\n",
      " 0    174\n",
      "-1    158\n",
      " 1    101\n",
      "Name: class_column, dtype: int64\n"
     ]
    }
   ],
   "source": [
    "\n",
    "features = [x for x in data.columns if x not in ['class_column']]\n",
    "num_step = 250 #  (len(data) / num_train  =  number of train-test sets\n",
    "len_set = 500 # Length of each train-test set\n",
    "\n",
    "score = defaultdict(list)\n",
    "step_headers = []\n",
    "i = 0\n",
    "\n",
    "while True:\n",
    "    df = data.iloc[i * num_step : (i * num_step) + len_set]\n",
    "    print(\"step: \", i * num_step, (i * num_step) + len_set)\n",
    "    print(df['class_column'].value_counts())\n",
    "    if len(df) < len_set:\n",
    "        break\n",
    "\n",
    "\n",
    "    step_headers.append(f'<{i * num_step, (i * num_step) + len_set}>')\n",
    "    y = df['class_column']\n",
    "    x = df[features]\n",
    "    x_train,x_test,y_train,y_test = train_test_split(x, y, test_size=0.33, shuffle=False)\n",
    "    classifiers = dict()\n",
    "    init_classifiers()\n",
    "    predictions= dict()\n",
    "    for k,v in classifiers.items():\n",
    "        print(\"Calculate: \", k)\n",
    "        train_model(v,x_train,y_train)\n",
    "        predictions[k] = v.predict(x_test)\n",
    "        score[k].append(accuracy_score(y_test.values, predictions[k]))\n",
    "\n",
    "    i += 1"
   ],
   "metadata": {
    "collapsed": false,
    "pycharm": {
     "name": "#%%\n"
    }
   }
  },
  {
   "cell_type": "code",
   "execution_count": 75,
   "outputs": [
    {
     "name": "stdout",
     "output_type": "stream",
     "text": [
      "+----+------------------------------+--------------+----------------+-----------------+-----------------+------------------+------------------+------------------+------------------+------------------+------------------+------------------+------------------+------------------+------------------+------------------+----------+\n",
      "|    | Classifier type              |   <(0, 500)> |   <(250, 750)> |   <(500, 1000)> |   <(750, 1250)> |   <(1000, 1500)> |   <(1250, 1750)> |   <(1500, 2000)> |   <(1750, 2250)> |   <(2000, 2500)> |   <(2250, 2750)> |   <(2500, 3000)> |   <(2750, 3250)> |   <(3000, 3500)> |   <(3250, 3750)> |   <(3500, 4000)> |     mean |\n",
      "|----+------------------------------+--------------+----------------+-----------------+-----------------+------------------+------------------+------------------+------------------+------------------+------------------+------------------+------------------+------------------+------------------+------------------+----------|\n",
      "|  0 | DecisionTreeClassifier 1     |     0.612121 |       0.315152 |        0.284848 |        0.418182 |         0.357576 |         0.49697  |         0.339394 |         0.4      |         0.6      |         0.290909 |         0.424242 |         0.442424 |         0.309091 |         0.321212 |         0.309091 | 0.394747 |\n",
      "|  1 | DecisionTreeClassifier 2     |     0.363636 |       0.551515 |        0.539394 |        0.606061 |         0.418182 |         0.545455 |         0.533333 |         0.363636 |         0.533333 |         0.4      |         0.509091 |         0.593939 |         0.284848 |         0.206061 |         0.375758 | 0.454949 |\n",
      "|  2 | DecisionTreeClassifier 3     |     0.484848 |       0.533333 |        0.490909 |        0.642424 |         0.212121 |         0.509091 |         0.339394 |         0.321212 |         0.436364 |         0.345455 |         0.448485 |         0.424242 |         0.4      |         0.339394 |         0.218182 | 0.409697 |\n",
      "|  3 | RandomForestClassifier 4     |     0.733333 |       0.763636 |        0.557576 |        0.751515 |         0.460606 |         0.581818 |         0.369697 |         0.272727 |         0.393939 |         0.278788 |         0.660606 |         0.557576 |         0.406061 |         0.121212 |         0.218182 | 0.475152 |\n",
      "|  4 | RandomForestClassifier 5     |     0.733333 |       0.757576 |        0.557576 |        0.775758 |         0.521212 |         0.581818 |         0.357576 |         0.169697 |         0.363636 |         0.30303  |         0.660606 |         0.557576 |         0.442424 |         0.169697 |         0.260606 | 0.480808 |\n",
      "|  5 | GradientBoostingClassifier 1 |     0.660606 |       0.442424 |        0.193939 |        0.266667 |         0.533333 |         0.4      |         0.4      |         0.406061 |         0.418182 |         0.29697  |         0.363636 |         0.551515 |         0.424242 |         0.2      |         0.430303 | 0.399192 |\n",
      "|  6 | GradientBoostingClassifier 2 |     0.533333 |       0.357576 |        0.193939 |        0.260606 |         0.50303  |         0.2      |         0.50303  |         0.430303 |         0.406061 |         0.333333 |         0.430303 |         0.466667 |         0.424242 |         0.266667 |         0.478788 | 0.385859 |\n",
      "+----+------------------------------+--------------+----------------+-----------------+-----------------+------------------+------------------+------------------+------------------+------------------+------------------+------------------+------------------+------------------+------------------+------------------+----------+\n"
     ]
    }
   ],
   "source": [
    "# print(score['DecisionTreeClassifier 1'])\n",
    "# print(score['DecisionTreeClassifier 2'])\n",
    "\n",
    "headers = [\"Classifier type\", \"Accuracy\"]\n",
    "score_df = pd.DataFrame(score.items(), columns=headers)\n",
    "# print(tabulate(score_df, headers, tablefmt=\"psql\"))\n",
    "headers2 = [\"Classifier type\",] + step_headers\n",
    "score_df = pd.DataFrame(score.items(), columns=headers)\n",
    "accuracy_df = pd.DataFrame(score_df['Accuracy'].tolist(), index= score_df.index, columns=step_headers)\n",
    "score_df = score_df.drop('Accuracy', 1)\n",
    "f_out = pd.merge(score_df, accuracy_df, how='left', left_index=True, right_index=True)\n",
    "f_out['mean'] = f_out.mean(axis=1)\n",
    "headers2 = headers2 + ['mean']\n",
    "print(tabulate(f_out,headers2 , tablefmt=\"psql\"))"
   ],
   "metadata": {
    "collapsed": false,
    "pycharm": {
     "name": "#%%\n"
    }
   }
  },
  {
   "cell_type": "code",
   "execution_count": 76,
   "outputs": [],
   "source": [
    "filename_to_export = f'../data/results/{symbol}_1_{WINDOW}_n_fold_{num_step}_{len_set}_{ datetime.now().strftime(\"%d_%m_%Y %H_%M_%S\")}.csv'\n",
    "f_out.to_csv(filename_to_export, index=False)\n",
    "\n"
   ],
   "metadata": {
    "collapsed": false,
    "pycharm": {
     "name": "#%%\n"
    }
   }
  },
  {
   "cell_type": "code",
   "execution_count": 76,
   "outputs": [],
   "source": [],
   "metadata": {
    "collapsed": false,
    "pycharm": {
     "name": "#%%\n"
    }
   }
  }
 ],
 "metadata": {
  "kernelspec": {
   "name": "magisterka_analiza",
   "language": "python",
   "display_name": "Python magisterka"
  },
  "language_info": {
   "codemirror_mode": {
    "name": "ipython",
    "version": 2
   },
   "file_extension": ".py",
   "mimetype": "text/x-python",
   "name": "python",
   "nbconvert_exporter": "python",
   "pygments_lexer": "ipython2",
   "version": "2.7.6"
  }
 },
 "nbformat": 4,
 "nbformat_minor": 0
}