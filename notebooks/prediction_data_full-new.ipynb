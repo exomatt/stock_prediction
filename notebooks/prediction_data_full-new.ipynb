{
 "cells": [
  {
   "cell_type": "code",
   "execution_count": 281,
   "outputs": [],
   "source": [
    "import yfinance as yf\n",
    "from datetime import datetime\n",
    "import pandas as pd\n",
    "import numpy as np\n",
    "import matplotlib.pyplot as plt\n",
    "from finta import TA\n",
    "import numpy as np\n",
    "from sklearn.ensemble import RandomForestClassifier, VotingClassifier\n",
    "from sklearn.model_selection import GridSearchCV, train_test_split\n",
    "from sklearn.preprocessing import MinMaxScaler\n",
    "from sklearn.tree import DecisionTreeClassifier\n",
    "from sklearn.ensemble import GradientBoostingClassifier\n",
    "from sklearn.metrics import confusion_matrix, classification_report, accuracy_score\n",
    "from sklearn.metrics import jaccard_score\n",
    "import seaborn as sn\n",
    "from tabulate import tabulate\n",
    "from xgboost import XGBClassifier\n",
    "from ta import add_all_ta_features\n",
    "from sklearn.feature_selection import RFE"
   ],
   "metadata": {
    "collapsed": false,
    "pycharm": {
     "name": "#%%\n"
    }
   }
  },
  {
   "cell_type": "code",
   "execution_count": 282,
   "outputs": [],
   "source": [
    "WINDOW = 16 # number of rows to look ahead to see what the price did\n",
    "FETCH_INTERVAL = \"60m\"  # fetch data by interval (including intraday if period < 60 days)\n",
    "        # valid intervals: 1m,2m,5m,15m,30m,60m,90m,1h,1d,5d,1wk,1mo,3mo\n",
    "        # (optional, default is '1d')\n",
    "INTERVAL = '1y'     # use \"period\" instead of start/end\n",
    "        # valid periods: 1d,5d,1mo,3mo,6mo,1y,2y,5y,10y,ytd,max\n",
    "        # (optional, default is '1mo')\n",
    "symbol = 'AAPL'      # Symbol of the desired stock\n",
    "ROWS_TO_PREDICT = 128\n",
    "# one day 16 rows of data"
   ],
   "metadata": {
    "collapsed": false,
    "pycharm": {
     "name": "#%%\n"
    }
   }
  },
  {
   "cell_type": "code",
   "execution_count": 283,
   "outputs": [],
   "source": [
    "data = pd.read_csv('C:\\\\Users\\\\exomat\\\\Desktop\\\\repo\\\\magisterka_analiza\\\\data\\\\preprocess\\\\APPLE_22_03_2021 21_56_34.csv')\n",
    "\n"
   ],
   "metadata": {
    "collapsed": false,
    "pycharm": {
     "name": "#%%\n"
    }
   }
  },
  {
   "cell_type": "code",
   "execution_count": 284,
   "outputs": [
    {
     "data": {
      "text/plain": "        open       high        low      close  Adj Close    volume\n0  56.220000  56.220000  55.500000  55.600000  55.600000         0\n1  55.550000  56.095000  55.370000  55.700000  55.700000         0\n2  56.032500  56.437500  55.937500  56.247500  56.247500         0\n3  56.132500  56.750000  56.042500  56.595000  56.595000         0\n4  56.550000  58.197500  55.625000  57.812500  57.812500         0\n5  57.837500  59.525000  56.887500  57.020000  57.020000         0\n6  56.299999  56.750000  54.823750  55.450001  55.450001  21473989\n7  55.465000  55.889999  53.412498  53.767502  53.767502  11306818\n8  53.762501  55.097500  53.152500  54.803925  54.803925  11355189\n9  54.823875  56.775002  54.472500  55.486252  55.486252  10671797",
      "text/html": "<div>\n<style scoped>\n    .dataframe tbody tr th:only-of-type {\n        vertical-align: middle;\n    }\n\n    .dataframe tbody tr th {\n        vertical-align: top;\n    }\n\n    .dataframe thead th {\n        text-align: right;\n    }\n</style>\n<table border=\"1\" class=\"dataframe\">\n  <thead>\n    <tr style=\"text-align: right;\">\n      <th></th>\n      <th>open</th>\n      <th>high</th>\n      <th>low</th>\n      <th>close</th>\n      <th>Adj Close</th>\n      <th>volume</th>\n    </tr>\n  </thead>\n  <tbody>\n    <tr>\n      <th>0</th>\n      <td>56.220000</td>\n      <td>56.220000</td>\n      <td>55.500000</td>\n      <td>55.600000</td>\n      <td>55.600000</td>\n      <td>0</td>\n    </tr>\n    <tr>\n      <th>1</th>\n      <td>55.550000</td>\n      <td>56.095000</td>\n      <td>55.370000</td>\n      <td>55.700000</td>\n      <td>55.700000</td>\n      <td>0</td>\n    </tr>\n    <tr>\n      <th>2</th>\n      <td>56.032500</td>\n      <td>56.437500</td>\n      <td>55.937500</td>\n      <td>56.247500</td>\n      <td>56.247500</td>\n      <td>0</td>\n    </tr>\n    <tr>\n      <th>3</th>\n      <td>56.132500</td>\n      <td>56.750000</td>\n      <td>56.042500</td>\n      <td>56.595000</td>\n      <td>56.595000</td>\n      <td>0</td>\n    </tr>\n    <tr>\n      <th>4</th>\n      <td>56.550000</td>\n      <td>58.197500</td>\n      <td>55.625000</td>\n      <td>57.812500</td>\n      <td>57.812500</td>\n      <td>0</td>\n    </tr>\n    <tr>\n      <th>5</th>\n      <td>57.837500</td>\n      <td>59.525000</td>\n      <td>56.887500</td>\n      <td>57.020000</td>\n      <td>57.020000</td>\n      <td>0</td>\n    </tr>\n    <tr>\n      <th>6</th>\n      <td>56.299999</td>\n      <td>56.750000</td>\n      <td>54.823750</td>\n      <td>55.450001</td>\n      <td>55.450001</td>\n      <td>21473989</td>\n    </tr>\n    <tr>\n      <th>7</th>\n      <td>55.465000</td>\n      <td>55.889999</td>\n      <td>53.412498</td>\n      <td>53.767502</td>\n      <td>53.767502</td>\n      <td>11306818</td>\n    </tr>\n    <tr>\n      <th>8</th>\n      <td>53.762501</td>\n      <td>55.097500</td>\n      <td>53.152500</td>\n      <td>54.803925</td>\n      <td>54.803925</td>\n      <td>11355189</td>\n    </tr>\n    <tr>\n      <th>9</th>\n      <td>54.823875</td>\n      <td>56.775002</td>\n      <td>54.472500</td>\n      <td>55.486252</td>\n      <td>55.486252</td>\n      <td>10671797</td>\n    </tr>\n  </tbody>\n</table>\n</div>"
     },
     "execution_count": 284,
     "metadata": {},
     "output_type": "execute_result"
    }
   ],
   "source": [
    "data.rename(columns={\"Close\": 'close', \"High\": 'high', \"Low\": 'low', 'Volume': 'volume', 'Open': 'open'}, inplace=True)\n",
    "data.head(10)"
   ],
   "metadata": {
    "collapsed": false,
    "pycharm": {
     "name": "#%%\n"
    }
   }
  },
  {
   "cell_type": "code",
   "execution_count": 285,
   "outputs": [
    {
     "data": {
      "text/plain": "<AxesSubplot:>"
     },
     "execution_count": 285,
     "metadata": {},
     "output_type": "execute_result"
    },
    {
     "data": {
      "text/plain": "<Figure size 432x288 with 1 Axes>",
      "image/png": "[encoded data removed]"
     },
     "metadata": {
      "needs_background": "light"
     },
     "output_type": "display_data"
    }
   ],
   "source": [
    "data['close'].plot()"
   ],
   "metadata": {
    "collapsed": false,
    "pycharm": {
     "name": "#%%\n"
    }
   }
  },
  {
   "cell_type": "code",
   "execution_count": 286,
   "outputs": [
    {
     "data": {
      "text/plain": "      open     high      low    close  Adj Close  volume  close_pct\n0  56.2200  56.2200  55.5000  55.6000    55.6000       0        NaN\n1  55.5500  56.0950  55.3700  55.7000    55.7000       0   0.001799\n2  56.0325  56.4375  55.9375  56.2475    56.2475       0   0.009829\n3  56.1325  56.7500  56.0425  56.5950    56.5950       0   0.006178\n4  56.5500  58.1975  55.6250  57.8125    57.8125       0   0.021513",
      "text/html": "<div>\n<style scoped>\n    .dataframe tbody tr th:only-of-type {\n        vertical-align: middle;\n    }\n\n    .dataframe tbody tr th {\n        vertical-align: top;\n    }\n\n    .dataframe thead th {\n        text-align: right;\n    }\n</style>\n<table border=\"1\" class=\"dataframe\">\n  <thead>\n    <tr style=\"text-align: right;\">\n      <th></th>\n      <th>open</th>\n      <th>high</th>\n      <th>low</th>\n      <th>close</th>\n      <th>Adj Close</th>\n      <th>volume</th>\n      <th>close_pct</th>\n    </tr>\n  </thead>\n  <tbody>\n    <tr>\n      <th>0</th>\n      <td>56.2200</td>\n      <td>56.2200</td>\n      <td>55.5000</td>\n      <td>55.6000</td>\n      <td>55.6000</td>\n      <td>0</td>\n      <td>NaN</td>\n    </tr>\n    <tr>\n      <th>1</th>\n      <td>55.5500</td>\n      <td>56.0950</td>\n      <td>55.3700</td>\n      <td>55.7000</td>\n      <td>55.7000</td>\n      <td>0</td>\n      <td>0.001799</td>\n    </tr>\n    <tr>\n      <th>2</th>\n      <td>56.0325</td>\n      <td>56.4375</td>\n      <td>55.9375</td>\n      <td>56.2475</td>\n      <td>56.2475</td>\n      <td>0</td>\n      <td>0.009829</td>\n    </tr>\n    <tr>\n      <th>3</th>\n      <td>56.1325</td>\n      <td>56.7500</td>\n      <td>56.0425</td>\n      <td>56.5950</td>\n      <td>56.5950</td>\n      <td>0</td>\n      <td>0.006178</td>\n    </tr>\n    <tr>\n      <th>4</th>\n      <td>56.5500</td>\n      <td>58.1975</td>\n      <td>55.6250</td>\n      <td>57.8125</td>\n      <td>57.8125</td>\n      <td>0</td>\n      <td>0.021513</td>\n    </tr>\n  </tbody>\n</table>\n</div>"
     },
     "execution_count": 286,
     "metadata": {},
     "output_type": "execute_result"
    }
   ],
   "source": [
    "data['close_pct'] = data['close'].pct_change();\n",
    "data.head()"
   ],
   "metadata": {
    "collapsed": false,
    "pycharm": {
     "name": "#%%\n"
    }
   }
  },
  {
   "cell_type": "code",
   "execution_count": 287,
   "outputs": [
    {
     "data": {
      "text/plain": "              open         high          low        close    Adj Close  \\\ncount  4183.000000  4183.000000  4183.000000  4183.000000  4183.000000   \nmean    106.643887   107.166827   106.048708   106.644971   106.644971   \nstd      22.417863    23.119607    22.318330    22.402033    22.402033   \nmin      53.762501    55.097500    50.978220    53.767502    53.767502   \n25%      88.078750    88.337500    87.816251    88.085000    88.085000   \n50%     114.907500   115.240000   114.200000   114.900000   114.900000   \n75%     123.514999   124.200000   122.829999   123.482502   123.482502   \nmax     144.900000   438.440000   144.590000   144.910000   144.910000   \n\n             volume    close_pct  \ncount  4.183000e+03  4182.000000  \nmean   4.714023e+06     0.000208  \nstd    8.307361e+06     0.005948  \nmin    0.000000e+00    -0.051319  \n25%    0.000000e+00    -0.002029  \n50%    0.000000e+00     0.000164  \n75%    7.035940e+06     0.002525  \nmax    9.845401e+07     0.051457  ",
      "text/html": "<div>\n<style scoped>\n    .dataframe tbody tr th:only-of-type {\n        vertical-align: middle;\n    }\n\n    .dataframe tbody tr th {\n        vertical-align: top;\n    }\n\n    .dataframe thead th {\n        text-align: right;\n    }\n</style>\n<table border=\"1\" class=\"dataframe\">\n  <thead>\n    <tr style=\"text-align: right;\">\n      <th></th>\n      <th>open</th>\n      <th>high</th>\n      <th>low</th>\n      <th>close</th>\n      <th>Adj Close</th>\n      <th>volume</th>\n      <th>close_pct</th>\n    </tr>\n  </thead>\n  <tbody>\n    <tr>\n      <th>count</th>\n      <td>4183.000000</td>\n      <td>4183.000000</td>\n      <td>4183.000000</td>\n      <td>4183.000000</td>\n      <td>4183.000000</td>\n      <td>4.183000e+03</td>\n      <td>4182.000000</td>\n    </tr>\n    <tr>\n      <th>mean</th>\n      <td>106.643887</td>\n      <td>107.166827</td>\n      <td>106.048708</td>\n      <td>106.644971</td>\n      <td>106.644971</td>\n      <td>4.714023e+06</td>\n      <td>0.000208</td>\n    </tr>\n    <tr>\n      <th>std</th>\n      <td>22.417863</td>\n      <td>23.119607</td>\n      <td>22.318330</td>\n      <td>22.402033</td>\n      <td>22.402033</td>\n      <td>8.307361e+06</td>\n      <td>0.005948</td>\n    </tr>\n    <tr>\n      <th>min</th>\n      <td>53.762501</td>\n      <td>55.097500</td>\n      <td>50.978220</td>\n      <td>53.767502</td>\n      <td>53.767502</td>\n      <td>0.000000e+00</td>\n      <td>-0.051319</td>\n    </tr>\n    <tr>\n      <th>25%</th>\n      <td>88.078750</td>\n      <td>88.337500</td>\n      <td>87.816251</td>\n      <td>88.085000</td>\n      <td>88.085000</td>\n      <td>0.000000e+00</td>\n      <td>-0.002029</td>\n    </tr>\n    <tr>\n      <th>50%</th>\n      <td>114.907500</td>\n      <td>115.240000</td>\n      <td>114.200000</td>\n      <td>114.900000</td>\n      <td>114.900000</td>\n      <td>0.000000e+00</td>\n      <td>0.000164</td>\n    </tr>\n    <tr>\n      <th>75%</th>\n      <td>123.514999</td>\n      <td>124.200000</td>\n      <td>122.829999</td>\n      <td>123.482502</td>\n      <td>123.482502</td>\n      <td>7.035940e+06</td>\n      <td>0.002525</td>\n    </tr>\n    <tr>\n      <th>max</th>\n      <td>144.900000</td>\n      <td>438.440000</td>\n      <td>144.590000</td>\n      <td>144.910000</td>\n      <td>144.910000</td>\n      <td>9.845401e+07</td>\n      <td>0.051457</td>\n    </tr>\n  </tbody>\n</table>\n</div>"
     },
     "execution_count": 287,
     "metadata": {},
     "output_type": "execute_result"
    }
   ],
   "source": [
    "data.describe()"
   ],
   "metadata": {
    "collapsed": false,
    "pycharm": {
     "name": "#%%\n"
    }
   }
  },
  {
   "cell_type": "code",
   "execution_count": 288,
   "outputs": [
    {
     "name": "stderr",
     "output_type": "stream",
     "text": [
      "C:\\Users\\exomat\\anaconda3\\envs\\magisterka_analiza\\lib\\site-packages\\ta\\trend.py:768: RuntimeWarning: invalid value encountered in double_scalars\n",
      "  dip[i] = 100 * (self._dip[i] / self._trs[i])\n",
      "C:\\Users\\exomat\\anaconda3\\envs\\magisterka_analiza\\lib\\site-packages\\ta\\trend.py:772: RuntimeWarning: invalid value encountered in double_scalars\n",
      "  din[i] = 100 * (self._din[i] / self._trs[i])\n"
     ]
    }
   ],
   "source": [
    "def _get_indicator_data(data):\n",
    "    \"\"\"\n",
    "    Function that uses the finta API to calculate technical indicators used as the features\n",
    "    :return:\n",
    "    \"\"\"\n",
    "\n",
    "\n",
    "    data = add_all_ta_features(\n",
    "    data, open=\"open\", high=\"high\", low=\"low\", close=\"close\", volume=\"volume\", fillna=True)\n",
    "\n",
    "    # Instead of using the actual volume value (which changes over time), we normalize it with a moving volume average\n",
    "    # data['normVol'] = data['volume'] / data['volume'].ewm(5).mean()\n",
    "    # for i in range(1,50):\n",
    "    #     data[f'close{i}'] = data['close'].shift(i)\n",
    "    # Remove columns that won't be used as features\n",
    "    del (data['Adj Close'])\n",
    "\n",
    "    return data\n",
    "\n",
    "data = _get_indicator_data(data)"
   ],
   "metadata": {
    "collapsed": false,
    "pycharm": {
     "name": "#%%\n"
    }
   }
  },
  {
   "cell_type": "code",
   "execution_count": 289,
   "outputs": [
    {
     "data": {
      "text/plain": "            open        high         low       close    volume  close_pct  \\\n0      56.220000   56.220000   55.500000   55.600000         0        NaN   \n1      55.550000   56.095000   55.370000   55.700000         0   0.001799   \n2      56.032500   56.437500   55.937500   56.247500         0   0.009829   \n3      56.132500   56.750000   56.042500   56.595000         0   0.006178   \n4      56.550000   58.197500   55.625000   57.812500         0   0.021513   \n...          ...         ...         ...         ...       ...        ...   \n4178  123.425003  123.769997  123.040001  123.091103  12373575  -0.002746   \n4179  123.090103  123.720001  123.080002  123.542000   9430925   0.003663   \n4180  123.544998  123.870003  123.275002  123.345001  11354023  -0.001595   \n4181  123.339996  123.599998  123.019997  123.370003  10684835   0.000203   \n4182  123.390000  123.500000  122.803400  123.120000   9642937  -0.002026   \n\n        volume_adi  volume_obv  volume_cmf     volume_fi  ...  momentum_wr  \\\n0    -0.000000e+00           0    0.000000  0.000000e+00  ...   -86.111111   \n1    -0.000000e+00           0    0.000000  0.000000e+00  ...   -61.176471   \n2     0.000000e+00           0    0.000000  0.000000e+00  ...   -17.798595   \n3     0.000000e+00           0    0.000000  0.000000e+00  ...   -11.231884   \n4     0.000000e+00           0    0.000000  0.000000e+00  ...   -13.616269   \n...            ...         ...         ...           ...  ...          ...   \n4178  6.772166e+08  -304635341   -0.032093  3.952908e+06  ...    -5.788523   \n4179  6.814015e+08  -295204416    0.073995  3.995690e+06  ...    -1.943993   \n4180  6.727190e+08  -306558439   -0.022353  3.105345e+06  ...   -13.392887   \n4181  6.749298e+08  -295873604    0.039436  2.699886e+06  ...   -12.755093   \n4182  6.740522e+08  -305516541    0.047963  1.969794e+06  ...   -19.329954   \n\n      momentum_ao  momentum_kama  momentum_roc  momentum_ppo  \\\n0        0.000000      55.600000      0.000000      0.000000   \n1        0.000000      55.641486      0.000000      0.000000   \n2        0.000000      55.895109      0.000000      0.000000   \n3        0.000000      56.185689      0.000000      0.000000   \n4        0.000000      56.833695      0.000000      0.000000   \n...           ...            ...           ...           ...   \n4178     1.307150     122.417025      2.550281     17.274375   \n4179     1.853018     122.683125      2.960247     17.006940   \n4180     2.216141     122.806622      2.770373     18.299709   \n4181     2.310367     122.908690      2.119032     18.355886   \n4182     2.313878     122.942765      1.836228     17.232556   \n\n      momentum_ppo_signal  momentum_ppo_hist  others_dr  others_dlr  \\\n0                0.000000           0.000000 -47.864396    0.000000   \n1                0.000000           0.000000   0.179856    0.179695   \n2                0.000000           0.000000   0.982944    0.978145   \n3                0.000000           0.000000   0.617805    0.615905   \n4                0.000000           0.000000   2.151250    2.128437   \n...                   ...                ...        ...         ...   \n4178            -5.237322          22.511697  -0.274567   -0.274944   \n4179            -0.788469          17.795410   0.366312    0.365642   \n4180             3.029166          15.270543  -0.159459   -0.159586   \n4181             6.094510          12.261375   0.020270    0.020268   \n4182             8.322119           8.910436  -0.202645   -0.202850   \n\n       others_cr  \n0       0.000000  \n1       0.179856  \n2       1.164568  \n3       1.789568  \n4       3.979317  \n...          ...  \n4178  121.386875  \n4179  122.197841  \n4180  121.843527  \n4181  121.888494  \n4182  121.438849  \n\n[4183 rows x 89 columns]",
      "text/html": "<div>\n<style scoped>\n    .dataframe tbody tr th:only-of-type {\n        vertical-align: middle;\n    }\n\n    .dataframe tbody tr th {\n        vertical-align: top;\n    }\n\n    .dataframe thead th {\n        text-align: right;\n    }\n</style>\n<table border=\"1\" class=\"dataframe\">\n  <thead>\n    <tr style=\"text-align: right;\">\n      <th></th>\n      <th>open</th>\n      <th>high</th>\n      <th>low</th>\n      <th>close</th>\n      <th>volume</th>\n      <th>close_pct</th>\n      <th>volume_adi</th>\n      <th>volume_obv</th>\n      <th>volume_cmf</th>\n      <th>volume_fi</th>\n      <th>...</th>\n      <th>momentum_wr</th>\n      <th>momentum_ao</th>\n      <th>momentum_kama</th>\n      <th>momentum_roc</th>\n      <th>momentum_ppo</th>\n      <th>momentum_ppo_signal</th>\n      <th>momentum_ppo_hist</th>\n      <th>others_dr</th>\n      <th>others_dlr</th>\n      <th>others_cr</th>\n    </tr>\n  </thead>\n  <tbody>\n    <tr>\n      <th>0</th>\n      <td>56.220000</td>\n      <td>56.220000</td>\n      <td>55.500000</td>\n      <td>55.600000</td>\n      <td>0</td>\n      <td>NaN</td>\n      <td>-0.000000e+00</td>\n      <td>0</td>\n      <td>0.000000</td>\n      <td>0.000000e+00</td>\n      <td>...</td>\n      <td>-86.111111</td>\n      <td>0.000000</td>\n      <td>55.600000</td>\n      <td>0.000000</td>\n      <td>0.000000</td>\n      <td>0.000000</td>\n      <td>0.000000</td>\n      <td>-47.864396</td>\n      <td>0.000000</td>\n      <td>0.000000</td>\n    </tr>\n    <tr>\n      <th>1</th>\n      <td>55.550000</td>\n      <td>56.095000</td>\n      <td>55.370000</td>\n      <td>55.700000</td>\n      <td>0</td>\n      <td>0.001799</td>\n      <td>-0.000000e+00</td>\n      <td>0</td>\n      <td>0.000000</td>\n      <td>0.000000e+00</td>\n      <td>...</td>\n      <td>-61.176471</td>\n      <td>0.000000</td>\n      <td>55.641486</td>\n      <td>0.000000</td>\n      <td>0.000000</td>\n      <td>0.000000</td>\n      <td>0.000000</td>\n      <td>0.179856</td>\n      <td>0.179695</td>\n      <td>0.179856</td>\n    </tr>\n    <tr>\n      <th>2</th>\n      <td>56.032500</td>\n      <td>56.437500</td>\n      <td>55.937500</td>\n      <td>56.247500</td>\n      <td>0</td>\n      <td>0.009829</td>\n      <td>0.000000e+00</td>\n      <td>0</td>\n      <td>0.000000</td>\n      <td>0.000000e+00</td>\n      <td>...</td>\n      <td>-17.798595</td>\n      <td>0.000000</td>\n      <td>55.895109</td>\n      <td>0.000000</td>\n      <td>0.000000</td>\n      <td>0.000000</td>\n      <td>0.000000</td>\n      <td>0.982944</td>\n      <td>0.978145</td>\n      <td>1.164568</td>\n    </tr>\n    <tr>\n      <th>3</th>\n      <td>56.132500</td>\n      <td>56.750000</td>\n      <td>56.042500</td>\n      <td>56.595000</td>\n      <td>0</td>\n      <td>0.006178</td>\n      <td>0.000000e+00</td>\n      <td>0</td>\n      <td>0.000000</td>\n      <td>0.000000e+00</td>\n      <td>...</td>\n      <td>-11.231884</td>\n      <td>0.000000</td>\n      <td>56.185689</td>\n      <td>0.000000</td>\n      <td>0.000000</td>\n      <td>0.000000</td>\n      <td>0.000000</td>\n      <td>0.617805</td>\n      <td>0.615905</td>\n      <td>1.789568</td>\n    </tr>\n    <tr>\n      <th>4</th>\n      <td>56.550000</td>\n      <td>58.197500</td>\n      <td>55.625000</td>\n      <td>57.812500</td>\n      <td>0</td>\n      <td>0.021513</td>\n      <td>0.000000e+00</td>\n      <td>0</td>\n      <td>0.000000</td>\n      <td>0.000000e+00</td>\n      <td>...</td>\n      <td>-13.616269</td>\n      <td>0.000000</td>\n      <td>56.833695</td>\n      <td>0.000000</td>\n      <td>0.000000</td>\n      <td>0.000000</td>\n      <td>0.000000</td>\n      <td>2.151250</td>\n      <td>2.128437</td>\n      <td>3.979317</td>\n    </tr>\n    <tr>\n      <th>...</th>\n      <td>...</td>\n      <td>...</td>\n      <td>...</td>\n      <td>...</td>\n      <td>...</td>\n      <td>...</td>\n      <td>...</td>\n      <td>...</td>\n      <td>...</td>\n      <td>...</td>\n      <td>...</td>\n      <td>...</td>\n      <td>...</td>\n      <td>...</td>\n      <td>...</td>\n      <td>...</td>\n      <td>...</td>\n      <td>...</td>\n      <td>...</td>\n      <td>...</td>\n      <td>...</td>\n    </tr>\n    <tr>\n      <th>4178</th>\n      <td>123.425003</td>\n      <td>123.769997</td>\n      <td>123.040001</td>\n      <td>123.091103</td>\n      <td>12373575</td>\n      <td>-0.002746</td>\n      <td>6.772166e+08</td>\n      <td>-304635341</td>\n      <td>-0.032093</td>\n      <td>3.952908e+06</td>\n      <td>...</td>\n      <td>-5.788523</td>\n      <td>1.307150</td>\n      <td>122.417025</td>\n      <td>2.550281</td>\n      <td>17.274375</td>\n      <td>-5.237322</td>\n      <td>22.511697</td>\n      <td>-0.274567</td>\n      <td>-0.274944</td>\n      <td>121.386875</td>\n    </tr>\n    <tr>\n      <th>4179</th>\n      <td>123.090103</td>\n      <td>123.720001</td>\n      <td>123.080002</td>\n      <td>123.542000</td>\n      <td>9430925</td>\n      <td>0.003663</td>\n      <td>6.814015e+08</td>\n      <td>-295204416</td>\n      <td>0.073995</td>\n      <td>3.995690e+06</td>\n      <td>...</td>\n      <td>-1.943993</td>\n      <td>1.853018</td>\n      <td>122.683125</td>\n      <td>2.960247</td>\n      <td>17.006940</td>\n      <td>-0.788469</td>\n      <td>17.795410</td>\n      <td>0.366312</td>\n      <td>0.365642</td>\n      <td>122.197841</td>\n    </tr>\n    <tr>\n      <th>4180</th>\n      <td>123.544998</td>\n      <td>123.870003</td>\n      <td>123.275002</td>\n      <td>123.345001</td>\n      <td>11354023</td>\n      <td>-0.001595</td>\n      <td>6.727190e+08</td>\n      <td>-306558439</td>\n      <td>-0.022353</td>\n      <td>3.105345e+06</td>\n      <td>...</td>\n      <td>-13.392887</td>\n      <td>2.216141</td>\n      <td>122.806622</td>\n      <td>2.770373</td>\n      <td>18.299709</td>\n      <td>3.029166</td>\n      <td>15.270543</td>\n      <td>-0.159459</td>\n      <td>-0.159586</td>\n      <td>121.843527</td>\n    </tr>\n    <tr>\n      <th>4181</th>\n      <td>123.339996</td>\n      <td>123.599998</td>\n      <td>123.019997</td>\n      <td>123.370003</td>\n      <td>10684835</td>\n      <td>0.000203</td>\n      <td>6.749298e+08</td>\n      <td>-295873604</td>\n      <td>0.039436</td>\n      <td>2.699886e+06</td>\n      <td>...</td>\n      <td>-12.755093</td>\n      <td>2.310367</td>\n      <td>122.908690</td>\n      <td>2.119032</td>\n      <td>18.355886</td>\n      <td>6.094510</td>\n      <td>12.261375</td>\n      <td>0.020270</td>\n      <td>0.020268</td>\n      <td>121.888494</td>\n    </tr>\n    <tr>\n      <th>4182</th>\n      <td>123.390000</td>\n      <td>123.500000</td>\n      <td>122.803400</td>\n      <td>123.120000</td>\n      <td>9642937</td>\n      <td>-0.002026</td>\n      <td>6.740522e+08</td>\n      <td>-305516541</td>\n      <td>0.047963</td>\n      <td>1.969794e+06</td>\n      <td>...</td>\n      <td>-19.329954</td>\n      <td>2.313878</td>\n      <td>122.942765</td>\n      <td>1.836228</td>\n      <td>17.232556</td>\n      <td>8.322119</td>\n      <td>8.910436</td>\n      <td>-0.202645</td>\n      <td>-0.202850</td>\n      <td>121.438849</td>\n    </tr>\n  </tbody>\n</table>\n<p>4183 rows × 89 columns</p>\n</div>"
     },
     "execution_count": 289,
     "metadata": {},
     "output_type": "execute_result"
    }
   ],
   "source": [
    "data"
   ],
   "metadata": {
    "collapsed": false,
    "pycharm": {
     "name": "#%%\n"
    }
   }
  },
  {
   "cell_type": "code",
   "execution_count": 290,
   "outputs": [
    {
     "data": {
      "text/plain": "Index(['open', 'high', 'low', 'close', 'volume', 'close_pct', 'volume_adi',\n       'volume_obv', 'volume_cmf', 'volume_fi', 'volume_mfi', 'volume_em',\n       'volume_sma_em', 'volume_vpt', 'volume_nvi', 'volume_vwap',\n       'volatility_atr', 'volatility_bbm', 'volatility_bbh', 'volatility_bbl',\n       'volatility_bbw', 'volatility_bbp', 'volatility_bbhi',\n       'volatility_bbli', 'volatility_kcc', 'volatility_kch', 'volatility_kcl',\n       'volatility_kcw', 'volatility_kcp', 'volatility_kchi',\n       'volatility_kcli', 'volatility_dcl', 'volatility_dch', 'volatility_dcm',\n       'volatility_dcw', 'volatility_dcp', 'volatility_ui', 'trend_macd',\n       'trend_macd_signal', 'trend_macd_diff', 'trend_sma_fast',\n       'trend_sma_slow', 'trend_ema_fast', 'trend_ema_slow', 'trend_adx',\n       'trend_adx_pos', 'trend_adx_neg', 'trend_vortex_ind_pos',\n       'trend_vortex_ind_neg', 'trend_vortex_ind_diff', 'trend_trix',\n       'trend_mass_index', 'trend_cci', 'trend_dpo', 'trend_kst',\n       'trend_kst_sig', 'trend_kst_diff', 'trend_ichimoku_conv',\n       'trend_ichimoku_base', 'trend_ichimoku_a', 'trend_ichimoku_b',\n       'trend_visual_ichimoku_a', 'trend_visual_ichimoku_b', 'trend_aroon_up',\n       'trend_aroon_down', 'trend_aroon_ind', 'trend_psar_up',\n       'trend_psar_down', 'trend_psar_up_indicator',\n       'trend_psar_down_indicator', 'trend_stc', 'momentum_rsi',\n       'momentum_stoch_rsi', 'momentum_stoch_rsi_k', 'momentum_stoch_rsi_d',\n       'momentum_tsi', 'momentum_uo', 'momentum_stoch',\n       'momentum_stoch_signal', 'momentum_wr', 'momentum_ao', 'momentum_kama',\n       'momentum_roc', 'momentum_ppo', 'momentum_ppo_signal',\n       'momentum_ppo_hist', 'others_dr', 'others_dlr', 'others_cr'],\n      dtype='object')"
     },
     "execution_count": 290,
     "metadata": {},
     "output_type": "execute_result"
    }
   ],
   "source": [
    "data.columns"
   ],
   "metadata": {
    "collapsed": false,
    "pycharm": {
     "name": "#%%\n"
    }
   }
  },
  {
   "cell_type": "code",
   "execution_count": 291,
   "outputs": [],
   "source": [
    "def create_class_column(row):\n",
    "    if row['close_shift']-row['close'] > 1.5:\n",
    "        return 1\n",
    "    if row['close_shift'] -row['close']< -1.5:\n",
    "        return -1\n",
    "    else:\n",
    "        return 0"
   ],
   "metadata": {
    "collapsed": false,
    "pycharm": {
     "name": "#%%\n"
    }
   }
  },
  {
   "cell_type": "code",
   "execution_count": 292,
   "outputs": [
    {
     "data": {
      "text/plain": "            open        high         low       close    volume  close_pct  \\\n0      56.220000   56.220000   55.500000   55.600000         0        NaN   \n1      55.550000   56.095000   55.370000   55.700000         0   0.001799   \n2      56.032500   56.437500   55.937500   56.247500         0   0.009829   \n3      56.132500   56.750000   56.042500   56.595000         0   0.006178   \n4      56.550000   58.197500   55.625000   57.812500         0   0.021513   \n...          ...         ...         ...         ...       ...        ...   \n4178  123.425003  123.769997  123.040001  123.091103  12373575  -0.002746   \n4179  123.090103  123.720001  123.080002  123.542000   9430925   0.003663   \n4180  123.544998  123.870003  123.275002  123.345001  11354023  -0.001595   \n4181  123.339996  123.599998  123.019997  123.370003  10684835   0.000203   \n4182  123.390000  123.500000  122.803400  123.120000   9642937  -0.002026   \n\n        volume_adi  volume_obv  volume_cmf     volume_fi  ...  momentum_ao  \\\n0    -0.000000e+00           0    0.000000  0.000000e+00  ...     0.000000   \n1    -0.000000e+00           0    0.000000  0.000000e+00  ...     0.000000   \n2     0.000000e+00           0    0.000000  0.000000e+00  ...     0.000000   \n3     0.000000e+00           0    0.000000  0.000000e+00  ...     0.000000   \n4     0.000000e+00           0    0.000000  0.000000e+00  ...     0.000000   \n...            ...         ...         ...           ...  ...          ...   \n4178  6.772166e+08  -304635341   -0.032093  3.952908e+06  ...     1.307150   \n4179  6.814015e+08  -295204416    0.073995  3.995690e+06  ...     1.853018   \n4180  6.727190e+08  -306558439   -0.022353  3.105345e+06  ...     2.216141   \n4181  6.749298e+08  -295873604    0.039436  2.699886e+06  ...     2.310367   \n4182  6.740522e+08  -305516541    0.047963  1.969794e+06  ...     2.313878   \n\n      momentum_kama  momentum_roc  momentum_ppo  momentum_ppo_signal  \\\n0         55.600000      0.000000      0.000000             0.000000   \n1         55.641486      0.000000      0.000000             0.000000   \n2         55.895109      0.000000      0.000000             0.000000   \n3         56.185689      0.000000      0.000000             0.000000   \n4         56.833695      0.000000      0.000000             0.000000   \n...             ...           ...           ...                  ...   \n4178     122.417025      2.550281     17.274375            -5.237322   \n4179     122.683125      2.960247     17.006940            -0.788469   \n4180     122.806622      2.770373     18.299709             3.029166   \n4181     122.908690      2.119032     18.355886             6.094510   \n4182     122.942765      1.836228     17.232556             8.322119   \n\n      momentum_ppo_hist  others_dr  others_dlr   others_cr  close_shift  \n0              0.000000 -47.864396    0.000000    0.000000      56.8750  \n1              0.000000   0.179856    0.179695    0.179856      58.4475  \n2              0.000000   0.982944    0.978145    1.164568      58.5500  \n3              0.000000   0.617805    0.615905    1.789568      59.2225  \n4              0.000000   2.151250    2.128437    3.979317      58.3075  \n...                 ...        ...         ...         ...          ...  \n4178          22.511697  -0.274567   -0.274944  121.386875          NaN  \n4179          17.795410   0.366312    0.365642  122.197841          NaN  \n4180          15.270543  -0.159459   -0.159586  121.843527          NaN  \n4181          12.261375   0.020270    0.020268  121.888494          NaN  \n4182           8.910436  -0.202645   -0.202850  121.438849          NaN  \n\n[4183 rows x 90 columns]",
      "text/html": "<div>\n<style scoped>\n    .dataframe tbody tr th:only-of-type {\n        vertical-align: middle;\n    }\n\n    .dataframe tbody tr th {\n        vertical-align: top;\n    }\n\n    .dataframe thead th {\n        text-align: right;\n    }\n</style>\n<table border=\"1\" class=\"dataframe\">\n  <thead>\n    <tr style=\"text-align: right;\">\n      <th></th>\n      <th>open</th>\n      <th>high</th>\n      <th>low</th>\n      <th>close</th>\n      <th>volume</th>\n      <th>close_pct</th>\n      <th>volume_adi</th>\n      <th>volume_obv</th>\n      <th>volume_cmf</th>\n      <th>volume_fi</th>\n      <th>...</th>\n      <th>momentum_ao</th>\n      <th>momentum_kama</th>\n      <th>momentum_roc</th>\n      <th>momentum_ppo</th>\n      <th>momentum_ppo_signal</th>\n      <th>momentum_ppo_hist</th>\n      <th>others_dr</th>\n      <th>others_dlr</th>\n      <th>others_cr</th>\n      <th>close_shift</th>\n    </tr>\n  </thead>\n  <tbody>\n    <tr>\n      <th>0</th>\n      <td>56.220000</td>\n      <td>56.220000</td>\n      <td>55.500000</td>\n      <td>55.600000</td>\n      <td>0</td>\n      <td>NaN</td>\n      <td>-0.000000e+00</td>\n      <td>0</td>\n      <td>0.000000</td>\n      <td>0.000000e+00</td>\n      <td>...</td>\n      <td>0.000000</td>\n      <td>55.600000</td>\n      <td>0.000000</td>\n      <td>0.000000</td>\n      <td>0.000000</td>\n      <td>0.000000</td>\n      <td>-47.864396</td>\n      <td>0.000000</td>\n      <td>0.000000</td>\n      <td>56.8750</td>\n    </tr>\n    <tr>\n      <th>1</th>\n      <td>55.550000</td>\n      <td>56.095000</td>\n      <td>55.370000</td>\n      <td>55.700000</td>\n      <td>0</td>\n      <td>0.001799</td>\n      <td>-0.000000e+00</td>\n      <td>0</td>\n      <td>0.000000</td>\n      <td>0.000000e+00</td>\n      <td>...</td>\n      <td>0.000000</td>\n      <td>55.641486</td>\n      <td>0.000000</td>\n      <td>0.000000</td>\n      <td>0.000000</td>\n      <td>0.000000</td>\n      <td>0.179856</td>\n      <td>0.179695</td>\n      <td>0.179856</td>\n      <td>58.4475</td>\n    </tr>\n    <tr>\n      <th>2</th>\n      <td>56.032500</td>\n      <td>56.437500</td>\n      <td>55.937500</td>\n      <td>56.247500</td>\n      <td>0</td>\n      <td>0.009829</td>\n      <td>0.000000e+00</td>\n      <td>0</td>\n      <td>0.000000</td>\n      <td>0.000000e+00</td>\n      <td>...</td>\n      <td>0.000000</td>\n      <td>55.895109</td>\n      <td>0.000000</td>\n      <td>0.000000</td>\n      <td>0.000000</td>\n      <td>0.000000</td>\n      <td>0.982944</td>\n      <td>0.978145</td>\n      <td>1.164568</td>\n      <td>58.5500</td>\n    </tr>\n    <tr>\n      <th>3</th>\n      <td>56.132500</td>\n      <td>56.750000</td>\n      <td>56.042500</td>\n      <td>56.595000</td>\n      <td>0</td>\n      <td>0.006178</td>\n      <td>0.000000e+00</td>\n      <td>0</td>\n      <td>0.000000</td>\n      <td>0.000000e+00</td>\n      <td>...</td>\n      <td>0.000000</td>\n      <td>56.185689</td>\n      <td>0.000000</td>\n      <td>0.000000</td>\n      <td>0.000000</td>\n      <td>0.000000</td>\n      <td>0.617805</td>\n      <td>0.615905</td>\n      <td>1.789568</td>\n      <td>59.2225</td>\n    </tr>\n    <tr>\n      <th>4</th>\n      <td>56.550000</td>\n      <td>58.197500</td>\n      <td>55.625000</td>\n      <td>57.812500</td>\n      <td>0</td>\n      <td>0.021513</td>\n      <td>0.000000e+00</td>\n      <td>0</td>\n      <td>0.000000</td>\n      <td>0.000000e+00</td>\n      <td>...</td>\n      <td>0.000000</td>\n      <td>56.833695</td>\n      <td>0.000000</td>\n      <td>0.000000</td>\n      <td>0.000000</td>\n      <td>0.000000</td>\n      <td>2.151250</td>\n      <td>2.128437</td>\n      <td>3.979317</td>\n      <td>58.3075</td>\n    </tr>\n    <tr>\n      <th>...</th>\n      <td>...</td>\n      <td>...</td>\n      <td>...</td>\n      <td>...</td>\n      <td>...</td>\n      <td>...</td>\n      <td>...</td>\n      <td>...</td>\n      <td>...</td>\n      <td>...</td>\n      <td>...</td>\n      <td>...</td>\n      <td>...</td>\n      <td>...</td>\n      <td>...</td>\n      <td>...</td>\n      <td>...</td>\n      <td>...</td>\n      <td>...</td>\n      <td>...</td>\n      <td>...</td>\n    </tr>\n    <tr>\n      <th>4178</th>\n      <td>123.425003</td>\n      <td>123.769997</td>\n      <td>123.040001</td>\n      <td>123.091103</td>\n      <td>12373575</td>\n      <td>-0.002746</td>\n      <td>6.772166e+08</td>\n      <td>-304635341</td>\n      <td>-0.032093</td>\n      <td>3.952908e+06</td>\n      <td>...</td>\n      <td>1.307150</td>\n      <td>122.417025</td>\n      <td>2.550281</td>\n      <td>17.274375</td>\n      <td>-5.237322</td>\n      <td>22.511697</td>\n      <td>-0.274567</td>\n      <td>-0.274944</td>\n      <td>121.386875</td>\n      <td>NaN</td>\n    </tr>\n    <tr>\n      <th>4179</th>\n      <td>123.090103</td>\n      <td>123.720001</td>\n      <td>123.080002</td>\n      <td>123.542000</td>\n      <td>9430925</td>\n      <td>0.003663</td>\n      <td>6.814015e+08</td>\n      <td>-295204416</td>\n      <td>0.073995</td>\n      <td>3.995690e+06</td>\n      <td>...</td>\n      <td>1.853018</td>\n      <td>122.683125</td>\n      <td>2.960247</td>\n      <td>17.006940</td>\n      <td>-0.788469</td>\n      <td>17.795410</td>\n      <td>0.366312</td>\n      <td>0.365642</td>\n      <td>122.197841</td>\n      <td>NaN</td>\n    </tr>\n    <tr>\n      <th>4180</th>\n      <td>123.544998</td>\n      <td>123.870003</td>\n      <td>123.275002</td>\n      <td>123.345001</td>\n      <td>11354023</td>\n      <td>-0.001595</td>\n      <td>6.727190e+08</td>\n      <td>-306558439</td>\n      <td>-0.022353</td>\n      <td>3.105345e+06</td>\n      <td>...</td>\n      <td>2.216141</td>\n      <td>122.806622</td>\n      <td>2.770373</td>\n      <td>18.299709</td>\n      <td>3.029166</td>\n      <td>15.270543</td>\n      <td>-0.159459</td>\n      <td>-0.159586</td>\n      <td>121.843527</td>\n      <td>NaN</td>\n    </tr>\n    <tr>\n      <th>4181</th>\n      <td>123.339996</td>\n      <td>123.599998</td>\n      <td>123.019997</td>\n      <td>123.370003</td>\n      <td>10684835</td>\n      <td>0.000203</td>\n      <td>6.749298e+08</td>\n      <td>-295873604</td>\n      <td>0.039436</td>\n      <td>2.699886e+06</td>\n      <td>...</td>\n      <td>2.310367</td>\n      <td>122.908690</td>\n      <td>2.119032</td>\n      <td>18.355886</td>\n      <td>6.094510</td>\n      <td>12.261375</td>\n      <td>0.020270</td>\n      <td>0.020268</td>\n      <td>121.888494</td>\n      <td>NaN</td>\n    </tr>\n    <tr>\n      <th>4182</th>\n      <td>123.390000</td>\n      <td>123.500000</td>\n      <td>122.803400</td>\n      <td>123.120000</td>\n      <td>9642937</td>\n      <td>-0.002026</td>\n      <td>6.740522e+08</td>\n      <td>-305516541</td>\n      <td>0.047963</td>\n      <td>1.969794e+06</td>\n      <td>...</td>\n      <td>2.313878</td>\n      <td>122.942765</td>\n      <td>1.836228</td>\n      <td>17.232556</td>\n      <td>8.322119</td>\n      <td>8.910436</td>\n      <td>-0.202645</td>\n      <td>-0.202850</td>\n      <td>121.438849</td>\n      <td>NaN</td>\n    </tr>\n  </tbody>\n</table>\n<p>4183 rows × 90 columns</p>\n</div>"
     },
     "execution_count": 292,
     "metadata": {},
     "output_type": "execute_result"
    }
   ],
   "source": [
    "data['close_shift'] = data.shift(-WINDOW)['close']\n",
    "data"
   ],
   "metadata": {
    "collapsed": false,
    "pycharm": {
     "name": "#%%\n"
    }
   }
  },
  {
   "cell_type": "code",
   "execution_count": 293,
   "outputs": [
    {
     "data": {
      "text/plain": "            open        high         low       close    volume  close_pct  \\\n0      56.220000   56.220000   55.500000   55.600000         0        NaN   \n1      55.550000   56.095000   55.370000   55.700000         0   0.001799   \n2      56.032500   56.437500   55.937500   56.247500         0   0.009829   \n3      56.132500   56.750000   56.042500   56.595000         0   0.006178   \n4      56.550000   58.197500   55.625000   57.812500         0   0.021513   \n...          ...         ...         ...         ...       ...        ...   \n4178  123.425003  123.769997  123.040001  123.091103  12373575  -0.002746   \n4179  123.090103  123.720001  123.080002  123.542000   9430925   0.003663   \n4180  123.544998  123.870003  123.275002  123.345001  11354023  -0.001595   \n4181  123.339996  123.599998  123.019997  123.370003  10684835   0.000203   \n4182  123.390000  123.500000  122.803400  123.120000   9642937  -0.002026   \n\n        volume_adi  volume_obv  volume_cmf     volume_fi  ...  momentum_kama  \\\n0    -0.000000e+00           0    0.000000  0.000000e+00  ...      55.600000   \n1    -0.000000e+00           0    0.000000  0.000000e+00  ...      55.641486   \n2     0.000000e+00           0    0.000000  0.000000e+00  ...      55.895109   \n3     0.000000e+00           0    0.000000  0.000000e+00  ...      56.185689   \n4     0.000000e+00           0    0.000000  0.000000e+00  ...      56.833695   \n...            ...         ...         ...           ...  ...            ...   \n4178  6.772166e+08  -304635341   -0.032093  3.952908e+06  ...     122.417025   \n4179  6.814015e+08  -295204416    0.073995  3.995690e+06  ...     122.683125   \n4180  6.727190e+08  -306558439   -0.022353  3.105345e+06  ...     122.806622   \n4181  6.749298e+08  -295873604    0.039436  2.699886e+06  ...     122.908690   \n4182  6.740522e+08  -305516541    0.047963  1.969794e+06  ...     122.942765   \n\n      momentum_roc  momentum_ppo  momentum_ppo_signal  momentum_ppo_hist  \\\n0         0.000000      0.000000             0.000000           0.000000   \n1         0.000000      0.000000             0.000000           0.000000   \n2         0.000000      0.000000             0.000000           0.000000   \n3         0.000000      0.000000             0.000000           0.000000   \n4         0.000000      0.000000             0.000000           0.000000   \n...            ...           ...                  ...                ...   \n4178      2.550281     17.274375            -5.237322          22.511697   \n4179      2.960247     17.006940            -0.788469          17.795410   \n4180      2.770373     18.299709             3.029166          15.270543   \n4181      2.119032     18.355886             6.094510          12.261375   \n4182      1.836228     17.232556             8.322119           8.910436   \n\n      others_dr  others_dlr   others_cr  close_shift  class_column  \n0    -47.864396    0.000000    0.000000      56.8750             0  \n1      0.179856    0.179695    0.179856      58.4475             1  \n2      0.982944    0.978145    1.164568      58.5500             1  \n3      0.617805    0.615905    1.789568      59.2225             1  \n4      2.151250    2.128437    3.979317      58.3075             0  \n...         ...         ...         ...          ...           ...  \n4178  -0.274567   -0.274944  121.386875          NaN             0  \n4179   0.366312    0.365642  122.197841          NaN             0  \n4180  -0.159459   -0.159586  121.843527          NaN             0  \n4181   0.020270    0.020268  121.888494          NaN             0  \n4182  -0.202645   -0.202850  121.438849          NaN             0  \n\n[4183 rows x 91 columns]",
      "text/html": "<div>\n<style scoped>\n    .dataframe tbody tr th:only-of-type {\n        vertical-align: middle;\n    }\n\n    .dataframe tbody tr th {\n        vertical-align: top;\n    }\n\n    .dataframe thead th {\n        text-align: right;\n    }\n</style>\n<table border=\"1\" class=\"dataframe\">\n  <thead>\n    <tr style=\"text-align: right;\">\n      <th></th>\n      <th>open</th>\n      <th>high</th>\n      <th>low</th>\n      <th>close</th>\n      <th>volume</th>\n      <th>close_pct</th>\n      <th>volume_adi</th>\n      <th>volume_obv</th>\n      <th>volume_cmf</th>\n      <th>volume_fi</th>\n      <th>...</th>\n      <th>momentum_kama</th>\n      <th>momentum_roc</th>\n      <th>momentum_ppo</th>\n      <th>momentum_ppo_signal</th>\n      <th>momentum_ppo_hist</th>\n      <th>others_dr</th>\n      <th>others_dlr</th>\n      <th>others_cr</th>\n      <th>close_shift</th>\n      <th>class_column</th>\n    </tr>\n  </thead>\n  <tbody>\n    <tr>\n      <th>0</th>\n      <td>56.220000</td>\n      <td>56.220000</td>\n      <td>55.500000</td>\n      <td>55.600000</td>\n      <td>0</td>\n      <td>NaN</td>\n      <td>-0.000000e+00</td>\n      <td>0</td>\n      <td>0.000000</td>\n      <td>0.000000e+00</td>\n      <td>...</td>\n      <td>55.600000</td>\n      <td>0.000000</td>\n      <td>0.000000</td>\n      <td>0.000000</td>\n      <td>0.000000</td>\n      <td>-47.864396</td>\n      <td>0.000000</td>\n      <td>0.000000</td>\n      <td>56.8750</td>\n      <td>0</td>\n    </tr>\n    <tr>\n      <th>1</th>\n      <td>55.550000</td>\n      <td>56.095000</td>\n      <td>55.370000</td>\n      <td>55.700000</td>\n      <td>0</td>\n      <td>0.001799</td>\n      <td>-0.000000e+00</td>\n      <td>0</td>\n      <td>0.000000</td>\n      <td>0.000000e+00</td>\n      <td>...</td>\n      <td>55.641486</td>\n      <td>0.000000</td>\n      <td>0.000000</td>\n      <td>0.000000</td>\n      <td>0.000000</td>\n      <td>0.179856</td>\n      <td>0.179695</td>\n      <td>0.179856</td>\n      <td>58.4475</td>\n      <td>1</td>\n    </tr>\n    <tr>\n      <th>2</th>\n      <td>56.032500</td>\n      <td>56.437500</td>\n      <td>55.937500</td>\n      <td>56.247500</td>\n      <td>0</td>\n      <td>0.009829</td>\n      <td>0.000000e+00</td>\n      <td>0</td>\n      <td>0.000000</td>\n      <td>0.000000e+00</td>\n      <td>...</td>\n      <td>55.895109</td>\n      <td>0.000000</td>\n      <td>0.000000</td>\n      <td>0.000000</td>\n      <td>0.000000</td>\n      <td>0.982944</td>\n      <td>0.978145</td>\n      <td>1.164568</td>\n      <td>58.5500</td>\n      <td>1</td>\n    </tr>\n    <tr>\n      <th>3</th>\n      <td>56.132500</td>\n      <td>56.750000</td>\n      <td>56.042500</td>\n      <td>56.595000</td>\n      <td>0</td>\n      <td>0.006178</td>\n      <td>0.000000e+00</td>\n      <td>0</td>\n      <td>0.000000</td>\n      <td>0.000000e+00</td>\n      <td>...</td>\n      <td>56.185689</td>\n      <td>0.000000</td>\n      <td>0.000000</td>\n      <td>0.000000</td>\n      <td>0.000000</td>\n      <td>0.617805</td>\n      <td>0.615905</td>\n      <td>1.789568</td>\n      <td>59.2225</td>\n      <td>1</td>\n    </tr>\n    <tr>\n      <th>4</th>\n      <td>56.550000</td>\n      <td>58.197500</td>\n      <td>55.625000</td>\n      <td>57.812500</td>\n      <td>0</td>\n      <td>0.021513</td>\n      <td>0.000000e+00</td>\n      <td>0</td>\n      <td>0.000000</td>\n      <td>0.000000e+00</td>\n      <td>...</td>\n      <td>56.833695</td>\n      <td>0.000000</td>\n      <td>0.000000</td>\n      <td>0.000000</td>\n      <td>0.000000</td>\n      <td>2.151250</td>\n      <td>2.128437</td>\n      <td>3.979317</td>\n      <td>58.3075</td>\n      <td>0</td>\n    </tr>\n    <tr>\n      <th>...</th>\n      <td>...</td>\n      <td>...</td>\n      <td>...</td>\n      <td>...</td>\n      <td>...</td>\n      <td>...</td>\n      <td>...</td>\n      <td>...</td>\n      <td>...</td>\n      <td>...</td>\n      <td>...</td>\n      <td>...</td>\n      <td>...</td>\n      <td>...</td>\n      <td>...</td>\n      <td>...</td>\n      <td>...</td>\n      <td>...</td>\n      <td>...</td>\n      <td>...</td>\n      <td>...</td>\n    </tr>\n    <tr>\n      <th>4178</th>\n      <td>123.425003</td>\n      <td>123.769997</td>\n      <td>123.040001</td>\n      <td>123.091103</td>\n      <td>12373575</td>\n      <td>-0.002746</td>\n      <td>6.772166e+08</td>\n      <td>-304635341</td>\n      <td>-0.032093</td>\n      <td>3.952908e+06</td>\n      <td>...</td>\n      <td>122.417025</td>\n      <td>2.550281</td>\n      <td>17.274375</td>\n      <td>-5.237322</td>\n      <td>22.511697</td>\n      <td>-0.274567</td>\n      <td>-0.274944</td>\n      <td>121.386875</td>\n      <td>NaN</td>\n      <td>0</td>\n    </tr>\n    <tr>\n      <th>4179</th>\n      <td>123.090103</td>\n      <td>123.720001</td>\n      <td>123.080002</td>\n      <td>123.542000</td>\n      <td>9430925</td>\n      <td>0.003663</td>\n      <td>6.814015e+08</td>\n      <td>-295204416</td>\n      <td>0.073995</td>\n      <td>3.995690e+06</td>\n      <td>...</td>\n      <td>122.683125</td>\n      <td>2.960247</td>\n      <td>17.006940</td>\n      <td>-0.788469</td>\n      <td>17.795410</td>\n      <td>0.366312</td>\n      <td>0.365642</td>\n      <td>122.197841</td>\n      <td>NaN</td>\n      <td>0</td>\n    </tr>\n    <tr>\n      <th>4180</th>\n      <td>123.544998</td>\n      <td>123.870003</td>\n      <td>123.275002</td>\n      <td>123.345001</td>\n      <td>11354023</td>\n      <td>-0.001595</td>\n      <td>6.727190e+08</td>\n      <td>-306558439</td>\n      <td>-0.022353</td>\n      <td>3.105345e+06</td>\n      <td>...</td>\n      <td>122.806622</td>\n      <td>2.770373</td>\n      <td>18.299709</td>\n      <td>3.029166</td>\n      <td>15.270543</td>\n      <td>-0.159459</td>\n      <td>-0.159586</td>\n      <td>121.843527</td>\n      <td>NaN</td>\n      <td>0</td>\n    </tr>\n    <tr>\n      <th>4181</th>\n      <td>123.339996</td>\n      <td>123.599998</td>\n      <td>123.019997</td>\n      <td>123.370003</td>\n      <td>10684835</td>\n      <td>0.000203</td>\n      <td>6.749298e+08</td>\n      <td>-295873604</td>\n      <td>0.039436</td>\n      <td>2.699886e+06</td>\n      <td>...</td>\n      <td>122.908690</td>\n      <td>2.119032</td>\n      <td>18.355886</td>\n      <td>6.094510</td>\n      <td>12.261375</td>\n      <td>0.020270</td>\n      <td>0.020268</td>\n      <td>121.888494</td>\n      <td>NaN</td>\n      <td>0</td>\n    </tr>\n    <tr>\n      <th>4182</th>\n      <td>123.390000</td>\n      <td>123.500000</td>\n      <td>122.803400</td>\n      <td>123.120000</td>\n      <td>9642937</td>\n      <td>-0.002026</td>\n      <td>6.740522e+08</td>\n      <td>-305516541</td>\n      <td>0.047963</td>\n      <td>1.969794e+06</td>\n      <td>...</td>\n      <td>122.942765</td>\n      <td>1.836228</td>\n      <td>17.232556</td>\n      <td>8.322119</td>\n      <td>8.910436</td>\n      <td>-0.202645</td>\n      <td>-0.202850</td>\n      <td>121.438849</td>\n      <td>NaN</td>\n      <td>0</td>\n    </tr>\n  </tbody>\n</table>\n<p>4183 rows × 91 columns</p>\n</div>"
     },
     "execution_count": 293,
     "metadata": {},
     "output_type": "execute_result"
    }
   ],
   "source": [
    "data['class_column'] = data.apply(create_class_column, axis=1)\n",
    "data"
   ],
   "metadata": {
    "collapsed": false,
    "pycharm": {
     "name": "#%%\n"
    }
   }
  },
  {
   "cell_type": "code",
   "execution_count": 294,
   "outputs": [
    {
     "data": {
      "text/plain": " 0    2289\n 1    1105\n-1     789\nName: class_column, dtype: int64"
     },
     "execution_count": 294,
     "metadata": {},
     "output_type": "execute_result"
    }
   ],
   "source": [
    "# Class divide\n",
    "data['class_column'].value_counts()"
   ],
   "metadata": {
    "collapsed": false,
    "pycharm": {
     "name": "#%%\n"
    }
   }
  },
  {
   "cell_type": "code",
   "execution_count": 295,
   "outputs": [],
   "source": [
    "del (data['close'])\n",
    "del (data['close_shift'])\n",
    "data = data.dropna()\n",
    "train_set = data.iloc[:-ROWS_TO_PREDICT]\n",
    "train_set = train_set.iloc[:-WINDOW] # optional drop last n rows (avoid of data leak)\n",
    "test_set =data.iloc[-ROWS_TO_PREDICT:]"
   ],
   "metadata": {
    "collapsed": false,
    "pycharm": {
     "name": "#%%\n"
    }
   }
  },
  {
   "cell_type": "code",
   "execution_count": 296,
   "outputs": [
    {
     "data": {
      "text/plain": " 0    2288\n 1    1105\n-1     789\nName: class_column, dtype: int64"
     },
     "execution_count": 296,
     "metadata": {},
     "output_type": "execute_result"
    }
   ],
   "source": [
    "data['class_column'].value_counts()"
   ],
   "metadata": {
    "collapsed": false,
    "pycharm": {
     "name": "#%%\n"
    }
   }
  },
  {
   "cell_type": "code",
   "execution_count": 297,
   "outputs": [
    {
     "data": {
      "text/plain": "          open       high        low  volume  close_pct    volume_adi  \\\n1      55.5500   56.09500   55.37000       0   0.001799 -0.000000e+00   \n2      56.0325   56.43750   55.93750       0   0.009829  0.000000e+00   \n3      56.1325   56.75000   56.04250       0   0.006178  0.000000e+00   \n4      56.5500   58.19750   55.62500       0   0.021513  0.000000e+00   \n5      57.8375   59.52500   56.88750       0  -0.013708  0.000000e+00   \n...        ...        ...        ...     ...        ...           ...   \n4034  121.0500  124.92175  112.82686       0   0.001074  7.273623e+08   \n4035  121.2300  121.30000  121.05000       0   0.000578  7.273623e+08   \n4036  121.5000  121.94000  120.00000       0  -0.006186  7.273623e+08   \n4037  120.5000  121.17000  120.15000       0   0.003071  7.273623e+08   \n4038  120.9600  120.97000  119.70000       0  -0.009680  7.273623e+08   \n\n      volume_obv  volume_cmf     volume_fi  volume_mfi  ...  momentum_ao  \\\n1              0    0.000000  0.000000e+00   50.000000  ...     0.000000   \n2              0    0.000000  0.000000e+00   50.000000  ...     0.000000   \n3              0    0.000000  0.000000e+00   50.000000  ...     0.000000   \n4              0    0.000000  0.000000e+00   50.000000  ...     0.000000   \n5              0    0.000000  0.000000e+00   50.000000  ...     0.137792   \n...          ...         ...           ...         ...  ...          ...   \n4034  -191276156    0.043106  2.445267e+06   87.478612  ...     1.544430   \n4035  -191276156    0.135300  2.095943e+06   87.478612  ...     1.466857   \n4036  -191276156    0.249058  1.796523e+06   87.478612  ...     1.296303   \n4037  -191276156    0.249058  1.539877e+06   87.478612  ...     1.173803   \n4038  -191276156    0.249058  1.319894e+06   87.478612  ...     1.028391   \n\n      momentum_kama  momentum_roc  momentum_ppo  momentum_ppo_signal  \\\n1         55.641486      0.000000      0.000000             0.000000   \n2         55.895109      0.000000      0.000000             0.000000   \n3         56.185689      0.000000      0.000000             0.000000   \n4         56.833695      0.000000      0.000000             0.000000   \n5         56.907320      0.000000      0.000000             0.000000   \n...             ...           ...           ...                  ...   \n4034     120.229954      1.295662     -5.787073             1.722459   \n4035     120.308444      2.010769    -13.903879            -1.402808   \n4036     120.314026      1.490777    -21.321391            -5.386525   \n4037     120.323329      1.494668    -28.099855            -9.929191   \n4038     120.285004     -1.332873    -34.294329           -14.802219   \n\n      momentum_ppo_hist  others_dr  others_dlr   others_cr  class_column  \n1              0.000000   0.179856    0.179695    0.179856             1  \n2              0.000000   0.982944    0.978145    1.164568             1  \n3              0.000000   0.617805    0.615905    1.789568             1  \n4              0.000000   2.151250    2.128437    3.979317             0  \n5              0.000000  -1.370811   -1.380293    2.553957             0  \n...                 ...        ...         ...         ...           ...  \n4034          -7.509532   0.107394    0.107336  117.949640             0  \n4035         -12.501070   0.057765    0.057749  118.075540             0  \n4036         -15.934866  -0.618557   -0.620478  116.726619             1  \n4037         -18.170665   0.307054    0.306583  117.392086             1  \n4038         -19.492111  -0.967982   -0.972698  115.287770             1  \n\n[4038 rows x 89 columns]",
      "text/html": "<div>\n<style scoped>\n    .dataframe tbody tr th:only-of-type {\n        vertical-align: middle;\n    }\n\n    .dataframe tbody tr th {\n        vertical-align: top;\n    }\n\n    .dataframe thead th {\n        text-align: right;\n    }\n</style>\n<table border=\"1\" class=\"dataframe\">\n  <thead>\n    <tr style=\"text-align: right;\">\n      <th></th>\n      <th>open</th>\n      <th>high</th>\n      <th>low</th>\n      <th>volume</th>\n      <th>close_pct</th>\n      <th>volume_adi</th>\n      <th>volume_obv</th>\n      <th>volume_cmf</th>\n      <th>volume_fi</th>\n      <th>volume_mfi</th>\n      <th>...</th>\n      <th>momentum_ao</th>\n      <th>momentum_kama</th>\n      <th>momentum_roc</th>\n      <th>momentum_ppo</th>\n      <th>momentum_ppo_signal</th>\n      <th>momentum_ppo_hist</th>\n      <th>others_dr</th>\n      <th>others_dlr</th>\n      <th>others_cr</th>\n      <th>class_column</th>\n    </tr>\n  </thead>\n  <tbody>\n    <tr>\n      <th>1</th>\n      <td>55.5500</td>\n      <td>56.09500</td>\n      <td>55.37000</td>\n      <td>0</td>\n      <td>0.001799</td>\n      <td>-0.000000e+00</td>\n      <td>0</td>\n      <td>0.000000</td>\n      <td>0.000000e+00</td>\n      <td>50.000000</td>\n      <td>...</td>\n      <td>0.000000</td>\n      <td>55.641486</td>\n      <td>0.000000</td>\n      <td>0.000000</td>\n      <td>0.000000</td>\n      <td>0.000000</td>\n      <td>0.179856</td>\n      <td>0.179695</td>\n      <td>0.179856</td>\n      <td>1</td>\n    </tr>\n    <tr>\n      <th>2</th>\n      <td>56.0325</td>\n      <td>56.43750</td>\n      <td>55.93750</td>\n      <td>0</td>\n      <td>0.009829</td>\n      <td>0.000000e+00</td>\n      <td>0</td>\n      <td>0.000000</td>\n      <td>0.000000e+00</td>\n      <td>50.000000</td>\n      <td>...</td>\n      <td>0.000000</td>\n      <td>55.895109</td>\n      <td>0.000000</td>\n      <td>0.000000</td>\n      <td>0.000000</td>\n      <td>0.000000</td>\n      <td>0.982944</td>\n      <td>0.978145</td>\n      <td>1.164568</td>\n      <td>1</td>\n    </tr>\n    <tr>\n      <th>3</th>\n      <td>56.1325</td>\n      <td>56.75000</td>\n      <td>56.04250</td>\n      <td>0</td>\n      <td>0.006178</td>\n      <td>0.000000e+00</td>\n      <td>0</td>\n      <td>0.000000</td>\n      <td>0.000000e+00</td>\n      <td>50.000000</td>\n      <td>...</td>\n      <td>0.000000</td>\n      <td>56.185689</td>\n      <td>0.000000</td>\n      <td>0.000000</td>\n      <td>0.000000</td>\n      <td>0.000000</td>\n      <td>0.617805</td>\n      <td>0.615905</td>\n      <td>1.789568</td>\n      <td>1</td>\n    </tr>\n    <tr>\n      <th>4</th>\n      <td>56.5500</td>\n      <td>58.19750</td>\n      <td>55.62500</td>\n      <td>0</td>\n      <td>0.021513</td>\n      <td>0.000000e+00</td>\n      <td>0</td>\n      <td>0.000000</td>\n      <td>0.000000e+00</td>\n      <td>50.000000</td>\n      <td>...</td>\n      <td>0.000000</td>\n      <td>56.833695</td>\n      <td>0.000000</td>\n      <td>0.000000</td>\n      <td>0.000000</td>\n      <td>0.000000</td>\n      <td>2.151250</td>\n      <td>2.128437</td>\n      <td>3.979317</td>\n      <td>0</td>\n    </tr>\n    <tr>\n      <th>5</th>\n      <td>57.8375</td>\n      <td>59.52500</td>\n      <td>56.88750</td>\n      <td>0</td>\n      <td>-0.013708</td>\n      <td>0.000000e+00</td>\n      <td>0</td>\n      <td>0.000000</td>\n      <td>0.000000e+00</td>\n      <td>50.000000</td>\n      <td>...</td>\n      <td>0.137792</td>\n      <td>56.907320</td>\n      <td>0.000000</td>\n      <td>0.000000</td>\n      <td>0.000000</td>\n      <td>0.000000</td>\n      <td>-1.370811</td>\n      <td>-1.380293</td>\n      <td>2.553957</td>\n      <td>0</td>\n    </tr>\n    <tr>\n      <th>...</th>\n      <td>...</td>\n      <td>...</td>\n      <td>...</td>\n      <td>...</td>\n      <td>...</td>\n      <td>...</td>\n      <td>...</td>\n      <td>...</td>\n      <td>...</td>\n      <td>...</td>\n      <td>...</td>\n      <td>...</td>\n      <td>...</td>\n      <td>...</td>\n      <td>...</td>\n      <td>...</td>\n      <td>...</td>\n      <td>...</td>\n      <td>...</td>\n      <td>...</td>\n      <td>...</td>\n    </tr>\n    <tr>\n      <th>4034</th>\n      <td>121.0500</td>\n      <td>124.92175</td>\n      <td>112.82686</td>\n      <td>0</td>\n      <td>0.001074</td>\n      <td>7.273623e+08</td>\n      <td>-191276156</td>\n      <td>0.043106</td>\n      <td>2.445267e+06</td>\n      <td>87.478612</td>\n      <td>...</td>\n      <td>1.544430</td>\n      <td>120.229954</td>\n      <td>1.295662</td>\n      <td>-5.787073</td>\n      <td>1.722459</td>\n      <td>-7.509532</td>\n      <td>0.107394</td>\n      <td>0.107336</td>\n      <td>117.949640</td>\n      <td>0</td>\n    </tr>\n    <tr>\n      <th>4035</th>\n      <td>121.2300</td>\n      <td>121.30000</td>\n      <td>121.05000</td>\n      <td>0</td>\n      <td>0.000578</td>\n      <td>7.273623e+08</td>\n      <td>-191276156</td>\n      <td>0.135300</td>\n      <td>2.095943e+06</td>\n      <td>87.478612</td>\n      <td>...</td>\n      <td>1.466857</td>\n      <td>120.308444</td>\n      <td>2.010769</td>\n      <td>-13.903879</td>\n      <td>-1.402808</td>\n      <td>-12.501070</td>\n      <td>0.057765</td>\n      <td>0.057749</td>\n      <td>118.075540</td>\n      <td>0</td>\n    </tr>\n    <tr>\n      <th>4036</th>\n      <td>121.5000</td>\n      <td>121.94000</td>\n      <td>120.00000</td>\n      <td>0</td>\n      <td>-0.006186</td>\n      <td>7.273623e+08</td>\n      <td>-191276156</td>\n      <td>0.249058</td>\n      <td>1.796523e+06</td>\n      <td>87.478612</td>\n      <td>...</td>\n      <td>1.296303</td>\n      <td>120.314026</td>\n      <td>1.490777</td>\n      <td>-21.321391</td>\n      <td>-5.386525</td>\n      <td>-15.934866</td>\n      <td>-0.618557</td>\n      <td>-0.620478</td>\n      <td>116.726619</td>\n      <td>1</td>\n    </tr>\n    <tr>\n      <th>4037</th>\n      <td>120.5000</td>\n      <td>121.17000</td>\n      <td>120.15000</td>\n      <td>0</td>\n      <td>0.003071</td>\n      <td>7.273623e+08</td>\n      <td>-191276156</td>\n      <td>0.249058</td>\n      <td>1.539877e+06</td>\n      <td>87.478612</td>\n      <td>...</td>\n      <td>1.173803</td>\n      <td>120.323329</td>\n      <td>1.494668</td>\n      <td>-28.099855</td>\n      <td>-9.929191</td>\n      <td>-18.170665</td>\n      <td>0.307054</td>\n      <td>0.306583</td>\n      <td>117.392086</td>\n      <td>1</td>\n    </tr>\n    <tr>\n      <th>4038</th>\n      <td>120.9600</td>\n      <td>120.97000</td>\n      <td>119.70000</td>\n      <td>0</td>\n      <td>-0.009680</td>\n      <td>7.273623e+08</td>\n      <td>-191276156</td>\n      <td>0.249058</td>\n      <td>1.319894e+06</td>\n      <td>87.478612</td>\n      <td>...</td>\n      <td>1.028391</td>\n      <td>120.285004</td>\n      <td>-1.332873</td>\n      <td>-34.294329</td>\n      <td>-14.802219</td>\n      <td>-19.492111</td>\n      <td>-0.967982</td>\n      <td>-0.972698</td>\n      <td>115.287770</td>\n      <td>1</td>\n    </tr>\n  </tbody>\n</table>\n<p>4038 rows × 89 columns</p>\n</div>"
     },
     "execution_count": 297,
     "metadata": {},
     "output_type": "execute_result"
    }
   ],
   "source": [
    "train_set"
   ],
   "metadata": {
    "collapsed": false,
    "pycharm": {
     "name": "#%%\n"
    }
   }
  },
  {
   "cell_type": "code",
   "execution_count": 298,
   "outputs": [],
   "source": [
    "y = data['class_column']\n",
    "features = [x for x in data.columns if x not in ['class_column']]\n",
    "x = data[features]\n",
    "scaler = MinMaxScaler()\n",
    "# x = pd.DataFrame(scaler.fit_transform(x.values), columns=x.columns, index=x.index)\n",
    "x_train= x.iloc[:-ROWS_TO_PREDICT]\n",
    "y_train= y.iloc[:-ROWS_TO_PREDICT]\n",
    "x_test =x.iloc[-ROWS_TO_PREDICT:]\n",
    "y_test=y.iloc[-ROWS_TO_PREDICT:]"
   ],
   "metadata": {
    "collapsed": false,
    "pycharm": {
     "name": "#%%\n"
    }
   }
  },
  {
   "cell_type": "code",
   "execution_count": 299,
   "outputs": [],
   "source": [
    "classifiers = dict()\n",
    "\n",
    "classifiers['DecisionTreeClassifier 1'] = DecisionTreeClassifier(max_depth=10, random_state=0,criterion='gini',splitter='best')\n",
    "classifiers['DecisionTreeClassifier 2'] = DecisionTreeClassifier(max_depth=10, random_state=0,criterion='gini',splitter='random')\n",
    "classifiers['DecisionTreeClassifier 3'] = DecisionTreeClassifier(max_depth=10, random_state=0,criterion='entropy',splitter='best')\n",
    "classifiers['RandomForestClassifier 4'] = RandomForestClassifier(n_estimators=1000, max_depth=3, random_state=0,criterion='gini', n_jobs = -1)\n",
    "classifiers['RandomForestClassifier 5'] = RandomForestClassifier(n_estimators=100, max_depth=2, random_state=0,criterion='entropy', n_jobs = -1)\n",
    "classifiers['GradientBoostingClassifier 1'] = GradientBoostingClassifier(n_estimators=100,random_state=0,criterion='friedman_mse',max_depth=3, learning_rate=0.1)\n",
    "classifiers['GradientBoostingClassifier 2'] = GradientBoostingClassifier(n_estimators=1000,random_state=0,criterion='friedman_mse',max_depth=3, learning_rate=0.1)"
   ],
   "metadata": {
    "collapsed": false,
    "pycharm": {
     "name": "#%%\n"
    }
   }
  },
  {
   "cell_type": "code",
   "execution_count": 300,
   "outputs": [],
   "source": [
    "def print_conf_matrix(test_y, predict, name):\n",
    "    matrix = confusion_matrix(test_y, predict,  labels=[-1, 0, 1])\n",
    "    print(matrix)\n",
    "    ax= plt.subplot()\n",
    "    sn.heatmap(matrix, annot=True, ax = ax) #annot=True to annotate cells\n",
    "\n",
    "    # labels, title and ticks\n",
    "    ax.set_xlabel('Predicted labels', color='white')\n",
    "    ax.set_ylabel('True labels', color='white')\n",
    "    ax.set_title(f'Confusion Matrix for {name}' , color='white')\n",
    "    ax.xaxis.set_ticklabels(['-1','0', '1'], color='white')\n",
    "    ax.yaxis.set_ticklabels(['-1','0', '1'], color='white')\n",
    "    plt.show()\n",
    "\n",
    "def train_model(model,train_x, train_y):\n",
    "    model.fit(train_x, train_y)"
   ],
   "metadata": {
    "collapsed": false,
    "pycharm": {
     "name": "#%%\n"
    }
   }
  },
  {
   "cell_type": "code",
   "execution_count": 301,
   "outputs": [
    {
     "name": "stdout",
     "output_type": "stream",
     "text": [
      "Calculate:  DecisionTreeClassifier 1\n",
      "Score:  0.546875\n",
      "Calculate:  DecisionTreeClassifier 2\n",
      "Score:  0.484375\n",
      "Calculate:  DecisionTreeClassifier 3\n",
      "Score:  0.390625\n",
      "Calculate:  RandomForestClassifier 4\n",
      "Score:  0.53125\n",
      "Calculate:  RandomForestClassifier 5\n",
      "Score:  0.53125\n",
      "Calculate:  GradientBoostingClassifier 1\n",
      "Score:  0.4296875\n",
      "Calculate:  GradientBoostingClassifier 2\n",
      "Score:  0.4921875\n",
      "+----+------------------------------+------------+\n",
      "|    | Classifier type              |   Accuracy |\n",
      "|----+------------------------------+------------|\n",
      "|  0 | DecisionTreeClassifier 1     |   0.546875 |\n",
      "|  1 | DecisionTreeClassifier 2     |   0.484375 |\n",
      "|  2 | DecisionTreeClassifier 3     |   0.390625 |\n",
      "|  3 | RandomForestClassifier 4     |   0.53125  |\n",
      "|  4 | RandomForestClassifier 5     |   0.53125  |\n",
      "|  5 | GradientBoostingClassifier 1 |   0.429688 |\n",
      "|  6 | GradientBoostingClassifier 2 |   0.492188 |\n",
      "+----+------------------------------+------------+\n"
     ]
    }
   ],
   "source": [
    "predictions= dict()\n",
    "score = dict()\n",
    "for k,v in classifiers.items():\n",
    "    print(\"Calculate: \", k)\n",
    "    train_model(v,x_train,y_train)\n",
    "    predictions[k] = v.predict(x_test)\n",
    "    score[k] = accuracy_score(y_test.values, predictions[k])\n",
    "    print('Score: ',  score[k] )\n",
    "    # print_conf_matrix(test_y, predictions[k], k)\n",
    "\n",
    "headers = [\"Classifier type\", \"Accuracy\"]\n",
    "score_df = pd.DataFrame(score.items(), columns=headers)\n",
    "print(tabulate(score_df, headers, tablefmt=\"psql\"))\n"
   ],
   "metadata": {
    "collapsed": false,
    "pycharm": {
     "name": "#%%\n"
    }
   }
  },
  {
   "cell_type": "code",
   "execution_count": 302,
   "outputs": [],
   "source": [
    "filename_to_export = f'../data/results/{symbol}_1_{WINDOW}_{ROWS_TO_PREDICT}_{ datetime.now().strftime(\"%d_%m_%Y %H_%M_%S\")}.csv'\n",
    "score_df.to_csv(filename_to_export, index=False)"
   ],
   "metadata": {
    "collapsed": false,
    "pycharm": {
     "name": "#%%\n"
    }
   }
  },
  {
   "cell_type": "code",
   "execution_count": 303,
   "outputs": [
    {
     "name": "stderr",
     "output_type": "stream",
     "text": [
      "C:\\Users\\exomat\\anaconda3\\envs\\magisterka_analiza\\lib\\site-packages\\sklearn\\utils\\validation.py:67: FutureWarning: Pass n_features_to_select=10 as keyword args. From version 0.25 passing these as positional arguments will result in an error\n",
      "  warnings.warn(\"Pass {} as keyword args. From version 0.25 \"\n"
     ]
    },
    {
     "data": {
      "text/plain": "RFE(estimator=RandomForestClassifier(criterion='entropy', max_depth=2,\n                                     n_jobs=-1, random_state=0),\n    n_features_to_select=10)"
     },
     "execution_count": 303,
     "metadata": {},
     "output_type": "execute_result"
    }
   ],
   "source": [
    "rfe = RFE(classifiers['RandomForestClassifier 5'],10)\n",
    "fited = rfe.fit(x_train, y_train)\n",
    "rfe"
   ],
   "metadata": {
    "collapsed": false,
    "pycharm": {
     "name": "#%%\n"
    }
   }
  },
  {
   "cell_type": "code",
   "execution_count": 304,
   "outputs": [
    {
     "name": "stdout",
     "output_type": "stream",
     "text": [
      "Columns with predictive power: ['volume_obv', 'volume_nvi', 'volatility_atr', 'volatility_kch', 'trend_sma_fast', 'trend_ema_fast', 'trend_ichimoku_b', 'trend_visual_ichimoku_a', 'trend_visual_ichimoku_b', 'momentum_kama']\n"
     ]
    },
    {
     "data": {
      "text/plain": "['volume_obv',\n 'volume_nvi',\n 'volatility_atr',\n 'volatility_kch',\n 'trend_sma_fast',\n 'trend_ema_fast',\n 'trend_ichimoku_b',\n 'trend_visual_ichimoku_a',\n 'trend_visual_ichimoku_b',\n 'momentum_kama',\n 'high',\n 'low',\n 'volume',\n 'open']"
     },
     "execution_count": 304,
     "metadata": {},
     "output_type": "execute_result"
    }
   ],
   "source": [
    "names = x.columns\n",
    "columns=[]\n",
    "for i in range(len(fited.support_)):\n",
    "    if fited.support_[i]:\n",
    "        columns.append(names[i])\n",
    "\n",
    "print(\"Columns with predictive power:\", columns )\n",
    "columns = columns + ['high', 'low', 'volume', 'open']\n",
    "columns"
   ],
   "metadata": {
    "collapsed": false,
    "pycharm": {
     "name": "#%%\n"
    }
   }
  },
  {
   "cell_type": "code",
   "execution_count": 305,
   "outputs": [
    {
     "data": {
      "text/plain": "      volume_obv   volume_nvi  volatility_atr  volatility_kch  trend_sma_fast  \\\n1              0  1000.000000        0.000000       56.470000       55.650000   \n2              0  1000.000000        0.000000       56.549167       55.849167   \n3              0  1000.000000        0.000000       56.704375       56.035625   \n4              0  1000.000000        0.000000       57.320333       56.391000   \n5              0  1000.000000        0.000000       57.841667       56.495833   \n...          ...          ...             ...             ...             ...   \n4050  -215126765  1191.341373        2.863150      122.195959      119.863933   \n4051  -215126765  1191.341373        2.587835      121.869292      119.833099   \n4052  -215126765  1191.341373        2.576051      121.930626      120.032266   \n4053  -215126765  1191.341373        2.354446      122.093983      120.069766   \n4054  -215126765  1191.341373        2.173002      122.330283      120.282266   \n\n      trend_ema_fast  trend_ichimoku_b  trend_visual_ichimoku_a  \\\n1          55.615385         55.795000               106.371461   \n2          55.712633         55.903750               106.371461   \n3          55.848382         56.060000               106.371461   \n4          56.150554         56.783750               106.371461   \n5          56.284315         57.447500               106.371461   \n...              ...               ...                      ...   \n4050      119.551182        118.865263               115.798393   \n4051      119.638692        118.865263               115.798393   \n4052      120.066586        118.865263               115.798393   \n4053      120.430188        118.865263               117.379171   \n4054      120.745544        118.865263               117.379171   \n\n      trend_visual_ichimoku_b  momentum_kama      high        low  volume  \\\n1                  106.394298      55.641486   56.0950   55.37000       0   \n2                  106.394298      55.895109   56.4375   55.93750       0   \n3                  106.394298      56.185689   56.7500   56.04250       0   \n4                  106.394298      56.833695   58.1975   55.62500       0   \n5                  106.394298      56.907320   59.5250   56.88750       0   \n...                       ...            ...       ...        ...     ...   \n4050               117.162428     119.511745  121.9103  113.06752       0   \n4051               117.162428     119.523453  120.2000  120.09000       0   \n4052               117.162428     119.599707  122.5900  121.40000       0   \n4053               117.162428     119.659735  122.6000  122.24000       0   \n4054               117.162428     119.745654  122.9000  122.36000       0   \n\n          open  \n1      55.5500  \n2      56.0325  \n3      56.1325  \n4      56.5500  \n5      57.8375  \n...        ...  \n4050  120.0700  \n4051  120.1500  \n4052  122.2400  \n4053  122.4100  \n4054  122.4700  \n\n[4054 rows x 14 columns]",
      "text/html": "<div>\n<style scoped>\n    .dataframe tbody tr th:only-of-type {\n        vertical-align: middle;\n    }\n\n    .dataframe tbody tr th {\n        vertical-align: top;\n    }\n\n    .dataframe thead th {\n        text-align: right;\n    }\n</style>\n<table border=\"1\" class=\"dataframe\">\n  <thead>\n    <tr style=\"text-align: right;\">\n      <th></th>\n      <th>volume_obv</th>\n      <th>volume_nvi</th>\n      <th>volatility_atr</th>\n      <th>volatility_kch</th>\n      <th>trend_sma_fast</th>\n      <th>trend_ema_fast</th>\n      <th>trend_ichimoku_b</th>\n      <th>trend_visual_ichimoku_a</th>\n      <th>trend_visual_ichimoku_b</th>\n      <th>momentum_kama</th>\n      <th>high</th>\n      <th>low</th>\n      <th>volume</th>\n      <th>open</th>\n    </tr>\n  </thead>\n  <tbody>\n    <tr>\n      <th>1</th>\n      <td>0</td>\n      <td>1000.000000</td>\n      <td>0.000000</td>\n      <td>56.470000</td>\n      <td>55.650000</td>\n      <td>55.615385</td>\n      <td>55.795000</td>\n      <td>106.371461</td>\n      <td>106.394298</td>\n      <td>55.641486</td>\n      <td>56.0950</td>\n      <td>55.37000</td>\n      <td>0</td>\n      <td>55.5500</td>\n    </tr>\n    <tr>\n      <th>2</th>\n      <td>0</td>\n      <td>1000.000000</td>\n      <td>0.000000</td>\n      <td>56.549167</td>\n      <td>55.849167</td>\n      <td>55.712633</td>\n      <td>55.903750</td>\n      <td>106.371461</td>\n      <td>106.394298</td>\n      <td>55.895109</td>\n      <td>56.4375</td>\n      <td>55.93750</td>\n      <td>0</td>\n      <td>56.0325</td>\n    </tr>\n    <tr>\n      <th>3</th>\n      <td>0</td>\n      <td>1000.000000</td>\n      <td>0.000000</td>\n      <td>56.704375</td>\n      <td>56.035625</td>\n      <td>55.848382</td>\n      <td>56.060000</td>\n      <td>106.371461</td>\n      <td>106.394298</td>\n      <td>56.185689</td>\n      <td>56.7500</td>\n      <td>56.04250</td>\n      <td>0</td>\n      <td>56.1325</td>\n    </tr>\n    <tr>\n      <th>4</th>\n      <td>0</td>\n      <td>1000.000000</td>\n      <td>0.000000</td>\n      <td>57.320333</td>\n      <td>56.391000</td>\n      <td>56.150554</td>\n      <td>56.783750</td>\n      <td>106.371461</td>\n      <td>106.394298</td>\n      <td>56.833695</td>\n      <td>58.1975</td>\n      <td>55.62500</td>\n      <td>0</td>\n      <td>56.5500</td>\n    </tr>\n    <tr>\n      <th>5</th>\n      <td>0</td>\n      <td>1000.000000</td>\n      <td>0.000000</td>\n      <td>57.841667</td>\n      <td>56.495833</td>\n      <td>56.284315</td>\n      <td>57.447500</td>\n      <td>106.371461</td>\n      <td>106.394298</td>\n      <td>56.907320</td>\n      <td>59.5250</td>\n      <td>56.88750</td>\n      <td>0</td>\n      <td>57.8375</td>\n    </tr>\n    <tr>\n      <th>...</th>\n      <td>...</td>\n      <td>...</td>\n      <td>...</td>\n      <td>...</td>\n      <td>...</td>\n      <td>...</td>\n      <td>...</td>\n      <td>...</td>\n      <td>...</td>\n      <td>...</td>\n      <td>...</td>\n      <td>...</td>\n      <td>...</td>\n      <td>...</td>\n    </tr>\n    <tr>\n      <th>4050</th>\n      <td>-215126765</td>\n      <td>1191.341373</td>\n      <td>2.863150</td>\n      <td>122.195959</td>\n      <td>119.863933</td>\n      <td>119.551182</td>\n      <td>118.865263</td>\n      <td>115.798393</td>\n      <td>117.162428</td>\n      <td>119.511745</td>\n      <td>121.9103</td>\n      <td>113.06752</td>\n      <td>0</td>\n      <td>120.0700</td>\n    </tr>\n    <tr>\n      <th>4051</th>\n      <td>-215126765</td>\n      <td>1191.341373</td>\n      <td>2.587835</td>\n      <td>121.869292</td>\n      <td>119.833099</td>\n      <td>119.638692</td>\n      <td>118.865263</td>\n      <td>115.798393</td>\n      <td>117.162428</td>\n      <td>119.523453</td>\n      <td>120.2000</td>\n      <td>120.09000</td>\n      <td>0</td>\n      <td>120.1500</td>\n    </tr>\n    <tr>\n      <th>4052</th>\n      <td>-215126765</td>\n      <td>1191.341373</td>\n      <td>2.576051</td>\n      <td>121.930626</td>\n      <td>120.032266</td>\n      <td>120.066586</td>\n      <td>118.865263</td>\n      <td>115.798393</td>\n      <td>117.162428</td>\n      <td>119.599707</td>\n      <td>122.5900</td>\n      <td>121.40000</td>\n      <td>0</td>\n      <td>122.2400</td>\n    </tr>\n    <tr>\n      <th>4053</th>\n      <td>-215126765</td>\n      <td>1191.341373</td>\n      <td>2.354446</td>\n      <td>122.093983</td>\n      <td>120.069766</td>\n      <td>120.430188</td>\n      <td>118.865263</td>\n      <td>117.379171</td>\n      <td>117.162428</td>\n      <td>119.659735</td>\n      <td>122.6000</td>\n      <td>122.24000</td>\n      <td>0</td>\n      <td>122.4100</td>\n    </tr>\n    <tr>\n      <th>4054</th>\n      <td>-215126765</td>\n      <td>1191.341373</td>\n      <td>2.173002</td>\n      <td>122.330283</td>\n      <td>120.282266</td>\n      <td>120.745544</td>\n      <td>118.865263</td>\n      <td>117.379171</td>\n      <td>117.162428</td>\n      <td>119.745654</td>\n      <td>122.9000</td>\n      <td>122.36000</td>\n      <td>0</td>\n      <td>122.4700</td>\n    </tr>\n  </tbody>\n</table>\n<p>4054 rows × 14 columns</p>\n</div>"
     },
     "execution_count": 305,
     "metadata": {},
     "output_type": "execute_result"
    }
   ],
   "source": [
    "x_test_cropped = x_test[columns]\n",
    "x_train_cropped = x_train[columns]\n",
    "x_train_cropped"
   ],
   "metadata": {
    "collapsed": false,
    "pycharm": {
     "name": "#%%\n"
    }
   }
  },
  {
   "cell_type": "code",
   "execution_count": 306,
   "outputs": [],
   "source": [
    "classifiers_boosted = dict()\n",
    "classifiers_boosted['GradientBoostingClassifier 1'] = GradientBoostingClassifier(n_estimators=100,random_state=0,criterion='friedman_mse',max_depth=3, learning_rate=0.1)\n",
    "classifiers_boosted['GradientBoostingClassifier 2'] = GradientBoostingClassifier(n_estimators=1000,random_state=0,criterion='friedman_mse',max_depth=3, learning_rate=0.3)\n",
    "classifiers_boosted['GradientBoostingClassifier 3'] = GradientBoostingClassifier(n_estimators=1000,random_state=0,criterion='friedman_mse',max_depth=2, learning_rate=0.5)\n",
    "classifiers_boosted['GradientBoostingClassifier 4'] = GradientBoostingClassifier(n_estimators=1000,random_state=0,criterion='friedman_mse',max_depth=2, learning_rate=0.8)"
   ],
   "metadata": {
    "collapsed": false,
    "pycharm": {
     "name": "#%%\n"
    }
   }
  },
  {
   "cell_type": "code",
   "execution_count": 307,
   "outputs": [
    {
     "name": "stdout",
     "output_type": "stream",
     "text": [
      "Calculate:  GradientBoostingClassifier 1\n",
      "Score:  0.578125\n",
      "Calculate:  GradientBoostingClassifier 2\n",
      "Score:  0.5390625\n",
      "Calculate:  GradientBoostingClassifier 3\n",
      "Score:  0.5\n",
      "Calculate:  GradientBoostingClassifier 4\n",
      "Score:  0.5703125\n",
      "+----+------------------------------+------------+\n",
      "|    | Classifier type              |   Accuracy |\n",
      "|----+------------------------------+------------|\n",
      "|  0 | GradientBoostingClassifier 1 |   0.578125 |\n",
      "|  1 | GradientBoostingClassifier 2 |   0.539062 |\n",
      "|  2 | GradientBoostingClassifier 3 |   0.5      |\n",
      "|  3 | GradientBoostingClassifier 4 |   0.570312 |\n",
      "+----+------------------------------+------------+\n"
     ]
    }
   ],
   "source": [
    "predictions= dict()\n",
    "score = dict()\n",
    "for k,v in classifiers_boosted.items():\n",
    "    print(\"Calculate: \", k)\n",
    "    train_model(v,x_train_cropped,y_train)\n",
    "    predictions[k] = v.predict(x_test_cropped)\n",
    "    score[k] = accuracy_score(y_test.values, predictions[k])\n",
    "    print('Score: ',  score[k] )\n",
    "    # print_conf_matrix(test_y, predictions[k], k)\n",
    "\n",
    "headers = [\"Classifier type\", \"Accuracy\"]\n",
    "score_df = pd.DataFrame(score.items(), columns=headers)\n",
    "print(tabulate(score_df, headers, tablefmt=\"psql\"))"
   ],
   "metadata": {
    "collapsed": false,
    "pycharm": {
     "name": "#%%\n"
    }
   }
  },
  {
   "cell_type": "code",
   "execution_count": 309,
   "outputs": [],
   "source": [
    "score_df.to_csv(filename_to_export,mode='a', index=False, header=False)"
   ],
   "metadata": {
    "collapsed": false,
    "pycharm": {
     "name": "#%%\n"
    }
   }
  },
  {
   "cell_type": "code",
   "execution_count": null,
   "outputs": [],
   "source": [],
   "metadata": {
    "collapsed": false,
    "pycharm": {
     "name": "#%%\n"
    }
   }
  }
 ],
 "metadata": {
  "kernelspec": {
   "name": "magisterka_analiza",
   "language": "python",
   "display_name": "Python magisterka"
  },
  "language_info": {
   "codemirror_mode": {
    "name": "ipython",
    "version": 2
   },
   "file_extension": ".py",
   "mimetype": "text/x-python",
   "name": "python",
   "nbconvert_exporter": "python",
   "pygments_lexer": "ipython2",
   "version": "2.7.6"
  }
 },
 "nbformat": 4,
 "nbformat_minor": 0
}