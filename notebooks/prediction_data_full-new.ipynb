{
 "cells": [
  {
   "cell_type": "code",
   "execution_count": 133,
   "outputs": [],
   "source": [
    "import yfinance as yf\n",
    "from datetime import datetime\n",
    "import pandas as pd\n",
    "import numpy as np\n",
    "import matplotlib.pyplot as plt\n",
    "from finta import TA\n",
    "import numpy as np\n",
    "from sklearn.ensemble import RandomForestClassifier, VotingClassifier\n",
    "from sklearn.model_selection import GridSearchCV, train_test_split\n",
    "from sklearn.preprocessing import MinMaxScaler\n",
    "from sklearn.tree import DecisionTreeClassifier\n",
    "from sklearn.ensemble import GradientBoostingClassifier\n",
    "from sklearn.metrics import confusion_matrix, classification_report, accuracy_score\n",
    "from sklearn.metrics import jaccard_score\n",
    "import seaborn as sn\n",
    "from tabulate import tabulate\n",
    "from xgboost import XGBClassifier\n",
    "from ta import add_all_ta_features\n",
    "from sklearn.feature_selection import RFE"
   ],
   "metadata": {
    "collapsed": false,
    "pycharm": {
     "name": "#%%\n"
    }
   }
  },
  {
   "cell_type": "code",
   "execution_count": 134,
   "outputs": [],
   "source": [
    "WINDOW = 8 # number of rows to look ahead to see what the price did\n",
    "FETCH_INTERVAL = \"60m\"  # fetch data by interval (including intraday if period < 60 days)\n",
    "        # valid intervals: 1m,2m,5m,15m,30m,60m,90m,1h,1d,5d,1wk,1mo,3mo\n",
    "        # (optional, default is '1d')\n",
    "INTERVAL = '1y'     # use \"period\" instead of start/end\n",
    "        # valid periods: 1d,5d,1mo,3mo,6mo,1y,2y,5y,10y,ytd,max\n",
    "        # (optional, default is '1mo')\n",
    "symbol = 'AAPL'      # Symbol of the desired stock\n",
    "ROWS_TO_PREDICT = 128\n",
    "# one day 16 rows of data"
   ],
   "metadata": {
    "collapsed": false,
    "pycharm": {
     "name": "#%%\n"
    }
   }
  },
  {
   "cell_type": "code",
   "execution_count": 135,
   "outputs": [
    {
     "data": {
      "text/plain": "                                  open         high          low        close  \\\nDatetime                                                                        \n2020-05-12 13:30:00-04:00  1394.750000  1399.160034  1392.589966  1396.579956   \n2020-05-12 14:30:00-04:00  1396.579956  1397.800049  1388.449951  1389.969971   \n2020-05-12 15:30:00-04:00  1390.805786  1392.000000  1374.770020  1374.770020   \n2020-05-12 16:00:00-04:00  1375.740000  1375.740000  1373.000000  1373.000000   \n2020-05-12 17:00:00-04:00  1369.500000  1369.500000  1369.500000  1369.500000   \n...                                ...          ...          ...          ...   \n2021-05-11 12:30:00-04:00  2311.649902  2319.840088  2302.368896  2318.750000   \n2021-05-11 13:30:00-04:00  2318.475098  2322.000000  2308.100098  2320.695068   \n2021-05-11 14:30:00-04:00  2320.280029  2321.979980  2305.729980  2309.737793   \n2021-05-11 15:30:00-04:00  2309.419922  2311.459961  2300.000000  2308.320068   \n2021-05-11 15:43:38-04:00  2305.449951  2305.449951  2305.449951  2305.449951   \n\n                             Adj Close  volume     open_1     open_2  \\\nDatetime                                                               \n2020-05-12 13:30:00-04:00  1396.579956  101864  -8.810059  -9.319946   \n2020-05-12 14:30:00-04:00  1389.969971  119507   1.829956  -6.980103   \n2020-05-12 15:30:00-04:00  1374.770020  223831  -5.774170  -3.944214   \n2020-05-12 16:00:00-04:00  1373.000000       0 -15.065786 -20.839956   \n2020-05-12 17:00:00-04:00  1369.500000       0  -6.240000 -21.305786   \n...                                ...     ...        ...        ...   \n2021-05-11 12:30:00-04:00  2318.750000  100865  -4.765137  12.649902   \n2021-05-11 13:30:00-04:00  2320.695068   99874   6.825195   2.060059   \n2021-05-11 14:30:00-04:00  2309.737793  131604   1.804932   8.630127   \n2021-05-11 15:30:00-04:00  2308.320068   48380 -10.860107  -9.055176   \n2021-05-11 15:43:38-04:00  2305.449951       0  -3.969971 -14.830078   \n\n                              open_3     open_4  ...  momentum_kama  \\\nDatetime                                         ...                  \n2020-05-12 13:30:00-04:00  -3.074951 -12.369995  ...    1396.579956   \n2020-05-12 14:30:00-04:00  -7.489990  -1.244995  ...    1393.720436   \n2020-05-12 15:30:00-04:00 -12.754272 -13.264160  ...    1385.410775   \n2020-05-12 16:00:00-04:00 -19.010000 -27.820059  ...    1379.790950   \n2020-05-12 17:00:00-04:00 -27.079956 -25.250000  ...    1375.171529   \n...                              ...        ...  ...            ...   \n2021-05-11 12:30:00-04:00  19.789795  11.659902  ...    2306.335849   \n2021-05-11 13:30:00-04:00  19.475098  26.614990  ...    2306.632664   \n2021-05-11 14:30:00-04:00   3.864990  21.280029  ...    2306.658155   \n2021-05-11 15:30:00-04:00  -2.229980  -6.995117  ...    2306.677443   \n2021-05-11 15:43:38-04:00 -13.025146  -6.199951  ...    2306.643981   \n\n                           momentum_roc  momentum_ppo  momentum_ppo_signal  \\\nDatetime                                                                     \n2020-05-12 13:30:00-04:00      0.000000      0.000000             0.000000   \n2020-05-12 14:30:00-04:00      0.000000      1.364163             0.272833   \n2020-05-12 15:30:00-04:00      0.000000      9.647961             2.147858   \n2020-05-12 16:00:00-04:00      0.000000      0.201367             1.758560   \n2020-05-12 17:00:00-04:00      0.000000     -8.431366            -0.279425   \n...                                 ...           ...                  ...   \n2021-05-11 12:30:00-04:00     -0.713365     30.067301             8.438716   \n2021-05-11 13:30:00-04:00     -0.731668     25.661071            11.883187   \n2021-05-11 14:30:00-04:00     -1.122122     23.956456            14.297841   \n2021-05-11 15:30:00-04:00     -0.163917     16.821177            14.802508   \n2021-05-11 15:43:38-04:00     -0.326418      6.756584            13.193323   \n\n                           momentum_ppo_hist  others_dr  others_dlr  \\\nDatetime                                                              \n2020-05-12 13:30:00-04:00           0.000000 -21.866920    0.000000   \n2020-05-12 14:30:00-04:00           1.091330  -0.473298   -0.474422   \n2020-05-12 15:30:00-04:00           7.500102  -1.093545   -1.099568   \n2020-05-12 16:00:00-04:00          -1.557193  -0.128750   -0.128833   \n2020-05-12 17:00:00-04:00          -8.151941  -0.254916   -0.255242   \n...                                      ...        ...         ...   \n2021-05-11 12:30:00-04:00          21.628585   0.352283    0.351664   \n2021-05-11 13:30:00-04:00          13.777884   0.083884    0.083849   \n2021-05-11 14:30:00-04:00           9.658615  -0.472155   -0.473273   \n2021-05-11 15:30:00-04:00           2.018669  -0.061380   -0.061399   \n2021-05-11 15:43:38-04:00          -6.436740  -0.124338   -0.124415   \n\n                           others_cr  close_shift  class_column  \nDatetime                                                         \n2020-05-12 13:30:00-04:00   0.000000    1351.0000            -1  \n2020-05-12 14:30:00-04:00  -0.473298    1352.3439            -1  \n2020-05-12 15:30:00-04:00  -1.561668    1350.0000            -1  \n2020-05-12 16:00:00-04:00  -1.688407    1347.5200            -1  \n2020-05-12 17:00:00-04:00  -1.939019    1335.9600            -1  \n...                              ...          ...           ...  \n2021-05-11 12:30:00-04:00  66.030594          NaN             0  \n2021-05-11 13:30:00-04:00  66.169868          NaN             0  \n2021-05-11 14:30:00-04:00  65.385289          NaN             0  \n2021-05-11 15:30:00-04:00  65.283775          NaN             0  \n2021-05-11 15:43:38-04:00  65.078264          NaN             0  \n\n[3384 rows x 122 columns]",
      "text/html": "<div>\n<style scoped>\n    .dataframe tbody tr th:only-of-type {\n        vertical-align: middle;\n    }\n\n    .dataframe tbody tr th {\n        vertical-align: top;\n    }\n\n    .dataframe thead th {\n        text-align: right;\n    }\n</style>\n<table border=\"1\" class=\"dataframe\">\n  <thead>\n    <tr style=\"text-align: right;\">\n      <th></th>\n      <th>open</th>\n      <th>high</th>\n      <th>low</th>\n      <th>close</th>\n      <th>Adj Close</th>\n      <th>volume</th>\n      <th>open_1</th>\n      <th>open_2</th>\n      <th>open_3</th>\n      <th>open_4</th>\n      <th>...</th>\n      <th>momentum_kama</th>\n      <th>momentum_roc</th>\n      <th>momentum_ppo</th>\n      <th>momentum_ppo_signal</th>\n      <th>momentum_ppo_hist</th>\n      <th>others_dr</th>\n      <th>others_dlr</th>\n      <th>others_cr</th>\n      <th>close_shift</th>\n      <th>class_column</th>\n    </tr>\n    <tr>\n      <th>Datetime</th>\n      <th></th>\n      <th></th>\n      <th></th>\n      <th></th>\n      <th></th>\n      <th></th>\n      <th></th>\n      <th></th>\n      <th></th>\n      <th></th>\n      <th></th>\n      <th></th>\n      <th></th>\n      <th></th>\n      <th></th>\n      <th></th>\n      <th></th>\n      <th></th>\n      <th></th>\n      <th></th>\n      <th></th>\n    </tr>\n  </thead>\n  <tbody>\n    <tr>\n      <th>2020-05-12 13:30:00-04:00</th>\n      <td>1394.750000</td>\n      <td>1399.160034</td>\n      <td>1392.589966</td>\n      <td>1396.579956</td>\n      <td>1396.579956</td>\n      <td>101864</td>\n      <td>-8.810059</td>\n      <td>-9.319946</td>\n      <td>-3.074951</td>\n      <td>-12.369995</td>\n      <td>...</td>\n      <td>1396.579956</td>\n      <td>0.000000</td>\n      <td>0.000000</td>\n      <td>0.000000</td>\n      <td>0.000000</td>\n      <td>-21.866920</td>\n      <td>0.000000</td>\n      <td>0.000000</td>\n      <td>1351.0000</td>\n      <td>-1</td>\n    </tr>\n    <tr>\n      <th>2020-05-12 14:30:00-04:00</th>\n      <td>1396.579956</td>\n      <td>1397.800049</td>\n      <td>1388.449951</td>\n      <td>1389.969971</td>\n      <td>1389.969971</td>\n      <td>119507</td>\n      <td>1.829956</td>\n      <td>-6.980103</td>\n      <td>-7.489990</td>\n      <td>-1.244995</td>\n      <td>...</td>\n      <td>1393.720436</td>\n      <td>0.000000</td>\n      <td>1.364163</td>\n      <td>0.272833</td>\n      <td>1.091330</td>\n      <td>-0.473298</td>\n      <td>-0.474422</td>\n      <td>-0.473298</td>\n      <td>1352.3439</td>\n      <td>-1</td>\n    </tr>\n    <tr>\n      <th>2020-05-12 15:30:00-04:00</th>\n      <td>1390.805786</td>\n      <td>1392.000000</td>\n      <td>1374.770020</td>\n      <td>1374.770020</td>\n      <td>1374.770020</td>\n      <td>223831</td>\n      <td>-5.774170</td>\n      <td>-3.944214</td>\n      <td>-12.754272</td>\n      <td>-13.264160</td>\n      <td>...</td>\n      <td>1385.410775</td>\n      <td>0.000000</td>\n      <td>9.647961</td>\n      <td>2.147858</td>\n      <td>7.500102</td>\n      <td>-1.093545</td>\n      <td>-1.099568</td>\n      <td>-1.561668</td>\n      <td>1350.0000</td>\n      <td>-1</td>\n    </tr>\n    <tr>\n      <th>2020-05-12 16:00:00-04:00</th>\n      <td>1375.740000</td>\n      <td>1375.740000</td>\n      <td>1373.000000</td>\n      <td>1373.000000</td>\n      <td>1373.000000</td>\n      <td>0</td>\n      <td>-15.065786</td>\n      <td>-20.839956</td>\n      <td>-19.010000</td>\n      <td>-27.820059</td>\n      <td>...</td>\n      <td>1379.790950</td>\n      <td>0.000000</td>\n      <td>0.201367</td>\n      <td>1.758560</td>\n      <td>-1.557193</td>\n      <td>-0.128750</td>\n      <td>-0.128833</td>\n      <td>-1.688407</td>\n      <td>1347.5200</td>\n      <td>-1</td>\n    </tr>\n    <tr>\n      <th>2020-05-12 17:00:00-04:00</th>\n      <td>1369.500000</td>\n      <td>1369.500000</td>\n      <td>1369.500000</td>\n      <td>1369.500000</td>\n      <td>1369.500000</td>\n      <td>0</td>\n      <td>-6.240000</td>\n      <td>-21.305786</td>\n      <td>-27.079956</td>\n      <td>-25.250000</td>\n      <td>...</td>\n      <td>1375.171529</td>\n      <td>0.000000</td>\n      <td>-8.431366</td>\n      <td>-0.279425</td>\n      <td>-8.151941</td>\n      <td>-0.254916</td>\n      <td>-0.255242</td>\n      <td>-1.939019</td>\n      <td>1335.9600</td>\n      <td>-1</td>\n    </tr>\n    <tr>\n      <th>...</th>\n      <td>...</td>\n      <td>...</td>\n      <td>...</td>\n      <td>...</td>\n      <td>...</td>\n      <td>...</td>\n      <td>...</td>\n      <td>...</td>\n      <td>...</td>\n      <td>...</td>\n      <td>...</td>\n      <td>...</td>\n      <td>...</td>\n      <td>...</td>\n      <td>...</td>\n      <td>...</td>\n      <td>...</td>\n      <td>...</td>\n      <td>...</td>\n      <td>...</td>\n      <td>...</td>\n    </tr>\n    <tr>\n      <th>2021-05-11 12:30:00-04:00</th>\n      <td>2311.649902</td>\n      <td>2319.840088</td>\n      <td>2302.368896</td>\n      <td>2318.750000</td>\n      <td>2318.750000</td>\n      <td>100865</td>\n      <td>-4.765137</td>\n      <td>12.649902</td>\n      <td>19.789795</td>\n      <td>11.659902</td>\n      <td>...</td>\n      <td>2306.335849</td>\n      <td>-0.713365</td>\n      <td>30.067301</td>\n      <td>8.438716</td>\n      <td>21.628585</td>\n      <td>0.352283</td>\n      <td>0.351664</td>\n      <td>66.030594</td>\n      <td>NaN</td>\n      <td>0</td>\n    </tr>\n    <tr>\n      <th>2021-05-11 13:30:00-04:00</th>\n      <td>2318.475098</td>\n      <td>2322.000000</td>\n      <td>2308.100098</td>\n      <td>2320.695068</td>\n      <td>2320.695068</td>\n      <td>99874</td>\n      <td>6.825195</td>\n      <td>2.060059</td>\n      <td>19.475098</td>\n      <td>26.614990</td>\n      <td>...</td>\n      <td>2306.632664</td>\n      <td>-0.731668</td>\n      <td>25.661071</td>\n      <td>11.883187</td>\n      <td>13.777884</td>\n      <td>0.083884</td>\n      <td>0.083849</td>\n      <td>66.169868</td>\n      <td>NaN</td>\n      <td>0</td>\n    </tr>\n    <tr>\n      <th>2021-05-11 14:30:00-04:00</th>\n      <td>2320.280029</td>\n      <td>2321.979980</td>\n      <td>2305.729980</td>\n      <td>2309.737793</td>\n      <td>2309.737793</td>\n      <td>131604</td>\n      <td>1.804932</td>\n      <td>8.630127</td>\n      <td>3.864990</td>\n      <td>21.280029</td>\n      <td>...</td>\n      <td>2306.658155</td>\n      <td>-1.122122</td>\n      <td>23.956456</td>\n      <td>14.297841</td>\n      <td>9.658615</td>\n      <td>-0.472155</td>\n      <td>-0.473273</td>\n      <td>65.385289</td>\n      <td>NaN</td>\n      <td>0</td>\n    </tr>\n    <tr>\n      <th>2021-05-11 15:30:00-04:00</th>\n      <td>2309.419922</td>\n      <td>2311.459961</td>\n      <td>2300.000000</td>\n      <td>2308.320068</td>\n      <td>2308.320068</td>\n      <td>48380</td>\n      <td>-10.860107</td>\n      <td>-9.055176</td>\n      <td>-2.229980</td>\n      <td>-6.995117</td>\n      <td>...</td>\n      <td>2306.677443</td>\n      <td>-0.163917</td>\n      <td>16.821177</td>\n      <td>14.802508</td>\n      <td>2.018669</td>\n      <td>-0.061380</td>\n      <td>-0.061399</td>\n      <td>65.283775</td>\n      <td>NaN</td>\n      <td>0</td>\n    </tr>\n    <tr>\n      <th>2021-05-11 15:43:38-04:00</th>\n      <td>2305.449951</td>\n      <td>2305.449951</td>\n      <td>2305.449951</td>\n      <td>2305.449951</td>\n      <td>2305.449951</td>\n      <td>0</td>\n      <td>-3.969971</td>\n      <td>-14.830078</td>\n      <td>-13.025146</td>\n      <td>-6.199951</td>\n      <td>...</td>\n      <td>2306.643981</td>\n      <td>-0.326418</td>\n      <td>6.756584</td>\n      <td>13.193323</td>\n      <td>-6.436740</td>\n      <td>-0.124338</td>\n      <td>-0.124415</td>\n      <td>65.078264</td>\n      <td>NaN</td>\n      <td>0</td>\n    </tr>\n  </tbody>\n</table>\n<p>3384 rows × 122 columns</p>\n</div>"
     },
     "execution_count": 135,
     "metadata": {},
     "output_type": "execute_result"
    }
   ],
   "source": [
    "data = pd.read_csv('C:\\\\Users\\\\exomat\\\\Desktop\\\\repo\\\\magisterka_analiza\\\\data\\\\preprocess_new\\\\GOOG_1y_17_diff_11_05_2021 21_44_49_full.csv', index_col = 0)\n",
    "data\n",
    "\n",
    "\n",
    "\n",
    "\n"
   ],
   "metadata": {
    "collapsed": false,
    "pycharm": {
     "name": "#%%\n"
    }
   }
  },
  {
   "cell_type": "code",
   "execution_count": 136,
   "outputs": [
    {
     "data": {
      "text/plain": " 1    1138\n 0    1125\n-1    1121\nName: class_column, dtype: int64"
     },
     "execution_count": 136,
     "metadata": {},
     "output_type": "execute_result"
    }
   ],
   "source": [
    "\n",
    "# Class divide\n",
    "data['class_column'].value_counts()"
   ],
   "metadata": {
    "collapsed": false,
    "pycharm": {
     "name": "#%%\n"
    }
   }
  },
  {
   "cell_type": "code",
   "execution_count": 137,
   "outputs": [],
   "source": [
    "# del (data['close'])\n",
    "del (data['close_shift'])\n",
    "data = data.dropna()\n",
    "train_set = data.iloc[:-ROWS_TO_PREDICT]\n",
    "train_set = train_set.iloc[:-WINDOW] # optional drop last n rows (avoid of data leak)\n",
    "test_set =data.iloc[-ROWS_TO_PREDICT:]"
   ],
   "metadata": {
    "collapsed": false,
    "pycharm": {
     "name": "#%%\n"
    }
   }
  },
  {
   "cell_type": "code",
   "execution_count": 138,
   "outputs": [
    {
     "data": {
      "text/plain": " 1    1138\n 0    1125\n-1    1120\nName: class_column, dtype: int64"
     },
     "execution_count": 138,
     "metadata": {},
     "output_type": "execute_result"
    }
   ],
   "source": [
    "data['class_column'].value_counts()"
   ],
   "metadata": {
    "collapsed": false,
    "pycharm": {
     "name": "#%%\n"
    }
   }
  },
  {
   "cell_type": "code",
   "execution_count": 139,
   "outputs": [
    {
     "data": {
      "text/plain": "                                  open         high          low        close  \\\nDatetime                                                                        \n2020-05-12 14:30:00-04:00  1396.579956  1397.800049  1388.449951  1389.969971   \n2020-05-12 15:30:00-04:00  1390.805786  1392.000000  1374.770020  1374.770020   \n2020-05-12 16:00:00-04:00  1375.740000  1375.740000  1373.000000  1373.000000   \n2020-05-12 17:00:00-04:00  1369.500000  1369.500000  1369.500000  1369.500000   \n2020-05-12 19:00:00-04:00  1371.850000  1371.850000  1369.000000  1369.000000   \n...                                ...          ...          ...          ...   \n2021-04-29 12:30:00-04:00  2409.669922  2423.510010  2408.229980  2423.510010   \n2021-04-29 13:30:00-04:00  2423.449951  2432.750000  2420.239990  2429.209961   \n2021-04-29 14:30:00-04:00  2429.770020  2436.520020  2427.495850  2428.340088   \n2021-04-29 15:30:00-04:00  2428.699951  2435.600098  2424.735107  2429.889893   \n2021-04-29 16:00:00-04:00  2429.890000  2436.000000  1752.710000  2420.010000   \n\n                             Adj Close  volume     open_1     open_2  \\\nDatetime                                                               \n2020-05-12 14:30:00-04:00  1389.969971  119507   1.829956  -6.980103   \n2020-05-12 15:30:00-04:00  1374.770020  223831  -5.774170  -3.944214   \n2020-05-12 16:00:00-04:00  1373.000000       0 -15.065786 -20.839956   \n2020-05-12 17:00:00-04:00  1369.500000       0  -6.240000 -21.305786   \n2020-05-12 19:00:00-04:00  1369.000000       0   2.350000  -3.890000   \n...                                ...     ...        ...        ...   \n2021-04-29 12:30:00-04:00  2423.510010  126627 -19.410156  -8.709961   \n2021-04-29 13:30:00-04:00  2429.209961  165803  13.780029  -5.630127   \n2021-04-29 14:30:00-04:00  2428.340088  189545   6.320068  20.100098   \n2021-04-29 15:30:00-04:00  2429.889893  239732  -1.070068   5.250000   \n2021-04-29 16:00:00-04:00  2420.010000       0   1.190049   0.119980   \n\n                              open_3     open_4  ...  momentum_ao  \\\nDatetime                                         ...                \n2020-05-12 14:30:00-04:00  -7.489990  -1.244995  ...     0.000000   \n2020-05-12 15:30:00-04:00 -12.754272 -13.264160  ...     0.000000   \n2020-05-12 16:00:00-04:00 -19.010000 -27.820059  ...     0.000000   \n2020-05-12 17:00:00-04:00 -27.079956 -25.250000  ...     0.000000   \n2020-05-12 19:00:00-04:00 -18.955786 -24.729956  ...    -2.952333   \n...                              ...        ...  ...          ...   \n2021-04-29 12:30:00-04:00  -0.660156  18.569922  ...    16.422610   \n2021-04-29 13:30:00-04:00   5.070068  13.119873  ...    20.125261   \n2021-04-29 14:30:00-04:00   0.689941  11.390137  ...    20.298022   \n2021-04-29 15:30:00-04:00  19.030029  -0.380127  ...    18.303023   \n2021-04-29 16:00:00-04:00   6.440049  20.220078  ...   -38.288809   \n\n                           momentum_kama  momentum_roc  momentum_ppo  \\\nDatetime                                                               \n2020-05-12 14:30:00-04:00    1393.720436      0.000000      1.364163   \n2020-05-12 15:30:00-04:00    1385.410775      0.000000      9.647961   \n2020-05-12 16:00:00-04:00    1379.790950      0.000000      0.201367   \n2020-05-12 17:00:00-04:00    1375.171529      0.000000     -8.431366   \n2020-05-12 19:00:00-04:00    1372.357803      0.000000    -16.320356   \n...                                  ...           ...           ...   \n2021-04-29 12:30:00-04:00    2408.416692      1.677771     13.845723   \n2021-04-29 13:30:00-04:00    2409.921594      1.842992     13.120638   \n2021-04-29 14:30:00-04:00    2411.487422      1.878279     13.559216   \n2021-04-29 15:30:00-04:00    2413.354726      1.256804     16.003012   \n2021-04-29 16:00:00-04:00    2413.770874      0.981014      6.008906   \n\n                           momentum_ppo_signal  momentum_ppo_hist  others_dr  \\\nDatetime                                                                       \n2020-05-12 14:30:00-04:00             0.272833           1.091330  -0.473298   \n2020-05-12 15:30:00-04:00             2.147858           7.500102  -1.093545   \n2020-05-12 16:00:00-04:00             1.758560          -1.557193  -0.128750   \n2020-05-12 17:00:00-04:00            -0.279425          -8.151941  -0.254916   \n2020-05-12 19:00:00-04:00            -3.487611         -12.832745  -0.036510   \n...                                        ...                ...        ...   \n2021-04-29 12:30:00-04:00             0.257032          13.588691   0.600235   \n2021-04-29 13:30:00-04:00             2.829753          10.290885   0.235194   \n2021-04-29 14:30:00-04:00             4.975646           8.583570  -0.035809   \n2021-04-29 15:30:00-04:00             7.181119           8.821893   0.063822   \n2021-04-29 16:00:00-04:00             6.946676          -0.937770  -0.406598   \n\n                           others_dlr  others_cr  class_column  \nDatetime                                                        \n2020-05-12 14:30:00-04:00   -0.474422  -0.473298            -1  \n2020-05-12 15:30:00-04:00   -1.099568  -1.561668            -1  \n2020-05-12 16:00:00-04:00   -0.128833  -1.688407            -1  \n2020-05-12 17:00:00-04:00   -0.255242  -1.939019            -1  \n2020-05-12 19:00:00-04:00   -0.036516  -1.974821            -1  \n...                               ...        ...           ...  \n2021-04-29 12:30:00-04:00    0.598441  73.531777            -1  \n2021-04-29 13:30:00-04:00    0.234918  73.939913            -1  \n2021-04-29 14:30:00-04:00   -0.035815  73.877627            -1  \n2021-04-29 15:30:00-04:00    0.063801  73.988599            -1  \n2021-04-29 16:00:00-04:00   -0.407427  73.281164            -1  \n\n[3247 rows x 121 columns]",
      "text/html": "<div>\n<style scoped>\n    .dataframe tbody tr th:only-of-type {\n        vertical-align: middle;\n    }\n\n    .dataframe tbody tr th {\n        vertical-align: top;\n    }\n\n    .dataframe thead th {\n        text-align: right;\n    }\n</style>\n<table border=\"1\" class=\"dataframe\">\n  <thead>\n    <tr style=\"text-align: right;\">\n      <th></th>\n      <th>open</th>\n      <th>high</th>\n      <th>low</th>\n      <th>close</th>\n      <th>Adj Close</th>\n      <th>volume</th>\n      <th>open_1</th>\n      <th>open_2</th>\n      <th>open_3</th>\n      <th>open_4</th>\n      <th>...</th>\n      <th>momentum_ao</th>\n      <th>momentum_kama</th>\n      <th>momentum_roc</th>\n      <th>momentum_ppo</th>\n      <th>momentum_ppo_signal</th>\n      <th>momentum_ppo_hist</th>\n      <th>others_dr</th>\n      <th>others_dlr</th>\n      <th>others_cr</th>\n      <th>class_column</th>\n    </tr>\n    <tr>\n      <th>Datetime</th>\n      <th></th>\n      <th></th>\n      <th></th>\n      <th></th>\n      <th></th>\n      <th></th>\n      <th></th>\n      <th></th>\n      <th></th>\n      <th></th>\n      <th></th>\n      <th></th>\n      <th></th>\n      <th></th>\n      <th></th>\n      <th></th>\n      <th></th>\n      <th></th>\n      <th></th>\n      <th></th>\n      <th></th>\n    </tr>\n  </thead>\n  <tbody>\n    <tr>\n      <th>2020-05-12 14:30:00-04:00</th>\n      <td>1396.579956</td>\n      <td>1397.800049</td>\n      <td>1388.449951</td>\n      <td>1389.969971</td>\n      <td>1389.969971</td>\n      <td>119507</td>\n      <td>1.829956</td>\n      <td>-6.980103</td>\n      <td>-7.489990</td>\n      <td>-1.244995</td>\n      <td>...</td>\n      <td>0.000000</td>\n      <td>1393.720436</td>\n      <td>0.000000</td>\n      <td>1.364163</td>\n      <td>0.272833</td>\n      <td>1.091330</td>\n      <td>-0.473298</td>\n      <td>-0.474422</td>\n      <td>-0.473298</td>\n      <td>-1</td>\n    </tr>\n    <tr>\n      <th>2020-05-12 15:30:00-04:00</th>\n      <td>1390.805786</td>\n      <td>1392.000000</td>\n      <td>1374.770020</td>\n      <td>1374.770020</td>\n      <td>1374.770020</td>\n      <td>223831</td>\n      <td>-5.774170</td>\n      <td>-3.944214</td>\n      <td>-12.754272</td>\n      <td>-13.264160</td>\n      <td>...</td>\n      <td>0.000000</td>\n      <td>1385.410775</td>\n      <td>0.000000</td>\n      <td>9.647961</td>\n      <td>2.147858</td>\n      <td>7.500102</td>\n      <td>-1.093545</td>\n      <td>-1.099568</td>\n      <td>-1.561668</td>\n      <td>-1</td>\n    </tr>\n    <tr>\n      <th>2020-05-12 16:00:00-04:00</th>\n      <td>1375.740000</td>\n      <td>1375.740000</td>\n      <td>1373.000000</td>\n      <td>1373.000000</td>\n      <td>1373.000000</td>\n      <td>0</td>\n      <td>-15.065786</td>\n      <td>-20.839956</td>\n      <td>-19.010000</td>\n      <td>-27.820059</td>\n      <td>...</td>\n      <td>0.000000</td>\n      <td>1379.790950</td>\n      <td>0.000000</td>\n      <td>0.201367</td>\n      <td>1.758560</td>\n      <td>-1.557193</td>\n      <td>-0.128750</td>\n      <td>-0.128833</td>\n      <td>-1.688407</td>\n      <td>-1</td>\n    </tr>\n    <tr>\n      <th>2020-05-12 17:00:00-04:00</th>\n      <td>1369.500000</td>\n      <td>1369.500000</td>\n      <td>1369.500000</td>\n      <td>1369.500000</td>\n      <td>1369.500000</td>\n      <td>0</td>\n      <td>-6.240000</td>\n      <td>-21.305786</td>\n      <td>-27.079956</td>\n      <td>-25.250000</td>\n      <td>...</td>\n      <td>0.000000</td>\n      <td>1375.171529</td>\n      <td>0.000000</td>\n      <td>-8.431366</td>\n      <td>-0.279425</td>\n      <td>-8.151941</td>\n      <td>-0.254916</td>\n      <td>-0.255242</td>\n      <td>-1.939019</td>\n      <td>-1</td>\n    </tr>\n    <tr>\n      <th>2020-05-12 19:00:00-04:00</th>\n      <td>1371.850000</td>\n      <td>1371.850000</td>\n      <td>1369.000000</td>\n      <td>1369.000000</td>\n      <td>1369.000000</td>\n      <td>0</td>\n      <td>2.350000</td>\n      <td>-3.890000</td>\n      <td>-18.955786</td>\n      <td>-24.729956</td>\n      <td>...</td>\n      <td>-2.952333</td>\n      <td>1372.357803</td>\n      <td>0.000000</td>\n      <td>-16.320356</td>\n      <td>-3.487611</td>\n      <td>-12.832745</td>\n      <td>-0.036510</td>\n      <td>-0.036516</td>\n      <td>-1.974821</td>\n      <td>-1</td>\n    </tr>\n    <tr>\n      <th>...</th>\n      <td>...</td>\n      <td>...</td>\n      <td>...</td>\n      <td>...</td>\n      <td>...</td>\n      <td>...</td>\n      <td>...</td>\n      <td>...</td>\n      <td>...</td>\n      <td>...</td>\n      <td>...</td>\n      <td>...</td>\n      <td>...</td>\n      <td>...</td>\n      <td>...</td>\n      <td>...</td>\n      <td>...</td>\n      <td>...</td>\n      <td>...</td>\n      <td>...</td>\n      <td>...</td>\n    </tr>\n    <tr>\n      <th>2021-04-29 12:30:00-04:00</th>\n      <td>2409.669922</td>\n      <td>2423.510010</td>\n      <td>2408.229980</td>\n      <td>2423.510010</td>\n      <td>2423.510010</td>\n      <td>126627</td>\n      <td>-19.410156</td>\n      <td>-8.709961</td>\n      <td>-0.660156</td>\n      <td>18.569922</td>\n      <td>...</td>\n      <td>16.422610</td>\n      <td>2408.416692</td>\n      <td>1.677771</td>\n      <td>13.845723</td>\n      <td>0.257032</td>\n      <td>13.588691</td>\n      <td>0.600235</td>\n      <td>0.598441</td>\n      <td>73.531777</td>\n      <td>-1</td>\n    </tr>\n    <tr>\n      <th>2021-04-29 13:30:00-04:00</th>\n      <td>2423.449951</td>\n      <td>2432.750000</td>\n      <td>2420.239990</td>\n      <td>2429.209961</td>\n      <td>2429.209961</td>\n      <td>165803</td>\n      <td>13.780029</td>\n      <td>-5.630127</td>\n      <td>5.070068</td>\n      <td>13.119873</td>\n      <td>...</td>\n      <td>20.125261</td>\n      <td>2409.921594</td>\n      <td>1.842992</td>\n      <td>13.120638</td>\n      <td>2.829753</td>\n      <td>10.290885</td>\n      <td>0.235194</td>\n      <td>0.234918</td>\n      <td>73.939913</td>\n      <td>-1</td>\n    </tr>\n    <tr>\n      <th>2021-04-29 14:30:00-04:00</th>\n      <td>2429.770020</td>\n      <td>2436.520020</td>\n      <td>2427.495850</td>\n      <td>2428.340088</td>\n      <td>2428.340088</td>\n      <td>189545</td>\n      <td>6.320068</td>\n      <td>20.100098</td>\n      <td>0.689941</td>\n      <td>11.390137</td>\n      <td>...</td>\n      <td>20.298022</td>\n      <td>2411.487422</td>\n      <td>1.878279</td>\n      <td>13.559216</td>\n      <td>4.975646</td>\n      <td>8.583570</td>\n      <td>-0.035809</td>\n      <td>-0.035815</td>\n      <td>73.877627</td>\n      <td>-1</td>\n    </tr>\n    <tr>\n      <th>2021-04-29 15:30:00-04:00</th>\n      <td>2428.699951</td>\n      <td>2435.600098</td>\n      <td>2424.735107</td>\n      <td>2429.889893</td>\n      <td>2429.889893</td>\n      <td>239732</td>\n      <td>-1.070068</td>\n      <td>5.250000</td>\n      <td>19.030029</td>\n      <td>-0.380127</td>\n      <td>...</td>\n      <td>18.303023</td>\n      <td>2413.354726</td>\n      <td>1.256804</td>\n      <td>16.003012</td>\n      <td>7.181119</td>\n      <td>8.821893</td>\n      <td>0.063822</td>\n      <td>0.063801</td>\n      <td>73.988599</td>\n      <td>-1</td>\n    </tr>\n    <tr>\n      <th>2021-04-29 16:00:00-04:00</th>\n      <td>2429.890000</td>\n      <td>2436.000000</td>\n      <td>1752.710000</td>\n      <td>2420.010000</td>\n      <td>2420.010000</td>\n      <td>0</td>\n      <td>1.190049</td>\n      <td>0.119980</td>\n      <td>6.440049</td>\n      <td>20.220078</td>\n      <td>...</td>\n      <td>-38.288809</td>\n      <td>2413.770874</td>\n      <td>0.981014</td>\n      <td>6.008906</td>\n      <td>6.946676</td>\n      <td>-0.937770</td>\n      <td>-0.406598</td>\n      <td>-0.407427</td>\n      <td>73.281164</td>\n      <td>-1</td>\n    </tr>\n  </tbody>\n</table>\n<p>3247 rows × 121 columns</p>\n</div>"
     },
     "execution_count": 139,
     "metadata": {},
     "output_type": "execute_result"
    }
   ],
   "source": [
    "train_set"
   ],
   "metadata": {
    "collapsed": false,
    "pycharm": {
     "name": "#%%\n"
    }
   }
  },
  {
   "cell_type": "code",
   "execution_count": 140,
   "outputs": [],
   "source": [
    "y = data['class_column']\n",
    "features = [x for x in data.columns if x not in ['class_column']]\n",
    "x = data[features]\n",
    "scaler = MinMaxScaler()\n",
    "# x = pd.DataFrame(scaler.fit_transform(x.values), columns=x.columns, index=x.index)\n",
    "x_train= x.iloc[:-ROWS_TO_PREDICT]\n",
    "y_train= y.iloc[:-ROWS_TO_PREDICT]\n",
    "x_test =x.iloc[-ROWS_TO_PREDICT:]\n",
    "y_test=y.iloc[-ROWS_TO_PREDICT:]"
   ],
   "metadata": {
    "collapsed": false,
    "pycharm": {
     "name": "#%%\n"
    }
   }
  },
  {
   "cell_type": "code",
   "execution_count": 141,
   "outputs": [],
   "source": [
    "classifiers = dict()\n",
    "\n",
    "classifiers['DecisionTreeClassifier 1'] = DecisionTreeClassifier(max_depth=10, random_state=0,criterion='gini',splitter='best')\n",
    "classifiers['DecisionTreeClassifier 2'] = DecisionTreeClassifier(max_depth=10, random_state=0,criterion='gini',splitter='random')\n",
    "classifiers['DecisionTreeClassifier 3'] = DecisionTreeClassifier(max_depth=10, random_state=0,criterion='entropy',splitter='best')\n",
    "classifiers['RandomForestClassifier 4'] = RandomForestClassifier(n_estimators=1000, max_depth=3, random_state=0,criterion='gini', n_jobs = -1)\n",
    "classifiers['RandomForestClassifier 5'] = RandomForestClassifier(n_estimators=100, max_depth=2, random_state=0,criterion='entropy', n_jobs = -1)\n",
    "classifiers['GradientBoostingClassifier 1'] = GradientBoostingClassifier(n_estimators=100,random_state=0,criterion='friedman_mse',max_depth=3, learning_rate=0.1)\n",
    "classifiers['GradientBoostingClassifier 2'] = GradientBoostingClassifier(n_estimators=1000,random_state=0,criterion='friedman_mse',max_depth=3, learning_rate=0.1)"
   ],
   "metadata": {
    "collapsed": false,
    "pycharm": {
     "name": "#%%\n"
    }
   }
  },
  {
   "cell_type": "code",
   "execution_count": 142,
   "outputs": [],
   "source": [
    "def print_conf_matrix(test_y, predict, name):\n",
    "    matrix = confusion_matrix(test_y, predict,  labels=[-1, 0, 1])\n",
    "    print(matrix)\n",
    "    ax= plt.subplot()\n",
    "    sn.heatmap(matrix, annot=True, ax = ax) #annot=True to annotate cells\n",
    "\n",
    "    # labels, title and ticks\n",
    "    ax.set_xlabel('Predicted labels', color='white')\n",
    "    ax.set_ylabel('True labels', color='white')\n",
    "    ax.set_title(f'Confusion Matrix for {name}' , color='white')\n",
    "    ax.xaxis.set_ticklabels(['-1','0', '1'], color='white')\n",
    "    ax.yaxis.set_ticklabels(['-1','0', '1'], color='white')\n",
    "    plt.show()\n",
    "\n",
    "def train_model(model,train_x, train_y):\n",
    "    model.fit(train_x, train_y)"
   ],
   "metadata": {
    "collapsed": false,
    "pycharm": {
     "name": "#%%\n"
    }
   }
  },
  {
   "cell_type": "code",
   "execution_count": 143,
   "outputs": [
    {
     "name": "stdout",
     "output_type": "stream",
     "text": [
      "Calculate:  DecisionTreeClassifier 1\n",
      "Score_train:  0.8365591397849462\n",
      "Score:  0.2734375\n",
      "Calculate:  DecisionTreeClassifier 2\n",
      "Score_train:  0.7523809523809524\n",
      "Score:  0.2578125\n",
      "Calculate:  DecisionTreeClassifier 3\n",
      "Score_train:  0.8258064516129032\n",
      "Score:  0.34375\n",
      "Calculate:  RandomForestClassifier 4\n",
      "Score_train:  0.5244239631336406\n",
      "Score:  0.3046875\n",
      "Calculate:  RandomForestClassifier 5\n",
      "Score_train:  0.4706605222734255\n",
      "Score:  0.390625\n",
      "Calculate:  GradientBoostingClassifier 1\n",
      "Score_train:  0.8844854070660523\n",
      "Score:  0.3046875\n",
      "Calculate:  GradientBoostingClassifier 2\n",
      "Score_train:  1.0\n",
      "Score:  0.296875\n",
      "+----+------------------------------+------------+\n",
      "|    | Classifier type              |   Accuracy |\n",
      "|----+------------------------------+------------|\n",
      "|  0 | DecisionTreeClassifier 1     |   0.273438 |\n",
      "|  1 | DecisionTreeClassifier 2     |   0.257812 |\n",
      "|  2 | DecisionTreeClassifier 3     |   0.34375  |\n",
      "|  3 | RandomForestClassifier 4     |   0.304688 |\n",
      "|  4 | RandomForestClassifier 5     |   0.390625 |\n",
      "|  5 | GradientBoostingClassifier 1 |   0.304688 |\n",
      "|  6 | GradientBoostingClassifier 2 |   0.296875 |\n",
      "+----+------------------------------+------------+\n"
     ]
    }
   ],
   "source": [
    "predictions_train= dict()\n",
    "score_train = dict()\n",
    "predictions= dict()\n",
    "score = dict()\n",
    "for k,v in classifiers.items():\n",
    "    print(\"Calculate: \", k)\n",
    "    train_model(v,x_train,y_train)\n",
    "    predictions_train[k] = v.predict(x_train)\n",
    "    score_train[k] = accuracy_score(y_train.values, predictions_train[k])\n",
    "    predictions[k] = v.predict(x_test)\n",
    "    score[k] = accuracy_score(y_test.values, predictions[k])\n",
    "    print('Score_train: ',  score_train[k] )\n",
    "    print('Score: ',  score[k] )\n",
    "    # print_conf_matrix(test_y, predictions[k], k)\n",
    "\n",
    "headers = [\"Classifier type\", \"Accuracy\"]\n",
    "score_df = pd.DataFrame(score.items(), columns=headers)\n",
    "print(tabulate(score_df, headers, tablefmt=\"psql\"))\n"
   ],
   "metadata": {
    "collapsed": false,
    "pycharm": {
     "name": "#%%\n"
    }
   }
  },
  {
   "cell_type": "code",
   "execution_count": 144,
   "outputs": [],
   "source": [
    "filename_to_export = f'../data/results/{symbol}_{WINDOW}_{ROWS_TO_PREDICT}_{ datetime.now().strftime(\"%d_%m_%Y %H_%M_%S\")}.csv'\n",
    "score_df.to_csv(filename_to_export, index=False)"
   ],
   "metadata": {
    "collapsed": false,
    "pycharm": {
     "name": "#%%\n"
    }
   }
  },
  {
   "cell_type": "code",
   "execution_count": 145,
   "outputs": [
    {
     "name": "stderr",
     "output_type": "stream",
     "text": [
      "C:\\Users\\exomat\\anaconda3\\envs\\magisterka_analiza\\lib\\site-packages\\sklearn\\utils\\validation.py:67: FutureWarning: Pass n_features_to_select=10 as keyword args. From version 0.25 passing these as positional arguments will result in an error\n",
      "  warnings.warn(\"Pass {} as keyword args. From version 0.25 \"\n"
     ]
    },
    {
     "data": {
      "text/plain": "RFE(estimator=RandomForestClassifier(criterion='entropy', max_depth=2,\n                                     n_jobs=-1, random_state=0),\n    n_features_to_select=10)"
     },
     "execution_count": 145,
     "metadata": {},
     "output_type": "execute_result"
    }
   ],
   "source": [
    "rfe = RFE(classifiers['RandomForestClassifier 5'],10)\n",
    "fited = rfe.fit(x_train, y_train)\n",
    "rfe"
   ],
   "metadata": {
    "collapsed": false,
    "pycharm": {
     "name": "#%%\n"
    }
   }
  },
  {
   "cell_type": "code",
   "execution_count": 146,
   "outputs": [
    {
     "name": "stdout",
     "output_type": "stream",
     "text": [
      "Columns with predictive power: ['volume_adi', 'volume_cmf', 'volume_sma_em', 'volatility_bbm', 'volatility_bbp', 'volatility_dcm', 'trend_sma_slow', 'trend_psar_down', 'momentum_stoch_signal', 'momentum_kama']\n"
     ]
    },
    {
     "data": {
      "text/plain": "['volume_adi',\n 'volume_cmf',\n 'volume_sma_em',\n 'volatility_bbm',\n 'volatility_bbp',\n 'volatility_dcm',\n 'trend_sma_slow',\n 'trend_psar_down',\n 'momentum_stoch_signal',\n 'momentum_kama',\n 'high',\n 'low',\n 'volume',\n 'open']"
     },
     "execution_count": 146,
     "metadata": {},
     "output_type": "execute_result"
    }
   ],
   "source": [
    "names = x.columns\n",
    "columns=[]\n",
    "for i in range(len(fited.support_)):\n",
    "    if fited.support_[i]:\n",
    "        columns.append(names[i])\n",
    "\n",
    "print(\"Columns with predictive power:\", columns )\n",
    "columns = columns + ['high', 'low', 'volume', 'open']\n",
    "columns"
   ],
   "metadata": {
    "collapsed": false,
    "pycharm": {
     "name": "#%%\n"
    }
   }
  },
  {
   "cell_type": "code",
   "execution_count": 147,
   "outputs": [
    {
     "data": {
      "text/plain": "                             volume_adi  volume_cmf  volume_sma_em  \\\nDatetime                                                             \n2020-05-12 14:30:00-04:00 -5.879152e+04   -0.265579  -21515.700800   \n2020-05-12 15:30:00-04:00 -2.826225e+05   -0.634819  -48245.919859   \n2020-05-12 16:00:00-04:00 -2.826225e+05   -0.634819  -48245.919859   \n2020-05-12 17:00:00-04:00 -2.826225e+05   -0.634819  -48245.919859   \n2020-05-12 19:00:00-04:00 -2.826225e+05   -0.634819  -48245.919859   \n...                                 ...         ...            ...   \n2021-04-30 04:00:00-04:00  1.462892e+07    0.157081   25149.904115   \n2021-04-30 05:00:00-04:00  1.462892e+07    0.157081   25149.904115   \n2021-04-30 06:00:00-04:00  1.462892e+07    0.157081   25149.904115   \n2021-04-30 07:00:00-04:00  1.462892e+07    0.157081   16150.221741   \n2021-04-30 08:00:00-04:00  1.462892e+07    0.157081    2988.863217   \n\n                           volatility_bbm  volatility_bbp  volatility_dcm  \\\nDatetime                                                                    \n2020-05-12 14:30:00-04:00     1393.274963        0.250000     1393.804993   \n2020-05-12 15:30:00-04:00     1387.106649        0.162238     1386.965027   \n2020-05-12 16:00:00-04:00     1383.579987        0.235296     1386.080017   \n2020-05-12 17:00:00-04:00     1380.763989        0.233432     1384.330017   \n2020-05-12 19:00:00-04:00     1378.803324        0.268643     1384.080017   \n...                                   ...             ...             ...   \n2021-04-30 04:00:00-04:00     2409.459749        0.524487     2094.615010   \n2021-04-30 05:00:00-04:00     2411.026749        0.594184     2094.615010   \n2021-04-30 06:00:00-04:00     2412.445749        0.490721     2094.615010   \n2021-04-30 07:00:00-04:00     2412.609749        0.318447     2094.615010   \n2021-04-30 08:00:00-04:00     2413.281249        0.434109     2094.615010   \n\n                           trend_sma_slow  trend_psar_down  \\\nDatetime                                                     \n2020-05-12 14:30:00-04:00     1393.274963        -1.000000   \n2020-05-12 15:30:00-04:00     1387.106649      1399.160034   \n2020-05-12 16:00:00-04:00     1383.579987      1398.672234   \n2020-05-12 17:00:00-04:00     1380.763989      1397.645345   \n2020-05-12 19:00:00-04:00     1378.803324      1395.956624   \n...                                   ...              ...   \n2021-04-30 04:00:00-04:00     2406.005577      2436.520020   \n2021-04-30 05:00:00-04:00     2406.141729      2436.520020   \n2021-04-30 06:00:00-04:00     2406.293652      2436.520020   \n2021-04-30 07:00:00-04:00     2406.477884      2436.520020   \n2021-04-30 08:00:00-04:00     2407.618653      2436.520020   \n\n                           momentum_stoch_signal  momentum_kama         high  \\\nDatetime                                                                       \n2020-05-12 14:30:00-04:00              37.461115    1393.720436  1397.800049   \n2020-05-12 15:30:00-04:00              24.974076    1385.410775  1392.000000   \n2020-05-12 16:00:00-04:00               4.730805    1379.790950  1375.740000   \n2020-05-12 17:00:00-04:00               0.000000    1375.171529  1369.500000   \n2020-05-12 19:00:00-04:00               0.000000    1372.357803  1371.850000   \n...                                          ...            ...          ...   \n2021-04-30 04:00:00-04:00              96.993314    2414.573339  2419.680000   \n2021-04-30 05:00:00-04:00              96.735445    2414.621098  2416.990000   \n2021-04-30 06:00:00-04:00              96.586768    2414.474366  2415.860000   \n2021-04-30 07:00:00-04:00              96.197284    2412.439625  2411.950000   \n2021-04-30 08:00:00-04:00              95.872632    2412.235724  2429.890000   \n\n                                   low  volume         open  \nDatetime                                                     \n2020-05-12 14:30:00-04:00  1388.449951  119507  1396.579956  \n2020-05-12 15:30:00-04:00  1374.770020  223831  1390.805786  \n2020-05-12 16:00:00-04:00  1373.000000       0  1375.740000  \n2020-05-12 17:00:00-04:00  1369.500000       0  1369.500000  \n2020-05-12 19:00:00-04:00  1369.000000       0  1371.850000  \n...                                ...     ...          ...  \n2021-04-30 04:00:00-04:00  2410.970000       0  2419.680000  \n2021-04-30 05:00:00-04:00  2412.030000       0  2413.020000  \n2021-04-30 06:00:00-04:00  2409.450000       0  2415.860000  \n2021-04-30 07:00:00-04:00  2402.360000       0  2411.950000  \n2021-04-30 08:00:00-04:00  2400.000000       0  2403.700000  \n\n[3255 rows x 14 columns]",
      "text/html": "<div>\n<style scoped>\n    .dataframe tbody tr th:only-of-type {\n        vertical-align: middle;\n    }\n\n    .dataframe tbody tr th {\n        vertical-align: top;\n    }\n\n    .dataframe thead th {\n        text-align: right;\n    }\n</style>\n<table border=\"1\" class=\"dataframe\">\n  <thead>\n    <tr style=\"text-align: right;\">\n      <th></th>\n      <th>volume_adi</th>\n      <th>volume_cmf</th>\n      <th>volume_sma_em</th>\n      <th>volatility_bbm</th>\n      <th>volatility_bbp</th>\n      <th>volatility_dcm</th>\n      <th>trend_sma_slow</th>\n      <th>trend_psar_down</th>\n      <th>momentum_stoch_signal</th>\n      <th>momentum_kama</th>\n      <th>high</th>\n      <th>low</th>\n      <th>volume</th>\n      <th>open</th>\n    </tr>\n    <tr>\n      <th>Datetime</th>\n      <th></th>\n      <th></th>\n      <th></th>\n      <th></th>\n      <th></th>\n      <th></th>\n      <th></th>\n      <th></th>\n      <th></th>\n      <th></th>\n      <th></th>\n      <th></th>\n      <th></th>\n      <th></th>\n    </tr>\n  </thead>\n  <tbody>\n    <tr>\n      <th>2020-05-12 14:30:00-04:00</th>\n      <td>-5.879152e+04</td>\n      <td>-0.265579</td>\n      <td>-21515.700800</td>\n      <td>1393.274963</td>\n      <td>0.250000</td>\n      <td>1393.804993</td>\n      <td>1393.274963</td>\n      <td>-1.000000</td>\n      <td>37.461115</td>\n      <td>1393.720436</td>\n      <td>1397.800049</td>\n      <td>1388.449951</td>\n      <td>119507</td>\n      <td>1396.579956</td>\n    </tr>\n    <tr>\n      <th>2020-05-12 15:30:00-04:00</th>\n      <td>-2.826225e+05</td>\n      <td>-0.634819</td>\n      <td>-48245.919859</td>\n      <td>1387.106649</td>\n      <td>0.162238</td>\n      <td>1386.965027</td>\n      <td>1387.106649</td>\n      <td>1399.160034</td>\n      <td>24.974076</td>\n      <td>1385.410775</td>\n      <td>1392.000000</td>\n      <td>1374.770020</td>\n      <td>223831</td>\n      <td>1390.805786</td>\n    </tr>\n    <tr>\n      <th>2020-05-12 16:00:00-04:00</th>\n      <td>-2.826225e+05</td>\n      <td>-0.634819</td>\n      <td>-48245.919859</td>\n      <td>1383.579987</td>\n      <td>0.235296</td>\n      <td>1386.080017</td>\n      <td>1383.579987</td>\n      <td>1398.672234</td>\n      <td>4.730805</td>\n      <td>1379.790950</td>\n      <td>1375.740000</td>\n      <td>1373.000000</td>\n      <td>0</td>\n      <td>1375.740000</td>\n    </tr>\n    <tr>\n      <th>2020-05-12 17:00:00-04:00</th>\n      <td>-2.826225e+05</td>\n      <td>-0.634819</td>\n      <td>-48245.919859</td>\n      <td>1380.763989</td>\n      <td>0.233432</td>\n      <td>1384.330017</td>\n      <td>1380.763989</td>\n      <td>1397.645345</td>\n      <td>0.000000</td>\n      <td>1375.171529</td>\n      <td>1369.500000</td>\n      <td>1369.500000</td>\n      <td>0</td>\n      <td>1369.500000</td>\n    </tr>\n    <tr>\n      <th>2020-05-12 19:00:00-04:00</th>\n      <td>-2.826225e+05</td>\n      <td>-0.634819</td>\n      <td>-48245.919859</td>\n      <td>1378.803324</td>\n      <td>0.268643</td>\n      <td>1384.080017</td>\n      <td>1378.803324</td>\n      <td>1395.956624</td>\n      <td>0.000000</td>\n      <td>1372.357803</td>\n      <td>1371.850000</td>\n      <td>1369.000000</td>\n      <td>0</td>\n      <td>1371.850000</td>\n    </tr>\n    <tr>\n      <th>...</th>\n      <td>...</td>\n      <td>...</td>\n      <td>...</td>\n      <td>...</td>\n      <td>...</td>\n      <td>...</td>\n      <td>...</td>\n      <td>...</td>\n      <td>...</td>\n      <td>...</td>\n      <td>...</td>\n      <td>...</td>\n      <td>...</td>\n      <td>...</td>\n    </tr>\n    <tr>\n      <th>2021-04-30 04:00:00-04:00</th>\n      <td>1.462892e+07</td>\n      <td>0.157081</td>\n      <td>25149.904115</td>\n      <td>2409.459749</td>\n      <td>0.524487</td>\n      <td>2094.615010</td>\n      <td>2406.005577</td>\n      <td>2436.520020</td>\n      <td>96.993314</td>\n      <td>2414.573339</td>\n      <td>2419.680000</td>\n      <td>2410.970000</td>\n      <td>0</td>\n      <td>2419.680000</td>\n    </tr>\n    <tr>\n      <th>2021-04-30 05:00:00-04:00</th>\n      <td>1.462892e+07</td>\n      <td>0.157081</td>\n      <td>25149.904115</td>\n      <td>2411.026749</td>\n      <td>0.594184</td>\n      <td>2094.615010</td>\n      <td>2406.141729</td>\n      <td>2436.520020</td>\n      <td>96.735445</td>\n      <td>2414.621098</td>\n      <td>2416.990000</td>\n      <td>2412.030000</td>\n      <td>0</td>\n      <td>2413.020000</td>\n    </tr>\n    <tr>\n      <th>2021-04-30 06:00:00-04:00</th>\n      <td>1.462892e+07</td>\n      <td>0.157081</td>\n      <td>25149.904115</td>\n      <td>2412.445749</td>\n      <td>0.490721</td>\n      <td>2094.615010</td>\n      <td>2406.293652</td>\n      <td>2436.520020</td>\n      <td>96.586768</td>\n      <td>2414.474366</td>\n      <td>2415.860000</td>\n      <td>2409.450000</td>\n      <td>0</td>\n      <td>2415.860000</td>\n    </tr>\n    <tr>\n      <th>2021-04-30 07:00:00-04:00</th>\n      <td>1.462892e+07</td>\n      <td>0.157081</td>\n      <td>16150.221741</td>\n      <td>2412.609749</td>\n      <td>0.318447</td>\n      <td>2094.615010</td>\n      <td>2406.477884</td>\n      <td>2436.520020</td>\n      <td>96.197284</td>\n      <td>2412.439625</td>\n      <td>2411.950000</td>\n      <td>2402.360000</td>\n      <td>0</td>\n      <td>2411.950000</td>\n    </tr>\n    <tr>\n      <th>2021-04-30 08:00:00-04:00</th>\n      <td>1.462892e+07</td>\n      <td>0.157081</td>\n      <td>2988.863217</td>\n      <td>2413.281249</td>\n      <td>0.434109</td>\n      <td>2094.615010</td>\n      <td>2407.618653</td>\n      <td>2436.520020</td>\n      <td>95.872632</td>\n      <td>2412.235724</td>\n      <td>2429.890000</td>\n      <td>2400.000000</td>\n      <td>0</td>\n      <td>2403.700000</td>\n    </tr>\n  </tbody>\n</table>\n<p>3255 rows × 14 columns</p>\n</div>"
     },
     "execution_count": 147,
     "metadata": {},
     "output_type": "execute_result"
    }
   ],
   "source": [
    "x_test_cropped = x_test[columns]\n",
    "x_train_cropped = x_train[columns]\n",
    "x_train_cropped"
   ],
   "metadata": {
    "collapsed": false,
    "pycharm": {
     "name": "#%%\n"
    }
   }
  },
  {
   "cell_type": "code",
   "execution_count": 148,
   "outputs": [],
   "source": [
    "classifiers_boosted = dict()\n",
    "classifiers_boosted['GradientBoostingClassifier 1'] = GradientBoostingClassifier(n_estimators=100,random_state=0,criterion='friedman_mse',max_depth=3, learning_rate=0.1)\n",
    "classifiers_boosted['GradientBoostingClassifier 2'] = GradientBoostingClassifier(n_estimators=1000,random_state=0,criterion='friedman_mse',max_depth=3, learning_rate=0.3)\n",
    "classifiers_boosted['GradientBoostingClassifier 3'] = GradientBoostingClassifier(n_estimators=1000,random_state=0,criterion='friedman_mse',max_depth=2, learning_rate=0.5)\n",
    "classifiers_boosted['GradientBoostingClassifier 4'] = GradientBoostingClassifier(n_estimators=1000,random_state=0,criterion='friedman_mse',max_depth=2, learning_rate=0.8)"
   ],
   "metadata": {
    "collapsed": false,
    "pycharm": {
     "name": "#%%\n"
    }
   }
  },
  {
   "cell_type": "code",
   "execution_count": 149,
   "outputs": [
    {
     "name": "stdout",
     "output_type": "stream",
     "text": [
      "Calculate:  GradientBoostingClassifier 1\n",
      "Score train:  0.8003072196620584\n",
      "Score:  0.296875\n",
      "Calculate:  GradientBoostingClassifier 2\n",
      "Score train:  1.0\n",
      "Score:  0.3125\n",
      "Calculate:  GradientBoostingClassifier 3\n",
      "Score train:  1.0\n",
      "Score:  0.2890625\n",
      "Calculate:  GradientBoostingClassifier 4\n",
      "Score train:  1.0\n",
      "Score:  0.265625\n"
     ]
    }
   ],
   "source": [
    "predictions_train= dict()\n",
    "score_train = dict()\n",
    "predictions= dict()\n",
    "score = dict()\n",
    "for k,v in classifiers_boosted.items():\n",
    "    print(\"Calculate: \", k)\n",
    "    train_model(v,x_train_cropped,y_train)\n",
    "    predictions_train[k] = v.predict(x_train_cropped)\n",
    "    score_train[k] = accuracy_score(y_train.values, predictions_train[k])\n",
    "    predictions[k] = v.predict(x_test_cropped)\n",
    "    score[k] = accuracy_score(y_test.values, predictions[k])\n",
    "    print('Score train: ',  score_train[k] )\n",
    "    print('Score: ',  score[k] )\n",
    "    # print_conf_matrix(test_y, predictions[k], k)\n"
   ],
   "metadata": {
    "collapsed": false,
    "pycharm": {
     "name": "#%%\n"
    }
   }
  },
  {
   "cell_type": "code",
   "execution_count": 150,
   "outputs": [
    {
     "name": "stdout",
     "output_type": "stream",
     "text": [
      "[21:51:11] WARNING: C:/Users/Administrator/workspace/xgboost-win64_release_1.3.0/src/learner.cc:1061: Starting in XGBoost 1.3.0, the default evaluation metric used with the objective 'multi:softprob' was changed from 'merror' to 'mlogloss'. Explicitly set eval_metric if you'd like to restore the old behavior.\n"
     ]
    },
    {
     "name": "stderr",
     "output_type": "stream",
     "text": [
      "C:\\Users\\exomat\\anaconda3\\envs\\magisterka_analiza\\lib\\site-packages\\xgboost\\sklearn.py:888: UserWarning: The use of label encoder in XGBClassifier is deprecated and will be removed in a future release. To remove this warning, do the following: 1) Pass option use_label_encoder=False when constructing XGBClassifier object; and 2) Encode your labels (y) as integers starting with 0, i.e. 0, 1, 2, ..., [num_class - 1].\n",
      "  warnings.warn(label_encoder_deprecation_msg, UserWarning)\n"
     ]
    },
    {
     "name": "stdout",
     "output_type": "stream",
     "text": [
      "------------\n",
      "max_depth: 14\n",
      "1.0\n",
      "0.296875\n",
      "------------\n"
     ]
    }
   ],
   "source": [
    "import xgboost as xgb\n",
    "model = xgb.XGBClassifier(nthread =-1,max_depth=14,n_estimators=1000,\n",
    "                          eta =0.2)\n",
    "model.fit(x_train,y_train)\n",
    "predicted_train = model.predict(x_train)\n",
    "predicted_test = model.predict(x_test)\n",
    "print(\"------------\")\n",
    "print(f'max_depth: {14}')\n",
    "score_train['XGBClassifier'] = accuracy_score(y_train.values, predicted_train)\n",
    "score['XGBClassifier'] = accuracy_score(y_test.values, predicted_test)\n",
    "print(score_train['XGBClassifier'])\n",
    "print(score['XGBClassifier'])\n",
    "print(\"------------\")"
   ],
   "metadata": {
    "collapsed": false,
    "pycharm": {
     "name": "#%%\n"
    }
   }
  },
  {
   "cell_type": "code",
   "execution_count": 151,
   "outputs": [
    {
     "name": "stdout",
     "output_type": "stream",
     "text": [
      "[21:51:30] WARNING: C:/Users/Administrator/workspace/xgboost-win64_release_1.3.0/src/learner.cc:1061: Starting in XGBoost 1.3.0, the default evaluation metric used with the objective 'multi:softprob' was changed from 'merror' to 'mlogloss'. Explicitly set eval_metric if you'd like to restore the old behavior.\n",
      "------------\n",
      "eta: \n",
      "0.9920122887864823\n",
      "0.265625\n",
      "------------\n"
     ]
    }
   ],
   "source": [
    "model = xgb.sklearn.XGBRFClassifier(n_jobs=-1,max_depth=12,n_estimators =100,eta=0.4)\n",
    "model.fit(x_train,y_train)\n",
    "predicted_train = model.predict(x_train)\n",
    "predicted_test = model.predict(x_test)\n",
    "print(\"------------\")\n",
    "print(f'eta: ')\n",
    "score_train['XGBRFClassifier'] = accuracy_score(y_train.values, predicted_train)\n",
    "score['XGBRFClassifier'] = accuracy_score(y_test.values, predicted_test)\n",
    "print(accuracy_score(y_train.values, predicted_train))\n",
    "print(accuracy_score(y_test.values, predicted_test))\n",
    "print(\"------------\")"
   ],
   "metadata": {
    "collapsed": false,
    "pycharm": {
     "name": "#%%\n"
    }
   }
  },
  {
   "cell_type": "code",
   "execution_count": 152,
   "outputs": [
    {
     "name": "stdout",
     "output_type": "stream",
     "text": [
      "+----+------------------------------+------------+\n",
      "|    | Classifier type              |   Accuracy |\n",
      "|----+------------------------------+------------|\n",
      "|  0 | GradientBoostingClassifier 1 |   0.296875 |\n",
      "|  1 | GradientBoostingClassifier 2 |   0.3125   |\n",
      "|  2 | GradientBoostingClassifier 3 |   0.289062 |\n",
      "|  3 | GradientBoostingClassifier 4 |   0.265625 |\n",
      "|  4 | XGBClassifier                |   0.296875 |\n",
      "|  5 | XGBRFClassifier              |   0.265625 |\n",
      "+----+------------------------------+------------+\n"
     ]
    }
   ],
   "source": [
    "headers = [\"Classifier type\", \"Accuracy\"]\n",
    "score_df = pd.DataFrame(score.items(), columns=headers)\n",
    "print(tabulate(score_df, headers, tablefmt=\"psql\"))\n",
    "score_df.to_csv(filename_to_export,mode='a', index=False, header=False)"
   ],
   "metadata": {
    "collapsed": false,
    "pycharm": {
     "name": "#%%\n"
    }
   }
  },
  {
   "cell_type": "code",
   "execution_count": 152,
   "outputs": [],
   "source": [],
   "metadata": {
    "collapsed": false,
    "pycharm": {
     "name": "#%%\n"
    }
   }
  }
 ],
 "metadata": {
  "kernelspec": {
   "name": "magisterka_analiza",
   "language": "python",
   "display_name": "Python magisterka"
  },
  "language_info": {
   "codemirror_mode": {
    "name": "ipython",
    "version": 2
   },
   "file_extension": ".py",
   "mimetype": "text/x-python",
   "name": "python",
   "nbconvert_exporter": "python",
   "pygments_lexer": "ipython2",
   "version": "2.7.6"
  }
 },
 "nbformat": 4,
 "nbformat_minor": 0
}