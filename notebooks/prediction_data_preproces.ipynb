{
 "cells": [
  {
   "cell_type": "code",
   "execution_count": 164,
   "outputs": [],
   "source": [
    "import yfinance as yf\n",
    "from datetime import datetime\n",
    "import pandas as pd\n",
    "import numpy as np\n",
    "import matplotlib.pyplot as plt\n",
    "from finta import TA\n",
    "import numpy as np\n",
    "from sklearn.ensemble import RandomForestClassifier, VotingClassifier\n",
    "from sklearn.model_selection import GridSearchCV, train_test_split\n",
    "from sklearn.preprocessing import MinMaxScaler\n",
    "from sklearn.tree import DecisionTreeClassifier\n",
    "from sklearn.ensemble import GradientBoostingClassifier\n",
    "from sklearn.metrics import confusion_matrix, classification_report, accuracy_score\n",
    "from sklearn.metrics import jaccard_score\n",
    "import seaborn as sn\n",
    "from tabulate import tabulate\n",
    "from xgboost import XGBClassifier"
   ],
   "metadata": {
    "collapsed": false,
    "pycharm": {
     "name": "#%%\n"
    }
   }
  },
  {
   "cell_type": "code",
   "execution_count": 165,
   "outputs": [],
   "source": [
    "WINDOW = 8 # number of rows to look ahead to see what the price did\n",
    "FETCH_INTERVAL = \"60m\"  # fetch data by interval (including intraday if period < 60 days)\n",
    "        # valid intervals: 1m,2m,5m,15m,30m,60m,90m,1h,1d,5d,1wk,1mo,3mo\n",
    "        # (optional, default is '1d')\n",
    "INTERVAL = '1y'     # use \"period\" instead of start/end\n",
    "        # valid periods: 1d,5d,1mo,3mo,6mo,1y,2y,5y,10y,ytd,max\n",
    "        # (optional, default is '1mo')\n",
    "symbol = 'FB'      # Symbol of the desired stock\n",
    "INDICATORS = ['RSI', 'MACD', 'STOCH','ADL', 'ATR', 'MOM', 'MFI', 'ROC', 'CCI', 'VORTEX','WILLIAMS','OBV']\n",
    "ROWS_TO_PREDICT = 32\n",
    "# one day 16 rows of data"
   ],
   "metadata": {
    "collapsed": false,
    "pycharm": {
     "name": "#%%\n"
    }
   }
  },
  {
   "cell_type": "code",
   "execution_count": 166,
   "outputs": [
    {
     "name": "stdout",
     "output_type": "stream",
     "text": [
      "[*********************100%***********************]  1 of 1 completed\n"
     ]
    },
    {
     "data": {
      "text/plain": "                                 Open        High         Low       Close  \\\nDatetime                                                                    \n2020-03-17 04:00:00-04:00  152.500000  155.990000  152.500000  155.000000   \n2020-03-17 05:00:00-04:00  154.800000  154.990000  149.190000  149.820000   \n2020-03-17 06:00:00-04:00  149.320000  149.800000  146.010000  148.600000   \n2020-03-17 07:00:00-04:00  149.730000  152.000000  149.500000  151.000000   \n2020-03-17 08:00:00-04:00  150.810000  152.400000  147.910000  149.500000   \n...                               ...         ...         ...         ...   \n2021-03-16 15:30:00-04:00  281.130005  281.559998  278.910004  279.130005   \n2021-03-16 16:00:00-04:00  279.280000  279.290000  278.780000  279.185000   \n2021-03-16 17:00:00-04:00  279.130000  281.480000  279.120000  281.125000   \n2021-03-16 18:00:00-04:00  281.150000  281.380000  279.280000  280.800000   \n2021-03-16 19:00:00-04:00  280.800000  281.320000  280.800000  280.950000   \n\n                            Adj Close   Volume  \nDatetime                                        \n2020-03-17 04:00:00-04:00  155.000000        0  \n2020-03-17 05:00:00-04:00  149.820000        0  \n2020-03-17 06:00:00-04:00  148.600000        0  \n2020-03-17 07:00:00-04:00  151.000000        0  \n2020-03-17 08:00:00-04:00  149.500000        0  \n...                               ...      ...  \n2021-03-16 15:30:00-04:00  279.130005  2298570  \n2021-03-16 16:00:00-04:00  279.185000  1176864  \n2021-03-16 17:00:00-04:00  281.125000        0  \n2021-03-16 18:00:00-04:00  280.800000        0  \n2021-03-16 19:00:00-04:00  280.950000        0  \n\n[4131 rows x 6 columns]",
      "text/html": "<div>\n<style scoped>\n    .dataframe tbody tr th:only-of-type {\n        vertical-align: middle;\n    }\n\n    .dataframe tbody tr th {\n        vertical-align: top;\n    }\n\n    .dataframe thead th {\n        text-align: right;\n    }\n</style>\n<table border=\"1\" class=\"dataframe\">\n  <thead>\n    <tr style=\"text-align: right;\">\n      <th></th>\n      <th>Open</th>\n      <th>High</th>\n      <th>Low</th>\n      <th>Close</th>\n      <th>Adj Close</th>\n      <th>Volume</th>\n    </tr>\n    <tr>\n      <th>Datetime</th>\n      <th></th>\n      <th></th>\n      <th></th>\n      <th></th>\n      <th></th>\n      <th></th>\n    </tr>\n  </thead>\n  <tbody>\n    <tr>\n      <th>2020-03-17 04:00:00-04:00</th>\n      <td>152.500000</td>\n      <td>155.990000</td>\n      <td>152.500000</td>\n      <td>155.000000</td>\n      <td>155.000000</td>\n      <td>0</td>\n    </tr>\n    <tr>\n      <th>2020-03-17 05:00:00-04:00</th>\n      <td>154.800000</td>\n      <td>154.990000</td>\n      <td>149.190000</td>\n      <td>149.820000</td>\n      <td>149.820000</td>\n      <td>0</td>\n    </tr>\n    <tr>\n      <th>2020-03-17 06:00:00-04:00</th>\n      <td>149.320000</td>\n      <td>149.800000</td>\n      <td>146.010000</td>\n      <td>148.600000</td>\n      <td>148.600000</td>\n      <td>0</td>\n    </tr>\n    <tr>\n      <th>2020-03-17 07:00:00-04:00</th>\n      <td>149.730000</td>\n      <td>152.000000</td>\n      <td>149.500000</td>\n      <td>151.000000</td>\n      <td>151.000000</td>\n      <td>0</td>\n    </tr>\n    <tr>\n      <th>2020-03-17 08:00:00-04:00</th>\n      <td>150.810000</td>\n      <td>152.400000</td>\n      <td>147.910000</td>\n      <td>149.500000</td>\n      <td>149.500000</td>\n      <td>0</td>\n    </tr>\n    <tr>\n      <th>...</th>\n      <td>...</td>\n      <td>...</td>\n      <td>...</td>\n      <td>...</td>\n      <td>...</td>\n      <td>...</td>\n    </tr>\n    <tr>\n      <th>2021-03-16 15:30:00-04:00</th>\n      <td>281.130005</td>\n      <td>281.559998</td>\n      <td>278.910004</td>\n      <td>279.130005</td>\n      <td>279.130005</td>\n      <td>2298570</td>\n    </tr>\n    <tr>\n      <th>2021-03-16 16:00:00-04:00</th>\n      <td>279.280000</td>\n      <td>279.290000</td>\n      <td>278.780000</td>\n      <td>279.185000</td>\n      <td>279.185000</td>\n      <td>1176864</td>\n    </tr>\n    <tr>\n      <th>2021-03-16 17:00:00-04:00</th>\n      <td>279.130000</td>\n      <td>281.480000</td>\n      <td>279.120000</td>\n      <td>281.125000</td>\n      <td>281.125000</td>\n      <td>0</td>\n    </tr>\n    <tr>\n      <th>2021-03-16 18:00:00-04:00</th>\n      <td>281.150000</td>\n      <td>281.380000</td>\n      <td>279.280000</td>\n      <td>280.800000</td>\n      <td>280.800000</td>\n      <td>0</td>\n    </tr>\n    <tr>\n      <th>2021-03-16 19:00:00-04:00</th>\n      <td>280.800000</td>\n      <td>281.320000</td>\n      <td>280.800000</td>\n      <td>280.950000</td>\n      <td>280.950000</td>\n      <td>0</td>\n    </tr>\n  </tbody>\n</table>\n<p>4131 rows × 6 columns</p>\n</div>"
     },
     "execution_count": 166,
     "metadata": {},
     "output_type": "execute_result"
    }
   ],
   "source": [
    "data = yf.download(  # or pdr.get_data_yahoo(...\n",
    "        tickers = symbol,\n",
    "\n",
    "\n",
    "        period = INTERVAL,\n",
    "\n",
    "        interval = FETCH_INTERVAL,\n",
    "\n",
    "        # group by ticker (to access via data['SPY'])\n",
    "        # (optional, default is 'column')\n",
    "        group_by = 'ticker',\n",
    "\n",
    "        # adjust all OHLC automatically\n",
    "        # (optional, default is False)\n",
    "        # auto_adjust = True,\n",
    "\n",
    "        # download pre/post regular market hours data\n",
    "        # (optional, default is False)\n",
    "        prepost = True,\n",
    "\n",
    "        # use threads for mass downloading? (True/False/Integer)\n",
    "        # (optional, default is True)\n",
    "        threads = True,\n",
    "\n",
    "        # proxy URL scheme use use when downloading?\n",
    "        # (optional, default is None)\n",
    "        proxy = None\n",
    "    )\n",
    "data"
   ],
   "metadata": {
    "collapsed": false,
    "pycharm": {
     "name": "#%%\n"
    }
   }
  },
  {
   "cell_type": "code",
   "execution_count": 167,
   "outputs": [
    {
     "data": {
      "text/plain": "                                 open        high         low       close  \\\nDatetime                                                                    \n2020-03-17 04:00:00-04:00  152.500000  155.990000  152.500000  155.000000   \n2020-03-17 05:00:00-04:00  154.800000  154.990000  149.190000  149.820000   \n2020-03-17 06:00:00-04:00  149.320000  149.800000  146.010000  148.600000   \n2020-03-17 07:00:00-04:00  149.730000  152.000000  149.500000  151.000000   \n2020-03-17 08:00:00-04:00  150.810000  152.400000  147.910000  149.500000   \n2020-03-17 09:00:00-04:00  149.430000  150.510000  148.060000  150.490000   \n2020-03-17 09:30:00-04:00  150.259995  150.652206  140.000000  146.602707   \n2020-03-17 10:30:00-04:00  146.589996  151.300003  143.869995  150.000000   \n2020-03-17 11:30:00-04:00  150.000000  153.940002  148.740005  151.419998   \n2020-03-17 12:30:00-04:00  151.419998  151.850006  145.839996  147.404999   \n\n                            Adj Close   volume  \nDatetime                                        \n2020-03-17 04:00:00-04:00  155.000000        0  \n2020-03-17 05:00:00-04:00  149.820000        0  \n2020-03-17 06:00:00-04:00  148.600000        0  \n2020-03-17 07:00:00-04:00  151.000000        0  \n2020-03-17 08:00:00-04:00  149.500000        0  \n2020-03-17 09:00:00-04:00  150.490000        0  \n2020-03-17 09:30:00-04:00  146.602707  8866104  \n2020-03-17 10:30:00-04:00  150.000000  4780360  \n2020-03-17 11:30:00-04:00  151.419998  4152280  \n2020-03-17 12:30:00-04:00  147.404999  3028206  ",
      "text/html": "<div>\n<style scoped>\n    .dataframe tbody tr th:only-of-type {\n        vertical-align: middle;\n    }\n\n    .dataframe tbody tr th {\n        vertical-align: top;\n    }\n\n    .dataframe thead th {\n        text-align: right;\n    }\n</style>\n<table border=\"1\" class=\"dataframe\">\n  <thead>\n    <tr style=\"text-align: right;\">\n      <th></th>\n      <th>open</th>\n      <th>high</th>\n      <th>low</th>\n      <th>close</th>\n      <th>Adj Close</th>\n      <th>volume</th>\n    </tr>\n    <tr>\n      <th>Datetime</th>\n      <th></th>\n      <th></th>\n      <th></th>\n      <th></th>\n      <th></th>\n      <th></th>\n    </tr>\n  </thead>\n  <tbody>\n    <tr>\n      <th>2020-03-17 04:00:00-04:00</th>\n      <td>152.500000</td>\n      <td>155.990000</td>\n      <td>152.500000</td>\n      <td>155.000000</td>\n      <td>155.000000</td>\n      <td>0</td>\n    </tr>\n    <tr>\n      <th>2020-03-17 05:00:00-04:00</th>\n      <td>154.800000</td>\n      <td>154.990000</td>\n      <td>149.190000</td>\n      <td>149.820000</td>\n      <td>149.820000</td>\n      <td>0</td>\n    </tr>\n    <tr>\n      <th>2020-03-17 06:00:00-04:00</th>\n      <td>149.320000</td>\n      <td>149.800000</td>\n      <td>146.010000</td>\n      <td>148.600000</td>\n      <td>148.600000</td>\n      <td>0</td>\n    </tr>\n    <tr>\n      <th>2020-03-17 07:00:00-04:00</th>\n      <td>149.730000</td>\n      <td>152.000000</td>\n      <td>149.500000</td>\n      <td>151.000000</td>\n      <td>151.000000</td>\n      <td>0</td>\n    </tr>\n    <tr>\n      <th>2020-03-17 08:00:00-04:00</th>\n      <td>150.810000</td>\n      <td>152.400000</td>\n      <td>147.910000</td>\n      <td>149.500000</td>\n      <td>149.500000</td>\n      <td>0</td>\n    </tr>\n    <tr>\n      <th>2020-03-17 09:00:00-04:00</th>\n      <td>149.430000</td>\n      <td>150.510000</td>\n      <td>148.060000</td>\n      <td>150.490000</td>\n      <td>150.490000</td>\n      <td>0</td>\n    </tr>\n    <tr>\n      <th>2020-03-17 09:30:00-04:00</th>\n      <td>150.259995</td>\n      <td>150.652206</td>\n      <td>140.000000</td>\n      <td>146.602707</td>\n      <td>146.602707</td>\n      <td>8866104</td>\n    </tr>\n    <tr>\n      <th>2020-03-17 10:30:00-04:00</th>\n      <td>146.589996</td>\n      <td>151.300003</td>\n      <td>143.869995</td>\n      <td>150.000000</td>\n      <td>150.000000</td>\n      <td>4780360</td>\n    </tr>\n    <tr>\n      <th>2020-03-17 11:30:00-04:00</th>\n      <td>150.000000</td>\n      <td>153.940002</td>\n      <td>148.740005</td>\n      <td>151.419998</td>\n      <td>151.419998</td>\n      <td>4152280</td>\n    </tr>\n    <tr>\n      <th>2020-03-17 12:30:00-04:00</th>\n      <td>151.419998</td>\n      <td>151.850006</td>\n      <td>145.839996</td>\n      <td>147.404999</td>\n      <td>147.404999</td>\n      <td>3028206</td>\n    </tr>\n  </tbody>\n</table>\n</div>"
     },
     "execution_count": 167,
     "metadata": {},
     "output_type": "execute_result"
    }
   ],
   "source": [
    "data.rename(columns={\"Close\": 'close', \"High\": 'high', \"Low\": 'low', 'Volume': 'volume', 'Open': 'open'}, inplace=True)\n",
    "data.head(10)"
   ],
   "metadata": {
    "collapsed": false,
    "pycharm": {
     "name": "#%%\n"
    }
   }
  },
  {
   "cell_type": "code",
   "execution_count": 168,
   "outputs": [
    {
     "data": {
      "text/plain": "<AxesSubplot:xlabel='Datetime'>"
     },
     "execution_count": 168,
     "metadata": {},
     "output_type": "execute_result"
    },
    {
     "data": {
      "text/plain": "<Figure size 432x288 with 1 Axes>",
      "image/png": "[encoded data removed]"
     },
     "metadata": {
      "needs_background": "light"
     },
     "output_type": "display_data"
    }
   ],
   "source": [
    "data['close'].plot()"
   ],
   "metadata": {
    "collapsed": false,
    "pycharm": {
     "name": "#%%\n"
    }
   }
  },
  {
   "cell_type": "code",
   "execution_count": 169,
   "outputs": [],
   "source": [
    "def _get_indicator_data(data):\n",
    "    \"\"\"\n",
    "    Function that uses the finta API to calculate technical indicators used as the features\n",
    "    :return:\n",
    "    \"\"\"\n",
    "\n",
    "    for indicator in INDICATORS:\n",
    "        ind_data = eval('TA.' + indicator + '(data)')\n",
    "        if not isinstance(ind_data, pd.DataFrame):\n",
    "            ind_data = ind_data.to_frame()\n",
    "        data = pd.concat([data, ind_data], axis=1)\n",
    "    # data.rename(columns={\"14 period EMV.\": '14 period EMV'}, inplace=True)\n",
    "\n",
    "    # Also calculate moving averages for features\n",
    "    data['ema50'] = data['close'] / data['close'].ewm(50).mean()\n",
    "    data['ema21'] = data['close'] / data['close'].ewm(21).mean()\n",
    "    # data['ema15'] = data['close'] / data['close'].ewm(ROWS_TO_PREDICT).mean()\n",
    "    data['ema5'] = data['close'] / data['close'].ewm(5).mean()\n",
    "\n",
    "    # Instead of using the actual volume value (which changes over time), we normalize it with a moving volume average\n",
    "    # data['normVol'] = data['volume'] / data['volume'].ewm(5).mean()\n",
    "    # for i in range(1,50):\n",
    "    #     data[f'close{i}'] = data['close'].shift(i)\n",
    "    # Remove columns that won't be used as features\n",
    "    del (data['open'])\n",
    "    del (data['high'])\n",
    "    del (data['low'])\n",
    "    # del (data['volume'])\n",
    "    del (data['Adj Close'])\n",
    "\n",
    "    return data\n",
    "\n",
    "data = _get_indicator_data(data)"
   ],
   "metadata": {
    "collapsed": false,
    "pycharm": {
     "name": "#%%\n"
    }
   }
  },
  {
   "cell_type": "code",
   "execution_count": 170,
   "outputs": [
    {
     "data": {
      "text/plain": "                                close   volume  14 period RSI      MACD  \\\nDatetime                                                                  \n2020-03-17 04:00:00-04:00  155.000000        0            NaN  0.000000   \n2020-03-17 05:00:00-04:00  149.820000        0       0.000000 -0.116218   \n2020-03-17 06:00:00-04:00  148.600000        0       0.000000 -0.185917   \n2020-03-17 07:00:00-04:00  151.000000        0      30.002679 -0.126410   \n2020-03-17 08:00:00-04:00  149.500000        0      24.961854 -0.151102   \n...                               ...      ...            ...       ...   \n2021-03-16 15:30:00-04:00  279.130005  2298570      61.112552  2.479560   \n2021-03-16 16:00:00-04:00  279.185000  1176864      61.242096  2.383395   \n2021-03-16 17:00:00-04:00  281.125000        0      65.596027  2.435648   \n2021-03-16 18:00:00-04:00  280.800000        0      64.293006  2.422905   \n2021-03-16 19:00:00-04:00  280.950000        0      64.642109  2.397276   \n\n                             SIGNAL  14 period STOCH %K           MFV  \\\nDatetime                                                                \n2020-03-17 04:00:00-04:00  0.000000                 NaN  0.000000e+00   \n2020-03-17 05:00:00-04:00 -0.064566                 NaN  0.000000e+00   \n2020-03-17 06:00:00-04:00 -0.114300                 NaN  0.000000e+00   \n2020-03-17 07:00:00-04:00 -0.118402                 NaN  0.000000e+00   \n2020-03-17 08:00:00-04:00 -0.128129                 NaN  0.000000e+00   \n...                             ...                 ...           ...   \n2021-03-16 15:30:00-04:00  2.147980           66.828247  6.966606e+09   \n2021-03-16 16:00:00-04:00  2.195063           67.434319  6.966840e+09   \n2021-03-16 17:00:00-04:00  2.243180           88.814051  6.966840e+09   \n2021-03-16 18:00:00-04:00  2.279125           85.232395  6.966840e+09   \n2021-03-16 19:00:00-04:00  2.302755           86.885467  6.966840e+09   \n\n                           14 period ATR       MOM  14 period MFI       ROC  \\\nDatetime                                                                      \n2020-03-17 04:00:00-04:00            NaN       NaN            NaN       NaN   \n2020-03-17 05:00:00-04:00            NaN       NaN            NaN       NaN   \n2020-03-17 06:00:00-04:00            NaN       NaN            NaN       NaN   \n2020-03-17 07:00:00-04:00            NaN       NaN            NaN       NaN   \n2020-03-17 08:00:00-04:00            NaN       NaN            NaN       NaN   \n...                                  ...       ...            ...       ...   \n2021-03-16 15:30:00-04:00       2.034025  4.620005      50.293475  1.965299   \n2021-03-16 16:00:00-04:00       2.042597  4.425000      47.555953  1.803165   \n2021-03-16 17:00:00-04:00       2.122597  6.005000      47.555953  2.409748   \n2021-03-16 18:00:00-04:00       2.231168  5.800000      47.555953  2.198282   \n2021-03-16 19:00:00-04:00       2.223311  1.059985      47.555953  2.119075   \n\n                           20 period CCI       VIm       VIp  14 Williams %R  \\\nDatetime                                                                       \n2020-03-17 04:00:00-04:00            NaN       NaN       NaN             NaN   \n2020-03-17 05:00:00-04:00     -66.666667       NaN       NaN             NaN   \n2020-03-17 06:00:00-04:00    -100.000000       NaN       NaN             NaN   \n2020-03-17 07:00:00-04:00     -14.253320       NaN       NaN             NaN   \n2020-03-17 08:00:00-04:00     -42.803094       NaN       NaN             NaN   \n...                                  ...       ...       ...             ...   \n2021-03-16 15:30:00-04:00      95.578232  0.728547  1.173829      -33.171753   \n2021-03-16 16:00:00-04:00      67.867664  0.791931  1.175197      -32.565681   \n2021-03-16 17:00:00-04:00      89.948421  0.759392  1.180036      -11.185949   \n2021-03-16 18:00:00-04:00      79.044431  0.774301  1.176397      -14.767605   \n2021-03-16 19:00:00-04:00      83.816762  0.790852  1.212682      -13.114533   \n\n                                   OBV     ema50     ema21      ema5  \nDatetime                                                              \n2020-03-17 04:00:00-04:00          NaN  1.000000  1.000000  1.000000  \n2020-03-17 05:00:00-04:00          0.0  0.983172  0.983395  0.984527  \n2020-03-17 06:00:00-04:00          0.0  0.983469  0.983837  0.985670  \n2020-03-17 07:00:00-04:00          0.0  0.999519  0.999800  1.001077  \n2020-03-17 08:00:00-04:00          0.0  0.991737  0.992070  0.993588  \n...                                ...       ...       ...       ...  \n2021-03-16 15:30:00-04:00  118244540.0  1.034373  1.019769  1.002939  \n2021-03-16 16:00:00-04:00  119421404.0  1.033876  1.019045  1.002613  \n2021-03-16 17:00:00-04:00  119421404.0  1.040223  1.024909  1.007970  \n2021-03-16 18:00:00-04:00  119421404.0  1.038226  1.022622  1.005665  \n2021-03-16 19:00:00-04:00  119421404.0  1.037991  1.022092  1.005163  \n\n[4131 rows x 19 columns]",
      "text/html": "<div>\n<style scoped>\n    .dataframe tbody tr th:only-of-type {\n        vertical-align: middle;\n    }\n\n    .dataframe tbody tr th {\n        vertical-align: top;\n    }\n\n    .dataframe thead th {\n        text-align: right;\n    }\n</style>\n<table border=\"1\" class=\"dataframe\">\n  <thead>\n    <tr style=\"text-align: right;\">\n      <th></th>\n      <th>close</th>\n      <th>volume</th>\n      <th>14 period RSI</th>\n      <th>MACD</th>\n      <th>SIGNAL</th>\n      <th>14 period STOCH %K</th>\n      <th>MFV</th>\n      <th>14 period ATR</th>\n      <th>MOM</th>\n      <th>14 period MFI</th>\n      <th>ROC</th>\n      <th>20 period CCI</th>\n      <th>VIm</th>\n      <th>VIp</th>\n      <th>14 Williams %R</th>\n      <th>OBV</th>\n      <th>ema50</th>\n      <th>ema21</th>\n      <th>ema5</th>\n    </tr>\n    <tr>\n      <th>Datetime</th>\n      <th></th>\n      <th></th>\n      <th></th>\n      <th></th>\n      <th></th>\n      <th></th>\n      <th></th>\n      <th></th>\n      <th></th>\n      <th></th>\n      <th></th>\n      <th></th>\n      <th></th>\n      <th></th>\n      <th></th>\n      <th></th>\n      <th></th>\n      <th></th>\n      <th></th>\n    </tr>\n  </thead>\n  <tbody>\n    <tr>\n      <th>2020-03-17 04:00:00-04:00</th>\n      <td>155.000000</td>\n      <td>0</td>\n      <td>NaN</td>\n      <td>0.000000</td>\n      <td>0.000000</td>\n      <td>NaN</td>\n      <td>0.000000e+00</td>\n      <td>NaN</td>\n      <td>NaN</td>\n      <td>NaN</td>\n      <td>NaN</td>\n      <td>NaN</td>\n      <td>NaN</td>\n      <td>NaN</td>\n      <td>NaN</td>\n      <td>NaN</td>\n      <td>1.000000</td>\n      <td>1.000000</td>\n      <td>1.000000</td>\n    </tr>\n    <tr>\n      <th>2020-03-17 05:00:00-04:00</th>\n      <td>149.820000</td>\n      <td>0</td>\n      <td>0.000000</td>\n      <td>-0.116218</td>\n      <td>-0.064566</td>\n      <td>NaN</td>\n      <td>0.000000e+00</td>\n      <td>NaN</td>\n      <td>NaN</td>\n      <td>NaN</td>\n      <td>NaN</td>\n      <td>-66.666667</td>\n      <td>NaN</td>\n      <td>NaN</td>\n      <td>NaN</td>\n      <td>0.0</td>\n      <td>0.983172</td>\n      <td>0.983395</td>\n      <td>0.984527</td>\n    </tr>\n    <tr>\n      <th>2020-03-17 06:00:00-04:00</th>\n      <td>148.600000</td>\n      <td>0</td>\n      <td>0.000000</td>\n      <td>-0.185917</td>\n      <td>-0.114300</td>\n      <td>NaN</td>\n      <td>0.000000e+00</td>\n      <td>NaN</td>\n      <td>NaN</td>\n      <td>NaN</td>\n      <td>NaN</td>\n      <td>-100.000000</td>\n      <td>NaN</td>\n      <td>NaN</td>\n      <td>NaN</td>\n      <td>0.0</td>\n      <td>0.983469</td>\n      <td>0.983837</td>\n      <td>0.985670</td>\n    </tr>\n    <tr>\n      <th>2020-03-17 07:00:00-04:00</th>\n      <td>151.000000</td>\n      <td>0</td>\n      <td>30.002679</td>\n      <td>-0.126410</td>\n      <td>-0.118402</td>\n      <td>NaN</td>\n      <td>0.000000e+00</td>\n      <td>NaN</td>\n      <td>NaN</td>\n      <td>NaN</td>\n      <td>NaN</td>\n      <td>-14.253320</td>\n      <td>NaN</td>\n      <td>NaN</td>\n      <td>NaN</td>\n      <td>0.0</td>\n      <td>0.999519</td>\n      <td>0.999800</td>\n      <td>1.001077</td>\n    </tr>\n    <tr>\n      <th>2020-03-17 08:00:00-04:00</th>\n      <td>149.500000</td>\n      <td>0</td>\n      <td>24.961854</td>\n      <td>-0.151102</td>\n      <td>-0.128129</td>\n      <td>NaN</td>\n      <td>0.000000e+00</td>\n      <td>NaN</td>\n      <td>NaN</td>\n      <td>NaN</td>\n      <td>NaN</td>\n      <td>-42.803094</td>\n      <td>NaN</td>\n      <td>NaN</td>\n      <td>NaN</td>\n      <td>0.0</td>\n      <td>0.991737</td>\n      <td>0.992070</td>\n      <td>0.993588</td>\n    </tr>\n    <tr>\n      <th>...</th>\n      <td>...</td>\n      <td>...</td>\n      <td>...</td>\n      <td>...</td>\n      <td>...</td>\n      <td>...</td>\n      <td>...</td>\n      <td>...</td>\n      <td>...</td>\n      <td>...</td>\n      <td>...</td>\n      <td>...</td>\n      <td>...</td>\n      <td>...</td>\n      <td>...</td>\n      <td>...</td>\n      <td>...</td>\n      <td>...</td>\n      <td>...</td>\n    </tr>\n    <tr>\n      <th>2021-03-16 15:30:00-04:00</th>\n      <td>279.130005</td>\n      <td>2298570</td>\n      <td>61.112552</td>\n      <td>2.479560</td>\n      <td>2.147980</td>\n      <td>66.828247</td>\n      <td>6.966606e+09</td>\n      <td>2.034025</td>\n      <td>4.620005</td>\n      <td>50.293475</td>\n      <td>1.965299</td>\n      <td>95.578232</td>\n      <td>0.728547</td>\n      <td>1.173829</td>\n      <td>-33.171753</td>\n      <td>118244540.0</td>\n      <td>1.034373</td>\n      <td>1.019769</td>\n      <td>1.002939</td>\n    </tr>\n    <tr>\n      <th>2021-03-16 16:00:00-04:00</th>\n      <td>279.185000</td>\n      <td>1176864</td>\n      <td>61.242096</td>\n      <td>2.383395</td>\n      <td>2.195063</td>\n      <td>67.434319</td>\n      <td>6.966840e+09</td>\n      <td>2.042597</td>\n      <td>4.425000</td>\n      <td>47.555953</td>\n      <td>1.803165</td>\n      <td>67.867664</td>\n      <td>0.791931</td>\n      <td>1.175197</td>\n      <td>-32.565681</td>\n      <td>119421404.0</td>\n      <td>1.033876</td>\n      <td>1.019045</td>\n      <td>1.002613</td>\n    </tr>\n    <tr>\n      <th>2021-03-16 17:00:00-04:00</th>\n      <td>281.125000</td>\n      <td>0</td>\n      <td>65.596027</td>\n      <td>2.435648</td>\n      <td>2.243180</td>\n      <td>88.814051</td>\n      <td>6.966840e+09</td>\n      <td>2.122597</td>\n      <td>6.005000</td>\n      <td>47.555953</td>\n      <td>2.409748</td>\n      <td>89.948421</td>\n      <td>0.759392</td>\n      <td>1.180036</td>\n      <td>-11.185949</td>\n      <td>119421404.0</td>\n      <td>1.040223</td>\n      <td>1.024909</td>\n      <td>1.007970</td>\n    </tr>\n    <tr>\n      <th>2021-03-16 18:00:00-04:00</th>\n      <td>280.800000</td>\n      <td>0</td>\n      <td>64.293006</td>\n      <td>2.422905</td>\n      <td>2.279125</td>\n      <td>85.232395</td>\n      <td>6.966840e+09</td>\n      <td>2.231168</td>\n      <td>5.800000</td>\n      <td>47.555953</td>\n      <td>2.198282</td>\n      <td>79.044431</td>\n      <td>0.774301</td>\n      <td>1.176397</td>\n      <td>-14.767605</td>\n      <td>119421404.0</td>\n      <td>1.038226</td>\n      <td>1.022622</td>\n      <td>1.005665</td>\n    </tr>\n    <tr>\n      <th>2021-03-16 19:00:00-04:00</th>\n      <td>280.950000</td>\n      <td>0</td>\n      <td>64.642109</td>\n      <td>2.397276</td>\n      <td>2.302755</td>\n      <td>86.885467</td>\n      <td>6.966840e+09</td>\n      <td>2.223311</td>\n      <td>1.059985</td>\n      <td>47.555953</td>\n      <td>2.119075</td>\n      <td>83.816762</td>\n      <td>0.790852</td>\n      <td>1.212682</td>\n      <td>-13.114533</td>\n      <td>119421404.0</td>\n      <td>1.037991</td>\n      <td>1.022092</td>\n      <td>1.005163</td>\n    </tr>\n  </tbody>\n</table>\n<p>4131 rows × 19 columns</p>\n</div>"
     },
     "execution_count": 170,
     "metadata": {},
     "output_type": "execute_result"
    }
   ],
   "source": [
    "data"
   ],
   "metadata": {
    "collapsed": false,
    "pycharm": {
     "name": "#%%\n"
    }
   }
  },
  {
   "cell_type": "code",
   "execution_count": 171,
   "outputs": [
    {
     "data": {
      "text/plain": "Index(['close', 'volume', '14 period RSI', 'MACD', 'SIGNAL',\n       '14 period STOCH %K', 'MFV', '14 period ATR', 'MOM', '14 period MFI',\n       'ROC', '20 period CCI', 'VIm', 'VIp', '14 Williams %R', 'OBV', 'ema50',\n       'ema21', 'ema5'],\n      dtype='object')"
     },
     "execution_count": 171,
     "metadata": {},
     "output_type": "execute_result"
    }
   ],
   "source": [
    "data.columns"
   ],
   "metadata": {
    "collapsed": false,
    "pycharm": {
     "name": "#%%\n"
    }
   }
  },
  {
   "cell_type": "code",
   "execution_count": 172,
   "outputs": [],
   "source": [
    "def create_class_column(row):\n",
    "    if row['close_shift']-row['close'] > 1.2:\n",
    "        return 1\n",
    "    if row['close_shift'] -row['close']< -1.2:\n",
    "        return -1\n",
    "    else:\n",
    "        return 0"
   ],
   "metadata": {
    "collapsed": false,
    "pycharm": {
     "name": "#%%\n"
    }
   }
  },
  {
   "cell_type": "code",
   "execution_count": 173,
   "outputs": [
    {
     "data": {
      "text/plain": "                                close   volume  14 period RSI      MACD  \\\nDatetime                                                                  \n2020-03-17 04:00:00-04:00  155.000000        0            NaN  0.000000   \n2020-03-17 05:00:00-04:00  149.820000        0       0.000000 -0.116218   \n2020-03-17 06:00:00-04:00  148.600000        0       0.000000 -0.185917   \n2020-03-17 07:00:00-04:00  151.000000        0      30.002679 -0.126410   \n2020-03-17 08:00:00-04:00  149.500000        0      24.961854 -0.151102   \n...                               ...      ...            ...       ...   \n2021-03-16 15:30:00-04:00  279.130005  2298570      61.112552  2.479560   \n2021-03-16 16:00:00-04:00  279.185000  1176864      61.242096  2.383395   \n2021-03-16 17:00:00-04:00  281.125000        0      65.596027  2.435648   \n2021-03-16 18:00:00-04:00  280.800000        0      64.293006  2.422905   \n2021-03-16 19:00:00-04:00  280.950000        0      64.642109  2.397276   \n\n                             SIGNAL  14 period STOCH %K           MFV  \\\nDatetime                                                                \n2020-03-17 04:00:00-04:00  0.000000                 NaN  0.000000e+00   \n2020-03-17 05:00:00-04:00 -0.064566                 NaN  0.000000e+00   \n2020-03-17 06:00:00-04:00 -0.114300                 NaN  0.000000e+00   \n2020-03-17 07:00:00-04:00 -0.118402                 NaN  0.000000e+00   \n2020-03-17 08:00:00-04:00 -0.128129                 NaN  0.000000e+00   \n...                             ...                 ...           ...   \n2021-03-16 15:30:00-04:00  2.147980           66.828247  6.966606e+09   \n2021-03-16 16:00:00-04:00  2.195063           67.434319  6.966840e+09   \n2021-03-16 17:00:00-04:00  2.243180           88.814051  6.966840e+09   \n2021-03-16 18:00:00-04:00  2.279125           85.232395  6.966840e+09   \n2021-03-16 19:00:00-04:00  2.302755           86.885467  6.966840e+09   \n\n                           14 period ATR       MOM  14 period MFI       ROC  \\\nDatetime                                                                      \n2020-03-17 04:00:00-04:00            NaN       NaN            NaN       NaN   \n2020-03-17 05:00:00-04:00            NaN       NaN            NaN       NaN   \n2020-03-17 06:00:00-04:00            NaN       NaN            NaN       NaN   \n2020-03-17 07:00:00-04:00            NaN       NaN            NaN       NaN   \n2020-03-17 08:00:00-04:00            NaN       NaN            NaN       NaN   \n...                                  ...       ...            ...       ...   \n2021-03-16 15:30:00-04:00       2.034025  4.620005      50.293475  1.965299   \n2021-03-16 16:00:00-04:00       2.042597  4.425000      47.555953  1.803165   \n2021-03-16 17:00:00-04:00       2.122597  6.005000      47.555953  2.409748   \n2021-03-16 18:00:00-04:00       2.231168  5.800000      47.555953  2.198282   \n2021-03-16 19:00:00-04:00       2.223311  1.059985      47.555953  2.119075   \n\n                           20 period CCI       VIm       VIp  14 Williams %R  \\\nDatetime                                                                       \n2020-03-17 04:00:00-04:00            NaN       NaN       NaN             NaN   \n2020-03-17 05:00:00-04:00     -66.666667       NaN       NaN             NaN   \n2020-03-17 06:00:00-04:00    -100.000000       NaN       NaN             NaN   \n2020-03-17 07:00:00-04:00     -14.253320       NaN       NaN             NaN   \n2020-03-17 08:00:00-04:00     -42.803094       NaN       NaN             NaN   \n...                                  ...       ...       ...             ...   \n2021-03-16 15:30:00-04:00      95.578232  0.728547  1.173829      -33.171753   \n2021-03-16 16:00:00-04:00      67.867664  0.791931  1.175197      -32.565681   \n2021-03-16 17:00:00-04:00      89.948421  0.759392  1.180036      -11.185949   \n2021-03-16 18:00:00-04:00      79.044431  0.774301  1.176397      -14.767605   \n2021-03-16 19:00:00-04:00      83.816762  0.790852  1.212682      -13.114533   \n\n                                   OBV     ema50     ema21      ema5  \\\nDatetime                                                               \n2020-03-17 04:00:00-04:00          NaN  1.000000  1.000000  1.000000   \n2020-03-17 05:00:00-04:00          0.0  0.983172  0.983395  0.984527   \n2020-03-17 06:00:00-04:00          0.0  0.983469  0.983837  0.985670   \n2020-03-17 07:00:00-04:00          0.0  0.999519  0.999800  1.001077   \n2020-03-17 08:00:00-04:00          0.0  0.991737  0.992070  0.993588   \n...                                ...       ...       ...       ...   \n2021-03-16 15:30:00-04:00  118244540.0  1.034373  1.019769  1.002939   \n2021-03-16 16:00:00-04:00  119421404.0  1.033876  1.019045  1.002613   \n2021-03-16 17:00:00-04:00  119421404.0  1.040223  1.024909  1.007970   \n2021-03-16 18:00:00-04:00  119421404.0  1.038226  1.022622  1.005665   \n2021-03-16 19:00:00-04:00  119421404.0  1.037991  1.022092  1.005163   \n\n                           close_shift  \nDatetime                                \n2020-03-17 04:00:00-04:00   151.419998  \n2020-03-17 05:00:00-04:00   147.404999  \n2020-03-17 06:00:00-04:00   148.449997  \n2020-03-17 07:00:00-04:00   147.610001  \n2020-03-17 08:00:00-04:00   149.419998  \n...                                ...  \n2021-03-16 15:30:00-04:00          NaN  \n2021-03-16 16:00:00-04:00          NaN  \n2021-03-16 17:00:00-04:00          NaN  \n2021-03-16 18:00:00-04:00          NaN  \n2021-03-16 19:00:00-04:00          NaN  \n\n[4131 rows x 20 columns]",
      "text/html": "<div>\n<style scoped>\n    .dataframe tbody tr th:only-of-type {\n        vertical-align: middle;\n    }\n\n    .dataframe tbody tr th {\n        vertical-align: top;\n    }\n\n    .dataframe thead th {\n        text-align: right;\n    }\n</style>\n<table border=\"1\" class=\"dataframe\">\n  <thead>\n    <tr style=\"text-align: right;\">\n      <th></th>\n      <th>close</th>\n      <th>volume</th>\n      <th>14 period RSI</th>\n      <th>MACD</th>\n      <th>SIGNAL</th>\n      <th>14 period STOCH %K</th>\n      <th>MFV</th>\n      <th>14 period ATR</th>\n      <th>MOM</th>\n      <th>14 period MFI</th>\n      <th>ROC</th>\n      <th>20 period CCI</th>\n      <th>VIm</th>\n      <th>VIp</th>\n      <th>14 Williams %R</th>\n      <th>OBV</th>\n      <th>ema50</th>\n      <th>ema21</th>\n      <th>ema5</th>\n      <th>close_shift</th>\n    </tr>\n    <tr>\n      <th>Datetime</th>\n      <th></th>\n      <th></th>\n      <th></th>\n      <th></th>\n      <th></th>\n      <th></th>\n      <th></th>\n      <th></th>\n      <th></th>\n      <th></th>\n      <th></th>\n      <th></th>\n      <th></th>\n      <th></th>\n      <th></th>\n      <th></th>\n      <th></th>\n      <th></th>\n      <th></th>\n      <th></th>\n    </tr>\n  </thead>\n  <tbody>\n    <tr>\n      <th>2020-03-17 04:00:00-04:00</th>\n      <td>155.000000</td>\n      <td>0</td>\n      <td>NaN</td>\n      <td>0.000000</td>\n      <td>0.000000</td>\n      <td>NaN</td>\n      <td>0.000000e+00</td>\n      <td>NaN</td>\n      <td>NaN</td>\n      <td>NaN</td>\n      <td>NaN</td>\n      <td>NaN</td>\n      <td>NaN</td>\n      <td>NaN</td>\n      <td>NaN</td>\n      <td>NaN</td>\n      <td>1.000000</td>\n      <td>1.000000</td>\n      <td>1.000000</td>\n      <td>151.419998</td>\n    </tr>\n    <tr>\n      <th>2020-03-17 05:00:00-04:00</th>\n      <td>149.820000</td>\n      <td>0</td>\n      <td>0.000000</td>\n      <td>-0.116218</td>\n      <td>-0.064566</td>\n      <td>NaN</td>\n      <td>0.000000e+00</td>\n      <td>NaN</td>\n      <td>NaN</td>\n      <td>NaN</td>\n      <td>NaN</td>\n      <td>-66.666667</td>\n      <td>NaN</td>\n      <td>NaN</td>\n      <td>NaN</td>\n      <td>0.0</td>\n      <td>0.983172</td>\n      <td>0.983395</td>\n      <td>0.984527</td>\n      <td>147.404999</td>\n    </tr>\n    <tr>\n      <th>2020-03-17 06:00:00-04:00</th>\n      <td>148.600000</td>\n      <td>0</td>\n      <td>0.000000</td>\n      <td>-0.185917</td>\n      <td>-0.114300</td>\n      <td>NaN</td>\n      <td>0.000000e+00</td>\n      <td>NaN</td>\n      <td>NaN</td>\n      <td>NaN</td>\n      <td>NaN</td>\n      <td>-100.000000</td>\n      <td>NaN</td>\n      <td>NaN</td>\n      <td>NaN</td>\n      <td>0.0</td>\n      <td>0.983469</td>\n      <td>0.983837</td>\n      <td>0.985670</td>\n      <td>148.449997</td>\n    </tr>\n    <tr>\n      <th>2020-03-17 07:00:00-04:00</th>\n      <td>151.000000</td>\n      <td>0</td>\n      <td>30.002679</td>\n      <td>-0.126410</td>\n      <td>-0.118402</td>\n      <td>NaN</td>\n      <td>0.000000e+00</td>\n      <td>NaN</td>\n      <td>NaN</td>\n      <td>NaN</td>\n      <td>NaN</td>\n      <td>-14.253320</td>\n      <td>NaN</td>\n      <td>NaN</td>\n      <td>NaN</td>\n      <td>0.0</td>\n      <td>0.999519</td>\n      <td>0.999800</td>\n      <td>1.001077</td>\n      <td>147.610001</td>\n    </tr>\n    <tr>\n      <th>2020-03-17 08:00:00-04:00</th>\n      <td>149.500000</td>\n      <td>0</td>\n      <td>24.961854</td>\n      <td>-0.151102</td>\n      <td>-0.128129</td>\n      <td>NaN</td>\n      <td>0.000000e+00</td>\n      <td>NaN</td>\n      <td>NaN</td>\n      <td>NaN</td>\n      <td>NaN</td>\n      <td>-42.803094</td>\n      <td>NaN</td>\n      <td>NaN</td>\n      <td>NaN</td>\n      <td>0.0</td>\n      <td>0.991737</td>\n      <td>0.992070</td>\n      <td>0.993588</td>\n      <td>149.419998</td>\n    </tr>\n    <tr>\n      <th>...</th>\n      <td>...</td>\n      <td>...</td>\n      <td>...</td>\n      <td>...</td>\n      <td>...</td>\n      <td>...</td>\n      <td>...</td>\n      <td>...</td>\n      <td>...</td>\n      <td>...</td>\n      <td>...</td>\n      <td>...</td>\n      <td>...</td>\n      <td>...</td>\n      <td>...</td>\n      <td>...</td>\n      <td>...</td>\n      <td>...</td>\n      <td>...</td>\n      <td>...</td>\n    </tr>\n    <tr>\n      <th>2021-03-16 15:30:00-04:00</th>\n      <td>279.130005</td>\n      <td>2298570</td>\n      <td>61.112552</td>\n      <td>2.479560</td>\n      <td>2.147980</td>\n      <td>66.828247</td>\n      <td>6.966606e+09</td>\n      <td>2.034025</td>\n      <td>4.620005</td>\n      <td>50.293475</td>\n      <td>1.965299</td>\n      <td>95.578232</td>\n      <td>0.728547</td>\n      <td>1.173829</td>\n      <td>-33.171753</td>\n      <td>118244540.0</td>\n      <td>1.034373</td>\n      <td>1.019769</td>\n      <td>1.002939</td>\n      <td>NaN</td>\n    </tr>\n    <tr>\n      <th>2021-03-16 16:00:00-04:00</th>\n      <td>279.185000</td>\n      <td>1176864</td>\n      <td>61.242096</td>\n      <td>2.383395</td>\n      <td>2.195063</td>\n      <td>67.434319</td>\n      <td>6.966840e+09</td>\n      <td>2.042597</td>\n      <td>4.425000</td>\n      <td>47.555953</td>\n      <td>1.803165</td>\n      <td>67.867664</td>\n      <td>0.791931</td>\n      <td>1.175197</td>\n      <td>-32.565681</td>\n      <td>119421404.0</td>\n      <td>1.033876</td>\n      <td>1.019045</td>\n      <td>1.002613</td>\n      <td>NaN</td>\n    </tr>\n    <tr>\n      <th>2021-03-16 17:00:00-04:00</th>\n      <td>281.125000</td>\n      <td>0</td>\n      <td>65.596027</td>\n      <td>2.435648</td>\n      <td>2.243180</td>\n      <td>88.814051</td>\n      <td>6.966840e+09</td>\n      <td>2.122597</td>\n      <td>6.005000</td>\n      <td>47.555953</td>\n      <td>2.409748</td>\n      <td>89.948421</td>\n      <td>0.759392</td>\n      <td>1.180036</td>\n      <td>-11.185949</td>\n      <td>119421404.0</td>\n      <td>1.040223</td>\n      <td>1.024909</td>\n      <td>1.007970</td>\n      <td>NaN</td>\n    </tr>\n    <tr>\n      <th>2021-03-16 18:00:00-04:00</th>\n      <td>280.800000</td>\n      <td>0</td>\n      <td>64.293006</td>\n      <td>2.422905</td>\n      <td>2.279125</td>\n      <td>85.232395</td>\n      <td>6.966840e+09</td>\n      <td>2.231168</td>\n      <td>5.800000</td>\n      <td>47.555953</td>\n      <td>2.198282</td>\n      <td>79.044431</td>\n      <td>0.774301</td>\n      <td>1.176397</td>\n      <td>-14.767605</td>\n      <td>119421404.0</td>\n      <td>1.038226</td>\n      <td>1.022622</td>\n      <td>1.005665</td>\n      <td>NaN</td>\n    </tr>\n    <tr>\n      <th>2021-03-16 19:00:00-04:00</th>\n      <td>280.950000</td>\n      <td>0</td>\n      <td>64.642109</td>\n      <td>2.397276</td>\n      <td>2.302755</td>\n      <td>86.885467</td>\n      <td>6.966840e+09</td>\n      <td>2.223311</td>\n      <td>1.059985</td>\n      <td>47.555953</td>\n      <td>2.119075</td>\n      <td>83.816762</td>\n      <td>0.790852</td>\n      <td>1.212682</td>\n      <td>-13.114533</td>\n      <td>119421404.0</td>\n      <td>1.037991</td>\n      <td>1.022092</td>\n      <td>1.005163</td>\n      <td>NaN</td>\n    </tr>\n  </tbody>\n</table>\n<p>4131 rows × 20 columns</p>\n</div>"
     },
     "execution_count": 173,
     "metadata": {},
     "output_type": "execute_result"
    }
   ],
   "source": [
    "data['close_shift'] = data.shift(-WINDOW)['close']\n",
    "data"
   ],
   "metadata": {
    "collapsed": false,
    "pycharm": {
     "name": "#%%\n"
    }
   }
  },
  {
   "cell_type": "code",
   "execution_count": 174,
   "outputs": [
    {
     "data": {
      "text/plain": "                                close   volume  14 period RSI      MACD  \\\nDatetime                                                                  \n2020-03-17 04:00:00-04:00  155.000000        0            NaN  0.000000   \n2020-03-17 05:00:00-04:00  149.820000        0       0.000000 -0.116218   \n2020-03-17 06:00:00-04:00  148.600000        0       0.000000 -0.185917   \n2020-03-17 07:00:00-04:00  151.000000        0      30.002679 -0.126410   \n2020-03-17 08:00:00-04:00  149.500000        0      24.961854 -0.151102   \n...                               ...      ...            ...       ...   \n2021-03-16 15:30:00-04:00  279.130005  2298570      61.112552  2.479560   \n2021-03-16 16:00:00-04:00  279.185000  1176864      61.242096  2.383395   \n2021-03-16 17:00:00-04:00  281.125000        0      65.596027  2.435648   \n2021-03-16 18:00:00-04:00  280.800000        0      64.293006  2.422905   \n2021-03-16 19:00:00-04:00  280.950000        0      64.642109  2.397276   \n\n                             SIGNAL  14 period STOCH %K           MFV  \\\nDatetime                                                                \n2020-03-17 04:00:00-04:00  0.000000                 NaN  0.000000e+00   \n2020-03-17 05:00:00-04:00 -0.064566                 NaN  0.000000e+00   \n2020-03-17 06:00:00-04:00 -0.114300                 NaN  0.000000e+00   \n2020-03-17 07:00:00-04:00 -0.118402                 NaN  0.000000e+00   \n2020-03-17 08:00:00-04:00 -0.128129                 NaN  0.000000e+00   \n...                             ...                 ...           ...   \n2021-03-16 15:30:00-04:00  2.147980           66.828247  6.966606e+09   \n2021-03-16 16:00:00-04:00  2.195063           67.434319  6.966840e+09   \n2021-03-16 17:00:00-04:00  2.243180           88.814051  6.966840e+09   \n2021-03-16 18:00:00-04:00  2.279125           85.232395  6.966840e+09   \n2021-03-16 19:00:00-04:00  2.302755           86.885467  6.966840e+09   \n\n                           14 period ATR       MOM  14 period MFI  ...  \\\nDatetime                                                           ...   \n2020-03-17 04:00:00-04:00            NaN       NaN            NaN  ...   \n2020-03-17 05:00:00-04:00            NaN       NaN            NaN  ...   \n2020-03-17 06:00:00-04:00            NaN       NaN            NaN  ...   \n2020-03-17 07:00:00-04:00            NaN       NaN            NaN  ...   \n2020-03-17 08:00:00-04:00            NaN       NaN            NaN  ...   \n...                                  ...       ...            ...  ...   \n2021-03-16 15:30:00-04:00       2.034025  4.620005      50.293475  ...   \n2021-03-16 16:00:00-04:00       2.042597  4.425000      47.555953  ...   \n2021-03-16 17:00:00-04:00       2.122597  6.005000      47.555953  ...   \n2021-03-16 18:00:00-04:00       2.231168  5.800000      47.555953  ...   \n2021-03-16 19:00:00-04:00       2.223311  1.059985      47.555953  ...   \n\n                           20 period CCI       VIm       VIp  14 Williams %R  \\\nDatetime                                                                       \n2020-03-17 04:00:00-04:00            NaN       NaN       NaN             NaN   \n2020-03-17 05:00:00-04:00     -66.666667       NaN       NaN             NaN   \n2020-03-17 06:00:00-04:00    -100.000000       NaN       NaN             NaN   \n2020-03-17 07:00:00-04:00     -14.253320       NaN       NaN             NaN   \n2020-03-17 08:00:00-04:00     -42.803094       NaN       NaN             NaN   \n...                                  ...       ...       ...             ...   \n2021-03-16 15:30:00-04:00      95.578232  0.728547  1.173829      -33.171753   \n2021-03-16 16:00:00-04:00      67.867664  0.791931  1.175197      -32.565681   \n2021-03-16 17:00:00-04:00      89.948421  0.759392  1.180036      -11.185949   \n2021-03-16 18:00:00-04:00      79.044431  0.774301  1.176397      -14.767605   \n2021-03-16 19:00:00-04:00      83.816762  0.790852  1.212682      -13.114533   \n\n                                   OBV     ema50     ema21      ema5  \\\nDatetime                                                               \n2020-03-17 04:00:00-04:00          NaN  1.000000  1.000000  1.000000   \n2020-03-17 05:00:00-04:00          0.0  0.983172  0.983395  0.984527   \n2020-03-17 06:00:00-04:00          0.0  0.983469  0.983837  0.985670   \n2020-03-17 07:00:00-04:00          0.0  0.999519  0.999800  1.001077   \n2020-03-17 08:00:00-04:00          0.0  0.991737  0.992070  0.993588   \n...                                ...       ...       ...       ...   \n2021-03-16 15:30:00-04:00  118244540.0  1.034373  1.019769  1.002939   \n2021-03-16 16:00:00-04:00  119421404.0  1.033876  1.019045  1.002613   \n2021-03-16 17:00:00-04:00  119421404.0  1.040223  1.024909  1.007970   \n2021-03-16 18:00:00-04:00  119421404.0  1.038226  1.022622  1.005665   \n2021-03-16 19:00:00-04:00  119421404.0  1.037991  1.022092  1.005163   \n\n                           close_shift  class_column  \nDatetime                                              \n2020-03-17 04:00:00-04:00   151.419998            -1  \n2020-03-17 05:00:00-04:00   147.404999            -1  \n2020-03-17 06:00:00-04:00   148.449997             0  \n2020-03-17 07:00:00-04:00   147.610001            -1  \n2020-03-17 08:00:00-04:00   149.419998             0  \n...                                ...           ...  \n2021-03-16 15:30:00-04:00          NaN             0  \n2021-03-16 16:00:00-04:00          NaN             0  \n2021-03-16 17:00:00-04:00          NaN             0  \n2021-03-16 18:00:00-04:00          NaN             0  \n2021-03-16 19:00:00-04:00          NaN             0  \n\n[4131 rows x 21 columns]",
      "text/html": "<div>\n<style scoped>\n    .dataframe tbody tr th:only-of-type {\n        vertical-align: middle;\n    }\n\n    .dataframe tbody tr th {\n        vertical-align: top;\n    }\n\n    .dataframe thead th {\n        text-align: right;\n    }\n</style>\n<table border=\"1\" class=\"dataframe\">\n  <thead>\n    <tr style=\"text-align: right;\">\n      <th></th>\n      <th>close</th>\n      <th>volume</th>\n      <th>14 period RSI</th>\n      <th>MACD</th>\n      <th>SIGNAL</th>\n      <th>14 period STOCH %K</th>\n      <th>MFV</th>\n      <th>14 period ATR</th>\n      <th>MOM</th>\n      <th>14 period MFI</th>\n      <th>...</th>\n      <th>20 period CCI</th>\n      <th>VIm</th>\n      <th>VIp</th>\n      <th>14 Williams %R</th>\n      <th>OBV</th>\n      <th>ema50</th>\n      <th>ema21</th>\n      <th>ema5</th>\n      <th>close_shift</th>\n      <th>class_column</th>\n    </tr>\n    <tr>\n      <th>Datetime</th>\n      <th></th>\n      <th></th>\n      <th></th>\n      <th></th>\n      <th></th>\n      <th></th>\n      <th></th>\n      <th></th>\n      <th></th>\n      <th></th>\n      <th></th>\n      <th></th>\n      <th></th>\n      <th></th>\n      <th></th>\n      <th></th>\n      <th></th>\n      <th></th>\n      <th></th>\n      <th></th>\n      <th></th>\n    </tr>\n  </thead>\n  <tbody>\n    <tr>\n      <th>2020-03-17 04:00:00-04:00</th>\n      <td>155.000000</td>\n      <td>0</td>\n      <td>NaN</td>\n      <td>0.000000</td>\n      <td>0.000000</td>\n      <td>NaN</td>\n      <td>0.000000e+00</td>\n      <td>NaN</td>\n      <td>NaN</td>\n      <td>NaN</td>\n      <td>...</td>\n      <td>NaN</td>\n      <td>NaN</td>\n      <td>NaN</td>\n      <td>NaN</td>\n      <td>NaN</td>\n      <td>1.000000</td>\n      <td>1.000000</td>\n      <td>1.000000</td>\n      <td>151.419998</td>\n      <td>-1</td>\n    </tr>\n    <tr>\n      <th>2020-03-17 05:00:00-04:00</th>\n      <td>149.820000</td>\n      <td>0</td>\n      <td>0.000000</td>\n      <td>-0.116218</td>\n      <td>-0.064566</td>\n      <td>NaN</td>\n      <td>0.000000e+00</td>\n      <td>NaN</td>\n      <td>NaN</td>\n      <td>NaN</td>\n      <td>...</td>\n      <td>-66.666667</td>\n      <td>NaN</td>\n      <td>NaN</td>\n      <td>NaN</td>\n      <td>0.0</td>\n      <td>0.983172</td>\n      <td>0.983395</td>\n      <td>0.984527</td>\n      <td>147.404999</td>\n      <td>-1</td>\n    </tr>\n    <tr>\n      <th>2020-03-17 06:00:00-04:00</th>\n      <td>148.600000</td>\n      <td>0</td>\n      <td>0.000000</td>\n      <td>-0.185917</td>\n      <td>-0.114300</td>\n      <td>NaN</td>\n      <td>0.000000e+00</td>\n      <td>NaN</td>\n      <td>NaN</td>\n      <td>NaN</td>\n      <td>...</td>\n      <td>-100.000000</td>\n      <td>NaN</td>\n      <td>NaN</td>\n      <td>NaN</td>\n      <td>0.0</td>\n      <td>0.983469</td>\n      <td>0.983837</td>\n      <td>0.985670</td>\n      <td>148.449997</td>\n      <td>0</td>\n    </tr>\n    <tr>\n      <th>2020-03-17 07:00:00-04:00</th>\n      <td>151.000000</td>\n      <td>0</td>\n      <td>30.002679</td>\n      <td>-0.126410</td>\n      <td>-0.118402</td>\n      <td>NaN</td>\n      <td>0.000000e+00</td>\n      <td>NaN</td>\n      <td>NaN</td>\n      <td>NaN</td>\n      <td>...</td>\n      <td>-14.253320</td>\n      <td>NaN</td>\n      <td>NaN</td>\n      <td>NaN</td>\n      <td>0.0</td>\n      <td>0.999519</td>\n      <td>0.999800</td>\n      <td>1.001077</td>\n      <td>147.610001</td>\n      <td>-1</td>\n    </tr>\n    <tr>\n      <th>2020-03-17 08:00:00-04:00</th>\n      <td>149.500000</td>\n      <td>0</td>\n      <td>24.961854</td>\n      <td>-0.151102</td>\n      <td>-0.128129</td>\n      <td>NaN</td>\n      <td>0.000000e+00</td>\n      <td>NaN</td>\n      <td>NaN</td>\n      <td>NaN</td>\n      <td>...</td>\n      <td>-42.803094</td>\n      <td>NaN</td>\n      <td>NaN</td>\n      <td>NaN</td>\n      <td>0.0</td>\n      <td>0.991737</td>\n      <td>0.992070</td>\n      <td>0.993588</td>\n      <td>149.419998</td>\n      <td>0</td>\n    </tr>\n    <tr>\n      <th>...</th>\n      <td>...</td>\n      <td>...</td>\n      <td>...</td>\n      <td>...</td>\n      <td>...</td>\n      <td>...</td>\n      <td>...</td>\n      <td>...</td>\n      <td>...</td>\n      <td>...</td>\n      <td>...</td>\n      <td>...</td>\n      <td>...</td>\n      <td>...</td>\n      <td>...</td>\n      <td>...</td>\n      <td>...</td>\n      <td>...</td>\n      <td>...</td>\n      <td>...</td>\n      <td>...</td>\n    </tr>\n    <tr>\n      <th>2021-03-16 15:30:00-04:00</th>\n      <td>279.130005</td>\n      <td>2298570</td>\n      <td>61.112552</td>\n      <td>2.479560</td>\n      <td>2.147980</td>\n      <td>66.828247</td>\n      <td>6.966606e+09</td>\n      <td>2.034025</td>\n      <td>4.620005</td>\n      <td>50.293475</td>\n      <td>...</td>\n      <td>95.578232</td>\n      <td>0.728547</td>\n      <td>1.173829</td>\n      <td>-33.171753</td>\n      <td>118244540.0</td>\n      <td>1.034373</td>\n      <td>1.019769</td>\n      <td>1.002939</td>\n      <td>NaN</td>\n      <td>0</td>\n    </tr>\n    <tr>\n      <th>2021-03-16 16:00:00-04:00</th>\n      <td>279.185000</td>\n      <td>1176864</td>\n      <td>61.242096</td>\n      <td>2.383395</td>\n      <td>2.195063</td>\n      <td>67.434319</td>\n      <td>6.966840e+09</td>\n      <td>2.042597</td>\n      <td>4.425000</td>\n      <td>47.555953</td>\n      <td>...</td>\n      <td>67.867664</td>\n      <td>0.791931</td>\n      <td>1.175197</td>\n      <td>-32.565681</td>\n      <td>119421404.0</td>\n      <td>1.033876</td>\n      <td>1.019045</td>\n      <td>1.002613</td>\n      <td>NaN</td>\n      <td>0</td>\n    </tr>\n    <tr>\n      <th>2021-03-16 17:00:00-04:00</th>\n      <td>281.125000</td>\n      <td>0</td>\n      <td>65.596027</td>\n      <td>2.435648</td>\n      <td>2.243180</td>\n      <td>88.814051</td>\n      <td>6.966840e+09</td>\n      <td>2.122597</td>\n      <td>6.005000</td>\n      <td>47.555953</td>\n      <td>...</td>\n      <td>89.948421</td>\n      <td>0.759392</td>\n      <td>1.180036</td>\n      <td>-11.185949</td>\n      <td>119421404.0</td>\n      <td>1.040223</td>\n      <td>1.024909</td>\n      <td>1.007970</td>\n      <td>NaN</td>\n      <td>0</td>\n    </tr>\n    <tr>\n      <th>2021-03-16 18:00:00-04:00</th>\n      <td>280.800000</td>\n      <td>0</td>\n      <td>64.293006</td>\n      <td>2.422905</td>\n      <td>2.279125</td>\n      <td>85.232395</td>\n      <td>6.966840e+09</td>\n      <td>2.231168</td>\n      <td>5.800000</td>\n      <td>47.555953</td>\n      <td>...</td>\n      <td>79.044431</td>\n      <td>0.774301</td>\n      <td>1.176397</td>\n      <td>-14.767605</td>\n      <td>119421404.0</td>\n      <td>1.038226</td>\n      <td>1.022622</td>\n      <td>1.005665</td>\n      <td>NaN</td>\n      <td>0</td>\n    </tr>\n    <tr>\n      <th>2021-03-16 19:00:00-04:00</th>\n      <td>280.950000</td>\n      <td>0</td>\n      <td>64.642109</td>\n      <td>2.397276</td>\n      <td>2.302755</td>\n      <td>86.885467</td>\n      <td>6.966840e+09</td>\n      <td>2.223311</td>\n      <td>1.059985</td>\n      <td>47.555953</td>\n      <td>...</td>\n      <td>83.816762</td>\n      <td>0.790852</td>\n      <td>1.212682</td>\n      <td>-13.114533</td>\n      <td>119421404.0</td>\n      <td>1.037991</td>\n      <td>1.022092</td>\n      <td>1.005163</td>\n      <td>NaN</td>\n      <td>0</td>\n    </tr>\n  </tbody>\n</table>\n<p>4131 rows × 21 columns</p>\n</div>"
     },
     "execution_count": 174,
     "metadata": {},
     "output_type": "execute_result"
    }
   ],
   "source": [
    "data['class_column'] = data.apply(create_class_column, axis=1)\n",
    "data"
   ],
   "metadata": {
    "collapsed": false,
    "pycharm": {
     "name": "#%%\n"
    }
   }
  },
  {
   "cell_type": "code",
   "execution_count": 175,
   "outputs": [
    {
     "data": {
      "text/plain": " 1    1585\n-1    1348\n 0    1198\nName: class_column, dtype: int64"
     },
     "execution_count": 175,
     "metadata": {},
     "output_type": "execute_result"
    }
   ],
   "source": [
    "# Class divide\n",
    "data['class_column'].value_counts()"
   ],
   "metadata": {
    "collapsed": false,
    "pycharm": {
     "name": "#%%\n"
    }
   }
  },
  {
   "cell_type": "code",
   "execution_count": 176,
   "outputs": [],
   "source": [
    "del (data['close'])\n",
    "del (data['close_shift'])\n",
    "data = data.dropna()\n",
    "train_set = data.iloc[:-ROWS_TO_PREDICT]\n",
    "test_set =data.iloc[-ROWS_TO_PREDICT:]"
   ],
   "metadata": {
    "collapsed": false,
    "pycharm": {
     "name": "#%%\n"
    }
   }
  },
  {
   "cell_type": "code",
   "execution_count": 177,
   "outputs": [
    {
     "data": {
      "text/plain": " 1    1562\n-1    1303\n 0    1163\nName: class_column, dtype: int64"
     },
     "execution_count": 177,
     "metadata": {},
     "output_type": "execute_result"
    }
   ],
   "source": [
    "data['class_column'].value_counts()"
   ],
   "metadata": {
    "collapsed": false,
    "pycharm": {
     "name": "#%%\n"
    }
   }
  },
  {
   "cell_type": "code",
   "execution_count": 178,
   "outputs": [
    {
     "data": {
      "text/plain": "                           volume  14 period RSI      MACD    SIGNAL  \\\nDatetime                                                               \n2020-03-17 17:00:00-04:00       0      38.332583 -0.365993 -0.263845   \n2020-03-17 18:00:00-04:00       0      38.079794 -0.425936 -0.297202   \n2020-03-17 19:00:00-04:00       0      32.498589 -0.630977 -0.365495   \n2020-03-18 04:00:00-04:00       0      27.136495 -0.990216 -0.492732   \n2020-03-18 05:00:00-04:00       0      28.659175 -1.228591 -0.642055   \n...                           ...            ...       ...       ...   \n2021-03-12 16:00:00-05:00       0      48.034488 -0.552934 -0.210354   \n2021-03-12 17:00:00-05:00       0      48.684626 -0.500503 -0.268384   \n2021-03-12 18:00:00-05:00       0      48.581276 -0.456113 -0.305930   \n2021-03-15 04:00:00-04:00       0      47.389542 -0.442463 -0.333236   \n2021-03-15 05:00:00-04:00       0      50.778268 -0.358121 -0.338213   \n\n                           14 period STOCH %K           MFV  14 period ATR  \\\nDatetime                                                                     \n2020-03-17 17:00:00-04:00           47.364910  1.079931e+08       4.349794   \n2020-03-17 18:00:00-04:00           50.143463  1.079931e+08       4.034794   \n2020-03-17 19:00:00-04:00           31.061688  1.079931e+08       3.952651   \n2020-03-18 04:00:00-04:00           18.820574  1.079931e+08       4.161937   \n2020-03-18 05:00:00-04:00           21.329984  1.079931e+08       3.905508   \n...                                       ...           ...            ...   \n2021-03-12 16:00:00-05:00           53.759699  6.914330e+09       3.245255   \n2021-03-12 17:00:00-05:00           55.322983  6.914330e+09       2.883826   \n2021-03-12 18:00:00-05:00           55.076148  6.914330e+09       2.974319   \n2021-03-15 04:00:00-04:00           52.360971  6.914330e+09       3.115033   \n2021-03-15 05:00:00-04:00           59.436889  6.914330e+09       3.018605   \n\n                                 MOM  14 period MFI       ROC  20 period CCI  \\\nDatetime                                                                       \n2020-03-17 17:00:00-04:00  -2.400000      51.283270 -1.009421     -60.815516   \n2020-03-17 18:00:00-04:00  -3.500000      51.283270 -2.655629     -82.383013   \n2020-03-17 19:00:00-04:00  -2.272707      51.283270 -3.458194    -149.181923   \n2020-03-18 04:00:00-04:00  -9.000000      51.283270 -6.306067    -285.903113   \n2020-03-18 05:00:00-04:00 -10.019998      51.283270 -3.548848    -198.374119   \n...                              ...            ...       ...            ...   \n2021-03-12 16:00:00-05:00  -2.170000      44.742482 -0.134018     -49.958522   \n2021-03-12 17:00:00-05:00  -2.560000      44.742482 -0.037237     -34.391840   \n2021-03-12 18:00:00-05:00  -0.870000      44.742482 -0.743261     -51.767559   \n2021-03-15 04:00:00-04:00   3.320011      44.742482 -1.077451     -56.628164   \n2021-03-15 05:00:00-04:00   3.425006      44.742482 -0.126258      -1.787618   \n\n                                VIm       VIp  14 Williams %R          OBV  \\\nDatetime                                                                     \n2020-03-17 17:00:00-04:00  1.092615  0.894412      -52.635090     533917.0   \n2020-03-17 18:00:00-04:00  1.107458  0.937862      -49.856537     533917.0   \n2020-03-17 19:00:00-04:00  1.034516  0.953377      -68.938312     533917.0   \n2020-03-18 04:00:00-04:00  1.131635  0.851203      -81.179426     533917.0   \n2020-03-18 05:00:00-04:00  1.140278  0.925380      -78.670016     533917.0   \n...                             ...       ...             ...          ...   \n2021-03-12 16:00:00-05:00  0.945415  0.770348      -46.240301  105250695.0   \n2021-03-12 17:00:00-05:00  1.061674  0.977460      -44.677017  105250695.0   \n2021-03-12 18:00:00-05:00  1.026897  0.929710      -44.923852  105250695.0   \n2021-03-15 04:00:00-04:00  1.023618  0.918827      -47.639029  105250695.0   \n2021-03-15 05:00:00-04:00  1.044959  0.980597      -40.563111  105250695.0   \n\n                              ema50     ema21      ema5  class_column  \nDatetime                                                               \n2020-03-17 17:00:00-04:00  0.985550  0.986446  0.990189            -1  \n2020-03-17 18:00:00-04:00  0.985894  0.986930  0.991291            -1  \n2020-03-17 19:00:00-04:00  0.970179  0.971569  0.977901            -1  \n2020-03-18 04:00:00-04:00  0.951042  0.953037  0.962785             1  \n2020-03-18 05:00:00-04:00  0.956507  0.959028  0.971279            -1  \n...                             ...       ...       ...           ...  \n2021-03-12 16:00:00-05:00  1.009054  0.999833  1.000173             0  \n2021-03-12 17:00:00-05:00  1.009575  1.000516  1.000735             1  \n2021-03-12 18:00:00-05:00  1.009275  1.000386  1.000519             1  \n2021-03-15 04:00:00-04:00  1.007876  0.999195  0.999407             1  \n2021-03-15 05:00:00-04:00  1.010889  1.002291  1.002177             1  \n\n[3996 rows x 19 columns]",
      "text/html": "<div>\n<style scoped>\n    .dataframe tbody tr th:only-of-type {\n        vertical-align: middle;\n    }\n\n    .dataframe tbody tr th {\n        vertical-align: top;\n    }\n\n    .dataframe thead th {\n        text-align: right;\n    }\n</style>\n<table border=\"1\" class=\"dataframe\">\n  <thead>\n    <tr style=\"text-align: right;\">\n      <th></th>\n      <th>volume</th>\n      <th>14 period RSI</th>\n      <th>MACD</th>\n      <th>SIGNAL</th>\n      <th>14 period STOCH %K</th>\n      <th>MFV</th>\n      <th>14 period ATR</th>\n      <th>MOM</th>\n      <th>14 period MFI</th>\n      <th>ROC</th>\n      <th>20 period CCI</th>\n      <th>VIm</th>\n      <th>VIp</th>\n      <th>14 Williams %R</th>\n      <th>OBV</th>\n      <th>ema50</th>\n      <th>ema21</th>\n      <th>ema5</th>\n      <th>class_column</th>\n    </tr>\n    <tr>\n      <th>Datetime</th>\n      <th></th>\n      <th></th>\n      <th></th>\n      <th></th>\n      <th></th>\n      <th></th>\n      <th></th>\n      <th></th>\n      <th></th>\n      <th></th>\n      <th></th>\n      <th></th>\n      <th></th>\n      <th></th>\n      <th></th>\n      <th></th>\n      <th></th>\n      <th></th>\n      <th></th>\n    </tr>\n  </thead>\n  <tbody>\n    <tr>\n      <th>2020-03-17 17:00:00-04:00</th>\n      <td>0</td>\n      <td>38.332583</td>\n      <td>-0.365993</td>\n      <td>-0.263845</td>\n      <td>47.364910</td>\n      <td>1.079931e+08</td>\n      <td>4.349794</td>\n      <td>-2.400000</td>\n      <td>51.283270</td>\n      <td>-1.009421</td>\n      <td>-60.815516</td>\n      <td>1.092615</td>\n      <td>0.894412</td>\n      <td>-52.635090</td>\n      <td>533917.0</td>\n      <td>0.985550</td>\n      <td>0.986446</td>\n      <td>0.990189</td>\n      <td>-1</td>\n    </tr>\n    <tr>\n      <th>2020-03-17 18:00:00-04:00</th>\n      <td>0</td>\n      <td>38.079794</td>\n      <td>-0.425936</td>\n      <td>-0.297202</td>\n      <td>50.143463</td>\n      <td>1.079931e+08</td>\n      <td>4.034794</td>\n      <td>-3.500000</td>\n      <td>51.283270</td>\n      <td>-2.655629</td>\n      <td>-82.383013</td>\n      <td>1.107458</td>\n      <td>0.937862</td>\n      <td>-49.856537</td>\n      <td>533917.0</td>\n      <td>0.985894</td>\n      <td>0.986930</td>\n      <td>0.991291</td>\n      <td>-1</td>\n    </tr>\n    <tr>\n      <th>2020-03-17 19:00:00-04:00</th>\n      <td>0</td>\n      <td>32.498589</td>\n      <td>-0.630977</td>\n      <td>-0.365495</td>\n      <td>31.061688</td>\n      <td>1.079931e+08</td>\n      <td>3.952651</td>\n      <td>-2.272707</td>\n      <td>51.283270</td>\n      <td>-3.458194</td>\n      <td>-149.181923</td>\n      <td>1.034516</td>\n      <td>0.953377</td>\n      <td>-68.938312</td>\n      <td>533917.0</td>\n      <td>0.970179</td>\n      <td>0.971569</td>\n      <td>0.977901</td>\n      <td>-1</td>\n    </tr>\n    <tr>\n      <th>2020-03-18 04:00:00-04:00</th>\n      <td>0</td>\n      <td>27.136495</td>\n      <td>-0.990216</td>\n      <td>-0.492732</td>\n      <td>18.820574</td>\n      <td>1.079931e+08</td>\n      <td>4.161937</td>\n      <td>-9.000000</td>\n      <td>51.283270</td>\n      <td>-6.306067</td>\n      <td>-285.903113</td>\n      <td>1.131635</td>\n      <td>0.851203</td>\n      <td>-81.179426</td>\n      <td>533917.0</td>\n      <td>0.951042</td>\n      <td>0.953037</td>\n      <td>0.962785</td>\n      <td>1</td>\n    </tr>\n    <tr>\n      <th>2020-03-18 05:00:00-04:00</th>\n      <td>0</td>\n      <td>28.659175</td>\n      <td>-1.228591</td>\n      <td>-0.642055</td>\n      <td>21.329984</td>\n      <td>1.079931e+08</td>\n      <td>3.905508</td>\n      <td>-10.019998</td>\n      <td>51.283270</td>\n      <td>-3.548848</td>\n      <td>-198.374119</td>\n      <td>1.140278</td>\n      <td>0.925380</td>\n      <td>-78.670016</td>\n      <td>533917.0</td>\n      <td>0.956507</td>\n      <td>0.959028</td>\n      <td>0.971279</td>\n      <td>-1</td>\n    </tr>\n    <tr>\n      <th>...</th>\n      <td>...</td>\n      <td>...</td>\n      <td>...</td>\n      <td>...</td>\n      <td>...</td>\n      <td>...</td>\n      <td>...</td>\n      <td>...</td>\n      <td>...</td>\n      <td>...</td>\n      <td>...</td>\n      <td>...</td>\n      <td>...</td>\n      <td>...</td>\n      <td>...</td>\n      <td>...</td>\n      <td>...</td>\n      <td>...</td>\n      <td>...</td>\n    </tr>\n    <tr>\n      <th>2021-03-12 16:00:00-05:00</th>\n      <td>0</td>\n      <td>48.034488</td>\n      <td>-0.552934</td>\n      <td>-0.210354</td>\n      <td>53.759699</td>\n      <td>6.914330e+09</td>\n      <td>3.245255</td>\n      <td>-2.170000</td>\n      <td>44.742482</td>\n      <td>-0.134018</td>\n      <td>-49.958522</td>\n      <td>0.945415</td>\n      <td>0.770348</td>\n      <td>-46.240301</td>\n      <td>105250695.0</td>\n      <td>1.009054</td>\n      <td>0.999833</td>\n      <td>1.000173</td>\n      <td>0</td>\n    </tr>\n    <tr>\n      <th>2021-03-12 17:00:00-05:00</th>\n      <td>0</td>\n      <td>48.684626</td>\n      <td>-0.500503</td>\n      <td>-0.268384</td>\n      <td>55.322983</td>\n      <td>6.914330e+09</td>\n      <td>2.883826</td>\n      <td>-2.560000</td>\n      <td>44.742482</td>\n      <td>-0.037237</td>\n      <td>-34.391840</td>\n      <td>1.061674</td>\n      <td>0.977460</td>\n      <td>-44.677017</td>\n      <td>105250695.0</td>\n      <td>1.009575</td>\n      <td>1.000516</td>\n      <td>1.000735</td>\n      <td>1</td>\n    </tr>\n    <tr>\n      <th>2021-03-12 18:00:00-05:00</th>\n      <td>0</td>\n      <td>48.581276</td>\n      <td>-0.456113</td>\n      <td>-0.305930</td>\n      <td>55.076148</td>\n      <td>6.914330e+09</td>\n      <td>2.974319</td>\n      <td>-0.870000</td>\n      <td>44.742482</td>\n      <td>-0.743261</td>\n      <td>-51.767559</td>\n      <td>1.026897</td>\n      <td>0.929710</td>\n      <td>-44.923852</td>\n      <td>105250695.0</td>\n      <td>1.009275</td>\n      <td>1.000386</td>\n      <td>1.000519</td>\n      <td>1</td>\n    </tr>\n    <tr>\n      <th>2021-03-15 04:00:00-04:00</th>\n      <td>0</td>\n      <td>47.389542</td>\n      <td>-0.442463</td>\n      <td>-0.333236</td>\n      <td>52.360971</td>\n      <td>6.914330e+09</td>\n      <td>3.115033</td>\n      <td>3.320011</td>\n      <td>44.742482</td>\n      <td>-1.077451</td>\n      <td>-56.628164</td>\n      <td>1.023618</td>\n      <td>0.918827</td>\n      <td>-47.639029</td>\n      <td>105250695.0</td>\n      <td>1.007876</td>\n      <td>0.999195</td>\n      <td>0.999407</td>\n      <td>1</td>\n    </tr>\n    <tr>\n      <th>2021-03-15 05:00:00-04:00</th>\n      <td>0</td>\n      <td>50.778268</td>\n      <td>-0.358121</td>\n      <td>-0.338213</td>\n      <td>59.436889</td>\n      <td>6.914330e+09</td>\n      <td>3.018605</td>\n      <td>3.425006</td>\n      <td>44.742482</td>\n      <td>-0.126258</td>\n      <td>-1.787618</td>\n      <td>1.044959</td>\n      <td>0.980597</td>\n      <td>-40.563111</td>\n      <td>105250695.0</td>\n      <td>1.010889</td>\n      <td>1.002291</td>\n      <td>1.002177</td>\n      <td>1</td>\n    </tr>\n  </tbody>\n</table>\n<p>3996 rows × 19 columns</p>\n</div>"
     },
     "execution_count": 178,
     "metadata": {},
     "output_type": "execute_result"
    }
   ],
   "source": [
    "train_set"
   ],
   "metadata": {
    "collapsed": false,
    "pycharm": {
     "name": "#%%\n"
    }
   }
  },
  {
   "cell_type": "code",
   "execution_count": 179,
   "outputs": [],
   "source": [
    "y = data['class_column']\n",
    "features = [x for x in data.columns if x not in ['class_column']]\n",
    "x = data[features]\n",
    "scaler = MinMaxScaler()\n",
    "# x = pd.DataFrame(scaler.fit_transform(x.values), columns=x.columns, index=x.index)\n",
    "x_train= x.iloc[:-ROWS_TO_PREDICT]\n",
    "y_train= y.iloc[:-ROWS_TO_PREDICT]\n",
    "x_test =x.iloc[-ROWS_TO_PREDICT:]\n",
    "y_test=y.iloc[-ROWS_TO_PREDICT:]"
   ],
   "metadata": {
    "collapsed": false,
    "pycharm": {
     "name": "#%%\n"
    }
   }
  },
  {
   "cell_type": "code",
   "execution_count": 180,
   "outputs": [],
   "source": [
    "classifiers = dict()\n",
    "\n",
    "classifiers['DecisionTreeClassifier 1'] = DecisionTreeClassifier(max_depth=10, random_state=0,criterion='gini',splitter='best')\n",
    "classifiers['DecisionTreeClassifier 2'] = DecisionTreeClassifier(max_depth=10, random_state=0,criterion='gini',splitter='random')\n",
    "classifiers['DecisionTreeClassifier 3'] = DecisionTreeClassifier(max_depth=10, random_state=0,criterion='entropy',splitter='best')\n",
    "# classifiers['DecisionTreeClassifier 4'] = DecisionTreeClassifier(max_depth=10, random_state=0,criterion='entropy',splitter='random')\n",
    "# classifiers['DecisionTreeClassifier 5'] = DecisionTreeClassifier(random_state=0,criterion='gini',splitter='best')\n",
    "# classifiers['DecisionTreeClassifier 6'] = DecisionTreeClassifier(random_state=0,criterion='gini',splitter='random')\n",
    "# classifiers['DecisionTreeClassifier 7'] = DecisionTreeClassifier(random_state=0,criterion='entropy',splitter='best')\n",
    "# classifiers['DecisionTreeClassifier 8'] = DecisionTreeClassifier(random_state=0,criterion='entropy',splitter='random')\n",
    "#\n",
    "# classifiers['RandomForestClassifier 1'] = RandomForestClassifier(n_estimators=100, max_depth=2, random_state=0,criterion='gini')\n",
    "# classifiers['RandomForestClassifier 2'] = RandomForestClassifier(n_estimators=1000, max_depth=2, random_state=0,criterion='gini')\n",
    "# classifiers['RandomForestClassifier 3'] = RandomForestClassifier(n_estimators=100, max_depth=3, random_state=0,criterion='gini')\n",
    "classifiers['RandomForestClassifier 4'] = RandomForestClassifier(n_estimators=1000, max_depth=3, random_state=0,criterion='gini', n_jobs = -1)\n",
    "classifiers['RandomForestClassifier 5'] = RandomForestClassifier(n_estimators=100, max_depth=2, random_state=0,criterion='entropy', n_jobs = -1)\n",
    "# classifiers['RandomForestClassifier 6'] = RandomForestClassifier(n_estimators=1000, max_depth=2, random_state=0,criterion='entropy')\n",
    "# classifiers['RandomForestClassifier 7'] = RandomForestClassifier(n_estimators=100, max_depth=3, random_state=0,criterion='entropy')\n",
    "classifiers['RandomForestClassifier 8'] = RandomForestClassifier(n_estimators=1000, max_depth=3, random_state=0,criterion='entropy', n_jobs = -1)\n",
    "\n",
    "classifiers['GradientBoostingClassifier 1'] = GradientBoostingClassifier(n_estimators=100,random_state=0,criterion='friedman_mse',max_depth=3, learning_rate=0.1)\n",
    "# classifiers['GradientBoostingClassifier 2'] = GradientBoostingClassifier(n_estimators=100,random_state=0,criterion='friedman_mse',max_depth=3, learning_rate=0.3)\n",
    "# classifiers['GradientBoostingClassifier 3'] = GradientBoostingClassifier(n_estimators=100,random_state=0,criterion='friedman_mse',max_depth=3, learning_rate=0.5)\n",
    "# classifiers['GradientBoostingClassifier 4'] = GradientBoostingClassifier(n_estimators=100,random_state=0,criterion='friedman_mse',max_depth=3, learning_rate=1)\n",
    "# #\n",
    "classifiers['GradientBoostingClassifier 5'] = GradientBoostingClassifier(n_estimators=1000,random_state=0,criterion='friedman_mse',max_depth=3, learning_rate=0.1)\n",
    "# classifiers['GradientBoostingClassifier 6'] = GradientBoostingClassifier(n_estimators=1000,random_state=0,criterion='friedman_mse',max_depth=3, learning_rate=0.3)\n",
    "classifiers['GradientBoostingClassifier 7'] = GradientBoostingClassifier(n_estimators=1000,random_state=0,criterion='friedman_mse',max_depth=3, learning_rate=0.5)\n",
    "# classifiers['GradientBoostingClassifier 8'] = GradientBoostingClassifier(n_estimators=1000,random_state=0,criterion='friedman_mse',max_depth=3, learning_rate=1)\n",
    "\n",
    "classifiers['GradientBoostingClassifier 9'] = GradientBoostingClassifier(n_estimators=1000,random_state=0,criterion='friedman_mse',max_depth=2, learning_rate=0.1)\n",
    "classifiers['GradientBoostingClassifier 10'] = GradientBoostingClassifier(n_estimators=1000,random_state=0,criterion='friedman_mse',max_depth=2, learning_rate=0.3)\n",
    "# classifiers['GradientBoostingClassifier 11'] = GradientBoostingClassifier(n_estimators=1000,random_state=0,criterion='friedman_mse',max_depth=2, learning_rate=0.5)\n",
    "# classifiers['GradientBoostingClassifier 12'] = GradientBoostingClassifier(n_estimators=1000,random_state=0,criterion='friedman_mse',max_depth=2, learning_rate=1)"
   ],
   "metadata": {
    "collapsed": false,
    "pycharm": {
     "name": "#%%\n"
    }
   }
  },
  {
   "cell_type": "code",
   "execution_count": 181,
   "outputs": [],
   "source": [
    "def print_conf_matrix(test_y, predict, name):\n",
    "    matrix = confusion_matrix(test_y, predict,  labels=[-1, 0, 1])\n",
    "    print(matrix)\n",
    "    ax= plt.subplot()\n",
    "    sn.heatmap(matrix, annot=True, ax = ax) #annot=True to annotate cells\n",
    "\n",
    "    # labels, title and ticks\n",
    "    ax.set_xlabel('Predicted labels', color='white')\n",
    "    ax.set_ylabel('True labels', color='white')\n",
    "    ax.set_title(f'Confusion Matrix for {name}' , color='white')\n",
    "    ax.xaxis.set_ticklabels(['-1','0', '1'], color='white')\n",
    "    ax.yaxis.set_ticklabels(['-1','0', '1'], color='white')\n",
    "    plt.show()\n",
    "\n",
    "def train_model(model,train_x, train_y):\n",
    "    model.fit(train_x, train_y)"
   ],
   "metadata": {
    "collapsed": false,
    "pycharm": {
     "name": "#%%\n"
    }
   }
  },
  {
   "cell_type": "code",
   "execution_count": 182,
   "outputs": [
    {
     "name": "stdout",
     "output_type": "stream",
     "text": [
      "Calculate:  DecisionTreeClassifier 1\n",
      "Score:  0.5\n",
      "Calculate:  DecisionTreeClassifier 2\n",
      "Score:  0.0625\n",
      "Calculate:  DecisionTreeClassifier 3\n",
      "Score:  0.5625\n",
      "Calculate:  RandomForestClassifier 4\n",
      "Score:  0.59375\n",
      "Calculate:  RandomForestClassifier 5\n",
      "Score:  0.59375\n",
      "Calculate:  RandomForestClassifier 8\n",
      "Score:  0.59375\n",
      "Calculate:  GradientBoostingClassifier 1\n",
      "Score:  0.375\n",
      "Calculate:  GradientBoostingClassifier 5\n",
      "Score:  0.3125\n",
      "Calculate:  GradientBoostingClassifier 7\n",
      "Score:  0.3125\n",
      "Calculate:  GradientBoostingClassifier 9\n",
      "Score:  0.40625\n",
      "Calculate:  GradientBoostingClassifier 10\n",
      "Score:  0.21875\n",
      "+----+-------------------------------+------------+\n",
      "|    | Classifier type               |   Accuracy |\n",
      "|----+-------------------------------+------------|\n",
      "|  0 | DecisionTreeClassifier 1      |    0.5     |\n",
      "|  1 | DecisionTreeClassifier 2      |    0.0625  |\n",
      "|  2 | DecisionTreeClassifier 3      |    0.5625  |\n",
      "|  3 | RandomForestClassifier 4      |    0.59375 |\n",
      "|  4 | RandomForestClassifier 5      |    0.59375 |\n",
      "|  5 | RandomForestClassifier 8      |    0.59375 |\n",
      "|  6 | GradientBoostingClassifier 1  |    0.375   |\n",
      "|  7 | GradientBoostingClassifier 5  |    0.3125  |\n",
      "|  8 | GradientBoostingClassifier 7  |    0.3125  |\n",
      "|  9 | GradientBoostingClassifier 9  |    0.40625 |\n",
      "| 10 | GradientBoostingClassifier 10 |    0.21875 |\n",
      "+----+-------------------------------+------------+\n"
     ]
    }
   ],
   "source": [
    "predictions= dict()\n",
    "score = dict()\n",
    "for k,v in classifiers.items():\n",
    "    print(\"Calculate: \", k)\n",
    "    train_model(v,x_train,y_train)\n",
    "    predictions[k] = v.predict(x_test)\n",
    "    score[k] = accuracy_score(y_test.values, predictions[k])\n",
    "    print('Score: ',  score[k] )\n",
    "    # print_conf_matrix(test_y, predictions[k], k)\n",
    "\n",
    "headers = [\"Classifier type\", \"Accuracy\"]\n",
    "score_df = pd.DataFrame(score.items(), columns=headers)\n",
    "print(tabulate(score_df, headers, tablefmt=\"psql\"))"
   ],
   "metadata": {
    "collapsed": false,
    "pycharm": {
     "name": "#%%\n"
    }
   }
  },
  {
   "cell_type": "code",
   "execution_count": 183,
   "outputs": [
    {
     "name": "stdout",
     "output_type": "stream",
     "text": [
      "Score:  0.40625\n"
     ]
    }
   ],
   "source": [
    "estimators=[\n",
    "            ('GBC12', classifiers['RandomForestClassifier 8']),\n",
    "            ('GBC11', classifiers['GradientBoostingClassifier 9']),\n",
    "            ]\n",
    "ensemble = VotingClassifier(estimators, voting='soft')\n",
    "ensemble.fit(x_train, y_train)\n",
    "predicted = ensemble.predict(x_test)\n",
    "score_ensemble = accuracy_score(y_test.values, predicted)\n",
    "print('Score: ',  score_ensemble)"
   ],
   "metadata": {
    "collapsed": false,
    "pycharm": {
     "name": "#%%\n"
    }
   }
  },
  {
   "cell_type": "code",
   "execution_count": 184,
   "outputs": [
    {
     "name": "stdout",
     "output_type": "stream",
     "text": [
      "Score:  0.40625\n"
     ]
    }
   ],
   "source": [
    "print('Score: ',  score_ensemble)"
   ],
   "metadata": {
    "collapsed": false,
    "pycharm": {
     "name": "#%%\n"
    }
   }
  },
  {
   "cell_type": "code",
   "execution_count": 185,
   "outputs": [
    {
     "data": {
      "text/plain": "<AxesSubplot:>"
     },
     "execution_count": 185,
     "metadata": {},
     "output_type": "execute_result"
    },
    {
     "data": {
      "text/plain": "<Figure size 432x288 with 1 Axes>",
      "image/png": "[encoded data removed]"
     },
     "metadata": {
      "needs_background": "light"
     },
     "output_type": "display_data"
    }
   ],
   "source": [
    "\n",
    "pd.Series(classifiers['GradientBoostingClassifier 9'].feature_importances_).plot()"
   ],
   "metadata": {
    "collapsed": false,
    "pycharm": {
     "name": "#%%\n"
    }
   }
  },
  {
   "cell_type": "code",
   "execution_count": 186,
   "outputs": [
    {
     "data": {
      "text/plain": "array([0.02152995, 0.04605542, 0.03663401, 0.05515647, 0.02055789,\n       0.20891526, 0.08571015, 0.03279448, 0.06754051, 0.02847903,\n       0.03109815, 0.03447251, 0.03999487, 0.01978169, 0.14260268,\n       0.07148809, 0.03498983, 0.02219902])"
     },
     "execution_count": 186,
     "metadata": {},
     "output_type": "execute_result"
    }
   ],
   "source": [
    "classifiers['GradientBoostingClassifier 9'].feature_importances_"
   ],
   "metadata": {
    "collapsed": false,
    "pycharm": {
     "name": "#%%\n"
    }
   }
  },
  {
   "cell_type": "code",
   "execution_count": 187,
   "outputs": [
    {
     "data": {
      "text/plain": "Index(['volume', '14 period RSI', 'MACD', 'SIGNAL', '14 period STOCH %K',\n       'MFV', '14 period ATR', 'MOM', '14 period MFI', 'ROC', '20 period CCI',\n       'VIm', 'VIp', '14 Williams %R', 'OBV', 'ema50', 'ema21', 'ema5'],\n      dtype='object')"
     },
     "execution_count": 187,
     "metadata": {},
     "output_type": "execute_result"
    }
   ],
   "source": [
    "x_test.columns\n",
    "\n"
   ],
   "metadata": {
    "collapsed": false,
    "pycharm": {
     "name": "#%%\n"
    }
   }
  },
  {
   "cell_type": "code",
   "execution_count": 188,
   "outputs": [
    {
     "name": "stdout",
     "output_type": "stream",
     "text": [
      "<class 'pandas.core.frame.DataFrame'>\n",
      "DatetimeIndex: 32 entries, 2021-03-15 06:00:00-04:00 to 2021-03-16 19:00:00-04:00\n",
      "Data columns (total 18 columns):\n",
      " #   Column              Non-Null Count  Dtype  \n",
      "---  ------              --------------  -----  \n",
      " 0   volume              32 non-null     int64  \n",
      " 1   14 period RSI       32 non-null     float64\n",
      " 2   MACD                32 non-null     float64\n",
      " 3   SIGNAL              32 non-null     float64\n",
      " 4   14 period STOCH %K  32 non-null     float64\n",
      " 5   MFV                 32 non-null     float64\n",
      " 6   14 period ATR       32 non-null     float64\n",
      " 7   MOM                 32 non-null     float64\n",
      " 8   14 period MFI       32 non-null     float64\n",
      " 9   ROC                 32 non-null     float64\n",
      " 10  20 period CCI       32 non-null     float64\n",
      " 11  VIm                 32 non-null     float64\n",
      " 12  VIp                 32 non-null     float64\n",
      " 13  14 Williams %R      32 non-null     float64\n",
      " 14  OBV                 32 non-null     float64\n",
      " 15  ema50               32 non-null     float64\n",
      " 16  ema21               32 non-null     float64\n",
      " 17  ema5                32 non-null     float64\n",
      "dtypes: float64(17), int64(1)\n",
      "memory usage: 4.8 KB\n"
     ]
    }
   ],
   "source": [
    "x_test.info()\n"
   ],
   "metadata": {
    "collapsed": false,
    "pycharm": {
     "name": "#%%\n"
    }
   }
  },
  {
   "cell_type": "code",
   "execution_count": 188,
   "outputs": [],
   "source": [],
   "metadata": {
    "collapsed": false,
    "pycharm": {
     "name": "#%%\n"
    }
   }
  }
 ],
 "metadata": {
  "kernelspec": {
   "name": "magisterka_analiza",
   "language": "python",
   "display_name": "Python magisterka"
  },
  "language_info": {
   "codemirror_mode": {
    "name": "ipython",
    "version": 2
   },
   "file_extension": ".py",
   "mimetype": "text/x-python",
   "name": "python",
   "nbconvert_exporter": "python",
   "pygments_lexer": "ipython2",
   "version": "2.7.6"
  }
 },
 "nbformat": 4,
 "nbformat_minor": 0
}