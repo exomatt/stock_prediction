{
 "cells": [
  {
   "cell_type": "code",
   "execution_count": 290,
   "outputs": [],
   "source": [
    "import yfinance as yf\n",
    "from datetime import datetime\n",
    "import pandas as pd\n",
    "import numpy as np\n",
    "import matplotlib.pyplot as plt\n",
    "from finta import TA\n",
    "import numpy as np\n",
    "from sklearn.ensemble import RandomForestClassifier, VotingClassifier\n",
    "from sklearn.model_selection import GridSearchCV, train_test_split\n",
    "from sklearn.tree import DecisionTreeClassifier\n",
    "from sklearn.ensemble import GradientBoostingClassifier\n",
    "from sklearn.metrics import confusion_matrix, classification_report, accuracy_score\n",
    "from sklearn.metrics import jaccard_score\n",
    "import seaborn as sn\n",
    "from tabulate import tabulate\n"
   ],
   "metadata": {
    "collapsed": false,
    "pycharm": {
     "name": "#%%\n"
    }
   }
  },
  {
   "cell_type": "code",
   "execution_count": 291,
   "outputs": [],
   "source": [
    "WINDOW = 8 # number of rows to look ahead to see what the price did\n",
    "FETCH_INTERVAL = \"60m\"  # fetch data by interval (including intraday if period < 60 days)\n",
    "        # valid intervals: 1m,2m,5m,15m,30m,60m,90m,1h,1d,5d,1wk,1mo,3mo\n",
    "        # (optional, default is '1d')\n",
    "INTERVAL = '1y'     # use \"period\" instead of start/end\n",
    "        # valid periods: 1d,5d,1mo,3mo,6mo,1y,2y,5y,10y,ytd,max\n",
    "        # (optional, default is '1mo')\n",
    "symbol = 'FB'      # Symbol of the desired stock\n",
    "INDICATORS = ['RSI', 'MACD', 'STOCH','ADL', 'ATR', 'MOM', 'MFI', 'ROC', 'CCI', 'VORTEX']\n",
    "ROWS_TO_PREDICT = 32\n",
    "# one day 16 rows of data"
   ],
   "metadata": {
    "collapsed": false,
    "pycharm": {
     "name": "#%%\n"
    }
   }
  },
  {
   "cell_type": "code",
   "execution_count": 292,
   "outputs": [
    {
     "name": "stdout",
     "output_type": "stream",
     "text": [
      "[*********************100%***********************]  1 of 1 completed\n"
     ]
    },
    {
     "data": {
      "text/plain": "                                 Open        High         Low       Close  \\\nDatetime                                                                    \n2020-02-10 04:00:00-05:00  212.250000  212.610000  212.200000  212.200000   \n2020-02-10 06:00:00-05:00  212.080000  212.610000  212.080000  212.300000   \n2020-02-10 07:00:00-05:00  212.030000  212.400000  212.030000  212.310000   \n2020-02-10 08:00:00-05:00  212.280000  212.400000  212.010100  212.101200   \n2020-02-10 09:00:00-05:00  212.200000  212.200000  211.500000  211.540000   \n...                               ...         ...         ...         ...   \n2021-02-09 08:00:00-05:00  265.794700  266.580000  265.610000  265.850000   \n2021-02-09 09:00:00-05:00  265.950000  266.720000  265.310000  266.410000   \n2021-02-09 09:30:00-05:00  266.440002  273.390015  265.750000  272.404999   \n2021-02-09 10:30:00-05:00  272.434509  273.174988  270.850006  270.950012   \n2021-02-09 11:17:47-05:00  270.769989  270.769989  270.769989  270.769989   \n\n                            Adj Close   Volume  \nDatetime                                        \n2020-02-10 04:00:00-05:00  212.200000        0  \n2020-02-10 06:00:00-05:00  212.300000        0  \n2020-02-10 07:00:00-05:00  212.310000        0  \n2020-02-10 08:00:00-05:00  212.101200        0  \n2020-02-10 09:00:00-05:00  211.540000        0  \n...                               ...      ...  \n2021-02-09 08:00:00-05:00  265.850000        0  \n2021-02-09 09:00:00-05:00  266.410000        0  \n2021-02-09 09:30:00-05:00  272.404999  5668204  \n2021-02-09 10:30:00-05:00  270.950012  1746424  \n2021-02-09 11:17:47-05:00  270.769989        0  \n\n[4138 rows x 6 columns]",
      "text/html": "<div>\n<style scoped>\n    .dataframe tbody tr th:only-of-type {\n        vertical-align: middle;\n    }\n\n    .dataframe tbody tr th {\n        vertical-align: top;\n    }\n\n    .dataframe thead th {\n        text-align: right;\n    }\n</style>\n<table border=\"1\" class=\"dataframe\">\n  <thead>\n    <tr style=\"text-align: right;\">\n      <th></th>\n      <th>Open</th>\n      <th>High</th>\n      <th>Low</th>\n      <th>Close</th>\n      <th>Adj Close</th>\n      <th>Volume</th>\n    </tr>\n    <tr>\n      <th>Datetime</th>\n      <th></th>\n      <th></th>\n      <th></th>\n      <th></th>\n      <th></th>\n      <th></th>\n    </tr>\n  </thead>\n  <tbody>\n    <tr>\n      <th>2020-02-10 04:00:00-05:00</th>\n      <td>212.250000</td>\n      <td>212.610000</td>\n      <td>212.200000</td>\n      <td>212.200000</td>\n      <td>212.200000</td>\n      <td>0</td>\n    </tr>\n    <tr>\n      <th>2020-02-10 06:00:00-05:00</th>\n      <td>212.080000</td>\n      <td>212.610000</td>\n      <td>212.080000</td>\n      <td>212.300000</td>\n      <td>212.300000</td>\n      <td>0</td>\n    </tr>\n    <tr>\n      <th>2020-02-10 07:00:00-05:00</th>\n      <td>212.030000</td>\n      <td>212.400000</td>\n      <td>212.030000</td>\n      <td>212.310000</td>\n      <td>212.310000</td>\n      <td>0</td>\n    </tr>\n    <tr>\n      <th>2020-02-10 08:00:00-05:00</th>\n      <td>212.280000</td>\n      <td>212.400000</td>\n      <td>212.010100</td>\n      <td>212.101200</td>\n      <td>212.101200</td>\n      <td>0</td>\n    </tr>\n    <tr>\n      <th>2020-02-10 09:00:00-05:00</th>\n      <td>212.200000</td>\n      <td>212.200000</td>\n      <td>211.500000</td>\n      <td>211.540000</td>\n      <td>211.540000</td>\n      <td>0</td>\n    </tr>\n    <tr>\n      <th>...</th>\n      <td>...</td>\n      <td>...</td>\n      <td>...</td>\n      <td>...</td>\n      <td>...</td>\n      <td>...</td>\n    </tr>\n    <tr>\n      <th>2021-02-09 08:00:00-05:00</th>\n      <td>265.794700</td>\n      <td>266.580000</td>\n      <td>265.610000</td>\n      <td>265.850000</td>\n      <td>265.850000</td>\n      <td>0</td>\n    </tr>\n    <tr>\n      <th>2021-02-09 09:00:00-05:00</th>\n      <td>265.950000</td>\n      <td>266.720000</td>\n      <td>265.310000</td>\n      <td>266.410000</td>\n      <td>266.410000</td>\n      <td>0</td>\n    </tr>\n    <tr>\n      <th>2021-02-09 09:30:00-05:00</th>\n      <td>266.440002</td>\n      <td>273.390015</td>\n      <td>265.750000</td>\n      <td>272.404999</td>\n      <td>272.404999</td>\n      <td>5668204</td>\n    </tr>\n    <tr>\n      <th>2021-02-09 10:30:00-05:00</th>\n      <td>272.434509</td>\n      <td>273.174988</td>\n      <td>270.850006</td>\n      <td>270.950012</td>\n      <td>270.950012</td>\n      <td>1746424</td>\n    </tr>\n    <tr>\n      <th>2021-02-09 11:17:47-05:00</th>\n      <td>270.769989</td>\n      <td>270.769989</td>\n      <td>270.769989</td>\n      <td>270.769989</td>\n      <td>270.769989</td>\n      <td>0</td>\n    </tr>\n  </tbody>\n</table>\n<p>4138 rows × 6 columns</p>\n</div>"
     },
     "execution_count": 292,
     "metadata": {},
     "output_type": "execute_result"
    }
   ],
   "source": [
    "data = yf.download(  # or pdr.get_data_yahoo(...\n",
    "        tickers = symbol,\n",
    "\n",
    "\n",
    "        period = INTERVAL,\n",
    "\n",
    "        interval = FETCH_INTERVAL,\n",
    "\n",
    "        # group by ticker (to access via data['SPY'])\n",
    "        # (optional, default is 'column')\n",
    "        group_by = 'ticker',\n",
    "\n",
    "        # adjust all OHLC automatically\n",
    "        # (optional, default is False)\n",
    "        # auto_adjust = True,\n",
    "\n",
    "        # download pre/post regular market hours data\n",
    "        # (optional, default is False)\n",
    "        prepost = True,\n",
    "\n",
    "        # use threads for mass downloading? (True/False/Integer)\n",
    "        # (optional, default is True)\n",
    "        threads = True,\n",
    "\n",
    "        # proxy URL scheme use use when downloading?\n",
    "        # (optional, default is None)\n",
    "        proxy = None\n",
    "    )\n",
    "data"
   ],
   "metadata": {
    "collapsed": false,
    "pycharm": {
     "name": "#%%\n"
    }
   }
  },
  {
   "cell_type": "code",
   "execution_count": 293,
   "outputs": [
    {
     "data": {
      "text/plain": "                                 open        high         low       close  \\\nDatetime                                                                    \n2020-02-10 04:00:00-05:00  212.250000  212.610000  212.200000  212.200000   \n2020-02-10 06:00:00-05:00  212.080000  212.610000  212.080000  212.300000   \n2020-02-10 07:00:00-05:00  212.030000  212.400000  212.030000  212.310000   \n2020-02-10 08:00:00-05:00  212.280000  212.400000  212.010100  212.101200   \n2020-02-10 09:00:00-05:00  212.200000  212.200000  211.500000  211.540000   \n2020-02-10 09:30:00-05:00  211.520004  213.800003  210.914505  213.279999   \n2020-02-10 10:30:00-05:00  213.279999  213.779999  212.199997  212.500000   \n2020-02-10 11:30:00-05:00  212.490204  212.628998  211.800003  212.050003   \n2020-02-10 12:30:00-05:00  212.041107  212.619995  211.850006  212.360001   \n2020-02-10 13:30:00-05:00  212.380005  212.580002  211.949997  212.500000   \n\n                            Adj Close   volume  \nDatetime                                        \n2020-02-10 04:00:00-05:00  212.200000        0  \n2020-02-10 06:00:00-05:00  212.300000        0  \n2020-02-10 07:00:00-05:00  212.310000        0  \n2020-02-10 08:00:00-05:00  212.101200        0  \n2020-02-10 09:00:00-05:00  211.540000        0  \n2020-02-10 09:30:00-05:00  213.279999  2938100  \n2020-02-10 10:30:00-05:00  212.500000  1377017  \n2020-02-10 11:30:00-05:00  212.050003  1034574  \n2020-02-10 12:30:00-05:00  212.360001   664739  \n2020-02-10 13:30:00-05:00  212.500000   653191  ",
      "text/html": "<div>\n<style scoped>\n    .dataframe tbody tr th:only-of-type {\n        vertical-align: middle;\n    }\n\n    .dataframe tbody tr th {\n        vertical-align: top;\n    }\n\n    .dataframe thead th {\n        text-align: right;\n    }\n</style>\n<table border=\"1\" class=\"dataframe\">\n  <thead>\n    <tr style=\"text-align: right;\">\n      <th></th>\n      <th>open</th>\n      <th>high</th>\n      <th>low</th>\n      <th>close</th>\n      <th>Adj Close</th>\n      <th>volume</th>\n    </tr>\n    <tr>\n      <th>Datetime</th>\n      <th></th>\n      <th></th>\n      <th></th>\n      <th></th>\n      <th></th>\n      <th></th>\n    </tr>\n  </thead>\n  <tbody>\n    <tr>\n      <th>2020-02-10 04:00:00-05:00</th>\n      <td>212.250000</td>\n      <td>212.610000</td>\n      <td>212.200000</td>\n      <td>212.200000</td>\n      <td>212.200000</td>\n      <td>0</td>\n    </tr>\n    <tr>\n      <th>2020-02-10 06:00:00-05:00</th>\n      <td>212.080000</td>\n      <td>212.610000</td>\n      <td>212.080000</td>\n      <td>212.300000</td>\n      <td>212.300000</td>\n      <td>0</td>\n    </tr>\n    <tr>\n      <th>2020-02-10 07:00:00-05:00</th>\n      <td>212.030000</td>\n      <td>212.400000</td>\n      <td>212.030000</td>\n      <td>212.310000</td>\n      <td>212.310000</td>\n      <td>0</td>\n    </tr>\n    <tr>\n      <th>2020-02-10 08:00:00-05:00</th>\n      <td>212.280000</td>\n      <td>212.400000</td>\n      <td>212.010100</td>\n      <td>212.101200</td>\n      <td>212.101200</td>\n      <td>0</td>\n    </tr>\n    <tr>\n      <th>2020-02-10 09:00:00-05:00</th>\n      <td>212.200000</td>\n      <td>212.200000</td>\n      <td>211.500000</td>\n      <td>211.540000</td>\n      <td>211.540000</td>\n      <td>0</td>\n    </tr>\n    <tr>\n      <th>2020-02-10 09:30:00-05:00</th>\n      <td>211.520004</td>\n      <td>213.800003</td>\n      <td>210.914505</td>\n      <td>213.279999</td>\n      <td>213.279999</td>\n      <td>2938100</td>\n    </tr>\n    <tr>\n      <th>2020-02-10 10:30:00-05:00</th>\n      <td>213.279999</td>\n      <td>213.779999</td>\n      <td>212.199997</td>\n      <td>212.500000</td>\n      <td>212.500000</td>\n      <td>1377017</td>\n    </tr>\n    <tr>\n      <th>2020-02-10 11:30:00-05:00</th>\n      <td>212.490204</td>\n      <td>212.628998</td>\n      <td>211.800003</td>\n      <td>212.050003</td>\n      <td>212.050003</td>\n      <td>1034574</td>\n    </tr>\n    <tr>\n      <th>2020-02-10 12:30:00-05:00</th>\n      <td>212.041107</td>\n      <td>212.619995</td>\n      <td>211.850006</td>\n      <td>212.360001</td>\n      <td>212.360001</td>\n      <td>664739</td>\n    </tr>\n    <tr>\n      <th>2020-02-10 13:30:00-05:00</th>\n      <td>212.380005</td>\n      <td>212.580002</td>\n      <td>211.949997</td>\n      <td>212.500000</td>\n      <td>212.500000</td>\n      <td>653191</td>\n    </tr>\n  </tbody>\n</table>\n</div>"
     },
     "execution_count": 293,
     "metadata": {},
     "output_type": "execute_result"
    }
   ],
   "source": [
    "data.rename(columns={\"Close\": 'close', \"High\": 'high', \"Low\": 'low', 'Volume': 'volume', 'Open': 'open'}, inplace=True)\n",
    "data.head(10)"
   ],
   "metadata": {
    "collapsed": false,
    "pycharm": {
     "name": "#%%\n"
    }
   }
  },
  {
   "cell_type": "code",
   "execution_count": 294,
   "outputs": [
    {
     "data": {
      "text/plain": "<AxesSubplot:xlabel='Datetime'>"
     },
     "execution_count": 294,
     "metadata": {},
     "output_type": "execute_result"
    },
    {
     "data": {
      "text/plain": "<Figure size 432x288 with 1 Axes>",
      "image/png": "[encoded data removed]"
     },
     "metadata": {
      "needs_background": "light"
     },
     "output_type": "display_data"
    }
   ],
   "source": [
    "data['close'].plot()"
   ],
   "metadata": {
    "collapsed": false,
    "pycharm": {
     "name": "#%%\n"
    }
   }
  },
  {
   "cell_type": "code",
   "execution_count": 295,
   "outputs": [],
   "source": [
    "def _get_indicator_data(data):\n",
    "    \"\"\"\n",
    "    Function that uses the finta API to calculate technical indicators used as the features\n",
    "    :return:\n",
    "    \"\"\"\n",
    "\n",
    "    for indicator in INDICATORS:\n",
    "        ind_data = eval('TA.' + indicator + '(data)')\n",
    "        if not isinstance(ind_data, pd.DataFrame):\n",
    "            ind_data = ind_data.to_frame()\n",
    "        data = pd.concat([data, ind_data], axis=1)\n",
    "    # data.rename(columns={\"14 period EMV.\": '14 period EMV'}, inplace=True)\n",
    "\n",
    "    # Also calculate moving averages for features\n",
    "    data['ema50'] = data['close'] / data['close'].ewm(50).mean()\n",
    "    data['ema21'] = data['close'] / data['close'].ewm(21).mean()\n",
    "    # data['ema15'] = data['close'] / data['close'].ewm(ROWS_TO_PREDICT).mean()\n",
    "    data['ema5'] = data['close'] / data['close'].ewm(5).mean()\n",
    "\n",
    "    # Instead of using the actual volume value (which changes over time), we normalize it with a moving volume average\n",
    "    # data['normVol'] = data['volume'] / data['volume'].ewm(5).mean()\n",
    "\n",
    "    # Remove columns that won't be used as features\n",
    "    del (data['open'])\n",
    "    del (data['high'])\n",
    "    del (data['low'])\n",
    "    del (data['volume'])\n",
    "    del (data['Adj Close'])\n",
    "\n",
    "    return data\n",
    "\n",
    "data = _get_indicator_data(data)"
   ],
   "metadata": {
    "collapsed": false,
    "pycharm": {
     "name": "#%%\n"
    }
   }
  },
  {
   "cell_type": "code",
   "execution_count": 296,
   "outputs": [
    {
     "data": {
      "text/plain": "                                close  14 period RSI      MACD    SIGNAL  \\\nDatetime                                                                   \n2020-02-10 04:00:00-05:00  212.200000            NaN  0.000000  0.000000   \n2020-02-10 06:00:00-05:00  212.300000     100.000000  0.002244  0.001246   \n2020-02-10 07:00:00-05:00  212.310000     100.000000  0.003169  0.002034   \n2020-02-10 08:00:00-05:00  212.101200      31.385804 -0.004027 -0.000019   \n2020-02-10 09:00:00-05:00  211.540000      10.510880 -0.030183 -0.008992   \n...                               ...            ...       ...       ...   \n2021-02-09 08:00:00-05:00  265.850000      42.873625 -0.392921 -0.304535   \n2021-02-09 09:00:00-05:00  266.410000      48.637330 -0.343396 -0.312307   \n2021-02-09 09:30:00-05:00  272.404999      76.256058  0.177552 -0.214335   \n2021-02-09 10:30:00-05:00  270.950012      66.859406  0.467612 -0.077946   \n2021-02-09 11:17:47-05:00  270.769989      65.779359  0.675178  0.072679   \n\n                           14 period STOCH %K           MFV  14 period ATR  \\\nDatetime                                                                     \n2020-02-10 04:00:00-05:00                 NaN -0.000000e+00            NaN   \n2020-02-10 06:00:00-05:00                 NaN -0.000000e+00            NaN   \n2020-02-10 07:00:00-05:00                 NaN  0.000000e+00            NaN   \n2020-02-10 08:00:00-05:00                 NaN  0.000000e+00            NaN   \n2020-02-10 09:00:00-05:00                 NaN  0.000000e+00            NaN   \n...                                       ...           ...            ...   \n2021-02-09 08:00:00-05:00           81.544191  7.093267e+09       1.416577   \n2021-02-09 09:00:00-05:00           95.406360  7.093267e+09       1.364793   \n2021-02-09 09:30:00-05:00           93.642194  7.130258e+09       1.821222   \n2021-02-09 10:30:00-05:00           84.250951  7.128761e+09       1.937292   \n2021-02-09 11:17:47-05:00           83.088988           NaN       1.884793   \n\n                                MOM  14 period MFI       ROC  20 period CCI  \\\nDatetime                                                                      \n2020-02-10 04:00:00-05:00       NaN            NaN       NaN            NaN   \n2020-02-10 06:00:00-05:00       NaN            NaN       NaN     -66.666667   \n2020-02-10 07:00:00-05:00       NaN            NaN       NaN    -100.000000   \n2020-02-10 08:00:00-05:00       NaN            NaN       NaN    -107.395040   \n2020-02-10 09:00:00-05:00       NaN            NaN       NaN    -166.666667   \n...                             ...            ...       ...            ...   \n2021-02-09 08:00:00-05:00  0.051996      40.281627  0.009400     -39.338939   \n2021-02-09 09:00:00-05:00  0.189999      54.834930  0.255895     -30.171102   \n2021-02-09 09:30:00-05:00  5.804993      90.932919  2.485720     161.952791   \n2021-02-09 10:30:00-05:00  4.650012      91.736522  1.776730     182.513526   \n2021-02-09 11:17:47-05:00  4.319989     100.000000  1.564135     172.643075   \n\n                                VIm       VIp     ema50     ema21     ema15  \\\nDatetime                                                                      \n2020-02-10 04:00:00-05:00       NaN       NaN  1.000000  1.000000  1.000000   \n2020-02-10 06:00:00-05:00       NaN       NaN  1.000233  1.000230  1.000232   \n2020-02-10 07:00:00-05:00       NaN       NaN  1.000185  1.000180  1.000183   \n2020-02-10 08:00:00-05:00       NaN       NaN  0.999407  0.999412  0.999409   \n2020-02-10 09:00:00-05:00       NaN       NaN  0.997434  0.997474  0.997450   \n...                             ...       ...       ...       ...       ...   \n2021-02-09 08:00:00-05:00  1.165388  0.970250  0.996368  0.996982  0.996891   \n2021-02-09 09:00:00-05:00  1.048673  0.989270  0.998497  0.999124  0.999021   \n2021-02-09 09:30:00-05:00  0.725850  1.023532  1.020546  1.020605  1.020837   \n2021-02-09 10:30:00-05:00  0.742830  1.197256  1.014795  1.014455  1.014911   \n2021-02-09 11:17:47-05:00  0.809187  1.217910  1.013840  1.013146  1.013799   \n\n                               ema5  \nDatetime                             \n2020-02-10 04:00:00-05:00  1.000000  \n2020-02-10 06:00:00-05:00  1.000214  \n2020-02-10 07:00:00-05:00  1.000158  \n2020-02-10 08:00:00-05:00  0.999440  \n2020-02-10 09:00:00-05:00  0.997686  \n...                             ...  \n2021-02-09 08:00:00-05:00  0.999014  \n2021-02-09 09:00:00-05:00  1.000931  \n2021-02-09 09:30:00-05:00  1.019470  \n2021-02-09 10:30:00-05:00  1.011660  \n2021-02-09 11:17:47-05:00  1.009140  \n\n[4138 rows x 17 columns]",
      "text/html": "<div>\n<style scoped>\n    .dataframe tbody tr th:only-of-type {\n        vertical-align: middle;\n    }\n\n    .dataframe tbody tr th {\n        vertical-align: top;\n    }\n\n    .dataframe thead th {\n        text-align: right;\n    }\n</style>\n<table border=\"1\" class=\"dataframe\">\n  <thead>\n    <tr style=\"text-align: right;\">\n      <th></th>\n      <th>close</th>\n      <th>14 period RSI</th>\n      <th>MACD</th>\n      <th>SIGNAL</th>\n      <th>14 period STOCH %K</th>\n      <th>MFV</th>\n      <th>14 period ATR</th>\n      <th>MOM</th>\n      <th>14 period MFI</th>\n      <th>ROC</th>\n      <th>20 period CCI</th>\n      <th>VIm</th>\n      <th>VIp</th>\n      <th>ema50</th>\n      <th>ema21</th>\n      <th>ema15</th>\n      <th>ema5</th>\n    </tr>\n    <tr>\n      <th>Datetime</th>\n      <th></th>\n      <th></th>\n      <th></th>\n      <th></th>\n      <th></th>\n      <th></th>\n      <th></th>\n      <th></th>\n      <th></th>\n      <th></th>\n      <th></th>\n      <th></th>\n      <th></th>\n      <th></th>\n      <th></th>\n      <th></th>\n      <th></th>\n    </tr>\n  </thead>\n  <tbody>\n    <tr>\n      <th>2020-02-10 04:00:00-05:00</th>\n      <td>212.200000</td>\n      <td>NaN</td>\n      <td>0.000000</td>\n      <td>0.000000</td>\n      <td>NaN</td>\n      <td>-0.000000e+00</td>\n      <td>NaN</td>\n      <td>NaN</td>\n      <td>NaN</td>\n      <td>NaN</td>\n      <td>NaN</td>\n      <td>NaN</td>\n      <td>NaN</td>\n      <td>1.000000</td>\n      <td>1.000000</td>\n      <td>1.000000</td>\n      <td>1.000000</td>\n    </tr>\n    <tr>\n      <th>2020-02-10 06:00:00-05:00</th>\n      <td>212.300000</td>\n      <td>100.000000</td>\n      <td>0.002244</td>\n      <td>0.001246</td>\n      <td>NaN</td>\n      <td>-0.000000e+00</td>\n      <td>NaN</td>\n      <td>NaN</td>\n      <td>NaN</td>\n      <td>NaN</td>\n      <td>-66.666667</td>\n      <td>NaN</td>\n      <td>NaN</td>\n      <td>1.000233</td>\n      <td>1.000230</td>\n      <td>1.000232</td>\n      <td>1.000214</td>\n    </tr>\n    <tr>\n      <th>2020-02-10 07:00:00-05:00</th>\n      <td>212.310000</td>\n      <td>100.000000</td>\n      <td>0.003169</td>\n      <td>0.002034</td>\n      <td>NaN</td>\n      <td>0.000000e+00</td>\n      <td>NaN</td>\n      <td>NaN</td>\n      <td>NaN</td>\n      <td>NaN</td>\n      <td>-100.000000</td>\n      <td>NaN</td>\n      <td>NaN</td>\n      <td>1.000185</td>\n      <td>1.000180</td>\n      <td>1.000183</td>\n      <td>1.000158</td>\n    </tr>\n    <tr>\n      <th>2020-02-10 08:00:00-05:00</th>\n      <td>212.101200</td>\n      <td>31.385804</td>\n      <td>-0.004027</td>\n      <td>-0.000019</td>\n      <td>NaN</td>\n      <td>0.000000e+00</td>\n      <td>NaN</td>\n      <td>NaN</td>\n      <td>NaN</td>\n      <td>NaN</td>\n      <td>-107.395040</td>\n      <td>NaN</td>\n      <td>NaN</td>\n      <td>0.999407</td>\n      <td>0.999412</td>\n      <td>0.999409</td>\n      <td>0.999440</td>\n    </tr>\n    <tr>\n      <th>2020-02-10 09:00:00-05:00</th>\n      <td>211.540000</td>\n      <td>10.510880</td>\n      <td>-0.030183</td>\n      <td>-0.008992</td>\n      <td>NaN</td>\n      <td>0.000000e+00</td>\n      <td>NaN</td>\n      <td>NaN</td>\n      <td>NaN</td>\n      <td>NaN</td>\n      <td>-166.666667</td>\n      <td>NaN</td>\n      <td>NaN</td>\n      <td>0.997434</td>\n      <td>0.997474</td>\n      <td>0.997450</td>\n      <td>0.997686</td>\n    </tr>\n    <tr>\n      <th>...</th>\n      <td>...</td>\n      <td>...</td>\n      <td>...</td>\n      <td>...</td>\n      <td>...</td>\n      <td>...</td>\n      <td>...</td>\n      <td>...</td>\n      <td>...</td>\n      <td>...</td>\n      <td>...</td>\n      <td>...</td>\n      <td>...</td>\n      <td>...</td>\n      <td>...</td>\n      <td>...</td>\n      <td>...</td>\n    </tr>\n    <tr>\n      <th>2021-02-09 08:00:00-05:00</th>\n      <td>265.850000</td>\n      <td>42.873625</td>\n      <td>-0.392921</td>\n      <td>-0.304535</td>\n      <td>81.544191</td>\n      <td>7.093267e+09</td>\n      <td>1.416577</td>\n      <td>0.051996</td>\n      <td>40.281627</td>\n      <td>0.009400</td>\n      <td>-39.338939</td>\n      <td>1.165388</td>\n      <td>0.970250</td>\n      <td>0.996368</td>\n      <td>0.996982</td>\n      <td>0.996891</td>\n      <td>0.999014</td>\n    </tr>\n    <tr>\n      <th>2021-02-09 09:00:00-05:00</th>\n      <td>266.410000</td>\n      <td>48.637330</td>\n      <td>-0.343396</td>\n      <td>-0.312307</td>\n      <td>95.406360</td>\n      <td>7.093267e+09</td>\n      <td>1.364793</td>\n      <td>0.189999</td>\n      <td>54.834930</td>\n      <td>0.255895</td>\n      <td>-30.171102</td>\n      <td>1.048673</td>\n      <td>0.989270</td>\n      <td>0.998497</td>\n      <td>0.999124</td>\n      <td>0.999021</td>\n      <td>1.000931</td>\n    </tr>\n    <tr>\n      <th>2021-02-09 09:30:00-05:00</th>\n      <td>272.404999</td>\n      <td>76.256058</td>\n      <td>0.177552</td>\n      <td>-0.214335</td>\n      <td>93.642194</td>\n      <td>7.130258e+09</td>\n      <td>1.821222</td>\n      <td>5.804993</td>\n      <td>90.932919</td>\n      <td>2.485720</td>\n      <td>161.952791</td>\n      <td>0.725850</td>\n      <td>1.023532</td>\n      <td>1.020546</td>\n      <td>1.020605</td>\n      <td>1.020837</td>\n      <td>1.019470</td>\n    </tr>\n    <tr>\n      <th>2021-02-09 10:30:00-05:00</th>\n      <td>270.950012</td>\n      <td>66.859406</td>\n      <td>0.467612</td>\n      <td>-0.077946</td>\n      <td>84.250951</td>\n      <td>7.128761e+09</td>\n      <td>1.937292</td>\n      <td>4.650012</td>\n      <td>91.736522</td>\n      <td>1.776730</td>\n      <td>182.513526</td>\n      <td>0.742830</td>\n      <td>1.197256</td>\n      <td>1.014795</td>\n      <td>1.014455</td>\n      <td>1.014911</td>\n      <td>1.011660</td>\n    </tr>\n    <tr>\n      <th>2021-02-09 11:17:47-05:00</th>\n      <td>270.769989</td>\n      <td>65.779359</td>\n      <td>0.675178</td>\n      <td>0.072679</td>\n      <td>83.088988</td>\n      <td>NaN</td>\n      <td>1.884793</td>\n      <td>4.319989</td>\n      <td>100.000000</td>\n      <td>1.564135</td>\n      <td>172.643075</td>\n      <td>0.809187</td>\n      <td>1.217910</td>\n      <td>1.013840</td>\n      <td>1.013146</td>\n      <td>1.013799</td>\n      <td>1.009140</td>\n    </tr>\n  </tbody>\n</table>\n<p>4138 rows × 17 columns</p>\n</div>"
     },
     "execution_count": 296,
     "metadata": {},
     "output_type": "execute_result"
    }
   ],
   "source": [
    "data"
   ],
   "metadata": {
    "collapsed": false,
    "pycharm": {
     "name": "#%%\n"
    }
   }
  },
  {
   "cell_type": "code",
   "execution_count": 297,
   "outputs": [
    {
     "data": {
      "text/plain": "Index(['close', '14 period RSI', 'MACD', 'SIGNAL', '14 period STOCH %K', 'MFV',\n       '14 period ATR', 'MOM', '14 period MFI', 'ROC', '20 period CCI', 'VIm',\n       'VIp', 'ema50', 'ema21', 'ema15', 'ema5'],\n      dtype='object')"
     },
     "execution_count": 297,
     "metadata": {},
     "output_type": "execute_result"
    }
   ],
   "source": [
    "data.columns"
   ],
   "metadata": {
    "collapsed": false,
    "pycharm": {
     "name": "#%%\n"
    }
   }
  },
  {
   "cell_type": "code",
   "execution_count": 298,
   "outputs": [],
   "source": [
    "def create_class_column(row):\n",
    "    if row['close_shift']-row['close'] > 1.2:\n",
    "        return 1\n",
    "    if row['close_shift'] -row['close']< -1.2:\n",
    "        return -1\n",
    "    else:\n",
    "        return 0"
   ],
   "metadata": {
    "collapsed": false,
    "pycharm": {
     "name": "#%%\n"
    }
   }
  },
  {
   "cell_type": "code",
   "execution_count": 299,
   "outputs": [
    {
     "data": {
      "text/plain": "                                close  14 period RSI      MACD    SIGNAL  \\\nDatetime                                                                   \n2020-02-10 04:00:00-05:00  212.200000            NaN  0.000000  0.000000   \n2020-02-10 06:00:00-05:00  212.300000     100.000000  0.002244  0.001246   \n2020-02-10 07:00:00-05:00  212.310000     100.000000  0.003169  0.002034   \n2020-02-10 08:00:00-05:00  212.101200      31.385804 -0.004027 -0.000019   \n2020-02-10 09:00:00-05:00  211.540000      10.510880 -0.030183 -0.008992   \n...                               ...            ...       ...       ...   \n2021-02-09 08:00:00-05:00  265.850000      42.873625 -0.392921 -0.304535   \n2021-02-09 09:00:00-05:00  266.410000      48.637330 -0.343396 -0.312307   \n2021-02-09 09:30:00-05:00  272.404999      76.256058  0.177552 -0.214335   \n2021-02-09 10:30:00-05:00  270.950012      66.859406  0.467612 -0.077946   \n2021-02-09 11:17:47-05:00  270.769989      65.779359  0.675178  0.072679   \n\n                           14 period STOCH %K           MFV  14 period ATR  \\\nDatetime                                                                     \n2020-02-10 04:00:00-05:00                 NaN -0.000000e+00            NaN   \n2020-02-10 06:00:00-05:00                 NaN -0.000000e+00            NaN   \n2020-02-10 07:00:00-05:00                 NaN  0.000000e+00            NaN   \n2020-02-10 08:00:00-05:00                 NaN  0.000000e+00            NaN   \n2020-02-10 09:00:00-05:00                 NaN  0.000000e+00            NaN   \n...                                       ...           ...            ...   \n2021-02-09 08:00:00-05:00           81.544191  7.093267e+09       1.416577   \n2021-02-09 09:00:00-05:00           95.406360  7.093267e+09       1.364793   \n2021-02-09 09:30:00-05:00           93.642194  7.130258e+09       1.821222   \n2021-02-09 10:30:00-05:00           84.250951  7.128761e+09       1.937292   \n2021-02-09 11:17:47-05:00           83.088988           NaN       1.884793   \n\n                                MOM  14 period MFI       ROC  20 period CCI  \\\nDatetime                                                                      \n2020-02-10 04:00:00-05:00       NaN            NaN       NaN            NaN   \n2020-02-10 06:00:00-05:00       NaN            NaN       NaN     -66.666667   \n2020-02-10 07:00:00-05:00       NaN            NaN       NaN    -100.000000   \n2020-02-10 08:00:00-05:00       NaN            NaN       NaN    -107.395040   \n2020-02-10 09:00:00-05:00       NaN            NaN       NaN    -166.666667   \n...                             ...            ...       ...            ...   \n2021-02-09 08:00:00-05:00  0.051996      40.281627  0.009400     -39.338939   \n2021-02-09 09:00:00-05:00  0.189999      54.834930  0.255895     -30.171102   \n2021-02-09 09:30:00-05:00  5.804993      90.932919  2.485720     161.952791   \n2021-02-09 10:30:00-05:00  4.650012      91.736522  1.776730     182.513526   \n2021-02-09 11:17:47-05:00  4.319989     100.000000  1.564135     172.643075   \n\n                                VIm       VIp     ema50     ema21     ema15  \\\nDatetime                                                                      \n2020-02-10 04:00:00-05:00       NaN       NaN  1.000000  1.000000  1.000000   \n2020-02-10 06:00:00-05:00       NaN       NaN  1.000233  1.000230  1.000232   \n2020-02-10 07:00:00-05:00       NaN       NaN  1.000185  1.000180  1.000183   \n2020-02-10 08:00:00-05:00       NaN       NaN  0.999407  0.999412  0.999409   \n2020-02-10 09:00:00-05:00       NaN       NaN  0.997434  0.997474  0.997450   \n...                             ...       ...       ...       ...       ...   \n2021-02-09 08:00:00-05:00  1.165388  0.970250  0.996368  0.996982  0.996891   \n2021-02-09 09:00:00-05:00  1.048673  0.989270  0.998497  0.999124  0.999021   \n2021-02-09 09:30:00-05:00  0.725850  1.023532  1.020546  1.020605  1.020837   \n2021-02-09 10:30:00-05:00  0.742830  1.197256  1.014795  1.014455  1.014911   \n2021-02-09 11:17:47-05:00  0.809187  1.217910  1.013840  1.013146  1.013799   \n\n                               ema5  close_shift  \nDatetime                                          \n2020-02-10 04:00:00-05:00  1.000000   212.360001  \n2020-02-10 06:00:00-05:00  1.000214   212.500000  \n2020-02-10 07:00:00-05:00  1.000158   212.619995  \n2020-02-10 08:00:00-05:00  0.999440   213.100006  \n2020-02-10 09:00:00-05:00  0.997686   213.060000  \n...                             ...          ...  \n2021-02-09 08:00:00-05:00  0.999014          NaN  \n2021-02-09 09:00:00-05:00  1.000931          NaN  \n2021-02-09 09:30:00-05:00  1.019470          NaN  \n2021-02-09 10:30:00-05:00  1.011660          NaN  \n2021-02-09 11:17:47-05:00  1.009140          NaN  \n\n[4138 rows x 18 columns]",
      "text/html": "<div>\n<style scoped>\n    .dataframe tbody tr th:only-of-type {\n        vertical-align: middle;\n    }\n\n    .dataframe tbody tr th {\n        vertical-align: top;\n    }\n\n    .dataframe thead th {\n        text-align: right;\n    }\n</style>\n<table border=\"1\" class=\"dataframe\">\n  <thead>\n    <tr style=\"text-align: right;\">\n      <th></th>\n      <th>close</th>\n      <th>14 period RSI</th>\n      <th>MACD</th>\n      <th>SIGNAL</th>\n      <th>14 period STOCH %K</th>\n      <th>MFV</th>\n      <th>14 period ATR</th>\n      <th>MOM</th>\n      <th>14 period MFI</th>\n      <th>ROC</th>\n      <th>20 period CCI</th>\n      <th>VIm</th>\n      <th>VIp</th>\n      <th>ema50</th>\n      <th>ema21</th>\n      <th>ema15</th>\n      <th>ema5</th>\n      <th>close_shift</th>\n    </tr>\n    <tr>\n      <th>Datetime</th>\n      <th></th>\n      <th></th>\n      <th></th>\n      <th></th>\n      <th></th>\n      <th></th>\n      <th></th>\n      <th></th>\n      <th></th>\n      <th></th>\n      <th></th>\n      <th></th>\n      <th></th>\n      <th></th>\n      <th></th>\n      <th></th>\n      <th></th>\n      <th></th>\n    </tr>\n  </thead>\n  <tbody>\n    <tr>\n      <th>2020-02-10 04:00:00-05:00</th>\n      <td>212.200000</td>\n      <td>NaN</td>\n      <td>0.000000</td>\n      <td>0.000000</td>\n      <td>NaN</td>\n      <td>-0.000000e+00</td>\n      <td>NaN</td>\n      <td>NaN</td>\n      <td>NaN</td>\n      <td>NaN</td>\n      <td>NaN</td>\n      <td>NaN</td>\n      <td>NaN</td>\n      <td>1.000000</td>\n      <td>1.000000</td>\n      <td>1.000000</td>\n      <td>1.000000</td>\n      <td>212.360001</td>\n    </tr>\n    <tr>\n      <th>2020-02-10 06:00:00-05:00</th>\n      <td>212.300000</td>\n      <td>100.000000</td>\n      <td>0.002244</td>\n      <td>0.001246</td>\n      <td>NaN</td>\n      <td>-0.000000e+00</td>\n      <td>NaN</td>\n      <td>NaN</td>\n      <td>NaN</td>\n      <td>NaN</td>\n      <td>-66.666667</td>\n      <td>NaN</td>\n      <td>NaN</td>\n      <td>1.000233</td>\n      <td>1.000230</td>\n      <td>1.000232</td>\n      <td>1.000214</td>\n      <td>212.500000</td>\n    </tr>\n    <tr>\n      <th>2020-02-10 07:00:00-05:00</th>\n      <td>212.310000</td>\n      <td>100.000000</td>\n      <td>0.003169</td>\n      <td>0.002034</td>\n      <td>NaN</td>\n      <td>0.000000e+00</td>\n      <td>NaN</td>\n      <td>NaN</td>\n      <td>NaN</td>\n      <td>NaN</td>\n      <td>-100.000000</td>\n      <td>NaN</td>\n      <td>NaN</td>\n      <td>1.000185</td>\n      <td>1.000180</td>\n      <td>1.000183</td>\n      <td>1.000158</td>\n      <td>212.619995</td>\n    </tr>\n    <tr>\n      <th>2020-02-10 08:00:00-05:00</th>\n      <td>212.101200</td>\n      <td>31.385804</td>\n      <td>-0.004027</td>\n      <td>-0.000019</td>\n      <td>NaN</td>\n      <td>0.000000e+00</td>\n      <td>NaN</td>\n      <td>NaN</td>\n      <td>NaN</td>\n      <td>NaN</td>\n      <td>-107.395040</td>\n      <td>NaN</td>\n      <td>NaN</td>\n      <td>0.999407</td>\n      <td>0.999412</td>\n      <td>0.999409</td>\n      <td>0.999440</td>\n      <td>213.100006</td>\n    </tr>\n    <tr>\n      <th>2020-02-10 09:00:00-05:00</th>\n      <td>211.540000</td>\n      <td>10.510880</td>\n      <td>-0.030183</td>\n      <td>-0.008992</td>\n      <td>NaN</td>\n      <td>0.000000e+00</td>\n      <td>NaN</td>\n      <td>NaN</td>\n      <td>NaN</td>\n      <td>NaN</td>\n      <td>-166.666667</td>\n      <td>NaN</td>\n      <td>NaN</td>\n      <td>0.997434</td>\n      <td>0.997474</td>\n      <td>0.997450</td>\n      <td>0.997686</td>\n      <td>213.060000</td>\n    </tr>\n    <tr>\n      <th>...</th>\n      <td>...</td>\n      <td>...</td>\n      <td>...</td>\n      <td>...</td>\n      <td>...</td>\n      <td>...</td>\n      <td>...</td>\n      <td>...</td>\n      <td>...</td>\n      <td>...</td>\n      <td>...</td>\n      <td>...</td>\n      <td>...</td>\n      <td>...</td>\n      <td>...</td>\n      <td>...</td>\n      <td>...</td>\n      <td>...</td>\n    </tr>\n    <tr>\n      <th>2021-02-09 08:00:00-05:00</th>\n      <td>265.850000</td>\n      <td>42.873625</td>\n      <td>-0.392921</td>\n      <td>-0.304535</td>\n      <td>81.544191</td>\n      <td>7.093267e+09</td>\n      <td>1.416577</td>\n      <td>0.051996</td>\n      <td>40.281627</td>\n      <td>0.009400</td>\n      <td>-39.338939</td>\n      <td>1.165388</td>\n      <td>0.970250</td>\n      <td>0.996368</td>\n      <td>0.996982</td>\n      <td>0.996891</td>\n      <td>0.999014</td>\n      <td>NaN</td>\n    </tr>\n    <tr>\n      <th>2021-02-09 09:00:00-05:00</th>\n      <td>266.410000</td>\n      <td>48.637330</td>\n      <td>-0.343396</td>\n      <td>-0.312307</td>\n      <td>95.406360</td>\n      <td>7.093267e+09</td>\n      <td>1.364793</td>\n      <td>0.189999</td>\n      <td>54.834930</td>\n      <td>0.255895</td>\n      <td>-30.171102</td>\n      <td>1.048673</td>\n      <td>0.989270</td>\n      <td>0.998497</td>\n      <td>0.999124</td>\n      <td>0.999021</td>\n      <td>1.000931</td>\n      <td>NaN</td>\n    </tr>\n    <tr>\n      <th>2021-02-09 09:30:00-05:00</th>\n      <td>272.404999</td>\n      <td>76.256058</td>\n      <td>0.177552</td>\n      <td>-0.214335</td>\n      <td>93.642194</td>\n      <td>7.130258e+09</td>\n      <td>1.821222</td>\n      <td>5.804993</td>\n      <td>90.932919</td>\n      <td>2.485720</td>\n      <td>161.952791</td>\n      <td>0.725850</td>\n      <td>1.023532</td>\n      <td>1.020546</td>\n      <td>1.020605</td>\n      <td>1.020837</td>\n      <td>1.019470</td>\n      <td>NaN</td>\n    </tr>\n    <tr>\n      <th>2021-02-09 10:30:00-05:00</th>\n      <td>270.950012</td>\n      <td>66.859406</td>\n      <td>0.467612</td>\n      <td>-0.077946</td>\n      <td>84.250951</td>\n      <td>7.128761e+09</td>\n      <td>1.937292</td>\n      <td>4.650012</td>\n      <td>91.736522</td>\n      <td>1.776730</td>\n      <td>182.513526</td>\n      <td>0.742830</td>\n      <td>1.197256</td>\n      <td>1.014795</td>\n      <td>1.014455</td>\n      <td>1.014911</td>\n      <td>1.011660</td>\n      <td>NaN</td>\n    </tr>\n    <tr>\n      <th>2021-02-09 11:17:47-05:00</th>\n      <td>270.769989</td>\n      <td>65.779359</td>\n      <td>0.675178</td>\n      <td>0.072679</td>\n      <td>83.088988</td>\n      <td>NaN</td>\n      <td>1.884793</td>\n      <td>4.319989</td>\n      <td>100.000000</td>\n      <td>1.564135</td>\n      <td>172.643075</td>\n      <td>0.809187</td>\n      <td>1.217910</td>\n      <td>1.013840</td>\n      <td>1.013146</td>\n      <td>1.013799</td>\n      <td>1.009140</td>\n      <td>NaN</td>\n    </tr>\n  </tbody>\n</table>\n<p>4138 rows × 18 columns</p>\n</div>"
     },
     "execution_count": 299,
     "metadata": {},
     "output_type": "execute_result"
    }
   ],
   "source": [
    "data['close_shift'] = data.shift(-WINDOW)['close']\n",
    "data"
   ],
   "metadata": {
    "collapsed": false,
    "pycharm": {
     "name": "#%%\n"
    }
   }
  },
  {
   "cell_type": "code",
   "execution_count": 300,
   "outputs": [
    {
     "data": {
      "text/plain": "                                close  14 period RSI      MACD    SIGNAL  \\\nDatetime                                                                   \n2020-02-10 04:00:00-05:00  212.200000            NaN  0.000000  0.000000   \n2020-02-10 06:00:00-05:00  212.300000     100.000000  0.002244  0.001246   \n2020-02-10 07:00:00-05:00  212.310000     100.000000  0.003169  0.002034   \n2020-02-10 08:00:00-05:00  212.101200      31.385804 -0.004027 -0.000019   \n2020-02-10 09:00:00-05:00  211.540000      10.510880 -0.030183 -0.008992   \n...                               ...            ...       ...       ...   \n2021-02-09 08:00:00-05:00  265.850000      42.873625 -0.392921 -0.304535   \n2021-02-09 09:00:00-05:00  266.410000      48.637330 -0.343396 -0.312307   \n2021-02-09 09:30:00-05:00  272.404999      76.256058  0.177552 -0.214335   \n2021-02-09 10:30:00-05:00  270.950012      66.859406  0.467612 -0.077946   \n2021-02-09 11:17:47-05:00  270.769989      65.779359  0.675178  0.072679   \n\n                           14 period STOCH %K           MFV  14 period ATR  \\\nDatetime                                                                     \n2020-02-10 04:00:00-05:00                 NaN -0.000000e+00            NaN   \n2020-02-10 06:00:00-05:00                 NaN -0.000000e+00            NaN   \n2020-02-10 07:00:00-05:00                 NaN  0.000000e+00            NaN   \n2020-02-10 08:00:00-05:00                 NaN  0.000000e+00            NaN   \n2020-02-10 09:00:00-05:00                 NaN  0.000000e+00            NaN   \n...                                       ...           ...            ...   \n2021-02-09 08:00:00-05:00           81.544191  7.093267e+09       1.416577   \n2021-02-09 09:00:00-05:00           95.406360  7.093267e+09       1.364793   \n2021-02-09 09:30:00-05:00           93.642194  7.130258e+09       1.821222   \n2021-02-09 10:30:00-05:00           84.250951  7.128761e+09       1.937292   \n2021-02-09 11:17:47-05:00           83.088988           NaN       1.884793   \n\n                                MOM  14 period MFI       ROC  20 period CCI  \\\nDatetime                                                                      \n2020-02-10 04:00:00-05:00       NaN            NaN       NaN            NaN   \n2020-02-10 06:00:00-05:00       NaN            NaN       NaN     -66.666667   \n2020-02-10 07:00:00-05:00       NaN            NaN       NaN    -100.000000   \n2020-02-10 08:00:00-05:00       NaN            NaN       NaN    -107.395040   \n2020-02-10 09:00:00-05:00       NaN            NaN       NaN    -166.666667   \n...                             ...            ...       ...            ...   \n2021-02-09 08:00:00-05:00  0.051996      40.281627  0.009400     -39.338939   \n2021-02-09 09:00:00-05:00  0.189999      54.834930  0.255895     -30.171102   \n2021-02-09 09:30:00-05:00  5.804993      90.932919  2.485720     161.952791   \n2021-02-09 10:30:00-05:00  4.650012      91.736522  1.776730     182.513526   \n2021-02-09 11:17:47-05:00  4.319989     100.000000  1.564135     172.643075   \n\n                                VIm       VIp     ema50     ema21     ema15  \\\nDatetime                                                                      \n2020-02-10 04:00:00-05:00       NaN       NaN  1.000000  1.000000  1.000000   \n2020-02-10 06:00:00-05:00       NaN       NaN  1.000233  1.000230  1.000232   \n2020-02-10 07:00:00-05:00       NaN       NaN  1.000185  1.000180  1.000183   \n2020-02-10 08:00:00-05:00       NaN       NaN  0.999407  0.999412  0.999409   \n2020-02-10 09:00:00-05:00       NaN       NaN  0.997434  0.997474  0.997450   \n...                             ...       ...       ...       ...       ...   \n2021-02-09 08:00:00-05:00  1.165388  0.970250  0.996368  0.996982  0.996891   \n2021-02-09 09:00:00-05:00  1.048673  0.989270  0.998497  0.999124  0.999021   \n2021-02-09 09:30:00-05:00  0.725850  1.023532  1.020546  1.020605  1.020837   \n2021-02-09 10:30:00-05:00  0.742830  1.197256  1.014795  1.014455  1.014911   \n2021-02-09 11:17:47-05:00  0.809187  1.217910  1.013840  1.013146  1.013799   \n\n                               ema5  close_shift  class_column  \nDatetime                                                        \n2020-02-10 04:00:00-05:00  1.000000   212.360001             0  \n2020-02-10 06:00:00-05:00  1.000214   212.500000             0  \n2020-02-10 07:00:00-05:00  1.000158   212.619995             0  \n2020-02-10 08:00:00-05:00  0.999440   213.100006             0  \n2020-02-10 09:00:00-05:00  0.997686   213.060000             1  \n...                             ...          ...           ...  \n2021-02-09 08:00:00-05:00  0.999014          NaN             0  \n2021-02-09 09:00:00-05:00  1.000931          NaN             0  \n2021-02-09 09:30:00-05:00  1.019470          NaN             0  \n2021-02-09 10:30:00-05:00  1.011660          NaN             0  \n2021-02-09 11:17:47-05:00  1.009140          NaN             0  \n\n[4138 rows x 19 columns]",
      "text/html": "<div>\n<style scoped>\n    .dataframe tbody tr th:only-of-type {\n        vertical-align: middle;\n    }\n\n    .dataframe tbody tr th {\n        vertical-align: top;\n    }\n\n    .dataframe thead th {\n        text-align: right;\n    }\n</style>\n<table border=\"1\" class=\"dataframe\">\n  <thead>\n    <tr style=\"text-align: right;\">\n      <th></th>\n      <th>close</th>\n      <th>14 period RSI</th>\n      <th>MACD</th>\n      <th>SIGNAL</th>\n      <th>14 period STOCH %K</th>\n      <th>MFV</th>\n      <th>14 period ATR</th>\n      <th>MOM</th>\n      <th>14 period MFI</th>\n      <th>ROC</th>\n      <th>20 period CCI</th>\n      <th>VIm</th>\n      <th>VIp</th>\n      <th>ema50</th>\n      <th>ema21</th>\n      <th>ema15</th>\n      <th>ema5</th>\n      <th>close_shift</th>\n      <th>class_column</th>\n    </tr>\n    <tr>\n      <th>Datetime</th>\n      <th></th>\n      <th></th>\n      <th></th>\n      <th></th>\n      <th></th>\n      <th></th>\n      <th></th>\n      <th></th>\n      <th></th>\n      <th></th>\n      <th></th>\n      <th></th>\n      <th></th>\n      <th></th>\n      <th></th>\n      <th></th>\n      <th></th>\n      <th></th>\n      <th></th>\n    </tr>\n  </thead>\n  <tbody>\n    <tr>\n      <th>2020-02-10 04:00:00-05:00</th>\n      <td>212.200000</td>\n      <td>NaN</td>\n      <td>0.000000</td>\n      <td>0.000000</td>\n      <td>NaN</td>\n      <td>-0.000000e+00</td>\n      <td>NaN</td>\n      <td>NaN</td>\n      <td>NaN</td>\n      <td>NaN</td>\n      <td>NaN</td>\n      <td>NaN</td>\n      <td>NaN</td>\n      <td>1.000000</td>\n      <td>1.000000</td>\n      <td>1.000000</td>\n      <td>1.000000</td>\n      <td>212.360001</td>\n      <td>0</td>\n    </tr>\n    <tr>\n      <th>2020-02-10 06:00:00-05:00</th>\n      <td>212.300000</td>\n      <td>100.000000</td>\n      <td>0.002244</td>\n      <td>0.001246</td>\n      <td>NaN</td>\n      <td>-0.000000e+00</td>\n      <td>NaN</td>\n      <td>NaN</td>\n      <td>NaN</td>\n      <td>NaN</td>\n      <td>-66.666667</td>\n      <td>NaN</td>\n      <td>NaN</td>\n      <td>1.000233</td>\n      <td>1.000230</td>\n      <td>1.000232</td>\n      <td>1.000214</td>\n      <td>212.500000</td>\n      <td>0</td>\n    </tr>\n    <tr>\n      <th>2020-02-10 07:00:00-05:00</th>\n      <td>212.310000</td>\n      <td>100.000000</td>\n      <td>0.003169</td>\n      <td>0.002034</td>\n      <td>NaN</td>\n      <td>0.000000e+00</td>\n      <td>NaN</td>\n      <td>NaN</td>\n      <td>NaN</td>\n      <td>NaN</td>\n      <td>-100.000000</td>\n      <td>NaN</td>\n      <td>NaN</td>\n      <td>1.000185</td>\n      <td>1.000180</td>\n      <td>1.000183</td>\n      <td>1.000158</td>\n      <td>212.619995</td>\n      <td>0</td>\n    </tr>\n    <tr>\n      <th>2020-02-10 08:00:00-05:00</th>\n      <td>212.101200</td>\n      <td>31.385804</td>\n      <td>-0.004027</td>\n      <td>-0.000019</td>\n      <td>NaN</td>\n      <td>0.000000e+00</td>\n      <td>NaN</td>\n      <td>NaN</td>\n      <td>NaN</td>\n      <td>NaN</td>\n      <td>-107.395040</td>\n      <td>NaN</td>\n      <td>NaN</td>\n      <td>0.999407</td>\n      <td>0.999412</td>\n      <td>0.999409</td>\n      <td>0.999440</td>\n      <td>213.100006</td>\n      <td>0</td>\n    </tr>\n    <tr>\n      <th>2020-02-10 09:00:00-05:00</th>\n      <td>211.540000</td>\n      <td>10.510880</td>\n      <td>-0.030183</td>\n      <td>-0.008992</td>\n      <td>NaN</td>\n      <td>0.000000e+00</td>\n      <td>NaN</td>\n      <td>NaN</td>\n      <td>NaN</td>\n      <td>NaN</td>\n      <td>-166.666667</td>\n      <td>NaN</td>\n      <td>NaN</td>\n      <td>0.997434</td>\n      <td>0.997474</td>\n      <td>0.997450</td>\n      <td>0.997686</td>\n      <td>213.060000</td>\n      <td>1</td>\n    </tr>\n    <tr>\n      <th>...</th>\n      <td>...</td>\n      <td>...</td>\n      <td>...</td>\n      <td>...</td>\n      <td>...</td>\n      <td>...</td>\n      <td>...</td>\n      <td>...</td>\n      <td>...</td>\n      <td>...</td>\n      <td>...</td>\n      <td>...</td>\n      <td>...</td>\n      <td>...</td>\n      <td>...</td>\n      <td>...</td>\n      <td>...</td>\n      <td>...</td>\n      <td>...</td>\n    </tr>\n    <tr>\n      <th>2021-02-09 08:00:00-05:00</th>\n      <td>265.850000</td>\n      <td>42.873625</td>\n      <td>-0.392921</td>\n      <td>-0.304535</td>\n      <td>81.544191</td>\n      <td>7.093267e+09</td>\n      <td>1.416577</td>\n      <td>0.051996</td>\n      <td>40.281627</td>\n      <td>0.009400</td>\n      <td>-39.338939</td>\n      <td>1.165388</td>\n      <td>0.970250</td>\n      <td>0.996368</td>\n      <td>0.996982</td>\n      <td>0.996891</td>\n      <td>0.999014</td>\n      <td>NaN</td>\n      <td>0</td>\n    </tr>\n    <tr>\n      <th>2021-02-09 09:00:00-05:00</th>\n      <td>266.410000</td>\n      <td>48.637330</td>\n      <td>-0.343396</td>\n      <td>-0.312307</td>\n      <td>95.406360</td>\n      <td>7.093267e+09</td>\n      <td>1.364793</td>\n      <td>0.189999</td>\n      <td>54.834930</td>\n      <td>0.255895</td>\n      <td>-30.171102</td>\n      <td>1.048673</td>\n      <td>0.989270</td>\n      <td>0.998497</td>\n      <td>0.999124</td>\n      <td>0.999021</td>\n      <td>1.000931</td>\n      <td>NaN</td>\n      <td>0</td>\n    </tr>\n    <tr>\n      <th>2021-02-09 09:30:00-05:00</th>\n      <td>272.404999</td>\n      <td>76.256058</td>\n      <td>0.177552</td>\n      <td>-0.214335</td>\n      <td>93.642194</td>\n      <td>7.130258e+09</td>\n      <td>1.821222</td>\n      <td>5.804993</td>\n      <td>90.932919</td>\n      <td>2.485720</td>\n      <td>161.952791</td>\n      <td>0.725850</td>\n      <td>1.023532</td>\n      <td>1.020546</td>\n      <td>1.020605</td>\n      <td>1.020837</td>\n      <td>1.019470</td>\n      <td>NaN</td>\n      <td>0</td>\n    </tr>\n    <tr>\n      <th>2021-02-09 10:30:00-05:00</th>\n      <td>270.950012</td>\n      <td>66.859406</td>\n      <td>0.467612</td>\n      <td>-0.077946</td>\n      <td>84.250951</td>\n      <td>7.128761e+09</td>\n      <td>1.937292</td>\n      <td>4.650012</td>\n      <td>91.736522</td>\n      <td>1.776730</td>\n      <td>182.513526</td>\n      <td>0.742830</td>\n      <td>1.197256</td>\n      <td>1.014795</td>\n      <td>1.014455</td>\n      <td>1.014911</td>\n      <td>1.011660</td>\n      <td>NaN</td>\n      <td>0</td>\n    </tr>\n    <tr>\n      <th>2021-02-09 11:17:47-05:00</th>\n      <td>270.769989</td>\n      <td>65.779359</td>\n      <td>0.675178</td>\n      <td>0.072679</td>\n      <td>83.088988</td>\n      <td>NaN</td>\n      <td>1.884793</td>\n      <td>4.319989</td>\n      <td>100.000000</td>\n      <td>1.564135</td>\n      <td>172.643075</td>\n      <td>0.809187</td>\n      <td>1.217910</td>\n      <td>1.013840</td>\n      <td>1.013146</td>\n      <td>1.013799</td>\n      <td>1.009140</td>\n      <td>NaN</td>\n      <td>0</td>\n    </tr>\n  </tbody>\n</table>\n<p>4138 rows × 19 columns</p>\n</div>"
     },
     "execution_count": 300,
     "metadata": {},
     "output_type": "execute_result"
    }
   ],
   "source": [
    "data['class_column'] = data.apply(create_class_column, axis=1)\n",
    "data"
   ],
   "metadata": {
    "collapsed": false,
    "pycharm": {
     "name": "#%%\n"
    }
   }
  },
  {
   "cell_type": "code",
   "execution_count": 301,
   "outputs": [
    {
     "data": {
      "text/plain": " 1    1532\n-1    1412\n 0    1194\nName: class_column, dtype: int64"
     },
     "execution_count": 301,
     "metadata": {},
     "output_type": "execute_result"
    }
   ],
   "source": [
    "# Class divide\n",
    "data['class_column'].value_counts()"
   ],
   "metadata": {
    "collapsed": false,
    "pycharm": {
     "name": "#%%\n"
    }
   }
  },
  {
   "cell_type": "code",
   "execution_count": 302,
   "outputs": [],
   "source": [
    "del (data['close'])\n",
    "del (data['close_shift'])\n",
    "data = data.dropna()\n",
    "train_set = data.iloc[:-ROWS_TO_PREDICT]\n",
    "test_set =data.iloc[-ROWS_TO_PREDICT:]"
   ],
   "metadata": {
    "collapsed": false,
    "pycharm": {
     "name": "#%%\n"
    }
   }
  },
  {
   "cell_type": "code",
   "execution_count": 303,
   "outputs": [
    {
     "data": {
      "text/plain": " 1    1513\n-1    1385\n 0    1160\nName: class_column, dtype: int64"
     },
     "execution_count": 303,
     "metadata": {},
     "output_type": "execute_result"
    }
   ],
   "source": [
    "data['class_column'].value_counts()"
   ],
   "metadata": {
    "collapsed": false,
    "pycharm": {
     "name": "#%%\n"
    }
   }
  },
  {
   "cell_type": "code",
   "execution_count": 304,
   "outputs": [
    {
     "data": {
      "text/plain": "                           14 period RSI      MACD    SIGNAL  \\\nDatetime                                                       \n2020-02-10 18:00:00-05:00      60.285099  0.110894  0.064716   \n2020-02-11 04:00:00-05:00      68.021759  0.156736  0.083653   \n2020-02-11 06:00:00-05:00      38.330559  0.041229  0.074972   \n2020-02-11 07:00:00-05:00      42.914735 -0.021887  0.055245   \n2020-02-11 08:00:00-05:00      37.242826 -0.120162  0.019651   \n...                                  ...       ...       ...   \n2021-02-05 07:00:00-05:00      53.669507  0.034932 -0.029810   \n2021-02-05 08:00:00-05:00      47.684067 -0.001470 -0.024142   \n2021-02-05 09:00:00-05:00      51.659776  0.020284 -0.015257   \n2021-02-05 09:30:00-05:00      56.870371  0.111285  0.010052   \n2021-02-05 10:30:00-05:00      55.933343  0.170608  0.042163   \n\n                           14 period STOCH %K           MFV  14 period ATR  \\\nDatetime                                                                     \n2020-02-10 18:00:00-05:00           73.661287  6.698538e+06       0.800513   \n2020-02-11 04:00:00-05:00           96.187727  6.698538e+06       0.809799   \n2020-02-11 06:00:00-05:00           12.209254  6.698538e+06       1.000513   \n2020-02-11 07:00:00-05:00           26.366559  6.698538e+06       1.039092   \n2020-02-11 08:00:00-05:00            4.953560  6.698538e+06       1.061942   \n...                                       ...           ...            ...   \n2021-02-05 07:00:00-05:00           62.669874  7.085435e+09       2.922257   \n2021-02-05 08:00:00-05:00           58.787035  7.085435e+09       2.767972   \n2021-02-05 09:00:00-05:00           61.445936  7.085435e+09       2.761543   \n2021-02-05 09:30:00-05:00           65.371016  7.090266e+09       2.896897   \n2021-02-05 10:30:00-05:00           64.804559  7.089474e+09       2.912256   \n\n                                MOM  14 period MFI       ROC  20 period CCI  \\\nDatetime                                                                      \n2020-02-10 18:00:00-05:00  1.500000      88.285410  0.343837     111.248046   \n2020-02-11 04:00:00-05:00  0.410001      88.285410  0.749076     195.616483   \n2020-02-11 06:00:00-05:00 -1.210000      88.285410 -0.118181     -82.983463   \n2020-02-11 07:00:00-05:00 -0.350003      88.285410 -0.740810    -168.270564   \n2020-02-11 08:00:00-05:00 -1.440001      88.285410 -0.743529    -190.412371   \n...                             ...            ...       ...            ...   \n2021-02-05 07:00:00-05:00  0.669989      20.495267  0.482794      42.252816   \n2021-02-05 08:00:00-05:00  0.803914      30.240354  0.286554      -5.339388   \n2021-02-05 09:00:00-05:00  0.939987      37.371235  0.142730      23.644317   \n2021-02-05 09:30:00-05:00  0.920013      64.324479  0.891454      81.371583   \n2021-02-05 10:30:00-05:00  1.105792      66.128694  0.653359      99.372653   \n\n                                VIm       VIp     ema50     ema21     ema15  \\\nDatetime                                                                      \n2020-02-10 18:00:00-05:00  0.960739  1.066921  1.002274  1.002108  1.002206   \n2020-02-11 04:00:00-05:00  0.942667  1.084677  1.004945  1.004716  1.004852   \n2020-02-11 06:00:00-05:00  0.917899  0.890056  0.994091  0.993975  0.994042   \n2020-02-11 07:00:00-05:00  1.070804  0.890694  0.996279  0.996231  0.996257   \n2020-02-11 08:00:00-05:00  1.057852  0.919285  0.993068  0.993133  0.993090   \n...                             ...       ...       ...       ...       ...   \n2021-02-05 07:00:00-05:00  1.031531  0.995356  1.000770  1.002437  1.002135   \n2021-02-05 08:00:00-05:00  1.021161  1.029934  0.997372  0.999028  0.998721   \n2021-02-05 09:00:00-05:00  0.967668  1.030004  0.999740  1.001331  1.001053   \n2021-02-05 09:30:00-05:00  0.921961  1.026877  1.003164  1.004604  1.004407   \n2021-02-05 10:30:00-05:00  0.945305  1.045007  1.002608  1.003913  1.003784   \n\n                               ema5  class_column  \nDatetime                                           \n2020-02-10 18:00:00-05:00  1.001317            -1  \n2020-02-11 04:00:00-05:00  1.003599            -1  \n2020-02-11 06:00:00-05:00  0.993658            -1  \n2020-02-11 07:00:00-05:00  0.996348            -1  \n2020-02-11 08:00:00-05:00  0.993929            -1  \n...                             ...           ...  \n2021-02-05 07:00:00-05:00  1.001833             1  \n2021-02-05 08:00:00-05:00  0.998650             1  \n2021-02-05 09:00:00-05:00  1.000846             1  \n2021-02-05 09:30:00-05:00  1.003612             0  \n2021-02-05 10:30:00-05:00  1.002589             0  \n\n[4026 rows x 17 columns]",
      "text/html": "<div>\n<style scoped>\n    .dataframe tbody tr th:only-of-type {\n        vertical-align: middle;\n    }\n\n    .dataframe tbody tr th {\n        vertical-align: top;\n    }\n\n    .dataframe thead th {\n        text-align: right;\n    }\n</style>\n<table border=\"1\" class=\"dataframe\">\n  <thead>\n    <tr style=\"text-align: right;\">\n      <th></th>\n      <th>14 period RSI</th>\n      <th>MACD</th>\n      <th>SIGNAL</th>\n      <th>14 period STOCH %K</th>\n      <th>MFV</th>\n      <th>14 period ATR</th>\n      <th>MOM</th>\n      <th>14 period MFI</th>\n      <th>ROC</th>\n      <th>20 period CCI</th>\n      <th>VIm</th>\n      <th>VIp</th>\n      <th>ema50</th>\n      <th>ema21</th>\n      <th>ema15</th>\n      <th>ema5</th>\n      <th>class_column</th>\n    </tr>\n    <tr>\n      <th>Datetime</th>\n      <th></th>\n      <th></th>\n      <th></th>\n      <th></th>\n      <th></th>\n      <th></th>\n      <th></th>\n      <th></th>\n      <th></th>\n      <th></th>\n      <th></th>\n      <th></th>\n      <th></th>\n      <th></th>\n      <th></th>\n      <th></th>\n      <th></th>\n    </tr>\n  </thead>\n  <tbody>\n    <tr>\n      <th>2020-02-10 18:00:00-05:00</th>\n      <td>60.285099</td>\n      <td>0.110894</td>\n      <td>0.064716</td>\n      <td>73.661287</td>\n      <td>6.698538e+06</td>\n      <td>0.800513</td>\n      <td>1.500000</td>\n      <td>88.285410</td>\n      <td>0.343837</td>\n      <td>111.248046</td>\n      <td>0.960739</td>\n      <td>1.066921</td>\n      <td>1.002274</td>\n      <td>1.002108</td>\n      <td>1.002206</td>\n      <td>1.001317</td>\n      <td>-1</td>\n    </tr>\n    <tr>\n      <th>2020-02-11 04:00:00-05:00</th>\n      <td>68.021759</td>\n      <td>0.156736</td>\n      <td>0.083653</td>\n      <td>96.187727</td>\n      <td>6.698538e+06</td>\n      <td>0.809799</td>\n      <td>0.410001</td>\n      <td>88.285410</td>\n      <td>0.749076</td>\n      <td>195.616483</td>\n      <td>0.942667</td>\n      <td>1.084677</td>\n      <td>1.004945</td>\n      <td>1.004716</td>\n      <td>1.004852</td>\n      <td>1.003599</td>\n      <td>-1</td>\n    </tr>\n    <tr>\n      <th>2020-02-11 06:00:00-05:00</th>\n      <td>38.330559</td>\n      <td>0.041229</td>\n      <td>0.074972</td>\n      <td>12.209254</td>\n      <td>6.698538e+06</td>\n      <td>1.000513</td>\n      <td>-1.210000</td>\n      <td>88.285410</td>\n      <td>-0.118181</td>\n      <td>-82.983463</td>\n      <td>0.917899</td>\n      <td>0.890056</td>\n      <td>0.994091</td>\n      <td>0.993975</td>\n      <td>0.994042</td>\n      <td>0.993658</td>\n      <td>-1</td>\n    </tr>\n    <tr>\n      <th>2020-02-11 07:00:00-05:00</th>\n      <td>42.914735</td>\n      <td>-0.021887</td>\n      <td>0.055245</td>\n      <td>26.366559</td>\n      <td>6.698538e+06</td>\n      <td>1.039092</td>\n      <td>-0.350003</td>\n      <td>88.285410</td>\n      <td>-0.740810</td>\n      <td>-168.270564</td>\n      <td>1.070804</td>\n      <td>0.890694</td>\n      <td>0.996279</td>\n      <td>0.996231</td>\n      <td>0.996257</td>\n      <td>0.996348</td>\n      <td>-1</td>\n    </tr>\n    <tr>\n      <th>2020-02-11 08:00:00-05:00</th>\n      <td>37.242826</td>\n      <td>-0.120162</td>\n      <td>0.019651</td>\n      <td>4.953560</td>\n      <td>6.698538e+06</td>\n      <td>1.061942</td>\n      <td>-1.440001</td>\n      <td>88.285410</td>\n      <td>-0.743529</td>\n      <td>-190.412371</td>\n      <td>1.057852</td>\n      <td>0.919285</td>\n      <td>0.993068</td>\n      <td>0.993133</td>\n      <td>0.993090</td>\n      <td>0.993929</td>\n      <td>-1</td>\n    </tr>\n    <tr>\n      <th>...</th>\n      <td>...</td>\n      <td>...</td>\n      <td>...</td>\n      <td>...</td>\n      <td>...</td>\n      <td>...</td>\n      <td>...</td>\n      <td>...</td>\n      <td>...</td>\n      <td>...</td>\n      <td>...</td>\n      <td>...</td>\n      <td>...</td>\n      <td>...</td>\n      <td>...</td>\n      <td>...</td>\n      <td>...</td>\n    </tr>\n    <tr>\n      <th>2021-02-05 07:00:00-05:00</th>\n      <td>53.669507</td>\n      <td>0.034932</td>\n      <td>-0.029810</td>\n      <td>62.669874</td>\n      <td>7.085435e+09</td>\n      <td>2.922257</td>\n      <td>0.669989</td>\n      <td>20.495267</td>\n      <td>0.482794</td>\n      <td>42.252816</td>\n      <td>1.031531</td>\n      <td>0.995356</td>\n      <td>1.000770</td>\n      <td>1.002437</td>\n      <td>1.002135</td>\n      <td>1.001833</td>\n      <td>1</td>\n    </tr>\n    <tr>\n      <th>2021-02-05 08:00:00-05:00</th>\n      <td>47.684067</td>\n      <td>-0.001470</td>\n      <td>-0.024142</td>\n      <td>58.787035</td>\n      <td>7.085435e+09</td>\n      <td>2.767972</td>\n      <td>0.803914</td>\n      <td>30.240354</td>\n      <td>0.286554</td>\n      <td>-5.339388</td>\n      <td>1.021161</td>\n      <td>1.029934</td>\n      <td>0.997372</td>\n      <td>0.999028</td>\n      <td>0.998721</td>\n      <td>0.998650</td>\n      <td>1</td>\n    </tr>\n    <tr>\n      <th>2021-02-05 09:00:00-05:00</th>\n      <td>51.659776</td>\n      <td>0.020284</td>\n      <td>-0.015257</td>\n      <td>61.445936</td>\n      <td>7.085435e+09</td>\n      <td>2.761543</td>\n      <td>0.939987</td>\n      <td>37.371235</td>\n      <td>0.142730</td>\n      <td>23.644317</td>\n      <td>0.967668</td>\n      <td>1.030004</td>\n      <td>0.999740</td>\n      <td>1.001331</td>\n      <td>1.001053</td>\n      <td>1.000846</td>\n      <td>1</td>\n    </tr>\n    <tr>\n      <th>2021-02-05 09:30:00-05:00</th>\n      <td>56.870371</td>\n      <td>0.111285</td>\n      <td>0.010052</td>\n      <td>65.371016</td>\n      <td>7.090266e+09</td>\n      <td>2.896897</td>\n      <td>0.920013</td>\n      <td>64.324479</td>\n      <td>0.891454</td>\n      <td>81.371583</td>\n      <td>0.921961</td>\n      <td>1.026877</td>\n      <td>1.003164</td>\n      <td>1.004604</td>\n      <td>1.004407</td>\n      <td>1.003612</td>\n      <td>0</td>\n    </tr>\n    <tr>\n      <th>2021-02-05 10:30:00-05:00</th>\n      <td>55.933343</td>\n      <td>0.170608</td>\n      <td>0.042163</td>\n      <td>64.804559</td>\n      <td>7.089474e+09</td>\n      <td>2.912256</td>\n      <td>1.105792</td>\n      <td>66.128694</td>\n      <td>0.653359</td>\n      <td>99.372653</td>\n      <td>0.945305</td>\n      <td>1.045007</td>\n      <td>1.002608</td>\n      <td>1.003913</td>\n      <td>1.003784</td>\n      <td>1.002589</td>\n      <td>0</td>\n    </tr>\n  </tbody>\n</table>\n<p>4026 rows × 17 columns</p>\n</div>"
     },
     "execution_count": 304,
     "metadata": {},
     "output_type": "execute_result"
    }
   ],
   "source": [
    "train_set"
   ],
   "metadata": {
    "collapsed": false,
    "pycharm": {
     "name": "#%%\n"
    }
   }
  },
  {
   "cell_type": "code",
   "execution_count": 305,
   "outputs": [],
   "source": [
    "y = data['class_column']\n",
    "features = [x for x in data.columns if x not in ['class_column']]\n",
    "x = data[features]\n",
    "\n",
    "x_train= x.iloc[:-ROWS_TO_PREDICT]\n",
    "y_train= y.iloc[:-ROWS_TO_PREDICT]\n",
    "x_test =x.iloc[-ROWS_TO_PREDICT:]\n",
    "y_test=y.iloc[-ROWS_TO_PREDICT:]"
   ],
   "metadata": {
    "collapsed": false,
    "pycharm": {
     "name": "#%%\n"
    }
   }
  },
  {
   "cell_type": "code",
   "execution_count": 306,
   "outputs": [],
   "source": [
    "classifiers = dict()\n",
    "\n",
    "classifiers['DecisionTreeClassifier 1'] = DecisionTreeClassifier(max_depth=10, random_state=0,criterion='gini',splitter='best')\n",
    "classifiers['DecisionTreeClassifier 2'] = DecisionTreeClassifier(max_depth=10, random_state=0,criterion='gini',splitter='random')\n",
    "classifiers['DecisionTreeClassifier 3'] = DecisionTreeClassifier(max_depth=10, random_state=0,criterion='entropy',splitter='best')\n",
    "classifiers['DecisionTreeClassifier 4'] = DecisionTreeClassifier(max_depth=10, random_state=0,criterion='entropy',splitter='random')\n",
    "classifiers['DecisionTreeClassifier 5'] = DecisionTreeClassifier(random_state=0,criterion='gini',splitter='best')\n",
    "classifiers['DecisionTreeClassifier 6'] = DecisionTreeClassifier(random_state=0,criterion='gini',splitter='random')\n",
    "classifiers['DecisionTreeClassifier 7'] = DecisionTreeClassifier(random_state=0,criterion='entropy',splitter='best')\n",
    "classifiers['DecisionTreeClassifier 8'] = DecisionTreeClassifier(random_state=0,criterion='entropy',splitter='random')\n",
    "\n",
    "classifiers['RandomForestClassifier 1'] = RandomForestClassifier(n_estimators=100, max_depth=2, random_state=0,criterion='gini')\n",
    "classifiers['RandomForestClassifier 2'] = RandomForestClassifier(n_estimators=1000, max_depth=2, random_state=0,criterion='gini')\n",
    "classifiers['RandomForestClassifier 3'] = RandomForestClassifier(n_estimators=100, max_depth=3, random_state=0,criterion='gini')\n",
    "classifiers['RandomForestClassifier 4'] = RandomForestClassifier(n_estimators=1000, max_depth=3, random_state=0,criterion='gini')\n",
    "classifiers['RandomForestClassifier 5'] = RandomForestClassifier(n_estimators=100, max_depth=2, random_state=0,criterion='entropy')\n",
    "classifiers['RandomForestClassifier 6'] = RandomForestClassifier(n_estimators=1000, max_depth=2, random_state=0,criterion='entropy')\n",
    "classifiers['RandomForestClassifier 7'] = RandomForestClassifier(n_estimators=100, max_depth=3, random_state=0,criterion='entropy')\n",
    "classifiers['RandomForestClassifier 8'] = RandomForestClassifier(n_estimators=1000, max_depth=3, random_state=0,criterion='entropy')\n",
    "\n",
    "classifiers['GradientBoostingClassifier 1'] = GradientBoostingClassifier(n_estimators=100,random_state=0,criterion='friedman_mse',max_depth=3, learning_rate=0.1)\n",
    "classifiers['GradientBoostingClassifier 2'] = GradientBoostingClassifier(n_estimators=100,random_state=0,criterion='friedman_mse',max_depth=3, learning_rate=0.3)\n",
    "classifiers['GradientBoostingClassifier 3'] = GradientBoostingClassifier(n_estimators=100,random_state=0,criterion='friedman_mse',max_depth=3, learning_rate=0.5)\n",
    "classifiers['GradientBoostingClassifier 4'] = GradientBoostingClassifier(n_estimators=100,random_state=0,criterion='friedman_mse',max_depth=3, learning_rate=1)\n",
    "#\n",
    "classifiers['GradientBoostingClassifier 5'] = GradientBoostingClassifier(n_estimators=1000,random_state=0,criterion='friedman_mse',max_depth=3, learning_rate=0.1)\n",
    "classifiers['GradientBoostingClassifier 6'] = GradientBoostingClassifier(n_estimators=1000,random_state=0,criterion='friedman_mse',max_depth=3, learning_rate=0.3)\n",
    "classifiers['GradientBoostingClassifier 7'] = GradientBoostingClassifier(n_estimators=1000,random_state=0,criterion='friedman_mse',max_depth=3, learning_rate=0.5)\n",
    "classifiers['GradientBoostingClassifier 8'] = GradientBoostingClassifier(n_estimators=1000,random_state=0,criterion='friedman_mse',max_depth=3, learning_rate=1)\n",
    "\n",
    "classifiers['GradientBoostingClassifier 9'] = GradientBoostingClassifier(n_estimators=1000,random_state=0,criterion='friedman_mse',max_depth=2, learning_rate=0.1)\n",
    "classifiers['GradientBoostingClassifier 10'] = GradientBoostingClassifier(n_estimators=1000,random_state=0,criterion='friedman_mse',max_depth=2, learning_rate=0.3)\n",
    "classifiers['GradientBoostingClassifier 11'] = GradientBoostingClassifier(n_estimators=1000,random_state=0,criterion='friedman_mse',max_depth=2, learning_rate=0.5)\n",
    "classifiers['GradientBoostingClassifier 12'] = GradientBoostingClassifier(n_estimators=1000,random_state=0,criterion='friedman_mse',max_depth=2, learning_rate=1)"
   ],
   "metadata": {
    "collapsed": false,
    "pycharm": {
     "name": "#%%\n"
    }
   }
  },
  {
   "cell_type": "code",
   "execution_count": 307,
   "outputs": [],
   "source": [
    "def print_conf_matrix(test_y, predict, name):\n",
    "    matrix = confusion_matrix(test_y, predict,  labels=[-1, 0, 1])\n",
    "    print(matrix)\n",
    "    ax= plt.subplot()\n",
    "    sn.heatmap(matrix, annot=True, ax = ax) #annot=True to annotate cells\n",
    "\n",
    "    # labels, title and ticks\n",
    "    ax.set_xlabel('Predicted labels', color='white')\n",
    "    ax.set_ylabel('True labels', color='white')\n",
    "    ax.set_title(f'Confusion Matrix for {name}' , color='white')\n",
    "    ax.xaxis.set_ticklabels(['-1','0', '1'], color='white')\n",
    "    ax.yaxis.set_ticklabels(['-1','0', '1'], color='white')\n",
    "    plt.show()\n",
    "\n",
    "def train_model(model,train_x, train_y):\n",
    "    model.fit(train_x, train_y)"
   ],
   "metadata": {
    "collapsed": false,
    "pycharm": {
     "name": "#%%\n"
    }
   }
  },
  {
   "cell_type": "code",
   "execution_count": 308,
   "outputs": [
    {
     "name": "stdout",
     "output_type": "stream",
     "text": [
      "Calculate:  DecisionTreeClassifier 1\n",
      "Score:  0.53125\n",
      "Calculate:  DecisionTreeClassifier 2\n",
      "Score:  0.25\n",
      "Calculate:  DecisionTreeClassifier 3\n",
      "Score:  0.5\n",
      "Calculate:  DecisionTreeClassifier 4\n",
      "Score:  0.21875\n",
      "Calculate:  DecisionTreeClassifier 5\n",
      "Score:  0.46875\n",
      "Calculate:  DecisionTreeClassifier 6\n",
      "Score:  0.4375\n",
      "Calculate:  DecisionTreeClassifier 7\n",
      "Score:  0.34375\n",
      "Calculate:  DecisionTreeClassifier 8\n",
      "Score:  0.3125\n",
      "Calculate:  RandomForestClassifier 1\n",
      "Score:  0.09375\n",
      "Calculate:  RandomForestClassifier 2\n",
      "Score:  0.09375\n",
      "Calculate:  RandomForestClassifier 3\n",
      "Score:  0.09375\n",
      "Calculate:  RandomForestClassifier 4\n",
      "Score:  0.09375\n",
      "Calculate:  RandomForestClassifier 5\n",
      "Score:  0.09375\n",
      "Calculate:  RandomForestClassifier 6\n",
      "Score:  0.09375\n",
      "Calculate:  RandomForestClassifier 7\n",
      "Score:  0.09375\n",
      "Calculate:  RandomForestClassifier 8\n",
      "Score:  0.09375\n",
      "Calculate:  GradientBoostingClassifier 1\n",
      "Score:  0.625\n",
      "Calculate:  GradientBoostingClassifier 2\n",
      "Score:  0.71875\n",
      "Calculate:  GradientBoostingClassifier 3\n",
      "Score:  0.53125\n",
      "Calculate:  GradientBoostingClassifier 4\n",
      "Score:  0.59375\n",
      "Calculate:  GradientBoostingClassifier 5\n",
      "Score:  0.5625\n",
      "Calculate:  GradientBoostingClassifier 6\n",
      "Score:  0.46875\n",
      "Calculate:  GradientBoostingClassifier 7\n",
      "Score:  0.6875\n",
      "Calculate:  GradientBoostingClassifier 8\n",
      "Score:  0.625\n",
      "Calculate:  GradientBoostingClassifier 9\n",
      "Score:  0.5625\n",
      "Calculate:  GradientBoostingClassifier 10\n",
      "Score:  0.625\n",
      "Calculate:  GradientBoostingClassifier 11\n",
      "Score:  0.5625\n",
      "Calculate:  GradientBoostingClassifier 12\n",
      "Score:  0.5625\n",
      "+----+-------------------------------+------------+\n",
      "|    | Classifier type               |   Accuracy |\n",
      "|----+-------------------------------+------------|\n",
      "|  0 | DecisionTreeClassifier 1      |    0.53125 |\n",
      "|  1 | DecisionTreeClassifier 2      |    0.25    |\n",
      "|  2 | DecisionTreeClassifier 3      |    0.5     |\n",
      "|  3 | DecisionTreeClassifier 4      |    0.21875 |\n",
      "|  4 | DecisionTreeClassifier 5      |    0.46875 |\n",
      "|  5 | DecisionTreeClassifier 6      |    0.4375  |\n",
      "|  6 | DecisionTreeClassifier 7      |    0.34375 |\n",
      "|  7 | DecisionTreeClassifier 8      |    0.3125  |\n",
      "|  8 | RandomForestClassifier 1      |    0.09375 |\n",
      "|  9 | RandomForestClassifier 2      |    0.09375 |\n",
      "| 10 | RandomForestClassifier 3      |    0.09375 |\n",
      "| 11 | RandomForestClassifier 4      |    0.09375 |\n",
      "| 12 | RandomForestClassifier 5      |    0.09375 |\n",
      "| 13 | RandomForestClassifier 6      |    0.09375 |\n",
      "| 14 | RandomForestClassifier 7      |    0.09375 |\n",
      "| 15 | RandomForestClassifier 8      |    0.09375 |\n",
      "| 16 | GradientBoostingClassifier 1  |    0.625   |\n",
      "| 17 | GradientBoostingClassifier 2  |    0.71875 |\n",
      "| 18 | GradientBoostingClassifier 3  |    0.53125 |\n",
      "| 19 | GradientBoostingClassifier 4  |    0.59375 |\n",
      "| 20 | GradientBoostingClassifier 5  |    0.5625  |\n",
      "| 21 | GradientBoostingClassifier 6  |    0.46875 |\n",
      "| 22 | GradientBoostingClassifier 7  |    0.6875  |\n",
      "| 23 | GradientBoostingClassifier 8  |    0.625   |\n",
      "| 24 | GradientBoostingClassifier 9  |    0.5625  |\n",
      "| 25 | GradientBoostingClassifier 10 |    0.625   |\n",
      "| 26 | GradientBoostingClassifier 11 |    0.5625  |\n",
      "| 27 | GradientBoostingClassifier 12 |    0.5625  |\n",
      "+----+-------------------------------+------------+\n"
     ]
    }
   ],
   "source": [
    "predictions= dict()\n",
    "score = dict()\n",
    "for k,v in classifiers.items():\n",
    "    print(\"Calculate: \", k)\n",
    "    train_model(v,x_train,y_train)\n",
    "    predictions[k] = v.predict(x_test)\n",
    "    score[k] = accuracy_score(y_test.values, predictions[k])\n",
    "    print('Score: ',  score[k] )\n",
    "    # print_conf_matrix(test_y, predictions[k], k)\n",
    "\n",
    "headers = [\"Classifier type\", \"Accuracy\"]\n",
    "score_df = pd.DataFrame(score.items(), columns=headers)\n",
    "print(tabulate(score_df, headers, tablefmt=\"psql\"))"
   ],
   "metadata": {
    "collapsed": false,
    "pycharm": {
     "name": "#%%\n"
    }
   }
  },
  {
   "cell_type": "code",
   "execution_count": 309,
   "outputs": [
    {
     "name": "stdout",
     "output_type": "stream",
     "text": [
      "Score:  0.59375\n"
     ]
    }
   ],
   "source": [
    "estimators=[\n",
    "            ('GBC12', classifiers['GradientBoostingClassifier 5']),\n",
    "            ('GBC11', classifiers['GradientBoostingClassifier 9']),\n",
    "            ]\n",
    "ensemble = VotingClassifier(estimators, voting='soft')\n",
    "ensemble.fit(x_train, y_train)\n",
    "predicted = ensemble.predict(x_test)\n",
    "score_ensemble = accuracy_score(y_test.values, predicted)\n",
    "print('Score: ',  score_ensemble)"
   ],
   "metadata": {
    "collapsed": false,
    "pycharm": {
     "name": "#%%\n"
    }
   }
  },
  {
   "cell_type": "code",
   "execution_count": 310,
   "outputs": [
    {
     "name": "stdout",
     "output_type": "stream",
     "text": [
      "Score:  0.59375\n"
     ]
    }
   ],
   "source": [
    "print('Score: ',  score_ensemble)"
   ],
   "metadata": {
    "collapsed": false,
    "pycharm": {
     "name": "#%%\n"
    }
   }
  },
  {
   "cell_type": "code",
   "execution_count": 313,
   "outputs": [
    {
     "data": {
      "text/plain": "<AxesSubplot:>"
     },
     "execution_count": 313,
     "metadata": {},
     "output_type": "execute_result"
    },
    {
     "data": {
      "text/plain": "<Figure size 432x288 with 1 Axes>",
      "image/png": "[encoded data removed]"
     },
     "metadata": {
      "needs_background": "light"
     },
     "output_type": "display_data"
    }
   ],
   "source": [
    "\n",
    "pd.Series(classifiers['GradientBoostingClassifier 2'].feature_importances_).plot()"
   ],
   "metadata": {
    "collapsed": false,
    "pycharm": {
     "name": "#%%\n"
    }
   }
  },
  {
   "cell_type": "code",
   "execution_count": 314,
   "outputs": [
    {
     "data": {
      "text/plain": "array([0.03778308, 0.04894388, 0.06988464, 0.03612219, 0.25092908,\n       0.07624883, 0.03967865, 0.07556036, 0.03936572, 0.03624218,\n       0.05082695, 0.04275963, 0.08901993, 0.03263861, 0.05537018,\n       0.01862608])"
     },
     "execution_count": 314,
     "metadata": {},
     "output_type": "execute_result"
    }
   ],
   "source": [
    "classifiers['GradientBoostingClassifier 2'].feature_importances_"
   ],
   "metadata": {
    "collapsed": false,
    "pycharm": {
     "name": "#%%\n"
    }
   }
  },
  {
   "cell_type": "code",
   "execution_count": 312,
   "outputs": [],
   "source": [],
   "metadata": {
    "collapsed": false,
    "pycharm": {
     "name": "#%%\n"
    }
   }
  }
 ],
 "metadata": {
  "kernelspec": {
   "name": "magisterka_analiza",
   "language": "python",
   "display_name": "Python magisterka"
  },
  "language_info": {
   "codemirror_mode": {
    "name": "ipython",
    "version": 2
   },
   "file_extension": ".py",
   "mimetype": "text/x-python",
   "name": "python",
   "nbconvert_exporter": "python",
   "pygments_lexer": "ipython2",
   "version": "2.7.6"
  }
 },
 "nbformat": 4,
 "nbformat_minor": 0
}