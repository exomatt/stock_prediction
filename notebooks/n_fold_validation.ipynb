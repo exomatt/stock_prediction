{
 "cells": [
  {
   "cell_type": "code",
   "execution_count": 6,
   "metadata": {
    "collapsed": true
   },
   "outputs": [],
   "source": [
    "from collections import defaultdict\n",
    "\n",
    "import matplotlib.pyplot as plt\n",
    "import pandas as pd\n",
    "import seaborn as sn\n",
    "import yfinance as yf\n",
    "from finta import TA\n",
    "from sklearn.ensemble import RandomForestClassifier, GradientBoostingClassifier\n",
    "from sklearn.model_selection import train_test_split\n",
    "from sklearn.metrics import confusion_matrix, classification_report,accuracy_score\n",
    "from sklearn.tree import DecisionTreeClassifier\n",
    "from tabulate import tabulate"
   ]
  },
  {
   "cell_type": "code",
   "execution_count": 7,
   "outputs": [],
   "source": [
    "WINDOW = 16 # number of rows to look ahead to see what the price did\n",
    "FETCH_INTERVAL = \"60m\"  # fetch data by interval (including intraday if period < 60 days)\n",
    "        # valid intervals: 1m,2m,5m,15m,30m,60m,90m,1h,1d,5d,1wk,1mo,3mo\n",
    "        # (optional, default is '1d')\n",
    "INTERVAL = '1y'     # use \"period\" instead of start/end\n",
    "        # valid periods: 1d,5d,1mo,3mo,6mo,1y,2y,5y,10y,ytd,max\n",
    "        # (optional, default is '1mo')\n",
    "symbol = 'FB'      # Symbol of the desired stock\n",
    "# INDICATORS = ['RSI', 'MACD', 'STOCH','ADL', 'ATR', 'MOM', 'MFI', 'ROC', 'CCI', 'VORTEX']\n",
    "INDICATORS = ['RSI', 'MACD', 'STOCH','ADL', 'ATR', 'MOM', 'MFI', 'ROC', 'OBV', 'CCI', 'VORTEX']"
   ],
   "metadata": {
    "collapsed": false,
    "pycharm": {
     "name": "#%%\n"
    }
   }
  },
  {
   "cell_type": "code",
   "execution_count": 8,
   "outputs": [
    {
     "name": "stdout",
     "output_type": "stream",
     "text": [
      "[*********************100%***********************]  1 of 1 completed\n"
     ]
    },
    {
     "data": {
      "text/plain": "                                 Open        High         Low       Close  \\\nDatetime                                                                    \n2020-03-02 04:00:00-05:00  195.500000  196.210000  194.720000  195.900000   \n2020-03-02 05:00:00-05:00  195.000000  195.000000  193.300000  193.690000   \n2020-03-02 06:00:00-05:00  193.840000  194.940000  192.000000  192.160000   \n2020-03-02 07:00:00-05:00  191.600000  191.850000  189.080000  191.750000   \n2020-03-02 08:00:00-05:00  191.750000  192.480000  190.900000  191.150000   \n...                               ...         ...         ...         ...   \n2021-03-01 13:30:00-05:00  261.700012  265.200012  261.649994  265.199005   \n2021-03-01 14:30:00-05:00  265.179993  266.649994  264.989990  265.859985   \n2021-03-01 15:30:00-05:00  265.880005  266.089996  264.079987  264.390015   \n2021-03-01 16:00:00-05:00  264.910000  266.294000  263.950000  265.450000   \n2021-03-01 17:00:00-05:00  265.460000  265.740000  265.250000  265.375000   \n\n                            Adj Close   Volume  \nDatetime                                        \n2020-03-02 04:00:00-05:00  195.900000        0  \n2020-03-02 05:00:00-05:00  193.690000        0  \n2020-03-02 06:00:00-05:00  192.160000        0  \n2020-03-02 07:00:00-05:00  191.750000        0  \n2020-03-02 08:00:00-05:00  191.150000        0  \n...                               ...      ...  \n2021-03-01 13:30:00-05:00  265.199005  1578806  \n2021-03-01 14:30:00-05:00  265.859985  2166753  \n2021-03-01 15:30:00-05:00  264.390015  3050263  \n2021-03-01 16:00:00-05:00  265.450000  1767434  \n2021-03-01 17:00:00-05:00  265.375000        0  \n\n[4134 rows x 6 columns]",
      "text/html": "<div>\n<style scoped>\n    .dataframe tbody tr th:only-of-type {\n        vertical-align: middle;\n    }\n\n    .dataframe tbody tr th {\n        vertical-align: top;\n    }\n\n    .dataframe thead th {\n        text-align: right;\n    }\n</style>\n<table border=\"1\" class=\"dataframe\">\n  <thead>\n    <tr style=\"text-align: right;\">\n      <th></th>\n      <th>Open</th>\n      <th>High</th>\n      <th>Low</th>\n      <th>Close</th>\n      <th>Adj Close</th>\n      <th>Volume</th>\n    </tr>\n    <tr>\n      <th>Datetime</th>\n      <th></th>\n      <th></th>\n      <th></th>\n      <th></th>\n      <th></th>\n      <th></th>\n    </tr>\n  </thead>\n  <tbody>\n    <tr>\n      <th>2020-03-02 04:00:00-05:00</th>\n      <td>195.500000</td>\n      <td>196.210000</td>\n      <td>194.720000</td>\n      <td>195.900000</td>\n      <td>195.900000</td>\n      <td>0</td>\n    </tr>\n    <tr>\n      <th>2020-03-02 05:00:00-05:00</th>\n      <td>195.000000</td>\n      <td>195.000000</td>\n      <td>193.300000</td>\n      <td>193.690000</td>\n      <td>193.690000</td>\n      <td>0</td>\n    </tr>\n    <tr>\n      <th>2020-03-02 06:00:00-05:00</th>\n      <td>193.840000</td>\n      <td>194.940000</td>\n      <td>192.000000</td>\n      <td>192.160000</td>\n      <td>192.160000</td>\n      <td>0</td>\n    </tr>\n    <tr>\n      <th>2020-03-02 07:00:00-05:00</th>\n      <td>191.600000</td>\n      <td>191.850000</td>\n      <td>189.080000</td>\n      <td>191.750000</td>\n      <td>191.750000</td>\n      <td>0</td>\n    </tr>\n    <tr>\n      <th>2020-03-02 08:00:00-05:00</th>\n      <td>191.750000</td>\n      <td>192.480000</td>\n      <td>190.900000</td>\n      <td>191.150000</td>\n      <td>191.150000</td>\n      <td>0</td>\n    </tr>\n    <tr>\n      <th>...</th>\n      <td>...</td>\n      <td>...</td>\n      <td>...</td>\n      <td>...</td>\n      <td>...</td>\n      <td>...</td>\n    </tr>\n    <tr>\n      <th>2021-03-01 13:30:00-05:00</th>\n      <td>261.700012</td>\n      <td>265.200012</td>\n      <td>261.649994</td>\n      <td>265.199005</td>\n      <td>265.199005</td>\n      <td>1578806</td>\n    </tr>\n    <tr>\n      <th>2021-03-01 14:30:00-05:00</th>\n      <td>265.179993</td>\n      <td>266.649994</td>\n      <td>264.989990</td>\n      <td>265.859985</td>\n      <td>265.859985</td>\n      <td>2166753</td>\n    </tr>\n    <tr>\n      <th>2021-03-01 15:30:00-05:00</th>\n      <td>265.880005</td>\n      <td>266.089996</td>\n      <td>264.079987</td>\n      <td>264.390015</td>\n      <td>264.390015</td>\n      <td>3050263</td>\n    </tr>\n    <tr>\n      <th>2021-03-01 16:00:00-05:00</th>\n      <td>264.910000</td>\n      <td>266.294000</td>\n      <td>263.950000</td>\n      <td>265.450000</td>\n      <td>265.450000</td>\n      <td>1767434</td>\n    </tr>\n    <tr>\n      <th>2021-03-01 17:00:00-05:00</th>\n      <td>265.460000</td>\n      <td>265.740000</td>\n      <td>265.250000</td>\n      <td>265.375000</td>\n      <td>265.375000</td>\n      <td>0</td>\n    </tr>\n  </tbody>\n</table>\n<p>4134 rows × 6 columns</p>\n</div>"
     },
     "execution_count": 8,
     "metadata": {},
     "output_type": "execute_result"
    }
   ],
   "source": [
    "data = yf.download(  # or pdr.get_data_yahoo(...\n",
    "        tickers = symbol,\n",
    "\n",
    "\n",
    "        period = INTERVAL,\n",
    "\n",
    "        interval = FETCH_INTERVAL,\n",
    "\n",
    "        # group by ticker (to access via data['SPY'])\n",
    "        # (optional, default is 'column')\n",
    "        group_by = 'ticker',\n",
    "\n",
    "        # adjust all OHLC automatically\n",
    "        # (optional, default is False)\n",
    "        # auto_adjust = True,\n",
    "\n",
    "        # download pre/post regular market hours data\n",
    "        # (optional, default is False)\n",
    "        prepost = True,\n",
    "\n",
    "        # use threads for mass downloading? (True/False/Integer)\n",
    "        # (optional, default is True)\n",
    "        threads = True,\n",
    "\n",
    "        # proxy URL scheme use use when downloading?\n",
    "        # (optional, default is None)\n",
    "        proxy = None\n",
    "    )\n",
    "data"
   ],
   "metadata": {
    "collapsed": false,
    "pycharm": {
     "name": "#%%\n"
    }
   }
  },
  {
   "cell_type": "code",
   "execution_count": 9,
   "outputs": [
    {
     "data": {
      "text/plain": "                                 Open        High         Low       Close  \\\nDatetime                                                                    \n2020-03-02 04:00:00-05:00  195.500000  196.210000  194.720000  195.900000   \n2020-03-02 05:00:00-05:00  195.000000  195.000000  193.300000  193.690000   \n2020-03-02 06:00:00-05:00  193.840000  194.940000  192.000000  192.160000   \n2020-03-02 07:00:00-05:00  191.600000  191.850000  189.080000  191.750000   \n2020-03-02 08:00:00-05:00  191.750000  192.480000  190.900000  191.150000   \n2020-03-02 09:00:00-05:00  191.180000  195.000000  191.150000  193.850000   \n2020-03-02 09:30:00-05:00  194.029999  194.550003  189.070007  189.669998   \n2020-03-02 10:30:00-05:00  189.619995  193.130005  188.850006  193.009995   \n2020-03-02 11:30:00-05:00  193.029999  194.059998  191.236099  191.779999   \n\n                            Adj Close   Volume  \nDatetime                                        \n2020-03-02 04:00:00-05:00  195.900000        0  \n2020-03-02 05:00:00-05:00  193.690000        0  \n2020-03-02 06:00:00-05:00  192.160000        0  \n2020-03-02 07:00:00-05:00  191.750000        0  \n2020-03-02 08:00:00-05:00  191.150000        0  \n2020-03-02 09:00:00-05:00  193.850000        0  \n2020-03-02 09:30:00-05:00  189.669998  5263019  \n2020-03-02 10:30:00-05:00  193.009995  3886343  \n2020-03-02 11:30:00-05:00  191.779999  2768109  ",
      "text/html": "<div>\n<style scoped>\n    .dataframe tbody tr th:only-of-type {\n        vertical-align: middle;\n    }\n\n    .dataframe tbody tr th {\n        vertical-align: top;\n    }\n\n    .dataframe thead th {\n        text-align: right;\n    }\n</style>\n<table border=\"1\" class=\"dataframe\">\n  <thead>\n    <tr style=\"text-align: right;\">\n      <th></th>\n      <th>Open</th>\n      <th>High</th>\n      <th>Low</th>\n      <th>Close</th>\n      <th>Adj Close</th>\n      <th>Volume</th>\n    </tr>\n    <tr>\n      <th>Datetime</th>\n      <th></th>\n      <th></th>\n      <th></th>\n      <th></th>\n      <th></th>\n      <th></th>\n    </tr>\n  </thead>\n  <tbody>\n    <tr>\n      <th>2020-03-02 04:00:00-05:00</th>\n      <td>195.500000</td>\n      <td>196.210000</td>\n      <td>194.720000</td>\n      <td>195.900000</td>\n      <td>195.900000</td>\n      <td>0</td>\n    </tr>\n    <tr>\n      <th>2020-03-02 05:00:00-05:00</th>\n      <td>195.000000</td>\n      <td>195.000000</td>\n      <td>193.300000</td>\n      <td>193.690000</td>\n      <td>193.690000</td>\n      <td>0</td>\n    </tr>\n    <tr>\n      <th>2020-03-02 06:00:00-05:00</th>\n      <td>193.840000</td>\n      <td>194.940000</td>\n      <td>192.000000</td>\n      <td>192.160000</td>\n      <td>192.160000</td>\n      <td>0</td>\n    </tr>\n    <tr>\n      <th>2020-03-02 07:00:00-05:00</th>\n      <td>191.600000</td>\n      <td>191.850000</td>\n      <td>189.080000</td>\n      <td>191.750000</td>\n      <td>191.750000</td>\n      <td>0</td>\n    </tr>\n    <tr>\n      <th>2020-03-02 08:00:00-05:00</th>\n      <td>191.750000</td>\n      <td>192.480000</td>\n      <td>190.900000</td>\n      <td>191.150000</td>\n      <td>191.150000</td>\n      <td>0</td>\n    </tr>\n    <tr>\n      <th>2020-03-02 09:00:00-05:00</th>\n      <td>191.180000</td>\n      <td>195.000000</td>\n      <td>191.150000</td>\n      <td>193.850000</td>\n      <td>193.850000</td>\n      <td>0</td>\n    </tr>\n    <tr>\n      <th>2020-03-02 09:30:00-05:00</th>\n      <td>194.029999</td>\n      <td>194.550003</td>\n      <td>189.070007</td>\n      <td>189.669998</td>\n      <td>189.669998</td>\n      <td>5263019</td>\n    </tr>\n    <tr>\n      <th>2020-03-02 10:30:00-05:00</th>\n      <td>189.619995</td>\n      <td>193.130005</td>\n      <td>188.850006</td>\n      <td>193.009995</td>\n      <td>193.009995</td>\n      <td>3886343</td>\n    </tr>\n    <tr>\n      <th>2020-03-02 11:30:00-05:00</th>\n      <td>193.029999</td>\n      <td>194.059998</td>\n      <td>191.236099</td>\n      <td>191.779999</td>\n      <td>191.779999</td>\n      <td>2768109</td>\n    </tr>\n  </tbody>\n</table>\n</div>"
     },
     "execution_count": 9,
     "metadata": {},
     "output_type": "execute_result"
    }
   ],
   "source": [
    "data.head(9)"
   ],
   "metadata": {
    "collapsed": false,
    "pycharm": {
     "name": "#%%\n"
    }
   }
  },
  {
   "cell_type": "code",
   "execution_count": 388,
   "outputs": [
    {
     "data": {
      "text/plain": "                                 open        high         low       close  \\\nDatetime                                                                    \n2020-03-02 04:00:00-05:00  195.500000  196.210000  194.720000  195.900000   \n2020-03-02 05:00:00-05:00  195.000000  195.000000  193.300000  193.690000   \n2020-03-02 06:00:00-05:00  193.840000  194.940000  192.000000  192.160000   \n2020-03-02 07:00:00-05:00  191.600000  191.850000  189.080000  191.750000   \n2020-03-02 08:00:00-05:00  191.750000  192.480000  190.900000  191.150000   \n2020-03-02 09:00:00-05:00  191.180000  195.000000  191.150000  193.850000   \n2020-03-02 09:30:00-05:00  194.029999  194.550003  189.070007  189.669998   \n2020-03-02 10:30:00-05:00  189.619995  193.130005  188.850006  193.009995   \n2020-03-02 11:30:00-05:00  193.029999  194.059998  191.236099  191.779999   \n2020-03-02 12:30:00-05:00  191.815002  192.800003  190.759995  191.070007   \n\n                            Adj Close   volume  \nDatetime                                        \n2020-03-02 04:00:00-05:00  195.900000        0  \n2020-03-02 05:00:00-05:00  193.690000        0  \n2020-03-02 06:00:00-05:00  192.160000        0  \n2020-03-02 07:00:00-05:00  191.750000        0  \n2020-03-02 08:00:00-05:00  191.150000        0  \n2020-03-02 09:00:00-05:00  193.850000        0  \n2020-03-02 09:30:00-05:00  189.669998  5263019  \n2020-03-02 10:30:00-05:00  193.009995  3886343  \n2020-03-02 11:30:00-05:00  191.779999  2768109  \n2020-03-02 12:30:00-05:00  191.070007  2505046  ",
      "text/html": "<div>\n<style scoped>\n    .dataframe tbody tr th:only-of-type {\n        vertical-align: middle;\n    }\n\n    .dataframe tbody tr th {\n        vertical-align: top;\n    }\n\n    .dataframe thead th {\n        text-align: right;\n    }\n</style>\n<table border=\"1\" class=\"dataframe\">\n  <thead>\n    <tr style=\"text-align: right;\">\n      <th></th>\n      <th>open</th>\n      <th>high</th>\n      <th>low</th>\n      <th>close</th>\n      <th>Adj Close</th>\n      <th>volume</th>\n    </tr>\n    <tr>\n      <th>Datetime</th>\n      <th></th>\n      <th></th>\n      <th></th>\n      <th></th>\n      <th></th>\n      <th></th>\n    </tr>\n  </thead>\n  <tbody>\n    <tr>\n      <th>2020-03-02 04:00:00-05:00</th>\n      <td>195.500000</td>\n      <td>196.210000</td>\n      <td>194.720000</td>\n      <td>195.900000</td>\n      <td>195.900000</td>\n      <td>0</td>\n    </tr>\n    <tr>\n      <th>2020-03-02 05:00:00-05:00</th>\n      <td>195.000000</td>\n      <td>195.000000</td>\n      <td>193.300000</td>\n      <td>193.690000</td>\n      <td>193.690000</td>\n      <td>0</td>\n    </tr>\n    <tr>\n      <th>2020-03-02 06:00:00-05:00</th>\n      <td>193.840000</td>\n      <td>194.940000</td>\n      <td>192.000000</td>\n      <td>192.160000</td>\n      <td>192.160000</td>\n      <td>0</td>\n    </tr>\n    <tr>\n      <th>2020-03-02 07:00:00-05:00</th>\n      <td>191.600000</td>\n      <td>191.850000</td>\n      <td>189.080000</td>\n      <td>191.750000</td>\n      <td>191.750000</td>\n      <td>0</td>\n    </tr>\n    <tr>\n      <th>2020-03-02 08:00:00-05:00</th>\n      <td>191.750000</td>\n      <td>192.480000</td>\n      <td>190.900000</td>\n      <td>191.150000</td>\n      <td>191.150000</td>\n      <td>0</td>\n    </tr>\n    <tr>\n      <th>2020-03-02 09:00:00-05:00</th>\n      <td>191.180000</td>\n      <td>195.000000</td>\n      <td>191.150000</td>\n      <td>193.850000</td>\n      <td>193.850000</td>\n      <td>0</td>\n    </tr>\n    <tr>\n      <th>2020-03-02 09:30:00-05:00</th>\n      <td>194.029999</td>\n      <td>194.550003</td>\n      <td>189.070007</td>\n      <td>189.669998</td>\n      <td>189.669998</td>\n      <td>5263019</td>\n    </tr>\n    <tr>\n      <th>2020-03-02 10:30:00-05:00</th>\n      <td>189.619995</td>\n      <td>193.130005</td>\n      <td>188.850006</td>\n      <td>193.009995</td>\n      <td>193.009995</td>\n      <td>3886343</td>\n    </tr>\n    <tr>\n      <th>2020-03-02 11:30:00-05:00</th>\n      <td>193.029999</td>\n      <td>194.059998</td>\n      <td>191.236099</td>\n      <td>191.779999</td>\n      <td>191.779999</td>\n      <td>2768109</td>\n    </tr>\n    <tr>\n      <th>2020-03-02 12:30:00-05:00</th>\n      <td>191.815002</td>\n      <td>192.800003</td>\n      <td>190.759995</td>\n      <td>191.070007</td>\n      <td>191.070007</td>\n      <td>2505046</td>\n    </tr>\n  </tbody>\n</table>\n</div>"
     },
     "execution_count": 388,
     "metadata": {},
     "output_type": "execute_result"
    }
   ],
   "source": [
    "data.rename(columns={\"Close\": 'close', \"High\": 'high', \"Low\": 'low', 'Volume': 'volume', 'Open': 'open'}, inplace=True)\n",
    "data.head(10)"
   ],
   "metadata": {
    "collapsed": false,
    "pycharm": {
     "name": "#%%\n"
    }
   }
  },
  {
   "cell_type": "code",
   "execution_count": 389,
   "outputs": [
    {
     "data": {
      "text/plain": "<AxesSubplot:xlabel='Datetime'>"
     },
     "execution_count": 389,
     "metadata": {},
     "output_type": "execute_result"
    },
    {
     "data": {
      "text/plain": "<Figure size 432x288 with 1 Axes>",
      "image/png": "[encoded data removed]"
     },
     "metadata": {
      "needs_background": "light"
     },
     "output_type": "display_data"
    }
   ],
   "source": [
    "data['close'].plot()"
   ],
   "metadata": {
    "collapsed": false,
    "pycharm": {
     "name": "#%%\n"
    }
   }
  },
  {
   "cell_type": "code",
   "execution_count": 390,
   "outputs": [],
   "source": [
    "def _get_indicator_data(data):\n",
    "    \"\"\"\n",
    "    Function that uses the finta API to calculate technical indicators used as the features\n",
    "    :return:\n",
    "    \"\"\"\n",
    "\n",
    "    for indicator in INDICATORS:\n",
    "        ind_data = eval('TA.' + indicator + '(data)')\n",
    "        if not isinstance(ind_data, pd.DataFrame):\n",
    "            ind_data = ind_data.to_frame()\n",
    "        data = pd.concat([data, ind_data], axis=1)\n",
    "    # data.rename(columns={\"14 period EMV.\": '14 period EMV'}, inplace=True)\n",
    "\n",
    "    # Also calculate moving averages for features\n",
    "    data['ema50'] = data['close'] / data['close'].ewm(50).mean()\n",
    "    data['ema21'] = data['close'] / data['close'].ewm(21).mean()\n",
    "    # data['ema15'] = data['close'] / data['close'].ewm(ROWS_TO_PREDICT).mean()\n",
    "    data['ema5'] = data['close'] / data['close'].ewm(5).mean()\n",
    "\n",
    "    # Instead of using the actual volume value (which changes over time), we normalize it with a moving volume average\n",
    "    # data['normVol'] = data['volume'] / data['volume'].ewm(5).mean()\n",
    "\n",
    "    # Remove columns that won't be used as features\n",
    "    del (data['open'])\n",
    "    del (data['high'])\n",
    "    del (data['low'])\n",
    "    del (data['volume'])\n",
    "    del (data['Adj Close'])\n",
    "\n",
    "    return data\n",
    "\n",
    "data = _get_indicator_data(data)"
   ],
   "metadata": {
    "collapsed": false,
    "pycharm": {
     "name": "#%%\n"
    }
   }
  },
  {
   "cell_type": "code",
   "execution_count": 391,
   "outputs": [
    {
     "data": {
      "text/plain": "                                close  14 period RSI      MACD    SIGNAL  \\\nDatetime                                                                   \n2020-03-02 04:00:00-05:00  195.900000            NaN  0.000000  0.000000   \n2020-03-02 05:00:00-05:00  193.690000       0.000000 -0.049583 -0.027546   \n2020-03-02 06:00:00-05:00  192.160000       0.000000 -0.110624 -0.061595   \n2020-03-02 07:00:00-05:00  191.750000       0.000000 -0.150479 -0.091704   \n2020-03-02 08:00:00-05:00  191.150000       0.000000 -0.192842 -0.121791   \n...                               ...            ...       ...       ...   \n2021-03-01 12:30:00-05:00  261.730011      56.173487  0.560820  0.343253   \n2021-03-01 13:30:00-05:00  265.199005      65.664827  0.873983  0.449399   \n2021-03-01 14:30:00-05:00  265.859985      67.125714  1.162106  0.591941   \n2021-03-01 15:30:00-05:00  264.910004      62.978279  1.298818  0.733316   \n2021-03-01 16:00:00-05:00  264.810000      62.540217  1.383150  0.863283   \n\n                           14 period STOCH %K           MFV  14 period ATR  \\\nDatetime                                                                     \n2020-03-02 04:00:00-05:00                 NaN  0.000000e+00            NaN   \n2020-03-02 05:00:00-05:00                 NaN  0.000000e+00            NaN   \n2020-03-02 06:00:00-05:00                 NaN  0.000000e+00            NaN   \n2020-03-02 07:00:00-05:00                 NaN  0.000000e+00            NaN   \n2020-03-02 08:00:00-05:00                 NaN  0.000000e+00            NaN   \n...                                       ...           ...            ...   \n2021-03-01 12:30:00-05:00           82.285753  7.177859e+09       4.179577   \n2021-03-01 13:30:00-05:00           97.909762  7.183462e+09       3.888864   \n2021-03-01 14:30:00-05:00           96.593302  7.184316e+09       3.570293   \n2021-03-01 15:30:00-05:00           81.489454  7.184991e+09       2.127938   \n2021-03-01 16:00:00-05:00           79.623531  7.184991e+09       2.156510   \n\n                                MOM  14 period MFI       ROC          OBV  \\\nDatetime                                                                    \n2020-03-02 04:00:00-05:00       NaN            NaN       NaN          NaN   \n2020-03-02 05:00:00-05:00       NaN            NaN       NaN          0.0   \n2020-03-02 06:00:00-05:00       NaN            NaN       NaN          0.0   \n2020-03-02 07:00:00-05:00       NaN            NaN       NaN          0.0   \n2020-03-02 08:00:00-05:00       NaN            NaN       NaN          0.0   \n...                             ...            ...       ...          ...   \n2021-03-01 12:30:00-05:00  4.240011      37.342726  1.642723  115471977.0   \n2021-03-01 13:30:00-05:00  4.009005      56.825789  2.969911  117050783.0   \n2021-03-01 14:30:00-05:00  4.419985      62.660497  3.250606  119217536.0   \n2021-03-01 15:30:00-05:00  4.710004      53.428453  1.424252  116438720.0   \n2021-03-01 16:00:00-05:00  4.060000      53.428453  1.289015  116438720.0   \n\n                           20 period CCI       VIm       VIp     ema50  \\\nDatetime                                                                 \n2020-03-02 04:00:00-05:00            NaN       NaN       NaN  1.000000   \n2020-03-02 05:00:00-05:00     -66.666667       NaN       NaN  0.994383   \n2020-03-02 06:00:00-05:00     -84.486874       NaN       NaN  0.991067   \n2020-03-02 07:00:00-05:00    -116.901408       NaN       NaN  0.991774   \n2020-03-02 08:00:00-05:00     -69.113940       NaN       NaN  0.991006   \n...                                  ...       ...       ...       ...   \n2021-03-01 12:30:00-05:00      34.611490  1.088525  0.910620  0.999195   \n2021-03-01 13:30:00-05:00     123.716942  1.036919  1.020571  1.012192   \n2021-03-01 14:30:00-05:00     166.662039  0.976193  1.094230  1.014422   \n2021-03-01 15:30:00-05:00     132.460609  1.074287  1.571977  1.010583   \n2021-03-01 16:00:00-05:00     116.090651  0.852275  1.103342  1.010000   \n\n                              ema21      ema5  \nDatetime                                       \n2020-03-02 04:00:00-05:00  1.000000  1.000000  \n2020-03-02 05:00:00-05:00  0.994459  0.994840  \n2020-03-02 06:00:00-05:00  0.991237  0.992091  \n2020-03-02 07:00:00-05:00  0.992011  0.993180  \n2020-03-02 08:00:00-05:00  0.991315  0.992819  \n...                             ...       ...  \n2021-03-01 12:30:00-05:00  1.005551  1.003477  \n2021-03-01 13:30:00-05:00  1.018005  1.013942  \n2021-03-01 14:30:00-05:00  1.019591  1.013687  \n2021-03-01 15:30:00-05:00  1.015212  1.008373  \n2021-03-01 16:00:00-05:00  1.014145  1.006652  \n\n[4133 rows x 17 columns]",
      "text/html": "<div>\n<style scoped>\n    .dataframe tbody tr th:only-of-type {\n        vertical-align: middle;\n    }\n\n    .dataframe tbody tr th {\n        vertical-align: top;\n    }\n\n    .dataframe thead th {\n        text-align: right;\n    }\n</style>\n<table border=\"1\" class=\"dataframe\">\n  <thead>\n    <tr style=\"text-align: right;\">\n      <th></th>\n      <th>close</th>\n      <th>14 period RSI</th>\n      <th>MACD</th>\n      <th>SIGNAL</th>\n      <th>14 period STOCH %K</th>\n      <th>MFV</th>\n      <th>14 period ATR</th>\n      <th>MOM</th>\n      <th>14 period MFI</th>\n      <th>ROC</th>\n      <th>OBV</th>\n      <th>20 period CCI</th>\n      <th>VIm</th>\n      <th>VIp</th>\n      <th>ema50</th>\n      <th>ema21</th>\n      <th>ema5</th>\n    </tr>\n    <tr>\n      <th>Datetime</th>\n      <th></th>\n      <th></th>\n      <th></th>\n      <th></th>\n      <th></th>\n      <th></th>\n      <th></th>\n      <th></th>\n      <th></th>\n      <th></th>\n      <th></th>\n      <th></th>\n      <th></th>\n      <th></th>\n      <th></th>\n      <th></th>\n      <th></th>\n    </tr>\n  </thead>\n  <tbody>\n    <tr>\n      <th>2020-03-02 04:00:00-05:00</th>\n      <td>195.900000</td>\n      <td>NaN</td>\n      <td>0.000000</td>\n      <td>0.000000</td>\n      <td>NaN</td>\n      <td>0.000000e+00</td>\n      <td>NaN</td>\n      <td>NaN</td>\n      <td>NaN</td>\n      <td>NaN</td>\n      <td>NaN</td>\n      <td>NaN</td>\n      <td>NaN</td>\n      <td>NaN</td>\n      <td>1.000000</td>\n      <td>1.000000</td>\n      <td>1.000000</td>\n    </tr>\n    <tr>\n      <th>2020-03-02 05:00:00-05:00</th>\n      <td>193.690000</td>\n      <td>0.000000</td>\n      <td>-0.049583</td>\n      <td>-0.027546</td>\n      <td>NaN</td>\n      <td>0.000000e+00</td>\n      <td>NaN</td>\n      <td>NaN</td>\n      <td>NaN</td>\n      <td>NaN</td>\n      <td>0.0</td>\n      <td>-66.666667</td>\n      <td>NaN</td>\n      <td>NaN</td>\n      <td>0.994383</td>\n      <td>0.994459</td>\n      <td>0.994840</td>\n    </tr>\n    <tr>\n      <th>2020-03-02 06:00:00-05:00</th>\n      <td>192.160000</td>\n      <td>0.000000</td>\n      <td>-0.110624</td>\n      <td>-0.061595</td>\n      <td>NaN</td>\n      <td>0.000000e+00</td>\n      <td>NaN</td>\n      <td>NaN</td>\n      <td>NaN</td>\n      <td>NaN</td>\n      <td>0.0</td>\n      <td>-84.486874</td>\n      <td>NaN</td>\n      <td>NaN</td>\n      <td>0.991067</td>\n      <td>0.991237</td>\n      <td>0.992091</td>\n    </tr>\n    <tr>\n      <th>2020-03-02 07:00:00-05:00</th>\n      <td>191.750000</td>\n      <td>0.000000</td>\n      <td>-0.150479</td>\n      <td>-0.091704</td>\n      <td>NaN</td>\n      <td>0.000000e+00</td>\n      <td>NaN</td>\n      <td>NaN</td>\n      <td>NaN</td>\n      <td>NaN</td>\n      <td>0.0</td>\n      <td>-116.901408</td>\n      <td>NaN</td>\n      <td>NaN</td>\n      <td>0.991774</td>\n      <td>0.992011</td>\n      <td>0.993180</td>\n    </tr>\n    <tr>\n      <th>2020-03-02 08:00:00-05:00</th>\n      <td>191.150000</td>\n      <td>0.000000</td>\n      <td>-0.192842</td>\n      <td>-0.121791</td>\n      <td>NaN</td>\n      <td>0.000000e+00</td>\n      <td>NaN</td>\n      <td>NaN</td>\n      <td>NaN</td>\n      <td>NaN</td>\n      <td>0.0</td>\n      <td>-69.113940</td>\n      <td>NaN</td>\n      <td>NaN</td>\n      <td>0.991006</td>\n      <td>0.991315</td>\n      <td>0.992819</td>\n    </tr>\n    <tr>\n      <th>...</th>\n      <td>...</td>\n      <td>...</td>\n      <td>...</td>\n      <td>...</td>\n      <td>...</td>\n      <td>...</td>\n      <td>...</td>\n      <td>...</td>\n      <td>...</td>\n      <td>...</td>\n      <td>...</td>\n      <td>...</td>\n      <td>...</td>\n      <td>...</td>\n      <td>...</td>\n      <td>...</td>\n      <td>...</td>\n    </tr>\n    <tr>\n      <th>2021-03-01 12:30:00-05:00</th>\n      <td>261.730011</td>\n      <td>56.173487</td>\n      <td>0.560820</td>\n      <td>0.343253</td>\n      <td>82.285753</td>\n      <td>7.177859e+09</td>\n      <td>4.179577</td>\n      <td>4.240011</td>\n      <td>37.342726</td>\n      <td>1.642723</td>\n      <td>115471977.0</td>\n      <td>34.611490</td>\n      <td>1.088525</td>\n      <td>0.910620</td>\n      <td>0.999195</td>\n      <td>1.005551</td>\n      <td>1.003477</td>\n    </tr>\n    <tr>\n      <th>2021-03-01 13:30:00-05:00</th>\n      <td>265.199005</td>\n      <td>65.664827</td>\n      <td>0.873983</td>\n      <td>0.449399</td>\n      <td>97.909762</td>\n      <td>7.183462e+09</td>\n      <td>3.888864</td>\n      <td>4.009005</td>\n      <td>56.825789</td>\n      <td>2.969911</td>\n      <td>117050783.0</td>\n      <td>123.716942</td>\n      <td>1.036919</td>\n      <td>1.020571</td>\n      <td>1.012192</td>\n      <td>1.018005</td>\n      <td>1.013942</td>\n    </tr>\n    <tr>\n      <th>2021-03-01 14:30:00-05:00</th>\n      <td>265.859985</td>\n      <td>67.125714</td>\n      <td>1.162106</td>\n      <td>0.591941</td>\n      <td>96.593302</td>\n      <td>7.184316e+09</td>\n      <td>3.570293</td>\n      <td>4.419985</td>\n      <td>62.660497</td>\n      <td>3.250606</td>\n      <td>119217536.0</td>\n      <td>166.662039</td>\n      <td>0.976193</td>\n      <td>1.094230</td>\n      <td>1.014422</td>\n      <td>1.019591</td>\n      <td>1.013687</td>\n    </tr>\n    <tr>\n      <th>2021-03-01 15:30:00-05:00</th>\n      <td>264.910004</td>\n      <td>62.978279</td>\n      <td>1.298818</td>\n      <td>0.733316</td>\n      <td>81.489454</td>\n      <td>7.184991e+09</td>\n      <td>2.127938</td>\n      <td>4.710004</td>\n      <td>53.428453</td>\n      <td>1.424252</td>\n      <td>116438720.0</td>\n      <td>132.460609</td>\n      <td>1.074287</td>\n      <td>1.571977</td>\n      <td>1.010583</td>\n      <td>1.015212</td>\n      <td>1.008373</td>\n    </tr>\n    <tr>\n      <th>2021-03-01 16:00:00-05:00</th>\n      <td>264.810000</td>\n      <td>62.540217</td>\n      <td>1.383150</td>\n      <td>0.863283</td>\n      <td>79.623531</td>\n      <td>7.184991e+09</td>\n      <td>2.156510</td>\n      <td>4.060000</td>\n      <td>53.428453</td>\n      <td>1.289015</td>\n      <td>116438720.0</td>\n      <td>116.090651</td>\n      <td>0.852275</td>\n      <td>1.103342</td>\n      <td>1.010000</td>\n      <td>1.014145</td>\n      <td>1.006652</td>\n    </tr>\n  </tbody>\n</table>\n<p>4133 rows × 17 columns</p>\n</div>"
     },
     "execution_count": 391,
     "metadata": {},
     "output_type": "execute_result"
    }
   ],
   "source": [
    "data"
   ],
   "metadata": {
    "collapsed": false,
    "pycharm": {
     "name": "#%%\n"
    }
   }
  },
  {
   "cell_type": "code",
   "execution_count": 392,
   "outputs": [
    {
     "data": {
      "text/plain": "Index(['close', '14 period RSI', 'MACD', 'SIGNAL', '14 period STOCH %K', 'MFV',\n       '14 period ATR', 'MOM', '14 period MFI', 'ROC', 'OBV', '20 period CCI',\n       'VIm', 'VIp', 'ema50', 'ema21', 'ema5'],\n      dtype='object')"
     },
     "execution_count": 392,
     "metadata": {},
     "output_type": "execute_result"
    }
   ],
   "source": [
    "data.columns"
   ],
   "metadata": {
    "collapsed": false,
    "pycharm": {
     "name": "#%%\n"
    }
   }
  },
  {
   "cell_type": "code",
   "execution_count": 393,
   "outputs": [],
   "source": [
    "def create_class_column(row):\n",
    "    if row['close_shift']-row['close'] > 1.2:\n",
    "        return 1\n",
    "    if row['close_shift'] -row['close']< -1.2:\n",
    "        return -1\n",
    "    else:\n",
    "        return 0"
   ],
   "metadata": {
    "collapsed": false,
    "pycharm": {
     "name": "#%%\n"
    }
   }
  },
  {
   "cell_type": "code",
   "execution_count": 394,
   "outputs": [
    {
     "data": {
      "text/plain": "                                close  14 period RSI      MACD    SIGNAL  \\\nDatetime                                                                   \n2020-03-02 04:00:00-05:00  195.900000            NaN  0.000000  0.000000   \n2020-03-02 05:00:00-05:00  193.690000       0.000000 -0.049583 -0.027546   \n2020-03-02 06:00:00-05:00  192.160000       0.000000 -0.110624 -0.061595   \n2020-03-02 07:00:00-05:00  191.750000       0.000000 -0.150479 -0.091704   \n2020-03-02 08:00:00-05:00  191.150000       0.000000 -0.192842 -0.121791   \n...                               ...            ...       ...       ...   \n2021-03-01 12:30:00-05:00  261.730011      56.173487  0.560820  0.343253   \n2021-03-01 13:30:00-05:00  265.199005      65.664827  0.873983  0.449399   \n2021-03-01 14:30:00-05:00  265.859985      67.125714  1.162106  0.591941   \n2021-03-01 15:30:00-05:00  264.910004      62.978279  1.298818  0.733316   \n2021-03-01 16:00:00-05:00  264.810000      62.540217  1.383150  0.863283   \n\n                           14 period STOCH %K           MFV  14 period ATR  \\\nDatetime                                                                     \n2020-03-02 04:00:00-05:00                 NaN  0.000000e+00            NaN   \n2020-03-02 05:00:00-05:00                 NaN  0.000000e+00            NaN   \n2020-03-02 06:00:00-05:00                 NaN  0.000000e+00            NaN   \n2020-03-02 07:00:00-05:00                 NaN  0.000000e+00            NaN   \n2020-03-02 08:00:00-05:00                 NaN  0.000000e+00            NaN   \n...                                       ...           ...            ...   \n2021-03-01 12:30:00-05:00           82.285753  7.177859e+09       4.179577   \n2021-03-01 13:30:00-05:00           97.909762  7.183462e+09       3.888864   \n2021-03-01 14:30:00-05:00           96.593302  7.184316e+09       3.570293   \n2021-03-01 15:30:00-05:00           81.489454  7.184991e+09       2.127938   \n2021-03-01 16:00:00-05:00           79.623531  7.184991e+09       2.156510   \n\n                                MOM  14 period MFI       ROC          OBV  \\\nDatetime                                                                    \n2020-03-02 04:00:00-05:00       NaN            NaN       NaN          NaN   \n2020-03-02 05:00:00-05:00       NaN            NaN       NaN          0.0   \n2020-03-02 06:00:00-05:00       NaN            NaN       NaN          0.0   \n2020-03-02 07:00:00-05:00       NaN            NaN       NaN          0.0   \n2020-03-02 08:00:00-05:00       NaN            NaN       NaN          0.0   \n...                             ...            ...       ...          ...   \n2021-03-01 12:30:00-05:00  4.240011      37.342726  1.642723  115471977.0   \n2021-03-01 13:30:00-05:00  4.009005      56.825789  2.969911  117050783.0   \n2021-03-01 14:30:00-05:00  4.419985      62.660497  3.250606  119217536.0   \n2021-03-01 15:30:00-05:00  4.710004      53.428453  1.424252  116438720.0   \n2021-03-01 16:00:00-05:00  4.060000      53.428453  1.289015  116438720.0   \n\n                           20 period CCI       VIm       VIp     ema50  \\\nDatetime                                                                 \n2020-03-02 04:00:00-05:00            NaN       NaN       NaN  1.000000   \n2020-03-02 05:00:00-05:00     -66.666667       NaN       NaN  0.994383   \n2020-03-02 06:00:00-05:00     -84.486874       NaN       NaN  0.991067   \n2020-03-02 07:00:00-05:00    -116.901408       NaN       NaN  0.991774   \n2020-03-02 08:00:00-05:00     -69.113940       NaN       NaN  0.991006   \n...                                  ...       ...       ...       ...   \n2021-03-01 12:30:00-05:00      34.611490  1.088525  0.910620  0.999195   \n2021-03-01 13:30:00-05:00     123.716942  1.036919  1.020571  1.012192   \n2021-03-01 14:30:00-05:00     166.662039  0.976193  1.094230  1.014422   \n2021-03-01 15:30:00-05:00     132.460609  1.074287  1.571977  1.010583   \n2021-03-01 16:00:00-05:00     116.090651  0.852275  1.103342  1.010000   \n\n                              ema21      ema5  close_shift  \nDatetime                                                    \n2020-03-02 04:00:00-05:00  1.000000  1.000000       196.14  \n2020-03-02 05:00:00-05:00  0.994459  0.994840       197.40  \n2020-03-02 06:00:00-05:00  0.991237  0.992091       195.59  \n2020-03-02 07:00:00-05:00  0.992011  0.993180       197.05  \n2020-03-02 08:00:00-05:00  0.991315  0.992819       195.95  \n...                             ...       ...          ...  \n2021-03-01 12:30:00-05:00  1.005551  1.003477          NaN  \n2021-03-01 13:30:00-05:00  1.018005  1.013942          NaN  \n2021-03-01 14:30:00-05:00  1.019591  1.013687          NaN  \n2021-03-01 15:30:00-05:00  1.015212  1.008373          NaN  \n2021-03-01 16:00:00-05:00  1.014145  1.006652          NaN  \n\n[4133 rows x 18 columns]",
      "text/html": "<div>\n<style scoped>\n    .dataframe tbody tr th:only-of-type {\n        vertical-align: middle;\n    }\n\n    .dataframe tbody tr th {\n        vertical-align: top;\n    }\n\n    .dataframe thead th {\n        text-align: right;\n    }\n</style>\n<table border=\"1\" class=\"dataframe\">\n  <thead>\n    <tr style=\"text-align: right;\">\n      <th></th>\n      <th>close</th>\n      <th>14 period RSI</th>\n      <th>MACD</th>\n      <th>SIGNAL</th>\n      <th>14 period STOCH %K</th>\n      <th>MFV</th>\n      <th>14 period ATR</th>\n      <th>MOM</th>\n      <th>14 period MFI</th>\n      <th>ROC</th>\n      <th>OBV</th>\n      <th>20 period CCI</th>\n      <th>VIm</th>\n      <th>VIp</th>\n      <th>ema50</th>\n      <th>ema21</th>\n      <th>ema5</th>\n      <th>close_shift</th>\n    </tr>\n    <tr>\n      <th>Datetime</th>\n      <th></th>\n      <th></th>\n      <th></th>\n      <th></th>\n      <th></th>\n      <th></th>\n      <th></th>\n      <th></th>\n      <th></th>\n      <th></th>\n      <th></th>\n      <th></th>\n      <th></th>\n      <th></th>\n      <th></th>\n      <th></th>\n      <th></th>\n      <th></th>\n    </tr>\n  </thead>\n  <tbody>\n    <tr>\n      <th>2020-03-02 04:00:00-05:00</th>\n      <td>195.900000</td>\n      <td>NaN</td>\n      <td>0.000000</td>\n      <td>0.000000</td>\n      <td>NaN</td>\n      <td>0.000000e+00</td>\n      <td>NaN</td>\n      <td>NaN</td>\n      <td>NaN</td>\n      <td>NaN</td>\n      <td>NaN</td>\n      <td>NaN</td>\n      <td>NaN</td>\n      <td>NaN</td>\n      <td>1.000000</td>\n      <td>1.000000</td>\n      <td>1.000000</td>\n      <td>196.14</td>\n    </tr>\n    <tr>\n      <th>2020-03-02 05:00:00-05:00</th>\n      <td>193.690000</td>\n      <td>0.000000</td>\n      <td>-0.049583</td>\n      <td>-0.027546</td>\n      <td>NaN</td>\n      <td>0.000000e+00</td>\n      <td>NaN</td>\n      <td>NaN</td>\n      <td>NaN</td>\n      <td>NaN</td>\n      <td>0.0</td>\n      <td>-66.666667</td>\n      <td>NaN</td>\n      <td>NaN</td>\n      <td>0.994383</td>\n      <td>0.994459</td>\n      <td>0.994840</td>\n      <td>197.40</td>\n    </tr>\n    <tr>\n      <th>2020-03-02 06:00:00-05:00</th>\n      <td>192.160000</td>\n      <td>0.000000</td>\n      <td>-0.110624</td>\n      <td>-0.061595</td>\n      <td>NaN</td>\n      <td>0.000000e+00</td>\n      <td>NaN</td>\n      <td>NaN</td>\n      <td>NaN</td>\n      <td>NaN</td>\n      <td>0.0</td>\n      <td>-84.486874</td>\n      <td>NaN</td>\n      <td>NaN</td>\n      <td>0.991067</td>\n      <td>0.991237</td>\n      <td>0.992091</td>\n      <td>195.59</td>\n    </tr>\n    <tr>\n      <th>2020-03-02 07:00:00-05:00</th>\n      <td>191.750000</td>\n      <td>0.000000</td>\n      <td>-0.150479</td>\n      <td>-0.091704</td>\n      <td>NaN</td>\n      <td>0.000000e+00</td>\n      <td>NaN</td>\n      <td>NaN</td>\n      <td>NaN</td>\n      <td>NaN</td>\n      <td>0.0</td>\n      <td>-116.901408</td>\n      <td>NaN</td>\n      <td>NaN</td>\n      <td>0.991774</td>\n      <td>0.992011</td>\n      <td>0.993180</td>\n      <td>197.05</td>\n    </tr>\n    <tr>\n      <th>2020-03-02 08:00:00-05:00</th>\n      <td>191.150000</td>\n      <td>0.000000</td>\n      <td>-0.192842</td>\n      <td>-0.121791</td>\n      <td>NaN</td>\n      <td>0.000000e+00</td>\n      <td>NaN</td>\n      <td>NaN</td>\n      <td>NaN</td>\n      <td>NaN</td>\n      <td>0.0</td>\n      <td>-69.113940</td>\n      <td>NaN</td>\n      <td>NaN</td>\n      <td>0.991006</td>\n      <td>0.991315</td>\n      <td>0.992819</td>\n      <td>195.95</td>\n    </tr>\n    <tr>\n      <th>...</th>\n      <td>...</td>\n      <td>...</td>\n      <td>...</td>\n      <td>...</td>\n      <td>...</td>\n      <td>...</td>\n      <td>...</td>\n      <td>...</td>\n      <td>...</td>\n      <td>...</td>\n      <td>...</td>\n      <td>...</td>\n      <td>...</td>\n      <td>...</td>\n      <td>...</td>\n      <td>...</td>\n      <td>...</td>\n      <td>...</td>\n    </tr>\n    <tr>\n      <th>2021-03-01 12:30:00-05:00</th>\n      <td>261.730011</td>\n      <td>56.173487</td>\n      <td>0.560820</td>\n      <td>0.343253</td>\n      <td>82.285753</td>\n      <td>7.177859e+09</td>\n      <td>4.179577</td>\n      <td>4.240011</td>\n      <td>37.342726</td>\n      <td>1.642723</td>\n      <td>115471977.0</td>\n      <td>34.611490</td>\n      <td>1.088525</td>\n      <td>0.910620</td>\n      <td>0.999195</td>\n      <td>1.005551</td>\n      <td>1.003477</td>\n      <td>NaN</td>\n    </tr>\n    <tr>\n      <th>2021-03-01 13:30:00-05:00</th>\n      <td>265.199005</td>\n      <td>65.664827</td>\n      <td>0.873983</td>\n      <td>0.449399</td>\n      <td>97.909762</td>\n      <td>7.183462e+09</td>\n      <td>3.888864</td>\n      <td>4.009005</td>\n      <td>56.825789</td>\n      <td>2.969911</td>\n      <td>117050783.0</td>\n      <td>123.716942</td>\n      <td>1.036919</td>\n      <td>1.020571</td>\n      <td>1.012192</td>\n      <td>1.018005</td>\n      <td>1.013942</td>\n      <td>NaN</td>\n    </tr>\n    <tr>\n      <th>2021-03-01 14:30:00-05:00</th>\n      <td>265.859985</td>\n      <td>67.125714</td>\n      <td>1.162106</td>\n      <td>0.591941</td>\n      <td>96.593302</td>\n      <td>7.184316e+09</td>\n      <td>3.570293</td>\n      <td>4.419985</td>\n      <td>62.660497</td>\n      <td>3.250606</td>\n      <td>119217536.0</td>\n      <td>166.662039</td>\n      <td>0.976193</td>\n      <td>1.094230</td>\n      <td>1.014422</td>\n      <td>1.019591</td>\n      <td>1.013687</td>\n      <td>NaN</td>\n    </tr>\n    <tr>\n      <th>2021-03-01 15:30:00-05:00</th>\n      <td>264.910004</td>\n      <td>62.978279</td>\n      <td>1.298818</td>\n      <td>0.733316</td>\n      <td>81.489454</td>\n      <td>7.184991e+09</td>\n      <td>2.127938</td>\n      <td>4.710004</td>\n      <td>53.428453</td>\n      <td>1.424252</td>\n      <td>116438720.0</td>\n      <td>132.460609</td>\n      <td>1.074287</td>\n      <td>1.571977</td>\n      <td>1.010583</td>\n      <td>1.015212</td>\n      <td>1.008373</td>\n      <td>NaN</td>\n    </tr>\n    <tr>\n      <th>2021-03-01 16:00:00-05:00</th>\n      <td>264.810000</td>\n      <td>62.540217</td>\n      <td>1.383150</td>\n      <td>0.863283</td>\n      <td>79.623531</td>\n      <td>7.184991e+09</td>\n      <td>2.156510</td>\n      <td>4.060000</td>\n      <td>53.428453</td>\n      <td>1.289015</td>\n      <td>116438720.0</td>\n      <td>116.090651</td>\n      <td>0.852275</td>\n      <td>1.103342</td>\n      <td>1.010000</td>\n      <td>1.014145</td>\n      <td>1.006652</td>\n      <td>NaN</td>\n    </tr>\n  </tbody>\n</table>\n<p>4133 rows × 18 columns</p>\n</div>"
     },
     "execution_count": 394,
     "metadata": {},
     "output_type": "execute_result"
    }
   ],
   "source": [
    "data['close_shift'] = data.shift(-WINDOW)['close']\n",
    "data"
   ],
   "metadata": {
    "collapsed": false,
    "pycharm": {
     "name": "#%%\n"
    }
   }
  },
  {
   "cell_type": "code",
   "execution_count": 395,
   "outputs": [
    {
     "data": {
      "text/plain": "                                close  14 period RSI      MACD    SIGNAL  \\\nDatetime                                                                   \n2020-03-02 04:00:00-05:00  195.900000            NaN  0.000000  0.000000   \n2020-03-02 05:00:00-05:00  193.690000       0.000000 -0.049583 -0.027546   \n2020-03-02 06:00:00-05:00  192.160000       0.000000 -0.110624 -0.061595   \n2020-03-02 07:00:00-05:00  191.750000       0.000000 -0.150479 -0.091704   \n2020-03-02 08:00:00-05:00  191.150000       0.000000 -0.192842 -0.121791   \n...                               ...            ...       ...       ...   \n2021-03-01 12:30:00-05:00  261.730011      56.173487  0.560820  0.343253   \n2021-03-01 13:30:00-05:00  265.199005      65.664827  0.873983  0.449399   \n2021-03-01 14:30:00-05:00  265.859985      67.125714  1.162106  0.591941   \n2021-03-01 15:30:00-05:00  264.910004      62.978279  1.298818  0.733316   \n2021-03-01 16:00:00-05:00  264.810000      62.540217  1.383150  0.863283   \n\n                           14 period STOCH %K           MFV  14 period ATR  \\\nDatetime                                                                     \n2020-03-02 04:00:00-05:00                 NaN  0.000000e+00            NaN   \n2020-03-02 05:00:00-05:00                 NaN  0.000000e+00            NaN   \n2020-03-02 06:00:00-05:00                 NaN  0.000000e+00            NaN   \n2020-03-02 07:00:00-05:00                 NaN  0.000000e+00            NaN   \n2020-03-02 08:00:00-05:00                 NaN  0.000000e+00            NaN   \n...                                       ...           ...            ...   \n2021-03-01 12:30:00-05:00           82.285753  7.177859e+09       4.179577   \n2021-03-01 13:30:00-05:00           97.909762  7.183462e+09       3.888864   \n2021-03-01 14:30:00-05:00           96.593302  7.184316e+09       3.570293   \n2021-03-01 15:30:00-05:00           81.489454  7.184991e+09       2.127938   \n2021-03-01 16:00:00-05:00           79.623531  7.184991e+09       2.156510   \n\n                                MOM  14 period MFI       ROC          OBV  \\\nDatetime                                                                    \n2020-03-02 04:00:00-05:00       NaN            NaN       NaN          NaN   \n2020-03-02 05:00:00-05:00       NaN            NaN       NaN          0.0   \n2020-03-02 06:00:00-05:00       NaN            NaN       NaN          0.0   \n2020-03-02 07:00:00-05:00       NaN            NaN       NaN          0.0   \n2020-03-02 08:00:00-05:00       NaN            NaN       NaN          0.0   \n...                             ...            ...       ...          ...   \n2021-03-01 12:30:00-05:00  4.240011      37.342726  1.642723  115471977.0   \n2021-03-01 13:30:00-05:00  4.009005      56.825789  2.969911  117050783.0   \n2021-03-01 14:30:00-05:00  4.419985      62.660497  3.250606  119217536.0   \n2021-03-01 15:30:00-05:00  4.710004      53.428453  1.424252  116438720.0   \n2021-03-01 16:00:00-05:00  4.060000      53.428453  1.289015  116438720.0   \n\n                           20 period CCI       VIm       VIp     ema50  \\\nDatetime                                                                 \n2020-03-02 04:00:00-05:00            NaN       NaN       NaN  1.000000   \n2020-03-02 05:00:00-05:00     -66.666667       NaN       NaN  0.994383   \n2020-03-02 06:00:00-05:00     -84.486874       NaN       NaN  0.991067   \n2020-03-02 07:00:00-05:00    -116.901408       NaN       NaN  0.991774   \n2020-03-02 08:00:00-05:00     -69.113940       NaN       NaN  0.991006   \n...                                  ...       ...       ...       ...   \n2021-03-01 12:30:00-05:00      34.611490  1.088525  0.910620  0.999195   \n2021-03-01 13:30:00-05:00     123.716942  1.036919  1.020571  1.012192   \n2021-03-01 14:30:00-05:00     166.662039  0.976193  1.094230  1.014422   \n2021-03-01 15:30:00-05:00     132.460609  1.074287  1.571977  1.010583   \n2021-03-01 16:00:00-05:00     116.090651  0.852275  1.103342  1.010000   \n\n                              ema21      ema5  close_shift  class_column  \nDatetime                                                                  \n2020-03-02 04:00:00-05:00  1.000000  1.000000       196.14             0  \n2020-03-02 05:00:00-05:00  0.994459  0.994840       197.40             1  \n2020-03-02 06:00:00-05:00  0.991237  0.992091       195.59             1  \n2020-03-02 07:00:00-05:00  0.992011  0.993180       197.05             1  \n2020-03-02 08:00:00-05:00  0.991315  0.992819       195.95             1  \n...                             ...       ...          ...           ...  \n2021-03-01 12:30:00-05:00  1.005551  1.003477          NaN             0  \n2021-03-01 13:30:00-05:00  1.018005  1.013942          NaN             0  \n2021-03-01 14:30:00-05:00  1.019591  1.013687          NaN             0  \n2021-03-01 15:30:00-05:00  1.015212  1.008373          NaN             0  \n2021-03-01 16:00:00-05:00  1.014145  1.006652          NaN             0  \n\n[4133 rows x 19 columns]",
      "text/html": "<div>\n<style scoped>\n    .dataframe tbody tr th:only-of-type {\n        vertical-align: middle;\n    }\n\n    .dataframe tbody tr th {\n        vertical-align: top;\n    }\n\n    .dataframe thead th {\n        text-align: right;\n    }\n</style>\n<table border=\"1\" class=\"dataframe\">\n  <thead>\n    <tr style=\"text-align: right;\">\n      <th></th>\n      <th>close</th>\n      <th>14 period RSI</th>\n      <th>MACD</th>\n      <th>SIGNAL</th>\n      <th>14 period STOCH %K</th>\n      <th>MFV</th>\n      <th>14 period ATR</th>\n      <th>MOM</th>\n      <th>14 period MFI</th>\n      <th>ROC</th>\n      <th>OBV</th>\n      <th>20 period CCI</th>\n      <th>VIm</th>\n      <th>VIp</th>\n      <th>ema50</th>\n      <th>ema21</th>\n      <th>ema5</th>\n      <th>close_shift</th>\n      <th>class_column</th>\n    </tr>\n    <tr>\n      <th>Datetime</th>\n      <th></th>\n      <th></th>\n      <th></th>\n      <th></th>\n      <th></th>\n      <th></th>\n      <th></th>\n      <th></th>\n      <th></th>\n      <th></th>\n      <th></th>\n      <th></th>\n      <th></th>\n      <th></th>\n      <th></th>\n      <th></th>\n      <th></th>\n      <th></th>\n      <th></th>\n    </tr>\n  </thead>\n  <tbody>\n    <tr>\n      <th>2020-03-02 04:00:00-05:00</th>\n      <td>195.900000</td>\n      <td>NaN</td>\n      <td>0.000000</td>\n      <td>0.000000</td>\n      <td>NaN</td>\n      <td>0.000000e+00</td>\n      <td>NaN</td>\n      <td>NaN</td>\n      <td>NaN</td>\n      <td>NaN</td>\n      <td>NaN</td>\n      <td>NaN</td>\n      <td>NaN</td>\n      <td>NaN</td>\n      <td>1.000000</td>\n      <td>1.000000</td>\n      <td>1.000000</td>\n      <td>196.14</td>\n      <td>0</td>\n    </tr>\n    <tr>\n      <th>2020-03-02 05:00:00-05:00</th>\n      <td>193.690000</td>\n      <td>0.000000</td>\n      <td>-0.049583</td>\n      <td>-0.027546</td>\n      <td>NaN</td>\n      <td>0.000000e+00</td>\n      <td>NaN</td>\n      <td>NaN</td>\n      <td>NaN</td>\n      <td>NaN</td>\n      <td>0.0</td>\n      <td>-66.666667</td>\n      <td>NaN</td>\n      <td>NaN</td>\n      <td>0.994383</td>\n      <td>0.994459</td>\n      <td>0.994840</td>\n      <td>197.40</td>\n      <td>1</td>\n    </tr>\n    <tr>\n      <th>2020-03-02 06:00:00-05:00</th>\n      <td>192.160000</td>\n      <td>0.000000</td>\n      <td>-0.110624</td>\n      <td>-0.061595</td>\n      <td>NaN</td>\n      <td>0.000000e+00</td>\n      <td>NaN</td>\n      <td>NaN</td>\n      <td>NaN</td>\n      <td>NaN</td>\n      <td>0.0</td>\n      <td>-84.486874</td>\n      <td>NaN</td>\n      <td>NaN</td>\n      <td>0.991067</td>\n      <td>0.991237</td>\n      <td>0.992091</td>\n      <td>195.59</td>\n      <td>1</td>\n    </tr>\n    <tr>\n      <th>2020-03-02 07:00:00-05:00</th>\n      <td>191.750000</td>\n      <td>0.000000</td>\n      <td>-0.150479</td>\n      <td>-0.091704</td>\n      <td>NaN</td>\n      <td>0.000000e+00</td>\n      <td>NaN</td>\n      <td>NaN</td>\n      <td>NaN</td>\n      <td>NaN</td>\n      <td>0.0</td>\n      <td>-116.901408</td>\n      <td>NaN</td>\n      <td>NaN</td>\n      <td>0.991774</td>\n      <td>0.992011</td>\n      <td>0.993180</td>\n      <td>197.05</td>\n      <td>1</td>\n    </tr>\n    <tr>\n      <th>2020-03-02 08:00:00-05:00</th>\n      <td>191.150000</td>\n      <td>0.000000</td>\n      <td>-0.192842</td>\n      <td>-0.121791</td>\n      <td>NaN</td>\n      <td>0.000000e+00</td>\n      <td>NaN</td>\n      <td>NaN</td>\n      <td>NaN</td>\n      <td>NaN</td>\n      <td>0.0</td>\n      <td>-69.113940</td>\n      <td>NaN</td>\n      <td>NaN</td>\n      <td>0.991006</td>\n      <td>0.991315</td>\n      <td>0.992819</td>\n      <td>195.95</td>\n      <td>1</td>\n    </tr>\n    <tr>\n      <th>...</th>\n      <td>...</td>\n      <td>...</td>\n      <td>...</td>\n      <td>...</td>\n      <td>...</td>\n      <td>...</td>\n      <td>...</td>\n      <td>...</td>\n      <td>...</td>\n      <td>...</td>\n      <td>...</td>\n      <td>...</td>\n      <td>...</td>\n      <td>...</td>\n      <td>...</td>\n      <td>...</td>\n      <td>...</td>\n      <td>...</td>\n      <td>...</td>\n    </tr>\n    <tr>\n      <th>2021-03-01 12:30:00-05:00</th>\n      <td>261.730011</td>\n      <td>56.173487</td>\n      <td>0.560820</td>\n      <td>0.343253</td>\n      <td>82.285753</td>\n      <td>7.177859e+09</td>\n      <td>4.179577</td>\n      <td>4.240011</td>\n      <td>37.342726</td>\n      <td>1.642723</td>\n      <td>115471977.0</td>\n      <td>34.611490</td>\n      <td>1.088525</td>\n      <td>0.910620</td>\n      <td>0.999195</td>\n      <td>1.005551</td>\n      <td>1.003477</td>\n      <td>NaN</td>\n      <td>0</td>\n    </tr>\n    <tr>\n      <th>2021-03-01 13:30:00-05:00</th>\n      <td>265.199005</td>\n      <td>65.664827</td>\n      <td>0.873983</td>\n      <td>0.449399</td>\n      <td>97.909762</td>\n      <td>7.183462e+09</td>\n      <td>3.888864</td>\n      <td>4.009005</td>\n      <td>56.825789</td>\n      <td>2.969911</td>\n      <td>117050783.0</td>\n      <td>123.716942</td>\n      <td>1.036919</td>\n      <td>1.020571</td>\n      <td>1.012192</td>\n      <td>1.018005</td>\n      <td>1.013942</td>\n      <td>NaN</td>\n      <td>0</td>\n    </tr>\n    <tr>\n      <th>2021-03-01 14:30:00-05:00</th>\n      <td>265.859985</td>\n      <td>67.125714</td>\n      <td>1.162106</td>\n      <td>0.591941</td>\n      <td>96.593302</td>\n      <td>7.184316e+09</td>\n      <td>3.570293</td>\n      <td>4.419985</td>\n      <td>62.660497</td>\n      <td>3.250606</td>\n      <td>119217536.0</td>\n      <td>166.662039</td>\n      <td>0.976193</td>\n      <td>1.094230</td>\n      <td>1.014422</td>\n      <td>1.019591</td>\n      <td>1.013687</td>\n      <td>NaN</td>\n      <td>0</td>\n    </tr>\n    <tr>\n      <th>2021-03-01 15:30:00-05:00</th>\n      <td>264.910004</td>\n      <td>62.978279</td>\n      <td>1.298818</td>\n      <td>0.733316</td>\n      <td>81.489454</td>\n      <td>7.184991e+09</td>\n      <td>2.127938</td>\n      <td>4.710004</td>\n      <td>53.428453</td>\n      <td>1.424252</td>\n      <td>116438720.0</td>\n      <td>132.460609</td>\n      <td>1.074287</td>\n      <td>1.571977</td>\n      <td>1.010583</td>\n      <td>1.015212</td>\n      <td>1.008373</td>\n      <td>NaN</td>\n      <td>0</td>\n    </tr>\n    <tr>\n      <th>2021-03-01 16:00:00-05:00</th>\n      <td>264.810000</td>\n      <td>62.540217</td>\n      <td>1.383150</td>\n      <td>0.863283</td>\n      <td>79.623531</td>\n      <td>7.184991e+09</td>\n      <td>2.156510</td>\n      <td>4.060000</td>\n      <td>53.428453</td>\n      <td>1.289015</td>\n      <td>116438720.0</td>\n      <td>116.090651</td>\n      <td>0.852275</td>\n      <td>1.103342</td>\n      <td>1.010000</td>\n      <td>1.014145</td>\n      <td>1.006652</td>\n      <td>NaN</td>\n      <td>0</td>\n    </tr>\n  </tbody>\n</table>\n<p>4133 rows × 19 columns</p>\n</div>"
     },
     "execution_count": 395,
     "metadata": {},
     "output_type": "execute_result"
    }
   ],
   "source": [
    "data['class_column'] = data.apply(create_class_column, axis=1)\n",
    "data"
   ],
   "metadata": {
    "collapsed": false,
    "pycharm": {
     "name": "#%%\n"
    }
   }
  },
  {
   "cell_type": "code",
   "execution_count": 396,
   "outputs": [
    {
     "data": {
      "text/plain": " 1    1699\n-1    1548\n 0     886\nName: class_column, dtype: int64"
     },
     "execution_count": 396,
     "metadata": {},
     "output_type": "execute_result"
    }
   ],
   "source": [
    "# Class divide\n",
    "data['class_column'].value_counts()"
   ],
   "metadata": {
    "collapsed": false,
    "pycharm": {
     "name": "#%%\n"
    }
   }
  },
  {
   "cell_type": "code",
   "execution_count": 397,
   "outputs": [],
   "source": [
    "del (data['close'])\n",
    "del (data['close_shift'])\n",
    "data = data.dropna()"
   ],
   "metadata": {
    "collapsed": false,
    "pycharm": {
     "name": "#%%\n"
    }
   }
  },
  {
   "cell_type": "code",
   "execution_count": 398,
   "outputs": [
    {
     "data": {
      "text/plain": " 1    1663\n-1    1511\n 0     857\nName: class_column, dtype: int64"
     },
     "execution_count": 398,
     "metadata": {},
     "output_type": "execute_result"
    }
   ],
   "source": [
    "data['class_column'].value_counts()\n"
   ],
   "metadata": {
    "collapsed": false,
    "pycharm": {
     "name": "#%%\n"
    }
   }
  },
  {
   "cell_type": "code",
   "execution_count": 399,
   "outputs": [],
   "source": [
    "def train_model(model,train_x, train_y):\n",
    "    model.fit(train_x, train_y)\n",
    "\n",
    "def init_classifiers():\n",
    "    classifiers['DecisionTreeClassifier 1'] = DecisionTreeClassifier(random_state=0,criterion='gini',splitter='random')\n",
    "    classifiers['DecisionTreeClassifier 2'] = DecisionTreeClassifier(random_state=0,criterion='entropy',splitter='best')\n",
    "    classifiers['RandomForestClassifier 1'] = RandomForestClassifier(n_estimators=100, max_depth=2, random_state=0,criterion='gini')\n",
    "    classifiers['RandomForestClassifier 2'] = RandomForestClassifier(n_estimators=1000, max_depth=2, random_state=0,criterion='gini')\n",
    "    classifiers['GradientBoostingClassifier 1'] = GradientBoostingClassifier(n_estimators=100,random_state=0,criterion='friedman_mse',max_depth=3, learning_rate=0.1)\n",
    "    classifiers['GradientBoostingClassifier 2'] = GradientBoostingClassifier(n_estimators=100,random_state=0,criterion='friedman_mse',max_depth=3, learning_rate=0.3)\n",
    "    classifiers['GradientBoostingClassifier 3'] = GradientBoostingClassifier(n_estimators=100,random_state=0,criterion='friedman_mse',max_depth=3, learning_rate=0.5)"
   ],
   "metadata": {
    "collapsed": false,
    "pycharm": {
     "name": "#%%\n"
    }
   }
  },
  {
   "cell_type": "code",
   "execution_count": 400,
   "outputs": [
    {
     "name": "stdout",
     "output_type": "stream",
     "text": [
      "step:  0 300\n",
      "-1    175\n",
      " 1    100\n",
      " 0     25\n",
      "Name: class_column, dtype: int64\n",
      "Calculate:  DecisionTreeClassifier 1\n",
      "Calculate:  DecisionTreeClassifier 2\n",
      "Calculate:  RandomForestClassifier 1\n",
      "Calculate:  RandomForestClassifier 2\n",
      "Calculate:  GradientBoostingClassifier 1\n",
      "Calculate:  GradientBoostingClassifier 2\n",
      "Calculate:  GradientBoostingClassifier 3\n",
      "step:  100 400\n",
      "-1    151\n",
      " 1    118\n",
      " 0     31\n",
      "Name: class_column, dtype: int64\n",
      "Calculate:  DecisionTreeClassifier 1\n",
      "Calculate:  DecisionTreeClassifier 2\n",
      "Calculate:  RandomForestClassifier 1\n",
      "Calculate:  RandomForestClassifier 2\n",
      "Calculate:  GradientBoostingClassifier 1\n",
      "Calculate:  GradientBoostingClassifier 2\n",
      "Calculate:  GradientBoostingClassifier 3\n",
      "step:  200 500\n",
      " 1    142\n",
      "-1    105\n",
      " 0     53\n",
      "Name: class_column, dtype: int64\n",
      "Calculate:  DecisionTreeClassifier 1\n",
      "Calculate:  DecisionTreeClassifier 2\n",
      "Calculate:  RandomForestClassifier 1\n",
      "Calculate:  RandomForestClassifier 2\n",
      "Calculate:  GradientBoostingClassifier 1\n",
      "Calculate:  GradientBoostingClassifier 2\n",
      "Calculate:  GradientBoostingClassifier 3\n",
      "step:  300 600\n",
      " 1    144\n",
      "-1     93\n",
      " 0     63\n",
      "Name: class_column, dtype: int64\n",
      "Calculate:  DecisionTreeClassifier 1\n",
      "Calculate:  DecisionTreeClassifier 2\n",
      "Calculate:  RandomForestClassifier 1\n",
      "Calculate:  RandomForestClassifier 2\n",
      "Calculate:  GradientBoostingClassifier 1\n",
      "Calculate:  GradientBoostingClassifier 2\n",
      "Calculate:  GradientBoostingClassifier 3\n",
      "step:  400 700\n",
      " 1    150\n",
      "-1     83\n",
      " 0     67\n",
      "Name: class_column, dtype: int64\n",
      "Calculate:  DecisionTreeClassifier 1\n",
      "Calculate:  DecisionTreeClassifier 2\n",
      "Calculate:  RandomForestClassifier 1\n",
      "Calculate:  RandomForestClassifier 2\n",
      "Calculate:  GradientBoostingClassifier 1\n",
      "Calculate:  GradientBoostingClassifier 2\n",
      "Calculate:  GradientBoostingClassifier 3\n",
      "step:  500 800\n",
      " 1    147\n",
      " 0     78\n",
      "-1     75\n",
      "Name: class_column, dtype: int64\n",
      "Calculate:  DecisionTreeClassifier 1\n",
      "Calculate:  DecisionTreeClassifier 2\n",
      "Calculate:  RandomForestClassifier 1\n",
      "Calculate:  RandomForestClassifier 2\n",
      "Calculate:  GradientBoostingClassifier 1\n",
      "Calculate:  GradientBoostingClassifier 2\n",
      "Calculate:  GradientBoostingClassifier 3\n",
      "step:  600 900\n",
      " 1    151\n",
      " 0     81\n",
      "-1     68\n",
      "Name: class_column, dtype: int64\n",
      "Calculate:  DecisionTreeClassifier 1\n",
      "Calculate:  DecisionTreeClassifier 2\n",
      "Calculate:  RandomForestClassifier 1\n",
      "Calculate:  RandomForestClassifier 2\n",
      "Calculate:  GradientBoostingClassifier 1\n",
      "Calculate:  GradientBoostingClassifier 2\n",
      "Calculate:  GradientBoostingClassifier 3\n",
      "step:  700 1000\n",
      " 1    153\n",
      " 0     76\n",
      "-1     71\n",
      "Name: class_column, dtype: int64\n",
      "Calculate:  DecisionTreeClassifier 1\n",
      "Calculate:  DecisionTreeClassifier 2\n",
      "Calculate:  RandomForestClassifier 1\n",
      "Calculate:  RandomForestClassifier 2\n",
      "Calculate:  GradientBoostingClassifier 1\n",
      "Calculate:  GradientBoostingClassifier 2\n",
      "Calculate:  GradientBoostingClassifier 3\n",
      "step:  800 1100\n",
      " 1    136\n",
      "-1    102\n",
      " 0     62\n",
      "Name: class_column, dtype: int64\n",
      "Calculate:  DecisionTreeClassifier 1\n",
      "Calculate:  DecisionTreeClassifier 2\n",
      "Calculate:  RandomForestClassifier 1\n",
      "Calculate:  RandomForestClassifier 2\n",
      "Calculate:  GradientBoostingClassifier 1\n",
      "Calculate:  GradientBoostingClassifier 2\n",
      "Calculate:  GradientBoostingClassifier 3\n",
      "step:  900 1200\n",
      " 1    124\n",
      "-1    114\n",
      " 0     62\n",
      "Name: class_column, dtype: int64\n",
      "Calculate:  DecisionTreeClassifier 1\n",
      "Calculate:  DecisionTreeClassifier 2\n",
      "Calculate:  RandomForestClassifier 1\n",
      "Calculate:  RandomForestClassifier 2\n",
      "Calculate:  GradientBoostingClassifier 1\n",
      "Calculate:  GradientBoostingClassifier 2\n",
      "Calculate:  GradientBoostingClassifier 3\n",
      "step:  1000 1300\n",
      " 1    125\n",
      "-1     91\n",
      " 0     84\n",
      "Name: class_column, dtype: int64\n",
      "Calculate:  DecisionTreeClassifier 1\n",
      "Calculate:  DecisionTreeClassifier 2\n",
      "Calculate:  RandomForestClassifier 1\n",
      "Calculate:  RandomForestClassifier 2\n",
      "Calculate:  GradientBoostingClassifier 1\n",
      "Calculate:  GradientBoostingClassifier 2\n",
      "Calculate:  GradientBoostingClassifier 3\n",
      "step:  1100 1400\n",
      " 1    139\n",
      "-1     92\n",
      " 0     69\n",
      "Name: class_column, dtype: int64\n",
      "Calculate:  DecisionTreeClassifier 1\n",
      "Calculate:  DecisionTreeClassifier 2\n",
      "Calculate:  RandomForestClassifier 1\n",
      "Calculate:  RandomForestClassifier 2\n",
      "Calculate:  GradientBoostingClassifier 1\n",
      "Calculate:  GradientBoostingClassifier 2\n",
      "Calculate:  GradientBoostingClassifier 3\n",
      "step:  1200 1500\n",
      " 1    147\n",
      "-1     77\n",
      " 0     76\n",
      "Name: class_column, dtype: int64\n",
      "Calculate:  DecisionTreeClassifier 1\n",
      "Calculate:  DecisionTreeClassifier 2\n",
      "Calculate:  RandomForestClassifier 1\n",
      "Calculate:  RandomForestClassifier 2\n",
      "Calculate:  GradientBoostingClassifier 1\n",
      "Calculate:  GradientBoostingClassifier 2\n",
      "Calculate:  GradientBoostingClassifier 3\n",
      "step:  1300 1600\n",
      " 1    140\n",
      "-1     92\n",
      " 0     68\n",
      "Name: class_column, dtype: int64\n",
      "Calculate:  DecisionTreeClassifier 1\n",
      "Calculate:  DecisionTreeClassifier 2\n",
      "Calculate:  RandomForestClassifier 1\n",
      "Calculate:  RandomForestClassifier 2\n",
      "Calculate:  GradientBoostingClassifier 1\n",
      "Calculate:  GradientBoostingClassifier 2\n",
      "Calculate:  GradientBoostingClassifier 3\n",
      "step:  1400 1700\n",
      " 1    111\n",
      "-1    108\n",
      " 0     81\n",
      "Name: class_column, dtype: int64\n",
      "Calculate:  DecisionTreeClassifier 1\n",
      "Calculate:  DecisionTreeClassifier 2\n",
      "Calculate:  RandomForestClassifier 1\n",
      "Calculate:  RandomForestClassifier 2\n",
      "Calculate:  GradientBoostingClassifier 1\n",
      "Calculate:  GradientBoostingClassifier 2\n",
      "Calculate:  GradientBoostingClassifier 3\n",
      "step:  1500 1800\n",
      "-1    114\n",
      " 1    112\n",
      " 0     74\n",
      "Name: class_column, dtype: int64\n",
      "Calculate:  DecisionTreeClassifier 1\n",
      "Calculate:  DecisionTreeClassifier 2\n",
      "Calculate:  RandomForestClassifier 1\n",
      "Calculate:  RandomForestClassifier 2\n",
      "Calculate:  GradientBoostingClassifier 1\n",
      "Calculate:  GradientBoostingClassifier 2\n",
      "Calculate:  GradientBoostingClassifier 3\n",
      "step:  1600 1900\n",
      "-1    115\n",
      " 1    107\n",
      " 0     78\n",
      "Name: class_column, dtype: int64\n",
      "Calculate:  DecisionTreeClassifier 1\n",
      "Calculate:  DecisionTreeClassifier 2\n",
      "Calculate:  RandomForestClassifier 1\n",
      "Calculate:  RandomForestClassifier 2\n",
      "Calculate:  GradientBoostingClassifier 1\n",
      "Calculate:  GradientBoostingClassifier 2\n",
      "Calculate:  GradientBoostingClassifier 3\n",
      "step:  1700 2000\n",
      " 1    145\n",
      " 0     85\n",
      "-1     70\n",
      "Name: class_column, dtype: int64\n",
      "Calculate:  DecisionTreeClassifier 1\n",
      "Calculate:  DecisionTreeClassifier 2\n",
      "Calculate:  RandomForestClassifier 1\n",
      "Calculate:  RandomForestClassifier 2\n",
      "Calculate:  GradientBoostingClassifier 1\n",
      "Calculate:  GradientBoostingClassifier 2\n",
      "Calculate:  GradientBoostingClassifier 3\n",
      "step:  1800 2100\n",
      " 1    154\n",
      " 0     81\n",
      "-1     65\n",
      "Name: class_column, dtype: int64\n",
      "Calculate:  DecisionTreeClassifier 1\n",
      "Calculate:  DecisionTreeClassifier 2\n",
      "Calculate:  RandomForestClassifier 1\n",
      "Calculate:  RandomForestClassifier 2\n",
      "Calculate:  GradientBoostingClassifier 1\n",
      "Calculate:  GradientBoostingClassifier 2\n",
      "Calculate:  GradientBoostingClassifier 3\n",
      "step:  1900 2200\n",
      " 1    136\n",
      "-1    104\n",
      " 0     60\n",
      "Name: class_column, dtype: int64\n",
      "Calculate:  DecisionTreeClassifier 1\n",
      "Calculate:  DecisionTreeClassifier 2\n",
      "Calculate:  RandomForestClassifier 1\n",
      "Calculate:  RandomForestClassifier 2\n",
      "Calculate:  GradientBoostingClassifier 1\n",
      "Calculate:  GradientBoostingClassifier 2\n",
      "Calculate:  GradientBoostingClassifier 3\n",
      "step:  2000 2300\n",
      "-1    161\n",
      " 1     91\n",
      " 0     48\n",
      "Name: class_column, dtype: int64\n",
      "Calculate:  DecisionTreeClassifier 1\n",
      "Calculate:  DecisionTreeClassifier 2\n",
      "Calculate:  RandomForestClassifier 1\n",
      "Calculate:  RandomForestClassifier 2\n",
      "Calculate:  GradientBoostingClassifier 1\n",
      "Calculate:  GradientBoostingClassifier 2\n",
      "Calculate:  GradientBoostingClassifier 3\n",
      "step:  2100 2400\n",
      "-1    158\n",
      " 1     96\n",
      " 0     46\n",
      "Name: class_column, dtype: int64\n",
      "Calculate:  DecisionTreeClassifier 1\n",
      "Calculate:  DecisionTreeClassifier 2\n",
      "Calculate:  RandomForestClassifier 1\n",
      "Calculate:  RandomForestClassifier 2\n",
      "Calculate:  GradientBoostingClassifier 1\n",
      "Calculate:  GradientBoostingClassifier 2\n",
      "Calculate:  GradientBoostingClassifier 3\n",
      "step:  2200 2500\n",
      " 1    125\n",
      "-1    117\n",
      " 0     58\n",
      "Name: class_column, dtype: int64\n",
      "Calculate:  DecisionTreeClassifier 1\n",
      "Calculate:  DecisionTreeClassifier 2\n",
      "Calculate:  RandomForestClassifier 1\n",
      "Calculate:  RandomForestClassifier 2\n",
      "Calculate:  GradientBoostingClassifier 1\n",
      "Calculate:  GradientBoostingClassifier 2\n",
      "Calculate:  GradientBoostingClassifier 3\n",
      "step:  2300 2600\n",
      " 1    156\n",
      "-1     83\n",
      " 0     61\n",
      "Name: class_column, dtype: int64\n",
      "Calculate:  DecisionTreeClassifier 1\n",
      "Calculate:  DecisionTreeClassifier 2\n",
      "Calculate:  RandomForestClassifier 1\n",
      "Calculate:  RandomForestClassifier 2\n",
      "Calculate:  GradientBoostingClassifier 1\n",
      "Calculate:  GradientBoostingClassifier 2\n",
      "Calculate:  GradientBoostingClassifier 3\n",
      "step:  2400 2700\n",
      " 1    145\n",
      "-1     91\n",
      " 0     64\n",
      "Name: class_column, dtype: int64\n",
      "Calculate:  DecisionTreeClassifier 1\n",
      "Calculate:  DecisionTreeClassifier 2\n",
      "Calculate:  RandomForestClassifier 1\n",
      "Calculate:  RandomForestClassifier 2\n",
      "Calculate:  GradientBoostingClassifier 1\n",
      "Calculate:  GradientBoostingClassifier 2\n",
      "Calculate:  GradientBoostingClassifier 3\n",
      "step:  2500 2800\n",
      " 1    125\n",
      "-1    119\n",
      " 0     56\n",
      "Name: class_column, dtype: int64\n",
      "Calculate:  DecisionTreeClassifier 1\n",
      "Calculate:  DecisionTreeClassifier 2\n",
      "Calculate:  RandomForestClassifier 1\n",
      "Calculate:  RandomForestClassifier 2\n",
      "Calculate:  GradientBoostingClassifier 1\n",
      "Calculate:  GradientBoostingClassifier 2\n",
      "Calculate:  GradientBoostingClassifier 3\n",
      "step:  2600 2900\n",
      " 1    132\n",
      "-1    129\n",
      " 0     39\n",
      "Name: class_column, dtype: int64\n",
      "Calculate:  DecisionTreeClassifier 1\n",
      "Calculate:  DecisionTreeClassifier 2\n",
      "Calculate:  RandomForestClassifier 1\n",
      "Calculate:  RandomForestClassifier 2\n",
      "Calculate:  GradientBoostingClassifier 1\n",
      "Calculate:  GradientBoostingClassifier 2\n",
      "Calculate:  GradientBoostingClassifier 3\n",
      "step:  2700 3000\n",
      "-1    140\n",
      " 1    108\n",
      " 0     52\n",
      "Name: class_column, dtype: int64\n",
      "Calculate:  DecisionTreeClassifier 1\n",
      "Calculate:  DecisionTreeClassifier 2\n",
      "Calculate:  RandomForestClassifier 1\n",
      "Calculate:  RandomForestClassifier 2\n",
      "Calculate:  GradientBoostingClassifier 1\n",
      "Calculate:  GradientBoostingClassifier 2\n",
      "Calculate:  GradientBoostingClassifier 3\n",
      "step:  2800 3100\n",
      " 1    128\n",
      "-1    108\n",
      " 0     64\n",
      "Name: class_column, dtype: int64\n",
      "Calculate:  DecisionTreeClassifier 1\n",
      "Calculate:  DecisionTreeClassifier 2\n",
      "Calculate:  RandomForestClassifier 1\n",
      "Calculate:  RandomForestClassifier 2\n",
      "Calculate:  GradientBoostingClassifier 1\n",
      "Calculate:  GradientBoostingClassifier 2\n",
      "Calculate:  GradientBoostingClassifier 3\n",
      "step:  2900 3200\n",
      "-1    128\n",
      " 1     95\n",
      " 0     77\n",
      "Name: class_column, dtype: int64\n",
      "Calculate:  DecisionTreeClassifier 1\n",
      "Calculate:  DecisionTreeClassifier 2\n",
      "Calculate:  RandomForestClassifier 1\n",
      "Calculate:  RandomForestClassifier 2\n",
      "Calculate:  GradientBoostingClassifier 1\n",
      "Calculate:  GradientBoostingClassifier 2\n",
      "Calculate:  GradientBoostingClassifier 3\n",
      "step:  3000 3300\n",
      "-1    129\n",
      " 1     95\n",
      " 0     76\n",
      "Name: class_column, dtype: int64\n",
      "Calculate:  DecisionTreeClassifier 1\n",
      "Calculate:  DecisionTreeClassifier 2\n",
      "Calculate:  RandomForestClassifier 1\n",
      "Calculate:  RandomForestClassifier 2\n",
      "Calculate:  GradientBoostingClassifier 1\n",
      "Calculate:  GradientBoostingClassifier 2\n",
      "Calculate:  GradientBoostingClassifier 3\n",
      "step:  3100 3400\n",
      "-1    146\n",
      " 1     80\n",
      " 0     74\n",
      "Name: class_column, dtype: int64\n",
      "Calculate:  DecisionTreeClassifier 1\n",
      "Calculate:  DecisionTreeClassifier 2\n",
      "Calculate:  RandomForestClassifier 1\n",
      "Calculate:  RandomForestClassifier 2\n",
      "Calculate:  GradientBoostingClassifier 1\n",
      "Calculate:  GradientBoostingClassifier 2\n",
      "Calculate:  GradientBoostingClassifier 3\n",
      "step:  3200 3500\n",
      "-1    142\n",
      " 1     91\n",
      " 0     67\n",
      "Name: class_column, dtype: int64\n",
      "Calculate:  DecisionTreeClassifier 1\n",
      "Calculate:  DecisionTreeClassifier 2\n",
      "Calculate:  RandomForestClassifier 1\n",
      "Calculate:  RandomForestClassifier 2\n",
      "Calculate:  GradientBoostingClassifier 1\n",
      "Calculate:  GradientBoostingClassifier 2\n",
      "Calculate:  GradientBoostingClassifier 3\n",
      "step:  3300 3600\n",
      "-1    135\n",
      " 1    115\n",
      " 0     50\n",
      "Name: class_column, dtype: int64\n",
      "Calculate:  DecisionTreeClassifier 1\n",
      "Calculate:  DecisionTreeClassifier 2\n",
      "Calculate:  RandomForestClassifier 1\n",
      "Calculate:  RandomForestClassifier 2\n",
      "Calculate:  GradientBoostingClassifier 1\n",
      "Calculate:  GradientBoostingClassifier 2\n",
      "Calculate:  GradientBoostingClassifier 3\n",
      "step:  3400 3700\n",
      "-1    135\n",
      " 1    133\n",
      " 0     32\n",
      "Name: class_column, dtype: int64\n",
      "Calculate:  DecisionTreeClassifier 1\n",
      "Calculate:  DecisionTreeClassifier 2\n",
      "Calculate:  RandomForestClassifier 1\n",
      "Calculate:  RandomForestClassifier 2\n",
      "Calculate:  GradientBoostingClassifier 1\n",
      "Calculate:  GradientBoostingClassifier 2\n",
      "Calculate:  GradientBoostingClassifier 3\n",
      "step:  3500 3800\n",
      " 1    150\n",
      "-1    100\n",
      " 0     50\n",
      "Name: class_column, dtype: int64\n",
      "Calculate:  DecisionTreeClassifier 1\n",
      "Calculate:  DecisionTreeClassifier 2\n",
      "Calculate:  RandomForestClassifier 1\n",
      "Calculate:  RandomForestClassifier 2\n",
      "Calculate:  GradientBoostingClassifier 1\n",
      "Calculate:  GradientBoostingClassifier 2\n",
      "Calculate:  GradientBoostingClassifier 3\n",
      "step:  3600 3900\n",
      " 1    135\n",
      "-1     96\n",
      " 0     69\n",
      "Name: class_column, dtype: int64\n",
      "Calculate:  DecisionTreeClassifier 1\n",
      "Calculate:  DecisionTreeClassifier 2\n",
      "Calculate:  RandomForestClassifier 1\n",
      "Calculate:  RandomForestClassifier 2\n",
      "Calculate:  GradientBoostingClassifier 1\n",
      "Calculate:  GradientBoostingClassifier 2\n",
      "Calculate:  GradientBoostingClassifier 3\n",
      "step:  3700 4000\n",
      " 1    112\n",
      "-1    104\n",
      " 0     84\n",
      "Name: class_column, dtype: int64\n",
      "Calculate:  DecisionTreeClassifier 1\n",
      "Calculate:  DecisionTreeClassifier 2\n",
      "Calculate:  RandomForestClassifier 1\n",
      "Calculate:  RandomForestClassifier 2\n",
      "Calculate:  GradientBoostingClassifier 1\n",
      "Calculate:  GradientBoostingClassifier 2\n",
      "Calculate:  GradientBoostingClassifier 3\n",
      "step:  3800 4100\n",
      "-1    84\n",
      " 1    76\n",
      " 0    71\n",
      "Name: class_column, dtype: int64\n"
     ]
    }
   ],
   "source": [
    "\n",
    "features = [x for x in data.columns if x not in ['class_column']]\n",
    "num_step = 100 #  (len(data) / num_train  =  number of train-test sets\n",
    "len_set = 300 # Length of each train-test set\n",
    "\n",
    "score = defaultdict(list)\n",
    "step_headers = []\n",
    "i = 0\n",
    "\n",
    "while True:\n",
    "    df = data.iloc[i * num_step : (i * num_step) + len_set]\n",
    "    print(\"step: \", i * num_step, (i * num_step) + len_set)\n",
    "    print(df['class_column'].value_counts())\n",
    "    if len(df) < len_set:\n",
    "        break\n",
    "\n",
    "\n",
    "    step_headers.append(f'<{i * num_step, (i * num_step) + len_set}>')\n",
    "    y = df['class_column']\n",
    "    x = df[features]\n",
    "    x_train,x_test,y_train,y_test = train_test_split(x, y, test_size=0.33, shuffle=False)\n",
    "    classifiers = dict()\n",
    "    init_classifiers()\n",
    "    predictions= dict()\n",
    "    for k,v in classifiers.items():\n",
    "        print(\"Calculate: \", k)\n",
    "        train_model(v,x_train,y_train)\n",
    "        predictions[k] = v.predict(x_test)\n",
    "        score[k].append(accuracy_score(y_test.values, predictions[k]))\n",
    "\n",
    "    i += 1"
   ],
   "metadata": {
    "collapsed": false,
    "pycharm": {
     "name": "#%%\n"
    }
   }
  },
  {
   "cell_type": "code",
   "execution_count": 401,
   "outputs": [
    {
     "name": "stdout",
     "output_type": "stream",
     "text": [
      "+----+------------------------------+--------------+----------------+----------------+----------------+----------------+----------------+----------------+-----------------+-----------------+-----------------+------------------+------------------+------------------+------------------+------------------+------------------+------------------+------------------+------------------+------------------+------------------+------------------+------------------+------------------+------------------+------------------+------------------+------------------+------------------+------------------+------------------+------------------+------------------+------------------+------------------+------------------+------------------+------------------+----------+\n",
      "|    | Classifier type              |   <(0, 300)> |   <(100, 400)> |   <(200, 500)> |   <(300, 600)> |   <(400, 700)> |   <(500, 800)> |   <(600, 900)> |   <(700, 1000)> |   <(800, 1100)> |   <(900, 1200)> |   <(1000, 1300)> |   <(1100, 1400)> |   <(1200, 1500)> |   <(1300, 1600)> |   <(1400, 1700)> |   <(1500, 1800)> |   <(1600, 1900)> |   <(1700, 2000)> |   <(1800, 2100)> |   <(1900, 2200)> |   <(2000, 2300)> |   <(2100, 2400)> |   <(2200, 2500)> |   <(2300, 2600)> |   <(2400, 2700)> |   <(2500, 2800)> |   <(2600, 2900)> |   <(2700, 3000)> |   <(2800, 3100)> |   <(2900, 3200)> |   <(3000, 3300)> |   <(3100, 3400)> |   <(3200, 3500)> |   <(3300, 3600)> |   <(3400, 3700)> |   <(3500, 3800)> |   <(3600, 3900)> |   <(3700, 4000)> |     mean |\n",
      "|----+------------------------------+--------------+----------------+----------------+----------------+----------------+----------------+----------------+-----------------+-----------------+-----------------+------------------+------------------+------------------+------------------+------------------+------------------+------------------+------------------+------------------+------------------+------------------+------------------+------------------+------------------+------------------+------------------+------------------+------------------+------------------+------------------+------------------+------------------+------------------+------------------+------------------+------------------+------------------+------------------+----------|\n",
      "|  0 | DecisionTreeClassifier 1     |     0.414141 |       0.464646 |       0.272727 |       0.484848 |       0.353535 |       0.555556 |       0.434343 |        0.474747 |        0.30303  |        0.353535 |         0.171717 |         0.383838 |         0.424242 |         0.515152 |         0.353535 |         0.212121 |         0.424242 |         0.494949 |         0.585859 |         0.212121 |         0.585859 |         0.191919 |         0.454545 |         0.212121 |         0.434343 |         0.525253 |         0.424242 |         0.191919 |         0.333333 |         0.232323 |         0.454545 |         0.444444 |         0.373737 |         0.292929 |         0.474747 |         0.333333 |         0.434343 |         0.40404  | 0.386497 |\n",
      "|  1 | DecisionTreeClassifier 2     |     0.323232 |       0.656566 |       0.141414 |       0.373737 |       0.585859 |       0.484848 |       0.40404  |        0.363636 |        0.363636 |        0.575758 |         0.212121 |         0.30303  |         0.656566 |         0.545455 |         0.30303  |         0.373737 |         0.343434 |         0.171717 |         0.515152 |         0.191919 |         0.585859 |         0.282828 |         0.333333 |         0.545455 |         0.40404  |         0.373737 |         0.242424 |         0.434343 |         0.353535 |         0.212121 |         0.424242 |         0.505051 |         0.676768 |         0.313131 |         0.474747 |         0.242424 |         0.505051 |         0.333333 | 0.398192 |\n",
      "|  2 | RandomForestClassifier 1     |     0.434343 |       0.666667 |       0.171717 |       0.494949 |       0.424242 |       0.494949 |       0.505051 |        0.444444 |        0.383838 |        0.484848 |         0.171717 |         0.484848 |         0.616162 |         0.414141 |         0.333333 |         0.292929 |         0.393939 |         0.292929 |         0.59596  |         0.161616 |         0.646465 |         0.232323 |         0.464646 |         0.282828 |         0.292929 |         0.262626 |         0.555556 |         0.40404  |         0.40404  |         0.282828 |         0.373737 |         0.525253 |         0.565657 |         0.353535 |         0.474747 |         0.10101  |         0.434343 |         0.40404  | 0.403243 |\n",
      "|  3 | RandomForestClassifier 2     |     0.434343 |       0.666667 |       0.181818 |       0.494949 |       0.424242 |       0.545455 |       0.545455 |        0.40404  |        0.383838 |        0.484848 |         0.181818 |         0.474747 |         0.59596  |         0.414141 |         0.313131 |         0.282828 |         0.393939 |         0.292929 |         0.69697  |         0.161616 |         0.646465 |         0.232323 |         0.454545 |         0.282828 |         0.292929 |         0.252525 |         0.545455 |         0.383838 |         0.353535 |         0.282828 |         0.40404  |         0.59596  |         0.616162 |         0.232323 |         0.474747 |         0.121212 |         0.434343 |         0.353535 | 0.403509 |\n",
      "|  4 | GradientBoostingClassifier 1 |     0.545455 |       0.565657 |       0.181818 |       0.464646 |       0.363636 |       0.515152 |       0.20202  |        0.40404  |        0.343434 |        0.444444 |         0.161616 |         0.383838 |         0.434343 |         0.565657 |         0.292929 |         0.262626 |         0.30303  |         0.30303  |         0.555556 |         0.161616 |         0.545455 |         0.252525 |         0.454545 |         0.373737 |         0.333333 |         0.505051 |         0.444444 |         0.40404  |         0.272727 |         0.363636 |         0.333333 |         0.505051 |         0.525253 |         0.333333 |         0.474747 |         0.252525 |         0.515152 |         0.393939 | 0.387826 |\n",
      "|  5 | GradientBoostingClassifier 2 |     0.585859 |       0.565657 |       0.181818 |       0.474747 |       0.393939 |       0.525253 |       0.20202  |        0.40404  |        0.363636 |        0.383838 |         0.353535 |         0.464646 |         0.343434 |         0.494949 |         0.262626 |         0.242424 |         0.313131 |         0.292929 |         0.545455 |         0.161616 |         0.484848 |         0.242424 |         0.424242 |         0.363636 |         0.313131 |         0.40404  |         0.515152 |         0.363636 |         0.242424 |         0.343434 |         0.373737 |         0.494949 |         0.525253 |         0.313131 |         0.474747 |         0.252525 |         0.515152 |         0.353535 | 0.383041 |\n",
      "|  6 | GradientBoostingClassifier 3 |     0.666667 |       0.555556 |       0.171717 |       0.474747 |       0.353535 |       0.474747 |       0.212121 |        0.40404  |        0.353535 |        0.434343 |         0.272727 |         0.474747 |         0.363636 |         0.424242 |         0.262626 |         0.232323 |         0.292929 |         0.323232 |         0.555556 |         0.181818 |         0.525253 |         0.232323 |         0.434343 |         0.323232 |         0.30303  |         0.505051 |         0.535354 |         0.363636 |         0.252525 |         0.313131 |         0.363636 |         0.515152 |         0.535354 |         0.323232 |         0.474747 |         0.252525 |         0.515152 |         0.363636 | 0.384636 |\n",
      "+----+------------------------------+--------------+----------------+----------------+----------------+----------------+----------------+----------------+-----------------+-----------------+-----------------+------------------+------------------+------------------+------------------+------------------+------------------+------------------+------------------+------------------+------------------+------------------+------------------+------------------+------------------+------------------+------------------+------------------+------------------+------------------+------------------+------------------+------------------+------------------+------------------+------------------+------------------+------------------+------------------+----------+\n"
     ]
    }
   ],
   "source": [
    "# print(score['DecisionTreeClassifier 1'])\n",
    "# print(score['DecisionTreeClassifier 2'])\n",
    "\n",
    "headers = [\"Classifier type\", \"Accuracy\"]\n",
    "score_df = pd.DataFrame(score.items(), columns=headers)\n",
    "# print(tabulate(score_df, headers, tablefmt=\"psql\"))\n",
    "headers2 = [\"Classifier type\",] + step_headers\n",
    "score_df = pd.DataFrame(score.items(), columns=headers)\n",
    "accuracy_df = pd.DataFrame(score_df['Accuracy'].tolist(), index= score_df.index, columns=step_headers)\n",
    "score_df = score_df.drop('Accuracy', 1)\n",
    "f_out = pd.merge(score_df, accuracy_df, how='left', left_index=True, right_index=True)\n",
    "f_out['mean'] = f_out.mean(axis=1)\n",
    "headers2 = headers2 + ['mean']\n",
    "print(tabulate(f_out,headers2 , tablefmt=\"psql\"))"
   ],
   "metadata": {
    "collapsed": false,
    "pycharm": {
     "name": "#%%\n"
    }
   }
  }
 ],
 "metadata": {
  "kernelspec": {
   "name": "magisterka_analiza",
   "language": "python",
   "display_name": "Python magisterka"
  },
  "language_info": {
   "codemirror_mode": {
    "name": "ipython",
    "version": 2
   },
   "file_extension": ".py",
   "mimetype": "text/x-python",
   "name": "python",
   "nbconvert_exporter": "python",
   "pygments_lexer": "ipython2",
   "version": "2.7.6"
  }
 },
 "nbformat": 4,
 "nbformat_minor": 0
}