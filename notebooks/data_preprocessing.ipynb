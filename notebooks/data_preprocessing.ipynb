{
 "cells": [
  {
   "cell_type": "code",
   "execution_count": 126,
   "outputs": [],
   "source": [
    "from collections import defaultdict\n",
    "from datetime import datetime\n",
    "import matplotlib.pyplot as plt\n",
    "import pandas as pd\n",
    "import seaborn as sn\n",
    "import yfinance as yf\n",
    "from finta import TA\n",
    "from sklearn.ensemble import RandomForestClassifier, GradientBoostingClassifier\n",
    "from sklearn.model_selection import train_test_split\n",
    "from sklearn.metrics import confusion_matrix, classification_report, accuracy_score\n",
    "from sklearn.tree import DecisionTreeClassifier\n",
    "from tabulate import tabulate\n",
    "from ta import add_all_ta_features"
   ],
   "metadata": {
    "collapsed": false,
    "pycharm": {
     "name": "#%%\n"
    }
   }
  },
  {
   "cell_type": "code",
   "execution_count": 127,
   "outputs": [],
   "source": [
    "WINDOW = 16  # number of rows to look ahead to see what the price did\n",
    "FETCH_INTERVAL = \"60m\"  # fetch data by interval (including intraday if period < 60 days)\n",
    "# valid intervals: 1m,2m,5m,15m,30m,60m,90m,1h,1d,5d,1wk,1mo,3mo\n",
    "# (optional, default is '1d')\n",
    "INTERVAL = '1y'  # use \"period\" instead of start/end\n",
    "# valid periods: 1d,5d,1mo,3mo,6mo,1y,2y,5y,10y,ytd,max\n",
    "# (optional, default is '1mo')\n",
    "symbol = 'AAPL'  # Symbol of the desired stock\n",
    "ROWS_TO_PREDICT = 128\n",
    "# one day 16 rows of data"
   ],
   "metadata": {
    "collapsed": false,
    "pycharm": {
     "name": "#%%\n"
    }
   }
  },
  {
   "cell_type": "code",
   "execution_count": 128,
   "outputs": [],
   "source": [
    "data = pd.read_csv(\n",
    "    'C:\\\\Users\\\\exomat\\\\Desktop\\\\repo\\\\magisterka_analiza\\\\data\\\\preprocess\\\\APPLE_22_03_2021 21_56_34.csv')\n",
    "\n"
   ],
   "metadata": {
    "collapsed": false,
    "pycharm": {
     "name": "#%%\n"
    }
   }
  },
  {
   "cell_type": "code",
   "execution_count": 129,
   "outputs": [
    {
     "data": {
      "text/plain": "        open       high        low      close  Adj Close    volume\n0  56.220000  56.220000  55.500000  55.600000  55.600000         0\n1  55.550000  56.095000  55.370000  55.700000  55.700000         0\n2  56.032500  56.437500  55.937500  56.247500  56.247500         0\n3  56.132500  56.750000  56.042500  56.595000  56.595000         0\n4  56.550000  58.197500  55.625000  57.812500  57.812500         0\n5  57.837500  59.525000  56.887500  57.020000  57.020000         0\n6  56.299999  56.750000  54.823750  55.450001  55.450001  21473989\n7  55.465000  55.889999  53.412498  53.767502  53.767502  11306818\n8  53.762501  55.097500  53.152500  54.803925  54.803925  11355189\n9  54.823875  56.775002  54.472500  55.486252  55.486252  10671797",
      "text/html": "<div>\n<style scoped>\n    .dataframe tbody tr th:only-of-type {\n        vertical-align: middle;\n    }\n\n    .dataframe tbody tr th {\n        vertical-align: top;\n    }\n\n    .dataframe thead th {\n        text-align: right;\n    }\n</style>\n<table border=\"1\" class=\"dataframe\">\n  <thead>\n    <tr style=\"text-align: right;\">\n      <th></th>\n      <th>open</th>\n      <th>high</th>\n      <th>low</th>\n      <th>close</th>\n      <th>Adj Close</th>\n      <th>volume</th>\n    </tr>\n  </thead>\n  <tbody>\n    <tr>\n      <th>0</th>\n      <td>56.220000</td>\n      <td>56.220000</td>\n      <td>55.500000</td>\n      <td>55.600000</td>\n      <td>55.600000</td>\n      <td>0</td>\n    </tr>\n    <tr>\n      <th>1</th>\n      <td>55.550000</td>\n      <td>56.095000</td>\n      <td>55.370000</td>\n      <td>55.700000</td>\n      <td>55.700000</td>\n      <td>0</td>\n    </tr>\n    <tr>\n      <th>2</th>\n      <td>56.032500</td>\n      <td>56.437500</td>\n      <td>55.937500</td>\n      <td>56.247500</td>\n      <td>56.247500</td>\n      <td>0</td>\n    </tr>\n    <tr>\n      <th>3</th>\n      <td>56.132500</td>\n      <td>56.750000</td>\n      <td>56.042500</td>\n      <td>56.595000</td>\n      <td>56.595000</td>\n      <td>0</td>\n    </tr>\n    <tr>\n      <th>4</th>\n      <td>56.550000</td>\n      <td>58.197500</td>\n      <td>55.625000</td>\n      <td>57.812500</td>\n      <td>57.812500</td>\n      <td>0</td>\n    </tr>\n    <tr>\n      <th>5</th>\n      <td>57.837500</td>\n      <td>59.525000</td>\n      <td>56.887500</td>\n      <td>57.020000</td>\n      <td>57.020000</td>\n      <td>0</td>\n    </tr>\n    <tr>\n      <th>6</th>\n      <td>56.299999</td>\n      <td>56.750000</td>\n      <td>54.823750</td>\n      <td>55.450001</td>\n      <td>55.450001</td>\n      <td>21473989</td>\n    </tr>\n    <tr>\n      <th>7</th>\n      <td>55.465000</td>\n      <td>55.889999</td>\n      <td>53.412498</td>\n      <td>53.767502</td>\n      <td>53.767502</td>\n      <td>11306818</td>\n    </tr>\n    <tr>\n      <th>8</th>\n      <td>53.762501</td>\n      <td>55.097500</td>\n      <td>53.152500</td>\n      <td>54.803925</td>\n      <td>54.803925</td>\n      <td>11355189</td>\n    </tr>\n    <tr>\n      <th>9</th>\n      <td>54.823875</td>\n      <td>56.775002</td>\n      <td>54.472500</td>\n      <td>55.486252</td>\n      <td>55.486252</td>\n      <td>10671797</td>\n    </tr>\n  </tbody>\n</table>\n</div>"
     },
     "execution_count": 129,
     "metadata": {},
     "output_type": "execute_result"
    }
   ],
   "source": [
    "data.rename(columns={\"Close\": 'close', \"High\": 'high', \"Low\": 'low', 'Volume': 'volume', 'Open': 'open'}, inplace=True)\n",
    "data.head(10)"
   ],
   "metadata": {
    "collapsed": false,
    "pycharm": {
     "name": "#%%\n"
    }
   }
  },
  {
   "cell_type": "code",
   "execution_count": 130,
   "outputs": [
    {
     "data": {
      "text/plain": "<AxesSubplot:>"
     },
     "execution_count": 130,
     "metadata": {},
     "output_type": "execute_result"
    },
    {
     "data": {
      "text/plain": "<Figure size 432x288 with 1 Axes>",
      "image/png": "[encoded data removed]"
     },
     "metadata": {
      "needs_background": "light"
     },
     "output_type": "display_data"
    }
   ],
   "source": [
    "data['close'].plot()"
   ],
   "metadata": {
    "collapsed": false,
    "pycharm": {
     "name": "#%%\n"
    }
   }
  },
  {
   "cell_type": "code",
   "execution_count": 131,
   "outputs": [
    {
     "data": {
      "text/plain": "      open     high      low    close  Adj Close  volume  close_pct\n0  56.2200  56.2200  55.5000  55.6000    55.6000       0        NaN\n1  55.5500  56.0950  55.3700  55.7000    55.7000       0   0.001799\n2  56.0325  56.4375  55.9375  56.2475    56.2475       0   0.009829\n3  56.1325  56.7500  56.0425  56.5950    56.5950       0   0.006178\n4  56.5500  58.1975  55.6250  57.8125    57.8125       0   0.021513",
      "text/html": "<div>\n<style scoped>\n    .dataframe tbody tr th:only-of-type {\n        vertical-align: middle;\n    }\n\n    .dataframe tbody tr th {\n        vertical-align: top;\n    }\n\n    .dataframe thead th {\n        text-align: right;\n    }\n</style>\n<table border=\"1\" class=\"dataframe\">\n  <thead>\n    <tr style=\"text-align: right;\">\n      <th></th>\n      <th>open</th>\n      <th>high</th>\n      <th>low</th>\n      <th>close</th>\n      <th>Adj Close</th>\n      <th>volume</th>\n      <th>close_pct</th>\n    </tr>\n  </thead>\n  <tbody>\n    <tr>\n      <th>0</th>\n      <td>56.2200</td>\n      <td>56.2200</td>\n      <td>55.5000</td>\n      <td>55.6000</td>\n      <td>55.6000</td>\n      <td>0</td>\n      <td>NaN</td>\n    </tr>\n    <tr>\n      <th>1</th>\n      <td>55.5500</td>\n      <td>56.0950</td>\n      <td>55.3700</td>\n      <td>55.7000</td>\n      <td>55.7000</td>\n      <td>0</td>\n      <td>0.001799</td>\n    </tr>\n    <tr>\n      <th>2</th>\n      <td>56.0325</td>\n      <td>56.4375</td>\n      <td>55.9375</td>\n      <td>56.2475</td>\n      <td>56.2475</td>\n      <td>0</td>\n      <td>0.009829</td>\n    </tr>\n    <tr>\n      <th>3</th>\n      <td>56.1325</td>\n      <td>56.7500</td>\n      <td>56.0425</td>\n      <td>56.5950</td>\n      <td>56.5950</td>\n      <td>0</td>\n      <td>0.006178</td>\n    </tr>\n    <tr>\n      <th>4</th>\n      <td>56.5500</td>\n      <td>58.1975</td>\n      <td>55.6250</td>\n      <td>57.8125</td>\n      <td>57.8125</td>\n      <td>0</td>\n      <td>0.021513</td>\n    </tr>\n  </tbody>\n</table>\n</div>"
     },
     "execution_count": 131,
     "metadata": {},
     "output_type": "execute_result"
    }
   ],
   "source": [
    "data['close_pct'] = data['close'].pct_change()\n",
    "data.head()"
   ],
   "metadata": {
    "collapsed": false,
    "pycharm": {
     "name": "#%%\n"
    }
   }
  },
  {
   "cell_type": "code",
   "execution_count": 132,
   "outputs": [
    {
     "data": {
      "text/plain": "              open         high          low        close    Adj Close  \\\ncount  4183.000000  4183.000000  4183.000000  4183.000000  4183.000000   \nmean    106.643887   107.166827   106.048708   106.644971   106.644971   \nstd      22.417863    23.119607    22.318330    22.402033    22.402033   \nmin      53.762501    55.097500    50.978220    53.767502    53.767502   \n25%      88.078750    88.337500    87.816251    88.085000    88.085000   \n50%     114.907500   115.240000   114.200000   114.900000   114.900000   \n75%     123.514999   124.200000   122.829999   123.482502   123.482502   \nmax     144.900000   438.440000   144.590000   144.910000   144.910000   \n\n             volume    close_pct  \ncount  4.183000e+03  4182.000000  \nmean   4.714023e+06     0.000208  \nstd    8.307361e+06     0.005948  \nmin    0.000000e+00    -0.051319  \n25%    0.000000e+00    -0.002029  \n50%    0.000000e+00     0.000164  \n75%    7.035940e+06     0.002525  \nmax    9.845401e+07     0.051457  ",
      "text/html": "<div>\n<style scoped>\n    .dataframe tbody tr th:only-of-type {\n        vertical-align: middle;\n    }\n\n    .dataframe tbody tr th {\n        vertical-align: top;\n    }\n\n    .dataframe thead th {\n        text-align: right;\n    }\n</style>\n<table border=\"1\" class=\"dataframe\">\n  <thead>\n    <tr style=\"text-align: right;\">\n      <th></th>\n      <th>open</th>\n      <th>high</th>\n      <th>low</th>\n      <th>close</th>\n      <th>Adj Close</th>\n      <th>volume</th>\n      <th>close_pct</th>\n    </tr>\n  </thead>\n  <tbody>\n    <tr>\n      <th>count</th>\n      <td>4183.000000</td>\n      <td>4183.000000</td>\n      <td>4183.000000</td>\n      <td>4183.000000</td>\n      <td>4183.000000</td>\n      <td>4.183000e+03</td>\n      <td>4182.000000</td>\n    </tr>\n    <tr>\n      <th>mean</th>\n      <td>106.643887</td>\n      <td>107.166827</td>\n      <td>106.048708</td>\n      <td>106.644971</td>\n      <td>106.644971</td>\n      <td>4.714023e+06</td>\n      <td>0.000208</td>\n    </tr>\n    <tr>\n      <th>std</th>\n      <td>22.417863</td>\n      <td>23.119607</td>\n      <td>22.318330</td>\n      <td>22.402033</td>\n      <td>22.402033</td>\n      <td>8.307361e+06</td>\n      <td>0.005948</td>\n    </tr>\n    <tr>\n      <th>min</th>\n      <td>53.762501</td>\n      <td>55.097500</td>\n      <td>50.978220</td>\n      <td>53.767502</td>\n      <td>53.767502</td>\n      <td>0.000000e+00</td>\n      <td>-0.051319</td>\n    </tr>\n    <tr>\n      <th>25%</th>\n      <td>88.078750</td>\n      <td>88.337500</td>\n      <td>87.816251</td>\n      <td>88.085000</td>\n      <td>88.085000</td>\n      <td>0.000000e+00</td>\n      <td>-0.002029</td>\n    </tr>\n    <tr>\n      <th>50%</th>\n      <td>114.907500</td>\n      <td>115.240000</td>\n      <td>114.200000</td>\n      <td>114.900000</td>\n      <td>114.900000</td>\n      <td>0.000000e+00</td>\n      <td>0.000164</td>\n    </tr>\n    <tr>\n      <th>75%</th>\n      <td>123.514999</td>\n      <td>124.200000</td>\n      <td>122.829999</td>\n      <td>123.482502</td>\n      <td>123.482502</td>\n      <td>7.035940e+06</td>\n      <td>0.002525</td>\n    </tr>\n    <tr>\n      <th>max</th>\n      <td>144.900000</td>\n      <td>438.440000</td>\n      <td>144.590000</td>\n      <td>144.910000</td>\n      <td>144.910000</td>\n      <td>9.845401e+07</td>\n      <td>0.051457</td>\n    </tr>\n  </tbody>\n</table>\n</div>"
     },
     "execution_count": 132,
     "metadata": {},
     "output_type": "execute_result"
    }
   ],
   "source": [
    "data.describe()"
   ],
   "metadata": {
    "collapsed": false,
    "pycharm": {
     "name": "#%%\n"
    }
   }
  },
  {
   "cell_type": "code",
   "execution_count": 133,
   "outputs": [],
   "source": [
    "def _get_indicator_data(data):\n",
    "    \"\"\"\n",
    "    Function that uses the finta API to calculate technical indicators used as the features\n",
    "    :return:\n",
    "    \"\"\"\n",
    "\n",
    "    data = add_all_ta_features(\n",
    "        data, open=\"open\", high=\"high\", low=\"low\", close=\"close\", volume=\"volume\", fillna=True)\n",
    "\n",
    "    # Instead of using the actual volume value (which changes over time), we normalize it with a moving volume average\n",
    "    # data['normVol'] = data['volume'] / data['volume'].ewm(5).mean()\n",
    "    # for i in range(1,50):\n",
    "    #     data[f'close{i}'] = data['close'].shift(i)\n",
    "    # Remove columns that won't be used as features\n",
    "    # del (data['Adj Close'])\n",
    "\n",
    "    return data\n"
   ],
   "metadata": {
    "collapsed": false,
    "pycharm": {
     "name": "#%%\n"
    }
   }
  },
  {
   "cell_type": "code",
   "execution_count": 134,
   "outputs": [
    {
     "data": {
      "text/plain": "            open        high         low       close   Adj Close    volume  \\\n0      56.220000   56.220000   55.500000   55.600000   55.600000         0   \n1      55.550000   56.095000   55.370000   55.700000   55.700000         0   \n2      56.032500   56.437500   55.937500   56.247500   56.247500         0   \n3      56.132500   56.750000   56.042500   56.595000   56.595000         0   \n4      56.550000   58.197500   55.625000   57.812500   57.812500         0   \n...          ...         ...         ...         ...         ...       ...   \n4178  123.425003  123.769997  123.040001  123.091103  123.091103  12373575   \n4179  123.090103  123.720001  123.080002  123.542000  123.542000   9430925   \n4180  123.544998  123.870003  123.275002  123.345001  123.345001  11354023   \n4181  123.339996  123.599998  123.019997  123.370003  123.370003  10684835   \n4182  123.390000  123.500000  122.803400  123.120000  123.120000   9642937   \n\n      close_pct  \n0           NaN  \n1      0.001799  \n2      0.009829  \n3      0.006178  \n4      0.021513  \n...         ...  \n4178  -0.002746  \n4179   0.003663  \n4180  -0.001595  \n4181   0.000203  \n4182  -0.002026  \n\n[4183 rows x 7 columns]",
      "text/html": "<div>\n<style scoped>\n    .dataframe tbody tr th:only-of-type {\n        vertical-align: middle;\n    }\n\n    .dataframe tbody tr th {\n        vertical-align: top;\n    }\n\n    .dataframe thead th {\n        text-align: right;\n    }\n</style>\n<table border=\"1\" class=\"dataframe\">\n  <thead>\n    <tr style=\"text-align: right;\">\n      <th></th>\n      <th>open</th>\n      <th>high</th>\n      <th>low</th>\n      <th>close</th>\n      <th>Adj Close</th>\n      <th>volume</th>\n      <th>close_pct</th>\n    </tr>\n  </thead>\n  <tbody>\n    <tr>\n      <th>0</th>\n      <td>56.220000</td>\n      <td>56.220000</td>\n      <td>55.500000</td>\n      <td>55.600000</td>\n      <td>55.600000</td>\n      <td>0</td>\n      <td>NaN</td>\n    </tr>\n    <tr>\n      <th>1</th>\n      <td>55.550000</td>\n      <td>56.095000</td>\n      <td>55.370000</td>\n      <td>55.700000</td>\n      <td>55.700000</td>\n      <td>0</td>\n      <td>0.001799</td>\n    </tr>\n    <tr>\n      <th>2</th>\n      <td>56.032500</td>\n      <td>56.437500</td>\n      <td>55.937500</td>\n      <td>56.247500</td>\n      <td>56.247500</td>\n      <td>0</td>\n      <td>0.009829</td>\n    </tr>\n    <tr>\n      <th>3</th>\n      <td>56.132500</td>\n      <td>56.750000</td>\n      <td>56.042500</td>\n      <td>56.595000</td>\n      <td>56.595000</td>\n      <td>0</td>\n      <td>0.006178</td>\n    </tr>\n    <tr>\n      <th>4</th>\n      <td>56.550000</td>\n      <td>58.197500</td>\n      <td>55.625000</td>\n      <td>57.812500</td>\n      <td>57.812500</td>\n      <td>0</td>\n      <td>0.021513</td>\n    </tr>\n    <tr>\n      <th>...</th>\n      <td>...</td>\n      <td>...</td>\n      <td>...</td>\n      <td>...</td>\n      <td>...</td>\n      <td>...</td>\n      <td>...</td>\n    </tr>\n    <tr>\n      <th>4178</th>\n      <td>123.425003</td>\n      <td>123.769997</td>\n      <td>123.040001</td>\n      <td>123.091103</td>\n      <td>123.091103</td>\n      <td>12373575</td>\n      <td>-0.002746</td>\n    </tr>\n    <tr>\n      <th>4179</th>\n      <td>123.090103</td>\n      <td>123.720001</td>\n      <td>123.080002</td>\n      <td>123.542000</td>\n      <td>123.542000</td>\n      <td>9430925</td>\n      <td>0.003663</td>\n    </tr>\n    <tr>\n      <th>4180</th>\n      <td>123.544998</td>\n      <td>123.870003</td>\n      <td>123.275002</td>\n      <td>123.345001</td>\n      <td>123.345001</td>\n      <td>11354023</td>\n      <td>-0.001595</td>\n    </tr>\n    <tr>\n      <th>4181</th>\n      <td>123.339996</td>\n      <td>123.599998</td>\n      <td>123.019997</td>\n      <td>123.370003</td>\n      <td>123.370003</td>\n      <td>10684835</td>\n      <td>0.000203</td>\n    </tr>\n    <tr>\n      <th>4182</th>\n      <td>123.390000</td>\n      <td>123.500000</td>\n      <td>122.803400</td>\n      <td>123.120000</td>\n      <td>123.120000</td>\n      <td>9642937</td>\n      <td>-0.002026</td>\n    </tr>\n  </tbody>\n</table>\n<p>4183 rows × 7 columns</p>\n</div>"
     },
     "execution_count": 134,
     "metadata": {},
     "output_type": "execute_result"
    }
   ],
   "source": [
    "data"
   ],
   "metadata": {
    "collapsed": false,
    "pycharm": {
     "name": "#%%\n"
    }
   }
  },
  {
   "cell_type": "code",
   "execution_count": 135,
   "outputs": [
    {
     "data": {
      "text/plain": "Index(['open', 'high', 'low', 'close', 'Adj Close', 'volume', 'close_pct'], dtype='object')"
     },
     "execution_count": 135,
     "metadata": {},
     "output_type": "execute_result"
    }
   ],
   "source": [
    "data.columns"
   ],
   "metadata": {
    "collapsed": false,
    "pycharm": {
     "name": "#%%\n"
    }
   }
  },
  {
   "cell_type": "code",
   "execution_count": 136,
   "outputs": [],
   "source": [
    "def create_class_column(row, lowest_threshold, higher_threshold):\n",
    "    if row['close_shift'] - row['close'] > higher_threshold:\n",
    "        return 1\n",
    "    if row['close_shift'] - row['close'] < lowest_threshold:\n",
    "        return -1\n",
    "    else:\n",
    "        return 0"
   ],
   "metadata": {
    "collapsed": false,
    "pycharm": {
     "name": "#%%\n"
    }
   }
  },
  {
   "cell_type": "code",
   "execution_count": 137,
   "outputs": [
    {
     "data": {
      "text/plain": "            open        high         low       close   Adj Close    volume  \\\n0      56.220000   56.220000   55.500000   55.600000   55.600000         0   \n1      55.550000   56.095000   55.370000   55.700000   55.700000         0   \n2      56.032500   56.437500   55.937500   56.247500   56.247500         0   \n3      56.132500   56.750000   56.042500   56.595000   56.595000         0   \n4      56.550000   58.197500   55.625000   57.812500   57.812500         0   \n...          ...         ...         ...         ...         ...       ...   \n4178  123.425003  123.769997  123.040001  123.091103  123.091103  12373575   \n4179  123.090103  123.720001  123.080002  123.542000  123.542000   9430925   \n4180  123.544998  123.870003  123.275002  123.345001  123.345001  11354023   \n4181  123.339996  123.599998  123.019997  123.370003  123.370003  10684835   \n4182  123.390000  123.500000  122.803400  123.120000  123.120000   9642937   \n\n      close_pct  close_shift  \n0           NaN      56.8750  \n1      0.001799      58.4475  \n2      0.009829      58.5500  \n3      0.006178      59.2225  \n4      0.021513      58.3075  \n...         ...          ...  \n4178  -0.002746          NaN  \n4179   0.003663          NaN  \n4180  -0.001595          NaN  \n4181   0.000203          NaN  \n4182  -0.002026          NaN  \n\n[4183 rows x 8 columns]",
      "text/html": "<div>\n<style scoped>\n    .dataframe tbody tr th:only-of-type {\n        vertical-align: middle;\n    }\n\n    .dataframe tbody tr th {\n        vertical-align: top;\n    }\n\n    .dataframe thead th {\n        text-align: right;\n    }\n</style>\n<table border=\"1\" class=\"dataframe\">\n  <thead>\n    <tr style=\"text-align: right;\">\n      <th></th>\n      <th>open</th>\n      <th>high</th>\n      <th>low</th>\n      <th>close</th>\n      <th>Adj Close</th>\n      <th>volume</th>\n      <th>close_pct</th>\n      <th>close_shift</th>\n    </tr>\n  </thead>\n  <tbody>\n    <tr>\n      <th>0</th>\n      <td>56.220000</td>\n      <td>56.220000</td>\n      <td>55.500000</td>\n      <td>55.600000</td>\n      <td>55.600000</td>\n      <td>0</td>\n      <td>NaN</td>\n      <td>56.8750</td>\n    </tr>\n    <tr>\n      <th>1</th>\n      <td>55.550000</td>\n      <td>56.095000</td>\n      <td>55.370000</td>\n      <td>55.700000</td>\n      <td>55.700000</td>\n      <td>0</td>\n      <td>0.001799</td>\n      <td>58.4475</td>\n    </tr>\n    <tr>\n      <th>2</th>\n      <td>56.032500</td>\n      <td>56.437500</td>\n      <td>55.937500</td>\n      <td>56.247500</td>\n      <td>56.247500</td>\n      <td>0</td>\n      <td>0.009829</td>\n      <td>58.5500</td>\n    </tr>\n    <tr>\n      <th>3</th>\n      <td>56.132500</td>\n      <td>56.750000</td>\n      <td>56.042500</td>\n      <td>56.595000</td>\n      <td>56.595000</td>\n      <td>0</td>\n      <td>0.006178</td>\n      <td>59.2225</td>\n    </tr>\n    <tr>\n      <th>4</th>\n      <td>56.550000</td>\n      <td>58.197500</td>\n      <td>55.625000</td>\n      <td>57.812500</td>\n      <td>57.812500</td>\n      <td>0</td>\n      <td>0.021513</td>\n      <td>58.3075</td>\n    </tr>\n    <tr>\n      <th>...</th>\n      <td>...</td>\n      <td>...</td>\n      <td>...</td>\n      <td>...</td>\n      <td>...</td>\n      <td>...</td>\n      <td>...</td>\n      <td>...</td>\n    </tr>\n    <tr>\n      <th>4178</th>\n      <td>123.425003</td>\n      <td>123.769997</td>\n      <td>123.040001</td>\n      <td>123.091103</td>\n      <td>123.091103</td>\n      <td>12373575</td>\n      <td>-0.002746</td>\n      <td>NaN</td>\n    </tr>\n    <tr>\n      <th>4179</th>\n      <td>123.090103</td>\n      <td>123.720001</td>\n      <td>123.080002</td>\n      <td>123.542000</td>\n      <td>123.542000</td>\n      <td>9430925</td>\n      <td>0.003663</td>\n      <td>NaN</td>\n    </tr>\n    <tr>\n      <th>4180</th>\n      <td>123.544998</td>\n      <td>123.870003</td>\n      <td>123.275002</td>\n      <td>123.345001</td>\n      <td>123.345001</td>\n      <td>11354023</td>\n      <td>-0.001595</td>\n      <td>NaN</td>\n    </tr>\n    <tr>\n      <th>4181</th>\n      <td>123.339996</td>\n      <td>123.599998</td>\n      <td>123.019997</td>\n      <td>123.370003</td>\n      <td>123.370003</td>\n      <td>10684835</td>\n      <td>0.000203</td>\n      <td>NaN</td>\n    </tr>\n    <tr>\n      <th>4182</th>\n      <td>123.390000</td>\n      <td>123.500000</td>\n      <td>122.803400</td>\n      <td>123.120000</td>\n      <td>123.120000</td>\n      <td>9642937</td>\n      <td>-0.002026</td>\n      <td>NaN</td>\n    </tr>\n  </tbody>\n</table>\n<p>4183 rows × 8 columns</p>\n</div>"
     },
     "execution_count": 137,
     "metadata": {},
     "output_type": "execute_result"
    }
   ],
   "source": [
    "data['close_shift'] = data.shift(-WINDOW)['close']\n",
    "data"
   ],
   "metadata": {
    "collapsed": false,
    "pycharm": {
     "name": "#%%\n"
    }
   }
  },
  {
   "cell_type": "code",
   "execution_count": 138,
   "outputs": [
    {
     "name": "stdout",
     "output_type": "stream",
     "text": [
      " 0    2289\n",
      " 1    1105\n",
      "-1     789\n",
      "Name: class_column, dtype: int64\n",
      "1.49 -1.49\n",
      " 0    2276\n",
      " 1    1114\n",
      "-1     793\n",
      "Name: class_column, dtype: int64\n",
      "1.48 -1.48\n",
      " 0    2262\n",
      " 1    1119\n",
      "-1     802\n",
      "Name: class_column, dtype: int64\n",
      "1.47 -1.47\n",
      " 0    2248\n",
      " 1    1128\n",
      "-1     807\n",
      "Name: class_column, dtype: int64\n",
      "1.46 -1.46\n",
      " 0    2234\n",
      " 1    1136\n",
      "-1     813\n",
      "Name: class_column, dtype: int64\n",
      "1.45 -1.45\n",
      " 0    2226\n",
      " 1    1137\n",
      "-1     820\n",
      "Name: class_column, dtype: int64\n",
      "1.44 -1.44\n",
      " 0    2220\n",
      " 1    1141\n",
      "-1     822\n",
      "Name: class_column, dtype: int64\n",
      "1.43 -1.43\n",
      " 0    2211\n",
      " 1    1149\n",
      "-1     823\n",
      "Name: class_column, dtype: int64\n",
      "1.42 -1.42\n",
      " 0    2197\n",
      " 1    1155\n",
      "-1     831\n",
      "Name: class_column, dtype: int64\n",
      "1.41 -1.41\n",
      " 0    2186\n",
      " 1    1161\n",
      "-1     836\n",
      "Name: class_column, dtype: int64\n",
      "1.4 -1.4\n",
      " 0    2177\n",
      " 1    1167\n",
      "-1     839\n",
      "Name: class_column, dtype: int64\n",
      "1.39 -1.39\n",
      " 0    2163\n",
      " 1    1176\n",
      "-1     844\n",
      "Name: class_column, dtype: int64\n",
      "1.38 -1.38\n",
      " 0    2152\n",
      " 1    1180\n",
      "-1     851\n",
      "Name: class_column, dtype: int64\n",
      "1.3699999999999999 -1.3699999999999999\n",
      " 0    2142\n",
      " 1    1183\n",
      "-1     858\n",
      "Name: class_column, dtype: int64\n",
      "1.3599999999999999 -1.3599999999999999\n",
      " 0    2135\n",
      " 1    1187\n",
      "-1     861\n",
      "Name: class_column, dtype: int64\n",
      "1.3499999999999999 -1.3499999999999999\n",
      " 0    2126\n",
      " 1    1193\n",
      "-1     864\n",
      "Name: class_column, dtype: int64\n",
      "1.3399999999999999 -1.3399999999999999\n",
      " 0    2114\n",
      " 1    1197\n",
      "-1     872\n",
      "Name: class_column, dtype: int64\n",
      "1.3299999999999998 -1.3299999999999998\n",
      " 0    2108\n",
      " 1    1200\n",
      "-1     875\n",
      "Name: class_column, dtype: int64\n",
      "1.3199999999999998 -1.3199999999999998\n",
      " 0    2094\n",
      " 1    1207\n",
      "-1     882\n",
      "Name: class_column, dtype: int64\n",
      "1.3099999999999998 -1.3099999999999998\n",
      " 0    2082\n",
      " 1    1213\n",
      "-1     888\n",
      "Name: class_column, dtype: int64\n",
      "1.2999999999999998 -1.2999999999999998\n",
      " 0    2073\n",
      " 1    1217\n",
      "-1     893\n",
      "Name: class_column, dtype: int64\n",
      "1.2899999999999998 -1.2899999999999998\n",
      " 0    2064\n",
      " 1    1223\n",
      "-1     896\n",
      "Name: class_column, dtype: int64\n",
      "1.2799999999999998 -1.2799999999999998\n",
      " 0    2048\n",
      " 1    1229\n",
      "-1     906\n",
      "Name: class_column, dtype: int64\n",
      "1.2699999999999998 -1.2699999999999998\n",
      " 0    2040\n",
      " 1    1234\n",
      "-1     909\n",
      "Name: class_column, dtype: int64\n",
      "1.2599999999999998 -1.2599999999999998\n",
      " 0    2028\n",
      " 1    1240\n",
      "-1     915\n",
      "Name: class_column, dtype: int64\n",
      "1.2499999999999998 -1.2499999999999998\n",
      " 0    2019\n",
      " 1    1244\n",
      "-1     920\n",
      "Name: class_column, dtype: int64\n",
      "1.2399999999999998 -1.2399999999999998\n",
      " 0    2008\n",
      " 1    1250\n",
      "-1     925\n",
      "Name: class_column, dtype: int64\n",
      "1.2299999999999998 -1.2299999999999998\n",
      " 0    1995\n",
      " 1    1257\n",
      "-1     931\n",
      "Name: class_column, dtype: int64\n",
      "1.2199999999999998 -1.2199999999999998\n",
      " 0    1979\n",
      " 1    1265\n",
      "-1     939\n",
      "Name: class_column, dtype: int64\n",
      "1.2099999999999997 -1.2099999999999997\n",
      " 0    1968\n",
      " 1    1272\n",
      "-1     943\n",
      "Name: class_column, dtype: int64\n",
      "1.1999999999999997 -1.1999999999999997\n",
      " 0    1956\n",
      " 1    1278\n",
      "-1     949\n",
      "Name: class_column, dtype: int64\n",
      "1.1899999999999997 -1.1899999999999997\n",
      " 0    1948\n",
      " 1    1284\n",
      "-1     951\n",
      "Name: class_column, dtype: int64\n",
      "1.1799999999999997 -1.1799999999999997\n",
      " 0    1929\n",
      " 1    1296\n",
      "-1     958\n",
      "Name: class_column, dtype: int64\n",
      "1.1699999999999997 -1.1699999999999997\n",
      " 0    1919\n",
      " 1    1303\n",
      "-1     961\n",
      "Name: class_column, dtype: int64\n",
      "1.1599999999999997 -1.1599999999999997\n",
      " 0    1909\n",
      " 1    1310\n",
      "-1     964\n",
      "Name: class_column, dtype: int64\n",
      "1.1499999999999997 -1.1499999999999997\n",
      " 0    1897\n",
      " 1    1316\n",
      "-1     970\n",
      "Name: class_column, dtype: int64\n",
      "1.1399999999999997 -1.1399999999999997\n",
      " 0    1890\n",
      " 1    1321\n",
      "-1     972\n",
      "Name: class_column, dtype: int64\n",
      "1.1299999999999997 -1.1299999999999997\n",
      " 0    1875\n",
      " 1    1331\n",
      "-1     977\n",
      "Name: class_column, dtype: int64\n",
      "1.1199999999999997 -1.1199999999999997\n",
      " 0    1860\n",
      " 1    1336\n",
      "-1     987\n",
      "Name: class_column, dtype: int64\n",
      "1.1099999999999997 -1.1099999999999997\n",
      " 0    1844\n",
      " 1    1343\n",
      "-1     996\n",
      "Name: class_column, dtype: int64\n",
      "1.0999999999999996 -1.0999999999999996\n",
      " 0    1837\n",
      " 1    1345\n",
      "-1    1001\n",
      "Name: class_column, dtype: int64\n",
      "1.0899999999999996 -1.0899999999999996\n",
      " 0    1826\n",
      " 1    1349\n",
      "-1    1008\n",
      "Name: class_column, dtype: int64\n",
      "1.0799999999999996 -1.0799999999999996\n",
      " 0    1819\n",
      " 1    1354\n",
      "-1    1010\n",
      "Name: class_column, dtype: int64\n",
      "1.0699999999999996 -1.0699999999999996\n",
      " 0    1802\n",
      " 1    1364\n",
      "-1    1017\n",
      "Name: class_column, dtype: int64\n",
      "1.0599999999999996 -1.0599999999999996\n",
      " 0    1785\n",
      " 1    1376\n",
      "-1    1022\n",
      "Name: class_column, dtype: int64\n",
      "1.0499999999999996 -1.0499999999999996\n",
      " 0    1774\n",
      " 1    1381\n",
      "-1    1028\n",
      "Name: class_column, dtype: int64\n",
      "1.0399999999999996 -1.0399999999999996\n",
      " 0    1755\n",
      " 1    1390\n",
      "-1    1038\n",
      "Name: class_column, dtype: int64\n",
      "1.0299999999999996 -1.0299999999999996\n",
      " 0    1745\n",
      " 1    1395\n",
      "-1    1043\n",
      "Name: class_column, dtype: int64\n",
      "1.0199999999999996 -1.0199999999999996\n",
      " 0    1736\n",
      " 1    1399\n",
      "-1    1048\n",
      "Name: class_column, dtype: int64\n",
      "1.0099999999999996 -1.0099999999999996\n",
      " 0    1723\n",
      " 1    1409\n",
      "-1    1051\n",
      "Name: class_column, dtype: int64\n",
      "0.9999999999999996 -0.9999999999999996\n",
      " 0    1706\n",
      " 1    1417\n",
      "-1    1060\n",
      "Name: class_column, dtype: int64\n",
      "0.9899999999999995 -0.9899999999999995\n",
      " 0    1694\n",
      " 1    1425\n",
      "-1    1064\n",
      "Name: class_column, dtype: int64\n",
      "0.9799999999999995 -0.9799999999999995\n",
      " 0    1675\n",
      " 1    1434\n",
      "-1    1074\n",
      "Name: class_column, dtype: int64\n",
      "0.9699999999999995 -0.9699999999999995\n",
      " 0    1665\n",
      " 1    1441\n",
      "-1    1077\n",
      "Name: class_column, dtype: int64\n",
      "0.9599999999999995 -0.9599999999999995\n",
      " 0    1651\n",
      " 1    1449\n",
      "-1    1083\n",
      "Name: class_column, dtype: int64\n",
      "0.9499999999999995 -0.9499999999999995\n",
      " 0    1634\n",
      " 1    1456\n",
      "-1    1093\n",
      "Name: class_column, dtype: int64\n",
      "0.9399999999999995 -0.9399999999999995\n",
      " 0    1627\n",
      " 1    1460\n",
      "-1    1096\n",
      "Name: class_column, dtype: int64\n",
      "0.9299999999999995 -0.9299999999999995\n",
      " 0    1610\n",
      " 1    1465\n",
      "-1    1108\n",
      "Name: class_column, dtype: int64\n",
      "0.9199999999999995 -0.9199999999999995\n",
      " 0    1596\n",
      " 1    1471\n",
      "-1    1116\n",
      "Name: class_column, dtype: int64\n",
      "0.9099999999999995 -0.9099999999999995\n",
      " 0    1585\n",
      " 1    1476\n",
      "-1    1122\n",
      "Name: class_column, dtype: int64\n",
      "0.8999999999999995 -0.8999999999999995\n",
      " 0    1562\n",
      " 1    1486\n",
      "-1    1135\n",
      "Name: class_column, dtype: int64\n",
      "0.8899999999999995 -0.8899999999999995\n",
      " 0    1548\n",
      " 1    1495\n",
      "-1    1140\n",
      "Name: class_column, dtype: int64\n",
      "0.8799999999999994 -0.8799999999999994\n",
      " 0    1533\n",
      " 1    1502\n",
      "-1    1148\n",
      "Name: class_column, dtype: int64\n",
      "0.8699999999999994 -0.8699999999999994\n",
      " 0    1516\n",
      " 1    1513\n",
      "-1    1154\n",
      "Name: class_column, dtype: int64\n",
      "0.8599999999999994 -0.8599999999999994\n",
      " 1    1519\n",
      " 0    1504\n",
      "-1    1160\n",
      "Name: class_column, dtype: int64\n",
      "0.8699999999999994 -0.8499999999999994\n",
      " 1    1513\n",
      " 0    1504\n",
      "-1    1166\n",
      "Name: class_column, dtype: int64\n",
      "0.8799999999999994 -0.8399999999999994\n",
      " 1    1502\n",
      " 0    1500\n",
      "-1    1181\n",
      "Name: class_column, dtype: int64\n",
      "0.8899999999999995 -0.8299999999999994\n",
      " 0    1504\n",
      " 1    1495\n",
      "-1    1184\n",
      "Name: class_column, dtype: int64\n",
      "0.8799999999999994 -0.8199999999999994\n",
      " 1    1502\n",
      " 0    1492\n",
      "-1    1189\n",
      "Name: class_column, dtype: int64\n",
      "0.8899999999999995 -0.8099999999999994\n",
      " 1    1495\n",
      " 0    1489\n",
      "-1    1199\n",
      "Name: class_column, dtype: int64\n",
      "0.8999999999999995 -0.7999999999999994\n",
      " 0    1491\n",
      " 1    1486\n",
      "-1    1206\n",
      "Name: class_column, dtype: int64\n",
      "0.8899999999999995 -0.7899999999999994\n",
      " 1    1495\n",
      " 0    1475\n",
      "-1    1213\n",
      "Name: class_column, dtype: int64\n",
      "0.8999999999999995 -0.7799999999999994\n",
      " 1    1486\n",
      " 0    1471\n",
      "-1    1226\n",
      "Name: class_column, dtype: int64\n",
      "0.9099999999999995 -0.7699999999999994\n",
      " 0    1477\n",
      " 1    1476\n",
      "-1    1230\n",
      "Name: class_column, dtype: int64\n",
      "0.8999999999999995 -0.7599999999999993\n",
      " 1    1486\n",
      " 0    1456\n",
      "-1    1241\n",
      "Name: class_column, dtype: int64\n",
      "0.9099999999999995 -0.7499999999999993\n",
      " 1    1476\n",
      " 0    1453\n",
      "-1    1254\n",
      "Name: class_column, dtype: int64\n",
      "0.9199999999999995 -0.7399999999999993\n",
      " 1    1471\n",
      " 0    1452\n",
      "-1    1260\n",
      "Name: class_column, dtype: int64\n",
      "0.9299999999999995 -0.7299999999999993\n",
      " 1    1465\n",
      " 0    1449\n",
      "-1    1269\n",
      "Name: class_column, dtype: int64\n",
      "0.9399999999999995 -0.7199999999999993\n",
      " 1    1460\n",
      " 0    1449\n",
      "-1    1274\n",
      "Name: class_column, dtype: int64\n",
      "0.9499999999999995 -0.7099999999999993\n",
      " 1    1456\n",
      " 0    1446\n",
      "-1    1281\n",
      "Name: class_column, dtype: int64\n",
      "0.9599999999999995 -0.6999999999999993\n",
      " 1    1449\n",
      " 0    1442\n",
      "-1    1292\n",
      "Name: class_column, dtype: int64\n",
      "0.9699999999999995 -0.6899999999999993\n",
      " 1    1441\n",
      " 0    1439\n",
      "-1    1303\n",
      "Name: class_column, dtype: int64\n",
      "0.9799999999999995 -0.6799999999999993\n",
      " 0    1437\n",
      " 1    1434\n",
      "-1    1312\n",
      "Name: class_column, dtype: int64\n",
      "0.9699999999999995 -0.6699999999999993\n",
      " 1    1441\n",
      " 0    1427\n",
      "-1    1315\n",
      "Name: class_column, dtype: int64\n",
      "0.9799999999999995 -0.6599999999999993\n",
      " 1    1434\n",
      " 0    1426\n",
      "-1    1323\n",
      "Name: class_column, dtype: int64\n",
      "0.9899999999999995 -0.6499999999999992\n",
      " 0    1431\n",
      " 1    1425\n",
      "-1    1327\n",
      "Name: class_column, dtype: int64\n",
      "0.9799999999999995 -0.6399999999999992\n",
      " 1    1434\n",
      " 0    1420\n",
      "-1    1329\n",
      "Name: class_column, dtype: int64\n",
      "0.9899999999999995 -0.6299999999999992\n",
      " 1    1425\n",
      " 0    1421\n",
      "-1    1337\n",
      "Name: class_column, dtype: int64\n",
      "0.9999999999999996 -0.6199999999999992\n",
      " 0    1417\n",
      " 1    1417\n",
      "-1    1349\n",
      "Name: class_column, dtype: int64\n",
      "0.9999999999999996 -0.6099999999999992\n",
      " 1    1417\n",
      " 0    1409\n",
      "-1    1357\n",
      "Name: class_column, dtype: int64\n",
      "1.0099999999999996 -0.5999999999999992\n",
      " 0    1412\n",
      " 1    1409\n",
      "-1    1362\n",
      "Name: class_column, dtype: int64\n",
      "0.9999999999999996 -0.5899999999999992\n",
      " 1    1417\n",
      " 0    1393\n",
      "-1    1373\n",
      "Name: class_column, dtype: int64\n",
      "1.0099999999999996 -0.5799999999999992\n",
      " 1    1409\n",
      " 0    1393\n",
      "-1    1381\n",
      "Name: class_column, dtype: int64\n",
      "1.0199999999999996 -0.5699999999999992\n",
      " 1    1399\n",
      " 0    1396\n",
      "-1    1388\n",
      "Name: class_column, dtype: int64\n"
     ]
    },
    {
     "data": {
      "text/plain": "            open        high         low       close   Adj Close    volume  \\\n0      56.220000   56.220000   55.500000   55.600000   55.600000         0   \n1      55.550000   56.095000   55.370000   55.700000   55.700000         0   \n2      56.032500   56.437500   55.937500   56.247500   56.247500         0   \n3      56.132500   56.750000   56.042500   56.595000   56.595000         0   \n4      56.550000   58.197500   55.625000   57.812500   57.812500         0   \n...          ...         ...         ...         ...         ...       ...   \n4178  123.425003  123.769997  123.040001  123.091103  123.091103  12373575   \n4179  123.090103  123.720001  123.080002  123.542000  123.542000   9430925   \n4180  123.544998  123.870003  123.275002  123.345001  123.345001  11354023   \n4181  123.339996  123.599998  123.019997  123.370003  123.370003  10684835   \n4182  123.390000  123.500000  122.803400  123.120000  123.120000   9642937   \n\n      close_pct  close_shift  class_column  \n0           NaN      56.8750             1  \n1      0.001799      58.4475             1  \n2      0.009829      58.5500             1  \n3      0.006178      59.2225             1  \n4      0.021513      58.3075             0  \n...         ...          ...           ...  \n4178  -0.002746          NaN             0  \n4179   0.003663          NaN             0  \n4180  -0.001595          NaN             0  \n4181   0.000203          NaN             0  \n4182  -0.002026          NaN             0  \n\n[4183 rows x 9 columns]",
      "text/html": "<div>\n<style scoped>\n    .dataframe tbody tr th:only-of-type {\n        vertical-align: middle;\n    }\n\n    .dataframe tbody tr th {\n        vertical-align: top;\n    }\n\n    .dataframe thead th {\n        text-align: right;\n    }\n</style>\n<table border=\"1\" class=\"dataframe\">\n  <thead>\n    <tr style=\"text-align: right;\">\n      <th></th>\n      <th>open</th>\n      <th>high</th>\n      <th>low</th>\n      <th>close</th>\n      <th>Adj Close</th>\n      <th>volume</th>\n      <th>close_pct</th>\n      <th>close_shift</th>\n      <th>class_column</th>\n    </tr>\n  </thead>\n  <tbody>\n    <tr>\n      <th>0</th>\n      <td>56.220000</td>\n      <td>56.220000</td>\n      <td>55.500000</td>\n      <td>55.600000</td>\n      <td>55.600000</td>\n      <td>0</td>\n      <td>NaN</td>\n      <td>56.8750</td>\n      <td>1</td>\n    </tr>\n    <tr>\n      <th>1</th>\n      <td>55.550000</td>\n      <td>56.095000</td>\n      <td>55.370000</td>\n      <td>55.700000</td>\n      <td>55.700000</td>\n      <td>0</td>\n      <td>0.001799</td>\n      <td>58.4475</td>\n      <td>1</td>\n    </tr>\n    <tr>\n      <th>2</th>\n      <td>56.032500</td>\n      <td>56.437500</td>\n      <td>55.937500</td>\n      <td>56.247500</td>\n      <td>56.247500</td>\n      <td>0</td>\n      <td>0.009829</td>\n      <td>58.5500</td>\n      <td>1</td>\n    </tr>\n    <tr>\n      <th>3</th>\n      <td>56.132500</td>\n      <td>56.750000</td>\n      <td>56.042500</td>\n      <td>56.595000</td>\n      <td>56.595000</td>\n      <td>0</td>\n      <td>0.006178</td>\n      <td>59.2225</td>\n      <td>1</td>\n    </tr>\n    <tr>\n      <th>4</th>\n      <td>56.550000</td>\n      <td>58.197500</td>\n      <td>55.625000</td>\n      <td>57.812500</td>\n      <td>57.812500</td>\n      <td>0</td>\n      <td>0.021513</td>\n      <td>58.3075</td>\n      <td>0</td>\n    </tr>\n    <tr>\n      <th>...</th>\n      <td>...</td>\n      <td>...</td>\n      <td>...</td>\n      <td>...</td>\n      <td>...</td>\n      <td>...</td>\n      <td>...</td>\n      <td>...</td>\n      <td>...</td>\n    </tr>\n    <tr>\n      <th>4178</th>\n      <td>123.425003</td>\n      <td>123.769997</td>\n      <td>123.040001</td>\n      <td>123.091103</td>\n      <td>123.091103</td>\n      <td>12373575</td>\n      <td>-0.002746</td>\n      <td>NaN</td>\n      <td>0</td>\n    </tr>\n    <tr>\n      <th>4179</th>\n      <td>123.090103</td>\n      <td>123.720001</td>\n      <td>123.080002</td>\n      <td>123.542000</td>\n      <td>123.542000</td>\n      <td>9430925</td>\n      <td>0.003663</td>\n      <td>NaN</td>\n      <td>0</td>\n    </tr>\n    <tr>\n      <th>4180</th>\n      <td>123.544998</td>\n      <td>123.870003</td>\n      <td>123.275002</td>\n      <td>123.345001</td>\n      <td>123.345001</td>\n      <td>11354023</td>\n      <td>-0.001595</td>\n      <td>NaN</td>\n      <td>0</td>\n    </tr>\n    <tr>\n      <th>4181</th>\n      <td>123.339996</td>\n      <td>123.599998</td>\n      <td>123.019997</td>\n      <td>123.370003</td>\n      <td>123.370003</td>\n      <td>10684835</td>\n      <td>0.000203</td>\n      <td>NaN</td>\n      <td>0</td>\n    </tr>\n    <tr>\n      <th>4182</th>\n      <td>123.390000</td>\n      <td>123.500000</td>\n      <td>122.803400</td>\n      <td>123.120000</td>\n      <td>123.120000</td>\n      <td>9642937</td>\n      <td>-0.002026</td>\n      <td>NaN</td>\n      <td>0</td>\n    </tr>\n  </tbody>\n</table>\n<p>4183 rows × 9 columns</p>\n</div>"
     },
     "execution_count": 138,
     "metadata": {},
     "output_type": "execute_result"
    }
   ],
   "source": [
    "higher_threshold = 1.5\n",
    "lowest_threshold = -1.5\n",
    "last_values_higher = []\n",
    "last_values_lower = []\n",
    "data['class_column'] = data.apply((lambda x: create_class_column(x, lowest_threshold, higher_threshold)), axis=1)\n",
    "while True:\n",
    "    print(data['class_column'].value_counts())\n",
    "    class_counts = data['class_column'].value_counts()\n",
    "    if abs(class_counts[0] - class_counts[1]) < 15 and abs(class_counts[0] - class_counts[-1]) < 15:\n",
    "        break\n",
    "\n",
    "    if len(last_values_higher) == 3:\n",
    "        last_values_higher.pop(0)\n",
    "    if len(last_values_lower) == 3:\n",
    "        last_values_lower.pop(0)\n",
    "\n",
    "    last_values_higher.append(higher_threshold)\n",
    "    last_values_lower.append(lowest_threshold)\n",
    "    if class_counts[0] > class_counts[1]:\n",
    "        higher_threshold -= 0.01\n",
    "    if class_counts[0] > class_counts[-1]:\n",
    "        lowest_threshold += 0.01\n",
    "    if class_counts[0] < class_counts[1]:\n",
    "        higher_threshold += 0.01\n",
    "    if class_counts[0] < class_counts[-1]:\n",
    "        lowest_threshold -= 0.01\n",
    "\n",
    "    if higher_threshold in last_values_higher and lowest_threshold in last_values_lower:\n",
    "        break\n",
    "    print(higher_threshold, lowest_threshold)\n",
    "    data['class_column'] = data.apply((lambda x: create_class_column(x, lowest_threshold, higher_threshold)), axis=1)\n",
    "\n",
    "data"
   ],
   "metadata": {
    "collapsed": false,
    "pycharm": {
     "name": "#%%\n"
    }
   }
  },
  {
   "cell_type": "code",
   "execution_count": 139,
   "outputs": [
    {
     "data": {
      "text/plain": " 1    1399\n 0    1396\n-1    1388\nName: class_column, dtype: int64"
     },
     "execution_count": 139,
     "metadata": {},
     "output_type": "execute_result"
    }
   ],
   "source": [
    "# Class divide\n",
    "data['class_column'].value_counts()"
   ],
   "metadata": {
    "collapsed": false,
    "pycharm": {
     "name": "#%%\n"
    }
   }
  },
  {
   "cell_type": "code",
   "execution_count": 140,
   "outputs": [
    {
     "name": "stderr",
     "output_type": "stream",
     "text": [
      "C:\\Users\\exomat\\anaconda3\\envs\\magisterka_analiza\\lib\\site-packages\\ta\\trend.py:768: RuntimeWarning: invalid value encountered in double_scalars\n",
      "  dip[i] = 100 * (self._dip[i] / self._trs[i])\n",
      "C:\\Users\\exomat\\anaconda3\\envs\\magisterka_analiza\\lib\\site-packages\\ta\\trend.py:772: RuntimeWarning: invalid value encountered in double_scalars\n",
      "  din[i] = 100 * (self._din[i] / self._trs[i])\n"
     ]
    },
    {
     "data": {
      "text/plain": "            open        high         low       close    volume  close_pct  \\\n0      56.220000   56.220000   55.500000   55.600000         0        NaN   \n1      55.550000   56.095000   55.370000   55.700000         0   0.001799   \n2      56.032500   56.437500   55.937500   56.247500         0   0.009829   \n3      56.132500   56.750000   56.042500   56.595000         0   0.006178   \n4      56.550000   58.197500   55.625000   57.812500         0   0.021513   \n...          ...         ...         ...         ...       ...        ...   \n4178  123.425003  123.769997  123.040001  123.091103  12373575  -0.002746   \n4179  123.090103  123.720001  123.080002  123.542000   9430925   0.003663   \n4180  123.544998  123.870003  123.275002  123.345001  11354023  -0.001595   \n4181  123.339996  123.599998  123.019997  123.370003  10684835   0.000203   \n4182  123.390000  123.500000  122.803400  123.120000   9642937  -0.002026   \n\n      close_shift  class_column    volume_adi  volume_obv  ...  momentum_wr  \\\n0         56.8750             1 -0.000000e+00           0  ...   -86.111111   \n1         58.4475             1 -0.000000e+00           0  ...   -61.176471   \n2         58.5500             1  0.000000e+00           0  ...   -17.798595   \n3         59.2225             1  0.000000e+00           0  ...   -11.231884   \n4         58.3075             0  0.000000e+00           0  ...   -13.616269   \n...           ...           ...           ...         ...  ...          ...   \n4178          NaN             0  6.772166e+08  -304635341  ...    -5.788523   \n4179          NaN             0  6.814015e+08  -295204416  ...    -1.943993   \n4180          NaN             0  6.727190e+08  -306558439  ...   -13.392887   \n4181          NaN             0  6.749298e+08  -295873604  ...   -12.755093   \n4182          NaN             0  6.740522e+08  -305516541  ...   -19.329954   \n\n      momentum_ao  momentum_kama  momentum_roc  momentum_ppo  \\\n0        0.000000      55.600000      0.000000      0.000000   \n1        0.000000      55.641486      0.000000      0.000000   \n2        0.000000      55.895109      0.000000      0.000000   \n3        0.000000      56.185689      0.000000      0.000000   \n4        0.000000      56.833695      0.000000      0.000000   \n...           ...            ...           ...           ...   \n4178     1.307150     122.417025      2.550281     17.274375   \n4179     1.853018     122.683125      2.960247     17.006940   \n4180     2.216141     122.806622      2.770373     18.299709   \n4181     2.310367     122.908690      2.119032     18.355886   \n4182     2.313878     122.942765      1.836228     17.232556   \n\n      momentum_ppo_signal  momentum_ppo_hist  others_dr  others_dlr  \\\n0                0.000000           0.000000 -47.864396    0.000000   \n1                0.000000           0.000000   0.179856    0.179695   \n2                0.000000           0.000000   0.982944    0.978145   \n3                0.000000           0.000000   0.617805    0.615905   \n4                0.000000           0.000000   2.151250    2.128437   \n...                   ...                ...        ...         ...   \n4178            -5.237322          22.511697  -0.274567   -0.274944   \n4179            -0.788469          17.795410   0.366312    0.365642   \n4180             3.029166          15.270543  -0.159459   -0.159586   \n4181             6.094510          12.261375   0.020270    0.020268   \n4182             8.322119           8.910436  -0.202645   -0.202850   \n\n       others_cr  \n0       0.000000  \n1       0.179856  \n2       1.164568  \n3       1.789568  \n4       3.979317  \n...          ...  \n4178  121.386875  \n4179  122.197841  \n4180  121.843527  \n4181  121.888494  \n4182  121.438849  \n\n[4183 rows x 91 columns]",
      "text/html": "<div>\n<style scoped>\n    .dataframe tbody tr th:only-of-type {\n        vertical-align: middle;\n    }\n\n    .dataframe tbody tr th {\n        vertical-align: top;\n    }\n\n    .dataframe thead th {\n        text-align: right;\n    }\n</style>\n<table border=\"1\" class=\"dataframe\">\n  <thead>\n    <tr style=\"text-align: right;\">\n      <th></th>\n      <th>open</th>\n      <th>high</th>\n      <th>low</th>\n      <th>close</th>\n      <th>volume</th>\n      <th>close_pct</th>\n      <th>close_shift</th>\n      <th>class_column</th>\n      <th>volume_adi</th>\n      <th>volume_obv</th>\n      <th>...</th>\n      <th>momentum_wr</th>\n      <th>momentum_ao</th>\n      <th>momentum_kama</th>\n      <th>momentum_roc</th>\n      <th>momentum_ppo</th>\n      <th>momentum_ppo_signal</th>\n      <th>momentum_ppo_hist</th>\n      <th>others_dr</th>\n      <th>others_dlr</th>\n      <th>others_cr</th>\n    </tr>\n  </thead>\n  <tbody>\n    <tr>\n      <th>0</th>\n      <td>56.220000</td>\n      <td>56.220000</td>\n      <td>55.500000</td>\n      <td>55.600000</td>\n      <td>0</td>\n      <td>NaN</td>\n      <td>56.8750</td>\n      <td>1</td>\n      <td>-0.000000e+00</td>\n      <td>0</td>\n      <td>...</td>\n      <td>-86.111111</td>\n      <td>0.000000</td>\n      <td>55.600000</td>\n      <td>0.000000</td>\n      <td>0.000000</td>\n      <td>0.000000</td>\n      <td>0.000000</td>\n      <td>-47.864396</td>\n      <td>0.000000</td>\n      <td>0.000000</td>\n    </tr>\n    <tr>\n      <th>1</th>\n      <td>55.550000</td>\n      <td>56.095000</td>\n      <td>55.370000</td>\n      <td>55.700000</td>\n      <td>0</td>\n      <td>0.001799</td>\n      <td>58.4475</td>\n      <td>1</td>\n      <td>-0.000000e+00</td>\n      <td>0</td>\n      <td>...</td>\n      <td>-61.176471</td>\n      <td>0.000000</td>\n      <td>55.641486</td>\n      <td>0.000000</td>\n      <td>0.000000</td>\n      <td>0.000000</td>\n      <td>0.000000</td>\n      <td>0.179856</td>\n      <td>0.179695</td>\n      <td>0.179856</td>\n    </tr>\n    <tr>\n      <th>2</th>\n      <td>56.032500</td>\n      <td>56.437500</td>\n      <td>55.937500</td>\n      <td>56.247500</td>\n      <td>0</td>\n      <td>0.009829</td>\n      <td>58.5500</td>\n      <td>1</td>\n      <td>0.000000e+00</td>\n      <td>0</td>\n      <td>...</td>\n      <td>-17.798595</td>\n      <td>0.000000</td>\n      <td>55.895109</td>\n      <td>0.000000</td>\n      <td>0.000000</td>\n      <td>0.000000</td>\n      <td>0.000000</td>\n      <td>0.982944</td>\n      <td>0.978145</td>\n      <td>1.164568</td>\n    </tr>\n    <tr>\n      <th>3</th>\n      <td>56.132500</td>\n      <td>56.750000</td>\n      <td>56.042500</td>\n      <td>56.595000</td>\n      <td>0</td>\n      <td>0.006178</td>\n      <td>59.2225</td>\n      <td>1</td>\n      <td>0.000000e+00</td>\n      <td>0</td>\n      <td>...</td>\n      <td>-11.231884</td>\n      <td>0.000000</td>\n      <td>56.185689</td>\n      <td>0.000000</td>\n      <td>0.000000</td>\n      <td>0.000000</td>\n      <td>0.000000</td>\n      <td>0.617805</td>\n      <td>0.615905</td>\n      <td>1.789568</td>\n    </tr>\n    <tr>\n      <th>4</th>\n      <td>56.550000</td>\n      <td>58.197500</td>\n      <td>55.625000</td>\n      <td>57.812500</td>\n      <td>0</td>\n      <td>0.021513</td>\n      <td>58.3075</td>\n      <td>0</td>\n      <td>0.000000e+00</td>\n      <td>0</td>\n      <td>...</td>\n      <td>-13.616269</td>\n      <td>0.000000</td>\n      <td>56.833695</td>\n      <td>0.000000</td>\n      <td>0.000000</td>\n      <td>0.000000</td>\n      <td>0.000000</td>\n      <td>2.151250</td>\n      <td>2.128437</td>\n      <td>3.979317</td>\n    </tr>\n    <tr>\n      <th>...</th>\n      <td>...</td>\n      <td>...</td>\n      <td>...</td>\n      <td>...</td>\n      <td>...</td>\n      <td>...</td>\n      <td>...</td>\n      <td>...</td>\n      <td>...</td>\n      <td>...</td>\n      <td>...</td>\n      <td>...</td>\n      <td>...</td>\n      <td>...</td>\n      <td>...</td>\n      <td>...</td>\n      <td>...</td>\n      <td>...</td>\n      <td>...</td>\n      <td>...</td>\n      <td>...</td>\n    </tr>\n    <tr>\n      <th>4178</th>\n      <td>123.425003</td>\n      <td>123.769997</td>\n      <td>123.040001</td>\n      <td>123.091103</td>\n      <td>12373575</td>\n      <td>-0.002746</td>\n      <td>NaN</td>\n      <td>0</td>\n      <td>6.772166e+08</td>\n      <td>-304635341</td>\n      <td>...</td>\n      <td>-5.788523</td>\n      <td>1.307150</td>\n      <td>122.417025</td>\n      <td>2.550281</td>\n      <td>17.274375</td>\n      <td>-5.237322</td>\n      <td>22.511697</td>\n      <td>-0.274567</td>\n      <td>-0.274944</td>\n      <td>121.386875</td>\n    </tr>\n    <tr>\n      <th>4179</th>\n      <td>123.090103</td>\n      <td>123.720001</td>\n      <td>123.080002</td>\n      <td>123.542000</td>\n      <td>9430925</td>\n      <td>0.003663</td>\n      <td>NaN</td>\n      <td>0</td>\n      <td>6.814015e+08</td>\n      <td>-295204416</td>\n      <td>...</td>\n      <td>-1.943993</td>\n      <td>1.853018</td>\n      <td>122.683125</td>\n      <td>2.960247</td>\n      <td>17.006940</td>\n      <td>-0.788469</td>\n      <td>17.795410</td>\n      <td>0.366312</td>\n      <td>0.365642</td>\n      <td>122.197841</td>\n    </tr>\n    <tr>\n      <th>4180</th>\n      <td>123.544998</td>\n      <td>123.870003</td>\n      <td>123.275002</td>\n      <td>123.345001</td>\n      <td>11354023</td>\n      <td>-0.001595</td>\n      <td>NaN</td>\n      <td>0</td>\n      <td>6.727190e+08</td>\n      <td>-306558439</td>\n      <td>...</td>\n      <td>-13.392887</td>\n      <td>2.216141</td>\n      <td>122.806622</td>\n      <td>2.770373</td>\n      <td>18.299709</td>\n      <td>3.029166</td>\n      <td>15.270543</td>\n      <td>-0.159459</td>\n      <td>-0.159586</td>\n      <td>121.843527</td>\n    </tr>\n    <tr>\n      <th>4181</th>\n      <td>123.339996</td>\n      <td>123.599998</td>\n      <td>123.019997</td>\n      <td>123.370003</td>\n      <td>10684835</td>\n      <td>0.000203</td>\n      <td>NaN</td>\n      <td>0</td>\n      <td>6.749298e+08</td>\n      <td>-295873604</td>\n      <td>...</td>\n      <td>-12.755093</td>\n      <td>2.310367</td>\n      <td>122.908690</td>\n      <td>2.119032</td>\n      <td>18.355886</td>\n      <td>6.094510</td>\n      <td>12.261375</td>\n      <td>0.020270</td>\n      <td>0.020268</td>\n      <td>121.888494</td>\n    </tr>\n    <tr>\n      <th>4182</th>\n      <td>123.390000</td>\n      <td>123.500000</td>\n      <td>122.803400</td>\n      <td>123.120000</td>\n      <td>9642937</td>\n      <td>-0.002026</td>\n      <td>NaN</td>\n      <td>0</td>\n      <td>6.740522e+08</td>\n      <td>-305516541</td>\n      <td>...</td>\n      <td>-19.329954</td>\n      <td>2.313878</td>\n      <td>122.942765</td>\n      <td>1.836228</td>\n      <td>17.232556</td>\n      <td>8.322119</td>\n      <td>8.910436</td>\n      <td>-0.202645</td>\n      <td>-0.202850</td>\n      <td>121.438849</td>\n    </tr>\n  </tbody>\n</table>\n<p>4183 rows × 91 columns</p>\n</div>"
     },
     "execution_count": 140,
     "metadata": {},
     "output_type": "execute_result"
    }
   ],
   "source": [
    "data = _get_indicator_data(data)\n",
    "data"
   ],
   "metadata": {
    "collapsed": false,
    "pycharm": {
     "name": "#%%\n"
    }
   }
  },
  {
   "cell_type": "code",
   "execution_count": 141,
   "outputs": [],
   "source": [
    "filename_to_export = f'../data/preprocess/{symbol}_{WINDOW}_{ datetime.now().strftime(\"%d_%m_%Y %H_%M_%S\")}_full.csv'\n",
    "data.to_csv(filename_to_export)"
   ],
   "metadata": {
    "collapsed": false,
    "pycharm": {
     "name": "#%%\n"
    }
   }
  }
 ],
 "metadata": {
  "kernelspec": {
   "display_name": "Python 3",
   "language": "python",
   "name": "python3"
  },
  "language_info": {
   "codemirror_mode": {
    "name": "ipython",
    "version": 2
   },
   "file_extension": ".py",
   "mimetype": "text/x-python",
   "name": "python",
   "nbconvert_exporter": "python",
   "pygments_lexer": "ipython2",
   "version": "2.7.6"
  }
 },
 "nbformat": 4,
 "nbformat_minor": 0
}