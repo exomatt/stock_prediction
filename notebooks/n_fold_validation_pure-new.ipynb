{
 "cells": [
  {
   "cell_type": "code",
   "execution_count": 134,
   "metadata": {
    "collapsed": true
   },
   "outputs": [],
   "source": [
    "from collections import defaultdict\n",
    "from datetime import datetime\n",
    "import matplotlib.pyplot as plt\n",
    "import pandas as pd\n",
    "import seaborn as sn\n",
    "import yfinance as yf\n",
    "from finta import TA\n",
    "from sklearn.ensemble import RandomForestClassifier, GradientBoostingClassifier\n",
    "from sklearn.model_selection import train_test_split\n",
    "from sklearn.metrics import confusion_matrix, classification_report,accuracy_score\n",
    "from sklearn.tree import DecisionTreeClassifier\n",
    "from tabulate import tabulate\n",
    "from ta import add_all_ta_features"
   ]
  },
  {
   "cell_type": "code",
   "execution_count": 135,
   "outputs": [],
   "source": [
    "WINDOW = 16 # number of rows to look ahead to see what the price did\n",
    "FETCH_INTERVAL = \"60m\"  # fetch data by interval (including intraday if period < 60 days)\n",
    "        # valid intervals: 1m,2m,5m,15m,30m,60m,90m,1h,1d,5d,1wk,1mo,3mo\n",
    "        # (optional, default is '1d')\n",
    "INTERVAL = '1y'     # use \"period\" instead of start/end\n",
    "        # valid periods: 1d,5d,1mo,3mo,6mo,1y,2y,5y,10y,ytd,max\n",
    "        # (optional, default is '1mo')\n",
    "symbol = 'AAPL'      # Symbol of the desired stock"
   ],
   "metadata": {
    "collapsed": false,
    "pycharm": {
     "name": "#%%\n"
    }
   }
  },
  {
   "cell_type": "code",
   "execution_count": 136,
   "outputs": [],
   "source": [
    "data = pd.read_csv('C:\\\\Users\\\\exomat\\\\Desktop\\\\repo\\\\magisterka_analiza\\\\data\\\\preprocess\\\\APPLE_22_03_2021 21_56_34.csv')"
   ],
   "metadata": {
    "collapsed": false,
    "pycharm": {
     "name": "#%%\n"
    }
   }
  },
  {
   "cell_type": "code",
   "execution_count": 137,
   "outputs": [
    {
     "data": {
      "text/plain": "        Open       High        Low      Close  Adj Close    Volume\n0  56.220000  56.220000  55.500000  55.600000  55.600000         0\n1  55.550000  56.095000  55.370000  55.700000  55.700000         0\n2  56.032500  56.437500  55.937500  56.247500  56.247500         0\n3  56.132500  56.750000  56.042500  56.595000  56.595000         0\n4  56.550000  58.197500  55.625000  57.812500  57.812500         0\n5  57.837500  59.525000  56.887500  57.020000  57.020000         0\n6  56.299999  56.750000  54.823750  55.450001  55.450001  21473989\n7  55.465000  55.889999  53.412498  53.767502  53.767502  11306818\n8  53.762501  55.097500  53.152500  54.803925  54.803925  11355189",
      "text/html": "<div>\n<style scoped>\n    .dataframe tbody tr th:only-of-type {\n        vertical-align: middle;\n    }\n\n    .dataframe tbody tr th {\n        vertical-align: top;\n    }\n\n    .dataframe thead th {\n        text-align: right;\n    }\n</style>\n<table border=\"1\" class=\"dataframe\">\n  <thead>\n    <tr style=\"text-align: right;\">\n      <th></th>\n      <th>Open</th>\n      <th>High</th>\n      <th>Low</th>\n      <th>Close</th>\n      <th>Adj Close</th>\n      <th>Volume</th>\n    </tr>\n  </thead>\n  <tbody>\n    <tr>\n      <th>0</th>\n      <td>56.220000</td>\n      <td>56.220000</td>\n      <td>55.500000</td>\n      <td>55.600000</td>\n      <td>55.600000</td>\n      <td>0</td>\n    </tr>\n    <tr>\n      <th>1</th>\n      <td>55.550000</td>\n      <td>56.095000</td>\n      <td>55.370000</td>\n      <td>55.700000</td>\n      <td>55.700000</td>\n      <td>0</td>\n    </tr>\n    <tr>\n      <th>2</th>\n      <td>56.032500</td>\n      <td>56.437500</td>\n      <td>55.937500</td>\n      <td>56.247500</td>\n      <td>56.247500</td>\n      <td>0</td>\n    </tr>\n    <tr>\n      <th>3</th>\n      <td>56.132500</td>\n      <td>56.750000</td>\n      <td>56.042500</td>\n      <td>56.595000</td>\n      <td>56.595000</td>\n      <td>0</td>\n    </tr>\n    <tr>\n      <th>4</th>\n      <td>56.550000</td>\n      <td>58.197500</td>\n      <td>55.625000</td>\n      <td>57.812500</td>\n      <td>57.812500</td>\n      <td>0</td>\n    </tr>\n    <tr>\n      <th>5</th>\n      <td>57.837500</td>\n      <td>59.525000</td>\n      <td>56.887500</td>\n      <td>57.020000</td>\n      <td>57.020000</td>\n      <td>0</td>\n    </tr>\n    <tr>\n      <th>6</th>\n      <td>56.299999</td>\n      <td>56.750000</td>\n      <td>54.823750</td>\n      <td>55.450001</td>\n      <td>55.450001</td>\n      <td>21473989</td>\n    </tr>\n    <tr>\n      <th>7</th>\n      <td>55.465000</td>\n      <td>55.889999</td>\n      <td>53.412498</td>\n      <td>53.767502</td>\n      <td>53.767502</td>\n      <td>11306818</td>\n    </tr>\n    <tr>\n      <th>8</th>\n      <td>53.762501</td>\n      <td>55.097500</td>\n      <td>53.152500</td>\n      <td>54.803925</td>\n      <td>54.803925</td>\n      <td>11355189</td>\n    </tr>\n  </tbody>\n</table>\n</div>"
     },
     "execution_count": 137,
     "metadata": {},
     "output_type": "execute_result"
    }
   ],
   "source": [
    "data.head(9)"
   ],
   "metadata": {
    "collapsed": false,
    "pycharm": {
     "name": "#%%\n"
    }
   }
  },
  {
   "cell_type": "code",
   "execution_count": 138,
   "outputs": [],
   "source": [
    "data = pd.read_csv('C:\\\\Users\\\\exomat\\\\Desktop\\\\repo\\\\magisterka_analiza\\\\data\\\\preprocess\\\\APPLE_22_03_2021 21_56_34.csv')"
   ],
   "metadata": {
    "collapsed": false,
    "pycharm": {
     "name": "#%%\n"
    }
   }
  },
  {
   "cell_type": "code",
   "execution_count": 139,
   "outputs": [
    {
     "data": {
      "text/plain": "        open       high        low      close  Adj Close    volume\n0  56.220000  56.220000  55.500000  55.600000  55.600000         0\n1  55.550000  56.095000  55.370000  55.700000  55.700000         0\n2  56.032500  56.437500  55.937500  56.247500  56.247500         0\n3  56.132500  56.750000  56.042500  56.595000  56.595000         0\n4  56.550000  58.197500  55.625000  57.812500  57.812500         0\n5  57.837500  59.525000  56.887500  57.020000  57.020000         0\n6  56.299999  56.750000  54.823750  55.450001  55.450001  21473989\n7  55.465000  55.889999  53.412498  53.767502  53.767502  11306818\n8  53.762501  55.097500  53.152500  54.803925  54.803925  11355189\n9  54.823875  56.775002  54.472500  55.486252  55.486252  10671797",
      "text/html": "<div>\n<style scoped>\n    .dataframe tbody tr th:only-of-type {\n        vertical-align: middle;\n    }\n\n    .dataframe tbody tr th {\n        vertical-align: top;\n    }\n\n    .dataframe thead th {\n        text-align: right;\n    }\n</style>\n<table border=\"1\" class=\"dataframe\">\n  <thead>\n    <tr style=\"text-align: right;\">\n      <th></th>\n      <th>open</th>\n      <th>high</th>\n      <th>low</th>\n      <th>close</th>\n      <th>Adj Close</th>\n      <th>volume</th>\n    </tr>\n  </thead>\n  <tbody>\n    <tr>\n      <th>0</th>\n      <td>56.220000</td>\n      <td>56.220000</td>\n      <td>55.500000</td>\n      <td>55.600000</td>\n      <td>55.600000</td>\n      <td>0</td>\n    </tr>\n    <tr>\n      <th>1</th>\n      <td>55.550000</td>\n      <td>56.095000</td>\n      <td>55.370000</td>\n      <td>55.700000</td>\n      <td>55.700000</td>\n      <td>0</td>\n    </tr>\n    <tr>\n      <th>2</th>\n      <td>56.032500</td>\n      <td>56.437500</td>\n      <td>55.937500</td>\n      <td>56.247500</td>\n      <td>56.247500</td>\n      <td>0</td>\n    </tr>\n    <tr>\n      <th>3</th>\n      <td>56.132500</td>\n      <td>56.750000</td>\n      <td>56.042500</td>\n      <td>56.595000</td>\n      <td>56.595000</td>\n      <td>0</td>\n    </tr>\n    <tr>\n      <th>4</th>\n      <td>56.550000</td>\n      <td>58.197500</td>\n      <td>55.625000</td>\n      <td>57.812500</td>\n      <td>57.812500</td>\n      <td>0</td>\n    </tr>\n    <tr>\n      <th>5</th>\n      <td>57.837500</td>\n      <td>59.525000</td>\n      <td>56.887500</td>\n      <td>57.020000</td>\n      <td>57.020000</td>\n      <td>0</td>\n    </tr>\n    <tr>\n      <th>6</th>\n      <td>56.299999</td>\n      <td>56.750000</td>\n      <td>54.823750</td>\n      <td>55.450001</td>\n      <td>55.450001</td>\n      <td>21473989</td>\n    </tr>\n    <tr>\n      <th>7</th>\n      <td>55.465000</td>\n      <td>55.889999</td>\n      <td>53.412498</td>\n      <td>53.767502</td>\n      <td>53.767502</td>\n      <td>11306818</td>\n    </tr>\n    <tr>\n      <th>8</th>\n      <td>53.762501</td>\n      <td>55.097500</td>\n      <td>53.152500</td>\n      <td>54.803925</td>\n      <td>54.803925</td>\n      <td>11355189</td>\n    </tr>\n    <tr>\n      <th>9</th>\n      <td>54.823875</td>\n      <td>56.775002</td>\n      <td>54.472500</td>\n      <td>55.486252</td>\n      <td>55.486252</td>\n      <td>10671797</td>\n    </tr>\n  </tbody>\n</table>\n</div>"
     },
     "execution_count": 139,
     "metadata": {},
     "output_type": "execute_result"
    }
   ],
   "source": [
    "data.rename(columns={\"Close\": 'close', \"High\": 'high', \"Low\": 'low', 'Volume': 'volume', 'Open': 'open'}, inplace=True)\n",
    "data.head(10)"
   ],
   "metadata": {
    "collapsed": false,
    "pycharm": {
     "name": "#%%\n"
    }
   }
  },
  {
   "cell_type": "code",
   "execution_count": 140,
   "outputs": [
    {
     "data": {
      "text/plain": "<AxesSubplot:>"
     },
     "execution_count": 140,
     "metadata": {},
     "output_type": "execute_result"
    },
    {
     "data": {
      "text/plain": "<Figure size 432x288 with 1 Axes>",
      "image/png": "[encoded data removed]"
     },
     "metadata": {
      "needs_background": "light"
     },
     "output_type": "display_data"
    }
   ],
   "source": [
    "data['close'].plot()\n"
   ],
   "metadata": {
    "collapsed": false,
    "pycharm": {
     "name": "#%%\n"
    }
   }
  },
  {
   "cell_type": "code",
   "execution_count": 141,
   "outputs": [
    {
     "data": {
      "text/plain": "            open        high         low       close   Adj Close    volume\n0      56.220000   56.220000   55.500000   55.600000   55.600000         0\n1      55.550000   56.095000   55.370000   55.700000   55.700000         0\n2      56.032500   56.437500   55.937500   56.247500   56.247500         0\n3      56.132500   56.750000   56.042500   56.595000   56.595000         0\n4      56.550000   58.197500   55.625000   57.812500   57.812500         0\n...          ...         ...         ...         ...         ...       ...\n4178  123.425003  123.769997  123.040001  123.091103  123.091103  12373575\n4179  123.090103  123.720001  123.080002  123.542000  123.542000   9430925\n4180  123.544998  123.870003  123.275002  123.345001  123.345001  11354023\n4181  123.339996  123.599998  123.019997  123.370003  123.370003  10684835\n4182  123.390000  123.500000  122.803400  123.120000  123.120000   9642937\n\n[4183 rows x 6 columns]",
      "text/html": "<div>\n<style scoped>\n    .dataframe tbody tr th:only-of-type {\n        vertical-align: middle;\n    }\n\n    .dataframe tbody tr th {\n        vertical-align: top;\n    }\n\n    .dataframe thead th {\n        text-align: right;\n    }\n</style>\n<table border=\"1\" class=\"dataframe\">\n  <thead>\n    <tr style=\"text-align: right;\">\n      <th></th>\n      <th>open</th>\n      <th>high</th>\n      <th>low</th>\n      <th>close</th>\n      <th>Adj Close</th>\n      <th>volume</th>\n    </tr>\n  </thead>\n  <tbody>\n    <tr>\n      <th>0</th>\n      <td>56.220000</td>\n      <td>56.220000</td>\n      <td>55.500000</td>\n      <td>55.600000</td>\n      <td>55.600000</td>\n      <td>0</td>\n    </tr>\n    <tr>\n      <th>1</th>\n      <td>55.550000</td>\n      <td>56.095000</td>\n      <td>55.370000</td>\n      <td>55.700000</td>\n      <td>55.700000</td>\n      <td>0</td>\n    </tr>\n    <tr>\n      <th>2</th>\n      <td>56.032500</td>\n      <td>56.437500</td>\n      <td>55.937500</td>\n      <td>56.247500</td>\n      <td>56.247500</td>\n      <td>0</td>\n    </tr>\n    <tr>\n      <th>3</th>\n      <td>56.132500</td>\n      <td>56.750000</td>\n      <td>56.042500</td>\n      <td>56.595000</td>\n      <td>56.595000</td>\n      <td>0</td>\n    </tr>\n    <tr>\n      <th>4</th>\n      <td>56.550000</td>\n      <td>58.197500</td>\n      <td>55.625000</td>\n      <td>57.812500</td>\n      <td>57.812500</td>\n      <td>0</td>\n    </tr>\n    <tr>\n      <th>...</th>\n      <td>...</td>\n      <td>...</td>\n      <td>...</td>\n      <td>...</td>\n      <td>...</td>\n      <td>...</td>\n    </tr>\n    <tr>\n      <th>4178</th>\n      <td>123.425003</td>\n      <td>123.769997</td>\n      <td>123.040001</td>\n      <td>123.091103</td>\n      <td>123.091103</td>\n      <td>12373575</td>\n    </tr>\n    <tr>\n      <th>4179</th>\n      <td>123.090103</td>\n      <td>123.720001</td>\n      <td>123.080002</td>\n      <td>123.542000</td>\n      <td>123.542000</td>\n      <td>9430925</td>\n    </tr>\n    <tr>\n      <th>4180</th>\n      <td>123.544998</td>\n      <td>123.870003</td>\n      <td>123.275002</td>\n      <td>123.345001</td>\n      <td>123.345001</td>\n      <td>11354023</td>\n    </tr>\n    <tr>\n      <th>4181</th>\n      <td>123.339996</td>\n      <td>123.599998</td>\n      <td>123.019997</td>\n      <td>123.370003</td>\n      <td>123.370003</td>\n      <td>10684835</td>\n    </tr>\n    <tr>\n      <th>4182</th>\n      <td>123.390000</td>\n      <td>123.500000</td>\n      <td>122.803400</td>\n      <td>123.120000</td>\n      <td>123.120000</td>\n      <td>9642937</td>\n    </tr>\n  </tbody>\n</table>\n<p>4183 rows × 6 columns</p>\n</div>"
     },
     "execution_count": 141,
     "metadata": {},
     "output_type": "execute_result"
    }
   ],
   "source": [
    "data"
   ],
   "metadata": {
    "collapsed": false,
    "pycharm": {
     "name": "#%%\n"
    }
   }
  },
  {
   "cell_type": "code",
   "execution_count": 142,
   "outputs": [
    {
     "data": {
      "text/plain": "Index(['open', 'high', 'low', 'close', 'Adj Close', 'volume'], dtype='object')"
     },
     "execution_count": 142,
     "metadata": {},
     "output_type": "execute_result"
    }
   ],
   "source": [
    "data.columns"
   ],
   "metadata": {
    "collapsed": false,
    "pycharm": {
     "name": "#%%\n"
    }
   }
  },
  {
   "cell_type": "code",
   "execution_count": 143,
   "outputs": [],
   "source": [
    "def create_class_column(row):\n",
    "    if row['close_shift']-row['close'] > 1.5:\n",
    "        return 1\n",
    "    if row['close_shift'] -row['close']< -1.5:\n",
    "        return -1\n",
    "    else:\n",
    "        return 0"
   ],
   "metadata": {
    "collapsed": false,
    "pycharm": {
     "name": "#%%\n"
    }
   }
  },
  {
   "cell_type": "code",
   "execution_count": 144,
   "outputs": [
    {
     "data": {
      "text/plain": "            open        high         low       close   Adj Close    volume  \\\n0      56.220000   56.220000   55.500000   55.600000   55.600000         0   \n1      55.550000   56.095000   55.370000   55.700000   55.700000         0   \n2      56.032500   56.437500   55.937500   56.247500   56.247500         0   \n3      56.132500   56.750000   56.042500   56.595000   56.595000         0   \n4      56.550000   58.197500   55.625000   57.812500   57.812500         0   \n...          ...         ...         ...         ...         ...       ...   \n4178  123.425003  123.769997  123.040001  123.091103  123.091103  12373575   \n4179  123.090103  123.720001  123.080002  123.542000  123.542000   9430925   \n4180  123.544998  123.870003  123.275002  123.345001  123.345001  11354023   \n4181  123.339996  123.599998  123.019997  123.370003  123.370003  10684835   \n4182  123.390000  123.500000  122.803400  123.120000  123.120000   9642937   \n\n      close_shift  \n0         56.8750  \n1         58.4475  \n2         58.5500  \n3         59.2225  \n4         58.3075  \n...           ...  \n4178          NaN  \n4179          NaN  \n4180          NaN  \n4181          NaN  \n4182          NaN  \n\n[4183 rows x 7 columns]",
      "text/html": "<div>\n<style scoped>\n    .dataframe tbody tr th:only-of-type {\n        vertical-align: middle;\n    }\n\n    .dataframe tbody tr th {\n        vertical-align: top;\n    }\n\n    .dataframe thead th {\n        text-align: right;\n    }\n</style>\n<table border=\"1\" class=\"dataframe\">\n  <thead>\n    <tr style=\"text-align: right;\">\n      <th></th>\n      <th>open</th>\n      <th>high</th>\n      <th>low</th>\n      <th>close</th>\n      <th>Adj Close</th>\n      <th>volume</th>\n      <th>close_shift</th>\n    </tr>\n  </thead>\n  <tbody>\n    <tr>\n      <th>0</th>\n      <td>56.220000</td>\n      <td>56.220000</td>\n      <td>55.500000</td>\n      <td>55.600000</td>\n      <td>55.600000</td>\n      <td>0</td>\n      <td>56.8750</td>\n    </tr>\n    <tr>\n      <th>1</th>\n      <td>55.550000</td>\n      <td>56.095000</td>\n      <td>55.370000</td>\n      <td>55.700000</td>\n      <td>55.700000</td>\n      <td>0</td>\n      <td>58.4475</td>\n    </tr>\n    <tr>\n      <th>2</th>\n      <td>56.032500</td>\n      <td>56.437500</td>\n      <td>55.937500</td>\n      <td>56.247500</td>\n      <td>56.247500</td>\n      <td>0</td>\n      <td>58.5500</td>\n    </tr>\n    <tr>\n      <th>3</th>\n      <td>56.132500</td>\n      <td>56.750000</td>\n      <td>56.042500</td>\n      <td>56.595000</td>\n      <td>56.595000</td>\n      <td>0</td>\n      <td>59.2225</td>\n    </tr>\n    <tr>\n      <th>4</th>\n      <td>56.550000</td>\n      <td>58.197500</td>\n      <td>55.625000</td>\n      <td>57.812500</td>\n      <td>57.812500</td>\n      <td>0</td>\n      <td>58.3075</td>\n    </tr>\n    <tr>\n      <th>...</th>\n      <td>...</td>\n      <td>...</td>\n      <td>...</td>\n      <td>...</td>\n      <td>...</td>\n      <td>...</td>\n      <td>...</td>\n    </tr>\n    <tr>\n      <th>4178</th>\n      <td>123.425003</td>\n      <td>123.769997</td>\n      <td>123.040001</td>\n      <td>123.091103</td>\n      <td>123.091103</td>\n      <td>12373575</td>\n      <td>NaN</td>\n    </tr>\n    <tr>\n      <th>4179</th>\n      <td>123.090103</td>\n      <td>123.720001</td>\n      <td>123.080002</td>\n      <td>123.542000</td>\n      <td>123.542000</td>\n      <td>9430925</td>\n      <td>NaN</td>\n    </tr>\n    <tr>\n      <th>4180</th>\n      <td>123.544998</td>\n      <td>123.870003</td>\n      <td>123.275002</td>\n      <td>123.345001</td>\n      <td>123.345001</td>\n      <td>11354023</td>\n      <td>NaN</td>\n    </tr>\n    <tr>\n      <th>4181</th>\n      <td>123.339996</td>\n      <td>123.599998</td>\n      <td>123.019997</td>\n      <td>123.370003</td>\n      <td>123.370003</td>\n      <td>10684835</td>\n      <td>NaN</td>\n    </tr>\n    <tr>\n      <th>4182</th>\n      <td>123.390000</td>\n      <td>123.500000</td>\n      <td>122.803400</td>\n      <td>123.120000</td>\n      <td>123.120000</td>\n      <td>9642937</td>\n      <td>NaN</td>\n    </tr>\n  </tbody>\n</table>\n<p>4183 rows × 7 columns</p>\n</div>"
     },
     "execution_count": 144,
     "metadata": {},
     "output_type": "execute_result"
    }
   ],
   "source": [
    "data['close_shift'] = data.shift(-WINDOW)['close']\n",
    "data"
   ],
   "metadata": {
    "collapsed": false,
    "pycharm": {
     "name": "#%%\n"
    }
   }
  },
  {
   "cell_type": "code",
   "execution_count": 145,
   "outputs": [
    {
     "data": {
      "text/plain": "            open        high         low       close   Adj Close    volume  \\\n0      56.220000   56.220000   55.500000   55.600000   55.600000         0   \n1      55.550000   56.095000   55.370000   55.700000   55.700000         0   \n2      56.032500   56.437500   55.937500   56.247500   56.247500         0   \n3      56.132500   56.750000   56.042500   56.595000   56.595000         0   \n4      56.550000   58.197500   55.625000   57.812500   57.812500         0   \n...          ...         ...         ...         ...         ...       ...   \n4178  123.425003  123.769997  123.040001  123.091103  123.091103  12373575   \n4179  123.090103  123.720001  123.080002  123.542000  123.542000   9430925   \n4180  123.544998  123.870003  123.275002  123.345001  123.345001  11354023   \n4181  123.339996  123.599998  123.019997  123.370003  123.370003  10684835   \n4182  123.390000  123.500000  122.803400  123.120000  123.120000   9642937   \n\n      close_shift  class_column  \n0         56.8750             0  \n1         58.4475             1  \n2         58.5500             1  \n3         59.2225             1  \n4         58.3075             0  \n...           ...           ...  \n4178          NaN             0  \n4179          NaN             0  \n4180          NaN             0  \n4181          NaN             0  \n4182          NaN             0  \n\n[4183 rows x 8 columns]",
      "text/html": "<div>\n<style scoped>\n    .dataframe tbody tr th:only-of-type {\n        vertical-align: middle;\n    }\n\n    .dataframe tbody tr th {\n        vertical-align: top;\n    }\n\n    .dataframe thead th {\n        text-align: right;\n    }\n</style>\n<table border=\"1\" class=\"dataframe\">\n  <thead>\n    <tr style=\"text-align: right;\">\n      <th></th>\n      <th>open</th>\n      <th>high</th>\n      <th>low</th>\n      <th>close</th>\n      <th>Adj Close</th>\n      <th>volume</th>\n      <th>close_shift</th>\n      <th>class_column</th>\n    </tr>\n  </thead>\n  <tbody>\n    <tr>\n      <th>0</th>\n      <td>56.220000</td>\n      <td>56.220000</td>\n      <td>55.500000</td>\n      <td>55.600000</td>\n      <td>55.600000</td>\n      <td>0</td>\n      <td>56.8750</td>\n      <td>0</td>\n    </tr>\n    <tr>\n      <th>1</th>\n      <td>55.550000</td>\n      <td>56.095000</td>\n      <td>55.370000</td>\n      <td>55.700000</td>\n      <td>55.700000</td>\n      <td>0</td>\n      <td>58.4475</td>\n      <td>1</td>\n    </tr>\n    <tr>\n      <th>2</th>\n      <td>56.032500</td>\n      <td>56.437500</td>\n      <td>55.937500</td>\n      <td>56.247500</td>\n      <td>56.247500</td>\n      <td>0</td>\n      <td>58.5500</td>\n      <td>1</td>\n    </tr>\n    <tr>\n      <th>3</th>\n      <td>56.132500</td>\n      <td>56.750000</td>\n      <td>56.042500</td>\n      <td>56.595000</td>\n      <td>56.595000</td>\n      <td>0</td>\n      <td>59.2225</td>\n      <td>1</td>\n    </tr>\n    <tr>\n      <th>4</th>\n      <td>56.550000</td>\n      <td>58.197500</td>\n      <td>55.625000</td>\n      <td>57.812500</td>\n      <td>57.812500</td>\n      <td>0</td>\n      <td>58.3075</td>\n      <td>0</td>\n    </tr>\n    <tr>\n      <th>...</th>\n      <td>...</td>\n      <td>...</td>\n      <td>...</td>\n      <td>...</td>\n      <td>...</td>\n      <td>...</td>\n      <td>...</td>\n      <td>...</td>\n    </tr>\n    <tr>\n      <th>4178</th>\n      <td>123.425003</td>\n      <td>123.769997</td>\n      <td>123.040001</td>\n      <td>123.091103</td>\n      <td>123.091103</td>\n      <td>12373575</td>\n      <td>NaN</td>\n      <td>0</td>\n    </tr>\n    <tr>\n      <th>4179</th>\n      <td>123.090103</td>\n      <td>123.720001</td>\n      <td>123.080002</td>\n      <td>123.542000</td>\n      <td>123.542000</td>\n      <td>9430925</td>\n      <td>NaN</td>\n      <td>0</td>\n    </tr>\n    <tr>\n      <th>4180</th>\n      <td>123.544998</td>\n      <td>123.870003</td>\n      <td>123.275002</td>\n      <td>123.345001</td>\n      <td>123.345001</td>\n      <td>11354023</td>\n      <td>NaN</td>\n      <td>0</td>\n    </tr>\n    <tr>\n      <th>4181</th>\n      <td>123.339996</td>\n      <td>123.599998</td>\n      <td>123.019997</td>\n      <td>123.370003</td>\n      <td>123.370003</td>\n      <td>10684835</td>\n      <td>NaN</td>\n      <td>0</td>\n    </tr>\n    <tr>\n      <th>4182</th>\n      <td>123.390000</td>\n      <td>123.500000</td>\n      <td>122.803400</td>\n      <td>123.120000</td>\n      <td>123.120000</td>\n      <td>9642937</td>\n      <td>NaN</td>\n      <td>0</td>\n    </tr>\n  </tbody>\n</table>\n<p>4183 rows × 8 columns</p>\n</div>"
     },
     "execution_count": 145,
     "metadata": {},
     "output_type": "execute_result"
    }
   ],
   "source": [
    "data['class_column'] = data.apply(create_class_column, axis=1)\n",
    "data"
   ],
   "metadata": {
    "collapsed": false,
    "pycharm": {
     "name": "#%%\n"
    }
   }
  },
  {
   "cell_type": "code",
   "execution_count": 146,
   "outputs": [
    {
     "data": {
      "text/plain": " 0    2289\n 1    1105\n-1     789\nName: class_column, dtype: int64"
     },
     "execution_count": 146,
     "metadata": {},
     "output_type": "execute_result"
    }
   ],
   "source": [
    "# Class divide\n",
    "data['class_column'].value_counts()"
   ],
   "metadata": {
    "collapsed": false,
    "pycharm": {
     "name": "#%%\n"
    }
   }
  },
  {
   "cell_type": "code",
   "execution_count": 147,
   "outputs": [],
   "source": [
    "del (data['close'])\n",
    "del (data['close_shift'])\n",
    "data = data.dropna()"
   ],
   "metadata": {
    "collapsed": false,
    "pycharm": {
     "name": "#%%\n"
    }
   }
  },
  {
   "cell_type": "code",
   "execution_count": 148,
   "outputs": [
    {
     "data": {
      "text/plain": " 0    2289\n 1    1105\n-1     789\nName: class_column, dtype: int64"
     },
     "execution_count": 148,
     "metadata": {},
     "output_type": "execute_result"
    }
   ],
   "source": [
    "data['class_column'].value_counts()\n"
   ],
   "metadata": {
    "collapsed": false,
    "pycharm": {
     "name": "#%%\n"
    }
   }
  },
  {
   "cell_type": "code",
   "execution_count": 149,
   "outputs": [],
   "source": [
    "def train_model(model,train_x, train_y):\n",
    "    model.fit(train_x, train_y)\n",
    "\n",
    "def init_classifiers():\n",
    "    classifiers['DecisionTreeClassifier 1'] = DecisionTreeClassifier(max_depth=10, random_state=0,criterion='gini',splitter='best')\n",
    "    classifiers['DecisionTreeClassifier 2'] = DecisionTreeClassifier(max_depth=10, random_state=0,criterion='gini',splitter='random')\n",
    "    classifiers['DecisionTreeClassifier 3'] = DecisionTreeClassifier(max_depth=10, random_state=0,criterion='entropy',splitter='best')\n",
    "    classifiers['RandomForestClassifier 4'] = RandomForestClassifier(n_estimators=1000, max_depth=3, random_state=0,criterion='gini', n_jobs = -1)\n",
    "    classifiers['RandomForestClassifier 5'] = RandomForestClassifier(n_estimators=100, max_depth=2, random_state=0,criterion='entropy', n_jobs = -1)\n",
    "    classifiers['GradientBoostingClassifier 1'] = GradientBoostingClassifier(n_estimators=100,random_state=0,criterion='friedman_mse',max_depth=3, learning_rate=0.1)\n",
    "    classifiers['GradientBoostingClassifier 2'] = GradientBoostingClassifier(n_estimators=1000,random_state=0,criterion='friedman_mse',max_depth=3, learning_rate=0.1)"
   ],
   "metadata": {
    "collapsed": false,
    "pycharm": {
     "name": "#%%\n"
    }
   }
  },
  {
   "cell_type": "code",
   "execution_count": 150,
   "outputs": [
    {
     "name": "stdout",
     "output_type": "stream",
     "text": [
      "step:  0 500\n",
      " 0    300\n",
      " 1    140\n",
      "-1     60\n",
      "Name: class_column, dtype: int64\n",
      "Calculate:  DecisionTreeClassifier 1\n",
      "Calculate:  DecisionTreeClassifier 2\n",
      "Calculate:  DecisionTreeClassifier 3\n",
      "Calculate:  RandomForestClassifier 4\n",
      "Calculate:  RandomForestClassifier 5\n",
      "Calculate:  GradientBoostingClassifier 1\n",
      "Calculate:  GradientBoostingClassifier 2\n",
      "step:  250 750\n",
      " 0    385\n",
      " 1     78\n",
      "-1     37\n",
      "Name: class_column, dtype: int64\n",
      "Calculate:  DecisionTreeClassifier 1\n",
      "Calculate:  DecisionTreeClassifier 2\n",
      "Calculate:  DecisionTreeClassifier 3\n",
      "Calculate:  RandomForestClassifier 4\n",
      "Calculate:  RandomForestClassifier 5\n",
      "Calculate:  GradientBoostingClassifier 1\n",
      "Calculate:  GradientBoostingClassifier 2\n",
      "step:  500 1000\n",
      " 0    377\n",
      " 1     93\n",
      "-1     30\n",
      "Name: class_column, dtype: int64\n",
      "Calculate:  DecisionTreeClassifier 1\n",
      "Calculate:  DecisionTreeClassifier 2\n",
      "Calculate:  DecisionTreeClassifier 3\n",
      "Calculate:  RandomForestClassifier 4\n",
      "Calculate:  RandomForestClassifier 5\n",
      "Calculate:  GradientBoostingClassifier 1\n",
      "Calculate:  GradientBoostingClassifier 2\n",
      "step:  750 1250\n",
      " 0    354\n",
      " 1    110\n",
      "-1     36\n",
      "Name: class_column, dtype: int64\n",
      "Calculate:  DecisionTreeClassifier 1\n",
      "Calculate:  DecisionTreeClassifier 2\n",
      "Calculate:  DecisionTreeClassifier 3\n",
      "Calculate:  RandomForestClassifier 4\n",
      "Calculate:  RandomForestClassifier 5\n",
      "Calculate:  GradientBoostingClassifier 1\n",
      "Calculate:  GradientBoostingClassifier 2\n",
      "step:  1000 1500\n",
      " 0    328\n",
      " 1    113\n",
      "-1     59\n",
      "Name: class_column, dtype: int64\n",
      "Calculate:  DecisionTreeClassifier 1\n",
      "Calculate:  DecisionTreeClassifier 2\n",
      "Calculate:  DecisionTreeClassifier 3\n",
      "Calculate:  RandomForestClassifier 4\n",
      "Calculate:  RandomForestClassifier 5\n",
      "Calculate:  GradientBoostingClassifier 1\n",
      "Calculate:  GradientBoostingClassifier 2\n",
      "step:  1250 1750\n",
      " 0    278\n",
      " 1    156\n",
      "-1     66\n",
      "Name: class_column, dtype: int64\n",
      "Calculate:  DecisionTreeClassifier 1\n",
      "Calculate:  DecisionTreeClassifier 2\n",
      "Calculate:  DecisionTreeClassifier 3\n",
      "Calculate:  RandomForestClassifier 4\n",
      "Calculate:  RandomForestClassifier 5\n",
      "Calculate:  GradientBoostingClassifier 1\n",
      "Calculate:  GradientBoostingClassifier 2\n",
      "step:  1500 2000\n",
      " 0    230\n",
      " 1    183\n",
      "-1     87\n",
      "Name: class_column, dtype: int64\n",
      "Calculate:  DecisionTreeClassifier 1\n",
      "Calculate:  DecisionTreeClassifier 2\n",
      "Calculate:  DecisionTreeClassifier 3\n",
      "Calculate:  RandomForestClassifier 4\n",
      "Calculate:  RandomForestClassifier 5\n",
      "Calculate:  GradientBoostingClassifier 1\n",
      "Calculate:  GradientBoostingClassifier 2\n",
      "step:  1750 2250\n",
      " 1    176\n",
      " 0    171\n",
      "-1    153\n",
      "Name: class_column, dtype: int64\n",
      "Calculate:  DecisionTreeClassifier 1\n",
      "Calculate:  DecisionTreeClassifier 2\n",
      "Calculate:  DecisionTreeClassifier 3\n",
      "Calculate:  RandomForestClassifier 4\n",
      "Calculate:  RandomForestClassifier 5\n",
      "Calculate:  GradientBoostingClassifier 1\n",
      "Calculate:  GradientBoostingClassifier 2\n",
      "step:  2000 2500\n",
      " 0    184\n",
      "-1    159\n",
      " 1    157\n",
      "Name: class_column, dtype: int64\n",
      "Calculate:  DecisionTreeClassifier 1\n",
      "Calculate:  DecisionTreeClassifier 2\n",
      "Calculate:  DecisionTreeClassifier 3\n",
      "Calculate:  RandomForestClassifier 4\n",
      "Calculate:  RandomForestClassifier 5\n",
      "Calculate:  GradientBoostingClassifier 1\n",
      "Calculate:  GradientBoostingClassifier 2\n",
      "step:  2250 2750\n",
      " 0    235\n",
      " 1    141\n",
      "-1    124\n",
      "Name: class_column, dtype: int64\n",
      "Calculate:  DecisionTreeClassifier 1\n",
      "Calculate:  DecisionTreeClassifier 2\n",
      "Calculate:  DecisionTreeClassifier 3\n",
      "Calculate:  RandomForestClassifier 4\n",
      "Calculate:  RandomForestClassifier 5\n",
      "Calculate:  GradientBoostingClassifier 1\n",
      "Calculate:  GradientBoostingClassifier 2\n",
      "step:  2500 3000\n",
      " 0    296\n",
      " 1    126\n",
      "-1     78\n",
      "Name: class_column, dtype: int64\n",
      "Calculate:  DecisionTreeClassifier 1\n",
      "Calculate:  DecisionTreeClassifier 2\n",
      "Calculate:  DecisionTreeClassifier 3\n",
      "Calculate:  RandomForestClassifier 4\n",
      "Calculate:  RandomForestClassifier 5\n",
      "Calculate:  GradientBoostingClassifier 1\n",
      "Calculate:  GradientBoostingClassifier 2\n",
      "step:  2750 3250\n",
      " 0    310\n",
      " 1    132\n",
      "-1     58\n",
      "Name: class_column, dtype: int64\n",
      "Calculate:  DecisionTreeClassifier 1\n",
      "Calculate:  DecisionTreeClassifier 2\n",
      "Calculate:  DecisionTreeClassifier 3\n",
      "Calculate:  RandomForestClassifier 4\n",
      "Calculate:  RandomForestClassifier 5\n",
      "Calculate:  GradientBoostingClassifier 1\n",
      "Calculate:  GradientBoostingClassifier 2\n",
      "step:  3000 3500\n",
      " 0    252\n",
      " 1    132\n",
      "-1    116\n",
      "Name: class_column, dtype: int64\n",
      "Calculate:  DecisionTreeClassifier 1\n",
      "Calculate:  DecisionTreeClassifier 2\n",
      "Calculate:  DecisionTreeClassifier 3\n",
      "Calculate:  RandomForestClassifier 4\n",
      "Calculate:  RandomForestClassifier 5\n",
      "Calculate:  GradientBoostingClassifier 1\n",
      "Calculate:  GradientBoostingClassifier 2\n",
      "step:  3250 3750\n",
      " 0    260\n",
      "-1    123\n",
      " 1    117\n",
      "Name: class_column, dtype: int64\n",
      "Calculate:  DecisionTreeClassifier 1\n",
      "Calculate:  DecisionTreeClassifier 2\n",
      "Calculate:  DecisionTreeClassifier 3\n",
      "Calculate:  RandomForestClassifier 4\n",
      "Calculate:  RandomForestClassifier 5\n",
      "Calculate:  GradientBoostingClassifier 1\n",
      "Calculate:  GradientBoostingClassifier 2\n",
      "step:  3500 4000\n",
      " 0    236\n",
      "-1    163\n",
      " 1    101\n",
      "Name: class_column, dtype: int64\n",
      "Calculate:  DecisionTreeClassifier 1\n",
      "Calculate:  DecisionTreeClassifier 2\n",
      "Calculate:  DecisionTreeClassifier 3\n",
      "Calculate:  RandomForestClassifier 4\n",
      "Calculate:  RandomForestClassifier 5\n",
      "Calculate:  GradientBoostingClassifier 1\n",
      "Calculate:  GradientBoostingClassifier 2\n",
      "step:  3750 4250\n",
      " 0    174\n",
      "-1    158\n",
      " 1    101\n",
      "Name: class_column, dtype: int64\n"
     ]
    }
   ],
   "source": [
    "\n",
    "features = [x for x in data.columns if x not in ['class_column']]\n",
    "num_step = 250 #  (len(data) / num_train  =  number of train-test sets\n",
    "len_set = 500 # Length of each train-test set\n",
    "\n",
    "score = defaultdict(list)\n",
    "step_headers = []\n",
    "i = 0\n",
    "\n",
    "while True:\n",
    "    df = data.iloc[i * num_step : (i * num_step) + len_set]\n",
    "    print(\"step: \", i * num_step, (i * num_step) + len_set)\n",
    "    print(df['class_column'].value_counts())\n",
    "    if len(df) < len_set:\n",
    "        break\n",
    "\n",
    "\n",
    "    step_headers.append(f'<{i * num_step, (i * num_step) + len_set}>')\n",
    "    y = df['class_column']\n",
    "    x = df[features]\n",
    "    x_train,x_test,y_train,y_test = train_test_split(x, y, test_size=0.33, shuffle=False)\n",
    "    classifiers = dict()\n",
    "    init_classifiers()\n",
    "    predictions= dict()\n",
    "    for k,v in classifiers.items():\n",
    "        print(\"Calculate: \", k)\n",
    "        train_model(v,x_train,y_train)\n",
    "        predictions[k] = v.predict(x_test)\n",
    "        score[k].append(accuracy_score(y_test.values, predictions[k]))\n",
    "\n",
    "    i += 1"
   ],
   "metadata": {
    "collapsed": false,
    "pycharm": {
     "name": "#%%\n"
    }
   }
  },
  {
   "cell_type": "code",
   "execution_count": 151,
   "outputs": [
    {
     "name": "stdout",
     "output_type": "stream",
     "text": [
      "+----+------------------------------+--------------+----------------+-----------------+-----------------+------------------+------------------+------------------+------------------+------------------+------------------+------------------+------------------+------------------+------------------+------------------+----------+\n",
      "|    | Classifier type              |   <(0, 500)> |   <(250, 750)> |   <(500, 1000)> |   <(750, 1250)> |   <(1000, 1500)> |   <(1250, 1750)> |   <(1500, 2000)> |   <(1750, 2250)> |   <(2000, 2500)> |   <(2250, 2750)> |   <(2500, 3000)> |   <(2750, 3250)> |   <(3000, 3500)> |   <(3250, 3750)> |   <(3500, 4000)> |     mean |\n",
      "|----+------------------------------+--------------+----------------+-----------------+-----------------+------------------+------------------+------------------+------------------+------------------+------------------+------------------+------------------+------------------+------------------+------------------+----------|\n",
      "|  0 | DecisionTreeClassifier 1     |     0.393939 |       0.745455 |        0.515152 |       0.0787879 |         0.478788 |         0.581818 |         0.436364 |         0.4      |         0.424242 |         0.339394 |         0.406061 |         0.539394 |         0.224242 |         0.363636 |         0.290909 | 0.414545 |\n",
      "|  1 | DecisionTreeClassifier 2     |     0.436364 |       0.757576 |        0.521212 |       0.0909091 |         0.521212 |         0.581818 |         0.418182 |         0.454545 |         0.387879 |         0.387879 |         0.369697 |         0.430303 |         0.345455 |         0.30303  |         0.236364 | 0.416162 |\n",
      "|  2 | DecisionTreeClassifier 3     |     0.406061 |       0.769697 |        0.533333 |       0.0787879 |         0.49697  |         0.581818 |         0.490909 |         0.4      |         0.375758 |         0.369697 |         0.393939 |         0.539394 |         0.375758 |         0.363636 |         0.278788 | 0.430303 |\n",
      "|  3 | RandomForestClassifier 4     |     0.569697 |       0.793939 |        0.557576 |       0.0727273 |         0.593939 |         0.581818 |         0.30303  |         0.418182 |         0.442424 |         0.424242 |         0.406061 |         0.551515 |         0.509091 |         0.139394 |         0.278788 | 0.442828 |\n",
      "|  4 | RandomForestClassifier 5     |     0.636364 |       0.793939 |        0.557576 |       0.775758  |         0.593939 |         0.272727 |         0.309091 |         0.418182 |         0.442424 |         0.412121 |         0.424242 |         0.381818 |         0.50303  |         0.151515 |         0.278788 | 0.463434 |\n",
      "|  5 | GradientBoostingClassifier 1 |     0.424242 |       0.763636 |        0.527273 |       0.0727273 |         0.563636 |         0.581818 |         0.460606 |         0.430303 |         0.430303 |         0.357576 |         0.412121 |         0.509091 |         0.212121 |         0.363636 |         0.236364 | 0.42303  |\n",
      "|  6 | GradientBoostingClassifier 2 |     0.424242 |       0.751515 |        0.509091 |       0.0666667 |         0.557576 |         0.581818 |         0.460606 |         0.424242 |         0.412121 |         0.375758 |         0.406061 |         0.509091 |         0.272727 |         0.290909 |         0.212121 | 0.41697  |\n",
      "+----+------------------------------+--------------+----------------+-----------------+-----------------+------------------+------------------+------------------+------------------+------------------+------------------+------------------+------------------+------------------+------------------+------------------+----------+\n"
     ]
    }
   ],
   "source": [
    "# print(score['DecisionTreeClassifier 1'])\n",
    "# print(score['DecisionTreeClassifier 2'])\n",
    "\n",
    "headers = [\"Classifier type\", \"Accuracy\"]\n",
    "score_df = pd.DataFrame(score.items(), columns=headers)\n",
    "# print(tabulate(score_df, headers, tablefmt=\"psql\"))\n",
    "headers2 = [\"Classifier type\",] + step_headers\n",
    "score_df = pd.DataFrame(score.items(), columns=headers)\n",
    "accuracy_df = pd.DataFrame(score_df['Accuracy'].tolist(), index= score_df.index, columns=step_headers)\n",
    "score_df = score_df.drop('Accuracy', 1)\n",
    "f_out = pd.merge(score_df, accuracy_df, how='left', left_index=True, right_index=True)\n",
    "f_out['mean'] = f_out.mean(axis=1)\n",
    "headers2 = headers2 + ['mean']\n",
    "print(tabulate(f_out,headers2 , tablefmt=\"psql\"))"
   ],
   "metadata": {
    "collapsed": false,
    "pycharm": {
     "name": "#%%\n"
    }
   }
  },
  {
   "cell_type": "code",
   "execution_count": 152,
   "outputs": [],
   "source": [
    "filename_to_export = f'../data/results/{symbol}_1_{WINDOW}_n_fold_{num_step}_{len_set}_{ datetime.now().strftime(\"%d_%m_%Y %H_%M_%S\")}_pure.csv'\n",
    "f_out.to_csv(filename_to_export, index=False)\n",
    "\n"
   ],
   "metadata": {
    "collapsed": false,
    "pycharm": {
     "name": "#%%\n"
    }
   }
  },
  {
   "cell_type": "code",
   "execution_count": 152,
   "outputs": [],
   "source": [],
   "metadata": {
    "collapsed": false,
    "pycharm": {
     "name": "#%%\n"
    }
   }
  }
 ],
 "metadata": {
  "kernelspec": {
   "name": "magisterka_analiza",
   "language": "python",
   "display_name": "Python magisterka"
  },
  "language_info": {
   "codemirror_mode": {
    "name": "ipython",
    "version": 2
   },
   "file_extension": ".py",
   "mimetype": "text/x-python",
   "name": "python",
   "nbconvert_exporter": "python",
   "pygments_lexer": "ipython2",
   "version": "2.7.6"
  }
 },
 "nbformat": 4,
 "nbformat_minor": 0
}