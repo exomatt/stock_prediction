{
 "cells": [
  {
   "cell_type": "code",
   "execution_count": 94,
   "metadata": {
    "collapsed": true
   },
   "outputs": [],
   "source": [
    "from collections import defaultdict\n",
    "from datetime import datetime\n",
    "import matplotlib.pyplot as plt\n",
    "import pandas as pd\n",
    "import seaborn as sn\n",
    "import yfinance as yf\n",
    "from finta import TA\n",
    "from sklearn.ensemble import RandomForestClassifier, GradientBoostingClassifier\n",
    "from sklearn.feature_selection import RFE\n",
    "from sklearn.model_selection import train_test_split\n",
    "from sklearn.metrics import confusion_matrix, classification_report, accuracy_score\n",
    "from sklearn.preprocessing import MinMaxScaler\n",
    "from sklearn.tree import DecisionTreeClassifier\n",
    "from tabulate import tabulate\n",
    "from ta import add_all_ta_features"
   ]
  },
  {
   "cell_type": "code",
   "execution_count": 95,
   "outputs": [],
   "source": [
    "WINDOW = 8  # number of rows to look ahead to see what the price did\n",
    "FETCH_INTERVAL = \"60m\"  # fetch data by interval (including intraday if period < 60 days)\n",
    "# valid intervals: 1m,2m,5m,15m,30m,60m,90m,1h,1d,5d,1wk,1mo,3mo\n",
    "# (optional, default is '1d')\n",
    "INTERVAL = '1y'  # use \"period\" instead of start/end\n",
    "# valid periods: 1d,5d,1mo,3mo,6mo,1y,2y,5y,10y,ytd,max\n",
    "# (optional, default is '1mo')\n",
    "symbol = 'AAPL'  # Symbol of the desired stock\n",
    "ROWS_TO_PREDICT = 128\n",
    "# one day 16 rows of data"
   ],
   "metadata": {
    "collapsed": false,
    "pycharm": {
     "name": "#%%\n"
    }
   }
  },
  {
   "cell_type": "code",
   "execution_count": 96,
   "outputs": [],
   "source": [
    "data = pd.read_csv(\n",
    "    'C:\\\\Users\\\\exomat\\\\Desktop\\\\repo\\\\magisterka_analiza\\\\data\\\\preprocess\\\\AAPL_16_20_04_2021 23_06_09_full.csv')"
   ],
   "metadata": {
    "collapsed": false,
    "pycharm": {
     "name": "#%%\n"
    }
   }
  },
  {
   "cell_type": "code",
   "execution_count": 97,
   "outputs": [],
   "source": [
    "# del (data['close'])\n",
    "# del (data['open'])\n",
    "# del (data['high'])\n",
    "# del (data['volume'])\n",
    "del (data['close_shift'])\n",
    "data = data.dropna()\n",
    "train_set = data.iloc[:-ROWS_TO_PREDICT]\n",
    "train_set = train_set.iloc[:-WINDOW] # optional drop last n rows (avoid of data leak)\n",
    "test_set =data.iloc[-ROWS_TO_PREDICT:]"
   ],
   "metadata": {
    "collapsed": false,
    "pycharm": {
     "name": "#%%\n"
    }
   }
  },
  {
   "cell_type": "code",
   "execution_count": 98,
   "outputs": [
    {
     "data": {
      "text/plain": " 1    1398\n 0    1396\n-1    1388\nName: class_column, dtype: int64"
     },
     "execution_count": 98,
     "metadata": {},
     "output_type": "execute_result"
    }
   ],
   "source": [
    "data['class_column'].value_counts()"
   ],
   "metadata": {
    "collapsed": false,
    "pycharm": {
     "name": "#%%\n"
    }
   }
  },
  {
   "cell_type": "code",
   "execution_count": 99,
   "outputs": [
    {
     "data": {
      "text/plain": "      Unnamed: 0        open        high         low       close    volume  \\\n1              1   55.550000   56.095000   55.370000   55.700000         0   \n2              2   56.032500   56.437500   55.937500   56.247500         0   \n3              3   56.132500   56.750000   56.042500   56.595000         0   \n4              4   56.550000   58.197500   55.625000   57.812500         0   \n5              5   57.837500   59.525000   56.887500   57.020000         0   \n...          ...         ...         ...         ...         ...       ...   \n4138        4138  123.630000  123.890000  123.250000  123.400000         0   \n4139        4139  123.410000  125.071000  122.680000  123.010000         0   \n4140        4140  123.040000  123.070000  122.680000  122.870000         0   \n4141        4141  122.879997  123.180000  121.589996  122.184998  28495155   \n4142        4142  122.180000  122.730003  121.959999  122.209999  14297367   \n\n      close_pct  class_column    volume_adi  volume_obv  ...  momentum_wr  \\\n1      0.001799             1 -0.000000e+00           0  ...   -61.176471   \n2      0.009829             1  0.000000e+00           0  ...   -17.798595   \n3      0.006178             1  0.000000e+00           0  ...   -11.231884   \n4      0.021513             0  0.000000e+00           0  ...   -13.616269   \n5     -0.013708             1  0.000000e+00           0  ...   -60.288809   \n...         ...           ...           ...         ...  ...          ...   \n4138  -0.001860            -1  7.326173e+08  -207956508  ...   -69.806164   \n4139  -0.003160            -1  7.326173e+08  -207956508  ...   -80.873438   \n4140  -0.001138            -1  7.326173e+08  -207956508  ...   -84.846306   \n4141  -0.005575            -1  7.254487e+08  -236451663  ...   -86.065235   \n4142   0.000205            -1  7.204353e+08  -222154296  ...   -85.479707   \n\n      momentum_ao  momentum_kama  momentum_roc  momentum_ppo  \\\n1        0.000000      55.641486      0.000000      0.000000   \n2        0.000000      55.895109      0.000000      0.000000   \n3        0.000000      56.185689      0.000000      0.000000   \n4        0.000000      56.833695      0.000000      0.000000   \n5        0.137792      56.907320      0.000000      0.000000   \n...           ...            ...           ...           ...   \n4138    -0.757845     123.690942      0.476324    -37.791113   \n4139    -0.921378     123.572178      0.219979    -43.150648   \n4140    -1.030995     123.455672     -0.813861    -48.048438   \n4141    -1.142760     123.216573     -2.314600      7.799588   \n4142    -1.229641     122.975325     -2.075324     17.013320   \n\n      momentum_ppo_signal  momentum_ppo_hist  others_dr  others_dlr  \\\n1                0.000000           0.000000   0.179856    0.179695   \n2                0.000000           0.000000   0.982944    0.978145   \n3                0.000000           0.000000   0.617805    0.615905   \n4                0.000000           0.000000   2.151250    2.128437   \n5                0.000000           0.000000  -1.370811   -1.380293   \n...                   ...                ...        ...         ...   \n4138           -15.805844         -21.985269  -0.186039   -0.186212   \n4139           -21.274805         -21.875843  -0.316045   -0.316546   \n4140           -26.629531         -21.418907  -0.113812   -0.113877   \n4141           -19.743707          27.543296  -0.557502   -0.559062   \n4142           -12.392302          29.405622   0.020462    0.020460   \n\n       others_cr  \n1       0.179856  \n2       1.164568  \n3       1.789568  \n4       3.979317  \n5       2.553957  \n...          ...  \n4138  121.942446  \n4139  121.241007  \n4140  120.989209  \n4141  119.757190  \n4142  119.802157  \n\n[4142 rows x 91 columns]",
      "text/html": "<div>\n<style scoped>\n    .dataframe tbody tr th:only-of-type {\n        vertical-align: middle;\n    }\n\n    .dataframe tbody tr th {\n        vertical-align: top;\n    }\n\n    .dataframe thead th {\n        text-align: right;\n    }\n</style>\n<table border=\"1\" class=\"dataframe\">\n  <thead>\n    <tr style=\"text-align: right;\">\n      <th></th>\n      <th>Unnamed: 0</th>\n      <th>open</th>\n      <th>high</th>\n      <th>low</th>\n      <th>close</th>\n      <th>volume</th>\n      <th>close_pct</th>\n      <th>class_column</th>\n      <th>volume_adi</th>\n      <th>volume_obv</th>\n      <th>...</th>\n      <th>momentum_wr</th>\n      <th>momentum_ao</th>\n      <th>momentum_kama</th>\n      <th>momentum_roc</th>\n      <th>momentum_ppo</th>\n      <th>momentum_ppo_signal</th>\n      <th>momentum_ppo_hist</th>\n      <th>others_dr</th>\n      <th>others_dlr</th>\n      <th>others_cr</th>\n    </tr>\n  </thead>\n  <tbody>\n    <tr>\n      <th>1</th>\n      <td>1</td>\n      <td>55.550000</td>\n      <td>56.095000</td>\n      <td>55.370000</td>\n      <td>55.700000</td>\n      <td>0</td>\n      <td>0.001799</td>\n      <td>1</td>\n      <td>-0.000000e+00</td>\n      <td>0</td>\n      <td>...</td>\n      <td>-61.176471</td>\n      <td>0.000000</td>\n      <td>55.641486</td>\n      <td>0.000000</td>\n      <td>0.000000</td>\n      <td>0.000000</td>\n      <td>0.000000</td>\n      <td>0.179856</td>\n      <td>0.179695</td>\n      <td>0.179856</td>\n    </tr>\n    <tr>\n      <th>2</th>\n      <td>2</td>\n      <td>56.032500</td>\n      <td>56.437500</td>\n      <td>55.937500</td>\n      <td>56.247500</td>\n      <td>0</td>\n      <td>0.009829</td>\n      <td>1</td>\n      <td>0.000000e+00</td>\n      <td>0</td>\n      <td>...</td>\n      <td>-17.798595</td>\n      <td>0.000000</td>\n      <td>55.895109</td>\n      <td>0.000000</td>\n      <td>0.000000</td>\n      <td>0.000000</td>\n      <td>0.000000</td>\n      <td>0.982944</td>\n      <td>0.978145</td>\n      <td>1.164568</td>\n    </tr>\n    <tr>\n      <th>3</th>\n      <td>3</td>\n      <td>56.132500</td>\n      <td>56.750000</td>\n      <td>56.042500</td>\n      <td>56.595000</td>\n      <td>0</td>\n      <td>0.006178</td>\n      <td>1</td>\n      <td>0.000000e+00</td>\n      <td>0</td>\n      <td>...</td>\n      <td>-11.231884</td>\n      <td>0.000000</td>\n      <td>56.185689</td>\n      <td>0.000000</td>\n      <td>0.000000</td>\n      <td>0.000000</td>\n      <td>0.000000</td>\n      <td>0.617805</td>\n      <td>0.615905</td>\n      <td>1.789568</td>\n    </tr>\n    <tr>\n      <th>4</th>\n      <td>4</td>\n      <td>56.550000</td>\n      <td>58.197500</td>\n      <td>55.625000</td>\n      <td>57.812500</td>\n      <td>0</td>\n      <td>0.021513</td>\n      <td>0</td>\n      <td>0.000000e+00</td>\n      <td>0</td>\n      <td>...</td>\n      <td>-13.616269</td>\n      <td>0.000000</td>\n      <td>56.833695</td>\n      <td>0.000000</td>\n      <td>0.000000</td>\n      <td>0.000000</td>\n      <td>0.000000</td>\n      <td>2.151250</td>\n      <td>2.128437</td>\n      <td>3.979317</td>\n    </tr>\n    <tr>\n      <th>5</th>\n      <td>5</td>\n      <td>57.837500</td>\n      <td>59.525000</td>\n      <td>56.887500</td>\n      <td>57.020000</td>\n      <td>0</td>\n      <td>-0.013708</td>\n      <td>1</td>\n      <td>0.000000e+00</td>\n      <td>0</td>\n      <td>...</td>\n      <td>-60.288809</td>\n      <td>0.137792</td>\n      <td>56.907320</td>\n      <td>0.000000</td>\n      <td>0.000000</td>\n      <td>0.000000</td>\n      <td>0.000000</td>\n      <td>-1.370811</td>\n      <td>-1.380293</td>\n      <td>2.553957</td>\n    </tr>\n    <tr>\n      <th>...</th>\n      <td>...</td>\n      <td>...</td>\n      <td>...</td>\n      <td>...</td>\n      <td>...</td>\n      <td>...</td>\n      <td>...</td>\n      <td>...</td>\n      <td>...</td>\n      <td>...</td>\n      <td>...</td>\n      <td>...</td>\n      <td>...</td>\n      <td>...</td>\n      <td>...</td>\n      <td>...</td>\n      <td>...</td>\n      <td>...</td>\n      <td>...</td>\n      <td>...</td>\n      <td>...</td>\n    </tr>\n    <tr>\n      <th>4138</th>\n      <td>4138</td>\n      <td>123.630000</td>\n      <td>123.890000</td>\n      <td>123.250000</td>\n      <td>123.400000</td>\n      <td>0</td>\n      <td>-0.001860</td>\n      <td>-1</td>\n      <td>7.326173e+08</td>\n      <td>-207956508</td>\n      <td>...</td>\n      <td>-69.806164</td>\n      <td>-0.757845</td>\n      <td>123.690942</td>\n      <td>0.476324</td>\n      <td>-37.791113</td>\n      <td>-15.805844</td>\n      <td>-21.985269</td>\n      <td>-0.186039</td>\n      <td>-0.186212</td>\n      <td>121.942446</td>\n    </tr>\n    <tr>\n      <th>4139</th>\n      <td>4139</td>\n      <td>123.410000</td>\n      <td>125.071000</td>\n      <td>122.680000</td>\n      <td>123.010000</td>\n      <td>0</td>\n      <td>-0.003160</td>\n      <td>-1</td>\n      <td>7.326173e+08</td>\n      <td>-207956508</td>\n      <td>...</td>\n      <td>-80.873438</td>\n      <td>-0.921378</td>\n      <td>123.572178</td>\n      <td>0.219979</td>\n      <td>-43.150648</td>\n      <td>-21.274805</td>\n      <td>-21.875843</td>\n      <td>-0.316045</td>\n      <td>-0.316546</td>\n      <td>121.241007</td>\n    </tr>\n    <tr>\n      <th>4140</th>\n      <td>4140</td>\n      <td>123.040000</td>\n      <td>123.070000</td>\n      <td>122.680000</td>\n      <td>122.870000</td>\n      <td>0</td>\n      <td>-0.001138</td>\n      <td>-1</td>\n      <td>7.326173e+08</td>\n      <td>-207956508</td>\n      <td>...</td>\n      <td>-84.846306</td>\n      <td>-1.030995</td>\n      <td>123.455672</td>\n      <td>-0.813861</td>\n      <td>-48.048438</td>\n      <td>-26.629531</td>\n      <td>-21.418907</td>\n      <td>-0.113812</td>\n      <td>-0.113877</td>\n      <td>120.989209</td>\n    </tr>\n    <tr>\n      <th>4141</th>\n      <td>4141</td>\n      <td>122.879997</td>\n      <td>123.180000</td>\n      <td>121.589996</td>\n      <td>122.184998</td>\n      <td>28495155</td>\n      <td>-0.005575</td>\n      <td>-1</td>\n      <td>7.254487e+08</td>\n      <td>-236451663</td>\n      <td>...</td>\n      <td>-86.065235</td>\n      <td>-1.142760</td>\n      <td>123.216573</td>\n      <td>-2.314600</td>\n      <td>7.799588</td>\n      <td>-19.743707</td>\n      <td>27.543296</td>\n      <td>-0.557502</td>\n      <td>-0.559062</td>\n      <td>119.757190</td>\n    </tr>\n    <tr>\n      <th>4142</th>\n      <td>4142</td>\n      <td>122.180000</td>\n      <td>122.730003</td>\n      <td>121.959999</td>\n      <td>122.209999</td>\n      <td>14297367</td>\n      <td>0.000205</td>\n      <td>-1</td>\n      <td>7.204353e+08</td>\n      <td>-222154296</td>\n      <td>...</td>\n      <td>-85.479707</td>\n      <td>-1.229641</td>\n      <td>122.975325</td>\n      <td>-2.075324</td>\n      <td>17.013320</td>\n      <td>-12.392302</td>\n      <td>29.405622</td>\n      <td>0.020462</td>\n      <td>0.020460</td>\n      <td>119.802157</td>\n    </tr>\n  </tbody>\n</table>\n<p>4142 rows × 91 columns</p>\n</div>"
     },
     "execution_count": 99,
     "metadata": {},
     "output_type": "execute_result"
    }
   ],
   "source": [
    "train_set"
   ],
   "metadata": {
    "collapsed": false,
    "pycharm": {
     "name": "#%%\n"
    }
   }
  },
  {
   "cell_type": "code",
   "execution_count": 100,
   "outputs": [],
   "source": [
    "y = data['class_column']\n",
    "features = [x for x in data.columns if x not in ['class_column']]\n",
    "x = data[features]\n",
    "scaler = MinMaxScaler()\n",
    "# x = pd.DataFrame(scaler.fit_transform(x.values), columns=x.columns, index=x.index)\n",
    "x_train= x.iloc[:-ROWS_TO_PREDICT]\n",
    "y_train= y.iloc[:-ROWS_TO_PREDICT]\n",
    "x_test =x.iloc[-ROWS_TO_PREDICT:]\n",
    "y_test=y.iloc[-ROWS_TO_PREDICT:]"
   ],
   "metadata": {
    "collapsed": false,
    "pycharm": {
     "name": "#%%\n"
    }
   }
  },
  {
   "cell_type": "code",
   "execution_count": 101,
   "outputs": [],
   "source": [
    "classifiers = dict()\n",
    "\n",
    "classifiers['DecisionTreeClassifier 1'] = DecisionTreeClassifier(max_depth=10, random_state=0,criterion='gini',splitter='best')\n",
    "classifiers['DecisionTreeClassifier 2'] = DecisionTreeClassifier(max_depth=10, random_state=0,criterion='gini',splitter='random')\n",
    "classifiers['DecisionTreeClassifier 3'] = DecisionTreeClassifier(max_depth=10, random_state=0,criterion='entropy',splitter='best')\n",
    "classifiers['RandomForestClassifier 4'] = RandomForestClassifier(n_estimators=1000, max_depth=3, random_state=0,criterion='gini', n_jobs = -1)\n",
    "classifiers['RandomForestClassifier 5'] = RandomForestClassifier(n_estimators=100, max_depth=2, random_state=0,criterion='entropy', n_jobs = -1)\n",
    "classifiers['GradientBoostingClassifier 1'] = GradientBoostingClassifier(n_estimators=100,random_state=0,criterion='friedman_mse',max_depth=3, learning_rate=0.1)\n",
    "classifiers['GradientBoostingClassifier 2'] = GradientBoostingClassifier(n_estimators=1000,random_state=0,criterion='friedman_mse',max_depth=3, learning_rate=0.1)"
   ],
   "metadata": {
    "collapsed": false,
    "pycharm": {
     "name": "#%%\n"
    }
   }
  },
  {
   "cell_type": "code",
   "execution_count": 102,
   "outputs": [],
   "source": [
    "def print_conf_matrix(test_y, predict, name):\n",
    "    matrix = confusion_matrix(test_y, predict,  labels=[-1, 0, 1])\n",
    "    print(matrix)\n",
    "    ax= plt.subplot()\n",
    "    sn.heatmap(matrix, annot=True, ax = ax) #annot=True to annotate cells\n",
    "\n",
    "    # labels, title and ticks\n",
    "    ax.set_xlabel('Predicted labels', color='white')\n",
    "    ax.set_ylabel('True labels', color='white')\n",
    "    ax.set_title(f'Confusion Matrix for {name}' , color='white')\n",
    "    ax.xaxis.set_ticklabels(['-1','0', '1'], color='white')\n",
    "    ax.yaxis.set_ticklabels(['-1','0', '1'], color='white')\n",
    "    plt.show()\n",
    "\n",
    "def train_model(model,train_x, train_y):\n",
    "    model.fit(train_x, train_y)"
   ],
   "metadata": {
    "collapsed": false,
    "pycharm": {
     "name": "#%%\n"
    }
   }
  },
  {
   "cell_type": "code",
   "execution_count": 103,
   "outputs": [
    {
     "name": "stdout",
     "output_type": "stream",
     "text": [
      "Calculate:  DecisionTreeClassifier 1\n",
      "Score train:  0.788433734939759\n",
      "Score:  0.25\n",
      "Calculate:  DecisionTreeClassifier 2\n",
      "Score train:  0.8236144578313253\n",
      "Score:  0.34375\n",
      "Calculate:  DecisionTreeClassifier 3\n",
      "Score train:  0.7701204819277109\n",
      "Score:  0.28125\n",
      "Calculate:  RandomForestClassifier 4\n",
      "Score train:  0.5086746987951807\n",
      "Score:  0.0625\n",
      "Calculate:  RandomForestClassifier 5\n",
      "Score train:  0.47734939759036144\n",
      "Score:  0.0625\n",
      "Calculate:  GradientBoostingClassifier 1\n",
      "Score train:  0.8587951807228915\n",
      "Score:  0.0625\n",
      "Calculate:  GradientBoostingClassifier 2\n",
      "Score train:  1.0\n",
      "Score:  0.0625\n",
      "train\n",
      "+----+------------------------------+------------+\n",
      "|    | Classifier type              |   Accuracy |\n",
      "|----+------------------------------+------------|\n",
      "|  0 | DecisionTreeClassifier 1     |   0.788434 |\n",
      "|  1 | DecisionTreeClassifier 2     |   0.823614 |\n",
      "|  2 | DecisionTreeClassifier 3     |   0.77012  |\n",
      "|  3 | RandomForestClassifier 4     |   0.508675 |\n",
      "|  4 | RandomForestClassifier 5     |   0.477349 |\n",
      "|  5 | GradientBoostingClassifier 1 |   0.858795 |\n",
      "|  6 | GradientBoostingClassifier 2 |   1        |\n",
      "+----+------------------------------+------------+\n",
      "test\n",
      "+----+------------------------------+------------+\n",
      "|    | Classifier type              |   Accuracy |\n",
      "|----+------------------------------+------------|\n",
      "|  0 | DecisionTreeClassifier 1     |    0.25    |\n",
      "|  1 | DecisionTreeClassifier 2     |    0.34375 |\n",
      "|  2 | DecisionTreeClassifier 3     |    0.28125 |\n",
      "|  3 | RandomForestClassifier 4     |    0.0625  |\n",
      "|  4 | RandomForestClassifier 5     |    0.0625  |\n",
      "|  5 | GradientBoostingClassifier 1 |    0.0625  |\n",
      "|  6 | GradientBoostingClassifier 2 |    0.0625  |\n",
      "+----+------------------------------+------------+\n"
     ]
    }
   ],
   "source": [
    "predictions= dict()\n",
    "predictions_train= dict()\n",
    "score = dict()\n",
    "score_train = dict()\n",
    "for k,v in classifiers.items():\n",
    "    print(\"Calculate: \", k)\n",
    "    train_model(v,x_train,y_train)\n",
    "    predictions[k] = v.predict(x_test)\n",
    "    predictions_train[k] = v.predict(x_train)\n",
    "    score[k] = accuracy_score(y_test.values, predictions[k])\n",
    "    score_train[k] = accuracy_score(y_train.values, predictions_train[k])\n",
    "    print('Score train: ',  score_train[k] )\n",
    "    print('Score: ',  score[k] )\n",
    "    # print_conf_matrix(test_y, predictions[k], k)\n",
    "\n",
    "headers = [\"Classifier type\", \"Accuracy\"]\n",
    "score_df = pd.DataFrame(score_train.items(), columns=headers)\n",
    "print(\"train\")\n",
    "print(tabulate(score_df, headers, tablefmt=\"psql\"))\n",
    "print(\"test\")\n",
    "score_df = pd.DataFrame(score.items(), columns=headers)\n",
    "print(tabulate(score_df, headers, tablefmt=\"psql\"))\n",
    "\n",
    "\n"
   ],
   "metadata": {
    "collapsed": false,
    "pycharm": {
     "name": "#%%\n"
    }
   }
  },
  {
   "cell_type": "code",
   "execution_count": 104,
   "outputs": [],
   "source": [
    "filename_to_export = f'../data/results/{symbol}_1_{WINDOW}_{ROWS_TO_PREDICT}_{ datetime.now().strftime(\"%d_%m_%Y %H_%M_%S\")}.csv'\n",
    "score_df.to_csv(filename_to_export, index=False)"
   ],
   "metadata": {
    "collapsed": false,
    "pycharm": {
     "name": "#%%\n"
    }
   }
  },
  {
   "cell_type": "code",
   "execution_count": 105,
   "outputs": [
    {
     "name": "stderr",
     "output_type": "stream",
     "text": [
      "C:\\Users\\exomat\\anaconda3\\envs\\magisterka_analiza\\lib\\site-packages\\sklearn\\utils\\validation.py:67: FutureWarning: Pass n_features_to_select=10 as keyword args. From version 0.25 passing these as positional arguments will result in an error\n",
      "  warnings.warn(\"Pass {} as keyword args. From version 0.25 \"\n"
     ]
    },
    {
     "data": {
      "text/plain": "RFE(estimator=RandomForestClassifier(criterion='entropy', max_depth=2,\n                                     n_jobs=-1, random_state=0),\n    n_features_to_select=10)"
     },
     "execution_count": 105,
     "metadata": {},
     "output_type": "execute_result"
    }
   ],
   "source": [
    "rfe = RFE(classifiers['RandomForestClassifier 5'],10)\n",
    "fited = rfe.fit(x_train, y_train)\n",
    "rfe"
   ],
   "metadata": {
    "collapsed": false,
    "pycharm": {
     "name": "#%%\n"
    }
   }
  },
  {
   "cell_type": "code",
   "execution_count": 106,
   "outputs": [
    {
     "name": "stdout",
     "output_type": "stream",
     "text": [
      "Columns with predictive power: ['Unnamed: 0', 'high', 'volatility_bbh', 'volatility_dch', 'trend_macd', 'trend_ichimoku_b', 'trend_visual_ichimoku_a', 'trend_psar_down', 'momentum_ao', 'momentum_kama']\n"
     ]
    }
   ],
   "source": [
    "names = x.columns\n",
    "columns=[]\n",
    "for i in range(len(fited.support_)):\n",
    "    if fited.support_[i]:\n",
    "        columns.append(names[i])\n",
    "\n",
    "print(\"Columns with predictive power:\", columns )"
   ],
   "metadata": {
    "collapsed": false,
    "pycharm": {
     "name": "#%%\n"
    }
   }
  },
  {
   "cell_type": "code",
   "execution_count": 107,
   "outputs": [
    {
     "data": {
      "text/plain": "      Unnamed: 0        high  volatility_bbh  volatility_dch  trend_macd  \\\n1              1   56.095000       55.750000       56.220000    0.007977   \n2              2   56.437500       56.418382       56.437500    0.057811   \n3              3   56.750000       56.848155       56.750000    0.123917   \n4              4   58.197500       57.987504       58.197500    0.271420   \n5              5   59.525000       58.026788       59.525000    0.320672   \n...          ...         ...             ...             ...         ...   \n4146        4146  121.540001      125.738465      125.859901   -0.725519   \n4147        4147  121.080002      125.912982      125.859901   -0.825179   \n4148        4148  121.427040      125.955757      125.859901   -0.885082   \n4149        4149  120.800000      125.750434      125.410004   -0.913153   \n4150        4150  120.870000      125.549979      125.071000   -0.935110   \n\n      trend_ichimoku_b  trend_visual_ichimoku_a  trend_psar_down  momentum_ao  \\\n1            55.795000               106.371461        -1.000000     0.000000   \n2            55.903750               106.371461        -1.000000     0.000000   \n3            56.060000               106.371461        -1.000000     0.000000   \n4            56.783750               106.371461        -1.000000     0.000000   \n5            57.447500               106.371461        -1.000000     0.137792   \n...                ...                      ...              ...          ...   \n4146        121.508866               121.684325       125.254816    -1.896813   \n4147        121.508866               121.684325       125.254816    -2.079954   \n4148        121.508866               121.672975       125.254816    -2.193273   \n4149        121.508866               121.672975       125.254816    -2.436961   \n4150        122.505586               123.421043       125.254816    -2.513373   \n\n      momentum_kama  \n1         55.641486  \n2         55.895109  \n3         56.185689  \n4         56.833695  \n5         56.907320  \n...             ...  \n4146     121.945077  \n4147     121.403886  \n4148     121.150552  \n4149     121.041108  \n4150     120.926261  \n\n[4150 rows x 10 columns]",
      "text/html": "<div>\n<style scoped>\n    .dataframe tbody tr th:only-of-type {\n        vertical-align: middle;\n    }\n\n    .dataframe tbody tr th {\n        vertical-align: top;\n    }\n\n    .dataframe thead th {\n        text-align: right;\n    }\n</style>\n<table border=\"1\" class=\"dataframe\">\n  <thead>\n    <tr style=\"text-align: right;\">\n      <th></th>\n      <th>Unnamed: 0</th>\n      <th>high</th>\n      <th>volatility_bbh</th>\n      <th>volatility_dch</th>\n      <th>trend_macd</th>\n      <th>trend_ichimoku_b</th>\n      <th>trend_visual_ichimoku_a</th>\n      <th>trend_psar_down</th>\n      <th>momentum_ao</th>\n      <th>momentum_kama</th>\n    </tr>\n  </thead>\n  <tbody>\n    <tr>\n      <th>1</th>\n      <td>1</td>\n      <td>56.095000</td>\n      <td>55.750000</td>\n      <td>56.220000</td>\n      <td>0.007977</td>\n      <td>55.795000</td>\n      <td>106.371461</td>\n      <td>-1.000000</td>\n      <td>0.000000</td>\n      <td>55.641486</td>\n    </tr>\n    <tr>\n      <th>2</th>\n      <td>2</td>\n      <td>56.437500</td>\n      <td>56.418382</td>\n      <td>56.437500</td>\n      <td>0.057811</td>\n      <td>55.903750</td>\n      <td>106.371461</td>\n      <td>-1.000000</td>\n      <td>0.000000</td>\n      <td>55.895109</td>\n    </tr>\n    <tr>\n      <th>3</th>\n      <td>3</td>\n      <td>56.750000</td>\n      <td>56.848155</td>\n      <td>56.750000</td>\n      <td>0.123917</td>\n      <td>56.060000</td>\n      <td>106.371461</td>\n      <td>-1.000000</td>\n      <td>0.000000</td>\n      <td>56.185689</td>\n    </tr>\n    <tr>\n      <th>4</th>\n      <td>4</td>\n      <td>58.197500</td>\n      <td>57.987504</td>\n      <td>58.197500</td>\n      <td>0.271420</td>\n      <td>56.783750</td>\n      <td>106.371461</td>\n      <td>-1.000000</td>\n      <td>0.000000</td>\n      <td>56.833695</td>\n    </tr>\n    <tr>\n      <th>5</th>\n      <td>5</td>\n      <td>59.525000</td>\n      <td>58.026788</td>\n      <td>59.525000</td>\n      <td>0.320672</td>\n      <td>57.447500</td>\n      <td>106.371461</td>\n      <td>-1.000000</td>\n      <td>0.137792</td>\n      <td>56.907320</td>\n    </tr>\n    <tr>\n      <th>...</th>\n      <td>...</td>\n      <td>...</td>\n      <td>...</td>\n      <td>...</td>\n      <td>...</td>\n      <td>...</td>\n      <td>...</td>\n      <td>...</td>\n      <td>...</td>\n      <td>...</td>\n    </tr>\n    <tr>\n      <th>4146</th>\n      <td>4146</td>\n      <td>121.540001</td>\n      <td>125.738465</td>\n      <td>125.859901</td>\n      <td>-0.725519</td>\n      <td>121.508866</td>\n      <td>121.684325</td>\n      <td>125.254816</td>\n      <td>-1.896813</td>\n      <td>121.945077</td>\n    </tr>\n    <tr>\n      <th>4147</th>\n      <td>4147</td>\n      <td>121.080002</td>\n      <td>125.912982</td>\n      <td>125.859901</td>\n      <td>-0.825179</td>\n      <td>121.508866</td>\n      <td>121.684325</td>\n      <td>125.254816</td>\n      <td>-2.079954</td>\n      <td>121.403886</td>\n    </tr>\n    <tr>\n      <th>4148</th>\n      <td>4148</td>\n      <td>121.427040</td>\n      <td>125.955757</td>\n      <td>125.859901</td>\n      <td>-0.885082</td>\n      <td>121.508866</td>\n      <td>121.672975</td>\n      <td>125.254816</td>\n      <td>-2.193273</td>\n      <td>121.150552</td>\n    </tr>\n    <tr>\n      <th>4149</th>\n      <td>4149</td>\n      <td>120.800000</td>\n      <td>125.750434</td>\n      <td>125.410004</td>\n      <td>-0.913153</td>\n      <td>121.508866</td>\n      <td>121.672975</td>\n      <td>125.254816</td>\n      <td>-2.436961</td>\n      <td>121.041108</td>\n    </tr>\n    <tr>\n      <th>4150</th>\n      <td>4150</td>\n      <td>120.870000</td>\n      <td>125.549979</td>\n      <td>125.071000</td>\n      <td>-0.935110</td>\n      <td>122.505586</td>\n      <td>123.421043</td>\n      <td>125.254816</td>\n      <td>-2.513373</td>\n      <td>120.926261</td>\n    </tr>\n  </tbody>\n</table>\n<p>4150 rows × 10 columns</p>\n</div>"
     },
     "execution_count": 107,
     "metadata": {},
     "output_type": "execute_result"
    }
   ],
   "source": [
    "x_test_cropped = x_test[columns]\n",
    "x_train_cropped = x_train[columns]\n",
    "x_train_cropped"
   ],
   "metadata": {
    "collapsed": false,
    "pycharm": {
     "name": "#%%\n"
    }
   }
  },
  {
   "cell_type": "code",
   "execution_count": 108,
   "outputs": [],
   "source": [
    "classifiers_boosted = dict()\n",
    "classifiers_boosted['GradientBoostingClassifier 1'] = GradientBoostingClassifier(n_estimators=100,random_state=0,criterion='friedman_mse',max_depth=3, learning_rate=0.1)\n",
    "classifiers_boosted['GradientBoostingClassifier 2'] = GradientBoostingClassifier(n_estimators=1000,random_state=0,criterion='friedman_mse',max_depth=3, learning_rate=0.3)\n",
    "classifiers_boosted['GradientBoostingClassifier 3'] = GradientBoostingClassifier(n_estimators=1000,random_state=0,criterion='friedman_mse',max_depth=2, learning_rate=0.5)\n",
    "classifiers_boosted['GradientBoostingClassifier 4'] = GradientBoostingClassifier(n_estimators=1000,random_state=0,criterion='friedman_mse',max_depth=2, learning_rate=0.8)"
   ],
   "metadata": {
    "collapsed": false,
    "pycharm": {
     "name": "#%%\n"
    }
   }
  },
  {
   "cell_type": "code",
   "execution_count": 109,
   "outputs": [
    {
     "name": "stdout",
     "output_type": "stream",
     "text": [
      "Calculate:  GradientBoostingClassifier 1\n",
      "Score train:  0.8587951807228915\n",
      "Score:  0.0625\n",
      "Calculate:  GradientBoostingClassifier 2\n",
      "Score train:  1.0\n",
      "Score:  0.15625\n",
      "Calculate:  GradientBoostingClassifier 3\n",
      "Score train:  1.0\n",
      "Score:  0.21875\n",
      "Calculate:  GradientBoostingClassifier 4\n",
      "Score train:  1.0\n",
      "Score:  0.09375\n",
      "train\n",
      "+----+------------------------------+------------+\n",
      "|    | Classifier type              |   Accuracy |\n",
      "|----+------------------------------+------------|\n",
      "|  0 | GradientBoostingClassifier 1 |   0.858795 |\n",
      "|  1 | GradientBoostingClassifier 2 |   1        |\n",
      "|  2 | GradientBoostingClassifier 3 |   1        |\n",
      "|  3 | GradientBoostingClassifier 4 |   1        |\n",
      "+----+------------------------------+------------+\n",
      "test\n",
      "+----+------------------------------+------------+\n",
      "|    | Classifier type              |   Accuracy |\n",
      "|----+------------------------------+------------|\n",
      "|  0 | GradientBoostingClassifier 1 |    0.0625  |\n",
      "|  1 | GradientBoostingClassifier 2 |    0.15625 |\n",
      "|  2 | GradientBoostingClassifier 3 |    0.21875 |\n",
      "|  3 | GradientBoostingClassifier 4 |    0.09375 |\n",
      "+----+------------------------------+------------+\n"
     ]
    }
   ],
   "source": [
    "predictions= dict()\n",
    "predictions_train= dict()\n",
    "score = dict()\n",
    "score_train = dict()\n",
    "for k,v in classifiers_boosted.items():\n",
    "    print(\"Calculate: \", k)\n",
    "    train_model(v,x_train,y_train)\n",
    "    predictions[k] = v.predict(x_test)\n",
    "    predictions_train[k] = v.predict(x_train)\n",
    "    score[k] = accuracy_score(y_test.values, predictions[k])\n",
    "    score_train[k] = accuracy_score(y_train.values, predictions_train[k])\n",
    "    print('Score train: ',  score_train[k] )\n",
    "    print('Score: ',  score[k] )\n",
    "    # print_conf_matrix(test_y, predictions[k], k)\n",
    "\n",
    "headers = [\"Classifier type\", \"Accuracy\"]\n",
    "score_df = pd.DataFrame(score_train.items(), columns=headers)\n",
    "print(\"train\")\n",
    "print(tabulate(score_df, headers, tablefmt=\"psql\"))\n",
    "print(\"test\")\n",
    "score_df = pd.DataFrame(score.items(), columns=headers)\n",
    "print(tabulate(score_df, headers, tablefmt=\"psql\"))"
   ],
   "metadata": {
    "collapsed": false,
    "pycharm": {
     "name": "#%%\n"
    }
   }
  },
  {
   "cell_type": "code",
   "execution_count": 110,
   "outputs": [],
   "source": [
    "# score_df.to_csv(filename_to_export,mode='a', index=False)"
   ],
   "metadata": {
    "collapsed": false,
    "pycharm": {
     "name": "#%%\n"
    }
   }
  },
  {
   "cell_type": "code",
   "execution_count": 110,
   "outputs": [],
   "source": [],
   "metadata": {
    "collapsed": false,
    "pycharm": {
     "name": "#%%\n"
    }
   }
  }
 ],
 "metadata": {
  "kernelspec": {
   "display_name": "Python 3",
   "language": "python",
   "name": "python3"
  },
  "language_info": {
   "codemirror_mode": {
    "name": "ipython",
    "version": 2
   },
   "file_extension": ".py",
   "mimetype": "text/x-python",
   "name": "python",
   "nbconvert_exporter": "python",
   "pygments_lexer": "ipython2",
   "version": "2.7.6"
  }
 },
 "nbformat": 4,
 "nbformat_minor": 0
}