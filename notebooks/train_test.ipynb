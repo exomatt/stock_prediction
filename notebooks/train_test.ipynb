{
 "cells": [
  {
   "cell_type": "code",
   "execution_count": 35,
   "metadata": {
    "collapsed": true
   },
   "outputs": [],
   "source": [
    "from collections import defaultdict\n",
    "from datetime import datetime\n",
    "import matplotlib.pyplot as plt\n",
    "import pandas as pd\n",
    "import seaborn as sn\n",
    "import yfinance as yf\n",
    "from finta import TA\n",
    "from sklearn.ensemble import RandomForestClassifier, GradientBoostingClassifier\n",
    "from sklearn.feature_selection import RFE\n",
    "from sklearn.model_selection import train_test_split\n",
    "from sklearn.metrics import confusion_matrix, classification_report, accuracy_score\n",
    "from sklearn.preprocessing import MinMaxScaler\n",
    "from sklearn.tree import DecisionTreeClassifier\n",
    "from tabulate import tabulate\n",
    "from ta import add_all_ta_features\n",
    "import xgboost as xgb"
   ]
  },
  {
   "cell_type": "code",
   "execution_count": 36,
   "outputs": [],
   "source": [
    "WINDOW = 8  # number of rows to look ahead to see what the price did\n",
    "FETCH_INTERVAL = \"60m\"  # fetch data by interval (including intraday if period < 60 days)\n",
    "# valid intervals: 1m,2m,5m,15m,30m,60m,90m,1h,1d,5d,1wk,1mo,3mo\n",
    "# (optional, default is '1d')\n",
    "INTERVAL = '2y'  # use \"period\" instead of start/end\n",
    "# valid periods: 1d,5d,1mo,3mo,6mo,1y,2y,5y,10y,ytd,max\n",
    "# (optional, default is '1mo')\n",
    "symbol = 'AAPL'  # Symbol of the desired stock\n",
    "ROWS_TO_PREDICT = 128\n",
    "# one day 16 rows of data"
   ],
   "metadata": {
    "collapsed": false,
    "pycharm": {
     "name": "#%%\n"
    }
   }
  },
  {
   "cell_type": "code",
   "execution_count": 37,
   "outputs": [],
   "source": [
    "data = pd.read_csv(\n",
    "    'C:\\\\Users\\\\exomat\\\\Desktop\\\\repo\\\\magisterka_analiza\\\\data\\\\preprocess\\\\AAPL_16_21_04_2021 00_40_43_full.csv')"
   ],
   "metadata": {
    "collapsed": false,
    "pycharm": {
     "name": "#%%\n"
    }
   }
  },
  {
   "cell_type": "code",
   "execution_count": 38,
   "outputs": [],
   "source": [
    "# del (data['close'])\n",
    "# del (data['open'])\n",
    "# del (data['high'])\n",
    "# del (data['volume'])\n",
    "del (data['close_shift'])\n",
    "data = data.dropna()\n",
    "train_set = data.iloc[:-ROWS_TO_PREDICT]\n",
    "train_set = train_set.iloc[:-WINDOW] # optional drop last n rows (avoid of data leak)\n",
    "test_set =data.iloc[-ROWS_TO_PREDICT:]"
   ],
   "metadata": {
    "collapsed": false,
    "pycharm": {
     "name": "#%%\n"
    }
   }
  },
  {
   "cell_type": "code",
   "execution_count": 39,
   "outputs": [
    {
     "data": {
      "text/plain": " 1    1398\n 0    1396\n-1    1388\nName: class_column, dtype: int64"
     },
     "execution_count": 39,
     "metadata": {},
     "output_type": "execute_result"
    }
   ],
   "source": [
    "data['class_column'].value_counts()"
   ],
   "metadata": {
    "collapsed": false,
    "pycharm": {
     "name": "#%%\n"
    }
   }
  },
  {
   "cell_type": "code",
   "execution_count": 40,
   "outputs": [
    {
     "data": {
      "text/plain": "      Unnamed: 0        open        high         low       close   Adj Close  \\\n1              1   55.550000   56.095000   55.370000   55.700000   55.700000   \n2              2   56.032500   56.437500   55.937500   56.247500   56.247500   \n3              3   56.132500   56.750000   56.042500   56.595000   56.595000   \n4              4   56.550000   58.197500   55.625000   57.812500   57.812500   \n5              5   57.837500   59.525000   56.887500   57.020000   57.020000   \n...          ...         ...         ...         ...         ...         ...   \n4042        4042  121.849998  121.949997  119.794998  119.930000  119.930000   \n4043        4043  119.919998  120.489998  119.470001  120.429298  120.429298   \n4044        4044  120.419998  120.500000  119.794998  119.861000  119.861000   \n4045        4045  119.867500  120.410004  119.550003  120.327003  120.327003   \n4046        4046  120.324997  120.480003  119.739998  120.309998  120.309998   \n\n        volume  close_pct  class_column    volume_adi  ...  momentum_wr  \\\n1            0   0.001799             1 -0.000000e+00  ...   -61.176471   \n2            0   0.009829             1  0.000000e+00  ...   -17.798595   \n3            0   0.006178             1  0.000000e+00  ...   -11.231884   \n4            0   0.021513             0  0.000000e+00  ...   -13.616269   \n5            0  -0.013708             1  0.000000e+00  ...   -60.288809   \n...        ...        ...           ...           ...  ...          ...   \n4042  34515975  -0.016806             1  6.971709e+08  ...   -54.542259   \n4043  18588318   0.004163             1  7.135468e+08  ...   -51.346916   \n4044  11044540  -0.004719             1  7.045703e+08  ...   -54.983837   \n4045  13045822   0.003888             1  7.150979e+08  ...   -52.001570   \n4046  10712122  -0.000141             1  7.208881e+08  ...   -52.110402   \n\n      momentum_ao  momentum_kama  momentum_roc  momentum_ppo  \\\n1        0.000000      55.641486      0.000000      0.000000   \n2        0.000000      55.895109      0.000000      0.000000   \n3        0.000000      56.185689      0.000000      0.000000   \n4        0.000000      56.833695      0.000000      0.000000   \n5        0.137792      56.907320      0.000000      0.000000   \n...           ...            ...           ...           ...   \n4042     1.144553     120.287005     -1.011100      4.174922   \n4043     1.091641     120.288723     -1.064449     14.697685   \n4044     1.043391     120.278308     -1.006774     15.112980   \n4045     0.866795     120.279079     -0.597271     16.801027   \n4046     0.605722     120.279268     -0.717942     15.950082   \n\n      momentum_ppo_signal  momentum_ppo_hist  others_dr  others_dlr  \\\n1                0.000000           0.000000   0.179856    0.179695   \n2                0.000000           0.000000   0.982944    0.978145   \n3                0.000000           0.000000   0.617805    0.615905   \n4                0.000000           0.000000   2.151250    2.128437   \n5                0.000000           0.000000  -1.370811   -1.380293   \n...                   ...                ...        ...         ...   \n4042           -23.072724          27.247646  -1.680603   -1.694886   \n4043           -15.518642          30.216326   0.416325    0.415460   \n4044            -9.392318          24.505297  -0.471894   -0.473011   \n4045            -4.153649          20.954675   0.388787    0.388033   \n4046            -0.132903          16.082984  -0.014133   -0.014134   \n\n       others_cr  \n1       0.179856  \n2       1.164568  \n3       1.789568  \n4       3.979317  \n5       2.553957  \n...          ...  \n4042  115.701439  \n4043  116.599458  \n4044  115.577338  \n4045  116.415474  \n4046  116.384888  \n\n[4046 rows x 92 columns]",
      "text/html": "<div>\n<style scoped>\n    .dataframe tbody tr th:only-of-type {\n        vertical-align: middle;\n    }\n\n    .dataframe tbody tr th {\n        vertical-align: top;\n    }\n\n    .dataframe thead th {\n        text-align: right;\n    }\n</style>\n<table border=\"1\" class=\"dataframe\">\n  <thead>\n    <tr style=\"text-align: right;\">\n      <th></th>\n      <th>Unnamed: 0</th>\n      <th>open</th>\n      <th>high</th>\n      <th>low</th>\n      <th>close</th>\n      <th>Adj Close</th>\n      <th>volume</th>\n      <th>close_pct</th>\n      <th>class_column</th>\n      <th>volume_adi</th>\n      <th>...</th>\n      <th>momentum_wr</th>\n      <th>momentum_ao</th>\n      <th>momentum_kama</th>\n      <th>momentum_roc</th>\n      <th>momentum_ppo</th>\n      <th>momentum_ppo_signal</th>\n      <th>momentum_ppo_hist</th>\n      <th>others_dr</th>\n      <th>others_dlr</th>\n      <th>others_cr</th>\n    </tr>\n  </thead>\n  <tbody>\n    <tr>\n      <th>1</th>\n      <td>1</td>\n      <td>55.550000</td>\n      <td>56.095000</td>\n      <td>55.370000</td>\n      <td>55.700000</td>\n      <td>55.700000</td>\n      <td>0</td>\n      <td>0.001799</td>\n      <td>1</td>\n      <td>-0.000000e+00</td>\n      <td>...</td>\n      <td>-61.176471</td>\n      <td>0.000000</td>\n      <td>55.641486</td>\n      <td>0.000000</td>\n      <td>0.000000</td>\n      <td>0.000000</td>\n      <td>0.000000</td>\n      <td>0.179856</td>\n      <td>0.179695</td>\n      <td>0.179856</td>\n    </tr>\n    <tr>\n      <th>2</th>\n      <td>2</td>\n      <td>56.032500</td>\n      <td>56.437500</td>\n      <td>55.937500</td>\n      <td>56.247500</td>\n      <td>56.247500</td>\n      <td>0</td>\n      <td>0.009829</td>\n      <td>1</td>\n      <td>0.000000e+00</td>\n      <td>...</td>\n      <td>-17.798595</td>\n      <td>0.000000</td>\n      <td>55.895109</td>\n      <td>0.000000</td>\n      <td>0.000000</td>\n      <td>0.000000</td>\n      <td>0.000000</td>\n      <td>0.982944</td>\n      <td>0.978145</td>\n      <td>1.164568</td>\n    </tr>\n    <tr>\n      <th>3</th>\n      <td>3</td>\n      <td>56.132500</td>\n      <td>56.750000</td>\n      <td>56.042500</td>\n      <td>56.595000</td>\n      <td>56.595000</td>\n      <td>0</td>\n      <td>0.006178</td>\n      <td>1</td>\n      <td>0.000000e+00</td>\n      <td>...</td>\n      <td>-11.231884</td>\n      <td>0.000000</td>\n      <td>56.185689</td>\n      <td>0.000000</td>\n      <td>0.000000</td>\n      <td>0.000000</td>\n      <td>0.000000</td>\n      <td>0.617805</td>\n      <td>0.615905</td>\n      <td>1.789568</td>\n    </tr>\n    <tr>\n      <th>4</th>\n      <td>4</td>\n      <td>56.550000</td>\n      <td>58.197500</td>\n      <td>55.625000</td>\n      <td>57.812500</td>\n      <td>57.812500</td>\n      <td>0</td>\n      <td>0.021513</td>\n      <td>0</td>\n      <td>0.000000e+00</td>\n      <td>...</td>\n      <td>-13.616269</td>\n      <td>0.000000</td>\n      <td>56.833695</td>\n      <td>0.000000</td>\n      <td>0.000000</td>\n      <td>0.000000</td>\n      <td>0.000000</td>\n      <td>2.151250</td>\n      <td>2.128437</td>\n      <td>3.979317</td>\n    </tr>\n    <tr>\n      <th>5</th>\n      <td>5</td>\n      <td>57.837500</td>\n      <td>59.525000</td>\n      <td>56.887500</td>\n      <td>57.020000</td>\n      <td>57.020000</td>\n      <td>0</td>\n      <td>-0.013708</td>\n      <td>1</td>\n      <td>0.000000e+00</td>\n      <td>...</td>\n      <td>-60.288809</td>\n      <td>0.137792</td>\n      <td>56.907320</td>\n      <td>0.000000</td>\n      <td>0.000000</td>\n      <td>0.000000</td>\n      <td>0.000000</td>\n      <td>-1.370811</td>\n      <td>-1.380293</td>\n      <td>2.553957</td>\n    </tr>\n    <tr>\n      <th>...</th>\n      <td>...</td>\n      <td>...</td>\n      <td>...</td>\n      <td>...</td>\n      <td>...</td>\n      <td>...</td>\n      <td>...</td>\n      <td>...</td>\n      <td>...</td>\n      <td>...</td>\n      <td>...</td>\n      <td>...</td>\n      <td>...</td>\n      <td>...</td>\n      <td>...</td>\n      <td>...</td>\n      <td>...</td>\n      <td>...</td>\n      <td>...</td>\n      <td>...</td>\n      <td>...</td>\n    </tr>\n    <tr>\n      <th>4042</th>\n      <td>4042</td>\n      <td>121.849998</td>\n      <td>121.949997</td>\n      <td>119.794998</td>\n      <td>119.930000</td>\n      <td>119.930000</td>\n      <td>34515975</td>\n      <td>-0.016806</td>\n      <td>1</td>\n      <td>6.971709e+08</td>\n      <td>...</td>\n      <td>-54.542259</td>\n      <td>1.144553</td>\n      <td>120.287005</td>\n      <td>-1.011100</td>\n      <td>4.174922</td>\n      <td>-23.072724</td>\n      <td>27.247646</td>\n      <td>-1.680603</td>\n      <td>-1.694886</td>\n      <td>115.701439</td>\n    </tr>\n    <tr>\n      <th>4043</th>\n      <td>4043</td>\n      <td>119.919998</td>\n      <td>120.489998</td>\n      <td>119.470001</td>\n      <td>120.429298</td>\n      <td>120.429298</td>\n      <td>18588318</td>\n      <td>0.004163</td>\n      <td>1</td>\n      <td>7.135468e+08</td>\n      <td>...</td>\n      <td>-51.346916</td>\n      <td>1.091641</td>\n      <td>120.288723</td>\n      <td>-1.064449</td>\n      <td>14.697685</td>\n      <td>-15.518642</td>\n      <td>30.216326</td>\n      <td>0.416325</td>\n      <td>0.415460</td>\n      <td>116.599458</td>\n    </tr>\n    <tr>\n      <th>4044</th>\n      <td>4044</td>\n      <td>120.419998</td>\n      <td>120.500000</td>\n      <td>119.794998</td>\n      <td>119.861000</td>\n      <td>119.861000</td>\n      <td>11044540</td>\n      <td>-0.004719</td>\n      <td>1</td>\n      <td>7.045703e+08</td>\n      <td>...</td>\n      <td>-54.983837</td>\n      <td>1.043391</td>\n      <td>120.278308</td>\n      <td>-1.006774</td>\n      <td>15.112980</td>\n      <td>-9.392318</td>\n      <td>24.505297</td>\n      <td>-0.471894</td>\n      <td>-0.473011</td>\n      <td>115.577338</td>\n    </tr>\n    <tr>\n      <th>4045</th>\n      <td>4045</td>\n      <td>119.867500</td>\n      <td>120.410004</td>\n      <td>119.550003</td>\n      <td>120.327003</td>\n      <td>120.327003</td>\n      <td>13045822</td>\n      <td>0.003888</td>\n      <td>1</td>\n      <td>7.150979e+08</td>\n      <td>...</td>\n      <td>-52.001570</td>\n      <td>0.866795</td>\n      <td>120.279079</td>\n      <td>-0.597271</td>\n      <td>16.801027</td>\n      <td>-4.153649</td>\n      <td>20.954675</td>\n      <td>0.388787</td>\n      <td>0.388033</td>\n      <td>116.415474</td>\n    </tr>\n    <tr>\n      <th>4046</th>\n      <td>4046</td>\n      <td>120.324997</td>\n      <td>120.480003</td>\n      <td>119.739998</td>\n      <td>120.309998</td>\n      <td>120.309998</td>\n      <td>10712122</td>\n      <td>-0.000141</td>\n      <td>1</td>\n      <td>7.208881e+08</td>\n      <td>...</td>\n      <td>-52.110402</td>\n      <td>0.605722</td>\n      <td>120.279268</td>\n      <td>-0.717942</td>\n      <td>15.950082</td>\n      <td>-0.132903</td>\n      <td>16.082984</td>\n      <td>-0.014133</td>\n      <td>-0.014134</td>\n      <td>116.384888</td>\n    </tr>\n  </tbody>\n</table>\n<p>4046 rows × 92 columns</p>\n</div>"
     },
     "execution_count": 40,
     "metadata": {},
     "output_type": "execute_result"
    }
   ],
   "source": [
    "train_set"
   ],
   "metadata": {
    "collapsed": false,
    "pycharm": {
     "name": "#%%\n"
    }
   }
  },
  {
   "cell_type": "code",
   "execution_count": 41,
   "outputs": [],
   "source": [
    "y = data['class_column']\n",
    "features = [x for x in data.columns if x not in ['class_column']]\n",
    "x = data[features]\n",
    "scaler = MinMaxScaler()\n",
    "# x = pd.DataFrame(scaler.fit_transform(x.values), columns=x.columns, index=x.index)\n",
    "x_train= x.iloc[:-ROWS_TO_PREDICT]\n",
    "y_train= y.iloc[:-ROWS_TO_PREDICT]\n",
    "x_test =x.iloc[-ROWS_TO_PREDICT:]\n",
    "y_test=y.iloc[-ROWS_TO_PREDICT:]"
   ],
   "metadata": {
    "collapsed": false,
    "pycharm": {
     "name": "#%%\n"
    }
   }
  },
  {
   "cell_type": "code",
   "execution_count": 42,
   "outputs": [],
   "source": [
    "classifiers = dict()\n",
    "\n",
    "classifiers['DecisionTreeClassifier 1'] = DecisionTreeClassifier(max_depth=10, random_state=0,criterion='gini',splitter='best')\n",
    "classifiers['DecisionTreeClassifier 2'] = DecisionTreeClassifier(max_depth=10, random_state=0,criterion='gini',splitter='random')\n",
    "classifiers['DecisionTreeClassifier 3'] = DecisionTreeClassifier(max_depth=10, random_state=0,criterion='entropy',splitter='best')\n",
    "classifiers['RandomForestClassifier 4'] = RandomForestClassifier(n_estimators=1000, max_depth=3, random_state=0,criterion='gini', n_jobs = -1)\n",
    "classifiers['RandomForestClassifier 5'] = RandomForestClassifier(n_estimators=100, max_depth=2, random_state=0,criterion='entropy', n_jobs = -1)\n",
    "classifiers['GradientBoostingClassifier 1'] = GradientBoostingClassifier(n_estimators=100,random_state=0,criterion='friedman_mse',max_depth=3, learning_rate=0.1)\n",
    "classifiers['GradientBoostingClassifier 2'] = GradientBoostingClassifier(n_estimators=1000,random_state=0,criterion='friedman_mse',max_depth=3, learning_rate=0.1)"
   ],
   "metadata": {
    "collapsed": false,
    "pycharm": {
     "name": "#%%\n"
    }
   }
  },
  {
   "cell_type": "code",
   "execution_count": 43,
   "outputs": [],
   "source": [
    "def print_conf_matrix(test_y, predict, name):\n",
    "    matrix = confusion_matrix(test_y, predict,  labels=[-1, 0, 1])\n",
    "    print(matrix)\n",
    "    ax= plt.subplot()\n",
    "    sn.heatmap(matrix, annot=True, ax = ax) #annot=True to annotate cells\n",
    "\n",
    "    # labels, title and ticks\n",
    "    ax.set_xlabel('Predicted labels', color='white')\n",
    "    ax.set_ylabel('True labels', color='white')\n",
    "    ax.set_title(f'Confusion Matrix for {name}' , color='white')\n",
    "    ax.xaxis.set_ticklabels(['-1','0', '1'], color='white')\n",
    "    ax.yaxis.set_ticklabels(['-1','0', '1'], color='white')\n",
    "    plt.show()\n",
    "\n",
    "def train_model(model,train_x, train_y):\n",
    "    model.fit(train_x, train_y)"
   ],
   "metadata": {
    "collapsed": false,
    "pycharm": {
     "name": "#%%\n"
    }
   }
  },
  {
   "cell_type": "code",
   "execution_count": 44,
   "outputs": [
    {
     "name": "stdout",
     "output_type": "stream",
     "text": [
      "Calculate:  DecisionTreeClassifier 1\n",
      "Score train:  0.7318697582634435\n",
      "Score:  0.390625\n",
      "Calculate:  DecisionTreeClassifier 2\n",
      "Score train:  0.7839171188949186\n",
      "Score:  0.4375\n",
      "Calculate:  DecisionTreeClassifier 3\n",
      "Score train:  0.8125308337444499\n",
      "Score:  0.3515625\n",
      "Calculate:  RandomForestClassifier 4\n",
      "Score train:  0.5096201282683769\n",
      "Score:  0.421875\n",
      "Calculate:  RandomForestClassifier 5\n",
      "Score train:  0.4743463246176616\n",
      "Score:  0.421875\n",
      "Calculate:  GradientBoostingClassifier 1\n",
      "Score train:  0.8665515540207203\n",
      "Score:  0.390625\n",
      "Calculate:  GradientBoostingClassifier 2\n",
      "Score train:  1.0\n",
      "Score:  0.4375\n",
      "train\n",
      "+----+------------------------------+------------+\n",
      "|    | Classifier type              |   Accuracy |\n",
      "|----+------------------------------+------------|\n",
      "|  0 | DecisionTreeClassifier 1     |   0.73187  |\n",
      "|  1 | DecisionTreeClassifier 2     |   0.783917 |\n",
      "|  2 | DecisionTreeClassifier 3     |   0.812531 |\n",
      "|  3 | RandomForestClassifier 4     |   0.50962  |\n",
      "|  4 | RandomForestClassifier 5     |   0.474346 |\n",
      "|  5 | GradientBoostingClassifier 1 |   0.866552 |\n",
      "|  6 | GradientBoostingClassifier 2 |   1        |\n",
      "+----+------------------------------+------------+\n",
      "test\n",
      "+----+------------------------------+------------+\n",
      "|    | Classifier type              |   Accuracy |\n",
      "|----+------------------------------+------------|\n",
      "|  0 | DecisionTreeClassifier 1     |   0.390625 |\n",
      "|  1 | DecisionTreeClassifier 2     |   0.4375   |\n",
      "|  2 | DecisionTreeClassifier 3     |   0.351562 |\n",
      "|  3 | RandomForestClassifier 4     |   0.421875 |\n",
      "|  4 | RandomForestClassifier 5     |   0.421875 |\n",
      "|  5 | GradientBoostingClassifier 1 |   0.390625 |\n",
      "|  6 | GradientBoostingClassifier 2 |   0.4375   |\n",
      "+----+------------------------------+------------+\n"
     ]
    }
   ],
   "source": [
    "predictions= dict()\n",
    "predictions_train= dict()\n",
    "score = dict()\n",
    "score_train = dict()\n",
    "for k,v in classifiers.items():\n",
    "    print(\"Calculate: \", k)\n",
    "    train_model(v,x_train,y_train)\n",
    "    predictions[k] = v.predict(x_test)\n",
    "    predictions_train[k] = v.predict(x_train)\n",
    "    score[k] = accuracy_score(y_test.values, predictions[k])\n",
    "    score_train[k] = accuracy_score(y_train.values, predictions_train[k])\n",
    "    print('Score train: ',  score_train[k] )\n",
    "    print('Score: ',  score[k] )\n",
    "    # print_conf_matrix(test_y, predictions[k], k)\n",
    "\n",
    "headers = [\"Classifier type\", \"Accuracy\"]\n",
    "score_df = pd.DataFrame(score_train.items(), columns=headers)\n",
    "print(\"train\")\n",
    "print(tabulate(score_df, headers, tablefmt=\"psql\"))\n",
    "print(\"test\")\n",
    "score_df = pd.DataFrame(score.items(), columns=headers)\n",
    "print(tabulate(score_df, headers, tablefmt=\"psql\"))\n",
    "\n",
    "\n"
   ],
   "metadata": {
    "collapsed": false,
    "pycharm": {
     "name": "#%%\n"
    }
   }
  },
  {
   "cell_type": "code",
   "execution_count": 45,
   "outputs": [],
   "source": [
    "filename_to_export = f'../data/results/{symbol}_1_{WINDOW}_{ROWS_TO_PREDICT}_{ datetime.now().strftime(\"%d_%m_%Y %H_%M_%S\")}.csv'\n",
    "score_df.to_csv(filename_to_export, index=False)"
   ],
   "metadata": {
    "collapsed": false,
    "pycharm": {
     "name": "#%%\n"
    }
   }
  },
  {
   "cell_type": "code",
   "execution_count": 46,
   "outputs": [
    {
     "name": "stderr",
     "output_type": "stream",
     "text": [
      "C:\\Users\\exomat\\anaconda3\\envs\\magisterka_analiza\\lib\\site-packages\\sklearn\\utils\\validation.py:67: FutureWarning: Pass n_features_to_select=10 as keyword args. From version 0.25 passing these as positional arguments will result in an error\n",
      "  warnings.warn(\"Pass {} as keyword args. From version 0.25 \"\n"
     ]
    },
    {
     "data": {
      "text/plain": "RFE(estimator=RandomForestClassifier(criterion='entropy', max_depth=2,\n                                     n_jobs=-1, random_state=0),\n    n_features_to_select=10)"
     },
     "execution_count": 46,
     "metadata": {},
     "output_type": "execute_result"
    }
   ],
   "source": [
    "rfe = RFE(classifiers['RandomForestClassifier 5'],10)\n",
    "fited = rfe.fit(x_train, y_train)\n",
    "rfe"
   ],
   "metadata": {
    "collapsed": false,
    "pycharm": {
     "name": "#%%\n"
    }
   }
  },
  {
   "cell_type": "code",
   "execution_count": 47,
   "outputs": [
    {
     "name": "stdout",
     "output_type": "stream",
     "text": [
      "Columns with predictive power: ['Unnamed: 0', 'high', 'volatility_bbh', 'volatility_kch', 'volatility_dch', 'trend_macd', 'trend_visual_ichimoku_a', 'trend_psar_down', 'momentum_ao', 'momentum_kama']\n"
     ]
    }
   ],
   "source": [
    "names = x.columns\n",
    "columns=[]\n",
    "for i in range(len(fited.support_)):\n",
    "    if fited.support_[i]:\n",
    "        columns.append(names[i])\n",
    "\n",
    "print(\"Columns with predictive power:\", columns )"
   ],
   "metadata": {
    "collapsed": false,
    "pycharm": {
     "name": "#%%\n"
    }
   }
  },
  {
   "cell_type": "code",
   "execution_count": 48,
   "outputs": [
    {
     "data": {
      "text/plain": "      Unnamed: 0      high  volatility_bbh  volatility_kch  volatility_dch  \\\n1              1   56.0950       55.750000       56.470000        56.22000   \n2              2   56.4375       56.418382       56.549167        56.43750   \n3              3   56.7500       56.848155       56.704375        56.75000   \n4              4   58.1975       57.987504       57.320333        58.19750   \n5              5   59.5250       58.026788       57.841667        59.52500   \n...          ...       ...             ...             ...             ...   \n4050        4050  121.9103      123.191105      122.195959       128.45267   \n4051        4051  120.2000      123.035114      121.869292       128.45267   \n4052        4052  122.5900      123.241762      121.930626       128.45267   \n4053        4053  122.6000      123.441085      122.093983       124.92175   \n4054        4054  122.9000      123.625886      122.330283       122.90000   \n\n      trend_macd  trend_visual_ichimoku_a  trend_psar_down  momentum_ao  \\\n1       0.007977               106.371461        -1.000000     0.000000   \n2       0.057811               106.371461        -1.000000     0.000000   \n3       0.123917               106.371461        -1.000000     0.000000   \n4       0.271420               106.371461        -1.000000     0.000000   \n5       0.320672               106.371461        -1.000000     0.137792   \n...          ...                      ...              ...          ...   \n4050   -0.296163               115.798393       124.696701    -0.717044   \n4051   -0.228849               115.798393       124.231534    -0.750632   \n4052    0.009973               115.798393       123.784973    -0.646386   \n4053    0.197769               117.379171       123.356275    -0.369091   \n4054    0.346637               117.379171       122.944725     0.646012   \n\n      momentum_kama  \n1         55.641486  \n2         55.895109  \n3         56.185689  \n4         56.833695  \n5         56.907320  \n...             ...  \n4050     119.511745  \n4051     119.523453  \n4052     119.599707  \n4053     119.659735  \n4054     119.745654  \n\n[4054 rows x 10 columns]",
      "text/html": "<div>\n<style scoped>\n    .dataframe tbody tr th:only-of-type {\n        vertical-align: middle;\n    }\n\n    .dataframe tbody tr th {\n        vertical-align: top;\n    }\n\n    .dataframe thead th {\n        text-align: right;\n    }\n</style>\n<table border=\"1\" class=\"dataframe\">\n  <thead>\n    <tr style=\"text-align: right;\">\n      <th></th>\n      <th>Unnamed: 0</th>\n      <th>high</th>\n      <th>volatility_bbh</th>\n      <th>volatility_kch</th>\n      <th>volatility_dch</th>\n      <th>trend_macd</th>\n      <th>trend_visual_ichimoku_a</th>\n      <th>trend_psar_down</th>\n      <th>momentum_ao</th>\n      <th>momentum_kama</th>\n    </tr>\n  </thead>\n  <tbody>\n    <tr>\n      <th>1</th>\n      <td>1</td>\n      <td>56.0950</td>\n      <td>55.750000</td>\n      <td>56.470000</td>\n      <td>56.22000</td>\n      <td>0.007977</td>\n      <td>106.371461</td>\n      <td>-1.000000</td>\n      <td>0.000000</td>\n      <td>55.641486</td>\n    </tr>\n    <tr>\n      <th>2</th>\n      <td>2</td>\n      <td>56.4375</td>\n      <td>56.418382</td>\n      <td>56.549167</td>\n      <td>56.43750</td>\n      <td>0.057811</td>\n      <td>106.371461</td>\n      <td>-1.000000</td>\n      <td>0.000000</td>\n      <td>55.895109</td>\n    </tr>\n    <tr>\n      <th>3</th>\n      <td>3</td>\n      <td>56.7500</td>\n      <td>56.848155</td>\n      <td>56.704375</td>\n      <td>56.75000</td>\n      <td>0.123917</td>\n      <td>106.371461</td>\n      <td>-1.000000</td>\n      <td>0.000000</td>\n      <td>56.185689</td>\n    </tr>\n    <tr>\n      <th>4</th>\n      <td>4</td>\n      <td>58.1975</td>\n      <td>57.987504</td>\n      <td>57.320333</td>\n      <td>58.19750</td>\n      <td>0.271420</td>\n      <td>106.371461</td>\n      <td>-1.000000</td>\n      <td>0.000000</td>\n      <td>56.833695</td>\n    </tr>\n    <tr>\n      <th>5</th>\n      <td>5</td>\n      <td>59.5250</td>\n      <td>58.026788</td>\n      <td>57.841667</td>\n      <td>59.52500</td>\n      <td>0.320672</td>\n      <td>106.371461</td>\n      <td>-1.000000</td>\n      <td>0.137792</td>\n      <td>56.907320</td>\n    </tr>\n    <tr>\n      <th>...</th>\n      <td>...</td>\n      <td>...</td>\n      <td>...</td>\n      <td>...</td>\n      <td>...</td>\n      <td>...</td>\n      <td>...</td>\n      <td>...</td>\n      <td>...</td>\n      <td>...</td>\n    </tr>\n    <tr>\n      <th>4050</th>\n      <td>4050</td>\n      <td>121.9103</td>\n      <td>123.191105</td>\n      <td>122.195959</td>\n      <td>128.45267</td>\n      <td>-0.296163</td>\n      <td>115.798393</td>\n      <td>124.696701</td>\n      <td>-0.717044</td>\n      <td>119.511745</td>\n    </tr>\n    <tr>\n      <th>4051</th>\n      <td>4051</td>\n      <td>120.2000</td>\n      <td>123.035114</td>\n      <td>121.869292</td>\n      <td>128.45267</td>\n      <td>-0.228849</td>\n      <td>115.798393</td>\n      <td>124.231534</td>\n      <td>-0.750632</td>\n      <td>119.523453</td>\n    </tr>\n    <tr>\n      <th>4052</th>\n      <td>4052</td>\n      <td>122.5900</td>\n      <td>123.241762</td>\n      <td>121.930626</td>\n      <td>128.45267</td>\n      <td>0.009973</td>\n      <td>115.798393</td>\n      <td>123.784973</td>\n      <td>-0.646386</td>\n      <td>119.599707</td>\n    </tr>\n    <tr>\n      <th>4053</th>\n      <td>4053</td>\n      <td>122.6000</td>\n      <td>123.441085</td>\n      <td>122.093983</td>\n      <td>124.92175</td>\n      <td>0.197769</td>\n      <td>117.379171</td>\n      <td>123.356275</td>\n      <td>-0.369091</td>\n      <td>119.659735</td>\n    </tr>\n    <tr>\n      <th>4054</th>\n      <td>4054</td>\n      <td>122.9000</td>\n      <td>123.625886</td>\n      <td>122.330283</td>\n      <td>122.90000</td>\n      <td>0.346637</td>\n      <td>117.379171</td>\n      <td>122.944725</td>\n      <td>0.646012</td>\n      <td>119.745654</td>\n    </tr>\n  </tbody>\n</table>\n<p>4054 rows × 10 columns</p>\n</div>"
     },
     "execution_count": 48,
     "metadata": {},
     "output_type": "execute_result"
    }
   ],
   "source": [
    "x_test_cropped = x_test[columns]\n",
    "x_train_cropped = x_train[columns]\n",
    "x_train_cropped"
   ],
   "metadata": {
    "collapsed": false,
    "pycharm": {
     "name": "#%%\n"
    }
   }
  },
  {
   "cell_type": "code",
   "execution_count": 49,
   "outputs": [],
   "source": [
    "classifiers_boosted = dict()\n",
    "classifiers_boosted['GradientBoostingClassifier 1'] = GradientBoostingClassifier(n_estimators=100,random_state=0,criterion='friedman_mse',max_depth=3, learning_rate=0.1)\n",
    "classifiers_boosted['GradientBoostingClassifier 2'] = GradientBoostingClassifier(n_estimators=1000,random_state=0,criterion='friedman_mse',max_depth=3, learning_rate=0.3)\n",
    "classifiers_boosted['GradientBoostingClassifier 3'] = GradientBoostingClassifier(n_estimators=1000,random_state=0,criterion='friedman_mse',max_depth=2, learning_rate=0.5)\n",
    "classifiers_boosted['GradientBoostingClassifier 4'] = GradientBoostingClassifier(n_estimators=1000,random_state=0,criterion='friedman_mse',max_depth=2, learning_rate=0.8)"
   ],
   "metadata": {
    "collapsed": false,
    "pycharm": {
     "name": "#%%\n"
    }
   }
  },
  {
   "cell_type": "code",
   "execution_count": 50,
   "outputs": [
    {
     "name": "stdout",
     "output_type": "stream",
     "text": [
      "Calculate:  GradientBoostingClassifier 1\n",
      "Score train:  0.8665515540207203\n",
      "Score:  0.390625\n",
      "Calculate:  GradientBoostingClassifier 2\n",
      "Score train:  1.0\n",
      "Score:  0.453125\n",
      "Calculate:  GradientBoostingClassifier 3\n",
      "Score train:  1.0\n",
      "Score:  0.4453125\n",
      "Calculate:  GradientBoostingClassifier 4\n",
      "Score train:  1.0\n",
      "Score:  0.3515625\n",
      "train\n",
      "+----+------------------------------+------------+\n",
      "|    | Classifier type              |   Accuracy |\n",
      "|----+------------------------------+------------|\n",
      "|  0 | GradientBoostingClassifier 1 |   0.866552 |\n",
      "|  1 | GradientBoostingClassifier 2 |   1        |\n",
      "|  2 | GradientBoostingClassifier 3 |   1        |\n",
      "|  3 | GradientBoostingClassifier 4 |   1        |\n",
      "+----+------------------------------+------------+\n",
      "test\n",
      "+----+------------------------------+------------+\n",
      "|    | Classifier type              |   Accuracy |\n",
      "|----+------------------------------+------------|\n",
      "|  0 | GradientBoostingClassifier 1 |   0.390625 |\n",
      "|  1 | GradientBoostingClassifier 2 |   0.453125 |\n",
      "|  2 | GradientBoostingClassifier 3 |   0.445312 |\n",
      "|  3 | GradientBoostingClassifier 4 |   0.351562 |\n",
      "+----+------------------------------+------------+\n"
     ]
    }
   ],
   "source": [
    "predictions= dict()\n",
    "predictions_train= dict()\n",
    "score = dict()\n",
    "score_train = dict()\n",
    "for k,v in classifiers_boosted.items():\n",
    "    print(\"Calculate: \", k)\n",
    "    train_model(v,x_train,y_train)\n",
    "    predictions[k] = v.predict(x_test)\n",
    "    predictions_train[k] = v.predict(x_train)\n",
    "    score[k] = accuracy_score(y_test.values, predictions[k])\n",
    "    score_train[k] = accuracy_score(y_train.values, predictions_train[k])\n",
    "    print('Score train: ',  score_train[k] )\n",
    "    print('Score: ',  score[k] )\n",
    "    # print_conf_matrix(test_y, predictions[k], k)\n",
    "\n",
    "headers = [\"Classifier type\", \"Accuracy\"]\n",
    "score_df = pd.DataFrame(score_train.items(), columns=headers)\n",
    "print(\"train\")\n",
    "print(tabulate(score_df, headers, tablefmt=\"psql\"))\n",
    "print(\"test\")\n",
    "score_df = pd.DataFrame(score.items(), columns=headers)\n",
    "print(tabulate(score_df, headers, tablefmt=\"psql\"))"
   ],
   "metadata": {
    "collapsed": false,
    "pycharm": {
     "name": "#%%\n"
    }
   }
  },
  {
   "cell_type": "code",
   "execution_count": 51,
   "outputs": [],
   "source": [
    "# score_df.to_csv(filename_to_export,mode='a', index=False)"
   ],
   "metadata": {
    "collapsed": false,
    "pycharm": {
     "name": "#%%\n"
    }
   }
  },
  {
   "cell_type": "code",
   "execution_count": 51,
   "outputs": [],
   "source": [],
   "metadata": {
    "collapsed": false,
    "pycharm": {
     "name": "#%%\n"
    }
   }
  }
 ],
 "metadata": {
  "kernelspec": {
   "display_name": "Python 3",
   "language": "python",
   "name": "python3"
  },
  "language_info": {
   "codemirror_mode": {
    "name": "ipython",
    "version": 2
   },
   "file_extension": ".py",
   "mimetype": "text/x-python",
   "name": "python",
   "nbconvert_exporter": "python",
   "pygments_lexer": "ipython2",
   "version": "2.7.6"
  }
 },
 "nbformat": 4,
 "nbformat_minor": 0
}