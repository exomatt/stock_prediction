{
 "cells": [
  {
   "cell_type": "code",
   "execution_count": 1,
   "metadata": {
    "collapsed": true
   },
   "outputs": [],
   "source": [
    "import yfinance as yf\n",
    "from datetime import datetime\n",
    "import pandas as pd\n",
    "import numpy as np\n",
    "import matplotlib.pyplot as plt\n",
    "from finta import TA\n",
    "import numpy as np\n",
    "from sklearn.ensemble import RandomForestClassifier, VotingClassifier\n",
    "from sklearn.model_selection import GridSearchCV, train_test_split\n",
    "from sklearn.tree import DecisionTreeClassifier\n",
    "from sklearn.ensemble import GradientBoostingClassifier\n",
    "from sklearn.metrics import confusion_matrix, classification_report, accuracy_score\n",
    "from sklearn.metrics import jaccard_score\n",
    "import seaborn as sn\n",
    "from tabulate import tabulate\n",
    "import tensorflow as tf"
   ]
  },
  {
   "cell_type": "code",
   "execution_count": 2,
   "outputs": [],
   "source": [
    "WINDOW = 1 # number of rows to look ahead to see what the price did\n",
    "FETCH_INTERVAL = \"60m\"  # fetch data by interval (including intraday if period < 60 days)\n",
    "        # valid intervals: 1m,2m,5m,15m,30m,60m,90m,1h,1d,5d,1wk,1mo,3mo\n",
    "        # (optional, default is '1d')\n",
    "INTERVAL = '2y'     # use \"period\" instead of start/end\n",
    "        # valid periods: 1d,5d,1mo,3mo,6mo,1y,2y,5y,10y,ytd,max\n",
    "        # (optional, default is '1mo')\n",
    "symbol = 'FB'      # Symbol of the desired stock\n",
    "INDICATORS = ['RSI', 'MACD', 'STOCH','ADL', 'ATR', 'MOM', 'MFI', 'ROC', 'CCI', 'VORTEX']\n",
    "ROWS_TO_PREDICT = 16"
   ],
   "metadata": {
    "collapsed": false,
    "pycharm": {
     "name": "#%%\n"
    }
   }
  },
  {
   "cell_type": "code",
   "execution_count": 3,
   "outputs": [
    {
     "name": "stdout",
     "output_type": "stream",
     "text": [
      "[*********************100%***********************]  1 of 1 completed\n"
     ]
    },
    {
     "data": {
      "text/plain": "                                 Open        High         Low       Close  \\\nDatetime                                                                    \n2019-02-05 04:00:00-05:00  168.970000  168.970000  168.510000  168.510000   \n2019-02-05 05:00:00-05:00  168.500000  168.950000  168.500000  168.950000   \n2019-02-05 06:00:00-05:00  168.950000  168.950000  168.620000  168.950000   \n2019-02-05 07:00:00-05:00  168.980000  169.400000  168.980000  169.400000   \n2019-02-05 08:00:00-05:00  169.390000  169.700000  168.979900  169.150000   \n...                               ...         ...         ...         ...   \n2021-02-04 15:30:00-05:00  265.684296  266.649994  265.387299  266.619995   \n2021-02-04 16:00:00-05:00  266.630000  275.745000  265.620000  266.300000   \n2021-02-04 17:00:00-05:00  266.330000  266.490000  252.051000  266.100000   \n2021-02-04 18:00:00-05:00  266.090000  266.290000  265.550000  265.930000   \n2021-02-04 19:00:00-05:00  265.890000  266.250000  265.700000  265.990000   \n\n                            Adj Close   Volume  \nDatetime                                        \n2019-02-05 04:00:00-05:00  168.510000        0  \n2019-02-05 05:00:00-05:00  168.950000        0  \n2019-02-05 06:00:00-05:00  168.950000        0  \n2019-02-05 07:00:00-05:00  169.400000        0  \n2019-02-05 08:00:00-05:00  169.150000        0  \n...                               ...      ...  \n2021-02-04 15:30:00-05:00  266.619995  1684009  \n2021-02-04 16:00:00-05:00  266.300000        0  \n2021-02-04 17:00:00-05:00  266.100000        0  \n2021-02-04 18:00:00-05:00  265.930000        0  \n2021-02-04 19:00:00-05:00  265.990000        0  \n\n[8027 rows x 6 columns]",
      "text/html": "<div>\n<style scoped>\n    .dataframe tbody tr th:only-of-type {\n        vertical-align: middle;\n    }\n\n    .dataframe tbody tr th {\n        vertical-align: top;\n    }\n\n    .dataframe thead th {\n        text-align: right;\n    }\n</style>\n<table border=\"1\" class=\"dataframe\">\n  <thead>\n    <tr style=\"text-align: right;\">\n      <th></th>\n      <th>Open</th>\n      <th>High</th>\n      <th>Low</th>\n      <th>Close</th>\n      <th>Adj Close</th>\n      <th>Volume</th>\n    </tr>\n    <tr>\n      <th>Datetime</th>\n      <th></th>\n      <th></th>\n      <th></th>\n      <th></th>\n      <th></th>\n      <th></th>\n    </tr>\n  </thead>\n  <tbody>\n    <tr>\n      <th>2019-02-05 04:00:00-05:00</th>\n      <td>168.970000</td>\n      <td>168.970000</td>\n      <td>168.510000</td>\n      <td>168.510000</td>\n      <td>168.510000</td>\n      <td>0</td>\n    </tr>\n    <tr>\n      <th>2019-02-05 05:00:00-05:00</th>\n      <td>168.500000</td>\n      <td>168.950000</td>\n      <td>168.500000</td>\n      <td>168.950000</td>\n      <td>168.950000</td>\n      <td>0</td>\n    </tr>\n    <tr>\n      <th>2019-02-05 06:00:00-05:00</th>\n      <td>168.950000</td>\n      <td>168.950000</td>\n      <td>168.620000</td>\n      <td>168.950000</td>\n      <td>168.950000</td>\n      <td>0</td>\n    </tr>\n    <tr>\n      <th>2019-02-05 07:00:00-05:00</th>\n      <td>168.980000</td>\n      <td>169.400000</td>\n      <td>168.980000</td>\n      <td>169.400000</td>\n      <td>169.400000</td>\n      <td>0</td>\n    </tr>\n    <tr>\n      <th>2019-02-05 08:00:00-05:00</th>\n      <td>169.390000</td>\n      <td>169.700000</td>\n      <td>168.979900</td>\n      <td>169.150000</td>\n      <td>169.150000</td>\n      <td>0</td>\n    </tr>\n    <tr>\n      <th>...</th>\n      <td>...</td>\n      <td>...</td>\n      <td>...</td>\n      <td>...</td>\n      <td>...</td>\n      <td>...</td>\n    </tr>\n    <tr>\n      <th>2021-02-04 15:30:00-05:00</th>\n      <td>265.684296</td>\n      <td>266.649994</td>\n      <td>265.387299</td>\n      <td>266.619995</td>\n      <td>266.619995</td>\n      <td>1684009</td>\n    </tr>\n    <tr>\n      <th>2021-02-04 16:00:00-05:00</th>\n      <td>266.630000</td>\n      <td>275.745000</td>\n      <td>265.620000</td>\n      <td>266.300000</td>\n      <td>266.300000</td>\n      <td>0</td>\n    </tr>\n    <tr>\n      <th>2021-02-04 17:00:00-05:00</th>\n      <td>266.330000</td>\n      <td>266.490000</td>\n      <td>252.051000</td>\n      <td>266.100000</td>\n      <td>266.100000</td>\n      <td>0</td>\n    </tr>\n    <tr>\n      <th>2021-02-04 18:00:00-05:00</th>\n      <td>266.090000</td>\n      <td>266.290000</td>\n      <td>265.550000</td>\n      <td>265.930000</td>\n      <td>265.930000</td>\n      <td>0</td>\n    </tr>\n    <tr>\n      <th>2021-02-04 19:00:00-05:00</th>\n      <td>265.890000</td>\n      <td>266.250000</td>\n      <td>265.700000</td>\n      <td>265.990000</td>\n      <td>265.990000</td>\n      <td>0</td>\n    </tr>\n  </tbody>\n</table>\n<p>8027 rows × 6 columns</p>\n</div>"
     },
     "execution_count": 3,
     "metadata": {},
     "output_type": "execute_result"
    }
   ],
   "source": [
    "data = yf.download(  # or pdr.get_data_yahoo(...\n",
    "        tickers = symbol,\n",
    "\n",
    "\n",
    "        period = INTERVAL,\n",
    "\n",
    "        interval = FETCH_INTERVAL,\n",
    "\n",
    "        # group by ticker (to access via data['SPY'])\n",
    "        # (optional, default is 'column')\n",
    "        group_by = 'ticker',\n",
    "\n",
    "        # adjust all OHLC automatically\n",
    "        # (optional, default is False)\n",
    "        # auto_adjust = True,\n",
    "\n",
    "        # download pre/post regular market hours data\n",
    "        # (optional, default is False)\n",
    "        prepost = True,\n",
    "\n",
    "        # use threads for mass downloading? (True/False/Integer)\n",
    "        # (optional, default is True)\n",
    "        threads = True,\n",
    "\n",
    "        # proxy URL scheme use use when downloading?\n",
    "        # (optional, default is None)\n",
    "        proxy = None\n",
    "    )\n",
    "data"
   ],
   "metadata": {
    "collapsed": false,
    "pycharm": {
     "name": "#%%\n"
    }
   }
  },
  {
   "cell_type": "code",
   "execution_count": 4,
   "outputs": [
    {
     "data": {
      "text/plain": "                                 open        high         low       close  \\\nDatetime                                                                    \n2019-02-05 04:00:00-05:00  168.970000  168.970000  168.510000  168.510000   \n2019-02-05 05:00:00-05:00  168.500000  168.950000  168.500000  168.950000   \n2019-02-05 06:00:00-05:00  168.950000  168.950000  168.620000  168.950000   \n2019-02-05 07:00:00-05:00  168.980000  169.400000  168.980000  169.400000   \n2019-02-05 08:00:00-05:00  169.390000  169.700000  168.979900  169.150000   \n2019-02-05 09:00:00-05:00  169.150000  169.650000  169.120000  169.200000   \n2019-02-05 09:30:00-05:00  169.029999  171.500000  168.690002  171.250000   \n2019-02-05 10:30:00-05:00  171.300003  171.970001  170.649994  171.279999   \n2019-02-05 11:30:00-05:00  171.262497  171.350006  169.869995  170.250000   \n2019-02-05 12:30:00-05:00  170.218903  170.419998  169.649994  170.259995   \n\n                            Adj Close   volume  \nDatetime                                        \n2019-02-05 04:00:00-05:00  168.510000        0  \n2019-02-05 05:00:00-05:00  168.950000        0  \n2019-02-05 06:00:00-05:00  168.950000        0  \n2019-02-05 07:00:00-05:00  169.400000        0  \n2019-02-05 08:00:00-05:00  169.150000        0  \n2019-02-05 09:00:00-05:00  169.200000        0  \n2019-02-05 09:30:00-05:00  171.250000  6369437  \n2019-02-05 10:30:00-05:00  171.279999  3312872  \n2019-02-05 11:30:00-05:00  170.250000  2152564  \n2019-02-05 12:30:00-05:00  170.259995  1632824  ",
      "text/html": "<div>\n<style scoped>\n    .dataframe tbody tr th:only-of-type {\n        vertical-align: middle;\n    }\n\n    .dataframe tbody tr th {\n        vertical-align: top;\n    }\n\n    .dataframe thead th {\n        text-align: right;\n    }\n</style>\n<table border=\"1\" class=\"dataframe\">\n  <thead>\n    <tr style=\"text-align: right;\">\n      <th></th>\n      <th>open</th>\n      <th>high</th>\n      <th>low</th>\n      <th>close</th>\n      <th>Adj Close</th>\n      <th>volume</th>\n    </tr>\n    <tr>\n      <th>Datetime</th>\n      <th></th>\n      <th></th>\n      <th></th>\n      <th></th>\n      <th></th>\n      <th></th>\n    </tr>\n  </thead>\n  <tbody>\n    <tr>\n      <th>2019-02-05 04:00:00-05:00</th>\n      <td>168.970000</td>\n      <td>168.970000</td>\n      <td>168.510000</td>\n      <td>168.510000</td>\n      <td>168.510000</td>\n      <td>0</td>\n    </tr>\n    <tr>\n      <th>2019-02-05 05:00:00-05:00</th>\n      <td>168.500000</td>\n      <td>168.950000</td>\n      <td>168.500000</td>\n      <td>168.950000</td>\n      <td>168.950000</td>\n      <td>0</td>\n    </tr>\n    <tr>\n      <th>2019-02-05 06:00:00-05:00</th>\n      <td>168.950000</td>\n      <td>168.950000</td>\n      <td>168.620000</td>\n      <td>168.950000</td>\n      <td>168.950000</td>\n      <td>0</td>\n    </tr>\n    <tr>\n      <th>2019-02-05 07:00:00-05:00</th>\n      <td>168.980000</td>\n      <td>169.400000</td>\n      <td>168.980000</td>\n      <td>169.400000</td>\n      <td>169.400000</td>\n      <td>0</td>\n    </tr>\n    <tr>\n      <th>2019-02-05 08:00:00-05:00</th>\n      <td>169.390000</td>\n      <td>169.700000</td>\n      <td>168.979900</td>\n      <td>169.150000</td>\n      <td>169.150000</td>\n      <td>0</td>\n    </tr>\n    <tr>\n      <th>2019-02-05 09:00:00-05:00</th>\n      <td>169.150000</td>\n      <td>169.650000</td>\n      <td>169.120000</td>\n      <td>169.200000</td>\n      <td>169.200000</td>\n      <td>0</td>\n    </tr>\n    <tr>\n      <th>2019-02-05 09:30:00-05:00</th>\n      <td>169.029999</td>\n      <td>171.500000</td>\n      <td>168.690002</td>\n      <td>171.250000</td>\n      <td>171.250000</td>\n      <td>6369437</td>\n    </tr>\n    <tr>\n      <th>2019-02-05 10:30:00-05:00</th>\n      <td>171.300003</td>\n      <td>171.970001</td>\n      <td>170.649994</td>\n      <td>171.279999</td>\n      <td>171.279999</td>\n      <td>3312872</td>\n    </tr>\n    <tr>\n      <th>2019-02-05 11:30:00-05:00</th>\n      <td>171.262497</td>\n      <td>171.350006</td>\n      <td>169.869995</td>\n      <td>170.250000</td>\n      <td>170.250000</td>\n      <td>2152564</td>\n    </tr>\n    <tr>\n      <th>2019-02-05 12:30:00-05:00</th>\n      <td>170.218903</td>\n      <td>170.419998</td>\n      <td>169.649994</td>\n      <td>170.259995</td>\n      <td>170.259995</td>\n      <td>1632824</td>\n    </tr>\n  </tbody>\n</table>\n</div>"
     },
     "execution_count": 4,
     "metadata": {},
     "output_type": "execute_result"
    }
   ],
   "source": [
    "data.rename(columns={\"Close\": 'close', \"High\": 'high', \"Low\": 'low', 'Volume': 'volume', 'Open': 'open'}, inplace=True)\n",
    "data.head(10)"
   ],
   "metadata": {
    "collapsed": false,
    "pycharm": {
     "name": "#%%\n"
    }
   }
  },
  {
   "cell_type": "code",
   "execution_count": 5,
   "outputs": [
    {
     "data": {
      "text/plain": "<AxesSubplot:xlabel='Datetime'>"
     },
     "execution_count": 5,
     "metadata": {},
     "output_type": "execute_result"
    },
    {
     "data": {
      "text/plain": "<Figure size 432x288 with 1 Axes>",
      "image/png": "[encoded data removed]"
     },
     "metadata": {
      "needs_background": "light"
     },
     "output_type": "display_data"
    }
   ],
   "source": [
    "data['close'].plot()"
   ],
   "metadata": {
    "collapsed": false,
    "pycharm": {
     "name": "#%%\n"
    }
   }
  },
  {
   "cell_type": "code",
   "execution_count": 6,
   "outputs": [],
   "source": [
    "def _get_indicator_data(data):\n",
    "    \"\"\"\n",
    "    Function that uses the finta API to calculate technical indicators used as the features\n",
    "    :return:\n",
    "    \"\"\"\n",
    "    for indicator in INDICATORS:\n",
    "        ind_data = eval('TA.' + indicator + '(data)')\n",
    "        if not isinstance(ind_data, pd.DataFrame):\n",
    "            ind_data = ind_data.to_frame()\n",
    "        data = pd.concat([data, ind_data], axis=1)\n",
    "    data.rename(columns={\"14 period EMV.\": '14 period EMV'}, inplace=True)\n",
    "\n",
    "    # Also calculate moving averages for features\n",
    "    data['ema50'] = data['close'] / data['close'].ewm(50).mean()\n",
    "    data['ema21'] = data['close'] / data['close'].ewm(21).mean()\n",
    "    data['ema15'] = data['close'] / data['close'].ewm(ROWS_TO_PREDICT).mean()\n",
    "    data['ema5'] = data['close'] / data['close'].ewm(5).mean()\n",
    "\n",
    "    # Instead of using the actual volume value (which changes over time), we normalize it with a moving volume average\n",
    "    data['normVol'] = data['volume'] / data['volume'].ewm(5).mean()\n",
    "\n",
    "    # Remove columns that won't be used as features\n",
    "    del (data['open'])\n",
    "    del (data['high'])\n",
    "    del (data['low'])\n",
    "    del (data['volume'])\n",
    "    del (data['Adj Close'])\n",
    "\n",
    "    return data\n",
    "\n",
    "data = _get_indicator_data(data)"
   ],
   "metadata": {
    "collapsed": false,
    "pycharm": {
     "name": "#%%\n"
    }
   }
  },
  {
   "cell_type": "code",
   "execution_count": 7,
   "outputs": [
    {
     "data": {
      "text/plain": "                                close  14 period RSI      MACD    SIGNAL  \\\nDatetime                                                                   \n2019-02-05 04:00:00-05:00  168.510000            NaN  0.000000  0.000000   \n2019-02-05 05:00:00-05:00  168.950000     100.000000  0.009872  0.005484   \n2019-02-05 06:00:00-05:00  168.950000     100.000000  0.012579  0.008392   \n2019-02-05 07:00:00-05:00  169.400000     100.000000  0.029749  0.015626   \n2019-02-05 08:00:00-05:00  169.150000      75.493698  0.028504  0.019457   \n...                               ...            ...       ...       ...   \n2021-02-04 15:30:00-05:00  266.619995      51.664033 -0.122250  0.027952   \n2021-02-04 16:00:00-05:00  266.300000      49.971431 -0.104504  0.001461   \n2021-02-04 17:00:00-05:00  266.100000      48.893262 -0.105364 -0.019904   \n2021-02-04 18:00:00-05:00  265.930000      47.946318 -0.118398 -0.039603   \n2021-02-04 19:00:00-05:00  265.990000      48.326707 -0.122475 -0.056177   \n\n                           14 period STOCH %K           MFV  14 period ATR  \\\nDatetime                                                                     \n2019-02-05 04:00:00-05:00                 NaN -0.000000e+00            NaN   \n2019-02-05 05:00:00-05:00                 NaN  0.000000e+00            NaN   \n2019-02-05 06:00:00-05:00                 NaN  0.000000e+00            NaN   \n2019-02-05 07:00:00-05:00                 NaN  0.000000e+00            NaN   \n2019-02-05 08:00:00-05:00                 NaN  0.000000e+00            NaN   \n...                                       ...           ...            ...   \n2021-02-04 15:30:00-05:00           58.351784  8.538465e+09       1.342686   \n2021-02-04 16:00:00-05:00           19.582801  8.538465e+09       2.030186   \n2021-02-04 17:00:00-05:00           59.293492  8.538465e+09       3.014400   \n2021-02-04 18:00:00-05:00           58.576011  8.538465e+09       3.023686   \n2021-02-04 19:00:00-05:00           58.829239  8.538465e+09       3.011543   \n\n                                MOM  14 period MFI       ROC  20 period CCI  \\\nDatetime                                                                      \n2019-02-05 04:00:00-05:00       NaN            NaN       NaN            NaN   \n2019-02-05 05:00:00-05:00       NaN            NaN       NaN      66.666667   \n2019-02-05 06:00:00-05:00       NaN            NaN       NaN      69.148936   \n2019-02-05 07:00:00-05:00       NaN            NaN       NaN     133.333333   \n2019-02-05 08:00:00-05:00       NaN            NaN       NaN      85.641031   \n...                             ...            ...       ...            ...   \n2021-02-04 15:30:00-05:00 -0.230005      20.495267 -0.026250     -42.789801   \n2021-02-04 16:00:00-05:00 -0.900000      20.495267 -0.090043     230.294679   \n2021-02-04 17:00:00-05:00 -2.000000      20.495267 -0.281057    -326.957706   \n2021-02-04 18:00:00-05:00 -1.200000      20.495267 -0.475299     -27.603992   \n2021-02-04 19:00:00-05:00  0.889994      20.495267 -0.787020     -20.433636   \n\n                                VIm       VIp     ema50     ema21     ema15  \\\nDatetime                                                                      \n2019-02-05 04:00:00-05:00       NaN       NaN  1.000000  1.000000  1.000000   \n2019-02-05 05:00:00-05:00       NaN       NaN  1.001291  1.001273  1.001264   \n2019-02-05 06:00:00-05:00       NaN       NaN  1.000852  1.000829  1.000817   \n2019-02-05 07:00:00-05:00       NaN       NaN  1.002609  1.002557  1.002529   \n2019-02-05 08:00:00-05:00       NaN       NaN  1.000895  1.000841  1.000813   \n...                             ...       ...       ...       ...       ...   \n2021-02-04 15:30:00-05:00  1.026599  0.930167  0.999563  1.001644  1.001395   \n2021-02-04 16:00:00-05:00  0.697600  0.963761  0.998396  1.000422  1.000182   \n2021-02-04 17:00:00-05:00  1.019667  0.653828  0.997692  0.999685  0.999464   \n2021-02-04 18:00:00-05:00  1.016772  0.980157  0.997112  0.999090  0.998895   \n2021-02-04 19:00:00-05:00  1.018263  0.985769  0.997389  0.999346  0.999172   \n\n                               ema5   normVol  \nDatetime                                       \n2019-02-05 04:00:00-05:00  1.000000       NaN  \n2019-02-05 05:00:00-05:00  1.001185       NaN  \n2019-02-05 06:00:00-05:00  1.000716       NaN  \n2019-02-05 07:00:00-05:00  1.002290       NaN  \n2019-02-05 08:00:00-05:00  1.000585       NaN  \n...                             ...       ...  \n2021-02-04 15:30:00-05:00  1.001725  1.204844  \n2021-02-04 16:00:00-05:00  1.000436  0.000000  \n2021-02-04 17:00:00-05:00  0.999737  0.000000  \n2021-02-04 18:00:00-05:00  0.999248  0.000000  \n2021-02-04 19:00:00-05:00  0.999561  0.000000  \n\n[8027 rows x 18 columns]",
      "text/html": "<div>\n<style scoped>\n    .dataframe tbody tr th:only-of-type {\n        vertical-align: middle;\n    }\n\n    .dataframe tbody tr th {\n        vertical-align: top;\n    }\n\n    .dataframe thead th {\n        text-align: right;\n    }\n</style>\n<table border=\"1\" class=\"dataframe\">\n  <thead>\n    <tr style=\"text-align: right;\">\n      <th></th>\n      <th>close</th>\n      <th>14 period RSI</th>\n      <th>MACD</th>\n      <th>SIGNAL</th>\n      <th>14 period STOCH %K</th>\n      <th>MFV</th>\n      <th>14 period ATR</th>\n      <th>MOM</th>\n      <th>14 period MFI</th>\n      <th>ROC</th>\n      <th>20 period CCI</th>\n      <th>VIm</th>\n      <th>VIp</th>\n      <th>ema50</th>\n      <th>ema21</th>\n      <th>ema15</th>\n      <th>ema5</th>\n      <th>normVol</th>\n    </tr>\n    <tr>\n      <th>Datetime</th>\n      <th></th>\n      <th></th>\n      <th></th>\n      <th></th>\n      <th></th>\n      <th></th>\n      <th></th>\n      <th></th>\n      <th></th>\n      <th></th>\n      <th></th>\n      <th></th>\n      <th></th>\n      <th></th>\n      <th></th>\n      <th></th>\n      <th></th>\n      <th></th>\n    </tr>\n  </thead>\n  <tbody>\n    <tr>\n      <th>2019-02-05 04:00:00-05:00</th>\n      <td>168.510000</td>\n      <td>NaN</td>\n      <td>0.000000</td>\n      <td>0.000000</td>\n      <td>NaN</td>\n      <td>-0.000000e+00</td>\n      <td>NaN</td>\n      <td>NaN</td>\n      <td>NaN</td>\n      <td>NaN</td>\n      <td>NaN</td>\n      <td>NaN</td>\n      <td>NaN</td>\n      <td>1.000000</td>\n      <td>1.000000</td>\n      <td>1.000000</td>\n      <td>1.000000</td>\n      <td>NaN</td>\n    </tr>\n    <tr>\n      <th>2019-02-05 05:00:00-05:00</th>\n      <td>168.950000</td>\n      <td>100.000000</td>\n      <td>0.009872</td>\n      <td>0.005484</td>\n      <td>NaN</td>\n      <td>0.000000e+00</td>\n      <td>NaN</td>\n      <td>NaN</td>\n      <td>NaN</td>\n      <td>NaN</td>\n      <td>66.666667</td>\n      <td>NaN</td>\n      <td>NaN</td>\n      <td>1.001291</td>\n      <td>1.001273</td>\n      <td>1.001264</td>\n      <td>1.001185</td>\n      <td>NaN</td>\n    </tr>\n    <tr>\n      <th>2019-02-05 06:00:00-05:00</th>\n      <td>168.950000</td>\n      <td>100.000000</td>\n      <td>0.012579</td>\n      <td>0.008392</td>\n      <td>NaN</td>\n      <td>0.000000e+00</td>\n      <td>NaN</td>\n      <td>NaN</td>\n      <td>NaN</td>\n      <td>NaN</td>\n      <td>69.148936</td>\n      <td>NaN</td>\n      <td>NaN</td>\n      <td>1.000852</td>\n      <td>1.000829</td>\n      <td>1.000817</td>\n      <td>1.000716</td>\n      <td>NaN</td>\n    </tr>\n    <tr>\n      <th>2019-02-05 07:00:00-05:00</th>\n      <td>169.400000</td>\n      <td>100.000000</td>\n      <td>0.029749</td>\n      <td>0.015626</td>\n      <td>NaN</td>\n      <td>0.000000e+00</td>\n      <td>NaN</td>\n      <td>NaN</td>\n      <td>NaN</td>\n      <td>NaN</td>\n      <td>133.333333</td>\n      <td>NaN</td>\n      <td>NaN</td>\n      <td>1.002609</td>\n      <td>1.002557</td>\n      <td>1.002529</td>\n      <td>1.002290</td>\n      <td>NaN</td>\n    </tr>\n    <tr>\n      <th>2019-02-05 08:00:00-05:00</th>\n      <td>169.150000</td>\n      <td>75.493698</td>\n      <td>0.028504</td>\n      <td>0.019457</td>\n      <td>NaN</td>\n      <td>0.000000e+00</td>\n      <td>NaN</td>\n      <td>NaN</td>\n      <td>NaN</td>\n      <td>NaN</td>\n      <td>85.641031</td>\n      <td>NaN</td>\n      <td>NaN</td>\n      <td>1.000895</td>\n      <td>1.000841</td>\n      <td>1.000813</td>\n      <td>1.000585</td>\n      <td>NaN</td>\n    </tr>\n    <tr>\n      <th>...</th>\n      <td>...</td>\n      <td>...</td>\n      <td>...</td>\n      <td>...</td>\n      <td>...</td>\n      <td>...</td>\n      <td>...</td>\n      <td>...</td>\n      <td>...</td>\n      <td>...</td>\n      <td>...</td>\n      <td>...</td>\n      <td>...</td>\n      <td>...</td>\n      <td>...</td>\n      <td>...</td>\n      <td>...</td>\n      <td>...</td>\n    </tr>\n    <tr>\n      <th>2021-02-04 15:30:00-05:00</th>\n      <td>266.619995</td>\n      <td>51.664033</td>\n      <td>-0.122250</td>\n      <td>0.027952</td>\n      <td>58.351784</td>\n      <td>8.538465e+09</td>\n      <td>1.342686</td>\n      <td>-0.230005</td>\n      <td>20.495267</td>\n      <td>-0.026250</td>\n      <td>-42.789801</td>\n      <td>1.026599</td>\n      <td>0.930167</td>\n      <td>0.999563</td>\n      <td>1.001644</td>\n      <td>1.001395</td>\n      <td>1.001725</td>\n      <td>1.204844</td>\n    </tr>\n    <tr>\n      <th>2021-02-04 16:00:00-05:00</th>\n      <td>266.300000</td>\n      <td>49.971431</td>\n      <td>-0.104504</td>\n      <td>0.001461</td>\n      <td>19.582801</td>\n      <td>8.538465e+09</td>\n      <td>2.030186</td>\n      <td>-0.900000</td>\n      <td>20.495267</td>\n      <td>-0.090043</td>\n      <td>230.294679</td>\n      <td>0.697600</td>\n      <td>0.963761</td>\n      <td>0.998396</td>\n      <td>1.000422</td>\n      <td>1.000182</td>\n      <td>1.000436</td>\n      <td>0.000000</td>\n    </tr>\n    <tr>\n      <th>2021-02-04 17:00:00-05:00</th>\n      <td>266.100000</td>\n      <td>48.893262</td>\n      <td>-0.105364</td>\n      <td>-0.019904</td>\n      <td>59.293492</td>\n      <td>8.538465e+09</td>\n      <td>3.014400</td>\n      <td>-2.000000</td>\n      <td>20.495267</td>\n      <td>-0.281057</td>\n      <td>-326.957706</td>\n      <td>1.019667</td>\n      <td>0.653828</td>\n      <td>0.997692</td>\n      <td>0.999685</td>\n      <td>0.999464</td>\n      <td>0.999737</td>\n      <td>0.000000</td>\n    </tr>\n    <tr>\n      <th>2021-02-04 18:00:00-05:00</th>\n      <td>265.930000</td>\n      <td>47.946318</td>\n      <td>-0.118398</td>\n      <td>-0.039603</td>\n      <td>58.576011</td>\n      <td>8.538465e+09</td>\n      <td>3.023686</td>\n      <td>-1.200000</td>\n      <td>20.495267</td>\n      <td>-0.475299</td>\n      <td>-27.603992</td>\n      <td>1.016772</td>\n      <td>0.980157</td>\n      <td>0.997112</td>\n      <td>0.999090</td>\n      <td>0.998895</td>\n      <td>0.999248</td>\n      <td>0.000000</td>\n    </tr>\n    <tr>\n      <th>2021-02-04 19:00:00-05:00</th>\n      <td>265.990000</td>\n      <td>48.326707</td>\n      <td>-0.122475</td>\n      <td>-0.056177</td>\n      <td>58.829239</td>\n      <td>8.538465e+09</td>\n      <td>3.011543</td>\n      <td>0.889994</td>\n      <td>20.495267</td>\n      <td>-0.787020</td>\n      <td>-20.433636</td>\n      <td>1.018263</td>\n      <td>0.985769</td>\n      <td>0.997389</td>\n      <td>0.999346</td>\n      <td>0.999172</td>\n      <td>0.999561</td>\n      <td>0.000000</td>\n    </tr>\n  </tbody>\n</table>\n<p>8027 rows × 18 columns</p>\n</div>"
     },
     "execution_count": 7,
     "metadata": {},
     "output_type": "execute_result"
    }
   ],
   "source": [
    "data"
   ],
   "metadata": {
    "collapsed": false,
    "pycharm": {
     "name": "#%%\n"
    }
   }
  },
  {
   "cell_type": "code",
   "execution_count": 8,
   "outputs": [
    {
     "data": {
      "text/plain": "Index(['close', '14 period RSI', 'MACD', 'SIGNAL', '14 period STOCH %K', 'MFV',\n       '14 period ATR', 'MOM', '14 period MFI', 'ROC', '20 period CCI', 'VIm',\n       'VIp', 'ema50', 'ema21', 'ema15', 'ema5', 'normVol'],\n      dtype='object')"
     },
     "execution_count": 8,
     "metadata": {},
     "output_type": "execute_result"
    }
   ],
   "source": [
    "data.columns"
   ],
   "metadata": {
    "collapsed": false,
    "pycharm": {
     "name": "#%%\n"
    }
   }
  },
  {
   "cell_type": "code",
   "execution_count": 9,
   "outputs": [],
   "source": [
    "def create_class_column(row):\n",
    "    if row['close_shift']-row['close'] > 0.35:\n",
    "        return 1\n",
    "    if row['close_shift'] -row['close']< -0.35:\n",
    "        return 2\n",
    "    else:\n",
    "        return 0"
   ],
   "metadata": {
    "collapsed": false,
    "pycharm": {
     "name": "#%%\n"
    }
   }
  },
  {
   "cell_type": "code",
   "execution_count": 10,
   "outputs": [
    {
     "data": {
      "text/plain": "                                close  14 period RSI      MACD    SIGNAL  \\\nDatetime                                                                   \n2019-02-05 04:00:00-05:00  168.510000            NaN  0.000000  0.000000   \n2019-02-05 05:00:00-05:00  168.950000     100.000000  0.009872  0.005484   \n2019-02-05 06:00:00-05:00  168.950000     100.000000  0.012579  0.008392   \n2019-02-05 07:00:00-05:00  169.400000     100.000000  0.029749  0.015626   \n2019-02-05 08:00:00-05:00  169.150000      75.493698  0.028504  0.019457   \n...                               ...            ...       ...       ...   \n2021-02-04 15:30:00-05:00  266.619995      51.664033 -0.122250  0.027952   \n2021-02-04 16:00:00-05:00  266.300000      49.971431 -0.104504  0.001461   \n2021-02-04 17:00:00-05:00  266.100000      48.893262 -0.105364 -0.019904   \n2021-02-04 18:00:00-05:00  265.930000      47.946318 -0.118398 -0.039603   \n2021-02-04 19:00:00-05:00  265.990000      48.326707 -0.122475 -0.056177   \n\n                           14 period STOCH %K           MFV  14 period ATR  \\\nDatetime                                                                     \n2019-02-05 04:00:00-05:00                 NaN -0.000000e+00            NaN   \n2019-02-05 05:00:00-05:00                 NaN  0.000000e+00            NaN   \n2019-02-05 06:00:00-05:00                 NaN  0.000000e+00            NaN   \n2019-02-05 07:00:00-05:00                 NaN  0.000000e+00            NaN   \n2019-02-05 08:00:00-05:00                 NaN  0.000000e+00            NaN   \n...                                       ...           ...            ...   \n2021-02-04 15:30:00-05:00           58.351784  8.538465e+09       1.342686   \n2021-02-04 16:00:00-05:00           19.582801  8.538465e+09       2.030186   \n2021-02-04 17:00:00-05:00           59.293492  8.538465e+09       3.014400   \n2021-02-04 18:00:00-05:00           58.576011  8.538465e+09       3.023686   \n2021-02-04 19:00:00-05:00           58.829239  8.538465e+09       3.011543   \n\n                                MOM  14 period MFI       ROC  20 period CCI  \\\nDatetime                                                                      \n2019-02-05 04:00:00-05:00       NaN            NaN       NaN            NaN   \n2019-02-05 05:00:00-05:00       NaN            NaN       NaN      66.666667   \n2019-02-05 06:00:00-05:00       NaN            NaN       NaN      69.148936   \n2019-02-05 07:00:00-05:00       NaN            NaN       NaN     133.333333   \n2019-02-05 08:00:00-05:00       NaN            NaN       NaN      85.641031   \n...                             ...            ...       ...            ...   \n2021-02-04 15:30:00-05:00 -0.230005      20.495267 -0.026250     -42.789801   \n2021-02-04 16:00:00-05:00 -0.900000      20.495267 -0.090043     230.294679   \n2021-02-04 17:00:00-05:00 -2.000000      20.495267 -0.281057    -326.957706   \n2021-02-04 18:00:00-05:00 -1.200000      20.495267 -0.475299     -27.603992   \n2021-02-04 19:00:00-05:00  0.889994      20.495267 -0.787020     -20.433636   \n\n                                VIm       VIp     ema50     ema21     ema15  \\\nDatetime                                                                      \n2019-02-05 04:00:00-05:00       NaN       NaN  1.000000  1.000000  1.000000   \n2019-02-05 05:00:00-05:00       NaN       NaN  1.001291  1.001273  1.001264   \n2019-02-05 06:00:00-05:00       NaN       NaN  1.000852  1.000829  1.000817   \n2019-02-05 07:00:00-05:00       NaN       NaN  1.002609  1.002557  1.002529   \n2019-02-05 08:00:00-05:00       NaN       NaN  1.000895  1.000841  1.000813   \n...                             ...       ...       ...       ...       ...   \n2021-02-04 15:30:00-05:00  1.026599  0.930167  0.999563  1.001644  1.001395   \n2021-02-04 16:00:00-05:00  0.697600  0.963761  0.998396  1.000422  1.000182   \n2021-02-04 17:00:00-05:00  1.019667  0.653828  0.997692  0.999685  0.999464   \n2021-02-04 18:00:00-05:00  1.016772  0.980157  0.997112  0.999090  0.998895   \n2021-02-04 19:00:00-05:00  1.018263  0.985769  0.997389  0.999346  0.999172   \n\n                               ema5   normVol  close_shift  \nDatetime                                                    \n2019-02-05 04:00:00-05:00  1.000000       NaN       168.95  \n2019-02-05 05:00:00-05:00  1.001185       NaN       168.95  \n2019-02-05 06:00:00-05:00  1.000716       NaN       169.40  \n2019-02-05 07:00:00-05:00  1.002290       NaN       169.15  \n2019-02-05 08:00:00-05:00  1.000585       NaN       169.20  \n...                             ...       ...          ...  \n2021-02-04 15:30:00-05:00  1.001725  1.204844       266.30  \n2021-02-04 16:00:00-05:00  1.000436  0.000000       266.10  \n2021-02-04 17:00:00-05:00  0.999737  0.000000       265.93  \n2021-02-04 18:00:00-05:00  0.999248  0.000000       265.99  \n2021-02-04 19:00:00-05:00  0.999561  0.000000          NaN  \n\n[8027 rows x 19 columns]",
      "text/html": "<div>\n<style scoped>\n    .dataframe tbody tr th:only-of-type {\n        vertical-align: middle;\n    }\n\n    .dataframe tbody tr th {\n        vertical-align: top;\n    }\n\n    .dataframe thead th {\n        text-align: right;\n    }\n</style>\n<table border=\"1\" class=\"dataframe\">\n  <thead>\n    <tr style=\"text-align: right;\">\n      <th></th>\n      <th>close</th>\n      <th>14 period RSI</th>\n      <th>MACD</th>\n      <th>SIGNAL</th>\n      <th>14 period STOCH %K</th>\n      <th>MFV</th>\n      <th>14 period ATR</th>\n      <th>MOM</th>\n      <th>14 period MFI</th>\n      <th>ROC</th>\n      <th>20 period CCI</th>\n      <th>VIm</th>\n      <th>VIp</th>\n      <th>ema50</th>\n      <th>ema21</th>\n      <th>ema15</th>\n      <th>ema5</th>\n      <th>normVol</th>\n      <th>close_shift</th>\n    </tr>\n    <tr>\n      <th>Datetime</th>\n      <th></th>\n      <th></th>\n      <th></th>\n      <th></th>\n      <th></th>\n      <th></th>\n      <th></th>\n      <th></th>\n      <th></th>\n      <th></th>\n      <th></th>\n      <th></th>\n      <th></th>\n      <th></th>\n      <th></th>\n      <th></th>\n      <th></th>\n      <th></th>\n      <th></th>\n    </tr>\n  </thead>\n  <tbody>\n    <tr>\n      <th>2019-02-05 04:00:00-05:00</th>\n      <td>168.510000</td>\n      <td>NaN</td>\n      <td>0.000000</td>\n      <td>0.000000</td>\n      <td>NaN</td>\n      <td>-0.000000e+00</td>\n      <td>NaN</td>\n      <td>NaN</td>\n      <td>NaN</td>\n      <td>NaN</td>\n      <td>NaN</td>\n      <td>NaN</td>\n      <td>NaN</td>\n      <td>1.000000</td>\n      <td>1.000000</td>\n      <td>1.000000</td>\n      <td>1.000000</td>\n      <td>NaN</td>\n      <td>168.95</td>\n    </tr>\n    <tr>\n      <th>2019-02-05 05:00:00-05:00</th>\n      <td>168.950000</td>\n      <td>100.000000</td>\n      <td>0.009872</td>\n      <td>0.005484</td>\n      <td>NaN</td>\n      <td>0.000000e+00</td>\n      <td>NaN</td>\n      <td>NaN</td>\n      <td>NaN</td>\n      <td>NaN</td>\n      <td>66.666667</td>\n      <td>NaN</td>\n      <td>NaN</td>\n      <td>1.001291</td>\n      <td>1.001273</td>\n      <td>1.001264</td>\n      <td>1.001185</td>\n      <td>NaN</td>\n      <td>168.95</td>\n    </tr>\n    <tr>\n      <th>2019-02-05 06:00:00-05:00</th>\n      <td>168.950000</td>\n      <td>100.000000</td>\n      <td>0.012579</td>\n      <td>0.008392</td>\n      <td>NaN</td>\n      <td>0.000000e+00</td>\n      <td>NaN</td>\n      <td>NaN</td>\n      <td>NaN</td>\n      <td>NaN</td>\n      <td>69.148936</td>\n      <td>NaN</td>\n      <td>NaN</td>\n      <td>1.000852</td>\n      <td>1.000829</td>\n      <td>1.000817</td>\n      <td>1.000716</td>\n      <td>NaN</td>\n      <td>169.40</td>\n    </tr>\n    <tr>\n      <th>2019-02-05 07:00:00-05:00</th>\n      <td>169.400000</td>\n      <td>100.000000</td>\n      <td>0.029749</td>\n      <td>0.015626</td>\n      <td>NaN</td>\n      <td>0.000000e+00</td>\n      <td>NaN</td>\n      <td>NaN</td>\n      <td>NaN</td>\n      <td>NaN</td>\n      <td>133.333333</td>\n      <td>NaN</td>\n      <td>NaN</td>\n      <td>1.002609</td>\n      <td>1.002557</td>\n      <td>1.002529</td>\n      <td>1.002290</td>\n      <td>NaN</td>\n      <td>169.15</td>\n    </tr>\n    <tr>\n      <th>2019-02-05 08:00:00-05:00</th>\n      <td>169.150000</td>\n      <td>75.493698</td>\n      <td>0.028504</td>\n      <td>0.019457</td>\n      <td>NaN</td>\n      <td>0.000000e+00</td>\n      <td>NaN</td>\n      <td>NaN</td>\n      <td>NaN</td>\n      <td>NaN</td>\n      <td>85.641031</td>\n      <td>NaN</td>\n      <td>NaN</td>\n      <td>1.000895</td>\n      <td>1.000841</td>\n      <td>1.000813</td>\n      <td>1.000585</td>\n      <td>NaN</td>\n      <td>169.20</td>\n    </tr>\n    <tr>\n      <th>...</th>\n      <td>...</td>\n      <td>...</td>\n      <td>...</td>\n      <td>...</td>\n      <td>...</td>\n      <td>...</td>\n      <td>...</td>\n      <td>...</td>\n      <td>...</td>\n      <td>...</td>\n      <td>...</td>\n      <td>...</td>\n      <td>...</td>\n      <td>...</td>\n      <td>...</td>\n      <td>...</td>\n      <td>...</td>\n      <td>...</td>\n      <td>...</td>\n    </tr>\n    <tr>\n      <th>2021-02-04 15:30:00-05:00</th>\n      <td>266.619995</td>\n      <td>51.664033</td>\n      <td>-0.122250</td>\n      <td>0.027952</td>\n      <td>58.351784</td>\n      <td>8.538465e+09</td>\n      <td>1.342686</td>\n      <td>-0.230005</td>\n      <td>20.495267</td>\n      <td>-0.026250</td>\n      <td>-42.789801</td>\n      <td>1.026599</td>\n      <td>0.930167</td>\n      <td>0.999563</td>\n      <td>1.001644</td>\n      <td>1.001395</td>\n      <td>1.001725</td>\n      <td>1.204844</td>\n      <td>266.30</td>\n    </tr>\n    <tr>\n      <th>2021-02-04 16:00:00-05:00</th>\n      <td>266.300000</td>\n      <td>49.971431</td>\n      <td>-0.104504</td>\n      <td>0.001461</td>\n      <td>19.582801</td>\n      <td>8.538465e+09</td>\n      <td>2.030186</td>\n      <td>-0.900000</td>\n      <td>20.495267</td>\n      <td>-0.090043</td>\n      <td>230.294679</td>\n      <td>0.697600</td>\n      <td>0.963761</td>\n      <td>0.998396</td>\n      <td>1.000422</td>\n      <td>1.000182</td>\n      <td>1.000436</td>\n      <td>0.000000</td>\n      <td>266.10</td>\n    </tr>\n    <tr>\n      <th>2021-02-04 17:00:00-05:00</th>\n      <td>266.100000</td>\n      <td>48.893262</td>\n      <td>-0.105364</td>\n      <td>-0.019904</td>\n      <td>59.293492</td>\n      <td>8.538465e+09</td>\n      <td>3.014400</td>\n      <td>-2.000000</td>\n      <td>20.495267</td>\n      <td>-0.281057</td>\n      <td>-326.957706</td>\n      <td>1.019667</td>\n      <td>0.653828</td>\n      <td>0.997692</td>\n      <td>0.999685</td>\n      <td>0.999464</td>\n      <td>0.999737</td>\n      <td>0.000000</td>\n      <td>265.93</td>\n    </tr>\n    <tr>\n      <th>2021-02-04 18:00:00-05:00</th>\n      <td>265.930000</td>\n      <td>47.946318</td>\n      <td>-0.118398</td>\n      <td>-0.039603</td>\n      <td>58.576011</td>\n      <td>8.538465e+09</td>\n      <td>3.023686</td>\n      <td>-1.200000</td>\n      <td>20.495267</td>\n      <td>-0.475299</td>\n      <td>-27.603992</td>\n      <td>1.016772</td>\n      <td>0.980157</td>\n      <td>0.997112</td>\n      <td>0.999090</td>\n      <td>0.998895</td>\n      <td>0.999248</td>\n      <td>0.000000</td>\n      <td>265.99</td>\n    </tr>\n    <tr>\n      <th>2021-02-04 19:00:00-05:00</th>\n      <td>265.990000</td>\n      <td>48.326707</td>\n      <td>-0.122475</td>\n      <td>-0.056177</td>\n      <td>58.829239</td>\n      <td>8.538465e+09</td>\n      <td>3.011543</td>\n      <td>0.889994</td>\n      <td>20.495267</td>\n      <td>-0.787020</td>\n      <td>-20.433636</td>\n      <td>1.018263</td>\n      <td>0.985769</td>\n      <td>0.997389</td>\n      <td>0.999346</td>\n      <td>0.999172</td>\n      <td>0.999561</td>\n      <td>0.000000</td>\n      <td>NaN</td>\n    </tr>\n  </tbody>\n</table>\n<p>8027 rows × 19 columns</p>\n</div>"
     },
     "execution_count": 10,
     "metadata": {},
     "output_type": "execute_result"
    }
   ],
   "source": [
    "data['close_shift'] = data.shift(-WINDOW)['close']\n",
    "data"
   ],
   "metadata": {
    "collapsed": false,
    "pycharm": {
     "name": "#%%\n"
    }
   }
  },
  {
   "cell_type": "code",
   "execution_count": 11,
   "outputs": [
    {
     "data": {
      "text/plain": "                                close  14 period RSI      MACD    SIGNAL  \\\nDatetime                                                                   \n2019-02-05 04:00:00-05:00  168.510000            NaN  0.000000  0.000000   \n2019-02-05 05:00:00-05:00  168.950000     100.000000  0.009872  0.005484   \n2019-02-05 06:00:00-05:00  168.950000     100.000000  0.012579  0.008392   \n2019-02-05 07:00:00-05:00  169.400000     100.000000  0.029749  0.015626   \n2019-02-05 08:00:00-05:00  169.150000      75.493698  0.028504  0.019457   \n...                               ...            ...       ...       ...   \n2021-02-04 15:30:00-05:00  266.619995      51.664033 -0.122250  0.027952   \n2021-02-04 16:00:00-05:00  266.300000      49.971431 -0.104504  0.001461   \n2021-02-04 17:00:00-05:00  266.100000      48.893262 -0.105364 -0.019904   \n2021-02-04 18:00:00-05:00  265.930000      47.946318 -0.118398 -0.039603   \n2021-02-04 19:00:00-05:00  265.990000      48.326707 -0.122475 -0.056177   \n\n                           14 period STOCH %K           MFV  14 period ATR  \\\nDatetime                                                                     \n2019-02-05 04:00:00-05:00                 NaN -0.000000e+00            NaN   \n2019-02-05 05:00:00-05:00                 NaN  0.000000e+00            NaN   \n2019-02-05 06:00:00-05:00                 NaN  0.000000e+00            NaN   \n2019-02-05 07:00:00-05:00                 NaN  0.000000e+00            NaN   \n2019-02-05 08:00:00-05:00                 NaN  0.000000e+00            NaN   \n...                                       ...           ...            ...   \n2021-02-04 15:30:00-05:00           58.351784  8.538465e+09       1.342686   \n2021-02-04 16:00:00-05:00           19.582801  8.538465e+09       2.030186   \n2021-02-04 17:00:00-05:00           59.293492  8.538465e+09       3.014400   \n2021-02-04 18:00:00-05:00           58.576011  8.538465e+09       3.023686   \n2021-02-04 19:00:00-05:00           58.829239  8.538465e+09       3.011543   \n\n                                MOM  14 period MFI       ROC  20 period CCI  \\\nDatetime                                                                      \n2019-02-05 04:00:00-05:00       NaN            NaN       NaN            NaN   \n2019-02-05 05:00:00-05:00       NaN            NaN       NaN      66.666667   \n2019-02-05 06:00:00-05:00       NaN            NaN       NaN      69.148936   \n2019-02-05 07:00:00-05:00       NaN            NaN       NaN     133.333333   \n2019-02-05 08:00:00-05:00       NaN            NaN       NaN      85.641031   \n...                             ...            ...       ...            ...   \n2021-02-04 15:30:00-05:00 -0.230005      20.495267 -0.026250     -42.789801   \n2021-02-04 16:00:00-05:00 -0.900000      20.495267 -0.090043     230.294679   \n2021-02-04 17:00:00-05:00 -2.000000      20.495267 -0.281057    -326.957706   \n2021-02-04 18:00:00-05:00 -1.200000      20.495267 -0.475299     -27.603992   \n2021-02-04 19:00:00-05:00  0.889994      20.495267 -0.787020     -20.433636   \n\n                                VIm       VIp     ema50     ema21     ema15  \\\nDatetime                                                                      \n2019-02-05 04:00:00-05:00       NaN       NaN  1.000000  1.000000  1.000000   \n2019-02-05 05:00:00-05:00       NaN       NaN  1.001291  1.001273  1.001264   \n2019-02-05 06:00:00-05:00       NaN       NaN  1.000852  1.000829  1.000817   \n2019-02-05 07:00:00-05:00       NaN       NaN  1.002609  1.002557  1.002529   \n2019-02-05 08:00:00-05:00       NaN       NaN  1.000895  1.000841  1.000813   \n...                             ...       ...       ...       ...       ...   \n2021-02-04 15:30:00-05:00  1.026599  0.930167  0.999563  1.001644  1.001395   \n2021-02-04 16:00:00-05:00  0.697600  0.963761  0.998396  1.000422  1.000182   \n2021-02-04 17:00:00-05:00  1.019667  0.653828  0.997692  0.999685  0.999464   \n2021-02-04 18:00:00-05:00  1.016772  0.980157  0.997112  0.999090  0.998895   \n2021-02-04 19:00:00-05:00  1.018263  0.985769  0.997389  0.999346  0.999172   \n\n                               ema5   normVol  close_shift  class_column  \nDatetime                                                                  \n2019-02-05 04:00:00-05:00  1.000000       NaN       168.95             1  \n2019-02-05 05:00:00-05:00  1.001185       NaN       168.95             0  \n2019-02-05 06:00:00-05:00  1.000716       NaN       169.40             1  \n2019-02-05 07:00:00-05:00  1.002290       NaN       169.15             0  \n2019-02-05 08:00:00-05:00  1.000585       NaN       169.20             0  \n...                             ...       ...          ...           ...  \n2021-02-04 15:30:00-05:00  1.001725  1.204844       266.30             0  \n2021-02-04 16:00:00-05:00  1.000436  0.000000       266.10             0  \n2021-02-04 17:00:00-05:00  0.999737  0.000000       265.93             0  \n2021-02-04 18:00:00-05:00  0.999248  0.000000       265.99             0  \n2021-02-04 19:00:00-05:00  0.999561  0.000000          NaN             0  \n\n[8027 rows x 20 columns]",
      "text/html": "<div>\n<style scoped>\n    .dataframe tbody tr th:only-of-type {\n        vertical-align: middle;\n    }\n\n    .dataframe tbody tr th {\n        vertical-align: top;\n    }\n\n    .dataframe thead th {\n        text-align: right;\n    }\n</style>\n<table border=\"1\" class=\"dataframe\">\n  <thead>\n    <tr style=\"text-align: right;\">\n      <th></th>\n      <th>close</th>\n      <th>14 period RSI</th>\n      <th>MACD</th>\n      <th>SIGNAL</th>\n      <th>14 period STOCH %K</th>\n      <th>MFV</th>\n      <th>14 period ATR</th>\n      <th>MOM</th>\n      <th>14 period MFI</th>\n      <th>ROC</th>\n      <th>20 period CCI</th>\n      <th>VIm</th>\n      <th>VIp</th>\n      <th>ema50</th>\n      <th>ema21</th>\n      <th>ema15</th>\n      <th>ema5</th>\n      <th>normVol</th>\n      <th>close_shift</th>\n      <th>class_column</th>\n    </tr>\n    <tr>\n      <th>Datetime</th>\n      <th></th>\n      <th></th>\n      <th></th>\n      <th></th>\n      <th></th>\n      <th></th>\n      <th></th>\n      <th></th>\n      <th></th>\n      <th></th>\n      <th></th>\n      <th></th>\n      <th></th>\n      <th></th>\n      <th></th>\n      <th></th>\n      <th></th>\n      <th></th>\n      <th></th>\n      <th></th>\n    </tr>\n  </thead>\n  <tbody>\n    <tr>\n      <th>2019-02-05 04:00:00-05:00</th>\n      <td>168.510000</td>\n      <td>NaN</td>\n      <td>0.000000</td>\n      <td>0.000000</td>\n      <td>NaN</td>\n      <td>-0.000000e+00</td>\n      <td>NaN</td>\n      <td>NaN</td>\n      <td>NaN</td>\n      <td>NaN</td>\n      <td>NaN</td>\n      <td>NaN</td>\n      <td>NaN</td>\n      <td>1.000000</td>\n      <td>1.000000</td>\n      <td>1.000000</td>\n      <td>1.000000</td>\n      <td>NaN</td>\n      <td>168.95</td>\n      <td>1</td>\n    </tr>\n    <tr>\n      <th>2019-02-05 05:00:00-05:00</th>\n      <td>168.950000</td>\n      <td>100.000000</td>\n      <td>0.009872</td>\n      <td>0.005484</td>\n      <td>NaN</td>\n      <td>0.000000e+00</td>\n      <td>NaN</td>\n      <td>NaN</td>\n      <td>NaN</td>\n      <td>NaN</td>\n      <td>66.666667</td>\n      <td>NaN</td>\n      <td>NaN</td>\n      <td>1.001291</td>\n      <td>1.001273</td>\n      <td>1.001264</td>\n      <td>1.001185</td>\n      <td>NaN</td>\n      <td>168.95</td>\n      <td>0</td>\n    </tr>\n    <tr>\n      <th>2019-02-05 06:00:00-05:00</th>\n      <td>168.950000</td>\n      <td>100.000000</td>\n      <td>0.012579</td>\n      <td>0.008392</td>\n      <td>NaN</td>\n      <td>0.000000e+00</td>\n      <td>NaN</td>\n      <td>NaN</td>\n      <td>NaN</td>\n      <td>NaN</td>\n      <td>69.148936</td>\n      <td>NaN</td>\n      <td>NaN</td>\n      <td>1.000852</td>\n      <td>1.000829</td>\n      <td>1.000817</td>\n      <td>1.000716</td>\n      <td>NaN</td>\n      <td>169.40</td>\n      <td>1</td>\n    </tr>\n    <tr>\n      <th>2019-02-05 07:00:00-05:00</th>\n      <td>169.400000</td>\n      <td>100.000000</td>\n      <td>0.029749</td>\n      <td>0.015626</td>\n      <td>NaN</td>\n      <td>0.000000e+00</td>\n      <td>NaN</td>\n      <td>NaN</td>\n      <td>NaN</td>\n      <td>NaN</td>\n      <td>133.333333</td>\n      <td>NaN</td>\n      <td>NaN</td>\n      <td>1.002609</td>\n      <td>1.002557</td>\n      <td>1.002529</td>\n      <td>1.002290</td>\n      <td>NaN</td>\n      <td>169.15</td>\n      <td>0</td>\n    </tr>\n    <tr>\n      <th>2019-02-05 08:00:00-05:00</th>\n      <td>169.150000</td>\n      <td>75.493698</td>\n      <td>0.028504</td>\n      <td>0.019457</td>\n      <td>NaN</td>\n      <td>0.000000e+00</td>\n      <td>NaN</td>\n      <td>NaN</td>\n      <td>NaN</td>\n      <td>NaN</td>\n      <td>85.641031</td>\n      <td>NaN</td>\n      <td>NaN</td>\n      <td>1.000895</td>\n      <td>1.000841</td>\n      <td>1.000813</td>\n      <td>1.000585</td>\n      <td>NaN</td>\n      <td>169.20</td>\n      <td>0</td>\n    </tr>\n    <tr>\n      <th>...</th>\n      <td>...</td>\n      <td>...</td>\n      <td>...</td>\n      <td>...</td>\n      <td>...</td>\n      <td>...</td>\n      <td>...</td>\n      <td>...</td>\n      <td>...</td>\n      <td>...</td>\n      <td>...</td>\n      <td>...</td>\n      <td>...</td>\n      <td>...</td>\n      <td>...</td>\n      <td>...</td>\n      <td>...</td>\n      <td>...</td>\n      <td>...</td>\n      <td>...</td>\n    </tr>\n    <tr>\n      <th>2021-02-04 15:30:00-05:00</th>\n      <td>266.619995</td>\n      <td>51.664033</td>\n      <td>-0.122250</td>\n      <td>0.027952</td>\n      <td>58.351784</td>\n      <td>8.538465e+09</td>\n      <td>1.342686</td>\n      <td>-0.230005</td>\n      <td>20.495267</td>\n      <td>-0.026250</td>\n      <td>-42.789801</td>\n      <td>1.026599</td>\n      <td>0.930167</td>\n      <td>0.999563</td>\n      <td>1.001644</td>\n      <td>1.001395</td>\n      <td>1.001725</td>\n      <td>1.204844</td>\n      <td>266.30</td>\n      <td>0</td>\n    </tr>\n    <tr>\n      <th>2021-02-04 16:00:00-05:00</th>\n      <td>266.300000</td>\n      <td>49.971431</td>\n      <td>-0.104504</td>\n      <td>0.001461</td>\n      <td>19.582801</td>\n      <td>8.538465e+09</td>\n      <td>2.030186</td>\n      <td>-0.900000</td>\n      <td>20.495267</td>\n      <td>-0.090043</td>\n      <td>230.294679</td>\n      <td>0.697600</td>\n      <td>0.963761</td>\n      <td>0.998396</td>\n      <td>1.000422</td>\n      <td>1.000182</td>\n      <td>1.000436</td>\n      <td>0.000000</td>\n      <td>266.10</td>\n      <td>0</td>\n    </tr>\n    <tr>\n      <th>2021-02-04 17:00:00-05:00</th>\n      <td>266.100000</td>\n      <td>48.893262</td>\n      <td>-0.105364</td>\n      <td>-0.019904</td>\n      <td>59.293492</td>\n      <td>8.538465e+09</td>\n      <td>3.014400</td>\n      <td>-2.000000</td>\n      <td>20.495267</td>\n      <td>-0.281057</td>\n      <td>-326.957706</td>\n      <td>1.019667</td>\n      <td>0.653828</td>\n      <td>0.997692</td>\n      <td>0.999685</td>\n      <td>0.999464</td>\n      <td>0.999737</td>\n      <td>0.000000</td>\n      <td>265.93</td>\n      <td>0</td>\n    </tr>\n    <tr>\n      <th>2021-02-04 18:00:00-05:00</th>\n      <td>265.930000</td>\n      <td>47.946318</td>\n      <td>-0.118398</td>\n      <td>-0.039603</td>\n      <td>58.576011</td>\n      <td>8.538465e+09</td>\n      <td>3.023686</td>\n      <td>-1.200000</td>\n      <td>20.495267</td>\n      <td>-0.475299</td>\n      <td>-27.603992</td>\n      <td>1.016772</td>\n      <td>0.980157</td>\n      <td>0.997112</td>\n      <td>0.999090</td>\n      <td>0.998895</td>\n      <td>0.999248</td>\n      <td>0.000000</td>\n      <td>265.99</td>\n      <td>0</td>\n    </tr>\n    <tr>\n      <th>2021-02-04 19:00:00-05:00</th>\n      <td>265.990000</td>\n      <td>48.326707</td>\n      <td>-0.122475</td>\n      <td>-0.056177</td>\n      <td>58.829239</td>\n      <td>8.538465e+09</td>\n      <td>3.011543</td>\n      <td>0.889994</td>\n      <td>20.495267</td>\n      <td>-0.787020</td>\n      <td>-20.433636</td>\n      <td>1.018263</td>\n      <td>0.985769</td>\n      <td>0.997389</td>\n      <td>0.999346</td>\n      <td>0.999172</td>\n      <td>0.999561</td>\n      <td>0.000000</td>\n      <td>NaN</td>\n      <td>0</td>\n    </tr>\n  </tbody>\n</table>\n<p>8027 rows × 20 columns</p>\n</div>"
     },
     "execution_count": 11,
     "metadata": {},
     "output_type": "execute_result"
    }
   ],
   "source": [
    "data['class_column'] = data.apply(create_class_column, axis=1)\n",
    "data"
   ],
   "metadata": {
    "collapsed": false,
    "pycharm": {
     "name": "#%%\n"
    }
   }
  },
  {
   "cell_type": "code",
   "execution_count": 12,
   "outputs": [
    {
     "data": {
      "text/plain": "0    3589\n1    2293\n2    2145\nName: class_column, dtype: int64"
     },
     "execution_count": 12,
     "metadata": {},
     "output_type": "execute_result"
    }
   ],
   "source": [
    "# Class divide\n",
    "data['class_column'].value_counts()"
   ],
   "metadata": {
    "collapsed": false,
    "pycharm": {
     "name": "#%%\n"
    }
   }
  },
  {
   "cell_type": "code",
   "execution_count": 13,
   "outputs": [],
   "source": [
    "del (data['close'])\n",
    "del (data['close_shift'])\n",
    "data = data.dropna()\n",
    "train_set = data.iloc[:-ROWS_TO_PREDICT]\n",
    "test_set =data.iloc[-ROWS_TO_PREDICT:]"
   ],
   "metadata": {
    "collapsed": false,
    "pycharm": {
     "name": "#%%\n"
    }
   }
  },
  {
   "cell_type": "code",
   "execution_count": 14,
   "outputs": [
    {
     "data": {
      "text/plain": "0    3475\n1    2245\n2    2103\nName: class_column, dtype: int64"
     },
     "execution_count": 14,
     "metadata": {},
     "output_type": "execute_result"
    }
   ],
   "source": [
    "data['class_column'].value_counts()"
   ],
   "metadata": {
    "collapsed": false,
    "pycharm": {
     "name": "#%%\n"
    }
   }
  },
  {
   "cell_type": "code",
   "execution_count": 15,
   "outputs": [],
   "source": [
    "y = data['class_column']\n",
    "features = [x for x in data.columns if x not in ['class_column']]\n",
    "x = data[features]\n",
    "\n",
    "x_train= x.iloc[:-ROWS_TO_PREDICT]\n",
    "y_train= y.iloc[:-ROWS_TO_PREDICT]\n",
    "x_test =x.iloc[-ROWS_TO_PREDICT:]\n",
    "y_test=y.iloc[-ROWS_TO_PREDICT:]"
   ],
   "metadata": {
    "collapsed": false,
    "pycharm": {
     "name": "#%%\n"
    }
   }
  },
  {
   "cell_type": "code",
   "execution_count": 16,
   "outputs": [],
   "source": [
    "classifiers = dict()\n",
    "\n",
    "classifiers['DecisionTreeClassifier 1'] = DecisionTreeClassifier(max_depth=10, random_state=0,criterion='gini',splitter='best')\n",
    "classifiers['DecisionTreeClassifier 2'] = DecisionTreeClassifier(max_depth=10, random_state=0,criterion='gini',splitter='random')\n",
    "classifiers['DecisionTreeClassifier 3'] = DecisionTreeClassifier(max_depth=10, random_state=0,criterion='entropy',splitter='best')\n",
    "classifiers['DecisionTreeClassifier 4'] = DecisionTreeClassifier(max_depth=10, random_state=0,criterion='entropy',splitter='random')\n",
    "classifiers['DecisionTreeClassifier 5'] = DecisionTreeClassifier(random_state=0,criterion='gini',splitter='best')\n",
    "classifiers['DecisionTreeClassifier 6'] = DecisionTreeClassifier(random_state=0,criterion='gini',splitter='random')\n",
    "classifiers['DecisionTreeClassifier 7'] = DecisionTreeClassifier(random_state=0,criterion='entropy',splitter='best')\n",
    "classifiers['DecisionTreeClassifier 8'] = DecisionTreeClassifier(random_state=0,criterion='entropy',splitter='random')\n",
    "\n",
    "classifiers['RandomForestClassifier 1'] = RandomForestClassifier(n_estimators=100, max_depth=2, random_state=0,criterion='gini')\n",
    "classifiers['RandomForestClassifier 2'] = RandomForestClassifier(n_estimators=1000, max_depth=2, random_state=0,criterion='gini')\n",
    "classifiers['RandomForestClassifier 3'] = RandomForestClassifier(n_estimators=100, max_depth=3, random_state=0,criterion='gini')\n",
    "classifiers['RandomForestClassifier 4'] = RandomForestClassifier(n_estimators=1000, max_depth=3, random_state=0,criterion='gini')\n",
    "classifiers['RandomForestClassifier 5'] = RandomForestClassifier(n_estimators=100, max_depth=2, random_state=0,criterion='entropy')\n",
    "classifiers['RandomForestClassifier 6'] = RandomForestClassifier(n_estimators=1000, max_depth=2, random_state=0,criterion='entropy')\n",
    "classifiers['RandomForestClassifier 7'] = RandomForestClassifier(n_estimators=100, max_depth=3, random_state=0,criterion='entropy')\n",
    "classifiers['RandomForestClassifier 8'] = RandomForestClassifier(n_estimators=1000, max_depth=3, random_state=0,criterion='entropy')\n",
    "\n",
    "classifiers['GradientBoostingClassifier 1'] = GradientBoostingClassifier(n_estimators=100,random_state=0,criterion='friedman_mse',max_depth=3, learning_rate=0.1)\n",
    "classifiers['GradientBoostingClassifier 2'] = GradientBoostingClassifier(n_estimators=100,random_state=0,criterion='friedman_mse',max_depth=3, learning_rate=0.3)\n",
    "classifiers['GradientBoostingClassifier 3'] = GradientBoostingClassifier(n_estimators=100,random_state=0,criterion='friedman_mse',max_depth=3, learning_rate=0.5)\n",
    "classifiers['GradientBoostingClassifier 4'] = GradientBoostingClassifier(n_estimators=100,random_state=0,criterion='friedman_mse',max_depth=3, learning_rate=1)\n",
    "#\n",
    "classifiers['GradientBoostingClassifier 5'] = GradientBoostingClassifier(n_estimators=1000,random_state=0,criterion='friedman_mse',max_depth=3, learning_rate=0.1)\n",
    "classifiers['GradientBoostingClassifier 6'] = GradientBoostingClassifier(n_estimators=1000,random_state=0,criterion='friedman_mse',max_depth=3, learning_rate=0.3)\n",
    "classifiers['GradientBoostingClassifier 7'] = GradientBoostingClassifier(n_estimators=1000,random_state=0,criterion='friedman_mse',max_depth=3, learning_rate=0.5)\n",
    "classifiers['GradientBoostingClassifier 8'] = GradientBoostingClassifier(n_estimators=1000,random_state=0,criterion='friedman_mse',max_depth=3, learning_rate=1)\n",
    "\n",
    "classifiers['GradientBoostingClassifier 9'] = GradientBoostingClassifier(n_estimators=1000,random_state=0,criterion='friedman_mse',max_depth=2, learning_rate=0.1)\n",
    "classifiers['GradientBoostingClassifier 10'] = GradientBoostingClassifier(n_estimators=1000,random_state=0,criterion='friedman_mse',max_depth=2, learning_rate=0.3)\n",
    "classifiers['GradientBoostingClassifier 11'] = GradientBoostingClassifier(n_estimators=1000,random_state=0,criterion='friedman_mse',max_depth=2, learning_rate=0.5)\n",
    "classifiers['GradientBoostingClassifier 12'] = GradientBoostingClassifier(n_estimators=1000,random_state=0,criterion='friedman_mse',max_depth=2, learning_rate=1)"
   ],
   "metadata": {
    "collapsed": false,
    "pycharm": {
     "name": "#%%\n"
    }
   }
  },
  {
   "cell_type": "code",
   "execution_count": 17,
   "outputs": [],
   "source": [
    "def print_conf_matrix(test_y, predict, name):\n",
    "    matrix = confusion_matrix(test_y, predict,  labels=[-1, 0, 1])\n",
    "    print(matrix)\n",
    "    ax= plt.subplot()\n",
    "    sn.heatmap(matrix, annot=True, ax = ax) #annot=True to annotate cells\n",
    "\n",
    "    # labels, title and ticks\n",
    "    ax.set_xlabel('Predicted labels', color='white')\n",
    "    ax.set_ylabel('True labels', color='white')\n",
    "    ax.set_title(f'Confusion Matrix for {name}' , color='white')\n",
    "    ax.xaxis.set_ticklabels(['-1','0', '1'], color='white')\n",
    "    ax.yaxis.set_ticklabels(['-1','0', '1'], color='white')\n",
    "    plt.show()\n",
    "\n",
    "def train_model(model,train_x, train_y):\n",
    "    model.fit(train_x, train_y)"
   ],
   "metadata": {
    "collapsed": false,
    "pycharm": {
     "name": "#%%\n"
    }
   }
  },
  {
   "cell_type": "code",
   "execution_count": 18,
   "outputs": [],
   "source": [
    "# predictions= dict()\n",
    "# score = dict()\n",
    "# for k,v in classifiers.items():\n",
    "#     print(\"Calculate: \", k)\n",
    "#     train_model(v,x_train,y_train)\n",
    "#     predictions[k] = v.predict(x_test)\n",
    "#     score[k] = accuracy_score(y_test.values, predictions[k])\n",
    "#     print('Score: ',  score[k] )\n",
    "#     # print_conf_matrix(test_y, predictions[k], k)\n",
    "#\n",
    "# headers = [\"Classifier type\", \"Accuracy\"]\n",
    "# score_df = pd.DataFrame(score.items(), columns=headers)\n",
    "# print(tabulate(score_df, headers, tablefmt=\"psql\"))"
   ],
   "metadata": {
    "collapsed": false,
    "pycharm": {
     "name": "#%%\n"
    }
   }
  },
  {
   "cell_type": "code",
   "execution_count": 19,
   "outputs": [],
   "source": [
    "# estimators=[\n",
    "#             ('GBC12', classifiers['GradientBoostingClassifier 12']),\n",
    "#             ('DTC1', classifiers['DecisionTreeClassifier 1']),\n",
    "#             ]\n",
    "# ensemble = VotingClassifier(estimators, voting='soft')\n",
    "# ensemble.fit(x_train, y_train)\n",
    "# predicted = ensemble.predict(x_test)\n",
    "# score_ensemble = accuracy_score(y_test.values, predicted)\n",
    "# print('Score: ',  score_ensemble)"
   ],
   "metadata": {
    "collapsed": false,
    "pycharm": {
     "name": "#%%\n"
    }
   }
  },
  {
   "cell_type": "code",
   "execution_count": 20,
   "outputs": [],
   "source": [
    "# print('Score: ',  score_ensemble)"
   ],
   "metadata": {
    "collapsed": false,
    "pycharm": {
     "name": "#%%\n"
    }
   }
  },
  {
   "cell_type": "code",
   "execution_count": 21,
   "outputs": [
    {
     "data": {
      "text/plain": "[NumericColumn(key='14 period RSI', shape=(1,), default_value=None, dtype=tf.float32, normalizer_fn=None),\n NumericColumn(key='MACD', shape=(1,), default_value=None, dtype=tf.float32, normalizer_fn=None),\n NumericColumn(key='SIGNAL', shape=(1,), default_value=None, dtype=tf.float32, normalizer_fn=None),\n NumericColumn(key='14 period STOCH %K', shape=(1,), default_value=None, dtype=tf.float32, normalizer_fn=None),\n NumericColumn(key='MFV', shape=(1,), default_value=None, dtype=tf.float32, normalizer_fn=None),\n NumericColumn(key='14 period ATR', shape=(1,), default_value=None, dtype=tf.float32, normalizer_fn=None),\n NumericColumn(key='MOM', shape=(1,), default_value=None, dtype=tf.float32, normalizer_fn=None),\n NumericColumn(key='14 period MFI', shape=(1,), default_value=None, dtype=tf.float32, normalizer_fn=None),\n NumericColumn(key='ROC', shape=(1,), default_value=None, dtype=tf.float32, normalizer_fn=None),\n NumericColumn(key='20 period CCI', shape=(1,), default_value=None, dtype=tf.float32, normalizer_fn=None),\n NumericColumn(key='VIm', shape=(1,), default_value=None, dtype=tf.float32, normalizer_fn=None),\n NumericColumn(key='VIp', shape=(1,), default_value=None, dtype=tf.float32, normalizer_fn=None),\n NumericColumn(key='ema50', shape=(1,), default_value=None, dtype=tf.float32, normalizer_fn=None),\n NumericColumn(key='ema21', shape=(1,), default_value=None, dtype=tf.float32, normalizer_fn=None),\n NumericColumn(key='ema15', shape=(1,), default_value=None, dtype=tf.float32, normalizer_fn=None),\n NumericColumn(key='ema5', shape=(1,), default_value=None, dtype=tf.float32, normalizer_fn=None),\n NumericColumn(key='normVol', shape=(1,), default_value=None, dtype=tf.float32, normalizer_fn=None)]"
     },
     "execution_count": 21,
     "metadata": {},
     "output_type": "execute_result"
    }
   ],
   "source": [
    "feature_columns = []\n",
    "for feature_name in x_train.columns:\n",
    "  feature_columns.append(tf.feature_column.numeric_column(feature_name,\n",
    "                                                          dtype=tf.float32))\n",
    "feature_columns"
   ],
   "metadata": {
    "collapsed": false,
    "pycharm": {
     "name": "#%%\n"
    }
   }
  },
  {
   "cell_type": "code",
   "execution_count": 22,
   "outputs": [
    {
     "name": "stdout",
     "output_type": "stream",
     "text": [
      "7807\n"
     ]
    }
   ],
   "source": [
    "NUM_EXAMPLES = len(y_train)\n",
    "print(NUM_EXAMPLES)"
   ],
   "metadata": {
    "collapsed": false,
    "pycharm": {
     "name": "#%%\n"
    }
   }
  },
  {
   "cell_type": "code",
   "execution_count": 23,
   "outputs": [],
   "source": [
    "def make_input_fn(X, y, n_epochs=None, shuffle=True):\n",
    "  def input_fn():\n",
    "    dataset = tf.data.Dataset.from_tensor_slices((dict(X), y))\n",
    "    if shuffle:\n",
    "      dataset = dataset.shuffle(NUM_EXAMPLES)\n",
    "    # For training, cycle thru dataset as many times as need (n_epochs=None).\n",
    "    dataset = dataset.repeat(n_epochs)\n",
    "    # In memory training doesn't use batching.\n",
    "    dataset = dataset.batch(NUM_EXAMPLES)\n",
    "    return dataset\n",
    "  return input_fn"
   ],
   "metadata": {
    "collapsed": false,
    "pycharm": {
     "name": "#%%\n"
    }
   }
  },
  {
   "cell_type": "code",
   "execution_count": 24,
   "outputs": [],
   "source": [
    "train_input_fn = make_input_fn(x_train, y_train)\n",
    "eval_input_fn = make_input_fn(x_test, y_test, shuffle=False, n_epochs=1)\n"
   ],
   "metadata": {
    "collapsed": false,
    "pycharm": {
     "name": "#%%\n"
    }
   }
  },
  {
   "cell_type": "code",
   "execution_count": 25,
   "outputs": [
    {
     "name": "stdout",
     "output_type": "stream",
     "text": [
      "INFO:tensorflow:Using default config.\n",
      "WARNING:tensorflow:Using temporary folder as model directory: C:\\Users\\exomat\\AppData\\Local\\Temp\\tmpwsenucsr\n",
      "INFO:tensorflow:Using config: {'_model_dir': 'C:\\\\Users\\\\exomat\\\\AppData\\\\Local\\\\Temp\\\\tmpwsenucsr', '_tf_random_seed': None, '_save_summary_steps': 100, '_save_checkpoints_steps': None, '_save_checkpoints_secs': 600, '_session_config': allow_soft_placement: true\n",
      "graph_options {\n",
      "  rewrite_options {\n",
      "    meta_optimizer_iterations: ONE\n",
      "  }\n",
      "}\n",
      ", '_keep_checkpoint_max': 5, '_keep_checkpoint_every_n_hours': 10000, '_log_step_count_steps': 100, '_train_distribute': None, '_device_fn': None, '_protocol': None, '_eval_distribute': None, '_experimental_distribute': None, '_experimental_max_worker_delay_secs': None, '_session_creation_timeout_secs': 7200, '_checkpoint_save_graph_def': True, '_service': None, '_cluster_spec': ClusterSpec({}), '_task_type': 'worker', '_task_id': 0, '_global_id_in_cluster': 0, '_master': '', '_evaluation_master': '', '_is_chief': True, '_num_ps_replicas': 0, '_num_worker_replicas': 1}\n"
     ]
    }
   ],
   "source": [
    "est = tf.estimator.BoostedTreesClassifier(\n",
    "    feature_columns, 1, model_dir=None, n_classes=3,\n",
    "    weight_column=None, label_vocabulary=None, n_trees=500, max_depth=6,\n",
    "    learning_rate=0.5, l1_regularization=0.0, l2_regularization=0.0,\n",
    "    tree_complexity=0.0, min_node_weight=0.0, config=None, center_bias=False,\n",
    "    pruning_mode='none', quantile_sketch_epsilon=0.01,\n",
    "    train_in_memory=False\n",
    ")\n"
   ],
   "metadata": {
    "collapsed": false,
    "pycharm": {
     "name": "#%%\n"
    }
   }
  },
  {
   "cell_type": "code",
   "execution_count": 26,
   "outputs": [
    {
     "name": "stdout",
     "output_type": "stream",
     "text": [
      "WARNING:tensorflow:From C:\\Users\\exomat\\anaconda3\\envs\\magisterka_analiza\\lib\\site-packages\\tensorflow\\python\\training\\training_util.py:235: Variable.initialized_value (from tensorflow.python.ops.variables) is deprecated and will be removed in a future version.\n",
      "Instructions for updating:\n",
      "Use Variable.read_value. Variables in 2.X are initialized automatically both in eager and graph (inside tf.defun) contexts.\n",
      "INFO:tensorflow:Calling model_fn.\n",
      "INFO:tensorflow:Done calling model_fn.\n",
      "INFO:tensorflow:Create CheckpointSaverHook.\n",
      "WARNING:tensorflow:Issue encountered when serializing resources.\n",
      "Type is unsupported, or the types of the items don't match field type in CollectionDef. Note this is a warning and probably safe to ignore.\n",
      "'_Resource' object has no attribute 'name'\n",
      "INFO:tensorflow:Graph was finalized.\n",
      "INFO:tensorflow:Running local_init_op.\n",
      "INFO:tensorflow:Done running local_init_op.\n",
      "WARNING:tensorflow:Issue encountered when serializing resources.\n",
      "Type is unsupported, or the types of the items don't match field type in CollectionDef. Note this is a warning and probably safe to ignore.\n",
      "'_Resource' object has no attribute 'name'\n",
      "INFO:tensorflow:Calling checkpoint listeners before saving checkpoint 0...\n",
      "INFO:tensorflow:Saving checkpoints for 0 into C:\\Users\\exomat\\AppData\\Local\\Temp\\tmpwsenucsr\\model.ckpt.\n",
      "WARNING:tensorflow:Issue encountered when serializing resources.\n",
      "Type is unsupported, or the types of the items don't match field type in CollectionDef. Note this is a warning and probably safe to ignore.\n",
      "'_Resource' object has no attribute 'name'\n",
      "INFO:tensorflow:Calling checkpoint listeners after saving checkpoint 0...\n",
      "INFO:tensorflow:loss = 1.0986094, step = 0\n",
      "WARNING:tensorflow:It seems that global step (tf.train.get_global_step) has not been increased. Current value (could be stable): 0 vs previous value: 0. You could increase the global step by passing tf.train.get_global_step() to Optimizer.apply_gradients or Optimizer.minimize.\n",
      "INFO:tensorflow:global_step/sec: 5.15728\n",
      "INFO:tensorflow:loss = 0.74268967, step = 99 (19.390 sec)\n",
      "INFO:tensorflow:global_step/sec: 4.77308\n",
      "INFO:tensorflow:loss = 34.53888, step = 199 (20.952 sec)\n",
      "INFO:tensorflow:global_step/sec: 7.04921\n",
      "INFO:tensorflow:loss = 34.53888, step = 299 (14.185 sec)\n",
      "INFO:tensorflow:global_step/sec: 6.24583\n",
      "INFO:tensorflow:loss = 34.53888, step = 399 (16.011 sec)\n",
      "INFO:tensorflow:global_step/sec: 6.55511\n",
      "INFO:tensorflow:loss = 34.53888, step = 499 (15.255 sec)\n",
      "INFO:tensorflow:global_step/sec: 6.73458\n",
      "INFO:tensorflow:loss = 34.53888, step = 599 (14.849 sec)\n",
      "INFO:tensorflow:global_step/sec: 6.83894\n",
      "INFO:tensorflow:loss = 34.53888, step = 699 (14.622 sec)\n",
      "INFO:tensorflow:global_step/sec: 6.3263\n",
      "INFO:tensorflow:loss = 34.53888, step = 799 (15.822 sec)\n",
      "INFO:tensorflow:global_step/sec: 6.44593\n",
      "INFO:tensorflow:loss = 34.53888, step = 899 (15.499 sec)\n",
      "INFO:tensorflow:global_step/sec: 6.3825\n",
      "INFO:tensorflow:loss = 34.53888, step = 999 (15.668 sec)\n",
      "INFO:tensorflow:global_step/sec: 6.85065\n",
      "INFO:tensorflow:loss = 34.53888, step = 1099 (14.597 sec)\n",
      "INFO:tensorflow:global_step/sec: 6.78511\n",
      "INFO:tensorflow:loss = 34.53888, step = 1199 (14.739 sec)\n",
      "INFO:tensorflow:global_step/sec: 6.8481\n",
      "INFO:tensorflow:loss = 34.53888, step = 1299 (14.602 sec)\n",
      "INFO:tensorflow:global_step/sec: 6.15151\n",
      "INFO:tensorflow:loss = 34.53888, step = 1399 (16.256 sec)\n",
      "INFO:tensorflow:global_step/sec: 6.46226\n",
      "INFO:tensorflow:loss = 34.53888, step = 1499 (15.475 sec)\n",
      "INFO:tensorflow:global_step/sec: 6.16141\n",
      "INFO:tensorflow:loss = 34.53888, step = 1599 (16.245 sec)\n",
      "INFO:tensorflow:global_step/sec: 6.41139\n",
      "INFO:tensorflow:loss = 34.53888, step = 1699 (15.581 sec)\n",
      "INFO:tensorflow:global_step/sec: 6.44271\n",
      "INFO:tensorflow:loss = 34.53888, step = 1799 (15.522 sec)\n",
      "INFO:tensorflow:global_step/sec: 6.49104\n",
      "INFO:tensorflow:loss = 34.53888, step = 1899 (15.405 sec)\n",
      "INFO:tensorflow:global_step/sec: 6.67055\n",
      "INFO:tensorflow:loss = 34.53888, step = 1999 (14.992 sec)\n",
      "INFO:tensorflow:Calling checkpoint listeners before saving checkpoint 2000...\n",
      "INFO:tensorflow:Saving checkpoints for 2000 into C:\\Users\\exomat\\AppData\\Local\\Temp\\tmpwsenucsr\\model.ckpt.\n",
      "WARNING:tensorflow:Issue encountered when serializing resources.\n",
      "Type is unsupported, or the types of the items don't match field type in CollectionDef. Note this is a warning and probably safe to ignore.\n",
      "'_Resource' object has no attribute 'name'\n",
      "INFO:tensorflow:Calling checkpoint listeners after saving checkpoint 2000...\n",
      "INFO:tensorflow:Loss for final step: 34.53888.\n",
      "INFO:tensorflow:Calling model_fn.\n",
      "INFO:tensorflow:Done calling model_fn.\n",
      "INFO:tensorflow:Starting evaluation at 2021-02-05T09:04:39Z\n",
      "INFO:tensorflow:Graph was finalized.\n",
      "INFO:tensorflow:Restoring parameters from C:\\Users\\exomat\\AppData\\Local\\Temp\\tmpwsenucsr\\model.ckpt-2000\n",
      "INFO:tensorflow:Running local_init_op.\n",
      "INFO:tensorflow:Done running local_init_op.\n",
      "INFO:tensorflow:Inference Time : 0.19853s\n",
      "INFO:tensorflow:Finished evaluation at 2021-02-05-09:04:39\n",
      "INFO:tensorflow:Saving dict for global step 2000: accuracy = 0.25, average_loss = 34.538776, global_step = 2000, loss = 34.538776\n",
      "WARNING:tensorflow:Issue encountered when serializing resources.\n",
      "Type is unsupported, or the types of the items don't match field type in CollectionDef. Note this is a warning and probably safe to ignore.\n",
      "'_Resource' object has no attribute 'name'\n",
      "INFO:tensorflow:Saving 'checkpoint_path' summary for global step 2000: C:\\Users\\exomat\\AppData\\Local\\Temp\\tmpwsenucsr\\model.ckpt-2000\n"
     ]
    },
    {
     "data": {
      "text/plain": "{'accuracy': 0.25,\n 'average_loss': 34.538776,\n 'loss': 34.538776,\n 'global_step': 2000}"
     },
     "execution_count": 26,
     "metadata": {},
     "output_type": "execute_result"
    }
   ],
   "source": [
    "est.train(train_input_fn, max_steps=2000)\n",
    "result = est.evaluate(eval_input_fn)\n",
    "result"
   ],
   "metadata": {
    "collapsed": false,
    "pycharm": {
     "name": "#%%\n"
    }
   }
  }
 ],
 "metadata": {
  "kernelspec": {
   "name": "magisterka_analiza",
   "language": "python",
   "display_name": "Python magisterka"
  },
  "language_info": {
   "codemirror_mode": {
    "name": "ipython",
    "version": 2
   },
   "file_extension": ".py",
   "mimetype": "text/x-python",
   "name": "python",
   "nbconvert_exporter": "python",
   "pygments_lexer": "ipython2",
   "version": "2.7.6"
  }
 },
 "nbformat": 4,
 "nbformat_minor": 0
}