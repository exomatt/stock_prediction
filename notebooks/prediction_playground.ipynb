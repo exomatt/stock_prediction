{
 "cells": [
  {
   "cell_type": "code",
   "execution_count": 366,
   "metadata": {
    "collapsed": true
   },
   "outputs": [],
   "source": [
    "import yfinance as yf\n",
    "from datetime import datetime\n",
    "import pandas as pd\n",
    "import numpy as np\n",
    "import matplotlib.pyplot as plt\n",
    "from finta import TA\n",
    "import numpy as np\n",
    "from sklearn.ensemble import RandomForestClassifier, VotingClassifier\n",
    "from sklearn.model_selection import GridSearchCV, train_test_split\n",
    "from sklearn.tree import DecisionTreeClassifier\n",
    "from sklearn.ensemble import GradientBoostingClassifier\n",
    "from sklearn.metrics import confusion_matrix, classification_report, accuracy_score\n",
    "from sklearn.metrics import jaccard_score\n",
    "import seaborn as sn\n",
    "from tabulate import tabulate\n",
    "import tensorflow as tf"
   ]
  },
  {
   "cell_type": "code",
   "execution_count": 367,
   "outputs": [],
   "source": [
    "WINDOW = 1 # number of rows to look ahead to see what the price did\n",
    "FETCH_INTERVAL = \"60m\"  # fetch data by interval (including intraday if period < 60 days)\n",
    "        # valid intervals: 1m,2m,5m,15m,30m,60m,90m,1h,1d,5d,1wk,1mo,3mo\n",
    "        # (optional, default is '1d')\n",
    "INTERVAL = '1y'     # use \"period\" instead of start/end\n",
    "        # valid periods: 1d,5d,1mo,3mo,6mo,1y,2y,5y,10y,ytd,max\n",
    "        # (optional, default is '1mo')\n",
    "symbol = 'FB'      # Symbol of the desired stock\n",
    "INDICATORS = ['RSI', 'MACD', 'STOCH','ADL', 'ATR', 'MOM', 'MFI', 'ROC', 'CCI', 'VORTEX']\n",
    "ROWS_TO_PREDICT = 16"
   ],
   "metadata": {
    "collapsed": false,
    "pycharm": {
     "name": "#%%\n"
    }
   }
  },
  {
   "cell_type": "code",
   "execution_count": 368,
   "outputs": [
    {
     "name": "stdout",
     "output_type": "stream",
     "text": [
      "[*********************100%***********************]  1 of 1 completed\n"
     ]
    },
    {
     "data": {
      "text/plain": "                                 Open        High         Low       Close  \\\nDatetime                                                                    \n2020-02-05 04:00:00-05:00  211.200000  212.030000  210.850000  212.030000   \n2020-02-05 05:00:00-05:00  212.480000  213.000000  212.130000  212.300000   \n2020-02-05 06:00:00-05:00  212.150000  212.290000  212.080000  212.200000   \n2020-02-05 07:00:00-05:00  212.310000  212.320000  211.700000  212.250000   \n2020-02-05 08:00:00-05:00  212.220000  212.710000  211.700100  212.660000   \n...                               ...         ...         ...         ...   \n2021-02-04 15:30:00-05:00  265.684296  266.649994  265.387299  266.619995   \n2021-02-04 16:00:00-05:00  266.630000  275.745000  265.620000  266.300000   \n2021-02-04 17:00:00-05:00  266.330000  266.490000  252.051000  266.100000   \n2021-02-04 18:00:00-05:00  266.090000  266.290000  265.550000  265.930000   \n2021-02-04 19:00:00-05:00  265.850000  265.850000  265.850000  265.850000   \n\n                            Adj Close   Volume  \nDatetime                                        \n2020-02-05 04:00:00-05:00  212.030000        0  \n2020-02-05 05:00:00-05:00  212.300000        0  \n2020-02-05 06:00:00-05:00  212.200000        0  \n2020-02-05 07:00:00-05:00  212.250000        0  \n2020-02-05 08:00:00-05:00  212.660000        0  \n...                               ...      ...  \n2021-02-04 15:30:00-05:00  266.619995  1684009  \n2021-02-04 16:00:00-05:00  266.300000  1353802  \n2021-02-04 17:00:00-05:00  266.100000        0  \n2021-02-04 18:00:00-05:00  265.930000        0  \n2021-02-04 19:00:00-05:00  265.850000        0  \n\n[4145 rows x 6 columns]",
      "text/html": "<div>\n<style scoped>\n    .dataframe tbody tr th:only-of-type {\n        vertical-align: middle;\n    }\n\n    .dataframe tbody tr th {\n        vertical-align: top;\n    }\n\n    .dataframe thead th {\n        text-align: right;\n    }\n</style>\n<table border=\"1\" class=\"dataframe\">\n  <thead>\n    <tr style=\"text-align: right;\">\n      <th></th>\n      <th>Open</th>\n      <th>High</th>\n      <th>Low</th>\n      <th>Close</th>\n      <th>Adj Close</th>\n      <th>Volume</th>\n    </tr>\n    <tr>\n      <th>Datetime</th>\n      <th></th>\n      <th></th>\n      <th></th>\n      <th></th>\n      <th></th>\n      <th></th>\n    </tr>\n  </thead>\n  <tbody>\n    <tr>\n      <th>2020-02-05 04:00:00-05:00</th>\n      <td>211.200000</td>\n      <td>212.030000</td>\n      <td>210.850000</td>\n      <td>212.030000</td>\n      <td>212.030000</td>\n      <td>0</td>\n    </tr>\n    <tr>\n      <th>2020-02-05 05:00:00-05:00</th>\n      <td>212.480000</td>\n      <td>213.000000</td>\n      <td>212.130000</td>\n      <td>212.300000</td>\n      <td>212.300000</td>\n      <td>0</td>\n    </tr>\n    <tr>\n      <th>2020-02-05 06:00:00-05:00</th>\n      <td>212.150000</td>\n      <td>212.290000</td>\n      <td>212.080000</td>\n      <td>212.200000</td>\n      <td>212.200000</td>\n      <td>0</td>\n    </tr>\n    <tr>\n      <th>2020-02-05 07:00:00-05:00</th>\n      <td>212.310000</td>\n      <td>212.320000</td>\n      <td>211.700000</td>\n      <td>212.250000</td>\n      <td>212.250000</td>\n      <td>0</td>\n    </tr>\n    <tr>\n      <th>2020-02-05 08:00:00-05:00</th>\n      <td>212.220000</td>\n      <td>212.710000</td>\n      <td>211.700100</td>\n      <td>212.660000</td>\n      <td>212.660000</td>\n      <td>0</td>\n    </tr>\n    <tr>\n      <th>...</th>\n      <td>...</td>\n      <td>...</td>\n      <td>...</td>\n      <td>...</td>\n      <td>...</td>\n      <td>...</td>\n    </tr>\n    <tr>\n      <th>2021-02-04 15:30:00-05:00</th>\n      <td>265.684296</td>\n      <td>266.649994</td>\n      <td>265.387299</td>\n      <td>266.619995</td>\n      <td>266.619995</td>\n      <td>1684009</td>\n    </tr>\n    <tr>\n      <th>2021-02-04 16:00:00-05:00</th>\n      <td>266.630000</td>\n      <td>275.745000</td>\n      <td>265.620000</td>\n      <td>266.300000</td>\n      <td>266.300000</td>\n      <td>1353802</td>\n    </tr>\n    <tr>\n      <th>2021-02-04 17:00:00-05:00</th>\n      <td>266.330000</td>\n      <td>266.490000</td>\n      <td>252.051000</td>\n      <td>266.100000</td>\n      <td>266.100000</td>\n      <td>0</td>\n    </tr>\n    <tr>\n      <th>2021-02-04 18:00:00-05:00</th>\n      <td>266.090000</td>\n      <td>266.290000</td>\n      <td>265.550000</td>\n      <td>265.930000</td>\n      <td>265.930000</td>\n      <td>0</td>\n    </tr>\n    <tr>\n      <th>2021-02-04 19:00:00-05:00</th>\n      <td>265.850000</td>\n      <td>265.850000</td>\n      <td>265.850000</td>\n      <td>265.850000</td>\n      <td>265.850000</td>\n      <td>0</td>\n    </tr>\n  </tbody>\n</table>\n<p>4145 rows × 6 columns</p>\n</div>"
     },
     "execution_count": 368,
     "metadata": {},
     "output_type": "execute_result"
    }
   ],
   "source": [
    "data = yf.download(  # or pdr.get_data_yahoo(...\n",
    "        tickers = symbol,\n",
    "\n",
    "\n",
    "        period = INTERVAL,\n",
    "\n",
    "        interval = FETCH_INTERVAL,\n",
    "\n",
    "        # group by ticker (to access via data['SPY'])\n",
    "        # (optional, default is 'column')\n",
    "        group_by = 'ticker',\n",
    "\n",
    "        # adjust all OHLC automatically\n",
    "        # (optional, default is False)\n",
    "        # auto_adjust = True,\n",
    "\n",
    "        # download pre/post regular market hours data\n",
    "        # (optional, default is False)\n",
    "        prepost = True,\n",
    "\n",
    "        # use threads for mass downloading? (True/False/Integer)\n",
    "        # (optional, default is True)\n",
    "        threads = True,\n",
    "\n",
    "        # proxy URL scheme use use when downloading?\n",
    "        # (optional, default is None)\n",
    "        proxy = None\n",
    "    )\n",
    "data"
   ],
   "metadata": {
    "collapsed": false,
    "pycharm": {
     "name": "#%%\n"
    }
   }
  },
  {
   "cell_type": "code",
   "execution_count": 369,
   "outputs": [
    {
     "data": {
      "text/plain": "                                 open        high         low       close  \\\nDatetime                                                                    \n2020-02-05 04:00:00-05:00  211.200000  212.030000  210.850000  212.030000   \n2020-02-05 05:00:00-05:00  212.480000  213.000000  212.130000  212.300000   \n2020-02-05 06:00:00-05:00  212.150000  212.290000  212.080000  212.200000   \n2020-02-05 07:00:00-05:00  212.310000  212.320000  211.700000  212.250000   \n2020-02-05 08:00:00-05:00  212.220000  212.710000  211.700100  212.660000   \n2020-02-05 09:00:00-05:00  212.670000  213.200000  212.420000  212.480000   \n2020-02-05 09:30:00-05:00  212.509995  212.729996  210.139999  210.414993   \n2020-02-05 10:30:00-05:00  210.410004  210.410004  208.770004  209.919998   \n2020-02-05 11:30:00-05:00  209.916794  210.277695  209.600006  209.989807   \n2020-02-05 12:30:00-05:00  210.000000  210.289993  209.608307  209.960007   \n\n                            Adj Close   volume  \nDatetime                                        \n2020-02-05 04:00:00-05:00  212.030000        0  \n2020-02-05 05:00:00-05:00  212.300000        0  \n2020-02-05 06:00:00-05:00  212.200000        0  \n2020-02-05 07:00:00-05:00  212.250000        0  \n2020-02-05 08:00:00-05:00  212.660000        0  \n2020-02-05 09:00:00-05:00  212.480000        0  \n2020-02-05 09:30:00-05:00  210.414993  3634995  \n2020-02-05 10:30:00-05:00  209.919998  1788886  \n2020-02-05 11:30:00-05:00  209.989807  1099488  \n2020-02-05 12:30:00-05:00  209.960007   737787  ",
      "text/html": "<div>\n<style scoped>\n    .dataframe tbody tr th:only-of-type {\n        vertical-align: middle;\n    }\n\n    .dataframe tbody tr th {\n        vertical-align: top;\n    }\n\n    .dataframe thead th {\n        text-align: right;\n    }\n</style>\n<table border=\"1\" class=\"dataframe\">\n  <thead>\n    <tr style=\"text-align: right;\">\n      <th></th>\n      <th>open</th>\n      <th>high</th>\n      <th>low</th>\n      <th>close</th>\n      <th>Adj Close</th>\n      <th>volume</th>\n    </tr>\n    <tr>\n      <th>Datetime</th>\n      <th></th>\n      <th></th>\n      <th></th>\n      <th></th>\n      <th></th>\n      <th></th>\n    </tr>\n  </thead>\n  <tbody>\n    <tr>\n      <th>2020-02-05 04:00:00-05:00</th>\n      <td>211.200000</td>\n      <td>212.030000</td>\n      <td>210.850000</td>\n      <td>212.030000</td>\n      <td>212.030000</td>\n      <td>0</td>\n    </tr>\n    <tr>\n      <th>2020-02-05 05:00:00-05:00</th>\n      <td>212.480000</td>\n      <td>213.000000</td>\n      <td>212.130000</td>\n      <td>212.300000</td>\n      <td>212.300000</td>\n      <td>0</td>\n    </tr>\n    <tr>\n      <th>2020-02-05 06:00:00-05:00</th>\n      <td>212.150000</td>\n      <td>212.290000</td>\n      <td>212.080000</td>\n      <td>212.200000</td>\n      <td>212.200000</td>\n      <td>0</td>\n    </tr>\n    <tr>\n      <th>2020-02-05 07:00:00-05:00</th>\n      <td>212.310000</td>\n      <td>212.320000</td>\n      <td>211.700000</td>\n      <td>212.250000</td>\n      <td>212.250000</td>\n      <td>0</td>\n    </tr>\n    <tr>\n      <th>2020-02-05 08:00:00-05:00</th>\n      <td>212.220000</td>\n      <td>212.710000</td>\n      <td>211.700100</td>\n      <td>212.660000</td>\n      <td>212.660000</td>\n      <td>0</td>\n    </tr>\n    <tr>\n      <th>2020-02-05 09:00:00-05:00</th>\n      <td>212.670000</td>\n      <td>213.200000</td>\n      <td>212.420000</td>\n      <td>212.480000</td>\n      <td>212.480000</td>\n      <td>0</td>\n    </tr>\n    <tr>\n      <th>2020-02-05 09:30:00-05:00</th>\n      <td>212.509995</td>\n      <td>212.729996</td>\n      <td>210.139999</td>\n      <td>210.414993</td>\n      <td>210.414993</td>\n      <td>3634995</td>\n    </tr>\n    <tr>\n      <th>2020-02-05 10:30:00-05:00</th>\n      <td>210.410004</td>\n      <td>210.410004</td>\n      <td>208.770004</td>\n      <td>209.919998</td>\n      <td>209.919998</td>\n      <td>1788886</td>\n    </tr>\n    <tr>\n      <th>2020-02-05 11:30:00-05:00</th>\n      <td>209.916794</td>\n      <td>210.277695</td>\n      <td>209.600006</td>\n      <td>209.989807</td>\n      <td>209.989807</td>\n      <td>1099488</td>\n    </tr>\n    <tr>\n      <th>2020-02-05 12:30:00-05:00</th>\n      <td>210.000000</td>\n      <td>210.289993</td>\n      <td>209.608307</td>\n      <td>209.960007</td>\n      <td>209.960007</td>\n      <td>737787</td>\n    </tr>\n  </tbody>\n</table>\n</div>"
     },
     "execution_count": 369,
     "metadata": {},
     "output_type": "execute_result"
    }
   ],
   "source": [
    "data.rename(columns={\"Close\": 'close', \"High\": 'high', \"Low\": 'low', 'Volume': 'volume', 'Open': 'open'}, inplace=True)\n",
    "data.head(10)"
   ],
   "metadata": {
    "collapsed": false,
    "pycharm": {
     "name": "#%%\n"
    }
   }
  },
  {
   "cell_type": "code",
   "execution_count": 370,
   "outputs": [
    {
     "data": {
      "text/plain": "<AxesSubplot:xlabel='Datetime'>"
     },
     "execution_count": 370,
     "metadata": {},
     "output_type": "execute_result"
    },
    {
     "data": {
      "text/plain": "<Figure size 432x288 with 1 Axes>",
      "image/png": "[encoded data removed]"
     },
     "metadata": {
      "needs_background": "light"
     },
     "output_type": "display_data"
    }
   ],
   "source": [
    "data['close'].plot()"
   ],
   "metadata": {
    "collapsed": false,
    "pycharm": {
     "name": "#%%\n"
    }
   }
  },
  {
   "cell_type": "code",
   "execution_count": 371,
   "outputs": [],
   "source": [
    "def _get_indicator_data(data):\n",
    "    \"\"\"\n",
    "    Function that uses the finta API to calculate technical indicators used as the features\n",
    "    :return:\n",
    "    \"\"\"\n",
    "    for indicator in INDICATORS:\n",
    "        ind_data = eval('TA.' + indicator + '(data)')\n",
    "        if not isinstance(ind_data, pd.DataFrame):\n",
    "            ind_data = ind_data.to_frame()\n",
    "        data = pd.concat([data, ind_data], axis=1)\n",
    "    data.rename(columns={\"14 period EMV.\": '14 period EMV'}, inplace=True)\n",
    "\n",
    "    # Also calculate moving averages for features\n",
    "    data['ema50'] = data['close'] / data['close'].ewm(50).mean()\n",
    "    data['ema21'] = data['close'] / data['close'].ewm(21).mean()\n",
    "    data['ema15'] = data['close'] / data['close'].ewm(ROWS_TO_PREDICT).mean()\n",
    "    data['ema5'] = data['close'] / data['close'].ewm(5).mean()\n",
    "\n",
    "    # Instead of using the actual volume value (which changes over time), we normalize it with a moving volume average\n",
    "    data['normVol'] = data['volume'] / data['volume'].ewm(5).mean()\n",
    "\n",
    "    # Remove columns that won't be used as features\n",
    "    del (data['open'])\n",
    "    del (data['high'])\n",
    "    del (data['low'])\n",
    "    del (data['volume'])\n",
    "    del (data['Adj Close'])\n",
    "\n",
    "    return data\n",
    "\n",
    "data = _get_indicator_data(data)"
   ],
   "metadata": {
    "collapsed": false,
    "pycharm": {
     "name": "#%%\n"
    }
   }
  },
  {
   "cell_type": "code",
   "execution_count": 372,
   "outputs": [
    {
     "data": {
      "text/plain": "                                close  14 period RSI      MACD    SIGNAL  \\\nDatetime                                                                   \n2020-02-05 04:00:00-05:00  212.030000            NaN  0.000000  0.000000   \n2020-02-05 05:00:00-05:00  212.300000     100.000000  0.006058  0.003365   \n2020-02-05 06:00:00-05:00  212.200000      71.486762  0.004618  0.003879   \n2020-02-05 07:00:00-05:00  212.250000      75.281814  0.005655  0.004480   \n2020-02-05 08:00:00-05:00  212.660000      88.637182  0.022414  0.009815   \n...                               ...            ...       ...       ...   \n2021-02-04 15:30:00-05:00  266.619995      51.470070 -0.125616  0.036229   \n2021-02-04 16:00:00-05:00  266.300000      49.825296 -0.109720  0.007039   \n2021-02-04 17:00:00-05:00  266.100000      48.776163 -0.111970 -0.016763   \n2021-02-04 18:00:00-05:00  265.930000      47.853803 -0.126018 -0.038614   \n2021-02-04 19:00:00-05:00  265.850000      47.399555 -0.141970 -0.059285   \n\n                           14 period STOCH %K           MFV  14 period ATR  \\\nDatetime                                                                     \n2020-02-05 04:00:00-05:00                 NaN  0.000000e+00            NaN   \n2020-02-05 05:00:00-05:00                 NaN  0.000000e+00            NaN   \n2020-02-05 06:00:00-05:00                 NaN  0.000000e+00            NaN   \n2020-02-05 07:00:00-05:00                 NaN  0.000000e+00            NaN   \n2020-02-05 08:00:00-05:00                 NaN  0.000000e+00            NaN   \n...                                       ...           ...            ...   \n2021-02-04 15:30:00-05:00           58.351784  7.092026e+09       1.389115   \n2021-02-04 16:00:00-05:00           19.582801  7.091683e+09       2.076615   \n2021-02-04 17:00:00-05:00           59.293492  7.091683e+09       3.060829   \n2021-02-04 18:00:00-05:00           58.576011  7.091683e+09       3.065115   \n2021-02-04 19:00:00-05:00           58.238373           NaN       3.018686   \n\n                                MOM  14 period MFI       ROC  20 period CCI  \\\nDatetime                                                                      \n2020-02-05 04:00:00-05:00       NaN            NaN       NaN            NaN   \n2020-02-05 05:00:00-05:00       NaN            NaN       NaN      66.666667   \n2020-02-05 06:00:00-05:00       NaN            NaN       NaN      19.138756   \n2020-02-05 07:00:00-05:00       NaN            NaN       NaN      -2.364066   \n2020-02-05 08:00:00-05:00       NaN            NaN       NaN      60.083874   \n...                             ...            ...       ...            ...   \n2021-02-04 15:30:00-05:00 -0.430005      20.495267 -0.112395     -43.865056   \n2021-02-04 16:00:00-05:00 -1.160000      27.614602 -0.071297     218.368909   \n2021-02-04 17:00:00-05:00 -2.200000      27.614602 -0.355739    -320.961344   \n2021-02-04 18:00:00-05:00 -1.200000      27.614602 -0.572048     -28.901920   \n2021-02-04 19:00:00-05:00  0.749994      27.614602 -0.913157     -30.029574   \n\n                                VIm       VIp     ema50     ema21     ema15  \\\nDatetime                                                                      \n2020-02-05 04:00:00-05:00       NaN       NaN  1.000000  1.000000  1.000000   \n2020-02-05 05:00:00-05:00       NaN       NaN  1.000630  1.000621  1.000617   \n2020-02-05 06:00:00-05:00       NaN       NaN  1.000105  1.000098  1.000094   \n2020-02-05 07:00:00-05:00       NaN       NaN  1.000253  1.000244  1.000240   \n2020-02-05 08:00:00-05:00       NaN       NaN  1.001730  1.001699  1.001682   \n...                             ...       ...       ...       ...       ...   \n2021-02-04 15:30:00-05:00  1.025710  0.932501  0.999512  1.001552  1.001292   \n2021-02-04 16:00:00-05:00  0.704361  0.964571  0.998346  1.000334  1.000085   \n2021-02-04 17:00:00-05:00  1.019369  0.659079  0.997643  0.999602  0.999373   \n2021-02-04 18:00:00-05:00  1.016080  0.982522  0.997064  0.999010  0.998809   \n2021-02-04 19:00:00-05:00  1.029341  0.984146  0.996827  0.998768  0.998596   \n\n                               ema5   normVol  \nDatetime                                       \n2020-02-05 04:00:00-05:00  1.000000       NaN  \n2020-02-05 05:00:00-05:00  1.000578       NaN  \n2020-02-05 06:00:00-05:00  1.000065       NaN  \n2020-02-05 07:00:00-05:00  1.000204       NaN  \n2020-02-05 08:00:00-05:00  1.001540       NaN  \n...                             ...       ...  \n2021-02-04 15:30:00-05:00  1.001632  1.204844  \n2021-02-04 16:00:00-05:00  1.000358  0.973690  \n2021-02-04 17:00:00-05:00  0.999672  0.000000  \n2021-02-04 18:00:00-05:00  0.999195  0.000000  \n2021-02-04 19:00:00-05:00  0.999078  0.000000  \n\n[4145 rows x 18 columns]",
      "text/html": "<div>\n<style scoped>\n    .dataframe tbody tr th:only-of-type {\n        vertical-align: middle;\n    }\n\n    .dataframe tbody tr th {\n        vertical-align: top;\n    }\n\n    .dataframe thead th {\n        text-align: right;\n    }\n</style>\n<table border=\"1\" class=\"dataframe\">\n  <thead>\n    <tr style=\"text-align: right;\">\n      <th></th>\n      <th>close</th>\n      <th>14 period RSI</th>\n      <th>MACD</th>\n      <th>SIGNAL</th>\n      <th>14 period STOCH %K</th>\n      <th>MFV</th>\n      <th>14 period ATR</th>\n      <th>MOM</th>\n      <th>14 period MFI</th>\n      <th>ROC</th>\n      <th>20 period CCI</th>\n      <th>VIm</th>\n      <th>VIp</th>\n      <th>ema50</th>\n      <th>ema21</th>\n      <th>ema15</th>\n      <th>ema5</th>\n      <th>normVol</th>\n    </tr>\n    <tr>\n      <th>Datetime</th>\n      <th></th>\n      <th></th>\n      <th></th>\n      <th></th>\n      <th></th>\n      <th></th>\n      <th></th>\n      <th></th>\n      <th></th>\n      <th></th>\n      <th></th>\n      <th></th>\n      <th></th>\n      <th></th>\n      <th></th>\n      <th></th>\n      <th></th>\n      <th></th>\n    </tr>\n  </thead>\n  <tbody>\n    <tr>\n      <th>2020-02-05 04:00:00-05:00</th>\n      <td>212.030000</td>\n      <td>NaN</td>\n      <td>0.000000</td>\n      <td>0.000000</td>\n      <td>NaN</td>\n      <td>0.000000e+00</td>\n      <td>NaN</td>\n      <td>NaN</td>\n      <td>NaN</td>\n      <td>NaN</td>\n      <td>NaN</td>\n      <td>NaN</td>\n      <td>NaN</td>\n      <td>1.000000</td>\n      <td>1.000000</td>\n      <td>1.000000</td>\n      <td>1.000000</td>\n      <td>NaN</td>\n    </tr>\n    <tr>\n      <th>2020-02-05 05:00:00-05:00</th>\n      <td>212.300000</td>\n      <td>100.000000</td>\n      <td>0.006058</td>\n      <td>0.003365</td>\n      <td>NaN</td>\n      <td>0.000000e+00</td>\n      <td>NaN</td>\n      <td>NaN</td>\n      <td>NaN</td>\n      <td>NaN</td>\n      <td>66.666667</td>\n      <td>NaN</td>\n      <td>NaN</td>\n      <td>1.000630</td>\n      <td>1.000621</td>\n      <td>1.000617</td>\n      <td>1.000578</td>\n      <td>NaN</td>\n    </tr>\n    <tr>\n      <th>2020-02-05 06:00:00-05:00</th>\n      <td>212.200000</td>\n      <td>71.486762</td>\n      <td>0.004618</td>\n      <td>0.003879</td>\n      <td>NaN</td>\n      <td>0.000000e+00</td>\n      <td>NaN</td>\n      <td>NaN</td>\n      <td>NaN</td>\n      <td>NaN</td>\n      <td>19.138756</td>\n      <td>NaN</td>\n      <td>NaN</td>\n      <td>1.000105</td>\n      <td>1.000098</td>\n      <td>1.000094</td>\n      <td>1.000065</td>\n      <td>NaN</td>\n    </tr>\n    <tr>\n      <th>2020-02-05 07:00:00-05:00</th>\n      <td>212.250000</td>\n      <td>75.281814</td>\n      <td>0.005655</td>\n      <td>0.004480</td>\n      <td>NaN</td>\n      <td>0.000000e+00</td>\n      <td>NaN</td>\n      <td>NaN</td>\n      <td>NaN</td>\n      <td>NaN</td>\n      <td>-2.364066</td>\n      <td>NaN</td>\n      <td>NaN</td>\n      <td>1.000253</td>\n      <td>1.000244</td>\n      <td>1.000240</td>\n      <td>1.000204</td>\n      <td>NaN</td>\n    </tr>\n    <tr>\n      <th>2020-02-05 08:00:00-05:00</th>\n      <td>212.660000</td>\n      <td>88.637182</td>\n      <td>0.022414</td>\n      <td>0.009815</td>\n      <td>NaN</td>\n      <td>0.000000e+00</td>\n      <td>NaN</td>\n      <td>NaN</td>\n      <td>NaN</td>\n      <td>NaN</td>\n      <td>60.083874</td>\n      <td>NaN</td>\n      <td>NaN</td>\n      <td>1.001730</td>\n      <td>1.001699</td>\n      <td>1.001682</td>\n      <td>1.001540</td>\n      <td>NaN</td>\n    </tr>\n    <tr>\n      <th>...</th>\n      <td>...</td>\n      <td>...</td>\n      <td>...</td>\n      <td>...</td>\n      <td>...</td>\n      <td>...</td>\n      <td>...</td>\n      <td>...</td>\n      <td>...</td>\n      <td>...</td>\n      <td>...</td>\n      <td>...</td>\n      <td>...</td>\n      <td>...</td>\n      <td>...</td>\n      <td>...</td>\n      <td>...</td>\n      <td>...</td>\n    </tr>\n    <tr>\n      <th>2021-02-04 15:30:00-05:00</th>\n      <td>266.619995</td>\n      <td>51.470070</td>\n      <td>-0.125616</td>\n      <td>0.036229</td>\n      <td>58.351784</td>\n      <td>7.092026e+09</td>\n      <td>1.389115</td>\n      <td>-0.430005</td>\n      <td>20.495267</td>\n      <td>-0.112395</td>\n      <td>-43.865056</td>\n      <td>1.025710</td>\n      <td>0.932501</td>\n      <td>0.999512</td>\n      <td>1.001552</td>\n      <td>1.001292</td>\n      <td>1.001632</td>\n      <td>1.204844</td>\n    </tr>\n    <tr>\n      <th>2021-02-04 16:00:00-05:00</th>\n      <td>266.300000</td>\n      <td>49.825296</td>\n      <td>-0.109720</td>\n      <td>0.007039</td>\n      <td>19.582801</td>\n      <td>7.091683e+09</td>\n      <td>2.076615</td>\n      <td>-1.160000</td>\n      <td>27.614602</td>\n      <td>-0.071297</td>\n      <td>218.368909</td>\n      <td>0.704361</td>\n      <td>0.964571</td>\n      <td>0.998346</td>\n      <td>1.000334</td>\n      <td>1.000085</td>\n      <td>1.000358</td>\n      <td>0.973690</td>\n    </tr>\n    <tr>\n      <th>2021-02-04 17:00:00-05:00</th>\n      <td>266.100000</td>\n      <td>48.776163</td>\n      <td>-0.111970</td>\n      <td>-0.016763</td>\n      <td>59.293492</td>\n      <td>7.091683e+09</td>\n      <td>3.060829</td>\n      <td>-2.200000</td>\n      <td>27.614602</td>\n      <td>-0.355739</td>\n      <td>-320.961344</td>\n      <td>1.019369</td>\n      <td>0.659079</td>\n      <td>0.997643</td>\n      <td>0.999602</td>\n      <td>0.999373</td>\n      <td>0.999672</td>\n      <td>0.000000</td>\n    </tr>\n    <tr>\n      <th>2021-02-04 18:00:00-05:00</th>\n      <td>265.930000</td>\n      <td>47.853803</td>\n      <td>-0.126018</td>\n      <td>-0.038614</td>\n      <td>58.576011</td>\n      <td>7.091683e+09</td>\n      <td>3.065115</td>\n      <td>-1.200000</td>\n      <td>27.614602</td>\n      <td>-0.572048</td>\n      <td>-28.901920</td>\n      <td>1.016080</td>\n      <td>0.982522</td>\n      <td>0.997064</td>\n      <td>0.999010</td>\n      <td>0.998809</td>\n      <td>0.999195</td>\n      <td>0.000000</td>\n    </tr>\n    <tr>\n      <th>2021-02-04 19:00:00-05:00</th>\n      <td>265.850000</td>\n      <td>47.399555</td>\n      <td>-0.141970</td>\n      <td>-0.059285</td>\n      <td>58.238373</td>\n      <td>NaN</td>\n      <td>3.018686</td>\n      <td>0.749994</td>\n      <td>27.614602</td>\n      <td>-0.913157</td>\n      <td>-30.029574</td>\n      <td>1.029341</td>\n      <td>0.984146</td>\n      <td>0.996827</td>\n      <td>0.998768</td>\n      <td>0.998596</td>\n      <td>0.999078</td>\n      <td>0.000000</td>\n    </tr>\n  </tbody>\n</table>\n<p>4145 rows × 18 columns</p>\n</div>"
     },
     "execution_count": 372,
     "metadata": {},
     "output_type": "execute_result"
    }
   ],
   "source": [
    "data"
   ],
   "metadata": {
    "collapsed": false,
    "pycharm": {
     "name": "#%%\n"
    }
   }
  },
  {
   "cell_type": "code",
   "execution_count": 373,
   "outputs": [
    {
     "data": {
      "text/plain": "Index(['close', '14 period RSI', 'MACD', 'SIGNAL', '14 period STOCH %K', 'MFV',\n       '14 period ATR', 'MOM', '14 period MFI', 'ROC', '20 period CCI', 'VIm',\n       'VIp', 'ema50', 'ema21', 'ema15', 'ema5', 'normVol'],\n      dtype='object')"
     },
     "execution_count": 373,
     "metadata": {},
     "output_type": "execute_result"
    }
   ],
   "source": [
    "data.columns"
   ],
   "metadata": {
    "collapsed": false,
    "pycharm": {
     "name": "#%%\n"
    }
   }
  },
  {
   "cell_type": "code",
   "execution_count": 374,
   "outputs": [],
   "source": [
    "def create_class_column(row):\n",
    "    if row['close_shift']-row['close'] > 0.35:\n",
    "        return 1\n",
    "    if row['close_shift'] -row['close']< -0.35:\n",
    "        return 2\n",
    "    else:\n",
    "        return 0"
   ],
   "metadata": {
    "collapsed": false,
    "pycharm": {
     "name": "#%%\n"
    }
   }
  },
  {
   "cell_type": "code",
   "execution_count": 375,
   "outputs": [
    {
     "data": {
      "text/plain": "                                close  14 period RSI      MACD    SIGNAL  \\\nDatetime                                                                   \n2020-02-05 04:00:00-05:00  212.030000            NaN  0.000000  0.000000   \n2020-02-05 05:00:00-05:00  212.300000     100.000000  0.006058  0.003365   \n2020-02-05 06:00:00-05:00  212.200000      71.486762  0.004618  0.003879   \n2020-02-05 07:00:00-05:00  212.250000      75.281814  0.005655  0.004480   \n2020-02-05 08:00:00-05:00  212.660000      88.637182  0.022414  0.009815   \n...                               ...            ...       ...       ...   \n2021-02-04 15:30:00-05:00  266.619995      51.470070 -0.125616  0.036229   \n2021-02-04 16:00:00-05:00  266.300000      49.825296 -0.109720  0.007039   \n2021-02-04 17:00:00-05:00  266.100000      48.776163 -0.111970 -0.016763   \n2021-02-04 18:00:00-05:00  265.930000      47.853803 -0.126018 -0.038614   \n2021-02-04 19:00:00-05:00  265.850000      47.399555 -0.141970 -0.059285   \n\n                           14 period STOCH %K           MFV  14 period ATR  \\\nDatetime                                                                     \n2020-02-05 04:00:00-05:00                 NaN  0.000000e+00            NaN   \n2020-02-05 05:00:00-05:00                 NaN  0.000000e+00            NaN   \n2020-02-05 06:00:00-05:00                 NaN  0.000000e+00            NaN   \n2020-02-05 07:00:00-05:00                 NaN  0.000000e+00            NaN   \n2020-02-05 08:00:00-05:00                 NaN  0.000000e+00            NaN   \n...                                       ...           ...            ...   \n2021-02-04 15:30:00-05:00           58.351784  7.092026e+09       1.389115   \n2021-02-04 16:00:00-05:00           19.582801  7.091683e+09       2.076615   \n2021-02-04 17:00:00-05:00           59.293492  7.091683e+09       3.060829   \n2021-02-04 18:00:00-05:00           58.576011  7.091683e+09       3.065115   \n2021-02-04 19:00:00-05:00           58.238373           NaN       3.018686   \n\n                                MOM  14 period MFI       ROC  20 period CCI  \\\nDatetime                                                                      \n2020-02-05 04:00:00-05:00       NaN            NaN       NaN            NaN   \n2020-02-05 05:00:00-05:00       NaN            NaN       NaN      66.666667   \n2020-02-05 06:00:00-05:00       NaN            NaN       NaN      19.138756   \n2020-02-05 07:00:00-05:00       NaN            NaN       NaN      -2.364066   \n2020-02-05 08:00:00-05:00       NaN            NaN       NaN      60.083874   \n...                             ...            ...       ...            ...   \n2021-02-04 15:30:00-05:00 -0.430005      20.495267 -0.112395     -43.865056   \n2021-02-04 16:00:00-05:00 -1.160000      27.614602 -0.071297     218.368909   \n2021-02-04 17:00:00-05:00 -2.200000      27.614602 -0.355739    -320.961344   \n2021-02-04 18:00:00-05:00 -1.200000      27.614602 -0.572048     -28.901920   \n2021-02-04 19:00:00-05:00  0.749994      27.614602 -0.913157     -30.029574   \n\n                                VIm       VIp     ema50     ema21     ema15  \\\nDatetime                                                                      \n2020-02-05 04:00:00-05:00       NaN       NaN  1.000000  1.000000  1.000000   \n2020-02-05 05:00:00-05:00       NaN       NaN  1.000630  1.000621  1.000617   \n2020-02-05 06:00:00-05:00       NaN       NaN  1.000105  1.000098  1.000094   \n2020-02-05 07:00:00-05:00       NaN       NaN  1.000253  1.000244  1.000240   \n2020-02-05 08:00:00-05:00       NaN       NaN  1.001730  1.001699  1.001682   \n...                             ...       ...       ...       ...       ...   \n2021-02-04 15:30:00-05:00  1.025710  0.932501  0.999512  1.001552  1.001292   \n2021-02-04 16:00:00-05:00  0.704361  0.964571  0.998346  1.000334  1.000085   \n2021-02-04 17:00:00-05:00  1.019369  0.659079  0.997643  0.999602  0.999373   \n2021-02-04 18:00:00-05:00  1.016080  0.982522  0.997064  0.999010  0.998809   \n2021-02-04 19:00:00-05:00  1.029341  0.984146  0.996827  0.998768  0.998596   \n\n                               ema5   normVol  close_shift  \nDatetime                                                    \n2020-02-05 04:00:00-05:00  1.000000       NaN       212.30  \n2020-02-05 05:00:00-05:00  1.000578       NaN       212.20  \n2020-02-05 06:00:00-05:00  1.000065       NaN       212.25  \n2020-02-05 07:00:00-05:00  1.000204       NaN       212.66  \n2020-02-05 08:00:00-05:00  1.001540       NaN       212.48  \n...                             ...       ...          ...  \n2021-02-04 15:30:00-05:00  1.001632  1.204844       266.30  \n2021-02-04 16:00:00-05:00  1.000358  0.973690       266.10  \n2021-02-04 17:00:00-05:00  0.999672  0.000000       265.93  \n2021-02-04 18:00:00-05:00  0.999195  0.000000       265.85  \n2021-02-04 19:00:00-05:00  0.999078  0.000000          NaN  \n\n[4145 rows x 19 columns]",
      "text/html": "<div>\n<style scoped>\n    .dataframe tbody tr th:only-of-type {\n        vertical-align: middle;\n    }\n\n    .dataframe tbody tr th {\n        vertical-align: top;\n    }\n\n    .dataframe thead th {\n        text-align: right;\n    }\n</style>\n<table border=\"1\" class=\"dataframe\">\n  <thead>\n    <tr style=\"text-align: right;\">\n      <th></th>\n      <th>close</th>\n      <th>14 period RSI</th>\n      <th>MACD</th>\n      <th>SIGNAL</th>\n      <th>14 period STOCH %K</th>\n      <th>MFV</th>\n      <th>14 period ATR</th>\n      <th>MOM</th>\n      <th>14 period MFI</th>\n      <th>ROC</th>\n      <th>20 period CCI</th>\n      <th>VIm</th>\n      <th>VIp</th>\n      <th>ema50</th>\n      <th>ema21</th>\n      <th>ema15</th>\n      <th>ema5</th>\n      <th>normVol</th>\n      <th>close_shift</th>\n    </tr>\n    <tr>\n      <th>Datetime</th>\n      <th></th>\n      <th></th>\n      <th></th>\n      <th></th>\n      <th></th>\n      <th></th>\n      <th></th>\n      <th></th>\n      <th></th>\n      <th></th>\n      <th></th>\n      <th></th>\n      <th></th>\n      <th></th>\n      <th></th>\n      <th></th>\n      <th></th>\n      <th></th>\n      <th></th>\n    </tr>\n  </thead>\n  <tbody>\n    <tr>\n      <th>2020-02-05 04:00:00-05:00</th>\n      <td>212.030000</td>\n      <td>NaN</td>\n      <td>0.000000</td>\n      <td>0.000000</td>\n      <td>NaN</td>\n      <td>0.000000e+00</td>\n      <td>NaN</td>\n      <td>NaN</td>\n      <td>NaN</td>\n      <td>NaN</td>\n      <td>NaN</td>\n      <td>NaN</td>\n      <td>NaN</td>\n      <td>1.000000</td>\n      <td>1.000000</td>\n      <td>1.000000</td>\n      <td>1.000000</td>\n      <td>NaN</td>\n      <td>212.30</td>\n    </tr>\n    <tr>\n      <th>2020-02-05 05:00:00-05:00</th>\n      <td>212.300000</td>\n      <td>100.000000</td>\n      <td>0.006058</td>\n      <td>0.003365</td>\n      <td>NaN</td>\n      <td>0.000000e+00</td>\n      <td>NaN</td>\n      <td>NaN</td>\n      <td>NaN</td>\n      <td>NaN</td>\n      <td>66.666667</td>\n      <td>NaN</td>\n      <td>NaN</td>\n      <td>1.000630</td>\n      <td>1.000621</td>\n      <td>1.000617</td>\n      <td>1.000578</td>\n      <td>NaN</td>\n      <td>212.20</td>\n    </tr>\n    <tr>\n      <th>2020-02-05 06:00:00-05:00</th>\n      <td>212.200000</td>\n      <td>71.486762</td>\n      <td>0.004618</td>\n      <td>0.003879</td>\n      <td>NaN</td>\n      <td>0.000000e+00</td>\n      <td>NaN</td>\n      <td>NaN</td>\n      <td>NaN</td>\n      <td>NaN</td>\n      <td>19.138756</td>\n      <td>NaN</td>\n      <td>NaN</td>\n      <td>1.000105</td>\n      <td>1.000098</td>\n      <td>1.000094</td>\n      <td>1.000065</td>\n      <td>NaN</td>\n      <td>212.25</td>\n    </tr>\n    <tr>\n      <th>2020-02-05 07:00:00-05:00</th>\n      <td>212.250000</td>\n      <td>75.281814</td>\n      <td>0.005655</td>\n      <td>0.004480</td>\n      <td>NaN</td>\n      <td>0.000000e+00</td>\n      <td>NaN</td>\n      <td>NaN</td>\n      <td>NaN</td>\n      <td>NaN</td>\n      <td>-2.364066</td>\n      <td>NaN</td>\n      <td>NaN</td>\n      <td>1.000253</td>\n      <td>1.000244</td>\n      <td>1.000240</td>\n      <td>1.000204</td>\n      <td>NaN</td>\n      <td>212.66</td>\n    </tr>\n    <tr>\n      <th>2020-02-05 08:00:00-05:00</th>\n      <td>212.660000</td>\n      <td>88.637182</td>\n      <td>0.022414</td>\n      <td>0.009815</td>\n      <td>NaN</td>\n      <td>0.000000e+00</td>\n      <td>NaN</td>\n      <td>NaN</td>\n      <td>NaN</td>\n      <td>NaN</td>\n      <td>60.083874</td>\n      <td>NaN</td>\n      <td>NaN</td>\n      <td>1.001730</td>\n      <td>1.001699</td>\n      <td>1.001682</td>\n      <td>1.001540</td>\n      <td>NaN</td>\n      <td>212.48</td>\n    </tr>\n    <tr>\n      <th>...</th>\n      <td>...</td>\n      <td>...</td>\n      <td>...</td>\n      <td>...</td>\n      <td>...</td>\n      <td>...</td>\n      <td>...</td>\n      <td>...</td>\n      <td>...</td>\n      <td>...</td>\n      <td>...</td>\n      <td>...</td>\n      <td>...</td>\n      <td>...</td>\n      <td>...</td>\n      <td>...</td>\n      <td>...</td>\n      <td>...</td>\n      <td>...</td>\n    </tr>\n    <tr>\n      <th>2021-02-04 15:30:00-05:00</th>\n      <td>266.619995</td>\n      <td>51.470070</td>\n      <td>-0.125616</td>\n      <td>0.036229</td>\n      <td>58.351784</td>\n      <td>7.092026e+09</td>\n      <td>1.389115</td>\n      <td>-0.430005</td>\n      <td>20.495267</td>\n      <td>-0.112395</td>\n      <td>-43.865056</td>\n      <td>1.025710</td>\n      <td>0.932501</td>\n      <td>0.999512</td>\n      <td>1.001552</td>\n      <td>1.001292</td>\n      <td>1.001632</td>\n      <td>1.204844</td>\n      <td>266.30</td>\n    </tr>\n    <tr>\n      <th>2021-02-04 16:00:00-05:00</th>\n      <td>266.300000</td>\n      <td>49.825296</td>\n      <td>-0.109720</td>\n      <td>0.007039</td>\n      <td>19.582801</td>\n      <td>7.091683e+09</td>\n      <td>2.076615</td>\n      <td>-1.160000</td>\n      <td>27.614602</td>\n      <td>-0.071297</td>\n      <td>218.368909</td>\n      <td>0.704361</td>\n      <td>0.964571</td>\n      <td>0.998346</td>\n      <td>1.000334</td>\n      <td>1.000085</td>\n      <td>1.000358</td>\n      <td>0.973690</td>\n      <td>266.10</td>\n    </tr>\n    <tr>\n      <th>2021-02-04 17:00:00-05:00</th>\n      <td>266.100000</td>\n      <td>48.776163</td>\n      <td>-0.111970</td>\n      <td>-0.016763</td>\n      <td>59.293492</td>\n      <td>7.091683e+09</td>\n      <td>3.060829</td>\n      <td>-2.200000</td>\n      <td>27.614602</td>\n      <td>-0.355739</td>\n      <td>-320.961344</td>\n      <td>1.019369</td>\n      <td>0.659079</td>\n      <td>0.997643</td>\n      <td>0.999602</td>\n      <td>0.999373</td>\n      <td>0.999672</td>\n      <td>0.000000</td>\n      <td>265.93</td>\n    </tr>\n    <tr>\n      <th>2021-02-04 18:00:00-05:00</th>\n      <td>265.930000</td>\n      <td>47.853803</td>\n      <td>-0.126018</td>\n      <td>-0.038614</td>\n      <td>58.576011</td>\n      <td>7.091683e+09</td>\n      <td>3.065115</td>\n      <td>-1.200000</td>\n      <td>27.614602</td>\n      <td>-0.572048</td>\n      <td>-28.901920</td>\n      <td>1.016080</td>\n      <td>0.982522</td>\n      <td>0.997064</td>\n      <td>0.999010</td>\n      <td>0.998809</td>\n      <td>0.999195</td>\n      <td>0.000000</td>\n      <td>265.85</td>\n    </tr>\n    <tr>\n      <th>2021-02-04 19:00:00-05:00</th>\n      <td>265.850000</td>\n      <td>47.399555</td>\n      <td>-0.141970</td>\n      <td>-0.059285</td>\n      <td>58.238373</td>\n      <td>NaN</td>\n      <td>3.018686</td>\n      <td>0.749994</td>\n      <td>27.614602</td>\n      <td>-0.913157</td>\n      <td>-30.029574</td>\n      <td>1.029341</td>\n      <td>0.984146</td>\n      <td>0.996827</td>\n      <td>0.998768</td>\n      <td>0.998596</td>\n      <td>0.999078</td>\n      <td>0.000000</td>\n      <td>NaN</td>\n    </tr>\n  </tbody>\n</table>\n<p>4145 rows × 19 columns</p>\n</div>"
     },
     "execution_count": 375,
     "metadata": {},
     "output_type": "execute_result"
    }
   ],
   "source": [
    "data['close_shift'] = data.shift(-WINDOW)['close']\n",
    "data"
   ],
   "metadata": {
    "collapsed": false,
    "pycharm": {
     "name": "#%%\n"
    }
   }
  },
  {
   "cell_type": "code",
   "execution_count": 376,
   "outputs": [
    {
     "data": {
      "text/plain": "                                close  14 period RSI      MACD    SIGNAL  \\\nDatetime                                                                   \n2020-02-05 04:00:00-05:00  212.030000            NaN  0.000000  0.000000   \n2020-02-05 05:00:00-05:00  212.300000     100.000000  0.006058  0.003365   \n2020-02-05 06:00:00-05:00  212.200000      71.486762  0.004618  0.003879   \n2020-02-05 07:00:00-05:00  212.250000      75.281814  0.005655  0.004480   \n2020-02-05 08:00:00-05:00  212.660000      88.637182  0.022414  0.009815   \n...                               ...            ...       ...       ...   \n2021-02-04 15:30:00-05:00  266.619995      51.470070 -0.125616  0.036229   \n2021-02-04 16:00:00-05:00  266.300000      49.825296 -0.109720  0.007039   \n2021-02-04 17:00:00-05:00  266.100000      48.776163 -0.111970 -0.016763   \n2021-02-04 18:00:00-05:00  265.930000      47.853803 -0.126018 -0.038614   \n2021-02-04 19:00:00-05:00  265.850000      47.399555 -0.141970 -0.059285   \n\n                           14 period STOCH %K           MFV  14 period ATR  \\\nDatetime                                                                     \n2020-02-05 04:00:00-05:00                 NaN  0.000000e+00            NaN   \n2020-02-05 05:00:00-05:00                 NaN  0.000000e+00            NaN   \n2020-02-05 06:00:00-05:00                 NaN  0.000000e+00            NaN   \n2020-02-05 07:00:00-05:00                 NaN  0.000000e+00            NaN   \n2020-02-05 08:00:00-05:00                 NaN  0.000000e+00            NaN   \n...                                       ...           ...            ...   \n2021-02-04 15:30:00-05:00           58.351784  7.092026e+09       1.389115   \n2021-02-04 16:00:00-05:00           19.582801  7.091683e+09       2.076615   \n2021-02-04 17:00:00-05:00           59.293492  7.091683e+09       3.060829   \n2021-02-04 18:00:00-05:00           58.576011  7.091683e+09       3.065115   \n2021-02-04 19:00:00-05:00           58.238373           NaN       3.018686   \n\n                                MOM  14 period MFI       ROC  20 period CCI  \\\nDatetime                                                                      \n2020-02-05 04:00:00-05:00       NaN            NaN       NaN            NaN   \n2020-02-05 05:00:00-05:00       NaN            NaN       NaN      66.666667   \n2020-02-05 06:00:00-05:00       NaN            NaN       NaN      19.138756   \n2020-02-05 07:00:00-05:00       NaN            NaN       NaN      -2.364066   \n2020-02-05 08:00:00-05:00       NaN            NaN       NaN      60.083874   \n...                             ...            ...       ...            ...   \n2021-02-04 15:30:00-05:00 -0.430005      20.495267 -0.112395     -43.865056   \n2021-02-04 16:00:00-05:00 -1.160000      27.614602 -0.071297     218.368909   \n2021-02-04 17:00:00-05:00 -2.200000      27.614602 -0.355739    -320.961344   \n2021-02-04 18:00:00-05:00 -1.200000      27.614602 -0.572048     -28.901920   \n2021-02-04 19:00:00-05:00  0.749994      27.614602 -0.913157     -30.029574   \n\n                                VIm       VIp     ema50     ema21     ema15  \\\nDatetime                                                                      \n2020-02-05 04:00:00-05:00       NaN       NaN  1.000000  1.000000  1.000000   \n2020-02-05 05:00:00-05:00       NaN       NaN  1.000630  1.000621  1.000617   \n2020-02-05 06:00:00-05:00       NaN       NaN  1.000105  1.000098  1.000094   \n2020-02-05 07:00:00-05:00       NaN       NaN  1.000253  1.000244  1.000240   \n2020-02-05 08:00:00-05:00       NaN       NaN  1.001730  1.001699  1.001682   \n...                             ...       ...       ...       ...       ...   \n2021-02-04 15:30:00-05:00  1.025710  0.932501  0.999512  1.001552  1.001292   \n2021-02-04 16:00:00-05:00  0.704361  0.964571  0.998346  1.000334  1.000085   \n2021-02-04 17:00:00-05:00  1.019369  0.659079  0.997643  0.999602  0.999373   \n2021-02-04 18:00:00-05:00  1.016080  0.982522  0.997064  0.999010  0.998809   \n2021-02-04 19:00:00-05:00  1.029341  0.984146  0.996827  0.998768  0.998596   \n\n                               ema5   normVol  close_shift  class_column  \nDatetime                                                                  \n2020-02-05 04:00:00-05:00  1.000000       NaN       212.30             0  \n2020-02-05 05:00:00-05:00  1.000578       NaN       212.20             0  \n2020-02-05 06:00:00-05:00  1.000065       NaN       212.25             0  \n2020-02-05 07:00:00-05:00  1.000204       NaN       212.66             1  \n2020-02-05 08:00:00-05:00  1.001540       NaN       212.48             0  \n...                             ...       ...          ...           ...  \n2021-02-04 15:30:00-05:00  1.001632  1.204844       266.30             0  \n2021-02-04 16:00:00-05:00  1.000358  0.973690       266.10             0  \n2021-02-04 17:00:00-05:00  0.999672  0.000000       265.93             0  \n2021-02-04 18:00:00-05:00  0.999195  0.000000       265.85             0  \n2021-02-04 19:00:00-05:00  0.999078  0.000000          NaN             0  \n\n[4145 rows x 20 columns]",
      "text/html": "<div>\n<style scoped>\n    .dataframe tbody tr th:only-of-type {\n        vertical-align: middle;\n    }\n\n    .dataframe tbody tr th {\n        vertical-align: top;\n    }\n\n    .dataframe thead th {\n        text-align: right;\n    }\n</style>\n<table border=\"1\" class=\"dataframe\">\n  <thead>\n    <tr style=\"text-align: right;\">\n      <th></th>\n      <th>close</th>\n      <th>14 period RSI</th>\n      <th>MACD</th>\n      <th>SIGNAL</th>\n      <th>14 period STOCH %K</th>\n      <th>MFV</th>\n      <th>14 period ATR</th>\n      <th>MOM</th>\n      <th>14 period MFI</th>\n      <th>ROC</th>\n      <th>20 period CCI</th>\n      <th>VIm</th>\n      <th>VIp</th>\n      <th>ema50</th>\n      <th>ema21</th>\n      <th>ema15</th>\n      <th>ema5</th>\n      <th>normVol</th>\n      <th>close_shift</th>\n      <th>class_column</th>\n    </tr>\n    <tr>\n      <th>Datetime</th>\n      <th></th>\n      <th></th>\n      <th></th>\n      <th></th>\n      <th></th>\n      <th></th>\n      <th></th>\n      <th></th>\n      <th></th>\n      <th></th>\n      <th></th>\n      <th></th>\n      <th></th>\n      <th></th>\n      <th></th>\n      <th></th>\n      <th></th>\n      <th></th>\n      <th></th>\n      <th></th>\n    </tr>\n  </thead>\n  <tbody>\n    <tr>\n      <th>2020-02-05 04:00:00-05:00</th>\n      <td>212.030000</td>\n      <td>NaN</td>\n      <td>0.000000</td>\n      <td>0.000000</td>\n      <td>NaN</td>\n      <td>0.000000e+00</td>\n      <td>NaN</td>\n      <td>NaN</td>\n      <td>NaN</td>\n      <td>NaN</td>\n      <td>NaN</td>\n      <td>NaN</td>\n      <td>NaN</td>\n      <td>1.000000</td>\n      <td>1.000000</td>\n      <td>1.000000</td>\n      <td>1.000000</td>\n      <td>NaN</td>\n      <td>212.30</td>\n      <td>0</td>\n    </tr>\n    <tr>\n      <th>2020-02-05 05:00:00-05:00</th>\n      <td>212.300000</td>\n      <td>100.000000</td>\n      <td>0.006058</td>\n      <td>0.003365</td>\n      <td>NaN</td>\n      <td>0.000000e+00</td>\n      <td>NaN</td>\n      <td>NaN</td>\n      <td>NaN</td>\n      <td>NaN</td>\n      <td>66.666667</td>\n      <td>NaN</td>\n      <td>NaN</td>\n      <td>1.000630</td>\n      <td>1.000621</td>\n      <td>1.000617</td>\n      <td>1.000578</td>\n      <td>NaN</td>\n      <td>212.20</td>\n      <td>0</td>\n    </tr>\n    <tr>\n      <th>2020-02-05 06:00:00-05:00</th>\n      <td>212.200000</td>\n      <td>71.486762</td>\n      <td>0.004618</td>\n      <td>0.003879</td>\n      <td>NaN</td>\n      <td>0.000000e+00</td>\n      <td>NaN</td>\n      <td>NaN</td>\n      <td>NaN</td>\n      <td>NaN</td>\n      <td>19.138756</td>\n      <td>NaN</td>\n      <td>NaN</td>\n      <td>1.000105</td>\n      <td>1.000098</td>\n      <td>1.000094</td>\n      <td>1.000065</td>\n      <td>NaN</td>\n      <td>212.25</td>\n      <td>0</td>\n    </tr>\n    <tr>\n      <th>2020-02-05 07:00:00-05:00</th>\n      <td>212.250000</td>\n      <td>75.281814</td>\n      <td>0.005655</td>\n      <td>0.004480</td>\n      <td>NaN</td>\n      <td>0.000000e+00</td>\n      <td>NaN</td>\n      <td>NaN</td>\n      <td>NaN</td>\n      <td>NaN</td>\n      <td>-2.364066</td>\n      <td>NaN</td>\n      <td>NaN</td>\n      <td>1.000253</td>\n      <td>1.000244</td>\n      <td>1.000240</td>\n      <td>1.000204</td>\n      <td>NaN</td>\n      <td>212.66</td>\n      <td>1</td>\n    </tr>\n    <tr>\n      <th>2020-02-05 08:00:00-05:00</th>\n      <td>212.660000</td>\n      <td>88.637182</td>\n      <td>0.022414</td>\n      <td>0.009815</td>\n      <td>NaN</td>\n      <td>0.000000e+00</td>\n      <td>NaN</td>\n      <td>NaN</td>\n      <td>NaN</td>\n      <td>NaN</td>\n      <td>60.083874</td>\n      <td>NaN</td>\n      <td>NaN</td>\n      <td>1.001730</td>\n      <td>1.001699</td>\n      <td>1.001682</td>\n      <td>1.001540</td>\n      <td>NaN</td>\n      <td>212.48</td>\n      <td>0</td>\n    </tr>\n    <tr>\n      <th>...</th>\n      <td>...</td>\n      <td>...</td>\n      <td>...</td>\n      <td>...</td>\n      <td>...</td>\n      <td>...</td>\n      <td>...</td>\n      <td>...</td>\n      <td>...</td>\n      <td>...</td>\n      <td>...</td>\n      <td>...</td>\n      <td>...</td>\n      <td>...</td>\n      <td>...</td>\n      <td>...</td>\n      <td>...</td>\n      <td>...</td>\n      <td>...</td>\n      <td>...</td>\n    </tr>\n    <tr>\n      <th>2021-02-04 15:30:00-05:00</th>\n      <td>266.619995</td>\n      <td>51.470070</td>\n      <td>-0.125616</td>\n      <td>0.036229</td>\n      <td>58.351784</td>\n      <td>7.092026e+09</td>\n      <td>1.389115</td>\n      <td>-0.430005</td>\n      <td>20.495267</td>\n      <td>-0.112395</td>\n      <td>-43.865056</td>\n      <td>1.025710</td>\n      <td>0.932501</td>\n      <td>0.999512</td>\n      <td>1.001552</td>\n      <td>1.001292</td>\n      <td>1.001632</td>\n      <td>1.204844</td>\n      <td>266.30</td>\n      <td>0</td>\n    </tr>\n    <tr>\n      <th>2021-02-04 16:00:00-05:00</th>\n      <td>266.300000</td>\n      <td>49.825296</td>\n      <td>-0.109720</td>\n      <td>0.007039</td>\n      <td>19.582801</td>\n      <td>7.091683e+09</td>\n      <td>2.076615</td>\n      <td>-1.160000</td>\n      <td>27.614602</td>\n      <td>-0.071297</td>\n      <td>218.368909</td>\n      <td>0.704361</td>\n      <td>0.964571</td>\n      <td>0.998346</td>\n      <td>1.000334</td>\n      <td>1.000085</td>\n      <td>1.000358</td>\n      <td>0.973690</td>\n      <td>266.10</td>\n      <td>0</td>\n    </tr>\n    <tr>\n      <th>2021-02-04 17:00:00-05:00</th>\n      <td>266.100000</td>\n      <td>48.776163</td>\n      <td>-0.111970</td>\n      <td>-0.016763</td>\n      <td>59.293492</td>\n      <td>7.091683e+09</td>\n      <td>3.060829</td>\n      <td>-2.200000</td>\n      <td>27.614602</td>\n      <td>-0.355739</td>\n      <td>-320.961344</td>\n      <td>1.019369</td>\n      <td>0.659079</td>\n      <td>0.997643</td>\n      <td>0.999602</td>\n      <td>0.999373</td>\n      <td>0.999672</td>\n      <td>0.000000</td>\n      <td>265.93</td>\n      <td>0</td>\n    </tr>\n    <tr>\n      <th>2021-02-04 18:00:00-05:00</th>\n      <td>265.930000</td>\n      <td>47.853803</td>\n      <td>-0.126018</td>\n      <td>-0.038614</td>\n      <td>58.576011</td>\n      <td>7.091683e+09</td>\n      <td>3.065115</td>\n      <td>-1.200000</td>\n      <td>27.614602</td>\n      <td>-0.572048</td>\n      <td>-28.901920</td>\n      <td>1.016080</td>\n      <td>0.982522</td>\n      <td>0.997064</td>\n      <td>0.999010</td>\n      <td>0.998809</td>\n      <td>0.999195</td>\n      <td>0.000000</td>\n      <td>265.85</td>\n      <td>0</td>\n    </tr>\n    <tr>\n      <th>2021-02-04 19:00:00-05:00</th>\n      <td>265.850000</td>\n      <td>47.399555</td>\n      <td>-0.141970</td>\n      <td>-0.059285</td>\n      <td>58.238373</td>\n      <td>NaN</td>\n      <td>3.018686</td>\n      <td>0.749994</td>\n      <td>27.614602</td>\n      <td>-0.913157</td>\n      <td>-30.029574</td>\n      <td>1.029341</td>\n      <td>0.984146</td>\n      <td>0.996827</td>\n      <td>0.998768</td>\n      <td>0.998596</td>\n      <td>0.999078</td>\n      <td>0.000000</td>\n      <td>NaN</td>\n      <td>0</td>\n    </tr>\n  </tbody>\n</table>\n<p>4145 rows × 20 columns</p>\n</div>"
     },
     "execution_count": 376,
     "metadata": {},
     "output_type": "execute_result"
    }
   ],
   "source": [
    "data['class_column'] = data.apply(create_class_column, axis=1)\n",
    "data"
   ],
   "metadata": {
    "collapsed": false,
    "pycharm": {
     "name": "#%%\n"
    }
   }
  },
  {
   "cell_type": "code",
   "execution_count": 377,
   "outputs": [
    {
     "data": {
      "text/plain": "1    1421\n0    1381\n2    1343\nName: class_column, dtype: int64"
     },
     "execution_count": 377,
     "metadata": {},
     "output_type": "execute_result"
    }
   ],
   "source": [
    "# Class divide\n",
    "data['class_column'].value_counts()"
   ],
   "metadata": {
    "collapsed": false,
    "pycharm": {
     "name": "#%%\n"
    }
   }
  },
  {
   "cell_type": "code",
   "execution_count": 378,
   "outputs": [],
   "source": [
    "del (data['close'])\n",
    "del (data['close_shift'])\n",
    "data = data.dropna()\n",
    "train_set = data.iloc[:-ROWS_TO_PREDICT]\n",
    "test_set =data.iloc[-ROWS_TO_PREDICT:]"
   ],
   "metadata": {
    "collapsed": false,
    "pycharm": {
     "name": "#%%\n"
    }
   }
  },
  {
   "cell_type": "code",
   "execution_count": 379,
   "outputs": [
    {
     "data": {
      "text/plain": "1    1395\n0    1342\n2    1328\nName: class_column, dtype: int64"
     },
     "execution_count": 379,
     "metadata": {},
     "output_type": "execute_result"
    }
   ],
   "source": [
    "data['class_column'].value_counts()"
   ],
   "metadata": {
    "collapsed": false,
    "pycharm": {
     "name": "#%%\n"
    }
   }
  },
  {
   "cell_type": "code",
   "execution_count": 380,
   "outputs": [],
   "source": [
    "y = data['class_column']\n",
    "features = [x for x in data.columns if x not in ['class_column']]\n",
    "x = data[features]\n",
    "\n",
    "x_train= x.iloc[:-ROWS_TO_PREDICT]\n",
    "y_train= y.iloc[:-ROWS_TO_PREDICT]\n",
    "x_test =x.iloc[-ROWS_TO_PREDICT:]\n",
    "y_test=y.iloc[-ROWS_TO_PREDICT:]"
   ],
   "metadata": {
    "collapsed": false,
    "pycharm": {
     "name": "#%%\n"
    }
   }
  },
  {
   "cell_type": "code",
   "execution_count": 381,
   "outputs": [],
   "source": [
    "classifiers = dict()\n",
    "\n",
    "classifiers['DecisionTreeClassifier 1'] = DecisionTreeClassifier(max_depth=10, random_state=0,criterion='gini',splitter='best')\n",
    "classifiers['DecisionTreeClassifier 2'] = DecisionTreeClassifier(max_depth=10, random_state=0,criterion='gini',splitter='random')\n",
    "classifiers['DecisionTreeClassifier 3'] = DecisionTreeClassifier(max_depth=10, random_state=0,criterion='entropy',splitter='best')\n",
    "classifiers['DecisionTreeClassifier 4'] = DecisionTreeClassifier(max_depth=10, random_state=0,criterion='entropy',splitter='random')\n",
    "classifiers['DecisionTreeClassifier 5'] = DecisionTreeClassifier(random_state=0,criterion='gini',splitter='best')\n",
    "classifiers['DecisionTreeClassifier 6'] = DecisionTreeClassifier(random_state=0,criterion='gini',splitter='random')\n",
    "classifiers['DecisionTreeClassifier 7'] = DecisionTreeClassifier(random_state=0,criterion='entropy',splitter='best')\n",
    "classifiers['DecisionTreeClassifier 8'] = DecisionTreeClassifier(random_state=0,criterion='entropy',splitter='random')\n",
    "\n",
    "classifiers['RandomForestClassifier 1'] = RandomForestClassifier(n_estimators=100, max_depth=2, random_state=0,criterion='gini')\n",
    "classifiers['RandomForestClassifier 2'] = RandomForestClassifier(n_estimators=1000, max_depth=2, random_state=0,criterion='gini')\n",
    "classifiers['RandomForestClassifier 3'] = RandomForestClassifier(n_estimators=100, max_depth=3, random_state=0,criterion='gini')\n",
    "classifiers['RandomForestClassifier 4'] = RandomForestClassifier(n_estimators=1000, max_depth=3, random_state=0,criterion='gini')\n",
    "classifiers['RandomForestClassifier 5'] = RandomForestClassifier(n_estimators=100, max_depth=2, random_state=0,criterion='entropy')\n",
    "classifiers['RandomForestClassifier 6'] = RandomForestClassifier(n_estimators=1000, max_depth=2, random_state=0,criterion='entropy')\n",
    "classifiers['RandomForestClassifier 7'] = RandomForestClassifier(n_estimators=100, max_depth=3, random_state=0,criterion='entropy')\n",
    "classifiers['RandomForestClassifier 8'] = RandomForestClassifier(n_estimators=1000, max_depth=3, random_state=0,criterion='entropy')\n",
    "\n",
    "classifiers['GradientBoostingClassifier 1'] = GradientBoostingClassifier(n_estimators=100,random_state=0,criterion='friedman_mse',max_depth=3, learning_rate=0.1)\n",
    "classifiers['GradientBoostingClassifier 2'] = GradientBoostingClassifier(n_estimators=100,random_state=0,criterion='friedman_mse',max_depth=3, learning_rate=0.3)\n",
    "classifiers['GradientBoostingClassifier 3'] = GradientBoostingClassifier(n_estimators=100,random_state=0,criterion='friedman_mse',max_depth=3, learning_rate=0.5)\n",
    "classifiers['GradientBoostingClassifier 4'] = GradientBoostingClassifier(n_estimators=100,random_state=0,criterion='friedman_mse',max_depth=3, learning_rate=1)\n",
    "#\n",
    "classifiers['GradientBoostingClassifier 5'] = GradientBoostingClassifier(n_estimators=1000,random_state=0,criterion='friedman_mse',max_depth=3, learning_rate=0.1)\n",
    "classifiers['GradientBoostingClassifier 6'] = GradientBoostingClassifier(n_estimators=1000,random_state=0,criterion='friedman_mse',max_depth=3, learning_rate=0.3)\n",
    "classifiers['GradientBoostingClassifier 7'] = GradientBoostingClassifier(n_estimators=1000,random_state=0,criterion='friedman_mse',max_depth=3, learning_rate=0.5)\n",
    "classifiers['GradientBoostingClassifier 8'] = GradientBoostingClassifier(n_estimators=1000,random_state=0,criterion='friedman_mse',max_depth=3, learning_rate=1)\n",
    "\n",
    "classifiers['GradientBoostingClassifier 9'] = GradientBoostingClassifier(n_estimators=1000,random_state=0,criterion='friedman_mse',max_depth=2, learning_rate=0.1)\n",
    "classifiers['GradientBoostingClassifier 10'] = GradientBoostingClassifier(n_estimators=1000,random_state=0,criterion='friedman_mse',max_depth=2, learning_rate=0.3)\n",
    "classifiers['GradientBoostingClassifier 11'] = GradientBoostingClassifier(n_estimators=1000,random_state=0,criterion='friedman_mse',max_depth=2, learning_rate=0.5)\n",
    "classifiers['GradientBoostingClassifier 12'] = GradientBoostingClassifier(n_estimators=1000,random_state=0,criterion='friedman_mse',max_depth=2, learning_rate=1)"
   ],
   "metadata": {
    "collapsed": false,
    "pycharm": {
     "name": "#%%\n"
    }
   }
  },
  {
   "cell_type": "code",
   "execution_count": 382,
   "outputs": [],
   "source": [
    "def print_conf_matrix(test_y, predict, name):\n",
    "    matrix = confusion_matrix(test_y, predict,  labels=[-1, 0, 1])\n",
    "    print(matrix)\n",
    "    ax= plt.subplot()\n",
    "    sn.heatmap(matrix, annot=True, ax = ax) #annot=True to annotate cells\n",
    "\n",
    "    # labels, title and ticks\n",
    "    ax.set_xlabel('Predicted labels', color='white')\n",
    "    ax.set_ylabel('True labels', color='white')\n",
    "    ax.set_title(f'Confusion Matrix for {name}' , color='white')\n",
    "    ax.xaxis.set_ticklabels(['-1','0', '1'], color='white')\n",
    "    ax.yaxis.set_ticklabels(['-1','0', '1'], color='white')\n",
    "    plt.show()\n",
    "\n",
    "def train_model(model,train_x, train_y):\n",
    "    model.fit(train_x, train_y)"
   ],
   "metadata": {
    "collapsed": false,
    "pycharm": {
     "name": "#%%\n"
    }
   }
  },
  {
   "cell_type": "code",
   "execution_count": 383,
   "outputs": [],
   "source": [
    "# predictions= dict()\n",
    "# score = dict()\n",
    "# for k,v in classifiers.items():\n",
    "#     print(\"Calculate: \", k)\n",
    "#     train_model(v,x_train,y_train)\n",
    "#     predictions[k] = v.predict(x_test)\n",
    "#     score[k] = accuracy_score(y_test.values, predictions[k])\n",
    "#     print('Score: ',  score[k] )\n",
    "#     # print_conf_matrix(test_y, predictions[k], k)\n",
    "#\n",
    "# headers = [\"Classifier type\", \"Accuracy\"]\n",
    "# score_df = pd.DataFrame(score.items(), columns=headers)\n",
    "# print(tabulate(score_df, headers, tablefmt=\"psql\"))"
   ],
   "metadata": {
    "collapsed": false,
    "pycharm": {
     "name": "#%%\n"
    }
   }
  },
  {
   "cell_type": "code",
   "execution_count": 384,
   "outputs": [],
   "source": [
    "# estimators=[\n",
    "#             ('GBC12', classifiers['GradientBoostingClassifier 12']),\n",
    "#             ('DTC1', classifiers['DecisionTreeClassifier 1']),\n",
    "#             ]\n",
    "# ensemble = VotingClassifier(estimators, voting='soft')\n",
    "# ensemble.fit(x_train, y_train)\n",
    "# predicted = ensemble.predict(x_test)\n",
    "# score_ensemble = accuracy_score(y_test.values, predicted)\n",
    "# print('Score: ',  score_ensemble)"
   ],
   "metadata": {
    "collapsed": false,
    "pycharm": {
     "name": "#%%\n"
    }
   }
  },
  {
   "cell_type": "code",
   "execution_count": 385,
   "outputs": [],
   "source": [
    "# print('Score: ',  score_ensemble)"
   ],
   "metadata": {
    "collapsed": false,
    "pycharm": {
     "name": "#%%\n"
    }
   }
  },
  {
   "cell_type": "code",
   "execution_count": 386,
   "outputs": [
    {
     "data": {
      "text/plain": "[NumericColumn(key='14 period RSI', shape=(1,), default_value=None, dtype=tf.float32, normalizer_fn=None),\n NumericColumn(key='MACD', shape=(1,), default_value=None, dtype=tf.float32, normalizer_fn=None),\n NumericColumn(key='SIGNAL', shape=(1,), default_value=None, dtype=tf.float32, normalizer_fn=None),\n NumericColumn(key='14 period STOCH %K', shape=(1,), default_value=None, dtype=tf.float32, normalizer_fn=None),\n NumericColumn(key='MFV', shape=(1,), default_value=None, dtype=tf.float32, normalizer_fn=None),\n NumericColumn(key='14 period ATR', shape=(1,), default_value=None, dtype=tf.float32, normalizer_fn=None),\n NumericColumn(key='MOM', shape=(1,), default_value=None, dtype=tf.float32, normalizer_fn=None),\n NumericColumn(key='14 period MFI', shape=(1,), default_value=None, dtype=tf.float32, normalizer_fn=None),\n NumericColumn(key='ROC', shape=(1,), default_value=None, dtype=tf.float32, normalizer_fn=None),\n NumericColumn(key='20 period CCI', shape=(1,), default_value=None, dtype=tf.float32, normalizer_fn=None),\n NumericColumn(key='VIm', shape=(1,), default_value=None, dtype=tf.float32, normalizer_fn=None),\n NumericColumn(key='VIp', shape=(1,), default_value=None, dtype=tf.float32, normalizer_fn=None),\n NumericColumn(key='ema50', shape=(1,), default_value=None, dtype=tf.float32, normalizer_fn=None),\n NumericColumn(key='ema21', shape=(1,), default_value=None, dtype=tf.float32, normalizer_fn=None),\n NumericColumn(key='ema15', shape=(1,), default_value=None, dtype=tf.float32, normalizer_fn=None),\n NumericColumn(key='ema5', shape=(1,), default_value=None, dtype=tf.float32, normalizer_fn=None),\n NumericColumn(key='normVol', shape=(1,), default_value=None, dtype=tf.float32, normalizer_fn=None)]"
     },
     "execution_count": 386,
     "metadata": {},
     "output_type": "execute_result"
    }
   ],
   "source": [
    "feature_columns = []\n",
    "for feature_name in x_train.columns:\n",
    "  feature_columns.append(tf.feature_column.numeric_column(feature_name,\n",
    "                                                          dtype=tf.float32))\n",
    "feature_columns"
   ],
   "metadata": {
    "collapsed": false,
    "pycharm": {
     "name": "#%%\n"
    }
   }
  },
  {
   "cell_type": "code",
   "execution_count": 387,
   "outputs": [
    {
     "name": "stdout",
     "output_type": "stream",
     "text": [
      "4049\n"
     ]
    }
   ],
   "source": [
    "NUM_EXAMPLES = len(y_train)\n",
    "print(NUM_EXAMPLES)"
   ],
   "metadata": {
    "collapsed": false,
    "pycharm": {
     "name": "#%%\n"
    }
   }
  },
  {
   "cell_type": "code",
   "execution_count": 388,
   "outputs": [],
   "source": [
    "def make_input_fn(X, y, n_epochs=None, shuffle=True):\n",
    "  def input_fn():\n",
    "    dataset = tf.data.Dataset.from_tensor_slices((dict(X), y))\n",
    "    if shuffle:\n",
    "      dataset = dataset.shuffle(NUM_EXAMPLES)\n",
    "    # For training, cycle thru dataset as many times as need (n_epochs=None).\n",
    "    dataset = dataset.repeat(n_epochs)\n",
    "    # In memory training doesn't use batching.\n",
    "    dataset = dataset.batch(NUM_EXAMPLES)\n",
    "    return dataset\n",
    "  return input_fn"
   ],
   "metadata": {
    "collapsed": false,
    "pycharm": {
     "name": "#%%\n"
    }
   }
  },
  {
   "cell_type": "code",
   "execution_count": 389,
   "outputs": [],
   "source": [
    "train_input_fn = make_input_fn(x_train, y_train)\n",
    "eval_input_fn = make_input_fn(x_test, y_test, shuffle=False, n_epochs=1)\n"
   ],
   "metadata": {
    "collapsed": false,
    "pycharm": {
     "name": "#%%\n"
    }
   }
  },
  {
   "cell_type": "code",
   "execution_count": 390,
   "outputs": [
    {
     "name": "stdout",
     "output_type": "stream",
     "text": [
      "INFO:tensorflow:Using default config.\n",
      "WARNING:tensorflow:Using temporary folder as model directory: C:\\Users\\exomat\\AppData\\Local\\Temp\\tmpuqa7kb7r\n",
      "INFO:tensorflow:Using config: {'_model_dir': 'C:\\\\Users\\\\exomat\\\\AppData\\\\Local\\\\Temp\\\\tmpuqa7kb7r', '_tf_random_seed': None, '_save_summary_steps': 100, '_save_checkpoints_steps': None, '_save_checkpoints_secs': 600, '_session_config': allow_soft_placement: true\n",
      "graph_options {\n",
      "  rewrite_options {\n",
      "    meta_optimizer_iterations: ONE\n",
      "  }\n",
      "}\n",
      ", '_keep_checkpoint_max': 5, '_keep_checkpoint_every_n_hours': 10000, '_log_step_count_steps': 100, '_train_distribute': None, '_device_fn': None, '_protocol': None, '_eval_distribute': None, '_experimental_distribute': None, '_experimental_max_worker_delay_secs': None, '_session_creation_timeout_secs': 7200, '_checkpoint_save_graph_def': True, '_service': None, '_cluster_spec': ClusterSpec({}), '_task_type': 'worker', '_task_id': 0, '_global_id_in_cluster': 0, '_master': '', '_evaluation_master': '', '_is_chief': True, '_num_ps_replicas': 0, '_num_worker_replicas': 1}\n"
     ]
    }
   ],
   "source": [
    "est = tf.estimator.BoostedTreesClassifier(\n",
    "    feature_columns, 1, model_dir=None, n_classes=3,\n",
    "    weight_column=None, label_vocabulary=None, n_trees=500, max_depth=6,\n",
    "    learning_rate=0.5, l1_regularization=0.0, l2_regularization=0.0,\n",
    "    tree_complexity=0.0, min_node_weight=0.0, config=None, center_bias=False,\n",
    "    pruning_mode='none', quantile_sketch_epsilon=0.01,\n",
    "    train_in_memory=False\n",
    ")\n"
   ],
   "metadata": {
    "collapsed": false,
    "pycharm": {
     "name": "#%%\n"
    }
   }
  },
  {
   "cell_type": "code",
   "execution_count": 391,
   "outputs": [
    {
     "name": "stdout",
     "output_type": "stream",
     "text": [
      "INFO:tensorflow:Calling model_fn.\n",
      "INFO:tensorflow:Done calling model_fn.\n",
      "INFO:tensorflow:Create CheckpointSaverHook.\n",
      "WARNING:tensorflow:Issue encountered when serializing resources.\n",
      "Type is unsupported, or the types of the items don't match field type in CollectionDef. Note this is a warning and probably safe to ignore.\n",
      "'_Resource' object has no attribute 'name'\n",
      "INFO:tensorflow:Graph was finalized.\n",
      "INFO:tensorflow:Running local_init_op.\n",
      "INFO:tensorflow:Done running local_init_op.\n",
      "WARNING:tensorflow:Issue encountered when serializing resources.\n",
      "Type is unsupported, or the types of the items don't match field type in CollectionDef. Note this is a warning and probably safe to ignore.\n",
      "'_Resource' object has no attribute 'name'\n",
      "INFO:tensorflow:Calling checkpoint listeners before saving checkpoint 0...\n",
      "INFO:tensorflow:Saving checkpoints for 0 into C:\\Users\\exomat\\AppData\\Local\\Temp\\tmpuqa7kb7r\\model.ckpt.\n",
      "WARNING:tensorflow:Issue encountered when serializing resources.\n",
      "Type is unsupported, or the types of the items don't match field type in CollectionDef. Note this is a warning and probably safe to ignore.\n",
      "'_Resource' object has no attribute 'name'\n",
      "INFO:tensorflow:Calling checkpoint listeners after saving checkpoint 0...\n",
      "INFO:tensorflow:loss = 1.0986135, step = 0\n",
      "INFO:tensorflow:global_step/sec: 8.43055\n",
      "INFO:tensorflow:loss = 4.645886, step = 99 (11.863 sec)\n",
      "INFO:tensorflow:global_step/sec: 16.8094\n",
      "INFO:tensorflow:loss = 4.645886, step = 199 (5.949 sec)\n",
      "INFO:tensorflow:global_step/sec: 17.0643\n",
      "INFO:tensorflow:loss = 4.6458864, step = 299 (5.860 sec)\n",
      "INFO:tensorflow:global_step/sec: 17.1512\n",
      "INFO:tensorflow:loss = 4.645886, step = 399 (5.832 sec)\n",
      "INFO:tensorflow:global_step/sec: 16.0289\n",
      "INFO:tensorflow:loss = 4.645886, step = 499 (6.238 sec)\n",
      "INFO:tensorflow:global_step/sec: 17.5204\n",
      "INFO:tensorflow:loss = 4.6458855, step = 599 (5.708 sec)\n",
      "INFO:tensorflow:global_step/sec: 15.7964\n",
      "INFO:tensorflow:loss = 4.645886, step = 699 (6.331 sec)\n",
      "INFO:tensorflow:global_step/sec: 16.5035\n",
      "INFO:tensorflow:loss = 4.6458864, step = 799 (6.059 sec)\n",
      "INFO:tensorflow:global_step/sec: 16.5919\n",
      "INFO:tensorflow:loss = 4.645886, step = 899 (6.027 sec)\n",
      "INFO:tensorflow:global_step/sec: 16.413\n",
      "INFO:tensorflow:loss = 4.645886, step = 999 (6.093 sec)\n",
      "INFO:tensorflow:global_step/sec: 17.7058\n",
      "INFO:tensorflow:loss = 4.6458864, step = 1099 (5.648 sec)\n",
      "INFO:tensorflow:global_step/sec: 17.4092\n",
      "INFO:tensorflow:loss = 4.645886, step = 1199 (5.744 sec)\n",
      "INFO:tensorflow:global_step/sec: 16.2312\n",
      "INFO:tensorflow:loss = 4.645886, step = 1299 (6.160 sec)\n",
      "INFO:tensorflow:global_step/sec: 16.9818\n",
      "INFO:tensorflow:loss = 4.645886, step = 1399 (5.891 sec)\n",
      "INFO:tensorflow:global_step/sec: 16.1509\n",
      "INFO:tensorflow:loss = 4.645886, step = 1499 (6.191 sec)\n",
      "INFO:tensorflow:global_step/sec: 16.8154\n",
      "INFO:tensorflow:loss = 4.6458864, step = 1599 (5.947 sec)\n",
      "INFO:tensorflow:global_step/sec: 16.6284\n",
      "INFO:tensorflow:loss = 4.645886, step = 1699 (6.015 sec)\n",
      "INFO:tensorflow:global_step/sec: 16.2517\n",
      "INFO:tensorflow:loss = 4.6458855, step = 1799 (6.152 sec)\n",
      "INFO:tensorflow:global_step/sec: 16.2389\n",
      "INFO:tensorflow:loss = 4.6458864, step = 1899 (6.175 sec)\n",
      "INFO:tensorflow:global_step/sec: 17.1252\n",
      "INFO:tensorflow:loss = 4.6458864, step = 1999 (5.823 sec)\n",
      "INFO:tensorflow:Calling checkpoint listeners before saving checkpoint 2000...\n",
      "INFO:tensorflow:Saving checkpoints for 2000 into C:\\Users\\exomat\\AppData\\Local\\Temp\\tmpuqa7kb7r\\model.ckpt.\n",
      "WARNING:tensorflow:Issue encountered when serializing resources.\n",
      "Type is unsupported, or the types of the items don't match field type in CollectionDef. Note this is a warning and probably safe to ignore.\n",
      "'_Resource' object has no attribute 'name'\n",
      "INFO:tensorflow:Calling checkpoint listeners after saving checkpoint 2000...\n",
      "INFO:tensorflow:Loss for final step: 4.6458864.\n",
      "INFO:tensorflow:Calling model_fn.\n",
      "INFO:tensorflow:Done calling model_fn.\n",
      "INFO:tensorflow:Starting evaluation at 2021-02-05T01:08:43Z\n",
      "INFO:tensorflow:Graph was finalized.\n",
      "INFO:tensorflow:Restoring parameters from C:\\Users\\exomat\\AppData\\Local\\Temp\\tmpuqa7kb7r\\model.ckpt-2000\n",
      "INFO:tensorflow:Running local_init_op.\n",
      "INFO:tensorflow:Done running local_init_op.\n",
      "INFO:tensorflow:Inference Time : 0.17300s\n",
      "INFO:tensorflow:Finished evaluation at 2021-02-05-01:08:43\n",
      "INFO:tensorflow:Saving dict for global step 2000: accuracy = 0.3125, average_loss = 1.1810544, global_step = 2000, loss = 1.1810544\n",
      "WARNING:tensorflow:Issue encountered when serializing resources.\n",
      "Type is unsupported, or the types of the items don't match field type in CollectionDef. Note this is a warning and probably safe to ignore.\n",
      "'_Resource' object has no attribute 'name'\n",
      "INFO:tensorflow:Saving 'checkpoint_path' summary for global step 2000: C:\\Users\\exomat\\AppData\\Local\\Temp\\tmpuqa7kb7r\\model.ckpt-2000\n"
     ]
    },
    {
     "data": {
      "text/plain": "{'accuracy': 0.3125,\n 'average_loss': 1.1810544,\n 'loss': 1.1810544,\n 'global_step': 2000}"
     },
     "execution_count": 391,
     "metadata": {},
     "output_type": "execute_result"
    }
   ],
   "source": [
    "est.train(train_input_fn, max_steps=2000)\n",
    "result = est.evaluate(eval_input_fn)\n",
    "result"
   ],
   "metadata": {
    "collapsed": false,
    "pycharm": {
     "name": "#%%\n"
    }
   }
  }
 ],
 "metadata": {
  "kernelspec": {
   "name": "magisterka_analiza",
   "language": "python",
   "display_name": "Python magisterka"
  },
  "language_info": {
   "codemirror_mode": {
    "name": "ipython",
    "version": 2
   },
   "file_extension": ".py",
   "mimetype": "text/x-python",
   "name": "python",
   "nbconvert_exporter": "python",
   "pygments_lexer": "ipython2",
   "version": "2.7.6"
  }
 },
 "nbformat": 4,
 "nbformat_minor": 0
}