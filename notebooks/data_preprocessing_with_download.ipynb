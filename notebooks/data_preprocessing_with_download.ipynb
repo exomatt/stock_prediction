{
 "cells": [
  {
   "cell_type": "code",
   "execution_count": 216,
   "outputs": [],
   "source": [
    "from collections import defaultdict\n",
    "from datetime import datetime\n",
    "import matplotlib.pyplot as plt\n",
    "import pandas as pd\n",
    "import seaborn as sn\n",
    "import yfinance as yf\n",
    "from finta import TA\n",
    "from sklearn.ensemble import RandomForestClassifier, GradientBoostingClassifier\n",
    "from sklearn.model_selection import train_test_split\n",
    "from sklearn.metrics import confusion_matrix, classification_report, accuracy_score\n",
    "from sklearn.tree import DecisionTreeClassifier\n",
    "from tabulate import tabulate\n",
    "from ta import add_all_ta_features"
   ],
   "metadata": {
    "collapsed": false,
    "pycharm": {
     "name": "#%%\n"
    }
   }
  },
  {
   "cell_type": "code",
   "execution_count": 217,
   "outputs": [],
   "source": [
    "WINDOW = 34  # number of rows to look ahead to see what the price did\n",
    "FETCH_INTERVAL = \"60m\"  # fetch data by interval (including intraday if period < 60 days)\n",
    "# valid intervals: 1m,2m,5m,15m,30m,60m,90m,1h,1d,5d,1wk,1mo,3mo\n",
    "# (optional, default is '1d')\n",
    "INTERVAL = '2y'  # use \"period\" instead of start/end\n",
    "# valid periods: 1d,5d,1mo,3mo,6mo,1y,2y,5y,10y,ytd,max\n",
    "# (optional, default is '1mo')\n",
    "symbol = 'AAPL'  # Symbol of the desired stock\n",
    "ROWS_TO_PREDICT = 128\n",
    "# one day 16 rows of data"
   ],
   "metadata": {
    "collapsed": false,
    "pycharm": {
     "name": "#%%\n"
    }
   }
  },
  {
   "cell_type": "code",
   "execution_count": 218,
   "outputs": [
    {
     "name": "stdout",
     "output_type": "stream",
     "text": [
      "[*********************100%***********************]  1 of 1 completed\n"
     ]
    },
    {
     "data": {
      "text/plain": "                                 Open        High         Low       Close  \\\nDatetime                                                                    \n2019-05-10 09:30:00-04:00         NaN         NaN         NaN         NaN   \n2019-05-13 09:00:00-04:00   47.315000   47.345000   46.877500   46.877500   \n2019-05-13 09:30:00-04:00   46.927502   47.369999   46.424999   46.791050   \n2019-05-13 10:30:00-04:00   46.792500   47.125000   46.625027   46.799999   \n2019-05-13 11:30:00-04:00   46.794998   46.875252   46.540024   46.646252   \n...                               ...         ...         ...         ...   \n2021-05-10 15:30:00-04:00  127.195000  127.500000  126.809998  126.860001   \n2021-05-10 16:00:00-04:00  126.860000  127.988100  117.824670  126.490000   \n2021-05-10 17:00:00-04:00  126.500000  126.850000  118.090096  126.430000   \n2021-05-10 18:00:00-04:00  126.460000  126.530000  126.300000  126.420000   \n2021-05-10 19:00:00-04:00  126.430000  126.470000  126.300000  126.320000   \n\n                            Adj Close      Volume  \nDatetime                                           \n2019-05-10 09:30:00-04:00         NaN         NaN  \n2019-05-13 09:00:00-04:00   46.877500         0.0  \n2019-05-13 09:30:00-04:00   46.791050  19332487.0  \n2019-05-13 10:30:00-04:00   46.799999   6350368.0  \n2019-05-13 11:30:00-04:00   46.646252   4536523.0  \n...                               ...         ...  \n2021-05-10 15:30:00-04:00  126.860001  11140598.0  \n2021-05-10 16:00:00-04:00  126.490000         0.0  \n2021-05-10 17:00:00-04:00  126.430000         0.0  \n2021-05-10 18:00:00-04:00  126.420000         0.0  \n2021-05-10 19:00:00-04:00  126.320000         0.0  \n\n[8192 rows x 6 columns]",
      "text/html": "<div>\n<style scoped>\n    .dataframe tbody tr th:only-of-type {\n        vertical-align: middle;\n    }\n\n    .dataframe tbody tr th {\n        vertical-align: top;\n    }\n\n    .dataframe thead th {\n        text-align: right;\n    }\n</style>\n<table border=\"1\" class=\"dataframe\">\n  <thead>\n    <tr style=\"text-align: right;\">\n      <th></th>\n      <th>Open</th>\n      <th>High</th>\n      <th>Low</th>\n      <th>Close</th>\n      <th>Adj Close</th>\n      <th>Volume</th>\n    </tr>\n    <tr>\n      <th>Datetime</th>\n      <th></th>\n      <th></th>\n      <th></th>\n      <th></th>\n      <th></th>\n      <th></th>\n    </tr>\n  </thead>\n  <tbody>\n    <tr>\n      <th>2019-05-10 09:30:00-04:00</th>\n      <td>NaN</td>\n      <td>NaN</td>\n      <td>NaN</td>\n      <td>NaN</td>\n      <td>NaN</td>\n      <td>NaN</td>\n    </tr>\n    <tr>\n      <th>2019-05-13 09:00:00-04:00</th>\n      <td>47.315000</td>\n      <td>47.345000</td>\n      <td>46.877500</td>\n      <td>46.877500</td>\n      <td>46.877500</td>\n      <td>0.0</td>\n    </tr>\n    <tr>\n      <th>2019-05-13 09:30:00-04:00</th>\n      <td>46.927502</td>\n      <td>47.369999</td>\n      <td>46.424999</td>\n      <td>46.791050</td>\n      <td>46.791050</td>\n      <td>19332487.0</td>\n    </tr>\n    <tr>\n      <th>2019-05-13 10:30:00-04:00</th>\n      <td>46.792500</td>\n      <td>47.125000</td>\n      <td>46.625027</td>\n      <td>46.799999</td>\n      <td>46.799999</td>\n      <td>6350368.0</td>\n    </tr>\n    <tr>\n      <th>2019-05-13 11:30:00-04:00</th>\n      <td>46.794998</td>\n      <td>46.875252</td>\n      <td>46.540024</td>\n      <td>46.646252</td>\n      <td>46.646252</td>\n      <td>4536523.0</td>\n    </tr>\n    <tr>\n      <th>...</th>\n      <td>...</td>\n      <td>...</td>\n      <td>...</td>\n      <td>...</td>\n      <td>...</td>\n      <td>...</td>\n    </tr>\n    <tr>\n      <th>2021-05-10 15:30:00-04:00</th>\n      <td>127.195000</td>\n      <td>127.500000</td>\n      <td>126.809998</td>\n      <td>126.860001</td>\n      <td>126.860001</td>\n      <td>11140598.0</td>\n    </tr>\n    <tr>\n      <th>2021-05-10 16:00:00-04:00</th>\n      <td>126.860000</td>\n      <td>127.988100</td>\n      <td>117.824670</td>\n      <td>126.490000</td>\n      <td>126.490000</td>\n      <td>0.0</td>\n    </tr>\n    <tr>\n      <th>2021-05-10 17:00:00-04:00</th>\n      <td>126.500000</td>\n      <td>126.850000</td>\n      <td>118.090096</td>\n      <td>126.430000</td>\n      <td>126.430000</td>\n      <td>0.0</td>\n    </tr>\n    <tr>\n      <th>2021-05-10 18:00:00-04:00</th>\n      <td>126.460000</td>\n      <td>126.530000</td>\n      <td>126.300000</td>\n      <td>126.420000</td>\n      <td>126.420000</td>\n      <td>0.0</td>\n    </tr>\n    <tr>\n      <th>2021-05-10 19:00:00-04:00</th>\n      <td>126.430000</td>\n      <td>126.470000</td>\n      <td>126.300000</td>\n      <td>126.320000</td>\n      <td>126.320000</td>\n      <td>0.0</td>\n    </tr>\n  </tbody>\n</table>\n<p>8192 rows × 6 columns</p>\n</div>"
     },
     "execution_count": 218,
     "metadata": {},
     "output_type": "execute_result"
    }
   ],
   "source": [
    "data = yf.download(  # or pdr.get_data_yahoo(...\n",
    "        tickers = symbol,\n",
    "\n",
    "\n",
    "        period = INTERVAL,\n",
    "\n",
    "        interval = FETCH_INTERVAL,\n",
    "\n",
    "        # group by ticker (to access via data['SPY'])\n",
    "        # (optional, default is 'column')\n",
    "        group_by = 'ticker',\n",
    "\n",
    "        # adjust all OHLC automatically\n",
    "        # (optional, default is False)\n",
    "        # auto_adjust = True,\n",
    "\n",
    "        # download pre/post regular market hours data\n",
    "        # (optional, default is False)\n",
    "        prepost = True,\n",
    "\n",
    "        # use threads for mass downloading? (True/False/Integer)\n",
    "        # (optional, default is True)\n",
    "        threads = True,\n",
    "\n",
    "        # proxy URL scheme use use when downloading?\n",
    "        # (optional, default is None)\n",
    "        proxy = None\n",
    "    )\n",
    "data"
   ],
   "metadata": {
    "collapsed": false,
    "pycharm": {
     "name": "#%%\n"
    }
   }
  },
  {
   "cell_type": "code",
   "execution_count": 219,
   "outputs": [
    {
     "data": {
      "text/plain": "                                 open        high         low       close  \\\nDatetime                                                                    \n2019-05-13 09:00:00-04:00   47.315000   47.345000   46.877500   46.877500   \n2019-05-13 09:30:00-04:00   46.927502   47.369999   46.424999   46.791050   \n2019-05-13 10:30:00-04:00   46.792500   47.125000   46.625027   46.799999   \n2019-05-13 11:30:00-04:00   46.794998   46.875252   46.540024   46.646252   \n2019-05-13 12:30:00-04:00   46.645000   46.709999   46.270000   46.342499   \n...                               ...         ...         ...         ...   \n2021-05-10 15:30:00-04:00  127.195000  127.500000  126.809998  126.860001   \n2021-05-10 16:00:00-04:00  126.860000  127.988100  117.824670  126.490000   \n2021-05-10 17:00:00-04:00  126.500000  126.850000  118.090096  126.430000   \n2021-05-10 18:00:00-04:00  126.460000  126.530000  126.300000  126.420000   \n2021-05-10 19:00:00-04:00  126.430000  126.470000  126.300000  126.320000   \n\n                            Adj Close      volume  \nDatetime                                           \n2019-05-13 09:00:00-04:00   46.877500         0.0  \n2019-05-13 09:30:00-04:00   46.791050  19332487.0  \n2019-05-13 10:30:00-04:00   46.799999   6350368.0  \n2019-05-13 11:30:00-04:00   46.646252   4536523.0  \n2019-05-13 12:30:00-04:00   46.342499   5015671.0  \n...                               ...         ...  \n2021-05-10 15:30:00-04:00  126.860001  11140598.0  \n2021-05-10 16:00:00-04:00  126.490000         0.0  \n2021-05-10 17:00:00-04:00  126.430000         0.0  \n2021-05-10 18:00:00-04:00  126.420000         0.0  \n2021-05-10 19:00:00-04:00  126.320000         0.0  \n\n[8191 rows x 6 columns]",
      "text/html": "<div>\n<style scoped>\n    .dataframe tbody tr th:only-of-type {\n        vertical-align: middle;\n    }\n\n    .dataframe tbody tr th {\n        vertical-align: top;\n    }\n\n    .dataframe thead th {\n        text-align: right;\n    }\n</style>\n<table border=\"1\" class=\"dataframe\">\n  <thead>\n    <tr style=\"text-align: right;\">\n      <th></th>\n      <th>open</th>\n      <th>high</th>\n      <th>low</th>\n      <th>close</th>\n      <th>Adj Close</th>\n      <th>volume</th>\n    </tr>\n    <tr>\n      <th>Datetime</th>\n      <th></th>\n      <th></th>\n      <th></th>\n      <th></th>\n      <th></th>\n      <th></th>\n    </tr>\n  </thead>\n  <tbody>\n    <tr>\n      <th>2019-05-13 09:00:00-04:00</th>\n      <td>47.315000</td>\n      <td>47.345000</td>\n      <td>46.877500</td>\n      <td>46.877500</td>\n      <td>46.877500</td>\n      <td>0.0</td>\n    </tr>\n    <tr>\n      <th>2019-05-13 09:30:00-04:00</th>\n      <td>46.927502</td>\n      <td>47.369999</td>\n      <td>46.424999</td>\n      <td>46.791050</td>\n      <td>46.791050</td>\n      <td>19332487.0</td>\n    </tr>\n    <tr>\n      <th>2019-05-13 10:30:00-04:00</th>\n      <td>46.792500</td>\n      <td>47.125000</td>\n      <td>46.625027</td>\n      <td>46.799999</td>\n      <td>46.799999</td>\n      <td>6350368.0</td>\n    </tr>\n    <tr>\n      <th>2019-05-13 11:30:00-04:00</th>\n      <td>46.794998</td>\n      <td>46.875252</td>\n      <td>46.540024</td>\n      <td>46.646252</td>\n      <td>46.646252</td>\n      <td>4536523.0</td>\n    </tr>\n    <tr>\n      <th>2019-05-13 12:30:00-04:00</th>\n      <td>46.645000</td>\n      <td>46.709999</td>\n      <td>46.270000</td>\n      <td>46.342499</td>\n      <td>46.342499</td>\n      <td>5015671.0</td>\n    </tr>\n    <tr>\n      <th>...</th>\n      <td>...</td>\n      <td>...</td>\n      <td>...</td>\n      <td>...</td>\n      <td>...</td>\n      <td>...</td>\n    </tr>\n    <tr>\n      <th>2021-05-10 15:30:00-04:00</th>\n      <td>127.195000</td>\n      <td>127.500000</td>\n      <td>126.809998</td>\n      <td>126.860001</td>\n      <td>126.860001</td>\n      <td>11140598.0</td>\n    </tr>\n    <tr>\n      <th>2021-05-10 16:00:00-04:00</th>\n      <td>126.860000</td>\n      <td>127.988100</td>\n      <td>117.824670</td>\n      <td>126.490000</td>\n      <td>126.490000</td>\n      <td>0.0</td>\n    </tr>\n    <tr>\n      <th>2021-05-10 17:00:00-04:00</th>\n      <td>126.500000</td>\n      <td>126.850000</td>\n      <td>118.090096</td>\n      <td>126.430000</td>\n      <td>126.430000</td>\n      <td>0.0</td>\n    </tr>\n    <tr>\n      <th>2021-05-10 18:00:00-04:00</th>\n      <td>126.460000</td>\n      <td>126.530000</td>\n      <td>126.300000</td>\n      <td>126.420000</td>\n      <td>126.420000</td>\n      <td>0.0</td>\n    </tr>\n    <tr>\n      <th>2021-05-10 19:00:00-04:00</th>\n      <td>126.430000</td>\n      <td>126.470000</td>\n      <td>126.300000</td>\n      <td>126.320000</td>\n      <td>126.320000</td>\n      <td>0.0</td>\n    </tr>\n  </tbody>\n</table>\n<p>8191 rows × 6 columns</p>\n</div>"
     },
     "execution_count": 219,
     "metadata": {},
     "output_type": "execute_result"
    }
   ],
   "source": [
    "data.rename(columns={\"Close\": 'close', \"High\": 'high', \"Low\": 'low', 'Volume': 'volume', 'Open': 'open'}, inplace=True)\n",
    "data.head(10)\n",
    "data.dropna()"
   ],
   "metadata": {
    "collapsed": false,
    "pycharm": {
     "name": "#%%\n"
    }
   }
  },
  {
   "cell_type": "code",
   "execution_count": 220,
   "outputs": [
    {
     "data": {
      "text/plain": "<AxesSubplot:xlabel='Datetime'>"
     },
     "execution_count": 220,
     "metadata": {},
     "output_type": "execute_result"
    },
    {
     "data": {
      "text/plain": "<Figure size 432x288 with 1 Axes>",
      "image/png": "[encoded data removed]"
     },
     "metadata": {
      "needs_background": "light"
     },
     "output_type": "display_data"
    }
   ],
   "source": [
    "data['close'].plot()"
   ],
   "metadata": {
    "collapsed": false,
    "pycharm": {
     "name": "#%%\n"
    }
   }
  },
  {
   "cell_type": "code",
   "execution_count": 221,
   "outputs": [
    {
     "data": {
      "text/plain": "                                open       high        low      close  \\\nDatetime                                                                \n2019-05-10 09:30:00-04:00        NaN        NaN        NaN        NaN   \n2019-05-13 09:00:00-04:00  47.315000  47.345000  46.877500  46.877500   \n2019-05-13 09:30:00-04:00  46.927502  47.369999  46.424999  46.791050   \n2019-05-13 10:30:00-04:00  46.792500  47.125000  46.625027  46.799999   \n2019-05-13 11:30:00-04:00  46.794998  46.875252  46.540024  46.646252   \n\n                           Adj Close      volume  close_pct  \nDatetime                                                     \n2019-05-10 09:30:00-04:00        NaN         NaN        NaN  \n2019-05-13 09:00:00-04:00  46.877500         0.0        NaN  \n2019-05-13 09:30:00-04:00  46.791050  19332487.0  -0.001844  \n2019-05-13 10:30:00-04:00  46.799999   6350368.0   0.000191  \n2019-05-13 11:30:00-04:00  46.646252   4536523.0  -0.003285  ",
      "text/html": "<div>\n<style scoped>\n    .dataframe tbody tr th:only-of-type {\n        vertical-align: middle;\n    }\n\n    .dataframe tbody tr th {\n        vertical-align: top;\n    }\n\n    .dataframe thead th {\n        text-align: right;\n    }\n</style>\n<table border=\"1\" class=\"dataframe\">\n  <thead>\n    <tr style=\"text-align: right;\">\n      <th></th>\n      <th>open</th>\n      <th>high</th>\n      <th>low</th>\n      <th>close</th>\n      <th>Adj Close</th>\n      <th>volume</th>\n      <th>close_pct</th>\n    </tr>\n    <tr>\n      <th>Datetime</th>\n      <th></th>\n      <th></th>\n      <th></th>\n      <th></th>\n      <th></th>\n      <th></th>\n      <th></th>\n    </tr>\n  </thead>\n  <tbody>\n    <tr>\n      <th>2019-05-10 09:30:00-04:00</th>\n      <td>NaN</td>\n      <td>NaN</td>\n      <td>NaN</td>\n      <td>NaN</td>\n      <td>NaN</td>\n      <td>NaN</td>\n      <td>NaN</td>\n    </tr>\n    <tr>\n      <th>2019-05-13 09:00:00-04:00</th>\n      <td>47.315000</td>\n      <td>47.345000</td>\n      <td>46.877500</td>\n      <td>46.877500</td>\n      <td>46.877500</td>\n      <td>0.0</td>\n      <td>NaN</td>\n    </tr>\n    <tr>\n      <th>2019-05-13 09:30:00-04:00</th>\n      <td>46.927502</td>\n      <td>47.369999</td>\n      <td>46.424999</td>\n      <td>46.791050</td>\n      <td>46.791050</td>\n      <td>19332487.0</td>\n      <td>-0.001844</td>\n    </tr>\n    <tr>\n      <th>2019-05-13 10:30:00-04:00</th>\n      <td>46.792500</td>\n      <td>47.125000</td>\n      <td>46.625027</td>\n      <td>46.799999</td>\n      <td>46.799999</td>\n      <td>6350368.0</td>\n      <td>0.000191</td>\n    </tr>\n    <tr>\n      <th>2019-05-13 11:30:00-04:00</th>\n      <td>46.794998</td>\n      <td>46.875252</td>\n      <td>46.540024</td>\n      <td>46.646252</td>\n      <td>46.646252</td>\n      <td>4536523.0</td>\n      <td>-0.003285</td>\n    </tr>\n  </tbody>\n</table>\n</div>"
     },
     "execution_count": 221,
     "metadata": {},
     "output_type": "execute_result"
    }
   ],
   "source": [
    "data['close_pct'] = data['close'].pct_change()\n",
    "data.head()"
   ],
   "metadata": {
    "collapsed": false,
    "pycharm": {
     "name": "#%%\n"
    }
   }
  },
  {
   "cell_type": "code",
   "execution_count": 222,
   "outputs": [
    {
     "data": {
      "text/plain": "              open          high          low        close    Adj Close  \\\ncount  8191.000000  8.191000e+03  8191.000000  8191.000000  8191.000000   \nmean     89.163754  7.889542e+06    88.727648    89.165290    89.165290   \nstd      30.146873  7.140281e+08    29.939859    30.140895    30.140895   \nmin      42.970001  4.332500e+01    42.567501    42.972500    42.972500   \n25%      62.207500  6.251374e+01    61.826250    62.192499    62.192499   \n50%      80.250000  8.049500e+01    80.014999    80.262500    80.262500   \n75%     119.750000  1.202025e+02   118.960000   119.725000   119.725000   \nmax     144.900000  6.462250e+10   144.590000   144.910000   144.910000   \n\n             volume    close_pct  \ncount  8.191000e+03  8190.000000  \nmean   3.489824e+06     0.000139  \nstd    6.665740e+06     0.006026  \nmin    0.000000e+00    -0.085960  \n25%    0.000000e+00    -0.001747  \n50%    0.000000e+00     0.000097  \n75%    4.241563e+06     0.002047  \nmax    9.845401e+07     0.078661  ",
      "text/html": "<div>\n<style scoped>\n    .dataframe tbody tr th:only-of-type {\n        vertical-align: middle;\n    }\n\n    .dataframe tbody tr th {\n        vertical-align: top;\n    }\n\n    .dataframe thead th {\n        text-align: right;\n    }\n</style>\n<table border=\"1\" class=\"dataframe\">\n  <thead>\n    <tr style=\"text-align: right;\">\n      <th></th>\n      <th>open</th>\n      <th>high</th>\n      <th>low</th>\n      <th>close</th>\n      <th>Adj Close</th>\n      <th>volume</th>\n      <th>close_pct</th>\n    </tr>\n  </thead>\n  <tbody>\n    <tr>\n      <th>count</th>\n      <td>8191.000000</td>\n      <td>8.191000e+03</td>\n      <td>8191.000000</td>\n      <td>8191.000000</td>\n      <td>8191.000000</td>\n      <td>8.191000e+03</td>\n      <td>8190.000000</td>\n    </tr>\n    <tr>\n      <th>mean</th>\n      <td>89.163754</td>\n      <td>7.889542e+06</td>\n      <td>88.727648</td>\n      <td>89.165290</td>\n      <td>89.165290</td>\n      <td>3.489824e+06</td>\n      <td>0.000139</td>\n    </tr>\n    <tr>\n      <th>std</th>\n      <td>30.146873</td>\n      <td>7.140281e+08</td>\n      <td>29.939859</td>\n      <td>30.140895</td>\n      <td>30.140895</td>\n      <td>6.665740e+06</td>\n      <td>0.006026</td>\n    </tr>\n    <tr>\n      <th>min</th>\n      <td>42.970001</td>\n      <td>4.332500e+01</td>\n      <td>42.567501</td>\n      <td>42.972500</td>\n      <td>42.972500</td>\n      <td>0.000000e+00</td>\n      <td>-0.085960</td>\n    </tr>\n    <tr>\n      <th>25%</th>\n      <td>62.207500</td>\n      <td>6.251374e+01</td>\n      <td>61.826250</td>\n      <td>62.192499</td>\n      <td>62.192499</td>\n      <td>0.000000e+00</td>\n      <td>-0.001747</td>\n    </tr>\n    <tr>\n      <th>50%</th>\n      <td>80.250000</td>\n      <td>8.049500e+01</td>\n      <td>80.014999</td>\n      <td>80.262500</td>\n      <td>80.262500</td>\n      <td>0.000000e+00</td>\n      <td>0.000097</td>\n    </tr>\n    <tr>\n      <th>75%</th>\n      <td>119.750000</td>\n      <td>1.202025e+02</td>\n      <td>118.960000</td>\n      <td>119.725000</td>\n      <td>119.725000</td>\n      <td>4.241563e+06</td>\n      <td>0.002047</td>\n    </tr>\n    <tr>\n      <th>max</th>\n      <td>144.900000</td>\n      <td>6.462250e+10</td>\n      <td>144.590000</td>\n      <td>144.910000</td>\n      <td>144.910000</td>\n      <td>9.845401e+07</td>\n      <td>0.078661</td>\n    </tr>\n  </tbody>\n</table>\n</div>"
     },
     "execution_count": 222,
     "metadata": {},
     "output_type": "execute_result"
    }
   ],
   "source": [
    "data.describe()"
   ],
   "metadata": {
    "collapsed": false,
    "pycharm": {
     "name": "#%%\n"
    }
   }
  },
  {
   "cell_type": "code",
   "execution_count": 223,
   "outputs": [],
   "source": [
    "def _get_indicator_data(data):\n",
    "    \"\"\"\n",
    "    Function that uses the finta API to calculate technical indicators used as the features\n",
    "    :return:\n",
    "    \"\"\"\n",
    "\n",
    "    data = add_all_ta_features(\n",
    "        data, open=\"open\", high=\"high\", low=\"low\", close=\"close\", volume=\"volume\", fillna=True)\n",
    "\n",
    "    # Instead of using the actual volume value (which changes over time), we normalize it with a moving volume average\n",
    "    # data['normVol'] = data['volume'] / data['volume'].ewm(5).mean()\n",
    "    # for i in range(1,50):\n",
    "    #     data[f'close{i}'] = data['close'].shift(i)\n",
    "    # Remove columns that won't be used as features\n",
    "    # del (data['Adj Close'])\n",
    "\n",
    "    return data\n"
   ],
   "metadata": {
    "collapsed": false,
    "pycharm": {
     "name": "#%%\n"
    }
   }
  },
  {
   "cell_type": "code",
   "execution_count": 224,
   "outputs": [
    {
     "data": {
      "text/plain": "                                 open        high         low       close  \\\nDatetime                                                                    \n2019-05-10 09:30:00-04:00         NaN         NaN         NaN         NaN   \n2019-05-13 09:00:00-04:00   47.315000   47.345000   46.877500   46.877500   \n2019-05-13 09:30:00-04:00   46.927502   47.369999   46.424999   46.791050   \n2019-05-13 10:30:00-04:00   46.792500   47.125000   46.625027   46.799999   \n2019-05-13 11:30:00-04:00   46.794998   46.875252   46.540024   46.646252   \n...                               ...         ...         ...         ...   \n2021-05-10 15:30:00-04:00  127.195000  127.500000  126.809998  126.860001   \n2021-05-10 16:00:00-04:00  126.860000  127.988100  117.824670  126.490000   \n2021-05-10 17:00:00-04:00  126.500000  126.850000  118.090096  126.430000   \n2021-05-10 18:00:00-04:00  126.460000  126.530000  126.300000  126.420000   \n2021-05-10 19:00:00-04:00  126.430000  126.470000  126.300000  126.320000   \n\n                            Adj Close      volume  close_pct  \nDatetime                                                      \n2019-05-10 09:30:00-04:00         NaN         NaN        NaN  \n2019-05-13 09:00:00-04:00   46.877500         0.0        NaN  \n2019-05-13 09:30:00-04:00   46.791050  19332487.0  -0.001844  \n2019-05-13 10:30:00-04:00   46.799999   6350368.0   0.000191  \n2019-05-13 11:30:00-04:00   46.646252   4536523.0  -0.003285  \n...                               ...         ...        ...  \n2021-05-10 15:30:00-04:00  126.860001  11140598.0  -0.002595  \n2021-05-10 16:00:00-04:00  126.490000         0.0  -0.002917  \n2021-05-10 17:00:00-04:00  126.430000         0.0  -0.000474  \n2021-05-10 18:00:00-04:00  126.420000         0.0  -0.000079  \n2021-05-10 19:00:00-04:00  126.320000         0.0  -0.000791  \n\n[8192 rows x 7 columns]",
      "text/html": "<div>\n<style scoped>\n    .dataframe tbody tr th:only-of-type {\n        vertical-align: middle;\n    }\n\n    .dataframe tbody tr th {\n        vertical-align: top;\n    }\n\n    .dataframe thead th {\n        text-align: right;\n    }\n</style>\n<table border=\"1\" class=\"dataframe\">\n  <thead>\n    <tr style=\"text-align: right;\">\n      <th></th>\n      <th>open</th>\n      <th>high</th>\n      <th>low</th>\n      <th>close</th>\n      <th>Adj Close</th>\n      <th>volume</th>\n      <th>close_pct</th>\n    </tr>\n    <tr>\n      <th>Datetime</th>\n      <th></th>\n      <th></th>\n      <th></th>\n      <th></th>\n      <th></th>\n      <th></th>\n      <th></th>\n    </tr>\n  </thead>\n  <tbody>\n    <tr>\n      <th>2019-05-10 09:30:00-04:00</th>\n      <td>NaN</td>\n      <td>NaN</td>\n      <td>NaN</td>\n      <td>NaN</td>\n      <td>NaN</td>\n      <td>NaN</td>\n      <td>NaN</td>\n    </tr>\n    <tr>\n      <th>2019-05-13 09:00:00-04:00</th>\n      <td>47.315000</td>\n      <td>47.345000</td>\n      <td>46.877500</td>\n      <td>46.877500</td>\n      <td>46.877500</td>\n      <td>0.0</td>\n      <td>NaN</td>\n    </tr>\n    <tr>\n      <th>2019-05-13 09:30:00-04:00</th>\n      <td>46.927502</td>\n      <td>47.369999</td>\n      <td>46.424999</td>\n      <td>46.791050</td>\n      <td>46.791050</td>\n      <td>19332487.0</td>\n      <td>-0.001844</td>\n    </tr>\n    <tr>\n      <th>2019-05-13 10:30:00-04:00</th>\n      <td>46.792500</td>\n      <td>47.125000</td>\n      <td>46.625027</td>\n      <td>46.799999</td>\n      <td>46.799999</td>\n      <td>6350368.0</td>\n      <td>0.000191</td>\n    </tr>\n    <tr>\n      <th>2019-05-13 11:30:00-04:00</th>\n      <td>46.794998</td>\n      <td>46.875252</td>\n      <td>46.540024</td>\n      <td>46.646252</td>\n      <td>46.646252</td>\n      <td>4536523.0</td>\n      <td>-0.003285</td>\n    </tr>\n    <tr>\n      <th>...</th>\n      <td>...</td>\n      <td>...</td>\n      <td>...</td>\n      <td>...</td>\n      <td>...</td>\n      <td>...</td>\n      <td>...</td>\n    </tr>\n    <tr>\n      <th>2021-05-10 15:30:00-04:00</th>\n      <td>127.195000</td>\n      <td>127.500000</td>\n      <td>126.809998</td>\n      <td>126.860001</td>\n      <td>126.860001</td>\n      <td>11140598.0</td>\n      <td>-0.002595</td>\n    </tr>\n    <tr>\n      <th>2021-05-10 16:00:00-04:00</th>\n      <td>126.860000</td>\n      <td>127.988100</td>\n      <td>117.824670</td>\n      <td>126.490000</td>\n      <td>126.490000</td>\n      <td>0.0</td>\n      <td>-0.002917</td>\n    </tr>\n    <tr>\n      <th>2021-05-10 17:00:00-04:00</th>\n      <td>126.500000</td>\n      <td>126.850000</td>\n      <td>118.090096</td>\n      <td>126.430000</td>\n      <td>126.430000</td>\n      <td>0.0</td>\n      <td>-0.000474</td>\n    </tr>\n    <tr>\n      <th>2021-05-10 18:00:00-04:00</th>\n      <td>126.460000</td>\n      <td>126.530000</td>\n      <td>126.300000</td>\n      <td>126.420000</td>\n      <td>126.420000</td>\n      <td>0.0</td>\n      <td>-0.000079</td>\n    </tr>\n    <tr>\n      <th>2021-05-10 19:00:00-04:00</th>\n      <td>126.430000</td>\n      <td>126.470000</td>\n      <td>126.300000</td>\n      <td>126.320000</td>\n      <td>126.320000</td>\n      <td>0.0</td>\n      <td>-0.000791</td>\n    </tr>\n  </tbody>\n</table>\n<p>8192 rows × 7 columns</p>\n</div>"
     },
     "execution_count": 224,
     "metadata": {},
     "output_type": "execute_result"
    }
   ],
   "source": [
    "data"
   ],
   "metadata": {
    "collapsed": false,
    "pycharm": {
     "name": "#%%\n"
    }
   }
  },
  {
   "cell_type": "code",
   "execution_count": 225,
   "outputs": [
    {
     "data": {
      "text/plain": "Index(['open', 'high', 'low', 'close', 'Adj Close', 'volume', 'close_pct'], dtype='object')"
     },
     "execution_count": 225,
     "metadata": {},
     "output_type": "execute_result"
    }
   ],
   "source": [
    "data.columns"
   ],
   "metadata": {
    "collapsed": false,
    "pycharm": {
     "name": "#%%\n"
    }
   }
  },
  {
   "cell_type": "code",
   "execution_count": 226,
   "outputs": [],
   "source": [
    "def create_class_column(row, lowest_threshold, higher_threshold):\n",
    "    if row['close_shift'] - row['close'] > higher_threshold:\n",
    "        return 1\n",
    "    if row['close_shift'] - row['close'] < lowest_threshold:\n",
    "        return -1\n",
    "    else:\n",
    "        return 0"
   ],
   "metadata": {
    "collapsed": false,
    "pycharm": {
     "name": "#%%\n"
    }
   }
  },
  {
   "cell_type": "code",
   "execution_count": 227,
   "outputs": [
    {
     "data": {
      "text/plain": "                                 open        high         low       close  \\\nDatetime                                                                    \n2019-05-10 09:30:00-04:00         NaN         NaN         NaN         NaN   \n2019-05-13 09:00:00-04:00   47.315000   47.345000   46.877500   46.877500   \n2019-05-13 09:30:00-04:00   46.927502   47.369999   46.424999   46.791050   \n2019-05-13 10:30:00-04:00   46.792500   47.125000   46.625027   46.799999   \n2019-05-13 11:30:00-04:00   46.794998   46.875252   46.540024   46.646252   \n...                               ...         ...         ...         ...   \n2021-05-10 15:30:00-04:00  127.195000  127.500000  126.809998  126.860001   \n2021-05-10 16:00:00-04:00  126.860000  127.988100  117.824670  126.490000   \n2021-05-10 17:00:00-04:00  126.500000  126.850000  118.090096  126.430000   \n2021-05-10 18:00:00-04:00  126.460000  126.530000  126.300000  126.420000   \n2021-05-10 19:00:00-04:00  126.430000  126.470000  126.300000  126.320000   \n\n                            Adj Close      volume  close_pct  close_shift  \nDatetime                                                                   \n2019-05-10 09:30:00-04:00         NaN         NaN        NaN    46.852500  \n2019-05-13 09:00:00-04:00   46.877500         0.0        NaN    46.615000  \n2019-05-13 09:30:00-04:00   46.791050  19332487.0  -0.001844    47.287498  \n2019-05-13 10:30:00-04:00   46.799999   6350368.0   0.000191    47.563423  \n2019-05-13 11:30:00-04:00   46.646252   4536523.0  -0.003285    47.584076  \n...                               ...         ...        ...          ...  \n2021-05-10 15:30:00-04:00  126.860001  11140598.0  -0.002595          NaN  \n2021-05-10 16:00:00-04:00  126.490000         0.0  -0.002917          NaN  \n2021-05-10 17:00:00-04:00  126.430000         0.0  -0.000474          NaN  \n2021-05-10 18:00:00-04:00  126.420000         0.0  -0.000079          NaN  \n2021-05-10 19:00:00-04:00  126.320000         0.0  -0.000791          NaN  \n\n[8192 rows x 8 columns]",
      "text/html": "<div>\n<style scoped>\n    .dataframe tbody tr th:only-of-type {\n        vertical-align: middle;\n    }\n\n    .dataframe tbody tr th {\n        vertical-align: top;\n    }\n\n    .dataframe thead th {\n        text-align: right;\n    }\n</style>\n<table border=\"1\" class=\"dataframe\">\n  <thead>\n    <tr style=\"text-align: right;\">\n      <th></th>\n      <th>open</th>\n      <th>high</th>\n      <th>low</th>\n      <th>close</th>\n      <th>Adj Close</th>\n      <th>volume</th>\n      <th>close_pct</th>\n      <th>close_shift</th>\n    </tr>\n    <tr>\n      <th>Datetime</th>\n      <th></th>\n      <th></th>\n      <th></th>\n      <th></th>\n      <th></th>\n      <th></th>\n      <th></th>\n      <th></th>\n    </tr>\n  </thead>\n  <tbody>\n    <tr>\n      <th>2019-05-10 09:30:00-04:00</th>\n      <td>NaN</td>\n      <td>NaN</td>\n      <td>NaN</td>\n      <td>NaN</td>\n      <td>NaN</td>\n      <td>NaN</td>\n      <td>NaN</td>\n      <td>46.852500</td>\n    </tr>\n    <tr>\n      <th>2019-05-13 09:00:00-04:00</th>\n      <td>47.315000</td>\n      <td>47.345000</td>\n      <td>46.877500</td>\n      <td>46.877500</td>\n      <td>46.877500</td>\n      <td>0.0</td>\n      <td>NaN</td>\n      <td>46.615000</td>\n    </tr>\n    <tr>\n      <th>2019-05-13 09:30:00-04:00</th>\n      <td>46.927502</td>\n      <td>47.369999</td>\n      <td>46.424999</td>\n      <td>46.791050</td>\n      <td>46.791050</td>\n      <td>19332487.0</td>\n      <td>-0.001844</td>\n      <td>47.287498</td>\n    </tr>\n    <tr>\n      <th>2019-05-13 10:30:00-04:00</th>\n      <td>46.792500</td>\n      <td>47.125000</td>\n      <td>46.625027</td>\n      <td>46.799999</td>\n      <td>46.799999</td>\n      <td>6350368.0</td>\n      <td>0.000191</td>\n      <td>47.563423</td>\n    </tr>\n    <tr>\n      <th>2019-05-13 11:30:00-04:00</th>\n      <td>46.794998</td>\n      <td>46.875252</td>\n      <td>46.540024</td>\n      <td>46.646252</td>\n      <td>46.646252</td>\n      <td>4536523.0</td>\n      <td>-0.003285</td>\n      <td>47.584076</td>\n    </tr>\n    <tr>\n      <th>...</th>\n      <td>...</td>\n      <td>...</td>\n      <td>...</td>\n      <td>...</td>\n      <td>...</td>\n      <td>...</td>\n      <td>...</td>\n      <td>...</td>\n    </tr>\n    <tr>\n      <th>2021-05-10 15:30:00-04:00</th>\n      <td>127.195000</td>\n      <td>127.500000</td>\n      <td>126.809998</td>\n      <td>126.860001</td>\n      <td>126.860001</td>\n      <td>11140598.0</td>\n      <td>-0.002595</td>\n      <td>NaN</td>\n    </tr>\n    <tr>\n      <th>2021-05-10 16:00:00-04:00</th>\n      <td>126.860000</td>\n      <td>127.988100</td>\n      <td>117.824670</td>\n      <td>126.490000</td>\n      <td>126.490000</td>\n      <td>0.0</td>\n      <td>-0.002917</td>\n      <td>NaN</td>\n    </tr>\n    <tr>\n      <th>2021-05-10 17:00:00-04:00</th>\n      <td>126.500000</td>\n      <td>126.850000</td>\n      <td>118.090096</td>\n      <td>126.430000</td>\n      <td>126.430000</td>\n      <td>0.0</td>\n      <td>-0.000474</td>\n      <td>NaN</td>\n    </tr>\n    <tr>\n      <th>2021-05-10 18:00:00-04:00</th>\n      <td>126.460000</td>\n      <td>126.530000</td>\n      <td>126.300000</td>\n      <td>126.420000</td>\n      <td>126.420000</td>\n      <td>0.0</td>\n      <td>-0.000079</td>\n      <td>NaN</td>\n    </tr>\n    <tr>\n      <th>2021-05-10 19:00:00-04:00</th>\n      <td>126.430000</td>\n      <td>126.470000</td>\n      <td>126.300000</td>\n      <td>126.320000</td>\n      <td>126.320000</td>\n      <td>0.0</td>\n      <td>-0.000791</td>\n      <td>NaN</td>\n    </tr>\n  </tbody>\n</table>\n<p>8192 rows × 8 columns</p>\n</div>"
     },
     "execution_count": 227,
     "metadata": {},
     "output_type": "execute_result"
    }
   ],
   "source": [
    "data['close_shift'] = data.shift(-WINDOW)['close']\n",
    "data"
   ],
   "metadata": {
    "collapsed": false,
    "pycharm": {
     "name": "#%%\n"
    }
   }
  },
  {
   "cell_type": "code",
   "execution_count": 228,
   "outputs": [
    {
     "name": "stdout",
     "output_type": "stream",
     "text": [
      " 0    4403\n",
      " 1    2241\n",
      "-1    1548\n",
      "Name: class_column, dtype: int64\n",
      "1.49 -1.49\n",
      " 0    4376\n",
      " 1    2256\n",
      "-1    1560\n",
      "Name: class_column, dtype: int64\n",
      "1.48 -1.48\n",
      " 0    4355\n",
      " 1    2269\n",
      "-1    1568\n",
      "Name: class_column, dtype: int64\n",
      "1.47 -1.47\n",
      " 0    4328\n",
      " 1    2291\n",
      "-1    1573\n",
      "Name: class_column, dtype: int64\n",
      "1.46 -1.46\n",
      " 0    4310\n",
      " 1    2300\n",
      "-1    1582\n",
      "Name: class_column, dtype: int64\n",
      "1.45 -1.45\n",
      " 0    4287\n",
      " 1    2312\n",
      "-1    1593\n",
      "Name: class_column, dtype: int64\n",
      "1.44 -1.44\n",
      " 0    4268\n",
      " 1    2322\n",
      "-1    1602\n",
      "Name: class_column, dtype: int64\n",
      "1.43 -1.43\n",
      " 0    4237\n",
      " 1    2341\n",
      "-1    1614\n",
      "Name: class_column, dtype: int64\n",
      "1.42 -1.42\n",
      " 0    4224\n",
      " 1    2350\n",
      "-1    1618\n",
      "Name: class_column, dtype: int64\n",
      "1.41 -1.41\n",
      " 0    4210\n",
      " 1    2359\n",
      "-1    1623\n",
      "Name: class_column, dtype: int64\n",
      "1.4 -1.4\n",
      " 0    4187\n",
      " 1    2379\n",
      "-1    1626\n",
      "Name: class_column, dtype: int64\n",
      "1.39 -1.39\n",
      " 0    4171\n",
      " 1    2390\n",
      "-1    1631\n",
      "Name: class_column, dtype: int64\n",
      "1.38 -1.38\n",
      " 0    4150\n",
      " 1    2405\n",
      "-1    1637\n",
      "Name: class_column, dtype: int64\n",
      "1.3699999999999999 -1.3699999999999999\n",
      " 0    4126\n",
      " 1    2423\n",
      "-1    1643\n",
      "Name: class_column, dtype: int64\n",
      "1.3599999999999999 -1.3599999999999999\n",
      " 0    4107\n",
      " 1    2432\n",
      "-1    1653\n",
      "Name: class_column, dtype: int64\n",
      "1.3499999999999999 -1.3499999999999999\n",
      " 0    4094\n",
      " 1    2440\n",
      "-1    1658\n",
      "Name: class_column, dtype: int64\n",
      "1.3399999999999999 -1.3399999999999999\n",
      " 0    4069\n",
      " 1    2455\n",
      "-1    1668\n",
      "Name: class_column, dtype: int64\n",
      "1.3299999999999998 -1.3299999999999998\n",
      " 0    4050\n",
      " 1    2472\n",
      "-1    1670\n",
      "Name: class_column, dtype: int64\n",
      "1.3199999999999998 -1.3199999999999998\n",
      " 0    4023\n",
      " 1    2485\n",
      "-1    1684\n",
      "Name: class_column, dtype: int64\n",
      "1.3099999999999998 -1.3099999999999998\n",
      " 0    4004\n",
      " 1    2495\n",
      "-1    1693\n",
      "Name: class_column, dtype: int64\n",
      "1.2999999999999998 -1.2999999999999998\n",
      " 0    3979\n",
      " 1    2511\n",
      "-1    1702\n",
      "Name: class_column, dtype: int64\n",
      "1.2899999999999998 -1.2899999999999998\n",
      " 0    3965\n",
      " 1    2521\n",
      "-1    1706\n",
      "Name: class_column, dtype: int64\n",
      "1.2799999999999998 -1.2799999999999998\n",
      " 0    3943\n",
      " 1    2534\n",
      "-1    1715\n",
      "Name: class_column, dtype: int64\n",
      "1.2699999999999998 -1.2699999999999998\n",
      " 0    3910\n",
      " 1    2554\n",
      "-1    1728\n",
      "Name: class_column, dtype: int64\n",
      "1.2599999999999998 -1.2599999999999998\n",
      " 0    3889\n",
      " 1    2568\n",
      "-1    1735\n",
      "Name: class_column, dtype: int64\n",
      "1.2499999999999998 -1.2499999999999998\n",
      " 0    3858\n",
      " 1    2586\n",
      "-1    1748\n",
      "Name: class_column, dtype: int64\n",
      "1.2399999999999998 -1.2399999999999998\n",
      " 0    3834\n",
      " 1    2605\n",
      "-1    1753\n",
      "Name: class_column, dtype: int64\n",
      "1.2299999999999998 -1.2299999999999998\n",
      " 0    3813\n",
      " 1    2618\n",
      "-1    1761\n",
      "Name: class_column, dtype: int64\n",
      "1.2199999999999998 -1.2199999999999998\n",
      " 0    3799\n",
      " 1    2628\n",
      "-1    1765\n",
      "Name: class_column, dtype: int64\n",
      "1.2099999999999997 -1.2099999999999997\n",
      " 0    3771\n",
      " 1    2646\n",
      "-1    1775\n",
      "Name: class_column, dtype: int64\n",
      "1.1999999999999997 -1.1999999999999997\n",
      " 0    3747\n",
      " 1    2655\n",
      "-1    1790\n",
      "Name: class_column, dtype: int64\n",
      "1.1899999999999997 -1.1899999999999997\n",
      " 0    3729\n",
      " 1    2664\n",
      "-1    1799\n",
      "Name: class_column, dtype: int64\n",
      "1.1799999999999997 -1.1799999999999997\n",
      " 0    3721\n",
      " 1    2670\n",
      "-1    1801\n",
      "Name: class_column, dtype: int64\n",
      "1.1699999999999997 -1.1699999999999997\n",
      " 0    3694\n",
      " 1    2685\n",
      "-1    1813\n",
      "Name: class_column, dtype: int64\n",
      "1.1599999999999997 -1.1599999999999997\n",
      " 0    3673\n",
      " 1    2701\n",
      "-1    1818\n",
      "Name: class_column, dtype: int64\n",
      "1.1499999999999997 -1.1499999999999997\n",
      " 0    3656\n",
      " 1    2712\n",
      "-1    1824\n",
      "Name: class_column, dtype: int64\n",
      "1.1399999999999997 -1.1399999999999997\n",
      " 0    3637\n",
      " 1    2725\n",
      "-1    1830\n",
      "Name: class_column, dtype: int64\n",
      "1.1299999999999997 -1.1299999999999997\n",
      " 0    3615\n",
      " 1    2742\n",
      "-1    1835\n",
      "Name: class_column, dtype: int64\n",
      "1.1199999999999997 -1.1199999999999997\n",
      " 0    3591\n",
      " 1    2762\n",
      "-1    1839\n",
      "Name: class_column, dtype: int64\n",
      "1.1099999999999997 -1.1099999999999997\n",
      " 0    3573\n",
      " 1    2772\n",
      "-1    1847\n",
      "Name: class_column, dtype: int64\n",
      "1.0999999999999996 -1.0999999999999996\n",
      " 0    3548\n",
      " 1    2791\n",
      "-1    1853\n",
      "Name: class_column, dtype: int64\n",
      "1.0899999999999996 -1.0899999999999996\n",
      " 0    3525\n",
      " 1    2811\n",
      "-1    1856\n",
      "Name: class_column, dtype: int64\n",
      "1.0799999999999996 -1.0799999999999996\n",
      " 0    3512\n",
      " 1    2818\n",
      "-1    1862\n",
      "Name: class_column, dtype: int64\n",
      "1.0699999999999996 -1.0699999999999996\n",
      " 0    3483\n",
      " 1    2835\n",
      "-1    1874\n",
      "Name: class_column, dtype: int64\n",
      "1.0599999999999996 -1.0599999999999996\n",
      " 0    3463\n",
      " 1    2845\n",
      "-1    1884\n",
      "Name: class_column, dtype: int64\n",
      "1.0499999999999996 -1.0499999999999996\n",
      " 0    3435\n",
      " 1    2866\n",
      "-1    1891\n",
      "Name: class_column, dtype: int64\n",
      "1.0399999999999996 -1.0399999999999996\n",
      " 0    3406\n",
      " 1    2884\n",
      "-1    1902\n",
      "Name: class_column, dtype: int64\n",
      "1.0299999999999996 -1.0299999999999996\n",
      " 0    3377\n",
      " 1    2906\n",
      "-1    1909\n",
      "Name: class_column, dtype: int64\n",
      "1.0199999999999996 -1.0199999999999996\n",
      " 0    3353\n",
      " 1    2919\n",
      "-1    1920\n",
      "Name: class_column, dtype: int64\n",
      "1.0099999999999996 -1.0099999999999996\n",
      " 0    3330\n",
      " 1    2934\n",
      "-1    1928\n",
      "Name: class_column, dtype: int64\n",
      "0.9999999999999996 -0.9999999999999996\n",
      " 0    3297\n",
      " 1    2956\n",
      "-1    1939\n",
      "Name: class_column, dtype: int64\n",
      "0.9899999999999995 -0.9899999999999995\n",
      " 0    3274\n",
      " 1    2966\n",
      "-1    1952\n",
      "Name: class_column, dtype: int64\n",
      "0.9799999999999995 -0.9799999999999995\n",
      " 0    3251\n",
      " 1    2983\n",
      "-1    1958\n",
      "Name: class_column, dtype: int64\n",
      "0.9699999999999995 -0.9699999999999995\n",
      " 0    3223\n",
      " 1    3003\n",
      "-1    1966\n",
      "Name: class_column, dtype: int64\n",
      "0.9599999999999995 -0.9599999999999995\n",
      " 0    3198\n",
      " 1    3020\n",
      "-1    1974\n",
      "Name: class_column, dtype: int64\n",
      "0.9499999999999995 -0.9499999999999995\n",
      " 0    3172\n",
      " 1    3038\n",
      "-1    1982\n",
      "Name: class_column, dtype: int64\n",
      "0.9399999999999995 -0.9399999999999995\n",
      " 0    3145\n",
      " 1    3054\n",
      "-1    1993\n",
      "Name: class_column, dtype: int64\n",
      "0.9299999999999995 -0.9299999999999995\n",
      " 0    3108\n",
      " 1    3077\n",
      "-1    2007\n",
      "Name: class_column, dtype: int64\n",
      "0.9199999999999995 -0.9199999999999995\n",
      " 1    3090\n",
      " 0    3084\n",
      "-1    2018\n",
      "Name: class_column, dtype: int64\n",
      "0.9299999999999995 -0.9099999999999995\n",
      " 0    3086\n",
      " 1    3077\n",
      "-1    2029\n",
      "Name: class_column, dtype: int64\n",
      "0.9199999999999995 -0.8999999999999995\n",
      " 1    3090\n",
      " 0    3064\n",
      "-1    2038\n",
      "Name: class_column, dtype: int64\n",
      "0.9299999999999995 -0.8899999999999995\n",
      " 1    3077\n",
      " 0    3066\n",
      "-1    2049\n",
      "Name: class_column, dtype: int64\n",
      "0.9399999999999995 -0.8799999999999994\n",
      " 0    3076\n",
      " 1    3054\n",
      "-1    2062\n",
      "Name: class_column, dtype: int64\n",
      "0.9299999999999995 -0.8699999999999994\n",
      " 1    3077\n",
      " 0    3046\n",
      "-1    2069\n",
      "Name: class_column, dtype: int64\n",
      "0.9399999999999995 -0.8599999999999994\n",
      " 0    3057\n",
      " 1    3054\n",
      "-1    2081\n",
      "Name: class_column, dtype: int64\n",
      "0.9299999999999995 -0.8499999999999994\n",
      " 1    3077\n",
      " 0    3025\n",
      "-1    2090\n",
      "Name: class_column, dtype: int64\n",
      "0.9399999999999995 -0.8399999999999994\n",
      " 1    3054\n",
      " 0    3040\n",
      "-1    2098\n",
      "Name: class_column, dtype: int64\n",
      "0.9499999999999995 -0.8299999999999994\n",
      " 0    3047\n",
      " 1    3038\n",
      "-1    2107\n",
      "Name: class_column, dtype: int64\n",
      "0.9399999999999995 -0.8199999999999994\n",
      " 1    3054\n",
      " 0    3016\n",
      "-1    2122\n",
      "Name: class_column, dtype: int64\n",
      "0.9499999999999995 -0.8099999999999994\n",
      " 1    3038\n",
      " 0    3016\n",
      "-1    2138\n",
      "Name: class_column, dtype: int64\n",
      "0.9599999999999995 -0.7999999999999994\n",
      " 0    3024\n",
      " 1    3020\n",
      "-1    2148\n",
      "Name: class_column, dtype: int64\n",
      "0.9499999999999995 -0.7899999999999994\n",
      " 1    3038\n",
      " 0    2998\n",
      "-1    2156\n",
      "Name: class_column, dtype: int64\n",
      "0.9599999999999995 -0.7799999999999994\n",
      " 1    3020\n",
      " 0    3004\n",
      "-1    2168\n",
      "Name: class_column, dtype: int64\n",
      "0.9699999999999995 -0.7699999999999994\n",
      " 0    3011\n",
      " 1    3003\n",
      "-1    2178\n",
      "Name: class_column, dtype: int64\n",
      "0.9599999999999995 -0.7599999999999993\n",
      " 1    3020\n",
      " 0    2984\n",
      "-1    2188\n",
      "Name: class_column, dtype: int64\n",
      "0.9699999999999995 -0.7499999999999993\n",
      " 1    3003\n",
      " 0    2987\n",
      "-1    2202\n",
      "Name: class_column, dtype: int64\n",
      "0.9799999999999995 -0.7399999999999993\n",
      " 0    2997\n",
      " 1    2983\n",
      "-1    2212\n",
      "Name: class_column, dtype: int64\n",
      "0.9699999999999995 -0.7299999999999993\n",
      " 1    3003\n",
      " 0    2962\n",
      "-1    2227\n",
      "Name: class_column, dtype: int64\n",
      "0.9799999999999995 -0.7199999999999993\n",
      " 1    2983\n",
      " 0    2974\n",
      "-1    2235\n",
      "Name: class_column, dtype: int64\n",
      "0.9899999999999995 -0.7099999999999993\n",
      " 0    2984\n",
      " 1    2966\n",
      "-1    2242\n",
      "Name: class_column, dtype: int64\n",
      "0.9799999999999995 -0.6999999999999993\n",
      " 1    2983\n",
      " 0    2956\n",
      "-1    2253\n",
      "Name: class_column, dtype: int64\n",
      "0.9899999999999995 -0.6899999999999993\n",
      " 0    2966\n",
      " 1    2966\n",
      "-1    2260\n",
      "Name: class_column, dtype: int64\n",
      "0.9899999999999995 -0.6799999999999993\n",
      " 1    2966\n",
      " 0    2956\n",
      "-1    2270\n",
      "Name: class_column, dtype: int64\n",
      "0.9999999999999996 -0.6699999999999993\n",
      " 1    2956\n",
      " 0    2951\n",
      "-1    2285\n",
      "Name: class_column, dtype: int64\n",
      "1.0099999999999996 -0.6599999999999993\n",
      " 0    2964\n",
      " 1    2934\n",
      "-1    2294\n",
      "Name: class_column, dtype: int64\n",
      "0.9999999999999996 -0.6499999999999992\n",
      " 1    2956\n",
      " 0    2930\n",
      "-1    2306\n",
      "Name: class_column, dtype: int64\n",
      "1.0099999999999996 -0.6399999999999992\n",
      " 0    2941\n",
      " 1    2934\n",
      "-1    2317\n",
      "Name: class_column, dtype: int64\n",
      "0.9999999999999996 -0.6299999999999992\n",
      " 1    2956\n",
      " 0    2908\n",
      "-1    2328\n",
      "Name: class_column, dtype: int64\n",
      "1.0099999999999996 -0.6199999999999992\n",
      " 1    2934\n",
      " 0    2917\n",
      "-1    2341\n",
      "Name: class_column, dtype: int64\n",
      "1.0199999999999996 -0.6099999999999992\n",
      " 1    2919\n",
      " 0    2916\n",
      "-1    2357\n",
      "Name: class_column, dtype: int64\n",
      "1.0299999999999996 -0.5999999999999992\n",
      " 0    2919\n",
      " 1    2906\n",
      "-1    2367\n",
      "Name: class_column, dtype: int64\n",
      "1.0199999999999996 -0.5899999999999992\n",
      " 1    2919\n",
      " 0    2893\n",
      "-1    2380\n",
      "Name: class_column, dtype: int64\n",
      "1.0299999999999996 -0.5799999999999992\n",
      " 1    2906\n",
      " 0    2894\n",
      "-1    2392\n",
      "Name: class_column, dtype: int64\n",
      "1.0399999999999996 -0.5699999999999992\n",
      " 0    2902\n",
      " 1    2884\n",
      "-1    2406\n",
      "Name: class_column, dtype: int64\n",
      "1.0299999999999996 -0.5599999999999992\n",
      " 1    2906\n",
      " 0    2870\n",
      "-1    2416\n",
      "Name: class_column, dtype: int64\n",
      "1.0399999999999996 -0.5499999999999992\n",
      " 1    2884\n",
      " 0    2880\n",
      "-1    2428\n",
      "Name: class_column, dtype: int64\n",
      "1.0499999999999996 -0.5399999999999991\n",
      " 0    2887\n",
      " 1    2866\n",
      "-1    2439\n",
      "Name: class_column, dtype: int64\n",
      "1.0399999999999996 -0.5299999999999991\n",
      " 1    2884\n",
      " 0    2851\n",
      "-1    2457\n",
      "Name: class_column, dtype: int64\n",
      "1.0499999999999996 -0.5199999999999991\n",
      " 1    2866\n",
      " 0    2852\n",
      "-1    2474\n",
      "Name: class_column, dtype: int64\n",
      "1.0599999999999996 -0.5099999999999991\n",
      " 0    2864\n",
      " 1    2845\n",
      "-1    2483\n",
      "Name: class_column, dtype: int64\n",
      "1.0499999999999996 -0.4999999999999991\n",
      " 1    2866\n",
      " 0    2827\n",
      "-1    2499\n",
      "Name: class_column, dtype: int64\n",
      "1.0599999999999996 -0.4899999999999991\n",
      " 1    2845\n",
      " 0    2841\n",
      "-1    2506\n",
      "Name: class_column, dtype: int64\n",
      "1.0699999999999996 -0.4799999999999991\n",
      " 0    2837\n",
      " 1    2835\n",
      "-1    2520\n",
      "Name: class_column, dtype: int64\n",
      "1.0599999999999996 -0.4699999999999991\n",
      " 1    2845\n",
      " 0    2804\n",
      "-1    2543\n",
      "Name: class_column, dtype: int64\n",
      "1.0699999999999996 -0.4599999999999991\n",
      " 1    2835\n",
      " 0    2799\n",
      "-1    2558\n",
      "Name: class_column, dtype: int64\n",
      "1.0799999999999996 -0.44999999999999907\n",
      " 1    2818\n",
      " 0    2801\n",
      "-1    2573\n",
      "Name: class_column, dtype: int64\n",
      "1.0899999999999996 -0.43999999999999906\n",
      " 1    2811\n",
      " 0    2795\n",
      "-1    2586\n",
      "Name: class_column, dtype: int64\n",
      "1.0999999999999996 -0.42999999999999905\n",
      " 0    2795\n",
      " 1    2791\n",
      "-1    2606\n",
      "Name: class_column, dtype: int64\n",
      "1.0899999999999996 -0.41999999999999904\n",
      " 1    2811\n",
      " 0    2759\n",
      "-1    2622\n",
      "Name: class_column, dtype: int64\n",
      "1.0999999999999996 -0.40999999999999903\n",
      " 1    2791\n",
      " 0    2762\n",
      "-1    2639\n",
      "Name: class_column, dtype: int64\n",
      "1.1099999999999997 -0.399999999999999\n",
      " 1    2772\n",
      " 0    2763\n",
      "-1    2657\n",
      "Name: class_column, dtype: int64\n",
      "1.1199999999999997 -0.389999999999999\n",
      " 0    2765\n",
      " 1    2762\n",
      "-1    2665\n",
      "Name: class_column, dtype: int64\n",
      "1.1099999999999997 -0.379999999999999\n",
      " 1    2772\n",
      " 0    2740\n",
      "-1    2680\n",
      "Name: class_column, dtype: int64\n",
      "1.1199999999999997 -0.369999999999999\n",
      " 1    2762\n",
      " 0    2729\n",
      "-1    2701\n",
      "Name: class_column, dtype: int64\n",
      "1.1299999999999997 -0.359999999999999\n",
      " 1    2742\n",
      " 0    2725\n",
      "-1    2725\n",
      "Name: class_column, dtype: int64\n",
      "1.1399999999999997 -0.359999999999999\n",
      " 0    2742\n",
      " 1    2725\n",
      "-1    2725\n",
      "Name: class_column, dtype: int64\n",
      "1.1299999999999997 -0.349999999999999\n",
      " 1    2742\n",
      "-1    2738\n",
      " 0    2712\n",
      "Name: class_column, dtype: int64\n"
     ]
    },
    {
     "data": {
      "text/plain": "                                 open        high         low       close  \\\nDatetime                                                                    \n2019-05-10 09:30:00-04:00         NaN         NaN         NaN         NaN   \n2019-05-13 09:00:00-04:00   47.315000   47.345000   46.877500   46.877500   \n2019-05-13 09:30:00-04:00   46.927502   47.369999   46.424999   46.791050   \n2019-05-13 10:30:00-04:00   46.792500   47.125000   46.625027   46.799999   \n2019-05-13 11:30:00-04:00   46.794998   46.875252   46.540024   46.646252   \n...                               ...         ...         ...         ...   \n2021-05-10 15:30:00-04:00  127.195000  127.500000  126.809998  126.860001   \n2021-05-10 16:00:00-04:00  126.860000  127.988100  117.824670  126.490000   \n2021-05-10 17:00:00-04:00  126.500000  126.850000  118.090096  126.430000   \n2021-05-10 18:00:00-04:00  126.460000  126.530000  126.300000  126.420000   \n2021-05-10 19:00:00-04:00  126.430000  126.470000  126.300000  126.320000   \n\n                            Adj Close      volume  close_pct  close_shift  \\\nDatetime                                                                    \n2019-05-10 09:30:00-04:00         NaN         NaN        NaN    46.852500   \n2019-05-13 09:00:00-04:00   46.877500         0.0        NaN    46.615000   \n2019-05-13 09:30:00-04:00   46.791050  19332487.0  -0.001844    47.287498   \n2019-05-13 10:30:00-04:00   46.799999   6350368.0   0.000191    47.563423   \n2019-05-13 11:30:00-04:00   46.646252   4536523.0  -0.003285    47.584076   \n...                               ...         ...        ...          ...   \n2021-05-10 15:30:00-04:00  126.860001  11140598.0  -0.002595          NaN   \n2021-05-10 16:00:00-04:00  126.490000         0.0  -0.002917          NaN   \n2021-05-10 17:00:00-04:00  126.430000         0.0  -0.000474          NaN   \n2021-05-10 18:00:00-04:00  126.420000         0.0  -0.000079          NaN   \n2021-05-10 19:00:00-04:00  126.320000         0.0  -0.000791          NaN   \n\n                           class_column  \nDatetime                                 \n2019-05-10 09:30:00-04:00             0  \n2019-05-13 09:00:00-04:00             0  \n2019-05-13 09:30:00-04:00             0  \n2019-05-13 10:30:00-04:00             0  \n2019-05-13 11:30:00-04:00             0  \n...                                 ...  \n2021-05-10 15:30:00-04:00             0  \n2021-05-10 16:00:00-04:00             0  \n2021-05-10 17:00:00-04:00             0  \n2021-05-10 18:00:00-04:00             0  \n2021-05-10 19:00:00-04:00             0  \n\n[8192 rows x 9 columns]",
      "text/html": "<div>\n<style scoped>\n    .dataframe tbody tr th:only-of-type {\n        vertical-align: middle;\n    }\n\n    .dataframe tbody tr th {\n        vertical-align: top;\n    }\n\n    .dataframe thead th {\n        text-align: right;\n    }\n</style>\n<table border=\"1\" class=\"dataframe\">\n  <thead>\n    <tr style=\"text-align: right;\">\n      <th></th>\n      <th>open</th>\n      <th>high</th>\n      <th>low</th>\n      <th>close</th>\n      <th>Adj Close</th>\n      <th>volume</th>\n      <th>close_pct</th>\n      <th>close_shift</th>\n      <th>class_column</th>\n    </tr>\n    <tr>\n      <th>Datetime</th>\n      <th></th>\n      <th></th>\n      <th></th>\n      <th></th>\n      <th></th>\n      <th></th>\n      <th></th>\n      <th></th>\n      <th></th>\n    </tr>\n  </thead>\n  <tbody>\n    <tr>\n      <th>2019-05-10 09:30:00-04:00</th>\n      <td>NaN</td>\n      <td>NaN</td>\n      <td>NaN</td>\n      <td>NaN</td>\n      <td>NaN</td>\n      <td>NaN</td>\n      <td>NaN</td>\n      <td>46.852500</td>\n      <td>0</td>\n    </tr>\n    <tr>\n      <th>2019-05-13 09:00:00-04:00</th>\n      <td>47.315000</td>\n      <td>47.345000</td>\n      <td>46.877500</td>\n      <td>46.877500</td>\n      <td>46.877500</td>\n      <td>0.0</td>\n      <td>NaN</td>\n      <td>46.615000</td>\n      <td>0</td>\n    </tr>\n    <tr>\n      <th>2019-05-13 09:30:00-04:00</th>\n      <td>46.927502</td>\n      <td>47.369999</td>\n      <td>46.424999</td>\n      <td>46.791050</td>\n      <td>46.791050</td>\n      <td>19332487.0</td>\n      <td>-0.001844</td>\n      <td>47.287498</td>\n      <td>0</td>\n    </tr>\n    <tr>\n      <th>2019-05-13 10:30:00-04:00</th>\n      <td>46.792500</td>\n      <td>47.125000</td>\n      <td>46.625027</td>\n      <td>46.799999</td>\n      <td>46.799999</td>\n      <td>6350368.0</td>\n      <td>0.000191</td>\n      <td>47.563423</td>\n      <td>0</td>\n    </tr>\n    <tr>\n      <th>2019-05-13 11:30:00-04:00</th>\n      <td>46.794998</td>\n      <td>46.875252</td>\n      <td>46.540024</td>\n      <td>46.646252</td>\n      <td>46.646252</td>\n      <td>4536523.0</td>\n      <td>-0.003285</td>\n      <td>47.584076</td>\n      <td>0</td>\n    </tr>\n    <tr>\n      <th>...</th>\n      <td>...</td>\n      <td>...</td>\n      <td>...</td>\n      <td>...</td>\n      <td>...</td>\n      <td>...</td>\n      <td>...</td>\n      <td>...</td>\n      <td>...</td>\n    </tr>\n    <tr>\n      <th>2021-05-10 15:30:00-04:00</th>\n      <td>127.195000</td>\n      <td>127.500000</td>\n      <td>126.809998</td>\n      <td>126.860001</td>\n      <td>126.860001</td>\n      <td>11140598.0</td>\n      <td>-0.002595</td>\n      <td>NaN</td>\n      <td>0</td>\n    </tr>\n    <tr>\n      <th>2021-05-10 16:00:00-04:00</th>\n      <td>126.860000</td>\n      <td>127.988100</td>\n      <td>117.824670</td>\n      <td>126.490000</td>\n      <td>126.490000</td>\n      <td>0.0</td>\n      <td>-0.002917</td>\n      <td>NaN</td>\n      <td>0</td>\n    </tr>\n    <tr>\n      <th>2021-05-10 17:00:00-04:00</th>\n      <td>126.500000</td>\n      <td>126.850000</td>\n      <td>118.090096</td>\n      <td>126.430000</td>\n      <td>126.430000</td>\n      <td>0.0</td>\n      <td>-0.000474</td>\n      <td>NaN</td>\n      <td>0</td>\n    </tr>\n    <tr>\n      <th>2021-05-10 18:00:00-04:00</th>\n      <td>126.460000</td>\n      <td>126.530000</td>\n      <td>126.300000</td>\n      <td>126.420000</td>\n      <td>126.420000</td>\n      <td>0.0</td>\n      <td>-0.000079</td>\n      <td>NaN</td>\n      <td>0</td>\n    </tr>\n    <tr>\n      <th>2021-05-10 19:00:00-04:00</th>\n      <td>126.430000</td>\n      <td>126.470000</td>\n      <td>126.300000</td>\n      <td>126.320000</td>\n      <td>126.320000</td>\n      <td>0.0</td>\n      <td>-0.000791</td>\n      <td>NaN</td>\n      <td>0</td>\n    </tr>\n  </tbody>\n</table>\n<p>8192 rows × 9 columns</p>\n</div>"
     },
     "execution_count": 228,
     "metadata": {},
     "output_type": "execute_result"
    }
   ],
   "source": [
    "higher_threshold = 1.5\n",
    "lowest_threshold = -1.5\n",
    "last_values_higher = []\n",
    "last_values_lower = []\n",
    "data['class_column'] = data.apply((lambda x: create_class_column(x, lowest_threshold, higher_threshold)), axis=1)\n",
    "while True:\n",
    "    print(data['class_column'].value_counts())\n",
    "    class_counts = data['class_column'].value_counts()\n",
    "    if abs(class_counts[0] - class_counts[1]) < 15 and abs(class_counts[0] - class_counts[-1]) < 15:\n",
    "        break\n",
    "\n",
    "    if len(last_values_higher) == 3:\n",
    "        last_values_higher.pop(0)\n",
    "    if len(last_values_lower) == 3:\n",
    "        last_values_lower.pop(0)\n",
    "\n",
    "    last_values_higher.append(higher_threshold)\n",
    "    last_values_lower.append(lowest_threshold)\n",
    "    if class_counts[0] > class_counts[1]:\n",
    "        higher_threshold -= 0.01\n",
    "    if class_counts[0] > class_counts[-1]:\n",
    "        lowest_threshold += 0.01\n",
    "    if class_counts[0] < class_counts[1]:\n",
    "        higher_threshold += 0.01\n",
    "    if class_counts[0] < class_counts[-1]:\n",
    "        lowest_threshold -= 0.01\n",
    "\n",
    "    if higher_threshold in last_values_higher and lowest_threshold in last_values_lower:\n",
    "        break\n",
    "    print(higher_threshold, lowest_threshold)\n",
    "    data['class_column'] = data.apply((lambda x: create_class_column(x, lowest_threshold, higher_threshold)), axis=1)\n",
    "\n",
    "data"
   ],
   "metadata": {
    "collapsed": false,
    "pycharm": {
     "name": "#%%\n"
    }
   }
  },
  {
   "cell_type": "code",
   "execution_count": 229,
   "outputs": [
    {
     "data": {
      "text/plain": " 1    2742\n-1    2738\n 0    2712\nName: class_column, dtype: int64"
     },
     "execution_count": 229,
     "metadata": {},
     "output_type": "execute_result"
    }
   ],
   "source": [
    "# Class divide\n",
    "data['class_column'].value_counts()"
   ],
   "metadata": {
    "collapsed": false,
    "pycharm": {
     "name": "#%%\n"
    }
   }
  },
  {
   "cell_type": "code",
   "execution_count": 230,
   "outputs": [
    {
     "name": "stderr",
     "output_type": "stream",
     "text": [
      "C:\\Users\\exomat\\anaconda3\\envs\\magisterka_analiza\\lib\\site-packages\\ta\\trend.py:768: RuntimeWarning: invalid value encountered in double_scalars\n",
      "  dip[i] = 100 * (self._dip[i] / self._trs[i])\n",
      "C:\\Users\\exomat\\anaconda3\\envs\\magisterka_analiza\\lib\\site-packages\\ta\\trend.py:772: RuntimeWarning: invalid value encountered in double_scalars\n",
      "  din[i] = 100 * (self._din[i] / self._trs[i])\n"
     ]
    },
    {
     "data": {
      "text/plain": "                                 open        high         low       close  \\\nDatetime                                                                    \n2019-05-10 09:30:00-04:00         NaN         NaN         NaN         NaN   \n2019-05-13 09:00:00-04:00   47.315000   47.345000   46.877500   46.877500   \n2019-05-13 09:30:00-04:00   46.927502   47.369999   46.424999   46.791050   \n2019-05-13 10:30:00-04:00   46.792500   47.125000   46.625027   46.799999   \n2019-05-13 11:30:00-04:00   46.794998   46.875252   46.540024   46.646252   \n...                               ...         ...         ...         ...   \n2021-05-10 15:30:00-04:00  127.195000  127.500000  126.809998  126.860001   \n2021-05-10 16:00:00-04:00  126.860000  127.988100  117.824670  126.490000   \n2021-05-10 17:00:00-04:00  126.500000  126.850000  118.090096  126.430000   \n2021-05-10 18:00:00-04:00  126.460000  126.530000  126.300000  126.420000   \n2021-05-10 19:00:00-04:00  126.430000  126.470000  126.300000  126.320000   \n\n                            Adj Close      volume  close_pct  close_shift  \\\nDatetime                                                                    \n2019-05-10 09:30:00-04:00         NaN         NaN        NaN    46.852500   \n2019-05-13 09:00:00-04:00   46.877500         0.0        NaN    46.615000   \n2019-05-13 09:30:00-04:00   46.791050  19332487.0  -0.001844    47.287498   \n2019-05-13 10:30:00-04:00   46.799999   6350368.0   0.000191    47.563423   \n2019-05-13 11:30:00-04:00   46.646252   4536523.0  -0.003285    47.584076   \n...                               ...         ...        ...          ...   \n2021-05-10 15:30:00-04:00  126.860001  11140598.0  -0.002595          NaN   \n2021-05-10 16:00:00-04:00  126.490000         0.0  -0.002917          NaN   \n2021-05-10 17:00:00-04:00  126.430000         0.0  -0.000474          NaN   \n2021-05-10 18:00:00-04:00  126.420000         0.0  -0.000079          NaN   \n2021-05-10 19:00:00-04:00  126.320000         0.0  -0.000791          NaN   \n\n                           class_column    volume_adi  ...  momentum_wr  \\\nDatetime                                               ...                \n2019-05-10 09:30:00-04:00             0  0.000000e+00  ...   -50.000000   \n2019-05-13 09:00:00-04:00             0  0.000000e+00  ...  -100.000000   \n2019-05-13 09:30:00-04:00             0 -4.355401e+06  ...   -61.264462   \n2019-05-13 10:30:00-04:00             0 -6.260972e+06  ...   -60.317448   \n2019-05-13 11:30:00-04:00             0 -7.922405e+06  ...   -76.587036   \n...                                 ...           ...  ...          ...   \n2021-05-10 15:30:00-04:00             0  1.167455e+09  ...   -98.641222   \n2021-05-10 16:00:00-04:00             0  1.167455e+09  ...   -30.484552   \n2021-05-10 17:00:00-04:00             0  1.167455e+09  ...   -30.519978   \n2021-05-10 18:00:00-04:00             0  1.167455e+09  ...   -30.600719   \n2021-05-10 19:00:00-04:00             0  1.167455e+09  ...   -31.408126   \n\n                           momentum_ao  momentum_kama  momentum_roc  \\\nDatetime                                                              \n2019-05-10 09:30:00-04:00     0.000000            NaN      0.000000   \n2019-05-13 09:00:00-04:00     0.000000   4.687750e+01      0.000000   \n2019-05-13 09:30:00-04:00     0.000000  -2.780269e+04      0.000000   \n2019-05-13 10:30:00-04:00     0.000000   7.173760e+09      0.000000   \n2019-05-13 11:30:00-04:00     0.000000  -2.720108e+14      0.000000   \n...                                ...            ...           ...   \n2021-05-10 15:30:00-04:00    -1.837292   9.249230e+30     -2.392859   \n2021-05-10 16:00:00-04:00    -2.738953   9.249230e+30     -2.550077   \n2021-05-10 17:00:00-04:00    -3.791732   9.249230e+30     -2.783545   \n2021-05-10 18:00:00-04:00    -3.939819   9.249230e+30     -2.761326   \n2021-05-10 19:00:00-04:00    -3.973584   9.249230e+30     -2.696041   \n\n                           momentum_ppo  momentum_ppo_signal  \\\nDatetime                                                       \n2019-05-10 09:30:00-04:00      0.000000             0.000000   \n2019-05-13 09:00:00-04:00      0.000000             0.000000   \n2019-05-13 09:30:00-04:00    107.692308           107.692308   \n2019-05-13 10:30:00-04:00     94.484442           105.050735   \n2019-05-13 11:30:00-04:00     82.764981           100.593584   \n...                                 ...                  ...   \n2021-05-10 15:30:00-04:00     28.297455            11.574367   \n2021-05-10 16:00:00-04:00     17.244135            12.708321   \n2021-05-10 17:00:00-04:00      7.143102            11.595277   \n2021-05-10 18:00:00-04:00     -2.087688             8.858684   \n2021-05-10 19:00:00-04:00    -10.523210             4.982305   \n\n                           momentum_ppo_hist  others_dr  others_dlr  others_cr  \nDatetime                                                                        \n2019-05-10 09:30:00-04:00           0.000000   0.000000    0.000000       -1.0  \n2019-05-13 09:00:00-04:00           0.000000   0.000000    0.000000       -1.0  \n2019-05-13 09:30:00-04:00           0.000000  -0.184417   -0.184587       -1.0  \n2019-05-13 10:30:00-04:00         -10.566293   0.019126    0.019124       -1.0  \n2019-05-13 11:30:00-04:00         -17.828603  -0.328520   -0.329061       -1.0  \n...                                      ...        ...         ...        ...  \n2021-05-10 15:30:00-04:00          16.723087  -0.259456   -0.259793       -1.0  \n2021-05-10 16:00:00-04:00           4.535815  -0.291661   -0.292087       -1.0  \n2021-05-10 17:00:00-04:00          -4.452175  -0.047435   -0.047446       -1.0  \n2021-05-10 18:00:00-04:00         -10.946372  -0.007910   -0.007910       -1.0  \n2021-05-10 19:00:00-04:00         -15.505516  -0.079101   -0.079133       -1.0  \n\n[8192 rows x 92 columns]",
      "text/html": "<div>\n<style scoped>\n    .dataframe tbody tr th:only-of-type {\n        vertical-align: middle;\n    }\n\n    .dataframe tbody tr th {\n        vertical-align: top;\n    }\n\n    .dataframe thead th {\n        text-align: right;\n    }\n</style>\n<table border=\"1\" class=\"dataframe\">\n  <thead>\n    <tr style=\"text-align: right;\">\n      <th></th>\n      <th>open</th>\n      <th>high</th>\n      <th>low</th>\n      <th>close</th>\n      <th>Adj Close</th>\n      <th>volume</th>\n      <th>close_pct</th>\n      <th>close_shift</th>\n      <th>class_column</th>\n      <th>volume_adi</th>\n      <th>...</th>\n      <th>momentum_wr</th>\n      <th>momentum_ao</th>\n      <th>momentum_kama</th>\n      <th>momentum_roc</th>\n      <th>momentum_ppo</th>\n      <th>momentum_ppo_signal</th>\n      <th>momentum_ppo_hist</th>\n      <th>others_dr</th>\n      <th>others_dlr</th>\n      <th>others_cr</th>\n    </tr>\n    <tr>\n      <th>Datetime</th>\n      <th></th>\n      <th></th>\n      <th></th>\n      <th></th>\n      <th></th>\n      <th></th>\n      <th></th>\n      <th></th>\n      <th></th>\n      <th></th>\n      <th></th>\n      <th></th>\n      <th></th>\n      <th></th>\n      <th></th>\n      <th></th>\n      <th></th>\n      <th></th>\n      <th></th>\n      <th></th>\n      <th></th>\n    </tr>\n  </thead>\n  <tbody>\n    <tr>\n      <th>2019-05-10 09:30:00-04:00</th>\n      <td>NaN</td>\n      <td>NaN</td>\n      <td>NaN</td>\n      <td>NaN</td>\n      <td>NaN</td>\n      <td>NaN</td>\n      <td>NaN</td>\n      <td>46.852500</td>\n      <td>0</td>\n      <td>0.000000e+00</td>\n      <td>...</td>\n      <td>-50.000000</td>\n      <td>0.000000</td>\n      <td>NaN</td>\n      <td>0.000000</td>\n      <td>0.000000</td>\n      <td>0.000000</td>\n      <td>0.000000</td>\n      <td>0.000000</td>\n      <td>0.000000</td>\n      <td>-1.0</td>\n    </tr>\n    <tr>\n      <th>2019-05-13 09:00:00-04:00</th>\n      <td>47.315000</td>\n      <td>47.345000</td>\n      <td>46.877500</td>\n      <td>46.877500</td>\n      <td>46.877500</td>\n      <td>0.0</td>\n      <td>NaN</td>\n      <td>46.615000</td>\n      <td>0</td>\n      <td>0.000000e+00</td>\n      <td>...</td>\n      <td>-100.000000</td>\n      <td>0.000000</td>\n      <td>4.687750e+01</td>\n      <td>0.000000</td>\n      <td>0.000000</td>\n      <td>0.000000</td>\n      <td>0.000000</td>\n      <td>0.000000</td>\n      <td>0.000000</td>\n      <td>-1.0</td>\n    </tr>\n    <tr>\n      <th>2019-05-13 09:30:00-04:00</th>\n      <td>46.927502</td>\n      <td>47.369999</td>\n      <td>46.424999</td>\n      <td>46.791050</td>\n      <td>46.791050</td>\n      <td>19332487.0</td>\n      <td>-0.001844</td>\n      <td>47.287498</td>\n      <td>0</td>\n      <td>-4.355401e+06</td>\n      <td>...</td>\n      <td>-61.264462</td>\n      <td>0.000000</td>\n      <td>-2.780269e+04</td>\n      <td>0.000000</td>\n      <td>107.692308</td>\n      <td>107.692308</td>\n      <td>0.000000</td>\n      <td>-0.184417</td>\n      <td>-0.184587</td>\n      <td>-1.0</td>\n    </tr>\n    <tr>\n      <th>2019-05-13 10:30:00-04:00</th>\n      <td>46.792500</td>\n      <td>47.125000</td>\n      <td>46.625027</td>\n      <td>46.799999</td>\n      <td>46.799999</td>\n      <td>6350368.0</td>\n      <td>0.000191</td>\n      <td>47.563423</td>\n      <td>0</td>\n      <td>-6.260972e+06</td>\n      <td>...</td>\n      <td>-60.317448</td>\n      <td>0.000000</td>\n      <td>7.173760e+09</td>\n      <td>0.000000</td>\n      <td>94.484442</td>\n      <td>105.050735</td>\n      <td>-10.566293</td>\n      <td>0.019126</td>\n      <td>0.019124</td>\n      <td>-1.0</td>\n    </tr>\n    <tr>\n      <th>2019-05-13 11:30:00-04:00</th>\n      <td>46.794998</td>\n      <td>46.875252</td>\n      <td>46.540024</td>\n      <td>46.646252</td>\n      <td>46.646252</td>\n      <td>4536523.0</td>\n      <td>-0.003285</td>\n      <td>47.584076</td>\n      <td>0</td>\n      <td>-7.922405e+06</td>\n      <td>...</td>\n      <td>-76.587036</td>\n      <td>0.000000</td>\n      <td>-2.720108e+14</td>\n      <td>0.000000</td>\n      <td>82.764981</td>\n      <td>100.593584</td>\n      <td>-17.828603</td>\n      <td>-0.328520</td>\n      <td>-0.329061</td>\n      <td>-1.0</td>\n    </tr>\n    <tr>\n      <th>...</th>\n      <td>...</td>\n      <td>...</td>\n      <td>...</td>\n      <td>...</td>\n      <td>...</td>\n      <td>...</td>\n      <td>...</td>\n      <td>...</td>\n      <td>...</td>\n      <td>...</td>\n      <td>...</td>\n      <td>...</td>\n      <td>...</td>\n      <td>...</td>\n      <td>...</td>\n      <td>...</td>\n      <td>...</td>\n      <td>...</td>\n      <td>...</td>\n      <td>...</td>\n      <td>...</td>\n    </tr>\n    <tr>\n      <th>2021-05-10 15:30:00-04:00</th>\n      <td>127.195000</td>\n      <td>127.500000</td>\n      <td>126.809998</td>\n      <td>126.860001</td>\n      <td>126.860001</td>\n      <td>11140598.0</td>\n      <td>-0.002595</td>\n      <td>NaN</td>\n      <td>0</td>\n      <td>1.167455e+09</td>\n      <td>...</td>\n      <td>-98.641222</td>\n      <td>-1.837292</td>\n      <td>9.249230e+30</td>\n      <td>-2.392859</td>\n      <td>28.297455</td>\n      <td>11.574367</td>\n      <td>16.723087</td>\n      <td>-0.259456</td>\n      <td>-0.259793</td>\n      <td>-1.0</td>\n    </tr>\n    <tr>\n      <th>2021-05-10 16:00:00-04:00</th>\n      <td>126.860000</td>\n      <td>127.988100</td>\n      <td>117.824670</td>\n      <td>126.490000</td>\n      <td>126.490000</td>\n      <td>0.0</td>\n      <td>-0.002917</td>\n      <td>NaN</td>\n      <td>0</td>\n      <td>1.167455e+09</td>\n      <td>...</td>\n      <td>-30.484552</td>\n      <td>-2.738953</td>\n      <td>9.249230e+30</td>\n      <td>-2.550077</td>\n      <td>17.244135</td>\n      <td>12.708321</td>\n      <td>4.535815</td>\n      <td>-0.291661</td>\n      <td>-0.292087</td>\n      <td>-1.0</td>\n    </tr>\n    <tr>\n      <th>2021-05-10 17:00:00-04:00</th>\n      <td>126.500000</td>\n      <td>126.850000</td>\n      <td>118.090096</td>\n      <td>126.430000</td>\n      <td>126.430000</td>\n      <td>0.0</td>\n      <td>-0.000474</td>\n      <td>NaN</td>\n      <td>0</td>\n      <td>1.167455e+09</td>\n      <td>...</td>\n      <td>-30.519978</td>\n      <td>-3.791732</td>\n      <td>9.249230e+30</td>\n      <td>-2.783545</td>\n      <td>7.143102</td>\n      <td>11.595277</td>\n      <td>-4.452175</td>\n      <td>-0.047435</td>\n      <td>-0.047446</td>\n      <td>-1.0</td>\n    </tr>\n    <tr>\n      <th>2021-05-10 18:00:00-04:00</th>\n      <td>126.460000</td>\n      <td>126.530000</td>\n      <td>126.300000</td>\n      <td>126.420000</td>\n      <td>126.420000</td>\n      <td>0.0</td>\n      <td>-0.000079</td>\n      <td>NaN</td>\n      <td>0</td>\n      <td>1.167455e+09</td>\n      <td>...</td>\n      <td>-30.600719</td>\n      <td>-3.939819</td>\n      <td>9.249230e+30</td>\n      <td>-2.761326</td>\n      <td>-2.087688</td>\n      <td>8.858684</td>\n      <td>-10.946372</td>\n      <td>-0.007910</td>\n      <td>-0.007910</td>\n      <td>-1.0</td>\n    </tr>\n    <tr>\n      <th>2021-05-10 19:00:00-04:00</th>\n      <td>126.430000</td>\n      <td>126.470000</td>\n      <td>126.300000</td>\n      <td>126.320000</td>\n      <td>126.320000</td>\n      <td>0.0</td>\n      <td>-0.000791</td>\n      <td>NaN</td>\n      <td>0</td>\n      <td>1.167455e+09</td>\n      <td>...</td>\n      <td>-31.408126</td>\n      <td>-3.973584</td>\n      <td>9.249230e+30</td>\n      <td>-2.696041</td>\n      <td>-10.523210</td>\n      <td>4.982305</td>\n      <td>-15.505516</td>\n      <td>-0.079101</td>\n      <td>-0.079133</td>\n      <td>-1.0</td>\n    </tr>\n  </tbody>\n</table>\n<p>8192 rows × 92 columns</p>\n</div>"
     },
     "execution_count": 230,
     "metadata": {},
     "output_type": "execute_result"
    }
   ],
   "source": [
    "data = _get_indicator_data(data)\n",
    "data"
   ],
   "metadata": {
    "collapsed": false,
    "pycharm": {
     "name": "#%%\n"
    }
   }
  },
  {
   "cell_type": "code",
   "execution_count": 231,
   "outputs": [
    {
     "name": "stdout",
     "output_type": "stream",
     "text": [
      "../data/preprocess_new/AAPL_2y_34_11_05_2021 09_07_15_full.csv\n"
     ]
    }
   ],
   "source": [
    "filename_to_export = f'../data/preprocess_new/{symbol}_{INTERVAL}_{WINDOW}_{ datetime.now().strftime(\"%d_%m_%Y %H_%M_%S\")}_full.csv'\n",
    "data.to_csv(filename_to_export, index=True)\n",
    "print(filename_to_export)"
   ],
   "metadata": {
    "collapsed": false,
    "pycharm": {
     "name": "#%%\n"
    }
   }
  },
  {
   "cell_type": "code",
   "execution_count": 231,
   "outputs": [],
   "source": [],
   "metadata": {
    "collapsed": false,
    "pycharm": {
     "name": "#%%\n"
    }
   }
  }
 ],
 "metadata": {
  "kernelspec": {
   "display_name": "Python 3",
   "language": "python",
   "name": "python3"
  },
  "language_info": {
   "codemirror_mode": {
    "name": "ipython",
    "version": 2
   },
   "file_extension": ".py",
   "mimetype": "text/x-python",
   "name": "python",
   "nbconvert_exporter": "python",
   "pygments_lexer": "ipython2",
   "version": "2.7.6"
  }
 },
 "nbformat": 4,
 "nbformat_minor": 0
}